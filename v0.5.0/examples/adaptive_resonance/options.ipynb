{
 "cells": [
  {
   "cell_type": "markdown",
   "source": [
    "## Overview"
   ],
   "metadata": {}
  },
  {
   "cell_type": "markdown",
   "source": [
    "The `AdaptiveResonance.jl` package has several ways of handling options for ART modules.\n",
    "These methods are meant to give maximum flexibility to the user for sharing and interpreting options, which themselves vary between each module."
   ],
   "metadata": {}
  },
  {
   "cell_type": "markdown",
   "source": [
    "!!! note\n",
    "    For more info on options in ART modules, see the guide in the docs on ART options."
   ],
   "metadata": {}
  },
  {
   "cell_type": "markdown",
   "source": [
    "## ART Options"
   ],
   "metadata": {}
  },
  {
   "cell_type": "markdown",
   "source": [
    "To get a feel for the ART options system, we will inspect different options and their instantiation methods."
   ],
   "metadata": {}
  },
  {
   "cell_type": "markdown",
   "source": [
    "### Inspection"
   ],
   "metadata": {}
  },
  {
   "cell_type": "markdown",
   "source": [
    "First, we load `AdaptiveResonance`:"
   ],
   "metadata": {}
  },
  {
   "outputs": [],
   "cell_type": "code",
   "source": [
    "using AdaptiveResonance"
   ],
   "metadata": {},
   "execution_count": 1
  },
  {
   "cell_type": "markdown",
   "source": [
    "Every ART module has a default constructor, which can be instantiated in the usual way:"
   ],
   "metadata": {}
  },
  {
   "outputs": [
    {
     "output_type": "execute_result",
     "data": {
      "text/plain": "FuzzyART"
     },
     "metadata": {},
     "execution_count": 2
    }
   ],
   "cell_type": "code",
   "source": [
    "# Create a FuzzyART module with default options\n",
    "my_fuzzyart = FuzzyART()\n",
    "typeof(my_fuzzyart)"
   ],
   "metadata": {},
   "execution_count": 2
  },
  {
   "cell_type": "markdown",
   "source": [
    "Within every ART module is a [Parameters.jl](https://github.com/mauro3/Parameters.jl) struct named `opts` containing the options for the module"
   ],
   "metadata": {}
  },
  {
   "outputs": [
    {
     "output_type": "execute_result",
     "data": {
      "text/plain": "opts_FuzzyART\n  rho: Float64 0.6\n  alpha: Float64 0.001\n  beta: Float64 1.0\n  gamma: Float64 3.0\n  gamma_ref: Float64 1.0\n  display: Bool true\n  max_epochs: Int64 1\n  gamma_normalization: Bool false\n"
     },
     "metadata": {},
     "execution_count": 3
    }
   ],
   "cell_type": "code",
   "source": [
    "# Check the FuzzyART options\n",
    "my_fuzzyart.opts"
   ],
   "metadata": {},
   "execution_count": 3
  },
  {
   "cell_type": "markdown",
   "source": [
    "Note that the options here have the type `opts_FuzzyART`.\n",
    "This nomenclature is used throughout the module to indicate an options type associated with an ART module.\n",
    "For example, the options for a DDVFA module are `opts_DDVFA`:"
   ],
   "metadata": {}
  },
  {
   "outputs": [
    {
     "output_type": "execute_result",
     "data": {
      "text/plain": "opts_DDVFA"
     },
     "metadata": {},
     "execution_count": 4
    }
   ],
   "cell_type": "code",
   "source": [
    "# Create a DDVFA module and check the type of the options\n",
    "my_ddvfa = DDVFA()\n",
    "typeof(my_ddvfa.opts)"
   ],
   "metadata": {},
   "execution_count": 4
  },
  {
   "cell_type": "markdown",
   "source": [
    "In fact, we can create an instance of these options with a default constructor:"
   ],
   "metadata": {}
  },
  {
   "outputs": [
    {
     "output_type": "execute_result",
     "data": {
      "text/plain": "opts_FuzzyART\n  rho: Float64 0.6\n  alpha: Float64 0.001\n  beta: Float64 1.0\n  gamma: Float64 3.0\n  gamma_ref: Float64 1.0\n  display: Bool true\n  max_epochs: Int64 1\n  gamma_normalization: Bool false\n"
     },
     "metadata": {},
     "execution_count": 5
    }
   ],
   "cell_type": "code",
   "source": [
    "# Create a separate options struct\n",
    "my_fuzzyart_opts = opts_FuzzyART()"
   ],
   "metadata": {},
   "execution_count": 5
  },
  {
   "cell_type": "markdown",
   "source": [
    "In addition to the default constructor, we can construct ART modules by instantiating these options and passing them to the module during construction:"
   ],
   "metadata": {}
  },
  {
   "outputs": [
    {
     "output_type": "execute_result",
     "data": {
      "text/plain": "FuzzyART(opts_FuzzyART\n  rho: Float64 0.6\n  alpha: Float64 0.001\n  beta: Float64 1.0\n  gamma: Float64 3.0\n  gamma_ref: Float64 1.0\n  display: Bool true\n  max_epochs: Int64 1\n  gamma_normalization: Bool false\n, DataConfig(false, Float64[], Float64[], 0, 0), 0.0, Int64[], Float64[], Float64[], Array{Float64}(undef,0,0), Int64[], 0, 0)"
     },
     "metadata": {},
     "execution_count": 6
    }
   ],
   "cell_type": "code",
   "source": [
    "# Instantiate an ART module by passing our options\n",
    "my_fuzzyart = FuzzyART(my_fuzzyart_opts)\n",
    "my_other_fuzzyart = FuzzyART(my_fuzzyart_opts)"
   ],
   "metadata": {},
   "execution_count": 6
  },
  {
   "cell_type": "markdown",
   "source": [
    "### Specifying Options"
   ],
   "metadata": {}
  },
  {
   "cell_type": "markdown",
   "source": [
    "Now to the good stuff: because of the behavior of the `Parameters.jl` type, each option has a default value that we can modify during instantiation with keyword arguments:"
   ],
   "metadata": {}
  },
  {
   "outputs": [
    {
     "output_type": "execute_result",
     "data": {
      "text/plain": "FuzzyART(opts_FuzzyART\n  rho: Float64 0.6\n  alpha: Float64 0.001\n  beta: Float64 1.0\n  gamma: Float64 3.0\n  gamma_ref: Float64 1.0\n  display: Bool true\n  max_epochs: Int64 1\n  gamma_normalization: Bool true\n, DataConfig(false, Float64[], Float64[], 0, 0), 0.0, Int64[], Float64[], Float64[], Array{Float64}(undef,0,0), Int64[], 0, 0)"
     },
     "metadata": {},
     "execution_count": 7
    }
   ],
   "cell_type": "code",
   "source": [
    "# Change some of the default FuzzyART options\n",
    "my_fuzzyart_opts = opts_FuzzyART(\n",
    "    rho=0.6,\n",
    "    gamma_normalization=true\n",
    ")\n",
    "my_fuzzyart = FuzzyART(my_fuzzyart_opts)"
   ],
   "metadata": {},
   "execution_count": 7
  },
  {
   "cell_type": "markdown",
   "source": [
    "As some syntactic sugar, we can pass these keyword arguments directly to the module during instantiation if we have no need to share option structs:"
   ],
   "metadata": {}
  },
  {
   "outputs": [
    {
     "output_type": "execute_result",
     "data": {
      "text/plain": "FuzzyART(opts_FuzzyART\n  rho: Float64 0.6\n  alpha: Float64 0.001\n  beta: Float64 1.0\n  gamma: Float64 3.0\n  gamma_ref: Float64 1.0\n  display: Bool true\n  max_epochs: Int64 1\n  gamma_normalization: Bool true\n, DataConfig(false, Float64[], Float64[], 0, 0), 0.0, Int64[], Float64[], Float64[], Array{Float64}(undef,0,0), Int64[], 0, 0)"
     },
     "metadata": {},
     "execution_count": 8
    }
   ],
   "cell_type": "code",
   "source": [
    "# Pass these keyword arguments to the module directly\n",
    "my_fuzzyart = FuzzyART(\n",
    "    rho=0.6,\n",
    "    gamma_normalization=true\n",
    ")"
   ],
   "metadata": {},
   "execution_count": 8
  },
  {
   "cell_type": "markdown",
   "source": [
    "Before training, we can also instantiate the model and alter the options afterward:"
   ],
   "metadata": {}
  },
  {
   "outputs": [
    {
     "output_type": "execute_result",
     "data": {
      "text/plain": "0.6"
     },
     "metadata": {},
     "execution_count": 9
    }
   ],
   "cell_type": "code",
   "source": [
    "my_fuzzyart = FuzzyART()\n",
    "my_fuzzyart.opts.rho=0.6"
   ],
   "metadata": {},
   "execution_count": 9
  },
  {
   "cell_type": "markdown",
   "source": [
    "!!! note\n",
    "    All ART modules are designed to use this options struct internally when the parameters are needed.\n",
    "    It is possible to change these parameters in the middle of training and evaluation, but some algorithmic instability may occur."
   ],
   "metadata": {}
  },
  {
   "cell_type": "markdown",
   "source": [
    "## Comparison"
   ],
   "metadata": {}
  },
  {
   "cell_type": "markdown",
   "source": [
    "To see the effect that changing these parameters has on the modules, we can train and test them side-by-side."
   ],
   "metadata": {}
  },
  {
   "cell_type": "markdown",
   "source": [
    "We begin with importing AdaptiveResonance for the ART modules and MLDatasets for some data utilities."
   ],
   "metadata": {}
  },
  {
   "outputs": [],
   "cell_type": "code",
   "source": [
    "using MLDatasets        # Iris dataset\n",
    "using MLDataUtils       # Shuffling and splitting\n",
    "using Printf            # Formatted number printing\n",
    "using MultivariateStats # Principal component analysis (PCA)\n",
    "using Plots             # Plotting"
   ],
   "metadata": {},
   "execution_count": 10
  },
  {
   "cell_type": "markdown",
   "source": [
    "We will download the Iris dataset for its small size and benchmark use for clustering algorithms."
   ],
   "metadata": {}
  },
  {
   "outputs": [
    {
     "output_type": "execute_result",
     "data": {
      "text/plain": "([5.1 4.9 … 6.2 5.9; 3.5 3.0 … 3.4 3.0; 1.4 1.4 … 5.4 5.1; 0.2 0.2 … 2.3 1.8], [\"Iris-setosa\", \"Iris-setosa\", \"Iris-setosa\", \"Iris-setosa\", \"Iris-setosa\", \"Iris-setosa\", \"Iris-setosa\", \"Iris-setosa\", \"Iris-setosa\", \"Iris-setosa\"  …  \"Iris-virginica\", \"Iris-virginica\", \"Iris-virginica\", \"Iris-virginica\", \"Iris-virginica\", \"Iris-virginica\", \"Iris-virginica\", \"Iris-virginica\", \"Iris-virginica\", \"Iris-virginica\"])"
     },
     "metadata": {},
     "execution_count": 11
    }
   ],
   "cell_type": "code",
   "source": [
    "Iris.download(i_accept_the_terms_of_use=true)\n",
    "features, labels = Iris.features(), Iris.labels()"
   ],
   "metadata": {},
   "execution_count": 11
  },
  {
   "cell_type": "markdown",
   "source": [
    "Because the MLDatasets package gives us Iris labels as strings, we will use the `MLDataUtils.convertlabel` method with the `MLLabelUtils.LabelEnc.Indices` type to get a list of integers representing each class:"
   ],
   "metadata": {}
  },
  {
   "outputs": [
    {
     "output_type": "execute_result",
     "data": {
      "text/plain": "3-element Array{Int64,1}:\n 1\n 2\n 3"
     },
     "metadata": {},
     "execution_count": 12
    }
   ],
   "cell_type": "code",
   "source": [
    "labels = convertlabel(LabelEnc.Indices{Int}, labels)\n",
    "unique(labels)"
   ],
   "metadata": {},
   "execution_count": 12
  },
  {
   "cell_type": "markdown",
   "source": [
    "Next, we will create a train/test split with the `MLDataUtils.stratifiedobs` utility:"
   ],
   "metadata": {}
  },
  {
   "outputs": [
    {
     "output_type": "execute_result",
     "data": {
      "text/plain": "(([5.5 5.0 … 6.3 5.4; 4.2 3.5 … 2.9 3.9; 1.4 1.3 … 5.6 1.7; 0.2 0.3 … 1.8 0.4], [1, 1, 2, 2, 2, 1, 1, 1, 1, 3  …  3, 1, 2, 2, 3, 2, 2, 2, 3, 1]), ([5.4 5.8 … 5.1 6.1; 3.0 2.6 … 3.8 2.8; 4.5 4.0 … 1.5 4.0; 1.5 1.2 … 0.3 1.3], [2, 2, 3, 3, 3, 1, 1, 3, 3, 1  …  3, 1, 2, 1, 1, 1, 3, 3, 1, 2]))"
     },
     "metadata": {},
     "execution_count": 13
    }
   ],
   "cell_type": "code",
   "source": [
    "(X_train, y_train), (X_test, y_test) = stratifiedobs((features, labels))"
   ],
   "metadata": {},
   "execution_count": 13
  },
  {
   "cell_type": "markdown",
   "source": [
    "Now we can create several FuzzyART modules with different options."
   ],
   "metadata": {}
  },
  {
   "outputs": [
    {
     "output_type": "execute_result",
     "data": {
      "text/plain": "FuzzyART(opts_FuzzyART\n  rho: Float64 0.7\n  alpha: Float64 0.001\n  beta: Float64 1.0\n  gamma: Float64 3.0\n  gamma_ref: Float64 1.0\n  display: Bool false\n  max_epochs: Int64 1\n  gamma_normalization: Bool false\n, DataConfig(false, Float64[], Float64[], 0, 0), 0.0, Int64[], Float64[], Float64[], Array{Float64}(undef,0,0), Int64[], 0, 0)"
     },
     "metadata": {},
     "execution_count": 14
    }
   ],
   "cell_type": "code",
   "source": [
    "# Create two FuzzyARTs with different vigilance values and suppressing logging messages\n",
    "rho_1 = 0.5\n",
    "rho_2 = 0.7\n",
    "my_fuzzyart_1 = FuzzyART(rho=rho_1, display=false)\n",
    "my_fuzzyart_2 = FuzzyART(rho=rho_2, display=false)"
   ],
   "metadata": {},
   "execution_count": 14
  },
  {
   "cell_type": "markdown",
   "source": [
    "Here, we will train these FuzzyART modules in simple supervised mode by passing the supervised labels as a keyword argument:"
   ],
   "metadata": {}
  },
  {
   "outputs": [
    {
     "output_type": "execute_result",
     "data": {
      "text/plain": "105-element Array{Int64,1}:\n 1\n 1\n 2\n 2\n 2\n 1\n 1\n 1\n 1\n 3\n ⋮\n 1\n 2\n 2\n 3\n 2\n 2\n 2\n 3\n 1"
     },
     "metadata": {},
     "execution_count": 15
    }
   ],
   "cell_type": "code",
   "source": [
    "# Train in simple supervised mode by passing the labels as a keyword argument.\n",
    "y_hat_train_1 = train!(my_fuzzyart_1, X_train, y=y_train)\n",
    "y_hat_train_2 = train!(my_fuzzyart_2, X_train, y=y_train)"
   ],
   "metadata": {},
   "execution_count": 15
  },
  {
   "cell_type": "markdown",
   "source": [
    "We then classify the test data with both modules:"
   ],
   "metadata": {}
  },
  {
   "outputs": [
    {
     "name": "stdout",
     "output_type": "stream",
     "text": [
      "FuzzyART 1 labels: (45,) Array{Int64,1}\n",
      "FuzzyART 2 labels: (45,) Array{Int64,1}\n",
      "Testing performance rho=0.5: 0.9556\n",
      "Testing performance rho=0.7: 0.9556\n"
     ]
    }
   ],
   "cell_type": "code",
   "source": [
    "y_hat_1 = AdaptiveResonance.classify(my_fuzzyart_1, X_test, get_bmu=true)\n",
    "y_hat_2 = AdaptiveResonance.classify(my_fuzzyart_2, X_test, get_bmu=true)\n",
    "\n",
    "# Check the shape and type of the output labels\n",
    "println(\"FuzzyART 1 labels: \",  size(y_hat_1), \" \", typeof(y_hat_1))\n",
    "println(\"FuzzyART 2 labels: \",  size(y_hat_2), \" \", typeof(y_hat_2))\n",
    "\n",
    "# Calculate the performance on the test data\n",
    "perf_test_1 = performance(y_hat_1, y_test)\n",
    "perf_test_2 = performance(y_hat_2, y_test)\n",
    "\n",
    "# Format each performance number for comparison\n",
    "@printf \"Testing performance rho=%.1f: %.4f\\n\" rho_1 perf_test_1\n",
    "@printf \"Testing performance rho=%.1f: %.4f\\n\" rho_2 perf_test_2"
   ],
   "metadata": {},
   "execution_count": 16
  },
  {
   "cell_type": "markdown",
   "source": [
    "In addition to having different performances, we can see that there is a subsequent trade-off in the number of categories used:"
   ],
   "metadata": {}
  },
  {
   "outputs": [
    {
     "name": "stdout",
     "output_type": "stream",
     "text": [
      "Number of categories rho=0.5: 9\n",
      "Number of categories rho=0.7: 17\n"
     ]
    }
   ],
   "cell_type": "code",
   "source": [
    "# Print the number of categories for each vigilance parameter\n",
    "@printf \"Number of categories rho=%.1f: %i\\n\" rho_1 my_fuzzyart_1.n_categories\n",
    "@printf \"Number of categories rho=%.1f: %i\\n\" rho_2 my_fuzzyart_2.n_categories"
   ],
   "metadata": {},
   "execution_count": 17
  },
  {
   "cell_type": "markdown",
   "source": [
    "The variation between vigilance parameter, number of categories created during learning, and testing performance/generalization is a central theme in ART-based algorithms."
   ],
   "metadata": {}
  },
  {
   "cell_type": "markdown",
   "source": [
    "## Visualization"
   ],
   "metadata": {}
  },
  {
   "cell_type": "markdown",
   "source": [
    "Now, to visualize how the two models differ in how they partition the data, we can use principal component analysis (PCA) to compress to two plotting dimensions.\n",
    "PCA is a method to represent a dataset in a different number of dimensions while preserving the relative separation between datapoints.\n",
    "Though most datasets are not able to be effectively transformed down to two dimensions, this technique is useful to get a general sense of how well separated the classes are and how well your algorithm classifies them."
   ],
   "metadata": {}
  },
  {
   "outputs": [
    {
     "name": "stdout",
     "output_type": "stream",
     "text": [
      "┌ Warning: `transform(f, x)` is deprecated, use `predict(f, x)` instead.\n",
      "│   caller = top-level scope at options.ipynb:5\n",
      "└ @ Core ~/work/AdaptiveResonance.jl/AdaptiveResonance.jl/docs/src/examples/adaptive_resonance/options.ipynb:5\n"
     ]
    },
    {
     "output_type": "execute_result",
     "data": {
      "text/plain": "2×45 Array{Float64,2}:\n -0.587275  -0.228879  -1.38767   …  -1.29833   2.58735   -0.356787\n -0.483284  -0.402258  -0.204031     -0.761014  0.520474  -0.0668238"
     },
     "metadata": {},
     "execution_count": 18
    }
   ],
   "cell_type": "code",
   "source": [
    "# Train a PCA model to visually separate the features in two dimensions.\n",
    "M = fit(PCA, features; maxoutdim=2)\n",
    "\n",
    "# Apply the PCA model to the testing set\n",
    "X_test_pca = transform(M, X_test)"
   ],
   "metadata": {},
   "execution_count": 18
  },
  {
   "cell_type": "markdown",
   "source": [
    "We can now plot the PCA'ed test set and label them according to the two FuzzyART's"
   ],
   "metadata": {}
  },
  {
   "outputs": [
    {
     "output_type": "execute_result",
     "data": {
      "text/plain": "Plot{Plots.GRBackend() n=6}",
      "image/png": "[encoded data removed]",
      "text/html": [
       "<?xml version=\"1.0\" encoding=\"utf-8\"?>\n",
       "<svg xmlns=\"http://www.w3.org/2000/svg\" xmlns:xlink=\"http://www.w3.org/1999/xlink\" width=\"600\" height=\"400\" viewBox=\"0 0 2400 1600\">\n",
       "<defs>\n",
       "  <clipPath id=\"clip830\">\n",
       "    <rect x=\"0\" y=\"0\" width=\"2400\" height=\"1600\"/>\n",
       "  </clipPath>\n",
       "</defs>\n",
       "<path clip-path=\"url(#clip830)\" d=\"\n",
       "M0 1600 L2400 1600 L2400 0 L0 0  Z\n",
       "  \" fill=\"#ffffff\" fill-rule=\"evenodd\" fill-opacity=\"1\"/>\n",
       "<defs>\n",
       "  <clipPath id=\"clip831\">\n",
       "    <rect x=\"480\" y=\"0\" width=\"1681\" height=\"1600\"/>\n",
       "  </clipPath>\n",
       "</defs>\n",
       "<path clip-path=\"url(#clip830)\" d=\"\n",
       "M86.9921 1521.01 L1152.76 1521.01 L1152.76 62.9921 L86.9921 62.9921  Z\n",
       "  \" fill=\"#ffffff\" fill-rule=\"evenodd\" fill-opacity=\"1\"/>\n",
       "<defs>\n",
       "  <clipPath id=\"clip832\">\n",
       "    <rect x=\"86\" y=\"62\" width=\"1067\" height=\"1459\"/>\n",
       "  </clipPath>\n",
       "</defs>\n",
       "<polyline clip-path=\"url(#clip832)\" style=\"stroke:#000000; stroke-width:2; stroke-opacity:0.1; fill:none\" points=\"\n",
       "  153.383,1521.01 153.383,62.9921 \n",
       "  \"/>\n",
       "<polyline clip-path=\"url(#clip832)\" style=\"stroke:#000000; stroke-width:2; stroke-opacity:0.1; fill:none\" points=\"\n",
       "  309.309,1521.01 309.309,62.9921 \n",
       "  \"/>\n",
       "<polyline clip-path=\"url(#clip832)\" style=\"stroke:#000000; stroke-width:2; stroke-opacity:0.1; fill:none\" points=\"\n",
       "  465.234,1521.01 465.234,62.9921 \n",
       "  \"/>\n",
       "<polyline clip-path=\"url(#clip832)\" style=\"stroke:#000000; stroke-width:2; stroke-opacity:0.1; fill:none\" points=\"\n",
       "  621.159,1521.01 621.159,62.9921 \n",
       "  \"/>\n",
       "<polyline clip-path=\"url(#clip832)\" style=\"stroke:#000000; stroke-width:2; stroke-opacity:0.1; fill:none\" points=\"\n",
       "  777.085,1521.01 777.085,62.9921 \n",
       "  \"/>\n",
       "<polyline clip-path=\"url(#clip832)\" style=\"stroke:#000000; stroke-width:2; stroke-opacity:0.1; fill:none\" points=\"\n",
       "  933.01,1521.01 933.01,62.9921 \n",
       "  \"/>\n",
       "<polyline clip-path=\"url(#clip832)\" style=\"stroke:#000000; stroke-width:2; stroke-opacity:0.1; fill:none\" points=\"\n",
       "  1088.94,1521.01 1088.94,62.9921 \n",
       "  \"/>\n",
       "<polyline clip-path=\"url(#clip830)\" style=\"stroke:#000000; stroke-width:4; stroke-opacity:1; fill:none\" points=\"\n",
       "  86.9921,1521.01 1152.76,1521.01 \n",
       "  \"/>\n",
       "<polyline clip-path=\"url(#clip830)\" style=\"stroke:#000000; stroke-width:4; stroke-opacity:1; fill:none\" points=\"\n",
       "  153.383,1521.01 153.383,1503.51 \n",
       "  \"/>\n",
       "<polyline clip-path=\"url(#clip830)\" style=\"stroke:#000000; stroke-width:4; stroke-opacity:1; fill:none\" points=\"\n",
       "  309.309,1521.01 309.309,1503.51 \n",
       "  \"/>\n",
       "<polyline clip-path=\"url(#clip830)\" style=\"stroke:#000000; stroke-width:4; stroke-opacity:1; fill:none\" points=\"\n",
       "  465.234,1521.01 465.234,1503.51 \n",
       "  \"/>\n",
       "<polyline clip-path=\"url(#clip830)\" style=\"stroke:#000000; stroke-width:4; stroke-opacity:1; fill:none\" points=\"\n",
       "  621.159,1521.01 621.159,1503.51 \n",
       "  \"/>\n",
       "<polyline clip-path=\"url(#clip830)\" style=\"stroke:#000000; stroke-width:4; stroke-opacity:1; fill:none\" points=\"\n",
       "  777.085,1521.01 777.085,1503.51 \n",
       "  \"/>\n",
       "<polyline clip-path=\"url(#clip830)\" style=\"stroke:#000000; stroke-width:4; stroke-opacity:1; fill:none\" points=\"\n",
       "  933.01,1521.01 933.01,1503.51 \n",
       "  \"/>\n",
       "<polyline clip-path=\"url(#clip830)\" style=\"stroke:#000000; stroke-width:4; stroke-opacity:1; fill:none\" points=\"\n",
       "  1088.94,1521.01 1088.94,1503.51 \n",
       "  \"/>\n",
       "<path clip-path=\"url(#clip830)\" d=\"M 0 0 M132.368 1558.69 L154.625 1558.69 L154.625 1561.64 L132.368 1561.64 L132.368 1558.69 Z\" fill=\"#000000\" fill-rule=\"evenodd\" fill-opacity=\"1\" /><path clip-path=\"url(#clip830)\" d=\"M 0 0 M169.052 1557.34 Q171.569 1557.87 172.975 1559.58 Q174.399 1561.28 174.399 1563.78 Q174.399 1567.61 171.76 1569.71 Q169.121 1571.82 164.26 1571.82 Q162.628 1571.82 160.892 1571.49 Q159.173 1571.17 157.333 1570.53 L157.333 1567.15 Q158.791 1568 160.527 1568.43 Q162.264 1568.86 164.156 1568.86 Q167.454 1568.86 169.173 1567.56 Q170.909 1566.26 170.909 1563.78 Q170.909 1561.49 169.295 1560.2 Q167.698 1558.9 164.833 1558.9 L161.812 1558.9 L161.812 1556.02 L164.972 1556.02 Q167.559 1556.02 168.93 1554.99 Q170.302 1553.95 170.302 1552.01 Q170.302 1550.01 168.878 1548.95 Q167.472 1547.87 164.833 1547.87 Q163.392 1547.87 161.743 1548.19 Q160.093 1548.5 158.114 1549.16 L158.114 1546.03 Q160.111 1545.48 161.847 1545.2 Q163.6 1544.92 165.145 1544.92 Q169.139 1544.92 171.465 1546.75 Q173.791 1548.55 173.791 1551.64 Q173.791 1553.79 172.559 1555.29 Q171.326 1556.76 169.052 1557.34 Z\" fill=\"#000000\" fill-rule=\"evenodd\" fill-opacity=\"1\" /><path clip-path=\"url(#clip830)\" d=\"M 0 0 M288.649 1558.69 L310.906 1558.69 L310.906 1561.64 L288.649 1561.64 L288.649 1558.69 Z\" fill=\"#000000\" fill-rule=\"evenodd\" fill-opacity=\"1\" /><path clip-path=\"url(#clip830)\" d=\"M 0 0 M317.729 1568.36 L329.968 1568.36 L329.968 1571.31 L313.51 1571.31 L313.51 1568.36 Q315.507 1566.29 318.944 1562.82 Q322.399 1559.33 323.284 1558.33 Q324.968 1556.43 325.628 1555.13 Q326.305 1553.81 326.305 1552.54 Q326.305 1550.48 324.847 1549.18 Q323.406 1547.87 321.079 1547.87 Q319.43 1547.87 317.59 1548.45 Q315.767 1549.02 313.684 1550.18 L313.684 1546.64 Q315.802 1545.79 317.642 1545.36 Q319.482 1544.92 321.01 1544.92 Q325.038 1544.92 327.434 1546.94 Q329.829 1548.95 329.829 1552.32 Q329.829 1553.92 329.222 1555.36 Q328.631 1556.78 327.052 1558.73 Q326.618 1559.23 324.291 1561.64 Q321.965 1564.04 317.729 1568.36 Z\" fill=\"#000000\" fill-rule=\"evenodd\" fill-opacity=\"1\" /><path clip-path=\"url(#clip830)\" d=\"M 0 0 M444.435 1558.69 L466.692 1558.69 L466.692 1561.64 L444.435 1561.64 L444.435 1558.69 Z\" fill=\"#000000\" fill-rule=\"evenodd\" fill-opacity=\"1\" /><path clip-path=\"url(#clip830)\" d=\"M 0 0 M471.102 1568.36 L476.831 1568.36 L476.831 1548.59 L470.599 1549.84 L470.599 1546.64 L476.796 1545.39 L480.303 1545.39 L480.303 1568.36 L486.032 1568.36 L486.032 1571.31 L471.102 1571.31 L471.102 1568.36 Z\" fill=\"#000000\" fill-rule=\"evenodd\" fill-opacity=\"1\" /><path clip-path=\"url(#clip830)\" d=\"M 0 0 M621.159 1547.7 Q618.451 1547.7 617.079 1550.37 Q615.725 1553.03 615.725 1558.38 Q615.725 1563.71 617.079 1566.38 Q618.451 1569.04 621.159 1569.04 Q623.885 1569.04 625.239 1566.38 Q626.611 1563.71 626.611 1558.38 Q626.611 1553.03 625.239 1550.37 Q623.885 1547.7 621.159 1547.7 M621.159 1544.92 Q625.517 1544.92 627.809 1548.38 Q630.118 1551.82 630.118 1558.38 Q630.118 1564.92 627.809 1568.38 Q625.517 1571.82 621.159 1571.82 Q616.802 1571.82 614.493 1568.38 Q612.201 1564.92 612.201 1558.38 Q612.201 1551.82 614.493 1548.38 Q616.802 1544.92 621.159 1544.92 Z\" fill=\"#000000\" fill-rule=\"evenodd\" fill-opacity=\"1\" /><path clip-path=\"url(#clip830)\" d=\"M 0 0 M769.871 1568.36 L775.6 1568.36 L775.6 1548.59 L769.368 1549.84 L769.368 1546.64 L775.565 1545.39 L779.072 1545.39 L779.072 1568.36 L784.802 1568.36 L784.802 1571.31 L769.871 1571.31 L769.871 1568.36 Z\" fill=\"#000000\" fill-rule=\"evenodd\" fill-opacity=\"1\" /><path clip-path=\"url(#clip830)\" d=\"M 0 0 M928.999 1568.36 L941.239 1568.36 L941.239 1571.31 L924.781 1571.31 L924.781 1568.36 Q926.777 1566.29 930.215 1562.82 Q933.67 1559.33 934.555 1558.33 Q936.239 1556.43 936.899 1555.13 Q937.576 1553.81 937.576 1552.54 Q937.576 1550.48 936.117 1549.18 Q934.676 1547.87 932.35 1547.87 Q930.701 1547.87 928.861 1548.45 Q927.038 1549.02 924.954 1550.18 L924.954 1546.64 Q927.072 1545.79 928.913 1545.36 Q930.753 1544.92 932.281 1544.92 Q936.308 1544.92 938.704 1546.94 Q941.1 1548.95 941.1 1552.32 Q941.1 1553.92 940.492 1555.36 Q939.902 1556.78 938.322 1558.73 Q937.888 1559.23 935.562 1561.64 Q933.236 1564.04 928.999 1568.36 Z\" fill=\"#000000\" fill-rule=\"evenodd\" fill-opacity=\"1\" /><path clip-path=\"url(#clip830)\" d=\"M 0 0 M1092.12 1557.34 Q1094.64 1557.87 1096.04 1559.58 Q1097.47 1561.28 1097.47 1563.78 Q1097.47 1567.61 1094.83 1569.71 Q1092.19 1571.82 1087.33 1571.82 Q1085.7 1571.82 1083.96 1571.49 Q1082.24 1571.17 1080.4 1570.53 L1080.4 1567.15 Q1081.86 1568 1083.6 1568.43 Q1085.33 1568.86 1087.23 1568.86 Q1090.52 1568.86 1092.24 1567.56 Q1093.98 1566.26 1093.98 1563.78 Q1093.98 1561.49 1092.36 1560.2 Q1090.77 1558.9 1087.9 1558.9 L1084.88 1558.9 L1084.88 1556.02 L1088.04 1556.02 Q1090.63 1556.02 1092 1554.99 Q1093.37 1553.95 1093.37 1552.01 Q1093.37 1550.01 1091.95 1548.95 Q1090.54 1547.87 1087.9 1547.87 Q1086.46 1547.87 1084.81 1548.19 Q1083.16 1548.5 1081.18 1549.16 L1081.18 1546.03 Q1083.18 1545.48 1084.92 1545.2 Q1086.67 1544.92 1088.21 1544.92 Q1092.21 1544.92 1094.53 1546.75 Q1096.86 1548.55 1096.86 1551.64 Q1096.86 1553.79 1095.63 1555.29 Q1094.4 1556.76 1092.12 1557.34 Z\" fill=\"#000000\" fill-rule=\"evenodd\" fill-opacity=\"1\" /><polyline clip-path=\"url(#clip832)\" style=\"stroke:#000000; stroke-width:2; stroke-opacity:0.1; fill:none\" points=\"\n",
       "  86.9921,1479.1 1152.76,1479.1 \n",
       "  \"/>\n",
       "<polyline clip-path=\"url(#clip832)\" style=\"stroke:#000000; stroke-width:2; stroke-opacity:0.1; fill:none\" points=\"\n",
       "  86.9921,1189.11 1152.76,1189.11 \n",
       "  \"/>\n",
       "<polyline clip-path=\"url(#clip832)\" style=\"stroke:#000000; stroke-width:2; stroke-opacity:0.1; fill:none\" points=\"\n",
       "  86.9921,899.126 1152.76,899.126 \n",
       "  \"/>\n",
       "<polyline clip-path=\"url(#clip832)\" style=\"stroke:#000000; stroke-width:2; stroke-opacity:0.1; fill:none\" points=\"\n",
       "  86.9921,609.139 1152.76,609.139 \n",
       "  \"/>\n",
       "<polyline clip-path=\"url(#clip832)\" style=\"stroke:#000000; stroke-width:2; stroke-opacity:0.1; fill:none\" points=\"\n",
       "  86.9921,319.151 1152.76,319.151 \n",
       "  \"/>\n",
       "<polyline clip-path=\"url(#clip830)\" style=\"stroke:#000000; stroke-width:4; stroke-opacity:1; fill:none\" points=\"\n",
       "  86.9921,1521.01 86.9921,62.9921 \n",
       "  \"/>\n",
       "<polyline clip-path=\"url(#clip830)\" style=\"stroke:#000000; stroke-width:4; stroke-opacity:1; fill:none\" points=\"\n",
       "  86.9921,1479.1 99.7813,1479.1 \n",
       "  \"/>\n",
       "<polyline clip-path=\"url(#clip830)\" style=\"stroke:#000000; stroke-width:4; stroke-opacity:1; fill:none\" points=\"\n",
       "  86.9921,1189.11 99.7813,1189.11 \n",
       "  \"/>\n",
       "<polyline clip-path=\"url(#clip830)\" style=\"stroke:#000000; stroke-width:4; stroke-opacity:1; fill:none\" points=\"\n",
       "  86.9921,899.126 99.7813,899.126 \n",
       "  \"/>\n",
       "<polyline clip-path=\"url(#clip830)\" style=\"stroke:#000000; stroke-width:4; stroke-opacity:1; fill:none\" points=\"\n",
       "  86.9921,609.139 99.7813,609.139 \n",
       "  \"/>\n",
       "<polyline clip-path=\"url(#clip830)\" style=\"stroke:#000000; stroke-width:4; stroke-opacity:1; fill:none\" points=\"\n",
       "  86.9921,319.151 99.7813,319.151 \n",
       "  \"/>\n",
       "<path clip-path=\"url(#clip830)\" d=\"M 0 0 M-41.4379 1479.55 L-11.7622 1479.55 L-11.7622 1483.49 L-41.4379 1483.49 L-41.4379 1479.55 Z\" fill=\"#000000\" fill-rule=\"evenodd\" fill-opacity=\"1\" /><path clip-path=\"url(#clip830)\" d=\"M 0 0 M-5.88257 1492.45 L1.75628 1492.45 L1.75628 1466.08 L-6.55386 1467.75 L-6.55386 1463.49 L1.70998 1461.82 L6.38588 1461.82 L6.38588 1492.45 L14.0247 1492.45 L14.0247 1496.38 L-5.88257 1496.38 L-5.88257 1492.45 Z\" fill=\"#000000\" fill-rule=\"evenodd\" fill-opacity=\"1\" /><path clip-path=\"url(#clip830)\" d=\"M 0 0 M19.0941 1490.5 L23.9784 1490.5 L23.9784 1496.38 L19.0941 1496.38 L19.0941 1490.5 Z\" fill=\"#000000\" fill-rule=\"evenodd\" fill-opacity=\"1\" /><path clip-path=\"url(#clip830)\" d=\"M 0 0 M39.0477 1464.9 Q35.4367 1464.9 33.608 1468.46 Q31.8024 1472.01 31.8024 1479.14 Q31.8024 1486.24 33.608 1489.81 Q35.4367 1493.35 39.0477 1493.35 Q42.682 1493.35 44.4875 1489.81 Q46.3162 1486.24 46.3162 1479.14 Q46.3162 1472.01 44.4875 1468.46 Q42.682 1464.9 39.0477 1464.9 M39.0477 1461.2 Q44.8579 1461.2 47.9134 1465.8 Q50.9921 1470.39 50.9921 1479.14 Q50.9921 1487.86 47.9134 1492.47 Q44.8579 1497.05 39.0477 1497.05 Q33.2376 1497.05 30.1589 1492.47 Q27.1034 1487.86 27.1034 1479.14 Q27.1034 1470.39 30.1589 1465.8 Q33.2376 1461.2 39.0477 1461.2 Z\" fill=\"#000000\" fill-rule=\"evenodd\" fill-opacity=\"1\" /><path clip-path=\"url(#clip830)\" d=\"M 0 0 M-41.6694 1189.56 L-11.9936 1189.56 L-11.9936 1193.5 L-41.6694 1193.5 L-41.6694 1189.56 Z\" fill=\"#000000\" fill-rule=\"evenodd\" fill-opacity=\"1\" /><path clip-path=\"url(#clip830)\" d=\"M 0 0 M3.07572 1174.91 Q-0.535376 1174.91 -2.36407 1178.48 Q-4.16962 1182.02 -4.16962 1189.15 Q-4.16962 1196.25 -2.36407 1199.82 Q-0.535376 1203.36 3.07572 1203.36 Q6.70996 1203.36 8.5155 1199.82 Q10.3442 1196.25 10.3442 1189.15 Q10.3442 1182.02 8.5155 1178.48 Q6.70996 1174.91 3.07572 1174.91 M3.07572 1171.21 Q8.88587 1171.21 11.9414 1175.82 Q15.0201 1180.4 15.0201 1189.15 Q15.0201 1197.88 11.9414 1202.48 Q8.88587 1207.06 3.07572 1207.06 Q-2.73444 1207.06 -5.81313 1202.48 Q-8.86866 1197.88 -8.86866 1189.15 Q-8.86866 1180.4 -5.81313 1175.82 Q-2.73444 1171.21 3.07572 1171.21 Z\" fill=\"#000000\" fill-rule=\"evenodd\" fill-opacity=\"1\" /><path clip-path=\"url(#clip830)\" d=\"M 0 0 M20.0895 1200.51 L24.9737 1200.51 L24.9737 1206.39 L20.0895 1206.39 L20.0895 1200.51 Z\" fill=\"#000000\" fill-rule=\"evenodd\" fill-opacity=\"1\" /><path clip-path=\"url(#clip830)\" d=\"M 0 0 M30.0895 1171.83 L48.4458 1171.83 L48.4458 1175.77 L34.3718 1175.77 L34.3718 1184.24 Q35.3904 1183.89 36.4089 1183.73 Q37.4274 1183.55 38.4459 1183.55 Q44.2329 1183.55 47.6125 1186.72 Q50.9921 1189.89 50.9921 1195.31 Q50.9921 1200.88 47.5199 1203.99 Q44.0477 1207.06 37.7283 1207.06 Q35.5524 1207.06 33.2839 1206.69 Q31.0385 1206.32 28.6311 1205.58 L28.6311 1200.88 Q30.7145 1202.02 32.9367 1202.57 Q35.1589 1203.13 37.6357 1203.13 Q41.6403 1203.13 43.9783 1201.02 Q46.3162 1198.92 46.3162 1195.31 Q46.3162 1191.69 43.9783 1189.59 Q41.6403 1187.48 37.6357 1187.48 Q35.7607 1187.48 33.8857 1187.9 Q32.0339 1188.31 30.0895 1189.19 L30.0895 1171.83 Z\" fill=\"#000000\" fill-rule=\"evenodd\" fill-opacity=\"1\" /><path clip-path=\"url(#clip830)\" d=\"M 0 0 M2.08035 884.925 Q-1.53074 884.925 -3.35943 888.49 Q-5.16498 892.031 -5.16498 899.161 Q-5.16498 906.267 -3.35943 909.832 Q-1.53074 913.374 2.08035 913.374 Q5.71459 913.374 7.52014 909.832 Q9.34883 906.267 9.34883 899.161 Q9.34883 892.031 7.52014 888.49 Q5.71459 884.925 2.08035 884.925 M2.08035 881.221 Q7.89051 881.221 10.946 885.828 Q14.0247 890.411 14.0247 899.161 Q14.0247 907.888 10.946 912.494 Q7.89051 917.077 2.08035 917.077 Q-3.7298 917.077 -6.80849 912.494 Q-9.86403 907.888 -9.86403 899.161 Q-9.86403 890.411 -6.80849 885.828 Q-3.7298 881.221 2.08035 881.221 Z\" fill=\"#000000\" fill-rule=\"evenodd\" fill-opacity=\"1\" /><path clip-path=\"url(#clip830)\" d=\"M 0 0 M19.0941 910.527 L23.9784 910.527 L23.9784 916.406 L19.0941 916.406 L19.0941 910.527 Z\" fill=\"#000000\" fill-rule=\"evenodd\" fill-opacity=\"1\" /><path clip-path=\"url(#clip830)\" d=\"M 0 0 M39.0477 884.925 Q35.4367 884.925 33.608 888.49 Q31.8024 892.031 31.8024 899.161 Q31.8024 906.267 33.608 909.832 Q35.4367 913.374 39.0477 913.374 Q42.682 913.374 44.4875 909.832 Q46.3162 906.267 46.3162 899.161 Q46.3162 892.031 44.4875 888.49 Q42.682 884.925 39.0477 884.925 M39.0477 881.221 Q44.8579 881.221 47.9134 885.828 Q50.9921 890.411 50.9921 899.161 Q50.9921 907.888 47.9134 912.494 Q44.8579 917.077 39.0477 917.077 Q33.2376 917.077 30.1589 912.494 Q27.1034 907.888 27.1034 899.161 Q27.1034 890.411 30.1589 885.828 Q33.2376 881.221 39.0477 881.221 Z\" fill=\"#000000\" fill-rule=\"evenodd\" fill-opacity=\"1\" /><path clip-path=\"url(#clip830)\" d=\"M 0 0 M3.07572 594.937 Q-0.535376 594.937 -2.36407 598.502 Q-4.16962 602.044 -4.16962 609.173 Q-4.16962 616.28 -2.36407 619.845 Q-0.535376 623.386 3.07572 623.386 Q6.70996 623.386 8.5155 619.845 Q10.3442 616.28 10.3442 609.173 Q10.3442 602.044 8.5155 598.502 Q6.70996 594.937 3.07572 594.937 M3.07572 591.234 Q8.88587 591.234 11.9414 595.84 Q15.0201 600.424 15.0201 609.173 Q15.0201 617.9 11.9414 622.507 Q8.88587 627.09 3.07572 627.09 Q-2.73444 627.09 -5.81313 622.507 Q-8.86866 617.9 -8.86866 609.173 Q-8.86866 600.424 -5.81313 595.84 Q-2.73444 591.234 3.07572 591.234 Z\" fill=\"#000000\" fill-rule=\"evenodd\" fill-opacity=\"1\" /><path clip-path=\"url(#clip830)\" d=\"M 0 0 M20.0895 620.539 L24.9737 620.539 L24.9737 626.419 L20.0895 626.419 L20.0895 620.539 Z\" fill=\"#000000\" fill-rule=\"evenodd\" fill-opacity=\"1\" /><path clip-path=\"url(#clip830)\" d=\"M 0 0 M30.0895 591.859 L48.4458 591.859 L48.4458 595.794 L34.3718 595.794 L34.3718 604.266 Q35.3904 603.919 36.4089 603.757 Q37.4274 603.572 38.4459 603.572 Q44.2329 603.572 47.6125 606.743 Q50.9921 609.914 50.9921 615.331 Q50.9921 620.91 47.5199 624.011 Q44.0477 627.09 37.7283 627.09 Q35.5524 627.09 33.2839 626.72 Q31.0385 626.349 28.6311 625.609 L28.6311 620.91 Q30.7145 622.044 32.9367 622.599 Q35.1589 623.155 37.6357 623.155 Q41.6403 623.155 43.9783 621.048 Q46.3162 618.942 46.3162 615.331 Q46.3162 611.72 43.9783 609.613 Q41.6403 607.507 37.6357 607.507 Q35.7607 607.507 33.8857 607.923 Q32.0339 608.34 30.0895 609.22 L30.0895 591.859 Z\" fill=\"#000000\" fill-rule=\"evenodd\" fill-opacity=\"1\" /><path clip-path=\"url(#clip830)\" d=\"M 0 0 M-5.88257 332.496 L1.75628 332.496 L1.75628 306.131 L-6.55386 307.797 L-6.55386 303.538 L1.70998 301.871 L6.38588 301.871 L6.38588 332.496 L14.0247 332.496 L14.0247 336.431 L-5.88257 336.431 L-5.88257 332.496 Z\" fill=\"#000000\" fill-rule=\"evenodd\" fill-opacity=\"1\" /><path clip-path=\"url(#clip830)\" d=\"M 0 0 M19.0941 330.552 L23.9784 330.552 L23.9784 336.431 L19.0941 336.431 L19.0941 330.552 Z\" fill=\"#000000\" fill-rule=\"evenodd\" fill-opacity=\"1\" /><path clip-path=\"url(#clip830)\" d=\"M 0 0 M39.0477 304.95 Q35.4367 304.95 33.608 308.515 Q31.8024 312.056 31.8024 319.186 Q31.8024 326.292 33.608 329.857 Q35.4367 333.399 39.0477 333.399 Q42.682 333.399 44.4875 329.857 Q46.3162 326.292 46.3162 319.186 Q46.3162 312.056 44.4875 308.515 Q42.682 304.95 39.0477 304.95 M39.0477 301.246 Q44.8579 301.246 47.9134 305.853 Q50.9921 310.436 50.9921 319.186 Q50.9921 327.913 47.9134 332.519 Q44.8579 337.103 39.0477 337.103 Q33.2376 337.103 30.1589 332.519 Q27.1034 327.913 27.1034 319.186 Q27.1034 310.436 30.1589 305.853 Q33.2376 301.246 39.0477 301.246 Z\" fill=\"#000000\" fill-rule=\"evenodd\" fill-opacity=\"1\" /><path clip-path=\"url(#clip830)\" d=\"M 0 0 M410.581 6.912 L430.442 6.912 L430.442 10.8472 L415.257 10.8472 L415.257 21.0323 L428.961 21.0323 L428.961 24.9675 L415.257 24.9675 L415.257 41.472 L410.581 41.472 L410.581 6.912 Z\" fill=\"#000000\" fill-rule=\"evenodd\" fill-opacity=\"1\" /><path clip-path=\"url(#clip830)\" d=\"M 0 0 M431.877 31.2406 L431.877 15.5462 L436.137 15.5462 L436.137 31.0785 Q436.137 34.7591 437.572 36.6109 Q439.007 38.4396 441.877 38.4396 Q445.326 38.4396 447.317 36.2405 Q449.331 34.0415 449.331 30.2452 L449.331 15.5462 L453.59 15.5462 L453.59 41.472 L449.331 41.472 L449.331 37.4905 Q447.78 39.8516 445.72 41.009 Q443.683 42.1433 440.975 42.1433 Q436.507 42.1433 434.192 39.3655 Q431.877 36.5878 431.877 31.2406 M442.595 14.9212 L442.595 14.9212 Z\" fill=\"#000000\" fill-rule=\"evenodd\" fill-opacity=\"1\" /><path clip-path=\"url(#clip830)\" d=\"M 0 0 M456.206 15.5462 L476.437 15.5462 L476.437 19.4351 L460.419 38.0692 L476.437 38.0692 L476.437 41.472 L455.627 41.472 L455.627 37.5831 L471.646 18.949 L456.206 18.949 L456.206 15.5462 Z\" fill=\"#000000\" fill-rule=\"evenodd\" fill-opacity=\"1\" /><path clip-path=\"url(#clip830)\" d=\"M 0 0 M479.053 15.5462 L499.284 15.5462 L499.284 19.4351 L483.266 38.0692 L499.284 38.0692 L499.284 41.472 L478.474 41.472 L478.474 37.5831 L494.493 18.949 L479.053 18.949 L479.053 15.5462 Z\" fill=\"#000000\" fill-rule=\"evenodd\" fill-opacity=\"1\" /><path clip-path=\"url(#clip830)\" d=\"M 0 0 M514.539 43.8794 Q512.733 48.509 511.02 49.921 Q509.307 51.3331 506.437 51.3331 L503.034 51.3331 L503.034 47.7683 L505.534 47.7683 Q507.294 47.7683 508.266 46.9349 Q509.238 46.1016 510.419 42.9998 L511.182 41.0553 L500.696 15.5462 L505.21 15.5462 L513.312 35.8239 L521.414 15.5462 L525.928 15.5462 L514.539 43.8794 Z\" fill=\"#000000\" fill-rule=\"evenodd\" fill-opacity=\"1\" /><path clip-path=\"url(#clip830)\" d=\"M 0 0 M542.131 11.5185 L535.789 28.7174 L548.497 28.7174 L542.131 11.5185 M539.493 6.912 L544.793 6.912 L557.965 41.472 L553.104 41.472 L549.955 32.6063 L534.377 32.6063 L531.229 41.472 L526.298 41.472 L539.493 6.912 Z\" fill=\"#000000\" fill-rule=\"evenodd\" fill-opacity=\"1\" /><path clip-path=\"url(#clip830)\" d=\"M 0 0 M579.006 25.2684 Q580.511 25.7776 581.923 27.4443 Q583.358 29.111 584.793 32.0276 L589.539 41.472 L584.515 41.472 L580.094 32.6063 Q578.381 29.1341 576.761 27.9998 Q575.164 26.8656 572.386 26.8656 L567.293 26.8656 L567.293 41.472 L562.617 41.472 L562.617 6.912 L573.173 6.912 Q579.099 6.912 582.015 9.38884 Q584.932 11.8657 584.932 16.8657 Q584.932 20.1295 583.404 22.2823 Q581.9 24.4351 579.006 25.2684 M567.293 10.7546 L567.293 23.023 L573.173 23.023 Q576.552 23.023 578.265 21.4721 Q580.002 19.898 580.002 16.8657 Q580.002 13.8333 578.265 12.3055 Q576.552 10.7546 573.173 10.7546 L567.293 10.7546 Z\" fill=\"#000000\" fill-rule=\"evenodd\" fill-opacity=\"1\" /><path clip-path=\"url(#clip830)\" d=\"M 0 0 M585.951 6.912 L615.187 6.912 L615.187 10.8472 L602.918 10.8472 L602.918 41.472 L598.219 41.472 L598.219 10.8472 L585.951 10.8472 L585.951 6.912 Z\" fill=\"#000000\" fill-rule=\"evenodd\" fill-opacity=\"1\" /><path clip-path=\"url(#clip830)\" d=\"M 0 0 M649.747 19.5277 Q649.029 19.111 648.172 18.9258 Q647.339 18.7175 646.321 18.7175 Q642.71 18.7175 640.765 21.0786 Q638.844 23.4165 638.844 27.8147 L638.844 41.472 L634.561 41.472 L634.561 15.5462 L638.844 15.5462 L638.844 19.574 Q640.186 17.2129 642.339 16.0786 Q644.492 14.9212 647.571 14.9212 Q648.01 14.9212 648.543 14.9907 Q649.075 15.037 649.723 15.1527 L649.747 19.5277 Z\" fill=\"#000000\" fill-rule=\"evenodd\" fill-opacity=\"1\" /><path clip-path=\"url(#clip830)\" d=\"M 0 0 M674.932 25.8239 L674.932 41.472 L670.672 41.472 L670.672 25.9628 Q670.672 22.2823 669.237 20.4536 Q667.802 18.6249 664.932 18.6249 Q661.483 18.6249 659.492 20.824 Q657.501 23.023 657.501 26.8193 L657.501 41.472 L653.219 41.472 L653.219 5.45367 L657.501 5.45367 L657.501 19.574 Q659.029 17.236 661.089 16.0786 Q663.172 14.9212 665.881 14.9212 Q670.348 14.9212 672.64 17.699 Q674.932 20.4536 674.932 25.8239 Z\" fill=\"#000000\" fill-rule=\"evenodd\" fill-opacity=\"1\" /><path clip-path=\"url(#clip830)\" d=\"M 0 0 M689.445 18.5323 Q686.019 18.5323 684.029 21.2175 Q682.038 23.8795 682.038 28.5323 Q682.038 33.185 684.006 35.8702 Q685.996 38.5322 689.445 38.5322 Q692.848 38.5322 694.839 35.847 Q696.83 33.1619 696.83 28.5323 Q696.83 23.9258 694.839 21.2406 Q692.848 18.5323 689.445 18.5323 M689.445 14.9212 Q695.001 14.9212 698.172 18.5323 Q701.343 22.1434 701.343 28.5323 Q701.343 34.898 698.172 38.5322 Q695.001 42.1433 689.445 42.1433 Q683.867 42.1433 680.695 38.5322 Q677.547 34.898 677.547 28.5323 Q677.547 22.1434 680.695 18.5323 Q683.867 14.9212 689.445 14.9212 Z\" fill=\"#000000\" fill-rule=\"evenodd\" fill-opacity=\"1\" /><path clip-path=\"url(#clip830)\" d=\"M 0 0 M721.436 19.9443 L751.112 19.9443 L751.112 23.8332 L721.436 23.8332 L721.436 19.9443 M721.436 29.3887 L751.112 29.3887 L751.112 33.3239 L721.436 33.3239 L721.436 29.3887 Z\" fill=\"#000000\" fill-rule=\"evenodd\" fill-opacity=\"1\" /><path clip-path=\"url(#clip830)\" d=\"M 0 0 M781.25 9.99069 Q777.639 9.99069 775.811 13.5555 Q774.005 17.0971 774.005 24.2267 Q774.005 31.3332 775.811 34.898 Q777.639 38.4396 781.25 38.4396 Q784.885 38.4396 786.69 34.898 Q788.519 31.3332 788.519 24.2267 Q788.519 17.0971 786.69 13.5555 Q784.885 9.99069 781.25 9.99069 M781.25 6.287 Q787.061 6.287 790.116 10.8935 Q793.195 15.4768 793.195 24.2267 Q793.195 32.9535 790.116 37.56 Q787.061 42.1433 781.25 42.1433 Q775.44 42.1433 772.362 37.56 Q769.306 32.9535 769.306 24.2267 Q769.306 15.4768 772.362 10.8935 Q775.44 6.287 781.25 6.287 Z\" fill=\"#000000\" fill-rule=\"evenodd\" fill-opacity=\"1\" /><path clip-path=\"url(#clip830)\" d=\"M 0 0 M798.264 35.5924 L803.148 35.5924 L803.148 41.472 L798.264 41.472 L798.264 35.5924 Z\" fill=\"#000000\" fill-rule=\"evenodd\" fill-opacity=\"1\" /><path clip-path=\"url(#clip830)\" d=\"M 0 0 M808.264 6.912 L826.621 6.912 L826.621 10.8472 L812.547 10.8472 L812.547 19.3193 Q813.565 18.9721 814.584 18.8101 Q815.602 18.6249 816.621 18.6249 Q822.408 18.6249 825.787 21.7962 Q829.167 24.9675 829.167 30.3841 Q829.167 35.9628 825.695 39.0646 Q822.222 42.1433 815.903 42.1433 Q813.727 42.1433 811.459 41.7729 Q809.213 41.4026 806.806 40.6618 L806.806 35.9628 Q808.889 37.097 811.111 37.6526 Q813.334 38.2081 815.81 38.2081 Q819.815 38.2081 822.153 36.1017 Q824.491 33.9952 824.491 30.3841 Q824.491 26.773 822.153 24.6665 Q819.815 22.5601 815.81 22.5601 Q813.935 22.5601 812.06 22.9767 Q810.209 23.3934 808.264 24.273 L808.264 6.912 Z\" fill=\"#000000\" fill-rule=\"evenodd\" fill-opacity=\"1\" /><circle clip-path=\"url(#clip832)\" cx=\"1044.56\" cy=\"997.465\" r=\"14\" fill=\"#009af9\" fill-rule=\"evenodd\" fill-opacity=\"1\" stroke=\"#000000\" stroke-opacity=\"1\" stroke-width=\"3.2\"/>\n",
       "<circle clip-path=\"url(#clip832)\" cx=\"1017.71\" cy=\"643.919\" r=\"14\" fill=\"#009af9\" fill-rule=\"evenodd\" fill-opacity=\"1\" stroke=\"#000000\" stroke-opacity=\"1\" stroke-width=\"3.2\"/>\n",
       "<circle clip-path=\"url(#clip832)\" cx=\"1061.01\" cy=\"946.745\" r=\"14\" fill=\"#009af9\" fill-rule=\"evenodd\" fill-opacity=\"1\" stroke=\"#000000\" stroke-opacity=\"1\" stroke-width=\"3.2\"/>\n",
       "<circle clip-path=\"url(#clip832)\" cx=\"1042.77\" cy=\"832.423\" r=\"14\" fill=\"#009af9\" fill-rule=\"evenodd\" fill-opacity=\"1\" stroke=\"#000000\" stroke-opacity=\"1\" stroke-width=\"3.2\"/>\n",
       "<circle clip-path=\"url(#clip832)\" cx=\"1055.79\" cy=\"1031.21\" r=\"14\" fill=\"#009af9\" fill-rule=\"evenodd\" fill-opacity=\"1\" stroke=\"#000000\" stroke-opacity=\"1\" stroke-width=\"3.2\"/>\n",
       "<circle clip-path=\"url(#clip832)\" cx=\"1034.1\" cy=\"714.035\" r=\"14\" fill=\"#009af9\" fill-rule=\"evenodd\" fill-opacity=\"1\" stroke=\"#000000\" stroke-opacity=\"1\" stroke-width=\"3.2\"/>\n",
       "<circle clip-path=\"url(#clip832)\" cx=\"965.572\" cy=\"642.374\" r=\"14\" fill=\"#009af9\" fill-rule=\"evenodd\" fill-opacity=\"1\" stroke=\"#000000\" stroke-opacity=\"1\" stroke-width=\"3.2\"/>\n",
       "<circle clip-path=\"url(#clip832)\" cx=\"1068.2\" cy=\"854.356\" r=\"14\" fill=\"#009af9\" fill-rule=\"evenodd\" fill-opacity=\"1\" stroke=\"#000000\" stroke-opacity=\"1\" stroke-width=\"3.2\"/>\n",
       "<circle clip-path=\"url(#clip832)\" cx=\"1030.08\" cy=\"424.655\" r=\"14\" fill=\"#009af9\" fill-rule=\"evenodd\" fill-opacity=\"1\" stroke=\"#000000\" stroke-opacity=\"1\" stroke-width=\"3.2\"/>\n",
       "<circle clip-path=\"url(#clip832)\" cx=\"1006.15\" cy=\"819.155\" r=\"14\" fill=\"#009af9\" fill-rule=\"evenodd\" fill-opacity=\"1\" stroke=\"#000000\" stroke-opacity=\"1\" stroke-width=\"3.2\"/>\n",
       "<circle clip-path=\"url(#clip832)\" cx=\"980.275\" cy=\"837.926\" r=\"14\" fill=\"#009af9\" fill-rule=\"evenodd\" fill-opacity=\"1\" stroke=\"#000000\" stroke-opacity=\"1\" stroke-width=\"3.2\"/>\n",
       "<circle clip-path=\"url(#clip832)\" cx=\"1122.59\" cy=\"816.993\" r=\"14\" fill=\"#009af9\" fill-rule=\"evenodd\" fill-opacity=\"1\" stroke=\"#000000\" stroke-opacity=\"1\" stroke-width=\"3.2\"/>\n",
       "<circle clip-path=\"url(#clip832)\" cx=\"988.546\" cy=\"917.227\" r=\"14\" fill=\"#009af9\" fill-rule=\"evenodd\" fill-opacity=\"1\" stroke=\"#000000\" stroke-opacity=\"1\" stroke-width=\"3.2\"/>\n",
       "<circle clip-path=\"url(#clip832)\" cx=\"1031.69\" cy=\"1009.37\" r=\"14\" fill=\"#009af9\" fill-rule=\"evenodd\" fill-opacity=\"1\" stroke=\"#000000\" stroke-opacity=\"1\" stroke-width=\"3.2\"/>\n",
       "<circle clip-path=\"url(#clip832)\" cx=\"1024.59\" cy=\"597.265\" r=\"14\" fill=\"#009af9\" fill-rule=\"evenodd\" fill-opacity=\"1\" stroke=\"#000000\" stroke-opacity=\"1\" stroke-width=\"3.2\"/>\n",
       "<circle clip-path=\"url(#clip832)\" cx=\"529.588\" cy=\"1179.42\" r=\"14\" fill=\"#e26f46\" fill-rule=\"evenodd\" fill-opacity=\"1\" stroke=\"#000000\" stroke-opacity=\"1\" stroke-width=\"3.2\"/>\n",
       "<circle clip-path=\"url(#clip832)\" cx=\"585.471\" cy=\"1132.43\" r=\"14\" fill=\"#e26f46\" fill-rule=\"evenodd\" fill-opacity=\"1\" stroke=\"#000000\" stroke-opacity=\"1\" stroke-width=\"3.2\"/>\n",
       "<circle clip-path=\"url(#clip832)\" cx=\"762.812\" cy=\"1335.02\" r=\"14\" fill=\"#e26f46\" fill-rule=\"evenodd\" fill-opacity=\"1\" stroke=\"#000000\" stroke-opacity=\"1\" stroke-width=\"3.2\"/>\n",
       "<circle clip-path=\"url(#clip832)\" cx=\"392.875\" cy=\"606.709\" r=\"14\" fill=\"#e26f46\" fill-rule=\"evenodd\" fill-opacity=\"1\" stroke=\"#000000\" stroke-opacity=\"1\" stroke-width=\"3.2\"/>\n",
       "<circle clip-path=\"url(#clip832)\" cx=\"584.588\" cy=\"1091.63\" r=\"14\" fill=\"#e26f46\" fill-rule=\"evenodd\" fill-opacity=\"1\" stroke=\"#000000\" stroke-opacity=\"1\" stroke-width=\"3.2\"/>\n",
       "<circle clip-path=\"url(#clip832)\" cx=\"521.299\" cy=\"1141.16\" r=\"14\" fill=\"#e26f46\" fill-rule=\"evenodd\" fill-opacity=\"1\" stroke=\"#000000\" stroke-opacity=\"1\" stroke-width=\"3.2\"/>\n",
       "<circle clip-path=\"url(#clip832)\" cx=\"632.127\" cy=\"1306.58\" r=\"14\" fill=\"#e26f46\" fill-rule=\"evenodd\" fill-opacity=\"1\" stroke=\"#000000\" stroke-opacity=\"1\" stroke-width=\"3.2\"/>\n",
       "<circle clip-path=\"url(#clip832)\" cx=\"562.65\" cy=\"1068.26\" r=\"14\" fill=\"#e26f46\" fill-rule=\"evenodd\" fill-opacity=\"1\" stroke=\"#000000\" stroke-opacity=\"1\" stroke-width=\"3.2\"/>\n",
       "<circle clip-path=\"url(#clip832)\" cx=\"651.079\" cy=\"1292.05\" r=\"14\" fill=\"#e26f46\" fill-rule=\"evenodd\" fill-opacity=\"1\" stroke=\"#000000\" stroke-opacity=\"1\" stroke-width=\"3.2\"/>\n",
       "<circle clip-path=\"url(#clip832)\" cx=\"413.616\" cy=\"757.224\" r=\"14\" fill=\"#e26f46\" fill-rule=\"evenodd\" fill-opacity=\"1\" stroke=\"#000000\" stroke-opacity=\"1\" stroke-width=\"3.2\"/>\n",
       "<circle clip-path=\"url(#clip832)\" cx=\"738.332\" cy=\"1479.74\" r=\"14\" fill=\"#e26f46\" fill-rule=\"evenodd\" fill-opacity=\"1\" stroke=\"#000000\" stroke-opacity=\"1\" stroke-width=\"3.2\"/>\n",
       "<circle clip-path=\"url(#clip832)\" cx=\"595.507\" cy=\"1293.31\" r=\"14\" fill=\"#e26f46\" fill-rule=\"evenodd\" fill-opacity=\"1\" stroke=\"#000000\" stroke-opacity=\"1\" stroke-width=\"3.2\"/>\n",
       "<circle clip-path=\"url(#clip832)\" cx=\"494.477\" cy=\"993.274\" r=\"14\" fill=\"#e26f46\" fill-rule=\"evenodd\" fill-opacity=\"1\" stroke=\"#000000\" stroke-opacity=\"1\" stroke-width=\"3.2\"/>\n",
       "<circle clip-path=\"url(#clip832)\" cx=\"418.717\" cy=\"1340.5\" r=\"14\" fill=\"#e26f46\" fill-rule=\"evenodd\" fill-opacity=\"1\" stroke=\"#000000\" stroke-opacity=\"1\" stroke-width=\"3.2\"/>\n",
       "<circle clip-path=\"url(#clip832)\" cx=\"565.527\" cy=\"937.882\" r=\"14\" fill=\"#e26f46\" fill-rule=\"evenodd\" fill-opacity=\"1\" stroke=\"#000000\" stroke-opacity=\"1\" stroke-width=\"3.2\"/>\n",
       "<circle clip-path=\"url(#clip832)\" cx=\"404.787\" cy=\"1017.46\" r=\"14\" fill=\"#3da44d\" fill-rule=\"evenodd\" fill-opacity=\"1\" stroke=\"#000000\" stroke-opacity=\"1\" stroke-width=\"3.2\"/>\n",
       "<circle clip-path=\"url(#clip832)\" cx=\"243.915\" cy=\"723.102\" r=\"14\" fill=\"#3da44d\" fill-rule=\"evenodd\" fill-opacity=\"1\" stroke=\"#000000\" stroke-opacity=\"1\" stroke-width=\"3.2\"/>\n",
       "<circle clip-path=\"url(#clip832)\" cx=\"283.522\" cy=\"774.269\" r=\"14\" fill=\"#3da44d\" fill-rule=\"evenodd\" fill-opacity=\"1\" stroke=\"#000000\" stroke-opacity=\"1\" stroke-width=\"3.2\"/>\n",
       "<circle clip-path=\"url(#clip832)\" cx=\"260.301\" cy=\"793.218\" r=\"14\" fill=\"#3da44d\" fill-rule=\"evenodd\" fill-opacity=\"1\" stroke=\"#000000\" stroke-opacity=\"1\" stroke-width=\"3.2\"/>\n",
       "<circle clip-path=\"url(#clip832)\" cx=\"324.162\" cy=\"830.214\" r=\"14\" fill=\"#3da44d\" fill-rule=\"evenodd\" fill-opacity=\"1\" stroke=\"#000000\" stroke-opacity=\"1\" stroke-width=\"3.2\"/>\n",
       "<circle clip-path=\"url(#clip832)\" cx=\"317.222\" cy=\"875.504\" r=\"14\" fill=\"#3da44d\" fill-rule=\"evenodd\" fill-opacity=\"1\" stroke=\"#000000\" stroke-opacity=\"1\" stroke-width=\"3.2\"/>\n",
       "<circle clip-path=\"url(#clip832)\" cx=\"321.401\" cy=\"661.759\" r=\"14\" fill=\"#3da44d\" fill-rule=\"evenodd\" fill-opacity=\"1\" stroke=\"#000000\" stroke-opacity=\"1\" stroke-width=\"3.2\"/>\n",
       "<circle clip-path=\"url(#clip832)\" cx=\"259.464\" cy=\"1041.54\" r=\"14\" fill=\"#3da44d\" fill-rule=\"evenodd\" fill-opacity=\"1\" stroke=\"#000000\" stroke-opacity=\"1\" stroke-width=\"3.2\"/>\n",
       "<circle clip-path=\"url(#clip832)\" cx=\"178.182\" cy=\"682.945\" r=\"14\" fill=\"#3da44d\" fill-rule=\"evenodd\" fill-opacity=\"1\" stroke=\"#000000\" stroke-opacity=\"1\" stroke-width=\"3.2\"/>\n",
       "<circle clip-path=\"url(#clip832)\" cx=\"340.129\" cy=\"1024.49\" r=\"14\" fill=\"#3da44d\" fill-rule=\"evenodd\" fill-opacity=\"1\" stroke=\"#000000\" stroke-opacity=\"1\" stroke-width=\"3.2\"/>\n",
       "<circle clip-path=\"url(#clip832)\" cx=\"495.295\" cy=\"786\" r=\"14\" fill=\"#3da44d\" fill-rule=\"evenodd\" fill-opacity=\"1\" stroke=\"#000000\" stroke-opacity=\"1\" stroke-width=\"3.2\"/>\n",
       "<circle clip-path=\"url(#clip832)\" cx=\"400.67\" cy=\"1232.57\" r=\"14\" fill=\"#3da44d\" fill-rule=\"evenodd\" fill-opacity=\"1\" stroke=\"#000000\" stroke-opacity=\"1\" stroke-width=\"3.2\"/>\n",
       "<circle clip-path=\"url(#clip832)\" cx=\"117.155\" cy=\"104.257\" r=\"14\" fill=\"#3da44d\" fill-rule=\"evenodd\" fill-opacity=\"1\" stroke=\"#000000\" stroke-opacity=\"1\" stroke-width=\"3.2\"/>\n",
       "<circle clip-path=\"url(#clip832)\" cx=\"343.668\" cy=\"1189.96\" r=\"14\" fill=\"#3da44d\" fill-rule=\"evenodd\" fill-opacity=\"1\" stroke=\"#000000\" stroke-opacity=\"1\" stroke-width=\"3.2\"/>\n",
       "<circle clip-path=\"url(#clip832)\" cx=\"419.911\" cy=\"966.65\" r=\"14\" fill=\"#3da44d\" fill-rule=\"evenodd\" fill-opacity=\"1\" stroke=\"#000000\" stroke-opacity=\"1\" stroke-width=\"3.2\"/>\n",
       "<path clip-path=\"url(#clip830)\" d=\"\n",
       "M1286.99 1521.01 L2352.76 1521.01 L2352.76 62.9921 L1286.99 62.9921  Z\n",
       "  \" fill=\"#ffffff\" fill-rule=\"evenodd\" fill-opacity=\"1\"/>\n",
       "<defs>\n",
       "  <clipPath id=\"clip833\">\n",
       "    <rect x=\"1286\" y=\"62\" width=\"1067\" height=\"1459\"/>\n",
       "  </clipPath>\n",
       "</defs>\n",
       "<polyline clip-path=\"url(#clip833)\" style=\"stroke:#000000; stroke-width:2; stroke-opacity:0.1; fill:none\" points=\"\n",
       "  1353.38,1521.01 1353.38,62.9921 \n",
       "  \"/>\n",
       "<polyline clip-path=\"url(#clip833)\" style=\"stroke:#000000; stroke-width:2; stroke-opacity:0.1; fill:none\" points=\"\n",
       "  1509.31,1521.01 1509.31,62.9921 \n",
       "  \"/>\n",
       "<polyline clip-path=\"url(#clip833)\" style=\"stroke:#000000; stroke-width:2; stroke-opacity:0.1; fill:none\" points=\"\n",
       "  1665.23,1521.01 1665.23,62.9921 \n",
       "  \"/>\n",
       "<polyline clip-path=\"url(#clip833)\" style=\"stroke:#000000; stroke-width:2; stroke-opacity:0.1; fill:none\" points=\"\n",
       "  1821.16,1521.01 1821.16,62.9921 \n",
       "  \"/>\n",
       "<polyline clip-path=\"url(#clip833)\" style=\"stroke:#000000; stroke-width:2; stroke-opacity:0.1; fill:none\" points=\"\n",
       "  1977.08,1521.01 1977.08,62.9921 \n",
       "  \"/>\n",
       "<polyline clip-path=\"url(#clip833)\" style=\"stroke:#000000; stroke-width:2; stroke-opacity:0.1; fill:none\" points=\"\n",
       "  2133.01,1521.01 2133.01,62.9921 \n",
       "  \"/>\n",
       "<polyline clip-path=\"url(#clip833)\" style=\"stroke:#000000; stroke-width:2; stroke-opacity:0.1; fill:none\" points=\"\n",
       "  2288.94,1521.01 2288.94,62.9921 \n",
       "  \"/>\n",
       "<polyline clip-path=\"url(#clip830)\" style=\"stroke:#000000; stroke-width:4; stroke-opacity:1; fill:none\" points=\"\n",
       "  1286.99,1521.01 2352.76,1521.01 \n",
       "  \"/>\n",
       "<polyline clip-path=\"url(#clip830)\" style=\"stroke:#000000; stroke-width:4; stroke-opacity:1; fill:none\" points=\"\n",
       "  1353.38,1521.01 1353.38,1503.51 \n",
       "  \"/>\n",
       "<polyline clip-path=\"url(#clip830)\" style=\"stroke:#000000; stroke-width:4; stroke-opacity:1; fill:none\" points=\"\n",
       "  1509.31,1521.01 1509.31,1503.51 \n",
       "  \"/>\n",
       "<polyline clip-path=\"url(#clip830)\" style=\"stroke:#000000; stroke-width:4; stroke-opacity:1; fill:none\" points=\"\n",
       "  1665.23,1521.01 1665.23,1503.51 \n",
       "  \"/>\n",
       "<polyline clip-path=\"url(#clip830)\" style=\"stroke:#000000; stroke-width:4; stroke-opacity:1; fill:none\" points=\"\n",
       "  1821.16,1521.01 1821.16,1503.51 \n",
       "  \"/>\n",
       "<polyline clip-path=\"url(#clip830)\" style=\"stroke:#000000; stroke-width:4; stroke-opacity:1; fill:none\" points=\"\n",
       "  1977.08,1521.01 1977.08,1503.51 \n",
       "  \"/>\n",
       "<polyline clip-path=\"url(#clip830)\" style=\"stroke:#000000; stroke-width:4; stroke-opacity:1; fill:none\" points=\"\n",
       "  2133.01,1521.01 2133.01,1503.51 \n",
       "  \"/>\n",
       "<polyline clip-path=\"url(#clip830)\" style=\"stroke:#000000; stroke-width:4; stroke-opacity:1; fill:none\" points=\"\n",
       "  2288.94,1521.01 2288.94,1503.51 \n",
       "  \"/>\n",
       "<path clip-path=\"url(#clip830)\" d=\"M 0 0 M1332.37 1558.69 L1354.62 1558.69 L1354.62 1561.64 L1332.37 1561.64 L1332.37 1558.69 Z\" fill=\"#000000\" fill-rule=\"evenodd\" fill-opacity=\"1\" /><path clip-path=\"url(#clip830)\" d=\"M 0 0 M1369.05 1557.34 Q1371.57 1557.87 1372.98 1559.58 Q1374.4 1561.28 1374.4 1563.78 Q1374.4 1567.61 1371.76 1569.71 Q1369.12 1571.82 1364.26 1571.82 Q1362.63 1571.82 1360.89 1571.49 Q1359.17 1571.17 1357.33 1570.53 L1357.33 1567.15 Q1358.79 1568 1360.53 1568.43 Q1362.26 1568.86 1364.16 1568.86 Q1367.45 1568.86 1369.17 1567.56 Q1370.91 1566.26 1370.91 1563.78 Q1370.91 1561.49 1369.29 1560.2 Q1367.7 1558.9 1364.83 1558.9 L1361.81 1558.9 L1361.81 1556.02 L1364.97 1556.02 Q1367.56 1556.02 1368.93 1554.99 Q1370.3 1553.95 1370.3 1552.01 Q1370.3 1550.01 1368.88 1548.95 Q1367.47 1547.87 1364.83 1547.87 Q1363.39 1547.87 1361.74 1548.19 Q1360.09 1548.5 1358.11 1549.16 L1358.11 1546.03 Q1360.11 1545.48 1361.85 1545.2 Q1363.6 1544.92 1365.15 1544.92 Q1369.14 1544.92 1371.46 1546.75 Q1373.79 1548.55 1373.79 1551.64 Q1373.79 1553.79 1372.56 1555.29 Q1371.33 1556.76 1369.05 1557.34 Z\" fill=\"#000000\" fill-rule=\"evenodd\" fill-opacity=\"1\" /><path clip-path=\"url(#clip830)\" d=\"M 0 0 M1488.65 1558.69 L1510.91 1558.69 L1510.91 1561.64 L1488.65 1561.64 L1488.65 1558.69 Z\" fill=\"#000000\" fill-rule=\"evenodd\" fill-opacity=\"1\" /><path clip-path=\"url(#clip830)\" d=\"M 0 0 M1517.73 1568.36 L1529.97 1568.36 L1529.97 1571.31 L1513.51 1571.31 L1513.51 1568.36 Q1515.51 1566.29 1518.94 1562.82 Q1522.4 1559.33 1523.28 1558.33 Q1524.97 1556.43 1525.63 1555.13 Q1526.31 1553.81 1526.31 1552.54 Q1526.31 1550.48 1524.85 1549.18 Q1523.41 1547.87 1521.08 1547.87 Q1519.43 1547.87 1517.59 1548.45 Q1515.77 1549.02 1513.68 1550.18 L1513.68 1546.64 Q1515.8 1545.79 1517.64 1545.36 Q1519.48 1544.92 1521.01 1544.92 Q1525.04 1544.92 1527.43 1546.94 Q1529.83 1548.95 1529.83 1552.32 Q1529.83 1553.92 1529.22 1555.36 Q1528.63 1556.78 1527.05 1558.73 Q1526.62 1559.23 1524.29 1561.64 Q1521.96 1564.04 1517.73 1568.36 Z\" fill=\"#000000\" fill-rule=\"evenodd\" fill-opacity=\"1\" /><path clip-path=\"url(#clip830)\" d=\"M 0 0 M1644.44 1558.69 L1666.69 1558.69 L1666.69 1561.64 L1644.44 1561.64 L1644.44 1558.69 Z\" fill=\"#000000\" fill-rule=\"evenodd\" fill-opacity=\"1\" /><path clip-path=\"url(#clip830)\" d=\"M 0 0 M1671.1 1568.36 L1676.83 1568.36 L1676.83 1548.59 L1670.6 1549.84 L1670.6 1546.64 L1676.8 1545.39 L1680.3 1545.39 L1680.3 1568.36 L1686.03 1568.36 L1686.03 1571.31 L1671.1 1571.31 L1671.1 1568.36 Z\" fill=\"#000000\" fill-rule=\"evenodd\" fill-opacity=\"1\" /><path clip-path=\"url(#clip830)\" d=\"M 0 0 M1821.16 1547.7 Q1818.45 1547.7 1817.08 1550.37 Q1815.73 1553.03 1815.73 1558.38 Q1815.73 1563.71 1817.08 1566.38 Q1818.45 1569.04 1821.16 1569.04 Q1823.88 1569.04 1825.24 1566.38 Q1826.61 1563.71 1826.61 1558.38 Q1826.61 1553.03 1825.24 1550.37 Q1823.88 1547.7 1821.16 1547.7 M1821.16 1544.92 Q1825.52 1544.92 1827.81 1548.38 Q1830.12 1551.82 1830.12 1558.38 Q1830.12 1564.92 1827.81 1568.38 Q1825.52 1571.82 1821.16 1571.82 Q1816.8 1571.82 1814.49 1568.38 Q1812.2 1564.92 1812.2 1558.38 Q1812.2 1551.82 1814.49 1548.38 Q1816.8 1544.92 1821.16 1544.92 Z\" fill=\"#000000\" fill-rule=\"evenodd\" fill-opacity=\"1\" /><path clip-path=\"url(#clip830)\" d=\"M 0 0 M1969.87 1568.36 L1975.6 1568.36 L1975.6 1548.59 L1969.37 1549.84 L1969.37 1546.64 L1975.57 1545.39 L1979.07 1545.39 L1979.07 1568.36 L1984.8 1568.36 L1984.8 1571.31 L1969.87 1571.31 L1969.87 1568.36 Z\" fill=\"#000000\" fill-rule=\"evenodd\" fill-opacity=\"1\" /><path clip-path=\"url(#clip830)\" d=\"M 0 0 M2129 1568.36 L2141.24 1568.36 L2141.24 1571.31 L2124.78 1571.31 L2124.78 1568.36 Q2126.78 1566.29 2130.21 1562.82 Q2133.67 1559.33 2134.55 1558.33 Q2136.24 1556.43 2136.9 1555.13 Q2137.58 1553.81 2137.58 1552.54 Q2137.58 1550.48 2136.12 1549.18 Q2134.68 1547.87 2132.35 1547.87 Q2130.7 1547.87 2128.86 1548.45 Q2127.04 1549.02 2124.95 1550.18 L2124.95 1546.64 Q2127.07 1545.79 2128.91 1545.36 Q2130.75 1544.92 2132.28 1544.92 Q2136.31 1544.92 2138.7 1546.94 Q2141.1 1548.95 2141.1 1552.32 Q2141.1 1553.92 2140.49 1555.36 Q2139.9 1556.78 2138.32 1558.73 Q2137.89 1559.23 2135.56 1561.64 Q2133.24 1564.04 2129 1568.36 Z\" fill=\"#000000\" fill-rule=\"evenodd\" fill-opacity=\"1\" /><path clip-path=\"url(#clip830)\" d=\"M 0 0 M2292.12 1557.34 Q2294.64 1557.87 2296.04 1559.58 Q2297.47 1561.28 2297.47 1563.78 Q2297.47 1567.61 2294.83 1569.71 Q2292.19 1571.82 2287.33 1571.82 Q2285.7 1571.82 2283.96 1571.49 Q2282.24 1571.17 2280.4 1570.53 L2280.4 1567.15 Q2281.86 1568 2283.6 1568.43 Q2285.33 1568.86 2287.23 1568.86 Q2290.52 1568.86 2292.24 1567.56 Q2293.98 1566.26 2293.98 1563.78 Q2293.98 1561.49 2292.36 1560.2 Q2290.77 1558.9 2287.9 1558.9 L2284.88 1558.9 L2284.88 1556.02 L2288.04 1556.02 Q2290.63 1556.02 2292 1554.99 Q2293.37 1553.95 2293.37 1552.01 Q2293.37 1550.01 2291.95 1548.95 Q2290.54 1547.87 2287.9 1547.87 Q2286.46 1547.87 2284.81 1548.19 Q2283.16 1548.5 2281.18 1549.16 L2281.18 1546.03 Q2283.18 1545.48 2284.92 1545.2 Q2286.67 1544.92 2288.21 1544.92 Q2292.21 1544.92 2294.53 1546.75 Q2296.86 1548.55 2296.86 1551.64 Q2296.86 1553.79 2295.63 1555.29 Q2294.4 1556.76 2292.12 1557.34 Z\" fill=\"#000000\" fill-rule=\"evenodd\" fill-opacity=\"1\" /><polyline clip-path=\"url(#clip833)\" style=\"stroke:#000000; stroke-width:2; stroke-opacity:0.1; fill:none\" points=\"\n",
       "  1286.99,1479.1 2352.76,1479.1 \n",
       "  \"/>\n",
       "<polyline clip-path=\"url(#clip833)\" style=\"stroke:#000000; stroke-width:2; stroke-opacity:0.1; fill:none\" points=\"\n",
       "  1286.99,1189.11 2352.76,1189.11 \n",
       "  \"/>\n",
       "<polyline clip-path=\"url(#clip833)\" style=\"stroke:#000000; stroke-width:2; stroke-opacity:0.1; fill:none\" points=\"\n",
       "  1286.99,899.126 2352.76,899.126 \n",
       "  \"/>\n",
       "<polyline clip-path=\"url(#clip833)\" style=\"stroke:#000000; stroke-width:2; stroke-opacity:0.1; fill:none\" points=\"\n",
       "  1286.99,609.139 2352.76,609.139 \n",
       "  \"/>\n",
       "<polyline clip-path=\"url(#clip833)\" style=\"stroke:#000000; stroke-width:2; stroke-opacity:0.1; fill:none\" points=\"\n",
       "  1286.99,319.151 2352.76,319.151 \n",
       "  \"/>\n",
       "<polyline clip-path=\"url(#clip830)\" style=\"stroke:#000000; stroke-width:4; stroke-opacity:1; fill:none\" points=\"\n",
       "  1286.99,1521.01 1286.99,62.9921 \n",
       "  \"/>\n",
       "<polyline clip-path=\"url(#clip830)\" style=\"stroke:#000000; stroke-width:4; stroke-opacity:1; fill:none\" points=\"\n",
       "  1286.99,1479.1 1299.78,1479.1 \n",
       "  \"/>\n",
       "<polyline clip-path=\"url(#clip830)\" style=\"stroke:#000000; stroke-width:4; stroke-opacity:1; fill:none\" points=\"\n",
       "  1286.99,1189.11 1299.78,1189.11 \n",
       "  \"/>\n",
       "<polyline clip-path=\"url(#clip830)\" style=\"stroke:#000000; stroke-width:4; stroke-opacity:1; fill:none\" points=\"\n",
       "  1286.99,899.126 1299.78,899.126 \n",
       "  \"/>\n",
       "<polyline clip-path=\"url(#clip830)\" style=\"stroke:#000000; stroke-width:4; stroke-opacity:1; fill:none\" points=\"\n",
       "  1286.99,609.139 1299.78,609.139 \n",
       "  \"/>\n",
       "<polyline clip-path=\"url(#clip830)\" style=\"stroke:#000000; stroke-width:4; stroke-opacity:1; fill:none\" points=\"\n",
       "  1286.99,319.151 1299.78,319.151 \n",
       "  \"/>\n",
       "<path clip-path=\"url(#clip830)\" d=\"M 0 0 M1158.56 1479.55 L1188.24 1479.55 L1188.24 1483.49 L1158.56 1483.49 L1158.56 1479.55 Z\" fill=\"#000000\" fill-rule=\"evenodd\" fill-opacity=\"1\" /><path clip-path=\"url(#clip830)\" d=\"M 0 0 M1194.12 1492.45 L1201.76 1492.45 L1201.76 1466.08 L1193.45 1467.75 L1193.45 1463.49 L1201.71 1461.82 L1206.39 1461.82 L1206.39 1492.45 L1214.02 1492.45 L1214.02 1496.38 L1194.12 1496.38 L1194.12 1492.45 Z\" fill=\"#000000\" fill-rule=\"evenodd\" fill-opacity=\"1\" /><path clip-path=\"url(#clip830)\" d=\"M 0 0 M1219.09 1490.5 L1223.98 1490.5 L1223.98 1496.38 L1219.09 1496.38 L1219.09 1490.5 Z\" fill=\"#000000\" fill-rule=\"evenodd\" fill-opacity=\"1\" /><path clip-path=\"url(#clip830)\" d=\"M 0 0 M1239.05 1464.9 Q1235.44 1464.9 1233.61 1468.46 Q1231.8 1472.01 1231.8 1479.14 Q1231.8 1486.24 1233.61 1489.81 Q1235.44 1493.35 1239.05 1493.35 Q1242.68 1493.35 1244.49 1489.81 Q1246.32 1486.24 1246.32 1479.14 Q1246.32 1472.01 1244.49 1468.46 Q1242.68 1464.9 1239.05 1464.9 M1239.05 1461.2 Q1244.86 1461.2 1247.91 1465.8 Q1250.99 1470.39 1250.99 1479.14 Q1250.99 1487.86 1247.91 1492.47 Q1244.86 1497.05 1239.05 1497.05 Q1233.24 1497.05 1230.16 1492.47 Q1227.1 1487.86 1227.1 1479.14 Q1227.1 1470.39 1230.16 1465.8 Q1233.24 1461.2 1239.05 1461.2 Z\" fill=\"#000000\" fill-rule=\"evenodd\" fill-opacity=\"1\" /><path clip-path=\"url(#clip830)\" d=\"M 0 0 M1158.33 1189.56 L1188.01 1189.56 L1188.01 1193.5 L1158.33 1193.5 L1158.33 1189.56 Z\" fill=\"#000000\" fill-rule=\"evenodd\" fill-opacity=\"1\" /><path clip-path=\"url(#clip830)\" d=\"M 0 0 M1203.08 1174.91 Q1199.46 1174.91 1197.64 1178.48 Q1195.83 1182.02 1195.83 1189.15 Q1195.83 1196.25 1197.64 1199.82 Q1199.46 1203.36 1203.08 1203.36 Q1206.71 1203.36 1208.52 1199.82 Q1210.34 1196.25 1210.34 1189.15 Q1210.34 1182.02 1208.52 1178.48 Q1206.71 1174.91 1203.08 1174.91 M1203.08 1171.21 Q1208.89 1171.21 1211.94 1175.82 Q1215.02 1180.4 1215.02 1189.15 Q1215.02 1197.88 1211.94 1202.48 Q1208.89 1207.06 1203.08 1207.06 Q1197.27 1207.06 1194.19 1202.48 Q1191.13 1197.88 1191.13 1189.15 Q1191.13 1180.4 1194.19 1175.82 Q1197.27 1171.21 1203.08 1171.21 Z\" fill=\"#000000\" fill-rule=\"evenodd\" fill-opacity=\"1\" /><path clip-path=\"url(#clip830)\" d=\"M 0 0 M1220.09 1200.51 L1224.97 1200.51 L1224.97 1206.39 L1220.09 1206.39 L1220.09 1200.51 Z\" fill=\"#000000\" fill-rule=\"evenodd\" fill-opacity=\"1\" /><path clip-path=\"url(#clip830)\" d=\"M 0 0 M1230.09 1171.83 L1248.45 1171.83 L1248.45 1175.77 L1234.37 1175.77 L1234.37 1184.24 Q1235.39 1183.89 1236.41 1183.73 Q1237.43 1183.55 1238.45 1183.55 Q1244.23 1183.55 1247.61 1186.72 Q1250.99 1189.89 1250.99 1195.31 Q1250.99 1200.88 1247.52 1203.99 Q1244.05 1207.06 1237.73 1207.06 Q1235.55 1207.06 1233.28 1206.69 Q1231.04 1206.32 1228.63 1205.58 L1228.63 1200.88 Q1230.71 1202.02 1232.94 1202.57 Q1235.16 1203.13 1237.64 1203.13 Q1241.64 1203.13 1243.98 1201.02 Q1246.32 1198.92 1246.32 1195.31 Q1246.32 1191.69 1243.98 1189.59 Q1241.64 1187.48 1237.64 1187.48 Q1235.76 1187.48 1233.89 1187.9 Q1232.03 1188.31 1230.09 1189.19 L1230.09 1171.83 Z\" fill=\"#000000\" fill-rule=\"evenodd\" fill-opacity=\"1\" /><path clip-path=\"url(#clip830)\" d=\"M 0 0 M1202.08 884.925 Q1198.47 884.925 1196.64 888.49 Q1194.84 892.031 1194.84 899.161 Q1194.84 906.267 1196.64 909.832 Q1198.47 913.374 1202.08 913.374 Q1205.71 913.374 1207.52 909.832 Q1209.35 906.267 1209.35 899.161 Q1209.35 892.031 1207.52 888.49 Q1205.71 884.925 1202.08 884.925 M1202.08 881.221 Q1207.89 881.221 1210.95 885.828 Q1214.02 890.411 1214.02 899.161 Q1214.02 907.888 1210.95 912.494 Q1207.89 917.077 1202.08 917.077 Q1196.27 917.077 1193.19 912.494 Q1190.14 907.888 1190.14 899.161 Q1190.14 890.411 1193.19 885.828 Q1196.27 881.221 1202.08 881.221 Z\" fill=\"#000000\" fill-rule=\"evenodd\" fill-opacity=\"1\" /><path clip-path=\"url(#clip830)\" d=\"M 0 0 M1219.09 910.527 L1223.98 910.527 L1223.98 916.406 L1219.09 916.406 L1219.09 910.527 Z\" fill=\"#000000\" fill-rule=\"evenodd\" fill-opacity=\"1\" /><path clip-path=\"url(#clip830)\" d=\"M 0 0 M1239.05 884.925 Q1235.44 884.925 1233.61 888.49 Q1231.8 892.031 1231.8 899.161 Q1231.8 906.267 1233.61 909.832 Q1235.44 913.374 1239.05 913.374 Q1242.68 913.374 1244.49 909.832 Q1246.32 906.267 1246.32 899.161 Q1246.32 892.031 1244.49 888.49 Q1242.68 884.925 1239.05 884.925 M1239.05 881.221 Q1244.86 881.221 1247.91 885.828 Q1250.99 890.411 1250.99 899.161 Q1250.99 907.888 1247.91 912.494 Q1244.86 917.077 1239.05 917.077 Q1233.24 917.077 1230.16 912.494 Q1227.1 907.888 1227.1 899.161 Q1227.1 890.411 1230.16 885.828 Q1233.24 881.221 1239.05 881.221 Z\" fill=\"#000000\" fill-rule=\"evenodd\" fill-opacity=\"1\" /><path clip-path=\"url(#clip830)\" d=\"M 0 0 M1203.08 594.937 Q1199.46 594.937 1197.64 598.502 Q1195.83 602.044 1195.83 609.173 Q1195.83 616.28 1197.64 619.845 Q1199.46 623.386 1203.08 623.386 Q1206.71 623.386 1208.52 619.845 Q1210.34 616.28 1210.34 609.173 Q1210.34 602.044 1208.52 598.502 Q1206.71 594.937 1203.08 594.937 M1203.08 591.234 Q1208.89 591.234 1211.94 595.84 Q1215.02 600.424 1215.02 609.173 Q1215.02 617.9 1211.94 622.507 Q1208.89 627.09 1203.08 627.09 Q1197.27 627.09 1194.19 622.507 Q1191.13 617.9 1191.13 609.173 Q1191.13 600.424 1194.19 595.84 Q1197.27 591.234 1203.08 591.234 Z\" fill=\"#000000\" fill-rule=\"evenodd\" fill-opacity=\"1\" /><path clip-path=\"url(#clip830)\" d=\"M 0 0 M1220.09 620.539 L1224.97 620.539 L1224.97 626.419 L1220.09 626.419 L1220.09 620.539 Z\" fill=\"#000000\" fill-rule=\"evenodd\" fill-opacity=\"1\" /><path clip-path=\"url(#clip830)\" d=\"M 0 0 M1230.09 591.859 L1248.45 591.859 L1248.45 595.794 L1234.37 595.794 L1234.37 604.266 Q1235.39 603.919 1236.41 603.757 Q1237.43 603.572 1238.45 603.572 Q1244.23 603.572 1247.61 606.743 Q1250.99 609.914 1250.99 615.331 Q1250.99 620.91 1247.52 624.011 Q1244.05 627.09 1237.73 627.09 Q1235.55 627.09 1233.28 626.72 Q1231.04 626.349 1228.63 625.609 L1228.63 620.91 Q1230.71 622.044 1232.94 622.599 Q1235.16 623.155 1237.64 623.155 Q1241.64 623.155 1243.98 621.048 Q1246.32 618.942 1246.32 615.331 Q1246.32 611.72 1243.98 609.613 Q1241.64 607.507 1237.64 607.507 Q1235.76 607.507 1233.89 607.923 Q1232.03 608.34 1230.09 609.22 L1230.09 591.859 Z\" fill=\"#000000\" fill-rule=\"evenodd\" fill-opacity=\"1\" /><path clip-path=\"url(#clip830)\" d=\"M 0 0 M1194.12 332.496 L1201.76 332.496 L1201.76 306.131 L1193.45 307.797 L1193.45 303.538 L1201.71 301.871 L1206.39 301.871 L1206.39 332.496 L1214.02 332.496 L1214.02 336.431 L1194.12 336.431 L1194.12 332.496 Z\" fill=\"#000000\" fill-rule=\"evenodd\" fill-opacity=\"1\" /><path clip-path=\"url(#clip830)\" d=\"M 0 0 M1219.09 330.552 L1223.98 330.552 L1223.98 336.431 L1219.09 336.431 L1219.09 330.552 Z\" fill=\"#000000\" fill-rule=\"evenodd\" fill-opacity=\"1\" /><path clip-path=\"url(#clip830)\" d=\"M 0 0 M1239.05 304.95 Q1235.44 304.95 1233.61 308.515 Q1231.8 312.056 1231.8 319.186 Q1231.8 326.292 1233.61 329.857 Q1235.44 333.399 1239.05 333.399 Q1242.68 333.399 1244.49 329.857 Q1246.32 326.292 1246.32 319.186 Q1246.32 312.056 1244.49 308.515 Q1242.68 304.95 1239.05 304.95 M1239.05 301.246 Q1244.86 301.246 1247.91 305.853 Q1250.99 310.436 1250.99 319.186 Q1250.99 327.913 1247.91 332.519 Q1244.86 337.103 1239.05 337.103 Q1233.24 337.103 1230.16 332.519 Q1227.1 327.913 1227.1 319.186 Q1227.1 310.436 1230.16 305.853 Q1233.24 301.246 1239.05 301.246 Z\" fill=\"#000000\" fill-rule=\"evenodd\" fill-opacity=\"1\" /><path clip-path=\"url(#clip830)\" d=\"M 0 0 M1610.53 6.912 L1630.4 6.912 L1630.4 10.8472 L1615.21 10.8472 L1615.21 21.0323 L1628.91 21.0323 L1628.91 24.9675 L1615.21 24.9675 L1615.21 41.472 L1610.53 41.472 L1610.53 6.912 Z\" fill=\"#000000\" fill-rule=\"evenodd\" fill-opacity=\"1\" /><path clip-path=\"url(#clip830)\" d=\"M 0 0 M1631.83 31.2406 L1631.83 15.5462 L1636.09 15.5462 L1636.09 31.0785 Q1636.09 34.7591 1637.53 36.6109 Q1638.96 38.4396 1641.83 38.4396 Q1645.28 38.4396 1647.27 36.2405 Q1649.28 34.0415 1649.28 30.2452 L1649.28 15.5462 L1653.54 15.5462 L1653.54 41.472 L1649.28 41.472 L1649.28 37.4905 Q1647.73 39.8516 1645.67 41.009 Q1643.64 42.1433 1640.93 42.1433 Q1636.46 42.1433 1634.15 39.3655 Q1631.83 36.5878 1631.83 31.2406 M1642.55 14.9212 L1642.55 14.9212 Z\" fill=\"#000000\" fill-rule=\"evenodd\" fill-opacity=\"1\" /><path clip-path=\"url(#clip830)\" d=\"M 0 0 M1656.16 15.5462 L1676.39 15.5462 L1676.39 19.4351 L1660.37 38.0692 L1676.39 38.0692 L1676.39 41.472 L1655.58 41.472 L1655.58 37.5831 L1671.6 18.949 L1656.16 18.949 L1656.16 15.5462 Z\" fill=\"#000000\" fill-rule=\"evenodd\" fill-opacity=\"1\" /><path clip-path=\"url(#clip830)\" d=\"M 0 0 M1679.01 15.5462 L1699.24 15.5462 L1699.24 19.4351 L1683.22 38.0692 L1699.24 38.0692 L1699.24 41.472 L1678.43 41.472 L1678.43 37.5831 L1694.45 18.949 L1679.01 18.949 L1679.01 15.5462 Z\" fill=\"#000000\" fill-rule=\"evenodd\" fill-opacity=\"1\" /><path clip-path=\"url(#clip830)\" d=\"M 0 0 M1714.49 43.8794 Q1712.69 48.509 1710.97 49.921 Q1709.26 51.3331 1706.39 51.3331 L1702.99 51.3331 L1702.99 47.7683 L1705.49 47.7683 Q1707.25 47.7683 1708.22 46.9349 Q1709.19 46.1016 1710.37 42.9998 L1711.14 41.0553 L1700.65 15.5462 L1705.16 15.5462 L1713.27 35.8239 L1721.37 15.5462 L1725.88 15.5462 L1714.49 43.8794 Z\" fill=\"#000000\" fill-rule=\"evenodd\" fill-opacity=\"1\" /><path clip-path=\"url(#clip830)\" d=\"M 0 0 M1742.09 11.5185 L1735.74 28.7174 L1748.45 28.7174 L1742.09 11.5185 M1739.45 6.912 L1744.75 6.912 L1757.92 41.472 L1753.06 41.472 L1749.91 32.6063 L1734.33 32.6063 L1731.18 41.472 L1726.25 41.472 L1739.45 6.912 Z\" fill=\"#000000\" fill-rule=\"evenodd\" fill-opacity=\"1\" /><path clip-path=\"url(#clip830)\" d=\"M 0 0 M1778.96 25.2684 Q1780.46 25.7776 1781.88 27.4443 Q1783.31 29.111 1784.75 32.0276 L1789.49 41.472 L1784.47 41.472 L1780.05 32.6063 Q1778.33 29.1341 1776.71 27.9998 Q1775.12 26.8656 1772.34 26.8656 L1767.25 26.8656 L1767.25 41.472 L1762.57 41.472 L1762.57 6.912 L1773.13 6.912 Q1779.05 6.912 1781.97 9.38884 Q1784.89 11.8657 1784.89 16.8657 Q1784.89 20.1295 1783.36 22.2823 Q1781.85 24.4351 1778.96 25.2684 M1767.25 10.7546 L1767.25 23.023 L1773.13 23.023 Q1776.51 23.023 1778.22 21.4721 Q1779.96 19.898 1779.96 16.8657 Q1779.96 13.8333 1778.22 12.3055 Q1776.51 10.7546 1773.13 10.7546 L1767.25 10.7546 Z\" fill=\"#000000\" fill-rule=\"evenodd\" fill-opacity=\"1\" /><path clip-path=\"url(#clip830)\" d=\"M 0 0 M1785.9 6.912 L1815.14 6.912 L1815.14 10.8472 L1802.87 10.8472 L1802.87 41.472 L1798.17 41.472 L1798.17 10.8472 L1785.9 10.8472 L1785.9 6.912 Z\" fill=\"#000000\" fill-rule=\"evenodd\" fill-opacity=\"1\" /><path clip-path=\"url(#clip830)\" d=\"M 0 0 M1849.7 19.5277 Q1848.98 19.111 1848.13 18.9258 Q1847.29 18.7175 1846.27 18.7175 Q1842.66 18.7175 1840.72 21.0786 Q1838.8 23.4165 1838.8 27.8147 L1838.8 41.472 L1834.52 41.472 L1834.52 15.5462 L1838.8 15.5462 L1838.8 19.574 Q1840.14 17.2129 1842.29 16.0786 Q1844.45 14.9212 1847.52 14.9212 Q1847.96 14.9212 1848.5 14.9907 Q1849.03 15.037 1849.68 15.1527 L1849.7 19.5277 Z\" fill=\"#000000\" fill-rule=\"evenodd\" fill-opacity=\"1\" /><path clip-path=\"url(#clip830)\" d=\"M 0 0 M1874.89 25.8239 L1874.89 41.472 L1870.63 41.472 L1870.63 25.9628 Q1870.63 22.2823 1869.19 20.4536 Q1867.76 18.6249 1864.89 18.6249 Q1861.44 18.6249 1859.45 20.824 Q1857.45 23.023 1857.45 26.8193 L1857.45 41.472 L1853.17 41.472 L1853.17 5.45367 L1857.45 5.45367 L1857.45 19.574 Q1858.98 17.236 1861.04 16.0786 Q1863.13 14.9212 1865.83 14.9212 Q1870.3 14.9212 1872.59 17.699 Q1874.89 20.4536 1874.89 25.8239 Z\" fill=\"#000000\" fill-rule=\"evenodd\" fill-opacity=\"1\" /><path clip-path=\"url(#clip830)\" d=\"M 0 0 M1889.4 18.5323 Q1885.97 18.5323 1883.98 21.2175 Q1881.99 23.8795 1881.99 28.5323 Q1881.99 33.185 1883.96 35.8702 Q1885.95 38.5322 1889.4 38.5322 Q1892.8 38.5322 1894.79 35.847 Q1896.78 33.1619 1896.78 28.5323 Q1896.78 23.9258 1894.79 21.2406 Q1892.8 18.5323 1889.4 18.5323 M1889.4 14.9212 Q1894.95 14.9212 1898.13 18.5323 Q1901.3 22.1434 1901.3 28.5323 Q1901.3 34.898 1898.13 38.5322 Q1894.95 42.1433 1889.4 42.1433 Q1883.82 42.1433 1880.65 38.5322 Q1877.5 34.898 1877.5 28.5323 Q1877.5 22.1434 1880.65 18.5323 Q1883.82 14.9212 1889.4 14.9212 Z\" fill=\"#000000\" fill-rule=\"evenodd\" fill-opacity=\"1\" /><path clip-path=\"url(#clip830)\" d=\"M 0 0 M1921.39 19.9443 L1951.07 19.9443 L1951.07 23.8332 L1921.39 23.8332 L1921.39 19.9443 M1921.39 29.3887 L1951.07 29.3887 L1951.07 33.3239 L1921.39 33.3239 L1921.39 29.3887 Z\" fill=\"#000000\" fill-rule=\"evenodd\" fill-opacity=\"1\" /><path clip-path=\"url(#clip830)\" d=\"M 0 0 M1981.2 9.99069 Q1977.59 9.99069 1975.76 13.5555 Q1973.96 17.0971 1973.96 24.2267 Q1973.96 31.3332 1975.76 34.898 Q1977.59 38.4396 1981.2 38.4396 Q1984.84 38.4396 1986.64 34.898 Q1988.47 31.3332 1988.47 24.2267 Q1988.47 17.0971 1986.64 13.5555 Q1984.84 9.99069 1981.2 9.99069 M1981.2 6.287 Q1987.01 6.287 1990.07 10.8935 Q1993.15 15.4768 1993.15 24.2267 Q1993.15 32.9535 1990.07 37.56 Q1987.01 42.1433 1981.2 42.1433 Q1975.39 42.1433 1972.32 37.56 Q1969.26 32.9535 1969.26 24.2267 Q1969.26 15.4768 1972.32 10.8935 Q1975.39 6.287 1981.2 6.287 Z\" fill=\"#000000\" fill-rule=\"evenodd\" fill-opacity=\"1\" /><path clip-path=\"url(#clip830)\" d=\"M 0 0 M1998.22 35.5924 L2003.1 35.5924 L2003.1 41.472 L1998.22 41.472 L1998.22 35.5924 Z\" fill=\"#000000\" fill-rule=\"evenodd\" fill-opacity=\"1\" /><path clip-path=\"url(#clip830)\" d=\"M 0 0 M2006.99 6.912 L2029.21 6.912 L2029.21 8.90273 L2016.67 41.472 L2011.78 41.472 L2023.59 10.8472 L2006.99 10.8472 L2006.99 6.912 Z\" fill=\"#000000\" fill-rule=\"evenodd\" fill-opacity=\"1\" /><circle clip-path=\"url(#clip833)\" cx=\"2244.56\" cy=\"997.465\" r=\"14\" fill=\"#009af9\" fill-rule=\"evenodd\" fill-opacity=\"1\" stroke=\"#000000\" stroke-opacity=\"1\" stroke-width=\"3.2\"/>\n",
       "<circle clip-path=\"url(#clip833)\" cx=\"2217.71\" cy=\"643.919\" r=\"14\" fill=\"#009af9\" fill-rule=\"evenodd\" fill-opacity=\"1\" stroke=\"#000000\" stroke-opacity=\"1\" stroke-width=\"3.2\"/>\n",
       "<circle clip-path=\"url(#clip833)\" cx=\"2261.01\" cy=\"946.745\" r=\"14\" fill=\"#009af9\" fill-rule=\"evenodd\" fill-opacity=\"1\" stroke=\"#000000\" stroke-opacity=\"1\" stroke-width=\"3.2\"/>\n",
       "<circle clip-path=\"url(#clip833)\" cx=\"2242.77\" cy=\"832.423\" r=\"14\" fill=\"#009af9\" fill-rule=\"evenodd\" fill-opacity=\"1\" stroke=\"#000000\" stroke-opacity=\"1\" stroke-width=\"3.2\"/>\n",
       "<circle clip-path=\"url(#clip833)\" cx=\"2255.79\" cy=\"1031.21\" r=\"14\" fill=\"#009af9\" fill-rule=\"evenodd\" fill-opacity=\"1\" stroke=\"#000000\" stroke-opacity=\"1\" stroke-width=\"3.2\"/>\n",
       "<circle clip-path=\"url(#clip833)\" cx=\"2234.1\" cy=\"714.035\" r=\"14\" fill=\"#009af9\" fill-rule=\"evenodd\" fill-opacity=\"1\" stroke=\"#000000\" stroke-opacity=\"1\" stroke-width=\"3.2\"/>\n",
       "<circle clip-path=\"url(#clip833)\" cx=\"2165.57\" cy=\"642.374\" r=\"14\" fill=\"#009af9\" fill-rule=\"evenodd\" fill-opacity=\"1\" stroke=\"#000000\" stroke-opacity=\"1\" stroke-width=\"3.2\"/>\n",
       "<circle clip-path=\"url(#clip833)\" cx=\"2268.2\" cy=\"854.356\" r=\"14\" fill=\"#009af9\" fill-rule=\"evenodd\" fill-opacity=\"1\" stroke=\"#000000\" stroke-opacity=\"1\" stroke-width=\"3.2\"/>\n",
       "<circle clip-path=\"url(#clip833)\" cx=\"2230.08\" cy=\"424.655\" r=\"14\" fill=\"#009af9\" fill-rule=\"evenodd\" fill-opacity=\"1\" stroke=\"#000000\" stroke-opacity=\"1\" stroke-width=\"3.2\"/>\n",
       "<circle clip-path=\"url(#clip833)\" cx=\"2206.15\" cy=\"819.155\" r=\"14\" fill=\"#009af9\" fill-rule=\"evenodd\" fill-opacity=\"1\" stroke=\"#000000\" stroke-opacity=\"1\" stroke-width=\"3.2\"/>\n",
       "<circle clip-path=\"url(#clip833)\" cx=\"2180.28\" cy=\"837.926\" r=\"14\" fill=\"#009af9\" fill-rule=\"evenodd\" fill-opacity=\"1\" stroke=\"#000000\" stroke-opacity=\"1\" stroke-width=\"3.2\"/>\n",
       "<circle clip-path=\"url(#clip833)\" cx=\"2322.59\" cy=\"816.993\" r=\"14\" fill=\"#009af9\" fill-rule=\"evenodd\" fill-opacity=\"1\" stroke=\"#000000\" stroke-opacity=\"1\" stroke-width=\"3.2\"/>\n",
       "<circle clip-path=\"url(#clip833)\" cx=\"2188.55\" cy=\"917.227\" r=\"14\" fill=\"#009af9\" fill-rule=\"evenodd\" fill-opacity=\"1\" stroke=\"#000000\" stroke-opacity=\"1\" stroke-width=\"3.2\"/>\n",
       "<circle clip-path=\"url(#clip833)\" cx=\"2231.69\" cy=\"1009.37\" r=\"14\" fill=\"#009af9\" fill-rule=\"evenodd\" fill-opacity=\"1\" stroke=\"#000000\" stroke-opacity=\"1\" stroke-width=\"3.2\"/>\n",
       "<circle clip-path=\"url(#clip833)\" cx=\"2224.59\" cy=\"597.265\" r=\"14\" fill=\"#009af9\" fill-rule=\"evenodd\" fill-opacity=\"1\" stroke=\"#000000\" stroke-opacity=\"1\" stroke-width=\"3.2\"/>\n",
       "<circle clip-path=\"url(#clip833)\" cx=\"1729.59\" cy=\"1179.42\" r=\"14\" fill=\"#e26f46\" fill-rule=\"evenodd\" fill-opacity=\"1\" stroke=\"#000000\" stroke-opacity=\"1\" stroke-width=\"3.2\"/>\n",
       "<circle clip-path=\"url(#clip833)\" cx=\"1785.47\" cy=\"1132.43\" r=\"14\" fill=\"#e26f46\" fill-rule=\"evenodd\" fill-opacity=\"1\" stroke=\"#000000\" stroke-opacity=\"1\" stroke-width=\"3.2\"/>\n",
       "<circle clip-path=\"url(#clip833)\" cx=\"1962.81\" cy=\"1335.02\" r=\"14\" fill=\"#e26f46\" fill-rule=\"evenodd\" fill-opacity=\"1\" stroke=\"#000000\" stroke-opacity=\"1\" stroke-width=\"3.2\"/>\n",
       "<circle clip-path=\"url(#clip833)\" cx=\"1592.88\" cy=\"606.709\" r=\"14\" fill=\"#e26f46\" fill-rule=\"evenodd\" fill-opacity=\"1\" stroke=\"#000000\" stroke-opacity=\"1\" stroke-width=\"3.2\"/>\n",
       "<circle clip-path=\"url(#clip833)\" cx=\"1784.59\" cy=\"1091.63\" r=\"14\" fill=\"#e26f46\" fill-rule=\"evenodd\" fill-opacity=\"1\" stroke=\"#000000\" stroke-opacity=\"1\" stroke-width=\"3.2\"/>\n",
       "<circle clip-path=\"url(#clip833)\" cx=\"1721.3\" cy=\"1141.16\" r=\"14\" fill=\"#e26f46\" fill-rule=\"evenodd\" fill-opacity=\"1\" stroke=\"#000000\" stroke-opacity=\"1\" stroke-width=\"3.2\"/>\n",
       "<circle clip-path=\"url(#clip833)\" cx=\"1695.3\" cy=\"786\" r=\"14\" fill=\"#e26f46\" fill-rule=\"evenodd\" fill-opacity=\"1\" stroke=\"#000000\" stroke-opacity=\"1\" stroke-width=\"3.2\"/>\n",
       "<circle clip-path=\"url(#clip833)\" cx=\"1832.13\" cy=\"1306.58\" r=\"14\" fill=\"#e26f46\" fill-rule=\"evenodd\" fill-opacity=\"1\" stroke=\"#000000\" stroke-opacity=\"1\" stroke-width=\"3.2\"/>\n",
       "<circle clip-path=\"url(#clip833)\" cx=\"1762.65\" cy=\"1068.26\" r=\"14\" fill=\"#e26f46\" fill-rule=\"evenodd\" fill-opacity=\"1\" stroke=\"#000000\" stroke-opacity=\"1\" stroke-width=\"3.2\"/>\n",
       "<circle clip-path=\"url(#clip833)\" cx=\"1851.08\" cy=\"1292.05\" r=\"14\" fill=\"#e26f46\" fill-rule=\"evenodd\" fill-opacity=\"1\" stroke=\"#000000\" stroke-opacity=\"1\" stroke-width=\"3.2\"/>\n",
       "<circle clip-path=\"url(#clip833)\" cx=\"1613.62\" cy=\"757.224\" r=\"14\" fill=\"#e26f46\" fill-rule=\"evenodd\" fill-opacity=\"1\" stroke=\"#000000\" stroke-opacity=\"1\" stroke-width=\"3.2\"/>\n",
       "<circle clip-path=\"url(#clip833)\" cx=\"1938.33\" cy=\"1479.74\" r=\"14\" fill=\"#e26f46\" fill-rule=\"evenodd\" fill-opacity=\"1\" stroke=\"#000000\" stroke-opacity=\"1\" stroke-width=\"3.2\"/>\n",
       "<circle clip-path=\"url(#clip833)\" cx=\"1795.51\" cy=\"1293.31\" r=\"14\" fill=\"#e26f46\" fill-rule=\"evenodd\" fill-opacity=\"1\" stroke=\"#000000\" stroke-opacity=\"1\" stroke-width=\"3.2\"/>\n",
       "<circle clip-path=\"url(#clip833)\" cx=\"1543.67\" cy=\"1189.96\" r=\"14\" fill=\"#e26f46\" fill-rule=\"evenodd\" fill-opacity=\"1\" stroke=\"#000000\" stroke-opacity=\"1\" stroke-width=\"3.2\"/>\n",
       "<circle clip-path=\"url(#clip833)\" cx=\"1694.48\" cy=\"993.274\" r=\"14\" fill=\"#e26f46\" fill-rule=\"evenodd\" fill-opacity=\"1\" stroke=\"#000000\" stroke-opacity=\"1\" stroke-width=\"3.2\"/>\n",
       "<circle clip-path=\"url(#clip833)\" cx=\"1618.72\" cy=\"1340.5\" r=\"14\" fill=\"#e26f46\" fill-rule=\"evenodd\" fill-opacity=\"1\" stroke=\"#000000\" stroke-opacity=\"1\" stroke-width=\"3.2\"/>\n",
       "<circle clip-path=\"url(#clip833)\" cx=\"1765.53\" cy=\"937.882\" r=\"14\" fill=\"#e26f46\" fill-rule=\"evenodd\" fill-opacity=\"1\" stroke=\"#000000\" stroke-opacity=\"1\" stroke-width=\"3.2\"/>\n",
       "<circle clip-path=\"url(#clip833)\" cx=\"1604.79\" cy=\"1017.46\" r=\"14\" fill=\"#3da44d\" fill-rule=\"evenodd\" fill-opacity=\"1\" stroke=\"#000000\" stroke-opacity=\"1\" stroke-width=\"3.2\"/>\n",
       "<circle clip-path=\"url(#clip833)\" cx=\"1443.91\" cy=\"723.102\" r=\"14\" fill=\"#3da44d\" fill-rule=\"evenodd\" fill-opacity=\"1\" stroke=\"#000000\" stroke-opacity=\"1\" stroke-width=\"3.2\"/>\n",
       "<circle clip-path=\"url(#clip833)\" cx=\"1483.52\" cy=\"774.269\" r=\"14\" fill=\"#3da44d\" fill-rule=\"evenodd\" fill-opacity=\"1\" stroke=\"#000000\" stroke-opacity=\"1\" stroke-width=\"3.2\"/>\n",
       "<circle clip-path=\"url(#clip833)\" cx=\"1460.3\" cy=\"793.218\" r=\"14\" fill=\"#3da44d\" fill-rule=\"evenodd\" fill-opacity=\"1\" stroke=\"#000000\" stroke-opacity=\"1\" stroke-width=\"3.2\"/>\n",
       "<circle clip-path=\"url(#clip833)\" cx=\"1524.16\" cy=\"830.214\" r=\"14\" fill=\"#3da44d\" fill-rule=\"evenodd\" fill-opacity=\"1\" stroke=\"#000000\" stroke-opacity=\"1\" stroke-width=\"3.2\"/>\n",
       "<circle clip-path=\"url(#clip833)\" cx=\"1517.22\" cy=\"875.504\" r=\"14\" fill=\"#3da44d\" fill-rule=\"evenodd\" fill-opacity=\"1\" stroke=\"#000000\" stroke-opacity=\"1\" stroke-width=\"3.2\"/>\n",
       "<circle clip-path=\"url(#clip833)\" cx=\"1521.4\" cy=\"661.759\" r=\"14\" fill=\"#3da44d\" fill-rule=\"evenodd\" fill-opacity=\"1\" stroke=\"#000000\" stroke-opacity=\"1\" stroke-width=\"3.2\"/>\n",
       "<circle clip-path=\"url(#clip833)\" cx=\"1459.46\" cy=\"1041.54\" r=\"14\" fill=\"#3da44d\" fill-rule=\"evenodd\" fill-opacity=\"1\" stroke=\"#000000\" stroke-opacity=\"1\" stroke-width=\"3.2\"/>\n",
       "<circle clip-path=\"url(#clip833)\" cx=\"1378.18\" cy=\"682.945\" r=\"14\" fill=\"#3da44d\" fill-rule=\"evenodd\" fill-opacity=\"1\" stroke=\"#000000\" stroke-opacity=\"1\" stroke-width=\"3.2\"/>\n",
       "<circle clip-path=\"url(#clip833)\" cx=\"1540.13\" cy=\"1024.49\" r=\"14\" fill=\"#3da44d\" fill-rule=\"evenodd\" fill-opacity=\"1\" stroke=\"#000000\" stroke-opacity=\"1\" stroke-width=\"3.2\"/>\n",
       "<circle clip-path=\"url(#clip833)\" cx=\"1600.67\" cy=\"1232.57\" r=\"14\" fill=\"#3da44d\" fill-rule=\"evenodd\" fill-opacity=\"1\" stroke=\"#000000\" stroke-opacity=\"1\" stroke-width=\"3.2\"/>\n",
       "<circle clip-path=\"url(#clip833)\" cx=\"1317.16\" cy=\"104.257\" r=\"14\" fill=\"#3da44d\" fill-rule=\"evenodd\" fill-opacity=\"1\" stroke=\"#000000\" stroke-opacity=\"1\" stroke-width=\"3.2\"/>\n",
       "<circle clip-path=\"url(#clip833)\" cx=\"1619.91\" cy=\"966.65\" r=\"14\" fill=\"#3da44d\" fill-rule=\"evenodd\" fill-opacity=\"1\" stroke=\"#000000\" stroke-opacity=\"1\" stroke-width=\"3.2\"/>\n",
       "</svg>\n"
      ],
      "image/svg+xml": [
       "<?xml version=\"1.0\" encoding=\"utf-8\"?>\n",
       "<svg xmlns=\"http://www.w3.org/2000/svg\" xmlns:xlink=\"http://www.w3.org/1999/xlink\" width=\"600\" height=\"400\" viewBox=\"0 0 2400 1600\">\n",
       "<defs>\n",
       "  <clipPath id=\"clip800\">\n",
       "    <rect x=\"0\" y=\"0\" width=\"2400\" height=\"1600\"/>\n",
       "  </clipPath>\n",
       "</defs>\n",
       "<path clip-path=\"url(#clip800)\" d=\"\n",
       "M0 1600 L2400 1600 L2400 0 L0 0  Z\n",
       "  \" fill=\"#ffffff\" fill-rule=\"evenodd\" fill-opacity=\"1\"/>\n",
       "<defs>\n",
       "  <clipPath id=\"clip801\">\n",
       "    <rect x=\"480\" y=\"0\" width=\"1681\" height=\"1600\"/>\n",
       "  </clipPath>\n",
       "</defs>\n",
       "<path clip-path=\"url(#clip800)\" d=\"\n",
       "M86.9921 1521.01 L1152.76 1521.01 L1152.76 62.9921 L86.9921 62.9921  Z\n",
       "  \" fill=\"#ffffff\" fill-rule=\"evenodd\" fill-opacity=\"1\"/>\n",
       "<defs>\n",
       "  <clipPath id=\"clip802\">\n",
       "    <rect x=\"86\" y=\"62\" width=\"1067\" height=\"1459\"/>\n",
       "  </clipPath>\n",
       "</defs>\n",
       "<polyline clip-path=\"url(#clip802)\" style=\"stroke:#000000; stroke-width:2; stroke-opacity:0.1; fill:none\" points=\"\n",
       "  153.383,1521.01 153.383,62.9921 \n",
       "  \"/>\n",
       "<polyline clip-path=\"url(#clip802)\" style=\"stroke:#000000; stroke-width:2; stroke-opacity:0.1; fill:none\" points=\"\n",
       "  309.309,1521.01 309.309,62.9921 \n",
       "  \"/>\n",
       "<polyline clip-path=\"url(#clip802)\" style=\"stroke:#000000; stroke-width:2; stroke-opacity:0.1; fill:none\" points=\"\n",
       "  465.234,1521.01 465.234,62.9921 \n",
       "  \"/>\n",
       "<polyline clip-path=\"url(#clip802)\" style=\"stroke:#000000; stroke-width:2; stroke-opacity:0.1; fill:none\" points=\"\n",
       "  621.159,1521.01 621.159,62.9921 \n",
       "  \"/>\n",
       "<polyline clip-path=\"url(#clip802)\" style=\"stroke:#000000; stroke-width:2; stroke-opacity:0.1; fill:none\" points=\"\n",
       "  777.085,1521.01 777.085,62.9921 \n",
       "  \"/>\n",
       "<polyline clip-path=\"url(#clip802)\" style=\"stroke:#000000; stroke-width:2; stroke-opacity:0.1; fill:none\" points=\"\n",
       "  933.01,1521.01 933.01,62.9921 \n",
       "  \"/>\n",
       "<polyline clip-path=\"url(#clip802)\" style=\"stroke:#000000; stroke-width:2; stroke-opacity:0.1; fill:none\" points=\"\n",
       "  1088.94,1521.01 1088.94,62.9921 \n",
       "  \"/>\n",
       "<polyline clip-path=\"url(#clip800)\" style=\"stroke:#000000; stroke-width:4; stroke-opacity:1; fill:none\" points=\"\n",
       "  86.9921,1521.01 1152.76,1521.01 \n",
       "  \"/>\n",
       "<polyline clip-path=\"url(#clip800)\" style=\"stroke:#000000; stroke-width:4; stroke-opacity:1; fill:none\" points=\"\n",
       "  153.383,1521.01 153.383,1503.51 \n",
       "  \"/>\n",
       "<polyline clip-path=\"url(#clip800)\" style=\"stroke:#000000; stroke-width:4; stroke-opacity:1; fill:none\" points=\"\n",
       "  309.309,1521.01 309.309,1503.51 \n",
       "  \"/>\n",
       "<polyline clip-path=\"url(#clip800)\" style=\"stroke:#000000; stroke-width:4; stroke-opacity:1; fill:none\" points=\"\n",
       "  465.234,1521.01 465.234,1503.51 \n",
       "  \"/>\n",
       "<polyline clip-path=\"url(#clip800)\" style=\"stroke:#000000; stroke-width:4; stroke-opacity:1; fill:none\" points=\"\n",
       "  621.159,1521.01 621.159,1503.51 \n",
       "  \"/>\n",
       "<polyline clip-path=\"url(#clip800)\" style=\"stroke:#000000; stroke-width:4; stroke-opacity:1; fill:none\" points=\"\n",
       "  777.085,1521.01 777.085,1503.51 \n",
       "  \"/>\n",
       "<polyline clip-path=\"url(#clip800)\" style=\"stroke:#000000; stroke-width:4; stroke-opacity:1; fill:none\" points=\"\n",
       "  933.01,1521.01 933.01,1503.51 \n",
       "  \"/>\n",
       "<polyline clip-path=\"url(#clip800)\" style=\"stroke:#000000; stroke-width:4; stroke-opacity:1; fill:none\" points=\"\n",
       "  1088.94,1521.01 1088.94,1503.51 \n",
       "  \"/>\n",
       "<path clip-path=\"url(#clip800)\" d=\"M 0 0 M132.368 1558.69 L154.625 1558.69 L154.625 1561.64 L132.368 1561.64 L132.368 1558.69 Z\" fill=\"#000000\" fill-rule=\"evenodd\" fill-opacity=\"1\" /><path clip-path=\"url(#clip800)\" d=\"M 0 0 M169.052 1557.34 Q171.569 1557.87 172.975 1559.58 Q174.399 1561.28 174.399 1563.78 Q174.399 1567.61 171.76 1569.71 Q169.121 1571.82 164.26 1571.82 Q162.628 1571.82 160.892 1571.49 Q159.173 1571.17 157.333 1570.53 L157.333 1567.15 Q158.791 1568 160.527 1568.43 Q162.264 1568.86 164.156 1568.86 Q167.454 1568.86 169.173 1567.56 Q170.909 1566.26 170.909 1563.78 Q170.909 1561.49 169.295 1560.2 Q167.698 1558.9 164.833 1558.9 L161.812 1558.9 L161.812 1556.02 L164.972 1556.02 Q167.559 1556.02 168.93 1554.99 Q170.302 1553.95 170.302 1552.01 Q170.302 1550.01 168.878 1548.95 Q167.472 1547.87 164.833 1547.87 Q163.392 1547.87 161.743 1548.19 Q160.093 1548.5 158.114 1549.16 L158.114 1546.03 Q160.111 1545.48 161.847 1545.2 Q163.6 1544.92 165.145 1544.92 Q169.139 1544.92 171.465 1546.75 Q173.791 1548.55 173.791 1551.64 Q173.791 1553.79 172.559 1555.29 Q171.326 1556.76 169.052 1557.34 Z\" fill=\"#000000\" fill-rule=\"evenodd\" fill-opacity=\"1\" /><path clip-path=\"url(#clip800)\" d=\"M 0 0 M288.649 1558.69 L310.906 1558.69 L310.906 1561.64 L288.649 1561.64 L288.649 1558.69 Z\" fill=\"#000000\" fill-rule=\"evenodd\" fill-opacity=\"1\" /><path clip-path=\"url(#clip800)\" d=\"M 0 0 M317.729 1568.36 L329.968 1568.36 L329.968 1571.31 L313.51 1571.31 L313.51 1568.36 Q315.507 1566.29 318.944 1562.82 Q322.399 1559.33 323.284 1558.33 Q324.968 1556.43 325.628 1555.13 Q326.305 1553.81 326.305 1552.54 Q326.305 1550.48 324.847 1549.18 Q323.406 1547.87 321.079 1547.87 Q319.43 1547.87 317.59 1548.45 Q315.767 1549.02 313.684 1550.18 L313.684 1546.64 Q315.802 1545.79 317.642 1545.36 Q319.482 1544.92 321.01 1544.92 Q325.038 1544.92 327.434 1546.94 Q329.829 1548.95 329.829 1552.32 Q329.829 1553.92 329.222 1555.36 Q328.631 1556.78 327.052 1558.73 Q326.618 1559.23 324.291 1561.64 Q321.965 1564.04 317.729 1568.36 Z\" fill=\"#000000\" fill-rule=\"evenodd\" fill-opacity=\"1\" /><path clip-path=\"url(#clip800)\" d=\"M 0 0 M444.435 1558.69 L466.692 1558.69 L466.692 1561.64 L444.435 1561.64 L444.435 1558.69 Z\" fill=\"#000000\" fill-rule=\"evenodd\" fill-opacity=\"1\" /><path clip-path=\"url(#clip800)\" d=\"M 0 0 M471.102 1568.36 L476.831 1568.36 L476.831 1548.59 L470.599 1549.84 L470.599 1546.64 L476.796 1545.39 L480.303 1545.39 L480.303 1568.36 L486.032 1568.36 L486.032 1571.31 L471.102 1571.31 L471.102 1568.36 Z\" fill=\"#000000\" fill-rule=\"evenodd\" fill-opacity=\"1\" /><path clip-path=\"url(#clip800)\" d=\"M 0 0 M621.159 1547.7 Q618.451 1547.7 617.079 1550.37 Q615.725 1553.03 615.725 1558.38 Q615.725 1563.71 617.079 1566.38 Q618.451 1569.04 621.159 1569.04 Q623.885 1569.04 625.239 1566.38 Q626.611 1563.71 626.611 1558.38 Q626.611 1553.03 625.239 1550.37 Q623.885 1547.7 621.159 1547.7 M621.159 1544.92 Q625.517 1544.92 627.809 1548.38 Q630.118 1551.82 630.118 1558.38 Q630.118 1564.92 627.809 1568.38 Q625.517 1571.82 621.159 1571.82 Q616.802 1571.82 614.493 1568.38 Q612.201 1564.92 612.201 1558.38 Q612.201 1551.82 614.493 1548.38 Q616.802 1544.92 621.159 1544.92 Z\" fill=\"#000000\" fill-rule=\"evenodd\" fill-opacity=\"1\" /><path clip-path=\"url(#clip800)\" d=\"M 0 0 M769.871 1568.36 L775.6 1568.36 L775.6 1548.59 L769.368 1549.84 L769.368 1546.64 L775.565 1545.39 L779.072 1545.39 L779.072 1568.36 L784.802 1568.36 L784.802 1571.31 L769.871 1571.31 L769.871 1568.36 Z\" fill=\"#000000\" fill-rule=\"evenodd\" fill-opacity=\"1\" /><path clip-path=\"url(#clip800)\" d=\"M 0 0 M928.999 1568.36 L941.239 1568.36 L941.239 1571.31 L924.781 1571.31 L924.781 1568.36 Q926.777 1566.29 930.215 1562.82 Q933.67 1559.33 934.555 1558.33 Q936.239 1556.43 936.899 1555.13 Q937.576 1553.81 937.576 1552.54 Q937.576 1550.48 936.117 1549.18 Q934.676 1547.87 932.35 1547.87 Q930.701 1547.87 928.861 1548.45 Q927.038 1549.02 924.954 1550.18 L924.954 1546.64 Q927.072 1545.79 928.913 1545.36 Q930.753 1544.92 932.281 1544.92 Q936.308 1544.92 938.704 1546.94 Q941.1 1548.95 941.1 1552.32 Q941.1 1553.92 940.492 1555.36 Q939.902 1556.78 938.322 1558.73 Q937.888 1559.23 935.562 1561.64 Q933.236 1564.04 928.999 1568.36 Z\" fill=\"#000000\" fill-rule=\"evenodd\" fill-opacity=\"1\" /><path clip-path=\"url(#clip800)\" d=\"M 0 0 M1092.12 1557.34 Q1094.64 1557.87 1096.04 1559.58 Q1097.47 1561.28 1097.47 1563.78 Q1097.47 1567.61 1094.83 1569.71 Q1092.19 1571.82 1087.33 1571.82 Q1085.7 1571.82 1083.96 1571.49 Q1082.24 1571.17 1080.4 1570.53 L1080.4 1567.15 Q1081.86 1568 1083.6 1568.43 Q1085.33 1568.86 1087.23 1568.86 Q1090.52 1568.86 1092.24 1567.56 Q1093.98 1566.26 1093.98 1563.78 Q1093.98 1561.49 1092.36 1560.2 Q1090.77 1558.9 1087.9 1558.9 L1084.88 1558.9 L1084.88 1556.02 L1088.04 1556.02 Q1090.63 1556.02 1092 1554.99 Q1093.37 1553.95 1093.37 1552.01 Q1093.37 1550.01 1091.95 1548.95 Q1090.54 1547.87 1087.9 1547.87 Q1086.46 1547.87 1084.81 1548.19 Q1083.16 1548.5 1081.18 1549.16 L1081.18 1546.03 Q1083.18 1545.48 1084.92 1545.2 Q1086.67 1544.92 1088.21 1544.92 Q1092.21 1544.92 1094.53 1546.75 Q1096.86 1548.55 1096.86 1551.64 Q1096.86 1553.79 1095.63 1555.29 Q1094.4 1556.76 1092.12 1557.34 Z\" fill=\"#000000\" fill-rule=\"evenodd\" fill-opacity=\"1\" /><polyline clip-path=\"url(#clip802)\" style=\"stroke:#000000; stroke-width:2; stroke-opacity:0.1; fill:none\" points=\"\n",
       "  86.9921,1479.1 1152.76,1479.1 \n",
       "  \"/>\n",
       "<polyline clip-path=\"url(#clip802)\" style=\"stroke:#000000; stroke-width:2; stroke-opacity:0.1; fill:none\" points=\"\n",
       "  86.9921,1189.11 1152.76,1189.11 \n",
       "  \"/>\n",
       "<polyline clip-path=\"url(#clip802)\" style=\"stroke:#000000; stroke-width:2; stroke-opacity:0.1; fill:none\" points=\"\n",
       "  86.9921,899.126 1152.76,899.126 \n",
       "  \"/>\n",
       "<polyline clip-path=\"url(#clip802)\" style=\"stroke:#000000; stroke-width:2; stroke-opacity:0.1; fill:none\" points=\"\n",
       "  86.9921,609.139 1152.76,609.139 \n",
       "  \"/>\n",
       "<polyline clip-path=\"url(#clip802)\" style=\"stroke:#000000; stroke-width:2; stroke-opacity:0.1; fill:none\" points=\"\n",
       "  86.9921,319.151 1152.76,319.151 \n",
       "  \"/>\n",
       "<polyline clip-path=\"url(#clip800)\" style=\"stroke:#000000; stroke-width:4; stroke-opacity:1; fill:none\" points=\"\n",
       "  86.9921,1521.01 86.9921,62.9921 \n",
       "  \"/>\n",
       "<polyline clip-path=\"url(#clip800)\" style=\"stroke:#000000; stroke-width:4; stroke-opacity:1; fill:none\" points=\"\n",
       "  86.9921,1479.1 99.7813,1479.1 \n",
       "  \"/>\n",
       "<polyline clip-path=\"url(#clip800)\" style=\"stroke:#000000; stroke-width:4; stroke-opacity:1; fill:none\" points=\"\n",
       "  86.9921,1189.11 99.7813,1189.11 \n",
       "  \"/>\n",
       "<polyline clip-path=\"url(#clip800)\" style=\"stroke:#000000; stroke-width:4; stroke-opacity:1; fill:none\" points=\"\n",
       "  86.9921,899.126 99.7813,899.126 \n",
       "  \"/>\n",
       "<polyline clip-path=\"url(#clip800)\" style=\"stroke:#000000; stroke-width:4; stroke-opacity:1; fill:none\" points=\"\n",
       "  86.9921,609.139 99.7813,609.139 \n",
       "  \"/>\n",
       "<polyline clip-path=\"url(#clip800)\" style=\"stroke:#000000; stroke-width:4; stroke-opacity:1; fill:none\" points=\"\n",
       "  86.9921,319.151 99.7813,319.151 \n",
       "  \"/>\n",
       "<path clip-path=\"url(#clip800)\" d=\"M 0 0 M-41.4379 1479.55 L-11.7622 1479.55 L-11.7622 1483.49 L-41.4379 1483.49 L-41.4379 1479.55 Z\" fill=\"#000000\" fill-rule=\"evenodd\" fill-opacity=\"1\" /><path clip-path=\"url(#clip800)\" d=\"M 0 0 M-5.88257 1492.45 L1.75628 1492.45 L1.75628 1466.08 L-6.55386 1467.75 L-6.55386 1463.49 L1.70998 1461.82 L6.38588 1461.82 L6.38588 1492.45 L14.0247 1492.45 L14.0247 1496.38 L-5.88257 1496.38 L-5.88257 1492.45 Z\" fill=\"#000000\" fill-rule=\"evenodd\" fill-opacity=\"1\" /><path clip-path=\"url(#clip800)\" d=\"M 0 0 M19.0941 1490.5 L23.9784 1490.5 L23.9784 1496.38 L19.0941 1496.38 L19.0941 1490.5 Z\" fill=\"#000000\" fill-rule=\"evenodd\" fill-opacity=\"1\" /><path clip-path=\"url(#clip800)\" d=\"M 0 0 M39.0477 1464.9 Q35.4367 1464.9 33.608 1468.46 Q31.8024 1472.01 31.8024 1479.14 Q31.8024 1486.24 33.608 1489.81 Q35.4367 1493.35 39.0477 1493.35 Q42.682 1493.35 44.4875 1489.81 Q46.3162 1486.24 46.3162 1479.14 Q46.3162 1472.01 44.4875 1468.46 Q42.682 1464.9 39.0477 1464.9 M39.0477 1461.2 Q44.8579 1461.2 47.9134 1465.8 Q50.9921 1470.39 50.9921 1479.14 Q50.9921 1487.86 47.9134 1492.47 Q44.8579 1497.05 39.0477 1497.05 Q33.2376 1497.05 30.1589 1492.47 Q27.1034 1487.86 27.1034 1479.14 Q27.1034 1470.39 30.1589 1465.8 Q33.2376 1461.2 39.0477 1461.2 Z\" fill=\"#000000\" fill-rule=\"evenodd\" fill-opacity=\"1\" /><path clip-path=\"url(#clip800)\" d=\"M 0 0 M-41.6694 1189.56 L-11.9936 1189.56 L-11.9936 1193.5 L-41.6694 1193.5 L-41.6694 1189.56 Z\" fill=\"#000000\" fill-rule=\"evenodd\" fill-opacity=\"1\" /><path clip-path=\"url(#clip800)\" d=\"M 0 0 M3.07572 1174.91 Q-0.535376 1174.91 -2.36407 1178.48 Q-4.16962 1182.02 -4.16962 1189.15 Q-4.16962 1196.25 -2.36407 1199.82 Q-0.535376 1203.36 3.07572 1203.36 Q6.70996 1203.36 8.5155 1199.82 Q10.3442 1196.25 10.3442 1189.15 Q10.3442 1182.02 8.5155 1178.48 Q6.70996 1174.91 3.07572 1174.91 M3.07572 1171.21 Q8.88587 1171.21 11.9414 1175.82 Q15.0201 1180.4 15.0201 1189.15 Q15.0201 1197.88 11.9414 1202.48 Q8.88587 1207.06 3.07572 1207.06 Q-2.73444 1207.06 -5.81313 1202.48 Q-8.86866 1197.88 -8.86866 1189.15 Q-8.86866 1180.4 -5.81313 1175.82 Q-2.73444 1171.21 3.07572 1171.21 Z\" fill=\"#000000\" fill-rule=\"evenodd\" fill-opacity=\"1\" /><path clip-path=\"url(#clip800)\" d=\"M 0 0 M20.0895 1200.51 L24.9737 1200.51 L24.9737 1206.39 L20.0895 1206.39 L20.0895 1200.51 Z\" fill=\"#000000\" fill-rule=\"evenodd\" fill-opacity=\"1\" /><path clip-path=\"url(#clip800)\" d=\"M 0 0 M30.0895 1171.83 L48.4458 1171.83 L48.4458 1175.77 L34.3718 1175.77 L34.3718 1184.24 Q35.3904 1183.89 36.4089 1183.73 Q37.4274 1183.55 38.4459 1183.55 Q44.2329 1183.55 47.6125 1186.72 Q50.9921 1189.89 50.9921 1195.31 Q50.9921 1200.88 47.5199 1203.99 Q44.0477 1207.06 37.7283 1207.06 Q35.5524 1207.06 33.2839 1206.69 Q31.0385 1206.32 28.6311 1205.58 L28.6311 1200.88 Q30.7145 1202.02 32.9367 1202.57 Q35.1589 1203.13 37.6357 1203.13 Q41.6403 1203.13 43.9783 1201.02 Q46.3162 1198.92 46.3162 1195.31 Q46.3162 1191.69 43.9783 1189.59 Q41.6403 1187.48 37.6357 1187.48 Q35.7607 1187.48 33.8857 1187.9 Q32.0339 1188.31 30.0895 1189.19 L30.0895 1171.83 Z\" fill=\"#000000\" fill-rule=\"evenodd\" fill-opacity=\"1\" /><path clip-path=\"url(#clip800)\" d=\"M 0 0 M2.08035 884.925 Q-1.53074 884.925 -3.35943 888.49 Q-5.16498 892.031 -5.16498 899.161 Q-5.16498 906.267 -3.35943 909.832 Q-1.53074 913.374 2.08035 913.374 Q5.71459 913.374 7.52014 909.832 Q9.34883 906.267 9.34883 899.161 Q9.34883 892.031 7.52014 888.49 Q5.71459 884.925 2.08035 884.925 M2.08035 881.221 Q7.89051 881.221 10.946 885.828 Q14.0247 890.411 14.0247 899.161 Q14.0247 907.888 10.946 912.494 Q7.89051 917.077 2.08035 917.077 Q-3.7298 917.077 -6.80849 912.494 Q-9.86403 907.888 -9.86403 899.161 Q-9.86403 890.411 -6.80849 885.828 Q-3.7298 881.221 2.08035 881.221 Z\" fill=\"#000000\" fill-rule=\"evenodd\" fill-opacity=\"1\" /><path clip-path=\"url(#clip800)\" d=\"M 0 0 M19.0941 910.527 L23.9784 910.527 L23.9784 916.406 L19.0941 916.406 L19.0941 910.527 Z\" fill=\"#000000\" fill-rule=\"evenodd\" fill-opacity=\"1\" /><path clip-path=\"url(#clip800)\" d=\"M 0 0 M39.0477 884.925 Q35.4367 884.925 33.608 888.49 Q31.8024 892.031 31.8024 899.161 Q31.8024 906.267 33.608 909.832 Q35.4367 913.374 39.0477 913.374 Q42.682 913.374 44.4875 909.832 Q46.3162 906.267 46.3162 899.161 Q46.3162 892.031 44.4875 888.49 Q42.682 884.925 39.0477 884.925 M39.0477 881.221 Q44.8579 881.221 47.9134 885.828 Q50.9921 890.411 50.9921 899.161 Q50.9921 907.888 47.9134 912.494 Q44.8579 917.077 39.0477 917.077 Q33.2376 917.077 30.1589 912.494 Q27.1034 907.888 27.1034 899.161 Q27.1034 890.411 30.1589 885.828 Q33.2376 881.221 39.0477 881.221 Z\" fill=\"#000000\" fill-rule=\"evenodd\" fill-opacity=\"1\" /><path clip-path=\"url(#clip800)\" d=\"M 0 0 M3.07572 594.937 Q-0.535376 594.937 -2.36407 598.502 Q-4.16962 602.044 -4.16962 609.173 Q-4.16962 616.28 -2.36407 619.845 Q-0.535376 623.386 3.07572 623.386 Q6.70996 623.386 8.5155 619.845 Q10.3442 616.28 10.3442 609.173 Q10.3442 602.044 8.5155 598.502 Q6.70996 594.937 3.07572 594.937 M3.07572 591.234 Q8.88587 591.234 11.9414 595.84 Q15.0201 600.424 15.0201 609.173 Q15.0201 617.9 11.9414 622.507 Q8.88587 627.09 3.07572 627.09 Q-2.73444 627.09 -5.81313 622.507 Q-8.86866 617.9 -8.86866 609.173 Q-8.86866 600.424 -5.81313 595.84 Q-2.73444 591.234 3.07572 591.234 Z\" fill=\"#000000\" fill-rule=\"evenodd\" fill-opacity=\"1\" /><path clip-path=\"url(#clip800)\" d=\"M 0 0 M20.0895 620.539 L24.9737 620.539 L24.9737 626.419 L20.0895 626.419 L20.0895 620.539 Z\" fill=\"#000000\" fill-rule=\"evenodd\" fill-opacity=\"1\" /><path clip-path=\"url(#clip800)\" d=\"M 0 0 M30.0895 591.859 L48.4458 591.859 L48.4458 595.794 L34.3718 595.794 L34.3718 604.266 Q35.3904 603.919 36.4089 603.757 Q37.4274 603.572 38.4459 603.572 Q44.2329 603.572 47.6125 606.743 Q50.9921 609.914 50.9921 615.331 Q50.9921 620.91 47.5199 624.011 Q44.0477 627.09 37.7283 627.09 Q35.5524 627.09 33.2839 626.72 Q31.0385 626.349 28.6311 625.609 L28.6311 620.91 Q30.7145 622.044 32.9367 622.599 Q35.1589 623.155 37.6357 623.155 Q41.6403 623.155 43.9783 621.048 Q46.3162 618.942 46.3162 615.331 Q46.3162 611.72 43.9783 609.613 Q41.6403 607.507 37.6357 607.507 Q35.7607 607.507 33.8857 607.923 Q32.0339 608.34 30.0895 609.22 L30.0895 591.859 Z\" fill=\"#000000\" fill-rule=\"evenodd\" fill-opacity=\"1\" /><path clip-path=\"url(#clip800)\" d=\"M 0 0 M-5.88257 332.496 L1.75628 332.496 L1.75628 306.131 L-6.55386 307.797 L-6.55386 303.538 L1.70998 301.871 L6.38588 301.871 L6.38588 332.496 L14.0247 332.496 L14.0247 336.431 L-5.88257 336.431 L-5.88257 332.496 Z\" fill=\"#000000\" fill-rule=\"evenodd\" fill-opacity=\"1\" /><path clip-path=\"url(#clip800)\" d=\"M 0 0 M19.0941 330.552 L23.9784 330.552 L23.9784 336.431 L19.0941 336.431 L19.0941 330.552 Z\" fill=\"#000000\" fill-rule=\"evenodd\" fill-opacity=\"1\" /><path clip-path=\"url(#clip800)\" d=\"M 0 0 M39.0477 304.95 Q35.4367 304.95 33.608 308.515 Q31.8024 312.056 31.8024 319.186 Q31.8024 326.292 33.608 329.857 Q35.4367 333.399 39.0477 333.399 Q42.682 333.399 44.4875 329.857 Q46.3162 326.292 46.3162 319.186 Q46.3162 312.056 44.4875 308.515 Q42.682 304.95 39.0477 304.95 M39.0477 301.246 Q44.8579 301.246 47.9134 305.853 Q50.9921 310.436 50.9921 319.186 Q50.9921 327.913 47.9134 332.519 Q44.8579 337.103 39.0477 337.103 Q33.2376 337.103 30.1589 332.519 Q27.1034 327.913 27.1034 319.186 Q27.1034 310.436 30.1589 305.853 Q33.2376 301.246 39.0477 301.246 Z\" fill=\"#000000\" fill-rule=\"evenodd\" fill-opacity=\"1\" /><path clip-path=\"url(#clip800)\" d=\"M 0 0 M410.581 6.912 L430.442 6.912 L430.442 10.8472 L415.257 10.8472 L415.257 21.0323 L428.961 21.0323 L428.961 24.9675 L415.257 24.9675 L415.257 41.472 L410.581 41.472 L410.581 6.912 Z\" fill=\"#000000\" fill-rule=\"evenodd\" fill-opacity=\"1\" /><path clip-path=\"url(#clip800)\" d=\"M 0 0 M431.877 31.2406 L431.877 15.5462 L436.137 15.5462 L436.137 31.0785 Q436.137 34.7591 437.572 36.6109 Q439.007 38.4396 441.877 38.4396 Q445.326 38.4396 447.317 36.2405 Q449.331 34.0415 449.331 30.2452 L449.331 15.5462 L453.59 15.5462 L453.59 41.472 L449.331 41.472 L449.331 37.4905 Q447.78 39.8516 445.72 41.009 Q443.683 42.1433 440.975 42.1433 Q436.507 42.1433 434.192 39.3655 Q431.877 36.5878 431.877 31.2406 M442.595 14.9212 L442.595 14.9212 Z\" fill=\"#000000\" fill-rule=\"evenodd\" fill-opacity=\"1\" /><path clip-path=\"url(#clip800)\" d=\"M 0 0 M456.206 15.5462 L476.437 15.5462 L476.437 19.4351 L460.419 38.0692 L476.437 38.0692 L476.437 41.472 L455.627 41.472 L455.627 37.5831 L471.646 18.949 L456.206 18.949 L456.206 15.5462 Z\" fill=\"#000000\" fill-rule=\"evenodd\" fill-opacity=\"1\" /><path clip-path=\"url(#clip800)\" d=\"M 0 0 M479.053 15.5462 L499.284 15.5462 L499.284 19.4351 L483.266 38.0692 L499.284 38.0692 L499.284 41.472 L478.474 41.472 L478.474 37.5831 L494.493 18.949 L479.053 18.949 L479.053 15.5462 Z\" fill=\"#000000\" fill-rule=\"evenodd\" fill-opacity=\"1\" /><path clip-path=\"url(#clip800)\" d=\"M 0 0 M514.539 43.8794 Q512.733 48.509 511.02 49.921 Q509.307 51.3331 506.437 51.3331 L503.034 51.3331 L503.034 47.7683 L505.534 47.7683 Q507.294 47.7683 508.266 46.9349 Q509.238 46.1016 510.419 42.9998 L511.182 41.0553 L500.696 15.5462 L505.21 15.5462 L513.312 35.8239 L521.414 15.5462 L525.928 15.5462 L514.539 43.8794 Z\" fill=\"#000000\" fill-rule=\"evenodd\" fill-opacity=\"1\" /><path clip-path=\"url(#clip800)\" d=\"M 0 0 M542.131 11.5185 L535.789 28.7174 L548.497 28.7174 L542.131 11.5185 M539.493 6.912 L544.793 6.912 L557.965 41.472 L553.104 41.472 L549.955 32.6063 L534.377 32.6063 L531.229 41.472 L526.298 41.472 L539.493 6.912 Z\" fill=\"#000000\" fill-rule=\"evenodd\" fill-opacity=\"1\" /><path clip-path=\"url(#clip800)\" d=\"M 0 0 M579.006 25.2684 Q580.511 25.7776 581.923 27.4443 Q583.358 29.111 584.793 32.0276 L589.539 41.472 L584.515 41.472 L580.094 32.6063 Q578.381 29.1341 576.761 27.9998 Q575.164 26.8656 572.386 26.8656 L567.293 26.8656 L567.293 41.472 L562.617 41.472 L562.617 6.912 L573.173 6.912 Q579.099 6.912 582.015 9.38884 Q584.932 11.8657 584.932 16.8657 Q584.932 20.1295 583.404 22.2823 Q581.9 24.4351 579.006 25.2684 M567.293 10.7546 L567.293 23.023 L573.173 23.023 Q576.552 23.023 578.265 21.4721 Q580.002 19.898 580.002 16.8657 Q580.002 13.8333 578.265 12.3055 Q576.552 10.7546 573.173 10.7546 L567.293 10.7546 Z\" fill=\"#000000\" fill-rule=\"evenodd\" fill-opacity=\"1\" /><path clip-path=\"url(#clip800)\" d=\"M 0 0 M585.951 6.912 L615.187 6.912 L615.187 10.8472 L602.918 10.8472 L602.918 41.472 L598.219 41.472 L598.219 10.8472 L585.951 10.8472 L585.951 6.912 Z\" fill=\"#000000\" fill-rule=\"evenodd\" fill-opacity=\"1\" /><path clip-path=\"url(#clip800)\" d=\"M 0 0 M649.747 19.5277 Q649.029 19.111 648.172 18.9258 Q647.339 18.7175 646.321 18.7175 Q642.71 18.7175 640.765 21.0786 Q638.844 23.4165 638.844 27.8147 L638.844 41.472 L634.561 41.472 L634.561 15.5462 L638.844 15.5462 L638.844 19.574 Q640.186 17.2129 642.339 16.0786 Q644.492 14.9212 647.571 14.9212 Q648.01 14.9212 648.543 14.9907 Q649.075 15.037 649.723 15.1527 L649.747 19.5277 Z\" fill=\"#000000\" fill-rule=\"evenodd\" fill-opacity=\"1\" /><path clip-path=\"url(#clip800)\" d=\"M 0 0 M674.932 25.8239 L674.932 41.472 L670.672 41.472 L670.672 25.9628 Q670.672 22.2823 669.237 20.4536 Q667.802 18.6249 664.932 18.6249 Q661.483 18.6249 659.492 20.824 Q657.501 23.023 657.501 26.8193 L657.501 41.472 L653.219 41.472 L653.219 5.45367 L657.501 5.45367 L657.501 19.574 Q659.029 17.236 661.089 16.0786 Q663.172 14.9212 665.881 14.9212 Q670.348 14.9212 672.64 17.699 Q674.932 20.4536 674.932 25.8239 Z\" fill=\"#000000\" fill-rule=\"evenodd\" fill-opacity=\"1\" /><path clip-path=\"url(#clip800)\" d=\"M 0 0 M689.445 18.5323 Q686.019 18.5323 684.029 21.2175 Q682.038 23.8795 682.038 28.5323 Q682.038 33.185 684.006 35.8702 Q685.996 38.5322 689.445 38.5322 Q692.848 38.5322 694.839 35.847 Q696.83 33.1619 696.83 28.5323 Q696.83 23.9258 694.839 21.2406 Q692.848 18.5323 689.445 18.5323 M689.445 14.9212 Q695.001 14.9212 698.172 18.5323 Q701.343 22.1434 701.343 28.5323 Q701.343 34.898 698.172 38.5322 Q695.001 42.1433 689.445 42.1433 Q683.867 42.1433 680.695 38.5322 Q677.547 34.898 677.547 28.5323 Q677.547 22.1434 680.695 18.5323 Q683.867 14.9212 689.445 14.9212 Z\" fill=\"#000000\" fill-rule=\"evenodd\" fill-opacity=\"1\" /><path clip-path=\"url(#clip800)\" d=\"M 0 0 M721.436 19.9443 L751.112 19.9443 L751.112 23.8332 L721.436 23.8332 L721.436 19.9443 M721.436 29.3887 L751.112 29.3887 L751.112 33.3239 L721.436 33.3239 L721.436 29.3887 Z\" fill=\"#000000\" fill-rule=\"evenodd\" fill-opacity=\"1\" /><path clip-path=\"url(#clip800)\" d=\"M 0 0 M781.25 9.99069 Q777.639 9.99069 775.811 13.5555 Q774.005 17.0971 774.005 24.2267 Q774.005 31.3332 775.811 34.898 Q777.639 38.4396 781.25 38.4396 Q784.885 38.4396 786.69 34.898 Q788.519 31.3332 788.519 24.2267 Q788.519 17.0971 786.69 13.5555 Q784.885 9.99069 781.25 9.99069 M781.25 6.287 Q787.061 6.287 790.116 10.8935 Q793.195 15.4768 793.195 24.2267 Q793.195 32.9535 790.116 37.56 Q787.061 42.1433 781.25 42.1433 Q775.44 42.1433 772.362 37.56 Q769.306 32.9535 769.306 24.2267 Q769.306 15.4768 772.362 10.8935 Q775.44 6.287 781.25 6.287 Z\" fill=\"#000000\" fill-rule=\"evenodd\" fill-opacity=\"1\" /><path clip-path=\"url(#clip800)\" d=\"M 0 0 M798.264 35.5924 L803.148 35.5924 L803.148 41.472 L798.264 41.472 L798.264 35.5924 Z\" fill=\"#000000\" fill-rule=\"evenodd\" fill-opacity=\"1\" /><path clip-path=\"url(#clip800)\" d=\"M 0 0 M808.264 6.912 L826.621 6.912 L826.621 10.8472 L812.547 10.8472 L812.547 19.3193 Q813.565 18.9721 814.584 18.8101 Q815.602 18.6249 816.621 18.6249 Q822.408 18.6249 825.787 21.7962 Q829.167 24.9675 829.167 30.3841 Q829.167 35.9628 825.695 39.0646 Q822.222 42.1433 815.903 42.1433 Q813.727 42.1433 811.459 41.7729 Q809.213 41.4026 806.806 40.6618 L806.806 35.9628 Q808.889 37.097 811.111 37.6526 Q813.334 38.2081 815.81 38.2081 Q819.815 38.2081 822.153 36.1017 Q824.491 33.9952 824.491 30.3841 Q824.491 26.773 822.153 24.6665 Q819.815 22.5601 815.81 22.5601 Q813.935 22.5601 812.06 22.9767 Q810.209 23.3934 808.264 24.273 L808.264 6.912 Z\" fill=\"#000000\" fill-rule=\"evenodd\" fill-opacity=\"1\" /><circle clip-path=\"url(#clip802)\" cx=\"1044.56\" cy=\"997.465\" r=\"14\" fill=\"#009af9\" fill-rule=\"evenodd\" fill-opacity=\"1\" stroke=\"#000000\" stroke-opacity=\"1\" stroke-width=\"3.2\"/>\n",
       "<circle clip-path=\"url(#clip802)\" cx=\"1017.71\" cy=\"643.919\" r=\"14\" fill=\"#009af9\" fill-rule=\"evenodd\" fill-opacity=\"1\" stroke=\"#000000\" stroke-opacity=\"1\" stroke-width=\"3.2\"/>\n",
       "<circle clip-path=\"url(#clip802)\" cx=\"1061.01\" cy=\"946.745\" r=\"14\" fill=\"#009af9\" fill-rule=\"evenodd\" fill-opacity=\"1\" stroke=\"#000000\" stroke-opacity=\"1\" stroke-width=\"3.2\"/>\n",
       "<circle clip-path=\"url(#clip802)\" cx=\"1042.77\" cy=\"832.423\" r=\"14\" fill=\"#009af9\" fill-rule=\"evenodd\" fill-opacity=\"1\" stroke=\"#000000\" stroke-opacity=\"1\" stroke-width=\"3.2\"/>\n",
       "<circle clip-path=\"url(#clip802)\" cx=\"1055.79\" cy=\"1031.21\" r=\"14\" fill=\"#009af9\" fill-rule=\"evenodd\" fill-opacity=\"1\" stroke=\"#000000\" stroke-opacity=\"1\" stroke-width=\"3.2\"/>\n",
       "<circle clip-path=\"url(#clip802)\" cx=\"1034.1\" cy=\"714.035\" r=\"14\" fill=\"#009af9\" fill-rule=\"evenodd\" fill-opacity=\"1\" stroke=\"#000000\" stroke-opacity=\"1\" stroke-width=\"3.2\"/>\n",
       "<circle clip-path=\"url(#clip802)\" cx=\"965.572\" cy=\"642.374\" r=\"14\" fill=\"#009af9\" fill-rule=\"evenodd\" fill-opacity=\"1\" stroke=\"#000000\" stroke-opacity=\"1\" stroke-width=\"3.2\"/>\n",
       "<circle clip-path=\"url(#clip802)\" cx=\"1068.2\" cy=\"854.356\" r=\"14\" fill=\"#009af9\" fill-rule=\"evenodd\" fill-opacity=\"1\" stroke=\"#000000\" stroke-opacity=\"1\" stroke-width=\"3.2\"/>\n",
       "<circle clip-path=\"url(#clip802)\" cx=\"1030.08\" cy=\"424.655\" r=\"14\" fill=\"#009af9\" fill-rule=\"evenodd\" fill-opacity=\"1\" stroke=\"#000000\" stroke-opacity=\"1\" stroke-width=\"3.2\"/>\n",
       "<circle clip-path=\"url(#clip802)\" cx=\"1006.15\" cy=\"819.155\" r=\"14\" fill=\"#009af9\" fill-rule=\"evenodd\" fill-opacity=\"1\" stroke=\"#000000\" stroke-opacity=\"1\" stroke-width=\"3.2\"/>\n",
       "<circle clip-path=\"url(#clip802)\" cx=\"980.275\" cy=\"837.926\" r=\"14\" fill=\"#009af9\" fill-rule=\"evenodd\" fill-opacity=\"1\" stroke=\"#000000\" stroke-opacity=\"1\" stroke-width=\"3.2\"/>\n",
       "<circle clip-path=\"url(#clip802)\" cx=\"1122.59\" cy=\"816.993\" r=\"14\" fill=\"#009af9\" fill-rule=\"evenodd\" fill-opacity=\"1\" stroke=\"#000000\" stroke-opacity=\"1\" stroke-width=\"3.2\"/>\n",
       "<circle clip-path=\"url(#clip802)\" cx=\"988.546\" cy=\"917.227\" r=\"14\" fill=\"#009af9\" fill-rule=\"evenodd\" fill-opacity=\"1\" stroke=\"#000000\" stroke-opacity=\"1\" stroke-width=\"3.2\"/>\n",
       "<circle clip-path=\"url(#clip802)\" cx=\"1031.69\" cy=\"1009.37\" r=\"14\" fill=\"#009af9\" fill-rule=\"evenodd\" fill-opacity=\"1\" stroke=\"#000000\" stroke-opacity=\"1\" stroke-width=\"3.2\"/>\n",
       "<circle clip-path=\"url(#clip802)\" cx=\"1024.59\" cy=\"597.265\" r=\"14\" fill=\"#009af9\" fill-rule=\"evenodd\" fill-opacity=\"1\" stroke=\"#000000\" stroke-opacity=\"1\" stroke-width=\"3.2\"/>\n",
       "<circle clip-path=\"url(#clip802)\" cx=\"529.588\" cy=\"1179.42\" r=\"14\" fill=\"#e26f46\" fill-rule=\"evenodd\" fill-opacity=\"1\" stroke=\"#000000\" stroke-opacity=\"1\" stroke-width=\"3.2\"/>\n",
       "<circle clip-path=\"url(#clip802)\" cx=\"585.471\" cy=\"1132.43\" r=\"14\" fill=\"#e26f46\" fill-rule=\"evenodd\" fill-opacity=\"1\" stroke=\"#000000\" stroke-opacity=\"1\" stroke-width=\"3.2\"/>\n",
       "<circle clip-path=\"url(#clip802)\" cx=\"762.812\" cy=\"1335.02\" r=\"14\" fill=\"#e26f46\" fill-rule=\"evenodd\" fill-opacity=\"1\" stroke=\"#000000\" stroke-opacity=\"1\" stroke-width=\"3.2\"/>\n",
       "<circle clip-path=\"url(#clip802)\" cx=\"392.875\" cy=\"606.709\" r=\"14\" fill=\"#e26f46\" fill-rule=\"evenodd\" fill-opacity=\"1\" stroke=\"#000000\" stroke-opacity=\"1\" stroke-width=\"3.2\"/>\n",
       "<circle clip-path=\"url(#clip802)\" cx=\"584.588\" cy=\"1091.63\" r=\"14\" fill=\"#e26f46\" fill-rule=\"evenodd\" fill-opacity=\"1\" stroke=\"#000000\" stroke-opacity=\"1\" stroke-width=\"3.2\"/>\n",
       "<circle clip-path=\"url(#clip802)\" cx=\"521.299\" cy=\"1141.16\" r=\"14\" fill=\"#e26f46\" fill-rule=\"evenodd\" fill-opacity=\"1\" stroke=\"#000000\" stroke-opacity=\"1\" stroke-width=\"3.2\"/>\n",
       "<circle clip-path=\"url(#clip802)\" cx=\"632.127\" cy=\"1306.58\" r=\"14\" fill=\"#e26f46\" fill-rule=\"evenodd\" fill-opacity=\"1\" stroke=\"#000000\" stroke-opacity=\"1\" stroke-width=\"3.2\"/>\n",
       "<circle clip-path=\"url(#clip802)\" cx=\"562.65\" cy=\"1068.26\" r=\"14\" fill=\"#e26f46\" fill-rule=\"evenodd\" fill-opacity=\"1\" stroke=\"#000000\" stroke-opacity=\"1\" stroke-width=\"3.2\"/>\n",
       "<circle clip-path=\"url(#clip802)\" cx=\"651.079\" cy=\"1292.05\" r=\"14\" fill=\"#e26f46\" fill-rule=\"evenodd\" fill-opacity=\"1\" stroke=\"#000000\" stroke-opacity=\"1\" stroke-width=\"3.2\"/>\n",
       "<circle clip-path=\"url(#clip802)\" cx=\"413.616\" cy=\"757.224\" r=\"14\" fill=\"#e26f46\" fill-rule=\"evenodd\" fill-opacity=\"1\" stroke=\"#000000\" stroke-opacity=\"1\" stroke-width=\"3.2\"/>\n",
       "<circle clip-path=\"url(#clip802)\" cx=\"738.332\" cy=\"1479.74\" r=\"14\" fill=\"#e26f46\" fill-rule=\"evenodd\" fill-opacity=\"1\" stroke=\"#000000\" stroke-opacity=\"1\" stroke-width=\"3.2\"/>\n",
       "<circle clip-path=\"url(#clip802)\" cx=\"595.507\" cy=\"1293.31\" r=\"14\" fill=\"#e26f46\" fill-rule=\"evenodd\" fill-opacity=\"1\" stroke=\"#000000\" stroke-opacity=\"1\" stroke-width=\"3.2\"/>\n",
       "<circle clip-path=\"url(#clip802)\" cx=\"494.477\" cy=\"993.274\" r=\"14\" fill=\"#e26f46\" fill-rule=\"evenodd\" fill-opacity=\"1\" stroke=\"#000000\" stroke-opacity=\"1\" stroke-width=\"3.2\"/>\n",
       "<circle clip-path=\"url(#clip802)\" cx=\"418.717\" cy=\"1340.5\" r=\"14\" fill=\"#e26f46\" fill-rule=\"evenodd\" fill-opacity=\"1\" stroke=\"#000000\" stroke-opacity=\"1\" stroke-width=\"3.2\"/>\n",
       "<circle clip-path=\"url(#clip802)\" cx=\"565.527\" cy=\"937.882\" r=\"14\" fill=\"#e26f46\" fill-rule=\"evenodd\" fill-opacity=\"1\" stroke=\"#000000\" stroke-opacity=\"1\" stroke-width=\"3.2\"/>\n",
       "<circle clip-path=\"url(#clip802)\" cx=\"404.787\" cy=\"1017.46\" r=\"14\" fill=\"#3da44d\" fill-rule=\"evenodd\" fill-opacity=\"1\" stroke=\"#000000\" stroke-opacity=\"1\" stroke-width=\"3.2\"/>\n",
       "<circle clip-path=\"url(#clip802)\" cx=\"243.915\" cy=\"723.102\" r=\"14\" fill=\"#3da44d\" fill-rule=\"evenodd\" fill-opacity=\"1\" stroke=\"#000000\" stroke-opacity=\"1\" stroke-width=\"3.2\"/>\n",
       "<circle clip-path=\"url(#clip802)\" cx=\"283.522\" cy=\"774.269\" r=\"14\" fill=\"#3da44d\" fill-rule=\"evenodd\" fill-opacity=\"1\" stroke=\"#000000\" stroke-opacity=\"1\" stroke-width=\"3.2\"/>\n",
       "<circle clip-path=\"url(#clip802)\" cx=\"260.301\" cy=\"793.218\" r=\"14\" fill=\"#3da44d\" fill-rule=\"evenodd\" fill-opacity=\"1\" stroke=\"#000000\" stroke-opacity=\"1\" stroke-width=\"3.2\"/>\n",
       "<circle clip-path=\"url(#clip802)\" cx=\"324.162\" cy=\"830.214\" r=\"14\" fill=\"#3da44d\" fill-rule=\"evenodd\" fill-opacity=\"1\" stroke=\"#000000\" stroke-opacity=\"1\" stroke-width=\"3.2\"/>\n",
       "<circle clip-path=\"url(#clip802)\" cx=\"317.222\" cy=\"875.504\" r=\"14\" fill=\"#3da44d\" fill-rule=\"evenodd\" fill-opacity=\"1\" stroke=\"#000000\" stroke-opacity=\"1\" stroke-width=\"3.2\"/>\n",
       "<circle clip-path=\"url(#clip802)\" cx=\"321.401\" cy=\"661.759\" r=\"14\" fill=\"#3da44d\" fill-rule=\"evenodd\" fill-opacity=\"1\" stroke=\"#000000\" stroke-opacity=\"1\" stroke-width=\"3.2\"/>\n",
       "<circle clip-path=\"url(#clip802)\" cx=\"259.464\" cy=\"1041.54\" r=\"14\" fill=\"#3da44d\" fill-rule=\"evenodd\" fill-opacity=\"1\" stroke=\"#000000\" stroke-opacity=\"1\" stroke-width=\"3.2\"/>\n",
       "<circle clip-path=\"url(#clip802)\" cx=\"178.182\" cy=\"682.945\" r=\"14\" fill=\"#3da44d\" fill-rule=\"evenodd\" fill-opacity=\"1\" stroke=\"#000000\" stroke-opacity=\"1\" stroke-width=\"3.2\"/>\n",
       "<circle clip-path=\"url(#clip802)\" cx=\"340.129\" cy=\"1024.49\" r=\"14\" fill=\"#3da44d\" fill-rule=\"evenodd\" fill-opacity=\"1\" stroke=\"#000000\" stroke-opacity=\"1\" stroke-width=\"3.2\"/>\n",
       "<circle clip-path=\"url(#clip802)\" cx=\"495.295\" cy=\"786\" r=\"14\" fill=\"#3da44d\" fill-rule=\"evenodd\" fill-opacity=\"1\" stroke=\"#000000\" stroke-opacity=\"1\" stroke-width=\"3.2\"/>\n",
       "<circle clip-path=\"url(#clip802)\" cx=\"400.67\" cy=\"1232.57\" r=\"14\" fill=\"#3da44d\" fill-rule=\"evenodd\" fill-opacity=\"1\" stroke=\"#000000\" stroke-opacity=\"1\" stroke-width=\"3.2\"/>\n",
       "<circle clip-path=\"url(#clip802)\" cx=\"117.155\" cy=\"104.257\" r=\"14\" fill=\"#3da44d\" fill-rule=\"evenodd\" fill-opacity=\"1\" stroke=\"#000000\" stroke-opacity=\"1\" stroke-width=\"3.2\"/>\n",
       "<circle clip-path=\"url(#clip802)\" cx=\"343.668\" cy=\"1189.96\" r=\"14\" fill=\"#3da44d\" fill-rule=\"evenodd\" fill-opacity=\"1\" stroke=\"#000000\" stroke-opacity=\"1\" stroke-width=\"3.2\"/>\n",
       "<circle clip-path=\"url(#clip802)\" cx=\"419.911\" cy=\"966.65\" r=\"14\" fill=\"#3da44d\" fill-rule=\"evenodd\" fill-opacity=\"1\" stroke=\"#000000\" stroke-opacity=\"1\" stroke-width=\"3.2\"/>\n",
       "<path clip-path=\"url(#clip800)\" d=\"\n",
       "M1286.99 1521.01 L2352.76 1521.01 L2352.76 62.9921 L1286.99 62.9921  Z\n",
       "  \" fill=\"#ffffff\" fill-rule=\"evenodd\" fill-opacity=\"1\"/>\n",
       "<defs>\n",
       "  <clipPath id=\"clip803\">\n",
       "    <rect x=\"1286\" y=\"62\" width=\"1067\" height=\"1459\"/>\n",
       "  </clipPath>\n",
       "</defs>\n",
       "<polyline clip-path=\"url(#clip803)\" style=\"stroke:#000000; stroke-width:2; stroke-opacity:0.1; fill:none\" points=\"\n",
       "  1353.38,1521.01 1353.38,62.9921 \n",
       "  \"/>\n",
       "<polyline clip-path=\"url(#clip803)\" style=\"stroke:#000000; stroke-width:2; stroke-opacity:0.1; fill:none\" points=\"\n",
       "  1509.31,1521.01 1509.31,62.9921 \n",
       "  \"/>\n",
       "<polyline clip-path=\"url(#clip803)\" style=\"stroke:#000000; stroke-width:2; stroke-opacity:0.1; fill:none\" points=\"\n",
       "  1665.23,1521.01 1665.23,62.9921 \n",
       "  \"/>\n",
       "<polyline clip-path=\"url(#clip803)\" style=\"stroke:#000000; stroke-width:2; stroke-opacity:0.1; fill:none\" points=\"\n",
       "  1821.16,1521.01 1821.16,62.9921 \n",
       "  \"/>\n",
       "<polyline clip-path=\"url(#clip803)\" style=\"stroke:#000000; stroke-width:2; stroke-opacity:0.1; fill:none\" points=\"\n",
       "  1977.08,1521.01 1977.08,62.9921 \n",
       "  \"/>\n",
       "<polyline clip-path=\"url(#clip803)\" style=\"stroke:#000000; stroke-width:2; stroke-opacity:0.1; fill:none\" points=\"\n",
       "  2133.01,1521.01 2133.01,62.9921 \n",
       "  \"/>\n",
       "<polyline clip-path=\"url(#clip803)\" style=\"stroke:#000000; stroke-width:2; stroke-opacity:0.1; fill:none\" points=\"\n",
       "  2288.94,1521.01 2288.94,62.9921 \n",
       "  \"/>\n",
       "<polyline clip-path=\"url(#clip800)\" style=\"stroke:#000000; stroke-width:4; stroke-opacity:1; fill:none\" points=\"\n",
       "  1286.99,1521.01 2352.76,1521.01 \n",
       "  \"/>\n",
       "<polyline clip-path=\"url(#clip800)\" style=\"stroke:#000000; stroke-width:4; stroke-opacity:1; fill:none\" points=\"\n",
       "  1353.38,1521.01 1353.38,1503.51 \n",
       "  \"/>\n",
       "<polyline clip-path=\"url(#clip800)\" style=\"stroke:#000000; stroke-width:4; stroke-opacity:1; fill:none\" points=\"\n",
       "  1509.31,1521.01 1509.31,1503.51 \n",
       "  \"/>\n",
       "<polyline clip-path=\"url(#clip800)\" style=\"stroke:#000000; stroke-width:4; stroke-opacity:1; fill:none\" points=\"\n",
       "  1665.23,1521.01 1665.23,1503.51 \n",
       "  \"/>\n",
       "<polyline clip-path=\"url(#clip800)\" style=\"stroke:#000000; stroke-width:4; stroke-opacity:1; fill:none\" points=\"\n",
       "  1821.16,1521.01 1821.16,1503.51 \n",
       "  \"/>\n",
       "<polyline clip-path=\"url(#clip800)\" style=\"stroke:#000000; stroke-width:4; stroke-opacity:1; fill:none\" points=\"\n",
       "  1977.08,1521.01 1977.08,1503.51 \n",
       "  \"/>\n",
       "<polyline clip-path=\"url(#clip800)\" style=\"stroke:#000000; stroke-width:4; stroke-opacity:1; fill:none\" points=\"\n",
       "  2133.01,1521.01 2133.01,1503.51 \n",
       "  \"/>\n",
       "<polyline clip-path=\"url(#clip800)\" style=\"stroke:#000000; stroke-width:4; stroke-opacity:1; fill:none\" points=\"\n",
       "  2288.94,1521.01 2288.94,1503.51 \n",
       "  \"/>\n",
       "<path clip-path=\"url(#clip800)\" d=\"M 0 0 M1332.37 1558.69 L1354.62 1558.69 L1354.62 1561.64 L1332.37 1561.64 L1332.37 1558.69 Z\" fill=\"#000000\" fill-rule=\"evenodd\" fill-opacity=\"1\" /><path clip-path=\"url(#clip800)\" d=\"M 0 0 M1369.05 1557.34 Q1371.57 1557.87 1372.98 1559.58 Q1374.4 1561.28 1374.4 1563.78 Q1374.4 1567.61 1371.76 1569.71 Q1369.12 1571.82 1364.26 1571.82 Q1362.63 1571.82 1360.89 1571.49 Q1359.17 1571.17 1357.33 1570.53 L1357.33 1567.15 Q1358.79 1568 1360.53 1568.43 Q1362.26 1568.86 1364.16 1568.86 Q1367.45 1568.86 1369.17 1567.56 Q1370.91 1566.26 1370.91 1563.78 Q1370.91 1561.49 1369.29 1560.2 Q1367.7 1558.9 1364.83 1558.9 L1361.81 1558.9 L1361.81 1556.02 L1364.97 1556.02 Q1367.56 1556.02 1368.93 1554.99 Q1370.3 1553.95 1370.3 1552.01 Q1370.3 1550.01 1368.88 1548.95 Q1367.47 1547.87 1364.83 1547.87 Q1363.39 1547.87 1361.74 1548.19 Q1360.09 1548.5 1358.11 1549.16 L1358.11 1546.03 Q1360.11 1545.48 1361.85 1545.2 Q1363.6 1544.92 1365.15 1544.92 Q1369.14 1544.92 1371.46 1546.75 Q1373.79 1548.55 1373.79 1551.64 Q1373.79 1553.79 1372.56 1555.29 Q1371.33 1556.76 1369.05 1557.34 Z\" fill=\"#000000\" fill-rule=\"evenodd\" fill-opacity=\"1\" /><path clip-path=\"url(#clip800)\" d=\"M 0 0 M1488.65 1558.69 L1510.91 1558.69 L1510.91 1561.64 L1488.65 1561.64 L1488.65 1558.69 Z\" fill=\"#000000\" fill-rule=\"evenodd\" fill-opacity=\"1\" /><path clip-path=\"url(#clip800)\" d=\"M 0 0 M1517.73 1568.36 L1529.97 1568.36 L1529.97 1571.31 L1513.51 1571.31 L1513.51 1568.36 Q1515.51 1566.29 1518.94 1562.82 Q1522.4 1559.33 1523.28 1558.33 Q1524.97 1556.43 1525.63 1555.13 Q1526.31 1553.81 1526.31 1552.54 Q1526.31 1550.48 1524.85 1549.18 Q1523.41 1547.87 1521.08 1547.87 Q1519.43 1547.87 1517.59 1548.45 Q1515.77 1549.02 1513.68 1550.18 L1513.68 1546.64 Q1515.8 1545.79 1517.64 1545.36 Q1519.48 1544.92 1521.01 1544.92 Q1525.04 1544.92 1527.43 1546.94 Q1529.83 1548.95 1529.83 1552.32 Q1529.83 1553.92 1529.22 1555.36 Q1528.63 1556.78 1527.05 1558.73 Q1526.62 1559.23 1524.29 1561.64 Q1521.96 1564.04 1517.73 1568.36 Z\" fill=\"#000000\" fill-rule=\"evenodd\" fill-opacity=\"1\" /><path clip-path=\"url(#clip800)\" d=\"M 0 0 M1644.44 1558.69 L1666.69 1558.69 L1666.69 1561.64 L1644.44 1561.64 L1644.44 1558.69 Z\" fill=\"#000000\" fill-rule=\"evenodd\" fill-opacity=\"1\" /><path clip-path=\"url(#clip800)\" d=\"M 0 0 M1671.1 1568.36 L1676.83 1568.36 L1676.83 1548.59 L1670.6 1549.84 L1670.6 1546.64 L1676.8 1545.39 L1680.3 1545.39 L1680.3 1568.36 L1686.03 1568.36 L1686.03 1571.31 L1671.1 1571.31 L1671.1 1568.36 Z\" fill=\"#000000\" fill-rule=\"evenodd\" fill-opacity=\"1\" /><path clip-path=\"url(#clip800)\" d=\"M 0 0 M1821.16 1547.7 Q1818.45 1547.7 1817.08 1550.37 Q1815.73 1553.03 1815.73 1558.38 Q1815.73 1563.71 1817.08 1566.38 Q1818.45 1569.04 1821.16 1569.04 Q1823.88 1569.04 1825.24 1566.38 Q1826.61 1563.71 1826.61 1558.38 Q1826.61 1553.03 1825.24 1550.37 Q1823.88 1547.7 1821.16 1547.7 M1821.16 1544.92 Q1825.52 1544.92 1827.81 1548.38 Q1830.12 1551.82 1830.12 1558.38 Q1830.12 1564.92 1827.81 1568.38 Q1825.52 1571.82 1821.16 1571.82 Q1816.8 1571.82 1814.49 1568.38 Q1812.2 1564.92 1812.2 1558.38 Q1812.2 1551.82 1814.49 1548.38 Q1816.8 1544.92 1821.16 1544.92 Z\" fill=\"#000000\" fill-rule=\"evenodd\" fill-opacity=\"1\" /><path clip-path=\"url(#clip800)\" d=\"M 0 0 M1969.87 1568.36 L1975.6 1568.36 L1975.6 1548.59 L1969.37 1549.84 L1969.37 1546.64 L1975.57 1545.39 L1979.07 1545.39 L1979.07 1568.36 L1984.8 1568.36 L1984.8 1571.31 L1969.87 1571.31 L1969.87 1568.36 Z\" fill=\"#000000\" fill-rule=\"evenodd\" fill-opacity=\"1\" /><path clip-path=\"url(#clip800)\" d=\"M 0 0 M2129 1568.36 L2141.24 1568.36 L2141.24 1571.31 L2124.78 1571.31 L2124.78 1568.36 Q2126.78 1566.29 2130.21 1562.82 Q2133.67 1559.33 2134.55 1558.33 Q2136.24 1556.43 2136.9 1555.13 Q2137.58 1553.81 2137.58 1552.54 Q2137.58 1550.48 2136.12 1549.18 Q2134.68 1547.87 2132.35 1547.87 Q2130.7 1547.87 2128.86 1548.45 Q2127.04 1549.02 2124.95 1550.18 L2124.95 1546.64 Q2127.07 1545.79 2128.91 1545.36 Q2130.75 1544.92 2132.28 1544.92 Q2136.31 1544.92 2138.7 1546.94 Q2141.1 1548.95 2141.1 1552.32 Q2141.1 1553.92 2140.49 1555.36 Q2139.9 1556.78 2138.32 1558.73 Q2137.89 1559.23 2135.56 1561.64 Q2133.24 1564.04 2129 1568.36 Z\" fill=\"#000000\" fill-rule=\"evenodd\" fill-opacity=\"1\" /><path clip-path=\"url(#clip800)\" d=\"M 0 0 M2292.12 1557.34 Q2294.64 1557.87 2296.04 1559.58 Q2297.47 1561.28 2297.47 1563.78 Q2297.47 1567.61 2294.83 1569.71 Q2292.19 1571.82 2287.33 1571.82 Q2285.7 1571.82 2283.96 1571.49 Q2282.24 1571.17 2280.4 1570.53 L2280.4 1567.15 Q2281.86 1568 2283.6 1568.43 Q2285.33 1568.86 2287.23 1568.86 Q2290.52 1568.86 2292.24 1567.56 Q2293.98 1566.26 2293.98 1563.78 Q2293.98 1561.49 2292.36 1560.2 Q2290.77 1558.9 2287.9 1558.9 L2284.88 1558.9 L2284.88 1556.02 L2288.04 1556.02 Q2290.63 1556.02 2292 1554.99 Q2293.37 1553.95 2293.37 1552.01 Q2293.37 1550.01 2291.95 1548.95 Q2290.54 1547.87 2287.9 1547.87 Q2286.46 1547.87 2284.81 1548.19 Q2283.16 1548.5 2281.18 1549.16 L2281.18 1546.03 Q2283.18 1545.48 2284.92 1545.2 Q2286.67 1544.92 2288.21 1544.92 Q2292.21 1544.92 2294.53 1546.75 Q2296.86 1548.55 2296.86 1551.64 Q2296.86 1553.79 2295.63 1555.29 Q2294.4 1556.76 2292.12 1557.34 Z\" fill=\"#000000\" fill-rule=\"evenodd\" fill-opacity=\"1\" /><polyline clip-path=\"url(#clip803)\" style=\"stroke:#000000; stroke-width:2; stroke-opacity:0.1; fill:none\" points=\"\n",
       "  1286.99,1479.1 2352.76,1479.1 \n",
       "  \"/>\n",
       "<polyline clip-path=\"url(#clip803)\" style=\"stroke:#000000; stroke-width:2; stroke-opacity:0.1; fill:none\" points=\"\n",
       "  1286.99,1189.11 2352.76,1189.11 \n",
       "  \"/>\n",
       "<polyline clip-path=\"url(#clip803)\" style=\"stroke:#000000; stroke-width:2; stroke-opacity:0.1; fill:none\" points=\"\n",
       "  1286.99,899.126 2352.76,899.126 \n",
       "  \"/>\n",
       "<polyline clip-path=\"url(#clip803)\" style=\"stroke:#000000; stroke-width:2; stroke-opacity:0.1; fill:none\" points=\"\n",
       "  1286.99,609.139 2352.76,609.139 \n",
       "  \"/>\n",
       "<polyline clip-path=\"url(#clip803)\" style=\"stroke:#000000; stroke-width:2; stroke-opacity:0.1; fill:none\" points=\"\n",
       "  1286.99,319.151 2352.76,319.151 \n",
       "  \"/>\n",
       "<polyline clip-path=\"url(#clip800)\" style=\"stroke:#000000; stroke-width:4; stroke-opacity:1; fill:none\" points=\"\n",
       "  1286.99,1521.01 1286.99,62.9921 \n",
       "  \"/>\n",
       "<polyline clip-path=\"url(#clip800)\" style=\"stroke:#000000; stroke-width:4; stroke-opacity:1; fill:none\" points=\"\n",
       "  1286.99,1479.1 1299.78,1479.1 \n",
       "  \"/>\n",
       "<polyline clip-path=\"url(#clip800)\" style=\"stroke:#000000; stroke-width:4; stroke-opacity:1; fill:none\" points=\"\n",
       "  1286.99,1189.11 1299.78,1189.11 \n",
       "  \"/>\n",
       "<polyline clip-path=\"url(#clip800)\" style=\"stroke:#000000; stroke-width:4; stroke-opacity:1; fill:none\" points=\"\n",
       "  1286.99,899.126 1299.78,899.126 \n",
       "  \"/>\n",
       "<polyline clip-path=\"url(#clip800)\" style=\"stroke:#000000; stroke-width:4; stroke-opacity:1; fill:none\" points=\"\n",
       "  1286.99,609.139 1299.78,609.139 \n",
       "  \"/>\n",
       "<polyline clip-path=\"url(#clip800)\" style=\"stroke:#000000; stroke-width:4; stroke-opacity:1; fill:none\" points=\"\n",
       "  1286.99,319.151 1299.78,319.151 \n",
       "  \"/>\n",
       "<path clip-path=\"url(#clip800)\" d=\"M 0 0 M1158.56 1479.55 L1188.24 1479.55 L1188.24 1483.49 L1158.56 1483.49 L1158.56 1479.55 Z\" fill=\"#000000\" fill-rule=\"evenodd\" fill-opacity=\"1\" /><path clip-path=\"url(#clip800)\" d=\"M 0 0 M1194.12 1492.45 L1201.76 1492.45 L1201.76 1466.08 L1193.45 1467.75 L1193.45 1463.49 L1201.71 1461.82 L1206.39 1461.82 L1206.39 1492.45 L1214.02 1492.45 L1214.02 1496.38 L1194.12 1496.38 L1194.12 1492.45 Z\" fill=\"#000000\" fill-rule=\"evenodd\" fill-opacity=\"1\" /><path clip-path=\"url(#clip800)\" d=\"M 0 0 M1219.09 1490.5 L1223.98 1490.5 L1223.98 1496.38 L1219.09 1496.38 L1219.09 1490.5 Z\" fill=\"#000000\" fill-rule=\"evenodd\" fill-opacity=\"1\" /><path clip-path=\"url(#clip800)\" d=\"M 0 0 M1239.05 1464.9 Q1235.44 1464.9 1233.61 1468.46 Q1231.8 1472.01 1231.8 1479.14 Q1231.8 1486.24 1233.61 1489.81 Q1235.44 1493.35 1239.05 1493.35 Q1242.68 1493.35 1244.49 1489.81 Q1246.32 1486.24 1246.32 1479.14 Q1246.32 1472.01 1244.49 1468.46 Q1242.68 1464.9 1239.05 1464.9 M1239.05 1461.2 Q1244.86 1461.2 1247.91 1465.8 Q1250.99 1470.39 1250.99 1479.14 Q1250.99 1487.86 1247.91 1492.47 Q1244.86 1497.05 1239.05 1497.05 Q1233.24 1497.05 1230.16 1492.47 Q1227.1 1487.86 1227.1 1479.14 Q1227.1 1470.39 1230.16 1465.8 Q1233.24 1461.2 1239.05 1461.2 Z\" fill=\"#000000\" fill-rule=\"evenodd\" fill-opacity=\"1\" /><path clip-path=\"url(#clip800)\" d=\"M 0 0 M1158.33 1189.56 L1188.01 1189.56 L1188.01 1193.5 L1158.33 1193.5 L1158.33 1189.56 Z\" fill=\"#000000\" fill-rule=\"evenodd\" fill-opacity=\"1\" /><path clip-path=\"url(#clip800)\" d=\"M 0 0 M1203.08 1174.91 Q1199.46 1174.91 1197.64 1178.48 Q1195.83 1182.02 1195.83 1189.15 Q1195.83 1196.25 1197.64 1199.82 Q1199.46 1203.36 1203.08 1203.36 Q1206.71 1203.36 1208.52 1199.82 Q1210.34 1196.25 1210.34 1189.15 Q1210.34 1182.02 1208.52 1178.48 Q1206.71 1174.91 1203.08 1174.91 M1203.08 1171.21 Q1208.89 1171.21 1211.94 1175.82 Q1215.02 1180.4 1215.02 1189.15 Q1215.02 1197.88 1211.94 1202.48 Q1208.89 1207.06 1203.08 1207.06 Q1197.27 1207.06 1194.19 1202.48 Q1191.13 1197.88 1191.13 1189.15 Q1191.13 1180.4 1194.19 1175.82 Q1197.27 1171.21 1203.08 1171.21 Z\" fill=\"#000000\" fill-rule=\"evenodd\" fill-opacity=\"1\" /><path clip-path=\"url(#clip800)\" d=\"M 0 0 M1220.09 1200.51 L1224.97 1200.51 L1224.97 1206.39 L1220.09 1206.39 L1220.09 1200.51 Z\" fill=\"#000000\" fill-rule=\"evenodd\" fill-opacity=\"1\" /><path clip-path=\"url(#clip800)\" d=\"M 0 0 M1230.09 1171.83 L1248.45 1171.83 L1248.45 1175.77 L1234.37 1175.77 L1234.37 1184.24 Q1235.39 1183.89 1236.41 1183.73 Q1237.43 1183.55 1238.45 1183.55 Q1244.23 1183.55 1247.61 1186.72 Q1250.99 1189.89 1250.99 1195.31 Q1250.99 1200.88 1247.52 1203.99 Q1244.05 1207.06 1237.73 1207.06 Q1235.55 1207.06 1233.28 1206.69 Q1231.04 1206.32 1228.63 1205.58 L1228.63 1200.88 Q1230.71 1202.02 1232.94 1202.57 Q1235.16 1203.13 1237.64 1203.13 Q1241.64 1203.13 1243.98 1201.02 Q1246.32 1198.92 1246.32 1195.31 Q1246.32 1191.69 1243.98 1189.59 Q1241.64 1187.48 1237.64 1187.48 Q1235.76 1187.48 1233.89 1187.9 Q1232.03 1188.31 1230.09 1189.19 L1230.09 1171.83 Z\" fill=\"#000000\" fill-rule=\"evenodd\" fill-opacity=\"1\" /><path clip-path=\"url(#clip800)\" d=\"M 0 0 M1202.08 884.925 Q1198.47 884.925 1196.64 888.49 Q1194.84 892.031 1194.84 899.161 Q1194.84 906.267 1196.64 909.832 Q1198.47 913.374 1202.08 913.374 Q1205.71 913.374 1207.52 909.832 Q1209.35 906.267 1209.35 899.161 Q1209.35 892.031 1207.52 888.49 Q1205.71 884.925 1202.08 884.925 M1202.08 881.221 Q1207.89 881.221 1210.95 885.828 Q1214.02 890.411 1214.02 899.161 Q1214.02 907.888 1210.95 912.494 Q1207.89 917.077 1202.08 917.077 Q1196.27 917.077 1193.19 912.494 Q1190.14 907.888 1190.14 899.161 Q1190.14 890.411 1193.19 885.828 Q1196.27 881.221 1202.08 881.221 Z\" fill=\"#000000\" fill-rule=\"evenodd\" fill-opacity=\"1\" /><path clip-path=\"url(#clip800)\" d=\"M 0 0 M1219.09 910.527 L1223.98 910.527 L1223.98 916.406 L1219.09 916.406 L1219.09 910.527 Z\" fill=\"#000000\" fill-rule=\"evenodd\" fill-opacity=\"1\" /><path clip-path=\"url(#clip800)\" d=\"M 0 0 M1239.05 884.925 Q1235.44 884.925 1233.61 888.49 Q1231.8 892.031 1231.8 899.161 Q1231.8 906.267 1233.61 909.832 Q1235.44 913.374 1239.05 913.374 Q1242.68 913.374 1244.49 909.832 Q1246.32 906.267 1246.32 899.161 Q1246.32 892.031 1244.49 888.49 Q1242.68 884.925 1239.05 884.925 M1239.05 881.221 Q1244.86 881.221 1247.91 885.828 Q1250.99 890.411 1250.99 899.161 Q1250.99 907.888 1247.91 912.494 Q1244.86 917.077 1239.05 917.077 Q1233.24 917.077 1230.16 912.494 Q1227.1 907.888 1227.1 899.161 Q1227.1 890.411 1230.16 885.828 Q1233.24 881.221 1239.05 881.221 Z\" fill=\"#000000\" fill-rule=\"evenodd\" fill-opacity=\"1\" /><path clip-path=\"url(#clip800)\" d=\"M 0 0 M1203.08 594.937 Q1199.46 594.937 1197.64 598.502 Q1195.83 602.044 1195.83 609.173 Q1195.83 616.28 1197.64 619.845 Q1199.46 623.386 1203.08 623.386 Q1206.71 623.386 1208.52 619.845 Q1210.34 616.28 1210.34 609.173 Q1210.34 602.044 1208.52 598.502 Q1206.71 594.937 1203.08 594.937 M1203.08 591.234 Q1208.89 591.234 1211.94 595.84 Q1215.02 600.424 1215.02 609.173 Q1215.02 617.9 1211.94 622.507 Q1208.89 627.09 1203.08 627.09 Q1197.27 627.09 1194.19 622.507 Q1191.13 617.9 1191.13 609.173 Q1191.13 600.424 1194.19 595.84 Q1197.27 591.234 1203.08 591.234 Z\" fill=\"#000000\" fill-rule=\"evenodd\" fill-opacity=\"1\" /><path clip-path=\"url(#clip800)\" d=\"M 0 0 M1220.09 620.539 L1224.97 620.539 L1224.97 626.419 L1220.09 626.419 L1220.09 620.539 Z\" fill=\"#000000\" fill-rule=\"evenodd\" fill-opacity=\"1\" /><path clip-path=\"url(#clip800)\" d=\"M 0 0 M1230.09 591.859 L1248.45 591.859 L1248.45 595.794 L1234.37 595.794 L1234.37 604.266 Q1235.39 603.919 1236.41 603.757 Q1237.43 603.572 1238.45 603.572 Q1244.23 603.572 1247.61 606.743 Q1250.99 609.914 1250.99 615.331 Q1250.99 620.91 1247.52 624.011 Q1244.05 627.09 1237.73 627.09 Q1235.55 627.09 1233.28 626.72 Q1231.04 626.349 1228.63 625.609 L1228.63 620.91 Q1230.71 622.044 1232.94 622.599 Q1235.16 623.155 1237.64 623.155 Q1241.64 623.155 1243.98 621.048 Q1246.32 618.942 1246.32 615.331 Q1246.32 611.72 1243.98 609.613 Q1241.64 607.507 1237.64 607.507 Q1235.76 607.507 1233.89 607.923 Q1232.03 608.34 1230.09 609.22 L1230.09 591.859 Z\" fill=\"#000000\" fill-rule=\"evenodd\" fill-opacity=\"1\" /><path clip-path=\"url(#clip800)\" d=\"M 0 0 M1194.12 332.496 L1201.76 332.496 L1201.76 306.131 L1193.45 307.797 L1193.45 303.538 L1201.71 301.871 L1206.39 301.871 L1206.39 332.496 L1214.02 332.496 L1214.02 336.431 L1194.12 336.431 L1194.12 332.496 Z\" fill=\"#000000\" fill-rule=\"evenodd\" fill-opacity=\"1\" /><path clip-path=\"url(#clip800)\" d=\"M 0 0 M1219.09 330.552 L1223.98 330.552 L1223.98 336.431 L1219.09 336.431 L1219.09 330.552 Z\" fill=\"#000000\" fill-rule=\"evenodd\" fill-opacity=\"1\" /><path clip-path=\"url(#clip800)\" d=\"M 0 0 M1239.05 304.95 Q1235.44 304.95 1233.61 308.515 Q1231.8 312.056 1231.8 319.186 Q1231.8 326.292 1233.61 329.857 Q1235.44 333.399 1239.05 333.399 Q1242.68 333.399 1244.49 329.857 Q1246.32 326.292 1246.32 319.186 Q1246.32 312.056 1244.49 308.515 Q1242.68 304.95 1239.05 304.95 M1239.05 301.246 Q1244.86 301.246 1247.91 305.853 Q1250.99 310.436 1250.99 319.186 Q1250.99 327.913 1247.91 332.519 Q1244.86 337.103 1239.05 337.103 Q1233.24 337.103 1230.16 332.519 Q1227.1 327.913 1227.1 319.186 Q1227.1 310.436 1230.16 305.853 Q1233.24 301.246 1239.05 301.246 Z\" fill=\"#000000\" fill-rule=\"evenodd\" fill-opacity=\"1\" /><path clip-path=\"url(#clip800)\" d=\"M 0 0 M1610.53 6.912 L1630.4 6.912 L1630.4 10.8472 L1615.21 10.8472 L1615.21 21.0323 L1628.91 21.0323 L1628.91 24.9675 L1615.21 24.9675 L1615.21 41.472 L1610.53 41.472 L1610.53 6.912 Z\" fill=\"#000000\" fill-rule=\"evenodd\" fill-opacity=\"1\" /><path clip-path=\"url(#clip800)\" d=\"M 0 0 M1631.83 31.2406 L1631.83 15.5462 L1636.09 15.5462 L1636.09 31.0785 Q1636.09 34.7591 1637.53 36.6109 Q1638.96 38.4396 1641.83 38.4396 Q1645.28 38.4396 1647.27 36.2405 Q1649.28 34.0415 1649.28 30.2452 L1649.28 15.5462 L1653.54 15.5462 L1653.54 41.472 L1649.28 41.472 L1649.28 37.4905 Q1647.73 39.8516 1645.67 41.009 Q1643.64 42.1433 1640.93 42.1433 Q1636.46 42.1433 1634.15 39.3655 Q1631.83 36.5878 1631.83 31.2406 M1642.55 14.9212 L1642.55 14.9212 Z\" fill=\"#000000\" fill-rule=\"evenodd\" fill-opacity=\"1\" /><path clip-path=\"url(#clip800)\" d=\"M 0 0 M1656.16 15.5462 L1676.39 15.5462 L1676.39 19.4351 L1660.37 38.0692 L1676.39 38.0692 L1676.39 41.472 L1655.58 41.472 L1655.58 37.5831 L1671.6 18.949 L1656.16 18.949 L1656.16 15.5462 Z\" fill=\"#000000\" fill-rule=\"evenodd\" fill-opacity=\"1\" /><path clip-path=\"url(#clip800)\" d=\"M 0 0 M1679.01 15.5462 L1699.24 15.5462 L1699.24 19.4351 L1683.22 38.0692 L1699.24 38.0692 L1699.24 41.472 L1678.43 41.472 L1678.43 37.5831 L1694.45 18.949 L1679.01 18.949 L1679.01 15.5462 Z\" fill=\"#000000\" fill-rule=\"evenodd\" fill-opacity=\"1\" /><path clip-path=\"url(#clip800)\" d=\"M 0 0 M1714.49 43.8794 Q1712.69 48.509 1710.97 49.921 Q1709.26 51.3331 1706.39 51.3331 L1702.99 51.3331 L1702.99 47.7683 L1705.49 47.7683 Q1707.25 47.7683 1708.22 46.9349 Q1709.19 46.1016 1710.37 42.9998 L1711.14 41.0553 L1700.65 15.5462 L1705.16 15.5462 L1713.27 35.8239 L1721.37 15.5462 L1725.88 15.5462 L1714.49 43.8794 Z\" fill=\"#000000\" fill-rule=\"evenodd\" fill-opacity=\"1\" /><path clip-path=\"url(#clip800)\" d=\"M 0 0 M1742.09 11.5185 L1735.74 28.7174 L1748.45 28.7174 L1742.09 11.5185 M1739.45 6.912 L1744.75 6.912 L1757.92 41.472 L1753.06 41.472 L1749.91 32.6063 L1734.33 32.6063 L1731.18 41.472 L1726.25 41.472 L1739.45 6.912 Z\" fill=\"#000000\" fill-rule=\"evenodd\" fill-opacity=\"1\" /><path clip-path=\"url(#clip800)\" d=\"M 0 0 M1778.96 25.2684 Q1780.46 25.7776 1781.88 27.4443 Q1783.31 29.111 1784.75 32.0276 L1789.49 41.472 L1784.47 41.472 L1780.05 32.6063 Q1778.33 29.1341 1776.71 27.9998 Q1775.12 26.8656 1772.34 26.8656 L1767.25 26.8656 L1767.25 41.472 L1762.57 41.472 L1762.57 6.912 L1773.13 6.912 Q1779.05 6.912 1781.97 9.38884 Q1784.89 11.8657 1784.89 16.8657 Q1784.89 20.1295 1783.36 22.2823 Q1781.85 24.4351 1778.96 25.2684 M1767.25 10.7546 L1767.25 23.023 L1773.13 23.023 Q1776.51 23.023 1778.22 21.4721 Q1779.96 19.898 1779.96 16.8657 Q1779.96 13.8333 1778.22 12.3055 Q1776.51 10.7546 1773.13 10.7546 L1767.25 10.7546 Z\" fill=\"#000000\" fill-rule=\"evenodd\" fill-opacity=\"1\" /><path clip-path=\"url(#clip800)\" d=\"M 0 0 M1785.9 6.912 L1815.14 6.912 L1815.14 10.8472 L1802.87 10.8472 L1802.87 41.472 L1798.17 41.472 L1798.17 10.8472 L1785.9 10.8472 L1785.9 6.912 Z\" fill=\"#000000\" fill-rule=\"evenodd\" fill-opacity=\"1\" /><path clip-path=\"url(#clip800)\" d=\"M 0 0 M1849.7 19.5277 Q1848.98 19.111 1848.13 18.9258 Q1847.29 18.7175 1846.27 18.7175 Q1842.66 18.7175 1840.72 21.0786 Q1838.8 23.4165 1838.8 27.8147 L1838.8 41.472 L1834.52 41.472 L1834.52 15.5462 L1838.8 15.5462 L1838.8 19.574 Q1840.14 17.2129 1842.29 16.0786 Q1844.45 14.9212 1847.52 14.9212 Q1847.96 14.9212 1848.5 14.9907 Q1849.03 15.037 1849.68 15.1527 L1849.7 19.5277 Z\" fill=\"#000000\" fill-rule=\"evenodd\" fill-opacity=\"1\" /><path clip-path=\"url(#clip800)\" d=\"M 0 0 M1874.89 25.8239 L1874.89 41.472 L1870.63 41.472 L1870.63 25.9628 Q1870.63 22.2823 1869.19 20.4536 Q1867.76 18.6249 1864.89 18.6249 Q1861.44 18.6249 1859.45 20.824 Q1857.45 23.023 1857.45 26.8193 L1857.45 41.472 L1853.17 41.472 L1853.17 5.45367 L1857.45 5.45367 L1857.45 19.574 Q1858.98 17.236 1861.04 16.0786 Q1863.13 14.9212 1865.83 14.9212 Q1870.3 14.9212 1872.59 17.699 Q1874.89 20.4536 1874.89 25.8239 Z\" fill=\"#000000\" fill-rule=\"evenodd\" fill-opacity=\"1\" /><path clip-path=\"url(#clip800)\" d=\"M 0 0 M1889.4 18.5323 Q1885.97 18.5323 1883.98 21.2175 Q1881.99 23.8795 1881.99 28.5323 Q1881.99 33.185 1883.96 35.8702 Q1885.95 38.5322 1889.4 38.5322 Q1892.8 38.5322 1894.79 35.847 Q1896.78 33.1619 1896.78 28.5323 Q1896.78 23.9258 1894.79 21.2406 Q1892.8 18.5323 1889.4 18.5323 M1889.4 14.9212 Q1894.95 14.9212 1898.13 18.5323 Q1901.3 22.1434 1901.3 28.5323 Q1901.3 34.898 1898.13 38.5322 Q1894.95 42.1433 1889.4 42.1433 Q1883.82 42.1433 1880.65 38.5322 Q1877.5 34.898 1877.5 28.5323 Q1877.5 22.1434 1880.65 18.5323 Q1883.82 14.9212 1889.4 14.9212 Z\" fill=\"#000000\" fill-rule=\"evenodd\" fill-opacity=\"1\" /><path clip-path=\"url(#clip800)\" d=\"M 0 0 M1921.39 19.9443 L1951.07 19.9443 L1951.07 23.8332 L1921.39 23.8332 L1921.39 19.9443 M1921.39 29.3887 L1951.07 29.3887 L1951.07 33.3239 L1921.39 33.3239 L1921.39 29.3887 Z\" fill=\"#000000\" fill-rule=\"evenodd\" fill-opacity=\"1\" /><path clip-path=\"url(#clip800)\" d=\"M 0 0 M1981.2 9.99069 Q1977.59 9.99069 1975.76 13.5555 Q1973.96 17.0971 1973.96 24.2267 Q1973.96 31.3332 1975.76 34.898 Q1977.59 38.4396 1981.2 38.4396 Q1984.84 38.4396 1986.64 34.898 Q1988.47 31.3332 1988.47 24.2267 Q1988.47 17.0971 1986.64 13.5555 Q1984.84 9.99069 1981.2 9.99069 M1981.2 6.287 Q1987.01 6.287 1990.07 10.8935 Q1993.15 15.4768 1993.15 24.2267 Q1993.15 32.9535 1990.07 37.56 Q1987.01 42.1433 1981.2 42.1433 Q1975.39 42.1433 1972.32 37.56 Q1969.26 32.9535 1969.26 24.2267 Q1969.26 15.4768 1972.32 10.8935 Q1975.39 6.287 1981.2 6.287 Z\" fill=\"#000000\" fill-rule=\"evenodd\" fill-opacity=\"1\" /><path clip-path=\"url(#clip800)\" d=\"M 0 0 M1998.22 35.5924 L2003.1 35.5924 L2003.1 41.472 L1998.22 41.472 L1998.22 35.5924 Z\" fill=\"#000000\" fill-rule=\"evenodd\" fill-opacity=\"1\" /><path clip-path=\"url(#clip800)\" d=\"M 0 0 M2006.99 6.912 L2029.21 6.912 L2029.21 8.90273 L2016.67 41.472 L2011.78 41.472 L2023.59 10.8472 L2006.99 10.8472 L2006.99 6.912 Z\" fill=\"#000000\" fill-rule=\"evenodd\" fill-opacity=\"1\" /><circle clip-path=\"url(#clip803)\" cx=\"2244.56\" cy=\"997.465\" r=\"14\" fill=\"#009af9\" fill-rule=\"evenodd\" fill-opacity=\"1\" stroke=\"#000000\" stroke-opacity=\"1\" stroke-width=\"3.2\"/>\n",
       "<circle clip-path=\"url(#clip803)\" cx=\"2217.71\" cy=\"643.919\" r=\"14\" fill=\"#009af9\" fill-rule=\"evenodd\" fill-opacity=\"1\" stroke=\"#000000\" stroke-opacity=\"1\" stroke-width=\"3.2\"/>\n",
       "<circle clip-path=\"url(#clip803)\" cx=\"2261.01\" cy=\"946.745\" r=\"14\" fill=\"#009af9\" fill-rule=\"evenodd\" fill-opacity=\"1\" stroke=\"#000000\" stroke-opacity=\"1\" stroke-width=\"3.2\"/>\n",
       "<circle clip-path=\"url(#clip803)\" cx=\"2242.77\" cy=\"832.423\" r=\"14\" fill=\"#009af9\" fill-rule=\"evenodd\" fill-opacity=\"1\" stroke=\"#000000\" stroke-opacity=\"1\" stroke-width=\"3.2\"/>\n",
       "<circle clip-path=\"url(#clip803)\" cx=\"2255.79\" cy=\"1031.21\" r=\"14\" fill=\"#009af9\" fill-rule=\"evenodd\" fill-opacity=\"1\" stroke=\"#000000\" stroke-opacity=\"1\" stroke-width=\"3.2\"/>\n",
       "<circle clip-path=\"url(#clip803)\" cx=\"2234.1\" cy=\"714.035\" r=\"14\" fill=\"#009af9\" fill-rule=\"evenodd\" fill-opacity=\"1\" stroke=\"#000000\" stroke-opacity=\"1\" stroke-width=\"3.2\"/>\n",
       "<circle clip-path=\"url(#clip803)\" cx=\"2165.57\" cy=\"642.374\" r=\"14\" fill=\"#009af9\" fill-rule=\"evenodd\" fill-opacity=\"1\" stroke=\"#000000\" stroke-opacity=\"1\" stroke-width=\"3.2\"/>\n",
       "<circle clip-path=\"url(#clip803)\" cx=\"2268.2\" cy=\"854.356\" r=\"14\" fill=\"#009af9\" fill-rule=\"evenodd\" fill-opacity=\"1\" stroke=\"#000000\" stroke-opacity=\"1\" stroke-width=\"3.2\"/>\n",
       "<circle clip-path=\"url(#clip803)\" cx=\"2230.08\" cy=\"424.655\" r=\"14\" fill=\"#009af9\" fill-rule=\"evenodd\" fill-opacity=\"1\" stroke=\"#000000\" stroke-opacity=\"1\" stroke-width=\"3.2\"/>\n",
       "<circle clip-path=\"url(#clip803)\" cx=\"2206.15\" cy=\"819.155\" r=\"14\" fill=\"#009af9\" fill-rule=\"evenodd\" fill-opacity=\"1\" stroke=\"#000000\" stroke-opacity=\"1\" stroke-width=\"3.2\"/>\n",
       "<circle clip-path=\"url(#clip803)\" cx=\"2180.28\" cy=\"837.926\" r=\"14\" fill=\"#009af9\" fill-rule=\"evenodd\" fill-opacity=\"1\" stroke=\"#000000\" stroke-opacity=\"1\" stroke-width=\"3.2\"/>\n",
       "<circle clip-path=\"url(#clip803)\" cx=\"2322.59\" cy=\"816.993\" r=\"14\" fill=\"#009af9\" fill-rule=\"evenodd\" fill-opacity=\"1\" stroke=\"#000000\" stroke-opacity=\"1\" stroke-width=\"3.2\"/>\n",
       "<circle clip-path=\"url(#clip803)\" cx=\"2188.55\" cy=\"917.227\" r=\"14\" fill=\"#009af9\" fill-rule=\"evenodd\" fill-opacity=\"1\" stroke=\"#000000\" stroke-opacity=\"1\" stroke-width=\"3.2\"/>\n",
       "<circle clip-path=\"url(#clip803)\" cx=\"2231.69\" cy=\"1009.37\" r=\"14\" fill=\"#009af9\" fill-rule=\"evenodd\" fill-opacity=\"1\" stroke=\"#000000\" stroke-opacity=\"1\" stroke-width=\"3.2\"/>\n",
       "<circle clip-path=\"url(#clip803)\" cx=\"2224.59\" cy=\"597.265\" r=\"14\" fill=\"#009af9\" fill-rule=\"evenodd\" fill-opacity=\"1\" stroke=\"#000000\" stroke-opacity=\"1\" stroke-width=\"3.2\"/>\n",
       "<circle clip-path=\"url(#clip803)\" cx=\"1729.59\" cy=\"1179.42\" r=\"14\" fill=\"#e26f46\" fill-rule=\"evenodd\" fill-opacity=\"1\" stroke=\"#000000\" stroke-opacity=\"1\" stroke-width=\"3.2\"/>\n",
       "<circle clip-path=\"url(#clip803)\" cx=\"1785.47\" cy=\"1132.43\" r=\"14\" fill=\"#e26f46\" fill-rule=\"evenodd\" fill-opacity=\"1\" stroke=\"#000000\" stroke-opacity=\"1\" stroke-width=\"3.2\"/>\n",
       "<circle clip-path=\"url(#clip803)\" cx=\"1962.81\" cy=\"1335.02\" r=\"14\" fill=\"#e26f46\" fill-rule=\"evenodd\" fill-opacity=\"1\" stroke=\"#000000\" stroke-opacity=\"1\" stroke-width=\"3.2\"/>\n",
       "<circle clip-path=\"url(#clip803)\" cx=\"1592.88\" cy=\"606.709\" r=\"14\" fill=\"#e26f46\" fill-rule=\"evenodd\" fill-opacity=\"1\" stroke=\"#000000\" stroke-opacity=\"1\" stroke-width=\"3.2\"/>\n",
       "<circle clip-path=\"url(#clip803)\" cx=\"1784.59\" cy=\"1091.63\" r=\"14\" fill=\"#e26f46\" fill-rule=\"evenodd\" fill-opacity=\"1\" stroke=\"#000000\" stroke-opacity=\"1\" stroke-width=\"3.2\"/>\n",
       "<circle clip-path=\"url(#clip803)\" cx=\"1721.3\" cy=\"1141.16\" r=\"14\" fill=\"#e26f46\" fill-rule=\"evenodd\" fill-opacity=\"1\" stroke=\"#000000\" stroke-opacity=\"1\" stroke-width=\"3.2\"/>\n",
       "<circle clip-path=\"url(#clip803)\" cx=\"1695.3\" cy=\"786\" r=\"14\" fill=\"#e26f46\" fill-rule=\"evenodd\" fill-opacity=\"1\" stroke=\"#000000\" stroke-opacity=\"1\" stroke-width=\"3.2\"/>\n",
       "<circle clip-path=\"url(#clip803)\" cx=\"1832.13\" cy=\"1306.58\" r=\"14\" fill=\"#e26f46\" fill-rule=\"evenodd\" fill-opacity=\"1\" stroke=\"#000000\" stroke-opacity=\"1\" stroke-width=\"3.2\"/>\n",
       "<circle clip-path=\"url(#clip803)\" cx=\"1762.65\" cy=\"1068.26\" r=\"14\" fill=\"#e26f46\" fill-rule=\"evenodd\" fill-opacity=\"1\" stroke=\"#000000\" stroke-opacity=\"1\" stroke-width=\"3.2\"/>\n",
       "<circle clip-path=\"url(#clip803)\" cx=\"1851.08\" cy=\"1292.05\" r=\"14\" fill=\"#e26f46\" fill-rule=\"evenodd\" fill-opacity=\"1\" stroke=\"#000000\" stroke-opacity=\"1\" stroke-width=\"3.2\"/>\n",
       "<circle clip-path=\"url(#clip803)\" cx=\"1613.62\" cy=\"757.224\" r=\"14\" fill=\"#e26f46\" fill-rule=\"evenodd\" fill-opacity=\"1\" stroke=\"#000000\" stroke-opacity=\"1\" stroke-width=\"3.2\"/>\n",
       "<circle clip-path=\"url(#clip803)\" cx=\"1938.33\" cy=\"1479.74\" r=\"14\" fill=\"#e26f46\" fill-rule=\"evenodd\" fill-opacity=\"1\" stroke=\"#000000\" stroke-opacity=\"1\" stroke-width=\"3.2\"/>\n",
       "<circle clip-path=\"url(#clip803)\" cx=\"1795.51\" cy=\"1293.31\" r=\"14\" fill=\"#e26f46\" fill-rule=\"evenodd\" fill-opacity=\"1\" stroke=\"#000000\" stroke-opacity=\"1\" stroke-width=\"3.2\"/>\n",
       "<circle clip-path=\"url(#clip803)\" cx=\"1543.67\" cy=\"1189.96\" r=\"14\" fill=\"#e26f46\" fill-rule=\"evenodd\" fill-opacity=\"1\" stroke=\"#000000\" stroke-opacity=\"1\" stroke-width=\"3.2\"/>\n",
       "<circle clip-path=\"url(#clip803)\" cx=\"1694.48\" cy=\"993.274\" r=\"14\" fill=\"#e26f46\" fill-rule=\"evenodd\" fill-opacity=\"1\" stroke=\"#000000\" stroke-opacity=\"1\" stroke-width=\"3.2\"/>\n",
       "<circle clip-path=\"url(#clip803)\" cx=\"1618.72\" cy=\"1340.5\" r=\"14\" fill=\"#e26f46\" fill-rule=\"evenodd\" fill-opacity=\"1\" stroke=\"#000000\" stroke-opacity=\"1\" stroke-width=\"3.2\"/>\n",
       "<circle clip-path=\"url(#clip803)\" cx=\"1765.53\" cy=\"937.882\" r=\"14\" fill=\"#e26f46\" fill-rule=\"evenodd\" fill-opacity=\"1\" stroke=\"#000000\" stroke-opacity=\"1\" stroke-width=\"3.2\"/>\n",
       "<circle clip-path=\"url(#clip803)\" cx=\"1604.79\" cy=\"1017.46\" r=\"14\" fill=\"#3da44d\" fill-rule=\"evenodd\" fill-opacity=\"1\" stroke=\"#000000\" stroke-opacity=\"1\" stroke-width=\"3.2\"/>\n",
       "<circle clip-path=\"url(#clip803)\" cx=\"1443.91\" cy=\"723.102\" r=\"14\" fill=\"#3da44d\" fill-rule=\"evenodd\" fill-opacity=\"1\" stroke=\"#000000\" stroke-opacity=\"1\" stroke-width=\"3.2\"/>\n",
       "<circle clip-path=\"url(#clip803)\" cx=\"1483.52\" cy=\"774.269\" r=\"14\" fill=\"#3da44d\" fill-rule=\"evenodd\" fill-opacity=\"1\" stroke=\"#000000\" stroke-opacity=\"1\" stroke-width=\"3.2\"/>\n",
       "<circle clip-path=\"url(#clip803)\" cx=\"1460.3\" cy=\"793.218\" r=\"14\" fill=\"#3da44d\" fill-rule=\"evenodd\" fill-opacity=\"1\" stroke=\"#000000\" stroke-opacity=\"1\" stroke-width=\"3.2\"/>\n",
       "<circle clip-path=\"url(#clip803)\" cx=\"1524.16\" cy=\"830.214\" r=\"14\" fill=\"#3da44d\" fill-rule=\"evenodd\" fill-opacity=\"1\" stroke=\"#000000\" stroke-opacity=\"1\" stroke-width=\"3.2\"/>\n",
       "<circle clip-path=\"url(#clip803)\" cx=\"1517.22\" cy=\"875.504\" r=\"14\" fill=\"#3da44d\" fill-rule=\"evenodd\" fill-opacity=\"1\" stroke=\"#000000\" stroke-opacity=\"1\" stroke-width=\"3.2\"/>\n",
       "<circle clip-path=\"url(#clip803)\" cx=\"1521.4\" cy=\"661.759\" r=\"14\" fill=\"#3da44d\" fill-rule=\"evenodd\" fill-opacity=\"1\" stroke=\"#000000\" stroke-opacity=\"1\" stroke-width=\"3.2\"/>\n",
       "<circle clip-path=\"url(#clip803)\" cx=\"1459.46\" cy=\"1041.54\" r=\"14\" fill=\"#3da44d\" fill-rule=\"evenodd\" fill-opacity=\"1\" stroke=\"#000000\" stroke-opacity=\"1\" stroke-width=\"3.2\"/>\n",
       "<circle clip-path=\"url(#clip803)\" cx=\"1378.18\" cy=\"682.945\" r=\"14\" fill=\"#3da44d\" fill-rule=\"evenodd\" fill-opacity=\"1\" stroke=\"#000000\" stroke-opacity=\"1\" stroke-width=\"3.2\"/>\n",
       "<circle clip-path=\"url(#clip803)\" cx=\"1540.13\" cy=\"1024.49\" r=\"14\" fill=\"#3da44d\" fill-rule=\"evenodd\" fill-opacity=\"1\" stroke=\"#000000\" stroke-opacity=\"1\" stroke-width=\"3.2\"/>\n",
       "<circle clip-path=\"url(#clip803)\" cx=\"1600.67\" cy=\"1232.57\" r=\"14\" fill=\"#3da44d\" fill-rule=\"evenodd\" fill-opacity=\"1\" stroke=\"#000000\" stroke-opacity=\"1\" stroke-width=\"3.2\"/>\n",
       "<circle clip-path=\"url(#clip803)\" cx=\"1317.16\" cy=\"104.257\" r=\"14\" fill=\"#3da44d\" fill-rule=\"evenodd\" fill-opacity=\"1\" stroke=\"#000000\" stroke-opacity=\"1\" stroke-width=\"3.2\"/>\n",
       "<circle clip-path=\"url(#clip803)\" cx=\"1619.91\" cy=\"966.65\" r=\"14\" fill=\"#3da44d\" fill-rule=\"evenodd\" fill-opacity=\"1\" stroke=\"#000000\" stroke-opacity=\"1\" stroke-width=\"3.2\"/>\n",
       "</svg>\n"
      ]
     },
     "metadata": {},
     "execution_count": 19
    }
   ],
   "cell_type": "code",
   "source": [
    "p1 = scatter(X_test_pca[1,:], X_test_pca[2,:], group=y_hat_1, title=@sprintf \"FuzzyART rho = %.1f\" rho_1)\n",
    "p2 = scatter(X_test_pca[1,:], X_test_pca[2,:], group=y_hat_2, title=@sprintf \"FuzzyART rho = %.1f\" rho_2)\n",
    "plot(p1, p2, layout=(1, 2), legend = false, xtickfontsize=6, xguidefontsize=8, titlefont=font(8))"
   ],
   "metadata": {},
   "execution_count": 19
  },
  {
   "cell_type": "markdown",
   "source": [
    "---\n",
    "\n",
    "*This notebook was generated using [Literate.jl](https://github.com/fredrikekre/Literate.jl).*"
   ],
   "metadata": {}
  }
 ],
 "nbformat_minor": 3,
 "metadata": {
  "language_info": {
   "file_extension": ".jl",
   "mimetype": "application/julia",
   "name": "julia",
   "version": "1.4.2"
  },
  "kernelspec": {
   "name": "julia-1.4",
   "display_name": "Julia 1.4.2",
   "language": "julia"
  }
 },
 "nbformat": 4
}
