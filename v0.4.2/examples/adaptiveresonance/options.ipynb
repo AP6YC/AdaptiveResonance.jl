{
 "cells": [
  {
   "cell_type": "markdown",
   "source": [
    "## Overview"
   ],
   "metadata": {}
  },
  {
   "cell_type": "markdown",
   "source": [
    "The `AdaptiveResonance.jl` package has several ways of handling options for ART modules.\n",
    "These methods are meant to give maximum flexibility to the user for sharing and interpreting options, which themselves vary between each module."
   ],
   "metadata": {}
  },
  {
   "cell_type": "markdown",
   "source": [
    "!!! note\n",
    "    For more info on options in ART modules, see the guide in the docs on ART options."
   ],
   "metadata": {}
  },
  {
   "cell_type": "markdown",
   "source": [
    "## ART Options"
   ],
   "metadata": {}
  },
  {
   "cell_type": "markdown",
   "source": [
    "To get a feel for the ART options system, we will inspect different options and their instantiation methods."
   ],
   "metadata": {}
  },
  {
   "cell_type": "markdown",
   "source": [
    "### Inspection"
   ],
   "metadata": {}
  },
  {
   "cell_type": "markdown",
   "source": [
    "First, we load `AdaptiveResonance`:"
   ],
   "metadata": {}
  },
  {
   "outputs": [],
   "cell_type": "code",
   "source": [
    "using AdaptiveResonance"
   ],
   "metadata": {},
   "execution_count": 1
  },
  {
   "cell_type": "markdown",
   "source": [
    "Every ART module has a default constructor, which can be instantiated in the usual way:"
   ],
   "metadata": {}
  },
  {
   "outputs": [
    {
     "output_type": "execute_result",
     "data": {
      "text/plain": "FuzzyART"
     },
     "metadata": {},
     "execution_count": 2
    }
   ],
   "cell_type": "code",
   "source": [
    "# Create a FuzzyART module with default options\n",
    "my_fuzzyart = FuzzyART()\n",
    "typeof(my_fuzzyart)"
   ],
   "metadata": {},
   "execution_count": 2
  },
  {
   "cell_type": "markdown",
   "source": [
    "Within every ART module is a [Parameters.jl](https://github.com/mauro3/Parameters.jl) struct named `opts` containing the options for the module"
   ],
   "metadata": {}
  },
  {
   "outputs": [
    {
     "output_type": "execute_result",
     "data": {
      "text/plain": "opts_FuzzyART\n  rho: Float64 0.6\n  alpha: Float64 0.001\n  beta: Float64 1.0\n  gamma: Float64 3.0\n  gamma_ref: Float64 1.0\n  display: Bool true\n  max_epochs: Int64 1\n  gamma_normalization: Bool false\n"
     },
     "metadata": {},
     "execution_count": 3
    }
   ],
   "cell_type": "code",
   "source": [
    "# Check the FuzzyART options\n",
    "my_fuzzyart.opts"
   ],
   "metadata": {},
   "execution_count": 3
  },
  {
   "cell_type": "markdown",
   "source": [
    "Note that the options here have the type `opts_FuzzyART`.\n",
    "This nomenclature is used throughout the module to indicate an options type associated with an ART module.\n",
    "For example, the options for a DDVFA module are `opts_DDVFA`:"
   ],
   "metadata": {}
  },
  {
   "outputs": [
    {
     "output_type": "execute_result",
     "data": {
      "text/plain": "opts_DDVFA"
     },
     "metadata": {},
     "execution_count": 4
    }
   ],
   "cell_type": "code",
   "source": [
    "# Create a DDVFA module and check the type of the options\n",
    "my_ddvfa = DDVFA()\n",
    "typeof(my_ddvfa.opts)"
   ],
   "metadata": {},
   "execution_count": 4
  },
  {
   "cell_type": "markdown",
   "source": [
    "In fact, we can create an instance of these options with a default constructor:"
   ],
   "metadata": {}
  },
  {
   "outputs": [
    {
     "output_type": "execute_result",
     "data": {
      "text/plain": "opts_FuzzyART\n  rho: Float64 0.6\n  alpha: Float64 0.001\n  beta: Float64 1.0\n  gamma: Float64 3.0\n  gamma_ref: Float64 1.0\n  display: Bool true\n  max_epochs: Int64 1\n  gamma_normalization: Bool false\n"
     },
     "metadata": {},
     "execution_count": 5
    }
   ],
   "cell_type": "code",
   "source": [
    "# Create a separate options struct\n",
    "my_fuzzyart_opts = opts_FuzzyART()"
   ],
   "metadata": {},
   "execution_count": 5
  },
  {
   "cell_type": "markdown",
   "source": [
    "In addition to the default constructor, we can construct ART modules by instantiating these options and passing them to the module during construction:"
   ],
   "metadata": {}
  },
  {
   "outputs": [
    {
     "output_type": "execute_result",
     "data": {
      "text/plain": "FuzzyART(opts_FuzzyART\n  rho: Float64 0.6\n  alpha: Float64 0.001\n  beta: Float64 1.0\n  gamma: Float64 3.0\n  gamma_ref: Float64 1.0\n  display: Bool true\n  max_epochs: Int64 1\n  gamma_normalization: Bool false\n, DataConfig(false, Float64[], Float64[], 0, 0), 0.0, Int64[], Float64[], Float64[], Array{Float64}(undef,0,0), Int64[], 0, 0)"
     },
     "metadata": {},
     "execution_count": 6
    }
   ],
   "cell_type": "code",
   "source": [
    "# Instantiate an ART module by passing our options\n",
    "my_fuzzyart = FuzzyART(my_fuzzyart_opts)\n",
    "my_other_fuzzyart = FuzzyART(my_fuzzyart_opts)"
   ],
   "metadata": {},
   "execution_count": 6
  },
  {
   "cell_type": "markdown",
   "source": [
    "### Specifying Options"
   ],
   "metadata": {}
  },
  {
   "cell_type": "markdown",
   "source": [
    "Now to the good stuff: because of the behavior of the `Parameters.jl` type, each option has a default value that we can modify during instantiation with keyword arguments:"
   ],
   "metadata": {}
  },
  {
   "outputs": [
    {
     "output_type": "execute_result",
     "data": {
      "text/plain": "FuzzyART(opts_FuzzyART\n  rho: Float64 0.6\n  alpha: Float64 0.001\n  beta: Float64 1.0\n  gamma: Float64 3.0\n  gamma_ref: Float64 1.0\n  display: Bool true\n  max_epochs: Int64 1\n  gamma_normalization: Bool true\n, DataConfig(false, Float64[], Float64[], 0, 0), 0.0, Int64[], Float64[], Float64[], Array{Float64}(undef,0,0), Int64[], 0, 0)"
     },
     "metadata": {},
     "execution_count": 7
    }
   ],
   "cell_type": "code",
   "source": [
    "# Change some of the default FuzzyART options\n",
    "my_fuzzyart_opts = opts_FuzzyART(\n",
    "    rho=0.6,\n",
    "    gamma_normalization=true\n",
    ")\n",
    "my_fuzzyart = FuzzyART(my_fuzzyart_opts)"
   ],
   "metadata": {},
   "execution_count": 7
  },
  {
   "cell_type": "markdown",
   "source": [
    "As some syntactic sugar, we can pass these keyword arguments directly to the module during instantiation if we have no need to share option structs:"
   ],
   "metadata": {}
  },
  {
   "outputs": [
    {
     "output_type": "execute_result",
     "data": {
      "text/plain": "FuzzyART(opts_FuzzyART\n  rho: Float64 0.6\n  alpha: Float64 0.001\n  beta: Float64 1.0\n  gamma: Float64 3.0\n  gamma_ref: Float64 1.0\n  display: Bool true\n  max_epochs: Int64 1\n  gamma_normalization: Bool true\n, DataConfig(false, Float64[], Float64[], 0, 0), 0.0, Int64[], Float64[], Float64[], Array{Float64}(undef,0,0), Int64[], 0, 0)"
     },
     "metadata": {},
     "execution_count": 8
    }
   ],
   "cell_type": "code",
   "source": [
    "# Pass these keyword arguments to the module directly\n",
    "my_fuzzyart = FuzzyART(\n",
    "    rho=0.6,\n",
    "    gamma_normalization=true\n",
    ")"
   ],
   "metadata": {},
   "execution_count": 8
  },
  {
   "cell_type": "markdown",
   "source": [
    "Before training, we can also instantiate the model and alter the options afterward:"
   ],
   "metadata": {}
  },
  {
   "outputs": [
    {
     "output_type": "execute_result",
     "data": {
      "text/plain": "0.6"
     },
     "metadata": {},
     "execution_count": 9
    }
   ],
   "cell_type": "code",
   "source": [
    "my_fuzzyart = FuzzyART()\n",
    "my_fuzzyart.opts.rho=0.6"
   ],
   "metadata": {},
   "execution_count": 9
  },
  {
   "cell_type": "markdown",
   "source": [
    "!!! note\n",
    "    All ART modules are designed to use this options struct internally when the parameters are needed.\n",
    "    It is possible to change these parameters in the middle of training and evaluation, but some algorithmic instability may occur."
   ],
   "metadata": {}
  },
  {
   "cell_type": "markdown",
   "source": [
    "## Comparison"
   ],
   "metadata": {}
  },
  {
   "cell_type": "markdown",
   "source": [
    "To see the effect that changing these parameters has on the modules, we can train and test them side-by-side."
   ],
   "metadata": {}
  },
  {
   "cell_type": "markdown",
   "source": [
    "We begin with importing AdaptiveResonance for the ART modules and MLDatasets for some data utilities."
   ],
   "metadata": {}
  },
  {
   "outputs": [],
   "cell_type": "code",
   "source": [
    "using MLDatasets        # Iris dataset\n",
    "using MLDataUtils       # Shuffling and splitting\n",
    "using Printf            # Formatted number printing\n",
    "using MultivariateStats # Principal component analysis (PCA)\n",
    "using Plots             # Plotting"
   ],
   "metadata": {},
   "execution_count": 10
  },
  {
   "cell_type": "markdown",
   "source": [
    "We will download the Iris dataset for its small size and benchmark use for clustering algorithms."
   ],
   "metadata": {}
  },
  {
   "outputs": [
    {
     "output_type": "execute_result",
     "data": {
      "text/plain": "([5.1 4.9 … 6.2 5.9; 3.5 3.0 … 3.4 3.0; 1.4 1.4 … 5.4 5.1; 0.2 0.2 … 2.3 1.8], [\"Iris-setosa\", \"Iris-setosa\", \"Iris-setosa\", \"Iris-setosa\", \"Iris-setosa\", \"Iris-setosa\", \"Iris-setosa\", \"Iris-setosa\", \"Iris-setosa\", \"Iris-setosa\"  …  \"Iris-virginica\", \"Iris-virginica\", \"Iris-virginica\", \"Iris-virginica\", \"Iris-virginica\", \"Iris-virginica\", \"Iris-virginica\", \"Iris-virginica\", \"Iris-virginica\", \"Iris-virginica\"])"
     },
     "metadata": {},
     "execution_count": 11
    }
   ],
   "cell_type": "code",
   "source": [
    "Iris.download(i_accept_the_terms_of_use=true)\n",
    "features, labels = Iris.features(), Iris.labels()"
   ],
   "metadata": {},
   "execution_count": 11
  },
  {
   "cell_type": "markdown",
   "source": [
    "Because the MLDatasets package gives us Iris labels as strings, we will use the `MLDataUtils.convertlabel` method with the `MLLabelUtils.LabelEnc.Indices` type to get a list of integers representing each class:"
   ],
   "metadata": {}
  },
  {
   "outputs": [
    {
     "output_type": "execute_result",
     "data": {
      "text/plain": "3-element Array{Int64,1}:\n 1\n 2\n 3"
     },
     "metadata": {},
     "execution_count": 12
    }
   ],
   "cell_type": "code",
   "source": [
    "labels = convertlabel(LabelEnc.Indices{Int}, labels)\n",
    "unique(labels)"
   ],
   "metadata": {},
   "execution_count": 12
  },
  {
   "cell_type": "markdown",
   "source": [
    "Next, we will create a train/test split with the `MLDataUtils.stratifiedobs` utility:"
   ],
   "metadata": {}
  },
  {
   "outputs": [
    {
     "output_type": "execute_result",
     "data": {
      "text/plain": "(([5.0 5.5 … 6.7 5.6; 3.6 2.4 … 3.0 2.5; 1.4 3.7 … 5.0 3.9; 0.2 1.0 … 1.7 1.1], [1, 2, 3, 1, 1, 2, 3, 3, 3, 3  …  2, 1, 2, 3, 2, 3, 2, 1, 2, 2]), ([4.3 4.4 … 6.4 5.5; 3.0 3.2 … 2.9 2.5; 1.1 1.3 … 4.3 4.0; 0.1 0.2 … 1.3 1.3], [1, 1, 3, 3, 3, 3, 1, 3, 3, 3  …  3, 1, 3, 2, 1, 1, 2, 1, 2, 2]))"
     },
     "metadata": {},
     "execution_count": 13
    }
   ],
   "cell_type": "code",
   "source": [
    "(X_train, y_train), (X_test, y_test) = stratifiedobs((features, labels))"
   ],
   "metadata": {},
   "execution_count": 13
  },
  {
   "cell_type": "markdown",
   "source": [
    "Now we can create several FuzzyART modules with different options."
   ],
   "metadata": {}
  },
  {
   "outputs": [
    {
     "output_type": "execute_result",
     "data": {
      "text/plain": "FuzzyART(opts_FuzzyART\n  rho: Float64 0.7\n  alpha: Float64 0.001\n  beta: Float64 1.0\n  gamma: Float64 3.0\n  gamma_ref: Float64 1.0\n  display: Bool false\n  max_epochs: Int64 1\n  gamma_normalization: Bool false\n, DataConfig(false, Float64[], Float64[], 0, 0), 0.0, Int64[], Float64[], Float64[], Array{Float64}(undef,0,0), Int64[], 0, 0)"
     },
     "metadata": {},
     "execution_count": 14
    }
   ],
   "cell_type": "code",
   "source": [
    "# Create two FuzzyARTs with different vigilance values and suppressing logging messages\n",
    "rho_1 = 0.5\n",
    "rho_2 = 0.7\n",
    "my_fuzzyart_1 = FuzzyART(rho=rho_1, display=false)\n",
    "my_fuzzyart_2 = FuzzyART(rho=rho_2, display=false)"
   ],
   "metadata": {},
   "execution_count": 14
  },
  {
   "cell_type": "markdown",
   "source": [
    "Here, we will train these FuzzyART modules in simple supervised mode by passing the supervised labels as a keyword argument:"
   ],
   "metadata": {}
  },
  {
   "outputs": [],
   "cell_type": "code",
   "source": [
    "# Train in simple supervised mode by passing the labels as a keyword argument.\n",
    "y_hat_train_1 = train!(my_fuzzyart_1, X_train, y=y_train)\n",
    "y_hat_train_2 = train!(my_fuzzyart_2, X_train, y=y_train)"
   ],
   "metadata": {},
   "execution_count": 15
  },
  {
   "cell_type": "markdown",
   "source": [
    "We then classify the test data with both modules:"
   ],
   "metadata": {}
  },
  {
   "outputs": [
    {
     "name": "stdout",
     "output_type": "stream",
     "text": [
      "FuzzyART 1 labels: (45,) Array{Int64,1}\n",
      "FuzzyART 2 labels: (45,) Array{Int64,1}\n",
      "Testing performance rho=0.5: 0.9111\n",
      "Testing performance rho=0.7: 0.9333\n"
     ]
    }
   ],
   "cell_type": "code",
   "source": [
    "y_hat_1 = AdaptiveResonance.classify(my_fuzzyart_1, X_test, get_bmu=true)\n",
    "y_hat_2 = AdaptiveResonance.classify(my_fuzzyart_2, X_test, get_bmu=true)\n",
    "\n",
    "# Check the shape and type of the output labels\n",
    "println(\"FuzzyART 1 labels: \",  size(y_hat_1), \" \", typeof(y_hat_1))\n",
    "println(\"FuzzyART 2 labels: \",  size(y_hat_2), \" \", typeof(y_hat_2))\n",
    "\n",
    "# Calculate the performance on the test data\n",
    "perf_test_1 = performance(y_hat_1, y_test)\n",
    "perf_test_2 = performance(y_hat_2, y_test)\n",
    "\n",
    "# Format each performance number for comparison\n",
    "@printf \"Testing performance rho=%.1f: %.4f\\n\" rho_1 perf_test_1\n",
    "@printf \"Testing performance rho=%.1f: %.4f\\n\" rho_2 perf_test_2"
   ],
   "metadata": {},
   "execution_count": 16
  },
  {
   "cell_type": "markdown",
   "source": [
    "In addition to having different performances, we can see that there is a subsequent trade-off in the number of categories used:"
   ],
   "metadata": {}
  },
  {
   "outputs": [
    {
     "name": "stdout",
     "output_type": "stream",
     "text": [
      "Number of categories rho=0.5: 18\n",
      "Number of categories rho=0.7: 15\n"
     ]
    }
   ],
   "cell_type": "code",
   "source": [
    "# Print the number of categories for each vigilance parameter\n",
    "@printf \"Number of categories rho=%.1f: %i\\n\" rho_1 my_fuzzyart_1.n_categories\n",
    "@printf \"Number of categories rho=%.1f: %i\\n\" rho_2 my_fuzzyart_2.n_categories"
   ],
   "metadata": {},
   "execution_count": 17
  },
  {
   "cell_type": "markdown",
   "source": [
    "The variation between vigilance parameter, number of categories created during learning, and testing performance/generalization is a central theme in ART-based algorithms."
   ],
   "metadata": {}
  },
  {
   "cell_type": "markdown",
   "source": [
    "## Visualization"
   ],
   "metadata": {}
  },
  {
   "cell_type": "markdown",
   "source": [
    "Now, to visualize how the two models differ in how they partition the data, we can use principal component analysis (PCA) to compress to two plotting dimensions.\n",
    "PCA is a method to represent a dataset in a different number of dimensions while preserving the relative separation between datapoints.\n",
    "Though most datasets are not able to be effectively transformed down to two dimensions, this technique is useful to get a general sense of how well separated the classes are and how well your algorithm classifies them."
   ],
   "metadata": {}
  },
  {
   "outputs": [
    {
     "name": "stdout",
     "output_type": "stream",
     "text": [
      "┌ Warning: `transform(f, x)` is deprecated, use `predict(f, x)` instead.\n",
      "│   caller = top-level scope at options.ipynb:5\n",
      "└ @ Core ~/work/AdaptiveResonance.jl/AdaptiveResonance.jl/docs/src/examples/adaptiveresonance/options.ipynb:5\n"
     ]
    },
    {
     "output_type": "execute_result",
     "data": {
      "text/plain": "2×45 Array{Float64,2}:\n  3.2252    2.9983    -2.15874   -1.34459   …  2.58735   -0.714008  -0.164513\n -0.50328  -0.334308  -0.218326  -0.776415     0.520474   0.150379  -0.679661"
     },
     "metadata": {},
     "execution_count": 18
    }
   ],
   "cell_type": "code",
   "source": [
    "# Train a PCA model to visually separate the features in two dimensions.\n",
    "M = fit(PCA, features; maxoutdim=2)\n",
    "\n",
    "# Apply the PCA model to the testing set\n",
    "X_test_pca = transform(M, X_test)"
   ],
   "metadata": {},
   "execution_count": 18
  },
  {
   "cell_type": "markdown",
   "source": [
    "We can now plot the PCA'ed test set and label them according to the two FuzzyART's"
   ],
   "metadata": {}
  },
  {
   "outputs": [
    {
     "output_type": "execute_result",
     "data": {
      "text/plain": "Plot{Plots.GRBackend() n=6}",
      "image/png": "[encoded data removed]",
      "text/html": [
       "<?xml version=\"1.0\" encoding=\"utf-8\"?>\n",
       "<svg xmlns=\"http://www.w3.org/2000/svg\" xmlns:xlink=\"http://www.w3.org/1999/xlink\" width=\"600\" height=\"400\" viewBox=\"0 0 2400 1600\">\n",
       "<defs>\n",
       "  <clipPath id=\"clip180\">\n",
       "    <rect x=\"0\" y=\"0\" width=\"2400\" height=\"1600\"/>\n",
       "  </clipPath>\n",
       "</defs>\n",
       "<path clip-path=\"url(#clip180)\" d=\"\n",
       "M0 1600 L2400 1600 L2400 0 L0 0  Z\n",
       "  \" fill=\"#ffffff\" fill-rule=\"evenodd\" fill-opacity=\"1\"/>\n",
       "<defs>\n",
       "  <clipPath id=\"clip181\">\n",
       "    <rect x=\"480\" y=\"0\" width=\"1681\" height=\"1600\"/>\n",
       "  </clipPath>\n",
       "</defs>\n",
       "<path clip-path=\"url(#clip180)\" d=\"\n",
       "M86.9921 1521.01 L1152.76 1521.01 L1152.76 62.9921 L86.9921 62.9921  Z\n",
       "  \" fill=\"#ffffff\" fill-rule=\"evenodd\" fill-opacity=\"1\"/>\n",
       "<defs>\n",
       "  <clipPath id=\"clip182\">\n",
       "    <rect x=\"86\" y=\"62\" width=\"1067\" height=\"1459\"/>\n",
       "  </clipPath>\n",
       "</defs>\n",
       "<polyline clip-path=\"url(#clip182)\" style=\"stroke:#000000; stroke-width:2; stroke-opacity:0.1; fill:none\" points=\"\n",
       "  191.805,1521.01 191.805,62.9921 \n",
       "  \"/>\n",
       "<polyline clip-path=\"url(#clip182)\" style=\"stroke:#000000; stroke-width:2; stroke-opacity:0.1; fill:none\" points=\"\n",
       "  341.324,1521.01 341.324,62.9921 \n",
       "  \"/>\n",
       "<polyline clip-path=\"url(#clip182)\" style=\"stroke:#000000; stroke-width:2; stroke-opacity:0.1; fill:none\" points=\"\n",
       "  490.844,1521.01 490.844,62.9921 \n",
       "  \"/>\n",
       "<polyline clip-path=\"url(#clip182)\" style=\"stroke:#000000; stroke-width:2; stroke-opacity:0.1; fill:none\" points=\"\n",
       "  640.363,1521.01 640.363,62.9921 \n",
       "  \"/>\n",
       "<polyline clip-path=\"url(#clip182)\" style=\"stroke:#000000; stroke-width:2; stroke-opacity:0.1; fill:none\" points=\"\n",
       "  789.882,1521.01 789.882,62.9921 \n",
       "  \"/>\n",
       "<polyline clip-path=\"url(#clip182)\" style=\"stroke:#000000; stroke-width:2; stroke-opacity:0.1; fill:none\" points=\"\n",
       "  939.402,1521.01 939.402,62.9921 \n",
       "  \"/>\n",
       "<polyline clip-path=\"url(#clip182)\" style=\"stroke:#000000; stroke-width:2; stroke-opacity:0.1; fill:none\" points=\"\n",
       "  1088.92,1521.01 1088.92,62.9921 \n",
       "  \"/>\n",
       "<polyline clip-path=\"url(#clip180)\" style=\"stroke:#000000; stroke-width:4; stroke-opacity:1; fill:none\" points=\"\n",
       "  86.9921,1521.01 1152.76,1521.01 \n",
       "  \"/>\n",
       "<polyline clip-path=\"url(#clip180)\" style=\"stroke:#000000; stroke-width:4; stroke-opacity:1; fill:none\" points=\"\n",
       "  191.805,1521.01 191.805,1503.51 \n",
       "  \"/>\n",
       "<polyline clip-path=\"url(#clip180)\" style=\"stroke:#000000; stroke-width:4; stroke-opacity:1; fill:none\" points=\"\n",
       "  341.324,1521.01 341.324,1503.51 \n",
       "  \"/>\n",
       "<polyline clip-path=\"url(#clip180)\" style=\"stroke:#000000; stroke-width:4; stroke-opacity:1; fill:none\" points=\"\n",
       "  490.844,1521.01 490.844,1503.51 \n",
       "  \"/>\n",
       "<polyline clip-path=\"url(#clip180)\" style=\"stroke:#000000; stroke-width:4; stroke-opacity:1; fill:none\" points=\"\n",
       "  640.363,1521.01 640.363,1503.51 \n",
       "  \"/>\n",
       "<polyline clip-path=\"url(#clip180)\" style=\"stroke:#000000; stroke-width:4; stroke-opacity:1; fill:none\" points=\"\n",
       "  789.882,1521.01 789.882,1503.51 \n",
       "  \"/>\n",
       "<polyline clip-path=\"url(#clip180)\" style=\"stroke:#000000; stroke-width:4; stroke-opacity:1; fill:none\" points=\"\n",
       "  939.402,1521.01 939.402,1503.51 \n",
       "  \"/>\n",
       "<polyline clip-path=\"url(#clip180)\" style=\"stroke:#000000; stroke-width:4; stroke-opacity:1; fill:none\" points=\"\n",
       "  1088.92,1521.01 1088.92,1503.51 \n",
       "  \"/>\n",
       "<path clip-path=\"url(#clip180)\" d=\"M 0 0 M170.79 1558.69 L193.046 1558.69 L193.046 1561.64 L170.79 1561.64 L170.79 1558.69 Z\" fill=\"#000000\" fill-rule=\"evenodd\" fill-opacity=\"1\" /><path clip-path=\"url(#clip180)\" d=\"M 0 0 M207.473 1557.34 Q209.991 1557.87 211.397 1559.58 Q212.821 1561.28 212.821 1563.78 Q212.821 1567.61 210.182 1569.71 Q207.543 1571.82 202.682 1571.82 Q201.05 1571.82 199.314 1571.49 Q197.595 1571.17 195.755 1570.53 L195.755 1567.15 Q197.213 1568 198.949 1568.43 Q200.685 1568.86 202.578 1568.86 Q205.876 1568.86 207.595 1567.56 Q209.331 1566.26 209.331 1563.78 Q209.331 1561.49 207.716 1560.2 Q206.119 1558.9 203.255 1558.9 L200.234 1558.9 L200.234 1556.02 L203.394 1556.02 Q205.98 1556.02 207.352 1554.99 Q208.723 1553.95 208.723 1552.01 Q208.723 1550.01 207.3 1548.95 Q205.894 1547.87 203.255 1547.87 Q201.814 1547.87 200.164 1548.19 Q198.515 1548.5 196.536 1549.16 L196.536 1546.03 Q198.532 1545.48 200.269 1545.2 Q202.022 1544.92 203.567 1544.92 Q207.56 1544.92 209.887 1546.75 Q212.213 1548.55 212.213 1551.64 Q212.213 1553.79 210.98 1555.29 Q209.748 1556.76 207.473 1557.34 Z\" fill=\"#000000\" fill-rule=\"evenodd\" fill-opacity=\"1\" /><path clip-path=\"url(#clip180)\" d=\"M 0 0 M320.665 1558.69 L342.922 1558.69 L342.922 1561.64 L320.665 1561.64 L320.665 1558.69 Z\" fill=\"#000000\" fill-rule=\"evenodd\" fill-opacity=\"1\" /><path clip-path=\"url(#clip180)\" d=\"M 0 0 M349.744 1568.36 L361.984 1568.36 L361.984 1571.31 L345.526 1571.31 L345.526 1568.36 Q347.522 1566.29 350.96 1562.82 Q354.415 1559.33 355.3 1558.33 Q356.984 1556.43 357.644 1555.13 Q358.321 1553.81 358.321 1552.54 Q358.321 1550.48 356.863 1549.18 Q355.422 1547.87 353.095 1547.87 Q351.446 1547.87 349.606 1548.45 Q347.783 1549.02 345.699 1550.18 L345.699 1546.64 Q347.817 1545.79 349.658 1545.36 Q351.498 1544.92 353.026 1544.92 Q357.053 1544.92 359.449 1546.94 Q361.845 1548.95 361.845 1552.32 Q361.845 1553.92 361.237 1555.36 Q360.647 1556.78 359.067 1558.73 Q358.633 1559.23 356.307 1561.64 Q353.981 1564.04 349.744 1568.36 Z\" fill=\"#000000\" fill-rule=\"evenodd\" fill-opacity=\"1\" /><path clip-path=\"url(#clip180)\" d=\"M 0 0 M470.045 1558.69 L492.302 1558.69 L492.302 1561.64 L470.045 1561.64 L470.045 1558.69 Z\" fill=\"#000000\" fill-rule=\"evenodd\" fill-opacity=\"1\" /><path clip-path=\"url(#clip180)\" d=\"M 0 0 M496.712 1568.36 L502.441 1568.36 L502.441 1548.59 L496.208 1549.84 L496.208 1546.64 L502.406 1545.39 L505.913 1545.39 L505.913 1568.36 L511.642 1568.36 L511.642 1571.31 L496.712 1571.31 L496.712 1568.36 Z\" fill=\"#000000\" fill-rule=\"evenodd\" fill-opacity=\"1\" /><path clip-path=\"url(#clip180)\" d=\"M 0 0 M640.363 1547.7 Q637.655 1547.7 636.283 1550.37 Q634.929 1553.03 634.929 1558.38 Q634.929 1563.71 636.283 1566.38 Q637.655 1569.04 640.363 1569.04 Q643.089 1569.04 644.443 1566.38 Q645.814 1563.71 645.814 1558.38 Q645.814 1553.03 644.443 1550.37 Q643.089 1547.7 640.363 1547.7 M640.363 1544.92 Q644.721 1544.92 647.012 1548.38 Q649.321 1551.82 649.321 1558.38 Q649.321 1564.92 647.012 1568.38 Q644.721 1571.82 640.363 1571.82 Q636.005 1571.82 633.696 1568.38 Q631.405 1564.92 631.405 1558.38 Q631.405 1551.82 633.696 1548.38 Q636.005 1544.92 640.363 1544.92 Z\" fill=\"#000000\" fill-rule=\"evenodd\" fill-opacity=\"1\" /><path clip-path=\"url(#clip180)\" d=\"M 0 0 M782.669 1568.36 L788.398 1568.36 L788.398 1548.59 L782.165 1549.84 L782.165 1546.64 L788.363 1545.39 L791.87 1545.39 L791.87 1568.36 L797.599 1568.36 L797.599 1571.31 L782.669 1571.31 L782.669 1568.36 Z\" fill=\"#000000\" fill-rule=\"evenodd\" fill-opacity=\"1\" /><path clip-path=\"url(#clip180)\" d=\"M 0 0 M935.391 1568.36 L947.631 1568.36 L947.631 1571.31 L931.173 1571.31 L931.173 1568.36 Q933.169 1566.29 936.607 1562.82 Q940.061 1559.33 940.947 1558.33 Q942.631 1556.43 943.291 1555.13 Q943.968 1553.81 943.968 1552.54 Q943.968 1550.48 942.509 1549.18 Q941.068 1547.87 938.742 1547.87 Q937.093 1547.87 935.252 1548.45 Q933.429 1549.02 931.346 1550.18 L931.346 1546.64 Q933.464 1545.79 935.304 1545.36 Q937.145 1544.92 938.672 1544.92 Q942.7 1544.92 945.096 1546.94 Q947.492 1548.95 947.492 1552.32 Q947.492 1553.92 946.884 1555.36 Q946.294 1556.78 944.714 1558.73 Q944.28 1559.23 941.954 1561.64 Q939.627 1564.04 935.391 1568.36 Z\" fill=\"#000000\" fill-rule=\"evenodd\" fill-opacity=\"1\" /><path clip-path=\"url(#clip180)\" d=\"M 0 0 M1092.11 1557.34 Q1094.62 1557.87 1096.03 1559.58 Q1097.45 1561.28 1097.45 1563.78 Q1097.45 1567.61 1094.82 1569.71 Q1092.18 1571.82 1087.32 1571.82 Q1085.68 1571.82 1083.95 1571.49 Q1082.23 1571.17 1080.39 1570.53 L1080.39 1567.15 Q1081.85 1568 1083.58 1568.43 Q1085.32 1568.86 1087.21 1568.86 Q1090.51 1568.86 1092.23 1567.56 Q1093.96 1566.26 1093.96 1563.78 Q1093.96 1561.49 1092.35 1560.2 Q1090.75 1558.9 1087.89 1558.9 L1084.87 1558.9 L1084.87 1556.02 L1088.03 1556.02 Q1090.61 1556.02 1091.99 1554.99 Q1093.36 1553.95 1093.36 1552.01 Q1093.36 1550.01 1091.93 1548.95 Q1090.53 1547.87 1087.89 1547.87 Q1086.45 1547.87 1084.8 1548.19 Q1083.15 1548.5 1081.17 1549.16 L1081.17 1546.03 Q1083.17 1545.48 1084.9 1545.2 Q1086.66 1544.92 1088.2 1544.92 Q1092.19 1544.92 1094.52 1546.75 Q1096.85 1548.55 1096.85 1551.64 Q1096.85 1553.79 1095.61 1555.29 Q1094.38 1556.76 1092.11 1557.34 Z\" fill=\"#000000\" fill-rule=\"evenodd\" fill-opacity=\"1\" /><polyline clip-path=\"url(#clip182)\" style=\"stroke:#000000; stroke-width:2; stroke-opacity:0.1; fill:none\" points=\"\n",
       "  86.9921,1479.05 1152.76,1479.05 \n",
       "  \"/>\n",
       "<polyline clip-path=\"url(#clip182)\" style=\"stroke:#000000; stroke-width:2; stroke-opacity:0.1; fill:none\" points=\"\n",
       "  86.9921,1164.62 1152.76,1164.62 \n",
       "  \"/>\n",
       "<polyline clip-path=\"url(#clip182)\" style=\"stroke:#000000; stroke-width:2; stroke-opacity:0.1; fill:none\" points=\"\n",
       "  86.9921,850.196 1152.76,850.196 \n",
       "  \"/>\n",
       "<polyline clip-path=\"url(#clip182)\" style=\"stroke:#000000; stroke-width:2; stroke-opacity:0.1; fill:none\" points=\"\n",
       "  86.9921,535.771 1152.76,535.771 \n",
       "  \"/>\n",
       "<polyline clip-path=\"url(#clip182)\" style=\"stroke:#000000; stroke-width:2; stroke-opacity:0.1; fill:none\" points=\"\n",
       "  86.9921,221.346 1152.76,221.346 \n",
       "  \"/>\n",
       "<polyline clip-path=\"url(#clip180)\" style=\"stroke:#000000; stroke-width:4; stroke-opacity:1; fill:none\" points=\"\n",
       "  86.9921,1521.01 86.9921,62.9921 \n",
       "  \"/>\n",
       "<polyline clip-path=\"url(#clip180)\" style=\"stroke:#000000; stroke-width:4; stroke-opacity:1; fill:none\" points=\"\n",
       "  86.9921,1479.05 99.7813,1479.05 \n",
       "  \"/>\n",
       "<polyline clip-path=\"url(#clip180)\" style=\"stroke:#000000; stroke-width:4; stroke-opacity:1; fill:none\" points=\"\n",
       "  86.9921,1164.62 99.7813,1164.62 \n",
       "  \"/>\n",
       "<polyline clip-path=\"url(#clip180)\" style=\"stroke:#000000; stroke-width:4; stroke-opacity:1; fill:none\" points=\"\n",
       "  86.9921,850.196 99.7813,850.196 \n",
       "  \"/>\n",
       "<polyline clip-path=\"url(#clip180)\" style=\"stroke:#000000; stroke-width:4; stroke-opacity:1; fill:none\" points=\"\n",
       "  86.9921,535.771 99.7813,535.771 \n",
       "  \"/>\n",
       "<polyline clip-path=\"url(#clip180)\" style=\"stroke:#000000; stroke-width:4; stroke-opacity:1; fill:none\" points=\"\n",
       "  86.9921,221.346 99.7813,221.346 \n",
       "  \"/>\n",
       "<path clip-path=\"url(#clip180)\" d=\"M 0 0 M-41.4379 1479.5 L-11.7622 1479.5 L-11.7622 1483.43 L-41.4379 1483.43 L-41.4379 1479.5 Z\" fill=\"#000000\" fill-rule=\"evenodd\" fill-opacity=\"1\" /><path clip-path=\"url(#clip180)\" d=\"M 0 0 M-5.88257 1492.39 L1.75628 1492.39 L1.75628 1466.03 L-6.55386 1467.69 L-6.55386 1463.43 L1.70998 1461.77 L6.38588 1461.77 L6.38588 1492.39 L14.0247 1492.39 L14.0247 1496.33 L-5.88257 1496.33 L-5.88257 1492.39 Z\" fill=\"#000000\" fill-rule=\"evenodd\" fill-opacity=\"1\" /><path clip-path=\"url(#clip180)\" d=\"M 0 0 M19.0941 1490.45 L23.9784 1490.45 L23.9784 1496.33 L19.0941 1496.33 L19.0941 1490.45 Z\" fill=\"#000000\" fill-rule=\"evenodd\" fill-opacity=\"1\" /><path clip-path=\"url(#clip180)\" d=\"M 0 0 M39.0477 1464.85 Q35.4367 1464.85 33.608 1468.41 Q31.8024 1471.95 31.8024 1479.08 Q31.8024 1486.19 33.608 1489.75 Q35.4367 1493.29 39.0477 1493.29 Q42.682 1493.29 44.4875 1489.75 Q46.3162 1486.19 46.3162 1479.08 Q46.3162 1471.95 44.4875 1468.41 Q42.682 1464.85 39.0477 1464.85 M39.0477 1461.14 Q44.8579 1461.14 47.9134 1465.75 Q50.9921 1470.33 50.9921 1479.08 Q50.9921 1487.81 47.9134 1492.41 Q44.8579 1497 39.0477 1497 Q33.2376 1497 30.1589 1492.41 Q27.1034 1487.81 27.1034 1479.08 Q27.1034 1470.33 30.1589 1465.75 Q33.2376 1461.14 39.0477 1461.14 Z\" fill=\"#000000\" fill-rule=\"evenodd\" fill-opacity=\"1\" /><path clip-path=\"url(#clip180)\" d=\"M 0 0 M-41.6694 1165.07 L-11.9936 1165.07 L-11.9936 1169.01 L-41.6694 1169.01 L-41.6694 1165.07 Z\" fill=\"#000000\" fill-rule=\"evenodd\" fill-opacity=\"1\" /><path clip-path=\"url(#clip180)\" d=\"M 0 0 M3.07572 1150.42 Q-0.535376 1150.42 -2.36407 1153.98 Q-4.16962 1157.53 -4.16962 1164.66 Q-4.16962 1171.76 -2.36407 1175.33 Q-0.535376 1178.87 3.07572 1178.87 Q6.70996 1178.87 8.5155 1175.33 Q10.3442 1171.76 10.3442 1164.66 Q10.3442 1157.53 8.5155 1153.98 Q6.70996 1150.42 3.07572 1150.42 M3.07572 1146.72 Q8.88587 1146.72 11.9414 1151.32 Q15.0201 1155.91 15.0201 1164.66 Q15.0201 1173.38 11.9414 1177.99 Q8.88587 1182.57 3.07572 1182.57 Q-2.73444 1182.57 -5.81313 1177.99 Q-8.86866 1173.38 -8.86866 1164.66 Q-8.86866 1155.91 -5.81313 1151.32 Q-2.73444 1146.72 3.07572 1146.72 Z\" fill=\"#000000\" fill-rule=\"evenodd\" fill-opacity=\"1\" /><path clip-path=\"url(#clip180)\" d=\"M 0 0 M20.0895 1176.02 L24.9737 1176.02 L24.9737 1181.9 L20.0895 1181.9 L20.0895 1176.02 Z\" fill=\"#000000\" fill-rule=\"evenodd\" fill-opacity=\"1\" /><path clip-path=\"url(#clip180)\" d=\"M 0 0 M30.0895 1147.34 L48.4458 1147.34 L48.4458 1151.28 L34.3718 1151.28 L34.3718 1159.75 Q35.3904 1159.4 36.4089 1159.24 Q37.4274 1159.05 38.4459 1159.05 Q44.2329 1159.05 47.6125 1162.23 Q50.9921 1165.4 50.9921 1170.81 Q50.9921 1176.39 47.5199 1179.49 Q44.0477 1182.57 37.7283 1182.57 Q35.5524 1182.57 33.2839 1182.2 Q31.0385 1181.83 28.6311 1181.09 L28.6311 1176.39 Q30.7145 1177.53 32.9367 1178.08 Q35.1589 1178.64 37.6357 1178.64 Q41.6403 1178.64 43.9783 1176.53 Q46.3162 1174.42 46.3162 1170.81 Q46.3162 1167.2 43.9783 1165.1 Q41.6403 1162.99 37.6357 1162.99 Q35.7607 1162.99 33.8857 1163.41 Q32.0339 1163.82 30.0895 1164.7 L30.0895 1147.34 Z\" fill=\"#000000\" fill-rule=\"evenodd\" fill-opacity=\"1\" /><path clip-path=\"url(#clip180)\" d=\"M 0 0 M2.08035 835.995 Q-1.53074 835.995 -3.35943 839.56 Q-5.16498 843.101 -5.16498 850.231 Q-5.16498 857.337 -3.35943 860.902 Q-1.53074 864.444 2.08035 864.444 Q5.71459 864.444 7.52014 860.902 Q9.34883 857.337 9.34883 850.231 Q9.34883 843.101 7.52014 839.56 Q5.71459 835.995 2.08035 835.995 M2.08035 832.291 Q7.89051 832.291 10.946 836.898 Q14.0247 841.481 14.0247 850.231 Q14.0247 858.958 10.946 863.564 Q7.89051 868.147 2.08035 868.147 Q-3.7298 868.147 -6.80849 863.564 Q-9.86403 858.958 -9.86403 850.231 Q-9.86403 841.481 -6.80849 836.898 Q-3.7298 832.291 2.08035 832.291 Z\" fill=\"#000000\" fill-rule=\"evenodd\" fill-opacity=\"1\" /><path clip-path=\"url(#clip180)\" d=\"M 0 0 M19.0941 861.597 L23.9784 861.597 L23.9784 867.476 L19.0941 867.476 L19.0941 861.597 Z\" fill=\"#000000\" fill-rule=\"evenodd\" fill-opacity=\"1\" /><path clip-path=\"url(#clip180)\" d=\"M 0 0 M39.0477 835.995 Q35.4367 835.995 33.608 839.56 Q31.8024 843.101 31.8024 850.231 Q31.8024 857.337 33.608 860.902 Q35.4367 864.444 39.0477 864.444 Q42.682 864.444 44.4875 860.902 Q46.3162 857.337 46.3162 850.231 Q46.3162 843.101 44.4875 839.56 Q42.682 835.995 39.0477 835.995 M39.0477 832.291 Q44.8579 832.291 47.9134 836.898 Q50.9921 841.481 50.9921 850.231 Q50.9921 858.958 47.9134 863.564 Q44.8579 868.147 39.0477 868.147 Q33.2376 868.147 30.1589 863.564 Q27.1034 858.958 27.1034 850.231 Q27.1034 841.481 30.1589 836.898 Q33.2376 832.291 39.0477 832.291 Z\" fill=\"#000000\" fill-rule=\"evenodd\" fill-opacity=\"1\" /><path clip-path=\"url(#clip180)\" d=\"M 0 0 M3.07572 521.57 Q-0.535376 521.57 -2.36407 525.134 Q-4.16962 528.676 -4.16962 535.806 Q-4.16962 542.912 -2.36407 546.477 Q-0.535376 550.018 3.07572 550.018 Q6.70996 550.018 8.5155 546.477 Q10.3442 542.912 10.3442 535.806 Q10.3442 528.676 8.5155 525.134 Q6.70996 521.57 3.07572 521.57 M3.07572 517.866 Q8.88587 517.866 11.9414 522.472 Q15.0201 527.056 15.0201 535.806 Q15.0201 544.532 11.9414 549.139 Q8.88587 553.722 3.07572 553.722 Q-2.73444 553.722 -5.81313 549.139 Q-8.86866 544.532 -8.86866 535.806 Q-8.86866 527.056 -5.81313 522.472 Q-2.73444 517.866 3.07572 517.866 Z\" fill=\"#000000\" fill-rule=\"evenodd\" fill-opacity=\"1\" /><path clip-path=\"url(#clip180)\" d=\"M 0 0 M20.0895 547.171 L24.9737 547.171 L24.9737 553.051 L20.0895 553.051 L20.0895 547.171 Z\" fill=\"#000000\" fill-rule=\"evenodd\" fill-opacity=\"1\" /><path clip-path=\"url(#clip180)\" d=\"M 0 0 M30.0895 518.491 L48.4458 518.491 L48.4458 522.426 L34.3718 522.426 L34.3718 530.898 Q35.3904 530.551 36.4089 530.389 Q37.4274 530.204 38.4459 530.204 Q44.2329 530.204 47.6125 533.375 Q50.9921 536.546 50.9921 541.963 Q50.9921 547.542 47.5199 550.643 Q44.0477 553.722 37.7283 553.722 Q35.5524 553.722 33.2839 553.352 Q31.0385 552.981 28.6311 552.241 L28.6311 547.542 Q30.7145 548.676 32.9367 549.231 Q35.1589 549.787 37.6357 549.787 Q41.6403 549.787 43.9783 547.68 Q46.3162 545.574 46.3162 541.963 Q46.3162 538.352 43.9783 536.245 Q41.6403 534.139 37.6357 534.139 Q35.7607 534.139 33.8857 534.556 Q32.0339 534.972 30.0895 535.852 L30.0895 518.491 Z\" fill=\"#000000\" fill-rule=\"evenodd\" fill-opacity=\"1\" /><path clip-path=\"url(#clip180)\" d=\"M 0 0 M-5.88257 234.69 L1.75628 234.69 L1.75628 208.325 L-6.55386 209.991 L-6.55386 205.732 L1.70998 204.066 L6.38588 204.066 L6.38588 234.69 L14.0247 234.69 L14.0247 238.626 L-5.88257 238.626 L-5.88257 234.69 Z\" fill=\"#000000\" fill-rule=\"evenodd\" fill-opacity=\"1\" /><path clip-path=\"url(#clip180)\" d=\"M 0 0 M19.0941 232.746 L23.9784 232.746 L23.9784 238.626 L19.0941 238.626 L19.0941 232.746 Z\" fill=\"#000000\" fill-rule=\"evenodd\" fill-opacity=\"1\" /><path clip-path=\"url(#clip180)\" d=\"M 0 0 M39.0477 207.144 Q35.4367 207.144 33.608 210.709 Q31.8024 214.251 31.8024 221.38 Q31.8024 228.487 33.608 232.051 Q35.4367 235.593 39.0477 235.593 Q42.682 235.593 44.4875 232.051 Q46.3162 228.487 46.3162 221.38 Q46.3162 214.251 44.4875 210.709 Q42.682 207.144 39.0477 207.144 M39.0477 203.441 Q44.8579 203.441 47.9134 208.047 Q50.9921 212.63 50.9921 221.38 Q50.9921 230.107 47.9134 234.713 Q44.8579 239.297 39.0477 239.297 Q33.2376 239.297 30.1589 234.713 Q27.1034 230.107 27.1034 221.38 Q27.1034 212.63 30.1589 208.047 Q33.2376 203.441 39.0477 203.441 Z\" fill=\"#000000\" fill-rule=\"evenodd\" fill-opacity=\"1\" /><path clip-path=\"url(#clip180)\" d=\"M 0 0 M410.581 6.912 L430.442 6.912 L430.442 10.8472 L415.257 10.8472 L415.257 21.0323 L428.961 21.0323 L428.961 24.9675 L415.257 24.9675 L415.257 41.472 L410.581 41.472 L410.581 6.912 Z\" fill=\"#000000\" fill-rule=\"evenodd\" fill-opacity=\"1\" /><path clip-path=\"url(#clip180)\" d=\"M 0 0 M431.877 31.2406 L431.877 15.5462 L436.137 15.5462 L436.137 31.0785 Q436.137 34.7591 437.572 36.6109 Q439.007 38.4396 441.877 38.4396 Q445.326 38.4396 447.317 36.2405 Q449.331 34.0415 449.331 30.2452 L449.331 15.5462 L453.59 15.5462 L453.59 41.472 L449.331 41.472 L449.331 37.4905 Q447.78 39.8516 445.72 41.009 Q443.683 42.1433 440.975 42.1433 Q436.507 42.1433 434.192 39.3655 Q431.877 36.5878 431.877 31.2406 M442.595 14.9212 L442.595 14.9212 Z\" fill=\"#000000\" fill-rule=\"evenodd\" fill-opacity=\"1\" /><path clip-path=\"url(#clip180)\" d=\"M 0 0 M456.206 15.5462 L476.437 15.5462 L476.437 19.4351 L460.419 38.0692 L476.437 38.0692 L476.437 41.472 L455.627 41.472 L455.627 37.5831 L471.646 18.949 L456.206 18.949 L456.206 15.5462 Z\" fill=\"#000000\" fill-rule=\"evenodd\" fill-opacity=\"1\" /><path clip-path=\"url(#clip180)\" d=\"M 0 0 M479.053 15.5462 L499.284 15.5462 L499.284 19.4351 L483.266 38.0692 L499.284 38.0692 L499.284 41.472 L478.474 41.472 L478.474 37.5831 L494.493 18.949 L479.053 18.949 L479.053 15.5462 Z\" fill=\"#000000\" fill-rule=\"evenodd\" fill-opacity=\"1\" /><path clip-path=\"url(#clip180)\" d=\"M 0 0 M514.539 43.8794 Q512.733 48.509 511.02 49.921 Q509.307 51.3331 506.437 51.3331 L503.034 51.3331 L503.034 47.7683 L505.534 47.7683 Q507.294 47.7683 508.266 46.9349 Q509.238 46.1016 510.419 42.9998 L511.182 41.0553 L500.696 15.5462 L505.21 15.5462 L513.312 35.8239 L521.414 15.5462 L525.928 15.5462 L514.539 43.8794 Z\" fill=\"#000000\" fill-rule=\"evenodd\" fill-opacity=\"1\" /><path clip-path=\"url(#clip180)\" d=\"M 0 0 M542.131 11.5185 L535.789 28.7174 L548.497 28.7174 L542.131 11.5185 M539.493 6.912 L544.793 6.912 L557.965 41.472 L553.104 41.472 L549.955 32.6063 L534.377 32.6063 L531.229 41.472 L526.298 41.472 L539.493 6.912 Z\" fill=\"#000000\" fill-rule=\"evenodd\" fill-opacity=\"1\" /><path clip-path=\"url(#clip180)\" d=\"M 0 0 M579.006 25.2684 Q580.511 25.7776 581.923 27.4443 Q583.358 29.111 584.793 32.0276 L589.539 41.472 L584.515 41.472 L580.094 32.6063 Q578.381 29.1341 576.761 27.9998 Q575.164 26.8656 572.386 26.8656 L567.293 26.8656 L567.293 41.472 L562.617 41.472 L562.617 6.912 L573.173 6.912 Q579.099 6.912 582.015 9.38884 Q584.932 11.8657 584.932 16.8657 Q584.932 20.1295 583.404 22.2823 Q581.9 24.4351 579.006 25.2684 M567.293 10.7546 L567.293 23.023 L573.173 23.023 Q576.552 23.023 578.265 21.4721 Q580.002 19.898 580.002 16.8657 Q580.002 13.8333 578.265 12.3055 Q576.552 10.7546 573.173 10.7546 L567.293 10.7546 Z\" fill=\"#000000\" fill-rule=\"evenodd\" fill-opacity=\"1\" /><path clip-path=\"url(#clip180)\" d=\"M 0 0 M585.951 6.912 L615.187 6.912 L615.187 10.8472 L602.918 10.8472 L602.918 41.472 L598.219 41.472 L598.219 10.8472 L585.951 10.8472 L585.951 6.912 Z\" fill=\"#000000\" fill-rule=\"evenodd\" fill-opacity=\"1\" /><path clip-path=\"url(#clip180)\" d=\"M 0 0 M649.747 19.5277 Q649.029 19.111 648.172 18.9258 Q647.339 18.7175 646.321 18.7175 Q642.71 18.7175 640.765 21.0786 Q638.844 23.4165 638.844 27.8147 L638.844 41.472 L634.561 41.472 L634.561 15.5462 L638.844 15.5462 L638.844 19.574 Q640.186 17.2129 642.339 16.0786 Q644.492 14.9212 647.571 14.9212 Q648.01 14.9212 648.543 14.9907 Q649.075 15.037 649.723 15.1527 L649.747 19.5277 Z\" fill=\"#000000\" fill-rule=\"evenodd\" fill-opacity=\"1\" /><path clip-path=\"url(#clip180)\" d=\"M 0 0 M674.932 25.8239 L674.932 41.472 L670.672 41.472 L670.672 25.9628 Q670.672 22.2823 669.237 20.4536 Q667.802 18.6249 664.932 18.6249 Q661.483 18.6249 659.492 20.824 Q657.501 23.023 657.501 26.8193 L657.501 41.472 L653.219 41.472 L653.219 5.45367 L657.501 5.45367 L657.501 19.574 Q659.029 17.236 661.089 16.0786 Q663.172 14.9212 665.881 14.9212 Q670.348 14.9212 672.64 17.699 Q674.932 20.4536 674.932 25.8239 Z\" fill=\"#000000\" fill-rule=\"evenodd\" fill-opacity=\"1\" /><path clip-path=\"url(#clip180)\" d=\"M 0 0 M689.445 18.5323 Q686.019 18.5323 684.029 21.2175 Q682.038 23.8795 682.038 28.5323 Q682.038 33.185 684.006 35.8702 Q685.996 38.5322 689.445 38.5322 Q692.848 38.5322 694.839 35.847 Q696.83 33.1619 696.83 28.5323 Q696.83 23.9258 694.839 21.2406 Q692.848 18.5323 689.445 18.5323 M689.445 14.9212 Q695.001 14.9212 698.172 18.5323 Q701.343 22.1434 701.343 28.5323 Q701.343 34.898 698.172 38.5322 Q695.001 42.1433 689.445 42.1433 Q683.867 42.1433 680.695 38.5322 Q677.547 34.898 677.547 28.5323 Q677.547 22.1434 680.695 18.5323 Q683.867 14.9212 689.445 14.9212 Z\" fill=\"#000000\" fill-rule=\"evenodd\" fill-opacity=\"1\" /><path clip-path=\"url(#clip180)\" d=\"M 0 0 M721.436 19.9443 L751.112 19.9443 L751.112 23.8332 L721.436 23.8332 L721.436 19.9443 M721.436 29.3887 L751.112 29.3887 L751.112 33.3239 L721.436 33.3239 L721.436 29.3887 Z\" fill=\"#000000\" fill-rule=\"evenodd\" fill-opacity=\"1\" /><path clip-path=\"url(#clip180)\" d=\"M 0 0 M781.25 9.99069 Q777.639 9.99069 775.811 13.5555 Q774.005 17.0971 774.005 24.2267 Q774.005 31.3332 775.811 34.898 Q777.639 38.4396 781.25 38.4396 Q784.885 38.4396 786.69 34.898 Q788.519 31.3332 788.519 24.2267 Q788.519 17.0971 786.69 13.5555 Q784.885 9.99069 781.25 9.99069 M781.25 6.287 Q787.061 6.287 790.116 10.8935 Q793.195 15.4768 793.195 24.2267 Q793.195 32.9535 790.116 37.56 Q787.061 42.1433 781.25 42.1433 Q775.44 42.1433 772.362 37.56 Q769.306 32.9535 769.306 24.2267 Q769.306 15.4768 772.362 10.8935 Q775.44 6.287 781.25 6.287 Z\" fill=\"#000000\" fill-rule=\"evenodd\" fill-opacity=\"1\" /><path clip-path=\"url(#clip180)\" d=\"M 0 0 M798.264 35.5924 L803.148 35.5924 L803.148 41.472 L798.264 41.472 L798.264 35.5924 Z\" fill=\"#000000\" fill-rule=\"evenodd\" fill-opacity=\"1\" /><path clip-path=\"url(#clip180)\" d=\"M 0 0 M808.264 6.912 L826.621 6.912 L826.621 10.8472 L812.547 10.8472 L812.547 19.3193 Q813.565 18.9721 814.584 18.8101 Q815.602 18.6249 816.621 18.6249 Q822.408 18.6249 825.787 21.7962 Q829.167 24.9675 829.167 30.3841 Q829.167 35.9628 825.695 39.0646 Q822.222 42.1433 815.903 42.1433 Q813.727 42.1433 811.459 41.7729 Q809.213 41.4026 806.806 40.6618 L806.806 35.9628 Q808.889 37.097 811.111 37.6526 Q813.334 38.2081 815.81 38.2081 Q819.815 38.2081 822.153 36.1017 Q824.491 33.9952 824.491 30.3841 Q824.491 26.773 822.153 24.6665 Q819.815 22.5601 815.81 22.5601 Q813.935 22.5601 812.06 22.9767 Q810.209 23.3934 808.264 24.273 L808.264 6.912 Z\" fill=\"#000000\" fill-rule=\"evenodd\" fill-opacity=\"1\" /><circle clip-path=\"url(#clip182)\" cx=\"1122.59\" cy=\"1166.68\" r=\"14\" fill=\"#009af9\" fill-rule=\"evenodd\" fill-opacity=\"1\" stroke=\"#000000\" stroke-opacity=\"1\" stroke-width=\"3.2\"/>\n",
       "<circle clip-path=\"url(#clip182)\" cx=\"1088.67\" cy=\"1060.43\" r=\"14\" fill=\"#009af9\" fill-rule=\"evenodd\" fill-opacity=\"1\" stroke=\"#000000\" stroke-opacity=\"1\" stroke-width=\"3.2\"/>\n",
       "<circle clip-path=\"url(#clip182)\" cx=\"1020.54\" cy=\"481.513\" r=\"14\" fill=\"#009af9\" fill-rule=\"evenodd\" fill-opacity=\"1\" stroke=\"#000000\" stroke-opacity=\"1\" stroke-width=\"3.2\"/>\n",
       "<circle clip-path=\"url(#clip182)\" cx=\"1041.7\" cy=\"644.809\" r=\"14\" fill=\"#009af9\" fill-rule=\"evenodd\" fill-opacity=\"1\" stroke=\"#000000\" stroke-opacity=\"1\" stroke-width=\"3.2\"/>\n",
       "<circle clip-path=\"url(#clip182)\" cx=\"1034.02\" cy=\"969.725\" r=\"14\" fill=\"#009af9\" fill-rule=\"evenodd\" fill-opacity=\"1\" stroke=\"#000000\" stroke-opacity=\"1\" stroke-width=\"3.2\"/>\n",
       "<circle clip-path=\"url(#clip182)\" cx=\"1066.82\" cy=\"1436.83\" r=\"14\" fill=\"#009af9\" fill-rule=\"evenodd\" fill-opacity=\"1\" stroke=\"#000000\" stroke-opacity=\"1\" stroke-width=\"3.2\"/>\n",
       "<circle clip-path=\"url(#clip182)\" cx=\"1040.15\" cy=\"917.289\" r=\"14\" fill=\"#009af9\" fill-rule=\"evenodd\" fill-opacity=\"1\" stroke=\"#000000\" stroke-opacity=\"1\" stroke-width=\"3.2\"/>\n",
       "<circle clip-path=\"url(#clip182)\" cx=\"1035.62\" cy=\"104.257\" r=\"14\" fill=\"#009af9\" fill-rule=\"evenodd\" fill-opacity=\"1\" stroke=\"#000000\" stroke-opacity=\"1\" stroke-width=\"3.2\"/>\n",
       "<circle clip-path=\"url(#clip182)\" cx=\"1027.39\" cy=\"974.327\" r=\"14\" fill=\"#009af9\" fill-rule=\"evenodd\" fill-opacity=\"1\" stroke=\"#000000\" stroke-opacity=\"1\" stroke-width=\"3.2\"/>\n",
       "<circle clip-path=\"url(#clip182)\" cx=\"1086.21\" cy=\"1152.2\" r=\"14\" fill=\"#009af9\" fill-rule=\"evenodd\" fill-opacity=\"1\" stroke=\"#000000\" stroke-opacity=\"1\" stroke-width=\"3.2\"/>\n",
       "<circle clip-path=\"url(#clip182)\" cx=\"1057.14\" cy=\"993.411\" r=\"14\" fill=\"#009af9\" fill-rule=\"evenodd\" fill-opacity=\"1\" stroke=\"#000000\" stroke-opacity=\"1\" stroke-width=\"3.2\"/>\n",
       "<circle clip-path=\"url(#clip182)\" cx=\"1046.41\" cy=\"1002.81\" r=\"14\" fill=\"#009af9\" fill-rule=\"evenodd\" fill-opacity=\"1\" stroke=\"#000000\" stroke-opacity=\"1\" stroke-width=\"3.2\"/>\n",
       "<circle clip-path=\"url(#clip182)\" cx=\"1000.03\" cy=\"726.993\" r=\"14\" fill=\"#009af9\" fill-rule=\"evenodd\" fill-opacity=\"1\" stroke=\"#000000\" stroke-opacity=\"1\" stroke-width=\"3.2\"/>\n",
       "<circle clip-path=\"url(#clip182)\" cx=\"992.656\" cy=\"869.822\" r=\"14\" fill=\"#009af9\" fill-rule=\"evenodd\" fill-opacity=\"1\" stroke=\"#000000\" stroke-opacity=\"1\" stroke-width=\"3.2\"/>\n",
       "<circle clip-path=\"url(#clip182)\" cx=\"1027.22\" cy=\"522.896\" r=\"14\" fill=\"#009af9\" fill-rule=\"evenodd\" fill-opacity=\"1\" stroke=\"#000000\" stroke-opacity=\"1\" stroke-width=\"3.2\"/>\n",
       "<circle clip-path=\"url(#clip182)\" cx=\"641.887\" cy=\"1303.33\" r=\"14\" fill=\"#e26f46\" fill-rule=\"evenodd\" fill-opacity=\"1\" stroke=\"#000000\" stroke-opacity=\"1\" stroke-width=\"3.2\"/>\n",
       "<circle clip-path=\"url(#clip182)\" cx=\"587.017\" cy=\"892.218\" r=\"14\" fill=\"#e26f46\" fill-rule=\"evenodd\" fill-opacity=\"1\" stroke=\"#000000\" stroke-opacity=\"1\" stroke-width=\"3.2\"/>\n",
       "<circle clip-path=\"url(#clip182)\" cx=\"776.196\" cy=\"1322.82\" r=\"14\" fill=\"#e26f46\" fill-rule=\"evenodd\" fill-opacity=\"1\" stroke=\"#000000\" stroke-opacity=\"1\" stroke-width=\"3.2\"/>\n",
       "<circle clip-path=\"url(#clip182)\" cx=\"484.37\" cy=\"706.216\" r=\"14\" fill=\"#e26f46\" fill-rule=\"evenodd\" fill-opacity=\"1\" stroke=\"#000000\" stroke-opacity=\"1\" stroke-width=\"3.2\"/>\n",
       "<circle clip-path=\"url(#clip182)\" cx=\"518.824\" cy=\"1083.3\" r=\"14\" fill=\"#e26f46\" fill-rule=\"evenodd\" fill-opacity=\"1\" stroke=\"#000000\" stroke-opacity=\"1\" stroke-width=\"3.2\"/>\n",
       "<circle clip-path=\"url(#clip182)\" cx=\"752.722\" cy=\"1479.74\" r=\"14\" fill=\"#e26f46\" fill-rule=\"evenodd\" fill-opacity=\"1\" stroke=\"#000000\" stroke-opacity=\"1\" stroke-width=\"3.2\"/>\n",
       "<circle clip-path=\"url(#clip182)\" cx=\"571.131\" cy=\"1271.23\" r=\"14\" fill=\"#e26f46\" fill-rule=\"evenodd\" fill-opacity=\"1\" stroke=\"#000000\" stroke-opacity=\"1\" stroke-width=\"3.2\"/>\n",
       "<circle clip-path=\"url(#clip182)\" cx=\"603.702\" cy=\"1017.93\" r=\"14\" fill=\"#e26f46\" fill-rule=\"evenodd\" fill-opacity=\"1\" stroke=\"#000000\" stroke-opacity=\"1\" stroke-width=\"3.2\"/>\n",
       "<circle clip-path=\"url(#clip182)\" cx=\"518.885\" cy=\"952.278\" r=\"14\" fill=\"#e26f46\" fill-rule=\"evenodd\" fill-opacity=\"1\" stroke=\"#000000\" stroke-opacity=\"1\" stroke-width=\"3.2\"/>\n",
       "<circle clip-path=\"url(#clip182)\" cx=\"533.605\" cy=\"755.63\" r=\"14\" fill=\"#e26f46\" fill-rule=\"evenodd\" fill-opacity=\"1\" stroke=\"#000000\" stroke-opacity=\"1\" stroke-width=\"3.2\"/>\n",
       "<circle clip-path=\"url(#clip182)\" cx=\"615.765\" cy=\"1277.6\" r=\"14\" fill=\"#e26f46\" fill-rule=\"evenodd\" fill-opacity=\"1\" stroke=\"#000000\" stroke-opacity=\"1\" stroke-width=\"3.2\"/>\n",
       "<circle clip-path=\"url(#clip182)\" cx=\"317.59\" cy=\"987.49\" r=\"14\" fill=\"#3da44d\" fill-rule=\"evenodd\" fill-opacity=\"1\" stroke=\"#000000\" stroke-opacity=\"1\" stroke-width=\"3.2\"/>\n",
       "<circle clip-path=\"url(#clip182)\" cx=\"439.32\" cy=\"1338.45\" r=\"14\" fill=\"#3da44d\" fill-rule=\"evenodd\" fill-opacity=\"1\" stroke=\"#000000\" stroke-opacity=\"1\" stroke-width=\"3.2\"/>\n",
       "<circle clip-path=\"url(#clip182)\" cx=\"201.972\" cy=\"628.604\" r=\"14\" fill=\"#3da44d\" fill-rule=\"evenodd\" fill-opacity=\"1\" stroke=\"#000000\" stroke-opacity=\"1\" stroke-width=\"3.2\"/>\n",
       "<circle clip-path=\"url(#clip182)\" cx=\"370.878\" cy=\"986.125\" r=\"14\" fill=\"#3da44d\" fill-rule=\"evenodd\" fill-opacity=\"1\" stroke=\"#000000\" stroke-opacity=\"1\" stroke-width=\"3.2\"/>\n",
       "<circle clip-path=\"url(#clip182)\" cx=\"249.491\" cy=\"499.067\" r=\"14\" fill=\"#3da44d\" fill-rule=\"evenodd\" fill-opacity=\"1\" stroke=\"#000000\" stroke-opacity=\"1\" stroke-width=\"3.2\"/>\n",
       "<circle clip-path=\"url(#clip182)\" cx=\"118.725\" cy=\"113.47\" r=\"14\" fill=\"#3da44d\" fill-rule=\"evenodd\" fill-opacity=\"1\" stroke=\"#000000\" stroke-opacity=\"1\" stroke-width=\"3.2\"/>\n",
       "<circle clip-path=\"url(#clip182)\" cx=\"319.646\" cy=\"762.845\" r=\"14\" fill=\"#3da44d\" fill-rule=\"evenodd\" fill-opacity=\"1\" stroke=\"#000000\" stroke-opacity=\"1\" stroke-width=\"3.2\"/>\n",
       "<circle clip-path=\"url(#clip182)\" cx=\"391.872\" cy=\"697.99\" r=\"14\" fill=\"#3da44d\" fill-rule=\"evenodd\" fill-opacity=\"1\" stroke=\"#000000\" stroke-opacity=\"1\" stroke-width=\"3.2\"/>\n",
       "<circle clip-path=\"url(#clip182)\" cx=\"448.261\" cy=\"419.157\" r=\"14\" fill=\"#3da44d\" fill-rule=\"evenodd\" fill-opacity=\"1\" stroke=\"#000000\" stroke-opacity=\"1\" stroke-width=\"3.2\"/>\n",
       "<circle clip-path=\"url(#clip182)\" cx=\"457.885\" cy=\"593.603\" r=\"14\" fill=\"#3da44d\" fill-rule=\"evenodd\" fill-opacity=\"1\" stroke=\"#000000\" stroke-opacity=\"1\" stroke-width=\"3.2\"/>\n",
       "<circle clip-path=\"url(#clip182)\" cx=\"428.932\" cy=\"1211.74\" r=\"14\" fill=\"#3da44d\" fill-rule=\"evenodd\" fill-opacity=\"1\" stroke=\"#000000\" stroke-opacity=\"1\" stroke-width=\"3.2\"/>\n",
       "<circle clip-path=\"url(#clip182)\" cx=\"180.364\" cy=\"418.953\" r=\"14\" fill=\"#3da44d\" fill-rule=\"evenodd\" fill-opacity=\"1\" stroke=\"#000000\" stroke-opacity=\"1\" stroke-width=\"3.2\"/>\n",
       "<circle clip-path=\"url(#clip182)\" cx=\"432.581\" cy=\"1028.09\" r=\"14\" fill=\"#3da44d\" fill-rule=\"evenodd\" fill-opacity=\"1\" stroke=\"#000000\" stroke-opacity=\"1\" stroke-width=\"3.2\"/>\n",
       "<circle clip-path=\"url(#clip182)\" cx=\"293.527\" cy=\"1004.61\" r=\"14\" fill=\"#3da44d\" fill-rule=\"evenodd\" fill-opacity=\"1\" stroke=\"#000000\" stroke-opacity=\"1\" stroke-width=\"3.2\"/>\n",
       "<circle clip-path=\"url(#clip182)\" cx=\"117.155\" cy=\"562.954\" r=\"14\" fill=\"#3da44d\" fill-rule=\"evenodd\" fill-opacity=\"1\" stroke=\"#000000\" stroke-opacity=\"1\" stroke-width=\"3.2\"/>\n",
       "<circle clip-path=\"url(#clip182)\" cx=\"446.516\" cy=\"1056.18\" r=\"14\" fill=\"#3da44d\" fill-rule=\"evenodd\" fill-opacity=\"1\" stroke=\"#000000\" stroke-opacity=\"1\" stroke-width=\"3.2\"/>\n",
       "<circle clip-path=\"url(#clip182)\" cx=\"476.606\" cy=\"671.671\" r=\"14\" fill=\"#3da44d\" fill-rule=\"evenodd\" fill-opacity=\"1\" stroke=\"#000000\" stroke-opacity=\"1\" stroke-width=\"3.2\"/>\n",
       "<circle clip-path=\"url(#clip182)\" cx=\"355.549\" cy=\"819.981\" r=\"14\" fill=\"#3da44d\" fill-rule=\"evenodd\" fill-opacity=\"1\" stroke=\"#000000\" stroke-opacity=\"1\" stroke-width=\"3.2\"/>\n",
       "<circle clip-path=\"url(#clip182)\" cx=\"289.029\" cy=\"876.534\" r=\"14\" fill=\"#3da44d\" fill-rule=\"evenodd\" fill-opacity=\"1\" stroke=\"#000000\" stroke-opacity=\"1\" stroke-width=\"3.2\"/>\n",
       "<path clip-path=\"url(#clip180)\" d=\"\n",
       "M1286.99 1521.01 L2352.76 1521.01 L2352.76 62.9921 L1286.99 62.9921  Z\n",
       "  \" fill=\"#ffffff\" fill-rule=\"evenodd\" fill-opacity=\"1\"/>\n",
       "<defs>\n",
       "  <clipPath id=\"clip183\">\n",
       "    <rect x=\"1286\" y=\"62\" width=\"1067\" height=\"1459\"/>\n",
       "  </clipPath>\n",
       "</defs>\n",
       "<polyline clip-path=\"url(#clip183)\" style=\"stroke:#000000; stroke-width:2; stroke-opacity:0.1; fill:none\" points=\"\n",
       "  1391.81,1521.01 1391.81,62.9921 \n",
       "  \"/>\n",
       "<polyline clip-path=\"url(#clip183)\" style=\"stroke:#000000; stroke-width:2; stroke-opacity:0.1; fill:none\" points=\"\n",
       "  1541.32,1521.01 1541.32,62.9921 \n",
       "  \"/>\n",
       "<polyline clip-path=\"url(#clip183)\" style=\"stroke:#000000; stroke-width:2; stroke-opacity:0.1; fill:none\" points=\"\n",
       "  1690.84,1521.01 1690.84,62.9921 \n",
       "  \"/>\n",
       "<polyline clip-path=\"url(#clip183)\" style=\"stroke:#000000; stroke-width:2; stroke-opacity:0.1; fill:none\" points=\"\n",
       "  1840.36,1521.01 1840.36,62.9921 \n",
       "  \"/>\n",
       "<polyline clip-path=\"url(#clip183)\" style=\"stroke:#000000; stroke-width:2; stroke-opacity:0.1; fill:none\" points=\"\n",
       "  1989.88,1521.01 1989.88,62.9921 \n",
       "  \"/>\n",
       "<polyline clip-path=\"url(#clip183)\" style=\"stroke:#000000; stroke-width:2; stroke-opacity:0.1; fill:none\" points=\"\n",
       "  2139.4,1521.01 2139.4,62.9921 \n",
       "  \"/>\n",
       "<polyline clip-path=\"url(#clip183)\" style=\"stroke:#000000; stroke-width:2; stroke-opacity:0.1; fill:none\" points=\"\n",
       "  2288.92,1521.01 2288.92,62.9921 \n",
       "  \"/>\n",
       "<polyline clip-path=\"url(#clip180)\" style=\"stroke:#000000; stroke-width:4; stroke-opacity:1; fill:none\" points=\"\n",
       "  1286.99,1521.01 2352.76,1521.01 \n",
       "  \"/>\n",
       "<polyline clip-path=\"url(#clip180)\" style=\"stroke:#000000; stroke-width:4; stroke-opacity:1; fill:none\" points=\"\n",
       "  1391.81,1521.01 1391.81,1503.51 \n",
       "  \"/>\n",
       "<polyline clip-path=\"url(#clip180)\" style=\"stroke:#000000; stroke-width:4; stroke-opacity:1; fill:none\" points=\"\n",
       "  1541.32,1521.01 1541.32,1503.51 \n",
       "  \"/>\n",
       "<polyline clip-path=\"url(#clip180)\" style=\"stroke:#000000; stroke-width:4; stroke-opacity:1; fill:none\" points=\"\n",
       "  1690.84,1521.01 1690.84,1503.51 \n",
       "  \"/>\n",
       "<polyline clip-path=\"url(#clip180)\" style=\"stroke:#000000; stroke-width:4; stroke-opacity:1; fill:none\" points=\"\n",
       "  1840.36,1521.01 1840.36,1503.51 \n",
       "  \"/>\n",
       "<polyline clip-path=\"url(#clip180)\" style=\"stroke:#000000; stroke-width:4; stroke-opacity:1; fill:none\" points=\"\n",
       "  1989.88,1521.01 1989.88,1503.51 \n",
       "  \"/>\n",
       "<polyline clip-path=\"url(#clip180)\" style=\"stroke:#000000; stroke-width:4; stroke-opacity:1; fill:none\" points=\"\n",
       "  2139.4,1521.01 2139.4,1503.51 \n",
       "  \"/>\n",
       "<polyline clip-path=\"url(#clip180)\" style=\"stroke:#000000; stroke-width:4; stroke-opacity:1; fill:none\" points=\"\n",
       "  2288.92,1521.01 2288.92,1503.51 \n",
       "  \"/>\n",
       "<path clip-path=\"url(#clip180)\" d=\"M 0 0 M1370.79 1558.69 L1393.05 1558.69 L1393.05 1561.64 L1370.79 1561.64 L1370.79 1558.69 Z\" fill=\"#000000\" fill-rule=\"evenodd\" fill-opacity=\"1\" /><path clip-path=\"url(#clip180)\" d=\"M 0 0 M1407.47 1557.34 Q1409.99 1557.87 1411.4 1559.58 Q1412.82 1561.28 1412.82 1563.78 Q1412.82 1567.61 1410.18 1569.71 Q1407.54 1571.82 1402.68 1571.82 Q1401.05 1571.82 1399.31 1571.49 Q1397.59 1571.17 1395.75 1570.53 L1395.75 1567.15 Q1397.21 1568 1398.95 1568.43 Q1400.69 1568.86 1402.58 1568.86 Q1405.88 1568.86 1407.59 1567.56 Q1409.33 1566.26 1409.33 1563.78 Q1409.33 1561.49 1407.72 1560.2 Q1406.12 1558.9 1403.25 1558.9 L1400.23 1558.9 L1400.23 1556.02 L1403.39 1556.02 Q1405.98 1556.02 1407.35 1554.99 Q1408.72 1553.95 1408.72 1552.01 Q1408.72 1550.01 1407.3 1548.95 Q1405.89 1547.87 1403.25 1547.87 Q1401.81 1547.87 1400.16 1548.19 Q1398.52 1548.5 1396.54 1549.16 L1396.54 1546.03 Q1398.53 1545.48 1400.27 1545.2 Q1402.02 1544.92 1403.57 1544.92 Q1407.56 1544.92 1409.89 1546.75 Q1412.21 1548.55 1412.21 1551.64 Q1412.21 1553.79 1410.98 1555.29 Q1409.75 1556.76 1407.47 1557.34 Z\" fill=\"#000000\" fill-rule=\"evenodd\" fill-opacity=\"1\" /><path clip-path=\"url(#clip180)\" d=\"M 0 0 M1520.66 1558.69 L1542.92 1558.69 L1542.92 1561.64 L1520.66 1561.64 L1520.66 1558.69 Z\" fill=\"#000000\" fill-rule=\"evenodd\" fill-opacity=\"1\" /><path clip-path=\"url(#clip180)\" d=\"M 0 0 M1549.74 1568.36 L1561.98 1568.36 L1561.98 1571.31 L1545.53 1571.31 L1545.53 1568.36 Q1547.52 1566.29 1550.96 1562.82 Q1554.41 1559.33 1555.3 1558.33 Q1556.98 1556.43 1557.64 1555.13 Q1558.32 1553.81 1558.32 1552.54 Q1558.32 1550.48 1556.86 1549.18 Q1555.42 1547.87 1553.1 1547.87 Q1551.45 1547.87 1549.61 1548.45 Q1547.78 1549.02 1545.7 1550.18 L1545.7 1546.64 Q1547.82 1545.79 1549.66 1545.36 Q1551.5 1544.92 1553.03 1544.92 Q1557.05 1544.92 1559.45 1546.94 Q1561.85 1548.95 1561.85 1552.32 Q1561.85 1553.92 1561.24 1555.36 Q1560.65 1556.78 1559.07 1558.73 Q1558.63 1559.23 1556.31 1561.64 Q1553.98 1564.04 1549.74 1568.36 Z\" fill=\"#000000\" fill-rule=\"evenodd\" fill-opacity=\"1\" /><path clip-path=\"url(#clip180)\" d=\"M 0 0 M1670.05 1558.69 L1692.3 1558.69 L1692.3 1561.64 L1670.05 1561.64 L1670.05 1558.69 Z\" fill=\"#000000\" fill-rule=\"evenodd\" fill-opacity=\"1\" /><path clip-path=\"url(#clip180)\" d=\"M 0 0 M1696.71 1568.36 L1702.44 1568.36 L1702.44 1548.59 L1696.21 1549.84 L1696.21 1546.64 L1702.41 1545.39 L1705.91 1545.39 L1705.91 1568.36 L1711.64 1568.36 L1711.64 1571.31 L1696.71 1571.31 L1696.71 1568.36 Z\" fill=\"#000000\" fill-rule=\"evenodd\" fill-opacity=\"1\" /><path clip-path=\"url(#clip180)\" d=\"M 0 0 M1840.36 1547.7 Q1837.65 1547.7 1836.28 1550.37 Q1834.93 1553.03 1834.93 1558.38 Q1834.93 1563.71 1836.28 1566.38 Q1837.65 1569.04 1840.36 1569.04 Q1843.09 1569.04 1844.44 1566.38 Q1845.81 1563.71 1845.81 1558.38 Q1845.81 1553.03 1844.44 1550.37 Q1843.09 1547.7 1840.36 1547.7 M1840.36 1544.92 Q1844.72 1544.92 1847.01 1548.38 Q1849.32 1551.82 1849.32 1558.38 Q1849.32 1564.92 1847.01 1568.38 Q1844.72 1571.82 1840.36 1571.82 Q1836.01 1571.82 1833.7 1568.38 Q1831.4 1564.92 1831.4 1558.38 Q1831.4 1551.82 1833.7 1548.38 Q1836.01 1544.92 1840.36 1544.92 Z\" fill=\"#000000\" fill-rule=\"evenodd\" fill-opacity=\"1\" /><path clip-path=\"url(#clip180)\" d=\"M 0 0 M1982.67 1568.36 L1988.4 1568.36 L1988.4 1548.59 L1982.17 1549.84 L1982.17 1546.64 L1988.36 1545.39 L1991.87 1545.39 L1991.87 1568.36 L1997.6 1568.36 L1997.6 1571.31 L1982.67 1571.31 L1982.67 1568.36 Z\" fill=\"#000000\" fill-rule=\"evenodd\" fill-opacity=\"1\" /><path clip-path=\"url(#clip180)\" d=\"M 0 0 M2135.39 1568.36 L2147.63 1568.36 L2147.63 1571.31 L2131.17 1571.31 L2131.17 1568.36 Q2133.17 1566.29 2136.61 1562.82 Q2140.06 1559.33 2140.95 1558.33 Q2142.63 1556.43 2143.29 1555.13 Q2143.97 1553.81 2143.97 1552.54 Q2143.97 1550.48 2142.51 1549.18 Q2141.07 1547.87 2138.74 1547.87 Q2137.09 1547.87 2135.25 1548.45 Q2133.43 1549.02 2131.35 1550.18 L2131.35 1546.64 Q2133.46 1545.79 2135.3 1545.36 Q2137.14 1544.92 2138.67 1544.92 Q2142.7 1544.92 2145.1 1546.94 Q2147.49 1548.95 2147.49 1552.32 Q2147.49 1553.92 2146.88 1555.36 Q2146.29 1556.78 2144.71 1558.73 Q2144.28 1559.23 2141.95 1561.64 Q2139.63 1564.04 2135.39 1568.36 Z\" fill=\"#000000\" fill-rule=\"evenodd\" fill-opacity=\"1\" /><path clip-path=\"url(#clip180)\" d=\"M 0 0 M2292.11 1557.34 Q2294.62 1557.87 2296.03 1559.58 Q2297.45 1561.28 2297.45 1563.78 Q2297.45 1567.61 2294.82 1569.71 Q2292.18 1571.82 2287.32 1571.82 Q2285.68 1571.82 2283.95 1571.49 Q2282.23 1571.17 2280.39 1570.53 L2280.39 1567.15 Q2281.85 1568 2283.58 1568.43 Q2285.32 1568.86 2287.21 1568.86 Q2290.51 1568.86 2292.23 1567.56 Q2293.96 1566.26 2293.96 1563.78 Q2293.96 1561.49 2292.35 1560.2 Q2290.75 1558.9 2287.89 1558.9 L2284.87 1558.9 L2284.87 1556.02 L2288.03 1556.02 Q2290.61 1556.02 2291.99 1554.99 Q2293.36 1553.95 2293.36 1552.01 Q2293.36 1550.01 2291.93 1548.95 Q2290.53 1547.87 2287.89 1547.87 Q2286.45 1547.87 2284.8 1548.19 Q2283.15 1548.5 2281.17 1549.16 L2281.17 1546.03 Q2283.17 1545.48 2284.9 1545.2 Q2286.66 1544.92 2288.2 1544.92 Q2292.19 1544.92 2294.52 1546.75 Q2296.85 1548.55 2296.85 1551.64 Q2296.85 1553.79 2295.61 1555.29 Q2294.38 1556.76 2292.11 1557.34 Z\" fill=\"#000000\" fill-rule=\"evenodd\" fill-opacity=\"1\" /><polyline clip-path=\"url(#clip183)\" style=\"stroke:#000000; stroke-width:2; stroke-opacity:0.1; fill:none\" points=\"\n",
       "  1286.99,1479.05 2352.76,1479.05 \n",
       "  \"/>\n",
       "<polyline clip-path=\"url(#clip183)\" style=\"stroke:#000000; stroke-width:2; stroke-opacity:0.1; fill:none\" points=\"\n",
       "  1286.99,1164.62 2352.76,1164.62 \n",
       "  \"/>\n",
       "<polyline clip-path=\"url(#clip183)\" style=\"stroke:#000000; stroke-width:2; stroke-opacity:0.1; fill:none\" points=\"\n",
       "  1286.99,850.196 2352.76,850.196 \n",
       "  \"/>\n",
       "<polyline clip-path=\"url(#clip183)\" style=\"stroke:#000000; stroke-width:2; stroke-opacity:0.1; fill:none\" points=\"\n",
       "  1286.99,535.771 2352.76,535.771 \n",
       "  \"/>\n",
       "<polyline clip-path=\"url(#clip183)\" style=\"stroke:#000000; stroke-width:2; stroke-opacity:0.1; fill:none\" points=\"\n",
       "  1286.99,221.346 2352.76,221.346 \n",
       "  \"/>\n",
       "<polyline clip-path=\"url(#clip180)\" style=\"stroke:#000000; stroke-width:4; stroke-opacity:1; fill:none\" points=\"\n",
       "  1286.99,1521.01 1286.99,62.9921 \n",
       "  \"/>\n",
       "<polyline clip-path=\"url(#clip180)\" style=\"stroke:#000000; stroke-width:4; stroke-opacity:1; fill:none\" points=\"\n",
       "  1286.99,1479.05 1299.78,1479.05 \n",
       "  \"/>\n",
       "<polyline clip-path=\"url(#clip180)\" style=\"stroke:#000000; stroke-width:4; stroke-opacity:1; fill:none\" points=\"\n",
       "  1286.99,1164.62 1299.78,1164.62 \n",
       "  \"/>\n",
       "<polyline clip-path=\"url(#clip180)\" style=\"stroke:#000000; stroke-width:4; stroke-opacity:1; fill:none\" points=\"\n",
       "  1286.99,850.196 1299.78,850.196 \n",
       "  \"/>\n",
       "<polyline clip-path=\"url(#clip180)\" style=\"stroke:#000000; stroke-width:4; stroke-opacity:1; fill:none\" points=\"\n",
       "  1286.99,535.771 1299.78,535.771 \n",
       "  \"/>\n",
       "<polyline clip-path=\"url(#clip180)\" style=\"stroke:#000000; stroke-width:4; stroke-opacity:1; fill:none\" points=\"\n",
       "  1286.99,221.346 1299.78,221.346 \n",
       "  \"/>\n",
       "<path clip-path=\"url(#clip180)\" d=\"M 0 0 M1158.56 1479.5 L1188.24 1479.5 L1188.24 1483.43 L1158.56 1483.43 L1158.56 1479.5 Z\" fill=\"#000000\" fill-rule=\"evenodd\" fill-opacity=\"1\" /><path clip-path=\"url(#clip180)\" d=\"M 0 0 M1194.12 1492.39 L1201.76 1492.39 L1201.76 1466.03 L1193.45 1467.69 L1193.45 1463.43 L1201.71 1461.77 L1206.39 1461.77 L1206.39 1492.39 L1214.02 1492.39 L1214.02 1496.33 L1194.12 1496.33 L1194.12 1492.39 Z\" fill=\"#000000\" fill-rule=\"evenodd\" fill-opacity=\"1\" /><path clip-path=\"url(#clip180)\" d=\"M 0 0 M1219.09 1490.45 L1223.98 1490.45 L1223.98 1496.33 L1219.09 1496.33 L1219.09 1490.45 Z\" fill=\"#000000\" fill-rule=\"evenodd\" fill-opacity=\"1\" /><path clip-path=\"url(#clip180)\" d=\"M 0 0 M1239.05 1464.85 Q1235.44 1464.85 1233.61 1468.41 Q1231.8 1471.95 1231.8 1479.08 Q1231.8 1486.19 1233.61 1489.75 Q1235.44 1493.29 1239.05 1493.29 Q1242.68 1493.29 1244.49 1489.75 Q1246.32 1486.19 1246.32 1479.08 Q1246.32 1471.95 1244.49 1468.41 Q1242.68 1464.85 1239.05 1464.85 M1239.05 1461.14 Q1244.86 1461.14 1247.91 1465.75 Q1250.99 1470.33 1250.99 1479.08 Q1250.99 1487.81 1247.91 1492.41 Q1244.86 1497 1239.05 1497 Q1233.24 1497 1230.16 1492.41 Q1227.1 1487.81 1227.1 1479.08 Q1227.1 1470.33 1230.16 1465.75 Q1233.24 1461.14 1239.05 1461.14 Z\" fill=\"#000000\" fill-rule=\"evenodd\" fill-opacity=\"1\" /><path clip-path=\"url(#clip180)\" d=\"M 0 0 M1158.33 1165.07 L1188.01 1165.07 L1188.01 1169.01 L1158.33 1169.01 L1158.33 1165.07 Z\" fill=\"#000000\" fill-rule=\"evenodd\" fill-opacity=\"1\" /><path clip-path=\"url(#clip180)\" d=\"M 0 0 M1203.08 1150.42 Q1199.46 1150.42 1197.64 1153.98 Q1195.83 1157.53 1195.83 1164.66 Q1195.83 1171.76 1197.64 1175.33 Q1199.46 1178.87 1203.08 1178.87 Q1206.71 1178.87 1208.52 1175.33 Q1210.34 1171.76 1210.34 1164.66 Q1210.34 1157.53 1208.52 1153.98 Q1206.71 1150.42 1203.08 1150.42 M1203.08 1146.72 Q1208.89 1146.72 1211.94 1151.32 Q1215.02 1155.91 1215.02 1164.66 Q1215.02 1173.38 1211.94 1177.99 Q1208.89 1182.57 1203.08 1182.57 Q1197.27 1182.57 1194.19 1177.99 Q1191.13 1173.38 1191.13 1164.66 Q1191.13 1155.91 1194.19 1151.32 Q1197.27 1146.72 1203.08 1146.72 Z\" fill=\"#000000\" fill-rule=\"evenodd\" fill-opacity=\"1\" /><path clip-path=\"url(#clip180)\" d=\"M 0 0 M1220.09 1176.02 L1224.97 1176.02 L1224.97 1181.9 L1220.09 1181.9 L1220.09 1176.02 Z\" fill=\"#000000\" fill-rule=\"evenodd\" fill-opacity=\"1\" /><path clip-path=\"url(#clip180)\" d=\"M 0 0 M1230.09 1147.34 L1248.45 1147.34 L1248.45 1151.28 L1234.37 1151.28 L1234.37 1159.75 Q1235.39 1159.4 1236.41 1159.24 Q1237.43 1159.05 1238.45 1159.05 Q1244.23 1159.05 1247.61 1162.23 Q1250.99 1165.4 1250.99 1170.81 Q1250.99 1176.39 1247.52 1179.49 Q1244.05 1182.57 1237.73 1182.57 Q1235.55 1182.57 1233.28 1182.2 Q1231.04 1181.83 1228.63 1181.09 L1228.63 1176.39 Q1230.71 1177.53 1232.94 1178.08 Q1235.16 1178.64 1237.64 1178.64 Q1241.64 1178.64 1243.98 1176.53 Q1246.32 1174.42 1246.32 1170.81 Q1246.32 1167.2 1243.98 1165.1 Q1241.64 1162.99 1237.64 1162.99 Q1235.76 1162.99 1233.89 1163.41 Q1232.03 1163.82 1230.09 1164.7 L1230.09 1147.34 Z\" fill=\"#000000\" fill-rule=\"evenodd\" fill-opacity=\"1\" /><path clip-path=\"url(#clip180)\" d=\"M 0 0 M1202.08 835.995 Q1198.47 835.995 1196.64 839.56 Q1194.84 843.101 1194.84 850.231 Q1194.84 857.337 1196.64 860.902 Q1198.47 864.444 1202.08 864.444 Q1205.71 864.444 1207.52 860.902 Q1209.35 857.337 1209.35 850.231 Q1209.35 843.101 1207.52 839.56 Q1205.71 835.995 1202.08 835.995 M1202.08 832.291 Q1207.89 832.291 1210.95 836.898 Q1214.02 841.481 1214.02 850.231 Q1214.02 858.958 1210.95 863.564 Q1207.89 868.147 1202.08 868.147 Q1196.27 868.147 1193.19 863.564 Q1190.14 858.958 1190.14 850.231 Q1190.14 841.481 1193.19 836.898 Q1196.27 832.291 1202.08 832.291 Z\" fill=\"#000000\" fill-rule=\"evenodd\" fill-opacity=\"1\" /><path clip-path=\"url(#clip180)\" d=\"M 0 0 M1219.09 861.597 L1223.98 861.597 L1223.98 867.476 L1219.09 867.476 L1219.09 861.597 Z\" fill=\"#000000\" fill-rule=\"evenodd\" fill-opacity=\"1\" /><path clip-path=\"url(#clip180)\" d=\"M 0 0 M1239.05 835.995 Q1235.44 835.995 1233.61 839.56 Q1231.8 843.101 1231.8 850.231 Q1231.8 857.337 1233.61 860.902 Q1235.44 864.444 1239.05 864.444 Q1242.68 864.444 1244.49 860.902 Q1246.32 857.337 1246.32 850.231 Q1246.32 843.101 1244.49 839.56 Q1242.68 835.995 1239.05 835.995 M1239.05 832.291 Q1244.86 832.291 1247.91 836.898 Q1250.99 841.481 1250.99 850.231 Q1250.99 858.958 1247.91 863.564 Q1244.86 868.147 1239.05 868.147 Q1233.24 868.147 1230.16 863.564 Q1227.1 858.958 1227.1 850.231 Q1227.1 841.481 1230.16 836.898 Q1233.24 832.291 1239.05 832.291 Z\" fill=\"#000000\" fill-rule=\"evenodd\" fill-opacity=\"1\" /><path clip-path=\"url(#clip180)\" d=\"M 0 0 M1203.08 521.57 Q1199.46 521.57 1197.64 525.134 Q1195.83 528.676 1195.83 535.806 Q1195.83 542.912 1197.64 546.477 Q1199.46 550.018 1203.08 550.018 Q1206.71 550.018 1208.52 546.477 Q1210.34 542.912 1210.34 535.806 Q1210.34 528.676 1208.52 525.134 Q1206.71 521.57 1203.08 521.57 M1203.08 517.866 Q1208.89 517.866 1211.94 522.472 Q1215.02 527.056 1215.02 535.806 Q1215.02 544.532 1211.94 549.139 Q1208.89 553.722 1203.08 553.722 Q1197.27 553.722 1194.19 549.139 Q1191.13 544.532 1191.13 535.806 Q1191.13 527.056 1194.19 522.472 Q1197.27 517.866 1203.08 517.866 Z\" fill=\"#000000\" fill-rule=\"evenodd\" fill-opacity=\"1\" /><path clip-path=\"url(#clip180)\" d=\"M 0 0 M1220.09 547.171 L1224.97 547.171 L1224.97 553.051 L1220.09 553.051 L1220.09 547.171 Z\" fill=\"#000000\" fill-rule=\"evenodd\" fill-opacity=\"1\" /><path clip-path=\"url(#clip180)\" d=\"M 0 0 M1230.09 518.491 L1248.45 518.491 L1248.45 522.426 L1234.37 522.426 L1234.37 530.898 Q1235.39 530.551 1236.41 530.389 Q1237.43 530.204 1238.45 530.204 Q1244.23 530.204 1247.61 533.375 Q1250.99 536.546 1250.99 541.963 Q1250.99 547.542 1247.52 550.643 Q1244.05 553.722 1237.73 553.722 Q1235.55 553.722 1233.28 553.352 Q1231.04 552.981 1228.63 552.241 L1228.63 547.542 Q1230.71 548.676 1232.94 549.231 Q1235.16 549.787 1237.64 549.787 Q1241.64 549.787 1243.98 547.68 Q1246.32 545.574 1246.32 541.963 Q1246.32 538.352 1243.98 536.245 Q1241.64 534.139 1237.64 534.139 Q1235.76 534.139 1233.89 534.556 Q1232.03 534.972 1230.09 535.852 L1230.09 518.491 Z\" fill=\"#000000\" fill-rule=\"evenodd\" fill-opacity=\"1\" /><path clip-path=\"url(#clip180)\" d=\"M 0 0 M1194.12 234.69 L1201.76 234.69 L1201.76 208.325 L1193.45 209.991 L1193.45 205.732 L1201.71 204.066 L1206.39 204.066 L1206.39 234.69 L1214.02 234.69 L1214.02 238.626 L1194.12 238.626 L1194.12 234.69 Z\" fill=\"#000000\" fill-rule=\"evenodd\" fill-opacity=\"1\" /><path clip-path=\"url(#clip180)\" d=\"M 0 0 M1219.09 232.746 L1223.98 232.746 L1223.98 238.626 L1219.09 238.626 L1219.09 232.746 Z\" fill=\"#000000\" fill-rule=\"evenodd\" fill-opacity=\"1\" /><path clip-path=\"url(#clip180)\" d=\"M 0 0 M1239.05 207.144 Q1235.44 207.144 1233.61 210.709 Q1231.8 214.251 1231.8 221.38 Q1231.8 228.487 1233.61 232.051 Q1235.44 235.593 1239.05 235.593 Q1242.68 235.593 1244.49 232.051 Q1246.32 228.487 1246.32 221.38 Q1246.32 214.251 1244.49 210.709 Q1242.68 207.144 1239.05 207.144 M1239.05 203.441 Q1244.86 203.441 1247.91 208.047 Q1250.99 212.63 1250.99 221.38 Q1250.99 230.107 1247.91 234.713 Q1244.86 239.297 1239.05 239.297 Q1233.24 239.297 1230.16 234.713 Q1227.1 230.107 1227.1 221.38 Q1227.1 212.63 1230.16 208.047 Q1233.24 203.441 1239.05 203.441 Z\" fill=\"#000000\" fill-rule=\"evenodd\" fill-opacity=\"1\" /><path clip-path=\"url(#clip180)\" d=\"M 0 0 M1610.53 6.912 L1630.4 6.912 L1630.4 10.8472 L1615.21 10.8472 L1615.21 21.0323 L1628.91 21.0323 L1628.91 24.9675 L1615.21 24.9675 L1615.21 41.472 L1610.53 41.472 L1610.53 6.912 Z\" fill=\"#000000\" fill-rule=\"evenodd\" fill-opacity=\"1\" /><path clip-path=\"url(#clip180)\" d=\"M 0 0 M1631.83 31.2406 L1631.83 15.5462 L1636.09 15.5462 L1636.09 31.0785 Q1636.09 34.7591 1637.53 36.6109 Q1638.96 38.4396 1641.83 38.4396 Q1645.28 38.4396 1647.27 36.2405 Q1649.28 34.0415 1649.28 30.2452 L1649.28 15.5462 L1653.54 15.5462 L1653.54 41.472 L1649.28 41.472 L1649.28 37.4905 Q1647.73 39.8516 1645.67 41.009 Q1643.64 42.1433 1640.93 42.1433 Q1636.46 42.1433 1634.15 39.3655 Q1631.83 36.5878 1631.83 31.2406 M1642.55 14.9212 L1642.55 14.9212 Z\" fill=\"#000000\" fill-rule=\"evenodd\" fill-opacity=\"1\" /><path clip-path=\"url(#clip180)\" d=\"M 0 0 M1656.16 15.5462 L1676.39 15.5462 L1676.39 19.4351 L1660.37 38.0692 L1676.39 38.0692 L1676.39 41.472 L1655.58 41.472 L1655.58 37.5831 L1671.6 18.949 L1656.16 18.949 L1656.16 15.5462 Z\" fill=\"#000000\" fill-rule=\"evenodd\" fill-opacity=\"1\" /><path clip-path=\"url(#clip180)\" d=\"M 0 0 M1679.01 15.5462 L1699.24 15.5462 L1699.24 19.4351 L1683.22 38.0692 L1699.24 38.0692 L1699.24 41.472 L1678.43 41.472 L1678.43 37.5831 L1694.45 18.949 L1679.01 18.949 L1679.01 15.5462 Z\" fill=\"#000000\" fill-rule=\"evenodd\" fill-opacity=\"1\" /><path clip-path=\"url(#clip180)\" d=\"M 0 0 M1714.49 43.8794 Q1712.69 48.509 1710.97 49.921 Q1709.26 51.3331 1706.39 51.3331 L1702.99 51.3331 L1702.99 47.7683 L1705.49 47.7683 Q1707.25 47.7683 1708.22 46.9349 Q1709.19 46.1016 1710.37 42.9998 L1711.14 41.0553 L1700.65 15.5462 L1705.16 15.5462 L1713.27 35.8239 L1721.37 15.5462 L1725.88 15.5462 L1714.49 43.8794 Z\" fill=\"#000000\" fill-rule=\"evenodd\" fill-opacity=\"1\" /><path clip-path=\"url(#clip180)\" d=\"M 0 0 M1742.09 11.5185 L1735.74 28.7174 L1748.45 28.7174 L1742.09 11.5185 M1739.45 6.912 L1744.75 6.912 L1757.92 41.472 L1753.06 41.472 L1749.91 32.6063 L1734.33 32.6063 L1731.18 41.472 L1726.25 41.472 L1739.45 6.912 Z\" fill=\"#000000\" fill-rule=\"evenodd\" fill-opacity=\"1\" /><path clip-path=\"url(#clip180)\" d=\"M 0 0 M1778.96 25.2684 Q1780.46 25.7776 1781.88 27.4443 Q1783.31 29.111 1784.75 32.0276 L1789.49 41.472 L1784.47 41.472 L1780.05 32.6063 Q1778.33 29.1341 1776.71 27.9998 Q1775.12 26.8656 1772.34 26.8656 L1767.25 26.8656 L1767.25 41.472 L1762.57 41.472 L1762.57 6.912 L1773.13 6.912 Q1779.05 6.912 1781.97 9.38884 Q1784.89 11.8657 1784.89 16.8657 Q1784.89 20.1295 1783.36 22.2823 Q1781.85 24.4351 1778.96 25.2684 M1767.25 10.7546 L1767.25 23.023 L1773.13 23.023 Q1776.51 23.023 1778.22 21.4721 Q1779.96 19.898 1779.96 16.8657 Q1779.96 13.8333 1778.22 12.3055 Q1776.51 10.7546 1773.13 10.7546 L1767.25 10.7546 Z\" fill=\"#000000\" fill-rule=\"evenodd\" fill-opacity=\"1\" /><path clip-path=\"url(#clip180)\" d=\"M 0 0 M1785.9 6.912 L1815.14 6.912 L1815.14 10.8472 L1802.87 10.8472 L1802.87 41.472 L1798.17 41.472 L1798.17 10.8472 L1785.9 10.8472 L1785.9 6.912 Z\" fill=\"#000000\" fill-rule=\"evenodd\" fill-opacity=\"1\" /><path clip-path=\"url(#clip180)\" d=\"M 0 0 M1849.7 19.5277 Q1848.98 19.111 1848.13 18.9258 Q1847.29 18.7175 1846.27 18.7175 Q1842.66 18.7175 1840.72 21.0786 Q1838.8 23.4165 1838.8 27.8147 L1838.8 41.472 L1834.52 41.472 L1834.52 15.5462 L1838.8 15.5462 L1838.8 19.574 Q1840.14 17.2129 1842.29 16.0786 Q1844.45 14.9212 1847.52 14.9212 Q1847.96 14.9212 1848.5 14.9907 Q1849.03 15.037 1849.68 15.1527 L1849.7 19.5277 Z\" fill=\"#000000\" fill-rule=\"evenodd\" fill-opacity=\"1\" /><path clip-path=\"url(#clip180)\" d=\"M 0 0 M1874.89 25.8239 L1874.89 41.472 L1870.63 41.472 L1870.63 25.9628 Q1870.63 22.2823 1869.19 20.4536 Q1867.76 18.6249 1864.89 18.6249 Q1861.44 18.6249 1859.45 20.824 Q1857.45 23.023 1857.45 26.8193 L1857.45 41.472 L1853.17 41.472 L1853.17 5.45367 L1857.45 5.45367 L1857.45 19.574 Q1858.98 17.236 1861.04 16.0786 Q1863.13 14.9212 1865.83 14.9212 Q1870.3 14.9212 1872.59 17.699 Q1874.89 20.4536 1874.89 25.8239 Z\" fill=\"#000000\" fill-rule=\"evenodd\" fill-opacity=\"1\" /><path clip-path=\"url(#clip180)\" d=\"M 0 0 M1889.4 18.5323 Q1885.97 18.5323 1883.98 21.2175 Q1881.99 23.8795 1881.99 28.5323 Q1881.99 33.185 1883.96 35.8702 Q1885.95 38.5322 1889.4 38.5322 Q1892.8 38.5322 1894.79 35.847 Q1896.78 33.1619 1896.78 28.5323 Q1896.78 23.9258 1894.79 21.2406 Q1892.8 18.5323 1889.4 18.5323 M1889.4 14.9212 Q1894.95 14.9212 1898.13 18.5323 Q1901.3 22.1434 1901.3 28.5323 Q1901.3 34.898 1898.13 38.5322 Q1894.95 42.1433 1889.4 42.1433 Q1883.82 42.1433 1880.65 38.5322 Q1877.5 34.898 1877.5 28.5323 Q1877.5 22.1434 1880.65 18.5323 Q1883.82 14.9212 1889.4 14.9212 Z\" fill=\"#000000\" fill-rule=\"evenodd\" fill-opacity=\"1\" /><path clip-path=\"url(#clip180)\" d=\"M 0 0 M1921.39 19.9443 L1951.07 19.9443 L1951.07 23.8332 L1921.39 23.8332 L1921.39 19.9443 M1921.39 29.3887 L1951.07 29.3887 L1951.07 33.3239 L1921.39 33.3239 L1921.39 29.3887 Z\" fill=\"#000000\" fill-rule=\"evenodd\" fill-opacity=\"1\" /><path clip-path=\"url(#clip180)\" d=\"M 0 0 M1981.2 9.99069 Q1977.59 9.99069 1975.76 13.5555 Q1973.96 17.0971 1973.96 24.2267 Q1973.96 31.3332 1975.76 34.898 Q1977.59 38.4396 1981.2 38.4396 Q1984.84 38.4396 1986.64 34.898 Q1988.47 31.3332 1988.47 24.2267 Q1988.47 17.0971 1986.64 13.5555 Q1984.84 9.99069 1981.2 9.99069 M1981.2 6.287 Q1987.01 6.287 1990.07 10.8935 Q1993.15 15.4768 1993.15 24.2267 Q1993.15 32.9535 1990.07 37.56 Q1987.01 42.1433 1981.2 42.1433 Q1975.39 42.1433 1972.32 37.56 Q1969.26 32.9535 1969.26 24.2267 Q1969.26 15.4768 1972.32 10.8935 Q1975.39 6.287 1981.2 6.287 Z\" fill=\"#000000\" fill-rule=\"evenodd\" fill-opacity=\"1\" /><path clip-path=\"url(#clip180)\" d=\"M 0 0 M1998.22 35.5924 L2003.1 35.5924 L2003.1 41.472 L1998.22 41.472 L1998.22 35.5924 Z\" fill=\"#000000\" fill-rule=\"evenodd\" fill-opacity=\"1\" /><path clip-path=\"url(#clip180)\" d=\"M 0 0 M2006.99 6.912 L2029.21 6.912 L2029.21 8.90273 L2016.67 41.472 L2011.78 41.472 L2023.59 10.8472 L2006.99 10.8472 L2006.99 6.912 Z\" fill=\"#000000\" fill-rule=\"evenodd\" fill-opacity=\"1\" /><circle clip-path=\"url(#clip183)\" cx=\"2322.59\" cy=\"1166.68\" r=\"14\" fill=\"#009af9\" fill-rule=\"evenodd\" fill-opacity=\"1\" stroke=\"#000000\" stroke-opacity=\"1\" stroke-width=\"3.2\"/>\n",
       "<circle clip-path=\"url(#clip183)\" cx=\"2288.67\" cy=\"1060.43\" r=\"14\" fill=\"#009af9\" fill-rule=\"evenodd\" fill-opacity=\"1\" stroke=\"#000000\" stroke-opacity=\"1\" stroke-width=\"3.2\"/>\n",
       "<circle clip-path=\"url(#clip183)\" cx=\"2220.54\" cy=\"481.513\" r=\"14\" fill=\"#009af9\" fill-rule=\"evenodd\" fill-opacity=\"1\" stroke=\"#000000\" stroke-opacity=\"1\" stroke-width=\"3.2\"/>\n",
       "<circle clip-path=\"url(#clip183)\" cx=\"2241.7\" cy=\"644.809\" r=\"14\" fill=\"#009af9\" fill-rule=\"evenodd\" fill-opacity=\"1\" stroke=\"#000000\" stroke-opacity=\"1\" stroke-width=\"3.2\"/>\n",
       "<circle clip-path=\"url(#clip183)\" cx=\"2234.02\" cy=\"969.725\" r=\"14\" fill=\"#009af9\" fill-rule=\"evenodd\" fill-opacity=\"1\" stroke=\"#000000\" stroke-opacity=\"1\" stroke-width=\"3.2\"/>\n",
       "<circle clip-path=\"url(#clip183)\" cx=\"2266.82\" cy=\"1436.83\" r=\"14\" fill=\"#009af9\" fill-rule=\"evenodd\" fill-opacity=\"1\" stroke=\"#000000\" stroke-opacity=\"1\" stroke-width=\"3.2\"/>\n",
       "<circle clip-path=\"url(#clip183)\" cx=\"2240.15\" cy=\"917.289\" r=\"14\" fill=\"#009af9\" fill-rule=\"evenodd\" fill-opacity=\"1\" stroke=\"#000000\" stroke-opacity=\"1\" stroke-width=\"3.2\"/>\n",
       "<circle clip-path=\"url(#clip183)\" cx=\"2235.62\" cy=\"104.257\" r=\"14\" fill=\"#009af9\" fill-rule=\"evenodd\" fill-opacity=\"1\" stroke=\"#000000\" stroke-opacity=\"1\" stroke-width=\"3.2\"/>\n",
       "<circle clip-path=\"url(#clip183)\" cx=\"2227.39\" cy=\"974.327\" r=\"14\" fill=\"#009af9\" fill-rule=\"evenodd\" fill-opacity=\"1\" stroke=\"#000000\" stroke-opacity=\"1\" stroke-width=\"3.2\"/>\n",
       "<circle clip-path=\"url(#clip183)\" cx=\"2286.21\" cy=\"1152.2\" r=\"14\" fill=\"#009af9\" fill-rule=\"evenodd\" fill-opacity=\"1\" stroke=\"#000000\" stroke-opacity=\"1\" stroke-width=\"3.2\"/>\n",
       "<circle clip-path=\"url(#clip183)\" cx=\"2257.14\" cy=\"993.411\" r=\"14\" fill=\"#009af9\" fill-rule=\"evenodd\" fill-opacity=\"1\" stroke=\"#000000\" stroke-opacity=\"1\" stroke-width=\"3.2\"/>\n",
       "<circle clip-path=\"url(#clip183)\" cx=\"2246.41\" cy=\"1002.81\" r=\"14\" fill=\"#009af9\" fill-rule=\"evenodd\" fill-opacity=\"1\" stroke=\"#000000\" stroke-opacity=\"1\" stroke-width=\"3.2\"/>\n",
       "<circle clip-path=\"url(#clip183)\" cx=\"2200.03\" cy=\"726.993\" r=\"14\" fill=\"#009af9\" fill-rule=\"evenodd\" fill-opacity=\"1\" stroke=\"#000000\" stroke-opacity=\"1\" stroke-width=\"3.2\"/>\n",
       "<circle clip-path=\"url(#clip183)\" cx=\"2192.66\" cy=\"869.822\" r=\"14\" fill=\"#009af9\" fill-rule=\"evenodd\" fill-opacity=\"1\" stroke=\"#000000\" stroke-opacity=\"1\" stroke-width=\"3.2\"/>\n",
       "<circle clip-path=\"url(#clip183)\" cx=\"2227.22\" cy=\"522.896\" r=\"14\" fill=\"#009af9\" fill-rule=\"evenodd\" fill-opacity=\"1\" stroke=\"#000000\" stroke-opacity=\"1\" stroke-width=\"3.2\"/>\n",
       "<circle clip-path=\"url(#clip183)\" cx=\"1570.88\" cy=\"986.125\" r=\"14\" fill=\"#e26f46\" fill-rule=\"evenodd\" fill-opacity=\"1\" stroke=\"#000000\" stroke-opacity=\"1\" stroke-width=\"3.2\"/>\n",
       "<circle clip-path=\"url(#clip183)\" cx=\"1648.26\" cy=\"419.157\" r=\"14\" fill=\"#e26f46\" fill-rule=\"evenodd\" fill-opacity=\"1\" stroke=\"#000000\" stroke-opacity=\"1\" stroke-width=\"3.2\"/>\n",
       "<circle clip-path=\"url(#clip183)\" cx=\"1841.89\" cy=\"1303.33\" r=\"14\" fill=\"#e26f46\" fill-rule=\"evenodd\" fill-opacity=\"1\" stroke=\"#000000\" stroke-opacity=\"1\" stroke-width=\"3.2\"/>\n",
       "<circle clip-path=\"url(#clip183)\" cx=\"1657.89\" cy=\"593.603\" r=\"14\" fill=\"#e26f46\" fill-rule=\"evenodd\" fill-opacity=\"1\" stroke=\"#000000\" stroke-opacity=\"1\" stroke-width=\"3.2\"/>\n",
       "<circle clip-path=\"url(#clip183)\" cx=\"1787.02\" cy=\"892.218\" r=\"14\" fill=\"#e26f46\" fill-rule=\"evenodd\" fill-opacity=\"1\" stroke=\"#000000\" stroke-opacity=\"1\" stroke-width=\"3.2\"/>\n",
       "<circle clip-path=\"url(#clip183)\" cx=\"1976.2\" cy=\"1322.82\" r=\"14\" fill=\"#e26f46\" fill-rule=\"evenodd\" fill-opacity=\"1\" stroke=\"#000000\" stroke-opacity=\"1\" stroke-width=\"3.2\"/>\n",
       "<circle clip-path=\"url(#clip183)\" cx=\"1493.53\" cy=\"1004.61\" r=\"14\" fill=\"#e26f46\" fill-rule=\"evenodd\" fill-opacity=\"1\" stroke=\"#000000\" stroke-opacity=\"1\" stroke-width=\"3.2\"/>\n",
       "<circle clip-path=\"url(#clip183)\" cx=\"1684.37\" cy=\"706.216\" r=\"14\" fill=\"#e26f46\" fill-rule=\"evenodd\" fill-opacity=\"1\" stroke=\"#000000\" stroke-opacity=\"1\" stroke-width=\"3.2\"/>\n",
       "<circle clip-path=\"url(#clip183)\" cx=\"1718.82\" cy=\"1083.3\" r=\"14\" fill=\"#e26f46\" fill-rule=\"evenodd\" fill-opacity=\"1\" stroke=\"#000000\" stroke-opacity=\"1\" stroke-width=\"3.2\"/>\n",
       "<circle clip-path=\"url(#clip183)\" cx=\"1952.72\" cy=\"1479.74\" r=\"14\" fill=\"#e26f46\" fill-rule=\"evenodd\" fill-opacity=\"1\" stroke=\"#000000\" stroke-opacity=\"1\" stroke-width=\"3.2\"/>\n",
       "<circle clip-path=\"url(#clip183)\" cx=\"1771.13\" cy=\"1271.23\" r=\"14\" fill=\"#e26f46\" fill-rule=\"evenodd\" fill-opacity=\"1\" stroke=\"#000000\" stroke-opacity=\"1\" stroke-width=\"3.2\"/>\n",
       "<circle clip-path=\"url(#clip183)\" cx=\"1676.61\" cy=\"671.671\" r=\"14\" fill=\"#e26f46\" fill-rule=\"evenodd\" fill-opacity=\"1\" stroke=\"#000000\" stroke-opacity=\"1\" stroke-width=\"3.2\"/>\n",
       "<circle clip-path=\"url(#clip183)\" cx=\"1803.7\" cy=\"1017.93\" r=\"14\" fill=\"#e26f46\" fill-rule=\"evenodd\" fill-opacity=\"1\" stroke=\"#000000\" stroke-opacity=\"1\" stroke-width=\"3.2\"/>\n",
       "<circle clip-path=\"url(#clip183)\" cx=\"1718.89\" cy=\"952.278\" r=\"14\" fill=\"#e26f46\" fill-rule=\"evenodd\" fill-opacity=\"1\" stroke=\"#000000\" stroke-opacity=\"1\" stroke-width=\"3.2\"/>\n",
       "<circle clip-path=\"url(#clip183)\" cx=\"1733.61\" cy=\"755.63\" r=\"14\" fill=\"#e26f46\" fill-rule=\"evenodd\" fill-opacity=\"1\" stroke=\"#000000\" stroke-opacity=\"1\" stroke-width=\"3.2\"/>\n",
       "<circle clip-path=\"url(#clip183)\" cx=\"1815.77\" cy=\"1277.6\" r=\"14\" fill=\"#e26f46\" fill-rule=\"evenodd\" fill-opacity=\"1\" stroke=\"#000000\" stroke-opacity=\"1\" stroke-width=\"3.2\"/>\n",
       "<circle clip-path=\"url(#clip183)\" cx=\"1517.59\" cy=\"987.49\" r=\"14\" fill=\"#3da44d\" fill-rule=\"evenodd\" fill-opacity=\"1\" stroke=\"#000000\" stroke-opacity=\"1\" stroke-width=\"3.2\"/>\n",
       "<circle clip-path=\"url(#clip183)\" cx=\"1639.32\" cy=\"1338.45\" r=\"14\" fill=\"#3da44d\" fill-rule=\"evenodd\" fill-opacity=\"1\" stroke=\"#000000\" stroke-opacity=\"1\" stroke-width=\"3.2\"/>\n",
       "<circle clip-path=\"url(#clip183)\" cx=\"1401.97\" cy=\"628.604\" r=\"14\" fill=\"#3da44d\" fill-rule=\"evenodd\" fill-opacity=\"1\" stroke=\"#000000\" stroke-opacity=\"1\" stroke-width=\"3.2\"/>\n",
       "<circle clip-path=\"url(#clip183)\" cx=\"1449.49\" cy=\"499.067\" r=\"14\" fill=\"#3da44d\" fill-rule=\"evenodd\" fill-opacity=\"1\" stroke=\"#000000\" stroke-opacity=\"1\" stroke-width=\"3.2\"/>\n",
       "<circle clip-path=\"url(#clip183)\" cx=\"1318.73\" cy=\"113.47\" r=\"14\" fill=\"#3da44d\" fill-rule=\"evenodd\" fill-opacity=\"1\" stroke=\"#000000\" stroke-opacity=\"1\" stroke-width=\"3.2\"/>\n",
       "<circle clip-path=\"url(#clip183)\" cx=\"1519.65\" cy=\"762.845\" r=\"14\" fill=\"#3da44d\" fill-rule=\"evenodd\" fill-opacity=\"1\" stroke=\"#000000\" stroke-opacity=\"1\" stroke-width=\"3.2\"/>\n",
       "<circle clip-path=\"url(#clip183)\" cx=\"1591.87\" cy=\"697.99\" r=\"14\" fill=\"#3da44d\" fill-rule=\"evenodd\" fill-opacity=\"1\" stroke=\"#000000\" stroke-opacity=\"1\" stroke-width=\"3.2\"/>\n",
       "<circle clip-path=\"url(#clip183)\" cx=\"1628.93\" cy=\"1211.74\" r=\"14\" fill=\"#3da44d\" fill-rule=\"evenodd\" fill-opacity=\"1\" stroke=\"#000000\" stroke-opacity=\"1\" stroke-width=\"3.2\"/>\n",
       "<circle clip-path=\"url(#clip183)\" cx=\"1380.36\" cy=\"418.953\" r=\"14\" fill=\"#3da44d\" fill-rule=\"evenodd\" fill-opacity=\"1\" stroke=\"#000000\" stroke-opacity=\"1\" stroke-width=\"3.2\"/>\n",
       "<circle clip-path=\"url(#clip183)\" cx=\"1632.58\" cy=\"1028.09\" r=\"14\" fill=\"#3da44d\" fill-rule=\"evenodd\" fill-opacity=\"1\" stroke=\"#000000\" stroke-opacity=\"1\" stroke-width=\"3.2\"/>\n",
       "<circle clip-path=\"url(#clip183)\" cx=\"1317.16\" cy=\"562.954\" r=\"14\" fill=\"#3da44d\" fill-rule=\"evenodd\" fill-opacity=\"1\" stroke=\"#000000\" stroke-opacity=\"1\" stroke-width=\"3.2\"/>\n",
       "<circle clip-path=\"url(#clip183)\" cx=\"1646.52\" cy=\"1056.18\" r=\"14\" fill=\"#3da44d\" fill-rule=\"evenodd\" fill-opacity=\"1\" stroke=\"#000000\" stroke-opacity=\"1\" stroke-width=\"3.2\"/>\n",
       "<circle clip-path=\"url(#clip183)\" cx=\"1555.55\" cy=\"819.981\" r=\"14\" fill=\"#3da44d\" fill-rule=\"evenodd\" fill-opacity=\"1\" stroke=\"#000000\" stroke-opacity=\"1\" stroke-width=\"3.2\"/>\n",
       "<circle clip-path=\"url(#clip183)\" cx=\"1489.03\" cy=\"876.534\" r=\"14\" fill=\"#3da44d\" fill-rule=\"evenodd\" fill-opacity=\"1\" stroke=\"#000000\" stroke-opacity=\"1\" stroke-width=\"3.2\"/>\n",
       "</svg>\n"
      ],
      "image/svg+xml": [
       "<?xml version=\"1.0\" encoding=\"utf-8\"?>\n",
       "<svg xmlns=\"http://www.w3.org/2000/svg\" xmlns:xlink=\"http://www.w3.org/1999/xlink\" width=\"600\" height=\"400\" viewBox=\"0 0 2400 1600\">\n",
       "<defs>\n",
       "  <clipPath id=\"clip150\">\n",
       "    <rect x=\"0\" y=\"0\" width=\"2400\" height=\"1600\"/>\n",
       "  </clipPath>\n",
       "</defs>\n",
       "<path clip-path=\"url(#clip150)\" d=\"\n",
       "M0 1600 L2400 1600 L2400 0 L0 0  Z\n",
       "  \" fill=\"#ffffff\" fill-rule=\"evenodd\" fill-opacity=\"1\"/>\n",
       "<defs>\n",
       "  <clipPath id=\"clip151\">\n",
       "    <rect x=\"480\" y=\"0\" width=\"1681\" height=\"1600\"/>\n",
       "  </clipPath>\n",
       "</defs>\n",
       "<path clip-path=\"url(#clip150)\" d=\"\n",
       "M86.9921 1521.01 L1152.76 1521.01 L1152.76 62.9921 L86.9921 62.9921  Z\n",
       "  \" fill=\"#ffffff\" fill-rule=\"evenodd\" fill-opacity=\"1\"/>\n",
       "<defs>\n",
       "  <clipPath id=\"clip152\">\n",
       "    <rect x=\"86\" y=\"62\" width=\"1067\" height=\"1459\"/>\n",
       "  </clipPath>\n",
       "</defs>\n",
       "<polyline clip-path=\"url(#clip152)\" style=\"stroke:#000000; stroke-width:2; stroke-opacity:0.1; fill:none\" points=\"\n",
       "  191.805,1521.01 191.805,62.9921 \n",
       "  \"/>\n",
       "<polyline clip-path=\"url(#clip152)\" style=\"stroke:#000000; stroke-width:2; stroke-opacity:0.1; fill:none\" points=\"\n",
       "  341.324,1521.01 341.324,62.9921 \n",
       "  \"/>\n",
       "<polyline clip-path=\"url(#clip152)\" style=\"stroke:#000000; stroke-width:2; stroke-opacity:0.1; fill:none\" points=\"\n",
       "  490.844,1521.01 490.844,62.9921 \n",
       "  \"/>\n",
       "<polyline clip-path=\"url(#clip152)\" style=\"stroke:#000000; stroke-width:2; stroke-opacity:0.1; fill:none\" points=\"\n",
       "  640.363,1521.01 640.363,62.9921 \n",
       "  \"/>\n",
       "<polyline clip-path=\"url(#clip152)\" style=\"stroke:#000000; stroke-width:2; stroke-opacity:0.1; fill:none\" points=\"\n",
       "  789.882,1521.01 789.882,62.9921 \n",
       "  \"/>\n",
       "<polyline clip-path=\"url(#clip152)\" style=\"stroke:#000000; stroke-width:2; stroke-opacity:0.1; fill:none\" points=\"\n",
       "  939.402,1521.01 939.402,62.9921 \n",
       "  \"/>\n",
       "<polyline clip-path=\"url(#clip152)\" style=\"stroke:#000000; stroke-width:2; stroke-opacity:0.1; fill:none\" points=\"\n",
       "  1088.92,1521.01 1088.92,62.9921 \n",
       "  \"/>\n",
       "<polyline clip-path=\"url(#clip150)\" style=\"stroke:#000000; stroke-width:4; stroke-opacity:1; fill:none\" points=\"\n",
       "  86.9921,1521.01 1152.76,1521.01 \n",
       "  \"/>\n",
       "<polyline clip-path=\"url(#clip150)\" style=\"stroke:#000000; stroke-width:4; stroke-opacity:1; fill:none\" points=\"\n",
       "  191.805,1521.01 191.805,1503.51 \n",
       "  \"/>\n",
       "<polyline clip-path=\"url(#clip150)\" style=\"stroke:#000000; stroke-width:4; stroke-opacity:1; fill:none\" points=\"\n",
       "  341.324,1521.01 341.324,1503.51 \n",
       "  \"/>\n",
       "<polyline clip-path=\"url(#clip150)\" style=\"stroke:#000000; stroke-width:4; stroke-opacity:1; fill:none\" points=\"\n",
       "  490.844,1521.01 490.844,1503.51 \n",
       "  \"/>\n",
       "<polyline clip-path=\"url(#clip150)\" style=\"stroke:#000000; stroke-width:4; stroke-opacity:1; fill:none\" points=\"\n",
       "  640.363,1521.01 640.363,1503.51 \n",
       "  \"/>\n",
       "<polyline clip-path=\"url(#clip150)\" style=\"stroke:#000000; stroke-width:4; stroke-opacity:1; fill:none\" points=\"\n",
       "  789.882,1521.01 789.882,1503.51 \n",
       "  \"/>\n",
       "<polyline clip-path=\"url(#clip150)\" style=\"stroke:#000000; stroke-width:4; stroke-opacity:1; fill:none\" points=\"\n",
       "  939.402,1521.01 939.402,1503.51 \n",
       "  \"/>\n",
       "<polyline clip-path=\"url(#clip150)\" style=\"stroke:#000000; stroke-width:4; stroke-opacity:1; fill:none\" points=\"\n",
       "  1088.92,1521.01 1088.92,1503.51 \n",
       "  \"/>\n",
       "<path clip-path=\"url(#clip150)\" d=\"M 0 0 M170.79 1558.69 L193.046 1558.69 L193.046 1561.64 L170.79 1561.64 L170.79 1558.69 Z\" fill=\"#000000\" fill-rule=\"evenodd\" fill-opacity=\"1\" /><path clip-path=\"url(#clip150)\" d=\"M 0 0 M207.473 1557.34 Q209.991 1557.87 211.397 1559.58 Q212.821 1561.28 212.821 1563.78 Q212.821 1567.61 210.182 1569.71 Q207.543 1571.82 202.682 1571.82 Q201.05 1571.82 199.314 1571.49 Q197.595 1571.17 195.755 1570.53 L195.755 1567.15 Q197.213 1568 198.949 1568.43 Q200.685 1568.86 202.578 1568.86 Q205.876 1568.86 207.595 1567.56 Q209.331 1566.26 209.331 1563.78 Q209.331 1561.49 207.716 1560.2 Q206.119 1558.9 203.255 1558.9 L200.234 1558.9 L200.234 1556.02 L203.394 1556.02 Q205.98 1556.02 207.352 1554.99 Q208.723 1553.95 208.723 1552.01 Q208.723 1550.01 207.3 1548.95 Q205.894 1547.87 203.255 1547.87 Q201.814 1547.87 200.164 1548.19 Q198.515 1548.5 196.536 1549.16 L196.536 1546.03 Q198.532 1545.48 200.269 1545.2 Q202.022 1544.92 203.567 1544.92 Q207.56 1544.92 209.887 1546.75 Q212.213 1548.55 212.213 1551.64 Q212.213 1553.79 210.98 1555.29 Q209.748 1556.76 207.473 1557.34 Z\" fill=\"#000000\" fill-rule=\"evenodd\" fill-opacity=\"1\" /><path clip-path=\"url(#clip150)\" d=\"M 0 0 M320.665 1558.69 L342.922 1558.69 L342.922 1561.64 L320.665 1561.64 L320.665 1558.69 Z\" fill=\"#000000\" fill-rule=\"evenodd\" fill-opacity=\"1\" /><path clip-path=\"url(#clip150)\" d=\"M 0 0 M349.744 1568.36 L361.984 1568.36 L361.984 1571.31 L345.526 1571.31 L345.526 1568.36 Q347.522 1566.29 350.96 1562.82 Q354.415 1559.33 355.3 1558.33 Q356.984 1556.43 357.644 1555.13 Q358.321 1553.81 358.321 1552.54 Q358.321 1550.48 356.863 1549.18 Q355.422 1547.87 353.095 1547.87 Q351.446 1547.87 349.606 1548.45 Q347.783 1549.02 345.699 1550.18 L345.699 1546.64 Q347.817 1545.79 349.658 1545.36 Q351.498 1544.92 353.026 1544.92 Q357.053 1544.92 359.449 1546.94 Q361.845 1548.95 361.845 1552.32 Q361.845 1553.92 361.237 1555.36 Q360.647 1556.78 359.067 1558.73 Q358.633 1559.23 356.307 1561.64 Q353.981 1564.04 349.744 1568.36 Z\" fill=\"#000000\" fill-rule=\"evenodd\" fill-opacity=\"1\" /><path clip-path=\"url(#clip150)\" d=\"M 0 0 M470.045 1558.69 L492.302 1558.69 L492.302 1561.64 L470.045 1561.64 L470.045 1558.69 Z\" fill=\"#000000\" fill-rule=\"evenodd\" fill-opacity=\"1\" /><path clip-path=\"url(#clip150)\" d=\"M 0 0 M496.712 1568.36 L502.441 1568.36 L502.441 1548.59 L496.208 1549.84 L496.208 1546.64 L502.406 1545.39 L505.913 1545.39 L505.913 1568.36 L511.642 1568.36 L511.642 1571.31 L496.712 1571.31 L496.712 1568.36 Z\" fill=\"#000000\" fill-rule=\"evenodd\" fill-opacity=\"1\" /><path clip-path=\"url(#clip150)\" d=\"M 0 0 M640.363 1547.7 Q637.655 1547.7 636.283 1550.37 Q634.929 1553.03 634.929 1558.38 Q634.929 1563.71 636.283 1566.38 Q637.655 1569.04 640.363 1569.04 Q643.089 1569.04 644.443 1566.38 Q645.814 1563.71 645.814 1558.38 Q645.814 1553.03 644.443 1550.37 Q643.089 1547.7 640.363 1547.7 M640.363 1544.92 Q644.721 1544.92 647.012 1548.38 Q649.321 1551.82 649.321 1558.38 Q649.321 1564.92 647.012 1568.38 Q644.721 1571.82 640.363 1571.82 Q636.005 1571.82 633.696 1568.38 Q631.405 1564.92 631.405 1558.38 Q631.405 1551.82 633.696 1548.38 Q636.005 1544.92 640.363 1544.92 Z\" fill=\"#000000\" fill-rule=\"evenodd\" fill-opacity=\"1\" /><path clip-path=\"url(#clip150)\" d=\"M 0 0 M782.669 1568.36 L788.398 1568.36 L788.398 1548.59 L782.165 1549.84 L782.165 1546.64 L788.363 1545.39 L791.87 1545.39 L791.87 1568.36 L797.599 1568.36 L797.599 1571.31 L782.669 1571.31 L782.669 1568.36 Z\" fill=\"#000000\" fill-rule=\"evenodd\" fill-opacity=\"1\" /><path clip-path=\"url(#clip150)\" d=\"M 0 0 M935.391 1568.36 L947.631 1568.36 L947.631 1571.31 L931.173 1571.31 L931.173 1568.36 Q933.169 1566.29 936.607 1562.82 Q940.061 1559.33 940.947 1558.33 Q942.631 1556.43 943.291 1555.13 Q943.968 1553.81 943.968 1552.54 Q943.968 1550.48 942.509 1549.18 Q941.068 1547.87 938.742 1547.87 Q937.093 1547.87 935.252 1548.45 Q933.429 1549.02 931.346 1550.18 L931.346 1546.64 Q933.464 1545.79 935.304 1545.36 Q937.145 1544.92 938.672 1544.92 Q942.7 1544.92 945.096 1546.94 Q947.492 1548.95 947.492 1552.32 Q947.492 1553.92 946.884 1555.36 Q946.294 1556.78 944.714 1558.73 Q944.28 1559.23 941.954 1561.64 Q939.627 1564.04 935.391 1568.36 Z\" fill=\"#000000\" fill-rule=\"evenodd\" fill-opacity=\"1\" /><path clip-path=\"url(#clip150)\" d=\"M 0 0 M1092.11 1557.34 Q1094.62 1557.87 1096.03 1559.58 Q1097.45 1561.28 1097.45 1563.78 Q1097.45 1567.61 1094.82 1569.71 Q1092.18 1571.82 1087.32 1571.82 Q1085.68 1571.82 1083.95 1571.49 Q1082.23 1571.17 1080.39 1570.53 L1080.39 1567.15 Q1081.85 1568 1083.58 1568.43 Q1085.32 1568.86 1087.21 1568.86 Q1090.51 1568.86 1092.23 1567.56 Q1093.96 1566.26 1093.96 1563.78 Q1093.96 1561.49 1092.35 1560.2 Q1090.75 1558.9 1087.89 1558.9 L1084.87 1558.9 L1084.87 1556.02 L1088.03 1556.02 Q1090.61 1556.02 1091.99 1554.99 Q1093.36 1553.95 1093.36 1552.01 Q1093.36 1550.01 1091.93 1548.95 Q1090.53 1547.87 1087.89 1547.87 Q1086.45 1547.87 1084.8 1548.19 Q1083.15 1548.5 1081.17 1549.16 L1081.17 1546.03 Q1083.17 1545.48 1084.9 1545.2 Q1086.66 1544.92 1088.2 1544.92 Q1092.19 1544.92 1094.52 1546.75 Q1096.85 1548.55 1096.85 1551.64 Q1096.85 1553.79 1095.61 1555.29 Q1094.38 1556.76 1092.11 1557.34 Z\" fill=\"#000000\" fill-rule=\"evenodd\" fill-opacity=\"1\" /><polyline clip-path=\"url(#clip152)\" style=\"stroke:#000000; stroke-width:2; stroke-opacity:0.1; fill:none\" points=\"\n",
       "  86.9921,1479.05 1152.76,1479.05 \n",
       "  \"/>\n",
       "<polyline clip-path=\"url(#clip152)\" style=\"stroke:#000000; stroke-width:2; stroke-opacity:0.1; fill:none\" points=\"\n",
       "  86.9921,1164.62 1152.76,1164.62 \n",
       "  \"/>\n",
       "<polyline clip-path=\"url(#clip152)\" style=\"stroke:#000000; stroke-width:2; stroke-opacity:0.1; fill:none\" points=\"\n",
       "  86.9921,850.196 1152.76,850.196 \n",
       "  \"/>\n",
       "<polyline clip-path=\"url(#clip152)\" style=\"stroke:#000000; stroke-width:2; stroke-opacity:0.1; fill:none\" points=\"\n",
       "  86.9921,535.771 1152.76,535.771 \n",
       "  \"/>\n",
       "<polyline clip-path=\"url(#clip152)\" style=\"stroke:#000000; stroke-width:2; stroke-opacity:0.1; fill:none\" points=\"\n",
       "  86.9921,221.346 1152.76,221.346 \n",
       "  \"/>\n",
       "<polyline clip-path=\"url(#clip150)\" style=\"stroke:#000000; stroke-width:4; stroke-opacity:1; fill:none\" points=\"\n",
       "  86.9921,1521.01 86.9921,62.9921 \n",
       "  \"/>\n",
       "<polyline clip-path=\"url(#clip150)\" style=\"stroke:#000000; stroke-width:4; stroke-opacity:1; fill:none\" points=\"\n",
       "  86.9921,1479.05 99.7813,1479.05 \n",
       "  \"/>\n",
       "<polyline clip-path=\"url(#clip150)\" style=\"stroke:#000000; stroke-width:4; stroke-opacity:1; fill:none\" points=\"\n",
       "  86.9921,1164.62 99.7813,1164.62 \n",
       "  \"/>\n",
       "<polyline clip-path=\"url(#clip150)\" style=\"stroke:#000000; stroke-width:4; stroke-opacity:1; fill:none\" points=\"\n",
       "  86.9921,850.196 99.7813,850.196 \n",
       "  \"/>\n",
       "<polyline clip-path=\"url(#clip150)\" style=\"stroke:#000000; stroke-width:4; stroke-opacity:1; fill:none\" points=\"\n",
       "  86.9921,535.771 99.7813,535.771 \n",
       "  \"/>\n",
       "<polyline clip-path=\"url(#clip150)\" style=\"stroke:#000000; stroke-width:4; stroke-opacity:1; fill:none\" points=\"\n",
       "  86.9921,221.346 99.7813,221.346 \n",
       "  \"/>\n",
       "<path clip-path=\"url(#clip150)\" d=\"M 0 0 M-41.4379 1479.5 L-11.7622 1479.5 L-11.7622 1483.43 L-41.4379 1483.43 L-41.4379 1479.5 Z\" fill=\"#000000\" fill-rule=\"evenodd\" fill-opacity=\"1\" /><path clip-path=\"url(#clip150)\" d=\"M 0 0 M-5.88257 1492.39 L1.75628 1492.39 L1.75628 1466.03 L-6.55386 1467.69 L-6.55386 1463.43 L1.70998 1461.77 L6.38588 1461.77 L6.38588 1492.39 L14.0247 1492.39 L14.0247 1496.33 L-5.88257 1496.33 L-5.88257 1492.39 Z\" fill=\"#000000\" fill-rule=\"evenodd\" fill-opacity=\"1\" /><path clip-path=\"url(#clip150)\" d=\"M 0 0 M19.0941 1490.45 L23.9784 1490.45 L23.9784 1496.33 L19.0941 1496.33 L19.0941 1490.45 Z\" fill=\"#000000\" fill-rule=\"evenodd\" fill-opacity=\"1\" /><path clip-path=\"url(#clip150)\" d=\"M 0 0 M39.0477 1464.85 Q35.4367 1464.85 33.608 1468.41 Q31.8024 1471.95 31.8024 1479.08 Q31.8024 1486.19 33.608 1489.75 Q35.4367 1493.29 39.0477 1493.29 Q42.682 1493.29 44.4875 1489.75 Q46.3162 1486.19 46.3162 1479.08 Q46.3162 1471.95 44.4875 1468.41 Q42.682 1464.85 39.0477 1464.85 M39.0477 1461.14 Q44.8579 1461.14 47.9134 1465.75 Q50.9921 1470.33 50.9921 1479.08 Q50.9921 1487.81 47.9134 1492.41 Q44.8579 1497 39.0477 1497 Q33.2376 1497 30.1589 1492.41 Q27.1034 1487.81 27.1034 1479.08 Q27.1034 1470.33 30.1589 1465.75 Q33.2376 1461.14 39.0477 1461.14 Z\" fill=\"#000000\" fill-rule=\"evenodd\" fill-opacity=\"1\" /><path clip-path=\"url(#clip150)\" d=\"M 0 0 M-41.6694 1165.07 L-11.9936 1165.07 L-11.9936 1169.01 L-41.6694 1169.01 L-41.6694 1165.07 Z\" fill=\"#000000\" fill-rule=\"evenodd\" fill-opacity=\"1\" /><path clip-path=\"url(#clip150)\" d=\"M 0 0 M3.07572 1150.42 Q-0.535376 1150.42 -2.36407 1153.98 Q-4.16962 1157.53 -4.16962 1164.66 Q-4.16962 1171.76 -2.36407 1175.33 Q-0.535376 1178.87 3.07572 1178.87 Q6.70996 1178.87 8.5155 1175.33 Q10.3442 1171.76 10.3442 1164.66 Q10.3442 1157.53 8.5155 1153.98 Q6.70996 1150.42 3.07572 1150.42 M3.07572 1146.72 Q8.88587 1146.72 11.9414 1151.32 Q15.0201 1155.91 15.0201 1164.66 Q15.0201 1173.38 11.9414 1177.99 Q8.88587 1182.57 3.07572 1182.57 Q-2.73444 1182.57 -5.81313 1177.99 Q-8.86866 1173.38 -8.86866 1164.66 Q-8.86866 1155.91 -5.81313 1151.32 Q-2.73444 1146.72 3.07572 1146.72 Z\" fill=\"#000000\" fill-rule=\"evenodd\" fill-opacity=\"1\" /><path clip-path=\"url(#clip150)\" d=\"M 0 0 M20.0895 1176.02 L24.9737 1176.02 L24.9737 1181.9 L20.0895 1181.9 L20.0895 1176.02 Z\" fill=\"#000000\" fill-rule=\"evenodd\" fill-opacity=\"1\" /><path clip-path=\"url(#clip150)\" d=\"M 0 0 M30.0895 1147.34 L48.4458 1147.34 L48.4458 1151.28 L34.3718 1151.28 L34.3718 1159.75 Q35.3904 1159.4 36.4089 1159.24 Q37.4274 1159.05 38.4459 1159.05 Q44.2329 1159.05 47.6125 1162.23 Q50.9921 1165.4 50.9921 1170.81 Q50.9921 1176.39 47.5199 1179.49 Q44.0477 1182.57 37.7283 1182.57 Q35.5524 1182.57 33.2839 1182.2 Q31.0385 1181.83 28.6311 1181.09 L28.6311 1176.39 Q30.7145 1177.53 32.9367 1178.08 Q35.1589 1178.64 37.6357 1178.64 Q41.6403 1178.64 43.9783 1176.53 Q46.3162 1174.42 46.3162 1170.81 Q46.3162 1167.2 43.9783 1165.1 Q41.6403 1162.99 37.6357 1162.99 Q35.7607 1162.99 33.8857 1163.41 Q32.0339 1163.82 30.0895 1164.7 L30.0895 1147.34 Z\" fill=\"#000000\" fill-rule=\"evenodd\" fill-opacity=\"1\" /><path clip-path=\"url(#clip150)\" d=\"M 0 0 M2.08035 835.995 Q-1.53074 835.995 -3.35943 839.56 Q-5.16498 843.101 -5.16498 850.231 Q-5.16498 857.337 -3.35943 860.902 Q-1.53074 864.444 2.08035 864.444 Q5.71459 864.444 7.52014 860.902 Q9.34883 857.337 9.34883 850.231 Q9.34883 843.101 7.52014 839.56 Q5.71459 835.995 2.08035 835.995 M2.08035 832.291 Q7.89051 832.291 10.946 836.898 Q14.0247 841.481 14.0247 850.231 Q14.0247 858.958 10.946 863.564 Q7.89051 868.147 2.08035 868.147 Q-3.7298 868.147 -6.80849 863.564 Q-9.86403 858.958 -9.86403 850.231 Q-9.86403 841.481 -6.80849 836.898 Q-3.7298 832.291 2.08035 832.291 Z\" fill=\"#000000\" fill-rule=\"evenodd\" fill-opacity=\"1\" /><path clip-path=\"url(#clip150)\" d=\"M 0 0 M19.0941 861.597 L23.9784 861.597 L23.9784 867.476 L19.0941 867.476 L19.0941 861.597 Z\" fill=\"#000000\" fill-rule=\"evenodd\" fill-opacity=\"1\" /><path clip-path=\"url(#clip150)\" d=\"M 0 0 M39.0477 835.995 Q35.4367 835.995 33.608 839.56 Q31.8024 843.101 31.8024 850.231 Q31.8024 857.337 33.608 860.902 Q35.4367 864.444 39.0477 864.444 Q42.682 864.444 44.4875 860.902 Q46.3162 857.337 46.3162 850.231 Q46.3162 843.101 44.4875 839.56 Q42.682 835.995 39.0477 835.995 M39.0477 832.291 Q44.8579 832.291 47.9134 836.898 Q50.9921 841.481 50.9921 850.231 Q50.9921 858.958 47.9134 863.564 Q44.8579 868.147 39.0477 868.147 Q33.2376 868.147 30.1589 863.564 Q27.1034 858.958 27.1034 850.231 Q27.1034 841.481 30.1589 836.898 Q33.2376 832.291 39.0477 832.291 Z\" fill=\"#000000\" fill-rule=\"evenodd\" fill-opacity=\"1\" /><path clip-path=\"url(#clip150)\" d=\"M 0 0 M3.07572 521.57 Q-0.535376 521.57 -2.36407 525.134 Q-4.16962 528.676 -4.16962 535.806 Q-4.16962 542.912 -2.36407 546.477 Q-0.535376 550.018 3.07572 550.018 Q6.70996 550.018 8.5155 546.477 Q10.3442 542.912 10.3442 535.806 Q10.3442 528.676 8.5155 525.134 Q6.70996 521.57 3.07572 521.57 M3.07572 517.866 Q8.88587 517.866 11.9414 522.472 Q15.0201 527.056 15.0201 535.806 Q15.0201 544.532 11.9414 549.139 Q8.88587 553.722 3.07572 553.722 Q-2.73444 553.722 -5.81313 549.139 Q-8.86866 544.532 -8.86866 535.806 Q-8.86866 527.056 -5.81313 522.472 Q-2.73444 517.866 3.07572 517.866 Z\" fill=\"#000000\" fill-rule=\"evenodd\" fill-opacity=\"1\" /><path clip-path=\"url(#clip150)\" d=\"M 0 0 M20.0895 547.171 L24.9737 547.171 L24.9737 553.051 L20.0895 553.051 L20.0895 547.171 Z\" fill=\"#000000\" fill-rule=\"evenodd\" fill-opacity=\"1\" /><path clip-path=\"url(#clip150)\" d=\"M 0 0 M30.0895 518.491 L48.4458 518.491 L48.4458 522.426 L34.3718 522.426 L34.3718 530.898 Q35.3904 530.551 36.4089 530.389 Q37.4274 530.204 38.4459 530.204 Q44.2329 530.204 47.6125 533.375 Q50.9921 536.546 50.9921 541.963 Q50.9921 547.542 47.5199 550.643 Q44.0477 553.722 37.7283 553.722 Q35.5524 553.722 33.2839 553.352 Q31.0385 552.981 28.6311 552.241 L28.6311 547.542 Q30.7145 548.676 32.9367 549.231 Q35.1589 549.787 37.6357 549.787 Q41.6403 549.787 43.9783 547.68 Q46.3162 545.574 46.3162 541.963 Q46.3162 538.352 43.9783 536.245 Q41.6403 534.139 37.6357 534.139 Q35.7607 534.139 33.8857 534.556 Q32.0339 534.972 30.0895 535.852 L30.0895 518.491 Z\" fill=\"#000000\" fill-rule=\"evenodd\" fill-opacity=\"1\" /><path clip-path=\"url(#clip150)\" d=\"M 0 0 M-5.88257 234.69 L1.75628 234.69 L1.75628 208.325 L-6.55386 209.991 L-6.55386 205.732 L1.70998 204.066 L6.38588 204.066 L6.38588 234.69 L14.0247 234.69 L14.0247 238.626 L-5.88257 238.626 L-5.88257 234.69 Z\" fill=\"#000000\" fill-rule=\"evenodd\" fill-opacity=\"1\" /><path clip-path=\"url(#clip150)\" d=\"M 0 0 M19.0941 232.746 L23.9784 232.746 L23.9784 238.626 L19.0941 238.626 L19.0941 232.746 Z\" fill=\"#000000\" fill-rule=\"evenodd\" fill-opacity=\"1\" /><path clip-path=\"url(#clip150)\" d=\"M 0 0 M39.0477 207.144 Q35.4367 207.144 33.608 210.709 Q31.8024 214.251 31.8024 221.38 Q31.8024 228.487 33.608 232.051 Q35.4367 235.593 39.0477 235.593 Q42.682 235.593 44.4875 232.051 Q46.3162 228.487 46.3162 221.38 Q46.3162 214.251 44.4875 210.709 Q42.682 207.144 39.0477 207.144 M39.0477 203.441 Q44.8579 203.441 47.9134 208.047 Q50.9921 212.63 50.9921 221.38 Q50.9921 230.107 47.9134 234.713 Q44.8579 239.297 39.0477 239.297 Q33.2376 239.297 30.1589 234.713 Q27.1034 230.107 27.1034 221.38 Q27.1034 212.63 30.1589 208.047 Q33.2376 203.441 39.0477 203.441 Z\" fill=\"#000000\" fill-rule=\"evenodd\" fill-opacity=\"1\" /><path clip-path=\"url(#clip150)\" d=\"M 0 0 M410.581 6.912 L430.442 6.912 L430.442 10.8472 L415.257 10.8472 L415.257 21.0323 L428.961 21.0323 L428.961 24.9675 L415.257 24.9675 L415.257 41.472 L410.581 41.472 L410.581 6.912 Z\" fill=\"#000000\" fill-rule=\"evenodd\" fill-opacity=\"1\" /><path clip-path=\"url(#clip150)\" d=\"M 0 0 M431.877 31.2406 L431.877 15.5462 L436.137 15.5462 L436.137 31.0785 Q436.137 34.7591 437.572 36.6109 Q439.007 38.4396 441.877 38.4396 Q445.326 38.4396 447.317 36.2405 Q449.331 34.0415 449.331 30.2452 L449.331 15.5462 L453.59 15.5462 L453.59 41.472 L449.331 41.472 L449.331 37.4905 Q447.78 39.8516 445.72 41.009 Q443.683 42.1433 440.975 42.1433 Q436.507 42.1433 434.192 39.3655 Q431.877 36.5878 431.877 31.2406 M442.595 14.9212 L442.595 14.9212 Z\" fill=\"#000000\" fill-rule=\"evenodd\" fill-opacity=\"1\" /><path clip-path=\"url(#clip150)\" d=\"M 0 0 M456.206 15.5462 L476.437 15.5462 L476.437 19.4351 L460.419 38.0692 L476.437 38.0692 L476.437 41.472 L455.627 41.472 L455.627 37.5831 L471.646 18.949 L456.206 18.949 L456.206 15.5462 Z\" fill=\"#000000\" fill-rule=\"evenodd\" fill-opacity=\"1\" /><path clip-path=\"url(#clip150)\" d=\"M 0 0 M479.053 15.5462 L499.284 15.5462 L499.284 19.4351 L483.266 38.0692 L499.284 38.0692 L499.284 41.472 L478.474 41.472 L478.474 37.5831 L494.493 18.949 L479.053 18.949 L479.053 15.5462 Z\" fill=\"#000000\" fill-rule=\"evenodd\" fill-opacity=\"1\" /><path clip-path=\"url(#clip150)\" d=\"M 0 0 M514.539 43.8794 Q512.733 48.509 511.02 49.921 Q509.307 51.3331 506.437 51.3331 L503.034 51.3331 L503.034 47.7683 L505.534 47.7683 Q507.294 47.7683 508.266 46.9349 Q509.238 46.1016 510.419 42.9998 L511.182 41.0553 L500.696 15.5462 L505.21 15.5462 L513.312 35.8239 L521.414 15.5462 L525.928 15.5462 L514.539 43.8794 Z\" fill=\"#000000\" fill-rule=\"evenodd\" fill-opacity=\"1\" /><path clip-path=\"url(#clip150)\" d=\"M 0 0 M542.131 11.5185 L535.789 28.7174 L548.497 28.7174 L542.131 11.5185 M539.493 6.912 L544.793 6.912 L557.965 41.472 L553.104 41.472 L549.955 32.6063 L534.377 32.6063 L531.229 41.472 L526.298 41.472 L539.493 6.912 Z\" fill=\"#000000\" fill-rule=\"evenodd\" fill-opacity=\"1\" /><path clip-path=\"url(#clip150)\" d=\"M 0 0 M579.006 25.2684 Q580.511 25.7776 581.923 27.4443 Q583.358 29.111 584.793 32.0276 L589.539 41.472 L584.515 41.472 L580.094 32.6063 Q578.381 29.1341 576.761 27.9998 Q575.164 26.8656 572.386 26.8656 L567.293 26.8656 L567.293 41.472 L562.617 41.472 L562.617 6.912 L573.173 6.912 Q579.099 6.912 582.015 9.38884 Q584.932 11.8657 584.932 16.8657 Q584.932 20.1295 583.404 22.2823 Q581.9 24.4351 579.006 25.2684 M567.293 10.7546 L567.293 23.023 L573.173 23.023 Q576.552 23.023 578.265 21.4721 Q580.002 19.898 580.002 16.8657 Q580.002 13.8333 578.265 12.3055 Q576.552 10.7546 573.173 10.7546 L567.293 10.7546 Z\" fill=\"#000000\" fill-rule=\"evenodd\" fill-opacity=\"1\" /><path clip-path=\"url(#clip150)\" d=\"M 0 0 M585.951 6.912 L615.187 6.912 L615.187 10.8472 L602.918 10.8472 L602.918 41.472 L598.219 41.472 L598.219 10.8472 L585.951 10.8472 L585.951 6.912 Z\" fill=\"#000000\" fill-rule=\"evenodd\" fill-opacity=\"1\" /><path clip-path=\"url(#clip150)\" d=\"M 0 0 M649.747 19.5277 Q649.029 19.111 648.172 18.9258 Q647.339 18.7175 646.321 18.7175 Q642.71 18.7175 640.765 21.0786 Q638.844 23.4165 638.844 27.8147 L638.844 41.472 L634.561 41.472 L634.561 15.5462 L638.844 15.5462 L638.844 19.574 Q640.186 17.2129 642.339 16.0786 Q644.492 14.9212 647.571 14.9212 Q648.01 14.9212 648.543 14.9907 Q649.075 15.037 649.723 15.1527 L649.747 19.5277 Z\" fill=\"#000000\" fill-rule=\"evenodd\" fill-opacity=\"1\" /><path clip-path=\"url(#clip150)\" d=\"M 0 0 M674.932 25.8239 L674.932 41.472 L670.672 41.472 L670.672 25.9628 Q670.672 22.2823 669.237 20.4536 Q667.802 18.6249 664.932 18.6249 Q661.483 18.6249 659.492 20.824 Q657.501 23.023 657.501 26.8193 L657.501 41.472 L653.219 41.472 L653.219 5.45367 L657.501 5.45367 L657.501 19.574 Q659.029 17.236 661.089 16.0786 Q663.172 14.9212 665.881 14.9212 Q670.348 14.9212 672.64 17.699 Q674.932 20.4536 674.932 25.8239 Z\" fill=\"#000000\" fill-rule=\"evenodd\" fill-opacity=\"1\" /><path clip-path=\"url(#clip150)\" d=\"M 0 0 M689.445 18.5323 Q686.019 18.5323 684.029 21.2175 Q682.038 23.8795 682.038 28.5323 Q682.038 33.185 684.006 35.8702 Q685.996 38.5322 689.445 38.5322 Q692.848 38.5322 694.839 35.847 Q696.83 33.1619 696.83 28.5323 Q696.83 23.9258 694.839 21.2406 Q692.848 18.5323 689.445 18.5323 M689.445 14.9212 Q695.001 14.9212 698.172 18.5323 Q701.343 22.1434 701.343 28.5323 Q701.343 34.898 698.172 38.5322 Q695.001 42.1433 689.445 42.1433 Q683.867 42.1433 680.695 38.5322 Q677.547 34.898 677.547 28.5323 Q677.547 22.1434 680.695 18.5323 Q683.867 14.9212 689.445 14.9212 Z\" fill=\"#000000\" fill-rule=\"evenodd\" fill-opacity=\"1\" /><path clip-path=\"url(#clip150)\" d=\"M 0 0 M721.436 19.9443 L751.112 19.9443 L751.112 23.8332 L721.436 23.8332 L721.436 19.9443 M721.436 29.3887 L751.112 29.3887 L751.112 33.3239 L721.436 33.3239 L721.436 29.3887 Z\" fill=\"#000000\" fill-rule=\"evenodd\" fill-opacity=\"1\" /><path clip-path=\"url(#clip150)\" d=\"M 0 0 M781.25 9.99069 Q777.639 9.99069 775.811 13.5555 Q774.005 17.0971 774.005 24.2267 Q774.005 31.3332 775.811 34.898 Q777.639 38.4396 781.25 38.4396 Q784.885 38.4396 786.69 34.898 Q788.519 31.3332 788.519 24.2267 Q788.519 17.0971 786.69 13.5555 Q784.885 9.99069 781.25 9.99069 M781.25 6.287 Q787.061 6.287 790.116 10.8935 Q793.195 15.4768 793.195 24.2267 Q793.195 32.9535 790.116 37.56 Q787.061 42.1433 781.25 42.1433 Q775.44 42.1433 772.362 37.56 Q769.306 32.9535 769.306 24.2267 Q769.306 15.4768 772.362 10.8935 Q775.44 6.287 781.25 6.287 Z\" fill=\"#000000\" fill-rule=\"evenodd\" fill-opacity=\"1\" /><path clip-path=\"url(#clip150)\" d=\"M 0 0 M798.264 35.5924 L803.148 35.5924 L803.148 41.472 L798.264 41.472 L798.264 35.5924 Z\" fill=\"#000000\" fill-rule=\"evenodd\" fill-opacity=\"1\" /><path clip-path=\"url(#clip150)\" d=\"M 0 0 M808.264 6.912 L826.621 6.912 L826.621 10.8472 L812.547 10.8472 L812.547 19.3193 Q813.565 18.9721 814.584 18.8101 Q815.602 18.6249 816.621 18.6249 Q822.408 18.6249 825.787 21.7962 Q829.167 24.9675 829.167 30.3841 Q829.167 35.9628 825.695 39.0646 Q822.222 42.1433 815.903 42.1433 Q813.727 42.1433 811.459 41.7729 Q809.213 41.4026 806.806 40.6618 L806.806 35.9628 Q808.889 37.097 811.111 37.6526 Q813.334 38.2081 815.81 38.2081 Q819.815 38.2081 822.153 36.1017 Q824.491 33.9952 824.491 30.3841 Q824.491 26.773 822.153 24.6665 Q819.815 22.5601 815.81 22.5601 Q813.935 22.5601 812.06 22.9767 Q810.209 23.3934 808.264 24.273 L808.264 6.912 Z\" fill=\"#000000\" fill-rule=\"evenodd\" fill-opacity=\"1\" /><circle clip-path=\"url(#clip152)\" cx=\"1122.59\" cy=\"1166.68\" r=\"14\" fill=\"#009af9\" fill-rule=\"evenodd\" fill-opacity=\"1\" stroke=\"#000000\" stroke-opacity=\"1\" stroke-width=\"3.2\"/>\n",
       "<circle clip-path=\"url(#clip152)\" cx=\"1088.67\" cy=\"1060.43\" r=\"14\" fill=\"#009af9\" fill-rule=\"evenodd\" fill-opacity=\"1\" stroke=\"#000000\" stroke-opacity=\"1\" stroke-width=\"3.2\"/>\n",
       "<circle clip-path=\"url(#clip152)\" cx=\"1020.54\" cy=\"481.513\" r=\"14\" fill=\"#009af9\" fill-rule=\"evenodd\" fill-opacity=\"1\" stroke=\"#000000\" stroke-opacity=\"1\" stroke-width=\"3.2\"/>\n",
       "<circle clip-path=\"url(#clip152)\" cx=\"1041.7\" cy=\"644.809\" r=\"14\" fill=\"#009af9\" fill-rule=\"evenodd\" fill-opacity=\"1\" stroke=\"#000000\" stroke-opacity=\"1\" stroke-width=\"3.2\"/>\n",
       "<circle clip-path=\"url(#clip152)\" cx=\"1034.02\" cy=\"969.725\" r=\"14\" fill=\"#009af9\" fill-rule=\"evenodd\" fill-opacity=\"1\" stroke=\"#000000\" stroke-opacity=\"1\" stroke-width=\"3.2\"/>\n",
       "<circle clip-path=\"url(#clip152)\" cx=\"1066.82\" cy=\"1436.83\" r=\"14\" fill=\"#009af9\" fill-rule=\"evenodd\" fill-opacity=\"1\" stroke=\"#000000\" stroke-opacity=\"1\" stroke-width=\"3.2\"/>\n",
       "<circle clip-path=\"url(#clip152)\" cx=\"1040.15\" cy=\"917.289\" r=\"14\" fill=\"#009af9\" fill-rule=\"evenodd\" fill-opacity=\"1\" stroke=\"#000000\" stroke-opacity=\"1\" stroke-width=\"3.2\"/>\n",
       "<circle clip-path=\"url(#clip152)\" cx=\"1035.62\" cy=\"104.257\" r=\"14\" fill=\"#009af9\" fill-rule=\"evenodd\" fill-opacity=\"1\" stroke=\"#000000\" stroke-opacity=\"1\" stroke-width=\"3.2\"/>\n",
       "<circle clip-path=\"url(#clip152)\" cx=\"1027.39\" cy=\"974.327\" r=\"14\" fill=\"#009af9\" fill-rule=\"evenodd\" fill-opacity=\"1\" stroke=\"#000000\" stroke-opacity=\"1\" stroke-width=\"3.2\"/>\n",
       "<circle clip-path=\"url(#clip152)\" cx=\"1086.21\" cy=\"1152.2\" r=\"14\" fill=\"#009af9\" fill-rule=\"evenodd\" fill-opacity=\"1\" stroke=\"#000000\" stroke-opacity=\"1\" stroke-width=\"3.2\"/>\n",
       "<circle clip-path=\"url(#clip152)\" cx=\"1057.14\" cy=\"993.411\" r=\"14\" fill=\"#009af9\" fill-rule=\"evenodd\" fill-opacity=\"1\" stroke=\"#000000\" stroke-opacity=\"1\" stroke-width=\"3.2\"/>\n",
       "<circle clip-path=\"url(#clip152)\" cx=\"1046.41\" cy=\"1002.81\" r=\"14\" fill=\"#009af9\" fill-rule=\"evenodd\" fill-opacity=\"1\" stroke=\"#000000\" stroke-opacity=\"1\" stroke-width=\"3.2\"/>\n",
       "<circle clip-path=\"url(#clip152)\" cx=\"1000.03\" cy=\"726.993\" r=\"14\" fill=\"#009af9\" fill-rule=\"evenodd\" fill-opacity=\"1\" stroke=\"#000000\" stroke-opacity=\"1\" stroke-width=\"3.2\"/>\n",
       "<circle clip-path=\"url(#clip152)\" cx=\"992.656\" cy=\"869.822\" r=\"14\" fill=\"#009af9\" fill-rule=\"evenodd\" fill-opacity=\"1\" stroke=\"#000000\" stroke-opacity=\"1\" stroke-width=\"3.2\"/>\n",
       "<circle clip-path=\"url(#clip152)\" cx=\"1027.22\" cy=\"522.896\" r=\"14\" fill=\"#009af9\" fill-rule=\"evenodd\" fill-opacity=\"1\" stroke=\"#000000\" stroke-opacity=\"1\" stroke-width=\"3.2\"/>\n",
       "<circle clip-path=\"url(#clip152)\" cx=\"641.887\" cy=\"1303.33\" r=\"14\" fill=\"#e26f46\" fill-rule=\"evenodd\" fill-opacity=\"1\" stroke=\"#000000\" stroke-opacity=\"1\" stroke-width=\"3.2\"/>\n",
       "<circle clip-path=\"url(#clip152)\" cx=\"587.017\" cy=\"892.218\" r=\"14\" fill=\"#e26f46\" fill-rule=\"evenodd\" fill-opacity=\"1\" stroke=\"#000000\" stroke-opacity=\"1\" stroke-width=\"3.2\"/>\n",
       "<circle clip-path=\"url(#clip152)\" cx=\"776.196\" cy=\"1322.82\" r=\"14\" fill=\"#e26f46\" fill-rule=\"evenodd\" fill-opacity=\"1\" stroke=\"#000000\" stroke-opacity=\"1\" stroke-width=\"3.2\"/>\n",
       "<circle clip-path=\"url(#clip152)\" cx=\"484.37\" cy=\"706.216\" r=\"14\" fill=\"#e26f46\" fill-rule=\"evenodd\" fill-opacity=\"1\" stroke=\"#000000\" stroke-opacity=\"1\" stroke-width=\"3.2\"/>\n",
       "<circle clip-path=\"url(#clip152)\" cx=\"518.824\" cy=\"1083.3\" r=\"14\" fill=\"#e26f46\" fill-rule=\"evenodd\" fill-opacity=\"1\" stroke=\"#000000\" stroke-opacity=\"1\" stroke-width=\"3.2\"/>\n",
       "<circle clip-path=\"url(#clip152)\" cx=\"752.722\" cy=\"1479.74\" r=\"14\" fill=\"#e26f46\" fill-rule=\"evenodd\" fill-opacity=\"1\" stroke=\"#000000\" stroke-opacity=\"1\" stroke-width=\"3.2\"/>\n",
       "<circle clip-path=\"url(#clip152)\" cx=\"571.131\" cy=\"1271.23\" r=\"14\" fill=\"#e26f46\" fill-rule=\"evenodd\" fill-opacity=\"1\" stroke=\"#000000\" stroke-opacity=\"1\" stroke-width=\"3.2\"/>\n",
       "<circle clip-path=\"url(#clip152)\" cx=\"603.702\" cy=\"1017.93\" r=\"14\" fill=\"#e26f46\" fill-rule=\"evenodd\" fill-opacity=\"1\" stroke=\"#000000\" stroke-opacity=\"1\" stroke-width=\"3.2\"/>\n",
       "<circle clip-path=\"url(#clip152)\" cx=\"518.885\" cy=\"952.278\" r=\"14\" fill=\"#e26f46\" fill-rule=\"evenodd\" fill-opacity=\"1\" stroke=\"#000000\" stroke-opacity=\"1\" stroke-width=\"3.2\"/>\n",
       "<circle clip-path=\"url(#clip152)\" cx=\"533.605\" cy=\"755.63\" r=\"14\" fill=\"#e26f46\" fill-rule=\"evenodd\" fill-opacity=\"1\" stroke=\"#000000\" stroke-opacity=\"1\" stroke-width=\"3.2\"/>\n",
       "<circle clip-path=\"url(#clip152)\" cx=\"615.765\" cy=\"1277.6\" r=\"14\" fill=\"#e26f46\" fill-rule=\"evenodd\" fill-opacity=\"1\" stroke=\"#000000\" stroke-opacity=\"1\" stroke-width=\"3.2\"/>\n",
       "<circle clip-path=\"url(#clip152)\" cx=\"317.59\" cy=\"987.49\" r=\"14\" fill=\"#3da44d\" fill-rule=\"evenodd\" fill-opacity=\"1\" stroke=\"#000000\" stroke-opacity=\"1\" stroke-width=\"3.2\"/>\n",
       "<circle clip-path=\"url(#clip152)\" cx=\"439.32\" cy=\"1338.45\" r=\"14\" fill=\"#3da44d\" fill-rule=\"evenodd\" fill-opacity=\"1\" stroke=\"#000000\" stroke-opacity=\"1\" stroke-width=\"3.2\"/>\n",
       "<circle clip-path=\"url(#clip152)\" cx=\"201.972\" cy=\"628.604\" r=\"14\" fill=\"#3da44d\" fill-rule=\"evenodd\" fill-opacity=\"1\" stroke=\"#000000\" stroke-opacity=\"1\" stroke-width=\"3.2\"/>\n",
       "<circle clip-path=\"url(#clip152)\" cx=\"370.878\" cy=\"986.125\" r=\"14\" fill=\"#3da44d\" fill-rule=\"evenodd\" fill-opacity=\"1\" stroke=\"#000000\" stroke-opacity=\"1\" stroke-width=\"3.2\"/>\n",
       "<circle clip-path=\"url(#clip152)\" cx=\"249.491\" cy=\"499.067\" r=\"14\" fill=\"#3da44d\" fill-rule=\"evenodd\" fill-opacity=\"1\" stroke=\"#000000\" stroke-opacity=\"1\" stroke-width=\"3.2\"/>\n",
       "<circle clip-path=\"url(#clip152)\" cx=\"118.725\" cy=\"113.47\" r=\"14\" fill=\"#3da44d\" fill-rule=\"evenodd\" fill-opacity=\"1\" stroke=\"#000000\" stroke-opacity=\"1\" stroke-width=\"3.2\"/>\n",
       "<circle clip-path=\"url(#clip152)\" cx=\"319.646\" cy=\"762.845\" r=\"14\" fill=\"#3da44d\" fill-rule=\"evenodd\" fill-opacity=\"1\" stroke=\"#000000\" stroke-opacity=\"1\" stroke-width=\"3.2\"/>\n",
       "<circle clip-path=\"url(#clip152)\" cx=\"391.872\" cy=\"697.99\" r=\"14\" fill=\"#3da44d\" fill-rule=\"evenodd\" fill-opacity=\"1\" stroke=\"#000000\" stroke-opacity=\"1\" stroke-width=\"3.2\"/>\n",
       "<circle clip-path=\"url(#clip152)\" cx=\"448.261\" cy=\"419.157\" r=\"14\" fill=\"#3da44d\" fill-rule=\"evenodd\" fill-opacity=\"1\" stroke=\"#000000\" stroke-opacity=\"1\" stroke-width=\"3.2\"/>\n",
       "<circle clip-path=\"url(#clip152)\" cx=\"457.885\" cy=\"593.603\" r=\"14\" fill=\"#3da44d\" fill-rule=\"evenodd\" fill-opacity=\"1\" stroke=\"#000000\" stroke-opacity=\"1\" stroke-width=\"3.2\"/>\n",
       "<circle clip-path=\"url(#clip152)\" cx=\"428.932\" cy=\"1211.74\" r=\"14\" fill=\"#3da44d\" fill-rule=\"evenodd\" fill-opacity=\"1\" stroke=\"#000000\" stroke-opacity=\"1\" stroke-width=\"3.2\"/>\n",
       "<circle clip-path=\"url(#clip152)\" cx=\"180.364\" cy=\"418.953\" r=\"14\" fill=\"#3da44d\" fill-rule=\"evenodd\" fill-opacity=\"1\" stroke=\"#000000\" stroke-opacity=\"1\" stroke-width=\"3.2\"/>\n",
       "<circle clip-path=\"url(#clip152)\" cx=\"432.581\" cy=\"1028.09\" r=\"14\" fill=\"#3da44d\" fill-rule=\"evenodd\" fill-opacity=\"1\" stroke=\"#000000\" stroke-opacity=\"1\" stroke-width=\"3.2\"/>\n",
       "<circle clip-path=\"url(#clip152)\" cx=\"293.527\" cy=\"1004.61\" r=\"14\" fill=\"#3da44d\" fill-rule=\"evenodd\" fill-opacity=\"1\" stroke=\"#000000\" stroke-opacity=\"1\" stroke-width=\"3.2\"/>\n",
       "<circle clip-path=\"url(#clip152)\" cx=\"117.155\" cy=\"562.954\" r=\"14\" fill=\"#3da44d\" fill-rule=\"evenodd\" fill-opacity=\"1\" stroke=\"#000000\" stroke-opacity=\"1\" stroke-width=\"3.2\"/>\n",
       "<circle clip-path=\"url(#clip152)\" cx=\"446.516\" cy=\"1056.18\" r=\"14\" fill=\"#3da44d\" fill-rule=\"evenodd\" fill-opacity=\"1\" stroke=\"#000000\" stroke-opacity=\"1\" stroke-width=\"3.2\"/>\n",
       "<circle clip-path=\"url(#clip152)\" cx=\"476.606\" cy=\"671.671\" r=\"14\" fill=\"#3da44d\" fill-rule=\"evenodd\" fill-opacity=\"1\" stroke=\"#000000\" stroke-opacity=\"1\" stroke-width=\"3.2\"/>\n",
       "<circle clip-path=\"url(#clip152)\" cx=\"355.549\" cy=\"819.981\" r=\"14\" fill=\"#3da44d\" fill-rule=\"evenodd\" fill-opacity=\"1\" stroke=\"#000000\" stroke-opacity=\"1\" stroke-width=\"3.2\"/>\n",
       "<circle clip-path=\"url(#clip152)\" cx=\"289.029\" cy=\"876.534\" r=\"14\" fill=\"#3da44d\" fill-rule=\"evenodd\" fill-opacity=\"1\" stroke=\"#000000\" stroke-opacity=\"1\" stroke-width=\"3.2\"/>\n",
       "<path clip-path=\"url(#clip150)\" d=\"\n",
       "M1286.99 1521.01 L2352.76 1521.01 L2352.76 62.9921 L1286.99 62.9921  Z\n",
       "  \" fill=\"#ffffff\" fill-rule=\"evenodd\" fill-opacity=\"1\"/>\n",
       "<defs>\n",
       "  <clipPath id=\"clip153\">\n",
       "    <rect x=\"1286\" y=\"62\" width=\"1067\" height=\"1459\"/>\n",
       "  </clipPath>\n",
       "</defs>\n",
       "<polyline clip-path=\"url(#clip153)\" style=\"stroke:#000000; stroke-width:2; stroke-opacity:0.1; fill:none\" points=\"\n",
       "  1391.81,1521.01 1391.81,62.9921 \n",
       "  \"/>\n",
       "<polyline clip-path=\"url(#clip153)\" style=\"stroke:#000000; stroke-width:2; stroke-opacity:0.1; fill:none\" points=\"\n",
       "  1541.32,1521.01 1541.32,62.9921 \n",
       "  \"/>\n",
       "<polyline clip-path=\"url(#clip153)\" style=\"stroke:#000000; stroke-width:2; stroke-opacity:0.1; fill:none\" points=\"\n",
       "  1690.84,1521.01 1690.84,62.9921 \n",
       "  \"/>\n",
       "<polyline clip-path=\"url(#clip153)\" style=\"stroke:#000000; stroke-width:2; stroke-opacity:0.1; fill:none\" points=\"\n",
       "  1840.36,1521.01 1840.36,62.9921 \n",
       "  \"/>\n",
       "<polyline clip-path=\"url(#clip153)\" style=\"stroke:#000000; stroke-width:2; stroke-opacity:0.1; fill:none\" points=\"\n",
       "  1989.88,1521.01 1989.88,62.9921 \n",
       "  \"/>\n",
       "<polyline clip-path=\"url(#clip153)\" style=\"stroke:#000000; stroke-width:2; stroke-opacity:0.1; fill:none\" points=\"\n",
       "  2139.4,1521.01 2139.4,62.9921 \n",
       "  \"/>\n",
       "<polyline clip-path=\"url(#clip153)\" style=\"stroke:#000000; stroke-width:2; stroke-opacity:0.1; fill:none\" points=\"\n",
       "  2288.92,1521.01 2288.92,62.9921 \n",
       "  \"/>\n",
       "<polyline clip-path=\"url(#clip150)\" style=\"stroke:#000000; stroke-width:4; stroke-opacity:1; fill:none\" points=\"\n",
       "  1286.99,1521.01 2352.76,1521.01 \n",
       "  \"/>\n",
       "<polyline clip-path=\"url(#clip150)\" style=\"stroke:#000000; stroke-width:4; stroke-opacity:1; fill:none\" points=\"\n",
       "  1391.81,1521.01 1391.81,1503.51 \n",
       "  \"/>\n",
       "<polyline clip-path=\"url(#clip150)\" style=\"stroke:#000000; stroke-width:4; stroke-opacity:1; fill:none\" points=\"\n",
       "  1541.32,1521.01 1541.32,1503.51 \n",
       "  \"/>\n",
       "<polyline clip-path=\"url(#clip150)\" style=\"stroke:#000000; stroke-width:4; stroke-opacity:1; fill:none\" points=\"\n",
       "  1690.84,1521.01 1690.84,1503.51 \n",
       "  \"/>\n",
       "<polyline clip-path=\"url(#clip150)\" style=\"stroke:#000000; stroke-width:4; stroke-opacity:1; fill:none\" points=\"\n",
       "  1840.36,1521.01 1840.36,1503.51 \n",
       "  \"/>\n",
       "<polyline clip-path=\"url(#clip150)\" style=\"stroke:#000000; stroke-width:4; stroke-opacity:1; fill:none\" points=\"\n",
       "  1989.88,1521.01 1989.88,1503.51 \n",
       "  \"/>\n",
       "<polyline clip-path=\"url(#clip150)\" style=\"stroke:#000000; stroke-width:4; stroke-opacity:1; fill:none\" points=\"\n",
       "  2139.4,1521.01 2139.4,1503.51 \n",
       "  \"/>\n",
       "<polyline clip-path=\"url(#clip150)\" style=\"stroke:#000000; stroke-width:4; stroke-opacity:1; fill:none\" points=\"\n",
       "  2288.92,1521.01 2288.92,1503.51 \n",
       "  \"/>\n",
       "<path clip-path=\"url(#clip150)\" d=\"M 0 0 M1370.79 1558.69 L1393.05 1558.69 L1393.05 1561.64 L1370.79 1561.64 L1370.79 1558.69 Z\" fill=\"#000000\" fill-rule=\"evenodd\" fill-opacity=\"1\" /><path clip-path=\"url(#clip150)\" d=\"M 0 0 M1407.47 1557.34 Q1409.99 1557.87 1411.4 1559.58 Q1412.82 1561.28 1412.82 1563.78 Q1412.82 1567.61 1410.18 1569.71 Q1407.54 1571.82 1402.68 1571.82 Q1401.05 1571.82 1399.31 1571.49 Q1397.59 1571.17 1395.75 1570.53 L1395.75 1567.15 Q1397.21 1568 1398.95 1568.43 Q1400.69 1568.86 1402.58 1568.86 Q1405.88 1568.86 1407.59 1567.56 Q1409.33 1566.26 1409.33 1563.78 Q1409.33 1561.49 1407.72 1560.2 Q1406.12 1558.9 1403.25 1558.9 L1400.23 1558.9 L1400.23 1556.02 L1403.39 1556.02 Q1405.98 1556.02 1407.35 1554.99 Q1408.72 1553.95 1408.72 1552.01 Q1408.72 1550.01 1407.3 1548.95 Q1405.89 1547.87 1403.25 1547.87 Q1401.81 1547.87 1400.16 1548.19 Q1398.52 1548.5 1396.54 1549.16 L1396.54 1546.03 Q1398.53 1545.48 1400.27 1545.2 Q1402.02 1544.92 1403.57 1544.92 Q1407.56 1544.92 1409.89 1546.75 Q1412.21 1548.55 1412.21 1551.64 Q1412.21 1553.79 1410.98 1555.29 Q1409.75 1556.76 1407.47 1557.34 Z\" fill=\"#000000\" fill-rule=\"evenodd\" fill-opacity=\"1\" /><path clip-path=\"url(#clip150)\" d=\"M 0 0 M1520.66 1558.69 L1542.92 1558.69 L1542.92 1561.64 L1520.66 1561.64 L1520.66 1558.69 Z\" fill=\"#000000\" fill-rule=\"evenodd\" fill-opacity=\"1\" /><path clip-path=\"url(#clip150)\" d=\"M 0 0 M1549.74 1568.36 L1561.98 1568.36 L1561.98 1571.31 L1545.53 1571.31 L1545.53 1568.36 Q1547.52 1566.29 1550.96 1562.82 Q1554.41 1559.33 1555.3 1558.33 Q1556.98 1556.43 1557.64 1555.13 Q1558.32 1553.81 1558.32 1552.54 Q1558.32 1550.48 1556.86 1549.18 Q1555.42 1547.87 1553.1 1547.87 Q1551.45 1547.87 1549.61 1548.45 Q1547.78 1549.02 1545.7 1550.18 L1545.7 1546.64 Q1547.82 1545.79 1549.66 1545.36 Q1551.5 1544.92 1553.03 1544.92 Q1557.05 1544.92 1559.45 1546.94 Q1561.85 1548.95 1561.85 1552.32 Q1561.85 1553.92 1561.24 1555.36 Q1560.65 1556.78 1559.07 1558.73 Q1558.63 1559.23 1556.31 1561.64 Q1553.98 1564.04 1549.74 1568.36 Z\" fill=\"#000000\" fill-rule=\"evenodd\" fill-opacity=\"1\" /><path clip-path=\"url(#clip150)\" d=\"M 0 0 M1670.05 1558.69 L1692.3 1558.69 L1692.3 1561.64 L1670.05 1561.64 L1670.05 1558.69 Z\" fill=\"#000000\" fill-rule=\"evenodd\" fill-opacity=\"1\" /><path clip-path=\"url(#clip150)\" d=\"M 0 0 M1696.71 1568.36 L1702.44 1568.36 L1702.44 1548.59 L1696.21 1549.84 L1696.21 1546.64 L1702.41 1545.39 L1705.91 1545.39 L1705.91 1568.36 L1711.64 1568.36 L1711.64 1571.31 L1696.71 1571.31 L1696.71 1568.36 Z\" fill=\"#000000\" fill-rule=\"evenodd\" fill-opacity=\"1\" /><path clip-path=\"url(#clip150)\" d=\"M 0 0 M1840.36 1547.7 Q1837.65 1547.7 1836.28 1550.37 Q1834.93 1553.03 1834.93 1558.38 Q1834.93 1563.71 1836.28 1566.38 Q1837.65 1569.04 1840.36 1569.04 Q1843.09 1569.04 1844.44 1566.38 Q1845.81 1563.71 1845.81 1558.38 Q1845.81 1553.03 1844.44 1550.37 Q1843.09 1547.7 1840.36 1547.7 M1840.36 1544.92 Q1844.72 1544.92 1847.01 1548.38 Q1849.32 1551.82 1849.32 1558.38 Q1849.32 1564.92 1847.01 1568.38 Q1844.72 1571.82 1840.36 1571.82 Q1836.01 1571.82 1833.7 1568.38 Q1831.4 1564.92 1831.4 1558.38 Q1831.4 1551.82 1833.7 1548.38 Q1836.01 1544.92 1840.36 1544.92 Z\" fill=\"#000000\" fill-rule=\"evenodd\" fill-opacity=\"1\" /><path clip-path=\"url(#clip150)\" d=\"M 0 0 M1982.67 1568.36 L1988.4 1568.36 L1988.4 1548.59 L1982.17 1549.84 L1982.17 1546.64 L1988.36 1545.39 L1991.87 1545.39 L1991.87 1568.36 L1997.6 1568.36 L1997.6 1571.31 L1982.67 1571.31 L1982.67 1568.36 Z\" fill=\"#000000\" fill-rule=\"evenodd\" fill-opacity=\"1\" /><path clip-path=\"url(#clip150)\" d=\"M 0 0 M2135.39 1568.36 L2147.63 1568.36 L2147.63 1571.31 L2131.17 1571.31 L2131.17 1568.36 Q2133.17 1566.29 2136.61 1562.82 Q2140.06 1559.33 2140.95 1558.33 Q2142.63 1556.43 2143.29 1555.13 Q2143.97 1553.81 2143.97 1552.54 Q2143.97 1550.48 2142.51 1549.18 Q2141.07 1547.87 2138.74 1547.87 Q2137.09 1547.87 2135.25 1548.45 Q2133.43 1549.02 2131.35 1550.18 L2131.35 1546.64 Q2133.46 1545.79 2135.3 1545.36 Q2137.14 1544.92 2138.67 1544.92 Q2142.7 1544.92 2145.1 1546.94 Q2147.49 1548.95 2147.49 1552.32 Q2147.49 1553.92 2146.88 1555.36 Q2146.29 1556.78 2144.71 1558.73 Q2144.28 1559.23 2141.95 1561.64 Q2139.63 1564.04 2135.39 1568.36 Z\" fill=\"#000000\" fill-rule=\"evenodd\" fill-opacity=\"1\" /><path clip-path=\"url(#clip150)\" d=\"M 0 0 M2292.11 1557.34 Q2294.62 1557.87 2296.03 1559.58 Q2297.45 1561.28 2297.45 1563.78 Q2297.45 1567.61 2294.82 1569.71 Q2292.18 1571.82 2287.32 1571.82 Q2285.68 1571.82 2283.95 1571.49 Q2282.23 1571.17 2280.39 1570.53 L2280.39 1567.15 Q2281.85 1568 2283.58 1568.43 Q2285.32 1568.86 2287.21 1568.86 Q2290.51 1568.86 2292.23 1567.56 Q2293.96 1566.26 2293.96 1563.78 Q2293.96 1561.49 2292.35 1560.2 Q2290.75 1558.9 2287.89 1558.9 L2284.87 1558.9 L2284.87 1556.02 L2288.03 1556.02 Q2290.61 1556.02 2291.99 1554.99 Q2293.36 1553.95 2293.36 1552.01 Q2293.36 1550.01 2291.93 1548.95 Q2290.53 1547.87 2287.89 1547.87 Q2286.45 1547.87 2284.8 1548.19 Q2283.15 1548.5 2281.17 1549.16 L2281.17 1546.03 Q2283.17 1545.48 2284.9 1545.2 Q2286.66 1544.92 2288.2 1544.92 Q2292.19 1544.92 2294.52 1546.75 Q2296.85 1548.55 2296.85 1551.64 Q2296.85 1553.79 2295.61 1555.29 Q2294.38 1556.76 2292.11 1557.34 Z\" fill=\"#000000\" fill-rule=\"evenodd\" fill-opacity=\"1\" /><polyline clip-path=\"url(#clip153)\" style=\"stroke:#000000; stroke-width:2; stroke-opacity:0.1; fill:none\" points=\"\n",
       "  1286.99,1479.05 2352.76,1479.05 \n",
       "  \"/>\n",
       "<polyline clip-path=\"url(#clip153)\" style=\"stroke:#000000; stroke-width:2; stroke-opacity:0.1; fill:none\" points=\"\n",
       "  1286.99,1164.62 2352.76,1164.62 \n",
       "  \"/>\n",
       "<polyline clip-path=\"url(#clip153)\" style=\"stroke:#000000; stroke-width:2; stroke-opacity:0.1; fill:none\" points=\"\n",
       "  1286.99,850.196 2352.76,850.196 \n",
       "  \"/>\n",
       "<polyline clip-path=\"url(#clip153)\" style=\"stroke:#000000; stroke-width:2; stroke-opacity:0.1; fill:none\" points=\"\n",
       "  1286.99,535.771 2352.76,535.771 \n",
       "  \"/>\n",
       "<polyline clip-path=\"url(#clip153)\" style=\"stroke:#000000; stroke-width:2; stroke-opacity:0.1; fill:none\" points=\"\n",
       "  1286.99,221.346 2352.76,221.346 \n",
       "  \"/>\n",
       "<polyline clip-path=\"url(#clip150)\" style=\"stroke:#000000; stroke-width:4; stroke-opacity:1; fill:none\" points=\"\n",
       "  1286.99,1521.01 1286.99,62.9921 \n",
       "  \"/>\n",
       "<polyline clip-path=\"url(#clip150)\" style=\"stroke:#000000; stroke-width:4; stroke-opacity:1; fill:none\" points=\"\n",
       "  1286.99,1479.05 1299.78,1479.05 \n",
       "  \"/>\n",
       "<polyline clip-path=\"url(#clip150)\" style=\"stroke:#000000; stroke-width:4; stroke-opacity:1; fill:none\" points=\"\n",
       "  1286.99,1164.62 1299.78,1164.62 \n",
       "  \"/>\n",
       "<polyline clip-path=\"url(#clip150)\" style=\"stroke:#000000; stroke-width:4; stroke-opacity:1; fill:none\" points=\"\n",
       "  1286.99,850.196 1299.78,850.196 \n",
       "  \"/>\n",
       "<polyline clip-path=\"url(#clip150)\" style=\"stroke:#000000; stroke-width:4; stroke-opacity:1; fill:none\" points=\"\n",
       "  1286.99,535.771 1299.78,535.771 \n",
       "  \"/>\n",
       "<polyline clip-path=\"url(#clip150)\" style=\"stroke:#000000; stroke-width:4; stroke-opacity:1; fill:none\" points=\"\n",
       "  1286.99,221.346 1299.78,221.346 \n",
       "  \"/>\n",
       "<path clip-path=\"url(#clip150)\" d=\"M 0 0 M1158.56 1479.5 L1188.24 1479.5 L1188.24 1483.43 L1158.56 1483.43 L1158.56 1479.5 Z\" fill=\"#000000\" fill-rule=\"evenodd\" fill-opacity=\"1\" /><path clip-path=\"url(#clip150)\" d=\"M 0 0 M1194.12 1492.39 L1201.76 1492.39 L1201.76 1466.03 L1193.45 1467.69 L1193.45 1463.43 L1201.71 1461.77 L1206.39 1461.77 L1206.39 1492.39 L1214.02 1492.39 L1214.02 1496.33 L1194.12 1496.33 L1194.12 1492.39 Z\" fill=\"#000000\" fill-rule=\"evenodd\" fill-opacity=\"1\" /><path clip-path=\"url(#clip150)\" d=\"M 0 0 M1219.09 1490.45 L1223.98 1490.45 L1223.98 1496.33 L1219.09 1496.33 L1219.09 1490.45 Z\" fill=\"#000000\" fill-rule=\"evenodd\" fill-opacity=\"1\" /><path clip-path=\"url(#clip150)\" d=\"M 0 0 M1239.05 1464.85 Q1235.44 1464.85 1233.61 1468.41 Q1231.8 1471.95 1231.8 1479.08 Q1231.8 1486.19 1233.61 1489.75 Q1235.44 1493.29 1239.05 1493.29 Q1242.68 1493.29 1244.49 1489.75 Q1246.32 1486.19 1246.32 1479.08 Q1246.32 1471.95 1244.49 1468.41 Q1242.68 1464.85 1239.05 1464.85 M1239.05 1461.14 Q1244.86 1461.14 1247.91 1465.75 Q1250.99 1470.33 1250.99 1479.08 Q1250.99 1487.81 1247.91 1492.41 Q1244.86 1497 1239.05 1497 Q1233.24 1497 1230.16 1492.41 Q1227.1 1487.81 1227.1 1479.08 Q1227.1 1470.33 1230.16 1465.75 Q1233.24 1461.14 1239.05 1461.14 Z\" fill=\"#000000\" fill-rule=\"evenodd\" fill-opacity=\"1\" /><path clip-path=\"url(#clip150)\" d=\"M 0 0 M1158.33 1165.07 L1188.01 1165.07 L1188.01 1169.01 L1158.33 1169.01 L1158.33 1165.07 Z\" fill=\"#000000\" fill-rule=\"evenodd\" fill-opacity=\"1\" /><path clip-path=\"url(#clip150)\" d=\"M 0 0 M1203.08 1150.42 Q1199.46 1150.42 1197.64 1153.98 Q1195.83 1157.53 1195.83 1164.66 Q1195.83 1171.76 1197.64 1175.33 Q1199.46 1178.87 1203.08 1178.87 Q1206.71 1178.87 1208.52 1175.33 Q1210.34 1171.76 1210.34 1164.66 Q1210.34 1157.53 1208.52 1153.98 Q1206.71 1150.42 1203.08 1150.42 M1203.08 1146.72 Q1208.89 1146.72 1211.94 1151.32 Q1215.02 1155.91 1215.02 1164.66 Q1215.02 1173.38 1211.94 1177.99 Q1208.89 1182.57 1203.08 1182.57 Q1197.27 1182.57 1194.19 1177.99 Q1191.13 1173.38 1191.13 1164.66 Q1191.13 1155.91 1194.19 1151.32 Q1197.27 1146.72 1203.08 1146.72 Z\" fill=\"#000000\" fill-rule=\"evenodd\" fill-opacity=\"1\" /><path clip-path=\"url(#clip150)\" d=\"M 0 0 M1220.09 1176.02 L1224.97 1176.02 L1224.97 1181.9 L1220.09 1181.9 L1220.09 1176.02 Z\" fill=\"#000000\" fill-rule=\"evenodd\" fill-opacity=\"1\" /><path clip-path=\"url(#clip150)\" d=\"M 0 0 M1230.09 1147.34 L1248.45 1147.34 L1248.45 1151.28 L1234.37 1151.28 L1234.37 1159.75 Q1235.39 1159.4 1236.41 1159.24 Q1237.43 1159.05 1238.45 1159.05 Q1244.23 1159.05 1247.61 1162.23 Q1250.99 1165.4 1250.99 1170.81 Q1250.99 1176.39 1247.52 1179.49 Q1244.05 1182.57 1237.73 1182.57 Q1235.55 1182.57 1233.28 1182.2 Q1231.04 1181.83 1228.63 1181.09 L1228.63 1176.39 Q1230.71 1177.53 1232.94 1178.08 Q1235.16 1178.64 1237.64 1178.64 Q1241.64 1178.64 1243.98 1176.53 Q1246.32 1174.42 1246.32 1170.81 Q1246.32 1167.2 1243.98 1165.1 Q1241.64 1162.99 1237.64 1162.99 Q1235.76 1162.99 1233.89 1163.41 Q1232.03 1163.82 1230.09 1164.7 L1230.09 1147.34 Z\" fill=\"#000000\" fill-rule=\"evenodd\" fill-opacity=\"1\" /><path clip-path=\"url(#clip150)\" d=\"M 0 0 M1202.08 835.995 Q1198.47 835.995 1196.64 839.56 Q1194.84 843.101 1194.84 850.231 Q1194.84 857.337 1196.64 860.902 Q1198.47 864.444 1202.08 864.444 Q1205.71 864.444 1207.52 860.902 Q1209.35 857.337 1209.35 850.231 Q1209.35 843.101 1207.52 839.56 Q1205.71 835.995 1202.08 835.995 M1202.08 832.291 Q1207.89 832.291 1210.95 836.898 Q1214.02 841.481 1214.02 850.231 Q1214.02 858.958 1210.95 863.564 Q1207.89 868.147 1202.08 868.147 Q1196.27 868.147 1193.19 863.564 Q1190.14 858.958 1190.14 850.231 Q1190.14 841.481 1193.19 836.898 Q1196.27 832.291 1202.08 832.291 Z\" fill=\"#000000\" fill-rule=\"evenodd\" fill-opacity=\"1\" /><path clip-path=\"url(#clip150)\" d=\"M 0 0 M1219.09 861.597 L1223.98 861.597 L1223.98 867.476 L1219.09 867.476 L1219.09 861.597 Z\" fill=\"#000000\" fill-rule=\"evenodd\" fill-opacity=\"1\" /><path clip-path=\"url(#clip150)\" d=\"M 0 0 M1239.05 835.995 Q1235.44 835.995 1233.61 839.56 Q1231.8 843.101 1231.8 850.231 Q1231.8 857.337 1233.61 860.902 Q1235.44 864.444 1239.05 864.444 Q1242.68 864.444 1244.49 860.902 Q1246.32 857.337 1246.32 850.231 Q1246.32 843.101 1244.49 839.56 Q1242.68 835.995 1239.05 835.995 M1239.05 832.291 Q1244.86 832.291 1247.91 836.898 Q1250.99 841.481 1250.99 850.231 Q1250.99 858.958 1247.91 863.564 Q1244.86 868.147 1239.05 868.147 Q1233.24 868.147 1230.16 863.564 Q1227.1 858.958 1227.1 850.231 Q1227.1 841.481 1230.16 836.898 Q1233.24 832.291 1239.05 832.291 Z\" fill=\"#000000\" fill-rule=\"evenodd\" fill-opacity=\"1\" /><path clip-path=\"url(#clip150)\" d=\"M 0 0 M1203.08 521.57 Q1199.46 521.57 1197.64 525.134 Q1195.83 528.676 1195.83 535.806 Q1195.83 542.912 1197.64 546.477 Q1199.46 550.018 1203.08 550.018 Q1206.71 550.018 1208.52 546.477 Q1210.34 542.912 1210.34 535.806 Q1210.34 528.676 1208.52 525.134 Q1206.71 521.57 1203.08 521.57 M1203.08 517.866 Q1208.89 517.866 1211.94 522.472 Q1215.02 527.056 1215.02 535.806 Q1215.02 544.532 1211.94 549.139 Q1208.89 553.722 1203.08 553.722 Q1197.27 553.722 1194.19 549.139 Q1191.13 544.532 1191.13 535.806 Q1191.13 527.056 1194.19 522.472 Q1197.27 517.866 1203.08 517.866 Z\" fill=\"#000000\" fill-rule=\"evenodd\" fill-opacity=\"1\" /><path clip-path=\"url(#clip150)\" d=\"M 0 0 M1220.09 547.171 L1224.97 547.171 L1224.97 553.051 L1220.09 553.051 L1220.09 547.171 Z\" fill=\"#000000\" fill-rule=\"evenodd\" fill-opacity=\"1\" /><path clip-path=\"url(#clip150)\" d=\"M 0 0 M1230.09 518.491 L1248.45 518.491 L1248.45 522.426 L1234.37 522.426 L1234.37 530.898 Q1235.39 530.551 1236.41 530.389 Q1237.43 530.204 1238.45 530.204 Q1244.23 530.204 1247.61 533.375 Q1250.99 536.546 1250.99 541.963 Q1250.99 547.542 1247.52 550.643 Q1244.05 553.722 1237.73 553.722 Q1235.55 553.722 1233.28 553.352 Q1231.04 552.981 1228.63 552.241 L1228.63 547.542 Q1230.71 548.676 1232.94 549.231 Q1235.16 549.787 1237.64 549.787 Q1241.64 549.787 1243.98 547.68 Q1246.32 545.574 1246.32 541.963 Q1246.32 538.352 1243.98 536.245 Q1241.64 534.139 1237.64 534.139 Q1235.76 534.139 1233.89 534.556 Q1232.03 534.972 1230.09 535.852 L1230.09 518.491 Z\" fill=\"#000000\" fill-rule=\"evenodd\" fill-opacity=\"1\" /><path clip-path=\"url(#clip150)\" d=\"M 0 0 M1194.12 234.69 L1201.76 234.69 L1201.76 208.325 L1193.45 209.991 L1193.45 205.732 L1201.71 204.066 L1206.39 204.066 L1206.39 234.69 L1214.02 234.69 L1214.02 238.626 L1194.12 238.626 L1194.12 234.69 Z\" fill=\"#000000\" fill-rule=\"evenodd\" fill-opacity=\"1\" /><path clip-path=\"url(#clip150)\" d=\"M 0 0 M1219.09 232.746 L1223.98 232.746 L1223.98 238.626 L1219.09 238.626 L1219.09 232.746 Z\" fill=\"#000000\" fill-rule=\"evenodd\" fill-opacity=\"1\" /><path clip-path=\"url(#clip150)\" d=\"M 0 0 M1239.05 207.144 Q1235.44 207.144 1233.61 210.709 Q1231.8 214.251 1231.8 221.38 Q1231.8 228.487 1233.61 232.051 Q1235.44 235.593 1239.05 235.593 Q1242.68 235.593 1244.49 232.051 Q1246.32 228.487 1246.32 221.38 Q1246.32 214.251 1244.49 210.709 Q1242.68 207.144 1239.05 207.144 M1239.05 203.441 Q1244.86 203.441 1247.91 208.047 Q1250.99 212.63 1250.99 221.38 Q1250.99 230.107 1247.91 234.713 Q1244.86 239.297 1239.05 239.297 Q1233.24 239.297 1230.16 234.713 Q1227.1 230.107 1227.1 221.38 Q1227.1 212.63 1230.16 208.047 Q1233.24 203.441 1239.05 203.441 Z\" fill=\"#000000\" fill-rule=\"evenodd\" fill-opacity=\"1\" /><path clip-path=\"url(#clip150)\" d=\"M 0 0 M1610.53 6.912 L1630.4 6.912 L1630.4 10.8472 L1615.21 10.8472 L1615.21 21.0323 L1628.91 21.0323 L1628.91 24.9675 L1615.21 24.9675 L1615.21 41.472 L1610.53 41.472 L1610.53 6.912 Z\" fill=\"#000000\" fill-rule=\"evenodd\" fill-opacity=\"1\" /><path clip-path=\"url(#clip150)\" d=\"M 0 0 M1631.83 31.2406 L1631.83 15.5462 L1636.09 15.5462 L1636.09 31.0785 Q1636.09 34.7591 1637.53 36.6109 Q1638.96 38.4396 1641.83 38.4396 Q1645.28 38.4396 1647.27 36.2405 Q1649.28 34.0415 1649.28 30.2452 L1649.28 15.5462 L1653.54 15.5462 L1653.54 41.472 L1649.28 41.472 L1649.28 37.4905 Q1647.73 39.8516 1645.67 41.009 Q1643.64 42.1433 1640.93 42.1433 Q1636.46 42.1433 1634.15 39.3655 Q1631.83 36.5878 1631.83 31.2406 M1642.55 14.9212 L1642.55 14.9212 Z\" fill=\"#000000\" fill-rule=\"evenodd\" fill-opacity=\"1\" /><path clip-path=\"url(#clip150)\" d=\"M 0 0 M1656.16 15.5462 L1676.39 15.5462 L1676.39 19.4351 L1660.37 38.0692 L1676.39 38.0692 L1676.39 41.472 L1655.58 41.472 L1655.58 37.5831 L1671.6 18.949 L1656.16 18.949 L1656.16 15.5462 Z\" fill=\"#000000\" fill-rule=\"evenodd\" fill-opacity=\"1\" /><path clip-path=\"url(#clip150)\" d=\"M 0 0 M1679.01 15.5462 L1699.24 15.5462 L1699.24 19.4351 L1683.22 38.0692 L1699.24 38.0692 L1699.24 41.472 L1678.43 41.472 L1678.43 37.5831 L1694.45 18.949 L1679.01 18.949 L1679.01 15.5462 Z\" fill=\"#000000\" fill-rule=\"evenodd\" fill-opacity=\"1\" /><path clip-path=\"url(#clip150)\" d=\"M 0 0 M1714.49 43.8794 Q1712.69 48.509 1710.97 49.921 Q1709.26 51.3331 1706.39 51.3331 L1702.99 51.3331 L1702.99 47.7683 L1705.49 47.7683 Q1707.25 47.7683 1708.22 46.9349 Q1709.19 46.1016 1710.37 42.9998 L1711.14 41.0553 L1700.65 15.5462 L1705.16 15.5462 L1713.27 35.8239 L1721.37 15.5462 L1725.88 15.5462 L1714.49 43.8794 Z\" fill=\"#000000\" fill-rule=\"evenodd\" fill-opacity=\"1\" /><path clip-path=\"url(#clip150)\" d=\"M 0 0 M1742.09 11.5185 L1735.74 28.7174 L1748.45 28.7174 L1742.09 11.5185 M1739.45 6.912 L1744.75 6.912 L1757.92 41.472 L1753.06 41.472 L1749.91 32.6063 L1734.33 32.6063 L1731.18 41.472 L1726.25 41.472 L1739.45 6.912 Z\" fill=\"#000000\" fill-rule=\"evenodd\" fill-opacity=\"1\" /><path clip-path=\"url(#clip150)\" d=\"M 0 0 M1778.96 25.2684 Q1780.46 25.7776 1781.88 27.4443 Q1783.31 29.111 1784.75 32.0276 L1789.49 41.472 L1784.47 41.472 L1780.05 32.6063 Q1778.33 29.1341 1776.71 27.9998 Q1775.12 26.8656 1772.34 26.8656 L1767.25 26.8656 L1767.25 41.472 L1762.57 41.472 L1762.57 6.912 L1773.13 6.912 Q1779.05 6.912 1781.97 9.38884 Q1784.89 11.8657 1784.89 16.8657 Q1784.89 20.1295 1783.36 22.2823 Q1781.85 24.4351 1778.96 25.2684 M1767.25 10.7546 L1767.25 23.023 L1773.13 23.023 Q1776.51 23.023 1778.22 21.4721 Q1779.96 19.898 1779.96 16.8657 Q1779.96 13.8333 1778.22 12.3055 Q1776.51 10.7546 1773.13 10.7546 L1767.25 10.7546 Z\" fill=\"#000000\" fill-rule=\"evenodd\" fill-opacity=\"1\" /><path clip-path=\"url(#clip150)\" d=\"M 0 0 M1785.9 6.912 L1815.14 6.912 L1815.14 10.8472 L1802.87 10.8472 L1802.87 41.472 L1798.17 41.472 L1798.17 10.8472 L1785.9 10.8472 L1785.9 6.912 Z\" fill=\"#000000\" fill-rule=\"evenodd\" fill-opacity=\"1\" /><path clip-path=\"url(#clip150)\" d=\"M 0 0 M1849.7 19.5277 Q1848.98 19.111 1848.13 18.9258 Q1847.29 18.7175 1846.27 18.7175 Q1842.66 18.7175 1840.72 21.0786 Q1838.8 23.4165 1838.8 27.8147 L1838.8 41.472 L1834.52 41.472 L1834.52 15.5462 L1838.8 15.5462 L1838.8 19.574 Q1840.14 17.2129 1842.29 16.0786 Q1844.45 14.9212 1847.52 14.9212 Q1847.96 14.9212 1848.5 14.9907 Q1849.03 15.037 1849.68 15.1527 L1849.7 19.5277 Z\" fill=\"#000000\" fill-rule=\"evenodd\" fill-opacity=\"1\" /><path clip-path=\"url(#clip150)\" d=\"M 0 0 M1874.89 25.8239 L1874.89 41.472 L1870.63 41.472 L1870.63 25.9628 Q1870.63 22.2823 1869.19 20.4536 Q1867.76 18.6249 1864.89 18.6249 Q1861.44 18.6249 1859.45 20.824 Q1857.45 23.023 1857.45 26.8193 L1857.45 41.472 L1853.17 41.472 L1853.17 5.45367 L1857.45 5.45367 L1857.45 19.574 Q1858.98 17.236 1861.04 16.0786 Q1863.13 14.9212 1865.83 14.9212 Q1870.3 14.9212 1872.59 17.699 Q1874.89 20.4536 1874.89 25.8239 Z\" fill=\"#000000\" fill-rule=\"evenodd\" fill-opacity=\"1\" /><path clip-path=\"url(#clip150)\" d=\"M 0 0 M1889.4 18.5323 Q1885.97 18.5323 1883.98 21.2175 Q1881.99 23.8795 1881.99 28.5323 Q1881.99 33.185 1883.96 35.8702 Q1885.95 38.5322 1889.4 38.5322 Q1892.8 38.5322 1894.79 35.847 Q1896.78 33.1619 1896.78 28.5323 Q1896.78 23.9258 1894.79 21.2406 Q1892.8 18.5323 1889.4 18.5323 M1889.4 14.9212 Q1894.95 14.9212 1898.13 18.5323 Q1901.3 22.1434 1901.3 28.5323 Q1901.3 34.898 1898.13 38.5322 Q1894.95 42.1433 1889.4 42.1433 Q1883.82 42.1433 1880.65 38.5322 Q1877.5 34.898 1877.5 28.5323 Q1877.5 22.1434 1880.65 18.5323 Q1883.82 14.9212 1889.4 14.9212 Z\" fill=\"#000000\" fill-rule=\"evenodd\" fill-opacity=\"1\" /><path clip-path=\"url(#clip150)\" d=\"M 0 0 M1921.39 19.9443 L1951.07 19.9443 L1951.07 23.8332 L1921.39 23.8332 L1921.39 19.9443 M1921.39 29.3887 L1951.07 29.3887 L1951.07 33.3239 L1921.39 33.3239 L1921.39 29.3887 Z\" fill=\"#000000\" fill-rule=\"evenodd\" fill-opacity=\"1\" /><path clip-path=\"url(#clip150)\" d=\"M 0 0 M1981.2 9.99069 Q1977.59 9.99069 1975.76 13.5555 Q1973.96 17.0971 1973.96 24.2267 Q1973.96 31.3332 1975.76 34.898 Q1977.59 38.4396 1981.2 38.4396 Q1984.84 38.4396 1986.64 34.898 Q1988.47 31.3332 1988.47 24.2267 Q1988.47 17.0971 1986.64 13.5555 Q1984.84 9.99069 1981.2 9.99069 M1981.2 6.287 Q1987.01 6.287 1990.07 10.8935 Q1993.15 15.4768 1993.15 24.2267 Q1993.15 32.9535 1990.07 37.56 Q1987.01 42.1433 1981.2 42.1433 Q1975.39 42.1433 1972.32 37.56 Q1969.26 32.9535 1969.26 24.2267 Q1969.26 15.4768 1972.32 10.8935 Q1975.39 6.287 1981.2 6.287 Z\" fill=\"#000000\" fill-rule=\"evenodd\" fill-opacity=\"1\" /><path clip-path=\"url(#clip150)\" d=\"M 0 0 M1998.22 35.5924 L2003.1 35.5924 L2003.1 41.472 L1998.22 41.472 L1998.22 35.5924 Z\" fill=\"#000000\" fill-rule=\"evenodd\" fill-opacity=\"1\" /><path clip-path=\"url(#clip150)\" d=\"M 0 0 M2006.99 6.912 L2029.21 6.912 L2029.21 8.90273 L2016.67 41.472 L2011.78 41.472 L2023.59 10.8472 L2006.99 10.8472 L2006.99 6.912 Z\" fill=\"#000000\" fill-rule=\"evenodd\" fill-opacity=\"1\" /><circle clip-path=\"url(#clip153)\" cx=\"2322.59\" cy=\"1166.68\" r=\"14\" fill=\"#009af9\" fill-rule=\"evenodd\" fill-opacity=\"1\" stroke=\"#000000\" stroke-opacity=\"1\" stroke-width=\"3.2\"/>\n",
       "<circle clip-path=\"url(#clip153)\" cx=\"2288.67\" cy=\"1060.43\" r=\"14\" fill=\"#009af9\" fill-rule=\"evenodd\" fill-opacity=\"1\" stroke=\"#000000\" stroke-opacity=\"1\" stroke-width=\"3.2\"/>\n",
       "<circle clip-path=\"url(#clip153)\" cx=\"2220.54\" cy=\"481.513\" r=\"14\" fill=\"#009af9\" fill-rule=\"evenodd\" fill-opacity=\"1\" stroke=\"#000000\" stroke-opacity=\"1\" stroke-width=\"3.2\"/>\n",
       "<circle clip-path=\"url(#clip153)\" cx=\"2241.7\" cy=\"644.809\" r=\"14\" fill=\"#009af9\" fill-rule=\"evenodd\" fill-opacity=\"1\" stroke=\"#000000\" stroke-opacity=\"1\" stroke-width=\"3.2\"/>\n",
       "<circle clip-path=\"url(#clip153)\" cx=\"2234.02\" cy=\"969.725\" r=\"14\" fill=\"#009af9\" fill-rule=\"evenodd\" fill-opacity=\"1\" stroke=\"#000000\" stroke-opacity=\"1\" stroke-width=\"3.2\"/>\n",
       "<circle clip-path=\"url(#clip153)\" cx=\"2266.82\" cy=\"1436.83\" r=\"14\" fill=\"#009af9\" fill-rule=\"evenodd\" fill-opacity=\"1\" stroke=\"#000000\" stroke-opacity=\"1\" stroke-width=\"3.2\"/>\n",
       "<circle clip-path=\"url(#clip153)\" cx=\"2240.15\" cy=\"917.289\" r=\"14\" fill=\"#009af9\" fill-rule=\"evenodd\" fill-opacity=\"1\" stroke=\"#000000\" stroke-opacity=\"1\" stroke-width=\"3.2\"/>\n",
       "<circle clip-path=\"url(#clip153)\" cx=\"2235.62\" cy=\"104.257\" r=\"14\" fill=\"#009af9\" fill-rule=\"evenodd\" fill-opacity=\"1\" stroke=\"#000000\" stroke-opacity=\"1\" stroke-width=\"3.2\"/>\n",
       "<circle clip-path=\"url(#clip153)\" cx=\"2227.39\" cy=\"974.327\" r=\"14\" fill=\"#009af9\" fill-rule=\"evenodd\" fill-opacity=\"1\" stroke=\"#000000\" stroke-opacity=\"1\" stroke-width=\"3.2\"/>\n",
       "<circle clip-path=\"url(#clip153)\" cx=\"2286.21\" cy=\"1152.2\" r=\"14\" fill=\"#009af9\" fill-rule=\"evenodd\" fill-opacity=\"1\" stroke=\"#000000\" stroke-opacity=\"1\" stroke-width=\"3.2\"/>\n",
       "<circle clip-path=\"url(#clip153)\" cx=\"2257.14\" cy=\"993.411\" r=\"14\" fill=\"#009af9\" fill-rule=\"evenodd\" fill-opacity=\"1\" stroke=\"#000000\" stroke-opacity=\"1\" stroke-width=\"3.2\"/>\n",
       "<circle clip-path=\"url(#clip153)\" cx=\"2246.41\" cy=\"1002.81\" r=\"14\" fill=\"#009af9\" fill-rule=\"evenodd\" fill-opacity=\"1\" stroke=\"#000000\" stroke-opacity=\"1\" stroke-width=\"3.2\"/>\n",
       "<circle clip-path=\"url(#clip153)\" cx=\"2200.03\" cy=\"726.993\" r=\"14\" fill=\"#009af9\" fill-rule=\"evenodd\" fill-opacity=\"1\" stroke=\"#000000\" stroke-opacity=\"1\" stroke-width=\"3.2\"/>\n",
       "<circle clip-path=\"url(#clip153)\" cx=\"2192.66\" cy=\"869.822\" r=\"14\" fill=\"#009af9\" fill-rule=\"evenodd\" fill-opacity=\"1\" stroke=\"#000000\" stroke-opacity=\"1\" stroke-width=\"3.2\"/>\n",
       "<circle clip-path=\"url(#clip153)\" cx=\"2227.22\" cy=\"522.896\" r=\"14\" fill=\"#009af9\" fill-rule=\"evenodd\" fill-opacity=\"1\" stroke=\"#000000\" stroke-opacity=\"1\" stroke-width=\"3.2\"/>\n",
       "<circle clip-path=\"url(#clip153)\" cx=\"1570.88\" cy=\"986.125\" r=\"14\" fill=\"#e26f46\" fill-rule=\"evenodd\" fill-opacity=\"1\" stroke=\"#000000\" stroke-opacity=\"1\" stroke-width=\"3.2\"/>\n",
       "<circle clip-path=\"url(#clip153)\" cx=\"1648.26\" cy=\"419.157\" r=\"14\" fill=\"#e26f46\" fill-rule=\"evenodd\" fill-opacity=\"1\" stroke=\"#000000\" stroke-opacity=\"1\" stroke-width=\"3.2\"/>\n",
       "<circle clip-path=\"url(#clip153)\" cx=\"1841.89\" cy=\"1303.33\" r=\"14\" fill=\"#e26f46\" fill-rule=\"evenodd\" fill-opacity=\"1\" stroke=\"#000000\" stroke-opacity=\"1\" stroke-width=\"3.2\"/>\n",
       "<circle clip-path=\"url(#clip153)\" cx=\"1657.89\" cy=\"593.603\" r=\"14\" fill=\"#e26f46\" fill-rule=\"evenodd\" fill-opacity=\"1\" stroke=\"#000000\" stroke-opacity=\"1\" stroke-width=\"3.2\"/>\n",
       "<circle clip-path=\"url(#clip153)\" cx=\"1787.02\" cy=\"892.218\" r=\"14\" fill=\"#e26f46\" fill-rule=\"evenodd\" fill-opacity=\"1\" stroke=\"#000000\" stroke-opacity=\"1\" stroke-width=\"3.2\"/>\n",
       "<circle clip-path=\"url(#clip153)\" cx=\"1976.2\" cy=\"1322.82\" r=\"14\" fill=\"#e26f46\" fill-rule=\"evenodd\" fill-opacity=\"1\" stroke=\"#000000\" stroke-opacity=\"1\" stroke-width=\"3.2\"/>\n",
       "<circle clip-path=\"url(#clip153)\" cx=\"1493.53\" cy=\"1004.61\" r=\"14\" fill=\"#e26f46\" fill-rule=\"evenodd\" fill-opacity=\"1\" stroke=\"#000000\" stroke-opacity=\"1\" stroke-width=\"3.2\"/>\n",
       "<circle clip-path=\"url(#clip153)\" cx=\"1684.37\" cy=\"706.216\" r=\"14\" fill=\"#e26f46\" fill-rule=\"evenodd\" fill-opacity=\"1\" stroke=\"#000000\" stroke-opacity=\"1\" stroke-width=\"3.2\"/>\n",
       "<circle clip-path=\"url(#clip153)\" cx=\"1718.82\" cy=\"1083.3\" r=\"14\" fill=\"#e26f46\" fill-rule=\"evenodd\" fill-opacity=\"1\" stroke=\"#000000\" stroke-opacity=\"1\" stroke-width=\"3.2\"/>\n",
       "<circle clip-path=\"url(#clip153)\" cx=\"1952.72\" cy=\"1479.74\" r=\"14\" fill=\"#e26f46\" fill-rule=\"evenodd\" fill-opacity=\"1\" stroke=\"#000000\" stroke-opacity=\"1\" stroke-width=\"3.2\"/>\n",
       "<circle clip-path=\"url(#clip153)\" cx=\"1771.13\" cy=\"1271.23\" r=\"14\" fill=\"#e26f46\" fill-rule=\"evenodd\" fill-opacity=\"1\" stroke=\"#000000\" stroke-opacity=\"1\" stroke-width=\"3.2\"/>\n",
       "<circle clip-path=\"url(#clip153)\" cx=\"1676.61\" cy=\"671.671\" r=\"14\" fill=\"#e26f46\" fill-rule=\"evenodd\" fill-opacity=\"1\" stroke=\"#000000\" stroke-opacity=\"1\" stroke-width=\"3.2\"/>\n",
       "<circle clip-path=\"url(#clip153)\" cx=\"1803.7\" cy=\"1017.93\" r=\"14\" fill=\"#e26f46\" fill-rule=\"evenodd\" fill-opacity=\"1\" stroke=\"#000000\" stroke-opacity=\"1\" stroke-width=\"3.2\"/>\n",
       "<circle clip-path=\"url(#clip153)\" cx=\"1718.89\" cy=\"952.278\" r=\"14\" fill=\"#e26f46\" fill-rule=\"evenodd\" fill-opacity=\"1\" stroke=\"#000000\" stroke-opacity=\"1\" stroke-width=\"3.2\"/>\n",
       "<circle clip-path=\"url(#clip153)\" cx=\"1733.61\" cy=\"755.63\" r=\"14\" fill=\"#e26f46\" fill-rule=\"evenodd\" fill-opacity=\"1\" stroke=\"#000000\" stroke-opacity=\"1\" stroke-width=\"3.2\"/>\n",
       "<circle clip-path=\"url(#clip153)\" cx=\"1815.77\" cy=\"1277.6\" r=\"14\" fill=\"#e26f46\" fill-rule=\"evenodd\" fill-opacity=\"1\" stroke=\"#000000\" stroke-opacity=\"1\" stroke-width=\"3.2\"/>\n",
       "<circle clip-path=\"url(#clip153)\" cx=\"1517.59\" cy=\"987.49\" r=\"14\" fill=\"#3da44d\" fill-rule=\"evenodd\" fill-opacity=\"1\" stroke=\"#000000\" stroke-opacity=\"1\" stroke-width=\"3.2\"/>\n",
       "<circle clip-path=\"url(#clip153)\" cx=\"1639.32\" cy=\"1338.45\" r=\"14\" fill=\"#3da44d\" fill-rule=\"evenodd\" fill-opacity=\"1\" stroke=\"#000000\" stroke-opacity=\"1\" stroke-width=\"3.2\"/>\n",
       "<circle clip-path=\"url(#clip153)\" cx=\"1401.97\" cy=\"628.604\" r=\"14\" fill=\"#3da44d\" fill-rule=\"evenodd\" fill-opacity=\"1\" stroke=\"#000000\" stroke-opacity=\"1\" stroke-width=\"3.2\"/>\n",
       "<circle clip-path=\"url(#clip153)\" cx=\"1449.49\" cy=\"499.067\" r=\"14\" fill=\"#3da44d\" fill-rule=\"evenodd\" fill-opacity=\"1\" stroke=\"#000000\" stroke-opacity=\"1\" stroke-width=\"3.2\"/>\n",
       "<circle clip-path=\"url(#clip153)\" cx=\"1318.73\" cy=\"113.47\" r=\"14\" fill=\"#3da44d\" fill-rule=\"evenodd\" fill-opacity=\"1\" stroke=\"#000000\" stroke-opacity=\"1\" stroke-width=\"3.2\"/>\n",
       "<circle clip-path=\"url(#clip153)\" cx=\"1519.65\" cy=\"762.845\" r=\"14\" fill=\"#3da44d\" fill-rule=\"evenodd\" fill-opacity=\"1\" stroke=\"#000000\" stroke-opacity=\"1\" stroke-width=\"3.2\"/>\n",
       "<circle clip-path=\"url(#clip153)\" cx=\"1591.87\" cy=\"697.99\" r=\"14\" fill=\"#3da44d\" fill-rule=\"evenodd\" fill-opacity=\"1\" stroke=\"#000000\" stroke-opacity=\"1\" stroke-width=\"3.2\"/>\n",
       "<circle clip-path=\"url(#clip153)\" cx=\"1628.93\" cy=\"1211.74\" r=\"14\" fill=\"#3da44d\" fill-rule=\"evenodd\" fill-opacity=\"1\" stroke=\"#000000\" stroke-opacity=\"1\" stroke-width=\"3.2\"/>\n",
       "<circle clip-path=\"url(#clip153)\" cx=\"1380.36\" cy=\"418.953\" r=\"14\" fill=\"#3da44d\" fill-rule=\"evenodd\" fill-opacity=\"1\" stroke=\"#000000\" stroke-opacity=\"1\" stroke-width=\"3.2\"/>\n",
       "<circle clip-path=\"url(#clip153)\" cx=\"1632.58\" cy=\"1028.09\" r=\"14\" fill=\"#3da44d\" fill-rule=\"evenodd\" fill-opacity=\"1\" stroke=\"#000000\" stroke-opacity=\"1\" stroke-width=\"3.2\"/>\n",
       "<circle clip-path=\"url(#clip153)\" cx=\"1317.16\" cy=\"562.954\" r=\"14\" fill=\"#3da44d\" fill-rule=\"evenodd\" fill-opacity=\"1\" stroke=\"#000000\" stroke-opacity=\"1\" stroke-width=\"3.2\"/>\n",
       "<circle clip-path=\"url(#clip153)\" cx=\"1646.52\" cy=\"1056.18\" r=\"14\" fill=\"#3da44d\" fill-rule=\"evenodd\" fill-opacity=\"1\" stroke=\"#000000\" stroke-opacity=\"1\" stroke-width=\"3.2\"/>\n",
       "<circle clip-path=\"url(#clip153)\" cx=\"1555.55\" cy=\"819.981\" r=\"14\" fill=\"#3da44d\" fill-rule=\"evenodd\" fill-opacity=\"1\" stroke=\"#000000\" stroke-opacity=\"1\" stroke-width=\"3.2\"/>\n",
       "<circle clip-path=\"url(#clip153)\" cx=\"1489.03\" cy=\"876.534\" r=\"14\" fill=\"#3da44d\" fill-rule=\"evenodd\" fill-opacity=\"1\" stroke=\"#000000\" stroke-opacity=\"1\" stroke-width=\"3.2\"/>\n",
       "</svg>\n"
      ]
     },
     "metadata": {},
     "execution_count": 19
    }
   ],
   "cell_type": "code",
   "source": [
    "p1 = scatter(X_test_pca[1,:], X_test_pca[2,:], group=y_hat_1, title=@sprintf \"FuzzyART rho = %.1f\" rho_1)\n",
    "p2 = scatter(X_test_pca[1,:], X_test_pca[2,:], group=y_hat_2, title=@sprintf \"FuzzyART rho = %.1f\" rho_2)\n",
    "plot(p1, p2, layout=(1, 2), legend = false, xtickfontsize=6, xguidefontsize=8, titlefont=font(8))"
   ],
   "metadata": {},
   "execution_count": 19
  },
  {
   "cell_type": "markdown",
   "source": [
    "---\n",
    "\n",
    "*This notebook was generated using [Literate.jl](https://github.com/fredrikekre/Literate.jl).*"
   ],
   "metadata": {}
  }
 ],
 "nbformat_minor": 3,
 "metadata": {
  "language_info": {
   "file_extension": ".jl",
   "mimetype": "application/julia",
   "name": "julia",
   "version": "1.4.2"
  },
  "kernelspec": {
   "name": "julia-1.4",
   "display_name": "Julia 1.4.2",
   "language": "julia"
  }
 },
 "nbformat": 4
}
