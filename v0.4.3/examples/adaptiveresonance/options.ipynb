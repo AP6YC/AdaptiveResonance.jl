{
 "cells": [
  {
   "cell_type": "markdown",
   "source": [
    "## Overview"
   ],
   "metadata": {}
  },
  {
   "cell_type": "markdown",
   "source": [
    "The `AdaptiveResonance.jl` package has several ways of handling options for ART modules.\n",
    "These methods are meant to give maximum flexibility to the user for sharing and interpreting options, which themselves vary between each module."
   ],
   "metadata": {}
  },
  {
   "cell_type": "markdown",
   "source": [
    "!!! note\n",
    "    For more info on options in ART modules, see the guide in the docs on ART options."
   ],
   "metadata": {}
  },
  {
   "cell_type": "markdown",
   "source": [
    "## ART Options"
   ],
   "metadata": {}
  },
  {
   "cell_type": "markdown",
   "source": [
    "To get a feel for the ART options system, we will inspect different options and their instantiation methods."
   ],
   "metadata": {}
  },
  {
   "cell_type": "markdown",
   "source": [
    "### Inspection"
   ],
   "metadata": {}
  },
  {
   "cell_type": "markdown",
   "source": [
    "First, we load `AdaptiveResonance`:"
   ],
   "metadata": {}
  },
  {
   "outputs": [],
   "cell_type": "code",
   "source": [
    "using AdaptiveResonance"
   ],
   "metadata": {},
   "execution_count": 1
  },
  {
   "cell_type": "markdown",
   "source": [
    "Every ART module has a default constructor, which can be instantiated in the usual way:"
   ],
   "metadata": {}
  },
  {
   "outputs": [
    {
     "output_type": "execute_result",
     "data": {
      "text/plain": "FuzzyART"
     },
     "metadata": {},
     "execution_count": 2
    }
   ],
   "cell_type": "code",
   "source": [
    "# Create a FuzzyART module with default options\n",
    "my_fuzzyart = FuzzyART()\n",
    "typeof(my_fuzzyart)"
   ],
   "metadata": {},
   "execution_count": 2
  },
  {
   "cell_type": "markdown",
   "source": [
    "Within every ART module is a [Parameters.jl](https://github.com/mauro3/Parameters.jl) struct named `opts` containing the options for the module"
   ],
   "metadata": {}
  },
  {
   "outputs": [
    {
     "output_type": "execute_result",
     "data": {
      "text/plain": "opts_FuzzyART\n  rho: Float64 0.6\n  alpha: Float64 0.001\n  beta: Float64 1.0\n  gamma: Float64 3.0\n  gamma_ref: Float64 1.0\n  display: Bool true\n  max_epochs: Int64 1\n  gamma_normalization: Bool false\n"
     },
     "metadata": {},
     "execution_count": 3
    }
   ],
   "cell_type": "code",
   "source": [
    "# Check the FuzzyART options\n",
    "my_fuzzyart.opts"
   ],
   "metadata": {},
   "execution_count": 3
  },
  {
   "cell_type": "markdown",
   "source": [
    "Note that the options here have the type `opts_FuzzyART`.\n",
    "This nomenclature is used throughout the module to indicate an options type associated with an ART module.\n",
    "For example, the options for a DDVFA module are `opts_DDVFA`:"
   ],
   "metadata": {}
  },
  {
   "outputs": [
    {
     "output_type": "execute_result",
     "data": {
      "text/plain": "opts_DDVFA"
     },
     "metadata": {},
     "execution_count": 4
    }
   ],
   "cell_type": "code",
   "source": [
    "# Create a DDVFA module and check the type of the options\n",
    "my_ddvfa = DDVFA()\n",
    "typeof(my_ddvfa.opts)"
   ],
   "metadata": {},
   "execution_count": 4
  },
  {
   "cell_type": "markdown",
   "source": [
    "In fact, we can create an instance of these options with a default constructor:"
   ],
   "metadata": {}
  },
  {
   "outputs": [
    {
     "output_type": "execute_result",
     "data": {
      "text/plain": "opts_FuzzyART\n  rho: Float64 0.6\n  alpha: Float64 0.001\n  beta: Float64 1.0\n  gamma: Float64 3.0\n  gamma_ref: Float64 1.0\n  display: Bool true\n  max_epochs: Int64 1\n  gamma_normalization: Bool false\n"
     },
     "metadata": {},
     "execution_count": 5
    }
   ],
   "cell_type": "code",
   "source": [
    "# Create a separate options struct\n",
    "my_fuzzyart_opts = opts_FuzzyART()"
   ],
   "metadata": {},
   "execution_count": 5
  },
  {
   "cell_type": "markdown",
   "source": [
    "In addition to the default constructor, we can construct ART modules by instantiating these options and passing them to the module during construction:"
   ],
   "metadata": {}
  },
  {
   "outputs": [
    {
     "output_type": "execute_result",
     "data": {
      "text/plain": "FuzzyART(opts_FuzzyART\n  rho: Float64 0.6\n  alpha: Float64 0.001\n  beta: Float64 1.0\n  gamma: Float64 3.0\n  gamma_ref: Float64 1.0\n  display: Bool true\n  max_epochs: Int64 1\n  gamma_normalization: Bool false\n, DataConfig(false, Float64[], Float64[], 0, 0), 0.0, Int64[], Float64[], Float64[], Array{Float64}(undef,0,0), Int64[], 0, 0)"
     },
     "metadata": {},
     "execution_count": 6
    }
   ],
   "cell_type": "code",
   "source": [
    "# Instantiate an ART module by passing our options\n",
    "my_fuzzyart = FuzzyART(my_fuzzyart_opts)\n",
    "my_other_fuzzyart = FuzzyART(my_fuzzyart_opts)"
   ],
   "metadata": {},
   "execution_count": 6
  },
  {
   "cell_type": "markdown",
   "source": [
    "### Specifying Options"
   ],
   "metadata": {}
  },
  {
   "cell_type": "markdown",
   "source": [
    "Now to the good stuff: because of the behavior of the `Parameters.jl` type, each option has a default value that we can modify during instantiation with keyword arguments:"
   ],
   "metadata": {}
  },
  {
   "outputs": [
    {
     "output_type": "execute_result",
     "data": {
      "text/plain": "FuzzyART(opts_FuzzyART\n  rho: Float64 0.6\n  alpha: Float64 0.001\n  beta: Float64 1.0\n  gamma: Float64 3.0\n  gamma_ref: Float64 1.0\n  display: Bool true\n  max_epochs: Int64 1\n  gamma_normalization: Bool true\n, DataConfig(false, Float64[], Float64[], 0, 0), 0.0, Int64[], Float64[], Float64[], Array{Float64}(undef,0,0), Int64[], 0, 0)"
     },
     "metadata": {},
     "execution_count": 7
    }
   ],
   "cell_type": "code",
   "source": [
    "# Change some of the default FuzzyART options\n",
    "my_fuzzyart_opts = opts_FuzzyART(\n",
    "    rho=0.6,\n",
    "    gamma_normalization=true\n",
    ")\n",
    "my_fuzzyart = FuzzyART(my_fuzzyart_opts)"
   ],
   "metadata": {},
   "execution_count": 7
  },
  {
   "cell_type": "markdown",
   "source": [
    "As some syntactic sugar, we can pass these keyword arguments directly to the module during instantiation if we have no need to share option structs:"
   ],
   "metadata": {}
  },
  {
   "outputs": [
    {
     "output_type": "execute_result",
     "data": {
      "text/plain": "FuzzyART(opts_FuzzyART\n  rho: Float64 0.6\n  alpha: Float64 0.001\n  beta: Float64 1.0\n  gamma: Float64 3.0\n  gamma_ref: Float64 1.0\n  display: Bool true\n  max_epochs: Int64 1\n  gamma_normalization: Bool true\n, DataConfig(false, Float64[], Float64[], 0, 0), 0.0, Int64[], Float64[], Float64[], Array{Float64}(undef,0,0), Int64[], 0, 0)"
     },
     "metadata": {},
     "execution_count": 8
    }
   ],
   "cell_type": "code",
   "source": [
    "# Pass these keyword arguments to the module directly\n",
    "my_fuzzyart = FuzzyART(\n",
    "    rho=0.6,\n",
    "    gamma_normalization=true\n",
    ")"
   ],
   "metadata": {},
   "execution_count": 8
  },
  {
   "cell_type": "markdown",
   "source": [
    "Before training, we can also instantiate the model and alter the options afterward:"
   ],
   "metadata": {}
  },
  {
   "outputs": [
    {
     "output_type": "execute_result",
     "data": {
      "text/plain": "0.6"
     },
     "metadata": {},
     "execution_count": 9
    }
   ],
   "cell_type": "code",
   "source": [
    "my_fuzzyart = FuzzyART()\n",
    "my_fuzzyart.opts.rho=0.6"
   ],
   "metadata": {},
   "execution_count": 9
  },
  {
   "cell_type": "markdown",
   "source": [
    "!!! note\n",
    "    All ART modules are designed to use this options struct internally when the parameters are needed.\n",
    "    It is possible to change these parameters in the middle of training and evaluation, but some algorithmic instability may occur."
   ],
   "metadata": {}
  },
  {
   "cell_type": "markdown",
   "source": [
    "## Comparison"
   ],
   "metadata": {}
  },
  {
   "cell_type": "markdown",
   "source": [
    "To see the effect that changing these parameters has on the modules, we can train and test them side-by-side."
   ],
   "metadata": {}
  },
  {
   "cell_type": "markdown",
   "source": [
    "We begin with importing AdaptiveResonance for the ART modules and MLDatasets for some data utilities."
   ],
   "metadata": {}
  },
  {
   "outputs": [],
   "cell_type": "code",
   "source": [
    "using MLDatasets        # Iris dataset\n",
    "using MLDataUtils       # Shuffling and splitting\n",
    "using Printf            # Formatted number printing\n",
    "using MultivariateStats # Principal component analysis (PCA)\n",
    "using Plots             # Plotting"
   ],
   "metadata": {},
   "execution_count": 10
  },
  {
   "cell_type": "markdown",
   "source": [
    "We will download the Iris dataset for its small size and benchmark use for clustering algorithms."
   ],
   "metadata": {}
  },
  {
   "outputs": [
    {
     "output_type": "execute_result",
     "data": {
      "text/plain": "([5.1 4.9 … 6.2 5.9; 3.5 3.0 … 3.4 3.0; 1.4 1.4 … 5.4 5.1; 0.2 0.2 … 2.3 1.8], [\"Iris-setosa\", \"Iris-setosa\", \"Iris-setosa\", \"Iris-setosa\", \"Iris-setosa\", \"Iris-setosa\", \"Iris-setosa\", \"Iris-setosa\", \"Iris-setosa\", \"Iris-setosa\"  …  \"Iris-virginica\", \"Iris-virginica\", \"Iris-virginica\", \"Iris-virginica\", \"Iris-virginica\", \"Iris-virginica\", \"Iris-virginica\", \"Iris-virginica\", \"Iris-virginica\", \"Iris-virginica\"])"
     },
     "metadata": {},
     "execution_count": 11
    }
   ],
   "cell_type": "code",
   "source": [
    "Iris.download(i_accept_the_terms_of_use=true)\n",
    "features, labels = Iris.features(), Iris.labels()"
   ],
   "metadata": {},
   "execution_count": 11
  },
  {
   "cell_type": "markdown",
   "source": [
    "Because the MLDatasets package gives us Iris labels as strings, we will use the `MLDataUtils.convertlabel` method with the `MLLabelUtils.LabelEnc.Indices` type to get a list of integers representing each class:"
   ],
   "metadata": {}
  },
  {
   "outputs": [
    {
     "output_type": "execute_result",
     "data": {
      "text/plain": "3-element Array{Int64,1}:\n 1\n 2\n 3"
     },
     "metadata": {},
     "execution_count": 12
    }
   ],
   "cell_type": "code",
   "source": [
    "labels = convertlabel(LabelEnc.Indices{Int}, labels)\n",
    "unique(labels)"
   ],
   "metadata": {},
   "execution_count": 12
  },
  {
   "cell_type": "markdown",
   "source": [
    "Next, we will create a train/test split with the `MLDataUtils.stratifiedobs` utility:"
   ],
   "metadata": {}
  },
  {
   "outputs": [
    {
     "output_type": "execute_result",
     "data": {
      "text/plain": "(([6.2 6.4 … 4.6 5.7; 2.8 3.2 … 3.1 2.9; 4.8 5.3 … 1.5 4.2; 1.8 2.3 … 0.2 1.3], [3, 3, 3, 1, 1, 2, 1, 2, 1, 3  …  2, 1, 2, 2, 3, 1, 3, 3, 1, 2]), ([6.3 4.9 … 6.9 6.8; 2.5 2.4 … 3.1 3.2; 4.9 3.3 … 4.9 5.9; 1.5 1.0 … 1.5 2.3], [2, 2, 1, 1, 2, 3, 1, 2, 3, 3  …  1, 1, 1, 3, 1, 3, 3, 2, 2, 3]))"
     },
     "metadata": {},
     "execution_count": 13
    }
   ],
   "cell_type": "code",
   "source": [
    "(X_train, y_train), (X_test, y_test) = stratifiedobs((features, labels))"
   ],
   "metadata": {},
   "execution_count": 13
  },
  {
   "cell_type": "markdown",
   "source": [
    "Now we can create several FuzzyART modules with different options."
   ],
   "metadata": {}
  },
  {
   "outputs": [
    {
     "output_type": "execute_result",
     "data": {
      "text/plain": "FuzzyART(opts_FuzzyART\n  rho: Float64 0.7\n  alpha: Float64 0.001\n  beta: Float64 1.0\n  gamma: Float64 3.0\n  gamma_ref: Float64 1.0\n  display: Bool false\n  max_epochs: Int64 1\n  gamma_normalization: Bool false\n, DataConfig(false, Float64[], Float64[], 0, 0), 0.0, Int64[], Float64[], Float64[], Array{Float64}(undef,0,0), Int64[], 0, 0)"
     },
     "metadata": {},
     "execution_count": 14
    }
   ],
   "cell_type": "code",
   "source": [
    "# Create two FuzzyARTs with different vigilance values and suppressing logging messages\n",
    "rho_1 = 0.5\n",
    "rho_2 = 0.7\n",
    "my_fuzzyart_1 = FuzzyART(rho=rho_1, display=false)\n",
    "my_fuzzyart_2 = FuzzyART(rho=rho_2, display=false)"
   ],
   "metadata": {},
   "execution_count": 14
  },
  {
   "cell_type": "markdown",
   "source": [
    "Here, we will train these FuzzyART modules in simple supervised mode by passing the supervised labels as a keyword argument:"
   ],
   "metadata": {}
  },
  {
   "outputs": [],
   "cell_type": "code",
   "source": [
    "# Train in simple supervised mode by passing the labels as a keyword argument.\n",
    "y_hat_train_1 = train!(my_fuzzyart_1, X_train, y=y_train)\n",
    "y_hat_train_2 = train!(my_fuzzyart_2, X_train, y=y_train)"
   ],
   "metadata": {},
   "execution_count": 15
  },
  {
   "cell_type": "markdown",
   "source": [
    "We then classify the test data with both modules:"
   ],
   "metadata": {}
  },
  {
   "outputs": [
    {
     "name": "stdout",
     "output_type": "stream",
     "text": [
      "FuzzyART 1 labels: (45,) Array{Int64,1}\n",
      "FuzzyART 2 labels: (45,) Array{Int64,1}\n",
      "Testing performance rho=0.5: 0.8667\n",
      "Testing performance rho=0.7: 0.8889\n"
     ]
    }
   ],
   "cell_type": "code",
   "source": [
    "y_hat_1 = AdaptiveResonance.classify(my_fuzzyart_1, X_test, get_bmu=true)\n",
    "y_hat_2 = AdaptiveResonance.classify(my_fuzzyart_2, X_test, get_bmu=true)\n",
    "\n",
    "# Check the shape and type of the output labels\n",
    "println(\"FuzzyART 1 labels: \",  size(y_hat_1), \" \", typeof(y_hat_1))\n",
    "println(\"FuzzyART 2 labels: \",  size(y_hat_2), \" \", typeof(y_hat_2))\n",
    "\n",
    "# Calculate the performance on the test data\n",
    "perf_test_1 = performance(y_hat_1, y_test)\n",
    "perf_test_2 = performance(y_hat_2, y_test)\n",
    "\n",
    "# Format each performance number for comparison\n",
    "@printf \"Testing performance rho=%.1f: %.4f\\n\" rho_1 perf_test_1\n",
    "@printf \"Testing performance rho=%.1f: %.4f\\n\" rho_2 perf_test_2"
   ],
   "metadata": {},
   "execution_count": 16
  },
  {
   "cell_type": "markdown",
   "source": [
    "In addition to having different performances, we can see that there is a subsequent trade-off in the number of categories used:"
   ],
   "metadata": {}
  },
  {
   "outputs": [
    {
     "name": "stdout",
     "output_type": "stream",
     "text": [
      "Number of categories rho=0.5: 6\n",
      "Number of categories rho=0.7: 12\n"
     ]
    }
   ],
   "cell_type": "code",
   "source": [
    "# Print the number of categories for each vigilance parameter\n",
    "@printf \"Number of categories rho=%.1f: %i\\n\" rho_1 my_fuzzyart_1.n_categories\n",
    "@printf \"Number of categories rho=%.1f: %i\\n\" rho_2 my_fuzzyart_2.n_categories"
   ],
   "metadata": {},
   "execution_count": 17
  },
  {
   "cell_type": "markdown",
   "source": [
    "The variation between vigilance parameter, number of categories created during learning, and testing performance/generalization is a central theme in ART-based algorithms."
   ],
   "metadata": {}
  },
  {
   "cell_type": "markdown",
   "source": [
    "## Visualization"
   ],
   "metadata": {}
  },
  {
   "cell_type": "markdown",
   "source": [
    "Now, to visualize how the two models differ in how they partition the data, we can use principal component analysis (PCA) to compress to two plotting dimensions.\n",
    "PCA is a method to represent a dataset in a different number of dimensions while preserving the relative separation between datapoints.\n",
    "Though most datasets are not able to be effectively transformed down to two dimensions, this technique is useful to get a general sense of how well separated the classes are and how well your algorithm classifies them."
   ],
   "metadata": {}
  },
  {
   "outputs": [
    {
     "name": "stdout",
     "output_type": "stream",
     "text": [
      "┌ Warning: `transform(f, x)` is deprecated, use `predict(f, x)` instead.\n",
      "│   caller = top-level scope at options.ipynb:5\n",
      "└ @ Core ~/work/AdaptiveResonance.jl/AdaptiveResonance.jl/docs/src/examples/adaptiveresonance/options.ipynb:5\n"
     ]
    },
    {
     "output_type": "execute_result",
     "data": {
      "text/plain": "2×45 Array{Float64,2}:\n -1.29647    0.751467  2.53757   2.61314    …  -0.262336  -1.46406  -2.56332\n -0.327562  -1.00111   0.510368  0.0215206     -0.547893   0.50419   0.275975"
     },
     "metadata": {},
     "execution_count": 18
    }
   ],
   "cell_type": "code",
   "source": [
    "# Train a PCA model to visually separate the features in two dimensions.\n",
    "M = fit(PCA, features; maxoutdim=2)\n",
    "\n",
    "# Apply the PCA model to the testing set\n",
    "X_test_pca = transform(M, X_test)"
   ],
   "metadata": {},
   "execution_count": 18
  },
  {
   "cell_type": "markdown",
   "source": [
    "We can now plot the PCA'ed test set and label them according to the two FuzzyART's"
   ],
   "metadata": {}
  },
  {
   "outputs": [
    {
     "output_type": "execute_result",
     "data": {
      "text/plain": "Plot{Plots.GRBackend() n=6}",
      "image/png": "[encoded data removed]",
      "text/html": [
       "<?xml version=\"1.0\" encoding=\"utf-8\"?>\n",
       "<svg xmlns=\"http://www.w3.org/2000/svg\" xmlns:xlink=\"http://www.w3.org/1999/xlink\" width=\"600\" height=\"400\" viewBox=\"0 0 2400 1600\">\n",
       "<defs>\n",
       "  <clipPath id=\"clip260\">\n",
       "    <rect x=\"0\" y=\"0\" width=\"2400\" height=\"1600\"/>\n",
       "  </clipPath>\n",
       "</defs>\n",
       "<path clip-path=\"url(#clip260)\" d=\"\n",
       "M0 1600 L2400 1600 L2400 0 L0 0  Z\n",
       "  \" fill=\"#ffffff\" fill-rule=\"evenodd\" fill-opacity=\"1\"/>\n",
       "<defs>\n",
       "  <clipPath id=\"clip261\">\n",
       "    <rect x=\"480\" y=\"0\" width=\"1681\" height=\"1600\"/>\n",
       "  </clipPath>\n",
       "</defs>\n",
       "<path clip-path=\"url(#clip260)\" d=\"\n",
       "M86.9921 1521.01 L1152.76 1521.01 L1152.76 62.9921 L86.9921 62.9921  Z\n",
       "  \" fill=\"#ffffff\" fill-rule=\"evenodd\" fill-opacity=\"1\"/>\n",
       "<defs>\n",
       "  <clipPath id=\"clip262\">\n",
       "    <rect x=\"86\" y=\"62\" width=\"1067\" height=\"1459\"/>\n",
       "  </clipPath>\n",
       "</defs>\n",
       "<polyline clip-path=\"url(#clip262)\" style=\"stroke:#000000; stroke-width:2; stroke-opacity:0.1; fill:none\" points=\"\n",
       "  234.778,1521.01 234.778,62.9921 \n",
       "  \"/>\n",
       "<polyline clip-path=\"url(#clip262)\" style=\"stroke:#000000; stroke-width:2; stroke-opacity:0.1; fill:none\" points=\"\n",
       "  382.789,1521.01 382.789,62.9921 \n",
       "  \"/>\n",
       "<polyline clip-path=\"url(#clip262)\" style=\"stroke:#000000; stroke-width:2; stroke-opacity:0.1; fill:none\" points=\"\n",
       "  530.8,1521.01 530.8,62.9921 \n",
       "  \"/>\n",
       "<polyline clip-path=\"url(#clip262)\" style=\"stroke:#000000; stroke-width:2; stroke-opacity:0.1; fill:none\" points=\"\n",
       "  678.811,1521.01 678.811,62.9921 \n",
       "  \"/>\n",
       "<polyline clip-path=\"url(#clip262)\" style=\"stroke:#000000; stroke-width:2; stroke-opacity:0.1; fill:none\" points=\"\n",
       "  826.823,1521.01 826.823,62.9921 \n",
       "  \"/>\n",
       "<polyline clip-path=\"url(#clip262)\" style=\"stroke:#000000; stroke-width:2; stroke-opacity:0.1; fill:none\" points=\"\n",
       "  974.834,1521.01 974.834,62.9921 \n",
       "  \"/>\n",
       "<polyline clip-path=\"url(#clip262)\" style=\"stroke:#000000; stroke-width:2; stroke-opacity:0.1; fill:none\" points=\"\n",
       "  1122.84,1521.01 1122.84,62.9921 \n",
       "  \"/>\n",
       "<polyline clip-path=\"url(#clip260)\" style=\"stroke:#000000; stroke-width:4; stroke-opacity:1; fill:none\" points=\"\n",
       "  86.9921,1521.01 1152.76,1521.01 \n",
       "  \"/>\n",
       "<polyline clip-path=\"url(#clip260)\" style=\"stroke:#000000; stroke-width:4; stroke-opacity:1; fill:none\" points=\"\n",
       "  234.778,1521.01 234.778,1503.51 \n",
       "  \"/>\n",
       "<polyline clip-path=\"url(#clip260)\" style=\"stroke:#000000; stroke-width:4; stroke-opacity:1; fill:none\" points=\"\n",
       "  382.789,1521.01 382.789,1503.51 \n",
       "  \"/>\n",
       "<polyline clip-path=\"url(#clip260)\" style=\"stroke:#000000; stroke-width:4; stroke-opacity:1; fill:none\" points=\"\n",
       "  530.8,1521.01 530.8,1503.51 \n",
       "  \"/>\n",
       "<polyline clip-path=\"url(#clip260)\" style=\"stroke:#000000; stroke-width:4; stroke-opacity:1; fill:none\" points=\"\n",
       "  678.811,1521.01 678.811,1503.51 \n",
       "  \"/>\n",
       "<polyline clip-path=\"url(#clip260)\" style=\"stroke:#000000; stroke-width:4; stroke-opacity:1; fill:none\" points=\"\n",
       "  826.823,1521.01 826.823,1503.51 \n",
       "  \"/>\n",
       "<polyline clip-path=\"url(#clip260)\" style=\"stroke:#000000; stroke-width:4; stroke-opacity:1; fill:none\" points=\"\n",
       "  974.834,1521.01 974.834,1503.51 \n",
       "  \"/>\n",
       "<polyline clip-path=\"url(#clip260)\" style=\"stroke:#000000; stroke-width:4; stroke-opacity:1; fill:none\" points=\"\n",
       "  1122.84,1521.01 1122.84,1503.51 \n",
       "  \"/>\n",
       "<path clip-path=\"url(#clip260)\" d=\"M 0 0 M213.762 1558.69 L236.019 1558.69 L236.019 1561.64 L213.762 1561.64 L213.762 1558.69 Z\" fill=\"#000000\" fill-rule=\"evenodd\" fill-opacity=\"1\" /><path clip-path=\"url(#clip260)\" d=\"M 0 0 M250.446 1557.34 Q252.963 1557.87 254.37 1559.58 Q255.793 1561.28 255.793 1563.78 Q255.793 1567.61 253.154 1569.71 Q250.516 1571.82 245.654 1571.82 Q244.023 1571.82 242.286 1571.49 Q240.568 1571.17 238.727 1570.53 L238.727 1567.15 Q240.186 1568 241.922 1568.43 Q243.658 1568.86 245.55 1568.86 Q248.849 1568.86 250.568 1567.56 Q252.304 1566.26 252.304 1563.78 Q252.304 1561.49 250.689 1560.2 Q249.092 1558.9 246.227 1558.9 L243.207 1558.9 L243.207 1556.02 L246.366 1556.02 Q248.953 1556.02 250.325 1554.99 Q251.696 1553.95 251.696 1552.01 Q251.696 1550.01 250.273 1548.95 Q248.866 1547.87 246.227 1547.87 Q244.786 1547.87 243.137 1548.19 Q241.488 1548.5 239.509 1549.16 L239.509 1546.03 Q241.505 1545.48 243.241 1545.2 Q244.995 1544.92 246.54 1544.92 Q250.533 1544.92 252.859 1546.75 Q255.186 1548.55 255.186 1551.64 Q255.186 1553.79 253.953 1555.29 Q252.72 1556.76 250.446 1557.34 Z\" fill=\"#000000\" fill-rule=\"evenodd\" fill-opacity=\"1\" /><path clip-path=\"url(#clip260)\" d=\"M 0 0 M362.129 1558.69 L384.386 1558.69 L384.386 1561.64 L362.129 1561.64 L362.129 1558.69 Z\" fill=\"#000000\" fill-rule=\"evenodd\" fill-opacity=\"1\" /><path clip-path=\"url(#clip260)\" d=\"M 0 0 M391.209 1568.36 L403.449 1568.36 L403.449 1571.31 L386.99 1571.31 L386.99 1568.36 Q388.987 1566.29 392.424 1562.82 Q395.879 1559.33 396.765 1558.33 Q398.449 1556.43 399.108 1555.13 Q399.785 1553.81 399.785 1552.54 Q399.785 1550.48 398.327 1549.18 Q396.886 1547.87 394.56 1547.87 Q392.91 1547.87 391.07 1548.45 Q389.247 1549.02 387.164 1550.18 L387.164 1546.64 Q389.282 1545.79 391.122 1545.36 Q392.963 1544.92 394.49 1544.92 Q398.518 1544.92 400.914 1546.94 Q403.31 1548.95 403.31 1552.32 Q403.31 1553.92 402.702 1555.36 Q402.112 1556.78 400.532 1558.73 Q400.098 1559.23 397.772 1561.64 Q395.445 1564.04 391.209 1568.36 Z\" fill=\"#000000\" fill-rule=\"evenodd\" fill-opacity=\"1\" /><path clip-path=\"url(#clip260)\" d=\"M 0 0 M510.002 1558.69 L532.258 1558.69 L532.258 1561.64 L510.002 1561.64 L510.002 1558.69 Z\" fill=\"#000000\" fill-rule=\"evenodd\" fill-opacity=\"1\" /><path clip-path=\"url(#clip260)\" d=\"M 0 0 M536.668 1568.36 L542.397 1568.36 L542.397 1548.59 L536.165 1549.84 L536.165 1546.64 L542.363 1545.39 L545.87 1545.39 L545.87 1568.36 L551.599 1568.36 L551.599 1571.31 L536.668 1571.31 L536.668 1568.36 Z\" fill=\"#000000\" fill-rule=\"evenodd\" fill-opacity=\"1\" /><path clip-path=\"url(#clip260)\" d=\"M 0 0 M678.811 1547.7 Q676.103 1547.7 674.732 1550.37 Q673.377 1553.03 673.377 1558.38 Q673.377 1563.71 674.732 1566.38 Q676.103 1569.04 678.811 1569.04 Q681.537 1569.04 682.891 1566.38 Q684.263 1563.71 684.263 1558.38 Q684.263 1553.03 682.891 1550.37 Q681.537 1547.7 678.811 1547.7 M678.811 1544.92 Q683.169 1544.92 685.461 1548.38 Q687.77 1551.82 687.77 1558.38 Q687.77 1564.92 685.461 1568.38 Q683.169 1571.82 678.811 1571.82 Q674.454 1571.82 672.145 1568.38 Q669.853 1564.92 669.853 1558.38 Q669.853 1551.82 672.145 1548.38 Q674.454 1544.92 678.811 1544.92 Z\" fill=\"#000000\" fill-rule=\"evenodd\" fill-opacity=\"1\" /><path clip-path=\"url(#clip260)\" d=\"M 0 0 M819.609 1568.36 L825.338 1568.36 L825.338 1548.59 L819.106 1549.84 L819.106 1546.64 L825.303 1545.39 L828.81 1545.39 L828.81 1568.36 L834.54 1568.36 L834.54 1571.31 L819.609 1571.31 L819.609 1568.36 Z\" fill=\"#000000\" fill-rule=\"evenodd\" fill-opacity=\"1\" /><path clip-path=\"url(#clip260)\" d=\"M 0 0 M970.823 1568.36 L983.063 1568.36 L983.063 1571.31 L966.605 1571.31 L966.605 1568.36 Q968.601 1566.29 972.039 1562.82 Q975.493 1559.33 976.379 1558.33 Q978.063 1556.43 978.723 1555.13 Q979.4 1553.81 979.4 1552.54 Q979.4 1550.48 977.941 1549.18 Q976.5 1547.87 974.174 1547.87 Q972.525 1547.87 970.684 1548.45 Q968.862 1549.02 966.778 1550.18 L966.778 1546.64 Q968.896 1545.79 970.737 1545.36 Q972.577 1544.92 974.105 1544.92 Q978.132 1544.92 980.528 1546.94 Q982.924 1548.95 982.924 1552.32 Q982.924 1553.92 982.316 1555.36 Q981.726 1556.78 980.146 1558.73 Q979.712 1559.23 977.386 1561.64 Q975.059 1564.04 970.823 1568.36 Z\" fill=\"#000000\" fill-rule=\"evenodd\" fill-opacity=\"1\" /><path clip-path=\"url(#clip260)\" d=\"M 0 0 M1126.03 1557.34 Q1128.55 1557.87 1129.95 1559.58 Q1131.38 1561.28 1131.38 1563.78 Q1131.38 1567.61 1128.74 1569.71 Q1126.1 1571.82 1121.24 1571.82 Q1119.61 1571.82 1117.87 1571.49 Q1116.15 1571.17 1114.31 1570.53 L1114.31 1567.15 Q1115.77 1568 1117.51 1568.43 Q1119.24 1568.86 1121.13 1568.86 Q1124.43 1568.86 1126.15 1567.56 Q1127.89 1566.26 1127.89 1563.78 Q1127.89 1561.49 1126.27 1560.2 Q1124.68 1558.9 1121.81 1558.9 L1118.79 1558.9 L1118.79 1556.02 L1121.95 1556.02 Q1124.54 1556.02 1125.91 1554.99 Q1127.28 1553.95 1127.28 1552.01 Q1127.28 1550.01 1125.86 1548.95 Q1124.45 1547.87 1121.81 1547.87 Q1120.37 1547.87 1118.72 1548.19 Q1117.07 1548.5 1115.09 1549.16 L1115.09 1546.03 Q1117.09 1545.48 1118.83 1545.2 Q1120.58 1544.92 1122.12 1544.92 Q1126.12 1544.92 1128.44 1546.75 Q1130.77 1548.55 1130.77 1551.64 Q1130.77 1553.79 1129.54 1555.29 Q1128.3 1556.76 1126.03 1557.34 Z\" fill=\"#000000\" fill-rule=\"evenodd\" fill-opacity=\"1\" /><polyline clip-path=\"url(#clip262)\" style=\"stroke:#000000; stroke-width:2; stroke-opacity:0.1; fill:none\" points=\"\n",
       "  86.9921,1369.04 1152.76,1369.04 \n",
       "  \"/>\n",
       "<polyline clip-path=\"url(#clip262)\" style=\"stroke:#000000; stroke-width:2; stroke-opacity:0.1; fill:none\" points=\"\n",
       "  86.9921,1079.77 1152.76,1079.77 \n",
       "  \"/>\n",
       "<polyline clip-path=\"url(#clip262)\" style=\"stroke:#000000; stroke-width:2; stroke-opacity:0.1; fill:none\" points=\"\n",
       "  86.9921,790.508 1152.76,790.508 \n",
       "  \"/>\n",
       "<polyline clip-path=\"url(#clip262)\" style=\"stroke:#000000; stroke-width:2; stroke-opacity:0.1; fill:none\" points=\"\n",
       "  86.9921,501.242 1152.76,501.242 \n",
       "  \"/>\n",
       "<polyline clip-path=\"url(#clip262)\" style=\"stroke:#000000; stroke-width:2; stroke-opacity:0.1; fill:none\" points=\"\n",
       "  86.9921,211.976 1152.76,211.976 \n",
       "  \"/>\n",
       "<polyline clip-path=\"url(#clip260)\" style=\"stroke:#000000; stroke-width:4; stroke-opacity:1; fill:none\" points=\"\n",
       "  86.9921,1521.01 86.9921,62.9921 \n",
       "  \"/>\n",
       "<polyline clip-path=\"url(#clip260)\" style=\"stroke:#000000; stroke-width:4; stroke-opacity:1; fill:none\" points=\"\n",
       "  86.9921,1369.04 99.7813,1369.04 \n",
       "  \"/>\n",
       "<polyline clip-path=\"url(#clip260)\" style=\"stroke:#000000; stroke-width:4; stroke-opacity:1; fill:none\" points=\"\n",
       "  86.9921,1079.77 99.7813,1079.77 \n",
       "  \"/>\n",
       "<polyline clip-path=\"url(#clip260)\" style=\"stroke:#000000; stroke-width:4; stroke-opacity:1; fill:none\" points=\"\n",
       "  86.9921,790.508 99.7813,790.508 \n",
       "  \"/>\n",
       "<polyline clip-path=\"url(#clip260)\" style=\"stroke:#000000; stroke-width:4; stroke-opacity:1; fill:none\" points=\"\n",
       "  86.9921,501.242 99.7813,501.242 \n",
       "  \"/>\n",
       "<polyline clip-path=\"url(#clip260)\" style=\"stroke:#000000; stroke-width:4; stroke-opacity:1; fill:none\" points=\"\n",
       "  86.9921,211.976 99.7813,211.976 \n",
       "  \"/>\n",
       "<path clip-path=\"url(#clip260)\" d=\"M 0 0 M-41.4379 1369.49 L-11.7622 1369.49 L-11.7622 1373.43 L-41.4379 1373.43 L-41.4379 1369.49 Z\" fill=\"#000000\" fill-rule=\"evenodd\" fill-opacity=\"1\" /><path clip-path=\"url(#clip260)\" d=\"M 0 0 M-5.88257 1382.39 L1.75628 1382.39 L1.75628 1356.02 L-6.55386 1357.69 L-6.55386 1353.43 L1.70998 1351.76 L6.38588 1351.76 L6.38588 1382.39 L14.0247 1382.39 L14.0247 1386.32 L-5.88257 1386.32 L-5.88257 1382.39 Z\" fill=\"#000000\" fill-rule=\"evenodd\" fill-opacity=\"1\" /><path clip-path=\"url(#clip260)\" d=\"M 0 0 M19.0941 1380.44 L23.9784 1380.44 L23.9784 1386.32 L19.0941 1386.32 L19.0941 1380.44 Z\" fill=\"#000000\" fill-rule=\"evenodd\" fill-opacity=\"1\" /><path clip-path=\"url(#clip260)\" d=\"M 0 0 M39.0477 1354.84 Q35.4367 1354.84 33.608 1358.4 Q31.8024 1361.95 31.8024 1369.07 Q31.8024 1376.18 33.608 1379.75 Q35.4367 1383.29 39.0477 1383.29 Q42.682 1383.29 44.4875 1379.75 Q46.3162 1376.18 46.3162 1369.07 Q46.3162 1361.95 44.4875 1358.4 Q42.682 1354.84 39.0477 1354.84 M39.0477 1351.14 Q44.8579 1351.14 47.9134 1355.74 Q50.9921 1360.32 50.9921 1369.07 Q50.9921 1377.8 47.9134 1382.41 Q44.8579 1386.99 39.0477 1386.99 Q33.2376 1386.99 30.1589 1382.41 Q27.1034 1377.8 27.1034 1369.07 Q27.1034 1360.32 30.1589 1355.74 Q33.2376 1351.14 39.0477 1351.14 Z\" fill=\"#000000\" fill-rule=\"evenodd\" fill-opacity=\"1\" /><path clip-path=\"url(#clip260)\" d=\"M 0 0 M-41.6694 1080.23 L-11.9936 1080.23 L-11.9936 1084.16 L-41.6694 1084.16 L-41.6694 1080.23 Z\" fill=\"#000000\" fill-rule=\"evenodd\" fill-opacity=\"1\" /><path clip-path=\"url(#clip260)\" d=\"M 0 0 M3.07572 1065.57 Q-0.535376 1065.57 -2.36407 1069.14 Q-4.16962 1072.68 -4.16962 1079.81 Q-4.16962 1086.92 -2.36407 1090.48 Q-0.535376 1094.02 3.07572 1094.02 Q6.70996 1094.02 8.5155 1090.48 Q10.3442 1086.92 10.3442 1079.81 Q10.3442 1072.68 8.5155 1069.14 Q6.70996 1065.57 3.07572 1065.57 M3.07572 1061.87 Q8.88587 1061.87 11.9414 1066.48 Q15.0201 1071.06 15.0201 1079.81 Q15.0201 1088.54 11.9414 1093.14 Q8.88587 1097.73 3.07572 1097.73 Q-2.73444 1097.73 -5.81313 1093.14 Q-8.86866 1088.54 -8.86866 1079.81 Q-8.86866 1071.06 -5.81313 1066.48 Q-2.73444 1061.87 3.07572 1061.87 Z\" fill=\"#000000\" fill-rule=\"evenodd\" fill-opacity=\"1\" /><path clip-path=\"url(#clip260)\" d=\"M 0 0 M20.0895 1091.17 L24.9737 1091.17 L24.9737 1097.05 L20.0895 1097.05 L20.0895 1091.17 Z\" fill=\"#000000\" fill-rule=\"evenodd\" fill-opacity=\"1\" /><path clip-path=\"url(#clip260)\" d=\"M 0 0 M30.0895 1062.49 L48.4458 1062.49 L48.4458 1066.43 L34.3718 1066.43 L34.3718 1074.9 Q35.3904 1074.55 36.4089 1074.39 Q37.4274 1074.21 38.4459 1074.21 Q44.2329 1074.21 47.6125 1077.38 Q50.9921 1080.55 50.9921 1085.97 Q50.9921 1091.55 47.5199 1094.65 Q44.0477 1097.73 37.7283 1097.73 Q35.5524 1097.73 33.2839 1097.36 Q31.0385 1096.98 28.6311 1096.24 L28.6311 1091.55 Q30.7145 1092.68 32.9367 1093.23 Q35.1589 1093.79 37.6357 1093.79 Q41.6403 1093.79 43.9783 1091.68 Q46.3162 1089.58 46.3162 1085.97 Q46.3162 1082.36 43.9783 1080.25 Q41.6403 1078.14 37.6357 1078.14 Q35.7607 1078.14 33.8857 1078.56 Q32.0339 1078.98 30.0895 1079.86 L30.0895 1062.49 Z\" fill=\"#000000\" fill-rule=\"evenodd\" fill-opacity=\"1\" /><path clip-path=\"url(#clip260)\" d=\"M 0 0 M2.08035 776.307 Q-1.53074 776.307 -3.35943 779.872 Q-5.16498 783.413 -5.16498 790.543 Q-5.16498 797.649 -3.35943 801.214 Q-1.53074 804.756 2.08035 804.756 Q5.71459 804.756 7.52014 801.214 Q9.34883 797.649 9.34883 790.543 Q9.34883 783.413 7.52014 779.872 Q5.71459 776.307 2.08035 776.307 M2.08035 772.603 Q7.89051 772.603 10.946 777.21 Q14.0247 781.793 14.0247 790.543 Q14.0247 799.27 10.946 803.876 Q7.89051 808.46 2.08035 808.46 Q-3.7298 808.46 -6.80849 803.876 Q-9.86403 799.27 -9.86403 790.543 Q-9.86403 781.793 -6.80849 777.21 Q-3.7298 772.603 2.08035 772.603 Z\" fill=\"#000000\" fill-rule=\"evenodd\" fill-opacity=\"1\" /><path clip-path=\"url(#clip260)\" d=\"M 0 0 M19.0941 801.909 L23.9784 801.909 L23.9784 807.788 L19.0941 807.788 L19.0941 801.909 Z\" fill=\"#000000\" fill-rule=\"evenodd\" fill-opacity=\"1\" /><path clip-path=\"url(#clip260)\" d=\"M 0 0 M39.0477 776.307 Q35.4367 776.307 33.608 779.872 Q31.8024 783.413 31.8024 790.543 Q31.8024 797.649 33.608 801.214 Q35.4367 804.756 39.0477 804.756 Q42.682 804.756 44.4875 801.214 Q46.3162 797.649 46.3162 790.543 Q46.3162 783.413 44.4875 779.872 Q42.682 776.307 39.0477 776.307 M39.0477 772.603 Q44.8579 772.603 47.9134 777.21 Q50.9921 781.793 50.9921 790.543 Q50.9921 799.27 47.9134 803.876 Q44.8579 808.46 39.0477 808.46 Q33.2376 808.46 30.1589 803.876 Q27.1034 799.27 27.1034 790.543 Q27.1034 781.793 30.1589 777.21 Q33.2376 772.603 39.0477 772.603 Z\" fill=\"#000000\" fill-rule=\"evenodd\" fill-opacity=\"1\" /><path clip-path=\"url(#clip260)\" d=\"M 0 0 M3.07572 487.041 Q-0.535376 487.041 -2.36407 490.606 Q-4.16962 494.147 -4.16962 501.277 Q-4.16962 508.384 -2.36407 511.948 Q-0.535376 515.49 3.07572 515.49 Q6.70996 515.49 8.5155 511.948 Q10.3442 508.384 10.3442 501.277 Q10.3442 494.147 8.5155 490.606 Q6.70996 487.041 3.07572 487.041 M3.07572 483.337 Q8.88587 483.337 11.9414 487.944 Q15.0201 492.527 15.0201 501.277 Q15.0201 510.004 11.9414 514.61 Q8.88587 519.194 3.07572 519.194 Q-2.73444 519.194 -5.81313 514.61 Q-8.86866 510.004 -8.86866 501.277 Q-8.86866 492.527 -5.81313 487.944 Q-2.73444 483.337 3.07572 483.337 Z\" fill=\"#000000\" fill-rule=\"evenodd\" fill-opacity=\"1\" /><path clip-path=\"url(#clip260)\" d=\"M 0 0 M20.0895 512.643 L24.9737 512.643 L24.9737 518.522 L20.0895 518.522 L20.0895 512.643 Z\" fill=\"#000000\" fill-rule=\"evenodd\" fill-opacity=\"1\" /><path clip-path=\"url(#clip260)\" d=\"M 0 0 M30.0895 483.962 L48.4458 483.962 L48.4458 487.898 L34.3718 487.898 L34.3718 496.37 Q35.3904 496.022 36.4089 495.86 Q37.4274 495.675 38.4459 495.675 Q44.2329 495.675 47.6125 498.847 Q50.9921 502.018 50.9921 507.434 Q50.9921 513.013 47.5199 516.115 Q44.0477 519.194 37.7283 519.194 Q35.5524 519.194 33.2839 518.823 Q31.0385 518.453 28.6311 517.712 L28.6311 513.013 Q30.7145 514.147 32.9367 514.703 Q35.1589 515.258 37.6357 515.258 Q41.6403 515.258 43.9783 513.152 Q46.3162 511.046 46.3162 507.434 Q46.3162 503.823 43.9783 501.717 Q41.6403 499.61 37.6357 499.61 Q35.7607 499.61 33.8857 500.027 Q32.0339 500.444 30.0895 501.323 L30.0895 483.962 Z\" fill=\"#000000\" fill-rule=\"evenodd\" fill-opacity=\"1\" /><path clip-path=\"url(#clip260)\" d=\"M 0 0 M-5.88257 225.321 L1.75628 225.321 L1.75628 198.956 L-6.55386 200.622 L-6.55386 196.363 L1.70998 194.696 L6.38588 194.696 L6.38588 225.321 L14.0247 225.321 L14.0247 229.256 L-5.88257 229.256 L-5.88257 225.321 Z\" fill=\"#000000\" fill-rule=\"evenodd\" fill-opacity=\"1\" /><path clip-path=\"url(#clip260)\" d=\"M 0 0 M19.0941 223.377 L23.9784 223.377 L23.9784 229.256 L19.0941 229.256 L19.0941 223.377 Z\" fill=\"#000000\" fill-rule=\"evenodd\" fill-opacity=\"1\" /><path clip-path=\"url(#clip260)\" d=\"M 0 0 M39.0477 197.775 Q35.4367 197.775 33.608 201.34 Q31.8024 204.882 31.8024 212.011 Q31.8024 219.118 33.608 222.682 Q35.4367 226.224 39.0477 226.224 Q42.682 226.224 44.4875 222.682 Q46.3162 219.118 46.3162 212.011 Q46.3162 204.882 44.4875 201.34 Q42.682 197.775 39.0477 197.775 M39.0477 194.071 Q44.8579 194.071 47.9134 198.678 Q50.9921 203.261 50.9921 212.011 Q50.9921 220.738 47.9134 225.344 Q44.8579 229.928 39.0477 229.928 Q33.2376 229.928 30.1589 225.344 Q27.1034 220.738 27.1034 212.011 Q27.1034 203.261 30.1589 198.678 Q33.2376 194.071 39.0477 194.071 Z\" fill=\"#000000\" fill-rule=\"evenodd\" fill-opacity=\"1\" /><path clip-path=\"url(#clip260)\" d=\"M 0 0 M410.581 6.912 L430.442 6.912 L430.442 10.8472 L415.257 10.8472 L415.257 21.0323 L428.961 21.0323 L428.961 24.9675 L415.257 24.9675 L415.257 41.472 L410.581 41.472 L410.581 6.912 Z\" fill=\"#000000\" fill-rule=\"evenodd\" fill-opacity=\"1\" /><path clip-path=\"url(#clip260)\" d=\"M 0 0 M431.877 31.2406 L431.877 15.5462 L436.137 15.5462 L436.137 31.0785 Q436.137 34.7591 437.572 36.6109 Q439.007 38.4396 441.877 38.4396 Q445.326 38.4396 447.317 36.2405 Q449.331 34.0415 449.331 30.2452 L449.331 15.5462 L453.59 15.5462 L453.59 41.472 L449.331 41.472 L449.331 37.4905 Q447.78 39.8516 445.72 41.009 Q443.683 42.1433 440.975 42.1433 Q436.507 42.1433 434.192 39.3655 Q431.877 36.5878 431.877 31.2406 M442.595 14.9212 L442.595 14.9212 Z\" fill=\"#000000\" fill-rule=\"evenodd\" fill-opacity=\"1\" /><path clip-path=\"url(#clip260)\" d=\"M 0 0 M456.206 15.5462 L476.437 15.5462 L476.437 19.4351 L460.419 38.0692 L476.437 38.0692 L476.437 41.472 L455.627 41.472 L455.627 37.5831 L471.646 18.949 L456.206 18.949 L456.206 15.5462 Z\" fill=\"#000000\" fill-rule=\"evenodd\" fill-opacity=\"1\" /><path clip-path=\"url(#clip260)\" d=\"M 0 0 M479.053 15.5462 L499.284 15.5462 L499.284 19.4351 L483.266 38.0692 L499.284 38.0692 L499.284 41.472 L478.474 41.472 L478.474 37.5831 L494.493 18.949 L479.053 18.949 L479.053 15.5462 Z\" fill=\"#000000\" fill-rule=\"evenodd\" fill-opacity=\"1\" /><path clip-path=\"url(#clip260)\" d=\"M 0 0 M514.539 43.8794 Q512.733 48.509 511.02 49.921 Q509.307 51.3331 506.437 51.3331 L503.034 51.3331 L503.034 47.7683 L505.534 47.7683 Q507.294 47.7683 508.266 46.9349 Q509.238 46.1016 510.419 42.9998 L511.182 41.0553 L500.696 15.5462 L505.21 15.5462 L513.312 35.8239 L521.414 15.5462 L525.928 15.5462 L514.539 43.8794 Z\" fill=\"#000000\" fill-rule=\"evenodd\" fill-opacity=\"1\" /><path clip-path=\"url(#clip260)\" d=\"M 0 0 M542.131 11.5185 L535.789 28.7174 L548.497 28.7174 L542.131 11.5185 M539.493 6.912 L544.793 6.912 L557.965 41.472 L553.104 41.472 L549.955 32.6063 L534.377 32.6063 L531.229 41.472 L526.298 41.472 L539.493 6.912 Z\" fill=\"#000000\" fill-rule=\"evenodd\" fill-opacity=\"1\" /><path clip-path=\"url(#clip260)\" d=\"M 0 0 M579.006 25.2684 Q580.511 25.7776 581.923 27.4443 Q583.358 29.111 584.793 32.0276 L589.539 41.472 L584.515 41.472 L580.094 32.6063 Q578.381 29.1341 576.761 27.9998 Q575.164 26.8656 572.386 26.8656 L567.293 26.8656 L567.293 41.472 L562.617 41.472 L562.617 6.912 L573.173 6.912 Q579.099 6.912 582.015 9.38884 Q584.932 11.8657 584.932 16.8657 Q584.932 20.1295 583.404 22.2823 Q581.9 24.4351 579.006 25.2684 M567.293 10.7546 L567.293 23.023 L573.173 23.023 Q576.552 23.023 578.265 21.4721 Q580.002 19.898 580.002 16.8657 Q580.002 13.8333 578.265 12.3055 Q576.552 10.7546 573.173 10.7546 L567.293 10.7546 Z\" fill=\"#000000\" fill-rule=\"evenodd\" fill-opacity=\"1\" /><path clip-path=\"url(#clip260)\" d=\"M 0 0 M585.951 6.912 L615.187 6.912 L615.187 10.8472 L602.918 10.8472 L602.918 41.472 L598.219 41.472 L598.219 10.8472 L585.951 10.8472 L585.951 6.912 Z\" fill=\"#000000\" fill-rule=\"evenodd\" fill-opacity=\"1\" /><path clip-path=\"url(#clip260)\" d=\"M 0 0 M649.747 19.5277 Q649.029 19.111 648.172 18.9258 Q647.339 18.7175 646.321 18.7175 Q642.71 18.7175 640.765 21.0786 Q638.844 23.4165 638.844 27.8147 L638.844 41.472 L634.561 41.472 L634.561 15.5462 L638.844 15.5462 L638.844 19.574 Q640.186 17.2129 642.339 16.0786 Q644.492 14.9212 647.571 14.9212 Q648.01 14.9212 648.543 14.9907 Q649.075 15.037 649.723 15.1527 L649.747 19.5277 Z\" fill=\"#000000\" fill-rule=\"evenodd\" fill-opacity=\"1\" /><path clip-path=\"url(#clip260)\" d=\"M 0 0 M674.932 25.8239 L674.932 41.472 L670.672 41.472 L670.672 25.9628 Q670.672 22.2823 669.237 20.4536 Q667.802 18.6249 664.932 18.6249 Q661.483 18.6249 659.492 20.824 Q657.501 23.023 657.501 26.8193 L657.501 41.472 L653.219 41.472 L653.219 5.45367 L657.501 5.45367 L657.501 19.574 Q659.029 17.236 661.089 16.0786 Q663.172 14.9212 665.881 14.9212 Q670.348 14.9212 672.64 17.699 Q674.932 20.4536 674.932 25.8239 Z\" fill=\"#000000\" fill-rule=\"evenodd\" fill-opacity=\"1\" /><path clip-path=\"url(#clip260)\" d=\"M 0 0 M689.445 18.5323 Q686.019 18.5323 684.029 21.2175 Q682.038 23.8795 682.038 28.5323 Q682.038 33.185 684.006 35.8702 Q685.996 38.5322 689.445 38.5322 Q692.848 38.5322 694.839 35.847 Q696.83 33.1619 696.83 28.5323 Q696.83 23.9258 694.839 21.2406 Q692.848 18.5323 689.445 18.5323 M689.445 14.9212 Q695.001 14.9212 698.172 18.5323 Q701.343 22.1434 701.343 28.5323 Q701.343 34.898 698.172 38.5322 Q695.001 42.1433 689.445 42.1433 Q683.867 42.1433 680.695 38.5322 Q677.547 34.898 677.547 28.5323 Q677.547 22.1434 680.695 18.5323 Q683.867 14.9212 689.445 14.9212 Z\" fill=\"#000000\" fill-rule=\"evenodd\" fill-opacity=\"1\" /><path clip-path=\"url(#clip260)\" d=\"M 0 0 M721.436 19.9443 L751.112 19.9443 L751.112 23.8332 L721.436 23.8332 L721.436 19.9443 M721.436 29.3887 L751.112 29.3887 L751.112 33.3239 L721.436 33.3239 L721.436 29.3887 Z\" fill=\"#000000\" fill-rule=\"evenodd\" fill-opacity=\"1\" /><path clip-path=\"url(#clip260)\" d=\"M 0 0 M781.25 9.99069 Q777.639 9.99069 775.811 13.5555 Q774.005 17.0971 774.005 24.2267 Q774.005 31.3332 775.811 34.898 Q777.639 38.4396 781.25 38.4396 Q784.885 38.4396 786.69 34.898 Q788.519 31.3332 788.519 24.2267 Q788.519 17.0971 786.69 13.5555 Q784.885 9.99069 781.25 9.99069 M781.25 6.287 Q787.061 6.287 790.116 10.8935 Q793.195 15.4768 793.195 24.2267 Q793.195 32.9535 790.116 37.56 Q787.061 42.1433 781.25 42.1433 Q775.44 42.1433 772.362 37.56 Q769.306 32.9535 769.306 24.2267 Q769.306 15.4768 772.362 10.8935 Q775.44 6.287 781.25 6.287 Z\" fill=\"#000000\" fill-rule=\"evenodd\" fill-opacity=\"1\" /><path clip-path=\"url(#clip260)\" d=\"M 0 0 M798.264 35.5924 L803.148 35.5924 L803.148 41.472 L798.264 41.472 L798.264 35.5924 Z\" fill=\"#000000\" fill-rule=\"evenodd\" fill-opacity=\"1\" /><path clip-path=\"url(#clip260)\" d=\"M 0 0 M808.264 6.912 L826.621 6.912 L826.621 10.8472 L812.547 10.8472 L812.547 19.3193 Q813.565 18.9721 814.584 18.8101 Q815.602 18.6249 816.621 18.6249 Q822.408 18.6249 825.787 21.7962 Q829.167 24.9675 829.167 30.3841 Q829.167 35.9628 825.695 39.0646 Q822.222 42.1433 815.903 42.1433 Q813.727 42.1433 811.459 41.7729 Q809.213 41.4026 806.806 40.6618 L806.806 35.9628 Q808.889 37.097 811.111 37.6526 Q813.334 38.2081 815.81 38.2081 Q819.815 38.2081 822.153 36.1017 Q824.491 33.9952 824.491 30.3841 Q824.491 26.773 822.153 24.6665 Q819.815 22.5601 815.81 22.5601 Q813.935 22.5601 812.06 22.9767 Q810.209 23.3934 808.264 24.273 L808.264 6.912 Z\" fill=\"#000000\" fill-rule=\"evenodd\" fill-opacity=\"1\" /><circle clip-path=\"url(#clip262)\" cx=\"1054.4\" cy=\"495.244\" r=\"14\" fill=\"#009af9\" fill-rule=\"evenodd\" fill-opacity=\"1\" stroke=\"#000000\" stroke-opacity=\"1\" stroke-width=\"3.2\"/>\n",
       "<circle clip-path=\"url(#clip262)\" cx=\"1065.59\" cy=\"778.058\" r=\"14\" fill=\"#009af9\" fill-rule=\"evenodd\" fill-opacity=\"1\" stroke=\"#000000\" stroke-opacity=\"1\" stroke-width=\"3.2\"/>\n",
       "<circle clip-path=\"url(#clip262)\" cx=\"1020.8\" cy=\"560.329\" r=\"14\" fill=\"#009af9\" fill-rule=\"evenodd\" fill-opacity=\"1\" stroke=\"#000000\" stroke-opacity=\"1\" stroke-width=\"3.2\"/>\n",
       "<circle clip-path=\"url(#clip262)\" cx=\"1122.59\" cy=\"983.916\" r=\"14\" fill=\"#009af9\" fill-rule=\"evenodd\" fill-opacity=\"1\" stroke=\"#000000\" stroke-opacity=\"1\" stroke-width=\"3.2\"/>\n",
       "<circle clip-path=\"url(#clip262)\" cx=\"1091.38\" cy=\"922.263\" r=\"14\" fill=\"#009af9\" fill-rule=\"evenodd\" fill-opacity=\"1\" stroke=\"#000000\" stroke-opacity=\"1\" stroke-width=\"3.2\"/>\n",
       "<circle clip-path=\"url(#clip262)\" cx=\"1066.97\" cy=\"317.217\" r=\"14\" fill=\"#009af9\" fill-rule=\"evenodd\" fill-opacity=\"1\" stroke=\"#000000\" stroke-opacity=\"1\" stroke-width=\"3.2\"/>\n",
       "<circle clip-path=\"url(#clip262)\" cx=\"1079.02\" cy=\"723.971\" r=\"14\" fill=\"#009af9\" fill-rule=\"evenodd\" fill-opacity=\"1\" stroke=\"#000000\" stroke-opacity=\"1\" stroke-width=\"3.2\"/>\n",
       "<circle clip-path=\"url(#clip262)\" cx=\"1049.81\" cy=\"413.343\" r=\"14\" fill=\"#009af9\" fill-rule=\"evenodd\" fill-opacity=\"1\" stroke=\"#000000\" stroke-opacity=\"1\" stroke-width=\"3.2\"/>\n",
       "<circle clip-path=\"url(#clip262)\" cx=\"1099.21\" cy=\"918.119\" r=\"14\" fill=\"#009af9\" fill-rule=\"evenodd\" fill-opacity=\"1\" stroke=\"#000000\" stroke-opacity=\"1\" stroke-width=\"3.2\"/>\n",
       "<circle clip-path=\"url(#clip262)\" cx=\"1106.26\" cy=\"1120.73\" r=\"14\" fill=\"#009af9\" fill-rule=\"evenodd\" fill-opacity=\"1\" stroke=\"#000000\" stroke-opacity=\"1\" stroke-width=\"3.2\"/>\n",
       "<circle clip-path=\"url(#clip262)\" cx=\"1070.09\" cy=\"104.257\" r=\"14\" fill=\"#009af9\" fill-rule=\"evenodd\" fill-opacity=\"1\" stroke=\"#000000\" stroke-opacity=\"1\" stroke-width=\"3.2\"/>\n",
       "<circle clip-path=\"url(#clip262)\" cx=\"1067.37\" cy=\"439.455\" r=\"14\" fill=\"#009af9\" fill-rule=\"evenodd\" fill-opacity=\"1\" stroke=\"#000000\" stroke-opacity=\"1\" stroke-width=\"3.2\"/>\n",
       "<circle clip-path=\"url(#clip262)\" cx=\"1063.22\" cy=\"154.111\" r=\"14\" fill=\"#009af9\" fill-rule=\"evenodd\" fill-opacity=\"1\" stroke=\"#000000\" stroke-opacity=\"1\" stroke-width=\"3.2\"/>\n",
       "<circle clip-path=\"url(#clip262)\" cx=\"1062.21\" cy=\"653.94\" r=\"14\" fill=\"#009af9\" fill-rule=\"evenodd\" fill-opacity=\"1\" stroke=\"#000000\" stroke-opacity=\"1\" stroke-width=\"3.2\"/>\n",
       "<circle clip-path=\"url(#clip262)\" cx=\"1050.01\" cy=\"870.957\" r=\"14\" fill=\"#009af9\" fill-rule=\"evenodd\" fill-opacity=\"1\" stroke=\"#000000\" stroke-opacity=\"1\" stroke-width=\"3.2\"/>\n",
       "<circle clip-path=\"url(#clip262)\" cx=\"790.037\" cy=\"1369.68\" r=\"14\" fill=\"#e26f46\" fill-rule=\"evenodd\" fill-opacity=\"1\" stroke=\"#000000\" stroke-opacity=\"1\" stroke-width=\"3.2\"/>\n",
       "<circle clip-path=\"url(#clip262)\" cx=\"542.567\" cy=\"896.027\" r=\"14\" fill=\"#e26f46\" fill-rule=\"evenodd\" fill-opacity=\"1\" stroke=\"#000000\" stroke-opacity=\"1\" stroke-width=\"3.2\"/>\n",
       "<circle clip-path=\"url(#clip262)\" cx=\"558.498\" cy=\"1004.96\" r=\"14\" fill=\"#e26f46\" fill-rule=\"evenodd\" fill-opacity=\"1\" stroke=\"#000000\" stroke-opacity=\"1\" stroke-width=\"3.2\"/>\n",
       "<circle clip-path=\"url(#clip262)\" cx=\"516.706\" cy=\"626.268\" r=\"14\" fill=\"#e26f46\" fill-rule=\"evenodd\" fill-opacity=\"1\" stroke=\"#000000\" stroke-opacity=\"1\" stroke-width=\"3.2\"/>\n",
       "<circle clip-path=\"url(#clip262)\" cx=\"486.644\" cy=\"1230.78\" r=\"14\" fill=\"#e26f46\" fill-rule=\"evenodd\" fill-opacity=\"1\" stroke=\"#000000\" stroke-opacity=\"1\" stroke-width=\"3.2\"/>\n",
       "<circle clip-path=\"url(#clip262)\" cx=\"573.13\" cy=\"703.509\" r=\"14\" fill=\"#e26f46\" fill-rule=\"evenodd\" fill-opacity=\"1\" stroke=\"#000000\" stroke-opacity=\"1\" stroke-width=\"3.2\"/>\n",
       "<circle clip-path=\"url(#clip262)\" cx=\"517.903\" cy=\"746.893\" r=\"14\" fill=\"#e26f46\" fill-rule=\"evenodd\" fill-opacity=\"1\" stroke=\"#000000\" stroke-opacity=\"1\" stroke-width=\"3.2\"/>\n",
       "<circle clip-path=\"url(#clip262)\" cx=\"626.188\" cy=\"1081.64\" r=\"14\" fill=\"#e26f46\" fill-rule=\"evenodd\" fill-opacity=\"1\" stroke=\"#000000\" stroke-opacity=\"1\" stroke-width=\"3.2\"/>\n",
       "<circle clip-path=\"url(#clip262)\" cx=\"704.693\" cy=\"936.192\" r=\"14\" fill=\"#e26f46\" fill-rule=\"evenodd\" fill-opacity=\"1\" stroke=\"#000000\" stroke-opacity=\"1\" stroke-width=\"3.2\"/>\n",
       "<circle clip-path=\"url(#clip262)\" cx=\"654.462\" cy=\"1183.71\" r=\"14\" fill=\"#e26f46\" fill-rule=\"evenodd\" fill-opacity=\"1\" stroke=\"#000000\" stroke-opacity=\"1\" stroke-width=\"3.2\"/>\n",
       "<circle clip-path=\"url(#clip262)\" cx=\"626.003\" cy=\"829.168\" r=\"14\" fill=\"#e26f46\" fill-rule=\"evenodd\" fill-opacity=\"1\" stroke=\"#000000\" stroke-opacity=\"1\" stroke-width=\"3.2\"/>\n",
       "<circle clip-path=\"url(#clip262)\" cx=\"601.937\" cy=\"1479.74\" r=\"14\" fill=\"#e26f46\" fill-rule=\"evenodd\" fill-opacity=\"1\" stroke=\"#000000\" stroke-opacity=\"1\" stroke-width=\"3.2\"/>\n",
       "<circle clip-path=\"url(#clip262)\" cx=\"639.983\" cy=\"1107.48\" r=\"14\" fill=\"#e26f46\" fill-rule=\"evenodd\" fill-opacity=\"1\" stroke=\"#000000\" stroke-opacity=\"1\" stroke-width=\"3.2\"/>\n",
       "<circle clip-path=\"url(#clip262)\" cx=\"486.919\" cy=\"980.013\" r=\"14\" fill=\"#3da44d\" fill-rule=\"evenodd\" fill-opacity=\"1\" stroke=\"#000000\" stroke-opacity=\"1\" stroke-width=\"3.2\"/>\n",
       "<circle clip-path=\"url(#clip262)\" cx=\"469.513\" cy=\"1123.12\" r=\"14\" fill=\"#3da44d\" fill-rule=\"evenodd\" fill-opacity=\"1\" stroke=\"#000000\" stroke-opacity=\"1\" stroke-width=\"3.2\"/>\n",
       "<circle clip-path=\"url(#clip262)\" cx=\"361.329\" cy=\"710.146\" r=\"14\" fill=\"#3da44d\" fill-rule=\"evenodd\" fill-opacity=\"1\" stroke=\"#000000\" stroke-opacity=\"1\" stroke-width=\"3.2\"/>\n",
       "<circle clip-path=\"url(#clip262)\" cx=\"291.542\" cy=\"592.688\" r=\"14\" fill=\"#3da44d\" fill-rule=\"evenodd\" fill-opacity=\"1\" stroke=\"#000000\" stroke-opacity=\"1\" stroke-width=\"3.2\"/>\n",
       "<circle clip-path=\"url(#clip262)\" cx=\"258.317\" cy=\"574.865\" r=\"14\" fill=\"#3da44d\" fill-rule=\"evenodd\" fill-opacity=\"1\" stroke=\"#000000\" stroke-opacity=\"1\" stroke-width=\"3.2\"/>\n",
       "<circle clip-path=\"url(#clip262)\" cx=\"358.311\" cy=\"665.962\" r=\"14\" fill=\"#3da44d\" fill-rule=\"evenodd\" fill-opacity=\"1\" stroke=\"#000000\" stroke-opacity=\"1\" stroke-width=\"3.2\"/>\n",
       "<circle clip-path=\"url(#clip262)\" cx=\"488.647\" cy=\"393.96\" r=\"14\" fill=\"#3da44d\" fill-rule=\"evenodd\" fill-opacity=\"1\" stroke=\"#000000\" stroke-opacity=\"1\" stroke-width=\"3.2\"/>\n",
       "<circle clip-path=\"url(#clip262)\" cx=\"513.595\" cy=\"839.229\" r=\"14\" fill=\"#3da44d\" fill-rule=\"evenodd\" fill-opacity=\"1\" stroke=\"#000000\" stroke-opacity=\"1\" stroke-width=\"3.2\"/>\n",
       "<circle clip-path=\"url(#clip262)\" cx=\"246.895\" cy=\"339.033\" r=\"14\" fill=\"#3da44d\" fill-rule=\"evenodd\" fill-opacity=\"1\" stroke=\"#000000\" stroke-opacity=\"1\" stroke-width=\"3.2\"/>\n",
       "<circle clip-path=\"url(#clip262)\" cx=\"417.713\" cy=\"745.082\" r=\"14\" fill=\"#3da44d\" fill-rule=\"evenodd\" fill-opacity=\"1\" stroke=\"#000000\" stroke-opacity=\"1\" stroke-width=\"3.2\"/>\n",
       "<circle clip-path=\"url(#clip262)\" cx=\"291.881\" cy=\"467.475\" r=\"14\" fill=\"#3da44d\" fill-rule=\"evenodd\" fill-opacity=\"1\" stroke=\"#000000\" stroke-opacity=\"1\" stroke-width=\"3.2\"/>\n",
       "<circle clip-path=\"url(#clip262)\" cx=\"304.087\" cy=\"797.359\" r=\"14\" fill=\"#3da44d\" fill-rule=\"evenodd\" fill-opacity=\"1\" stroke=\"#000000\" stroke-opacity=\"1\" stroke-width=\"3.2\"/>\n",
       "<circle clip-path=\"url(#clip262)\" cx=\"117.155\" cy=\"643.986\" r=\"14\" fill=\"#3da44d\" fill-rule=\"evenodd\" fill-opacity=\"1\" stroke=\"#000000\" stroke-opacity=\"1\" stroke-width=\"3.2\"/>\n",
       "<circle clip-path=\"url(#clip262)\" cx=\"479.796\" cy=\"1239.69\" r=\"14\" fill=\"#3da44d\" fill-rule=\"evenodd\" fill-opacity=\"1\" stroke=\"#000000\" stroke-opacity=\"1\" stroke-width=\"3.2\"/>\n",
       "<circle clip-path=\"url(#clip262)\" cx=\"359.294\" cy=\"916.817\" r=\"14\" fill=\"#3da44d\" fill-rule=\"evenodd\" fill-opacity=\"1\" stroke=\"#000000\" stroke-opacity=\"1\" stroke-width=\"3.2\"/>\n",
       "<circle clip-path=\"url(#clip262)\" cx=\"462.114\" cy=\"498.818\" r=\"14\" fill=\"#3da44d\" fill-rule=\"evenodd\" fill-opacity=\"1\" stroke=\"#000000\" stroke-opacity=\"1\" stroke-width=\"3.2\"/>\n",
       "<circle clip-path=\"url(#clip262)\" cx=\"299.411\" cy=\"630.848\" r=\"14\" fill=\"#3da44d\" fill-rule=\"evenodd\" fill-opacity=\"1\" stroke=\"#000000\" stroke-opacity=\"1\" stroke-width=\"3.2\"/>\n",
       "<path clip-path=\"url(#clip260)\" d=\"\n",
       "M1286.99 1521.01 L2352.76 1521.01 L2352.76 62.9921 L1286.99 62.9921  Z\n",
       "  \" fill=\"#ffffff\" fill-rule=\"evenodd\" fill-opacity=\"1\"/>\n",
       "<defs>\n",
       "  <clipPath id=\"clip263\">\n",
       "    <rect x=\"1286\" y=\"62\" width=\"1067\" height=\"1459\"/>\n",
       "  </clipPath>\n",
       "</defs>\n",
       "<polyline clip-path=\"url(#clip263)\" style=\"stroke:#000000; stroke-width:2; stroke-opacity:0.1; fill:none\" points=\"\n",
       "  1434.78,1521.01 1434.78,62.9921 \n",
       "  \"/>\n",
       "<polyline clip-path=\"url(#clip263)\" style=\"stroke:#000000; stroke-width:2; stroke-opacity:0.1; fill:none\" points=\"\n",
       "  1582.79,1521.01 1582.79,62.9921 \n",
       "  \"/>\n",
       "<polyline clip-path=\"url(#clip263)\" style=\"stroke:#000000; stroke-width:2; stroke-opacity:0.1; fill:none\" points=\"\n",
       "  1730.8,1521.01 1730.8,62.9921 \n",
       "  \"/>\n",
       "<polyline clip-path=\"url(#clip263)\" style=\"stroke:#000000; stroke-width:2; stroke-opacity:0.1; fill:none\" points=\"\n",
       "  1878.81,1521.01 1878.81,62.9921 \n",
       "  \"/>\n",
       "<polyline clip-path=\"url(#clip263)\" style=\"stroke:#000000; stroke-width:2; stroke-opacity:0.1; fill:none\" points=\"\n",
       "  2026.82,1521.01 2026.82,62.9921 \n",
       "  \"/>\n",
       "<polyline clip-path=\"url(#clip263)\" style=\"stroke:#000000; stroke-width:2; stroke-opacity:0.1; fill:none\" points=\"\n",
       "  2174.83,1521.01 2174.83,62.9921 \n",
       "  \"/>\n",
       "<polyline clip-path=\"url(#clip263)\" style=\"stroke:#000000; stroke-width:2; stroke-opacity:0.1; fill:none\" points=\"\n",
       "  2322.84,1521.01 2322.84,62.9921 \n",
       "  \"/>\n",
       "<polyline clip-path=\"url(#clip260)\" style=\"stroke:#000000; stroke-width:4; stroke-opacity:1; fill:none\" points=\"\n",
       "  1286.99,1521.01 2352.76,1521.01 \n",
       "  \"/>\n",
       "<polyline clip-path=\"url(#clip260)\" style=\"stroke:#000000; stroke-width:4; stroke-opacity:1; fill:none\" points=\"\n",
       "  1434.78,1521.01 1434.78,1503.51 \n",
       "  \"/>\n",
       "<polyline clip-path=\"url(#clip260)\" style=\"stroke:#000000; stroke-width:4; stroke-opacity:1; fill:none\" points=\"\n",
       "  1582.79,1521.01 1582.79,1503.51 \n",
       "  \"/>\n",
       "<polyline clip-path=\"url(#clip260)\" style=\"stroke:#000000; stroke-width:4; stroke-opacity:1; fill:none\" points=\"\n",
       "  1730.8,1521.01 1730.8,1503.51 \n",
       "  \"/>\n",
       "<polyline clip-path=\"url(#clip260)\" style=\"stroke:#000000; stroke-width:4; stroke-opacity:1; fill:none\" points=\"\n",
       "  1878.81,1521.01 1878.81,1503.51 \n",
       "  \"/>\n",
       "<polyline clip-path=\"url(#clip260)\" style=\"stroke:#000000; stroke-width:4; stroke-opacity:1; fill:none\" points=\"\n",
       "  2026.82,1521.01 2026.82,1503.51 \n",
       "  \"/>\n",
       "<polyline clip-path=\"url(#clip260)\" style=\"stroke:#000000; stroke-width:4; stroke-opacity:1; fill:none\" points=\"\n",
       "  2174.83,1521.01 2174.83,1503.51 \n",
       "  \"/>\n",
       "<polyline clip-path=\"url(#clip260)\" style=\"stroke:#000000; stroke-width:4; stroke-opacity:1; fill:none\" points=\"\n",
       "  2322.84,1521.01 2322.84,1503.51 \n",
       "  \"/>\n",
       "<path clip-path=\"url(#clip260)\" d=\"M 0 0 M1413.76 1558.69 L1436.02 1558.69 L1436.02 1561.64 L1413.76 1561.64 L1413.76 1558.69 Z\" fill=\"#000000\" fill-rule=\"evenodd\" fill-opacity=\"1\" /><path clip-path=\"url(#clip260)\" d=\"M 0 0 M1450.45 1557.34 Q1452.96 1557.87 1454.37 1559.58 Q1455.79 1561.28 1455.79 1563.78 Q1455.79 1567.61 1453.15 1569.71 Q1450.52 1571.82 1445.65 1571.82 Q1444.02 1571.82 1442.29 1571.49 Q1440.57 1571.17 1438.73 1570.53 L1438.73 1567.15 Q1440.19 1568 1441.92 1568.43 Q1443.66 1568.86 1445.55 1568.86 Q1448.85 1568.86 1450.57 1567.56 Q1452.3 1566.26 1452.3 1563.78 Q1452.3 1561.49 1450.69 1560.2 Q1449.09 1558.9 1446.23 1558.9 L1443.21 1558.9 L1443.21 1556.02 L1446.37 1556.02 Q1448.95 1556.02 1450.32 1554.99 Q1451.7 1553.95 1451.7 1552.01 Q1451.7 1550.01 1450.27 1548.95 Q1448.87 1547.87 1446.23 1547.87 Q1444.79 1547.87 1443.14 1548.19 Q1441.49 1548.5 1439.51 1549.16 L1439.51 1546.03 Q1441.51 1545.48 1443.24 1545.2 Q1444.99 1544.92 1446.54 1544.92 Q1450.53 1544.92 1452.86 1546.75 Q1455.19 1548.55 1455.19 1551.64 Q1455.19 1553.79 1453.95 1555.29 Q1452.72 1556.76 1450.45 1557.34 Z\" fill=\"#000000\" fill-rule=\"evenodd\" fill-opacity=\"1\" /><path clip-path=\"url(#clip260)\" d=\"M 0 0 M1562.13 1558.69 L1584.39 1558.69 L1584.39 1561.64 L1562.13 1561.64 L1562.13 1558.69 Z\" fill=\"#000000\" fill-rule=\"evenodd\" fill-opacity=\"1\" /><path clip-path=\"url(#clip260)\" d=\"M 0 0 M1591.21 1568.36 L1603.45 1568.36 L1603.45 1571.31 L1586.99 1571.31 L1586.99 1568.36 Q1588.99 1566.29 1592.42 1562.82 Q1595.88 1559.33 1596.76 1558.33 Q1598.45 1556.43 1599.11 1555.13 Q1599.79 1553.81 1599.79 1552.54 Q1599.79 1550.48 1598.33 1549.18 Q1596.89 1547.87 1594.56 1547.87 Q1592.91 1547.87 1591.07 1548.45 Q1589.25 1549.02 1587.16 1550.18 L1587.16 1546.64 Q1589.28 1545.79 1591.12 1545.36 Q1592.96 1544.92 1594.49 1544.92 Q1598.52 1544.92 1600.91 1546.94 Q1603.31 1548.95 1603.31 1552.32 Q1603.31 1553.92 1602.7 1555.36 Q1602.11 1556.78 1600.53 1558.73 Q1600.1 1559.23 1597.77 1561.64 Q1595.45 1564.04 1591.21 1568.36 Z\" fill=\"#000000\" fill-rule=\"evenodd\" fill-opacity=\"1\" /><path clip-path=\"url(#clip260)\" d=\"M 0 0 M1710 1558.69 L1732.26 1558.69 L1732.26 1561.64 L1710 1561.64 L1710 1558.69 Z\" fill=\"#000000\" fill-rule=\"evenodd\" fill-opacity=\"1\" /><path clip-path=\"url(#clip260)\" d=\"M 0 0 M1736.67 1568.36 L1742.4 1568.36 L1742.4 1548.59 L1736.16 1549.84 L1736.16 1546.64 L1742.36 1545.39 L1745.87 1545.39 L1745.87 1568.36 L1751.6 1568.36 L1751.6 1571.31 L1736.67 1571.31 L1736.67 1568.36 Z\" fill=\"#000000\" fill-rule=\"evenodd\" fill-opacity=\"1\" /><path clip-path=\"url(#clip260)\" d=\"M 0 0 M1878.81 1547.7 Q1876.1 1547.7 1874.73 1550.37 Q1873.38 1553.03 1873.38 1558.38 Q1873.38 1563.71 1874.73 1566.38 Q1876.1 1569.04 1878.81 1569.04 Q1881.54 1569.04 1882.89 1566.38 Q1884.26 1563.71 1884.26 1558.38 Q1884.26 1553.03 1882.89 1550.37 Q1881.54 1547.7 1878.81 1547.7 M1878.81 1544.92 Q1883.17 1544.92 1885.46 1548.38 Q1887.77 1551.82 1887.77 1558.38 Q1887.77 1564.92 1885.46 1568.38 Q1883.17 1571.82 1878.81 1571.82 Q1874.45 1571.82 1872.14 1568.38 Q1869.85 1564.92 1869.85 1558.38 Q1869.85 1551.82 1872.14 1548.38 Q1874.45 1544.92 1878.81 1544.92 Z\" fill=\"#000000\" fill-rule=\"evenodd\" fill-opacity=\"1\" /><path clip-path=\"url(#clip260)\" d=\"M 0 0 M2019.61 1568.36 L2025.34 1568.36 L2025.34 1548.59 L2019.11 1549.84 L2019.11 1546.64 L2025.3 1545.39 L2028.81 1545.39 L2028.81 1568.36 L2034.54 1568.36 L2034.54 1571.31 L2019.61 1571.31 L2019.61 1568.36 Z\" fill=\"#000000\" fill-rule=\"evenodd\" fill-opacity=\"1\" /><path clip-path=\"url(#clip260)\" d=\"M 0 0 M2170.82 1568.36 L2183.06 1568.36 L2183.06 1571.31 L2166.6 1571.31 L2166.6 1568.36 Q2168.6 1566.29 2172.04 1562.82 Q2175.49 1559.33 2176.38 1558.33 Q2178.06 1556.43 2178.72 1555.13 Q2179.4 1553.81 2179.4 1552.54 Q2179.4 1550.48 2177.94 1549.18 Q2176.5 1547.87 2174.17 1547.87 Q2172.52 1547.87 2170.68 1548.45 Q2168.86 1549.02 2166.78 1550.18 L2166.78 1546.64 Q2168.9 1545.79 2170.74 1545.36 Q2172.58 1544.92 2174.1 1544.92 Q2178.13 1544.92 2180.53 1546.94 Q2182.92 1548.95 2182.92 1552.32 Q2182.92 1553.92 2182.32 1555.36 Q2181.73 1556.78 2180.15 1558.73 Q2179.71 1559.23 2177.39 1561.64 Q2175.06 1564.04 2170.82 1568.36 Z\" fill=\"#000000\" fill-rule=\"evenodd\" fill-opacity=\"1\" /><path clip-path=\"url(#clip260)\" d=\"M 0 0 M2326.03 1557.34 Q2328.55 1557.87 2329.95 1559.58 Q2331.38 1561.28 2331.38 1563.78 Q2331.38 1567.61 2328.74 1569.71 Q2326.1 1571.82 2321.24 1571.82 Q2319.61 1571.82 2317.87 1571.49 Q2316.15 1571.17 2314.31 1570.53 L2314.31 1567.15 Q2315.77 1568 2317.51 1568.43 Q2319.24 1568.86 2321.13 1568.86 Q2324.43 1568.86 2326.15 1567.56 Q2327.89 1566.26 2327.89 1563.78 Q2327.89 1561.49 2326.27 1560.2 Q2324.68 1558.9 2321.81 1558.9 L2318.79 1558.9 L2318.79 1556.02 L2321.95 1556.02 Q2324.54 1556.02 2325.91 1554.99 Q2327.28 1553.95 2327.28 1552.01 Q2327.28 1550.01 2325.86 1548.95 Q2324.45 1547.87 2321.81 1547.87 Q2320.37 1547.87 2318.72 1548.19 Q2317.07 1548.5 2315.09 1549.16 L2315.09 1546.03 Q2317.09 1545.48 2318.83 1545.2 Q2320.58 1544.92 2322.12 1544.92 Q2326.12 1544.92 2328.44 1546.75 Q2330.77 1548.55 2330.77 1551.64 Q2330.77 1553.79 2329.54 1555.29 Q2328.3 1556.76 2326.03 1557.34 Z\" fill=\"#000000\" fill-rule=\"evenodd\" fill-opacity=\"1\" /><polyline clip-path=\"url(#clip263)\" style=\"stroke:#000000; stroke-width:2; stroke-opacity:0.1; fill:none\" points=\"\n",
       "  1286.99,1369.04 2352.76,1369.04 \n",
       "  \"/>\n",
       "<polyline clip-path=\"url(#clip263)\" style=\"stroke:#000000; stroke-width:2; stroke-opacity:0.1; fill:none\" points=\"\n",
       "  1286.99,1079.77 2352.76,1079.77 \n",
       "  \"/>\n",
       "<polyline clip-path=\"url(#clip263)\" style=\"stroke:#000000; stroke-width:2; stroke-opacity:0.1; fill:none\" points=\"\n",
       "  1286.99,790.508 2352.76,790.508 \n",
       "  \"/>\n",
       "<polyline clip-path=\"url(#clip263)\" style=\"stroke:#000000; stroke-width:2; stroke-opacity:0.1; fill:none\" points=\"\n",
       "  1286.99,501.242 2352.76,501.242 \n",
       "  \"/>\n",
       "<polyline clip-path=\"url(#clip263)\" style=\"stroke:#000000; stroke-width:2; stroke-opacity:0.1; fill:none\" points=\"\n",
       "  1286.99,211.976 2352.76,211.976 \n",
       "  \"/>\n",
       "<polyline clip-path=\"url(#clip260)\" style=\"stroke:#000000; stroke-width:4; stroke-opacity:1; fill:none\" points=\"\n",
       "  1286.99,1521.01 1286.99,62.9921 \n",
       "  \"/>\n",
       "<polyline clip-path=\"url(#clip260)\" style=\"stroke:#000000; stroke-width:4; stroke-opacity:1; fill:none\" points=\"\n",
       "  1286.99,1369.04 1299.78,1369.04 \n",
       "  \"/>\n",
       "<polyline clip-path=\"url(#clip260)\" style=\"stroke:#000000; stroke-width:4; stroke-opacity:1; fill:none\" points=\"\n",
       "  1286.99,1079.77 1299.78,1079.77 \n",
       "  \"/>\n",
       "<polyline clip-path=\"url(#clip260)\" style=\"stroke:#000000; stroke-width:4; stroke-opacity:1; fill:none\" points=\"\n",
       "  1286.99,790.508 1299.78,790.508 \n",
       "  \"/>\n",
       "<polyline clip-path=\"url(#clip260)\" style=\"stroke:#000000; stroke-width:4; stroke-opacity:1; fill:none\" points=\"\n",
       "  1286.99,501.242 1299.78,501.242 \n",
       "  \"/>\n",
       "<polyline clip-path=\"url(#clip260)\" style=\"stroke:#000000; stroke-width:4; stroke-opacity:1; fill:none\" points=\"\n",
       "  1286.99,211.976 1299.78,211.976 \n",
       "  \"/>\n",
       "<path clip-path=\"url(#clip260)\" d=\"M 0 0 M1158.56 1369.49 L1188.24 1369.49 L1188.24 1373.43 L1158.56 1373.43 L1158.56 1369.49 Z\" fill=\"#000000\" fill-rule=\"evenodd\" fill-opacity=\"1\" /><path clip-path=\"url(#clip260)\" d=\"M 0 0 M1194.12 1382.39 L1201.76 1382.39 L1201.76 1356.02 L1193.45 1357.69 L1193.45 1353.43 L1201.71 1351.76 L1206.39 1351.76 L1206.39 1382.39 L1214.02 1382.39 L1214.02 1386.32 L1194.12 1386.32 L1194.12 1382.39 Z\" fill=\"#000000\" fill-rule=\"evenodd\" fill-opacity=\"1\" /><path clip-path=\"url(#clip260)\" d=\"M 0 0 M1219.09 1380.44 L1223.98 1380.44 L1223.98 1386.32 L1219.09 1386.32 L1219.09 1380.44 Z\" fill=\"#000000\" fill-rule=\"evenodd\" fill-opacity=\"1\" /><path clip-path=\"url(#clip260)\" d=\"M 0 0 M1239.05 1354.84 Q1235.44 1354.84 1233.61 1358.4 Q1231.8 1361.95 1231.8 1369.07 Q1231.8 1376.18 1233.61 1379.75 Q1235.44 1383.29 1239.05 1383.29 Q1242.68 1383.29 1244.49 1379.75 Q1246.32 1376.18 1246.32 1369.07 Q1246.32 1361.95 1244.49 1358.4 Q1242.68 1354.84 1239.05 1354.84 M1239.05 1351.14 Q1244.86 1351.14 1247.91 1355.74 Q1250.99 1360.32 1250.99 1369.07 Q1250.99 1377.8 1247.91 1382.41 Q1244.86 1386.99 1239.05 1386.99 Q1233.24 1386.99 1230.16 1382.41 Q1227.1 1377.8 1227.1 1369.07 Q1227.1 1360.32 1230.16 1355.74 Q1233.24 1351.14 1239.05 1351.14 Z\" fill=\"#000000\" fill-rule=\"evenodd\" fill-opacity=\"1\" /><path clip-path=\"url(#clip260)\" d=\"M 0 0 M1158.33 1080.23 L1188.01 1080.23 L1188.01 1084.16 L1158.33 1084.16 L1158.33 1080.23 Z\" fill=\"#000000\" fill-rule=\"evenodd\" fill-opacity=\"1\" /><path clip-path=\"url(#clip260)\" d=\"M 0 0 M1203.08 1065.57 Q1199.46 1065.57 1197.64 1069.14 Q1195.83 1072.68 1195.83 1079.81 Q1195.83 1086.92 1197.64 1090.48 Q1199.46 1094.02 1203.08 1094.02 Q1206.71 1094.02 1208.52 1090.48 Q1210.34 1086.92 1210.34 1079.81 Q1210.34 1072.68 1208.52 1069.14 Q1206.71 1065.57 1203.08 1065.57 M1203.08 1061.87 Q1208.89 1061.87 1211.94 1066.48 Q1215.02 1071.06 1215.02 1079.81 Q1215.02 1088.54 1211.94 1093.14 Q1208.89 1097.73 1203.08 1097.73 Q1197.27 1097.73 1194.19 1093.14 Q1191.13 1088.54 1191.13 1079.81 Q1191.13 1071.06 1194.19 1066.48 Q1197.27 1061.87 1203.08 1061.87 Z\" fill=\"#000000\" fill-rule=\"evenodd\" fill-opacity=\"1\" /><path clip-path=\"url(#clip260)\" d=\"M 0 0 M1220.09 1091.17 L1224.97 1091.17 L1224.97 1097.05 L1220.09 1097.05 L1220.09 1091.17 Z\" fill=\"#000000\" fill-rule=\"evenodd\" fill-opacity=\"1\" /><path clip-path=\"url(#clip260)\" d=\"M 0 0 M1230.09 1062.49 L1248.45 1062.49 L1248.45 1066.43 L1234.37 1066.43 L1234.37 1074.9 Q1235.39 1074.55 1236.41 1074.39 Q1237.43 1074.21 1238.45 1074.21 Q1244.23 1074.21 1247.61 1077.38 Q1250.99 1080.55 1250.99 1085.97 Q1250.99 1091.55 1247.52 1094.65 Q1244.05 1097.73 1237.73 1097.73 Q1235.55 1097.73 1233.28 1097.36 Q1231.04 1096.98 1228.63 1096.24 L1228.63 1091.55 Q1230.71 1092.68 1232.94 1093.23 Q1235.16 1093.79 1237.64 1093.79 Q1241.64 1093.79 1243.98 1091.68 Q1246.32 1089.58 1246.32 1085.97 Q1246.32 1082.36 1243.98 1080.25 Q1241.64 1078.14 1237.64 1078.14 Q1235.76 1078.14 1233.89 1078.56 Q1232.03 1078.98 1230.09 1079.86 L1230.09 1062.49 Z\" fill=\"#000000\" fill-rule=\"evenodd\" fill-opacity=\"1\" /><path clip-path=\"url(#clip260)\" d=\"M 0 0 M1202.08 776.307 Q1198.47 776.307 1196.64 779.872 Q1194.84 783.413 1194.84 790.543 Q1194.84 797.649 1196.64 801.214 Q1198.47 804.756 1202.08 804.756 Q1205.71 804.756 1207.52 801.214 Q1209.35 797.649 1209.35 790.543 Q1209.35 783.413 1207.52 779.872 Q1205.71 776.307 1202.08 776.307 M1202.08 772.603 Q1207.89 772.603 1210.95 777.21 Q1214.02 781.793 1214.02 790.543 Q1214.02 799.27 1210.95 803.876 Q1207.89 808.46 1202.08 808.46 Q1196.27 808.46 1193.19 803.876 Q1190.14 799.27 1190.14 790.543 Q1190.14 781.793 1193.19 777.21 Q1196.27 772.603 1202.08 772.603 Z\" fill=\"#000000\" fill-rule=\"evenodd\" fill-opacity=\"1\" /><path clip-path=\"url(#clip260)\" d=\"M 0 0 M1219.09 801.909 L1223.98 801.909 L1223.98 807.788 L1219.09 807.788 L1219.09 801.909 Z\" fill=\"#000000\" fill-rule=\"evenodd\" fill-opacity=\"1\" /><path clip-path=\"url(#clip260)\" d=\"M 0 0 M1239.05 776.307 Q1235.44 776.307 1233.61 779.872 Q1231.8 783.413 1231.8 790.543 Q1231.8 797.649 1233.61 801.214 Q1235.44 804.756 1239.05 804.756 Q1242.68 804.756 1244.49 801.214 Q1246.32 797.649 1246.32 790.543 Q1246.32 783.413 1244.49 779.872 Q1242.68 776.307 1239.05 776.307 M1239.05 772.603 Q1244.86 772.603 1247.91 777.21 Q1250.99 781.793 1250.99 790.543 Q1250.99 799.27 1247.91 803.876 Q1244.86 808.46 1239.05 808.46 Q1233.24 808.46 1230.16 803.876 Q1227.1 799.27 1227.1 790.543 Q1227.1 781.793 1230.16 777.21 Q1233.24 772.603 1239.05 772.603 Z\" fill=\"#000000\" fill-rule=\"evenodd\" fill-opacity=\"1\" /><path clip-path=\"url(#clip260)\" d=\"M 0 0 M1203.08 487.041 Q1199.46 487.041 1197.64 490.606 Q1195.83 494.147 1195.83 501.277 Q1195.83 508.384 1197.64 511.948 Q1199.46 515.49 1203.08 515.49 Q1206.71 515.49 1208.52 511.948 Q1210.34 508.384 1210.34 501.277 Q1210.34 494.147 1208.52 490.606 Q1206.71 487.041 1203.08 487.041 M1203.08 483.337 Q1208.89 483.337 1211.94 487.944 Q1215.02 492.527 1215.02 501.277 Q1215.02 510.004 1211.94 514.61 Q1208.89 519.194 1203.08 519.194 Q1197.27 519.194 1194.19 514.61 Q1191.13 510.004 1191.13 501.277 Q1191.13 492.527 1194.19 487.944 Q1197.27 483.337 1203.08 483.337 Z\" fill=\"#000000\" fill-rule=\"evenodd\" fill-opacity=\"1\" /><path clip-path=\"url(#clip260)\" d=\"M 0 0 M1220.09 512.643 L1224.97 512.643 L1224.97 518.522 L1220.09 518.522 L1220.09 512.643 Z\" fill=\"#000000\" fill-rule=\"evenodd\" fill-opacity=\"1\" /><path clip-path=\"url(#clip260)\" d=\"M 0 0 M1230.09 483.962 L1248.45 483.962 L1248.45 487.898 L1234.37 487.898 L1234.37 496.37 Q1235.39 496.022 1236.41 495.86 Q1237.43 495.675 1238.45 495.675 Q1244.23 495.675 1247.61 498.847 Q1250.99 502.018 1250.99 507.434 Q1250.99 513.013 1247.52 516.115 Q1244.05 519.194 1237.73 519.194 Q1235.55 519.194 1233.28 518.823 Q1231.04 518.453 1228.63 517.712 L1228.63 513.013 Q1230.71 514.147 1232.94 514.703 Q1235.16 515.258 1237.64 515.258 Q1241.64 515.258 1243.98 513.152 Q1246.32 511.046 1246.32 507.434 Q1246.32 503.823 1243.98 501.717 Q1241.64 499.61 1237.64 499.61 Q1235.76 499.61 1233.89 500.027 Q1232.03 500.444 1230.09 501.323 L1230.09 483.962 Z\" fill=\"#000000\" fill-rule=\"evenodd\" fill-opacity=\"1\" /><path clip-path=\"url(#clip260)\" d=\"M 0 0 M1194.12 225.321 L1201.76 225.321 L1201.76 198.956 L1193.45 200.622 L1193.45 196.363 L1201.71 194.696 L1206.39 194.696 L1206.39 225.321 L1214.02 225.321 L1214.02 229.256 L1194.12 229.256 L1194.12 225.321 Z\" fill=\"#000000\" fill-rule=\"evenodd\" fill-opacity=\"1\" /><path clip-path=\"url(#clip260)\" d=\"M 0 0 M1219.09 223.377 L1223.98 223.377 L1223.98 229.256 L1219.09 229.256 L1219.09 223.377 Z\" fill=\"#000000\" fill-rule=\"evenodd\" fill-opacity=\"1\" /><path clip-path=\"url(#clip260)\" d=\"M 0 0 M1239.05 197.775 Q1235.44 197.775 1233.61 201.34 Q1231.8 204.882 1231.8 212.011 Q1231.8 219.118 1233.61 222.682 Q1235.44 226.224 1239.05 226.224 Q1242.68 226.224 1244.49 222.682 Q1246.32 219.118 1246.32 212.011 Q1246.32 204.882 1244.49 201.34 Q1242.68 197.775 1239.05 197.775 M1239.05 194.071 Q1244.86 194.071 1247.91 198.678 Q1250.99 203.261 1250.99 212.011 Q1250.99 220.738 1247.91 225.344 Q1244.86 229.928 1239.05 229.928 Q1233.24 229.928 1230.16 225.344 Q1227.1 220.738 1227.1 212.011 Q1227.1 203.261 1230.16 198.678 Q1233.24 194.071 1239.05 194.071 Z\" fill=\"#000000\" fill-rule=\"evenodd\" fill-opacity=\"1\" /><path clip-path=\"url(#clip260)\" d=\"M 0 0 M1610.53 6.912 L1630.4 6.912 L1630.4 10.8472 L1615.21 10.8472 L1615.21 21.0323 L1628.91 21.0323 L1628.91 24.9675 L1615.21 24.9675 L1615.21 41.472 L1610.53 41.472 L1610.53 6.912 Z\" fill=\"#000000\" fill-rule=\"evenodd\" fill-opacity=\"1\" /><path clip-path=\"url(#clip260)\" d=\"M 0 0 M1631.83 31.2406 L1631.83 15.5462 L1636.09 15.5462 L1636.09 31.0785 Q1636.09 34.7591 1637.53 36.6109 Q1638.96 38.4396 1641.83 38.4396 Q1645.28 38.4396 1647.27 36.2405 Q1649.28 34.0415 1649.28 30.2452 L1649.28 15.5462 L1653.54 15.5462 L1653.54 41.472 L1649.28 41.472 L1649.28 37.4905 Q1647.73 39.8516 1645.67 41.009 Q1643.64 42.1433 1640.93 42.1433 Q1636.46 42.1433 1634.15 39.3655 Q1631.83 36.5878 1631.83 31.2406 M1642.55 14.9212 L1642.55 14.9212 Z\" fill=\"#000000\" fill-rule=\"evenodd\" fill-opacity=\"1\" /><path clip-path=\"url(#clip260)\" d=\"M 0 0 M1656.16 15.5462 L1676.39 15.5462 L1676.39 19.4351 L1660.37 38.0692 L1676.39 38.0692 L1676.39 41.472 L1655.58 41.472 L1655.58 37.5831 L1671.6 18.949 L1656.16 18.949 L1656.16 15.5462 Z\" fill=\"#000000\" fill-rule=\"evenodd\" fill-opacity=\"1\" /><path clip-path=\"url(#clip260)\" d=\"M 0 0 M1679.01 15.5462 L1699.24 15.5462 L1699.24 19.4351 L1683.22 38.0692 L1699.24 38.0692 L1699.24 41.472 L1678.43 41.472 L1678.43 37.5831 L1694.45 18.949 L1679.01 18.949 L1679.01 15.5462 Z\" fill=\"#000000\" fill-rule=\"evenodd\" fill-opacity=\"1\" /><path clip-path=\"url(#clip260)\" d=\"M 0 0 M1714.49 43.8794 Q1712.69 48.509 1710.97 49.921 Q1709.26 51.3331 1706.39 51.3331 L1702.99 51.3331 L1702.99 47.7683 L1705.49 47.7683 Q1707.25 47.7683 1708.22 46.9349 Q1709.19 46.1016 1710.37 42.9998 L1711.14 41.0553 L1700.65 15.5462 L1705.16 15.5462 L1713.27 35.8239 L1721.37 15.5462 L1725.88 15.5462 L1714.49 43.8794 Z\" fill=\"#000000\" fill-rule=\"evenodd\" fill-opacity=\"1\" /><path clip-path=\"url(#clip260)\" d=\"M 0 0 M1742.09 11.5185 L1735.74 28.7174 L1748.45 28.7174 L1742.09 11.5185 M1739.45 6.912 L1744.75 6.912 L1757.92 41.472 L1753.06 41.472 L1749.91 32.6063 L1734.33 32.6063 L1731.18 41.472 L1726.25 41.472 L1739.45 6.912 Z\" fill=\"#000000\" fill-rule=\"evenodd\" fill-opacity=\"1\" /><path clip-path=\"url(#clip260)\" d=\"M 0 0 M1778.96 25.2684 Q1780.46 25.7776 1781.88 27.4443 Q1783.31 29.111 1784.75 32.0276 L1789.49 41.472 L1784.47 41.472 L1780.05 32.6063 Q1778.33 29.1341 1776.71 27.9998 Q1775.12 26.8656 1772.34 26.8656 L1767.25 26.8656 L1767.25 41.472 L1762.57 41.472 L1762.57 6.912 L1773.13 6.912 Q1779.05 6.912 1781.97 9.38884 Q1784.89 11.8657 1784.89 16.8657 Q1784.89 20.1295 1783.36 22.2823 Q1781.85 24.4351 1778.96 25.2684 M1767.25 10.7546 L1767.25 23.023 L1773.13 23.023 Q1776.51 23.023 1778.22 21.4721 Q1779.96 19.898 1779.96 16.8657 Q1779.96 13.8333 1778.22 12.3055 Q1776.51 10.7546 1773.13 10.7546 L1767.25 10.7546 Z\" fill=\"#000000\" fill-rule=\"evenodd\" fill-opacity=\"1\" /><path clip-path=\"url(#clip260)\" d=\"M 0 0 M1785.9 6.912 L1815.14 6.912 L1815.14 10.8472 L1802.87 10.8472 L1802.87 41.472 L1798.17 41.472 L1798.17 10.8472 L1785.9 10.8472 L1785.9 6.912 Z\" fill=\"#000000\" fill-rule=\"evenodd\" fill-opacity=\"1\" /><path clip-path=\"url(#clip260)\" d=\"M 0 0 M1849.7 19.5277 Q1848.98 19.111 1848.13 18.9258 Q1847.29 18.7175 1846.27 18.7175 Q1842.66 18.7175 1840.72 21.0786 Q1838.8 23.4165 1838.8 27.8147 L1838.8 41.472 L1834.52 41.472 L1834.52 15.5462 L1838.8 15.5462 L1838.8 19.574 Q1840.14 17.2129 1842.29 16.0786 Q1844.45 14.9212 1847.52 14.9212 Q1847.96 14.9212 1848.5 14.9907 Q1849.03 15.037 1849.68 15.1527 L1849.7 19.5277 Z\" fill=\"#000000\" fill-rule=\"evenodd\" fill-opacity=\"1\" /><path clip-path=\"url(#clip260)\" d=\"M 0 0 M1874.89 25.8239 L1874.89 41.472 L1870.63 41.472 L1870.63 25.9628 Q1870.63 22.2823 1869.19 20.4536 Q1867.76 18.6249 1864.89 18.6249 Q1861.44 18.6249 1859.45 20.824 Q1857.45 23.023 1857.45 26.8193 L1857.45 41.472 L1853.17 41.472 L1853.17 5.45367 L1857.45 5.45367 L1857.45 19.574 Q1858.98 17.236 1861.04 16.0786 Q1863.13 14.9212 1865.83 14.9212 Q1870.3 14.9212 1872.59 17.699 Q1874.89 20.4536 1874.89 25.8239 Z\" fill=\"#000000\" fill-rule=\"evenodd\" fill-opacity=\"1\" /><path clip-path=\"url(#clip260)\" d=\"M 0 0 M1889.4 18.5323 Q1885.97 18.5323 1883.98 21.2175 Q1881.99 23.8795 1881.99 28.5323 Q1881.99 33.185 1883.96 35.8702 Q1885.95 38.5322 1889.4 38.5322 Q1892.8 38.5322 1894.79 35.847 Q1896.78 33.1619 1896.78 28.5323 Q1896.78 23.9258 1894.79 21.2406 Q1892.8 18.5323 1889.4 18.5323 M1889.4 14.9212 Q1894.95 14.9212 1898.13 18.5323 Q1901.3 22.1434 1901.3 28.5323 Q1901.3 34.898 1898.13 38.5322 Q1894.95 42.1433 1889.4 42.1433 Q1883.82 42.1433 1880.65 38.5322 Q1877.5 34.898 1877.5 28.5323 Q1877.5 22.1434 1880.65 18.5323 Q1883.82 14.9212 1889.4 14.9212 Z\" fill=\"#000000\" fill-rule=\"evenodd\" fill-opacity=\"1\" /><path clip-path=\"url(#clip260)\" d=\"M 0 0 M1921.39 19.9443 L1951.07 19.9443 L1951.07 23.8332 L1921.39 23.8332 L1921.39 19.9443 M1921.39 29.3887 L1951.07 29.3887 L1951.07 33.3239 L1921.39 33.3239 L1921.39 29.3887 Z\" fill=\"#000000\" fill-rule=\"evenodd\" fill-opacity=\"1\" /><path clip-path=\"url(#clip260)\" d=\"M 0 0 M1981.2 9.99069 Q1977.59 9.99069 1975.76 13.5555 Q1973.96 17.0971 1973.96 24.2267 Q1973.96 31.3332 1975.76 34.898 Q1977.59 38.4396 1981.2 38.4396 Q1984.84 38.4396 1986.64 34.898 Q1988.47 31.3332 1988.47 24.2267 Q1988.47 17.0971 1986.64 13.5555 Q1984.84 9.99069 1981.2 9.99069 M1981.2 6.287 Q1987.01 6.287 1990.07 10.8935 Q1993.15 15.4768 1993.15 24.2267 Q1993.15 32.9535 1990.07 37.56 Q1987.01 42.1433 1981.2 42.1433 Q1975.39 42.1433 1972.32 37.56 Q1969.26 32.9535 1969.26 24.2267 Q1969.26 15.4768 1972.32 10.8935 Q1975.39 6.287 1981.2 6.287 Z\" fill=\"#000000\" fill-rule=\"evenodd\" fill-opacity=\"1\" /><path clip-path=\"url(#clip260)\" d=\"M 0 0 M1998.22 35.5924 L2003.1 35.5924 L2003.1 41.472 L1998.22 41.472 L1998.22 35.5924 Z\" fill=\"#000000\" fill-rule=\"evenodd\" fill-opacity=\"1\" /><path clip-path=\"url(#clip260)\" d=\"M 0 0 M2006.99 6.912 L2029.21 6.912 L2029.21 8.90273 L2016.67 41.472 L2011.78 41.472 L2023.59 10.8472 L2006.99 10.8472 L2006.99 6.912 Z\" fill=\"#000000\" fill-rule=\"evenodd\" fill-opacity=\"1\" /><circle clip-path=\"url(#clip263)\" cx=\"2254.4\" cy=\"495.244\" r=\"14\" fill=\"#009af9\" fill-rule=\"evenodd\" fill-opacity=\"1\" stroke=\"#000000\" stroke-opacity=\"1\" stroke-width=\"3.2\"/>\n",
       "<circle clip-path=\"url(#clip263)\" cx=\"2265.59\" cy=\"778.058\" r=\"14\" fill=\"#009af9\" fill-rule=\"evenodd\" fill-opacity=\"1\" stroke=\"#000000\" stroke-opacity=\"1\" stroke-width=\"3.2\"/>\n",
       "<circle clip-path=\"url(#clip263)\" cx=\"2220.8\" cy=\"560.329\" r=\"14\" fill=\"#009af9\" fill-rule=\"evenodd\" fill-opacity=\"1\" stroke=\"#000000\" stroke-opacity=\"1\" stroke-width=\"3.2\"/>\n",
       "<circle clip-path=\"url(#clip263)\" cx=\"2322.59\" cy=\"983.916\" r=\"14\" fill=\"#009af9\" fill-rule=\"evenodd\" fill-opacity=\"1\" stroke=\"#000000\" stroke-opacity=\"1\" stroke-width=\"3.2\"/>\n",
       "<circle clip-path=\"url(#clip263)\" cx=\"2291.38\" cy=\"922.263\" r=\"14\" fill=\"#009af9\" fill-rule=\"evenodd\" fill-opacity=\"1\" stroke=\"#000000\" stroke-opacity=\"1\" stroke-width=\"3.2\"/>\n",
       "<circle clip-path=\"url(#clip263)\" cx=\"2266.97\" cy=\"317.217\" r=\"14\" fill=\"#009af9\" fill-rule=\"evenodd\" fill-opacity=\"1\" stroke=\"#000000\" stroke-opacity=\"1\" stroke-width=\"3.2\"/>\n",
       "<circle clip-path=\"url(#clip263)\" cx=\"2279.02\" cy=\"723.971\" r=\"14\" fill=\"#009af9\" fill-rule=\"evenodd\" fill-opacity=\"1\" stroke=\"#000000\" stroke-opacity=\"1\" stroke-width=\"3.2\"/>\n",
       "<circle clip-path=\"url(#clip263)\" cx=\"2249.81\" cy=\"413.343\" r=\"14\" fill=\"#009af9\" fill-rule=\"evenodd\" fill-opacity=\"1\" stroke=\"#000000\" stroke-opacity=\"1\" stroke-width=\"3.2\"/>\n",
       "<circle clip-path=\"url(#clip263)\" cx=\"2299.21\" cy=\"918.119\" r=\"14\" fill=\"#009af9\" fill-rule=\"evenodd\" fill-opacity=\"1\" stroke=\"#000000\" stroke-opacity=\"1\" stroke-width=\"3.2\"/>\n",
       "<circle clip-path=\"url(#clip263)\" cx=\"2306.26\" cy=\"1120.73\" r=\"14\" fill=\"#009af9\" fill-rule=\"evenodd\" fill-opacity=\"1\" stroke=\"#000000\" stroke-opacity=\"1\" stroke-width=\"3.2\"/>\n",
       "<circle clip-path=\"url(#clip263)\" cx=\"2270.09\" cy=\"104.257\" r=\"14\" fill=\"#009af9\" fill-rule=\"evenodd\" fill-opacity=\"1\" stroke=\"#000000\" stroke-opacity=\"1\" stroke-width=\"3.2\"/>\n",
       "<circle clip-path=\"url(#clip263)\" cx=\"2267.37\" cy=\"439.455\" r=\"14\" fill=\"#009af9\" fill-rule=\"evenodd\" fill-opacity=\"1\" stroke=\"#000000\" stroke-opacity=\"1\" stroke-width=\"3.2\"/>\n",
       "<circle clip-path=\"url(#clip263)\" cx=\"2263.22\" cy=\"154.111\" r=\"14\" fill=\"#009af9\" fill-rule=\"evenodd\" fill-opacity=\"1\" stroke=\"#000000\" stroke-opacity=\"1\" stroke-width=\"3.2\"/>\n",
       "<circle clip-path=\"url(#clip263)\" cx=\"2262.21\" cy=\"653.94\" r=\"14\" fill=\"#009af9\" fill-rule=\"evenodd\" fill-opacity=\"1\" stroke=\"#000000\" stroke-opacity=\"1\" stroke-width=\"3.2\"/>\n",
       "<circle clip-path=\"url(#clip263)\" cx=\"2250.01\" cy=\"870.957\" r=\"14\" fill=\"#009af9\" fill-rule=\"evenodd\" fill-opacity=\"1\" stroke=\"#000000\" stroke-opacity=\"1\" stroke-width=\"3.2\"/>\n",
       "<circle clip-path=\"url(#clip263)\" cx=\"1990.04\" cy=\"1369.68\" r=\"14\" fill=\"#e26f46\" fill-rule=\"evenodd\" fill-opacity=\"1\" stroke=\"#000000\" stroke-opacity=\"1\" stroke-width=\"3.2\"/>\n",
       "<circle clip-path=\"url(#clip263)\" cx=\"1742.57\" cy=\"896.027\" r=\"14\" fill=\"#e26f46\" fill-rule=\"evenodd\" fill-opacity=\"1\" stroke=\"#000000\" stroke-opacity=\"1\" stroke-width=\"3.2\"/>\n",
       "<circle clip-path=\"url(#clip263)\" cx=\"1758.5\" cy=\"1004.96\" r=\"14\" fill=\"#e26f46\" fill-rule=\"evenodd\" fill-opacity=\"1\" stroke=\"#000000\" stroke-opacity=\"1\" stroke-width=\"3.2\"/>\n",
       "<circle clip-path=\"url(#clip263)\" cx=\"1716.71\" cy=\"626.268\" r=\"14\" fill=\"#e26f46\" fill-rule=\"evenodd\" fill-opacity=\"1\" stroke=\"#000000\" stroke-opacity=\"1\" stroke-width=\"3.2\"/>\n",
       "<circle clip-path=\"url(#clip263)\" cx=\"1686.64\" cy=\"1230.78\" r=\"14\" fill=\"#e26f46\" fill-rule=\"evenodd\" fill-opacity=\"1\" stroke=\"#000000\" stroke-opacity=\"1\" stroke-width=\"3.2\"/>\n",
       "<circle clip-path=\"url(#clip263)\" cx=\"1688.65\" cy=\"393.96\" r=\"14\" fill=\"#e26f46\" fill-rule=\"evenodd\" fill-opacity=\"1\" stroke=\"#000000\" stroke-opacity=\"1\" stroke-width=\"3.2\"/>\n",
       "<circle clip-path=\"url(#clip263)\" cx=\"1773.13\" cy=\"703.509\" r=\"14\" fill=\"#e26f46\" fill-rule=\"evenodd\" fill-opacity=\"1\" stroke=\"#000000\" stroke-opacity=\"1\" stroke-width=\"3.2\"/>\n",
       "<circle clip-path=\"url(#clip263)\" cx=\"1717.9\" cy=\"746.893\" r=\"14\" fill=\"#e26f46\" fill-rule=\"evenodd\" fill-opacity=\"1\" stroke=\"#000000\" stroke-opacity=\"1\" stroke-width=\"3.2\"/>\n",
       "<circle clip-path=\"url(#clip263)\" cx=\"1826.19\" cy=\"1081.64\" r=\"14\" fill=\"#e26f46\" fill-rule=\"evenodd\" fill-opacity=\"1\" stroke=\"#000000\" stroke-opacity=\"1\" stroke-width=\"3.2\"/>\n",
       "<circle clip-path=\"url(#clip263)\" cx=\"1904.69\" cy=\"936.192\" r=\"14\" fill=\"#e26f46\" fill-rule=\"evenodd\" fill-opacity=\"1\" stroke=\"#000000\" stroke-opacity=\"1\" stroke-width=\"3.2\"/>\n",
       "<circle clip-path=\"url(#clip263)\" cx=\"1854.46\" cy=\"1183.71\" r=\"14\" fill=\"#e26f46\" fill-rule=\"evenodd\" fill-opacity=\"1\" stroke=\"#000000\" stroke-opacity=\"1\" stroke-width=\"3.2\"/>\n",
       "<circle clip-path=\"url(#clip263)\" cx=\"1826\" cy=\"829.168\" r=\"14\" fill=\"#e26f46\" fill-rule=\"evenodd\" fill-opacity=\"1\" stroke=\"#000000\" stroke-opacity=\"1\" stroke-width=\"3.2\"/>\n",
       "<circle clip-path=\"url(#clip263)\" cx=\"1801.94\" cy=\"1479.74\" r=\"14\" fill=\"#e26f46\" fill-rule=\"evenodd\" fill-opacity=\"1\" stroke=\"#000000\" stroke-opacity=\"1\" stroke-width=\"3.2\"/>\n",
       "<circle clip-path=\"url(#clip263)\" cx=\"1839.98\" cy=\"1107.48\" r=\"14\" fill=\"#e26f46\" fill-rule=\"evenodd\" fill-opacity=\"1\" stroke=\"#000000\" stroke-opacity=\"1\" stroke-width=\"3.2\"/>\n",
       "<circle clip-path=\"url(#clip263)\" cx=\"1686.92\" cy=\"980.013\" r=\"14\" fill=\"#3da44d\" fill-rule=\"evenodd\" fill-opacity=\"1\" stroke=\"#000000\" stroke-opacity=\"1\" stroke-width=\"3.2\"/>\n",
       "<circle clip-path=\"url(#clip263)\" cx=\"1669.51\" cy=\"1123.12\" r=\"14\" fill=\"#3da44d\" fill-rule=\"evenodd\" fill-opacity=\"1\" stroke=\"#000000\" stroke-opacity=\"1\" stroke-width=\"3.2\"/>\n",
       "<circle clip-path=\"url(#clip263)\" cx=\"1561.33\" cy=\"710.146\" r=\"14\" fill=\"#3da44d\" fill-rule=\"evenodd\" fill-opacity=\"1\" stroke=\"#000000\" stroke-opacity=\"1\" stroke-width=\"3.2\"/>\n",
       "<circle clip-path=\"url(#clip263)\" cx=\"1491.54\" cy=\"592.688\" r=\"14\" fill=\"#3da44d\" fill-rule=\"evenodd\" fill-opacity=\"1\" stroke=\"#000000\" stroke-opacity=\"1\" stroke-width=\"3.2\"/>\n",
       "<circle clip-path=\"url(#clip263)\" cx=\"1458.32\" cy=\"574.865\" r=\"14\" fill=\"#3da44d\" fill-rule=\"evenodd\" fill-opacity=\"1\" stroke=\"#000000\" stroke-opacity=\"1\" stroke-width=\"3.2\"/>\n",
       "<circle clip-path=\"url(#clip263)\" cx=\"1558.31\" cy=\"665.962\" r=\"14\" fill=\"#3da44d\" fill-rule=\"evenodd\" fill-opacity=\"1\" stroke=\"#000000\" stroke-opacity=\"1\" stroke-width=\"3.2\"/>\n",
       "<circle clip-path=\"url(#clip263)\" cx=\"1713.6\" cy=\"839.229\" r=\"14\" fill=\"#3da44d\" fill-rule=\"evenodd\" fill-opacity=\"1\" stroke=\"#000000\" stroke-opacity=\"1\" stroke-width=\"3.2\"/>\n",
       "<circle clip-path=\"url(#clip263)\" cx=\"1446.89\" cy=\"339.033\" r=\"14\" fill=\"#3da44d\" fill-rule=\"evenodd\" fill-opacity=\"1\" stroke=\"#000000\" stroke-opacity=\"1\" stroke-width=\"3.2\"/>\n",
       "<circle clip-path=\"url(#clip263)\" cx=\"1617.71\" cy=\"745.082\" r=\"14\" fill=\"#3da44d\" fill-rule=\"evenodd\" fill-opacity=\"1\" stroke=\"#000000\" stroke-opacity=\"1\" stroke-width=\"3.2\"/>\n",
       "<circle clip-path=\"url(#clip263)\" cx=\"1491.88\" cy=\"467.475\" r=\"14\" fill=\"#3da44d\" fill-rule=\"evenodd\" fill-opacity=\"1\" stroke=\"#000000\" stroke-opacity=\"1\" stroke-width=\"3.2\"/>\n",
       "<circle clip-path=\"url(#clip263)\" cx=\"1504.09\" cy=\"797.359\" r=\"14\" fill=\"#3da44d\" fill-rule=\"evenodd\" fill-opacity=\"1\" stroke=\"#000000\" stroke-opacity=\"1\" stroke-width=\"3.2\"/>\n",
       "<circle clip-path=\"url(#clip263)\" cx=\"1317.16\" cy=\"643.986\" r=\"14\" fill=\"#3da44d\" fill-rule=\"evenodd\" fill-opacity=\"1\" stroke=\"#000000\" stroke-opacity=\"1\" stroke-width=\"3.2\"/>\n",
       "<circle clip-path=\"url(#clip263)\" cx=\"1679.8\" cy=\"1239.69\" r=\"14\" fill=\"#3da44d\" fill-rule=\"evenodd\" fill-opacity=\"1\" stroke=\"#000000\" stroke-opacity=\"1\" stroke-width=\"3.2\"/>\n",
       "<circle clip-path=\"url(#clip263)\" cx=\"1559.29\" cy=\"916.817\" r=\"14\" fill=\"#3da44d\" fill-rule=\"evenodd\" fill-opacity=\"1\" stroke=\"#000000\" stroke-opacity=\"1\" stroke-width=\"3.2\"/>\n",
       "<circle clip-path=\"url(#clip263)\" cx=\"1662.11\" cy=\"498.818\" r=\"14\" fill=\"#3da44d\" fill-rule=\"evenodd\" fill-opacity=\"1\" stroke=\"#000000\" stroke-opacity=\"1\" stroke-width=\"3.2\"/>\n",
       "<circle clip-path=\"url(#clip263)\" cx=\"1499.41\" cy=\"630.848\" r=\"14\" fill=\"#3da44d\" fill-rule=\"evenodd\" fill-opacity=\"1\" stroke=\"#000000\" stroke-opacity=\"1\" stroke-width=\"3.2\"/>\n",
       "</svg>\n"
      ],
      "image/svg+xml": [
       "<?xml version=\"1.0\" encoding=\"utf-8\"?>\n",
       "<svg xmlns=\"http://www.w3.org/2000/svg\" xmlns:xlink=\"http://www.w3.org/1999/xlink\" width=\"600\" height=\"400\" viewBox=\"0 0 2400 1600\">\n",
       "<defs>\n",
       "  <clipPath id=\"clip230\">\n",
       "    <rect x=\"0\" y=\"0\" width=\"2400\" height=\"1600\"/>\n",
       "  </clipPath>\n",
       "</defs>\n",
       "<path clip-path=\"url(#clip230)\" d=\"\n",
       "M0 1600 L2400 1600 L2400 0 L0 0  Z\n",
       "  \" fill=\"#ffffff\" fill-rule=\"evenodd\" fill-opacity=\"1\"/>\n",
       "<defs>\n",
       "  <clipPath id=\"clip231\">\n",
       "    <rect x=\"480\" y=\"0\" width=\"1681\" height=\"1600\"/>\n",
       "  </clipPath>\n",
       "</defs>\n",
       "<path clip-path=\"url(#clip230)\" d=\"\n",
       "M86.9921 1521.01 L1152.76 1521.01 L1152.76 62.9921 L86.9921 62.9921  Z\n",
       "  \" fill=\"#ffffff\" fill-rule=\"evenodd\" fill-opacity=\"1\"/>\n",
       "<defs>\n",
       "  <clipPath id=\"clip232\">\n",
       "    <rect x=\"86\" y=\"62\" width=\"1067\" height=\"1459\"/>\n",
       "  </clipPath>\n",
       "</defs>\n",
       "<polyline clip-path=\"url(#clip232)\" style=\"stroke:#000000; stroke-width:2; stroke-opacity:0.1; fill:none\" points=\"\n",
       "  234.778,1521.01 234.778,62.9921 \n",
       "  \"/>\n",
       "<polyline clip-path=\"url(#clip232)\" style=\"stroke:#000000; stroke-width:2; stroke-opacity:0.1; fill:none\" points=\"\n",
       "  382.789,1521.01 382.789,62.9921 \n",
       "  \"/>\n",
       "<polyline clip-path=\"url(#clip232)\" style=\"stroke:#000000; stroke-width:2; stroke-opacity:0.1; fill:none\" points=\"\n",
       "  530.8,1521.01 530.8,62.9921 \n",
       "  \"/>\n",
       "<polyline clip-path=\"url(#clip232)\" style=\"stroke:#000000; stroke-width:2; stroke-opacity:0.1; fill:none\" points=\"\n",
       "  678.811,1521.01 678.811,62.9921 \n",
       "  \"/>\n",
       "<polyline clip-path=\"url(#clip232)\" style=\"stroke:#000000; stroke-width:2; stroke-opacity:0.1; fill:none\" points=\"\n",
       "  826.823,1521.01 826.823,62.9921 \n",
       "  \"/>\n",
       "<polyline clip-path=\"url(#clip232)\" style=\"stroke:#000000; stroke-width:2; stroke-opacity:0.1; fill:none\" points=\"\n",
       "  974.834,1521.01 974.834,62.9921 \n",
       "  \"/>\n",
       "<polyline clip-path=\"url(#clip232)\" style=\"stroke:#000000; stroke-width:2; stroke-opacity:0.1; fill:none\" points=\"\n",
       "  1122.84,1521.01 1122.84,62.9921 \n",
       "  \"/>\n",
       "<polyline clip-path=\"url(#clip230)\" style=\"stroke:#000000; stroke-width:4; stroke-opacity:1; fill:none\" points=\"\n",
       "  86.9921,1521.01 1152.76,1521.01 \n",
       "  \"/>\n",
       "<polyline clip-path=\"url(#clip230)\" style=\"stroke:#000000; stroke-width:4; stroke-opacity:1; fill:none\" points=\"\n",
       "  234.778,1521.01 234.778,1503.51 \n",
       "  \"/>\n",
       "<polyline clip-path=\"url(#clip230)\" style=\"stroke:#000000; stroke-width:4; stroke-opacity:1; fill:none\" points=\"\n",
       "  382.789,1521.01 382.789,1503.51 \n",
       "  \"/>\n",
       "<polyline clip-path=\"url(#clip230)\" style=\"stroke:#000000; stroke-width:4; stroke-opacity:1; fill:none\" points=\"\n",
       "  530.8,1521.01 530.8,1503.51 \n",
       "  \"/>\n",
       "<polyline clip-path=\"url(#clip230)\" style=\"stroke:#000000; stroke-width:4; stroke-opacity:1; fill:none\" points=\"\n",
       "  678.811,1521.01 678.811,1503.51 \n",
       "  \"/>\n",
       "<polyline clip-path=\"url(#clip230)\" style=\"stroke:#000000; stroke-width:4; stroke-opacity:1; fill:none\" points=\"\n",
       "  826.823,1521.01 826.823,1503.51 \n",
       "  \"/>\n",
       "<polyline clip-path=\"url(#clip230)\" style=\"stroke:#000000; stroke-width:4; stroke-opacity:1; fill:none\" points=\"\n",
       "  974.834,1521.01 974.834,1503.51 \n",
       "  \"/>\n",
       "<polyline clip-path=\"url(#clip230)\" style=\"stroke:#000000; stroke-width:4; stroke-opacity:1; fill:none\" points=\"\n",
       "  1122.84,1521.01 1122.84,1503.51 \n",
       "  \"/>\n",
       "<path clip-path=\"url(#clip230)\" d=\"M 0 0 M213.762 1558.69 L236.019 1558.69 L236.019 1561.64 L213.762 1561.64 L213.762 1558.69 Z\" fill=\"#000000\" fill-rule=\"evenodd\" fill-opacity=\"1\" /><path clip-path=\"url(#clip230)\" d=\"M 0 0 M250.446 1557.34 Q252.963 1557.87 254.37 1559.58 Q255.793 1561.28 255.793 1563.78 Q255.793 1567.61 253.154 1569.71 Q250.516 1571.82 245.654 1571.82 Q244.023 1571.82 242.286 1571.49 Q240.568 1571.17 238.727 1570.53 L238.727 1567.15 Q240.186 1568 241.922 1568.43 Q243.658 1568.86 245.55 1568.86 Q248.849 1568.86 250.568 1567.56 Q252.304 1566.26 252.304 1563.78 Q252.304 1561.49 250.689 1560.2 Q249.092 1558.9 246.227 1558.9 L243.207 1558.9 L243.207 1556.02 L246.366 1556.02 Q248.953 1556.02 250.325 1554.99 Q251.696 1553.95 251.696 1552.01 Q251.696 1550.01 250.273 1548.95 Q248.866 1547.87 246.227 1547.87 Q244.786 1547.87 243.137 1548.19 Q241.488 1548.5 239.509 1549.16 L239.509 1546.03 Q241.505 1545.48 243.241 1545.2 Q244.995 1544.92 246.54 1544.92 Q250.533 1544.92 252.859 1546.75 Q255.186 1548.55 255.186 1551.64 Q255.186 1553.79 253.953 1555.29 Q252.72 1556.76 250.446 1557.34 Z\" fill=\"#000000\" fill-rule=\"evenodd\" fill-opacity=\"1\" /><path clip-path=\"url(#clip230)\" d=\"M 0 0 M362.129 1558.69 L384.386 1558.69 L384.386 1561.64 L362.129 1561.64 L362.129 1558.69 Z\" fill=\"#000000\" fill-rule=\"evenodd\" fill-opacity=\"1\" /><path clip-path=\"url(#clip230)\" d=\"M 0 0 M391.209 1568.36 L403.449 1568.36 L403.449 1571.31 L386.99 1571.31 L386.99 1568.36 Q388.987 1566.29 392.424 1562.82 Q395.879 1559.33 396.765 1558.33 Q398.449 1556.43 399.108 1555.13 Q399.785 1553.81 399.785 1552.54 Q399.785 1550.48 398.327 1549.18 Q396.886 1547.87 394.56 1547.87 Q392.91 1547.87 391.07 1548.45 Q389.247 1549.02 387.164 1550.18 L387.164 1546.64 Q389.282 1545.79 391.122 1545.36 Q392.963 1544.92 394.49 1544.92 Q398.518 1544.92 400.914 1546.94 Q403.31 1548.95 403.31 1552.32 Q403.31 1553.92 402.702 1555.36 Q402.112 1556.78 400.532 1558.73 Q400.098 1559.23 397.772 1561.64 Q395.445 1564.04 391.209 1568.36 Z\" fill=\"#000000\" fill-rule=\"evenodd\" fill-opacity=\"1\" /><path clip-path=\"url(#clip230)\" d=\"M 0 0 M510.002 1558.69 L532.258 1558.69 L532.258 1561.64 L510.002 1561.64 L510.002 1558.69 Z\" fill=\"#000000\" fill-rule=\"evenodd\" fill-opacity=\"1\" /><path clip-path=\"url(#clip230)\" d=\"M 0 0 M536.668 1568.36 L542.397 1568.36 L542.397 1548.59 L536.165 1549.84 L536.165 1546.64 L542.363 1545.39 L545.87 1545.39 L545.87 1568.36 L551.599 1568.36 L551.599 1571.31 L536.668 1571.31 L536.668 1568.36 Z\" fill=\"#000000\" fill-rule=\"evenodd\" fill-opacity=\"1\" /><path clip-path=\"url(#clip230)\" d=\"M 0 0 M678.811 1547.7 Q676.103 1547.7 674.732 1550.37 Q673.377 1553.03 673.377 1558.38 Q673.377 1563.71 674.732 1566.38 Q676.103 1569.04 678.811 1569.04 Q681.537 1569.04 682.891 1566.38 Q684.263 1563.71 684.263 1558.38 Q684.263 1553.03 682.891 1550.37 Q681.537 1547.7 678.811 1547.7 M678.811 1544.92 Q683.169 1544.92 685.461 1548.38 Q687.77 1551.82 687.77 1558.38 Q687.77 1564.92 685.461 1568.38 Q683.169 1571.82 678.811 1571.82 Q674.454 1571.82 672.145 1568.38 Q669.853 1564.92 669.853 1558.38 Q669.853 1551.82 672.145 1548.38 Q674.454 1544.92 678.811 1544.92 Z\" fill=\"#000000\" fill-rule=\"evenodd\" fill-opacity=\"1\" /><path clip-path=\"url(#clip230)\" d=\"M 0 0 M819.609 1568.36 L825.338 1568.36 L825.338 1548.59 L819.106 1549.84 L819.106 1546.64 L825.303 1545.39 L828.81 1545.39 L828.81 1568.36 L834.54 1568.36 L834.54 1571.31 L819.609 1571.31 L819.609 1568.36 Z\" fill=\"#000000\" fill-rule=\"evenodd\" fill-opacity=\"1\" /><path clip-path=\"url(#clip230)\" d=\"M 0 0 M970.823 1568.36 L983.063 1568.36 L983.063 1571.31 L966.605 1571.31 L966.605 1568.36 Q968.601 1566.29 972.039 1562.82 Q975.493 1559.33 976.379 1558.33 Q978.063 1556.43 978.723 1555.13 Q979.4 1553.81 979.4 1552.54 Q979.4 1550.48 977.941 1549.18 Q976.5 1547.87 974.174 1547.87 Q972.525 1547.87 970.684 1548.45 Q968.862 1549.02 966.778 1550.18 L966.778 1546.64 Q968.896 1545.79 970.737 1545.36 Q972.577 1544.92 974.105 1544.92 Q978.132 1544.92 980.528 1546.94 Q982.924 1548.95 982.924 1552.32 Q982.924 1553.92 982.316 1555.36 Q981.726 1556.78 980.146 1558.73 Q979.712 1559.23 977.386 1561.64 Q975.059 1564.04 970.823 1568.36 Z\" fill=\"#000000\" fill-rule=\"evenodd\" fill-opacity=\"1\" /><path clip-path=\"url(#clip230)\" d=\"M 0 0 M1126.03 1557.34 Q1128.55 1557.87 1129.95 1559.58 Q1131.38 1561.28 1131.38 1563.78 Q1131.38 1567.61 1128.74 1569.71 Q1126.1 1571.82 1121.24 1571.82 Q1119.61 1571.82 1117.87 1571.49 Q1116.15 1571.17 1114.31 1570.53 L1114.31 1567.15 Q1115.77 1568 1117.51 1568.43 Q1119.24 1568.86 1121.13 1568.86 Q1124.43 1568.86 1126.15 1567.56 Q1127.89 1566.26 1127.89 1563.78 Q1127.89 1561.49 1126.27 1560.2 Q1124.68 1558.9 1121.81 1558.9 L1118.79 1558.9 L1118.79 1556.02 L1121.95 1556.02 Q1124.54 1556.02 1125.91 1554.99 Q1127.28 1553.95 1127.28 1552.01 Q1127.28 1550.01 1125.86 1548.95 Q1124.45 1547.87 1121.81 1547.87 Q1120.37 1547.87 1118.72 1548.19 Q1117.07 1548.5 1115.09 1549.16 L1115.09 1546.03 Q1117.09 1545.48 1118.83 1545.2 Q1120.58 1544.92 1122.12 1544.92 Q1126.12 1544.92 1128.44 1546.75 Q1130.77 1548.55 1130.77 1551.64 Q1130.77 1553.79 1129.54 1555.29 Q1128.3 1556.76 1126.03 1557.34 Z\" fill=\"#000000\" fill-rule=\"evenodd\" fill-opacity=\"1\" /><polyline clip-path=\"url(#clip232)\" style=\"stroke:#000000; stroke-width:2; stroke-opacity:0.1; fill:none\" points=\"\n",
       "  86.9921,1369.04 1152.76,1369.04 \n",
       "  \"/>\n",
       "<polyline clip-path=\"url(#clip232)\" style=\"stroke:#000000; stroke-width:2; stroke-opacity:0.1; fill:none\" points=\"\n",
       "  86.9921,1079.77 1152.76,1079.77 \n",
       "  \"/>\n",
       "<polyline clip-path=\"url(#clip232)\" style=\"stroke:#000000; stroke-width:2; stroke-opacity:0.1; fill:none\" points=\"\n",
       "  86.9921,790.508 1152.76,790.508 \n",
       "  \"/>\n",
       "<polyline clip-path=\"url(#clip232)\" style=\"stroke:#000000; stroke-width:2; stroke-opacity:0.1; fill:none\" points=\"\n",
       "  86.9921,501.242 1152.76,501.242 \n",
       "  \"/>\n",
       "<polyline clip-path=\"url(#clip232)\" style=\"stroke:#000000; stroke-width:2; stroke-opacity:0.1; fill:none\" points=\"\n",
       "  86.9921,211.976 1152.76,211.976 \n",
       "  \"/>\n",
       "<polyline clip-path=\"url(#clip230)\" style=\"stroke:#000000; stroke-width:4; stroke-opacity:1; fill:none\" points=\"\n",
       "  86.9921,1521.01 86.9921,62.9921 \n",
       "  \"/>\n",
       "<polyline clip-path=\"url(#clip230)\" style=\"stroke:#000000; stroke-width:4; stroke-opacity:1; fill:none\" points=\"\n",
       "  86.9921,1369.04 99.7813,1369.04 \n",
       "  \"/>\n",
       "<polyline clip-path=\"url(#clip230)\" style=\"stroke:#000000; stroke-width:4; stroke-opacity:1; fill:none\" points=\"\n",
       "  86.9921,1079.77 99.7813,1079.77 \n",
       "  \"/>\n",
       "<polyline clip-path=\"url(#clip230)\" style=\"stroke:#000000; stroke-width:4; stroke-opacity:1; fill:none\" points=\"\n",
       "  86.9921,790.508 99.7813,790.508 \n",
       "  \"/>\n",
       "<polyline clip-path=\"url(#clip230)\" style=\"stroke:#000000; stroke-width:4; stroke-opacity:1; fill:none\" points=\"\n",
       "  86.9921,501.242 99.7813,501.242 \n",
       "  \"/>\n",
       "<polyline clip-path=\"url(#clip230)\" style=\"stroke:#000000; stroke-width:4; stroke-opacity:1; fill:none\" points=\"\n",
       "  86.9921,211.976 99.7813,211.976 \n",
       "  \"/>\n",
       "<path clip-path=\"url(#clip230)\" d=\"M 0 0 M-41.4379 1369.49 L-11.7622 1369.49 L-11.7622 1373.43 L-41.4379 1373.43 L-41.4379 1369.49 Z\" fill=\"#000000\" fill-rule=\"evenodd\" fill-opacity=\"1\" /><path clip-path=\"url(#clip230)\" d=\"M 0 0 M-5.88257 1382.39 L1.75628 1382.39 L1.75628 1356.02 L-6.55386 1357.69 L-6.55386 1353.43 L1.70998 1351.76 L6.38588 1351.76 L6.38588 1382.39 L14.0247 1382.39 L14.0247 1386.32 L-5.88257 1386.32 L-5.88257 1382.39 Z\" fill=\"#000000\" fill-rule=\"evenodd\" fill-opacity=\"1\" /><path clip-path=\"url(#clip230)\" d=\"M 0 0 M19.0941 1380.44 L23.9784 1380.44 L23.9784 1386.32 L19.0941 1386.32 L19.0941 1380.44 Z\" fill=\"#000000\" fill-rule=\"evenodd\" fill-opacity=\"1\" /><path clip-path=\"url(#clip230)\" d=\"M 0 0 M39.0477 1354.84 Q35.4367 1354.84 33.608 1358.4 Q31.8024 1361.95 31.8024 1369.07 Q31.8024 1376.18 33.608 1379.75 Q35.4367 1383.29 39.0477 1383.29 Q42.682 1383.29 44.4875 1379.75 Q46.3162 1376.18 46.3162 1369.07 Q46.3162 1361.95 44.4875 1358.4 Q42.682 1354.84 39.0477 1354.84 M39.0477 1351.14 Q44.8579 1351.14 47.9134 1355.74 Q50.9921 1360.32 50.9921 1369.07 Q50.9921 1377.8 47.9134 1382.41 Q44.8579 1386.99 39.0477 1386.99 Q33.2376 1386.99 30.1589 1382.41 Q27.1034 1377.8 27.1034 1369.07 Q27.1034 1360.32 30.1589 1355.74 Q33.2376 1351.14 39.0477 1351.14 Z\" fill=\"#000000\" fill-rule=\"evenodd\" fill-opacity=\"1\" /><path clip-path=\"url(#clip230)\" d=\"M 0 0 M-41.6694 1080.23 L-11.9936 1080.23 L-11.9936 1084.16 L-41.6694 1084.16 L-41.6694 1080.23 Z\" fill=\"#000000\" fill-rule=\"evenodd\" fill-opacity=\"1\" /><path clip-path=\"url(#clip230)\" d=\"M 0 0 M3.07572 1065.57 Q-0.535376 1065.57 -2.36407 1069.14 Q-4.16962 1072.68 -4.16962 1079.81 Q-4.16962 1086.92 -2.36407 1090.48 Q-0.535376 1094.02 3.07572 1094.02 Q6.70996 1094.02 8.5155 1090.48 Q10.3442 1086.92 10.3442 1079.81 Q10.3442 1072.68 8.5155 1069.14 Q6.70996 1065.57 3.07572 1065.57 M3.07572 1061.87 Q8.88587 1061.87 11.9414 1066.48 Q15.0201 1071.06 15.0201 1079.81 Q15.0201 1088.54 11.9414 1093.14 Q8.88587 1097.73 3.07572 1097.73 Q-2.73444 1097.73 -5.81313 1093.14 Q-8.86866 1088.54 -8.86866 1079.81 Q-8.86866 1071.06 -5.81313 1066.48 Q-2.73444 1061.87 3.07572 1061.87 Z\" fill=\"#000000\" fill-rule=\"evenodd\" fill-opacity=\"1\" /><path clip-path=\"url(#clip230)\" d=\"M 0 0 M20.0895 1091.17 L24.9737 1091.17 L24.9737 1097.05 L20.0895 1097.05 L20.0895 1091.17 Z\" fill=\"#000000\" fill-rule=\"evenodd\" fill-opacity=\"1\" /><path clip-path=\"url(#clip230)\" d=\"M 0 0 M30.0895 1062.49 L48.4458 1062.49 L48.4458 1066.43 L34.3718 1066.43 L34.3718 1074.9 Q35.3904 1074.55 36.4089 1074.39 Q37.4274 1074.21 38.4459 1074.21 Q44.2329 1074.21 47.6125 1077.38 Q50.9921 1080.55 50.9921 1085.97 Q50.9921 1091.55 47.5199 1094.65 Q44.0477 1097.73 37.7283 1097.73 Q35.5524 1097.73 33.2839 1097.36 Q31.0385 1096.98 28.6311 1096.24 L28.6311 1091.55 Q30.7145 1092.68 32.9367 1093.23 Q35.1589 1093.79 37.6357 1093.79 Q41.6403 1093.79 43.9783 1091.68 Q46.3162 1089.58 46.3162 1085.97 Q46.3162 1082.36 43.9783 1080.25 Q41.6403 1078.14 37.6357 1078.14 Q35.7607 1078.14 33.8857 1078.56 Q32.0339 1078.98 30.0895 1079.86 L30.0895 1062.49 Z\" fill=\"#000000\" fill-rule=\"evenodd\" fill-opacity=\"1\" /><path clip-path=\"url(#clip230)\" d=\"M 0 0 M2.08035 776.307 Q-1.53074 776.307 -3.35943 779.872 Q-5.16498 783.413 -5.16498 790.543 Q-5.16498 797.649 -3.35943 801.214 Q-1.53074 804.756 2.08035 804.756 Q5.71459 804.756 7.52014 801.214 Q9.34883 797.649 9.34883 790.543 Q9.34883 783.413 7.52014 779.872 Q5.71459 776.307 2.08035 776.307 M2.08035 772.603 Q7.89051 772.603 10.946 777.21 Q14.0247 781.793 14.0247 790.543 Q14.0247 799.27 10.946 803.876 Q7.89051 808.46 2.08035 808.46 Q-3.7298 808.46 -6.80849 803.876 Q-9.86403 799.27 -9.86403 790.543 Q-9.86403 781.793 -6.80849 777.21 Q-3.7298 772.603 2.08035 772.603 Z\" fill=\"#000000\" fill-rule=\"evenodd\" fill-opacity=\"1\" /><path clip-path=\"url(#clip230)\" d=\"M 0 0 M19.0941 801.909 L23.9784 801.909 L23.9784 807.788 L19.0941 807.788 L19.0941 801.909 Z\" fill=\"#000000\" fill-rule=\"evenodd\" fill-opacity=\"1\" /><path clip-path=\"url(#clip230)\" d=\"M 0 0 M39.0477 776.307 Q35.4367 776.307 33.608 779.872 Q31.8024 783.413 31.8024 790.543 Q31.8024 797.649 33.608 801.214 Q35.4367 804.756 39.0477 804.756 Q42.682 804.756 44.4875 801.214 Q46.3162 797.649 46.3162 790.543 Q46.3162 783.413 44.4875 779.872 Q42.682 776.307 39.0477 776.307 M39.0477 772.603 Q44.8579 772.603 47.9134 777.21 Q50.9921 781.793 50.9921 790.543 Q50.9921 799.27 47.9134 803.876 Q44.8579 808.46 39.0477 808.46 Q33.2376 808.46 30.1589 803.876 Q27.1034 799.27 27.1034 790.543 Q27.1034 781.793 30.1589 777.21 Q33.2376 772.603 39.0477 772.603 Z\" fill=\"#000000\" fill-rule=\"evenodd\" fill-opacity=\"1\" /><path clip-path=\"url(#clip230)\" d=\"M 0 0 M3.07572 487.041 Q-0.535376 487.041 -2.36407 490.606 Q-4.16962 494.147 -4.16962 501.277 Q-4.16962 508.384 -2.36407 511.948 Q-0.535376 515.49 3.07572 515.49 Q6.70996 515.49 8.5155 511.948 Q10.3442 508.384 10.3442 501.277 Q10.3442 494.147 8.5155 490.606 Q6.70996 487.041 3.07572 487.041 M3.07572 483.337 Q8.88587 483.337 11.9414 487.944 Q15.0201 492.527 15.0201 501.277 Q15.0201 510.004 11.9414 514.61 Q8.88587 519.194 3.07572 519.194 Q-2.73444 519.194 -5.81313 514.61 Q-8.86866 510.004 -8.86866 501.277 Q-8.86866 492.527 -5.81313 487.944 Q-2.73444 483.337 3.07572 483.337 Z\" fill=\"#000000\" fill-rule=\"evenodd\" fill-opacity=\"1\" /><path clip-path=\"url(#clip230)\" d=\"M 0 0 M20.0895 512.643 L24.9737 512.643 L24.9737 518.522 L20.0895 518.522 L20.0895 512.643 Z\" fill=\"#000000\" fill-rule=\"evenodd\" fill-opacity=\"1\" /><path clip-path=\"url(#clip230)\" d=\"M 0 0 M30.0895 483.962 L48.4458 483.962 L48.4458 487.898 L34.3718 487.898 L34.3718 496.37 Q35.3904 496.022 36.4089 495.86 Q37.4274 495.675 38.4459 495.675 Q44.2329 495.675 47.6125 498.847 Q50.9921 502.018 50.9921 507.434 Q50.9921 513.013 47.5199 516.115 Q44.0477 519.194 37.7283 519.194 Q35.5524 519.194 33.2839 518.823 Q31.0385 518.453 28.6311 517.712 L28.6311 513.013 Q30.7145 514.147 32.9367 514.703 Q35.1589 515.258 37.6357 515.258 Q41.6403 515.258 43.9783 513.152 Q46.3162 511.046 46.3162 507.434 Q46.3162 503.823 43.9783 501.717 Q41.6403 499.61 37.6357 499.61 Q35.7607 499.61 33.8857 500.027 Q32.0339 500.444 30.0895 501.323 L30.0895 483.962 Z\" fill=\"#000000\" fill-rule=\"evenodd\" fill-opacity=\"1\" /><path clip-path=\"url(#clip230)\" d=\"M 0 0 M-5.88257 225.321 L1.75628 225.321 L1.75628 198.956 L-6.55386 200.622 L-6.55386 196.363 L1.70998 194.696 L6.38588 194.696 L6.38588 225.321 L14.0247 225.321 L14.0247 229.256 L-5.88257 229.256 L-5.88257 225.321 Z\" fill=\"#000000\" fill-rule=\"evenodd\" fill-opacity=\"1\" /><path clip-path=\"url(#clip230)\" d=\"M 0 0 M19.0941 223.377 L23.9784 223.377 L23.9784 229.256 L19.0941 229.256 L19.0941 223.377 Z\" fill=\"#000000\" fill-rule=\"evenodd\" fill-opacity=\"1\" /><path clip-path=\"url(#clip230)\" d=\"M 0 0 M39.0477 197.775 Q35.4367 197.775 33.608 201.34 Q31.8024 204.882 31.8024 212.011 Q31.8024 219.118 33.608 222.682 Q35.4367 226.224 39.0477 226.224 Q42.682 226.224 44.4875 222.682 Q46.3162 219.118 46.3162 212.011 Q46.3162 204.882 44.4875 201.34 Q42.682 197.775 39.0477 197.775 M39.0477 194.071 Q44.8579 194.071 47.9134 198.678 Q50.9921 203.261 50.9921 212.011 Q50.9921 220.738 47.9134 225.344 Q44.8579 229.928 39.0477 229.928 Q33.2376 229.928 30.1589 225.344 Q27.1034 220.738 27.1034 212.011 Q27.1034 203.261 30.1589 198.678 Q33.2376 194.071 39.0477 194.071 Z\" fill=\"#000000\" fill-rule=\"evenodd\" fill-opacity=\"1\" /><path clip-path=\"url(#clip230)\" d=\"M 0 0 M410.581 6.912 L430.442 6.912 L430.442 10.8472 L415.257 10.8472 L415.257 21.0323 L428.961 21.0323 L428.961 24.9675 L415.257 24.9675 L415.257 41.472 L410.581 41.472 L410.581 6.912 Z\" fill=\"#000000\" fill-rule=\"evenodd\" fill-opacity=\"1\" /><path clip-path=\"url(#clip230)\" d=\"M 0 0 M431.877 31.2406 L431.877 15.5462 L436.137 15.5462 L436.137 31.0785 Q436.137 34.7591 437.572 36.6109 Q439.007 38.4396 441.877 38.4396 Q445.326 38.4396 447.317 36.2405 Q449.331 34.0415 449.331 30.2452 L449.331 15.5462 L453.59 15.5462 L453.59 41.472 L449.331 41.472 L449.331 37.4905 Q447.78 39.8516 445.72 41.009 Q443.683 42.1433 440.975 42.1433 Q436.507 42.1433 434.192 39.3655 Q431.877 36.5878 431.877 31.2406 M442.595 14.9212 L442.595 14.9212 Z\" fill=\"#000000\" fill-rule=\"evenodd\" fill-opacity=\"1\" /><path clip-path=\"url(#clip230)\" d=\"M 0 0 M456.206 15.5462 L476.437 15.5462 L476.437 19.4351 L460.419 38.0692 L476.437 38.0692 L476.437 41.472 L455.627 41.472 L455.627 37.5831 L471.646 18.949 L456.206 18.949 L456.206 15.5462 Z\" fill=\"#000000\" fill-rule=\"evenodd\" fill-opacity=\"1\" /><path clip-path=\"url(#clip230)\" d=\"M 0 0 M479.053 15.5462 L499.284 15.5462 L499.284 19.4351 L483.266 38.0692 L499.284 38.0692 L499.284 41.472 L478.474 41.472 L478.474 37.5831 L494.493 18.949 L479.053 18.949 L479.053 15.5462 Z\" fill=\"#000000\" fill-rule=\"evenodd\" fill-opacity=\"1\" /><path clip-path=\"url(#clip230)\" d=\"M 0 0 M514.539 43.8794 Q512.733 48.509 511.02 49.921 Q509.307 51.3331 506.437 51.3331 L503.034 51.3331 L503.034 47.7683 L505.534 47.7683 Q507.294 47.7683 508.266 46.9349 Q509.238 46.1016 510.419 42.9998 L511.182 41.0553 L500.696 15.5462 L505.21 15.5462 L513.312 35.8239 L521.414 15.5462 L525.928 15.5462 L514.539 43.8794 Z\" fill=\"#000000\" fill-rule=\"evenodd\" fill-opacity=\"1\" /><path clip-path=\"url(#clip230)\" d=\"M 0 0 M542.131 11.5185 L535.789 28.7174 L548.497 28.7174 L542.131 11.5185 M539.493 6.912 L544.793 6.912 L557.965 41.472 L553.104 41.472 L549.955 32.6063 L534.377 32.6063 L531.229 41.472 L526.298 41.472 L539.493 6.912 Z\" fill=\"#000000\" fill-rule=\"evenodd\" fill-opacity=\"1\" /><path clip-path=\"url(#clip230)\" d=\"M 0 0 M579.006 25.2684 Q580.511 25.7776 581.923 27.4443 Q583.358 29.111 584.793 32.0276 L589.539 41.472 L584.515 41.472 L580.094 32.6063 Q578.381 29.1341 576.761 27.9998 Q575.164 26.8656 572.386 26.8656 L567.293 26.8656 L567.293 41.472 L562.617 41.472 L562.617 6.912 L573.173 6.912 Q579.099 6.912 582.015 9.38884 Q584.932 11.8657 584.932 16.8657 Q584.932 20.1295 583.404 22.2823 Q581.9 24.4351 579.006 25.2684 M567.293 10.7546 L567.293 23.023 L573.173 23.023 Q576.552 23.023 578.265 21.4721 Q580.002 19.898 580.002 16.8657 Q580.002 13.8333 578.265 12.3055 Q576.552 10.7546 573.173 10.7546 L567.293 10.7546 Z\" fill=\"#000000\" fill-rule=\"evenodd\" fill-opacity=\"1\" /><path clip-path=\"url(#clip230)\" d=\"M 0 0 M585.951 6.912 L615.187 6.912 L615.187 10.8472 L602.918 10.8472 L602.918 41.472 L598.219 41.472 L598.219 10.8472 L585.951 10.8472 L585.951 6.912 Z\" fill=\"#000000\" fill-rule=\"evenodd\" fill-opacity=\"1\" /><path clip-path=\"url(#clip230)\" d=\"M 0 0 M649.747 19.5277 Q649.029 19.111 648.172 18.9258 Q647.339 18.7175 646.321 18.7175 Q642.71 18.7175 640.765 21.0786 Q638.844 23.4165 638.844 27.8147 L638.844 41.472 L634.561 41.472 L634.561 15.5462 L638.844 15.5462 L638.844 19.574 Q640.186 17.2129 642.339 16.0786 Q644.492 14.9212 647.571 14.9212 Q648.01 14.9212 648.543 14.9907 Q649.075 15.037 649.723 15.1527 L649.747 19.5277 Z\" fill=\"#000000\" fill-rule=\"evenodd\" fill-opacity=\"1\" /><path clip-path=\"url(#clip230)\" d=\"M 0 0 M674.932 25.8239 L674.932 41.472 L670.672 41.472 L670.672 25.9628 Q670.672 22.2823 669.237 20.4536 Q667.802 18.6249 664.932 18.6249 Q661.483 18.6249 659.492 20.824 Q657.501 23.023 657.501 26.8193 L657.501 41.472 L653.219 41.472 L653.219 5.45367 L657.501 5.45367 L657.501 19.574 Q659.029 17.236 661.089 16.0786 Q663.172 14.9212 665.881 14.9212 Q670.348 14.9212 672.64 17.699 Q674.932 20.4536 674.932 25.8239 Z\" fill=\"#000000\" fill-rule=\"evenodd\" fill-opacity=\"1\" /><path clip-path=\"url(#clip230)\" d=\"M 0 0 M689.445 18.5323 Q686.019 18.5323 684.029 21.2175 Q682.038 23.8795 682.038 28.5323 Q682.038 33.185 684.006 35.8702 Q685.996 38.5322 689.445 38.5322 Q692.848 38.5322 694.839 35.847 Q696.83 33.1619 696.83 28.5323 Q696.83 23.9258 694.839 21.2406 Q692.848 18.5323 689.445 18.5323 M689.445 14.9212 Q695.001 14.9212 698.172 18.5323 Q701.343 22.1434 701.343 28.5323 Q701.343 34.898 698.172 38.5322 Q695.001 42.1433 689.445 42.1433 Q683.867 42.1433 680.695 38.5322 Q677.547 34.898 677.547 28.5323 Q677.547 22.1434 680.695 18.5323 Q683.867 14.9212 689.445 14.9212 Z\" fill=\"#000000\" fill-rule=\"evenodd\" fill-opacity=\"1\" /><path clip-path=\"url(#clip230)\" d=\"M 0 0 M721.436 19.9443 L751.112 19.9443 L751.112 23.8332 L721.436 23.8332 L721.436 19.9443 M721.436 29.3887 L751.112 29.3887 L751.112 33.3239 L721.436 33.3239 L721.436 29.3887 Z\" fill=\"#000000\" fill-rule=\"evenodd\" fill-opacity=\"1\" /><path clip-path=\"url(#clip230)\" d=\"M 0 0 M781.25 9.99069 Q777.639 9.99069 775.811 13.5555 Q774.005 17.0971 774.005 24.2267 Q774.005 31.3332 775.811 34.898 Q777.639 38.4396 781.25 38.4396 Q784.885 38.4396 786.69 34.898 Q788.519 31.3332 788.519 24.2267 Q788.519 17.0971 786.69 13.5555 Q784.885 9.99069 781.25 9.99069 M781.25 6.287 Q787.061 6.287 790.116 10.8935 Q793.195 15.4768 793.195 24.2267 Q793.195 32.9535 790.116 37.56 Q787.061 42.1433 781.25 42.1433 Q775.44 42.1433 772.362 37.56 Q769.306 32.9535 769.306 24.2267 Q769.306 15.4768 772.362 10.8935 Q775.44 6.287 781.25 6.287 Z\" fill=\"#000000\" fill-rule=\"evenodd\" fill-opacity=\"1\" /><path clip-path=\"url(#clip230)\" d=\"M 0 0 M798.264 35.5924 L803.148 35.5924 L803.148 41.472 L798.264 41.472 L798.264 35.5924 Z\" fill=\"#000000\" fill-rule=\"evenodd\" fill-opacity=\"1\" /><path clip-path=\"url(#clip230)\" d=\"M 0 0 M808.264 6.912 L826.621 6.912 L826.621 10.8472 L812.547 10.8472 L812.547 19.3193 Q813.565 18.9721 814.584 18.8101 Q815.602 18.6249 816.621 18.6249 Q822.408 18.6249 825.787 21.7962 Q829.167 24.9675 829.167 30.3841 Q829.167 35.9628 825.695 39.0646 Q822.222 42.1433 815.903 42.1433 Q813.727 42.1433 811.459 41.7729 Q809.213 41.4026 806.806 40.6618 L806.806 35.9628 Q808.889 37.097 811.111 37.6526 Q813.334 38.2081 815.81 38.2081 Q819.815 38.2081 822.153 36.1017 Q824.491 33.9952 824.491 30.3841 Q824.491 26.773 822.153 24.6665 Q819.815 22.5601 815.81 22.5601 Q813.935 22.5601 812.06 22.9767 Q810.209 23.3934 808.264 24.273 L808.264 6.912 Z\" fill=\"#000000\" fill-rule=\"evenodd\" fill-opacity=\"1\" /><circle clip-path=\"url(#clip232)\" cx=\"1054.4\" cy=\"495.244\" r=\"14\" fill=\"#009af9\" fill-rule=\"evenodd\" fill-opacity=\"1\" stroke=\"#000000\" stroke-opacity=\"1\" stroke-width=\"3.2\"/>\n",
       "<circle clip-path=\"url(#clip232)\" cx=\"1065.59\" cy=\"778.058\" r=\"14\" fill=\"#009af9\" fill-rule=\"evenodd\" fill-opacity=\"1\" stroke=\"#000000\" stroke-opacity=\"1\" stroke-width=\"3.2\"/>\n",
       "<circle clip-path=\"url(#clip232)\" cx=\"1020.8\" cy=\"560.329\" r=\"14\" fill=\"#009af9\" fill-rule=\"evenodd\" fill-opacity=\"1\" stroke=\"#000000\" stroke-opacity=\"1\" stroke-width=\"3.2\"/>\n",
       "<circle clip-path=\"url(#clip232)\" cx=\"1122.59\" cy=\"983.916\" r=\"14\" fill=\"#009af9\" fill-rule=\"evenodd\" fill-opacity=\"1\" stroke=\"#000000\" stroke-opacity=\"1\" stroke-width=\"3.2\"/>\n",
       "<circle clip-path=\"url(#clip232)\" cx=\"1091.38\" cy=\"922.263\" r=\"14\" fill=\"#009af9\" fill-rule=\"evenodd\" fill-opacity=\"1\" stroke=\"#000000\" stroke-opacity=\"1\" stroke-width=\"3.2\"/>\n",
       "<circle clip-path=\"url(#clip232)\" cx=\"1066.97\" cy=\"317.217\" r=\"14\" fill=\"#009af9\" fill-rule=\"evenodd\" fill-opacity=\"1\" stroke=\"#000000\" stroke-opacity=\"1\" stroke-width=\"3.2\"/>\n",
       "<circle clip-path=\"url(#clip232)\" cx=\"1079.02\" cy=\"723.971\" r=\"14\" fill=\"#009af9\" fill-rule=\"evenodd\" fill-opacity=\"1\" stroke=\"#000000\" stroke-opacity=\"1\" stroke-width=\"3.2\"/>\n",
       "<circle clip-path=\"url(#clip232)\" cx=\"1049.81\" cy=\"413.343\" r=\"14\" fill=\"#009af9\" fill-rule=\"evenodd\" fill-opacity=\"1\" stroke=\"#000000\" stroke-opacity=\"1\" stroke-width=\"3.2\"/>\n",
       "<circle clip-path=\"url(#clip232)\" cx=\"1099.21\" cy=\"918.119\" r=\"14\" fill=\"#009af9\" fill-rule=\"evenodd\" fill-opacity=\"1\" stroke=\"#000000\" stroke-opacity=\"1\" stroke-width=\"3.2\"/>\n",
       "<circle clip-path=\"url(#clip232)\" cx=\"1106.26\" cy=\"1120.73\" r=\"14\" fill=\"#009af9\" fill-rule=\"evenodd\" fill-opacity=\"1\" stroke=\"#000000\" stroke-opacity=\"1\" stroke-width=\"3.2\"/>\n",
       "<circle clip-path=\"url(#clip232)\" cx=\"1070.09\" cy=\"104.257\" r=\"14\" fill=\"#009af9\" fill-rule=\"evenodd\" fill-opacity=\"1\" stroke=\"#000000\" stroke-opacity=\"1\" stroke-width=\"3.2\"/>\n",
       "<circle clip-path=\"url(#clip232)\" cx=\"1067.37\" cy=\"439.455\" r=\"14\" fill=\"#009af9\" fill-rule=\"evenodd\" fill-opacity=\"1\" stroke=\"#000000\" stroke-opacity=\"1\" stroke-width=\"3.2\"/>\n",
       "<circle clip-path=\"url(#clip232)\" cx=\"1063.22\" cy=\"154.111\" r=\"14\" fill=\"#009af9\" fill-rule=\"evenodd\" fill-opacity=\"1\" stroke=\"#000000\" stroke-opacity=\"1\" stroke-width=\"3.2\"/>\n",
       "<circle clip-path=\"url(#clip232)\" cx=\"1062.21\" cy=\"653.94\" r=\"14\" fill=\"#009af9\" fill-rule=\"evenodd\" fill-opacity=\"1\" stroke=\"#000000\" stroke-opacity=\"1\" stroke-width=\"3.2\"/>\n",
       "<circle clip-path=\"url(#clip232)\" cx=\"1050.01\" cy=\"870.957\" r=\"14\" fill=\"#009af9\" fill-rule=\"evenodd\" fill-opacity=\"1\" stroke=\"#000000\" stroke-opacity=\"1\" stroke-width=\"3.2\"/>\n",
       "<circle clip-path=\"url(#clip232)\" cx=\"790.037\" cy=\"1369.68\" r=\"14\" fill=\"#e26f46\" fill-rule=\"evenodd\" fill-opacity=\"1\" stroke=\"#000000\" stroke-opacity=\"1\" stroke-width=\"3.2\"/>\n",
       "<circle clip-path=\"url(#clip232)\" cx=\"542.567\" cy=\"896.027\" r=\"14\" fill=\"#e26f46\" fill-rule=\"evenodd\" fill-opacity=\"1\" stroke=\"#000000\" stroke-opacity=\"1\" stroke-width=\"3.2\"/>\n",
       "<circle clip-path=\"url(#clip232)\" cx=\"558.498\" cy=\"1004.96\" r=\"14\" fill=\"#e26f46\" fill-rule=\"evenodd\" fill-opacity=\"1\" stroke=\"#000000\" stroke-opacity=\"1\" stroke-width=\"3.2\"/>\n",
       "<circle clip-path=\"url(#clip232)\" cx=\"516.706\" cy=\"626.268\" r=\"14\" fill=\"#e26f46\" fill-rule=\"evenodd\" fill-opacity=\"1\" stroke=\"#000000\" stroke-opacity=\"1\" stroke-width=\"3.2\"/>\n",
       "<circle clip-path=\"url(#clip232)\" cx=\"486.644\" cy=\"1230.78\" r=\"14\" fill=\"#e26f46\" fill-rule=\"evenodd\" fill-opacity=\"1\" stroke=\"#000000\" stroke-opacity=\"1\" stroke-width=\"3.2\"/>\n",
       "<circle clip-path=\"url(#clip232)\" cx=\"573.13\" cy=\"703.509\" r=\"14\" fill=\"#e26f46\" fill-rule=\"evenodd\" fill-opacity=\"1\" stroke=\"#000000\" stroke-opacity=\"1\" stroke-width=\"3.2\"/>\n",
       "<circle clip-path=\"url(#clip232)\" cx=\"517.903\" cy=\"746.893\" r=\"14\" fill=\"#e26f46\" fill-rule=\"evenodd\" fill-opacity=\"1\" stroke=\"#000000\" stroke-opacity=\"1\" stroke-width=\"3.2\"/>\n",
       "<circle clip-path=\"url(#clip232)\" cx=\"626.188\" cy=\"1081.64\" r=\"14\" fill=\"#e26f46\" fill-rule=\"evenodd\" fill-opacity=\"1\" stroke=\"#000000\" stroke-opacity=\"1\" stroke-width=\"3.2\"/>\n",
       "<circle clip-path=\"url(#clip232)\" cx=\"704.693\" cy=\"936.192\" r=\"14\" fill=\"#e26f46\" fill-rule=\"evenodd\" fill-opacity=\"1\" stroke=\"#000000\" stroke-opacity=\"1\" stroke-width=\"3.2\"/>\n",
       "<circle clip-path=\"url(#clip232)\" cx=\"654.462\" cy=\"1183.71\" r=\"14\" fill=\"#e26f46\" fill-rule=\"evenodd\" fill-opacity=\"1\" stroke=\"#000000\" stroke-opacity=\"1\" stroke-width=\"3.2\"/>\n",
       "<circle clip-path=\"url(#clip232)\" cx=\"626.003\" cy=\"829.168\" r=\"14\" fill=\"#e26f46\" fill-rule=\"evenodd\" fill-opacity=\"1\" stroke=\"#000000\" stroke-opacity=\"1\" stroke-width=\"3.2\"/>\n",
       "<circle clip-path=\"url(#clip232)\" cx=\"601.937\" cy=\"1479.74\" r=\"14\" fill=\"#e26f46\" fill-rule=\"evenodd\" fill-opacity=\"1\" stroke=\"#000000\" stroke-opacity=\"1\" stroke-width=\"3.2\"/>\n",
       "<circle clip-path=\"url(#clip232)\" cx=\"639.983\" cy=\"1107.48\" r=\"14\" fill=\"#e26f46\" fill-rule=\"evenodd\" fill-opacity=\"1\" stroke=\"#000000\" stroke-opacity=\"1\" stroke-width=\"3.2\"/>\n",
       "<circle clip-path=\"url(#clip232)\" cx=\"486.919\" cy=\"980.013\" r=\"14\" fill=\"#3da44d\" fill-rule=\"evenodd\" fill-opacity=\"1\" stroke=\"#000000\" stroke-opacity=\"1\" stroke-width=\"3.2\"/>\n",
       "<circle clip-path=\"url(#clip232)\" cx=\"469.513\" cy=\"1123.12\" r=\"14\" fill=\"#3da44d\" fill-rule=\"evenodd\" fill-opacity=\"1\" stroke=\"#000000\" stroke-opacity=\"1\" stroke-width=\"3.2\"/>\n",
       "<circle clip-path=\"url(#clip232)\" cx=\"361.329\" cy=\"710.146\" r=\"14\" fill=\"#3da44d\" fill-rule=\"evenodd\" fill-opacity=\"1\" stroke=\"#000000\" stroke-opacity=\"1\" stroke-width=\"3.2\"/>\n",
       "<circle clip-path=\"url(#clip232)\" cx=\"291.542\" cy=\"592.688\" r=\"14\" fill=\"#3da44d\" fill-rule=\"evenodd\" fill-opacity=\"1\" stroke=\"#000000\" stroke-opacity=\"1\" stroke-width=\"3.2\"/>\n",
       "<circle clip-path=\"url(#clip232)\" cx=\"258.317\" cy=\"574.865\" r=\"14\" fill=\"#3da44d\" fill-rule=\"evenodd\" fill-opacity=\"1\" stroke=\"#000000\" stroke-opacity=\"1\" stroke-width=\"3.2\"/>\n",
       "<circle clip-path=\"url(#clip232)\" cx=\"358.311\" cy=\"665.962\" r=\"14\" fill=\"#3da44d\" fill-rule=\"evenodd\" fill-opacity=\"1\" stroke=\"#000000\" stroke-opacity=\"1\" stroke-width=\"3.2\"/>\n",
       "<circle clip-path=\"url(#clip232)\" cx=\"488.647\" cy=\"393.96\" r=\"14\" fill=\"#3da44d\" fill-rule=\"evenodd\" fill-opacity=\"1\" stroke=\"#000000\" stroke-opacity=\"1\" stroke-width=\"3.2\"/>\n",
       "<circle clip-path=\"url(#clip232)\" cx=\"513.595\" cy=\"839.229\" r=\"14\" fill=\"#3da44d\" fill-rule=\"evenodd\" fill-opacity=\"1\" stroke=\"#000000\" stroke-opacity=\"1\" stroke-width=\"3.2\"/>\n",
       "<circle clip-path=\"url(#clip232)\" cx=\"246.895\" cy=\"339.033\" r=\"14\" fill=\"#3da44d\" fill-rule=\"evenodd\" fill-opacity=\"1\" stroke=\"#000000\" stroke-opacity=\"1\" stroke-width=\"3.2\"/>\n",
       "<circle clip-path=\"url(#clip232)\" cx=\"417.713\" cy=\"745.082\" r=\"14\" fill=\"#3da44d\" fill-rule=\"evenodd\" fill-opacity=\"1\" stroke=\"#000000\" stroke-opacity=\"1\" stroke-width=\"3.2\"/>\n",
       "<circle clip-path=\"url(#clip232)\" cx=\"291.881\" cy=\"467.475\" r=\"14\" fill=\"#3da44d\" fill-rule=\"evenodd\" fill-opacity=\"1\" stroke=\"#000000\" stroke-opacity=\"1\" stroke-width=\"3.2\"/>\n",
       "<circle clip-path=\"url(#clip232)\" cx=\"304.087\" cy=\"797.359\" r=\"14\" fill=\"#3da44d\" fill-rule=\"evenodd\" fill-opacity=\"1\" stroke=\"#000000\" stroke-opacity=\"1\" stroke-width=\"3.2\"/>\n",
       "<circle clip-path=\"url(#clip232)\" cx=\"117.155\" cy=\"643.986\" r=\"14\" fill=\"#3da44d\" fill-rule=\"evenodd\" fill-opacity=\"1\" stroke=\"#000000\" stroke-opacity=\"1\" stroke-width=\"3.2\"/>\n",
       "<circle clip-path=\"url(#clip232)\" cx=\"479.796\" cy=\"1239.69\" r=\"14\" fill=\"#3da44d\" fill-rule=\"evenodd\" fill-opacity=\"1\" stroke=\"#000000\" stroke-opacity=\"1\" stroke-width=\"3.2\"/>\n",
       "<circle clip-path=\"url(#clip232)\" cx=\"359.294\" cy=\"916.817\" r=\"14\" fill=\"#3da44d\" fill-rule=\"evenodd\" fill-opacity=\"1\" stroke=\"#000000\" stroke-opacity=\"1\" stroke-width=\"3.2\"/>\n",
       "<circle clip-path=\"url(#clip232)\" cx=\"462.114\" cy=\"498.818\" r=\"14\" fill=\"#3da44d\" fill-rule=\"evenodd\" fill-opacity=\"1\" stroke=\"#000000\" stroke-opacity=\"1\" stroke-width=\"3.2\"/>\n",
       "<circle clip-path=\"url(#clip232)\" cx=\"299.411\" cy=\"630.848\" r=\"14\" fill=\"#3da44d\" fill-rule=\"evenodd\" fill-opacity=\"1\" stroke=\"#000000\" stroke-opacity=\"1\" stroke-width=\"3.2\"/>\n",
       "<path clip-path=\"url(#clip230)\" d=\"\n",
       "M1286.99 1521.01 L2352.76 1521.01 L2352.76 62.9921 L1286.99 62.9921  Z\n",
       "  \" fill=\"#ffffff\" fill-rule=\"evenodd\" fill-opacity=\"1\"/>\n",
       "<defs>\n",
       "  <clipPath id=\"clip233\">\n",
       "    <rect x=\"1286\" y=\"62\" width=\"1067\" height=\"1459\"/>\n",
       "  </clipPath>\n",
       "</defs>\n",
       "<polyline clip-path=\"url(#clip233)\" style=\"stroke:#000000; stroke-width:2; stroke-opacity:0.1; fill:none\" points=\"\n",
       "  1434.78,1521.01 1434.78,62.9921 \n",
       "  \"/>\n",
       "<polyline clip-path=\"url(#clip233)\" style=\"stroke:#000000; stroke-width:2; stroke-opacity:0.1; fill:none\" points=\"\n",
       "  1582.79,1521.01 1582.79,62.9921 \n",
       "  \"/>\n",
       "<polyline clip-path=\"url(#clip233)\" style=\"stroke:#000000; stroke-width:2; stroke-opacity:0.1; fill:none\" points=\"\n",
       "  1730.8,1521.01 1730.8,62.9921 \n",
       "  \"/>\n",
       "<polyline clip-path=\"url(#clip233)\" style=\"stroke:#000000; stroke-width:2; stroke-opacity:0.1; fill:none\" points=\"\n",
       "  1878.81,1521.01 1878.81,62.9921 \n",
       "  \"/>\n",
       "<polyline clip-path=\"url(#clip233)\" style=\"stroke:#000000; stroke-width:2; stroke-opacity:0.1; fill:none\" points=\"\n",
       "  2026.82,1521.01 2026.82,62.9921 \n",
       "  \"/>\n",
       "<polyline clip-path=\"url(#clip233)\" style=\"stroke:#000000; stroke-width:2; stroke-opacity:0.1; fill:none\" points=\"\n",
       "  2174.83,1521.01 2174.83,62.9921 \n",
       "  \"/>\n",
       "<polyline clip-path=\"url(#clip233)\" style=\"stroke:#000000; stroke-width:2; stroke-opacity:0.1; fill:none\" points=\"\n",
       "  2322.84,1521.01 2322.84,62.9921 \n",
       "  \"/>\n",
       "<polyline clip-path=\"url(#clip230)\" style=\"stroke:#000000; stroke-width:4; stroke-opacity:1; fill:none\" points=\"\n",
       "  1286.99,1521.01 2352.76,1521.01 \n",
       "  \"/>\n",
       "<polyline clip-path=\"url(#clip230)\" style=\"stroke:#000000; stroke-width:4; stroke-opacity:1; fill:none\" points=\"\n",
       "  1434.78,1521.01 1434.78,1503.51 \n",
       "  \"/>\n",
       "<polyline clip-path=\"url(#clip230)\" style=\"stroke:#000000; stroke-width:4; stroke-opacity:1; fill:none\" points=\"\n",
       "  1582.79,1521.01 1582.79,1503.51 \n",
       "  \"/>\n",
       "<polyline clip-path=\"url(#clip230)\" style=\"stroke:#000000; stroke-width:4; stroke-opacity:1; fill:none\" points=\"\n",
       "  1730.8,1521.01 1730.8,1503.51 \n",
       "  \"/>\n",
       "<polyline clip-path=\"url(#clip230)\" style=\"stroke:#000000; stroke-width:4; stroke-opacity:1; fill:none\" points=\"\n",
       "  1878.81,1521.01 1878.81,1503.51 \n",
       "  \"/>\n",
       "<polyline clip-path=\"url(#clip230)\" style=\"stroke:#000000; stroke-width:4; stroke-opacity:1; fill:none\" points=\"\n",
       "  2026.82,1521.01 2026.82,1503.51 \n",
       "  \"/>\n",
       "<polyline clip-path=\"url(#clip230)\" style=\"stroke:#000000; stroke-width:4; stroke-opacity:1; fill:none\" points=\"\n",
       "  2174.83,1521.01 2174.83,1503.51 \n",
       "  \"/>\n",
       "<polyline clip-path=\"url(#clip230)\" style=\"stroke:#000000; stroke-width:4; stroke-opacity:1; fill:none\" points=\"\n",
       "  2322.84,1521.01 2322.84,1503.51 \n",
       "  \"/>\n",
       "<path clip-path=\"url(#clip230)\" d=\"M 0 0 M1413.76 1558.69 L1436.02 1558.69 L1436.02 1561.64 L1413.76 1561.64 L1413.76 1558.69 Z\" fill=\"#000000\" fill-rule=\"evenodd\" fill-opacity=\"1\" /><path clip-path=\"url(#clip230)\" d=\"M 0 0 M1450.45 1557.34 Q1452.96 1557.87 1454.37 1559.58 Q1455.79 1561.28 1455.79 1563.78 Q1455.79 1567.61 1453.15 1569.71 Q1450.52 1571.82 1445.65 1571.82 Q1444.02 1571.82 1442.29 1571.49 Q1440.57 1571.17 1438.73 1570.53 L1438.73 1567.15 Q1440.19 1568 1441.92 1568.43 Q1443.66 1568.86 1445.55 1568.86 Q1448.85 1568.86 1450.57 1567.56 Q1452.3 1566.26 1452.3 1563.78 Q1452.3 1561.49 1450.69 1560.2 Q1449.09 1558.9 1446.23 1558.9 L1443.21 1558.9 L1443.21 1556.02 L1446.37 1556.02 Q1448.95 1556.02 1450.32 1554.99 Q1451.7 1553.95 1451.7 1552.01 Q1451.7 1550.01 1450.27 1548.95 Q1448.87 1547.87 1446.23 1547.87 Q1444.79 1547.87 1443.14 1548.19 Q1441.49 1548.5 1439.51 1549.16 L1439.51 1546.03 Q1441.51 1545.48 1443.24 1545.2 Q1444.99 1544.92 1446.54 1544.92 Q1450.53 1544.92 1452.86 1546.75 Q1455.19 1548.55 1455.19 1551.64 Q1455.19 1553.79 1453.95 1555.29 Q1452.72 1556.76 1450.45 1557.34 Z\" fill=\"#000000\" fill-rule=\"evenodd\" fill-opacity=\"1\" /><path clip-path=\"url(#clip230)\" d=\"M 0 0 M1562.13 1558.69 L1584.39 1558.69 L1584.39 1561.64 L1562.13 1561.64 L1562.13 1558.69 Z\" fill=\"#000000\" fill-rule=\"evenodd\" fill-opacity=\"1\" /><path clip-path=\"url(#clip230)\" d=\"M 0 0 M1591.21 1568.36 L1603.45 1568.36 L1603.45 1571.31 L1586.99 1571.31 L1586.99 1568.36 Q1588.99 1566.29 1592.42 1562.82 Q1595.88 1559.33 1596.76 1558.33 Q1598.45 1556.43 1599.11 1555.13 Q1599.79 1553.81 1599.79 1552.54 Q1599.79 1550.48 1598.33 1549.18 Q1596.89 1547.87 1594.56 1547.87 Q1592.91 1547.87 1591.07 1548.45 Q1589.25 1549.02 1587.16 1550.18 L1587.16 1546.64 Q1589.28 1545.79 1591.12 1545.36 Q1592.96 1544.92 1594.49 1544.92 Q1598.52 1544.92 1600.91 1546.94 Q1603.31 1548.95 1603.31 1552.32 Q1603.31 1553.92 1602.7 1555.36 Q1602.11 1556.78 1600.53 1558.73 Q1600.1 1559.23 1597.77 1561.64 Q1595.45 1564.04 1591.21 1568.36 Z\" fill=\"#000000\" fill-rule=\"evenodd\" fill-opacity=\"1\" /><path clip-path=\"url(#clip230)\" d=\"M 0 0 M1710 1558.69 L1732.26 1558.69 L1732.26 1561.64 L1710 1561.64 L1710 1558.69 Z\" fill=\"#000000\" fill-rule=\"evenodd\" fill-opacity=\"1\" /><path clip-path=\"url(#clip230)\" d=\"M 0 0 M1736.67 1568.36 L1742.4 1568.36 L1742.4 1548.59 L1736.16 1549.84 L1736.16 1546.64 L1742.36 1545.39 L1745.87 1545.39 L1745.87 1568.36 L1751.6 1568.36 L1751.6 1571.31 L1736.67 1571.31 L1736.67 1568.36 Z\" fill=\"#000000\" fill-rule=\"evenodd\" fill-opacity=\"1\" /><path clip-path=\"url(#clip230)\" d=\"M 0 0 M1878.81 1547.7 Q1876.1 1547.7 1874.73 1550.37 Q1873.38 1553.03 1873.38 1558.38 Q1873.38 1563.71 1874.73 1566.38 Q1876.1 1569.04 1878.81 1569.04 Q1881.54 1569.04 1882.89 1566.38 Q1884.26 1563.71 1884.26 1558.38 Q1884.26 1553.03 1882.89 1550.37 Q1881.54 1547.7 1878.81 1547.7 M1878.81 1544.92 Q1883.17 1544.92 1885.46 1548.38 Q1887.77 1551.82 1887.77 1558.38 Q1887.77 1564.92 1885.46 1568.38 Q1883.17 1571.82 1878.81 1571.82 Q1874.45 1571.82 1872.14 1568.38 Q1869.85 1564.92 1869.85 1558.38 Q1869.85 1551.82 1872.14 1548.38 Q1874.45 1544.92 1878.81 1544.92 Z\" fill=\"#000000\" fill-rule=\"evenodd\" fill-opacity=\"1\" /><path clip-path=\"url(#clip230)\" d=\"M 0 0 M2019.61 1568.36 L2025.34 1568.36 L2025.34 1548.59 L2019.11 1549.84 L2019.11 1546.64 L2025.3 1545.39 L2028.81 1545.39 L2028.81 1568.36 L2034.54 1568.36 L2034.54 1571.31 L2019.61 1571.31 L2019.61 1568.36 Z\" fill=\"#000000\" fill-rule=\"evenodd\" fill-opacity=\"1\" /><path clip-path=\"url(#clip230)\" d=\"M 0 0 M2170.82 1568.36 L2183.06 1568.36 L2183.06 1571.31 L2166.6 1571.31 L2166.6 1568.36 Q2168.6 1566.29 2172.04 1562.82 Q2175.49 1559.33 2176.38 1558.33 Q2178.06 1556.43 2178.72 1555.13 Q2179.4 1553.81 2179.4 1552.54 Q2179.4 1550.48 2177.94 1549.18 Q2176.5 1547.87 2174.17 1547.87 Q2172.52 1547.87 2170.68 1548.45 Q2168.86 1549.02 2166.78 1550.18 L2166.78 1546.64 Q2168.9 1545.79 2170.74 1545.36 Q2172.58 1544.92 2174.1 1544.92 Q2178.13 1544.92 2180.53 1546.94 Q2182.92 1548.95 2182.92 1552.32 Q2182.92 1553.92 2182.32 1555.36 Q2181.73 1556.78 2180.15 1558.73 Q2179.71 1559.23 2177.39 1561.64 Q2175.06 1564.04 2170.82 1568.36 Z\" fill=\"#000000\" fill-rule=\"evenodd\" fill-opacity=\"1\" /><path clip-path=\"url(#clip230)\" d=\"M 0 0 M2326.03 1557.34 Q2328.55 1557.87 2329.95 1559.58 Q2331.38 1561.28 2331.38 1563.78 Q2331.38 1567.61 2328.74 1569.71 Q2326.1 1571.82 2321.24 1571.82 Q2319.61 1571.82 2317.87 1571.49 Q2316.15 1571.17 2314.31 1570.53 L2314.31 1567.15 Q2315.77 1568 2317.51 1568.43 Q2319.24 1568.86 2321.13 1568.86 Q2324.43 1568.86 2326.15 1567.56 Q2327.89 1566.26 2327.89 1563.78 Q2327.89 1561.49 2326.27 1560.2 Q2324.68 1558.9 2321.81 1558.9 L2318.79 1558.9 L2318.79 1556.02 L2321.95 1556.02 Q2324.54 1556.02 2325.91 1554.99 Q2327.28 1553.95 2327.28 1552.01 Q2327.28 1550.01 2325.86 1548.95 Q2324.45 1547.87 2321.81 1547.87 Q2320.37 1547.87 2318.72 1548.19 Q2317.07 1548.5 2315.09 1549.16 L2315.09 1546.03 Q2317.09 1545.48 2318.83 1545.2 Q2320.58 1544.92 2322.12 1544.92 Q2326.12 1544.92 2328.44 1546.75 Q2330.77 1548.55 2330.77 1551.64 Q2330.77 1553.79 2329.54 1555.29 Q2328.3 1556.76 2326.03 1557.34 Z\" fill=\"#000000\" fill-rule=\"evenodd\" fill-opacity=\"1\" /><polyline clip-path=\"url(#clip233)\" style=\"stroke:#000000; stroke-width:2; stroke-opacity:0.1; fill:none\" points=\"\n",
       "  1286.99,1369.04 2352.76,1369.04 \n",
       "  \"/>\n",
       "<polyline clip-path=\"url(#clip233)\" style=\"stroke:#000000; stroke-width:2; stroke-opacity:0.1; fill:none\" points=\"\n",
       "  1286.99,1079.77 2352.76,1079.77 \n",
       "  \"/>\n",
       "<polyline clip-path=\"url(#clip233)\" style=\"stroke:#000000; stroke-width:2; stroke-opacity:0.1; fill:none\" points=\"\n",
       "  1286.99,790.508 2352.76,790.508 \n",
       "  \"/>\n",
       "<polyline clip-path=\"url(#clip233)\" style=\"stroke:#000000; stroke-width:2; stroke-opacity:0.1; fill:none\" points=\"\n",
       "  1286.99,501.242 2352.76,501.242 \n",
       "  \"/>\n",
       "<polyline clip-path=\"url(#clip233)\" style=\"stroke:#000000; stroke-width:2; stroke-opacity:0.1; fill:none\" points=\"\n",
       "  1286.99,211.976 2352.76,211.976 \n",
       "  \"/>\n",
       "<polyline clip-path=\"url(#clip230)\" style=\"stroke:#000000; stroke-width:4; stroke-opacity:1; fill:none\" points=\"\n",
       "  1286.99,1521.01 1286.99,62.9921 \n",
       "  \"/>\n",
       "<polyline clip-path=\"url(#clip230)\" style=\"stroke:#000000; stroke-width:4; stroke-opacity:1; fill:none\" points=\"\n",
       "  1286.99,1369.04 1299.78,1369.04 \n",
       "  \"/>\n",
       "<polyline clip-path=\"url(#clip230)\" style=\"stroke:#000000; stroke-width:4; stroke-opacity:1; fill:none\" points=\"\n",
       "  1286.99,1079.77 1299.78,1079.77 \n",
       "  \"/>\n",
       "<polyline clip-path=\"url(#clip230)\" style=\"stroke:#000000; stroke-width:4; stroke-opacity:1; fill:none\" points=\"\n",
       "  1286.99,790.508 1299.78,790.508 \n",
       "  \"/>\n",
       "<polyline clip-path=\"url(#clip230)\" style=\"stroke:#000000; stroke-width:4; stroke-opacity:1; fill:none\" points=\"\n",
       "  1286.99,501.242 1299.78,501.242 \n",
       "  \"/>\n",
       "<polyline clip-path=\"url(#clip230)\" style=\"stroke:#000000; stroke-width:4; stroke-opacity:1; fill:none\" points=\"\n",
       "  1286.99,211.976 1299.78,211.976 \n",
       "  \"/>\n",
       "<path clip-path=\"url(#clip230)\" d=\"M 0 0 M1158.56 1369.49 L1188.24 1369.49 L1188.24 1373.43 L1158.56 1373.43 L1158.56 1369.49 Z\" fill=\"#000000\" fill-rule=\"evenodd\" fill-opacity=\"1\" /><path clip-path=\"url(#clip230)\" d=\"M 0 0 M1194.12 1382.39 L1201.76 1382.39 L1201.76 1356.02 L1193.45 1357.69 L1193.45 1353.43 L1201.71 1351.76 L1206.39 1351.76 L1206.39 1382.39 L1214.02 1382.39 L1214.02 1386.32 L1194.12 1386.32 L1194.12 1382.39 Z\" fill=\"#000000\" fill-rule=\"evenodd\" fill-opacity=\"1\" /><path clip-path=\"url(#clip230)\" d=\"M 0 0 M1219.09 1380.44 L1223.98 1380.44 L1223.98 1386.32 L1219.09 1386.32 L1219.09 1380.44 Z\" fill=\"#000000\" fill-rule=\"evenodd\" fill-opacity=\"1\" /><path clip-path=\"url(#clip230)\" d=\"M 0 0 M1239.05 1354.84 Q1235.44 1354.84 1233.61 1358.4 Q1231.8 1361.95 1231.8 1369.07 Q1231.8 1376.18 1233.61 1379.75 Q1235.44 1383.29 1239.05 1383.29 Q1242.68 1383.29 1244.49 1379.75 Q1246.32 1376.18 1246.32 1369.07 Q1246.32 1361.95 1244.49 1358.4 Q1242.68 1354.84 1239.05 1354.84 M1239.05 1351.14 Q1244.86 1351.14 1247.91 1355.74 Q1250.99 1360.32 1250.99 1369.07 Q1250.99 1377.8 1247.91 1382.41 Q1244.86 1386.99 1239.05 1386.99 Q1233.24 1386.99 1230.16 1382.41 Q1227.1 1377.8 1227.1 1369.07 Q1227.1 1360.32 1230.16 1355.74 Q1233.24 1351.14 1239.05 1351.14 Z\" fill=\"#000000\" fill-rule=\"evenodd\" fill-opacity=\"1\" /><path clip-path=\"url(#clip230)\" d=\"M 0 0 M1158.33 1080.23 L1188.01 1080.23 L1188.01 1084.16 L1158.33 1084.16 L1158.33 1080.23 Z\" fill=\"#000000\" fill-rule=\"evenodd\" fill-opacity=\"1\" /><path clip-path=\"url(#clip230)\" d=\"M 0 0 M1203.08 1065.57 Q1199.46 1065.57 1197.64 1069.14 Q1195.83 1072.68 1195.83 1079.81 Q1195.83 1086.92 1197.64 1090.48 Q1199.46 1094.02 1203.08 1094.02 Q1206.71 1094.02 1208.52 1090.48 Q1210.34 1086.92 1210.34 1079.81 Q1210.34 1072.68 1208.52 1069.14 Q1206.71 1065.57 1203.08 1065.57 M1203.08 1061.87 Q1208.89 1061.87 1211.94 1066.48 Q1215.02 1071.06 1215.02 1079.81 Q1215.02 1088.54 1211.94 1093.14 Q1208.89 1097.73 1203.08 1097.73 Q1197.27 1097.73 1194.19 1093.14 Q1191.13 1088.54 1191.13 1079.81 Q1191.13 1071.06 1194.19 1066.48 Q1197.27 1061.87 1203.08 1061.87 Z\" fill=\"#000000\" fill-rule=\"evenodd\" fill-opacity=\"1\" /><path clip-path=\"url(#clip230)\" d=\"M 0 0 M1220.09 1091.17 L1224.97 1091.17 L1224.97 1097.05 L1220.09 1097.05 L1220.09 1091.17 Z\" fill=\"#000000\" fill-rule=\"evenodd\" fill-opacity=\"1\" /><path clip-path=\"url(#clip230)\" d=\"M 0 0 M1230.09 1062.49 L1248.45 1062.49 L1248.45 1066.43 L1234.37 1066.43 L1234.37 1074.9 Q1235.39 1074.55 1236.41 1074.39 Q1237.43 1074.21 1238.45 1074.21 Q1244.23 1074.21 1247.61 1077.38 Q1250.99 1080.55 1250.99 1085.97 Q1250.99 1091.55 1247.52 1094.65 Q1244.05 1097.73 1237.73 1097.73 Q1235.55 1097.73 1233.28 1097.36 Q1231.04 1096.98 1228.63 1096.24 L1228.63 1091.55 Q1230.71 1092.68 1232.94 1093.23 Q1235.16 1093.79 1237.64 1093.79 Q1241.64 1093.79 1243.98 1091.68 Q1246.32 1089.58 1246.32 1085.97 Q1246.32 1082.36 1243.98 1080.25 Q1241.64 1078.14 1237.64 1078.14 Q1235.76 1078.14 1233.89 1078.56 Q1232.03 1078.98 1230.09 1079.86 L1230.09 1062.49 Z\" fill=\"#000000\" fill-rule=\"evenodd\" fill-opacity=\"1\" /><path clip-path=\"url(#clip230)\" d=\"M 0 0 M1202.08 776.307 Q1198.47 776.307 1196.64 779.872 Q1194.84 783.413 1194.84 790.543 Q1194.84 797.649 1196.64 801.214 Q1198.47 804.756 1202.08 804.756 Q1205.71 804.756 1207.52 801.214 Q1209.35 797.649 1209.35 790.543 Q1209.35 783.413 1207.52 779.872 Q1205.71 776.307 1202.08 776.307 M1202.08 772.603 Q1207.89 772.603 1210.95 777.21 Q1214.02 781.793 1214.02 790.543 Q1214.02 799.27 1210.95 803.876 Q1207.89 808.46 1202.08 808.46 Q1196.27 808.46 1193.19 803.876 Q1190.14 799.27 1190.14 790.543 Q1190.14 781.793 1193.19 777.21 Q1196.27 772.603 1202.08 772.603 Z\" fill=\"#000000\" fill-rule=\"evenodd\" fill-opacity=\"1\" /><path clip-path=\"url(#clip230)\" d=\"M 0 0 M1219.09 801.909 L1223.98 801.909 L1223.98 807.788 L1219.09 807.788 L1219.09 801.909 Z\" fill=\"#000000\" fill-rule=\"evenodd\" fill-opacity=\"1\" /><path clip-path=\"url(#clip230)\" d=\"M 0 0 M1239.05 776.307 Q1235.44 776.307 1233.61 779.872 Q1231.8 783.413 1231.8 790.543 Q1231.8 797.649 1233.61 801.214 Q1235.44 804.756 1239.05 804.756 Q1242.68 804.756 1244.49 801.214 Q1246.32 797.649 1246.32 790.543 Q1246.32 783.413 1244.49 779.872 Q1242.68 776.307 1239.05 776.307 M1239.05 772.603 Q1244.86 772.603 1247.91 777.21 Q1250.99 781.793 1250.99 790.543 Q1250.99 799.27 1247.91 803.876 Q1244.86 808.46 1239.05 808.46 Q1233.24 808.46 1230.16 803.876 Q1227.1 799.27 1227.1 790.543 Q1227.1 781.793 1230.16 777.21 Q1233.24 772.603 1239.05 772.603 Z\" fill=\"#000000\" fill-rule=\"evenodd\" fill-opacity=\"1\" /><path clip-path=\"url(#clip230)\" d=\"M 0 0 M1203.08 487.041 Q1199.46 487.041 1197.64 490.606 Q1195.83 494.147 1195.83 501.277 Q1195.83 508.384 1197.64 511.948 Q1199.46 515.49 1203.08 515.49 Q1206.71 515.49 1208.52 511.948 Q1210.34 508.384 1210.34 501.277 Q1210.34 494.147 1208.52 490.606 Q1206.71 487.041 1203.08 487.041 M1203.08 483.337 Q1208.89 483.337 1211.94 487.944 Q1215.02 492.527 1215.02 501.277 Q1215.02 510.004 1211.94 514.61 Q1208.89 519.194 1203.08 519.194 Q1197.27 519.194 1194.19 514.61 Q1191.13 510.004 1191.13 501.277 Q1191.13 492.527 1194.19 487.944 Q1197.27 483.337 1203.08 483.337 Z\" fill=\"#000000\" fill-rule=\"evenodd\" fill-opacity=\"1\" /><path clip-path=\"url(#clip230)\" d=\"M 0 0 M1220.09 512.643 L1224.97 512.643 L1224.97 518.522 L1220.09 518.522 L1220.09 512.643 Z\" fill=\"#000000\" fill-rule=\"evenodd\" fill-opacity=\"1\" /><path clip-path=\"url(#clip230)\" d=\"M 0 0 M1230.09 483.962 L1248.45 483.962 L1248.45 487.898 L1234.37 487.898 L1234.37 496.37 Q1235.39 496.022 1236.41 495.86 Q1237.43 495.675 1238.45 495.675 Q1244.23 495.675 1247.61 498.847 Q1250.99 502.018 1250.99 507.434 Q1250.99 513.013 1247.52 516.115 Q1244.05 519.194 1237.73 519.194 Q1235.55 519.194 1233.28 518.823 Q1231.04 518.453 1228.63 517.712 L1228.63 513.013 Q1230.71 514.147 1232.94 514.703 Q1235.16 515.258 1237.64 515.258 Q1241.64 515.258 1243.98 513.152 Q1246.32 511.046 1246.32 507.434 Q1246.32 503.823 1243.98 501.717 Q1241.64 499.61 1237.64 499.61 Q1235.76 499.61 1233.89 500.027 Q1232.03 500.444 1230.09 501.323 L1230.09 483.962 Z\" fill=\"#000000\" fill-rule=\"evenodd\" fill-opacity=\"1\" /><path clip-path=\"url(#clip230)\" d=\"M 0 0 M1194.12 225.321 L1201.76 225.321 L1201.76 198.956 L1193.45 200.622 L1193.45 196.363 L1201.71 194.696 L1206.39 194.696 L1206.39 225.321 L1214.02 225.321 L1214.02 229.256 L1194.12 229.256 L1194.12 225.321 Z\" fill=\"#000000\" fill-rule=\"evenodd\" fill-opacity=\"1\" /><path clip-path=\"url(#clip230)\" d=\"M 0 0 M1219.09 223.377 L1223.98 223.377 L1223.98 229.256 L1219.09 229.256 L1219.09 223.377 Z\" fill=\"#000000\" fill-rule=\"evenodd\" fill-opacity=\"1\" /><path clip-path=\"url(#clip230)\" d=\"M 0 0 M1239.05 197.775 Q1235.44 197.775 1233.61 201.34 Q1231.8 204.882 1231.8 212.011 Q1231.8 219.118 1233.61 222.682 Q1235.44 226.224 1239.05 226.224 Q1242.68 226.224 1244.49 222.682 Q1246.32 219.118 1246.32 212.011 Q1246.32 204.882 1244.49 201.34 Q1242.68 197.775 1239.05 197.775 M1239.05 194.071 Q1244.86 194.071 1247.91 198.678 Q1250.99 203.261 1250.99 212.011 Q1250.99 220.738 1247.91 225.344 Q1244.86 229.928 1239.05 229.928 Q1233.24 229.928 1230.16 225.344 Q1227.1 220.738 1227.1 212.011 Q1227.1 203.261 1230.16 198.678 Q1233.24 194.071 1239.05 194.071 Z\" fill=\"#000000\" fill-rule=\"evenodd\" fill-opacity=\"1\" /><path clip-path=\"url(#clip230)\" d=\"M 0 0 M1610.53 6.912 L1630.4 6.912 L1630.4 10.8472 L1615.21 10.8472 L1615.21 21.0323 L1628.91 21.0323 L1628.91 24.9675 L1615.21 24.9675 L1615.21 41.472 L1610.53 41.472 L1610.53 6.912 Z\" fill=\"#000000\" fill-rule=\"evenodd\" fill-opacity=\"1\" /><path clip-path=\"url(#clip230)\" d=\"M 0 0 M1631.83 31.2406 L1631.83 15.5462 L1636.09 15.5462 L1636.09 31.0785 Q1636.09 34.7591 1637.53 36.6109 Q1638.96 38.4396 1641.83 38.4396 Q1645.28 38.4396 1647.27 36.2405 Q1649.28 34.0415 1649.28 30.2452 L1649.28 15.5462 L1653.54 15.5462 L1653.54 41.472 L1649.28 41.472 L1649.28 37.4905 Q1647.73 39.8516 1645.67 41.009 Q1643.64 42.1433 1640.93 42.1433 Q1636.46 42.1433 1634.15 39.3655 Q1631.83 36.5878 1631.83 31.2406 M1642.55 14.9212 L1642.55 14.9212 Z\" fill=\"#000000\" fill-rule=\"evenodd\" fill-opacity=\"1\" /><path clip-path=\"url(#clip230)\" d=\"M 0 0 M1656.16 15.5462 L1676.39 15.5462 L1676.39 19.4351 L1660.37 38.0692 L1676.39 38.0692 L1676.39 41.472 L1655.58 41.472 L1655.58 37.5831 L1671.6 18.949 L1656.16 18.949 L1656.16 15.5462 Z\" fill=\"#000000\" fill-rule=\"evenodd\" fill-opacity=\"1\" /><path clip-path=\"url(#clip230)\" d=\"M 0 0 M1679.01 15.5462 L1699.24 15.5462 L1699.24 19.4351 L1683.22 38.0692 L1699.24 38.0692 L1699.24 41.472 L1678.43 41.472 L1678.43 37.5831 L1694.45 18.949 L1679.01 18.949 L1679.01 15.5462 Z\" fill=\"#000000\" fill-rule=\"evenodd\" fill-opacity=\"1\" /><path clip-path=\"url(#clip230)\" d=\"M 0 0 M1714.49 43.8794 Q1712.69 48.509 1710.97 49.921 Q1709.26 51.3331 1706.39 51.3331 L1702.99 51.3331 L1702.99 47.7683 L1705.49 47.7683 Q1707.25 47.7683 1708.22 46.9349 Q1709.19 46.1016 1710.37 42.9998 L1711.14 41.0553 L1700.65 15.5462 L1705.16 15.5462 L1713.27 35.8239 L1721.37 15.5462 L1725.88 15.5462 L1714.49 43.8794 Z\" fill=\"#000000\" fill-rule=\"evenodd\" fill-opacity=\"1\" /><path clip-path=\"url(#clip230)\" d=\"M 0 0 M1742.09 11.5185 L1735.74 28.7174 L1748.45 28.7174 L1742.09 11.5185 M1739.45 6.912 L1744.75 6.912 L1757.92 41.472 L1753.06 41.472 L1749.91 32.6063 L1734.33 32.6063 L1731.18 41.472 L1726.25 41.472 L1739.45 6.912 Z\" fill=\"#000000\" fill-rule=\"evenodd\" fill-opacity=\"1\" /><path clip-path=\"url(#clip230)\" d=\"M 0 0 M1778.96 25.2684 Q1780.46 25.7776 1781.88 27.4443 Q1783.31 29.111 1784.75 32.0276 L1789.49 41.472 L1784.47 41.472 L1780.05 32.6063 Q1778.33 29.1341 1776.71 27.9998 Q1775.12 26.8656 1772.34 26.8656 L1767.25 26.8656 L1767.25 41.472 L1762.57 41.472 L1762.57 6.912 L1773.13 6.912 Q1779.05 6.912 1781.97 9.38884 Q1784.89 11.8657 1784.89 16.8657 Q1784.89 20.1295 1783.36 22.2823 Q1781.85 24.4351 1778.96 25.2684 M1767.25 10.7546 L1767.25 23.023 L1773.13 23.023 Q1776.51 23.023 1778.22 21.4721 Q1779.96 19.898 1779.96 16.8657 Q1779.96 13.8333 1778.22 12.3055 Q1776.51 10.7546 1773.13 10.7546 L1767.25 10.7546 Z\" fill=\"#000000\" fill-rule=\"evenodd\" fill-opacity=\"1\" /><path clip-path=\"url(#clip230)\" d=\"M 0 0 M1785.9 6.912 L1815.14 6.912 L1815.14 10.8472 L1802.87 10.8472 L1802.87 41.472 L1798.17 41.472 L1798.17 10.8472 L1785.9 10.8472 L1785.9 6.912 Z\" fill=\"#000000\" fill-rule=\"evenodd\" fill-opacity=\"1\" /><path clip-path=\"url(#clip230)\" d=\"M 0 0 M1849.7 19.5277 Q1848.98 19.111 1848.13 18.9258 Q1847.29 18.7175 1846.27 18.7175 Q1842.66 18.7175 1840.72 21.0786 Q1838.8 23.4165 1838.8 27.8147 L1838.8 41.472 L1834.52 41.472 L1834.52 15.5462 L1838.8 15.5462 L1838.8 19.574 Q1840.14 17.2129 1842.29 16.0786 Q1844.45 14.9212 1847.52 14.9212 Q1847.96 14.9212 1848.5 14.9907 Q1849.03 15.037 1849.68 15.1527 L1849.7 19.5277 Z\" fill=\"#000000\" fill-rule=\"evenodd\" fill-opacity=\"1\" /><path clip-path=\"url(#clip230)\" d=\"M 0 0 M1874.89 25.8239 L1874.89 41.472 L1870.63 41.472 L1870.63 25.9628 Q1870.63 22.2823 1869.19 20.4536 Q1867.76 18.6249 1864.89 18.6249 Q1861.44 18.6249 1859.45 20.824 Q1857.45 23.023 1857.45 26.8193 L1857.45 41.472 L1853.17 41.472 L1853.17 5.45367 L1857.45 5.45367 L1857.45 19.574 Q1858.98 17.236 1861.04 16.0786 Q1863.13 14.9212 1865.83 14.9212 Q1870.3 14.9212 1872.59 17.699 Q1874.89 20.4536 1874.89 25.8239 Z\" fill=\"#000000\" fill-rule=\"evenodd\" fill-opacity=\"1\" /><path clip-path=\"url(#clip230)\" d=\"M 0 0 M1889.4 18.5323 Q1885.97 18.5323 1883.98 21.2175 Q1881.99 23.8795 1881.99 28.5323 Q1881.99 33.185 1883.96 35.8702 Q1885.95 38.5322 1889.4 38.5322 Q1892.8 38.5322 1894.79 35.847 Q1896.78 33.1619 1896.78 28.5323 Q1896.78 23.9258 1894.79 21.2406 Q1892.8 18.5323 1889.4 18.5323 M1889.4 14.9212 Q1894.95 14.9212 1898.13 18.5323 Q1901.3 22.1434 1901.3 28.5323 Q1901.3 34.898 1898.13 38.5322 Q1894.95 42.1433 1889.4 42.1433 Q1883.82 42.1433 1880.65 38.5322 Q1877.5 34.898 1877.5 28.5323 Q1877.5 22.1434 1880.65 18.5323 Q1883.82 14.9212 1889.4 14.9212 Z\" fill=\"#000000\" fill-rule=\"evenodd\" fill-opacity=\"1\" /><path clip-path=\"url(#clip230)\" d=\"M 0 0 M1921.39 19.9443 L1951.07 19.9443 L1951.07 23.8332 L1921.39 23.8332 L1921.39 19.9443 M1921.39 29.3887 L1951.07 29.3887 L1951.07 33.3239 L1921.39 33.3239 L1921.39 29.3887 Z\" fill=\"#000000\" fill-rule=\"evenodd\" fill-opacity=\"1\" /><path clip-path=\"url(#clip230)\" d=\"M 0 0 M1981.2 9.99069 Q1977.59 9.99069 1975.76 13.5555 Q1973.96 17.0971 1973.96 24.2267 Q1973.96 31.3332 1975.76 34.898 Q1977.59 38.4396 1981.2 38.4396 Q1984.84 38.4396 1986.64 34.898 Q1988.47 31.3332 1988.47 24.2267 Q1988.47 17.0971 1986.64 13.5555 Q1984.84 9.99069 1981.2 9.99069 M1981.2 6.287 Q1987.01 6.287 1990.07 10.8935 Q1993.15 15.4768 1993.15 24.2267 Q1993.15 32.9535 1990.07 37.56 Q1987.01 42.1433 1981.2 42.1433 Q1975.39 42.1433 1972.32 37.56 Q1969.26 32.9535 1969.26 24.2267 Q1969.26 15.4768 1972.32 10.8935 Q1975.39 6.287 1981.2 6.287 Z\" fill=\"#000000\" fill-rule=\"evenodd\" fill-opacity=\"1\" /><path clip-path=\"url(#clip230)\" d=\"M 0 0 M1998.22 35.5924 L2003.1 35.5924 L2003.1 41.472 L1998.22 41.472 L1998.22 35.5924 Z\" fill=\"#000000\" fill-rule=\"evenodd\" fill-opacity=\"1\" /><path clip-path=\"url(#clip230)\" d=\"M 0 0 M2006.99 6.912 L2029.21 6.912 L2029.21 8.90273 L2016.67 41.472 L2011.78 41.472 L2023.59 10.8472 L2006.99 10.8472 L2006.99 6.912 Z\" fill=\"#000000\" fill-rule=\"evenodd\" fill-opacity=\"1\" /><circle clip-path=\"url(#clip233)\" cx=\"2254.4\" cy=\"495.244\" r=\"14\" fill=\"#009af9\" fill-rule=\"evenodd\" fill-opacity=\"1\" stroke=\"#000000\" stroke-opacity=\"1\" stroke-width=\"3.2\"/>\n",
       "<circle clip-path=\"url(#clip233)\" cx=\"2265.59\" cy=\"778.058\" r=\"14\" fill=\"#009af9\" fill-rule=\"evenodd\" fill-opacity=\"1\" stroke=\"#000000\" stroke-opacity=\"1\" stroke-width=\"3.2\"/>\n",
       "<circle clip-path=\"url(#clip233)\" cx=\"2220.8\" cy=\"560.329\" r=\"14\" fill=\"#009af9\" fill-rule=\"evenodd\" fill-opacity=\"1\" stroke=\"#000000\" stroke-opacity=\"1\" stroke-width=\"3.2\"/>\n",
       "<circle clip-path=\"url(#clip233)\" cx=\"2322.59\" cy=\"983.916\" r=\"14\" fill=\"#009af9\" fill-rule=\"evenodd\" fill-opacity=\"1\" stroke=\"#000000\" stroke-opacity=\"1\" stroke-width=\"3.2\"/>\n",
       "<circle clip-path=\"url(#clip233)\" cx=\"2291.38\" cy=\"922.263\" r=\"14\" fill=\"#009af9\" fill-rule=\"evenodd\" fill-opacity=\"1\" stroke=\"#000000\" stroke-opacity=\"1\" stroke-width=\"3.2\"/>\n",
       "<circle clip-path=\"url(#clip233)\" cx=\"2266.97\" cy=\"317.217\" r=\"14\" fill=\"#009af9\" fill-rule=\"evenodd\" fill-opacity=\"1\" stroke=\"#000000\" stroke-opacity=\"1\" stroke-width=\"3.2\"/>\n",
       "<circle clip-path=\"url(#clip233)\" cx=\"2279.02\" cy=\"723.971\" r=\"14\" fill=\"#009af9\" fill-rule=\"evenodd\" fill-opacity=\"1\" stroke=\"#000000\" stroke-opacity=\"1\" stroke-width=\"3.2\"/>\n",
       "<circle clip-path=\"url(#clip233)\" cx=\"2249.81\" cy=\"413.343\" r=\"14\" fill=\"#009af9\" fill-rule=\"evenodd\" fill-opacity=\"1\" stroke=\"#000000\" stroke-opacity=\"1\" stroke-width=\"3.2\"/>\n",
       "<circle clip-path=\"url(#clip233)\" cx=\"2299.21\" cy=\"918.119\" r=\"14\" fill=\"#009af9\" fill-rule=\"evenodd\" fill-opacity=\"1\" stroke=\"#000000\" stroke-opacity=\"1\" stroke-width=\"3.2\"/>\n",
       "<circle clip-path=\"url(#clip233)\" cx=\"2306.26\" cy=\"1120.73\" r=\"14\" fill=\"#009af9\" fill-rule=\"evenodd\" fill-opacity=\"1\" stroke=\"#000000\" stroke-opacity=\"1\" stroke-width=\"3.2\"/>\n",
       "<circle clip-path=\"url(#clip233)\" cx=\"2270.09\" cy=\"104.257\" r=\"14\" fill=\"#009af9\" fill-rule=\"evenodd\" fill-opacity=\"1\" stroke=\"#000000\" stroke-opacity=\"1\" stroke-width=\"3.2\"/>\n",
       "<circle clip-path=\"url(#clip233)\" cx=\"2267.37\" cy=\"439.455\" r=\"14\" fill=\"#009af9\" fill-rule=\"evenodd\" fill-opacity=\"1\" stroke=\"#000000\" stroke-opacity=\"1\" stroke-width=\"3.2\"/>\n",
       "<circle clip-path=\"url(#clip233)\" cx=\"2263.22\" cy=\"154.111\" r=\"14\" fill=\"#009af9\" fill-rule=\"evenodd\" fill-opacity=\"1\" stroke=\"#000000\" stroke-opacity=\"1\" stroke-width=\"3.2\"/>\n",
       "<circle clip-path=\"url(#clip233)\" cx=\"2262.21\" cy=\"653.94\" r=\"14\" fill=\"#009af9\" fill-rule=\"evenodd\" fill-opacity=\"1\" stroke=\"#000000\" stroke-opacity=\"1\" stroke-width=\"3.2\"/>\n",
       "<circle clip-path=\"url(#clip233)\" cx=\"2250.01\" cy=\"870.957\" r=\"14\" fill=\"#009af9\" fill-rule=\"evenodd\" fill-opacity=\"1\" stroke=\"#000000\" stroke-opacity=\"1\" stroke-width=\"3.2\"/>\n",
       "<circle clip-path=\"url(#clip233)\" cx=\"1990.04\" cy=\"1369.68\" r=\"14\" fill=\"#e26f46\" fill-rule=\"evenodd\" fill-opacity=\"1\" stroke=\"#000000\" stroke-opacity=\"1\" stroke-width=\"3.2\"/>\n",
       "<circle clip-path=\"url(#clip233)\" cx=\"1742.57\" cy=\"896.027\" r=\"14\" fill=\"#e26f46\" fill-rule=\"evenodd\" fill-opacity=\"1\" stroke=\"#000000\" stroke-opacity=\"1\" stroke-width=\"3.2\"/>\n",
       "<circle clip-path=\"url(#clip233)\" cx=\"1758.5\" cy=\"1004.96\" r=\"14\" fill=\"#e26f46\" fill-rule=\"evenodd\" fill-opacity=\"1\" stroke=\"#000000\" stroke-opacity=\"1\" stroke-width=\"3.2\"/>\n",
       "<circle clip-path=\"url(#clip233)\" cx=\"1716.71\" cy=\"626.268\" r=\"14\" fill=\"#e26f46\" fill-rule=\"evenodd\" fill-opacity=\"1\" stroke=\"#000000\" stroke-opacity=\"1\" stroke-width=\"3.2\"/>\n",
       "<circle clip-path=\"url(#clip233)\" cx=\"1686.64\" cy=\"1230.78\" r=\"14\" fill=\"#e26f46\" fill-rule=\"evenodd\" fill-opacity=\"1\" stroke=\"#000000\" stroke-opacity=\"1\" stroke-width=\"3.2\"/>\n",
       "<circle clip-path=\"url(#clip233)\" cx=\"1688.65\" cy=\"393.96\" r=\"14\" fill=\"#e26f46\" fill-rule=\"evenodd\" fill-opacity=\"1\" stroke=\"#000000\" stroke-opacity=\"1\" stroke-width=\"3.2\"/>\n",
       "<circle clip-path=\"url(#clip233)\" cx=\"1773.13\" cy=\"703.509\" r=\"14\" fill=\"#e26f46\" fill-rule=\"evenodd\" fill-opacity=\"1\" stroke=\"#000000\" stroke-opacity=\"1\" stroke-width=\"3.2\"/>\n",
       "<circle clip-path=\"url(#clip233)\" cx=\"1717.9\" cy=\"746.893\" r=\"14\" fill=\"#e26f46\" fill-rule=\"evenodd\" fill-opacity=\"1\" stroke=\"#000000\" stroke-opacity=\"1\" stroke-width=\"3.2\"/>\n",
       "<circle clip-path=\"url(#clip233)\" cx=\"1826.19\" cy=\"1081.64\" r=\"14\" fill=\"#e26f46\" fill-rule=\"evenodd\" fill-opacity=\"1\" stroke=\"#000000\" stroke-opacity=\"1\" stroke-width=\"3.2\"/>\n",
       "<circle clip-path=\"url(#clip233)\" cx=\"1904.69\" cy=\"936.192\" r=\"14\" fill=\"#e26f46\" fill-rule=\"evenodd\" fill-opacity=\"1\" stroke=\"#000000\" stroke-opacity=\"1\" stroke-width=\"3.2\"/>\n",
       "<circle clip-path=\"url(#clip233)\" cx=\"1854.46\" cy=\"1183.71\" r=\"14\" fill=\"#e26f46\" fill-rule=\"evenodd\" fill-opacity=\"1\" stroke=\"#000000\" stroke-opacity=\"1\" stroke-width=\"3.2\"/>\n",
       "<circle clip-path=\"url(#clip233)\" cx=\"1826\" cy=\"829.168\" r=\"14\" fill=\"#e26f46\" fill-rule=\"evenodd\" fill-opacity=\"1\" stroke=\"#000000\" stroke-opacity=\"1\" stroke-width=\"3.2\"/>\n",
       "<circle clip-path=\"url(#clip233)\" cx=\"1801.94\" cy=\"1479.74\" r=\"14\" fill=\"#e26f46\" fill-rule=\"evenodd\" fill-opacity=\"1\" stroke=\"#000000\" stroke-opacity=\"1\" stroke-width=\"3.2\"/>\n",
       "<circle clip-path=\"url(#clip233)\" cx=\"1839.98\" cy=\"1107.48\" r=\"14\" fill=\"#e26f46\" fill-rule=\"evenodd\" fill-opacity=\"1\" stroke=\"#000000\" stroke-opacity=\"1\" stroke-width=\"3.2\"/>\n",
       "<circle clip-path=\"url(#clip233)\" cx=\"1686.92\" cy=\"980.013\" r=\"14\" fill=\"#3da44d\" fill-rule=\"evenodd\" fill-opacity=\"1\" stroke=\"#000000\" stroke-opacity=\"1\" stroke-width=\"3.2\"/>\n",
       "<circle clip-path=\"url(#clip233)\" cx=\"1669.51\" cy=\"1123.12\" r=\"14\" fill=\"#3da44d\" fill-rule=\"evenodd\" fill-opacity=\"1\" stroke=\"#000000\" stroke-opacity=\"1\" stroke-width=\"3.2\"/>\n",
       "<circle clip-path=\"url(#clip233)\" cx=\"1561.33\" cy=\"710.146\" r=\"14\" fill=\"#3da44d\" fill-rule=\"evenodd\" fill-opacity=\"1\" stroke=\"#000000\" stroke-opacity=\"1\" stroke-width=\"3.2\"/>\n",
       "<circle clip-path=\"url(#clip233)\" cx=\"1491.54\" cy=\"592.688\" r=\"14\" fill=\"#3da44d\" fill-rule=\"evenodd\" fill-opacity=\"1\" stroke=\"#000000\" stroke-opacity=\"1\" stroke-width=\"3.2\"/>\n",
       "<circle clip-path=\"url(#clip233)\" cx=\"1458.32\" cy=\"574.865\" r=\"14\" fill=\"#3da44d\" fill-rule=\"evenodd\" fill-opacity=\"1\" stroke=\"#000000\" stroke-opacity=\"1\" stroke-width=\"3.2\"/>\n",
       "<circle clip-path=\"url(#clip233)\" cx=\"1558.31\" cy=\"665.962\" r=\"14\" fill=\"#3da44d\" fill-rule=\"evenodd\" fill-opacity=\"1\" stroke=\"#000000\" stroke-opacity=\"1\" stroke-width=\"3.2\"/>\n",
       "<circle clip-path=\"url(#clip233)\" cx=\"1713.6\" cy=\"839.229\" r=\"14\" fill=\"#3da44d\" fill-rule=\"evenodd\" fill-opacity=\"1\" stroke=\"#000000\" stroke-opacity=\"1\" stroke-width=\"3.2\"/>\n",
       "<circle clip-path=\"url(#clip233)\" cx=\"1446.89\" cy=\"339.033\" r=\"14\" fill=\"#3da44d\" fill-rule=\"evenodd\" fill-opacity=\"1\" stroke=\"#000000\" stroke-opacity=\"1\" stroke-width=\"3.2\"/>\n",
       "<circle clip-path=\"url(#clip233)\" cx=\"1617.71\" cy=\"745.082\" r=\"14\" fill=\"#3da44d\" fill-rule=\"evenodd\" fill-opacity=\"1\" stroke=\"#000000\" stroke-opacity=\"1\" stroke-width=\"3.2\"/>\n",
       "<circle clip-path=\"url(#clip233)\" cx=\"1491.88\" cy=\"467.475\" r=\"14\" fill=\"#3da44d\" fill-rule=\"evenodd\" fill-opacity=\"1\" stroke=\"#000000\" stroke-opacity=\"1\" stroke-width=\"3.2\"/>\n",
       "<circle clip-path=\"url(#clip233)\" cx=\"1504.09\" cy=\"797.359\" r=\"14\" fill=\"#3da44d\" fill-rule=\"evenodd\" fill-opacity=\"1\" stroke=\"#000000\" stroke-opacity=\"1\" stroke-width=\"3.2\"/>\n",
       "<circle clip-path=\"url(#clip233)\" cx=\"1317.16\" cy=\"643.986\" r=\"14\" fill=\"#3da44d\" fill-rule=\"evenodd\" fill-opacity=\"1\" stroke=\"#000000\" stroke-opacity=\"1\" stroke-width=\"3.2\"/>\n",
       "<circle clip-path=\"url(#clip233)\" cx=\"1679.8\" cy=\"1239.69\" r=\"14\" fill=\"#3da44d\" fill-rule=\"evenodd\" fill-opacity=\"1\" stroke=\"#000000\" stroke-opacity=\"1\" stroke-width=\"3.2\"/>\n",
       "<circle clip-path=\"url(#clip233)\" cx=\"1559.29\" cy=\"916.817\" r=\"14\" fill=\"#3da44d\" fill-rule=\"evenodd\" fill-opacity=\"1\" stroke=\"#000000\" stroke-opacity=\"1\" stroke-width=\"3.2\"/>\n",
       "<circle clip-path=\"url(#clip233)\" cx=\"1662.11\" cy=\"498.818\" r=\"14\" fill=\"#3da44d\" fill-rule=\"evenodd\" fill-opacity=\"1\" stroke=\"#000000\" stroke-opacity=\"1\" stroke-width=\"3.2\"/>\n",
       "<circle clip-path=\"url(#clip233)\" cx=\"1499.41\" cy=\"630.848\" r=\"14\" fill=\"#3da44d\" fill-rule=\"evenodd\" fill-opacity=\"1\" stroke=\"#000000\" stroke-opacity=\"1\" stroke-width=\"3.2\"/>\n",
       "</svg>\n"
      ]
     },
     "metadata": {},
     "execution_count": 19
    }
   ],
   "cell_type": "code",
   "source": [
    "p1 = scatter(X_test_pca[1,:], X_test_pca[2,:], group=y_hat_1, title=@sprintf \"FuzzyART rho = %.1f\" rho_1)\n",
    "p2 = scatter(X_test_pca[1,:], X_test_pca[2,:], group=y_hat_2, title=@sprintf \"FuzzyART rho = %.1f\" rho_2)\n",
    "plot(p1, p2, layout=(1, 2), legend = false, xtickfontsize=6, xguidefontsize=8, titlefont=font(8))"
   ],
   "metadata": {},
   "execution_count": 19
  },
  {
   "cell_type": "markdown",
   "source": [
    "---\n",
    "\n",
    "*This notebook was generated using [Literate.jl](https://github.com/fredrikekre/Literate.jl).*"
   ],
   "metadata": {}
  }
 ],
 "nbformat_minor": 3,
 "metadata": {
  "language_info": {
   "file_extension": ".jl",
   "mimetype": "application/julia",
   "name": "julia",
   "version": "1.4.2"
  },
  "kernelspec": {
   "name": "julia-1.4",
   "display_name": "Julia 1.4.2",
   "language": "julia"
  }
 },
 "nbformat": 4
}
