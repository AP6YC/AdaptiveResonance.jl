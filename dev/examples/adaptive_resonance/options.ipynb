{
 "cells": [
  {
   "cell_type": "markdown",
   "source": [
    "## Overview"
   ],
   "metadata": {}
  },
  {
   "cell_type": "markdown",
   "source": [
    "The `AdaptiveResonance.jl` package has several ways of handling options for ART modules.\n",
    "These methods are meant to give maximum flexibility to the user for sharing and interpreting options, which themselves vary between each module."
   ],
   "metadata": {}
  },
  {
   "cell_type": "markdown",
   "source": [
    "!!! note\n",
    "    For more info on options in ART modules, see the guide in the docs on ART options."
   ],
   "metadata": {}
  },
  {
   "cell_type": "markdown",
   "source": [
    "## ART Options"
   ],
   "metadata": {}
  },
  {
   "cell_type": "markdown",
   "source": [
    "To get a feel for the ART options system, we will inspect different options and their instantiation methods."
   ],
   "metadata": {}
  },
  {
   "cell_type": "markdown",
   "source": [
    "### Inspection"
   ],
   "metadata": {}
  },
  {
   "cell_type": "markdown",
   "source": [
    "First, we load `AdaptiveResonance`:"
   ],
   "metadata": {}
  },
  {
   "outputs": [],
   "cell_type": "code",
   "source": [
    "using AdaptiveResonance"
   ],
   "metadata": {},
   "execution_count": 1
  },
  {
   "cell_type": "markdown",
   "source": [
    "Every ART module has a default constructor, which can be instantiated in the usual way:"
   ],
   "metadata": {}
  },
  {
   "outputs": [
    {
     "output_type": "execute_result",
     "data": {
      "text/plain": "FuzzyART"
     },
     "metadata": {},
     "execution_count": 2
    }
   ],
   "cell_type": "code",
   "source": [
    "# Create a FuzzyART module with default options\n",
    "my_fuzzyart = FuzzyART()\n",
    "typeof(my_fuzzyart)"
   ],
   "metadata": {},
   "execution_count": 2
  },
  {
   "cell_type": "markdown",
   "source": [
    "Within every ART module is a [Parameters.jl](https://github.com/mauro3/Parameters.jl) struct named `opts` containing the options for the module"
   ],
   "metadata": {}
  },
  {
   "outputs": [
    {
     "output_type": "execute_result",
     "data": {
      "text/plain": "opts_FuzzyART\n  rho: Float64 0.6\n  alpha: Float64 0.001\n  beta: Float64 1.0\n  gamma: Float64 3.0\n  gamma_ref: Float64 1.0\n  display: Bool true\n  max_epochs: Int64 1\n  gamma_normalization: Bool false\n"
     },
     "metadata": {},
     "execution_count": 3
    }
   ],
   "cell_type": "code",
   "source": [
    "# Check the FuzzyART options\n",
    "my_fuzzyart.opts"
   ],
   "metadata": {},
   "execution_count": 3
  },
  {
   "cell_type": "markdown",
   "source": [
    "Note that the options here have the type `opts_FuzzyART`.\n",
    "This nomenclature is used throughout the module to indicate an options type associated with an ART module.\n",
    "For example, the options for a DDVFA module are `opts_DDVFA`:"
   ],
   "metadata": {}
  },
  {
   "outputs": [
    {
     "output_type": "execute_result",
     "data": {
      "text/plain": "opts_DDVFA"
     },
     "metadata": {},
     "execution_count": 4
    }
   ],
   "cell_type": "code",
   "source": [
    "# Create a DDVFA module and check the type of the options\n",
    "my_ddvfa = DDVFA()\n",
    "typeof(my_ddvfa.opts)"
   ],
   "metadata": {},
   "execution_count": 4
  },
  {
   "cell_type": "markdown",
   "source": [
    "In fact, we can create an instance of these options with a default constructor:"
   ],
   "metadata": {}
  },
  {
   "outputs": [
    {
     "output_type": "execute_result",
     "data": {
      "text/plain": "opts_FuzzyART\n  rho: Float64 0.6\n  alpha: Float64 0.001\n  beta: Float64 1.0\n  gamma: Float64 3.0\n  gamma_ref: Float64 1.0\n  display: Bool true\n  max_epochs: Int64 1\n  gamma_normalization: Bool false\n"
     },
     "metadata": {},
     "execution_count": 5
    }
   ],
   "cell_type": "code",
   "source": [
    "# Create a separate options struct\n",
    "my_fuzzyart_opts = opts_FuzzyART()"
   ],
   "metadata": {},
   "execution_count": 5
  },
  {
   "cell_type": "markdown",
   "source": [
    "In addition to the default constructor, we can construct ART modules by instantiating these options and passing them to the module during construction:"
   ],
   "metadata": {}
  },
  {
   "outputs": [
    {
     "output_type": "execute_result",
     "data": {
      "text/plain": "FuzzyART(opts_FuzzyART\n  rho: Float64 0.6\n  alpha: Float64 0.001\n  beta: Float64 1.0\n  gamma: Float64 3.0\n  gamma_ref: Float64 1.0\n  display: Bool true\n  max_epochs: Int64 1\n  gamma_normalization: Bool false\n, DataConfig(false, Float64[], Float64[], 0, 0), 0.0, Int64[], Float64[], Float64[], Array{Float64}(undef,0,0), Int64[], 0, 0)"
     },
     "metadata": {},
     "execution_count": 6
    }
   ],
   "cell_type": "code",
   "source": [
    "# Instantiate an ART module by passing our options\n",
    "my_fuzzyart = FuzzyART(my_fuzzyart_opts)\n",
    "my_other_fuzzyart = FuzzyART(my_fuzzyart_opts)"
   ],
   "metadata": {},
   "execution_count": 6
  },
  {
   "cell_type": "markdown",
   "source": [
    "### Specifying Options"
   ],
   "metadata": {}
  },
  {
   "cell_type": "markdown",
   "source": [
    "Now to the good stuff: because of the behavior of the `Parameters.jl` type, each option has a default value that we can modify during instantiation with keyword arguments:"
   ],
   "metadata": {}
  },
  {
   "outputs": [
    {
     "output_type": "execute_result",
     "data": {
      "text/plain": "FuzzyART(opts_FuzzyART\n  rho: Float64 0.6\n  alpha: Float64 0.001\n  beta: Float64 1.0\n  gamma: Float64 3.0\n  gamma_ref: Float64 1.0\n  display: Bool true\n  max_epochs: Int64 1\n  gamma_normalization: Bool true\n, DataConfig(false, Float64[], Float64[], 0, 0), 0.0, Int64[], Float64[], Float64[], Array{Float64}(undef,0,0), Int64[], 0, 0)"
     },
     "metadata": {},
     "execution_count": 7
    }
   ],
   "cell_type": "code",
   "source": [
    "# Change some of the default FuzzyART options\n",
    "my_fuzzyart_opts = opts_FuzzyART(\n",
    "    rho=0.6,\n",
    "    gamma_normalization=true\n",
    ")\n",
    "my_fuzzyart = FuzzyART(my_fuzzyart_opts)"
   ],
   "metadata": {},
   "execution_count": 7
  },
  {
   "cell_type": "markdown",
   "source": [
    "As some syntactic sugar, we can pass these keyword arguments directly to the module during instantiation if we have no need to share option structs:"
   ],
   "metadata": {}
  },
  {
   "outputs": [
    {
     "output_type": "execute_result",
     "data": {
      "text/plain": "FuzzyART(opts_FuzzyART\n  rho: Float64 0.6\n  alpha: Float64 0.001\n  beta: Float64 1.0\n  gamma: Float64 3.0\n  gamma_ref: Float64 1.0\n  display: Bool true\n  max_epochs: Int64 1\n  gamma_normalization: Bool true\n, DataConfig(false, Float64[], Float64[], 0, 0), 0.0, Int64[], Float64[], Float64[], Array{Float64}(undef,0,0), Int64[], 0, 0)"
     },
     "metadata": {},
     "execution_count": 8
    }
   ],
   "cell_type": "code",
   "source": [
    "# Pass these keyword arguments to the module directly\n",
    "my_fuzzyart = FuzzyART(\n",
    "    rho=0.6,\n",
    "    gamma_normalization=true\n",
    ")"
   ],
   "metadata": {},
   "execution_count": 8
  },
  {
   "cell_type": "markdown",
   "source": [
    "Before training, we can also instantiate the model and alter the options afterward:"
   ],
   "metadata": {}
  },
  {
   "outputs": [
    {
     "output_type": "execute_result",
     "data": {
      "text/plain": "0.6"
     },
     "metadata": {},
     "execution_count": 9
    }
   ],
   "cell_type": "code",
   "source": [
    "my_fuzzyart = FuzzyART()\n",
    "my_fuzzyart.opts.rho=0.6"
   ],
   "metadata": {},
   "execution_count": 9
  },
  {
   "cell_type": "markdown",
   "source": [
    "!!! note\n",
    "    All ART modules are designed to use this options struct internally when the parameters are needed.\n",
    "    It is possible to change these parameters in the middle of training and evaluation, but some algorithmic instability may occur."
   ],
   "metadata": {}
  },
  {
   "cell_type": "markdown",
   "source": [
    "## Comparison"
   ],
   "metadata": {}
  },
  {
   "cell_type": "markdown",
   "source": [
    "To see the effect that changing these parameters has on the modules, we can train and test them side-by-side."
   ],
   "metadata": {}
  },
  {
   "cell_type": "markdown",
   "source": [
    "We begin with importing AdaptiveResonance for the ART modules and MLDatasets for some data utilities."
   ],
   "metadata": {}
  },
  {
   "outputs": [],
   "cell_type": "code",
   "source": [
    "using MLDatasets        # Iris dataset\n",
    "using MLDataUtils       # Shuffling and splitting\n",
    "using Printf            # Formatted number printing\n",
    "using MultivariateStats # Principal component analysis (PCA)\n",
    "using Plots             # Plotting"
   ],
   "metadata": {},
   "execution_count": 10
  },
  {
   "cell_type": "markdown",
   "source": [
    "We will download the Iris dataset for its small size and benchmark use for clustering algorithms."
   ],
   "metadata": {}
  },
  {
   "outputs": [
    {
     "output_type": "execute_result",
     "data": {
      "text/plain": "([5.1 4.9 … 6.2 5.9; 3.5 3.0 … 3.4 3.0; 1.4 1.4 … 5.4 5.1; 0.2 0.2 … 2.3 1.8], [\"Iris-setosa\", \"Iris-setosa\", \"Iris-setosa\", \"Iris-setosa\", \"Iris-setosa\", \"Iris-setosa\", \"Iris-setosa\", \"Iris-setosa\", \"Iris-setosa\", \"Iris-setosa\"  …  \"Iris-virginica\", \"Iris-virginica\", \"Iris-virginica\", \"Iris-virginica\", \"Iris-virginica\", \"Iris-virginica\", \"Iris-virginica\", \"Iris-virginica\", \"Iris-virginica\", \"Iris-virginica\"])"
     },
     "metadata": {},
     "execution_count": 11
    }
   ],
   "cell_type": "code",
   "source": [
    "Iris.download(i_accept_the_terms_of_use=true)\n",
    "features, labels = Iris.features(), Iris.labels()"
   ],
   "metadata": {},
   "execution_count": 11
  },
  {
   "cell_type": "markdown",
   "source": [
    "Because the MLDatasets package gives us Iris labels as strings, we will use the `MLDataUtils.convertlabel` method with the `MLLabelUtils.LabelEnc.Indices` type to get a list of integers representing each class:"
   ],
   "metadata": {}
  },
  {
   "outputs": [
    {
     "output_type": "execute_result",
     "data": {
      "text/plain": "3-element Array{Int64,1}:\n 1\n 2\n 3"
     },
     "metadata": {},
     "execution_count": 12
    }
   ],
   "cell_type": "code",
   "source": [
    "labels = convertlabel(LabelEnc.Indices{Int}, labels)\n",
    "unique(labels)"
   ],
   "metadata": {},
   "execution_count": 12
  },
  {
   "cell_type": "markdown",
   "source": [
    "Next, we will create a train/test split with the `MLDataUtils.stratifiedobs` utility:"
   ],
   "metadata": {}
  },
  {
   "outputs": [
    {
     "output_type": "execute_result",
     "data": {
      "text/plain": "(([4.4 5.6 … 6.5 4.8; 2.9 2.5 … 3.0 3.0; 1.4 3.9 … 5.8 1.4; 0.2 1.1 … 2.2 0.1], [1, 2, 2, 2, 3, 2, 3, 3, 3, 2  …  3, 2, 3, 2, 3, 1, 1, 3, 3, 1]), ([6.4 4.8 … 5.7 6.7; 3.1 3.4 … 2.8 3.0; 5.5 1.9 … 4.5 5.2; 1.8 0.2 … 1.3 2.3], [3, 1, 2, 1, 1, 2, 2, 2, 1, 3  …  1, 2, 1, 1, 1, 2, 3, 3, 2, 3]))"
     },
     "metadata": {},
     "execution_count": 13
    }
   ],
   "cell_type": "code",
   "source": [
    "(X_train, y_train), (X_test, y_test) = stratifiedobs((features, labels))"
   ],
   "metadata": {},
   "execution_count": 13
  },
  {
   "cell_type": "markdown",
   "source": [
    "Now we can create several FuzzyART modules with different options."
   ],
   "metadata": {}
  },
  {
   "outputs": [
    {
     "output_type": "execute_result",
     "data": {
      "text/plain": "FuzzyART(opts_FuzzyART\n  rho: Float64 0.7\n  alpha: Float64 0.001\n  beta: Float64 1.0\n  gamma: Float64 3.0\n  gamma_ref: Float64 1.0\n  display: Bool false\n  max_epochs: Int64 1\n  gamma_normalization: Bool false\n, DataConfig(false, Float64[], Float64[], 0, 0), 0.0, Int64[], Float64[], Float64[], Array{Float64}(undef,0,0), Int64[], 0, 0)"
     },
     "metadata": {},
     "execution_count": 14
    }
   ],
   "cell_type": "code",
   "source": [
    "# Create two FuzzyARTs with different vigilance values and suppressing logging messages\n",
    "rho_1 = 0.5\n",
    "rho_2 = 0.7\n",
    "my_fuzzyart_1 = FuzzyART(rho=rho_1, display=false)\n",
    "my_fuzzyart_2 = FuzzyART(rho=rho_2, display=false)"
   ],
   "metadata": {},
   "execution_count": 14
  },
  {
   "cell_type": "markdown",
   "source": [
    "Here, we will train these FuzzyART modules in simple supervised mode by passing the supervised labels as a keyword argument:"
   ],
   "metadata": {}
  },
  {
   "outputs": [
    {
     "output_type": "execute_result",
     "data": {
      "text/plain": "105-element Array{Int64,1}:\n 1\n 2\n 2\n 2\n 3\n 2\n 3\n 3\n 3\n 2\n ⋮\n 2\n 3\n 2\n 3\n 1\n 1\n 3\n 3\n 1"
     },
     "metadata": {},
     "execution_count": 15
    }
   ],
   "cell_type": "code",
   "source": [
    "# Train in simple supervised mode by passing the labels as a keyword argument.\n",
    "y_hat_train_1 = train!(my_fuzzyart_1, X_train, y=y_train)\n",
    "y_hat_train_2 = train!(my_fuzzyart_2, X_train, y=y_train)"
   ],
   "metadata": {},
   "execution_count": 15
  },
  {
   "cell_type": "markdown",
   "source": [
    "We then classify the test data with both modules:"
   ],
   "metadata": {}
  },
  {
   "outputs": [
    {
     "name": "stdout",
     "output_type": "stream",
     "text": [
      "FuzzyART 1 labels: (45,) Array{Int64,1}\n",
      "FuzzyART 2 labels: (45,) Array{Int64,1}\n",
      "Testing performance rho=0.5: 0.9556\n",
      "Testing performance rho=0.7: 0.9333\n"
     ]
    }
   ],
   "cell_type": "code",
   "source": [
    "y_hat_1 = AdaptiveResonance.classify(my_fuzzyart_1, X_test, get_bmu=true)\n",
    "y_hat_2 = AdaptiveResonance.classify(my_fuzzyart_2, X_test, get_bmu=true)\n",
    "\n",
    "# Check the shape and type of the output labels\n",
    "println(\"FuzzyART 1 labels: \",  size(y_hat_1), \" \", typeof(y_hat_1))\n",
    "println(\"FuzzyART 2 labels: \",  size(y_hat_2), \" \", typeof(y_hat_2))\n",
    "\n",
    "# Calculate the performance on the test data\n",
    "perf_test_1 = performance(y_hat_1, y_test)\n",
    "perf_test_2 = performance(y_hat_2, y_test)\n",
    "\n",
    "# Format each performance number for comparison\n",
    "@printf \"Testing performance rho=%.1f: %.4f\\n\" rho_1 perf_test_1\n",
    "@printf \"Testing performance rho=%.1f: %.4f\\n\" rho_2 perf_test_2"
   ],
   "metadata": {},
   "execution_count": 16
  },
  {
   "cell_type": "markdown",
   "source": [
    "In addition to having different performances, we can see that there is a subsequent trade-off in the number of categories used:"
   ],
   "metadata": {}
  },
  {
   "outputs": [
    {
     "name": "stdout",
     "output_type": "stream",
     "text": [
      "Number of categories rho=0.5: 12\n",
      "Number of categories rho=0.7: 14\n"
     ]
    }
   ],
   "cell_type": "code",
   "source": [
    "# Print the number of categories for each vigilance parameter\n",
    "@printf \"Number of categories rho=%.1f: %i\\n\" rho_1 my_fuzzyart_1.n_categories\n",
    "@printf \"Number of categories rho=%.1f: %i\\n\" rho_2 my_fuzzyart_2.n_categories"
   ],
   "metadata": {},
   "execution_count": 17
  },
  {
   "cell_type": "markdown",
   "source": [
    "The variation between vigilance parameter, number of categories created during learning, and testing performance/generalization is a central theme in ART-based algorithms."
   ],
   "metadata": {}
  },
  {
   "cell_type": "markdown",
   "source": [
    "## Visualization"
   ],
   "metadata": {}
  },
  {
   "cell_type": "markdown",
   "source": [
    "Now, to visualize how the two models differ in how they partition the data, we can use principal component analysis (PCA) to compress to two plotting dimensions.\n",
    "PCA is a method to represent a dataset in a different number of dimensions while preserving the relative separation between datapoints.\n",
    "Though most datasets are not able to be effectively transformed down to two dimensions, this technique is useful to get a general sense of how well separated the classes are and how well your algorithm classifies them."
   ],
   "metadata": {}
  },
  {
   "outputs": [
    {
     "name": "stdout",
     "output_type": "stream",
     "text": [
      "┌ Warning: `transform(f, x)` is deprecated, use `predict(f, x)` instead.\n",
      "│   caller = top-level scope at options.ipynb:5\n",
      "└ @ Core ~/work/AdaptiveResonance.jl/AdaptiveResonance.jl/docs/src/examples/adaptive_resonance/options.ipynb:5\n"
     ]
    },
    {
     "output_type": "execute_result",
     "data": {
      "text/plain": "2×45 Array{Float64,2}:\n -1.90486     2.35617    -0.984045  …  -1.1981    -0.640437  -1.94402\n  0.0480475  -0.0312096  -0.12436      -0.605579  -0.417323   0.187415"
     },
     "metadata": {},
     "execution_count": 18
    }
   ],
   "cell_type": "code",
   "source": [
    "# Train a PCA model to visually separate the features in two dimensions.\n",
    "M = fit(PCA, features; maxoutdim=2)\n",
    "\n",
    "# Apply the PCA model to the testing set\n",
    "X_test_pca = transform(M, X_test)"
   ],
   "metadata": {},
   "execution_count": 18
  },
  {
   "cell_type": "markdown",
   "source": [
    "We can now plot the PCA'ed test set and label them according to the two FuzzyART's"
   ],
   "metadata": {}
  },
  {
   "outputs": [
    {
     "output_type": "execute_result",
     "data": {
      "text/plain": "Plot{Plots.GRBackend() n=6}",
      "image/png": "[encoded data removed]",
      "text/html": [
       "<?xml version=\"1.0\" encoding=\"utf-8\"?>\n",
       "<svg xmlns=\"http://www.w3.org/2000/svg\" xmlns:xlink=\"http://www.w3.org/1999/xlink\" width=\"600\" height=\"400\" viewBox=\"0 0 2400 1600\">\n",
       "<defs>\n",
       "  <clipPath id=\"clip880\">\n",
       "    <rect x=\"0\" y=\"0\" width=\"2400\" height=\"1600\"/>\n",
       "  </clipPath>\n",
       "</defs>\n",
       "<path clip-path=\"url(#clip880)\" d=\"\n",
       "M0 1600 L2400 1600 L2400 0 L0 0  Z\n",
       "  \" fill=\"#ffffff\" fill-rule=\"evenodd\" fill-opacity=\"1\"/>\n",
       "<defs>\n",
       "  <clipPath id=\"clip881\">\n",
       "    <rect x=\"480\" y=\"0\" width=\"1681\" height=\"1600\"/>\n",
       "  </clipPath>\n",
       "</defs>\n",
       "<path clip-path=\"url(#clip880)\" d=\"\n",
       "M86.9921 1521.01 L1152.76 1521.01 L1152.76 62.9921 L86.9921 62.9921  Z\n",
       "  \" fill=\"#ffffff\" fill-rule=\"evenodd\" fill-opacity=\"1\"/>\n",
       "<defs>\n",
       "  <clipPath id=\"clip882\">\n",
       "    <rect x=\"86\" y=\"62\" width=\"1067\" height=\"1459\"/>\n",
       "  </clipPath>\n",
       "</defs>\n",
       "<polyline clip-path=\"url(#clip882)\" style=\"stroke:#000000; stroke-width:2; stroke-opacity:0.1; fill:none\" points=\"\n",
       "  196.189,1521.01 196.189,62.9921 \n",
       "  \"/>\n",
       "<polyline clip-path=\"url(#clip882)\" style=\"stroke:#000000; stroke-width:2; stroke-opacity:0.1; fill:none\" points=\"\n",
       "  354.489,1521.01 354.489,62.9921 \n",
       "  \"/>\n",
       "<polyline clip-path=\"url(#clip882)\" style=\"stroke:#000000; stroke-width:2; stroke-opacity:0.1; fill:none\" points=\"\n",
       "  512.789,1521.01 512.789,62.9921 \n",
       "  \"/>\n",
       "<polyline clip-path=\"url(#clip882)\" style=\"stroke:#000000; stroke-width:2; stroke-opacity:0.1; fill:none\" points=\"\n",
       "  671.088,1521.01 671.088,62.9921 \n",
       "  \"/>\n",
       "<polyline clip-path=\"url(#clip882)\" style=\"stroke:#000000; stroke-width:2; stroke-opacity:0.1; fill:none\" points=\"\n",
       "  829.388,1521.01 829.388,62.9921 \n",
       "  \"/>\n",
       "<polyline clip-path=\"url(#clip882)\" style=\"stroke:#000000; stroke-width:2; stroke-opacity:0.1; fill:none\" points=\"\n",
       "  987.688,1521.01 987.688,62.9921 \n",
       "  \"/>\n",
       "<polyline clip-path=\"url(#clip882)\" style=\"stroke:#000000; stroke-width:2; stroke-opacity:0.1; fill:none\" points=\"\n",
       "  1145.99,1521.01 1145.99,62.9921 \n",
       "  \"/>\n",
       "<polyline clip-path=\"url(#clip880)\" style=\"stroke:#000000; stroke-width:4; stroke-opacity:1; fill:none\" points=\"\n",
       "  86.9921,1521.01 1152.76,1521.01 \n",
       "  \"/>\n",
       "<polyline clip-path=\"url(#clip880)\" style=\"stroke:#000000; stroke-width:4; stroke-opacity:1; fill:none\" points=\"\n",
       "  196.189,1521.01 196.189,1503.51 \n",
       "  \"/>\n",
       "<polyline clip-path=\"url(#clip880)\" style=\"stroke:#000000; stroke-width:4; stroke-opacity:1; fill:none\" points=\"\n",
       "  354.489,1521.01 354.489,1503.51 \n",
       "  \"/>\n",
       "<polyline clip-path=\"url(#clip880)\" style=\"stroke:#000000; stroke-width:4; stroke-opacity:1; fill:none\" points=\"\n",
       "  512.789,1521.01 512.789,1503.51 \n",
       "  \"/>\n",
       "<polyline clip-path=\"url(#clip880)\" style=\"stroke:#000000; stroke-width:4; stroke-opacity:1; fill:none\" points=\"\n",
       "  671.088,1521.01 671.088,1503.51 \n",
       "  \"/>\n",
       "<polyline clip-path=\"url(#clip880)\" style=\"stroke:#000000; stroke-width:4; stroke-opacity:1; fill:none\" points=\"\n",
       "  829.388,1521.01 829.388,1503.51 \n",
       "  \"/>\n",
       "<polyline clip-path=\"url(#clip880)\" style=\"stroke:#000000; stroke-width:4; stroke-opacity:1; fill:none\" points=\"\n",
       "  987.688,1521.01 987.688,1503.51 \n",
       "  \"/>\n",
       "<polyline clip-path=\"url(#clip880)\" style=\"stroke:#000000; stroke-width:4; stroke-opacity:1; fill:none\" points=\"\n",
       "  1145.99,1521.01 1145.99,1503.51 \n",
       "  \"/>\n",
       "<path clip-path=\"url(#clip880)\" d=\"M 0 0 M175.173 1558.69 L197.43 1558.69 L197.43 1561.64 L175.173 1561.64 L175.173 1558.69 Z\" fill=\"#000000\" fill-rule=\"evenodd\" fill-opacity=\"1\" /><path clip-path=\"url(#clip880)\" d=\"M 0 0 M211.857 1557.34 Q214.375 1557.87 215.781 1559.58 Q217.204 1561.28 217.204 1563.78 Q217.204 1567.61 214.566 1569.71 Q211.927 1571.82 207.066 1571.82 Q205.434 1571.82 203.698 1571.49 Q201.979 1571.17 200.139 1570.53 L200.139 1567.15 Q201.597 1568 203.333 1568.43 Q205.069 1568.86 206.961 1568.86 Q210.26 1568.86 211.979 1567.56 Q213.715 1566.26 213.715 1563.78 Q213.715 1561.49 212.1 1560.2 Q210.503 1558.9 207.638 1558.9 L204.618 1558.9 L204.618 1556.02 L207.777 1556.02 Q210.364 1556.02 211.736 1554.99 Q213.107 1553.95 213.107 1552.01 Q213.107 1550.01 211.684 1548.95 Q210.277 1547.87 207.638 1547.87 Q206.198 1547.87 204.548 1548.19 Q202.899 1548.5 200.92 1549.16 L200.92 1546.03 Q202.916 1545.48 204.652 1545.2 Q206.406 1544.92 207.951 1544.92 Q211.944 1544.92 214.27 1546.75 Q216.597 1548.55 216.597 1551.64 Q216.597 1553.79 215.364 1555.29 Q214.131 1556.76 211.857 1557.34 Z\" fill=\"#000000\" fill-rule=\"evenodd\" fill-opacity=\"1\" /><path clip-path=\"url(#clip880)\" d=\"M 0 0 M333.829 1558.69 L356.086 1558.69 L356.086 1561.64 L333.829 1561.64 L333.829 1558.69 Z\" fill=\"#000000\" fill-rule=\"evenodd\" fill-opacity=\"1\" /><path clip-path=\"url(#clip880)\" d=\"M 0 0 M362.909 1568.36 L375.148 1568.36 L375.148 1571.31 L358.69 1571.31 L358.69 1568.36 Q360.687 1566.29 364.124 1562.82 Q367.579 1559.33 368.464 1558.33 Q370.148 1556.43 370.808 1555.13 Q371.485 1553.81 371.485 1552.54 Q371.485 1550.48 370.027 1549.18 Q368.586 1547.87 366.259 1547.87 Q364.61 1547.87 362.77 1548.45 Q360.947 1549.02 358.864 1550.18 L358.864 1546.64 Q360.982 1545.79 362.822 1545.36 Q364.662 1544.92 366.19 1544.92 Q370.218 1544.92 372.614 1546.94 Q375.009 1548.95 375.009 1552.32 Q375.009 1553.92 374.402 1555.36 Q373.812 1556.78 372.232 1558.73 Q371.798 1559.23 369.471 1561.64 Q367.145 1564.04 362.909 1568.36 Z\" fill=\"#000000\" fill-rule=\"evenodd\" fill-opacity=\"1\" /><path clip-path=\"url(#clip880)\" d=\"M 0 0 M491.99 1558.69 L514.247 1558.69 L514.247 1561.64 L491.99 1561.64 L491.99 1558.69 Z\" fill=\"#000000\" fill-rule=\"evenodd\" fill-opacity=\"1\" /><path clip-path=\"url(#clip880)\" d=\"M 0 0 M518.657 1568.36 L524.386 1568.36 L524.386 1548.59 L518.153 1549.84 L518.153 1546.64 L524.351 1545.39 L527.858 1545.39 L527.858 1568.36 L533.587 1568.36 L533.587 1571.31 L518.657 1571.31 L518.657 1568.36 Z\" fill=\"#000000\" fill-rule=\"evenodd\" fill-opacity=\"1\" /><path clip-path=\"url(#clip880)\" d=\"M 0 0 M671.088 1547.7 Q668.38 1547.7 667.008 1550.37 Q665.654 1553.03 665.654 1558.38 Q665.654 1563.71 667.008 1566.38 Q668.38 1569.04 671.088 1569.04 Q673.814 1569.04 675.168 1566.38 Q676.54 1563.71 676.54 1558.38 Q676.54 1553.03 675.168 1550.37 Q673.814 1547.7 671.088 1547.7 M671.088 1544.92 Q675.446 1544.92 677.738 1548.38 Q680.047 1551.82 680.047 1558.38 Q680.047 1564.92 677.738 1568.38 Q675.446 1571.82 671.088 1571.82 Q666.731 1571.82 664.422 1568.38 Q662.13 1564.92 662.13 1558.38 Q662.13 1551.82 664.422 1548.38 Q666.731 1544.92 671.088 1544.92 Z\" fill=\"#000000\" fill-rule=\"evenodd\" fill-opacity=\"1\" /><path clip-path=\"url(#clip880)\" d=\"M 0 0 M822.175 1568.36 L827.904 1568.36 L827.904 1548.59 L821.671 1549.84 L821.671 1546.64 L827.869 1545.39 L831.376 1545.39 L831.376 1568.36 L837.105 1568.36 L837.105 1571.31 L822.175 1571.31 L822.175 1568.36 Z\" fill=\"#000000\" fill-rule=\"evenodd\" fill-opacity=\"1\" /><path clip-path=\"url(#clip880)\" d=\"M 0 0 M983.678 1568.36 L995.917 1568.36 L995.917 1571.31 L979.459 1571.31 L979.459 1568.36 Q981.455 1566.29 984.893 1562.82 Q988.348 1559.33 989.233 1558.33 Q990.917 1556.43 991.577 1555.13 Q992.254 1553.81 992.254 1552.54 Q992.254 1550.48 990.796 1549.18 Q989.355 1547.87 987.028 1547.87 Q985.379 1547.87 983.539 1548.45 Q981.716 1549.02 979.632 1550.18 L979.632 1546.64 Q981.75 1545.79 983.591 1545.36 Q985.431 1544.92 986.959 1544.92 Q990.987 1544.92 993.382 1546.94 Q995.778 1548.95 995.778 1552.32 Q995.778 1553.92 995.171 1555.36 Q994.58 1556.78 993 1558.73 Q992.566 1559.23 990.24 1561.64 Q987.914 1564.04 983.678 1568.36 Z\" fill=\"#000000\" fill-rule=\"evenodd\" fill-opacity=\"1\" /><path clip-path=\"url(#clip880)\" d=\"M 0 0 M1149.17 1557.34 Q1151.69 1557.87 1153.1 1559.58 Q1154.52 1561.28 1154.52 1563.78 Q1154.52 1567.61 1151.88 1569.71 Q1149.24 1571.82 1144.38 1571.82 Q1142.75 1571.82 1141.01 1571.49 Q1139.3 1571.17 1137.45 1570.53 L1137.45 1567.15 Q1138.91 1568 1140.65 1568.43 Q1142.39 1568.86 1144.28 1568.86 Q1147.58 1568.86 1149.3 1567.56 Q1151.03 1566.26 1151.03 1563.78 Q1151.03 1561.49 1149.42 1560.2 Q1147.82 1558.9 1144.95 1558.9 L1141.93 1558.9 L1141.93 1556.02 L1145.09 1556.02 Q1147.68 1556.02 1149.05 1554.99 Q1150.42 1553.95 1150.42 1552.01 Q1150.42 1550.01 1149 1548.95 Q1147.59 1547.87 1144.95 1547.87 Q1143.51 1547.87 1141.86 1548.19 Q1140.22 1548.5 1138.24 1549.16 L1138.24 1546.03 Q1140.23 1545.48 1141.97 1545.2 Q1143.72 1544.92 1145.27 1544.92 Q1149.26 1544.92 1151.59 1546.75 Q1153.91 1548.55 1153.91 1551.64 Q1153.91 1553.79 1152.68 1555.29 Q1151.45 1556.76 1149.17 1557.34 Z\" fill=\"#000000\" fill-rule=\"evenodd\" fill-opacity=\"1\" /><polyline clip-path=\"url(#clip882)\" style=\"stroke:#000000; stroke-width:2; stroke-opacity:0.1; fill:none\" points=\"\n",
       "  86.9921,1332.3 1152.76,1332.3 \n",
       "  \"/>\n",
       "<polyline clip-path=\"url(#clip882)\" style=\"stroke:#000000; stroke-width:2; stroke-opacity:0.1; fill:none\" points=\"\n",
       "  86.9921,1051.43 1152.76,1051.43 \n",
       "  \"/>\n",
       "<polyline clip-path=\"url(#clip882)\" style=\"stroke:#000000; stroke-width:2; stroke-opacity:0.1; fill:none\" points=\"\n",
       "  86.9921,770.571 1152.76,770.571 \n",
       "  \"/>\n",
       "<polyline clip-path=\"url(#clip882)\" style=\"stroke:#000000; stroke-width:2; stroke-opacity:0.1; fill:none\" points=\"\n",
       "  86.9921,489.709 1152.76,489.709 \n",
       "  \"/>\n",
       "<polyline clip-path=\"url(#clip882)\" style=\"stroke:#000000; stroke-width:2; stroke-opacity:0.1; fill:none\" points=\"\n",
       "  86.9921,208.847 1152.76,208.847 \n",
       "  \"/>\n",
       "<polyline clip-path=\"url(#clip880)\" style=\"stroke:#000000; stroke-width:4; stroke-opacity:1; fill:none\" points=\"\n",
       "  86.9921,1521.01 86.9921,62.9921 \n",
       "  \"/>\n",
       "<polyline clip-path=\"url(#clip880)\" style=\"stroke:#000000; stroke-width:4; stroke-opacity:1; fill:none\" points=\"\n",
       "  86.9921,1332.3 99.7813,1332.3 \n",
       "  \"/>\n",
       "<polyline clip-path=\"url(#clip880)\" style=\"stroke:#000000; stroke-width:4; stroke-opacity:1; fill:none\" points=\"\n",
       "  86.9921,1051.43 99.7813,1051.43 \n",
       "  \"/>\n",
       "<polyline clip-path=\"url(#clip880)\" style=\"stroke:#000000; stroke-width:4; stroke-opacity:1; fill:none\" points=\"\n",
       "  86.9921,770.571 99.7813,770.571 \n",
       "  \"/>\n",
       "<polyline clip-path=\"url(#clip880)\" style=\"stroke:#000000; stroke-width:4; stroke-opacity:1; fill:none\" points=\"\n",
       "  86.9921,489.709 99.7813,489.709 \n",
       "  \"/>\n",
       "<polyline clip-path=\"url(#clip880)\" style=\"stroke:#000000; stroke-width:4; stroke-opacity:1; fill:none\" points=\"\n",
       "  86.9921,208.847 99.7813,208.847 \n",
       "  \"/>\n",
       "<path clip-path=\"url(#clip880)\" d=\"M 0 0 M-41.4379 1332.75 L-11.7622 1332.75 L-11.7622 1336.68 L-41.4379 1336.68 L-41.4379 1332.75 Z\" fill=\"#000000\" fill-rule=\"evenodd\" fill-opacity=\"1\" /><path clip-path=\"url(#clip880)\" d=\"M 0 0 M-5.88257 1345.64 L1.75628 1345.64 L1.75628 1319.27 L-6.55386 1320.94 L-6.55386 1316.68 L1.70998 1315.02 L6.38588 1315.02 L6.38588 1345.64 L14.0247 1345.64 L14.0247 1349.58 L-5.88257 1349.58 L-5.88257 1345.64 Z\" fill=\"#000000\" fill-rule=\"evenodd\" fill-opacity=\"1\" /><path clip-path=\"url(#clip880)\" d=\"M 0 0 M19.0941 1343.7 L23.9784 1343.7 L23.9784 1349.58 L19.0941 1349.58 L19.0941 1343.7 Z\" fill=\"#000000\" fill-rule=\"evenodd\" fill-opacity=\"1\" /><path clip-path=\"url(#clip880)\" d=\"M 0 0 M39.0477 1318.09 Q35.4367 1318.09 33.608 1321.66 Q31.8024 1325.2 31.8024 1332.33 Q31.8024 1339.44 33.608 1343 Q35.4367 1346.54 39.0477 1346.54 Q42.682 1346.54 44.4875 1343 Q46.3162 1339.44 46.3162 1332.33 Q46.3162 1325.2 44.4875 1321.66 Q42.682 1318.09 39.0477 1318.09 M39.0477 1314.39 Q44.8579 1314.39 47.9134 1319 Q50.9921 1323.58 50.9921 1332.33 Q50.9921 1341.06 47.9134 1345.66 Q44.8579 1350.25 39.0477 1350.25 Q33.2376 1350.25 30.1589 1345.66 Q27.1034 1341.06 27.1034 1332.33 Q27.1034 1323.58 30.1589 1319 Q33.2376 1314.39 39.0477 1314.39 Z\" fill=\"#000000\" fill-rule=\"evenodd\" fill-opacity=\"1\" /><path clip-path=\"url(#clip880)\" d=\"M 0 0 M-41.6694 1051.88 L-11.9936 1051.88 L-11.9936 1055.82 L-41.6694 1055.82 L-41.6694 1051.88 Z\" fill=\"#000000\" fill-rule=\"evenodd\" fill-opacity=\"1\" /><path clip-path=\"url(#clip880)\" d=\"M 0 0 M3.07572 1037.23 Q-0.535376 1037.23 -2.36407 1040.8 Q-4.16962 1044.34 -4.16962 1051.47 Q-4.16962 1058.57 -2.36407 1062.14 Q-0.535376 1065.68 3.07572 1065.68 Q6.70996 1065.68 8.5155 1062.14 Q10.3442 1058.57 10.3442 1051.47 Q10.3442 1044.34 8.5155 1040.8 Q6.70996 1037.23 3.07572 1037.23 M3.07572 1033.53 Q8.88587 1033.53 11.9414 1038.13 Q15.0201 1042.72 15.0201 1051.47 Q15.0201 1060.19 11.9414 1064.8 Q8.88587 1069.38 3.07572 1069.38 Q-2.73444 1069.38 -5.81313 1064.8 Q-8.86866 1060.19 -8.86866 1051.47 Q-8.86866 1042.72 -5.81313 1038.13 Q-2.73444 1033.53 3.07572 1033.53 Z\" fill=\"#000000\" fill-rule=\"evenodd\" fill-opacity=\"1\" /><path clip-path=\"url(#clip880)\" d=\"M 0 0 M20.0895 1062.83 L24.9737 1062.83 L24.9737 1068.71 L20.0895 1068.71 L20.0895 1062.83 Z\" fill=\"#000000\" fill-rule=\"evenodd\" fill-opacity=\"1\" /><path clip-path=\"url(#clip880)\" d=\"M 0 0 M30.0895 1034.15 L48.4458 1034.15 L48.4458 1038.09 L34.3718 1038.09 L34.3718 1046.56 Q35.3904 1046.21 36.4089 1046.05 Q37.4274 1045.87 38.4459 1045.87 Q44.2329 1045.87 47.6125 1049.04 Q50.9921 1052.21 50.9921 1057.63 Q50.9921 1063.2 47.5199 1066.31 Q44.0477 1069.38 37.7283 1069.38 Q35.5524 1069.38 33.2839 1069.01 Q31.0385 1068.64 28.6311 1067.9 L28.6311 1063.2 Q30.7145 1064.34 32.9367 1064.89 Q35.1589 1065.45 37.6357 1065.45 Q41.6403 1065.45 43.9783 1063.34 Q46.3162 1061.24 46.3162 1057.63 Q46.3162 1054.01 43.9783 1051.91 Q41.6403 1049.8 37.6357 1049.8 Q35.7607 1049.8 33.8857 1050.22 Q32.0339 1050.63 30.0895 1051.51 L30.0895 1034.15 Z\" fill=\"#000000\" fill-rule=\"evenodd\" fill-opacity=\"1\" /><path clip-path=\"url(#clip880)\" d=\"M 0 0 M2.08035 756.37 Q-1.53074 756.37 -3.35943 759.935 Q-5.16498 763.476 -5.16498 770.606 Q-5.16498 777.712 -3.35943 781.277 Q-1.53074 784.819 2.08035 784.819 Q5.71459 784.819 7.52014 781.277 Q9.34883 777.712 9.34883 770.606 Q9.34883 763.476 7.52014 759.935 Q5.71459 756.37 2.08035 756.37 M2.08035 752.666 Q7.89051 752.666 10.946 757.273 Q14.0247 761.856 14.0247 770.606 Q14.0247 779.333 10.946 783.939 Q7.89051 788.522 2.08035 788.522 Q-3.7298 788.522 -6.80849 783.939 Q-9.86403 779.333 -9.86403 770.606 Q-9.86403 761.856 -6.80849 757.273 Q-3.7298 752.666 2.08035 752.666 Z\" fill=\"#000000\" fill-rule=\"evenodd\" fill-opacity=\"1\" /><path clip-path=\"url(#clip880)\" d=\"M 0 0 M19.0941 781.971 L23.9784 781.971 L23.9784 787.851 L19.0941 787.851 L19.0941 781.971 Z\" fill=\"#000000\" fill-rule=\"evenodd\" fill-opacity=\"1\" /><path clip-path=\"url(#clip880)\" d=\"M 0 0 M39.0477 756.37 Q35.4367 756.37 33.608 759.935 Q31.8024 763.476 31.8024 770.606 Q31.8024 777.712 33.608 781.277 Q35.4367 784.819 39.0477 784.819 Q42.682 784.819 44.4875 781.277 Q46.3162 777.712 46.3162 770.606 Q46.3162 763.476 44.4875 759.935 Q42.682 756.37 39.0477 756.37 M39.0477 752.666 Q44.8579 752.666 47.9134 757.273 Q50.9921 761.856 50.9921 770.606 Q50.9921 779.333 47.9134 783.939 Q44.8579 788.522 39.0477 788.522 Q33.2376 788.522 30.1589 783.939 Q27.1034 779.333 27.1034 770.606 Q27.1034 761.856 30.1589 757.273 Q33.2376 752.666 39.0477 752.666 Z\" fill=\"#000000\" fill-rule=\"evenodd\" fill-opacity=\"1\" /><path clip-path=\"url(#clip880)\" d=\"M 0 0 M3.07572 475.508 Q-0.535376 475.508 -2.36407 479.072 Q-4.16962 482.614 -4.16962 489.744 Q-4.16962 496.85 -2.36407 500.415 Q-0.535376 503.957 3.07572 503.957 Q6.70996 503.957 8.5155 500.415 Q10.3442 496.85 10.3442 489.744 Q10.3442 482.614 8.5155 479.072 Q6.70996 475.508 3.07572 475.508 M3.07572 471.804 Q8.88587 471.804 11.9414 476.41 Q15.0201 480.994 15.0201 489.744 Q15.0201 498.471 11.9414 503.077 Q8.88587 507.66 3.07572 507.66 Q-2.73444 507.66 -5.81313 503.077 Q-8.86866 498.471 -8.86866 489.744 Q-8.86866 480.994 -5.81313 476.41 Q-2.73444 471.804 3.07572 471.804 Z\" fill=\"#000000\" fill-rule=\"evenodd\" fill-opacity=\"1\" /><path clip-path=\"url(#clip880)\" d=\"M 0 0 M20.0895 501.109 L24.9737 501.109 L24.9737 506.989 L20.0895 506.989 L20.0895 501.109 Z\" fill=\"#000000\" fill-rule=\"evenodd\" fill-opacity=\"1\" /><path clip-path=\"url(#clip880)\" d=\"M 0 0 M30.0895 472.429 L48.4458 472.429 L48.4458 476.364 L34.3718 476.364 L34.3718 484.836 Q35.3904 484.489 36.4089 484.327 Q37.4274 484.142 38.4459 484.142 Q44.2329 484.142 47.6125 487.313 Q50.9921 490.484 50.9921 495.901 Q50.9921 501.48 47.5199 504.582 Q44.0477 507.66 37.7283 507.66 Q35.5524 507.66 33.2839 507.29 Q31.0385 506.92 28.6311 506.179 L28.6311 501.48 Q30.7145 502.614 32.9367 503.17 Q35.1589 503.725 37.6357 503.725 Q41.6403 503.725 43.9783 501.619 Q46.3162 499.512 46.3162 495.901 Q46.3162 492.29 43.9783 490.184 Q41.6403 488.077 37.6357 488.077 Q35.7607 488.077 33.8857 488.494 Q32.0339 488.91 30.0895 489.79 L30.0895 472.429 Z\" fill=\"#000000\" fill-rule=\"evenodd\" fill-opacity=\"1\" /><path clip-path=\"url(#clip880)\" d=\"M 0 0 M-5.88257 222.192 L1.75628 222.192 L1.75628 195.826 L-6.55386 197.493 L-6.55386 193.234 L1.70998 191.567 L6.38588 191.567 L6.38588 222.192 L14.0247 222.192 L14.0247 226.127 L-5.88257 226.127 L-5.88257 222.192 Z\" fill=\"#000000\" fill-rule=\"evenodd\" fill-opacity=\"1\" /><path clip-path=\"url(#clip880)\" d=\"M 0 0 M19.0941 220.247 L23.9784 220.247 L23.9784 226.127 L19.0941 226.127 L19.0941 220.247 Z\" fill=\"#000000\" fill-rule=\"evenodd\" fill-opacity=\"1\" /><path clip-path=\"url(#clip880)\" d=\"M 0 0 M39.0477 194.646 Q35.4367 194.646 33.608 198.21 Q31.8024 201.752 31.8024 208.882 Q31.8024 215.988 33.608 219.553 Q35.4367 223.095 39.0477 223.095 Q42.682 223.095 44.4875 219.553 Q46.3162 215.988 46.3162 208.882 Q46.3162 201.752 44.4875 198.21 Q42.682 194.646 39.0477 194.646 M39.0477 190.942 Q44.8579 190.942 47.9134 195.548 Q50.9921 200.132 50.9921 208.882 Q50.9921 217.608 47.9134 222.215 Q44.8579 226.798 39.0477 226.798 Q33.2376 226.798 30.1589 222.215 Q27.1034 217.608 27.1034 208.882 Q27.1034 200.132 30.1589 195.548 Q33.2376 190.942 39.0477 190.942 Z\" fill=\"#000000\" fill-rule=\"evenodd\" fill-opacity=\"1\" /><path clip-path=\"url(#clip880)\" d=\"M 0 0 M410.581 6.912 L430.442 6.912 L430.442 10.8472 L415.257 10.8472 L415.257 21.0323 L428.961 21.0323 L428.961 24.9675 L415.257 24.9675 L415.257 41.472 L410.581 41.472 L410.581 6.912 Z\" fill=\"#000000\" fill-rule=\"evenodd\" fill-opacity=\"1\" /><path clip-path=\"url(#clip880)\" d=\"M 0 0 M431.877 31.2406 L431.877 15.5462 L436.137 15.5462 L436.137 31.0785 Q436.137 34.7591 437.572 36.6109 Q439.007 38.4396 441.877 38.4396 Q445.326 38.4396 447.317 36.2405 Q449.331 34.0415 449.331 30.2452 L449.331 15.5462 L453.59 15.5462 L453.59 41.472 L449.331 41.472 L449.331 37.4905 Q447.78 39.8516 445.72 41.009 Q443.683 42.1433 440.975 42.1433 Q436.507 42.1433 434.192 39.3655 Q431.877 36.5878 431.877 31.2406 M442.595 14.9212 L442.595 14.9212 Z\" fill=\"#000000\" fill-rule=\"evenodd\" fill-opacity=\"1\" /><path clip-path=\"url(#clip880)\" d=\"M 0 0 M456.206 15.5462 L476.437 15.5462 L476.437 19.4351 L460.419 38.0692 L476.437 38.0692 L476.437 41.472 L455.627 41.472 L455.627 37.5831 L471.646 18.949 L456.206 18.949 L456.206 15.5462 Z\" fill=\"#000000\" fill-rule=\"evenodd\" fill-opacity=\"1\" /><path clip-path=\"url(#clip880)\" d=\"M 0 0 M479.053 15.5462 L499.284 15.5462 L499.284 19.4351 L483.266 38.0692 L499.284 38.0692 L499.284 41.472 L478.474 41.472 L478.474 37.5831 L494.493 18.949 L479.053 18.949 L479.053 15.5462 Z\" fill=\"#000000\" fill-rule=\"evenodd\" fill-opacity=\"1\" /><path clip-path=\"url(#clip880)\" d=\"M 0 0 M514.539 43.8794 Q512.733 48.509 511.02 49.921 Q509.307 51.3331 506.437 51.3331 L503.034 51.3331 L503.034 47.7683 L505.534 47.7683 Q507.294 47.7683 508.266 46.9349 Q509.238 46.1016 510.419 42.9998 L511.182 41.0553 L500.696 15.5462 L505.21 15.5462 L513.312 35.8239 L521.414 15.5462 L525.928 15.5462 L514.539 43.8794 Z\" fill=\"#000000\" fill-rule=\"evenodd\" fill-opacity=\"1\" /><path clip-path=\"url(#clip880)\" d=\"M 0 0 M542.131 11.5185 L535.789 28.7174 L548.497 28.7174 L542.131 11.5185 M539.493 6.912 L544.793 6.912 L557.965 41.472 L553.104 41.472 L549.955 32.6063 L534.377 32.6063 L531.229 41.472 L526.298 41.472 L539.493 6.912 Z\" fill=\"#000000\" fill-rule=\"evenodd\" fill-opacity=\"1\" /><path clip-path=\"url(#clip880)\" d=\"M 0 0 M579.006 25.2684 Q580.511 25.7776 581.923 27.4443 Q583.358 29.111 584.793 32.0276 L589.539 41.472 L584.515 41.472 L580.094 32.6063 Q578.381 29.1341 576.761 27.9998 Q575.164 26.8656 572.386 26.8656 L567.293 26.8656 L567.293 41.472 L562.617 41.472 L562.617 6.912 L573.173 6.912 Q579.099 6.912 582.015 9.38884 Q584.932 11.8657 584.932 16.8657 Q584.932 20.1295 583.404 22.2823 Q581.9 24.4351 579.006 25.2684 M567.293 10.7546 L567.293 23.023 L573.173 23.023 Q576.552 23.023 578.265 21.4721 Q580.002 19.898 580.002 16.8657 Q580.002 13.8333 578.265 12.3055 Q576.552 10.7546 573.173 10.7546 L567.293 10.7546 Z\" fill=\"#000000\" fill-rule=\"evenodd\" fill-opacity=\"1\" /><path clip-path=\"url(#clip880)\" d=\"M 0 0 M585.951 6.912 L615.187 6.912 L615.187 10.8472 L602.918 10.8472 L602.918 41.472 L598.219 41.472 L598.219 10.8472 L585.951 10.8472 L585.951 6.912 Z\" fill=\"#000000\" fill-rule=\"evenodd\" fill-opacity=\"1\" /><path clip-path=\"url(#clip880)\" d=\"M 0 0 M649.747 19.5277 Q649.029 19.111 648.172 18.9258 Q647.339 18.7175 646.321 18.7175 Q642.71 18.7175 640.765 21.0786 Q638.844 23.4165 638.844 27.8147 L638.844 41.472 L634.561 41.472 L634.561 15.5462 L638.844 15.5462 L638.844 19.574 Q640.186 17.2129 642.339 16.0786 Q644.492 14.9212 647.571 14.9212 Q648.01 14.9212 648.543 14.9907 Q649.075 15.037 649.723 15.1527 L649.747 19.5277 Z\" fill=\"#000000\" fill-rule=\"evenodd\" fill-opacity=\"1\" /><path clip-path=\"url(#clip880)\" d=\"M 0 0 M674.932 25.8239 L674.932 41.472 L670.672 41.472 L670.672 25.9628 Q670.672 22.2823 669.237 20.4536 Q667.802 18.6249 664.932 18.6249 Q661.483 18.6249 659.492 20.824 Q657.501 23.023 657.501 26.8193 L657.501 41.472 L653.219 41.472 L653.219 5.45367 L657.501 5.45367 L657.501 19.574 Q659.029 17.236 661.089 16.0786 Q663.172 14.9212 665.881 14.9212 Q670.348 14.9212 672.64 17.699 Q674.932 20.4536 674.932 25.8239 Z\" fill=\"#000000\" fill-rule=\"evenodd\" fill-opacity=\"1\" /><path clip-path=\"url(#clip880)\" d=\"M 0 0 M689.445 18.5323 Q686.019 18.5323 684.029 21.2175 Q682.038 23.8795 682.038 28.5323 Q682.038 33.185 684.006 35.8702 Q685.996 38.5322 689.445 38.5322 Q692.848 38.5322 694.839 35.847 Q696.83 33.1619 696.83 28.5323 Q696.83 23.9258 694.839 21.2406 Q692.848 18.5323 689.445 18.5323 M689.445 14.9212 Q695.001 14.9212 698.172 18.5323 Q701.343 22.1434 701.343 28.5323 Q701.343 34.898 698.172 38.5322 Q695.001 42.1433 689.445 42.1433 Q683.867 42.1433 680.695 38.5322 Q677.547 34.898 677.547 28.5323 Q677.547 22.1434 680.695 18.5323 Q683.867 14.9212 689.445 14.9212 Z\" fill=\"#000000\" fill-rule=\"evenodd\" fill-opacity=\"1\" /><path clip-path=\"url(#clip880)\" d=\"M 0 0 M721.436 19.9443 L751.112 19.9443 L751.112 23.8332 L721.436 23.8332 L721.436 19.9443 M721.436 29.3887 L751.112 29.3887 L751.112 33.3239 L721.436 33.3239 L721.436 29.3887 Z\" fill=\"#000000\" fill-rule=\"evenodd\" fill-opacity=\"1\" /><path clip-path=\"url(#clip880)\" d=\"M 0 0 M781.25 9.99069 Q777.639 9.99069 775.811 13.5555 Q774.005 17.0971 774.005 24.2267 Q774.005 31.3332 775.811 34.898 Q777.639 38.4396 781.25 38.4396 Q784.885 38.4396 786.69 34.898 Q788.519 31.3332 788.519 24.2267 Q788.519 17.0971 786.69 13.5555 Q784.885 9.99069 781.25 9.99069 M781.25 6.287 Q787.061 6.287 790.116 10.8935 Q793.195 15.4768 793.195 24.2267 Q793.195 32.9535 790.116 37.56 Q787.061 42.1433 781.25 42.1433 Q775.44 42.1433 772.362 37.56 Q769.306 32.9535 769.306 24.2267 Q769.306 15.4768 772.362 10.8935 Q775.44 6.287 781.25 6.287 Z\" fill=\"#000000\" fill-rule=\"evenodd\" fill-opacity=\"1\" /><path clip-path=\"url(#clip880)\" d=\"M 0 0 M798.264 35.5924 L803.148 35.5924 L803.148 41.472 L798.264 41.472 L798.264 35.5924 Z\" fill=\"#000000\" fill-rule=\"evenodd\" fill-opacity=\"1\" /><path clip-path=\"url(#clip880)\" d=\"M 0 0 M808.264 6.912 L826.621 6.912 L826.621 10.8472 L812.547 10.8472 L812.547 19.3193 Q813.565 18.9721 814.584 18.8101 Q815.602 18.6249 816.621 18.6249 Q822.408 18.6249 825.787 21.7962 Q829.167 24.9675 829.167 30.3841 Q829.167 35.9628 825.695 39.0646 Q822.222 42.1433 815.903 42.1433 Q813.727 42.1433 811.459 41.7729 Q809.213 41.4026 806.806 40.6618 L806.806 35.9628 Q808.889 37.097 811.111 37.6526 Q813.334 38.2081 815.81 38.2081 Q819.815 38.2081 822.153 36.1017 Q824.491 33.9952 824.491 30.3841 Q824.491 26.773 822.153 24.6665 Q819.815 22.5601 815.81 22.5601 Q813.935 22.5601 812.06 22.9767 Q810.209 23.3934 808.264 24.273 L808.264 6.912 Z\" fill=\"#000000\" fill-rule=\"evenodd\" fill-opacity=\"1\" /><circle clip-path=\"url(#clip882)\" cx=\"1044.07\" cy=\"788.102\" r=\"14\" fill=\"#009af9\" fill-rule=\"evenodd\" fill-opacity=\"1\" stroke=\"#000000\" stroke-opacity=\"1\" stroke-width=\"3.2\"/>\n",
       "<circle clip-path=\"url(#clip882)\" cx=\"1100.98\" cy=\"906.891\" r=\"14\" fill=\"#009af9\" fill-rule=\"evenodd\" fill-opacity=\"1\" stroke=\"#000000\" stroke-opacity=\"1\" stroke-width=\"3.2\"/>\n",
       "<circle clip-path=\"url(#clip882)\" cx=\"1076.71\" cy=\"560.102\" r=\"14\" fill=\"#009af9\" fill-rule=\"evenodd\" fill-opacity=\"1\" stroke=\"#000000\" stroke-opacity=\"1\" stroke-width=\"3.2\"/>\n",
       "<circle clip-path=\"url(#clip882)\" cx=\"1061.94\" cy=\"693.116\" r=\"14\" fill=\"#009af9\" fill-rule=\"evenodd\" fill-opacity=\"1\" stroke=\"#000000\" stroke-opacity=\"1\" stroke-width=\"3.2\"/>\n",
       "<circle clip-path=\"url(#clip882)\" cx=\"1082.22\" cy=\"152.662\" r=\"14\" fill=\"#009af9\" fill-rule=\"evenodd\" fill-opacity=\"1\" stroke=\"#000000\" stroke-opacity=\"1\" stroke-width=\"3.2\"/>\n",
       "<circle clip-path=\"url(#clip882)\" cx=\"1117.63\" cy=\"816.691\" r=\"14\" fill=\"#009af9\" fill-rule=\"evenodd\" fill-opacity=\"1\" stroke=\"#000000\" stroke-opacity=\"1\" stroke-width=\"3.2\"/>\n",
       "<circle clip-path=\"url(#clip882)\" cx=\"1052.6\" cy=\"535.725\" r=\"14\" fill=\"#009af9\" fill-rule=\"evenodd\" fill-opacity=\"1\" stroke=\"#000000\" stroke-opacity=\"1\" stroke-width=\"3.2\"/>\n",
       "<circle clip-path=\"url(#clip882)\" cx=\"1122.59\" cy=\"1294.58\" r=\"14\" fill=\"#009af9\" fill-rule=\"evenodd\" fill-opacity=\"1\" stroke=\"#000000\" stroke-opacity=\"1\" stroke-width=\"3.2\"/>\n",
       "<circle clip-path=\"url(#clip882)\" cx=\"1094.36\" cy=\"830.502\" r=\"14\" fill=\"#009af9\" fill-rule=\"evenodd\" fill-opacity=\"1\" stroke=\"#000000\" stroke-opacity=\"1\" stroke-width=\"3.2\"/>\n",
       "<circle clip-path=\"url(#clip882)\" cx=\"1120.71\" cy=\"894.474\" r=\"14\" fill=\"#009af9\" fill-rule=\"evenodd\" fill-opacity=\"1\" stroke=\"#000000\" stroke-opacity=\"1\" stroke-width=\"3.2\"/>\n",
       "<circle clip-path=\"url(#clip882)\" cx=\"1089.56\" cy=\"104.257\" r=\"14\" fill=\"#009af9\" fill-rule=\"evenodd\" fill-opacity=\"1\" stroke=\"#000000\" stroke-opacity=\"1\" stroke-width=\"3.2\"/>\n",
       "<circle clip-path=\"url(#clip882)\" cx=\"1080.84\" cy=\"881.452\" r=\"14\" fill=\"#009af9\" fill-rule=\"evenodd\" fill-opacity=\"1\" stroke=\"#000000\" stroke-opacity=\"1\" stroke-width=\"3.2\"/>\n",
       "<circle clip-path=\"url(#clip882)\" cx=\"1080.66\" cy=\"478.208\" r=\"14\" fill=\"#009af9\" fill-rule=\"evenodd\" fill-opacity=\"1\" stroke=\"#000000\" stroke-opacity=\"1\" stroke-width=\"3.2\"/>\n",
       "<circle clip-path=\"url(#clip882)\" cx=\"1090.21\" cy=\"309.967\" r=\"14\" fill=\"#009af9\" fill-rule=\"evenodd\" fill-opacity=\"1\" stroke=\"#000000\" stroke-opacity=\"1\" stroke-width=\"3.2\"/>\n",
       "<circle clip-path=\"url(#clip882)\" cx=\"1051.88\" cy=\"660.52\" r=\"14\" fill=\"#009af9\" fill-rule=\"evenodd\" fill-opacity=\"1\" stroke=\"#000000\" stroke-opacity=\"1\" stroke-width=\"3.2\"/>\n",
       "<circle clip-path=\"url(#clip882)\" cx=\"515.314\" cy=\"840.427\" r=\"14\" fill=\"#e26f46\" fill-rule=\"evenodd\" fill-opacity=\"1\" stroke=\"#000000\" stroke-opacity=\"1\" stroke-width=\"3.2\"/>\n",
       "<circle clip-path=\"url(#clip882)\" cx=\"751.993\" cy=\"1479.74\" r=\"14\" fill=\"#e26f46\" fill-rule=\"evenodd\" fill-opacity=\"1\" stroke=\"#000000\" stroke-opacity=\"1\" stroke-width=\"3.2\"/>\n",
       "<circle clip-path=\"url(#clip882)\" cx=\"597.791\" cy=\"1146.66\" r=\"14\" fill=\"#e26f46\" fill-rule=\"evenodd\" fill-opacity=\"1\" stroke=\"#000000\" stroke-opacity=\"1\" stroke-width=\"3.2\"/>\n",
       "<circle clip-path=\"url(#clip882)\" cx=\"790.045\" cy=\"1332.92\" r=\"14\" fill=\"#e26f46\" fill-rule=\"evenodd\" fill-opacity=\"1\" stroke=\"#000000\" stroke-opacity=\"1\" stroke-width=\"3.2\"/>\n",
       "<circle clip-path=\"url(#clip882)\" cx=\"614.609\" cy=\"808.108\" r=\"14\" fill=\"#e26f46\" fill-rule=\"evenodd\" fill-opacity=\"1\" stroke=\"#000000\" stroke-opacity=\"1\" stroke-width=\"3.2\"/>\n",
       "<circle clip-path=\"url(#clip882)\" cx=\"558.061\" cy=\"686.099\" r=\"14\" fill=\"#e26f46\" fill-rule=\"evenodd\" fill-opacity=\"1\" stroke=\"#000000\" stroke-opacity=\"1\" stroke-width=\"3.2\"/>\n",
       "<circle clip-path=\"url(#clip882)\" cx=\"629.561\" cy=\"1078.34\" r=\"14\" fill=\"#e26f46\" fill-rule=\"evenodd\" fill-opacity=\"1\" stroke=\"#000000\" stroke-opacity=\"1\" stroke-width=\"3.2\"/>\n",
       "<circle clip-path=\"url(#clip882)\" cx=\"530.176\" cy=\"789.564\" r=\"14\" fill=\"#e26f46\" fill-rule=\"evenodd\" fill-opacity=\"1\" stroke=\"#000000\" stroke-opacity=\"1\" stroke-width=\"3.2\"/>\n",
       "<circle clip-path=\"url(#clip882)\" cx=\"477.895\" cy=\"541.368\" r=\"14\" fill=\"#e26f46\" fill-rule=\"evenodd\" fill-opacity=\"1\" stroke=\"#000000\" stroke-opacity=\"1\" stroke-width=\"3.2\"/>\n",
       "<circle clip-path=\"url(#clip882)\" cx=\"672.701\" cy=\"1175.34\" r=\"14\" fill=\"#e26f46\" fill-rule=\"evenodd\" fill-opacity=\"1\" stroke=\"#000000\" stroke-opacity=\"1\" stroke-width=\"3.2\"/>\n",
       "<circle clip-path=\"url(#clip882)\" cx=\"578.123\" cy=\"1042.04\" r=\"14\" fill=\"#e26f46\" fill-rule=\"evenodd\" fill-opacity=\"1\" stroke=\"#000000\" stroke-opacity=\"1\" stroke-width=\"3.2\"/>\n",
       "<circle clip-path=\"url(#clip882)\" cx=\"465.563\" cy=\"1198.05\" r=\"14\" fill=\"#e26f46\" fill-rule=\"evenodd\" fill-opacity=\"1\" stroke=\"#000000\" stroke-opacity=\"1\" stroke-width=\"3.2\"/>\n",
       "<circle clip-path=\"url(#clip882)\" cx=\"623.945\" cy=\"965.499\" r=\"14\" fill=\"#e26f46\" fill-rule=\"evenodd\" fill-opacity=\"1\" stroke=\"#000000\" stroke-opacity=\"1\" stroke-width=\"3.2\"/>\n",
       "<circle clip-path=\"url(#clip882)\" cx=\"645.046\" cy=\"1152.35\" r=\"14\" fill=\"#e26f46\" fill-rule=\"evenodd\" fill-opacity=\"1\" stroke=\"#000000\" stroke-opacity=\"1\" stroke-width=\"3.2\"/>\n",
       "<circle clip-path=\"url(#clip882)\" cx=\"569.707\" cy=\"1004.99\" r=\"14\" fill=\"#e26f46\" fill-rule=\"evenodd\" fill-opacity=\"1\" stroke=\"#000000\" stroke-opacity=\"1\" stroke-width=\"3.2\"/>\n",
       "<circle clip-path=\"url(#clip882)\" cx=\"369.549\" cy=\"743.582\" r=\"14\" fill=\"#3da44d\" fill-rule=\"evenodd\" fill-opacity=\"1\" stroke=\"#000000\" stroke-opacity=\"1\" stroke-width=\"3.2\"/>\n",
       "<circle clip-path=\"url(#clip882)\" cx=\"442.645\" cy=\"851.348\" r=\"14\" fill=\"#3da44d\" fill-rule=\"evenodd\" fill-opacity=\"1\" stroke=\"#000000\" stroke-opacity=\"1\" stroke-width=\"3.2\"/>\n",
       "<circle clip-path=\"url(#clip882)\" cx=\"331.537\" cy=\"692.544\" r=\"14\" fill=\"#3da44d\" fill-rule=\"evenodd\" fill-opacity=\"1\" stroke=\"#000000\" stroke-opacity=\"1\" stroke-width=\"3.2\"/>\n",
       "<circle clip-path=\"url(#clip882)\" cx=\"117.155\" cy=\"513.99\" r=\"14\" fill=\"#3da44d\" fill-rule=\"evenodd\" fill-opacity=\"1\" stroke=\"#000000\" stroke-opacity=\"1\" stroke-width=\"3.2\"/>\n",
       "<circle clip-path=\"url(#clip882)\" cx=\"408.004\" cy=\"634.612\" r=\"14\" fill=\"#3da44d\" fill-rule=\"evenodd\" fill-opacity=\"1\" stroke=\"#000000\" stroke-opacity=\"1\" stroke-width=\"3.2\"/>\n",
       "<circle clip-path=\"url(#clip882)\" cx=\"329.36\" cy=\"893.21\" r=\"14\" fill=\"#3da44d\" fill-rule=\"evenodd\" fill-opacity=\"1\" stroke=\"#000000\" stroke-opacity=\"1\" stroke-width=\"3.2\"/>\n",
       "<circle clip-path=\"url(#clip882)\" cx=\"366.765\" cy=\"540.674\" r=\"14\" fill=\"#3da44d\" fill-rule=\"evenodd\" fill-opacity=\"1\" stroke=\"#000000\" stroke-opacity=\"1\" stroke-width=\"3.2\"/>\n",
       "<circle clip-path=\"url(#clip882)\" cx=\"447.241\" cy=\"1093.52\" r=\"14\" fill=\"#3da44d\" fill-rule=\"evenodd\" fill-opacity=\"1\" stroke=\"#000000\" stroke-opacity=\"1\" stroke-width=\"3.2\"/>\n",
       "<circle clip-path=\"url(#clip882)\" cx=\"206.952\" cy=\"572.632\" r=\"14\" fill=\"#3da44d\" fill-rule=\"evenodd\" fill-opacity=\"1\" stroke=\"#000000\" stroke-opacity=\"1\" stroke-width=\"3.2\"/>\n",
       "<circle clip-path=\"url(#clip882)\" cx=\"359.109\" cy=\"872.314\" r=\"14\" fill=\"#3da44d\" fill-rule=\"evenodd\" fill-opacity=\"1\" stroke=\"#000000\" stroke-opacity=\"1\" stroke-width=\"3.2\"/>\n",
       "<circle clip-path=\"url(#clip882)\" cx=\"429.576\" cy=\"981.229\" r=\"14\" fill=\"#3da44d\" fill-rule=\"evenodd\" fill-opacity=\"1\" stroke=\"#000000\" stroke-opacity=\"1\" stroke-width=\"3.2\"/>\n",
       "<circle clip-path=\"url(#clip882)\" cx=\"424.553\" cy=\"620.37\" r=\"14\" fill=\"#3da44d\" fill-rule=\"evenodd\" fill-opacity=\"1\" stroke=\"#000000\" stroke-opacity=\"1\" stroke-width=\"3.2\"/>\n",
       "<circle clip-path=\"url(#clip882)\" cx=\"451.421\" cy=\"885.18\" r=\"14\" fill=\"#3da44d\" fill-rule=\"evenodd\" fill-opacity=\"1\" stroke=\"#000000\" stroke-opacity=\"1\" stroke-width=\"3.2\"/>\n",
       "<circle clip-path=\"url(#clip882)\" cx=\"481.43\" cy=\"1110.74\" r=\"14\" fill=\"#3da44d\" fill-rule=\"evenodd\" fill-opacity=\"1\" stroke=\"#000000\" stroke-opacity=\"1\" stroke-width=\"3.2\"/>\n",
       "<circle clip-path=\"url(#clip882)\" cx=\"363.351\" cy=\"665.295\" r=\"14\" fill=\"#3da44d\" fill-rule=\"evenodd\" fill-opacity=\"1\" stroke=\"#000000\" stroke-opacity=\"1\" stroke-width=\"3.2\"/>\n",
       "<path clip-path=\"url(#clip880)\" d=\"\n",
       "M1286.99 1521.01 L2352.76 1521.01 L2352.76 62.9921 L1286.99 62.9921  Z\n",
       "  \" fill=\"#ffffff\" fill-rule=\"evenodd\" fill-opacity=\"1\"/>\n",
       "<defs>\n",
       "  <clipPath id=\"clip883\">\n",
       "    <rect x=\"1286\" y=\"62\" width=\"1067\" height=\"1459\"/>\n",
       "  </clipPath>\n",
       "</defs>\n",
       "<polyline clip-path=\"url(#clip883)\" style=\"stroke:#000000; stroke-width:2; stroke-opacity:0.1; fill:none\" points=\"\n",
       "  1396.19,1521.01 1396.19,62.9921 \n",
       "  \"/>\n",
       "<polyline clip-path=\"url(#clip883)\" style=\"stroke:#000000; stroke-width:2; stroke-opacity:0.1; fill:none\" points=\"\n",
       "  1554.49,1521.01 1554.49,62.9921 \n",
       "  \"/>\n",
       "<polyline clip-path=\"url(#clip883)\" style=\"stroke:#000000; stroke-width:2; stroke-opacity:0.1; fill:none\" points=\"\n",
       "  1712.79,1521.01 1712.79,62.9921 \n",
       "  \"/>\n",
       "<polyline clip-path=\"url(#clip883)\" style=\"stroke:#000000; stroke-width:2; stroke-opacity:0.1; fill:none\" points=\"\n",
       "  1871.09,1521.01 1871.09,62.9921 \n",
       "  \"/>\n",
       "<polyline clip-path=\"url(#clip883)\" style=\"stroke:#000000; stroke-width:2; stroke-opacity:0.1; fill:none\" points=\"\n",
       "  2029.39,1521.01 2029.39,62.9921 \n",
       "  \"/>\n",
       "<polyline clip-path=\"url(#clip883)\" style=\"stroke:#000000; stroke-width:2; stroke-opacity:0.1; fill:none\" points=\"\n",
       "  2187.69,1521.01 2187.69,62.9921 \n",
       "  \"/>\n",
       "<polyline clip-path=\"url(#clip883)\" style=\"stroke:#000000; stroke-width:2; stroke-opacity:0.1; fill:none\" points=\"\n",
       "  2345.99,1521.01 2345.99,62.9921 \n",
       "  \"/>\n",
       "<polyline clip-path=\"url(#clip880)\" style=\"stroke:#000000; stroke-width:4; stroke-opacity:1; fill:none\" points=\"\n",
       "  1286.99,1521.01 2352.76,1521.01 \n",
       "  \"/>\n",
       "<polyline clip-path=\"url(#clip880)\" style=\"stroke:#000000; stroke-width:4; stroke-opacity:1; fill:none\" points=\"\n",
       "  1396.19,1521.01 1396.19,1503.51 \n",
       "  \"/>\n",
       "<polyline clip-path=\"url(#clip880)\" style=\"stroke:#000000; stroke-width:4; stroke-opacity:1; fill:none\" points=\"\n",
       "  1554.49,1521.01 1554.49,1503.51 \n",
       "  \"/>\n",
       "<polyline clip-path=\"url(#clip880)\" style=\"stroke:#000000; stroke-width:4; stroke-opacity:1; fill:none\" points=\"\n",
       "  1712.79,1521.01 1712.79,1503.51 \n",
       "  \"/>\n",
       "<polyline clip-path=\"url(#clip880)\" style=\"stroke:#000000; stroke-width:4; stroke-opacity:1; fill:none\" points=\"\n",
       "  1871.09,1521.01 1871.09,1503.51 \n",
       "  \"/>\n",
       "<polyline clip-path=\"url(#clip880)\" style=\"stroke:#000000; stroke-width:4; stroke-opacity:1; fill:none\" points=\"\n",
       "  2029.39,1521.01 2029.39,1503.51 \n",
       "  \"/>\n",
       "<polyline clip-path=\"url(#clip880)\" style=\"stroke:#000000; stroke-width:4; stroke-opacity:1; fill:none\" points=\"\n",
       "  2187.69,1521.01 2187.69,1503.51 \n",
       "  \"/>\n",
       "<polyline clip-path=\"url(#clip880)\" style=\"stroke:#000000; stroke-width:4; stroke-opacity:1; fill:none\" points=\"\n",
       "  2345.99,1521.01 2345.99,1503.51 \n",
       "  \"/>\n",
       "<path clip-path=\"url(#clip880)\" d=\"M 0 0 M1375.17 1558.69 L1397.43 1558.69 L1397.43 1561.64 L1375.17 1561.64 L1375.17 1558.69 Z\" fill=\"#000000\" fill-rule=\"evenodd\" fill-opacity=\"1\" /><path clip-path=\"url(#clip880)\" d=\"M 0 0 M1411.86 1557.34 Q1414.37 1557.87 1415.78 1559.58 Q1417.2 1561.28 1417.2 1563.78 Q1417.2 1567.61 1414.57 1569.71 Q1411.93 1571.82 1407.07 1571.82 Q1405.43 1571.82 1403.7 1571.49 Q1401.98 1571.17 1400.14 1570.53 L1400.14 1567.15 Q1401.6 1568 1403.33 1568.43 Q1405.07 1568.86 1406.96 1568.86 Q1410.26 1568.86 1411.98 1567.56 Q1413.71 1566.26 1413.71 1563.78 Q1413.71 1561.49 1412.1 1560.2 Q1410.5 1558.9 1407.64 1558.9 L1404.62 1558.9 L1404.62 1556.02 L1407.78 1556.02 Q1410.36 1556.02 1411.74 1554.99 Q1413.11 1553.95 1413.11 1552.01 Q1413.11 1550.01 1411.68 1548.95 Q1410.28 1547.87 1407.64 1547.87 Q1406.2 1547.87 1404.55 1548.19 Q1402.9 1548.5 1400.92 1549.16 L1400.92 1546.03 Q1402.92 1545.48 1404.65 1545.2 Q1406.41 1544.92 1407.95 1544.92 Q1411.94 1544.92 1414.27 1546.75 Q1416.6 1548.55 1416.6 1551.64 Q1416.6 1553.79 1415.36 1555.29 Q1414.13 1556.76 1411.86 1557.34 Z\" fill=\"#000000\" fill-rule=\"evenodd\" fill-opacity=\"1\" /><path clip-path=\"url(#clip880)\" d=\"M 0 0 M1533.83 1558.69 L1556.09 1558.69 L1556.09 1561.64 L1533.83 1561.64 L1533.83 1558.69 Z\" fill=\"#000000\" fill-rule=\"evenodd\" fill-opacity=\"1\" /><path clip-path=\"url(#clip880)\" d=\"M 0 0 M1562.91 1568.36 L1575.15 1568.36 L1575.15 1571.31 L1558.69 1571.31 L1558.69 1568.36 Q1560.69 1566.29 1564.12 1562.82 Q1567.58 1559.33 1568.46 1558.33 Q1570.15 1556.43 1570.81 1555.13 Q1571.49 1553.81 1571.49 1552.54 Q1571.49 1550.48 1570.03 1549.18 Q1568.59 1547.87 1566.26 1547.87 Q1564.61 1547.87 1562.77 1548.45 Q1560.95 1549.02 1558.86 1550.18 L1558.86 1546.64 Q1560.98 1545.79 1562.82 1545.36 Q1564.66 1544.92 1566.19 1544.92 Q1570.22 1544.92 1572.61 1546.94 Q1575.01 1548.95 1575.01 1552.32 Q1575.01 1553.92 1574.4 1555.36 Q1573.81 1556.78 1572.23 1558.73 Q1571.8 1559.23 1569.47 1561.64 Q1567.14 1564.04 1562.91 1568.36 Z\" fill=\"#000000\" fill-rule=\"evenodd\" fill-opacity=\"1\" /><path clip-path=\"url(#clip880)\" d=\"M 0 0 M1691.99 1558.69 L1714.25 1558.69 L1714.25 1561.64 L1691.99 1561.64 L1691.99 1558.69 Z\" fill=\"#000000\" fill-rule=\"evenodd\" fill-opacity=\"1\" /><path clip-path=\"url(#clip880)\" d=\"M 0 0 M1718.66 1568.36 L1724.39 1568.36 L1724.39 1548.59 L1718.15 1549.84 L1718.15 1546.64 L1724.35 1545.39 L1727.86 1545.39 L1727.86 1568.36 L1733.59 1568.36 L1733.59 1571.31 L1718.66 1571.31 L1718.66 1568.36 Z\" fill=\"#000000\" fill-rule=\"evenodd\" fill-opacity=\"1\" /><path clip-path=\"url(#clip880)\" d=\"M 0 0 M1871.09 1547.7 Q1868.38 1547.7 1867.01 1550.37 Q1865.65 1553.03 1865.65 1558.38 Q1865.65 1563.71 1867.01 1566.38 Q1868.38 1569.04 1871.09 1569.04 Q1873.81 1569.04 1875.17 1566.38 Q1876.54 1563.71 1876.54 1558.38 Q1876.54 1553.03 1875.17 1550.37 Q1873.81 1547.7 1871.09 1547.7 M1871.09 1544.92 Q1875.45 1544.92 1877.74 1548.38 Q1880.05 1551.82 1880.05 1558.38 Q1880.05 1564.92 1877.74 1568.38 Q1875.45 1571.82 1871.09 1571.82 Q1866.73 1571.82 1864.42 1568.38 Q1862.13 1564.92 1862.13 1558.38 Q1862.13 1551.82 1864.42 1548.38 Q1866.73 1544.92 1871.09 1544.92 Z\" fill=\"#000000\" fill-rule=\"evenodd\" fill-opacity=\"1\" /><path clip-path=\"url(#clip880)\" d=\"M 0 0 M2022.17 1568.36 L2027.9 1568.36 L2027.9 1548.59 L2021.67 1549.84 L2021.67 1546.64 L2027.87 1545.39 L2031.38 1545.39 L2031.38 1568.36 L2037.11 1568.36 L2037.11 1571.31 L2022.17 1571.31 L2022.17 1568.36 Z\" fill=\"#000000\" fill-rule=\"evenodd\" fill-opacity=\"1\" /><path clip-path=\"url(#clip880)\" d=\"M 0 0 M2183.68 1568.36 L2195.92 1568.36 L2195.92 1571.31 L2179.46 1571.31 L2179.46 1568.36 Q2181.46 1566.29 2184.89 1562.82 Q2188.35 1559.33 2189.23 1558.33 Q2190.92 1556.43 2191.58 1555.13 Q2192.25 1553.81 2192.25 1552.54 Q2192.25 1550.48 2190.8 1549.18 Q2189.35 1547.87 2187.03 1547.87 Q2185.38 1547.87 2183.54 1548.45 Q2181.72 1549.02 2179.63 1550.18 L2179.63 1546.64 Q2181.75 1545.79 2183.59 1545.36 Q2185.43 1544.92 2186.96 1544.92 Q2190.99 1544.92 2193.38 1546.94 Q2195.78 1548.95 2195.78 1552.32 Q2195.78 1553.92 2195.17 1555.36 Q2194.58 1556.78 2193 1558.73 Q2192.57 1559.23 2190.24 1561.64 Q2187.91 1564.04 2183.68 1568.36 Z\" fill=\"#000000\" fill-rule=\"evenodd\" fill-opacity=\"1\" /><path clip-path=\"url(#clip880)\" d=\"M 0 0 M2349.17 1557.34 Q2351.69 1557.87 2353.1 1559.58 Q2354.52 1561.28 2354.52 1563.78 Q2354.52 1567.61 2351.88 1569.71 Q2349.24 1571.82 2344.38 1571.82 Q2342.75 1571.82 2341.01 1571.49 Q2339.3 1571.17 2337.45 1570.53 L2337.45 1567.15 Q2338.91 1568 2340.65 1568.43 Q2342.39 1568.86 2344.28 1568.86 Q2347.58 1568.86 2349.3 1567.56 Q2351.03 1566.26 2351.03 1563.78 Q2351.03 1561.49 2349.42 1560.2 Q2347.82 1558.9 2344.95 1558.9 L2341.93 1558.9 L2341.93 1556.02 L2345.09 1556.02 Q2347.68 1556.02 2349.05 1554.99 Q2350.42 1553.95 2350.42 1552.01 Q2350.42 1550.01 2349 1548.95 Q2347.59 1547.87 2344.95 1547.87 Q2343.51 1547.87 2341.86 1548.19 Q2340.22 1548.5 2338.24 1549.16 L2338.24 1546.03 Q2340.23 1545.48 2341.97 1545.2 Q2343.72 1544.92 2345.27 1544.92 Q2349.26 1544.92 2351.59 1546.75 Q2353.91 1548.55 2353.91 1551.64 Q2353.91 1553.79 2352.68 1555.29 Q2351.45 1556.76 2349.17 1557.34 Z\" fill=\"#000000\" fill-rule=\"evenodd\" fill-opacity=\"1\" /><polyline clip-path=\"url(#clip883)\" style=\"stroke:#000000; stroke-width:2; stroke-opacity:0.1; fill:none\" points=\"\n",
       "  1286.99,1332.3 2352.76,1332.3 \n",
       "  \"/>\n",
       "<polyline clip-path=\"url(#clip883)\" style=\"stroke:#000000; stroke-width:2; stroke-opacity:0.1; fill:none\" points=\"\n",
       "  1286.99,1051.43 2352.76,1051.43 \n",
       "  \"/>\n",
       "<polyline clip-path=\"url(#clip883)\" style=\"stroke:#000000; stroke-width:2; stroke-opacity:0.1; fill:none\" points=\"\n",
       "  1286.99,770.571 2352.76,770.571 \n",
       "  \"/>\n",
       "<polyline clip-path=\"url(#clip883)\" style=\"stroke:#000000; stroke-width:2; stroke-opacity:0.1; fill:none\" points=\"\n",
       "  1286.99,489.709 2352.76,489.709 \n",
       "  \"/>\n",
       "<polyline clip-path=\"url(#clip883)\" style=\"stroke:#000000; stroke-width:2; stroke-opacity:0.1; fill:none\" points=\"\n",
       "  1286.99,208.847 2352.76,208.847 \n",
       "  \"/>\n",
       "<polyline clip-path=\"url(#clip880)\" style=\"stroke:#000000; stroke-width:4; stroke-opacity:1; fill:none\" points=\"\n",
       "  1286.99,1521.01 1286.99,62.9921 \n",
       "  \"/>\n",
       "<polyline clip-path=\"url(#clip880)\" style=\"stroke:#000000; stroke-width:4; stroke-opacity:1; fill:none\" points=\"\n",
       "  1286.99,1332.3 1299.78,1332.3 \n",
       "  \"/>\n",
       "<polyline clip-path=\"url(#clip880)\" style=\"stroke:#000000; stroke-width:4; stroke-opacity:1; fill:none\" points=\"\n",
       "  1286.99,1051.43 1299.78,1051.43 \n",
       "  \"/>\n",
       "<polyline clip-path=\"url(#clip880)\" style=\"stroke:#000000; stroke-width:4; stroke-opacity:1; fill:none\" points=\"\n",
       "  1286.99,770.571 1299.78,770.571 \n",
       "  \"/>\n",
       "<polyline clip-path=\"url(#clip880)\" style=\"stroke:#000000; stroke-width:4; stroke-opacity:1; fill:none\" points=\"\n",
       "  1286.99,489.709 1299.78,489.709 \n",
       "  \"/>\n",
       "<polyline clip-path=\"url(#clip880)\" style=\"stroke:#000000; stroke-width:4; stroke-opacity:1; fill:none\" points=\"\n",
       "  1286.99,208.847 1299.78,208.847 \n",
       "  \"/>\n",
       "<path clip-path=\"url(#clip880)\" d=\"M 0 0 M1158.56 1332.75 L1188.24 1332.75 L1188.24 1336.68 L1158.56 1336.68 L1158.56 1332.75 Z\" fill=\"#000000\" fill-rule=\"evenodd\" fill-opacity=\"1\" /><path clip-path=\"url(#clip880)\" d=\"M 0 0 M1194.12 1345.64 L1201.76 1345.64 L1201.76 1319.27 L1193.45 1320.94 L1193.45 1316.68 L1201.71 1315.02 L1206.39 1315.02 L1206.39 1345.64 L1214.02 1345.64 L1214.02 1349.58 L1194.12 1349.58 L1194.12 1345.64 Z\" fill=\"#000000\" fill-rule=\"evenodd\" fill-opacity=\"1\" /><path clip-path=\"url(#clip880)\" d=\"M 0 0 M1219.09 1343.7 L1223.98 1343.7 L1223.98 1349.58 L1219.09 1349.58 L1219.09 1343.7 Z\" fill=\"#000000\" fill-rule=\"evenodd\" fill-opacity=\"1\" /><path clip-path=\"url(#clip880)\" d=\"M 0 0 M1239.05 1318.09 Q1235.44 1318.09 1233.61 1321.66 Q1231.8 1325.2 1231.8 1332.33 Q1231.8 1339.44 1233.61 1343 Q1235.44 1346.54 1239.05 1346.54 Q1242.68 1346.54 1244.49 1343 Q1246.32 1339.44 1246.32 1332.33 Q1246.32 1325.2 1244.49 1321.66 Q1242.68 1318.09 1239.05 1318.09 M1239.05 1314.39 Q1244.86 1314.39 1247.91 1319 Q1250.99 1323.58 1250.99 1332.33 Q1250.99 1341.06 1247.91 1345.66 Q1244.86 1350.25 1239.05 1350.25 Q1233.24 1350.25 1230.16 1345.66 Q1227.1 1341.06 1227.1 1332.33 Q1227.1 1323.58 1230.16 1319 Q1233.24 1314.39 1239.05 1314.39 Z\" fill=\"#000000\" fill-rule=\"evenodd\" fill-opacity=\"1\" /><path clip-path=\"url(#clip880)\" d=\"M 0 0 M1158.33 1051.88 L1188.01 1051.88 L1188.01 1055.82 L1158.33 1055.82 L1158.33 1051.88 Z\" fill=\"#000000\" fill-rule=\"evenodd\" fill-opacity=\"1\" /><path clip-path=\"url(#clip880)\" d=\"M 0 0 M1203.08 1037.23 Q1199.46 1037.23 1197.64 1040.8 Q1195.83 1044.34 1195.83 1051.47 Q1195.83 1058.57 1197.64 1062.14 Q1199.46 1065.68 1203.08 1065.68 Q1206.71 1065.68 1208.52 1062.14 Q1210.34 1058.57 1210.34 1051.47 Q1210.34 1044.34 1208.52 1040.8 Q1206.71 1037.23 1203.08 1037.23 M1203.08 1033.53 Q1208.89 1033.53 1211.94 1038.13 Q1215.02 1042.72 1215.02 1051.47 Q1215.02 1060.19 1211.94 1064.8 Q1208.89 1069.38 1203.08 1069.38 Q1197.27 1069.38 1194.19 1064.8 Q1191.13 1060.19 1191.13 1051.47 Q1191.13 1042.72 1194.19 1038.13 Q1197.27 1033.53 1203.08 1033.53 Z\" fill=\"#000000\" fill-rule=\"evenodd\" fill-opacity=\"1\" /><path clip-path=\"url(#clip880)\" d=\"M 0 0 M1220.09 1062.83 L1224.97 1062.83 L1224.97 1068.71 L1220.09 1068.71 L1220.09 1062.83 Z\" fill=\"#000000\" fill-rule=\"evenodd\" fill-opacity=\"1\" /><path clip-path=\"url(#clip880)\" d=\"M 0 0 M1230.09 1034.15 L1248.45 1034.15 L1248.45 1038.09 L1234.37 1038.09 L1234.37 1046.56 Q1235.39 1046.21 1236.41 1046.05 Q1237.43 1045.87 1238.45 1045.87 Q1244.23 1045.87 1247.61 1049.04 Q1250.99 1052.21 1250.99 1057.63 Q1250.99 1063.2 1247.52 1066.31 Q1244.05 1069.38 1237.73 1069.38 Q1235.55 1069.38 1233.28 1069.01 Q1231.04 1068.64 1228.63 1067.9 L1228.63 1063.2 Q1230.71 1064.34 1232.94 1064.89 Q1235.16 1065.45 1237.64 1065.45 Q1241.64 1065.45 1243.98 1063.34 Q1246.32 1061.24 1246.32 1057.63 Q1246.32 1054.01 1243.98 1051.91 Q1241.64 1049.8 1237.64 1049.8 Q1235.76 1049.8 1233.89 1050.22 Q1232.03 1050.63 1230.09 1051.51 L1230.09 1034.15 Z\" fill=\"#000000\" fill-rule=\"evenodd\" fill-opacity=\"1\" /><path clip-path=\"url(#clip880)\" d=\"M 0 0 M1202.08 756.37 Q1198.47 756.37 1196.64 759.935 Q1194.84 763.476 1194.84 770.606 Q1194.84 777.712 1196.64 781.277 Q1198.47 784.819 1202.08 784.819 Q1205.71 784.819 1207.52 781.277 Q1209.35 777.712 1209.35 770.606 Q1209.35 763.476 1207.52 759.935 Q1205.71 756.37 1202.08 756.37 M1202.08 752.666 Q1207.89 752.666 1210.95 757.273 Q1214.02 761.856 1214.02 770.606 Q1214.02 779.333 1210.95 783.939 Q1207.89 788.522 1202.08 788.522 Q1196.27 788.522 1193.19 783.939 Q1190.14 779.333 1190.14 770.606 Q1190.14 761.856 1193.19 757.273 Q1196.27 752.666 1202.08 752.666 Z\" fill=\"#000000\" fill-rule=\"evenodd\" fill-opacity=\"1\" /><path clip-path=\"url(#clip880)\" d=\"M 0 0 M1219.09 781.971 L1223.98 781.971 L1223.98 787.851 L1219.09 787.851 L1219.09 781.971 Z\" fill=\"#000000\" fill-rule=\"evenodd\" fill-opacity=\"1\" /><path clip-path=\"url(#clip880)\" d=\"M 0 0 M1239.05 756.37 Q1235.44 756.37 1233.61 759.935 Q1231.8 763.476 1231.8 770.606 Q1231.8 777.712 1233.61 781.277 Q1235.44 784.819 1239.05 784.819 Q1242.68 784.819 1244.49 781.277 Q1246.32 777.712 1246.32 770.606 Q1246.32 763.476 1244.49 759.935 Q1242.68 756.37 1239.05 756.37 M1239.05 752.666 Q1244.86 752.666 1247.91 757.273 Q1250.99 761.856 1250.99 770.606 Q1250.99 779.333 1247.91 783.939 Q1244.86 788.522 1239.05 788.522 Q1233.24 788.522 1230.16 783.939 Q1227.1 779.333 1227.1 770.606 Q1227.1 761.856 1230.16 757.273 Q1233.24 752.666 1239.05 752.666 Z\" fill=\"#000000\" fill-rule=\"evenodd\" fill-opacity=\"1\" /><path clip-path=\"url(#clip880)\" d=\"M 0 0 M1203.08 475.508 Q1199.46 475.508 1197.64 479.072 Q1195.83 482.614 1195.83 489.744 Q1195.83 496.85 1197.64 500.415 Q1199.46 503.957 1203.08 503.957 Q1206.71 503.957 1208.52 500.415 Q1210.34 496.85 1210.34 489.744 Q1210.34 482.614 1208.52 479.072 Q1206.71 475.508 1203.08 475.508 M1203.08 471.804 Q1208.89 471.804 1211.94 476.41 Q1215.02 480.994 1215.02 489.744 Q1215.02 498.471 1211.94 503.077 Q1208.89 507.66 1203.08 507.66 Q1197.27 507.66 1194.19 503.077 Q1191.13 498.471 1191.13 489.744 Q1191.13 480.994 1194.19 476.41 Q1197.27 471.804 1203.08 471.804 Z\" fill=\"#000000\" fill-rule=\"evenodd\" fill-opacity=\"1\" /><path clip-path=\"url(#clip880)\" d=\"M 0 0 M1220.09 501.109 L1224.97 501.109 L1224.97 506.989 L1220.09 506.989 L1220.09 501.109 Z\" fill=\"#000000\" fill-rule=\"evenodd\" fill-opacity=\"1\" /><path clip-path=\"url(#clip880)\" d=\"M 0 0 M1230.09 472.429 L1248.45 472.429 L1248.45 476.364 L1234.37 476.364 L1234.37 484.836 Q1235.39 484.489 1236.41 484.327 Q1237.43 484.142 1238.45 484.142 Q1244.23 484.142 1247.61 487.313 Q1250.99 490.484 1250.99 495.901 Q1250.99 501.48 1247.52 504.582 Q1244.05 507.66 1237.73 507.66 Q1235.55 507.66 1233.28 507.29 Q1231.04 506.92 1228.63 506.179 L1228.63 501.48 Q1230.71 502.614 1232.94 503.17 Q1235.16 503.725 1237.64 503.725 Q1241.64 503.725 1243.98 501.619 Q1246.32 499.512 1246.32 495.901 Q1246.32 492.29 1243.98 490.184 Q1241.64 488.077 1237.64 488.077 Q1235.76 488.077 1233.89 488.494 Q1232.03 488.91 1230.09 489.79 L1230.09 472.429 Z\" fill=\"#000000\" fill-rule=\"evenodd\" fill-opacity=\"1\" /><path clip-path=\"url(#clip880)\" d=\"M 0 0 M1194.12 222.192 L1201.76 222.192 L1201.76 195.826 L1193.45 197.493 L1193.45 193.234 L1201.71 191.567 L1206.39 191.567 L1206.39 222.192 L1214.02 222.192 L1214.02 226.127 L1194.12 226.127 L1194.12 222.192 Z\" fill=\"#000000\" fill-rule=\"evenodd\" fill-opacity=\"1\" /><path clip-path=\"url(#clip880)\" d=\"M 0 0 M1219.09 220.247 L1223.98 220.247 L1223.98 226.127 L1219.09 226.127 L1219.09 220.247 Z\" fill=\"#000000\" fill-rule=\"evenodd\" fill-opacity=\"1\" /><path clip-path=\"url(#clip880)\" d=\"M 0 0 M1239.05 194.646 Q1235.44 194.646 1233.61 198.21 Q1231.8 201.752 1231.8 208.882 Q1231.8 215.988 1233.61 219.553 Q1235.44 223.095 1239.05 223.095 Q1242.68 223.095 1244.49 219.553 Q1246.32 215.988 1246.32 208.882 Q1246.32 201.752 1244.49 198.21 Q1242.68 194.646 1239.05 194.646 M1239.05 190.942 Q1244.86 190.942 1247.91 195.548 Q1250.99 200.132 1250.99 208.882 Q1250.99 217.608 1247.91 222.215 Q1244.86 226.798 1239.05 226.798 Q1233.24 226.798 1230.16 222.215 Q1227.1 217.608 1227.1 208.882 Q1227.1 200.132 1230.16 195.548 Q1233.24 190.942 1239.05 190.942 Z\" fill=\"#000000\" fill-rule=\"evenodd\" fill-opacity=\"1\" /><path clip-path=\"url(#clip880)\" d=\"M 0 0 M1610.53 6.912 L1630.4 6.912 L1630.4 10.8472 L1615.21 10.8472 L1615.21 21.0323 L1628.91 21.0323 L1628.91 24.9675 L1615.21 24.9675 L1615.21 41.472 L1610.53 41.472 L1610.53 6.912 Z\" fill=\"#000000\" fill-rule=\"evenodd\" fill-opacity=\"1\" /><path clip-path=\"url(#clip880)\" d=\"M 0 0 M1631.83 31.2406 L1631.83 15.5462 L1636.09 15.5462 L1636.09 31.0785 Q1636.09 34.7591 1637.53 36.6109 Q1638.96 38.4396 1641.83 38.4396 Q1645.28 38.4396 1647.27 36.2405 Q1649.28 34.0415 1649.28 30.2452 L1649.28 15.5462 L1653.54 15.5462 L1653.54 41.472 L1649.28 41.472 L1649.28 37.4905 Q1647.73 39.8516 1645.67 41.009 Q1643.64 42.1433 1640.93 42.1433 Q1636.46 42.1433 1634.15 39.3655 Q1631.83 36.5878 1631.83 31.2406 M1642.55 14.9212 L1642.55 14.9212 Z\" fill=\"#000000\" fill-rule=\"evenodd\" fill-opacity=\"1\" /><path clip-path=\"url(#clip880)\" d=\"M 0 0 M1656.16 15.5462 L1676.39 15.5462 L1676.39 19.4351 L1660.37 38.0692 L1676.39 38.0692 L1676.39 41.472 L1655.58 41.472 L1655.58 37.5831 L1671.6 18.949 L1656.16 18.949 L1656.16 15.5462 Z\" fill=\"#000000\" fill-rule=\"evenodd\" fill-opacity=\"1\" /><path clip-path=\"url(#clip880)\" d=\"M 0 0 M1679.01 15.5462 L1699.24 15.5462 L1699.24 19.4351 L1683.22 38.0692 L1699.24 38.0692 L1699.24 41.472 L1678.43 41.472 L1678.43 37.5831 L1694.45 18.949 L1679.01 18.949 L1679.01 15.5462 Z\" fill=\"#000000\" fill-rule=\"evenodd\" fill-opacity=\"1\" /><path clip-path=\"url(#clip880)\" d=\"M 0 0 M1714.49 43.8794 Q1712.69 48.509 1710.97 49.921 Q1709.26 51.3331 1706.39 51.3331 L1702.99 51.3331 L1702.99 47.7683 L1705.49 47.7683 Q1707.25 47.7683 1708.22 46.9349 Q1709.19 46.1016 1710.37 42.9998 L1711.14 41.0553 L1700.65 15.5462 L1705.16 15.5462 L1713.27 35.8239 L1721.37 15.5462 L1725.88 15.5462 L1714.49 43.8794 Z\" fill=\"#000000\" fill-rule=\"evenodd\" fill-opacity=\"1\" /><path clip-path=\"url(#clip880)\" d=\"M 0 0 M1742.09 11.5185 L1735.74 28.7174 L1748.45 28.7174 L1742.09 11.5185 M1739.45 6.912 L1744.75 6.912 L1757.92 41.472 L1753.06 41.472 L1749.91 32.6063 L1734.33 32.6063 L1731.18 41.472 L1726.25 41.472 L1739.45 6.912 Z\" fill=\"#000000\" fill-rule=\"evenodd\" fill-opacity=\"1\" /><path clip-path=\"url(#clip880)\" d=\"M 0 0 M1778.96 25.2684 Q1780.46 25.7776 1781.88 27.4443 Q1783.31 29.111 1784.75 32.0276 L1789.49 41.472 L1784.47 41.472 L1780.05 32.6063 Q1778.33 29.1341 1776.71 27.9998 Q1775.12 26.8656 1772.34 26.8656 L1767.25 26.8656 L1767.25 41.472 L1762.57 41.472 L1762.57 6.912 L1773.13 6.912 Q1779.05 6.912 1781.97 9.38884 Q1784.89 11.8657 1784.89 16.8657 Q1784.89 20.1295 1783.36 22.2823 Q1781.85 24.4351 1778.96 25.2684 M1767.25 10.7546 L1767.25 23.023 L1773.13 23.023 Q1776.51 23.023 1778.22 21.4721 Q1779.96 19.898 1779.96 16.8657 Q1779.96 13.8333 1778.22 12.3055 Q1776.51 10.7546 1773.13 10.7546 L1767.25 10.7546 Z\" fill=\"#000000\" fill-rule=\"evenodd\" fill-opacity=\"1\" /><path clip-path=\"url(#clip880)\" d=\"M 0 0 M1785.9 6.912 L1815.14 6.912 L1815.14 10.8472 L1802.87 10.8472 L1802.87 41.472 L1798.17 41.472 L1798.17 10.8472 L1785.9 10.8472 L1785.9 6.912 Z\" fill=\"#000000\" fill-rule=\"evenodd\" fill-opacity=\"1\" /><path clip-path=\"url(#clip880)\" d=\"M 0 0 M1849.7 19.5277 Q1848.98 19.111 1848.13 18.9258 Q1847.29 18.7175 1846.27 18.7175 Q1842.66 18.7175 1840.72 21.0786 Q1838.8 23.4165 1838.8 27.8147 L1838.8 41.472 L1834.52 41.472 L1834.52 15.5462 L1838.8 15.5462 L1838.8 19.574 Q1840.14 17.2129 1842.29 16.0786 Q1844.45 14.9212 1847.52 14.9212 Q1847.96 14.9212 1848.5 14.9907 Q1849.03 15.037 1849.68 15.1527 L1849.7 19.5277 Z\" fill=\"#000000\" fill-rule=\"evenodd\" fill-opacity=\"1\" /><path clip-path=\"url(#clip880)\" d=\"M 0 0 M1874.89 25.8239 L1874.89 41.472 L1870.63 41.472 L1870.63 25.9628 Q1870.63 22.2823 1869.19 20.4536 Q1867.76 18.6249 1864.89 18.6249 Q1861.44 18.6249 1859.45 20.824 Q1857.45 23.023 1857.45 26.8193 L1857.45 41.472 L1853.17 41.472 L1853.17 5.45367 L1857.45 5.45367 L1857.45 19.574 Q1858.98 17.236 1861.04 16.0786 Q1863.13 14.9212 1865.83 14.9212 Q1870.3 14.9212 1872.59 17.699 Q1874.89 20.4536 1874.89 25.8239 Z\" fill=\"#000000\" fill-rule=\"evenodd\" fill-opacity=\"1\" /><path clip-path=\"url(#clip880)\" d=\"M 0 0 M1889.4 18.5323 Q1885.97 18.5323 1883.98 21.2175 Q1881.99 23.8795 1881.99 28.5323 Q1881.99 33.185 1883.96 35.8702 Q1885.95 38.5322 1889.4 38.5322 Q1892.8 38.5322 1894.79 35.847 Q1896.78 33.1619 1896.78 28.5323 Q1896.78 23.9258 1894.79 21.2406 Q1892.8 18.5323 1889.4 18.5323 M1889.4 14.9212 Q1894.95 14.9212 1898.13 18.5323 Q1901.3 22.1434 1901.3 28.5323 Q1901.3 34.898 1898.13 38.5322 Q1894.95 42.1433 1889.4 42.1433 Q1883.82 42.1433 1880.65 38.5322 Q1877.5 34.898 1877.5 28.5323 Q1877.5 22.1434 1880.65 18.5323 Q1883.82 14.9212 1889.4 14.9212 Z\" fill=\"#000000\" fill-rule=\"evenodd\" fill-opacity=\"1\" /><path clip-path=\"url(#clip880)\" d=\"M 0 0 M1921.39 19.9443 L1951.07 19.9443 L1951.07 23.8332 L1921.39 23.8332 L1921.39 19.9443 M1921.39 29.3887 L1951.07 29.3887 L1951.07 33.3239 L1921.39 33.3239 L1921.39 29.3887 Z\" fill=\"#000000\" fill-rule=\"evenodd\" fill-opacity=\"1\" /><path clip-path=\"url(#clip880)\" d=\"M 0 0 M1981.2 9.99069 Q1977.59 9.99069 1975.76 13.5555 Q1973.96 17.0971 1973.96 24.2267 Q1973.96 31.3332 1975.76 34.898 Q1977.59 38.4396 1981.2 38.4396 Q1984.84 38.4396 1986.64 34.898 Q1988.47 31.3332 1988.47 24.2267 Q1988.47 17.0971 1986.64 13.5555 Q1984.84 9.99069 1981.2 9.99069 M1981.2 6.287 Q1987.01 6.287 1990.07 10.8935 Q1993.15 15.4768 1993.15 24.2267 Q1993.15 32.9535 1990.07 37.56 Q1987.01 42.1433 1981.2 42.1433 Q1975.39 42.1433 1972.32 37.56 Q1969.26 32.9535 1969.26 24.2267 Q1969.26 15.4768 1972.32 10.8935 Q1975.39 6.287 1981.2 6.287 Z\" fill=\"#000000\" fill-rule=\"evenodd\" fill-opacity=\"1\" /><path clip-path=\"url(#clip880)\" d=\"M 0 0 M1998.22 35.5924 L2003.1 35.5924 L2003.1 41.472 L1998.22 41.472 L1998.22 35.5924 Z\" fill=\"#000000\" fill-rule=\"evenodd\" fill-opacity=\"1\" /><path clip-path=\"url(#clip880)\" d=\"M 0 0 M2006.99 6.912 L2029.21 6.912 L2029.21 8.90273 L2016.67 41.472 L2011.78 41.472 L2023.59 10.8472 L2006.99 10.8472 L2006.99 6.912 Z\" fill=\"#000000\" fill-rule=\"evenodd\" fill-opacity=\"1\" /><circle clip-path=\"url(#clip883)\" cx=\"2244.07\" cy=\"788.102\" r=\"14\" fill=\"#009af9\" fill-rule=\"evenodd\" fill-opacity=\"1\" stroke=\"#000000\" stroke-opacity=\"1\" stroke-width=\"3.2\"/>\n",
       "<circle clip-path=\"url(#clip883)\" cx=\"2300.98\" cy=\"906.891\" r=\"14\" fill=\"#009af9\" fill-rule=\"evenodd\" fill-opacity=\"1\" stroke=\"#000000\" stroke-opacity=\"1\" stroke-width=\"3.2\"/>\n",
       "<circle clip-path=\"url(#clip883)\" cx=\"2276.71\" cy=\"560.102\" r=\"14\" fill=\"#009af9\" fill-rule=\"evenodd\" fill-opacity=\"1\" stroke=\"#000000\" stroke-opacity=\"1\" stroke-width=\"3.2\"/>\n",
       "<circle clip-path=\"url(#clip883)\" cx=\"2261.94\" cy=\"693.116\" r=\"14\" fill=\"#009af9\" fill-rule=\"evenodd\" fill-opacity=\"1\" stroke=\"#000000\" stroke-opacity=\"1\" stroke-width=\"3.2\"/>\n",
       "<circle clip-path=\"url(#clip883)\" cx=\"2282.22\" cy=\"152.662\" r=\"14\" fill=\"#009af9\" fill-rule=\"evenodd\" fill-opacity=\"1\" stroke=\"#000000\" stroke-opacity=\"1\" stroke-width=\"3.2\"/>\n",
       "<circle clip-path=\"url(#clip883)\" cx=\"2317.63\" cy=\"816.691\" r=\"14\" fill=\"#009af9\" fill-rule=\"evenodd\" fill-opacity=\"1\" stroke=\"#000000\" stroke-opacity=\"1\" stroke-width=\"3.2\"/>\n",
       "<circle clip-path=\"url(#clip883)\" cx=\"2252.6\" cy=\"535.725\" r=\"14\" fill=\"#009af9\" fill-rule=\"evenodd\" fill-opacity=\"1\" stroke=\"#000000\" stroke-opacity=\"1\" stroke-width=\"3.2\"/>\n",
       "<circle clip-path=\"url(#clip883)\" cx=\"2322.59\" cy=\"1294.58\" r=\"14\" fill=\"#009af9\" fill-rule=\"evenodd\" fill-opacity=\"1\" stroke=\"#000000\" stroke-opacity=\"1\" stroke-width=\"3.2\"/>\n",
       "<circle clip-path=\"url(#clip883)\" cx=\"2294.36\" cy=\"830.502\" r=\"14\" fill=\"#009af9\" fill-rule=\"evenodd\" fill-opacity=\"1\" stroke=\"#000000\" stroke-opacity=\"1\" stroke-width=\"3.2\"/>\n",
       "<circle clip-path=\"url(#clip883)\" cx=\"2320.71\" cy=\"894.474\" r=\"14\" fill=\"#009af9\" fill-rule=\"evenodd\" fill-opacity=\"1\" stroke=\"#000000\" stroke-opacity=\"1\" stroke-width=\"3.2\"/>\n",
       "<circle clip-path=\"url(#clip883)\" cx=\"2289.56\" cy=\"104.257\" r=\"14\" fill=\"#009af9\" fill-rule=\"evenodd\" fill-opacity=\"1\" stroke=\"#000000\" stroke-opacity=\"1\" stroke-width=\"3.2\"/>\n",
       "<circle clip-path=\"url(#clip883)\" cx=\"2280.84\" cy=\"881.452\" r=\"14\" fill=\"#009af9\" fill-rule=\"evenodd\" fill-opacity=\"1\" stroke=\"#000000\" stroke-opacity=\"1\" stroke-width=\"3.2\"/>\n",
       "<circle clip-path=\"url(#clip883)\" cx=\"2280.66\" cy=\"478.208\" r=\"14\" fill=\"#009af9\" fill-rule=\"evenodd\" fill-opacity=\"1\" stroke=\"#000000\" stroke-opacity=\"1\" stroke-width=\"3.2\"/>\n",
       "<circle clip-path=\"url(#clip883)\" cx=\"2290.21\" cy=\"309.967\" r=\"14\" fill=\"#009af9\" fill-rule=\"evenodd\" fill-opacity=\"1\" stroke=\"#000000\" stroke-opacity=\"1\" stroke-width=\"3.2\"/>\n",
       "<circle clip-path=\"url(#clip883)\" cx=\"2251.88\" cy=\"660.52\" r=\"14\" fill=\"#009af9\" fill-rule=\"evenodd\" fill-opacity=\"1\" stroke=\"#000000\" stroke-opacity=\"1\" stroke-width=\"3.2\"/>\n",
       "<circle clip-path=\"url(#clip883)\" cx=\"1715.31\" cy=\"840.427\" r=\"14\" fill=\"#e26f46\" fill-rule=\"evenodd\" fill-opacity=\"1\" stroke=\"#000000\" stroke-opacity=\"1\" stroke-width=\"3.2\"/>\n",
       "<circle clip-path=\"url(#clip883)\" cx=\"1951.99\" cy=\"1479.74\" r=\"14\" fill=\"#e26f46\" fill-rule=\"evenodd\" fill-opacity=\"1\" stroke=\"#000000\" stroke-opacity=\"1\" stroke-width=\"3.2\"/>\n",
       "<circle clip-path=\"url(#clip883)\" cx=\"1797.79\" cy=\"1146.66\" r=\"14\" fill=\"#e26f46\" fill-rule=\"evenodd\" fill-opacity=\"1\" stroke=\"#000000\" stroke-opacity=\"1\" stroke-width=\"3.2\"/>\n",
       "<circle clip-path=\"url(#clip883)\" cx=\"1990.05\" cy=\"1332.92\" r=\"14\" fill=\"#e26f46\" fill-rule=\"evenodd\" fill-opacity=\"1\" stroke=\"#000000\" stroke-opacity=\"1\" stroke-width=\"3.2\"/>\n",
       "<circle clip-path=\"url(#clip883)\" cx=\"1642.65\" cy=\"851.348\" r=\"14\" fill=\"#e26f46\" fill-rule=\"evenodd\" fill-opacity=\"1\" stroke=\"#000000\" stroke-opacity=\"1\" stroke-width=\"3.2\"/>\n",
       "<circle clip-path=\"url(#clip883)\" cx=\"1814.61\" cy=\"808.108\" r=\"14\" fill=\"#e26f46\" fill-rule=\"evenodd\" fill-opacity=\"1\" stroke=\"#000000\" stroke-opacity=\"1\" stroke-width=\"3.2\"/>\n",
       "<circle clip-path=\"url(#clip883)\" cx=\"1758.06\" cy=\"686.099\" r=\"14\" fill=\"#e26f46\" fill-rule=\"evenodd\" fill-opacity=\"1\" stroke=\"#000000\" stroke-opacity=\"1\" stroke-width=\"3.2\"/>\n",
       "<circle clip-path=\"url(#clip883)\" cx=\"1829.56\" cy=\"1078.34\" r=\"14\" fill=\"#e26f46\" fill-rule=\"evenodd\" fill-opacity=\"1\" stroke=\"#000000\" stroke-opacity=\"1\" stroke-width=\"3.2\"/>\n",
       "<circle clip-path=\"url(#clip883)\" cx=\"1730.18\" cy=\"789.564\" r=\"14\" fill=\"#e26f46\" fill-rule=\"evenodd\" fill-opacity=\"1\" stroke=\"#000000\" stroke-opacity=\"1\" stroke-width=\"3.2\"/>\n",
       "<circle clip-path=\"url(#clip883)\" cx=\"1677.89\" cy=\"541.368\" r=\"14\" fill=\"#e26f46\" fill-rule=\"evenodd\" fill-opacity=\"1\" stroke=\"#000000\" stroke-opacity=\"1\" stroke-width=\"3.2\"/>\n",
       "<circle clip-path=\"url(#clip883)\" cx=\"1872.7\" cy=\"1175.34\" r=\"14\" fill=\"#e26f46\" fill-rule=\"evenodd\" fill-opacity=\"1\" stroke=\"#000000\" stroke-opacity=\"1\" stroke-width=\"3.2\"/>\n",
       "<circle clip-path=\"url(#clip883)\" cx=\"1778.12\" cy=\"1042.04\" r=\"14\" fill=\"#e26f46\" fill-rule=\"evenodd\" fill-opacity=\"1\" stroke=\"#000000\" stroke-opacity=\"1\" stroke-width=\"3.2\"/>\n",
       "<circle clip-path=\"url(#clip883)\" cx=\"1665.56\" cy=\"1198.05\" r=\"14\" fill=\"#e26f46\" fill-rule=\"evenodd\" fill-opacity=\"1\" stroke=\"#000000\" stroke-opacity=\"1\" stroke-width=\"3.2\"/>\n",
       "<circle clip-path=\"url(#clip883)\" cx=\"1823.95\" cy=\"965.499\" r=\"14\" fill=\"#e26f46\" fill-rule=\"evenodd\" fill-opacity=\"1\" stroke=\"#000000\" stroke-opacity=\"1\" stroke-width=\"3.2\"/>\n",
       "<circle clip-path=\"url(#clip883)\" cx=\"1624.55\" cy=\"620.37\" r=\"14\" fill=\"#e26f46\" fill-rule=\"evenodd\" fill-opacity=\"1\" stroke=\"#000000\" stroke-opacity=\"1\" stroke-width=\"3.2\"/>\n",
       "<circle clip-path=\"url(#clip883)\" cx=\"1845.05\" cy=\"1152.35\" r=\"14\" fill=\"#e26f46\" fill-rule=\"evenodd\" fill-opacity=\"1\" stroke=\"#000000\" stroke-opacity=\"1\" stroke-width=\"3.2\"/>\n",
       "<circle clip-path=\"url(#clip883)\" cx=\"1651.42\" cy=\"885.18\" r=\"14\" fill=\"#e26f46\" fill-rule=\"evenodd\" fill-opacity=\"1\" stroke=\"#000000\" stroke-opacity=\"1\" stroke-width=\"3.2\"/>\n",
       "<circle clip-path=\"url(#clip883)\" cx=\"1769.71\" cy=\"1004.99\" r=\"14\" fill=\"#e26f46\" fill-rule=\"evenodd\" fill-opacity=\"1\" stroke=\"#000000\" stroke-opacity=\"1\" stroke-width=\"3.2\"/>\n",
       "<circle clip-path=\"url(#clip883)\" cx=\"1569.55\" cy=\"743.582\" r=\"14\" fill=\"#3da44d\" fill-rule=\"evenodd\" fill-opacity=\"1\" stroke=\"#000000\" stroke-opacity=\"1\" stroke-width=\"3.2\"/>\n",
       "<circle clip-path=\"url(#clip883)\" cx=\"1531.54\" cy=\"692.544\" r=\"14\" fill=\"#3da44d\" fill-rule=\"evenodd\" fill-opacity=\"1\" stroke=\"#000000\" stroke-opacity=\"1\" stroke-width=\"3.2\"/>\n",
       "<circle clip-path=\"url(#clip883)\" cx=\"1317.16\" cy=\"513.99\" r=\"14\" fill=\"#3da44d\" fill-rule=\"evenodd\" fill-opacity=\"1\" stroke=\"#000000\" stroke-opacity=\"1\" stroke-width=\"3.2\"/>\n",
       "<circle clip-path=\"url(#clip883)\" cx=\"1608\" cy=\"634.612\" r=\"14\" fill=\"#3da44d\" fill-rule=\"evenodd\" fill-opacity=\"1\" stroke=\"#000000\" stroke-opacity=\"1\" stroke-width=\"3.2\"/>\n",
       "<circle clip-path=\"url(#clip883)\" cx=\"1529.36\" cy=\"893.21\" r=\"14\" fill=\"#3da44d\" fill-rule=\"evenodd\" fill-opacity=\"1\" stroke=\"#000000\" stroke-opacity=\"1\" stroke-width=\"3.2\"/>\n",
       "<circle clip-path=\"url(#clip883)\" cx=\"1566.76\" cy=\"540.674\" r=\"14\" fill=\"#3da44d\" fill-rule=\"evenodd\" fill-opacity=\"1\" stroke=\"#000000\" stroke-opacity=\"1\" stroke-width=\"3.2\"/>\n",
       "<circle clip-path=\"url(#clip883)\" cx=\"1647.24\" cy=\"1093.52\" r=\"14\" fill=\"#3da44d\" fill-rule=\"evenodd\" fill-opacity=\"1\" stroke=\"#000000\" stroke-opacity=\"1\" stroke-width=\"3.2\"/>\n",
       "<circle clip-path=\"url(#clip883)\" cx=\"1406.95\" cy=\"572.632\" r=\"14\" fill=\"#3da44d\" fill-rule=\"evenodd\" fill-opacity=\"1\" stroke=\"#000000\" stroke-opacity=\"1\" stroke-width=\"3.2\"/>\n",
       "<circle clip-path=\"url(#clip883)\" cx=\"1559.11\" cy=\"872.314\" r=\"14\" fill=\"#3da44d\" fill-rule=\"evenodd\" fill-opacity=\"1\" stroke=\"#000000\" stroke-opacity=\"1\" stroke-width=\"3.2\"/>\n",
       "<circle clip-path=\"url(#clip883)\" cx=\"1629.58\" cy=\"981.229\" r=\"14\" fill=\"#3da44d\" fill-rule=\"evenodd\" fill-opacity=\"1\" stroke=\"#000000\" stroke-opacity=\"1\" stroke-width=\"3.2\"/>\n",
       "<circle clip-path=\"url(#clip883)\" cx=\"1681.43\" cy=\"1110.74\" r=\"14\" fill=\"#3da44d\" fill-rule=\"evenodd\" fill-opacity=\"1\" stroke=\"#000000\" stroke-opacity=\"1\" stroke-width=\"3.2\"/>\n",
       "<circle clip-path=\"url(#clip883)\" cx=\"1563.35\" cy=\"665.295\" r=\"14\" fill=\"#3da44d\" fill-rule=\"evenodd\" fill-opacity=\"1\" stroke=\"#000000\" stroke-opacity=\"1\" stroke-width=\"3.2\"/>\n",
       "</svg>\n"
      ],
      "image/svg+xml": [
       "<?xml version=\"1.0\" encoding=\"utf-8\"?>\n",
       "<svg xmlns=\"http://www.w3.org/2000/svg\" xmlns:xlink=\"http://www.w3.org/1999/xlink\" width=\"600\" height=\"400\" viewBox=\"0 0 2400 1600\">\n",
       "<defs>\n",
       "  <clipPath id=\"clip850\">\n",
       "    <rect x=\"0\" y=\"0\" width=\"2400\" height=\"1600\"/>\n",
       "  </clipPath>\n",
       "</defs>\n",
       "<path clip-path=\"url(#clip850)\" d=\"\n",
       "M0 1600 L2400 1600 L2400 0 L0 0  Z\n",
       "  \" fill=\"#ffffff\" fill-rule=\"evenodd\" fill-opacity=\"1\"/>\n",
       "<defs>\n",
       "  <clipPath id=\"clip851\">\n",
       "    <rect x=\"480\" y=\"0\" width=\"1681\" height=\"1600\"/>\n",
       "  </clipPath>\n",
       "</defs>\n",
       "<path clip-path=\"url(#clip850)\" d=\"\n",
       "M86.9921 1521.01 L1152.76 1521.01 L1152.76 62.9921 L86.9921 62.9921  Z\n",
       "  \" fill=\"#ffffff\" fill-rule=\"evenodd\" fill-opacity=\"1\"/>\n",
       "<defs>\n",
       "  <clipPath id=\"clip852\">\n",
       "    <rect x=\"86\" y=\"62\" width=\"1067\" height=\"1459\"/>\n",
       "  </clipPath>\n",
       "</defs>\n",
       "<polyline clip-path=\"url(#clip852)\" style=\"stroke:#000000; stroke-width:2; stroke-opacity:0.1; fill:none\" points=\"\n",
       "  196.189,1521.01 196.189,62.9921 \n",
       "  \"/>\n",
       "<polyline clip-path=\"url(#clip852)\" style=\"stroke:#000000; stroke-width:2; stroke-opacity:0.1; fill:none\" points=\"\n",
       "  354.489,1521.01 354.489,62.9921 \n",
       "  \"/>\n",
       "<polyline clip-path=\"url(#clip852)\" style=\"stroke:#000000; stroke-width:2; stroke-opacity:0.1; fill:none\" points=\"\n",
       "  512.789,1521.01 512.789,62.9921 \n",
       "  \"/>\n",
       "<polyline clip-path=\"url(#clip852)\" style=\"stroke:#000000; stroke-width:2; stroke-opacity:0.1; fill:none\" points=\"\n",
       "  671.088,1521.01 671.088,62.9921 \n",
       "  \"/>\n",
       "<polyline clip-path=\"url(#clip852)\" style=\"stroke:#000000; stroke-width:2; stroke-opacity:0.1; fill:none\" points=\"\n",
       "  829.388,1521.01 829.388,62.9921 \n",
       "  \"/>\n",
       "<polyline clip-path=\"url(#clip852)\" style=\"stroke:#000000; stroke-width:2; stroke-opacity:0.1; fill:none\" points=\"\n",
       "  987.688,1521.01 987.688,62.9921 \n",
       "  \"/>\n",
       "<polyline clip-path=\"url(#clip852)\" style=\"stroke:#000000; stroke-width:2; stroke-opacity:0.1; fill:none\" points=\"\n",
       "  1145.99,1521.01 1145.99,62.9921 \n",
       "  \"/>\n",
       "<polyline clip-path=\"url(#clip850)\" style=\"stroke:#000000; stroke-width:4; stroke-opacity:1; fill:none\" points=\"\n",
       "  86.9921,1521.01 1152.76,1521.01 \n",
       "  \"/>\n",
       "<polyline clip-path=\"url(#clip850)\" style=\"stroke:#000000; stroke-width:4; stroke-opacity:1; fill:none\" points=\"\n",
       "  196.189,1521.01 196.189,1503.51 \n",
       "  \"/>\n",
       "<polyline clip-path=\"url(#clip850)\" style=\"stroke:#000000; stroke-width:4; stroke-opacity:1; fill:none\" points=\"\n",
       "  354.489,1521.01 354.489,1503.51 \n",
       "  \"/>\n",
       "<polyline clip-path=\"url(#clip850)\" style=\"stroke:#000000; stroke-width:4; stroke-opacity:1; fill:none\" points=\"\n",
       "  512.789,1521.01 512.789,1503.51 \n",
       "  \"/>\n",
       "<polyline clip-path=\"url(#clip850)\" style=\"stroke:#000000; stroke-width:4; stroke-opacity:1; fill:none\" points=\"\n",
       "  671.088,1521.01 671.088,1503.51 \n",
       "  \"/>\n",
       "<polyline clip-path=\"url(#clip850)\" style=\"stroke:#000000; stroke-width:4; stroke-opacity:1; fill:none\" points=\"\n",
       "  829.388,1521.01 829.388,1503.51 \n",
       "  \"/>\n",
       "<polyline clip-path=\"url(#clip850)\" style=\"stroke:#000000; stroke-width:4; stroke-opacity:1; fill:none\" points=\"\n",
       "  987.688,1521.01 987.688,1503.51 \n",
       "  \"/>\n",
       "<polyline clip-path=\"url(#clip850)\" style=\"stroke:#000000; stroke-width:4; stroke-opacity:1; fill:none\" points=\"\n",
       "  1145.99,1521.01 1145.99,1503.51 \n",
       "  \"/>\n",
       "<path clip-path=\"url(#clip850)\" d=\"M 0 0 M175.173 1558.69 L197.43 1558.69 L197.43 1561.64 L175.173 1561.64 L175.173 1558.69 Z\" fill=\"#000000\" fill-rule=\"evenodd\" fill-opacity=\"1\" /><path clip-path=\"url(#clip850)\" d=\"M 0 0 M211.857 1557.34 Q214.375 1557.87 215.781 1559.58 Q217.204 1561.28 217.204 1563.78 Q217.204 1567.61 214.566 1569.71 Q211.927 1571.82 207.066 1571.82 Q205.434 1571.82 203.698 1571.49 Q201.979 1571.17 200.139 1570.53 L200.139 1567.15 Q201.597 1568 203.333 1568.43 Q205.069 1568.86 206.961 1568.86 Q210.26 1568.86 211.979 1567.56 Q213.715 1566.26 213.715 1563.78 Q213.715 1561.49 212.1 1560.2 Q210.503 1558.9 207.638 1558.9 L204.618 1558.9 L204.618 1556.02 L207.777 1556.02 Q210.364 1556.02 211.736 1554.99 Q213.107 1553.95 213.107 1552.01 Q213.107 1550.01 211.684 1548.95 Q210.277 1547.87 207.638 1547.87 Q206.198 1547.87 204.548 1548.19 Q202.899 1548.5 200.92 1549.16 L200.92 1546.03 Q202.916 1545.48 204.652 1545.2 Q206.406 1544.92 207.951 1544.92 Q211.944 1544.92 214.27 1546.75 Q216.597 1548.55 216.597 1551.64 Q216.597 1553.79 215.364 1555.29 Q214.131 1556.76 211.857 1557.34 Z\" fill=\"#000000\" fill-rule=\"evenodd\" fill-opacity=\"1\" /><path clip-path=\"url(#clip850)\" d=\"M 0 0 M333.829 1558.69 L356.086 1558.69 L356.086 1561.64 L333.829 1561.64 L333.829 1558.69 Z\" fill=\"#000000\" fill-rule=\"evenodd\" fill-opacity=\"1\" /><path clip-path=\"url(#clip850)\" d=\"M 0 0 M362.909 1568.36 L375.148 1568.36 L375.148 1571.31 L358.69 1571.31 L358.69 1568.36 Q360.687 1566.29 364.124 1562.82 Q367.579 1559.33 368.464 1558.33 Q370.148 1556.43 370.808 1555.13 Q371.485 1553.81 371.485 1552.54 Q371.485 1550.48 370.027 1549.18 Q368.586 1547.87 366.259 1547.87 Q364.61 1547.87 362.77 1548.45 Q360.947 1549.02 358.864 1550.18 L358.864 1546.64 Q360.982 1545.79 362.822 1545.36 Q364.662 1544.92 366.19 1544.92 Q370.218 1544.92 372.614 1546.94 Q375.009 1548.95 375.009 1552.32 Q375.009 1553.92 374.402 1555.36 Q373.812 1556.78 372.232 1558.73 Q371.798 1559.23 369.471 1561.64 Q367.145 1564.04 362.909 1568.36 Z\" fill=\"#000000\" fill-rule=\"evenodd\" fill-opacity=\"1\" /><path clip-path=\"url(#clip850)\" d=\"M 0 0 M491.99 1558.69 L514.247 1558.69 L514.247 1561.64 L491.99 1561.64 L491.99 1558.69 Z\" fill=\"#000000\" fill-rule=\"evenodd\" fill-opacity=\"1\" /><path clip-path=\"url(#clip850)\" d=\"M 0 0 M518.657 1568.36 L524.386 1568.36 L524.386 1548.59 L518.153 1549.84 L518.153 1546.64 L524.351 1545.39 L527.858 1545.39 L527.858 1568.36 L533.587 1568.36 L533.587 1571.31 L518.657 1571.31 L518.657 1568.36 Z\" fill=\"#000000\" fill-rule=\"evenodd\" fill-opacity=\"1\" /><path clip-path=\"url(#clip850)\" d=\"M 0 0 M671.088 1547.7 Q668.38 1547.7 667.008 1550.37 Q665.654 1553.03 665.654 1558.38 Q665.654 1563.71 667.008 1566.38 Q668.38 1569.04 671.088 1569.04 Q673.814 1569.04 675.168 1566.38 Q676.54 1563.71 676.54 1558.38 Q676.54 1553.03 675.168 1550.37 Q673.814 1547.7 671.088 1547.7 M671.088 1544.92 Q675.446 1544.92 677.738 1548.38 Q680.047 1551.82 680.047 1558.38 Q680.047 1564.92 677.738 1568.38 Q675.446 1571.82 671.088 1571.82 Q666.731 1571.82 664.422 1568.38 Q662.13 1564.92 662.13 1558.38 Q662.13 1551.82 664.422 1548.38 Q666.731 1544.92 671.088 1544.92 Z\" fill=\"#000000\" fill-rule=\"evenodd\" fill-opacity=\"1\" /><path clip-path=\"url(#clip850)\" d=\"M 0 0 M822.175 1568.36 L827.904 1568.36 L827.904 1548.59 L821.671 1549.84 L821.671 1546.64 L827.869 1545.39 L831.376 1545.39 L831.376 1568.36 L837.105 1568.36 L837.105 1571.31 L822.175 1571.31 L822.175 1568.36 Z\" fill=\"#000000\" fill-rule=\"evenodd\" fill-opacity=\"1\" /><path clip-path=\"url(#clip850)\" d=\"M 0 0 M983.678 1568.36 L995.917 1568.36 L995.917 1571.31 L979.459 1571.31 L979.459 1568.36 Q981.455 1566.29 984.893 1562.82 Q988.348 1559.33 989.233 1558.33 Q990.917 1556.43 991.577 1555.13 Q992.254 1553.81 992.254 1552.54 Q992.254 1550.48 990.796 1549.18 Q989.355 1547.87 987.028 1547.87 Q985.379 1547.87 983.539 1548.45 Q981.716 1549.02 979.632 1550.18 L979.632 1546.64 Q981.75 1545.79 983.591 1545.36 Q985.431 1544.92 986.959 1544.92 Q990.987 1544.92 993.382 1546.94 Q995.778 1548.95 995.778 1552.32 Q995.778 1553.92 995.171 1555.36 Q994.58 1556.78 993 1558.73 Q992.566 1559.23 990.24 1561.64 Q987.914 1564.04 983.678 1568.36 Z\" fill=\"#000000\" fill-rule=\"evenodd\" fill-opacity=\"1\" /><path clip-path=\"url(#clip850)\" d=\"M 0 0 M1149.17 1557.34 Q1151.69 1557.87 1153.1 1559.58 Q1154.52 1561.28 1154.52 1563.78 Q1154.52 1567.61 1151.88 1569.71 Q1149.24 1571.82 1144.38 1571.82 Q1142.75 1571.82 1141.01 1571.49 Q1139.3 1571.17 1137.45 1570.53 L1137.45 1567.15 Q1138.91 1568 1140.65 1568.43 Q1142.39 1568.86 1144.28 1568.86 Q1147.58 1568.86 1149.3 1567.56 Q1151.03 1566.26 1151.03 1563.78 Q1151.03 1561.49 1149.42 1560.2 Q1147.82 1558.9 1144.95 1558.9 L1141.93 1558.9 L1141.93 1556.02 L1145.09 1556.02 Q1147.68 1556.02 1149.05 1554.99 Q1150.42 1553.95 1150.42 1552.01 Q1150.42 1550.01 1149 1548.95 Q1147.59 1547.87 1144.95 1547.87 Q1143.51 1547.87 1141.86 1548.19 Q1140.22 1548.5 1138.24 1549.16 L1138.24 1546.03 Q1140.23 1545.48 1141.97 1545.2 Q1143.72 1544.92 1145.27 1544.92 Q1149.26 1544.92 1151.59 1546.75 Q1153.91 1548.55 1153.91 1551.64 Q1153.91 1553.79 1152.68 1555.29 Q1151.45 1556.76 1149.17 1557.34 Z\" fill=\"#000000\" fill-rule=\"evenodd\" fill-opacity=\"1\" /><polyline clip-path=\"url(#clip852)\" style=\"stroke:#000000; stroke-width:2; stroke-opacity:0.1; fill:none\" points=\"\n",
       "  86.9921,1332.3 1152.76,1332.3 \n",
       "  \"/>\n",
       "<polyline clip-path=\"url(#clip852)\" style=\"stroke:#000000; stroke-width:2; stroke-opacity:0.1; fill:none\" points=\"\n",
       "  86.9921,1051.43 1152.76,1051.43 \n",
       "  \"/>\n",
       "<polyline clip-path=\"url(#clip852)\" style=\"stroke:#000000; stroke-width:2; stroke-opacity:0.1; fill:none\" points=\"\n",
       "  86.9921,770.571 1152.76,770.571 \n",
       "  \"/>\n",
       "<polyline clip-path=\"url(#clip852)\" style=\"stroke:#000000; stroke-width:2; stroke-opacity:0.1; fill:none\" points=\"\n",
       "  86.9921,489.709 1152.76,489.709 \n",
       "  \"/>\n",
       "<polyline clip-path=\"url(#clip852)\" style=\"stroke:#000000; stroke-width:2; stroke-opacity:0.1; fill:none\" points=\"\n",
       "  86.9921,208.847 1152.76,208.847 \n",
       "  \"/>\n",
       "<polyline clip-path=\"url(#clip850)\" style=\"stroke:#000000; stroke-width:4; stroke-opacity:1; fill:none\" points=\"\n",
       "  86.9921,1521.01 86.9921,62.9921 \n",
       "  \"/>\n",
       "<polyline clip-path=\"url(#clip850)\" style=\"stroke:#000000; stroke-width:4; stroke-opacity:1; fill:none\" points=\"\n",
       "  86.9921,1332.3 99.7813,1332.3 \n",
       "  \"/>\n",
       "<polyline clip-path=\"url(#clip850)\" style=\"stroke:#000000; stroke-width:4; stroke-opacity:1; fill:none\" points=\"\n",
       "  86.9921,1051.43 99.7813,1051.43 \n",
       "  \"/>\n",
       "<polyline clip-path=\"url(#clip850)\" style=\"stroke:#000000; stroke-width:4; stroke-opacity:1; fill:none\" points=\"\n",
       "  86.9921,770.571 99.7813,770.571 \n",
       "  \"/>\n",
       "<polyline clip-path=\"url(#clip850)\" style=\"stroke:#000000; stroke-width:4; stroke-opacity:1; fill:none\" points=\"\n",
       "  86.9921,489.709 99.7813,489.709 \n",
       "  \"/>\n",
       "<polyline clip-path=\"url(#clip850)\" style=\"stroke:#000000; stroke-width:4; stroke-opacity:1; fill:none\" points=\"\n",
       "  86.9921,208.847 99.7813,208.847 \n",
       "  \"/>\n",
       "<path clip-path=\"url(#clip850)\" d=\"M 0 0 M-41.4379 1332.75 L-11.7622 1332.75 L-11.7622 1336.68 L-41.4379 1336.68 L-41.4379 1332.75 Z\" fill=\"#000000\" fill-rule=\"evenodd\" fill-opacity=\"1\" /><path clip-path=\"url(#clip850)\" d=\"M 0 0 M-5.88257 1345.64 L1.75628 1345.64 L1.75628 1319.27 L-6.55386 1320.94 L-6.55386 1316.68 L1.70998 1315.02 L6.38588 1315.02 L6.38588 1345.64 L14.0247 1345.64 L14.0247 1349.58 L-5.88257 1349.58 L-5.88257 1345.64 Z\" fill=\"#000000\" fill-rule=\"evenodd\" fill-opacity=\"1\" /><path clip-path=\"url(#clip850)\" d=\"M 0 0 M19.0941 1343.7 L23.9784 1343.7 L23.9784 1349.58 L19.0941 1349.58 L19.0941 1343.7 Z\" fill=\"#000000\" fill-rule=\"evenodd\" fill-opacity=\"1\" /><path clip-path=\"url(#clip850)\" d=\"M 0 0 M39.0477 1318.09 Q35.4367 1318.09 33.608 1321.66 Q31.8024 1325.2 31.8024 1332.33 Q31.8024 1339.44 33.608 1343 Q35.4367 1346.54 39.0477 1346.54 Q42.682 1346.54 44.4875 1343 Q46.3162 1339.44 46.3162 1332.33 Q46.3162 1325.2 44.4875 1321.66 Q42.682 1318.09 39.0477 1318.09 M39.0477 1314.39 Q44.8579 1314.39 47.9134 1319 Q50.9921 1323.58 50.9921 1332.33 Q50.9921 1341.06 47.9134 1345.66 Q44.8579 1350.25 39.0477 1350.25 Q33.2376 1350.25 30.1589 1345.66 Q27.1034 1341.06 27.1034 1332.33 Q27.1034 1323.58 30.1589 1319 Q33.2376 1314.39 39.0477 1314.39 Z\" fill=\"#000000\" fill-rule=\"evenodd\" fill-opacity=\"1\" /><path clip-path=\"url(#clip850)\" d=\"M 0 0 M-41.6694 1051.88 L-11.9936 1051.88 L-11.9936 1055.82 L-41.6694 1055.82 L-41.6694 1051.88 Z\" fill=\"#000000\" fill-rule=\"evenodd\" fill-opacity=\"1\" /><path clip-path=\"url(#clip850)\" d=\"M 0 0 M3.07572 1037.23 Q-0.535376 1037.23 -2.36407 1040.8 Q-4.16962 1044.34 -4.16962 1051.47 Q-4.16962 1058.57 -2.36407 1062.14 Q-0.535376 1065.68 3.07572 1065.68 Q6.70996 1065.68 8.5155 1062.14 Q10.3442 1058.57 10.3442 1051.47 Q10.3442 1044.34 8.5155 1040.8 Q6.70996 1037.23 3.07572 1037.23 M3.07572 1033.53 Q8.88587 1033.53 11.9414 1038.13 Q15.0201 1042.72 15.0201 1051.47 Q15.0201 1060.19 11.9414 1064.8 Q8.88587 1069.38 3.07572 1069.38 Q-2.73444 1069.38 -5.81313 1064.8 Q-8.86866 1060.19 -8.86866 1051.47 Q-8.86866 1042.72 -5.81313 1038.13 Q-2.73444 1033.53 3.07572 1033.53 Z\" fill=\"#000000\" fill-rule=\"evenodd\" fill-opacity=\"1\" /><path clip-path=\"url(#clip850)\" d=\"M 0 0 M20.0895 1062.83 L24.9737 1062.83 L24.9737 1068.71 L20.0895 1068.71 L20.0895 1062.83 Z\" fill=\"#000000\" fill-rule=\"evenodd\" fill-opacity=\"1\" /><path clip-path=\"url(#clip850)\" d=\"M 0 0 M30.0895 1034.15 L48.4458 1034.15 L48.4458 1038.09 L34.3718 1038.09 L34.3718 1046.56 Q35.3904 1046.21 36.4089 1046.05 Q37.4274 1045.87 38.4459 1045.87 Q44.2329 1045.87 47.6125 1049.04 Q50.9921 1052.21 50.9921 1057.63 Q50.9921 1063.2 47.5199 1066.31 Q44.0477 1069.38 37.7283 1069.38 Q35.5524 1069.38 33.2839 1069.01 Q31.0385 1068.64 28.6311 1067.9 L28.6311 1063.2 Q30.7145 1064.34 32.9367 1064.89 Q35.1589 1065.45 37.6357 1065.45 Q41.6403 1065.45 43.9783 1063.34 Q46.3162 1061.24 46.3162 1057.63 Q46.3162 1054.01 43.9783 1051.91 Q41.6403 1049.8 37.6357 1049.8 Q35.7607 1049.8 33.8857 1050.22 Q32.0339 1050.63 30.0895 1051.51 L30.0895 1034.15 Z\" fill=\"#000000\" fill-rule=\"evenodd\" fill-opacity=\"1\" /><path clip-path=\"url(#clip850)\" d=\"M 0 0 M2.08035 756.37 Q-1.53074 756.37 -3.35943 759.935 Q-5.16498 763.476 -5.16498 770.606 Q-5.16498 777.712 -3.35943 781.277 Q-1.53074 784.819 2.08035 784.819 Q5.71459 784.819 7.52014 781.277 Q9.34883 777.712 9.34883 770.606 Q9.34883 763.476 7.52014 759.935 Q5.71459 756.37 2.08035 756.37 M2.08035 752.666 Q7.89051 752.666 10.946 757.273 Q14.0247 761.856 14.0247 770.606 Q14.0247 779.333 10.946 783.939 Q7.89051 788.522 2.08035 788.522 Q-3.7298 788.522 -6.80849 783.939 Q-9.86403 779.333 -9.86403 770.606 Q-9.86403 761.856 -6.80849 757.273 Q-3.7298 752.666 2.08035 752.666 Z\" fill=\"#000000\" fill-rule=\"evenodd\" fill-opacity=\"1\" /><path clip-path=\"url(#clip850)\" d=\"M 0 0 M19.0941 781.971 L23.9784 781.971 L23.9784 787.851 L19.0941 787.851 L19.0941 781.971 Z\" fill=\"#000000\" fill-rule=\"evenodd\" fill-opacity=\"1\" /><path clip-path=\"url(#clip850)\" d=\"M 0 0 M39.0477 756.37 Q35.4367 756.37 33.608 759.935 Q31.8024 763.476 31.8024 770.606 Q31.8024 777.712 33.608 781.277 Q35.4367 784.819 39.0477 784.819 Q42.682 784.819 44.4875 781.277 Q46.3162 777.712 46.3162 770.606 Q46.3162 763.476 44.4875 759.935 Q42.682 756.37 39.0477 756.37 M39.0477 752.666 Q44.8579 752.666 47.9134 757.273 Q50.9921 761.856 50.9921 770.606 Q50.9921 779.333 47.9134 783.939 Q44.8579 788.522 39.0477 788.522 Q33.2376 788.522 30.1589 783.939 Q27.1034 779.333 27.1034 770.606 Q27.1034 761.856 30.1589 757.273 Q33.2376 752.666 39.0477 752.666 Z\" fill=\"#000000\" fill-rule=\"evenodd\" fill-opacity=\"1\" /><path clip-path=\"url(#clip850)\" d=\"M 0 0 M3.07572 475.508 Q-0.535376 475.508 -2.36407 479.072 Q-4.16962 482.614 -4.16962 489.744 Q-4.16962 496.85 -2.36407 500.415 Q-0.535376 503.957 3.07572 503.957 Q6.70996 503.957 8.5155 500.415 Q10.3442 496.85 10.3442 489.744 Q10.3442 482.614 8.5155 479.072 Q6.70996 475.508 3.07572 475.508 M3.07572 471.804 Q8.88587 471.804 11.9414 476.41 Q15.0201 480.994 15.0201 489.744 Q15.0201 498.471 11.9414 503.077 Q8.88587 507.66 3.07572 507.66 Q-2.73444 507.66 -5.81313 503.077 Q-8.86866 498.471 -8.86866 489.744 Q-8.86866 480.994 -5.81313 476.41 Q-2.73444 471.804 3.07572 471.804 Z\" fill=\"#000000\" fill-rule=\"evenodd\" fill-opacity=\"1\" /><path clip-path=\"url(#clip850)\" d=\"M 0 0 M20.0895 501.109 L24.9737 501.109 L24.9737 506.989 L20.0895 506.989 L20.0895 501.109 Z\" fill=\"#000000\" fill-rule=\"evenodd\" fill-opacity=\"1\" /><path clip-path=\"url(#clip850)\" d=\"M 0 0 M30.0895 472.429 L48.4458 472.429 L48.4458 476.364 L34.3718 476.364 L34.3718 484.836 Q35.3904 484.489 36.4089 484.327 Q37.4274 484.142 38.4459 484.142 Q44.2329 484.142 47.6125 487.313 Q50.9921 490.484 50.9921 495.901 Q50.9921 501.48 47.5199 504.582 Q44.0477 507.66 37.7283 507.66 Q35.5524 507.66 33.2839 507.29 Q31.0385 506.92 28.6311 506.179 L28.6311 501.48 Q30.7145 502.614 32.9367 503.17 Q35.1589 503.725 37.6357 503.725 Q41.6403 503.725 43.9783 501.619 Q46.3162 499.512 46.3162 495.901 Q46.3162 492.29 43.9783 490.184 Q41.6403 488.077 37.6357 488.077 Q35.7607 488.077 33.8857 488.494 Q32.0339 488.91 30.0895 489.79 L30.0895 472.429 Z\" fill=\"#000000\" fill-rule=\"evenodd\" fill-opacity=\"1\" /><path clip-path=\"url(#clip850)\" d=\"M 0 0 M-5.88257 222.192 L1.75628 222.192 L1.75628 195.826 L-6.55386 197.493 L-6.55386 193.234 L1.70998 191.567 L6.38588 191.567 L6.38588 222.192 L14.0247 222.192 L14.0247 226.127 L-5.88257 226.127 L-5.88257 222.192 Z\" fill=\"#000000\" fill-rule=\"evenodd\" fill-opacity=\"1\" /><path clip-path=\"url(#clip850)\" d=\"M 0 0 M19.0941 220.247 L23.9784 220.247 L23.9784 226.127 L19.0941 226.127 L19.0941 220.247 Z\" fill=\"#000000\" fill-rule=\"evenodd\" fill-opacity=\"1\" /><path clip-path=\"url(#clip850)\" d=\"M 0 0 M39.0477 194.646 Q35.4367 194.646 33.608 198.21 Q31.8024 201.752 31.8024 208.882 Q31.8024 215.988 33.608 219.553 Q35.4367 223.095 39.0477 223.095 Q42.682 223.095 44.4875 219.553 Q46.3162 215.988 46.3162 208.882 Q46.3162 201.752 44.4875 198.21 Q42.682 194.646 39.0477 194.646 M39.0477 190.942 Q44.8579 190.942 47.9134 195.548 Q50.9921 200.132 50.9921 208.882 Q50.9921 217.608 47.9134 222.215 Q44.8579 226.798 39.0477 226.798 Q33.2376 226.798 30.1589 222.215 Q27.1034 217.608 27.1034 208.882 Q27.1034 200.132 30.1589 195.548 Q33.2376 190.942 39.0477 190.942 Z\" fill=\"#000000\" fill-rule=\"evenodd\" fill-opacity=\"1\" /><path clip-path=\"url(#clip850)\" d=\"M 0 0 M410.581 6.912 L430.442 6.912 L430.442 10.8472 L415.257 10.8472 L415.257 21.0323 L428.961 21.0323 L428.961 24.9675 L415.257 24.9675 L415.257 41.472 L410.581 41.472 L410.581 6.912 Z\" fill=\"#000000\" fill-rule=\"evenodd\" fill-opacity=\"1\" /><path clip-path=\"url(#clip850)\" d=\"M 0 0 M431.877 31.2406 L431.877 15.5462 L436.137 15.5462 L436.137 31.0785 Q436.137 34.7591 437.572 36.6109 Q439.007 38.4396 441.877 38.4396 Q445.326 38.4396 447.317 36.2405 Q449.331 34.0415 449.331 30.2452 L449.331 15.5462 L453.59 15.5462 L453.59 41.472 L449.331 41.472 L449.331 37.4905 Q447.78 39.8516 445.72 41.009 Q443.683 42.1433 440.975 42.1433 Q436.507 42.1433 434.192 39.3655 Q431.877 36.5878 431.877 31.2406 M442.595 14.9212 L442.595 14.9212 Z\" fill=\"#000000\" fill-rule=\"evenodd\" fill-opacity=\"1\" /><path clip-path=\"url(#clip850)\" d=\"M 0 0 M456.206 15.5462 L476.437 15.5462 L476.437 19.4351 L460.419 38.0692 L476.437 38.0692 L476.437 41.472 L455.627 41.472 L455.627 37.5831 L471.646 18.949 L456.206 18.949 L456.206 15.5462 Z\" fill=\"#000000\" fill-rule=\"evenodd\" fill-opacity=\"1\" /><path clip-path=\"url(#clip850)\" d=\"M 0 0 M479.053 15.5462 L499.284 15.5462 L499.284 19.4351 L483.266 38.0692 L499.284 38.0692 L499.284 41.472 L478.474 41.472 L478.474 37.5831 L494.493 18.949 L479.053 18.949 L479.053 15.5462 Z\" fill=\"#000000\" fill-rule=\"evenodd\" fill-opacity=\"1\" /><path clip-path=\"url(#clip850)\" d=\"M 0 0 M514.539 43.8794 Q512.733 48.509 511.02 49.921 Q509.307 51.3331 506.437 51.3331 L503.034 51.3331 L503.034 47.7683 L505.534 47.7683 Q507.294 47.7683 508.266 46.9349 Q509.238 46.1016 510.419 42.9998 L511.182 41.0553 L500.696 15.5462 L505.21 15.5462 L513.312 35.8239 L521.414 15.5462 L525.928 15.5462 L514.539 43.8794 Z\" fill=\"#000000\" fill-rule=\"evenodd\" fill-opacity=\"1\" /><path clip-path=\"url(#clip850)\" d=\"M 0 0 M542.131 11.5185 L535.789 28.7174 L548.497 28.7174 L542.131 11.5185 M539.493 6.912 L544.793 6.912 L557.965 41.472 L553.104 41.472 L549.955 32.6063 L534.377 32.6063 L531.229 41.472 L526.298 41.472 L539.493 6.912 Z\" fill=\"#000000\" fill-rule=\"evenodd\" fill-opacity=\"1\" /><path clip-path=\"url(#clip850)\" d=\"M 0 0 M579.006 25.2684 Q580.511 25.7776 581.923 27.4443 Q583.358 29.111 584.793 32.0276 L589.539 41.472 L584.515 41.472 L580.094 32.6063 Q578.381 29.1341 576.761 27.9998 Q575.164 26.8656 572.386 26.8656 L567.293 26.8656 L567.293 41.472 L562.617 41.472 L562.617 6.912 L573.173 6.912 Q579.099 6.912 582.015 9.38884 Q584.932 11.8657 584.932 16.8657 Q584.932 20.1295 583.404 22.2823 Q581.9 24.4351 579.006 25.2684 M567.293 10.7546 L567.293 23.023 L573.173 23.023 Q576.552 23.023 578.265 21.4721 Q580.002 19.898 580.002 16.8657 Q580.002 13.8333 578.265 12.3055 Q576.552 10.7546 573.173 10.7546 L567.293 10.7546 Z\" fill=\"#000000\" fill-rule=\"evenodd\" fill-opacity=\"1\" /><path clip-path=\"url(#clip850)\" d=\"M 0 0 M585.951 6.912 L615.187 6.912 L615.187 10.8472 L602.918 10.8472 L602.918 41.472 L598.219 41.472 L598.219 10.8472 L585.951 10.8472 L585.951 6.912 Z\" fill=\"#000000\" fill-rule=\"evenodd\" fill-opacity=\"1\" /><path clip-path=\"url(#clip850)\" d=\"M 0 0 M649.747 19.5277 Q649.029 19.111 648.172 18.9258 Q647.339 18.7175 646.321 18.7175 Q642.71 18.7175 640.765 21.0786 Q638.844 23.4165 638.844 27.8147 L638.844 41.472 L634.561 41.472 L634.561 15.5462 L638.844 15.5462 L638.844 19.574 Q640.186 17.2129 642.339 16.0786 Q644.492 14.9212 647.571 14.9212 Q648.01 14.9212 648.543 14.9907 Q649.075 15.037 649.723 15.1527 L649.747 19.5277 Z\" fill=\"#000000\" fill-rule=\"evenodd\" fill-opacity=\"1\" /><path clip-path=\"url(#clip850)\" d=\"M 0 0 M674.932 25.8239 L674.932 41.472 L670.672 41.472 L670.672 25.9628 Q670.672 22.2823 669.237 20.4536 Q667.802 18.6249 664.932 18.6249 Q661.483 18.6249 659.492 20.824 Q657.501 23.023 657.501 26.8193 L657.501 41.472 L653.219 41.472 L653.219 5.45367 L657.501 5.45367 L657.501 19.574 Q659.029 17.236 661.089 16.0786 Q663.172 14.9212 665.881 14.9212 Q670.348 14.9212 672.64 17.699 Q674.932 20.4536 674.932 25.8239 Z\" fill=\"#000000\" fill-rule=\"evenodd\" fill-opacity=\"1\" /><path clip-path=\"url(#clip850)\" d=\"M 0 0 M689.445 18.5323 Q686.019 18.5323 684.029 21.2175 Q682.038 23.8795 682.038 28.5323 Q682.038 33.185 684.006 35.8702 Q685.996 38.5322 689.445 38.5322 Q692.848 38.5322 694.839 35.847 Q696.83 33.1619 696.83 28.5323 Q696.83 23.9258 694.839 21.2406 Q692.848 18.5323 689.445 18.5323 M689.445 14.9212 Q695.001 14.9212 698.172 18.5323 Q701.343 22.1434 701.343 28.5323 Q701.343 34.898 698.172 38.5322 Q695.001 42.1433 689.445 42.1433 Q683.867 42.1433 680.695 38.5322 Q677.547 34.898 677.547 28.5323 Q677.547 22.1434 680.695 18.5323 Q683.867 14.9212 689.445 14.9212 Z\" fill=\"#000000\" fill-rule=\"evenodd\" fill-opacity=\"1\" /><path clip-path=\"url(#clip850)\" d=\"M 0 0 M721.436 19.9443 L751.112 19.9443 L751.112 23.8332 L721.436 23.8332 L721.436 19.9443 M721.436 29.3887 L751.112 29.3887 L751.112 33.3239 L721.436 33.3239 L721.436 29.3887 Z\" fill=\"#000000\" fill-rule=\"evenodd\" fill-opacity=\"1\" /><path clip-path=\"url(#clip850)\" d=\"M 0 0 M781.25 9.99069 Q777.639 9.99069 775.811 13.5555 Q774.005 17.0971 774.005 24.2267 Q774.005 31.3332 775.811 34.898 Q777.639 38.4396 781.25 38.4396 Q784.885 38.4396 786.69 34.898 Q788.519 31.3332 788.519 24.2267 Q788.519 17.0971 786.69 13.5555 Q784.885 9.99069 781.25 9.99069 M781.25 6.287 Q787.061 6.287 790.116 10.8935 Q793.195 15.4768 793.195 24.2267 Q793.195 32.9535 790.116 37.56 Q787.061 42.1433 781.25 42.1433 Q775.44 42.1433 772.362 37.56 Q769.306 32.9535 769.306 24.2267 Q769.306 15.4768 772.362 10.8935 Q775.44 6.287 781.25 6.287 Z\" fill=\"#000000\" fill-rule=\"evenodd\" fill-opacity=\"1\" /><path clip-path=\"url(#clip850)\" d=\"M 0 0 M798.264 35.5924 L803.148 35.5924 L803.148 41.472 L798.264 41.472 L798.264 35.5924 Z\" fill=\"#000000\" fill-rule=\"evenodd\" fill-opacity=\"1\" /><path clip-path=\"url(#clip850)\" d=\"M 0 0 M808.264 6.912 L826.621 6.912 L826.621 10.8472 L812.547 10.8472 L812.547 19.3193 Q813.565 18.9721 814.584 18.8101 Q815.602 18.6249 816.621 18.6249 Q822.408 18.6249 825.787 21.7962 Q829.167 24.9675 829.167 30.3841 Q829.167 35.9628 825.695 39.0646 Q822.222 42.1433 815.903 42.1433 Q813.727 42.1433 811.459 41.7729 Q809.213 41.4026 806.806 40.6618 L806.806 35.9628 Q808.889 37.097 811.111 37.6526 Q813.334 38.2081 815.81 38.2081 Q819.815 38.2081 822.153 36.1017 Q824.491 33.9952 824.491 30.3841 Q824.491 26.773 822.153 24.6665 Q819.815 22.5601 815.81 22.5601 Q813.935 22.5601 812.06 22.9767 Q810.209 23.3934 808.264 24.273 L808.264 6.912 Z\" fill=\"#000000\" fill-rule=\"evenodd\" fill-opacity=\"1\" /><circle clip-path=\"url(#clip852)\" cx=\"1044.07\" cy=\"788.102\" r=\"14\" fill=\"#009af9\" fill-rule=\"evenodd\" fill-opacity=\"1\" stroke=\"#000000\" stroke-opacity=\"1\" stroke-width=\"3.2\"/>\n",
       "<circle clip-path=\"url(#clip852)\" cx=\"1100.98\" cy=\"906.891\" r=\"14\" fill=\"#009af9\" fill-rule=\"evenodd\" fill-opacity=\"1\" stroke=\"#000000\" stroke-opacity=\"1\" stroke-width=\"3.2\"/>\n",
       "<circle clip-path=\"url(#clip852)\" cx=\"1076.71\" cy=\"560.102\" r=\"14\" fill=\"#009af9\" fill-rule=\"evenodd\" fill-opacity=\"1\" stroke=\"#000000\" stroke-opacity=\"1\" stroke-width=\"3.2\"/>\n",
       "<circle clip-path=\"url(#clip852)\" cx=\"1061.94\" cy=\"693.116\" r=\"14\" fill=\"#009af9\" fill-rule=\"evenodd\" fill-opacity=\"1\" stroke=\"#000000\" stroke-opacity=\"1\" stroke-width=\"3.2\"/>\n",
       "<circle clip-path=\"url(#clip852)\" cx=\"1082.22\" cy=\"152.662\" r=\"14\" fill=\"#009af9\" fill-rule=\"evenodd\" fill-opacity=\"1\" stroke=\"#000000\" stroke-opacity=\"1\" stroke-width=\"3.2\"/>\n",
       "<circle clip-path=\"url(#clip852)\" cx=\"1117.63\" cy=\"816.691\" r=\"14\" fill=\"#009af9\" fill-rule=\"evenodd\" fill-opacity=\"1\" stroke=\"#000000\" stroke-opacity=\"1\" stroke-width=\"3.2\"/>\n",
       "<circle clip-path=\"url(#clip852)\" cx=\"1052.6\" cy=\"535.725\" r=\"14\" fill=\"#009af9\" fill-rule=\"evenodd\" fill-opacity=\"1\" stroke=\"#000000\" stroke-opacity=\"1\" stroke-width=\"3.2\"/>\n",
       "<circle clip-path=\"url(#clip852)\" cx=\"1122.59\" cy=\"1294.58\" r=\"14\" fill=\"#009af9\" fill-rule=\"evenodd\" fill-opacity=\"1\" stroke=\"#000000\" stroke-opacity=\"1\" stroke-width=\"3.2\"/>\n",
       "<circle clip-path=\"url(#clip852)\" cx=\"1094.36\" cy=\"830.502\" r=\"14\" fill=\"#009af9\" fill-rule=\"evenodd\" fill-opacity=\"1\" stroke=\"#000000\" stroke-opacity=\"1\" stroke-width=\"3.2\"/>\n",
       "<circle clip-path=\"url(#clip852)\" cx=\"1120.71\" cy=\"894.474\" r=\"14\" fill=\"#009af9\" fill-rule=\"evenodd\" fill-opacity=\"1\" stroke=\"#000000\" stroke-opacity=\"1\" stroke-width=\"3.2\"/>\n",
       "<circle clip-path=\"url(#clip852)\" cx=\"1089.56\" cy=\"104.257\" r=\"14\" fill=\"#009af9\" fill-rule=\"evenodd\" fill-opacity=\"1\" stroke=\"#000000\" stroke-opacity=\"1\" stroke-width=\"3.2\"/>\n",
       "<circle clip-path=\"url(#clip852)\" cx=\"1080.84\" cy=\"881.452\" r=\"14\" fill=\"#009af9\" fill-rule=\"evenodd\" fill-opacity=\"1\" stroke=\"#000000\" stroke-opacity=\"1\" stroke-width=\"3.2\"/>\n",
       "<circle clip-path=\"url(#clip852)\" cx=\"1080.66\" cy=\"478.208\" r=\"14\" fill=\"#009af9\" fill-rule=\"evenodd\" fill-opacity=\"1\" stroke=\"#000000\" stroke-opacity=\"1\" stroke-width=\"3.2\"/>\n",
       "<circle clip-path=\"url(#clip852)\" cx=\"1090.21\" cy=\"309.967\" r=\"14\" fill=\"#009af9\" fill-rule=\"evenodd\" fill-opacity=\"1\" stroke=\"#000000\" stroke-opacity=\"1\" stroke-width=\"3.2\"/>\n",
       "<circle clip-path=\"url(#clip852)\" cx=\"1051.88\" cy=\"660.52\" r=\"14\" fill=\"#009af9\" fill-rule=\"evenodd\" fill-opacity=\"1\" stroke=\"#000000\" stroke-opacity=\"1\" stroke-width=\"3.2\"/>\n",
       "<circle clip-path=\"url(#clip852)\" cx=\"515.314\" cy=\"840.427\" r=\"14\" fill=\"#e26f46\" fill-rule=\"evenodd\" fill-opacity=\"1\" stroke=\"#000000\" stroke-opacity=\"1\" stroke-width=\"3.2\"/>\n",
       "<circle clip-path=\"url(#clip852)\" cx=\"751.993\" cy=\"1479.74\" r=\"14\" fill=\"#e26f46\" fill-rule=\"evenodd\" fill-opacity=\"1\" stroke=\"#000000\" stroke-opacity=\"1\" stroke-width=\"3.2\"/>\n",
       "<circle clip-path=\"url(#clip852)\" cx=\"597.791\" cy=\"1146.66\" r=\"14\" fill=\"#e26f46\" fill-rule=\"evenodd\" fill-opacity=\"1\" stroke=\"#000000\" stroke-opacity=\"1\" stroke-width=\"3.2\"/>\n",
       "<circle clip-path=\"url(#clip852)\" cx=\"790.045\" cy=\"1332.92\" r=\"14\" fill=\"#e26f46\" fill-rule=\"evenodd\" fill-opacity=\"1\" stroke=\"#000000\" stroke-opacity=\"1\" stroke-width=\"3.2\"/>\n",
       "<circle clip-path=\"url(#clip852)\" cx=\"614.609\" cy=\"808.108\" r=\"14\" fill=\"#e26f46\" fill-rule=\"evenodd\" fill-opacity=\"1\" stroke=\"#000000\" stroke-opacity=\"1\" stroke-width=\"3.2\"/>\n",
       "<circle clip-path=\"url(#clip852)\" cx=\"558.061\" cy=\"686.099\" r=\"14\" fill=\"#e26f46\" fill-rule=\"evenodd\" fill-opacity=\"1\" stroke=\"#000000\" stroke-opacity=\"1\" stroke-width=\"3.2\"/>\n",
       "<circle clip-path=\"url(#clip852)\" cx=\"629.561\" cy=\"1078.34\" r=\"14\" fill=\"#e26f46\" fill-rule=\"evenodd\" fill-opacity=\"1\" stroke=\"#000000\" stroke-opacity=\"1\" stroke-width=\"3.2\"/>\n",
       "<circle clip-path=\"url(#clip852)\" cx=\"530.176\" cy=\"789.564\" r=\"14\" fill=\"#e26f46\" fill-rule=\"evenodd\" fill-opacity=\"1\" stroke=\"#000000\" stroke-opacity=\"1\" stroke-width=\"3.2\"/>\n",
       "<circle clip-path=\"url(#clip852)\" cx=\"477.895\" cy=\"541.368\" r=\"14\" fill=\"#e26f46\" fill-rule=\"evenodd\" fill-opacity=\"1\" stroke=\"#000000\" stroke-opacity=\"1\" stroke-width=\"3.2\"/>\n",
       "<circle clip-path=\"url(#clip852)\" cx=\"672.701\" cy=\"1175.34\" r=\"14\" fill=\"#e26f46\" fill-rule=\"evenodd\" fill-opacity=\"1\" stroke=\"#000000\" stroke-opacity=\"1\" stroke-width=\"3.2\"/>\n",
       "<circle clip-path=\"url(#clip852)\" cx=\"578.123\" cy=\"1042.04\" r=\"14\" fill=\"#e26f46\" fill-rule=\"evenodd\" fill-opacity=\"1\" stroke=\"#000000\" stroke-opacity=\"1\" stroke-width=\"3.2\"/>\n",
       "<circle clip-path=\"url(#clip852)\" cx=\"465.563\" cy=\"1198.05\" r=\"14\" fill=\"#e26f46\" fill-rule=\"evenodd\" fill-opacity=\"1\" stroke=\"#000000\" stroke-opacity=\"1\" stroke-width=\"3.2\"/>\n",
       "<circle clip-path=\"url(#clip852)\" cx=\"623.945\" cy=\"965.499\" r=\"14\" fill=\"#e26f46\" fill-rule=\"evenodd\" fill-opacity=\"1\" stroke=\"#000000\" stroke-opacity=\"1\" stroke-width=\"3.2\"/>\n",
       "<circle clip-path=\"url(#clip852)\" cx=\"645.046\" cy=\"1152.35\" r=\"14\" fill=\"#e26f46\" fill-rule=\"evenodd\" fill-opacity=\"1\" stroke=\"#000000\" stroke-opacity=\"1\" stroke-width=\"3.2\"/>\n",
       "<circle clip-path=\"url(#clip852)\" cx=\"569.707\" cy=\"1004.99\" r=\"14\" fill=\"#e26f46\" fill-rule=\"evenodd\" fill-opacity=\"1\" stroke=\"#000000\" stroke-opacity=\"1\" stroke-width=\"3.2\"/>\n",
       "<circle clip-path=\"url(#clip852)\" cx=\"369.549\" cy=\"743.582\" r=\"14\" fill=\"#3da44d\" fill-rule=\"evenodd\" fill-opacity=\"1\" stroke=\"#000000\" stroke-opacity=\"1\" stroke-width=\"3.2\"/>\n",
       "<circle clip-path=\"url(#clip852)\" cx=\"442.645\" cy=\"851.348\" r=\"14\" fill=\"#3da44d\" fill-rule=\"evenodd\" fill-opacity=\"1\" stroke=\"#000000\" stroke-opacity=\"1\" stroke-width=\"3.2\"/>\n",
       "<circle clip-path=\"url(#clip852)\" cx=\"331.537\" cy=\"692.544\" r=\"14\" fill=\"#3da44d\" fill-rule=\"evenodd\" fill-opacity=\"1\" stroke=\"#000000\" stroke-opacity=\"1\" stroke-width=\"3.2\"/>\n",
       "<circle clip-path=\"url(#clip852)\" cx=\"117.155\" cy=\"513.99\" r=\"14\" fill=\"#3da44d\" fill-rule=\"evenodd\" fill-opacity=\"1\" stroke=\"#000000\" stroke-opacity=\"1\" stroke-width=\"3.2\"/>\n",
       "<circle clip-path=\"url(#clip852)\" cx=\"408.004\" cy=\"634.612\" r=\"14\" fill=\"#3da44d\" fill-rule=\"evenodd\" fill-opacity=\"1\" stroke=\"#000000\" stroke-opacity=\"1\" stroke-width=\"3.2\"/>\n",
       "<circle clip-path=\"url(#clip852)\" cx=\"329.36\" cy=\"893.21\" r=\"14\" fill=\"#3da44d\" fill-rule=\"evenodd\" fill-opacity=\"1\" stroke=\"#000000\" stroke-opacity=\"1\" stroke-width=\"3.2\"/>\n",
       "<circle clip-path=\"url(#clip852)\" cx=\"366.765\" cy=\"540.674\" r=\"14\" fill=\"#3da44d\" fill-rule=\"evenodd\" fill-opacity=\"1\" stroke=\"#000000\" stroke-opacity=\"1\" stroke-width=\"3.2\"/>\n",
       "<circle clip-path=\"url(#clip852)\" cx=\"447.241\" cy=\"1093.52\" r=\"14\" fill=\"#3da44d\" fill-rule=\"evenodd\" fill-opacity=\"1\" stroke=\"#000000\" stroke-opacity=\"1\" stroke-width=\"3.2\"/>\n",
       "<circle clip-path=\"url(#clip852)\" cx=\"206.952\" cy=\"572.632\" r=\"14\" fill=\"#3da44d\" fill-rule=\"evenodd\" fill-opacity=\"1\" stroke=\"#000000\" stroke-opacity=\"1\" stroke-width=\"3.2\"/>\n",
       "<circle clip-path=\"url(#clip852)\" cx=\"359.109\" cy=\"872.314\" r=\"14\" fill=\"#3da44d\" fill-rule=\"evenodd\" fill-opacity=\"1\" stroke=\"#000000\" stroke-opacity=\"1\" stroke-width=\"3.2\"/>\n",
       "<circle clip-path=\"url(#clip852)\" cx=\"429.576\" cy=\"981.229\" r=\"14\" fill=\"#3da44d\" fill-rule=\"evenodd\" fill-opacity=\"1\" stroke=\"#000000\" stroke-opacity=\"1\" stroke-width=\"3.2\"/>\n",
       "<circle clip-path=\"url(#clip852)\" cx=\"424.553\" cy=\"620.37\" r=\"14\" fill=\"#3da44d\" fill-rule=\"evenodd\" fill-opacity=\"1\" stroke=\"#000000\" stroke-opacity=\"1\" stroke-width=\"3.2\"/>\n",
       "<circle clip-path=\"url(#clip852)\" cx=\"451.421\" cy=\"885.18\" r=\"14\" fill=\"#3da44d\" fill-rule=\"evenodd\" fill-opacity=\"1\" stroke=\"#000000\" stroke-opacity=\"1\" stroke-width=\"3.2\"/>\n",
       "<circle clip-path=\"url(#clip852)\" cx=\"481.43\" cy=\"1110.74\" r=\"14\" fill=\"#3da44d\" fill-rule=\"evenodd\" fill-opacity=\"1\" stroke=\"#000000\" stroke-opacity=\"1\" stroke-width=\"3.2\"/>\n",
       "<circle clip-path=\"url(#clip852)\" cx=\"363.351\" cy=\"665.295\" r=\"14\" fill=\"#3da44d\" fill-rule=\"evenodd\" fill-opacity=\"1\" stroke=\"#000000\" stroke-opacity=\"1\" stroke-width=\"3.2\"/>\n",
       "<path clip-path=\"url(#clip850)\" d=\"\n",
       "M1286.99 1521.01 L2352.76 1521.01 L2352.76 62.9921 L1286.99 62.9921  Z\n",
       "  \" fill=\"#ffffff\" fill-rule=\"evenodd\" fill-opacity=\"1\"/>\n",
       "<defs>\n",
       "  <clipPath id=\"clip853\">\n",
       "    <rect x=\"1286\" y=\"62\" width=\"1067\" height=\"1459\"/>\n",
       "  </clipPath>\n",
       "</defs>\n",
       "<polyline clip-path=\"url(#clip853)\" style=\"stroke:#000000; stroke-width:2; stroke-opacity:0.1; fill:none\" points=\"\n",
       "  1396.19,1521.01 1396.19,62.9921 \n",
       "  \"/>\n",
       "<polyline clip-path=\"url(#clip853)\" style=\"stroke:#000000; stroke-width:2; stroke-opacity:0.1; fill:none\" points=\"\n",
       "  1554.49,1521.01 1554.49,62.9921 \n",
       "  \"/>\n",
       "<polyline clip-path=\"url(#clip853)\" style=\"stroke:#000000; stroke-width:2; stroke-opacity:0.1; fill:none\" points=\"\n",
       "  1712.79,1521.01 1712.79,62.9921 \n",
       "  \"/>\n",
       "<polyline clip-path=\"url(#clip853)\" style=\"stroke:#000000; stroke-width:2; stroke-opacity:0.1; fill:none\" points=\"\n",
       "  1871.09,1521.01 1871.09,62.9921 \n",
       "  \"/>\n",
       "<polyline clip-path=\"url(#clip853)\" style=\"stroke:#000000; stroke-width:2; stroke-opacity:0.1; fill:none\" points=\"\n",
       "  2029.39,1521.01 2029.39,62.9921 \n",
       "  \"/>\n",
       "<polyline clip-path=\"url(#clip853)\" style=\"stroke:#000000; stroke-width:2; stroke-opacity:0.1; fill:none\" points=\"\n",
       "  2187.69,1521.01 2187.69,62.9921 \n",
       "  \"/>\n",
       "<polyline clip-path=\"url(#clip853)\" style=\"stroke:#000000; stroke-width:2; stroke-opacity:0.1; fill:none\" points=\"\n",
       "  2345.99,1521.01 2345.99,62.9921 \n",
       "  \"/>\n",
       "<polyline clip-path=\"url(#clip850)\" style=\"stroke:#000000; stroke-width:4; stroke-opacity:1; fill:none\" points=\"\n",
       "  1286.99,1521.01 2352.76,1521.01 \n",
       "  \"/>\n",
       "<polyline clip-path=\"url(#clip850)\" style=\"stroke:#000000; stroke-width:4; stroke-opacity:1; fill:none\" points=\"\n",
       "  1396.19,1521.01 1396.19,1503.51 \n",
       "  \"/>\n",
       "<polyline clip-path=\"url(#clip850)\" style=\"stroke:#000000; stroke-width:4; stroke-opacity:1; fill:none\" points=\"\n",
       "  1554.49,1521.01 1554.49,1503.51 \n",
       "  \"/>\n",
       "<polyline clip-path=\"url(#clip850)\" style=\"stroke:#000000; stroke-width:4; stroke-opacity:1; fill:none\" points=\"\n",
       "  1712.79,1521.01 1712.79,1503.51 \n",
       "  \"/>\n",
       "<polyline clip-path=\"url(#clip850)\" style=\"stroke:#000000; stroke-width:4; stroke-opacity:1; fill:none\" points=\"\n",
       "  1871.09,1521.01 1871.09,1503.51 \n",
       "  \"/>\n",
       "<polyline clip-path=\"url(#clip850)\" style=\"stroke:#000000; stroke-width:4; stroke-opacity:1; fill:none\" points=\"\n",
       "  2029.39,1521.01 2029.39,1503.51 \n",
       "  \"/>\n",
       "<polyline clip-path=\"url(#clip850)\" style=\"stroke:#000000; stroke-width:4; stroke-opacity:1; fill:none\" points=\"\n",
       "  2187.69,1521.01 2187.69,1503.51 \n",
       "  \"/>\n",
       "<polyline clip-path=\"url(#clip850)\" style=\"stroke:#000000; stroke-width:4; stroke-opacity:1; fill:none\" points=\"\n",
       "  2345.99,1521.01 2345.99,1503.51 \n",
       "  \"/>\n",
       "<path clip-path=\"url(#clip850)\" d=\"M 0 0 M1375.17 1558.69 L1397.43 1558.69 L1397.43 1561.64 L1375.17 1561.64 L1375.17 1558.69 Z\" fill=\"#000000\" fill-rule=\"evenodd\" fill-opacity=\"1\" /><path clip-path=\"url(#clip850)\" d=\"M 0 0 M1411.86 1557.34 Q1414.37 1557.87 1415.78 1559.58 Q1417.2 1561.28 1417.2 1563.78 Q1417.2 1567.61 1414.57 1569.71 Q1411.93 1571.82 1407.07 1571.82 Q1405.43 1571.82 1403.7 1571.49 Q1401.98 1571.17 1400.14 1570.53 L1400.14 1567.15 Q1401.6 1568 1403.33 1568.43 Q1405.07 1568.86 1406.96 1568.86 Q1410.26 1568.86 1411.98 1567.56 Q1413.71 1566.26 1413.71 1563.78 Q1413.71 1561.49 1412.1 1560.2 Q1410.5 1558.9 1407.64 1558.9 L1404.62 1558.9 L1404.62 1556.02 L1407.78 1556.02 Q1410.36 1556.02 1411.74 1554.99 Q1413.11 1553.95 1413.11 1552.01 Q1413.11 1550.01 1411.68 1548.95 Q1410.28 1547.87 1407.64 1547.87 Q1406.2 1547.87 1404.55 1548.19 Q1402.9 1548.5 1400.92 1549.16 L1400.92 1546.03 Q1402.92 1545.48 1404.65 1545.2 Q1406.41 1544.92 1407.95 1544.92 Q1411.94 1544.92 1414.27 1546.75 Q1416.6 1548.55 1416.6 1551.64 Q1416.6 1553.79 1415.36 1555.29 Q1414.13 1556.76 1411.86 1557.34 Z\" fill=\"#000000\" fill-rule=\"evenodd\" fill-opacity=\"1\" /><path clip-path=\"url(#clip850)\" d=\"M 0 0 M1533.83 1558.69 L1556.09 1558.69 L1556.09 1561.64 L1533.83 1561.64 L1533.83 1558.69 Z\" fill=\"#000000\" fill-rule=\"evenodd\" fill-opacity=\"1\" /><path clip-path=\"url(#clip850)\" d=\"M 0 0 M1562.91 1568.36 L1575.15 1568.36 L1575.15 1571.31 L1558.69 1571.31 L1558.69 1568.36 Q1560.69 1566.29 1564.12 1562.82 Q1567.58 1559.33 1568.46 1558.33 Q1570.15 1556.43 1570.81 1555.13 Q1571.49 1553.81 1571.49 1552.54 Q1571.49 1550.48 1570.03 1549.18 Q1568.59 1547.87 1566.26 1547.87 Q1564.61 1547.87 1562.77 1548.45 Q1560.95 1549.02 1558.86 1550.18 L1558.86 1546.64 Q1560.98 1545.79 1562.82 1545.36 Q1564.66 1544.92 1566.19 1544.92 Q1570.22 1544.92 1572.61 1546.94 Q1575.01 1548.95 1575.01 1552.32 Q1575.01 1553.92 1574.4 1555.36 Q1573.81 1556.78 1572.23 1558.73 Q1571.8 1559.23 1569.47 1561.64 Q1567.14 1564.04 1562.91 1568.36 Z\" fill=\"#000000\" fill-rule=\"evenodd\" fill-opacity=\"1\" /><path clip-path=\"url(#clip850)\" d=\"M 0 0 M1691.99 1558.69 L1714.25 1558.69 L1714.25 1561.64 L1691.99 1561.64 L1691.99 1558.69 Z\" fill=\"#000000\" fill-rule=\"evenodd\" fill-opacity=\"1\" /><path clip-path=\"url(#clip850)\" d=\"M 0 0 M1718.66 1568.36 L1724.39 1568.36 L1724.39 1548.59 L1718.15 1549.84 L1718.15 1546.64 L1724.35 1545.39 L1727.86 1545.39 L1727.86 1568.36 L1733.59 1568.36 L1733.59 1571.31 L1718.66 1571.31 L1718.66 1568.36 Z\" fill=\"#000000\" fill-rule=\"evenodd\" fill-opacity=\"1\" /><path clip-path=\"url(#clip850)\" d=\"M 0 0 M1871.09 1547.7 Q1868.38 1547.7 1867.01 1550.37 Q1865.65 1553.03 1865.65 1558.38 Q1865.65 1563.71 1867.01 1566.38 Q1868.38 1569.04 1871.09 1569.04 Q1873.81 1569.04 1875.17 1566.38 Q1876.54 1563.71 1876.54 1558.38 Q1876.54 1553.03 1875.17 1550.37 Q1873.81 1547.7 1871.09 1547.7 M1871.09 1544.92 Q1875.45 1544.92 1877.74 1548.38 Q1880.05 1551.82 1880.05 1558.38 Q1880.05 1564.92 1877.74 1568.38 Q1875.45 1571.82 1871.09 1571.82 Q1866.73 1571.82 1864.42 1568.38 Q1862.13 1564.92 1862.13 1558.38 Q1862.13 1551.82 1864.42 1548.38 Q1866.73 1544.92 1871.09 1544.92 Z\" fill=\"#000000\" fill-rule=\"evenodd\" fill-opacity=\"1\" /><path clip-path=\"url(#clip850)\" d=\"M 0 0 M2022.17 1568.36 L2027.9 1568.36 L2027.9 1548.59 L2021.67 1549.84 L2021.67 1546.64 L2027.87 1545.39 L2031.38 1545.39 L2031.38 1568.36 L2037.11 1568.36 L2037.11 1571.31 L2022.17 1571.31 L2022.17 1568.36 Z\" fill=\"#000000\" fill-rule=\"evenodd\" fill-opacity=\"1\" /><path clip-path=\"url(#clip850)\" d=\"M 0 0 M2183.68 1568.36 L2195.92 1568.36 L2195.92 1571.31 L2179.46 1571.31 L2179.46 1568.36 Q2181.46 1566.29 2184.89 1562.82 Q2188.35 1559.33 2189.23 1558.33 Q2190.92 1556.43 2191.58 1555.13 Q2192.25 1553.81 2192.25 1552.54 Q2192.25 1550.48 2190.8 1549.18 Q2189.35 1547.87 2187.03 1547.87 Q2185.38 1547.87 2183.54 1548.45 Q2181.72 1549.02 2179.63 1550.18 L2179.63 1546.64 Q2181.75 1545.79 2183.59 1545.36 Q2185.43 1544.92 2186.96 1544.92 Q2190.99 1544.92 2193.38 1546.94 Q2195.78 1548.95 2195.78 1552.32 Q2195.78 1553.92 2195.17 1555.36 Q2194.58 1556.78 2193 1558.73 Q2192.57 1559.23 2190.24 1561.64 Q2187.91 1564.04 2183.68 1568.36 Z\" fill=\"#000000\" fill-rule=\"evenodd\" fill-opacity=\"1\" /><path clip-path=\"url(#clip850)\" d=\"M 0 0 M2349.17 1557.34 Q2351.69 1557.87 2353.1 1559.58 Q2354.52 1561.28 2354.52 1563.78 Q2354.52 1567.61 2351.88 1569.71 Q2349.24 1571.82 2344.38 1571.82 Q2342.75 1571.82 2341.01 1571.49 Q2339.3 1571.17 2337.45 1570.53 L2337.45 1567.15 Q2338.91 1568 2340.65 1568.43 Q2342.39 1568.86 2344.28 1568.86 Q2347.58 1568.86 2349.3 1567.56 Q2351.03 1566.26 2351.03 1563.78 Q2351.03 1561.49 2349.42 1560.2 Q2347.82 1558.9 2344.95 1558.9 L2341.93 1558.9 L2341.93 1556.02 L2345.09 1556.02 Q2347.68 1556.02 2349.05 1554.99 Q2350.42 1553.95 2350.42 1552.01 Q2350.42 1550.01 2349 1548.95 Q2347.59 1547.87 2344.95 1547.87 Q2343.51 1547.87 2341.86 1548.19 Q2340.22 1548.5 2338.24 1549.16 L2338.24 1546.03 Q2340.23 1545.48 2341.97 1545.2 Q2343.72 1544.92 2345.27 1544.92 Q2349.26 1544.92 2351.59 1546.75 Q2353.91 1548.55 2353.91 1551.64 Q2353.91 1553.79 2352.68 1555.29 Q2351.45 1556.76 2349.17 1557.34 Z\" fill=\"#000000\" fill-rule=\"evenodd\" fill-opacity=\"1\" /><polyline clip-path=\"url(#clip853)\" style=\"stroke:#000000; stroke-width:2; stroke-opacity:0.1; fill:none\" points=\"\n",
       "  1286.99,1332.3 2352.76,1332.3 \n",
       "  \"/>\n",
       "<polyline clip-path=\"url(#clip853)\" style=\"stroke:#000000; stroke-width:2; stroke-opacity:0.1; fill:none\" points=\"\n",
       "  1286.99,1051.43 2352.76,1051.43 \n",
       "  \"/>\n",
       "<polyline clip-path=\"url(#clip853)\" style=\"stroke:#000000; stroke-width:2; stroke-opacity:0.1; fill:none\" points=\"\n",
       "  1286.99,770.571 2352.76,770.571 \n",
       "  \"/>\n",
       "<polyline clip-path=\"url(#clip853)\" style=\"stroke:#000000; stroke-width:2; stroke-opacity:0.1; fill:none\" points=\"\n",
       "  1286.99,489.709 2352.76,489.709 \n",
       "  \"/>\n",
       "<polyline clip-path=\"url(#clip853)\" style=\"stroke:#000000; stroke-width:2; stroke-opacity:0.1; fill:none\" points=\"\n",
       "  1286.99,208.847 2352.76,208.847 \n",
       "  \"/>\n",
       "<polyline clip-path=\"url(#clip850)\" style=\"stroke:#000000; stroke-width:4; stroke-opacity:1; fill:none\" points=\"\n",
       "  1286.99,1521.01 1286.99,62.9921 \n",
       "  \"/>\n",
       "<polyline clip-path=\"url(#clip850)\" style=\"stroke:#000000; stroke-width:4; stroke-opacity:1; fill:none\" points=\"\n",
       "  1286.99,1332.3 1299.78,1332.3 \n",
       "  \"/>\n",
       "<polyline clip-path=\"url(#clip850)\" style=\"stroke:#000000; stroke-width:4; stroke-opacity:1; fill:none\" points=\"\n",
       "  1286.99,1051.43 1299.78,1051.43 \n",
       "  \"/>\n",
       "<polyline clip-path=\"url(#clip850)\" style=\"stroke:#000000; stroke-width:4; stroke-opacity:1; fill:none\" points=\"\n",
       "  1286.99,770.571 1299.78,770.571 \n",
       "  \"/>\n",
       "<polyline clip-path=\"url(#clip850)\" style=\"stroke:#000000; stroke-width:4; stroke-opacity:1; fill:none\" points=\"\n",
       "  1286.99,489.709 1299.78,489.709 \n",
       "  \"/>\n",
       "<polyline clip-path=\"url(#clip850)\" style=\"stroke:#000000; stroke-width:4; stroke-opacity:1; fill:none\" points=\"\n",
       "  1286.99,208.847 1299.78,208.847 \n",
       "  \"/>\n",
       "<path clip-path=\"url(#clip850)\" d=\"M 0 0 M1158.56 1332.75 L1188.24 1332.75 L1188.24 1336.68 L1158.56 1336.68 L1158.56 1332.75 Z\" fill=\"#000000\" fill-rule=\"evenodd\" fill-opacity=\"1\" /><path clip-path=\"url(#clip850)\" d=\"M 0 0 M1194.12 1345.64 L1201.76 1345.64 L1201.76 1319.27 L1193.45 1320.94 L1193.45 1316.68 L1201.71 1315.02 L1206.39 1315.02 L1206.39 1345.64 L1214.02 1345.64 L1214.02 1349.58 L1194.12 1349.58 L1194.12 1345.64 Z\" fill=\"#000000\" fill-rule=\"evenodd\" fill-opacity=\"1\" /><path clip-path=\"url(#clip850)\" d=\"M 0 0 M1219.09 1343.7 L1223.98 1343.7 L1223.98 1349.58 L1219.09 1349.58 L1219.09 1343.7 Z\" fill=\"#000000\" fill-rule=\"evenodd\" fill-opacity=\"1\" /><path clip-path=\"url(#clip850)\" d=\"M 0 0 M1239.05 1318.09 Q1235.44 1318.09 1233.61 1321.66 Q1231.8 1325.2 1231.8 1332.33 Q1231.8 1339.44 1233.61 1343 Q1235.44 1346.54 1239.05 1346.54 Q1242.68 1346.54 1244.49 1343 Q1246.32 1339.44 1246.32 1332.33 Q1246.32 1325.2 1244.49 1321.66 Q1242.68 1318.09 1239.05 1318.09 M1239.05 1314.39 Q1244.86 1314.39 1247.91 1319 Q1250.99 1323.58 1250.99 1332.33 Q1250.99 1341.06 1247.91 1345.66 Q1244.86 1350.25 1239.05 1350.25 Q1233.24 1350.25 1230.16 1345.66 Q1227.1 1341.06 1227.1 1332.33 Q1227.1 1323.58 1230.16 1319 Q1233.24 1314.39 1239.05 1314.39 Z\" fill=\"#000000\" fill-rule=\"evenodd\" fill-opacity=\"1\" /><path clip-path=\"url(#clip850)\" d=\"M 0 0 M1158.33 1051.88 L1188.01 1051.88 L1188.01 1055.82 L1158.33 1055.82 L1158.33 1051.88 Z\" fill=\"#000000\" fill-rule=\"evenodd\" fill-opacity=\"1\" /><path clip-path=\"url(#clip850)\" d=\"M 0 0 M1203.08 1037.23 Q1199.46 1037.23 1197.64 1040.8 Q1195.83 1044.34 1195.83 1051.47 Q1195.83 1058.57 1197.64 1062.14 Q1199.46 1065.68 1203.08 1065.68 Q1206.71 1065.68 1208.52 1062.14 Q1210.34 1058.57 1210.34 1051.47 Q1210.34 1044.34 1208.52 1040.8 Q1206.71 1037.23 1203.08 1037.23 M1203.08 1033.53 Q1208.89 1033.53 1211.94 1038.13 Q1215.02 1042.72 1215.02 1051.47 Q1215.02 1060.19 1211.94 1064.8 Q1208.89 1069.38 1203.08 1069.38 Q1197.27 1069.38 1194.19 1064.8 Q1191.13 1060.19 1191.13 1051.47 Q1191.13 1042.72 1194.19 1038.13 Q1197.27 1033.53 1203.08 1033.53 Z\" fill=\"#000000\" fill-rule=\"evenodd\" fill-opacity=\"1\" /><path clip-path=\"url(#clip850)\" d=\"M 0 0 M1220.09 1062.83 L1224.97 1062.83 L1224.97 1068.71 L1220.09 1068.71 L1220.09 1062.83 Z\" fill=\"#000000\" fill-rule=\"evenodd\" fill-opacity=\"1\" /><path clip-path=\"url(#clip850)\" d=\"M 0 0 M1230.09 1034.15 L1248.45 1034.15 L1248.45 1038.09 L1234.37 1038.09 L1234.37 1046.56 Q1235.39 1046.21 1236.41 1046.05 Q1237.43 1045.87 1238.45 1045.87 Q1244.23 1045.87 1247.61 1049.04 Q1250.99 1052.21 1250.99 1057.63 Q1250.99 1063.2 1247.52 1066.31 Q1244.05 1069.38 1237.73 1069.38 Q1235.55 1069.38 1233.28 1069.01 Q1231.04 1068.64 1228.63 1067.9 L1228.63 1063.2 Q1230.71 1064.34 1232.94 1064.89 Q1235.16 1065.45 1237.64 1065.45 Q1241.64 1065.45 1243.98 1063.34 Q1246.32 1061.24 1246.32 1057.63 Q1246.32 1054.01 1243.98 1051.91 Q1241.64 1049.8 1237.64 1049.8 Q1235.76 1049.8 1233.89 1050.22 Q1232.03 1050.63 1230.09 1051.51 L1230.09 1034.15 Z\" fill=\"#000000\" fill-rule=\"evenodd\" fill-opacity=\"1\" /><path clip-path=\"url(#clip850)\" d=\"M 0 0 M1202.08 756.37 Q1198.47 756.37 1196.64 759.935 Q1194.84 763.476 1194.84 770.606 Q1194.84 777.712 1196.64 781.277 Q1198.47 784.819 1202.08 784.819 Q1205.71 784.819 1207.52 781.277 Q1209.35 777.712 1209.35 770.606 Q1209.35 763.476 1207.52 759.935 Q1205.71 756.37 1202.08 756.37 M1202.08 752.666 Q1207.89 752.666 1210.95 757.273 Q1214.02 761.856 1214.02 770.606 Q1214.02 779.333 1210.95 783.939 Q1207.89 788.522 1202.08 788.522 Q1196.27 788.522 1193.19 783.939 Q1190.14 779.333 1190.14 770.606 Q1190.14 761.856 1193.19 757.273 Q1196.27 752.666 1202.08 752.666 Z\" fill=\"#000000\" fill-rule=\"evenodd\" fill-opacity=\"1\" /><path clip-path=\"url(#clip850)\" d=\"M 0 0 M1219.09 781.971 L1223.98 781.971 L1223.98 787.851 L1219.09 787.851 L1219.09 781.971 Z\" fill=\"#000000\" fill-rule=\"evenodd\" fill-opacity=\"1\" /><path clip-path=\"url(#clip850)\" d=\"M 0 0 M1239.05 756.37 Q1235.44 756.37 1233.61 759.935 Q1231.8 763.476 1231.8 770.606 Q1231.8 777.712 1233.61 781.277 Q1235.44 784.819 1239.05 784.819 Q1242.68 784.819 1244.49 781.277 Q1246.32 777.712 1246.32 770.606 Q1246.32 763.476 1244.49 759.935 Q1242.68 756.37 1239.05 756.37 M1239.05 752.666 Q1244.86 752.666 1247.91 757.273 Q1250.99 761.856 1250.99 770.606 Q1250.99 779.333 1247.91 783.939 Q1244.86 788.522 1239.05 788.522 Q1233.24 788.522 1230.16 783.939 Q1227.1 779.333 1227.1 770.606 Q1227.1 761.856 1230.16 757.273 Q1233.24 752.666 1239.05 752.666 Z\" fill=\"#000000\" fill-rule=\"evenodd\" fill-opacity=\"1\" /><path clip-path=\"url(#clip850)\" d=\"M 0 0 M1203.08 475.508 Q1199.46 475.508 1197.64 479.072 Q1195.83 482.614 1195.83 489.744 Q1195.83 496.85 1197.64 500.415 Q1199.46 503.957 1203.08 503.957 Q1206.71 503.957 1208.52 500.415 Q1210.34 496.85 1210.34 489.744 Q1210.34 482.614 1208.52 479.072 Q1206.71 475.508 1203.08 475.508 M1203.08 471.804 Q1208.89 471.804 1211.94 476.41 Q1215.02 480.994 1215.02 489.744 Q1215.02 498.471 1211.94 503.077 Q1208.89 507.66 1203.08 507.66 Q1197.27 507.66 1194.19 503.077 Q1191.13 498.471 1191.13 489.744 Q1191.13 480.994 1194.19 476.41 Q1197.27 471.804 1203.08 471.804 Z\" fill=\"#000000\" fill-rule=\"evenodd\" fill-opacity=\"1\" /><path clip-path=\"url(#clip850)\" d=\"M 0 0 M1220.09 501.109 L1224.97 501.109 L1224.97 506.989 L1220.09 506.989 L1220.09 501.109 Z\" fill=\"#000000\" fill-rule=\"evenodd\" fill-opacity=\"1\" /><path clip-path=\"url(#clip850)\" d=\"M 0 0 M1230.09 472.429 L1248.45 472.429 L1248.45 476.364 L1234.37 476.364 L1234.37 484.836 Q1235.39 484.489 1236.41 484.327 Q1237.43 484.142 1238.45 484.142 Q1244.23 484.142 1247.61 487.313 Q1250.99 490.484 1250.99 495.901 Q1250.99 501.48 1247.52 504.582 Q1244.05 507.66 1237.73 507.66 Q1235.55 507.66 1233.28 507.29 Q1231.04 506.92 1228.63 506.179 L1228.63 501.48 Q1230.71 502.614 1232.94 503.17 Q1235.16 503.725 1237.64 503.725 Q1241.64 503.725 1243.98 501.619 Q1246.32 499.512 1246.32 495.901 Q1246.32 492.29 1243.98 490.184 Q1241.64 488.077 1237.64 488.077 Q1235.76 488.077 1233.89 488.494 Q1232.03 488.91 1230.09 489.79 L1230.09 472.429 Z\" fill=\"#000000\" fill-rule=\"evenodd\" fill-opacity=\"1\" /><path clip-path=\"url(#clip850)\" d=\"M 0 0 M1194.12 222.192 L1201.76 222.192 L1201.76 195.826 L1193.45 197.493 L1193.45 193.234 L1201.71 191.567 L1206.39 191.567 L1206.39 222.192 L1214.02 222.192 L1214.02 226.127 L1194.12 226.127 L1194.12 222.192 Z\" fill=\"#000000\" fill-rule=\"evenodd\" fill-opacity=\"1\" /><path clip-path=\"url(#clip850)\" d=\"M 0 0 M1219.09 220.247 L1223.98 220.247 L1223.98 226.127 L1219.09 226.127 L1219.09 220.247 Z\" fill=\"#000000\" fill-rule=\"evenodd\" fill-opacity=\"1\" /><path clip-path=\"url(#clip850)\" d=\"M 0 0 M1239.05 194.646 Q1235.44 194.646 1233.61 198.21 Q1231.8 201.752 1231.8 208.882 Q1231.8 215.988 1233.61 219.553 Q1235.44 223.095 1239.05 223.095 Q1242.68 223.095 1244.49 219.553 Q1246.32 215.988 1246.32 208.882 Q1246.32 201.752 1244.49 198.21 Q1242.68 194.646 1239.05 194.646 M1239.05 190.942 Q1244.86 190.942 1247.91 195.548 Q1250.99 200.132 1250.99 208.882 Q1250.99 217.608 1247.91 222.215 Q1244.86 226.798 1239.05 226.798 Q1233.24 226.798 1230.16 222.215 Q1227.1 217.608 1227.1 208.882 Q1227.1 200.132 1230.16 195.548 Q1233.24 190.942 1239.05 190.942 Z\" fill=\"#000000\" fill-rule=\"evenodd\" fill-opacity=\"1\" /><path clip-path=\"url(#clip850)\" d=\"M 0 0 M1610.53 6.912 L1630.4 6.912 L1630.4 10.8472 L1615.21 10.8472 L1615.21 21.0323 L1628.91 21.0323 L1628.91 24.9675 L1615.21 24.9675 L1615.21 41.472 L1610.53 41.472 L1610.53 6.912 Z\" fill=\"#000000\" fill-rule=\"evenodd\" fill-opacity=\"1\" /><path clip-path=\"url(#clip850)\" d=\"M 0 0 M1631.83 31.2406 L1631.83 15.5462 L1636.09 15.5462 L1636.09 31.0785 Q1636.09 34.7591 1637.53 36.6109 Q1638.96 38.4396 1641.83 38.4396 Q1645.28 38.4396 1647.27 36.2405 Q1649.28 34.0415 1649.28 30.2452 L1649.28 15.5462 L1653.54 15.5462 L1653.54 41.472 L1649.28 41.472 L1649.28 37.4905 Q1647.73 39.8516 1645.67 41.009 Q1643.64 42.1433 1640.93 42.1433 Q1636.46 42.1433 1634.15 39.3655 Q1631.83 36.5878 1631.83 31.2406 M1642.55 14.9212 L1642.55 14.9212 Z\" fill=\"#000000\" fill-rule=\"evenodd\" fill-opacity=\"1\" /><path clip-path=\"url(#clip850)\" d=\"M 0 0 M1656.16 15.5462 L1676.39 15.5462 L1676.39 19.4351 L1660.37 38.0692 L1676.39 38.0692 L1676.39 41.472 L1655.58 41.472 L1655.58 37.5831 L1671.6 18.949 L1656.16 18.949 L1656.16 15.5462 Z\" fill=\"#000000\" fill-rule=\"evenodd\" fill-opacity=\"1\" /><path clip-path=\"url(#clip850)\" d=\"M 0 0 M1679.01 15.5462 L1699.24 15.5462 L1699.24 19.4351 L1683.22 38.0692 L1699.24 38.0692 L1699.24 41.472 L1678.43 41.472 L1678.43 37.5831 L1694.45 18.949 L1679.01 18.949 L1679.01 15.5462 Z\" fill=\"#000000\" fill-rule=\"evenodd\" fill-opacity=\"1\" /><path clip-path=\"url(#clip850)\" d=\"M 0 0 M1714.49 43.8794 Q1712.69 48.509 1710.97 49.921 Q1709.26 51.3331 1706.39 51.3331 L1702.99 51.3331 L1702.99 47.7683 L1705.49 47.7683 Q1707.25 47.7683 1708.22 46.9349 Q1709.19 46.1016 1710.37 42.9998 L1711.14 41.0553 L1700.65 15.5462 L1705.16 15.5462 L1713.27 35.8239 L1721.37 15.5462 L1725.88 15.5462 L1714.49 43.8794 Z\" fill=\"#000000\" fill-rule=\"evenodd\" fill-opacity=\"1\" /><path clip-path=\"url(#clip850)\" d=\"M 0 0 M1742.09 11.5185 L1735.74 28.7174 L1748.45 28.7174 L1742.09 11.5185 M1739.45 6.912 L1744.75 6.912 L1757.92 41.472 L1753.06 41.472 L1749.91 32.6063 L1734.33 32.6063 L1731.18 41.472 L1726.25 41.472 L1739.45 6.912 Z\" fill=\"#000000\" fill-rule=\"evenodd\" fill-opacity=\"1\" /><path clip-path=\"url(#clip850)\" d=\"M 0 0 M1778.96 25.2684 Q1780.46 25.7776 1781.88 27.4443 Q1783.31 29.111 1784.75 32.0276 L1789.49 41.472 L1784.47 41.472 L1780.05 32.6063 Q1778.33 29.1341 1776.71 27.9998 Q1775.12 26.8656 1772.34 26.8656 L1767.25 26.8656 L1767.25 41.472 L1762.57 41.472 L1762.57 6.912 L1773.13 6.912 Q1779.05 6.912 1781.97 9.38884 Q1784.89 11.8657 1784.89 16.8657 Q1784.89 20.1295 1783.36 22.2823 Q1781.85 24.4351 1778.96 25.2684 M1767.25 10.7546 L1767.25 23.023 L1773.13 23.023 Q1776.51 23.023 1778.22 21.4721 Q1779.96 19.898 1779.96 16.8657 Q1779.96 13.8333 1778.22 12.3055 Q1776.51 10.7546 1773.13 10.7546 L1767.25 10.7546 Z\" fill=\"#000000\" fill-rule=\"evenodd\" fill-opacity=\"1\" /><path clip-path=\"url(#clip850)\" d=\"M 0 0 M1785.9 6.912 L1815.14 6.912 L1815.14 10.8472 L1802.87 10.8472 L1802.87 41.472 L1798.17 41.472 L1798.17 10.8472 L1785.9 10.8472 L1785.9 6.912 Z\" fill=\"#000000\" fill-rule=\"evenodd\" fill-opacity=\"1\" /><path clip-path=\"url(#clip850)\" d=\"M 0 0 M1849.7 19.5277 Q1848.98 19.111 1848.13 18.9258 Q1847.29 18.7175 1846.27 18.7175 Q1842.66 18.7175 1840.72 21.0786 Q1838.8 23.4165 1838.8 27.8147 L1838.8 41.472 L1834.52 41.472 L1834.52 15.5462 L1838.8 15.5462 L1838.8 19.574 Q1840.14 17.2129 1842.29 16.0786 Q1844.45 14.9212 1847.52 14.9212 Q1847.96 14.9212 1848.5 14.9907 Q1849.03 15.037 1849.68 15.1527 L1849.7 19.5277 Z\" fill=\"#000000\" fill-rule=\"evenodd\" fill-opacity=\"1\" /><path clip-path=\"url(#clip850)\" d=\"M 0 0 M1874.89 25.8239 L1874.89 41.472 L1870.63 41.472 L1870.63 25.9628 Q1870.63 22.2823 1869.19 20.4536 Q1867.76 18.6249 1864.89 18.6249 Q1861.44 18.6249 1859.45 20.824 Q1857.45 23.023 1857.45 26.8193 L1857.45 41.472 L1853.17 41.472 L1853.17 5.45367 L1857.45 5.45367 L1857.45 19.574 Q1858.98 17.236 1861.04 16.0786 Q1863.13 14.9212 1865.83 14.9212 Q1870.3 14.9212 1872.59 17.699 Q1874.89 20.4536 1874.89 25.8239 Z\" fill=\"#000000\" fill-rule=\"evenodd\" fill-opacity=\"1\" /><path clip-path=\"url(#clip850)\" d=\"M 0 0 M1889.4 18.5323 Q1885.97 18.5323 1883.98 21.2175 Q1881.99 23.8795 1881.99 28.5323 Q1881.99 33.185 1883.96 35.8702 Q1885.95 38.5322 1889.4 38.5322 Q1892.8 38.5322 1894.79 35.847 Q1896.78 33.1619 1896.78 28.5323 Q1896.78 23.9258 1894.79 21.2406 Q1892.8 18.5323 1889.4 18.5323 M1889.4 14.9212 Q1894.95 14.9212 1898.13 18.5323 Q1901.3 22.1434 1901.3 28.5323 Q1901.3 34.898 1898.13 38.5322 Q1894.95 42.1433 1889.4 42.1433 Q1883.82 42.1433 1880.65 38.5322 Q1877.5 34.898 1877.5 28.5323 Q1877.5 22.1434 1880.65 18.5323 Q1883.82 14.9212 1889.4 14.9212 Z\" fill=\"#000000\" fill-rule=\"evenodd\" fill-opacity=\"1\" /><path clip-path=\"url(#clip850)\" d=\"M 0 0 M1921.39 19.9443 L1951.07 19.9443 L1951.07 23.8332 L1921.39 23.8332 L1921.39 19.9443 M1921.39 29.3887 L1951.07 29.3887 L1951.07 33.3239 L1921.39 33.3239 L1921.39 29.3887 Z\" fill=\"#000000\" fill-rule=\"evenodd\" fill-opacity=\"1\" /><path clip-path=\"url(#clip850)\" d=\"M 0 0 M1981.2 9.99069 Q1977.59 9.99069 1975.76 13.5555 Q1973.96 17.0971 1973.96 24.2267 Q1973.96 31.3332 1975.76 34.898 Q1977.59 38.4396 1981.2 38.4396 Q1984.84 38.4396 1986.64 34.898 Q1988.47 31.3332 1988.47 24.2267 Q1988.47 17.0971 1986.64 13.5555 Q1984.84 9.99069 1981.2 9.99069 M1981.2 6.287 Q1987.01 6.287 1990.07 10.8935 Q1993.15 15.4768 1993.15 24.2267 Q1993.15 32.9535 1990.07 37.56 Q1987.01 42.1433 1981.2 42.1433 Q1975.39 42.1433 1972.32 37.56 Q1969.26 32.9535 1969.26 24.2267 Q1969.26 15.4768 1972.32 10.8935 Q1975.39 6.287 1981.2 6.287 Z\" fill=\"#000000\" fill-rule=\"evenodd\" fill-opacity=\"1\" /><path clip-path=\"url(#clip850)\" d=\"M 0 0 M1998.22 35.5924 L2003.1 35.5924 L2003.1 41.472 L1998.22 41.472 L1998.22 35.5924 Z\" fill=\"#000000\" fill-rule=\"evenodd\" fill-opacity=\"1\" /><path clip-path=\"url(#clip850)\" d=\"M 0 0 M2006.99 6.912 L2029.21 6.912 L2029.21 8.90273 L2016.67 41.472 L2011.78 41.472 L2023.59 10.8472 L2006.99 10.8472 L2006.99 6.912 Z\" fill=\"#000000\" fill-rule=\"evenodd\" fill-opacity=\"1\" /><circle clip-path=\"url(#clip853)\" cx=\"2244.07\" cy=\"788.102\" r=\"14\" fill=\"#009af9\" fill-rule=\"evenodd\" fill-opacity=\"1\" stroke=\"#000000\" stroke-opacity=\"1\" stroke-width=\"3.2\"/>\n",
       "<circle clip-path=\"url(#clip853)\" cx=\"2300.98\" cy=\"906.891\" r=\"14\" fill=\"#009af9\" fill-rule=\"evenodd\" fill-opacity=\"1\" stroke=\"#000000\" stroke-opacity=\"1\" stroke-width=\"3.2\"/>\n",
       "<circle clip-path=\"url(#clip853)\" cx=\"2276.71\" cy=\"560.102\" r=\"14\" fill=\"#009af9\" fill-rule=\"evenodd\" fill-opacity=\"1\" stroke=\"#000000\" stroke-opacity=\"1\" stroke-width=\"3.2\"/>\n",
       "<circle clip-path=\"url(#clip853)\" cx=\"2261.94\" cy=\"693.116\" r=\"14\" fill=\"#009af9\" fill-rule=\"evenodd\" fill-opacity=\"1\" stroke=\"#000000\" stroke-opacity=\"1\" stroke-width=\"3.2\"/>\n",
       "<circle clip-path=\"url(#clip853)\" cx=\"2282.22\" cy=\"152.662\" r=\"14\" fill=\"#009af9\" fill-rule=\"evenodd\" fill-opacity=\"1\" stroke=\"#000000\" stroke-opacity=\"1\" stroke-width=\"3.2\"/>\n",
       "<circle clip-path=\"url(#clip853)\" cx=\"2317.63\" cy=\"816.691\" r=\"14\" fill=\"#009af9\" fill-rule=\"evenodd\" fill-opacity=\"1\" stroke=\"#000000\" stroke-opacity=\"1\" stroke-width=\"3.2\"/>\n",
       "<circle clip-path=\"url(#clip853)\" cx=\"2252.6\" cy=\"535.725\" r=\"14\" fill=\"#009af9\" fill-rule=\"evenodd\" fill-opacity=\"1\" stroke=\"#000000\" stroke-opacity=\"1\" stroke-width=\"3.2\"/>\n",
       "<circle clip-path=\"url(#clip853)\" cx=\"2322.59\" cy=\"1294.58\" r=\"14\" fill=\"#009af9\" fill-rule=\"evenodd\" fill-opacity=\"1\" stroke=\"#000000\" stroke-opacity=\"1\" stroke-width=\"3.2\"/>\n",
       "<circle clip-path=\"url(#clip853)\" cx=\"2294.36\" cy=\"830.502\" r=\"14\" fill=\"#009af9\" fill-rule=\"evenodd\" fill-opacity=\"1\" stroke=\"#000000\" stroke-opacity=\"1\" stroke-width=\"3.2\"/>\n",
       "<circle clip-path=\"url(#clip853)\" cx=\"2320.71\" cy=\"894.474\" r=\"14\" fill=\"#009af9\" fill-rule=\"evenodd\" fill-opacity=\"1\" stroke=\"#000000\" stroke-opacity=\"1\" stroke-width=\"3.2\"/>\n",
       "<circle clip-path=\"url(#clip853)\" cx=\"2289.56\" cy=\"104.257\" r=\"14\" fill=\"#009af9\" fill-rule=\"evenodd\" fill-opacity=\"1\" stroke=\"#000000\" stroke-opacity=\"1\" stroke-width=\"3.2\"/>\n",
       "<circle clip-path=\"url(#clip853)\" cx=\"2280.84\" cy=\"881.452\" r=\"14\" fill=\"#009af9\" fill-rule=\"evenodd\" fill-opacity=\"1\" stroke=\"#000000\" stroke-opacity=\"1\" stroke-width=\"3.2\"/>\n",
       "<circle clip-path=\"url(#clip853)\" cx=\"2280.66\" cy=\"478.208\" r=\"14\" fill=\"#009af9\" fill-rule=\"evenodd\" fill-opacity=\"1\" stroke=\"#000000\" stroke-opacity=\"1\" stroke-width=\"3.2\"/>\n",
       "<circle clip-path=\"url(#clip853)\" cx=\"2290.21\" cy=\"309.967\" r=\"14\" fill=\"#009af9\" fill-rule=\"evenodd\" fill-opacity=\"1\" stroke=\"#000000\" stroke-opacity=\"1\" stroke-width=\"3.2\"/>\n",
       "<circle clip-path=\"url(#clip853)\" cx=\"2251.88\" cy=\"660.52\" r=\"14\" fill=\"#009af9\" fill-rule=\"evenodd\" fill-opacity=\"1\" stroke=\"#000000\" stroke-opacity=\"1\" stroke-width=\"3.2\"/>\n",
       "<circle clip-path=\"url(#clip853)\" cx=\"1715.31\" cy=\"840.427\" r=\"14\" fill=\"#e26f46\" fill-rule=\"evenodd\" fill-opacity=\"1\" stroke=\"#000000\" stroke-opacity=\"1\" stroke-width=\"3.2\"/>\n",
       "<circle clip-path=\"url(#clip853)\" cx=\"1951.99\" cy=\"1479.74\" r=\"14\" fill=\"#e26f46\" fill-rule=\"evenodd\" fill-opacity=\"1\" stroke=\"#000000\" stroke-opacity=\"1\" stroke-width=\"3.2\"/>\n",
       "<circle clip-path=\"url(#clip853)\" cx=\"1797.79\" cy=\"1146.66\" r=\"14\" fill=\"#e26f46\" fill-rule=\"evenodd\" fill-opacity=\"1\" stroke=\"#000000\" stroke-opacity=\"1\" stroke-width=\"3.2\"/>\n",
       "<circle clip-path=\"url(#clip853)\" cx=\"1990.05\" cy=\"1332.92\" r=\"14\" fill=\"#e26f46\" fill-rule=\"evenodd\" fill-opacity=\"1\" stroke=\"#000000\" stroke-opacity=\"1\" stroke-width=\"3.2\"/>\n",
       "<circle clip-path=\"url(#clip853)\" cx=\"1642.65\" cy=\"851.348\" r=\"14\" fill=\"#e26f46\" fill-rule=\"evenodd\" fill-opacity=\"1\" stroke=\"#000000\" stroke-opacity=\"1\" stroke-width=\"3.2\"/>\n",
       "<circle clip-path=\"url(#clip853)\" cx=\"1814.61\" cy=\"808.108\" r=\"14\" fill=\"#e26f46\" fill-rule=\"evenodd\" fill-opacity=\"1\" stroke=\"#000000\" stroke-opacity=\"1\" stroke-width=\"3.2\"/>\n",
       "<circle clip-path=\"url(#clip853)\" cx=\"1758.06\" cy=\"686.099\" r=\"14\" fill=\"#e26f46\" fill-rule=\"evenodd\" fill-opacity=\"1\" stroke=\"#000000\" stroke-opacity=\"1\" stroke-width=\"3.2\"/>\n",
       "<circle clip-path=\"url(#clip853)\" cx=\"1829.56\" cy=\"1078.34\" r=\"14\" fill=\"#e26f46\" fill-rule=\"evenodd\" fill-opacity=\"1\" stroke=\"#000000\" stroke-opacity=\"1\" stroke-width=\"3.2\"/>\n",
       "<circle clip-path=\"url(#clip853)\" cx=\"1730.18\" cy=\"789.564\" r=\"14\" fill=\"#e26f46\" fill-rule=\"evenodd\" fill-opacity=\"1\" stroke=\"#000000\" stroke-opacity=\"1\" stroke-width=\"3.2\"/>\n",
       "<circle clip-path=\"url(#clip853)\" cx=\"1677.89\" cy=\"541.368\" r=\"14\" fill=\"#e26f46\" fill-rule=\"evenodd\" fill-opacity=\"1\" stroke=\"#000000\" stroke-opacity=\"1\" stroke-width=\"3.2\"/>\n",
       "<circle clip-path=\"url(#clip853)\" cx=\"1872.7\" cy=\"1175.34\" r=\"14\" fill=\"#e26f46\" fill-rule=\"evenodd\" fill-opacity=\"1\" stroke=\"#000000\" stroke-opacity=\"1\" stroke-width=\"3.2\"/>\n",
       "<circle clip-path=\"url(#clip853)\" cx=\"1778.12\" cy=\"1042.04\" r=\"14\" fill=\"#e26f46\" fill-rule=\"evenodd\" fill-opacity=\"1\" stroke=\"#000000\" stroke-opacity=\"1\" stroke-width=\"3.2\"/>\n",
       "<circle clip-path=\"url(#clip853)\" cx=\"1665.56\" cy=\"1198.05\" r=\"14\" fill=\"#e26f46\" fill-rule=\"evenodd\" fill-opacity=\"1\" stroke=\"#000000\" stroke-opacity=\"1\" stroke-width=\"3.2\"/>\n",
       "<circle clip-path=\"url(#clip853)\" cx=\"1823.95\" cy=\"965.499\" r=\"14\" fill=\"#e26f46\" fill-rule=\"evenodd\" fill-opacity=\"1\" stroke=\"#000000\" stroke-opacity=\"1\" stroke-width=\"3.2\"/>\n",
       "<circle clip-path=\"url(#clip853)\" cx=\"1624.55\" cy=\"620.37\" r=\"14\" fill=\"#e26f46\" fill-rule=\"evenodd\" fill-opacity=\"1\" stroke=\"#000000\" stroke-opacity=\"1\" stroke-width=\"3.2\"/>\n",
       "<circle clip-path=\"url(#clip853)\" cx=\"1845.05\" cy=\"1152.35\" r=\"14\" fill=\"#e26f46\" fill-rule=\"evenodd\" fill-opacity=\"1\" stroke=\"#000000\" stroke-opacity=\"1\" stroke-width=\"3.2\"/>\n",
       "<circle clip-path=\"url(#clip853)\" cx=\"1651.42\" cy=\"885.18\" r=\"14\" fill=\"#e26f46\" fill-rule=\"evenodd\" fill-opacity=\"1\" stroke=\"#000000\" stroke-opacity=\"1\" stroke-width=\"3.2\"/>\n",
       "<circle clip-path=\"url(#clip853)\" cx=\"1769.71\" cy=\"1004.99\" r=\"14\" fill=\"#e26f46\" fill-rule=\"evenodd\" fill-opacity=\"1\" stroke=\"#000000\" stroke-opacity=\"1\" stroke-width=\"3.2\"/>\n",
       "<circle clip-path=\"url(#clip853)\" cx=\"1569.55\" cy=\"743.582\" r=\"14\" fill=\"#3da44d\" fill-rule=\"evenodd\" fill-opacity=\"1\" stroke=\"#000000\" stroke-opacity=\"1\" stroke-width=\"3.2\"/>\n",
       "<circle clip-path=\"url(#clip853)\" cx=\"1531.54\" cy=\"692.544\" r=\"14\" fill=\"#3da44d\" fill-rule=\"evenodd\" fill-opacity=\"1\" stroke=\"#000000\" stroke-opacity=\"1\" stroke-width=\"3.2\"/>\n",
       "<circle clip-path=\"url(#clip853)\" cx=\"1317.16\" cy=\"513.99\" r=\"14\" fill=\"#3da44d\" fill-rule=\"evenodd\" fill-opacity=\"1\" stroke=\"#000000\" stroke-opacity=\"1\" stroke-width=\"3.2\"/>\n",
       "<circle clip-path=\"url(#clip853)\" cx=\"1608\" cy=\"634.612\" r=\"14\" fill=\"#3da44d\" fill-rule=\"evenodd\" fill-opacity=\"1\" stroke=\"#000000\" stroke-opacity=\"1\" stroke-width=\"3.2\"/>\n",
       "<circle clip-path=\"url(#clip853)\" cx=\"1529.36\" cy=\"893.21\" r=\"14\" fill=\"#3da44d\" fill-rule=\"evenodd\" fill-opacity=\"1\" stroke=\"#000000\" stroke-opacity=\"1\" stroke-width=\"3.2\"/>\n",
       "<circle clip-path=\"url(#clip853)\" cx=\"1566.76\" cy=\"540.674\" r=\"14\" fill=\"#3da44d\" fill-rule=\"evenodd\" fill-opacity=\"1\" stroke=\"#000000\" stroke-opacity=\"1\" stroke-width=\"3.2\"/>\n",
       "<circle clip-path=\"url(#clip853)\" cx=\"1647.24\" cy=\"1093.52\" r=\"14\" fill=\"#3da44d\" fill-rule=\"evenodd\" fill-opacity=\"1\" stroke=\"#000000\" stroke-opacity=\"1\" stroke-width=\"3.2\"/>\n",
       "<circle clip-path=\"url(#clip853)\" cx=\"1406.95\" cy=\"572.632\" r=\"14\" fill=\"#3da44d\" fill-rule=\"evenodd\" fill-opacity=\"1\" stroke=\"#000000\" stroke-opacity=\"1\" stroke-width=\"3.2\"/>\n",
       "<circle clip-path=\"url(#clip853)\" cx=\"1559.11\" cy=\"872.314\" r=\"14\" fill=\"#3da44d\" fill-rule=\"evenodd\" fill-opacity=\"1\" stroke=\"#000000\" stroke-opacity=\"1\" stroke-width=\"3.2\"/>\n",
       "<circle clip-path=\"url(#clip853)\" cx=\"1629.58\" cy=\"981.229\" r=\"14\" fill=\"#3da44d\" fill-rule=\"evenodd\" fill-opacity=\"1\" stroke=\"#000000\" stroke-opacity=\"1\" stroke-width=\"3.2\"/>\n",
       "<circle clip-path=\"url(#clip853)\" cx=\"1681.43\" cy=\"1110.74\" r=\"14\" fill=\"#3da44d\" fill-rule=\"evenodd\" fill-opacity=\"1\" stroke=\"#000000\" stroke-opacity=\"1\" stroke-width=\"3.2\"/>\n",
       "<circle clip-path=\"url(#clip853)\" cx=\"1563.35\" cy=\"665.295\" r=\"14\" fill=\"#3da44d\" fill-rule=\"evenodd\" fill-opacity=\"1\" stroke=\"#000000\" stroke-opacity=\"1\" stroke-width=\"3.2\"/>\n",
       "</svg>\n"
      ]
     },
     "metadata": {},
     "execution_count": 19
    }
   ],
   "cell_type": "code",
   "source": [
    "p1 = scatter(X_test_pca[1,:], X_test_pca[2,:], group=y_hat_1, title=@sprintf \"FuzzyART rho = %.1f\" rho_1)\n",
    "p2 = scatter(X_test_pca[1,:], X_test_pca[2,:], group=y_hat_2, title=@sprintf \"FuzzyART rho = %.1f\" rho_2)\n",
    "plot(p1, p2, layout=(1, 2), legend = false, xtickfontsize=6, xguidefontsize=8, titlefont=font(8))"
   ],
   "metadata": {},
   "execution_count": 19
  },
  {
   "cell_type": "markdown",
   "source": [
    "---\n",
    "\n",
    "*This notebook was generated using [Literate.jl](https://github.com/fredrikekre/Literate.jl).*"
   ],
   "metadata": {}
  }
 ],
 "nbformat_minor": 3,
 "metadata": {
  "language_info": {
   "file_extension": ".jl",
   "mimetype": "application/julia",
   "name": "julia",
   "version": "1.4.2"
  },
  "kernelspec": {
   "name": "julia-1.4",
   "display_name": "Julia 1.4.2",
   "language": "julia"
  }
 },
 "nbformat": 4
}
