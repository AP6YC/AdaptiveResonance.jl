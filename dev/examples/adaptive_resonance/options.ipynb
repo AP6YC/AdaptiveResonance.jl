{
 "cells": [
  {
   "cell_type": "markdown",
   "source": [
    "## Overview"
   ],
   "metadata": {}
  },
  {
   "cell_type": "markdown",
   "source": [
    "The `AdaptiveResonance.jl` package has several ways of handling options for ART modules.\n",
    "These methods are meant to give maximum flexibility to the user for sharing and interpreting options, which themselves vary between each module."
   ],
   "metadata": {}
  },
  {
   "cell_type": "markdown",
   "source": [
    "!!! note\n",
    "    For more info on options in ART modules, see the guide in the docs on ART options."
   ],
   "metadata": {}
  },
  {
   "cell_type": "markdown",
   "source": [
    "## ART Options"
   ],
   "metadata": {}
  },
  {
   "cell_type": "markdown",
   "source": [
    "To get a feel for the ART options system, we will inspect different options and their instantiation methods."
   ],
   "metadata": {}
  },
  {
   "cell_type": "markdown",
   "source": [
    "### Inspection"
   ],
   "metadata": {}
  },
  {
   "cell_type": "markdown",
   "source": [
    "First, we load `AdaptiveResonance`:"
   ],
   "metadata": {}
  },
  {
   "outputs": [],
   "cell_type": "code",
   "source": [
    "using AdaptiveResonance"
   ],
   "metadata": {},
   "execution_count": 1
  },
  {
   "cell_type": "markdown",
   "source": [
    "Every ART module has a default constructor, which can be instantiated in the usual way:"
   ],
   "metadata": {}
  },
  {
   "outputs": [
    {
     "output_type": "execute_result",
     "data": {
      "text/plain": "FuzzyART"
     },
     "metadata": {},
     "execution_count": 2
    }
   ],
   "cell_type": "code",
   "source": [
    "# Create a FuzzyART module with default options\n",
    "my_fuzzyart = FuzzyART()\n",
    "typeof(my_fuzzyart)"
   ],
   "metadata": {},
   "execution_count": 2
  },
  {
   "cell_type": "markdown",
   "source": [
    "Within every ART module is a [Parameters.jl](https://github.com/mauro3/Parameters.jl) struct named `opts` containing the options for the module"
   ],
   "metadata": {}
  },
  {
   "outputs": [
    {
     "output_type": "execute_result",
     "data": {
      "text/plain": "opts_FuzzyART\n  rho: Float64 0.6\n  alpha: Float64 0.001\n  beta: Float64 1.0\n  gamma: Float64 3.0\n  gamma_ref: Float64 1.0\n  display: Bool true\n  max_epochs: Int64 1\n  gamma_normalization: Bool false\n"
     },
     "metadata": {},
     "execution_count": 3
    }
   ],
   "cell_type": "code",
   "source": [
    "# Check the FuzzyART options\n",
    "my_fuzzyart.opts"
   ],
   "metadata": {},
   "execution_count": 3
  },
  {
   "cell_type": "markdown",
   "source": [
    "Note that the options here have the type `opts_FuzzyART`.\n",
    "This nomenclature is used throughout the module to indicate an options type associated with an ART module.\n",
    "For example, the options for a DDVFA module are `opts_DDVFA`:"
   ],
   "metadata": {}
  },
  {
   "outputs": [
    {
     "output_type": "execute_result",
     "data": {
      "text/plain": "opts_DDVFA"
     },
     "metadata": {},
     "execution_count": 4
    }
   ],
   "cell_type": "code",
   "source": [
    "# Create a DDVFA module and check the type of the options\n",
    "my_ddvfa = DDVFA()\n",
    "typeof(my_ddvfa.opts)"
   ],
   "metadata": {},
   "execution_count": 4
  },
  {
   "cell_type": "markdown",
   "source": [
    "In fact, we can create an instance of these options with a default constructor:"
   ],
   "metadata": {}
  },
  {
   "outputs": [
    {
     "output_type": "execute_result",
     "data": {
      "text/plain": "opts_FuzzyART\n  rho: Float64 0.6\n  alpha: Float64 0.001\n  beta: Float64 1.0\n  gamma: Float64 3.0\n  gamma_ref: Float64 1.0\n  display: Bool true\n  max_epochs: Int64 1\n  gamma_normalization: Bool false\n"
     },
     "metadata": {},
     "execution_count": 5
    }
   ],
   "cell_type": "code",
   "source": [
    "# Create a separate options struct\n",
    "my_fuzzyart_opts = opts_FuzzyART()"
   ],
   "metadata": {},
   "execution_count": 5
  },
  {
   "cell_type": "markdown",
   "source": [
    "In addition to the default constructor, we can construct ART modules by instantiating these options and passing them to the module during construction:"
   ],
   "metadata": {}
  },
  {
   "outputs": [
    {
     "output_type": "execute_result",
     "data": {
      "text/plain": "FuzzyART(opts_FuzzyART\n  rho: Float64 0.6\n  alpha: Float64 0.001\n  beta: Float64 1.0\n  gamma: Float64 3.0\n  gamma_ref: Float64 1.0\n  display: Bool true\n  max_epochs: Int64 1\n  gamma_normalization: Bool false\n, DataConfig(false, Float64[], Float64[], 0, 0), 0.0, Int64[], Float64[], Float64[], Array{Float64}(undef,0,0), Int64[], 0, 0)"
     },
     "metadata": {},
     "execution_count": 6
    }
   ],
   "cell_type": "code",
   "source": [
    "# Instantiate an ART module by passing our options\n",
    "my_fuzzyart = FuzzyART(my_fuzzyart_opts)\n",
    "my_other_fuzzyart = FuzzyART(my_fuzzyart_opts)"
   ],
   "metadata": {},
   "execution_count": 6
  },
  {
   "cell_type": "markdown",
   "source": [
    "### Specifying Options"
   ],
   "metadata": {}
  },
  {
   "cell_type": "markdown",
   "source": [
    "Now to the good stuff: because of the behavior of the `Parameters.jl` type, each option has a default value that we can modify during instantiation with keyword arguments:"
   ],
   "metadata": {}
  },
  {
   "outputs": [
    {
     "output_type": "execute_result",
     "data": {
      "text/plain": "FuzzyART(opts_FuzzyART\n  rho: Float64 0.6\n  alpha: Float64 0.001\n  beta: Float64 1.0\n  gamma: Float64 3.0\n  gamma_ref: Float64 1.0\n  display: Bool true\n  max_epochs: Int64 1\n  gamma_normalization: Bool true\n, DataConfig(false, Float64[], Float64[], 0, 0), 0.0, Int64[], Float64[], Float64[], Array{Float64}(undef,0,0), Int64[], 0, 0)"
     },
     "metadata": {},
     "execution_count": 7
    }
   ],
   "cell_type": "code",
   "source": [
    "# Change some of the default FuzzyART options\n",
    "my_fuzzyart_opts = opts_FuzzyART(\n",
    "    rho=0.6,\n",
    "    gamma_normalization=true\n",
    ")\n",
    "my_fuzzyart = FuzzyART(my_fuzzyart_opts)"
   ],
   "metadata": {},
   "execution_count": 7
  },
  {
   "cell_type": "markdown",
   "source": [
    "As some syntactic sugar, we can pass these keyword arguments directly to the module during instantiation if we have no need to share option structs:"
   ],
   "metadata": {}
  },
  {
   "outputs": [
    {
     "output_type": "execute_result",
     "data": {
      "text/plain": "FuzzyART(opts_FuzzyART\n  rho: Float64 0.6\n  alpha: Float64 0.001\n  beta: Float64 1.0\n  gamma: Float64 3.0\n  gamma_ref: Float64 1.0\n  display: Bool true\n  max_epochs: Int64 1\n  gamma_normalization: Bool true\n, DataConfig(false, Float64[], Float64[], 0, 0), 0.0, Int64[], Float64[], Float64[], Array{Float64}(undef,0,0), Int64[], 0, 0)"
     },
     "metadata": {},
     "execution_count": 8
    }
   ],
   "cell_type": "code",
   "source": [
    "# Pass these keyword arguments to the module directly\n",
    "my_fuzzyart = FuzzyART(\n",
    "    rho=0.6,\n",
    "    gamma_normalization=true\n",
    ")"
   ],
   "metadata": {},
   "execution_count": 8
  },
  {
   "cell_type": "markdown",
   "source": [
    "Before training, we can also instantiate the model and alter the options afterward:"
   ],
   "metadata": {}
  },
  {
   "outputs": [
    {
     "output_type": "execute_result",
     "data": {
      "text/plain": "0.6"
     },
     "metadata": {},
     "execution_count": 9
    }
   ],
   "cell_type": "code",
   "source": [
    "my_fuzzyart = FuzzyART()\n",
    "my_fuzzyart.opts.rho=0.6"
   ],
   "metadata": {},
   "execution_count": 9
  },
  {
   "cell_type": "markdown",
   "source": [
    "!!! note\n",
    "    All ART modules are designed to use this options struct internally when the parameters are needed.\n",
    "    It is possible to change these parameters in the middle of training and evaluation, but some algorithmic instability may occur."
   ],
   "metadata": {}
  },
  {
   "cell_type": "markdown",
   "source": [
    "## Comparison"
   ],
   "metadata": {}
  },
  {
   "cell_type": "markdown",
   "source": [
    "To see the effect that changing these parameters has on the modules, we can train and test them side-by-side."
   ],
   "metadata": {}
  },
  {
   "cell_type": "markdown",
   "source": [
    "We begin with importing AdaptiveResonance for the ART modules and MLDatasets for some data utilities."
   ],
   "metadata": {}
  },
  {
   "outputs": [],
   "cell_type": "code",
   "source": [
    "using MLDatasets        # Iris dataset\n",
    "using MLDataUtils       # Shuffling and splitting\n",
    "using Printf            # Formatted number printing\n",
    "using MultivariateStats # Principal component analysis (PCA)\n",
    "using Plots             # Plotting"
   ],
   "metadata": {},
   "execution_count": 10
  },
  {
   "cell_type": "markdown",
   "source": [
    "We will download the Iris dataset for its small size and benchmark use for clustering algorithms."
   ],
   "metadata": {}
  },
  {
   "outputs": [
    {
     "output_type": "execute_result",
     "data": {
      "text/plain": "([5.1 4.9 … 6.2 5.9; 3.5 3.0 … 3.4 3.0; 1.4 1.4 … 5.4 5.1; 0.2 0.2 … 2.3 1.8], [\"Iris-setosa\", \"Iris-setosa\", \"Iris-setosa\", \"Iris-setosa\", \"Iris-setosa\", \"Iris-setosa\", \"Iris-setosa\", \"Iris-setosa\", \"Iris-setosa\", \"Iris-setosa\"  …  \"Iris-virginica\", \"Iris-virginica\", \"Iris-virginica\", \"Iris-virginica\", \"Iris-virginica\", \"Iris-virginica\", \"Iris-virginica\", \"Iris-virginica\", \"Iris-virginica\", \"Iris-virginica\"])"
     },
     "metadata": {},
     "execution_count": 11
    }
   ],
   "cell_type": "code",
   "source": [
    "Iris.download(i_accept_the_terms_of_use=true)\n",
    "features, labels = Iris.features(), Iris.labels()"
   ],
   "metadata": {},
   "execution_count": 11
  },
  {
   "cell_type": "markdown",
   "source": [
    "Because the MLDatasets package gives us Iris labels as strings, we will use the `MLDataUtils.convertlabel` method with the `MLLabelUtils.LabelEnc.Indices` type to get a list of integers representing each class:"
   ],
   "metadata": {}
  },
  {
   "outputs": [
    {
     "output_type": "execute_result",
     "data": {
      "text/plain": "3-element Array{Int64,1}:\n 1\n 2\n 3"
     },
     "metadata": {},
     "execution_count": 12
    }
   ],
   "cell_type": "code",
   "source": [
    "labels = convertlabel(LabelEnc.Indices{Int}, labels)\n",
    "unique(labels)"
   ],
   "metadata": {},
   "execution_count": 12
  },
  {
   "cell_type": "markdown",
   "source": [
    "Next, we will create a train/test split with the `MLDataUtils.stratifiedobs` utility:"
   ],
   "metadata": {}
  },
  {
   "outputs": [
    {
     "output_type": "execute_result",
     "data": {
      "text/plain": "(([6.3 5.6 … 5.1 5.4; 2.8 2.7 … 3.7 3.9; 5.1 4.2 … 1.5 1.3; 1.5 1.3 … 0.4 0.4], [3, 2, 2, 2, 3, 3, 1, 3, 3, 3  …  1, 3, 2, 1, 3, 2, 2, 3, 1, 1]), ([4.6 5.1 … 7.7 5.9; 3.1 3.3 … 3.8 3.0; 1.5 1.7 … 6.7 5.1; 0.2 0.5 … 2.2 1.8], [1, 1, 3, 3, 3, 1, 3, 2, 1, 1  …  1, 2, 2, 2, 2, 1, 3, 1, 3, 3]))"
     },
     "metadata": {},
     "execution_count": 13
    }
   ],
   "cell_type": "code",
   "source": [
    "(X_train, y_train), (X_test, y_test) = stratifiedobs((features, labels))"
   ],
   "metadata": {},
   "execution_count": 13
  },
  {
   "cell_type": "markdown",
   "source": [
    "Now we can create several FuzzyART modules with different options."
   ],
   "metadata": {}
  },
  {
   "outputs": [
    {
     "output_type": "execute_result",
     "data": {
      "text/plain": "FuzzyART(opts_FuzzyART\n  rho: Float64 0.7\n  alpha: Float64 0.001\n  beta: Float64 1.0\n  gamma: Float64 3.0\n  gamma_ref: Float64 1.0\n  display: Bool false\n  max_epochs: Int64 1\n  gamma_normalization: Bool false\n, DataConfig(false, Float64[], Float64[], 0, 0), 0.0, Int64[], Float64[], Float64[], Array{Float64}(undef,0,0), Int64[], 0, 0)"
     },
     "metadata": {},
     "execution_count": 14
    }
   ],
   "cell_type": "code",
   "source": [
    "# Create two FuzzyARTs with different vigilance values and suppressing logging messages\n",
    "rho_1 = 0.5\n",
    "rho_2 = 0.7\n",
    "my_fuzzyart_1 = FuzzyART(rho=rho_1, display=false)\n",
    "my_fuzzyart_2 = FuzzyART(rho=rho_2, display=false)"
   ],
   "metadata": {},
   "execution_count": 14
  },
  {
   "cell_type": "markdown",
   "source": [
    "Here, we will train these FuzzyART modules in simple supervised mode by passing the supervised labels as a keyword argument:"
   ],
   "metadata": {}
  },
  {
   "outputs": [
    {
     "output_type": "execute_result",
     "data": {
      "text/plain": "105-element Array{Int64,1}:\n 3\n 2\n 2\n 2\n 3\n 3\n 1\n 3\n 3\n 3\n ⋮\n 3\n 2\n 1\n 3\n 2\n 2\n 3\n 1\n 1"
     },
     "metadata": {},
     "execution_count": 15
    }
   ],
   "cell_type": "code",
   "source": [
    "# Train in simple supervised mode by passing the labels as a keyword argument.\n",
    "y_hat_train_1 = train!(my_fuzzyart_1, X_train, y=y_train)\n",
    "y_hat_train_2 = train!(my_fuzzyart_2, X_train, y=y_train)"
   ],
   "metadata": {},
   "execution_count": 15
  },
  {
   "cell_type": "markdown",
   "source": [
    "We then classify the test data with both modules:"
   ],
   "metadata": {}
  },
  {
   "outputs": [
    {
     "name": "stdout",
     "output_type": "stream",
     "text": [
      "FuzzyART 1 labels: (45,) Array{Int64,1}\n",
      "FuzzyART 2 labels: (45,) Array{Int64,1}\n",
      "Testing performance rho=0.5: 0.9111\n",
      "Testing performance rho=0.7: 0.8667\n"
     ]
    }
   ],
   "cell_type": "code",
   "source": [
    "y_hat_1 = AdaptiveResonance.classify(my_fuzzyart_1, X_test, get_bmu=true)\n",
    "y_hat_2 = AdaptiveResonance.classify(my_fuzzyart_2, X_test, get_bmu=true)\n",
    "\n",
    "# Check the shape and type of the output labels\n",
    "println(\"FuzzyART 1 labels: \",  size(y_hat_1), \" \", typeof(y_hat_1))\n",
    "println(\"FuzzyART 2 labels: \",  size(y_hat_2), \" \", typeof(y_hat_2))\n",
    "\n",
    "# Calculate the performance on the test data\n",
    "perf_test_1 = performance(y_hat_1, y_test)\n",
    "perf_test_2 = performance(y_hat_2, y_test)\n",
    "\n",
    "# Format each performance number for comparison\n",
    "@printf \"Testing performance rho=%.1f: %.4f\\n\" rho_1 perf_test_1\n",
    "@printf \"Testing performance rho=%.1f: %.4f\\n\" rho_2 perf_test_2"
   ],
   "metadata": {},
   "execution_count": 16
  },
  {
   "cell_type": "markdown",
   "source": [
    "In addition to having different performances, we can see that there is a subsequent trade-off in the number of categories used:"
   ],
   "metadata": {}
  },
  {
   "outputs": [
    {
     "name": "stdout",
     "output_type": "stream",
     "text": [
      "Number of categories rho=0.5: 16\n",
      "Number of categories rho=0.7: 17\n"
     ]
    }
   ],
   "cell_type": "code",
   "source": [
    "# Print the number of categories for each vigilance parameter\n",
    "@printf \"Number of categories rho=%.1f: %i\\n\" rho_1 my_fuzzyart_1.n_categories\n",
    "@printf \"Number of categories rho=%.1f: %i\\n\" rho_2 my_fuzzyart_2.n_categories"
   ],
   "metadata": {},
   "execution_count": 17
  },
  {
   "cell_type": "markdown",
   "source": [
    "The variation between vigilance parameter, number of categories created during learning, and testing performance/generalization is a central theme in ART-based algorithms."
   ],
   "metadata": {}
  },
  {
   "cell_type": "markdown",
   "source": [
    "## Visualization"
   ],
   "metadata": {}
  },
  {
   "cell_type": "markdown",
   "source": [
    "Now, to visualize how the two models differ in how they partition the data, we can use principal component analysis (PCA) to compress to two plotting dimensions.\n",
    "PCA is a method to represent a dataset in a different number of dimensions while preserving the relative separation between datapoints.\n",
    "Though most datasets are not able to be effectively transformed down to two dimensions, this technique is useful to get a general sense of how well separated the classes are and how well your algorithm classifies them."
   ],
   "metadata": {}
  },
  {
   "outputs": [
    {
     "name": "stdout",
     "output_type": "stream",
     "text": [
      "┌ Warning: `transform(f, x)` is deprecated, use `predict(f, x)` instead.\n",
      "│   caller = top-level scope at options.ipynb:5\n",
      "└ @ Core ~/work/AdaptiveResonance.jl/AdaptiveResonance.jl/docs/src/examples/adaptive_resonance/options.ipynb:5\n"
     ]
    },
    {
     "output_type": "execute_result",
     "data": {
      "text/plain": "2×45 Array{Float64,2}:\n  2.74644   2.30313   -1.38767   -1.41407   …  2.59716  -3.48877  -1.38967\n -0.311124  0.105523  -0.204031  -0.574925     1.10002   1.17154  -0.282887"
     },
     "metadata": {},
     "execution_count": 18
    }
   ],
   "cell_type": "code",
   "source": [
    "# Train a PCA model to visually separate the features in two dimensions.\n",
    "M = fit(PCA, features; maxoutdim=2)\n",
    "\n",
    "# Apply the PCA model to the testing set\n",
    "X_test_pca = transform(M, X_test)"
   ],
   "metadata": {},
   "execution_count": 18
  },
  {
   "cell_type": "markdown",
   "source": [
    "We can now plot the PCA'ed test set and label them according to the two FuzzyART's"
   ],
   "metadata": {}
  },
  {
   "outputs": [
    {
     "output_type": "execute_result",
     "data": {
      "text/plain": "Plot{Plots.GRBackend() n=6}",
      "image/png": "[encoded data removed]",
      "text/html": [
       "<?xml version=\"1.0\" encoding=\"utf-8\"?>\n",
       "<svg xmlns=\"http://www.w3.org/2000/svg\" xmlns:xlink=\"http://www.w3.org/1999/xlink\" width=\"600\" height=\"400\" viewBox=\"0 0 2400 1600\">\n",
       "<defs>\n",
       "  <clipPath id=\"clip720\">\n",
       "    <rect x=\"0\" y=\"0\" width=\"2400\" height=\"1600\"/>\n",
       "  </clipPath>\n",
       "</defs>\n",
       "<path clip-path=\"url(#clip720)\" d=\"\n",
       "M0 1600 L2400 1600 L2400 0 L0 0  Z\n",
       "  \" fill=\"#ffffff\" fill-rule=\"evenodd\" fill-opacity=\"1\"/>\n",
       "<defs>\n",
       "  <clipPath id=\"clip721\">\n",
       "    <rect x=\"480\" y=\"0\" width=\"1681\" height=\"1600\"/>\n",
       "  </clipPath>\n",
       "</defs>\n",
       "<path clip-path=\"url(#clip720)\" d=\"\n",
       "M86.9921 1521.01 L1152.76 1521.01 L1152.76 62.9921 L86.9921 62.9921  Z\n",
       "  \" fill=\"#ffffff\" fill-rule=\"evenodd\" fill-opacity=\"1\"/>\n",
       "<defs>\n",
       "  <clipPath id=\"clip722\">\n",
       "    <rect x=\"86\" y=\"62\" width=\"1067\" height=\"1459\"/>\n",
       "  </clipPath>\n",
       "</defs>\n",
       "<polyline clip-path=\"url(#clip722)\" style=\"stroke:#000000; stroke-width:2; stroke-opacity:0.1; fill:none\" points=\"\n",
       "  192.91,1521.01 192.91,62.9921 \n",
       "  \"/>\n",
       "<polyline clip-path=\"url(#clip722)\" style=\"stroke:#000000; stroke-width:2; stroke-opacity:0.1; fill:none\" points=\"\n",
       "  347.901,1521.01 347.901,62.9921 \n",
       "  \"/>\n",
       "<polyline clip-path=\"url(#clip722)\" style=\"stroke:#000000; stroke-width:2; stroke-opacity:0.1; fill:none\" points=\"\n",
       "  502.892,1521.01 502.892,62.9921 \n",
       "  \"/>\n",
       "<polyline clip-path=\"url(#clip722)\" style=\"stroke:#000000; stroke-width:2; stroke-opacity:0.1; fill:none\" points=\"\n",
       "  657.883,1521.01 657.883,62.9921 \n",
       "  \"/>\n",
       "<polyline clip-path=\"url(#clip722)\" style=\"stroke:#000000; stroke-width:2; stroke-opacity:0.1; fill:none\" points=\"\n",
       "  812.874,1521.01 812.874,62.9921 \n",
       "  \"/>\n",
       "<polyline clip-path=\"url(#clip722)\" style=\"stroke:#000000; stroke-width:2; stroke-opacity:0.1; fill:none\" points=\"\n",
       "  967.866,1521.01 967.866,62.9921 \n",
       "  \"/>\n",
       "<polyline clip-path=\"url(#clip722)\" style=\"stroke:#000000; stroke-width:2; stroke-opacity:0.1; fill:none\" points=\"\n",
       "  1122.86,1521.01 1122.86,62.9921 \n",
       "  \"/>\n",
       "<polyline clip-path=\"url(#clip720)\" style=\"stroke:#000000; stroke-width:4; stroke-opacity:1; fill:none\" points=\"\n",
       "  86.9921,1521.01 1152.76,1521.01 \n",
       "  \"/>\n",
       "<polyline clip-path=\"url(#clip720)\" style=\"stroke:#000000; stroke-width:4; stroke-opacity:1; fill:none\" points=\"\n",
       "  192.91,1521.01 192.91,1503.51 \n",
       "  \"/>\n",
       "<polyline clip-path=\"url(#clip720)\" style=\"stroke:#000000; stroke-width:4; stroke-opacity:1; fill:none\" points=\"\n",
       "  347.901,1521.01 347.901,1503.51 \n",
       "  \"/>\n",
       "<polyline clip-path=\"url(#clip720)\" style=\"stroke:#000000; stroke-width:4; stroke-opacity:1; fill:none\" points=\"\n",
       "  502.892,1521.01 502.892,1503.51 \n",
       "  \"/>\n",
       "<polyline clip-path=\"url(#clip720)\" style=\"stroke:#000000; stroke-width:4; stroke-opacity:1; fill:none\" points=\"\n",
       "  657.883,1521.01 657.883,1503.51 \n",
       "  \"/>\n",
       "<polyline clip-path=\"url(#clip720)\" style=\"stroke:#000000; stroke-width:4; stroke-opacity:1; fill:none\" points=\"\n",
       "  812.874,1521.01 812.874,1503.51 \n",
       "  \"/>\n",
       "<polyline clip-path=\"url(#clip720)\" style=\"stroke:#000000; stroke-width:4; stroke-opacity:1; fill:none\" points=\"\n",
       "  967.866,1521.01 967.866,1503.51 \n",
       "  \"/>\n",
       "<polyline clip-path=\"url(#clip720)\" style=\"stroke:#000000; stroke-width:4; stroke-opacity:1; fill:none\" points=\"\n",
       "  1122.86,1521.01 1122.86,1503.51 \n",
       "  \"/>\n",
       "<path clip-path=\"url(#clip720)\" d=\"M 0 0 M171.894 1558.69 L194.151 1558.69 L194.151 1561.64 L171.894 1561.64 L171.894 1558.69 Z\" fill=\"#000000\" fill-rule=\"evenodd\" fill-opacity=\"1\" /><path clip-path=\"url(#clip720)\" d=\"M 0 0 M208.578 1557.34 Q211.095 1557.87 212.501 1559.58 Q213.925 1561.28 213.925 1563.78 Q213.925 1567.61 211.286 1569.71 Q208.647 1571.82 203.786 1571.82 Q202.154 1571.82 200.418 1571.49 Q198.699 1571.17 196.859 1570.53 L196.859 1567.15 Q198.318 1568 200.054 1568.43 Q201.79 1568.86 203.682 1568.86 Q206.981 1568.86 208.699 1567.56 Q210.436 1566.26 210.436 1563.78 Q210.436 1561.49 208.821 1560.2 Q207.224 1558.9 204.359 1558.9 L201.338 1558.9 L201.338 1556.02 L204.498 1556.02 Q207.085 1556.02 208.456 1554.99 Q209.828 1553.95 209.828 1552.01 Q209.828 1550.01 208.404 1548.95 Q206.998 1547.87 204.359 1547.87 Q202.918 1547.87 201.269 1548.19 Q199.62 1548.5 197.64 1549.16 L197.64 1546.03 Q199.637 1545.48 201.373 1545.2 Q203.127 1544.92 204.672 1544.92 Q208.665 1544.92 210.991 1546.75 Q213.317 1548.55 213.317 1551.64 Q213.317 1553.79 212.085 1555.29 Q210.852 1556.76 208.578 1557.34 Z\" fill=\"#000000\" fill-rule=\"evenodd\" fill-opacity=\"1\" /><path clip-path=\"url(#clip720)\" d=\"M 0 0 M327.241 1558.69 L349.498 1558.69 L349.498 1561.64 L327.241 1561.64 L327.241 1558.69 Z\" fill=\"#000000\" fill-rule=\"evenodd\" fill-opacity=\"1\" /><path clip-path=\"url(#clip720)\" d=\"M 0 0 M356.321 1568.36 L368.56 1568.36 L368.56 1571.31 L352.102 1571.31 L352.102 1568.36 Q354.099 1566.29 357.536 1562.82 Q360.991 1559.33 361.876 1558.33 Q363.56 1556.43 364.22 1555.13 Q364.897 1553.81 364.897 1552.54 Q364.897 1550.48 363.439 1549.18 Q361.998 1547.87 359.672 1547.87 Q358.022 1547.87 356.182 1548.45 Q354.359 1549.02 352.276 1550.18 L352.276 1546.64 Q354.394 1545.79 356.234 1545.36 Q358.074 1544.92 359.602 1544.92 Q363.63 1544.92 366.026 1546.94 Q368.422 1548.95 368.422 1552.32 Q368.422 1553.92 367.814 1555.36 Q367.224 1556.78 365.644 1558.73 Q365.21 1559.23 362.883 1561.64 Q360.557 1564.04 356.321 1568.36 Z\" fill=\"#000000\" fill-rule=\"evenodd\" fill-opacity=\"1\" /><path clip-path=\"url(#clip720)\" d=\"M 0 0 M482.093 1558.69 L504.35 1558.69 L504.35 1561.64 L482.093 1561.64 L482.093 1558.69 Z\" fill=\"#000000\" fill-rule=\"evenodd\" fill-opacity=\"1\" /><path clip-path=\"url(#clip720)\" d=\"M 0 0 M508.76 1568.36 L514.489 1568.36 L514.489 1548.59 L508.257 1549.84 L508.257 1546.64 L514.454 1545.39 L517.961 1545.39 L517.961 1568.36 L523.69 1568.36 L523.69 1571.31 L508.76 1571.31 L508.76 1568.36 Z\" fill=\"#000000\" fill-rule=\"evenodd\" fill-opacity=\"1\" /><path clip-path=\"url(#clip720)\" d=\"M 0 0 M657.883 1547.7 Q655.175 1547.7 653.803 1550.37 Q652.449 1553.03 652.449 1558.38 Q652.449 1563.71 653.803 1566.38 Q655.175 1569.04 657.883 1569.04 Q660.609 1569.04 661.963 1566.38 Q663.335 1563.71 663.335 1558.38 Q663.335 1553.03 661.963 1550.37 Q660.609 1547.7 657.883 1547.7 M657.883 1544.92 Q662.241 1544.92 664.532 1548.38 Q666.841 1551.82 666.841 1558.38 Q666.841 1564.92 664.532 1568.38 Q662.241 1571.82 657.883 1571.82 Q653.526 1571.82 651.217 1568.38 Q648.925 1564.92 648.925 1558.38 Q648.925 1551.82 651.217 1548.38 Q653.526 1544.92 657.883 1544.92 Z\" fill=\"#000000\" fill-rule=\"evenodd\" fill-opacity=\"1\" /><path clip-path=\"url(#clip720)\" d=\"M 0 0 M805.661 1568.36 L811.39 1568.36 L811.39 1548.59 L805.157 1549.84 L805.157 1546.64 L811.355 1545.39 L814.862 1545.39 L814.862 1568.36 L820.591 1568.36 L820.591 1571.31 L805.661 1571.31 L805.661 1568.36 Z\" fill=\"#000000\" fill-rule=\"evenodd\" fill-opacity=\"1\" /><path clip-path=\"url(#clip720)\" d=\"M 0 0 M963.855 1568.36 L976.095 1568.36 L976.095 1571.31 L959.636 1571.31 L959.636 1568.36 Q961.633 1566.29 965.07 1562.82 Q968.525 1559.33 969.411 1558.33 Q971.095 1556.43 971.754 1555.13 Q972.432 1553.81 972.432 1552.54 Q972.432 1550.48 970.973 1549.18 Q969.532 1547.87 967.206 1547.87 Q965.557 1547.87 963.716 1548.45 Q961.893 1549.02 959.81 1550.18 L959.81 1546.64 Q961.928 1545.79 963.768 1545.36 Q965.609 1544.92 967.136 1544.92 Q971.164 1544.92 973.56 1546.94 Q975.956 1548.95 975.956 1552.32 Q975.956 1553.92 975.348 1555.36 Q974.758 1556.78 973.178 1558.73 Q972.744 1559.23 970.418 1561.64 Q968.091 1564.04 963.855 1568.36 Z\" fill=\"#000000\" fill-rule=\"evenodd\" fill-opacity=\"1\" /><path clip-path=\"url(#clip720)\" d=\"M 0 0 M1126.04 1557.34 Q1128.56 1557.87 1129.97 1559.58 Q1131.39 1561.28 1131.39 1563.78 Q1131.39 1567.61 1128.75 1569.71 Q1126.11 1571.82 1121.25 1571.82 Q1119.62 1571.82 1117.88 1571.49 Q1116.16 1571.17 1114.32 1570.53 L1114.32 1567.15 Q1115.78 1568 1117.52 1568.43 Q1119.25 1568.86 1121.15 1568.86 Q1124.45 1568.86 1126.16 1567.56 Q1127.9 1566.26 1127.9 1563.78 Q1127.9 1561.49 1126.29 1560.2 Q1124.69 1558.9 1121.82 1558.9 L1118.8 1558.9 L1118.8 1556.02 L1121.96 1556.02 Q1124.55 1556.02 1125.92 1554.99 Q1127.29 1553.95 1127.29 1552.01 Q1127.29 1550.01 1125.87 1548.95 Q1124.46 1547.87 1121.82 1547.87 Q1120.38 1547.87 1118.73 1548.19 Q1117.08 1548.5 1115.11 1549.16 L1115.11 1546.03 Q1117.1 1545.48 1118.84 1545.2 Q1120.59 1544.92 1122.14 1544.92 Q1126.13 1544.92 1128.46 1546.75 Q1130.78 1548.55 1130.78 1551.64 Q1130.78 1553.79 1129.55 1555.29 Q1128.32 1556.76 1126.04 1557.34 Z\" fill=\"#000000\" fill-rule=\"evenodd\" fill-opacity=\"1\" /><polyline clip-path=\"url(#clip722)\" style=\"stroke:#000000; stroke-width:2; stroke-opacity:0.1; fill:none\" points=\"\n",
       "  86.9921,1331.41 1152.76,1331.41 \n",
       "  \"/>\n",
       "<polyline clip-path=\"url(#clip722)\" style=\"stroke:#000000; stroke-width:2; stroke-opacity:0.1; fill:none\" points=\"\n",
       "  86.9921,1048.86 1152.76,1048.86 \n",
       "  \"/>\n",
       "<polyline clip-path=\"url(#clip722)\" style=\"stroke:#000000; stroke-width:2; stroke-opacity:0.1; fill:none\" points=\"\n",
       "  86.9921,766.303 1152.76,766.303 \n",
       "  \"/>\n",
       "<polyline clip-path=\"url(#clip722)\" style=\"stroke:#000000; stroke-width:2; stroke-opacity:0.1; fill:none\" points=\"\n",
       "  86.9921,483.75 1152.76,483.75 \n",
       "  \"/>\n",
       "<polyline clip-path=\"url(#clip722)\" style=\"stroke:#000000; stroke-width:2; stroke-opacity:0.1; fill:none\" points=\"\n",
       "  86.9921,201.197 1152.76,201.197 \n",
       "  \"/>\n",
       "<polyline clip-path=\"url(#clip720)\" style=\"stroke:#000000; stroke-width:4; stroke-opacity:1; fill:none\" points=\"\n",
       "  86.9921,1521.01 86.9921,62.9921 \n",
       "  \"/>\n",
       "<polyline clip-path=\"url(#clip720)\" style=\"stroke:#000000; stroke-width:4; stroke-opacity:1; fill:none\" points=\"\n",
       "  86.9921,1331.41 99.7813,1331.41 \n",
       "  \"/>\n",
       "<polyline clip-path=\"url(#clip720)\" style=\"stroke:#000000; stroke-width:4; stroke-opacity:1; fill:none\" points=\"\n",
       "  86.9921,1048.86 99.7813,1048.86 \n",
       "  \"/>\n",
       "<polyline clip-path=\"url(#clip720)\" style=\"stroke:#000000; stroke-width:4; stroke-opacity:1; fill:none\" points=\"\n",
       "  86.9921,766.303 99.7813,766.303 \n",
       "  \"/>\n",
       "<polyline clip-path=\"url(#clip720)\" style=\"stroke:#000000; stroke-width:4; stroke-opacity:1; fill:none\" points=\"\n",
       "  86.9921,483.75 99.7813,483.75 \n",
       "  \"/>\n",
       "<polyline clip-path=\"url(#clip720)\" style=\"stroke:#000000; stroke-width:4; stroke-opacity:1; fill:none\" points=\"\n",
       "  86.9921,201.197 99.7813,201.197 \n",
       "  \"/>\n",
       "<path clip-path=\"url(#clip720)\" d=\"M 0 0 M-41.4379 1331.86 L-11.7622 1331.86 L-11.7622 1335.79 L-41.4379 1335.79 L-41.4379 1331.86 Z\" fill=\"#000000\" fill-rule=\"evenodd\" fill-opacity=\"1\" /><path clip-path=\"url(#clip720)\" d=\"M 0 0 M-5.88257 1344.75 L1.75628 1344.75 L1.75628 1318.39 L-6.55386 1320.05 L-6.55386 1315.79 L1.70998 1314.13 L6.38588 1314.13 L6.38588 1344.75 L14.0247 1344.75 L14.0247 1348.69 L-5.88257 1348.69 L-5.88257 1344.75 Z\" fill=\"#000000\" fill-rule=\"evenodd\" fill-opacity=\"1\" /><path clip-path=\"url(#clip720)\" d=\"M 0 0 M19.0941 1342.81 L23.9784 1342.81 L23.9784 1348.69 L19.0941 1348.69 L19.0941 1342.81 Z\" fill=\"#000000\" fill-rule=\"evenodd\" fill-opacity=\"1\" /><path clip-path=\"url(#clip720)\" d=\"M 0 0 M39.0477 1317.21 Q35.4367 1317.21 33.608 1320.77 Q31.8024 1324.31 31.8024 1331.44 Q31.8024 1338.55 33.608 1342.11 Q35.4367 1345.66 39.0477 1345.66 Q42.682 1345.66 44.4875 1342.11 Q46.3162 1338.55 46.3162 1331.44 Q46.3162 1324.31 44.4875 1320.77 Q42.682 1317.21 39.0477 1317.21 M39.0477 1313.5 Q44.8579 1313.5 47.9134 1318.11 Q50.9921 1322.69 50.9921 1331.44 Q50.9921 1340.17 47.9134 1344.78 Q44.8579 1349.36 39.0477 1349.36 Q33.2376 1349.36 30.1589 1344.78 Q27.1034 1340.17 27.1034 1331.44 Q27.1034 1322.69 30.1589 1318.11 Q33.2376 1313.5 39.0477 1313.5 Z\" fill=\"#000000\" fill-rule=\"evenodd\" fill-opacity=\"1\" /><path clip-path=\"url(#clip720)\" d=\"M 0 0 M-41.6694 1049.31 L-11.9936 1049.31 L-11.9936 1053.24 L-41.6694 1053.24 L-41.6694 1049.31 Z\" fill=\"#000000\" fill-rule=\"evenodd\" fill-opacity=\"1\" /><path clip-path=\"url(#clip720)\" d=\"M 0 0 M3.07572 1034.65 Q-0.535376 1034.65 -2.36407 1038.22 Q-4.16962 1041.76 -4.16962 1048.89 Q-4.16962 1056 -2.36407 1059.56 Q-0.535376 1063.1 3.07572 1063.1 Q6.70996 1063.1 8.5155 1059.56 Q10.3442 1056 10.3442 1048.89 Q10.3442 1041.76 8.5155 1038.22 Q6.70996 1034.65 3.07572 1034.65 M3.07572 1030.95 Q8.88587 1030.95 11.9414 1035.56 Q15.0201 1040.14 15.0201 1048.89 Q15.0201 1057.62 11.9414 1062.22 Q8.88587 1066.81 3.07572 1066.81 Q-2.73444 1066.81 -5.81313 1062.22 Q-8.86866 1057.62 -8.86866 1048.89 Q-8.86866 1040.14 -5.81313 1035.56 Q-2.73444 1030.95 3.07572 1030.95 Z\" fill=\"#000000\" fill-rule=\"evenodd\" fill-opacity=\"1\" /><path clip-path=\"url(#clip720)\" d=\"M 0 0 M20.0895 1060.26 L24.9737 1060.26 L24.9737 1066.14 L20.0895 1066.14 L20.0895 1060.26 Z\" fill=\"#000000\" fill-rule=\"evenodd\" fill-opacity=\"1\" /><path clip-path=\"url(#clip720)\" d=\"M 0 0 M30.0895 1031.58 L48.4458 1031.58 L48.4458 1035.51 L34.3718 1035.51 L34.3718 1043.98 Q35.3904 1043.64 36.4089 1043.47 Q37.4274 1043.29 38.4459 1043.29 Q44.2329 1043.29 47.6125 1046.46 Q50.9921 1049.63 50.9921 1055.05 Q50.9921 1060.63 47.5199 1063.73 Q44.0477 1066.81 37.7283 1066.81 Q35.5524 1066.81 33.2839 1066.44 Q31.0385 1066.07 28.6311 1065.32 L28.6311 1060.63 Q30.7145 1061.76 32.9367 1062.32 Q35.1589 1062.87 37.6357 1062.87 Q41.6403 1062.87 43.9783 1060.76 Q46.3162 1058.66 46.3162 1055.05 Q46.3162 1051.44 43.9783 1049.33 Q41.6403 1047.22 37.6357 1047.22 Q35.7607 1047.22 33.8857 1047.64 Q32.0339 1048.06 30.0895 1048.94 L30.0895 1031.58 Z\" fill=\"#000000\" fill-rule=\"evenodd\" fill-opacity=\"1\" /><path clip-path=\"url(#clip720)\" d=\"M 0 0 M2.08035 752.101 Q-1.53074 752.101 -3.35943 755.666 Q-5.16498 759.208 -5.16498 766.337 Q-5.16498 773.444 -3.35943 777.009 Q-1.53074 780.55 2.08035 780.55 Q5.71459 780.55 7.52014 777.009 Q9.34883 773.444 9.34883 766.337 Q9.34883 759.208 7.52014 755.666 Q5.71459 752.101 2.08035 752.101 M2.08035 748.398 Q7.89051 748.398 10.946 753.004 Q14.0247 757.587 14.0247 766.337 Q14.0247 775.064 10.946 779.671 Q7.89051 784.254 2.08035 784.254 Q-3.7298 784.254 -6.80849 779.671 Q-9.86403 775.064 -9.86403 766.337 Q-9.86403 757.587 -6.80849 753.004 Q-3.7298 748.398 2.08035 748.398 Z\" fill=\"#000000\" fill-rule=\"evenodd\" fill-opacity=\"1\" /><path clip-path=\"url(#clip720)\" d=\"M 0 0 M19.0941 777.703 L23.9784 777.703 L23.9784 783.583 L19.0941 783.583 L19.0941 777.703 Z\" fill=\"#000000\" fill-rule=\"evenodd\" fill-opacity=\"1\" /><path clip-path=\"url(#clip720)\" d=\"M 0 0 M39.0477 752.101 Q35.4367 752.101 33.608 755.666 Q31.8024 759.208 31.8024 766.337 Q31.8024 773.444 33.608 777.009 Q35.4367 780.55 39.0477 780.55 Q42.682 780.55 44.4875 777.009 Q46.3162 773.444 46.3162 766.337 Q46.3162 759.208 44.4875 755.666 Q42.682 752.101 39.0477 752.101 M39.0477 748.398 Q44.8579 748.398 47.9134 753.004 Q50.9921 757.587 50.9921 766.337 Q50.9921 775.064 47.9134 779.671 Q44.8579 784.254 39.0477 784.254 Q33.2376 784.254 30.1589 779.671 Q27.1034 775.064 27.1034 766.337 Q27.1034 757.587 30.1589 753.004 Q33.2376 748.398 39.0477 748.398 Z\" fill=\"#000000\" fill-rule=\"evenodd\" fill-opacity=\"1\" /><path clip-path=\"url(#clip720)\" d=\"M 0 0 M3.07572 469.549 Q-0.535376 469.549 -2.36407 473.113 Q-4.16962 476.655 -4.16962 483.785 Q-4.16962 490.891 -2.36407 494.456 Q-0.535376 497.998 3.07572 497.998 Q6.70996 497.998 8.5155 494.456 Q10.3442 490.891 10.3442 483.785 Q10.3442 476.655 8.5155 473.113 Q6.70996 469.549 3.07572 469.549 M3.07572 465.845 Q8.88587 465.845 11.9414 470.451 Q15.0201 475.035 15.0201 483.785 Q15.0201 492.512 11.9414 497.118 Q8.88587 501.701 3.07572 501.701 Q-2.73444 501.701 -5.81313 497.118 Q-8.86866 492.512 -8.86866 483.785 Q-8.86866 475.035 -5.81313 470.451 Q-2.73444 465.845 3.07572 465.845 Z\" fill=\"#000000\" fill-rule=\"evenodd\" fill-opacity=\"1\" /><path clip-path=\"url(#clip720)\" d=\"M 0 0 M20.0895 495.15 L24.9737 495.15 L24.9737 501.03 L20.0895 501.03 L20.0895 495.15 Z\" fill=\"#000000\" fill-rule=\"evenodd\" fill-opacity=\"1\" /><path clip-path=\"url(#clip720)\" d=\"M 0 0 M30.0895 466.47 L48.4458 466.47 L48.4458 470.405 L34.3718 470.405 L34.3718 478.877 Q35.3904 478.53 36.4089 478.368 Q37.4274 478.183 38.4459 478.183 Q44.2329 478.183 47.6125 481.354 Q50.9921 484.525 50.9921 489.942 Q50.9921 495.521 47.5199 498.623 Q44.0477 501.701 37.7283 501.701 Q35.5524 501.701 33.2839 501.331 Q31.0385 500.961 28.6311 500.22 L28.6311 495.521 Q30.7145 496.655 32.9367 497.211 Q35.1589 497.766 37.6357 497.766 Q41.6403 497.766 43.9783 495.66 Q46.3162 493.553 46.3162 489.942 Q46.3162 486.331 43.9783 484.225 Q41.6403 482.118 37.6357 482.118 Q35.7607 482.118 33.8857 482.535 Q32.0339 482.951 30.0895 483.831 L30.0895 466.47 Z\" fill=\"#000000\" fill-rule=\"evenodd\" fill-opacity=\"1\" /><path clip-path=\"url(#clip720)\" d=\"M 0 0 M-5.88257 214.542 L1.75628 214.542 L1.75628 188.177 L-6.55386 189.843 L-6.55386 185.584 L1.70998 183.917 L6.38588 183.917 L6.38588 214.542 L14.0247 214.542 L14.0247 218.477 L-5.88257 218.477 L-5.88257 214.542 Z\" fill=\"#000000\" fill-rule=\"evenodd\" fill-opacity=\"1\" /><path clip-path=\"url(#clip720)\" d=\"M 0 0 M19.0941 212.598 L23.9784 212.598 L23.9784 218.477 L19.0941 218.477 L19.0941 212.598 Z\" fill=\"#000000\" fill-rule=\"evenodd\" fill-opacity=\"1\" /><path clip-path=\"url(#clip720)\" d=\"M 0 0 M39.0477 186.996 Q35.4367 186.996 33.608 190.561 Q31.8024 194.103 31.8024 201.232 Q31.8024 208.339 33.608 211.903 Q35.4367 215.445 39.0477 215.445 Q42.682 215.445 44.4875 211.903 Q46.3162 208.339 46.3162 201.232 Q46.3162 194.103 44.4875 190.561 Q42.682 186.996 39.0477 186.996 M39.0477 183.292 Q44.8579 183.292 47.9134 187.899 Q50.9921 192.482 50.9921 201.232 Q50.9921 209.959 47.9134 214.565 Q44.8579 219.149 39.0477 219.149 Q33.2376 219.149 30.1589 214.565 Q27.1034 209.959 27.1034 201.232 Q27.1034 192.482 30.1589 187.899 Q33.2376 183.292 39.0477 183.292 Z\" fill=\"#000000\" fill-rule=\"evenodd\" fill-opacity=\"1\" /><path clip-path=\"url(#clip720)\" d=\"M 0 0 M410.581 6.912 L430.442 6.912 L430.442 10.8472 L415.257 10.8472 L415.257 21.0323 L428.961 21.0323 L428.961 24.9675 L415.257 24.9675 L415.257 41.472 L410.581 41.472 L410.581 6.912 Z\" fill=\"#000000\" fill-rule=\"evenodd\" fill-opacity=\"1\" /><path clip-path=\"url(#clip720)\" d=\"M 0 0 M431.877 31.2406 L431.877 15.5462 L436.137 15.5462 L436.137 31.0785 Q436.137 34.7591 437.572 36.6109 Q439.007 38.4396 441.877 38.4396 Q445.326 38.4396 447.317 36.2405 Q449.331 34.0415 449.331 30.2452 L449.331 15.5462 L453.59 15.5462 L453.59 41.472 L449.331 41.472 L449.331 37.4905 Q447.78 39.8516 445.72 41.009 Q443.683 42.1433 440.975 42.1433 Q436.507 42.1433 434.192 39.3655 Q431.877 36.5878 431.877 31.2406 M442.595 14.9212 L442.595 14.9212 Z\" fill=\"#000000\" fill-rule=\"evenodd\" fill-opacity=\"1\" /><path clip-path=\"url(#clip720)\" d=\"M 0 0 M456.206 15.5462 L476.437 15.5462 L476.437 19.4351 L460.419 38.0692 L476.437 38.0692 L476.437 41.472 L455.627 41.472 L455.627 37.5831 L471.646 18.949 L456.206 18.949 L456.206 15.5462 Z\" fill=\"#000000\" fill-rule=\"evenodd\" fill-opacity=\"1\" /><path clip-path=\"url(#clip720)\" d=\"M 0 0 M479.053 15.5462 L499.284 15.5462 L499.284 19.4351 L483.266 38.0692 L499.284 38.0692 L499.284 41.472 L478.474 41.472 L478.474 37.5831 L494.493 18.949 L479.053 18.949 L479.053 15.5462 Z\" fill=\"#000000\" fill-rule=\"evenodd\" fill-opacity=\"1\" /><path clip-path=\"url(#clip720)\" d=\"M 0 0 M514.539 43.8794 Q512.733 48.509 511.02 49.921 Q509.307 51.3331 506.437 51.3331 L503.034 51.3331 L503.034 47.7683 L505.534 47.7683 Q507.294 47.7683 508.266 46.9349 Q509.238 46.1016 510.419 42.9998 L511.182 41.0553 L500.696 15.5462 L505.21 15.5462 L513.312 35.8239 L521.414 15.5462 L525.928 15.5462 L514.539 43.8794 Z\" fill=\"#000000\" fill-rule=\"evenodd\" fill-opacity=\"1\" /><path clip-path=\"url(#clip720)\" d=\"M 0 0 M542.131 11.5185 L535.789 28.7174 L548.497 28.7174 L542.131 11.5185 M539.493 6.912 L544.793 6.912 L557.965 41.472 L553.104 41.472 L549.955 32.6063 L534.377 32.6063 L531.229 41.472 L526.298 41.472 L539.493 6.912 Z\" fill=\"#000000\" fill-rule=\"evenodd\" fill-opacity=\"1\" /><path clip-path=\"url(#clip720)\" d=\"M 0 0 M579.006 25.2684 Q580.511 25.7776 581.923 27.4443 Q583.358 29.111 584.793 32.0276 L589.539 41.472 L584.515 41.472 L580.094 32.6063 Q578.381 29.1341 576.761 27.9998 Q575.164 26.8656 572.386 26.8656 L567.293 26.8656 L567.293 41.472 L562.617 41.472 L562.617 6.912 L573.173 6.912 Q579.099 6.912 582.015 9.38884 Q584.932 11.8657 584.932 16.8657 Q584.932 20.1295 583.404 22.2823 Q581.9 24.4351 579.006 25.2684 M567.293 10.7546 L567.293 23.023 L573.173 23.023 Q576.552 23.023 578.265 21.4721 Q580.002 19.898 580.002 16.8657 Q580.002 13.8333 578.265 12.3055 Q576.552 10.7546 573.173 10.7546 L567.293 10.7546 Z\" fill=\"#000000\" fill-rule=\"evenodd\" fill-opacity=\"1\" /><path clip-path=\"url(#clip720)\" d=\"M 0 0 M585.951 6.912 L615.187 6.912 L615.187 10.8472 L602.918 10.8472 L602.918 41.472 L598.219 41.472 L598.219 10.8472 L585.951 10.8472 L585.951 6.912 Z\" fill=\"#000000\" fill-rule=\"evenodd\" fill-opacity=\"1\" /><path clip-path=\"url(#clip720)\" d=\"M 0 0 M649.747 19.5277 Q649.029 19.111 648.172 18.9258 Q647.339 18.7175 646.321 18.7175 Q642.71 18.7175 640.765 21.0786 Q638.844 23.4165 638.844 27.8147 L638.844 41.472 L634.561 41.472 L634.561 15.5462 L638.844 15.5462 L638.844 19.574 Q640.186 17.2129 642.339 16.0786 Q644.492 14.9212 647.571 14.9212 Q648.01 14.9212 648.543 14.9907 Q649.075 15.037 649.723 15.1527 L649.747 19.5277 Z\" fill=\"#000000\" fill-rule=\"evenodd\" fill-opacity=\"1\" /><path clip-path=\"url(#clip720)\" d=\"M 0 0 M674.932 25.8239 L674.932 41.472 L670.672 41.472 L670.672 25.9628 Q670.672 22.2823 669.237 20.4536 Q667.802 18.6249 664.932 18.6249 Q661.483 18.6249 659.492 20.824 Q657.501 23.023 657.501 26.8193 L657.501 41.472 L653.219 41.472 L653.219 5.45367 L657.501 5.45367 L657.501 19.574 Q659.029 17.236 661.089 16.0786 Q663.172 14.9212 665.881 14.9212 Q670.348 14.9212 672.64 17.699 Q674.932 20.4536 674.932 25.8239 Z\" fill=\"#000000\" fill-rule=\"evenodd\" fill-opacity=\"1\" /><path clip-path=\"url(#clip720)\" d=\"M 0 0 M689.445 18.5323 Q686.019 18.5323 684.029 21.2175 Q682.038 23.8795 682.038 28.5323 Q682.038 33.185 684.006 35.8702 Q685.996 38.5322 689.445 38.5322 Q692.848 38.5322 694.839 35.847 Q696.83 33.1619 696.83 28.5323 Q696.83 23.9258 694.839 21.2406 Q692.848 18.5323 689.445 18.5323 M689.445 14.9212 Q695.001 14.9212 698.172 18.5323 Q701.343 22.1434 701.343 28.5323 Q701.343 34.898 698.172 38.5322 Q695.001 42.1433 689.445 42.1433 Q683.867 42.1433 680.695 38.5322 Q677.547 34.898 677.547 28.5323 Q677.547 22.1434 680.695 18.5323 Q683.867 14.9212 689.445 14.9212 Z\" fill=\"#000000\" fill-rule=\"evenodd\" fill-opacity=\"1\" /><path clip-path=\"url(#clip720)\" d=\"M 0 0 M721.436 19.9443 L751.112 19.9443 L751.112 23.8332 L721.436 23.8332 L721.436 19.9443 M721.436 29.3887 L751.112 29.3887 L751.112 33.3239 L721.436 33.3239 L721.436 29.3887 Z\" fill=\"#000000\" fill-rule=\"evenodd\" fill-opacity=\"1\" /><path clip-path=\"url(#clip720)\" d=\"M 0 0 M781.25 9.99069 Q777.639 9.99069 775.811 13.5555 Q774.005 17.0971 774.005 24.2267 Q774.005 31.3332 775.811 34.898 Q777.639 38.4396 781.25 38.4396 Q784.885 38.4396 786.69 34.898 Q788.519 31.3332 788.519 24.2267 Q788.519 17.0971 786.69 13.5555 Q784.885 9.99069 781.25 9.99069 M781.25 6.287 Q787.061 6.287 790.116 10.8935 Q793.195 15.4768 793.195 24.2267 Q793.195 32.9535 790.116 37.56 Q787.061 42.1433 781.25 42.1433 Q775.44 42.1433 772.362 37.56 Q769.306 32.9535 769.306 24.2267 Q769.306 15.4768 772.362 10.8935 Q775.44 6.287 781.25 6.287 Z\" fill=\"#000000\" fill-rule=\"evenodd\" fill-opacity=\"1\" /><path clip-path=\"url(#clip720)\" d=\"M 0 0 M798.264 35.5924 L803.148 35.5924 L803.148 41.472 L798.264 41.472 L798.264 35.5924 Z\" fill=\"#000000\" fill-rule=\"evenodd\" fill-opacity=\"1\" /><path clip-path=\"url(#clip720)\" d=\"M 0 0 M808.264 6.912 L826.621 6.912 L826.621 10.8472 L812.547 10.8472 L812.547 19.3193 Q813.565 18.9721 814.584 18.8101 Q815.602 18.6249 816.621 18.6249 Q822.408 18.6249 825.787 21.7962 Q829.167 24.9675 829.167 30.3841 Q829.167 35.9628 825.695 39.0646 Q822.222 42.1433 815.903 42.1433 Q813.727 42.1433 811.459 41.7729 Q809.213 41.4026 806.806 40.6618 L806.806 35.9628 Q808.889 37.097 811.111 37.6526 Q813.334 38.2081 815.81 38.2081 Q819.815 38.2081 822.153 36.1017 Q824.491 33.9952 824.491 30.3841 Q824.491 26.773 822.153 24.6665 Q819.815 22.5601 815.81 22.5601 Q813.935 22.5601 812.06 22.9767 Q810.209 23.3934 808.264 24.273 L808.264 6.912 Z\" fill=\"#000000\" fill-rule=\"evenodd\" fill-opacity=\"1\" /><circle clip-path=\"url(#clip722)\" cx=\"1083.56\" cy=\"942.121\" r=\"14\" fill=\"#009af9\" fill-rule=\"evenodd\" fill-opacity=\"1\" stroke=\"#000000\" stroke-opacity=\"1\" stroke-width=\"3.2\"/>\n",
       "<circle clip-path=\"url(#clip722)\" cx=\"1014.85\" cy=\"706.671\" r=\"14\" fill=\"#009af9\" fill-rule=\"evenodd\" fill-opacity=\"1\" stroke=\"#000000\" stroke-opacity=\"1\" stroke-width=\"3.2\"/>\n",
       "<circle clip-path=\"url(#clip722)\" cx=\"1059.36\" cy=\"632.904\" r=\"14\" fill=\"#009af9\" fill-rule=\"evenodd\" fill-opacity=\"1\" stroke=\"#000000\" stroke-opacity=\"1\" stroke-width=\"3.2\"/>\n",
       "<circle clip-path=\"url(#clip722)\" cx=\"1072.31\" cy=\"826.595\" r=\"14\" fill=\"#009af9\" fill-rule=\"evenodd\" fill-opacity=\"1\" stroke=\"#000000\" stroke-opacity=\"1\" stroke-width=\"3.2\"/>\n",
       "<circle clip-path=\"url(#clip722)\" cx=\"1078.79\" cy=\"903.443\" r=\"14\" fill=\"#009af9\" fill-rule=\"evenodd\" fill-opacity=\"1\" stroke=\"#000000\" stroke-opacity=\"1\" stroke-width=\"3.2\"/>\n",
       "<circle clip-path=\"url(#clip722)\" cx=\"1011.25\" cy=\"343.727\" r=\"14\" fill=\"#009af9\" fill-rule=\"evenodd\" fill-opacity=\"1\" stroke=\"#000000\" stroke-opacity=\"1\" stroke-width=\"3.2\"/>\n",
       "<circle clip-path=\"url(#clip722)\" cx=\"1031.42\" cy=\"530.043\" r=\"14\" fill=\"#009af9\" fill-rule=\"evenodd\" fill-opacity=\"1\" stroke=\"#000000\" stroke-opacity=\"1\" stroke-width=\"3.2\"/>\n",
       "<circle clip-path=\"url(#clip722)\" cx=\"1073.91\" cy=\"581.735\" r=\"14\" fill=\"#009af9\" fill-rule=\"evenodd\" fill-opacity=\"1\" stroke=\"#000000\" stroke-opacity=\"1\" stroke-width=\"3.2\"/>\n",
       "<circle clip-path=\"url(#clip722)\" cx=\"1122.59\" cy=\"955.222\" r=\"14\" fill=\"#009af9\" fill-rule=\"evenodd\" fill-opacity=\"1\" stroke=\"#000000\" stroke-opacity=\"1\" stroke-width=\"3.2\"/>\n",
       "<circle clip-path=\"url(#clip722)\" cx=\"1105.78\" cy=\"843.917\" r=\"14\" fill=\"#009af9\" fill-rule=\"evenodd\" fill-opacity=\"1\" stroke=\"#000000\" stroke-opacity=\"1\" stroke-width=\"3.2\"/>\n",
       "<circle clip-path=\"url(#clip722)\" cx=\"1064.77\" cy=\"423.397\" r=\"14\" fill=\"#009af9\" fill-rule=\"evenodd\" fill-opacity=\"1\" stroke=\"#000000\" stroke-opacity=\"1\" stroke-width=\"3.2\"/>\n",
       "<circle clip-path=\"url(#clip722)\" cx=\"1059.07\" cy=\"877.85\" r=\"14\" fill=\"#009af9\" fill-rule=\"evenodd\" fill-opacity=\"1\" stroke=\"#000000\" stroke-opacity=\"1\" stroke-width=\"3.2\"/>\n",
       "<circle clip-path=\"url(#clip722)\" cx=\"1065.95\" cy=\"873.715\" r=\"14\" fill=\"#009af9\" fill-rule=\"evenodd\" fill-opacity=\"1\" stroke=\"#000000\" stroke-opacity=\"1\" stroke-width=\"3.2\"/>\n",
       "<circle clip-path=\"url(#clip722)\" cx=\"1068.24\" cy=\"302.926\" r=\"14\" fill=\"#009af9\" fill-rule=\"evenodd\" fill-opacity=\"1\" stroke=\"#000000\" stroke-opacity=\"1\" stroke-width=\"3.2\"/>\n",
       "<circle clip-path=\"url(#clip722)\" cx=\"1060.42\" cy=\"144.675\" r=\"14\" fill=\"#009af9\" fill-rule=\"evenodd\" fill-opacity=\"1\" stroke=\"#000000\" stroke-opacity=\"1\" stroke-width=\"3.2\"/>\n",
       "<circle clip-path=\"url(#clip722)\" cx=\"496.181\" cy=\"636.918\" r=\"14\" fill=\"#e26f46\" fill-rule=\"evenodd\" fill-opacity=\"1\" stroke=\"#000000\" stroke-opacity=\"1\" stroke-width=\"3.2\"/>\n",
       "<circle clip-path=\"url(#clip722)\" cx=\"737.097\" cy=\"1479.74\" r=\"14\" fill=\"#e26f46\" fill-rule=\"evenodd\" fill-opacity=\"1\" stroke=\"#000000\" stroke-opacity=\"1\" stroke-width=\"3.2\"/>\n",
       "<circle clip-path=\"url(#clip722)\" cx=\"555.652\" cy=\"965.206\" r=\"14\" fill=\"#e26f46\" fill-rule=\"evenodd\" fill-opacity=\"1\" stroke=\"#000000\" stroke-opacity=\"1\" stroke-width=\"3.2\"/>\n",
       "<circle clip-path=\"url(#clip722)\" cx=\"531.896\" cy=\"975.775\" r=\"14\" fill=\"#e26f46\" fill-rule=\"evenodd\" fill-opacity=\"1\" stroke=\"#000000\" stroke-opacity=\"1\" stroke-width=\"3.2\"/>\n",
       "<circle clip-path=\"url(#clip722)\" cx=\"668.786\" cy=\"1163.31\" r=\"14\" fill=\"#e26f46\" fill-rule=\"evenodd\" fill-opacity=\"1\" stroke=\"#000000\" stroke-opacity=\"1\" stroke-width=\"3.2\"/>\n",
       "<circle clip-path=\"url(#clip722)\" cx=\"659.463\" cy=\"1173.5\" r=\"14\" fill=\"#e26f46\" fill-rule=\"evenodd\" fill-opacity=\"1\" stroke=\"#000000\" stroke-opacity=\"1\" stroke-width=\"3.2\"/>\n",
       "<circle clip-path=\"url(#clip722)\" cx=\"532.773\" cy=\"656.077\" r=\"14\" fill=\"#e26f46\" fill-rule=\"evenodd\" fill-opacity=\"1\" stroke=\"#000000\" stroke-opacity=\"1\" stroke-width=\"3.2\"/>\n",
       "<circle clip-path=\"url(#clip722)\" cx=\"798.687\" cy=\"1191.02\" r=\"14\" fill=\"#e26f46\" fill-rule=\"evenodd\" fill-opacity=\"1\" stroke=\"#000000\" stroke-opacity=\"1\" stroke-width=\"3.2\"/>\n",
       "<circle clip-path=\"url(#clip722)\" cx=\"651.18\" cy=\"1094.91\" r=\"14\" fill=\"#e26f46\" fill-rule=\"evenodd\" fill-opacity=\"1\" stroke=\"#000000\" stroke-opacity=\"1\" stroke-width=\"3.2\"/>\n",
       "<circle clip-path=\"url(#clip722)\" cx=\"767.475\" cy=\"1336.17\" r=\"14\" fill=\"#e26f46\" fill-rule=\"evenodd\" fill-opacity=\"1\" stroke=\"#000000\" stroke-opacity=\"1\" stroke-width=\"3.2\"/>\n",
       "<circle clip-path=\"url(#clip722)\" cx=\"518.447\" cy=\"580.038\" r=\"14\" fill=\"#e26f46\" fill-rule=\"evenodd\" fill-opacity=\"1\" stroke=\"#000000\" stroke-opacity=\"1\" stroke-width=\"3.2\"/>\n",
       "<circle clip-path=\"url(#clip722)\" cx=\"442.807\" cy=\"881.602\" r=\"14\" fill=\"#3da44d\" fill-rule=\"evenodd\" fill-opacity=\"1\" stroke=\"#000000\" stroke-opacity=\"1\" stroke-width=\"3.2\"/>\n",
       "<circle clip-path=\"url(#clip722)\" cx=\"438.714\" cy=\"1091.2\" r=\"14\" fill=\"#3da44d\" fill-rule=\"evenodd\" fill-opacity=\"1\" stroke=\"#000000\" stroke-opacity=\"1\" stroke-width=\"3.2\"/>\n",
       "<circle clip-path=\"url(#clip722)\" cx=\"328.86\" cy=\"885.458\" r=\"14\" fill=\"#3da44d\" fill-rule=\"evenodd\" fill-opacity=\"1\" stroke=\"#000000\" stroke-opacity=\"1\" stroke-width=\"3.2\"/>\n",
       "<circle clip-path=\"url(#clip722)\" cx=\"287.832\" cy=\"504.931\" r=\"14\" fill=\"#3da44d\" fill-rule=\"evenodd\" fill-opacity=\"1\" stroke=\"#000000\" stroke-opacity=\"1\" stroke-width=\"3.2\"/>\n",
       "<circle clip-path=\"url(#clip722)\" cx=\"305.146\" cy=\"577.904\" r=\"14\" fill=\"#3da44d\" fill-rule=\"evenodd\" fill-opacity=\"1\" stroke=\"#000000\" stroke-opacity=\"1\" stroke-width=\"3.2\"/>\n",
       "<circle clip-path=\"url(#clip722)\" cx=\"359.92\" cy=\"535.021\" r=\"14\" fill=\"#3da44d\" fill-rule=\"evenodd\" fill-opacity=\"1\" stroke=\"#000000\" stroke-opacity=\"1\" stroke-width=\"3.2\"/>\n",
       "<circle clip-path=\"url(#clip722)\" cx=\"421.419\" cy=\"978.229\" r=\"14\" fill=\"#3da44d\" fill-rule=\"evenodd\" fill-opacity=\"1\" stroke=\"#000000\" stroke-opacity=\"1\" stroke-width=\"3.2\"/>\n",
       "<circle clip-path=\"url(#clip722)\" cx=\"362.665\" cy=\"699.157\" r=\"14\" fill=\"#3da44d\" fill-rule=\"evenodd\" fill-opacity=\"1\" stroke=\"#000000\" stroke-opacity=\"1\" stroke-width=\"3.2\"/>\n",
       "<circle clip-path=\"url(#clip722)\" cx=\"416.5\" cy=\"615.198\" r=\"14\" fill=\"#3da44d\" fill-rule=\"evenodd\" fill-opacity=\"1\" stroke=\"#000000\" stroke-opacity=\"1\" stroke-width=\"3.2\"/>\n",
       "<circle clip-path=\"url(#clip722)\" cx=\"205.598\" cy=\"325.305\" r=\"14\" fill=\"#3da44d\" fill-rule=\"evenodd\" fill-opacity=\"1\" stroke=\"#000000\" stroke-opacity=\"1\" stroke-width=\"3.2\"/>\n",
       "<circle clip-path=\"url(#clip722)\" cx=\"457.841\" cy=\"832.095\" r=\"14\" fill=\"#3da44d\" fill-rule=\"evenodd\" fill-opacity=\"1\" stroke=\"#000000\" stroke-opacity=\"1\" stroke-width=\"3.2\"/>\n",
       "<circle clip-path=\"url(#clip722)\" cx=\"456.942\" cy=\"951.409\" r=\"14\" fill=\"#3da44d\" fill-rule=\"evenodd\" fill-opacity=\"1\" stroke=\"#000000\" stroke-opacity=\"1\" stroke-width=\"3.2\"/>\n",
       "<circle clip-path=\"url(#clip722)\" cx=\"488.133\" cy=\"605.874\" r=\"14\" fill=\"#3da44d\" fill-rule=\"evenodd\" fill-opacity=\"1\" stroke=\"#000000\" stroke-opacity=\"1\" stroke-width=\"3.2\"/>\n",
       "<circle clip-path=\"url(#clip722)\" cx=\"449.483\" cy=\"1205.06\" r=\"14\" fill=\"#3da44d\" fill-rule=\"evenodd\" fill-opacity=\"1\" stroke=\"#000000\" stroke-opacity=\"1\" stroke-width=\"3.2\"/>\n",
       "<circle clip-path=\"url(#clip722)\" cx=\"438.714\" cy=\"1091.2\" r=\"14\" fill=\"#3da44d\" fill-rule=\"evenodd\" fill-opacity=\"1\" stroke=\"#000000\" stroke-opacity=\"1\" stroke-width=\"3.2\"/>\n",
       "<circle clip-path=\"url(#clip722)\" cx=\"444.191\" cy=\"1004.33\" r=\"14\" fill=\"#3da44d\" fill-rule=\"evenodd\" fill-opacity=\"1\" stroke=\"#000000\" stroke-opacity=\"1\" stroke-width=\"3.2\"/>\n",
       "<circle clip-path=\"url(#clip722)\" cx=\"325.429\" cy=\"687.806\" r=\"14\" fill=\"#3da44d\" fill-rule=\"evenodd\" fill-opacity=\"1\" stroke=\"#000000\" stroke-opacity=\"1\" stroke-width=\"3.2\"/>\n",
       "<circle clip-path=\"url(#clip722)\" cx=\"117.155\" cy=\"104.257\" r=\"14\" fill=\"#3da44d\" fill-rule=\"evenodd\" fill-opacity=\"1\" stroke=\"#000000\" stroke-opacity=\"1\" stroke-width=\"3.2\"/>\n",
       "<circle clip-path=\"url(#clip722)\" cx=\"442.497\" cy=\"926.163\" r=\"14\" fill=\"#3da44d\" fill-rule=\"evenodd\" fill-opacity=\"1\" stroke=\"#000000\" stroke-opacity=\"1\" stroke-width=\"3.2\"/>\n",
       "<path clip-path=\"url(#clip720)\" d=\"\n",
       "M1286.99 1521.01 L2352.76 1521.01 L2352.76 62.9921 L1286.99 62.9921  Z\n",
       "  \" fill=\"#ffffff\" fill-rule=\"evenodd\" fill-opacity=\"1\"/>\n",
       "<defs>\n",
       "  <clipPath id=\"clip723\">\n",
       "    <rect x=\"1286\" y=\"62\" width=\"1067\" height=\"1459\"/>\n",
       "  </clipPath>\n",
       "</defs>\n",
       "<polyline clip-path=\"url(#clip723)\" style=\"stroke:#000000; stroke-width:2; stroke-opacity:0.1; fill:none\" points=\"\n",
       "  1392.91,1521.01 1392.91,62.9921 \n",
       "  \"/>\n",
       "<polyline clip-path=\"url(#clip723)\" style=\"stroke:#000000; stroke-width:2; stroke-opacity:0.1; fill:none\" points=\"\n",
       "  1547.9,1521.01 1547.9,62.9921 \n",
       "  \"/>\n",
       "<polyline clip-path=\"url(#clip723)\" style=\"stroke:#000000; stroke-width:2; stroke-opacity:0.1; fill:none\" points=\"\n",
       "  1702.89,1521.01 1702.89,62.9921 \n",
       "  \"/>\n",
       "<polyline clip-path=\"url(#clip723)\" style=\"stroke:#000000; stroke-width:2; stroke-opacity:0.1; fill:none\" points=\"\n",
       "  1857.88,1521.01 1857.88,62.9921 \n",
       "  \"/>\n",
       "<polyline clip-path=\"url(#clip723)\" style=\"stroke:#000000; stroke-width:2; stroke-opacity:0.1; fill:none\" points=\"\n",
       "  2012.87,1521.01 2012.87,62.9921 \n",
       "  \"/>\n",
       "<polyline clip-path=\"url(#clip723)\" style=\"stroke:#000000; stroke-width:2; stroke-opacity:0.1; fill:none\" points=\"\n",
       "  2167.87,1521.01 2167.87,62.9921 \n",
       "  \"/>\n",
       "<polyline clip-path=\"url(#clip723)\" style=\"stroke:#000000; stroke-width:2; stroke-opacity:0.1; fill:none\" points=\"\n",
       "  2322.86,1521.01 2322.86,62.9921 \n",
       "  \"/>\n",
       "<polyline clip-path=\"url(#clip720)\" style=\"stroke:#000000; stroke-width:4; stroke-opacity:1; fill:none\" points=\"\n",
       "  1286.99,1521.01 2352.76,1521.01 \n",
       "  \"/>\n",
       "<polyline clip-path=\"url(#clip720)\" style=\"stroke:#000000; stroke-width:4; stroke-opacity:1; fill:none\" points=\"\n",
       "  1392.91,1521.01 1392.91,1503.51 \n",
       "  \"/>\n",
       "<polyline clip-path=\"url(#clip720)\" style=\"stroke:#000000; stroke-width:4; stroke-opacity:1; fill:none\" points=\"\n",
       "  1547.9,1521.01 1547.9,1503.51 \n",
       "  \"/>\n",
       "<polyline clip-path=\"url(#clip720)\" style=\"stroke:#000000; stroke-width:4; stroke-opacity:1; fill:none\" points=\"\n",
       "  1702.89,1521.01 1702.89,1503.51 \n",
       "  \"/>\n",
       "<polyline clip-path=\"url(#clip720)\" style=\"stroke:#000000; stroke-width:4; stroke-opacity:1; fill:none\" points=\"\n",
       "  1857.88,1521.01 1857.88,1503.51 \n",
       "  \"/>\n",
       "<polyline clip-path=\"url(#clip720)\" style=\"stroke:#000000; stroke-width:4; stroke-opacity:1; fill:none\" points=\"\n",
       "  2012.87,1521.01 2012.87,1503.51 \n",
       "  \"/>\n",
       "<polyline clip-path=\"url(#clip720)\" style=\"stroke:#000000; stroke-width:4; stroke-opacity:1; fill:none\" points=\"\n",
       "  2167.87,1521.01 2167.87,1503.51 \n",
       "  \"/>\n",
       "<polyline clip-path=\"url(#clip720)\" style=\"stroke:#000000; stroke-width:4; stroke-opacity:1; fill:none\" points=\"\n",
       "  2322.86,1521.01 2322.86,1503.51 \n",
       "  \"/>\n",
       "<path clip-path=\"url(#clip720)\" d=\"M 0 0 M1371.89 1558.69 L1394.15 1558.69 L1394.15 1561.64 L1371.89 1561.64 L1371.89 1558.69 Z\" fill=\"#000000\" fill-rule=\"evenodd\" fill-opacity=\"1\" /><path clip-path=\"url(#clip720)\" d=\"M 0 0 M1408.58 1557.34 Q1411.1 1557.87 1412.5 1559.58 Q1413.93 1561.28 1413.93 1563.78 Q1413.93 1567.61 1411.29 1569.71 Q1408.65 1571.82 1403.79 1571.82 Q1402.15 1571.82 1400.42 1571.49 Q1398.7 1571.17 1396.86 1570.53 L1396.86 1567.15 Q1398.32 1568 1400.05 1568.43 Q1401.79 1568.86 1403.68 1568.86 Q1406.98 1568.86 1408.7 1567.56 Q1410.44 1566.26 1410.44 1563.78 Q1410.44 1561.49 1408.82 1560.2 Q1407.22 1558.9 1404.36 1558.9 L1401.34 1558.9 L1401.34 1556.02 L1404.5 1556.02 Q1407.08 1556.02 1408.46 1554.99 Q1409.83 1553.95 1409.83 1552.01 Q1409.83 1550.01 1408.4 1548.95 Q1407 1547.87 1404.36 1547.87 Q1402.92 1547.87 1401.27 1548.19 Q1399.62 1548.5 1397.64 1549.16 L1397.64 1546.03 Q1399.64 1545.48 1401.37 1545.2 Q1403.13 1544.92 1404.67 1544.92 Q1408.66 1544.92 1410.99 1546.75 Q1413.32 1548.55 1413.32 1551.64 Q1413.32 1553.79 1412.08 1555.29 Q1410.85 1556.76 1408.58 1557.34 Z\" fill=\"#000000\" fill-rule=\"evenodd\" fill-opacity=\"1\" /><path clip-path=\"url(#clip720)\" d=\"M 0 0 M1527.24 1558.69 L1549.5 1558.69 L1549.5 1561.64 L1527.24 1561.64 L1527.24 1558.69 Z\" fill=\"#000000\" fill-rule=\"evenodd\" fill-opacity=\"1\" /><path clip-path=\"url(#clip720)\" d=\"M 0 0 M1556.32 1568.36 L1568.56 1568.36 L1568.56 1571.31 L1552.1 1571.31 L1552.1 1568.36 Q1554.1 1566.29 1557.54 1562.82 Q1560.99 1559.33 1561.88 1558.33 Q1563.56 1556.43 1564.22 1555.13 Q1564.9 1553.81 1564.9 1552.54 Q1564.9 1550.48 1563.44 1549.18 Q1562 1547.87 1559.67 1547.87 Q1558.02 1547.87 1556.18 1548.45 Q1554.36 1549.02 1552.28 1550.18 L1552.28 1546.64 Q1554.39 1545.79 1556.23 1545.36 Q1558.07 1544.92 1559.6 1544.92 Q1563.63 1544.92 1566.03 1546.94 Q1568.42 1548.95 1568.42 1552.32 Q1568.42 1553.92 1567.81 1555.36 Q1567.22 1556.78 1565.64 1558.73 Q1565.21 1559.23 1562.88 1561.64 Q1560.56 1564.04 1556.32 1568.36 Z\" fill=\"#000000\" fill-rule=\"evenodd\" fill-opacity=\"1\" /><path clip-path=\"url(#clip720)\" d=\"M 0 0 M1682.09 1558.69 L1704.35 1558.69 L1704.35 1561.64 L1682.09 1561.64 L1682.09 1558.69 Z\" fill=\"#000000\" fill-rule=\"evenodd\" fill-opacity=\"1\" /><path clip-path=\"url(#clip720)\" d=\"M 0 0 M1708.76 1568.36 L1714.49 1568.36 L1714.49 1548.59 L1708.26 1549.84 L1708.26 1546.64 L1714.45 1545.39 L1717.96 1545.39 L1717.96 1568.36 L1723.69 1568.36 L1723.69 1571.31 L1708.76 1571.31 L1708.76 1568.36 Z\" fill=\"#000000\" fill-rule=\"evenodd\" fill-opacity=\"1\" /><path clip-path=\"url(#clip720)\" d=\"M 0 0 M1857.88 1547.7 Q1855.17 1547.7 1853.8 1550.37 Q1852.45 1553.03 1852.45 1558.38 Q1852.45 1563.71 1853.8 1566.38 Q1855.17 1569.04 1857.88 1569.04 Q1860.61 1569.04 1861.96 1566.38 Q1863.33 1563.71 1863.33 1558.38 Q1863.33 1553.03 1861.96 1550.37 Q1860.61 1547.7 1857.88 1547.7 M1857.88 1544.92 Q1862.24 1544.92 1864.53 1548.38 Q1866.84 1551.82 1866.84 1558.38 Q1866.84 1564.92 1864.53 1568.38 Q1862.24 1571.82 1857.88 1571.82 Q1853.53 1571.82 1851.22 1568.38 Q1848.92 1564.92 1848.92 1558.38 Q1848.92 1551.82 1851.22 1548.38 Q1853.53 1544.92 1857.88 1544.92 Z\" fill=\"#000000\" fill-rule=\"evenodd\" fill-opacity=\"1\" /><path clip-path=\"url(#clip720)\" d=\"M 0 0 M2005.66 1568.36 L2011.39 1568.36 L2011.39 1548.59 L2005.16 1549.84 L2005.16 1546.64 L2011.36 1545.39 L2014.86 1545.39 L2014.86 1568.36 L2020.59 1568.36 L2020.59 1571.31 L2005.66 1571.31 L2005.66 1568.36 Z\" fill=\"#000000\" fill-rule=\"evenodd\" fill-opacity=\"1\" /><path clip-path=\"url(#clip720)\" d=\"M 0 0 M2163.86 1568.36 L2176.09 1568.36 L2176.09 1571.31 L2159.64 1571.31 L2159.64 1568.36 Q2161.63 1566.29 2165.07 1562.82 Q2168.53 1559.33 2169.41 1558.33 Q2171.09 1556.43 2171.75 1555.13 Q2172.43 1553.81 2172.43 1552.54 Q2172.43 1550.48 2170.97 1549.18 Q2169.53 1547.87 2167.21 1547.87 Q2165.56 1547.87 2163.72 1548.45 Q2161.89 1549.02 2159.81 1550.18 L2159.81 1546.64 Q2161.93 1545.79 2163.77 1545.36 Q2165.61 1544.92 2167.14 1544.92 Q2171.16 1544.92 2173.56 1546.94 Q2175.96 1548.95 2175.96 1552.32 Q2175.96 1553.92 2175.35 1555.36 Q2174.76 1556.78 2173.18 1558.73 Q2172.74 1559.23 2170.42 1561.64 Q2168.09 1564.04 2163.86 1568.36 Z\" fill=\"#000000\" fill-rule=\"evenodd\" fill-opacity=\"1\" /><path clip-path=\"url(#clip720)\" d=\"M 0 0 M2326.04 1557.34 Q2328.56 1557.87 2329.97 1559.58 Q2331.39 1561.28 2331.39 1563.78 Q2331.39 1567.61 2328.75 1569.71 Q2326.11 1571.82 2321.25 1571.82 Q2319.62 1571.82 2317.88 1571.49 Q2316.16 1571.17 2314.32 1570.53 L2314.32 1567.15 Q2315.78 1568 2317.52 1568.43 Q2319.25 1568.86 2321.15 1568.86 Q2324.45 1568.86 2326.16 1567.56 Q2327.9 1566.26 2327.9 1563.78 Q2327.9 1561.49 2326.29 1560.2 Q2324.69 1558.9 2321.82 1558.9 L2318.8 1558.9 L2318.8 1556.02 L2321.96 1556.02 Q2324.55 1556.02 2325.92 1554.99 Q2327.29 1553.95 2327.29 1552.01 Q2327.29 1550.01 2325.87 1548.95 Q2324.46 1547.87 2321.82 1547.87 Q2320.38 1547.87 2318.73 1548.19 Q2317.08 1548.5 2315.11 1549.16 L2315.11 1546.03 Q2317.1 1545.48 2318.84 1545.2 Q2320.59 1544.92 2322.14 1544.92 Q2326.13 1544.92 2328.46 1546.75 Q2330.78 1548.55 2330.78 1551.64 Q2330.78 1553.79 2329.55 1555.29 Q2328.32 1556.76 2326.04 1557.34 Z\" fill=\"#000000\" fill-rule=\"evenodd\" fill-opacity=\"1\" /><polyline clip-path=\"url(#clip723)\" style=\"stroke:#000000; stroke-width:2; stroke-opacity:0.1; fill:none\" points=\"\n",
       "  1286.99,1331.41 2352.76,1331.41 \n",
       "  \"/>\n",
       "<polyline clip-path=\"url(#clip723)\" style=\"stroke:#000000; stroke-width:2; stroke-opacity:0.1; fill:none\" points=\"\n",
       "  1286.99,1048.86 2352.76,1048.86 \n",
       "  \"/>\n",
       "<polyline clip-path=\"url(#clip723)\" style=\"stroke:#000000; stroke-width:2; stroke-opacity:0.1; fill:none\" points=\"\n",
       "  1286.99,766.303 2352.76,766.303 \n",
       "  \"/>\n",
       "<polyline clip-path=\"url(#clip723)\" style=\"stroke:#000000; stroke-width:2; stroke-opacity:0.1; fill:none\" points=\"\n",
       "  1286.99,483.75 2352.76,483.75 \n",
       "  \"/>\n",
       "<polyline clip-path=\"url(#clip723)\" style=\"stroke:#000000; stroke-width:2; stroke-opacity:0.1; fill:none\" points=\"\n",
       "  1286.99,201.197 2352.76,201.197 \n",
       "  \"/>\n",
       "<polyline clip-path=\"url(#clip720)\" style=\"stroke:#000000; stroke-width:4; stroke-opacity:1; fill:none\" points=\"\n",
       "  1286.99,1521.01 1286.99,62.9921 \n",
       "  \"/>\n",
       "<polyline clip-path=\"url(#clip720)\" style=\"stroke:#000000; stroke-width:4; stroke-opacity:1; fill:none\" points=\"\n",
       "  1286.99,1331.41 1299.78,1331.41 \n",
       "  \"/>\n",
       "<polyline clip-path=\"url(#clip720)\" style=\"stroke:#000000; stroke-width:4; stroke-opacity:1; fill:none\" points=\"\n",
       "  1286.99,1048.86 1299.78,1048.86 \n",
       "  \"/>\n",
       "<polyline clip-path=\"url(#clip720)\" style=\"stroke:#000000; stroke-width:4; stroke-opacity:1; fill:none\" points=\"\n",
       "  1286.99,766.303 1299.78,766.303 \n",
       "  \"/>\n",
       "<polyline clip-path=\"url(#clip720)\" style=\"stroke:#000000; stroke-width:4; stroke-opacity:1; fill:none\" points=\"\n",
       "  1286.99,483.75 1299.78,483.75 \n",
       "  \"/>\n",
       "<polyline clip-path=\"url(#clip720)\" style=\"stroke:#000000; stroke-width:4; stroke-opacity:1; fill:none\" points=\"\n",
       "  1286.99,201.197 1299.78,201.197 \n",
       "  \"/>\n",
       "<path clip-path=\"url(#clip720)\" d=\"M 0 0 M1158.56 1331.86 L1188.24 1331.86 L1188.24 1335.79 L1158.56 1335.79 L1158.56 1331.86 Z\" fill=\"#000000\" fill-rule=\"evenodd\" fill-opacity=\"1\" /><path clip-path=\"url(#clip720)\" d=\"M 0 0 M1194.12 1344.75 L1201.76 1344.75 L1201.76 1318.39 L1193.45 1320.05 L1193.45 1315.79 L1201.71 1314.13 L1206.39 1314.13 L1206.39 1344.75 L1214.02 1344.75 L1214.02 1348.69 L1194.12 1348.69 L1194.12 1344.75 Z\" fill=\"#000000\" fill-rule=\"evenodd\" fill-opacity=\"1\" /><path clip-path=\"url(#clip720)\" d=\"M 0 0 M1219.09 1342.81 L1223.98 1342.81 L1223.98 1348.69 L1219.09 1348.69 L1219.09 1342.81 Z\" fill=\"#000000\" fill-rule=\"evenodd\" fill-opacity=\"1\" /><path clip-path=\"url(#clip720)\" d=\"M 0 0 M1239.05 1317.21 Q1235.44 1317.21 1233.61 1320.77 Q1231.8 1324.31 1231.8 1331.44 Q1231.8 1338.55 1233.61 1342.11 Q1235.44 1345.66 1239.05 1345.66 Q1242.68 1345.66 1244.49 1342.11 Q1246.32 1338.55 1246.32 1331.44 Q1246.32 1324.31 1244.49 1320.77 Q1242.68 1317.21 1239.05 1317.21 M1239.05 1313.5 Q1244.86 1313.5 1247.91 1318.11 Q1250.99 1322.69 1250.99 1331.44 Q1250.99 1340.17 1247.91 1344.78 Q1244.86 1349.36 1239.05 1349.36 Q1233.24 1349.36 1230.16 1344.78 Q1227.1 1340.17 1227.1 1331.44 Q1227.1 1322.69 1230.16 1318.11 Q1233.24 1313.5 1239.05 1313.5 Z\" fill=\"#000000\" fill-rule=\"evenodd\" fill-opacity=\"1\" /><path clip-path=\"url(#clip720)\" d=\"M 0 0 M1158.33 1049.31 L1188.01 1049.31 L1188.01 1053.24 L1158.33 1053.24 L1158.33 1049.31 Z\" fill=\"#000000\" fill-rule=\"evenodd\" fill-opacity=\"1\" /><path clip-path=\"url(#clip720)\" d=\"M 0 0 M1203.08 1034.65 Q1199.46 1034.65 1197.64 1038.22 Q1195.83 1041.76 1195.83 1048.89 Q1195.83 1056 1197.64 1059.56 Q1199.46 1063.1 1203.08 1063.1 Q1206.71 1063.1 1208.52 1059.56 Q1210.34 1056 1210.34 1048.89 Q1210.34 1041.76 1208.52 1038.22 Q1206.71 1034.65 1203.08 1034.65 M1203.08 1030.95 Q1208.89 1030.95 1211.94 1035.56 Q1215.02 1040.14 1215.02 1048.89 Q1215.02 1057.62 1211.94 1062.22 Q1208.89 1066.81 1203.08 1066.81 Q1197.27 1066.81 1194.19 1062.22 Q1191.13 1057.62 1191.13 1048.89 Q1191.13 1040.14 1194.19 1035.56 Q1197.27 1030.95 1203.08 1030.95 Z\" fill=\"#000000\" fill-rule=\"evenodd\" fill-opacity=\"1\" /><path clip-path=\"url(#clip720)\" d=\"M 0 0 M1220.09 1060.26 L1224.97 1060.26 L1224.97 1066.14 L1220.09 1066.14 L1220.09 1060.26 Z\" fill=\"#000000\" fill-rule=\"evenodd\" fill-opacity=\"1\" /><path clip-path=\"url(#clip720)\" d=\"M 0 0 M1230.09 1031.58 L1248.45 1031.58 L1248.45 1035.51 L1234.37 1035.51 L1234.37 1043.98 Q1235.39 1043.64 1236.41 1043.47 Q1237.43 1043.29 1238.45 1043.29 Q1244.23 1043.29 1247.61 1046.46 Q1250.99 1049.63 1250.99 1055.05 Q1250.99 1060.63 1247.52 1063.73 Q1244.05 1066.81 1237.73 1066.81 Q1235.55 1066.81 1233.28 1066.44 Q1231.04 1066.07 1228.63 1065.32 L1228.63 1060.63 Q1230.71 1061.76 1232.94 1062.32 Q1235.16 1062.87 1237.64 1062.87 Q1241.64 1062.87 1243.98 1060.76 Q1246.32 1058.66 1246.32 1055.05 Q1246.32 1051.44 1243.98 1049.33 Q1241.64 1047.22 1237.64 1047.22 Q1235.76 1047.22 1233.89 1047.64 Q1232.03 1048.06 1230.09 1048.94 L1230.09 1031.58 Z\" fill=\"#000000\" fill-rule=\"evenodd\" fill-opacity=\"1\" /><path clip-path=\"url(#clip720)\" d=\"M 0 0 M1202.08 752.101 Q1198.47 752.101 1196.64 755.666 Q1194.84 759.208 1194.84 766.337 Q1194.84 773.444 1196.64 777.009 Q1198.47 780.55 1202.08 780.55 Q1205.71 780.55 1207.52 777.009 Q1209.35 773.444 1209.35 766.337 Q1209.35 759.208 1207.52 755.666 Q1205.71 752.101 1202.08 752.101 M1202.08 748.398 Q1207.89 748.398 1210.95 753.004 Q1214.02 757.587 1214.02 766.337 Q1214.02 775.064 1210.95 779.671 Q1207.89 784.254 1202.08 784.254 Q1196.27 784.254 1193.19 779.671 Q1190.14 775.064 1190.14 766.337 Q1190.14 757.587 1193.19 753.004 Q1196.27 748.398 1202.08 748.398 Z\" fill=\"#000000\" fill-rule=\"evenodd\" fill-opacity=\"1\" /><path clip-path=\"url(#clip720)\" d=\"M 0 0 M1219.09 777.703 L1223.98 777.703 L1223.98 783.583 L1219.09 783.583 L1219.09 777.703 Z\" fill=\"#000000\" fill-rule=\"evenodd\" fill-opacity=\"1\" /><path clip-path=\"url(#clip720)\" d=\"M 0 0 M1239.05 752.101 Q1235.44 752.101 1233.61 755.666 Q1231.8 759.208 1231.8 766.337 Q1231.8 773.444 1233.61 777.009 Q1235.44 780.55 1239.05 780.55 Q1242.68 780.55 1244.49 777.009 Q1246.32 773.444 1246.32 766.337 Q1246.32 759.208 1244.49 755.666 Q1242.68 752.101 1239.05 752.101 M1239.05 748.398 Q1244.86 748.398 1247.91 753.004 Q1250.99 757.587 1250.99 766.337 Q1250.99 775.064 1247.91 779.671 Q1244.86 784.254 1239.05 784.254 Q1233.24 784.254 1230.16 779.671 Q1227.1 775.064 1227.1 766.337 Q1227.1 757.587 1230.16 753.004 Q1233.24 748.398 1239.05 748.398 Z\" fill=\"#000000\" fill-rule=\"evenodd\" fill-opacity=\"1\" /><path clip-path=\"url(#clip720)\" d=\"M 0 0 M1203.08 469.549 Q1199.46 469.549 1197.64 473.113 Q1195.83 476.655 1195.83 483.785 Q1195.83 490.891 1197.64 494.456 Q1199.46 497.998 1203.08 497.998 Q1206.71 497.998 1208.52 494.456 Q1210.34 490.891 1210.34 483.785 Q1210.34 476.655 1208.52 473.113 Q1206.71 469.549 1203.08 469.549 M1203.08 465.845 Q1208.89 465.845 1211.94 470.451 Q1215.02 475.035 1215.02 483.785 Q1215.02 492.512 1211.94 497.118 Q1208.89 501.701 1203.08 501.701 Q1197.27 501.701 1194.19 497.118 Q1191.13 492.512 1191.13 483.785 Q1191.13 475.035 1194.19 470.451 Q1197.27 465.845 1203.08 465.845 Z\" fill=\"#000000\" fill-rule=\"evenodd\" fill-opacity=\"1\" /><path clip-path=\"url(#clip720)\" d=\"M 0 0 M1220.09 495.15 L1224.97 495.15 L1224.97 501.03 L1220.09 501.03 L1220.09 495.15 Z\" fill=\"#000000\" fill-rule=\"evenodd\" fill-opacity=\"1\" /><path clip-path=\"url(#clip720)\" d=\"M 0 0 M1230.09 466.47 L1248.45 466.47 L1248.45 470.405 L1234.37 470.405 L1234.37 478.877 Q1235.39 478.53 1236.41 478.368 Q1237.43 478.183 1238.45 478.183 Q1244.23 478.183 1247.61 481.354 Q1250.99 484.525 1250.99 489.942 Q1250.99 495.521 1247.52 498.623 Q1244.05 501.701 1237.73 501.701 Q1235.55 501.701 1233.28 501.331 Q1231.04 500.961 1228.63 500.22 L1228.63 495.521 Q1230.71 496.655 1232.94 497.211 Q1235.16 497.766 1237.64 497.766 Q1241.64 497.766 1243.98 495.66 Q1246.32 493.553 1246.32 489.942 Q1246.32 486.331 1243.98 484.225 Q1241.64 482.118 1237.64 482.118 Q1235.76 482.118 1233.89 482.535 Q1232.03 482.951 1230.09 483.831 L1230.09 466.47 Z\" fill=\"#000000\" fill-rule=\"evenodd\" fill-opacity=\"1\" /><path clip-path=\"url(#clip720)\" d=\"M 0 0 M1194.12 214.542 L1201.76 214.542 L1201.76 188.177 L1193.45 189.843 L1193.45 185.584 L1201.71 183.917 L1206.39 183.917 L1206.39 214.542 L1214.02 214.542 L1214.02 218.477 L1194.12 218.477 L1194.12 214.542 Z\" fill=\"#000000\" fill-rule=\"evenodd\" fill-opacity=\"1\" /><path clip-path=\"url(#clip720)\" d=\"M 0 0 M1219.09 212.598 L1223.98 212.598 L1223.98 218.477 L1219.09 218.477 L1219.09 212.598 Z\" fill=\"#000000\" fill-rule=\"evenodd\" fill-opacity=\"1\" /><path clip-path=\"url(#clip720)\" d=\"M 0 0 M1239.05 186.996 Q1235.44 186.996 1233.61 190.561 Q1231.8 194.103 1231.8 201.232 Q1231.8 208.339 1233.61 211.903 Q1235.44 215.445 1239.05 215.445 Q1242.68 215.445 1244.49 211.903 Q1246.32 208.339 1246.32 201.232 Q1246.32 194.103 1244.49 190.561 Q1242.68 186.996 1239.05 186.996 M1239.05 183.292 Q1244.86 183.292 1247.91 187.899 Q1250.99 192.482 1250.99 201.232 Q1250.99 209.959 1247.91 214.565 Q1244.86 219.149 1239.05 219.149 Q1233.24 219.149 1230.16 214.565 Q1227.1 209.959 1227.1 201.232 Q1227.1 192.482 1230.16 187.899 Q1233.24 183.292 1239.05 183.292 Z\" fill=\"#000000\" fill-rule=\"evenodd\" fill-opacity=\"1\" /><path clip-path=\"url(#clip720)\" d=\"M 0 0 M1610.53 6.912 L1630.4 6.912 L1630.4 10.8472 L1615.21 10.8472 L1615.21 21.0323 L1628.91 21.0323 L1628.91 24.9675 L1615.21 24.9675 L1615.21 41.472 L1610.53 41.472 L1610.53 6.912 Z\" fill=\"#000000\" fill-rule=\"evenodd\" fill-opacity=\"1\" /><path clip-path=\"url(#clip720)\" d=\"M 0 0 M1631.83 31.2406 L1631.83 15.5462 L1636.09 15.5462 L1636.09 31.0785 Q1636.09 34.7591 1637.53 36.6109 Q1638.96 38.4396 1641.83 38.4396 Q1645.28 38.4396 1647.27 36.2405 Q1649.28 34.0415 1649.28 30.2452 L1649.28 15.5462 L1653.54 15.5462 L1653.54 41.472 L1649.28 41.472 L1649.28 37.4905 Q1647.73 39.8516 1645.67 41.009 Q1643.64 42.1433 1640.93 42.1433 Q1636.46 42.1433 1634.15 39.3655 Q1631.83 36.5878 1631.83 31.2406 M1642.55 14.9212 L1642.55 14.9212 Z\" fill=\"#000000\" fill-rule=\"evenodd\" fill-opacity=\"1\" /><path clip-path=\"url(#clip720)\" d=\"M 0 0 M1656.16 15.5462 L1676.39 15.5462 L1676.39 19.4351 L1660.37 38.0692 L1676.39 38.0692 L1676.39 41.472 L1655.58 41.472 L1655.58 37.5831 L1671.6 18.949 L1656.16 18.949 L1656.16 15.5462 Z\" fill=\"#000000\" fill-rule=\"evenodd\" fill-opacity=\"1\" /><path clip-path=\"url(#clip720)\" d=\"M 0 0 M1679.01 15.5462 L1699.24 15.5462 L1699.24 19.4351 L1683.22 38.0692 L1699.24 38.0692 L1699.24 41.472 L1678.43 41.472 L1678.43 37.5831 L1694.45 18.949 L1679.01 18.949 L1679.01 15.5462 Z\" fill=\"#000000\" fill-rule=\"evenodd\" fill-opacity=\"1\" /><path clip-path=\"url(#clip720)\" d=\"M 0 0 M1714.49 43.8794 Q1712.69 48.509 1710.97 49.921 Q1709.26 51.3331 1706.39 51.3331 L1702.99 51.3331 L1702.99 47.7683 L1705.49 47.7683 Q1707.25 47.7683 1708.22 46.9349 Q1709.19 46.1016 1710.37 42.9998 L1711.14 41.0553 L1700.65 15.5462 L1705.16 15.5462 L1713.27 35.8239 L1721.37 15.5462 L1725.88 15.5462 L1714.49 43.8794 Z\" fill=\"#000000\" fill-rule=\"evenodd\" fill-opacity=\"1\" /><path clip-path=\"url(#clip720)\" d=\"M 0 0 M1742.09 11.5185 L1735.74 28.7174 L1748.45 28.7174 L1742.09 11.5185 M1739.45 6.912 L1744.75 6.912 L1757.92 41.472 L1753.06 41.472 L1749.91 32.6063 L1734.33 32.6063 L1731.18 41.472 L1726.25 41.472 L1739.45 6.912 Z\" fill=\"#000000\" fill-rule=\"evenodd\" fill-opacity=\"1\" /><path clip-path=\"url(#clip720)\" d=\"M 0 0 M1778.96 25.2684 Q1780.46 25.7776 1781.88 27.4443 Q1783.31 29.111 1784.75 32.0276 L1789.49 41.472 L1784.47 41.472 L1780.05 32.6063 Q1778.33 29.1341 1776.71 27.9998 Q1775.12 26.8656 1772.34 26.8656 L1767.25 26.8656 L1767.25 41.472 L1762.57 41.472 L1762.57 6.912 L1773.13 6.912 Q1779.05 6.912 1781.97 9.38884 Q1784.89 11.8657 1784.89 16.8657 Q1784.89 20.1295 1783.36 22.2823 Q1781.85 24.4351 1778.96 25.2684 M1767.25 10.7546 L1767.25 23.023 L1773.13 23.023 Q1776.51 23.023 1778.22 21.4721 Q1779.96 19.898 1779.96 16.8657 Q1779.96 13.8333 1778.22 12.3055 Q1776.51 10.7546 1773.13 10.7546 L1767.25 10.7546 Z\" fill=\"#000000\" fill-rule=\"evenodd\" fill-opacity=\"1\" /><path clip-path=\"url(#clip720)\" d=\"M 0 0 M1785.9 6.912 L1815.14 6.912 L1815.14 10.8472 L1802.87 10.8472 L1802.87 41.472 L1798.17 41.472 L1798.17 10.8472 L1785.9 10.8472 L1785.9 6.912 Z\" fill=\"#000000\" fill-rule=\"evenodd\" fill-opacity=\"1\" /><path clip-path=\"url(#clip720)\" d=\"M 0 0 M1849.7 19.5277 Q1848.98 19.111 1848.13 18.9258 Q1847.29 18.7175 1846.27 18.7175 Q1842.66 18.7175 1840.72 21.0786 Q1838.8 23.4165 1838.8 27.8147 L1838.8 41.472 L1834.52 41.472 L1834.52 15.5462 L1838.8 15.5462 L1838.8 19.574 Q1840.14 17.2129 1842.29 16.0786 Q1844.45 14.9212 1847.52 14.9212 Q1847.96 14.9212 1848.5 14.9907 Q1849.03 15.037 1849.68 15.1527 L1849.7 19.5277 Z\" fill=\"#000000\" fill-rule=\"evenodd\" fill-opacity=\"1\" /><path clip-path=\"url(#clip720)\" d=\"M 0 0 M1874.89 25.8239 L1874.89 41.472 L1870.63 41.472 L1870.63 25.9628 Q1870.63 22.2823 1869.19 20.4536 Q1867.76 18.6249 1864.89 18.6249 Q1861.44 18.6249 1859.45 20.824 Q1857.45 23.023 1857.45 26.8193 L1857.45 41.472 L1853.17 41.472 L1853.17 5.45367 L1857.45 5.45367 L1857.45 19.574 Q1858.98 17.236 1861.04 16.0786 Q1863.13 14.9212 1865.83 14.9212 Q1870.3 14.9212 1872.59 17.699 Q1874.89 20.4536 1874.89 25.8239 Z\" fill=\"#000000\" fill-rule=\"evenodd\" fill-opacity=\"1\" /><path clip-path=\"url(#clip720)\" d=\"M 0 0 M1889.4 18.5323 Q1885.97 18.5323 1883.98 21.2175 Q1881.99 23.8795 1881.99 28.5323 Q1881.99 33.185 1883.96 35.8702 Q1885.95 38.5322 1889.4 38.5322 Q1892.8 38.5322 1894.79 35.847 Q1896.78 33.1619 1896.78 28.5323 Q1896.78 23.9258 1894.79 21.2406 Q1892.8 18.5323 1889.4 18.5323 M1889.4 14.9212 Q1894.95 14.9212 1898.13 18.5323 Q1901.3 22.1434 1901.3 28.5323 Q1901.3 34.898 1898.13 38.5322 Q1894.95 42.1433 1889.4 42.1433 Q1883.82 42.1433 1880.65 38.5322 Q1877.5 34.898 1877.5 28.5323 Q1877.5 22.1434 1880.65 18.5323 Q1883.82 14.9212 1889.4 14.9212 Z\" fill=\"#000000\" fill-rule=\"evenodd\" fill-opacity=\"1\" /><path clip-path=\"url(#clip720)\" d=\"M 0 0 M1921.39 19.9443 L1951.07 19.9443 L1951.07 23.8332 L1921.39 23.8332 L1921.39 19.9443 M1921.39 29.3887 L1951.07 29.3887 L1951.07 33.3239 L1921.39 33.3239 L1921.39 29.3887 Z\" fill=\"#000000\" fill-rule=\"evenodd\" fill-opacity=\"1\" /><path clip-path=\"url(#clip720)\" d=\"M 0 0 M1981.2 9.99069 Q1977.59 9.99069 1975.76 13.5555 Q1973.96 17.0971 1973.96 24.2267 Q1973.96 31.3332 1975.76 34.898 Q1977.59 38.4396 1981.2 38.4396 Q1984.84 38.4396 1986.64 34.898 Q1988.47 31.3332 1988.47 24.2267 Q1988.47 17.0971 1986.64 13.5555 Q1984.84 9.99069 1981.2 9.99069 M1981.2 6.287 Q1987.01 6.287 1990.07 10.8935 Q1993.15 15.4768 1993.15 24.2267 Q1993.15 32.9535 1990.07 37.56 Q1987.01 42.1433 1981.2 42.1433 Q1975.39 42.1433 1972.32 37.56 Q1969.26 32.9535 1969.26 24.2267 Q1969.26 15.4768 1972.32 10.8935 Q1975.39 6.287 1981.2 6.287 Z\" fill=\"#000000\" fill-rule=\"evenodd\" fill-opacity=\"1\" /><path clip-path=\"url(#clip720)\" d=\"M 0 0 M1998.22 35.5924 L2003.1 35.5924 L2003.1 41.472 L1998.22 41.472 L1998.22 35.5924 Z\" fill=\"#000000\" fill-rule=\"evenodd\" fill-opacity=\"1\" /><path clip-path=\"url(#clip720)\" d=\"M 0 0 M2006.99 6.912 L2029.21 6.912 L2029.21 8.90273 L2016.67 41.472 L2011.78 41.472 L2023.59 10.8472 L2006.99 10.8472 L2006.99 6.912 Z\" fill=\"#000000\" fill-rule=\"evenodd\" fill-opacity=\"1\" /><circle clip-path=\"url(#clip723)\" cx=\"2283.56\" cy=\"942.121\" r=\"14\" fill=\"#009af9\" fill-rule=\"evenodd\" fill-opacity=\"1\" stroke=\"#000000\" stroke-opacity=\"1\" stroke-width=\"3.2\"/>\n",
       "<circle clip-path=\"url(#clip723)\" cx=\"2214.85\" cy=\"706.671\" r=\"14\" fill=\"#009af9\" fill-rule=\"evenodd\" fill-opacity=\"1\" stroke=\"#000000\" stroke-opacity=\"1\" stroke-width=\"3.2\"/>\n",
       "<circle clip-path=\"url(#clip723)\" cx=\"2259.36\" cy=\"632.904\" r=\"14\" fill=\"#009af9\" fill-rule=\"evenodd\" fill-opacity=\"1\" stroke=\"#000000\" stroke-opacity=\"1\" stroke-width=\"3.2\"/>\n",
       "<circle clip-path=\"url(#clip723)\" cx=\"2272.31\" cy=\"826.595\" r=\"14\" fill=\"#009af9\" fill-rule=\"evenodd\" fill-opacity=\"1\" stroke=\"#000000\" stroke-opacity=\"1\" stroke-width=\"3.2\"/>\n",
       "<circle clip-path=\"url(#clip723)\" cx=\"2278.79\" cy=\"903.443\" r=\"14\" fill=\"#009af9\" fill-rule=\"evenodd\" fill-opacity=\"1\" stroke=\"#000000\" stroke-opacity=\"1\" stroke-width=\"3.2\"/>\n",
       "<circle clip-path=\"url(#clip723)\" cx=\"2211.25\" cy=\"343.727\" r=\"14\" fill=\"#009af9\" fill-rule=\"evenodd\" fill-opacity=\"1\" stroke=\"#000000\" stroke-opacity=\"1\" stroke-width=\"3.2\"/>\n",
       "<circle clip-path=\"url(#clip723)\" cx=\"2231.42\" cy=\"530.043\" r=\"14\" fill=\"#009af9\" fill-rule=\"evenodd\" fill-opacity=\"1\" stroke=\"#000000\" stroke-opacity=\"1\" stroke-width=\"3.2\"/>\n",
       "<circle clip-path=\"url(#clip723)\" cx=\"2273.91\" cy=\"581.735\" r=\"14\" fill=\"#009af9\" fill-rule=\"evenodd\" fill-opacity=\"1\" stroke=\"#000000\" stroke-opacity=\"1\" stroke-width=\"3.2\"/>\n",
       "<circle clip-path=\"url(#clip723)\" cx=\"2322.59\" cy=\"955.222\" r=\"14\" fill=\"#009af9\" fill-rule=\"evenodd\" fill-opacity=\"1\" stroke=\"#000000\" stroke-opacity=\"1\" stroke-width=\"3.2\"/>\n",
       "<circle clip-path=\"url(#clip723)\" cx=\"2305.78\" cy=\"843.917\" r=\"14\" fill=\"#009af9\" fill-rule=\"evenodd\" fill-opacity=\"1\" stroke=\"#000000\" stroke-opacity=\"1\" stroke-width=\"3.2\"/>\n",
       "<circle clip-path=\"url(#clip723)\" cx=\"2264.77\" cy=\"423.397\" r=\"14\" fill=\"#009af9\" fill-rule=\"evenodd\" fill-opacity=\"1\" stroke=\"#000000\" stroke-opacity=\"1\" stroke-width=\"3.2\"/>\n",
       "<circle clip-path=\"url(#clip723)\" cx=\"2259.07\" cy=\"877.85\" r=\"14\" fill=\"#009af9\" fill-rule=\"evenodd\" fill-opacity=\"1\" stroke=\"#000000\" stroke-opacity=\"1\" stroke-width=\"3.2\"/>\n",
       "<circle clip-path=\"url(#clip723)\" cx=\"2265.95\" cy=\"873.715\" r=\"14\" fill=\"#009af9\" fill-rule=\"evenodd\" fill-opacity=\"1\" stroke=\"#000000\" stroke-opacity=\"1\" stroke-width=\"3.2\"/>\n",
       "<circle clip-path=\"url(#clip723)\" cx=\"2268.24\" cy=\"302.926\" r=\"14\" fill=\"#009af9\" fill-rule=\"evenodd\" fill-opacity=\"1\" stroke=\"#000000\" stroke-opacity=\"1\" stroke-width=\"3.2\"/>\n",
       "<circle clip-path=\"url(#clip723)\" cx=\"2260.42\" cy=\"144.675\" r=\"14\" fill=\"#009af9\" fill-rule=\"evenodd\" fill-opacity=\"1\" stroke=\"#000000\" stroke-opacity=\"1\" stroke-width=\"3.2\"/>\n",
       "<circle clip-path=\"url(#clip723)\" cx=\"1487.83\" cy=\"504.931\" r=\"14\" fill=\"#e26f46\" fill-rule=\"evenodd\" fill-opacity=\"1\" stroke=\"#000000\" stroke-opacity=\"1\" stroke-width=\"3.2\"/>\n",
       "<circle clip-path=\"url(#clip723)\" cx=\"1696.18\" cy=\"636.918\" r=\"14\" fill=\"#e26f46\" fill-rule=\"evenodd\" fill-opacity=\"1\" stroke=\"#000000\" stroke-opacity=\"1\" stroke-width=\"3.2\"/>\n",
       "<circle clip-path=\"url(#clip723)\" cx=\"1937.1\" cy=\"1479.74\" r=\"14\" fill=\"#e26f46\" fill-rule=\"evenodd\" fill-opacity=\"1\" stroke=\"#000000\" stroke-opacity=\"1\" stroke-width=\"3.2\"/>\n",
       "<circle clip-path=\"url(#clip723)\" cx=\"1755.65\" cy=\"965.206\" r=\"14\" fill=\"#e26f46\" fill-rule=\"evenodd\" fill-opacity=\"1\" stroke=\"#000000\" stroke-opacity=\"1\" stroke-width=\"3.2\"/>\n",
       "<circle clip-path=\"url(#clip723)\" cx=\"1731.9\" cy=\"975.775\" r=\"14\" fill=\"#e26f46\" fill-rule=\"evenodd\" fill-opacity=\"1\" stroke=\"#000000\" stroke-opacity=\"1\" stroke-width=\"3.2\"/>\n",
       "<circle clip-path=\"url(#clip723)\" cx=\"1868.79\" cy=\"1163.31\" r=\"14\" fill=\"#e26f46\" fill-rule=\"evenodd\" fill-opacity=\"1\" stroke=\"#000000\" stroke-opacity=\"1\" stroke-width=\"3.2\"/>\n",
       "<circle clip-path=\"url(#clip723)\" cx=\"1859.46\" cy=\"1173.5\" r=\"14\" fill=\"#e26f46\" fill-rule=\"evenodd\" fill-opacity=\"1\" stroke=\"#000000\" stroke-opacity=\"1\" stroke-width=\"3.2\"/>\n",
       "<circle clip-path=\"url(#clip723)\" cx=\"1732.77\" cy=\"656.077\" r=\"14\" fill=\"#e26f46\" fill-rule=\"evenodd\" fill-opacity=\"1\" stroke=\"#000000\" stroke-opacity=\"1\" stroke-width=\"3.2\"/>\n",
       "<circle clip-path=\"url(#clip723)\" cx=\"1998.69\" cy=\"1191.02\" r=\"14\" fill=\"#e26f46\" fill-rule=\"evenodd\" fill-opacity=\"1\" stroke=\"#000000\" stroke-opacity=\"1\" stroke-width=\"3.2\"/>\n",
       "<circle clip-path=\"url(#clip723)\" cx=\"1851.18\" cy=\"1094.91\" r=\"14\" fill=\"#e26f46\" fill-rule=\"evenodd\" fill-opacity=\"1\" stroke=\"#000000\" stroke-opacity=\"1\" stroke-width=\"3.2\"/>\n",
       "<circle clip-path=\"url(#clip723)\" cx=\"1967.47\" cy=\"1336.17\" r=\"14\" fill=\"#e26f46\" fill-rule=\"evenodd\" fill-opacity=\"1\" stroke=\"#000000\" stroke-opacity=\"1\" stroke-width=\"3.2\"/>\n",
       "<circle clip-path=\"url(#clip723)\" cx=\"1718.45\" cy=\"580.038\" r=\"14\" fill=\"#e26f46\" fill-rule=\"evenodd\" fill-opacity=\"1\" stroke=\"#000000\" stroke-opacity=\"1\" stroke-width=\"3.2\"/>\n",
       "<circle clip-path=\"url(#clip723)\" cx=\"1642.5\" cy=\"926.163\" r=\"14\" fill=\"#e26f46\" fill-rule=\"evenodd\" fill-opacity=\"1\" stroke=\"#000000\" stroke-opacity=\"1\" stroke-width=\"3.2\"/>\n",
       "<circle clip-path=\"url(#clip723)\" cx=\"1642.81\" cy=\"881.602\" r=\"14\" fill=\"#3da44d\" fill-rule=\"evenodd\" fill-opacity=\"1\" stroke=\"#000000\" stroke-opacity=\"1\" stroke-width=\"3.2\"/>\n",
       "<circle clip-path=\"url(#clip723)\" cx=\"1638.71\" cy=\"1091.2\" r=\"14\" fill=\"#3da44d\" fill-rule=\"evenodd\" fill-opacity=\"1\" stroke=\"#000000\" stroke-opacity=\"1\" stroke-width=\"3.2\"/>\n",
       "<circle clip-path=\"url(#clip723)\" cx=\"1528.86\" cy=\"885.458\" r=\"14\" fill=\"#3da44d\" fill-rule=\"evenodd\" fill-opacity=\"1\" stroke=\"#000000\" stroke-opacity=\"1\" stroke-width=\"3.2\"/>\n",
       "<circle clip-path=\"url(#clip723)\" cx=\"1505.15\" cy=\"577.904\" r=\"14\" fill=\"#3da44d\" fill-rule=\"evenodd\" fill-opacity=\"1\" stroke=\"#000000\" stroke-opacity=\"1\" stroke-width=\"3.2\"/>\n",
       "<circle clip-path=\"url(#clip723)\" cx=\"1559.92\" cy=\"535.021\" r=\"14\" fill=\"#3da44d\" fill-rule=\"evenodd\" fill-opacity=\"1\" stroke=\"#000000\" stroke-opacity=\"1\" stroke-width=\"3.2\"/>\n",
       "<circle clip-path=\"url(#clip723)\" cx=\"1621.42\" cy=\"978.229\" r=\"14\" fill=\"#3da44d\" fill-rule=\"evenodd\" fill-opacity=\"1\" stroke=\"#000000\" stroke-opacity=\"1\" stroke-width=\"3.2\"/>\n",
       "<circle clip-path=\"url(#clip723)\" cx=\"1562.66\" cy=\"699.157\" r=\"14\" fill=\"#3da44d\" fill-rule=\"evenodd\" fill-opacity=\"1\" stroke=\"#000000\" stroke-opacity=\"1\" stroke-width=\"3.2\"/>\n",
       "<circle clip-path=\"url(#clip723)\" cx=\"1616.5\" cy=\"615.198\" r=\"14\" fill=\"#3da44d\" fill-rule=\"evenodd\" fill-opacity=\"1\" stroke=\"#000000\" stroke-opacity=\"1\" stroke-width=\"3.2\"/>\n",
       "<circle clip-path=\"url(#clip723)\" cx=\"1405.6\" cy=\"325.305\" r=\"14\" fill=\"#3da44d\" fill-rule=\"evenodd\" fill-opacity=\"1\" stroke=\"#000000\" stroke-opacity=\"1\" stroke-width=\"3.2\"/>\n",
       "<circle clip-path=\"url(#clip723)\" cx=\"1657.84\" cy=\"832.095\" r=\"14\" fill=\"#3da44d\" fill-rule=\"evenodd\" fill-opacity=\"1\" stroke=\"#000000\" stroke-opacity=\"1\" stroke-width=\"3.2\"/>\n",
       "<circle clip-path=\"url(#clip723)\" cx=\"1656.94\" cy=\"951.409\" r=\"14\" fill=\"#3da44d\" fill-rule=\"evenodd\" fill-opacity=\"1\" stroke=\"#000000\" stroke-opacity=\"1\" stroke-width=\"3.2\"/>\n",
       "<circle clip-path=\"url(#clip723)\" cx=\"1688.13\" cy=\"605.874\" r=\"14\" fill=\"#3da44d\" fill-rule=\"evenodd\" fill-opacity=\"1\" stroke=\"#000000\" stroke-opacity=\"1\" stroke-width=\"3.2\"/>\n",
       "<circle clip-path=\"url(#clip723)\" cx=\"1649.48\" cy=\"1205.06\" r=\"14\" fill=\"#3da44d\" fill-rule=\"evenodd\" fill-opacity=\"1\" stroke=\"#000000\" stroke-opacity=\"1\" stroke-width=\"3.2\"/>\n",
       "<circle clip-path=\"url(#clip723)\" cx=\"1638.71\" cy=\"1091.2\" r=\"14\" fill=\"#3da44d\" fill-rule=\"evenodd\" fill-opacity=\"1\" stroke=\"#000000\" stroke-opacity=\"1\" stroke-width=\"3.2\"/>\n",
       "<circle clip-path=\"url(#clip723)\" cx=\"1644.19\" cy=\"1004.33\" r=\"14\" fill=\"#3da44d\" fill-rule=\"evenodd\" fill-opacity=\"1\" stroke=\"#000000\" stroke-opacity=\"1\" stroke-width=\"3.2\"/>\n",
       "<circle clip-path=\"url(#clip723)\" cx=\"1525.43\" cy=\"687.806\" r=\"14\" fill=\"#3da44d\" fill-rule=\"evenodd\" fill-opacity=\"1\" stroke=\"#000000\" stroke-opacity=\"1\" stroke-width=\"3.2\"/>\n",
       "<circle clip-path=\"url(#clip723)\" cx=\"1317.16\" cy=\"104.257\" r=\"14\" fill=\"#3da44d\" fill-rule=\"evenodd\" fill-opacity=\"1\" stroke=\"#000000\" stroke-opacity=\"1\" stroke-width=\"3.2\"/>\n",
       "</svg>\n"
      ],
      "image/svg+xml": [
       "<?xml version=\"1.0\" encoding=\"utf-8\"?>\n",
       "<svg xmlns=\"http://www.w3.org/2000/svg\" xmlns:xlink=\"http://www.w3.org/1999/xlink\" width=\"600\" height=\"400\" viewBox=\"0 0 2400 1600\">\n",
       "<defs>\n",
       "  <clipPath id=\"clip690\">\n",
       "    <rect x=\"0\" y=\"0\" width=\"2400\" height=\"1600\"/>\n",
       "  </clipPath>\n",
       "</defs>\n",
       "<path clip-path=\"url(#clip690)\" d=\"\n",
       "M0 1600 L2400 1600 L2400 0 L0 0  Z\n",
       "  \" fill=\"#ffffff\" fill-rule=\"evenodd\" fill-opacity=\"1\"/>\n",
       "<defs>\n",
       "  <clipPath id=\"clip691\">\n",
       "    <rect x=\"480\" y=\"0\" width=\"1681\" height=\"1600\"/>\n",
       "  </clipPath>\n",
       "</defs>\n",
       "<path clip-path=\"url(#clip690)\" d=\"\n",
       "M86.9921 1521.01 L1152.76 1521.01 L1152.76 62.9921 L86.9921 62.9921  Z\n",
       "  \" fill=\"#ffffff\" fill-rule=\"evenodd\" fill-opacity=\"1\"/>\n",
       "<defs>\n",
       "  <clipPath id=\"clip692\">\n",
       "    <rect x=\"86\" y=\"62\" width=\"1067\" height=\"1459\"/>\n",
       "  </clipPath>\n",
       "</defs>\n",
       "<polyline clip-path=\"url(#clip692)\" style=\"stroke:#000000; stroke-width:2; stroke-opacity:0.1; fill:none\" points=\"\n",
       "  192.91,1521.01 192.91,62.9921 \n",
       "  \"/>\n",
       "<polyline clip-path=\"url(#clip692)\" style=\"stroke:#000000; stroke-width:2; stroke-opacity:0.1; fill:none\" points=\"\n",
       "  347.901,1521.01 347.901,62.9921 \n",
       "  \"/>\n",
       "<polyline clip-path=\"url(#clip692)\" style=\"stroke:#000000; stroke-width:2; stroke-opacity:0.1; fill:none\" points=\"\n",
       "  502.892,1521.01 502.892,62.9921 \n",
       "  \"/>\n",
       "<polyline clip-path=\"url(#clip692)\" style=\"stroke:#000000; stroke-width:2; stroke-opacity:0.1; fill:none\" points=\"\n",
       "  657.883,1521.01 657.883,62.9921 \n",
       "  \"/>\n",
       "<polyline clip-path=\"url(#clip692)\" style=\"stroke:#000000; stroke-width:2; stroke-opacity:0.1; fill:none\" points=\"\n",
       "  812.874,1521.01 812.874,62.9921 \n",
       "  \"/>\n",
       "<polyline clip-path=\"url(#clip692)\" style=\"stroke:#000000; stroke-width:2; stroke-opacity:0.1; fill:none\" points=\"\n",
       "  967.866,1521.01 967.866,62.9921 \n",
       "  \"/>\n",
       "<polyline clip-path=\"url(#clip692)\" style=\"stroke:#000000; stroke-width:2; stroke-opacity:0.1; fill:none\" points=\"\n",
       "  1122.86,1521.01 1122.86,62.9921 \n",
       "  \"/>\n",
       "<polyline clip-path=\"url(#clip690)\" style=\"stroke:#000000; stroke-width:4; stroke-opacity:1; fill:none\" points=\"\n",
       "  86.9921,1521.01 1152.76,1521.01 \n",
       "  \"/>\n",
       "<polyline clip-path=\"url(#clip690)\" style=\"stroke:#000000; stroke-width:4; stroke-opacity:1; fill:none\" points=\"\n",
       "  192.91,1521.01 192.91,1503.51 \n",
       "  \"/>\n",
       "<polyline clip-path=\"url(#clip690)\" style=\"stroke:#000000; stroke-width:4; stroke-opacity:1; fill:none\" points=\"\n",
       "  347.901,1521.01 347.901,1503.51 \n",
       "  \"/>\n",
       "<polyline clip-path=\"url(#clip690)\" style=\"stroke:#000000; stroke-width:4; stroke-opacity:1; fill:none\" points=\"\n",
       "  502.892,1521.01 502.892,1503.51 \n",
       "  \"/>\n",
       "<polyline clip-path=\"url(#clip690)\" style=\"stroke:#000000; stroke-width:4; stroke-opacity:1; fill:none\" points=\"\n",
       "  657.883,1521.01 657.883,1503.51 \n",
       "  \"/>\n",
       "<polyline clip-path=\"url(#clip690)\" style=\"stroke:#000000; stroke-width:4; stroke-opacity:1; fill:none\" points=\"\n",
       "  812.874,1521.01 812.874,1503.51 \n",
       "  \"/>\n",
       "<polyline clip-path=\"url(#clip690)\" style=\"stroke:#000000; stroke-width:4; stroke-opacity:1; fill:none\" points=\"\n",
       "  967.866,1521.01 967.866,1503.51 \n",
       "  \"/>\n",
       "<polyline clip-path=\"url(#clip690)\" style=\"stroke:#000000; stroke-width:4; stroke-opacity:1; fill:none\" points=\"\n",
       "  1122.86,1521.01 1122.86,1503.51 \n",
       "  \"/>\n",
       "<path clip-path=\"url(#clip690)\" d=\"M 0 0 M171.894 1558.69 L194.151 1558.69 L194.151 1561.64 L171.894 1561.64 L171.894 1558.69 Z\" fill=\"#000000\" fill-rule=\"evenodd\" fill-opacity=\"1\" /><path clip-path=\"url(#clip690)\" d=\"M 0 0 M208.578 1557.34 Q211.095 1557.87 212.501 1559.58 Q213.925 1561.28 213.925 1563.78 Q213.925 1567.61 211.286 1569.71 Q208.647 1571.82 203.786 1571.82 Q202.154 1571.82 200.418 1571.49 Q198.699 1571.17 196.859 1570.53 L196.859 1567.15 Q198.318 1568 200.054 1568.43 Q201.79 1568.86 203.682 1568.86 Q206.981 1568.86 208.699 1567.56 Q210.436 1566.26 210.436 1563.78 Q210.436 1561.49 208.821 1560.2 Q207.224 1558.9 204.359 1558.9 L201.338 1558.9 L201.338 1556.02 L204.498 1556.02 Q207.085 1556.02 208.456 1554.99 Q209.828 1553.95 209.828 1552.01 Q209.828 1550.01 208.404 1548.95 Q206.998 1547.87 204.359 1547.87 Q202.918 1547.87 201.269 1548.19 Q199.62 1548.5 197.64 1549.16 L197.64 1546.03 Q199.637 1545.48 201.373 1545.2 Q203.127 1544.92 204.672 1544.92 Q208.665 1544.92 210.991 1546.75 Q213.317 1548.55 213.317 1551.64 Q213.317 1553.79 212.085 1555.29 Q210.852 1556.76 208.578 1557.34 Z\" fill=\"#000000\" fill-rule=\"evenodd\" fill-opacity=\"1\" /><path clip-path=\"url(#clip690)\" d=\"M 0 0 M327.241 1558.69 L349.498 1558.69 L349.498 1561.64 L327.241 1561.64 L327.241 1558.69 Z\" fill=\"#000000\" fill-rule=\"evenodd\" fill-opacity=\"1\" /><path clip-path=\"url(#clip690)\" d=\"M 0 0 M356.321 1568.36 L368.56 1568.36 L368.56 1571.31 L352.102 1571.31 L352.102 1568.36 Q354.099 1566.29 357.536 1562.82 Q360.991 1559.33 361.876 1558.33 Q363.56 1556.43 364.22 1555.13 Q364.897 1553.81 364.897 1552.54 Q364.897 1550.48 363.439 1549.18 Q361.998 1547.87 359.672 1547.87 Q358.022 1547.87 356.182 1548.45 Q354.359 1549.02 352.276 1550.18 L352.276 1546.64 Q354.394 1545.79 356.234 1545.36 Q358.074 1544.92 359.602 1544.92 Q363.63 1544.92 366.026 1546.94 Q368.422 1548.95 368.422 1552.32 Q368.422 1553.92 367.814 1555.36 Q367.224 1556.78 365.644 1558.73 Q365.21 1559.23 362.883 1561.64 Q360.557 1564.04 356.321 1568.36 Z\" fill=\"#000000\" fill-rule=\"evenodd\" fill-opacity=\"1\" /><path clip-path=\"url(#clip690)\" d=\"M 0 0 M482.093 1558.69 L504.35 1558.69 L504.35 1561.64 L482.093 1561.64 L482.093 1558.69 Z\" fill=\"#000000\" fill-rule=\"evenodd\" fill-opacity=\"1\" /><path clip-path=\"url(#clip690)\" d=\"M 0 0 M508.76 1568.36 L514.489 1568.36 L514.489 1548.59 L508.257 1549.84 L508.257 1546.64 L514.454 1545.39 L517.961 1545.39 L517.961 1568.36 L523.69 1568.36 L523.69 1571.31 L508.76 1571.31 L508.76 1568.36 Z\" fill=\"#000000\" fill-rule=\"evenodd\" fill-opacity=\"1\" /><path clip-path=\"url(#clip690)\" d=\"M 0 0 M657.883 1547.7 Q655.175 1547.7 653.803 1550.37 Q652.449 1553.03 652.449 1558.38 Q652.449 1563.71 653.803 1566.38 Q655.175 1569.04 657.883 1569.04 Q660.609 1569.04 661.963 1566.38 Q663.335 1563.71 663.335 1558.38 Q663.335 1553.03 661.963 1550.37 Q660.609 1547.7 657.883 1547.7 M657.883 1544.92 Q662.241 1544.92 664.532 1548.38 Q666.841 1551.82 666.841 1558.38 Q666.841 1564.92 664.532 1568.38 Q662.241 1571.82 657.883 1571.82 Q653.526 1571.82 651.217 1568.38 Q648.925 1564.92 648.925 1558.38 Q648.925 1551.82 651.217 1548.38 Q653.526 1544.92 657.883 1544.92 Z\" fill=\"#000000\" fill-rule=\"evenodd\" fill-opacity=\"1\" /><path clip-path=\"url(#clip690)\" d=\"M 0 0 M805.661 1568.36 L811.39 1568.36 L811.39 1548.59 L805.157 1549.84 L805.157 1546.64 L811.355 1545.39 L814.862 1545.39 L814.862 1568.36 L820.591 1568.36 L820.591 1571.31 L805.661 1571.31 L805.661 1568.36 Z\" fill=\"#000000\" fill-rule=\"evenodd\" fill-opacity=\"1\" /><path clip-path=\"url(#clip690)\" d=\"M 0 0 M963.855 1568.36 L976.095 1568.36 L976.095 1571.31 L959.636 1571.31 L959.636 1568.36 Q961.633 1566.29 965.07 1562.82 Q968.525 1559.33 969.411 1558.33 Q971.095 1556.43 971.754 1555.13 Q972.432 1553.81 972.432 1552.54 Q972.432 1550.48 970.973 1549.18 Q969.532 1547.87 967.206 1547.87 Q965.557 1547.87 963.716 1548.45 Q961.893 1549.02 959.81 1550.18 L959.81 1546.64 Q961.928 1545.79 963.768 1545.36 Q965.609 1544.92 967.136 1544.92 Q971.164 1544.92 973.56 1546.94 Q975.956 1548.95 975.956 1552.32 Q975.956 1553.92 975.348 1555.36 Q974.758 1556.78 973.178 1558.73 Q972.744 1559.23 970.418 1561.64 Q968.091 1564.04 963.855 1568.36 Z\" fill=\"#000000\" fill-rule=\"evenodd\" fill-opacity=\"1\" /><path clip-path=\"url(#clip690)\" d=\"M 0 0 M1126.04 1557.34 Q1128.56 1557.87 1129.97 1559.58 Q1131.39 1561.28 1131.39 1563.78 Q1131.39 1567.61 1128.75 1569.71 Q1126.11 1571.82 1121.25 1571.82 Q1119.62 1571.82 1117.88 1571.49 Q1116.16 1571.17 1114.32 1570.53 L1114.32 1567.15 Q1115.78 1568 1117.52 1568.43 Q1119.25 1568.86 1121.15 1568.86 Q1124.45 1568.86 1126.16 1567.56 Q1127.9 1566.26 1127.9 1563.78 Q1127.9 1561.49 1126.29 1560.2 Q1124.69 1558.9 1121.82 1558.9 L1118.8 1558.9 L1118.8 1556.02 L1121.96 1556.02 Q1124.55 1556.02 1125.92 1554.99 Q1127.29 1553.95 1127.29 1552.01 Q1127.29 1550.01 1125.87 1548.95 Q1124.46 1547.87 1121.82 1547.87 Q1120.38 1547.87 1118.73 1548.19 Q1117.08 1548.5 1115.11 1549.16 L1115.11 1546.03 Q1117.1 1545.48 1118.84 1545.2 Q1120.59 1544.92 1122.14 1544.92 Q1126.13 1544.92 1128.46 1546.75 Q1130.78 1548.55 1130.78 1551.64 Q1130.78 1553.79 1129.55 1555.29 Q1128.32 1556.76 1126.04 1557.34 Z\" fill=\"#000000\" fill-rule=\"evenodd\" fill-opacity=\"1\" /><polyline clip-path=\"url(#clip692)\" style=\"stroke:#000000; stroke-width:2; stroke-opacity:0.1; fill:none\" points=\"\n",
       "  86.9921,1331.41 1152.76,1331.41 \n",
       "  \"/>\n",
       "<polyline clip-path=\"url(#clip692)\" style=\"stroke:#000000; stroke-width:2; stroke-opacity:0.1; fill:none\" points=\"\n",
       "  86.9921,1048.86 1152.76,1048.86 \n",
       "  \"/>\n",
       "<polyline clip-path=\"url(#clip692)\" style=\"stroke:#000000; stroke-width:2; stroke-opacity:0.1; fill:none\" points=\"\n",
       "  86.9921,766.303 1152.76,766.303 \n",
       "  \"/>\n",
       "<polyline clip-path=\"url(#clip692)\" style=\"stroke:#000000; stroke-width:2; stroke-opacity:0.1; fill:none\" points=\"\n",
       "  86.9921,483.75 1152.76,483.75 \n",
       "  \"/>\n",
       "<polyline clip-path=\"url(#clip692)\" style=\"stroke:#000000; stroke-width:2; stroke-opacity:0.1; fill:none\" points=\"\n",
       "  86.9921,201.197 1152.76,201.197 \n",
       "  \"/>\n",
       "<polyline clip-path=\"url(#clip690)\" style=\"stroke:#000000; stroke-width:4; stroke-opacity:1; fill:none\" points=\"\n",
       "  86.9921,1521.01 86.9921,62.9921 \n",
       "  \"/>\n",
       "<polyline clip-path=\"url(#clip690)\" style=\"stroke:#000000; stroke-width:4; stroke-opacity:1; fill:none\" points=\"\n",
       "  86.9921,1331.41 99.7813,1331.41 \n",
       "  \"/>\n",
       "<polyline clip-path=\"url(#clip690)\" style=\"stroke:#000000; stroke-width:4; stroke-opacity:1; fill:none\" points=\"\n",
       "  86.9921,1048.86 99.7813,1048.86 \n",
       "  \"/>\n",
       "<polyline clip-path=\"url(#clip690)\" style=\"stroke:#000000; stroke-width:4; stroke-opacity:1; fill:none\" points=\"\n",
       "  86.9921,766.303 99.7813,766.303 \n",
       "  \"/>\n",
       "<polyline clip-path=\"url(#clip690)\" style=\"stroke:#000000; stroke-width:4; stroke-opacity:1; fill:none\" points=\"\n",
       "  86.9921,483.75 99.7813,483.75 \n",
       "  \"/>\n",
       "<polyline clip-path=\"url(#clip690)\" style=\"stroke:#000000; stroke-width:4; stroke-opacity:1; fill:none\" points=\"\n",
       "  86.9921,201.197 99.7813,201.197 \n",
       "  \"/>\n",
       "<path clip-path=\"url(#clip690)\" d=\"M 0 0 M-41.4379 1331.86 L-11.7622 1331.86 L-11.7622 1335.79 L-41.4379 1335.79 L-41.4379 1331.86 Z\" fill=\"#000000\" fill-rule=\"evenodd\" fill-opacity=\"1\" /><path clip-path=\"url(#clip690)\" d=\"M 0 0 M-5.88257 1344.75 L1.75628 1344.75 L1.75628 1318.39 L-6.55386 1320.05 L-6.55386 1315.79 L1.70998 1314.13 L6.38588 1314.13 L6.38588 1344.75 L14.0247 1344.75 L14.0247 1348.69 L-5.88257 1348.69 L-5.88257 1344.75 Z\" fill=\"#000000\" fill-rule=\"evenodd\" fill-opacity=\"1\" /><path clip-path=\"url(#clip690)\" d=\"M 0 0 M19.0941 1342.81 L23.9784 1342.81 L23.9784 1348.69 L19.0941 1348.69 L19.0941 1342.81 Z\" fill=\"#000000\" fill-rule=\"evenodd\" fill-opacity=\"1\" /><path clip-path=\"url(#clip690)\" d=\"M 0 0 M39.0477 1317.21 Q35.4367 1317.21 33.608 1320.77 Q31.8024 1324.31 31.8024 1331.44 Q31.8024 1338.55 33.608 1342.11 Q35.4367 1345.66 39.0477 1345.66 Q42.682 1345.66 44.4875 1342.11 Q46.3162 1338.55 46.3162 1331.44 Q46.3162 1324.31 44.4875 1320.77 Q42.682 1317.21 39.0477 1317.21 M39.0477 1313.5 Q44.8579 1313.5 47.9134 1318.11 Q50.9921 1322.69 50.9921 1331.44 Q50.9921 1340.17 47.9134 1344.78 Q44.8579 1349.36 39.0477 1349.36 Q33.2376 1349.36 30.1589 1344.78 Q27.1034 1340.17 27.1034 1331.44 Q27.1034 1322.69 30.1589 1318.11 Q33.2376 1313.5 39.0477 1313.5 Z\" fill=\"#000000\" fill-rule=\"evenodd\" fill-opacity=\"1\" /><path clip-path=\"url(#clip690)\" d=\"M 0 0 M-41.6694 1049.31 L-11.9936 1049.31 L-11.9936 1053.24 L-41.6694 1053.24 L-41.6694 1049.31 Z\" fill=\"#000000\" fill-rule=\"evenodd\" fill-opacity=\"1\" /><path clip-path=\"url(#clip690)\" d=\"M 0 0 M3.07572 1034.65 Q-0.535376 1034.65 -2.36407 1038.22 Q-4.16962 1041.76 -4.16962 1048.89 Q-4.16962 1056 -2.36407 1059.56 Q-0.535376 1063.1 3.07572 1063.1 Q6.70996 1063.1 8.5155 1059.56 Q10.3442 1056 10.3442 1048.89 Q10.3442 1041.76 8.5155 1038.22 Q6.70996 1034.65 3.07572 1034.65 M3.07572 1030.95 Q8.88587 1030.95 11.9414 1035.56 Q15.0201 1040.14 15.0201 1048.89 Q15.0201 1057.62 11.9414 1062.22 Q8.88587 1066.81 3.07572 1066.81 Q-2.73444 1066.81 -5.81313 1062.22 Q-8.86866 1057.62 -8.86866 1048.89 Q-8.86866 1040.14 -5.81313 1035.56 Q-2.73444 1030.95 3.07572 1030.95 Z\" fill=\"#000000\" fill-rule=\"evenodd\" fill-opacity=\"1\" /><path clip-path=\"url(#clip690)\" d=\"M 0 0 M20.0895 1060.26 L24.9737 1060.26 L24.9737 1066.14 L20.0895 1066.14 L20.0895 1060.26 Z\" fill=\"#000000\" fill-rule=\"evenodd\" fill-opacity=\"1\" /><path clip-path=\"url(#clip690)\" d=\"M 0 0 M30.0895 1031.58 L48.4458 1031.58 L48.4458 1035.51 L34.3718 1035.51 L34.3718 1043.98 Q35.3904 1043.64 36.4089 1043.47 Q37.4274 1043.29 38.4459 1043.29 Q44.2329 1043.29 47.6125 1046.46 Q50.9921 1049.63 50.9921 1055.05 Q50.9921 1060.63 47.5199 1063.73 Q44.0477 1066.81 37.7283 1066.81 Q35.5524 1066.81 33.2839 1066.44 Q31.0385 1066.07 28.6311 1065.32 L28.6311 1060.63 Q30.7145 1061.76 32.9367 1062.32 Q35.1589 1062.87 37.6357 1062.87 Q41.6403 1062.87 43.9783 1060.76 Q46.3162 1058.66 46.3162 1055.05 Q46.3162 1051.44 43.9783 1049.33 Q41.6403 1047.22 37.6357 1047.22 Q35.7607 1047.22 33.8857 1047.64 Q32.0339 1048.06 30.0895 1048.94 L30.0895 1031.58 Z\" fill=\"#000000\" fill-rule=\"evenodd\" fill-opacity=\"1\" /><path clip-path=\"url(#clip690)\" d=\"M 0 0 M2.08035 752.101 Q-1.53074 752.101 -3.35943 755.666 Q-5.16498 759.208 -5.16498 766.337 Q-5.16498 773.444 -3.35943 777.009 Q-1.53074 780.55 2.08035 780.55 Q5.71459 780.55 7.52014 777.009 Q9.34883 773.444 9.34883 766.337 Q9.34883 759.208 7.52014 755.666 Q5.71459 752.101 2.08035 752.101 M2.08035 748.398 Q7.89051 748.398 10.946 753.004 Q14.0247 757.587 14.0247 766.337 Q14.0247 775.064 10.946 779.671 Q7.89051 784.254 2.08035 784.254 Q-3.7298 784.254 -6.80849 779.671 Q-9.86403 775.064 -9.86403 766.337 Q-9.86403 757.587 -6.80849 753.004 Q-3.7298 748.398 2.08035 748.398 Z\" fill=\"#000000\" fill-rule=\"evenodd\" fill-opacity=\"1\" /><path clip-path=\"url(#clip690)\" d=\"M 0 0 M19.0941 777.703 L23.9784 777.703 L23.9784 783.583 L19.0941 783.583 L19.0941 777.703 Z\" fill=\"#000000\" fill-rule=\"evenodd\" fill-opacity=\"1\" /><path clip-path=\"url(#clip690)\" d=\"M 0 0 M39.0477 752.101 Q35.4367 752.101 33.608 755.666 Q31.8024 759.208 31.8024 766.337 Q31.8024 773.444 33.608 777.009 Q35.4367 780.55 39.0477 780.55 Q42.682 780.55 44.4875 777.009 Q46.3162 773.444 46.3162 766.337 Q46.3162 759.208 44.4875 755.666 Q42.682 752.101 39.0477 752.101 M39.0477 748.398 Q44.8579 748.398 47.9134 753.004 Q50.9921 757.587 50.9921 766.337 Q50.9921 775.064 47.9134 779.671 Q44.8579 784.254 39.0477 784.254 Q33.2376 784.254 30.1589 779.671 Q27.1034 775.064 27.1034 766.337 Q27.1034 757.587 30.1589 753.004 Q33.2376 748.398 39.0477 748.398 Z\" fill=\"#000000\" fill-rule=\"evenodd\" fill-opacity=\"1\" /><path clip-path=\"url(#clip690)\" d=\"M 0 0 M3.07572 469.549 Q-0.535376 469.549 -2.36407 473.113 Q-4.16962 476.655 -4.16962 483.785 Q-4.16962 490.891 -2.36407 494.456 Q-0.535376 497.998 3.07572 497.998 Q6.70996 497.998 8.5155 494.456 Q10.3442 490.891 10.3442 483.785 Q10.3442 476.655 8.5155 473.113 Q6.70996 469.549 3.07572 469.549 M3.07572 465.845 Q8.88587 465.845 11.9414 470.451 Q15.0201 475.035 15.0201 483.785 Q15.0201 492.512 11.9414 497.118 Q8.88587 501.701 3.07572 501.701 Q-2.73444 501.701 -5.81313 497.118 Q-8.86866 492.512 -8.86866 483.785 Q-8.86866 475.035 -5.81313 470.451 Q-2.73444 465.845 3.07572 465.845 Z\" fill=\"#000000\" fill-rule=\"evenodd\" fill-opacity=\"1\" /><path clip-path=\"url(#clip690)\" d=\"M 0 0 M20.0895 495.15 L24.9737 495.15 L24.9737 501.03 L20.0895 501.03 L20.0895 495.15 Z\" fill=\"#000000\" fill-rule=\"evenodd\" fill-opacity=\"1\" /><path clip-path=\"url(#clip690)\" d=\"M 0 0 M30.0895 466.47 L48.4458 466.47 L48.4458 470.405 L34.3718 470.405 L34.3718 478.877 Q35.3904 478.53 36.4089 478.368 Q37.4274 478.183 38.4459 478.183 Q44.2329 478.183 47.6125 481.354 Q50.9921 484.525 50.9921 489.942 Q50.9921 495.521 47.5199 498.623 Q44.0477 501.701 37.7283 501.701 Q35.5524 501.701 33.2839 501.331 Q31.0385 500.961 28.6311 500.22 L28.6311 495.521 Q30.7145 496.655 32.9367 497.211 Q35.1589 497.766 37.6357 497.766 Q41.6403 497.766 43.9783 495.66 Q46.3162 493.553 46.3162 489.942 Q46.3162 486.331 43.9783 484.225 Q41.6403 482.118 37.6357 482.118 Q35.7607 482.118 33.8857 482.535 Q32.0339 482.951 30.0895 483.831 L30.0895 466.47 Z\" fill=\"#000000\" fill-rule=\"evenodd\" fill-opacity=\"1\" /><path clip-path=\"url(#clip690)\" d=\"M 0 0 M-5.88257 214.542 L1.75628 214.542 L1.75628 188.177 L-6.55386 189.843 L-6.55386 185.584 L1.70998 183.917 L6.38588 183.917 L6.38588 214.542 L14.0247 214.542 L14.0247 218.477 L-5.88257 218.477 L-5.88257 214.542 Z\" fill=\"#000000\" fill-rule=\"evenodd\" fill-opacity=\"1\" /><path clip-path=\"url(#clip690)\" d=\"M 0 0 M19.0941 212.598 L23.9784 212.598 L23.9784 218.477 L19.0941 218.477 L19.0941 212.598 Z\" fill=\"#000000\" fill-rule=\"evenodd\" fill-opacity=\"1\" /><path clip-path=\"url(#clip690)\" d=\"M 0 0 M39.0477 186.996 Q35.4367 186.996 33.608 190.561 Q31.8024 194.103 31.8024 201.232 Q31.8024 208.339 33.608 211.903 Q35.4367 215.445 39.0477 215.445 Q42.682 215.445 44.4875 211.903 Q46.3162 208.339 46.3162 201.232 Q46.3162 194.103 44.4875 190.561 Q42.682 186.996 39.0477 186.996 M39.0477 183.292 Q44.8579 183.292 47.9134 187.899 Q50.9921 192.482 50.9921 201.232 Q50.9921 209.959 47.9134 214.565 Q44.8579 219.149 39.0477 219.149 Q33.2376 219.149 30.1589 214.565 Q27.1034 209.959 27.1034 201.232 Q27.1034 192.482 30.1589 187.899 Q33.2376 183.292 39.0477 183.292 Z\" fill=\"#000000\" fill-rule=\"evenodd\" fill-opacity=\"1\" /><path clip-path=\"url(#clip690)\" d=\"M 0 0 M410.581 6.912 L430.442 6.912 L430.442 10.8472 L415.257 10.8472 L415.257 21.0323 L428.961 21.0323 L428.961 24.9675 L415.257 24.9675 L415.257 41.472 L410.581 41.472 L410.581 6.912 Z\" fill=\"#000000\" fill-rule=\"evenodd\" fill-opacity=\"1\" /><path clip-path=\"url(#clip690)\" d=\"M 0 0 M431.877 31.2406 L431.877 15.5462 L436.137 15.5462 L436.137 31.0785 Q436.137 34.7591 437.572 36.6109 Q439.007 38.4396 441.877 38.4396 Q445.326 38.4396 447.317 36.2405 Q449.331 34.0415 449.331 30.2452 L449.331 15.5462 L453.59 15.5462 L453.59 41.472 L449.331 41.472 L449.331 37.4905 Q447.78 39.8516 445.72 41.009 Q443.683 42.1433 440.975 42.1433 Q436.507 42.1433 434.192 39.3655 Q431.877 36.5878 431.877 31.2406 M442.595 14.9212 L442.595 14.9212 Z\" fill=\"#000000\" fill-rule=\"evenodd\" fill-opacity=\"1\" /><path clip-path=\"url(#clip690)\" d=\"M 0 0 M456.206 15.5462 L476.437 15.5462 L476.437 19.4351 L460.419 38.0692 L476.437 38.0692 L476.437 41.472 L455.627 41.472 L455.627 37.5831 L471.646 18.949 L456.206 18.949 L456.206 15.5462 Z\" fill=\"#000000\" fill-rule=\"evenodd\" fill-opacity=\"1\" /><path clip-path=\"url(#clip690)\" d=\"M 0 0 M479.053 15.5462 L499.284 15.5462 L499.284 19.4351 L483.266 38.0692 L499.284 38.0692 L499.284 41.472 L478.474 41.472 L478.474 37.5831 L494.493 18.949 L479.053 18.949 L479.053 15.5462 Z\" fill=\"#000000\" fill-rule=\"evenodd\" fill-opacity=\"1\" /><path clip-path=\"url(#clip690)\" d=\"M 0 0 M514.539 43.8794 Q512.733 48.509 511.02 49.921 Q509.307 51.3331 506.437 51.3331 L503.034 51.3331 L503.034 47.7683 L505.534 47.7683 Q507.294 47.7683 508.266 46.9349 Q509.238 46.1016 510.419 42.9998 L511.182 41.0553 L500.696 15.5462 L505.21 15.5462 L513.312 35.8239 L521.414 15.5462 L525.928 15.5462 L514.539 43.8794 Z\" fill=\"#000000\" fill-rule=\"evenodd\" fill-opacity=\"1\" /><path clip-path=\"url(#clip690)\" d=\"M 0 0 M542.131 11.5185 L535.789 28.7174 L548.497 28.7174 L542.131 11.5185 M539.493 6.912 L544.793 6.912 L557.965 41.472 L553.104 41.472 L549.955 32.6063 L534.377 32.6063 L531.229 41.472 L526.298 41.472 L539.493 6.912 Z\" fill=\"#000000\" fill-rule=\"evenodd\" fill-opacity=\"1\" /><path clip-path=\"url(#clip690)\" d=\"M 0 0 M579.006 25.2684 Q580.511 25.7776 581.923 27.4443 Q583.358 29.111 584.793 32.0276 L589.539 41.472 L584.515 41.472 L580.094 32.6063 Q578.381 29.1341 576.761 27.9998 Q575.164 26.8656 572.386 26.8656 L567.293 26.8656 L567.293 41.472 L562.617 41.472 L562.617 6.912 L573.173 6.912 Q579.099 6.912 582.015 9.38884 Q584.932 11.8657 584.932 16.8657 Q584.932 20.1295 583.404 22.2823 Q581.9 24.4351 579.006 25.2684 M567.293 10.7546 L567.293 23.023 L573.173 23.023 Q576.552 23.023 578.265 21.4721 Q580.002 19.898 580.002 16.8657 Q580.002 13.8333 578.265 12.3055 Q576.552 10.7546 573.173 10.7546 L567.293 10.7546 Z\" fill=\"#000000\" fill-rule=\"evenodd\" fill-opacity=\"1\" /><path clip-path=\"url(#clip690)\" d=\"M 0 0 M585.951 6.912 L615.187 6.912 L615.187 10.8472 L602.918 10.8472 L602.918 41.472 L598.219 41.472 L598.219 10.8472 L585.951 10.8472 L585.951 6.912 Z\" fill=\"#000000\" fill-rule=\"evenodd\" fill-opacity=\"1\" /><path clip-path=\"url(#clip690)\" d=\"M 0 0 M649.747 19.5277 Q649.029 19.111 648.172 18.9258 Q647.339 18.7175 646.321 18.7175 Q642.71 18.7175 640.765 21.0786 Q638.844 23.4165 638.844 27.8147 L638.844 41.472 L634.561 41.472 L634.561 15.5462 L638.844 15.5462 L638.844 19.574 Q640.186 17.2129 642.339 16.0786 Q644.492 14.9212 647.571 14.9212 Q648.01 14.9212 648.543 14.9907 Q649.075 15.037 649.723 15.1527 L649.747 19.5277 Z\" fill=\"#000000\" fill-rule=\"evenodd\" fill-opacity=\"1\" /><path clip-path=\"url(#clip690)\" d=\"M 0 0 M674.932 25.8239 L674.932 41.472 L670.672 41.472 L670.672 25.9628 Q670.672 22.2823 669.237 20.4536 Q667.802 18.6249 664.932 18.6249 Q661.483 18.6249 659.492 20.824 Q657.501 23.023 657.501 26.8193 L657.501 41.472 L653.219 41.472 L653.219 5.45367 L657.501 5.45367 L657.501 19.574 Q659.029 17.236 661.089 16.0786 Q663.172 14.9212 665.881 14.9212 Q670.348 14.9212 672.64 17.699 Q674.932 20.4536 674.932 25.8239 Z\" fill=\"#000000\" fill-rule=\"evenodd\" fill-opacity=\"1\" /><path clip-path=\"url(#clip690)\" d=\"M 0 0 M689.445 18.5323 Q686.019 18.5323 684.029 21.2175 Q682.038 23.8795 682.038 28.5323 Q682.038 33.185 684.006 35.8702 Q685.996 38.5322 689.445 38.5322 Q692.848 38.5322 694.839 35.847 Q696.83 33.1619 696.83 28.5323 Q696.83 23.9258 694.839 21.2406 Q692.848 18.5323 689.445 18.5323 M689.445 14.9212 Q695.001 14.9212 698.172 18.5323 Q701.343 22.1434 701.343 28.5323 Q701.343 34.898 698.172 38.5322 Q695.001 42.1433 689.445 42.1433 Q683.867 42.1433 680.695 38.5322 Q677.547 34.898 677.547 28.5323 Q677.547 22.1434 680.695 18.5323 Q683.867 14.9212 689.445 14.9212 Z\" fill=\"#000000\" fill-rule=\"evenodd\" fill-opacity=\"1\" /><path clip-path=\"url(#clip690)\" d=\"M 0 0 M721.436 19.9443 L751.112 19.9443 L751.112 23.8332 L721.436 23.8332 L721.436 19.9443 M721.436 29.3887 L751.112 29.3887 L751.112 33.3239 L721.436 33.3239 L721.436 29.3887 Z\" fill=\"#000000\" fill-rule=\"evenodd\" fill-opacity=\"1\" /><path clip-path=\"url(#clip690)\" d=\"M 0 0 M781.25 9.99069 Q777.639 9.99069 775.811 13.5555 Q774.005 17.0971 774.005 24.2267 Q774.005 31.3332 775.811 34.898 Q777.639 38.4396 781.25 38.4396 Q784.885 38.4396 786.69 34.898 Q788.519 31.3332 788.519 24.2267 Q788.519 17.0971 786.69 13.5555 Q784.885 9.99069 781.25 9.99069 M781.25 6.287 Q787.061 6.287 790.116 10.8935 Q793.195 15.4768 793.195 24.2267 Q793.195 32.9535 790.116 37.56 Q787.061 42.1433 781.25 42.1433 Q775.44 42.1433 772.362 37.56 Q769.306 32.9535 769.306 24.2267 Q769.306 15.4768 772.362 10.8935 Q775.44 6.287 781.25 6.287 Z\" fill=\"#000000\" fill-rule=\"evenodd\" fill-opacity=\"1\" /><path clip-path=\"url(#clip690)\" d=\"M 0 0 M798.264 35.5924 L803.148 35.5924 L803.148 41.472 L798.264 41.472 L798.264 35.5924 Z\" fill=\"#000000\" fill-rule=\"evenodd\" fill-opacity=\"1\" /><path clip-path=\"url(#clip690)\" d=\"M 0 0 M808.264 6.912 L826.621 6.912 L826.621 10.8472 L812.547 10.8472 L812.547 19.3193 Q813.565 18.9721 814.584 18.8101 Q815.602 18.6249 816.621 18.6249 Q822.408 18.6249 825.787 21.7962 Q829.167 24.9675 829.167 30.3841 Q829.167 35.9628 825.695 39.0646 Q822.222 42.1433 815.903 42.1433 Q813.727 42.1433 811.459 41.7729 Q809.213 41.4026 806.806 40.6618 L806.806 35.9628 Q808.889 37.097 811.111 37.6526 Q813.334 38.2081 815.81 38.2081 Q819.815 38.2081 822.153 36.1017 Q824.491 33.9952 824.491 30.3841 Q824.491 26.773 822.153 24.6665 Q819.815 22.5601 815.81 22.5601 Q813.935 22.5601 812.06 22.9767 Q810.209 23.3934 808.264 24.273 L808.264 6.912 Z\" fill=\"#000000\" fill-rule=\"evenodd\" fill-opacity=\"1\" /><circle clip-path=\"url(#clip692)\" cx=\"1083.56\" cy=\"942.121\" r=\"14\" fill=\"#009af9\" fill-rule=\"evenodd\" fill-opacity=\"1\" stroke=\"#000000\" stroke-opacity=\"1\" stroke-width=\"3.2\"/>\n",
       "<circle clip-path=\"url(#clip692)\" cx=\"1014.85\" cy=\"706.671\" r=\"14\" fill=\"#009af9\" fill-rule=\"evenodd\" fill-opacity=\"1\" stroke=\"#000000\" stroke-opacity=\"1\" stroke-width=\"3.2\"/>\n",
       "<circle clip-path=\"url(#clip692)\" cx=\"1059.36\" cy=\"632.904\" r=\"14\" fill=\"#009af9\" fill-rule=\"evenodd\" fill-opacity=\"1\" stroke=\"#000000\" stroke-opacity=\"1\" stroke-width=\"3.2\"/>\n",
       "<circle clip-path=\"url(#clip692)\" cx=\"1072.31\" cy=\"826.595\" r=\"14\" fill=\"#009af9\" fill-rule=\"evenodd\" fill-opacity=\"1\" stroke=\"#000000\" stroke-opacity=\"1\" stroke-width=\"3.2\"/>\n",
       "<circle clip-path=\"url(#clip692)\" cx=\"1078.79\" cy=\"903.443\" r=\"14\" fill=\"#009af9\" fill-rule=\"evenodd\" fill-opacity=\"1\" stroke=\"#000000\" stroke-opacity=\"1\" stroke-width=\"3.2\"/>\n",
       "<circle clip-path=\"url(#clip692)\" cx=\"1011.25\" cy=\"343.727\" r=\"14\" fill=\"#009af9\" fill-rule=\"evenodd\" fill-opacity=\"1\" stroke=\"#000000\" stroke-opacity=\"1\" stroke-width=\"3.2\"/>\n",
       "<circle clip-path=\"url(#clip692)\" cx=\"1031.42\" cy=\"530.043\" r=\"14\" fill=\"#009af9\" fill-rule=\"evenodd\" fill-opacity=\"1\" stroke=\"#000000\" stroke-opacity=\"1\" stroke-width=\"3.2\"/>\n",
       "<circle clip-path=\"url(#clip692)\" cx=\"1073.91\" cy=\"581.735\" r=\"14\" fill=\"#009af9\" fill-rule=\"evenodd\" fill-opacity=\"1\" stroke=\"#000000\" stroke-opacity=\"1\" stroke-width=\"3.2\"/>\n",
       "<circle clip-path=\"url(#clip692)\" cx=\"1122.59\" cy=\"955.222\" r=\"14\" fill=\"#009af9\" fill-rule=\"evenodd\" fill-opacity=\"1\" stroke=\"#000000\" stroke-opacity=\"1\" stroke-width=\"3.2\"/>\n",
       "<circle clip-path=\"url(#clip692)\" cx=\"1105.78\" cy=\"843.917\" r=\"14\" fill=\"#009af9\" fill-rule=\"evenodd\" fill-opacity=\"1\" stroke=\"#000000\" stroke-opacity=\"1\" stroke-width=\"3.2\"/>\n",
       "<circle clip-path=\"url(#clip692)\" cx=\"1064.77\" cy=\"423.397\" r=\"14\" fill=\"#009af9\" fill-rule=\"evenodd\" fill-opacity=\"1\" stroke=\"#000000\" stroke-opacity=\"1\" stroke-width=\"3.2\"/>\n",
       "<circle clip-path=\"url(#clip692)\" cx=\"1059.07\" cy=\"877.85\" r=\"14\" fill=\"#009af9\" fill-rule=\"evenodd\" fill-opacity=\"1\" stroke=\"#000000\" stroke-opacity=\"1\" stroke-width=\"3.2\"/>\n",
       "<circle clip-path=\"url(#clip692)\" cx=\"1065.95\" cy=\"873.715\" r=\"14\" fill=\"#009af9\" fill-rule=\"evenodd\" fill-opacity=\"1\" stroke=\"#000000\" stroke-opacity=\"1\" stroke-width=\"3.2\"/>\n",
       "<circle clip-path=\"url(#clip692)\" cx=\"1068.24\" cy=\"302.926\" r=\"14\" fill=\"#009af9\" fill-rule=\"evenodd\" fill-opacity=\"1\" stroke=\"#000000\" stroke-opacity=\"1\" stroke-width=\"3.2\"/>\n",
       "<circle clip-path=\"url(#clip692)\" cx=\"1060.42\" cy=\"144.675\" r=\"14\" fill=\"#009af9\" fill-rule=\"evenodd\" fill-opacity=\"1\" stroke=\"#000000\" stroke-opacity=\"1\" stroke-width=\"3.2\"/>\n",
       "<circle clip-path=\"url(#clip692)\" cx=\"496.181\" cy=\"636.918\" r=\"14\" fill=\"#e26f46\" fill-rule=\"evenodd\" fill-opacity=\"1\" stroke=\"#000000\" stroke-opacity=\"1\" stroke-width=\"3.2\"/>\n",
       "<circle clip-path=\"url(#clip692)\" cx=\"737.097\" cy=\"1479.74\" r=\"14\" fill=\"#e26f46\" fill-rule=\"evenodd\" fill-opacity=\"1\" stroke=\"#000000\" stroke-opacity=\"1\" stroke-width=\"3.2\"/>\n",
       "<circle clip-path=\"url(#clip692)\" cx=\"555.652\" cy=\"965.206\" r=\"14\" fill=\"#e26f46\" fill-rule=\"evenodd\" fill-opacity=\"1\" stroke=\"#000000\" stroke-opacity=\"1\" stroke-width=\"3.2\"/>\n",
       "<circle clip-path=\"url(#clip692)\" cx=\"531.896\" cy=\"975.775\" r=\"14\" fill=\"#e26f46\" fill-rule=\"evenodd\" fill-opacity=\"1\" stroke=\"#000000\" stroke-opacity=\"1\" stroke-width=\"3.2\"/>\n",
       "<circle clip-path=\"url(#clip692)\" cx=\"668.786\" cy=\"1163.31\" r=\"14\" fill=\"#e26f46\" fill-rule=\"evenodd\" fill-opacity=\"1\" stroke=\"#000000\" stroke-opacity=\"1\" stroke-width=\"3.2\"/>\n",
       "<circle clip-path=\"url(#clip692)\" cx=\"659.463\" cy=\"1173.5\" r=\"14\" fill=\"#e26f46\" fill-rule=\"evenodd\" fill-opacity=\"1\" stroke=\"#000000\" stroke-opacity=\"1\" stroke-width=\"3.2\"/>\n",
       "<circle clip-path=\"url(#clip692)\" cx=\"532.773\" cy=\"656.077\" r=\"14\" fill=\"#e26f46\" fill-rule=\"evenodd\" fill-opacity=\"1\" stroke=\"#000000\" stroke-opacity=\"1\" stroke-width=\"3.2\"/>\n",
       "<circle clip-path=\"url(#clip692)\" cx=\"798.687\" cy=\"1191.02\" r=\"14\" fill=\"#e26f46\" fill-rule=\"evenodd\" fill-opacity=\"1\" stroke=\"#000000\" stroke-opacity=\"1\" stroke-width=\"3.2\"/>\n",
       "<circle clip-path=\"url(#clip692)\" cx=\"651.18\" cy=\"1094.91\" r=\"14\" fill=\"#e26f46\" fill-rule=\"evenodd\" fill-opacity=\"1\" stroke=\"#000000\" stroke-opacity=\"1\" stroke-width=\"3.2\"/>\n",
       "<circle clip-path=\"url(#clip692)\" cx=\"767.475\" cy=\"1336.17\" r=\"14\" fill=\"#e26f46\" fill-rule=\"evenodd\" fill-opacity=\"1\" stroke=\"#000000\" stroke-opacity=\"1\" stroke-width=\"3.2\"/>\n",
       "<circle clip-path=\"url(#clip692)\" cx=\"518.447\" cy=\"580.038\" r=\"14\" fill=\"#e26f46\" fill-rule=\"evenodd\" fill-opacity=\"1\" stroke=\"#000000\" stroke-opacity=\"1\" stroke-width=\"3.2\"/>\n",
       "<circle clip-path=\"url(#clip692)\" cx=\"442.807\" cy=\"881.602\" r=\"14\" fill=\"#3da44d\" fill-rule=\"evenodd\" fill-opacity=\"1\" stroke=\"#000000\" stroke-opacity=\"1\" stroke-width=\"3.2\"/>\n",
       "<circle clip-path=\"url(#clip692)\" cx=\"438.714\" cy=\"1091.2\" r=\"14\" fill=\"#3da44d\" fill-rule=\"evenodd\" fill-opacity=\"1\" stroke=\"#000000\" stroke-opacity=\"1\" stroke-width=\"3.2\"/>\n",
       "<circle clip-path=\"url(#clip692)\" cx=\"328.86\" cy=\"885.458\" r=\"14\" fill=\"#3da44d\" fill-rule=\"evenodd\" fill-opacity=\"1\" stroke=\"#000000\" stroke-opacity=\"1\" stroke-width=\"3.2\"/>\n",
       "<circle clip-path=\"url(#clip692)\" cx=\"287.832\" cy=\"504.931\" r=\"14\" fill=\"#3da44d\" fill-rule=\"evenodd\" fill-opacity=\"1\" stroke=\"#000000\" stroke-opacity=\"1\" stroke-width=\"3.2\"/>\n",
       "<circle clip-path=\"url(#clip692)\" cx=\"305.146\" cy=\"577.904\" r=\"14\" fill=\"#3da44d\" fill-rule=\"evenodd\" fill-opacity=\"1\" stroke=\"#000000\" stroke-opacity=\"1\" stroke-width=\"3.2\"/>\n",
       "<circle clip-path=\"url(#clip692)\" cx=\"359.92\" cy=\"535.021\" r=\"14\" fill=\"#3da44d\" fill-rule=\"evenodd\" fill-opacity=\"1\" stroke=\"#000000\" stroke-opacity=\"1\" stroke-width=\"3.2\"/>\n",
       "<circle clip-path=\"url(#clip692)\" cx=\"421.419\" cy=\"978.229\" r=\"14\" fill=\"#3da44d\" fill-rule=\"evenodd\" fill-opacity=\"1\" stroke=\"#000000\" stroke-opacity=\"1\" stroke-width=\"3.2\"/>\n",
       "<circle clip-path=\"url(#clip692)\" cx=\"362.665\" cy=\"699.157\" r=\"14\" fill=\"#3da44d\" fill-rule=\"evenodd\" fill-opacity=\"1\" stroke=\"#000000\" stroke-opacity=\"1\" stroke-width=\"3.2\"/>\n",
       "<circle clip-path=\"url(#clip692)\" cx=\"416.5\" cy=\"615.198\" r=\"14\" fill=\"#3da44d\" fill-rule=\"evenodd\" fill-opacity=\"1\" stroke=\"#000000\" stroke-opacity=\"1\" stroke-width=\"3.2\"/>\n",
       "<circle clip-path=\"url(#clip692)\" cx=\"205.598\" cy=\"325.305\" r=\"14\" fill=\"#3da44d\" fill-rule=\"evenodd\" fill-opacity=\"1\" stroke=\"#000000\" stroke-opacity=\"1\" stroke-width=\"3.2\"/>\n",
       "<circle clip-path=\"url(#clip692)\" cx=\"457.841\" cy=\"832.095\" r=\"14\" fill=\"#3da44d\" fill-rule=\"evenodd\" fill-opacity=\"1\" stroke=\"#000000\" stroke-opacity=\"1\" stroke-width=\"3.2\"/>\n",
       "<circle clip-path=\"url(#clip692)\" cx=\"456.942\" cy=\"951.409\" r=\"14\" fill=\"#3da44d\" fill-rule=\"evenodd\" fill-opacity=\"1\" stroke=\"#000000\" stroke-opacity=\"1\" stroke-width=\"3.2\"/>\n",
       "<circle clip-path=\"url(#clip692)\" cx=\"488.133\" cy=\"605.874\" r=\"14\" fill=\"#3da44d\" fill-rule=\"evenodd\" fill-opacity=\"1\" stroke=\"#000000\" stroke-opacity=\"1\" stroke-width=\"3.2\"/>\n",
       "<circle clip-path=\"url(#clip692)\" cx=\"449.483\" cy=\"1205.06\" r=\"14\" fill=\"#3da44d\" fill-rule=\"evenodd\" fill-opacity=\"1\" stroke=\"#000000\" stroke-opacity=\"1\" stroke-width=\"3.2\"/>\n",
       "<circle clip-path=\"url(#clip692)\" cx=\"438.714\" cy=\"1091.2\" r=\"14\" fill=\"#3da44d\" fill-rule=\"evenodd\" fill-opacity=\"1\" stroke=\"#000000\" stroke-opacity=\"1\" stroke-width=\"3.2\"/>\n",
       "<circle clip-path=\"url(#clip692)\" cx=\"444.191\" cy=\"1004.33\" r=\"14\" fill=\"#3da44d\" fill-rule=\"evenodd\" fill-opacity=\"1\" stroke=\"#000000\" stroke-opacity=\"1\" stroke-width=\"3.2\"/>\n",
       "<circle clip-path=\"url(#clip692)\" cx=\"325.429\" cy=\"687.806\" r=\"14\" fill=\"#3da44d\" fill-rule=\"evenodd\" fill-opacity=\"1\" stroke=\"#000000\" stroke-opacity=\"1\" stroke-width=\"3.2\"/>\n",
       "<circle clip-path=\"url(#clip692)\" cx=\"117.155\" cy=\"104.257\" r=\"14\" fill=\"#3da44d\" fill-rule=\"evenodd\" fill-opacity=\"1\" stroke=\"#000000\" stroke-opacity=\"1\" stroke-width=\"3.2\"/>\n",
       "<circle clip-path=\"url(#clip692)\" cx=\"442.497\" cy=\"926.163\" r=\"14\" fill=\"#3da44d\" fill-rule=\"evenodd\" fill-opacity=\"1\" stroke=\"#000000\" stroke-opacity=\"1\" stroke-width=\"3.2\"/>\n",
       "<path clip-path=\"url(#clip690)\" d=\"\n",
       "M1286.99 1521.01 L2352.76 1521.01 L2352.76 62.9921 L1286.99 62.9921  Z\n",
       "  \" fill=\"#ffffff\" fill-rule=\"evenodd\" fill-opacity=\"1\"/>\n",
       "<defs>\n",
       "  <clipPath id=\"clip693\">\n",
       "    <rect x=\"1286\" y=\"62\" width=\"1067\" height=\"1459\"/>\n",
       "  </clipPath>\n",
       "</defs>\n",
       "<polyline clip-path=\"url(#clip693)\" style=\"stroke:#000000; stroke-width:2; stroke-opacity:0.1; fill:none\" points=\"\n",
       "  1392.91,1521.01 1392.91,62.9921 \n",
       "  \"/>\n",
       "<polyline clip-path=\"url(#clip693)\" style=\"stroke:#000000; stroke-width:2; stroke-opacity:0.1; fill:none\" points=\"\n",
       "  1547.9,1521.01 1547.9,62.9921 \n",
       "  \"/>\n",
       "<polyline clip-path=\"url(#clip693)\" style=\"stroke:#000000; stroke-width:2; stroke-opacity:0.1; fill:none\" points=\"\n",
       "  1702.89,1521.01 1702.89,62.9921 \n",
       "  \"/>\n",
       "<polyline clip-path=\"url(#clip693)\" style=\"stroke:#000000; stroke-width:2; stroke-opacity:0.1; fill:none\" points=\"\n",
       "  1857.88,1521.01 1857.88,62.9921 \n",
       "  \"/>\n",
       "<polyline clip-path=\"url(#clip693)\" style=\"stroke:#000000; stroke-width:2; stroke-opacity:0.1; fill:none\" points=\"\n",
       "  2012.87,1521.01 2012.87,62.9921 \n",
       "  \"/>\n",
       "<polyline clip-path=\"url(#clip693)\" style=\"stroke:#000000; stroke-width:2; stroke-opacity:0.1; fill:none\" points=\"\n",
       "  2167.87,1521.01 2167.87,62.9921 \n",
       "  \"/>\n",
       "<polyline clip-path=\"url(#clip693)\" style=\"stroke:#000000; stroke-width:2; stroke-opacity:0.1; fill:none\" points=\"\n",
       "  2322.86,1521.01 2322.86,62.9921 \n",
       "  \"/>\n",
       "<polyline clip-path=\"url(#clip690)\" style=\"stroke:#000000; stroke-width:4; stroke-opacity:1; fill:none\" points=\"\n",
       "  1286.99,1521.01 2352.76,1521.01 \n",
       "  \"/>\n",
       "<polyline clip-path=\"url(#clip690)\" style=\"stroke:#000000; stroke-width:4; stroke-opacity:1; fill:none\" points=\"\n",
       "  1392.91,1521.01 1392.91,1503.51 \n",
       "  \"/>\n",
       "<polyline clip-path=\"url(#clip690)\" style=\"stroke:#000000; stroke-width:4; stroke-opacity:1; fill:none\" points=\"\n",
       "  1547.9,1521.01 1547.9,1503.51 \n",
       "  \"/>\n",
       "<polyline clip-path=\"url(#clip690)\" style=\"stroke:#000000; stroke-width:4; stroke-opacity:1; fill:none\" points=\"\n",
       "  1702.89,1521.01 1702.89,1503.51 \n",
       "  \"/>\n",
       "<polyline clip-path=\"url(#clip690)\" style=\"stroke:#000000; stroke-width:4; stroke-opacity:1; fill:none\" points=\"\n",
       "  1857.88,1521.01 1857.88,1503.51 \n",
       "  \"/>\n",
       "<polyline clip-path=\"url(#clip690)\" style=\"stroke:#000000; stroke-width:4; stroke-opacity:1; fill:none\" points=\"\n",
       "  2012.87,1521.01 2012.87,1503.51 \n",
       "  \"/>\n",
       "<polyline clip-path=\"url(#clip690)\" style=\"stroke:#000000; stroke-width:4; stroke-opacity:1; fill:none\" points=\"\n",
       "  2167.87,1521.01 2167.87,1503.51 \n",
       "  \"/>\n",
       "<polyline clip-path=\"url(#clip690)\" style=\"stroke:#000000; stroke-width:4; stroke-opacity:1; fill:none\" points=\"\n",
       "  2322.86,1521.01 2322.86,1503.51 \n",
       "  \"/>\n",
       "<path clip-path=\"url(#clip690)\" d=\"M 0 0 M1371.89 1558.69 L1394.15 1558.69 L1394.15 1561.64 L1371.89 1561.64 L1371.89 1558.69 Z\" fill=\"#000000\" fill-rule=\"evenodd\" fill-opacity=\"1\" /><path clip-path=\"url(#clip690)\" d=\"M 0 0 M1408.58 1557.34 Q1411.1 1557.87 1412.5 1559.58 Q1413.93 1561.28 1413.93 1563.78 Q1413.93 1567.61 1411.29 1569.71 Q1408.65 1571.82 1403.79 1571.82 Q1402.15 1571.82 1400.42 1571.49 Q1398.7 1571.17 1396.86 1570.53 L1396.86 1567.15 Q1398.32 1568 1400.05 1568.43 Q1401.79 1568.86 1403.68 1568.86 Q1406.98 1568.86 1408.7 1567.56 Q1410.44 1566.26 1410.44 1563.78 Q1410.44 1561.49 1408.82 1560.2 Q1407.22 1558.9 1404.36 1558.9 L1401.34 1558.9 L1401.34 1556.02 L1404.5 1556.02 Q1407.08 1556.02 1408.46 1554.99 Q1409.83 1553.95 1409.83 1552.01 Q1409.83 1550.01 1408.4 1548.95 Q1407 1547.87 1404.36 1547.87 Q1402.92 1547.87 1401.27 1548.19 Q1399.62 1548.5 1397.64 1549.16 L1397.64 1546.03 Q1399.64 1545.48 1401.37 1545.2 Q1403.13 1544.92 1404.67 1544.92 Q1408.66 1544.92 1410.99 1546.75 Q1413.32 1548.55 1413.32 1551.64 Q1413.32 1553.79 1412.08 1555.29 Q1410.85 1556.76 1408.58 1557.34 Z\" fill=\"#000000\" fill-rule=\"evenodd\" fill-opacity=\"1\" /><path clip-path=\"url(#clip690)\" d=\"M 0 0 M1527.24 1558.69 L1549.5 1558.69 L1549.5 1561.64 L1527.24 1561.64 L1527.24 1558.69 Z\" fill=\"#000000\" fill-rule=\"evenodd\" fill-opacity=\"1\" /><path clip-path=\"url(#clip690)\" d=\"M 0 0 M1556.32 1568.36 L1568.56 1568.36 L1568.56 1571.31 L1552.1 1571.31 L1552.1 1568.36 Q1554.1 1566.29 1557.54 1562.82 Q1560.99 1559.33 1561.88 1558.33 Q1563.56 1556.43 1564.22 1555.13 Q1564.9 1553.81 1564.9 1552.54 Q1564.9 1550.48 1563.44 1549.18 Q1562 1547.87 1559.67 1547.87 Q1558.02 1547.87 1556.18 1548.45 Q1554.36 1549.02 1552.28 1550.18 L1552.28 1546.64 Q1554.39 1545.79 1556.23 1545.36 Q1558.07 1544.92 1559.6 1544.92 Q1563.63 1544.92 1566.03 1546.94 Q1568.42 1548.95 1568.42 1552.32 Q1568.42 1553.92 1567.81 1555.36 Q1567.22 1556.78 1565.64 1558.73 Q1565.21 1559.23 1562.88 1561.64 Q1560.56 1564.04 1556.32 1568.36 Z\" fill=\"#000000\" fill-rule=\"evenodd\" fill-opacity=\"1\" /><path clip-path=\"url(#clip690)\" d=\"M 0 0 M1682.09 1558.69 L1704.35 1558.69 L1704.35 1561.64 L1682.09 1561.64 L1682.09 1558.69 Z\" fill=\"#000000\" fill-rule=\"evenodd\" fill-opacity=\"1\" /><path clip-path=\"url(#clip690)\" d=\"M 0 0 M1708.76 1568.36 L1714.49 1568.36 L1714.49 1548.59 L1708.26 1549.84 L1708.26 1546.64 L1714.45 1545.39 L1717.96 1545.39 L1717.96 1568.36 L1723.69 1568.36 L1723.69 1571.31 L1708.76 1571.31 L1708.76 1568.36 Z\" fill=\"#000000\" fill-rule=\"evenodd\" fill-opacity=\"1\" /><path clip-path=\"url(#clip690)\" d=\"M 0 0 M1857.88 1547.7 Q1855.17 1547.7 1853.8 1550.37 Q1852.45 1553.03 1852.45 1558.38 Q1852.45 1563.71 1853.8 1566.38 Q1855.17 1569.04 1857.88 1569.04 Q1860.61 1569.04 1861.96 1566.38 Q1863.33 1563.71 1863.33 1558.38 Q1863.33 1553.03 1861.96 1550.37 Q1860.61 1547.7 1857.88 1547.7 M1857.88 1544.92 Q1862.24 1544.92 1864.53 1548.38 Q1866.84 1551.82 1866.84 1558.38 Q1866.84 1564.92 1864.53 1568.38 Q1862.24 1571.82 1857.88 1571.82 Q1853.53 1571.82 1851.22 1568.38 Q1848.92 1564.92 1848.92 1558.38 Q1848.92 1551.82 1851.22 1548.38 Q1853.53 1544.92 1857.88 1544.92 Z\" fill=\"#000000\" fill-rule=\"evenodd\" fill-opacity=\"1\" /><path clip-path=\"url(#clip690)\" d=\"M 0 0 M2005.66 1568.36 L2011.39 1568.36 L2011.39 1548.59 L2005.16 1549.84 L2005.16 1546.64 L2011.36 1545.39 L2014.86 1545.39 L2014.86 1568.36 L2020.59 1568.36 L2020.59 1571.31 L2005.66 1571.31 L2005.66 1568.36 Z\" fill=\"#000000\" fill-rule=\"evenodd\" fill-opacity=\"1\" /><path clip-path=\"url(#clip690)\" d=\"M 0 0 M2163.86 1568.36 L2176.09 1568.36 L2176.09 1571.31 L2159.64 1571.31 L2159.64 1568.36 Q2161.63 1566.29 2165.07 1562.82 Q2168.53 1559.33 2169.41 1558.33 Q2171.09 1556.43 2171.75 1555.13 Q2172.43 1553.81 2172.43 1552.54 Q2172.43 1550.48 2170.97 1549.18 Q2169.53 1547.87 2167.21 1547.87 Q2165.56 1547.87 2163.72 1548.45 Q2161.89 1549.02 2159.81 1550.18 L2159.81 1546.64 Q2161.93 1545.79 2163.77 1545.36 Q2165.61 1544.92 2167.14 1544.92 Q2171.16 1544.92 2173.56 1546.94 Q2175.96 1548.95 2175.96 1552.32 Q2175.96 1553.92 2175.35 1555.36 Q2174.76 1556.78 2173.18 1558.73 Q2172.74 1559.23 2170.42 1561.64 Q2168.09 1564.04 2163.86 1568.36 Z\" fill=\"#000000\" fill-rule=\"evenodd\" fill-opacity=\"1\" /><path clip-path=\"url(#clip690)\" d=\"M 0 0 M2326.04 1557.34 Q2328.56 1557.87 2329.97 1559.58 Q2331.39 1561.28 2331.39 1563.78 Q2331.39 1567.61 2328.75 1569.71 Q2326.11 1571.82 2321.25 1571.82 Q2319.62 1571.82 2317.88 1571.49 Q2316.16 1571.17 2314.32 1570.53 L2314.32 1567.15 Q2315.78 1568 2317.52 1568.43 Q2319.25 1568.86 2321.15 1568.86 Q2324.45 1568.86 2326.16 1567.56 Q2327.9 1566.26 2327.9 1563.78 Q2327.9 1561.49 2326.29 1560.2 Q2324.69 1558.9 2321.82 1558.9 L2318.8 1558.9 L2318.8 1556.02 L2321.96 1556.02 Q2324.55 1556.02 2325.92 1554.99 Q2327.29 1553.95 2327.29 1552.01 Q2327.29 1550.01 2325.87 1548.95 Q2324.46 1547.87 2321.82 1547.87 Q2320.38 1547.87 2318.73 1548.19 Q2317.08 1548.5 2315.11 1549.16 L2315.11 1546.03 Q2317.1 1545.48 2318.84 1545.2 Q2320.59 1544.92 2322.14 1544.92 Q2326.13 1544.92 2328.46 1546.75 Q2330.78 1548.55 2330.78 1551.64 Q2330.78 1553.79 2329.55 1555.29 Q2328.32 1556.76 2326.04 1557.34 Z\" fill=\"#000000\" fill-rule=\"evenodd\" fill-opacity=\"1\" /><polyline clip-path=\"url(#clip693)\" style=\"stroke:#000000; stroke-width:2; stroke-opacity:0.1; fill:none\" points=\"\n",
       "  1286.99,1331.41 2352.76,1331.41 \n",
       "  \"/>\n",
       "<polyline clip-path=\"url(#clip693)\" style=\"stroke:#000000; stroke-width:2; stroke-opacity:0.1; fill:none\" points=\"\n",
       "  1286.99,1048.86 2352.76,1048.86 \n",
       "  \"/>\n",
       "<polyline clip-path=\"url(#clip693)\" style=\"stroke:#000000; stroke-width:2; stroke-opacity:0.1; fill:none\" points=\"\n",
       "  1286.99,766.303 2352.76,766.303 \n",
       "  \"/>\n",
       "<polyline clip-path=\"url(#clip693)\" style=\"stroke:#000000; stroke-width:2; stroke-opacity:0.1; fill:none\" points=\"\n",
       "  1286.99,483.75 2352.76,483.75 \n",
       "  \"/>\n",
       "<polyline clip-path=\"url(#clip693)\" style=\"stroke:#000000; stroke-width:2; stroke-opacity:0.1; fill:none\" points=\"\n",
       "  1286.99,201.197 2352.76,201.197 \n",
       "  \"/>\n",
       "<polyline clip-path=\"url(#clip690)\" style=\"stroke:#000000; stroke-width:4; stroke-opacity:1; fill:none\" points=\"\n",
       "  1286.99,1521.01 1286.99,62.9921 \n",
       "  \"/>\n",
       "<polyline clip-path=\"url(#clip690)\" style=\"stroke:#000000; stroke-width:4; stroke-opacity:1; fill:none\" points=\"\n",
       "  1286.99,1331.41 1299.78,1331.41 \n",
       "  \"/>\n",
       "<polyline clip-path=\"url(#clip690)\" style=\"stroke:#000000; stroke-width:4; stroke-opacity:1; fill:none\" points=\"\n",
       "  1286.99,1048.86 1299.78,1048.86 \n",
       "  \"/>\n",
       "<polyline clip-path=\"url(#clip690)\" style=\"stroke:#000000; stroke-width:4; stroke-opacity:1; fill:none\" points=\"\n",
       "  1286.99,766.303 1299.78,766.303 \n",
       "  \"/>\n",
       "<polyline clip-path=\"url(#clip690)\" style=\"stroke:#000000; stroke-width:4; stroke-opacity:1; fill:none\" points=\"\n",
       "  1286.99,483.75 1299.78,483.75 \n",
       "  \"/>\n",
       "<polyline clip-path=\"url(#clip690)\" style=\"stroke:#000000; stroke-width:4; stroke-opacity:1; fill:none\" points=\"\n",
       "  1286.99,201.197 1299.78,201.197 \n",
       "  \"/>\n",
       "<path clip-path=\"url(#clip690)\" d=\"M 0 0 M1158.56 1331.86 L1188.24 1331.86 L1188.24 1335.79 L1158.56 1335.79 L1158.56 1331.86 Z\" fill=\"#000000\" fill-rule=\"evenodd\" fill-opacity=\"1\" /><path clip-path=\"url(#clip690)\" d=\"M 0 0 M1194.12 1344.75 L1201.76 1344.75 L1201.76 1318.39 L1193.45 1320.05 L1193.45 1315.79 L1201.71 1314.13 L1206.39 1314.13 L1206.39 1344.75 L1214.02 1344.75 L1214.02 1348.69 L1194.12 1348.69 L1194.12 1344.75 Z\" fill=\"#000000\" fill-rule=\"evenodd\" fill-opacity=\"1\" /><path clip-path=\"url(#clip690)\" d=\"M 0 0 M1219.09 1342.81 L1223.98 1342.81 L1223.98 1348.69 L1219.09 1348.69 L1219.09 1342.81 Z\" fill=\"#000000\" fill-rule=\"evenodd\" fill-opacity=\"1\" /><path clip-path=\"url(#clip690)\" d=\"M 0 0 M1239.05 1317.21 Q1235.44 1317.21 1233.61 1320.77 Q1231.8 1324.31 1231.8 1331.44 Q1231.8 1338.55 1233.61 1342.11 Q1235.44 1345.66 1239.05 1345.66 Q1242.68 1345.66 1244.49 1342.11 Q1246.32 1338.55 1246.32 1331.44 Q1246.32 1324.31 1244.49 1320.77 Q1242.68 1317.21 1239.05 1317.21 M1239.05 1313.5 Q1244.86 1313.5 1247.91 1318.11 Q1250.99 1322.69 1250.99 1331.44 Q1250.99 1340.17 1247.91 1344.78 Q1244.86 1349.36 1239.05 1349.36 Q1233.24 1349.36 1230.16 1344.78 Q1227.1 1340.17 1227.1 1331.44 Q1227.1 1322.69 1230.16 1318.11 Q1233.24 1313.5 1239.05 1313.5 Z\" fill=\"#000000\" fill-rule=\"evenodd\" fill-opacity=\"1\" /><path clip-path=\"url(#clip690)\" d=\"M 0 0 M1158.33 1049.31 L1188.01 1049.31 L1188.01 1053.24 L1158.33 1053.24 L1158.33 1049.31 Z\" fill=\"#000000\" fill-rule=\"evenodd\" fill-opacity=\"1\" /><path clip-path=\"url(#clip690)\" d=\"M 0 0 M1203.08 1034.65 Q1199.46 1034.65 1197.64 1038.22 Q1195.83 1041.76 1195.83 1048.89 Q1195.83 1056 1197.64 1059.56 Q1199.46 1063.1 1203.08 1063.1 Q1206.71 1063.1 1208.52 1059.56 Q1210.34 1056 1210.34 1048.89 Q1210.34 1041.76 1208.52 1038.22 Q1206.71 1034.65 1203.08 1034.65 M1203.08 1030.95 Q1208.89 1030.95 1211.94 1035.56 Q1215.02 1040.14 1215.02 1048.89 Q1215.02 1057.62 1211.94 1062.22 Q1208.89 1066.81 1203.08 1066.81 Q1197.27 1066.81 1194.19 1062.22 Q1191.13 1057.62 1191.13 1048.89 Q1191.13 1040.14 1194.19 1035.56 Q1197.27 1030.95 1203.08 1030.95 Z\" fill=\"#000000\" fill-rule=\"evenodd\" fill-opacity=\"1\" /><path clip-path=\"url(#clip690)\" d=\"M 0 0 M1220.09 1060.26 L1224.97 1060.26 L1224.97 1066.14 L1220.09 1066.14 L1220.09 1060.26 Z\" fill=\"#000000\" fill-rule=\"evenodd\" fill-opacity=\"1\" /><path clip-path=\"url(#clip690)\" d=\"M 0 0 M1230.09 1031.58 L1248.45 1031.58 L1248.45 1035.51 L1234.37 1035.51 L1234.37 1043.98 Q1235.39 1043.64 1236.41 1043.47 Q1237.43 1043.29 1238.45 1043.29 Q1244.23 1043.29 1247.61 1046.46 Q1250.99 1049.63 1250.99 1055.05 Q1250.99 1060.63 1247.52 1063.73 Q1244.05 1066.81 1237.73 1066.81 Q1235.55 1066.81 1233.28 1066.44 Q1231.04 1066.07 1228.63 1065.32 L1228.63 1060.63 Q1230.71 1061.76 1232.94 1062.32 Q1235.16 1062.87 1237.64 1062.87 Q1241.64 1062.87 1243.98 1060.76 Q1246.32 1058.66 1246.32 1055.05 Q1246.32 1051.44 1243.98 1049.33 Q1241.64 1047.22 1237.64 1047.22 Q1235.76 1047.22 1233.89 1047.64 Q1232.03 1048.06 1230.09 1048.94 L1230.09 1031.58 Z\" fill=\"#000000\" fill-rule=\"evenodd\" fill-opacity=\"1\" /><path clip-path=\"url(#clip690)\" d=\"M 0 0 M1202.08 752.101 Q1198.47 752.101 1196.64 755.666 Q1194.84 759.208 1194.84 766.337 Q1194.84 773.444 1196.64 777.009 Q1198.47 780.55 1202.08 780.55 Q1205.71 780.55 1207.52 777.009 Q1209.35 773.444 1209.35 766.337 Q1209.35 759.208 1207.52 755.666 Q1205.71 752.101 1202.08 752.101 M1202.08 748.398 Q1207.89 748.398 1210.95 753.004 Q1214.02 757.587 1214.02 766.337 Q1214.02 775.064 1210.95 779.671 Q1207.89 784.254 1202.08 784.254 Q1196.27 784.254 1193.19 779.671 Q1190.14 775.064 1190.14 766.337 Q1190.14 757.587 1193.19 753.004 Q1196.27 748.398 1202.08 748.398 Z\" fill=\"#000000\" fill-rule=\"evenodd\" fill-opacity=\"1\" /><path clip-path=\"url(#clip690)\" d=\"M 0 0 M1219.09 777.703 L1223.98 777.703 L1223.98 783.583 L1219.09 783.583 L1219.09 777.703 Z\" fill=\"#000000\" fill-rule=\"evenodd\" fill-opacity=\"1\" /><path clip-path=\"url(#clip690)\" d=\"M 0 0 M1239.05 752.101 Q1235.44 752.101 1233.61 755.666 Q1231.8 759.208 1231.8 766.337 Q1231.8 773.444 1233.61 777.009 Q1235.44 780.55 1239.05 780.55 Q1242.68 780.55 1244.49 777.009 Q1246.32 773.444 1246.32 766.337 Q1246.32 759.208 1244.49 755.666 Q1242.68 752.101 1239.05 752.101 M1239.05 748.398 Q1244.86 748.398 1247.91 753.004 Q1250.99 757.587 1250.99 766.337 Q1250.99 775.064 1247.91 779.671 Q1244.86 784.254 1239.05 784.254 Q1233.24 784.254 1230.16 779.671 Q1227.1 775.064 1227.1 766.337 Q1227.1 757.587 1230.16 753.004 Q1233.24 748.398 1239.05 748.398 Z\" fill=\"#000000\" fill-rule=\"evenodd\" fill-opacity=\"1\" /><path clip-path=\"url(#clip690)\" d=\"M 0 0 M1203.08 469.549 Q1199.46 469.549 1197.64 473.113 Q1195.83 476.655 1195.83 483.785 Q1195.83 490.891 1197.64 494.456 Q1199.46 497.998 1203.08 497.998 Q1206.71 497.998 1208.52 494.456 Q1210.34 490.891 1210.34 483.785 Q1210.34 476.655 1208.52 473.113 Q1206.71 469.549 1203.08 469.549 M1203.08 465.845 Q1208.89 465.845 1211.94 470.451 Q1215.02 475.035 1215.02 483.785 Q1215.02 492.512 1211.94 497.118 Q1208.89 501.701 1203.08 501.701 Q1197.27 501.701 1194.19 497.118 Q1191.13 492.512 1191.13 483.785 Q1191.13 475.035 1194.19 470.451 Q1197.27 465.845 1203.08 465.845 Z\" fill=\"#000000\" fill-rule=\"evenodd\" fill-opacity=\"1\" /><path clip-path=\"url(#clip690)\" d=\"M 0 0 M1220.09 495.15 L1224.97 495.15 L1224.97 501.03 L1220.09 501.03 L1220.09 495.15 Z\" fill=\"#000000\" fill-rule=\"evenodd\" fill-opacity=\"1\" /><path clip-path=\"url(#clip690)\" d=\"M 0 0 M1230.09 466.47 L1248.45 466.47 L1248.45 470.405 L1234.37 470.405 L1234.37 478.877 Q1235.39 478.53 1236.41 478.368 Q1237.43 478.183 1238.45 478.183 Q1244.23 478.183 1247.61 481.354 Q1250.99 484.525 1250.99 489.942 Q1250.99 495.521 1247.52 498.623 Q1244.05 501.701 1237.73 501.701 Q1235.55 501.701 1233.28 501.331 Q1231.04 500.961 1228.63 500.22 L1228.63 495.521 Q1230.71 496.655 1232.94 497.211 Q1235.16 497.766 1237.64 497.766 Q1241.64 497.766 1243.98 495.66 Q1246.32 493.553 1246.32 489.942 Q1246.32 486.331 1243.98 484.225 Q1241.64 482.118 1237.64 482.118 Q1235.76 482.118 1233.89 482.535 Q1232.03 482.951 1230.09 483.831 L1230.09 466.47 Z\" fill=\"#000000\" fill-rule=\"evenodd\" fill-opacity=\"1\" /><path clip-path=\"url(#clip690)\" d=\"M 0 0 M1194.12 214.542 L1201.76 214.542 L1201.76 188.177 L1193.45 189.843 L1193.45 185.584 L1201.71 183.917 L1206.39 183.917 L1206.39 214.542 L1214.02 214.542 L1214.02 218.477 L1194.12 218.477 L1194.12 214.542 Z\" fill=\"#000000\" fill-rule=\"evenodd\" fill-opacity=\"1\" /><path clip-path=\"url(#clip690)\" d=\"M 0 0 M1219.09 212.598 L1223.98 212.598 L1223.98 218.477 L1219.09 218.477 L1219.09 212.598 Z\" fill=\"#000000\" fill-rule=\"evenodd\" fill-opacity=\"1\" /><path clip-path=\"url(#clip690)\" d=\"M 0 0 M1239.05 186.996 Q1235.44 186.996 1233.61 190.561 Q1231.8 194.103 1231.8 201.232 Q1231.8 208.339 1233.61 211.903 Q1235.44 215.445 1239.05 215.445 Q1242.68 215.445 1244.49 211.903 Q1246.32 208.339 1246.32 201.232 Q1246.32 194.103 1244.49 190.561 Q1242.68 186.996 1239.05 186.996 M1239.05 183.292 Q1244.86 183.292 1247.91 187.899 Q1250.99 192.482 1250.99 201.232 Q1250.99 209.959 1247.91 214.565 Q1244.86 219.149 1239.05 219.149 Q1233.24 219.149 1230.16 214.565 Q1227.1 209.959 1227.1 201.232 Q1227.1 192.482 1230.16 187.899 Q1233.24 183.292 1239.05 183.292 Z\" fill=\"#000000\" fill-rule=\"evenodd\" fill-opacity=\"1\" /><path clip-path=\"url(#clip690)\" d=\"M 0 0 M1610.53 6.912 L1630.4 6.912 L1630.4 10.8472 L1615.21 10.8472 L1615.21 21.0323 L1628.91 21.0323 L1628.91 24.9675 L1615.21 24.9675 L1615.21 41.472 L1610.53 41.472 L1610.53 6.912 Z\" fill=\"#000000\" fill-rule=\"evenodd\" fill-opacity=\"1\" /><path clip-path=\"url(#clip690)\" d=\"M 0 0 M1631.83 31.2406 L1631.83 15.5462 L1636.09 15.5462 L1636.09 31.0785 Q1636.09 34.7591 1637.53 36.6109 Q1638.96 38.4396 1641.83 38.4396 Q1645.28 38.4396 1647.27 36.2405 Q1649.28 34.0415 1649.28 30.2452 L1649.28 15.5462 L1653.54 15.5462 L1653.54 41.472 L1649.28 41.472 L1649.28 37.4905 Q1647.73 39.8516 1645.67 41.009 Q1643.64 42.1433 1640.93 42.1433 Q1636.46 42.1433 1634.15 39.3655 Q1631.83 36.5878 1631.83 31.2406 M1642.55 14.9212 L1642.55 14.9212 Z\" fill=\"#000000\" fill-rule=\"evenodd\" fill-opacity=\"1\" /><path clip-path=\"url(#clip690)\" d=\"M 0 0 M1656.16 15.5462 L1676.39 15.5462 L1676.39 19.4351 L1660.37 38.0692 L1676.39 38.0692 L1676.39 41.472 L1655.58 41.472 L1655.58 37.5831 L1671.6 18.949 L1656.16 18.949 L1656.16 15.5462 Z\" fill=\"#000000\" fill-rule=\"evenodd\" fill-opacity=\"1\" /><path clip-path=\"url(#clip690)\" d=\"M 0 0 M1679.01 15.5462 L1699.24 15.5462 L1699.24 19.4351 L1683.22 38.0692 L1699.24 38.0692 L1699.24 41.472 L1678.43 41.472 L1678.43 37.5831 L1694.45 18.949 L1679.01 18.949 L1679.01 15.5462 Z\" fill=\"#000000\" fill-rule=\"evenodd\" fill-opacity=\"1\" /><path clip-path=\"url(#clip690)\" d=\"M 0 0 M1714.49 43.8794 Q1712.69 48.509 1710.97 49.921 Q1709.26 51.3331 1706.39 51.3331 L1702.99 51.3331 L1702.99 47.7683 L1705.49 47.7683 Q1707.25 47.7683 1708.22 46.9349 Q1709.19 46.1016 1710.37 42.9998 L1711.14 41.0553 L1700.65 15.5462 L1705.16 15.5462 L1713.27 35.8239 L1721.37 15.5462 L1725.88 15.5462 L1714.49 43.8794 Z\" fill=\"#000000\" fill-rule=\"evenodd\" fill-opacity=\"1\" /><path clip-path=\"url(#clip690)\" d=\"M 0 0 M1742.09 11.5185 L1735.74 28.7174 L1748.45 28.7174 L1742.09 11.5185 M1739.45 6.912 L1744.75 6.912 L1757.92 41.472 L1753.06 41.472 L1749.91 32.6063 L1734.33 32.6063 L1731.18 41.472 L1726.25 41.472 L1739.45 6.912 Z\" fill=\"#000000\" fill-rule=\"evenodd\" fill-opacity=\"1\" /><path clip-path=\"url(#clip690)\" d=\"M 0 0 M1778.96 25.2684 Q1780.46 25.7776 1781.88 27.4443 Q1783.31 29.111 1784.75 32.0276 L1789.49 41.472 L1784.47 41.472 L1780.05 32.6063 Q1778.33 29.1341 1776.71 27.9998 Q1775.12 26.8656 1772.34 26.8656 L1767.25 26.8656 L1767.25 41.472 L1762.57 41.472 L1762.57 6.912 L1773.13 6.912 Q1779.05 6.912 1781.97 9.38884 Q1784.89 11.8657 1784.89 16.8657 Q1784.89 20.1295 1783.36 22.2823 Q1781.85 24.4351 1778.96 25.2684 M1767.25 10.7546 L1767.25 23.023 L1773.13 23.023 Q1776.51 23.023 1778.22 21.4721 Q1779.96 19.898 1779.96 16.8657 Q1779.96 13.8333 1778.22 12.3055 Q1776.51 10.7546 1773.13 10.7546 L1767.25 10.7546 Z\" fill=\"#000000\" fill-rule=\"evenodd\" fill-opacity=\"1\" /><path clip-path=\"url(#clip690)\" d=\"M 0 0 M1785.9 6.912 L1815.14 6.912 L1815.14 10.8472 L1802.87 10.8472 L1802.87 41.472 L1798.17 41.472 L1798.17 10.8472 L1785.9 10.8472 L1785.9 6.912 Z\" fill=\"#000000\" fill-rule=\"evenodd\" fill-opacity=\"1\" /><path clip-path=\"url(#clip690)\" d=\"M 0 0 M1849.7 19.5277 Q1848.98 19.111 1848.13 18.9258 Q1847.29 18.7175 1846.27 18.7175 Q1842.66 18.7175 1840.72 21.0786 Q1838.8 23.4165 1838.8 27.8147 L1838.8 41.472 L1834.52 41.472 L1834.52 15.5462 L1838.8 15.5462 L1838.8 19.574 Q1840.14 17.2129 1842.29 16.0786 Q1844.45 14.9212 1847.52 14.9212 Q1847.96 14.9212 1848.5 14.9907 Q1849.03 15.037 1849.68 15.1527 L1849.7 19.5277 Z\" fill=\"#000000\" fill-rule=\"evenodd\" fill-opacity=\"1\" /><path clip-path=\"url(#clip690)\" d=\"M 0 0 M1874.89 25.8239 L1874.89 41.472 L1870.63 41.472 L1870.63 25.9628 Q1870.63 22.2823 1869.19 20.4536 Q1867.76 18.6249 1864.89 18.6249 Q1861.44 18.6249 1859.45 20.824 Q1857.45 23.023 1857.45 26.8193 L1857.45 41.472 L1853.17 41.472 L1853.17 5.45367 L1857.45 5.45367 L1857.45 19.574 Q1858.98 17.236 1861.04 16.0786 Q1863.13 14.9212 1865.83 14.9212 Q1870.3 14.9212 1872.59 17.699 Q1874.89 20.4536 1874.89 25.8239 Z\" fill=\"#000000\" fill-rule=\"evenodd\" fill-opacity=\"1\" /><path clip-path=\"url(#clip690)\" d=\"M 0 0 M1889.4 18.5323 Q1885.97 18.5323 1883.98 21.2175 Q1881.99 23.8795 1881.99 28.5323 Q1881.99 33.185 1883.96 35.8702 Q1885.95 38.5322 1889.4 38.5322 Q1892.8 38.5322 1894.79 35.847 Q1896.78 33.1619 1896.78 28.5323 Q1896.78 23.9258 1894.79 21.2406 Q1892.8 18.5323 1889.4 18.5323 M1889.4 14.9212 Q1894.95 14.9212 1898.13 18.5323 Q1901.3 22.1434 1901.3 28.5323 Q1901.3 34.898 1898.13 38.5322 Q1894.95 42.1433 1889.4 42.1433 Q1883.82 42.1433 1880.65 38.5322 Q1877.5 34.898 1877.5 28.5323 Q1877.5 22.1434 1880.65 18.5323 Q1883.82 14.9212 1889.4 14.9212 Z\" fill=\"#000000\" fill-rule=\"evenodd\" fill-opacity=\"1\" /><path clip-path=\"url(#clip690)\" d=\"M 0 0 M1921.39 19.9443 L1951.07 19.9443 L1951.07 23.8332 L1921.39 23.8332 L1921.39 19.9443 M1921.39 29.3887 L1951.07 29.3887 L1951.07 33.3239 L1921.39 33.3239 L1921.39 29.3887 Z\" fill=\"#000000\" fill-rule=\"evenodd\" fill-opacity=\"1\" /><path clip-path=\"url(#clip690)\" d=\"M 0 0 M1981.2 9.99069 Q1977.59 9.99069 1975.76 13.5555 Q1973.96 17.0971 1973.96 24.2267 Q1973.96 31.3332 1975.76 34.898 Q1977.59 38.4396 1981.2 38.4396 Q1984.84 38.4396 1986.64 34.898 Q1988.47 31.3332 1988.47 24.2267 Q1988.47 17.0971 1986.64 13.5555 Q1984.84 9.99069 1981.2 9.99069 M1981.2 6.287 Q1987.01 6.287 1990.07 10.8935 Q1993.15 15.4768 1993.15 24.2267 Q1993.15 32.9535 1990.07 37.56 Q1987.01 42.1433 1981.2 42.1433 Q1975.39 42.1433 1972.32 37.56 Q1969.26 32.9535 1969.26 24.2267 Q1969.26 15.4768 1972.32 10.8935 Q1975.39 6.287 1981.2 6.287 Z\" fill=\"#000000\" fill-rule=\"evenodd\" fill-opacity=\"1\" /><path clip-path=\"url(#clip690)\" d=\"M 0 0 M1998.22 35.5924 L2003.1 35.5924 L2003.1 41.472 L1998.22 41.472 L1998.22 35.5924 Z\" fill=\"#000000\" fill-rule=\"evenodd\" fill-opacity=\"1\" /><path clip-path=\"url(#clip690)\" d=\"M 0 0 M2006.99 6.912 L2029.21 6.912 L2029.21 8.90273 L2016.67 41.472 L2011.78 41.472 L2023.59 10.8472 L2006.99 10.8472 L2006.99 6.912 Z\" fill=\"#000000\" fill-rule=\"evenodd\" fill-opacity=\"1\" /><circle clip-path=\"url(#clip693)\" cx=\"2283.56\" cy=\"942.121\" r=\"14\" fill=\"#009af9\" fill-rule=\"evenodd\" fill-opacity=\"1\" stroke=\"#000000\" stroke-opacity=\"1\" stroke-width=\"3.2\"/>\n",
       "<circle clip-path=\"url(#clip693)\" cx=\"2214.85\" cy=\"706.671\" r=\"14\" fill=\"#009af9\" fill-rule=\"evenodd\" fill-opacity=\"1\" stroke=\"#000000\" stroke-opacity=\"1\" stroke-width=\"3.2\"/>\n",
       "<circle clip-path=\"url(#clip693)\" cx=\"2259.36\" cy=\"632.904\" r=\"14\" fill=\"#009af9\" fill-rule=\"evenodd\" fill-opacity=\"1\" stroke=\"#000000\" stroke-opacity=\"1\" stroke-width=\"3.2\"/>\n",
       "<circle clip-path=\"url(#clip693)\" cx=\"2272.31\" cy=\"826.595\" r=\"14\" fill=\"#009af9\" fill-rule=\"evenodd\" fill-opacity=\"1\" stroke=\"#000000\" stroke-opacity=\"1\" stroke-width=\"3.2\"/>\n",
       "<circle clip-path=\"url(#clip693)\" cx=\"2278.79\" cy=\"903.443\" r=\"14\" fill=\"#009af9\" fill-rule=\"evenodd\" fill-opacity=\"1\" stroke=\"#000000\" stroke-opacity=\"1\" stroke-width=\"3.2\"/>\n",
       "<circle clip-path=\"url(#clip693)\" cx=\"2211.25\" cy=\"343.727\" r=\"14\" fill=\"#009af9\" fill-rule=\"evenodd\" fill-opacity=\"1\" stroke=\"#000000\" stroke-opacity=\"1\" stroke-width=\"3.2\"/>\n",
       "<circle clip-path=\"url(#clip693)\" cx=\"2231.42\" cy=\"530.043\" r=\"14\" fill=\"#009af9\" fill-rule=\"evenodd\" fill-opacity=\"1\" stroke=\"#000000\" stroke-opacity=\"1\" stroke-width=\"3.2\"/>\n",
       "<circle clip-path=\"url(#clip693)\" cx=\"2273.91\" cy=\"581.735\" r=\"14\" fill=\"#009af9\" fill-rule=\"evenodd\" fill-opacity=\"1\" stroke=\"#000000\" stroke-opacity=\"1\" stroke-width=\"3.2\"/>\n",
       "<circle clip-path=\"url(#clip693)\" cx=\"2322.59\" cy=\"955.222\" r=\"14\" fill=\"#009af9\" fill-rule=\"evenodd\" fill-opacity=\"1\" stroke=\"#000000\" stroke-opacity=\"1\" stroke-width=\"3.2\"/>\n",
       "<circle clip-path=\"url(#clip693)\" cx=\"2305.78\" cy=\"843.917\" r=\"14\" fill=\"#009af9\" fill-rule=\"evenodd\" fill-opacity=\"1\" stroke=\"#000000\" stroke-opacity=\"1\" stroke-width=\"3.2\"/>\n",
       "<circle clip-path=\"url(#clip693)\" cx=\"2264.77\" cy=\"423.397\" r=\"14\" fill=\"#009af9\" fill-rule=\"evenodd\" fill-opacity=\"1\" stroke=\"#000000\" stroke-opacity=\"1\" stroke-width=\"3.2\"/>\n",
       "<circle clip-path=\"url(#clip693)\" cx=\"2259.07\" cy=\"877.85\" r=\"14\" fill=\"#009af9\" fill-rule=\"evenodd\" fill-opacity=\"1\" stroke=\"#000000\" stroke-opacity=\"1\" stroke-width=\"3.2\"/>\n",
       "<circle clip-path=\"url(#clip693)\" cx=\"2265.95\" cy=\"873.715\" r=\"14\" fill=\"#009af9\" fill-rule=\"evenodd\" fill-opacity=\"1\" stroke=\"#000000\" stroke-opacity=\"1\" stroke-width=\"3.2\"/>\n",
       "<circle clip-path=\"url(#clip693)\" cx=\"2268.24\" cy=\"302.926\" r=\"14\" fill=\"#009af9\" fill-rule=\"evenodd\" fill-opacity=\"1\" stroke=\"#000000\" stroke-opacity=\"1\" stroke-width=\"3.2\"/>\n",
       "<circle clip-path=\"url(#clip693)\" cx=\"2260.42\" cy=\"144.675\" r=\"14\" fill=\"#009af9\" fill-rule=\"evenodd\" fill-opacity=\"1\" stroke=\"#000000\" stroke-opacity=\"1\" stroke-width=\"3.2\"/>\n",
       "<circle clip-path=\"url(#clip693)\" cx=\"1487.83\" cy=\"504.931\" r=\"14\" fill=\"#e26f46\" fill-rule=\"evenodd\" fill-opacity=\"1\" stroke=\"#000000\" stroke-opacity=\"1\" stroke-width=\"3.2\"/>\n",
       "<circle clip-path=\"url(#clip693)\" cx=\"1696.18\" cy=\"636.918\" r=\"14\" fill=\"#e26f46\" fill-rule=\"evenodd\" fill-opacity=\"1\" stroke=\"#000000\" stroke-opacity=\"1\" stroke-width=\"3.2\"/>\n",
       "<circle clip-path=\"url(#clip693)\" cx=\"1937.1\" cy=\"1479.74\" r=\"14\" fill=\"#e26f46\" fill-rule=\"evenodd\" fill-opacity=\"1\" stroke=\"#000000\" stroke-opacity=\"1\" stroke-width=\"3.2\"/>\n",
       "<circle clip-path=\"url(#clip693)\" cx=\"1755.65\" cy=\"965.206\" r=\"14\" fill=\"#e26f46\" fill-rule=\"evenodd\" fill-opacity=\"1\" stroke=\"#000000\" stroke-opacity=\"1\" stroke-width=\"3.2\"/>\n",
       "<circle clip-path=\"url(#clip693)\" cx=\"1731.9\" cy=\"975.775\" r=\"14\" fill=\"#e26f46\" fill-rule=\"evenodd\" fill-opacity=\"1\" stroke=\"#000000\" stroke-opacity=\"1\" stroke-width=\"3.2\"/>\n",
       "<circle clip-path=\"url(#clip693)\" cx=\"1868.79\" cy=\"1163.31\" r=\"14\" fill=\"#e26f46\" fill-rule=\"evenodd\" fill-opacity=\"1\" stroke=\"#000000\" stroke-opacity=\"1\" stroke-width=\"3.2\"/>\n",
       "<circle clip-path=\"url(#clip693)\" cx=\"1859.46\" cy=\"1173.5\" r=\"14\" fill=\"#e26f46\" fill-rule=\"evenodd\" fill-opacity=\"1\" stroke=\"#000000\" stroke-opacity=\"1\" stroke-width=\"3.2\"/>\n",
       "<circle clip-path=\"url(#clip693)\" cx=\"1732.77\" cy=\"656.077\" r=\"14\" fill=\"#e26f46\" fill-rule=\"evenodd\" fill-opacity=\"1\" stroke=\"#000000\" stroke-opacity=\"1\" stroke-width=\"3.2\"/>\n",
       "<circle clip-path=\"url(#clip693)\" cx=\"1998.69\" cy=\"1191.02\" r=\"14\" fill=\"#e26f46\" fill-rule=\"evenodd\" fill-opacity=\"1\" stroke=\"#000000\" stroke-opacity=\"1\" stroke-width=\"3.2\"/>\n",
       "<circle clip-path=\"url(#clip693)\" cx=\"1851.18\" cy=\"1094.91\" r=\"14\" fill=\"#e26f46\" fill-rule=\"evenodd\" fill-opacity=\"1\" stroke=\"#000000\" stroke-opacity=\"1\" stroke-width=\"3.2\"/>\n",
       "<circle clip-path=\"url(#clip693)\" cx=\"1967.47\" cy=\"1336.17\" r=\"14\" fill=\"#e26f46\" fill-rule=\"evenodd\" fill-opacity=\"1\" stroke=\"#000000\" stroke-opacity=\"1\" stroke-width=\"3.2\"/>\n",
       "<circle clip-path=\"url(#clip693)\" cx=\"1718.45\" cy=\"580.038\" r=\"14\" fill=\"#e26f46\" fill-rule=\"evenodd\" fill-opacity=\"1\" stroke=\"#000000\" stroke-opacity=\"1\" stroke-width=\"3.2\"/>\n",
       "<circle clip-path=\"url(#clip693)\" cx=\"1642.5\" cy=\"926.163\" r=\"14\" fill=\"#e26f46\" fill-rule=\"evenodd\" fill-opacity=\"1\" stroke=\"#000000\" stroke-opacity=\"1\" stroke-width=\"3.2\"/>\n",
       "<circle clip-path=\"url(#clip693)\" cx=\"1642.81\" cy=\"881.602\" r=\"14\" fill=\"#3da44d\" fill-rule=\"evenodd\" fill-opacity=\"1\" stroke=\"#000000\" stroke-opacity=\"1\" stroke-width=\"3.2\"/>\n",
       "<circle clip-path=\"url(#clip693)\" cx=\"1638.71\" cy=\"1091.2\" r=\"14\" fill=\"#3da44d\" fill-rule=\"evenodd\" fill-opacity=\"1\" stroke=\"#000000\" stroke-opacity=\"1\" stroke-width=\"3.2\"/>\n",
       "<circle clip-path=\"url(#clip693)\" cx=\"1528.86\" cy=\"885.458\" r=\"14\" fill=\"#3da44d\" fill-rule=\"evenodd\" fill-opacity=\"1\" stroke=\"#000000\" stroke-opacity=\"1\" stroke-width=\"3.2\"/>\n",
       "<circle clip-path=\"url(#clip693)\" cx=\"1505.15\" cy=\"577.904\" r=\"14\" fill=\"#3da44d\" fill-rule=\"evenodd\" fill-opacity=\"1\" stroke=\"#000000\" stroke-opacity=\"1\" stroke-width=\"3.2\"/>\n",
       "<circle clip-path=\"url(#clip693)\" cx=\"1559.92\" cy=\"535.021\" r=\"14\" fill=\"#3da44d\" fill-rule=\"evenodd\" fill-opacity=\"1\" stroke=\"#000000\" stroke-opacity=\"1\" stroke-width=\"3.2\"/>\n",
       "<circle clip-path=\"url(#clip693)\" cx=\"1621.42\" cy=\"978.229\" r=\"14\" fill=\"#3da44d\" fill-rule=\"evenodd\" fill-opacity=\"1\" stroke=\"#000000\" stroke-opacity=\"1\" stroke-width=\"3.2\"/>\n",
       "<circle clip-path=\"url(#clip693)\" cx=\"1562.66\" cy=\"699.157\" r=\"14\" fill=\"#3da44d\" fill-rule=\"evenodd\" fill-opacity=\"1\" stroke=\"#000000\" stroke-opacity=\"1\" stroke-width=\"3.2\"/>\n",
       "<circle clip-path=\"url(#clip693)\" cx=\"1616.5\" cy=\"615.198\" r=\"14\" fill=\"#3da44d\" fill-rule=\"evenodd\" fill-opacity=\"1\" stroke=\"#000000\" stroke-opacity=\"1\" stroke-width=\"3.2\"/>\n",
       "<circle clip-path=\"url(#clip693)\" cx=\"1405.6\" cy=\"325.305\" r=\"14\" fill=\"#3da44d\" fill-rule=\"evenodd\" fill-opacity=\"1\" stroke=\"#000000\" stroke-opacity=\"1\" stroke-width=\"3.2\"/>\n",
       "<circle clip-path=\"url(#clip693)\" cx=\"1657.84\" cy=\"832.095\" r=\"14\" fill=\"#3da44d\" fill-rule=\"evenodd\" fill-opacity=\"1\" stroke=\"#000000\" stroke-opacity=\"1\" stroke-width=\"3.2\"/>\n",
       "<circle clip-path=\"url(#clip693)\" cx=\"1656.94\" cy=\"951.409\" r=\"14\" fill=\"#3da44d\" fill-rule=\"evenodd\" fill-opacity=\"1\" stroke=\"#000000\" stroke-opacity=\"1\" stroke-width=\"3.2\"/>\n",
       "<circle clip-path=\"url(#clip693)\" cx=\"1688.13\" cy=\"605.874\" r=\"14\" fill=\"#3da44d\" fill-rule=\"evenodd\" fill-opacity=\"1\" stroke=\"#000000\" stroke-opacity=\"1\" stroke-width=\"3.2\"/>\n",
       "<circle clip-path=\"url(#clip693)\" cx=\"1649.48\" cy=\"1205.06\" r=\"14\" fill=\"#3da44d\" fill-rule=\"evenodd\" fill-opacity=\"1\" stroke=\"#000000\" stroke-opacity=\"1\" stroke-width=\"3.2\"/>\n",
       "<circle clip-path=\"url(#clip693)\" cx=\"1638.71\" cy=\"1091.2\" r=\"14\" fill=\"#3da44d\" fill-rule=\"evenodd\" fill-opacity=\"1\" stroke=\"#000000\" stroke-opacity=\"1\" stroke-width=\"3.2\"/>\n",
       "<circle clip-path=\"url(#clip693)\" cx=\"1644.19\" cy=\"1004.33\" r=\"14\" fill=\"#3da44d\" fill-rule=\"evenodd\" fill-opacity=\"1\" stroke=\"#000000\" stroke-opacity=\"1\" stroke-width=\"3.2\"/>\n",
       "<circle clip-path=\"url(#clip693)\" cx=\"1525.43\" cy=\"687.806\" r=\"14\" fill=\"#3da44d\" fill-rule=\"evenodd\" fill-opacity=\"1\" stroke=\"#000000\" stroke-opacity=\"1\" stroke-width=\"3.2\"/>\n",
       "<circle clip-path=\"url(#clip693)\" cx=\"1317.16\" cy=\"104.257\" r=\"14\" fill=\"#3da44d\" fill-rule=\"evenodd\" fill-opacity=\"1\" stroke=\"#000000\" stroke-opacity=\"1\" stroke-width=\"3.2\"/>\n",
       "</svg>\n"
      ]
     },
     "metadata": {},
     "execution_count": 19
    }
   ],
   "cell_type": "code",
   "source": [
    "p1 = scatter(X_test_pca[1,:], X_test_pca[2,:], group=y_hat_1, title=@sprintf \"FuzzyART rho = %.1f\" rho_1)\n",
    "p2 = scatter(X_test_pca[1,:], X_test_pca[2,:], group=y_hat_2, title=@sprintf \"FuzzyART rho = %.1f\" rho_2)\n",
    "plot(p1, p2, layout=(1, 2), legend = false, xtickfontsize=6, xguidefontsize=8, titlefont=font(8))"
   ],
   "metadata": {},
   "execution_count": 19
  },
  {
   "cell_type": "markdown",
   "source": [
    "---\n",
    "\n",
    "*This notebook was generated using [Literate.jl](https://github.com/fredrikekre/Literate.jl).*"
   ],
   "metadata": {}
  }
 ],
 "nbformat_minor": 3,
 "metadata": {
  "language_info": {
   "file_extension": ".jl",
   "mimetype": "application/julia",
   "name": "julia",
   "version": "1.4.2"
  },
  "kernelspec": {
   "name": "julia-1.4",
   "display_name": "Julia 1.4.2",
   "language": "julia"
  }
 },
 "nbformat": 4
}
