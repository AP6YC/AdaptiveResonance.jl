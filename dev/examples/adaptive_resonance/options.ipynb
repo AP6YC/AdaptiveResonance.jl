{
 "cells": [
  {
   "cell_type": "markdown",
   "source": [
    "## Overview"
   ],
   "metadata": {}
  },
  {
   "cell_type": "markdown",
   "source": [
    "The `AdaptiveResonance.jl` package has several ways of handling options for ART modules.\n",
    "These methods are meant to give maximum flexibility to the user for sharing and interpreting options, which themselves vary between each module."
   ],
   "metadata": {}
  },
  {
   "cell_type": "markdown",
   "source": [
    "!!! note\n",
    "    For more info on options in ART modules, see the guide in the docs on ART options."
   ],
   "metadata": {}
  },
  {
   "cell_type": "markdown",
   "source": [
    "## ART Options"
   ],
   "metadata": {}
  },
  {
   "cell_type": "markdown",
   "source": [
    "To get a feel for the ART options system, we will inspect different options and their instantiation methods."
   ],
   "metadata": {}
  },
  {
   "cell_type": "markdown",
   "source": [
    "### Inspection"
   ],
   "metadata": {}
  },
  {
   "cell_type": "markdown",
   "source": [
    "First, we load `AdaptiveResonance`:"
   ],
   "metadata": {}
  },
  {
   "outputs": [],
   "cell_type": "code",
   "source": [
    "using AdaptiveResonance"
   ],
   "metadata": {},
   "execution_count": 1
  },
  {
   "cell_type": "markdown",
   "source": [
    "Every ART module has a default constructor, which can be instantiated in the usual way:"
   ],
   "metadata": {}
  },
  {
   "outputs": [
    {
     "output_type": "execute_result",
     "data": {
      "text/plain": "FuzzyART"
     },
     "metadata": {},
     "execution_count": 2
    }
   ],
   "cell_type": "code",
   "source": [
    "# Create a FuzzyART module with default options\n",
    "my_fuzzyart = FuzzyART()\n",
    "typeof(my_fuzzyart)"
   ],
   "metadata": {},
   "execution_count": 2
  },
  {
   "cell_type": "markdown",
   "source": [
    "Within every ART module is a [Parameters.jl](https://github.com/mauro3/Parameters.jl) struct named `opts` containing the options for the module"
   ],
   "metadata": {}
  },
  {
   "outputs": [
    {
     "output_type": "execute_result",
     "data": {
      "text/plain": "opts_FuzzyART\n  rho: Float64 0.6\n  alpha: Float64 0.001\n  beta: Float64 1.0\n  gamma: Float64 3.0\n  gamma_ref: Float64 1.0\n  display: Bool true\n  max_epochs: Int64 1\n  gamma_normalization: Bool false\n"
     },
     "metadata": {},
     "execution_count": 3
    }
   ],
   "cell_type": "code",
   "source": [
    "# Check the FuzzyART options\n",
    "my_fuzzyart.opts"
   ],
   "metadata": {},
   "execution_count": 3
  },
  {
   "cell_type": "markdown",
   "source": [
    "Note that the options here have the type `opts_FuzzyART`.\n",
    "This nomenclature is used throughout the module to indicate an options type associated with an ART module.\n",
    "For example, the options for a DDVFA module are `opts_DDVFA`:"
   ],
   "metadata": {}
  },
  {
   "outputs": [
    {
     "output_type": "execute_result",
     "data": {
      "text/plain": "opts_DDVFA"
     },
     "metadata": {},
     "execution_count": 4
    }
   ],
   "cell_type": "code",
   "source": [
    "# Create a DDVFA module and check the type of the options\n",
    "my_ddvfa = DDVFA()\n",
    "typeof(my_ddvfa.opts)"
   ],
   "metadata": {},
   "execution_count": 4
  },
  {
   "cell_type": "markdown",
   "source": [
    "In fact, we can create an instance of these options with a default constructor:"
   ],
   "metadata": {}
  },
  {
   "outputs": [
    {
     "output_type": "execute_result",
     "data": {
      "text/plain": "opts_FuzzyART\n  rho: Float64 0.6\n  alpha: Float64 0.001\n  beta: Float64 1.0\n  gamma: Float64 3.0\n  gamma_ref: Float64 1.0\n  display: Bool true\n  max_epochs: Int64 1\n  gamma_normalization: Bool false\n"
     },
     "metadata": {},
     "execution_count": 5
    }
   ],
   "cell_type": "code",
   "source": [
    "# Create a separate options struct\n",
    "my_fuzzyart_opts = opts_FuzzyART()"
   ],
   "metadata": {},
   "execution_count": 5
  },
  {
   "cell_type": "markdown",
   "source": [
    "In addition to the default constructor, we can construct ART modules by instantiating these options and passing them to the module during construction:"
   ],
   "metadata": {}
  },
  {
   "outputs": [
    {
     "output_type": "execute_result",
     "data": {
      "text/plain": "FuzzyART(opts_FuzzyART\n  rho: Float64 0.6\n  alpha: Float64 0.001\n  beta: Float64 1.0\n  gamma: Float64 3.0\n  gamma_ref: Float64 1.0\n  display: Bool true\n  max_epochs: Int64 1\n  gamma_normalization: Bool false\n, DataConfig(false, Float64[], Float64[], 0, 0), 0.0, Int64[], Float64[], Float64[], Array{Float64}(undef,0,0), Int64[], 0, 0)"
     },
     "metadata": {},
     "execution_count": 6
    }
   ],
   "cell_type": "code",
   "source": [
    "# Instantiate an ART module by passing our options\n",
    "my_fuzzyart = FuzzyART(my_fuzzyart_opts)\n",
    "my_other_fuzzyart = FuzzyART(my_fuzzyart_opts)"
   ],
   "metadata": {},
   "execution_count": 6
  },
  {
   "cell_type": "markdown",
   "source": [
    "### Specifying Options"
   ],
   "metadata": {}
  },
  {
   "cell_type": "markdown",
   "source": [
    "Now to the good stuff: because of the behavior of the `Parameters.jl` type, each option has a default value that we can modify during instantiation with keyword arguments:"
   ],
   "metadata": {}
  },
  {
   "outputs": [
    {
     "output_type": "execute_result",
     "data": {
      "text/plain": "FuzzyART(opts_FuzzyART\n  rho: Float64 0.6\n  alpha: Float64 0.001\n  beta: Float64 1.0\n  gamma: Float64 3.0\n  gamma_ref: Float64 1.0\n  display: Bool true\n  max_epochs: Int64 1\n  gamma_normalization: Bool true\n, DataConfig(false, Float64[], Float64[], 0, 0), 0.0, Int64[], Float64[], Float64[], Array{Float64}(undef,0,0), Int64[], 0, 0)"
     },
     "metadata": {},
     "execution_count": 7
    }
   ],
   "cell_type": "code",
   "source": [
    "# Change some of the default FuzzyART options\n",
    "my_fuzzyart_opts = opts_FuzzyART(\n",
    "    rho=0.6,\n",
    "    gamma_normalization=true\n",
    ")\n",
    "my_fuzzyart = FuzzyART(my_fuzzyart_opts)"
   ],
   "metadata": {},
   "execution_count": 7
  },
  {
   "cell_type": "markdown",
   "source": [
    "As some syntactic sugar, we can pass these keyword arguments directly to the module during instantiation if we have no need to share option structs:"
   ],
   "metadata": {}
  },
  {
   "outputs": [
    {
     "output_type": "execute_result",
     "data": {
      "text/plain": "FuzzyART(opts_FuzzyART\n  rho: Float64 0.6\n  alpha: Float64 0.001\n  beta: Float64 1.0\n  gamma: Float64 3.0\n  gamma_ref: Float64 1.0\n  display: Bool true\n  max_epochs: Int64 1\n  gamma_normalization: Bool true\n, DataConfig(false, Float64[], Float64[], 0, 0), 0.0, Int64[], Float64[], Float64[], Array{Float64}(undef,0,0), Int64[], 0, 0)"
     },
     "metadata": {},
     "execution_count": 8
    }
   ],
   "cell_type": "code",
   "source": [
    "# Pass these keyword arguments to the module directly\n",
    "my_fuzzyart = FuzzyART(\n",
    "    rho=0.6,\n",
    "    gamma_normalization=true\n",
    ")"
   ],
   "metadata": {},
   "execution_count": 8
  },
  {
   "cell_type": "markdown",
   "source": [
    "Before training, we can also instantiate the model and alter the options afterward:"
   ],
   "metadata": {}
  },
  {
   "outputs": [
    {
     "output_type": "execute_result",
     "data": {
      "text/plain": "0.6"
     },
     "metadata": {},
     "execution_count": 9
    }
   ],
   "cell_type": "code",
   "source": [
    "my_fuzzyart = FuzzyART()\n",
    "my_fuzzyart.opts.rho=0.6"
   ],
   "metadata": {},
   "execution_count": 9
  },
  {
   "cell_type": "markdown",
   "source": [
    "!!! note\n",
    "    All ART modules are designed to use this options struct internally when the parameters are needed.\n",
    "    It is possible to change these parameters in the middle of training and evaluation, but some algorithmic instability may occur."
   ],
   "metadata": {}
  },
  {
   "cell_type": "markdown",
   "source": [
    "## Comparison"
   ],
   "metadata": {}
  },
  {
   "cell_type": "markdown",
   "source": [
    "To see the effect that changing these parameters has on the modules, we can train and test them side-by-side."
   ],
   "metadata": {}
  },
  {
   "cell_type": "markdown",
   "source": [
    "We begin with importing AdaptiveResonance for the ART modules and MLDatasets for some data utilities."
   ],
   "metadata": {}
  },
  {
   "outputs": [],
   "cell_type": "code",
   "source": [
    "using MLDatasets        # Iris dataset\n",
    "using MLDataUtils       # Shuffling and splitting\n",
    "using Printf            # Formatted number printing\n",
    "using MultivariateStats # Principal component analysis (PCA)\n",
    "using Plots             # Plotting"
   ],
   "metadata": {},
   "execution_count": 10
  },
  {
   "cell_type": "markdown",
   "source": [
    "We will download the Iris dataset for its small size and benchmark use for clustering algorithms."
   ],
   "metadata": {}
  },
  {
   "outputs": [
    {
     "output_type": "execute_result",
     "data": {
      "text/plain": "([5.1 4.9 … 6.2 5.9; 3.5 3.0 … 3.4 3.0; 1.4 1.4 … 5.4 5.1; 0.2 0.2 … 2.3 1.8], [\"Iris-setosa\", \"Iris-setosa\", \"Iris-setosa\", \"Iris-setosa\", \"Iris-setosa\", \"Iris-setosa\", \"Iris-setosa\", \"Iris-setosa\", \"Iris-setosa\", \"Iris-setosa\"  …  \"Iris-virginica\", \"Iris-virginica\", \"Iris-virginica\", \"Iris-virginica\", \"Iris-virginica\", \"Iris-virginica\", \"Iris-virginica\", \"Iris-virginica\", \"Iris-virginica\", \"Iris-virginica\"])"
     },
     "metadata": {},
     "execution_count": 11
    }
   ],
   "cell_type": "code",
   "source": [
    "Iris.download(i_accept_the_terms_of_use=true)\n",
    "features, labels = Iris.features(), Iris.labels()"
   ],
   "metadata": {},
   "execution_count": 11
  },
  {
   "cell_type": "markdown",
   "source": [
    "Because the MLDatasets package gives us Iris labels as strings, we will use the `MLDataUtils.convertlabel` method with the `MLLabelUtils.LabelEnc.Indices` type to get a list of integers representing each class:"
   ],
   "metadata": {}
  },
  {
   "outputs": [
    {
     "output_type": "execute_result",
     "data": {
      "text/plain": "3-element Array{Int64,1}:\n 1\n 2\n 3"
     },
     "metadata": {},
     "execution_count": 12
    }
   ],
   "cell_type": "code",
   "source": [
    "labels = convertlabel(LabelEnc.Indices{Int}, labels)\n",
    "unique(labels)"
   ],
   "metadata": {},
   "execution_count": 12
  },
  {
   "cell_type": "markdown",
   "source": [
    "Next, we will create a train/test split with the `MLDataUtils.stratifiedobs` utility:"
   ],
   "metadata": {}
  },
  {
   "outputs": [
    {
     "output_type": "execute_result",
     "data": {
      "text/plain": "(([5.1 4.8 … 6.4 7.7; 3.3 3.0 … 3.1 2.8; 1.7 1.4 … 5.5 6.7; 0.5 0.3 … 1.8 2.0], [1, 1, 2, 2, 3, 1, 3, 1, 2, 3  …  3, 2, 3, 1, 1, 3, 3, 2, 3, 3]), ([5.4 6.4 … 7.7 5.7; 3.4 2.9 … 3.0 3.0; 1.7 4.3 … 6.1 4.2; 0.2 1.3 … 2.3 1.2], [1, 2, 3, 1, 1, 2, 1, 3, 2, 3  …  3, 1, 2, 3, 1, 2, 3, 3, 3, 2]))"
     },
     "metadata": {},
     "execution_count": 13
    }
   ],
   "cell_type": "code",
   "source": [
    "(X_train, y_train), (X_test, y_test) = stratifiedobs((features, labels))"
   ],
   "metadata": {},
   "execution_count": 13
  },
  {
   "cell_type": "markdown",
   "source": [
    "Now we can create several FuzzyART modules with different options."
   ],
   "metadata": {}
  },
  {
   "outputs": [
    {
     "output_type": "execute_result",
     "data": {
      "text/plain": "FuzzyART(opts_FuzzyART\n  rho: Float64 0.7\n  alpha: Float64 0.001\n  beta: Float64 1.0\n  gamma: Float64 3.0\n  gamma_ref: Float64 1.0\n  display: Bool false\n  max_epochs: Int64 1\n  gamma_normalization: Bool false\n, DataConfig(false, Float64[], Float64[], 0, 0), 0.0, Int64[], Float64[], Float64[], Array{Float64}(undef,0,0), Int64[], 0, 0)"
     },
     "metadata": {},
     "execution_count": 14
    }
   ],
   "cell_type": "code",
   "source": [
    "# Create two FuzzyARTs with different vigilance values and suppressing logging messages\n",
    "rho_1 = 0.5\n",
    "rho_2 = 0.7\n",
    "my_fuzzyart_1 = FuzzyART(rho=rho_1, display=false)\n",
    "my_fuzzyart_2 = FuzzyART(rho=rho_2, display=false)"
   ],
   "metadata": {},
   "execution_count": 14
  },
  {
   "cell_type": "markdown",
   "source": [
    "Here, we will train these FuzzyART modules in simple supervised mode by passing the supervised labels as a keyword argument:"
   ],
   "metadata": {}
  },
  {
   "outputs": [
    {
     "output_type": "execute_result",
     "data": {
      "text/plain": "105-element Array{Int64,1}:\n 1\n 1\n 2\n 2\n 3\n 1\n 3\n 1\n 2\n 3\n ⋮\n 2\n 3\n 1\n 1\n 3\n 3\n 2\n 3\n 3"
     },
     "metadata": {},
     "execution_count": 15
    }
   ],
   "cell_type": "code",
   "source": [
    "# Train in simple supervised mode by passing the labels as a keyword argument.\n",
    "y_hat_train_1 = train!(my_fuzzyart_1, X_train, y=y_train)\n",
    "y_hat_train_2 = train!(my_fuzzyart_2, X_train, y=y_train)"
   ],
   "metadata": {},
   "execution_count": 15
  },
  {
   "cell_type": "markdown",
   "source": [
    "We then classify the test data with both modules:"
   ],
   "metadata": {}
  },
  {
   "outputs": [
    {
     "name": "stdout",
     "output_type": "stream",
     "text": [
      "FuzzyART 1 labels: (45,) Array{Int64,1}\n",
      "FuzzyART 2 labels: (45,) Array{Int64,1}\n",
      "Testing performance rho=0.5: 0.9778\n",
      "Testing performance rho=0.7: 0.9556\n"
     ]
    }
   ],
   "cell_type": "code",
   "source": [
    "y_hat_1 = AdaptiveResonance.classify(my_fuzzyart_1, X_test, get_bmu=true)\n",
    "y_hat_2 = AdaptiveResonance.classify(my_fuzzyart_2, X_test, get_bmu=true)\n",
    "\n",
    "# Check the shape and type of the output labels\n",
    "println(\"FuzzyART 1 labels: \",  size(y_hat_1), \" \", typeof(y_hat_1))\n",
    "println(\"FuzzyART 2 labels: \",  size(y_hat_2), \" \", typeof(y_hat_2))\n",
    "\n",
    "# Calculate the performance on the test data\n",
    "perf_test_1 = performance(y_hat_1, y_test)\n",
    "perf_test_2 = performance(y_hat_2, y_test)\n",
    "\n",
    "# Format each performance number for comparison\n",
    "@printf \"Testing performance rho=%.1f: %.4f\\n\" rho_1 perf_test_1\n",
    "@printf \"Testing performance rho=%.1f: %.4f\\n\" rho_2 perf_test_2"
   ],
   "metadata": {},
   "execution_count": 16
  },
  {
   "cell_type": "markdown",
   "source": [
    "In addition to having different performances, we can see that there is a subsequent trade-off in the number of categories used:"
   ],
   "metadata": {}
  },
  {
   "outputs": [
    {
     "name": "stdout",
     "output_type": "stream",
     "text": [
      "Number of categories rho=0.5: 9\n",
      "Number of categories rho=0.7: 19\n"
     ]
    }
   ],
   "cell_type": "code",
   "source": [
    "# Print the number of categories for each vigilance parameter\n",
    "@printf \"Number of categories rho=%.1f: %i\\n\" rho_1 my_fuzzyart_1.n_categories\n",
    "@printf \"Number of categories rho=%.1f: %i\\n\" rho_2 my_fuzzyart_2.n_categories"
   ],
   "metadata": {},
   "execution_count": 17
  },
  {
   "cell_type": "markdown",
   "source": [
    "The variation between vigilance parameter, number of categories created during learning, and testing performance/generalization is a central theme in ART-based algorithms."
   ],
   "metadata": {}
  },
  {
   "cell_type": "markdown",
   "source": [
    "## Visualization"
   ],
   "metadata": {}
  },
  {
   "cell_type": "markdown",
   "source": [
    "Now, to visualize how the two models differ in how they partition the data, we can use principal component analysis (PCA) to compress to two plotting dimensions.\n",
    "PCA is a method to represent a dataset in a different number of dimensions while preserving the relative separation between datapoints.\n",
    "Though most datasets are not able to be effectively transformed down to two dimensions, this technique is useful to get a general sense of how well separated the classes are and how well your algorithm classifies them."
   ],
   "metadata": {}
  },
  {
   "outputs": [
    {
     "name": "stdout",
     "output_type": "stream",
     "text": [
      "┌ Warning: `transform(f, x)` is deprecated, use `predict(f, x)` instead.\n",
      "│   caller = top-level scope at options.ipynb:5\n",
      "└ @ Core ~/work/AdaptiveResonance.jl/AdaptiveResonance.jl/docs/src/examples/adaptive_resonance/options.ipynb:5\n"
     ]
    },
    {
     "output_type": "execute_result",
     "data": {
      "text/plain": "2×45 Array{Float64,2}:\n 2.31053   -0.714008  -1.38767   2.62253  …  -2.16538  -3.07652   -0.331127\n 0.397868   0.150379  -0.204031  0.81809      0.21528   0.685764  -0.21118"
     },
     "metadata": {},
     "execution_count": 18
    }
   ],
   "cell_type": "code",
   "source": [
    "# Train a PCA model to visually separate the features in two dimensions.\n",
    "M = fit(PCA, features; maxoutdim=2)\n",
    "\n",
    "# Apply the PCA model to the testing set\n",
    "X_test_pca = transform(M, X_test)"
   ],
   "metadata": {},
   "execution_count": 18
  },
  {
   "cell_type": "markdown",
   "source": [
    "We can now plot the PCA'ed test set and label them according to the two FuzzyART's"
   ],
   "metadata": {}
  },
  {
   "outputs": [
    {
     "output_type": "execute_result",
     "data": {
      "text/plain": "Plot{Plots.GRBackend() n=6}",
      "image/png": "[encoded data removed]",
      "text/html": [
       "<?xml version=\"1.0\" encoding=\"utf-8\"?>\n",
       "<svg xmlns=\"http://www.w3.org/2000/svg\" xmlns:xlink=\"http://www.w3.org/1999/xlink\" width=\"600\" height=\"400\" viewBox=\"0 0 2400 1600\">\n",
       "<defs>\n",
       "  <clipPath id=\"clip530\">\n",
       "    <rect x=\"0\" y=\"0\" width=\"2400\" height=\"1600\"/>\n",
       "  </clipPath>\n",
       "</defs>\n",
       "<path clip-path=\"url(#clip530)\" d=\"\n",
       "M0 1600 L2400 1600 L2400 0 L0 0  Z\n",
       "  \" fill=\"#ffffff\" fill-rule=\"evenodd\" fill-opacity=\"1\"/>\n",
       "<defs>\n",
       "  <clipPath id=\"clip531\">\n",
       "    <rect x=\"480\" y=\"0\" width=\"1681\" height=\"1600\"/>\n",
       "  </clipPath>\n",
       "</defs>\n",
       "<path clip-path=\"url(#clip530)\" d=\"\n",
       "M86.9921 1521.01 L1152.76 1521.01 L1152.76 62.9921 L86.9921 62.9921  Z\n",
       "  \" fill=\"#ffffff\" fill-rule=\"evenodd\" fill-opacity=\"1\"/>\n",
       "<defs>\n",
       "  <clipPath id=\"clip532\">\n",
       "    <rect x=\"86\" y=\"62\" width=\"1067\" height=\"1459\"/>\n",
       "  </clipPath>\n",
       "</defs>\n",
       "<polyline clip-path=\"url(#clip532)\" style=\"stroke:#000000; stroke-width:2; stroke-opacity:0.1; fill:none\" points=\"\n",
       "  154.648,1521.01 154.648,62.9921 \n",
       "  \"/>\n",
       "<polyline clip-path=\"url(#clip532)\" style=\"stroke:#000000; stroke-width:2; stroke-opacity:0.1; fill:none\" points=\"\n",
       "  316.018,1521.01 316.018,62.9921 \n",
       "  \"/>\n",
       "<polyline clip-path=\"url(#clip532)\" style=\"stroke:#000000; stroke-width:2; stroke-opacity:0.1; fill:none\" points=\"\n",
       "  477.388,1521.01 477.388,62.9921 \n",
       "  \"/>\n",
       "<polyline clip-path=\"url(#clip532)\" style=\"stroke:#000000; stroke-width:2; stroke-opacity:0.1; fill:none\" points=\"\n",
       "  638.758,1521.01 638.758,62.9921 \n",
       "  \"/>\n",
       "<polyline clip-path=\"url(#clip532)\" style=\"stroke:#000000; stroke-width:2; stroke-opacity:0.1; fill:none\" points=\"\n",
       "  800.128,1521.01 800.128,62.9921 \n",
       "  \"/>\n",
       "<polyline clip-path=\"url(#clip532)\" style=\"stroke:#000000; stroke-width:2; stroke-opacity:0.1; fill:none\" points=\"\n",
       "  961.498,1521.01 961.498,62.9921 \n",
       "  \"/>\n",
       "<polyline clip-path=\"url(#clip532)\" style=\"stroke:#000000; stroke-width:2; stroke-opacity:0.1; fill:none\" points=\"\n",
       "  1122.87,1521.01 1122.87,62.9921 \n",
       "  \"/>\n",
       "<polyline clip-path=\"url(#clip530)\" style=\"stroke:#000000; stroke-width:4; stroke-opacity:1; fill:none\" points=\"\n",
       "  86.9921,1521.01 1152.76,1521.01 \n",
       "  \"/>\n",
       "<polyline clip-path=\"url(#clip530)\" style=\"stroke:#000000; stroke-width:4; stroke-opacity:1; fill:none\" points=\"\n",
       "  154.648,1521.01 154.648,1503.51 \n",
       "  \"/>\n",
       "<polyline clip-path=\"url(#clip530)\" style=\"stroke:#000000; stroke-width:4; stroke-opacity:1; fill:none\" points=\"\n",
       "  316.018,1521.01 316.018,1503.51 \n",
       "  \"/>\n",
       "<polyline clip-path=\"url(#clip530)\" style=\"stroke:#000000; stroke-width:4; stroke-opacity:1; fill:none\" points=\"\n",
       "  477.388,1521.01 477.388,1503.51 \n",
       "  \"/>\n",
       "<polyline clip-path=\"url(#clip530)\" style=\"stroke:#000000; stroke-width:4; stroke-opacity:1; fill:none\" points=\"\n",
       "  638.758,1521.01 638.758,1503.51 \n",
       "  \"/>\n",
       "<polyline clip-path=\"url(#clip530)\" style=\"stroke:#000000; stroke-width:4; stroke-opacity:1; fill:none\" points=\"\n",
       "  800.128,1521.01 800.128,1503.51 \n",
       "  \"/>\n",
       "<polyline clip-path=\"url(#clip530)\" style=\"stroke:#000000; stroke-width:4; stroke-opacity:1; fill:none\" points=\"\n",
       "  961.498,1521.01 961.498,1503.51 \n",
       "  \"/>\n",
       "<polyline clip-path=\"url(#clip530)\" style=\"stroke:#000000; stroke-width:4; stroke-opacity:1; fill:none\" points=\"\n",
       "  1122.87,1521.01 1122.87,1503.51 \n",
       "  \"/>\n",
       "<path clip-path=\"url(#clip530)\" d=\"M 0 0 M133.633 1558.69 L155.89 1558.69 L155.89 1561.64 L133.633 1561.64 L133.633 1558.69 Z\" fill=\"#000000\" fill-rule=\"evenodd\" fill-opacity=\"1\" /><path clip-path=\"url(#clip530)\" d=\"M 0 0 M170.317 1557.34 Q172.834 1557.87 174.24 1559.58 Q175.664 1561.28 175.664 1563.78 Q175.664 1567.61 173.025 1569.71 Q170.386 1571.82 165.525 1571.82 Q163.893 1571.82 162.157 1571.49 Q160.438 1571.17 158.598 1570.53 L158.598 1567.15 Q160.056 1568 161.792 1568.43 Q163.529 1568.86 165.421 1568.86 Q168.72 1568.86 170.438 1567.56 Q172.174 1566.26 172.174 1563.78 Q172.174 1561.49 170.56 1560.2 Q168.963 1558.9 166.098 1558.9 L163.077 1558.9 L163.077 1556.02 L166.237 1556.02 Q168.824 1556.02 170.195 1554.99 Q171.567 1553.95 171.567 1552.01 Q171.567 1550.01 170.143 1548.95 Q168.737 1547.87 166.098 1547.87 Q164.657 1547.87 163.008 1548.19 Q161.358 1548.5 159.379 1549.16 L159.379 1546.03 Q161.376 1545.48 163.112 1545.2 Q164.865 1544.92 166.41 1544.92 Q170.404 1544.92 172.73 1546.75 Q175.056 1548.55 175.056 1551.64 Q175.056 1553.79 173.824 1555.29 Q172.591 1556.76 170.317 1557.34 Z\" fill=\"#000000\" fill-rule=\"evenodd\" fill-opacity=\"1\" /><path clip-path=\"url(#clip530)\" d=\"M 0 0 M295.359 1558.69 L317.615 1558.69 L317.615 1561.64 L295.359 1561.64 L295.359 1558.69 Z\" fill=\"#000000\" fill-rule=\"evenodd\" fill-opacity=\"1\" /><path clip-path=\"url(#clip530)\" d=\"M 0 0 M324.438 1568.36 L336.678 1568.36 L336.678 1571.31 L320.22 1571.31 L320.22 1568.36 Q322.216 1566.29 325.654 1562.82 Q329.108 1559.33 329.994 1558.33 Q331.678 1556.43 332.338 1555.13 Q333.015 1553.81 333.015 1552.54 Q333.015 1550.48 331.556 1549.18 Q330.115 1547.87 327.789 1547.87 Q326.14 1547.87 324.299 1548.45 Q322.477 1549.02 320.393 1550.18 L320.393 1546.64 Q322.511 1545.79 324.352 1545.36 Q326.192 1544.92 327.72 1544.92 Q331.747 1544.92 334.143 1546.94 Q336.539 1548.95 336.539 1552.32 Q336.539 1553.92 335.931 1555.36 Q335.341 1556.78 333.761 1558.73 Q333.327 1559.23 331.001 1561.64 Q328.674 1564.04 324.438 1568.36 Z\" fill=\"#000000\" fill-rule=\"evenodd\" fill-opacity=\"1\" /><path clip-path=\"url(#clip530)\" d=\"M 0 0 M456.59 1558.69 L478.846 1558.69 L478.846 1561.64 L456.59 1561.64 L456.59 1558.69 Z\" fill=\"#000000\" fill-rule=\"evenodd\" fill-opacity=\"1\" /><path clip-path=\"url(#clip530)\" d=\"M 0 0 M483.256 1568.36 L488.985 1568.36 L488.985 1548.59 L482.753 1549.84 L482.753 1546.64 L488.951 1545.39 L492.458 1545.39 L492.458 1568.36 L498.187 1568.36 L498.187 1571.31 L483.256 1571.31 L483.256 1568.36 Z\" fill=\"#000000\" fill-rule=\"evenodd\" fill-opacity=\"1\" /><path clip-path=\"url(#clip530)\" d=\"M 0 0 M638.758 1547.7 Q636.05 1547.7 634.678 1550.37 Q633.324 1553.03 633.324 1558.38 Q633.324 1563.71 634.678 1566.38 Q636.05 1569.04 638.758 1569.04 Q641.484 1569.04 642.838 1566.38 Q644.209 1563.71 644.209 1558.38 Q644.209 1553.03 642.838 1550.37 Q641.484 1547.7 638.758 1547.7 M638.758 1544.92 Q643.116 1544.92 645.407 1548.38 Q647.716 1551.82 647.716 1558.38 Q647.716 1564.92 645.407 1568.38 Q643.116 1571.82 638.758 1571.82 Q634.4 1571.82 632.091 1568.38 Q629.8 1564.92 629.8 1558.38 Q629.8 1551.82 632.091 1548.38 Q634.4 1544.92 638.758 1544.92 Z\" fill=\"#000000\" fill-rule=\"evenodd\" fill-opacity=\"1\" /><path clip-path=\"url(#clip530)\" d=\"M 0 0 M792.914 1568.36 L798.644 1568.36 L798.644 1548.59 L792.411 1549.84 L792.411 1546.64 L798.609 1545.39 L802.116 1545.39 L802.116 1568.36 L807.845 1568.36 L807.845 1571.31 L792.914 1571.31 L792.914 1568.36 Z\" fill=\"#000000\" fill-rule=\"evenodd\" fill-opacity=\"1\" /><path clip-path=\"url(#clip530)\" d=\"M 0 0 M957.487 1568.36 L969.727 1568.36 L969.727 1571.31 L953.269 1571.31 L953.269 1568.36 Q955.265 1566.29 958.703 1562.82 Q962.158 1559.33 963.043 1558.33 Q964.727 1556.43 965.387 1555.13 Q966.064 1553.81 966.064 1552.54 Q966.064 1550.48 964.605 1549.18 Q963.164 1547.87 960.838 1547.87 Q959.189 1547.87 957.349 1548.45 Q955.526 1549.02 953.442 1550.18 L953.442 1546.64 Q955.56 1545.79 957.401 1545.36 Q959.241 1544.92 960.769 1544.92 Q964.796 1544.92 967.192 1546.94 Q969.588 1548.95 969.588 1552.32 Q969.588 1553.92 968.98 1555.36 Q968.39 1556.78 966.81 1558.73 Q966.376 1559.23 964.05 1561.64 Q961.723 1564.04 957.487 1568.36 Z\" fill=\"#000000\" fill-rule=\"evenodd\" fill-opacity=\"1\" /><path clip-path=\"url(#clip530)\" d=\"M 0 0 M1126.05 1557.34 Q1128.57 1557.87 1129.98 1559.58 Q1131.4 1561.28 1131.4 1563.78 Q1131.4 1567.61 1128.76 1569.71 Q1126.12 1571.82 1121.26 1571.82 Q1119.63 1571.82 1117.89 1571.49 Q1116.18 1571.17 1114.33 1570.53 L1114.33 1567.15 Q1115.79 1568 1117.53 1568.43 Q1119.27 1568.86 1121.16 1568.86 Q1124.46 1568.86 1126.17 1567.56 Q1127.91 1566.26 1127.91 1563.78 Q1127.91 1561.49 1126.3 1560.2 Q1124.7 1558.9 1121.83 1558.9 L1118.81 1558.9 L1118.81 1556.02 L1121.97 1556.02 Q1124.56 1556.02 1125.93 1554.99 Q1127.3 1553.95 1127.3 1552.01 Q1127.3 1550.01 1125.88 1548.95 Q1124.47 1547.87 1121.83 1547.87 Q1120.39 1547.87 1118.74 1548.19 Q1117.1 1548.5 1115.12 1549.16 L1115.12 1546.03 Q1117.11 1545.48 1118.85 1545.2 Q1120.6 1544.92 1122.15 1544.92 Q1126.14 1544.92 1128.47 1546.75 Q1130.79 1548.55 1130.79 1551.64 Q1130.79 1553.79 1129.56 1555.29 Q1128.33 1556.76 1126.05 1557.34 Z\" fill=\"#000000\" fill-rule=\"evenodd\" fill-opacity=\"1\" /><polyline clip-path=\"url(#clip532)\" style=\"stroke:#000000; stroke-width:2; stroke-opacity:0.1; fill:none\" points=\"\n",
       "  86.9921,1316.68 1152.76,1316.68 \n",
       "  \"/>\n",
       "<polyline clip-path=\"url(#clip532)\" style=\"stroke:#000000; stroke-width:2; stroke-opacity:0.1; fill:none\" points=\"\n",
       "  86.9921,992.596 1152.76,992.596 \n",
       "  \"/>\n",
       "<polyline clip-path=\"url(#clip532)\" style=\"stroke:#000000; stroke-width:2; stroke-opacity:0.1; fill:none\" points=\"\n",
       "  86.9921,668.508 1152.76,668.508 \n",
       "  \"/>\n",
       "<polyline clip-path=\"url(#clip532)\" style=\"stroke:#000000; stroke-width:2; stroke-opacity:0.1; fill:none\" points=\"\n",
       "  86.9921,344.421 1152.76,344.421 \n",
       "  \"/>\n",
       "<polyline clip-path=\"url(#clip530)\" style=\"stroke:#000000; stroke-width:4; stroke-opacity:1; fill:none\" points=\"\n",
       "  86.9921,1521.01 86.9921,62.9921 \n",
       "  \"/>\n",
       "<polyline clip-path=\"url(#clip530)\" style=\"stroke:#000000; stroke-width:4; stroke-opacity:1; fill:none\" points=\"\n",
       "  86.9921,1316.68 99.7813,1316.68 \n",
       "  \"/>\n",
       "<polyline clip-path=\"url(#clip530)\" style=\"stroke:#000000; stroke-width:4; stroke-opacity:1; fill:none\" points=\"\n",
       "  86.9921,992.596 99.7813,992.596 \n",
       "  \"/>\n",
       "<polyline clip-path=\"url(#clip530)\" style=\"stroke:#000000; stroke-width:4; stroke-opacity:1; fill:none\" points=\"\n",
       "  86.9921,668.508 99.7813,668.508 \n",
       "  \"/>\n",
       "<polyline clip-path=\"url(#clip530)\" style=\"stroke:#000000; stroke-width:4; stroke-opacity:1; fill:none\" points=\"\n",
       "  86.9921,344.421 99.7813,344.421 \n",
       "  \"/>\n",
       "<path clip-path=\"url(#clip530)\" d=\"M 0 0 M-41.6694 1317.13 L-11.9936 1317.13 L-11.9936 1321.07 L-41.6694 1321.07 L-41.6694 1317.13 Z\" fill=\"#000000\" fill-rule=\"evenodd\" fill-opacity=\"1\" /><path clip-path=\"url(#clip530)\" d=\"M 0 0 M3.07572 1302.48 Q-0.535376 1302.48 -2.36407 1306.05 Q-4.16962 1309.59 -4.16962 1316.72 Q-4.16962 1323.82 -2.36407 1327.39 Q-0.535376 1330.93 3.07572 1330.93 Q6.70996 1330.93 8.5155 1327.39 Q10.3442 1323.82 10.3442 1316.72 Q10.3442 1309.59 8.5155 1306.05 Q6.70996 1302.48 3.07572 1302.48 M3.07572 1298.78 Q8.88587 1298.78 11.9414 1303.38 Q15.0201 1307.97 15.0201 1316.72 Q15.0201 1325.44 11.9414 1330.05 Q8.88587 1334.63 3.07572 1334.63 Q-2.73444 1334.63 -5.81313 1330.05 Q-8.86866 1325.44 -8.86866 1316.72 Q-8.86866 1307.97 -5.81313 1303.38 Q-2.73444 1298.78 3.07572 1298.78 Z\" fill=\"#000000\" fill-rule=\"evenodd\" fill-opacity=\"1\" /><path clip-path=\"url(#clip530)\" d=\"M 0 0 M20.0895 1328.08 L24.9737 1328.08 L24.9737 1333.96 L20.0895 1333.96 L20.0895 1328.08 Z\" fill=\"#000000\" fill-rule=\"evenodd\" fill-opacity=\"1\" /><path clip-path=\"url(#clip530)\" d=\"M 0 0 M30.0895 1299.4 L48.4458 1299.4 L48.4458 1303.34 L34.3718 1303.34 L34.3718 1311.81 Q35.3904 1311.46 36.4089 1311.3 Q37.4274 1311.12 38.4459 1311.12 Q44.2329 1311.12 47.6125 1314.29 Q50.9921 1317.46 50.9921 1322.87 Q50.9921 1328.45 47.5199 1331.56 Q44.0477 1334.63 37.7283 1334.63 Q35.5524 1334.63 33.2839 1334.26 Q31.0385 1333.89 28.6311 1333.15 L28.6311 1328.45 Q30.7145 1329.59 32.9367 1330.14 Q35.1589 1330.7 37.6357 1330.7 Q41.6403 1330.7 43.9783 1328.59 Q46.3162 1326.49 46.3162 1322.87 Q46.3162 1319.26 43.9783 1317.16 Q41.6403 1315.05 37.6357 1315.05 Q35.7607 1315.05 33.8857 1315.47 Q32.0339 1315.88 30.0895 1316.76 L30.0895 1299.4 Z\" fill=\"#000000\" fill-rule=\"evenodd\" fill-opacity=\"1\" /><path clip-path=\"url(#clip530)\" d=\"M 0 0 M2.08035 978.394 Q-1.53074 978.394 -3.35943 981.959 Q-5.16498 985.501 -5.16498 992.63 Q-5.16498 999.737 -3.35943 1003.3 Q-1.53074 1006.84 2.08035 1006.84 Q5.71459 1006.84 7.52014 1003.3 Q9.34883 999.737 9.34883 992.63 Q9.34883 985.501 7.52014 981.959 Q5.71459 978.394 2.08035 978.394 M2.08035 974.691 Q7.89051 974.691 10.946 979.297 Q14.0247 983.88 14.0247 992.63 Q14.0247 1001.36 10.946 1005.96 Q7.89051 1010.55 2.08035 1010.55 Q-3.7298 1010.55 -6.80849 1005.96 Q-9.86403 1001.36 -9.86403 992.63 Q-9.86403 983.88 -6.80849 979.297 Q-3.7298 974.691 2.08035 974.691 Z\" fill=\"#000000\" fill-rule=\"evenodd\" fill-opacity=\"1\" /><path clip-path=\"url(#clip530)\" d=\"M 0 0 M19.0941 1004 L23.9784 1004 L23.9784 1009.88 L19.0941 1009.88 L19.0941 1004 Z\" fill=\"#000000\" fill-rule=\"evenodd\" fill-opacity=\"1\" /><path clip-path=\"url(#clip530)\" d=\"M 0 0 M39.0477 978.394 Q35.4367 978.394 33.608 981.959 Q31.8024 985.501 31.8024 992.63 Q31.8024 999.737 33.608 1003.3 Q35.4367 1006.84 39.0477 1006.84 Q42.682 1006.84 44.4875 1003.3 Q46.3162 999.737 46.3162 992.63 Q46.3162 985.501 44.4875 981.959 Q42.682 978.394 39.0477 978.394 M39.0477 974.691 Q44.8579 974.691 47.9134 979.297 Q50.9921 983.88 50.9921 992.63 Q50.9921 1001.36 47.9134 1005.96 Q44.8579 1010.55 39.0477 1010.55 Q33.2376 1010.55 30.1589 1005.96 Q27.1034 1001.36 27.1034 992.63 Q27.1034 983.88 30.1589 979.297 Q33.2376 974.691 39.0477 974.691 Z\" fill=\"#000000\" fill-rule=\"evenodd\" fill-opacity=\"1\" /><path clip-path=\"url(#clip530)\" d=\"M 0 0 M3.07572 654.307 Q-0.535376 654.307 -2.36407 657.872 Q-4.16962 661.413 -4.16962 668.543 Q-4.16962 675.649 -2.36407 679.214 Q-0.535376 682.756 3.07572 682.756 Q6.70996 682.756 8.5155 679.214 Q10.3442 675.649 10.3442 668.543 Q10.3442 661.413 8.5155 657.872 Q6.70996 654.307 3.07572 654.307 M3.07572 650.603 Q8.88587 650.603 11.9414 655.21 Q15.0201 659.793 15.0201 668.543 Q15.0201 677.27 11.9414 681.876 Q8.88587 686.46 3.07572 686.46 Q-2.73444 686.46 -5.81313 681.876 Q-8.86866 677.27 -8.86866 668.543 Q-8.86866 659.793 -5.81313 655.21 Q-2.73444 650.603 3.07572 650.603 Z\" fill=\"#000000\" fill-rule=\"evenodd\" fill-opacity=\"1\" /><path clip-path=\"url(#clip530)\" d=\"M 0 0 M20.0895 679.909 L24.9737 679.909 L24.9737 685.788 L20.0895 685.788 L20.0895 679.909 Z\" fill=\"#000000\" fill-rule=\"evenodd\" fill-opacity=\"1\" /><path clip-path=\"url(#clip530)\" d=\"M 0 0 M30.0895 651.228 L48.4458 651.228 L48.4458 655.163 L34.3718 655.163 L34.3718 663.636 Q35.3904 663.288 36.4089 663.126 Q37.4274 662.941 38.4459 662.941 Q44.2329 662.941 47.6125 666.112 Q50.9921 669.284 50.9921 674.7 Q50.9921 680.279 47.5199 683.381 Q44.0477 686.46 37.7283 686.46 Q35.5524 686.46 33.2839 686.089 Q31.0385 685.719 28.6311 684.978 L28.6311 680.279 Q30.7145 681.413 32.9367 681.969 Q35.1589 682.524 37.6357 682.524 Q41.6403 682.524 43.9783 680.418 Q46.3162 678.311 46.3162 674.7 Q46.3162 671.089 43.9783 668.983 Q41.6403 666.876 37.6357 666.876 Q35.7607 666.876 33.8857 667.293 Q32.0339 667.71 30.0895 668.589 L30.0895 651.228 Z\" fill=\"#000000\" fill-rule=\"evenodd\" fill-opacity=\"1\" /><path clip-path=\"url(#clip530)\" d=\"M 0 0 M-5.88257 357.766 L1.75628 357.766 L1.75628 331.4 L-6.55386 333.067 L-6.55386 328.808 L1.70998 327.141 L6.38588 327.141 L6.38588 357.766 L14.0247 357.766 L14.0247 361.701 L-5.88257 361.701 L-5.88257 357.766 Z\" fill=\"#000000\" fill-rule=\"evenodd\" fill-opacity=\"1\" /><path clip-path=\"url(#clip530)\" d=\"M 0 0 M19.0941 355.821 L23.9784 355.821 L23.9784 361.701 L19.0941 361.701 L19.0941 355.821 Z\" fill=\"#000000\" fill-rule=\"evenodd\" fill-opacity=\"1\" /><path clip-path=\"url(#clip530)\" d=\"M 0 0 M39.0477 330.22 Q35.4367 330.22 33.608 333.784 Q31.8024 337.326 31.8024 344.456 Q31.8024 351.562 33.608 355.127 Q35.4367 358.669 39.0477 358.669 Q42.682 358.669 44.4875 355.127 Q46.3162 351.562 46.3162 344.456 Q46.3162 337.326 44.4875 333.784 Q42.682 330.22 39.0477 330.22 M39.0477 326.516 Q44.8579 326.516 47.9134 331.122 Q50.9921 335.706 50.9921 344.456 Q50.9921 353.183 47.9134 357.789 Q44.8579 362.372 39.0477 362.372 Q33.2376 362.372 30.1589 357.789 Q27.1034 353.183 27.1034 344.456 Q27.1034 335.706 30.1589 331.122 Q33.2376 326.516 39.0477 326.516 Z\" fill=\"#000000\" fill-rule=\"evenodd\" fill-opacity=\"1\" /><path clip-path=\"url(#clip530)\" d=\"M 0 0 M410.581 6.912 L430.442 6.912 L430.442 10.8472 L415.257 10.8472 L415.257 21.0323 L428.961 21.0323 L428.961 24.9675 L415.257 24.9675 L415.257 41.472 L410.581 41.472 L410.581 6.912 Z\" fill=\"#000000\" fill-rule=\"evenodd\" fill-opacity=\"1\" /><path clip-path=\"url(#clip530)\" d=\"M 0 0 M431.877 31.2406 L431.877 15.5462 L436.137 15.5462 L436.137 31.0785 Q436.137 34.7591 437.572 36.6109 Q439.007 38.4396 441.877 38.4396 Q445.326 38.4396 447.317 36.2405 Q449.331 34.0415 449.331 30.2452 L449.331 15.5462 L453.59 15.5462 L453.59 41.472 L449.331 41.472 L449.331 37.4905 Q447.78 39.8516 445.72 41.009 Q443.683 42.1433 440.975 42.1433 Q436.507 42.1433 434.192 39.3655 Q431.877 36.5878 431.877 31.2406 M442.595 14.9212 L442.595 14.9212 Z\" fill=\"#000000\" fill-rule=\"evenodd\" fill-opacity=\"1\" /><path clip-path=\"url(#clip530)\" d=\"M 0 0 M456.206 15.5462 L476.437 15.5462 L476.437 19.4351 L460.419 38.0692 L476.437 38.0692 L476.437 41.472 L455.627 41.472 L455.627 37.5831 L471.646 18.949 L456.206 18.949 L456.206 15.5462 Z\" fill=\"#000000\" fill-rule=\"evenodd\" fill-opacity=\"1\" /><path clip-path=\"url(#clip530)\" d=\"M 0 0 M479.053 15.5462 L499.284 15.5462 L499.284 19.4351 L483.266 38.0692 L499.284 38.0692 L499.284 41.472 L478.474 41.472 L478.474 37.5831 L494.493 18.949 L479.053 18.949 L479.053 15.5462 Z\" fill=\"#000000\" fill-rule=\"evenodd\" fill-opacity=\"1\" /><path clip-path=\"url(#clip530)\" d=\"M 0 0 M514.539 43.8794 Q512.733 48.509 511.02 49.921 Q509.307 51.3331 506.437 51.3331 L503.034 51.3331 L503.034 47.7683 L505.534 47.7683 Q507.294 47.7683 508.266 46.9349 Q509.238 46.1016 510.419 42.9998 L511.182 41.0553 L500.696 15.5462 L505.21 15.5462 L513.312 35.8239 L521.414 15.5462 L525.928 15.5462 L514.539 43.8794 Z\" fill=\"#000000\" fill-rule=\"evenodd\" fill-opacity=\"1\" /><path clip-path=\"url(#clip530)\" d=\"M 0 0 M542.131 11.5185 L535.789 28.7174 L548.497 28.7174 L542.131 11.5185 M539.493 6.912 L544.793 6.912 L557.965 41.472 L553.104 41.472 L549.955 32.6063 L534.377 32.6063 L531.229 41.472 L526.298 41.472 L539.493 6.912 Z\" fill=\"#000000\" fill-rule=\"evenodd\" fill-opacity=\"1\" /><path clip-path=\"url(#clip530)\" d=\"M 0 0 M579.006 25.2684 Q580.511 25.7776 581.923 27.4443 Q583.358 29.111 584.793 32.0276 L589.539 41.472 L584.515 41.472 L580.094 32.6063 Q578.381 29.1341 576.761 27.9998 Q575.164 26.8656 572.386 26.8656 L567.293 26.8656 L567.293 41.472 L562.617 41.472 L562.617 6.912 L573.173 6.912 Q579.099 6.912 582.015 9.38884 Q584.932 11.8657 584.932 16.8657 Q584.932 20.1295 583.404 22.2823 Q581.9 24.4351 579.006 25.2684 M567.293 10.7546 L567.293 23.023 L573.173 23.023 Q576.552 23.023 578.265 21.4721 Q580.002 19.898 580.002 16.8657 Q580.002 13.8333 578.265 12.3055 Q576.552 10.7546 573.173 10.7546 L567.293 10.7546 Z\" fill=\"#000000\" fill-rule=\"evenodd\" fill-opacity=\"1\" /><path clip-path=\"url(#clip530)\" d=\"M 0 0 M585.951 6.912 L615.187 6.912 L615.187 10.8472 L602.918 10.8472 L602.918 41.472 L598.219 41.472 L598.219 10.8472 L585.951 10.8472 L585.951 6.912 Z\" fill=\"#000000\" fill-rule=\"evenodd\" fill-opacity=\"1\" /><path clip-path=\"url(#clip530)\" d=\"M 0 0 M649.747 19.5277 Q649.029 19.111 648.172 18.9258 Q647.339 18.7175 646.321 18.7175 Q642.71 18.7175 640.765 21.0786 Q638.844 23.4165 638.844 27.8147 L638.844 41.472 L634.561 41.472 L634.561 15.5462 L638.844 15.5462 L638.844 19.574 Q640.186 17.2129 642.339 16.0786 Q644.492 14.9212 647.571 14.9212 Q648.01 14.9212 648.543 14.9907 Q649.075 15.037 649.723 15.1527 L649.747 19.5277 Z\" fill=\"#000000\" fill-rule=\"evenodd\" fill-opacity=\"1\" /><path clip-path=\"url(#clip530)\" d=\"M 0 0 M674.932 25.8239 L674.932 41.472 L670.672 41.472 L670.672 25.9628 Q670.672 22.2823 669.237 20.4536 Q667.802 18.6249 664.932 18.6249 Q661.483 18.6249 659.492 20.824 Q657.501 23.023 657.501 26.8193 L657.501 41.472 L653.219 41.472 L653.219 5.45367 L657.501 5.45367 L657.501 19.574 Q659.029 17.236 661.089 16.0786 Q663.172 14.9212 665.881 14.9212 Q670.348 14.9212 672.64 17.699 Q674.932 20.4536 674.932 25.8239 Z\" fill=\"#000000\" fill-rule=\"evenodd\" fill-opacity=\"1\" /><path clip-path=\"url(#clip530)\" d=\"M 0 0 M689.445 18.5323 Q686.019 18.5323 684.029 21.2175 Q682.038 23.8795 682.038 28.5323 Q682.038 33.185 684.006 35.8702 Q685.996 38.5322 689.445 38.5322 Q692.848 38.5322 694.839 35.847 Q696.83 33.1619 696.83 28.5323 Q696.83 23.9258 694.839 21.2406 Q692.848 18.5323 689.445 18.5323 M689.445 14.9212 Q695.001 14.9212 698.172 18.5323 Q701.343 22.1434 701.343 28.5323 Q701.343 34.898 698.172 38.5322 Q695.001 42.1433 689.445 42.1433 Q683.867 42.1433 680.695 38.5322 Q677.547 34.898 677.547 28.5323 Q677.547 22.1434 680.695 18.5323 Q683.867 14.9212 689.445 14.9212 Z\" fill=\"#000000\" fill-rule=\"evenodd\" fill-opacity=\"1\" /><path clip-path=\"url(#clip530)\" d=\"M 0 0 M721.436 19.9443 L751.112 19.9443 L751.112 23.8332 L721.436 23.8332 L721.436 19.9443 M721.436 29.3887 L751.112 29.3887 L751.112 33.3239 L721.436 33.3239 L721.436 29.3887 Z\" fill=\"#000000\" fill-rule=\"evenodd\" fill-opacity=\"1\" /><path clip-path=\"url(#clip530)\" d=\"M 0 0 M781.25 9.99069 Q777.639 9.99069 775.811 13.5555 Q774.005 17.0971 774.005 24.2267 Q774.005 31.3332 775.811 34.898 Q777.639 38.4396 781.25 38.4396 Q784.885 38.4396 786.69 34.898 Q788.519 31.3332 788.519 24.2267 Q788.519 17.0971 786.69 13.5555 Q784.885 9.99069 781.25 9.99069 M781.25 6.287 Q787.061 6.287 790.116 10.8935 Q793.195 15.4768 793.195 24.2267 Q793.195 32.9535 790.116 37.56 Q787.061 42.1433 781.25 42.1433 Q775.44 42.1433 772.362 37.56 Q769.306 32.9535 769.306 24.2267 Q769.306 15.4768 772.362 10.8935 Q775.44 6.287 781.25 6.287 Z\" fill=\"#000000\" fill-rule=\"evenodd\" fill-opacity=\"1\" /><path clip-path=\"url(#clip530)\" d=\"M 0 0 M798.264 35.5924 L803.148 35.5924 L803.148 41.472 L798.264 41.472 L798.264 35.5924 Z\" fill=\"#000000\" fill-rule=\"evenodd\" fill-opacity=\"1\" /><path clip-path=\"url(#clip530)\" d=\"M 0 0 M808.264 6.912 L826.621 6.912 L826.621 10.8472 L812.547 10.8472 L812.547 19.3193 Q813.565 18.9721 814.584 18.8101 Q815.602 18.6249 816.621 18.6249 Q822.408 18.6249 825.787 21.7962 Q829.167 24.9675 829.167 30.3841 Q829.167 35.9628 825.695 39.0646 Q822.222 42.1433 815.903 42.1433 Q813.727 42.1433 811.459 41.7729 Q809.213 41.4026 806.806 40.6618 L806.806 35.9628 Q808.889 37.097 811.111 37.6526 Q813.334 38.2081 815.81 38.2081 Q819.815 38.2081 822.153 36.1017 Q824.491 33.9952 824.491 30.3841 Q824.491 26.773 822.153 24.6665 Q819.815 22.5601 815.81 22.5601 Q813.935 22.5601 812.06 22.9767 Q810.209 23.3934 808.264 24.273 L808.264 6.912 Z\" fill=\"#000000\" fill-rule=\"evenodd\" fill-opacity=\"1\" /><circle clip-path=\"url(#clip532)\" cx=\"1011.61\" cy=\"734.708\" r=\"14\" fill=\"#009af9\" fill-rule=\"evenodd\" fill-opacity=\"1\" stroke=\"#000000\" stroke-opacity=\"1\" stroke-width=\"3.2\"/>\n",
       "<circle clip-path=\"url(#clip532)\" cx=\"1061.95\" cy=\"462.331\" r=\"14\" fill=\"#009af9\" fill-rule=\"evenodd\" fill-opacity=\"1\" stroke=\"#000000\" stroke-opacity=\"1\" stroke-width=\"3.2\"/>\n",
       "<circle clip-path=\"url(#clip532)\" cx=\"1043.46\" cy=\"1082.73\" r=\"14\" fill=\"#009af9\" fill-rule=\"evenodd\" fill-opacity=\"1\" stroke=\"#000000\" stroke-opacity=\"1\" stroke-width=\"3.2\"/>\n",
       "<circle clip-path=\"url(#clip532)\" cx=\"1023.44\" cy=\"120.96\" r=\"14\" fill=\"#009af9\" fill-rule=\"evenodd\" fill-opacity=\"1\" stroke=\"#000000\" stroke-opacity=\"1\" stroke-width=\"3.2\"/>\n",
       "<circle clip-path=\"url(#clip532)\" cx=\"1070.24\" cy=\"1061.75\" r=\"14\" fill=\"#009af9\" fill-rule=\"evenodd\" fill-opacity=\"1\" stroke=\"#000000\" stroke-opacity=\"1\" stroke-width=\"3.2\"/>\n",
       "<circle clip-path=\"url(#clip532)\" cx=\"1056.28\" cy=\"655.238\" r=\"14\" fill=\"#009af9\" fill-rule=\"evenodd\" fill-opacity=\"1\" stroke=\"#000000\" stroke-opacity=\"1\" stroke-width=\"3.2\"/>\n",
       "<circle clip-path=\"url(#clip532)\" cx=\"1085.78\" cy=\"816.902\" r=\"14\" fill=\"#009af9\" fill-rule=\"evenodd\" fill-opacity=\"1\" stroke=\"#000000\" stroke-opacity=\"1\" stroke-width=\"3.2\"/>\n",
       "<circle clip-path=\"url(#clip532)\" cx=\"1081.95\" cy=\"1194.26\" r=\"14\" fill=\"#009af9\" fill-rule=\"evenodd\" fill-opacity=\"1\" stroke=\"#000000\" stroke-opacity=\"1\" stroke-width=\"3.2\"/>\n",
       "<circle clip-path=\"url(#clip532)\" cx=\"1122.59\" cy=\"1209.29\" r=\"14\" fill=\"#009af9\" fill-rule=\"evenodd\" fill-opacity=\"1\" stroke=\"#000000\" stroke-opacity=\"1\" stroke-width=\"3.2\"/>\n",
       "<circle clip-path=\"url(#clip532)\" cx=\"1052.25\" cy=\"749.735\" r=\"14\" fill=\"#009af9\" fill-rule=\"evenodd\" fill-opacity=\"1\" stroke=\"#000000\" stroke-opacity=\"1\" stroke-width=\"3.2\"/>\n",
       "<circle clip-path=\"url(#clip532)\" cx=\"1057.86\" cy=\"279.589\" r=\"14\" fill=\"#009af9\" fill-rule=\"evenodd\" fill-opacity=\"1\" stroke=\"#000000\" stroke-opacity=\"1\" stroke-width=\"3.2\"/>\n",
       "<circle clip-path=\"url(#clip532)\" cx=\"1119.94\" cy=\"1303.88\" r=\"14\" fill=\"#009af9\" fill-rule=\"evenodd\" fill-opacity=\"1\" stroke=\"#000000\" stroke-opacity=\"1\" stroke-width=\"3.2\"/>\n",
       "<circle clip-path=\"url(#clip532)\" cx=\"1048.25\" cy=\"661.788\" r=\"14\" fill=\"#009af9\" fill-rule=\"evenodd\" fill-opacity=\"1\" stroke=\"#000000\" stroke-opacity=\"1\" stroke-width=\"3.2\"/>\n",
       "<circle clip-path=\"url(#clip532)\" cx=\"1049.07\" cy=\"612.583\" r=\"14\" fill=\"#009af9\" fill-rule=\"evenodd\" fill-opacity=\"1\" stroke=\"#000000\" stroke-opacity=\"1\" stroke-width=\"3.2\"/>\n",
       "<circle clip-path=\"url(#clip532)\" cx=\"1037.19\" cy=\"903.22\" r=\"14\" fill=\"#009af9\" fill-rule=\"evenodd\" fill-opacity=\"1\" stroke=\"#000000\" stroke-opacity=\"1\" stroke-width=\"3.2\"/>\n",
       "<circle clip-path=\"url(#clip532)\" cx=\"523.539\" cy=\"895.124\" r=\"14\" fill=\"#e26f46\" fill-rule=\"evenodd\" fill-opacity=\"1\" stroke=\"#000000\" stroke-opacity=\"1\" stroke-width=\"3.2\"/>\n",
       "<circle clip-path=\"url(#clip532)\" cx=\"535.209\" cy=\"980.234\" r=\"14\" fill=\"#e26f46\" fill-rule=\"evenodd\" fill-opacity=\"1\" stroke=\"#000000\" stroke-opacity=\"1\" stroke-width=\"3.2\"/>\n",
       "<circle clip-path=\"url(#clip532)\" cx=\"470.401\" cy=\"844.192\" r=\"14\" fill=\"#e26f46\" fill-rule=\"evenodd\" fill-opacity=\"1\" stroke=\"#000000\" stroke-opacity=\"1\" stroke-width=\"3.2\"/>\n",
       "<circle clip-path=\"url(#clip532)\" cx=\"631.779\" cy=\"1369.5\" r=\"14\" fill=\"#e26f46\" fill-rule=\"evenodd\" fill-opacity=\"1\" stroke=\"#000000\" stroke-opacity=\"1\" stroke-width=\"3.2\"/>\n",
       "<circle clip-path=\"url(#clip532)\" cx=\"785.357\" cy=\"1479.74\" r=\"14\" fill=\"#e26f46\" fill-rule=\"evenodd\" fill-opacity=\"1\" stroke=\"#000000\" stroke-opacity=\"1\" stroke-width=\"3.2\"/>\n",
       "<circle clip-path=\"url(#clip532)\" cx=\"616.974\" cy=\"1194.64\" r=\"14\" fill=\"#e26f46\" fill-rule=\"evenodd\" fill-opacity=\"1\" stroke=\"#000000\" stroke-opacity=\"1\" stroke-width=\"3.2\"/>\n",
       "<circle clip-path=\"url(#clip532)\" cx=\"493.583\" cy=\"778.95\" r=\"14\" fill=\"#e26f46\" fill-rule=\"evenodd\" fill-opacity=\"1\" stroke=\"#000000\" stroke-opacity=\"1\" stroke-width=\"3.2\"/>\n",
       "<circle clip-path=\"url(#clip532)\" cx=\"612.211\" cy=\"1433.13\" r=\"14\" fill=\"#e26f46\" fill-rule=\"evenodd\" fill-opacity=\"1\" stroke=\"#000000\" stroke-opacity=\"1\" stroke-width=\"3.2\"/>\n",
       "<circle clip-path=\"url(#clip532)\" cx=\"543.99\" cy=\"1305.85\" r=\"14\" fill=\"#e26f46\" fill-rule=\"evenodd\" fill-opacity=\"1\" stroke=\"#000000\" stroke-opacity=\"1\" stroke-width=\"3.2\"/>\n",
       "<circle clip-path=\"url(#clip532)\" cx=\"564.039\" cy=\"1426.57\" r=\"14\" fill=\"#e26f46\" fill-rule=\"evenodd\" fill-opacity=\"1\" stroke=\"#000000\" stroke-opacity=\"1\" stroke-width=\"3.2\"/>\n",
       "<circle clip-path=\"url(#clip532)\" cx=\"596.425\" cy=\"1347.73\" r=\"14\" fill=\"#e26f46\" fill-rule=\"evenodd\" fill-opacity=\"1\" stroke=\"#000000\" stroke-opacity=\"1\" stroke-width=\"3.2\"/>\n",
       "<circle clip-path=\"url(#clip532)\" cx=\"495.113\" cy=\"1014.51\" r=\"14\" fill=\"#e26f46\" fill-rule=\"evenodd\" fill-opacity=\"1\" stroke=\"#000000\" stroke-opacity=\"1\" stroke-width=\"3.2\"/>\n",
       "<circle clip-path=\"url(#clip532)\" cx=\"666.976\" cy=\"1155.82\" r=\"14\" fill=\"#e26f46\" fill-rule=\"evenodd\" fill-opacity=\"1\" stroke=\"#000000\" stroke-opacity=\"1\" stroke-width=\"3.2\"/>\n",
       "<circle clip-path=\"url(#clip532)\" cx=\"585.324\" cy=\"1129.48\" r=\"14\" fill=\"#e26f46\" fill-rule=\"evenodd\" fill-opacity=\"1\" stroke=\"#000000\" stroke-opacity=\"1\" stroke-width=\"3.2\"/>\n",
       "<circle clip-path=\"url(#clip532)\" cx=\"414.83\" cy=\"1124.84\" r=\"14\" fill=\"#3da44d\" fill-rule=\"evenodd\" fill-opacity=\"1\" stroke=\"#000000\" stroke-opacity=\"1\" stroke-width=\"3.2\"/>\n",
       "<circle clip-path=\"url(#clip532)\" cx=\"264.433\" cy=\"1151.75\" r=\"14\" fill=\"#3da44d\" fill-rule=\"evenodd\" fill-opacity=\"1\" stroke=\"#000000\" stroke-opacity=\"1\" stroke-width=\"3.2\"/>\n",
       "<circle clip-path=\"url(#clip532)\" cx=\"290.403\" cy=\"1134.11\" r=\"14\" fill=\"#3da44d\" fill-rule=\"evenodd\" fill-opacity=\"1\" stroke=\"#000000\" stroke-opacity=\"1\" stroke-width=\"3.2\"/>\n",
       "<circle clip-path=\"url(#clip532)\" cx=\"430.483\" cy=\"1068.06\" r=\"14\" fill=\"#3da44d\" fill-rule=\"evenodd\" fill-opacity=\"1\" stroke=\"#000000\" stroke-opacity=\"1\" stroke-width=\"3.2\"/>\n",
       "<circle clip-path=\"url(#clip532)\" cx=\"347.915\" cy=\"1132.7\" r=\"14\" fill=\"#3da44d\" fill-rule=\"evenodd\" fill-opacity=\"1\" stroke=\"#000000\" stroke-opacity=\"1\" stroke-width=\"3.2\"/>\n",
       "<circle clip-path=\"url(#clip532)\" cx=\"416.271\" cy=\"1265.61\" r=\"14\" fill=\"#3da44d\" fill-rule=\"evenodd\" fill-opacity=\"1\" stroke=\"#000000\" stroke-opacity=\"1\" stroke-width=\"3.2\"/>\n",
       "<circle clip-path=\"url(#clip532)\" cx=\"117.155\" cy=\"104.257\" r=\"14\" fill=\"#3da44d\" fill-rule=\"evenodd\" fill-opacity=\"1\" stroke=\"#000000\" stroke-opacity=\"1\" stroke-width=\"3.2\"/>\n",
       "<circle clip-path=\"url(#clip532)\" cx=\"298.646\" cy=\"751.81\" r=\"14\" fill=\"#3da44d\" fill-rule=\"evenodd\" fill-opacity=\"1\" stroke=\"#000000\" stroke-opacity=\"1\" stroke-width=\"3.2\"/>\n",
       "<circle clip-path=\"url(#clip532)\" cx=\"180.313\" cy=\"750.993\" r=\"14\" fill=\"#3da44d\" fill-rule=\"evenodd\" fill-opacity=\"1\" stroke=\"#000000\" stroke-opacity=\"1\" stroke-width=\"3.2\"/>\n",
       "<circle clip-path=\"url(#clip532)\" cx=\"265.299\" cy=\"874.233\" r=\"14\" fill=\"#3da44d\" fill-rule=\"evenodd\" fill-opacity=\"1\" stroke=\"#000000\" stroke-opacity=\"1\" stroke-width=\"3.2\"/>\n",
       "<circle clip-path=\"url(#clip532)\" cx=\"370.572\" cy=\"835.712\" r=\"14\" fill=\"#3da44d\" fill-rule=\"evenodd\" fill-opacity=\"1\" stroke=\"#000000\" stroke-opacity=\"1\" stroke-width=\"3.2\"/>\n",
       "<circle clip-path=\"url(#clip532)\" cx=\"354.094\" cy=\"941.701\" r=\"14\" fill=\"#3da44d\" fill-rule=\"evenodd\" fill-opacity=\"1\" stroke=\"#000000\" stroke-opacity=\"1\" stroke-width=\"3.2\"/>\n",
       "<circle clip-path=\"url(#clip532)\" cx=\"271.504\" cy=\"776.503\" r=\"14\" fill=\"#3da44d\" fill-rule=\"evenodd\" fill-opacity=\"1\" stroke=\"#000000\" stroke-opacity=\"1\" stroke-width=\"3.2\"/>\n",
       "<circle clip-path=\"url(#clip532)\" cx=\"382.944\" cy=\"1342.16\" r=\"14\" fill=\"#3da44d\" fill-rule=\"evenodd\" fill-opacity=\"1\" stroke=\"#000000\" stroke-opacity=\"1\" stroke-width=\"3.2\"/>\n",
       "<circle clip-path=\"url(#clip532)\" cx=\"289.331\" cy=\"853.056\" r=\"14\" fill=\"#3da44d\" fill-rule=\"evenodd\" fill-opacity=\"1\" stroke=\"#000000\" stroke-opacity=\"1\" stroke-width=\"3.2\"/>\n",
       "<circle clip-path=\"url(#clip532)\" cx=\"142.3\" cy=\"548.1\" r=\"14\" fill=\"#3da44d\" fill-rule=\"evenodd\" fill-opacity=\"1\" stroke=\"#000000\" stroke-opacity=\"1\" stroke-width=\"3.2\"/>\n",
       "<path clip-path=\"url(#clip530)\" d=\"\n",
       "M1286.99 1521.01 L2352.76 1521.01 L2352.76 62.9921 L1286.99 62.9921  Z\n",
       "  \" fill=\"#ffffff\" fill-rule=\"evenodd\" fill-opacity=\"1\"/>\n",
       "<defs>\n",
       "  <clipPath id=\"clip533\">\n",
       "    <rect x=\"1286\" y=\"62\" width=\"1067\" height=\"1459\"/>\n",
       "  </clipPath>\n",
       "</defs>\n",
       "<polyline clip-path=\"url(#clip533)\" style=\"stroke:#000000; stroke-width:2; stroke-opacity:0.1; fill:none\" points=\"\n",
       "  1354.65,1521.01 1354.65,62.9921 \n",
       "  \"/>\n",
       "<polyline clip-path=\"url(#clip533)\" style=\"stroke:#000000; stroke-width:2; stroke-opacity:0.1; fill:none\" points=\"\n",
       "  1516.02,1521.01 1516.02,62.9921 \n",
       "  \"/>\n",
       "<polyline clip-path=\"url(#clip533)\" style=\"stroke:#000000; stroke-width:2; stroke-opacity:0.1; fill:none\" points=\"\n",
       "  1677.39,1521.01 1677.39,62.9921 \n",
       "  \"/>\n",
       "<polyline clip-path=\"url(#clip533)\" style=\"stroke:#000000; stroke-width:2; stroke-opacity:0.1; fill:none\" points=\"\n",
       "  1838.76,1521.01 1838.76,62.9921 \n",
       "  \"/>\n",
       "<polyline clip-path=\"url(#clip533)\" style=\"stroke:#000000; stroke-width:2; stroke-opacity:0.1; fill:none\" points=\"\n",
       "  2000.13,1521.01 2000.13,62.9921 \n",
       "  \"/>\n",
       "<polyline clip-path=\"url(#clip533)\" style=\"stroke:#000000; stroke-width:2; stroke-opacity:0.1; fill:none\" points=\"\n",
       "  2161.5,1521.01 2161.5,62.9921 \n",
       "  \"/>\n",
       "<polyline clip-path=\"url(#clip533)\" style=\"stroke:#000000; stroke-width:2; stroke-opacity:0.1; fill:none\" points=\"\n",
       "  2322.87,1521.01 2322.87,62.9921 \n",
       "  \"/>\n",
       "<polyline clip-path=\"url(#clip530)\" style=\"stroke:#000000; stroke-width:4; stroke-opacity:1; fill:none\" points=\"\n",
       "  1286.99,1521.01 2352.76,1521.01 \n",
       "  \"/>\n",
       "<polyline clip-path=\"url(#clip530)\" style=\"stroke:#000000; stroke-width:4; stroke-opacity:1; fill:none\" points=\"\n",
       "  1354.65,1521.01 1354.65,1503.51 \n",
       "  \"/>\n",
       "<polyline clip-path=\"url(#clip530)\" style=\"stroke:#000000; stroke-width:4; stroke-opacity:1; fill:none\" points=\"\n",
       "  1516.02,1521.01 1516.02,1503.51 \n",
       "  \"/>\n",
       "<polyline clip-path=\"url(#clip530)\" style=\"stroke:#000000; stroke-width:4; stroke-opacity:1; fill:none\" points=\"\n",
       "  1677.39,1521.01 1677.39,1503.51 \n",
       "  \"/>\n",
       "<polyline clip-path=\"url(#clip530)\" style=\"stroke:#000000; stroke-width:4; stroke-opacity:1; fill:none\" points=\"\n",
       "  1838.76,1521.01 1838.76,1503.51 \n",
       "  \"/>\n",
       "<polyline clip-path=\"url(#clip530)\" style=\"stroke:#000000; stroke-width:4; stroke-opacity:1; fill:none\" points=\"\n",
       "  2000.13,1521.01 2000.13,1503.51 \n",
       "  \"/>\n",
       "<polyline clip-path=\"url(#clip530)\" style=\"stroke:#000000; stroke-width:4; stroke-opacity:1; fill:none\" points=\"\n",
       "  2161.5,1521.01 2161.5,1503.51 \n",
       "  \"/>\n",
       "<polyline clip-path=\"url(#clip530)\" style=\"stroke:#000000; stroke-width:4; stroke-opacity:1; fill:none\" points=\"\n",
       "  2322.87,1521.01 2322.87,1503.51 \n",
       "  \"/>\n",
       "<path clip-path=\"url(#clip530)\" d=\"M 0 0 M1333.63 1558.69 L1355.89 1558.69 L1355.89 1561.64 L1333.63 1561.64 L1333.63 1558.69 Z\" fill=\"#000000\" fill-rule=\"evenodd\" fill-opacity=\"1\" /><path clip-path=\"url(#clip530)\" d=\"M 0 0 M1370.32 1557.34 Q1372.83 1557.87 1374.24 1559.58 Q1375.66 1561.28 1375.66 1563.78 Q1375.66 1567.61 1373.03 1569.71 Q1370.39 1571.82 1365.53 1571.82 Q1363.89 1571.82 1362.16 1571.49 Q1360.44 1571.17 1358.6 1570.53 L1358.6 1567.15 Q1360.06 1568 1361.79 1568.43 Q1363.53 1568.86 1365.42 1568.86 Q1368.72 1568.86 1370.44 1567.56 Q1372.17 1566.26 1372.17 1563.78 Q1372.17 1561.49 1370.56 1560.2 Q1368.96 1558.9 1366.1 1558.9 L1363.08 1558.9 L1363.08 1556.02 L1366.24 1556.02 Q1368.82 1556.02 1370.2 1554.99 Q1371.57 1553.95 1371.57 1552.01 Q1371.57 1550.01 1370.14 1548.95 Q1368.74 1547.87 1366.1 1547.87 Q1364.66 1547.87 1363.01 1548.19 Q1361.36 1548.5 1359.38 1549.16 L1359.38 1546.03 Q1361.38 1545.48 1363.11 1545.2 Q1364.87 1544.92 1366.41 1544.92 Q1370.4 1544.92 1372.73 1546.75 Q1375.06 1548.55 1375.06 1551.64 Q1375.06 1553.79 1373.82 1555.29 Q1372.59 1556.76 1370.32 1557.34 Z\" fill=\"#000000\" fill-rule=\"evenodd\" fill-opacity=\"1\" /><path clip-path=\"url(#clip530)\" d=\"M 0 0 M1495.36 1558.69 L1517.62 1558.69 L1517.62 1561.64 L1495.36 1561.64 L1495.36 1558.69 Z\" fill=\"#000000\" fill-rule=\"evenodd\" fill-opacity=\"1\" /><path clip-path=\"url(#clip530)\" d=\"M 0 0 M1524.44 1568.36 L1536.68 1568.36 L1536.68 1571.31 L1520.22 1571.31 L1520.22 1568.36 Q1522.22 1566.29 1525.65 1562.82 Q1529.11 1559.33 1529.99 1558.33 Q1531.68 1556.43 1532.34 1555.13 Q1533.01 1553.81 1533.01 1552.54 Q1533.01 1550.48 1531.56 1549.18 Q1530.12 1547.87 1527.79 1547.87 Q1526.14 1547.87 1524.3 1548.45 Q1522.48 1549.02 1520.39 1550.18 L1520.39 1546.64 Q1522.51 1545.79 1524.35 1545.36 Q1526.19 1544.92 1527.72 1544.92 Q1531.75 1544.92 1534.14 1546.94 Q1536.54 1548.95 1536.54 1552.32 Q1536.54 1553.92 1535.93 1555.36 Q1535.34 1556.78 1533.76 1558.73 Q1533.33 1559.23 1531 1561.64 Q1528.67 1564.04 1524.44 1568.36 Z\" fill=\"#000000\" fill-rule=\"evenodd\" fill-opacity=\"1\" /><path clip-path=\"url(#clip530)\" d=\"M 0 0 M1656.59 1558.69 L1678.85 1558.69 L1678.85 1561.64 L1656.59 1561.64 L1656.59 1558.69 Z\" fill=\"#000000\" fill-rule=\"evenodd\" fill-opacity=\"1\" /><path clip-path=\"url(#clip530)\" d=\"M 0 0 M1683.26 1568.36 L1688.99 1568.36 L1688.99 1548.59 L1682.75 1549.84 L1682.75 1546.64 L1688.95 1545.39 L1692.46 1545.39 L1692.46 1568.36 L1698.19 1568.36 L1698.19 1571.31 L1683.26 1571.31 L1683.26 1568.36 Z\" fill=\"#000000\" fill-rule=\"evenodd\" fill-opacity=\"1\" /><path clip-path=\"url(#clip530)\" d=\"M 0 0 M1838.76 1547.7 Q1836.05 1547.7 1834.68 1550.37 Q1833.32 1553.03 1833.32 1558.38 Q1833.32 1563.71 1834.68 1566.38 Q1836.05 1569.04 1838.76 1569.04 Q1841.48 1569.04 1842.84 1566.38 Q1844.21 1563.71 1844.21 1558.38 Q1844.21 1553.03 1842.84 1550.37 Q1841.48 1547.7 1838.76 1547.7 M1838.76 1544.92 Q1843.12 1544.92 1845.41 1548.38 Q1847.72 1551.82 1847.72 1558.38 Q1847.72 1564.92 1845.41 1568.38 Q1843.12 1571.82 1838.76 1571.82 Q1834.4 1571.82 1832.09 1568.38 Q1829.8 1564.92 1829.8 1558.38 Q1829.8 1551.82 1832.09 1548.38 Q1834.4 1544.92 1838.76 1544.92 Z\" fill=\"#000000\" fill-rule=\"evenodd\" fill-opacity=\"1\" /><path clip-path=\"url(#clip530)\" d=\"M 0 0 M1992.91 1568.36 L1998.64 1568.36 L1998.64 1548.59 L1992.41 1549.84 L1992.41 1546.64 L1998.61 1545.39 L2002.12 1545.39 L2002.12 1568.36 L2007.84 1568.36 L2007.84 1571.31 L1992.91 1571.31 L1992.91 1568.36 Z\" fill=\"#000000\" fill-rule=\"evenodd\" fill-opacity=\"1\" /><path clip-path=\"url(#clip530)\" d=\"M 0 0 M2157.49 1568.36 L2169.73 1568.36 L2169.73 1571.31 L2153.27 1571.31 L2153.27 1568.36 Q2155.27 1566.29 2158.7 1562.82 Q2162.16 1559.33 2163.04 1558.33 Q2164.73 1556.43 2165.39 1555.13 Q2166.06 1553.81 2166.06 1552.54 Q2166.06 1550.48 2164.61 1549.18 Q2163.16 1547.87 2160.84 1547.87 Q2159.19 1547.87 2157.35 1548.45 Q2155.53 1549.02 2153.44 1550.18 L2153.44 1546.64 Q2155.56 1545.79 2157.4 1545.36 Q2159.24 1544.92 2160.77 1544.92 Q2164.8 1544.92 2167.19 1546.94 Q2169.59 1548.95 2169.59 1552.32 Q2169.59 1553.92 2168.98 1555.36 Q2168.39 1556.78 2166.81 1558.73 Q2166.38 1559.23 2164.05 1561.64 Q2161.72 1564.04 2157.49 1568.36 Z\" fill=\"#000000\" fill-rule=\"evenodd\" fill-opacity=\"1\" /><path clip-path=\"url(#clip530)\" d=\"M 0 0 M2326.05 1557.34 Q2328.57 1557.87 2329.98 1559.58 Q2331.4 1561.28 2331.4 1563.78 Q2331.4 1567.61 2328.76 1569.71 Q2326.12 1571.82 2321.26 1571.82 Q2319.63 1571.82 2317.89 1571.49 Q2316.18 1571.17 2314.33 1570.53 L2314.33 1567.15 Q2315.79 1568 2317.53 1568.43 Q2319.27 1568.86 2321.16 1568.86 Q2324.46 1568.86 2326.17 1567.56 Q2327.91 1566.26 2327.91 1563.78 Q2327.91 1561.49 2326.3 1560.2 Q2324.7 1558.9 2321.83 1558.9 L2318.81 1558.9 L2318.81 1556.02 L2321.97 1556.02 Q2324.56 1556.02 2325.93 1554.99 Q2327.3 1553.95 2327.3 1552.01 Q2327.3 1550.01 2325.88 1548.95 Q2324.47 1547.87 2321.83 1547.87 Q2320.39 1547.87 2318.74 1548.19 Q2317.1 1548.5 2315.12 1549.16 L2315.12 1546.03 Q2317.11 1545.48 2318.85 1545.2 Q2320.6 1544.92 2322.15 1544.92 Q2326.14 1544.92 2328.47 1546.75 Q2330.79 1548.55 2330.79 1551.64 Q2330.79 1553.79 2329.56 1555.29 Q2328.33 1556.76 2326.05 1557.34 Z\" fill=\"#000000\" fill-rule=\"evenodd\" fill-opacity=\"1\" /><polyline clip-path=\"url(#clip533)\" style=\"stroke:#000000; stroke-width:2; stroke-opacity:0.1; fill:none\" points=\"\n",
       "  1286.99,1316.68 2352.76,1316.68 \n",
       "  \"/>\n",
       "<polyline clip-path=\"url(#clip533)\" style=\"stroke:#000000; stroke-width:2; stroke-opacity:0.1; fill:none\" points=\"\n",
       "  1286.99,992.596 2352.76,992.596 \n",
       "  \"/>\n",
       "<polyline clip-path=\"url(#clip533)\" style=\"stroke:#000000; stroke-width:2; stroke-opacity:0.1; fill:none\" points=\"\n",
       "  1286.99,668.508 2352.76,668.508 \n",
       "  \"/>\n",
       "<polyline clip-path=\"url(#clip533)\" style=\"stroke:#000000; stroke-width:2; stroke-opacity:0.1; fill:none\" points=\"\n",
       "  1286.99,344.421 2352.76,344.421 \n",
       "  \"/>\n",
       "<polyline clip-path=\"url(#clip530)\" style=\"stroke:#000000; stroke-width:4; stroke-opacity:1; fill:none\" points=\"\n",
       "  1286.99,1521.01 1286.99,62.9921 \n",
       "  \"/>\n",
       "<polyline clip-path=\"url(#clip530)\" style=\"stroke:#000000; stroke-width:4; stroke-opacity:1; fill:none\" points=\"\n",
       "  1286.99,1316.68 1299.78,1316.68 \n",
       "  \"/>\n",
       "<polyline clip-path=\"url(#clip530)\" style=\"stroke:#000000; stroke-width:4; stroke-opacity:1; fill:none\" points=\"\n",
       "  1286.99,992.596 1299.78,992.596 \n",
       "  \"/>\n",
       "<polyline clip-path=\"url(#clip530)\" style=\"stroke:#000000; stroke-width:4; stroke-opacity:1; fill:none\" points=\"\n",
       "  1286.99,668.508 1299.78,668.508 \n",
       "  \"/>\n",
       "<polyline clip-path=\"url(#clip530)\" style=\"stroke:#000000; stroke-width:4; stroke-opacity:1; fill:none\" points=\"\n",
       "  1286.99,344.421 1299.78,344.421 \n",
       "  \"/>\n",
       "<path clip-path=\"url(#clip530)\" d=\"M 0 0 M1158.33 1317.13 L1188.01 1317.13 L1188.01 1321.07 L1158.33 1321.07 L1158.33 1317.13 Z\" fill=\"#000000\" fill-rule=\"evenodd\" fill-opacity=\"1\" /><path clip-path=\"url(#clip530)\" d=\"M 0 0 M1203.08 1302.48 Q1199.46 1302.48 1197.64 1306.05 Q1195.83 1309.59 1195.83 1316.72 Q1195.83 1323.82 1197.64 1327.39 Q1199.46 1330.93 1203.08 1330.93 Q1206.71 1330.93 1208.52 1327.39 Q1210.34 1323.82 1210.34 1316.72 Q1210.34 1309.59 1208.52 1306.05 Q1206.71 1302.48 1203.08 1302.48 M1203.08 1298.78 Q1208.89 1298.78 1211.94 1303.38 Q1215.02 1307.97 1215.02 1316.72 Q1215.02 1325.44 1211.94 1330.05 Q1208.89 1334.63 1203.08 1334.63 Q1197.27 1334.63 1194.19 1330.05 Q1191.13 1325.44 1191.13 1316.72 Q1191.13 1307.97 1194.19 1303.38 Q1197.27 1298.78 1203.08 1298.78 Z\" fill=\"#000000\" fill-rule=\"evenodd\" fill-opacity=\"1\" /><path clip-path=\"url(#clip530)\" d=\"M 0 0 M1220.09 1328.08 L1224.97 1328.08 L1224.97 1333.96 L1220.09 1333.96 L1220.09 1328.08 Z\" fill=\"#000000\" fill-rule=\"evenodd\" fill-opacity=\"1\" /><path clip-path=\"url(#clip530)\" d=\"M 0 0 M1230.09 1299.4 L1248.45 1299.4 L1248.45 1303.34 L1234.37 1303.34 L1234.37 1311.81 Q1235.39 1311.46 1236.41 1311.3 Q1237.43 1311.12 1238.45 1311.12 Q1244.23 1311.12 1247.61 1314.29 Q1250.99 1317.46 1250.99 1322.87 Q1250.99 1328.45 1247.52 1331.56 Q1244.05 1334.63 1237.73 1334.63 Q1235.55 1334.63 1233.28 1334.26 Q1231.04 1333.89 1228.63 1333.15 L1228.63 1328.45 Q1230.71 1329.59 1232.94 1330.14 Q1235.16 1330.7 1237.64 1330.7 Q1241.64 1330.7 1243.98 1328.59 Q1246.32 1326.49 1246.32 1322.87 Q1246.32 1319.26 1243.98 1317.16 Q1241.64 1315.05 1237.64 1315.05 Q1235.76 1315.05 1233.89 1315.47 Q1232.03 1315.88 1230.09 1316.76 L1230.09 1299.4 Z\" fill=\"#000000\" fill-rule=\"evenodd\" fill-opacity=\"1\" /><path clip-path=\"url(#clip530)\" d=\"M 0 0 M1202.08 978.394 Q1198.47 978.394 1196.64 981.959 Q1194.84 985.501 1194.84 992.63 Q1194.84 999.737 1196.64 1003.3 Q1198.47 1006.84 1202.08 1006.84 Q1205.71 1006.84 1207.52 1003.3 Q1209.35 999.737 1209.35 992.63 Q1209.35 985.501 1207.52 981.959 Q1205.71 978.394 1202.08 978.394 M1202.08 974.691 Q1207.89 974.691 1210.95 979.297 Q1214.02 983.88 1214.02 992.63 Q1214.02 1001.36 1210.95 1005.96 Q1207.89 1010.55 1202.08 1010.55 Q1196.27 1010.55 1193.19 1005.96 Q1190.14 1001.36 1190.14 992.63 Q1190.14 983.88 1193.19 979.297 Q1196.27 974.691 1202.08 974.691 Z\" fill=\"#000000\" fill-rule=\"evenodd\" fill-opacity=\"1\" /><path clip-path=\"url(#clip530)\" d=\"M 0 0 M1219.09 1004 L1223.98 1004 L1223.98 1009.88 L1219.09 1009.88 L1219.09 1004 Z\" fill=\"#000000\" fill-rule=\"evenodd\" fill-opacity=\"1\" /><path clip-path=\"url(#clip530)\" d=\"M 0 0 M1239.05 978.394 Q1235.44 978.394 1233.61 981.959 Q1231.8 985.501 1231.8 992.63 Q1231.8 999.737 1233.61 1003.3 Q1235.44 1006.84 1239.05 1006.84 Q1242.68 1006.84 1244.49 1003.3 Q1246.32 999.737 1246.32 992.63 Q1246.32 985.501 1244.49 981.959 Q1242.68 978.394 1239.05 978.394 M1239.05 974.691 Q1244.86 974.691 1247.91 979.297 Q1250.99 983.88 1250.99 992.63 Q1250.99 1001.36 1247.91 1005.96 Q1244.86 1010.55 1239.05 1010.55 Q1233.24 1010.55 1230.16 1005.96 Q1227.1 1001.36 1227.1 992.63 Q1227.1 983.88 1230.16 979.297 Q1233.24 974.691 1239.05 974.691 Z\" fill=\"#000000\" fill-rule=\"evenodd\" fill-opacity=\"1\" /><path clip-path=\"url(#clip530)\" d=\"M 0 0 M1203.08 654.307 Q1199.46 654.307 1197.64 657.872 Q1195.83 661.413 1195.83 668.543 Q1195.83 675.649 1197.64 679.214 Q1199.46 682.756 1203.08 682.756 Q1206.71 682.756 1208.52 679.214 Q1210.34 675.649 1210.34 668.543 Q1210.34 661.413 1208.52 657.872 Q1206.71 654.307 1203.08 654.307 M1203.08 650.603 Q1208.89 650.603 1211.94 655.21 Q1215.02 659.793 1215.02 668.543 Q1215.02 677.27 1211.94 681.876 Q1208.89 686.46 1203.08 686.46 Q1197.27 686.46 1194.19 681.876 Q1191.13 677.27 1191.13 668.543 Q1191.13 659.793 1194.19 655.21 Q1197.27 650.603 1203.08 650.603 Z\" fill=\"#000000\" fill-rule=\"evenodd\" fill-opacity=\"1\" /><path clip-path=\"url(#clip530)\" d=\"M 0 0 M1220.09 679.909 L1224.97 679.909 L1224.97 685.788 L1220.09 685.788 L1220.09 679.909 Z\" fill=\"#000000\" fill-rule=\"evenodd\" fill-opacity=\"1\" /><path clip-path=\"url(#clip530)\" d=\"M 0 0 M1230.09 651.228 L1248.45 651.228 L1248.45 655.163 L1234.37 655.163 L1234.37 663.636 Q1235.39 663.288 1236.41 663.126 Q1237.43 662.941 1238.45 662.941 Q1244.23 662.941 1247.61 666.112 Q1250.99 669.284 1250.99 674.7 Q1250.99 680.279 1247.52 683.381 Q1244.05 686.46 1237.73 686.46 Q1235.55 686.46 1233.28 686.089 Q1231.04 685.719 1228.63 684.978 L1228.63 680.279 Q1230.71 681.413 1232.94 681.969 Q1235.16 682.524 1237.64 682.524 Q1241.64 682.524 1243.98 680.418 Q1246.32 678.311 1246.32 674.7 Q1246.32 671.089 1243.98 668.983 Q1241.64 666.876 1237.64 666.876 Q1235.76 666.876 1233.89 667.293 Q1232.03 667.71 1230.09 668.589 L1230.09 651.228 Z\" fill=\"#000000\" fill-rule=\"evenodd\" fill-opacity=\"1\" /><path clip-path=\"url(#clip530)\" d=\"M 0 0 M1194.12 357.766 L1201.76 357.766 L1201.76 331.4 L1193.45 333.067 L1193.45 328.808 L1201.71 327.141 L1206.39 327.141 L1206.39 357.766 L1214.02 357.766 L1214.02 361.701 L1194.12 361.701 L1194.12 357.766 Z\" fill=\"#000000\" fill-rule=\"evenodd\" fill-opacity=\"1\" /><path clip-path=\"url(#clip530)\" d=\"M 0 0 M1219.09 355.821 L1223.98 355.821 L1223.98 361.701 L1219.09 361.701 L1219.09 355.821 Z\" fill=\"#000000\" fill-rule=\"evenodd\" fill-opacity=\"1\" /><path clip-path=\"url(#clip530)\" d=\"M 0 0 M1239.05 330.22 Q1235.44 330.22 1233.61 333.784 Q1231.8 337.326 1231.8 344.456 Q1231.8 351.562 1233.61 355.127 Q1235.44 358.669 1239.05 358.669 Q1242.68 358.669 1244.49 355.127 Q1246.32 351.562 1246.32 344.456 Q1246.32 337.326 1244.49 333.784 Q1242.68 330.22 1239.05 330.22 M1239.05 326.516 Q1244.86 326.516 1247.91 331.122 Q1250.99 335.706 1250.99 344.456 Q1250.99 353.183 1247.91 357.789 Q1244.86 362.372 1239.05 362.372 Q1233.24 362.372 1230.16 357.789 Q1227.1 353.183 1227.1 344.456 Q1227.1 335.706 1230.16 331.122 Q1233.24 326.516 1239.05 326.516 Z\" fill=\"#000000\" fill-rule=\"evenodd\" fill-opacity=\"1\" /><path clip-path=\"url(#clip530)\" d=\"M 0 0 M1610.53 6.912 L1630.4 6.912 L1630.4 10.8472 L1615.21 10.8472 L1615.21 21.0323 L1628.91 21.0323 L1628.91 24.9675 L1615.21 24.9675 L1615.21 41.472 L1610.53 41.472 L1610.53 6.912 Z\" fill=\"#000000\" fill-rule=\"evenodd\" fill-opacity=\"1\" /><path clip-path=\"url(#clip530)\" d=\"M 0 0 M1631.83 31.2406 L1631.83 15.5462 L1636.09 15.5462 L1636.09 31.0785 Q1636.09 34.7591 1637.53 36.6109 Q1638.96 38.4396 1641.83 38.4396 Q1645.28 38.4396 1647.27 36.2405 Q1649.28 34.0415 1649.28 30.2452 L1649.28 15.5462 L1653.54 15.5462 L1653.54 41.472 L1649.28 41.472 L1649.28 37.4905 Q1647.73 39.8516 1645.67 41.009 Q1643.64 42.1433 1640.93 42.1433 Q1636.46 42.1433 1634.15 39.3655 Q1631.83 36.5878 1631.83 31.2406 M1642.55 14.9212 L1642.55 14.9212 Z\" fill=\"#000000\" fill-rule=\"evenodd\" fill-opacity=\"1\" /><path clip-path=\"url(#clip530)\" d=\"M 0 0 M1656.16 15.5462 L1676.39 15.5462 L1676.39 19.4351 L1660.37 38.0692 L1676.39 38.0692 L1676.39 41.472 L1655.58 41.472 L1655.58 37.5831 L1671.6 18.949 L1656.16 18.949 L1656.16 15.5462 Z\" fill=\"#000000\" fill-rule=\"evenodd\" fill-opacity=\"1\" /><path clip-path=\"url(#clip530)\" d=\"M 0 0 M1679.01 15.5462 L1699.24 15.5462 L1699.24 19.4351 L1683.22 38.0692 L1699.24 38.0692 L1699.24 41.472 L1678.43 41.472 L1678.43 37.5831 L1694.45 18.949 L1679.01 18.949 L1679.01 15.5462 Z\" fill=\"#000000\" fill-rule=\"evenodd\" fill-opacity=\"1\" /><path clip-path=\"url(#clip530)\" d=\"M 0 0 M1714.49 43.8794 Q1712.69 48.509 1710.97 49.921 Q1709.26 51.3331 1706.39 51.3331 L1702.99 51.3331 L1702.99 47.7683 L1705.49 47.7683 Q1707.25 47.7683 1708.22 46.9349 Q1709.19 46.1016 1710.37 42.9998 L1711.14 41.0553 L1700.65 15.5462 L1705.16 15.5462 L1713.27 35.8239 L1721.37 15.5462 L1725.88 15.5462 L1714.49 43.8794 Z\" fill=\"#000000\" fill-rule=\"evenodd\" fill-opacity=\"1\" /><path clip-path=\"url(#clip530)\" d=\"M 0 0 M1742.09 11.5185 L1735.74 28.7174 L1748.45 28.7174 L1742.09 11.5185 M1739.45 6.912 L1744.75 6.912 L1757.92 41.472 L1753.06 41.472 L1749.91 32.6063 L1734.33 32.6063 L1731.18 41.472 L1726.25 41.472 L1739.45 6.912 Z\" fill=\"#000000\" fill-rule=\"evenodd\" fill-opacity=\"1\" /><path clip-path=\"url(#clip530)\" d=\"M 0 0 M1778.96 25.2684 Q1780.46 25.7776 1781.88 27.4443 Q1783.31 29.111 1784.75 32.0276 L1789.49 41.472 L1784.47 41.472 L1780.05 32.6063 Q1778.33 29.1341 1776.71 27.9998 Q1775.12 26.8656 1772.34 26.8656 L1767.25 26.8656 L1767.25 41.472 L1762.57 41.472 L1762.57 6.912 L1773.13 6.912 Q1779.05 6.912 1781.97 9.38884 Q1784.89 11.8657 1784.89 16.8657 Q1784.89 20.1295 1783.36 22.2823 Q1781.85 24.4351 1778.96 25.2684 M1767.25 10.7546 L1767.25 23.023 L1773.13 23.023 Q1776.51 23.023 1778.22 21.4721 Q1779.96 19.898 1779.96 16.8657 Q1779.96 13.8333 1778.22 12.3055 Q1776.51 10.7546 1773.13 10.7546 L1767.25 10.7546 Z\" fill=\"#000000\" fill-rule=\"evenodd\" fill-opacity=\"1\" /><path clip-path=\"url(#clip530)\" d=\"M 0 0 M1785.9 6.912 L1815.14 6.912 L1815.14 10.8472 L1802.87 10.8472 L1802.87 41.472 L1798.17 41.472 L1798.17 10.8472 L1785.9 10.8472 L1785.9 6.912 Z\" fill=\"#000000\" fill-rule=\"evenodd\" fill-opacity=\"1\" /><path clip-path=\"url(#clip530)\" d=\"M 0 0 M1849.7 19.5277 Q1848.98 19.111 1848.13 18.9258 Q1847.29 18.7175 1846.27 18.7175 Q1842.66 18.7175 1840.72 21.0786 Q1838.8 23.4165 1838.8 27.8147 L1838.8 41.472 L1834.52 41.472 L1834.52 15.5462 L1838.8 15.5462 L1838.8 19.574 Q1840.14 17.2129 1842.29 16.0786 Q1844.45 14.9212 1847.52 14.9212 Q1847.96 14.9212 1848.5 14.9907 Q1849.03 15.037 1849.68 15.1527 L1849.7 19.5277 Z\" fill=\"#000000\" fill-rule=\"evenodd\" fill-opacity=\"1\" /><path clip-path=\"url(#clip530)\" d=\"M 0 0 M1874.89 25.8239 L1874.89 41.472 L1870.63 41.472 L1870.63 25.9628 Q1870.63 22.2823 1869.19 20.4536 Q1867.76 18.6249 1864.89 18.6249 Q1861.44 18.6249 1859.45 20.824 Q1857.45 23.023 1857.45 26.8193 L1857.45 41.472 L1853.17 41.472 L1853.17 5.45367 L1857.45 5.45367 L1857.45 19.574 Q1858.98 17.236 1861.04 16.0786 Q1863.13 14.9212 1865.83 14.9212 Q1870.3 14.9212 1872.59 17.699 Q1874.89 20.4536 1874.89 25.8239 Z\" fill=\"#000000\" fill-rule=\"evenodd\" fill-opacity=\"1\" /><path clip-path=\"url(#clip530)\" d=\"M 0 0 M1889.4 18.5323 Q1885.97 18.5323 1883.98 21.2175 Q1881.99 23.8795 1881.99 28.5323 Q1881.99 33.185 1883.96 35.8702 Q1885.95 38.5322 1889.4 38.5322 Q1892.8 38.5322 1894.79 35.847 Q1896.78 33.1619 1896.78 28.5323 Q1896.78 23.9258 1894.79 21.2406 Q1892.8 18.5323 1889.4 18.5323 M1889.4 14.9212 Q1894.95 14.9212 1898.13 18.5323 Q1901.3 22.1434 1901.3 28.5323 Q1901.3 34.898 1898.13 38.5322 Q1894.95 42.1433 1889.4 42.1433 Q1883.82 42.1433 1880.65 38.5322 Q1877.5 34.898 1877.5 28.5323 Q1877.5 22.1434 1880.65 18.5323 Q1883.82 14.9212 1889.4 14.9212 Z\" fill=\"#000000\" fill-rule=\"evenodd\" fill-opacity=\"1\" /><path clip-path=\"url(#clip530)\" d=\"M 0 0 M1921.39 19.9443 L1951.07 19.9443 L1951.07 23.8332 L1921.39 23.8332 L1921.39 19.9443 M1921.39 29.3887 L1951.07 29.3887 L1951.07 33.3239 L1921.39 33.3239 L1921.39 29.3887 Z\" fill=\"#000000\" fill-rule=\"evenodd\" fill-opacity=\"1\" /><path clip-path=\"url(#clip530)\" d=\"M 0 0 M1981.2 9.99069 Q1977.59 9.99069 1975.76 13.5555 Q1973.96 17.0971 1973.96 24.2267 Q1973.96 31.3332 1975.76 34.898 Q1977.59 38.4396 1981.2 38.4396 Q1984.84 38.4396 1986.64 34.898 Q1988.47 31.3332 1988.47 24.2267 Q1988.47 17.0971 1986.64 13.5555 Q1984.84 9.99069 1981.2 9.99069 M1981.2 6.287 Q1987.01 6.287 1990.07 10.8935 Q1993.15 15.4768 1993.15 24.2267 Q1993.15 32.9535 1990.07 37.56 Q1987.01 42.1433 1981.2 42.1433 Q1975.39 42.1433 1972.32 37.56 Q1969.26 32.9535 1969.26 24.2267 Q1969.26 15.4768 1972.32 10.8935 Q1975.39 6.287 1981.2 6.287 Z\" fill=\"#000000\" fill-rule=\"evenodd\" fill-opacity=\"1\" /><path clip-path=\"url(#clip530)\" d=\"M 0 0 M1998.22 35.5924 L2003.1 35.5924 L2003.1 41.472 L1998.22 41.472 L1998.22 35.5924 Z\" fill=\"#000000\" fill-rule=\"evenodd\" fill-opacity=\"1\" /><path clip-path=\"url(#clip530)\" d=\"M 0 0 M2006.99 6.912 L2029.21 6.912 L2029.21 8.90273 L2016.67 41.472 L2011.78 41.472 L2023.59 10.8472 L2006.99 10.8472 L2006.99 6.912 Z\" fill=\"#000000\" fill-rule=\"evenodd\" fill-opacity=\"1\" /><circle clip-path=\"url(#clip533)\" cx=\"2211.61\" cy=\"734.708\" r=\"14\" fill=\"#009af9\" fill-rule=\"evenodd\" fill-opacity=\"1\" stroke=\"#000000\" stroke-opacity=\"1\" stroke-width=\"3.2\"/>\n",
       "<circle clip-path=\"url(#clip533)\" cx=\"2261.95\" cy=\"462.331\" r=\"14\" fill=\"#009af9\" fill-rule=\"evenodd\" fill-opacity=\"1\" stroke=\"#000000\" stroke-opacity=\"1\" stroke-width=\"3.2\"/>\n",
       "<circle clip-path=\"url(#clip533)\" cx=\"2243.46\" cy=\"1082.73\" r=\"14\" fill=\"#009af9\" fill-rule=\"evenodd\" fill-opacity=\"1\" stroke=\"#000000\" stroke-opacity=\"1\" stroke-width=\"3.2\"/>\n",
       "<circle clip-path=\"url(#clip533)\" cx=\"2223.44\" cy=\"120.96\" r=\"14\" fill=\"#009af9\" fill-rule=\"evenodd\" fill-opacity=\"1\" stroke=\"#000000\" stroke-opacity=\"1\" stroke-width=\"3.2\"/>\n",
       "<circle clip-path=\"url(#clip533)\" cx=\"2270.24\" cy=\"1061.75\" r=\"14\" fill=\"#009af9\" fill-rule=\"evenodd\" fill-opacity=\"1\" stroke=\"#000000\" stroke-opacity=\"1\" stroke-width=\"3.2\"/>\n",
       "<circle clip-path=\"url(#clip533)\" cx=\"2256.28\" cy=\"655.238\" r=\"14\" fill=\"#009af9\" fill-rule=\"evenodd\" fill-opacity=\"1\" stroke=\"#000000\" stroke-opacity=\"1\" stroke-width=\"3.2\"/>\n",
       "<circle clip-path=\"url(#clip533)\" cx=\"2285.78\" cy=\"816.902\" r=\"14\" fill=\"#009af9\" fill-rule=\"evenodd\" fill-opacity=\"1\" stroke=\"#000000\" stroke-opacity=\"1\" stroke-width=\"3.2\"/>\n",
       "<circle clip-path=\"url(#clip533)\" cx=\"2281.95\" cy=\"1194.26\" r=\"14\" fill=\"#009af9\" fill-rule=\"evenodd\" fill-opacity=\"1\" stroke=\"#000000\" stroke-opacity=\"1\" stroke-width=\"3.2\"/>\n",
       "<circle clip-path=\"url(#clip533)\" cx=\"2322.59\" cy=\"1209.29\" r=\"14\" fill=\"#009af9\" fill-rule=\"evenodd\" fill-opacity=\"1\" stroke=\"#000000\" stroke-opacity=\"1\" stroke-width=\"3.2\"/>\n",
       "<circle clip-path=\"url(#clip533)\" cx=\"2252.25\" cy=\"749.735\" r=\"14\" fill=\"#009af9\" fill-rule=\"evenodd\" fill-opacity=\"1\" stroke=\"#000000\" stroke-opacity=\"1\" stroke-width=\"3.2\"/>\n",
       "<circle clip-path=\"url(#clip533)\" cx=\"2257.86\" cy=\"279.589\" r=\"14\" fill=\"#009af9\" fill-rule=\"evenodd\" fill-opacity=\"1\" stroke=\"#000000\" stroke-opacity=\"1\" stroke-width=\"3.2\"/>\n",
       "<circle clip-path=\"url(#clip533)\" cx=\"2319.94\" cy=\"1303.88\" r=\"14\" fill=\"#009af9\" fill-rule=\"evenodd\" fill-opacity=\"1\" stroke=\"#000000\" stroke-opacity=\"1\" stroke-width=\"3.2\"/>\n",
       "<circle clip-path=\"url(#clip533)\" cx=\"2248.25\" cy=\"661.788\" r=\"14\" fill=\"#009af9\" fill-rule=\"evenodd\" fill-opacity=\"1\" stroke=\"#000000\" stroke-opacity=\"1\" stroke-width=\"3.2\"/>\n",
       "<circle clip-path=\"url(#clip533)\" cx=\"2249.07\" cy=\"612.583\" r=\"14\" fill=\"#009af9\" fill-rule=\"evenodd\" fill-opacity=\"1\" stroke=\"#000000\" stroke-opacity=\"1\" stroke-width=\"3.2\"/>\n",
       "<circle clip-path=\"url(#clip533)\" cx=\"2237.19\" cy=\"903.22\" r=\"14\" fill=\"#009af9\" fill-rule=\"evenodd\" fill-opacity=\"1\" stroke=\"#000000\" stroke-opacity=\"1\" stroke-width=\"3.2\"/>\n",
       "<circle clip-path=\"url(#clip533)\" cx=\"1723.54\" cy=\"895.124\" r=\"14\" fill=\"#e26f46\" fill-rule=\"evenodd\" fill-opacity=\"1\" stroke=\"#000000\" stroke-opacity=\"1\" stroke-width=\"3.2\"/>\n",
       "<circle clip-path=\"url(#clip533)\" cx=\"1735.21\" cy=\"980.234\" r=\"14\" fill=\"#e26f46\" fill-rule=\"evenodd\" fill-opacity=\"1\" stroke=\"#000000\" stroke-opacity=\"1\" stroke-width=\"3.2\"/>\n",
       "<circle clip-path=\"url(#clip533)\" cx=\"1464.43\" cy=\"1151.75\" r=\"14\" fill=\"#e26f46\" fill-rule=\"evenodd\" fill-opacity=\"1\" stroke=\"#000000\" stroke-opacity=\"1\" stroke-width=\"3.2\"/>\n",
       "<circle clip-path=\"url(#clip533)\" cx=\"1670.4\" cy=\"844.192\" r=\"14\" fill=\"#e26f46\" fill-rule=\"evenodd\" fill-opacity=\"1\" stroke=\"#000000\" stroke-opacity=\"1\" stroke-width=\"3.2\"/>\n",
       "<circle clip-path=\"url(#clip533)\" cx=\"1831.78\" cy=\"1369.5\" r=\"14\" fill=\"#e26f46\" fill-rule=\"evenodd\" fill-opacity=\"1\" stroke=\"#000000\" stroke-opacity=\"1\" stroke-width=\"3.2\"/>\n",
       "<circle clip-path=\"url(#clip533)\" cx=\"1985.36\" cy=\"1479.74\" r=\"14\" fill=\"#e26f46\" fill-rule=\"evenodd\" fill-opacity=\"1\" stroke=\"#000000\" stroke-opacity=\"1\" stroke-width=\"3.2\"/>\n",
       "<circle clip-path=\"url(#clip533)\" cx=\"1816.97\" cy=\"1194.64\" r=\"14\" fill=\"#e26f46\" fill-rule=\"evenodd\" fill-opacity=\"1\" stroke=\"#000000\" stroke-opacity=\"1\" stroke-width=\"3.2\"/>\n",
       "<circle clip-path=\"url(#clip533)\" cx=\"1693.58\" cy=\"778.95\" r=\"14\" fill=\"#e26f46\" fill-rule=\"evenodd\" fill-opacity=\"1\" stroke=\"#000000\" stroke-opacity=\"1\" stroke-width=\"3.2\"/>\n",
       "<circle clip-path=\"url(#clip533)\" cx=\"1812.21\" cy=\"1433.13\" r=\"14\" fill=\"#e26f46\" fill-rule=\"evenodd\" fill-opacity=\"1\" stroke=\"#000000\" stroke-opacity=\"1\" stroke-width=\"3.2\"/>\n",
       "<circle clip-path=\"url(#clip533)\" cx=\"1743.99\" cy=\"1305.85\" r=\"14\" fill=\"#e26f46\" fill-rule=\"evenodd\" fill-opacity=\"1\" stroke=\"#000000\" stroke-opacity=\"1\" stroke-width=\"3.2\"/>\n",
       "<circle clip-path=\"url(#clip533)\" cx=\"1764.04\" cy=\"1426.57\" r=\"14\" fill=\"#e26f46\" fill-rule=\"evenodd\" fill-opacity=\"1\" stroke=\"#000000\" stroke-opacity=\"1\" stroke-width=\"3.2\"/>\n",
       "<circle clip-path=\"url(#clip533)\" cx=\"1796.42\" cy=\"1347.73\" r=\"14\" fill=\"#e26f46\" fill-rule=\"evenodd\" fill-opacity=\"1\" stroke=\"#000000\" stroke-opacity=\"1\" stroke-width=\"3.2\"/>\n",
       "<circle clip-path=\"url(#clip533)\" cx=\"1695.11\" cy=\"1014.51\" r=\"14\" fill=\"#e26f46\" fill-rule=\"evenodd\" fill-opacity=\"1\" stroke=\"#000000\" stroke-opacity=\"1\" stroke-width=\"3.2\"/>\n",
       "<circle clip-path=\"url(#clip533)\" cx=\"1866.98\" cy=\"1155.82\" r=\"14\" fill=\"#e26f46\" fill-rule=\"evenodd\" fill-opacity=\"1\" stroke=\"#000000\" stroke-opacity=\"1\" stroke-width=\"3.2\"/>\n",
       "<circle clip-path=\"url(#clip533)\" cx=\"1785.32\" cy=\"1129.48\" r=\"14\" fill=\"#e26f46\" fill-rule=\"evenodd\" fill-opacity=\"1\" stroke=\"#000000\" stroke-opacity=\"1\" stroke-width=\"3.2\"/>\n",
       "<circle clip-path=\"url(#clip533)\" cx=\"1614.83\" cy=\"1124.84\" r=\"14\" fill=\"#3da44d\" fill-rule=\"evenodd\" fill-opacity=\"1\" stroke=\"#000000\" stroke-opacity=\"1\" stroke-width=\"3.2\"/>\n",
       "<circle clip-path=\"url(#clip533)\" cx=\"1490.4\" cy=\"1134.11\" r=\"14\" fill=\"#3da44d\" fill-rule=\"evenodd\" fill-opacity=\"1\" stroke=\"#000000\" stroke-opacity=\"1\" stroke-width=\"3.2\"/>\n",
       "<circle clip-path=\"url(#clip533)\" cx=\"1630.48\" cy=\"1068.06\" r=\"14\" fill=\"#3da44d\" fill-rule=\"evenodd\" fill-opacity=\"1\" stroke=\"#000000\" stroke-opacity=\"1\" stroke-width=\"3.2\"/>\n",
       "<circle clip-path=\"url(#clip533)\" cx=\"1547.91\" cy=\"1132.7\" r=\"14\" fill=\"#3da44d\" fill-rule=\"evenodd\" fill-opacity=\"1\" stroke=\"#000000\" stroke-opacity=\"1\" stroke-width=\"3.2\"/>\n",
       "<circle clip-path=\"url(#clip533)\" cx=\"1616.27\" cy=\"1265.61\" r=\"14\" fill=\"#3da44d\" fill-rule=\"evenodd\" fill-opacity=\"1\" stroke=\"#000000\" stroke-opacity=\"1\" stroke-width=\"3.2\"/>\n",
       "<circle clip-path=\"url(#clip533)\" cx=\"1317.16\" cy=\"104.257\" r=\"14\" fill=\"#3da44d\" fill-rule=\"evenodd\" fill-opacity=\"1\" stroke=\"#000000\" stroke-opacity=\"1\" stroke-width=\"3.2\"/>\n",
       "<circle clip-path=\"url(#clip533)\" cx=\"1498.65\" cy=\"751.81\" r=\"14\" fill=\"#3da44d\" fill-rule=\"evenodd\" fill-opacity=\"1\" stroke=\"#000000\" stroke-opacity=\"1\" stroke-width=\"3.2\"/>\n",
       "<circle clip-path=\"url(#clip533)\" cx=\"1380.31\" cy=\"750.993\" r=\"14\" fill=\"#3da44d\" fill-rule=\"evenodd\" fill-opacity=\"1\" stroke=\"#000000\" stroke-opacity=\"1\" stroke-width=\"3.2\"/>\n",
       "<circle clip-path=\"url(#clip533)\" cx=\"1465.3\" cy=\"874.233\" r=\"14\" fill=\"#3da44d\" fill-rule=\"evenodd\" fill-opacity=\"1\" stroke=\"#000000\" stroke-opacity=\"1\" stroke-width=\"3.2\"/>\n",
       "<circle clip-path=\"url(#clip533)\" cx=\"1570.57\" cy=\"835.712\" r=\"14\" fill=\"#3da44d\" fill-rule=\"evenodd\" fill-opacity=\"1\" stroke=\"#000000\" stroke-opacity=\"1\" stroke-width=\"3.2\"/>\n",
       "<circle clip-path=\"url(#clip533)\" cx=\"1554.09\" cy=\"941.701\" r=\"14\" fill=\"#3da44d\" fill-rule=\"evenodd\" fill-opacity=\"1\" stroke=\"#000000\" stroke-opacity=\"1\" stroke-width=\"3.2\"/>\n",
       "<circle clip-path=\"url(#clip533)\" cx=\"1471.5\" cy=\"776.503\" r=\"14\" fill=\"#3da44d\" fill-rule=\"evenodd\" fill-opacity=\"1\" stroke=\"#000000\" stroke-opacity=\"1\" stroke-width=\"3.2\"/>\n",
       "<circle clip-path=\"url(#clip533)\" cx=\"1582.94\" cy=\"1342.16\" r=\"14\" fill=\"#3da44d\" fill-rule=\"evenodd\" fill-opacity=\"1\" stroke=\"#000000\" stroke-opacity=\"1\" stroke-width=\"3.2\"/>\n",
       "<circle clip-path=\"url(#clip533)\" cx=\"1489.33\" cy=\"853.056\" r=\"14\" fill=\"#3da44d\" fill-rule=\"evenodd\" fill-opacity=\"1\" stroke=\"#000000\" stroke-opacity=\"1\" stroke-width=\"3.2\"/>\n",
       "<circle clip-path=\"url(#clip533)\" cx=\"1342.3\" cy=\"548.1\" r=\"14\" fill=\"#3da44d\" fill-rule=\"evenodd\" fill-opacity=\"1\" stroke=\"#000000\" stroke-opacity=\"1\" stroke-width=\"3.2\"/>\n",
       "</svg>\n"
      ],
      "image/svg+xml": [
       "<?xml version=\"1.0\" encoding=\"utf-8\"?>\n",
       "<svg xmlns=\"http://www.w3.org/2000/svg\" xmlns:xlink=\"http://www.w3.org/1999/xlink\" width=\"600\" height=\"400\" viewBox=\"0 0 2400 1600\">\n",
       "<defs>\n",
       "  <clipPath id=\"clip500\">\n",
       "    <rect x=\"0\" y=\"0\" width=\"2400\" height=\"1600\"/>\n",
       "  </clipPath>\n",
       "</defs>\n",
       "<path clip-path=\"url(#clip500)\" d=\"\n",
       "M0 1600 L2400 1600 L2400 0 L0 0  Z\n",
       "  \" fill=\"#ffffff\" fill-rule=\"evenodd\" fill-opacity=\"1\"/>\n",
       "<defs>\n",
       "  <clipPath id=\"clip501\">\n",
       "    <rect x=\"480\" y=\"0\" width=\"1681\" height=\"1600\"/>\n",
       "  </clipPath>\n",
       "</defs>\n",
       "<path clip-path=\"url(#clip500)\" d=\"\n",
       "M86.9921 1521.01 L1152.76 1521.01 L1152.76 62.9921 L86.9921 62.9921  Z\n",
       "  \" fill=\"#ffffff\" fill-rule=\"evenodd\" fill-opacity=\"1\"/>\n",
       "<defs>\n",
       "  <clipPath id=\"clip502\">\n",
       "    <rect x=\"86\" y=\"62\" width=\"1067\" height=\"1459\"/>\n",
       "  </clipPath>\n",
       "</defs>\n",
       "<polyline clip-path=\"url(#clip502)\" style=\"stroke:#000000; stroke-width:2; stroke-opacity:0.1; fill:none\" points=\"\n",
       "  154.648,1521.01 154.648,62.9921 \n",
       "  \"/>\n",
       "<polyline clip-path=\"url(#clip502)\" style=\"stroke:#000000; stroke-width:2; stroke-opacity:0.1; fill:none\" points=\"\n",
       "  316.018,1521.01 316.018,62.9921 \n",
       "  \"/>\n",
       "<polyline clip-path=\"url(#clip502)\" style=\"stroke:#000000; stroke-width:2; stroke-opacity:0.1; fill:none\" points=\"\n",
       "  477.388,1521.01 477.388,62.9921 \n",
       "  \"/>\n",
       "<polyline clip-path=\"url(#clip502)\" style=\"stroke:#000000; stroke-width:2; stroke-opacity:0.1; fill:none\" points=\"\n",
       "  638.758,1521.01 638.758,62.9921 \n",
       "  \"/>\n",
       "<polyline clip-path=\"url(#clip502)\" style=\"stroke:#000000; stroke-width:2; stroke-opacity:0.1; fill:none\" points=\"\n",
       "  800.128,1521.01 800.128,62.9921 \n",
       "  \"/>\n",
       "<polyline clip-path=\"url(#clip502)\" style=\"stroke:#000000; stroke-width:2; stroke-opacity:0.1; fill:none\" points=\"\n",
       "  961.498,1521.01 961.498,62.9921 \n",
       "  \"/>\n",
       "<polyline clip-path=\"url(#clip502)\" style=\"stroke:#000000; stroke-width:2; stroke-opacity:0.1; fill:none\" points=\"\n",
       "  1122.87,1521.01 1122.87,62.9921 \n",
       "  \"/>\n",
       "<polyline clip-path=\"url(#clip500)\" style=\"stroke:#000000; stroke-width:4; stroke-opacity:1; fill:none\" points=\"\n",
       "  86.9921,1521.01 1152.76,1521.01 \n",
       "  \"/>\n",
       "<polyline clip-path=\"url(#clip500)\" style=\"stroke:#000000; stroke-width:4; stroke-opacity:1; fill:none\" points=\"\n",
       "  154.648,1521.01 154.648,1503.51 \n",
       "  \"/>\n",
       "<polyline clip-path=\"url(#clip500)\" style=\"stroke:#000000; stroke-width:4; stroke-opacity:1; fill:none\" points=\"\n",
       "  316.018,1521.01 316.018,1503.51 \n",
       "  \"/>\n",
       "<polyline clip-path=\"url(#clip500)\" style=\"stroke:#000000; stroke-width:4; stroke-opacity:1; fill:none\" points=\"\n",
       "  477.388,1521.01 477.388,1503.51 \n",
       "  \"/>\n",
       "<polyline clip-path=\"url(#clip500)\" style=\"stroke:#000000; stroke-width:4; stroke-opacity:1; fill:none\" points=\"\n",
       "  638.758,1521.01 638.758,1503.51 \n",
       "  \"/>\n",
       "<polyline clip-path=\"url(#clip500)\" style=\"stroke:#000000; stroke-width:4; stroke-opacity:1; fill:none\" points=\"\n",
       "  800.128,1521.01 800.128,1503.51 \n",
       "  \"/>\n",
       "<polyline clip-path=\"url(#clip500)\" style=\"stroke:#000000; stroke-width:4; stroke-opacity:1; fill:none\" points=\"\n",
       "  961.498,1521.01 961.498,1503.51 \n",
       "  \"/>\n",
       "<polyline clip-path=\"url(#clip500)\" style=\"stroke:#000000; stroke-width:4; stroke-opacity:1; fill:none\" points=\"\n",
       "  1122.87,1521.01 1122.87,1503.51 \n",
       "  \"/>\n",
       "<path clip-path=\"url(#clip500)\" d=\"M 0 0 M133.633 1558.69 L155.89 1558.69 L155.89 1561.64 L133.633 1561.64 L133.633 1558.69 Z\" fill=\"#000000\" fill-rule=\"evenodd\" fill-opacity=\"1\" /><path clip-path=\"url(#clip500)\" d=\"M 0 0 M170.317 1557.34 Q172.834 1557.87 174.24 1559.58 Q175.664 1561.28 175.664 1563.78 Q175.664 1567.61 173.025 1569.71 Q170.386 1571.82 165.525 1571.82 Q163.893 1571.82 162.157 1571.49 Q160.438 1571.17 158.598 1570.53 L158.598 1567.15 Q160.056 1568 161.792 1568.43 Q163.529 1568.86 165.421 1568.86 Q168.72 1568.86 170.438 1567.56 Q172.174 1566.26 172.174 1563.78 Q172.174 1561.49 170.56 1560.2 Q168.963 1558.9 166.098 1558.9 L163.077 1558.9 L163.077 1556.02 L166.237 1556.02 Q168.824 1556.02 170.195 1554.99 Q171.567 1553.95 171.567 1552.01 Q171.567 1550.01 170.143 1548.95 Q168.737 1547.87 166.098 1547.87 Q164.657 1547.87 163.008 1548.19 Q161.358 1548.5 159.379 1549.16 L159.379 1546.03 Q161.376 1545.48 163.112 1545.2 Q164.865 1544.92 166.41 1544.92 Q170.404 1544.92 172.73 1546.75 Q175.056 1548.55 175.056 1551.64 Q175.056 1553.79 173.824 1555.29 Q172.591 1556.76 170.317 1557.34 Z\" fill=\"#000000\" fill-rule=\"evenodd\" fill-opacity=\"1\" /><path clip-path=\"url(#clip500)\" d=\"M 0 0 M295.359 1558.69 L317.615 1558.69 L317.615 1561.64 L295.359 1561.64 L295.359 1558.69 Z\" fill=\"#000000\" fill-rule=\"evenodd\" fill-opacity=\"1\" /><path clip-path=\"url(#clip500)\" d=\"M 0 0 M324.438 1568.36 L336.678 1568.36 L336.678 1571.31 L320.22 1571.31 L320.22 1568.36 Q322.216 1566.29 325.654 1562.82 Q329.108 1559.33 329.994 1558.33 Q331.678 1556.43 332.338 1555.13 Q333.015 1553.81 333.015 1552.54 Q333.015 1550.48 331.556 1549.18 Q330.115 1547.87 327.789 1547.87 Q326.14 1547.87 324.299 1548.45 Q322.477 1549.02 320.393 1550.18 L320.393 1546.64 Q322.511 1545.79 324.352 1545.36 Q326.192 1544.92 327.72 1544.92 Q331.747 1544.92 334.143 1546.94 Q336.539 1548.95 336.539 1552.32 Q336.539 1553.92 335.931 1555.36 Q335.341 1556.78 333.761 1558.73 Q333.327 1559.23 331.001 1561.64 Q328.674 1564.04 324.438 1568.36 Z\" fill=\"#000000\" fill-rule=\"evenodd\" fill-opacity=\"1\" /><path clip-path=\"url(#clip500)\" d=\"M 0 0 M456.59 1558.69 L478.846 1558.69 L478.846 1561.64 L456.59 1561.64 L456.59 1558.69 Z\" fill=\"#000000\" fill-rule=\"evenodd\" fill-opacity=\"1\" /><path clip-path=\"url(#clip500)\" d=\"M 0 0 M483.256 1568.36 L488.985 1568.36 L488.985 1548.59 L482.753 1549.84 L482.753 1546.64 L488.951 1545.39 L492.458 1545.39 L492.458 1568.36 L498.187 1568.36 L498.187 1571.31 L483.256 1571.31 L483.256 1568.36 Z\" fill=\"#000000\" fill-rule=\"evenodd\" fill-opacity=\"1\" /><path clip-path=\"url(#clip500)\" d=\"M 0 0 M638.758 1547.7 Q636.05 1547.7 634.678 1550.37 Q633.324 1553.03 633.324 1558.38 Q633.324 1563.71 634.678 1566.38 Q636.05 1569.04 638.758 1569.04 Q641.484 1569.04 642.838 1566.38 Q644.209 1563.71 644.209 1558.38 Q644.209 1553.03 642.838 1550.37 Q641.484 1547.7 638.758 1547.7 M638.758 1544.92 Q643.116 1544.92 645.407 1548.38 Q647.716 1551.82 647.716 1558.38 Q647.716 1564.92 645.407 1568.38 Q643.116 1571.82 638.758 1571.82 Q634.4 1571.82 632.091 1568.38 Q629.8 1564.92 629.8 1558.38 Q629.8 1551.82 632.091 1548.38 Q634.4 1544.92 638.758 1544.92 Z\" fill=\"#000000\" fill-rule=\"evenodd\" fill-opacity=\"1\" /><path clip-path=\"url(#clip500)\" d=\"M 0 0 M792.914 1568.36 L798.644 1568.36 L798.644 1548.59 L792.411 1549.84 L792.411 1546.64 L798.609 1545.39 L802.116 1545.39 L802.116 1568.36 L807.845 1568.36 L807.845 1571.31 L792.914 1571.31 L792.914 1568.36 Z\" fill=\"#000000\" fill-rule=\"evenodd\" fill-opacity=\"1\" /><path clip-path=\"url(#clip500)\" d=\"M 0 0 M957.487 1568.36 L969.727 1568.36 L969.727 1571.31 L953.269 1571.31 L953.269 1568.36 Q955.265 1566.29 958.703 1562.82 Q962.158 1559.33 963.043 1558.33 Q964.727 1556.43 965.387 1555.13 Q966.064 1553.81 966.064 1552.54 Q966.064 1550.48 964.605 1549.18 Q963.164 1547.87 960.838 1547.87 Q959.189 1547.87 957.349 1548.45 Q955.526 1549.02 953.442 1550.18 L953.442 1546.64 Q955.56 1545.79 957.401 1545.36 Q959.241 1544.92 960.769 1544.92 Q964.796 1544.92 967.192 1546.94 Q969.588 1548.95 969.588 1552.32 Q969.588 1553.92 968.98 1555.36 Q968.39 1556.78 966.81 1558.73 Q966.376 1559.23 964.05 1561.64 Q961.723 1564.04 957.487 1568.36 Z\" fill=\"#000000\" fill-rule=\"evenodd\" fill-opacity=\"1\" /><path clip-path=\"url(#clip500)\" d=\"M 0 0 M1126.05 1557.34 Q1128.57 1557.87 1129.98 1559.58 Q1131.4 1561.28 1131.4 1563.78 Q1131.4 1567.61 1128.76 1569.71 Q1126.12 1571.82 1121.26 1571.82 Q1119.63 1571.82 1117.89 1571.49 Q1116.18 1571.17 1114.33 1570.53 L1114.33 1567.15 Q1115.79 1568 1117.53 1568.43 Q1119.27 1568.86 1121.16 1568.86 Q1124.46 1568.86 1126.17 1567.56 Q1127.91 1566.26 1127.91 1563.78 Q1127.91 1561.49 1126.3 1560.2 Q1124.7 1558.9 1121.83 1558.9 L1118.81 1558.9 L1118.81 1556.02 L1121.97 1556.02 Q1124.56 1556.02 1125.93 1554.99 Q1127.3 1553.95 1127.3 1552.01 Q1127.3 1550.01 1125.88 1548.95 Q1124.47 1547.87 1121.83 1547.87 Q1120.39 1547.87 1118.74 1548.19 Q1117.1 1548.5 1115.12 1549.16 L1115.12 1546.03 Q1117.11 1545.48 1118.85 1545.2 Q1120.6 1544.92 1122.15 1544.92 Q1126.14 1544.92 1128.47 1546.75 Q1130.79 1548.55 1130.79 1551.64 Q1130.79 1553.79 1129.56 1555.29 Q1128.33 1556.76 1126.05 1557.34 Z\" fill=\"#000000\" fill-rule=\"evenodd\" fill-opacity=\"1\" /><polyline clip-path=\"url(#clip502)\" style=\"stroke:#000000; stroke-width:2; stroke-opacity:0.1; fill:none\" points=\"\n",
       "  86.9921,1316.68 1152.76,1316.68 \n",
       "  \"/>\n",
       "<polyline clip-path=\"url(#clip502)\" style=\"stroke:#000000; stroke-width:2; stroke-opacity:0.1; fill:none\" points=\"\n",
       "  86.9921,992.596 1152.76,992.596 \n",
       "  \"/>\n",
       "<polyline clip-path=\"url(#clip502)\" style=\"stroke:#000000; stroke-width:2; stroke-opacity:0.1; fill:none\" points=\"\n",
       "  86.9921,668.508 1152.76,668.508 \n",
       "  \"/>\n",
       "<polyline clip-path=\"url(#clip502)\" style=\"stroke:#000000; stroke-width:2; stroke-opacity:0.1; fill:none\" points=\"\n",
       "  86.9921,344.421 1152.76,344.421 \n",
       "  \"/>\n",
       "<polyline clip-path=\"url(#clip500)\" style=\"stroke:#000000; stroke-width:4; stroke-opacity:1; fill:none\" points=\"\n",
       "  86.9921,1521.01 86.9921,62.9921 \n",
       "  \"/>\n",
       "<polyline clip-path=\"url(#clip500)\" style=\"stroke:#000000; stroke-width:4; stroke-opacity:1; fill:none\" points=\"\n",
       "  86.9921,1316.68 99.7813,1316.68 \n",
       "  \"/>\n",
       "<polyline clip-path=\"url(#clip500)\" style=\"stroke:#000000; stroke-width:4; stroke-opacity:1; fill:none\" points=\"\n",
       "  86.9921,992.596 99.7813,992.596 \n",
       "  \"/>\n",
       "<polyline clip-path=\"url(#clip500)\" style=\"stroke:#000000; stroke-width:4; stroke-opacity:1; fill:none\" points=\"\n",
       "  86.9921,668.508 99.7813,668.508 \n",
       "  \"/>\n",
       "<polyline clip-path=\"url(#clip500)\" style=\"stroke:#000000; stroke-width:4; stroke-opacity:1; fill:none\" points=\"\n",
       "  86.9921,344.421 99.7813,344.421 \n",
       "  \"/>\n",
       "<path clip-path=\"url(#clip500)\" d=\"M 0 0 M-41.6694 1317.13 L-11.9936 1317.13 L-11.9936 1321.07 L-41.6694 1321.07 L-41.6694 1317.13 Z\" fill=\"#000000\" fill-rule=\"evenodd\" fill-opacity=\"1\" /><path clip-path=\"url(#clip500)\" d=\"M 0 0 M3.07572 1302.48 Q-0.535376 1302.48 -2.36407 1306.05 Q-4.16962 1309.59 -4.16962 1316.72 Q-4.16962 1323.82 -2.36407 1327.39 Q-0.535376 1330.93 3.07572 1330.93 Q6.70996 1330.93 8.5155 1327.39 Q10.3442 1323.82 10.3442 1316.72 Q10.3442 1309.59 8.5155 1306.05 Q6.70996 1302.48 3.07572 1302.48 M3.07572 1298.78 Q8.88587 1298.78 11.9414 1303.38 Q15.0201 1307.97 15.0201 1316.72 Q15.0201 1325.44 11.9414 1330.05 Q8.88587 1334.63 3.07572 1334.63 Q-2.73444 1334.63 -5.81313 1330.05 Q-8.86866 1325.44 -8.86866 1316.72 Q-8.86866 1307.97 -5.81313 1303.38 Q-2.73444 1298.78 3.07572 1298.78 Z\" fill=\"#000000\" fill-rule=\"evenodd\" fill-opacity=\"1\" /><path clip-path=\"url(#clip500)\" d=\"M 0 0 M20.0895 1328.08 L24.9737 1328.08 L24.9737 1333.96 L20.0895 1333.96 L20.0895 1328.08 Z\" fill=\"#000000\" fill-rule=\"evenodd\" fill-opacity=\"1\" /><path clip-path=\"url(#clip500)\" d=\"M 0 0 M30.0895 1299.4 L48.4458 1299.4 L48.4458 1303.34 L34.3718 1303.34 L34.3718 1311.81 Q35.3904 1311.46 36.4089 1311.3 Q37.4274 1311.12 38.4459 1311.12 Q44.2329 1311.12 47.6125 1314.29 Q50.9921 1317.46 50.9921 1322.87 Q50.9921 1328.45 47.5199 1331.56 Q44.0477 1334.63 37.7283 1334.63 Q35.5524 1334.63 33.2839 1334.26 Q31.0385 1333.89 28.6311 1333.15 L28.6311 1328.45 Q30.7145 1329.59 32.9367 1330.14 Q35.1589 1330.7 37.6357 1330.7 Q41.6403 1330.7 43.9783 1328.59 Q46.3162 1326.49 46.3162 1322.87 Q46.3162 1319.26 43.9783 1317.16 Q41.6403 1315.05 37.6357 1315.05 Q35.7607 1315.05 33.8857 1315.47 Q32.0339 1315.88 30.0895 1316.76 L30.0895 1299.4 Z\" fill=\"#000000\" fill-rule=\"evenodd\" fill-opacity=\"1\" /><path clip-path=\"url(#clip500)\" d=\"M 0 0 M2.08035 978.394 Q-1.53074 978.394 -3.35943 981.959 Q-5.16498 985.501 -5.16498 992.63 Q-5.16498 999.737 -3.35943 1003.3 Q-1.53074 1006.84 2.08035 1006.84 Q5.71459 1006.84 7.52014 1003.3 Q9.34883 999.737 9.34883 992.63 Q9.34883 985.501 7.52014 981.959 Q5.71459 978.394 2.08035 978.394 M2.08035 974.691 Q7.89051 974.691 10.946 979.297 Q14.0247 983.88 14.0247 992.63 Q14.0247 1001.36 10.946 1005.96 Q7.89051 1010.55 2.08035 1010.55 Q-3.7298 1010.55 -6.80849 1005.96 Q-9.86403 1001.36 -9.86403 992.63 Q-9.86403 983.88 -6.80849 979.297 Q-3.7298 974.691 2.08035 974.691 Z\" fill=\"#000000\" fill-rule=\"evenodd\" fill-opacity=\"1\" /><path clip-path=\"url(#clip500)\" d=\"M 0 0 M19.0941 1004 L23.9784 1004 L23.9784 1009.88 L19.0941 1009.88 L19.0941 1004 Z\" fill=\"#000000\" fill-rule=\"evenodd\" fill-opacity=\"1\" /><path clip-path=\"url(#clip500)\" d=\"M 0 0 M39.0477 978.394 Q35.4367 978.394 33.608 981.959 Q31.8024 985.501 31.8024 992.63 Q31.8024 999.737 33.608 1003.3 Q35.4367 1006.84 39.0477 1006.84 Q42.682 1006.84 44.4875 1003.3 Q46.3162 999.737 46.3162 992.63 Q46.3162 985.501 44.4875 981.959 Q42.682 978.394 39.0477 978.394 M39.0477 974.691 Q44.8579 974.691 47.9134 979.297 Q50.9921 983.88 50.9921 992.63 Q50.9921 1001.36 47.9134 1005.96 Q44.8579 1010.55 39.0477 1010.55 Q33.2376 1010.55 30.1589 1005.96 Q27.1034 1001.36 27.1034 992.63 Q27.1034 983.88 30.1589 979.297 Q33.2376 974.691 39.0477 974.691 Z\" fill=\"#000000\" fill-rule=\"evenodd\" fill-opacity=\"1\" /><path clip-path=\"url(#clip500)\" d=\"M 0 0 M3.07572 654.307 Q-0.535376 654.307 -2.36407 657.872 Q-4.16962 661.413 -4.16962 668.543 Q-4.16962 675.649 -2.36407 679.214 Q-0.535376 682.756 3.07572 682.756 Q6.70996 682.756 8.5155 679.214 Q10.3442 675.649 10.3442 668.543 Q10.3442 661.413 8.5155 657.872 Q6.70996 654.307 3.07572 654.307 M3.07572 650.603 Q8.88587 650.603 11.9414 655.21 Q15.0201 659.793 15.0201 668.543 Q15.0201 677.27 11.9414 681.876 Q8.88587 686.46 3.07572 686.46 Q-2.73444 686.46 -5.81313 681.876 Q-8.86866 677.27 -8.86866 668.543 Q-8.86866 659.793 -5.81313 655.21 Q-2.73444 650.603 3.07572 650.603 Z\" fill=\"#000000\" fill-rule=\"evenodd\" fill-opacity=\"1\" /><path clip-path=\"url(#clip500)\" d=\"M 0 0 M20.0895 679.909 L24.9737 679.909 L24.9737 685.788 L20.0895 685.788 L20.0895 679.909 Z\" fill=\"#000000\" fill-rule=\"evenodd\" fill-opacity=\"1\" /><path clip-path=\"url(#clip500)\" d=\"M 0 0 M30.0895 651.228 L48.4458 651.228 L48.4458 655.163 L34.3718 655.163 L34.3718 663.636 Q35.3904 663.288 36.4089 663.126 Q37.4274 662.941 38.4459 662.941 Q44.2329 662.941 47.6125 666.112 Q50.9921 669.284 50.9921 674.7 Q50.9921 680.279 47.5199 683.381 Q44.0477 686.46 37.7283 686.46 Q35.5524 686.46 33.2839 686.089 Q31.0385 685.719 28.6311 684.978 L28.6311 680.279 Q30.7145 681.413 32.9367 681.969 Q35.1589 682.524 37.6357 682.524 Q41.6403 682.524 43.9783 680.418 Q46.3162 678.311 46.3162 674.7 Q46.3162 671.089 43.9783 668.983 Q41.6403 666.876 37.6357 666.876 Q35.7607 666.876 33.8857 667.293 Q32.0339 667.71 30.0895 668.589 L30.0895 651.228 Z\" fill=\"#000000\" fill-rule=\"evenodd\" fill-opacity=\"1\" /><path clip-path=\"url(#clip500)\" d=\"M 0 0 M-5.88257 357.766 L1.75628 357.766 L1.75628 331.4 L-6.55386 333.067 L-6.55386 328.808 L1.70998 327.141 L6.38588 327.141 L6.38588 357.766 L14.0247 357.766 L14.0247 361.701 L-5.88257 361.701 L-5.88257 357.766 Z\" fill=\"#000000\" fill-rule=\"evenodd\" fill-opacity=\"1\" /><path clip-path=\"url(#clip500)\" d=\"M 0 0 M19.0941 355.821 L23.9784 355.821 L23.9784 361.701 L19.0941 361.701 L19.0941 355.821 Z\" fill=\"#000000\" fill-rule=\"evenodd\" fill-opacity=\"1\" /><path clip-path=\"url(#clip500)\" d=\"M 0 0 M39.0477 330.22 Q35.4367 330.22 33.608 333.784 Q31.8024 337.326 31.8024 344.456 Q31.8024 351.562 33.608 355.127 Q35.4367 358.669 39.0477 358.669 Q42.682 358.669 44.4875 355.127 Q46.3162 351.562 46.3162 344.456 Q46.3162 337.326 44.4875 333.784 Q42.682 330.22 39.0477 330.22 M39.0477 326.516 Q44.8579 326.516 47.9134 331.122 Q50.9921 335.706 50.9921 344.456 Q50.9921 353.183 47.9134 357.789 Q44.8579 362.372 39.0477 362.372 Q33.2376 362.372 30.1589 357.789 Q27.1034 353.183 27.1034 344.456 Q27.1034 335.706 30.1589 331.122 Q33.2376 326.516 39.0477 326.516 Z\" fill=\"#000000\" fill-rule=\"evenodd\" fill-opacity=\"1\" /><path clip-path=\"url(#clip500)\" d=\"M 0 0 M410.581 6.912 L430.442 6.912 L430.442 10.8472 L415.257 10.8472 L415.257 21.0323 L428.961 21.0323 L428.961 24.9675 L415.257 24.9675 L415.257 41.472 L410.581 41.472 L410.581 6.912 Z\" fill=\"#000000\" fill-rule=\"evenodd\" fill-opacity=\"1\" /><path clip-path=\"url(#clip500)\" d=\"M 0 0 M431.877 31.2406 L431.877 15.5462 L436.137 15.5462 L436.137 31.0785 Q436.137 34.7591 437.572 36.6109 Q439.007 38.4396 441.877 38.4396 Q445.326 38.4396 447.317 36.2405 Q449.331 34.0415 449.331 30.2452 L449.331 15.5462 L453.59 15.5462 L453.59 41.472 L449.331 41.472 L449.331 37.4905 Q447.78 39.8516 445.72 41.009 Q443.683 42.1433 440.975 42.1433 Q436.507 42.1433 434.192 39.3655 Q431.877 36.5878 431.877 31.2406 M442.595 14.9212 L442.595 14.9212 Z\" fill=\"#000000\" fill-rule=\"evenodd\" fill-opacity=\"1\" /><path clip-path=\"url(#clip500)\" d=\"M 0 0 M456.206 15.5462 L476.437 15.5462 L476.437 19.4351 L460.419 38.0692 L476.437 38.0692 L476.437 41.472 L455.627 41.472 L455.627 37.5831 L471.646 18.949 L456.206 18.949 L456.206 15.5462 Z\" fill=\"#000000\" fill-rule=\"evenodd\" fill-opacity=\"1\" /><path clip-path=\"url(#clip500)\" d=\"M 0 0 M479.053 15.5462 L499.284 15.5462 L499.284 19.4351 L483.266 38.0692 L499.284 38.0692 L499.284 41.472 L478.474 41.472 L478.474 37.5831 L494.493 18.949 L479.053 18.949 L479.053 15.5462 Z\" fill=\"#000000\" fill-rule=\"evenodd\" fill-opacity=\"1\" /><path clip-path=\"url(#clip500)\" d=\"M 0 0 M514.539 43.8794 Q512.733 48.509 511.02 49.921 Q509.307 51.3331 506.437 51.3331 L503.034 51.3331 L503.034 47.7683 L505.534 47.7683 Q507.294 47.7683 508.266 46.9349 Q509.238 46.1016 510.419 42.9998 L511.182 41.0553 L500.696 15.5462 L505.21 15.5462 L513.312 35.8239 L521.414 15.5462 L525.928 15.5462 L514.539 43.8794 Z\" fill=\"#000000\" fill-rule=\"evenodd\" fill-opacity=\"1\" /><path clip-path=\"url(#clip500)\" d=\"M 0 0 M542.131 11.5185 L535.789 28.7174 L548.497 28.7174 L542.131 11.5185 M539.493 6.912 L544.793 6.912 L557.965 41.472 L553.104 41.472 L549.955 32.6063 L534.377 32.6063 L531.229 41.472 L526.298 41.472 L539.493 6.912 Z\" fill=\"#000000\" fill-rule=\"evenodd\" fill-opacity=\"1\" /><path clip-path=\"url(#clip500)\" d=\"M 0 0 M579.006 25.2684 Q580.511 25.7776 581.923 27.4443 Q583.358 29.111 584.793 32.0276 L589.539 41.472 L584.515 41.472 L580.094 32.6063 Q578.381 29.1341 576.761 27.9998 Q575.164 26.8656 572.386 26.8656 L567.293 26.8656 L567.293 41.472 L562.617 41.472 L562.617 6.912 L573.173 6.912 Q579.099 6.912 582.015 9.38884 Q584.932 11.8657 584.932 16.8657 Q584.932 20.1295 583.404 22.2823 Q581.9 24.4351 579.006 25.2684 M567.293 10.7546 L567.293 23.023 L573.173 23.023 Q576.552 23.023 578.265 21.4721 Q580.002 19.898 580.002 16.8657 Q580.002 13.8333 578.265 12.3055 Q576.552 10.7546 573.173 10.7546 L567.293 10.7546 Z\" fill=\"#000000\" fill-rule=\"evenodd\" fill-opacity=\"1\" /><path clip-path=\"url(#clip500)\" d=\"M 0 0 M585.951 6.912 L615.187 6.912 L615.187 10.8472 L602.918 10.8472 L602.918 41.472 L598.219 41.472 L598.219 10.8472 L585.951 10.8472 L585.951 6.912 Z\" fill=\"#000000\" fill-rule=\"evenodd\" fill-opacity=\"1\" /><path clip-path=\"url(#clip500)\" d=\"M 0 0 M649.747 19.5277 Q649.029 19.111 648.172 18.9258 Q647.339 18.7175 646.321 18.7175 Q642.71 18.7175 640.765 21.0786 Q638.844 23.4165 638.844 27.8147 L638.844 41.472 L634.561 41.472 L634.561 15.5462 L638.844 15.5462 L638.844 19.574 Q640.186 17.2129 642.339 16.0786 Q644.492 14.9212 647.571 14.9212 Q648.01 14.9212 648.543 14.9907 Q649.075 15.037 649.723 15.1527 L649.747 19.5277 Z\" fill=\"#000000\" fill-rule=\"evenodd\" fill-opacity=\"1\" /><path clip-path=\"url(#clip500)\" d=\"M 0 0 M674.932 25.8239 L674.932 41.472 L670.672 41.472 L670.672 25.9628 Q670.672 22.2823 669.237 20.4536 Q667.802 18.6249 664.932 18.6249 Q661.483 18.6249 659.492 20.824 Q657.501 23.023 657.501 26.8193 L657.501 41.472 L653.219 41.472 L653.219 5.45367 L657.501 5.45367 L657.501 19.574 Q659.029 17.236 661.089 16.0786 Q663.172 14.9212 665.881 14.9212 Q670.348 14.9212 672.64 17.699 Q674.932 20.4536 674.932 25.8239 Z\" fill=\"#000000\" fill-rule=\"evenodd\" fill-opacity=\"1\" /><path clip-path=\"url(#clip500)\" d=\"M 0 0 M689.445 18.5323 Q686.019 18.5323 684.029 21.2175 Q682.038 23.8795 682.038 28.5323 Q682.038 33.185 684.006 35.8702 Q685.996 38.5322 689.445 38.5322 Q692.848 38.5322 694.839 35.847 Q696.83 33.1619 696.83 28.5323 Q696.83 23.9258 694.839 21.2406 Q692.848 18.5323 689.445 18.5323 M689.445 14.9212 Q695.001 14.9212 698.172 18.5323 Q701.343 22.1434 701.343 28.5323 Q701.343 34.898 698.172 38.5322 Q695.001 42.1433 689.445 42.1433 Q683.867 42.1433 680.695 38.5322 Q677.547 34.898 677.547 28.5323 Q677.547 22.1434 680.695 18.5323 Q683.867 14.9212 689.445 14.9212 Z\" fill=\"#000000\" fill-rule=\"evenodd\" fill-opacity=\"1\" /><path clip-path=\"url(#clip500)\" d=\"M 0 0 M721.436 19.9443 L751.112 19.9443 L751.112 23.8332 L721.436 23.8332 L721.436 19.9443 M721.436 29.3887 L751.112 29.3887 L751.112 33.3239 L721.436 33.3239 L721.436 29.3887 Z\" fill=\"#000000\" fill-rule=\"evenodd\" fill-opacity=\"1\" /><path clip-path=\"url(#clip500)\" d=\"M 0 0 M781.25 9.99069 Q777.639 9.99069 775.811 13.5555 Q774.005 17.0971 774.005 24.2267 Q774.005 31.3332 775.811 34.898 Q777.639 38.4396 781.25 38.4396 Q784.885 38.4396 786.69 34.898 Q788.519 31.3332 788.519 24.2267 Q788.519 17.0971 786.69 13.5555 Q784.885 9.99069 781.25 9.99069 M781.25 6.287 Q787.061 6.287 790.116 10.8935 Q793.195 15.4768 793.195 24.2267 Q793.195 32.9535 790.116 37.56 Q787.061 42.1433 781.25 42.1433 Q775.44 42.1433 772.362 37.56 Q769.306 32.9535 769.306 24.2267 Q769.306 15.4768 772.362 10.8935 Q775.44 6.287 781.25 6.287 Z\" fill=\"#000000\" fill-rule=\"evenodd\" fill-opacity=\"1\" /><path clip-path=\"url(#clip500)\" d=\"M 0 0 M798.264 35.5924 L803.148 35.5924 L803.148 41.472 L798.264 41.472 L798.264 35.5924 Z\" fill=\"#000000\" fill-rule=\"evenodd\" fill-opacity=\"1\" /><path clip-path=\"url(#clip500)\" d=\"M 0 0 M808.264 6.912 L826.621 6.912 L826.621 10.8472 L812.547 10.8472 L812.547 19.3193 Q813.565 18.9721 814.584 18.8101 Q815.602 18.6249 816.621 18.6249 Q822.408 18.6249 825.787 21.7962 Q829.167 24.9675 829.167 30.3841 Q829.167 35.9628 825.695 39.0646 Q822.222 42.1433 815.903 42.1433 Q813.727 42.1433 811.459 41.7729 Q809.213 41.4026 806.806 40.6618 L806.806 35.9628 Q808.889 37.097 811.111 37.6526 Q813.334 38.2081 815.81 38.2081 Q819.815 38.2081 822.153 36.1017 Q824.491 33.9952 824.491 30.3841 Q824.491 26.773 822.153 24.6665 Q819.815 22.5601 815.81 22.5601 Q813.935 22.5601 812.06 22.9767 Q810.209 23.3934 808.264 24.273 L808.264 6.912 Z\" fill=\"#000000\" fill-rule=\"evenodd\" fill-opacity=\"1\" /><circle clip-path=\"url(#clip502)\" cx=\"1011.61\" cy=\"734.708\" r=\"14\" fill=\"#009af9\" fill-rule=\"evenodd\" fill-opacity=\"1\" stroke=\"#000000\" stroke-opacity=\"1\" stroke-width=\"3.2\"/>\n",
       "<circle clip-path=\"url(#clip502)\" cx=\"1061.95\" cy=\"462.331\" r=\"14\" fill=\"#009af9\" fill-rule=\"evenodd\" fill-opacity=\"1\" stroke=\"#000000\" stroke-opacity=\"1\" stroke-width=\"3.2\"/>\n",
       "<circle clip-path=\"url(#clip502)\" cx=\"1043.46\" cy=\"1082.73\" r=\"14\" fill=\"#009af9\" fill-rule=\"evenodd\" fill-opacity=\"1\" stroke=\"#000000\" stroke-opacity=\"1\" stroke-width=\"3.2\"/>\n",
       "<circle clip-path=\"url(#clip502)\" cx=\"1023.44\" cy=\"120.96\" r=\"14\" fill=\"#009af9\" fill-rule=\"evenodd\" fill-opacity=\"1\" stroke=\"#000000\" stroke-opacity=\"1\" stroke-width=\"3.2\"/>\n",
       "<circle clip-path=\"url(#clip502)\" cx=\"1070.24\" cy=\"1061.75\" r=\"14\" fill=\"#009af9\" fill-rule=\"evenodd\" fill-opacity=\"1\" stroke=\"#000000\" stroke-opacity=\"1\" stroke-width=\"3.2\"/>\n",
       "<circle clip-path=\"url(#clip502)\" cx=\"1056.28\" cy=\"655.238\" r=\"14\" fill=\"#009af9\" fill-rule=\"evenodd\" fill-opacity=\"1\" stroke=\"#000000\" stroke-opacity=\"1\" stroke-width=\"3.2\"/>\n",
       "<circle clip-path=\"url(#clip502)\" cx=\"1085.78\" cy=\"816.902\" r=\"14\" fill=\"#009af9\" fill-rule=\"evenodd\" fill-opacity=\"1\" stroke=\"#000000\" stroke-opacity=\"1\" stroke-width=\"3.2\"/>\n",
       "<circle clip-path=\"url(#clip502)\" cx=\"1081.95\" cy=\"1194.26\" r=\"14\" fill=\"#009af9\" fill-rule=\"evenodd\" fill-opacity=\"1\" stroke=\"#000000\" stroke-opacity=\"1\" stroke-width=\"3.2\"/>\n",
       "<circle clip-path=\"url(#clip502)\" cx=\"1122.59\" cy=\"1209.29\" r=\"14\" fill=\"#009af9\" fill-rule=\"evenodd\" fill-opacity=\"1\" stroke=\"#000000\" stroke-opacity=\"1\" stroke-width=\"3.2\"/>\n",
       "<circle clip-path=\"url(#clip502)\" cx=\"1052.25\" cy=\"749.735\" r=\"14\" fill=\"#009af9\" fill-rule=\"evenodd\" fill-opacity=\"1\" stroke=\"#000000\" stroke-opacity=\"1\" stroke-width=\"3.2\"/>\n",
       "<circle clip-path=\"url(#clip502)\" cx=\"1057.86\" cy=\"279.589\" r=\"14\" fill=\"#009af9\" fill-rule=\"evenodd\" fill-opacity=\"1\" stroke=\"#000000\" stroke-opacity=\"1\" stroke-width=\"3.2\"/>\n",
       "<circle clip-path=\"url(#clip502)\" cx=\"1119.94\" cy=\"1303.88\" r=\"14\" fill=\"#009af9\" fill-rule=\"evenodd\" fill-opacity=\"1\" stroke=\"#000000\" stroke-opacity=\"1\" stroke-width=\"3.2\"/>\n",
       "<circle clip-path=\"url(#clip502)\" cx=\"1048.25\" cy=\"661.788\" r=\"14\" fill=\"#009af9\" fill-rule=\"evenodd\" fill-opacity=\"1\" stroke=\"#000000\" stroke-opacity=\"1\" stroke-width=\"3.2\"/>\n",
       "<circle clip-path=\"url(#clip502)\" cx=\"1049.07\" cy=\"612.583\" r=\"14\" fill=\"#009af9\" fill-rule=\"evenodd\" fill-opacity=\"1\" stroke=\"#000000\" stroke-opacity=\"1\" stroke-width=\"3.2\"/>\n",
       "<circle clip-path=\"url(#clip502)\" cx=\"1037.19\" cy=\"903.22\" r=\"14\" fill=\"#009af9\" fill-rule=\"evenodd\" fill-opacity=\"1\" stroke=\"#000000\" stroke-opacity=\"1\" stroke-width=\"3.2\"/>\n",
       "<circle clip-path=\"url(#clip502)\" cx=\"523.539\" cy=\"895.124\" r=\"14\" fill=\"#e26f46\" fill-rule=\"evenodd\" fill-opacity=\"1\" stroke=\"#000000\" stroke-opacity=\"1\" stroke-width=\"3.2\"/>\n",
       "<circle clip-path=\"url(#clip502)\" cx=\"535.209\" cy=\"980.234\" r=\"14\" fill=\"#e26f46\" fill-rule=\"evenodd\" fill-opacity=\"1\" stroke=\"#000000\" stroke-opacity=\"1\" stroke-width=\"3.2\"/>\n",
       "<circle clip-path=\"url(#clip502)\" cx=\"470.401\" cy=\"844.192\" r=\"14\" fill=\"#e26f46\" fill-rule=\"evenodd\" fill-opacity=\"1\" stroke=\"#000000\" stroke-opacity=\"1\" stroke-width=\"3.2\"/>\n",
       "<circle clip-path=\"url(#clip502)\" cx=\"631.779\" cy=\"1369.5\" r=\"14\" fill=\"#e26f46\" fill-rule=\"evenodd\" fill-opacity=\"1\" stroke=\"#000000\" stroke-opacity=\"1\" stroke-width=\"3.2\"/>\n",
       "<circle clip-path=\"url(#clip502)\" cx=\"785.357\" cy=\"1479.74\" r=\"14\" fill=\"#e26f46\" fill-rule=\"evenodd\" fill-opacity=\"1\" stroke=\"#000000\" stroke-opacity=\"1\" stroke-width=\"3.2\"/>\n",
       "<circle clip-path=\"url(#clip502)\" cx=\"616.974\" cy=\"1194.64\" r=\"14\" fill=\"#e26f46\" fill-rule=\"evenodd\" fill-opacity=\"1\" stroke=\"#000000\" stroke-opacity=\"1\" stroke-width=\"3.2\"/>\n",
       "<circle clip-path=\"url(#clip502)\" cx=\"493.583\" cy=\"778.95\" r=\"14\" fill=\"#e26f46\" fill-rule=\"evenodd\" fill-opacity=\"1\" stroke=\"#000000\" stroke-opacity=\"1\" stroke-width=\"3.2\"/>\n",
       "<circle clip-path=\"url(#clip502)\" cx=\"612.211\" cy=\"1433.13\" r=\"14\" fill=\"#e26f46\" fill-rule=\"evenodd\" fill-opacity=\"1\" stroke=\"#000000\" stroke-opacity=\"1\" stroke-width=\"3.2\"/>\n",
       "<circle clip-path=\"url(#clip502)\" cx=\"543.99\" cy=\"1305.85\" r=\"14\" fill=\"#e26f46\" fill-rule=\"evenodd\" fill-opacity=\"1\" stroke=\"#000000\" stroke-opacity=\"1\" stroke-width=\"3.2\"/>\n",
       "<circle clip-path=\"url(#clip502)\" cx=\"564.039\" cy=\"1426.57\" r=\"14\" fill=\"#e26f46\" fill-rule=\"evenodd\" fill-opacity=\"1\" stroke=\"#000000\" stroke-opacity=\"1\" stroke-width=\"3.2\"/>\n",
       "<circle clip-path=\"url(#clip502)\" cx=\"596.425\" cy=\"1347.73\" r=\"14\" fill=\"#e26f46\" fill-rule=\"evenodd\" fill-opacity=\"1\" stroke=\"#000000\" stroke-opacity=\"1\" stroke-width=\"3.2\"/>\n",
       "<circle clip-path=\"url(#clip502)\" cx=\"495.113\" cy=\"1014.51\" r=\"14\" fill=\"#e26f46\" fill-rule=\"evenodd\" fill-opacity=\"1\" stroke=\"#000000\" stroke-opacity=\"1\" stroke-width=\"3.2\"/>\n",
       "<circle clip-path=\"url(#clip502)\" cx=\"666.976\" cy=\"1155.82\" r=\"14\" fill=\"#e26f46\" fill-rule=\"evenodd\" fill-opacity=\"1\" stroke=\"#000000\" stroke-opacity=\"1\" stroke-width=\"3.2\"/>\n",
       "<circle clip-path=\"url(#clip502)\" cx=\"585.324\" cy=\"1129.48\" r=\"14\" fill=\"#e26f46\" fill-rule=\"evenodd\" fill-opacity=\"1\" stroke=\"#000000\" stroke-opacity=\"1\" stroke-width=\"3.2\"/>\n",
       "<circle clip-path=\"url(#clip502)\" cx=\"414.83\" cy=\"1124.84\" r=\"14\" fill=\"#3da44d\" fill-rule=\"evenodd\" fill-opacity=\"1\" stroke=\"#000000\" stroke-opacity=\"1\" stroke-width=\"3.2\"/>\n",
       "<circle clip-path=\"url(#clip502)\" cx=\"264.433\" cy=\"1151.75\" r=\"14\" fill=\"#3da44d\" fill-rule=\"evenodd\" fill-opacity=\"1\" stroke=\"#000000\" stroke-opacity=\"1\" stroke-width=\"3.2\"/>\n",
       "<circle clip-path=\"url(#clip502)\" cx=\"290.403\" cy=\"1134.11\" r=\"14\" fill=\"#3da44d\" fill-rule=\"evenodd\" fill-opacity=\"1\" stroke=\"#000000\" stroke-opacity=\"1\" stroke-width=\"3.2\"/>\n",
       "<circle clip-path=\"url(#clip502)\" cx=\"430.483\" cy=\"1068.06\" r=\"14\" fill=\"#3da44d\" fill-rule=\"evenodd\" fill-opacity=\"1\" stroke=\"#000000\" stroke-opacity=\"1\" stroke-width=\"3.2\"/>\n",
       "<circle clip-path=\"url(#clip502)\" cx=\"347.915\" cy=\"1132.7\" r=\"14\" fill=\"#3da44d\" fill-rule=\"evenodd\" fill-opacity=\"1\" stroke=\"#000000\" stroke-opacity=\"1\" stroke-width=\"3.2\"/>\n",
       "<circle clip-path=\"url(#clip502)\" cx=\"416.271\" cy=\"1265.61\" r=\"14\" fill=\"#3da44d\" fill-rule=\"evenodd\" fill-opacity=\"1\" stroke=\"#000000\" stroke-opacity=\"1\" stroke-width=\"3.2\"/>\n",
       "<circle clip-path=\"url(#clip502)\" cx=\"117.155\" cy=\"104.257\" r=\"14\" fill=\"#3da44d\" fill-rule=\"evenodd\" fill-opacity=\"1\" stroke=\"#000000\" stroke-opacity=\"1\" stroke-width=\"3.2\"/>\n",
       "<circle clip-path=\"url(#clip502)\" cx=\"298.646\" cy=\"751.81\" r=\"14\" fill=\"#3da44d\" fill-rule=\"evenodd\" fill-opacity=\"1\" stroke=\"#000000\" stroke-opacity=\"1\" stroke-width=\"3.2\"/>\n",
       "<circle clip-path=\"url(#clip502)\" cx=\"180.313\" cy=\"750.993\" r=\"14\" fill=\"#3da44d\" fill-rule=\"evenodd\" fill-opacity=\"1\" stroke=\"#000000\" stroke-opacity=\"1\" stroke-width=\"3.2\"/>\n",
       "<circle clip-path=\"url(#clip502)\" cx=\"265.299\" cy=\"874.233\" r=\"14\" fill=\"#3da44d\" fill-rule=\"evenodd\" fill-opacity=\"1\" stroke=\"#000000\" stroke-opacity=\"1\" stroke-width=\"3.2\"/>\n",
       "<circle clip-path=\"url(#clip502)\" cx=\"370.572\" cy=\"835.712\" r=\"14\" fill=\"#3da44d\" fill-rule=\"evenodd\" fill-opacity=\"1\" stroke=\"#000000\" stroke-opacity=\"1\" stroke-width=\"3.2\"/>\n",
       "<circle clip-path=\"url(#clip502)\" cx=\"354.094\" cy=\"941.701\" r=\"14\" fill=\"#3da44d\" fill-rule=\"evenodd\" fill-opacity=\"1\" stroke=\"#000000\" stroke-opacity=\"1\" stroke-width=\"3.2\"/>\n",
       "<circle clip-path=\"url(#clip502)\" cx=\"271.504\" cy=\"776.503\" r=\"14\" fill=\"#3da44d\" fill-rule=\"evenodd\" fill-opacity=\"1\" stroke=\"#000000\" stroke-opacity=\"1\" stroke-width=\"3.2\"/>\n",
       "<circle clip-path=\"url(#clip502)\" cx=\"382.944\" cy=\"1342.16\" r=\"14\" fill=\"#3da44d\" fill-rule=\"evenodd\" fill-opacity=\"1\" stroke=\"#000000\" stroke-opacity=\"1\" stroke-width=\"3.2\"/>\n",
       "<circle clip-path=\"url(#clip502)\" cx=\"289.331\" cy=\"853.056\" r=\"14\" fill=\"#3da44d\" fill-rule=\"evenodd\" fill-opacity=\"1\" stroke=\"#000000\" stroke-opacity=\"1\" stroke-width=\"3.2\"/>\n",
       "<circle clip-path=\"url(#clip502)\" cx=\"142.3\" cy=\"548.1\" r=\"14\" fill=\"#3da44d\" fill-rule=\"evenodd\" fill-opacity=\"1\" stroke=\"#000000\" stroke-opacity=\"1\" stroke-width=\"3.2\"/>\n",
       "<path clip-path=\"url(#clip500)\" d=\"\n",
       "M1286.99 1521.01 L2352.76 1521.01 L2352.76 62.9921 L1286.99 62.9921  Z\n",
       "  \" fill=\"#ffffff\" fill-rule=\"evenodd\" fill-opacity=\"1\"/>\n",
       "<defs>\n",
       "  <clipPath id=\"clip503\">\n",
       "    <rect x=\"1286\" y=\"62\" width=\"1067\" height=\"1459\"/>\n",
       "  </clipPath>\n",
       "</defs>\n",
       "<polyline clip-path=\"url(#clip503)\" style=\"stroke:#000000; stroke-width:2; stroke-opacity:0.1; fill:none\" points=\"\n",
       "  1354.65,1521.01 1354.65,62.9921 \n",
       "  \"/>\n",
       "<polyline clip-path=\"url(#clip503)\" style=\"stroke:#000000; stroke-width:2; stroke-opacity:0.1; fill:none\" points=\"\n",
       "  1516.02,1521.01 1516.02,62.9921 \n",
       "  \"/>\n",
       "<polyline clip-path=\"url(#clip503)\" style=\"stroke:#000000; stroke-width:2; stroke-opacity:0.1; fill:none\" points=\"\n",
       "  1677.39,1521.01 1677.39,62.9921 \n",
       "  \"/>\n",
       "<polyline clip-path=\"url(#clip503)\" style=\"stroke:#000000; stroke-width:2; stroke-opacity:0.1; fill:none\" points=\"\n",
       "  1838.76,1521.01 1838.76,62.9921 \n",
       "  \"/>\n",
       "<polyline clip-path=\"url(#clip503)\" style=\"stroke:#000000; stroke-width:2; stroke-opacity:0.1; fill:none\" points=\"\n",
       "  2000.13,1521.01 2000.13,62.9921 \n",
       "  \"/>\n",
       "<polyline clip-path=\"url(#clip503)\" style=\"stroke:#000000; stroke-width:2; stroke-opacity:0.1; fill:none\" points=\"\n",
       "  2161.5,1521.01 2161.5,62.9921 \n",
       "  \"/>\n",
       "<polyline clip-path=\"url(#clip503)\" style=\"stroke:#000000; stroke-width:2; stroke-opacity:0.1; fill:none\" points=\"\n",
       "  2322.87,1521.01 2322.87,62.9921 \n",
       "  \"/>\n",
       "<polyline clip-path=\"url(#clip500)\" style=\"stroke:#000000; stroke-width:4; stroke-opacity:1; fill:none\" points=\"\n",
       "  1286.99,1521.01 2352.76,1521.01 \n",
       "  \"/>\n",
       "<polyline clip-path=\"url(#clip500)\" style=\"stroke:#000000; stroke-width:4; stroke-opacity:1; fill:none\" points=\"\n",
       "  1354.65,1521.01 1354.65,1503.51 \n",
       "  \"/>\n",
       "<polyline clip-path=\"url(#clip500)\" style=\"stroke:#000000; stroke-width:4; stroke-opacity:1; fill:none\" points=\"\n",
       "  1516.02,1521.01 1516.02,1503.51 \n",
       "  \"/>\n",
       "<polyline clip-path=\"url(#clip500)\" style=\"stroke:#000000; stroke-width:4; stroke-opacity:1; fill:none\" points=\"\n",
       "  1677.39,1521.01 1677.39,1503.51 \n",
       "  \"/>\n",
       "<polyline clip-path=\"url(#clip500)\" style=\"stroke:#000000; stroke-width:4; stroke-opacity:1; fill:none\" points=\"\n",
       "  1838.76,1521.01 1838.76,1503.51 \n",
       "  \"/>\n",
       "<polyline clip-path=\"url(#clip500)\" style=\"stroke:#000000; stroke-width:4; stroke-opacity:1; fill:none\" points=\"\n",
       "  2000.13,1521.01 2000.13,1503.51 \n",
       "  \"/>\n",
       "<polyline clip-path=\"url(#clip500)\" style=\"stroke:#000000; stroke-width:4; stroke-opacity:1; fill:none\" points=\"\n",
       "  2161.5,1521.01 2161.5,1503.51 \n",
       "  \"/>\n",
       "<polyline clip-path=\"url(#clip500)\" style=\"stroke:#000000; stroke-width:4; stroke-opacity:1; fill:none\" points=\"\n",
       "  2322.87,1521.01 2322.87,1503.51 \n",
       "  \"/>\n",
       "<path clip-path=\"url(#clip500)\" d=\"M 0 0 M1333.63 1558.69 L1355.89 1558.69 L1355.89 1561.64 L1333.63 1561.64 L1333.63 1558.69 Z\" fill=\"#000000\" fill-rule=\"evenodd\" fill-opacity=\"1\" /><path clip-path=\"url(#clip500)\" d=\"M 0 0 M1370.32 1557.34 Q1372.83 1557.87 1374.24 1559.58 Q1375.66 1561.28 1375.66 1563.78 Q1375.66 1567.61 1373.03 1569.71 Q1370.39 1571.82 1365.53 1571.82 Q1363.89 1571.82 1362.16 1571.49 Q1360.44 1571.17 1358.6 1570.53 L1358.6 1567.15 Q1360.06 1568 1361.79 1568.43 Q1363.53 1568.86 1365.42 1568.86 Q1368.72 1568.86 1370.44 1567.56 Q1372.17 1566.26 1372.17 1563.78 Q1372.17 1561.49 1370.56 1560.2 Q1368.96 1558.9 1366.1 1558.9 L1363.08 1558.9 L1363.08 1556.02 L1366.24 1556.02 Q1368.82 1556.02 1370.2 1554.99 Q1371.57 1553.95 1371.57 1552.01 Q1371.57 1550.01 1370.14 1548.95 Q1368.74 1547.87 1366.1 1547.87 Q1364.66 1547.87 1363.01 1548.19 Q1361.36 1548.5 1359.38 1549.16 L1359.38 1546.03 Q1361.38 1545.48 1363.11 1545.2 Q1364.87 1544.92 1366.41 1544.92 Q1370.4 1544.92 1372.73 1546.75 Q1375.06 1548.55 1375.06 1551.64 Q1375.06 1553.79 1373.82 1555.29 Q1372.59 1556.76 1370.32 1557.34 Z\" fill=\"#000000\" fill-rule=\"evenodd\" fill-opacity=\"1\" /><path clip-path=\"url(#clip500)\" d=\"M 0 0 M1495.36 1558.69 L1517.62 1558.69 L1517.62 1561.64 L1495.36 1561.64 L1495.36 1558.69 Z\" fill=\"#000000\" fill-rule=\"evenodd\" fill-opacity=\"1\" /><path clip-path=\"url(#clip500)\" d=\"M 0 0 M1524.44 1568.36 L1536.68 1568.36 L1536.68 1571.31 L1520.22 1571.31 L1520.22 1568.36 Q1522.22 1566.29 1525.65 1562.82 Q1529.11 1559.33 1529.99 1558.33 Q1531.68 1556.43 1532.34 1555.13 Q1533.01 1553.81 1533.01 1552.54 Q1533.01 1550.48 1531.56 1549.18 Q1530.12 1547.87 1527.79 1547.87 Q1526.14 1547.87 1524.3 1548.45 Q1522.48 1549.02 1520.39 1550.18 L1520.39 1546.64 Q1522.51 1545.79 1524.35 1545.36 Q1526.19 1544.92 1527.72 1544.92 Q1531.75 1544.92 1534.14 1546.94 Q1536.54 1548.95 1536.54 1552.32 Q1536.54 1553.92 1535.93 1555.36 Q1535.34 1556.78 1533.76 1558.73 Q1533.33 1559.23 1531 1561.64 Q1528.67 1564.04 1524.44 1568.36 Z\" fill=\"#000000\" fill-rule=\"evenodd\" fill-opacity=\"1\" /><path clip-path=\"url(#clip500)\" d=\"M 0 0 M1656.59 1558.69 L1678.85 1558.69 L1678.85 1561.64 L1656.59 1561.64 L1656.59 1558.69 Z\" fill=\"#000000\" fill-rule=\"evenodd\" fill-opacity=\"1\" /><path clip-path=\"url(#clip500)\" d=\"M 0 0 M1683.26 1568.36 L1688.99 1568.36 L1688.99 1548.59 L1682.75 1549.84 L1682.75 1546.64 L1688.95 1545.39 L1692.46 1545.39 L1692.46 1568.36 L1698.19 1568.36 L1698.19 1571.31 L1683.26 1571.31 L1683.26 1568.36 Z\" fill=\"#000000\" fill-rule=\"evenodd\" fill-opacity=\"1\" /><path clip-path=\"url(#clip500)\" d=\"M 0 0 M1838.76 1547.7 Q1836.05 1547.7 1834.68 1550.37 Q1833.32 1553.03 1833.32 1558.38 Q1833.32 1563.71 1834.68 1566.38 Q1836.05 1569.04 1838.76 1569.04 Q1841.48 1569.04 1842.84 1566.38 Q1844.21 1563.71 1844.21 1558.38 Q1844.21 1553.03 1842.84 1550.37 Q1841.48 1547.7 1838.76 1547.7 M1838.76 1544.92 Q1843.12 1544.92 1845.41 1548.38 Q1847.72 1551.82 1847.72 1558.38 Q1847.72 1564.92 1845.41 1568.38 Q1843.12 1571.82 1838.76 1571.82 Q1834.4 1571.82 1832.09 1568.38 Q1829.8 1564.92 1829.8 1558.38 Q1829.8 1551.82 1832.09 1548.38 Q1834.4 1544.92 1838.76 1544.92 Z\" fill=\"#000000\" fill-rule=\"evenodd\" fill-opacity=\"1\" /><path clip-path=\"url(#clip500)\" d=\"M 0 0 M1992.91 1568.36 L1998.64 1568.36 L1998.64 1548.59 L1992.41 1549.84 L1992.41 1546.64 L1998.61 1545.39 L2002.12 1545.39 L2002.12 1568.36 L2007.84 1568.36 L2007.84 1571.31 L1992.91 1571.31 L1992.91 1568.36 Z\" fill=\"#000000\" fill-rule=\"evenodd\" fill-opacity=\"1\" /><path clip-path=\"url(#clip500)\" d=\"M 0 0 M2157.49 1568.36 L2169.73 1568.36 L2169.73 1571.31 L2153.27 1571.31 L2153.27 1568.36 Q2155.27 1566.29 2158.7 1562.82 Q2162.16 1559.33 2163.04 1558.33 Q2164.73 1556.43 2165.39 1555.13 Q2166.06 1553.81 2166.06 1552.54 Q2166.06 1550.48 2164.61 1549.18 Q2163.16 1547.87 2160.84 1547.87 Q2159.19 1547.87 2157.35 1548.45 Q2155.53 1549.02 2153.44 1550.18 L2153.44 1546.64 Q2155.56 1545.79 2157.4 1545.36 Q2159.24 1544.92 2160.77 1544.92 Q2164.8 1544.92 2167.19 1546.94 Q2169.59 1548.95 2169.59 1552.32 Q2169.59 1553.92 2168.98 1555.36 Q2168.39 1556.78 2166.81 1558.73 Q2166.38 1559.23 2164.05 1561.64 Q2161.72 1564.04 2157.49 1568.36 Z\" fill=\"#000000\" fill-rule=\"evenodd\" fill-opacity=\"1\" /><path clip-path=\"url(#clip500)\" d=\"M 0 0 M2326.05 1557.34 Q2328.57 1557.87 2329.98 1559.58 Q2331.4 1561.28 2331.4 1563.78 Q2331.4 1567.61 2328.76 1569.71 Q2326.12 1571.82 2321.26 1571.82 Q2319.63 1571.82 2317.89 1571.49 Q2316.18 1571.17 2314.33 1570.53 L2314.33 1567.15 Q2315.79 1568 2317.53 1568.43 Q2319.27 1568.86 2321.16 1568.86 Q2324.46 1568.86 2326.17 1567.56 Q2327.91 1566.26 2327.91 1563.78 Q2327.91 1561.49 2326.3 1560.2 Q2324.7 1558.9 2321.83 1558.9 L2318.81 1558.9 L2318.81 1556.02 L2321.97 1556.02 Q2324.56 1556.02 2325.93 1554.99 Q2327.3 1553.95 2327.3 1552.01 Q2327.3 1550.01 2325.88 1548.95 Q2324.47 1547.87 2321.83 1547.87 Q2320.39 1547.87 2318.74 1548.19 Q2317.1 1548.5 2315.12 1549.16 L2315.12 1546.03 Q2317.11 1545.48 2318.85 1545.2 Q2320.6 1544.92 2322.15 1544.92 Q2326.14 1544.92 2328.47 1546.75 Q2330.79 1548.55 2330.79 1551.64 Q2330.79 1553.79 2329.56 1555.29 Q2328.33 1556.76 2326.05 1557.34 Z\" fill=\"#000000\" fill-rule=\"evenodd\" fill-opacity=\"1\" /><polyline clip-path=\"url(#clip503)\" style=\"stroke:#000000; stroke-width:2; stroke-opacity:0.1; fill:none\" points=\"\n",
       "  1286.99,1316.68 2352.76,1316.68 \n",
       "  \"/>\n",
       "<polyline clip-path=\"url(#clip503)\" style=\"stroke:#000000; stroke-width:2; stroke-opacity:0.1; fill:none\" points=\"\n",
       "  1286.99,992.596 2352.76,992.596 \n",
       "  \"/>\n",
       "<polyline clip-path=\"url(#clip503)\" style=\"stroke:#000000; stroke-width:2; stroke-opacity:0.1; fill:none\" points=\"\n",
       "  1286.99,668.508 2352.76,668.508 \n",
       "  \"/>\n",
       "<polyline clip-path=\"url(#clip503)\" style=\"stroke:#000000; stroke-width:2; stroke-opacity:0.1; fill:none\" points=\"\n",
       "  1286.99,344.421 2352.76,344.421 \n",
       "  \"/>\n",
       "<polyline clip-path=\"url(#clip500)\" style=\"stroke:#000000; stroke-width:4; stroke-opacity:1; fill:none\" points=\"\n",
       "  1286.99,1521.01 1286.99,62.9921 \n",
       "  \"/>\n",
       "<polyline clip-path=\"url(#clip500)\" style=\"stroke:#000000; stroke-width:4; stroke-opacity:1; fill:none\" points=\"\n",
       "  1286.99,1316.68 1299.78,1316.68 \n",
       "  \"/>\n",
       "<polyline clip-path=\"url(#clip500)\" style=\"stroke:#000000; stroke-width:4; stroke-opacity:1; fill:none\" points=\"\n",
       "  1286.99,992.596 1299.78,992.596 \n",
       "  \"/>\n",
       "<polyline clip-path=\"url(#clip500)\" style=\"stroke:#000000; stroke-width:4; stroke-opacity:1; fill:none\" points=\"\n",
       "  1286.99,668.508 1299.78,668.508 \n",
       "  \"/>\n",
       "<polyline clip-path=\"url(#clip500)\" style=\"stroke:#000000; stroke-width:4; stroke-opacity:1; fill:none\" points=\"\n",
       "  1286.99,344.421 1299.78,344.421 \n",
       "  \"/>\n",
       "<path clip-path=\"url(#clip500)\" d=\"M 0 0 M1158.33 1317.13 L1188.01 1317.13 L1188.01 1321.07 L1158.33 1321.07 L1158.33 1317.13 Z\" fill=\"#000000\" fill-rule=\"evenodd\" fill-opacity=\"1\" /><path clip-path=\"url(#clip500)\" d=\"M 0 0 M1203.08 1302.48 Q1199.46 1302.48 1197.64 1306.05 Q1195.83 1309.59 1195.83 1316.72 Q1195.83 1323.82 1197.64 1327.39 Q1199.46 1330.93 1203.08 1330.93 Q1206.71 1330.93 1208.52 1327.39 Q1210.34 1323.82 1210.34 1316.72 Q1210.34 1309.59 1208.52 1306.05 Q1206.71 1302.48 1203.08 1302.48 M1203.08 1298.78 Q1208.89 1298.78 1211.94 1303.38 Q1215.02 1307.97 1215.02 1316.72 Q1215.02 1325.44 1211.94 1330.05 Q1208.89 1334.63 1203.08 1334.63 Q1197.27 1334.63 1194.19 1330.05 Q1191.13 1325.44 1191.13 1316.72 Q1191.13 1307.97 1194.19 1303.38 Q1197.27 1298.78 1203.08 1298.78 Z\" fill=\"#000000\" fill-rule=\"evenodd\" fill-opacity=\"1\" /><path clip-path=\"url(#clip500)\" d=\"M 0 0 M1220.09 1328.08 L1224.97 1328.08 L1224.97 1333.96 L1220.09 1333.96 L1220.09 1328.08 Z\" fill=\"#000000\" fill-rule=\"evenodd\" fill-opacity=\"1\" /><path clip-path=\"url(#clip500)\" d=\"M 0 0 M1230.09 1299.4 L1248.45 1299.4 L1248.45 1303.34 L1234.37 1303.34 L1234.37 1311.81 Q1235.39 1311.46 1236.41 1311.3 Q1237.43 1311.12 1238.45 1311.12 Q1244.23 1311.12 1247.61 1314.29 Q1250.99 1317.46 1250.99 1322.87 Q1250.99 1328.45 1247.52 1331.56 Q1244.05 1334.63 1237.73 1334.63 Q1235.55 1334.63 1233.28 1334.26 Q1231.04 1333.89 1228.63 1333.15 L1228.63 1328.45 Q1230.71 1329.59 1232.94 1330.14 Q1235.16 1330.7 1237.64 1330.7 Q1241.64 1330.7 1243.98 1328.59 Q1246.32 1326.49 1246.32 1322.87 Q1246.32 1319.26 1243.98 1317.16 Q1241.64 1315.05 1237.64 1315.05 Q1235.76 1315.05 1233.89 1315.47 Q1232.03 1315.88 1230.09 1316.76 L1230.09 1299.4 Z\" fill=\"#000000\" fill-rule=\"evenodd\" fill-opacity=\"1\" /><path clip-path=\"url(#clip500)\" d=\"M 0 0 M1202.08 978.394 Q1198.47 978.394 1196.64 981.959 Q1194.84 985.501 1194.84 992.63 Q1194.84 999.737 1196.64 1003.3 Q1198.47 1006.84 1202.08 1006.84 Q1205.71 1006.84 1207.52 1003.3 Q1209.35 999.737 1209.35 992.63 Q1209.35 985.501 1207.52 981.959 Q1205.71 978.394 1202.08 978.394 M1202.08 974.691 Q1207.89 974.691 1210.95 979.297 Q1214.02 983.88 1214.02 992.63 Q1214.02 1001.36 1210.95 1005.96 Q1207.89 1010.55 1202.08 1010.55 Q1196.27 1010.55 1193.19 1005.96 Q1190.14 1001.36 1190.14 992.63 Q1190.14 983.88 1193.19 979.297 Q1196.27 974.691 1202.08 974.691 Z\" fill=\"#000000\" fill-rule=\"evenodd\" fill-opacity=\"1\" /><path clip-path=\"url(#clip500)\" d=\"M 0 0 M1219.09 1004 L1223.98 1004 L1223.98 1009.88 L1219.09 1009.88 L1219.09 1004 Z\" fill=\"#000000\" fill-rule=\"evenodd\" fill-opacity=\"1\" /><path clip-path=\"url(#clip500)\" d=\"M 0 0 M1239.05 978.394 Q1235.44 978.394 1233.61 981.959 Q1231.8 985.501 1231.8 992.63 Q1231.8 999.737 1233.61 1003.3 Q1235.44 1006.84 1239.05 1006.84 Q1242.68 1006.84 1244.49 1003.3 Q1246.32 999.737 1246.32 992.63 Q1246.32 985.501 1244.49 981.959 Q1242.68 978.394 1239.05 978.394 M1239.05 974.691 Q1244.86 974.691 1247.91 979.297 Q1250.99 983.88 1250.99 992.63 Q1250.99 1001.36 1247.91 1005.96 Q1244.86 1010.55 1239.05 1010.55 Q1233.24 1010.55 1230.16 1005.96 Q1227.1 1001.36 1227.1 992.63 Q1227.1 983.88 1230.16 979.297 Q1233.24 974.691 1239.05 974.691 Z\" fill=\"#000000\" fill-rule=\"evenodd\" fill-opacity=\"1\" /><path clip-path=\"url(#clip500)\" d=\"M 0 0 M1203.08 654.307 Q1199.46 654.307 1197.64 657.872 Q1195.83 661.413 1195.83 668.543 Q1195.83 675.649 1197.64 679.214 Q1199.46 682.756 1203.08 682.756 Q1206.71 682.756 1208.52 679.214 Q1210.34 675.649 1210.34 668.543 Q1210.34 661.413 1208.52 657.872 Q1206.71 654.307 1203.08 654.307 M1203.08 650.603 Q1208.89 650.603 1211.94 655.21 Q1215.02 659.793 1215.02 668.543 Q1215.02 677.27 1211.94 681.876 Q1208.89 686.46 1203.08 686.46 Q1197.27 686.46 1194.19 681.876 Q1191.13 677.27 1191.13 668.543 Q1191.13 659.793 1194.19 655.21 Q1197.27 650.603 1203.08 650.603 Z\" fill=\"#000000\" fill-rule=\"evenodd\" fill-opacity=\"1\" /><path clip-path=\"url(#clip500)\" d=\"M 0 0 M1220.09 679.909 L1224.97 679.909 L1224.97 685.788 L1220.09 685.788 L1220.09 679.909 Z\" fill=\"#000000\" fill-rule=\"evenodd\" fill-opacity=\"1\" /><path clip-path=\"url(#clip500)\" d=\"M 0 0 M1230.09 651.228 L1248.45 651.228 L1248.45 655.163 L1234.37 655.163 L1234.37 663.636 Q1235.39 663.288 1236.41 663.126 Q1237.43 662.941 1238.45 662.941 Q1244.23 662.941 1247.61 666.112 Q1250.99 669.284 1250.99 674.7 Q1250.99 680.279 1247.52 683.381 Q1244.05 686.46 1237.73 686.46 Q1235.55 686.46 1233.28 686.089 Q1231.04 685.719 1228.63 684.978 L1228.63 680.279 Q1230.71 681.413 1232.94 681.969 Q1235.16 682.524 1237.64 682.524 Q1241.64 682.524 1243.98 680.418 Q1246.32 678.311 1246.32 674.7 Q1246.32 671.089 1243.98 668.983 Q1241.64 666.876 1237.64 666.876 Q1235.76 666.876 1233.89 667.293 Q1232.03 667.71 1230.09 668.589 L1230.09 651.228 Z\" fill=\"#000000\" fill-rule=\"evenodd\" fill-opacity=\"1\" /><path clip-path=\"url(#clip500)\" d=\"M 0 0 M1194.12 357.766 L1201.76 357.766 L1201.76 331.4 L1193.45 333.067 L1193.45 328.808 L1201.71 327.141 L1206.39 327.141 L1206.39 357.766 L1214.02 357.766 L1214.02 361.701 L1194.12 361.701 L1194.12 357.766 Z\" fill=\"#000000\" fill-rule=\"evenodd\" fill-opacity=\"1\" /><path clip-path=\"url(#clip500)\" d=\"M 0 0 M1219.09 355.821 L1223.98 355.821 L1223.98 361.701 L1219.09 361.701 L1219.09 355.821 Z\" fill=\"#000000\" fill-rule=\"evenodd\" fill-opacity=\"1\" /><path clip-path=\"url(#clip500)\" d=\"M 0 0 M1239.05 330.22 Q1235.44 330.22 1233.61 333.784 Q1231.8 337.326 1231.8 344.456 Q1231.8 351.562 1233.61 355.127 Q1235.44 358.669 1239.05 358.669 Q1242.68 358.669 1244.49 355.127 Q1246.32 351.562 1246.32 344.456 Q1246.32 337.326 1244.49 333.784 Q1242.68 330.22 1239.05 330.22 M1239.05 326.516 Q1244.86 326.516 1247.91 331.122 Q1250.99 335.706 1250.99 344.456 Q1250.99 353.183 1247.91 357.789 Q1244.86 362.372 1239.05 362.372 Q1233.24 362.372 1230.16 357.789 Q1227.1 353.183 1227.1 344.456 Q1227.1 335.706 1230.16 331.122 Q1233.24 326.516 1239.05 326.516 Z\" fill=\"#000000\" fill-rule=\"evenodd\" fill-opacity=\"1\" /><path clip-path=\"url(#clip500)\" d=\"M 0 0 M1610.53 6.912 L1630.4 6.912 L1630.4 10.8472 L1615.21 10.8472 L1615.21 21.0323 L1628.91 21.0323 L1628.91 24.9675 L1615.21 24.9675 L1615.21 41.472 L1610.53 41.472 L1610.53 6.912 Z\" fill=\"#000000\" fill-rule=\"evenodd\" fill-opacity=\"1\" /><path clip-path=\"url(#clip500)\" d=\"M 0 0 M1631.83 31.2406 L1631.83 15.5462 L1636.09 15.5462 L1636.09 31.0785 Q1636.09 34.7591 1637.53 36.6109 Q1638.96 38.4396 1641.83 38.4396 Q1645.28 38.4396 1647.27 36.2405 Q1649.28 34.0415 1649.28 30.2452 L1649.28 15.5462 L1653.54 15.5462 L1653.54 41.472 L1649.28 41.472 L1649.28 37.4905 Q1647.73 39.8516 1645.67 41.009 Q1643.64 42.1433 1640.93 42.1433 Q1636.46 42.1433 1634.15 39.3655 Q1631.83 36.5878 1631.83 31.2406 M1642.55 14.9212 L1642.55 14.9212 Z\" fill=\"#000000\" fill-rule=\"evenodd\" fill-opacity=\"1\" /><path clip-path=\"url(#clip500)\" d=\"M 0 0 M1656.16 15.5462 L1676.39 15.5462 L1676.39 19.4351 L1660.37 38.0692 L1676.39 38.0692 L1676.39 41.472 L1655.58 41.472 L1655.58 37.5831 L1671.6 18.949 L1656.16 18.949 L1656.16 15.5462 Z\" fill=\"#000000\" fill-rule=\"evenodd\" fill-opacity=\"1\" /><path clip-path=\"url(#clip500)\" d=\"M 0 0 M1679.01 15.5462 L1699.24 15.5462 L1699.24 19.4351 L1683.22 38.0692 L1699.24 38.0692 L1699.24 41.472 L1678.43 41.472 L1678.43 37.5831 L1694.45 18.949 L1679.01 18.949 L1679.01 15.5462 Z\" fill=\"#000000\" fill-rule=\"evenodd\" fill-opacity=\"1\" /><path clip-path=\"url(#clip500)\" d=\"M 0 0 M1714.49 43.8794 Q1712.69 48.509 1710.97 49.921 Q1709.26 51.3331 1706.39 51.3331 L1702.99 51.3331 L1702.99 47.7683 L1705.49 47.7683 Q1707.25 47.7683 1708.22 46.9349 Q1709.19 46.1016 1710.37 42.9998 L1711.14 41.0553 L1700.65 15.5462 L1705.16 15.5462 L1713.27 35.8239 L1721.37 15.5462 L1725.88 15.5462 L1714.49 43.8794 Z\" fill=\"#000000\" fill-rule=\"evenodd\" fill-opacity=\"1\" /><path clip-path=\"url(#clip500)\" d=\"M 0 0 M1742.09 11.5185 L1735.74 28.7174 L1748.45 28.7174 L1742.09 11.5185 M1739.45 6.912 L1744.75 6.912 L1757.92 41.472 L1753.06 41.472 L1749.91 32.6063 L1734.33 32.6063 L1731.18 41.472 L1726.25 41.472 L1739.45 6.912 Z\" fill=\"#000000\" fill-rule=\"evenodd\" fill-opacity=\"1\" /><path clip-path=\"url(#clip500)\" d=\"M 0 0 M1778.96 25.2684 Q1780.46 25.7776 1781.88 27.4443 Q1783.31 29.111 1784.75 32.0276 L1789.49 41.472 L1784.47 41.472 L1780.05 32.6063 Q1778.33 29.1341 1776.71 27.9998 Q1775.12 26.8656 1772.34 26.8656 L1767.25 26.8656 L1767.25 41.472 L1762.57 41.472 L1762.57 6.912 L1773.13 6.912 Q1779.05 6.912 1781.97 9.38884 Q1784.89 11.8657 1784.89 16.8657 Q1784.89 20.1295 1783.36 22.2823 Q1781.85 24.4351 1778.96 25.2684 M1767.25 10.7546 L1767.25 23.023 L1773.13 23.023 Q1776.51 23.023 1778.22 21.4721 Q1779.96 19.898 1779.96 16.8657 Q1779.96 13.8333 1778.22 12.3055 Q1776.51 10.7546 1773.13 10.7546 L1767.25 10.7546 Z\" fill=\"#000000\" fill-rule=\"evenodd\" fill-opacity=\"1\" /><path clip-path=\"url(#clip500)\" d=\"M 0 0 M1785.9 6.912 L1815.14 6.912 L1815.14 10.8472 L1802.87 10.8472 L1802.87 41.472 L1798.17 41.472 L1798.17 10.8472 L1785.9 10.8472 L1785.9 6.912 Z\" fill=\"#000000\" fill-rule=\"evenodd\" fill-opacity=\"1\" /><path clip-path=\"url(#clip500)\" d=\"M 0 0 M1849.7 19.5277 Q1848.98 19.111 1848.13 18.9258 Q1847.29 18.7175 1846.27 18.7175 Q1842.66 18.7175 1840.72 21.0786 Q1838.8 23.4165 1838.8 27.8147 L1838.8 41.472 L1834.52 41.472 L1834.52 15.5462 L1838.8 15.5462 L1838.8 19.574 Q1840.14 17.2129 1842.29 16.0786 Q1844.45 14.9212 1847.52 14.9212 Q1847.96 14.9212 1848.5 14.9907 Q1849.03 15.037 1849.68 15.1527 L1849.7 19.5277 Z\" fill=\"#000000\" fill-rule=\"evenodd\" fill-opacity=\"1\" /><path clip-path=\"url(#clip500)\" d=\"M 0 0 M1874.89 25.8239 L1874.89 41.472 L1870.63 41.472 L1870.63 25.9628 Q1870.63 22.2823 1869.19 20.4536 Q1867.76 18.6249 1864.89 18.6249 Q1861.44 18.6249 1859.45 20.824 Q1857.45 23.023 1857.45 26.8193 L1857.45 41.472 L1853.17 41.472 L1853.17 5.45367 L1857.45 5.45367 L1857.45 19.574 Q1858.98 17.236 1861.04 16.0786 Q1863.13 14.9212 1865.83 14.9212 Q1870.3 14.9212 1872.59 17.699 Q1874.89 20.4536 1874.89 25.8239 Z\" fill=\"#000000\" fill-rule=\"evenodd\" fill-opacity=\"1\" /><path clip-path=\"url(#clip500)\" d=\"M 0 0 M1889.4 18.5323 Q1885.97 18.5323 1883.98 21.2175 Q1881.99 23.8795 1881.99 28.5323 Q1881.99 33.185 1883.96 35.8702 Q1885.95 38.5322 1889.4 38.5322 Q1892.8 38.5322 1894.79 35.847 Q1896.78 33.1619 1896.78 28.5323 Q1896.78 23.9258 1894.79 21.2406 Q1892.8 18.5323 1889.4 18.5323 M1889.4 14.9212 Q1894.95 14.9212 1898.13 18.5323 Q1901.3 22.1434 1901.3 28.5323 Q1901.3 34.898 1898.13 38.5322 Q1894.95 42.1433 1889.4 42.1433 Q1883.82 42.1433 1880.65 38.5322 Q1877.5 34.898 1877.5 28.5323 Q1877.5 22.1434 1880.65 18.5323 Q1883.82 14.9212 1889.4 14.9212 Z\" fill=\"#000000\" fill-rule=\"evenodd\" fill-opacity=\"1\" /><path clip-path=\"url(#clip500)\" d=\"M 0 0 M1921.39 19.9443 L1951.07 19.9443 L1951.07 23.8332 L1921.39 23.8332 L1921.39 19.9443 M1921.39 29.3887 L1951.07 29.3887 L1951.07 33.3239 L1921.39 33.3239 L1921.39 29.3887 Z\" fill=\"#000000\" fill-rule=\"evenodd\" fill-opacity=\"1\" /><path clip-path=\"url(#clip500)\" d=\"M 0 0 M1981.2 9.99069 Q1977.59 9.99069 1975.76 13.5555 Q1973.96 17.0971 1973.96 24.2267 Q1973.96 31.3332 1975.76 34.898 Q1977.59 38.4396 1981.2 38.4396 Q1984.84 38.4396 1986.64 34.898 Q1988.47 31.3332 1988.47 24.2267 Q1988.47 17.0971 1986.64 13.5555 Q1984.84 9.99069 1981.2 9.99069 M1981.2 6.287 Q1987.01 6.287 1990.07 10.8935 Q1993.15 15.4768 1993.15 24.2267 Q1993.15 32.9535 1990.07 37.56 Q1987.01 42.1433 1981.2 42.1433 Q1975.39 42.1433 1972.32 37.56 Q1969.26 32.9535 1969.26 24.2267 Q1969.26 15.4768 1972.32 10.8935 Q1975.39 6.287 1981.2 6.287 Z\" fill=\"#000000\" fill-rule=\"evenodd\" fill-opacity=\"1\" /><path clip-path=\"url(#clip500)\" d=\"M 0 0 M1998.22 35.5924 L2003.1 35.5924 L2003.1 41.472 L1998.22 41.472 L1998.22 35.5924 Z\" fill=\"#000000\" fill-rule=\"evenodd\" fill-opacity=\"1\" /><path clip-path=\"url(#clip500)\" d=\"M 0 0 M2006.99 6.912 L2029.21 6.912 L2029.21 8.90273 L2016.67 41.472 L2011.78 41.472 L2023.59 10.8472 L2006.99 10.8472 L2006.99 6.912 Z\" fill=\"#000000\" fill-rule=\"evenodd\" fill-opacity=\"1\" /><circle clip-path=\"url(#clip503)\" cx=\"2211.61\" cy=\"734.708\" r=\"14\" fill=\"#009af9\" fill-rule=\"evenodd\" fill-opacity=\"1\" stroke=\"#000000\" stroke-opacity=\"1\" stroke-width=\"3.2\"/>\n",
       "<circle clip-path=\"url(#clip503)\" cx=\"2261.95\" cy=\"462.331\" r=\"14\" fill=\"#009af9\" fill-rule=\"evenodd\" fill-opacity=\"1\" stroke=\"#000000\" stroke-opacity=\"1\" stroke-width=\"3.2\"/>\n",
       "<circle clip-path=\"url(#clip503)\" cx=\"2243.46\" cy=\"1082.73\" r=\"14\" fill=\"#009af9\" fill-rule=\"evenodd\" fill-opacity=\"1\" stroke=\"#000000\" stroke-opacity=\"1\" stroke-width=\"3.2\"/>\n",
       "<circle clip-path=\"url(#clip503)\" cx=\"2223.44\" cy=\"120.96\" r=\"14\" fill=\"#009af9\" fill-rule=\"evenodd\" fill-opacity=\"1\" stroke=\"#000000\" stroke-opacity=\"1\" stroke-width=\"3.2\"/>\n",
       "<circle clip-path=\"url(#clip503)\" cx=\"2270.24\" cy=\"1061.75\" r=\"14\" fill=\"#009af9\" fill-rule=\"evenodd\" fill-opacity=\"1\" stroke=\"#000000\" stroke-opacity=\"1\" stroke-width=\"3.2\"/>\n",
       "<circle clip-path=\"url(#clip503)\" cx=\"2256.28\" cy=\"655.238\" r=\"14\" fill=\"#009af9\" fill-rule=\"evenodd\" fill-opacity=\"1\" stroke=\"#000000\" stroke-opacity=\"1\" stroke-width=\"3.2\"/>\n",
       "<circle clip-path=\"url(#clip503)\" cx=\"2285.78\" cy=\"816.902\" r=\"14\" fill=\"#009af9\" fill-rule=\"evenodd\" fill-opacity=\"1\" stroke=\"#000000\" stroke-opacity=\"1\" stroke-width=\"3.2\"/>\n",
       "<circle clip-path=\"url(#clip503)\" cx=\"2281.95\" cy=\"1194.26\" r=\"14\" fill=\"#009af9\" fill-rule=\"evenodd\" fill-opacity=\"1\" stroke=\"#000000\" stroke-opacity=\"1\" stroke-width=\"3.2\"/>\n",
       "<circle clip-path=\"url(#clip503)\" cx=\"2322.59\" cy=\"1209.29\" r=\"14\" fill=\"#009af9\" fill-rule=\"evenodd\" fill-opacity=\"1\" stroke=\"#000000\" stroke-opacity=\"1\" stroke-width=\"3.2\"/>\n",
       "<circle clip-path=\"url(#clip503)\" cx=\"2252.25\" cy=\"749.735\" r=\"14\" fill=\"#009af9\" fill-rule=\"evenodd\" fill-opacity=\"1\" stroke=\"#000000\" stroke-opacity=\"1\" stroke-width=\"3.2\"/>\n",
       "<circle clip-path=\"url(#clip503)\" cx=\"2257.86\" cy=\"279.589\" r=\"14\" fill=\"#009af9\" fill-rule=\"evenodd\" fill-opacity=\"1\" stroke=\"#000000\" stroke-opacity=\"1\" stroke-width=\"3.2\"/>\n",
       "<circle clip-path=\"url(#clip503)\" cx=\"2319.94\" cy=\"1303.88\" r=\"14\" fill=\"#009af9\" fill-rule=\"evenodd\" fill-opacity=\"1\" stroke=\"#000000\" stroke-opacity=\"1\" stroke-width=\"3.2\"/>\n",
       "<circle clip-path=\"url(#clip503)\" cx=\"2248.25\" cy=\"661.788\" r=\"14\" fill=\"#009af9\" fill-rule=\"evenodd\" fill-opacity=\"1\" stroke=\"#000000\" stroke-opacity=\"1\" stroke-width=\"3.2\"/>\n",
       "<circle clip-path=\"url(#clip503)\" cx=\"2249.07\" cy=\"612.583\" r=\"14\" fill=\"#009af9\" fill-rule=\"evenodd\" fill-opacity=\"1\" stroke=\"#000000\" stroke-opacity=\"1\" stroke-width=\"3.2\"/>\n",
       "<circle clip-path=\"url(#clip503)\" cx=\"2237.19\" cy=\"903.22\" r=\"14\" fill=\"#009af9\" fill-rule=\"evenodd\" fill-opacity=\"1\" stroke=\"#000000\" stroke-opacity=\"1\" stroke-width=\"3.2\"/>\n",
       "<circle clip-path=\"url(#clip503)\" cx=\"1723.54\" cy=\"895.124\" r=\"14\" fill=\"#e26f46\" fill-rule=\"evenodd\" fill-opacity=\"1\" stroke=\"#000000\" stroke-opacity=\"1\" stroke-width=\"3.2\"/>\n",
       "<circle clip-path=\"url(#clip503)\" cx=\"1735.21\" cy=\"980.234\" r=\"14\" fill=\"#e26f46\" fill-rule=\"evenodd\" fill-opacity=\"1\" stroke=\"#000000\" stroke-opacity=\"1\" stroke-width=\"3.2\"/>\n",
       "<circle clip-path=\"url(#clip503)\" cx=\"1464.43\" cy=\"1151.75\" r=\"14\" fill=\"#e26f46\" fill-rule=\"evenodd\" fill-opacity=\"1\" stroke=\"#000000\" stroke-opacity=\"1\" stroke-width=\"3.2\"/>\n",
       "<circle clip-path=\"url(#clip503)\" cx=\"1670.4\" cy=\"844.192\" r=\"14\" fill=\"#e26f46\" fill-rule=\"evenodd\" fill-opacity=\"1\" stroke=\"#000000\" stroke-opacity=\"1\" stroke-width=\"3.2\"/>\n",
       "<circle clip-path=\"url(#clip503)\" cx=\"1831.78\" cy=\"1369.5\" r=\"14\" fill=\"#e26f46\" fill-rule=\"evenodd\" fill-opacity=\"1\" stroke=\"#000000\" stroke-opacity=\"1\" stroke-width=\"3.2\"/>\n",
       "<circle clip-path=\"url(#clip503)\" cx=\"1985.36\" cy=\"1479.74\" r=\"14\" fill=\"#e26f46\" fill-rule=\"evenodd\" fill-opacity=\"1\" stroke=\"#000000\" stroke-opacity=\"1\" stroke-width=\"3.2\"/>\n",
       "<circle clip-path=\"url(#clip503)\" cx=\"1816.97\" cy=\"1194.64\" r=\"14\" fill=\"#e26f46\" fill-rule=\"evenodd\" fill-opacity=\"1\" stroke=\"#000000\" stroke-opacity=\"1\" stroke-width=\"3.2\"/>\n",
       "<circle clip-path=\"url(#clip503)\" cx=\"1693.58\" cy=\"778.95\" r=\"14\" fill=\"#e26f46\" fill-rule=\"evenodd\" fill-opacity=\"1\" stroke=\"#000000\" stroke-opacity=\"1\" stroke-width=\"3.2\"/>\n",
       "<circle clip-path=\"url(#clip503)\" cx=\"1812.21\" cy=\"1433.13\" r=\"14\" fill=\"#e26f46\" fill-rule=\"evenodd\" fill-opacity=\"1\" stroke=\"#000000\" stroke-opacity=\"1\" stroke-width=\"3.2\"/>\n",
       "<circle clip-path=\"url(#clip503)\" cx=\"1743.99\" cy=\"1305.85\" r=\"14\" fill=\"#e26f46\" fill-rule=\"evenodd\" fill-opacity=\"1\" stroke=\"#000000\" stroke-opacity=\"1\" stroke-width=\"3.2\"/>\n",
       "<circle clip-path=\"url(#clip503)\" cx=\"1764.04\" cy=\"1426.57\" r=\"14\" fill=\"#e26f46\" fill-rule=\"evenodd\" fill-opacity=\"1\" stroke=\"#000000\" stroke-opacity=\"1\" stroke-width=\"3.2\"/>\n",
       "<circle clip-path=\"url(#clip503)\" cx=\"1796.42\" cy=\"1347.73\" r=\"14\" fill=\"#e26f46\" fill-rule=\"evenodd\" fill-opacity=\"1\" stroke=\"#000000\" stroke-opacity=\"1\" stroke-width=\"3.2\"/>\n",
       "<circle clip-path=\"url(#clip503)\" cx=\"1695.11\" cy=\"1014.51\" r=\"14\" fill=\"#e26f46\" fill-rule=\"evenodd\" fill-opacity=\"1\" stroke=\"#000000\" stroke-opacity=\"1\" stroke-width=\"3.2\"/>\n",
       "<circle clip-path=\"url(#clip503)\" cx=\"1866.98\" cy=\"1155.82\" r=\"14\" fill=\"#e26f46\" fill-rule=\"evenodd\" fill-opacity=\"1\" stroke=\"#000000\" stroke-opacity=\"1\" stroke-width=\"3.2\"/>\n",
       "<circle clip-path=\"url(#clip503)\" cx=\"1785.32\" cy=\"1129.48\" r=\"14\" fill=\"#e26f46\" fill-rule=\"evenodd\" fill-opacity=\"1\" stroke=\"#000000\" stroke-opacity=\"1\" stroke-width=\"3.2\"/>\n",
       "<circle clip-path=\"url(#clip503)\" cx=\"1614.83\" cy=\"1124.84\" r=\"14\" fill=\"#3da44d\" fill-rule=\"evenodd\" fill-opacity=\"1\" stroke=\"#000000\" stroke-opacity=\"1\" stroke-width=\"3.2\"/>\n",
       "<circle clip-path=\"url(#clip503)\" cx=\"1490.4\" cy=\"1134.11\" r=\"14\" fill=\"#3da44d\" fill-rule=\"evenodd\" fill-opacity=\"1\" stroke=\"#000000\" stroke-opacity=\"1\" stroke-width=\"3.2\"/>\n",
       "<circle clip-path=\"url(#clip503)\" cx=\"1630.48\" cy=\"1068.06\" r=\"14\" fill=\"#3da44d\" fill-rule=\"evenodd\" fill-opacity=\"1\" stroke=\"#000000\" stroke-opacity=\"1\" stroke-width=\"3.2\"/>\n",
       "<circle clip-path=\"url(#clip503)\" cx=\"1547.91\" cy=\"1132.7\" r=\"14\" fill=\"#3da44d\" fill-rule=\"evenodd\" fill-opacity=\"1\" stroke=\"#000000\" stroke-opacity=\"1\" stroke-width=\"3.2\"/>\n",
       "<circle clip-path=\"url(#clip503)\" cx=\"1616.27\" cy=\"1265.61\" r=\"14\" fill=\"#3da44d\" fill-rule=\"evenodd\" fill-opacity=\"1\" stroke=\"#000000\" stroke-opacity=\"1\" stroke-width=\"3.2\"/>\n",
       "<circle clip-path=\"url(#clip503)\" cx=\"1317.16\" cy=\"104.257\" r=\"14\" fill=\"#3da44d\" fill-rule=\"evenodd\" fill-opacity=\"1\" stroke=\"#000000\" stroke-opacity=\"1\" stroke-width=\"3.2\"/>\n",
       "<circle clip-path=\"url(#clip503)\" cx=\"1498.65\" cy=\"751.81\" r=\"14\" fill=\"#3da44d\" fill-rule=\"evenodd\" fill-opacity=\"1\" stroke=\"#000000\" stroke-opacity=\"1\" stroke-width=\"3.2\"/>\n",
       "<circle clip-path=\"url(#clip503)\" cx=\"1380.31\" cy=\"750.993\" r=\"14\" fill=\"#3da44d\" fill-rule=\"evenodd\" fill-opacity=\"1\" stroke=\"#000000\" stroke-opacity=\"1\" stroke-width=\"3.2\"/>\n",
       "<circle clip-path=\"url(#clip503)\" cx=\"1465.3\" cy=\"874.233\" r=\"14\" fill=\"#3da44d\" fill-rule=\"evenodd\" fill-opacity=\"1\" stroke=\"#000000\" stroke-opacity=\"1\" stroke-width=\"3.2\"/>\n",
       "<circle clip-path=\"url(#clip503)\" cx=\"1570.57\" cy=\"835.712\" r=\"14\" fill=\"#3da44d\" fill-rule=\"evenodd\" fill-opacity=\"1\" stroke=\"#000000\" stroke-opacity=\"1\" stroke-width=\"3.2\"/>\n",
       "<circle clip-path=\"url(#clip503)\" cx=\"1554.09\" cy=\"941.701\" r=\"14\" fill=\"#3da44d\" fill-rule=\"evenodd\" fill-opacity=\"1\" stroke=\"#000000\" stroke-opacity=\"1\" stroke-width=\"3.2\"/>\n",
       "<circle clip-path=\"url(#clip503)\" cx=\"1471.5\" cy=\"776.503\" r=\"14\" fill=\"#3da44d\" fill-rule=\"evenodd\" fill-opacity=\"1\" stroke=\"#000000\" stroke-opacity=\"1\" stroke-width=\"3.2\"/>\n",
       "<circle clip-path=\"url(#clip503)\" cx=\"1582.94\" cy=\"1342.16\" r=\"14\" fill=\"#3da44d\" fill-rule=\"evenodd\" fill-opacity=\"1\" stroke=\"#000000\" stroke-opacity=\"1\" stroke-width=\"3.2\"/>\n",
       "<circle clip-path=\"url(#clip503)\" cx=\"1489.33\" cy=\"853.056\" r=\"14\" fill=\"#3da44d\" fill-rule=\"evenodd\" fill-opacity=\"1\" stroke=\"#000000\" stroke-opacity=\"1\" stroke-width=\"3.2\"/>\n",
       "<circle clip-path=\"url(#clip503)\" cx=\"1342.3\" cy=\"548.1\" r=\"14\" fill=\"#3da44d\" fill-rule=\"evenodd\" fill-opacity=\"1\" stroke=\"#000000\" stroke-opacity=\"1\" stroke-width=\"3.2\"/>\n",
       "</svg>\n"
      ]
     },
     "metadata": {},
     "execution_count": 19
    }
   ],
   "cell_type": "code",
   "source": [
    "p1 = scatter(X_test_pca[1,:], X_test_pca[2,:], group=y_hat_1, title=@sprintf \"FuzzyART rho = %.1f\" rho_1)\n",
    "p2 = scatter(X_test_pca[1,:], X_test_pca[2,:], group=y_hat_2, title=@sprintf \"FuzzyART rho = %.1f\" rho_2)\n",
    "plot(p1, p2, layout=(1, 2), legend = false, xtickfontsize=6, xguidefontsize=8, titlefont=font(8))"
   ],
   "metadata": {},
   "execution_count": 19
  },
  {
   "cell_type": "markdown",
   "source": [
    "---\n",
    "\n",
    "*This notebook was generated using [Literate.jl](https://github.com/fredrikekre/Literate.jl).*"
   ],
   "metadata": {}
  }
 ],
 "nbformat_minor": 3,
 "metadata": {
  "language_info": {
   "file_extension": ".jl",
   "mimetype": "application/julia",
   "name": "julia",
   "version": "1.4.2"
  },
  "kernelspec": {
   "name": "julia-1.4",
   "display_name": "Julia 1.4.2",
   "language": "julia"
  }
 },
 "nbformat": 4
}
