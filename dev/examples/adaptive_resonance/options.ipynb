{
 "cells": [
  {
   "cell_type": "markdown",
   "source": [
    "## Overview"
   ],
   "metadata": {}
  },
  {
   "cell_type": "markdown",
   "source": [
    "The `AdaptiveResonance.jl` package has several ways of handling options for ART modules.\n",
    "These methods are meant to give maximum flexibility to the user for sharing and interpreting options, which themselves vary between each module."
   ],
   "metadata": {}
  },
  {
   "cell_type": "markdown",
   "source": [
    "!!! note\n",
    "    For more info on options in ART modules, see the guide in the docs on ART options."
   ],
   "metadata": {}
  },
  {
   "cell_type": "markdown",
   "source": [
    "## ART Options"
   ],
   "metadata": {}
  },
  {
   "cell_type": "markdown",
   "source": [
    "To get a feel for the ART options system, we will inspect different options and their instantiation methods."
   ],
   "metadata": {}
  },
  {
   "cell_type": "markdown",
   "source": [
    "### Inspection"
   ],
   "metadata": {}
  },
  {
   "cell_type": "markdown",
   "source": [
    "First, we load `AdaptiveResonance`:"
   ],
   "metadata": {}
  },
  {
   "outputs": [],
   "cell_type": "code",
   "source": [
    "using AdaptiveResonance"
   ],
   "metadata": {},
   "execution_count": 1
  },
  {
   "cell_type": "markdown",
   "source": [
    "Every ART module has a default constructor, which can be instantiated in the usual way:"
   ],
   "metadata": {}
  },
  {
   "outputs": [
    {
     "output_type": "execute_result",
     "data": {
      "text/plain": "FuzzyART"
     },
     "metadata": {},
     "execution_count": 2
    }
   ],
   "cell_type": "code",
   "source": [
    "# Create a FuzzyART module with default options\n",
    "my_fuzzyart = FuzzyART()\n",
    "typeof(my_fuzzyart)"
   ],
   "metadata": {},
   "execution_count": 2
  },
  {
   "cell_type": "markdown",
   "source": [
    "Within every ART module is a [Parameters.jl](https://github.com/mauro3/Parameters.jl) struct named `opts` containing the options for the module"
   ],
   "metadata": {}
  },
  {
   "outputs": [
    {
     "output_type": "execute_result",
     "data": {
      "text/plain": "opts_FuzzyART\n  rho: Float64 0.6\n  alpha: Float64 0.001\n  beta: Float64 1.0\n  gamma: Float64 3.0\n  gamma_ref: Float64 1.0\n  display: Bool true\n  max_epochs: Int64 1\n  gamma_normalization: Bool false\n"
     },
     "metadata": {},
     "execution_count": 3
    }
   ],
   "cell_type": "code",
   "source": [
    "# Check the FuzzyART options\n",
    "my_fuzzyart.opts"
   ],
   "metadata": {},
   "execution_count": 3
  },
  {
   "cell_type": "markdown",
   "source": [
    "Note that the options here have the type `opts_FuzzyART`.\n",
    "This nomenclature is used throughout the module to indicate an options type associated with an ART module.\n",
    "For example, the options for a DDVFA module are `opts_DDVFA`:"
   ],
   "metadata": {}
  },
  {
   "outputs": [
    {
     "output_type": "execute_result",
     "data": {
      "text/plain": "opts_DDVFA"
     },
     "metadata": {},
     "execution_count": 4
    }
   ],
   "cell_type": "code",
   "source": [
    "# Create a DDVFA module and check the type of the options\n",
    "my_ddvfa = DDVFA()\n",
    "typeof(my_ddvfa.opts)"
   ],
   "metadata": {},
   "execution_count": 4
  },
  {
   "cell_type": "markdown",
   "source": [
    "In fact, we can create an instance of these options with a default constructor:"
   ],
   "metadata": {}
  },
  {
   "outputs": [
    {
     "output_type": "execute_result",
     "data": {
      "text/plain": "opts_FuzzyART\n  rho: Float64 0.6\n  alpha: Float64 0.001\n  beta: Float64 1.0\n  gamma: Float64 3.0\n  gamma_ref: Float64 1.0\n  display: Bool true\n  max_epochs: Int64 1\n  gamma_normalization: Bool false\n"
     },
     "metadata": {},
     "execution_count": 5
    }
   ],
   "cell_type": "code",
   "source": [
    "# Create a separate options struct\n",
    "my_fuzzyart_opts = opts_FuzzyART()"
   ],
   "metadata": {},
   "execution_count": 5
  },
  {
   "cell_type": "markdown",
   "source": [
    "In addition to the default constructor, we can construct ART modules by instantiating these options and passing them to the module during construction:"
   ],
   "metadata": {}
  },
  {
   "outputs": [
    {
     "output_type": "execute_result",
     "data": {
      "text/plain": "FuzzyART(opts_FuzzyART\n  rho: Float64 0.6\n  alpha: Float64 0.001\n  beta: Float64 1.0\n  gamma: Float64 3.0\n  gamma_ref: Float64 1.0\n  display: Bool true\n  max_epochs: Int64 1\n  gamma_normalization: Bool false\n, DataConfig(false, Float64[], Float64[], 0, 0), 0.0, Int64[], Float64[], Float64[], Array{Float64}(undef,0,0), Int64[], 0, 0)"
     },
     "metadata": {},
     "execution_count": 6
    }
   ],
   "cell_type": "code",
   "source": [
    "# Instantiate an ART module by passing our options\n",
    "my_fuzzyart = FuzzyART(my_fuzzyart_opts)\n",
    "my_other_fuzzyart = FuzzyART(my_fuzzyart_opts)"
   ],
   "metadata": {},
   "execution_count": 6
  },
  {
   "cell_type": "markdown",
   "source": [
    "### Specifying Options"
   ],
   "metadata": {}
  },
  {
   "cell_type": "markdown",
   "source": [
    "Now to the good stuff: because of the behavior of the `Parameters.jl` type, each option has a default value that we can modify during instantiation with keyword arguments:"
   ],
   "metadata": {}
  },
  {
   "outputs": [
    {
     "output_type": "execute_result",
     "data": {
      "text/plain": "FuzzyART(opts_FuzzyART\n  rho: Float64 0.6\n  alpha: Float64 0.001\n  beta: Float64 1.0\n  gamma: Float64 3.0\n  gamma_ref: Float64 1.0\n  display: Bool true\n  max_epochs: Int64 1\n  gamma_normalization: Bool true\n, DataConfig(false, Float64[], Float64[], 0, 0), 0.0, Int64[], Float64[], Float64[], Array{Float64}(undef,0,0), Int64[], 0, 0)"
     },
     "metadata": {},
     "execution_count": 7
    }
   ],
   "cell_type": "code",
   "source": [
    "# Change some of the default FuzzyART options\n",
    "my_fuzzyart_opts = opts_FuzzyART(\n",
    "    rho=0.6,\n",
    "    gamma_normalization=true\n",
    ")\n",
    "my_fuzzyart = FuzzyART(my_fuzzyart_opts)"
   ],
   "metadata": {},
   "execution_count": 7
  },
  {
   "cell_type": "markdown",
   "source": [
    "As some syntactic sugar, we can pass these keyword arguments directly to the module during instantiation if we have no need to share option structs:"
   ],
   "metadata": {}
  },
  {
   "outputs": [
    {
     "output_type": "execute_result",
     "data": {
      "text/plain": "FuzzyART(opts_FuzzyART\n  rho: Float64 0.6\n  alpha: Float64 0.001\n  beta: Float64 1.0\n  gamma: Float64 3.0\n  gamma_ref: Float64 1.0\n  display: Bool true\n  max_epochs: Int64 1\n  gamma_normalization: Bool true\n, DataConfig(false, Float64[], Float64[], 0, 0), 0.0, Int64[], Float64[], Float64[], Array{Float64}(undef,0,0), Int64[], 0, 0)"
     },
     "metadata": {},
     "execution_count": 8
    }
   ],
   "cell_type": "code",
   "source": [
    "# Pass these keyword arguments to the module directly\n",
    "my_fuzzyart = FuzzyART(\n",
    "    rho=0.6,\n",
    "    gamma_normalization=true\n",
    ")"
   ],
   "metadata": {},
   "execution_count": 8
  },
  {
   "cell_type": "markdown",
   "source": [
    "Before training, we can also instantiate the model and alter the options afterward:"
   ],
   "metadata": {}
  },
  {
   "outputs": [
    {
     "output_type": "execute_result",
     "data": {
      "text/plain": "0.6"
     },
     "metadata": {},
     "execution_count": 9
    }
   ],
   "cell_type": "code",
   "source": [
    "my_fuzzyart = FuzzyART()\n",
    "my_fuzzyart.opts.rho=0.6"
   ],
   "metadata": {},
   "execution_count": 9
  },
  {
   "cell_type": "markdown",
   "source": [
    "!!! note\n",
    "    All ART modules are designed to use this options struct internally when the parameters are needed.\n",
    "    It is possible to change these parameters in the middle of training and evaluation, but some algorithmic instability may occur."
   ],
   "metadata": {}
  },
  {
   "cell_type": "markdown",
   "source": [
    "## Comparison"
   ],
   "metadata": {}
  },
  {
   "cell_type": "markdown",
   "source": [
    "To see the effect that changing these parameters has on the modules, we can train and test them side-by-side."
   ],
   "metadata": {}
  },
  {
   "cell_type": "markdown",
   "source": [
    "We begin with importing AdaptiveResonance for the ART modules and MLDatasets for some data utilities."
   ],
   "metadata": {}
  },
  {
   "outputs": [],
   "cell_type": "code",
   "source": [
    "using MLDatasets        # Iris dataset\n",
    "using MLDataUtils       # Shuffling and splitting\n",
    "using Printf            # Formatted number printing\n",
    "using MultivariateStats # Principal component analysis (PCA)\n",
    "using Plots             # Plotting"
   ],
   "metadata": {},
   "execution_count": 10
  },
  {
   "cell_type": "markdown",
   "source": [
    "We will download the Iris dataset for its small size and benchmark use for clustering algorithms."
   ],
   "metadata": {}
  },
  {
   "outputs": [
    {
     "output_type": "execute_result",
     "data": {
      "text/plain": "([5.1 4.9 … 6.2 5.9; 3.5 3.0 … 3.4 3.0; 1.4 1.4 … 5.4 5.1; 0.2 0.2 … 2.3 1.8], [\"Iris-setosa\", \"Iris-setosa\", \"Iris-setosa\", \"Iris-setosa\", \"Iris-setosa\", \"Iris-setosa\", \"Iris-setosa\", \"Iris-setosa\", \"Iris-setosa\", \"Iris-setosa\"  …  \"Iris-virginica\", \"Iris-virginica\", \"Iris-virginica\", \"Iris-virginica\", \"Iris-virginica\", \"Iris-virginica\", \"Iris-virginica\", \"Iris-virginica\", \"Iris-virginica\", \"Iris-virginica\"])"
     },
     "metadata": {},
     "execution_count": 11
    }
   ],
   "cell_type": "code",
   "source": [
    "Iris.download(i_accept_the_terms_of_use=true)\n",
    "features, labels = Iris.features(), Iris.labels()"
   ],
   "metadata": {},
   "execution_count": 11
  },
  {
   "cell_type": "markdown",
   "source": [
    "Because the MLDatasets package gives us Iris labels as strings, we will use the `MLDataUtils.convertlabel` method with the `MLLabelUtils.LabelEnc.Indices` type to get a list of integers representing each class:"
   ],
   "metadata": {}
  },
  {
   "outputs": [
    {
     "output_type": "execute_result",
     "data": {
      "text/plain": "3-element Array{Int64,1}:\n 1\n 2\n 3"
     },
     "metadata": {},
     "execution_count": 12
    }
   ],
   "cell_type": "code",
   "source": [
    "labels = convertlabel(LabelEnc.Indices{Int}, labels)\n",
    "unique(labels)"
   ],
   "metadata": {},
   "execution_count": 12
  },
  {
   "cell_type": "markdown",
   "source": [
    "Next, we will create a train/test split with the `MLDataUtils.stratifiedobs` utility:"
   ],
   "metadata": {}
  },
  {
   "outputs": [
    {
     "output_type": "execute_result",
     "data": {
      "text/plain": "(([4.9 5.0 … 5.1 4.8; 2.5 3.5 … 3.8 3.0; 4.5 1.3 … 1.5 1.4; 1.7 0.3 … 0.3 0.1], [3, 1, 2, 2, 2, 3, 1, 2, 3, 1  …  1, 3, 3, 1, 3, 3, 3, 1, 1, 1]), ([6.3 5.7 … 5.7 5.4; 3.4 3.0 … 2.6 3.4; 5.6 4.2 … 3.5 1.5; 2.4 1.2 … 1.0 0.4], [3, 2, 2, 1, 2, 1, 3, 2, 2, 1  …  3, 3, 1, 1, 1, 2, 3, 2, 2, 1]))"
     },
     "metadata": {},
     "execution_count": 13
    }
   ],
   "cell_type": "code",
   "source": [
    "(X_train, y_train), (X_test, y_test) = stratifiedobs((features, labels))"
   ],
   "metadata": {},
   "execution_count": 13
  },
  {
   "cell_type": "markdown",
   "source": [
    "Now we can create several FuzzyART modules with different options."
   ],
   "metadata": {}
  },
  {
   "outputs": [
    {
     "output_type": "execute_result",
     "data": {
      "text/plain": "FuzzyART(opts_FuzzyART\n  rho: Float64 0.7\n  alpha: Float64 0.001\n  beta: Float64 1.0\n  gamma: Float64 3.0\n  gamma_ref: Float64 1.0\n  display: Bool false\n  max_epochs: Int64 1\n  gamma_normalization: Bool false\n, DataConfig(false, Float64[], Float64[], 0, 0), 0.0, Int64[], Float64[], Float64[], Array{Float64}(undef,0,0), Int64[], 0, 0)"
     },
     "metadata": {},
     "execution_count": 14
    }
   ],
   "cell_type": "code",
   "source": [
    "# Create two FuzzyARTs with different vigilance values and suppressing logging messages\n",
    "rho_1 = 0.5\n",
    "rho_2 = 0.7\n",
    "my_fuzzyart_1 = FuzzyART(rho=rho_1, display=false)\n",
    "my_fuzzyart_2 = FuzzyART(rho=rho_2, display=false)"
   ],
   "metadata": {},
   "execution_count": 14
  },
  {
   "cell_type": "markdown",
   "source": [
    "Here, we will train these FuzzyART modules in simple supervised mode by passing the supervised labels as a keyword argument:"
   ],
   "metadata": {}
  },
  {
   "outputs": [
    {
     "output_type": "execute_result",
     "data": {
      "text/plain": "105-element Array{Int64,1}:\n 3\n 1\n 2\n 2\n 2\n 3\n 1\n 2\n 3\n 1\n ⋮\n 3\n 3\n 1\n 3\n 3\n 3\n 1\n 1\n 1"
     },
     "metadata": {},
     "execution_count": 15
    }
   ],
   "cell_type": "code",
   "source": [
    "# Train in simple supervised mode by passing the labels as a keyword argument.\n",
    "y_hat_train_1 = train!(my_fuzzyart_1, X_train, y=y_train)\n",
    "y_hat_train_2 = train!(my_fuzzyart_2, X_train, y=y_train)"
   ],
   "metadata": {},
   "execution_count": 15
  },
  {
   "cell_type": "markdown",
   "source": [
    "We then classify the test data with both modules:"
   ],
   "metadata": {}
  },
  {
   "outputs": [
    {
     "name": "stdout",
     "output_type": "stream",
     "text": [
      "FuzzyART 1 labels: (45,) Array{Int64,1}\n",
      "FuzzyART 2 labels: (45,) Array{Int64,1}\n",
      "Testing performance rho=0.5: 0.9111\n",
      "Testing performance rho=0.7: 0.9556\n"
     ]
    }
   ],
   "cell_type": "code",
   "source": [
    "y_hat_1 = AdaptiveResonance.classify(my_fuzzyart_1, X_test, get_bmu=true)\n",
    "y_hat_2 = AdaptiveResonance.classify(my_fuzzyart_2, X_test, get_bmu=true)\n",
    "\n",
    "# Check the shape and type of the output labels\n",
    "println(\"FuzzyART 1 labels: \",  size(y_hat_1), \" \", typeof(y_hat_1))\n",
    "println(\"FuzzyART 2 labels: \",  size(y_hat_2), \" \", typeof(y_hat_2))\n",
    "\n",
    "# Calculate the performance on the test data\n",
    "perf_test_1 = performance(y_hat_1, y_test)\n",
    "perf_test_2 = performance(y_hat_2, y_test)\n",
    "\n",
    "# Format each performance number for comparison\n",
    "@printf \"Testing performance rho=%.1f: %.4f\\n\" rho_1 perf_test_1\n",
    "@printf \"Testing performance rho=%.1f: %.4f\\n\" rho_2 perf_test_2"
   ],
   "metadata": {},
   "execution_count": 16
  },
  {
   "cell_type": "markdown",
   "source": [
    "In addition to having different performances, we can see that there is a subsequent trade-off in the number of categories used:"
   ],
   "metadata": {}
  },
  {
   "outputs": [
    {
     "name": "stdout",
     "output_type": "stream",
     "text": [
      "Number of categories rho=0.5: 18\n",
      "Number of categories rho=0.7: 13\n"
     ]
    }
   ],
   "cell_type": "code",
   "source": [
    "# Print the number of categories for each vigilance parameter\n",
    "@printf \"Number of categories rho=%.1f: %i\\n\" rho_1 my_fuzzyart_1.n_categories\n",
    "@printf \"Number of categories rho=%.1f: %i\\n\" rho_2 my_fuzzyart_2.n_categories"
   ],
   "metadata": {},
   "execution_count": 17
  },
  {
   "cell_type": "markdown",
   "source": [
    "The variation between vigilance parameter, number of categories created during learning, and testing performance/generalization is a central theme in ART-based algorithms."
   ],
   "metadata": {}
  },
  {
   "cell_type": "markdown",
   "source": [
    "## Visualization"
   ],
   "metadata": {}
  },
  {
   "cell_type": "markdown",
   "source": [
    "Now, to visualize how the two models differ in how they partition the data, we can use principal component analysis (PCA) to compress to two plotting dimensions.\n",
    "PCA is a method to represent a dataset in a different number of dimensions while preserving the relative separation between datapoints.\n",
    "Though most datasets are not able to be effectively transformed down to two dimensions, this technique is useful to get a general sense of how well separated the classes are and how well your algorithm classifies them."
   ],
   "metadata": {}
  },
  {
   "outputs": [
    {
     "name": "stdout",
     "output_type": "stream",
     "text": [
      "┌ Warning: `transform(f, x)` is deprecated, use `predict(f, x)` instead.\n",
      "│   caller = top-level scope at options.ipynb:5\n",
      "└ @ Core ~/work/AdaptiveResonance.jl/AdaptiveResonance.jl/docs/src/examples/adaptive_resonance/options.ipynb:5\n"
     ]
    },
    {
     "output_type": "execute_result",
     "data": {
      "text/plain": "2×45 Array{Float64,2}:\n -2.14499   -0.331127   0.174864  2.72859   …  -0.262336   0.307335  2.41008\n  0.138907  -0.21118   -0.251816  0.333925     -0.547893  -0.365087  0.41808"
     },
     "metadata": {},
     "execution_count": 18
    }
   ],
   "cell_type": "code",
   "source": [
    "# Train a PCA model to visually separate the features in two dimensions.\n",
    "M = fit(PCA, features; maxoutdim=2)\n",
    "\n",
    "# Apply the PCA model to the testing set\n",
    "X_test_pca = transform(M, X_test)"
   ],
   "metadata": {},
   "execution_count": 18
  },
  {
   "cell_type": "markdown",
   "source": [
    "We can now plot the PCA'ed test set and label them according to the two FuzzyART's"
   ],
   "metadata": {}
  },
  {
   "outputs": [
    {
     "output_type": "execute_result",
     "data": {
      "text/plain": "Plot{Plots.GRBackend() n=6}",
      "image/png": "[encoded data removed]",
      "text/html": [
       "<?xml version=\"1.0\" encoding=\"utf-8\"?>\n",
       "<svg xmlns=\"http://www.w3.org/2000/svg\" xmlns:xlink=\"http://www.w3.org/1999/xlink\" width=\"600\" height=\"400\" viewBox=\"0 0 2400 1600\">\n",
       "<defs>\n",
       "  <clipPath id=\"clip680\">\n",
       "    <rect x=\"0\" y=\"0\" width=\"2400\" height=\"1600\"/>\n",
       "  </clipPath>\n",
       "</defs>\n",
       "<path clip-path=\"url(#clip680)\" d=\"\n",
       "M0 1600 L2400 1600 L2400 0 L0 0  Z\n",
       "  \" fill=\"#ffffff\" fill-rule=\"evenodd\" fill-opacity=\"1\"/>\n",
       "<defs>\n",
       "  <clipPath id=\"clip681\">\n",
       "    <rect x=\"480\" y=\"0\" width=\"1681\" height=\"1600\"/>\n",
       "  </clipPath>\n",
       "</defs>\n",
       "<path clip-path=\"url(#clip680)\" d=\"\n",
       "M86.9921 1521.01 L1152.76 1521.01 L1152.76 62.9921 L86.9921 62.9921  Z\n",
       "  \" fill=\"#ffffff\" fill-rule=\"evenodd\" fill-opacity=\"1\"/>\n",
       "<defs>\n",
       "  <clipPath id=\"clip682\">\n",
       "    <rect x=\"86\" y=\"62\" width=\"1067\" height=\"1459\"/>\n",
       "  </clipPath>\n",
       "</defs>\n",
       "<polyline clip-path=\"url(#clip682)\" style=\"stroke:#000000; stroke-width:2; stroke-opacity:0.1; fill:none\" points=\"\n",
       "  103.736,1521.01 103.736,62.9921 \n",
       "  \"/>\n",
       "<polyline clip-path=\"url(#clip682)\" style=\"stroke:#000000; stroke-width:2; stroke-opacity:0.1; fill:none\" points=\"\n",
       "  267.649,1521.01 267.649,62.9921 \n",
       "  \"/>\n",
       "<polyline clip-path=\"url(#clip682)\" style=\"stroke:#000000; stroke-width:2; stroke-opacity:0.1; fill:none\" points=\"\n",
       "  431.561,1521.01 431.561,62.9921 \n",
       "  \"/>\n",
       "<polyline clip-path=\"url(#clip682)\" style=\"stroke:#000000; stroke-width:2; stroke-opacity:0.1; fill:none\" points=\"\n",
       "  595.474,1521.01 595.474,62.9921 \n",
       "  \"/>\n",
       "<polyline clip-path=\"url(#clip682)\" style=\"stroke:#000000; stroke-width:2; stroke-opacity:0.1; fill:none\" points=\"\n",
       "  759.386,1521.01 759.386,62.9921 \n",
       "  \"/>\n",
       "<polyline clip-path=\"url(#clip682)\" style=\"stroke:#000000; stroke-width:2; stroke-opacity:0.1; fill:none\" points=\"\n",
       "  923.299,1521.01 923.299,62.9921 \n",
       "  \"/>\n",
       "<polyline clip-path=\"url(#clip682)\" style=\"stroke:#000000; stroke-width:2; stroke-opacity:0.1; fill:none\" points=\"\n",
       "  1087.21,1521.01 1087.21,62.9921 \n",
       "  \"/>\n",
       "<polyline clip-path=\"url(#clip680)\" style=\"stroke:#000000; stroke-width:4; stroke-opacity:1; fill:none\" points=\"\n",
       "  86.9921,1521.01 1152.76,1521.01 \n",
       "  \"/>\n",
       "<polyline clip-path=\"url(#clip680)\" style=\"stroke:#000000; stroke-width:4; stroke-opacity:1; fill:none\" points=\"\n",
       "  103.736,1521.01 103.736,1503.51 \n",
       "  \"/>\n",
       "<polyline clip-path=\"url(#clip680)\" style=\"stroke:#000000; stroke-width:4; stroke-opacity:1; fill:none\" points=\"\n",
       "  267.649,1521.01 267.649,1503.51 \n",
       "  \"/>\n",
       "<polyline clip-path=\"url(#clip680)\" style=\"stroke:#000000; stroke-width:4; stroke-opacity:1; fill:none\" points=\"\n",
       "  431.561,1521.01 431.561,1503.51 \n",
       "  \"/>\n",
       "<polyline clip-path=\"url(#clip680)\" style=\"stroke:#000000; stroke-width:4; stroke-opacity:1; fill:none\" points=\"\n",
       "  595.474,1521.01 595.474,1503.51 \n",
       "  \"/>\n",
       "<polyline clip-path=\"url(#clip680)\" style=\"stroke:#000000; stroke-width:4; stroke-opacity:1; fill:none\" points=\"\n",
       "  759.386,1521.01 759.386,1503.51 \n",
       "  \"/>\n",
       "<polyline clip-path=\"url(#clip680)\" style=\"stroke:#000000; stroke-width:4; stroke-opacity:1; fill:none\" points=\"\n",
       "  923.299,1521.01 923.299,1503.51 \n",
       "  \"/>\n",
       "<polyline clip-path=\"url(#clip680)\" style=\"stroke:#000000; stroke-width:4; stroke-opacity:1; fill:none\" points=\"\n",
       "  1087.21,1521.01 1087.21,1503.51 \n",
       "  \"/>\n",
       "<path clip-path=\"url(#clip680)\" d=\"M 0 0 M82.7209 1558.69 L104.978 1558.69 L104.978 1561.64 L82.7209 1561.64 L82.7209 1558.69 Z\" fill=\"#000000\" fill-rule=\"evenodd\" fill-opacity=\"1\" /><path clip-path=\"url(#clip680)\" d=\"M 0 0 M119.405 1557.34 Q121.922 1557.87 123.328 1559.58 Q124.752 1561.28 124.752 1563.78 Q124.752 1567.61 122.113 1569.71 Q119.474 1571.82 114.613 1571.82 Q112.981 1571.82 111.245 1571.49 Q109.526 1571.17 107.686 1570.53 L107.686 1567.15 Q109.144 1568 110.88 1568.43 Q112.617 1568.86 114.509 1568.86 Q117.808 1568.86 119.526 1567.56 Q121.262 1566.26 121.262 1563.78 Q121.262 1561.49 119.648 1560.2 Q118.051 1558.9 115.186 1558.9 L112.165 1558.9 L112.165 1556.02 L115.325 1556.02 Q117.912 1556.02 119.283 1554.99 Q120.655 1553.95 120.655 1552.01 Q120.655 1550.01 119.231 1548.95 Q117.825 1547.87 115.186 1547.87 Q113.745 1547.87 112.096 1548.19 Q110.446 1548.5 108.467 1549.16 L108.467 1546.03 Q110.464 1545.48 112.2 1545.2 Q113.953 1544.92 115.499 1544.92 Q119.492 1544.92 121.818 1546.75 Q124.144 1548.55 124.144 1551.64 Q124.144 1553.79 122.912 1555.29 Q121.679 1556.76 119.405 1557.34 Z\" fill=\"#000000\" fill-rule=\"evenodd\" fill-opacity=\"1\" /><path clip-path=\"url(#clip680)\" d=\"M 0 0 M246.989 1558.69 L269.246 1558.69 L269.246 1561.64 L246.989 1561.64 L246.989 1558.69 Z\" fill=\"#000000\" fill-rule=\"evenodd\" fill-opacity=\"1\" /><path clip-path=\"url(#clip680)\" d=\"M 0 0 M276.069 1568.36 L288.308 1568.36 L288.308 1571.31 L271.85 1571.31 L271.85 1568.36 Q273.847 1566.29 277.284 1562.82 Q280.739 1559.33 281.624 1558.33 Q283.309 1556.43 283.968 1555.13 Q284.645 1553.81 284.645 1552.54 Q284.645 1550.48 283.187 1549.18 Q281.746 1547.87 279.42 1547.87 Q277.77 1547.87 275.93 1548.45 Q274.107 1549.02 272.024 1550.18 L272.024 1546.64 Q274.142 1545.79 275.982 1545.36 Q277.822 1544.92 279.35 1544.92 Q283.378 1544.92 285.774 1546.94 Q288.17 1548.95 288.17 1552.32 Q288.17 1553.92 287.562 1555.36 Q286.972 1556.78 285.392 1558.73 Q284.958 1559.23 282.631 1561.64 Q280.305 1564.04 276.069 1568.36 Z\" fill=\"#000000\" fill-rule=\"evenodd\" fill-opacity=\"1\" /><path clip-path=\"url(#clip680)\" d=\"M 0 0 M410.763 1558.69 L433.02 1558.69 L433.02 1561.64 L410.763 1561.64 L410.763 1558.69 Z\" fill=\"#000000\" fill-rule=\"evenodd\" fill-opacity=\"1\" /><path clip-path=\"url(#clip680)\" d=\"M 0 0 M437.429 1568.36 L443.158 1568.36 L443.158 1548.59 L436.926 1549.84 L436.926 1546.64 L443.124 1545.39 L446.631 1545.39 L446.631 1568.36 L452.36 1568.36 L452.36 1571.31 L437.429 1571.31 L437.429 1568.36 Z\" fill=\"#000000\" fill-rule=\"evenodd\" fill-opacity=\"1\" /><path clip-path=\"url(#clip680)\" d=\"M 0 0 M595.474 1547.7 Q592.765 1547.7 591.394 1550.37 Q590.04 1553.03 590.04 1558.38 Q590.04 1563.71 591.394 1566.38 Q592.765 1569.04 595.474 1569.04 Q598.199 1569.04 599.554 1566.38 Q600.925 1563.71 600.925 1558.38 Q600.925 1553.03 599.554 1550.37 Q598.199 1547.7 595.474 1547.7 M595.474 1544.92 Q599.831 1544.92 602.123 1548.38 Q604.432 1551.82 604.432 1558.38 Q604.432 1564.92 602.123 1568.38 Q599.831 1571.82 595.474 1571.82 Q591.116 1571.82 588.807 1568.38 Q586.515 1564.92 586.515 1558.38 Q586.515 1551.82 588.807 1548.38 Q591.116 1544.92 595.474 1544.92 Z\" fill=\"#000000\" fill-rule=\"evenodd\" fill-opacity=\"1\" /><path clip-path=\"url(#clip680)\" d=\"M 0 0 M752.173 1568.36 L757.902 1568.36 L757.902 1548.59 L751.669 1549.84 L751.669 1546.64 L757.867 1545.39 L761.374 1545.39 L761.374 1568.36 L767.103 1568.36 L767.103 1571.31 L752.173 1571.31 L752.173 1568.36 Z\" fill=\"#000000\" fill-rule=\"evenodd\" fill-opacity=\"1\" /><path clip-path=\"url(#clip680)\" d=\"M 0 0 M919.288 1568.36 L931.528 1568.36 L931.528 1571.31 L915.069 1571.31 L915.069 1568.36 Q917.066 1566.29 920.503 1562.82 Q923.958 1559.33 924.844 1558.33 Q926.528 1556.43 927.187 1555.13 Q927.865 1553.81 927.865 1552.54 Q927.865 1550.48 926.406 1549.18 Q924.965 1547.87 922.639 1547.87 Q920.99 1547.87 919.149 1548.45 Q917.326 1549.02 915.243 1550.18 L915.243 1546.64 Q917.361 1545.79 919.201 1545.36 Q921.042 1544.92 922.569 1544.92 Q926.597 1544.92 928.993 1546.94 Q931.389 1548.95 931.389 1552.32 Q931.389 1553.92 930.781 1555.36 Q930.191 1556.78 928.611 1558.73 Q928.177 1559.23 925.851 1561.64 Q923.524 1564.04 919.288 1568.36 Z\" fill=\"#000000\" fill-rule=\"evenodd\" fill-opacity=\"1\" /><path clip-path=\"url(#clip680)\" d=\"M 0 0 M1090.4 1557.34 Q1092.91 1557.87 1094.32 1559.58 Q1095.74 1561.28 1095.74 1563.78 Q1095.74 1567.61 1093.11 1569.71 Q1090.47 1571.82 1085.61 1571.82 Q1083.97 1571.82 1082.24 1571.49 Q1080.52 1571.17 1078.68 1570.53 L1078.68 1567.15 Q1080.14 1568 1081.87 1568.43 Q1083.61 1568.86 1085.5 1568.86 Q1088.8 1568.86 1090.52 1567.56 Q1092.25 1566.26 1092.25 1563.78 Q1092.25 1561.49 1090.64 1560.2 Q1089.04 1558.9 1086.18 1558.9 L1083.16 1558.9 L1083.16 1556.02 L1086.32 1556.02 Q1088.9 1556.02 1090.28 1554.99 Q1091.65 1553.95 1091.65 1552.01 Q1091.65 1550.01 1090.22 1548.95 Q1088.82 1547.87 1086.18 1547.87 Q1084.74 1547.87 1083.09 1548.19 Q1081.44 1548.5 1079.46 1549.16 L1079.46 1546.03 Q1081.46 1545.48 1083.19 1545.2 Q1084.95 1544.92 1086.49 1544.92 Q1090.48 1544.92 1092.81 1546.75 Q1095.14 1548.55 1095.14 1551.64 Q1095.14 1553.79 1093.9 1555.29 Q1092.67 1556.76 1090.4 1557.34 Z\" fill=\"#000000\" fill-rule=\"evenodd\" fill-opacity=\"1\" /><polyline clip-path=\"url(#clip682)\" style=\"stroke:#000000; stroke-width:2; stroke-opacity:0.1; fill:none\" points=\"\n",
       "  86.9921,1303 1152.76,1303 \n",
       "  \"/>\n",
       "<polyline clip-path=\"url(#clip682)\" style=\"stroke:#000000; stroke-width:2; stroke-opacity:0.1; fill:none\" points=\"\n",
       "  86.9921,966.35 1152.76,966.35 \n",
       "  \"/>\n",
       "<polyline clip-path=\"url(#clip682)\" style=\"stroke:#000000; stroke-width:2; stroke-opacity:0.1; fill:none\" points=\"\n",
       "  86.9921,629.695 1152.76,629.695 \n",
       "  \"/>\n",
       "<polyline clip-path=\"url(#clip682)\" style=\"stroke:#000000; stroke-width:2; stroke-opacity:0.1; fill:none\" points=\"\n",
       "  86.9921,293.04 1152.76,293.04 \n",
       "  \"/>\n",
       "<polyline clip-path=\"url(#clip680)\" style=\"stroke:#000000; stroke-width:4; stroke-opacity:1; fill:none\" points=\"\n",
       "  86.9921,1521.01 86.9921,62.9921 \n",
       "  \"/>\n",
       "<polyline clip-path=\"url(#clip680)\" style=\"stroke:#000000; stroke-width:4; stroke-opacity:1; fill:none\" points=\"\n",
       "  86.9921,1303 99.7813,1303 \n",
       "  \"/>\n",
       "<polyline clip-path=\"url(#clip680)\" style=\"stroke:#000000; stroke-width:4; stroke-opacity:1; fill:none\" points=\"\n",
       "  86.9921,966.35 99.7813,966.35 \n",
       "  \"/>\n",
       "<polyline clip-path=\"url(#clip680)\" style=\"stroke:#000000; stroke-width:4; stroke-opacity:1; fill:none\" points=\"\n",
       "  86.9921,629.695 99.7813,629.695 \n",
       "  \"/>\n",
       "<polyline clip-path=\"url(#clip680)\" style=\"stroke:#000000; stroke-width:4; stroke-opacity:1; fill:none\" points=\"\n",
       "  86.9921,293.04 99.7813,293.04 \n",
       "  \"/>\n",
       "<path clip-path=\"url(#clip680)\" d=\"M 0 0 M-41.4379 1303.46 L-11.7622 1303.46 L-11.7622 1307.39 L-41.4379 1307.39 L-41.4379 1303.46 Z\" fill=\"#000000\" fill-rule=\"evenodd\" fill-opacity=\"1\" /><path clip-path=\"url(#clip680)\" d=\"M 0 0 M-5.88257 1316.35 L1.75628 1316.35 L1.75628 1289.98 L-6.55386 1291.65 L-6.55386 1287.39 L1.70998 1285.72 L6.38588 1285.72 L6.38588 1316.35 L14.0247 1316.35 L14.0247 1320.28 L-5.88257 1320.28 L-5.88257 1316.35 Z\" fill=\"#000000\" fill-rule=\"evenodd\" fill-opacity=\"1\" /><path clip-path=\"url(#clip680)\" d=\"M 0 0 M19.0941 1314.41 L23.9784 1314.41 L23.9784 1320.28 L19.0941 1320.28 L19.0941 1314.41 Z\" fill=\"#000000\" fill-rule=\"evenodd\" fill-opacity=\"1\" /><path clip-path=\"url(#clip680)\" d=\"M 0 0 M39.0477 1288.8 Q35.4367 1288.8 33.608 1292.37 Q31.8024 1295.91 31.8024 1303.04 Q31.8024 1310.15 33.608 1313.71 Q35.4367 1317.25 39.0477 1317.25 Q42.682 1317.25 44.4875 1313.71 Q46.3162 1310.15 46.3162 1303.04 Q46.3162 1295.91 44.4875 1292.37 Q42.682 1288.8 39.0477 1288.8 M39.0477 1285.1 Q44.8579 1285.1 47.9134 1289.71 Q50.9921 1294.29 50.9921 1303.04 Q50.9921 1311.77 47.9134 1316.37 Q44.8579 1320.96 39.0477 1320.96 Q33.2376 1320.96 30.1589 1316.37 Q27.1034 1311.77 27.1034 1303.04 Q27.1034 1294.29 30.1589 1289.71 Q33.2376 1285.1 39.0477 1285.1 Z\" fill=\"#000000\" fill-rule=\"evenodd\" fill-opacity=\"1\" /><path clip-path=\"url(#clip680)\" d=\"M 0 0 M-41.6694 966.801 L-11.9936 966.801 L-11.9936 970.736 L-41.6694 970.736 L-41.6694 966.801 Z\" fill=\"#000000\" fill-rule=\"evenodd\" fill-opacity=\"1\" /><path clip-path=\"url(#clip680)\" d=\"M 0 0 M3.07572 952.149 Q-0.535376 952.149 -2.36407 955.713 Q-4.16962 959.255 -4.16962 966.385 Q-4.16962 973.491 -2.36407 977.056 Q-0.535376 980.597 3.07572 980.597 Q6.70996 980.597 8.5155 977.056 Q10.3442 973.491 10.3442 966.385 Q10.3442 959.255 8.5155 955.713 Q6.70996 952.149 3.07572 952.149 M3.07572 948.445 Q8.88587 948.445 11.9414 953.051 Q15.0201 957.635 15.0201 966.385 Q15.0201 975.111 11.9414 979.718 Q8.88587 984.301 3.07572 984.301 Q-2.73444 984.301 -5.81313 979.718 Q-8.86866 975.111 -8.86866 966.385 Q-8.86866 957.635 -5.81313 953.051 Q-2.73444 948.445 3.07572 948.445 Z\" fill=\"#000000\" fill-rule=\"evenodd\" fill-opacity=\"1\" /><path clip-path=\"url(#clip680)\" d=\"M 0 0 M20.0895 977.75 L24.9737 977.75 L24.9737 983.63 L20.0895 983.63 L20.0895 977.75 Z\" fill=\"#000000\" fill-rule=\"evenodd\" fill-opacity=\"1\" /><path clip-path=\"url(#clip680)\" d=\"M 0 0 M30.0895 949.07 L48.4458 949.07 L48.4458 953.005 L34.3718 953.005 L34.3718 961.477 Q35.3904 961.13 36.4089 960.968 Q37.4274 960.783 38.4459 960.783 Q44.2329 960.783 47.6125 963.954 Q50.9921 967.125 50.9921 972.542 Q50.9921 978.121 47.5199 981.222 Q44.0477 984.301 37.7283 984.301 Q35.5524 984.301 33.2839 983.931 Q31.0385 983.56 28.6311 982.82 L28.6311 978.121 Q30.7145 979.255 32.9367 979.81 Q35.1589 980.366 37.6357 980.366 Q41.6403 980.366 43.9783 978.259 Q46.3162 976.153 46.3162 972.542 Q46.3162 968.931 43.9783 966.824 Q41.6403 964.718 37.6357 964.718 Q35.7607 964.718 33.8857 965.135 Q32.0339 965.551 30.0895 966.431 L30.0895 949.07 Z\" fill=\"#000000\" fill-rule=\"evenodd\" fill-opacity=\"1\" /><path clip-path=\"url(#clip680)\" d=\"M 0 0 M2.08035 615.493 Q-1.53074 615.493 -3.35943 619.058 Q-5.16498 622.6 -5.16498 629.73 Q-5.16498 636.836 -3.35943 640.401 Q-1.53074 643.942 2.08035 643.942 Q5.71459 643.942 7.52014 640.401 Q9.34883 636.836 9.34883 629.73 Q9.34883 622.6 7.52014 619.058 Q5.71459 615.493 2.08035 615.493 M2.08035 611.79 Q7.89051 611.79 10.946 616.396 Q14.0247 620.98 14.0247 629.73 Q14.0247 638.456 10.946 643.063 Q7.89051 647.646 2.08035 647.646 Q-3.7298 647.646 -6.80849 643.063 Q-9.86403 638.456 -9.86403 629.73 Q-9.86403 620.98 -6.80849 616.396 Q-3.7298 611.79 2.08035 611.79 Z\" fill=\"#000000\" fill-rule=\"evenodd\" fill-opacity=\"1\" /><path clip-path=\"url(#clip680)\" d=\"M 0 0 M19.0941 641.095 L23.9784 641.095 L23.9784 646.975 L19.0941 646.975 L19.0941 641.095 Z\" fill=\"#000000\" fill-rule=\"evenodd\" fill-opacity=\"1\" /><path clip-path=\"url(#clip680)\" d=\"M 0 0 M39.0477 615.493 Q35.4367 615.493 33.608 619.058 Q31.8024 622.6 31.8024 629.73 Q31.8024 636.836 33.608 640.401 Q35.4367 643.942 39.0477 643.942 Q42.682 643.942 44.4875 640.401 Q46.3162 636.836 46.3162 629.73 Q46.3162 622.6 44.4875 619.058 Q42.682 615.493 39.0477 615.493 M39.0477 611.79 Q44.8579 611.79 47.9134 616.396 Q50.9921 620.98 50.9921 629.73 Q50.9921 638.456 47.9134 643.063 Q44.8579 647.646 39.0477 647.646 Q33.2376 647.646 30.1589 643.063 Q27.1034 638.456 27.1034 629.73 Q27.1034 620.98 30.1589 616.396 Q33.2376 611.79 39.0477 611.79 Z\" fill=\"#000000\" fill-rule=\"evenodd\" fill-opacity=\"1\" /><path clip-path=\"url(#clip680)\" d=\"M 0 0 M3.07572 278.838 Q-0.535376 278.838 -2.36407 282.403 Q-4.16962 285.945 -4.16962 293.075 Q-4.16962 300.181 -2.36407 303.746 Q-0.535376 307.287 3.07572 307.287 Q6.70996 307.287 8.5155 303.746 Q10.3442 300.181 10.3442 293.075 Q10.3442 285.945 8.5155 282.403 Q6.70996 278.838 3.07572 278.838 M3.07572 275.135 Q8.88587 275.135 11.9414 279.741 Q15.0201 284.325 15.0201 293.075 Q15.0201 301.801 11.9414 306.408 Q8.88587 310.991 3.07572 310.991 Q-2.73444 310.991 -5.81313 306.408 Q-8.86866 301.801 -8.86866 293.075 Q-8.86866 284.325 -5.81313 279.741 Q-2.73444 275.135 3.07572 275.135 Z\" fill=\"#000000\" fill-rule=\"evenodd\" fill-opacity=\"1\" /><path clip-path=\"url(#clip680)\" d=\"M 0 0 M20.0895 304.44 L24.9737 304.44 L24.9737 310.32 L20.0895 310.32 L20.0895 304.44 Z\" fill=\"#000000\" fill-rule=\"evenodd\" fill-opacity=\"1\" /><path clip-path=\"url(#clip680)\" d=\"M 0 0 M30.0895 275.76 L48.4458 275.76 L48.4458 279.695 L34.3718 279.695 L34.3718 288.167 Q35.3904 287.82 36.4089 287.658 Q37.4274 287.473 38.4459 287.473 Q44.2329 287.473 47.6125 290.644 Q50.9921 293.815 50.9921 299.232 Q50.9921 304.811 47.5199 307.912 Q44.0477 310.991 37.7283 310.991 Q35.5524 310.991 33.2839 310.621 Q31.0385 310.25 28.6311 309.51 L28.6311 304.811 Q30.7145 305.945 32.9367 306.5 Q35.1589 307.056 37.6357 307.056 Q41.6403 307.056 43.9783 304.949 Q46.3162 302.843 46.3162 299.232 Q46.3162 295.621 43.9783 293.514 Q41.6403 291.408 37.6357 291.408 Q35.7607 291.408 33.8857 291.825 Q32.0339 292.241 30.0895 293.121 L30.0895 275.76 Z\" fill=\"#000000\" fill-rule=\"evenodd\" fill-opacity=\"1\" /><path clip-path=\"url(#clip680)\" d=\"M 0 0 M410.581 6.912 L430.442 6.912 L430.442 10.8472 L415.257 10.8472 L415.257 21.0323 L428.961 21.0323 L428.961 24.9675 L415.257 24.9675 L415.257 41.472 L410.581 41.472 L410.581 6.912 Z\" fill=\"#000000\" fill-rule=\"evenodd\" fill-opacity=\"1\" /><path clip-path=\"url(#clip680)\" d=\"M 0 0 M431.877 31.2406 L431.877 15.5462 L436.137 15.5462 L436.137 31.0785 Q436.137 34.7591 437.572 36.6109 Q439.007 38.4396 441.877 38.4396 Q445.326 38.4396 447.317 36.2405 Q449.331 34.0415 449.331 30.2452 L449.331 15.5462 L453.59 15.5462 L453.59 41.472 L449.331 41.472 L449.331 37.4905 Q447.78 39.8516 445.72 41.009 Q443.683 42.1433 440.975 42.1433 Q436.507 42.1433 434.192 39.3655 Q431.877 36.5878 431.877 31.2406 M442.595 14.9212 L442.595 14.9212 Z\" fill=\"#000000\" fill-rule=\"evenodd\" fill-opacity=\"1\" /><path clip-path=\"url(#clip680)\" d=\"M 0 0 M456.206 15.5462 L476.437 15.5462 L476.437 19.4351 L460.419 38.0692 L476.437 38.0692 L476.437 41.472 L455.627 41.472 L455.627 37.5831 L471.646 18.949 L456.206 18.949 L456.206 15.5462 Z\" fill=\"#000000\" fill-rule=\"evenodd\" fill-opacity=\"1\" /><path clip-path=\"url(#clip680)\" d=\"M 0 0 M479.053 15.5462 L499.284 15.5462 L499.284 19.4351 L483.266 38.0692 L499.284 38.0692 L499.284 41.472 L478.474 41.472 L478.474 37.5831 L494.493 18.949 L479.053 18.949 L479.053 15.5462 Z\" fill=\"#000000\" fill-rule=\"evenodd\" fill-opacity=\"1\" /><path clip-path=\"url(#clip680)\" d=\"M 0 0 M514.539 43.8794 Q512.733 48.509 511.02 49.921 Q509.307 51.3331 506.437 51.3331 L503.034 51.3331 L503.034 47.7683 L505.534 47.7683 Q507.294 47.7683 508.266 46.9349 Q509.238 46.1016 510.419 42.9998 L511.182 41.0553 L500.696 15.5462 L505.21 15.5462 L513.312 35.8239 L521.414 15.5462 L525.928 15.5462 L514.539 43.8794 Z\" fill=\"#000000\" fill-rule=\"evenodd\" fill-opacity=\"1\" /><path clip-path=\"url(#clip680)\" d=\"M 0 0 M542.131 11.5185 L535.789 28.7174 L548.497 28.7174 L542.131 11.5185 M539.493 6.912 L544.793 6.912 L557.965 41.472 L553.104 41.472 L549.955 32.6063 L534.377 32.6063 L531.229 41.472 L526.298 41.472 L539.493 6.912 Z\" fill=\"#000000\" fill-rule=\"evenodd\" fill-opacity=\"1\" /><path clip-path=\"url(#clip680)\" d=\"M 0 0 M579.006 25.2684 Q580.511 25.7776 581.923 27.4443 Q583.358 29.111 584.793 32.0276 L589.539 41.472 L584.515 41.472 L580.094 32.6063 Q578.381 29.1341 576.761 27.9998 Q575.164 26.8656 572.386 26.8656 L567.293 26.8656 L567.293 41.472 L562.617 41.472 L562.617 6.912 L573.173 6.912 Q579.099 6.912 582.015 9.38884 Q584.932 11.8657 584.932 16.8657 Q584.932 20.1295 583.404 22.2823 Q581.9 24.4351 579.006 25.2684 M567.293 10.7546 L567.293 23.023 L573.173 23.023 Q576.552 23.023 578.265 21.4721 Q580.002 19.898 580.002 16.8657 Q580.002 13.8333 578.265 12.3055 Q576.552 10.7546 573.173 10.7546 L567.293 10.7546 Z\" fill=\"#000000\" fill-rule=\"evenodd\" fill-opacity=\"1\" /><path clip-path=\"url(#clip680)\" d=\"M 0 0 M585.951 6.912 L615.187 6.912 L615.187 10.8472 L602.918 10.8472 L602.918 41.472 L598.219 41.472 L598.219 10.8472 L585.951 10.8472 L585.951 6.912 Z\" fill=\"#000000\" fill-rule=\"evenodd\" fill-opacity=\"1\" /><path clip-path=\"url(#clip680)\" d=\"M 0 0 M649.747 19.5277 Q649.029 19.111 648.172 18.9258 Q647.339 18.7175 646.321 18.7175 Q642.71 18.7175 640.765 21.0786 Q638.844 23.4165 638.844 27.8147 L638.844 41.472 L634.561 41.472 L634.561 15.5462 L638.844 15.5462 L638.844 19.574 Q640.186 17.2129 642.339 16.0786 Q644.492 14.9212 647.571 14.9212 Q648.01 14.9212 648.543 14.9907 Q649.075 15.037 649.723 15.1527 L649.747 19.5277 Z\" fill=\"#000000\" fill-rule=\"evenodd\" fill-opacity=\"1\" /><path clip-path=\"url(#clip680)\" d=\"M 0 0 M674.932 25.8239 L674.932 41.472 L670.672 41.472 L670.672 25.9628 Q670.672 22.2823 669.237 20.4536 Q667.802 18.6249 664.932 18.6249 Q661.483 18.6249 659.492 20.824 Q657.501 23.023 657.501 26.8193 L657.501 41.472 L653.219 41.472 L653.219 5.45367 L657.501 5.45367 L657.501 19.574 Q659.029 17.236 661.089 16.0786 Q663.172 14.9212 665.881 14.9212 Q670.348 14.9212 672.64 17.699 Q674.932 20.4536 674.932 25.8239 Z\" fill=\"#000000\" fill-rule=\"evenodd\" fill-opacity=\"1\" /><path clip-path=\"url(#clip680)\" d=\"M 0 0 M689.445 18.5323 Q686.019 18.5323 684.029 21.2175 Q682.038 23.8795 682.038 28.5323 Q682.038 33.185 684.006 35.8702 Q685.996 38.5322 689.445 38.5322 Q692.848 38.5322 694.839 35.847 Q696.83 33.1619 696.83 28.5323 Q696.83 23.9258 694.839 21.2406 Q692.848 18.5323 689.445 18.5323 M689.445 14.9212 Q695.001 14.9212 698.172 18.5323 Q701.343 22.1434 701.343 28.5323 Q701.343 34.898 698.172 38.5322 Q695.001 42.1433 689.445 42.1433 Q683.867 42.1433 680.695 38.5322 Q677.547 34.898 677.547 28.5323 Q677.547 22.1434 680.695 18.5323 Q683.867 14.9212 689.445 14.9212 Z\" fill=\"#000000\" fill-rule=\"evenodd\" fill-opacity=\"1\" /><path clip-path=\"url(#clip680)\" d=\"M 0 0 M721.436 19.9443 L751.112 19.9443 L751.112 23.8332 L721.436 23.8332 L721.436 19.9443 M721.436 29.3887 L751.112 29.3887 L751.112 33.3239 L721.436 33.3239 L721.436 29.3887 Z\" fill=\"#000000\" fill-rule=\"evenodd\" fill-opacity=\"1\" /><path clip-path=\"url(#clip680)\" d=\"M 0 0 M781.25 9.99069 Q777.639 9.99069 775.811 13.5555 Q774.005 17.0971 774.005 24.2267 Q774.005 31.3332 775.811 34.898 Q777.639 38.4396 781.25 38.4396 Q784.885 38.4396 786.69 34.898 Q788.519 31.3332 788.519 24.2267 Q788.519 17.0971 786.69 13.5555 Q784.885 9.99069 781.25 9.99069 M781.25 6.287 Q787.061 6.287 790.116 10.8935 Q793.195 15.4768 793.195 24.2267 Q793.195 32.9535 790.116 37.56 Q787.061 42.1433 781.25 42.1433 Q775.44 42.1433 772.362 37.56 Q769.306 32.9535 769.306 24.2267 Q769.306 15.4768 772.362 10.8935 Q775.44 6.287 781.25 6.287 Z\" fill=\"#000000\" fill-rule=\"evenodd\" fill-opacity=\"1\" /><path clip-path=\"url(#clip680)\" d=\"M 0 0 M798.264 35.5924 L803.148 35.5924 L803.148 41.472 L798.264 41.472 L798.264 35.5924 Z\" fill=\"#000000\" fill-rule=\"evenodd\" fill-opacity=\"1\" /><path clip-path=\"url(#clip680)\" d=\"M 0 0 M808.264 6.912 L826.621 6.912 L826.621 10.8472 L812.547 10.8472 L812.547 19.3193 Q813.565 18.9721 814.584 18.8101 Q815.602 18.6249 816.621 18.6249 Q822.408 18.6249 825.787 21.7962 Q829.167 24.9675 829.167 30.3841 Q829.167 35.9628 825.695 39.0646 Q822.222 42.1433 815.903 42.1433 Q813.727 42.1433 811.459 41.7729 Q809.213 41.4026 806.806 40.6618 L806.806 35.9628 Q808.889 37.097 811.111 37.6526 Q813.334 38.2081 815.81 38.2081 Q819.815 38.2081 822.153 36.1017 Q824.491 33.9952 824.491 30.3841 Q824.491 26.773 822.153 24.6665 Q819.815 22.5601 815.81 22.5601 Q813.935 22.5601 812.06 22.9767 Q810.209 23.3934 808.264 24.273 L808.264 6.912 Z\" fill=\"#000000\" fill-rule=\"evenodd\" fill-opacity=\"1\" /><circle clip-path=\"url(#clip682)\" cx=\"1042.72\" cy=\"404.86\" r=\"14\" fill=\"#009af9\" fill-rule=\"evenodd\" fill-opacity=\"1\" stroke=\"#000000\" stroke-opacity=\"1\" stroke-width=\"3.2\"/>\n",
       "<circle clip-path=\"url(#clip682)\" cx=\"1011.41\" cy=\"286.059\" r=\"14\" fill=\"#009af9\" fill-rule=\"evenodd\" fill-opacity=\"1\" stroke=\"#000000\" stroke-opacity=\"1\" stroke-width=\"3.2\"/>\n",
       "<circle clip-path=\"url(#clip682)\" cx=\"1028.17\" cy=\"414.714\" r=\"14\" fill=\"#009af9\" fill-rule=\"evenodd\" fill-opacity=\"1\" stroke=\"#000000\" stroke-opacity=\"1\" stroke-width=\"3.2\"/>\n",
       "<circle clip-path=\"url(#clip682)\" cx=\"1019.75\" cy=\"762.602\" r=\"14\" fill=\"#009af9\" fill-rule=\"evenodd\" fill-opacity=\"1\" stroke=\"#000000\" stroke-opacity=\"1\" stroke-width=\"3.2\"/>\n",
       "<circle clip-path=\"url(#clip682)\" cx=\"1006.32\" cy=\"190.74\" r=\"14\" fill=\"#009af9\" fill-rule=\"evenodd\" fill-opacity=\"1\" stroke=\"#000000\" stroke-opacity=\"1\" stroke-width=\"3.2\"/>\n",
       "<circle clip-path=\"url(#clip682)\" cx=\"1006.55\" cy=\"723.323\" r=\"14\" fill=\"#009af9\" fill-rule=\"evenodd\" fill-opacity=\"1\" stroke=\"#000000\" stroke-opacity=\"1\" stroke-width=\"3.2\"/>\n",
       "<circle clip-path=\"url(#clip682)\" cx=\"969.177\" cy=\"126.205\" r=\"14\" fill=\"#009af9\" fill-rule=\"evenodd\" fill-opacity=\"1\" stroke=\"#000000\" stroke-opacity=\"1\" stroke-width=\"3.2\"/>\n",
       "<circle clip-path=\"url(#clip682)\" cx=\"1084.23\" cy=\"953.052\" r=\"14\" fill=\"#009af9\" fill-rule=\"evenodd\" fill-opacity=\"1\" stroke=\"#000000\" stroke-opacity=\"1\" stroke-width=\"3.2\"/>\n",
       "<circle clip-path=\"url(#clip682)\" cx=\"1023.8\" cy=\"615.205\" r=\"14\" fill=\"#009af9\" fill-rule=\"evenodd\" fill-opacity=\"1\" stroke=\"#000000\" stroke-opacity=\"1\" stroke-width=\"3.2\"/>\n",
       "<circle clip-path=\"url(#clip682)\" cx=\"1040.61\" cy=\"793.095\" r=\"14\" fill=\"#009af9\" fill-rule=\"evenodd\" fill-opacity=\"1\" stroke=\"#000000\" stroke-opacity=\"1\" stroke-width=\"3.2\"/>\n",
       "<circle clip-path=\"url(#clip682)\" cx=\"1045.65\" cy=\"839.178\" r=\"14\" fill=\"#009af9\" fill-rule=\"evenodd\" fill-opacity=\"1\" stroke=\"#000000\" stroke-opacity=\"1\" stroke-width=\"3.2\"/>\n",
       "<circle clip-path=\"url(#clip682)\" cx=\"1065.41\" cy=\"577.72\" r=\"14\" fill=\"#009af9\" fill-rule=\"evenodd\" fill-opacity=\"1\" stroke=\"#000000\" stroke-opacity=\"1\" stroke-width=\"3.2\"/>\n",
       "<circle clip-path=\"url(#clip682)\" cx=\"1122.59\" cy=\"534.344\" r=\"14\" fill=\"#009af9\" fill-rule=\"evenodd\" fill-opacity=\"1\" stroke=\"#000000\" stroke-opacity=\"1\" stroke-width=\"3.2\"/>\n",
       "<circle clip-path=\"url(#clip682)\" cx=\"957.529\" cy=\"331.623\" r=\"14\" fill=\"#009af9\" fill-rule=\"evenodd\" fill-opacity=\"1\" stroke=\"#000000\" stroke-opacity=\"1\" stroke-width=\"3.2\"/>\n",
       "<circle clip-path=\"url(#clip682)\" cx=\"990.515\" cy=\"348.197\" r=\"14\" fill=\"#009af9\" fill-rule=\"evenodd\" fill-opacity=\"1\" stroke=\"#000000\" stroke-opacity=\"1\" stroke-width=\"3.2\"/>\n",
       "<circle clip-path=\"url(#clip682)\" cx=\"243.884\" cy=\"536.168\" r=\"14\" fill=\"#e26f46\" fill-rule=\"evenodd\" fill-opacity=\"1\" stroke=\"#000000\" stroke-opacity=\"1\" stroke-width=\"3.2\"/>\n",
       "<circle clip-path=\"url(#clip682)\" cx=\"541.198\" cy=\"771.885\" r=\"14\" fill=\"#e26f46\" fill-rule=\"evenodd\" fill-opacity=\"1\" stroke=\"#000000\" stroke-opacity=\"1\" stroke-width=\"3.2\"/>\n",
       "<circle clip-path=\"url(#clip682)\" cx=\"624.136\" cy=\"799.245\" r=\"14\" fill=\"#e26f46\" fill-rule=\"evenodd\" fill-opacity=\"1\" stroke=\"#000000\" stroke-opacity=\"1\" stroke-width=\"3.2\"/>\n",
       "<circle clip-path=\"url(#clip682)\" cx=\"679.247\" cy=\"1479.74\" r=\"14\" fill=\"#e26f46\" fill-rule=\"evenodd\" fill-opacity=\"1\" stroke=\"#000000\" stroke-opacity=\"1\" stroke-width=\"3.2\"/>\n",
       "<circle clip-path=\"url(#clip682)\" cx=\"490.498\" cy=\"910.683\" r=\"14\" fill=\"#e26f46\" fill-rule=\"evenodd\" fill-opacity=\"1\" stroke=\"#000000\" stroke-opacity=\"1\" stroke-width=\"3.2\"/>\n",
       "<circle clip-path=\"url(#clip682)\" cx=\"434.177\" cy=\"713.428\" r=\"14\" fill=\"#e26f46\" fill-rule=\"evenodd\" fill-opacity=\"1\" stroke=\"#000000\" stroke-opacity=\"1\" stroke-width=\"3.2\"/>\n",
       "<circle clip-path=\"url(#clip682)\" cx=\"382.661\" cy=\"1142.09\" r=\"14\" fill=\"#e26f46\" fill-rule=\"evenodd\" fill-opacity=\"1\" stroke=\"#000000\" stroke-opacity=\"1\" stroke-width=\"3.2\"/>\n",
       "<circle clip-path=\"url(#clip682)\" cx=\"490.293\" cy=\"616.854\" r=\"14\" fill=\"#e26f46\" fill-rule=\"evenodd\" fill-opacity=\"1\" stroke=\"#000000\" stroke-opacity=\"1\" stroke-width=\"3.2\"/>\n",
       "<circle clip-path=\"url(#clip682)\" cx=\"557.958\" cy=\"900.539\" r=\"14\" fill=\"#e26f46\" fill-rule=\"evenodd\" fill-opacity=\"1\" stroke=\"#000000\" stroke-opacity=\"1\" stroke-width=\"3.2\"/>\n",
       "<circle clip-path=\"url(#clip682)\" cx=\"443.433\" cy=\"314.427\" r=\"14\" fill=\"#e26f46\" fill-rule=\"evenodd\" fill-opacity=\"1\" stroke=\"#000000\" stroke-opacity=\"1\" stroke-width=\"3.2\"/>\n",
       "<circle clip-path=\"url(#clip682)\" cx=\"555.283\" cy=\"809.285\" r=\"14\" fill=\"#e26f46\" fill-rule=\"evenodd\" fill-opacity=\"1\" stroke=\"#000000\" stroke-opacity=\"1\" stroke-width=\"3.2\"/>\n",
       "<circle clip-path=\"url(#clip682)\" cx=\"283.773\" cy=\"551.674\" r=\"14\" fill=\"#e26f46\" fill-rule=\"evenodd\" fill-opacity=\"1\" stroke=\"#000000\" stroke-opacity=\"1\" stroke-width=\"3.2\"/>\n",
       "<circle clip-path=\"url(#clip682)\" cx=\"565.811\" cy=\"1185.58\" r=\"14\" fill=\"#e26f46\" fill-rule=\"evenodd\" fill-opacity=\"1\" stroke=\"#000000\" stroke-opacity=\"1\" stroke-width=\"3.2\"/>\n",
       "<circle clip-path=\"url(#clip682)\" cx=\"588.385\" cy=\"1021.22\" r=\"14\" fill=\"#e26f46\" fill-rule=\"evenodd\" fill-opacity=\"1\" stroke=\"#000000\" stroke-opacity=\"1\" stroke-width=\"3.2\"/>\n",
       "<circle clip-path=\"url(#clip682)\" cx=\"487.358\" cy=\"866.684\" r=\"14\" fill=\"#e26f46\" fill-rule=\"evenodd\" fill-opacity=\"1\" stroke=\"#000000\" stroke-opacity=\"1\" stroke-width=\"3.2\"/>\n",
       "<circle clip-path=\"url(#clip682)\" cx=\"552.474\" cy=\"998.597\" r=\"14\" fill=\"#e26f46\" fill-rule=\"evenodd\" fill-opacity=\"1\" stroke=\"#000000\" stroke-opacity=\"1\" stroke-width=\"3.2\"/>\n",
       "<circle clip-path=\"url(#clip682)\" cx=\"645.85\" cy=\"875.511\" r=\"14\" fill=\"#e26f46\" fill-rule=\"evenodd\" fill-opacity=\"1\" stroke=\"#000000\" stroke-opacity=\"1\" stroke-width=\"3.2\"/>\n",
       "<circle clip-path=\"url(#clip682)\" cx=\"368.018\" cy=\"767.071\" r=\"14\" fill=\"#3da44d\" fill-rule=\"evenodd\" fill-opacity=\"1\" stroke=\"#000000\" stroke-opacity=\"1\" stroke-width=\"3.2\"/>\n",
       "<circle clip-path=\"url(#clip682)\" cx=\"250.003\" cy=\"379.572\" r=\"14\" fill=\"#3da44d\" fill-rule=\"evenodd\" fill-opacity=\"1\" stroke=\"#000000\" stroke-opacity=\"1\" stroke-width=\"3.2\"/>\n",
       "<circle clip-path=\"url(#clip682)\" cx=\"383.917\" cy=\"708.085\" r=\"14\" fill=\"#3da44d\" fill-rule=\"evenodd\" fill-opacity=\"1\" stroke=\"#000000\" stroke-opacity=\"1\" stroke-width=\"3.2\"/>\n",
       "<circle clip-path=\"url(#clip682)\" cx=\"323.062\" cy=\"466.728\" r=\"14\" fill=\"#3da44d\" fill-rule=\"evenodd\" fill-opacity=\"1\" stroke=\"#000000\" stroke-opacity=\"1\" stroke-width=\"3.2\"/>\n",
       "<circle clip-path=\"url(#clip682)\" cx=\"117.155\" cy=\"104.257\" r=\"14\" fill=\"#3da44d\" fill-rule=\"evenodd\" fill-opacity=\"1\" stroke=\"#000000\" stroke-opacity=\"1\" stroke-width=\"3.2\"/>\n",
       "<circle clip-path=\"url(#clip682)\" cx=\"210.319\" cy=\"657.895\" r=\"14\" fill=\"#3da44d\" fill-rule=\"evenodd\" fill-opacity=\"1\" stroke=\"#000000\" stroke-opacity=\"1\" stroke-width=\"3.2\"/>\n",
       "<circle clip-path=\"url(#clip682)\" cx=\"272.433\" cy=\"751.649\" r=\"14\" fill=\"#3da44d\" fill-rule=\"evenodd\" fill-opacity=\"1\" stroke=\"#000000\" stroke-opacity=\"1\" stroke-width=\"3.2\"/>\n",
       "<circle clip-path=\"url(#clip682)\" cx=\"247.512\" cy=\"771.666\" r=\"14\" fill=\"#3da44d\" fill-rule=\"evenodd\" fill-opacity=\"1\" stroke=\"#000000\" stroke-opacity=\"1\" stroke-width=\"3.2\"/>\n",
       "<circle clip-path=\"url(#clip682)\" cx=\"216.131\" cy=\"506.742\" r=\"14\" fill=\"#3da44d\" fill-rule=\"evenodd\" fill-opacity=\"1\" stroke=\"#000000\" stroke-opacity=\"1\" stroke-width=\"3.2\"/>\n",
       "<circle clip-path=\"url(#clip682)\" cx=\"377.299\" cy=\"464.956\" r=\"14\" fill=\"#3da44d\" fill-rule=\"evenodd\" fill-opacity=\"1\" stroke=\"#000000\" stroke-opacity=\"1\" stroke-width=\"3.2\"/>\n",
       "<circle clip-path=\"url(#clip682)\" cx=\"215.251\" cy=\"795.025\" r=\"14\" fill=\"#3da44d\" fill-rule=\"evenodd\" fill-opacity=\"1\" stroke=\"#000000\" stroke-opacity=\"1\" stroke-width=\"3.2\"/>\n",
       "<circle clip-path=\"url(#clip682)\" cx=\"129.805\" cy=\"378.723\" r=\"14\" fill=\"#3da44d\" fill-rule=\"evenodd\" fill-opacity=\"1\" stroke=\"#000000\" stroke-opacity=\"1\" stroke-width=\"3.2\"/>\n",
       "<circle clip-path=\"url(#clip682)\" cx=\"166.975\" cy=\"253.741\" r=\"14\" fill=\"#3da44d\" fill-rule=\"evenodd\" fill-opacity=\"1\" stroke=\"#000000\" stroke-opacity=\"1\" stroke-width=\"3.2\"/>\n",
       "<path clip-path=\"url(#clip680)\" d=\"\n",
       "M1286.99 1521.01 L2352.76 1521.01 L2352.76 62.9921 L1286.99 62.9921  Z\n",
       "  \" fill=\"#ffffff\" fill-rule=\"evenodd\" fill-opacity=\"1\"/>\n",
       "<defs>\n",
       "  <clipPath id=\"clip683\">\n",
       "    <rect x=\"1286\" y=\"62\" width=\"1067\" height=\"1459\"/>\n",
       "  </clipPath>\n",
       "</defs>\n",
       "<polyline clip-path=\"url(#clip683)\" style=\"stroke:#000000; stroke-width:2; stroke-opacity:0.1; fill:none\" points=\"\n",
       "  1303.74,1521.01 1303.74,62.9921 \n",
       "  \"/>\n",
       "<polyline clip-path=\"url(#clip683)\" style=\"stroke:#000000; stroke-width:2; stroke-opacity:0.1; fill:none\" points=\"\n",
       "  1467.65,1521.01 1467.65,62.9921 \n",
       "  \"/>\n",
       "<polyline clip-path=\"url(#clip683)\" style=\"stroke:#000000; stroke-width:2; stroke-opacity:0.1; fill:none\" points=\"\n",
       "  1631.56,1521.01 1631.56,62.9921 \n",
       "  \"/>\n",
       "<polyline clip-path=\"url(#clip683)\" style=\"stroke:#000000; stroke-width:2; stroke-opacity:0.1; fill:none\" points=\"\n",
       "  1795.47,1521.01 1795.47,62.9921 \n",
       "  \"/>\n",
       "<polyline clip-path=\"url(#clip683)\" style=\"stroke:#000000; stroke-width:2; stroke-opacity:0.1; fill:none\" points=\"\n",
       "  1959.39,1521.01 1959.39,62.9921 \n",
       "  \"/>\n",
       "<polyline clip-path=\"url(#clip683)\" style=\"stroke:#000000; stroke-width:2; stroke-opacity:0.1; fill:none\" points=\"\n",
       "  2123.3,1521.01 2123.3,62.9921 \n",
       "  \"/>\n",
       "<polyline clip-path=\"url(#clip683)\" style=\"stroke:#000000; stroke-width:2; stroke-opacity:0.1; fill:none\" points=\"\n",
       "  2287.21,1521.01 2287.21,62.9921 \n",
       "  \"/>\n",
       "<polyline clip-path=\"url(#clip680)\" style=\"stroke:#000000; stroke-width:4; stroke-opacity:1; fill:none\" points=\"\n",
       "  1286.99,1521.01 2352.76,1521.01 \n",
       "  \"/>\n",
       "<polyline clip-path=\"url(#clip680)\" style=\"stroke:#000000; stroke-width:4; stroke-opacity:1; fill:none\" points=\"\n",
       "  1303.74,1521.01 1303.74,1503.51 \n",
       "  \"/>\n",
       "<polyline clip-path=\"url(#clip680)\" style=\"stroke:#000000; stroke-width:4; stroke-opacity:1; fill:none\" points=\"\n",
       "  1467.65,1521.01 1467.65,1503.51 \n",
       "  \"/>\n",
       "<polyline clip-path=\"url(#clip680)\" style=\"stroke:#000000; stroke-width:4; stroke-opacity:1; fill:none\" points=\"\n",
       "  1631.56,1521.01 1631.56,1503.51 \n",
       "  \"/>\n",
       "<polyline clip-path=\"url(#clip680)\" style=\"stroke:#000000; stroke-width:4; stroke-opacity:1; fill:none\" points=\"\n",
       "  1795.47,1521.01 1795.47,1503.51 \n",
       "  \"/>\n",
       "<polyline clip-path=\"url(#clip680)\" style=\"stroke:#000000; stroke-width:4; stroke-opacity:1; fill:none\" points=\"\n",
       "  1959.39,1521.01 1959.39,1503.51 \n",
       "  \"/>\n",
       "<polyline clip-path=\"url(#clip680)\" style=\"stroke:#000000; stroke-width:4; stroke-opacity:1; fill:none\" points=\"\n",
       "  2123.3,1521.01 2123.3,1503.51 \n",
       "  \"/>\n",
       "<polyline clip-path=\"url(#clip680)\" style=\"stroke:#000000; stroke-width:4; stroke-opacity:1; fill:none\" points=\"\n",
       "  2287.21,1521.01 2287.21,1503.51 \n",
       "  \"/>\n",
       "<path clip-path=\"url(#clip680)\" d=\"M 0 0 M1282.72 1558.69 L1304.98 1558.69 L1304.98 1561.64 L1282.72 1561.64 L1282.72 1558.69 Z\" fill=\"#000000\" fill-rule=\"evenodd\" fill-opacity=\"1\" /><path clip-path=\"url(#clip680)\" d=\"M 0 0 M1319.4 1557.34 Q1321.92 1557.87 1323.33 1559.58 Q1324.75 1561.28 1324.75 1563.78 Q1324.75 1567.61 1322.11 1569.71 Q1319.47 1571.82 1314.61 1571.82 Q1312.98 1571.82 1311.25 1571.49 Q1309.53 1571.17 1307.69 1570.53 L1307.69 1567.15 Q1309.14 1568 1310.88 1568.43 Q1312.62 1568.86 1314.51 1568.86 Q1317.81 1568.86 1319.53 1567.56 Q1321.26 1566.26 1321.26 1563.78 Q1321.26 1561.49 1319.65 1560.2 Q1318.05 1558.9 1315.19 1558.9 L1312.17 1558.9 L1312.17 1556.02 L1315.32 1556.02 Q1317.91 1556.02 1319.28 1554.99 Q1320.65 1553.95 1320.65 1552.01 Q1320.65 1550.01 1319.23 1548.95 Q1317.82 1547.87 1315.19 1547.87 Q1313.75 1547.87 1312.1 1548.19 Q1310.45 1548.5 1308.47 1549.16 L1308.47 1546.03 Q1310.46 1545.48 1312.2 1545.2 Q1313.95 1544.92 1315.5 1544.92 Q1319.49 1544.92 1321.82 1546.75 Q1324.14 1548.55 1324.14 1551.64 Q1324.14 1553.79 1322.91 1555.29 Q1321.68 1556.76 1319.4 1557.34 Z\" fill=\"#000000\" fill-rule=\"evenodd\" fill-opacity=\"1\" /><path clip-path=\"url(#clip680)\" d=\"M 0 0 M1446.99 1558.69 L1469.25 1558.69 L1469.25 1561.64 L1446.99 1561.64 L1446.99 1558.69 Z\" fill=\"#000000\" fill-rule=\"evenodd\" fill-opacity=\"1\" /><path clip-path=\"url(#clip680)\" d=\"M 0 0 M1476.07 1568.36 L1488.31 1568.36 L1488.31 1571.31 L1471.85 1571.31 L1471.85 1568.36 Q1473.85 1566.29 1477.28 1562.82 Q1480.74 1559.33 1481.62 1558.33 Q1483.31 1556.43 1483.97 1555.13 Q1484.65 1553.81 1484.65 1552.54 Q1484.65 1550.48 1483.19 1549.18 Q1481.75 1547.87 1479.42 1547.87 Q1477.77 1547.87 1475.93 1548.45 Q1474.11 1549.02 1472.02 1550.18 L1472.02 1546.64 Q1474.14 1545.79 1475.98 1545.36 Q1477.82 1544.92 1479.35 1544.92 Q1483.38 1544.92 1485.77 1546.94 Q1488.17 1548.95 1488.17 1552.32 Q1488.17 1553.92 1487.56 1555.36 Q1486.97 1556.78 1485.39 1558.73 Q1484.96 1559.23 1482.63 1561.64 Q1480.31 1564.04 1476.07 1568.36 Z\" fill=\"#000000\" fill-rule=\"evenodd\" fill-opacity=\"1\" /><path clip-path=\"url(#clip680)\" d=\"M 0 0 M1610.76 1558.69 L1633.02 1558.69 L1633.02 1561.64 L1610.76 1561.64 L1610.76 1558.69 Z\" fill=\"#000000\" fill-rule=\"evenodd\" fill-opacity=\"1\" /><path clip-path=\"url(#clip680)\" d=\"M 0 0 M1637.43 1568.36 L1643.16 1568.36 L1643.16 1548.59 L1636.93 1549.84 L1636.93 1546.64 L1643.12 1545.39 L1646.63 1545.39 L1646.63 1568.36 L1652.36 1568.36 L1652.36 1571.31 L1637.43 1571.31 L1637.43 1568.36 Z\" fill=\"#000000\" fill-rule=\"evenodd\" fill-opacity=\"1\" /><path clip-path=\"url(#clip680)\" d=\"M 0 0 M1795.47 1547.7 Q1792.77 1547.7 1791.39 1550.37 Q1790.04 1553.03 1790.04 1558.38 Q1790.04 1563.71 1791.39 1566.38 Q1792.77 1569.04 1795.47 1569.04 Q1798.2 1569.04 1799.55 1566.38 Q1800.93 1563.71 1800.93 1558.38 Q1800.93 1553.03 1799.55 1550.37 Q1798.2 1547.7 1795.47 1547.7 M1795.47 1544.92 Q1799.83 1544.92 1802.12 1548.38 Q1804.43 1551.82 1804.43 1558.38 Q1804.43 1564.92 1802.12 1568.38 Q1799.83 1571.82 1795.47 1571.82 Q1791.12 1571.82 1788.81 1568.38 Q1786.52 1564.92 1786.52 1558.38 Q1786.52 1551.82 1788.81 1548.38 Q1791.12 1544.92 1795.47 1544.92 Z\" fill=\"#000000\" fill-rule=\"evenodd\" fill-opacity=\"1\" /><path clip-path=\"url(#clip680)\" d=\"M 0 0 M1952.17 1568.36 L1957.9 1568.36 L1957.9 1548.59 L1951.67 1549.84 L1951.67 1546.64 L1957.87 1545.39 L1961.37 1545.39 L1961.37 1568.36 L1967.1 1568.36 L1967.1 1571.31 L1952.17 1571.31 L1952.17 1568.36 Z\" fill=\"#000000\" fill-rule=\"evenodd\" fill-opacity=\"1\" /><path clip-path=\"url(#clip680)\" d=\"M 0 0 M2119.29 1568.36 L2131.53 1568.36 L2131.53 1571.31 L2115.07 1571.31 L2115.07 1568.36 Q2117.07 1566.29 2120.5 1562.82 Q2123.96 1559.33 2124.84 1558.33 Q2126.53 1556.43 2127.19 1555.13 Q2127.86 1553.81 2127.86 1552.54 Q2127.86 1550.48 2126.41 1549.18 Q2124.97 1547.87 2122.64 1547.87 Q2120.99 1547.87 2119.15 1548.45 Q2117.33 1549.02 2115.24 1550.18 L2115.24 1546.64 Q2117.36 1545.79 2119.2 1545.36 Q2121.04 1544.92 2122.57 1544.92 Q2126.6 1544.92 2128.99 1546.94 Q2131.39 1548.95 2131.39 1552.32 Q2131.39 1553.92 2130.78 1555.36 Q2130.19 1556.78 2128.61 1558.73 Q2128.18 1559.23 2125.85 1561.64 Q2123.52 1564.04 2119.29 1568.36 Z\" fill=\"#000000\" fill-rule=\"evenodd\" fill-opacity=\"1\" /><path clip-path=\"url(#clip680)\" d=\"M 0 0 M2290.4 1557.34 Q2292.91 1557.87 2294.32 1559.58 Q2295.74 1561.28 2295.74 1563.78 Q2295.74 1567.61 2293.11 1569.71 Q2290.47 1571.82 2285.61 1571.82 Q2283.97 1571.82 2282.24 1571.49 Q2280.52 1571.17 2278.68 1570.53 L2278.68 1567.15 Q2280.14 1568 2281.87 1568.43 Q2283.61 1568.86 2285.5 1568.86 Q2288.8 1568.86 2290.52 1567.56 Q2292.25 1566.26 2292.25 1563.78 Q2292.25 1561.49 2290.64 1560.2 Q2289.04 1558.9 2286.18 1558.9 L2283.16 1558.9 L2283.16 1556.02 L2286.32 1556.02 Q2288.9 1556.02 2290.28 1554.99 Q2291.65 1553.95 2291.65 1552.01 Q2291.65 1550.01 2290.22 1548.95 Q2288.82 1547.87 2286.18 1547.87 Q2284.74 1547.87 2283.09 1548.19 Q2281.44 1548.5 2279.46 1549.16 L2279.46 1546.03 Q2281.46 1545.48 2283.19 1545.2 Q2284.95 1544.92 2286.49 1544.92 Q2290.48 1544.92 2292.81 1546.75 Q2295.14 1548.55 2295.14 1551.64 Q2295.14 1553.79 2293.9 1555.29 Q2292.67 1556.76 2290.4 1557.34 Z\" fill=\"#000000\" fill-rule=\"evenodd\" fill-opacity=\"1\" /><polyline clip-path=\"url(#clip683)\" style=\"stroke:#000000; stroke-width:2; stroke-opacity:0.1; fill:none\" points=\"\n",
       "  1286.99,1303 2352.76,1303 \n",
       "  \"/>\n",
       "<polyline clip-path=\"url(#clip683)\" style=\"stroke:#000000; stroke-width:2; stroke-opacity:0.1; fill:none\" points=\"\n",
       "  1286.99,966.35 2352.76,966.35 \n",
       "  \"/>\n",
       "<polyline clip-path=\"url(#clip683)\" style=\"stroke:#000000; stroke-width:2; stroke-opacity:0.1; fill:none\" points=\"\n",
       "  1286.99,629.695 2352.76,629.695 \n",
       "  \"/>\n",
       "<polyline clip-path=\"url(#clip683)\" style=\"stroke:#000000; stroke-width:2; stroke-opacity:0.1; fill:none\" points=\"\n",
       "  1286.99,293.04 2352.76,293.04 \n",
       "  \"/>\n",
       "<polyline clip-path=\"url(#clip680)\" style=\"stroke:#000000; stroke-width:4; stroke-opacity:1; fill:none\" points=\"\n",
       "  1286.99,1521.01 1286.99,62.9921 \n",
       "  \"/>\n",
       "<polyline clip-path=\"url(#clip680)\" style=\"stroke:#000000; stroke-width:4; stroke-opacity:1; fill:none\" points=\"\n",
       "  1286.99,1303 1299.78,1303 \n",
       "  \"/>\n",
       "<polyline clip-path=\"url(#clip680)\" style=\"stroke:#000000; stroke-width:4; stroke-opacity:1; fill:none\" points=\"\n",
       "  1286.99,966.35 1299.78,966.35 \n",
       "  \"/>\n",
       "<polyline clip-path=\"url(#clip680)\" style=\"stroke:#000000; stroke-width:4; stroke-opacity:1; fill:none\" points=\"\n",
       "  1286.99,629.695 1299.78,629.695 \n",
       "  \"/>\n",
       "<polyline clip-path=\"url(#clip680)\" style=\"stroke:#000000; stroke-width:4; stroke-opacity:1; fill:none\" points=\"\n",
       "  1286.99,293.04 1299.78,293.04 \n",
       "  \"/>\n",
       "<path clip-path=\"url(#clip680)\" d=\"M 0 0 M1158.56 1303.46 L1188.24 1303.46 L1188.24 1307.39 L1158.56 1307.39 L1158.56 1303.46 Z\" fill=\"#000000\" fill-rule=\"evenodd\" fill-opacity=\"1\" /><path clip-path=\"url(#clip680)\" d=\"M 0 0 M1194.12 1316.35 L1201.76 1316.35 L1201.76 1289.98 L1193.45 1291.65 L1193.45 1287.39 L1201.71 1285.72 L1206.39 1285.72 L1206.39 1316.35 L1214.02 1316.35 L1214.02 1320.28 L1194.12 1320.28 L1194.12 1316.35 Z\" fill=\"#000000\" fill-rule=\"evenodd\" fill-opacity=\"1\" /><path clip-path=\"url(#clip680)\" d=\"M 0 0 M1219.09 1314.41 L1223.98 1314.41 L1223.98 1320.28 L1219.09 1320.28 L1219.09 1314.41 Z\" fill=\"#000000\" fill-rule=\"evenodd\" fill-opacity=\"1\" /><path clip-path=\"url(#clip680)\" d=\"M 0 0 M1239.05 1288.8 Q1235.44 1288.8 1233.61 1292.37 Q1231.8 1295.91 1231.8 1303.04 Q1231.8 1310.15 1233.61 1313.71 Q1235.44 1317.25 1239.05 1317.25 Q1242.68 1317.25 1244.49 1313.71 Q1246.32 1310.15 1246.32 1303.04 Q1246.32 1295.91 1244.49 1292.37 Q1242.68 1288.8 1239.05 1288.8 M1239.05 1285.1 Q1244.86 1285.1 1247.91 1289.71 Q1250.99 1294.29 1250.99 1303.04 Q1250.99 1311.77 1247.91 1316.37 Q1244.86 1320.96 1239.05 1320.96 Q1233.24 1320.96 1230.16 1316.37 Q1227.1 1311.77 1227.1 1303.04 Q1227.1 1294.29 1230.16 1289.71 Q1233.24 1285.1 1239.05 1285.1 Z\" fill=\"#000000\" fill-rule=\"evenodd\" fill-opacity=\"1\" /><path clip-path=\"url(#clip680)\" d=\"M 0 0 M1158.33 966.801 L1188.01 966.801 L1188.01 970.736 L1158.33 970.736 L1158.33 966.801 Z\" fill=\"#000000\" fill-rule=\"evenodd\" fill-opacity=\"1\" /><path clip-path=\"url(#clip680)\" d=\"M 0 0 M1203.08 952.149 Q1199.46 952.149 1197.64 955.713 Q1195.83 959.255 1195.83 966.385 Q1195.83 973.491 1197.64 977.056 Q1199.46 980.597 1203.08 980.597 Q1206.71 980.597 1208.52 977.056 Q1210.34 973.491 1210.34 966.385 Q1210.34 959.255 1208.52 955.713 Q1206.71 952.149 1203.08 952.149 M1203.08 948.445 Q1208.89 948.445 1211.94 953.051 Q1215.02 957.635 1215.02 966.385 Q1215.02 975.111 1211.94 979.718 Q1208.89 984.301 1203.08 984.301 Q1197.27 984.301 1194.19 979.718 Q1191.13 975.111 1191.13 966.385 Q1191.13 957.635 1194.19 953.051 Q1197.27 948.445 1203.08 948.445 Z\" fill=\"#000000\" fill-rule=\"evenodd\" fill-opacity=\"1\" /><path clip-path=\"url(#clip680)\" d=\"M 0 0 M1220.09 977.75 L1224.97 977.75 L1224.97 983.63 L1220.09 983.63 L1220.09 977.75 Z\" fill=\"#000000\" fill-rule=\"evenodd\" fill-opacity=\"1\" /><path clip-path=\"url(#clip680)\" d=\"M 0 0 M1230.09 949.07 L1248.45 949.07 L1248.45 953.005 L1234.37 953.005 L1234.37 961.477 Q1235.39 961.13 1236.41 960.968 Q1237.43 960.783 1238.45 960.783 Q1244.23 960.783 1247.61 963.954 Q1250.99 967.125 1250.99 972.542 Q1250.99 978.121 1247.52 981.222 Q1244.05 984.301 1237.73 984.301 Q1235.55 984.301 1233.28 983.931 Q1231.04 983.56 1228.63 982.82 L1228.63 978.121 Q1230.71 979.255 1232.94 979.81 Q1235.16 980.366 1237.64 980.366 Q1241.64 980.366 1243.98 978.259 Q1246.32 976.153 1246.32 972.542 Q1246.32 968.931 1243.98 966.824 Q1241.64 964.718 1237.64 964.718 Q1235.76 964.718 1233.89 965.135 Q1232.03 965.551 1230.09 966.431 L1230.09 949.07 Z\" fill=\"#000000\" fill-rule=\"evenodd\" fill-opacity=\"1\" /><path clip-path=\"url(#clip680)\" d=\"M 0 0 M1202.08 615.493 Q1198.47 615.493 1196.64 619.058 Q1194.84 622.6 1194.84 629.73 Q1194.84 636.836 1196.64 640.401 Q1198.47 643.942 1202.08 643.942 Q1205.71 643.942 1207.52 640.401 Q1209.35 636.836 1209.35 629.73 Q1209.35 622.6 1207.52 619.058 Q1205.71 615.493 1202.08 615.493 M1202.08 611.79 Q1207.89 611.79 1210.95 616.396 Q1214.02 620.98 1214.02 629.73 Q1214.02 638.456 1210.95 643.063 Q1207.89 647.646 1202.08 647.646 Q1196.27 647.646 1193.19 643.063 Q1190.14 638.456 1190.14 629.73 Q1190.14 620.98 1193.19 616.396 Q1196.27 611.79 1202.08 611.79 Z\" fill=\"#000000\" fill-rule=\"evenodd\" fill-opacity=\"1\" /><path clip-path=\"url(#clip680)\" d=\"M 0 0 M1219.09 641.095 L1223.98 641.095 L1223.98 646.975 L1219.09 646.975 L1219.09 641.095 Z\" fill=\"#000000\" fill-rule=\"evenodd\" fill-opacity=\"1\" /><path clip-path=\"url(#clip680)\" d=\"M 0 0 M1239.05 615.493 Q1235.44 615.493 1233.61 619.058 Q1231.8 622.6 1231.8 629.73 Q1231.8 636.836 1233.61 640.401 Q1235.44 643.942 1239.05 643.942 Q1242.68 643.942 1244.49 640.401 Q1246.32 636.836 1246.32 629.73 Q1246.32 622.6 1244.49 619.058 Q1242.68 615.493 1239.05 615.493 M1239.05 611.79 Q1244.86 611.79 1247.91 616.396 Q1250.99 620.98 1250.99 629.73 Q1250.99 638.456 1247.91 643.063 Q1244.86 647.646 1239.05 647.646 Q1233.24 647.646 1230.16 643.063 Q1227.1 638.456 1227.1 629.73 Q1227.1 620.98 1230.16 616.396 Q1233.24 611.79 1239.05 611.79 Z\" fill=\"#000000\" fill-rule=\"evenodd\" fill-opacity=\"1\" /><path clip-path=\"url(#clip680)\" d=\"M 0 0 M1203.08 278.838 Q1199.46 278.838 1197.64 282.403 Q1195.83 285.945 1195.83 293.075 Q1195.83 300.181 1197.64 303.746 Q1199.46 307.287 1203.08 307.287 Q1206.71 307.287 1208.52 303.746 Q1210.34 300.181 1210.34 293.075 Q1210.34 285.945 1208.52 282.403 Q1206.71 278.838 1203.08 278.838 M1203.08 275.135 Q1208.89 275.135 1211.94 279.741 Q1215.02 284.325 1215.02 293.075 Q1215.02 301.801 1211.94 306.408 Q1208.89 310.991 1203.08 310.991 Q1197.27 310.991 1194.19 306.408 Q1191.13 301.801 1191.13 293.075 Q1191.13 284.325 1194.19 279.741 Q1197.27 275.135 1203.08 275.135 Z\" fill=\"#000000\" fill-rule=\"evenodd\" fill-opacity=\"1\" /><path clip-path=\"url(#clip680)\" d=\"M 0 0 M1220.09 304.44 L1224.97 304.44 L1224.97 310.32 L1220.09 310.32 L1220.09 304.44 Z\" fill=\"#000000\" fill-rule=\"evenodd\" fill-opacity=\"1\" /><path clip-path=\"url(#clip680)\" d=\"M 0 0 M1230.09 275.76 L1248.45 275.76 L1248.45 279.695 L1234.37 279.695 L1234.37 288.167 Q1235.39 287.82 1236.41 287.658 Q1237.43 287.473 1238.45 287.473 Q1244.23 287.473 1247.61 290.644 Q1250.99 293.815 1250.99 299.232 Q1250.99 304.811 1247.52 307.912 Q1244.05 310.991 1237.73 310.991 Q1235.55 310.991 1233.28 310.621 Q1231.04 310.25 1228.63 309.51 L1228.63 304.811 Q1230.71 305.945 1232.94 306.5 Q1235.16 307.056 1237.64 307.056 Q1241.64 307.056 1243.98 304.949 Q1246.32 302.843 1246.32 299.232 Q1246.32 295.621 1243.98 293.514 Q1241.64 291.408 1237.64 291.408 Q1235.76 291.408 1233.89 291.825 Q1232.03 292.241 1230.09 293.121 L1230.09 275.76 Z\" fill=\"#000000\" fill-rule=\"evenodd\" fill-opacity=\"1\" /><path clip-path=\"url(#clip680)\" d=\"M 0 0 M1610.53 6.912 L1630.4 6.912 L1630.4 10.8472 L1615.21 10.8472 L1615.21 21.0323 L1628.91 21.0323 L1628.91 24.9675 L1615.21 24.9675 L1615.21 41.472 L1610.53 41.472 L1610.53 6.912 Z\" fill=\"#000000\" fill-rule=\"evenodd\" fill-opacity=\"1\" /><path clip-path=\"url(#clip680)\" d=\"M 0 0 M1631.83 31.2406 L1631.83 15.5462 L1636.09 15.5462 L1636.09 31.0785 Q1636.09 34.7591 1637.53 36.6109 Q1638.96 38.4396 1641.83 38.4396 Q1645.28 38.4396 1647.27 36.2405 Q1649.28 34.0415 1649.28 30.2452 L1649.28 15.5462 L1653.54 15.5462 L1653.54 41.472 L1649.28 41.472 L1649.28 37.4905 Q1647.73 39.8516 1645.67 41.009 Q1643.64 42.1433 1640.93 42.1433 Q1636.46 42.1433 1634.15 39.3655 Q1631.83 36.5878 1631.83 31.2406 M1642.55 14.9212 L1642.55 14.9212 Z\" fill=\"#000000\" fill-rule=\"evenodd\" fill-opacity=\"1\" /><path clip-path=\"url(#clip680)\" d=\"M 0 0 M1656.16 15.5462 L1676.39 15.5462 L1676.39 19.4351 L1660.37 38.0692 L1676.39 38.0692 L1676.39 41.472 L1655.58 41.472 L1655.58 37.5831 L1671.6 18.949 L1656.16 18.949 L1656.16 15.5462 Z\" fill=\"#000000\" fill-rule=\"evenodd\" fill-opacity=\"1\" /><path clip-path=\"url(#clip680)\" d=\"M 0 0 M1679.01 15.5462 L1699.24 15.5462 L1699.24 19.4351 L1683.22 38.0692 L1699.24 38.0692 L1699.24 41.472 L1678.43 41.472 L1678.43 37.5831 L1694.45 18.949 L1679.01 18.949 L1679.01 15.5462 Z\" fill=\"#000000\" fill-rule=\"evenodd\" fill-opacity=\"1\" /><path clip-path=\"url(#clip680)\" d=\"M 0 0 M1714.49 43.8794 Q1712.69 48.509 1710.97 49.921 Q1709.26 51.3331 1706.39 51.3331 L1702.99 51.3331 L1702.99 47.7683 L1705.49 47.7683 Q1707.25 47.7683 1708.22 46.9349 Q1709.19 46.1016 1710.37 42.9998 L1711.14 41.0553 L1700.65 15.5462 L1705.16 15.5462 L1713.27 35.8239 L1721.37 15.5462 L1725.88 15.5462 L1714.49 43.8794 Z\" fill=\"#000000\" fill-rule=\"evenodd\" fill-opacity=\"1\" /><path clip-path=\"url(#clip680)\" d=\"M 0 0 M1742.09 11.5185 L1735.74 28.7174 L1748.45 28.7174 L1742.09 11.5185 M1739.45 6.912 L1744.75 6.912 L1757.92 41.472 L1753.06 41.472 L1749.91 32.6063 L1734.33 32.6063 L1731.18 41.472 L1726.25 41.472 L1739.45 6.912 Z\" fill=\"#000000\" fill-rule=\"evenodd\" fill-opacity=\"1\" /><path clip-path=\"url(#clip680)\" d=\"M 0 0 M1778.96 25.2684 Q1780.46 25.7776 1781.88 27.4443 Q1783.31 29.111 1784.75 32.0276 L1789.49 41.472 L1784.47 41.472 L1780.05 32.6063 Q1778.33 29.1341 1776.71 27.9998 Q1775.12 26.8656 1772.34 26.8656 L1767.25 26.8656 L1767.25 41.472 L1762.57 41.472 L1762.57 6.912 L1773.13 6.912 Q1779.05 6.912 1781.97 9.38884 Q1784.89 11.8657 1784.89 16.8657 Q1784.89 20.1295 1783.36 22.2823 Q1781.85 24.4351 1778.96 25.2684 M1767.25 10.7546 L1767.25 23.023 L1773.13 23.023 Q1776.51 23.023 1778.22 21.4721 Q1779.96 19.898 1779.96 16.8657 Q1779.96 13.8333 1778.22 12.3055 Q1776.51 10.7546 1773.13 10.7546 L1767.25 10.7546 Z\" fill=\"#000000\" fill-rule=\"evenodd\" fill-opacity=\"1\" /><path clip-path=\"url(#clip680)\" d=\"M 0 0 M1785.9 6.912 L1815.14 6.912 L1815.14 10.8472 L1802.87 10.8472 L1802.87 41.472 L1798.17 41.472 L1798.17 10.8472 L1785.9 10.8472 L1785.9 6.912 Z\" fill=\"#000000\" fill-rule=\"evenodd\" fill-opacity=\"1\" /><path clip-path=\"url(#clip680)\" d=\"M 0 0 M1849.7 19.5277 Q1848.98 19.111 1848.13 18.9258 Q1847.29 18.7175 1846.27 18.7175 Q1842.66 18.7175 1840.72 21.0786 Q1838.8 23.4165 1838.8 27.8147 L1838.8 41.472 L1834.52 41.472 L1834.52 15.5462 L1838.8 15.5462 L1838.8 19.574 Q1840.14 17.2129 1842.29 16.0786 Q1844.45 14.9212 1847.52 14.9212 Q1847.96 14.9212 1848.5 14.9907 Q1849.03 15.037 1849.68 15.1527 L1849.7 19.5277 Z\" fill=\"#000000\" fill-rule=\"evenodd\" fill-opacity=\"1\" /><path clip-path=\"url(#clip680)\" d=\"M 0 0 M1874.89 25.8239 L1874.89 41.472 L1870.63 41.472 L1870.63 25.9628 Q1870.63 22.2823 1869.19 20.4536 Q1867.76 18.6249 1864.89 18.6249 Q1861.44 18.6249 1859.45 20.824 Q1857.45 23.023 1857.45 26.8193 L1857.45 41.472 L1853.17 41.472 L1853.17 5.45367 L1857.45 5.45367 L1857.45 19.574 Q1858.98 17.236 1861.04 16.0786 Q1863.13 14.9212 1865.83 14.9212 Q1870.3 14.9212 1872.59 17.699 Q1874.89 20.4536 1874.89 25.8239 Z\" fill=\"#000000\" fill-rule=\"evenodd\" fill-opacity=\"1\" /><path clip-path=\"url(#clip680)\" d=\"M 0 0 M1889.4 18.5323 Q1885.97 18.5323 1883.98 21.2175 Q1881.99 23.8795 1881.99 28.5323 Q1881.99 33.185 1883.96 35.8702 Q1885.95 38.5322 1889.4 38.5322 Q1892.8 38.5322 1894.79 35.847 Q1896.78 33.1619 1896.78 28.5323 Q1896.78 23.9258 1894.79 21.2406 Q1892.8 18.5323 1889.4 18.5323 M1889.4 14.9212 Q1894.95 14.9212 1898.13 18.5323 Q1901.3 22.1434 1901.3 28.5323 Q1901.3 34.898 1898.13 38.5322 Q1894.95 42.1433 1889.4 42.1433 Q1883.82 42.1433 1880.65 38.5322 Q1877.5 34.898 1877.5 28.5323 Q1877.5 22.1434 1880.65 18.5323 Q1883.82 14.9212 1889.4 14.9212 Z\" fill=\"#000000\" fill-rule=\"evenodd\" fill-opacity=\"1\" /><path clip-path=\"url(#clip680)\" d=\"M 0 0 M1921.39 19.9443 L1951.07 19.9443 L1951.07 23.8332 L1921.39 23.8332 L1921.39 19.9443 M1921.39 29.3887 L1951.07 29.3887 L1951.07 33.3239 L1921.39 33.3239 L1921.39 29.3887 Z\" fill=\"#000000\" fill-rule=\"evenodd\" fill-opacity=\"1\" /><path clip-path=\"url(#clip680)\" d=\"M 0 0 M1981.2 9.99069 Q1977.59 9.99069 1975.76 13.5555 Q1973.96 17.0971 1973.96 24.2267 Q1973.96 31.3332 1975.76 34.898 Q1977.59 38.4396 1981.2 38.4396 Q1984.84 38.4396 1986.64 34.898 Q1988.47 31.3332 1988.47 24.2267 Q1988.47 17.0971 1986.64 13.5555 Q1984.84 9.99069 1981.2 9.99069 M1981.2 6.287 Q1987.01 6.287 1990.07 10.8935 Q1993.15 15.4768 1993.15 24.2267 Q1993.15 32.9535 1990.07 37.56 Q1987.01 42.1433 1981.2 42.1433 Q1975.39 42.1433 1972.32 37.56 Q1969.26 32.9535 1969.26 24.2267 Q1969.26 15.4768 1972.32 10.8935 Q1975.39 6.287 1981.2 6.287 Z\" fill=\"#000000\" fill-rule=\"evenodd\" fill-opacity=\"1\" /><path clip-path=\"url(#clip680)\" d=\"M 0 0 M1998.22 35.5924 L2003.1 35.5924 L2003.1 41.472 L1998.22 41.472 L1998.22 35.5924 Z\" fill=\"#000000\" fill-rule=\"evenodd\" fill-opacity=\"1\" /><path clip-path=\"url(#clip680)\" d=\"M 0 0 M2006.99 6.912 L2029.21 6.912 L2029.21 8.90273 L2016.67 41.472 L2011.78 41.472 L2023.59 10.8472 L2006.99 10.8472 L2006.99 6.912 Z\" fill=\"#000000\" fill-rule=\"evenodd\" fill-opacity=\"1\" /><circle clip-path=\"url(#clip683)\" cx=\"2242.72\" cy=\"404.86\" r=\"14\" fill=\"#009af9\" fill-rule=\"evenodd\" fill-opacity=\"1\" stroke=\"#000000\" stroke-opacity=\"1\" stroke-width=\"3.2\"/>\n",
       "<circle clip-path=\"url(#clip683)\" cx=\"2211.41\" cy=\"286.059\" r=\"14\" fill=\"#009af9\" fill-rule=\"evenodd\" fill-opacity=\"1\" stroke=\"#000000\" stroke-opacity=\"1\" stroke-width=\"3.2\"/>\n",
       "<circle clip-path=\"url(#clip683)\" cx=\"2228.17\" cy=\"414.714\" r=\"14\" fill=\"#009af9\" fill-rule=\"evenodd\" fill-opacity=\"1\" stroke=\"#000000\" stroke-opacity=\"1\" stroke-width=\"3.2\"/>\n",
       "<circle clip-path=\"url(#clip683)\" cx=\"2219.75\" cy=\"762.602\" r=\"14\" fill=\"#009af9\" fill-rule=\"evenodd\" fill-opacity=\"1\" stroke=\"#000000\" stroke-opacity=\"1\" stroke-width=\"3.2\"/>\n",
       "<circle clip-path=\"url(#clip683)\" cx=\"2206.32\" cy=\"190.74\" r=\"14\" fill=\"#009af9\" fill-rule=\"evenodd\" fill-opacity=\"1\" stroke=\"#000000\" stroke-opacity=\"1\" stroke-width=\"3.2\"/>\n",
       "<circle clip-path=\"url(#clip683)\" cx=\"2206.55\" cy=\"723.323\" r=\"14\" fill=\"#009af9\" fill-rule=\"evenodd\" fill-opacity=\"1\" stroke=\"#000000\" stroke-opacity=\"1\" stroke-width=\"3.2\"/>\n",
       "<circle clip-path=\"url(#clip683)\" cx=\"2169.18\" cy=\"126.205\" r=\"14\" fill=\"#009af9\" fill-rule=\"evenodd\" fill-opacity=\"1\" stroke=\"#000000\" stroke-opacity=\"1\" stroke-width=\"3.2\"/>\n",
       "<circle clip-path=\"url(#clip683)\" cx=\"2284.23\" cy=\"953.052\" r=\"14\" fill=\"#009af9\" fill-rule=\"evenodd\" fill-opacity=\"1\" stroke=\"#000000\" stroke-opacity=\"1\" stroke-width=\"3.2\"/>\n",
       "<circle clip-path=\"url(#clip683)\" cx=\"2223.8\" cy=\"615.205\" r=\"14\" fill=\"#009af9\" fill-rule=\"evenodd\" fill-opacity=\"1\" stroke=\"#000000\" stroke-opacity=\"1\" stroke-width=\"3.2\"/>\n",
       "<circle clip-path=\"url(#clip683)\" cx=\"2240.61\" cy=\"793.095\" r=\"14\" fill=\"#009af9\" fill-rule=\"evenodd\" fill-opacity=\"1\" stroke=\"#000000\" stroke-opacity=\"1\" stroke-width=\"3.2\"/>\n",
       "<circle clip-path=\"url(#clip683)\" cx=\"2245.65\" cy=\"839.178\" r=\"14\" fill=\"#009af9\" fill-rule=\"evenodd\" fill-opacity=\"1\" stroke=\"#000000\" stroke-opacity=\"1\" stroke-width=\"3.2\"/>\n",
       "<circle clip-path=\"url(#clip683)\" cx=\"2265.41\" cy=\"577.72\" r=\"14\" fill=\"#009af9\" fill-rule=\"evenodd\" fill-opacity=\"1\" stroke=\"#000000\" stroke-opacity=\"1\" stroke-width=\"3.2\"/>\n",
       "<circle clip-path=\"url(#clip683)\" cx=\"2322.59\" cy=\"534.344\" r=\"14\" fill=\"#009af9\" fill-rule=\"evenodd\" fill-opacity=\"1\" stroke=\"#000000\" stroke-opacity=\"1\" stroke-width=\"3.2\"/>\n",
       "<circle clip-path=\"url(#clip683)\" cx=\"2157.53\" cy=\"331.623\" r=\"14\" fill=\"#009af9\" fill-rule=\"evenodd\" fill-opacity=\"1\" stroke=\"#000000\" stroke-opacity=\"1\" stroke-width=\"3.2\"/>\n",
       "<circle clip-path=\"url(#clip683)\" cx=\"2190.52\" cy=\"348.197\" r=\"14\" fill=\"#009af9\" fill-rule=\"evenodd\" fill-opacity=\"1\" stroke=\"#000000\" stroke-opacity=\"1\" stroke-width=\"3.2\"/>\n",
       "<circle clip-path=\"url(#clip683)\" cx=\"1741.2\" cy=\"771.885\" r=\"14\" fill=\"#e26f46\" fill-rule=\"evenodd\" fill-opacity=\"1\" stroke=\"#000000\" stroke-opacity=\"1\" stroke-width=\"3.2\"/>\n",
       "<circle clip-path=\"url(#clip683)\" cx=\"1824.14\" cy=\"799.245\" r=\"14\" fill=\"#e26f46\" fill-rule=\"evenodd\" fill-opacity=\"1\" stroke=\"#000000\" stroke-opacity=\"1\" stroke-width=\"3.2\"/>\n",
       "<circle clip-path=\"url(#clip683)\" cx=\"1879.25\" cy=\"1479.74\" r=\"14\" fill=\"#e26f46\" fill-rule=\"evenodd\" fill-opacity=\"1\" stroke=\"#000000\" stroke-opacity=\"1\" stroke-width=\"3.2\"/>\n",
       "<circle clip-path=\"url(#clip683)\" cx=\"1690.5\" cy=\"910.683\" r=\"14\" fill=\"#e26f46\" fill-rule=\"evenodd\" fill-opacity=\"1\" stroke=\"#000000\" stroke-opacity=\"1\" stroke-width=\"3.2\"/>\n",
       "<circle clip-path=\"url(#clip683)\" cx=\"1634.18\" cy=\"713.428\" r=\"14\" fill=\"#e26f46\" fill-rule=\"evenodd\" fill-opacity=\"1\" stroke=\"#000000\" stroke-opacity=\"1\" stroke-width=\"3.2\"/>\n",
       "<circle clip-path=\"url(#clip683)\" cx=\"1582.66\" cy=\"1142.09\" r=\"14\" fill=\"#e26f46\" fill-rule=\"evenodd\" fill-opacity=\"1\" stroke=\"#000000\" stroke-opacity=\"1\" stroke-width=\"3.2\"/>\n",
       "<circle clip-path=\"url(#clip683)\" cx=\"1690.29\" cy=\"616.854\" r=\"14\" fill=\"#e26f46\" fill-rule=\"evenodd\" fill-opacity=\"1\" stroke=\"#000000\" stroke-opacity=\"1\" stroke-width=\"3.2\"/>\n",
       "<circle clip-path=\"url(#clip683)\" cx=\"1757.96\" cy=\"900.539\" r=\"14\" fill=\"#e26f46\" fill-rule=\"evenodd\" fill-opacity=\"1\" stroke=\"#000000\" stroke-opacity=\"1\" stroke-width=\"3.2\"/>\n",
       "<circle clip-path=\"url(#clip683)\" cx=\"1643.43\" cy=\"314.427\" r=\"14\" fill=\"#e26f46\" fill-rule=\"evenodd\" fill-opacity=\"1\" stroke=\"#000000\" stroke-opacity=\"1\" stroke-width=\"3.2\"/>\n",
       "<circle clip-path=\"url(#clip683)\" cx=\"1755.28\" cy=\"809.285\" r=\"14\" fill=\"#e26f46\" fill-rule=\"evenodd\" fill-opacity=\"1\" stroke=\"#000000\" stroke-opacity=\"1\" stroke-width=\"3.2\"/>\n",
       "<circle clip-path=\"url(#clip683)\" cx=\"1765.81\" cy=\"1185.58\" r=\"14\" fill=\"#e26f46\" fill-rule=\"evenodd\" fill-opacity=\"1\" stroke=\"#000000\" stroke-opacity=\"1\" stroke-width=\"3.2\"/>\n",
       "<circle clip-path=\"url(#clip683)\" cx=\"1788.39\" cy=\"1021.22\" r=\"14\" fill=\"#e26f46\" fill-rule=\"evenodd\" fill-opacity=\"1\" stroke=\"#000000\" stroke-opacity=\"1\" stroke-width=\"3.2\"/>\n",
       "<circle clip-path=\"url(#clip683)\" cx=\"1687.36\" cy=\"866.684\" r=\"14\" fill=\"#e26f46\" fill-rule=\"evenodd\" fill-opacity=\"1\" stroke=\"#000000\" stroke-opacity=\"1\" stroke-width=\"3.2\"/>\n",
       "<circle clip-path=\"url(#clip683)\" cx=\"1752.47\" cy=\"998.597\" r=\"14\" fill=\"#e26f46\" fill-rule=\"evenodd\" fill-opacity=\"1\" stroke=\"#000000\" stroke-opacity=\"1\" stroke-width=\"3.2\"/>\n",
       "<circle clip-path=\"url(#clip683)\" cx=\"1845.85\" cy=\"875.511\" r=\"14\" fill=\"#e26f46\" fill-rule=\"evenodd\" fill-opacity=\"1\" stroke=\"#000000\" stroke-opacity=\"1\" stroke-width=\"3.2\"/>\n",
       "<circle clip-path=\"url(#clip683)\" cx=\"1443.88\" cy=\"536.168\" r=\"14\" fill=\"#3da44d\" fill-rule=\"evenodd\" fill-opacity=\"1\" stroke=\"#000000\" stroke-opacity=\"1\" stroke-width=\"3.2\"/>\n",
       "<circle clip-path=\"url(#clip683)\" cx=\"1568.02\" cy=\"767.071\" r=\"14\" fill=\"#3da44d\" fill-rule=\"evenodd\" fill-opacity=\"1\" stroke=\"#000000\" stroke-opacity=\"1\" stroke-width=\"3.2\"/>\n",
       "<circle clip-path=\"url(#clip683)\" cx=\"1450\" cy=\"379.572\" r=\"14\" fill=\"#3da44d\" fill-rule=\"evenodd\" fill-opacity=\"1\" stroke=\"#000000\" stroke-opacity=\"1\" stroke-width=\"3.2\"/>\n",
       "<circle clip-path=\"url(#clip683)\" cx=\"1583.92\" cy=\"708.085\" r=\"14\" fill=\"#3da44d\" fill-rule=\"evenodd\" fill-opacity=\"1\" stroke=\"#000000\" stroke-opacity=\"1\" stroke-width=\"3.2\"/>\n",
       "<circle clip-path=\"url(#clip683)\" cx=\"1523.06\" cy=\"466.728\" r=\"14\" fill=\"#3da44d\" fill-rule=\"evenodd\" fill-opacity=\"1\" stroke=\"#000000\" stroke-opacity=\"1\" stroke-width=\"3.2\"/>\n",
       "<circle clip-path=\"url(#clip683)\" cx=\"1317.16\" cy=\"104.257\" r=\"14\" fill=\"#3da44d\" fill-rule=\"evenodd\" fill-opacity=\"1\" stroke=\"#000000\" stroke-opacity=\"1\" stroke-width=\"3.2\"/>\n",
       "<circle clip-path=\"url(#clip683)\" cx=\"1410.32\" cy=\"657.895\" r=\"14\" fill=\"#3da44d\" fill-rule=\"evenodd\" fill-opacity=\"1\" stroke=\"#000000\" stroke-opacity=\"1\" stroke-width=\"3.2\"/>\n",
       "<circle clip-path=\"url(#clip683)\" cx=\"1472.43\" cy=\"751.649\" r=\"14\" fill=\"#3da44d\" fill-rule=\"evenodd\" fill-opacity=\"1\" stroke=\"#000000\" stroke-opacity=\"1\" stroke-width=\"3.2\"/>\n",
       "<circle clip-path=\"url(#clip683)\" cx=\"1447.51\" cy=\"771.666\" r=\"14\" fill=\"#3da44d\" fill-rule=\"evenodd\" fill-opacity=\"1\" stroke=\"#000000\" stroke-opacity=\"1\" stroke-width=\"3.2\"/>\n",
       "<circle clip-path=\"url(#clip683)\" cx=\"1416.13\" cy=\"506.742\" r=\"14\" fill=\"#3da44d\" fill-rule=\"evenodd\" fill-opacity=\"1\" stroke=\"#000000\" stroke-opacity=\"1\" stroke-width=\"3.2\"/>\n",
       "<circle clip-path=\"url(#clip683)\" cx=\"1577.3\" cy=\"464.956\" r=\"14\" fill=\"#3da44d\" fill-rule=\"evenodd\" fill-opacity=\"1\" stroke=\"#000000\" stroke-opacity=\"1\" stroke-width=\"3.2\"/>\n",
       "<circle clip-path=\"url(#clip683)\" cx=\"1483.77\" cy=\"551.674\" r=\"14\" fill=\"#3da44d\" fill-rule=\"evenodd\" fill-opacity=\"1\" stroke=\"#000000\" stroke-opacity=\"1\" stroke-width=\"3.2\"/>\n",
       "<circle clip-path=\"url(#clip683)\" cx=\"1415.25\" cy=\"795.025\" r=\"14\" fill=\"#3da44d\" fill-rule=\"evenodd\" fill-opacity=\"1\" stroke=\"#000000\" stroke-opacity=\"1\" stroke-width=\"3.2\"/>\n",
       "<circle clip-path=\"url(#clip683)\" cx=\"1329.8\" cy=\"378.723\" r=\"14\" fill=\"#3da44d\" fill-rule=\"evenodd\" fill-opacity=\"1\" stroke=\"#000000\" stroke-opacity=\"1\" stroke-width=\"3.2\"/>\n",
       "<circle clip-path=\"url(#clip683)\" cx=\"1366.97\" cy=\"253.741\" r=\"14\" fill=\"#3da44d\" fill-rule=\"evenodd\" fill-opacity=\"1\" stroke=\"#000000\" stroke-opacity=\"1\" stroke-width=\"3.2\"/>\n",
       "</svg>\n"
      ],
      "image/svg+xml": [
       "<?xml version=\"1.0\" encoding=\"utf-8\"?>\n",
       "<svg xmlns=\"http://www.w3.org/2000/svg\" xmlns:xlink=\"http://www.w3.org/1999/xlink\" width=\"600\" height=\"400\" viewBox=\"0 0 2400 1600\">\n",
       "<defs>\n",
       "  <clipPath id=\"clip650\">\n",
       "    <rect x=\"0\" y=\"0\" width=\"2400\" height=\"1600\"/>\n",
       "  </clipPath>\n",
       "</defs>\n",
       "<path clip-path=\"url(#clip650)\" d=\"\n",
       "M0 1600 L2400 1600 L2400 0 L0 0  Z\n",
       "  \" fill=\"#ffffff\" fill-rule=\"evenodd\" fill-opacity=\"1\"/>\n",
       "<defs>\n",
       "  <clipPath id=\"clip651\">\n",
       "    <rect x=\"480\" y=\"0\" width=\"1681\" height=\"1600\"/>\n",
       "  </clipPath>\n",
       "</defs>\n",
       "<path clip-path=\"url(#clip650)\" d=\"\n",
       "M86.9921 1521.01 L1152.76 1521.01 L1152.76 62.9921 L86.9921 62.9921  Z\n",
       "  \" fill=\"#ffffff\" fill-rule=\"evenodd\" fill-opacity=\"1\"/>\n",
       "<defs>\n",
       "  <clipPath id=\"clip652\">\n",
       "    <rect x=\"86\" y=\"62\" width=\"1067\" height=\"1459\"/>\n",
       "  </clipPath>\n",
       "</defs>\n",
       "<polyline clip-path=\"url(#clip652)\" style=\"stroke:#000000; stroke-width:2; stroke-opacity:0.1; fill:none\" points=\"\n",
       "  103.736,1521.01 103.736,62.9921 \n",
       "  \"/>\n",
       "<polyline clip-path=\"url(#clip652)\" style=\"stroke:#000000; stroke-width:2; stroke-opacity:0.1; fill:none\" points=\"\n",
       "  267.649,1521.01 267.649,62.9921 \n",
       "  \"/>\n",
       "<polyline clip-path=\"url(#clip652)\" style=\"stroke:#000000; stroke-width:2; stroke-opacity:0.1; fill:none\" points=\"\n",
       "  431.561,1521.01 431.561,62.9921 \n",
       "  \"/>\n",
       "<polyline clip-path=\"url(#clip652)\" style=\"stroke:#000000; stroke-width:2; stroke-opacity:0.1; fill:none\" points=\"\n",
       "  595.474,1521.01 595.474,62.9921 \n",
       "  \"/>\n",
       "<polyline clip-path=\"url(#clip652)\" style=\"stroke:#000000; stroke-width:2; stroke-opacity:0.1; fill:none\" points=\"\n",
       "  759.386,1521.01 759.386,62.9921 \n",
       "  \"/>\n",
       "<polyline clip-path=\"url(#clip652)\" style=\"stroke:#000000; stroke-width:2; stroke-opacity:0.1; fill:none\" points=\"\n",
       "  923.299,1521.01 923.299,62.9921 \n",
       "  \"/>\n",
       "<polyline clip-path=\"url(#clip652)\" style=\"stroke:#000000; stroke-width:2; stroke-opacity:0.1; fill:none\" points=\"\n",
       "  1087.21,1521.01 1087.21,62.9921 \n",
       "  \"/>\n",
       "<polyline clip-path=\"url(#clip650)\" style=\"stroke:#000000; stroke-width:4; stroke-opacity:1; fill:none\" points=\"\n",
       "  86.9921,1521.01 1152.76,1521.01 \n",
       "  \"/>\n",
       "<polyline clip-path=\"url(#clip650)\" style=\"stroke:#000000; stroke-width:4; stroke-opacity:1; fill:none\" points=\"\n",
       "  103.736,1521.01 103.736,1503.51 \n",
       "  \"/>\n",
       "<polyline clip-path=\"url(#clip650)\" style=\"stroke:#000000; stroke-width:4; stroke-opacity:1; fill:none\" points=\"\n",
       "  267.649,1521.01 267.649,1503.51 \n",
       "  \"/>\n",
       "<polyline clip-path=\"url(#clip650)\" style=\"stroke:#000000; stroke-width:4; stroke-opacity:1; fill:none\" points=\"\n",
       "  431.561,1521.01 431.561,1503.51 \n",
       "  \"/>\n",
       "<polyline clip-path=\"url(#clip650)\" style=\"stroke:#000000; stroke-width:4; stroke-opacity:1; fill:none\" points=\"\n",
       "  595.474,1521.01 595.474,1503.51 \n",
       "  \"/>\n",
       "<polyline clip-path=\"url(#clip650)\" style=\"stroke:#000000; stroke-width:4; stroke-opacity:1; fill:none\" points=\"\n",
       "  759.386,1521.01 759.386,1503.51 \n",
       "  \"/>\n",
       "<polyline clip-path=\"url(#clip650)\" style=\"stroke:#000000; stroke-width:4; stroke-opacity:1; fill:none\" points=\"\n",
       "  923.299,1521.01 923.299,1503.51 \n",
       "  \"/>\n",
       "<polyline clip-path=\"url(#clip650)\" style=\"stroke:#000000; stroke-width:4; stroke-opacity:1; fill:none\" points=\"\n",
       "  1087.21,1521.01 1087.21,1503.51 \n",
       "  \"/>\n",
       "<path clip-path=\"url(#clip650)\" d=\"M 0 0 M82.7209 1558.69 L104.978 1558.69 L104.978 1561.64 L82.7209 1561.64 L82.7209 1558.69 Z\" fill=\"#000000\" fill-rule=\"evenodd\" fill-opacity=\"1\" /><path clip-path=\"url(#clip650)\" d=\"M 0 0 M119.405 1557.34 Q121.922 1557.87 123.328 1559.58 Q124.752 1561.28 124.752 1563.78 Q124.752 1567.61 122.113 1569.71 Q119.474 1571.82 114.613 1571.82 Q112.981 1571.82 111.245 1571.49 Q109.526 1571.17 107.686 1570.53 L107.686 1567.15 Q109.144 1568 110.88 1568.43 Q112.617 1568.86 114.509 1568.86 Q117.808 1568.86 119.526 1567.56 Q121.262 1566.26 121.262 1563.78 Q121.262 1561.49 119.648 1560.2 Q118.051 1558.9 115.186 1558.9 L112.165 1558.9 L112.165 1556.02 L115.325 1556.02 Q117.912 1556.02 119.283 1554.99 Q120.655 1553.95 120.655 1552.01 Q120.655 1550.01 119.231 1548.95 Q117.825 1547.87 115.186 1547.87 Q113.745 1547.87 112.096 1548.19 Q110.446 1548.5 108.467 1549.16 L108.467 1546.03 Q110.464 1545.48 112.2 1545.2 Q113.953 1544.92 115.499 1544.92 Q119.492 1544.92 121.818 1546.75 Q124.144 1548.55 124.144 1551.64 Q124.144 1553.79 122.912 1555.29 Q121.679 1556.76 119.405 1557.34 Z\" fill=\"#000000\" fill-rule=\"evenodd\" fill-opacity=\"1\" /><path clip-path=\"url(#clip650)\" d=\"M 0 0 M246.989 1558.69 L269.246 1558.69 L269.246 1561.64 L246.989 1561.64 L246.989 1558.69 Z\" fill=\"#000000\" fill-rule=\"evenodd\" fill-opacity=\"1\" /><path clip-path=\"url(#clip650)\" d=\"M 0 0 M276.069 1568.36 L288.308 1568.36 L288.308 1571.31 L271.85 1571.31 L271.85 1568.36 Q273.847 1566.29 277.284 1562.82 Q280.739 1559.33 281.624 1558.33 Q283.309 1556.43 283.968 1555.13 Q284.645 1553.81 284.645 1552.54 Q284.645 1550.48 283.187 1549.18 Q281.746 1547.87 279.42 1547.87 Q277.77 1547.87 275.93 1548.45 Q274.107 1549.02 272.024 1550.18 L272.024 1546.64 Q274.142 1545.79 275.982 1545.36 Q277.822 1544.92 279.35 1544.92 Q283.378 1544.92 285.774 1546.94 Q288.17 1548.95 288.17 1552.32 Q288.17 1553.92 287.562 1555.36 Q286.972 1556.78 285.392 1558.73 Q284.958 1559.23 282.631 1561.64 Q280.305 1564.04 276.069 1568.36 Z\" fill=\"#000000\" fill-rule=\"evenodd\" fill-opacity=\"1\" /><path clip-path=\"url(#clip650)\" d=\"M 0 0 M410.763 1558.69 L433.02 1558.69 L433.02 1561.64 L410.763 1561.64 L410.763 1558.69 Z\" fill=\"#000000\" fill-rule=\"evenodd\" fill-opacity=\"1\" /><path clip-path=\"url(#clip650)\" d=\"M 0 0 M437.429 1568.36 L443.158 1568.36 L443.158 1548.59 L436.926 1549.84 L436.926 1546.64 L443.124 1545.39 L446.631 1545.39 L446.631 1568.36 L452.36 1568.36 L452.36 1571.31 L437.429 1571.31 L437.429 1568.36 Z\" fill=\"#000000\" fill-rule=\"evenodd\" fill-opacity=\"1\" /><path clip-path=\"url(#clip650)\" d=\"M 0 0 M595.474 1547.7 Q592.765 1547.7 591.394 1550.37 Q590.04 1553.03 590.04 1558.38 Q590.04 1563.71 591.394 1566.38 Q592.765 1569.04 595.474 1569.04 Q598.199 1569.04 599.554 1566.38 Q600.925 1563.71 600.925 1558.38 Q600.925 1553.03 599.554 1550.37 Q598.199 1547.7 595.474 1547.7 M595.474 1544.92 Q599.831 1544.92 602.123 1548.38 Q604.432 1551.82 604.432 1558.38 Q604.432 1564.92 602.123 1568.38 Q599.831 1571.82 595.474 1571.82 Q591.116 1571.82 588.807 1568.38 Q586.515 1564.92 586.515 1558.38 Q586.515 1551.82 588.807 1548.38 Q591.116 1544.92 595.474 1544.92 Z\" fill=\"#000000\" fill-rule=\"evenodd\" fill-opacity=\"1\" /><path clip-path=\"url(#clip650)\" d=\"M 0 0 M752.173 1568.36 L757.902 1568.36 L757.902 1548.59 L751.669 1549.84 L751.669 1546.64 L757.867 1545.39 L761.374 1545.39 L761.374 1568.36 L767.103 1568.36 L767.103 1571.31 L752.173 1571.31 L752.173 1568.36 Z\" fill=\"#000000\" fill-rule=\"evenodd\" fill-opacity=\"1\" /><path clip-path=\"url(#clip650)\" d=\"M 0 0 M919.288 1568.36 L931.528 1568.36 L931.528 1571.31 L915.069 1571.31 L915.069 1568.36 Q917.066 1566.29 920.503 1562.82 Q923.958 1559.33 924.844 1558.33 Q926.528 1556.43 927.187 1555.13 Q927.865 1553.81 927.865 1552.54 Q927.865 1550.48 926.406 1549.18 Q924.965 1547.87 922.639 1547.87 Q920.99 1547.87 919.149 1548.45 Q917.326 1549.02 915.243 1550.18 L915.243 1546.64 Q917.361 1545.79 919.201 1545.36 Q921.042 1544.92 922.569 1544.92 Q926.597 1544.92 928.993 1546.94 Q931.389 1548.95 931.389 1552.32 Q931.389 1553.92 930.781 1555.36 Q930.191 1556.78 928.611 1558.73 Q928.177 1559.23 925.851 1561.64 Q923.524 1564.04 919.288 1568.36 Z\" fill=\"#000000\" fill-rule=\"evenodd\" fill-opacity=\"1\" /><path clip-path=\"url(#clip650)\" d=\"M 0 0 M1090.4 1557.34 Q1092.91 1557.87 1094.32 1559.58 Q1095.74 1561.28 1095.74 1563.78 Q1095.74 1567.61 1093.11 1569.71 Q1090.47 1571.82 1085.61 1571.82 Q1083.97 1571.82 1082.24 1571.49 Q1080.52 1571.17 1078.68 1570.53 L1078.68 1567.15 Q1080.14 1568 1081.87 1568.43 Q1083.61 1568.86 1085.5 1568.86 Q1088.8 1568.86 1090.52 1567.56 Q1092.25 1566.26 1092.25 1563.78 Q1092.25 1561.49 1090.64 1560.2 Q1089.04 1558.9 1086.18 1558.9 L1083.16 1558.9 L1083.16 1556.02 L1086.32 1556.02 Q1088.9 1556.02 1090.28 1554.99 Q1091.65 1553.95 1091.65 1552.01 Q1091.65 1550.01 1090.22 1548.95 Q1088.82 1547.87 1086.18 1547.87 Q1084.74 1547.87 1083.09 1548.19 Q1081.44 1548.5 1079.46 1549.16 L1079.46 1546.03 Q1081.46 1545.48 1083.19 1545.2 Q1084.95 1544.92 1086.49 1544.92 Q1090.48 1544.92 1092.81 1546.75 Q1095.14 1548.55 1095.14 1551.64 Q1095.14 1553.79 1093.9 1555.29 Q1092.67 1556.76 1090.4 1557.34 Z\" fill=\"#000000\" fill-rule=\"evenodd\" fill-opacity=\"1\" /><polyline clip-path=\"url(#clip652)\" style=\"stroke:#000000; stroke-width:2; stroke-opacity:0.1; fill:none\" points=\"\n",
       "  86.9921,1303 1152.76,1303 \n",
       "  \"/>\n",
       "<polyline clip-path=\"url(#clip652)\" style=\"stroke:#000000; stroke-width:2; stroke-opacity:0.1; fill:none\" points=\"\n",
       "  86.9921,966.35 1152.76,966.35 \n",
       "  \"/>\n",
       "<polyline clip-path=\"url(#clip652)\" style=\"stroke:#000000; stroke-width:2; stroke-opacity:0.1; fill:none\" points=\"\n",
       "  86.9921,629.695 1152.76,629.695 \n",
       "  \"/>\n",
       "<polyline clip-path=\"url(#clip652)\" style=\"stroke:#000000; stroke-width:2; stroke-opacity:0.1; fill:none\" points=\"\n",
       "  86.9921,293.04 1152.76,293.04 \n",
       "  \"/>\n",
       "<polyline clip-path=\"url(#clip650)\" style=\"stroke:#000000; stroke-width:4; stroke-opacity:1; fill:none\" points=\"\n",
       "  86.9921,1521.01 86.9921,62.9921 \n",
       "  \"/>\n",
       "<polyline clip-path=\"url(#clip650)\" style=\"stroke:#000000; stroke-width:4; stroke-opacity:1; fill:none\" points=\"\n",
       "  86.9921,1303 99.7813,1303 \n",
       "  \"/>\n",
       "<polyline clip-path=\"url(#clip650)\" style=\"stroke:#000000; stroke-width:4; stroke-opacity:1; fill:none\" points=\"\n",
       "  86.9921,966.35 99.7813,966.35 \n",
       "  \"/>\n",
       "<polyline clip-path=\"url(#clip650)\" style=\"stroke:#000000; stroke-width:4; stroke-opacity:1; fill:none\" points=\"\n",
       "  86.9921,629.695 99.7813,629.695 \n",
       "  \"/>\n",
       "<polyline clip-path=\"url(#clip650)\" style=\"stroke:#000000; stroke-width:4; stroke-opacity:1; fill:none\" points=\"\n",
       "  86.9921,293.04 99.7813,293.04 \n",
       "  \"/>\n",
       "<path clip-path=\"url(#clip650)\" d=\"M 0 0 M-41.4379 1303.46 L-11.7622 1303.46 L-11.7622 1307.39 L-41.4379 1307.39 L-41.4379 1303.46 Z\" fill=\"#000000\" fill-rule=\"evenodd\" fill-opacity=\"1\" /><path clip-path=\"url(#clip650)\" d=\"M 0 0 M-5.88257 1316.35 L1.75628 1316.35 L1.75628 1289.98 L-6.55386 1291.65 L-6.55386 1287.39 L1.70998 1285.72 L6.38588 1285.72 L6.38588 1316.35 L14.0247 1316.35 L14.0247 1320.28 L-5.88257 1320.28 L-5.88257 1316.35 Z\" fill=\"#000000\" fill-rule=\"evenodd\" fill-opacity=\"1\" /><path clip-path=\"url(#clip650)\" d=\"M 0 0 M19.0941 1314.41 L23.9784 1314.41 L23.9784 1320.28 L19.0941 1320.28 L19.0941 1314.41 Z\" fill=\"#000000\" fill-rule=\"evenodd\" fill-opacity=\"1\" /><path clip-path=\"url(#clip650)\" d=\"M 0 0 M39.0477 1288.8 Q35.4367 1288.8 33.608 1292.37 Q31.8024 1295.91 31.8024 1303.04 Q31.8024 1310.15 33.608 1313.71 Q35.4367 1317.25 39.0477 1317.25 Q42.682 1317.25 44.4875 1313.71 Q46.3162 1310.15 46.3162 1303.04 Q46.3162 1295.91 44.4875 1292.37 Q42.682 1288.8 39.0477 1288.8 M39.0477 1285.1 Q44.8579 1285.1 47.9134 1289.71 Q50.9921 1294.29 50.9921 1303.04 Q50.9921 1311.77 47.9134 1316.37 Q44.8579 1320.96 39.0477 1320.96 Q33.2376 1320.96 30.1589 1316.37 Q27.1034 1311.77 27.1034 1303.04 Q27.1034 1294.29 30.1589 1289.71 Q33.2376 1285.1 39.0477 1285.1 Z\" fill=\"#000000\" fill-rule=\"evenodd\" fill-opacity=\"1\" /><path clip-path=\"url(#clip650)\" d=\"M 0 0 M-41.6694 966.801 L-11.9936 966.801 L-11.9936 970.736 L-41.6694 970.736 L-41.6694 966.801 Z\" fill=\"#000000\" fill-rule=\"evenodd\" fill-opacity=\"1\" /><path clip-path=\"url(#clip650)\" d=\"M 0 0 M3.07572 952.149 Q-0.535376 952.149 -2.36407 955.713 Q-4.16962 959.255 -4.16962 966.385 Q-4.16962 973.491 -2.36407 977.056 Q-0.535376 980.597 3.07572 980.597 Q6.70996 980.597 8.5155 977.056 Q10.3442 973.491 10.3442 966.385 Q10.3442 959.255 8.5155 955.713 Q6.70996 952.149 3.07572 952.149 M3.07572 948.445 Q8.88587 948.445 11.9414 953.051 Q15.0201 957.635 15.0201 966.385 Q15.0201 975.111 11.9414 979.718 Q8.88587 984.301 3.07572 984.301 Q-2.73444 984.301 -5.81313 979.718 Q-8.86866 975.111 -8.86866 966.385 Q-8.86866 957.635 -5.81313 953.051 Q-2.73444 948.445 3.07572 948.445 Z\" fill=\"#000000\" fill-rule=\"evenodd\" fill-opacity=\"1\" /><path clip-path=\"url(#clip650)\" d=\"M 0 0 M20.0895 977.75 L24.9737 977.75 L24.9737 983.63 L20.0895 983.63 L20.0895 977.75 Z\" fill=\"#000000\" fill-rule=\"evenodd\" fill-opacity=\"1\" /><path clip-path=\"url(#clip650)\" d=\"M 0 0 M30.0895 949.07 L48.4458 949.07 L48.4458 953.005 L34.3718 953.005 L34.3718 961.477 Q35.3904 961.13 36.4089 960.968 Q37.4274 960.783 38.4459 960.783 Q44.2329 960.783 47.6125 963.954 Q50.9921 967.125 50.9921 972.542 Q50.9921 978.121 47.5199 981.222 Q44.0477 984.301 37.7283 984.301 Q35.5524 984.301 33.2839 983.931 Q31.0385 983.56 28.6311 982.82 L28.6311 978.121 Q30.7145 979.255 32.9367 979.81 Q35.1589 980.366 37.6357 980.366 Q41.6403 980.366 43.9783 978.259 Q46.3162 976.153 46.3162 972.542 Q46.3162 968.931 43.9783 966.824 Q41.6403 964.718 37.6357 964.718 Q35.7607 964.718 33.8857 965.135 Q32.0339 965.551 30.0895 966.431 L30.0895 949.07 Z\" fill=\"#000000\" fill-rule=\"evenodd\" fill-opacity=\"1\" /><path clip-path=\"url(#clip650)\" d=\"M 0 0 M2.08035 615.493 Q-1.53074 615.493 -3.35943 619.058 Q-5.16498 622.6 -5.16498 629.73 Q-5.16498 636.836 -3.35943 640.401 Q-1.53074 643.942 2.08035 643.942 Q5.71459 643.942 7.52014 640.401 Q9.34883 636.836 9.34883 629.73 Q9.34883 622.6 7.52014 619.058 Q5.71459 615.493 2.08035 615.493 M2.08035 611.79 Q7.89051 611.79 10.946 616.396 Q14.0247 620.98 14.0247 629.73 Q14.0247 638.456 10.946 643.063 Q7.89051 647.646 2.08035 647.646 Q-3.7298 647.646 -6.80849 643.063 Q-9.86403 638.456 -9.86403 629.73 Q-9.86403 620.98 -6.80849 616.396 Q-3.7298 611.79 2.08035 611.79 Z\" fill=\"#000000\" fill-rule=\"evenodd\" fill-opacity=\"1\" /><path clip-path=\"url(#clip650)\" d=\"M 0 0 M19.0941 641.095 L23.9784 641.095 L23.9784 646.975 L19.0941 646.975 L19.0941 641.095 Z\" fill=\"#000000\" fill-rule=\"evenodd\" fill-opacity=\"1\" /><path clip-path=\"url(#clip650)\" d=\"M 0 0 M39.0477 615.493 Q35.4367 615.493 33.608 619.058 Q31.8024 622.6 31.8024 629.73 Q31.8024 636.836 33.608 640.401 Q35.4367 643.942 39.0477 643.942 Q42.682 643.942 44.4875 640.401 Q46.3162 636.836 46.3162 629.73 Q46.3162 622.6 44.4875 619.058 Q42.682 615.493 39.0477 615.493 M39.0477 611.79 Q44.8579 611.79 47.9134 616.396 Q50.9921 620.98 50.9921 629.73 Q50.9921 638.456 47.9134 643.063 Q44.8579 647.646 39.0477 647.646 Q33.2376 647.646 30.1589 643.063 Q27.1034 638.456 27.1034 629.73 Q27.1034 620.98 30.1589 616.396 Q33.2376 611.79 39.0477 611.79 Z\" fill=\"#000000\" fill-rule=\"evenodd\" fill-opacity=\"1\" /><path clip-path=\"url(#clip650)\" d=\"M 0 0 M3.07572 278.838 Q-0.535376 278.838 -2.36407 282.403 Q-4.16962 285.945 -4.16962 293.075 Q-4.16962 300.181 -2.36407 303.746 Q-0.535376 307.287 3.07572 307.287 Q6.70996 307.287 8.5155 303.746 Q10.3442 300.181 10.3442 293.075 Q10.3442 285.945 8.5155 282.403 Q6.70996 278.838 3.07572 278.838 M3.07572 275.135 Q8.88587 275.135 11.9414 279.741 Q15.0201 284.325 15.0201 293.075 Q15.0201 301.801 11.9414 306.408 Q8.88587 310.991 3.07572 310.991 Q-2.73444 310.991 -5.81313 306.408 Q-8.86866 301.801 -8.86866 293.075 Q-8.86866 284.325 -5.81313 279.741 Q-2.73444 275.135 3.07572 275.135 Z\" fill=\"#000000\" fill-rule=\"evenodd\" fill-opacity=\"1\" /><path clip-path=\"url(#clip650)\" d=\"M 0 0 M20.0895 304.44 L24.9737 304.44 L24.9737 310.32 L20.0895 310.32 L20.0895 304.44 Z\" fill=\"#000000\" fill-rule=\"evenodd\" fill-opacity=\"1\" /><path clip-path=\"url(#clip650)\" d=\"M 0 0 M30.0895 275.76 L48.4458 275.76 L48.4458 279.695 L34.3718 279.695 L34.3718 288.167 Q35.3904 287.82 36.4089 287.658 Q37.4274 287.473 38.4459 287.473 Q44.2329 287.473 47.6125 290.644 Q50.9921 293.815 50.9921 299.232 Q50.9921 304.811 47.5199 307.912 Q44.0477 310.991 37.7283 310.991 Q35.5524 310.991 33.2839 310.621 Q31.0385 310.25 28.6311 309.51 L28.6311 304.811 Q30.7145 305.945 32.9367 306.5 Q35.1589 307.056 37.6357 307.056 Q41.6403 307.056 43.9783 304.949 Q46.3162 302.843 46.3162 299.232 Q46.3162 295.621 43.9783 293.514 Q41.6403 291.408 37.6357 291.408 Q35.7607 291.408 33.8857 291.825 Q32.0339 292.241 30.0895 293.121 L30.0895 275.76 Z\" fill=\"#000000\" fill-rule=\"evenodd\" fill-opacity=\"1\" /><path clip-path=\"url(#clip650)\" d=\"M 0 0 M410.581 6.912 L430.442 6.912 L430.442 10.8472 L415.257 10.8472 L415.257 21.0323 L428.961 21.0323 L428.961 24.9675 L415.257 24.9675 L415.257 41.472 L410.581 41.472 L410.581 6.912 Z\" fill=\"#000000\" fill-rule=\"evenodd\" fill-opacity=\"1\" /><path clip-path=\"url(#clip650)\" d=\"M 0 0 M431.877 31.2406 L431.877 15.5462 L436.137 15.5462 L436.137 31.0785 Q436.137 34.7591 437.572 36.6109 Q439.007 38.4396 441.877 38.4396 Q445.326 38.4396 447.317 36.2405 Q449.331 34.0415 449.331 30.2452 L449.331 15.5462 L453.59 15.5462 L453.59 41.472 L449.331 41.472 L449.331 37.4905 Q447.78 39.8516 445.72 41.009 Q443.683 42.1433 440.975 42.1433 Q436.507 42.1433 434.192 39.3655 Q431.877 36.5878 431.877 31.2406 M442.595 14.9212 L442.595 14.9212 Z\" fill=\"#000000\" fill-rule=\"evenodd\" fill-opacity=\"1\" /><path clip-path=\"url(#clip650)\" d=\"M 0 0 M456.206 15.5462 L476.437 15.5462 L476.437 19.4351 L460.419 38.0692 L476.437 38.0692 L476.437 41.472 L455.627 41.472 L455.627 37.5831 L471.646 18.949 L456.206 18.949 L456.206 15.5462 Z\" fill=\"#000000\" fill-rule=\"evenodd\" fill-opacity=\"1\" /><path clip-path=\"url(#clip650)\" d=\"M 0 0 M479.053 15.5462 L499.284 15.5462 L499.284 19.4351 L483.266 38.0692 L499.284 38.0692 L499.284 41.472 L478.474 41.472 L478.474 37.5831 L494.493 18.949 L479.053 18.949 L479.053 15.5462 Z\" fill=\"#000000\" fill-rule=\"evenodd\" fill-opacity=\"1\" /><path clip-path=\"url(#clip650)\" d=\"M 0 0 M514.539 43.8794 Q512.733 48.509 511.02 49.921 Q509.307 51.3331 506.437 51.3331 L503.034 51.3331 L503.034 47.7683 L505.534 47.7683 Q507.294 47.7683 508.266 46.9349 Q509.238 46.1016 510.419 42.9998 L511.182 41.0553 L500.696 15.5462 L505.21 15.5462 L513.312 35.8239 L521.414 15.5462 L525.928 15.5462 L514.539 43.8794 Z\" fill=\"#000000\" fill-rule=\"evenodd\" fill-opacity=\"1\" /><path clip-path=\"url(#clip650)\" d=\"M 0 0 M542.131 11.5185 L535.789 28.7174 L548.497 28.7174 L542.131 11.5185 M539.493 6.912 L544.793 6.912 L557.965 41.472 L553.104 41.472 L549.955 32.6063 L534.377 32.6063 L531.229 41.472 L526.298 41.472 L539.493 6.912 Z\" fill=\"#000000\" fill-rule=\"evenodd\" fill-opacity=\"1\" /><path clip-path=\"url(#clip650)\" d=\"M 0 0 M579.006 25.2684 Q580.511 25.7776 581.923 27.4443 Q583.358 29.111 584.793 32.0276 L589.539 41.472 L584.515 41.472 L580.094 32.6063 Q578.381 29.1341 576.761 27.9998 Q575.164 26.8656 572.386 26.8656 L567.293 26.8656 L567.293 41.472 L562.617 41.472 L562.617 6.912 L573.173 6.912 Q579.099 6.912 582.015 9.38884 Q584.932 11.8657 584.932 16.8657 Q584.932 20.1295 583.404 22.2823 Q581.9 24.4351 579.006 25.2684 M567.293 10.7546 L567.293 23.023 L573.173 23.023 Q576.552 23.023 578.265 21.4721 Q580.002 19.898 580.002 16.8657 Q580.002 13.8333 578.265 12.3055 Q576.552 10.7546 573.173 10.7546 L567.293 10.7546 Z\" fill=\"#000000\" fill-rule=\"evenodd\" fill-opacity=\"1\" /><path clip-path=\"url(#clip650)\" d=\"M 0 0 M585.951 6.912 L615.187 6.912 L615.187 10.8472 L602.918 10.8472 L602.918 41.472 L598.219 41.472 L598.219 10.8472 L585.951 10.8472 L585.951 6.912 Z\" fill=\"#000000\" fill-rule=\"evenodd\" fill-opacity=\"1\" /><path clip-path=\"url(#clip650)\" d=\"M 0 0 M649.747 19.5277 Q649.029 19.111 648.172 18.9258 Q647.339 18.7175 646.321 18.7175 Q642.71 18.7175 640.765 21.0786 Q638.844 23.4165 638.844 27.8147 L638.844 41.472 L634.561 41.472 L634.561 15.5462 L638.844 15.5462 L638.844 19.574 Q640.186 17.2129 642.339 16.0786 Q644.492 14.9212 647.571 14.9212 Q648.01 14.9212 648.543 14.9907 Q649.075 15.037 649.723 15.1527 L649.747 19.5277 Z\" fill=\"#000000\" fill-rule=\"evenodd\" fill-opacity=\"1\" /><path clip-path=\"url(#clip650)\" d=\"M 0 0 M674.932 25.8239 L674.932 41.472 L670.672 41.472 L670.672 25.9628 Q670.672 22.2823 669.237 20.4536 Q667.802 18.6249 664.932 18.6249 Q661.483 18.6249 659.492 20.824 Q657.501 23.023 657.501 26.8193 L657.501 41.472 L653.219 41.472 L653.219 5.45367 L657.501 5.45367 L657.501 19.574 Q659.029 17.236 661.089 16.0786 Q663.172 14.9212 665.881 14.9212 Q670.348 14.9212 672.64 17.699 Q674.932 20.4536 674.932 25.8239 Z\" fill=\"#000000\" fill-rule=\"evenodd\" fill-opacity=\"1\" /><path clip-path=\"url(#clip650)\" d=\"M 0 0 M689.445 18.5323 Q686.019 18.5323 684.029 21.2175 Q682.038 23.8795 682.038 28.5323 Q682.038 33.185 684.006 35.8702 Q685.996 38.5322 689.445 38.5322 Q692.848 38.5322 694.839 35.847 Q696.83 33.1619 696.83 28.5323 Q696.83 23.9258 694.839 21.2406 Q692.848 18.5323 689.445 18.5323 M689.445 14.9212 Q695.001 14.9212 698.172 18.5323 Q701.343 22.1434 701.343 28.5323 Q701.343 34.898 698.172 38.5322 Q695.001 42.1433 689.445 42.1433 Q683.867 42.1433 680.695 38.5322 Q677.547 34.898 677.547 28.5323 Q677.547 22.1434 680.695 18.5323 Q683.867 14.9212 689.445 14.9212 Z\" fill=\"#000000\" fill-rule=\"evenodd\" fill-opacity=\"1\" /><path clip-path=\"url(#clip650)\" d=\"M 0 0 M721.436 19.9443 L751.112 19.9443 L751.112 23.8332 L721.436 23.8332 L721.436 19.9443 M721.436 29.3887 L751.112 29.3887 L751.112 33.3239 L721.436 33.3239 L721.436 29.3887 Z\" fill=\"#000000\" fill-rule=\"evenodd\" fill-opacity=\"1\" /><path clip-path=\"url(#clip650)\" d=\"M 0 0 M781.25 9.99069 Q777.639 9.99069 775.811 13.5555 Q774.005 17.0971 774.005 24.2267 Q774.005 31.3332 775.811 34.898 Q777.639 38.4396 781.25 38.4396 Q784.885 38.4396 786.69 34.898 Q788.519 31.3332 788.519 24.2267 Q788.519 17.0971 786.69 13.5555 Q784.885 9.99069 781.25 9.99069 M781.25 6.287 Q787.061 6.287 790.116 10.8935 Q793.195 15.4768 793.195 24.2267 Q793.195 32.9535 790.116 37.56 Q787.061 42.1433 781.25 42.1433 Q775.44 42.1433 772.362 37.56 Q769.306 32.9535 769.306 24.2267 Q769.306 15.4768 772.362 10.8935 Q775.44 6.287 781.25 6.287 Z\" fill=\"#000000\" fill-rule=\"evenodd\" fill-opacity=\"1\" /><path clip-path=\"url(#clip650)\" d=\"M 0 0 M798.264 35.5924 L803.148 35.5924 L803.148 41.472 L798.264 41.472 L798.264 35.5924 Z\" fill=\"#000000\" fill-rule=\"evenodd\" fill-opacity=\"1\" /><path clip-path=\"url(#clip650)\" d=\"M 0 0 M808.264 6.912 L826.621 6.912 L826.621 10.8472 L812.547 10.8472 L812.547 19.3193 Q813.565 18.9721 814.584 18.8101 Q815.602 18.6249 816.621 18.6249 Q822.408 18.6249 825.787 21.7962 Q829.167 24.9675 829.167 30.3841 Q829.167 35.9628 825.695 39.0646 Q822.222 42.1433 815.903 42.1433 Q813.727 42.1433 811.459 41.7729 Q809.213 41.4026 806.806 40.6618 L806.806 35.9628 Q808.889 37.097 811.111 37.6526 Q813.334 38.2081 815.81 38.2081 Q819.815 38.2081 822.153 36.1017 Q824.491 33.9952 824.491 30.3841 Q824.491 26.773 822.153 24.6665 Q819.815 22.5601 815.81 22.5601 Q813.935 22.5601 812.06 22.9767 Q810.209 23.3934 808.264 24.273 L808.264 6.912 Z\" fill=\"#000000\" fill-rule=\"evenodd\" fill-opacity=\"1\" /><circle clip-path=\"url(#clip652)\" cx=\"1042.72\" cy=\"404.86\" r=\"14\" fill=\"#009af9\" fill-rule=\"evenodd\" fill-opacity=\"1\" stroke=\"#000000\" stroke-opacity=\"1\" stroke-width=\"3.2\"/>\n",
       "<circle clip-path=\"url(#clip652)\" cx=\"1011.41\" cy=\"286.059\" r=\"14\" fill=\"#009af9\" fill-rule=\"evenodd\" fill-opacity=\"1\" stroke=\"#000000\" stroke-opacity=\"1\" stroke-width=\"3.2\"/>\n",
       "<circle clip-path=\"url(#clip652)\" cx=\"1028.17\" cy=\"414.714\" r=\"14\" fill=\"#009af9\" fill-rule=\"evenodd\" fill-opacity=\"1\" stroke=\"#000000\" stroke-opacity=\"1\" stroke-width=\"3.2\"/>\n",
       "<circle clip-path=\"url(#clip652)\" cx=\"1019.75\" cy=\"762.602\" r=\"14\" fill=\"#009af9\" fill-rule=\"evenodd\" fill-opacity=\"1\" stroke=\"#000000\" stroke-opacity=\"1\" stroke-width=\"3.2\"/>\n",
       "<circle clip-path=\"url(#clip652)\" cx=\"1006.32\" cy=\"190.74\" r=\"14\" fill=\"#009af9\" fill-rule=\"evenodd\" fill-opacity=\"1\" stroke=\"#000000\" stroke-opacity=\"1\" stroke-width=\"3.2\"/>\n",
       "<circle clip-path=\"url(#clip652)\" cx=\"1006.55\" cy=\"723.323\" r=\"14\" fill=\"#009af9\" fill-rule=\"evenodd\" fill-opacity=\"1\" stroke=\"#000000\" stroke-opacity=\"1\" stroke-width=\"3.2\"/>\n",
       "<circle clip-path=\"url(#clip652)\" cx=\"969.177\" cy=\"126.205\" r=\"14\" fill=\"#009af9\" fill-rule=\"evenodd\" fill-opacity=\"1\" stroke=\"#000000\" stroke-opacity=\"1\" stroke-width=\"3.2\"/>\n",
       "<circle clip-path=\"url(#clip652)\" cx=\"1084.23\" cy=\"953.052\" r=\"14\" fill=\"#009af9\" fill-rule=\"evenodd\" fill-opacity=\"1\" stroke=\"#000000\" stroke-opacity=\"1\" stroke-width=\"3.2\"/>\n",
       "<circle clip-path=\"url(#clip652)\" cx=\"1023.8\" cy=\"615.205\" r=\"14\" fill=\"#009af9\" fill-rule=\"evenodd\" fill-opacity=\"1\" stroke=\"#000000\" stroke-opacity=\"1\" stroke-width=\"3.2\"/>\n",
       "<circle clip-path=\"url(#clip652)\" cx=\"1040.61\" cy=\"793.095\" r=\"14\" fill=\"#009af9\" fill-rule=\"evenodd\" fill-opacity=\"1\" stroke=\"#000000\" stroke-opacity=\"1\" stroke-width=\"3.2\"/>\n",
       "<circle clip-path=\"url(#clip652)\" cx=\"1045.65\" cy=\"839.178\" r=\"14\" fill=\"#009af9\" fill-rule=\"evenodd\" fill-opacity=\"1\" stroke=\"#000000\" stroke-opacity=\"1\" stroke-width=\"3.2\"/>\n",
       "<circle clip-path=\"url(#clip652)\" cx=\"1065.41\" cy=\"577.72\" r=\"14\" fill=\"#009af9\" fill-rule=\"evenodd\" fill-opacity=\"1\" stroke=\"#000000\" stroke-opacity=\"1\" stroke-width=\"3.2\"/>\n",
       "<circle clip-path=\"url(#clip652)\" cx=\"1122.59\" cy=\"534.344\" r=\"14\" fill=\"#009af9\" fill-rule=\"evenodd\" fill-opacity=\"1\" stroke=\"#000000\" stroke-opacity=\"1\" stroke-width=\"3.2\"/>\n",
       "<circle clip-path=\"url(#clip652)\" cx=\"957.529\" cy=\"331.623\" r=\"14\" fill=\"#009af9\" fill-rule=\"evenodd\" fill-opacity=\"1\" stroke=\"#000000\" stroke-opacity=\"1\" stroke-width=\"3.2\"/>\n",
       "<circle clip-path=\"url(#clip652)\" cx=\"990.515\" cy=\"348.197\" r=\"14\" fill=\"#009af9\" fill-rule=\"evenodd\" fill-opacity=\"1\" stroke=\"#000000\" stroke-opacity=\"1\" stroke-width=\"3.2\"/>\n",
       "<circle clip-path=\"url(#clip652)\" cx=\"243.884\" cy=\"536.168\" r=\"14\" fill=\"#e26f46\" fill-rule=\"evenodd\" fill-opacity=\"1\" stroke=\"#000000\" stroke-opacity=\"1\" stroke-width=\"3.2\"/>\n",
       "<circle clip-path=\"url(#clip652)\" cx=\"541.198\" cy=\"771.885\" r=\"14\" fill=\"#e26f46\" fill-rule=\"evenodd\" fill-opacity=\"1\" stroke=\"#000000\" stroke-opacity=\"1\" stroke-width=\"3.2\"/>\n",
       "<circle clip-path=\"url(#clip652)\" cx=\"624.136\" cy=\"799.245\" r=\"14\" fill=\"#e26f46\" fill-rule=\"evenodd\" fill-opacity=\"1\" stroke=\"#000000\" stroke-opacity=\"1\" stroke-width=\"3.2\"/>\n",
       "<circle clip-path=\"url(#clip652)\" cx=\"679.247\" cy=\"1479.74\" r=\"14\" fill=\"#e26f46\" fill-rule=\"evenodd\" fill-opacity=\"1\" stroke=\"#000000\" stroke-opacity=\"1\" stroke-width=\"3.2\"/>\n",
       "<circle clip-path=\"url(#clip652)\" cx=\"490.498\" cy=\"910.683\" r=\"14\" fill=\"#e26f46\" fill-rule=\"evenodd\" fill-opacity=\"1\" stroke=\"#000000\" stroke-opacity=\"1\" stroke-width=\"3.2\"/>\n",
       "<circle clip-path=\"url(#clip652)\" cx=\"434.177\" cy=\"713.428\" r=\"14\" fill=\"#e26f46\" fill-rule=\"evenodd\" fill-opacity=\"1\" stroke=\"#000000\" stroke-opacity=\"1\" stroke-width=\"3.2\"/>\n",
       "<circle clip-path=\"url(#clip652)\" cx=\"382.661\" cy=\"1142.09\" r=\"14\" fill=\"#e26f46\" fill-rule=\"evenodd\" fill-opacity=\"1\" stroke=\"#000000\" stroke-opacity=\"1\" stroke-width=\"3.2\"/>\n",
       "<circle clip-path=\"url(#clip652)\" cx=\"490.293\" cy=\"616.854\" r=\"14\" fill=\"#e26f46\" fill-rule=\"evenodd\" fill-opacity=\"1\" stroke=\"#000000\" stroke-opacity=\"1\" stroke-width=\"3.2\"/>\n",
       "<circle clip-path=\"url(#clip652)\" cx=\"557.958\" cy=\"900.539\" r=\"14\" fill=\"#e26f46\" fill-rule=\"evenodd\" fill-opacity=\"1\" stroke=\"#000000\" stroke-opacity=\"1\" stroke-width=\"3.2\"/>\n",
       "<circle clip-path=\"url(#clip652)\" cx=\"443.433\" cy=\"314.427\" r=\"14\" fill=\"#e26f46\" fill-rule=\"evenodd\" fill-opacity=\"1\" stroke=\"#000000\" stroke-opacity=\"1\" stroke-width=\"3.2\"/>\n",
       "<circle clip-path=\"url(#clip652)\" cx=\"555.283\" cy=\"809.285\" r=\"14\" fill=\"#e26f46\" fill-rule=\"evenodd\" fill-opacity=\"1\" stroke=\"#000000\" stroke-opacity=\"1\" stroke-width=\"3.2\"/>\n",
       "<circle clip-path=\"url(#clip652)\" cx=\"283.773\" cy=\"551.674\" r=\"14\" fill=\"#e26f46\" fill-rule=\"evenodd\" fill-opacity=\"1\" stroke=\"#000000\" stroke-opacity=\"1\" stroke-width=\"3.2\"/>\n",
       "<circle clip-path=\"url(#clip652)\" cx=\"565.811\" cy=\"1185.58\" r=\"14\" fill=\"#e26f46\" fill-rule=\"evenodd\" fill-opacity=\"1\" stroke=\"#000000\" stroke-opacity=\"1\" stroke-width=\"3.2\"/>\n",
       "<circle clip-path=\"url(#clip652)\" cx=\"588.385\" cy=\"1021.22\" r=\"14\" fill=\"#e26f46\" fill-rule=\"evenodd\" fill-opacity=\"1\" stroke=\"#000000\" stroke-opacity=\"1\" stroke-width=\"3.2\"/>\n",
       "<circle clip-path=\"url(#clip652)\" cx=\"487.358\" cy=\"866.684\" r=\"14\" fill=\"#e26f46\" fill-rule=\"evenodd\" fill-opacity=\"1\" stroke=\"#000000\" stroke-opacity=\"1\" stroke-width=\"3.2\"/>\n",
       "<circle clip-path=\"url(#clip652)\" cx=\"552.474\" cy=\"998.597\" r=\"14\" fill=\"#e26f46\" fill-rule=\"evenodd\" fill-opacity=\"1\" stroke=\"#000000\" stroke-opacity=\"1\" stroke-width=\"3.2\"/>\n",
       "<circle clip-path=\"url(#clip652)\" cx=\"645.85\" cy=\"875.511\" r=\"14\" fill=\"#e26f46\" fill-rule=\"evenodd\" fill-opacity=\"1\" stroke=\"#000000\" stroke-opacity=\"1\" stroke-width=\"3.2\"/>\n",
       "<circle clip-path=\"url(#clip652)\" cx=\"368.018\" cy=\"767.071\" r=\"14\" fill=\"#3da44d\" fill-rule=\"evenodd\" fill-opacity=\"1\" stroke=\"#000000\" stroke-opacity=\"1\" stroke-width=\"3.2\"/>\n",
       "<circle clip-path=\"url(#clip652)\" cx=\"250.003\" cy=\"379.572\" r=\"14\" fill=\"#3da44d\" fill-rule=\"evenodd\" fill-opacity=\"1\" stroke=\"#000000\" stroke-opacity=\"1\" stroke-width=\"3.2\"/>\n",
       "<circle clip-path=\"url(#clip652)\" cx=\"383.917\" cy=\"708.085\" r=\"14\" fill=\"#3da44d\" fill-rule=\"evenodd\" fill-opacity=\"1\" stroke=\"#000000\" stroke-opacity=\"1\" stroke-width=\"3.2\"/>\n",
       "<circle clip-path=\"url(#clip652)\" cx=\"323.062\" cy=\"466.728\" r=\"14\" fill=\"#3da44d\" fill-rule=\"evenodd\" fill-opacity=\"1\" stroke=\"#000000\" stroke-opacity=\"1\" stroke-width=\"3.2\"/>\n",
       "<circle clip-path=\"url(#clip652)\" cx=\"117.155\" cy=\"104.257\" r=\"14\" fill=\"#3da44d\" fill-rule=\"evenodd\" fill-opacity=\"1\" stroke=\"#000000\" stroke-opacity=\"1\" stroke-width=\"3.2\"/>\n",
       "<circle clip-path=\"url(#clip652)\" cx=\"210.319\" cy=\"657.895\" r=\"14\" fill=\"#3da44d\" fill-rule=\"evenodd\" fill-opacity=\"1\" stroke=\"#000000\" stroke-opacity=\"1\" stroke-width=\"3.2\"/>\n",
       "<circle clip-path=\"url(#clip652)\" cx=\"272.433\" cy=\"751.649\" r=\"14\" fill=\"#3da44d\" fill-rule=\"evenodd\" fill-opacity=\"1\" stroke=\"#000000\" stroke-opacity=\"1\" stroke-width=\"3.2\"/>\n",
       "<circle clip-path=\"url(#clip652)\" cx=\"247.512\" cy=\"771.666\" r=\"14\" fill=\"#3da44d\" fill-rule=\"evenodd\" fill-opacity=\"1\" stroke=\"#000000\" stroke-opacity=\"1\" stroke-width=\"3.2\"/>\n",
       "<circle clip-path=\"url(#clip652)\" cx=\"216.131\" cy=\"506.742\" r=\"14\" fill=\"#3da44d\" fill-rule=\"evenodd\" fill-opacity=\"1\" stroke=\"#000000\" stroke-opacity=\"1\" stroke-width=\"3.2\"/>\n",
       "<circle clip-path=\"url(#clip652)\" cx=\"377.299\" cy=\"464.956\" r=\"14\" fill=\"#3da44d\" fill-rule=\"evenodd\" fill-opacity=\"1\" stroke=\"#000000\" stroke-opacity=\"1\" stroke-width=\"3.2\"/>\n",
       "<circle clip-path=\"url(#clip652)\" cx=\"215.251\" cy=\"795.025\" r=\"14\" fill=\"#3da44d\" fill-rule=\"evenodd\" fill-opacity=\"1\" stroke=\"#000000\" stroke-opacity=\"1\" stroke-width=\"3.2\"/>\n",
       "<circle clip-path=\"url(#clip652)\" cx=\"129.805\" cy=\"378.723\" r=\"14\" fill=\"#3da44d\" fill-rule=\"evenodd\" fill-opacity=\"1\" stroke=\"#000000\" stroke-opacity=\"1\" stroke-width=\"3.2\"/>\n",
       "<circle clip-path=\"url(#clip652)\" cx=\"166.975\" cy=\"253.741\" r=\"14\" fill=\"#3da44d\" fill-rule=\"evenodd\" fill-opacity=\"1\" stroke=\"#000000\" stroke-opacity=\"1\" stroke-width=\"3.2\"/>\n",
       "<path clip-path=\"url(#clip650)\" d=\"\n",
       "M1286.99 1521.01 L2352.76 1521.01 L2352.76 62.9921 L1286.99 62.9921  Z\n",
       "  \" fill=\"#ffffff\" fill-rule=\"evenodd\" fill-opacity=\"1\"/>\n",
       "<defs>\n",
       "  <clipPath id=\"clip653\">\n",
       "    <rect x=\"1286\" y=\"62\" width=\"1067\" height=\"1459\"/>\n",
       "  </clipPath>\n",
       "</defs>\n",
       "<polyline clip-path=\"url(#clip653)\" style=\"stroke:#000000; stroke-width:2; stroke-opacity:0.1; fill:none\" points=\"\n",
       "  1303.74,1521.01 1303.74,62.9921 \n",
       "  \"/>\n",
       "<polyline clip-path=\"url(#clip653)\" style=\"stroke:#000000; stroke-width:2; stroke-opacity:0.1; fill:none\" points=\"\n",
       "  1467.65,1521.01 1467.65,62.9921 \n",
       "  \"/>\n",
       "<polyline clip-path=\"url(#clip653)\" style=\"stroke:#000000; stroke-width:2; stroke-opacity:0.1; fill:none\" points=\"\n",
       "  1631.56,1521.01 1631.56,62.9921 \n",
       "  \"/>\n",
       "<polyline clip-path=\"url(#clip653)\" style=\"stroke:#000000; stroke-width:2; stroke-opacity:0.1; fill:none\" points=\"\n",
       "  1795.47,1521.01 1795.47,62.9921 \n",
       "  \"/>\n",
       "<polyline clip-path=\"url(#clip653)\" style=\"stroke:#000000; stroke-width:2; stroke-opacity:0.1; fill:none\" points=\"\n",
       "  1959.39,1521.01 1959.39,62.9921 \n",
       "  \"/>\n",
       "<polyline clip-path=\"url(#clip653)\" style=\"stroke:#000000; stroke-width:2; stroke-opacity:0.1; fill:none\" points=\"\n",
       "  2123.3,1521.01 2123.3,62.9921 \n",
       "  \"/>\n",
       "<polyline clip-path=\"url(#clip653)\" style=\"stroke:#000000; stroke-width:2; stroke-opacity:0.1; fill:none\" points=\"\n",
       "  2287.21,1521.01 2287.21,62.9921 \n",
       "  \"/>\n",
       "<polyline clip-path=\"url(#clip650)\" style=\"stroke:#000000; stroke-width:4; stroke-opacity:1; fill:none\" points=\"\n",
       "  1286.99,1521.01 2352.76,1521.01 \n",
       "  \"/>\n",
       "<polyline clip-path=\"url(#clip650)\" style=\"stroke:#000000; stroke-width:4; stroke-opacity:1; fill:none\" points=\"\n",
       "  1303.74,1521.01 1303.74,1503.51 \n",
       "  \"/>\n",
       "<polyline clip-path=\"url(#clip650)\" style=\"stroke:#000000; stroke-width:4; stroke-opacity:1; fill:none\" points=\"\n",
       "  1467.65,1521.01 1467.65,1503.51 \n",
       "  \"/>\n",
       "<polyline clip-path=\"url(#clip650)\" style=\"stroke:#000000; stroke-width:4; stroke-opacity:1; fill:none\" points=\"\n",
       "  1631.56,1521.01 1631.56,1503.51 \n",
       "  \"/>\n",
       "<polyline clip-path=\"url(#clip650)\" style=\"stroke:#000000; stroke-width:4; stroke-opacity:1; fill:none\" points=\"\n",
       "  1795.47,1521.01 1795.47,1503.51 \n",
       "  \"/>\n",
       "<polyline clip-path=\"url(#clip650)\" style=\"stroke:#000000; stroke-width:4; stroke-opacity:1; fill:none\" points=\"\n",
       "  1959.39,1521.01 1959.39,1503.51 \n",
       "  \"/>\n",
       "<polyline clip-path=\"url(#clip650)\" style=\"stroke:#000000; stroke-width:4; stroke-opacity:1; fill:none\" points=\"\n",
       "  2123.3,1521.01 2123.3,1503.51 \n",
       "  \"/>\n",
       "<polyline clip-path=\"url(#clip650)\" style=\"stroke:#000000; stroke-width:4; stroke-opacity:1; fill:none\" points=\"\n",
       "  2287.21,1521.01 2287.21,1503.51 \n",
       "  \"/>\n",
       "<path clip-path=\"url(#clip650)\" d=\"M 0 0 M1282.72 1558.69 L1304.98 1558.69 L1304.98 1561.64 L1282.72 1561.64 L1282.72 1558.69 Z\" fill=\"#000000\" fill-rule=\"evenodd\" fill-opacity=\"1\" /><path clip-path=\"url(#clip650)\" d=\"M 0 0 M1319.4 1557.34 Q1321.92 1557.87 1323.33 1559.58 Q1324.75 1561.28 1324.75 1563.78 Q1324.75 1567.61 1322.11 1569.71 Q1319.47 1571.82 1314.61 1571.82 Q1312.98 1571.82 1311.25 1571.49 Q1309.53 1571.17 1307.69 1570.53 L1307.69 1567.15 Q1309.14 1568 1310.88 1568.43 Q1312.62 1568.86 1314.51 1568.86 Q1317.81 1568.86 1319.53 1567.56 Q1321.26 1566.26 1321.26 1563.78 Q1321.26 1561.49 1319.65 1560.2 Q1318.05 1558.9 1315.19 1558.9 L1312.17 1558.9 L1312.17 1556.02 L1315.32 1556.02 Q1317.91 1556.02 1319.28 1554.99 Q1320.65 1553.95 1320.65 1552.01 Q1320.65 1550.01 1319.23 1548.95 Q1317.82 1547.87 1315.19 1547.87 Q1313.75 1547.87 1312.1 1548.19 Q1310.45 1548.5 1308.47 1549.16 L1308.47 1546.03 Q1310.46 1545.48 1312.2 1545.2 Q1313.95 1544.92 1315.5 1544.92 Q1319.49 1544.92 1321.82 1546.75 Q1324.14 1548.55 1324.14 1551.64 Q1324.14 1553.79 1322.91 1555.29 Q1321.68 1556.76 1319.4 1557.34 Z\" fill=\"#000000\" fill-rule=\"evenodd\" fill-opacity=\"1\" /><path clip-path=\"url(#clip650)\" d=\"M 0 0 M1446.99 1558.69 L1469.25 1558.69 L1469.25 1561.64 L1446.99 1561.64 L1446.99 1558.69 Z\" fill=\"#000000\" fill-rule=\"evenodd\" fill-opacity=\"1\" /><path clip-path=\"url(#clip650)\" d=\"M 0 0 M1476.07 1568.36 L1488.31 1568.36 L1488.31 1571.31 L1471.85 1571.31 L1471.85 1568.36 Q1473.85 1566.29 1477.28 1562.82 Q1480.74 1559.33 1481.62 1558.33 Q1483.31 1556.43 1483.97 1555.13 Q1484.65 1553.81 1484.65 1552.54 Q1484.65 1550.48 1483.19 1549.18 Q1481.75 1547.87 1479.42 1547.87 Q1477.77 1547.87 1475.93 1548.45 Q1474.11 1549.02 1472.02 1550.18 L1472.02 1546.64 Q1474.14 1545.79 1475.98 1545.36 Q1477.82 1544.92 1479.35 1544.92 Q1483.38 1544.92 1485.77 1546.94 Q1488.17 1548.95 1488.17 1552.32 Q1488.17 1553.92 1487.56 1555.36 Q1486.97 1556.78 1485.39 1558.73 Q1484.96 1559.23 1482.63 1561.64 Q1480.31 1564.04 1476.07 1568.36 Z\" fill=\"#000000\" fill-rule=\"evenodd\" fill-opacity=\"1\" /><path clip-path=\"url(#clip650)\" d=\"M 0 0 M1610.76 1558.69 L1633.02 1558.69 L1633.02 1561.64 L1610.76 1561.64 L1610.76 1558.69 Z\" fill=\"#000000\" fill-rule=\"evenodd\" fill-opacity=\"1\" /><path clip-path=\"url(#clip650)\" d=\"M 0 0 M1637.43 1568.36 L1643.16 1568.36 L1643.16 1548.59 L1636.93 1549.84 L1636.93 1546.64 L1643.12 1545.39 L1646.63 1545.39 L1646.63 1568.36 L1652.36 1568.36 L1652.36 1571.31 L1637.43 1571.31 L1637.43 1568.36 Z\" fill=\"#000000\" fill-rule=\"evenodd\" fill-opacity=\"1\" /><path clip-path=\"url(#clip650)\" d=\"M 0 0 M1795.47 1547.7 Q1792.77 1547.7 1791.39 1550.37 Q1790.04 1553.03 1790.04 1558.38 Q1790.04 1563.71 1791.39 1566.38 Q1792.77 1569.04 1795.47 1569.04 Q1798.2 1569.04 1799.55 1566.38 Q1800.93 1563.71 1800.93 1558.38 Q1800.93 1553.03 1799.55 1550.37 Q1798.2 1547.7 1795.47 1547.7 M1795.47 1544.92 Q1799.83 1544.92 1802.12 1548.38 Q1804.43 1551.82 1804.43 1558.38 Q1804.43 1564.92 1802.12 1568.38 Q1799.83 1571.82 1795.47 1571.82 Q1791.12 1571.82 1788.81 1568.38 Q1786.52 1564.92 1786.52 1558.38 Q1786.52 1551.82 1788.81 1548.38 Q1791.12 1544.92 1795.47 1544.92 Z\" fill=\"#000000\" fill-rule=\"evenodd\" fill-opacity=\"1\" /><path clip-path=\"url(#clip650)\" d=\"M 0 0 M1952.17 1568.36 L1957.9 1568.36 L1957.9 1548.59 L1951.67 1549.84 L1951.67 1546.64 L1957.87 1545.39 L1961.37 1545.39 L1961.37 1568.36 L1967.1 1568.36 L1967.1 1571.31 L1952.17 1571.31 L1952.17 1568.36 Z\" fill=\"#000000\" fill-rule=\"evenodd\" fill-opacity=\"1\" /><path clip-path=\"url(#clip650)\" d=\"M 0 0 M2119.29 1568.36 L2131.53 1568.36 L2131.53 1571.31 L2115.07 1571.31 L2115.07 1568.36 Q2117.07 1566.29 2120.5 1562.82 Q2123.96 1559.33 2124.84 1558.33 Q2126.53 1556.43 2127.19 1555.13 Q2127.86 1553.81 2127.86 1552.54 Q2127.86 1550.48 2126.41 1549.18 Q2124.97 1547.87 2122.64 1547.87 Q2120.99 1547.87 2119.15 1548.45 Q2117.33 1549.02 2115.24 1550.18 L2115.24 1546.64 Q2117.36 1545.79 2119.2 1545.36 Q2121.04 1544.92 2122.57 1544.92 Q2126.6 1544.92 2128.99 1546.94 Q2131.39 1548.95 2131.39 1552.32 Q2131.39 1553.92 2130.78 1555.36 Q2130.19 1556.78 2128.61 1558.73 Q2128.18 1559.23 2125.85 1561.64 Q2123.52 1564.04 2119.29 1568.36 Z\" fill=\"#000000\" fill-rule=\"evenodd\" fill-opacity=\"1\" /><path clip-path=\"url(#clip650)\" d=\"M 0 0 M2290.4 1557.34 Q2292.91 1557.87 2294.32 1559.58 Q2295.74 1561.28 2295.74 1563.78 Q2295.74 1567.61 2293.11 1569.71 Q2290.47 1571.82 2285.61 1571.82 Q2283.97 1571.82 2282.24 1571.49 Q2280.52 1571.17 2278.68 1570.53 L2278.68 1567.15 Q2280.14 1568 2281.87 1568.43 Q2283.61 1568.86 2285.5 1568.86 Q2288.8 1568.86 2290.52 1567.56 Q2292.25 1566.26 2292.25 1563.78 Q2292.25 1561.49 2290.64 1560.2 Q2289.04 1558.9 2286.18 1558.9 L2283.16 1558.9 L2283.16 1556.02 L2286.32 1556.02 Q2288.9 1556.02 2290.28 1554.99 Q2291.65 1553.95 2291.65 1552.01 Q2291.65 1550.01 2290.22 1548.95 Q2288.82 1547.87 2286.18 1547.87 Q2284.74 1547.87 2283.09 1548.19 Q2281.44 1548.5 2279.46 1549.16 L2279.46 1546.03 Q2281.46 1545.48 2283.19 1545.2 Q2284.95 1544.92 2286.49 1544.92 Q2290.48 1544.92 2292.81 1546.75 Q2295.14 1548.55 2295.14 1551.64 Q2295.14 1553.79 2293.9 1555.29 Q2292.67 1556.76 2290.4 1557.34 Z\" fill=\"#000000\" fill-rule=\"evenodd\" fill-opacity=\"1\" /><polyline clip-path=\"url(#clip653)\" style=\"stroke:#000000; stroke-width:2; stroke-opacity:0.1; fill:none\" points=\"\n",
       "  1286.99,1303 2352.76,1303 \n",
       "  \"/>\n",
       "<polyline clip-path=\"url(#clip653)\" style=\"stroke:#000000; stroke-width:2; stroke-opacity:0.1; fill:none\" points=\"\n",
       "  1286.99,966.35 2352.76,966.35 \n",
       "  \"/>\n",
       "<polyline clip-path=\"url(#clip653)\" style=\"stroke:#000000; stroke-width:2; stroke-opacity:0.1; fill:none\" points=\"\n",
       "  1286.99,629.695 2352.76,629.695 \n",
       "  \"/>\n",
       "<polyline clip-path=\"url(#clip653)\" style=\"stroke:#000000; stroke-width:2; stroke-opacity:0.1; fill:none\" points=\"\n",
       "  1286.99,293.04 2352.76,293.04 \n",
       "  \"/>\n",
       "<polyline clip-path=\"url(#clip650)\" style=\"stroke:#000000; stroke-width:4; stroke-opacity:1; fill:none\" points=\"\n",
       "  1286.99,1521.01 1286.99,62.9921 \n",
       "  \"/>\n",
       "<polyline clip-path=\"url(#clip650)\" style=\"stroke:#000000; stroke-width:4; stroke-opacity:1; fill:none\" points=\"\n",
       "  1286.99,1303 1299.78,1303 \n",
       "  \"/>\n",
       "<polyline clip-path=\"url(#clip650)\" style=\"stroke:#000000; stroke-width:4; stroke-opacity:1; fill:none\" points=\"\n",
       "  1286.99,966.35 1299.78,966.35 \n",
       "  \"/>\n",
       "<polyline clip-path=\"url(#clip650)\" style=\"stroke:#000000; stroke-width:4; stroke-opacity:1; fill:none\" points=\"\n",
       "  1286.99,629.695 1299.78,629.695 \n",
       "  \"/>\n",
       "<polyline clip-path=\"url(#clip650)\" style=\"stroke:#000000; stroke-width:4; stroke-opacity:1; fill:none\" points=\"\n",
       "  1286.99,293.04 1299.78,293.04 \n",
       "  \"/>\n",
       "<path clip-path=\"url(#clip650)\" d=\"M 0 0 M1158.56 1303.46 L1188.24 1303.46 L1188.24 1307.39 L1158.56 1307.39 L1158.56 1303.46 Z\" fill=\"#000000\" fill-rule=\"evenodd\" fill-opacity=\"1\" /><path clip-path=\"url(#clip650)\" d=\"M 0 0 M1194.12 1316.35 L1201.76 1316.35 L1201.76 1289.98 L1193.45 1291.65 L1193.45 1287.39 L1201.71 1285.72 L1206.39 1285.72 L1206.39 1316.35 L1214.02 1316.35 L1214.02 1320.28 L1194.12 1320.28 L1194.12 1316.35 Z\" fill=\"#000000\" fill-rule=\"evenodd\" fill-opacity=\"1\" /><path clip-path=\"url(#clip650)\" d=\"M 0 0 M1219.09 1314.41 L1223.98 1314.41 L1223.98 1320.28 L1219.09 1320.28 L1219.09 1314.41 Z\" fill=\"#000000\" fill-rule=\"evenodd\" fill-opacity=\"1\" /><path clip-path=\"url(#clip650)\" d=\"M 0 0 M1239.05 1288.8 Q1235.44 1288.8 1233.61 1292.37 Q1231.8 1295.91 1231.8 1303.04 Q1231.8 1310.15 1233.61 1313.71 Q1235.44 1317.25 1239.05 1317.25 Q1242.68 1317.25 1244.49 1313.71 Q1246.32 1310.15 1246.32 1303.04 Q1246.32 1295.91 1244.49 1292.37 Q1242.68 1288.8 1239.05 1288.8 M1239.05 1285.1 Q1244.86 1285.1 1247.91 1289.71 Q1250.99 1294.29 1250.99 1303.04 Q1250.99 1311.77 1247.91 1316.37 Q1244.86 1320.96 1239.05 1320.96 Q1233.24 1320.96 1230.16 1316.37 Q1227.1 1311.77 1227.1 1303.04 Q1227.1 1294.29 1230.16 1289.71 Q1233.24 1285.1 1239.05 1285.1 Z\" fill=\"#000000\" fill-rule=\"evenodd\" fill-opacity=\"1\" /><path clip-path=\"url(#clip650)\" d=\"M 0 0 M1158.33 966.801 L1188.01 966.801 L1188.01 970.736 L1158.33 970.736 L1158.33 966.801 Z\" fill=\"#000000\" fill-rule=\"evenodd\" fill-opacity=\"1\" /><path clip-path=\"url(#clip650)\" d=\"M 0 0 M1203.08 952.149 Q1199.46 952.149 1197.64 955.713 Q1195.83 959.255 1195.83 966.385 Q1195.83 973.491 1197.64 977.056 Q1199.46 980.597 1203.08 980.597 Q1206.71 980.597 1208.52 977.056 Q1210.34 973.491 1210.34 966.385 Q1210.34 959.255 1208.52 955.713 Q1206.71 952.149 1203.08 952.149 M1203.08 948.445 Q1208.89 948.445 1211.94 953.051 Q1215.02 957.635 1215.02 966.385 Q1215.02 975.111 1211.94 979.718 Q1208.89 984.301 1203.08 984.301 Q1197.27 984.301 1194.19 979.718 Q1191.13 975.111 1191.13 966.385 Q1191.13 957.635 1194.19 953.051 Q1197.27 948.445 1203.08 948.445 Z\" fill=\"#000000\" fill-rule=\"evenodd\" fill-opacity=\"1\" /><path clip-path=\"url(#clip650)\" d=\"M 0 0 M1220.09 977.75 L1224.97 977.75 L1224.97 983.63 L1220.09 983.63 L1220.09 977.75 Z\" fill=\"#000000\" fill-rule=\"evenodd\" fill-opacity=\"1\" /><path clip-path=\"url(#clip650)\" d=\"M 0 0 M1230.09 949.07 L1248.45 949.07 L1248.45 953.005 L1234.37 953.005 L1234.37 961.477 Q1235.39 961.13 1236.41 960.968 Q1237.43 960.783 1238.45 960.783 Q1244.23 960.783 1247.61 963.954 Q1250.99 967.125 1250.99 972.542 Q1250.99 978.121 1247.52 981.222 Q1244.05 984.301 1237.73 984.301 Q1235.55 984.301 1233.28 983.931 Q1231.04 983.56 1228.63 982.82 L1228.63 978.121 Q1230.71 979.255 1232.94 979.81 Q1235.16 980.366 1237.64 980.366 Q1241.64 980.366 1243.98 978.259 Q1246.32 976.153 1246.32 972.542 Q1246.32 968.931 1243.98 966.824 Q1241.64 964.718 1237.64 964.718 Q1235.76 964.718 1233.89 965.135 Q1232.03 965.551 1230.09 966.431 L1230.09 949.07 Z\" fill=\"#000000\" fill-rule=\"evenodd\" fill-opacity=\"1\" /><path clip-path=\"url(#clip650)\" d=\"M 0 0 M1202.08 615.493 Q1198.47 615.493 1196.64 619.058 Q1194.84 622.6 1194.84 629.73 Q1194.84 636.836 1196.64 640.401 Q1198.47 643.942 1202.08 643.942 Q1205.71 643.942 1207.52 640.401 Q1209.35 636.836 1209.35 629.73 Q1209.35 622.6 1207.52 619.058 Q1205.71 615.493 1202.08 615.493 M1202.08 611.79 Q1207.89 611.79 1210.95 616.396 Q1214.02 620.98 1214.02 629.73 Q1214.02 638.456 1210.95 643.063 Q1207.89 647.646 1202.08 647.646 Q1196.27 647.646 1193.19 643.063 Q1190.14 638.456 1190.14 629.73 Q1190.14 620.98 1193.19 616.396 Q1196.27 611.79 1202.08 611.79 Z\" fill=\"#000000\" fill-rule=\"evenodd\" fill-opacity=\"1\" /><path clip-path=\"url(#clip650)\" d=\"M 0 0 M1219.09 641.095 L1223.98 641.095 L1223.98 646.975 L1219.09 646.975 L1219.09 641.095 Z\" fill=\"#000000\" fill-rule=\"evenodd\" fill-opacity=\"1\" /><path clip-path=\"url(#clip650)\" d=\"M 0 0 M1239.05 615.493 Q1235.44 615.493 1233.61 619.058 Q1231.8 622.6 1231.8 629.73 Q1231.8 636.836 1233.61 640.401 Q1235.44 643.942 1239.05 643.942 Q1242.68 643.942 1244.49 640.401 Q1246.32 636.836 1246.32 629.73 Q1246.32 622.6 1244.49 619.058 Q1242.68 615.493 1239.05 615.493 M1239.05 611.79 Q1244.86 611.79 1247.91 616.396 Q1250.99 620.98 1250.99 629.73 Q1250.99 638.456 1247.91 643.063 Q1244.86 647.646 1239.05 647.646 Q1233.24 647.646 1230.16 643.063 Q1227.1 638.456 1227.1 629.73 Q1227.1 620.98 1230.16 616.396 Q1233.24 611.79 1239.05 611.79 Z\" fill=\"#000000\" fill-rule=\"evenodd\" fill-opacity=\"1\" /><path clip-path=\"url(#clip650)\" d=\"M 0 0 M1203.08 278.838 Q1199.46 278.838 1197.64 282.403 Q1195.83 285.945 1195.83 293.075 Q1195.83 300.181 1197.64 303.746 Q1199.46 307.287 1203.08 307.287 Q1206.71 307.287 1208.52 303.746 Q1210.34 300.181 1210.34 293.075 Q1210.34 285.945 1208.52 282.403 Q1206.71 278.838 1203.08 278.838 M1203.08 275.135 Q1208.89 275.135 1211.94 279.741 Q1215.02 284.325 1215.02 293.075 Q1215.02 301.801 1211.94 306.408 Q1208.89 310.991 1203.08 310.991 Q1197.27 310.991 1194.19 306.408 Q1191.13 301.801 1191.13 293.075 Q1191.13 284.325 1194.19 279.741 Q1197.27 275.135 1203.08 275.135 Z\" fill=\"#000000\" fill-rule=\"evenodd\" fill-opacity=\"1\" /><path clip-path=\"url(#clip650)\" d=\"M 0 0 M1220.09 304.44 L1224.97 304.44 L1224.97 310.32 L1220.09 310.32 L1220.09 304.44 Z\" fill=\"#000000\" fill-rule=\"evenodd\" fill-opacity=\"1\" /><path clip-path=\"url(#clip650)\" d=\"M 0 0 M1230.09 275.76 L1248.45 275.76 L1248.45 279.695 L1234.37 279.695 L1234.37 288.167 Q1235.39 287.82 1236.41 287.658 Q1237.43 287.473 1238.45 287.473 Q1244.23 287.473 1247.61 290.644 Q1250.99 293.815 1250.99 299.232 Q1250.99 304.811 1247.52 307.912 Q1244.05 310.991 1237.73 310.991 Q1235.55 310.991 1233.28 310.621 Q1231.04 310.25 1228.63 309.51 L1228.63 304.811 Q1230.71 305.945 1232.94 306.5 Q1235.16 307.056 1237.64 307.056 Q1241.64 307.056 1243.98 304.949 Q1246.32 302.843 1246.32 299.232 Q1246.32 295.621 1243.98 293.514 Q1241.64 291.408 1237.64 291.408 Q1235.76 291.408 1233.89 291.825 Q1232.03 292.241 1230.09 293.121 L1230.09 275.76 Z\" fill=\"#000000\" fill-rule=\"evenodd\" fill-opacity=\"1\" /><path clip-path=\"url(#clip650)\" d=\"M 0 0 M1610.53 6.912 L1630.4 6.912 L1630.4 10.8472 L1615.21 10.8472 L1615.21 21.0323 L1628.91 21.0323 L1628.91 24.9675 L1615.21 24.9675 L1615.21 41.472 L1610.53 41.472 L1610.53 6.912 Z\" fill=\"#000000\" fill-rule=\"evenodd\" fill-opacity=\"1\" /><path clip-path=\"url(#clip650)\" d=\"M 0 0 M1631.83 31.2406 L1631.83 15.5462 L1636.09 15.5462 L1636.09 31.0785 Q1636.09 34.7591 1637.53 36.6109 Q1638.96 38.4396 1641.83 38.4396 Q1645.28 38.4396 1647.27 36.2405 Q1649.28 34.0415 1649.28 30.2452 L1649.28 15.5462 L1653.54 15.5462 L1653.54 41.472 L1649.28 41.472 L1649.28 37.4905 Q1647.73 39.8516 1645.67 41.009 Q1643.64 42.1433 1640.93 42.1433 Q1636.46 42.1433 1634.15 39.3655 Q1631.83 36.5878 1631.83 31.2406 M1642.55 14.9212 L1642.55 14.9212 Z\" fill=\"#000000\" fill-rule=\"evenodd\" fill-opacity=\"1\" /><path clip-path=\"url(#clip650)\" d=\"M 0 0 M1656.16 15.5462 L1676.39 15.5462 L1676.39 19.4351 L1660.37 38.0692 L1676.39 38.0692 L1676.39 41.472 L1655.58 41.472 L1655.58 37.5831 L1671.6 18.949 L1656.16 18.949 L1656.16 15.5462 Z\" fill=\"#000000\" fill-rule=\"evenodd\" fill-opacity=\"1\" /><path clip-path=\"url(#clip650)\" d=\"M 0 0 M1679.01 15.5462 L1699.24 15.5462 L1699.24 19.4351 L1683.22 38.0692 L1699.24 38.0692 L1699.24 41.472 L1678.43 41.472 L1678.43 37.5831 L1694.45 18.949 L1679.01 18.949 L1679.01 15.5462 Z\" fill=\"#000000\" fill-rule=\"evenodd\" fill-opacity=\"1\" /><path clip-path=\"url(#clip650)\" d=\"M 0 0 M1714.49 43.8794 Q1712.69 48.509 1710.97 49.921 Q1709.26 51.3331 1706.39 51.3331 L1702.99 51.3331 L1702.99 47.7683 L1705.49 47.7683 Q1707.25 47.7683 1708.22 46.9349 Q1709.19 46.1016 1710.37 42.9998 L1711.14 41.0553 L1700.65 15.5462 L1705.16 15.5462 L1713.27 35.8239 L1721.37 15.5462 L1725.88 15.5462 L1714.49 43.8794 Z\" fill=\"#000000\" fill-rule=\"evenodd\" fill-opacity=\"1\" /><path clip-path=\"url(#clip650)\" d=\"M 0 0 M1742.09 11.5185 L1735.74 28.7174 L1748.45 28.7174 L1742.09 11.5185 M1739.45 6.912 L1744.75 6.912 L1757.92 41.472 L1753.06 41.472 L1749.91 32.6063 L1734.33 32.6063 L1731.18 41.472 L1726.25 41.472 L1739.45 6.912 Z\" fill=\"#000000\" fill-rule=\"evenodd\" fill-opacity=\"1\" /><path clip-path=\"url(#clip650)\" d=\"M 0 0 M1778.96 25.2684 Q1780.46 25.7776 1781.88 27.4443 Q1783.31 29.111 1784.75 32.0276 L1789.49 41.472 L1784.47 41.472 L1780.05 32.6063 Q1778.33 29.1341 1776.71 27.9998 Q1775.12 26.8656 1772.34 26.8656 L1767.25 26.8656 L1767.25 41.472 L1762.57 41.472 L1762.57 6.912 L1773.13 6.912 Q1779.05 6.912 1781.97 9.38884 Q1784.89 11.8657 1784.89 16.8657 Q1784.89 20.1295 1783.36 22.2823 Q1781.85 24.4351 1778.96 25.2684 M1767.25 10.7546 L1767.25 23.023 L1773.13 23.023 Q1776.51 23.023 1778.22 21.4721 Q1779.96 19.898 1779.96 16.8657 Q1779.96 13.8333 1778.22 12.3055 Q1776.51 10.7546 1773.13 10.7546 L1767.25 10.7546 Z\" fill=\"#000000\" fill-rule=\"evenodd\" fill-opacity=\"1\" /><path clip-path=\"url(#clip650)\" d=\"M 0 0 M1785.9 6.912 L1815.14 6.912 L1815.14 10.8472 L1802.87 10.8472 L1802.87 41.472 L1798.17 41.472 L1798.17 10.8472 L1785.9 10.8472 L1785.9 6.912 Z\" fill=\"#000000\" fill-rule=\"evenodd\" fill-opacity=\"1\" /><path clip-path=\"url(#clip650)\" d=\"M 0 0 M1849.7 19.5277 Q1848.98 19.111 1848.13 18.9258 Q1847.29 18.7175 1846.27 18.7175 Q1842.66 18.7175 1840.72 21.0786 Q1838.8 23.4165 1838.8 27.8147 L1838.8 41.472 L1834.52 41.472 L1834.52 15.5462 L1838.8 15.5462 L1838.8 19.574 Q1840.14 17.2129 1842.29 16.0786 Q1844.45 14.9212 1847.52 14.9212 Q1847.96 14.9212 1848.5 14.9907 Q1849.03 15.037 1849.68 15.1527 L1849.7 19.5277 Z\" fill=\"#000000\" fill-rule=\"evenodd\" fill-opacity=\"1\" /><path clip-path=\"url(#clip650)\" d=\"M 0 0 M1874.89 25.8239 L1874.89 41.472 L1870.63 41.472 L1870.63 25.9628 Q1870.63 22.2823 1869.19 20.4536 Q1867.76 18.6249 1864.89 18.6249 Q1861.44 18.6249 1859.45 20.824 Q1857.45 23.023 1857.45 26.8193 L1857.45 41.472 L1853.17 41.472 L1853.17 5.45367 L1857.45 5.45367 L1857.45 19.574 Q1858.98 17.236 1861.04 16.0786 Q1863.13 14.9212 1865.83 14.9212 Q1870.3 14.9212 1872.59 17.699 Q1874.89 20.4536 1874.89 25.8239 Z\" fill=\"#000000\" fill-rule=\"evenodd\" fill-opacity=\"1\" /><path clip-path=\"url(#clip650)\" d=\"M 0 0 M1889.4 18.5323 Q1885.97 18.5323 1883.98 21.2175 Q1881.99 23.8795 1881.99 28.5323 Q1881.99 33.185 1883.96 35.8702 Q1885.95 38.5322 1889.4 38.5322 Q1892.8 38.5322 1894.79 35.847 Q1896.78 33.1619 1896.78 28.5323 Q1896.78 23.9258 1894.79 21.2406 Q1892.8 18.5323 1889.4 18.5323 M1889.4 14.9212 Q1894.95 14.9212 1898.13 18.5323 Q1901.3 22.1434 1901.3 28.5323 Q1901.3 34.898 1898.13 38.5322 Q1894.95 42.1433 1889.4 42.1433 Q1883.82 42.1433 1880.65 38.5322 Q1877.5 34.898 1877.5 28.5323 Q1877.5 22.1434 1880.65 18.5323 Q1883.82 14.9212 1889.4 14.9212 Z\" fill=\"#000000\" fill-rule=\"evenodd\" fill-opacity=\"1\" /><path clip-path=\"url(#clip650)\" d=\"M 0 0 M1921.39 19.9443 L1951.07 19.9443 L1951.07 23.8332 L1921.39 23.8332 L1921.39 19.9443 M1921.39 29.3887 L1951.07 29.3887 L1951.07 33.3239 L1921.39 33.3239 L1921.39 29.3887 Z\" fill=\"#000000\" fill-rule=\"evenodd\" fill-opacity=\"1\" /><path clip-path=\"url(#clip650)\" d=\"M 0 0 M1981.2 9.99069 Q1977.59 9.99069 1975.76 13.5555 Q1973.96 17.0971 1973.96 24.2267 Q1973.96 31.3332 1975.76 34.898 Q1977.59 38.4396 1981.2 38.4396 Q1984.84 38.4396 1986.64 34.898 Q1988.47 31.3332 1988.47 24.2267 Q1988.47 17.0971 1986.64 13.5555 Q1984.84 9.99069 1981.2 9.99069 M1981.2 6.287 Q1987.01 6.287 1990.07 10.8935 Q1993.15 15.4768 1993.15 24.2267 Q1993.15 32.9535 1990.07 37.56 Q1987.01 42.1433 1981.2 42.1433 Q1975.39 42.1433 1972.32 37.56 Q1969.26 32.9535 1969.26 24.2267 Q1969.26 15.4768 1972.32 10.8935 Q1975.39 6.287 1981.2 6.287 Z\" fill=\"#000000\" fill-rule=\"evenodd\" fill-opacity=\"1\" /><path clip-path=\"url(#clip650)\" d=\"M 0 0 M1998.22 35.5924 L2003.1 35.5924 L2003.1 41.472 L1998.22 41.472 L1998.22 35.5924 Z\" fill=\"#000000\" fill-rule=\"evenodd\" fill-opacity=\"1\" /><path clip-path=\"url(#clip650)\" d=\"M 0 0 M2006.99 6.912 L2029.21 6.912 L2029.21 8.90273 L2016.67 41.472 L2011.78 41.472 L2023.59 10.8472 L2006.99 10.8472 L2006.99 6.912 Z\" fill=\"#000000\" fill-rule=\"evenodd\" fill-opacity=\"1\" /><circle clip-path=\"url(#clip653)\" cx=\"2242.72\" cy=\"404.86\" r=\"14\" fill=\"#009af9\" fill-rule=\"evenodd\" fill-opacity=\"1\" stroke=\"#000000\" stroke-opacity=\"1\" stroke-width=\"3.2\"/>\n",
       "<circle clip-path=\"url(#clip653)\" cx=\"2211.41\" cy=\"286.059\" r=\"14\" fill=\"#009af9\" fill-rule=\"evenodd\" fill-opacity=\"1\" stroke=\"#000000\" stroke-opacity=\"1\" stroke-width=\"3.2\"/>\n",
       "<circle clip-path=\"url(#clip653)\" cx=\"2228.17\" cy=\"414.714\" r=\"14\" fill=\"#009af9\" fill-rule=\"evenodd\" fill-opacity=\"1\" stroke=\"#000000\" stroke-opacity=\"1\" stroke-width=\"3.2\"/>\n",
       "<circle clip-path=\"url(#clip653)\" cx=\"2219.75\" cy=\"762.602\" r=\"14\" fill=\"#009af9\" fill-rule=\"evenodd\" fill-opacity=\"1\" stroke=\"#000000\" stroke-opacity=\"1\" stroke-width=\"3.2\"/>\n",
       "<circle clip-path=\"url(#clip653)\" cx=\"2206.32\" cy=\"190.74\" r=\"14\" fill=\"#009af9\" fill-rule=\"evenodd\" fill-opacity=\"1\" stroke=\"#000000\" stroke-opacity=\"1\" stroke-width=\"3.2\"/>\n",
       "<circle clip-path=\"url(#clip653)\" cx=\"2206.55\" cy=\"723.323\" r=\"14\" fill=\"#009af9\" fill-rule=\"evenodd\" fill-opacity=\"1\" stroke=\"#000000\" stroke-opacity=\"1\" stroke-width=\"3.2\"/>\n",
       "<circle clip-path=\"url(#clip653)\" cx=\"2169.18\" cy=\"126.205\" r=\"14\" fill=\"#009af9\" fill-rule=\"evenodd\" fill-opacity=\"1\" stroke=\"#000000\" stroke-opacity=\"1\" stroke-width=\"3.2\"/>\n",
       "<circle clip-path=\"url(#clip653)\" cx=\"2284.23\" cy=\"953.052\" r=\"14\" fill=\"#009af9\" fill-rule=\"evenodd\" fill-opacity=\"1\" stroke=\"#000000\" stroke-opacity=\"1\" stroke-width=\"3.2\"/>\n",
       "<circle clip-path=\"url(#clip653)\" cx=\"2223.8\" cy=\"615.205\" r=\"14\" fill=\"#009af9\" fill-rule=\"evenodd\" fill-opacity=\"1\" stroke=\"#000000\" stroke-opacity=\"1\" stroke-width=\"3.2\"/>\n",
       "<circle clip-path=\"url(#clip653)\" cx=\"2240.61\" cy=\"793.095\" r=\"14\" fill=\"#009af9\" fill-rule=\"evenodd\" fill-opacity=\"1\" stroke=\"#000000\" stroke-opacity=\"1\" stroke-width=\"3.2\"/>\n",
       "<circle clip-path=\"url(#clip653)\" cx=\"2245.65\" cy=\"839.178\" r=\"14\" fill=\"#009af9\" fill-rule=\"evenodd\" fill-opacity=\"1\" stroke=\"#000000\" stroke-opacity=\"1\" stroke-width=\"3.2\"/>\n",
       "<circle clip-path=\"url(#clip653)\" cx=\"2265.41\" cy=\"577.72\" r=\"14\" fill=\"#009af9\" fill-rule=\"evenodd\" fill-opacity=\"1\" stroke=\"#000000\" stroke-opacity=\"1\" stroke-width=\"3.2\"/>\n",
       "<circle clip-path=\"url(#clip653)\" cx=\"2322.59\" cy=\"534.344\" r=\"14\" fill=\"#009af9\" fill-rule=\"evenodd\" fill-opacity=\"1\" stroke=\"#000000\" stroke-opacity=\"1\" stroke-width=\"3.2\"/>\n",
       "<circle clip-path=\"url(#clip653)\" cx=\"2157.53\" cy=\"331.623\" r=\"14\" fill=\"#009af9\" fill-rule=\"evenodd\" fill-opacity=\"1\" stroke=\"#000000\" stroke-opacity=\"1\" stroke-width=\"3.2\"/>\n",
       "<circle clip-path=\"url(#clip653)\" cx=\"2190.52\" cy=\"348.197\" r=\"14\" fill=\"#009af9\" fill-rule=\"evenodd\" fill-opacity=\"1\" stroke=\"#000000\" stroke-opacity=\"1\" stroke-width=\"3.2\"/>\n",
       "<circle clip-path=\"url(#clip653)\" cx=\"1741.2\" cy=\"771.885\" r=\"14\" fill=\"#e26f46\" fill-rule=\"evenodd\" fill-opacity=\"1\" stroke=\"#000000\" stroke-opacity=\"1\" stroke-width=\"3.2\"/>\n",
       "<circle clip-path=\"url(#clip653)\" cx=\"1824.14\" cy=\"799.245\" r=\"14\" fill=\"#e26f46\" fill-rule=\"evenodd\" fill-opacity=\"1\" stroke=\"#000000\" stroke-opacity=\"1\" stroke-width=\"3.2\"/>\n",
       "<circle clip-path=\"url(#clip653)\" cx=\"1879.25\" cy=\"1479.74\" r=\"14\" fill=\"#e26f46\" fill-rule=\"evenodd\" fill-opacity=\"1\" stroke=\"#000000\" stroke-opacity=\"1\" stroke-width=\"3.2\"/>\n",
       "<circle clip-path=\"url(#clip653)\" cx=\"1690.5\" cy=\"910.683\" r=\"14\" fill=\"#e26f46\" fill-rule=\"evenodd\" fill-opacity=\"1\" stroke=\"#000000\" stroke-opacity=\"1\" stroke-width=\"3.2\"/>\n",
       "<circle clip-path=\"url(#clip653)\" cx=\"1634.18\" cy=\"713.428\" r=\"14\" fill=\"#e26f46\" fill-rule=\"evenodd\" fill-opacity=\"1\" stroke=\"#000000\" stroke-opacity=\"1\" stroke-width=\"3.2\"/>\n",
       "<circle clip-path=\"url(#clip653)\" cx=\"1582.66\" cy=\"1142.09\" r=\"14\" fill=\"#e26f46\" fill-rule=\"evenodd\" fill-opacity=\"1\" stroke=\"#000000\" stroke-opacity=\"1\" stroke-width=\"3.2\"/>\n",
       "<circle clip-path=\"url(#clip653)\" cx=\"1690.29\" cy=\"616.854\" r=\"14\" fill=\"#e26f46\" fill-rule=\"evenodd\" fill-opacity=\"1\" stroke=\"#000000\" stroke-opacity=\"1\" stroke-width=\"3.2\"/>\n",
       "<circle clip-path=\"url(#clip653)\" cx=\"1757.96\" cy=\"900.539\" r=\"14\" fill=\"#e26f46\" fill-rule=\"evenodd\" fill-opacity=\"1\" stroke=\"#000000\" stroke-opacity=\"1\" stroke-width=\"3.2\"/>\n",
       "<circle clip-path=\"url(#clip653)\" cx=\"1643.43\" cy=\"314.427\" r=\"14\" fill=\"#e26f46\" fill-rule=\"evenodd\" fill-opacity=\"1\" stroke=\"#000000\" stroke-opacity=\"1\" stroke-width=\"3.2\"/>\n",
       "<circle clip-path=\"url(#clip653)\" cx=\"1755.28\" cy=\"809.285\" r=\"14\" fill=\"#e26f46\" fill-rule=\"evenodd\" fill-opacity=\"1\" stroke=\"#000000\" stroke-opacity=\"1\" stroke-width=\"3.2\"/>\n",
       "<circle clip-path=\"url(#clip653)\" cx=\"1765.81\" cy=\"1185.58\" r=\"14\" fill=\"#e26f46\" fill-rule=\"evenodd\" fill-opacity=\"1\" stroke=\"#000000\" stroke-opacity=\"1\" stroke-width=\"3.2\"/>\n",
       "<circle clip-path=\"url(#clip653)\" cx=\"1788.39\" cy=\"1021.22\" r=\"14\" fill=\"#e26f46\" fill-rule=\"evenodd\" fill-opacity=\"1\" stroke=\"#000000\" stroke-opacity=\"1\" stroke-width=\"3.2\"/>\n",
       "<circle clip-path=\"url(#clip653)\" cx=\"1687.36\" cy=\"866.684\" r=\"14\" fill=\"#e26f46\" fill-rule=\"evenodd\" fill-opacity=\"1\" stroke=\"#000000\" stroke-opacity=\"1\" stroke-width=\"3.2\"/>\n",
       "<circle clip-path=\"url(#clip653)\" cx=\"1752.47\" cy=\"998.597\" r=\"14\" fill=\"#e26f46\" fill-rule=\"evenodd\" fill-opacity=\"1\" stroke=\"#000000\" stroke-opacity=\"1\" stroke-width=\"3.2\"/>\n",
       "<circle clip-path=\"url(#clip653)\" cx=\"1845.85\" cy=\"875.511\" r=\"14\" fill=\"#e26f46\" fill-rule=\"evenodd\" fill-opacity=\"1\" stroke=\"#000000\" stroke-opacity=\"1\" stroke-width=\"3.2\"/>\n",
       "<circle clip-path=\"url(#clip653)\" cx=\"1443.88\" cy=\"536.168\" r=\"14\" fill=\"#3da44d\" fill-rule=\"evenodd\" fill-opacity=\"1\" stroke=\"#000000\" stroke-opacity=\"1\" stroke-width=\"3.2\"/>\n",
       "<circle clip-path=\"url(#clip653)\" cx=\"1568.02\" cy=\"767.071\" r=\"14\" fill=\"#3da44d\" fill-rule=\"evenodd\" fill-opacity=\"1\" stroke=\"#000000\" stroke-opacity=\"1\" stroke-width=\"3.2\"/>\n",
       "<circle clip-path=\"url(#clip653)\" cx=\"1450\" cy=\"379.572\" r=\"14\" fill=\"#3da44d\" fill-rule=\"evenodd\" fill-opacity=\"1\" stroke=\"#000000\" stroke-opacity=\"1\" stroke-width=\"3.2\"/>\n",
       "<circle clip-path=\"url(#clip653)\" cx=\"1583.92\" cy=\"708.085\" r=\"14\" fill=\"#3da44d\" fill-rule=\"evenodd\" fill-opacity=\"1\" stroke=\"#000000\" stroke-opacity=\"1\" stroke-width=\"3.2\"/>\n",
       "<circle clip-path=\"url(#clip653)\" cx=\"1523.06\" cy=\"466.728\" r=\"14\" fill=\"#3da44d\" fill-rule=\"evenodd\" fill-opacity=\"1\" stroke=\"#000000\" stroke-opacity=\"1\" stroke-width=\"3.2\"/>\n",
       "<circle clip-path=\"url(#clip653)\" cx=\"1317.16\" cy=\"104.257\" r=\"14\" fill=\"#3da44d\" fill-rule=\"evenodd\" fill-opacity=\"1\" stroke=\"#000000\" stroke-opacity=\"1\" stroke-width=\"3.2\"/>\n",
       "<circle clip-path=\"url(#clip653)\" cx=\"1410.32\" cy=\"657.895\" r=\"14\" fill=\"#3da44d\" fill-rule=\"evenodd\" fill-opacity=\"1\" stroke=\"#000000\" stroke-opacity=\"1\" stroke-width=\"3.2\"/>\n",
       "<circle clip-path=\"url(#clip653)\" cx=\"1472.43\" cy=\"751.649\" r=\"14\" fill=\"#3da44d\" fill-rule=\"evenodd\" fill-opacity=\"1\" stroke=\"#000000\" stroke-opacity=\"1\" stroke-width=\"3.2\"/>\n",
       "<circle clip-path=\"url(#clip653)\" cx=\"1447.51\" cy=\"771.666\" r=\"14\" fill=\"#3da44d\" fill-rule=\"evenodd\" fill-opacity=\"1\" stroke=\"#000000\" stroke-opacity=\"1\" stroke-width=\"3.2\"/>\n",
       "<circle clip-path=\"url(#clip653)\" cx=\"1416.13\" cy=\"506.742\" r=\"14\" fill=\"#3da44d\" fill-rule=\"evenodd\" fill-opacity=\"1\" stroke=\"#000000\" stroke-opacity=\"1\" stroke-width=\"3.2\"/>\n",
       "<circle clip-path=\"url(#clip653)\" cx=\"1577.3\" cy=\"464.956\" r=\"14\" fill=\"#3da44d\" fill-rule=\"evenodd\" fill-opacity=\"1\" stroke=\"#000000\" stroke-opacity=\"1\" stroke-width=\"3.2\"/>\n",
       "<circle clip-path=\"url(#clip653)\" cx=\"1483.77\" cy=\"551.674\" r=\"14\" fill=\"#3da44d\" fill-rule=\"evenodd\" fill-opacity=\"1\" stroke=\"#000000\" stroke-opacity=\"1\" stroke-width=\"3.2\"/>\n",
       "<circle clip-path=\"url(#clip653)\" cx=\"1415.25\" cy=\"795.025\" r=\"14\" fill=\"#3da44d\" fill-rule=\"evenodd\" fill-opacity=\"1\" stroke=\"#000000\" stroke-opacity=\"1\" stroke-width=\"3.2\"/>\n",
       "<circle clip-path=\"url(#clip653)\" cx=\"1329.8\" cy=\"378.723\" r=\"14\" fill=\"#3da44d\" fill-rule=\"evenodd\" fill-opacity=\"1\" stroke=\"#000000\" stroke-opacity=\"1\" stroke-width=\"3.2\"/>\n",
       "<circle clip-path=\"url(#clip653)\" cx=\"1366.97\" cy=\"253.741\" r=\"14\" fill=\"#3da44d\" fill-rule=\"evenodd\" fill-opacity=\"1\" stroke=\"#000000\" stroke-opacity=\"1\" stroke-width=\"3.2\"/>\n",
       "</svg>\n"
      ]
     },
     "metadata": {},
     "execution_count": 19
    }
   ],
   "cell_type": "code",
   "source": [
    "p1 = scatter(X_test_pca[1,:], X_test_pca[2,:], group=y_hat_1, title=@sprintf \"FuzzyART rho = %.1f\" rho_1)\n",
    "p2 = scatter(X_test_pca[1,:], X_test_pca[2,:], group=y_hat_2, title=@sprintf \"FuzzyART rho = %.1f\" rho_2)\n",
    "plot(p1, p2, layout=(1, 2), legend = false, xtickfontsize=6, xguidefontsize=8, titlefont=font(8))"
   ],
   "metadata": {},
   "execution_count": 19
  },
  {
   "cell_type": "markdown",
   "source": [
    "---\n",
    "\n",
    "*This notebook was generated using [Literate.jl](https://github.com/fredrikekre/Literate.jl).*"
   ],
   "metadata": {}
  }
 ],
 "nbformat_minor": 3,
 "metadata": {
  "language_info": {
   "file_extension": ".jl",
   "mimetype": "application/julia",
   "name": "julia",
   "version": "1.4.2"
  },
  "kernelspec": {
   "name": "julia-1.4",
   "display_name": "Julia 1.4.2",
   "language": "julia"
  }
 },
 "nbformat": 4
}
