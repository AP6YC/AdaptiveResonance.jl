{
 "cells": [
  {
   "cell_type": "markdown",
   "source": [
    "## Overview"
   ],
   "metadata": {}
  },
  {
   "cell_type": "markdown",
   "source": [
    "The `AdaptiveResonance.jl` package has several ways of handling options for ART modules.\n",
    "These methods are meant to give maximum flexibility to the user for sharing and interpreting options, which themselves vary between each module."
   ],
   "metadata": {}
  },
  {
   "cell_type": "markdown",
   "source": [
    "!!! note\n",
    "    For more info on options in ART modules, see the guide in the docs on ART options."
   ],
   "metadata": {}
  },
  {
   "cell_type": "markdown",
   "source": [
    "## ART Options"
   ],
   "metadata": {}
  },
  {
   "cell_type": "markdown",
   "source": [
    "To get a feel for the ART options system, we will inspect different options and their instantiation methods."
   ],
   "metadata": {}
  },
  {
   "cell_type": "markdown",
   "source": [
    "### Inspection"
   ],
   "metadata": {}
  },
  {
   "cell_type": "markdown",
   "source": [
    "First, we load `AdaptiveResonance`:"
   ],
   "metadata": {}
  },
  {
   "outputs": [],
   "cell_type": "code",
   "source": [
    "using AdaptiveResonance"
   ],
   "metadata": {},
   "execution_count": 1
  },
  {
   "cell_type": "markdown",
   "source": [
    "Every ART module has a default constructor, which can be instantiated in the usual way:"
   ],
   "metadata": {}
  },
  {
   "outputs": [
    {
     "output_type": "execute_result",
     "data": {
      "text/plain": "FuzzyART"
     },
     "metadata": {},
     "execution_count": 2
    }
   ],
   "cell_type": "code",
   "source": [
    "# Create a FuzzyART module with default options\n",
    "my_fuzzyart = FuzzyART()\n",
    "typeof(my_fuzzyart)"
   ],
   "metadata": {},
   "execution_count": 2
  },
  {
   "cell_type": "markdown",
   "source": [
    "Within every ART module is a [Parameters.jl](https://github.com/mauro3/Parameters.jl) struct named `opts` containing the options for the module"
   ],
   "metadata": {}
  },
  {
   "outputs": [
    {
     "output_type": "execute_result",
     "data": {
      "text/plain": "opts_FuzzyART\n  rho: Float64 0.6\n  alpha: Float64 0.001\n  beta: Float64 1.0\n  gamma: Float64 3.0\n  gamma_ref: Float64 1.0\n  display: Bool true\n  max_epochs: Int64 1\n  gamma_normalization: Bool false\n"
     },
     "metadata": {},
     "execution_count": 3
    }
   ],
   "cell_type": "code",
   "source": [
    "# Check the FuzzyART options\n",
    "my_fuzzyart.opts"
   ],
   "metadata": {},
   "execution_count": 3
  },
  {
   "cell_type": "markdown",
   "source": [
    "Note that the options here have the type `opts_FuzzyART`.\n",
    "This nomenclature is used throughout the module to indicate an options type associated with an ART module.\n",
    "For example, the options for a DDVFA module are `opts_DDVFA`:"
   ],
   "metadata": {}
  },
  {
   "outputs": [
    {
     "output_type": "execute_result",
     "data": {
      "text/plain": "opts_DDVFA"
     },
     "metadata": {},
     "execution_count": 4
    }
   ],
   "cell_type": "code",
   "source": [
    "# Create a DDVFA module and check the type of the options\n",
    "my_ddvfa = DDVFA()\n",
    "typeof(my_ddvfa.opts)"
   ],
   "metadata": {},
   "execution_count": 4
  },
  {
   "cell_type": "markdown",
   "source": [
    "In fact, we can create an instance of these options with a default constructor:"
   ],
   "metadata": {}
  },
  {
   "outputs": [
    {
     "output_type": "execute_result",
     "data": {
      "text/plain": "opts_FuzzyART\n  rho: Float64 0.6\n  alpha: Float64 0.001\n  beta: Float64 1.0\n  gamma: Float64 3.0\n  gamma_ref: Float64 1.0\n  display: Bool true\n  max_epochs: Int64 1\n  gamma_normalization: Bool false\n"
     },
     "metadata": {},
     "execution_count": 5
    }
   ],
   "cell_type": "code",
   "source": [
    "# Create a separate options struct\n",
    "my_fuzzyart_opts = opts_FuzzyART()"
   ],
   "metadata": {},
   "execution_count": 5
  },
  {
   "cell_type": "markdown",
   "source": [
    "In addition to the default constructor, we can construct ART modules by instantiating these options and passing them to the module during construction:"
   ],
   "metadata": {}
  },
  {
   "outputs": [
    {
     "output_type": "execute_result",
     "data": {
      "text/plain": "FuzzyART(opts_FuzzyART\n  rho: Float64 0.6\n  alpha: Float64 0.001\n  beta: Float64 1.0\n  gamma: Float64 3.0\n  gamma_ref: Float64 1.0\n  display: Bool true\n  max_epochs: Int64 1\n  gamma_normalization: Bool false\n, DataConfig(false, Float64[], Float64[], 0, 0), 0.0, Int64[], Float64[], Float64[], Array{Float64}(undef,0,0), Int64[], 0, 0)"
     },
     "metadata": {},
     "execution_count": 6
    }
   ],
   "cell_type": "code",
   "source": [
    "# Instantiate an ART module by passing our options\n",
    "my_fuzzyart = FuzzyART(my_fuzzyart_opts)\n",
    "my_other_fuzzyart = FuzzyART(my_fuzzyart_opts)"
   ],
   "metadata": {},
   "execution_count": 6
  },
  {
   "cell_type": "markdown",
   "source": [
    "### Specifying Options"
   ],
   "metadata": {}
  },
  {
   "cell_type": "markdown",
   "source": [
    "Now to the good stuff: because of the behavior of the `Parameters.jl` type, each option has a default value that we can modify during instantiation with keyword arguments:"
   ],
   "metadata": {}
  },
  {
   "outputs": [
    {
     "output_type": "execute_result",
     "data": {
      "text/plain": "FuzzyART(opts_FuzzyART\n  rho: Float64 0.6\n  alpha: Float64 0.001\n  beta: Float64 1.0\n  gamma: Float64 3.0\n  gamma_ref: Float64 1.0\n  display: Bool true\n  max_epochs: Int64 1\n  gamma_normalization: Bool true\n, DataConfig(false, Float64[], Float64[], 0, 0), 0.0, Int64[], Float64[], Float64[], Array{Float64}(undef,0,0), Int64[], 0, 0)"
     },
     "metadata": {},
     "execution_count": 7
    }
   ],
   "cell_type": "code",
   "source": [
    "# Change some of the default FuzzyART options\n",
    "my_fuzzyart_opts = opts_FuzzyART(\n",
    "    rho=0.6,\n",
    "    gamma_normalization=true\n",
    ")\n",
    "my_fuzzyart = FuzzyART(my_fuzzyart_opts)"
   ],
   "metadata": {},
   "execution_count": 7
  },
  {
   "cell_type": "markdown",
   "source": [
    "As some syntactic sugar, we can pass these keyword arguments directly to the module during instantiation if we have no need to share option structs:"
   ],
   "metadata": {}
  },
  {
   "outputs": [
    {
     "output_type": "execute_result",
     "data": {
      "text/plain": "FuzzyART(opts_FuzzyART\n  rho: Float64 0.6\n  alpha: Float64 0.001\n  beta: Float64 1.0\n  gamma: Float64 3.0\n  gamma_ref: Float64 1.0\n  display: Bool true\n  max_epochs: Int64 1\n  gamma_normalization: Bool true\n, DataConfig(false, Float64[], Float64[], 0, 0), 0.0, Int64[], Float64[], Float64[], Array{Float64}(undef,0,0), Int64[], 0, 0)"
     },
     "metadata": {},
     "execution_count": 8
    }
   ],
   "cell_type": "code",
   "source": [
    "# Pass these keyword arguments to the module directly\n",
    "my_fuzzyart = FuzzyART(\n",
    "    rho=0.6,\n",
    "    gamma_normalization=true\n",
    ")"
   ],
   "metadata": {},
   "execution_count": 8
  },
  {
   "cell_type": "markdown",
   "source": [
    "Before training, we can also instantiate the model and alter the options afterward:"
   ],
   "metadata": {}
  },
  {
   "outputs": [
    {
     "output_type": "execute_result",
     "data": {
      "text/plain": "0.6"
     },
     "metadata": {},
     "execution_count": 9
    }
   ],
   "cell_type": "code",
   "source": [
    "my_fuzzyart = FuzzyART()\n",
    "my_fuzzyart.opts.rho=0.6"
   ],
   "metadata": {},
   "execution_count": 9
  },
  {
   "cell_type": "markdown",
   "source": [
    "!!! note\n",
    "    All ART modules are designed to use this options struct internally when the parameters are needed.\n",
    "    It is possible to change these parameters in the middle of training and evaluation, but some algorithmic instability may occur."
   ],
   "metadata": {}
  },
  {
   "cell_type": "markdown",
   "source": [
    "## Comparison"
   ],
   "metadata": {}
  },
  {
   "cell_type": "markdown",
   "source": [
    "To see the effect that changing these parameters has on the modules, we can train and test them side-by-side."
   ],
   "metadata": {}
  },
  {
   "cell_type": "markdown",
   "source": [
    "We begin with importing AdaptiveResonance for the ART modules and MLDatasets for some data utilities."
   ],
   "metadata": {}
  },
  {
   "outputs": [],
   "cell_type": "code",
   "source": [
    "using MLDatasets        # Iris dataset\n",
    "using MLDataUtils       # Shuffling and splitting\n",
    "using Printf            # Formatted number printing\n",
    "using MultivariateStats # Principal component analysis (PCA)\n",
    "using Plots             # Plotting"
   ],
   "metadata": {},
   "execution_count": 10
  },
  {
   "cell_type": "markdown",
   "source": [
    "We will download the Iris dataset for its small size and benchmark use for clustering algorithms."
   ],
   "metadata": {}
  },
  {
   "outputs": [
    {
     "output_type": "execute_result",
     "data": {
      "text/plain": "([5.1 4.9 … 6.2 5.9; 3.5 3.0 … 3.4 3.0; 1.4 1.4 … 5.4 5.1; 0.2 0.2 … 2.3 1.8], [\"Iris-setosa\", \"Iris-setosa\", \"Iris-setosa\", \"Iris-setosa\", \"Iris-setosa\", \"Iris-setosa\", \"Iris-setosa\", \"Iris-setosa\", \"Iris-setosa\", \"Iris-setosa\"  …  \"Iris-virginica\", \"Iris-virginica\", \"Iris-virginica\", \"Iris-virginica\", \"Iris-virginica\", \"Iris-virginica\", \"Iris-virginica\", \"Iris-virginica\", \"Iris-virginica\", \"Iris-virginica\"])"
     },
     "metadata": {},
     "execution_count": 11
    }
   ],
   "cell_type": "code",
   "source": [
    "Iris.download(i_accept_the_terms_of_use=true)\n",
    "features, labels = Iris.features(), Iris.labels()"
   ],
   "metadata": {},
   "execution_count": 11
  },
  {
   "cell_type": "markdown",
   "source": [
    "Because the MLDatasets package gives us Iris labels as strings, we will use the `MLDataUtils.convertlabel` method with the `MLLabelUtils.LabelEnc.Indices` type to get a list of integers representing each class:"
   ],
   "metadata": {}
  },
  {
   "outputs": [
    {
     "output_type": "execute_result",
     "data": {
      "text/plain": "3-element Array{Int64,1}:\n 1\n 2\n 3"
     },
     "metadata": {},
     "execution_count": 12
    }
   ],
   "cell_type": "code",
   "source": [
    "labels = convertlabel(LabelEnc.Indices{Int}, labels)\n",
    "unique(labels)"
   ],
   "metadata": {},
   "execution_count": 12
  },
  {
   "cell_type": "markdown",
   "source": [
    "Next, we will create a train/test split with the `MLDataUtils.stratifiedobs` utility:"
   ],
   "metadata": {}
  },
  {
   "outputs": [
    {
     "output_type": "execute_result",
     "data": {
      "text/plain": "(([6.1 5.0 … 5.8 6.2; 3.0 3.3 … 4.0 2.2; 4.9 1.4 … 1.2 4.5; 1.8 0.2 … 0.2 1.5], [3, 1, 3, 2, 2, 1, 2, 1, 1, 2  …  1, 2, 2, 1, 3, 3, 1, 1, 1, 2]), ([5.6 6.9 … 6.8 6.3; 2.9 3.2 … 3.0 2.8; 3.6 5.7 … 5.5 5.1; 1.3 2.3 … 2.1 1.5], [2, 3, 3, 1, 1, 1, 1, 1, 1, 3  …  3, 2, 2, 1, 3, 3, 2, 3, 3, 3]))"
     },
     "metadata": {},
     "execution_count": 13
    }
   ],
   "cell_type": "code",
   "source": [
    "(X_train, y_train), (X_test, y_test) = stratifiedobs((features, labels))"
   ],
   "metadata": {},
   "execution_count": 13
  },
  {
   "cell_type": "markdown",
   "source": [
    "Now we can create several FuzzyART modules with different options."
   ],
   "metadata": {}
  },
  {
   "outputs": [
    {
     "output_type": "execute_result",
     "data": {
      "text/plain": "FuzzyART(opts_FuzzyART\n  rho: Float64 0.7\n  alpha: Float64 0.001\n  beta: Float64 1.0\n  gamma: Float64 3.0\n  gamma_ref: Float64 1.0\n  display: Bool false\n  max_epochs: Int64 1\n  gamma_normalization: Bool false\n, DataConfig(false, Float64[], Float64[], 0, 0), 0.0, Int64[], Float64[], Float64[], Array{Float64}(undef,0,0), Int64[], 0, 0)"
     },
     "metadata": {},
     "execution_count": 14
    }
   ],
   "cell_type": "code",
   "source": [
    "# Create two FuzzyARTs with different vigilance values and suppressing logging messages\n",
    "rho_1 = 0.5\n",
    "rho_2 = 0.7\n",
    "my_fuzzyart_1 = FuzzyART(rho=rho_1, display=false)\n",
    "my_fuzzyart_2 = FuzzyART(rho=rho_2, display=false)"
   ],
   "metadata": {},
   "execution_count": 14
  },
  {
   "cell_type": "markdown",
   "source": [
    "Here, we will train these FuzzyART modules in simple supervised mode by passing the supervised labels as a keyword argument:"
   ],
   "metadata": {}
  },
  {
   "outputs": [
    {
     "output_type": "execute_result",
     "data": {
      "text/plain": "105-element Array{Int64,1}:\n 3\n 1\n 3\n 2\n 2\n 1\n 2\n 1\n 1\n 2\n ⋮\n 2\n 2\n 1\n 3\n 3\n 1\n 1\n 1\n 2"
     },
     "metadata": {},
     "execution_count": 15
    }
   ],
   "cell_type": "code",
   "source": [
    "# Train in simple supervised mode by passing the labels as a keyword argument.\n",
    "y_hat_train_1 = train!(my_fuzzyart_1, X_train, y=y_train)\n",
    "y_hat_train_2 = train!(my_fuzzyart_2, X_train, y=y_train)"
   ],
   "metadata": {},
   "execution_count": 15
  },
  {
   "cell_type": "markdown",
   "source": [
    "We then classify the test data with both modules:"
   ],
   "metadata": {}
  },
  {
   "outputs": [
    {
     "name": "stdout",
     "output_type": "stream",
     "text": [
      "FuzzyART 1 labels: (45,) Array{Int64,1}\n",
      "FuzzyART 2 labels: (45,) Array{Int64,1}\n",
      "Testing performance rho=0.5: 0.9333\n",
      "Testing performance rho=0.7: 0.9111\n"
     ]
    }
   ],
   "cell_type": "code",
   "source": [
    "y_hat_1 = AdaptiveResonance.classify(my_fuzzyart_1, X_test, get_bmu=true)\n",
    "y_hat_2 = AdaptiveResonance.classify(my_fuzzyart_2, X_test, get_bmu=true)\n",
    "\n",
    "# Check the shape and type of the output labels\n",
    "println(\"FuzzyART 1 labels: \",  size(y_hat_1), \" \", typeof(y_hat_1))\n",
    "println(\"FuzzyART 2 labels: \",  size(y_hat_2), \" \", typeof(y_hat_2))\n",
    "\n",
    "# Calculate the performance on the test data\n",
    "perf_test_1 = performance(y_hat_1, y_test)\n",
    "perf_test_2 = performance(y_hat_2, y_test)\n",
    "\n",
    "# Format each performance number for comparison\n",
    "@printf \"Testing performance rho=%.1f: %.4f\\n\" rho_1 perf_test_1\n",
    "@printf \"Testing performance rho=%.1f: %.4f\\n\" rho_2 perf_test_2"
   ],
   "metadata": {},
   "execution_count": 16
  },
  {
   "cell_type": "markdown",
   "source": [
    "In addition to having different performances, we can see that there is a subsequent trade-off in the number of categories used:"
   ],
   "metadata": {}
  },
  {
   "outputs": [
    {
     "name": "stdout",
     "output_type": "stream",
     "text": [
      "Number of categories rho=0.5: 9\n",
      "Number of categories rho=0.7: 12\n"
     ]
    }
   ],
   "cell_type": "code",
   "source": [
    "# Print the number of categories for each vigilance parameter\n",
    "@printf \"Number of categories rho=%.1f: %i\\n\" rho_1 my_fuzzyart_1.n_categories\n",
    "@printf \"Number of categories rho=%.1f: %i\\n\" rho_2 my_fuzzyart_2.n_categories"
   ],
   "metadata": {},
   "execution_count": 17
  },
  {
   "cell_type": "markdown",
   "source": [
    "The variation between vigilance parameter, number of categories created during learning, and testing performance/generalization is a central theme in ART-based algorithms."
   ],
   "metadata": {}
  },
  {
   "cell_type": "markdown",
   "source": [
    "## Visualization"
   ],
   "metadata": {}
  },
  {
   "cell_type": "markdown",
   "source": [
    "Now, to visualize how the two models differ in how they partition the data, we can use principal component analysis (PCA) to compress to two plotting dimensions.\n",
    "PCA is a method to represent a dataset in a different number of dimensions while preserving the relative separation between datapoints.\n",
    "Though most datasets are not able to be effectively transformed down to two dimensions, this technique is useful to get a general sense of how well separated the classes are and how well your algorithm classifies them."
   ],
   "metadata": {}
  },
  {
   "outputs": [
    {
     "name": "stdout",
     "output_type": "stream",
     "text": [
      "┌ Warning: `transform(f, x)` is deprecated, use `predict(f, x)` instead.\n",
      "│   caller = top-level scope at options.ipynb:5\n",
      "└ @ Core ~/work/AdaptiveResonance.jl/AdaptiveResonance.jl/docs/src/examples/adaptive_resonance/options.ipynb:5\n"
     ]
    },
    {
     "output_type": "execute_result",
     "data": {
      "text/plain": "2×45 Array{Float64,2}:\n  0.174864  -2.42817   -1.38767   2.72859   …  -1.41407   -2.16538  -1.4431\n -0.251816   0.376782  -0.204031  0.333925     -0.574925   0.21528  -0.143801"
     },
     "metadata": {},
     "execution_count": 18
    }
   ],
   "cell_type": "code",
   "source": [
    "# Train a PCA model to visually separate the features in two dimensions.\n",
    "M = fit(PCA, features; maxoutdim=2)\n",
    "\n",
    "# Apply the PCA model to the testing set\n",
    "X_test_pca = transform(M, X_test)"
   ],
   "metadata": {},
   "execution_count": 18
  },
  {
   "cell_type": "markdown",
   "source": [
    "We can now plot the PCA'ed test set and label them according to the two FuzzyART's"
   ],
   "metadata": {}
  },
  {
   "outputs": [
    {
     "output_type": "execute_result",
     "data": {
      "text/plain": "Plot{Plots.GRBackend() n=6}",
      "image/png": "[encoded data removed]",
      "text/html": [
       "<?xml version=\"1.0\" encoding=\"utf-8\"?>\n",
       "<svg xmlns=\"http://www.w3.org/2000/svg\" xmlns:xlink=\"http://www.w3.org/1999/xlink\" width=\"600\" height=\"400\" viewBox=\"0 0 2400 1600\">\n",
       "<defs>\n",
       "  <clipPath id=\"clip460\">\n",
       "    <rect x=\"0\" y=\"0\" width=\"2400\" height=\"1600\"/>\n",
       "  </clipPath>\n",
       "</defs>\n",
       "<path clip-path=\"url(#clip460)\" d=\"\n",
       "M0 1600 L2400 1600 L2400 0 L0 0  Z\n",
       "  \" fill=\"#ffffff\" fill-rule=\"evenodd\" fill-opacity=\"1\"/>\n",
       "<defs>\n",
       "  <clipPath id=\"clip461\">\n",
       "    <rect x=\"480\" y=\"0\" width=\"1681\" height=\"1600\"/>\n",
       "  </clipPath>\n",
       "</defs>\n",
       "<path clip-path=\"url(#clip460)\" d=\"\n",
       "M86.9921 1521.01 L1152.76 1521.01 L1152.76 62.9921 L86.9921 62.9921  Z\n",
       "  \" fill=\"#ffffff\" fill-rule=\"evenodd\" fill-opacity=\"1\"/>\n",
       "<defs>\n",
       "  <clipPath id=\"clip462\">\n",
       "    <rect x=\"86\" y=\"62\" width=\"1067\" height=\"1459\"/>\n",
       "  </clipPath>\n",
       "</defs>\n",
       "<polyline clip-path=\"url(#clip462)\" style=\"stroke:#000000; stroke-width:2; stroke-opacity:0.1; fill:none\" points=\"\n",
       "  237.932,1521.01 237.932,62.9921 \n",
       "  \"/>\n",
       "<polyline clip-path=\"url(#clip462)\" style=\"stroke:#000000; stroke-width:2; stroke-opacity:0.1; fill:none\" points=\"\n",
       "  389.912,1521.01 389.912,62.9921 \n",
       "  \"/>\n",
       "<polyline clip-path=\"url(#clip462)\" style=\"stroke:#000000; stroke-width:2; stroke-opacity:0.1; fill:none\" points=\"\n",
       "  541.893,1521.01 541.893,62.9921 \n",
       "  \"/>\n",
       "<polyline clip-path=\"url(#clip462)\" style=\"stroke:#000000; stroke-width:2; stroke-opacity:0.1; fill:none\" points=\"\n",
       "  693.873,1521.01 693.873,62.9921 \n",
       "  \"/>\n",
       "<polyline clip-path=\"url(#clip462)\" style=\"stroke:#000000; stroke-width:2; stroke-opacity:0.1; fill:none\" points=\"\n",
       "  845.853,1521.01 845.853,62.9921 \n",
       "  \"/>\n",
       "<polyline clip-path=\"url(#clip462)\" style=\"stroke:#000000; stroke-width:2; stroke-opacity:0.1; fill:none\" points=\"\n",
       "  997.834,1521.01 997.834,62.9921 \n",
       "  \"/>\n",
       "<polyline clip-path=\"url(#clip462)\" style=\"stroke:#000000; stroke-width:2; stroke-opacity:0.1; fill:none\" points=\"\n",
       "  1149.81,1521.01 1149.81,62.9921 \n",
       "  \"/>\n",
       "<polyline clip-path=\"url(#clip460)\" style=\"stroke:#000000; stroke-width:4; stroke-opacity:1; fill:none\" points=\"\n",
       "  86.9921,1521.01 1152.76,1521.01 \n",
       "  \"/>\n",
       "<polyline clip-path=\"url(#clip460)\" style=\"stroke:#000000; stroke-width:4; stroke-opacity:1; fill:none\" points=\"\n",
       "  237.932,1521.01 237.932,1503.51 \n",
       "  \"/>\n",
       "<polyline clip-path=\"url(#clip460)\" style=\"stroke:#000000; stroke-width:4; stroke-opacity:1; fill:none\" points=\"\n",
       "  389.912,1521.01 389.912,1503.51 \n",
       "  \"/>\n",
       "<polyline clip-path=\"url(#clip460)\" style=\"stroke:#000000; stroke-width:4; stroke-opacity:1; fill:none\" points=\"\n",
       "  541.893,1521.01 541.893,1503.51 \n",
       "  \"/>\n",
       "<polyline clip-path=\"url(#clip460)\" style=\"stroke:#000000; stroke-width:4; stroke-opacity:1; fill:none\" points=\"\n",
       "  693.873,1521.01 693.873,1503.51 \n",
       "  \"/>\n",
       "<polyline clip-path=\"url(#clip460)\" style=\"stroke:#000000; stroke-width:4; stroke-opacity:1; fill:none\" points=\"\n",
       "  845.853,1521.01 845.853,1503.51 \n",
       "  \"/>\n",
       "<polyline clip-path=\"url(#clip460)\" style=\"stroke:#000000; stroke-width:4; stroke-opacity:1; fill:none\" points=\"\n",
       "  997.834,1521.01 997.834,1503.51 \n",
       "  \"/>\n",
       "<polyline clip-path=\"url(#clip460)\" style=\"stroke:#000000; stroke-width:4; stroke-opacity:1; fill:none\" points=\"\n",
       "  1149.81,1521.01 1149.81,1503.51 \n",
       "  \"/>\n",
       "<path clip-path=\"url(#clip460)\" d=\"M 0 0 M216.916 1558.69 L239.173 1558.69 L239.173 1561.64 L216.916 1561.64 L216.916 1558.69 Z\" fill=\"#000000\" fill-rule=\"evenodd\" fill-opacity=\"1\" /><path clip-path=\"url(#clip460)\" d=\"M 0 0 M253.6 1557.34 Q256.118 1557.87 257.524 1559.58 Q258.948 1561.28 258.948 1563.78 Q258.948 1567.61 256.309 1569.71 Q253.67 1571.82 248.809 1571.82 Q247.177 1571.82 245.441 1571.49 Q243.722 1571.17 241.882 1570.53 L241.882 1567.15 Q243.34 1568 245.076 1568.43 Q246.812 1568.86 248.705 1568.86 Q252.003 1568.86 253.722 1567.56 Q255.458 1566.26 255.458 1563.78 Q255.458 1561.49 253.843 1560.2 Q252.246 1558.9 249.382 1558.9 L246.361 1558.9 L246.361 1556.02 L249.52 1556.02 Q252.107 1556.02 253.479 1554.99 Q254.85 1553.95 254.85 1552.01 Q254.85 1550.01 253.427 1548.95 Q252.02 1547.87 249.382 1547.87 Q247.941 1547.87 246.291 1548.19 Q244.642 1548.5 242.663 1549.16 L242.663 1546.03 Q244.659 1545.48 246.396 1545.2 Q248.149 1544.92 249.694 1544.92 Q253.687 1544.92 256.014 1546.75 Q258.34 1548.55 258.34 1551.64 Q258.34 1553.79 257.107 1555.29 Q255.875 1556.76 253.6 1557.34 Z\" fill=\"#000000\" fill-rule=\"evenodd\" fill-opacity=\"1\" /><path clip-path=\"url(#clip460)\" d=\"M 0 0 M369.253 1558.69 L391.51 1558.69 L391.51 1561.64 L369.253 1561.64 L369.253 1558.69 Z\" fill=\"#000000\" fill-rule=\"evenodd\" fill-opacity=\"1\" /><path clip-path=\"url(#clip460)\" d=\"M 0 0 M398.332 1568.36 L410.572 1568.36 L410.572 1571.31 L394.114 1571.31 L394.114 1568.36 Q396.11 1566.29 399.548 1562.82 Q403.003 1559.33 403.888 1558.33 Q405.572 1556.43 406.232 1555.13 Q406.909 1553.81 406.909 1552.54 Q406.909 1550.48 405.45 1549.18 Q404.009 1547.87 401.683 1547.87 Q400.034 1547.87 398.194 1548.45 Q396.371 1549.02 394.287 1550.18 L394.287 1546.64 Q396.405 1545.79 398.246 1545.36 Q400.086 1544.92 401.614 1544.92 Q405.641 1544.92 408.037 1546.94 Q410.433 1548.95 410.433 1552.32 Q410.433 1553.92 409.825 1555.36 Q409.235 1556.78 407.655 1558.73 Q407.221 1559.23 404.895 1561.64 Q402.569 1564.04 398.332 1568.36 Z\" fill=\"#000000\" fill-rule=\"evenodd\" fill-opacity=\"1\" /><path clip-path=\"url(#clip460)\" d=\"M 0 0 M521.094 1558.69 L543.351 1558.69 L543.351 1561.64 L521.094 1561.64 L521.094 1558.69 Z\" fill=\"#000000\" fill-rule=\"evenodd\" fill-opacity=\"1\" /><path clip-path=\"url(#clip460)\" d=\"M 0 0 M547.761 1568.36 L553.49 1568.36 L553.49 1548.59 L547.257 1549.84 L547.257 1546.64 L553.455 1545.39 L556.962 1545.39 L556.962 1568.36 L562.691 1568.36 L562.691 1571.31 L547.761 1571.31 L547.761 1568.36 Z\" fill=\"#000000\" fill-rule=\"evenodd\" fill-opacity=\"1\" /><path clip-path=\"url(#clip460)\" d=\"M 0 0 M693.873 1547.7 Q691.165 1547.7 689.793 1550.37 Q688.439 1553.03 688.439 1558.38 Q688.439 1563.71 689.793 1566.38 Q691.165 1569.04 693.873 1569.04 Q696.599 1569.04 697.953 1566.38 Q699.324 1563.71 699.324 1558.38 Q699.324 1553.03 697.953 1550.37 Q696.599 1547.7 693.873 1547.7 M693.873 1544.92 Q698.231 1544.92 700.522 1548.38 Q702.831 1551.82 702.831 1558.38 Q702.831 1564.92 700.522 1568.38 Q698.231 1571.82 693.873 1571.82 Q689.515 1571.82 687.206 1568.38 Q684.915 1564.92 684.915 1558.38 Q684.915 1551.82 687.206 1548.38 Q689.515 1544.92 693.873 1544.92 Z\" fill=\"#000000\" fill-rule=\"evenodd\" fill-opacity=\"1\" /><path clip-path=\"url(#clip460)\" d=\"M 0 0 M838.64 1568.36 L844.369 1568.36 L844.369 1548.59 L838.136 1549.84 L838.136 1546.64 L844.334 1545.39 L847.841 1545.39 L847.841 1568.36 L853.57 1568.36 L853.57 1571.31 L838.64 1571.31 L838.64 1568.36 Z\" fill=\"#000000\" fill-rule=\"evenodd\" fill-opacity=\"1\" /><path clip-path=\"url(#clip460)\" d=\"M 0 0 M993.823 1568.36 L1006.06 1568.36 L1006.06 1571.31 L989.604 1571.31 L989.604 1568.36 Q991.601 1566.29 995.038 1562.82 Q998.493 1559.33 999.379 1558.33 Q1001.06 1556.43 1001.72 1555.13 Q1002.4 1553.81 1002.4 1552.54 Q1002.4 1550.48 1000.94 1549.18 Q999.5 1547.87 997.174 1547.87 Q995.525 1547.87 993.684 1548.45 Q991.861 1549.02 989.778 1550.18 L989.778 1546.64 Q991.896 1545.79 993.736 1545.36 Q995.577 1544.92 997.104 1544.92 Q1001.13 1544.92 1003.53 1546.94 Q1005.92 1548.95 1005.92 1552.32 Q1005.92 1553.92 1005.32 1555.36 Q1004.73 1556.78 1003.15 1558.73 Q1002.71 1559.23 1000.39 1561.64 Q998.059 1564.04 993.823 1568.36 Z\" fill=\"#000000\" fill-rule=\"evenodd\" fill-opacity=\"1\" /><path clip-path=\"url(#clip460)\" d=\"M 0 0 M1153 1557.34 Q1155.52 1557.87 1156.92 1559.58 Q1158.35 1561.28 1158.35 1563.78 Q1158.35 1567.61 1155.71 1569.71 Q1153.07 1571.82 1148.21 1571.82 Q1146.58 1571.82 1144.84 1571.49 Q1143.12 1571.17 1141.28 1570.53 L1141.28 1567.15 Q1142.74 1568 1144.48 1568.43 Q1146.21 1568.86 1148.1 1568.86 Q1151.4 1568.86 1153.12 1567.56 Q1154.86 1566.26 1154.86 1563.78 Q1154.86 1561.49 1153.24 1560.2 Q1151.65 1558.9 1148.78 1558.9 L1145.76 1558.9 L1145.76 1556.02 L1148.92 1556.02 Q1151.51 1556.02 1152.88 1554.99 Q1154.25 1553.95 1154.25 1552.01 Q1154.25 1550.01 1152.83 1548.95 Q1151.42 1547.87 1148.78 1547.87 Q1147.34 1547.87 1145.69 1548.19 Q1144.04 1548.5 1142.06 1549.16 L1142.06 1546.03 Q1144.06 1545.48 1145.79 1545.2 Q1147.55 1544.92 1149.09 1544.92 Q1153.09 1544.92 1155.41 1546.75 Q1157.74 1548.55 1157.74 1551.64 Q1157.74 1553.79 1156.51 1555.29 Q1155.27 1556.76 1153 1557.34 Z\" fill=\"#000000\" fill-rule=\"evenodd\" fill-opacity=\"1\" /><polyline clip-path=\"url(#clip462)\" style=\"stroke:#000000; stroke-width:2; stroke-opacity:0.1; fill:none\" points=\"\n",
       "  86.9921,1341.26 1152.76,1341.26 \n",
       "  \"/>\n",
       "<polyline clip-path=\"url(#clip462)\" style=\"stroke:#000000; stroke-width:2; stroke-opacity:0.1; fill:none\" points=\"\n",
       "  86.9921,1077.48 1152.76,1077.48 \n",
       "  \"/>\n",
       "<polyline clip-path=\"url(#clip462)\" style=\"stroke:#000000; stroke-width:2; stroke-opacity:0.1; fill:none\" points=\"\n",
       "  86.9921,813.699 1152.76,813.699 \n",
       "  \"/>\n",
       "<polyline clip-path=\"url(#clip462)\" style=\"stroke:#000000; stroke-width:2; stroke-opacity:0.1; fill:none\" points=\"\n",
       "  86.9921,549.918 1152.76,549.918 \n",
       "  \"/>\n",
       "<polyline clip-path=\"url(#clip462)\" style=\"stroke:#000000; stroke-width:2; stroke-opacity:0.1; fill:none\" points=\"\n",
       "  86.9921,286.136 1152.76,286.136 \n",
       "  \"/>\n",
       "<polyline clip-path=\"url(#clip460)\" style=\"stroke:#000000; stroke-width:4; stroke-opacity:1; fill:none\" points=\"\n",
       "  86.9921,1521.01 86.9921,62.9921 \n",
       "  \"/>\n",
       "<polyline clip-path=\"url(#clip460)\" style=\"stroke:#000000; stroke-width:4; stroke-opacity:1; fill:none\" points=\"\n",
       "  86.9921,1341.26 99.7813,1341.26 \n",
       "  \"/>\n",
       "<polyline clip-path=\"url(#clip460)\" style=\"stroke:#000000; stroke-width:4; stroke-opacity:1; fill:none\" points=\"\n",
       "  86.9921,1077.48 99.7813,1077.48 \n",
       "  \"/>\n",
       "<polyline clip-path=\"url(#clip460)\" style=\"stroke:#000000; stroke-width:4; stroke-opacity:1; fill:none\" points=\"\n",
       "  86.9921,813.699 99.7813,813.699 \n",
       "  \"/>\n",
       "<polyline clip-path=\"url(#clip460)\" style=\"stroke:#000000; stroke-width:4; stroke-opacity:1; fill:none\" points=\"\n",
       "  86.9921,549.918 99.7813,549.918 \n",
       "  \"/>\n",
       "<polyline clip-path=\"url(#clip460)\" style=\"stroke:#000000; stroke-width:4; stroke-opacity:1; fill:none\" points=\"\n",
       "  86.9921,286.136 99.7813,286.136 \n",
       "  \"/>\n",
       "<path clip-path=\"url(#clip460)\" d=\"M 0 0 M-41.4379 1341.71 L-11.7622 1341.71 L-11.7622 1345.65 L-41.4379 1345.65 L-41.4379 1341.71 Z\" fill=\"#000000\" fill-rule=\"evenodd\" fill-opacity=\"1\" /><path clip-path=\"url(#clip460)\" d=\"M 0 0 M-5.88257 1354.61 L1.75628 1354.61 L1.75628 1328.24 L-6.55386 1329.91 L-6.55386 1325.65 L1.70998 1323.98 L6.38588 1323.98 L6.38588 1354.61 L14.0247 1354.61 L14.0247 1358.54 L-5.88257 1358.54 L-5.88257 1354.61 Z\" fill=\"#000000\" fill-rule=\"evenodd\" fill-opacity=\"1\" /><path clip-path=\"url(#clip460)\" d=\"M 0 0 M19.0941 1352.66 L23.9784 1352.66 L23.9784 1358.54 L19.0941 1358.54 L19.0941 1352.66 Z\" fill=\"#000000\" fill-rule=\"evenodd\" fill-opacity=\"1\" /><path clip-path=\"url(#clip460)\" d=\"M 0 0 M39.0477 1327.06 Q35.4367 1327.06 33.608 1330.63 Q31.8024 1334.17 31.8024 1341.3 Q31.8024 1348.4 33.608 1351.97 Q35.4367 1355.51 39.0477 1355.51 Q42.682 1355.51 44.4875 1351.97 Q46.3162 1348.4 46.3162 1341.3 Q46.3162 1334.17 44.4875 1330.63 Q42.682 1327.06 39.0477 1327.06 M39.0477 1323.36 Q44.8579 1323.36 47.9134 1327.96 Q50.9921 1332.55 50.9921 1341.3 Q50.9921 1350.02 47.9134 1354.63 Q44.8579 1359.21 39.0477 1359.21 Q33.2376 1359.21 30.1589 1354.63 Q27.1034 1350.02 27.1034 1341.3 Q27.1034 1332.55 30.1589 1327.96 Q33.2376 1323.36 39.0477 1323.36 Z\" fill=\"#000000\" fill-rule=\"evenodd\" fill-opacity=\"1\" /><path clip-path=\"url(#clip460)\" d=\"M 0 0 M-41.6694 1077.93 L-11.9936 1077.93 L-11.9936 1081.87 L-41.6694 1081.87 L-41.6694 1077.93 Z\" fill=\"#000000\" fill-rule=\"evenodd\" fill-opacity=\"1\" /><path clip-path=\"url(#clip460)\" d=\"M 0 0 M3.07572 1063.28 Q-0.535376 1063.28 -2.36407 1066.84 Q-4.16962 1070.39 -4.16962 1077.52 Q-4.16962 1084.62 -2.36407 1088.19 Q-0.535376 1091.73 3.07572 1091.73 Q6.70996 1091.73 8.5155 1088.19 Q10.3442 1084.62 10.3442 1077.52 Q10.3442 1070.39 8.5155 1066.84 Q6.70996 1063.28 3.07572 1063.28 M3.07572 1059.58 Q8.88587 1059.58 11.9414 1064.18 Q15.0201 1068.77 15.0201 1077.52 Q15.0201 1086.24 11.9414 1090.85 Q8.88587 1095.43 3.07572 1095.43 Q-2.73444 1095.43 -5.81313 1090.85 Q-8.86866 1086.24 -8.86866 1077.52 Q-8.86866 1068.77 -5.81313 1064.18 Q-2.73444 1059.58 3.07572 1059.58 Z\" fill=\"#000000\" fill-rule=\"evenodd\" fill-opacity=\"1\" /><path clip-path=\"url(#clip460)\" d=\"M 0 0 M20.0895 1088.88 L24.9737 1088.88 L24.9737 1094.76 L20.0895 1094.76 L20.0895 1088.88 Z\" fill=\"#000000\" fill-rule=\"evenodd\" fill-opacity=\"1\" /><path clip-path=\"url(#clip460)\" d=\"M 0 0 M30.0895 1060.2 L48.4458 1060.2 L48.4458 1064.14 L34.3718 1064.14 L34.3718 1072.61 Q35.3904 1072.26 36.4089 1072.1 Q37.4274 1071.91 38.4459 1071.91 Q44.2329 1071.91 47.6125 1075.08 Q50.9921 1078.26 50.9921 1083.67 Q50.9921 1089.25 47.5199 1092.35 Q44.0477 1095.43 37.7283 1095.43 Q35.5524 1095.43 33.2839 1095.06 Q31.0385 1094.69 28.6311 1093.95 L28.6311 1089.25 Q30.7145 1090.39 32.9367 1090.94 Q35.1589 1091.5 37.6357 1091.5 Q41.6403 1091.5 43.9783 1089.39 Q46.3162 1087.28 46.3162 1083.67 Q46.3162 1080.06 43.9783 1077.96 Q41.6403 1075.85 37.6357 1075.85 Q35.7607 1075.85 33.8857 1076.27 Q32.0339 1076.68 30.0895 1077.56 L30.0895 1060.2 Z\" fill=\"#000000\" fill-rule=\"evenodd\" fill-opacity=\"1\" /><path clip-path=\"url(#clip460)\" d=\"M 0 0 M2.08035 799.498 Q-1.53074 799.498 -3.35943 803.063 Q-5.16498 806.604 -5.16498 813.734 Q-5.16498 820.84 -3.35943 824.405 Q-1.53074 827.947 2.08035 827.947 Q5.71459 827.947 7.52014 824.405 Q9.34883 820.84 9.34883 813.734 Q9.34883 806.604 7.52014 803.063 Q5.71459 799.498 2.08035 799.498 M2.08035 795.794 Q7.89051 795.794 10.946 800.401 Q14.0247 804.984 14.0247 813.734 Q14.0247 822.461 10.946 827.067 Q7.89051 831.651 2.08035 831.651 Q-3.7298 831.651 -6.80849 827.067 Q-9.86403 822.461 -9.86403 813.734 Q-9.86403 804.984 -6.80849 800.401 Q-3.7298 795.794 2.08035 795.794 Z\" fill=\"#000000\" fill-rule=\"evenodd\" fill-opacity=\"1\" /><path clip-path=\"url(#clip460)\" d=\"M 0 0 M19.0941 825.1 L23.9784 825.1 L23.9784 830.979 L19.0941 830.979 L19.0941 825.1 Z\" fill=\"#000000\" fill-rule=\"evenodd\" fill-opacity=\"1\" /><path clip-path=\"url(#clip460)\" d=\"M 0 0 M39.0477 799.498 Q35.4367 799.498 33.608 803.063 Q31.8024 806.604 31.8024 813.734 Q31.8024 820.84 33.608 824.405 Q35.4367 827.947 39.0477 827.947 Q42.682 827.947 44.4875 824.405 Q46.3162 820.84 46.3162 813.734 Q46.3162 806.604 44.4875 803.063 Q42.682 799.498 39.0477 799.498 M39.0477 795.794 Q44.8579 795.794 47.9134 800.401 Q50.9921 804.984 50.9921 813.734 Q50.9921 822.461 47.9134 827.067 Q44.8579 831.651 39.0477 831.651 Q33.2376 831.651 30.1589 827.067 Q27.1034 822.461 27.1034 813.734 Q27.1034 804.984 30.1589 800.401 Q33.2376 795.794 39.0477 795.794 Z\" fill=\"#000000\" fill-rule=\"evenodd\" fill-opacity=\"1\" /><path clip-path=\"url(#clip460)\" d=\"M 0 0 M3.07572 535.717 Q-0.535376 535.717 -2.36407 539.281 Q-4.16962 542.823 -4.16962 549.953 Q-4.16962 557.059 -2.36407 560.624 Q-0.535376 564.165 3.07572 564.165 Q6.70996 564.165 8.5155 560.624 Q10.3442 557.059 10.3442 549.953 Q10.3442 542.823 8.5155 539.281 Q6.70996 535.717 3.07572 535.717 M3.07572 532.013 Q8.88587 532.013 11.9414 536.619 Q15.0201 541.203 15.0201 549.953 Q15.0201 558.679 11.9414 563.286 Q8.88587 567.869 3.07572 567.869 Q-2.73444 567.869 -5.81313 563.286 Q-8.86866 558.679 -8.86866 549.953 Q-8.86866 541.203 -5.81313 536.619 Q-2.73444 532.013 3.07572 532.013 Z\" fill=\"#000000\" fill-rule=\"evenodd\" fill-opacity=\"1\" /><path clip-path=\"url(#clip460)\" d=\"M 0 0 M20.0895 561.318 L24.9737 561.318 L24.9737 567.198 L20.0895 567.198 L20.0895 561.318 Z\" fill=\"#000000\" fill-rule=\"evenodd\" fill-opacity=\"1\" /><path clip-path=\"url(#clip460)\" d=\"M 0 0 M30.0895 532.638 L48.4458 532.638 L48.4458 536.573 L34.3718 536.573 L34.3718 545.045 Q35.3904 544.698 36.4089 544.536 Q37.4274 544.351 38.4459 544.351 Q44.2329 544.351 47.6125 547.522 Q50.9921 550.693 50.9921 556.11 Q50.9921 561.689 47.5199 564.79 Q44.0477 567.869 37.7283 567.869 Q35.5524 567.869 33.2839 567.499 Q31.0385 567.128 28.6311 566.388 L28.6311 561.689 Q30.7145 562.823 32.9367 563.378 Q35.1589 563.934 37.6357 563.934 Q41.6403 563.934 43.9783 561.827 Q46.3162 559.721 46.3162 556.11 Q46.3162 552.499 43.9783 550.392 Q41.6403 548.286 37.6357 548.286 Q35.7607 548.286 33.8857 548.703 Q32.0339 549.119 30.0895 549.999 L30.0895 532.638 Z\" fill=\"#000000\" fill-rule=\"evenodd\" fill-opacity=\"1\" /><path clip-path=\"url(#clip460)\" d=\"M 0 0 M-5.88257 299.481 L1.75628 299.481 L1.75628 273.116 L-6.55386 274.782 L-6.55386 270.523 L1.70998 268.856 L6.38588 268.856 L6.38588 299.481 L14.0247 299.481 L14.0247 303.416 L-5.88257 303.416 L-5.88257 299.481 Z\" fill=\"#000000\" fill-rule=\"evenodd\" fill-opacity=\"1\" /><path clip-path=\"url(#clip460)\" d=\"M 0 0 M19.0941 297.537 L23.9784 297.537 L23.9784 303.416 L19.0941 303.416 L19.0941 297.537 Z\" fill=\"#000000\" fill-rule=\"evenodd\" fill-opacity=\"1\" /><path clip-path=\"url(#clip460)\" d=\"M 0 0 M39.0477 271.935 Q35.4367 271.935 33.608 275.5 Q31.8024 279.041 31.8024 286.171 Q31.8024 293.278 33.608 296.842 Q35.4367 300.384 39.0477 300.384 Q42.682 300.384 44.4875 296.842 Q46.3162 293.278 46.3162 286.171 Q46.3162 279.041 44.4875 275.5 Q42.682 271.935 39.0477 271.935 M39.0477 268.231 Q44.8579 268.231 47.9134 272.838 Q50.9921 277.421 50.9921 286.171 Q50.9921 294.898 47.9134 299.504 Q44.8579 304.088 39.0477 304.088 Q33.2376 304.088 30.1589 299.504 Q27.1034 294.898 27.1034 286.171 Q27.1034 277.421 30.1589 272.838 Q33.2376 268.231 39.0477 268.231 Z\" fill=\"#000000\" fill-rule=\"evenodd\" fill-opacity=\"1\" /><path clip-path=\"url(#clip460)\" d=\"M 0 0 M410.581 6.912 L430.442 6.912 L430.442 10.8472 L415.257 10.8472 L415.257 21.0323 L428.961 21.0323 L428.961 24.9675 L415.257 24.9675 L415.257 41.472 L410.581 41.472 L410.581 6.912 Z\" fill=\"#000000\" fill-rule=\"evenodd\" fill-opacity=\"1\" /><path clip-path=\"url(#clip460)\" d=\"M 0 0 M431.877 31.2406 L431.877 15.5462 L436.137 15.5462 L436.137 31.0785 Q436.137 34.7591 437.572 36.6109 Q439.007 38.4396 441.877 38.4396 Q445.326 38.4396 447.317 36.2405 Q449.331 34.0415 449.331 30.2452 L449.331 15.5462 L453.59 15.5462 L453.59 41.472 L449.331 41.472 L449.331 37.4905 Q447.78 39.8516 445.72 41.009 Q443.683 42.1433 440.975 42.1433 Q436.507 42.1433 434.192 39.3655 Q431.877 36.5878 431.877 31.2406 M442.595 14.9212 L442.595 14.9212 Z\" fill=\"#000000\" fill-rule=\"evenodd\" fill-opacity=\"1\" /><path clip-path=\"url(#clip460)\" d=\"M 0 0 M456.206 15.5462 L476.437 15.5462 L476.437 19.4351 L460.419 38.0692 L476.437 38.0692 L476.437 41.472 L455.627 41.472 L455.627 37.5831 L471.646 18.949 L456.206 18.949 L456.206 15.5462 Z\" fill=\"#000000\" fill-rule=\"evenodd\" fill-opacity=\"1\" /><path clip-path=\"url(#clip460)\" d=\"M 0 0 M479.053 15.5462 L499.284 15.5462 L499.284 19.4351 L483.266 38.0692 L499.284 38.0692 L499.284 41.472 L478.474 41.472 L478.474 37.5831 L494.493 18.949 L479.053 18.949 L479.053 15.5462 Z\" fill=\"#000000\" fill-rule=\"evenodd\" fill-opacity=\"1\" /><path clip-path=\"url(#clip460)\" d=\"M 0 0 M514.539 43.8794 Q512.733 48.509 511.02 49.921 Q509.307 51.3331 506.437 51.3331 L503.034 51.3331 L503.034 47.7683 L505.534 47.7683 Q507.294 47.7683 508.266 46.9349 Q509.238 46.1016 510.419 42.9998 L511.182 41.0553 L500.696 15.5462 L505.21 15.5462 L513.312 35.8239 L521.414 15.5462 L525.928 15.5462 L514.539 43.8794 Z\" fill=\"#000000\" fill-rule=\"evenodd\" fill-opacity=\"1\" /><path clip-path=\"url(#clip460)\" d=\"M 0 0 M542.131 11.5185 L535.789 28.7174 L548.497 28.7174 L542.131 11.5185 M539.493 6.912 L544.793 6.912 L557.965 41.472 L553.104 41.472 L549.955 32.6063 L534.377 32.6063 L531.229 41.472 L526.298 41.472 L539.493 6.912 Z\" fill=\"#000000\" fill-rule=\"evenodd\" fill-opacity=\"1\" /><path clip-path=\"url(#clip460)\" d=\"M 0 0 M579.006 25.2684 Q580.511 25.7776 581.923 27.4443 Q583.358 29.111 584.793 32.0276 L589.539 41.472 L584.515 41.472 L580.094 32.6063 Q578.381 29.1341 576.761 27.9998 Q575.164 26.8656 572.386 26.8656 L567.293 26.8656 L567.293 41.472 L562.617 41.472 L562.617 6.912 L573.173 6.912 Q579.099 6.912 582.015 9.38884 Q584.932 11.8657 584.932 16.8657 Q584.932 20.1295 583.404 22.2823 Q581.9 24.4351 579.006 25.2684 M567.293 10.7546 L567.293 23.023 L573.173 23.023 Q576.552 23.023 578.265 21.4721 Q580.002 19.898 580.002 16.8657 Q580.002 13.8333 578.265 12.3055 Q576.552 10.7546 573.173 10.7546 L567.293 10.7546 Z\" fill=\"#000000\" fill-rule=\"evenodd\" fill-opacity=\"1\" /><path clip-path=\"url(#clip460)\" d=\"M 0 0 M585.951 6.912 L615.187 6.912 L615.187 10.8472 L602.918 10.8472 L602.918 41.472 L598.219 41.472 L598.219 10.8472 L585.951 10.8472 L585.951 6.912 Z\" fill=\"#000000\" fill-rule=\"evenodd\" fill-opacity=\"1\" /><path clip-path=\"url(#clip460)\" d=\"M 0 0 M649.747 19.5277 Q649.029 19.111 648.172 18.9258 Q647.339 18.7175 646.321 18.7175 Q642.71 18.7175 640.765 21.0786 Q638.844 23.4165 638.844 27.8147 L638.844 41.472 L634.561 41.472 L634.561 15.5462 L638.844 15.5462 L638.844 19.574 Q640.186 17.2129 642.339 16.0786 Q644.492 14.9212 647.571 14.9212 Q648.01 14.9212 648.543 14.9907 Q649.075 15.037 649.723 15.1527 L649.747 19.5277 Z\" fill=\"#000000\" fill-rule=\"evenodd\" fill-opacity=\"1\" /><path clip-path=\"url(#clip460)\" d=\"M 0 0 M674.932 25.8239 L674.932 41.472 L670.672 41.472 L670.672 25.9628 Q670.672 22.2823 669.237 20.4536 Q667.802 18.6249 664.932 18.6249 Q661.483 18.6249 659.492 20.824 Q657.501 23.023 657.501 26.8193 L657.501 41.472 L653.219 41.472 L653.219 5.45367 L657.501 5.45367 L657.501 19.574 Q659.029 17.236 661.089 16.0786 Q663.172 14.9212 665.881 14.9212 Q670.348 14.9212 672.64 17.699 Q674.932 20.4536 674.932 25.8239 Z\" fill=\"#000000\" fill-rule=\"evenodd\" fill-opacity=\"1\" /><path clip-path=\"url(#clip460)\" d=\"M 0 0 M689.445 18.5323 Q686.019 18.5323 684.029 21.2175 Q682.038 23.8795 682.038 28.5323 Q682.038 33.185 684.006 35.8702 Q685.996 38.5322 689.445 38.5322 Q692.848 38.5322 694.839 35.847 Q696.83 33.1619 696.83 28.5323 Q696.83 23.9258 694.839 21.2406 Q692.848 18.5323 689.445 18.5323 M689.445 14.9212 Q695.001 14.9212 698.172 18.5323 Q701.343 22.1434 701.343 28.5323 Q701.343 34.898 698.172 38.5322 Q695.001 42.1433 689.445 42.1433 Q683.867 42.1433 680.695 38.5322 Q677.547 34.898 677.547 28.5323 Q677.547 22.1434 680.695 18.5323 Q683.867 14.9212 689.445 14.9212 Z\" fill=\"#000000\" fill-rule=\"evenodd\" fill-opacity=\"1\" /><path clip-path=\"url(#clip460)\" d=\"M 0 0 M721.436 19.9443 L751.112 19.9443 L751.112 23.8332 L721.436 23.8332 L721.436 19.9443 M721.436 29.3887 L751.112 29.3887 L751.112 33.3239 L721.436 33.3239 L721.436 29.3887 Z\" fill=\"#000000\" fill-rule=\"evenodd\" fill-opacity=\"1\" /><path clip-path=\"url(#clip460)\" d=\"M 0 0 M781.25 9.99069 Q777.639 9.99069 775.811 13.5555 Q774.005 17.0971 774.005 24.2267 Q774.005 31.3332 775.811 34.898 Q777.639 38.4396 781.25 38.4396 Q784.885 38.4396 786.69 34.898 Q788.519 31.3332 788.519 24.2267 Q788.519 17.0971 786.69 13.5555 Q784.885 9.99069 781.25 9.99069 M781.25 6.287 Q787.061 6.287 790.116 10.8935 Q793.195 15.4768 793.195 24.2267 Q793.195 32.9535 790.116 37.56 Q787.061 42.1433 781.25 42.1433 Q775.44 42.1433 772.362 37.56 Q769.306 32.9535 769.306 24.2267 Q769.306 15.4768 772.362 10.8935 Q775.44 6.287 781.25 6.287 Z\" fill=\"#000000\" fill-rule=\"evenodd\" fill-opacity=\"1\" /><path clip-path=\"url(#clip460)\" d=\"M 0 0 M798.264 35.5924 L803.148 35.5924 L803.148 41.472 L798.264 41.472 L798.264 35.5924 Z\" fill=\"#000000\" fill-rule=\"evenodd\" fill-opacity=\"1\" /><path clip-path=\"url(#clip460)\" d=\"M 0 0 M808.264 6.912 L826.621 6.912 L826.621 10.8472 L812.547 10.8472 L812.547 19.3193 Q813.565 18.9721 814.584 18.8101 Q815.602 18.6249 816.621 18.6249 Q822.408 18.6249 825.787 21.7962 Q829.167 24.9675 829.167 30.3841 Q829.167 35.9628 825.695 39.0646 Q822.222 42.1433 815.903 42.1433 Q813.727 42.1433 811.459 41.7729 Q809.213 41.4026 806.806 40.6618 L806.806 35.9628 Q808.889 37.097 811.111 37.6526 Q813.334 38.2081 815.81 38.2081 Q819.815 38.2081 822.153 36.1017 Q824.491 33.9952 824.491 30.3841 Q824.491 26.773 822.153 24.6665 Q819.815 22.5601 815.81 22.5601 Q813.935 22.5601 812.06 22.9767 Q810.209 23.3934 808.264 24.273 L808.264 6.912 Z\" fill=\"#000000\" fill-rule=\"evenodd\" fill-opacity=\"1\" /><circle clip-path=\"url(#clip462)\" cx=\"1108.57\" cy=\"637.533\" r=\"14\" fill=\"#009af9\" fill-rule=\"evenodd\" fill-opacity=\"1\" stroke=\"#000000\" stroke-opacity=\"1\" stroke-width=\"3.2\"/>\n",
       "<circle clip-path=\"url(#clip462)\" cx=\"1075.03\" cy=\"887.06\" r=\"14\" fill=\"#009af9\" fill-rule=\"evenodd\" fill-opacity=\"1\" stroke=\"#000000\" stroke-opacity=\"1\" stroke-width=\"3.2\"/>\n",
       "<circle clip-path=\"url(#clip462)\" cx=\"1093.05\" cy=\"723.8\" r=\"14\" fill=\"#009af9\" fill-rule=\"evenodd\" fill-opacity=\"1\" stroke=\"#000000\" stroke-opacity=\"1\" stroke-width=\"3.2\"/>\n",
       "<circle clip-path=\"url(#clip462)\" cx=\"1069.12\" cy=\"740.955\" r=\"14\" fill=\"#009af9\" fill-rule=\"evenodd\" fill-opacity=\"1\" stroke=\"#000000\" stroke-opacity=\"1\" stroke-width=\"3.2\"/>\n",
       "<circle clip-path=\"url(#clip462)\" cx=\"1056.17\" cy=\"104.257\" r=\"14\" fill=\"#009af9\" fill-rule=\"evenodd\" fill-opacity=\"1\" stroke=\"#000000\" stroke-opacity=\"1\" stroke-width=\"3.2\"/>\n",
       "<circle clip-path=\"url(#clip462)\" cx=\"1106.6\" cy=\"941.729\" r=\"14\" fill=\"#009af9\" fill-rule=\"evenodd\" fill-opacity=\"1\" stroke=\"#000000\" stroke-opacity=\"1\" stroke-width=\"3.2\"/>\n",
       "<circle clip-path=\"url(#clip462)\" cx=\"1028.09\" cy=\"349.843\" r=\"14\" fill=\"#009af9\" fill-rule=\"evenodd\" fill-opacity=\"1\" stroke=\"#000000\" stroke-opacity=\"1\" stroke-width=\"3.2\"/>\n",
       "<circle clip-path=\"url(#clip462)\" cx=\"1087.27\" cy=\"917.837\" r=\"14\" fill=\"#009af9\" fill-rule=\"evenodd\" fill-opacity=\"1\" stroke=\"#000000\" stroke-opacity=\"1\" stroke-width=\"3.2\"/>\n",
       "<circle clip-path=\"url(#clip462)\" cx=\"1080.31\" cy=\"504.399\" r=\"14\" fill=\"#009af9\" fill-rule=\"evenodd\" fill-opacity=\"1\" stroke=\"#000000\" stroke-opacity=\"1\" stroke-width=\"3.2\"/>\n",
       "<circle clip-path=\"url(#clip462)\" cx=\"1117.51\" cy=\"933.847\" r=\"14\" fill=\"#009af9\" fill-rule=\"evenodd\" fill-opacity=\"1\" stroke=\"#000000\" stroke-opacity=\"1\" stroke-width=\"3.2\"/>\n",
       "<circle clip-path=\"url(#clip462)\" cx=\"1092.86\" cy=\"493.574\" r=\"14\" fill=\"#009af9\" fill-rule=\"evenodd\" fill-opacity=\"1\" stroke=\"#000000\" stroke-opacity=\"1\" stroke-width=\"3.2\"/>\n",
       "<circle clip-path=\"url(#clip462)\" cx=\"1100.24\" cy=\"869.986\" r=\"14\" fill=\"#009af9\" fill-rule=\"evenodd\" fill-opacity=\"1\" stroke=\"#000000\" stroke-opacity=\"1\" stroke-width=\"3.2\"/>\n",
       "<circle clip-path=\"url(#clip462)\" cx=\"1092.45\" cy=\"382.105\" r=\"14\" fill=\"#009af9\" fill-rule=\"evenodd\" fill-opacity=\"1\" stroke=\"#000000\" stroke-opacity=\"1\" stroke-width=\"3.2\"/>\n",
       "<circle clip-path=\"url(#clip462)\" cx=\"1074.82\" cy=\"469.763\" r=\"14\" fill=\"#009af9\" fill-rule=\"evenodd\" fill-opacity=\"1\" stroke=\"#000000\" stroke-opacity=\"1\" stroke-width=\"3.2\"/>\n",
       "<circle clip-path=\"url(#clip462)\" cx=\"1122.59\" cy=\"857.015\" r=\"14\" fill=\"#009af9\" fill-rule=\"evenodd\" fill-opacity=\"1\" stroke=\"#000000\" stroke-opacity=\"1\" stroke-width=\"3.2\"/>\n",
       "<circle clip-path=\"url(#clip462)\" cx=\"720.449\" cy=\"946.548\" r=\"14\" fill=\"#e26f46\" fill-rule=\"evenodd\" fill-opacity=\"1\" stroke=\"#000000\" stroke-opacity=\"1\" stroke-width=\"3.2\"/>\n",
       "<circle clip-path=\"url(#clip462)\" cx=\"648.612\" cy=\"996.772\" r=\"14\" fill=\"#e26f46\" fill-rule=\"evenodd\" fill-opacity=\"1\" stroke=\"#000000\" stroke-opacity=\"1\" stroke-width=\"3.2\"/>\n",
       "<circle clip-path=\"url(#clip462)\" cx=\"508.392\" cy=\"598.435\" r=\"14\" fill=\"#e26f46\" fill-rule=\"evenodd\" fill-opacity=\"1\" stroke=\"#000000\" stroke-opacity=\"1\" stroke-width=\"3.2\"/>\n",
       "<circle clip-path=\"url(#clip462)\" cx=\"771.548\" cy=\"1479.74\" r=\"14\" fill=\"#e26f46\" fill-rule=\"evenodd\" fill-opacity=\"1\" stroke=\"#000000\" stroke-opacity=\"1\" stroke-width=\"3.2\"/>\n",
       "<circle clip-path=\"url(#clip462)\" cx=\"528.65\" cy=\"773.926\" r=\"14\" fill=\"#e26f46\" fill-rule=\"evenodd\" fill-opacity=\"1\" stroke=\"#000000\" stroke-opacity=\"1\" stroke-width=\"3.2\"/>\n",
       "<circle clip-path=\"url(#clip462)\" cx=\"673.356\" cy=\"978.146\" r=\"14\" fill=\"#e26f46\" fill-rule=\"evenodd\" fill-opacity=\"1\" stroke=\"#000000\" stroke-opacity=\"1\" stroke-width=\"3.2\"/>\n",
       "<circle clip-path=\"url(#clip462)\" cx=\"491.581\" cy=\"684.621\" r=\"14\" fill=\"#e26f46\" fill-rule=\"evenodd\" fill-opacity=\"1\" stroke=\"#000000\" stroke-opacity=\"1\" stroke-width=\"3.2\"/>\n",
       "<circle clip-path=\"url(#clip462)\" cx=\"614.937\" cy=\"1442.21\" r=\"14\" fill=\"#e26f46\" fill-rule=\"evenodd\" fill-opacity=\"1\" stroke=\"#000000\" stroke-opacity=\"1\" stroke-width=\"3.2\"/>\n",
       "<circle clip-path=\"url(#clip462)\" cx=\"636.844\" cy=\"967.548\" r=\"14\" fill=\"#e26f46\" fill-rule=\"evenodd\" fill-opacity=\"1\" stroke=\"#000000\" stroke-opacity=\"1\" stroke-width=\"3.2\"/>\n",
       "<circle clip-path=\"url(#clip462)\" cx=\"656.608\" cy=\"954.415\" r=\"14\" fill=\"#e26f46\" fill-rule=\"evenodd\" fill-opacity=\"1\" stroke=\"#000000\" stroke-opacity=\"1\" stroke-width=\"3.2\"/>\n",
       "<circle clip-path=\"url(#clip462)\" cx=\"687.3\" cy=\"1120.47\" r=\"14\" fill=\"#e26f46\" fill-rule=\"evenodd\" fill-opacity=\"1\" stroke=\"#000000\" stroke-opacity=\"1\" stroke-width=\"3.2\"/>\n",
       "<circle clip-path=\"url(#clip462)\" cx=\"585.358\" cy=\"734.365\" r=\"14\" fill=\"#e26f46\" fill-rule=\"evenodd\" fill-opacity=\"1\" stroke=\"#000000\" stroke-opacity=\"1\" stroke-width=\"3.2\"/>\n",
       "<circle clip-path=\"url(#clip462)\" cx=\"666.369\" cy=\"1249.26\" r=\"14\" fill=\"#e26f46\" fill-rule=\"evenodd\" fill-opacity=\"1\" stroke=\"#000000\" stroke-opacity=\"1\" stroke-width=\"3.2\"/>\n",
       "<circle clip-path=\"url(#clip462)\" cx=\"643.548\" cy=\"925.11\" r=\"14\" fill=\"#e26f46\" fill-rule=\"evenodd\" fill-opacity=\"1\" stroke=\"#000000\" stroke-opacity=\"1\" stroke-width=\"3.2\"/>\n",
       "<circle clip-path=\"url(#clip462)\" cx=\"808.081\" cy=\"1341.85\" r=\"14\" fill=\"#e26f46\" fill-rule=\"evenodd\" fill-opacity=\"1\" stroke=\"#000000\" stroke-opacity=\"1\" stroke-width=\"3.2\"/>\n",
       "<circle clip-path=\"url(#clip462)\" cx=\"474.55\" cy=\"889.564\" r=\"14\" fill=\"#e26f46\" fill-rule=\"evenodd\" fill-opacity=\"1\" stroke=\"#000000\" stroke-opacity=\"1\" stroke-width=\"3.2\"/>\n",
       "<circle clip-path=\"url(#clip462)\" cx=\"324.839\" cy=\"614.923\" r=\"14\" fill=\"#3da44d\" fill-rule=\"evenodd\" fill-opacity=\"1\" stroke=\"#000000\" stroke-opacity=\"1\" stroke-width=\"3.2\"/>\n",
       "<circle clip-path=\"url(#clip462)\" cx=\"482.975\" cy=\"921.338\" r=\"14\" fill=\"#3da44d\" fill-rule=\"evenodd\" fill-opacity=\"1\" stroke=\"#000000\" stroke-opacity=\"1\" stroke-width=\"3.2\"/>\n",
       "<circle clip-path=\"url(#clip462)\" cx=\"117.155\" cy=\"680.086\" r=\"14\" fill=\"#3da44d\" fill-rule=\"evenodd\" fill-opacity=\"1\" stroke=\"#000000\" stroke-opacity=\"1\" stroke-width=\"3.2\"/>\n",
       "<circle clip-path=\"url(#clip462)\" cx=\"367.877\" cy=\"740.417\" r=\"14\" fill=\"#3da44d\" fill-rule=\"evenodd\" fill-opacity=\"1\" stroke=\"#000000\" stroke-opacity=\"1\" stroke-width=\"3.2\"/>\n",
       "<circle clip-path=\"url(#clip462)\" cx=\"527.42\" cy=\"663.929\" r=\"14\" fill=\"#3da44d\" fill-rule=\"evenodd\" fill-opacity=\"1\" stroke=\"#000000\" stroke-opacity=\"1\" stroke-width=\"3.2\"/>\n",
       "<circle clip-path=\"url(#clip462)\" cx=\"342.144\" cy=\"717.362\" r=\"14\" fill=\"#3da44d\" fill-rule=\"evenodd\" fill-opacity=\"1\" stroke=\"#000000\" stroke-opacity=\"1\" stroke-width=\"3.2\"/>\n",
       "<circle clip-path=\"url(#clip462)\" cx=\"423.403\" cy=\"1078.25\" r=\"14\" fill=\"#3da44d\" fill-rule=\"evenodd\" fill-opacity=\"1\" stroke=\"#000000\" stroke-opacity=\"1\" stroke-width=\"3.2\"/>\n",
       "<circle clip-path=\"url(#clip462)\" cx=\"452.944\" cy=\"1098.22\" r=\"14\" fill=\"#3da44d\" fill-rule=\"evenodd\" fill-opacity=\"1\" stroke=\"#000000\" stroke-opacity=\"1\" stroke-width=\"3.2\"/>\n",
       "<circle clip-path=\"url(#clip462)\" cx=\"425.773\" cy=\"772.275\" r=\"14\" fill=\"#3da44d\" fill-rule=\"evenodd\" fill-opacity=\"1\" stroke=\"#000000\" stroke-opacity=\"1\" stroke-width=\"3.2\"/>\n",
       "<circle clip-path=\"url(#clip462)\" cx=\"304.298\" cy=\"668.105\" r=\"14\" fill=\"#3da44d\" fill-rule=\"evenodd\" fill-opacity=\"1\" stroke=\"#000000\" stroke-opacity=\"1\" stroke-width=\"3.2\"/>\n",
       "<circle clip-path=\"url(#clip462)\" cx=\"326.173\" cy=\"653.582\" r=\"14\" fill=\"#3da44d\" fill-rule=\"evenodd\" fill-opacity=\"1\" stroke=\"#000000\" stroke-opacity=\"1\" stroke-width=\"3.2\"/>\n",
       "<circle clip-path=\"url(#clip462)\" cx=\"404.371\" cy=\"788.351\" r=\"14\" fill=\"#3da44d\" fill-rule=\"evenodd\" fill-opacity=\"1\" stroke=\"#000000\" stroke-opacity=\"1\" stroke-width=\"3.2\"/>\n",
       "<circle clip-path=\"url(#clip462)\" cx=\"478.962\" cy=\"1117.01\" r=\"14\" fill=\"#3da44d\" fill-rule=\"evenodd\" fill-opacity=\"1\" stroke=\"#000000\" stroke-opacity=\"1\" stroke-width=\"3.2\"/>\n",
       "<circle clip-path=\"url(#clip462)\" cx=\"364.778\" cy=\"700.125\" r=\"14\" fill=\"#3da44d\" fill-rule=\"evenodd\" fill-opacity=\"1\" stroke=\"#000000\" stroke-opacity=\"1\" stroke-width=\"3.2\"/>\n",
       "<path clip-path=\"url(#clip460)\" d=\"\n",
       "M1286.99 1521.01 L2352.76 1521.01 L2352.76 62.9921 L1286.99 62.9921  Z\n",
       "  \" fill=\"#ffffff\" fill-rule=\"evenodd\" fill-opacity=\"1\"/>\n",
       "<defs>\n",
       "  <clipPath id=\"clip463\">\n",
       "    <rect x=\"1286\" y=\"62\" width=\"1067\" height=\"1459\"/>\n",
       "  </clipPath>\n",
       "</defs>\n",
       "<polyline clip-path=\"url(#clip463)\" style=\"stroke:#000000; stroke-width:2; stroke-opacity:0.1; fill:none\" points=\"\n",
       "  1437.93,1521.01 1437.93,62.9921 \n",
       "  \"/>\n",
       "<polyline clip-path=\"url(#clip463)\" style=\"stroke:#000000; stroke-width:2; stroke-opacity:0.1; fill:none\" points=\"\n",
       "  1589.91,1521.01 1589.91,62.9921 \n",
       "  \"/>\n",
       "<polyline clip-path=\"url(#clip463)\" style=\"stroke:#000000; stroke-width:2; stroke-opacity:0.1; fill:none\" points=\"\n",
       "  1741.89,1521.01 1741.89,62.9921 \n",
       "  \"/>\n",
       "<polyline clip-path=\"url(#clip463)\" style=\"stroke:#000000; stroke-width:2; stroke-opacity:0.1; fill:none\" points=\"\n",
       "  1893.87,1521.01 1893.87,62.9921 \n",
       "  \"/>\n",
       "<polyline clip-path=\"url(#clip463)\" style=\"stroke:#000000; stroke-width:2; stroke-opacity:0.1; fill:none\" points=\"\n",
       "  2045.85,1521.01 2045.85,62.9921 \n",
       "  \"/>\n",
       "<polyline clip-path=\"url(#clip463)\" style=\"stroke:#000000; stroke-width:2; stroke-opacity:0.1; fill:none\" points=\"\n",
       "  2197.83,1521.01 2197.83,62.9921 \n",
       "  \"/>\n",
       "<polyline clip-path=\"url(#clip463)\" style=\"stroke:#000000; stroke-width:2; stroke-opacity:0.1; fill:none\" points=\"\n",
       "  2349.81,1521.01 2349.81,62.9921 \n",
       "  \"/>\n",
       "<polyline clip-path=\"url(#clip460)\" style=\"stroke:#000000; stroke-width:4; stroke-opacity:1; fill:none\" points=\"\n",
       "  1286.99,1521.01 2352.76,1521.01 \n",
       "  \"/>\n",
       "<polyline clip-path=\"url(#clip460)\" style=\"stroke:#000000; stroke-width:4; stroke-opacity:1; fill:none\" points=\"\n",
       "  1437.93,1521.01 1437.93,1503.51 \n",
       "  \"/>\n",
       "<polyline clip-path=\"url(#clip460)\" style=\"stroke:#000000; stroke-width:4; stroke-opacity:1; fill:none\" points=\"\n",
       "  1589.91,1521.01 1589.91,1503.51 \n",
       "  \"/>\n",
       "<polyline clip-path=\"url(#clip460)\" style=\"stroke:#000000; stroke-width:4; stroke-opacity:1; fill:none\" points=\"\n",
       "  1741.89,1521.01 1741.89,1503.51 \n",
       "  \"/>\n",
       "<polyline clip-path=\"url(#clip460)\" style=\"stroke:#000000; stroke-width:4; stroke-opacity:1; fill:none\" points=\"\n",
       "  1893.87,1521.01 1893.87,1503.51 \n",
       "  \"/>\n",
       "<polyline clip-path=\"url(#clip460)\" style=\"stroke:#000000; stroke-width:4; stroke-opacity:1; fill:none\" points=\"\n",
       "  2045.85,1521.01 2045.85,1503.51 \n",
       "  \"/>\n",
       "<polyline clip-path=\"url(#clip460)\" style=\"stroke:#000000; stroke-width:4; stroke-opacity:1; fill:none\" points=\"\n",
       "  2197.83,1521.01 2197.83,1503.51 \n",
       "  \"/>\n",
       "<polyline clip-path=\"url(#clip460)\" style=\"stroke:#000000; stroke-width:4; stroke-opacity:1; fill:none\" points=\"\n",
       "  2349.81,1521.01 2349.81,1503.51 \n",
       "  \"/>\n",
       "<path clip-path=\"url(#clip460)\" d=\"M 0 0 M1416.92 1558.69 L1439.17 1558.69 L1439.17 1561.64 L1416.92 1561.64 L1416.92 1558.69 Z\" fill=\"#000000\" fill-rule=\"evenodd\" fill-opacity=\"1\" /><path clip-path=\"url(#clip460)\" d=\"M 0 0 M1453.6 1557.34 Q1456.12 1557.87 1457.52 1559.58 Q1458.95 1561.28 1458.95 1563.78 Q1458.95 1567.61 1456.31 1569.71 Q1453.67 1571.82 1448.81 1571.82 Q1447.18 1571.82 1445.44 1571.49 Q1443.72 1571.17 1441.88 1570.53 L1441.88 1567.15 Q1443.34 1568 1445.08 1568.43 Q1446.81 1568.86 1448.7 1568.86 Q1452 1568.86 1453.72 1567.56 Q1455.46 1566.26 1455.46 1563.78 Q1455.46 1561.49 1453.84 1560.2 Q1452.25 1558.9 1449.38 1558.9 L1446.36 1558.9 L1446.36 1556.02 L1449.52 1556.02 Q1452.11 1556.02 1453.48 1554.99 Q1454.85 1553.95 1454.85 1552.01 Q1454.85 1550.01 1453.43 1548.95 Q1452.02 1547.87 1449.38 1547.87 Q1447.94 1547.87 1446.29 1548.19 Q1444.64 1548.5 1442.66 1549.16 L1442.66 1546.03 Q1444.66 1545.48 1446.4 1545.2 Q1448.15 1544.92 1449.69 1544.92 Q1453.69 1544.92 1456.01 1546.75 Q1458.34 1548.55 1458.34 1551.64 Q1458.34 1553.79 1457.11 1555.29 Q1455.87 1556.76 1453.6 1557.34 Z\" fill=\"#000000\" fill-rule=\"evenodd\" fill-opacity=\"1\" /><path clip-path=\"url(#clip460)\" d=\"M 0 0 M1569.25 1558.69 L1591.51 1558.69 L1591.51 1561.64 L1569.25 1561.64 L1569.25 1558.69 Z\" fill=\"#000000\" fill-rule=\"evenodd\" fill-opacity=\"1\" /><path clip-path=\"url(#clip460)\" d=\"M 0 0 M1598.33 1568.36 L1610.57 1568.36 L1610.57 1571.31 L1594.11 1571.31 L1594.11 1568.36 Q1596.11 1566.29 1599.55 1562.82 Q1603 1559.33 1603.89 1558.33 Q1605.57 1556.43 1606.23 1555.13 Q1606.91 1553.81 1606.91 1552.54 Q1606.91 1550.48 1605.45 1549.18 Q1604.01 1547.87 1601.68 1547.87 Q1600.03 1547.87 1598.19 1548.45 Q1596.37 1549.02 1594.29 1550.18 L1594.29 1546.64 Q1596.41 1545.79 1598.25 1545.36 Q1600.09 1544.92 1601.61 1544.92 Q1605.64 1544.92 1608.04 1546.94 Q1610.43 1548.95 1610.43 1552.32 Q1610.43 1553.92 1609.83 1555.36 Q1609.24 1556.78 1607.66 1558.73 Q1607.22 1559.23 1604.89 1561.64 Q1602.57 1564.04 1598.33 1568.36 Z\" fill=\"#000000\" fill-rule=\"evenodd\" fill-opacity=\"1\" /><path clip-path=\"url(#clip460)\" d=\"M 0 0 M1721.09 1558.69 L1743.35 1558.69 L1743.35 1561.64 L1721.09 1561.64 L1721.09 1558.69 Z\" fill=\"#000000\" fill-rule=\"evenodd\" fill-opacity=\"1\" /><path clip-path=\"url(#clip460)\" d=\"M 0 0 M1747.76 1568.36 L1753.49 1568.36 L1753.49 1548.59 L1747.26 1549.84 L1747.26 1546.64 L1753.46 1545.39 L1756.96 1545.39 L1756.96 1568.36 L1762.69 1568.36 L1762.69 1571.31 L1747.76 1571.31 L1747.76 1568.36 Z\" fill=\"#000000\" fill-rule=\"evenodd\" fill-opacity=\"1\" /><path clip-path=\"url(#clip460)\" d=\"M 0 0 M1893.87 1547.7 Q1891.16 1547.7 1889.79 1550.37 Q1888.44 1553.03 1888.44 1558.38 Q1888.44 1563.71 1889.79 1566.38 Q1891.16 1569.04 1893.87 1569.04 Q1896.6 1569.04 1897.95 1566.38 Q1899.32 1563.71 1899.32 1558.38 Q1899.32 1553.03 1897.95 1550.37 Q1896.6 1547.7 1893.87 1547.7 M1893.87 1544.92 Q1898.23 1544.92 1900.52 1548.38 Q1902.83 1551.82 1902.83 1558.38 Q1902.83 1564.92 1900.52 1568.38 Q1898.23 1571.82 1893.87 1571.82 Q1889.52 1571.82 1887.21 1568.38 Q1884.91 1564.92 1884.91 1558.38 Q1884.91 1551.82 1887.21 1548.38 Q1889.52 1544.92 1893.87 1544.92 Z\" fill=\"#000000\" fill-rule=\"evenodd\" fill-opacity=\"1\" /><path clip-path=\"url(#clip460)\" d=\"M 0 0 M2038.64 1568.36 L2044.37 1568.36 L2044.37 1548.59 L2038.14 1549.84 L2038.14 1546.64 L2044.33 1545.39 L2047.84 1545.39 L2047.84 1568.36 L2053.57 1568.36 L2053.57 1571.31 L2038.64 1571.31 L2038.64 1568.36 Z\" fill=\"#000000\" fill-rule=\"evenodd\" fill-opacity=\"1\" /><path clip-path=\"url(#clip460)\" d=\"M 0 0 M2193.82 1568.36 L2206.06 1568.36 L2206.06 1571.31 L2189.6 1571.31 L2189.6 1568.36 Q2191.6 1566.29 2195.04 1562.82 Q2198.49 1559.33 2199.38 1558.33 Q2201.06 1556.43 2201.72 1555.13 Q2202.4 1553.81 2202.4 1552.54 Q2202.4 1550.48 2200.94 1549.18 Q2199.5 1547.87 2197.17 1547.87 Q2195.52 1547.87 2193.68 1548.45 Q2191.86 1549.02 2189.78 1550.18 L2189.78 1546.64 Q2191.9 1545.79 2193.74 1545.36 Q2195.58 1544.92 2197.1 1544.92 Q2201.13 1544.92 2203.53 1546.94 Q2205.92 1548.95 2205.92 1552.32 Q2205.92 1553.92 2205.32 1555.36 Q2204.73 1556.78 2203.15 1558.73 Q2202.71 1559.23 2200.39 1561.64 Q2198.06 1564.04 2193.82 1568.36 Z\" fill=\"#000000\" fill-rule=\"evenodd\" fill-opacity=\"1\" /><path clip-path=\"url(#clip460)\" d=\"M 0 0 M2353 1557.34 Q2355.52 1557.87 2356.92 1559.58 Q2358.35 1561.28 2358.35 1563.78 Q2358.35 1567.61 2355.71 1569.71 Q2353.07 1571.82 2348.21 1571.82 Q2346.58 1571.82 2344.84 1571.49 Q2343.12 1571.17 2341.28 1570.53 L2341.28 1567.15 Q2342.74 1568 2344.48 1568.43 Q2346.21 1568.86 2348.1 1568.86 Q2351.4 1568.86 2353.12 1567.56 Q2354.86 1566.26 2354.86 1563.78 Q2354.86 1561.49 2353.24 1560.2 Q2351.65 1558.9 2348.78 1558.9 L2345.76 1558.9 L2345.76 1556.02 L2348.92 1556.02 Q2351.51 1556.02 2352.88 1554.99 Q2354.25 1553.95 2354.25 1552.01 Q2354.25 1550.01 2352.83 1548.95 Q2351.42 1547.87 2348.78 1547.87 Q2347.34 1547.87 2345.69 1548.19 Q2344.04 1548.5 2342.06 1549.16 L2342.06 1546.03 Q2344.06 1545.48 2345.79 1545.2 Q2347.55 1544.92 2349.09 1544.92 Q2353.09 1544.92 2355.41 1546.75 Q2357.74 1548.55 2357.74 1551.64 Q2357.74 1553.79 2356.51 1555.29 Q2355.27 1556.76 2353 1557.34 Z\" fill=\"#000000\" fill-rule=\"evenodd\" fill-opacity=\"1\" /><polyline clip-path=\"url(#clip463)\" style=\"stroke:#000000; stroke-width:2; stroke-opacity:0.1; fill:none\" points=\"\n",
       "  1286.99,1341.26 2352.76,1341.26 \n",
       "  \"/>\n",
       "<polyline clip-path=\"url(#clip463)\" style=\"stroke:#000000; stroke-width:2; stroke-opacity:0.1; fill:none\" points=\"\n",
       "  1286.99,1077.48 2352.76,1077.48 \n",
       "  \"/>\n",
       "<polyline clip-path=\"url(#clip463)\" style=\"stroke:#000000; stroke-width:2; stroke-opacity:0.1; fill:none\" points=\"\n",
       "  1286.99,813.699 2352.76,813.699 \n",
       "  \"/>\n",
       "<polyline clip-path=\"url(#clip463)\" style=\"stroke:#000000; stroke-width:2; stroke-opacity:0.1; fill:none\" points=\"\n",
       "  1286.99,549.918 2352.76,549.918 \n",
       "  \"/>\n",
       "<polyline clip-path=\"url(#clip463)\" style=\"stroke:#000000; stroke-width:2; stroke-opacity:0.1; fill:none\" points=\"\n",
       "  1286.99,286.136 2352.76,286.136 \n",
       "  \"/>\n",
       "<polyline clip-path=\"url(#clip460)\" style=\"stroke:#000000; stroke-width:4; stroke-opacity:1; fill:none\" points=\"\n",
       "  1286.99,1521.01 1286.99,62.9921 \n",
       "  \"/>\n",
       "<polyline clip-path=\"url(#clip460)\" style=\"stroke:#000000; stroke-width:4; stroke-opacity:1; fill:none\" points=\"\n",
       "  1286.99,1341.26 1299.78,1341.26 \n",
       "  \"/>\n",
       "<polyline clip-path=\"url(#clip460)\" style=\"stroke:#000000; stroke-width:4; stroke-opacity:1; fill:none\" points=\"\n",
       "  1286.99,1077.48 1299.78,1077.48 \n",
       "  \"/>\n",
       "<polyline clip-path=\"url(#clip460)\" style=\"stroke:#000000; stroke-width:4; stroke-opacity:1; fill:none\" points=\"\n",
       "  1286.99,813.699 1299.78,813.699 \n",
       "  \"/>\n",
       "<polyline clip-path=\"url(#clip460)\" style=\"stroke:#000000; stroke-width:4; stroke-opacity:1; fill:none\" points=\"\n",
       "  1286.99,549.918 1299.78,549.918 \n",
       "  \"/>\n",
       "<polyline clip-path=\"url(#clip460)\" style=\"stroke:#000000; stroke-width:4; stroke-opacity:1; fill:none\" points=\"\n",
       "  1286.99,286.136 1299.78,286.136 \n",
       "  \"/>\n",
       "<path clip-path=\"url(#clip460)\" d=\"M 0 0 M1158.56 1341.71 L1188.24 1341.71 L1188.24 1345.65 L1158.56 1345.65 L1158.56 1341.71 Z\" fill=\"#000000\" fill-rule=\"evenodd\" fill-opacity=\"1\" /><path clip-path=\"url(#clip460)\" d=\"M 0 0 M1194.12 1354.61 L1201.76 1354.61 L1201.76 1328.24 L1193.45 1329.91 L1193.45 1325.65 L1201.71 1323.98 L1206.39 1323.98 L1206.39 1354.61 L1214.02 1354.61 L1214.02 1358.54 L1194.12 1358.54 L1194.12 1354.61 Z\" fill=\"#000000\" fill-rule=\"evenodd\" fill-opacity=\"1\" /><path clip-path=\"url(#clip460)\" d=\"M 0 0 M1219.09 1352.66 L1223.98 1352.66 L1223.98 1358.54 L1219.09 1358.54 L1219.09 1352.66 Z\" fill=\"#000000\" fill-rule=\"evenodd\" fill-opacity=\"1\" /><path clip-path=\"url(#clip460)\" d=\"M 0 0 M1239.05 1327.06 Q1235.44 1327.06 1233.61 1330.63 Q1231.8 1334.17 1231.8 1341.3 Q1231.8 1348.4 1233.61 1351.97 Q1235.44 1355.51 1239.05 1355.51 Q1242.68 1355.51 1244.49 1351.97 Q1246.32 1348.4 1246.32 1341.3 Q1246.32 1334.17 1244.49 1330.63 Q1242.68 1327.06 1239.05 1327.06 M1239.05 1323.36 Q1244.86 1323.36 1247.91 1327.96 Q1250.99 1332.55 1250.99 1341.3 Q1250.99 1350.02 1247.91 1354.63 Q1244.86 1359.21 1239.05 1359.21 Q1233.24 1359.21 1230.16 1354.63 Q1227.1 1350.02 1227.1 1341.3 Q1227.1 1332.55 1230.16 1327.96 Q1233.24 1323.36 1239.05 1323.36 Z\" fill=\"#000000\" fill-rule=\"evenodd\" fill-opacity=\"1\" /><path clip-path=\"url(#clip460)\" d=\"M 0 0 M1158.33 1077.93 L1188.01 1077.93 L1188.01 1081.87 L1158.33 1081.87 L1158.33 1077.93 Z\" fill=\"#000000\" fill-rule=\"evenodd\" fill-opacity=\"1\" /><path clip-path=\"url(#clip460)\" d=\"M 0 0 M1203.08 1063.28 Q1199.46 1063.28 1197.64 1066.84 Q1195.83 1070.39 1195.83 1077.52 Q1195.83 1084.62 1197.64 1088.19 Q1199.46 1091.73 1203.08 1091.73 Q1206.71 1091.73 1208.52 1088.19 Q1210.34 1084.62 1210.34 1077.52 Q1210.34 1070.39 1208.52 1066.84 Q1206.71 1063.28 1203.08 1063.28 M1203.08 1059.58 Q1208.89 1059.58 1211.94 1064.18 Q1215.02 1068.77 1215.02 1077.52 Q1215.02 1086.24 1211.94 1090.85 Q1208.89 1095.43 1203.08 1095.43 Q1197.27 1095.43 1194.19 1090.85 Q1191.13 1086.24 1191.13 1077.52 Q1191.13 1068.77 1194.19 1064.18 Q1197.27 1059.58 1203.08 1059.58 Z\" fill=\"#000000\" fill-rule=\"evenodd\" fill-opacity=\"1\" /><path clip-path=\"url(#clip460)\" d=\"M 0 0 M1220.09 1088.88 L1224.97 1088.88 L1224.97 1094.76 L1220.09 1094.76 L1220.09 1088.88 Z\" fill=\"#000000\" fill-rule=\"evenodd\" fill-opacity=\"1\" /><path clip-path=\"url(#clip460)\" d=\"M 0 0 M1230.09 1060.2 L1248.45 1060.2 L1248.45 1064.14 L1234.37 1064.14 L1234.37 1072.61 Q1235.39 1072.26 1236.41 1072.1 Q1237.43 1071.91 1238.45 1071.91 Q1244.23 1071.91 1247.61 1075.08 Q1250.99 1078.26 1250.99 1083.67 Q1250.99 1089.25 1247.52 1092.35 Q1244.05 1095.43 1237.73 1095.43 Q1235.55 1095.43 1233.28 1095.06 Q1231.04 1094.69 1228.63 1093.95 L1228.63 1089.25 Q1230.71 1090.39 1232.94 1090.94 Q1235.16 1091.5 1237.64 1091.5 Q1241.64 1091.5 1243.98 1089.39 Q1246.32 1087.28 1246.32 1083.67 Q1246.32 1080.06 1243.98 1077.96 Q1241.64 1075.85 1237.64 1075.85 Q1235.76 1075.85 1233.89 1076.27 Q1232.03 1076.68 1230.09 1077.56 L1230.09 1060.2 Z\" fill=\"#000000\" fill-rule=\"evenodd\" fill-opacity=\"1\" /><path clip-path=\"url(#clip460)\" d=\"M 0 0 M1202.08 799.498 Q1198.47 799.498 1196.64 803.063 Q1194.84 806.604 1194.84 813.734 Q1194.84 820.84 1196.64 824.405 Q1198.47 827.947 1202.08 827.947 Q1205.71 827.947 1207.52 824.405 Q1209.35 820.84 1209.35 813.734 Q1209.35 806.604 1207.52 803.063 Q1205.71 799.498 1202.08 799.498 M1202.08 795.794 Q1207.89 795.794 1210.95 800.401 Q1214.02 804.984 1214.02 813.734 Q1214.02 822.461 1210.95 827.067 Q1207.89 831.651 1202.08 831.651 Q1196.27 831.651 1193.19 827.067 Q1190.14 822.461 1190.14 813.734 Q1190.14 804.984 1193.19 800.401 Q1196.27 795.794 1202.08 795.794 Z\" fill=\"#000000\" fill-rule=\"evenodd\" fill-opacity=\"1\" /><path clip-path=\"url(#clip460)\" d=\"M 0 0 M1219.09 825.1 L1223.98 825.1 L1223.98 830.979 L1219.09 830.979 L1219.09 825.1 Z\" fill=\"#000000\" fill-rule=\"evenodd\" fill-opacity=\"1\" /><path clip-path=\"url(#clip460)\" d=\"M 0 0 M1239.05 799.498 Q1235.44 799.498 1233.61 803.063 Q1231.8 806.604 1231.8 813.734 Q1231.8 820.84 1233.61 824.405 Q1235.44 827.947 1239.05 827.947 Q1242.68 827.947 1244.49 824.405 Q1246.32 820.84 1246.32 813.734 Q1246.32 806.604 1244.49 803.063 Q1242.68 799.498 1239.05 799.498 M1239.05 795.794 Q1244.86 795.794 1247.91 800.401 Q1250.99 804.984 1250.99 813.734 Q1250.99 822.461 1247.91 827.067 Q1244.86 831.651 1239.05 831.651 Q1233.24 831.651 1230.16 827.067 Q1227.1 822.461 1227.1 813.734 Q1227.1 804.984 1230.16 800.401 Q1233.24 795.794 1239.05 795.794 Z\" fill=\"#000000\" fill-rule=\"evenodd\" fill-opacity=\"1\" /><path clip-path=\"url(#clip460)\" d=\"M 0 0 M1203.08 535.717 Q1199.46 535.717 1197.64 539.281 Q1195.83 542.823 1195.83 549.953 Q1195.83 557.059 1197.64 560.624 Q1199.46 564.165 1203.08 564.165 Q1206.71 564.165 1208.52 560.624 Q1210.34 557.059 1210.34 549.953 Q1210.34 542.823 1208.52 539.281 Q1206.71 535.717 1203.08 535.717 M1203.08 532.013 Q1208.89 532.013 1211.94 536.619 Q1215.02 541.203 1215.02 549.953 Q1215.02 558.679 1211.94 563.286 Q1208.89 567.869 1203.08 567.869 Q1197.27 567.869 1194.19 563.286 Q1191.13 558.679 1191.13 549.953 Q1191.13 541.203 1194.19 536.619 Q1197.27 532.013 1203.08 532.013 Z\" fill=\"#000000\" fill-rule=\"evenodd\" fill-opacity=\"1\" /><path clip-path=\"url(#clip460)\" d=\"M 0 0 M1220.09 561.318 L1224.97 561.318 L1224.97 567.198 L1220.09 567.198 L1220.09 561.318 Z\" fill=\"#000000\" fill-rule=\"evenodd\" fill-opacity=\"1\" /><path clip-path=\"url(#clip460)\" d=\"M 0 0 M1230.09 532.638 L1248.45 532.638 L1248.45 536.573 L1234.37 536.573 L1234.37 545.045 Q1235.39 544.698 1236.41 544.536 Q1237.43 544.351 1238.45 544.351 Q1244.23 544.351 1247.61 547.522 Q1250.99 550.693 1250.99 556.11 Q1250.99 561.689 1247.52 564.79 Q1244.05 567.869 1237.73 567.869 Q1235.55 567.869 1233.28 567.499 Q1231.04 567.128 1228.63 566.388 L1228.63 561.689 Q1230.71 562.823 1232.94 563.378 Q1235.16 563.934 1237.64 563.934 Q1241.64 563.934 1243.98 561.827 Q1246.32 559.721 1246.32 556.11 Q1246.32 552.499 1243.98 550.392 Q1241.64 548.286 1237.64 548.286 Q1235.76 548.286 1233.89 548.703 Q1232.03 549.119 1230.09 549.999 L1230.09 532.638 Z\" fill=\"#000000\" fill-rule=\"evenodd\" fill-opacity=\"1\" /><path clip-path=\"url(#clip460)\" d=\"M 0 0 M1194.12 299.481 L1201.76 299.481 L1201.76 273.116 L1193.45 274.782 L1193.45 270.523 L1201.71 268.856 L1206.39 268.856 L1206.39 299.481 L1214.02 299.481 L1214.02 303.416 L1194.12 303.416 L1194.12 299.481 Z\" fill=\"#000000\" fill-rule=\"evenodd\" fill-opacity=\"1\" /><path clip-path=\"url(#clip460)\" d=\"M 0 0 M1219.09 297.537 L1223.98 297.537 L1223.98 303.416 L1219.09 303.416 L1219.09 297.537 Z\" fill=\"#000000\" fill-rule=\"evenodd\" fill-opacity=\"1\" /><path clip-path=\"url(#clip460)\" d=\"M 0 0 M1239.05 271.935 Q1235.44 271.935 1233.61 275.5 Q1231.8 279.041 1231.8 286.171 Q1231.8 293.278 1233.61 296.842 Q1235.44 300.384 1239.05 300.384 Q1242.68 300.384 1244.49 296.842 Q1246.32 293.278 1246.32 286.171 Q1246.32 279.041 1244.49 275.5 Q1242.68 271.935 1239.05 271.935 M1239.05 268.231 Q1244.86 268.231 1247.91 272.838 Q1250.99 277.421 1250.99 286.171 Q1250.99 294.898 1247.91 299.504 Q1244.86 304.088 1239.05 304.088 Q1233.24 304.088 1230.16 299.504 Q1227.1 294.898 1227.1 286.171 Q1227.1 277.421 1230.16 272.838 Q1233.24 268.231 1239.05 268.231 Z\" fill=\"#000000\" fill-rule=\"evenodd\" fill-opacity=\"1\" /><path clip-path=\"url(#clip460)\" d=\"M 0 0 M1610.53 6.912 L1630.4 6.912 L1630.4 10.8472 L1615.21 10.8472 L1615.21 21.0323 L1628.91 21.0323 L1628.91 24.9675 L1615.21 24.9675 L1615.21 41.472 L1610.53 41.472 L1610.53 6.912 Z\" fill=\"#000000\" fill-rule=\"evenodd\" fill-opacity=\"1\" /><path clip-path=\"url(#clip460)\" d=\"M 0 0 M1631.83 31.2406 L1631.83 15.5462 L1636.09 15.5462 L1636.09 31.0785 Q1636.09 34.7591 1637.53 36.6109 Q1638.96 38.4396 1641.83 38.4396 Q1645.28 38.4396 1647.27 36.2405 Q1649.28 34.0415 1649.28 30.2452 L1649.28 15.5462 L1653.54 15.5462 L1653.54 41.472 L1649.28 41.472 L1649.28 37.4905 Q1647.73 39.8516 1645.67 41.009 Q1643.64 42.1433 1640.93 42.1433 Q1636.46 42.1433 1634.15 39.3655 Q1631.83 36.5878 1631.83 31.2406 M1642.55 14.9212 L1642.55 14.9212 Z\" fill=\"#000000\" fill-rule=\"evenodd\" fill-opacity=\"1\" /><path clip-path=\"url(#clip460)\" d=\"M 0 0 M1656.16 15.5462 L1676.39 15.5462 L1676.39 19.4351 L1660.37 38.0692 L1676.39 38.0692 L1676.39 41.472 L1655.58 41.472 L1655.58 37.5831 L1671.6 18.949 L1656.16 18.949 L1656.16 15.5462 Z\" fill=\"#000000\" fill-rule=\"evenodd\" fill-opacity=\"1\" /><path clip-path=\"url(#clip460)\" d=\"M 0 0 M1679.01 15.5462 L1699.24 15.5462 L1699.24 19.4351 L1683.22 38.0692 L1699.24 38.0692 L1699.24 41.472 L1678.43 41.472 L1678.43 37.5831 L1694.45 18.949 L1679.01 18.949 L1679.01 15.5462 Z\" fill=\"#000000\" fill-rule=\"evenodd\" fill-opacity=\"1\" /><path clip-path=\"url(#clip460)\" d=\"M 0 0 M1714.49 43.8794 Q1712.69 48.509 1710.97 49.921 Q1709.26 51.3331 1706.39 51.3331 L1702.99 51.3331 L1702.99 47.7683 L1705.49 47.7683 Q1707.25 47.7683 1708.22 46.9349 Q1709.19 46.1016 1710.37 42.9998 L1711.14 41.0553 L1700.65 15.5462 L1705.16 15.5462 L1713.27 35.8239 L1721.37 15.5462 L1725.88 15.5462 L1714.49 43.8794 Z\" fill=\"#000000\" fill-rule=\"evenodd\" fill-opacity=\"1\" /><path clip-path=\"url(#clip460)\" d=\"M 0 0 M1742.09 11.5185 L1735.74 28.7174 L1748.45 28.7174 L1742.09 11.5185 M1739.45 6.912 L1744.75 6.912 L1757.92 41.472 L1753.06 41.472 L1749.91 32.6063 L1734.33 32.6063 L1731.18 41.472 L1726.25 41.472 L1739.45 6.912 Z\" fill=\"#000000\" fill-rule=\"evenodd\" fill-opacity=\"1\" /><path clip-path=\"url(#clip460)\" d=\"M 0 0 M1778.96 25.2684 Q1780.46 25.7776 1781.88 27.4443 Q1783.31 29.111 1784.75 32.0276 L1789.49 41.472 L1784.47 41.472 L1780.05 32.6063 Q1778.33 29.1341 1776.71 27.9998 Q1775.12 26.8656 1772.34 26.8656 L1767.25 26.8656 L1767.25 41.472 L1762.57 41.472 L1762.57 6.912 L1773.13 6.912 Q1779.05 6.912 1781.97 9.38884 Q1784.89 11.8657 1784.89 16.8657 Q1784.89 20.1295 1783.36 22.2823 Q1781.85 24.4351 1778.96 25.2684 M1767.25 10.7546 L1767.25 23.023 L1773.13 23.023 Q1776.51 23.023 1778.22 21.4721 Q1779.96 19.898 1779.96 16.8657 Q1779.96 13.8333 1778.22 12.3055 Q1776.51 10.7546 1773.13 10.7546 L1767.25 10.7546 Z\" fill=\"#000000\" fill-rule=\"evenodd\" fill-opacity=\"1\" /><path clip-path=\"url(#clip460)\" d=\"M 0 0 M1785.9 6.912 L1815.14 6.912 L1815.14 10.8472 L1802.87 10.8472 L1802.87 41.472 L1798.17 41.472 L1798.17 10.8472 L1785.9 10.8472 L1785.9 6.912 Z\" fill=\"#000000\" fill-rule=\"evenodd\" fill-opacity=\"1\" /><path clip-path=\"url(#clip460)\" d=\"M 0 0 M1849.7 19.5277 Q1848.98 19.111 1848.13 18.9258 Q1847.29 18.7175 1846.27 18.7175 Q1842.66 18.7175 1840.72 21.0786 Q1838.8 23.4165 1838.8 27.8147 L1838.8 41.472 L1834.52 41.472 L1834.52 15.5462 L1838.8 15.5462 L1838.8 19.574 Q1840.14 17.2129 1842.29 16.0786 Q1844.45 14.9212 1847.52 14.9212 Q1847.96 14.9212 1848.5 14.9907 Q1849.03 15.037 1849.68 15.1527 L1849.7 19.5277 Z\" fill=\"#000000\" fill-rule=\"evenodd\" fill-opacity=\"1\" /><path clip-path=\"url(#clip460)\" d=\"M 0 0 M1874.89 25.8239 L1874.89 41.472 L1870.63 41.472 L1870.63 25.9628 Q1870.63 22.2823 1869.19 20.4536 Q1867.76 18.6249 1864.89 18.6249 Q1861.44 18.6249 1859.45 20.824 Q1857.45 23.023 1857.45 26.8193 L1857.45 41.472 L1853.17 41.472 L1853.17 5.45367 L1857.45 5.45367 L1857.45 19.574 Q1858.98 17.236 1861.04 16.0786 Q1863.13 14.9212 1865.83 14.9212 Q1870.3 14.9212 1872.59 17.699 Q1874.89 20.4536 1874.89 25.8239 Z\" fill=\"#000000\" fill-rule=\"evenodd\" fill-opacity=\"1\" /><path clip-path=\"url(#clip460)\" d=\"M 0 0 M1889.4 18.5323 Q1885.97 18.5323 1883.98 21.2175 Q1881.99 23.8795 1881.99 28.5323 Q1881.99 33.185 1883.96 35.8702 Q1885.95 38.5322 1889.4 38.5322 Q1892.8 38.5322 1894.79 35.847 Q1896.78 33.1619 1896.78 28.5323 Q1896.78 23.9258 1894.79 21.2406 Q1892.8 18.5323 1889.4 18.5323 M1889.4 14.9212 Q1894.95 14.9212 1898.13 18.5323 Q1901.3 22.1434 1901.3 28.5323 Q1901.3 34.898 1898.13 38.5322 Q1894.95 42.1433 1889.4 42.1433 Q1883.82 42.1433 1880.65 38.5322 Q1877.5 34.898 1877.5 28.5323 Q1877.5 22.1434 1880.65 18.5323 Q1883.82 14.9212 1889.4 14.9212 Z\" fill=\"#000000\" fill-rule=\"evenodd\" fill-opacity=\"1\" /><path clip-path=\"url(#clip460)\" d=\"M 0 0 M1921.39 19.9443 L1951.07 19.9443 L1951.07 23.8332 L1921.39 23.8332 L1921.39 19.9443 M1921.39 29.3887 L1951.07 29.3887 L1951.07 33.3239 L1921.39 33.3239 L1921.39 29.3887 Z\" fill=\"#000000\" fill-rule=\"evenodd\" fill-opacity=\"1\" /><path clip-path=\"url(#clip460)\" d=\"M 0 0 M1981.2 9.99069 Q1977.59 9.99069 1975.76 13.5555 Q1973.96 17.0971 1973.96 24.2267 Q1973.96 31.3332 1975.76 34.898 Q1977.59 38.4396 1981.2 38.4396 Q1984.84 38.4396 1986.64 34.898 Q1988.47 31.3332 1988.47 24.2267 Q1988.47 17.0971 1986.64 13.5555 Q1984.84 9.99069 1981.2 9.99069 M1981.2 6.287 Q1987.01 6.287 1990.07 10.8935 Q1993.15 15.4768 1993.15 24.2267 Q1993.15 32.9535 1990.07 37.56 Q1987.01 42.1433 1981.2 42.1433 Q1975.39 42.1433 1972.32 37.56 Q1969.26 32.9535 1969.26 24.2267 Q1969.26 15.4768 1972.32 10.8935 Q1975.39 6.287 1981.2 6.287 Z\" fill=\"#000000\" fill-rule=\"evenodd\" fill-opacity=\"1\" /><path clip-path=\"url(#clip460)\" d=\"M 0 0 M1998.22 35.5924 L2003.1 35.5924 L2003.1 41.472 L1998.22 41.472 L1998.22 35.5924 Z\" fill=\"#000000\" fill-rule=\"evenodd\" fill-opacity=\"1\" /><path clip-path=\"url(#clip460)\" d=\"M 0 0 M2006.99 6.912 L2029.21 6.912 L2029.21 8.90273 L2016.67 41.472 L2011.78 41.472 L2023.59 10.8472 L2006.99 10.8472 L2006.99 6.912 Z\" fill=\"#000000\" fill-rule=\"evenodd\" fill-opacity=\"1\" /><circle clip-path=\"url(#clip463)\" cx=\"2308.57\" cy=\"637.533\" r=\"14\" fill=\"#009af9\" fill-rule=\"evenodd\" fill-opacity=\"1\" stroke=\"#000000\" stroke-opacity=\"1\" stroke-width=\"3.2\"/>\n",
       "<circle clip-path=\"url(#clip463)\" cx=\"2275.03\" cy=\"887.06\" r=\"14\" fill=\"#009af9\" fill-rule=\"evenodd\" fill-opacity=\"1\" stroke=\"#000000\" stroke-opacity=\"1\" stroke-width=\"3.2\"/>\n",
       "<circle clip-path=\"url(#clip463)\" cx=\"2293.05\" cy=\"723.8\" r=\"14\" fill=\"#009af9\" fill-rule=\"evenodd\" fill-opacity=\"1\" stroke=\"#000000\" stroke-opacity=\"1\" stroke-width=\"3.2\"/>\n",
       "<circle clip-path=\"url(#clip463)\" cx=\"2269.12\" cy=\"740.955\" r=\"14\" fill=\"#009af9\" fill-rule=\"evenodd\" fill-opacity=\"1\" stroke=\"#000000\" stroke-opacity=\"1\" stroke-width=\"3.2\"/>\n",
       "<circle clip-path=\"url(#clip463)\" cx=\"2256.17\" cy=\"104.257\" r=\"14\" fill=\"#009af9\" fill-rule=\"evenodd\" fill-opacity=\"1\" stroke=\"#000000\" stroke-opacity=\"1\" stroke-width=\"3.2\"/>\n",
       "<circle clip-path=\"url(#clip463)\" cx=\"2306.6\" cy=\"941.729\" r=\"14\" fill=\"#009af9\" fill-rule=\"evenodd\" fill-opacity=\"1\" stroke=\"#000000\" stroke-opacity=\"1\" stroke-width=\"3.2\"/>\n",
       "<circle clip-path=\"url(#clip463)\" cx=\"2228.09\" cy=\"349.843\" r=\"14\" fill=\"#009af9\" fill-rule=\"evenodd\" fill-opacity=\"1\" stroke=\"#000000\" stroke-opacity=\"1\" stroke-width=\"3.2\"/>\n",
       "<circle clip-path=\"url(#clip463)\" cx=\"2287.27\" cy=\"917.837\" r=\"14\" fill=\"#009af9\" fill-rule=\"evenodd\" fill-opacity=\"1\" stroke=\"#000000\" stroke-opacity=\"1\" stroke-width=\"3.2\"/>\n",
       "<circle clip-path=\"url(#clip463)\" cx=\"2280.31\" cy=\"504.399\" r=\"14\" fill=\"#009af9\" fill-rule=\"evenodd\" fill-opacity=\"1\" stroke=\"#000000\" stroke-opacity=\"1\" stroke-width=\"3.2\"/>\n",
       "<circle clip-path=\"url(#clip463)\" cx=\"2317.51\" cy=\"933.847\" r=\"14\" fill=\"#009af9\" fill-rule=\"evenodd\" fill-opacity=\"1\" stroke=\"#000000\" stroke-opacity=\"1\" stroke-width=\"3.2\"/>\n",
       "<circle clip-path=\"url(#clip463)\" cx=\"2292.86\" cy=\"493.574\" r=\"14\" fill=\"#009af9\" fill-rule=\"evenodd\" fill-opacity=\"1\" stroke=\"#000000\" stroke-opacity=\"1\" stroke-width=\"3.2\"/>\n",
       "<circle clip-path=\"url(#clip463)\" cx=\"2300.24\" cy=\"869.986\" r=\"14\" fill=\"#009af9\" fill-rule=\"evenodd\" fill-opacity=\"1\" stroke=\"#000000\" stroke-opacity=\"1\" stroke-width=\"3.2\"/>\n",
       "<circle clip-path=\"url(#clip463)\" cx=\"2292.45\" cy=\"382.105\" r=\"14\" fill=\"#009af9\" fill-rule=\"evenodd\" fill-opacity=\"1\" stroke=\"#000000\" stroke-opacity=\"1\" stroke-width=\"3.2\"/>\n",
       "<circle clip-path=\"url(#clip463)\" cx=\"2274.82\" cy=\"469.763\" r=\"14\" fill=\"#009af9\" fill-rule=\"evenodd\" fill-opacity=\"1\" stroke=\"#000000\" stroke-opacity=\"1\" stroke-width=\"3.2\"/>\n",
       "<circle clip-path=\"url(#clip463)\" cx=\"2322.59\" cy=\"857.015\" r=\"14\" fill=\"#009af9\" fill-rule=\"evenodd\" fill-opacity=\"1\" stroke=\"#000000\" stroke-opacity=\"1\" stroke-width=\"3.2\"/>\n",
       "<circle clip-path=\"url(#clip463)\" cx=\"1920.45\" cy=\"946.548\" r=\"14\" fill=\"#e26f46\" fill-rule=\"evenodd\" fill-opacity=\"1\" stroke=\"#000000\" stroke-opacity=\"1\" stroke-width=\"3.2\"/>\n",
       "<circle clip-path=\"url(#clip463)\" cx=\"1848.61\" cy=\"996.772\" r=\"14\" fill=\"#e26f46\" fill-rule=\"evenodd\" fill-opacity=\"1\" stroke=\"#000000\" stroke-opacity=\"1\" stroke-width=\"3.2\"/>\n",
       "<circle clip-path=\"url(#clip463)\" cx=\"1708.39\" cy=\"598.435\" r=\"14\" fill=\"#e26f46\" fill-rule=\"evenodd\" fill-opacity=\"1\" stroke=\"#000000\" stroke-opacity=\"1\" stroke-width=\"3.2\"/>\n",
       "<circle clip-path=\"url(#clip463)\" cx=\"1567.88\" cy=\"740.417\" r=\"14\" fill=\"#e26f46\" fill-rule=\"evenodd\" fill-opacity=\"1\" stroke=\"#000000\" stroke-opacity=\"1\" stroke-width=\"3.2\"/>\n",
       "<circle clip-path=\"url(#clip463)\" cx=\"1727.42\" cy=\"663.929\" r=\"14\" fill=\"#e26f46\" fill-rule=\"evenodd\" fill-opacity=\"1\" stroke=\"#000000\" stroke-opacity=\"1\" stroke-width=\"3.2\"/>\n",
       "<circle clip-path=\"url(#clip463)\" cx=\"1971.55\" cy=\"1479.74\" r=\"14\" fill=\"#e26f46\" fill-rule=\"evenodd\" fill-opacity=\"1\" stroke=\"#000000\" stroke-opacity=\"1\" stroke-width=\"3.2\"/>\n",
       "<circle clip-path=\"url(#clip463)\" cx=\"1728.65\" cy=\"773.926\" r=\"14\" fill=\"#e26f46\" fill-rule=\"evenodd\" fill-opacity=\"1\" stroke=\"#000000\" stroke-opacity=\"1\" stroke-width=\"3.2\"/>\n",
       "<circle clip-path=\"url(#clip463)\" cx=\"1652.94\" cy=\"1098.22\" r=\"14\" fill=\"#e26f46\" fill-rule=\"evenodd\" fill-opacity=\"1\" stroke=\"#000000\" stroke-opacity=\"1\" stroke-width=\"3.2\"/>\n",
       "<circle clip-path=\"url(#clip463)\" cx=\"1873.36\" cy=\"978.146\" r=\"14\" fill=\"#e26f46\" fill-rule=\"evenodd\" fill-opacity=\"1\" stroke=\"#000000\" stroke-opacity=\"1\" stroke-width=\"3.2\"/>\n",
       "<circle clip-path=\"url(#clip463)\" cx=\"1691.58\" cy=\"684.621\" r=\"14\" fill=\"#e26f46\" fill-rule=\"evenodd\" fill-opacity=\"1\" stroke=\"#000000\" stroke-opacity=\"1\" stroke-width=\"3.2\"/>\n",
       "<circle clip-path=\"url(#clip463)\" cx=\"1814.94\" cy=\"1442.21\" r=\"14\" fill=\"#e26f46\" fill-rule=\"evenodd\" fill-opacity=\"1\" stroke=\"#000000\" stroke-opacity=\"1\" stroke-width=\"3.2\"/>\n",
       "<circle clip-path=\"url(#clip463)\" cx=\"1836.84\" cy=\"967.548\" r=\"14\" fill=\"#e26f46\" fill-rule=\"evenodd\" fill-opacity=\"1\" stroke=\"#000000\" stroke-opacity=\"1\" stroke-width=\"3.2\"/>\n",
       "<circle clip-path=\"url(#clip463)\" cx=\"1856.61\" cy=\"954.415\" r=\"14\" fill=\"#e26f46\" fill-rule=\"evenodd\" fill-opacity=\"1\" stroke=\"#000000\" stroke-opacity=\"1\" stroke-width=\"3.2\"/>\n",
       "<circle clip-path=\"url(#clip463)\" cx=\"1887.3\" cy=\"1120.47\" r=\"14\" fill=\"#e26f46\" fill-rule=\"evenodd\" fill-opacity=\"1\" stroke=\"#000000\" stroke-opacity=\"1\" stroke-width=\"3.2\"/>\n",
       "<circle clip-path=\"url(#clip463)\" cx=\"1785.36\" cy=\"734.365\" r=\"14\" fill=\"#e26f46\" fill-rule=\"evenodd\" fill-opacity=\"1\" stroke=\"#000000\" stroke-opacity=\"1\" stroke-width=\"3.2\"/>\n",
       "<circle clip-path=\"url(#clip463)\" cx=\"1866.37\" cy=\"1249.26\" r=\"14\" fill=\"#e26f46\" fill-rule=\"evenodd\" fill-opacity=\"1\" stroke=\"#000000\" stroke-opacity=\"1\" stroke-width=\"3.2\"/>\n",
       "<circle clip-path=\"url(#clip463)\" cx=\"1843.55\" cy=\"925.11\" r=\"14\" fill=\"#e26f46\" fill-rule=\"evenodd\" fill-opacity=\"1\" stroke=\"#000000\" stroke-opacity=\"1\" stroke-width=\"3.2\"/>\n",
       "<circle clip-path=\"url(#clip463)\" cx=\"2008.08\" cy=\"1341.85\" r=\"14\" fill=\"#e26f46\" fill-rule=\"evenodd\" fill-opacity=\"1\" stroke=\"#000000\" stroke-opacity=\"1\" stroke-width=\"3.2\"/>\n",
       "<circle clip-path=\"url(#clip463)\" cx=\"1674.55\" cy=\"889.564\" r=\"14\" fill=\"#e26f46\" fill-rule=\"evenodd\" fill-opacity=\"1\" stroke=\"#000000\" stroke-opacity=\"1\" stroke-width=\"3.2\"/>\n",
       "<circle clip-path=\"url(#clip463)\" cx=\"1524.84\" cy=\"614.923\" r=\"14\" fill=\"#3da44d\" fill-rule=\"evenodd\" fill-opacity=\"1\" stroke=\"#000000\" stroke-opacity=\"1\" stroke-width=\"3.2\"/>\n",
       "<circle clip-path=\"url(#clip463)\" cx=\"1682.97\" cy=\"921.338\" r=\"14\" fill=\"#3da44d\" fill-rule=\"evenodd\" fill-opacity=\"1\" stroke=\"#000000\" stroke-opacity=\"1\" stroke-width=\"3.2\"/>\n",
       "<circle clip-path=\"url(#clip463)\" cx=\"1317.16\" cy=\"680.086\" r=\"14\" fill=\"#3da44d\" fill-rule=\"evenodd\" fill-opacity=\"1\" stroke=\"#000000\" stroke-opacity=\"1\" stroke-width=\"3.2\"/>\n",
       "<circle clip-path=\"url(#clip463)\" cx=\"1542.14\" cy=\"717.362\" r=\"14\" fill=\"#3da44d\" fill-rule=\"evenodd\" fill-opacity=\"1\" stroke=\"#000000\" stroke-opacity=\"1\" stroke-width=\"3.2\"/>\n",
       "<circle clip-path=\"url(#clip463)\" cx=\"1623.4\" cy=\"1078.25\" r=\"14\" fill=\"#3da44d\" fill-rule=\"evenodd\" fill-opacity=\"1\" stroke=\"#000000\" stroke-opacity=\"1\" stroke-width=\"3.2\"/>\n",
       "<circle clip-path=\"url(#clip463)\" cx=\"1625.77\" cy=\"772.275\" r=\"14\" fill=\"#3da44d\" fill-rule=\"evenodd\" fill-opacity=\"1\" stroke=\"#000000\" stroke-opacity=\"1\" stroke-width=\"3.2\"/>\n",
       "<circle clip-path=\"url(#clip463)\" cx=\"1504.3\" cy=\"668.105\" r=\"14\" fill=\"#3da44d\" fill-rule=\"evenodd\" fill-opacity=\"1\" stroke=\"#000000\" stroke-opacity=\"1\" stroke-width=\"3.2\"/>\n",
       "<circle clip-path=\"url(#clip463)\" cx=\"1526.17\" cy=\"653.582\" r=\"14\" fill=\"#3da44d\" fill-rule=\"evenodd\" fill-opacity=\"1\" stroke=\"#000000\" stroke-opacity=\"1\" stroke-width=\"3.2\"/>\n",
       "<circle clip-path=\"url(#clip463)\" cx=\"1604.37\" cy=\"788.351\" r=\"14\" fill=\"#3da44d\" fill-rule=\"evenodd\" fill-opacity=\"1\" stroke=\"#000000\" stroke-opacity=\"1\" stroke-width=\"3.2\"/>\n",
       "<circle clip-path=\"url(#clip463)\" cx=\"1678.96\" cy=\"1117.01\" r=\"14\" fill=\"#3da44d\" fill-rule=\"evenodd\" fill-opacity=\"1\" stroke=\"#000000\" stroke-opacity=\"1\" stroke-width=\"3.2\"/>\n",
       "<circle clip-path=\"url(#clip463)\" cx=\"1564.78\" cy=\"700.125\" r=\"14\" fill=\"#3da44d\" fill-rule=\"evenodd\" fill-opacity=\"1\" stroke=\"#000000\" stroke-opacity=\"1\" stroke-width=\"3.2\"/>\n",
       "</svg>\n"
      ],
      "image/svg+xml": [
       "<?xml version=\"1.0\" encoding=\"utf-8\"?>\n",
       "<svg xmlns=\"http://www.w3.org/2000/svg\" xmlns:xlink=\"http://www.w3.org/1999/xlink\" width=\"600\" height=\"400\" viewBox=\"0 0 2400 1600\">\n",
       "<defs>\n",
       "  <clipPath id=\"clip430\">\n",
       "    <rect x=\"0\" y=\"0\" width=\"2400\" height=\"1600\"/>\n",
       "  </clipPath>\n",
       "</defs>\n",
       "<path clip-path=\"url(#clip430)\" d=\"\n",
       "M0 1600 L2400 1600 L2400 0 L0 0  Z\n",
       "  \" fill=\"#ffffff\" fill-rule=\"evenodd\" fill-opacity=\"1\"/>\n",
       "<defs>\n",
       "  <clipPath id=\"clip431\">\n",
       "    <rect x=\"480\" y=\"0\" width=\"1681\" height=\"1600\"/>\n",
       "  </clipPath>\n",
       "</defs>\n",
       "<path clip-path=\"url(#clip430)\" d=\"\n",
       "M86.9921 1521.01 L1152.76 1521.01 L1152.76 62.9921 L86.9921 62.9921  Z\n",
       "  \" fill=\"#ffffff\" fill-rule=\"evenodd\" fill-opacity=\"1\"/>\n",
       "<defs>\n",
       "  <clipPath id=\"clip432\">\n",
       "    <rect x=\"86\" y=\"62\" width=\"1067\" height=\"1459\"/>\n",
       "  </clipPath>\n",
       "</defs>\n",
       "<polyline clip-path=\"url(#clip432)\" style=\"stroke:#000000; stroke-width:2; stroke-opacity:0.1; fill:none\" points=\"\n",
       "  237.932,1521.01 237.932,62.9921 \n",
       "  \"/>\n",
       "<polyline clip-path=\"url(#clip432)\" style=\"stroke:#000000; stroke-width:2; stroke-opacity:0.1; fill:none\" points=\"\n",
       "  389.912,1521.01 389.912,62.9921 \n",
       "  \"/>\n",
       "<polyline clip-path=\"url(#clip432)\" style=\"stroke:#000000; stroke-width:2; stroke-opacity:0.1; fill:none\" points=\"\n",
       "  541.893,1521.01 541.893,62.9921 \n",
       "  \"/>\n",
       "<polyline clip-path=\"url(#clip432)\" style=\"stroke:#000000; stroke-width:2; stroke-opacity:0.1; fill:none\" points=\"\n",
       "  693.873,1521.01 693.873,62.9921 \n",
       "  \"/>\n",
       "<polyline clip-path=\"url(#clip432)\" style=\"stroke:#000000; stroke-width:2; stroke-opacity:0.1; fill:none\" points=\"\n",
       "  845.853,1521.01 845.853,62.9921 \n",
       "  \"/>\n",
       "<polyline clip-path=\"url(#clip432)\" style=\"stroke:#000000; stroke-width:2; stroke-opacity:0.1; fill:none\" points=\"\n",
       "  997.834,1521.01 997.834,62.9921 \n",
       "  \"/>\n",
       "<polyline clip-path=\"url(#clip432)\" style=\"stroke:#000000; stroke-width:2; stroke-opacity:0.1; fill:none\" points=\"\n",
       "  1149.81,1521.01 1149.81,62.9921 \n",
       "  \"/>\n",
       "<polyline clip-path=\"url(#clip430)\" style=\"stroke:#000000; stroke-width:4; stroke-opacity:1; fill:none\" points=\"\n",
       "  86.9921,1521.01 1152.76,1521.01 \n",
       "  \"/>\n",
       "<polyline clip-path=\"url(#clip430)\" style=\"stroke:#000000; stroke-width:4; stroke-opacity:1; fill:none\" points=\"\n",
       "  237.932,1521.01 237.932,1503.51 \n",
       "  \"/>\n",
       "<polyline clip-path=\"url(#clip430)\" style=\"stroke:#000000; stroke-width:4; stroke-opacity:1; fill:none\" points=\"\n",
       "  389.912,1521.01 389.912,1503.51 \n",
       "  \"/>\n",
       "<polyline clip-path=\"url(#clip430)\" style=\"stroke:#000000; stroke-width:4; stroke-opacity:1; fill:none\" points=\"\n",
       "  541.893,1521.01 541.893,1503.51 \n",
       "  \"/>\n",
       "<polyline clip-path=\"url(#clip430)\" style=\"stroke:#000000; stroke-width:4; stroke-opacity:1; fill:none\" points=\"\n",
       "  693.873,1521.01 693.873,1503.51 \n",
       "  \"/>\n",
       "<polyline clip-path=\"url(#clip430)\" style=\"stroke:#000000; stroke-width:4; stroke-opacity:1; fill:none\" points=\"\n",
       "  845.853,1521.01 845.853,1503.51 \n",
       "  \"/>\n",
       "<polyline clip-path=\"url(#clip430)\" style=\"stroke:#000000; stroke-width:4; stroke-opacity:1; fill:none\" points=\"\n",
       "  997.834,1521.01 997.834,1503.51 \n",
       "  \"/>\n",
       "<polyline clip-path=\"url(#clip430)\" style=\"stroke:#000000; stroke-width:4; stroke-opacity:1; fill:none\" points=\"\n",
       "  1149.81,1521.01 1149.81,1503.51 \n",
       "  \"/>\n",
       "<path clip-path=\"url(#clip430)\" d=\"M 0 0 M216.916 1558.69 L239.173 1558.69 L239.173 1561.64 L216.916 1561.64 L216.916 1558.69 Z\" fill=\"#000000\" fill-rule=\"evenodd\" fill-opacity=\"1\" /><path clip-path=\"url(#clip430)\" d=\"M 0 0 M253.6 1557.34 Q256.118 1557.87 257.524 1559.58 Q258.948 1561.28 258.948 1563.78 Q258.948 1567.61 256.309 1569.71 Q253.67 1571.82 248.809 1571.82 Q247.177 1571.82 245.441 1571.49 Q243.722 1571.17 241.882 1570.53 L241.882 1567.15 Q243.34 1568 245.076 1568.43 Q246.812 1568.86 248.705 1568.86 Q252.003 1568.86 253.722 1567.56 Q255.458 1566.26 255.458 1563.78 Q255.458 1561.49 253.843 1560.2 Q252.246 1558.9 249.382 1558.9 L246.361 1558.9 L246.361 1556.02 L249.52 1556.02 Q252.107 1556.02 253.479 1554.99 Q254.85 1553.95 254.85 1552.01 Q254.85 1550.01 253.427 1548.95 Q252.02 1547.87 249.382 1547.87 Q247.941 1547.87 246.291 1548.19 Q244.642 1548.5 242.663 1549.16 L242.663 1546.03 Q244.659 1545.48 246.396 1545.2 Q248.149 1544.92 249.694 1544.92 Q253.687 1544.92 256.014 1546.75 Q258.34 1548.55 258.34 1551.64 Q258.34 1553.79 257.107 1555.29 Q255.875 1556.76 253.6 1557.34 Z\" fill=\"#000000\" fill-rule=\"evenodd\" fill-opacity=\"1\" /><path clip-path=\"url(#clip430)\" d=\"M 0 0 M369.253 1558.69 L391.51 1558.69 L391.51 1561.64 L369.253 1561.64 L369.253 1558.69 Z\" fill=\"#000000\" fill-rule=\"evenodd\" fill-opacity=\"1\" /><path clip-path=\"url(#clip430)\" d=\"M 0 0 M398.332 1568.36 L410.572 1568.36 L410.572 1571.31 L394.114 1571.31 L394.114 1568.36 Q396.11 1566.29 399.548 1562.82 Q403.003 1559.33 403.888 1558.33 Q405.572 1556.43 406.232 1555.13 Q406.909 1553.81 406.909 1552.54 Q406.909 1550.48 405.45 1549.18 Q404.009 1547.87 401.683 1547.87 Q400.034 1547.87 398.194 1548.45 Q396.371 1549.02 394.287 1550.18 L394.287 1546.64 Q396.405 1545.79 398.246 1545.36 Q400.086 1544.92 401.614 1544.92 Q405.641 1544.92 408.037 1546.94 Q410.433 1548.95 410.433 1552.32 Q410.433 1553.92 409.825 1555.36 Q409.235 1556.78 407.655 1558.73 Q407.221 1559.23 404.895 1561.64 Q402.569 1564.04 398.332 1568.36 Z\" fill=\"#000000\" fill-rule=\"evenodd\" fill-opacity=\"1\" /><path clip-path=\"url(#clip430)\" d=\"M 0 0 M521.094 1558.69 L543.351 1558.69 L543.351 1561.64 L521.094 1561.64 L521.094 1558.69 Z\" fill=\"#000000\" fill-rule=\"evenodd\" fill-opacity=\"1\" /><path clip-path=\"url(#clip430)\" d=\"M 0 0 M547.761 1568.36 L553.49 1568.36 L553.49 1548.59 L547.257 1549.84 L547.257 1546.64 L553.455 1545.39 L556.962 1545.39 L556.962 1568.36 L562.691 1568.36 L562.691 1571.31 L547.761 1571.31 L547.761 1568.36 Z\" fill=\"#000000\" fill-rule=\"evenodd\" fill-opacity=\"1\" /><path clip-path=\"url(#clip430)\" d=\"M 0 0 M693.873 1547.7 Q691.165 1547.7 689.793 1550.37 Q688.439 1553.03 688.439 1558.38 Q688.439 1563.71 689.793 1566.38 Q691.165 1569.04 693.873 1569.04 Q696.599 1569.04 697.953 1566.38 Q699.324 1563.71 699.324 1558.38 Q699.324 1553.03 697.953 1550.37 Q696.599 1547.7 693.873 1547.7 M693.873 1544.92 Q698.231 1544.92 700.522 1548.38 Q702.831 1551.82 702.831 1558.38 Q702.831 1564.92 700.522 1568.38 Q698.231 1571.82 693.873 1571.82 Q689.515 1571.82 687.206 1568.38 Q684.915 1564.92 684.915 1558.38 Q684.915 1551.82 687.206 1548.38 Q689.515 1544.92 693.873 1544.92 Z\" fill=\"#000000\" fill-rule=\"evenodd\" fill-opacity=\"1\" /><path clip-path=\"url(#clip430)\" d=\"M 0 0 M838.64 1568.36 L844.369 1568.36 L844.369 1548.59 L838.136 1549.84 L838.136 1546.64 L844.334 1545.39 L847.841 1545.39 L847.841 1568.36 L853.57 1568.36 L853.57 1571.31 L838.64 1571.31 L838.64 1568.36 Z\" fill=\"#000000\" fill-rule=\"evenodd\" fill-opacity=\"1\" /><path clip-path=\"url(#clip430)\" d=\"M 0 0 M993.823 1568.36 L1006.06 1568.36 L1006.06 1571.31 L989.604 1571.31 L989.604 1568.36 Q991.601 1566.29 995.038 1562.82 Q998.493 1559.33 999.379 1558.33 Q1001.06 1556.43 1001.72 1555.13 Q1002.4 1553.81 1002.4 1552.54 Q1002.4 1550.48 1000.94 1549.18 Q999.5 1547.87 997.174 1547.87 Q995.525 1547.87 993.684 1548.45 Q991.861 1549.02 989.778 1550.18 L989.778 1546.64 Q991.896 1545.79 993.736 1545.36 Q995.577 1544.92 997.104 1544.92 Q1001.13 1544.92 1003.53 1546.94 Q1005.92 1548.95 1005.92 1552.32 Q1005.92 1553.92 1005.32 1555.36 Q1004.73 1556.78 1003.15 1558.73 Q1002.71 1559.23 1000.39 1561.64 Q998.059 1564.04 993.823 1568.36 Z\" fill=\"#000000\" fill-rule=\"evenodd\" fill-opacity=\"1\" /><path clip-path=\"url(#clip430)\" d=\"M 0 0 M1153 1557.34 Q1155.52 1557.87 1156.92 1559.58 Q1158.35 1561.28 1158.35 1563.78 Q1158.35 1567.61 1155.71 1569.71 Q1153.07 1571.82 1148.21 1571.82 Q1146.58 1571.82 1144.84 1571.49 Q1143.12 1571.17 1141.28 1570.53 L1141.28 1567.15 Q1142.74 1568 1144.48 1568.43 Q1146.21 1568.86 1148.1 1568.86 Q1151.4 1568.86 1153.12 1567.56 Q1154.86 1566.26 1154.86 1563.78 Q1154.86 1561.49 1153.24 1560.2 Q1151.65 1558.9 1148.78 1558.9 L1145.76 1558.9 L1145.76 1556.02 L1148.92 1556.02 Q1151.51 1556.02 1152.88 1554.99 Q1154.25 1553.95 1154.25 1552.01 Q1154.25 1550.01 1152.83 1548.95 Q1151.42 1547.87 1148.78 1547.87 Q1147.34 1547.87 1145.69 1548.19 Q1144.04 1548.5 1142.06 1549.16 L1142.06 1546.03 Q1144.06 1545.48 1145.79 1545.2 Q1147.55 1544.92 1149.09 1544.92 Q1153.09 1544.92 1155.41 1546.75 Q1157.74 1548.55 1157.74 1551.64 Q1157.74 1553.79 1156.51 1555.29 Q1155.27 1556.76 1153 1557.34 Z\" fill=\"#000000\" fill-rule=\"evenodd\" fill-opacity=\"1\" /><polyline clip-path=\"url(#clip432)\" style=\"stroke:#000000; stroke-width:2; stroke-opacity:0.1; fill:none\" points=\"\n",
       "  86.9921,1341.26 1152.76,1341.26 \n",
       "  \"/>\n",
       "<polyline clip-path=\"url(#clip432)\" style=\"stroke:#000000; stroke-width:2; stroke-opacity:0.1; fill:none\" points=\"\n",
       "  86.9921,1077.48 1152.76,1077.48 \n",
       "  \"/>\n",
       "<polyline clip-path=\"url(#clip432)\" style=\"stroke:#000000; stroke-width:2; stroke-opacity:0.1; fill:none\" points=\"\n",
       "  86.9921,813.699 1152.76,813.699 \n",
       "  \"/>\n",
       "<polyline clip-path=\"url(#clip432)\" style=\"stroke:#000000; stroke-width:2; stroke-opacity:0.1; fill:none\" points=\"\n",
       "  86.9921,549.918 1152.76,549.918 \n",
       "  \"/>\n",
       "<polyline clip-path=\"url(#clip432)\" style=\"stroke:#000000; stroke-width:2; stroke-opacity:0.1; fill:none\" points=\"\n",
       "  86.9921,286.136 1152.76,286.136 \n",
       "  \"/>\n",
       "<polyline clip-path=\"url(#clip430)\" style=\"stroke:#000000; stroke-width:4; stroke-opacity:1; fill:none\" points=\"\n",
       "  86.9921,1521.01 86.9921,62.9921 \n",
       "  \"/>\n",
       "<polyline clip-path=\"url(#clip430)\" style=\"stroke:#000000; stroke-width:4; stroke-opacity:1; fill:none\" points=\"\n",
       "  86.9921,1341.26 99.7813,1341.26 \n",
       "  \"/>\n",
       "<polyline clip-path=\"url(#clip430)\" style=\"stroke:#000000; stroke-width:4; stroke-opacity:1; fill:none\" points=\"\n",
       "  86.9921,1077.48 99.7813,1077.48 \n",
       "  \"/>\n",
       "<polyline clip-path=\"url(#clip430)\" style=\"stroke:#000000; stroke-width:4; stroke-opacity:1; fill:none\" points=\"\n",
       "  86.9921,813.699 99.7813,813.699 \n",
       "  \"/>\n",
       "<polyline clip-path=\"url(#clip430)\" style=\"stroke:#000000; stroke-width:4; stroke-opacity:1; fill:none\" points=\"\n",
       "  86.9921,549.918 99.7813,549.918 \n",
       "  \"/>\n",
       "<polyline clip-path=\"url(#clip430)\" style=\"stroke:#000000; stroke-width:4; stroke-opacity:1; fill:none\" points=\"\n",
       "  86.9921,286.136 99.7813,286.136 \n",
       "  \"/>\n",
       "<path clip-path=\"url(#clip430)\" d=\"M 0 0 M-41.4379 1341.71 L-11.7622 1341.71 L-11.7622 1345.65 L-41.4379 1345.65 L-41.4379 1341.71 Z\" fill=\"#000000\" fill-rule=\"evenodd\" fill-opacity=\"1\" /><path clip-path=\"url(#clip430)\" d=\"M 0 0 M-5.88257 1354.61 L1.75628 1354.61 L1.75628 1328.24 L-6.55386 1329.91 L-6.55386 1325.65 L1.70998 1323.98 L6.38588 1323.98 L6.38588 1354.61 L14.0247 1354.61 L14.0247 1358.54 L-5.88257 1358.54 L-5.88257 1354.61 Z\" fill=\"#000000\" fill-rule=\"evenodd\" fill-opacity=\"1\" /><path clip-path=\"url(#clip430)\" d=\"M 0 0 M19.0941 1352.66 L23.9784 1352.66 L23.9784 1358.54 L19.0941 1358.54 L19.0941 1352.66 Z\" fill=\"#000000\" fill-rule=\"evenodd\" fill-opacity=\"1\" /><path clip-path=\"url(#clip430)\" d=\"M 0 0 M39.0477 1327.06 Q35.4367 1327.06 33.608 1330.63 Q31.8024 1334.17 31.8024 1341.3 Q31.8024 1348.4 33.608 1351.97 Q35.4367 1355.51 39.0477 1355.51 Q42.682 1355.51 44.4875 1351.97 Q46.3162 1348.4 46.3162 1341.3 Q46.3162 1334.17 44.4875 1330.63 Q42.682 1327.06 39.0477 1327.06 M39.0477 1323.36 Q44.8579 1323.36 47.9134 1327.96 Q50.9921 1332.55 50.9921 1341.3 Q50.9921 1350.02 47.9134 1354.63 Q44.8579 1359.21 39.0477 1359.21 Q33.2376 1359.21 30.1589 1354.63 Q27.1034 1350.02 27.1034 1341.3 Q27.1034 1332.55 30.1589 1327.96 Q33.2376 1323.36 39.0477 1323.36 Z\" fill=\"#000000\" fill-rule=\"evenodd\" fill-opacity=\"1\" /><path clip-path=\"url(#clip430)\" d=\"M 0 0 M-41.6694 1077.93 L-11.9936 1077.93 L-11.9936 1081.87 L-41.6694 1081.87 L-41.6694 1077.93 Z\" fill=\"#000000\" fill-rule=\"evenodd\" fill-opacity=\"1\" /><path clip-path=\"url(#clip430)\" d=\"M 0 0 M3.07572 1063.28 Q-0.535376 1063.28 -2.36407 1066.84 Q-4.16962 1070.39 -4.16962 1077.52 Q-4.16962 1084.62 -2.36407 1088.19 Q-0.535376 1091.73 3.07572 1091.73 Q6.70996 1091.73 8.5155 1088.19 Q10.3442 1084.62 10.3442 1077.52 Q10.3442 1070.39 8.5155 1066.84 Q6.70996 1063.28 3.07572 1063.28 M3.07572 1059.58 Q8.88587 1059.58 11.9414 1064.18 Q15.0201 1068.77 15.0201 1077.52 Q15.0201 1086.24 11.9414 1090.85 Q8.88587 1095.43 3.07572 1095.43 Q-2.73444 1095.43 -5.81313 1090.85 Q-8.86866 1086.24 -8.86866 1077.52 Q-8.86866 1068.77 -5.81313 1064.18 Q-2.73444 1059.58 3.07572 1059.58 Z\" fill=\"#000000\" fill-rule=\"evenodd\" fill-opacity=\"1\" /><path clip-path=\"url(#clip430)\" d=\"M 0 0 M20.0895 1088.88 L24.9737 1088.88 L24.9737 1094.76 L20.0895 1094.76 L20.0895 1088.88 Z\" fill=\"#000000\" fill-rule=\"evenodd\" fill-opacity=\"1\" /><path clip-path=\"url(#clip430)\" d=\"M 0 0 M30.0895 1060.2 L48.4458 1060.2 L48.4458 1064.14 L34.3718 1064.14 L34.3718 1072.61 Q35.3904 1072.26 36.4089 1072.1 Q37.4274 1071.91 38.4459 1071.91 Q44.2329 1071.91 47.6125 1075.08 Q50.9921 1078.26 50.9921 1083.67 Q50.9921 1089.25 47.5199 1092.35 Q44.0477 1095.43 37.7283 1095.43 Q35.5524 1095.43 33.2839 1095.06 Q31.0385 1094.69 28.6311 1093.95 L28.6311 1089.25 Q30.7145 1090.39 32.9367 1090.94 Q35.1589 1091.5 37.6357 1091.5 Q41.6403 1091.5 43.9783 1089.39 Q46.3162 1087.28 46.3162 1083.67 Q46.3162 1080.06 43.9783 1077.96 Q41.6403 1075.85 37.6357 1075.85 Q35.7607 1075.85 33.8857 1076.27 Q32.0339 1076.68 30.0895 1077.56 L30.0895 1060.2 Z\" fill=\"#000000\" fill-rule=\"evenodd\" fill-opacity=\"1\" /><path clip-path=\"url(#clip430)\" d=\"M 0 0 M2.08035 799.498 Q-1.53074 799.498 -3.35943 803.063 Q-5.16498 806.604 -5.16498 813.734 Q-5.16498 820.84 -3.35943 824.405 Q-1.53074 827.947 2.08035 827.947 Q5.71459 827.947 7.52014 824.405 Q9.34883 820.84 9.34883 813.734 Q9.34883 806.604 7.52014 803.063 Q5.71459 799.498 2.08035 799.498 M2.08035 795.794 Q7.89051 795.794 10.946 800.401 Q14.0247 804.984 14.0247 813.734 Q14.0247 822.461 10.946 827.067 Q7.89051 831.651 2.08035 831.651 Q-3.7298 831.651 -6.80849 827.067 Q-9.86403 822.461 -9.86403 813.734 Q-9.86403 804.984 -6.80849 800.401 Q-3.7298 795.794 2.08035 795.794 Z\" fill=\"#000000\" fill-rule=\"evenodd\" fill-opacity=\"1\" /><path clip-path=\"url(#clip430)\" d=\"M 0 0 M19.0941 825.1 L23.9784 825.1 L23.9784 830.979 L19.0941 830.979 L19.0941 825.1 Z\" fill=\"#000000\" fill-rule=\"evenodd\" fill-opacity=\"1\" /><path clip-path=\"url(#clip430)\" d=\"M 0 0 M39.0477 799.498 Q35.4367 799.498 33.608 803.063 Q31.8024 806.604 31.8024 813.734 Q31.8024 820.84 33.608 824.405 Q35.4367 827.947 39.0477 827.947 Q42.682 827.947 44.4875 824.405 Q46.3162 820.84 46.3162 813.734 Q46.3162 806.604 44.4875 803.063 Q42.682 799.498 39.0477 799.498 M39.0477 795.794 Q44.8579 795.794 47.9134 800.401 Q50.9921 804.984 50.9921 813.734 Q50.9921 822.461 47.9134 827.067 Q44.8579 831.651 39.0477 831.651 Q33.2376 831.651 30.1589 827.067 Q27.1034 822.461 27.1034 813.734 Q27.1034 804.984 30.1589 800.401 Q33.2376 795.794 39.0477 795.794 Z\" fill=\"#000000\" fill-rule=\"evenodd\" fill-opacity=\"1\" /><path clip-path=\"url(#clip430)\" d=\"M 0 0 M3.07572 535.717 Q-0.535376 535.717 -2.36407 539.281 Q-4.16962 542.823 -4.16962 549.953 Q-4.16962 557.059 -2.36407 560.624 Q-0.535376 564.165 3.07572 564.165 Q6.70996 564.165 8.5155 560.624 Q10.3442 557.059 10.3442 549.953 Q10.3442 542.823 8.5155 539.281 Q6.70996 535.717 3.07572 535.717 M3.07572 532.013 Q8.88587 532.013 11.9414 536.619 Q15.0201 541.203 15.0201 549.953 Q15.0201 558.679 11.9414 563.286 Q8.88587 567.869 3.07572 567.869 Q-2.73444 567.869 -5.81313 563.286 Q-8.86866 558.679 -8.86866 549.953 Q-8.86866 541.203 -5.81313 536.619 Q-2.73444 532.013 3.07572 532.013 Z\" fill=\"#000000\" fill-rule=\"evenodd\" fill-opacity=\"1\" /><path clip-path=\"url(#clip430)\" d=\"M 0 0 M20.0895 561.318 L24.9737 561.318 L24.9737 567.198 L20.0895 567.198 L20.0895 561.318 Z\" fill=\"#000000\" fill-rule=\"evenodd\" fill-opacity=\"1\" /><path clip-path=\"url(#clip430)\" d=\"M 0 0 M30.0895 532.638 L48.4458 532.638 L48.4458 536.573 L34.3718 536.573 L34.3718 545.045 Q35.3904 544.698 36.4089 544.536 Q37.4274 544.351 38.4459 544.351 Q44.2329 544.351 47.6125 547.522 Q50.9921 550.693 50.9921 556.11 Q50.9921 561.689 47.5199 564.79 Q44.0477 567.869 37.7283 567.869 Q35.5524 567.869 33.2839 567.499 Q31.0385 567.128 28.6311 566.388 L28.6311 561.689 Q30.7145 562.823 32.9367 563.378 Q35.1589 563.934 37.6357 563.934 Q41.6403 563.934 43.9783 561.827 Q46.3162 559.721 46.3162 556.11 Q46.3162 552.499 43.9783 550.392 Q41.6403 548.286 37.6357 548.286 Q35.7607 548.286 33.8857 548.703 Q32.0339 549.119 30.0895 549.999 L30.0895 532.638 Z\" fill=\"#000000\" fill-rule=\"evenodd\" fill-opacity=\"1\" /><path clip-path=\"url(#clip430)\" d=\"M 0 0 M-5.88257 299.481 L1.75628 299.481 L1.75628 273.116 L-6.55386 274.782 L-6.55386 270.523 L1.70998 268.856 L6.38588 268.856 L6.38588 299.481 L14.0247 299.481 L14.0247 303.416 L-5.88257 303.416 L-5.88257 299.481 Z\" fill=\"#000000\" fill-rule=\"evenodd\" fill-opacity=\"1\" /><path clip-path=\"url(#clip430)\" d=\"M 0 0 M19.0941 297.537 L23.9784 297.537 L23.9784 303.416 L19.0941 303.416 L19.0941 297.537 Z\" fill=\"#000000\" fill-rule=\"evenodd\" fill-opacity=\"1\" /><path clip-path=\"url(#clip430)\" d=\"M 0 0 M39.0477 271.935 Q35.4367 271.935 33.608 275.5 Q31.8024 279.041 31.8024 286.171 Q31.8024 293.278 33.608 296.842 Q35.4367 300.384 39.0477 300.384 Q42.682 300.384 44.4875 296.842 Q46.3162 293.278 46.3162 286.171 Q46.3162 279.041 44.4875 275.5 Q42.682 271.935 39.0477 271.935 M39.0477 268.231 Q44.8579 268.231 47.9134 272.838 Q50.9921 277.421 50.9921 286.171 Q50.9921 294.898 47.9134 299.504 Q44.8579 304.088 39.0477 304.088 Q33.2376 304.088 30.1589 299.504 Q27.1034 294.898 27.1034 286.171 Q27.1034 277.421 30.1589 272.838 Q33.2376 268.231 39.0477 268.231 Z\" fill=\"#000000\" fill-rule=\"evenodd\" fill-opacity=\"1\" /><path clip-path=\"url(#clip430)\" d=\"M 0 0 M410.581 6.912 L430.442 6.912 L430.442 10.8472 L415.257 10.8472 L415.257 21.0323 L428.961 21.0323 L428.961 24.9675 L415.257 24.9675 L415.257 41.472 L410.581 41.472 L410.581 6.912 Z\" fill=\"#000000\" fill-rule=\"evenodd\" fill-opacity=\"1\" /><path clip-path=\"url(#clip430)\" d=\"M 0 0 M431.877 31.2406 L431.877 15.5462 L436.137 15.5462 L436.137 31.0785 Q436.137 34.7591 437.572 36.6109 Q439.007 38.4396 441.877 38.4396 Q445.326 38.4396 447.317 36.2405 Q449.331 34.0415 449.331 30.2452 L449.331 15.5462 L453.59 15.5462 L453.59 41.472 L449.331 41.472 L449.331 37.4905 Q447.78 39.8516 445.72 41.009 Q443.683 42.1433 440.975 42.1433 Q436.507 42.1433 434.192 39.3655 Q431.877 36.5878 431.877 31.2406 M442.595 14.9212 L442.595 14.9212 Z\" fill=\"#000000\" fill-rule=\"evenodd\" fill-opacity=\"1\" /><path clip-path=\"url(#clip430)\" d=\"M 0 0 M456.206 15.5462 L476.437 15.5462 L476.437 19.4351 L460.419 38.0692 L476.437 38.0692 L476.437 41.472 L455.627 41.472 L455.627 37.5831 L471.646 18.949 L456.206 18.949 L456.206 15.5462 Z\" fill=\"#000000\" fill-rule=\"evenodd\" fill-opacity=\"1\" /><path clip-path=\"url(#clip430)\" d=\"M 0 0 M479.053 15.5462 L499.284 15.5462 L499.284 19.4351 L483.266 38.0692 L499.284 38.0692 L499.284 41.472 L478.474 41.472 L478.474 37.5831 L494.493 18.949 L479.053 18.949 L479.053 15.5462 Z\" fill=\"#000000\" fill-rule=\"evenodd\" fill-opacity=\"1\" /><path clip-path=\"url(#clip430)\" d=\"M 0 0 M514.539 43.8794 Q512.733 48.509 511.02 49.921 Q509.307 51.3331 506.437 51.3331 L503.034 51.3331 L503.034 47.7683 L505.534 47.7683 Q507.294 47.7683 508.266 46.9349 Q509.238 46.1016 510.419 42.9998 L511.182 41.0553 L500.696 15.5462 L505.21 15.5462 L513.312 35.8239 L521.414 15.5462 L525.928 15.5462 L514.539 43.8794 Z\" fill=\"#000000\" fill-rule=\"evenodd\" fill-opacity=\"1\" /><path clip-path=\"url(#clip430)\" d=\"M 0 0 M542.131 11.5185 L535.789 28.7174 L548.497 28.7174 L542.131 11.5185 M539.493 6.912 L544.793 6.912 L557.965 41.472 L553.104 41.472 L549.955 32.6063 L534.377 32.6063 L531.229 41.472 L526.298 41.472 L539.493 6.912 Z\" fill=\"#000000\" fill-rule=\"evenodd\" fill-opacity=\"1\" /><path clip-path=\"url(#clip430)\" d=\"M 0 0 M579.006 25.2684 Q580.511 25.7776 581.923 27.4443 Q583.358 29.111 584.793 32.0276 L589.539 41.472 L584.515 41.472 L580.094 32.6063 Q578.381 29.1341 576.761 27.9998 Q575.164 26.8656 572.386 26.8656 L567.293 26.8656 L567.293 41.472 L562.617 41.472 L562.617 6.912 L573.173 6.912 Q579.099 6.912 582.015 9.38884 Q584.932 11.8657 584.932 16.8657 Q584.932 20.1295 583.404 22.2823 Q581.9 24.4351 579.006 25.2684 M567.293 10.7546 L567.293 23.023 L573.173 23.023 Q576.552 23.023 578.265 21.4721 Q580.002 19.898 580.002 16.8657 Q580.002 13.8333 578.265 12.3055 Q576.552 10.7546 573.173 10.7546 L567.293 10.7546 Z\" fill=\"#000000\" fill-rule=\"evenodd\" fill-opacity=\"1\" /><path clip-path=\"url(#clip430)\" d=\"M 0 0 M585.951 6.912 L615.187 6.912 L615.187 10.8472 L602.918 10.8472 L602.918 41.472 L598.219 41.472 L598.219 10.8472 L585.951 10.8472 L585.951 6.912 Z\" fill=\"#000000\" fill-rule=\"evenodd\" fill-opacity=\"1\" /><path clip-path=\"url(#clip430)\" d=\"M 0 0 M649.747 19.5277 Q649.029 19.111 648.172 18.9258 Q647.339 18.7175 646.321 18.7175 Q642.71 18.7175 640.765 21.0786 Q638.844 23.4165 638.844 27.8147 L638.844 41.472 L634.561 41.472 L634.561 15.5462 L638.844 15.5462 L638.844 19.574 Q640.186 17.2129 642.339 16.0786 Q644.492 14.9212 647.571 14.9212 Q648.01 14.9212 648.543 14.9907 Q649.075 15.037 649.723 15.1527 L649.747 19.5277 Z\" fill=\"#000000\" fill-rule=\"evenodd\" fill-opacity=\"1\" /><path clip-path=\"url(#clip430)\" d=\"M 0 0 M674.932 25.8239 L674.932 41.472 L670.672 41.472 L670.672 25.9628 Q670.672 22.2823 669.237 20.4536 Q667.802 18.6249 664.932 18.6249 Q661.483 18.6249 659.492 20.824 Q657.501 23.023 657.501 26.8193 L657.501 41.472 L653.219 41.472 L653.219 5.45367 L657.501 5.45367 L657.501 19.574 Q659.029 17.236 661.089 16.0786 Q663.172 14.9212 665.881 14.9212 Q670.348 14.9212 672.64 17.699 Q674.932 20.4536 674.932 25.8239 Z\" fill=\"#000000\" fill-rule=\"evenodd\" fill-opacity=\"1\" /><path clip-path=\"url(#clip430)\" d=\"M 0 0 M689.445 18.5323 Q686.019 18.5323 684.029 21.2175 Q682.038 23.8795 682.038 28.5323 Q682.038 33.185 684.006 35.8702 Q685.996 38.5322 689.445 38.5322 Q692.848 38.5322 694.839 35.847 Q696.83 33.1619 696.83 28.5323 Q696.83 23.9258 694.839 21.2406 Q692.848 18.5323 689.445 18.5323 M689.445 14.9212 Q695.001 14.9212 698.172 18.5323 Q701.343 22.1434 701.343 28.5323 Q701.343 34.898 698.172 38.5322 Q695.001 42.1433 689.445 42.1433 Q683.867 42.1433 680.695 38.5322 Q677.547 34.898 677.547 28.5323 Q677.547 22.1434 680.695 18.5323 Q683.867 14.9212 689.445 14.9212 Z\" fill=\"#000000\" fill-rule=\"evenodd\" fill-opacity=\"1\" /><path clip-path=\"url(#clip430)\" d=\"M 0 0 M721.436 19.9443 L751.112 19.9443 L751.112 23.8332 L721.436 23.8332 L721.436 19.9443 M721.436 29.3887 L751.112 29.3887 L751.112 33.3239 L721.436 33.3239 L721.436 29.3887 Z\" fill=\"#000000\" fill-rule=\"evenodd\" fill-opacity=\"1\" /><path clip-path=\"url(#clip430)\" d=\"M 0 0 M781.25 9.99069 Q777.639 9.99069 775.811 13.5555 Q774.005 17.0971 774.005 24.2267 Q774.005 31.3332 775.811 34.898 Q777.639 38.4396 781.25 38.4396 Q784.885 38.4396 786.69 34.898 Q788.519 31.3332 788.519 24.2267 Q788.519 17.0971 786.69 13.5555 Q784.885 9.99069 781.25 9.99069 M781.25 6.287 Q787.061 6.287 790.116 10.8935 Q793.195 15.4768 793.195 24.2267 Q793.195 32.9535 790.116 37.56 Q787.061 42.1433 781.25 42.1433 Q775.44 42.1433 772.362 37.56 Q769.306 32.9535 769.306 24.2267 Q769.306 15.4768 772.362 10.8935 Q775.44 6.287 781.25 6.287 Z\" fill=\"#000000\" fill-rule=\"evenodd\" fill-opacity=\"1\" /><path clip-path=\"url(#clip430)\" d=\"M 0 0 M798.264 35.5924 L803.148 35.5924 L803.148 41.472 L798.264 41.472 L798.264 35.5924 Z\" fill=\"#000000\" fill-rule=\"evenodd\" fill-opacity=\"1\" /><path clip-path=\"url(#clip430)\" d=\"M 0 0 M808.264 6.912 L826.621 6.912 L826.621 10.8472 L812.547 10.8472 L812.547 19.3193 Q813.565 18.9721 814.584 18.8101 Q815.602 18.6249 816.621 18.6249 Q822.408 18.6249 825.787 21.7962 Q829.167 24.9675 829.167 30.3841 Q829.167 35.9628 825.695 39.0646 Q822.222 42.1433 815.903 42.1433 Q813.727 42.1433 811.459 41.7729 Q809.213 41.4026 806.806 40.6618 L806.806 35.9628 Q808.889 37.097 811.111 37.6526 Q813.334 38.2081 815.81 38.2081 Q819.815 38.2081 822.153 36.1017 Q824.491 33.9952 824.491 30.3841 Q824.491 26.773 822.153 24.6665 Q819.815 22.5601 815.81 22.5601 Q813.935 22.5601 812.06 22.9767 Q810.209 23.3934 808.264 24.273 L808.264 6.912 Z\" fill=\"#000000\" fill-rule=\"evenodd\" fill-opacity=\"1\" /><circle clip-path=\"url(#clip432)\" cx=\"1108.57\" cy=\"637.533\" r=\"14\" fill=\"#009af9\" fill-rule=\"evenodd\" fill-opacity=\"1\" stroke=\"#000000\" stroke-opacity=\"1\" stroke-width=\"3.2\"/>\n",
       "<circle clip-path=\"url(#clip432)\" cx=\"1075.03\" cy=\"887.06\" r=\"14\" fill=\"#009af9\" fill-rule=\"evenodd\" fill-opacity=\"1\" stroke=\"#000000\" stroke-opacity=\"1\" stroke-width=\"3.2\"/>\n",
       "<circle clip-path=\"url(#clip432)\" cx=\"1093.05\" cy=\"723.8\" r=\"14\" fill=\"#009af9\" fill-rule=\"evenodd\" fill-opacity=\"1\" stroke=\"#000000\" stroke-opacity=\"1\" stroke-width=\"3.2\"/>\n",
       "<circle clip-path=\"url(#clip432)\" cx=\"1069.12\" cy=\"740.955\" r=\"14\" fill=\"#009af9\" fill-rule=\"evenodd\" fill-opacity=\"1\" stroke=\"#000000\" stroke-opacity=\"1\" stroke-width=\"3.2\"/>\n",
       "<circle clip-path=\"url(#clip432)\" cx=\"1056.17\" cy=\"104.257\" r=\"14\" fill=\"#009af9\" fill-rule=\"evenodd\" fill-opacity=\"1\" stroke=\"#000000\" stroke-opacity=\"1\" stroke-width=\"3.2\"/>\n",
       "<circle clip-path=\"url(#clip432)\" cx=\"1106.6\" cy=\"941.729\" r=\"14\" fill=\"#009af9\" fill-rule=\"evenodd\" fill-opacity=\"1\" stroke=\"#000000\" stroke-opacity=\"1\" stroke-width=\"3.2\"/>\n",
       "<circle clip-path=\"url(#clip432)\" cx=\"1028.09\" cy=\"349.843\" r=\"14\" fill=\"#009af9\" fill-rule=\"evenodd\" fill-opacity=\"1\" stroke=\"#000000\" stroke-opacity=\"1\" stroke-width=\"3.2\"/>\n",
       "<circle clip-path=\"url(#clip432)\" cx=\"1087.27\" cy=\"917.837\" r=\"14\" fill=\"#009af9\" fill-rule=\"evenodd\" fill-opacity=\"1\" stroke=\"#000000\" stroke-opacity=\"1\" stroke-width=\"3.2\"/>\n",
       "<circle clip-path=\"url(#clip432)\" cx=\"1080.31\" cy=\"504.399\" r=\"14\" fill=\"#009af9\" fill-rule=\"evenodd\" fill-opacity=\"1\" stroke=\"#000000\" stroke-opacity=\"1\" stroke-width=\"3.2\"/>\n",
       "<circle clip-path=\"url(#clip432)\" cx=\"1117.51\" cy=\"933.847\" r=\"14\" fill=\"#009af9\" fill-rule=\"evenodd\" fill-opacity=\"1\" stroke=\"#000000\" stroke-opacity=\"1\" stroke-width=\"3.2\"/>\n",
       "<circle clip-path=\"url(#clip432)\" cx=\"1092.86\" cy=\"493.574\" r=\"14\" fill=\"#009af9\" fill-rule=\"evenodd\" fill-opacity=\"1\" stroke=\"#000000\" stroke-opacity=\"1\" stroke-width=\"3.2\"/>\n",
       "<circle clip-path=\"url(#clip432)\" cx=\"1100.24\" cy=\"869.986\" r=\"14\" fill=\"#009af9\" fill-rule=\"evenodd\" fill-opacity=\"1\" stroke=\"#000000\" stroke-opacity=\"1\" stroke-width=\"3.2\"/>\n",
       "<circle clip-path=\"url(#clip432)\" cx=\"1092.45\" cy=\"382.105\" r=\"14\" fill=\"#009af9\" fill-rule=\"evenodd\" fill-opacity=\"1\" stroke=\"#000000\" stroke-opacity=\"1\" stroke-width=\"3.2\"/>\n",
       "<circle clip-path=\"url(#clip432)\" cx=\"1074.82\" cy=\"469.763\" r=\"14\" fill=\"#009af9\" fill-rule=\"evenodd\" fill-opacity=\"1\" stroke=\"#000000\" stroke-opacity=\"1\" stroke-width=\"3.2\"/>\n",
       "<circle clip-path=\"url(#clip432)\" cx=\"1122.59\" cy=\"857.015\" r=\"14\" fill=\"#009af9\" fill-rule=\"evenodd\" fill-opacity=\"1\" stroke=\"#000000\" stroke-opacity=\"1\" stroke-width=\"3.2\"/>\n",
       "<circle clip-path=\"url(#clip432)\" cx=\"720.449\" cy=\"946.548\" r=\"14\" fill=\"#e26f46\" fill-rule=\"evenodd\" fill-opacity=\"1\" stroke=\"#000000\" stroke-opacity=\"1\" stroke-width=\"3.2\"/>\n",
       "<circle clip-path=\"url(#clip432)\" cx=\"648.612\" cy=\"996.772\" r=\"14\" fill=\"#e26f46\" fill-rule=\"evenodd\" fill-opacity=\"1\" stroke=\"#000000\" stroke-opacity=\"1\" stroke-width=\"3.2\"/>\n",
       "<circle clip-path=\"url(#clip432)\" cx=\"508.392\" cy=\"598.435\" r=\"14\" fill=\"#e26f46\" fill-rule=\"evenodd\" fill-opacity=\"1\" stroke=\"#000000\" stroke-opacity=\"1\" stroke-width=\"3.2\"/>\n",
       "<circle clip-path=\"url(#clip432)\" cx=\"771.548\" cy=\"1479.74\" r=\"14\" fill=\"#e26f46\" fill-rule=\"evenodd\" fill-opacity=\"1\" stroke=\"#000000\" stroke-opacity=\"1\" stroke-width=\"3.2\"/>\n",
       "<circle clip-path=\"url(#clip432)\" cx=\"528.65\" cy=\"773.926\" r=\"14\" fill=\"#e26f46\" fill-rule=\"evenodd\" fill-opacity=\"1\" stroke=\"#000000\" stroke-opacity=\"1\" stroke-width=\"3.2\"/>\n",
       "<circle clip-path=\"url(#clip432)\" cx=\"673.356\" cy=\"978.146\" r=\"14\" fill=\"#e26f46\" fill-rule=\"evenodd\" fill-opacity=\"1\" stroke=\"#000000\" stroke-opacity=\"1\" stroke-width=\"3.2\"/>\n",
       "<circle clip-path=\"url(#clip432)\" cx=\"491.581\" cy=\"684.621\" r=\"14\" fill=\"#e26f46\" fill-rule=\"evenodd\" fill-opacity=\"1\" stroke=\"#000000\" stroke-opacity=\"1\" stroke-width=\"3.2\"/>\n",
       "<circle clip-path=\"url(#clip432)\" cx=\"614.937\" cy=\"1442.21\" r=\"14\" fill=\"#e26f46\" fill-rule=\"evenodd\" fill-opacity=\"1\" stroke=\"#000000\" stroke-opacity=\"1\" stroke-width=\"3.2\"/>\n",
       "<circle clip-path=\"url(#clip432)\" cx=\"636.844\" cy=\"967.548\" r=\"14\" fill=\"#e26f46\" fill-rule=\"evenodd\" fill-opacity=\"1\" stroke=\"#000000\" stroke-opacity=\"1\" stroke-width=\"3.2\"/>\n",
       "<circle clip-path=\"url(#clip432)\" cx=\"656.608\" cy=\"954.415\" r=\"14\" fill=\"#e26f46\" fill-rule=\"evenodd\" fill-opacity=\"1\" stroke=\"#000000\" stroke-opacity=\"1\" stroke-width=\"3.2\"/>\n",
       "<circle clip-path=\"url(#clip432)\" cx=\"687.3\" cy=\"1120.47\" r=\"14\" fill=\"#e26f46\" fill-rule=\"evenodd\" fill-opacity=\"1\" stroke=\"#000000\" stroke-opacity=\"1\" stroke-width=\"3.2\"/>\n",
       "<circle clip-path=\"url(#clip432)\" cx=\"585.358\" cy=\"734.365\" r=\"14\" fill=\"#e26f46\" fill-rule=\"evenodd\" fill-opacity=\"1\" stroke=\"#000000\" stroke-opacity=\"1\" stroke-width=\"3.2\"/>\n",
       "<circle clip-path=\"url(#clip432)\" cx=\"666.369\" cy=\"1249.26\" r=\"14\" fill=\"#e26f46\" fill-rule=\"evenodd\" fill-opacity=\"1\" stroke=\"#000000\" stroke-opacity=\"1\" stroke-width=\"3.2\"/>\n",
       "<circle clip-path=\"url(#clip432)\" cx=\"643.548\" cy=\"925.11\" r=\"14\" fill=\"#e26f46\" fill-rule=\"evenodd\" fill-opacity=\"1\" stroke=\"#000000\" stroke-opacity=\"1\" stroke-width=\"3.2\"/>\n",
       "<circle clip-path=\"url(#clip432)\" cx=\"808.081\" cy=\"1341.85\" r=\"14\" fill=\"#e26f46\" fill-rule=\"evenodd\" fill-opacity=\"1\" stroke=\"#000000\" stroke-opacity=\"1\" stroke-width=\"3.2\"/>\n",
       "<circle clip-path=\"url(#clip432)\" cx=\"474.55\" cy=\"889.564\" r=\"14\" fill=\"#e26f46\" fill-rule=\"evenodd\" fill-opacity=\"1\" stroke=\"#000000\" stroke-opacity=\"1\" stroke-width=\"3.2\"/>\n",
       "<circle clip-path=\"url(#clip432)\" cx=\"324.839\" cy=\"614.923\" r=\"14\" fill=\"#3da44d\" fill-rule=\"evenodd\" fill-opacity=\"1\" stroke=\"#000000\" stroke-opacity=\"1\" stroke-width=\"3.2\"/>\n",
       "<circle clip-path=\"url(#clip432)\" cx=\"482.975\" cy=\"921.338\" r=\"14\" fill=\"#3da44d\" fill-rule=\"evenodd\" fill-opacity=\"1\" stroke=\"#000000\" stroke-opacity=\"1\" stroke-width=\"3.2\"/>\n",
       "<circle clip-path=\"url(#clip432)\" cx=\"117.155\" cy=\"680.086\" r=\"14\" fill=\"#3da44d\" fill-rule=\"evenodd\" fill-opacity=\"1\" stroke=\"#000000\" stroke-opacity=\"1\" stroke-width=\"3.2\"/>\n",
       "<circle clip-path=\"url(#clip432)\" cx=\"367.877\" cy=\"740.417\" r=\"14\" fill=\"#3da44d\" fill-rule=\"evenodd\" fill-opacity=\"1\" stroke=\"#000000\" stroke-opacity=\"1\" stroke-width=\"3.2\"/>\n",
       "<circle clip-path=\"url(#clip432)\" cx=\"527.42\" cy=\"663.929\" r=\"14\" fill=\"#3da44d\" fill-rule=\"evenodd\" fill-opacity=\"1\" stroke=\"#000000\" stroke-opacity=\"1\" stroke-width=\"3.2\"/>\n",
       "<circle clip-path=\"url(#clip432)\" cx=\"342.144\" cy=\"717.362\" r=\"14\" fill=\"#3da44d\" fill-rule=\"evenodd\" fill-opacity=\"1\" stroke=\"#000000\" stroke-opacity=\"1\" stroke-width=\"3.2\"/>\n",
       "<circle clip-path=\"url(#clip432)\" cx=\"423.403\" cy=\"1078.25\" r=\"14\" fill=\"#3da44d\" fill-rule=\"evenodd\" fill-opacity=\"1\" stroke=\"#000000\" stroke-opacity=\"1\" stroke-width=\"3.2\"/>\n",
       "<circle clip-path=\"url(#clip432)\" cx=\"452.944\" cy=\"1098.22\" r=\"14\" fill=\"#3da44d\" fill-rule=\"evenodd\" fill-opacity=\"1\" stroke=\"#000000\" stroke-opacity=\"1\" stroke-width=\"3.2\"/>\n",
       "<circle clip-path=\"url(#clip432)\" cx=\"425.773\" cy=\"772.275\" r=\"14\" fill=\"#3da44d\" fill-rule=\"evenodd\" fill-opacity=\"1\" stroke=\"#000000\" stroke-opacity=\"1\" stroke-width=\"3.2\"/>\n",
       "<circle clip-path=\"url(#clip432)\" cx=\"304.298\" cy=\"668.105\" r=\"14\" fill=\"#3da44d\" fill-rule=\"evenodd\" fill-opacity=\"1\" stroke=\"#000000\" stroke-opacity=\"1\" stroke-width=\"3.2\"/>\n",
       "<circle clip-path=\"url(#clip432)\" cx=\"326.173\" cy=\"653.582\" r=\"14\" fill=\"#3da44d\" fill-rule=\"evenodd\" fill-opacity=\"1\" stroke=\"#000000\" stroke-opacity=\"1\" stroke-width=\"3.2\"/>\n",
       "<circle clip-path=\"url(#clip432)\" cx=\"404.371\" cy=\"788.351\" r=\"14\" fill=\"#3da44d\" fill-rule=\"evenodd\" fill-opacity=\"1\" stroke=\"#000000\" stroke-opacity=\"1\" stroke-width=\"3.2\"/>\n",
       "<circle clip-path=\"url(#clip432)\" cx=\"478.962\" cy=\"1117.01\" r=\"14\" fill=\"#3da44d\" fill-rule=\"evenodd\" fill-opacity=\"1\" stroke=\"#000000\" stroke-opacity=\"1\" stroke-width=\"3.2\"/>\n",
       "<circle clip-path=\"url(#clip432)\" cx=\"364.778\" cy=\"700.125\" r=\"14\" fill=\"#3da44d\" fill-rule=\"evenodd\" fill-opacity=\"1\" stroke=\"#000000\" stroke-opacity=\"1\" stroke-width=\"3.2\"/>\n",
       "<path clip-path=\"url(#clip430)\" d=\"\n",
       "M1286.99 1521.01 L2352.76 1521.01 L2352.76 62.9921 L1286.99 62.9921  Z\n",
       "  \" fill=\"#ffffff\" fill-rule=\"evenodd\" fill-opacity=\"1\"/>\n",
       "<defs>\n",
       "  <clipPath id=\"clip433\">\n",
       "    <rect x=\"1286\" y=\"62\" width=\"1067\" height=\"1459\"/>\n",
       "  </clipPath>\n",
       "</defs>\n",
       "<polyline clip-path=\"url(#clip433)\" style=\"stroke:#000000; stroke-width:2; stroke-opacity:0.1; fill:none\" points=\"\n",
       "  1437.93,1521.01 1437.93,62.9921 \n",
       "  \"/>\n",
       "<polyline clip-path=\"url(#clip433)\" style=\"stroke:#000000; stroke-width:2; stroke-opacity:0.1; fill:none\" points=\"\n",
       "  1589.91,1521.01 1589.91,62.9921 \n",
       "  \"/>\n",
       "<polyline clip-path=\"url(#clip433)\" style=\"stroke:#000000; stroke-width:2; stroke-opacity:0.1; fill:none\" points=\"\n",
       "  1741.89,1521.01 1741.89,62.9921 \n",
       "  \"/>\n",
       "<polyline clip-path=\"url(#clip433)\" style=\"stroke:#000000; stroke-width:2; stroke-opacity:0.1; fill:none\" points=\"\n",
       "  1893.87,1521.01 1893.87,62.9921 \n",
       "  \"/>\n",
       "<polyline clip-path=\"url(#clip433)\" style=\"stroke:#000000; stroke-width:2; stroke-opacity:0.1; fill:none\" points=\"\n",
       "  2045.85,1521.01 2045.85,62.9921 \n",
       "  \"/>\n",
       "<polyline clip-path=\"url(#clip433)\" style=\"stroke:#000000; stroke-width:2; stroke-opacity:0.1; fill:none\" points=\"\n",
       "  2197.83,1521.01 2197.83,62.9921 \n",
       "  \"/>\n",
       "<polyline clip-path=\"url(#clip433)\" style=\"stroke:#000000; stroke-width:2; stroke-opacity:0.1; fill:none\" points=\"\n",
       "  2349.81,1521.01 2349.81,62.9921 \n",
       "  \"/>\n",
       "<polyline clip-path=\"url(#clip430)\" style=\"stroke:#000000; stroke-width:4; stroke-opacity:1; fill:none\" points=\"\n",
       "  1286.99,1521.01 2352.76,1521.01 \n",
       "  \"/>\n",
       "<polyline clip-path=\"url(#clip430)\" style=\"stroke:#000000; stroke-width:4; stroke-opacity:1; fill:none\" points=\"\n",
       "  1437.93,1521.01 1437.93,1503.51 \n",
       "  \"/>\n",
       "<polyline clip-path=\"url(#clip430)\" style=\"stroke:#000000; stroke-width:4; stroke-opacity:1; fill:none\" points=\"\n",
       "  1589.91,1521.01 1589.91,1503.51 \n",
       "  \"/>\n",
       "<polyline clip-path=\"url(#clip430)\" style=\"stroke:#000000; stroke-width:4; stroke-opacity:1; fill:none\" points=\"\n",
       "  1741.89,1521.01 1741.89,1503.51 \n",
       "  \"/>\n",
       "<polyline clip-path=\"url(#clip430)\" style=\"stroke:#000000; stroke-width:4; stroke-opacity:1; fill:none\" points=\"\n",
       "  1893.87,1521.01 1893.87,1503.51 \n",
       "  \"/>\n",
       "<polyline clip-path=\"url(#clip430)\" style=\"stroke:#000000; stroke-width:4; stroke-opacity:1; fill:none\" points=\"\n",
       "  2045.85,1521.01 2045.85,1503.51 \n",
       "  \"/>\n",
       "<polyline clip-path=\"url(#clip430)\" style=\"stroke:#000000; stroke-width:4; stroke-opacity:1; fill:none\" points=\"\n",
       "  2197.83,1521.01 2197.83,1503.51 \n",
       "  \"/>\n",
       "<polyline clip-path=\"url(#clip430)\" style=\"stroke:#000000; stroke-width:4; stroke-opacity:1; fill:none\" points=\"\n",
       "  2349.81,1521.01 2349.81,1503.51 \n",
       "  \"/>\n",
       "<path clip-path=\"url(#clip430)\" d=\"M 0 0 M1416.92 1558.69 L1439.17 1558.69 L1439.17 1561.64 L1416.92 1561.64 L1416.92 1558.69 Z\" fill=\"#000000\" fill-rule=\"evenodd\" fill-opacity=\"1\" /><path clip-path=\"url(#clip430)\" d=\"M 0 0 M1453.6 1557.34 Q1456.12 1557.87 1457.52 1559.58 Q1458.95 1561.28 1458.95 1563.78 Q1458.95 1567.61 1456.31 1569.71 Q1453.67 1571.82 1448.81 1571.82 Q1447.18 1571.82 1445.44 1571.49 Q1443.72 1571.17 1441.88 1570.53 L1441.88 1567.15 Q1443.34 1568 1445.08 1568.43 Q1446.81 1568.86 1448.7 1568.86 Q1452 1568.86 1453.72 1567.56 Q1455.46 1566.26 1455.46 1563.78 Q1455.46 1561.49 1453.84 1560.2 Q1452.25 1558.9 1449.38 1558.9 L1446.36 1558.9 L1446.36 1556.02 L1449.52 1556.02 Q1452.11 1556.02 1453.48 1554.99 Q1454.85 1553.95 1454.85 1552.01 Q1454.85 1550.01 1453.43 1548.95 Q1452.02 1547.87 1449.38 1547.87 Q1447.94 1547.87 1446.29 1548.19 Q1444.64 1548.5 1442.66 1549.16 L1442.66 1546.03 Q1444.66 1545.48 1446.4 1545.2 Q1448.15 1544.92 1449.69 1544.92 Q1453.69 1544.92 1456.01 1546.75 Q1458.34 1548.55 1458.34 1551.64 Q1458.34 1553.79 1457.11 1555.29 Q1455.87 1556.76 1453.6 1557.34 Z\" fill=\"#000000\" fill-rule=\"evenodd\" fill-opacity=\"1\" /><path clip-path=\"url(#clip430)\" d=\"M 0 0 M1569.25 1558.69 L1591.51 1558.69 L1591.51 1561.64 L1569.25 1561.64 L1569.25 1558.69 Z\" fill=\"#000000\" fill-rule=\"evenodd\" fill-opacity=\"1\" /><path clip-path=\"url(#clip430)\" d=\"M 0 0 M1598.33 1568.36 L1610.57 1568.36 L1610.57 1571.31 L1594.11 1571.31 L1594.11 1568.36 Q1596.11 1566.29 1599.55 1562.82 Q1603 1559.33 1603.89 1558.33 Q1605.57 1556.43 1606.23 1555.13 Q1606.91 1553.81 1606.91 1552.54 Q1606.91 1550.48 1605.45 1549.18 Q1604.01 1547.87 1601.68 1547.87 Q1600.03 1547.87 1598.19 1548.45 Q1596.37 1549.02 1594.29 1550.18 L1594.29 1546.64 Q1596.41 1545.79 1598.25 1545.36 Q1600.09 1544.92 1601.61 1544.92 Q1605.64 1544.92 1608.04 1546.94 Q1610.43 1548.95 1610.43 1552.32 Q1610.43 1553.92 1609.83 1555.36 Q1609.24 1556.78 1607.66 1558.73 Q1607.22 1559.23 1604.89 1561.64 Q1602.57 1564.04 1598.33 1568.36 Z\" fill=\"#000000\" fill-rule=\"evenodd\" fill-opacity=\"1\" /><path clip-path=\"url(#clip430)\" d=\"M 0 0 M1721.09 1558.69 L1743.35 1558.69 L1743.35 1561.64 L1721.09 1561.64 L1721.09 1558.69 Z\" fill=\"#000000\" fill-rule=\"evenodd\" fill-opacity=\"1\" /><path clip-path=\"url(#clip430)\" d=\"M 0 0 M1747.76 1568.36 L1753.49 1568.36 L1753.49 1548.59 L1747.26 1549.84 L1747.26 1546.64 L1753.46 1545.39 L1756.96 1545.39 L1756.96 1568.36 L1762.69 1568.36 L1762.69 1571.31 L1747.76 1571.31 L1747.76 1568.36 Z\" fill=\"#000000\" fill-rule=\"evenodd\" fill-opacity=\"1\" /><path clip-path=\"url(#clip430)\" d=\"M 0 0 M1893.87 1547.7 Q1891.16 1547.7 1889.79 1550.37 Q1888.44 1553.03 1888.44 1558.38 Q1888.44 1563.71 1889.79 1566.38 Q1891.16 1569.04 1893.87 1569.04 Q1896.6 1569.04 1897.95 1566.38 Q1899.32 1563.71 1899.32 1558.38 Q1899.32 1553.03 1897.95 1550.37 Q1896.6 1547.7 1893.87 1547.7 M1893.87 1544.92 Q1898.23 1544.92 1900.52 1548.38 Q1902.83 1551.82 1902.83 1558.38 Q1902.83 1564.92 1900.52 1568.38 Q1898.23 1571.82 1893.87 1571.82 Q1889.52 1571.82 1887.21 1568.38 Q1884.91 1564.92 1884.91 1558.38 Q1884.91 1551.82 1887.21 1548.38 Q1889.52 1544.92 1893.87 1544.92 Z\" fill=\"#000000\" fill-rule=\"evenodd\" fill-opacity=\"1\" /><path clip-path=\"url(#clip430)\" d=\"M 0 0 M2038.64 1568.36 L2044.37 1568.36 L2044.37 1548.59 L2038.14 1549.84 L2038.14 1546.64 L2044.33 1545.39 L2047.84 1545.39 L2047.84 1568.36 L2053.57 1568.36 L2053.57 1571.31 L2038.64 1571.31 L2038.64 1568.36 Z\" fill=\"#000000\" fill-rule=\"evenodd\" fill-opacity=\"1\" /><path clip-path=\"url(#clip430)\" d=\"M 0 0 M2193.82 1568.36 L2206.06 1568.36 L2206.06 1571.31 L2189.6 1571.31 L2189.6 1568.36 Q2191.6 1566.29 2195.04 1562.82 Q2198.49 1559.33 2199.38 1558.33 Q2201.06 1556.43 2201.72 1555.13 Q2202.4 1553.81 2202.4 1552.54 Q2202.4 1550.48 2200.94 1549.18 Q2199.5 1547.87 2197.17 1547.87 Q2195.52 1547.87 2193.68 1548.45 Q2191.86 1549.02 2189.78 1550.18 L2189.78 1546.64 Q2191.9 1545.79 2193.74 1545.36 Q2195.58 1544.92 2197.1 1544.92 Q2201.13 1544.92 2203.53 1546.94 Q2205.92 1548.95 2205.92 1552.32 Q2205.92 1553.92 2205.32 1555.36 Q2204.73 1556.78 2203.15 1558.73 Q2202.71 1559.23 2200.39 1561.64 Q2198.06 1564.04 2193.82 1568.36 Z\" fill=\"#000000\" fill-rule=\"evenodd\" fill-opacity=\"1\" /><path clip-path=\"url(#clip430)\" d=\"M 0 0 M2353 1557.34 Q2355.52 1557.87 2356.92 1559.58 Q2358.35 1561.28 2358.35 1563.78 Q2358.35 1567.61 2355.71 1569.71 Q2353.07 1571.82 2348.21 1571.82 Q2346.58 1571.82 2344.84 1571.49 Q2343.12 1571.17 2341.28 1570.53 L2341.28 1567.15 Q2342.74 1568 2344.48 1568.43 Q2346.21 1568.86 2348.1 1568.86 Q2351.4 1568.86 2353.12 1567.56 Q2354.86 1566.26 2354.86 1563.78 Q2354.86 1561.49 2353.24 1560.2 Q2351.65 1558.9 2348.78 1558.9 L2345.76 1558.9 L2345.76 1556.02 L2348.92 1556.02 Q2351.51 1556.02 2352.88 1554.99 Q2354.25 1553.95 2354.25 1552.01 Q2354.25 1550.01 2352.83 1548.95 Q2351.42 1547.87 2348.78 1547.87 Q2347.34 1547.87 2345.69 1548.19 Q2344.04 1548.5 2342.06 1549.16 L2342.06 1546.03 Q2344.06 1545.48 2345.79 1545.2 Q2347.55 1544.92 2349.09 1544.92 Q2353.09 1544.92 2355.41 1546.75 Q2357.74 1548.55 2357.74 1551.64 Q2357.74 1553.79 2356.51 1555.29 Q2355.27 1556.76 2353 1557.34 Z\" fill=\"#000000\" fill-rule=\"evenodd\" fill-opacity=\"1\" /><polyline clip-path=\"url(#clip433)\" style=\"stroke:#000000; stroke-width:2; stroke-opacity:0.1; fill:none\" points=\"\n",
       "  1286.99,1341.26 2352.76,1341.26 \n",
       "  \"/>\n",
       "<polyline clip-path=\"url(#clip433)\" style=\"stroke:#000000; stroke-width:2; stroke-opacity:0.1; fill:none\" points=\"\n",
       "  1286.99,1077.48 2352.76,1077.48 \n",
       "  \"/>\n",
       "<polyline clip-path=\"url(#clip433)\" style=\"stroke:#000000; stroke-width:2; stroke-opacity:0.1; fill:none\" points=\"\n",
       "  1286.99,813.699 2352.76,813.699 \n",
       "  \"/>\n",
       "<polyline clip-path=\"url(#clip433)\" style=\"stroke:#000000; stroke-width:2; stroke-opacity:0.1; fill:none\" points=\"\n",
       "  1286.99,549.918 2352.76,549.918 \n",
       "  \"/>\n",
       "<polyline clip-path=\"url(#clip433)\" style=\"stroke:#000000; stroke-width:2; stroke-opacity:0.1; fill:none\" points=\"\n",
       "  1286.99,286.136 2352.76,286.136 \n",
       "  \"/>\n",
       "<polyline clip-path=\"url(#clip430)\" style=\"stroke:#000000; stroke-width:4; stroke-opacity:1; fill:none\" points=\"\n",
       "  1286.99,1521.01 1286.99,62.9921 \n",
       "  \"/>\n",
       "<polyline clip-path=\"url(#clip430)\" style=\"stroke:#000000; stroke-width:4; stroke-opacity:1; fill:none\" points=\"\n",
       "  1286.99,1341.26 1299.78,1341.26 \n",
       "  \"/>\n",
       "<polyline clip-path=\"url(#clip430)\" style=\"stroke:#000000; stroke-width:4; stroke-opacity:1; fill:none\" points=\"\n",
       "  1286.99,1077.48 1299.78,1077.48 \n",
       "  \"/>\n",
       "<polyline clip-path=\"url(#clip430)\" style=\"stroke:#000000; stroke-width:4; stroke-opacity:1; fill:none\" points=\"\n",
       "  1286.99,813.699 1299.78,813.699 \n",
       "  \"/>\n",
       "<polyline clip-path=\"url(#clip430)\" style=\"stroke:#000000; stroke-width:4; stroke-opacity:1; fill:none\" points=\"\n",
       "  1286.99,549.918 1299.78,549.918 \n",
       "  \"/>\n",
       "<polyline clip-path=\"url(#clip430)\" style=\"stroke:#000000; stroke-width:4; stroke-opacity:1; fill:none\" points=\"\n",
       "  1286.99,286.136 1299.78,286.136 \n",
       "  \"/>\n",
       "<path clip-path=\"url(#clip430)\" d=\"M 0 0 M1158.56 1341.71 L1188.24 1341.71 L1188.24 1345.65 L1158.56 1345.65 L1158.56 1341.71 Z\" fill=\"#000000\" fill-rule=\"evenodd\" fill-opacity=\"1\" /><path clip-path=\"url(#clip430)\" d=\"M 0 0 M1194.12 1354.61 L1201.76 1354.61 L1201.76 1328.24 L1193.45 1329.91 L1193.45 1325.65 L1201.71 1323.98 L1206.39 1323.98 L1206.39 1354.61 L1214.02 1354.61 L1214.02 1358.54 L1194.12 1358.54 L1194.12 1354.61 Z\" fill=\"#000000\" fill-rule=\"evenodd\" fill-opacity=\"1\" /><path clip-path=\"url(#clip430)\" d=\"M 0 0 M1219.09 1352.66 L1223.98 1352.66 L1223.98 1358.54 L1219.09 1358.54 L1219.09 1352.66 Z\" fill=\"#000000\" fill-rule=\"evenodd\" fill-opacity=\"1\" /><path clip-path=\"url(#clip430)\" d=\"M 0 0 M1239.05 1327.06 Q1235.44 1327.06 1233.61 1330.63 Q1231.8 1334.17 1231.8 1341.3 Q1231.8 1348.4 1233.61 1351.97 Q1235.44 1355.51 1239.05 1355.51 Q1242.68 1355.51 1244.49 1351.97 Q1246.32 1348.4 1246.32 1341.3 Q1246.32 1334.17 1244.49 1330.63 Q1242.68 1327.06 1239.05 1327.06 M1239.05 1323.36 Q1244.86 1323.36 1247.91 1327.96 Q1250.99 1332.55 1250.99 1341.3 Q1250.99 1350.02 1247.91 1354.63 Q1244.86 1359.21 1239.05 1359.21 Q1233.24 1359.21 1230.16 1354.63 Q1227.1 1350.02 1227.1 1341.3 Q1227.1 1332.55 1230.16 1327.96 Q1233.24 1323.36 1239.05 1323.36 Z\" fill=\"#000000\" fill-rule=\"evenodd\" fill-opacity=\"1\" /><path clip-path=\"url(#clip430)\" d=\"M 0 0 M1158.33 1077.93 L1188.01 1077.93 L1188.01 1081.87 L1158.33 1081.87 L1158.33 1077.93 Z\" fill=\"#000000\" fill-rule=\"evenodd\" fill-opacity=\"1\" /><path clip-path=\"url(#clip430)\" d=\"M 0 0 M1203.08 1063.28 Q1199.46 1063.28 1197.64 1066.84 Q1195.83 1070.39 1195.83 1077.52 Q1195.83 1084.62 1197.64 1088.19 Q1199.46 1091.73 1203.08 1091.73 Q1206.71 1091.73 1208.52 1088.19 Q1210.34 1084.62 1210.34 1077.52 Q1210.34 1070.39 1208.52 1066.84 Q1206.71 1063.28 1203.08 1063.28 M1203.08 1059.58 Q1208.89 1059.58 1211.94 1064.18 Q1215.02 1068.77 1215.02 1077.52 Q1215.02 1086.24 1211.94 1090.85 Q1208.89 1095.43 1203.08 1095.43 Q1197.27 1095.43 1194.19 1090.85 Q1191.13 1086.24 1191.13 1077.52 Q1191.13 1068.77 1194.19 1064.18 Q1197.27 1059.58 1203.08 1059.58 Z\" fill=\"#000000\" fill-rule=\"evenodd\" fill-opacity=\"1\" /><path clip-path=\"url(#clip430)\" d=\"M 0 0 M1220.09 1088.88 L1224.97 1088.88 L1224.97 1094.76 L1220.09 1094.76 L1220.09 1088.88 Z\" fill=\"#000000\" fill-rule=\"evenodd\" fill-opacity=\"1\" /><path clip-path=\"url(#clip430)\" d=\"M 0 0 M1230.09 1060.2 L1248.45 1060.2 L1248.45 1064.14 L1234.37 1064.14 L1234.37 1072.61 Q1235.39 1072.26 1236.41 1072.1 Q1237.43 1071.91 1238.45 1071.91 Q1244.23 1071.91 1247.61 1075.08 Q1250.99 1078.26 1250.99 1083.67 Q1250.99 1089.25 1247.52 1092.35 Q1244.05 1095.43 1237.73 1095.43 Q1235.55 1095.43 1233.28 1095.06 Q1231.04 1094.69 1228.63 1093.95 L1228.63 1089.25 Q1230.71 1090.39 1232.94 1090.94 Q1235.16 1091.5 1237.64 1091.5 Q1241.64 1091.5 1243.98 1089.39 Q1246.32 1087.28 1246.32 1083.67 Q1246.32 1080.06 1243.98 1077.96 Q1241.64 1075.85 1237.64 1075.85 Q1235.76 1075.85 1233.89 1076.27 Q1232.03 1076.68 1230.09 1077.56 L1230.09 1060.2 Z\" fill=\"#000000\" fill-rule=\"evenodd\" fill-opacity=\"1\" /><path clip-path=\"url(#clip430)\" d=\"M 0 0 M1202.08 799.498 Q1198.47 799.498 1196.64 803.063 Q1194.84 806.604 1194.84 813.734 Q1194.84 820.84 1196.64 824.405 Q1198.47 827.947 1202.08 827.947 Q1205.71 827.947 1207.52 824.405 Q1209.35 820.84 1209.35 813.734 Q1209.35 806.604 1207.52 803.063 Q1205.71 799.498 1202.08 799.498 M1202.08 795.794 Q1207.89 795.794 1210.95 800.401 Q1214.02 804.984 1214.02 813.734 Q1214.02 822.461 1210.95 827.067 Q1207.89 831.651 1202.08 831.651 Q1196.27 831.651 1193.19 827.067 Q1190.14 822.461 1190.14 813.734 Q1190.14 804.984 1193.19 800.401 Q1196.27 795.794 1202.08 795.794 Z\" fill=\"#000000\" fill-rule=\"evenodd\" fill-opacity=\"1\" /><path clip-path=\"url(#clip430)\" d=\"M 0 0 M1219.09 825.1 L1223.98 825.1 L1223.98 830.979 L1219.09 830.979 L1219.09 825.1 Z\" fill=\"#000000\" fill-rule=\"evenodd\" fill-opacity=\"1\" /><path clip-path=\"url(#clip430)\" d=\"M 0 0 M1239.05 799.498 Q1235.44 799.498 1233.61 803.063 Q1231.8 806.604 1231.8 813.734 Q1231.8 820.84 1233.61 824.405 Q1235.44 827.947 1239.05 827.947 Q1242.68 827.947 1244.49 824.405 Q1246.32 820.84 1246.32 813.734 Q1246.32 806.604 1244.49 803.063 Q1242.68 799.498 1239.05 799.498 M1239.05 795.794 Q1244.86 795.794 1247.91 800.401 Q1250.99 804.984 1250.99 813.734 Q1250.99 822.461 1247.91 827.067 Q1244.86 831.651 1239.05 831.651 Q1233.24 831.651 1230.16 827.067 Q1227.1 822.461 1227.1 813.734 Q1227.1 804.984 1230.16 800.401 Q1233.24 795.794 1239.05 795.794 Z\" fill=\"#000000\" fill-rule=\"evenodd\" fill-opacity=\"1\" /><path clip-path=\"url(#clip430)\" d=\"M 0 0 M1203.08 535.717 Q1199.46 535.717 1197.64 539.281 Q1195.83 542.823 1195.83 549.953 Q1195.83 557.059 1197.64 560.624 Q1199.46 564.165 1203.08 564.165 Q1206.71 564.165 1208.52 560.624 Q1210.34 557.059 1210.34 549.953 Q1210.34 542.823 1208.52 539.281 Q1206.71 535.717 1203.08 535.717 M1203.08 532.013 Q1208.89 532.013 1211.94 536.619 Q1215.02 541.203 1215.02 549.953 Q1215.02 558.679 1211.94 563.286 Q1208.89 567.869 1203.08 567.869 Q1197.27 567.869 1194.19 563.286 Q1191.13 558.679 1191.13 549.953 Q1191.13 541.203 1194.19 536.619 Q1197.27 532.013 1203.08 532.013 Z\" fill=\"#000000\" fill-rule=\"evenodd\" fill-opacity=\"1\" /><path clip-path=\"url(#clip430)\" d=\"M 0 0 M1220.09 561.318 L1224.97 561.318 L1224.97 567.198 L1220.09 567.198 L1220.09 561.318 Z\" fill=\"#000000\" fill-rule=\"evenodd\" fill-opacity=\"1\" /><path clip-path=\"url(#clip430)\" d=\"M 0 0 M1230.09 532.638 L1248.45 532.638 L1248.45 536.573 L1234.37 536.573 L1234.37 545.045 Q1235.39 544.698 1236.41 544.536 Q1237.43 544.351 1238.45 544.351 Q1244.23 544.351 1247.61 547.522 Q1250.99 550.693 1250.99 556.11 Q1250.99 561.689 1247.52 564.79 Q1244.05 567.869 1237.73 567.869 Q1235.55 567.869 1233.28 567.499 Q1231.04 567.128 1228.63 566.388 L1228.63 561.689 Q1230.71 562.823 1232.94 563.378 Q1235.16 563.934 1237.64 563.934 Q1241.64 563.934 1243.98 561.827 Q1246.32 559.721 1246.32 556.11 Q1246.32 552.499 1243.98 550.392 Q1241.64 548.286 1237.64 548.286 Q1235.76 548.286 1233.89 548.703 Q1232.03 549.119 1230.09 549.999 L1230.09 532.638 Z\" fill=\"#000000\" fill-rule=\"evenodd\" fill-opacity=\"1\" /><path clip-path=\"url(#clip430)\" d=\"M 0 0 M1194.12 299.481 L1201.76 299.481 L1201.76 273.116 L1193.45 274.782 L1193.45 270.523 L1201.71 268.856 L1206.39 268.856 L1206.39 299.481 L1214.02 299.481 L1214.02 303.416 L1194.12 303.416 L1194.12 299.481 Z\" fill=\"#000000\" fill-rule=\"evenodd\" fill-opacity=\"1\" /><path clip-path=\"url(#clip430)\" d=\"M 0 0 M1219.09 297.537 L1223.98 297.537 L1223.98 303.416 L1219.09 303.416 L1219.09 297.537 Z\" fill=\"#000000\" fill-rule=\"evenodd\" fill-opacity=\"1\" /><path clip-path=\"url(#clip430)\" d=\"M 0 0 M1239.05 271.935 Q1235.44 271.935 1233.61 275.5 Q1231.8 279.041 1231.8 286.171 Q1231.8 293.278 1233.61 296.842 Q1235.44 300.384 1239.05 300.384 Q1242.68 300.384 1244.49 296.842 Q1246.32 293.278 1246.32 286.171 Q1246.32 279.041 1244.49 275.5 Q1242.68 271.935 1239.05 271.935 M1239.05 268.231 Q1244.86 268.231 1247.91 272.838 Q1250.99 277.421 1250.99 286.171 Q1250.99 294.898 1247.91 299.504 Q1244.86 304.088 1239.05 304.088 Q1233.24 304.088 1230.16 299.504 Q1227.1 294.898 1227.1 286.171 Q1227.1 277.421 1230.16 272.838 Q1233.24 268.231 1239.05 268.231 Z\" fill=\"#000000\" fill-rule=\"evenodd\" fill-opacity=\"1\" /><path clip-path=\"url(#clip430)\" d=\"M 0 0 M1610.53 6.912 L1630.4 6.912 L1630.4 10.8472 L1615.21 10.8472 L1615.21 21.0323 L1628.91 21.0323 L1628.91 24.9675 L1615.21 24.9675 L1615.21 41.472 L1610.53 41.472 L1610.53 6.912 Z\" fill=\"#000000\" fill-rule=\"evenodd\" fill-opacity=\"1\" /><path clip-path=\"url(#clip430)\" d=\"M 0 0 M1631.83 31.2406 L1631.83 15.5462 L1636.09 15.5462 L1636.09 31.0785 Q1636.09 34.7591 1637.53 36.6109 Q1638.96 38.4396 1641.83 38.4396 Q1645.28 38.4396 1647.27 36.2405 Q1649.28 34.0415 1649.28 30.2452 L1649.28 15.5462 L1653.54 15.5462 L1653.54 41.472 L1649.28 41.472 L1649.28 37.4905 Q1647.73 39.8516 1645.67 41.009 Q1643.64 42.1433 1640.93 42.1433 Q1636.46 42.1433 1634.15 39.3655 Q1631.83 36.5878 1631.83 31.2406 M1642.55 14.9212 L1642.55 14.9212 Z\" fill=\"#000000\" fill-rule=\"evenodd\" fill-opacity=\"1\" /><path clip-path=\"url(#clip430)\" d=\"M 0 0 M1656.16 15.5462 L1676.39 15.5462 L1676.39 19.4351 L1660.37 38.0692 L1676.39 38.0692 L1676.39 41.472 L1655.58 41.472 L1655.58 37.5831 L1671.6 18.949 L1656.16 18.949 L1656.16 15.5462 Z\" fill=\"#000000\" fill-rule=\"evenodd\" fill-opacity=\"1\" /><path clip-path=\"url(#clip430)\" d=\"M 0 0 M1679.01 15.5462 L1699.24 15.5462 L1699.24 19.4351 L1683.22 38.0692 L1699.24 38.0692 L1699.24 41.472 L1678.43 41.472 L1678.43 37.5831 L1694.45 18.949 L1679.01 18.949 L1679.01 15.5462 Z\" fill=\"#000000\" fill-rule=\"evenodd\" fill-opacity=\"1\" /><path clip-path=\"url(#clip430)\" d=\"M 0 0 M1714.49 43.8794 Q1712.69 48.509 1710.97 49.921 Q1709.26 51.3331 1706.39 51.3331 L1702.99 51.3331 L1702.99 47.7683 L1705.49 47.7683 Q1707.25 47.7683 1708.22 46.9349 Q1709.19 46.1016 1710.37 42.9998 L1711.14 41.0553 L1700.65 15.5462 L1705.16 15.5462 L1713.27 35.8239 L1721.37 15.5462 L1725.88 15.5462 L1714.49 43.8794 Z\" fill=\"#000000\" fill-rule=\"evenodd\" fill-opacity=\"1\" /><path clip-path=\"url(#clip430)\" d=\"M 0 0 M1742.09 11.5185 L1735.74 28.7174 L1748.45 28.7174 L1742.09 11.5185 M1739.45 6.912 L1744.75 6.912 L1757.92 41.472 L1753.06 41.472 L1749.91 32.6063 L1734.33 32.6063 L1731.18 41.472 L1726.25 41.472 L1739.45 6.912 Z\" fill=\"#000000\" fill-rule=\"evenodd\" fill-opacity=\"1\" /><path clip-path=\"url(#clip430)\" d=\"M 0 0 M1778.96 25.2684 Q1780.46 25.7776 1781.88 27.4443 Q1783.31 29.111 1784.75 32.0276 L1789.49 41.472 L1784.47 41.472 L1780.05 32.6063 Q1778.33 29.1341 1776.71 27.9998 Q1775.12 26.8656 1772.34 26.8656 L1767.25 26.8656 L1767.25 41.472 L1762.57 41.472 L1762.57 6.912 L1773.13 6.912 Q1779.05 6.912 1781.97 9.38884 Q1784.89 11.8657 1784.89 16.8657 Q1784.89 20.1295 1783.36 22.2823 Q1781.85 24.4351 1778.96 25.2684 M1767.25 10.7546 L1767.25 23.023 L1773.13 23.023 Q1776.51 23.023 1778.22 21.4721 Q1779.96 19.898 1779.96 16.8657 Q1779.96 13.8333 1778.22 12.3055 Q1776.51 10.7546 1773.13 10.7546 L1767.25 10.7546 Z\" fill=\"#000000\" fill-rule=\"evenodd\" fill-opacity=\"1\" /><path clip-path=\"url(#clip430)\" d=\"M 0 0 M1785.9 6.912 L1815.14 6.912 L1815.14 10.8472 L1802.87 10.8472 L1802.87 41.472 L1798.17 41.472 L1798.17 10.8472 L1785.9 10.8472 L1785.9 6.912 Z\" fill=\"#000000\" fill-rule=\"evenodd\" fill-opacity=\"1\" /><path clip-path=\"url(#clip430)\" d=\"M 0 0 M1849.7 19.5277 Q1848.98 19.111 1848.13 18.9258 Q1847.29 18.7175 1846.27 18.7175 Q1842.66 18.7175 1840.72 21.0786 Q1838.8 23.4165 1838.8 27.8147 L1838.8 41.472 L1834.52 41.472 L1834.52 15.5462 L1838.8 15.5462 L1838.8 19.574 Q1840.14 17.2129 1842.29 16.0786 Q1844.45 14.9212 1847.52 14.9212 Q1847.96 14.9212 1848.5 14.9907 Q1849.03 15.037 1849.68 15.1527 L1849.7 19.5277 Z\" fill=\"#000000\" fill-rule=\"evenodd\" fill-opacity=\"1\" /><path clip-path=\"url(#clip430)\" d=\"M 0 0 M1874.89 25.8239 L1874.89 41.472 L1870.63 41.472 L1870.63 25.9628 Q1870.63 22.2823 1869.19 20.4536 Q1867.76 18.6249 1864.89 18.6249 Q1861.44 18.6249 1859.45 20.824 Q1857.45 23.023 1857.45 26.8193 L1857.45 41.472 L1853.17 41.472 L1853.17 5.45367 L1857.45 5.45367 L1857.45 19.574 Q1858.98 17.236 1861.04 16.0786 Q1863.13 14.9212 1865.83 14.9212 Q1870.3 14.9212 1872.59 17.699 Q1874.89 20.4536 1874.89 25.8239 Z\" fill=\"#000000\" fill-rule=\"evenodd\" fill-opacity=\"1\" /><path clip-path=\"url(#clip430)\" d=\"M 0 0 M1889.4 18.5323 Q1885.97 18.5323 1883.98 21.2175 Q1881.99 23.8795 1881.99 28.5323 Q1881.99 33.185 1883.96 35.8702 Q1885.95 38.5322 1889.4 38.5322 Q1892.8 38.5322 1894.79 35.847 Q1896.78 33.1619 1896.78 28.5323 Q1896.78 23.9258 1894.79 21.2406 Q1892.8 18.5323 1889.4 18.5323 M1889.4 14.9212 Q1894.95 14.9212 1898.13 18.5323 Q1901.3 22.1434 1901.3 28.5323 Q1901.3 34.898 1898.13 38.5322 Q1894.95 42.1433 1889.4 42.1433 Q1883.82 42.1433 1880.65 38.5322 Q1877.5 34.898 1877.5 28.5323 Q1877.5 22.1434 1880.65 18.5323 Q1883.82 14.9212 1889.4 14.9212 Z\" fill=\"#000000\" fill-rule=\"evenodd\" fill-opacity=\"1\" /><path clip-path=\"url(#clip430)\" d=\"M 0 0 M1921.39 19.9443 L1951.07 19.9443 L1951.07 23.8332 L1921.39 23.8332 L1921.39 19.9443 M1921.39 29.3887 L1951.07 29.3887 L1951.07 33.3239 L1921.39 33.3239 L1921.39 29.3887 Z\" fill=\"#000000\" fill-rule=\"evenodd\" fill-opacity=\"1\" /><path clip-path=\"url(#clip430)\" d=\"M 0 0 M1981.2 9.99069 Q1977.59 9.99069 1975.76 13.5555 Q1973.96 17.0971 1973.96 24.2267 Q1973.96 31.3332 1975.76 34.898 Q1977.59 38.4396 1981.2 38.4396 Q1984.84 38.4396 1986.64 34.898 Q1988.47 31.3332 1988.47 24.2267 Q1988.47 17.0971 1986.64 13.5555 Q1984.84 9.99069 1981.2 9.99069 M1981.2 6.287 Q1987.01 6.287 1990.07 10.8935 Q1993.15 15.4768 1993.15 24.2267 Q1993.15 32.9535 1990.07 37.56 Q1987.01 42.1433 1981.2 42.1433 Q1975.39 42.1433 1972.32 37.56 Q1969.26 32.9535 1969.26 24.2267 Q1969.26 15.4768 1972.32 10.8935 Q1975.39 6.287 1981.2 6.287 Z\" fill=\"#000000\" fill-rule=\"evenodd\" fill-opacity=\"1\" /><path clip-path=\"url(#clip430)\" d=\"M 0 0 M1998.22 35.5924 L2003.1 35.5924 L2003.1 41.472 L1998.22 41.472 L1998.22 35.5924 Z\" fill=\"#000000\" fill-rule=\"evenodd\" fill-opacity=\"1\" /><path clip-path=\"url(#clip430)\" d=\"M 0 0 M2006.99 6.912 L2029.21 6.912 L2029.21 8.90273 L2016.67 41.472 L2011.78 41.472 L2023.59 10.8472 L2006.99 10.8472 L2006.99 6.912 Z\" fill=\"#000000\" fill-rule=\"evenodd\" fill-opacity=\"1\" /><circle clip-path=\"url(#clip433)\" cx=\"2308.57\" cy=\"637.533\" r=\"14\" fill=\"#009af9\" fill-rule=\"evenodd\" fill-opacity=\"1\" stroke=\"#000000\" stroke-opacity=\"1\" stroke-width=\"3.2\"/>\n",
       "<circle clip-path=\"url(#clip433)\" cx=\"2275.03\" cy=\"887.06\" r=\"14\" fill=\"#009af9\" fill-rule=\"evenodd\" fill-opacity=\"1\" stroke=\"#000000\" stroke-opacity=\"1\" stroke-width=\"3.2\"/>\n",
       "<circle clip-path=\"url(#clip433)\" cx=\"2293.05\" cy=\"723.8\" r=\"14\" fill=\"#009af9\" fill-rule=\"evenodd\" fill-opacity=\"1\" stroke=\"#000000\" stroke-opacity=\"1\" stroke-width=\"3.2\"/>\n",
       "<circle clip-path=\"url(#clip433)\" cx=\"2269.12\" cy=\"740.955\" r=\"14\" fill=\"#009af9\" fill-rule=\"evenodd\" fill-opacity=\"1\" stroke=\"#000000\" stroke-opacity=\"1\" stroke-width=\"3.2\"/>\n",
       "<circle clip-path=\"url(#clip433)\" cx=\"2256.17\" cy=\"104.257\" r=\"14\" fill=\"#009af9\" fill-rule=\"evenodd\" fill-opacity=\"1\" stroke=\"#000000\" stroke-opacity=\"1\" stroke-width=\"3.2\"/>\n",
       "<circle clip-path=\"url(#clip433)\" cx=\"2306.6\" cy=\"941.729\" r=\"14\" fill=\"#009af9\" fill-rule=\"evenodd\" fill-opacity=\"1\" stroke=\"#000000\" stroke-opacity=\"1\" stroke-width=\"3.2\"/>\n",
       "<circle clip-path=\"url(#clip433)\" cx=\"2228.09\" cy=\"349.843\" r=\"14\" fill=\"#009af9\" fill-rule=\"evenodd\" fill-opacity=\"1\" stroke=\"#000000\" stroke-opacity=\"1\" stroke-width=\"3.2\"/>\n",
       "<circle clip-path=\"url(#clip433)\" cx=\"2287.27\" cy=\"917.837\" r=\"14\" fill=\"#009af9\" fill-rule=\"evenodd\" fill-opacity=\"1\" stroke=\"#000000\" stroke-opacity=\"1\" stroke-width=\"3.2\"/>\n",
       "<circle clip-path=\"url(#clip433)\" cx=\"2280.31\" cy=\"504.399\" r=\"14\" fill=\"#009af9\" fill-rule=\"evenodd\" fill-opacity=\"1\" stroke=\"#000000\" stroke-opacity=\"1\" stroke-width=\"3.2\"/>\n",
       "<circle clip-path=\"url(#clip433)\" cx=\"2317.51\" cy=\"933.847\" r=\"14\" fill=\"#009af9\" fill-rule=\"evenodd\" fill-opacity=\"1\" stroke=\"#000000\" stroke-opacity=\"1\" stroke-width=\"3.2\"/>\n",
       "<circle clip-path=\"url(#clip433)\" cx=\"2292.86\" cy=\"493.574\" r=\"14\" fill=\"#009af9\" fill-rule=\"evenodd\" fill-opacity=\"1\" stroke=\"#000000\" stroke-opacity=\"1\" stroke-width=\"3.2\"/>\n",
       "<circle clip-path=\"url(#clip433)\" cx=\"2300.24\" cy=\"869.986\" r=\"14\" fill=\"#009af9\" fill-rule=\"evenodd\" fill-opacity=\"1\" stroke=\"#000000\" stroke-opacity=\"1\" stroke-width=\"3.2\"/>\n",
       "<circle clip-path=\"url(#clip433)\" cx=\"2292.45\" cy=\"382.105\" r=\"14\" fill=\"#009af9\" fill-rule=\"evenodd\" fill-opacity=\"1\" stroke=\"#000000\" stroke-opacity=\"1\" stroke-width=\"3.2\"/>\n",
       "<circle clip-path=\"url(#clip433)\" cx=\"2274.82\" cy=\"469.763\" r=\"14\" fill=\"#009af9\" fill-rule=\"evenodd\" fill-opacity=\"1\" stroke=\"#000000\" stroke-opacity=\"1\" stroke-width=\"3.2\"/>\n",
       "<circle clip-path=\"url(#clip433)\" cx=\"2322.59\" cy=\"857.015\" r=\"14\" fill=\"#009af9\" fill-rule=\"evenodd\" fill-opacity=\"1\" stroke=\"#000000\" stroke-opacity=\"1\" stroke-width=\"3.2\"/>\n",
       "<circle clip-path=\"url(#clip433)\" cx=\"1920.45\" cy=\"946.548\" r=\"14\" fill=\"#e26f46\" fill-rule=\"evenodd\" fill-opacity=\"1\" stroke=\"#000000\" stroke-opacity=\"1\" stroke-width=\"3.2\"/>\n",
       "<circle clip-path=\"url(#clip433)\" cx=\"1848.61\" cy=\"996.772\" r=\"14\" fill=\"#e26f46\" fill-rule=\"evenodd\" fill-opacity=\"1\" stroke=\"#000000\" stroke-opacity=\"1\" stroke-width=\"3.2\"/>\n",
       "<circle clip-path=\"url(#clip433)\" cx=\"1708.39\" cy=\"598.435\" r=\"14\" fill=\"#e26f46\" fill-rule=\"evenodd\" fill-opacity=\"1\" stroke=\"#000000\" stroke-opacity=\"1\" stroke-width=\"3.2\"/>\n",
       "<circle clip-path=\"url(#clip433)\" cx=\"1567.88\" cy=\"740.417\" r=\"14\" fill=\"#e26f46\" fill-rule=\"evenodd\" fill-opacity=\"1\" stroke=\"#000000\" stroke-opacity=\"1\" stroke-width=\"3.2\"/>\n",
       "<circle clip-path=\"url(#clip433)\" cx=\"1727.42\" cy=\"663.929\" r=\"14\" fill=\"#e26f46\" fill-rule=\"evenodd\" fill-opacity=\"1\" stroke=\"#000000\" stroke-opacity=\"1\" stroke-width=\"3.2\"/>\n",
       "<circle clip-path=\"url(#clip433)\" cx=\"1971.55\" cy=\"1479.74\" r=\"14\" fill=\"#e26f46\" fill-rule=\"evenodd\" fill-opacity=\"1\" stroke=\"#000000\" stroke-opacity=\"1\" stroke-width=\"3.2\"/>\n",
       "<circle clip-path=\"url(#clip433)\" cx=\"1728.65\" cy=\"773.926\" r=\"14\" fill=\"#e26f46\" fill-rule=\"evenodd\" fill-opacity=\"1\" stroke=\"#000000\" stroke-opacity=\"1\" stroke-width=\"3.2\"/>\n",
       "<circle clip-path=\"url(#clip433)\" cx=\"1652.94\" cy=\"1098.22\" r=\"14\" fill=\"#e26f46\" fill-rule=\"evenodd\" fill-opacity=\"1\" stroke=\"#000000\" stroke-opacity=\"1\" stroke-width=\"3.2\"/>\n",
       "<circle clip-path=\"url(#clip433)\" cx=\"1873.36\" cy=\"978.146\" r=\"14\" fill=\"#e26f46\" fill-rule=\"evenodd\" fill-opacity=\"1\" stroke=\"#000000\" stroke-opacity=\"1\" stroke-width=\"3.2\"/>\n",
       "<circle clip-path=\"url(#clip433)\" cx=\"1691.58\" cy=\"684.621\" r=\"14\" fill=\"#e26f46\" fill-rule=\"evenodd\" fill-opacity=\"1\" stroke=\"#000000\" stroke-opacity=\"1\" stroke-width=\"3.2\"/>\n",
       "<circle clip-path=\"url(#clip433)\" cx=\"1814.94\" cy=\"1442.21\" r=\"14\" fill=\"#e26f46\" fill-rule=\"evenodd\" fill-opacity=\"1\" stroke=\"#000000\" stroke-opacity=\"1\" stroke-width=\"3.2\"/>\n",
       "<circle clip-path=\"url(#clip433)\" cx=\"1836.84\" cy=\"967.548\" r=\"14\" fill=\"#e26f46\" fill-rule=\"evenodd\" fill-opacity=\"1\" stroke=\"#000000\" stroke-opacity=\"1\" stroke-width=\"3.2\"/>\n",
       "<circle clip-path=\"url(#clip433)\" cx=\"1856.61\" cy=\"954.415\" r=\"14\" fill=\"#e26f46\" fill-rule=\"evenodd\" fill-opacity=\"1\" stroke=\"#000000\" stroke-opacity=\"1\" stroke-width=\"3.2\"/>\n",
       "<circle clip-path=\"url(#clip433)\" cx=\"1887.3\" cy=\"1120.47\" r=\"14\" fill=\"#e26f46\" fill-rule=\"evenodd\" fill-opacity=\"1\" stroke=\"#000000\" stroke-opacity=\"1\" stroke-width=\"3.2\"/>\n",
       "<circle clip-path=\"url(#clip433)\" cx=\"1785.36\" cy=\"734.365\" r=\"14\" fill=\"#e26f46\" fill-rule=\"evenodd\" fill-opacity=\"1\" stroke=\"#000000\" stroke-opacity=\"1\" stroke-width=\"3.2\"/>\n",
       "<circle clip-path=\"url(#clip433)\" cx=\"1866.37\" cy=\"1249.26\" r=\"14\" fill=\"#e26f46\" fill-rule=\"evenodd\" fill-opacity=\"1\" stroke=\"#000000\" stroke-opacity=\"1\" stroke-width=\"3.2\"/>\n",
       "<circle clip-path=\"url(#clip433)\" cx=\"1843.55\" cy=\"925.11\" r=\"14\" fill=\"#e26f46\" fill-rule=\"evenodd\" fill-opacity=\"1\" stroke=\"#000000\" stroke-opacity=\"1\" stroke-width=\"3.2\"/>\n",
       "<circle clip-path=\"url(#clip433)\" cx=\"2008.08\" cy=\"1341.85\" r=\"14\" fill=\"#e26f46\" fill-rule=\"evenodd\" fill-opacity=\"1\" stroke=\"#000000\" stroke-opacity=\"1\" stroke-width=\"3.2\"/>\n",
       "<circle clip-path=\"url(#clip433)\" cx=\"1674.55\" cy=\"889.564\" r=\"14\" fill=\"#e26f46\" fill-rule=\"evenodd\" fill-opacity=\"1\" stroke=\"#000000\" stroke-opacity=\"1\" stroke-width=\"3.2\"/>\n",
       "<circle clip-path=\"url(#clip433)\" cx=\"1524.84\" cy=\"614.923\" r=\"14\" fill=\"#3da44d\" fill-rule=\"evenodd\" fill-opacity=\"1\" stroke=\"#000000\" stroke-opacity=\"1\" stroke-width=\"3.2\"/>\n",
       "<circle clip-path=\"url(#clip433)\" cx=\"1682.97\" cy=\"921.338\" r=\"14\" fill=\"#3da44d\" fill-rule=\"evenodd\" fill-opacity=\"1\" stroke=\"#000000\" stroke-opacity=\"1\" stroke-width=\"3.2\"/>\n",
       "<circle clip-path=\"url(#clip433)\" cx=\"1317.16\" cy=\"680.086\" r=\"14\" fill=\"#3da44d\" fill-rule=\"evenodd\" fill-opacity=\"1\" stroke=\"#000000\" stroke-opacity=\"1\" stroke-width=\"3.2\"/>\n",
       "<circle clip-path=\"url(#clip433)\" cx=\"1542.14\" cy=\"717.362\" r=\"14\" fill=\"#3da44d\" fill-rule=\"evenodd\" fill-opacity=\"1\" stroke=\"#000000\" stroke-opacity=\"1\" stroke-width=\"3.2\"/>\n",
       "<circle clip-path=\"url(#clip433)\" cx=\"1623.4\" cy=\"1078.25\" r=\"14\" fill=\"#3da44d\" fill-rule=\"evenodd\" fill-opacity=\"1\" stroke=\"#000000\" stroke-opacity=\"1\" stroke-width=\"3.2\"/>\n",
       "<circle clip-path=\"url(#clip433)\" cx=\"1625.77\" cy=\"772.275\" r=\"14\" fill=\"#3da44d\" fill-rule=\"evenodd\" fill-opacity=\"1\" stroke=\"#000000\" stroke-opacity=\"1\" stroke-width=\"3.2\"/>\n",
       "<circle clip-path=\"url(#clip433)\" cx=\"1504.3\" cy=\"668.105\" r=\"14\" fill=\"#3da44d\" fill-rule=\"evenodd\" fill-opacity=\"1\" stroke=\"#000000\" stroke-opacity=\"1\" stroke-width=\"3.2\"/>\n",
       "<circle clip-path=\"url(#clip433)\" cx=\"1526.17\" cy=\"653.582\" r=\"14\" fill=\"#3da44d\" fill-rule=\"evenodd\" fill-opacity=\"1\" stroke=\"#000000\" stroke-opacity=\"1\" stroke-width=\"3.2\"/>\n",
       "<circle clip-path=\"url(#clip433)\" cx=\"1604.37\" cy=\"788.351\" r=\"14\" fill=\"#3da44d\" fill-rule=\"evenodd\" fill-opacity=\"1\" stroke=\"#000000\" stroke-opacity=\"1\" stroke-width=\"3.2\"/>\n",
       "<circle clip-path=\"url(#clip433)\" cx=\"1678.96\" cy=\"1117.01\" r=\"14\" fill=\"#3da44d\" fill-rule=\"evenodd\" fill-opacity=\"1\" stroke=\"#000000\" stroke-opacity=\"1\" stroke-width=\"3.2\"/>\n",
       "<circle clip-path=\"url(#clip433)\" cx=\"1564.78\" cy=\"700.125\" r=\"14\" fill=\"#3da44d\" fill-rule=\"evenodd\" fill-opacity=\"1\" stroke=\"#000000\" stroke-opacity=\"1\" stroke-width=\"3.2\"/>\n",
       "</svg>\n"
      ]
     },
     "metadata": {},
     "execution_count": 19
    }
   ],
   "cell_type": "code",
   "source": [
    "p1 = scatter(X_test_pca[1,:], X_test_pca[2,:], group=y_hat_1, title=@sprintf \"FuzzyART rho = %.1f\" rho_1)\n",
    "p2 = scatter(X_test_pca[1,:], X_test_pca[2,:], group=y_hat_2, title=@sprintf \"FuzzyART rho = %.1f\" rho_2)\n",
    "plot(p1, p2, layout=(1, 2), legend = false, xtickfontsize=6, xguidefontsize=8, titlefont=font(8))"
   ],
   "metadata": {},
   "execution_count": 19
  },
  {
   "cell_type": "markdown",
   "source": [
    "---\n",
    "\n",
    "*This notebook was generated using [Literate.jl](https://github.com/fredrikekre/Literate.jl).*"
   ],
   "metadata": {}
  }
 ],
 "nbformat_minor": 3,
 "metadata": {
  "language_info": {
   "file_extension": ".jl",
   "mimetype": "application/julia",
   "name": "julia",
   "version": "1.4.2"
  },
  "kernelspec": {
   "name": "julia-1.4",
   "display_name": "Julia 1.4.2",
   "language": "julia"
  }
 },
 "nbformat": 4
}
