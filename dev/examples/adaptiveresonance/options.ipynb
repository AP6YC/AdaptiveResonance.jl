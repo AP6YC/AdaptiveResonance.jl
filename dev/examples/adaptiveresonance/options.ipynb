{
 "cells": [
  {
   "cell_type": "markdown",
   "source": [
    "## Overview"
   ],
   "metadata": {}
  },
  {
   "cell_type": "markdown",
   "source": [
    "The `AdaptiveResonance.jl` package has several ways of handling options for ART modules.\n",
    "These methods are meant to give maximum flexibility to the user for sharing and interpreting options, which themselves vary between each module."
   ],
   "metadata": {}
  },
  {
   "cell_type": "markdown",
   "source": [
    "!!! note\n",
    "    For more info on options in ART modules, see the guide in the docs on ART options."
   ],
   "metadata": {}
  },
  {
   "cell_type": "markdown",
   "source": [
    "## ART Options"
   ],
   "metadata": {}
  },
  {
   "cell_type": "markdown",
   "source": [
    "To get a feel for the ART options system, we will inspect different options and their instantiation methods."
   ],
   "metadata": {}
  },
  {
   "cell_type": "markdown",
   "source": [
    "### Inspection"
   ],
   "metadata": {}
  },
  {
   "cell_type": "markdown",
   "source": [
    "First, we load `AdaptiveResonance`:"
   ],
   "metadata": {}
  },
  {
   "outputs": [],
   "cell_type": "code",
   "source": [
    "using AdaptiveResonance"
   ],
   "metadata": {},
   "execution_count": 1
  },
  {
   "cell_type": "markdown",
   "source": [
    "Every ART module has a default constructor, which can be instantiated in the usual way:"
   ],
   "metadata": {}
  },
  {
   "outputs": [
    {
     "output_type": "execute_result",
     "data": {
      "text/plain": "FuzzyART"
     },
     "metadata": {},
     "execution_count": 2
    }
   ],
   "cell_type": "code",
   "source": [
    "# Create a FuzzyART module with default options\n",
    "my_fuzzyart = FuzzyART()\n",
    "typeof(my_fuzzyart)"
   ],
   "metadata": {},
   "execution_count": 2
  },
  {
   "cell_type": "markdown",
   "source": [
    "Within every ART module is a [Parameters.jl](https://github.com/mauro3/Parameters.jl) struct named `opts` containing the options for the module"
   ],
   "metadata": {}
  },
  {
   "outputs": [
    {
     "output_type": "execute_result",
     "data": {
      "text/plain": "opts_FuzzyART\n  rho: Float64 0.6\n  alpha: Float64 0.001\n  beta: Float64 1.0\n  gamma: Float64 3.0\n  gamma_ref: Float64 1.0\n  display: Bool true\n  max_epochs: Int64 1\n  gamma_normalization: Bool false\n"
     },
     "metadata": {},
     "execution_count": 3
    }
   ],
   "cell_type": "code",
   "source": [
    "# Check the FuzzyART options\n",
    "my_fuzzyart.opts"
   ],
   "metadata": {},
   "execution_count": 3
  },
  {
   "cell_type": "markdown",
   "source": [
    "Note that the options here have the type `opts_FuzzyART`.\n",
    "This nomenclature is used throughout the module to indicate an options type associated with an ART module.\n",
    "For example, the options for a DDVFA module are `opts_DDVFA`:"
   ],
   "metadata": {}
  },
  {
   "outputs": [
    {
     "output_type": "execute_result",
     "data": {
      "text/plain": "opts_DDVFA"
     },
     "metadata": {},
     "execution_count": 4
    }
   ],
   "cell_type": "code",
   "source": [
    "# Create a DDVFA module and check the type of the options\n",
    "my_ddvfa = DDVFA()\n",
    "typeof(my_ddvfa.opts)"
   ],
   "metadata": {},
   "execution_count": 4
  },
  {
   "cell_type": "markdown",
   "source": [
    "In fact, we can create an instance of these options with a default constructor:"
   ],
   "metadata": {}
  },
  {
   "outputs": [
    {
     "output_type": "execute_result",
     "data": {
      "text/plain": "opts_FuzzyART\n  rho: Float64 0.6\n  alpha: Float64 0.001\n  beta: Float64 1.0\n  gamma: Float64 3.0\n  gamma_ref: Float64 1.0\n  display: Bool true\n  max_epochs: Int64 1\n  gamma_normalization: Bool false\n"
     },
     "metadata": {},
     "execution_count": 5
    }
   ],
   "cell_type": "code",
   "source": [
    "# Create a separate options struct\n",
    "my_fuzzyart_opts = opts_FuzzyART()"
   ],
   "metadata": {},
   "execution_count": 5
  },
  {
   "cell_type": "markdown",
   "source": [
    "In addition to the default constructor, we can construct ART modules by instantiating these options and passing them to the module during construction:"
   ],
   "metadata": {}
  },
  {
   "outputs": [
    {
     "output_type": "execute_result",
     "data": {
      "text/plain": "FuzzyART(opts_FuzzyART\n  rho: Float64 0.6\n  alpha: Float64 0.001\n  beta: Float64 1.0\n  gamma: Float64 3.0\n  gamma_ref: Float64 1.0\n  display: Bool true\n  max_epochs: Int64 1\n  gamma_normalization: Bool false\n, DataConfig(false, Float64[], Float64[], 0, 0), 0.0, Int64[], Float64[], Float64[], Array{Float64}(undef,0,0), Int64[], 0, 0)"
     },
     "metadata": {},
     "execution_count": 6
    }
   ],
   "cell_type": "code",
   "source": [
    "# Instantiate an ART module by passing our options\n",
    "my_fuzzyart = FuzzyART(my_fuzzyart_opts)\n",
    "my_other_fuzzyart = FuzzyART(my_fuzzyart_opts)"
   ],
   "metadata": {},
   "execution_count": 6
  },
  {
   "cell_type": "markdown",
   "source": [
    "### Specifying Options"
   ],
   "metadata": {}
  },
  {
   "cell_type": "markdown",
   "source": [
    "Now to the good stuff: because of the behavior of the `Parameters.jl` type, each option has a default value that we can modify during instantiation with keyword arguments:"
   ],
   "metadata": {}
  },
  {
   "outputs": [
    {
     "output_type": "execute_result",
     "data": {
      "text/plain": "FuzzyART(opts_FuzzyART\n  rho: Float64 0.6\n  alpha: Float64 0.001\n  beta: Float64 1.0\n  gamma: Float64 3.0\n  gamma_ref: Float64 1.0\n  display: Bool true\n  max_epochs: Int64 1\n  gamma_normalization: Bool true\n, DataConfig(false, Float64[], Float64[], 0, 0), 0.0, Int64[], Float64[], Float64[], Array{Float64}(undef,0,0), Int64[], 0, 0)"
     },
     "metadata": {},
     "execution_count": 7
    }
   ],
   "cell_type": "code",
   "source": [
    "# Change some of the default FuzzyART options\n",
    "my_fuzzyart_opts = opts_FuzzyART(\n",
    "    rho=0.6,\n",
    "    gamma_normalization=true\n",
    ")\n",
    "my_fuzzyart = FuzzyART(my_fuzzyart_opts)"
   ],
   "metadata": {},
   "execution_count": 7
  },
  {
   "cell_type": "markdown",
   "source": [
    "As some syntactic sugar, we can pass these keyword arguments directly to the module during instantiation if we have no need to share option structs:"
   ],
   "metadata": {}
  },
  {
   "outputs": [
    {
     "output_type": "execute_result",
     "data": {
      "text/plain": "FuzzyART(opts_FuzzyART\n  rho: Float64 0.6\n  alpha: Float64 0.001\n  beta: Float64 1.0\n  gamma: Float64 3.0\n  gamma_ref: Float64 1.0\n  display: Bool true\n  max_epochs: Int64 1\n  gamma_normalization: Bool true\n, DataConfig(false, Float64[], Float64[], 0, 0), 0.0, Int64[], Float64[], Float64[], Array{Float64}(undef,0,0), Int64[], 0, 0)"
     },
     "metadata": {},
     "execution_count": 8
    }
   ],
   "cell_type": "code",
   "source": [
    "# Pass these keyword arguments to the module directly\n",
    "my_fuzzyart = FuzzyART(\n",
    "    rho=0.6,\n",
    "    gamma_normalization=true\n",
    ")"
   ],
   "metadata": {},
   "execution_count": 8
  },
  {
   "cell_type": "markdown",
   "source": [
    "Before training, we can also instantiate the model and alter the options afterward:"
   ],
   "metadata": {}
  },
  {
   "outputs": [
    {
     "output_type": "execute_result",
     "data": {
      "text/plain": "0.6"
     },
     "metadata": {},
     "execution_count": 9
    }
   ],
   "cell_type": "code",
   "source": [
    "my_fuzzyart = FuzzyART()\n",
    "my_fuzzyart.opts.rho=0.6"
   ],
   "metadata": {},
   "execution_count": 9
  },
  {
   "cell_type": "markdown",
   "source": [
    "!!! note\n",
    "    All ART modules are designed to use this options struct internally when the parameters are needed.\n",
    "    It is possible to change these parameters in the middle of training and evaluation, but some algorithmic instability may occur."
   ],
   "metadata": {}
  },
  {
   "cell_type": "markdown",
   "source": [
    "## Comparison"
   ],
   "metadata": {}
  },
  {
   "cell_type": "markdown",
   "source": [
    "To see the effect that changing these parameters has on the modules, we can train and test them side-by-side."
   ],
   "metadata": {}
  },
  {
   "cell_type": "markdown",
   "source": [
    "We begin with importing AdaptiveResonance for the ART modules and MLDatasets for some data utilities."
   ],
   "metadata": {}
  },
  {
   "outputs": [],
   "cell_type": "code",
   "source": [
    "using MLDatasets        # Iris dataset\n",
    "using MLDataUtils       # Shuffling and splitting\n",
    "using Printf            # Formatted number printing\n",
    "using MultivariateStats # Principal component analysis (PCA)\n",
    "using Plots             # Plotting"
   ],
   "metadata": {},
   "execution_count": 10
  },
  {
   "cell_type": "markdown",
   "source": [
    "We will download the Iris dataset for its small size and benchmark use for clustering algorithms."
   ],
   "metadata": {}
  },
  {
   "outputs": [
    {
     "output_type": "execute_result",
     "data": {
      "text/plain": "([5.1 4.9 … 6.2 5.9; 3.5 3.0 … 3.4 3.0; 1.4 1.4 … 5.4 5.1; 0.2 0.2 … 2.3 1.8], [\"Iris-setosa\", \"Iris-setosa\", \"Iris-setosa\", \"Iris-setosa\", \"Iris-setosa\", \"Iris-setosa\", \"Iris-setosa\", \"Iris-setosa\", \"Iris-setosa\", \"Iris-setosa\"  …  \"Iris-virginica\", \"Iris-virginica\", \"Iris-virginica\", \"Iris-virginica\", \"Iris-virginica\", \"Iris-virginica\", \"Iris-virginica\", \"Iris-virginica\", \"Iris-virginica\", \"Iris-virginica\"])"
     },
     "metadata": {},
     "execution_count": 11
    }
   ],
   "cell_type": "code",
   "source": [
    "Iris.download(i_accept_the_terms_of_use=true)\n",
    "features, labels = Iris.features(), Iris.labels()"
   ],
   "metadata": {},
   "execution_count": 11
  },
  {
   "cell_type": "markdown",
   "source": [
    "Because the MLDatasets package gives us Iris labels as strings, we will use the `MLDataUtils.convertlabel` method with the `MLLabelUtils.LabelEnc.Indices` type to get a list of integers representing each class:"
   ],
   "metadata": {}
  },
  {
   "outputs": [
    {
     "output_type": "execute_result",
     "data": {
      "text/plain": "3-element Array{Int64,1}:\n 1\n 2\n 3"
     },
     "metadata": {},
     "execution_count": 12
    }
   ],
   "cell_type": "code",
   "source": [
    "labels = convertlabel(LabelEnc.Indices{Int}, labels)\n",
    "unique(labels)"
   ],
   "metadata": {},
   "execution_count": 12
  },
  {
   "cell_type": "markdown",
   "source": [
    "Next, we will create a train/test split with the `MLDataUtils.stratifiedobs` utility:"
   ],
   "metadata": {}
  },
  {
   "outputs": [
    {
     "output_type": "execute_result",
     "data": {
      "text/plain": "(([6.3 4.8 … 6.7 5.6; 3.3 3.1 … 2.5 2.9; 6.0 1.6 … 5.8 3.6; 2.5 0.2 … 1.8 1.3], [3, 1, 1, 1, 3, 1, 3, 3, 3, 2  …  2, 1, 3, 2, 3, 2, 2, 1, 3, 2]), ([6.1 5.2 … 6.4 6.2; 2.6 3.5 … 3.2 2.8; 5.6 1.5 … 5.3 4.8; 1.4 0.2 … 2.3 1.8], [3, 1, 2, 1, 1, 3, 2, 2, 2, 2  …  1, 2, 2, 3, 1, 2, 3, 2, 3, 3]))"
     },
     "metadata": {},
     "execution_count": 13
    }
   ],
   "cell_type": "code",
   "source": [
    "(X_train, y_train), (X_test, y_test) = stratifiedobs((features, labels))"
   ],
   "metadata": {},
   "execution_count": 13
  },
  {
   "cell_type": "markdown",
   "source": [
    "Now we can create several FuzzyART modules with different options."
   ],
   "metadata": {}
  },
  {
   "outputs": [
    {
     "output_type": "execute_result",
     "data": {
      "text/plain": "FuzzyART(opts_FuzzyART\n  rho: Float64 0.7\n  alpha: Float64 0.001\n  beta: Float64 1.0\n  gamma: Float64 3.0\n  gamma_ref: Float64 1.0\n  display: Bool false\n  max_epochs: Int64 1\n  gamma_normalization: Bool false\n, DataConfig(false, Float64[], Float64[], 0, 0), 0.0, Int64[], Float64[], Float64[], Array{Float64}(undef,0,0), Int64[], 0, 0)"
     },
     "metadata": {},
     "execution_count": 14
    }
   ],
   "cell_type": "code",
   "source": [
    "# Create two FuzzyARTs with different vigilance values and suppressing logging messages\n",
    "rho_1 = 0.5\n",
    "rho_2 = 0.7\n",
    "my_fuzzyart_1 = FuzzyART(rho=rho_1, display=false)\n",
    "my_fuzzyart_2 = FuzzyART(rho=rho_2, display=false)"
   ],
   "metadata": {},
   "execution_count": 14
  },
  {
   "cell_type": "markdown",
   "source": [
    "Here, we will train these FuzzyART modules in simple supervised mode by passing the supervised labels as a keyword argument:"
   ],
   "metadata": {}
  },
  {
   "outputs": [],
   "cell_type": "code",
   "source": [
    "# Train in simple supervised mode by passing the labels as a keyword argument.\n",
    "y_hat_train_1 = train!(my_fuzzyart_1, X_train, y=y_train)\n",
    "y_hat_train_2 = train!(my_fuzzyart_2, X_train, y=y_train)"
   ],
   "metadata": {},
   "execution_count": 15
  },
  {
   "cell_type": "markdown",
   "source": [
    "We then classify the test data with both modules:"
   ],
   "metadata": {}
  },
  {
   "outputs": [
    {
     "name": "stdout",
     "output_type": "stream",
     "text": [
      "FuzzyART 1 labels: (45,) Array{Int64,1}\n",
      "FuzzyART 2 labels: (45,) Array{Int64,1}\n",
      "Testing performance rho=0.5: 0.9111\n",
      "Testing performance rho=0.7: 0.9556\n"
     ]
    }
   ],
   "cell_type": "code",
   "source": [
    "y_hat_1 = AdaptiveResonance.classify(my_fuzzyart_1, X_test, get_bmu=true)\n",
    "y_hat_2 = AdaptiveResonance.classify(my_fuzzyart_2, X_test, get_bmu=true)\n",
    "\n",
    "# Check the shape and type of the output labels\n",
    "println(\"FuzzyART 1 labels: \",  size(y_hat_1), \" \", typeof(y_hat_1))\n",
    "println(\"FuzzyART 2 labels: \",  size(y_hat_2), \" \", typeof(y_hat_2))\n",
    "\n",
    "# Calculate the performance on the test data\n",
    "perf_test_1 = performance(y_hat_1, y_test)\n",
    "perf_test_2 = performance(y_hat_2, y_test)\n",
    "\n",
    "# Format each performance number for comparison\n",
    "@printf \"Testing performance rho=%.1f: %.4f\\n\" rho_1 perf_test_1\n",
    "@printf \"Testing performance rho=%.1f: %.4f\\n\" rho_2 perf_test_2"
   ],
   "metadata": {},
   "execution_count": 16
  },
  {
   "cell_type": "markdown",
   "source": [
    "In addition to having different performances, we can see that there is a subsequent trade-off in the number of categories used:"
   ],
   "metadata": {}
  },
  {
   "outputs": [
    {
     "name": "stdout",
     "output_type": "stream",
     "text": [
      "Number of categories rho=0.5: 10\n",
      "Number of categories rho=0.7: 17\n"
     ]
    }
   ],
   "cell_type": "code",
   "source": [
    "# Print the number of categories for each vigilance parameter\n",
    "@printf \"Number of categories rho=%.1f: %i\\n\" rho_1 my_fuzzyart_1.n_categories\n",
    "@printf \"Number of categories rho=%.1f: %i\\n\" rho_2 my_fuzzyart_2.n_categories"
   ],
   "metadata": {},
   "execution_count": 17
  },
  {
   "cell_type": "markdown",
   "source": [
    "The variation between vigilance parameter, number of categories created during learning, and testing performance/generalization is a central theme in ART-based algorithms."
   ],
   "metadata": {}
  },
  {
   "cell_type": "markdown",
   "source": [
    "## Visualization"
   ],
   "metadata": {}
  },
  {
   "cell_type": "markdown",
   "source": [
    "Now, to visualize how the two models differ in how they partition the data, we can use principal component analysis (PCA) to compress to two plotting dimensions.\n",
    "PCA is a method to represent a dataset in a different number of dimensions while preserving the relative separation between datapoints.\n",
    "Though most datasets are not able to be effectively transformed down to two dimensions, this technique is useful to get a general sense of how well separated the classes are and how well your algorithm classifies them."
   ],
   "metadata": {}
  },
  {
   "outputs": [
    {
     "output_type": "execute_result",
     "data": {
      "text/plain": "2×45 Array{Float64,2}:\n -1.77964   2.56239   -0.64169    …  -0.262336  -1.90474   -1.25763\n -0.501465  0.374685   0.0190712     -0.547893   0.118819  -0.179137"
     },
     "metadata": {},
     "execution_count": 18
    }
   ],
   "cell_type": "code",
   "source": [
    "# Train a PCA model to visually separate the features in two dimensions.\n",
    "M = fit(PCA, features; maxoutdim=2)\n",
    "\n",
    "# Apply the PCA model to the testing set\n",
    "X_test_pca = transform(M, X_test)"
   ],
   "metadata": {},
   "execution_count": 18
  },
  {
   "cell_type": "markdown",
   "source": [
    "We can now plot the PCA'ed test set and label them according to the two FuzzyART's"
   ],
   "metadata": {}
  },
  {
   "outputs": [
    {
     "output_type": "execute_result",
     "data": {
      "text/plain": "Plot{Plots.GRBackend() n=6}",
      "image/png": "[encoded data removed]",
      "text/html": [
       "<?xml version=\"1.0\" encoding=\"utf-8\"?>\n",
       "<svg xmlns=\"http://www.w3.org/2000/svg\" xmlns:xlink=\"http://www.w3.org/1999/xlink\" width=\"600\" height=\"400\" viewBox=\"0 0 2400 1600\">\n",
       "<defs>\n",
       "  <clipPath id=\"clip030\">\n",
       "    <rect x=\"0\" y=\"0\" width=\"2400\" height=\"1600\"/>\n",
       "  </clipPath>\n",
       "</defs>\n",
       "<path clip-path=\"url(#clip030)\" d=\"\n",
       "M0 1600 L2400 1600 L2400 0 L0 0  Z\n",
       "  \" fill=\"#ffffff\" fill-rule=\"evenodd\" fill-opacity=\"1\"/>\n",
       "<defs>\n",
       "  <clipPath id=\"clip031\">\n",
       "    <rect x=\"480\" y=\"0\" width=\"1681\" height=\"1600\"/>\n",
       "  </clipPath>\n",
       "</defs>\n",
       "<path clip-path=\"url(#clip030)\" d=\"\n",
       "M86.9921 1521.01 L1152.76 1521.01 L1152.76 62.9921 L86.9921 62.9921  Z\n",
       "  \" fill=\"#ffffff\" fill-rule=\"evenodd\" fill-opacity=\"1\"/>\n",
       "<defs>\n",
       "  <clipPath id=\"clip032\">\n",
       "    <rect x=\"86\" y=\"62\" width=\"1067\" height=\"1459\"/>\n",
       "  </clipPath>\n",
       "</defs>\n",
       "<polyline clip-path=\"url(#clip032)\" style=\"stroke:#000000; stroke-width:2; stroke-opacity:0.1; fill:none\" points=\"\n",
       "  87.7489,1521.01 87.7489,62.9921 \n",
       "  \"/>\n",
       "<polyline clip-path=\"url(#clip032)\" style=\"stroke:#000000; stroke-width:2; stroke-opacity:0.1; fill:none\" points=\"\n",
       "  374.203,1521.01 374.203,62.9921 \n",
       "  \"/>\n",
       "<polyline clip-path=\"url(#clip032)\" style=\"stroke:#000000; stroke-width:2; stroke-opacity:0.1; fill:none\" points=\"\n",
       "  660.657,1521.01 660.657,62.9921 \n",
       "  \"/>\n",
       "<polyline clip-path=\"url(#clip032)\" style=\"stroke:#000000; stroke-width:2; stroke-opacity:0.1; fill:none\" points=\"\n",
       "  947.111,1521.01 947.111,62.9921 \n",
       "  \"/>\n",
       "<polyline clip-path=\"url(#clip030)\" style=\"stroke:#000000; stroke-width:4; stroke-opacity:1; fill:none\" points=\"\n",
       "  86.9921,1521.01 1152.76,1521.01 \n",
       "  \"/>\n",
       "<polyline clip-path=\"url(#clip030)\" style=\"stroke:#000000; stroke-width:4; stroke-opacity:1; fill:none\" points=\"\n",
       "  87.7489,1521.01 87.7489,1503.51 \n",
       "  \"/>\n",
       "<polyline clip-path=\"url(#clip030)\" style=\"stroke:#000000; stroke-width:4; stroke-opacity:1; fill:none\" points=\"\n",
       "  374.203,1521.01 374.203,1503.51 \n",
       "  \"/>\n",
       "<polyline clip-path=\"url(#clip030)\" style=\"stroke:#000000; stroke-width:4; stroke-opacity:1; fill:none\" points=\"\n",
       "  660.657,1521.01 660.657,1503.51 \n",
       "  \"/>\n",
       "<polyline clip-path=\"url(#clip030)\" style=\"stroke:#000000; stroke-width:4; stroke-opacity:1; fill:none\" points=\"\n",
       "  947.111,1521.01 947.111,1503.51 \n",
       "  \"/>\n",
       "<path clip-path=\"url(#clip030)\" d=\"M 0 0 M66.308 1558.69 L88.5648 1558.69 L88.5648 1561.64 L66.308 1561.64 L66.308 1558.69 Z\" fill=\"#000000\" fill-rule=\"evenodd\" fill-opacity=\"1\" /><path clip-path=\"url(#clip030)\" d=\"M 0 0 M102.002 1548.45 L93.1481 1562.28 L102.002 1562.28 L102.002 1548.45 M101.082 1545.39 L105.492 1545.39 L105.492 1562.28 L109.19 1562.28 L109.19 1565.2 L105.492 1565.2 L105.492 1571.31 L102.002 1571.31 L102.002 1565.2 L90.3009 1565.2 L90.3009 1561.82 L101.082 1545.39 Z\" fill=\"#000000\" fill-rule=\"evenodd\" fill-opacity=\"1\" /><path clip-path=\"url(#clip030)\" d=\"M 0 0 M353.543 1558.69 L375.8 1558.69 L375.8 1561.64 L353.543 1561.64 L353.543 1558.69 Z\" fill=\"#000000\" fill-rule=\"evenodd\" fill-opacity=\"1\" /><path clip-path=\"url(#clip030)\" d=\"M 0 0 M382.623 1568.36 L394.863 1568.36 L394.863 1571.31 L378.404 1571.31 L378.404 1568.36 Q380.401 1566.29 383.838 1562.82 Q387.293 1559.33 388.179 1558.33 Q389.863 1556.43 390.522 1555.13 Q391.199 1553.81 391.199 1552.54 Q391.199 1550.48 389.741 1549.18 Q388.3 1547.87 385.974 1547.87 Q384.324 1547.87 382.484 1548.45 Q380.661 1549.02 378.578 1550.18 L378.578 1546.64 Q380.696 1545.79 382.536 1545.36 Q384.376 1544.92 385.904 1544.92 Q389.932 1544.92 392.328 1546.94 Q394.724 1548.95 394.724 1552.32 Q394.724 1553.92 394.116 1555.36 Q393.526 1556.78 391.946 1558.73 Q391.512 1559.23 389.185 1561.64 Q386.859 1564.04 382.623 1568.36 Z\" fill=\"#000000\" fill-rule=\"evenodd\" fill-opacity=\"1\" /><path clip-path=\"url(#clip030)\" d=\"M 0 0 M660.657 1547.7 Q657.949 1547.7 656.577 1550.37 Q655.223 1553.03 655.223 1558.38 Q655.223 1563.71 656.577 1566.38 Q657.949 1569.04 660.657 1569.04 Q663.383 1569.04 664.737 1566.38 Q666.108 1563.71 666.108 1558.38 Q666.108 1553.03 664.737 1550.37 Q663.383 1547.7 660.657 1547.7 M660.657 1544.92 Q665.015 1544.92 667.306 1548.38 Q669.615 1551.82 669.615 1558.38 Q669.615 1564.92 667.306 1568.38 Q665.015 1571.82 660.657 1571.82 Q656.299 1571.82 653.99 1568.38 Q651.699 1564.92 651.699 1558.38 Q651.699 1551.82 653.99 1548.38 Q656.299 1544.92 660.657 1544.92 Z\" fill=\"#000000\" fill-rule=\"evenodd\" fill-opacity=\"1\" /><path clip-path=\"url(#clip030)\" d=\"M 0 0 M943.101 1568.36 L955.34 1568.36 L955.34 1571.31 L938.882 1571.31 L938.882 1568.36 Q940.878 1566.29 944.316 1562.82 Q947.771 1559.33 948.656 1558.33 Q950.34 1556.43 951 1555.13 Q951.677 1553.81 951.677 1552.54 Q951.677 1550.48 950.219 1549.18 Q948.778 1547.87 946.451 1547.87 Q944.802 1547.87 942.962 1548.45 Q941.139 1549.02 939.055 1550.18 L939.055 1546.64 Q941.174 1545.79 943.014 1545.36 Q944.854 1544.92 946.382 1544.92 Q950.41 1544.92 952.805 1546.94 Q955.201 1548.95 955.201 1552.32 Q955.201 1553.92 954.594 1555.36 Q954.003 1556.78 952.423 1558.73 Q951.989 1559.23 949.663 1561.64 Q947.337 1564.04 943.101 1568.36 Z\" fill=\"#000000\" fill-rule=\"evenodd\" fill-opacity=\"1\" /><polyline clip-path=\"url(#clip032)\" style=\"stroke:#000000; stroke-width:2; stroke-opacity:0.1; fill:none\" points=\"\n",
       "  86.9921,1474.46 1152.76,1474.46 \n",
       "  \"/>\n",
       "<polyline clip-path=\"url(#clip032)\" style=\"stroke:#000000; stroke-width:2; stroke-opacity:0.1; fill:none\" points=\"\n",
       "  86.9921,1161.09 1152.76,1161.09 \n",
       "  \"/>\n",
       "<polyline clip-path=\"url(#clip032)\" style=\"stroke:#000000; stroke-width:2; stroke-opacity:0.1; fill:none\" points=\"\n",
       "  86.9921,847.709 1152.76,847.709 \n",
       "  \"/>\n",
       "<polyline clip-path=\"url(#clip032)\" style=\"stroke:#000000; stroke-width:2; stroke-opacity:0.1; fill:none\" points=\"\n",
       "  86.9921,534.332 1152.76,534.332 \n",
       "  \"/>\n",
       "<polyline clip-path=\"url(#clip032)\" style=\"stroke:#000000; stroke-width:2; stroke-opacity:0.1; fill:none\" points=\"\n",
       "  86.9921,220.955 1152.76,220.955 \n",
       "  \"/>\n",
       "<polyline clip-path=\"url(#clip030)\" style=\"stroke:#000000; stroke-width:4; stroke-opacity:1; fill:none\" points=\"\n",
       "  86.9921,1521.01 86.9921,62.9921 \n",
       "  \"/>\n",
       "<polyline clip-path=\"url(#clip030)\" style=\"stroke:#000000; stroke-width:4; stroke-opacity:1; fill:none\" points=\"\n",
       "  86.9921,1474.46 99.7813,1474.46 \n",
       "  \"/>\n",
       "<polyline clip-path=\"url(#clip030)\" style=\"stroke:#000000; stroke-width:4; stroke-opacity:1; fill:none\" points=\"\n",
       "  86.9921,1161.09 99.7813,1161.09 \n",
       "  \"/>\n",
       "<polyline clip-path=\"url(#clip030)\" style=\"stroke:#000000; stroke-width:4; stroke-opacity:1; fill:none\" points=\"\n",
       "  86.9921,847.709 99.7813,847.709 \n",
       "  \"/>\n",
       "<polyline clip-path=\"url(#clip030)\" style=\"stroke:#000000; stroke-width:4; stroke-opacity:1; fill:none\" points=\"\n",
       "  86.9921,534.332 99.7813,534.332 \n",
       "  \"/>\n",
       "<polyline clip-path=\"url(#clip030)\" style=\"stroke:#000000; stroke-width:4; stroke-opacity:1; fill:none\" points=\"\n",
       "  86.9921,220.955 99.7813,220.955 \n",
       "  \"/>\n",
       "<path clip-path=\"url(#clip030)\" d=\"M 0 0 M-41.4379 1474.91 L-11.7622 1474.91 L-11.7622 1478.85 L-41.4379 1478.85 L-41.4379 1474.91 Z\" fill=\"#000000\" fill-rule=\"evenodd\" fill-opacity=\"1\" /><path clip-path=\"url(#clip030)\" d=\"M 0 0 M-5.88257 1487.81 L1.75628 1487.81 L1.75628 1461.44 L-6.55386 1463.11 L-6.55386 1458.85 L1.70998 1457.18 L6.38588 1457.18 L6.38588 1487.81 L14.0247 1487.81 L14.0247 1491.74 L-5.88257 1491.74 L-5.88257 1487.81 Z\" fill=\"#000000\" fill-rule=\"evenodd\" fill-opacity=\"1\" /><path clip-path=\"url(#clip030)\" d=\"M 0 0 M19.0941 1485.86 L23.9784 1485.86 L23.9784 1491.74 L19.0941 1491.74 L19.0941 1485.86 Z\" fill=\"#000000\" fill-rule=\"evenodd\" fill-opacity=\"1\" /><path clip-path=\"url(#clip030)\" d=\"M 0 0 M39.0477 1460.26 Q35.4367 1460.26 33.608 1463.83 Q31.8024 1467.37 31.8024 1474.5 Q31.8024 1481.6 33.608 1485.17 Q35.4367 1488.71 39.0477 1488.71 Q42.682 1488.71 44.4875 1485.17 Q46.3162 1481.6 46.3162 1474.5 Q46.3162 1467.37 44.4875 1463.83 Q42.682 1460.26 39.0477 1460.26 M39.0477 1456.56 Q44.8579 1456.56 47.9134 1461.16 Q50.9921 1465.75 50.9921 1474.5 Q50.9921 1483.22 47.9134 1487.83 Q44.8579 1492.41 39.0477 1492.41 Q33.2376 1492.41 30.1589 1487.83 Q27.1034 1483.22 27.1034 1474.5 Q27.1034 1465.75 30.1589 1461.16 Q33.2376 1456.56 39.0477 1456.56 Z\" fill=\"#000000\" fill-rule=\"evenodd\" fill-opacity=\"1\" /><path clip-path=\"url(#clip030)\" d=\"M 0 0 M-41.6694 1161.54 L-11.9936 1161.54 L-11.9936 1165.47 L-41.6694 1165.47 L-41.6694 1161.54 Z\" fill=\"#000000\" fill-rule=\"evenodd\" fill-opacity=\"1\" /><path clip-path=\"url(#clip030)\" d=\"M 0 0 M3.07572 1146.88 Q-0.535376 1146.88 -2.36407 1150.45 Q-4.16962 1153.99 -4.16962 1161.12 Q-4.16962 1168.23 -2.36407 1171.79 Q-0.535376 1175.33 3.07572 1175.33 Q6.70996 1175.33 8.5155 1171.79 Q10.3442 1168.23 10.3442 1161.12 Q10.3442 1153.99 8.5155 1150.45 Q6.70996 1146.88 3.07572 1146.88 M3.07572 1143.18 Q8.88587 1143.18 11.9414 1147.79 Q15.0201 1152.37 15.0201 1161.12 Q15.0201 1169.85 11.9414 1174.45 Q8.88587 1179.04 3.07572 1179.04 Q-2.73444 1179.04 -5.81313 1174.45 Q-8.86866 1169.85 -8.86866 1161.12 Q-8.86866 1152.37 -5.81313 1147.79 Q-2.73444 1143.18 3.07572 1143.18 Z\" fill=\"#000000\" fill-rule=\"evenodd\" fill-opacity=\"1\" /><path clip-path=\"url(#clip030)\" d=\"M 0 0 M20.0895 1172.49 L24.9737 1172.49 L24.9737 1178.37 L20.0895 1178.37 L20.0895 1172.49 Z\" fill=\"#000000\" fill-rule=\"evenodd\" fill-opacity=\"1\" /><path clip-path=\"url(#clip030)\" d=\"M 0 0 M30.0895 1143.81 L48.4458 1143.81 L48.4458 1147.74 L34.3718 1147.74 L34.3718 1156.21 Q35.3904 1155.87 36.4089 1155.7 Q37.4274 1155.52 38.4459 1155.52 Q44.2329 1155.52 47.6125 1158.69 Q50.9921 1161.86 50.9921 1167.28 Q50.9921 1172.86 47.5199 1175.96 Q44.0477 1179.04 37.7283 1179.04 Q35.5524 1179.04 33.2839 1178.67 Q31.0385 1178.3 28.6311 1177.56 L28.6311 1172.86 Q30.7145 1173.99 32.9367 1174.55 Q35.1589 1175.1 37.6357 1175.1 Q41.6403 1175.1 43.9783 1173 Q46.3162 1170.89 46.3162 1167.28 Q46.3162 1163.67 43.9783 1161.56 Q41.6403 1159.45 37.6357 1159.45 Q35.7607 1159.45 33.8857 1159.87 Q32.0339 1160.29 30.0895 1161.17 L30.0895 1143.81 Z\" fill=\"#000000\" fill-rule=\"evenodd\" fill-opacity=\"1\" /><path clip-path=\"url(#clip030)\" d=\"M 0 0 M2.08035 833.508 Q-1.53074 833.508 -3.35943 837.073 Q-5.16498 840.614 -5.16498 847.744 Q-5.16498 854.85 -3.35943 858.415 Q-1.53074 861.957 2.08035 861.957 Q5.71459 861.957 7.52014 858.415 Q9.34883 854.85 9.34883 847.744 Q9.34883 840.614 7.52014 837.073 Q5.71459 833.508 2.08035 833.508 M2.08035 829.804 Q7.89051 829.804 10.946 834.411 Q14.0247 838.994 14.0247 847.744 Q14.0247 856.471 10.946 861.077 Q7.89051 865.66 2.08035 865.66 Q-3.7298 865.66 -6.80849 861.077 Q-9.86403 856.471 -9.86403 847.744 Q-9.86403 838.994 -6.80849 834.411 Q-3.7298 829.804 2.08035 829.804 Z\" fill=\"#000000\" fill-rule=\"evenodd\" fill-opacity=\"1\" /><path clip-path=\"url(#clip030)\" d=\"M 0 0 M19.0941 859.109 L23.9784 859.109 L23.9784 864.989 L19.0941 864.989 L19.0941 859.109 Z\" fill=\"#000000\" fill-rule=\"evenodd\" fill-opacity=\"1\" /><path clip-path=\"url(#clip030)\" d=\"M 0 0 M39.0477 833.508 Q35.4367 833.508 33.608 837.073 Q31.8024 840.614 31.8024 847.744 Q31.8024 854.85 33.608 858.415 Q35.4367 861.957 39.0477 861.957 Q42.682 861.957 44.4875 858.415 Q46.3162 854.85 46.3162 847.744 Q46.3162 840.614 44.4875 837.073 Q42.682 833.508 39.0477 833.508 M39.0477 829.804 Q44.8579 829.804 47.9134 834.411 Q50.9921 838.994 50.9921 847.744 Q50.9921 856.471 47.9134 861.077 Q44.8579 865.66 39.0477 865.66 Q33.2376 865.66 30.1589 861.077 Q27.1034 856.471 27.1034 847.744 Q27.1034 838.994 30.1589 834.411 Q33.2376 829.804 39.0477 829.804 Z\" fill=\"#000000\" fill-rule=\"evenodd\" fill-opacity=\"1\" /><path clip-path=\"url(#clip030)\" d=\"M 0 0 M3.07572 520.131 Q-0.535376 520.131 -2.36407 523.696 Q-4.16962 527.237 -4.16962 534.367 Q-4.16962 541.473 -2.36407 545.038 Q-0.535376 548.58 3.07572 548.58 Q6.70996 548.58 8.5155 545.038 Q10.3442 541.473 10.3442 534.367 Q10.3442 527.237 8.5155 523.696 Q6.70996 520.131 3.07572 520.131 M3.07572 516.427 Q8.88587 516.427 11.9414 521.034 Q15.0201 525.617 15.0201 534.367 Q15.0201 543.094 11.9414 547.7 Q8.88587 552.283 3.07572 552.283 Q-2.73444 552.283 -5.81313 547.7 Q-8.86866 543.094 -8.86866 534.367 Q-8.86866 525.617 -5.81313 521.034 Q-2.73444 516.427 3.07572 516.427 Z\" fill=\"#000000\" fill-rule=\"evenodd\" fill-opacity=\"1\" /><path clip-path=\"url(#clip030)\" d=\"M 0 0 M20.0895 545.732 L24.9737 545.732 L24.9737 551.612 L20.0895 551.612 L20.0895 545.732 Z\" fill=\"#000000\" fill-rule=\"evenodd\" fill-opacity=\"1\" /><path clip-path=\"url(#clip030)\" d=\"M 0 0 M30.0895 517.052 L48.4458 517.052 L48.4458 520.987 L34.3718 520.987 L34.3718 529.459 Q35.3904 529.112 36.4089 528.95 Q37.4274 528.765 38.4459 528.765 Q44.2329 528.765 47.6125 531.936 Q50.9921 535.108 50.9921 540.524 Q50.9921 546.103 47.5199 549.205 Q44.0477 552.283 37.7283 552.283 Q35.5524 552.283 33.2839 551.913 Q31.0385 551.543 28.6311 550.802 L28.6311 546.103 Q30.7145 547.237 32.9367 547.793 Q35.1589 548.348 37.6357 548.348 Q41.6403 548.348 43.9783 546.242 Q46.3162 544.135 46.3162 540.524 Q46.3162 536.913 43.9783 534.807 Q41.6403 532.7 37.6357 532.7 Q35.7607 532.7 33.8857 533.117 Q32.0339 533.533 30.0895 534.413 L30.0895 517.052 Z\" fill=\"#000000\" fill-rule=\"evenodd\" fill-opacity=\"1\" /><path clip-path=\"url(#clip030)\" d=\"M 0 0 M-5.88257 234.3 L1.75628 234.3 L1.75628 207.934 L-6.55386 209.601 L-6.55386 205.342 L1.70998 203.675 L6.38588 203.675 L6.38588 234.3 L14.0247 234.3 L14.0247 238.235 L-5.88257 238.235 L-5.88257 234.3 Z\" fill=\"#000000\" fill-rule=\"evenodd\" fill-opacity=\"1\" /><path clip-path=\"url(#clip030)\" d=\"M 0 0 M19.0941 232.356 L23.9784 232.356 L23.9784 238.235 L19.0941 238.235 L19.0941 232.356 Z\" fill=\"#000000\" fill-rule=\"evenodd\" fill-opacity=\"1\" /><path clip-path=\"url(#clip030)\" d=\"M 0 0 M39.0477 206.754 Q35.4367 206.754 33.608 210.319 Q31.8024 213.86 31.8024 220.99 Q31.8024 228.096 33.608 231.661 Q35.4367 235.203 39.0477 235.203 Q42.682 235.203 44.4875 231.661 Q46.3162 228.096 46.3162 220.99 Q46.3162 213.86 44.4875 210.319 Q42.682 206.754 39.0477 206.754 M39.0477 203.05 Q44.8579 203.05 47.9134 207.657 Q50.9921 212.24 50.9921 220.99 Q50.9921 229.717 47.9134 234.323 Q44.8579 238.906 39.0477 238.906 Q33.2376 238.906 30.1589 234.323 Q27.1034 229.717 27.1034 220.99 Q27.1034 212.24 30.1589 207.657 Q33.2376 203.05 39.0477 203.05 Z\" fill=\"#000000\" fill-rule=\"evenodd\" fill-opacity=\"1\" /><path clip-path=\"url(#clip030)\" d=\"M 0 0 M410.581 6.912 L430.442 6.912 L430.442 10.8472 L415.257 10.8472 L415.257 21.0323 L428.961 21.0323 L428.961 24.9675 L415.257 24.9675 L415.257 41.472 L410.581 41.472 L410.581 6.912 Z\" fill=\"#000000\" fill-rule=\"evenodd\" fill-opacity=\"1\" /><path clip-path=\"url(#clip030)\" d=\"M 0 0 M431.877 31.2406 L431.877 15.5462 L436.137 15.5462 L436.137 31.0785 Q436.137 34.7591 437.572 36.6109 Q439.007 38.4396 441.877 38.4396 Q445.326 38.4396 447.317 36.2405 Q449.331 34.0415 449.331 30.2452 L449.331 15.5462 L453.59 15.5462 L453.59 41.472 L449.331 41.472 L449.331 37.4905 Q447.78 39.8516 445.72 41.009 Q443.683 42.1433 440.975 42.1433 Q436.507 42.1433 434.192 39.3655 Q431.877 36.5878 431.877 31.2406 M442.595 14.9212 L442.595 14.9212 Z\" fill=\"#000000\" fill-rule=\"evenodd\" fill-opacity=\"1\" /><path clip-path=\"url(#clip030)\" d=\"M 0 0 M456.206 15.5462 L476.437 15.5462 L476.437 19.4351 L460.419 38.0692 L476.437 38.0692 L476.437 41.472 L455.627 41.472 L455.627 37.5831 L471.646 18.949 L456.206 18.949 L456.206 15.5462 Z\" fill=\"#000000\" fill-rule=\"evenodd\" fill-opacity=\"1\" /><path clip-path=\"url(#clip030)\" d=\"M 0 0 M479.053 15.5462 L499.284 15.5462 L499.284 19.4351 L483.266 38.0692 L499.284 38.0692 L499.284 41.472 L478.474 41.472 L478.474 37.5831 L494.493 18.949 L479.053 18.949 L479.053 15.5462 Z\" fill=\"#000000\" fill-rule=\"evenodd\" fill-opacity=\"1\" /><path clip-path=\"url(#clip030)\" d=\"M 0 0 M514.539 43.8794 Q512.733 48.509 511.02 49.921 Q509.307 51.3331 506.437 51.3331 L503.034 51.3331 L503.034 47.7683 L505.534 47.7683 Q507.294 47.7683 508.266 46.9349 Q509.238 46.1016 510.419 42.9998 L511.182 41.0553 L500.696 15.5462 L505.21 15.5462 L513.312 35.8239 L521.414 15.5462 L525.928 15.5462 L514.539 43.8794 Z\" fill=\"#000000\" fill-rule=\"evenodd\" fill-opacity=\"1\" /><path clip-path=\"url(#clip030)\" d=\"M 0 0 M542.131 11.5185 L535.789 28.7174 L548.497 28.7174 L542.131 11.5185 M539.493 6.912 L544.793 6.912 L557.965 41.472 L553.104 41.472 L549.955 32.6063 L534.377 32.6063 L531.229 41.472 L526.298 41.472 L539.493 6.912 Z\" fill=\"#000000\" fill-rule=\"evenodd\" fill-opacity=\"1\" /><path clip-path=\"url(#clip030)\" d=\"M 0 0 M579.006 25.2684 Q580.511 25.7776 581.923 27.4443 Q583.358 29.111 584.793 32.0276 L589.539 41.472 L584.515 41.472 L580.094 32.6063 Q578.381 29.1341 576.761 27.9998 Q575.164 26.8656 572.386 26.8656 L567.293 26.8656 L567.293 41.472 L562.617 41.472 L562.617 6.912 L573.173 6.912 Q579.099 6.912 582.015 9.38884 Q584.932 11.8657 584.932 16.8657 Q584.932 20.1295 583.404 22.2823 Q581.9 24.4351 579.006 25.2684 M567.293 10.7546 L567.293 23.023 L573.173 23.023 Q576.552 23.023 578.265 21.4721 Q580.002 19.898 580.002 16.8657 Q580.002 13.8333 578.265 12.3055 Q576.552 10.7546 573.173 10.7546 L567.293 10.7546 Z\" fill=\"#000000\" fill-rule=\"evenodd\" fill-opacity=\"1\" /><path clip-path=\"url(#clip030)\" d=\"M 0 0 M585.951 6.912 L615.187 6.912 L615.187 10.8472 L602.918 10.8472 L602.918 41.472 L598.219 41.472 L598.219 10.8472 L585.951 10.8472 L585.951 6.912 Z\" fill=\"#000000\" fill-rule=\"evenodd\" fill-opacity=\"1\" /><path clip-path=\"url(#clip030)\" d=\"M 0 0 M649.747 19.5277 Q649.029 19.111 648.172 18.9258 Q647.339 18.7175 646.321 18.7175 Q642.71 18.7175 640.765 21.0786 Q638.844 23.4165 638.844 27.8147 L638.844 41.472 L634.561 41.472 L634.561 15.5462 L638.844 15.5462 L638.844 19.574 Q640.186 17.2129 642.339 16.0786 Q644.492 14.9212 647.571 14.9212 Q648.01 14.9212 648.543 14.9907 Q649.075 15.037 649.723 15.1527 L649.747 19.5277 Z\" fill=\"#000000\" fill-rule=\"evenodd\" fill-opacity=\"1\" /><path clip-path=\"url(#clip030)\" d=\"M 0 0 M674.932 25.8239 L674.932 41.472 L670.672 41.472 L670.672 25.9628 Q670.672 22.2823 669.237 20.4536 Q667.802 18.6249 664.932 18.6249 Q661.483 18.6249 659.492 20.824 Q657.501 23.023 657.501 26.8193 L657.501 41.472 L653.219 41.472 L653.219 5.45367 L657.501 5.45367 L657.501 19.574 Q659.029 17.236 661.089 16.0786 Q663.172 14.9212 665.881 14.9212 Q670.348 14.9212 672.64 17.699 Q674.932 20.4536 674.932 25.8239 Z\" fill=\"#000000\" fill-rule=\"evenodd\" fill-opacity=\"1\" /><path clip-path=\"url(#clip030)\" d=\"M 0 0 M689.445 18.5323 Q686.019 18.5323 684.029 21.2175 Q682.038 23.8795 682.038 28.5323 Q682.038 33.185 684.006 35.8702 Q685.996 38.5322 689.445 38.5322 Q692.848 38.5322 694.839 35.847 Q696.83 33.1619 696.83 28.5323 Q696.83 23.9258 694.839 21.2406 Q692.848 18.5323 689.445 18.5323 M689.445 14.9212 Q695.001 14.9212 698.172 18.5323 Q701.343 22.1434 701.343 28.5323 Q701.343 34.898 698.172 38.5322 Q695.001 42.1433 689.445 42.1433 Q683.867 42.1433 680.695 38.5322 Q677.547 34.898 677.547 28.5323 Q677.547 22.1434 680.695 18.5323 Q683.867 14.9212 689.445 14.9212 Z\" fill=\"#000000\" fill-rule=\"evenodd\" fill-opacity=\"1\" /><path clip-path=\"url(#clip030)\" d=\"M 0 0 M721.436 19.9443 L751.112 19.9443 L751.112 23.8332 L721.436 23.8332 L721.436 19.9443 M721.436 29.3887 L751.112 29.3887 L751.112 33.3239 L721.436 33.3239 L721.436 29.3887 Z\" fill=\"#000000\" fill-rule=\"evenodd\" fill-opacity=\"1\" /><path clip-path=\"url(#clip030)\" d=\"M 0 0 M781.25 9.99069 Q777.639 9.99069 775.811 13.5555 Q774.005 17.0971 774.005 24.2267 Q774.005 31.3332 775.811 34.898 Q777.639 38.4396 781.25 38.4396 Q784.885 38.4396 786.69 34.898 Q788.519 31.3332 788.519 24.2267 Q788.519 17.0971 786.69 13.5555 Q784.885 9.99069 781.25 9.99069 M781.25 6.287 Q787.061 6.287 790.116 10.8935 Q793.195 15.4768 793.195 24.2267 Q793.195 32.9535 790.116 37.56 Q787.061 42.1433 781.25 42.1433 Q775.44 42.1433 772.362 37.56 Q769.306 32.9535 769.306 24.2267 Q769.306 15.4768 772.362 10.8935 Q775.44 6.287 781.25 6.287 Z\" fill=\"#000000\" fill-rule=\"evenodd\" fill-opacity=\"1\" /><path clip-path=\"url(#clip030)\" d=\"M 0 0 M798.264 35.5924 L803.148 35.5924 L803.148 41.472 L798.264 41.472 L798.264 35.5924 Z\" fill=\"#000000\" fill-rule=\"evenodd\" fill-opacity=\"1\" /><path clip-path=\"url(#clip030)\" d=\"M 0 0 M808.264 6.912 L826.621 6.912 L826.621 10.8472 L812.547 10.8472 L812.547 19.3193 Q813.565 18.9721 814.584 18.8101 Q815.602 18.6249 816.621 18.6249 Q822.408 18.6249 825.787 21.7962 Q829.167 24.9675 829.167 30.3841 Q829.167 35.9628 825.695 39.0646 Q822.222 42.1433 815.903 42.1433 Q813.727 42.1433 811.459 41.7729 Q809.213 41.4026 806.806 40.6618 L806.806 35.9628 Q808.889 37.097 811.111 37.6526 Q813.334 38.2081 815.81 38.2081 Q819.815 38.2081 822.153 36.1017 Q824.491 33.9952 824.491 30.3841 Q824.491 26.773 822.153 24.6665 Q819.815 22.5601 815.81 22.5601 Q813.935 22.5601 812.06 22.9767 Q810.209 23.3934 808.264 24.273 L808.264 6.912 Z\" fill=\"#000000\" fill-rule=\"evenodd\" fill-opacity=\"1\" /><circle clip-path=\"url(#clip032)\" cx=\"1027.66\" cy=\"612.874\" r=\"14\" fill=\"#009af9\" fill-rule=\"evenodd\" fill-opacity=\"1\" stroke=\"#000000\" stroke-opacity=\"1\" stroke-width=\"3.2\"/>\n",
       "<circle clip-path=\"url(#clip032)\" cx=\"1122.59\" cy=\"1163.14\" r=\"14\" fill=\"#009af9\" fill-rule=\"evenodd\" fill-opacity=\"1\" stroke=\"#000000\" stroke-opacity=\"1\" stroke-width=\"3.2\"/>\n",
       "<circle clip-path=\"url(#clip032)\" cx=\"1031.66\" cy=\"699.758\" r=\"14\" fill=\"#009af9\" fill-rule=\"evenodd\" fill-opacity=\"1\" stroke=\"#000000\" stroke-opacity=\"1\" stroke-width=\"3.2\"/>\n",
       "<circle clip-path=\"url(#clip032)\" cx=\"1054.02\" cy=\"1042.71\" r=\"14\" fill=\"#009af9\" fill-rule=\"evenodd\" fill-opacity=\"1\" stroke=\"#000000\" stroke-opacity=\"1\" stroke-width=\"3.2\"/>\n",
       "<circle clip-path=\"url(#clip032)\" cx=\"1031.23\" cy=\"521.5\" r=\"14\" fill=\"#009af9\" fill-rule=\"evenodd\" fill-opacity=\"1\" stroke=\"#000000\" stroke-opacity=\"1\" stroke-width=\"3.2\"/>\n",
       "<circle clip-path=\"url(#clip032)\" cx=\"1024.11\" cy=\"527.834\" r=\"14\" fill=\"#009af9\" fill-rule=\"evenodd\" fill-opacity=\"1\" stroke=\"#000000\" stroke-opacity=\"1\" stroke-width=\"3.2\"/>\n",
       "<circle clip-path=\"url(#clip032)\" cx=\"1019.66\" cy=\"439.106\" r=\"14\" fill=\"#009af9\" fill-rule=\"evenodd\" fill-opacity=\"1\" stroke=\"#000000\" stroke-opacity=\"1\" stroke-width=\"3.2\"/>\n",
       "<circle clip-path=\"url(#clip032)\" cx=\"1034.93\" cy=\"834.221\" r=\"14\" fill=\"#009af9\" fill-rule=\"evenodd\" fill-opacity=\"1\" stroke=\"#000000\" stroke-opacity=\"1\" stroke-width=\"3.2\"/>\n",
       "<circle clip-path=\"url(#clip032)\" cx=\"977.021\" cy=\"570.248\" r=\"14\" fill=\"#009af9\" fill-rule=\"evenodd\" fill-opacity=\"1\" stroke=\"#000000\" stroke-opacity=\"1\" stroke-width=\"3.2\"/>\n",
       "<circle clip-path=\"url(#clip032)\" cx=\"1039.28\" cy=\"104.257\" r=\"14\" fill=\"#009af9\" fill-rule=\"evenodd\" fill-opacity=\"1\" stroke=\"#000000\" stroke-opacity=\"1\" stroke-width=\"3.2\"/>\n",
       "<circle clip-path=\"url(#clip032)\" cx=\"1036.66\" cy=\"467.395\" r=\"14\" fill=\"#009af9\" fill-rule=\"evenodd\" fill-opacity=\"1\" stroke=\"#000000\" stroke-opacity=\"1\" stroke-width=\"3.2\"/>\n",
       "<circle clip-path=\"url(#clip032)\" cx=\"998.124\" cy=\"867.27\" r=\"14\" fill=\"#009af9\" fill-rule=\"evenodd\" fill-opacity=\"1\" stroke=\"#000000\" stroke-opacity=\"1\" stroke-width=\"3.2\"/>\n",
       "<circle clip-path=\"url(#clip032)\" cx=\"1024.92\" cy=\"571.917\" r=\"14\" fill=\"#009af9\" fill-rule=\"evenodd\" fill-opacity=\"1\" stroke=\"#000000\" stroke-opacity=\"1\" stroke-width=\"3.2\"/>\n",
       "<circle clip-path=\"url(#clip032)\" cx=\"1019.86\" cy=\"934.863\" r=\"14\" fill=\"#009af9\" fill-rule=\"evenodd\" fill-opacity=\"1\" stroke=\"#000000\" stroke-opacity=\"1\" stroke-width=\"3.2\"/>\n",
       "<circle clip-path=\"url(#clip032)\" cx=\"1005.19\" cy=\"724.917\" r=\"14\" fill=\"#009af9\" fill-rule=\"evenodd\" fill-opacity=\"1\" stroke=\"#000000\" stroke-opacity=\"1\" stroke-width=\"3.2\"/>\n",
       "<circle clip-path=\"url(#clip032)\" cx=\"568.75\" cy=\"835.756\" r=\"14\" fill=\"#e26f46\" fill-rule=\"evenodd\" fill-opacity=\"1\" stroke=\"#000000\" stroke-opacity=\"1\" stroke-width=\"3.2\"/>\n",
       "<circle clip-path=\"url(#clip032)\" cx=\"470.016\" cy=\"694.361\" r=\"14\" fill=\"#e26f46\" fill-rule=\"evenodd\" fill-opacity=\"1\" stroke=\"#000000\" stroke-opacity=\"1\" stroke-width=\"3.2\"/>\n",
       "<circle clip-path=\"url(#clip032)\" cx=\"768.287\" cy=\"1475.16\" r=\"14\" fill=\"#e26f46\" fill-rule=\"evenodd\" fill-opacity=\"1\" stroke=\"#000000\" stroke-opacity=\"1\" stroke-width=\"3.2\"/>\n",
       "<circle clip-path=\"url(#clip032)\" cx=\"485.859\" cy=\"591.971\" r=\"14\" fill=\"#e26f46\" fill-rule=\"evenodd\" fill-opacity=\"1\" stroke=\"#000000\" stroke-opacity=\"1\" stroke-width=\"3.2\"/>\n",
       "<circle clip-path=\"url(#clip032)\" cx=\"544.291\" cy=\"949.451\" r=\"14\" fill=\"#e26f46\" fill-rule=\"evenodd\" fill-opacity=\"1\" stroke=\"#000000\" stroke-opacity=\"1\" stroke-width=\"3.2\"/>\n",
       "<circle clip-path=\"url(#clip032)\" cx=\"527.111\" cy=\"647.65\" r=\"14\" fill=\"#e26f46\" fill-rule=\"evenodd\" fill-opacity=\"1\" stroke=\"#000000\" stroke-opacity=\"1\" stroke-width=\"3.2\"/>\n",
       "<circle clip-path=\"url(#clip032)\" cx=\"618.003\" cy=\"1065.2\" r=\"14\" fill=\"#e26f46\" fill-rule=\"evenodd\" fill-opacity=\"1\" stroke=\"#000000\" stroke-opacity=\"1\" stroke-width=\"3.2\"/>\n",
       "<circle clip-path=\"url(#clip032)\" cx=\"527.803\" cy=\"554.24\" r=\"14\" fill=\"#e26f46\" fill-rule=\"evenodd\" fill-opacity=\"1\" stroke=\"#000000\" stroke-opacity=\"1\" stroke-width=\"3.2\"/>\n",
       "<circle clip-path=\"url(#clip032)\" cx=\"609.555\" cy=\"889.591\" r=\"14\" fill=\"#e26f46\" fill-rule=\"evenodd\" fill-opacity=\"1\" stroke=\"#000000\" stroke-opacity=\"1\" stroke-width=\"3.2\"/>\n",
       "<circle clip-path=\"url(#clip032)\" cx=\"761.93\" cy=\"1479.74\" r=\"14\" fill=\"#e26f46\" fill-rule=\"evenodd\" fill-opacity=\"1\" stroke=\"#000000\" stroke-opacity=\"1\" stroke-width=\"3.2\"/>\n",
       "<circle clip-path=\"url(#clip032)\" cx=\"623.083\" cy=\"1191.1\" r=\"14\" fill=\"#e26f46\" fill-rule=\"evenodd\" fill-opacity=\"1\" stroke=\"#000000\" stroke-opacity=\"1\" stroke-width=\"3.2\"/>\n",
       "<circle clip-path=\"url(#clip032)\" cx=\"405.764\" cy=\"1162\" r=\"14\" fill=\"#3da44d\" fill-rule=\"evenodd\" fill-opacity=\"1\" stroke=\"#000000\" stroke-opacity=\"1\" stroke-width=\"3.2\"/>\n",
       "<circle clip-path=\"url(#clip032)\" cx=\"117.155\" cy=\"688.974\" r=\"14\" fill=\"#3da44d\" fill-rule=\"evenodd\" fill-opacity=\"1\" stroke=\"#000000\" stroke-opacity=\"1\" stroke-width=\"3.2\"/>\n",
       "<circle clip-path=\"url(#clip032)\" cx=\"500.781\" cy=\"900.491\" r=\"14\" fill=\"#3da44d\" fill-rule=\"evenodd\" fill-opacity=\"1\" stroke=\"#000000\" stroke-opacity=\"1\" stroke-width=\"3.2\"/>\n",
       "<circle clip-path=\"url(#clip032)\" cx=\"450.964\" cy=\"531.706\" r=\"14\" fill=\"#3da44d\" fill-rule=\"evenodd\" fill-opacity=\"1\" stroke=\"#000000\" stroke-opacity=\"1\" stroke-width=\"3.2\"/>\n",
       "<circle clip-path=\"url(#clip032)\" cx=\"463.185\" cy=\"1111.7\" r=\"14\" fill=\"#3da44d\" fill-rule=\"evenodd\" fill-opacity=\"1\" stroke=\"#000000\" stroke-opacity=\"1\" stroke-width=\"3.2\"/>\n",
       "<circle clip-path=\"url(#clip032)\" cx=\"358.784\" cy=\"614.881\" r=\"14\" fill=\"#3da44d\" fill-rule=\"evenodd\" fill-opacity=\"1\" stroke=\"#000000\" stroke-opacity=\"1\" stroke-width=\"3.2\"/>\n",
       "<circle clip-path=\"url(#clip032)\" cx=\"381.472\" cy=\"822.181\" r=\"14\" fill=\"#3da44d\" fill-rule=\"evenodd\" fill-opacity=\"1\" stroke=\"#000000\" stroke-opacity=\"1\" stroke-width=\"3.2\"/>\n",
       "<circle clip-path=\"url(#clip032)\" cx=\"387.829\" cy=\"817.595\" r=\"14\" fill=\"#3da44d\" fill-rule=\"evenodd\" fill-opacity=\"1\" stroke=\"#000000\" stroke-opacity=\"1\" stroke-width=\"3.2\"/>\n",
       "<circle clip-path=\"url(#clip032)\" cx=\"433.604\" cy=\"1185.72\" r=\"14\" fill=\"#3da44d\" fill-rule=\"evenodd\" fill-opacity=\"1\" stroke=\"#000000\" stroke-opacity=\"1\" stroke-width=\"3.2\"/>\n",
       "<circle clip-path=\"url(#clip032)\" cx=\"242.701\" cy=\"358.602\" r=\"14\" fill=\"#3da44d\" fill-rule=\"evenodd\" fill-opacity=\"1\" stroke=\"#000000\" stroke-opacity=\"1\" stroke-width=\"3.2\"/>\n",
       "<circle clip-path=\"url(#clip032)\" cx=\"160.971\" cy=\"113.439\" r=\"14\" fill=\"#3da44d\" fill-rule=\"evenodd\" fill-opacity=\"1\" stroke=\"#000000\" stroke-opacity=\"1\" stroke-width=\"3.2\"/>\n",
       "<circle clip-path=\"url(#clip032)\" cx=\"402.513\" cy=\"983.185\" r=\"14\" fill=\"#3da44d\" fill-rule=\"evenodd\" fill-opacity=\"1\" stroke=\"#000000\" stroke-opacity=\"1\" stroke-width=\"3.2\"/>\n",
       "<circle clip-path=\"url(#clip032)\" cx=\"422.623\" cy=\"696.011\" r=\"14\" fill=\"#3da44d\" fill-rule=\"evenodd\" fill-opacity=\"1\" stroke=\"#000000\" stroke-opacity=\"1\" stroke-width=\"3.2\"/>\n",
       "<circle clip-path=\"url(#clip032)\" cx=\"285.906\" cy=\"633.4\" r=\"14\" fill=\"#3da44d\" fill-rule=\"evenodd\" fill-opacity=\"1\" stroke=\"#000000\" stroke-opacity=\"1\" stroke-width=\"3.2\"/>\n",
       "<circle clip-path=\"url(#clip032)\" cx=\"545.043\" cy=\"725.458\" r=\"14\" fill=\"#3da44d\" fill-rule=\"evenodd\" fill-opacity=\"1\" stroke=\"#000000\" stroke-opacity=\"1\" stroke-width=\"3.2\"/>\n",
       "<circle clip-path=\"url(#clip032)\" cx=\"442.141\" cy=\"1082.75\" r=\"14\" fill=\"#3da44d\" fill-rule=\"evenodd\" fill-opacity=\"1\" stroke=\"#000000\" stroke-opacity=\"1\" stroke-width=\"3.2\"/>\n",
       "<circle clip-path=\"url(#clip032)\" cx=\"240.715\" cy=\"626.855\" r=\"14\" fill=\"#3da44d\" fill-rule=\"evenodd\" fill-opacity=\"1\" stroke=\"#000000\" stroke-opacity=\"1\" stroke-width=\"3.2\"/>\n",
       "<circle clip-path=\"url(#clip032)\" cx=\"387.846\" cy=\"773.239\" r=\"14\" fill=\"#3da44d\" fill-rule=\"evenodd\" fill-opacity=\"1\" stroke=\"#000000\" stroke-opacity=\"1\" stroke-width=\"3.2\"/>\n",
       "<circle clip-path=\"url(#clip032)\" cx=\"480.531\" cy=\"959.984\" r=\"14\" fill=\"#3da44d\" fill-rule=\"evenodd\" fill-opacity=\"1\" stroke=\"#000000\" stroke-opacity=\"1\" stroke-width=\"3.2\"/>\n",
       "<path clip-path=\"url(#clip030)\" d=\"\n",
       "M1286.99 1521.01 L2352.76 1521.01 L2352.76 62.9921 L1286.99 62.9921  Z\n",
       "  \" fill=\"#ffffff\" fill-rule=\"evenodd\" fill-opacity=\"1\"/>\n",
       "<defs>\n",
       "  <clipPath id=\"clip033\">\n",
       "    <rect x=\"1286\" y=\"62\" width=\"1067\" height=\"1459\"/>\n",
       "  </clipPath>\n",
       "</defs>\n",
       "<polyline clip-path=\"url(#clip033)\" style=\"stroke:#000000; stroke-width:2; stroke-opacity:0.1; fill:none\" points=\"\n",
       "  1287.75,1521.01 1287.75,62.9921 \n",
       "  \"/>\n",
       "<polyline clip-path=\"url(#clip033)\" style=\"stroke:#000000; stroke-width:2; stroke-opacity:0.1; fill:none\" points=\"\n",
       "  1574.2,1521.01 1574.2,62.9921 \n",
       "  \"/>\n",
       "<polyline clip-path=\"url(#clip033)\" style=\"stroke:#000000; stroke-width:2; stroke-opacity:0.1; fill:none\" points=\"\n",
       "  1860.66,1521.01 1860.66,62.9921 \n",
       "  \"/>\n",
       "<polyline clip-path=\"url(#clip033)\" style=\"stroke:#000000; stroke-width:2; stroke-opacity:0.1; fill:none\" points=\"\n",
       "  2147.11,1521.01 2147.11,62.9921 \n",
       "  \"/>\n",
       "<polyline clip-path=\"url(#clip030)\" style=\"stroke:#000000; stroke-width:4; stroke-opacity:1; fill:none\" points=\"\n",
       "  1286.99,1521.01 2352.76,1521.01 \n",
       "  \"/>\n",
       "<polyline clip-path=\"url(#clip030)\" style=\"stroke:#000000; stroke-width:4; stroke-opacity:1; fill:none\" points=\"\n",
       "  1287.75,1521.01 1287.75,1503.51 \n",
       "  \"/>\n",
       "<polyline clip-path=\"url(#clip030)\" style=\"stroke:#000000; stroke-width:4; stroke-opacity:1; fill:none\" points=\"\n",
       "  1574.2,1521.01 1574.2,1503.51 \n",
       "  \"/>\n",
       "<polyline clip-path=\"url(#clip030)\" style=\"stroke:#000000; stroke-width:4; stroke-opacity:1; fill:none\" points=\"\n",
       "  1860.66,1521.01 1860.66,1503.51 \n",
       "  \"/>\n",
       "<polyline clip-path=\"url(#clip030)\" style=\"stroke:#000000; stroke-width:4; stroke-opacity:1; fill:none\" points=\"\n",
       "  2147.11,1521.01 2147.11,1503.51 \n",
       "  \"/>\n",
       "<path clip-path=\"url(#clip030)\" d=\"M 0 0 M1266.31 1558.69 L1288.56 1558.69 L1288.56 1561.64 L1266.31 1561.64 L1266.31 1558.69 Z\" fill=\"#000000\" fill-rule=\"evenodd\" fill-opacity=\"1\" /><path clip-path=\"url(#clip030)\" d=\"M 0 0 M1302 1548.45 L1293.15 1562.28 L1302 1562.28 L1302 1548.45 M1301.08 1545.39 L1305.49 1545.39 L1305.49 1562.28 L1309.19 1562.28 L1309.19 1565.2 L1305.49 1565.2 L1305.49 1571.31 L1302 1571.31 L1302 1565.2 L1290.3 1565.2 L1290.3 1561.82 L1301.08 1545.39 Z\" fill=\"#000000\" fill-rule=\"evenodd\" fill-opacity=\"1\" /><path clip-path=\"url(#clip030)\" d=\"M 0 0 M1553.54 1558.69 L1575.8 1558.69 L1575.8 1561.64 L1553.54 1561.64 L1553.54 1558.69 Z\" fill=\"#000000\" fill-rule=\"evenodd\" fill-opacity=\"1\" /><path clip-path=\"url(#clip030)\" d=\"M 0 0 M1582.62 1568.36 L1594.86 1568.36 L1594.86 1571.31 L1578.4 1571.31 L1578.4 1568.36 Q1580.4 1566.29 1583.84 1562.82 Q1587.29 1559.33 1588.18 1558.33 Q1589.86 1556.43 1590.52 1555.13 Q1591.2 1553.81 1591.2 1552.54 Q1591.2 1550.48 1589.74 1549.18 Q1588.3 1547.87 1585.97 1547.87 Q1584.32 1547.87 1582.48 1548.45 Q1580.66 1549.02 1578.58 1550.18 L1578.58 1546.64 Q1580.7 1545.79 1582.54 1545.36 Q1584.38 1544.92 1585.9 1544.92 Q1589.93 1544.92 1592.33 1546.94 Q1594.72 1548.95 1594.72 1552.32 Q1594.72 1553.92 1594.12 1555.36 Q1593.53 1556.78 1591.95 1558.73 Q1591.51 1559.23 1589.19 1561.64 Q1586.86 1564.04 1582.62 1568.36 Z\" fill=\"#000000\" fill-rule=\"evenodd\" fill-opacity=\"1\" /><path clip-path=\"url(#clip030)\" d=\"M 0 0 M1860.66 1547.7 Q1857.95 1547.7 1856.58 1550.37 Q1855.22 1553.03 1855.22 1558.38 Q1855.22 1563.71 1856.58 1566.38 Q1857.95 1569.04 1860.66 1569.04 Q1863.38 1569.04 1864.74 1566.38 Q1866.11 1563.71 1866.11 1558.38 Q1866.11 1553.03 1864.74 1550.37 Q1863.38 1547.7 1860.66 1547.7 M1860.66 1544.92 Q1865.01 1544.92 1867.31 1548.38 Q1869.62 1551.82 1869.62 1558.38 Q1869.62 1564.92 1867.31 1568.38 Q1865.01 1571.82 1860.66 1571.82 Q1856.3 1571.82 1853.99 1568.38 Q1851.7 1564.92 1851.7 1558.38 Q1851.7 1551.82 1853.99 1548.38 Q1856.3 1544.92 1860.66 1544.92 Z\" fill=\"#000000\" fill-rule=\"evenodd\" fill-opacity=\"1\" /><path clip-path=\"url(#clip030)\" d=\"M 0 0 M2143.1 1568.36 L2155.34 1568.36 L2155.34 1571.31 L2138.88 1571.31 L2138.88 1568.36 Q2140.88 1566.29 2144.32 1562.82 Q2147.77 1559.33 2148.66 1558.33 Q2150.34 1556.43 2151 1555.13 Q2151.68 1553.81 2151.68 1552.54 Q2151.68 1550.48 2150.22 1549.18 Q2148.78 1547.87 2146.45 1547.87 Q2144.8 1547.87 2142.96 1548.45 Q2141.14 1549.02 2139.06 1550.18 L2139.06 1546.64 Q2141.17 1545.79 2143.01 1545.36 Q2144.85 1544.92 2146.38 1544.92 Q2150.41 1544.92 2152.81 1546.94 Q2155.2 1548.95 2155.2 1552.32 Q2155.2 1553.92 2154.59 1555.36 Q2154 1556.78 2152.42 1558.73 Q2151.99 1559.23 2149.66 1561.64 Q2147.34 1564.04 2143.1 1568.36 Z\" fill=\"#000000\" fill-rule=\"evenodd\" fill-opacity=\"1\" /><polyline clip-path=\"url(#clip033)\" style=\"stroke:#000000; stroke-width:2; stroke-opacity:0.1; fill:none\" points=\"\n",
       "  1286.99,1474.46 2352.76,1474.46 \n",
       "  \"/>\n",
       "<polyline clip-path=\"url(#clip033)\" style=\"stroke:#000000; stroke-width:2; stroke-opacity:0.1; fill:none\" points=\"\n",
       "  1286.99,1161.09 2352.76,1161.09 \n",
       "  \"/>\n",
       "<polyline clip-path=\"url(#clip033)\" style=\"stroke:#000000; stroke-width:2; stroke-opacity:0.1; fill:none\" points=\"\n",
       "  1286.99,847.709 2352.76,847.709 \n",
       "  \"/>\n",
       "<polyline clip-path=\"url(#clip033)\" style=\"stroke:#000000; stroke-width:2; stroke-opacity:0.1; fill:none\" points=\"\n",
       "  1286.99,534.332 2352.76,534.332 \n",
       "  \"/>\n",
       "<polyline clip-path=\"url(#clip033)\" style=\"stroke:#000000; stroke-width:2; stroke-opacity:0.1; fill:none\" points=\"\n",
       "  1286.99,220.955 2352.76,220.955 \n",
       "  \"/>\n",
       "<polyline clip-path=\"url(#clip030)\" style=\"stroke:#000000; stroke-width:4; stroke-opacity:1; fill:none\" points=\"\n",
       "  1286.99,1521.01 1286.99,62.9921 \n",
       "  \"/>\n",
       "<polyline clip-path=\"url(#clip030)\" style=\"stroke:#000000; stroke-width:4; stroke-opacity:1; fill:none\" points=\"\n",
       "  1286.99,1474.46 1299.78,1474.46 \n",
       "  \"/>\n",
       "<polyline clip-path=\"url(#clip030)\" style=\"stroke:#000000; stroke-width:4; stroke-opacity:1; fill:none\" points=\"\n",
       "  1286.99,1161.09 1299.78,1161.09 \n",
       "  \"/>\n",
       "<polyline clip-path=\"url(#clip030)\" style=\"stroke:#000000; stroke-width:4; stroke-opacity:1; fill:none\" points=\"\n",
       "  1286.99,847.709 1299.78,847.709 \n",
       "  \"/>\n",
       "<polyline clip-path=\"url(#clip030)\" style=\"stroke:#000000; stroke-width:4; stroke-opacity:1; fill:none\" points=\"\n",
       "  1286.99,534.332 1299.78,534.332 \n",
       "  \"/>\n",
       "<polyline clip-path=\"url(#clip030)\" style=\"stroke:#000000; stroke-width:4; stroke-opacity:1; fill:none\" points=\"\n",
       "  1286.99,220.955 1299.78,220.955 \n",
       "  \"/>\n",
       "<path clip-path=\"url(#clip030)\" d=\"M 0 0 M1158.56 1474.91 L1188.24 1474.91 L1188.24 1478.85 L1158.56 1478.85 L1158.56 1474.91 Z\" fill=\"#000000\" fill-rule=\"evenodd\" fill-opacity=\"1\" /><path clip-path=\"url(#clip030)\" d=\"M 0 0 M1194.12 1487.81 L1201.76 1487.81 L1201.76 1461.44 L1193.45 1463.11 L1193.45 1458.85 L1201.71 1457.18 L1206.39 1457.18 L1206.39 1487.81 L1214.02 1487.81 L1214.02 1491.74 L1194.12 1491.74 L1194.12 1487.81 Z\" fill=\"#000000\" fill-rule=\"evenodd\" fill-opacity=\"1\" /><path clip-path=\"url(#clip030)\" d=\"M 0 0 M1219.09 1485.86 L1223.98 1485.86 L1223.98 1491.74 L1219.09 1491.74 L1219.09 1485.86 Z\" fill=\"#000000\" fill-rule=\"evenodd\" fill-opacity=\"1\" /><path clip-path=\"url(#clip030)\" d=\"M 0 0 M1239.05 1460.26 Q1235.44 1460.26 1233.61 1463.83 Q1231.8 1467.37 1231.8 1474.5 Q1231.8 1481.6 1233.61 1485.17 Q1235.44 1488.71 1239.05 1488.71 Q1242.68 1488.71 1244.49 1485.17 Q1246.32 1481.6 1246.32 1474.5 Q1246.32 1467.37 1244.49 1463.83 Q1242.68 1460.26 1239.05 1460.26 M1239.05 1456.56 Q1244.86 1456.56 1247.91 1461.16 Q1250.99 1465.75 1250.99 1474.5 Q1250.99 1483.22 1247.91 1487.83 Q1244.86 1492.41 1239.05 1492.41 Q1233.24 1492.41 1230.16 1487.83 Q1227.1 1483.22 1227.1 1474.5 Q1227.1 1465.75 1230.16 1461.16 Q1233.24 1456.56 1239.05 1456.56 Z\" fill=\"#000000\" fill-rule=\"evenodd\" fill-opacity=\"1\" /><path clip-path=\"url(#clip030)\" d=\"M 0 0 M1158.33 1161.54 L1188.01 1161.54 L1188.01 1165.47 L1158.33 1165.47 L1158.33 1161.54 Z\" fill=\"#000000\" fill-rule=\"evenodd\" fill-opacity=\"1\" /><path clip-path=\"url(#clip030)\" d=\"M 0 0 M1203.08 1146.88 Q1199.46 1146.88 1197.64 1150.45 Q1195.83 1153.99 1195.83 1161.12 Q1195.83 1168.23 1197.64 1171.79 Q1199.46 1175.33 1203.08 1175.33 Q1206.71 1175.33 1208.52 1171.79 Q1210.34 1168.23 1210.34 1161.12 Q1210.34 1153.99 1208.52 1150.45 Q1206.71 1146.88 1203.08 1146.88 M1203.08 1143.18 Q1208.89 1143.18 1211.94 1147.79 Q1215.02 1152.37 1215.02 1161.12 Q1215.02 1169.85 1211.94 1174.45 Q1208.89 1179.04 1203.08 1179.04 Q1197.27 1179.04 1194.19 1174.45 Q1191.13 1169.85 1191.13 1161.12 Q1191.13 1152.37 1194.19 1147.79 Q1197.27 1143.18 1203.08 1143.18 Z\" fill=\"#000000\" fill-rule=\"evenodd\" fill-opacity=\"1\" /><path clip-path=\"url(#clip030)\" d=\"M 0 0 M1220.09 1172.49 L1224.97 1172.49 L1224.97 1178.37 L1220.09 1178.37 L1220.09 1172.49 Z\" fill=\"#000000\" fill-rule=\"evenodd\" fill-opacity=\"1\" /><path clip-path=\"url(#clip030)\" d=\"M 0 0 M1230.09 1143.81 L1248.45 1143.81 L1248.45 1147.74 L1234.37 1147.74 L1234.37 1156.21 Q1235.39 1155.87 1236.41 1155.7 Q1237.43 1155.52 1238.45 1155.52 Q1244.23 1155.52 1247.61 1158.69 Q1250.99 1161.86 1250.99 1167.28 Q1250.99 1172.86 1247.52 1175.96 Q1244.05 1179.04 1237.73 1179.04 Q1235.55 1179.04 1233.28 1178.67 Q1231.04 1178.3 1228.63 1177.56 L1228.63 1172.86 Q1230.71 1173.99 1232.94 1174.55 Q1235.16 1175.1 1237.64 1175.1 Q1241.64 1175.1 1243.98 1173 Q1246.32 1170.89 1246.32 1167.28 Q1246.32 1163.67 1243.98 1161.56 Q1241.64 1159.45 1237.64 1159.45 Q1235.76 1159.45 1233.89 1159.87 Q1232.03 1160.29 1230.09 1161.17 L1230.09 1143.81 Z\" fill=\"#000000\" fill-rule=\"evenodd\" fill-opacity=\"1\" /><path clip-path=\"url(#clip030)\" d=\"M 0 0 M1202.08 833.508 Q1198.47 833.508 1196.64 837.073 Q1194.84 840.614 1194.84 847.744 Q1194.84 854.85 1196.64 858.415 Q1198.47 861.957 1202.08 861.957 Q1205.71 861.957 1207.52 858.415 Q1209.35 854.85 1209.35 847.744 Q1209.35 840.614 1207.52 837.073 Q1205.71 833.508 1202.08 833.508 M1202.08 829.804 Q1207.89 829.804 1210.95 834.411 Q1214.02 838.994 1214.02 847.744 Q1214.02 856.471 1210.95 861.077 Q1207.89 865.66 1202.08 865.66 Q1196.27 865.66 1193.19 861.077 Q1190.14 856.471 1190.14 847.744 Q1190.14 838.994 1193.19 834.411 Q1196.27 829.804 1202.08 829.804 Z\" fill=\"#000000\" fill-rule=\"evenodd\" fill-opacity=\"1\" /><path clip-path=\"url(#clip030)\" d=\"M 0 0 M1219.09 859.109 L1223.98 859.109 L1223.98 864.989 L1219.09 864.989 L1219.09 859.109 Z\" fill=\"#000000\" fill-rule=\"evenodd\" fill-opacity=\"1\" /><path clip-path=\"url(#clip030)\" d=\"M 0 0 M1239.05 833.508 Q1235.44 833.508 1233.61 837.073 Q1231.8 840.614 1231.8 847.744 Q1231.8 854.85 1233.61 858.415 Q1235.44 861.957 1239.05 861.957 Q1242.68 861.957 1244.49 858.415 Q1246.32 854.85 1246.32 847.744 Q1246.32 840.614 1244.49 837.073 Q1242.68 833.508 1239.05 833.508 M1239.05 829.804 Q1244.86 829.804 1247.91 834.411 Q1250.99 838.994 1250.99 847.744 Q1250.99 856.471 1247.91 861.077 Q1244.86 865.66 1239.05 865.66 Q1233.24 865.66 1230.16 861.077 Q1227.1 856.471 1227.1 847.744 Q1227.1 838.994 1230.16 834.411 Q1233.24 829.804 1239.05 829.804 Z\" fill=\"#000000\" fill-rule=\"evenodd\" fill-opacity=\"1\" /><path clip-path=\"url(#clip030)\" d=\"M 0 0 M1203.08 520.131 Q1199.46 520.131 1197.64 523.696 Q1195.83 527.237 1195.83 534.367 Q1195.83 541.473 1197.64 545.038 Q1199.46 548.58 1203.08 548.58 Q1206.71 548.58 1208.52 545.038 Q1210.34 541.473 1210.34 534.367 Q1210.34 527.237 1208.52 523.696 Q1206.71 520.131 1203.08 520.131 M1203.08 516.427 Q1208.89 516.427 1211.94 521.034 Q1215.02 525.617 1215.02 534.367 Q1215.02 543.094 1211.94 547.7 Q1208.89 552.283 1203.08 552.283 Q1197.27 552.283 1194.19 547.7 Q1191.13 543.094 1191.13 534.367 Q1191.13 525.617 1194.19 521.034 Q1197.27 516.427 1203.08 516.427 Z\" fill=\"#000000\" fill-rule=\"evenodd\" fill-opacity=\"1\" /><path clip-path=\"url(#clip030)\" d=\"M 0 0 M1220.09 545.732 L1224.97 545.732 L1224.97 551.612 L1220.09 551.612 L1220.09 545.732 Z\" fill=\"#000000\" fill-rule=\"evenodd\" fill-opacity=\"1\" /><path clip-path=\"url(#clip030)\" d=\"M 0 0 M1230.09 517.052 L1248.45 517.052 L1248.45 520.987 L1234.37 520.987 L1234.37 529.459 Q1235.39 529.112 1236.41 528.95 Q1237.43 528.765 1238.45 528.765 Q1244.23 528.765 1247.61 531.936 Q1250.99 535.108 1250.99 540.524 Q1250.99 546.103 1247.52 549.205 Q1244.05 552.283 1237.73 552.283 Q1235.55 552.283 1233.28 551.913 Q1231.04 551.543 1228.63 550.802 L1228.63 546.103 Q1230.71 547.237 1232.94 547.793 Q1235.16 548.348 1237.64 548.348 Q1241.64 548.348 1243.98 546.242 Q1246.32 544.135 1246.32 540.524 Q1246.32 536.913 1243.98 534.807 Q1241.64 532.7 1237.64 532.7 Q1235.76 532.7 1233.89 533.117 Q1232.03 533.533 1230.09 534.413 L1230.09 517.052 Z\" fill=\"#000000\" fill-rule=\"evenodd\" fill-opacity=\"1\" /><path clip-path=\"url(#clip030)\" d=\"M 0 0 M1194.12 234.3 L1201.76 234.3 L1201.76 207.934 L1193.45 209.601 L1193.45 205.342 L1201.71 203.675 L1206.39 203.675 L1206.39 234.3 L1214.02 234.3 L1214.02 238.235 L1194.12 238.235 L1194.12 234.3 Z\" fill=\"#000000\" fill-rule=\"evenodd\" fill-opacity=\"1\" /><path clip-path=\"url(#clip030)\" d=\"M 0 0 M1219.09 232.356 L1223.98 232.356 L1223.98 238.235 L1219.09 238.235 L1219.09 232.356 Z\" fill=\"#000000\" fill-rule=\"evenodd\" fill-opacity=\"1\" /><path clip-path=\"url(#clip030)\" d=\"M 0 0 M1239.05 206.754 Q1235.44 206.754 1233.61 210.319 Q1231.8 213.86 1231.8 220.99 Q1231.8 228.096 1233.61 231.661 Q1235.44 235.203 1239.05 235.203 Q1242.68 235.203 1244.49 231.661 Q1246.32 228.096 1246.32 220.99 Q1246.32 213.86 1244.49 210.319 Q1242.68 206.754 1239.05 206.754 M1239.05 203.05 Q1244.86 203.05 1247.91 207.657 Q1250.99 212.24 1250.99 220.99 Q1250.99 229.717 1247.91 234.323 Q1244.86 238.906 1239.05 238.906 Q1233.24 238.906 1230.16 234.323 Q1227.1 229.717 1227.1 220.99 Q1227.1 212.24 1230.16 207.657 Q1233.24 203.05 1239.05 203.05 Z\" fill=\"#000000\" fill-rule=\"evenodd\" fill-opacity=\"1\" /><path clip-path=\"url(#clip030)\" d=\"M 0 0 M1610.53 6.912 L1630.4 6.912 L1630.4 10.8472 L1615.21 10.8472 L1615.21 21.0323 L1628.91 21.0323 L1628.91 24.9675 L1615.21 24.9675 L1615.21 41.472 L1610.53 41.472 L1610.53 6.912 Z\" fill=\"#000000\" fill-rule=\"evenodd\" fill-opacity=\"1\" /><path clip-path=\"url(#clip030)\" d=\"M 0 0 M1631.83 31.2406 L1631.83 15.5462 L1636.09 15.5462 L1636.09 31.0785 Q1636.09 34.7591 1637.53 36.6109 Q1638.96 38.4396 1641.83 38.4396 Q1645.28 38.4396 1647.27 36.2405 Q1649.28 34.0415 1649.28 30.2452 L1649.28 15.5462 L1653.54 15.5462 L1653.54 41.472 L1649.28 41.472 L1649.28 37.4905 Q1647.73 39.8516 1645.67 41.009 Q1643.64 42.1433 1640.93 42.1433 Q1636.46 42.1433 1634.15 39.3655 Q1631.83 36.5878 1631.83 31.2406 M1642.55 14.9212 L1642.55 14.9212 Z\" fill=\"#000000\" fill-rule=\"evenodd\" fill-opacity=\"1\" /><path clip-path=\"url(#clip030)\" d=\"M 0 0 M1656.16 15.5462 L1676.39 15.5462 L1676.39 19.4351 L1660.37 38.0692 L1676.39 38.0692 L1676.39 41.472 L1655.58 41.472 L1655.58 37.5831 L1671.6 18.949 L1656.16 18.949 L1656.16 15.5462 Z\" fill=\"#000000\" fill-rule=\"evenodd\" fill-opacity=\"1\" /><path clip-path=\"url(#clip030)\" d=\"M 0 0 M1679.01 15.5462 L1699.24 15.5462 L1699.24 19.4351 L1683.22 38.0692 L1699.24 38.0692 L1699.24 41.472 L1678.43 41.472 L1678.43 37.5831 L1694.45 18.949 L1679.01 18.949 L1679.01 15.5462 Z\" fill=\"#000000\" fill-rule=\"evenodd\" fill-opacity=\"1\" /><path clip-path=\"url(#clip030)\" d=\"M 0 0 M1714.49 43.8794 Q1712.69 48.509 1710.97 49.921 Q1709.26 51.3331 1706.39 51.3331 L1702.99 51.3331 L1702.99 47.7683 L1705.49 47.7683 Q1707.25 47.7683 1708.22 46.9349 Q1709.19 46.1016 1710.37 42.9998 L1711.14 41.0553 L1700.65 15.5462 L1705.16 15.5462 L1713.27 35.8239 L1721.37 15.5462 L1725.88 15.5462 L1714.49 43.8794 Z\" fill=\"#000000\" fill-rule=\"evenodd\" fill-opacity=\"1\" /><path clip-path=\"url(#clip030)\" d=\"M 0 0 M1742.09 11.5185 L1735.74 28.7174 L1748.45 28.7174 L1742.09 11.5185 M1739.45 6.912 L1744.75 6.912 L1757.92 41.472 L1753.06 41.472 L1749.91 32.6063 L1734.33 32.6063 L1731.18 41.472 L1726.25 41.472 L1739.45 6.912 Z\" fill=\"#000000\" fill-rule=\"evenodd\" fill-opacity=\"1\" /><path clip-path=\"url(#clip030)\" d=\"M 0 0 M1778.96 25.2684 Q1780.46 25.7776 1781.88 27.4443 Q1783.31 29.111 1784.75 32.0276 L1789.49 41.472 L1784.47 41.472 L1780.05 32.6063 Q1778.33 29.1341 1776.71 27.9998 Q1775.12 26.8656 1772.34 26.8656 L1767.25 26.8656 L1767.25 41.472 L1762.57 41.472 L1762.57 6.912 L1773.13 6.912 Q1779.05 6.912 1781.97 9.38884 Q1784.89 11.8657 1784.89 16.8657 Q1784.89 20.1295 1783.36 22.2823 Q1781.85 24.4351 1778.96 25.2684 M1767.25 10.7546 L1767.25 23.023 L1773.13 23.023 Q1776.51 23.023 1778.22 21.4721 Q1779.96 19.898 1779.96 16.8657 Q1779.96 13.8333 1778.22 12.3055 Q1776.51 10.7546 1773.13 10.7546 L1767.25 10.7546 Z\" fill=\"#000000\" fill-rule=\"evenodd\" fill-opacity=\"1\" /><path clip-path=\"url(#clip030)\" d=\"M 0 0 M1785.9 6.912 L1815.14 6.912 L1815.14 10.8472 L1802.87 10.8472 L1802.87 41.472 L1798.17 41.472 L1798.17 10.8472 L1785.9 10.8472 L1785.9 6.912 Z\" fill=\"#000000\" fill-rule=\"evenodd\" fill-opacity=\"1\" /><path clip-path=\"url(#clip030)\" d=\"M 0 0 M1849.7 19.5277 Q1848.98 19.111 1848.13 18.9258 Q1847.29 18.7175 1846.27 18.7175 Q1842.66 18.7175 1840.72 21.0786 Q1838.8 23.4165 1838.8 27.8147 L1838.8 41.472 L1834.52 41.472 L1834.52 15.5462 L1838.8 15.5462 L1838.8 19.574 Q1840.14 17.2129 1842.29 16.0786 Q1844.45 14.9212 1847.52 14.9212 Q1847.96 14.9212 1848.5 14.9907 Q1849.03 15.037 1849.68 15.1527 L1849.7 19.5277 Z\" fill=\"#000000\" fill-rule=\"evenodd\" fill-opacity=\"1\" /><path clip-path=\"url(#clip030)\" d=\"M 0 0 M1874.89 25.8239 L1874.89 41.472 L1870.63 41.472 L1870.63 25.9628 Q1870.63 22.2823 1869.19 20.4536 Q1867.76 18.6249 1864.89 18.6249 Q1861.44 18.6249 1859.45 20.824 Q1857.45 23.023 1857.45 26.8193 L1857.45 41.472 L1853.17 41.472 L1853.17 5.45367 L1857.45 5.45367 L1857.45 19.574 Q1858.98 17.236 1861.04 16.0786 Q1863.13 14.9212 1865.83 14.9212 Q1870.3 14.9212 1872.59 17.699 Q1874.89 20.4536 1874.89 25.8239 Z\" fill=\"#000000\" fill-rule=\"evenodd\" fill-opacity=\"1\" /><path clip-path=\"url(#clip030)\" d=\"M 0 0 M1889.4 18.5323 Q1885.97 18.5323 1883.98 21.2175 Q1881.99 23.8795 1881.99 28.5323 Q1881.99 33.185 1883.96 35.8702 Q1885.95 38.5322 1889.4 38.5322 Q1892.8 38.5322 1894.79 35.847 Q1896.78 33.1619 1896.78 28.5323 Q1896.78 23.9258 1894.79 21.2406 Q1892.8 18.5323 1889.4 18.5323 M1889.4 14.9212 Q1894.95 14.9212 1898.13 18.5323 Q1901.3 22.1434 1901.3 28.5323 Q1901.3 34.898 1898.13 38.5322 Q1894.95 42.1433 1889.4 42.1433 Q1883.82 42.1433 1880.65 38.5322 Q1877.5 34.898 1877.5 28.5323 Q1877.5 22.1434 1880.65 18.5323 Q1883.82 14.9212 1889.4 14.9212 Z\" fill=\"#000000\" fill-rule=\"evenodd\" fill-opacity=\"1\" /><path clip-path=\"url(#clip030)\" d=\"M 0 0 M1921.39 19.9443 L1951.07 19.9443 L1951.07 23.8332 L1921.39 23.8332 L1921.39 19.9443 M1921.39 29.3887 L1951.07 29.3887 L1951.07 33.3239 L1921.39 33.3239 L1921.39 29.3887 Z\" fill=\"#000000\" fill-rule=\"evenodd\" fill-opacity=\"1\" /><path clip-path=\"url(#clip030)\" d=\"M 0 0 M1981.2 9.99069 Q1977.59 9.99069 1975.76 13.5555 Q1973.96 17.0971 1973.96 24.2267 Q1973.96 31.3332 1975.76 34.898 Q1977.59 38.4396 1981.2 38.4396 Q1984.84 38.4396 1986.64 34.898 Q1988.47 31.3332 1988.47 24.2267 Q1988.47 17.0971 1986.64 13.5555 Q1984.84 9.99069 1981.2 9.99069 M1981.2 6.287 Q1987.01 6.287 1990.07 10.8935 Q1993.15 15.4768 1993.15 24.2267 Q1993.15 32.9535 1990.07 37.56 Q1987.01 42.1433 1981.2 42.1433 Q1975.39 42.1433 1972.32 37.56 Q1969.26 32.9535 1969.26 24.2267 Q1969.26 15.4768 1972.32 10.8935 Q1975.39 6.287 1981.2 6.287 Z\" fill=\"#000000\" fill-rule=\"evenodd\" fill-opacity=\"1\" /><path clip-path=\"url(#clip030)\" d=\"M 0 0 M1998.22 35.5924 L2003.1 35.5924 L2003.1 41.472 L1998.22 41.472 L1998.22 35.5924 Z\" fill=\"#000000\" fill-rule=\"evenodd\" fill-opacity=\"1\" /><path clip-path=\"url(#clip030)\" d=\"M 0 0 M2006.99 6.912 L2029.21 6.912 L2029.21 8.90273 L2016.67 41.472 L2011.78 41.472 L2023.59 10.8472 L2006.99 10.8472 L2006.99 6.912 Z\" fill=\"#000000\" fill-rule=\"evenodd\" fill-opacity=\"1\" /><circle clip-path=\"url(#clip033)\" cx=\"2227.66\" cy=\"612.874\" r=\"14\" fill=\"#009af9\" fill-rule=\"evenodd\" fill-opacity=\"1\" stroke=\"#000000\" stroke-opacity=\"1\" stroke-width=\"3.2\"/>\n",
       "<circle clip-path=\"url(#clip033)\" cx=\"2322.59\" cy=\"1163.14\" r=\"14\" fill=\"#009af9\" fill-rule=\"evenodd\" fill-opacity=\"1\" stroke=\"#000000\" stroke-opacity=\"1\" stroke-width=\"3.2\"/>\n",
       "<circle clip-path=\"url(#clip033)\" cx=\"2231.66\" cy=\"699.758\" r=\"14\" fill=\"#009af9\" fill-rule=\"evenodd\" fill-opacity=\"1\" stroke=\"#000000\" stroke-opacity=\"1\" stroke-width=\"3.2\"/>\n",
       "<circle clip-path=\"url(#clip033)\" cx=\"2254.02\" cy=\"1042.71\" r=\"14\" fill=\"#009af9\" fill-rule=\"evenodd\" fill-opacity=\"1\" stroke=\"#000000\" stroke-opacity=\"1\" stroke-width=\"3.2\"/>\n",
       "<circle clip-path=\"url(#clip033)\" cx=\"2231.23\" cy=\"521.5\" r=\"14\" fill=\"#009af9\" fill-rule=\"evenodd\" fill-opacity=\"1\" stroke=\"#000000\" stroke-opacity=\"1\" stroke-width=\"3.2\"/>\n",
       "<circle clip-path=\"url(#clip033)\" cx=\"2224.11\" cy=\"527.834\" r=\"14\" fill=\"#009af9\" fill-rule=\"evenodd\" fill-opacity=\"1\" stroke=\"#000000\" stroke-opacity=\"1\" stroke-width=\"3.2\"/>\n",
       "<circle clip-path=\"url(#clip033)\" cx=\"2219.66\" cy=\"439.106\" r=\"14\" fill=\"#009af9\" fill-rule=\"evenodd\" fill-opacity=\"1\" stroke=\"#000000\" stroke-opacity=\"1\" stroke-width=\"3.2\"/>\n",
       "<circle clip-path=\"url(#clip033)\" cx=\"2234.93\" cy=\"834.221\" r=\"14\" fill=\"#009af9\" fill-rule=\"evenodd\" fill-opacity=\"1\" stroke=\"#000000\" stroke-opacity=\"1\" stroke-width=\"3.2\"/>\n",
       "<circle clip-path=\"url(#clip033)\" cx=\"2177.02\" cy=\"570.248\" r=\"14\" fill=\"#009af9\" fill-rule=\"evenodd\" fill-opacity=\"1\" stroke=\"#000000\" stroke-opacity=\"1\" stroke-width=\"3.2\"/>\n",
       "<circle clip-path=\"url(#clip033)\" cx=\"2239.28\" cy=\"104.257\" r=\"14\" fill=\"#009af9\" fill-rule=\"evenodd\" fill-opacity=\"1\" stroke=\"#000000\" stroke-opacity=\"1\" stroke-width=\"3.2\"/>\n",
       "<circle clip-path=\"url(#clip033)\" cx=\"2236.66\" cy=\"467.395\" r=\"14\" fill=\"#009af9\" fill-rule=\"evenodd\" fill-opacity=\"1\" stroke=\"#000000\" stroke-opacity=\"1\" stroke-width=\"3.2\"/>\n",
       "<circle clip-path=\"url(#clip033)\" cx=\"2198.12\" cy=\"867.27\" r=\"14\" fill=\"#009af9\" fill-rule=\"evenodd\" fill-opacity=\"1\" stroke=\"#000000\" stroke-opacity=\"1\" stroke-width=\"3.2\"/>\n",
       "<circle clip-path=\"url(#clip033)\" cx=\"2224.92\" cy=\"571.917\" r=\"14\" fill=\"#009af9\" fill-rule=\"evenodd\" fill-opacity=\"1\" stroke=\"#000000\" stroke-opacity=\"1\" stroke-width=\"3.2\"/>\n",
       "<circle clip-path=\"url(#clip033)\" cx=\"2219.86\" cy=\"934.863\" r=\"14\" fill=\"#009af9\" fill-rule=\"evenodd\" fill-opacity=\"1\" stroke=\"#000000\" stroke-opacity=\"1\" stroke-width=\"3.2\"/>\n",
       "<circle clip-path=\"url(#clip033)\" cx=\"2205.19\" cy=\"724.917\" r=\"14\" fill=\"#009af9\" fill-rule=\"evenodd\" fill-opacity=\"1\" stroke=\"#000000\" stroke-opacity=\"1\" stroke-width=\"3.2\"/>\n",
       "<circle clip-path=\"url(#clip033)\" cx=\"1768.75\" cy=\"835.756\" r=\"14\" fill=\"#e26f46\" fill-rule=\"evenodd\" fill-opacity=\"1\" stroke=\"#000000\" stroke-opacity=\"1\" stroke-width=\"3.2\"/>\n",
       "<circle clip-path=\"url(#clip033)\" cx=\"1670.02\" cy=\"694.361\" r=\"14\" fill=\"#e26f46\" fill-rule=\"evenodd\" fill-opacity=\"1\" stroke=\"#000000\" stroke-opacity=\"1\" stroke-width=\"3.2\"/>\n",
       "<circle clip-path=\"url(#clip033)\" cx=\"1968.29\" cy=\"1475.16\" r=\"14\" fill=\"#e26f46\" fill-rule=\"evenodd\" fill-opacity=\"1\" stroke=\"#000000\" stroke-opacity=\"1\" stroke-width=\"3.2\"/>\n",
       "<circle clip-path=\"url(#clip033)\" cx=\"1650.96\" cy=\"531.706\" r=\"14\" fill=\"#e26f46\" fill-rule=\"evenodd\" fill-opacity=\"1\" stroke=\"#000000\" stroke-opacity=\"1\" stroke-width=\"3.2\"/>\n",
       "<circle clip-path=\"url(#clip033)\" cx=\"1685.86\" cy=\"591.971\" r=\"14\" fill=\"#e26f46\" fill-rule=\"evenodd\" fill-opacity=\"1\" stroke=\"#000000\" stroke-opacity=\"1\" stroke-width=\"3.2\"/>\n",
       "<circle clip-path=\"url(#clip033)\" cx=\"1744.29\" cy=\"949.451\" r=\"14\" fill=\"#e26f46\" fill-rule=\"evenodd\" fill-opacity=\"1\" stroke=\"#000000\" stroke-opacity=\"1\" stroke-width=\"3.2\"/>\n",
       "<circle clip-path=\"url(#clip033)\" cx=\"1727.11\" cy=\"647.65\" r=\"14\" fill=\"#e26f46\" fill-rule=\"evenodd\" fill-opacity=\"1\" stroke=\"#000000\" stroke-opacity=\"1\" stroke-width=\"3.2\"/>\n",
       "<circle clip-path=\"url(#clip033)\" cx=\"1818\" cy=\"1065.2\" r=\"14\" fill=\"#e26f46\" fill-rule=\"evenodd\" fill-opacity=\"1\" stroke=\"#000000\" stroke-opacity=\"1\" stroke-width=\"3.2\"/>\n",
       "<circle clip-path=\"url(#clip033)\" cx=\"1727.8\" cy=\"554.24\" r=\"14\" fill=\"#e26f46\" fill-rule=\"evenodd\" fill-opacity=\"1\" stroke=\"#000000\" stroke-opacity=\"1\" stroke-width=\"3.2\"/>\n",
       "<circle clip-path=\"url(#clip033)\" cx=\"1745.04\" cy=\"725.458\" r=\"14\" fill=\"#e26f46\" fill-rule=\"evenodd\" fill-opacity=\"1\" stroke=\"#000000\" stroke-opacity=\"1\" stroke-width=\"3.2\"/>\n",
       "<circle clip-path=\"url(#clip033)\" cx=\"1809.56\" cy=\"889.591\" r=\"14\" fill=\"#e26f46\" fill-rule=\"evenodd\" fill-opacity=\"1\" stroke=\"#000000\" stroke-opacity=\"1\" stroke-width=\"3.2\"/>\n",
       "<circle clip-path=\"url(#clip033)\" cx=\"1961.93\" cy=\"1479.74\" r=\"14\" fill=\"#e26f46\" fill-rule=\"evenodd\" fill-opacity=\"1\" stroke=\"#000000\" stroke-opacity=\"1\" stroke-width=\"3.2\"/>\n",
       "<circle clip-path=\"url(#clip033)\" cx=\"1823.08\" cy=\"1191.1\" r=\"14\" fill=\"#e26f46\" fill-rule=\"evenodd\" fill-opacity=\"1\" stroke=\"#000000\" stroke-opacity=\"1\" stroke-width=\"3.2\"/>\n",
       "<circle clip-path=\"url(#clip033)\" cx=\"1605.76\" cy=\"1162\" r=\"14\" fill=\"#3da44d\" fill-rule=\"evenodd\" fill-opacity=\"1\" stroke=\"#000000\" stroke-opacity=\"1\" stroke-width=\"3.2\"/>\n",
       "<circle clip-path=\"url(#clip033)\" cx=\"1317.16\" cy=\"688.974\" r=\"14\" fill=\"#3da44d\" fill-rule=\"evenodd\" fill-opacity=\"1\" stroke=\"#000000\" stroke-opacity=\"1\" stroke-width=\"3.2\"/>\n",
       "<circle clip-path=\"url(#clip033)\" cx=\"1700.78\" cy=\"900.491\" r=\"14\" fill=\"#3da44d\" fill-rule=\"evenodd\" fill-opacity=\"1\" stroke=\"#000000\" stroke-opacity=\"1\" stroke-width=\"3.2\"/>\n",
       "<circle clip-path=\"url(#clip033)\" cx=\"1663.18\" cy=\"1111.7\" r=\"14\" fill=\"#3da44d\" fill-rule=\"evenodd\" fill-opacity=\"1\" stroke=\"#000000\" stroke-opacity=\"1\" stroke-width=\"3.2\"/>\n",
       "<circle clip-path=\"url(#clip033)\" cx=\"1558.78\" cy=\"614.881\" r=\"14\" fill=\"#3da44d\" fill-rule=\"evenodd\" fill-opacity=\"1\" stroke=\"#000000\" stroke-opacity=\"1\" stroke-width=\"3.2\"/>\n",
       "<circle clip-path=\"url(#clip033)\" cx=\"1581.47\" cy=\"822.181\" r=\"14\" fill=\"#3da44d\" fill-rule=\"evenodd\" fill-opacity=\"1\" stroke=\"#000000\" stroke-opacity=\"1\" stroke-width=\"3.2\"/>\n",
       "<circle clip-path=\"url(#clip033)\" cx=\"1587.83\" cy=\"817.595\" r=\"14\" fill=\"#3da44d\" fill-rule=\"evenodd\" fill-opacity=\"1\" stroke=\"#000000\" stroke-opacity=\"1\" stroke-width=\"3.2\"/>\n",
       "<circle clip-path=\"url(#clip033)\" cx=\"1633.6\" cy=\"1185.72\" r=\"14\" fill=\"#3da44d\" fill-rule=\"evenodd\" fill-opacity=\"1\" stroke=\"#000000\" stroke-opacity=\"1\" stroke-width=\"3.2\"/>\n",
       "<circle clip-path=\"url(#clip033)\" cx=\"1442.7\" cy=\"358.602\" r=\"14\" fill=\"#3da44d\" fill-rule=\"evenodd\" fill-opacity=\"1\" stroke=\"#000000\" stroke-opacity=\"1\" stroke-width=\"3.2\"/>\n",
       "<circle clip-path=\"url(#clip033)\" cx=\"1360.97\" cy=\"113.439\" r=\"14\" fill=\"#3da44d\" fill-rule=\"evenodd\" fill-opacity=\"1\" stroke=\"#000000\" stroke-opacity=\"1\" stroke-width=\"3.2\"/>\n",
       "<circle clip-path=\"url(#clip033)\" cx=\"1602.51\" cy=\"983.185\" r=\"14\" fill=\"#3da44d\" fill-rule=\"evenodd\" fill-opacity=\"1\" stroke=\"#000000\" stroke-opacity=\"1\" stroke-width=\"3.2\"/>\n",
       "<circle clip-path=\"url(#clip033)\" cx=\"1622.62\" cy=\"696.011\" r=\"14\" fill=\"#3da44d\" fill-rule=\"evenodd\" fill-opacity=\"1\" stroke=\"#000000\" stroke-opacity=\"1\" stroke-width=\"3.2\"/>\n",
       "<circle clip-path=\"url(#clip033)\" cx=\"1485.91\" cy=\"633.4\" r=\"14\" fill=\"#3da44d\" fill-rule=\"evenodd\" fill-opacity=\"1\" stroke=\"#000000\" stroke-opacity=\"1\" stroke-width=\"3.2\"/>\n",
       "<circle clip-path=\"url(#clip033)\" cx=\"1642.14\" cy=\"1082.75\" r=\"14\" fill=\"#3da44d\" fill-rule=\"evenodd\" fill-opacity=\"1\" stroke=\"#000000\" stroke-opacity=\"1\" stroke-width=\"3.2\"/>\n",
       "<circle clip-path=\"url(#clip033)\" cx=\"1440.71\" cy=\"626.855\" r=\"14\" fill=\"#3da44d\" fill-rule=\"evenodd\" fill-opacity=\"1\" stroke=\"#000000\" stroke-opacity=\"1\" stroke-width=\"3.2\"/>\n",
       "<circle clip-path=\"url(#clip033)\" cx=\"1587.85\" cy=\"773.239\" r=\"14\" fill=\"#3da44d\" fill-rule=\"evenodd\" fill-opacity=\"1\" stroke=\"#000000\" stroke-opacity=\"1\" stroke-width=\"3.2\"/>\n",
       "<circle clip-path=\"url(#clip033)\" cx=\"1680.53\" cy=\"959.984\" r=\"14\" fill=\"#3da44d\" fill-rule=\"evenodd\" fill-opacity=\"1\" stroke=\"#000000\" stroke-opacity=\"1\" stroke-width=\"3.2\"/>\n",
       "</svg>\n"
      ],
      "image/svg+xml": [
       "<?xml version=\"1.0\" encoding=\"utf-8\"?>\n",
       "<svg xmlns=\"http://www.w3.org/2000/svg\" xmlns:xlink=\"http://www.w3.org/1999/xlink\" width=\"600\" height=\"400\" viewBox=\"0 0 2400 1600\">\n",
       "<defs>\n",
       "  <clipPath id=\"clip000\">\n",
       "    <rect x=\"0\" y=\"0\" width=\"2400\" height=\"1600\"/>\n",
       "  </clipPath>\n",
       "</defs>\n",
       "<path clip-path=\"url(#clip000)\" d=\"\n",
       "M0 1600 L2400 1600 L2400 0 L0 0  Z\n",
       "  \" fill=\"#ffffff\" fill-rule=\"evenodd\" fill-opacity=\"1\"/>\n",
       "<defs>\n",
       "  <clipPath id=\"clip001\">\n",
       "    <rect x=\"480\" y=\"0\" width=\"1681\" height=\"1600\"/>\n",
       "  </clipPath>\n",
       "</defs>\n",
       "<path clip-path=\"url(#clip000)\" d=\"\n",
       "M86.9921 1521.01 L1152.76 1521.01 L1152.76 62.9921 L86.9921 62.9921  Z\n",
       "  \" fill=\"#ffffff\" fill-rule=\"evenodd\" fill-opacity=\"1\"/>\n",
       "<defs>\n",
       "  <clipPath id=\"clip002\">\n",
       "    <rect x=\"86\" y=\"62\" width=\"1067\" height=\"1459\"/>\n",
       "  </clipPath>\n",
       "</defs>\n",
       "<polyline clip-path=\"url(#clip002)\" style=\"stroke:#000000; stroke-width:2; stroke-opacity:0.1; fill:none\" points=\"\n",
       "  87.7489,1521.01 87.7489,62.9921 \n",
       "  \"/>\n",
       "<polyline clip-path=\"url(#clip002)\" style=\"stroke:#000000; stroke-width:2; stroke-opacity:0.1; fill:none\" points=\"\n",
       "  374.203,1521.01 374.203,62.9921 \n",
       "  \"/>\n",
       "<polyline clip-path=\"url(#clip002)\" style=\"stroke:#000000; stroke-width:2; stroke-opacity:0.1; fill:none\" points=\"\n",
       "  660.657,1521.01 660.657,62.9921 \n",
       "  \"/>\n",
       "<polyline clip-path=\"url(#clip002)\" style=\"stroke:#000000; stroke-width:2; stroke-opacity:0.1; fill:none\" points=\"\n",
       "  947.111,1521.01 947.111,62.9921 \n",
       "  \"/>\n",
       "<polyline clip-path=\"url(#clip000)\" style=\"stroke:#000000; stroke-width:4; stroke-opacity:1; fill:none\" points=\"\n",
       "  86.9921,1521.01 1152.76,1521.01 \n",
       "  \"/>\n",
       "<polyline clip-path=\"url(#clip000)\" style=\"stroke:#000000; stroke-width:4; stroke-opacity:1; fill:none\" points=\"\n",
       "  87.7489,1521.01 87.7489,1503.51 \n",
       "  \"/>\n",
       "<polyline clip-path=\"url(#clip000)\" style=\"stroke:#000000; stroke-width:4; stroke-opacity:1; fill:none\" points=\"\n",
       "  374.203,1521.01 374.203,1503.51 \n",
       "  \"/>\n",
       "<polyline clip-path=\"url(#clip000)\" style=\"stroke:#000000; stroke-width:4; stroke-opacity:1; fill:none\" points=\"\n",
       "  660.657,1521.01 660.657,1503.51 \n",
       "  \"/>\n",
       "<polyline clip-path=\"url(#clip000)\" style=\"stroke:#000000; stroke-width:4; stroke-opacity:1; fill:none\" points=\"\n",
       "  947.111,1521.01 947.111,1503.51 \n",
       "  \"/>\n",
       "<path clip-path=\"url(#clip000)\" d=\"M 0 0 M66.308 1558.69 L88.5648 1558.69 L88.5648 1561.64 L66.308 1561.64 L66.308 1558.69 Z\" fill=\"#000000\" fill-rule=\"evenodd\" fill-opacity=\"1\" /><path clip-path=\"url(#clip000)\" d=\"M 0 0 M102.002 1548.45 L93.1481 1562.28 L102.002 1562.28 L102.002 1548.45 M101.082 1545.39 L105.492 1545.39 L105.492 1562.28 L109.19 1562.28 L109.19 1565.2 L105.492 1565.2 L105.492 1571.31 L102.002 1571.31 L102.002 1565.2 L90.3009 1565.2 L90.3009 1561.82 L101.082 1545.39 Z\" fill=\"#000000\" fill-rule=\"evenodd\" fill-opacity=\"1\" /><path clip-path=\"url(#clip000)\" d=\"M 0 0 M353.543 1558.69 L375.8 1558.69 L375.8 1561.64 L353.543 1561.64 L353.543 1558.69 Z\" fill=\"#000000\" fill-rule=\"evenodd\" fill-opacity=\"1\" /><path clip-path=\"url(#clip000)\" d=\"M 0 0 M382.623 1568.36 L394.863 1568.36 L394.863 1571.31 L378.404 1571.31 L378.404 1568.36 Q380.401 1566.29 383.838 1562.82 Q387.293 1559.33 388.179 1558.33 Q389.863 1556.43 390.522 1555.13 Q391.199 1553.81 391.199 1552.54 Q391.199 1550.48 389.741 1549.18 Q388.3 1547.87 385.974 1547.87 Q384.324 1547.87 382.484 1548.45 Q380.661 1549.02 378.578 1550.18 L378.578 1546.64 Q380.696 1545.79 382.536 1545.36 Q384.376 1544.92 385.904 1544.92 Q389.932 1544.92 392.328 1546.94 Q394.724 1548.95 394.724 1552.32 Q394.724 1553.92 394.116 1555.36 Q393.526 1556.78 391.946 1558.73 Q391.512 1559.23 389.185 1561.64 Q386.859 1564.04 382.623 1568.36 Z\" fill=\"#000000\" fill-rule=\"evenodd\" fill-opacity=\"1\" /><path clip-path=\"url(#clip000)\" d=\"M 0 0 M660.657 1547.7 Q657.949 1547.7 656.577 1550.37 Q655.223 1553.03 655.223 1558.38 Q655.223 1563.71 656.577 1566.38 Q657.949 1569.04 660.657 1569.04 Q663.383 1569.04 664.737 1566.38 Q666.108 1563.71 666.108 1558.38 Q666.108 1553.03 664.737 1550.37 Q663.383 1547.7 660.657 1547.7 M660.657 1544.92 Q665.015 1544.92 667.306 1548.38 Q669.615 1551.82 669.615 1558.38 Q669.615 1564.92 667.306 1568.38 Q665.015 1571.82 660.657 1571.82 Q656.299 1571.82 653.99 1568.38 Q651.699 1564.92 651.699 1558.38 Q651.699 1551.82 653.99 1548.38 Q656.299 1544.92 660.657 1544.92 Z\" fill=\"#000000\" fill-rule=\"evenodd\" fill-opacity=\"1\" /><path clip-path=\"url(#clip000)\" d=\"M 0 0 M943.101 1568.36 L955.34 1568.36 L955.34 1571.31 L938.882 1571.31 L938.882 1568.36 Q940.878 1566.29 944.316 1562.82 Q947.771 1559.33 948.656 1558.33 Q950.34 1556.43 951 1555.13 Q951.677 1553.81 951.677 1552.54 Q951.677 1550.48 950.219 1549.18 Q948.778 1547.87 946.451 1547.87 Q944.802 1547.87 942.962 1548.45 Q941.139 1549.02 939.055 1550.18 L939.055 1546.64 Q941.174 1545.79 943.014 1545.36 Q944.854 1544.92 946.382 1544.92 Q950.41 1544.92 952.805 1546.94 Q955.201 1548.95 955.201 1552.32 Q955.201 1553.92 954.594 1555.36 Q954.003 1556.78 952.423 1558.73 Q951.989 1559.23 949.663 1561.64 Q947.337 1564.04 943.101 1568.36 Z\" fill=\"#000000\" fill-rule=\"evenodd\" fill-opacity=\"1\" /><polyline clip-path=\"url(#clip002)\" style=\"stroke:#000000; stroke-width:2; stroke-opacity:0.1; fill:none\" points=\"\n",
       "  86.9921,1474.46 1152.76,1474.46 \n",
       "  \"/>\n",
       "<polyline clip-path=\"url(#clip002)\" style=\"stroke:#000000; stroke-width:2; stroke-opacity:0.1; fill:none\" points=\"\n",
       "  86.9921,1161.09 1152.76,1161.09 \n",
       "  \"/>\n",
       "<polyline clip-path=\"url(#clip002)\" style=\"stroke:#000000; stroke-width:2; stroke-opacity:0.1; fill:none\" points=\"\n",
       "  86.9921,847.709 1152.76,847.709 \n",
       "  \"/>\n",
       "<polyline clip-path=\"url(#clip002)\" style=\"stroke:#000000; stroke-width:2; stroke-opacity:0.1; fill:none\" points=\"\n",
       "  86.9921,534.332 1152.76,534.332 \n",
       "  \"/>\n",
       "<polyline clip-path=\"url(#clip002)\" style=\"stroke:#000000; stroke-width:2; stroke-opacity:0.1; fill:none\" points=\"\n",
       "  86.9921,220.955 1152.76,220.955 \n",
       "  \"/>\n",
       "<polyline clip-path=\"url(#clip000)\" style=\"stroke:#000000; stroke-width:4; stroke-opacity:1; fill:none\" points=\"\n",
       "  86.9921,1521.01 86.9921,62.9921 \n",
       "  \"/>\n",
       "<polyline clip-path=\"url(#clip000)\" style=\"stroke:#000000; stroke-width:4; stroke-opacity:1; fill:none\" points=\"\n",
       "  86.9921,1474.46 99.7813,1474.46 \n",
       "  \"/>\n",
       "<polyline clip-path=\"url(#clip000)\" style=\"stroke:#000000; stroke-width:4; stroke-opacity:1; fill:none\" points=\"\n",
       "  86.9921,1161.09 99.7813,1161.09 \n",
       "  \"/>\n",
       "<polyline clip-path=\"url(#clip000)\" style=\"stroke:#000000; stroke-width:4; stroke-opacity:1; fill:none\" points=\"\n",
       "  86.9921,847.709 99.7813,847.709 \n",
       "  \"/>\n",
       "<polyline clip-path=\"url(#clip000)\" style=\"stroke:#000000; stroke-width:4; stroke-opacity:1; fill:none\" points=\"\n",
       "  86.9921,534.332 99.7813,534.332 \n",
       "  \"/>\n",
       "<polyline clip-path=\"url(#clip000)\" style=\"stroke:#000000; stroke-width:4; stroke-opacity:1; fill:none\" points=\"\n",
       "  86.9921,220.955 99.7813,220.955 \n",
       "  \"/>\n",
       "<path clip-path=\"url(#clip000)\" d=\"M 0 0 M-41.4379 1474.91 L-11.7622 1474.91 L-11.7622 1478.85 L-41.4379 1478.85 L-41.4379 1474.91 Z\" fill=\"#000000\" fill-rule=\"evenodd\" fill-opacity=\"1\" /><path clip-path=\"url(#clip000)\" d=\"M 0 0 M-5.88257 1487.81 L1.75628 1487.81 L1.75628 1461.44 L-6.55386 1463.11 L-6.55386 1458.85 L1.70998 1457.18 L6.38588 1457.18 L6.38588 1487.81 L14.0247 1487.81 L14.0247 1491.74 L-5.88257 1491.74 L-5.88257 1487.81 Z\" fill=\"#000000\" fill-rule=\"evenodd\" fill-opacity=\"1\" /><path clip-path=\"url(#clip000)\" d=\"M 0 0 M19.0941 1485.86 L23.9784 1485.86 L23.9784 1491.74 L19.0941 1491.74 L19.0941 1485.86 Z\" fill=\"#000000\" fill-rule=\"evenodd\" fill-opacity=\"1\" /><path clip-path=\"url(#clip000)\" d=\"M 0 0 M39.0477 1460.26 Q35.4367 1460.26 33.608 1463.83 Q31.8024 1467.37 31.8024 1474.5 Q31.8024 1481.6 33.608 1485.17 Q35.4367 1488.71 39.0477 1488.71 Q42.682 1488.71 44.4875 1485.17 Q46.3162 1481.6 46.3162 1474.5 Q46.3162 1467.37 44.4875 1463.83 Q42.682 1460.26 39.0477 1460.26 M39.0477 1456.56 Q44.8579 1456.56 47.9134 1461.16 Q50.9921 1465.75 50.9921 1474.5 Q50.9921 1483.22 47.9134 1487.83 Q44.8579 1492.41 39.0477 1492.41 Q33.2376 1492.41 30.1589 1487.83 Q27.1034 1483.22 27.1034 1474.5 Q27.1034 1465.75 30.1589 1461.16 Q33.2376 1456.56 39.0477 1456.56 Z\" fill=\"#000000\" fill-rule=\"evenodd\" fill-opacity=\"1\" /><path clip-path=\"url(#clip000)\" d=\"M 0 0 M-41.6694 1161.54 L-11.9936 1161.54 L-11.9936 1165.47 L-41.6694 1165.47 L-41.6694 1161.54 Z\" fill=\"#000000\" fill-rule=\"evenodd\" fill-opacity=\"1\" /><path clip-path=\"url(#clip000)\" d=\"M 0 0 M3.07572 1146.88 Q-0.535376 1146.88 -2.36407 1150.45 Q-4.16962 1153.99 -4.16962 1161.12 Q-4.16962 1168.23 -2.36407 1171.79 Q-0.535376 1175.33 3.07572 1175.33 Q6.70996 1175.33 8.5155 1171.79 Q10.3442 1168.23 10.3442 1161.12 Q10.3442 1153.99 8.5155 1150.45 Q6.70996 1146.88 3.07572 1146.88 M3.07572 1143.18 Q8.88587 1143.18 11.9414 1147.79 Q15.0201 1152.37 15.0201 1161.12 Q15.0201 1169.85 11.9414 1174.45 Q8.88587 1179.04 3.07572 1179.04 Q-2.73444 1179.04 -5.81313 1174.45 Q-8.86866 1169.85 -8.86866 1161.12 Q-8.86866 1152.37 -5.81313 1147.79 Q-2.73444 1143.18 3.07572 1143.18 Z\" fill=\"#000000\" fill-rule=\"evenodd\" fill-opacity=\"1\" /><path clip-path=\"url(#clip000)\" d=\"M 0 0 M20.0895 1172.49 L24.9737 1172.49 L24.9737 1178.37 L20.0895 1178.37 L20.0895 1172.49 Z\" fill=\"#000000\" fill-rule=\"evenodd\" fill-opacity=\"1\" /><path clip-path=\"url(#clip000)\" d=\"M 0 0 M30.0895 1143.81 L48.4458 1143.81 L48.4458 1147.74 L34.3718 1147.74 L34.3718 1156.21 Q35.3904 1155.87 36.4089 1155.7 Q37.4274 1155.52 38.4459 1155.52 Q44.2329 1155.52 47.6125 1158.69 Q50.9921 1161.86 50.9921 1167.28 Q50.9921 1172.86 47.5199 1175.96 Q44.0477 1179.04 37.7283 1179.04 Q35.5524 1179.04 33.2839 1178.67 Q31.0385 1178.3 28.6311 1177.56 L28.6311 1172.86 Q30.7145 1173.99 32.9367 1174.55 Q35.1589 1175.1 37.6357 1175.1 Q41.6403 1175.1 43.9783 1173 Q46.3162 1170.89 46.3162 1167.28 Q46.3162 1163.67 43.9783 1161.56 Q41.6403 1159.45 37.6357 1159.45 Q35.7607 1159.45 33.8857 1159.87 Q32.0339 1160.29 30.0895 1161.17 L30.0895 1143.81 Z\" fill=\"#000000\" fill-rule=\"evenodd\" fill-opacity=\"1\" /><path clip-path=\"url(#clip000)\" d=\"M 0 0 M2.08035 833.508 Q-1.53074 833.508 -3.35943 837.073 Q-5.16498 840.614 -5.16498 847.744 Q-5.16498 854.85 -3.35943 858.415 Q-1.53074 861.957 2.08035 861.957 Q5.71459 861.957 7.52014 858.415 Q9.34883 854.85 9.34883 847.744 Q9.34883 840.614 7.52014 837.073 Q5.71459 833.508 2.08035 833.508 M2.08035 829.804 Q7.89051 829.804 10.946 834.411 Q14.0247 838.994 14.0247 847.744 Q14.0247 856.471 10.946 861.077 Q7.89051 865.66 2.08035 865.66 Q-3.7298 865.66 -6.80849 861.077 Q-9.86403 856.471 -9.86403 847.744 Q-9.86403 838.994 -6.80849 834.411 Q-3.7298 829.804 2.08035 829.804 Z\" fill=\"#000000\" fill-rule=\"evenodd\" fill-opacity=\"1\" /><path clip-path=\"url(#clip000)\" d=\"M 0 0 M19.0941 859.109 L23.9784 859.109 L23.9784 864.989 L19.0941 864.989 L19.0941 859.109 Z\" fill=\"#000000\" fill-rule=\"evenodd\" fill-opacity=\"1\" /><path clip-path=\"url(#clip000)\" d=\"M 0 0 M39.0477 833.508 Q35.4367 833.508 33.608 837.073 Q31.8024 840.614 31.8024 847.744 Q31.8024 854.85 33.608 858.415 Q35.4367 861.957 39.0477 861.957 Q42.682 861.957 44.4875 858.415 Q46.3162 854.85 46.3162 847.744 Q46.3162 840.614 44.4875 837.073 Q42.682 833.508 39.0477 833.508 M39.0477 829.804 Q44.8579 829.804 47.9134 834.411 Q50.9921 838.994 50.9921 847.744 Q50.9921 856.471 47.9134 861.077 Q44.8579 865.66 39.0477 865.66 Q33.2376 865.66 30.1589 861.077 Q27.1034 856.471 27.1034 847.744 Q27.1034 838.994 30.1589 834.411 Q33.2376 829.804 39.0477 829.804 Z\" fill=\"#000000\" fill-rule=\"evenodd\" fill-opacity=\"1\" /><path clip-path=\"url(#clip000)\" d=\"M 0 0 M3.07572 520.131 Q-0.535376 520.131 -2.36407 523.696 Q-4.16962 527.237 -4.16962 534.367 Q-4.16962 541.473 -2.36407 545.038 Q-0.535376 548.58 3.07572 548.58 Q6.70996 548.58 8.5155 545.038 Q10.3442 541.473 10.3442 534.367 Q10.3442 527.237 8.5155 523.696 Q6.70996 520.131 3.07572 520.131 M3.07572 516.427 Q8.88587 516.427 11.9414 521.034 Q15.0201 525.617 15.0201 534.367 Q15.0201 543.094 11.9414 547.7 Q8.88587 552.283 3.07572 552.283 Q-2.73444 552.283 -5.81313 547.7 Q-8.86866 543.094 -8.86866 534.367 Q-8.86866 525.617 -5.81313 521.034 Q-2.73444 516.427 3.07572 516.427 Z\" fill=\"#000000\" fill-rule=\"evenodd\" fill-opacity=\"1\" /><path clip-path=\"url(#clip000)\" d=\"M 0 0 M20.0895 545.732 L24.9737 545.732 L24.9737 551.612 L20.0895 551.612 L20.0895 545.732 Z\" fill=\"#000000\" fill-rule=\"evenodd\" fill-opacity=\"1\" /><path clip-path=\"url(#clip000)\" d=\"M 0 0 M30.0895 517.052 L48.4458 517.052 L48.4458 520.987 L34.3718 520.987 L34.3718 529.459 Q35.3904 529.112 36.4089 528.95 Q37.4274 528.765 38.4459 528.765 Q44.2329 528.765 47.6125 531.936 Q50.9921 535.108 50.9921 540.524 Q50.9921 546.103 47.5199 549.205 Q44.0477 552.283 37.7283 552.283 Q35.5524 552.283 33.2839 551.913 Q31.0385 551.543 28.6311 550.802 L28.6311 546.103 Q30.7145 547.237 32.9367 547.793 Q35.1589 548.348 37.6357 548.348 Q41.6403 548.348 43.9783 546.242 Q46.3162 544.135 46.3162 540.524 Q46.3162 536.913 43.9783 534.807 Q41.6403 532.7 37.6357 532.7 Q35.7607 532.7 33.8857 533.117 Q32.0339 533.533 30.0895 534.413 L30.0895 517.052 Z\" fill=\"#000000\" fill-rule=\"evenodd\" fill-opacity=\"1\" /><path clip-path=\"url(#clip000)\" d=\"M 0 0 M-5.88257 234.3 L1.75628 234.3 L1.75628 207.934 L-6.55386 209.601 L-6.55386 205.342 L1.70998 203.675 L6.38588 203.675 L6.38588 234.3 L14.0247 234.3 L14.0247 238.235 L-5.88257 238.235 L-5.88257 234.3 Z\" fill=\"#000000\" fill-rule=\"evenodd\" fill-opacity=\"1\" /><path clip-path=\"url(#clip000)\" d=\"M 0 0 M19.0941 232.356 L23.9784 232.356 L23.9784 238.235 L19.0941 238.235 L19.0941 232.356 Z\" fill=\"#000000\" fill-rule=\"evenodd\" fill-opacity=\"1\" /><path clip-path=\"url(#clip000)\" d=\"M 0 0 M39.0477 206.754 Q35.4367 206.754 33.608 210.319 Q31.8024 213.86 31.8024 220.99 Q31.8024 228.096 33.608 231.661 Q35.4367 235.203 39.0477 235.203 Q42.682 235.203 44.4875 231.661 Q46.3162 228.096 46.3162 220.99 Q46.3162 213.86 44.4875 210.319 Q42.682 206.754 39.0477 206.754 M39.0477 203.05 Q44.8579 203.05 47.9134 207.657 Q50.9921 212.24 50.9921 220.99 Q50.9921 229.717 47.9134 234.323 Q44.8579 238.906 39.0477 238.906 Q33.2376 238.906 30.1589 234.323 Q27.1034 229.717 27.1034 220.99 Q27.1034 212.24 30.1589 207.657 Q33.2376 203.05 39.0477 203.05 Z\" fill=\"#000000\" fill-rule=\"evenodd\" fill-opacity=\"1\" /><path clip-path=\"url(#clip000)\" d=\"M 0 0 M410.581 6.912 L430.442 6.912 L430.442 10.8472 L415.257 10.8472 L415.257 21.0323 L428.961 21.0323 L428.961 24.9675 L415.257 24.9675 L415.257 41.472 L410.581 41.472 L410.581 6.912 Z\" fill=\"#000000\" fill-rule=\"evenodd\" fill-opacity=\"1\" /><path clip-path=\"url(#clip000)\" d=\"M 0 0 M431.877 31.2406 L431.877 15.5462 L436.137 15.5462 L436.137 31.0785 Q436.137 34.7591 437.572 36.6109 Q439.007 38.4396 441.877 38.4396 Q445.326 38.4396 447.317 36.2405 Q449.331 34.0415 449.331 30.2452 L449.331 15.5462 L453.59 15.5462 L453.59 41.472 L449.331 41.472 L449.331 37.4905 Q447.78 39.8516 445.72 41.009 Q443.683 42.1433 440.975 42.1433 Q436.507 42.1433 434.192 39.3655 Q431.877 36.5878 431.877 31.2406 M442.595 14.9212 L442.595 14.9212 Z\" fill=\"#000000\" fill-rule=\"evenodd\" fill-opacity=\"1\" /><path clip-path=\"url(#clip000)\" d=\"M 0 0 M456.206 15.5462 L476.437 15.5462 L476.437 19.4351 L460.419 38.0692 L476.437 38.0692 L476.437 41.472 L455.627 41.472 L455.627 37.5831 L471.646 18.949 L456.206 18.949 L456.206 15.5462 Z\" fill=\"#000000\" fill-rule=\"evenodd\" fill-opacity=\"1\" /><path clip-path=\"url(#clip000)\" d=\"M 0 0 M479.053 15.5462 L499.284 15.5462 L499.284 19.4351 L483.266 38.0692 L499.284 38.0692 L499.284 41.472 L478.474 41.472 L478.474 37.5831 L494.493 18.949 L479.053 18.949 L479.053 15.5462 Z\" fill=\"#000000\" fill-rule=\"evenodd\" fill-opacity=\"1\" /><path clip-path=\"url(#clip000)\" d=\"M 0 0 M514.539 43.8794 Q512.733 48.509 511.02 49.921 Q509.307 51.3331 506.437 51.3331 L503.034 51.3331 L503.034 47.7683 L505.534 47.7683 Q507.294 47.7683 508.266 46.9349 Q509.238 46.1016 510.419 42.9998 L511.182 41.0553 L500.696 15.5462 L505.21 15.5462 L513.312 35.8239 L521.414 15.5462 L525.928 15.5462 L514.539 43.8794 Z\" fill=\"#000000\" fill-rule=\"evenodd\" fill-opacity=\"1\" /><path clip-path=\"url(#clip000)\" d=\"M 0 0 M542.131 11.5185 L535.789 28.7174 L548.497 28.7174 L542.131 11.5185 M539.493 6.912 L544.793 6.912 L557.965 41.472 L553.104 41.472 L549.955 32.6063 L534.377 32.6063 L531.229 41.472 L526.298 41.472 L539.493 6.912 Z\" fill=\"#000000\" fill-rule=\"evenodd\" fill-opacity=\"1\" /><path clip-path=\"url(#clip000)\" d=\"M 0 0 M579.006 25.2684 Q580.511 25.7776 581.923 27.4443 Q583.358 29.111 584.793 32.0276 L589.539 41.472 L584.515 41.472 L580.094 32.6063 Q578.381 29.1341 576.761 27.9998 Q575.164 26.8656 572.386 26.8656 L567.293 26.8656 L567.293 41.472 L562.617 41.472 L562.617 6.912 L573.173 6.912 Q579.099 6.912 582.015 9.38884 Q584.932 11.8657 584.932 16.8657 Q584.932 20.1295 583.404 22.2823 Q581.9 24.4351 579.006 25.2684 M567.293 10.7546 L567.293 23.023 L573.173 23.023 Q576.552 23.023 578.265 21.4721 Q580.002 19.898 580.002 16.8657 Q580.002 13.8333 578.265 12.3055 Q576.552 10.7546 573.173 10.7546 L567.293 10.7546 Z\" fill=\"#000000\" fill-rule=\"evenodd\" fill-opacity=\"1\" /><path clip-path=\"url(#clip000)\" d=\"M 0 0 M585.951 6.912 L615.187 6.912 L615.187 10.8472 L602.918 10.8472 L602.918 41.472 L598.219 41.472 L598.219 10.8472 L585.951 10.8472 L585.951 6.912 Z\" fill=\"#000000\" fill-rule=\"evenodd\" fill-opacity=\"1\" /><path clip-path=\"url(#clip000)\" d=\"M 0 0 M649.747 19.5277 Q649.029 19.111 648.172 18.9258 Q647.339 18.7175 646.321 18.7175 Q642.71 18.7175 640.765 21.0786 Q638.844 23.4165 638.844 27.8147 L638.844 41.472 L634.561 41.472 L634.561 15.5462 L638.844 15.5462 L638.844 19.574 Q640.186 17.2129 642.339 16.0786 Q644.492 14.9212 647.571 14.9212 Q648.01 14.9212 648.543 14.9907 Q649.075 15.037 649.723 15.1527 L649.747 19.5277 Z\" fill=\"#000000\" fill-rule=\"evenodd\" fill-opacity=\"1\" /><path clip-path=\"url(#clip000)\" d=\"M 0 0 M674.932 25.8239 L674.932 41.472 L670.672 41.472 L670.672 25.9628 Q670.672 22.2823 669.237 20.4536 Q667.802 18.6249 664.932 18.6249 Q661.483 18.6249 659.492 20.824 Q657.501 23.023 657.501 26.8193 L657.501 41.472 L653.219 41.472 L653.219 5.45367 L657.501 5.45367 L657.501 19.574 Q659.029 17.236 661.089 16.0786 Q663.172 14.9212 665.881 14.9212 Q670.348 14.9212 672.64 17.699 Q674.932 20.4536 674.932 25.8239 Z\" fill=\"#000000\" fill-rule=\"evenodd\" fill-opacity=\"1\" /><path clip-path=\"url(#clip000)\" d=\"M 0 0 M689.445 18.5323 Q686.019 18.5323 684.029 21.2175 Q682.038 23.8795 682.038 28.5323 Q682.038 33.185 684.006 35.8702 Q685.996 38.5322 689.445 38.5322 Q692.848 38.5322 694.839 35.847 Q696.83 33.1619 696.83 28.5323 Q696.83 23.9258 694.839 21.2406 Q692.848 18.5323 689.445 18.5323 M689.445 14.9212 Q695.001 14.9212 698.172 18.5323 Q701.343 22.1434 701.343 28.5323 Q701.343 34.898 698.172 38.5322 Q695.001 42.1433 689.445 42.1433 Q683.867 42.1433 680.695 38.5322 Q677.547 34.898 677.547 28.5323 Q677.547 22.1434 680.695 18.5323 Q683.867 14.9212 689.445 14.9212 Z\" fill=\"#000000\" fill-rule=\"evenodd\" fill-opacity=\"1\" /><path clip-path=\"url(#clip000)\" d=\"M 0 0 M721.436 19.9443 L751.112 19.9443 L751.112 23.8332 L721.436 23.8332 L721.436 19.9443 M721.436 29.3887 L751.112 29.3887 L751.112 33.3239 L721.436 33.3239 L721.436 29.3887 Z\" fill=\"#000000\" fill-rule=\"evenodd\" fill-opacity=\"1\" /><path clip-path=\"url(#clip000)\" d=\"M 0 0 M781.25 9.99069 Q777.639 9.99069 775.811 13.5555 Q774.005 17.0971 774.005 24.2267 Q774.005 31.3332 775.811 34.898 Q777.639 38.4396 781.25 38.4396 Q784.885 38.4396 786.69 34.898 Q788.519 31.3332 788.519 24.2267 Q788.519 17.0971 786.69 13.5555 Q784.885 9.99069 781.25 9.99069 M781.25 6.287 Q787.061 6.287 790.116 10.8935 Q793.195 15.4768 793.195 24.2267 Q793.195 32.9535 790.116 37.56 Q787.061 42.1433 781.25 42.1433 Q775.44 42.1433 772.362 37.56 Q769.306 32.9535 769.306 24.2267 Q769.306 15.4768 772.362 10.8935 Q775.44 6.287 781.25 6.287 Z\" fill=\"#000000\" fill-rule=\"evenodd\" fill-opacity=\"1\" /><path clip-path=\"url(#clip000)\" d=\"M 0 0 M798.264 35.5924 L803.148 35.5924 L803.148 41.472 L798.264 41.472 L798.264 35.5924 Z\" fill=\"#000000\" fill-rule=\"evenodd\" fill-opacity=\"1\" /><path clip-path=\"url(#clip000)\" d=\"M 0 0 M808.264 6.912 L826.621 6.912 L826.621 10.8472 L812.547 10.8472 L812.547 19.3193 Q813.565 18.9721 814.584 18.8101 Q815.602 18.6249 816.621 18.6249 Q822.408 18.6249 825.787 21.7962 Q829.167 24.9675 829.167 30.3841 Q829.167 35.9628 825.695 39.0646 Q822.222 42.1433 815.903 42.1433 Q813.727 42.1433 811.459 41.7729 Q809.213 41.4026 806.806 40.6618 L806.806 35.9628 Q808.889 37.097 811.111 37.6526 Q813.334 38.2081 815.81 38.2081 Q819.815 38.2081 822.153 36.1017 Q824.491 33.9952 824.491 30.3841 Q824.491 26.773 822.153 24.6665 Q819.815 22.5601 815.81 22.5601 Q813.935 22.5601 812.06 22.9767 Q810.209 23.3934 808.264 24.273 L808.264 6.912 Z\" fill=\"#000000\" fill-rule=\"evenodd\" fill-opacity=\"1\" /><circle clip-path=\"url(#clip002)\" cx=\"1027.66\" cy=\"612.874\" r=\"14\" fill=\"#009af9\" fill-rule=\"evenodd\" fill-opacity=\"1\" stroke=\"#000000\" stroke-opacity=\"1\" stroke-width=\"3.2\"/>\n",
       "<circle clip-path=\"url(#clip002)\" cx=\"1122.59\" cy=\"1163.14\" r=\"14\" fill=\"#009af9\" fill-rule=\"evenodd\" fill-opacity=\"1\" stroke=\"#000000\" stroke-opacity=\"1\" stroke-width=\"3.2\"/>\n",
       "<circle clip-path=\"url(#clip002)\" cx=\"1031.66\" cy=\"699.758\" r=\"14\" fill=\"#009af9\" fill-rule=\"evenodd\" fill-opacity=\"1\" stroke=\"#000000\" stroke-opacity=\"1\" stroke-width=\"3.2\"/>\n",
       "<circle clip-path=\"url(#clip002)\" cx=\"1054.02\" cy=\"1042.71\" r=\"14\" fill=\"#009af9\" fill-rule=\"evenodd\" fill-opacity=\"1\" stroke=\"#000000\" stroke-opacity=\"1\" stroke-width=\"3.2\"/>\n",
       "<circle clip-path=\"url(#clip002)\" cx=\"1031.23\" cy=\"521.5\" r=\"14\" fill=\"#009af9\" fill-rule=\"evenodd\" fill-opacity=\"1\" stroke=\"#000000\" stroke-opacity=\"1\" stroke-width=\"3.2\"/>\n",
       "<circle clip-path=\"url(#clip002)\" cx=\"1024.11\" cy=\"527.834\" r=\"14\" fill=\"#009af9\" fill-rule=\"evenodd\" fill-opacity=\"1\" stroke=\"#000000\" stroke-opacity=\"1\" stroke-width=\"3.2\"/>\n",
       "<circle clip-path=\"url(#clip002)\" cx=\"1019.66\" cy=\"439.106\" r=\"14\" fill=\"#009af9\" fill-rule=\"evenodd\" fill-opacity=\"1\" stroke=\"#000000\" stroke-opacity=\"1\" stroke-width=\"3.2\"/>\n",
       "<circle clip-path=\"url(#clip002)\" cx=\"1034.93\" cy=\"834.221\" r=\"14\" fill=\"#009af9\" fill-rule=\"evenodd\" fill-opacity=\"1\" stroke=\"#000000\" stroke-opacity=\"1\" stroke-width=\"3.2\"/>\n",
       "<circle clip-path=\"url(#clip002)\" cx=\"977.021\" cy=\"570.248\" r=\"14\" fill=\"#009af9\" fill-rule=\"evenodd\" fill-opacity=\"1\" stroke=\"#000000\" stroke-opacity=\"1\" stroke-width=\"3.2\"/>\n",
       "<circle clip-path=\"url(#clip002)\" cx=\"1039.28\" cy=\"104.257\" r=\"14\" fill=\"#009af9\" fill-rule=\"evenodd\" fill-opacity=\"1\" stroke=\"#000000\" stroke-opacity=\"1\" stroke-width=\"3.2\"/>\n",
       "<circle clip-path=\"url(#clip002)\" cx=\"1036.66\" cy=\"467.395\" r=\"14\" fill=\"#009af9\" fill-rule=\"evenodd\" fill-opacity=\"1\" stroke=\"#000000\" stroke-opacity=\"1\" stroke-width=\"3.2\"/>\n",
       "<circle clip-path=\"url(#clip002)\" cx=\"998.124\" cy=\"867.27\" r=\"14\" fill=\"#009af9\" fill-rule=\"evenodd\" fill-opacity=\"1\" stroke=\"#000000\" stroke-opacity=\"1\" stroke-width=\"3.2\"/>\n",
       "<circle clip-path=\"url(#clip002)\" cx=\"1024.92\" cy=\"571.917\" r=\"14\" fill=\"#009af9\" fill-rule=\"evenodd\" fill-opacity=\"1\" stroke=\"#000000\" stroke-opacity=\"1\" stroke-width=\"3.2\"/>\n",
       "<circle clip-path=\"url(#clip002)\" cx=\"1019.86\" cy=\"934.863\" r=\"14\" fill=\"#009af9\" fill-rule=\"evenodd\" fill-opacity=\"1\" stroke=\"#000000\" stroke-opacity=\"1\" stroke-width=\"3.2\"/>\n",
       "<circle clip-path=\"url(#clip002)\" cx=\"1005.19\" cy=\"724.917\" r=\"14\" fill=\"#009af9\" fill-rule=\"evenodd\" fill-opacity=\"1\" stroke=\"#000000\" stroke-opacity=\"1\" stroke-width=\"3.2\"/>\n",
       "<circle clip-path=\"url(#clip002)\" cx=\"568.75\" cy=\"835.756\" r=\"14\" fill=\"#e26f46\" fill-rule=\"evenodd\" fill-opacity=\"1\" stroke=\"#000000\" stroke-opacity=\"1\" stroke-width=\"3.2\"/>\n",
       "<circle clip-path=\"url(#clip002)\" cx=\"470.016\" cy=\"694.361\" r=\"14\" fill=\"#e26f46\" fill-rule=\"evenodd\" fill-opacity=\"1\" stroke=\"#000000\" stroke-opacity=\"1\" stroke-width=\"3.2\"/>\n",
       "<circle clip-path=\"url(#clip002)\" cx=\"768.287\" cy=\"1475.16\" r=\"14\" fill=\"#e26f46\" fill-rule=\"evenodd\" fill-opacity=\"1\" stroke=\"#000000\" stroke-opacity=\"1\" stroke-width=\"3.2\"/>\n",
       "<circle clip-path=\"url(#clip002)\" cx=\"485.859\" cy=\"591.971\" r=\"14\" fill=\"#e26f46\" fill-rule=\"evenodd\" fill-opacity=\"1\" stroke=\"#000000\" stroke-opacity=\"1\" stroke-width=\"3.2\"/>\n",
       "<circle clip-path=\"url(#clip002)\" cx=\"544.291\" cy=\"949.451\" r=\"14\" fill=\"#e26f46\" fill-rule=\"evenodd\" fill-opacity=\"1\" stroke=\"#000000\" stroke-opacity=\"1\" stroke-width=\"3.2\"/>\n",
       "<circle clip-path=\"url(#clip002)\" cx=\"527.111\" cy=\"647.65\" r=\"14\" fill=\"#e26f46\" fill-rule=\"evenodd\" fill-opacity=\"1\" stroke=\"#000000\" stroke-opacity=\"1\" stroke-width=\"3.2\"/>\n",
       "<circle clip-path=\"url(#clip002)\" cx=\"618.003\" cy=\"1065.2\" r=\"14\" fill=\"#e26f46\" fill-rule=\"evenodd\" fill-opacity=\"1\" stroke=\"#000000\" stroke-opacity=\"1\" stroke-width=\"3.2\"/>\n",
       "<circle clip-path=\"url(#clip002)\" cx=\"527.803\" cy=\"554.24\" r=\"14\" fill=\"#e26f46\" fill-rule=\"evenodd\" fill-opacity=\"1\" stroke=\"#000000\" stroke-opacity=\"1\" stroke-width=\"3.2\"/>\n",
       "<circle clip-path=\"url(#clip002)\" cx=\"609.555\" cy=\"889.591\" r=\"14\" fill=\"#e26f46\" fill-rule=\"evenodd\" fill-opacity=\"1\" stroke=\"#000000\" stroke-opacity=\"1\" stroke-width=\"3.2\"/>\n",
       "<circle clip-path=\"url(#clip002)\" cx=\"761.93\" cy=\"1479.74\" r=\"14\" fill=\"#e26f46\" fill-rule=\"evenodd\" fill-opacity=\"1\" stroke=\"#000000\" stroke-opacity=\"1\" stroke-width=\"3.2\"/>\n",
       "<circle clip-path=\"url(#clip002)\" cx=\"623.083\" cy=\"1191.1\" r=\"14\" fill=\"#e26f46\" fill-rule=\"evenodd\" fill-opacity=\"1\" stroke=\"#000000\" stroke-opacity=\"1\" stroke-width=\"3.2\"/>\n",
       "<circle clip-path=\"url(#clip002)\" cx=\"405.764\" cy=\"1162\" r=\"14\" fill=\"#3da44d\" fill-rule=\"evenodd\" fill-opacity=\"1\" stroke=\"#000000\" stroke-opacity=\"1\" stroke-width=\"3.2\"/>\n",
       "<circle clip-path=\"url(#clip002)\" cx=\"117.155\" cy=\"688.974\" r=\"14\" fill=\"#3da44d\" fill-rule=\"evenodd\" fill-opacity=\"1\" stroke=\"#000000\" stroke-opacity=\"1\" stroke-width=\"3.2\"/>\n",
       "<circle clip-path=\"url(#clip002)\" cx=\"500.781\" cy=\"900.491\" r=\"14\" fill=\"#3da44d\" fill-rule=\"evenodd\" fill-opacity=\"1\" stroke=\"#000000\" stroke-opacity=\"1\" stroke-width=\"3.2\"/>\n",
       "<circle clip-path=\"url(#clip002)\" cx=\"450.964\" cy=\"531.706\" r=\"14\" fill=\"#3da44d\" fill-rule=\"evenodd\" fill-opacity=\"1\" stroke=\"#000000\" stroke-opacity=\"1\" stroke-width=\"3.2\"/>\n",
       "<circle clip-path=\"url(#clip002)\" cx=\"463.185\" cy=\"1111.7\" r=\"14\" fill=\"#3da44d\" fill-rule=\"evenodd\" fill-opacity=\"1\" stroke=\"#000000\" stroke-opacity=\"1\" stroke-width=\"3.2\"/>\n",
       "<circle clip-path=\"url(#clip002)\" cx=\"358.784\" cy=\"614.881\" r=\"14\" fill=\"#3da44d\" fill-rule=\"evenodd\" fill-opacity=\"1\" stroke=\"#000000\" stroke-opacity=\"1\" stroke-width=\"3.2\"/>\n",
       "<circle clip-path=\"url(#clip002)\" cx=\"381.472\" cy=\"822.181\" r=\"14\" fill=\"#3da44d\" fill-rule=\"evenodd\" fill-opacity=\"1\" stroke=\"#000000\" stroke-opacity=\"1\" stroke-width=\"3.2\"/>\n",
       "<circle clip-path=\"url(#clip002)\" cx=\"387.829\" cy=\"817.595\" r=\"14\" fill=\"#3da44d\" fill-rule=\"evenodd\" fill-opacity=\"1\" stroke=\"#000000\" stroke-opacity=\"1\" stroke-width=\"3.2\"/>\n",
       "<circle clip-path=\"url(#clip002)\" cx=\"433.604\" cy=\"1185.72\" r=\"14\" fill=\"#3da44d\" fill-rule=\"evenodd\" fill-opacity=\"1\" stroke=\"#000000\" stroke-opacity=\"1\" stroke-width=\"3.2\"/>\n",
       "<circle clip-path=\"url(#clip002)\" cx=\"242.701\" cy=\"358.602\" r=\"14\" fill=\"#3da44d\" fill-rule=\"evenodd\" fill-opacity=\"1\" stroke=\"#000000\" stroke-opacity=\"1\" stroke-width=\"3.2\"/>\n",
       "<circle clip-path=\"url(#clip002)\" cx=\"160.971\" cy=\"113.439\" r=\"14\" fill=\"#3da44d\" fill-rule=\"evenodd\" fill-opacity=\"1\" stroke=\"#000000\" stroke-opacity=\"1\" stroke-width=\"3.2\"/>\n",
       "<circle clip-path=\"url(#clip002)\" cx=\"402.513\" cy=\"983.185\" r=\"14\" fill=\"#3da44d\" fill-rule=\"evenodd\" fill-opacity=\"1\" stroke=\"#000000\" stroke-opacity=\"1\" stroke-width=\"3.2\"/>\n",
       "<circle clip-path=\"url(#clip002)\" cx=\"422.623\" cy=\"696.011\" r=\"14\" fill=\"#3da44d\" fill-rule=\"evenodd\" fill-opacity=\"1\" stroke=\"#000000\" stroke-opacity=\"1\" stroke-width=\"3.2\"/>\n",
       "<circle clip-path=\"url(#clip002)\" cx=\"285.906\" cy=\"633.4\" r=\"14\" fill=\"#3da44d\" fill-rule=\"evenodd\" fill-opacity=\"1\" stroke=\"#000000\" stroke-opacity=\"1\" stroke-width=\"3.2\"/>\n",
       "<circle clip-path=\"url(#clip002)\" cx=\"545.043\" cy=\"725.458\" r=\"14\" fill=\"#3da44d\" fill-rule=\"evenodd\" fill-opacity=\"1\" stroke=\"#000000\" stroke-opacity=\"1\" stroke-width=\"3.2\"/>\n",
       "<circle clip-path=\"url(#clip002)\" cx=\"442.141\" cy=\"1082.75\" r=\"14\" fill=\"#3da44d\" fill-rule=\"evenodd\" fill-opacity=\"1\" stroke=\"#000000\" stroke-opacity=\"1\" stroke-width=\"3.2\"/>\n",
       "<circle clip-path=\"url(#clip002)\" cx=\"240.715\" cy=\"626.855\" r=\"14\" fill=\"#3da44d\" fill-rule=\"evenodd\" fill-opacity=\"1\" stroke=\"#000000\" stroke-opacity=\"1\" stroke-width=\"3.2\"/>\n",
       "<circle clip-path=\"url(#clip002)\" cx=\"387.846\" cy=\"773.239\" r=\"14\" fill=\"#3da44d\" fill-rule=\"evenodd\" fill-opacity=\"1\" stroke=\"#000000\" stroke-opacity=\"1\" stroke-width=\"3.2\"/>\n",
       "<circle clip-path=\"url(#clip002)\" cx=\"480.531\" cy=\"959.984\" r=\"14\" fill=\"#3da44d\" fill-rule=\"evenodd\" fill-opacity=\"1\" stroke=\"#000000\" stroke-opacity=\"1\" stroke-width=\"3.2\"/>\n",
       "<path clip-path=\"url(#clip000)\" d=\"\n",
       "M1286.99 1521.01 L2352.76 1521.01 L2352.76 62.9921 L1286.99 62.9921  Z\n",
       "  \" fill=\"#ffffff\" fill-rule=\"evenodd\" fill-opacity=\"1\"/>\n",
       "<defs>\n",
       "  <clipPath id=\"clip003\">\n",
       "    <rect x=\"1286\" y=\"62\" width=\"1067\" height=\"1459\"/>\n",
       "  </clipPath>\n",
       "</defs>\n",
       "<polyline clip-path=\"url(#clip003)\" style=\"stroke:#000000; stroke-width:2; stroke-opacity:0.1; fill:none\" points=\"\n",
       "  1287.75,1521.01 1287.75,62.9921 \n",
       "  \"/>\n",
       "<polyline clip-path=\"url(#clip003)\" style=\"stroke:#000000; stroke-width:2; stroke-opacity:0.1; fill:none\" points=\"\n",
       "  1574.2,1521.01 1574.2,62.9921 \n",
       "  \"/>\n",
       "<polyline clip-path=\"url(#clip003)\" style=\"stroke:#000000; stroke-width:2; stroke-opacity:0.1; fill:none\" points=\"\n",
       "  1860.66,1521.01 1860.66,62.9921 \n",
       "  \"/>\n",
       "<polyline clip-path=\"url(#clip003)\" style=\"stroke:#000000; stroke-width:2; stroke-opacity:0.1; fill:none\" points=\"\n",
       "  2147.11,1521.01 2147.11,62.9921 \n",
       "  \"/>\n",
       "<polyline clip-path=\"url(#clip000)\" style=\"stroke:#000000; stroke-width:4; stroke-opacity:1; fill:none\" points=\"\n",
       "  1286.99,1521.01 2352.76,1521.01 \n",
       "  \"/>\n",
       "<polyline clip-path=\"url(#clip000)\" style=\"stroke:#000000; stroke-width:4; stroke-opacity:1; fill:none\" points=\"\n",
       "  1287.75,1521.01 1287.75,1503.51 \n",
       "  \"/>\n",
       "<polyline clip-path=\"url(#clip000)\" style=\"stroke:#000000; stroke-width:4; stroke-opacity:1; fill:none\" points=\"\n",
       "  1574.2,1521.01 1574.2,1503.51 \n",
       "  \"/>\n",
       "<polyline clip-path=\"url(#clip000)\" style=\"stroke:#000000; stroke-width:4; stroke-opacity:1; fill:none\" points=\"\n",
       "  1860.66,1521.01 1860.66,1503.51 \n",
       "  \"/>\n",
       "<polyline clip-path=\"url(#clip000)\" style=\"stroke:#000000; stroke-width:4; stroke-opacity:1; fill:none\" points=\"\n",
       "  2147.11,1521.01 2147.11,1503.51 \n",
       "  \"/>\n",
       "<path clip-path=\"url(#clip000)\" d=\"M 0 0 M1266.31 1558.69 L1288.56 1558.69 L1288.56 1561.64 L1266.31 1561.64 L1266.31 1558.69 Z\" fill=\"#000000\" fill-rule=\"evenodd\" fill-opacity=\"1\" /><path clip-path=\"url(#clip000)\" d=\"M 0 0 M1302 1548.45 L1293.15 1562.28 L1302 1562.28 L1302 1548.45 M1301.08 1545.39 L1305.49 1545.39 L1305.49 1562.28 L1309.19 1562.28 L1309.19 1565.2 L1305.49 1565.2 L1305.49 1571.31 L1302 1571.31 L1302 1565.2 L1290.3 1565.2 L1290.3 1561.82 L1301.08 1545.39 Z\" fill=\"#000000\" fill-rule=\"evenodd\" fill-opacity=\"1\" /><path clip-path=\"url(#clip000)\" d=\"M 0 0 M1553.54 1558.69 L1575.8 1558.69 L1575.8 1561.64 L1553.54 1561.64 L1553.54 1558.69 Z\" fill=\"#000000\" fill-rule=\"evenodd\" fill-opacity=\"1\" /><path clip-path=\"url(#clip000)\" d=\"M 0 0 M1582.62 1568.36 L1594.86 1568.36 L1594.86 1571.31 L1578.4 1571.31 L1578.4 1568.36 Q1580.4 1566.29 1583.84 1562.82 Q1587.29 1559.33 1588.18 1558.33 Q1589.86 1556.43 1590.52 1555.13 Q1591.2 1553.81 1591.2 1552.54 Q1591.2 1550.48 1589.74 1549.18 Q1588.3 1547.87 1585.97 1547.87 Q1584.32 1547.87 1582.48 1548.45 Q1580.66 1549.02 1578.58 1550.18 L1578.58 1546.64 Q1580.7 1545.79 1582.54 1545.36 Q1584.38 1544.92 1585.9 1544.92 Q1589.93 1544.92 1592.33 1546.94 Q1594.72 1548.95 1594.72 1552.32 Q1594.72 1553.92 1594.12 1555.36 Q1593.53 1556.78 1591.95 1558.73 Q1591.51 1559.23 1589.19 1561.64 Q1586.86 1564.04 1582.62 1568.36 Z\" fill=\"#000000\" fill-rule=\"evenodd\" fill-opacity=\"1\" /><path clip-path=\"url(#clip000)\" d=\"M 0 0 M1860.66 1547.7 Q1857.95 1547.7 1856.58 1550.37 Q1855.22 1553.03 1855.22 1558.38 Q1855.22 1563.71 1856.58 1566.38 Q1857.95 1569.04 1860.66 1569.04 Q1863.38 1569.04 1864.74 1566.38 Q1866.11 1563.71 1866.11 1558.38 Q1866.11 1553.03 1864.74 1550.37 Q1863.38 1547.7 1860.66 1547.7 M1860.66 1544.92 Q1865.01 1544.92 1867.31 1548.38 Q1869.62 1551.82 1869.62 1558.38 Q1869.62 1564.92 1867.31 1568.38 Q1865.01 1571.82 1860.66 1571.82 Q1856.3 1571.82 1853.99 1568.38 Q1851.7 1564.92 1851.7 1558.38 Q1851.7 1551.82 1853.99 1548.38 Q1856.3 1544.92 1860.66 1544.92 Z\" fill=\"#000000\" fill-rule=\"evenodd\" fill-opacity=\"1\" /><path clip-path=\"url(#clip000)\" d=\"M 0 0 M2143.1 1568.36 L2155.34 1568.36 L2155.34 1571.31 L2138.88 1571.31 L2138.88 1568.36 Q2140.88 1566.29 2144.32 1562.82 Q2147.77 1559.33 2148.66 1558.33 Q2150.34 1556.43 2151 1555.13 Q2151.68 1553.81 2151.68 1552.54 Q2151.68 1550.48 2150.22 1549.18 Q2148.78 1547.87 2146.45 1547.87 Q2144.8 1547.87 2142.96 1548.45 Q2141.14 1549.02 2139.06 1550.18 L2139.06 1546.64 Q2141.17 1545.79 2143.01 1545.36 Q2144.85 1544.92 2146.38 1544.92 Q2150.41 1544.92 2152.81 1546.94 Q2155.2 1548.95 2155.2 1552.32 Q2155.2 1553.92 2154.59 1555.36 Q2154 1556.78 2152.42 1558.73 Q2151.99 1559.23 2149.66 1561.64 Q2147.34 1564.04 2143.1 1568.36 Z\" fill=\"#000000\" fill-rule=\"evenodd\" fill-opacity=\"1\" /><polyline clip-path=\"url(#clip003)\" style=\"stroke:#000000; stroke-width:2; stroke-opacity:0.1; fill:none\" points=\"\n",
       "  1286.99,1474.46 2352.76,1474.46 \n",
       "  \"/>\n",
       "<polyline clip-path=\"url(#clip003)\" style=\"stroke:#000000; stroke-width:2; stroke-opacity:0.1; fill:none\" points=\"\n",
       "  1286.99,1161.09 2352.76,1161.09 \n",
       "  \"/>\n",
       "<polyline clip-path=\"url(#clip003)\" style=\"stroke:#000000; stroke-width:2; stroke-opacity:0.1; fill:none\" points=\"\n",
       "  1286.99,847.709 2352.76,847.709 \n",
       "  \"/>\n",
       "<polyline clip-path=\"url(#clip003)\" style=\"stroke:#000000; stroke-width:2; stroke-opacity:0.1; fill:none\" points=\"\n",
       "  1286.99,534.332 2352.76,534.332 \n",
       "  \"/>\n",
       "<polyline clip-path=\"url(#clip003)\" style=\"stroke:#000000; stroke-width:2; stroke-opacity:0.1; fill:none\" points=\"\n",
       "  1286.99,220.955 2352.76,220.955 \n",
       "  \"/>\n",
       "<polyline clip-path=\"url(#clip000)\" style=\"stroke:#000000; stroke-width:4; stroke-opacity:1; fill:none\" points=\"\n",
       "  1286.99,1521.01 1286.99,62.9921 \n",
       "  \"/>\n",
       "<polyline clip-path=\"url(#clip000)\" style=\"stroke:#000000; stroke-width:4; stroke-opacity:1; fill:none\" points=\"\n",
       "  1286.99,1474.46 1299.78,1474.46 \n",
       "  \"/>\n",
       "<polyline clip-path=\"url(#clip000)\" style=\"stroke:#000000; stroke-width:4; stroke-opacity:1; fill:none\" points=\"\n",
       "  1286.99,1161.09 1299.78,1161.09 \n",
       "  \"/>\n",
       "<polyline clip-path=\"url(#clip000)\" style=\"stroke:#000000; stroke-width:4; stroke-opacity:1; fill:none\" points=\"\n",
       "  1286.99,847.709 1299.78,847.709 \n",
       "  \"/>\n",
       "<polyline clip-path=\"url(#clip000)\" style=\"stroke:#000000; stroke-width:4; stroke-opacity:1; fill:none\" points=\"\n",
       "  1286.99,534.332 1299.78,534.332 \n",
       "  \"/>\n",
       "<polyline clip-path=\"url(#clip000)\" style=\"stroke:#000000; stroke-width:4; stroke-opacity:1; fill:none\" points=\"\n",
       "  1286.99,220.955 1299.78,220.955 \n",
       "  \"/>\n",
       "<path clip-path=\"url(#clip000)\" d=\"M 0 0 M1158.56 1474.91 L1188.24 1474.91 L1188.24 1478.85 L1158.56 1478.85 L1158.56 1474.91 Z\" fill=\"#000000\" fill-rule=\"evenodd\" fill-opacity=\"1\" /><path clip-path=\"url(#clip000)\" d=\"M 0 0 M1194.12 1487.81 L1201.76 1487.81 L1201.76 1461.44 L1193.45 1463.11 L1193.45 1458.85 L1201.71 1457.18 L1206.39 1457.18 L1206.39 1487.81 L1214.02 1487.81 L1214.02 1491.74 L1194.12 1491.74 L1194.12 1487.81 Z\" fill=\"#000000\" fill-rule=\"evenodd\" fill-opacity=\"1\" /><path clip-path=\"url(#clip000)\" d=\"M 0 0 M1219.09 1485.86 L1223.98 1485.86 L1223.98 1491.74 L1219.09 1491.74 L1219.09 1485.86 Z\" fill=\"#000000\" fill-rule=\"evenodd\" fill-opacity=\"1\" /><path clip-path=\"url(#clip000)\" d=\"M 0 0 M1239.05 1460.26 Q1235.44 1460.26 1233.61 1463.83 Q1231.8 1467.37 1231.8 1474.5 Q1231.8 1481.6 1233.61 1485.17 Q1235.44 1488.71 1239.05 1488.71 Q1242.68 1488.71 1244.49 1485.17 Q1246.32 1481.6 1246.32 1474.5 Q1246.32 1467.37 1244.49 1463.83 Q1242.68 1460.26 1239.05 1460.26 M1239.05 1456.56 Q1244.86 1456.56 1247.91 1461.16 Q1250.99 1465.75 1250.99 1474.5 Q1250.99 1483.22 1247.91 1487.83 Q1244.86 1492.41 1239.05 1492.41 Q1233.24 1492.41 1230.16 1487.83 Q1227.1 1483.22 1227.1 1474.5 Q1227.1 1465.75 1230.16 1461.16 Q1233.24 1456.56 1239.05 1456.56 Z\" fill=\"#000000\" fill-rule=\"evenodd\" fill-opacity=\"1\" /><path clip-path=\"url(#clip000)\" d=\"M 0 0 M1158.33 1161.54 L1188.01 1161.54 L1188.01 1165.47 L1158.33 1165.47 L1158.33 1161.54 Z\" fill=\"#000000\" fill-rule=\"evenodd\" fill-opacity=\"1\" /><path clip-path=\"url(#clip000)\" d=\"M 0 0 M1203.08 1146.88 Q1199.46 1146.88 1197.64 1150.45 Q1195.83 1153.99 1195.83 1161.12 Q1195.83 1168.23 1197.64 1171.79 Q1199.46 1175.33 1203.08 1175.33 Q1206.71 1175.33 1208.52 1171.79 Q1210.34 1168.23 1210.34 1161.12 Q1210.34 1153.99 1208.52 1150.45 Q1206.71 1146.88 1203.08 1146.88 M1203.08 1143.18 Q1208.89 1143.18 1211.94 1147.79 Q1215.02 1152.37 1215.02 1161.12 Q1215.02 1169.85 1211.94 1174.45 Q1208.89 1179.04 1203.08 1179.04 Q1197.27 1179.04 1194.19 1174.45 Q1191.13 1169.85 1191.13 1161.12 Q1191.13 1152.37 1194.19 1147.79 Q1197.27 1143.18 1203.08 1143.18 Z\" fill=\"#000000\" fill-rule=\"evenodd\" fill-opacity=\"1\" /><path clip-path=\"url(#clip000)\" d=\"M 0 0 M1220.09 1172.49 L1224.97 1172.49 L1224.97 1178.37 L1220.09 1178.37 L1220.09 1172.49 Z\" fill=\"#000000\" fill-rule=\"evenodd\" fill-opacity=\"1\" /><path clip-path=\"url(#clip000)\" d=\"M 0 0 M1230.09 1143.81 L1248.45 1143.81 L1248.45 1147.74 L1234.37 1147.74 L1234.37 1156.21 Q1235.39 1155.87 1236.41 1155.7 Q1237.43 1155.52 1238.45 1155.52 Q1244.23 1155.52 1247.61 1158.69 Q1250.99 1161.86 1250.99 1167.28 Q1250.99 1172.86 1247.52 1175.96 Q1244.05 1179.04 1237.73 1179.04 Q1235.55 1179.04 1233.28 1178.67 Q1231.04 1178.3 1228.63 1177.56 L1228.63 1172.86 Q1230.71 1173.99 1232.94 1174.55 Q1235.16 1175.1 1237.64 1175.1 Q1241.64 1175.1 1243.98 1173 Q1246.32 1170.89 1246.32 1167.28 Q1246.32 1163.67 1243.98 1161.56 Q1241.64 1159.45 1237.64 1159.45 Q1235.76 1159.45 1233.89 1159.87 Q1232.03 1160.29 1230.09 1161.17 L1230.09 1143.81 Z\" fill=\"#000000\" fill-rule=\"evenodd\" fill-opacity=\"1\" /><path clip-path=\"url(#clip000)\" d=\"M 0 0 M1202.08 833.508 Q1198.47 833.508 1196.64 837.073 Q1194.84 840.614 1194.84 847.744 Q1194.84 854.85 1196.64 858.415 Q1198.47 861.957 1202.08 861.957 Q1205.71 861.957 1207.52 858.415 Q1209.35 854.85 1209.35 847.744 Q1209.35 840.614 1207.52 837.073 Q1205.71 833.508 1202.08 833.508 M1202.08 829.804 Q1207.89 829.804 1210.95 834.411 Q1214.02 838.994 1214.02 847.744 Q1214.02 856.471 1210.95 861.077 Q1207.89 865.66 1202.08 865.66 Q1196.27 865.66 1193.19 861.077 Q1190.14 856.471 1190.14 847.744 Q1190.14 838.994 1193.19 834.411 Q1196.27 829.804 1202.08 829.804 Z\" fill=\"#000000\" fill-rule=\"evenodd\" fill-opacity=\"1\" /><path clip-path=\"url(#clip000)\" d=\"M 0 0 M1219.09 859.109 L1223.98 859.109 L1223.98 864.989 L1219.09 864.989 L1219.09 859.109 Z\" fill=\"#000000\" fill-rule=\"evenodd\" fill-opacity=\"1\" /><path clip-path=\"url(#clip000)\" d=\"M 0 0 M1239.05 833.508 Q1235.44 833.508 1233.61 837.073 Q1231.8 840.614 1231.8 847.744 Q1231.8 854.85 1233.61 858.415 Q1235.44 861.957 1239.05 861.957 Q1242.68 861.957 1244.49 858.415 Q1246.32 854.85 1246.32 847.744 Q1246.32 840.614 1244.49 837.073 Q1242.68 833.508 1239.05 833.508 M1239.05 829.804 Q1244.86 829.804 1247.91 834.411 Q1250.99 838.994 1250.99 847.744 Q1250.99 856.471 1247.91 861.077 Q1244.86 865.66 1239.05 865.66 Q1233.24 865.66 1230.16 861.077 Q1227.1 856.471 1227.1 847.744 Q1227.1 838.994 1230.16 834.411 Q1233.24 829.804 1239.05 829.804 Z\" fill=\"#000000\" fill-rule=\"evenodd\" fill-opacity=\"1\" /><path clip-path=\"url(#clip000)\" d=\"M 0 0 M1203.08 520.131 Q1199.46 520.131 1197.64 523.696 Q1195.83 527.237 1195.83 534.367 Q1195.83 541.473 1197.64 545.038 Q1199.46 548.58 1203.08 548.58 Q1206.71 548.58 1208.52 545.038 Q1210.34 541.473 1210.34 534.367 Q1210.34 527.237 1208.52 523.696 Q1206.71 520.131 1203.08 520.131 M1203.08 516.427 Q1208.89 516.427 1211.94 521.034 Q1215.02 525.617 1215.02 534.367 Q1215.02 543.094 1211.94 547.7 Q1208.89 552.283 1203.08 552.283 Q1197.27 552.283 1194.19 547.7 Q1191.13 543.094 1191.13 534.367 Q1191.13 525.617 1194.19 521.034 Q1197.27 516.427 1203.08 516.427 Z\" fill=\"#000000\" fill-rule=\"evenodd\" fill-opacity=\"1\" /><path clip-path=\"url(#clip000)\" d=\"M 0 0 M1220.09 545.732 L1224.97 545.732 L1224.97 551.612 L1220.09 551.612 L1220.09 545.732 Z\" fill=\"#000000\" fill-rule=\"evenodd\" fill-opacity=\"1\" /><path clip-path=\"url(#clip000)\" d=\"M 0 0 M1230.09 517.052 L1248.45 517.052 L1248.45 520.987 L1234.37 520.987 L1234.37 529.459 Q1235.39 529.112 1236.41 528.95 Q1237.43 528.765 1238.45 528.765 Q1244.23 528.765 1247.61 531.936 Q1250.99 535.108 1250.99 540.524 Q1250.99 546.103 1247.52 549.205 Q1244.05 552.283 1237.73 552.283 Q1235.55 552.283 1233.28 551.913 Q1231.04 551.543 1228.63 550.802 L1228.63 546.103 Q1230.71 547.237 1232.94 547.793 Q1235.16 548.348 1237.64 548.348 Q1241.64 548.348 1243.98 546.242 Q1246.32 544.135 1246.32 540.524 Q1246.32 536.913 1243.98 534.807 Q1241.64 532.7 1237.64 532.7 Q1235.76 532.7 1233.89 533.117 Q1232.03 533.533 1230.09 534.413 L1230.09 517.052 Z\" fill=\"#000000\" fill-rule=\"evenodd\" fill-opacity=\"1\" /><path clip-path=\"url(#clip000)\" d=\"M 0 0 M1194.12 234.3 L1201.76 234.3 L1201.76 207.934 L1193.45 209.601 L1193.45 205.342 L1201.71 203.675 L1206.39 203.675 L1206.39 234.3 L1214.02 234.3 L1214.02 238.235 L1194.12 238.235 L1194.12 234.3 Z\" fill=\"#000000\" fill-rule=\"evenodd\" fill-opacity=\"1\" /><path clip-path=\"url(#clip000)\" d=\"M 0 0 M1219.09 232.356 L1223.98 232.356 L1223.98 238.235 L1219.09 238.235 L1219.09 232.356 Z\" fill=\"#000000\" fill-rule=\"evenodd\" fill-opacity=\"1\" /><path clip-path=\"url(#clip000)\" d=\"M 0 0 M1239.05 206.754 Q1235.44 206.754 1233.61 210.319 Q1231.8 213.86 1231.8 220.99 Q1231.8 228.096 1233.61 231.661 Q1235.44 235.203 1239.05 235.203 Q1242.68 235.203 1244.49 231.661 Q1246.32 228.096 1246.32 220.99 Q1246.32 213.86 1244.49 210.319 Q1242.68 206.754 1239.05 206.754 M1239.05 203.05 Q1244.86 203.05 1247.91 207.657 Q1250.99 212.24 1250.99 220.99 Q1250.99 229.717 1247.91 234.323 Q1244.86 238.906 1239.05 238.906 Q1233.24 238.906 1230.16 234.323 Q1227.1 229.717 1227.1 220.99 Q1227.1 212.24 1230.16 207.657 Q1233.24 203.05 1239.05 203.05 Z\" fill=\"#000000\" fill-rule=\"evenodd\" fill-opacity=\"1\" /><path clip-path=\"url(#clip000)\" d=\"M 0 0 M1610.53 6.912 L1630.4 6.912 L1630.4 10.8472 L1615.21 10.8472 L1615.21 21.0323 L1628.91 21.0323 L1628.91 24.9675 L1615.21 24.9675 L1615.21 41.472 L1610.53 41.472 L1610.53 6.912 Z\" fill=\"#000000\" fill-rule=\"evenodd\" fill-opacity=\"1\" /><path clip-path=\"url(#clip000)\" d=\"M 0 0 M1631.83 31.2406 L1631.83 15.5462 L1636.09 15.5462 L1636.09 31.0785 Q1636.09 34.7591 1637.53 36.6109 Q1638.96 38.4396 1641.83 38.4396 Q1645.28 38.4396 1647.27 36.2405 Q1649.28 34.0415 1649.28 30.2452 L1649.28 15.5462 L1653.54 15.5462 L1653.54 41.472 L1649.28 41.472 L1649.28 37.4905 Q1647.73 39.8516 1645.67 41.009 Q1643.64 42.1433 1640.93 42.1433 Q1636.46 42.1433 1634.15 39.3655 Q1631.83 36.5878 1631.83 31.2406 M1642.55 14.9212 L1642.55 14.9212 Z\" fill=\"#000000\" fill-rule=\"evenodd\" fill-opacity=\"1\" /><path clip-path=\"url(#clip000)\" d=\"M 0 0 M1656.16 15.5462 L1676.39 15.5462 L1676.39 19.4351 L1660.37 38.0692 L1676.39 38.0692 L1676.39 41.472 L1655.58 41.472 L1655.58 37.5831 L1671.6 18.949 L1656.16 18.949 L1656.16 15.5462 Z\" fill=\"#000000\" fill-rule=\"evenodd\" fill-opacity=\"1\" /><path clip-path=\"url(#clip000)\" d=\"M 0 0 M1679.01 15.5462 L1699.24 15.5462 L1699.24 19.4351 L1683.22 38.0692 L1699.24 38.0692 L1699.24 41.472 L1678.43 41.472 L1678.43 37.5831 L1694.45 18.949 L1679.01 18.949 L1679.01 15.5462 Z\" fill=\"#000000\" fill-rule=\"evenodd\" fill-opacity=\"1\" /><path clip-path=\"url(#clip000)\" d=\"M 0 0 M1714.49 43.8794 Q1712.69 48.509 1710.97 49.921 Q1709.26 51.3331 1706.39 51.3331 L1702.99 51.3331 L1702.99 47.7683 L1705.49 47.7683 Q1707.25 47.7683 1708.22 46.9349 Q1709.19 46.1016 1710.37 42.9998 L1711.14 41.0553 L1700.65 15.5462 L1705.16 15.5462 L1713.27 35.8239 L1721.37 15.5462 L1725.88 15.5462 L1714.49 43.8794 Z\" fill=\"#000000\" fill-rule=\"evenodd\" fill-opacity=\"1\" /><path clip-path=\"url(#clip000)\" d=\"M 0 0 M1742.09 11.5185 L1735.74 28.7174 L1748.45 28.7174 L1742.09 11.5185 M1739.45 6.912 L1744.75 6.912 L1757.92 41.472 L1753.06 41.472 L1749.91 32.6063 L1734.33 32.6063 L1731.18 41.472 L1726.25 41.472 L1739.45 6.912 Z\" fill=\"#000000\" fill-rule=\"evenodd\" fill-opacity=\"1\" /><path clip-path=\"url(#clip000)\" d=\"M 0 0 M1778.96 25.2684 Q1780.46 25.7776 1781.88 27.4443 Q1783.31 29.111 1784.75 32.0276 L1789.49 41.472 L1784.47 41.472 L1780.05 32.6063 Q1778.33 29.1341 1776.71 27.9998 Q1775.12 26.8656 1772.34 26.8656 L1767.25 26.8656 L1767.25 41.472 L1762.57 41.472 L1762.57 6.912 L1773.13 6.912 Q1779.05 6.912 1781.97 9.38884 Q1784.89 11.8657 1784.89 16.8657 Q1784.89 20.1295 1783.36 22.2823 Q1781.85 24.4351 1778.96 25.2684 M1767.25 10.7546 L1767.25 23.023 L1773.13 23.023 Q1776.51 23.023 1778.22 21.4721 Q1779.96 19.898 1779.96 16.8657 Q1779.96 13.8333 1778.22 12.3055 Q1776.51 10.7546 1773.13 10.7546 L1767.25 10.7546 Z\" fill=\"#000000\" fill-rule=\"evenodd\" fill-opacity=\"1\" /><path clip-path=\"url(#clip000)\" d=\"M 0 0 M1785.9 6.912 L1815.14 6.912 L1815.14 10.8472 L1802.87 10.8472 L1802.87 41.472 L1798.17 41.472 L1798.17 10.8472 L1785.9 10.8472 L1785.9 6.912 Z\" fill=\"#000000\" fill-rule=\"evenodd\" fill-opacity=\"1\" /><path clip-path=\"url(#clip000)\" d=\"M 0 0 M1849.7 19.5277 Q1848.98 19.111 1848.13 18.9258 Q1847.29 18.7175 1846.27 18.7175 Q1842.66 18.7175 1840.72 21.0786 Q1838.8 23.4165 1838.8 27.8147 L1838.8 41.472 L1834.52 41.472 L1834.52 15.5462 L1838.8 15.5462 L1838.8 19.574 Q1840.14 17.2129 1842.29 16.0786 Q1844.45 14.9212 1847.52 14.9212 Q1847.96 14.9212 1848.5 14.9907 Q1849.03 15.037 1849.68 15.1527 L1849.7 19.5277 Z\" fill=\"#000000\" fill-rule=\"evenodd\" fill-opacity=\"1\" /><path clip-path=\"url(#clip000)\" d=\"M 0 0 M1874.89 25.8239 L1874.89 41.472 L1870.63 41.472 L1870.63 25.9628 Q1870.63 22.2823 1869.19 20.4536 Q1867.76 18.6249 1864.89 18.6249 Q1861.44 18.6249 1859.45 20.824 Q1857.45 23.023 1857.45 26.8193 L1857.45 41.472 L1853.17 41.472 L1853.17 5.45367 L1857.45 5.45367 L1857.45 19.574 Q1858.98 17.236 1861.04 16.0786 Q1863.13 14.9212 1865.83 14.9212 Q1870.3 14.9212 1872.59 17.699 Q1874.89 20.4536 1874.89 25.8239 Z\" fill=\"#000000\" fill-rule=\"evenodd\" fill-opacity=\"1\" /><path clip-path=\"url(#clip000)\" d=\"M 0 0 M1889.4 18.5323 Q1885.97 18.5323 1883.98 21.2175 Q1881.99 23.8795 1881.99 28.5323 Q1881.99 33.185 1883.96 35.8702 Q1885.95 38.5322 1889.4 38.5322 Q1892.8 38.5322 1894.79 35.847 Q1896.78 33.1619 1896.78 28.5323 Q1896.78 23.9258 1894.79 21.2406 Q1892.8 18.5323 1889.4 18.5323 M1889.4 14.9212 Q1894.95 14.9212 1898.13 18.5323 Q1901.3 22.1434 1901.3 28.5323 Q1901.3 34.898 1898.13 38.5322 Q1894.95 42.1433 1889.4 42.1433 Q1883.82 42.1433 1880.65 38.5322 Q1877.5 34.898 1877.5 28.5323 Q1877.5 22.1434 1880.65 18.5323 Q1883.82 14.9212 1889.4 14.9212 Z\" fill=\"#000000\" fill-rule=\"evenodd\" fill-opacity=\"1\" /><path clip-path=\"url(#clip000)\" d=\"M 0 0 M1921.39 19.9443 L1951.07 19.9443 L1951.07 23.8332 L1921.39 23.8332 L1921.39 19.9443 M1921.39 29.3887 L1951.07 29.3887 L1951.07 33.3239 L1921.39 33.3239 L1921.39 29.3887 Z\" fill=\"#000000\" fill-rule=\"evenodd\" fill-opacity=\"1\" /><path clip-path=\"url(#clip000)\" d=\"M 0 0 M1981.2 9.99069 Q1977.59 9.99069 1975.76 13.5555 Q1973.96 17.0971 1973.96 24.2267 Q1973.96 31.3332 1975.76 34.898 Q1977.59 38.4396 1981.2 38.4396 Q1984.84 38.4396 1986.64 34.898 Q1988.47 31.3332 1988.47 24.2267 Q1988.47 17.0971 1986.64 13.5555 Q1984.84 9.99069 1981.2 9.99069 M1981.2 6.287 Q1987.01 6.287 1990.07 10.8935 Q1993.15 15.4768 1993.15 24.2267 Q1993.15 32.9535 1990.07 37.56 Q1987.01 42.1433 1981.2 42.1433 Q1975.39 42.1433 1972.32 37.56 Q1969.26 32.9535 1969.26 24.2267 Q1969.26 15.4768 1972.32 10.8935 Q1975.39 6.287 1981.2 6.287 Z\" fill=\"#000000\" fill-rule=\"evenodd\" fill-opacity=\"1\" /><path clip-path=\"url(#clip000)\" d=\"M 0 0 M1998.22 35.5924 L2003.1 35.5924 L2003.1 41.472 L1998.22 41.472 L1998.22 35.5924 Z\" fill=\"#000000\" fill-rule=\"evenodd\" fill-opacity=\"1\" /><path clip-path=\"url(#clip000)\" d=\"M 0 0 M2006.99 6.912 L2029.21 6.912 L2029.21 8.90273 L2016.67 41.472 L2011.78 41.472 L2023.59 10.8472 L2006.99 10.8472 L2006.99 6.912 Z\" fill=\"#000000\" fill-rule=\"evenodd\" fill-opacity=\"1\" /><circle clip-path=\"url(#clip003)\" cx=\"2227.66\" cy=\"612.874\" r=\"14\" fill=\"#009af9\" fill-rule=\"evenodd\" fill-opacity=\"1\" stroke=\"#000000\" stroke-opacity=\"1\" stroke-width=\"3.2\"/>\n",
       "<circle clip-path=\"url(#clip003)\" cx=\"2322.59\" cy=\"1163.14\" r=\"14\" fill=\"#009af9\" fill-rule=\"evenodd\" fill-opacity=\"1\" stroke=\"#000000\" stroke-opacity=\"1\" stroke-width=\"3.2\"/>\n",
       "<circle clip-path=\"url(#clip003)\" cx=\"2231.66\" cy=\"699.758\" r=\"14\" fill=\"#009af9\" fill-rule=\"evenodd\" fill-opacity=\"1\" stroke=\"#000000\" stroke-opacity=\"1\" stroke-width=\"3.2\"/>\n",
       "<circle clip-path=\"url(#clip003)\" cx=\"2254.02\" cy=\"1042.71\" r=\"14\" fill=\"#009af9\" fill-rule=\"evenodd\" fill-opacity=\"1\" stroke=\"#000000\" stroke-opacity=\"1\" stroke-width=\"3.2\"/>\n",
       "<circle clip-path=\"url(#clip003)\" cx=\"2231.23\" cy=\"521.5\" r=\"14\" fill=\"#009af9\" fill-rule=\"evenodd\" fill-opacity=\"1\" stroke=\"#000000\" stroke-opacity=\"1\" stroke-width=\"3.2\"/>\n",
       "<circle clip-path=\"url(#clip003)\" cx=\"2224.11\" cy=\"527.834\" r=\"14\" fill=\"#009af9\" fill-rule=\"evenodd\" fill-opacity=\"1\" stroke=\"#000000\" stroke-opacity=\"1\" stroke-width=\"3.2\"/>\n",
       "<circle clip-path=\"url(#clip003)\" cx=\"2219.66\" cy=\"439.106\" r=\"14\" fill=\"#009af9\" fill-rule=\"evenodd\" fill-opacity=\"1\" stroke=\"#000000\" stroke-opacity=\"1\" stroke-width=\"3.2\"/>\n",
       "<circle clip-path=\"url(#clip003)\" cx=\"2234.93\" cy=\"834.221\" r=\"14\" fill=\"#009af9\" fill-rule=\"evenodd\" fill-opacity=\"1\" stroke=\"#000000\" stroke-opacity=\"1\" stroke-width=\"3.2\"/>\n",
       "<circle clip-path=\"url(#clip003)\" cx=\"2177.02\" cy=\"570.248\" r=\"14\" fill=\"#009af9\" fill-rule=\"evenodd\" fill-opacity=\"1\" stroke=\"#000000\" stroke-opacity=\"1\" stroke-width=\"3.2\"/>\n",
       "<circle clip-path=\"url(#clip003)\" cx=\"2239.28\" cy=\"104.257\" r=\"14\" fill=\"#009af9\" fill-rule=\"evenodd\" fill-opacity=\"1\" stroke=\"#000000\" stroke-opacity=\"1\" stroke-width=\"3.2\"/>\n",
       "<circle clip-path=\"url(#clip003)\" cx=\"2236.66\" cy=\"467.395\" r=\"14\" fill=\"#009af9\" fill-rule=\"evenodd\" fill-opacity=\"1\" stroke=\"#000000\" stroke-opacity=\"1\" stroke-width=\"3.2\"/>\n",
       "<circle clip-path=\"url(#clip003)\" cx=\"2198.12\" cy=\"867.27\" r=\"14\" fill=\"#009af9\" fill-rule=\"evenodd\" fill-opacity=\"1\" stroke=\"#000000\" stroke-opacity=\"1\" stroke-width=\"3.2\"/>\n",
       "<circle clip-path=\"url(#clip003)\" cx=\"2224.92\" cy=\"571.917\" r=\"14\" fill=\"#009af9\" fill-rule=\"evenodd\" fill-opacity=\"1\" stroke=\"#000000\" stroke-opacity=\"1\" stroke-width=\"3.2\"/>\n",
       "<circle clip-path=\"url(#clip003)\" cx=\"2219.86\" cy=\"934.863\" r=\"14\" fill=\"#009af9\" fill-rule=\"evenodd\" fill-opacity=\"1\" stroke=\"#000000\" stroke-opacity=\"1\" stroke-width=\"3.2\"/>\n",
       "<circle clip-path=\"url(#clip003)\" cx=\"2205.19\" cy=\"724.917\" r=\"14\" fill=\"#009af9\" fill-rule=\"evenodd\" fill-opacity=\"1\" stroke=\"#000000\" stroke-opacity=\"1\" stroke-width=\"3.2\"/>\n",
       "<circle clip-path=\"url(#clip003)\" cx=\"1768.75\" cy=\"835.756\" r=\"14\" fill=\"#e26f46\" fill-rule=\"evenodd\" fill-opacity=\"1\" stroke=\"#000000\" stroke-opacity=\"1\" stroke-width=\"3.2\"/>\n",
       "<circle clip-path=\"url(#clip003)\" cx=\"1670.02\" cy=\"694.361\" r=\"14\" fill=\"#e26f46\" fill-rule=\"evenodd\" fill-opacity=\"1\" stroke=\"#000000\" stroke-opacity=\"1\" stroke-width=\"3.2\"/>\n",
       "<circle clip-path=\"url(#clip003)\" cx=\"1968.29\" cy=\"1475.16\" r=\"14\" fill=\"#e26f46\" fill-rule=\"evenodd\" fill-opacity=\"1\" stroke=\"#000000\" stroke-opacity=\"1\" stroke-width=\"3.2\"/>\n",
       "<circle clip-path=\"url(#clip003)\" cx=\"1650.96\" cy=\"531.706\" r=\"14\" fill=\"#e26f46\" fill-rule=\"evenodd\" fill-opacity=\"1\" stroke=\"#000000\" stroke-opacity=\"1\" stroke-width=\"3.2\"/>\n",
       "<circle clip-path=\"url(#clip003)\" cx=\"1685.86\" cy=\"591.971\" r=\"14\" fill=\"#e26f46\" fill-rule=\"evenodd\" fill-opacity=\"1\" stroke=\"#000000\" stroke-opacity=\"1\" stroke-width=\"3.2\"/>\n",
       "<circle clip-path=\"url(#clip003)\" cx=\"1744.29\" cy=\"949.451\" r=\"14\" fill=\"#e26f46\" fill-rule=\"evenodd\" fill-opacity=\"1\" stroke=\"#000000\" stroke-opacity=\"1\" stroke-width=\"3.2\"/>\n",
       "<circle clip-path=\"url(#clip003)\" cx=\"1727.11\" cy=\"647.65\" r=\"14\" fill=\"#e26f46\" fill-rule=\"evenodd\" fill-opacity=\"1\" stroke=\"#000000\" stroke-opacity=\"1\" stroke-width=\"3.2\"/>\n",
       "<circle clip-path=\"url(#clip003)\" cx=\"1818\" cy=\"1065.2\" r=\"14\" fill=\"#e26f46\" fill-rule=\"evenodd\" fill-opacity=\"1\" stroke=\"#000000\" stroke-opacity=\"1\" stroke-width=\"3.2\"/>\n",
       "<circle clip-path=\"url(#clip003)\" cx=\"1727.8\" cy=\"554.24\" r=\"14\" fill=\"#e26f46\" fill-rule=\"evenodd\" fill-opacity=\"1\" stroke=\"#000000\" stroke-opacity=\"1\" stroke-width=\"3.2\"/>\n",
       "<circle clip-path=\"url(#clip003)\" cx=\"1745.04\" cy=\"725.458\" r=\"14\" fill=\"#e26f46\" fill-rule=\"evenodd\" fill-opacity=\"1\" stroke=\"#000000\" stroke-opacity=\"1\" stroke-width=\"3.2\"/>\n",
       "<circle clip-path=\"url(#clip003)\" cx=\"1809.56\" cy=\"889.591\" r=\"14\" fill=\"#e26f46\" fill-rule=\"evenodd\" fill-opacity=\"1\" stroke=\"#000000\" stroke-opacity=\"1\" stroke-width=\"3.2\"/>\n",
       "<circle clip-path=\"url(#clip003)\" cx=\"1961.93\" cy=\"1479.74\" r=\"14\" fill=\"#e26f46\" fill-rule=\"evenodd\" fill-opacity=\"1\" stroke=\"#000000\" stroke-opacity=\"1\" stroke-width=\"3.2\"/>\n",
       "<circle clip-path=\"url(#clip003)\" cx=\"1823.08\" cy=\"1191.1\" r=\"14\" fill=\"#e26f46\" fill-rule=\"evenodd\" fill-opacity=\"1\" stroke=\"#000000\" stroke-opacity=\"1\" stroke-width=\"3.2\"/>\n",
       "<circle clip-path=\"url(#clip003)\" cx=\"1605.76\" cy=\"1162\" r=\"14\" fill=\"#3da44d\" fill-rule=\"evenodd\" fill-opacity=\"1\" stroke=\"#000000\" stroke-opacity=\"1\" stroke-width=\"3.2\"/>\n",
       "<circle clip-path=\"url(#clip003)\" cx=\"1317.16\" cy=\"688.974\" r=\"14\" fill=\"#3da44d\" fill-rule=\"evenodd\" fill-opacity=\"1\" stroke=\"#000000\" stroke-opacity=\"1\" stroke-width=\"3.2\"/>\n",
       "<circle clip-path=\"url(#clip003)\" cx=\"1700.78\" cy=\"900.491\" r=\"14\" fill=\"#3da44d\" fill-rule=\"evenodd\" fill-opacity=\"1\" stroke=\"#000000\" stroke-opacity=\"1\" stroke-width=\"3.2\"/>\n",
       "<circle clip-path=\"url(#clip003)\" cx=\"1663.18\" cy=\"1111.7\" r=\"14\" fill=\"#3da44d\" fill-rule=\"evenodd\" fill-opacity=\"1\" stroke=\"#000000\" stroke-opacity=\"1\" stroke-width=\"3.2\"/>\n",
       "<circle clip-path=\"url(#clip003)\" cx=\"1558.78\" cy=\"614.881\" r=\"14\" fill=\"#3da44d\" fill-rule=\"evenodd\" fill-opacity=\"1\" stroke=\"#000000\" stroke-opacity=\"1\" stroke-width=\"3.2\"/>\n",
       "<circle clip-path=\"url(#clip003)\" cx=\"1581.47\" cy=\"822.181\" r=\"14\" fill=\"#3da44d\" fill-rule=\"evenodd\" fill-opacity=\"1\" stroke=\"#000000\" stroke-opacity=\"1\" stroke-width=\"3.2\"/>\n",
       "<circle clip-path=\"url(#clip003)\" cx=\"1587.83\" cy=\"817.595\" r=\"14\" fill=\"#3da44d\" fill-rule=\"evenodd\" fill-opacity=\"1\" stroke=\"#000000\" stroke-opacity=\"1\" stroke-width=\"3.2\"/>\n",
       "<circle clip-path=\"url(#clip003)\" cx=\"1633.6\" cy=\"1185.72\" r=\"14\" fill=\"#3da44d\" fill-rule=\"evenodd\" fill-opacity=\"1\" stroke=\"#000000\" stroke-opacity=\"1\" stroke-width=\"3.2\"/>\n",
       "<circle clip-path=\"url(#clip003)\" cx=\"1442.7\" cy=\"358.602\" r=\"14\" fill=\"#3da44d\" fill-rule=\"evenodd\" fill-opacity=\"1\" stroke=\"#000000\" stroke-opacity=\"1\" stroke-width=\"3.2\"/>\n",
       "<circle clip-path=\"url(#clip003)\" cx=\"1360.97\" cy=\"113.439\" r=\"14\" fill=\"#3da44d\" fill-rule=\"evenodd\" fill-opacity=\"1\" stroke=\"#000000\" stroke-opacity=\"1\" stroke-width=\"3.2\"/>\n",
       "<circle clip-path=\"url(#clip003)\" cx=\"1602.51\" cy=\"983.185\" r=\"14\" fill=\"#3da44d\" fill-rule=\"evenodd\" fill-opacity=\"1\" stroke=\"#000000\" stroke-opacity=\"1\" stroke-width=\"3.2\"/>\n",
       "<circle clip-path=\"url(#clip003)\" cx=\"1622.62\" cy=\"696.011\" r=\"14\" fill=\"#3da44d\" fill-rule=\"evenodd\" fill-opacity=\"1\" stroke=\"#000000\" stroke-opacity=\"1\" stroke-width=\"3.2\"/>\n",
       "<circle clip-path=\"url(#clip003)\" cx=\"1485.91\" cy=\"633.4\" r=\"14\" fill=\"#3da44d\" fill-rule=\"evenodd\" fill-opacity=\"1\" stroke=\"#000000\" stroke-opacity=\"1\" stroke-width=\"3.2\"/>\n",
       "<circle clip-path=\"url(#clip003)\" cx=\"1642.14\" cy=\"1082.75\" r=\"14\" fill=\"#3da44d\" fill-rule=\"evenodd\" fill-opacity=\"1\" stroke=\"#000000\" stroke-opacity=\"1\" stroke-width=\"3.2\"/>\n",
       "<circle clip-path=\"url(#clip003)\" cx=\"1440.71\" cy=\"626.855\" r=\"14\" fill=\"#3da44d\" fill-rule=\"evenodd\" fill-opacity=\"1\" stroke=\"#000000\" stroke-opacity=\"1\" stroke-width=\"3.2\"/>\n",
       "<circle clip-path=\"url(#clip003)\" cx=\"1587.85\" cy=\"773.239\" r=\"14\" fill=\"#3da44d\" fill-rule=\"evenodd\" fill-opacity=\"1\" stroke=\"#000000\" stroke-opacity=\"1\" stroke-width=\"3.2\"/>\n",
       "<circle clip-path=\"url(#clip003)\" cx=\"1680.53\" cy=\"959.984\" r=\"14\" fill=\"#3da44d\" fill-rule=\"evenodd\" fill-opacity=\"1\" stroke=\"#000000\" stroke-opacity=\"1\" stroke-width=\"3.2\"/>\n",
       "</svg>\n"
      ]
     },
     "metadata": {},
     "execution_count": 19
    }
   ],
   "cell_type": "code",
   "source": [
    "p1 = scatter(X_test_pca[1,:], X_test_pca[2,:], group=y_hat_1, title=@sprintf \"FuzzyART rho = %.1f\" rho_1)\n",
    "p2 = scatter(X_test_pca[1,:], X_test_pca[2,:], group=y_hat_2, title=@sprintf \"FuzzyART rho = %.1f\" rho_2)\n",
    "plot(p1, p2, layout=(1, 2), legend = false, xtickfontsize=6, xguidefontsize=8, titlefont=font(8))"
   ],
   "metadata": {},
   "execution_count": 19
  },
  {
   "cell_type": "markdown",
   "source": [
    "---\n",
    "\n",
    "*This notebook was generated using [Literate.jl](https://github.com/fredrikekre/Literate.jl).*"
   ],
   "metadata": {}
  }
 ],
 "nbformat_minor": 3,
 "metadata": {
  "language_info": {
   "file_extension": ".jl",
   "mimetype": "application/julia",
   "name": "julia",
   "version": "1.4.2"
  },
  "kernelspec": {
   "name": "julia-1.4",
   "display_name": "Julia 1.4.2",
   "language": "julia"
  }
 },
 "nbformat": 4
}
