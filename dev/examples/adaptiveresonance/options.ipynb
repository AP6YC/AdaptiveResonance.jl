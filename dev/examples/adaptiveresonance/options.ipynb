{
 "cells": [
  {
   "cell_type": "markdown",
   "source": [
    "## Overview"
   ],
   "metadata": {}
  },
  {
   "cell_type": "markdown",
   "source": [
    "The `AdaptiveResonance.jl` package has several ways of handling options for ART modules.\n",
    "These methods are meant to give maximum flexibility to the user for sharing and interpreting options, which themselves vary between each module."
   ],
   "metadata": {}
  },
  {
   "cell_type": "markdown",
   "source": [
    "!!! note\n",
    "    For more info on options in ART modules, see the guide in the docs on ART options."
   ],
   "metadata": {}
  },
  {
   "cell_type": "markdown",
   "source": [
    "## ART Options"
   ],
   "metadata": {}
  },
  {
   "cell_type": "markdown",
   "source": [
    "To get a feel for the ART options system, we will inspect different options and their instantiation methods."
   ],
   "metadata": {}
  },
  {
   "cell_type": "markdown",
   "source": [
    "### Inspection"
   ],
   "metadata": {}
  },
  {
   "cell_type": "markdown",
   "source": [
    "First, we load `AdaptiveResonance`:"
   ],
   "metadata": {}
  },
  {
   "outputs": [],
   "cell_type": "code",
   "source": [
    "using AdaptiveResonance"
   ],
   "metadata": {},
   "execution_count": 1
  },
  {
   "cell_type": "markdown",
   "source": [
    "Every ART module has a default constructor, which can be instantiated in the usual way:"
   ],
   "metadata": {}
  },
  {
   "outputs": [
    {
     "output_type": "execute_result",
     "data": {
      "text/plain": "FuzzyART"
     },
     "metadata": {},
     "execution_count": 2
    }
   ],
   "cell_type": "code",
   "source": [
    "# Create a FuzzyART module with default options\n",
    "my_fuzzyart = FuzzyART()\n",
    "typeof(my_fuzzyart)"
   ],
   "metadata": {},
   "execution_count": 2
  },
  {
   "cell_type": "markdown",
   "source": [
    "Within every ART module is a [Parameters.jl](https://github.com/mauro3/Parameters.jl) struct named `opts` containing the options for the module"
   ],
   "metadata": {}
  },
  {
   "outputs": [
    {
     "output_type": "execute_result",
     "data": {
      "text/plain": "opts_FuzzyART\n  rho: Float64 0.6\n  alpha: Float64 0.001\n  beta: Float64 1.0\n  gamma: Float64 3.0\n  gamma_ref: Float64 1.0\n  display: Bool true\n  max_epochs: Int64 1\n  gamma_normalization: Bool false\n"
     },
     "metadata": {},
     "execution_count": 3
    }
   ],
   "cell_type": "code",
   "source": [
    "# Check the FuzzyART options\n",
    "my_fuzzyart.opts"
   ],
   "metadata": {},
   "execution_count": 3
  },
  {
   "cell_type": "markdown",
   "source": [
    "Note that the options here have the type `opts_FuzzyART`.\n",
    "This nomenclature is used throughout the module to indicate an options type associated with an ART module.\n",
    "For example, the options for a DDVFA module are `opts_DDVFA`:"
   ],
   "metadata": {}
  },
  {
   "outputs": [
    {
     "output_type": "execute_result",
     "data": {
      "text/plain": "opts_DDVFA"
     },
     "metadata": {},
     "execution_count": 4
    }
   ],
   "cell_type": "code",
   "source": [
    "# Create a DDVFA module and check the type of the options\n",
    "my_ddvfa = DDVFA()\n",
    "typeof(my_ddvfa.opts)"
   ],
   "metadata": {},
   "execution_count": 4
  },
  {
   "cell_type": "markdown",
   "source": [
    "In fact, we can create an instance of these options with a default constructor:"
   ],
   "metadata": {}
  },
  {
   "outputs": [
    {
     "output_type": "execute_result",
     "data": {
      "text/plain": "opts_FuzzyART\n  rho: Float64 0.6\n  alpha: Float64 0.001\n  beta: Float64 1.0\n  gamma: Float64 3.0\n  gamma_ref: Float64 1.0\n  display: Bool true\n  max_epochs: Int64 1\n  gamma_normalization: Bool false\n"
     },
     "metadata": {},
     "execution_count": 5
    }
   ],
   "cell_type": "code",
   "source": [
    "# Create a separate options struct\n",
    "my_fuzzyart_opts = opts_FuzzyART()"
   ],
   "metadata": {},
   "execution_count": 5
  },
  {
   "cell_type": "markdown",
   "source": [
    "In addition to the default constructor, we can construct ART modules by instantiating these options and passing them to the module during construction:"
   ],
   "metadata": {}
  },
  {
   "outputs": [
    {
     "output_type": "execute_result",
     "data": {
      "text/plain": "FuzzyART(opts_FuzzyART\n  rho: Float64 0.6\n  alpha: Float64 0.001\n  beta: Float64 1.0\n  gamma: Float64 3.0\n  gamma_ref: Float64 1.0\n  display: Bool true\n  max_epochs: Int64 1\n  gamma_normalization: Bool false\n, DataConfig(false, Float64[], Float64[], 0, 0), 0.0, Int64[], Float64[], Float64[], Array{Float64}(undef,0,0), Int64[], 0, 0)"
     },
     "metadata": {},
     "execution_count": 6
    }
   ],
   "cell_type": "code",
   "source": [
    "# Instantiate an ART module by passing our options\n",
    "my_fuzzyart = FuzzyART(my_fuzzyart_opts)\n",
    "my_other_fuzzyart = FuzzyART(my_fuzzyart_opts)"
   ],
   "metadata": {},
   "execution_count": 6
  },
  {
   "cell_type": "markdown",
   "source": [
    "### Specifying Options"
   ],
   "metadata": {}
  },
  {
   "cell_type": "markdown",
   "source": [
    "Now to the good stuff: because of the behavior of the `Parameters.jl` type, each option has a default value that we can modify during instantiation with keyword arguments:"
   ],
   "metadata": {}
  },
  {
   "outputs": [
    {
     "output_type": "execute_result",
     "data": {
      "text/plain": "FuzzyART(opts_FuzzyART\n  rho: Float64 0.6\n  alpha: Float64 0.001\n  beta: Float64 1.0\n  gamma: Float64 3.0\n  gamma_ref: Float64 1.0\n  display: Bool true\n  max_epochs: Int64 1\n  gamma_normalization: Bool true\n, DataConfig(false, Float64[], Float64[], 0, 0), 0.0, Int64[], Float64[], Float64[], Array{Float64}(undef,0,0), Int64[], 0, 0)"
     },
     "metadata": {},
     "execution_count": 7
    }
   ],
   "cell_type": "code",
   "source": [
    "# Change some of the default FuzzyART options\n",
    "my_fuzzyart_opts = opts_FuzzyART(\n",
    "    rho=0.6,\n",
    "    gamma_normalization=true\n",
    ")\n",
    "my_fuzzyart = FuzzyART(my_fuzzyart_opts)"
   ],
   "metadata": {},
   "execution_count": 7
  },
  {
   "cell_type": "markdown",
   "source": [
    "As some syntactic sugar, we can pass these keyword arguments directly to the module during instantiation if we have no need to share option structs:"
   ],
   "metadata": {}
  },
  {
   "outputs": [
    {
     "output_type": "execute_result",
     "data": {
      "text/plain": "FuzzyART(opts_FuzzyART\n  rho: Float64 0.6\n  alpha: Float64 0.001\n  beta: Float64 1.0\n  gamma: Float64 3.0\n  gamma_ref: Float64 1.0\n  display: Bool true\n  max_epochs: Int64 1\n  gamma_normalization: Bool true\n, DataConfig(false, Float64[], Float64[], 0, 0), 0.0, Int64[], Float64[], Float64[], Array{Float64}(undef,0,0), Int64[], 0, 0)"
     },
     "metadata": {},
     "execution_count": 8
    }
   ],
   "cell_type": "code",
   "source": [
    "# Pass these keyword arguments to the module directly\n",
    "my_fuzzyart = FuzzyART(\n",
    "    rho=0.6,\n",
    "    gamma_normalization=true\n",
    ")"
   ],
   "metadata": {},
   "execution_count": 8
  },
  {
   "cell_type": "markdown",
   "source": [
    "Before training, we can also instantiate the model and alter the options afterward:"
   ],
   "metadata": {}
  },
  {
   "outputs": [
    {
     "output_type": "execute_result",
     "data": {
      "text/plain": "0.6"
     },
     "metadata": {},
     "execution_count": 9
    }
   ],
   "cell_type": "code",
   "source": [
    "my_fuzzyart = FuzzyART()\n",
    "my_fuzzyart.opts.rho=0.6"
   ],
   "metadata": {},
   "execution_count": 9
  },
  {
   "cell_type": "markdown",
   "source": [
    "!!! note\n",
    "    All ART modules are designed to use this options struct internally when the parameters are needed.\n",
    "    It is possible to change these parameters in the middle of training and evaluation, but some algorithmic instability may occur."
   ],
   "metadata": {}
  },
  {
   "cell_type": "markdown",
   "source": [
    "## Comparison"
   ],
   "metadata": {}
  },
  {
   "cell_type": "markdown",
   "source": [
    "To see the effect that changing these parameters has on the modules, we can train and test them side-by-side."
   ],
   "metadata": {}
  },
  {
   "cell_type": "markdown",
   "source": [
    "We begin with importing AdaptiveResonance for the ART modules and MLDatasets for some data utilities."
   ],
   "metadata": {}
  },
  {
   "outputs": [],
   "cell_type": "code",
   "source": [
    "using MLDatasets        # Iris dataset\n",
    "using MLDataUtils       # Shuffling and splitting\n",
    "using Printf            # Formatted number printing\n",
    "using MultivariateStats # Principal component analysis (PCA)\n",
    "using Plots             # Plotting"
   ],
   "metadata": {},
   "execution_count": 10
  },
  {
   "cell_type": "markdown",
   "source": [
    "We will download the Iris dataset for its small size and benchmark use for clustering algorithms."
   ],
   "metadata": {}
  },
  {
   "outputs": [
    {
     "output_type": "execute_result",
     "data": {
      "text/plain": "([5.1 4.9 … 6.2 5.9; 3.5 3.0 … 3.4 3.0; 1.4 1.4 … 5.4 5.1; 0.2 0.2 … 2.3 1.8], [\"Iris-setosa\", \"Iris-setosa\", \"Iris-setosa\", \"Iris-setosa\", \"Iris-setosa\", \"Iris-setosa\", \"Iris-setosa\", \"Iris-setosa\", \"Iris-setosa\", \"Iris-setosa\"  …  \"Iris-virginica\", \"Iris-virginica\", \"Iris-virginica\", \"Iris-virginica\", \"Iris-virginica\", \"Iris-virginica\", \"Iris-virginica\", \"Iris-virginica\", \"Iris-virginica\", \"Iris-virginica\"])"
     },
     "metadata": {},
     "execution_count": 11
    }
   ],
   "cell_type": "code",
   "source": [
    "Iris.download(i_accept_the_terms_of_use=true)\n",
    "features, labels = Iris.features(), Iris.labels()"
   ],
   "metadata": {},
   "execution_count": 11
  },
  {
   "cell_type": "markdown",
   "source": [
    "Because the MLDatasets package gives us Iris labels as strings, we will use the `MLDataUtils.convertlabel` method with the `MLLabelUtils.LabelEnc.Indices` type to get a list of integers representing each class:"
   ],
   "metadata": {}
  },
  {
   "outputs": [
    {
     "output_type": "execute_result",
     "data": {
      "text/plain": "3-element Array{Int64,1}:\n 1\n 2\n 3"
     },
     "metadata": {},
     "execution_count": 12
    }
   ],
   "cell_type": "code",
   "source": [
    "labels = convertlabel(LabelEnc.Indices{Int}, labels)\n",
    "unique(labels)"
   ],
   "metadata": {},
   "execution_count": 12
  },
  {
   "cell_type": "markdown",
   "source": [
    "Next, we will create a train/test split with the `MLDataUtils.stratifiedobs` utility:"
   ],
   "metadata": {}
  },
  {
   "outputs": [
    {
     "output_type": "execute_result",
     "data": {
      "text/plain": "(([6.8 6.7 … 5.8 6.2; 3.2 3.0 … 2.7 2.2; 5.9 5.2 … 3.9 4.5; 2.3 2.3 … 1.2 1.5], [3, 3, 3, 1, 2, 1, 3, 2, 1, 1  …  2, 2, 2, 2, 1, 3, 1, 3, 2, 2]), ([4.5 4.9 … 6.2 5.1; 2.3 3.0 … 2.8 3.5; 1.3 1.4 … 4.8 1.4; 0.3 0.2 … 1.8 0.3], [1, 1, 3, 2, 2, 1, 2, 2, 3, 2  …  1, 3, 3, 3, 2, 2, 2, 3, 3, 1]))"
     },
     "metadata": {},
     "execution_count": 13
    }
   ],
   "cell_type": "code",
   "source": [
    "(X_train, y_train), (X_test, y_test) = stratifiedobs((features, labels))"
   ],
   "metadata": {},
   "execution_count": 13
  },
  {
   "cell_type": "markdown",
   "source": [
    "Now we can create several FuzzyART modules with different options."
   ],
   "metadata": {}
  },
  {
   "outputs": [
    {
     "output_type": "execute_result",
     "data": {
      "text/plain": "FuzzyART(opts_FuzzyART\n  rho: Float64 0.7\n  alpha: Float64 0.001\n  beta: Float64 1.0\n  gamma: Float64 3.0\n  gamma_ref: Float64 1.0\n  display: Bool false\n  max_epochs: Int64 1\n  gamma_normalization: Bool false\n, DataConfig(false, Float64[], Float64[], 0, 0), 0.0, Int64[], Float64[], Float64[], Array{Float64}(undef,0,0), Int64[], 0, 0)"
     },
     "metadata": {},
     "execution_count": 14
    }
   ],
   "cell_type": "code",
   "source": [
    "# Create two FuzzyARTs with different vigilance values and suppressing logging messages\n",
    "rho_1 = 0.5\n",
    "rho_2 = 0.7\n",
    "my_fuzzyart_1 = FuzzyART(rho=rho_1, display=false)\n",
    "my_fuzzyart_2 = FuzzyART(rho=rho_2, display=false)"
   ],
   "metadata": {},
   "execution_count": 14
  },
  {
   "cell_type": "markdown",
   "source": [
    "Here, we will train these FuzzyART modules in simple supervised mode by passing the supervised labels as a keyword argument:"
   ],
   "metadata": {}
  },
  {
   "outputs": [],
   "cell_type": "code",
   "source": [
    "# Train in simple supervised mode by passing the labels as a keyword argument.\n",
    "y_hat_train_1 = train!(my_fuzzyart_1, X_train, y=y_train)\n",
    "y_hat_train_2 = train!(my_fuzzyart_2, X_train, y=y_train)"
   ],
   "metadata": {},
   "execution_count": 15
  },
  {
   "cell_type": "markdown",
   "source": [
    "We then classify the test data with both modules:"
   ],
   "metadata": {}
  },
  {
   "outputs": [
    {
     "name": "stdout",
     "output_type": "stream",
     "text": [
      "FuzzyART 1 labels: (45,) Array{Int64,1}\n",
      "FuzzyART 2 labels: (45,) Array{Int64,1}\n",
      "Testing performance rho=0.5: 0.9556\n",
      "Testing performance rho=0.7: 0.9556\n"
     ]
    }
   ],
   "cell_type": "code",
   "source": [
    "y_hat_1 = AdaptiveResonance.classify(my_fuzzyart_1, X_test, get_bmu=true)\n",
    "y_hat_2 = AdaptiveResonance.classify(my_fuzzyart_2, X_test, get_bmu=true)\n",
    "\n",
    "# Check the shape and type of the output labels\n",
    "println(\"FuzzyART 1 labels: \",  size(y_hat_1), \" \", typeof(y_hat_1))\n",
    "println(\"FuzzyART 2 labels: \",  size(y_hat_2), \" \", typeof(y_hat_2))\n",
    "\n",
    "# Calculate the performance on the test data\n",
    "perf_test_1 = performance(y_hat_1, y_test)\n",
    "perf_test_2 = performance(y_hat_2, y_test)\n",
    "\n",
    "# Format each performance number for comparison\n",
    "@printf \"Testing performance rho=%.1f: %.4f\\n\" rho_1 perf_test_1\n",
    "@printf \"Testing performance rho=%.1f: %.4f\\n\" rho_2 perf_test_2"
   ],
   "metadata": {},
   "execution_count": 16
  },
  {
   "cell_type": "markdown",
   "source": [
    "In addition to having different performances, we can see that there is a subsequent trade-off in the number of categories used:"
   ],
   "metadata": {}
  },
  {
   "outputs": [
    {
     "name": "stdout",
     "output_type": "stream",
     "text": [
      "Number of categories rho=0.5: 8\n",
      "Number of categories rho=0.7: 12\n"
     ]
    }
   ],
   "cell_type": "code",
   "source": [
    "# Print the number of categories for each vigilance parameter\n",
    "@printf \"Number of categories rho=%.1f: %i\\n\" rho_1 my_fuzzyart_1.n_categories\n",
    "@printf \"Number of categories rho=%.1f: %i\\n\" rho_2 my_fuzzyart_2.n_categories"
   ],
   "metadata": {},
   "execution_count": 17
  },
  {
   "cell_type": "markdown",
   "source": [
    "The variation between vigilance parameter, number of categories created during learning, and testing performance/generalization is a central theme in ART-based algorithms."
   ],
   "metadata": {}
  },
  {
   "cell_type": "markdown",
   "source": [
    "## Visualization"
   ],
   "metadata": {}
  },
  {
   "cell_type": "markdown",
   "source": [
    "Now, to visualize how the two models differ in how they partition the data, we can use principal component analysis (PCA) to compress to two plotting dimensions.\n",
    "PCA is a method to represent a dataset in a different number of dimensions while preserving the relative separation between datapoints.\n",
    "Though most datasets are not able to be effectively transformed down to two dimensions, this technique is useful to get a general sense of how well separated the classes are and how well your algorithm classifies them."
   ],
   "metadata": {}
  },
  {
   "outputs": [
    {
     "name": "stdout",
     "output_type": "stream",
     "text": [
      "┌ Warning: `transform(f, x)` is deprecated, use `predict(f, x)` instead.\n",
      "│   caller = top-level scope at options.ipynb:5\n",
      "└ @ Core ~/work/AdaptiveResonance.jl/AdaptiveResonance.jl/docs/src/examples/adaptiveresonance/options.ipynb:5\n"
     ]
    },
    {
     "output_type": "execute_result",
     "data": {
      "text/plain": "2×45 Array{Float64,2}:\n  2.85221    2.71539   -3.49927   …  -1.94925    -1.25763   2.64832\n -0.932865  -0.169557   0.456773      0.0407303  -0.179137  0.319137"
     },
     "metadata": {},
     "execution_count": 18
    }
   ],
   "cell_type": "code",
   "source": [
    "# Train a PCA model to visually separate the features in two dimensions.\n",
    "M = fit(PCA, features; maxoutdim=2)\n",
    "\n",
    "# Apply the PCA model to the testing set\n",
    "X_test_pca = transform(M, X_test)"
   ],
   "metadata": {},
   "execution_count": 18
  },
  {
   "cell_type": "markdown",
   "source": [
    "We can now plot the PCA'ed test set and label them according to the two FuzzyART's"
   ],
   "metadata": {}
  },
  {
   "outputs": [
    {
     "output_type": "execute_result",
     "data": {
      "text/plain": "Plot{Plots.GRBackend() n=6}",
      "image/png": "[encoded data removed]",
      "text/html": [
       "<?xml version=\"1.0\" encoding=\"utf-8\"?>\n",
       "<svg xmlns=\"http://www.w3.org/2000/svg\" xmlns:xlink=\"http://www.w3.org/1999/xlink\" width=\"600\" height=\"400\" viewBox=\"0 0 2400 1600\">\n",
       "<defs>\n",
       "  <clipPath id=\"clip690\">\n",
       "    <rect x=\"0\" y=\"0\" width=\"2400\" height=\"1600\"/>\n",
       "  </clipPath>\n",
       "</defs>\n",
       "<path clip-path=\"url(#clip690)\" d=\"\n",
       "M0 1600 L2400 1600 L2400 0 L0 0  Z\n",
       "  \" fill=\"#ffffff\" fill-rule=\"evenodd\" fill-opacity=\"1\"/>\n",
       "<defs>\n",
       "  <clipPath id=\"clip691\">\n",
       "    <rect x=\"480\" y=\"0\" width=\"1681\" height=\"1600\"/>\n",
       "  </clipPath>\n",
       "</defs>\n",
       "<path clip-path=\"url(#clip690)\" d=\"\n",
       "M86.9921 1521.01 L1152.76 1521.01 L1152.76 62.9921 L86.9921 62.9921  Z\n",
       "  \" fill=\"#ffffff\" fill-rule=\"evenodd\" fill-opacity=\"1\"/>\n",
       "<defs>\n",
       "  <clipPath id=\"clip692\">\n",
       "    <rect x=\"86\" y=\"62\" width=\"1067\" height=\"1459\"/>\n",
       "  </clipPath>\n",
       "</defs>\n",
       "<polyline clip-path=\"url(#clip692)\" style=\"stroke:#000000; stroke-width:2; stroke-opacity:0.1; fill:none\" points=\"\n",
       "  191.909,1521.01 191.909,62.9921 \n",
       "  \"/>\n",
       "<polyline clip-path=\"url(#clip692)\" style=\"stroke:#000000; stroke-width:2; stroke-opacity:0.1; fill:none\" points=\"\n",
       "  341.636,1521.01 341.636,62.9921 \n",
       "  \"/>\n",
       "<polyline clip-path=\"url(#clip692)\" style=\"stroke:#000000; stroke-width:2; stroke-opacity:0.1; fill:none\" points=\"\n",
       "  491.364,1521.01 491.364,62.9921 \n",
       "  \"/>\n",
       "<polyline clip-path=\"url(#clip692)\" style=\"stroke:#000000; stroke-width:2; stroke-opacity:0.1; fill:none\" points=\"\n",
       "  641.091,1521.01 641.091,62.9921 \n",
       "  \"/>\n",
       "<polyline clip-path=\"url(#clip692)\" style=\"stroke:#000000; stroke-width:2; stroke-opacity:0.1; fill:none\" points=\"\n",
       "  790.818,1521.01 790.818,62.9921 \n",
       "  \"/>\n",
       "<polyline clip-path=\"url(#clip692)\" style=\"stroke:#000000; stroke-width:2; stroke-opacity:0.1; fill:none\" points=\"\n",
       "  940.546,1521.01 940.546,62.9921 \n",
       "  \"/>\n",
       "<polyline clip-path=\"url(#clip692)\" style=\"stroke:#000000; stroke-width:2; stroke-opacity:0.1; fill:none\" points=\"\n",
       "  1090.27,1521.01 1090.27,62.9921 \n",
       "  \"/>\n",
       "<polyline clip-path=\"url(#clip690)\" style=\"stroke:#000000; stroke-width:4; stroke-opacity:1; fill:none\" points=\"\n",
       "  86.9921,1521.01 1152.76,1521.01 \n",
       "  \"/>\n",
       "<polyline clip-path=\"url(#clip690)\" style=\"stroke:#000000; stroke-width:4; stroke-opacity:1; fill:none\" points=\"\n",
       "  191.909,1521.01 191.909,1503.51 \n",
       "  \"/>\n",
       "<polyline clip-path=\"url(#clip690)\" style=\"stroke:#000000; stroke-width:4; stroke-opacity:1; fill:none\" points=\"\n",
       "  341.636,1521.01 341.636,1503.51 \n",
       "  \"/>\n",
       "<polyline clip-path=\"url(#clip690)\" style=\"stroke:#000000; stroke-width:4; stroke-opacity:1; fill:none\" points=\"\n",
       "  491.364,1521.01 491.364,1503.51 \n",
       "  \"/>\n",
       "<polyline clip-path=\"url(#clip690)\" style=\"stroke:#000000; stroke-width:4; stroke-opacity:1; fill:none\" points=\"\n",
       "  641.091,1521.01 641.091,1503.51 \n",
       "  \"/>\n",
       "<polyline clip-path=\"url(#clip690)\" style=\"stroke:#000000; stroke-width:4; stroke-opacity:1; fill:none\" points=\"\n",
       "  790.818,1521.01 790.818,1503.51 \n",
       "  \"/>\n",
       "<polyline clip-path=\"url(#clip690)\" style=\"stroke:#000000; stroke-width:4; stroke-opacity:1; fill:none\" points=\"\n",
       "  940.546,1521.01 940.546,1503.51 \n",
       "  \"/>\n",
       "<polyline clip-path=\"url(#clip690)\" style=\"stroke:#000000; stroke-width:4; stroke-opacity:1; fill:none\" points=\"\n",
       "  1090.27,1521.01 1090.27,1503.51 \n",
       "  \"/>\n",
       "<path clip-path=\"url(#clip690)\" d=\"M 0 0 M170.893 1558.69 L193.15 1558.69 L193.15 1561.64 L170.893 1561.64 L170.893 1558.69 Z\" fill=\"#000000\" fill-rule=\"evenodd\" fill-opacity=\"1\" /><path clip-path=\"url(#clip690)\" d=\"M 0 0 M207.577 1557.34 Q210.095 1557.87 211.501 1559.58 Q212.924 1561.28 212.924 1563.78 Q212.924 1567.61 210.286 1569.71 Q207.647 1571.82 202.786 1571.82 Q201.154 1571.82 199.418 1571.49 Q197.699 1571.17 195.859 1570.53 L195.859 1567.15 Q197.317 1568 199.053 1568.43 Q200.789 1568.86 202.681 1568.86 Q205.98 1568.86 207.699 1567.56 Q209.435 1566.26 209.435 1563.78 Q209.435 1561.49 207.82 1560.2 Q206.223 1558.9 203.359 1558.9 L200.338 1558.9 L200.338 1556.02 L203.497 1556.02 Q206.084 1556.02 207.456 1554.99 Q208.827 1553.95 208.827 1552.01 Q208.827 1550.01 207.404 1548.95 Q205.997 1547.87 203.359 1547.87 Q201.918 1547.87 200.268 1548.19 Q198.619 1548.5 196.64 1549.16 L196.64 1546.03 Q198.636 1545.48 200.372 1545.2 Q202.126 1544.92 203.671 1544.92 Q207.664 1544.92 209.99 1546.75 Q212.317 1548.55 212.317 1551.64 Q212.317 1553.79 211.084 1555.29 Q209.852 1556.76 207.577 1557.34 Z\" fill=\"#000000\" fill-rule=\"evenodd\" fill-opacity=\"1\" /><path clip-path=\"url(#clip690)\" d=\"M 0 0 M320.977 1558.69 L343.233 1558.69 L343.233 1561.64 L320.977 1561.64 L320.977 1558.69 Z\" fill=\"#000000\" fill-rule=\"evenodd\" fill-opacity=\"1\" /><path clip-path=\"url(#clip690)\" d=\"M 0 0 M350.056 1568.36 L362.296 1568.36 L362.296 1571.31 L345.838 1571.31 L345.838 1568.36 Q347.834 1566.29 351.272 1562.82 Q354.726 1559.33 355.612 1558.33 Q357.296 1556.43 357.956 1555.13 Q358.633 1553.81 358.633 1552.54 Q358.633 1550.48 357.174 1549.18 Q355.733 1547.87 353.407 1547.87 Q351.758 1547.87 349.917 1548.45 Q348.095 1549.02 346.011 1550.18 L346.011 1546.64 Q348.129 1545.79 349.97 1545.36 Q351.81 1544.92 353.338 1544.92 Q357.365 1544.92 359.761 1546.94 Q362.157 1548.95 362.157 1552.32 Q362.157 1553.92 361.549 1555.36 Q360.959 1556.78 359.379 1558.73 Q358.945 1559.23 356.619 1561.64 Q354.292 1564.04 350.056 1568.36 Z\" fill=\"#000000\" fill-rule=\"evenodd\" fill-opacity=\"1\" /><path clip-path=\"url(#clip690)\" d=\"M 0 0 M470.565 1558.69 L492.822 1558.69 L492.822 1561.64 L470.565 1561.64 L470.565 1558.69 Z\" fill=\"#000000\" fill-rule=\"evenodd\" fill-opacity=\"1\" /><path clip-path=\"url(#clip690)\" d=\"M 0 0 M497.232 1568.36 L502.961 1568.36 L502.961 1548.59 L496.728 1549.84 L496.728 1546.64 L502.926 1545.39 L506.433 1545.39 L506.433 1568.36 L512.162 1568.36 L512.162 1571.31 L497.232 1571.31 L497.232 1568.36 Z\" fill=\"#000000\" fill-rule=\"evenodd\" fill-opacity=\"1\" /><path clip-path=\"url(#clip690)\" d=\"M 0 0 M641.091 1547.7 Q638.383 1547.7 637.011 1550.37 Q635.657 1553.03 635.657 1558.38 Q635.657 1563.71 637.011 1566.38 Q638.383 1569.04 641.091 1569.04 Q643.817 1569.04 645.171 1566.38 Q646.542 1563.71 646.542 1558.38 Q646.542 1553.03 645.171 1550.37 Q643.817 1547.7 641.091 1547.7 M641.091 1544.92 Q645.449 1544.92 647.74 1548.38 Q650.049 1551.82 650.049 1558.38 Q650.049 1564.92 647.74 1568.38 Q645.449 1571.82 641.091 1571.82 Q636.733 1571.82 634.424 1568.38 Q632.133 1564.92 632.133 1558.38 Q632.133 1551.82 634.424 1548.38 Q636.733 1544.92 641.091 1544.92 Z\" fill=\"#000000\" fill-rule=\"evenodd\" fill-opacity=\"1\" /><path clip-path=\"url(#clip690)\" d=\"M 0 0 M783.605 1568.36 L789.334 1568.36 L789.334 1548.59 L783.101 1549.84 L783.101 1546.64 L789.299 1545.39 L792.806 1545.39 L792.806 1568.36 L798.535 1568.36 L798.535 1571.31 L783.605 1571.31 L783.605 1568.36 Z\" fill=\"#000000\" fill-rule=\"evenodd\" fill-opacity=\"1\" /><path clip-path=\"url(#clip690)\" d=\"M 0 0 M936.535 1568.36 L948.775 1568.36 L948.775 1571.31 L932.317 1571.31 L932.317 1568.36 Q934.313 1566.29 937.751 1562.82 Q941.205 1559.33 942.091 1558.33 Q943.775 1556.43 944.435 1555.13 Q945.112 1553.81 945.112 1552.54 Q945.112 1550.48 943.653 1549.18 Q942.212 1547.87 939.886 1547.87 Q938.237 1547.87 936.396 1548.45 Q934.573 1549.02 932.49 1550.18 L932.49 1546.64 Q934.608 1545.79 936.448 1545.36 Q938.289 1544.92 939.816 1544.92 Q943.844 1544.92 946.24 1546.94 Q948.636 1548.95 948.636 1552.32 Q948.636 1553.92 948.028 1555.36 Q947.438 1556.78 945.858 1558.73 Q945.424 1559.23 943.098 1561.64 Q940.771 1564.04 936.535 1568.36 Z\" fill=\"#000000\" fill-rule=\"evenodd\" fill-opacity=\"1\" /><path clip-path=\"url(#clip690)\" d=\"M 0 0 M1093.46 1557.34 Q1095.98 1557.87 1097.38 1559.58 Q1098.81 1561.28 1098.81 1563.78 Q1098.81 1567.61 1096.17 1569.71 Q1093.53 1571.82 1088.67 1571.82 Q1087.04 1571.82 1085.3 1571.49 Q1083.58 1571.17 1081.74 1570.53 L1081.74 1567.15 Q1083.2 1568 1084.93 1568.43 Q1086.67 1568.86 1088.56 1568.86 Q1091.86 1568.86 1093.58 1567.56 Q1095.32 1566.26 1095.32 1563.78 Q1095.32 1561.49 1093.7 1560.2 Q1092.1 1558.9 1089.24 1558.9 L1086.22 1558.9 L1086.22 1556.02 L1089.38 1556.02 Q1091.97 1556.02 1093.34 1554.99 Q1094.71 1553.95 1094.71 1552.01 Q1094.71 1550.01 1093.29 1548.95 Q1091.88 1547.87 1089.24 1547.87 Q1087.8 1547.87 1086.15 1548.19 Q1084.5 1548.5 1082.52 1549.16 L1082.52 1546.03 Q1084.52 1545.48 1086.25 1545.2 Q1088.01 1544.92 1089.55 1544.92 Q1093.55 1544.92 1095.87 1546.75 Q1098.2 1548.55 1098.2 1551.64 Q1098.2 1553.79 1096.97 1555.29 Q1095.73 1556.76 1093.46 1557.34 Z\" fill=\"#000000\" fill-rule=\"evenodd\" fill-opacity=\"1\" /><polyline clip-path=\"url(#clip692)\" style=\"stroke:#000000; stroke-width:2; stroke-opacity:0.1; fill:none\" points=\"\n",
       "  86.9921,1474.87 1152.76,1474.87 \n",
       "  \"/>\n",
       "<polyline clip-path=\"url(#clip692)\" style=\"stroke:#000000; stroke-width:2; stroke-opacity:0.1; fill:none\" points=\"\n",
       "  86.9921,1185.78 1152.76,1185.78 \n",
       "  \"/>\n",
       "<polyline clip-path=\"url(#clip692)\" style=\"stroke:#000000; stroke-width:2; stroke-opacity:0.1; fill:none\" points=\"\n",
       "  86.9921,896.681 1152.76,896.681 \n",
       "  \"/>\n",
       "<polyline clip-path=\"url(#clip692)\" style=\"stroke:#000000; stroke-width:2; stroke-opacity:0.1; fill:none\" points=\"\n",
       "  86.9921,607.586 1152.76,607.586 \n",
       "  \"/>\n",
       "<polyline clip-path=\"url(#clip692)\" style=\"stroke:#000000; stroke-width:2; stroke-opacity:0.1; fill:none\" points=\"\n",
       "  86.9921,318.49 1152.76,318.49 \n",
       "  \"/>\n",
       "<polyline clip-path=\"url(#clip690)\" style=\"stroke:#000000; stroke-width:4; stroke-opacity:1; fill:none\" points=\"\n",
       "  86.9921,1521.01 86.9921,62.9921 \n",
       "  \"/>\n",
       "<polyline clip-path=\"url(#clip690)\" style=\"stroke:#000000; stroke-width:4; stroke-opacity:1; fill:none\" points=\"\n",
       "  86.9921,1474.87 99.7813,1474.87 \n",
       "  \"/>\n",
       "<polyline clip-path=\"url(#clip690)\" style=\"stroke:#000000; stroke-width:4; stroke-opacity:1; fill:none\" points=\"\n",
       "  86.9921,1185.78 99.7813,1185.78 \n",
       "  \"/>\n",
       "<polyline clip-path=\"url(#clip690)\" style=\"stroke:#000000; stroke-width:4; stroke-opacity:1; fill:none\" points=\"\n",
       "  86.9921,896.681 99.7813,896.681 \n",
       "  \"/>\n",
       "<polyline clip-path=\"url(#clip690)\" style=\"stroke:#000000; stroke-width:4; stroke-opacity:1; fill:none\" points=\"\n",
       "  86.9921,607.586 99.7813,607.586 \n",
       "  \"/>\n",
       "<polyline clip-path=\"url(#clip690)\" style=\"stroke:#000000; stroke-width:4; stroke-opacity:1; fill:none\" points=\"\n",
       "  86.9921,318.49 99.7813,318.49 \n",
       "  \"/>\n",
       "<path clip-path=\"url(#clip690)\" d=\"M 0 0 M-41.4379 1475.32 L-11.7622 1475.32 L-11.7622 1479.26 L-41.4379 1479.26 L-41.4379 1475.32 Z\" fill=\"#000000\" fill-rule=\"evenodd\" fill-opacity=\"1\" /><path clip-path=\"url(#clip690)\" d=\"M 0 0 M-5.88257 1488.22 L1.75628 1488.22 L1.75628 1461.85 L-6.55386 1463.52 L-6.55386 1459.26 L1.70998 1457.59 L6.38588 1457.59 L6.38588 1488.22 L14.0247 1488.22 L14.0247 1492.15 L-5.88257 1492.15 L-5.88257 1488.22 Z\" fill=\"#000000\" fill-rule=\"evenodd\" fill-opacity=\"1\" /><path clip-path=\"url(#clip690)\" d=\"M 0 0 M19.0941 1486.27 L23.9784 1486.27 L23.9784 1492.15 L19.0941 1492.15 L19.0941 1486.27 Z\" fill=\"#000000\" fill-rule=\"evenodd\" fill-opacity=\"1\" /><path clip-path=\"url(#clip690)\" d=\"M 0 0 M39.0477 1460.67 Q35.4367 1460.67 33.608 1464.24 Q31.8024 1467.78 31.8024 1474.91 Q31.8024 1482.01 33.608 1485.58 Q35.4367 1489.12 39.0477 1489.12 Q42.682 1489.12 44.4875 1485.58 Q46.3162 1482.01 46.3162 1474.91 Q46.3162 1467.78 44.4875 1464.24 Q42.682 1460.67 39.0477 1460.67 M39.0477 1456.97 Q44.8579 1456.97 47.9134 1461.57 Q50.9921 1466.16 50.9921 1474.91 Q50.9921 1483.63 47.9134 1488.24 Q44.8579 1492.82 39.0477 1492.82 Q33.2376 1492.82 30.1589 1488.24 Q27.1034 1483.63 27.1034 1474.91 Q27.1034 1466.16 30.1589 1461.57 Q33.2376 1456.97 39.0477 1456.97 Z\" fill=\"#000000\" fill-rule=\"evenodd\" fill-opacity=\"1\" /><path clip-path=\"url(#clip690)\" d=\"M 0 0 M-41.6694 1186.23 L-11.9936 1186.23 L-11.9936 1190.16 L-41.6694 1190.16 L-41.6694 1186.23 Z\" fill=\"#000000\" fill-rule=\"evenodd\" fill-opacity=\"1\" /><path clip-path=\"url(#clip690)\" d=\"M 0 0 M3.07572 1171.58 Q-0.535376 1171.58 -2.36407 1175.14 Q-4.16962 1178.68 -4.16962 1185.81 Q-4.16962 1192.92 -2.36407 1196.48 Q-0.535376 1200.02 3.07572 1200.02 Q6.70996 1200.02 8.5155 1196.48 Q10.3442 1192.92 10.3442 1185.81 Q10.3442 1178.68 8.5155 1175.14 Q6.70996 1171.58 3.07572 1171.58 M3.07572 1167.87 Q8.88587 1167.87 11.9414 1172.48 Q15.0201 1177.06 15.0201 1185.81 Q15.0201 1194.54 11.9414 1199.14 Q8.88587 1203.73 3.07572 1203.73 Q-2.73444 1203.73 -5.81313 1199.14 Q-8.86866 1194.54 -8.86866 1185.81 Q-8.86866 1177.06 -5.81313 1172.48 Q-2.73444 1167.87 3.07572 1167.87 Z\" fill=\"#000000\" fill-rule=\"evenodd\" fill-opacity=\"1\" /><path clip-path=\"url(#clip690)\" d=\"M 0 0 M20.0895 1197.18 L24.9737 1197.18 L24.9737 1203.06 L20.0895 1203.06 L20.0895 1197.18 Z\" fill=\"#000000\" fill-rule=\"evenodd\" fill-opacity=\"1\" /><path clip-path=\"url(#clip690)\" d=\"M 0 0 M30.0895 1168.5 L48.4458 1168.5 L48.4458 1172.43 L34.3718 1172.43 L34.3718 1180.9 Q35.3904 1180.56 36.4089 1180.39 Q37.4274 1180.21 38.4459 1180.21 Q44.2329 1180.21 47.6125 1183.38 Q50.9921 1186.55 50.9921 1191.97 Q50.9921 1197.55 47.5199 1200.65 Q44.0477 1203.73 37.7283 1203.73 Q35.5524 1203.73 33.2839 1203.36 Q31.0385 1202.99 28.6311 1202.25 L28.6311 1197.55 Q30.7145 1198.68 32.9367 1199.24 Q35.1589 1199.79 37.6357 1199.79 Q41.6403 1199.79 43.9783 1197.69 Q46.3162 1195.58 46.3162 1191.97 Q46.3162 1188.36 43.9783 1186.25 Q41.6403 1184.14 37.6357 1184.14 Q35.7607 1184.14 33.8857 1184.56 Q32.0339 1184.98 30.0895 1185.86 L30.0895 1168.5 Z\" fill=\"#000000\" fill-rule=\"evenodd\" fill-opacity=\"1\" /><path clip-path=\"url(#clip690)\" d=\"M 0 0 M2.08035 882.48 Q-1.53074 882.48 -3.35943 886.045 Q-5.16498 889.586 -5.16498 896.716 Q-5.16498 903.822 -3.35943 907.387 Q-1.53074 910.929 2.08035 910.929 Q5.71459 910.929 7.52014 907.387 Q9.34883 903.822 9.34883 896.716 Q9.34883 889.586 7.52014 886.045 Q5.71459 882.48 2.08035 882.48 M2.08035 878.776 Q7.89051 878.776 10.946 883.383 Q14.0247 887.966 14.0247 896.716 Q14.0247 905.443 10.946 910.049 Q7.89051 914.633 2.08035 914.633 Q-3.7298 914.633 -6.80849 910.049 Q-9.86403 905.443 -9.86403 896.716 Q-9.86403 887.966 -6.80849 883.383 Q-3.7298 878.776 2.08035 878.776 Z\" fill=\"#000000\" fill-rule=\"evenodd\" fill-opacity=\"1\" /><path clip-path=\"url(#clip690)\" d=\"M 0 0 M19.0941 908.082 L23.9784 908.082 L23.9784 913.961 L19.0941 913.961 L19.0941 908.082 Z\" fill=\"#000000\" fill-rule=\"evenodd\" fill-opacity=\"1\" /><path clip-path=\"url(#clip690)\" d=\"M 0 0 M39.0477 882.48 Q35.4367 882.48 33.608 886.045 Q31.8024 889.586 31.8024 896.716 Q31.8024 903.822 33.608 907.387 Q35.4367 910.929 39.0477 910.929 Q42.682 910.929 44.4875 907.387 Q46.3162 903.822 46.3162 896.716 Q46.3162 889.586 44.4875 886.045 Q42.682 882.48 39.0477 882.48 M39.0477 878.776 Q44.8579 878.776 47.9134 883.383 Q50.9921 887.966 50.9921 896.716 Q50.9921 905.443 47.9134 910.049 Q44.8579 914.633 39.0477 914.633 Q33.2376 914.633 30.1589 910.049 Q27.1034 905.443 27.1034 896.716 Q27.1034 887.966 30.1589 883.383 Q33.2376 878.776 39.0477 878.776 Z\" fill=\"#000000\" fill-rule=\"evenodd\" fill-opacity=\"1\" /><path clip-path=\"url(#clip690)\" d=\"M 0 0 M3.07572 593.384 Q-0.535376 593.384 -2.36407 596.949 Q-4.16962 600.491 -4.16962 607.621 Q-4.16962 614.727 -2.36407 618.292 Q-0.535376 621.833 3.07572 621.833 Q6.70996 621.833 8.5155 618.292 Q10.3442 614.727 10.3442 607.621 Q10.3442 600.491 8.5155 596.949 Q6.70996 593.384 3.07572 593.384 M3.07572 589.681 Q8.88587 589.681 11.9414 594.287 Q15.0201 598.871 15.0201 607.621 Q15.0201 616.347 11.9414 620.954 Q8.88587 625.537 3.07572 625.537 Q-2.73444 625.537 -5.81313 620.954 Q-8.86866 616.347 -8.86866 607.621 Q-8.86866 598.871 -5.81313 594.287 Q-2.73444 589.681 3.07572 589.681 Z\" fill=\"#000000\" fill-rule=\"evenodd\" fill-opacity=\"1\" /><path clip-path=\"url(#clip690)\" d=\"M 0 0 M20.0895 618.986 L24.9737 618.986 L24.9737 624.866 L20.0895 624.866 L20.0895 618.986 Z\" fill=\"#000000\" fill-rule=\"evenodd\" fill-opacity=\"1\" /><path clip-path=\"url(#clip690)\" d=\"M 0 0 M30.0895 590.306 L48.4458 590.306 L48.4458 594.241 L34.3718 594.241 L34.3718 602.713 Q35.3904 602.366 36.4089 602.204 Q37.4274 602.019 38.4459 602.019 Q44.2329 602.019 47.6125 605.19 Q50.9921 608.361 50.9921 613.778 Q50.9921 619.357 47.5199 622.458 Q44.0477 625.537 37.7283 625.537 Q35.5524 625.537 33.2839 625.167 Q31.0385 624.796 28.6311 624.056 L28.6311 619.357 Q30.7145 620.491 32.9367 621.046 Q35.1589 621.602 37.6357 621.602 Q41.6403 621.602 43.9783 619.495 Q46.3162 617.389 46.3162 613.778 Q46.3162 610.167 43.9783 608.06 Q41.6403 605.954 37.6357 605.954 Q35.7607 605.954 33.8857 606.371 Q32.0339 606.787 30.0895 607.667 L30.0895 590.306 Z\" fill=\"#000000\" fill-rule=\"evenodd\" fill-opacity=\"1\" /><path clip-path=\"url(#clip690)\" d=\"M 0 0 M-5.88257 331.835 L1.75628 331.835 L1.75628 305.47 L-6.55386 307.136 L-6.55386 302.877 L1.70998 301.21 L6.38588 301.21 L6.38588 331.835 L14.0247 331.835 L14.0247 335.77 L-5.88257 335.77 L-5.88257 331.835 Z\" fill=\"#000000\" fill-rule=\"evenodd\" fill-opacity=\"1\" /><path clip-path=\"url(#clip690)\" d=\"M 0 0 M19.0941 329.891 L23.9784 329.891 L23.9784 335.77 L19.0941 335.77 L19.0941 329.891 Z\" fill=\"#000000\" fill-rule=\"evenodd\" fill-opacity=\"1\" /><path clip-path=\"url(#clip690)\" d=\"M 0 0 M39.0477 304.289 Q35.4367 304.289 33.608 307.854 Q31.8024 311.395 31.8024 318.525 Q31.8024 325.632 33.608 329.196 Q35.4367 332.738 39.0477 332.738 Q42.682 332.738 44.4875 329.196 Q46.3162 325.632 46.3162 318.525 Q46.3162 311.395 44.4875 307.854 Q42.682 304.289 39.0477 304.289 M39.0477 300.585 Q44.8579 300.585 47.9134 305.192 Q50.9921 309.775 50.9921 318.525 Q50.9921 327.252 47.9134 331.858 Q44.8579 336.442 39.0477 336.442 Q33.2376 336.442 30.1589 331.858 Q27.1034 327.252 27.1034 318.525 Q27.1034 309.775 30.1589 305.192 Q33.2376 300.585 39.0477 300.585 Z\" fill=\"#000000\" fill-rule=\"evenodd\" fill-opacity=\"1\" /><path clip-path=\"url(#clip690)\" d=\"M 0 0 M410.581 6.912 L430.442 6.912 L430.442 10.8472 L415.257 10.8472 L415.257 21.0323 L428.961 21.0323 L428.961 24.9675 L415.257 24.9675 L415.257 41.472 L410.581 41.472 L410.581 6.912 Z\" fill=\"#000000\" fill-rule=\"evenodd\" fill-opacity=\"1\" /><path clip-path=\"url(#clip690)\" d=\"M 0 0 M431.877 31.2406 L431.877 15.5462 L436.137 15.5462 L436.137 31.0785 Q436.137 34.7591 437.572 36.6109 Q439.007 38.4396 441.877 38.4396 Q445.326 38.4396 447.317 36.2405 Q449.331 34.0415 449.331 30.2452 L449.331 15.5462 L453.59 15.5462 L453.59 41.472 L449.331 41.472 L449.331 37.4905 Q447.78 39.8516 445.72 41.009 Q443.683 42.1433 440.975 42.1433 Q436.507 42.1433 434.192 39.3655 Q431.877 36.5878 431.877 31.2406 M442.595 14.9212 L442.595 14.9212 Z\" fill=\"#000000\" fill-rule=\"evenodd\" fill-opacity=\"1\" /><path clip-path=\"url(#clip690)\" d=\"M 0 0 M456.206 15.5462 L476.437 15.5462 L476.437 19.4351 L460.419 38.0692 L476.437 38.0692 L476.437 41.472 L455.627 41.472 L455.627 37.5831 L471.646 18.949 L456.206 18.949 L456.206 15.5462 Z\" fill=\"#000000\" fill-rule=\"evenodd\" fill-opacity=\"1\" /><path clip-path=\"url(#clip690)\" d=\"M 0 0 M479.053 15.5462 L499.284 15.5462 L499.284 19.4351 L483.266 38.0692 L499.284 38.0692 L499.284 41.472 L478.474 41.472 L478.474 37.5831 L494.493 18.949 L479.053 18.949 L479.053 15.5462 Z\" fill=\"#000000\" fill-rule=\"evenodd\" fill-opacity=\"1\" /><path clip-path=\"url(#clip690)\" d=\"M 0 0 M514.539 43.8794 Q512.733 48.509 511.02 49.921 Q509.307 51.3331 506.437 51.3331 L503.034 51.3331 L503.034 47.7683 L505.534 47.7683 Q507.294 47.7683 508.266 46.9349 Q509.238 46.1016 510.419 42.9998 L511.182 41.0553 L500.696 15.5462 L505.21 15.5462 L513.312 35.8239 L521.414 15.5462 L525.928 15.5462 L514.539 43.8794 Z\" fill=\"#000000\" fill-rule=\"evenodd\" fill-opacity=\"1\" /><path clip-path=\"url(#clip690)\" d=\"M 0 0 M542.131 11.5185 L535.789 28.7174 L548.497 28.7174 L542.131 11.5185 M539.493 6.912 L544.793 6.912 L557.965 41.472 L553.104 41.472 L549.955 32.6063 L534.377 32.6063 L531.229 41.472 L526.298 41.472 L539.493 6.912 Z\" fill=\"#000000\" fill-rule=\"evenodd\" fill-opacity=\"1\" /><path clip-path=\"url(#clip690)\" d=\"M 0 0 M579.006 25.2684 Q580.511 25.7776 581.923 27.4443 Q583.358 29.111 584.793 32.0276 L589.539 41.472 L584.515 41.472 L580.094 32.6063 Q578.381 29.1341 576.761 27.9998 Q575.164 26.8656 572.386 26.8656 L567.293 26.8656 L567.293 41.472 L562.617 41.472 L562.617 6.912 L573.173 6.912 Q579.099 6.912 582.015 9.38884 Q584.932 11.8657 584.932 16.8657 Q584.932 20.1295 583.404 22.2823 Q581.9 24.4351 579.006 25.2684 M567.293 10.7546 L567.293 23.023 L573.173 23.023 Q576.552 23.023 578.265 21.4721 Q580.002 19.898 580.002 16.8657 Q580.002 13.8333 578.265 12.3055 Q576.552 10.7546 573.173 10.7546 L567.293 10.7546 Z\" fill=\"#000000\" fill-rule=\"evenodd\" fill-opacity=\"1\" /><path clip-path=\"url(#clip690)\" d=\"M 0 0 M585.951 6.912 L615.187 6.912 L615.187 10.8472 L602.918 10.8472 L602.918 41.472 L598.219 41.472 L598.219 10.8472 L585.951 10.8472 L585.951 6.912 Z\" fill=\"#000000\" fill-rule=\"evenodd\" fill-opacity=\"1\" /><path clip-path=\"url(#clip690)\" d=\"M 0 0 M649.747 19.5277 Q649.029 19.111 648.172 18.9258 Q647.339 18.7175 646.321 18.7175 Q642.71 18.7175 640.765 21.0786 Q638.844 23.4165 638.844 27.8147 L638.844 41.472 L634.561 41.472 L634.561 15.5462 L638.844 15.5462 L638.844 19.574 Q640.186 17.2129 642.339 16.0786 Q644.492 14.9212 647.571 14.9212 Q648.01 14.9212 648.543 14.9907 Q649.075 15.037 649.723 15.1527 L649.747 19.5277 Z\" fill=\"#000000\" fill-rule=\"evenodd\" fill-opacity=\"1\" /><path clip-path=\"url(#clip690)\" d=\"M 0 0 M674.932 25.8239 L674.932 41.472 L670.672 41.472 L670.672 25.9628 Q670.672 22.2823 669.237 20.4536 Q667.802 18.6249 664.932 18.6249 Q661.483 18.6249 659.492 20.824 Q657.501 23.023 657.501 26.8193 L657.501 41.472 L653.219 41.472 L653.219 5.45367 L657.501 5.45367 L657.501 19.574 Q659.029 17.236 661.089 16.0786 Q663.172 14.9212 665.881 14.9212 Q670.348 14.9212 672.64 17.699 Q674.932 20.4536 674.932 25.8239 Z\" fill=\"#000000\" fill-rule=\"evenodd\" fill-opacity=\"1\" /><path clip-path=\"url(#clip690)\" d=\"M 0 0 M689.445 18.5323 Q686.019 18.5323 684.029 21.2175 Q682.038 23.8795 682.038 28.5323 Q682.038 33.185 684.006 35.8702 Q685.996 38.5322 689.445 38.5322 Q692.848 38.5322 694.839 35.847 Q696.83 33.1619 696.83 28.5323 Q696.83 23.9258 694.839 21.2406 Q692.848 18.5323 689.445 18.5323 M689.445 14.9212 Q695.001 14.9212 698.172 18.5323 Q701.343 22.1434 701.343 28.5323 Q701.343 34.898 698.172 38.5322 Q695.001 42.1433 689.445 42.1433 Q683.867 42.1433 680.695 38.5322 Q677.547 34.898 677.547 28.5323 Q677.547 22.1434 680.695 18.5323 Q683.867 14.9212 689.445 14.9212 Z\" fill=\"#000000\" fill-rule=\"evenodd\" fill-opacity=\"1\" /><path clip-path=\"url(#clip690)\" d=\"M 0 0 M721.436 19.9443 L751.112 19.9443 L751.112 23.8332 L721.436 23.8332 L721.436 19.9443 M721.436 29.3887 L751.112 29.3887 L751.112 33.3239 L721.436 33.3239 L721.436 29.3887 Z\" fill=\"#000000\" fill-rule=\"evenodd\" fill-opacity=\"1\" /><path clip-path=\"url(#clip690)\" d=\"M 0 0 M781.25 9.99069 Q777.639 9.99069 775.811 13.5555 Q774.005 17.0971 774.005 24.2267 Q774.005 31.3332 775.811 34.898 Q777.639 38.4396 781.25 38.4396 Q784.885 38.4396 786.69 34.898 Q788.519 31.3332 788.519 24.2267 Q788.519 17.0971 786.69 13.5555 Q784.885 9.99069 781.25 9.99069 M781.25 6.287 Q787.061 6.287 790.116 10.8935 Q793.195 15.4768 793.195 24.2267 Q793.195 32.9535 790.116 37.56 Q787.061 42.1433 781.25 42.1433 Q775.44 42.1433 772.362 37.56 Q769.306 32.9535 769.306 24.2267 Q769.306 15.4768 772.362 10.8935 Q775.44 6.287 781.25 6.287 Z\" fill=\"#000000\" fill-rule=\"evenodd\" fill-opacity=\"1\" /><path clip-path=\"url(#clip690)\" d=\"M 0 0 M798.264 35.5924 L803.148 35.5924 L803.148 41.472 L798.264 41.472 L798.264 35.5924 Z\" fill=\"#000000\" fill-rule=\"evenodd\" fill-opacity=\"1\" /><path clip-path=\"url(#clip690)\" d=\"M 0 0 M808.264 6.912 L826.621 6.912 L826.621 10.8472 L812.547 10.8472 L812.547 19.3193 Q813.565 18.9721 814.584 18.8101 Q815.602 18.6249 816.621 18.6249 Q822.408 18.6249 825.787 21.7962 Q829.167 24.9675 829.167 30.3841 Q829.167 35.9628 825.695 39.0646 Q822.222 42.1433 815.903 42.1433 Q813.727 42.1433 811.459 41.7729 Q809.213 41.4026 806.806 40.6618 L806.806 35.9628 Q808.889 37.097 811.111 37.6526 Q813.334 38.2081 815.81 38.2081 Q819.815 38.2081 822.153 36.1017 Q824.491 33.9952 824.491 30.3841 Q824.491 26.773 822.153 24.6665 Q819.815 22.5601 815.81 22.5601 Q813.935 22.5601 812.06 22.9767 Q810.209 23.3934 808.264 24.273 L808.264 6.912 Z\" fill=\"#000000\" fill-rule=\"evenodd\" fill-opacity=\"1\" /><circle clip-path=\"url(#clip692)\" cx=\"1068.14\" cy=\"1436.06\" r=\"14\" fill=\"#009af9\" fill-rule=\"evenodd\" fill-opacity=\"1\" stroke=\"#000000\" stroke-opacity=\"1\" stroke-width=\"3.2\"/>\n",
       "<circle clip-path=\"url(#clip692)\" cx=\"1047.66\" cy=\"994.717\" r=\"14\" fill=\"#009af9\" fill-rule=\"evenodd\" fill-opacity=\"1\" stroke=\"#000000\" stroke-opacity=\"1\" stroke-width=\"3.2\"/>\n",
       "<circle clip-path=\"url(#clip692)\" cx=\"993.874\" cy=\"914.726\" r=\"14\" fill=\"#009af9\" fill-rule=\"evenodd\" fill-opacity=\"1\" stroke=\"#000000\" stroke-opacity=\"1\" stroke-width=\"3.2\"/>\n",
       "<circle clip-path=\"url(#clip692)\" cx=\"1021.8\" cy=\"557.699\" r=\"14\" fill=\"#009af9\" fill-rule=\"evenodd\" fill-opacity=\"1\" stroke=\"#000000\" stroke-opacity=\"1\" stroke-width=\"3.2\"/>\n",
       "<circle clip-path=\"url(#clip692)\" cx=\"1021.88\" cy=\"642.259\" r=\"14\" fill=\"#009af9\" fill-rule=\"evenodd\" fill-opacity=\"1\" stroke=\"#000000\" stroke-opacity=\"1\" stroke-width=\"3.2\"/>\n",
       "<circle clip-path=\"url(#clip692)\" cx=\"1063.46\" cy=\"944.153\" r=\"14\" fill=\"#009af9\" fill-rule=\"evenodd\" fill-opacity=\"1\" stroke=\"#000000\" stroke-opacity=\"1\" stroke-width=\"3.2\"/>\n",
       "<circle clip-path=\"url(#clip692)\" cx=\"982.454\" cy=\"464.32\" r=\"14\" fill=\"#009af9\" fill-rule=\"evenodd\" fill-opacity=\"1\" stroke=\"#000000\" stroke-opacity=\"1\" stroke-width=\"3.2\"/>\n",
       "<circle clip-path=\"url(#clip692)\" cx=\"1041.44\" cy=\"958.369\" r=\"14\" fill=\"#009af9\" fill-rule=\"evenodd\" fill-opacity=\"1\" stroke=\"#000000\" stroke-opacity=\"1\" stroke-width=\"3.2\"/>\n",
       "<circle clip-path=\"url(#clip692)\" cx=\"1041.44\" cy=\"958.369\" r=\"14\" fill=\"#009af9\" fill-rule=\"evenodd\" fill-opacity=\"1\" stroke=\"#000000\" stroke-opacity=\"1\" stroke-width=\"3.2\"/>\n",
       "<circle clip-path=\"url(#clip692)\" cx=\"1034.35\" cy=\"798.154\" r=\"14\" fill=\"#009af9\" fill-rule=\"evenodd\" fill-opacity=\"1\" stroke=\"#000000\" stroke-opacity=\"1\" stroke-width=\"3.2\"/>\n",
       "<circle clip-path=\"url(#clip692)\" cx=\"1122.59\" cy=\"814.8\" r=\"14\" fill=\"#009af9\" fill-rule=\"evenodd\" fill-opacity=\"1\" stroke=\"#000000\" stroke-opacity=\"1\" stroke-width=\"3.2\"/>\n",
       "<circle clip-path=\"url(#clip692)\" cx=\"1049.64\" cy=\"703.609\" r=\"14\" fill=\"#009af9\" fill-rule=\"evenodd\" fill-opacity=\"1\" stroke=\"#000000\" stroke-opacity=\"1\" stroke-width=\"3.2\"/>\n",
       "<circle clip-path=\"url(#clip692)\" cx=\"1028.93\" cy=\"760.194\" r=\"14\" fill=\"#009af9\" fill-rule=\"evenodd\" fill-opacity=\"1\" stroke=\"#000000\" stroke-opacity=\"1\" stroke-width=\"3.2\"/>\n",
       "<circle clip-path=\"url(#clip692)\" cx=\"1045.94\" cy=\"830.183\" r=\"14\" fill=\"#009af9\" fill-rule=\"evenodd\" fill-opacity=\"1\" stroke=\"#000000\" stroke-opacity=\"1\" stroke-width=\"3.2\"/>\n",
       "<circle clip-path=\"url(#clip692)\" cx=\"1037.62\" cy=\"712.159\" r=\"14\" fill=\"#009af9\" fill-rule=\"evenodd\" fill-opacity=\"1\" stroke=\"#000000\" stroke-opacity=\"1\" stroke-width=\"3.2\"/>\n",
       "<circle clip-path=\"url(#clip692)\" cx=\"777.113\" cy=\"1331.23\" r=\"14\" fill=\"#e26f46\" fill-rule=\"evenodd\" fill-opacity=\"1\" stroke=\"#000000\" stroke-opacity=\"1\" stroke-width=\"3.2\"/>\n",
       "<circle clip-path=\"url(#clip692)\" cx=\"545.012\" cy=\"885.654\" r=\"14\" fill=\"#e26f46\" fill-rule=\"evenodd\" fill-opacity=\"1\" stroke=\"#000000\" stroke-opacity=\"1\" stroke-width=\"3.2\"/>\n",
       "<circle clip-path=\"url(#clip692)\" cx=\"553.16\" cy=\"1176.11\" r=\"14\" fill=\"#e26f46\" fill-rule=\"evenodd\" fill-opacity=\"1\" stroke=\"#000000\" stroke-opacity=\"1\" stroke-width=\"3.2\"/>\n",
       "<circle clip-path=\"url(#clip692)\" cx=\"746.96\" cy=\"1479.74\" r=\"14\" fill=\"#e26f46\" fill-rule=\"evenodd\" fill-opacity=\"1\" stroke=\"#000000\" stroke-opacity=\"1\" stroke-width=\"3.2\"/>\n",
       "<circle clip-path=\"url(#clip692)\" cx=\"634.616\" cy=\"1232.89\" r=\"14\" fill=\"#e26f46\" fill-rule=\"evenodd\" fill-opacity=\"1\" stroke=\"#000000\" stroke-opacity=\"1\" stroke-width=\"3.2\"/>\n",
       "<circle clip-path=\"url(#clip692)\" cx=\"519.382\" cy=\"1111\" r=\"14\" fill=\"#e26f46\" fill-rule=\"evenodd\" fill-opacity=\"1\" stroke=\"#000000\" stroke-opacity=\"1\" stroke-width=\"3.2\"/>\n",
       "<circle clip-path=\"url(#clip692)\" cx=\"613.995\" cy=\"1374.04\" r=\"14\" fill=\"#e26f46\" fill-rule=\"evenodd\" fill-opacity=\"1\" stroke=\"#000000\" stroke-opacity=\"1\" stroke-width=\"3.2\"/>\n",
       "<circle clip-path=\"url(#clip692)\" cx=\"493.753\" cy=\"968.585\" r=\"14\" fill=\"#e26f46\" fill-rule=\"evenodd\" fill-opacity=\"1\" stroke=\"#000000\" stroke-opacity=\"1\" stroke-width=\"3.2\"/>\n",
       "<circle clip-path=\"url(#clip692)\" cx=\"606.822\" cy=\"1129.26\" r=\"14\" fill=\"#e26f46\" fill-rule=\"evenodd\" fill-opacity=\"1\" stroke=\"#000000\" stroke-opacity=\"1\" stroke-width=\"3.2\"/>\n",
       "<circle clip-path=\"url(#clip692)\" cx=\"534.184\" cy=\"809.733\" r=\"14\" fill=\"#e26f46\" fill-rule=\"evenodd\" fill-opacity=\"1\" stroke=\"#000000\" stroke-opacity=\"1\" stroke-width=\"3.2\"/>\n",
       "<circle clip-path=\"url(#clip692)\" cx=\"441.798\" cy=\"755.216\" r=\"14\" fill=\"#e26f46\" fill-rule=\"evenodd\" fill-opacity=\"1\" stroke=\"#000000\" stroke-opacity=\"1\" stroke-width=\"3.2\"/>\n",
       "<circle clip-path=\"url(#clip692)\" cx=\"446.695\" cy=\"1336.69\" r=\"14\" fill=\"#e26f46\" fill-rule=\"evenodd\" fill-opacity=\"1\" stroke=\"#000000\" stroke-opacity=\"1\" stroke-width=\"3.2\"/>\n",
       "<circle clip-path=\"url(#clip692)\" cx=\"507.81\" cy=\"916.231\" r=\"14\" fill=\"#e26f46\" fill-rule=\"evenodd\" fill-opacity=\"1\" stroke=\"#000000\" stroke-opacity=\"1\" stroke-width=\"3.2\"/>\n",
       "<circle clip-path=\"url(#clip692)\" cx=\"520.23\" cy=\"783.903\" r=\"14\" fill=\"#e26f46\" fill-rule=\"evenodd\" fill-opacity=\"1\" stroke=\"#000000\" stroke-opacity=\"1\" stroke-width=\"3.2\"/>\n",
       "<circle clip-path=\"url(#clip692)\" cx=\"506.39\" cy=\"706.103\" r=\"14\" fill=\"#e26f46\" fill-rule=\"evenodd\" fill-opacity=\"1\" stroke=\"#000000\" stroke-opacity=\"1\" stroke-width=\"3.2\"/>\n",
       "<circle clip-path=\"url(#clip692)\" cx=\"117.155\" cy=\"632.579\" r=\"14\" fill=\"#3da44d\" fill-rule=\"evenodd\" fill-opacity=\"1\" stroke=\"#000000\" stroke-opacity=\"1\" stroke-width=\"3.2\"/>\n",
       "<circle clip-path=\"url(#clip692)\" cx=\"319.928\" cy=\"816.367\" r=\"14\" fill=\"#3da44d\" fill-rule=\"evenodd\" fill-opacity=\"1\" stroke=\"#000000\" stroke-opacity=\"1\" stroke-width=\"3.2\"/>\n",
       "<circle clip-path=\"url(#clip692)\" cx=\"180.452\" cy=\"500.178\" r=\"14\" fill=\"#3da44d\" fill-rule=\"evenodd\" fill-opacity=\"1\" stroke=\"#000000\" stroke-opacity=\"1\" stroke-width=\"3.2\"/>\n",
       "<circle clip-path=\"url(#clip692)\" cx=\"434.656\" cy=\"1140.22\" r=\"14\" fill=\"#3da44d\" fill-rule=\"evenodd\" fill-opacity=\"1\" stroke=\"#000000\" stroke-opacity=\"1\" stroke-width=\"3.2\"/>\n",
       "<circle clip-path=\"url(#clip692)\" cx=\"429.366\" cy=\"1229.1\" r=\"14\" fill=\"#3da44d\" fill-rule=\"evenodd\" fill-opacity=\"1\" stroke=\"#000000\" stroke-opacity=\"1\" stroke-width=\"3.2\"/>\n",
       "<circle clip-path=\"url(#clip692)\" cx=\"346.006\" cy=\"1001.41\" r=\"14\" fill=\"#3da44d\" fill-rule=\"evenodd\" fill-opacity=\"1\" stroke=\"#000000\" stroke-opacity=\"1\" stroke-width=\"3.2\"/>\n",
       "<circle clip-path=\"url(#clip692)\" cx=\"355.899\" cy=\"827.981\" r=\"14\" fill=\"#3da44d\" fill-rule=\"evenodd\" fill-opacity=\"1\" stroke=\"#000000\" stroke-opacity=\"1\" stroke-width=\"3.2\"/>\n",
       "<circle clip-path=\"url(#clip692)\" cx=\"353.248\" cy=\"660.044\" r=\"14\" fill=\"#3da44d\" fill-rule=\"evenodd\" fill-opacity=\"1\" stroke=\"#000000\" stroke-opacity=\"1\" stroke-width=\"3.2\"/>\n",
       "<circle clip-path=\"url(#clip692)\" cx=\"157.121\" cy=\"104.257\" r=\"14\" fill=\"#3da44d\" fill-rule=\"evenodd\" fill-opacity=\"1\" stroke=\"#000000\" stroke-opacity=\"1\" stroke-width=\"3.2\"/>\n",
       "<circle clip-path=\"url(#clip692)\" cx=\"392.254\" cy=\"756.737\" r=\"14\" fill=\"#3da44d\" fill-rule=\"evenodd\" fill-opacity=\"1\" stroke=\"#000000\" stroke-opacity=\"1\" stroke-width=\"3.2\"/>\n",
       "<circle clip-path=\"url(#clip692)\" cx=\"429.366\" cy=\"1229.1\" r=\"14\" fill=\"#3da44d\" fill-rule=\"evenodd\" fill-opacity=\"1\" stroke=\"#000000\" stroke-opacity=\"1\" stroke-width=\"3.2\"/>\n",
       "<circle clip-path=\"url(#clip692)\" cx=\"447.842\" cy=\"963.997\" r=\"14\" fill=\"#3da44d\" fill-rule=\"evenodd\" fill-opacity=\"1\" stroke=\"#000000\" stroke-opacity=\"1\" stroke-width=\"3.2\"/>\n",
       "<circle clip-path=\"url(#clip692)\" cx=\"376.965\" cy=\"851.282\" r=\"14\" fill=\"#3da44d\" fill-rule=\"evenodd\" fill-opacity=\"1\" stroke=\"#000000\" stroke-opacity=\"1\" stroke-width=\"3.2\"/>\n",
       "<circle clip-path=\"url(#clip692)\" cx=\"349.235\" cy=\"873.131\" r=\"14\" fill=\"#3da44d\" fill-rule=\"evenodd\" fill-opacity=\"1\" stroke=\"#000000\" stroke-opacity=\"1\" stroke-width=\"3.2\"/>\n",
       "<circle clip-path=\"url(#clip692)\" cx=\"452.79\" cy=\"1000.26\" r=\"14\" fill=\"#3da44d\" fill-rule=\"evenodd\" fill-opacity=\"1\" stroke=\"#000000\" stroke-opacity=\"1\" stroke-width=\"3.2\"/>\n",
       "<path clip-path=\"url(#clip690)\" d=\"\n",
       "M1286.99 1521.01 L2352.76 1521.01 L2352.76 62.9921 L1286.99 62.9921  Z\n",
       "  \" fill=\"#ffffff\" fill-rule=\"evenodd\" fill-opacity=\"1\"/>\n",
       "<defs>\n",
       "  <clipPath id=\"clip693\">\n",
       "    <rect x=\"1286\" y=\"62\" width=\"1067\" height=\"1459\"/>\n",
       "  </clipPath>\n",
       "</defs>\n",
       "<polyline clip-path=\"url(#clip693)\" style=\"stroke:#000000; stroke-width:2; stroke-opacity:0.1; fill:none\" points=\"\n",
       "  1391.91,1521.01 1391.91,62.9921 \n",
       "  \"/>\n",
       "<polyline clip-path=\"url(#clip693)\" style=\"stroke:#000000; stroke-width:2; stroke-opacity:0.1; fill:none\" points=\"\n",
       "  1541.64,1521.01 1541.64,62.9921 \n",
       "  \"/>\n",
       "<polyline clip-path=\"url(#clip693)\" style=\"stroke:#000000; stroke-width:2; stroke-opacity:0.1; fill:none\" points=\"\n",
       "  1691.36,1521.01 1691.36,62.9921 \n",
       "  \"/>\n",
       "<polyline clip-path=\"url(#clip693)\" style=\"stroke:#000000; stroke-width:2; stroke-opacity:0.1; fill:none\" points=\"\n",
       "  1841.09,1521.01 1841.09,62.9921 \n",
       "  \"/>\n",
       "<polyline clip-path=\"url(#clip693)\" style=\"stroke:#000000; stroke-width:2; stroke-opacity:0.1; fill:none\" points=\"\n",
       "  1990.82,1521.01 1990.82,62.9921 \n",
       "  \"/>\n",
       "<polyline clip-path=\"url(#clip693)\" style=\"stroke:#000000; stroke-width:2; stroke-opacity:0.1; fill:none\" points=\"\n",
       "  2140.55,1521.01 2140.55,62.9921 \n",
       "  \"/>\n",
       "<polyline clip-path=\"url(#clip693)\" style=\"stroke:#000000; stroke-width:2; stroke-opacity:0.1; fill:none\" points=\"\n",
       "  2290.27,1521.01 2290.27,62.9921 \n",
       "  \"/>\n",
       "<polyline clip-path=\"url(#clip690)\" style=\"stroke:#000000; stroke-width:4; stroke-opacity:1; fill:none\" points=\"\n",
       "  1286.99,1521.01 2352.76,1521.01 \n",
       "  \"/>\n",
       "<polyline clip-path=\"url(#clip690)\" style=\"stroke:#000000; stroke-width:4; stroke-opacity:1; fill:none\" points=\"\n",
       "  1391.91,1521.01 1391.91,1503.51 \n",
       "  \"/>\n",
       "<polyline clip-path=\"url(#clip690)\" style=\"stroke:#000000; stroke-width:4; stroke-opacity:1; fill:none\" points=\"\n",
       "  1541.64,1521.01 1541.64,1503.51 \n",
       "  \"/>\n",
       "<polyline clip-path=\"url(#clip690)\" style=\"stroke:#000000; stroke-width:4; stroke-opacity:1; fill:none\" points=\"\n",
       "  1691.36,1521.01 1691.36,1503.51 \n",
       "  \"/>\n",
       "<polyline clip-path=\"url(#clip690)\" style=\"stroke:#000000; stroke-width:4; stroke-opacity:1; fill:none\" points=\"\n",
       "  1841.09,1521.01 1841.09,1503.51 \n",
       "  \"/>\n",
       "<polyline clip-path=\"url(#clip690)\" style=\"stroke:#000000; stroke-width:4; stroke-opacity:1; fill:none\" points=\"\n",
       "  1990.82,1521.01 1990.82,1503.51 \n",
       "  \"/>\n",
       "<polyline clip-path=\"url(#clip690)\" style=\"stroke:#000000; stroke-width:4; stroke-opacity:1; fill:none\" points=\"\n",
       "  2140.55,1521.01 2140.55,1503.51 \n",
       "  \"/>\n",
       "<polyline clip-path=\"url(#clip690)\" style=\"stroke:#000000; stroke-width:4; stroke-opacity:1; fill:none\" points=\"\n",
       "  2290.27,1521.01 2290.27,1503.51 \n",
       "  \"/>\n",
       "<path clip-path=\"url(#clip690)\" d=\"M 0 0 M1370.89 1558.69 L1393.15 1558.69 L1393.15 1561.64 L1370.89 1561.64 L1370.89 1558.69 Z\" fill=\"#000000\" fill-rule=\"evenodd\" fill-opacity=\"1\" /><path clip-path=\"url(#clip690)\" d=\"M 0 0 M1407.58 1557.34 Q1410.09 1557.87 1411.5 1559.58 Q1412.92 1561.28 1412.92 1563.78 Q1412.92 1567.61 1410.29 1569.71 Q1407.65 1571.82 1402.79 1571.82 Q1401.15 1571.82 1399.42 1571.49 Q1397.7 1571.17 1395.86 1570.53 L1395.86 1567.15 Q1397.32 1568 1399.05 1568.43 Q1400.79 1568.86 1402.68 1568.86 Q1405.98 1568.86 1407.7 1567.56 Q1409.43 1566.26 1409.43 1563.78 Q1409.43 1561.49 1407.82 1560.2 Q1406.22 1558.9 1403.36 1558.9 L1400.34 1558.9 L1400.34 1556.02 L1403.5 1556.02 Q1406.08 1556.02 1407.46 1554.99 Q1408.83 1553.95 1408.83 1552.01 Q1408.83 1550.01 1407.4 1548.95 Q1406 1547.87 1403.36 1547.87 Q1401.92 1547.87 1400.27 1548.19 Q1398.62 1548.5 1396.64 1549.16 L1396.64 1546.03 Q1398.64 1545.48 1400.37 1545.2 Q1402.13 1544.92 1403.67 1544.92 Q1407.66 1544.92 1409.99 1546.75 Q1412.32 1548.55 1412.32 1551.64 Q1412.32 1553.79 1411.08 1555.29 Q1409.85 1556.76 1407.58 1557.34 Z\" fill=\"#000000\" fill-rule=\"evenodd\" fill-opacity=\"1\" /><path clip-path=\"url(#clip690)\" d=\"M 0 0 M1520.98 1558.69 L1543.23 1558.69 L1543.23 1561.64 L1520.98 1561.64 L1520.98 1558.69 Z\" fill=\"#000000\" fill-rule=\"evenodd\" fill-opacity=\"1\" /><path clip-path=\"url(#clip690)\" d=\"M 0 0 M1550.06 1568.36 L1562.3 1568.36 L1562.3 1571.31 L1545.84 1571.31 L1545.84 1568.36 Q1547.83 1566.29 1551.27 1562.82 Q1554.73 1559.33 1555.61 1558.33 Q1557.3 1556.43 1557.96 1555.13 Q1558.63 1553.81 1558.63 1552.54 Q1558.63 1550.48 1557.17 1549.18 Q1555.73 1547.87 1553.41 1547.87 Q1551.76 1547.87 1549.92 1548.45 Q1548.09 1549.02 1546.01 1550.18 L1546.01 1546.64 Q1548.13 1545.79 1549.97 1545.36 Q1551.81 1544.92 1553.34 1544.92 Q1557.37 1544.92 1559.76 1546.94 Q1562.16 1548.95 1562.16 1552.32 Q1562.16 1553.92 1561.55 1555.36 Q1560.96 1556.78 1559.38 1558.73 Q1558.95 1559.23 1556.62 1561.64 Q1554.29 1564.04 1550.06 1568.36 Z\" fill=\"#000000\" fill-rule=\"evenodd\" fill-opacity=\"1\" /><path clip-path=\"url(#clip690)\" d=\"M 0 0 M1670.57 1558.69 L1692.82 1558.69 L1692.82 1561.64 L1670.57 1561.64 L1670.57 1558.69 Z\" fill=\"#000000\" fill-rule=\"evenodd\" fill-opacity=\"1\" /><path clip-path=\"url(#clip690)\" d=\"M 0 0 M1697.23 1568.36 L1702.96 1568.36 L1702.96 1548.59 L1696.73 1549.84 L1696.73 1546.64 L1702.93 1545.39 L1706.43 1545.39 L1706.43 1568.36 L1712.16 1568.36 L1712.16 1571.31 L1697.23 1571.31 L1697.23 1568.36 Z\" fill=\"#000000\" fill-rule=\"evenodd\" fill-opacity=\"1\" /><path clip-path=\"url(#clip690)\" d=\"M 0 0 M1841.09 1547.7 Q1838.38 1547.7 1837.01 1550.37 Q1835.66 1553.03 1835.66 1558.38 Q1835.66 1563.71 1837.01 1566.38 Q1838.38 1569.04 1841.09 1569.04 Q1843.82 1569.04 1845.17 1566.38 Q1846.54 1563.71 1846.54 1558.38 Q1846.54 1553.03 1845.17 1550.37 Q1843.82 1547.7 1841.09 1547.7 M1841.09 1544.92 Q1845.45 1544.92 1847.74 1548.38 Q1850.05 1551.82 1850.05 1558.38 Q1850.05 1564.92 1847.74 1568.38 Q1845.45 1571.82 1841.09 1571.82 Q1836.73 1571.82 1834.42 1568.38 Q1832.13 1564.92 1832.13 1558.38 Q1832.13 1551.82 1834.42 1548.38 Q1836.73 1544.92 1841.09 1544.92 Z\" fill=\"#000000\" fill-rule=\"evenodd\" fill-opacity=\"1\" /><path clip-path=\"url(#clip690)\" d=\"M 0 0 M1983.6 1568.36 L1989.33 1568.36 L1989.33 1548.59 L1983.1 1549.84 L1983.1 1546.64 L1989.3 1545.39 L1992.81 1545.39 L1992.81 1568.36 L1998.54 1568.36 L1998.54 1571.31 L1983.6 1571.31 L1983.6 1568.36 Z\" fill=\"#000000\" fill-rule=\"evenodd\" fill-opacity=\"1\" /><path clip-path=\"url(#clip690)\" d=\"M 0 0 M2136.54 1568.36 L2148.77 1568.36 L2148.77 1571.31 L2132.32 1571.31 L2132.32 1568.36 Q2134.31 1566.29 2137.75 1562.82 Q2141.21 1559.33 2142.09 1558.33 Q2143.77 1556.43 2144.43 1555.13 Q2145.11 1553.81 2145.11 1552.54 Q2145.11 1550.48 2143.65 1549.18 Q2142.21 1547.87 2139.89 1547.87 Q2138.24 1547.87 2136.4 1548.45 Q2134.57 1549.02 2132.49 1550.18 L2132.49 1546.64 Q2134.61 1545.79 2136.45 1545.36 Q2138.29 1544.92 2139.82 1544.92 Q2143.84 1544.92 2146.24 1546.94 Q2148.64 1548.95 2148.64 1552.32 Q2148.64 1553.92 2148.03 1555.36 Q2147.44 1556.78 2145.86 1558.73 Q2145.42 1559.23 2143.1 1561.64 Q2140.77 1564.04 2136.54 1568.36 Z\" fill=\"#000000\" fill-rule=\"evenodd\" fill-opacity=\"1\" /><path clip-path=\"url(#clip690)\" d=\"M 0 0 M2293.46 1557.34 Q2295.98 1557.87 2297.38 1559.58 Q2298.81 1561.28 2298.81 1563.78 Q2298.81 1567.61 2296.17 1569.71 Q2293.53 1571.82 2288.67 1571.82 Q2287.04 1571.82 2285.3 1571.49 Q2283.58 1571.17 2281.74 1570.53 L2281.74 1567.15 Q2283.2 1568 2284.93 1568.43 Q2286.67 1568.86 2288.56 1568.86 Q2291.86 1568.86 2293.58 1567.56 Q2295.32 1566.26 2295.32 1563.78 Q2295.32 1561.49 2293.7 1560.2 Q2292.1 1558.9 2289.24 1558.9 L2286.22 1558.9 L2286.22 1556.02 L2289.38 1556.02 Q2291.97 1556.02 2293.34 1554.99 Q2294.71 1553.95 2294.71 1552.01 Q2294.71 1550.01 2293.29 1548.95 Q2291.88 1547.87 2289.24 1547.87 Q2287.8 1547.87 2286.15 1548.19 Q2284.5 1548.5 2282.52 1549.16 L2282.52 1546.03 Q2284.52 1545.48 2286.25 1545.2 Q2288.01 1544.92 2289.55 1544.92 Q2293.55 1544.92 2295.87 1546.75 Q2298.2 1548.55 2298.2 1551.64 Q2298.2 1553.79 2296.97 1555.29 Q2295.73 1556.76 2293.46 1557.34 Z\" fill=\"#000000\" fill-rule=\"evenodd\" fill-opacity=\"1\" /><polyline clip-path=\"url(#clip693)\" style=\"stroke:#000000; stroke-width:2; stroke-opacity:0.1; fill:none\" points=\"\n",
       "  1286.99,1474.87 2352.76,1474.87 \n",
       "  \"/>\n",
       "<polyline clip-path=\"url(#clip693)\" style=\"stroke:#000000; stroke-width:2; stroke-opacity:0.1; fill:none\" points=\"\n",
       "  1286.99,1185.78 2352.76,1185.78 \n",
       "  \"/>\n",
       "<polyline clip-path=\"url(#clip693)\" style=\"stroke:#000000; stroke-width:2; stroke-opacity:0.1; fill:none\" points=\"\n",
       "  1286.99,896.681 2352.76,896.681 \n",
       "  \"/>\n",
       "<polyline clip-path=\"url(#clip693)\" style=\"stroke:#000000; stroke-width:2; stroke-opacity:0.1; fill:none\" points=\"\n",
       "  1286.99,607.586 2352.76,607.586 \n",
       "  \"/>\n",
       "<polyline clip-path=\"url(#clip693)\" style=\"stroke:#000000; stroke-width:2; stroke-opacity:0.1; fill:none\" points=\"\n",
       "  1286.99,318.49 2352.76,318.49 \n",
       "  \"/>\n",
       "<polyline clip-path=\"url(#clip690)\" style=\"stroke:#000000; stroke-width:4; stroke-opacity:1; fill:none\" points=\"\n",
       "  1286.99,1521.01 1286.99,62.9921 \n",
       "  \"/>\n",
       "<polyline clip-path=\"url(#clip690)\" style=\"stroke:#000000; stroke-width:4; stroke-opacity:1; fill:none\" points=\"\n",
       "  1286.99,1474.87 1299.78,1474.87 \n",
       "  \"/>\n",
       "<polyline clip-path=\"url(#clip690)\" style=\"stroke:#000000; stroke-width:4; stroke-opacity:1; fill:none\" points=\"\n",
       "  1286.99,1185.78 1299.78,1185.78 \n",
       "  \"/>\n",
       "<polyline clip-path=\"url(#clip690)\" style=\"stroke:#000000; stroke-width:4; stroke-opacity:1; fill:none\" points=\"\n",
       "  1286.99,896.681 1299.78,896.681 \n",
       "  \"/>\n",
       "<polyline clip-path=\"url(#clip690)\" style=\"stroke:#000000; stroke-width:4; stroke-opacity:1; fill:none\" points=\"\n",
       "  1286.99,607.586 1299.78,607.586 \n",
       "  \"/>\n",
       "<polyline clip-path=\"url(#clip690)\" style=\"stroke:#000000; stroke-width:4; stroke-opacity:1; fill:none\" points=\"\n",
       "  1286.99,318.49 1299.78,318.49 \n",
       "  \"/>\n",
       "<path clip-path=\"url(#clip690)\" d=\"M 0 0 M1158.56 1475.32 L1188.24 1475.32 L1188.24 1479.26 L1158.56 1479.26 L1158.56 1475.32 Z\" fill=\"#000000\" fill-rule=\"evenodd\" fill-opacity=\"1\" /><path clip-path=\"url(#clip690)\" d=\"M 0 0 M1194.12 1488.22 L1201.76 1488.22 L1201.76 1461.85 L1193.45 1463.52 L1193.45 1459.26 L1201.71 1457.59 L1206.39 1457.59 L1206.39 1488.22 L1214.02 1488.22 L1214.02 1492.15 L1194.12 1492.15 L1194.12 1488.22 Z\" fill=\"#000000\" fill-rule=\"evenodd\" fill-opacity=\"1\" /><path clip-path=\"url(#clip690)\" d=\"M 0 0 M1219.09 1486.27 L1223.98 1486.27 L1223.98 1492.15 L1219.09 1492.15 L1219.09 1486.27 Z\" fill=\"#000000\" fill-rule=\"evenodd\" fill-opacity=\"1\" /><path clip-path=\"url(#clip690)\" d=\"M 0 0 M1239.05 1460.67 Q1235.44 1460.67 1233.61 1464.24 Q1231.8 1467.78 1231.8 1474.91 Q1231.8 1482.01 1233.61 1485.58 Q1235.44 1489.12 1239.05 1489.12 Q1242.68 1489.12 1244.49 1485.58 Q1246.32 1482.01 1246.32 1474.91 Q1246.32 1467.78 1244.49 1464.24 Q1242.68 1460.67 1239.05 1460.67 M1239.05 1456.97 Q1244.86 1456.97 1247.91 1461.57 Q1250.99 1466.16 1250.99 1474.91 Q1250.99 1483.63 1247.91 1488.24 Q1244.86 1492.82 1239.05 1492.82 Q1233.24 1492.82 1230.16 1488.24 Q1227.1 1483.63 1227.1 1474.91 Q1227.1 1466.16 1230.16 1461.57 Q1233.24 1456.97 1239.05 1456.97 Z\" fill=\"#000000\" fill-rule=\"evenodd\" fill-opacity=\"1\" /><path clip-path=\"url(#clip690)\" d=\"M 0 0 M1158.33 1186.23 L1188.01 1186.23 L1188.01 1190.16 L1158.33 1190.16 L1158.33 1186.23 Z\" fill=\"#000000\" fill-rule=\"evenodd\" fill-opacity=\"1\" /><path clip-path=\"url(#clip690)\" d=\"M 0 0 M1203.08 1171.58 Q1199.46 1171.58 1197.64 1175.14 Q1195.83 1178.68 1195.83 1185.81 Q1195.83 1192.92 1197.64 1196.48 Q1199.46 1200.02 1203.08 1200.02 Q1206.71 1200.02 1208.52 1196.48 Q1210.34 1192.92 1210.34 1185.81 Q1210.34 1178.68 1208.52 1175.14 Q1206.71 1171.58 1203.08 1171.58 M1203.08 1167.87 Q1208.89 1167.87 1211.94 1172.48 Q1215.02 1177.06 1215.02 1185.81 Q1215.02 1194.54 1211.94 1199.14 Q1208.89 1203.73 1203.08 1203.73 Q1197.27 1203.73 1194.19 1199.14 Q1191.13 1194.54 1191.13 1185.81 Q1191.13 1177.06 1194.19 1172.48 Q1197.27 1167.87 1203.08 1167.87 Z\" fill=\"#000000\" fill-rule=\"evenodd\" fill-opacity=\"1\" /><path clip-path=\"url(#clip690)\" d=\"M 0 0 M1220.09 1197.18 L1224.97 1197.18 L1224.97 1203.06 L1220.09 1203.06 L1220.09 1197.18 Z\" fill=\"#000000\" fill-rule=\"evenodd\" fill-opacity=\"1\" /><path clip-path=\"url(#clip690)\" d=\"M 0 0 M1230.09 1168.5 L1248.45 1168.5 L1248.45 1172.43 L1234.37 1172.43 L1234.37 1180.9 Q1235.39 1180.56 1236.41 1180.39 Q1237.43 1180.21 1238.45 1180.21 Q1244.23 1180.21 1247.61 1183.38 Q1250.99 1186.55 1250.99 1191.97 Q1250.99 1197.55 1247.52 1200.65 Q1244.05 1203.73 1237.73 1203.73 Q1235.55 1203.73 1233.28 1203.36 Q1231.04 1202.99 1228.63 1202.25 L1228.63 1197.55 Q1230.71 1198.68 1232.94 1199.24 Q1235.16 1199.79 1237.64 1199.79 Q1241.64 1199.79 1243.98 1197.69 Q1246.32 1195.58 1246.32 1191.97 Q1246.32 1188.36 1243.98 1186.25 Q1241.64 1184.14 1237.64 1184.14 Q1235.76 1184.14 1233.89 1184.56 Q1232.03 1184.98 1230.09 1185.86 L1230.09 1168.5 Z\" fill=\"#000000\" fill-rule=\"evenodd\" fill-opacity=\"1\" /><path clip-path=\"url(#clip690)\" d=\"M 0 0 M1202.08 882.48 Q1198.47 882.48 1196.64 886.045 Q1194.84 889.586 1194.84 896.716 Q1194.84 903.822 1196.64 907.387 Q1198.47 910.929 1202.08 910.929 Q1205.71 910.929 1207.52 907.387 Q1209.35 903.822 1209.35 896.716 Q1209.35 889.586 1207.52 886.045 Q1205.71 882.48 1202.08 882.48 M1202.08 878.776 Q1207.89 878.776 1210.95 883.383 Q1214.02 887.966 1214.02 896.716 Q1214.02 905.443 1210.95 910.049 Q1207.89 914.633 1202.08 914.633 Q1196.27 914.633 1193.19 910.049 Q1190.14 905.443 1190.14 896.716 Q1190.14 887.966 1193.19 883.383 Q1196.27 878.776 1202.08 878.776 Z\" fill=\"#000000\" fill-rule=\"evenodd\" fill-opacity=\"1\" /><path clip-path=\"url(#clip690)\" d=\"M 0 0 M1219.09 908.082 L1223.98 908.082 L1223.98 913.961 L1219.09 913.961 L1219.09 908.082 Z\" fill=\"#000000\" fill-rule=\"evenodd\" fill-opacity=\"1\" /><path clip-path=\"url(#clip690)\" d=\"M 0 0 M1239.05 882.48 Q1235.44 882.48 1233.61 886.045 Q1231.8 889.586 1231.8 896.716 Q1231.8 903.822 1233.61 907.387 Q1235.44 910.929 1239.05 910.929 Q1242.68 910.929 1244.49 907.387 Q1246.32 903.822 1246.32 896.716 Q1246.32 889.586 1244.49 886.045 Q1242.68 882.48 1239.05 882.48 M1239.05 878.776 Q1244.86 878.776 1247.91 883.383 Q1250.99 887.966 1250.99 896.716 Q1250.99 905.443 1247.91 910.049 Q1244.86 914.633 1239.05 914.633 Q1233.24 914.633 1230.16 910.049 Q1227.1 905.443 1227.1 896.716 Q1227.1 887.966 1230.16 883.383 Q1233.24 878.776 1239.05 878.776 Z\" fill=\"#000000\" fill-rule=\"evenodd\" fill-opacity=\"1\" /><path clip-path=\"url(#clip690)\" d=\"M 0 0 M1203.08 593.384 Q1199.46 593.384 1197.64 596.949 Q1195.83 600.491 1195.83 607.621 Q1195.83 614.727 1197.64 618.292 Q1199.46 621.833 1203.08 621.833 Q1206.71 621.833 1208.52 618.292 Q1210.34 614.727 1210.34 607.621 Q1210.34 600.491 1208.52 596.949 Q1206.71 593.384 1203.08 593.384 M1203.08 589.681 Q1208.89 589.681 1211.94 594.287 Q1215.02 598.871 1215.02 607.621 Q1215.02 616.347 1211.94 620.954 Q1208.89 625.537 1203.08 625.537 Q1197.27 625.537 1194.19 620.954 Q1191.13 616.347 1191.13 607.621 Q1191.13 598.871 1194.19 594.287 Q1197.27 589.681 1203.08 589.681 Z\" fill=\"#000000\" fill-rule=\"evenodd\" fill-opacity=\"1\" /><path clip-path=\"url(#clip690)\" d=\"M 0 0 M1220.09 618.986 L1224.97 618.986 L1224.97 624.866 L1220.09 624.866 L1220.09 618.986 Z\" fill=\"#000000\" fill-rule=\"evenodd\" fill-opacity=\"1\" /><path clip-path=\"url(#clip690)\" d=\"M 0 0 M1230.09 590.306 L1248.45 590.306 L1248.45 594.241 L1234.37 594.241 L1234.37 602.713 Q1235.39 602.366 1236.41 602.204 Q1237.43 602.019 1238.45 602.019 Q1244.23 602.019 1247.61 605.19 Q1250.99 608.361 1250.99 613.778 Q1250.99 619.357 1247.52 622.458 Q1244.05 625.537 1237.73 625.537 Q1235.55 625.537 1233.28 625.167 Q1231.04 624.796 1228.63 624.056 L1228.63 619.357 Q1230.71 620.491 1232.94 621.046 Q1235.16 621.602 1237.64 621.602 Q1241.64 621.602 1243.98 619.495 Q1246.32 617.389 1246.32 613.778 Q1246.32 610.167 1243.98 608.06 Q1241.64 605.954 1237.64 605.954 Q1235.76 605.954 1233.89 606.371 Q1232.03 606.787 1230.09 607.667 L1230.09 590.306 Z\" fill=\"#000000\" fill-rule=\"evenodd\" fill-opacity=\"1\" /><path clip-path=\"url(#clip690)\" d=\"M 0 0 M1194.12 331.835 L1201.76 331.835 L1201.76 305.47 L1193.45 307.136 L1193.45 302.877 L1201.71 301.21 L1206.39 301.21 L1206.39 331.835 L1214.02 331.835 L1214.02 335.77 L1194.12 335.77 L1194.12 331.835 Z\" fill=\"#000000\" fill-rule=\"evenodd\" fill-opacity=\"1\" /><path clip-path=\"url(#clip690)\" d=\"M 0 0 M1219.09 329.891 L1223.98 329.891 L1223.98 335.77 L1219.09 335.77 L1219.09 329.891 Z\" fill=\"#000000\" fill-rule=\"evenodd\" fill-opacity=\"1\" /><path clip-path=\"url(#clip690)\" d=\"M 0 0 M1239.05 304.289 Q1235.44 304.289 1233.61 307.854 Q1231.8 311.395 1231.8 318.525 Q1231.8 325.632 1233.61 329.196 Q1235.44 332.738 1239.05 332.738 Q1242.68 332.738 1244.49 329.196 Q1246.32 325.632 1246.32 318.525 Q1246.32 311.395 1244.49 307.854 Q1242.68 304.289 1239.05 304.289 M1239.05 300.585 Q1244.86 300.585 1247.91 305.192 Q1250.99 309.775 1250.99 318.525 Q1250.99 327.252 1247.91 331.858 Q1244.86 336.442 1239.05 336.442 Q1233.24 336.442 1230.16 331.858 Q1227.1 327.252 1227.1 318.525 Q1227.1 309.775 1230.16 305.192 Q1233.24 300.585 1239.05 300.585 Z\" fill=\"#000000\" fill-rule=\"evenodd\" fill-opacity=\"1\" /><path clip-path=\"url(#clip690)\" d=\"M 0 0 M1610.53 6.912 L1630.4 6.912 L1630.4 10.8472 L1615.21 10.8472 L1615.21 21.0323 L1628.91 21.0323 L1628.91 24.9675 L1615.21 24.9675 L1615.21 41.472 L1610.53 41.472 L1610.53 6.912 Z\" fill=\"#000000\" fill-rule=\"evenodd\" fill-opacity=\"1\" /><path clip-path=\"url(#clip690)\" d=\"M 0 0 M1631.83 31.2406 L1631.83 15.5462 L1636.09 15.5462 L1636.09 31.0785 Q1636.09 34.7591 1637.53 36.6109 Q1638.96 38.4396 1641.83 38.4396 Q1645.28 38.4396 1647.27 36.2405 Q1649.28 34.0415 1649.28 30.2452 L1649.28 15.5462 L1653.54 15.5462 L1653.54 41.472 L1649.28 41.472 L1649.28 37.4905 Q1647.73 39.8516 1645.67 41.009 Q1643.64 42.1433 1640.93 42.1433 Q1636.46 42.1433 1634.15 39.3655 Q1631.83 36.5878 1631.83 31.2406 M1642.55 14.9212 L1642.55 14.9212 Z\" fill=\"#000000\" fill-rule=\"evenodd\" fill-opacity=\"1\" /><path clip-path=\"url(#clip690)\" d=\"M 0 0 M1656.16 15.5462 L1676.39 15.5462 L1676.39 19.4351 L1660.37 38.0692 L1676.39 38.0692 L1676.39 41.472 L1655.58 41.472 L1655.58 37.5831 L1671.6 18.949 L1656.16 18.949 L1656.16 15.5462 Z\" fill=\"#000000\" fill-rule=\"evenodd\" fill-opacity=\"1\" /><path clip-path=\"url(#clip690)\" d=\"M 0 0 M1679.01 15.5462 L1699.24 15.5462 L1699.24 19.4351 L1683.22 38.0692 L1699.24 38.0692 L1699.24 41.472 L1678.43 41.472 L1678.43 37.5831 L1694.45 18.949 L1679.01 18.949 L1679.01 15.5462 Z\" fill=\"#000000\" fill-rule=\"evenodd\" fill-opacity=\"1\" /><path clip-path=\"url(#clip690)\" d=\"M 0 0 M1714.49 43.8794 Q1712.69 48.509 1710.97 49.921 Q1709.26 51.3331 1706.39 51.3331 L1702.99 51.3331 L1702.99 47.7683 L1705.49 47.7683 Q1707.25 47.7683 1708.22 46.9349 Q1709.19 46.1016 1710.37 42.9998 L1711.14 41.0553 L1700.65 15.5462 L1705.16 15.5462 L1713.27 35.8239 L1721.37 15.5462 L1725.88 15.5462 L1714.49 43.8794 Z\" fill=\"#000000\" fill-rule=\"evenodd\" fill-opacity=\"1\" /><path clip-path=\"url(#clip690)\" d=\"M 0 0 M1742.09 11.5185 L1735.74 28.7174 L1748.45 28.7174 L1742.09 11.5185 M1739.45 6.912 L1744.75 6.912 L1757.92 41.472 L1753.06 41.472 L1749.91 32.6063 L1734.33 32.6063 L1731.18 41.472 L1726.25 41.472 L1739.45 6.912 Z\" fill=\"#000000\" fill-rule=\"evenodd\" fill-opacity=\"1\" /><path clip-path=\"url(#clip690)\" d=\"M 0 0 M1778.96 25.2684 Q1780.46 25.7776 1781.88 27.4443 Q1783.31 29.111 1784.75 32.0276 L1789.49 41.472 L1784.47 41.472 L1780.05 32.6063 Q1778.33 29.1341 1776.71 27.9998 Q1775.12 26.8656 1772.34 26.8656 L1767.25 26.8656 L1767.25 41.472 L1762.57 41.472 L1762.57 6.912 L1773.13 6.912 Q1779.05 6.912 1781.97 9.38884 Q1784.89 11.8657 1784.89 16.8657 Q1784.89 20.1295 1783.36 22.2823 Q1781.85 24.4351 1778.96 25.2684 M1767.25 10.7546 L1767.25 23.023 L1773.13 23.023 Q1776.51 23.023 1778.22 21.4721 Q1779.96 19.898 1779.96 16.8657 Q1779.96 13.8333 1778.22 12.3055 Q1776.51 10.7546 1773.13 10.7546 L1767.25 10.7546 Z\" fill=\"#000000\" fill-rule=\"evenodd\" fill-opacity=\"1\" /><path clip-path=\"url(#clip690)\" d=\"M 0 0 M1785.9 6.912 L1815.14 6.912 L1815.14 10.8472 L1802.87 10.8472 L1802.87 41.472 L1798.17 41.472 L1798.17 10.8472 L1785.9 10.8472 L1785.9 6.912 Z\" fill=\"#000000\" fill-rule=\"evenodd\" fill-opacity=\"1\" /><path clip-path=\"url(#clip690)\" d=\"M 0 0 M1849.7 19.5277 Q1848.98 19.111 1848.13 18.9258 Q1847.29 18.7175 1846.27 18.7175 Q1842.66 18.7175 1840.72 21.0786 Q1838.8 23.4165 1838.8 27.8147 L1838.8 41.472 L1834.52 41.472 L1834.52 15.5462 L1838.8 15.5462 L1838.8 19.574 Q1840.14 17.2129 1842.29 16.0786 Q1844.45 14.9212 1847.52 14.9212 Q1847.96 14.9212 1848.5 14.9907 Q1849.03 15.037 1849.68 15.1527 L1849.7 19.5277 Z\" fill=\"#000000\" fill-rule=\"evenodd\" fill-opacity=\"1\" /><path clip-path=\"url(#clip690)\" d=\"M 0 0 M1874.89 25.8239 L1874.89 41.472 L1870.63 41.472 L1870.63 25.9628 Q1870.63 22.2823 1869.19 20.4536 Q1867.76 18.6249 1864.89 18.6249 Q1861.44 18.6249 1859.45 20.824 Q1857.45 23.023 1857.45 26.8193 L1857.45 41.472 L1853.17 41.472 L1853.17 5.45367 L1857.45 5.45367 L1857.45 19.574 Q1858.98 17.236 1861.04 16.0786 Q1863.13 14.9212 1865.83 14.9212 Q1870.3 14.9212 1872.59 17.699 Q1874.89 20.4536 1874.89 25.8239 Z\" fill=\"#000000\" fill-rule=\"evenodd\" fill-opacity=\"1\" /><path clip-path=\"url(#clip690)\" d=\"M 0 0 M1889.4 18.5323 Q1885.97 18.5323 1883.98 21.2175 Q1881.99 23.8795 1881.99 28.5323 Q1881.99 33.185 1883.96 35.8702 Q1885.95 38.5322 1889.4 38.5322 Q1892.8 38.5322 1894.79 35.847 Q1896.78 33.1619 1896.78 28.5323 Q1896.78 23.9258 1894.79 21.2406 Q1892.8 18.5323 1889.4 18.5323 M1889.4 14.9212 Q1894.95 14.9212 1898.13 18.5323 Q1901.3 22.1434 1901.3 28.5323 Q1901.3 34.898 1898.13 38.5322 Q1894.95 42.1433 1889.4 42.1433 Q1883.82 42.1433 1880.65 38.5322 Q1877.5 34.898 1877.5 28.5323 Q1877.5 22.1434 1880.65 18.5323 Q1883.82 14.9212 1889.4 14.9212 Z\" fill=\"#000000\" fill-rule=\"evenodd\" fill-opacity=\"1\" /><path clip-path=\"url(#clip690)\" d=\"M 0 0 M1921.39 19.9443 L1951.07 19.9443 L1951.07 23.8332 L1921.39 23.8332 L1921.39 19.9443 M1921.39 29.3887 L1951.07 29.3887 L1951.07 33.3239 L1921.39 33.3239 L1921.39 29.3887 Z\" fill=\"#000000\" fill-rule=\"evenodd\" fill-opacity=\"1\" /><path clip-path=\"url(#clip690)\" d=\"M 0 0 M1981.2 9.99069 Q1977.59 9.99069 1975.76 13.5555 Q1973.96 17.0971 1973.96 24.2267 Q1973.96 31.3332 1975.76 34.898 Q1977.59 38.4396 1981.2 38.4396 Q1984.84 38.4396 1986.64 34.898 Q1988.47 31.3332 1988.47 24.2267 Q1988.47 17.0971 1986.64 13.5555 Q1984.84 9.99069 1981.2 9.99069 M1981.2 6.287 Q1987.01 6.287 1990.07 10.8935 Q1993.15 15.4768 1993.15 24.2267 Q1993.15 32.9535 1990.07 37.56 Q1987.01 42.1433 1981.2 42.1433 Q1975.39 42.1433 1972.32 37.56 Q1969.26 32.9535 1969.26 24.2267 Q1969.26 15.4768 1972.32 10.8935 Q1975.39 6.287 1981.2 6.287 Z\" fill=\"#000000\" fill-rule=\"evenodd\" fill-opacity=\"1\" /><path clip-path=\"url(#clip690)\" d=\"M 0 0 M1998.22 35.5924 L2003.1 35.5924 L2003.1 41.472 L1998.22 41.472 L1998.22 35.5924 Z\" fill=\"#000000\" fill-rule=\"evenodd\" fill-opacity=\"1\" /><path clip-path=\"url(#clip690)\" d=\"M 0 0 M2006.99 6.912 L2029.21 6.912 L2029.21 8.90273 L2016.67 41.472 L2011.78 41.472 L2023.59 10.8472 L2006.99 10.8472 L2006.99 6.912 Z\" fill=\"#000000\" fill-rule=\"evenodd\" fill-opacity=\"1\" /><circle clip-path=\"url(#clip693)\" cx=\"2268.14\" cy=\"1436.06\" r=\"14\" fill=\"#009af9\" fill-rule=\"evenodd\" fill-opacity=\"1\" stroke=\"#000000\" stroke-opacity=\"1\" stroke-width=\"3.2\"/>\n",
       "<circle clip-path=\"url(#clip693)\" cx=\"2247.66\" cy=\"994.717\" r=\"14\" fill=\"#009af9\" fill-rule=\"evenodd\" fill-opacity=\"1\" stroke=\"#000000\" stroke-opacity=\"1\" stroke-width=\"3.2\"/>\n",
       "<circle clip-path=\"url(#clip693)\" cx=\"2193.87\" cy=\"914.726\" r=\"14\" fill=\"#009af9\" fill-rule=\"evenodd\" fill-opacity=\"1\" stroke=\"#000000\" stroke-opacity=\"1\" stroke-width=\"3.2\"/>\n",
       "<circle clip-path=\"url(#clip693)\" cx=\"2221.8\" cy=\"557.699\" r=\"14\" fill=\"#009af9\" fill-rule=\"evenodd\" fill-opacity=\"1\" stroke=\"#000000\" stroke-opacity=\"1\" stroke-width=\"3.2\"/>\n",
       "<circle clip-path=\"url(#clip693)\" cx=\"2221.88\" cy=\"642.259\" r=\"14\" fill=\"#009af9\" fill-rule=\"evenodd\" fill-opacity=\"1\" stroke=\"#000000\" stroke-opacity=\"1\" stroke-width=\"3.2\"/>\n",
       "<circle clip-path=\"url(#clip693)\" cx=\"2263.46\" cy=\"944.153\" r=\"14\" fill=\"#009af9\" fill-rule=\"evenodd\" fill-opacity=\"1\" stroke=\"#000000\" stroke-opacity=\"1\" stroke-width=\"3.2\"/>\n",
       "<circle clip-path=\"url(#clip693)\" cx=\"2182.45\" cy=\"464.32\" r=\"14\" fill=\"#009af9\" fill-rule=\"evenodd\" fill-opacity=\"1\" stroke=\"#000000\" stroke-opacity=\"1\" stroke-width=\"3.2\"/>\n",
       "<circle clip-path=\"url(#clip693)\" cx=\"2241.44\" cy=\"958.369\" r=\"14\" fill=\"#009af9\" fill-rule=\"evenodd\" fill-opacity=\"1\" stroke=\"#000000\" stroke-opacity=\"1\" stroke-width=\"3.2\"/>\n",
       "<circle clip-path=\"url(#clip693)\" cx=\"2241.44\" cy=\"958.369\" r=\"14\" fill=\"#009af9\" fill-rule=\"evenodd\" fill-opacity=\"1\" stroke=\"#000000\" stroke-opacity=\"1\" stroke-width=\"3.2\"/>\n",
       "<circle clip-path=\"url(#clip693)\" cx=\"2234.35\" cy=\"798.154\" r=\"14\" fill=\"#009af9\" fill-rule=\"evenodd\" fill-opacity=\"1\" stroke=\"#000000\" stroke-opacity=\"1\" stroke-width=\"3.2\"/>\n",
       "<circle clip-path=\"url(#clip693)\" cx=\"2322.59\" cy=\"814.8\" r=\"14\" fill=\"#009af9\" fill-rule=\"evenodd\" fill-opacity=\"1\" stroke=\"#000000\" stroke-opacity=\"1\" stroke-width=\"3.2\"/>\n",
       "<circle clip-path=\"url(#clip693)\" cx=\"2249.64\" cy=\"703.609\" r=\"14\" fill=\"#009af9\" fill-rule=\"evenodd\" fill-opacity=\"1\" stroke=\"#000000\" stroke-opacity=\"1\" stroke-width=\"3.2\"/>\n",
       "<circle clip-path=\"url(#clip693)\" cx=\"2228.93\" cy=\"760.194\" r=\"14\" fill=\"#009af9\" fill-rule=\"evenodd\" fill-opacity=\"1\" stroke=\"#000000\" stroke-opacity=\"1\" stroke-width=\"3.2\"/>\n",
       "<circle clip-path=\"url(#clip693)\" cx=\"2245.94\" cy=\"830.183\" r=\"14\" fill=\"#009af9\" fill-rule=\"evenodd\" fill-opacity=\"1\" stroke=\"#000000\" stroke-opacity=\"1\" stroke-width=\"3.2\"/>\n",
       "<circle clip-path=\"url(#clip693)\" cx=\"2237.62\" cy=\"712.159\" r=\"14\" fill=\"#009af9\" fill-rule=\"evenodd\" fill-opacity=\"1\" stroke=\"#000000\" stroke-opacity=\"1\" stroke-width=\"3.2\"/>\n",
       "<circle clip-path=\"url(#clip693)\" cx=\"1977.11\" cy=\"1331.23\" r=\"14\" fill=\"#e26f46\" fill-rule=\"evenodd\" fill-opacity=\"1\" stroke=\"#000000\" stroke-opacity=\"1\" stroke-width=\"3.2\"/>\n",
       "<circle clip-path=\"url(#clip693)\" cx=\"1745.01\" cy=\"885.654\" r=\"14\" fill=\"#e26f46\" fill-rule=\"evenodd\" fill-opacity=\"1\" stroke=\"#000000\" stroke-opacity=\"1\" stroke-width=\"3.2\"/>\n",
       "<circle clip-path=\"url(#clip693)\" cx=\"1753.16\" cy=\"1176.11\" r=\"14\" fill=\"#e26f46\" fill-rule=\"evenodd\" fill-opacity=\"1\" stroke=\"#000000\" stroke-opacity=\"1\" stroke-width=\"3.2\"/>\n",
       "<circle clip-path=\"url(#clip693)\" cx=\"1946.96\" cy=\"1479.74\" r=\"14\" fill=\"#e26f46\" fill-rule=\"evenodd\" fill-opacity=\"1\" stroke=\"#000000\" stroke-opacity=\"1\" stroke-width=\"3.2\"/>\n",
       "<circle clip-path=\"url(#clip693)\" cx=\"1834.62\" cy=\"1232.89\" r=\"14\" fill=\"#e26f46\" fill-rule=\"evenodd\" fill-opacity=\"1\" stroke=\"#000000\" stroke-opacity=\"1\" stroke-width=\"3.2\"/>\n",
       "<circle clip-path=\"url(#clip693)\" cx=\"1719.38\" cy=\"1111\" r=\"14\" fill=\"#e26f46\" fill-rule=\"evenodd\" fill-opacity=\"1\" stroke=\"#000000\" stroke-opacity=\"1\" stroke-width=\"3.2\"/>\n",
       "<circle clip-path=\"url(#clip693)\" cx=\"1814\" cy=\"1374.04\" r=\"14\" fill=\"#e26f46\" fill-rule=\"evenodd\" fill-opacity=\"1\" stroke=\"#000000\" stroke-opacity=\"1\" stroke-width=\"3.2\"/>\n",
       "<circle clip-path=\"url(#clip693)\" cx=\"1693.75\" cy=\"968.585\" r=\"14\" fill=\"#e26f46\" fill-rule=\"evenodd\" fill-opacity=\"1\" stroke=\"#000000\" stroke-opacity=\"1\" stroke-width=\"3.2\"/>\n",
       "<circle clip-path=\"url(#clip693)\" cx=\"1806.82\" cy=\"1129.26\" r=\"14\" fill=\"#e26f46\" fill-rule=\"evenodd\" fill-opacity=\"1\" stroke=\"#000000\" stroke-opacity=\"1\" stroke-width=\"3.2\"/>\n",
       "<circle clip-path=\"url(#clip693)\" cx=\"1734.18\" cy=\"809.733\" r=\"14\" fill=\"#e26f46\" fill-rule=\"evenodd\" fill-opacity=\"1\" stroke=\"#000000\" stroke-opacity=\"1\" stroke-width=\"3.2\"/>\n",
       "<circle clip-path=\"url(#clip693)\" cx=\"1641.8\" cy=\"755.216\" r=\"14\" fill=\"#e26f46\" fill-rule=\"evenodd\" fill-opacity=\"1\" stroke=\"#000000\" stroke-opacity=\"1\" stroke-width=\"3.2\"/>\n",
       "<circle clip-path=\"url(#clip693)\" cx=\"1646.7\" cy=\"1336.69\" r=\"14\" fill=\"#e26f46\" fill-rule=\"evenodd\" fill-opacity=\"1\" stroke=\"#000000\" stroke-opacity=\"1\" stroke-width=\"3.2\"/>\n",
       "<circle clip-path=\"url(#clip693)\" cx=\"1707.81\" cy=\"916.231\" r=\"14\" fill=\"#e26f46\" fill-rule=\"evenodd\" fill-opacity=\"1\" stroke=\"#000000\" stroke-opacity=\"1\" stroke-width=\"3.2\"/>\n",
       "<circle clip-path=\"url(#clip693)\" cx=\"1720.23\" cy=\"783.903\" r=\"14\" fill=\"#e26f46\" fill-rule=\"evenodd\" fill-opacity=\"1\" stroke=\"#000000\" stroke-opacity=\"1\" stroke-width=\"3.2\"/>\n",
       "<circle clip-path=\"url(#clip693)\" cx=\"1706.39\" cy=\"706.103\" r=\"14\" fill=\"#e26f46\" fill-rule=\"evenodd\" fill-opacity=\"1\" stroke=\"#000000\" stroke-opacity=\"1\" stroke-width=\"3.2\"/>\n",
       "<circle clip-path=\"url(#clip693)\" cx=\"1317.16\" cy=\"632.579\" r=\"14\" fill=\"#3da44d\" fill-rule=\"evenodd\" fill-opacity=\"1\" stroke=\"#000000\" stroke-opacity=\"1\" stroke-width=\"3.2\"/>\n",
       "<circle clip-path=\"url(#clip693)\" cx=\"1519.93\" cy=\"816.367\" r=\"14\" fill=\"#3da44d\" fill-rule=\"evenodd\" fill-opacity=\"1\" stroke=\"#000000\" stroke-opacity=\"1\" stroke-width=\"3.2\"/>\n",
       "<circle clip-path=\"url(#clip693)\" cx=\"1380.45\" cy=\"500.178\" r=\"14\" fill=\"#3da44d\" fill-rule=\"evenodd\" fill-opacity=\"1\" stroke=\"#000000\" stroke-opacity=\"1\" stroke-width=\"3.2\"/>\n",
       "<circle clip-path=\"url(#clip693)\" cx=\"1634.66\" cy=\"1140.22\" r=\"14\" fill=\"#3da44d\" fill-rule=\"evenodd\" fill-opacity=\"1\" stroke=\"#000000\" stroke-opacity=\"1\" stroke-width=\"3.2\"/>\n",
       "<circle clip-path=\"url(#clip693)\" cx=\"1629.37\" cy=\"1229.1\" r=\"14\" fill=\"#3da44d\" fill-rule=\"evenodd\" fill-opacity=\"1\" stroke=\"#000000\" stroke-opacity=\"1\" stroke-width=\"3.2\"/>\n",
       "<circle clip-path=\"url(#clip693)\" cx=\"1546.01\" cy=\"1001.41\" r=\"14\" fill=\"#3da44d\" fill-rule=\"evenodd\" fill-opacity=\"1\" stroke=\"#000000\" stroke-opacity=\"1\" stroke-width=\"3.2\"/>\n",
       "<circle clip-path=\"url(#clip693)\" cx=\"1555.9\" cy=\"827.981\" r=\"14\" fill=\"#3da44d\" fill-rule=\"evenodd\" fill-opacity=\"1\" stroke=\"#000000\" stroke-opacity=\"1\" stroke-width=\"3.2\"/>\n",
       "<circle clip-path=\"url(#clip693)\" cx=\"1553.25\" cy=\"660.044\" r=\"14\" fill=\"#3da44d\" fill-rule=\"evenodd\" fill-opacity=\"1\" stroke=\"#000000\" stroke-opacity=\"1\" stroke-width=\"3.2\"/>\n",
       "<circle clip-path=\"url(#clip693)\" cx=\"1357.12\" cy=\"104.257\" r=\"14\" fill=\"#3da44d\" fill-rule=\"evenodd\" fill-opacity=\"1\" stroke=\"#000000\" stroke-opacity=\"1\" stroke-width=\"3.2\"/>\n",
       "<circle clip-path=\"url(#clip693)\" cx=\"1592.25\" cy=\"756.737\" r=\"14\" fill=\"#3da44d\" fill-rule=\"evenodd\" fill-opacity=\"1\" stroke=\"#000000\" stroke-opacity=\"1\" stroke-width=\"3.2\"/>\n",
       "<circle clip-path=\"url(#clip693)\" cx=\"1629.37\" cy=\"1229.1\" r=\"14\" fill=\"#3da44d\" fill-rule=\"evenodd\" fill-opacity=\"1\" stroke=\"#000000\" stroke-opacity=\"1\" stroke-width=\"3.2\"/>\n",
       "<circle clip-path=\"url(#clip693)\" cx=\"1647.84\" cy=\"963.997\" r=\"14\" fill=\"#3da44d\" fill-rule=\"evenodd\" fill-opacity=\"1\" stroke=\"#000000\" stroke-opacity=\"1\" stroke-width=\"3.2\"/>\n",
       "<circle clip-path=\"url(#clip693)\" cx=\"1576.97\" cy=\"851.282\" r=\"14\" fill=\"#3da44d\" fill-rule=\"evenodd\" fill-opacity=\"1\" stroke=\"#000000\" stroke-opacity=\"1\" stroke-width=\"3.2\"/>\n",
       "<circle clip-path=\"url(#clip693)\" cx=\"1549.24\" cy=\"873.131\" r=\"14\" fill=\"#3da44d\" fill-rule=\"evenodd\" fill-opacity=\"1\" stroke=\"#000000\" stroke-opacity=\"1\" stroke-width=\"3.2\"/>\n",
       "<circle clip-path=\"url(#clip693)\" cx=\"1652.79\" cy=\"1000.26\" r=\"14\" fill=\"#3da44d\" fill-rule=\"evenodd\" fill-opacity=\"1\" stroke=\"#000000\" stroke-opacity=\"1\" stroke-width=\"3.2\"/>\n",
       "</svg>\n"
      ],
      "image/svg+xml": [
       "<?xml version=\"1.0\" encoding=\"utf-8\"?>\n",
       "<svg xmlns=\"http://www.w3.org/2000/svg\" xmlns:xlink=\"http://www.w3.org/1999/xlink\" width=\"600\" height=\"400\" viewBox=\"0 0 2400 1600\">\n",
       "<defs>\n",
       "  <clipPath id=\"clip660\">\n",
       "    <rect x=\"0\" y=\"0\" width=\"2400\" height=\"1600\"/>\n",
       "  </clipPath>\n",
       "</defs>\n",
       "<path clip-path=\"url(#clip660)\" d=\"\n",
       "M0 1600 L2400 1600 L2400 0 L0 0  Z\n",
       "  \" fill=\"#ffffff\" fill-rule=\"evenodd\" fill-opacity=\"1\"/>\n",
       "<defs>\n",
       "  <clipPath id=\"clip661\">\n",
       "    <rect x=\"480\" y=\"0\" width=\"1681\" height=\"1600\"/>\n",
       "  </clipPath>\n",
       "</defs>\n",
       "<path clip-path=\"url(#clip660)\" d=\"\n",
       "M86.9921 1521.01 L1152.76 1521.01 L1152.76 62.9921 L86.9921 62.9921  Z\n",
       "  \" fill=\"#ffffff\" fill-rule=\"evenodd\" fill-opacity=\"1\"/>\n",
       "<defs>\n",
       "  <clipPath id=\"clip662\">\n",
       "    <rect x=\"86\" y=\"62\" width=\"1067\" height=\"1459\"/>\n",
       "  </clipPath>\n",
       "</defs>\n",
       "<polyline clip-path=\"url(#clip662)\" style=\"stroke:#000000; stroke-width:2; stroke-opacity:0.1; fill:none\" points=\"\n",
       "  191.909,1521.01 191.909,62.9921 \n",
       "  \"/>\n",
       "<polyline clip-path=\"url(#clip662)\" style=\"stroke:#000000; stroke-width:2; stroke-opacity:0.1; fill:none\" points=\"\n",
       "  341.636,1521.01 341.636,62.9921 \n",
       "  \"/>\n",
       "<polyline clip-path=\"url(#clip662)\" style=\"stroke:#000000; stroke-width:2; stroke-opacity:0.1; fill:none\" points=\"\n",
       "  491.364,1521.01 491.364,62.9921 \n",
       "  \"/>\n",
       "<polyline clip-path=\"url(#clip662)\" style=\"stroke:#000000; stroke-width:2; stroke-opacity:0.1; fill:none\" points=\"\n",
       "  641.091,1521.01 641.091,62.9921 \n",
       "  \"/>\n",
       "<polyline clip-path=\"url(#clip662)\" style=\"stroke:#000000; stroke-width:2; stroke-opacity:0.1; fill:none\" points=\"\n",
       "  790.818,1521.01 790.818,62.9921 \n",
       "  \"/>\n",
       "<polyline clip-path=\"url(#clip662)\" style=\"stroke:#000000; stroke-width:2; stroke-opacity:0.1; fill:none\" points=\"\n",
       "  940.546,1521.01 940.546,62.9921 \n",
       "  \"/>\n",
       "<polyline clip-path=\"url(#clip662)\" style=\"stroke:#000000; stroke-width:2; stroke-opacity:0.1; fill:none\" points=\"\n",
       "  1090.27,1521.01 1090.27,62.9921 \n",
       "  \"/>\n",
       "<polyline clip-path=\"url(#clip660)\" style=\"stroke:#000000; stroke-width:4; stroke-opacity:1; fill:none\" points=\"\n",
       "  86.9921,1521.01 1152.76,1521.01 \n",
       "  \"/>\n",
       "<polyline clip-path=\"url(#clip660)\" style=\"stroke:#000000; stroke-width:4; stroke-opacity:1; fill:none\" points=\"\n",
       "  191.909,1521.01 191.909,1503.51 \n",
       "  \"/>\n",
       "<polyline clip-path=\"url(#clip660)\" style=\"stroke:#000000; stroke-width:4; stroke-opacity:1; fill:none\" points=\"\n",
       "  341.636,1521.01 341.636,1503.51 \n",
       "  \"/>\n",
       "<polyline clip-path=\"url(#clip660)\" style=\"stroke:#000000; stroke-width:4; stroke-opacity:1; fill:none\" points=\"\n",
       "  491.364,1521.01 491.364,1503.51 \n",
       "  \"/>\n",
       "<polyline clip-path=\"url(#clip660)\" style=\"stroke:#000000; stroke-width:4; stroke-opacity:1; fill:none\" points=\"\n",
       "  641.091,1521.01 641.091,1503.51 \n",
       "  \"/>\n",
       "<polyline clip-path=\"url(#clip660)\" style=\"stroke:#000000; stroke-width:4; stroke-opacity:1; fill:none\" points=\"\n",
       "  790.818,1521.01 790.818,1503.51 \n",
       "  \"/>\n",
       "<polyline clip-path=\"url(#clip660)\" style=\"stroke:#000000; stroke-width:4; stroke-opacity:1; fill:none\" points=\"\n",
       "  940.546,1521.01 940.546,1503.51 \n",
       "  \"/>\n",
       "<polyline clip-path=\"url(#clip660)\" style=\"stroke:#000000; stroke-width:4; stroke-opacity:1; fill:none\" points=\"\n",
       "  1090.27,1521.01 1090.27,1503.51 \n",
       "  \"/>\n",
       "<path clip-path=\"url(#clip660)\" d=\"M 0 0 M170.893 1558.69 L193.15 1558.69 L193.15 1561.64 L170.893 1561.64 L170.893 1558.69 Z\" fill=\"#000000\" fill-rule=\"evenodd\" fill-opacity=\"1\" /><path clip-path=\"url(#clip660)\" d=\"M 0 0 M207.577 1557.34 Q210.095 1557.87 211.501 1559.58 Q212.924 1561.28 212.924 1563.78 Q212.924 1567.61 210.286 1569.71 Q207.647 1571.82 202.786 1571.82 Q201.154 1571.82 199.418 1571.49 Q197.699 1571.17 195.859 1570.53 L195.859 1567.15 Q197.317 1568 199.053 1568.43 Q200.789 1568.86 202.681 1568.86 Q205.98 1568.86 207.699 1567.56 Q209.435 1566.26 209.435 1563.78 Q209.435 1561.49 207.82 1560.2 Q206.223 1558.9 203.359 1558.9 L200.338 1558.9 L200.338 1556.02 L203.497 1556.02 Q206.084 1556.02 207.456 1554.99 Q208.827 1553.95 208.827 1552.01 Q208.827 1550.01 207.404 1548.95 Q205.997 1547.87 203.359 1547.87 Q201.918 1547.87 200.268 1548.19 Q198.619 1548.5 196.64 1549.16 L196.64 1546.03 Q198.636 1545.48 200.372 1545.2 Q202.126 1544.92 203.671 1544.92 Q207.664 1544.92 209.99 1546.75 Q212.317 1548.55 212.317 1551.64 Q212.317 1553.79 211.084 1555.29 Q209.852 1556.76 207.577 1557.34 Z\" fill=\"#000000\" fill-rule=\"evenodd\" fill-opacity=\"1\" /><path clip-path=\"url(#clip660)\" d=\"M 0 0 M320.977 1558.69 L343.233 1558.69 L343.233 1561.64 L320.977 1561.64 L320.977 1558.69 Z\" fill=\"#000000\" fill-rule=\"evenodd\" fill-opacity=\"1\" /><path clip-path=\"url(#clip660)\" d=\"M 0 0 M350.056 1568.36 L362.296 1568.36 L362.296 1571.31 L345.838 1571.31 L345.838 1568.36 Q347.834 1566.29 351.272 1562.82 Q354.726 1559.33 355.612 1558.33 Q357.296 1556.43 357.956 1555.13 Q358.633 1553.81 358.633 1552.54 Q358.633 1550.48 357.174 1549.18 Q355.733 1547.87 353.407 1547.87 Q351.758 1547.87 349.917 1548.45 Q348.095 1549.02 346.011 1550.18 L346.011 1546.64 Q348.129 1545.79 349.97 1545.36 Q351.81 1544.92 353.338 1544.92 Q357.365 1544.92 359.761 1546.94 Q362.157 1548.95 362.157 1552.32 Q362.157 1553.92 361.549 1555.36 Q360.959 1556.78 359.379 1558.73 Q358.945 1559.23 356.619 1561.64 Q354.292 1564.04 350.056 1568.36 Z\" fill=\"#000000\" fill-rule=\"evenodd\" fill-opacity=\"1\" /><path clip-path=\"url(#clip660)\" d=\"M 0 0 M470.565 1558.69 L492.822 1558.69 L492.822 1561.64 L470.565 1561.64 L470.565 1558.69 Z\" fill=\"#000000\" fill-rule=\"evenodd\" fill-opacity=\"1\" /><path clip-path=\"url(#clip660)\" d=\"M 0 0 M497.232 1568.36 L502.961 1568.36 L502.961 1548.59 L496.728 1549.84 L496.728 1546.64 L502.926 1545.39 L506.433 1545.39 L506.433 1568.36 L512.162 1568.36 L512.162 1571.31 L497.232 1571.31 L497.232 1568.36 Z\" fill=\"#000000\" fill-rule=\"evenodd\" fill-opacity=\"1\" /><path clip-path=\"url(#clip660)\" d=\"M 0 0 M641.091 1547.7 Q638.383 1547.7 637.011 1550.37 Q635.657 1553.03 635.657 1558.38 Q635.657 1563.71 637.011 1566.38 Q638.383 1569.04 641.091 1569.04 Q643.817 1569.04 645.171 1566.38 Q646.542 1563.71 646.542 1558.38 Q646.542 1553.03 645.171 1550.37 Q643.817 1547.7 641.091 1547.7 M641.091 1544.92 Q645.449 1544.92 647.74 1548.38 Q650.049 1551.82 650.049 1558.38 Q650.049 1564.92 647.74 1568.38 Q645.449 1571.82 641.091 1571.82 Q636.733 1571.82 634.424 1568.38 Q632.133 1564.92 632.133 1558.38 Q632.133 1551.82 634.424 1548.38 Q636.733 1544.92 641.091 1544.92 Z\" fill=\"#000000\" fill-rule=\"evenodd\" fill-opacity=\"1\" /><path clip-path=\"url(#clip660)\" d=\"M 0 0 M783.605 1568.36 L789.334 1568.36 L789.334 1548.59 L783.101 1549.84 L783.101 1546.64 L789.299 1545.39 L792.806 1545.39 L792.806 1568.36 L798.535 1568.36 L798.535 1571.31 L783.605 1571.31 L783.605 1568.36 Z\" fill=\"#000000\" fill-rule=\"evenodd\" fill-opacity=\"1\" /><path clip-path=\"url(#clip660)\" d=\"M 0 0 M936.535 1568.36 L948.775 1568.36 L948.775 1571.31 L932.317 1571.31 L932.317 1568.36 Q934.313 1566.29 937.751 1562.82 Q941.205 1559.33 942.091 1558.33 Q943.775 1556.43 944.435 1555.13 Q945.112 1553.81 945.112 1552.54 Q945.112 1550.48 943.653 1549.18 Q942.212 1547.87 939.886 1547.87 Q938.237 1547.87 936.396 1548.45 Q934.573 1549.02 932.49 1550.18 L932.49 1546.64 Q934.608 1545.79 936.448 1545.36 Q938.289 1544.92 939.816 1544.92 Q943.844 1544.92 946.24 1546.94 Q948.636 1548.95 948.636 1552.32 Q948.636 1553.92 948.028 1555.36 Q947.438 1556.78 945.858 1558.73 Q945.424 1559.23 943.098 1561.64 Q940.771 1564.04 936.535 1568.36 Z\" fill=\"#000000\" fill-rule=\"evenodd\" fill-opacity=\"1\" /><path clip-path=\"url(#clip660)\" d=\"M 0 0 M1093.46 1557.34 Q1095.98 1557.87 1097.38 1559.58 Q1098.81 1561.28 1098.81 1563.78 Q1098.81 1567.61 1096.17 1569.71 Q1093.53 1571.82 1088.67 1571.82 Q1087.04 1571.82 1085.3 1571.49 Q1083.58 1571.17 1081.74 1570.53 L1081.74 1567.15 Q1083.2 1568 1084.93 1568.43 Q1086.67 1568.86 1088.56 1568.86 Q1091.86 1568.86 1093.58 1567.56 Q1095.32 1566.26 1095.32 1563.78 Q1095.32 1561.49 1093.7 1560.2 Q1092.1 1558.9 1089.24 1558.9 L1086.22 1558.9 L1086.22 1556.02 L1089.38 1556.02 Q1091.97 1556.02 1093.34 1554.99 Q1094.71 1553.95 1094.71 1552.01 Q1094.71 1550.01 1093.29 1548.95 Q1091.88 1547.87 1089.24 1547.87 Q1087.8 1547.87 1086.15 1548.19 Q1084.5 1548.5 1082.52 1549.16 L1082.52 1546.03 Q1084.52 1545.48 1086.25 1545.2 Q1088.01 1544.92 1089.55 1544.92 Q1093.55 1544.92 1095.87 1546.75 Q1098.2 1548.55 1098.2 1551.64 Q1098.2 1553.79 1096.97 1555.29 Q1095.73 1556.76 1093.46 1557.34 Z\" fill=\"#000000\" fill-rule=\"evenodd\" fill-opacity=\"1\" /><polyline clip-path=\"url(#clip662)\" style=\"stroke:#000000; stroke-width:2; stroke-opacity:0.1; fill:none\" points=\"\n",
       "  86.9921,1474.87 1152.76,1474.87 \n",
       "  \"/>\n",
       "<polyline clip-path=\"url(#clip662)\" style=\"stroke:#000000; stroke-width:2; stroke-opacity:0.1; fill:none\" points=\"\n",
       "  86.9921,1185.78 1152.76,1185.78 \n",
       "  \"/>\n",
       "<polyline clip-path=\"url(#clip662)\" style=\"stroke:#000000; stroke-width:2; stroke-opacity:0.1; fill:none\" points=\"\n",
       "  86.9921,896.681 1152.76,896.681 \n",
       "  \"/>\n",
       "<polyline clip-path=\"url(#clip662)\" style=\"stroke:#000000; stroke-width:2; stroke-opacity:0.1; fill:none\" points=\"\n",
       "  86.9921,607.586 1152.76,607.586 \n",
       "  \"/>\n",
       "<polyline clip-path=\"url(#clip662)\" style=\"stroke:#000000; stroke-width:2; stroke-opacity:0.1; fill:none\" points=\"\n",
       "  86.9921,318.49 1152.76,318.49 \n",
       "  \"/>\n",
       "<polyline clip-path=\"url(#clip660)\" style=\"stroke:#000000; stroke-width:4; stroke-opacity:1; fill:none\" points=\"\n",
       "  86.9921,1521.01 86.9921,62.9921 \n",
       "  \"/>\n",
       "<polyline clip-path=\"url(#clip660)\" style=\"stroke:#000000; stroke-width:4; stroke-opacity:1; fill:none\" points=\"\n",
       "  86.9921,1474.87 99.7813,1474.87 \n",
       "  \"/>\n",
       "<polyline clip-path=\"url(#clip660)\" style=\"stroke:#000000; stroke-width:4; stroke-opacity:1; fill:none\" points=\"\n",
       "  86.9921,1185.78 99.7813,1185.78 \n",
       "  \"/>\n",
       "<polyline clip-path=\"url(#clip660)\" style=\"stroke:#000000; stroke-width:4; stroke-opacity:1; fill:none\" points=\"\n",
       "  86.9921,896.681 99.7813,896.681 \n",
       "  \"/>\n",
       "<polyline clip-path=\"url(#clip660)\" style=\"stroke:#000000; stroke-width:4; stroke-opacity:1; fill:none\" points=\"\n",
       "  86.9921,607.586 99.7813,607.586 \n",
       "  \"/>\n",
       "<polyline clip-path=\"url(#clip660)\" style=\"stroke:#000000; stroke-width:4; stroke-opacity:1; fill:none\" points=\"\n",
       "  86.9921,318.49 99.7813,318.49 \n",
       "  \"/>\n",
       "<path clip-path=\"url(#clip660)\" d=\"M 0 0 M-41.4379 1475.32 L-11.7622 1475.32 L-11.7622 1479.26 L-41.4379 1479.26 L-41.4379 1475.32 Z\" fill=\"#000000\" fill-rule=\"evenodd\" fill-opacity=\"1\" /><path clip-path=\"url(#clip660)\" d=\"M 0 0 M-5.88257 1488.22 L1.75628 1488.22 L1.75628 1461.85 L-6.55386 1463.52 L-6.55386 1459.26 L1.70998 1457.59 L6.38588 1457.59 L6.38588 1488.22 L14.0247 1488.22 L14.0247 1492.15 L-5.88257 1492.15 L-5.88257 1488.22 Z\" fill=\"#000000\" fill-rule=\"evenodd\" fill-opacity=\"1\" /><path clip-path=\"url(#clip660)\" d=\"M 0 0 M19.0941 1486.27 L23.9784 1486.27 L23.9784 1492.15 L19.0941 1492.15 L19.0941 1486.27 Z\" fill=\"#000000\" fill-rule=\"evenodd\" fill-opacity=\"1\" /><path clip-path=\"url(#clip660)\" d=\"M 0 0 M39.0477 1460.67 Q35.4367 1460.67 33.608 1464.24 Q31.8024 1467.78 31.8024 1474.91 Q31.8024 1482.01 33.608 1485.58 Q35.4367 1489.12 39.0477 1489.12 Q42.682 1489.12 44.4875 1485.58 Q46.3162 1482.01 46.3162 1474.91 Q46.3162 1467.78 44.4875 1464.24 Q42.682 1460.67 39.0477 1460.67 M39.0477 1456.97 Q44.8579 1456.97 47.9134 1461.57 Q50.9921 1466.16 50.9921 1474.91 Q50.9921 1483.63 47.9134 1488.24 Q44.8579 1492.82 39.0477 1492.82 Q33.2376 1492.82 30.1589 1488.24 Q27.1034 1483.63 27.1034 1474.91 Q27.1034 1466.16 30.1589 1461.57 Q33.2376 1456.97 39.0477 1456.97 Z\" fill=\"#000000\" fill-rule=\"evenodd\" fill-opacity=\"1\" /><path clip-path=\"url(#clip660)\" d=\"M 0 0 M-41.6694 1186.23 L-11.9936 1186.23 L-11.9936 1190.16 L-41.6694 1190.16 L-41.6694 1186.23 Z\" fill=\"#000000\" fill-rule=\"evenodd\" fill-opacity=\"1\" /><path clip-path=\"url(#clip660)\" d=\"M 0 0 M3.07572 1171.58 Q-0.535376 1171.58 -2.36407 1175.14 Q-4.16962 1178.68 -4.16962 1185.81 Q-4.16962 1192.92 -2.36407 1196.48 Q-0.535376 1200.02 3.07572 1200.02 Q6.70996 1200.02 8.5155 1196.48 Q10.3442 1192.92 10.3442 1185.81 Q10.3442 1178.68 8.5155 1175.14 Q6.70996 1171.58 3.07572 1171.58 M3.07572 1167.87 Q8.88587 1167.87 11.9414 1172.48 Q15.0201 1177.06 15.0201 1185.81 Q15.0201 1194.54 11.9414 1199.14 Q8.88587 1203.73 3.07572 1203.73 Q-2.73444 1203.73 -5.81313 1199.14 Q-8.86866 1194.54 -8.86866 1185.81 Q-8.86866 1177.06 -5.81313 1172.48 Q-2.73444 1167.87 3.07572 1167.87 Z\" fill=\"#000000\" fill-rule=\"evenodd\" fill-opacity=\"1\" /><path clip-path=\"url(#clip660)\" d=\"M 0 0 M20.0895 1197.18 L24.9737 1197.18 L24.9737 1203.06 L20.0895 1203.06 L20.0895 1197.18 Z\" fill=\"#000000\" fill-rule=\"evenodd\" fill-opacity=\"1\" /><path clip-path=\"url(#clip660)\" d=\"M 0 0 M30.0895 1168.5 L48.4458 1168.5 L48.4458 1172.43 L34.3718 1172.43 L34.3718 1180.9 Q35.3904 1180.56 36.4089 1180.39 Q37.4274 1180.21 38.4459 1180.21 Q44.2329 1180.21 47.6125 1183.38 Q50.9921 1186.55 50.9921 1191.97 Q50.9921 1197.55 47.5199 1200.65 Q44.0477 1203.73 37.7283 1203.73 Q35.5524 1203.73 33.2839 1203.36 Q31.0385 1202.99 28.6311 1202.25 L28.6311 1197.55 Q30.7145 1198.68 32.9367 1199.24 Q35.1589 1199.79 37.6357 1199.79 Q41.6403 1199.79 43.9783 1197.69 Q46.3162 1195.58 46.3162 1191.97 Q46.3162 1188.36 43.9783 1186.25 Q41.6403 1184.14 37.6357 1184.14 Q35.7607 1184.14 33.8857 1184.56 Q32.0339 1184.98 30.0895 1185.86 L30.0895 1168.5 Z\" fill=\"#000000\" fill-rule=\"evenodd\" fill-opacity=\"1\" /><path clip-path=\"url(#clip660)\" d=\"M 0 0 M2.08035 882.48 Q-1.53074 882.48 -3.35943 886.045 Q-5.16498 889.586 -5.16498 896.716 Q-5.16498 903.822 -3.35943 907.387 Q-1.53074 910.929 2.08035 910.929 Q5.71459 910.929 7.52014 907.387 Q9.34883 903.822 9.34883 896.716 Q9.34883 889.586 7.52014 886.045 Q5.71459 882.48 2.08035 882.48 M2.08035 878.776 Q7.89051 878.776 10.946 883.383 Q14.0247 887.966 14.0247 896.716 Q14.0247 905.443 10.946 910.049 Q7.89051 914.633 2.08035 914.633 Q-3.7298 914.633 -6.80849 910.049 Q-9.86403 905.443 -9.86403 896.716 Q-9.86403 887.966 -6.80849 883.383 Q-3.7298 878.776 2.08035 878.776 Z\" fill=\"#000000\" fill-rule=\"evenodd\" fill-opacity=\"1\" /><path clip-path=\"url(#clip660)\" d=\"M 0 0 M19.0941 908.082 L23.9784 908.082 L23.9784 913.961 L19.0941 913.961 L19.0941 908.082 Z\" fill=\"#000000\" fill-rule=\"evenodd\" fill-opacity=\"1\" /><path clip-path=\"url(#clip660)\" d=\"M 0 0 M39.0477 882.48 Q35.4367 882.48 33.608 886.045 Q31.8024 889.586 31.8024 896.716 Q31.8024 903.822 33.608 907.387 Q35.4367 910.929 39.0477 910.929 Q42.682 910.929 44.4875 907.387 Q46.3162 903.822 46.3162 896.716 Q46.3162 889.586 44.4875 886.045 Q42.682 882.48 39.0477 882.48 M39.0477 878.776 Q44.8579 878.776 47.9134 883.383 Q50.9921 887.966 50.9921 896.716 Q50.9921 905.443 47.9134 910.049 Q44.8579 914.633 39.0477 914.633 Q33.2376 914.633 30.1589 910.049 Q27.1034 905.443 27.1034 896.716 Q27.1034 887.966 30.1589 883.383 Q33.2376 878.776 39.0477 878.776 Z\" fill=\"#000000\" fill-rule=\"evenodd\" fill-opacity=\"1\" /><path clip-path=\"url(#clip660)\" d=\"M 0 0 M3.07572 593.384 Q-0.535376 593.384 -2.36407 596.949 Q-4.16962 600.491 -4.16962 607.621 Q-4.16962 614.727 -2.36407 618.292 Q-0.535376 621.833 3.07572 621.833 Q6.70996 621.833 8.5155 618.292 Q10.3442 614.727 10.3442 607.621 Q10.3442 600.491 8.5155 596.949 Q6.70996 593.384 3.07572 593.384 M3.07572 589.681 Q8.88587 589.681 11.9414 594.287 Q15.0201 598.871 15.0201 607.621 Q15.0201 616.347 11.9414 620.954 Q8.88587 625.537 3.07572 625.537 Q-2.73444 625.537 -5.81313 620.954 Q-8.86866 616.347 -8.86866 607.621 Q-8.86866 598.871 -5.81313 594.287 Q-2.73444 589.681 3.07572 589.681 Z\" fill=\"#000000\" fill-rule=\"evenodd\" fill-opacity=\"1\" /><path clip-path=\"url(#clip660)\" d=\"M 0 0 M20.0895 618.986 L24.9737 618.986 L24.9737 624.866 L20.0895 624.866 L20.0895 618.986 Z\" fill=\"#000000\" fill-rule=\"evenodd\" fill-opacity=\"1\" /><path clip-path=\"url(#clip660)\" d=\"M 0 0 M30.0895 590.306 L48.4458 590.306 L48.4458 594.241 L34.3718 594.241 L34.3718 602.713 Q35.3904 602.366 36.4089 602.204 Q37.4274 602.019 38.4459 602.019 Q44.2329 602.019 47.6125 605.19 Q50.9921 608.361 50.9921 613.778 Q50.9921 619.357 47.5199 622.458 Q44.0477 625.537 37.7283 625.537 Q35.5524 625.537 33.2839 625.167 Q31.0385 624.796 28.6311 624.056 L28.6311 619.357 Q30.7145 620.491 32.9367 621.046 Q35.1589 621.602 37.6357 621.602 Q41.6403 621.602 43.9783 619.495 Q46.3162 617.389 46.3162 613.778 Q46.3162 610.167 43.9783 608.06 Q41.6403 605.954 37.6357 605.954 Q35.7607 605.954 33.8857 606.371 Q32.0339 606.787 30.0895 607.667 L30.0895 590.306 Z\" fill=\"#000000\" fill-rule=\"evenodd\" fill-opacity=\"1\" /><path clip-path=\"url(#clip660)\" d=\"M 0 0 M-5.88257 331.835 L1.75628 331.835 L1.75628 305.47 L-6.55386 307.136 L-6.55386 302.877 L1.70998 301.21 L6.38588 301.21 L6.38588 331.835 L14.0247 331.835 L14.0247 335.77 L-5.88257 335.77 L-5.88257 331.835 Z\" fill=\"#000000\" fill-rule=\"evenodd\" fill-opacity=\"1\" /><path clip-path=\"url(#clip660)\" d=\"M 0 0 M19.0941 329.891 L23.9784 329.891 L23.9784 335.77 L19.0941 335.77 L19.0941 329.891 Z\" fill=\"#000000\" fill-rule=\"evenodd\" fill-opacity=\"1\" /><path clip-path=\"url(#clip660)\" d=\"M 0 0 M39.0477 304.289 Q35.4367 304.289 33.608 307.854 Q31.8024 311.395 31.8024 318.525 Q31.8024 325.632 33.608 329.196 Q35.4367 332.738 39.0477 332.738 Q42.682 332.738 44.4875 329.196 Q46.3162 325.632 46.3162 318.525 Q46.3162 311.395 44.4875 307.854 Q42.682 304.289 39.0477 304.289 M39.0477 300.585 Q44.8579 300.585 47.9134 305.192 Q50.9921 309.775 50.9921 318.525 Q50.9921 327.252 47.9134 331.858 Q44.8579 336.442 39.0477 336.442 Q33.2376 336.442 30.1589 331.858 Q27.1034 327.252 27.1034 318.525 Q27.1034 309.775 30.1589 305.192 Q33.2376 300.585 39.0477 300.585 Z\" fill=\"#000000\" fill-rule=\"evenodd\" fill-opacity=\"1\" /><path clip-path=\"url(#clip660)\" d=\"M 0 0 M410.581 6.912 L430.442 6.912 L430.442 10.8472 L415.257 10.8472 L415.257 21.0323 L428.961 21.0323 L428.961 24.9675 L415.257 24.9675 L415.257 41.472 L410.581 41.472 L410.581 6.912 Z\" fill=\"#000000\" fill-rule=\"evenodd\" fill-opacity=\"1\" /><path clip-path=\"url(#clip660)\" d=\"M 0 0 M431.877 31.2406 L431.877 15.5462 L436.137 15.5462 L436.137 31.0785 Q436.137 34.7591 437.572 36.6109 Q439.007 38.4396 441.877 38.4396 Q445.326 38.4396 447.317 36.2405 Q449.331 34.0415 449.331 30.2452 L449.331 15.5462 L453.59 15.5462 L453.59 41.472 L449.331 41.472 L449.331 37.4905 Q447.78 39.8516 445.72 41.009 Q443.683 42.1433 440.975 42.1433 Q436.507 42.1433 434.192 39.3655 Q431.877 36.5878 431.877 31.2406 M442.595 14.9212 L442.595 14.9212 Z\" fill=\"#000000\" fill-rule=\"evenodd\" fill-opacity=\"1\" /><path clip-path=\"url(#clip660)\" d=\"M 0 0 M456.206 15.5462 L476.437 15.5462 L476.437 19.4351 L460.419 38.0692 L476.437 38.0692 L476.437 41.472 L455.627 41.472 L455.627 37.5831 L471.646 18.949 L456.206 18.949 L456.206 15.5462 Z\" fill=\"#000000\" fill-rule=\"evenodd\" fill-opacity=\"1\" /><path clip-path=\"url(#clip660)\" d=\"M 0 0 M479.053 15.5462 L499.284 15.5462 L499.284 19.4351 L483.266 38.0692 L499.284 38.0692 L499.284 41.472 L478.474 41.472 L478.474 37.5831 L494.493 18.949 L479.053 18.949 L479.053 15.5462 Z\" fill=\"#000000\" fill-rule=\"evenodd\" fill-opacity=\"1\" /><path clip-path=\"url(#clip660)\" d=\"M 0 0 M514.539 43.8794 Q512.733 48.509 511.02 49.921 Q509.307 51.3331 506.437 51.3331 L503.034 51.3331 L503.034 47.7683 L505.534 47.7683 Q507.294 47.7683 508.266 46.9349 Q509.238 46.1016 510.419 42.9998 L511.182 41.0553 L500.696 15.5462 L505.21 15.5462 L513.312 35.8239 L521.414 15.5462 L525.928 15.5462 L514.539 43.8794 Z\" fill=\"#000000\" fill-rule=\"evenodd\" fill-opacity=\"1\" /><path clip-path=\"url(#clip660)\" d=\"M 0 0 M542.131 11.5185 L535.789 28.7174 L548.497 28.7174 L542.131 11.5185 M539.493 6.912 L544.793 6.912 L557.965 41.472 L553.104 41.472 L549.955 32.6063 L534.377 32.6063 L531.229 41.472 L526.298 41.472 L539.493 6.912 Z\" fill=\"#000000\" fill-rule=\"evenodd\" fill-opacity=\"1\" /><path clip-path=\"url(#clip660)\" d=\"M 0 0 M579.006 25.2684 Q580.511 25.7776 581.923 27.4443 Q583.358 29.111 584.793 32.0276 L589.539 41.472 L584.515 41.472 L580.094 32.6063 Q578.381 29.1341 576.761 27.9998 Q575.164 26.8656 572.386 26.8656 L567.293 26.8656 L567.293 41.472 L562.617 41.472 L562.617 6.912 L573.173 6.912 Q579.099 6.912 582.015 9.38884 Q584.932 11.8657 584.932 16.8657 Q584.932 20.1295 583.404 22.2823 Q581.9 24.4351 579.006 25.2684 M567.293 10.7546 L567.293 23.023 L573.173 23.023 Q576.552 23.023 578.265 21.4721 Q580.002 19.898 580.002 16.8657 Q580.002 13.8333 578.265 12.3055 Q576.552 10.7546 573.173 10.7546 L567.293 10.7546 Z\" fill=\"#000000\" fill-rule=\"evenodd\" fill-opacity=\"1\" /><path clip-path=\"url(#clip660)\" d=\"M 0 0 M585.951 6.912 L615.187 6.912 L615.187 10.8472 L602.918 10.8472 L602.918 41.472 L598.219 41.472 L598.219 10.8472 L585.951 10.8472 L585.951 6.912 Z\" fill=\"#000000\" fill-rule=\"evenodd\" fill-opacity=\"1\" /><path clip-path=\"url(#clip660)\" d=\"M 0 0 M649.747 19.5277 Q649.029 19.111 648.172 18.9258 Q647.339 18.7175 646.321 18.7175 Q642.71 18.7175 640.765 21.0786 Q638.844 23.4165 638.844 27.8147 L638.844 41.472 L634.561 41.472 L634.561 15.5462 L638.844 15.5462 L638.844 19.574 Q640.186 17.2129 642.339 16.0786 Q644.492 14.9212 647.571 14.9212 Q648.01 14.9212 648.543 14.9907 Q649.075 15.037 649.723 15.1527 L649.747 19.5277 Z\" fill=\"#000000\" fill-rule=\"evenodd\" fill-opacity=\"1\" /><path clip-path=\"url(#clip660)\" d=\"M 0 0 M674.932 25.8239 L674.932 41.472 L670.672 41.472 L670.672 25.9628 Q670.672 22.2823 669.237 20.4536 Q667.802 18.6249 664.932 18.6249 Q661.483 18.6249 659.492 20.824 Q657.501 23.023 657.501 26.8193 L657.501 41.472 L653.219 41.472 L653.219 5.45367 L657.501 5.45367 L657.501 19.574 Q659.029 17.236 661.089 16.0786 Q663.172 14.9212 665.881 14.9212 Q670.348 14.9212 672.64 17.699 Q674.932 20.4536 674.932 25.8239 Z\" fill=\"#000000\" fill-rule=\"evenodd\" fill-opacity=\"1\" /><path clip-path=\"url(#clip660)\" d=\"M 0 0 M689.445 18.5323 Q686.019 18.5323 684.029 21.2175 Q682.038 23.8795 682.038 28.5323 Q682.038 33.185 684.006 35.8702 Q685.996 38.5322 689.445 38.5322 Q692.848 38.5322 694.839 35.847 Q696.83 33.1619 696.83 28.5323 Q696.83 23.9258 694.839 21.2406 Q692.848 18.5323 689.445 18.5323 M689.445 14.9212 Q695.001 14.9212 698.172 18.5323 Q701.343 22.1434 701.343 28.5323 Q701.343 34.898 698.172 38.5322 Q695.001 42.1433 689.445 42.1433 Q683.867 42.1433 680.695 38.5322 Q677.547 34.898 677.547 28.5323 Q677.547 22.1434 680.695 18.5323 Q683.867 14.9212 689.445 14.9212 Z\" fill=\"#000000\" fill-rule=\"evenodd\" fill-opacity=\"1\" /><path clip-path=\"url(#clip660)\" d=\"M 0 0 M721.436 19.9443 L751.112 19.9443 L751.112 23.8332 L721.436 23.8332 L721.436 19.9443 M721.436 29.3887 L751.112 29.3887 L751.112 33.3239 L721.436 33.3239 L721.436 29.3887 Z\" fill=\"#000000\" fill-rule=\"evenodd\" fill-opacity=\"1\" /><path clip-path=\"url(#clip660)\" d=\"M 0 0 M781.25 9.99069 Q777.639 9.99069 775.811 13.5555 Q774.005 17.0971 774.005 24.2267 Q774.005 31.3332 775.811 34.898 Q777.639 38.4396 781.25 38.4396 Q784.885 38.4396 786.69 34.898 Q788.519 31.3332 788.519 24.2267 Q788.519 17.0971 786.69 13.5555 Q784.885 9.99069 781.25 9.99069 M781.25 6.287 Q787.061 6.287 790.116 10.8935 Q793.195 15.4768 793.195 24.2267 Q793.195 32.9535 790.116 37.56 Q787.061 42.1433 781.25 42.1433 Q775.44 42.1433 772.362 37.56 Q769.306 32.9535 769.306 24.2267 Q769.306 15.4768 772.362 10.8935 Q775.44 6.287 781.25 6.287 Z\" fill=\"#000000\" fill-rule=\"evenodd\" fill-opacity=\"1\" /><path clip-path=\"url(#clip660)\" d=\"M 0 0 M798.264 35.5924 L803.148 35.5924 L803.148 41.472 L798.264 41.472 L798.264 35.5924 Z\" fill=\"#000000\" fill-rule=\"evenodd\" fill-opacity=\"1\" /><path clip-path=\"url(#clip660)\" d=\"M 0 0 M808.264 6.912 L826.621 6.912 L826.621 10.8472 L812.547 10.8472 L812.547 19.3193 Q813.565 18.9721 814.584 18.8101 Q815.602 18.6249 816.621 18.6249 Q822.408 18.6249 825.787 21.7962 Q829.167 24.9675 829.167 30.3841 Q829.167 35.9628 825.695 39.0646 Q822.222 42.1433 815.903 42.1433 Q813.727 42.1433 811.459 41.7729 Q809.213 41.4026 806.806 40.6618 L806.806 35.9628 Q808.889 37.097 811.111 37.6526 Q813.334 38.2081 815.81 38.2081 Q819.815 38.2081 822.153 36.1017 Q824.491 33.9952 824.491 30.3841 Q824.491 26.773 822.153 24.6665 Q819.815 22.5601 815.81 22.5601 Q813.935 22.5601 812.06 22.9767 Q810.209 23.3934 808.264 24.273 L808.264 6.912 Z\" fill=\"#000000\" fill-rule=\"evenodd\" fill-opacity=\"1\" /><circle clip-path=\"url(#clip662)\" cx=\"1068.14\" cy=\"1436.06\" r=\"14\" fill=\"#009af9\" fill-rule=\"evenodd\" fill-opacity=\"1\" stroke=\"#000000\" stroke-opacity=\"1\" stroke-width=\"3.2\"/>\n",
       "<circle clip-path=\"url(#clip662)\" cx=\"1047.66\" cy=\"994.717\" r=\"14\" fill=\"#009af9\" fill-rule=\"evenodd\" fill-opacity=\"1\" stroke=\"#000000\" stroke-opacity=\"1\" stroke-width=\"3.2\"/>\n",
       "<circle clip-path=\"url(#clip662)\" cx=\"993.874\" cy=\"914.726\" r=\"14\" fill=\"#009af9\" fill-rule=\"evenodd\" fill-opacity=\"1\" stroke=\"#000000\" stroke-opacity=\"1\" stroke-width=\"3.2\"/>\n",
       "<circle clip-path=\"url(#clip662)\" cx=\"1021.8\" cy=\"557.699\" r=\"14\" fill=\"#009af9\" fill-rule=\"evenodd\" fill-opacity=\"1\" stroke=\"#000000\" stroke-opacity=\"1\" stroke-width=\"3.2\"/>\n",
       "<circle clip-path=\"url(#clip662)\" cx=\"1021.88\" cy=\"642.259\" r=\"14\" fill=\"#009af9\" fill-rule=\"evenodd\" fill-opacity=\"1\" stroke=\"#000000\" stroke-opacity=\"1\" stroke-width=\"3.2\"/>\n",
       "<circle clip-path=\"url(#clip662)\" cx=\"1063.46\" cy=\"944.153\" r=\"14\" fill=\"#009af9\" fill-rule=\"evenodd\" fill-opacity=\"1\" stroke=\"#000000\" stroke-opacity=\"1\" stroke-width=\"3.2\"/>\n",
       "<circle clip-path=\"url(#clip662)\" cx=\"982.454\" cy=\"464.32\" r=\"14\" fill=\"#009af9\" fill-rule=\"evenodd\" fill-opacity=\"1\" stroke=\"#000000\" stroke-opacity=\"1\" stroke-width=\"3.2\"/>\n",
       "<circle clip-path=\"url(#clip662)\" cx=\"1041.44\" cy=\"958.369\" r=\"14\" fill=\"#009af9\" fill-rule=\"evenodd\" fill-opacity=\"1\" stroke=\"#000000\" stroke-opacity=\"1\" stroke-width=\"3.2\"/>\n",
       "<circle clip-path=\"url(#clip662)\" cx=\"1041.44\" cy=\"958.369\" r=\"14\" fill=\"#009af9\" fill-rule=\"evenodd\" fill-opacity=\"1\" stroke=\"#000000\" stroke-opacity=\"1\" stroke-width=\"3.2\"/>\n",
       "<circle clip-path=\"url(#clip662)\" cx=\"1034.35\" cy=\"798.154\" r=\"14\" fill=\"#009af9\" fill-rule=\"evenodd\" fill-opacity=\"1\" stroke=\"#000000\" stroke-opacity=\"1\" stroke-width=\"3.2\"/>\n",
       "<circle clip-path=\"url(#clip662)\" cx=\"1122.59\" cy=\"814.8\" r=\"14\" fill=\"#009af9\" fill-rule=\"evenodd\" fill-opacity=\"1\" stroke=\"#000000\" stroke-opacity=\"1\" stroke-width=\"3.2\"/>\n",
       "<circle clip-path=\"url(#clip662)\" cx=\"1049.64\" cy=\"703.609\" r=\"14\" fill=\"#009af9\" fill-rule=\"evenodd\" fill-opacity=\"1\" stroke=\"#000000\" stroke-opacity=\"1\" stroke-width=\"3.2\"/>\n",
       "<circle clip-path=\"url(#clip662)\" cx=\"1028.93\" cy=\"760.194\" r=\"14\" fill=\"#009af9\" fill-rule=\"evenodd\" fill-opacity=\"1\" stroke=\"#000000\" stroke-opacity=\"1\" stroke-width=\"3.2\"/>\n",
       "<circle clip-path=\"url(#clip662)\" cx=\"1045.94\" cy=\"830.183\" r=\"14\" fill=\"#009af9\" fill-rule=\"evenodd\" fill-opacity=\"1\" stroke=\"#000000\" stroke-opacity=\"1\" stroke-width=\"3.2\"/>\n",
       "<circle clip-path=\"url(#clip662)\" cx=\"1037.62\" cy=\"712.159\" r=\"14\" fill=\"#009af9\" fill-rule=\"evenodd\" fill-opacity=\"1\" stroke=\"#000000\" stroke-opacity=\"1\" stroke-width=\"3.2\"/>\n",
       "<circle clip-path=\"url(#clip662)\" cx=\"777.113\" cy=\"1331.23\" r=\"14\" fill=\"#e26f46\" fill-rule=\"evenodd\" fill-opacity=\"1\" stroke=\"#000000\" stroke-opacity=\"1\" stroke-width=\"3.2\"/>\n",
       "<circle clip-path=\"url(#clip662)\" cx=\"545.012\" cy=\"885.654\" r=\"14\" fill=\"#e26f46\" fill-rule=\"evenodd\" fill-opacity=\"1\" stroke=\"#000000\" stroke-opacity=\"1\" stroke-width=\"3.2\"/>\n",
       "<circle clip-path=\"url(#clip662)\" cx=\"553.16\" cy=\"1176.11\" r=\"14\" fill=\"#e26f46\" fill-rule=\"evenodd\" fill-opacity=\"1\" stroke=\"#000000\" stroke-opacity=\"1\" stroke-width=\"3.2\"/>\n",
       "<circle clip-path=\"url(#clip662)\" cx=\"746.96\" cy=\"1479.74\" r=\"14\" fill=\"#e26f46\" fill-rule=\"evenodd\" fill-opacity=\"1\" stroke=\"#000000\" stroke-opacity=\"1\" stroke-width=\"3.2\"/>\n",
       "<circle clip-path=\"url(#clip662)\" cx=\"634.616\" cy=\"1232.89\" r=\"14\" fill=\"#e26f46\" fill-rule=\"evenodd\" fill-opacity=\"1\" stroke=\"#000000\" stroke-opacity=\"1\" stroke-width=\"3.2\"/>\n",
       "<circle clip-path=\"url(#clip662)\" cx=\"519.382\" cy=\"1111\" r=\"14\" fill=\"#e26f46\" fill-rule=\"evenodd\" fill-opacity=\"1\" stroke=\"#000000\" stroke-opacity=\"1\" stroke-width=\"3.2\"/>\n",
       "<circle clip-path=\"url(#clip662)\" cx=\"613.995\" cy=\"1374.04\" r=\"14\" fill=\"#e26f46\" fill-rule=\"evenodd\" fill-opacity=\"1\" stroke=\"#000000\" stroke-opacity=\"1\" stroke-width=\"3.2\"/>\n",
       "<circle clip-path=\"url(#clip662)\" cx=\"493.753\" cy=\"968.585\" r=\"14\" fill=\"#e26f46\" fill-rule=\"evenodd\" fill-opacity=\"1\" stroke=\"#000000\" stroke-opacity=\"1\" stroke-width=\"3.2\"/>\n",
       "<circle clip-path=\"url(#clip662)\" cx=\"606.822\" cy=\"1129.26\" r=\"14\" fill=\"#e26f46\" fill-rule=\"evenodd\" fill-opacity=\"1\" stroke=\"#000000\" stroke-opacity=\"1\" stroke-width=\"3.2\"/>\n",
       "<circle clip-path=\"url(#clip662)\" cx=\"534.184\" cy=\"809.733\" r=\"14\" fill=\"#e26f46\" fill-rule=\"evenodd\" fill-opacity=\"1\" stroke=\"#000000\" stroke-opacity=\"1\" stroke-width=\"3.2\"/>\n",
       "<circle clip-path=\"url(#clip662)\" cx=\"441.798\" cy=\"755.216\" r=\"14\" fill=\"#e26f46\" fill-rule=\"evenodd\" fill-opacity=\"1\" stroke=\"#000000\" stroke-opacity=\"1\" stroke-width=\"3.2\"/>\n",
       "<circle clip-path=\"url(#clip662)\" cx=\"446.695\" cy=\"1336.69\" r=\"14\" fill=\"#e26f46\" fill-rule=\"evenodd\" fill-opacity=\"1\" stroke=\"#000000\" stroke-opacity=\"1\" stroke-width=\"3.2\"/>\n",
       "<circle clip-path=\"url(#clip662)\" cx=\"507.81\" cy=\"916.231\" r=\"14\" fill=\"#e26f46\" fill-rule=\"evenodd\" fill-opacity=\"1\" stroke=\"#000000\" stroke-opacity=\"1\" stroke-width=\"3.2\"/>\n",
       "<circle clip-path=\"url(#clip662)\" cx=\"520.23\" cy=\"783.903\" r=\"14\" fill=\"#e26f46\" fill-rule=\"evenodd\" fill-opacity=\"1\" stroke=\"#000000\" stroke-opacity=\"1\" stroke-width=\"3.2\"/>\n",
       "<circle clip-path=\"url(#clip662)\" cx=\"506.39\" cy=\"706.103\" r=\"14\" fill=\"#e26f46\" fill-rule=\"evenodd\" fill-opacity=\"1\" stroke=\"#000000\" stroke-opacity=\"1\" stroke-width=\"3.2\"/>\n",
       "<circle clip-path=\"url(#clip662)\" cx=\"117.155\" cy=\"632.579\" r=\"14\" fill=\"#3da44d\" fill-rule=\"evenodd\" fill-opacity=\"1\" stroke=\"#000000\" stroke-opacity=\"1\" stroke-width=\"3.2\"/>\n",
       "<circle clip-path=\"url(#clip662)\" cx=\"319.928\" cy=\"816.367\" r=\"14\" fill=\"#3da44d\" fill-rule=\"evenodd\" fill-opacity=\"1\" stroke=\"#000000\" stroke-opacity=\"1\" stroke-width=\"3.2\"/>\n",
       "<circle clip-path=\"url(#clip662)\" cx=\"180.452\" cy=\"500.178\" r=\"14\" fill=\"#3da44d\" fill-rule=\"evenodd\" fill-opacity=\"1\" stroke=\"#000000\" stroke-opacity=\"1\" stroke-width=\"3.2\"/>\n",
       "<circle clip-path=\"url(#clip662)\" cx=\"434.656\" cy=\"1140.22\" r=\"14\" fill=\"#3da44d\" fill-rule=\"evenodd\" fill-opacity=\"1\" stroke=\"#000000\" stroke-opacity=\"1\" stroke-width=\"3.2\"/>\n",
       "<circle clip-path=\"url(#clip662)\" cx=\"429.366\" cy=\"1229.1\" r=\"14\" fill=\"#3da44d\" fill-rule=\"evenodd\" fill-opacity=\"1\" stroke=\"#000000\" stroke-opacity=\"1\" stroke-width=\"3.2\"/>\n",
       "<circle clip-path=\"url(#clip662)\" cx=\"346.006\" cy=\"1001.41\" r=\"14\" fill=\"#3da44d\" fill-rule=\"evenodd\" fill-opacity=\"1\" stroke=\"#000000\" stroke-opacity=\"1\" stroke-width=\"3.2\"/>\n",
       "<circle clip-path=\"url(#clip662)\" cx=\"355.899\" cy=\"827.981\" r=\"14\" fill=\"#3da44d\" fill-rule=\"evenodd\" fill-opacity=\"1\" stroke=\"#000000\" stroke-opacity=\"1\" stroke-width=\"3.2\"/>\n",
       "<circle clip-path=\"url(#clip662)\" cx=\"353.248\" cy=\"660.044\" r=\"14\" fill=\"#3da44d\" fill-rule=\"evenodd\" fill-opacity=\"1\" stroke=\"#000000\" stroke-opacity=\"1\" stroke-width=\"3.2\"/>\n",
       "<circle clip-path=\"url(#clip662)\" cx=\"157.121\" cy=\"104.257\" r=\"14\" fill=\"#3da44d\" fill-rule=\"evenodd\" fill-opacity=\"1\" stroke=\"#000000\" stroke-opacity=\"1\" stroke-width=\"3.2\"/>\n",
       "<circle clip-path=\"url(#clip662)\" cx=\"392.254\" cy=\"756.737\" r=\"14\" fill=\"#3da44d\" fill-rule=\"evenodd\" fill-opacity=\"1\" stroke=\"#000000\" stroke-opacity=\"1\" stroke-width=\"3.2\"/>\n",
       "<circle clip-path=\"url(#clip662)\" cx=\"429.366\" cy=\"1229.1\" r=\"14\" fill=\"#3da44d\" fill-rule=\"evenodd\" fill-opacity=\"1\" stroke=\"#000000\" stroke-opacity=\"1\" stroke-width=\"3.2\"/>\n",
       "<circle clip-path=\"url(#clip662)\" cx=\"447.842\" cy=\"963.997\" r=\"14\" fill=\"#3da44d\" fill-rule=\"evenodd\" fill-opacity=\"1\" stroke=\"#000000\" stroke-opacity=\"1\" stroke-width=\"3.2\"/>\n",
       "<circle clip-path=\"url(#clip662)\" cx=\"376.965\" cy=\"851.282\" r=\"14\" fill=\"#3da44d\" fill-rule=\"evenodd\" fill-opacity=\"1\" stroke=\"#000000\" stroke-opacity=\"1\" stroke-width=\"3.2\"/>\n",
       "<circle clip-path=\"url(#clip662)\" cx=\"349.235\" cy=\"873.131\" r=\"14\" fill=\"#3da44d\" fill-rule=\"evenodd\" fill-opacity=\"1\" stroke=\"#000000\" stroke-opacity=\"1\" stroke-width=\"3.2\"/>\n",
       "<circle clip-path=\"url(#clip662)\" cx=\"452.79\" cy=\"1000.26\" r=\"14\" fill=\"#3da44d\" fill-rule=\"evenodd\" fill-opacity=\"1\" stroke=\"#000000\" stroke-opacity=\"1\" stroke-width=\"3.2\"/>\n",
       "<path clip-path=\"url(#clip660)\" d=\"\n",
       "M1286.99 1521.01 L2352.76 1521.01 L2352.76 62.9921 L1286.99 62.9921  Z\n",
       "  \" fill=\"#ffffff\" fill-rule=\"evenodd\" fill-opacity=\"1\"/>\n",
       "<defs>\n",
       "  <clipPath id=\"clip663\">\n",
       "    <rect x=\"1286\" y=\"62\" width=\"1067\" height=\"1459\"/>\n",
       "  </clipPath>\n",
       "</defs>\n",
       "<polyline clip-path=\"url(#clip663)\" style=\"stroke:#000000; stroke-width:2; stroke-opacity:0.1; fill:none\" points=\"\n",
       "  1391.91,1521.01 1391.91,62.9921 \n",
       "  \"/>\n",
       "<polyline clip-path=\"url(#clip663)\" style=\"stroke:#000000; stroke-width:2; stroke-opacity:0.1; fill:none\" points=\"\n",
       "  1541.64,1521.01 1541.64,62.9921 \n",
       "  \"/>\n",
       "<polyline clip-path=\"url(#clip663)\" style=\"stroke:#000000; stroke-width:2; stroke-opacity:0.1; fill:none\" points=\"\n",
       "  1691.36,1521.01 1691.36,62.9921 \n",
       "  \"/>\n",
       "<polyline clip-path=\"url(#clip663)\" style=\"stroke:#000000; stroke-width:2; stroke-opacity:0.1; fill:none\" points=\"\n",
       "  1841.09,1521.01 1841.09,62.9921 \n",
       "  \"/>\n",
       "<polyline clip-path=\"url(#clip663)\" style=\"stroke:#000000; stroke-width:2; stroke-opacity:0.1; fill:none\" points=\"\n",
       "  1990.82,1521.01 1990.82,62.9921 \n",
       "  \"/>\n",
       "<polyline clip-path=\"url(#clip663)\" style=\"stroke:#000000; stroke-width:2; stroke-opacity:0.1; fill:none\" points=\"\n",
       "  2140.55,1521.01 2140.55,62.9921 \n",
       "  \"/>\n",
       "<polyline clip-path=\"url(#clip663)\" style=\"stroke:#000000; stroke-width:2; stroke-opacity:0.1; fill:none\" points=\"\n",
       "  2290.27,1521.01 2290.27,62.9921 \n",
       "  \"/>\n",
       "<polyline clip-path=\"url(#clip660)\" style=\"stroke:#000000; stroke-width:4; stroke-opacity:1; fill:none\" points=\"\n",
       "  1286.99,1521.01 2352.76,1521.01 \n",
       "  \"/>\n",
       "<polyline clip-path=\"url(#clip660)\" style=\"stroke:#000000; stroke-width:4; stroke-opacity:1; fill:none\" points=\"\n",
       "  1391.91,1521.01 1391.91,1503.51 \n",
       "  \"/>\n",
       "<polyline clip-path=\"url(#clip660)\" style=\"stroke:#000000; stroke-width:4; stroke-opacity:1; fill:none\" points=\"\n",
       "  1541.64,1521.01 1541.64,1503.51 \n",
       "  \"/>\n",
       "<polyline clip-path=\"url(#clip660)\" style=\"stroke:#000000; stroke-width:4; stroke-opacity:1; fill:none\" points=\"\n",
       "  1691.36,1521.01 1691.36,1503.51 \n",
       "  \"/>\n",
       "<polyline clip-path=\"url(#clip660)\" style=\"stroke:#000000; stroke-width:4; stroke-opacity:1; fill:none\" points=\"\n",
       "  1841.09,1521.01 1841.09,1503.51 \n",
       "  \"/>\n",
       "<polyline clip-path=\"url(#clip660)\" style=\"stroke:#000000; stroke-width:4; stroke-opacity:1; fill:none\" points=\"\n",
       "  1990.82,1521.01 1990.82,1503.51 \n",
       "  \"/>\n",
       "<polyline clip-path=\"url(#clip660)\" style=\"stroke:#000000; stroke-width:4; stroke-opacity:1; fill:none\" points=\"\n",
       "  2140.55,1521.01 2140.55,1503.51 \n",
       "  \"/>\n",
       "<polyline clip-path=\"url(#clip660)\" style=\"stroke:#000000; stroke-width:4; stroke-opacity:1; fill:none\" points=\"\n",
       "  2290.27,1521.01 2290.27,1503.51 \n",
       "  \"/>\n",
       "<path clip-path=\"url(#clip660)\" d=\"M 0 0 M1370.89 1558.69 L1393.15 1558.69 L1393.15 1561.64 L1370.89 1561.64 L1370.89 1558.69 Z\" fill=\"#000000\" fill-rule=\"evenodd\" fill-opacity=\"1\" /><path clip-path=\"url(#clip660)\" d=\"M 0 0 M1407.58 1557.34 Q1410.09 1557.87 1411.5 1559.58 Q1412.92 1561.28 1412.92 1563.78 Q1412.92 1567.61 1410.29 1569.71 Q1407.65 1571.82 1402.79 1571.82 Q1401.15 1571.82 1399.42 1571.49 Q1397.7 1571.17 1395.86 1570.53 L1395.86 1567.15 Q1397.32 1568 1399.05 1568.43 Q1400.79 1568.86 1402.68 1568.86 Q1405.98 1568.86 1407.7 1567.56 Q1409.43 1566.26 1409.43 1563.78 Q1409.43 1561.49 1407.82 1560.2 Q1406.22 1558.9 1403.36 1558.9 L1400.34 1558.9 L1400.34 1556.02 L1403.5 1556.02 Q1406.08 1556.02 1407.46 1554.99 Q1408.83 1553.95 1408.83 1552.01 Q1408.83 1550.01 1407.4 1548.95 Q1406 1547.87 1403.36 1547.87 Q1401.92 1547.87 1400.27 1548.19 Q1398.62 1548.5 1396.64 1549.16 L1396.64 1546.03 Q1398.64 1545.48 1400.37 1545.2 Q1402.13 1544.92 1403.67 1544.92 Q1407.66 1544.92 1409.99 1546.75 Q1412.32 1548.55 1412.32 1551.64 Q1412.32 1553.79 1411.08 1555.29 Q1409.85 1556.76 1407.58 1557.34 Z\" fill=\"#000000\" fill-rule=\"evenodd\" fill-opacity=\"1\" /><path clip-path=\"url(#clip660)\" d=\"M 0 0 M1520.98 1558.69 L1543.23 1558.69 L1543.23 1561.64 L1520.98 1561.64 L1520.98 1558.69 Z\" fill=\"#000000\" fill-rule=\"evenodd\" fill-opacity=\"1\" /><path clip-path=\"url(#clip660)\" d=\"M 0 0 M1550.06 1568.36 L1562.3 1568.36 L1562.3 1571.31 L1545.84 1571.31 L1545.84 1568.36 Q1547.83 1566.29 1551.27 1562.82 Q1554.73 1559.33 1555.61 1558.33 Q1557.3 1556.43 1557.96 1555.13 Q1558.63 1553.81 1558.63 1552.54 Q1558.63 1550.48 1557.17 1549.18 Q1555.73 1547.87 1553.41 1547.87 Q1551.76 1547.87 1549.92 1548.45 Q1548.09 1549.02 1546.01 1550.18 L1546.01 1546.64 Q1548.13 1545.79 1549.97 1545.36 Q1551.81 1544.92 1553.34 1544.92 Q1557.37 1544.92 1559.76 1546.94 Q1562.16 1548.95 1562.16 1552.32 Q1562.16 1553.92 1561.55 1555.36 Q1560.96 1556.78 1559.38 1558.73 Q1558.95 1559.23 1556.62 1561.64 Q1554.29 1564.04 1550.06 1568.36 Z\" fill=\"#000000\" fill-rule=\"evenodd\" fill-opacity=\"1\" /><path clip-path=\"url(#clip660)\" d=\"M 0 0 M1670.57 1558.69 L1692.82 1558.69 L1692.82 1561.64 L1670.57 1561.64 L1670.57 1558.69 Z\" fill=\"#000000\" fill-rule=\"evenodd\" fill-opacity=\"1\" /><path clip-path=\"url(#clip660)\" d=\"M 0 0 M1697.23 1568.36 L1702.96 1568.36 L1702.96 1548.59 L1696.73 1549.84 L1696.73 1546.64 L1702.93 1545.39 L1706.43 1545.39 L1706.43 1568.36 L1712.16 1568.36 L1712.16 1571.31 L1697.23 1571.31 L1697.23 1568.36 Z\" fill=\"#000000\" fill-rule=\"evenodd\" fill-opacity=\"1\" /><path clip-path=\"url(#clip660)\" d=\"M 0 0 M1841.09 1547.7 Q1838.38 1547.7 1837.01 1550.37 Q1835.66 1553.03 1835.66 1558.38 Q1835.66 1563.71 1837.01 1566.38 Q1838.38 1569.04 1841.09 1569.04 Q1843.82 1569.04 1845.17 1566.38 Q1846.54 1563.71 1846.54 1558.38 Q1846.54 1553.03 1845.17 1550.37 Q1843.82 1547.7 1841.09 1547.7 M1841.09 1544.92 Q1845.45 1544.92 1847.74 1548.38 Q1850.05 1551.82 1850.05 1558.38 Q1850.05 1564.92 1847.74 1568.38 Q1845.45 1571.82 1841.09 1571.82 Q1836.73 1571.82 1834.42 1568.38 Q1832.13 1564.92 1832.13 1558.38 Q1832.13 1551.82 1834.42 1548.38 Q1836.73 1544.92 1841.09 1544.92 Z\" fill=\"#000000\" fill-rule=\"evenodd\" fill-opacity=\"1\" /><path clip-path=\"url(#clip660)\" d=\"M 0 0 M1983.6 1568.36 L1989.33 1568.36 L1989.33 1548.59 L1983.1 1549.84 L1983.1 1546.64 L1989.3 1545.39 L1992.81 1545.39 L1992.81 1568.36 L1998.54 1568.36 L1998.54 1571.31 L1983.6 1571.31 L1983.6 1568.36 Z\" fill=\"#000000\" fill-rule=\"evenodd\" fill-opacity=\"1\" /><path clip-path=\"url(#clip660)\" d=\"M 0 0 M2136.54 1568.36 L2148.77 1568.36 L2148.77 1571.31 L2132.32 1571.31 L2132.32 1568.36 Q2134.31 1566.29 2137.75 1562.82 Q2141.21 1559.33 2142.09 1558.33 Q2143.77 1556.43 2144.43 1555.13 Q2145.11 1553.81 2145.11 1552.54 Q2145.11 1550.48 2143.65 1549.18 Q2142.21 1547.87 2139.89 1547.87 Q2138.24 1547.87 2136.4 1548.45 Q2134.57 1549.02 2132.49 1550.18 L2132.49 1546.64 Q2134.61 1545.79 2136.45 1545.36 Q2138.29 1544.92 2139.82 1544.92 Q2143.84 1544.92 2146.24 1546.94 Q2148.64 1548.95 2148.64 1552.32 Q2148.64 1553.92 2148.03 1555.36 Q2147.44 1556.78 2145.86 1558.73 Q2145.42 1559.23 2143.1 1561.64 Q2140.77 1564.04 2136.54 1568.36 Z\" fill=\"#000000\" fill-rule=\"evenodd\" fill-opacity=\"1\" /><path clip-path=\"url(#clip660)\" d=\"M 0 0 M2293.46 1557.34 Q2295.98 1557.87 2297.38 1559.58 Q2298.81 1561.28 2298.81 1563.78 Q2298.81 1567.61 2296.17 1569.71 Q2293.53 1571.82 2288.67 1571.82 Q2287.04 1571.82 2285.3 1571.49 Q2283.58 1571.17 2281.74 1570.53 L2281.74 1567.15 Q2283.2 1568 2284.93 1568.43 Q2286.67 1568.86 2288.56 1568.86 Q2291.86 1568.86 2293.58 1567.56 Q2295.32 1566.26 2295.32 1563.78 Q2295.32 1561.49 2293.7 1560.2 Q2292.1 1558.9 2289.24 1558.9 L2286.22 1558.9 L2286.22 1556.02 L2289.38 1556.02 Q2291.97 1556.02 2293.34 1554.99 Q2294.71 1553.95 2294.71 1552.01 Q2294.71 1550.01 2293.29 1548.95 Q2291.88 1547.87 2289.24 1547.87 Q2287.8 1547.87 2286.15 1548.19 Q2284.5 1548.5 2282.52 1549.16 L2282.52 1546.03 Q2284.52 1545.48 2286.25 1545.2 Q2288.01 1544.92 2289.55 1544.92 Q2293.55 1544.92 2295.87 1546.75 Q2298.2 1548.55 2298.2 1551.64 Q2298.2 1553.79 2296.97 1555.29 Q2295.73 1556.76 2293.46 1557.34 Z\" fill=\"#000000\" fill-rule=\"evenodd\" fill-opacity=\"1\" /><polyline clip-path=\"url(#clip663)\" style=\"stroke:#000000; stroke-width:2; stroke-opacity:0.1; fill:none\" points=\"\n",
       "  1286.99,1474.87 2352.76,1474.87 \n",
       "  \"/>\n",
       "<polyline clip-path=\"url(#clip663)\" style=\"stroke:#000000; stroke-width:2; stroke-opacity:0.1; fill:none\" points=\"\n",
       "  1286.99,1185.78 2352.76,1185.78 \n",
       "  \"/>\n",
       "<polyline clip-path=\"url(#clip663)\" style=\"stroke:#000000; stroke-width:2; stroke-opacity:0.1; fill:none\" points=\"\n",
       "  1286.99,896.681 2352.76,896.681 \n",
       "  \"/>\n",
       "<polyline clip-path=\"url(#clip663)\" style=\"stroke:#000000; stroke-width:2; stroke-opacity:0.1; fill:none\" points=\"\n",
       "  1286.99,607.586 2352.76,607.586 \n",
       "  \"/>\n",
       "<polyline clip-path=\"url(#clip663)\" style=\"stroke:#000000; stroke-width:2; stroke-opacity:0.1; fill:none\" points=\"\n",
       "  1286.99,318.49 2352.76,318.49 \n",
       "  \"/>\n",
       "<polyline clip-path=\"url(#clip660)\" style=\"stroke:#000000; stroke-width:4; stroke-opacity:1; fill:none\" points=\"\n",
       "  1286.99,1521.01 1286.99,62.9921 \n",
       "  \"/>\n",
       "<polyline clip-path=\"url(#clip660)\" style=\"stroke:#000000; stroke-width:4; stroke-opacity:1; fill:none\" points=\"\n",
       "  1286.99,1474.87 1299.78,1474.87 \n",
       "  \"/>\n",
       "<polyline clip-path=\"url(#clip660)\" style=\"stroke:#000000; stroke-width:4; stroke-opacity:1; fill:none\" points=\"\n",
       "  1286.99,1185.78 1299.78,1185.78 \n",
       "  \"/>\n",
       "<polyline clip-path=\"url(#clip660)\" style=\"stroke:#000000; stroke-width:4; stroke-opacity:1; fill:none\" points=\"\n",
       "  1286.99,896.681 1299.78,896.681 \n",
       "  \"/>\n",
       "<polyline clip-path=\"url(#clip660)\" style=\"stroke:#000000; stroke-width:4; stroke-opacity:1; fill:none\" points=\"\n",
       "  1286.99,607.586 1299.78,607.586 \n",
       "  \"/>\n",
       "<polyline clip-path=\"url(#clip660)\" style=\"stroke:#000000; stroke-width:4; stroke-opacity:1; fill:none\" points=\"\n",
       "  1286.99,318.49 1299.78,318.49 \n",
       "  \"/>\n",
       "<path clip-path=\"url(#clip660)\" d=\"M 0 0 M1158.56 1475.32 L1188.24 1475.32 L1188.24 1479.26 L1158.56 1479.26 L1158.56 1475.32 Z\" fill=\"#000000\" fill-rule=\"evenodd\" fill-opacity=\"1\" /><path clip-path=\"url(#clip660)\" d=\"M 0 0 M1194.12 1488.22 L1201.76 1488.22 L1201.76 1461.85 L1193.45 1463.52 L1193.45 1459.26 L1201.71 1457.59 L1206.39 1457.59 L1206.39 1488.22 L1214.02 1488.22 L1214.02 1492.15 L1194.12 1492.15 L1194.12 1488.22 Z\" fill=\"#000000\" fill-rule=\"evenodd\" fill-opacity=\"1\" /><path clip-path=\"url(#clip660)\" d=\"M 0 0 M1219.09 1486.27 L1223.98 1486.27 L1223.98 1492.15 L1219.09 1492.15 L1219.09 1486.27 Z\" fill=\"#000000\" fill-rule=\"evenodd\" fill-opacity=\"1\" /><path clip-path=\"url(#clip660)\" d=\"M 0 0 M1239.05 1460.67 Q1235.44 1460.67 1233.61 1464.24 Q1231.8 1467.78 1231.8 1474.91 Q1231.8 1482.01 1233.61 1485.58 Q1235.44 1489.12 1239.05 1489.12 Q1242.68 1489.12 1244.49 1485.58 Q1246.32 1482.01 1246.32 1474.91 Q1246.32 1467.78 1244.49 1464.24 Q1242.68 1460.67 1239.05 1460.67 M1239.05 1456.97 Q1244.86 1456.97 1247.91 1461.57 Q1250.99 1466.16 1250.99 1474.91 Q1250.99 1483.63 1247.91 1488.24 Q1244.86 1492.82 1239.05 1492.82 Q1233.24 1492.82 1230.16 1488.24 Q1227.1 1483.63 1227.1 1474.91 Q1227.1 1466.16 1230.16 1461.57 Q1233.24 1456.97 1239.05 1456.97 Z\" fill=\"#000000\" fill-rule=\"evenodd\" fill-opacity=\"1\" /><path clip-path=\"url(#clip660)\" d=\"M 0 0 M1158.33 1186.23 L1188.01 1186.23 L1188.01 1190.16 L1158.33 1190.16 L1158.33 1186.23 Z\" fill=\"#000000\" fill-rule=\"evenodd\" fill-opacity=\"1\" /><path clip-path=\"url(#clip660)\" d=\"M 0 0 M1203.08 1171.58 Q1199.46 1171.58 1197.64 1175.14 Q1195.83 1178.68 1195.83 1185.81 Q1195.83 1192.92 1197.64 1196.48 Q1199.46 1200.02 1203.08 1200.02 Q1206.71 1200.02 1208.52 1196.48 Q1210.34 1192.92 1210.34 1185.81 Q1210.34 1178.68 1208.52 1175.14 Q1206.71 1171.58 1203.08 1171.58 M1203.08 1167.87 Q1208.89 1167.87 1211.94 1172.48 Q1215.02 1177.06 1215.02 1185.81 Q1215.02 1194.54 1211.94 1199.14 Q1208.89 1203.73 1203.08 1203.73 Q1197.27 1203.73 1194.19 1199.14 Q1191.13 1194.54 1191.13 1185.81 Q1191.13 1177.06 1194.19 1172.48 Q1197.27 1167.87 1203.08 1167.87 Z\" fill=\"#000000\" fill-rule=\"evenodd\" fill-opacity=\"1\" /><path clip-path=\"url(#clip660)\" d=\"M 0 0 M1220.09 1197.18 L1224.97 1197.18 L1224.97 1203.06 L1220.09 1203.06 L1220.09 1197.18 Z\" fill=\"#000000\" fill-rule=\"evenodd\" fill-opacity=\"1\" /><path clip-path=\"url(#clip660)\" d=\"M 0 0 M1230.09 1168.5 L1248.45 1168.5 L1248.45 1172.43 L1234.37 1172.43 L1234.37 1180.9 Q1235.39 1180.56 1236.41 1180.39 Q1237.43 1180.21 1238.45 1180.21 Q1244.23 1180.21 1247.61 1183.38 Q1250.99 1186.55 1250.99 1191.97 Q1250.99 1197.55 1247.52 1200.65 Q1244.05 1203.73 1237.73 1203.73 Q1235.55 1203.73 1233.28 1203.36 Q1231.04 1202.99 1228.63 1202.25 L1228.63 1197.55 Q1230.71 1198.68 1232.94 1199.24 Q1235.16 1199.79 1237.64 1199.79 Q1241.64 1199.79 1243.98 1197.69 Q1246.32 1195.58 1246.32 1191.97 Q1246.32 1188.36 1243.98 1186.25 Q1241.64 1184.14 1237.64 1184.14 Q1235.76 1184.14 1233.89 1184.56 Q1232.03 1184.98 1230.09 1185.86 L1230.09 1168.5 Z\" fill=\"#000000\" fill-rule=\"evenodd\" fill-opacity=\"1\" /><path clip-path=\"url(#clip660)\" d=\"M 0 0 M1202.08 882.48 Q1198.47 882.48 1196.64 886.045 Q1194.84 889.586 1194.84 896.716 Q1194.84 903.822 1196.64 907.387 Q1198.47 910.929 1202.08 910.929 Q1205.71 910.929 1207.52 907.387 Q1209.35 903.822 1209.35 896.716 Q1209.35 889.586 1207.52 886.045 Q1205.71 882.48 1202.08 882.48 M1202.08 878.776 Q1207.89 878.776 1210.95 883.383 Q1214.02 887.966 1214.02 896.716 Q1214.02 905.443 1210.95 910.049 Q1207.89 914.633 1202.08 914.633 Q1196.27 914.633 1193.19 910.049 Q1190.14 905.443 1190.14 896.716 Q1190.14 887.966 1193.19 883.383 Q1196.27 878.776 1202.08 878.776 Z\" fill=\"#000000\" fill-rule=\"evenodd\" fill-opacity=\"1\" /><path clip-path=\"url(#clip660)\" d=\"M 0 0 M1219.09 908.082 L1223.98 908.082 L1223.98 913.961 L1219.09 913.961 L1219.09 908.082 Z\" fill=\"#000000\" fill-rule=\"evenodd\" fill-opacity=\"1\" /><path clip-path=\"url(#clip660)\" d=\"M 0 0 M1239.05 882.48 Q1235.44 882.48 1233.61 886.045 Q1231.8 889.586 1231.8 896.716 Q1231.8 903.822 1233.61 907.387 Q1235.44 910.929 1239.05 910.929 Q1242.68 910.929 1244.49 907.387 Q1246.32 903.822 1246.32 896.716 Q1246.32 889.586 1244.49 886.045 Q1242.68 882.48 1239.05 882.48 M1239.05 878.776 Q1244.86 878.776 1247.91 883.383 Q1250.99 887.966 1250.99 896.716 Q1250.99 905.443 1247.91 910.049 Q1244.86 914.633 1239.05 914.633 Q1233.24 914.633 1230.16 910.049 Q1227.1 905.443 1227.1 896.716 Q1227.1 887.966 1230.16 883.383 Q1233.24 878.776 1239.05 878.776 Z\" fill=\"#000000\" fill-rule=\"evenodd\" fill-opacity=\"1\" /><path clip-path=\"url(#clip660)\" d=\"M 0 0 M1203.08 593.384 Q1199.46 593.384 1197.64 596.949 Q1195.83 600.491 1195.83 607.621 Q1195.83 614.727 1197.64 618.292 Q1199.46 621.833 1203.08 621.833 Q1206.71 621.833 1208.52 618.292 Q1210.34 614.727 1210.34 607.621 Q1210.34 600.491 1208.52 596.949 Q1206.71 593.384 1203.08 593.384 M1203.08 589.681 Q1208.89 589.681 1211.94 594.287 Q1215.02 598.871 1215.02 607.621 Q1215.02 616.347 1211.94 620.954 Q1208.89 625.537 1203.08 625.537 Q1197.27 625.537 1194.19 620.954 Q1191.13 616.347 1191.13 607.621 Q1191.13 598.871 1194.19 594.287 Q1197.27 589.681 1203.08 589.681 Z\" fill=\"#000000\" fill-rule=\"evenodd\" fill-opacity=\"1\" /><path clip-path=\"url(#clip660)\" d=\"M 0 0 M1220.09 618.986 L1224.97 618.986 L1224.97 624.866 L1220.09 624.866 L1220.09 618.986 Z\" fill=\"#000000\" fill-rule=\"evenodd\" fill-opacity=\"1\" /><path clip-path=\"url(#clip660)\" d=\"M 0 0 M1230.09 590.306 L1248.45 590.306 L1248.45 594.241 L1234.37 594.241 L1234.37 602.713 Q1235.39 602.366 1236.41 602.204 Q1237.43 602.019 1238.45 602.019 Q1244.23 602.019 1247.61 605.19 Q1250.99 608.361 1250.99 613.778 Q1250.99 619.357 1247.52 622.458 Q1244.05 625.537 1237.73 625.537 Q1235.55 625.537 1233.28 625.167 Q1231.04 624.796 1228.63 624.056 L1228.63 619.357 Q1230.71 620.491 1232.94 621.046 Q1235.16 621.602 1237.64 621.602 Q1241.64 621.602 1243.98 619.495 Q1246.32 617.389 1246.32 613.778 Q1246.32 610.167 1243.98 608.06 Q1241.64 605.954 1237.64 605.954 Q1235.76 605.954 1233.89 606.371 Q1232.03 606.787 1230.09 607.667 L1230.09 590.306 Z\" fill=\"#000000\" fill-rule=\"evenodd\" fill-opacity=\"1\" /><path clip-path=\"url(#clip660)\" d=\"M 0 0 M1194.12 331.835 L1201.76 331.835 L1201.76 305.47 L1193.45 307.136 L1193.45 302.877 L1201.71 301.21 L1206.39 301.21 L1206.39 331.835 L1214.02 331.835 L1214.02 335.77 L1194.12 335.77 L1194.12 331.835 Z\" fill=\"#000000\" fill-rule=\"evenodd\" fill-opacity=\"1\" /><path clip-path=\"url(#clip660)\" d=\"M 0 0 M1219.09 329.891 L1223.98 329.891 L1223.98 335.77 L1219.09 335.77 L1219.09 329.891 Z\" fill=\"#000000\" fill-rule=\"evenodd\" fill-opacity=\"1\" /><path clip-path=\"url(#clip660)\" d=\"M 0 0 M1239.05 304.289 Q1235.44 304.289 1233.61 307.854 Q1231.8 311.395 1231.8 318.525 Q1231.8 325.632 1233.61 329.196 Q1235.44 332.738 1239.05 332.738 Q1242.68 332.738 1244.49 329.196 Q1246.32 325.632 1246.32 318.525 Q1246.32 311.395 1244.49 307.854 Q1242.68 304.289 1239.05 304.289 M1239.05 300.585 Q1244.86 300.585 1247.91 305.192 Q1250.99 309.775 1250.99 318.525 Q1250.99 327.252 1247.91 331.858 Q1244.86 336.442 1239.05 336.442 Q1233.24 336.442 1230.16 331.858 Q1227.1 327.252 1227.1 318.525 Q1227.1 309.775 1230.16 305.192 Q1233.24 300.585 1239.05 300.585 Z\" fill=\"#000000\" fill-rule=\"evenodd\" fill-opacity=\"1\" /><path clip-path=\"url(#clip660)\" d=\"M 0 0 M1610.53 6.912 L1630.4 6.912 L1630.4 10.8472 L1615.21 10.8472 L1615.21 21.0323 L1628.91 21.0323 L1628.91 24.9675 L1615.21 24.9675 L1615.21 41.472 L1610.53 41.472 L1610.53 6.912 Z\" fill=\"#000000\" fill-rule=\"evenodd\" fill-opacity=\"1\" /><path clip-path=\"url(#clip660)\" d=\"M 0 0 M1631.83 31.2406 L1631.83 15.5462 L1636.09 15.5462 L1636.09 31.0785 Q1636.09 34.7591 1637.53 36.6109 Q1638.96 38.4396 1641.83 38.4396 Q1645.28 38.4396 1647.27 36.2405 Q1649.28 34.0415 1649.28 30.2452 L1649.28 15.5462 L1653.54 15.5462 L1653.54 41.472 L1649.28 41.472 L1649.28 37.4905 Q1647.73 39.8516 1645.67 41.009 Q1643.64 42.1433 1640.93 42.1433 Q1636.46 42.1433 1634.15 39.3655 Q1631.83 36.5878 1631.83 31.2406 M1642.55 14.9212 L1642.55 14.9212 Z\" fill=\"#000000\" fill-rule=\"evenodd\" fill-opacity=\"1\" /><path clip-path=\"url(#clip660)\" d=\"M 0 0 M1656.16 15.5462 L1676.39 15.5462 L1676.39 19.4351 L1660.37 38.0692 L1676.39 38.0692 L1676.39 41.472 L1655.58 41.472 L1655.58 37.5831 L1671.6 18.949 L1656.16 18.949 L1656.16 15.5462 Z\" fill=\"#000000\" fill-rule=\"evenodd\" fill-opacity=\"1\" /><path clip-path=\"url(#clip660)\" d=\"M 0 0 M1679.01 15.5462 L1699.24 15.5462 L1699.24 19.4351 L1683.22 38.0692 L1699.24 38.0692 L1699.24 41.472 L1678.43 41.472 L1678.43 37.5831 L1694.45 18.949 L1679.01 18.949 L1679.01 15.5462 Z\" fill=\"#000000\" fill-rule=\"evenodd\" fill-opacity=\"1\" /><path clip-path=\"url(#clip660)\" d=\"M 0 0 M1714.49 43.8794 Q1712.69 48.509 1710.97 49.921 Q1709.26 51.3331 1706.39 51.3331 L1702.99 51.3331 L1702.99 47.7683 L1705.49 47.7683 Q1707.25 47.7683 1708.22 46.9349 Q1709.19 46.1016 1710.37 42.9998 L1711.14 41.0553 L1700.65 15.5462 L1705.16 15.5462 L1713.27 35.8239 L1721.37 15.5462 L1725.88 15.5462 L1714.49 43.8794 Z\" fill=\"#000000\" fill-rule=\"evenodd\" fill-opacity=\"1\" /><path clip-path=\"url(#clip660)\" d=\"M 0 0 M1742.09 11.5185 L1735.74 28.7174 L1748.45 28.7174 L1742.09 11.5185 M1739.45 6.912 L1744.75 6.912 L1757.92 41.472 L1753.06 41.472 L1749.91 32.6063 L1734.33 32.6063 L1731.18 41.472 L1726.25 41.472 L1739.45 6.912 Z\" fill=\"#000000\" fill-rule=\"evenodd\" fill-opacity=\"1\" /><path clip-path=\"url(#clip660)\" d=\"M 0 0 M1778.96 25.2684 Q1780.46 25.7776 1781.88 27.4443 Q1783.31 29.111 1784.75 32.0276 L1789.49 41.472 L1784.47 41.472 L1780.05 32.6063 Q1778.33 29.1341 1776.71 27.9998 Q1775.12 26.8656 1772.34 26.8656 L1767.25 26.8656 L1767.25 41.472 L1762.57 41.472 L1762.57 6.912 L1773.13 6.912 Q1779.05 6.912 1781.97 9.38884 Q1784.89 11.8657 1784.89 16.8657 Q1784.89 20.1295 1783.36 22.2823 Q1781.85 24.4351 1778.96 25.2684 M1767.25 10.7546 L1767.25 23.023 L1773.13 23.023 Q1776.51 23.023 1778.22 21.4721 Q1779.96 19.898 1779.96 16.8657 Q1779.96 13.8333 1778.22 12.3055 Q1776.51 10.7546 1773.13 10.7546 L1767.25 10.7546 Z\" fill=\"#000000\" fill-rule=\"evenodd\" fill-opacity=\"1\" /><path clip-path=\"url(#clip660)\" d=\"M 0 0 M1785.9 6.912 L1815.14 6.912 L1815.14 10.8472 L1802.87 10.8472 L1802.87 41.472 L1798.17 41.472 L1798.17 10.8472 L1785.9 10.8472 L1785.9 6.912 Z\" fill=\"#000000\" fill-rule=\"evenodd\" fill-opacity=\"1\" /><path clip-path=\"url(#clip660)\" d=\"M 0 0 M1849.7 19.5277 Q1848.98 19.111 1848.13 18.9258 Q1847.29 18.7175 1846.27 18.7175 Q1842.66 18.7175 1840.72 21.0786 Q1838.8 23.4165 1838.8 27.8147 L1838.8 41.472 L1834.52 41.472 L1834.52 15.5462 L1838.8 15.5462 L1838.8 19.574 Q1840.14 17.2129 1842.29 16.0786 Q1844.45 14.9212 1847.52 14.9212 Q1847.96 14.9212 1848.5 14.9907 Q1849.03 15.037 1849.68 15.1527 L1849.7 19.5277 Z\" fill=\"#000000\" fill-rule=\"evenodd\" fill-opacity=\"1\" /><path clip-path=\"url(#clip660)\" d=\"M 0 0 M1874.89 25.8239 L1874.89 41.472 L1870.63 41.472 L1870.63 25.9628 Q1870.63 22.2823 1869.19 20.4536 Q1867.76 18.6249 1864.89 18.6249 Q1861.44 18.6249 1859.45 20.824 Q1857.45 23.023 1857.45 26.8193 L1857.45 41.472 L1853.17 41.472 L1853.17 5.45367 L1857.45 5.45367 L1857.45 19.574 Q1858.98 17.236 1861.04 16.0786 Q1863.13 14.9212 1865.83 14.9212 Q1870.3 14.9212 1872.59 17.699 Q1874.89 20.4536 1874.89 25.8239 Z\" fill=\"#000000\" fill-rule=\"evenodd\" fill-opacity=\"1\" /><path clip-path=\"url(#clip660)\" d=\"M 0 0 M1889.4 18.5323 Q1885.97 18.5323 1883.98 21.2175 Q1881.99 23.8795 1881.99 28.5323 Q1881.99 33.185 1883.96 35.8702 Q1885.95 38.5322 1889.4 38.5322 Q1892.8 38.5322 1894.79 35.847 Q1896.78 33.1619 1896.78 28.5323 Q1896.78 23.9258 1894.79 21.2406 Q1892.8 18.5323 1889.4 18.5323 M1889.4 14.9212 Q1894.95 14.9212 1898.13 18.5323 Q1901.3 22.1434 1901.3 28.5323 Q1901.3 34.898 1898.13 38.5322 Q1894.95 42.1433 1889.4 42.1433 Q1883.82 42.1433 1880.65 38.5322 Q1877.5 34.898 1877.5 28.5323 Q1877.5 22.1434 1880.65 18.5323 Q1883.82 14.9212 1889.4 14.9212 Z\" fill=\"#000000\" fill-rule=\"evenodd\" fill-opacity=\"1\" /><path clip-path=\"url(#clip660)\" d=\"M 0 0 M1921.39 19.9443 L1951.07 19.9443 L1951.07 23.8332 L1921.39 23.8332 L1921.39 19.9443 M1921.39 29.3887 L1951.07 29.3887 L1951.07 33.3239 L1921.39 33.3239 L1921.39 29.3887 Z\" fill=\"#000000\" fill-rule=\"evenodd\" fill-opacity=\"1\" /><path clip-path=\"url(#clip660)\" d=\"M 0 0 M1981.2 9.99069 Q1977.59 9.99069 1975.76 13.5555 Q1973.96 17.0971 1973.96 24.2267 Q1973.96 31.3332 1975.76 34.898 Q1977.59 38.4396 1981.2 38.4396 Q1984.84 38.4396 1986.64 34.898 Q1988.47 31.3332 1988.47 24.2267 Q1988.47 17.0971 1986.64 13.5555 Q1984.84 9.99069 1981.2 9.99069 M1981.2 6.287 Q1987.01 6.287 1990.07 10.8935 Q1993.15 15.4768 1993.15 24.2267 Q1993.15 32.9535 1990.07 37.56 Q1987.01 42.1433 1981.2 42.1433 Q1975.39 42.1433 1972.32 37.56 Q1969.26 32.9535 1969.26 24.2267 Q1969.26 15.4768 1972.32 10.8935 Q1975.39 6.287 1981.2 6.287 Z\" fill=\"#000000\" fill-rule=\"evenodd\" fill-opacity=\"1\" /><path clip-path=\"url(#clip660)\" d=\"M 0 0 M1998.22 35.5924 L2003.1 35.5924 L2003.1 41.472 L1998.22 41.472 L1998.22 35.5924 Z\" fill=\"#000000\" fill-rule=\"evenodd\" fill-opacity=\"1\" /><path clip-path=\"url(#clip660)\" d=\"M 0 0 M2006.99 6.912 L2029.21 6.912 L2029.21 8.90273 L2016.67 41.472 L2011.78 41.472 L2023.59 10.8472 L2006.99 10.8472 L2006.99 6.912 Z\" fill=\"#000000\" fill-rule=\"evenodd\" fill-opacity=\"1\" /><circle clip-path=\"url(#clip663)\" cx=\"2268.14\" cy=\"1436.06\" r=\"14\" fill=\"#009af9\" fill-rule=\"evenodd\" fill-opacity=\"1\" stroke=\"#000000\" stroke-opacity=\"1\" stroke-width=\"3.2\"/>\n",
       "<circle clip-path=\"url(#clip663)\" cx=\"2247.66\" cy=\"994.717\" r=\"14\" fill=\"#009af9\" fill-rule=\"evenodd\" fill-opacity=\"1\" stroke=\"#000000\" stroke-opacity=\"1\" stroke-width=\"3.2\"/>\n",
       "<circle clip-path=\"url(#clip663)\" cx=\"2193.87\" cy=\"914.726\" r=\"14\" fill=\"#009af9\" fill-rule=\"evenodd\" fill-opacity=\"1\" stroke=\"#000000\" stroke-opacity=\"1\" stroke-width=\"3.2\"/>\n",
       "<circle clip-path=\"url(#clip663)\" cx=\"2221.8\" cy=\"557.699\" r=\"14\" fill=\"#009af9\" fill-rule=\"evenodd\" fill-opacity=\"1\" stroke=\"#000000\" stroke-opacity=\"1\" stroke-width=\"3.2\"/>\n",
       "<circle clip-path=\"url(#clip663)\" cx=\"2221.88\" cy=\"642.259\" r=\"14\" fill=\"#009af9\" fill-rule=\"evenodd\" fill-opacity=\"1\" stroke=\"#000000\" stroke-opacity=\"1\" stroke-width=\"3.2\"/>\n",
       "<circle clip-path=\"url(#clip663)\" cx=\"2263.46\" cy=\"944.153\" r=\"14\" fill=\"#009af9\" fill-rule=\"evenodd\" fill-opacity=\"1\" stroke=\"#000000\" stroke-opacity=\"1\" stroke-width=\"3.2\"/>\n",
       "<circle clip-path=\"url(#clip663)\" cx=\"2182.45\" cy=\"464.32\" r=\"14\" fill=\"#009af9\" fill-rule=\"evenodd\" fill-opacity=\"1\" stroke=\"#000000\" stroke-opacity=\"1\" stroke-width=\"3.2\"/>\n",
       "<circle clip-path=\"url(#clip663)\" cx=\"2241.44\" cy=\"958.369\" r=\"14\" fill=\"#009af9\" fill-rule=\"evenodd\" fill-opacity=\"1\" stroke=\"#000000\" stroke-opacity=\"1\" stroke-width=\"3.2\"/>\n",
       "<circle clip-path=\"url(#clip663)\" cx=\"2241.44\" cy=\"958.369\" r=\"14\" fill=\"#009af9\" fill-rule=\"evenodd\" fill-opacity=\"1\" stroke=\"#000000\" stroke-opacity=\"1\" stroke-width=\"3.2\"/>\n",
       "<circle clip-path=\"url(#clip663)\" cx=\"2234.35\" cy=\"798.154\" r=\"14\" fill=\"#009af9\" fill-rule=\"evenodd\" fill-opacity=\"1\" stroke=\"#000000\" stroke-opacity=\"1\" stroke-width=\"3.2\"/>\n",
       "<circle clip-path=\"url(#clip663)\" cx=\"2322.59\" cy=\"814.8\" r=\"14\" fill=\"#009af9\" fill-rule=\"evenodd\" fill-opacity=\"1\" stroke=\"#000000\" stroke-opacity=\"1\" stroke-width=\"3.2\"/>\n",
       "<circle clip-path=\"url(#clip663)\" cx=\"2249.64\" cy=\"703.609\" r=\"14\" fill=\"#009af9\" fill-rule=\"evenodd\" fill-opacity=\"1\" stroke=\"#000000\" stroke-opacity=\"1\" stroke-width=\"3.2\"/>\n",
       "<circle clip-path=\"url(#clip663)\" cx=\"2228.93\" cy=\"760.194\" r=\"14\" fill=\"#009af9\" fill-rule=\"evenodd\" fill-opacity=\"1\" stroke=\"#000000\" stroke-opacity=\"1\" stroke-width=\"3.2\"/>\n",
       "<circle clip-path=\"url(#clip663)\" cx=\"2245.94\" cy=\"830.183\" r=\"14\" fill=\"#009af9\" fill-rule=\"evenodd\" fill-opacity=\"1\" stroke=\"#000000\" stroke-opacity=\"1\" stroke-width=\"3.2\"/>\n",
       "<circle clip-path=\"url(#clip663)\" cx=\"2237.62\" cy=\"712.159\" r=\"14\" fill=\"#009af9\" fill-rule=\"evenodd\" fill-opacity=\"1\" stroke=\"#000000\" stroke-opacity=\"1\" stroke-width=\"3.2\"/>\n",
       "<circle clip-path=\"url(#clip663)\" cx=\"1977.11\" cy=\"1331.23\" r=\"14\" fill=\"#e26f46\" fill-rule=\"evenodd\" fill-opacity=\"1\" stroke=\"#000000\" stroke-opacity=\"1\" stroke-width=\"3.2\"/>\n",
       "<circle clip-path=\"url(#clip663)\" cx=\"1745.01\" cy=\"885.654\" r=\"14\" fill=\"#e26f46\" fill-rule=\"evenodd\" fill-opacity=\"1\" stroke=\"#000000\" stroke-opacity=\"1\" stroke-width=\"3.2\"/>\n",
       "<circle clip-path=\"url(#clip663)\" cx=\"1753.16\" cy=\"1176.11\" r=\"14\" fill=\"#e26f46\" fill-rule=\"evenodd\" fill-opacity=\"1\" stroke=\"#000000\" stroke-opacity=\"1\" stroke-width=\"3.2\"/>\n",
       "<circle clip-path=\"url(#clip663)\" cx=\"1946.96\" cy=\"1479.74\" r=\"14\" fill=\"#e26f46\" fill-rule=\"evenodd\" fill-opacity=\"1\" stroke=\"#000000\" stroke-opacity=\"1\" stroke-width=\"3.2\"/>\n",
       "<circle clip-path=\"url(#clip663)\" cx=\"1834.62\" cy=\"1232.89\" r=\"14\" fill=\"#e26f46\" fill-rule=\"evenodd\" fill-opacity=\"1\" stroke=\"#000000\" stroke-opacity=\"1\" stroke-width=\"3.2\"/>\n",
       "<circle clip-path=\"url(#clip663)\" cx=\"1719.38\" cy=\"1111\" r=\"14\" fill=\"#e26f46\" fill-rule=\"evenodd\" fill-opacity=\"1\" stroke=\"#000000\" stroke-opacity=\"1\" stroke-width=\"3.2\"/>\n",
       "<circle clip-path=\"url(#clip663)\" cx=\"1814\" cy=\"1374.04\" r=\"14\" fill=\"#e26f46\" fill-rule=\"evenodd\" fill-opacity=\"1\" stroke=\"#000000\" stroke-opacity=\"1\" stroke-width=\"3.2\"/>\n",
       "<circle clip-path=\"url(#clip663)\" cx=\"1693.75\" cy=\"968.585\" r=\"14\" fill=\"#e26f46\" fill-rule=\"evenodd\" fill-opacity=\"1\" stroke=\"#000000\" stroke-opacity=\"1\" stroke-width=\"3.2\"/>\n",
       "<circle clip-path=\"url(#clip663)\" cx=\"1806.82\" cy=\"1129.26\" r=\"14\" fill=\"#e26f46\" fill-rule=\"evenodd\" fill-opacity=\"1\" stroke=\"#000000\" stroke-opacity=\"1\" stroke-width=\"3.2\"/>\n",
       "<circle clip-path=\"url(#clip663)\" cx=\"1734.18\" cy=\"809.733\" r=\"14\" fill=\"#e26f46\" fill-rule=\"evenodd\" fill-opacity=\"1\" stroke=\"#000000\" stroke-opacity=\"1\" stroke-width=\"3.2\"/>\n",
       "<circle clip-path=\"url(#clip663)\" cx=\"1641.8\" cy=\"755.216\" r=\"14\" fill=\"#e26f46\" fill-rule=\"evenodd\" fill-opacity=\"1\" stroke=\"#000000\" stroke-opacity=\"1\" stroke-width=\"3.2\"/>\n",
       "<circle clip-path=\"url(#clip663)\" cx=\"1646.7\" cy=\"1336.69\" r=\"14\" fill=\"#e26f46\" fill-rule=\"evenodd\" fill-opacity=\"1\" stroke=\"#000000\" stroke-opacity=\"1\" stroke-width=\"3.2\"/>\n",
       "<circle clip-path=\"url(#clip663)\" cx=\"1707.81\" cy=\"916.231\" r=\"14\" fill=\"#e26f46\" fill-rule=\"evenodd\" fill-opacity=\"1\" stroke=\"#000000\" stroke-opacity=\"1\" stroke-width=\"3.2\"/>\n",
       "<circle clip-path=\"url(#clip663)\" cx=\"1720.23\" cy=\"783.903\" r=\"14\" fill=\"#e26f46\" fill-rule=\"evenodd\" fill-opacity=\"1\" stroke=\"#000000\" stroke-opacity=\"1\" stroke-width=\"3.2\"/>\n",
       "<circle clip-path=\"url(#clip663)\" cx=\"1706.39\" cy=\"706.103\" r=\"14\" fill=\"#e26f46\" fill-rule=\"evenodd\" fill-opacity=\"1\" stroke=\"#000000\" stroke-opacity=\"1\" stroke-width=\"3.2\"/>\n",
       "<circle clip-path=\"url(#clip663)\" cx=\"1317.16\" cy=\"632.579\" r=\"14\" fill=\"#3da44d\" fill-rule=\"evenodd\" fill-opacity=\"1\" stroke=\"#000000\" stroke-opacity=\"1\" stroke-width=\"3.2\"/>\n",
       "<circle clip-path=\"url(#clip663)\" cx=\"1519.93\" cy=\"816.367\" r=\"14\" fill=\"#3da44d\" fill-rule=\"evenodd\" fill-opacity=\"1\" stroke=\"#000000\" stroke-opacity=\"1\" stroke-width=\"3.2\"/>\n",
       "<circle clip-path=\"url(#clip663)\" cx=\"1380.45\" cy=\"500.178\" r=\"14\" fill=\"#3da44d\" fill-rule=\"evenodd\" fill-opacity=\"1\" stroke=\"#000000\" stroke-opacity=\"1\" stroke-width=\"3.2\"/>\n",
       "<circle clip-path=\"url(#clip663)\" cx=\"1634.66\" cy=\"1140.22\" r=\"14\" fill=\"#3da44d\" fill-rule=\"evenodd\" fill-opacity=\"1\" stroke=\"#000000\" stroke-opacity=\"1\" stroke-width=\"3.2\"/>\n",
       "<circle clip-path=\"url(#clip663)\" cx=\"1629.37\" cy=\"1229.1\" r=\"14\" fill=\"#3da44d\" fill-rule=\"evenodd\" fill-opacity=\"1\" stroke=\"#000000\" stroke-opacity=\"1\" stroke-width=\"3.2\"/>\n",
       "<circle clip-path=\"url(#clip663)\" cx=\"1546.01\" cy=\"1001.41\" r=\"14\" fill=\"#3da44d\" fill-rule=\"evenodd\" fill-opacity=\"1\" stroke=\"#000000\" stroke-opacity=\"1\" stroke-width=\"3.2\"/>\n",
       "<circle clip-path=\"url(#clip663)\" cx=\"1555.9\" cy=\"827.981\" r=\"14\" fill=\"#3da44d\" fill-rule=\"evenodd\" fill-opacity=\"1\" stroke=\"#000000\" stroke-opacity=\"1\" stroke-width=\"3.2\"/>\n",
       "<circle clip-path=\"url(#clip663)\" cx=\"1553.25\" cy=\"660.044\" r=\"14\" fill=\"#3da44d\" fill-rule=\"evenodd\" fill-opacity=\"1\" stroke=\"#000000\" stroke-opacity=\"1\" stroke-width=\"3.2\"/>\n",
       "<circle clip-path=\"url(#clip663)\" cx=\"1357.12\" cy=\"104.257\" r=\"14\" fill=\"#3da44d\" fill-rule=\"evenodd\" fill-opacity=\"1\" stroke=\"#000000\" stroke-opacity=\"1\" stroke-width=\"3.2\"/>\n",
       "<circle clip-path=\"url(#clip663)\" cx=\"1592.25\" cy=\"756.737\" r=\"14\" fill=\"#3da44d\" fill-rule=\"evenodd\" fill-opacity=\"1\" stroke=\"#000000\" stroke-opacity=\"1\" stroke-width=\"3.2\"/>\n",
       "<circle clip-path=\"url(#clip663)\" cx=\"1629.37\" cy=\"1229.1\" r=\"14\" fill=\"#3da44d\" fill-rule=\"evenodd\" fill-opacity=\"1\" stroke=\"#000000\" stroke-opacity=\"1\" stroke-width=\"3.2\"/>\n",
       "<circle clip-path=\"url(#clip663)\" cx=\"1647.84\" cy=\"963.997\" r=\"14\" fill=\"#3da44d\" fill-rule=\"evenodd\" fill-opacity=\"1\" stroke=\"#000000\" stroke-opacity=\"1\" stroke-width=\"3.2\"/>\n",
       "<circle clip-path=\"url(#clip663)\" cx=\"1576.97\" cy=\"851.282\" r=\"14\" fill=\"#3da44d\" fill-rule=\"evenodd\" fill-opacity=\"1\" stroke=\"#000000\" stroke-opacity=\"1\" stroke-width=\"3.2\"/>\n",
       "<circle clip-path=\"url(#clip663)\" cx=\"1549.24\" cy=\"873.131\" r=\"14\" fill=\"#3da44d\" fill-rule=\"evenodd\" fill-opacity=\"1\" stroke=\"#000000\" stroke-opacity=\"1\" stroke-width=\"3.2\"/>\n",
       "<circle clip-path=\"url(#clip663)\" cx=\"1652.79\" cy=\"1000.26\" r=\"14\" fill=\"#3da44d\" fill-rule=\"evenodd\" fill-opacity=\"1\" stroke=\"#000000\" stroke-opacity=\"1\" stroke-width=\"3.2\"/>\n",
       "</svg>\n"
      ]
     },
     "metadata": {},
     "execution_count": 19
    }
   ],
   "cell_type": "code",
   "source": [
    "p1 = scatter(X_test_pca[1,:], X_test_pca[2,:], group=y_hat_1, title=@sprintf \"FuzzyART rho = %.1f\" rho_1)\n",
    "p2 = scatter(X_test_pca[1,:], X_test_pca[2,:], group=y_hat_2, title=@sprintf \"FuzzyART rho = %.1f\" rho_2)\n",
    "plot(p1, p2, layout=(1, 2), legend = false, xtickfontsize=6, xguidefontsize=8, titlefont=font(8))"
   ],
   "metadata": {},
   "execution_count": 19
  },
  {
   "cell_type": "markdown",
   "source": [
    "---\n",
    "\n",
    "*This notebook was generated using [Literate.jl](https://github.com/fredrikekre/Literate.jl).*"
   ],
   "metadata": {}
  }
 ],
 "nbformat_minor": 3,
 "metadata": {
  "language_info": {
   "file_extension": ".jl",
   "mimetype": "application/julia",
   "name": "julia",
   "version": "1.4.2"
  },
  "kernelspec": {
   "name": "julia-1.4",
   "display_name": "Julia 1.4.2",
   "language": "julia"
  }
 },
 "nbformat": 4
}
