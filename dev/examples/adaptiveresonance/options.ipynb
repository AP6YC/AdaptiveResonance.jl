{
 "cells": [
  {
   "cell_type": "markdown",
   "source": [
    "## Overview"
   ],
   "metadata": {}
  },
  {
   "cell_type": "markdown",
   "source": [
    "The `AdaptiveResonance.jl` package has several ways of handling options for ART modules.\n",
    "These methods are meant to give maximum flexibility to the user for sharing and interpreting options, which themselves vary between each module."
   ],
   "metadata": {}
  },
  {
   "cell_type": "markdown",
   "source": [
    "!!! note\n",
    "    For more info on options in ART modules, see the guide in the docs on ART options."
   ],
   "metadata": {}
  },
  {
   "cell_type": "markdown",
   "source": [
    "## ART Options"
   ],
   "metadata": {}
  },
  {
   "cell_type": "markdown",
   "source": [
    "To get a feel for the ART options system, we will inspect different options and their instantiation methods."
   ],
   "metadata": {}
  },
  {
   "cell_type": "markdown",
   "source": [
    "### Inspection"
   ],
   "metadata": {}
  },
  {
   "cell_type": "markdown",
   "source": [
    "First, we load `AdaptiveResonance`:"
   ],
   "metadata": {}
  },
  {
   "outputs": [],
   "cell_type": "code",
   "source": [
    "using AdaptiveResonance"
   ],
   "metadata": {},
   "execution_count": 1
  },
  {
   "cell_type": "markdown",
   "source": [
    "Every ART module has a default constructor, which can be instantiated in the usual way:"
   ],
   "metadata": {}
  },
  {
   "outputs": [
    {
     "output_type": "execute_result",
     "data": {
      "text/plain": "FuzzyART"
     },
     "metadata": {},
     "execution_count": 2
    }
   ],
   "cell_type": "code",
   "source": [
    "# Create a FuzzyART module with default options\n",
    "my_fuzzyart = FuzzyART()\n",
    "typeof(my_fuzzyart)"
   ],
   "metadata": {},
   "execution_count": 2
  },
  {
   "cell_type": "markdown",
   "source": [
    "Within every ART module is a [Parameters.jl](https://github.com/mauro3/Parameters.jl) struct named `opts` containing the options for the module"
   ],
   "metadata": {}
  },
  {
   "outputs": [
    {
     "output_type": "execute_result",
     "data": {
      "text/plain": "opts_FuzzyART\n  rho: Float64 0.6\n  alpha: Float64 0.001\n  beta: Float64 1.0\n  gamma: Float64 3.0\n  gamma_ref: Float64 1.0\n  display: Bool true\n  max_epochs: Int64 1\n  gamma_normalization: Bool false\n"
     },
     "metadata": {},
     "execution_count": 3
    }
   ],
   "cell_type": "code",
   "source": [
    "# Check the FuzzyART options\n",
    "my_fuzzyart.opts"
   ],
   "metadata": {},
   "execution_count": 3
  },
  {
   "cell_type": "markdown",
   "source": [
    "Note that the options here have the type `opts_FuzzyART`.\n",
    "This nomenclature is used throughout the module to indicate an options type associated with an ART module.\n",
    "For example, the options for a DDVFA module are `opts_DDVFA`:"
   ],
   "metadata": {}
  },
  {
   "outputs": [
    {
     "output_type": "execute_result",
     "data": {
      "text/plain": "opts_DDVFA"
     },
     "metadata": {},
     "execution_count": 4
    }
   ],
   "cell_type": "code",
   "source": [
    "# Create a DDVFA module and check the type of the options\n",
    "my_ddvfa = DDVFA()\n",
    "typeof(my_ddvfa.opts)"
   ],
   "metadata": {},
   "execution_count": 4
  },
  {
   "cell_type": "markdown",
   "source": [
    "In fact, we can create an instance of these options with a default constructor:"
   ],
   "metadata": {}
  },
  {
   "outputs": [
    {
     "output_type": "execute_result",
     "data": {
      "text/plain": "opts_FuzzyART\n  rho: Float64 0.6\n  alpha: Float64 0.001\n  beta: Float64 1.0\n  gamma: Float64 3.0\n  gamma_ref: Float64 1.0\n  display: Bool true\n  max_epochs: Int64 1\n  gamma_normalization: Bool false\n"
     },
     "metadata": {},
     "execution_count": 5
    }
   ],
   "cell_type": "code",
   "source": [
    "# Create a separate options struct\n",
    "my_fuzzyart_opts = opts_FuzzyART()"
   ],
   "metadata": {},
   "execution_count": 5
  },
  {
   "cell_type": "markdown",
   "source": [
    "In addition to the default constructor, we can construct ART modules by instantiating these options and passing them to the module during construction:"
   ],
   "metadata": {}
  },
  {
   "outputs": [
    {
     "output_type": "execute_result",
     "data": {
      "text/plain": "FuzzyART(opts_FuzzyART\n  rho: Float64 0.6\n  alpha: Float64 0.001\n  beta: Float64 1.0\n  gamma: Float64 3.0\n  gamma_ref: Float64 1.0\n  display: Bool true\n  max_epochs: Int64 1\n  gamma_normalization: Bool false\n, DataConfig(false, Float64[], Float64[], 0, 0), 0.0, Int64[], Float64[], Float64[], Array{Float64}(undef,0,0), Int64[], 0, 0)"
     },
     "metadata": {},
     "execution_count": 6
    }
   ],
   "cell_type": "code",
   "source": [
    "# Instantiate an ART module by passing our options\n",
    "my_fuzzyart = FuzzyART(my_fuzzyart_opts)\n",
    "my_other_fuzzyart = FuzzyART(my_fuzzyart_opts)"
   ],
   "metadata": {},
   "execution_count": 6
  },
  {
   "cell_type": "markdown",
   "source": [
    "### Specifying Options"
   ],
   "metadata": {}
  },
  {
   "cell_type": "markdown",
   "source": [
    "Now to the good stuff: because of the behavior of the `Parameters.jl` type, each option has a default value that we can modify during instantiation with keyword arguments:"
   ],
   "metadata": {}
  },
  {
   "outputs": [
    {
     "output_type": "execute_result",
     "data": {
      "text/plain": "FuzzyART(opts_FuzzyART\n  rho: Float64 0.6\n  alpha: Float64 0.001\n  beta: Float64 1.0\n  gamma: Float64 3.0\n  gamma_ref: Float64 1.0\n  display: Bool true\n  max_epochs: Int64 1\n  gamma_normalization: Bool true\n, DataConfig(false, Float64[], Float64[], 0, 0), 0.0, Int64[], Float64[], Float64[], Array{Float64}(undef,0,0), Int64[], 0, 0)"
     },
     "metadata": {},
     "execution_count": 7
    }
   ],
   "cell_type": "code",
   "source": [
    "# Change some of the default FuzzyART options\n",
    "my_fuzzyart_opts = opts_FuzzyART(\n",
    "    rho=0.6,\n",
    "    gamma_normalization=true\n",
    ")\n",
    "my_fuzzyart = FuzzyART(my_fuzzyart_opts)"
   ],
   "metadata": {},
   "execution_count": 7
  },
  {
   "cell_type": "markdown",
   "source": [
    "As some syntactic sugar, we can pass these keyword arguments directly to the module during instantiation if we have no need to share option structs:"
   ],
   "metadata": {}
  },
  {
   "outputs": [
    {
     "output_type": "execute_result",
     "data": {
      "text/plain": "FuzzyART(opts_FuzzyART\n  rho: Float64 0.6\n  alpha: Float64 0.001\n  beta: Float64 1.0\n  gamma: Float64 3.0\n  gamma_ref: Float64 1.0\n  display: Bool true\n  max_epochs: Int64 1\n  gamma_normalization: Bool true\n, DataConfig(false, Float64[], Float64[], 0, 0), 0.0, Int64[], Float64[], Float64[], Array{Float64}(undef,0,0), Int64[], 0, 0)"
     },
     "metadata": {},
     "execution_count": 8
    }
   ],
   "cell_type": "code",
   "source": [
    "# Pass these keyword arguments to the module directly\n",
    "my_fuzzyart = FuzzyART(\n",
    "    rho=0.6,\n",
    "    gamma_normalization=true\n",
    ")"
   ],
   "metadata": {},
   "execution_count": 8
  },
  {
   "cell_type": "markdown",
   "source": [
    "Before training, we can also instantiate the model and alter the options afterward:"
   ],
   "metadata": {}
  },
  {
   "outputs": [
    {
     "output_type": "execute_result",
     "data": {
      "text/plain": "0.6"
     },
     "metadata": {},
     "execution_count": 9
    }
   ],
   "cell_type": "code",
   "source": [
    "my_fuzzyart = FuzzyART()\n",
    "my_fuzzyart.opts.rho=0.6"
   ],
   "metadata": {},
   "execution_count": 9
  },
  {
   "cell_type": "markdown",
   "source": [
    "!!! note\n",
    "    All ART modules are designed to use this options struct internally when the parameters are needed.\n",
    "    It is possible to change these parameters in the middle of training and evaluation, but some algorithmic instability may occur."
   ],
   "metadata": {}
  },
  {
   "cell_type": "markdown",
   "source": [
    "## Comparison"
   ],
   "metadata": {}
  },
  {
   "cell_type": "markdown",
   "source": [
    "To see the effect that changing these parameters has on the modules, we can train and test them side-by-side."
   ],
   "metadata": {}
  },
  {
   "cell_type": "markdown",
   "source": [
    "We begin with importing AdaptiveResonance for the ART modules and MLDatasets for some data utilities."
   ],
   "metadata": {}
  },
  {
   "outputs": [],
   "cell_type": "code",
   "source": [
    "using MLDatasets        # Iris dataset\n",
    "using MLDataUtils       # Shuffling and splitting\n",
    "using Printf            # Formatted number printing\n",
    "using MultivariateStats # Principal component analysis (PCA)\n",
    "using Plots             # Plotting"
   ],
   "metadata": {},
   "execution_count": 10
  },
  {
   "cell_type": "markdown",
   "source": [
    "We will download the Iris dataset for its small size and benchmark use for clustering algorithms."
   ],
   "metadata": {}
  },
  {
   "outputs": [
    {
     "output_type": "execute_result",
     "data": {
      "text/plain": "([5.1 4.9 … 6.2 5.9; 3.5 3.0 … 3.4 3.0; 1.4 1.4 … 5.4 5.1; 0.2 0.2 … 2.3 1.8], [\"Iris-setosa\", \"Iris-setosa\", \"Iris-setosa\", \"Iris-setosa\", \"Iris-setosa\", \"Iris-setosa\", \"Iris-setosa\", \"Iris-setosa\", \"Iris-setosa\", \"Iris-setosa\"  …  \"Iris-virginica\", \"Iris-virginica\", \"Iris-virginica\", \"Iris-virginica\", \"Iris-virginica\", \"Iris-virginica\", \"Iris-virginica\", \"Iris-virginica\", \"Iris-virginica\", \"Iris-virginica\"])"
     },
     "metadata": {},
     "execution_count": 11
    }
   ],
   "cell_type": "code",
   "source": [
    "Iris.download(i_accept_the_terms_of_use=true)\n",
    "features, labels = Iris.features(), Iris.labels()"
   ],
   "metadata": {},
   "execution_count": 11
  },
  {
   "cell_type": "markdown",
   "source": [
    "Because the MLDatasets package gives us Iris labels as strings, we will use the `MLDataUtils.convertlabel` method with the `MLLabelUtils.LabelEnc.Indices` type to get a list of integers representing each class:"
   ],
   "metadata": {}
  },
  {
   "outputs": [
    {
     "output_type": "execute_result",
     "data": {
      "text/plain": "3-element Array{Int64,1}:\n 1\n 2\n 3"
     },
     "metadata": {},
     "execution_count": 12
    }
   ],
   "cell_type": "code",
   "source": [
    "labels = convertlabel(LabelEnc.Indices{Int}, labels)\n",
    "unique(labels)"
   ],
   "metadata": {},
   "execution_count": 12
  },
  {
   "cell_type": "markdown",
   "source": [
    "Next, we will create a train/test split with the `MLDataUtils.stratifiedobs` utility:"
   ],
   "metadata": {}
  },
  {
   "outputs": [
    {
     "output_type": "execute_result",
     "data": {
      "text/plain": "(([6.3 6.4 … 6.7 6.2; 2.3 2.7 … 3.1 2.9; 4.4 5.3 … 5.6 4.3; 1.3 1.9 … 2.4 1.3], [2, 3, 2, 3, 3, 2, 1, 1, 1, 2  …  1, 1, 3, 1, 3, 2, 1, 1, 3, 2]), ([5.7 6.6 … 5.4 5.4; 3.8 2.9 … 3.4 3.7; 1.7 4.6 … 1.5 1.5; 0.3 1.3 … 0.4 0.2], [1, 2, 3, 1, 1, 1, 1, 2, 2, 3  …  2, 3, 1, 3, 1, 2, 1, 2, 1, 1]))"
     },
     "metadata": {},
     "execution_count": 13
    }
   ],
   "cell_type": "code",
   "source": [
    "(X_train, y_train), (X_test, y_test) = stratifiedobs((features, labels))"
   ],
   "metadata": {},
   "execution_count": 13
  },
  {
   "cell_type": "markdown",
   "source": [
    "Now we can create several FuzzyART modules with different options."
   ],
   "metadata": {}
  },
  {
   "outputs": [
    {
     "output_type": "execute_result",
     "data": {
      "text/plain": "FuzzyART(opts_FuzzyART\n  rho: Float64 0.7\n  alpha: Float64 0.001\n  beta: Float64 1.0\n  gamma: Float64 3.0\n  gamma_ref: Float64 1.0\n  display: Bool false\n  max_epochs: Int64 1\n  gamma_normalization: Bool false\n, DataConfig(false, Float64[], Float64[], 0, 0), 0.0, Int64[], Float64[], Float64[], Array{Float64}(undef,0,0), Int64[], 0, 0)"
     },
     "metadata": {},
     "execution_count": 14
    }
   ],
   "cell_type": "code",
   "source": [
    "# Create two FuzzyARTs with different vigilance values and suppressing logging messages\n",
    "rho_1 = 0.5\n",
    "rho_2 = 0.7\n",
    "my_fuzzyart_1 = FuzzyART(rho=rho_1, display=false)\n",
    "my_fuzzyart_2 = FuzzyART(rho=rho_2, display=false)"
   ],
   "metadata": {},
   "execution_count": 14
  },
  {
   "cell_type": "markdown",
   "source": [
    "Here, we will train these FuzzyART modules in simple supervised mode by passing the supervised labels as a keyword argument:"
   ],
   "metadata": {}
  },
  {
   "outputs": [],
   "cell_type": "code",
   "source": [
    "# Train in simple supervised mode by passing the labels as a keyword argument.\n",
    "y_hat_train_1 = train!(my_fuzzyart_1, X_train, y=y_train)\n",
    "y_hat_train_2 = train!(my_fuzzyart_2, X_train, y=y_train)"
   ],
   "metadata": {},
   "execution_count": 15
  },
  {
   "cell_type": "markdown",
   "source": [
    "We then classify the test data with both modules:"
   ],
   "metadata": {}
  },
  {
   "outputs": [
    {
     "name": "stdout",
     "output_type": "stream",
     "text": [
      "FuzzyART 1 labels: (45,) Array{Int64,1}\n",
      "FuzzyART 2 labels: (45,) Array{Int64,1}\n",
      "Testing performance rho=0.5: 0.9333\n",
      "Testing performance rho=0.7: 0.9778\n"
     ]
    }
   ],
   "cell_type": "code",
   "source": [
    "y_hat_1 = AdaptiveResonance.classify(my_fuzzyart_1, X_test, get_bmu=true)\n",
    "y_hat_2 = AdaptiveResonance.classify(my_fuzzyart_2, X_test, get_bmu=true)\n",
    "\n",
    "# Check the shape and type of the output labels\n",
    "println(\"FuzzyART 1 labels: \",  size(y_hat_1), \" \", typeof(y_hat_1))\n",
    "println(\"FuzzyART 2 labels: \",  size(y_hat_2), \" \", typeof(y_hat_2))\n",
    "\n",
    "# Calculate the performance on the test data\n",
    "perf_test_1 = performance(y_hat_1, y_test)\n",
    "perf_test_2 = performance(y_hat_2, y_test)\n",
    "\n",
    "# Format each performance number for comparison\n",
    "@printf \"Testing performance rho=%.1f: %.4f\\n\" rho_1 perf_test_1\n",
    "@printf \"Testing performance rho=%.1f: %.4f\\n\" rho_2 perf_test_2"
   ],
   "metadata": {},
   "execution_count": 16
  },
  {
   "cell_type": "markdown",
   "source": [
    "In addition to having different performances, we can see that there is a subsequent trade-off in the number of categories used:"
   ],
   "metadata": {}
  },
  {
   "outputs": [
    {
     "name": "stdout",
     "output_type": "stream",
     "text": [
      "Number of categories rho=0.5: 15\n",
      "Number of categories rho=0.7: 18\n"
     ]
    }
   ],
   "cell_type": "code",
   "source": [
    "# Print the number of categories for each vigilance parameter\n",
    "@printf \"Number of categories rho=%.1f: %i\\n\" rho_1 my_fuzzyart_1.n_categories\n",
    "@printf \"Number of categories rho=%.1f: %i\\n\" rho_2 my_fuzzyart_2.n_categories"
   ],
   "metadata": {},
   "execution_count": 17
  },
  {
   "cell_type": "markdown",
   "source": [
    "The variation between vigilance parameter, number of categories created during learning, and testing performance/generalization is a central theme in ART-based algorithms."
   ],
   "metadata": {}
  },
  {
   "cell_type": "markdown",
   "source": [
    "## Visualization"
   ],
   "metadata": {}
  },
  {
   "cell_type": "markdown",
   "source": [
    "Now, to visualize how the two models differ in how they partition the data, we can use principal component analysis (PCA) to compress to two plotting dimensions.\n",
    "PCA is a method to represent a dataset in a different number of dimensions while preserving the relative separation between datapoints.\n",
    "Though most datasets are not able to be effectively transformed down to two dimensions, this technique is useful to get a general sense of how well separated the classes are and how well your algorithm classifies them."
   ],
   "metadata": {}
  },
  {
   "outputs": [
    {
     "name": "stdout",
     "output_type": "stream",
     "text": [
      "┌ Warning: `transform(f, x)` is deprecated, use `predict(f, x)` instead.\n",
      "│   caller = top-level scope at string:5\n",
      "└ @ Core string:5\n"
     ]
    },
    {
     "output_type": "execute_result",
     "data": {
      "text/plain": "2×45 Array{Float64,2}:\n 2.19908   -1.0433    -1.34459    2.58846   …  -0.228879  2.41008  2.50653\n 0.879244   0.228957  -0.776415  -0.197393     -0.402258  0.41808  0.651935"
     },
     "metadata": {},
     "execution_count": 18
    }
   ],
   "cell_type": "code",
   "source": [
    "# Train a PCA model to visually separate the features in two dimensions.\n",
    "M = fit(PCA, features; maxoutdim=2)\n",
    "\n",
    "# Apply the PCA model to the testing set\n",
    "X_test_pca = transform(M, X_test)"
   ],
   "metadata": {},
   "execution_count": 18
  },
  {
   "cell_type": "markdown",
   "source": [
    "We can now plot the PCA'ed test set and label them according to the two FuzzyART's"
   ],
   "metadata": {}
  },
  {
   "outputs": [
    {
     "output_type": "execute_result",
     "data": {
      "text/plain": "Plot{Plots.GRBackend() n=6}",
      "image/png": "[encoded data removed]",
      "text/html": [
       "<?xml version=\"1.0\" encoding=\"utf-8\"?>\n",
       "<svg xmlns=\"http://www.w3.org/2000/svg\" xmlns:xlink=\"http://www.w3.org/1999/xlink\" width=\"600\" height=\"400\" viewBox=\"0 0 2400 1600\">\n",
       "<defs>\n",
       "  <clipPath id=\"clip710\">\n",
       "    <rect x=\"0\" y=\"0\" width=\"2400\" height=\"1600\"/>\n",
       "  </clipPath>\n",
       "</defs>\n",
       "<path clip-path=\"url(#clip710)\" d=\"\n",
       "M0 1600 L2400 1600 L2400 0 L0 0  Z\n",
       "  \" fill=\"#ffffff\" fill-rule=\"evenodd\" fill-opacity=\"1\"/>\n",
       "<defs>\n",
       "  <clipPath id=\"clip711\">\n",
       "    <rect x=\"480\" y=\"0\" width=\"1681\" height=\"1600\"/>\n",
       "  </clipPath>\n",
       "</defs>\n",
       "<path clip-path=\"url(#clip710)\" d=\"\n",
       "M86.9921 1521.01 L1152.76 1521.01 L1152.76 62.9921 L86.9921 62.9921  Z\n",
       "  \" fill=\"#ffffff\" fill-rule=\"evenodd\" fill-opacity=\"1\"/>\n",
       "<defs>\n",
       "  <clipPath id=\"clip712\">\n",
       "    <rect x=\"86\" y=\"62\" width=\"1067\" height=\"1459\"/>\n",
       "  </clipPath>\n",
       "</defs>\n",
       "<polyline clip-path=\"url(#clip712)\" style=\"stroke:#000000; stroke-width:2; stroke-opacity:0.1; fill:none\" points=\"\n",
       "  236.72,1521.01 236.72,62.9921 \n",
       "  \"/>\n",
       "<polyline clip-path=\"url(#clip712)\" style=\"stroke:#000000; stroke-width:2; stroke-opacity:0.1; fill:none\" points=\"\n",
       "  387.175,1521.01 387.175,62.9921 \n",
       "  \"/>\n",
       "<polyline clip-path=\"url(#clip712)\" style=\"stroke:#000000; stroke-width:2; stroke-opacity:0.1; fill:none\" points=\"\n",
       "  537.63,1521.01 537.63,62.9921 \n",
       "  \"/>\n",
       "<polyline clip-path=\"url(#clip712)\" style=\"stroke:#000000; stroke-width:2; stroke-opacity:0.1; fill:none\" points=\"\n",
       "  688.085,1521.01 688.085,62.9921 \n",
       "  \"/>\n",
       "<polyline clip-path=\"url(#clip712)\" style=\"stroke:#000000; stroke-width:2; stroke-opacity:0.1; fill:none\" points=\"\n",
       "  838.54,1521.01 838.54,62.9921 \n",
       "  \"/>\n",
       "<polyline clip-path=\"url(#clip712)\" style=\"stroke:#000000; stroke-width:2; stroke-opacity:0.1; fill:none\" points=\"\n",
       "  988.995,1521.01 988.995,62.9921 \n",
       "  \"/>\n",
       "<polyline clip-path=\"url(#clip712)\" style=\"stroke:#000000; stroke-width:2; stroke-opacity:0.1; fill:none\" points=\"\n",
       "  1139.45,1521.01 1139.45,62.9921 \n",
       "  \"/>\n",
       "<polyline clip-path=\"url(#clip710)\" style=\"stroke:#000000; stroke-width:4; stroke-opacity:1; fill:none\" points=\"\n",
       "  86.9921,1521.01 1152.76,1521.01 \n",
       "  \"/>\n",
       "<polyline clip-path=\"url(#clip710)\" style=\"stroke:#000000; stroke-width:4; stroke-opacity:1; fill:none\" points=\"\n",
       "  236.72,1521.01 236.72,1503.51 \n",
       "  \"/>\n",
       "<polyline clip-path=\"url(#clip710)\" style=\"stroke:#000000; stroke-width:4; stroke-opacity:1; fill:none\" points=\"\n",
       "  387.175,1521.01 387.175,1503.51 \n",
       "  \"/>\n",
       "<polyline clip-path=\"url(#clip710)\" style=\"stroke:#000000; stroke-width:4; stroke-opacity:1; fill:none\" points=\"\n",
       "  537.63,1521.01 537.63,1503.51 \n",
       "  \"/>\n",
       "<polyline clip-path=\"url(#clip710)\" style=\"stroke:#000000; stroke-width:4; stroke-opacity:1; fill:none\" points=\"\n",
       "  688.085,1521.01 688.085,1503.51 \n",
       "  \"/>\n",
       "<polyline clip-path=\"url(#clip710)\" style=\"stroke:#000000; stroke-width:4; stroke-opacity:1; fill:none\" points=\"\n",
       "  838.54,1521.01 838.54,1503.51 \n",
       "  \"/>\n",
       "<polyline clip-path=\"url(#clip710)\" style=\"stroke:#000000; stroke-width:4; stroke-opacity:1; fill:none\" points=\"\n",
       "  988.995,1521.01 988.995,1503.51 \n",
       "  \"/>\n",
       "<polyline clip-path=\"url(#clip710)\" style=\"stroke:#000000; stroke-width:4; stroke-opacity:1; fill:none\" points=\"\n",
       "  1139.45,1521.01 1139.45,1503.51 \n",
       "  \"/>\n",
       "<path clip-path=\"url(#clip710)\" d=\"M 0 0 M215.704 1558.69 L237.961 1558.69 L237.961 1561.64 L215.704 1561.64 L215.704 1558.69 Z\" fill=\"#000000\" fill-rule=\"evenodd\" fill-opacity=\"1\" /><path clip-path=\"url(#clip710)\" d=\"M 0 0 M252.388 1557.34 Q254.906 1557.87 256.312 1559.58 Q257.735 1561.28 257.735 1563.78 Q257.735 1567.61 255.097 1569.71 Q252.458 1571.82 247.597 1571.82 Q245.965 1571.82 244.229 1571.49 Q242.51 1571.17 240.67 1570.53 L240.67 1567.15 Q242.128 1568 243.864 1568.43 Q245.6 1568.86 247.492 1568.86 Q250.791 1568.86 252.51 1567.56 Q254.246 1566.26 254.246 1563.78 Q254.246 1561.49 252.631 1560.2 Q251.034 1558.9 248.169 1558.9 L245.149 1558.9 L245.149 1556.02 L248.308 1556.02 Q250.895 1556.02 252.267 1554.99 Q253.638 1553.95 253.638 1552.01 Q253.638 1550.01 252.215 1548.95 Q250.808 1547.87 248.169 1547.87 Q246.729 1547.87 245.079 1548.19 Q243.43 1548.5 241.451 1549.16 L241.451 1546.03 Q243.447 1545.48 245.183 1545.2 Q246.937 1544.92 248.482 1544.92 Q252.475 1544.92 254.801 1546.75 Q257.128 1548.55 257.128 1551.64 Q257.128 1553.79 255.895 1555.29 Q254.662 1556.76 252.388 1557.34 Z\" fill=\"#000000\" fill-rule=\"evenodd\" fill-opacity=\"1\" /><path clip-path=\"url(#clip710)\" d=\"M 0 0 M366.515 1558.69 L388.772 1558.69 L388.772 1561.64 L366.515 1561.64 L366.515 1558.69 Z\" fill=\"#000000\" fill-rule=\"evenodd\" fill-opacity=\"1\" /><path clip-path=\"url(#clip710)\" d=\"M 0 0 M395.595 1568.36 L407.835 1568.36 L407.835 1571.31 L391.376 1571.31 L391.376 1568.36 Q393.373 1566.29 396.81 1562.82 Q400.265 1559.33 401.151 1558.33 Q402.835 1556.43 403.494 1555.13 Q404.171 1553.81 404.171 1552.54 Q404.171 1550.48 402.713 1549.18 Q401.272 1547.87 398.946 1547.87 Q397.296 1547.87 395.456 1548.45 Q393.633 1549.02 391.55 1550.18 L391.55 1546.64 Q393.668 1545.79 395.508 1545.36 Q397.348 1544.92 398.876 1544.92 Q402.904 1544.92 405.3 1546.94 Q407.696 1548.95 407.696 1552.32 Q407.696 1553.92 407.088 1555.36 Q406.498 1556.78 404.918 1558.73 Q404.484 1559.23 402.157 1561.64 Q399.831 1564.04 395.595 1568.36 Z\" fill=\"#000000\" fill-rule=\"evenodd\" fill-opacity=\"1\" /><path clip-path=\"url(#clip710)\" d=\"M 0 0 M516.831 1558.69 L539.088 1558.69 L539.088 1561.64 L516.831 1561.64 L516.831 1558.69 Z\" fill=\"#000000\" fill-rule=\"evenodd\" fill-opacity=\"1\" /><path clip-path=\"url(#clip710)\" d=\"M 0 0 M543.498 1568.36 L549.227 1568.36 L549.227 1548.59 L542.994 1549.84 L542.994 1546.64 L549.192 1545.39 L552.699 1545.39 L552.699 1568.36 L558.428 1568.36 L558.428 1571.31 L543.498 1571.31 L543.498 1568.36 Z\" fill=\"#000000\" fill-rule=\"evenodd\" fill-opacity=\"1\" /><path clip-path=\"url(#clip710)\" d=\"M 0 0 M688.085 1547.7 Q685.377 1547.7 684.005 1550.37 Q682.651 1553.03 682.651 1558.38 Q682.651 1563.71 684.005 1566.38 Q685.377 1569.04 688.085 1569.04 Q690.811 1569.04 692.165 1566.38 Q693.536 1563.71 693.536 1558.38 Q693.536 1553.03 692.165 1550.37 Q690.811 1547.7 688.085 1547.7 M688.085 1544.92 Q692.443 1544.92 694.734 1548.38 Q697.043 1551.82 697.043 1558.38 Q697.043 1564.92 694.734 1568.38 Q692.443 1571.82 688.085 1571.82 Q683.727 1571.82 681.418 1568.38 Q679.127 1564.92 679.127 1558.38 Q679.127 1551.82 681.418 1548.38 Q683.727 1544.92 688.085 1544.92 Z\" fill=\"#000000\" fill-rule=\"evenodd\" fill-opacity=\"1\" /><path clip-path=\"url(#clip710)\" d=\"M 0 0 M831.326 1568.36 L837.056 1568.36 L837.056 1548.59 L830.823 1549.84 L830.823 1546.64 L837.021 1545.39 L840.528 1545.39 L840.528 1568.36 L846.257 1568.36 L846.257 1571.31 L831.326 1571.31 L831.326 1568.36 Z\" fill=\"#000000\" fill-rule=\"evenodd\" fill-opacity=\"1\" /><path clip-path=\"url(#clip710)\" d=\"M 0 0 M984.985 1568.36 L997.224 1568.36 L997.224 1571.31 L980.766 1571.31 L980.766 1568.36 Q982.762 1566.29 986.2 1562.82 Q989.655 1559.33 990.54 1558.33 Q992.224 1556.43 992.884 1555.13 Q993.561 1553.81 993.561 1552.54 Q993.561 1550.48 992.103 1549.18 Q990.662 1547.87 988.335 1547.87 Q986.686 1547.87 984.846 1548.45 Q983.023 1549.02 980.939 1550.18 L980.939 1546.64 Q983.057 1545.79 984.898 1545.36 Q986.738 1544.92 988.266 1544.92 Q992.294 1544.92 994.689 1546.94 Q997.085 1548.95 997.085 1552.32 Q997.085 1553.92 996.478 1555.36 Q995.887 1556.78 994.307 1558.73 Q993.873 1559.23 991.547 1561.64 Q989.221 1564.04 984.985 1568.36 Z\" fill=\"#000000\" fill-rule=\"evenodd\" fill-opacity=\"1\" /><path clip-path=\"url(#clip710)\" d=\"M 0 0 M1142.64 1557.34 Q1145.15 1557.87 1146.56 1559.58 Q1147.98 1561.28 1147.98 1563.78 Q1147.98 1567.61 1145.34 1569.71 Q1142.71 1571.82 1137.84 1571.82 Q1136.21 1571.82 1134.48 1571.49 Q1132.76 1571.17 1130.92 1570.53 L1130.92 1567.15 Q1132.38 1568 1134.11 1568.43 Q1135.85 1568.86 1137.74 1568.86 Q1141.04 1568.86 1142.76 1567.56 Q1144.49 1566.26 1144.49 1563.78 Q1144.49 1561.49 1142.88 1560.2 Q1141.28 1558.9 1138.42 1558.9 L1135.4 1558.9 L1135.4 1556.02 L1138.56 1556.02 Q1141.14 1556.02 1142.51 1554.99 Q1143.89 1553.95 1143.89 1552.01 Q1143.89 1550.01 1142.46 1548.95 Q1141.06 1547.87 1138.42 1547.87 Q1136.98 1547.87 1135.33 1548.19 Q1133.68 1548.5 1131.7 1549.16 L1131.7 1546.03 Q1133.69 1545.48 1135.43 1545.2 Q1137.18 1544.92 1138.73 1544.92 Q1142.72 1544.92 1145.05 1546.75 Q1147.38 1548.55 1147.38 1551.64 Q1147.38 1553.79 1146.14 1555.29 Q1144.91 1556.76 1142.64 1557.34 Z\" fill=\"#000000\" fill-rule=\"evenodd\" fill-opacity=\"1\" /><polyline clip-path=\"url(#clip712)\" style=\"stroke:#000000; stroke-width:2; stroke-opacity:0.1; fill:none\" points=\"\n",
       "  86.9921,1457.8 1152.76,1457.8 \n",
       "  \"/>\n",
       "<polyline clip-path=\"url(#clip712)\" style=\"stroke:#000000; stroke-width:2; stroke-opacity:0.1; fill:none\" points=\"\n",
       "  86.9921,1250.1 1152.76,1250.1 \n",
       "  \"/>\n",
       "<polyline clip-path=\"url(#clip712)\" style=\"stroke:#000000; stroke-width:2; stroke-opacity:0.1; fill:none\" points=\"\n",
       "  86.9921,1042.41 1152.76,1042.41 \n",
       "  \"/>\n",
       "<polyline clip-path=\"url(#clip712)\" style=\"stroke:#000000; stroke-width:2; stroke-opacity:0.1; fill:none\" points=\"\n",
       "  86.9921,834.714 1152.76,834.714 \n",
       "  \"/>\n",
       "<polyline clip-path=\"url(#clip712)\" style=\"stroke:#000000; stroke-width:2; stroke-opacity:0.1; fill:none\" points=\"\n",
       "  86.9921,627.019 1152.76,627.019 \n",
       "  \"/>\n",
       "<polyline clip-path=\"url(#clip712)\" style=\"stroke:#000000; stroke-width:2; stroke-opacity:0.1; fill:none\" points=\"\n",
       "  86.9921,419.325 1152.76,419.325 \n",
       "  \"/>\n",
       "<polyline clip-path=\"url(#clip712)\" style=\"stroke:#000000; stroke-width:2; stroke-opacity:0.1; fill:none\" points=\"\n",
       "  86.9921,211.63 1152.76,211.63 \n",
       "  \"/>\n",
       "<polyline clip-path=\"url(#clip710)\" style=\"stroke:#000000; stroke-width:4; stroke-opacity:1; fill:none\" points=\"\n",
       "  86.9921,1521.01 86.9921,62.9921 \n",
       "  \"/>\n",
       "<polyline clip-path=\"url(#clip710)\" style=\"stroke:#000000; stroke-width:4; stroke-opacity:1; fill:none\" points=\"\n",
       "  86.9921,1457.8 99.7813,1457.8 \n",
       "  \"/>\n",
       "<polyline clip-path=\"url(#clip710)\" style=\"stroke:#000000; stroke-width:4; stroke-opacity:1; fill:none\" points=\"\n",
       "  86.9921,1250.1 99.7813,1250.1 \n",
       "  \"/>\n",
       "<polyline clip-path=\"url(#clip710)\" style=\"stroke:#000000; stroke-width:4; stroke-opacity:1; fill:none\" points=\"\n",
       "  86.9921,1042.41 99.7813,1042.41 \n",
       "  \"/>\n",
       "<polyline clip-path=\"url(#clip710)\" style=\"stroke:#000000; stroke-width:4; stroke-opacity:1; fill:none\" points=\"\n",
       "  86.9921,834.714 99.7813,834.714 \n",
       "  \"/>\n",
       "<polyline clip-path=\"url(#clip710)\" style=\"stroke:#000000; stroke-width:4; stroke-opacity:1; fill:none\" points=\"\n",
       "  86.9921,627.019 99.7813,627.019 \n",
       "  \"/>\n",
       "<polyline clip-path=\"url(#clip710)\" style=\"stroke:#000000; stroke-width:4; stroke-opacity:1; fill:none\" points=\"\n",
       "  86.9921,419.325 99.7813,419.325 \n",
       "  \"/>\n",
       "<polyline clip-path=\"url(#clip710)\" style=\"stroke:#000000; stroke-width:4; stroke-opacity:1; fill:none\" points=\"\n",
       "  86.9921,211.63 99.7813,211.63 \n",
       "  \"/>\n",
       "<path clip-path=\"url(#clip710)\" d=\"M 0 0 M-67.7804 1458.25 L-38.1046 1458.25 L-38.1046 1462.18 L-67.7804 1462.18 L-67.7804 1458.25 Z\" fill=\"#000000\" fill-rule=\"evenodd\" fill-opacity=\"1\" /><path clip-path=\"url(#clip710)\" d=\"M 0 0 M-23.0353 1443.6 Q-26.6463 1443.6 -28.475 1447.16 Q-30.2806 1450.7 -30.2806 1457.83 Q-30.2806 1464.94 -28.475 1468.5 Q-26.6463 1472.05 -23.0353 1472.05 Q-19.401 1472.05 -17.5955 1468.5 Q-15.7668 1464.94 -15.7668 1457.83 Q-15.7668 1450.7 -17.5955 1447.16 Q-19.401 1443.6 -23.0353 1443.6 M-23.0353 1439.89 Q-17.2251 1439.89 -14.1696 1444.5 Q-11.0909 1449.08 -11.0909 1457.83 Q-11.0909 1466.56 -14.1696 1471.17 Q-17.2251 1475.75 -23.0353 1475.75 Q-28.8454 1475.75 -31.9241 1471.17 Q-34.9796 1466.56 -34.9796 1457.83 Q-34.9796 1449.08 -31.9241 1444.5 Q-28.8454 1439.89 -23.0353 1439.89 Z\" fill=\"#000000\" fill-rule=\"evenodd\" fill-opacity=\"1\" /><path clip-path=\"url(#clip710)\" d=\"M 0 0 M-6.02146 1469.2 L-1.13722 1469.2 L-1.13722 1475.08 L-6.02146 1475.08 L-6.02146 1469.2 Z\" fill=\"#000000\" fill-rule=\"evenodd\" fill-opacity=\"1\" /><path clip-path=\"url(#clip710)\" d=\"M 0 0 M2.75164 1440.52 L24.9737 1440.52 L24.9737 1442.51 L12.4275 1475.08 L7.54328 1475.08 L19.3488 1444.45 L2.75164 1444.45 L2.75164 1440.52 Z\" fill=\"#000000\" fill-rule=\"evenodd\" fill-opacity=\"1\" /><path clip-path=\"url(#clip710)\" d=\"M 0 0 M30.0895 1440.52 L48.4458 1440.52 L48.4458 1444.45 L34.3718 1444.45 L34.3718 1452.93 Q35.3904 1452.58 36.4089 1452.42 Q37.4274 1452.23 38.4459 1452.23 Q44.2329 1452.23 47.6125 1455.4 Q50.9921 1458.57 50.9921 1463.99 Q50.9921 1469.57 47.5199 1472.67 Q44.0477 1475.75 37.7283 1475.75 Q35.5524 1475.75 33.2839 1475.38 Q31.0385 1475.01 28.6311 1474.27 L28.6311 1469.57 Q30.7145 1470.7 32.9367 1471.26 Q35.1589 1471.81 37.6357 1471.81 Q41.6403 1471.81 43.9783 1469.71 Q46.3162 1467.6 46.3162 1463.99 Q46.3162 1460.38 43.9783 1458.27 Q41.6403 1456.17 37.6357 1456.17 Q35.7607 1456.17 33.8857 1456.58 Q32.0339 1457 30.0895 1457.88 L30.0895 1440.52 Z\" fill=\"#000000\" fill-rule=\"evenodd\" fill-opacity=\"1\" /><path clip-path=\"url(#clip710)\" d=\"M 0 0 M-68.6832 1250.55 L-39.0074 1250.55 L-39.0074 1254.49 L-68.6832 1254.49 L-68.6832 1250.55 Z\" fill=\"#000000\" fill-rule=\"evenodd\" fill-opacity=\"1\" /><path clip-path=\"url(#clip710)\" d=\"M 0 0 M-23.938 1235.9 Q-27.5491 1235.9 -29.3778 1239.47 Q-31.1834 1243.01 -31.1834 1250.14 Q-31.1834 1257.24 -29.3778 1260.81 Q-27.5491 1264.35 -23.938 1264.35 Q-20.3038 1264.35 -18.4982 1260.81 Q-16.6695 1257.24 -16.6695 1250.14 Q-16.6695 1243.01 -18.4982 1239.47 Q-20.3038 1235.9 -23.938 1235.9 M-23.938 1232.2 Q-18.1279 1232.2 -15.0723 1236.8 Q-11.9936 1241.39 -11.9936 1250.14 Q-11.9936 1258.86 -15.0723 1263.47 Q-18.1279 1268.05 -23.938 1268.05 Q-29.7482 1268.05 -32.8269 1263.47 Q-35.8824 1258.86 -35.8824 1250.14 Q-35.8824 1241.39 -32.8269 1236.8 Q-29.7482 1232.2 -23.938 1232.2 Z\" fill=\"#000000\" fill-rule=\"evenodd\" fill-opacity=\"1\" /><path clip-path=\"url(#clip710)\" d=\"M 0 0 M-6.92423 1261.5 L-2.04 1261.5 L-2.04 1267.38 L-6.92423 1267.38 L-6.92423 1261.5 Z\" fill=\"#000000\" fill-rule=\"evenodd\" fill-opacity=\"1\" /><path clip-path=\"url(#clip710)\" d=\"M 0 0 M3.07572 1232.82 L21.4321 1232.82 L21.4321 1236.76 L7.3581 1236.76 L7.3581 1245.23 Q8.37661 1244.88 9.39513 1244.72 Q10.4136 1244.54 11.4322 1244.54 Q17.2192 1244.54 20.5988 1247.71 Q23.9784 1250.88 23.9784 1256.3 Q23.9784 1261.87 20.5062 1264.98 Q17.034 1268.05 10.7146 1268.05 Q8.53865 1268.05 6.27014 1267.68 Q4.02479 1267.31 1.61739 1266.57 L1.61739 1261.87 Q3.70071 1263.01 5.92292 1263.56 Q8.14513 1264.12 10.622 1264.12 Q14.6266 1264.12 16.9645 1262.01 Q19.3025 1259.91 19.3025 1256.3 Q19.3025 1252.68 16.9645 1250.58 Q14.6266 1248.47 10.622 1248.47 Q8.74698 1248.47 6.87199 1248.89 Q5.02015 1249.3 3.07572 1250.18 L3.07572 1232.82 Z\" fill=\"#000000\" fill-rule=\"evenodd\" fill-opacity=\"1\" /><path clip-path=\"url(#clip710)\" d=\"M 0 0 M39.0477 1235.9 Q35.4367 1235.9 33.608 1239.47 Q31.8024 1243.01 31.8024 1250.14 Q31.8024 1257.24 33.608 1260.81 Q35.4367 1264.35 39.0477 1264.35 Q42.682 1264.35 44.4875 1260.81 Q46.3162 1257.24 46.3162 1250.14 Q46.3162 1243.01 44.4875 1239.47 Q42.682 1235.9 39.0477 1235.9 M39.0477 1232.2 Q44.8579 1232.2 47.9134 1236.8 Q50.9921 1241.39 50.9921 1250.14 Q50.9921 1258.86 47.9134 1263.47 Q44.8579 1268.05 39.0477 1268.05 Q33.2376 1268.05 30.1589 1263.47 Q27.1034 1258.86 27.1034 1250.14 Q27.1034 1241.39 30.1589 1236.8 Q33.2376 1232.2 39.0477 1232.2 Z\" fill=\"#000000\" fill-rule=\"evenodd\" fill-opacity=\"1\" /><path clip-path=\"url(#clip710)\" d=\"M 0 0 M-67.0859 1042.86 L-37.4102 1042.86 L-37.4102 1046.8 L-67.0859 1046.8 L-67.0859 1042.86 Z\" fill=\"#000000\" fill-rule=\"evenodd\" fill-opacity=\"1\" /><path clip-path=\"url(#clip710)\" d=\"M 0 0 M-22.3408 1028.21 Q-25.9519 1028.21 -27.7806 1031.77 Q-29.5861 1035.31 -29.5861 1042.44 Q-29.5861 1049.55 -27.7806 1053.11 Q-25.9519 1056.66 -22.3408 1056.66 Q-18.7066 1056.66 -16.901 1053.11 Q-15.0723 1049.55 -15.0723 1042.44 Q-15.0723 1035.31 -16.901 1031.77 Q-18.7066 1028.21 -22.3408 1028.21 M-22.3408 1024.5 Q-16.5307 1024.5 -13.4751 1029.11 Q-10.3964 1033.69 -10.3964 1042.44 Q-10.3964 1051.17 -13.4751 1055.78 Q-16.5307 1060.36 -22.3408 1060.36 Q-28.151 1060.36 -31.2297 1055.78 Q-34.2852 1051.17 -34.2852 1042.44 Q-34.2852 1033.69 -31.2297 1029.11 Q-28.151 1024.5 -22.3408 1024.5 Z\" fill=\"#000000\" fill-rule=\"evenodd\" fill-opacity=\"1\" /><path clip-path=\"url(#clip710)\" d=\"M 0 0 M-5.32702 1053.81 L-0.442784 1053.81 L-0.442784 1059.69 L-5.32702 1059.69 L-5.32702 1053.81 Z\" fill=\"#000000\" fill-rule=\"evenodd\" fill-opacity=\"1\" /><path clip-path=\"url(#clip710)\" d=\"M 0 0 M8.65439 1055.75 L24.9737 1055.75 L24.9737 1059.69 L3.02942 1059.69 L3.02942 1055.75 Q5.69144 1053 10.2748 1048.37 Q14.8812 1043.72 16.0618 1042.37 Q18.3071 1039.85 19.1867 1038.11 Q20.0895 1036.36 20.0895 1034.67 Q20.0895 1031.91 18.1451 1030.17 Q16.2238 1028.44 13.122 1028.44 Q10.9229 1028.44 8.46921 1029.2 Q6.03866 1029.97 3.2609 1031.52 L3.2609 1026.8 Q6.08496 1025.66 8.53865 1025.08 Q10.9923 1024.5 13.0294 1024.5 Q18.3997 1024.5 21.5941 1027.19 Q24.7886 1029.87 24.7886 1034.36 Q24.7886 1036.49 23.9784 1038.42 Q23.1913 1040.31 21.0849 1042.91 Q20.5062 1043.58 17.4043 1046.8 Q14.3025 1049.99 8.65439 1055.75 Z\" fill=\"#000000\" fill-rule=\"evenodd\" fill-opacity=\"1\" /><path clip-path=\"url(#clip710)\" d=\"M 0 0 M30.0895 1025.13 L48.4458 1025.13 L48.4458 1029.06 L34.3718 1029.06 L34.3718 1037.54 Q35.3904 1037.19 36.4089 1037.03 Q37.4274 1036.84 38.4459 1036.84 Q44.2329 1036.84 47.6125 1040.01 Q50.9921 1043.18 50.9921 1048.6 Q50.9921 1054.18 47.5199 1057.28 Q44.0477 1060.36 37.7283 1060.36 Q35.5524 1060.36 33.2839 1059.99 Q31.0385 1059.62 28.6311 1058.88 L28.6311 1054.18 Q30.7145 1055.31 32.9367 1055.87 Q35.1589 1056.42 37.6357 1056.42 Q41.6403 1056.42 43.9783 1054.32 Q46.3162 1052.21 46.3162 1048.6 Q46.3162 1044.99 43.9783 1042.88 Q41.6403 1040.78 37.6357 1040.78 Q35.7607 1040.78 33.8857 1041.19 Q32.0339 1041.61 30.0895 1042.49 L30.0895 1025.13 Z\" fill=\"#000000\" fill-rule=\"evenodd\" fill-opacity=\"1\" /><path clip-path=\"url(#clip710)\" d=\"M 0 0 M-24.9334 820.513 Q-28.5445 820.513 -30.3732 824.077 Q-32.1787 827.619 -32.1787 834.749 Q-32.1787 841.855 -30.3732 845.42 Q-28.5445 848.962 -24.9334 848.962 Q-21.2992 848.962 -19.4936 845.42 Q-17.6649 841.855 -17.6649 834.749 Q-17.6649 827.619 -19.4936 824.077 Q-21.2992 820.513 -24.9334 820.513 M-24.9334 816.809 Q-19.1232 816.809 -16.0677 821.415 Q-12.989 825.999 -12.989 834.749 Q-12.989 843.475 -16.0677 848.082 Q-19.1232 852.665 -24.9334 852.665 Q-30.7435 852.665 -33.8222 848.082 Q-36.8778 843.475 -36.8778 834.749 Q-36.8778 825.999 -33.8222 821.415 Q-30.7435 816.809 -24.9334 816.809 Z\" fill=\"#000000\" fill-rule=\"evenodd\" fill-opacity=\"1\" /><path clip-path=\"url(#clip710)\" d=\"M 0 0 M-7.9196 846.114 L-3.03536 846.114 L-3.03536 851.994 L-7.9196 851.994 L-7.9196 846.114 Z\" fill=\"#000000\" fill-rule=\"evenodd\" fill-opacity=\"1\" /><path clip-path=\"url(#clip710)\" d=\"M 0 0 M12.034 820.513 Q8.42291 820.513 6.59422 824.077 Q4.78867 827.619 4.78867 834.749 Q4.78867 841.855 6.59422 845.42 Q8.42291 848.962 12.034 848.962 Q15.6682 848.962 17.4738 845.42 Q19.3025 841.855 19.3025 834.749 Q19.3025 827.619 17.4738 824.077 Q15.6682 820.513 12.034 820.513 M12.034 816.809 Q17.8442 816.809 20.8997 821.415 Q23.9784 825.999 23.9784 834.749 Q23.9784 843.475 20.8997 848.082 Q17.8442 852.665 12.034 852.665 Q6.22385 852.665 3.14516 848.082 Q0.089621 843.475 0.089621 834.749 Q0.089621 825.999 3.14516 821.415 Q6.22385 816.809 12.034 816.809 Z\" fill=\"#000000\" fill-rule=\"evenodd\" fill-opacity=\"1\" /><path clip-path=\"url(#clip710)\" d=\"M 0 0 M39.0477 820.513 Q35.4367 820.513 33.608 824.077 Q31.8024 827.619 31.8024 834.749 Q31.8024 841.855 33.608 845.42 Q35.4367 848.962 39.0477 848.962 Q42.682 848.962 44.4875 845.42 Q46.3162 841.855 46.3162 834.749 Q46.3162 827.619 44.4875 824.077 Q42.682 820.513 39.0477 820.513 M39.0477 816.809 Q44.8579 816.809 47.9134 821.415 Q50.9921 825.999 50.9921 834.749 Q50.9921 843.475 47.9134 848.082 Q44.8579 852.665 39.0477 852.665 Q33.2376 852.665 30.1589 848.082 Q27.1034 843.475 27.1034 834.749 Q27.1034 825.999 30.1589 821.415 Q33.2376 816.809 39.0477 816.809 Z\" fill=\"#000000\" fill-rule=\"evenodd\" fill-opacity=\"1\" /><path clip-path=\"url(#clip710)\" d=\"M 0 0 M-22.3408 612.818 Q-25.9519 612.818 -27.7806 616.383 Q-29.5861 619.924 -29.5861 627.054 Q-29.5861 634.16 -27.7806 637.725 Q-25.9519 641.267 -22.3408 641.267 Q-18.7066 641.267 -16.901 637.725 Q-15.0723 634.16 -15.0723 627.054 Q-15.0723 619.924 -16.901 616.383 Q-18.7066 612.818 -22.3408 612.818 M-22.3408 609.114 Q-16.5307 609.114 -13.4751 613.721 Q-10.3964 618.304 -10.3964 627.054 Q-10.3964 635.781 -13.4751 640.387 Q-16.5307 644.971 -22.3408 644.971 Q-28.151 644.971 -31.2297 640.387 Q-34.2852 635.781 -34.2852 627.054 Q-34.2852 618.304 -31.2297 613.721 Q-28.151 609.114 -22.3408 609.114 Z\" fill=\"#000000\" fill-rule=\"evenodd\" fill-opacity=\"1\" /><path clip-path=\"url(#clip710)\" d=\"M 0 0 M-5.32702 638.42 L-0.442784 638.42 L-0.442784 644.299 L-5.32702 644.299 L-5.32702 638.42 Z\" fill=\"#000000\" fill-rule=\"evenodd\" fill-opacity=\"1\" /><path clip-path=\"url(#clip710)\" d=\"M 0 0 M8.65439 640.364 L24.9737 640.364 L24.9737 644.299 L3.02942 644.299 L3.02942 640.364 Q5.69144 637.609 10.2748 632.98 Q14.8812 628.327 16.0618 626.985 Q18.3071 624.461 19.1867 622.725 Q20.0895 620.966 20.0895 619.276 Q20.0895 616.522 18.1451 614.786 Q16.2238 613.049 13.122 613.049 Q10.9229 613.049 8.46921 613.813 Q6.03866 614.577 3.2609 616.128 L3.2609 611.406 Q6.08496 610.272 8.53865 609.693 Q10.9923 609.114 13.0294 609.114 Q18.3997 609.114 21.5941 611.799 Q24.7886 614.485 24.7886 618.975 Q24.7886 621.105 23.9784 623.026 Q23.1913 624.924 21.0849 627.517 Q20.5062 628.188 17.4043 631.406 Q14.3025 634.6 8.65439 640.364 Z\" fill=\"#000000\" fill-rule=\"evenodd\" fill-opacity=\"1\" /><path clip-path=\"url(#clip710)\" d=\"M 0 0 M30.0895 609.739 L48.4458 609.739 L48.4458 613.674 L34.3718 613.674 L34.3718 622.147 Q35.3904 621.799 36.4089 621.637 Q37.4274 621.452 38.4459 621.452 Q44.2329 621.452 47.6125 624.623 Q50.9921 627.795 50.9921 633.211 Q50.9921 638.79 47.5199 641.892 Q44.0477 644.971 37.7283 644.971 Q35.5524 644.971 33.2839 644.6 Q31.0385 644.23 28.6311 643.489 L28.6311 638.79 Q30.7145 639.924 32.9367 640.48 Q35.1589 641.035 37.6357 641.035 Q41.6403 641.035 43.9783 638.929 Q46.3162 636.822 46.3162 633.211 Q46.3162 629.6 43.9783 627.494 Q41.6403 625.387 37.6357 625.387 Q35.7607 625.387 33.8857 625.804 Q32.0339 626.221 30.0895 627.1 L30.0895 609.739 Z\" fill=\"#000000\" fill-rule=\"evenodd\" fill-opacity=\"1\" /><path clip-path=\"url(#clip710)\" d=\"M 0 0 M-23.938 405.123 Q-27.5491 405.123 -29.3778 408.688 Q-31.1834 412.23 -31.1834 419.359 Q-31.1834 426.466 -29.3778 430.031 Q-27.5491 433.572 -23.938 433.572 Q-20.3038 433.572 -18.4982 430.031 Q-16.6695 426.466 -16.6695 419.359 Q-16.6695 412.23 -18.4982 408.688 Q-20.3038 405.123 -23.938 405.123 M-23.938 401.42 Q-18.1279 401.42 -15.0723 406.026 Q-11.9936 410.609 -11.9936 419.359 Q-11.9936 428.086 -15.0723 432.693 Q-18.1279 437.276 -23.938 437.276 Q-29.7482 437.276 -32.8269 432.693 Q-35.8824 428.086 -35.8824 419.359 Q-35.8824 410.609 -32.8269 406.026 Q-29.7482 401.42 -23.938 401.42 Z\" fill=\"#000000\" fill-rule=\"evenodd\" fill-opacity=\"1\" /><path clip-path=\"url(#clip710)\" d=\"M 0 0 M-6.92423 430.725 L-2.04 430.725 L-2.04 436.605 L-6.92423 436.605 L-6.92423 430.725 Z\" fill=\"#000000\" fill-rule=\"evenodd\" fill-opacity=\"1\" /><path clip-path=\"url(#clip710)\" d=\"M 0 0 M3.07572 402.045 L21.4321 402.045 L21.4321 405.98 L7.3581 405.98 L7.3581 414.452 Q8.37661 414.105 9.39513 413.943 Q10.4136 413.758 11.4322 413.758 Q17.2192 413.758 20.5988 416.929 Q23.9784 420.1 23.9784 425.517 Q23.9784 431.095 20.5062 434.197 Q17.034 437.276 10.7146 437.276 Q8.53865 437.276 6.27014 436.906 Q4.02479 436.535 1.61739 435.794 L1.61739 431.095 Q3.70071 432.23 5.92292 432.785 Q8.14513 433.341 10.622 433.341 Q14.6266 433.341 16.9645 431.234 Q19.3025 429.128 19.3025 425.517 Q19.3025 421.906 16.9645 419.799 Q14.6266 417.693 10.622 417.693 Q8.74698 417.693 6.87199 418.109 Q5.02015 418.526 3.07572 419.406 L3.07572 402.045 Z\" fill=\"#000000\" fill-rule=\"evenodd\" fill-opacity=\"1\" /><path clip-path=\"url(#clip710)\" d=\"M 0 0 M39.0477 405.123 Q35.4367 405.123 33.608 408.688 Q31.8024 412.23 31.8024 419.359 Q31.8024 426.466 33.608 430.031 Q35.4367 433.572 39.0477 433.572 Q42.682 433.572 44.4875 430.031 Q46.3162 426.466 46.3162 419.359 Q46.3162 412.23 44.4875 408.688 Q42.682 405.123 39.0477 405.123 M39.0477 401.42 Q44.8579 401.42 47.9134 406.026 Q50.9921 410.609 50.9921 419.359 Q50.9921 428.086 47.9134 432.693 Q44.8579 437.276 39.0477 437.276 Q33.2376 437.276 30.1589 432.693 Q27.1034 428.086 27.1034 419.359 Q27.1034 410.609 30.1589 406.026 Q33.2376 401.42 39.0477 401.42 Z\" fill=\"#000000\" fill-rule=\"evenodd\" fill-opacity=\"1\" /><path clip-path=\"url(#clip710)\" d=\"M 0 0 M-23.0353 197.429 Q-26.6463 197.429 -28.475 200.993 Q-30.2806 204.535 -30.2806 211.665 Q-30.2806 218.771 -28.475 222.336 Q-26.6463 225.878 -23.0353 225.878 Q-19.401 225.878 -17.5955 222.336 Q-15.7668 218.771 -15.7668 211.665 Q-15.7668 204.535 -17.5955 200.993 Q-19.401 197.429 -23.0353 197.429 M-23.0353 193.725 Q-17.2251 193.725 -14.1696 198.331 Q-11.0909 202.915 -11.0909 211.665 Q-11.0909 220.391 -14.1696 224.998 Q-17.2251 229.581 -23.0353 229.581 Q-28.8454 229.581 -31.9241 224.998 Q-34.9796 220.391 -34.9796 211.665 Q-34.9796 202.915 -31.9241 198.331 Q-28.8454 193.725 -23.0353 193.725 Z\" fill=\"#000000\" fill-rule=\"evenodd\" fill-opacity=\"1\" /><path clip-path=\"url(#clip710)\" d=\"M 0 0 M-6.02146 223.03 L-1.13722 223.03 L-1.13722 228.91 L-6.02146 228.91 L-6.02146 223.03 Z\" fill=\"#000000\" fill-rule=\"evenodd\" fill-opacity=\"1\" /><path clip-path=\"url(#clip710)\" d=\"M 0 0 M2.75164 194.35 L24.9737 194.35 L24.9737 196.341 L12.4275 228.91 L7.54328 228.91 L19.3488 198.285 L2.75164 198.285 L2.75164 194.35 Z\" fill=\"#000000\" fill-rule=\"evenodd\" fill-opacity=\"1\" /><path clip-path=\"url(#clip710)\" d=\"M 0 0 M30.0895 194.35 L48.4458 194.35 L48.4458 198.285 L34.3718 198.285 L34.3718 206.757 Q35.3904 206.41 36.4089 206.248 Q37.4274 206.063 38.4459 206.063 Q44.2329 206.063 47.6125 209.234 Q50.9921 212.405 50.9921 217.822 Q50.9921 223.401 47.5199 226.503 Q44.0477 229.581 37.7283 229.581 Q35.5524 229.581 33.2839 229.211 Q31.0385 228.841 28.6311 228.1 L28.6311 223.401 Q30.7145 224.535 32.9367 225.091 Q35.1589 225.646 37.6357 225.646 Q41.6403 225.646 43.9783 223.54 Q46.3162 221.433 46.3162 217.822 Q46.3162 214.211 43.9783 212.104 Q41.6403 209.998 37.6357 209.998 Q35.7607 209.998 33.8857 210.415 Q32.0339 210.831 30.0895 211.711 L30.0895 194.35 Z\" fill=\"#000000\" fill-rule=\"evenodd\" fill-opacity=\"1\" /><path clip-path=\"url(#clip710)\" d=\"M 0 0 M410.581 6.912 L430.442 6.912 L430.442 10.8472 L415.257 10.8472 L415.257 21.0323 L428.961 21.0323 L428.961 24.9675 L415.257 24.9675 L415.257 41.472 L410.581 41.472 L410.581 6.912 Z\" fill=\"#000000\" fill-rule=\"evenodd\" fill-opacity=\"1\" /><path clip-path=\"url(#clip710)\" d=\"M 0 0 M431.877 31.2406 L431.877 15.5462 L436.137 15.5462 L436.137 31.0785 Q436.137 34.7591 437.572 36.6109 Q439.007 38.4396 441.877 38.4396 Q445.326 38.4396 447.317 36.2405 Q449.331 34.0415 449.331 30.2452 L449.331 15.5462 L453.59 15.5462 L453.59 41.472 L449.331 41.472 L449.331 37.4905 Q447.78 39.8516 445.72 41.009 Q443.683 42.1433 440.975 42.1433 Q436.507 42.1433 434.192 39.3655 Q431.877 36.5878 431.877 31.2406 M442.595 14.9212 L442.595 14.9212 Z\" fill=\"#000000\" fill-rule=\"evenodd\" fill-opacity=\"1\" /><path clip-path=\"url(#clip710)\" d=\"M 0 0 M456.206 15.5462 L476.437 15.5462 L476.437 19.4351 L460.419 38.0692 L476.437 38.0692 L476.437 41.472 L455.627 41.472 L455.627 37.5831 L471.646 18.949 L456.206 18.949 L456.206 15.5462 Z\" fill=\"#000000\" fill-rule=\"evenodd\" fill-opacity=\"1\" /><path clip-path=\"url(#clip710)\" d=\"M 0 0 M479.053 15.5462 L499.284 15.5462 L499.284 19.4351 L483.266 38.0692 L499.284 38.0692 L499.284 41.472 L478.474 41.472 L478.474 37.5831 L494.493 18.949 L479.053 18.949 L479.053 15.5462 Z\" fill=\"#000000\" fill-rule=\"evenodd\" fill-opacity=\"1\" /><path clip-path=\"url(#clip710)\" d=\"M 0 0 M514.539 43.8794 Q512.733 48.509 511.02 49.921 Q509.307 51.3331 506.437 51.3331 L503.034 51.3331 L503.034 47.7683 L505.534 47.7683 Q507.294 47.7683 508.266 46.9349 Q509.238 46.1016 510.419 42.9998 L511.182 41.0553 L500.696 15.5462 L505.21 15.5462 L513.312 35.8239 L521.414 15.5462 L525.928 15.5462 L514.539 43.8794 Z\" fill=\"#000000\" fill-rule=\"evenodd\" fill-opacity=\"1\" /><path clip-path=\"url(#clip710)\" d=\"M 0 0 M542.131 11.5185 L535.789 28.7174 L548.497 28.7174 L542.131 11.5185 M539.493 6.912 L544.793 6.912 L557.965 41.472 L553.104 41.472 L549.955 32.6063 L534.377 32.6063 L531.229 41.472 L526.298 41.472 L539.493 6.912 Z\" fill=\"#000000\" fill-rule=\"evenodd\" fill-opacity=\"1\" /><path clip-path=\"url(#clip710)\" d=\"M 0 0 M579.006 25.2684 Q580.511 25.7776 581.923 27.4443 Q583.358 29.111 584.793 32.0276 L589.539 41.472 L584.515 41.472 L580.094 32.6063 Q578.381 29.1341 576.761 27.9998 Q575.164 26.8656 572.386 26.8656 L567.293 26.8656 L567.293 41.472 L562.617 41.472 L562.617 6.912 L573.173 6.912 Q579.099 6.912 582.015 9.38884 Q584.932 11.8657 584.932 16.8657 Q584.932 20.1295 583.404 22.2823 Q581.9 24.4351 579.006 25.2684 M567.293 10.7546 L567.293 23.023 L573.173 23.023 Q576.552 23.023 578.265 21.4721 Q580.002 19.898 580.002 16.8657 Q580.002 13.8333 578.265 12.3055 Q576.552 10.7546 573.173 10.7546 L567.293 10.7546 Z\" fill=\"#000000\" fill-rule=\"evenodd\" fill-opacity=\"1\" /><path clip-path=\"url(#clip710)\" d=\"M 0 0 M585.951 6.912 L615.187 6.912 L615.187 10.8472 L602.918 10.8472 L602.918 41.472 L598.219 41.472 L598.219 10.8472 L585.951 10.8472 L585.951 6.912 Z\" fill=\"#000000\" fill-rule=\"evenodd\" fill-opacity=\"1\" /><path clip-path=\"url(#clip710)\" d=\"M 0 0 M649.747 19.5277 Q649.029 19.111 648.172 18.9258 Q647.339 18.7175 646.321 18.7175 Q642.71 18.7175 640.765 21.0786 Q638.844 23.4165 638.844 27.8147 L638.844 41.472 L634.561 41.472 L634.561 15.5462 L638.844 15.5462 L638.844 19.574 Q640.186 17.2129 642.339 16.0786 Q644.492 14.9212 647.571 14.9212 Q648.01 14.9212 648.543 14.9907 Q649.075 15.037 649.723 15.1527 L649.747 19.5277 Z\" fill=\"#000000\" fill-rule=\"evenodd\" fill-opacity=\"1\" /><path clip-path=\"url(#clip710)\" d=\"M 0 0 M674.932 25.8239 L674.932 41.472 L670.672 41.472 L670.672 25.9628 Q670.672 22.2823 669.237 20.4536 Q667.802 18.6249 664.932 18.6249 Q661.483 18.6249 659.492 20.824 Q657.501 23.023 657.501 26.8193 L657.501 41.472 L653.219 41.472 L653.219 5.45367 L657.501 5.45367 L657.501 19.574 Q659.029 17.236 661.089 16.0786 Q663.172 14.9212 665.881 14.9212 Q670.348 14.9212 672.64 17.699 Q674.932 20.4536 674.932 25.8239 Z\" fill=\"#000000\" fill-rule=\"evenodd\" fill-opacity=\"1\" /><path clip-path=\"url(#clip710)\" d=\"M 0 0 M689.445 18.5323 Q686.019 18.5323 684.029 21.2175 Q682.038 23.8795 682.038 28.5323 Q682.038 33.185 684.006 35.8702 Q685.996 38.5322 689.445 38.5322 Q692.848 38.5322 694.839 35.847 Q696.83 33.1619 696.83 28.5323 Q696.83 23.9258 694.839 21.2406 Q692.848 18.5323 689.445 18.5323 M689.445 14.9212 Q695.001 14.9212 698.172 18.5323 Q701.343 22.1434 701.343 28.5323 Q701.343 34.898 698.172 38.5322 Q695.001 42.1433 689.445 42.1433 Q683.867 42.1433 680.695 38.5322 Q677.547 34.898 677.547 28.5323 Q677.547 22.1434 680.695 18.5323 Q683.867 14.9212 689.445 14.9212 Z\" fill=\"#000000\" fill-rule=\"evenodd\" fill-opacity=\"1\" /><path clip-path=\"url(#clip710)\" d=\"M 0 0 M721.436 19.9443 L751.112 19.9443 L751.112 23.8332 L721.436 23.8332 L721.436 19.9443 M721.436 29.3887 L751.112 29.3887 L751.112 33.3239 L721.436 33.3239 L721.436 29.3887 Z\" fill=\"#000000\" fill-rule=\"evenodd\" fill-opacity=\"1\" /><path clip-path=\"url(#clip710)\" d=\"M 0 0 M781.25 9.99069 Q777.639 9.99069 775.811 13.5555 Q774.005 17.0971 774.005 24.2267 Q774.005 31.3332 775.811 34.898 Q777.639 38.4396 781.25 38.4396 Q784.885 38.4396 786.69 34.898 Q788.519 31.3332 788.519 24.2267 Q788.519 17.0971 786.69 13.5555 Q784.885 9.99069 781.25 9.99069 M781.25 6.287 Q787.061 6.287 790.116 10.8935 Q793.195 15.4768 793.195 24.2267 Q793.195 32.9535 790.116 37.56 Q787.061 42.1433 781.25 42.1433 Q775.44 42.1433 772.362 37.56 Q769.306 32.9535 769.306 24.2267 Q769.306 15.4768 772.362 10.8935 Q775.44 6.287 781.25 6.287 Z\" fill=\"#000000\" fill-rule=\"evenodd\" fill-opacity=\"1\" /><path clip-path=\"url(#clip710)\" d=\"M 0 0 M798.264 35.5924 L803.148 35.5924 L803.148 41.472 L798.264 41.472 L798.264 35.5924 Z\" fill=\"#000000\" fill-rule=\"evenodd\" fill-opacity=\"1\" /><path clip-path=\"url(#clip710)\" d=\"M 0 0 M808.264 6.912 L826.621 6.912 L826.621 10.8472 L812.547 10.8472 L812.547 19.3193 Q813.565 18.9721 814.584 18.8101 Q815.602 18.6249 816.621 18.6249 Q822.408 18.6249 825.787 21.7962 Q829.167 24.9675 829.167 30.3841 Q829.167 35.9628 825.695 39.0646 Q822.222 42.1433 815.903 42.1433 Q813.727 42.1433 811.459 41.7729 Q809.213 41.4026 806.806 40.6618 L806.806 35.9628 Q808.889 37.097 811.111 37.6526 Q813.334 38.2081 815.81 38.2081 Q819.815 38.2081 822.153 36.1017 Q824.491 33.9952 824.491 30.3841 Q824.491 26.773 822.153 24.6665 Q819.815 22.5601 815.81 22.5601 Q813.935 22.5601 812.06 22.9767 Q810.209 23.3934 808.264 24.273 L808.264 6.912 Z\" fill=\"#000000\" fill-rule=\"evenodd\" fill-opacity=\"1\" /><circle clip-path=\"url(#clip712)\" cx=\"1018.95\" cy=\"104.257\" r=\"14\" fill=\"#009af9\" fill-rule=\"evenodd\" fill-opacity=\"1\" stroke=\"#000000\" stroke-opacity=\"1\" stroke-width=\"3.2\"/>\n",
       "<circle clip-path=\"url(#clip712)\" cx=\"1077.53\" cy=\"998.704\" r=\"14\" fill=\"#009af9\" fill-rule=\"evenodd\" fill-opacity=\"1\" stroke=\"#000000\" stroke-opacity=\"1\" stroke-width=\"3.2\"/>\n",
       "<circle clip-path=\"url(#clip712)\" cx=\"1122.59\" cy=\"1308.92\" r=\"14\" fill=\"#009af9\" fill-rule=\"evenodd\" fill-opacity=\"1\" stroke=\"#000000\" stroke-opacity=\"1\" stroke-width=\"3.2\"/>\n",
       "<circle clip-path=\"url(#clip712)\" cx=\"1077.81\" cy=\"638.601\" r=\"14\" fill=\"#009af9\" fill-rule=\"evenodd\" fill-opacity=\"1\" stroke=\"#000000\" stroke-opacity=\"1\" stroke-width=\"3.2\"/>\n",
       "<circle clip-path=\"url(#clip712)\" cx=\"1077.36\" cy=\"402.316\" r=\"14\" fill=\"#009af9\" fill-rule=\"evenodd\" fill-opacity=\"1\" stroke=\"#000000\" stroke-opacity=\"1\" stroke-width=\"3.2\"/>\n",
       "<circle clip-path=\"url(#clip712)\" cx=\"1070.64\" cy=\"347.644\" r=\"14\" fill=\"#009af9\" fill-rule=\"evenodd\" fill-opacity=\"1\" stroke=\"#000000\" stroke-opacity=\"1\" stroke-width=\"3.2\"/>\n",
       "<circle clip-path=\"url(#clip712)\" cx=\"1086.54\" cy=\"569.582\" r=\"14\" fill=\"#009af9\" fill-rule=\"evenodd\" fill-opacity=\"1\" stroke=\"#000000\" stroke-opacity=\"1\" stroke-width=\"3.2\"/>\n",
       "<circle clip-path=\"url(#clip712)\" cx=\"1085.26\" cy=\"569.455\" r=\"14\" fill=\"#009af9\" fill-rule=\"evenodd\" fill-opacity=\"1\" stroke=\"#000000\" stroke-opacity=\"1\" stroke-width=\"3.2\"/>\n",
       "<circle clip-path=\"url(#clip712)\" cx=\"1065.41\" cy=\"950.239\" r=\"14\" fill=\"#009af9\" fill-rule=\"evenodd\" fill-opacity=\"1\" stroke=\"#000000\" stroke-opacity=\"1\" stroke-width=\"3.2\"/>\n",
       "<circle clip-path=\"url(#clip712)\" cx=\"1034.6\" cy=\"747.048\" r=\"14\" fill=\"#009af9\" fill-rule=\"evenodd\" fill-opacity=\"1\" stroke=\"#000000\" stroke-opacity=\"1\" stroke-width=\"3.2\"/>\n",
       "<circle clip-path=\"url(#clip712)\" cx=\"1082.66\" cy=\"155.063\" r=\"14\" fill=\"#009af9\" fill-rule=\"evenodd\" fill-opacity=\"1\" stroke=\"#000000\" stroke-opacity=\"1\" stroke-width=\"3.2\"/>\n",
       "<circle clip-path=\"url(#clip712)\" cx=\"1096.67\" cy=\"1036.33\" r=\"14\" fill=\"#009af9\" fill-rule=\"evenodd\" fill-opacity=\"1\" stroke=\"#000000\" stroke-opacity=\"1\" stroke-width=\"3.2\"/>\n",
       "<circle clip-path=\"url(#clip712)\" cx=\"1081.25\" cy=\"816.835\" r=\"14\" fill=\"#009af9\" fill-rule=\"evenodd\" fill-opacity=\"1\" stroke=\"#000000\" stroke-opacity=\"1\" stroke-width=\"3.2\"/>\n",
       "<circle clip-path=\"url(#clip712)\" cx=\"1050.69\" cy=\"487.382\" r=\"14\" fill=\"#009af9\" fill-rule=\"evenodd\" fill-opacity=\"1\" stroke=\"#000000\" stroke-opacity=\"1\" stroke-width=\"3.2\"/>\n",
       "<circle clip-path=\"url(#clip712)\" cx=\"1065.2\" cy=\"293.1\" r=\"14\" fill=\"#009af9\" fill-rule=\"evenodd\" fill-opacity=\"1\" stroke=\"#000000\" stroke-opacity=\"1\" stroke-width=\"3.2\"/>\n",
       "<circle clip-path=\"url(#clip712)\" cx=\"531.116\" cy=\"644.501\" r=\"14\" fill=\"#e26f46\" fill-rule=\"evenodd\" fill-opacity=\"1\" stroke=\"#000000\" stroke-opacity=\"1\" stroke-width=\"3.2\"/>\n",
       "<circle clip-path=\"url(#clip712)\" cx=\"618.42\" cy=\"1390.94\" r=\"14\" fill=\"#e26f46\" fill-rule=\"evenodd\" fill-opacity=\"1\" stroke=\"#000000\" stroke-opacity=\"1\" stroke-width=\"3.2\"/>\n",
       "<circle clip-path=\"url(#clip712)\" cx=\"492.745\" cy=\"1466.95\" r=\"14\" fill=\"#e26f46\" fill-rule=\"evenodd\" fill-opacity=\"1\" stroke=\"#000000\" stroke-opacity=\"1\" stroke-width=\"3.2\"/>\n",
       "<circle clip-path=\"url(#clip712)\" cx=\"638.265\" cy=\"1010.16\" r=\"14\" fill=\"#e26f46\" fill-rule=\"evenodd\" fill-opacity=\"1\" stroke=\"#000000\" stroke-opacity=\"1\" stroke-width=\"3.2\"/>\n",
       "<circle clip-path=\"url(#clip712)\" cx=\"634.593\" cy=\"1252.78\" r=\"14\" fill=\"#e26f46\" fill-rule=\"evenodd\" fill-opacity=\"1\" stroke=\"#000000\" stroke-opacity=\"1\" stroke-width=\"3.2\"/>\n",
       "<circle clip-path=\"url(#clip712)\" cx=\"588.846\" cy=\"1127.13\" r=\"14\" fill=\"#e26f46\" fill-rule=\"evenodd\" fill-opacity=\"1\" stroke=\"#000000\" stroke-opacity=\"1\" stroke-width=\"3.2\"/>\n",
       "<circle clip-path=\"url(#clip712)\" cx=\"698.668\" cy=\"1418.37\" r=\"14\" fill=\"#e26f46\" fill-rule=\"evenodd\" fill-opacity=\"1\" stroke=\"#000000\" stroke-opacity=\"1\" stroke-width=\"3.2\"/>\n",
       "<circle clip-path=\"url(#clip712)\" cx=\"716.955\" cy=\"1397.56\" r=\"14\" fill=\"#e26f46\" fill-rule=\"evenodd\" fill-opacity=\"1\" stroke=\"#000000\" stroke-opacity=\"1\" stroke-width=\"3.2\"/>\n",
       "<circle clip-path=\"url(#clip712)\" cx=\"648.615\" cy=\"1289.89\" r=\"14\" fill=\"#e26f46\" fill-rule=\"evenodd\" fill-opacity=\"1\" stroke=\"#000000\" stroke-opacity=\"1\" stroke-width=\"3.2\"/>\n",
       "<circle clip-path=\"url(#clip712)\" cx=\"546.302\" cy=\"1284.85\" r=\"14\" fill=\"#e26f46\" fill-rule=\"evenodd\" fill-opacity=\"1\" stroke=\"#000000\" stroke-opacity=\"1\" stroke-width=\"3.2\"/>\n",
       "<circle clip-path=\"url(#clip712)\" cx=\"643.278\" cy=\"1123.01\" r=\"14\" fill=\"#e26f46\" fill-rule=\"evenodd\" fill-opacity=\"1\" stroke=\"#000000\" stroke-opacity=\"1\" stroke-width=\"3.2\"/>\n",
       "<circle clip-path=\"url(#clip712)\" cx=\"734.325\" cy=\"1138.02\" r=\"14\" fill=\"#e26f46\" fill-rule=\"evenodd\" fill-opacity=\"1\" stroke=\"#000000\" stroke-opacity=\"1\" stroke-width=\"3.2\"/>\n",
       "<circle clip-path=\"url(#clip712)\" cx=\"524.52\" cy=\"772.081\" r=\"14\" fill=\"#e26f46\" fill-rule=\"evenodd\" fill-opacity=\"1\" stroke=\"#000000\" stroke-opacity=\"1\" stroke-width=\"3.2\"/>\n",
       "<circle clip-path=\"url(#clip712)\" cx=\"653.649\" cy=\"1168.9\" r=\"14\" fill=\"#e26f46\" fill-rule=\"evenodd\" fill-opacity=\"1\" stroke=\"#000000\" stroke-opacity=\"1\" stroke-width=\"3.2\"/>\n",
       "<circle clip-path=\"url(#clip712)\" cx=\"485.784\" cy=\"1479.74\" r=\"14\" fill=\"#3da44d\" fill-rule=\"evenodd\" fill-opacity=\"1\" stroke=\"#000000\" stroke-opacity=\"1\" stroke-width=\"3.2\"/>\n",
       "<circle clip-path=\"url(#clip712)\" cx=\"566.637\" cy=\"672.667\" r=\"14\" fill=\"#3da44d\" fill-rule=\"evenodd\" fill-opacity=\"1\" stroke=\"#000000\" stroke-opacity=\"1\" stroke-width=\"3.2\"/>\n",
       "<circle clip-path=\"url(#clip712)\" cx=\"368.691\" cy=\"1009.89\" r=\"14\" fill=\"#3da44d\" fill-rule=\"evenodd\" fill-opacity=\"1\" stroke=\"#000000\" stroke-opacity=\"1\" stroke-width=\"3.2\"/>\n",
       "<circle clip-path=\"url(#clip712)\" cx=\"260.648\" cy=\"525.047\" r=\"14\" fill=\"#3da44d\" fill-rule=\"evenodd\" fill-opacity=\"1\" stroke=\"#000000\" stroke-opacity=\"1\" stroke-width=\"3.2\"/>\n",
       "<circle clip-path=\"url(#clip712)\" cx=\"398.843\" cy=\"494.7\" r=\"14\" fill=\"#3da44d\" fill-rule=\"evenodd\" fill-opacity=\"1\" stroke=\"#000000\" stroke-opacity=\"1\" stroke-width=\"3.2\"/>\n",
       "<circle clip-path=\"url(#clip712)\" cx=\"307.174\" cy=\"844.552\" r=\"14\" fill=\"#3da44d\" fill-rule=\"evenodd\" fill-opacity=\"1\" stroke=\"#000000\" stroke-opacity=\"1\" stroke-width=\"3.2\"/>\n",
       "<circle clip-path=\"url(#clip712)\" cx=\"225.207\" cy=\"264.995\" r=\"14\" fill=\"#3da44d\" fill-rule=\"evenodd\" fill-opacity=\"1\" stroke=\"#000000\" stroke-opacity=\"1\" stroke-width=\"3.2\"/>\n",
       "<circle clip-path=\"url(#clip712)\" cx=\"401.975\" cy=\"738.446\" r=\"14\" fill=\"#3da44d\" fill-rule=\"evenodd\" fill-opacity=\"1\" stroke=\"#000000\" stroke-opacity=\"1\" stroke-width=\"3.2\"/>\n",
       "<circle clip-path=\"url(#clip712)\" cx=\"177.007\" cy=\"380.138\" r=\"14\" fill=\"#3da44d\" fill-rule=\"evenodd\" fill-opacity=\"1\" stroke=\"#000000\" stroke-opacity=\"1\" stroke-width=\"3.2\"/>\n",
       "<circle clip-path=\"url(#clip712)\" cx=\"394.811\" cy=\"800.876\" r=\"14\" fill=\"#3da44d\" fill-rule=\"evenodd\" fill-opacity=\"1\" stroke=\"#000000\" stroke-opacity=\"1\" stroke-width=\"3.2\"/>\n",
       "<circle clip-path=\"url(#clip712)\" cx=\"339.079\" cy=\"1038.71\" r=\"14\" fill=\"#3da44d\" fill-rule=\"evenodd\" fill-opacity=\"1\" stroke=\"#000000\" stroke-opacity=\"1\" stroke-width=\"3.2\"/>\n",
       "<circle clip-path=\"url(#clip712)\" cx=\"507.825\" cy=\"1337.82\" r=\"14\" fill=\"#3da44d\" fill-rule=\"evenodd\" fill-opacity=\"1\" stroke=\"#000000\" stroke-opacity=\"1\" stroke-width=\"3.2\"/>\n",
       "<circle clip-path=\"url(#clip712)\" cx=\"117.155\" cy=\"624.306\" r=\"14\" fill=\"#3da44d\" fill-rule=\"evenodd\" fill-opacity=\"1\" stroke=\"#000000\" stroke-opacity=\"1\" stroke-width=\"3.2\"/>\n",
       "<circle clip-path=\"url(#clip712)\" cx=\"467.81\" cy=\"415.844\" r=\"14\" fill=\"#3da44d\" fill-rule=\"evenodd\" fill-opacity=\"1\" stroke=\"#000000\" stroke-opacity=\"1\" stroke-width=\"3.2\"/>\n",
       "<circle clip-path=\"url(#clip712)\" cx=\"401.507\" cy=\"736.002\" r=\"14\" fill=\"#3da44d\" fill-rule=\"evenodd\" fill-opacity=\"1\" stroke=\"#000000\" stroke-opacity=\"1\" stroke-width=\"3.2\"/>\n",
       "<circle clip-path=\"url(#clip712)\" cx=\"498.869\" cy=\"983.537\" r=\"14\" fill=\"#3da44d\" fill-rule=\"evenodd\" fill-opacity=\"1\" stroke=\"#000000\" stroke-opacity=\"1\" stroke-width=\"3.2\"/>\n",
       "<path clip-path=\"url(#clip710)\" d=\"\n",
       "M1286.99 1521.01 L2352.76 1521.01 L2352.76 62.9921 L1286.99 62.9921  Z\n",
       "  \" fill=\"#ffffff\" fill-rule=\"evenodd\" fill-opacity=\"1\"/>\n",
       "<defs>\n",
       "  <clipPath id=\"clip713\">\n",
       "    <rect x=\"1286\" y=\"62\" width=\"1067\" height=\"1459\"/>\n",
       "  </clipPath>\n",
       "</defs>\n",
       "<polyline clip-path=\"url(#clip713)\" style=\"stroke:#000000; stroke-width:2; stroke-opacity:0.1; fill:none\" points=\"\n",
       "  1436.72,1521.01 1436.72,62.9921 \n",
       "  \"/>\n",
       "<polyline clip-path=\"url(#clip713)\" style=\"stroke:#000000; stroke-width:2; stroke-opacity:0.1; fill:none\" points=\"\n",
       "  1587.17,1521.01 1587.17,62.9921 \n",
       "  \"/>\n",
       "<polyline clip-path=\"url(#clip713)\" style=\"stroke:#000000; stroke-width:2; stroke-opacity:0.1; fill:none\" points=\"\n",
       "  1737.63,1521.01 1737.63,62.9921 \n",
       "  \"/>\n",
       "<polyline clip-path=\"url(#clip713)\" style=\"stroke:#000000; stroke-width:2; stroke-opacity:0.1; fill:none\" points=\"\n",
       "  1888.08,1521.01 1888.08,62.9921 \n",
       "  \"/>\n",
       "<polyline clip-path=\"url(#clip713)\" style=\"stroke:#000000; stroke-width:2; stroke-opacity:0.1; fill:none\" points=\"\n",
       "  2038.54,1521.01 2038.54,62.9921 \n",
       "  \"/>\n",
       "<polyline clip-path=\"url(#clip713)\" style=\"stroke:#000000; stroke-width:2; stroke-opacity:0.1; fill:none\" points=\"\n",
       "  2188.99,1521.01 2188.99,62.9921 \n",
       "  \"/>\n",
       "<polyline clip-path=\"url(#clip713)\" style=\"stroke:#000000; stroke-width:2; stroke-opacity:0.1; fill:none\" points=\"\n",
       "  2339.45,1521.01 2339.45,62.9921 \n",
       "  \"/>\n",
       "<polyline clip-path=\"url(#clip710)\" style=\"stroke:#000000; stroke-width:4; stroke-opacity:1; fill:none\" points=\"\n",
       "  1286.99,1521.01 2352.76,1521.01 \n",
       "  \"/>\n",
       "<polyline clip-path=\"url(#clip710)\" style=\"stroke:#000000; stroke-width:4; stroke-opacity:1; fill:none\" points=\"\n",
       "  1436.72,1521.01 1436.72,1503.51 \n",
       "  \"/>\n",
       "<polyline clip-path=\"url(#clip710)\" style=\"stroke:#000000; stroke-width:4; stroke-opacity:1; fill:none\" points=\"\n",
       "  1587.17,1521.01 1587.17,1503.51 \n",
       "  \"/>\n",
       "<polyline clip-path=\"url(#clip710)\" style=\"stroke:#000000; stroke-width:4; stroke-opacity:1; fill:none\" points=\"\n",
       "  1737.63,1521.01 1737.63,1503.51 \n",
       "  \"/>\n",
       "<polyline clip-path=\"url(#clip710)\" style=\"stroke:#000000; stroke-width:4; stroke-opacity:1; fill:none\" points=\"\n",
       "  1888.08,1521.01 1888.08,1503.51 \n",
       "  \"/>\n",
       "<polyline clip-path=\"url(#clip710)\" style=\"stroke:#000000; stroke-width:4; stroke-opacity:1; fill:none\" points=\"\n",
       "  2038.54,1521.01 2038.54,1503.51 \n",
       "  \"/>\n",
       "<polyline clip-path=\"url(#clip710)\" style=\"stroke:#000000; stroke-width:4; stroke-opacity:1; fill:none\" points=\"\n",
       "  2188.99,1521.01 2188.99,1503.51 \n",
       "  \"/>\n",
       "<polyline clip-path=\"url(#clip710)\" style=\"stroke:#000000; stroke-width:4; stroke-opacity:1; fill:none\" points=\"\n",
       "  2339.45,1521.01 2339.45,1503.51 \n",
       "  \"/>\n",
       "<path clip-path=\"url(#clip710)\" d=\"M 0 0 M1415.7 1558.69 L1437.96 1558.69 L1437.96 1561.64 L1415.7 1561.64 L1415.7 1558.69 Z\" fill=\"#000000\" fill-rule=\"evenodd\" fill-opacity=\"1\" /><path clip-path=\"url(#clip710)\" d=\"M 0 0 M1452.39 1557.34 Q1454.91 1557.87 1456.31 1559.58 Q1457.74 1561.28 1457.74 1563.78 Q1457.74 1567.61 1455.1 1569.71 Q1452.46 1571.82 1447.6 1571.82 Q1445.96 1571.82 1444.23 1571.49 Q1442.51 1571.17 1440.67 1570.53 L1440.67 1567.15 Q1442.13 1568 1443.86 1568.43 Q1445.6 1568.86 1447.49 1568.86 Q1450.79 1568.86 1452.51 1567.56 Q1454.25 1566.26 1454.25 1563.78 Q1454.25 1561.49 1452.63 1560.2 Q1451.03 1558.9 1448.17 1558.9 L1445.15 1558.9 L1445.15 1556.02 L1448.31 1556.02 Q1450.9 1556.02 1452.27 1554.99 Q1453.64 1553.95 1453.64 1552.01 Q1453.64 1550.01 1452.21 1548.95 Q1450.81 1547.87 1448.17 1547.87 Q1446.73 1547.87 1445.08 1548.19 Q1443.43 1548.5 1441.45 1549.16 L1441.45 1546.03 Q1443.45 1545.48 1445.18 1545.2 Q1446.94 1544.92 1448.48 1544.92 Q1452.48 1544.92 1454.8 1546.75 Q1457.13 1548.55 1457.13 1551.64 Q1457.13 1553.79 1455.9 1555.29 Q1454.66 1556.76 1452.39 1557.34 Z\" fill=\"#000000\" fill-rule=\"evenodd\" fill-opacity=\"1\" /><path clip-path=\"url(#clip710)\" d=\"M 0 0 M1566.52 1558.69 L1588.77 1558.69 L1588.77 1561.64 L1566.52 1561.64 L1566.52 1558.69 Z\" fill=\"#000000\" fill-rule=\"evenodd\" fill-opacity=\"1\" /><path clip-path=\"url(#clip710)\" d=\"M 0 0 M1595.59 1568.36 L1607.83 1568.36 L1607.83 1571.31 L1591.38 1571.31 L1591.38 1568.36 Q1593.37 1566.29 1596.81 1562.82 Q1600.27 1559.33 1601.15 1558.33 Q1602.83 1556.43 1603.49 1555.13 Q1604.17 1553.81 1604.17 1552.54 Q1604.17 1550.48 1602.71 1549.18 Q1601.27 1547.87 1598.95 1547.87 Q1597.3 1547.87 1595.46 1548.45 Q1593.63 1549.02 1591.55 1550.18 L1591.55 1546.64 Q1593.67 1545.79 1595.51 1545.36 Q1597.35 1544.92 1598.88 1544.92 Q1602.9 1544.92 1605.3 1546.94 Q1607.7 1548.95 1607.7 1552.32 Q1607.7 1553.92 1607.09 1555.36 Q1606.5 1556.78 1604.92 1558.73 Q1604.48 1559.23 1602.16 1561.64 Q1599.83 1564.04 1595.59 1568.36 Z\" fill=\"#000000\" fill-rule=\"evenodd\" fill-opacity=\"1\" /><path clip-path=\"url(#clip710)\" d=\"M 0 0 M1716.83 1558.69 L1739.09 1558.69 L1739.09 1561.64 L1716.83 1561.64 L1716.83 1558.69 Z\" fill=\"#000000\" fill-rule=\"evenodd\" fill-opacity=\"1\" /><path clip-path=\"url(#clip710)\" d=\"M 0 0 M1743.5 1568.36 L1749.23 1568.36 L1749.23 1548.59 L1742.99 1549.84 L1742.99 1546.64 L1749.19 1545.39 L1752.7 1545.39 L1752.7 1568.36 L1758.43 1568.36 L1758.43 1571.31 L1743.5 1571.31 L1743.5 1568.36 Z\" fill=\"#000000\" fill-rule=\"evenodd\" fill-opacity=\"1\" /><path clip-path=\"url(#clip710)\" d=\"M 0 0 M1888.08 1547.7 Q1885.38 1547.7 1884.01 1550.37 Q1882.65 1553.03 1882.65 1558.38 Q1882.65 1563.71 1884.01 1566.38 Q1885.38 1569.04 1888.08 1569.04 Q1890.81 1569.04 1892.16 1566.38 Q1893.54 1563.71 1893.54 1558.38 Q1893.54 1553.03 1892.16 1550.37 Q1890.81 1547.7 1888.08 1547.7 M1888.08 1544.92 Q1892.44 1544.92 1894.73 1548.38 Q1897.04 1551.82 1897.04 1558.38 Q1897.04 1564.92 1894.73 1568.38 Q1892.44 1571.82 1888.08 1571.82 Q1883.73 1571.82 1881.42 1568.38 Q1879.13 1564.92 1879.13 1558.38 Q1879.13 1551.82 1881.42 1548.38 Q1883.73 1544.92 1888.08 1544.92 Z\" fill=\"#000000\" fill-rule=\"evenodd\" fill-opacity=\"1\" /><path clip-path=\"url(#clip710)\" d=\"M 0 0 M2031.33 1568.36 L2037.06 1568.36 L2037.06 1548.59 L2030.82 1549.84 L2030.82 1546.64 L2037.02 1545.39 L2040.53 1545.39 L2040.53 1568.36 L2046.26 1568.36 L2046.26 1571.31 L2031.33 1571.31 L2031.33 1568.36 Z\" fill=\"#000000\" fill-rule=\"evenodd\" fill-opacity=\"1\" /><path clip-path=\"url(#clip710)\" d=\"M 0 0 M2184.98 1568.36 L2197.22 1568.36 L2197.22 1571.31 L2180.77 1571.31 L2180.77 1568.36 Q2182.76 1566.29 2186.2 1562.82 Q2189.65 1559.33 2190.54 1558.33 Q2192.22 1556.43 2192.88 1555.13 Q2193.56 1553.81 2193.56 1552.54 Q2193.56 1550.48 2192.1 1549.18 Q2190.66 1547.87 2188.34 1547.87 Q2186.69 1547.87 2184.85 1548.45 Q2183.02 1549.02 2180.94 1550.18 L2180.94 1546.64 Q2183.06 1545.79 2184.9 1545.36 Q2186.74 1544.92 2188.27 1544.92 Q2192.29 1544.92 2194.69 1546.94 Q2197.09 1548.95 2197.09 1552.32 Q2197.09 1553.92 2196.48 1555.36 Q2195.89 1556.78 2194.31 1558.73 Q2193.87 1559.23 2191.55 1561.64 Q2189.22 1564.04 2184.98 1568.36 Z\" fill=\"#000000\" fill-rule=\"evenodd\" fill-opacity=\"1\" /><path clip-path=\"url(#clip710)\" d=\"M 0 0 M2342.64 1557.34 Q2345.15 1557.87 2346.56 1559.58 Q2347.98 1561.28 2347.98 1563.78 Q2347.98 1567.61 2345.34 1569.71 Q2342.71 1571.82 2337.84 1571.82 Q2336.21 1571.82 2334.48 1571.49 Q2332.76 1571.17 2330.92 1570.53 L2330.92 1567.15 Q2332.38 1568 2334.11 1568.43 Q2335.85 1568.86 2337.74 1568.86 Q2341.04 1568.86 2342.76 1567.56 Q2344.49 1566.26 2344.49 1563.78 Q2344.49 1561.49 2342.88 1560.2 Q2341.28 1558.9 2338.42 1558.9 L2335.4 1558.9 L2335.4 1556.02 L2338.56 1556.02 Q2341.14 1556.02 2342.51 1554.99 Q2343.89 1553.95 2343.89 1552.01 Q2343.89 1550.01 2342.46 1548.95 Q2341.06 1547.87 2338.42 1547.87 Q2336.98 1547.87 2335.33 1548.19 Q2333.68 1548.5 2331.7 1549.16 L2331.7 1546.03 Q2333.69 1545.48 2335.43 1545.2 Q2337.18 1544.92 2338.73 1544.92 Q2342.72 1544.92 2345.05 1546.75 Q2347.38 1548.55 2347.38 1551.64 Q2347.38 1553.79 2346.14 1555.29 Q2344.91 1556.76 2342.64 1557.34 Z\" fill=\"#000000\" fill-rule=\"evenodd\" fill-opacity=\"1\" /><polyline clip-path=\"url(#clip713)\" style=\"stroke:#000000; stroke-width:2; stroke-opacity:0.1; fill:none\" points=\"\n",
       "  1286.99,1457.8 2352.76,1457.8 \n",
       "  \"/>\n",
       "<polyline clip-path=\"url(#clip713)\" style=\"stroke:#000000; stroke-width:2; stroke-opacity:0.1; fill:none\" points=\"\n",
       "  1286.99,1250.1 2352.76,1250.1 \n",
       "  \"/>\n",
       "<polyline clip-path=\"url(#clip713)\" style=\"stroke:#000000; stroke-width:2; stroke-opacity:0.1; fill:none\" points=\"\n",
       "  1286.99,1042.41 2352.76,1042.41 \n",
       "  \"/>\n",
       "<polyline clip-path=\"url(#clip713)\" style=\"stroke:#000000; stroke-width:2; stroke-opacity:0.1; fill:none\" points=\"\n",
       "  1286.99,834.714 2352.76,834.714 \n",
       "  \"/>\n",
       "<polyline clip-path=\"url(#clip713)\" style=\"stroke:#000000; stroke-width:2; stroke-opacity:0.1; fill:none\" points=\"\n",
       "  1286.99,627.019 2352.76,627.019 \n",
       "  \"/>\n",
       "<polyline clip-path=\"url(#clip713)\" style=\"stroke:#000000; stroke-width:2; stroke-opacity:0.1; fill:none\" points=\"\n",
       "  1286.99,419.325 2352.76,419.325 \n",
       "  \"/>\n",
       "<polyline clip-path=\"url(#clip713)\" style=\"stroke:#000000; stroke-width:2; stroke-opacity:0.1; fill:none\" points=\"\n",
       "  1286.99,211.63 2352.76,211.63 \n",
       "  \"/>\n",
       "<polyline clip-path=\"url(#clip710)\" style=\"stroke:#000000; stroke-width:4; stroke-opacity:1; fill:none\" points=\"\n",
       "  1286.99,1521.01 1286.99,62.9921 \n",
       "  \"/>\n",
       "<polyline clip-path=\"url(#clip710)\" style=\"stroke:#000000; stroke-width:4; stroke-opacity:1; fill:none\" points=\"\n",
       "  1286.99,1457.8 1299.78,1457.8 \n",
       "  \"/>\n",
       "<polyline clip-path=\"url(#clip710)\" style=\"stroke:#000000; stroke-width:4; stroke-opacity:1; fill:none\" points=\"\n",
       "  1286.99,1250.1 1299.78,1250.1 \n",
       "  \"/>\n",
       "<polyline clip-path=\"url(#clip710)\" style=\"stroke:#000000; stroke-width:4; stroke-opacity:1; fill:none\" points=\"\n",
       "  1286.99,1042.41 1299.78,1042.41 \n",
       "  \"/>\n",
       "<polyline clip-path=\"url(#clip710)\" style=\"stroke:#000000; stroke-width:4; stroke-opacity:1; fill:none\" points=\"\n",
       "  1286.99,834.714 1299.78,834.714 \n",
       "  \"/>\n",
       "<polyline clip-path=\"url(#clip710)\" style=\"stroke:#000000; stroke-width:4; stroke-opacity:1; fill:none\" points=\"\n",
       "  1286.99,627.019 1299.78,627.019 \n",
       "  \"/>\n",
       "<polyline clip-path=\"url(#clip710)\" style=\"stroke:#000000; stroke-width:4; stroke-opacity:1; fill:none\" points=\"\n",
       "  1286.99,419.325 1299.78,419.325 \n",
       "  \"/>\n",
       "<polyline clip-path=\"url(#clip710)\" style=\"stroke:#000000; stroke-width:4; stroke-opacity:1; fill:none\" points=\"\n",
       "  1286.99,211.63 1299.78,211.63 \n",
       "  \"/>\n",
       "<path clip-path=\"url(#clip710)\" d=\"M 0 0 M1132.22 1458.25 L1161.9 1458.25 L1161.9 1462.18 L1132.22 1462.18 L1132.22 1458.25 Z\" fill=\"#000000\" fill-rule=\"evenodd\" fill-opacity=\"1\" /><path clip-path=\"url(#clip710)\" d=\"M 0 0 M1176.96 1443.6 Q1173.35 1443.6 1171.52 1447.16 Q1169.72 1450.7 1169.72 1457.83 Q1169.72 1464.94 1171.52 1468.5 Q1173.35 1472.05 1176.96 1472.05 Q1180.6 1472.05 1182.4 1468.5 Q1184.23 1464.94 1184.23 1457.83 Q1184.23 1450.7 1182.4 1447.16 Q1180.6 1443.6 1176.96 1443.6 M1176.96 1439.89 Q1182.77 1439.89 1185.83 1444.5 Q1188.91 1449.08 1188.91 1457.83 Q1188.91 1466.56 1185.83 1471.17 Q1182.77 1475.75 1176.96 1475.75 Q1171.15 1475.75 1168.08 1471.17 Q1165.02 1466.56 1165.02 1457.83 Q1165.02 1449.08 1168.08 1444.5 Q1171.15 1439.89 1176.96 1439.89 Z\" fill=\"#000000\" fill-rule=\"evenodd\" fill-opacity=\"1\" /><path clip-path=\"url(#clip710)\" d=\"M 0 0 M1193.98 1469.2 L1198.86 1469.2 L1198.86 1475.08 L1193.98 1475.08 L1193.98 1469.2 Z\" fill=\"#000000\" fill-rule=\"evenodd\" fill-opacity=\"1\" /><path clip-path=\"url(#clip710)\" d=\"M 0 0 M1202.75 1440.52 L1224.97 1440.52 L1224.97 1442.51 L1212.43 1475.08 L1207.54 1475.08 L1219.35 1444.45 L1202.75 1444.45 L1202.75 1440.52 Z\" fill=\"#000000\" fill-rule=\"evenodd\" fill-opacity=\"1\" /><path clip-path=\"url(#clip710)\" d=\"M 0 0 M1230.09 1440.52 L1248.45 1440.52 L1248.45 1444.45 L1234.37 1444.45 L1234.37 1452.93 Q1235.39 1452.58 1236.41 1452.42 Q1237.43 1452.23 1238.45 1452.23 Q1244.23 1452.23 1247.61 1455.4 Q1250.99 1458.57 1250.99 1463.99 Q1250.99 1469.57 1247.52 1472.67 Q1244.05 1475.75 1237.73 1475.75 Q1235.55 1475.75 1233.28 1475.38 Q1231.04 1475.01 1228.63 1474.27 L1228.63 1469.57 Q1230.71 1470.7 1232.94 1471.26 Q1235.16 1471.81 1237.64 1471.81 Q1241.64 1471.81 1243.98 1469.71 Q1246.32 1467.6 1246.32 1463.99 Q1246.32 1460.38 1243.98 1458.27 Q1241.64 1456.17 1237.64 1456.17 Q1235.76 1456.17 1233.89 1456.58 Q1232.03 1457 1230.09 1457.88 L1230.09 1440.52 Z\" fill=\"#000000\" fill-rule=\"evenodd\" fill-opacity=\"1\" /><path clip-path=\"url(#clip710)\" d=\"M 0 0 M1131.32 1250.55 L1160.99 1250.55 L1160.99 1254.49 L1131.32 1254.49 L1131.32 1250.55 Z\" fill=\"#000000\" fill-rule=\"evenodd\" fill-opacity=\"1\" /><path clip-path=\"url(#clip710)\" d=\"M 0 0 M1176.06 1235.9 Q1172.45 1235.9 1170.62 1239.47 Q1168.82 1243.01 1168.82 1250.14 Q1168.82 1257.24 1170.62 1260.81 Q1172.45 1264.35 1176.06 1264.35 Q1179.7 1264.35 1181.5 1260.81 Q1183.33 1257.24 1183.33 1250.14 Q1183.33 1243.01 1181.5 1239.47 Q1179.7 1235.9 1176.06 1235.9 M1176.06 1232.2 Q1181.87 1232.2 1184.93 1236.8 Q1188.01 1241.39 1188.01 1250.14 Q1188.01 1258.86 1184.93 1263.47 Q1181.87 1268.05 1176.06 1268.05 Q1170.25 1268.05 1167.17 1263.47 Q1164.12 1258.86 1164.12 1250.14 Q1164.12 1241.39 1167.17 1236.8 Q1170.25 1232.2 1176.06 1232.2 Z\" fill=\"#000000\" fill-rule=\"evenodd\" fill-opacity=\"1\" /><path clip-path=\"url(#clip710)\" d=\"M 0 0 M1193.08 1261.5 L1197.96 1261.5 L1197.96 1267.38 L1193.08 1267.38 L1193.08 1261.5 Z\" fill=\"#000000\" fill-rule=\"evenodd\" fill-opacity=\"1\" /><path clip-path=\"url(#clip710)\" d=\"M 0 0 M1203.08 1232.82 L1221.43 1232.82 L1221.43 1236.76 L1207.36 1236.76 L1207.36 1245.23 Q1208.38 1244.88 1209.4 1244.72 Q1210.41 1244.54 1211.43 1244.54 Q1217.22 1244.54 1220.6 1247.71 Q1223.98 1250.88 1223.98 1256.3 Q1223.98 1261.87 1220.51 1264.98 Q1217.03 1268.05 1210.71 1268.05 Q1208.54 1268.05 1206.27 1267.68 Q1204.02 1267.31 1201.62 1266.57 L1201.62 1261.87 Q1203.7 1263.01 1205.92 1263.56 Q1208.15 1264.12 1210.62 1264.12 Q1214.63 1264.12 1216.96 1262.01 Q1219.3 1259.91 1219.3 1256.3 Q1219.3 1252.68 1216.96 1250.58 Q1214.63 1248.47 1210.62 1248.47 Q1208.75 1248.47 1206.87 1248.89 Q1205.02 1249.3 1203.08 1250.18 L1203.08 1232.82 Z\" fill=\"#000000\" fill-rule=\"evenodd\" fill-opacity=\"1\" /><path clip-path=\"url(#clip710)\" d=\"M 0 0 M1239.05 1235.9 Q1235.44 1235.9 1233.61 1239.47 Q1231.8 1243.01 1231.8 1250.14 Q1231.8 1257.24 1233.61 1260.81 Q1235.44 1264.35 1239.05 1264.35 Q1242.68 1264.35 1244.49 1260.81 Q1246.32 1257.24 1246.32 1250.14 Q1246.32 1243.01 1244.49 1239.47 Q1242.68 1235.9 1239.05 1235.9 M1239.05 1232.2 Q1244.86 1232.2 1247.91 1236.8 Q1250.99 1241.39 1250.99 1250.14 Q1250.99 1258.86 1247.91 1263.47 Q1244.86 1268.05 1239.05 1268.05 Q1233.24 1268.05 1230.16 1263.47 Q1227.1 1258.86 1227.1 1250.14 Q1227.1 1241.39 1230.16 1236.8 Q1233.24 1232.2 1239.05 1232.2 Z\" fill=\"#000000\" fill-rule=\"evenodd\" fill-opacity=\"1\" /><path clip-path=\"url(#clip710)\" d=\"M 0 0 M1132.91 1042.86 L1162.59 1042.86 L1162.59 1046.8 L1132.91 1046.8 L1132.91 1042.86 Z\" fill=\"#000000\" fill-rule=\"evenodd\" fill-opacity=\"1\" /><path clip-path=\"url(#clip710)\" d=\"M 0 0 M1177.66 1028.21 Q1174.05 1028.21 1172.22 1031.77 Q1170.41 1035.31 1170.41 1042.44 Q1170.41 1049.55 1172.22 1053.11 Q1174.05 1056.66 1177.66 1056.66 Q1181.29 1056.66 1183.1 1053.11 Q1184.93 1049.55 1184.93 1042.44 Q1184.93 1035.31 1183.1 1031.77 Q1181.29 1028.21 1177.66 1028.21 M1177.66 1024.5 Q1183.47 1024.5 1186.52 1029.11 Q1189.6 1033.69 1189.6 1042.44 Q1189.6 1051.17 1186.52 1055.78 Q1183.47 1060.36 1177.66 1060.36 Q1171.85 1060.36 1168.77 1055.78 Q1165.71 1051.17 1165.71 1042.44 Q1165.71 1033.69 1168.77 1029.11 Q1171.85 1024.5 1177.66 1024.5 Z\" fill=\"#000000\" fill-rule=\"evenodd\" fill-opacity=\"1\" /><path clip-path=\"url(#clip710)\" d=\"M 0 0 M1194.67 1053.81 L1199.56 1053.81 L1199.56 1059.69 L1194.67 1059.69 L1194.67 1053.81 Z\" fill=\"#000000\" fill-rule=\"evenodd\" fill-opacity=\"1\" /><path clip-path=\"url(#clip710)\" d=\"M 0 0 M1208.65 1055.75 L1224.97 1055.75 L1224.97 1059.69 L1203.03 1059.69 L1203.03 1055.75 Q1205.69 1053 1210.27 1048.37 Q1214.88 1043.72 1216.06 1042.37 Q1218.31 1039.85 1219.19 1038.11 Q1220.09 1036.36 1220.09 1034.67 Q1220.09 1031.91 1218.15 1030.17 Q1216.22 1028.44 1213.12 1028.44 Q1210.92 1028.44 1208.47 1029.2 Q1206.04 1029.97 1203.26 1031.52 L1203.26 1026.8 Q1206.08 1025.66 1208.54 1025.08 Q1210.99 1024.5 1213.03 1024.5 Q1218.4 1024.5 1221.59 1027.19 Q1224.79 1029.87 1224.79 1034.36 Q1224.79 1036.49 1223.98 1038.42 Q1223.19 1040.31 1221.08 1042.91 Q1220.51 1043.58 1217.4 1046.8 Q1214.3 1049.99 1208.65 1055.75 Z\" fill=\"#000000\" fill-rule=\"evenodd\" fill-opacity=\"1\" /><path clip-path=\"url(#clip710)\" d=\"M 0 0 M1230.09 1025.13 L1248.45 1025.13 L1248.45 1029.06 L1234.37 1029.06 L1234.37 1037.54 Q1235.39 1037.19 1236.41 1037.03 Q1237.43 1036.84 1238.45 1036.84 Q1244.23 1036.84 1247.61 1040.01 Q1250.99 1043.18 1250.99 1048.6 Q1250.99 1054.18 1247.52 1057.28 Q1244.05 1060.36 1237.73 1060.36 Q1235.55 1060.36 1233.28 1059.99 Q1231.04 1059.62 1228.63 1058.88 L1228.63 1054.18 Q1230.71 1055.31 1232.94 1055.87 Q1235.16 1056.42 1237.64 1056.42 Q1241.64 1056.42 1243.98 1054.32 Q1246.32 1052.21 1246.32 1048.6 Q1246.32 1044.99 1243.98 1042.88 Q1241.64 1040.78 1237.64 1040.78 Q1235.76 1040.78 1233.89 1041.19 Q1232.03 1041.61 1230.09 1042.49 L1230.09 1025.13 Z\" fill=\"#000000\" fill-rule=\"evenodd\" fill-opacity=\"1\" /><path clip-path=\"url(#clip710)\" d=\"M 0 0 M1175.07 820.513 Q1171.46 820.513 1169.63 824.077 Q1167.82 827.619 1167.82 834.749 Q1167.82 841.855 1169.63 845.42 Q1171.46 848.962 1175.07 848.962 Q1178.7 848.962 1180.51 845.42 Q1182.34 841.855 1182.34 834.749 Q1182.34 827.619 1180.51 824.077 Q1178.7 820.513 1175.07 820.513 M1175.07 816.809 Q1180.88 816.809 1183.93 821.415 Q1187.01 825.999 1187.01 834.749 Q1187.01 843.475 1183.93 848.082 Q1180.88 852.665 1175.07 852.665 Q1169.26 852.665 1166.18 848.082 Q1163.12 843.475 1163.12 834.749 Q1163.12 825.999 1166.18 821.415 Q1169.26 816.809 1175.07 816.809 Z\" fill=\"#000000\" fill-rule=\"evenodd\" fill-opacity=\"1\" /><path clip-path=\"url(#clip710)\" d=\"M 0 0 M1192.08 846.114 L1196.96 846.114 L1196.96 851.994 L1192.08 851.994 L1192.08 846.114 Z\" fill=\"#000000\" fill-rule=\"evenodd\" fill-opacity=\"1\" /><path clip-path=\"url(#clip710)\" d=\"M 0 0 M1212.03 820.513 Q1208.42 820.513 1206.59 824.077 Q1204.79 827.619 1204.79 834.749 Q1204.79 841.855 1206.59 845.42 Q1208.42 848.962 1212.03 848.962 Q1215.67 848.962 1217.47 845.42 Q1219.3 841.855 1219.3 834.749 Q1219.3 827.619 1217.47 824.077 Q1215.67 820.513 1212.03 820.513 M1212.03 816.809 Q1217.84 816.809 1220.9 821.415 Q1223.98 825.999 1223.98 834.749 Q1223.98 843.475 1220.9 848.082 Q1217.84 852.665 1212.03 852.665 Q1206.22 852.665 1203.15 848.082 Q1200.09 843.475 1200.09 834.749 Q1200.09 825.999 1203.15 821.415 Q1206.22 816.809 1212.03 816.809 Z\" fill=\"#000000\" fill-rule=\"evenodd\" fill-opacity=\"1\" /><path clip-path=\"url(#clip710)\" d=\"M 0 0 M1239.05 820.513 Q1235.44 820.513 1233.61 824.077 Q1231.8 827.619 1231.8 834.749 Q1231.8 841.855 1233.61 845.42 Q1235.44 848.962 1239.05 848.962 Q1242.68 848.962 1244.49 845.42 Q1246.32 841.855 1246.32 834.749 Q1246.32 827.619 1244.49 824.077 Q1242.68 820.513 1239.05 820.513 M1239.05 816.809 Q1244.86 816.809 1247.91 821.415 Q1250.99 825.999 1250.99 834.749 Q1250.99 843.475 1247.91 848.082 Q1244.86 852.665 1239.05 852.665 Q1233.24 852.665 1230.16 848.082 Q1227.1 843.475 1227.1 834.749 Q1227.1 825.999 1230.16 821.415 Q1233.24 816.809 1239.05 816.809 Z\" fill=\"#000000\" fill-rule=\"evenodd\" fill-opacity=\"1\" /><path clip-path=\"url(#clip710)\" d=\"M 0 0 M1177.66 612.818 Q1174.05 612.818 1172.22 616.383 Q1170.41 619.924 1170.41 627.054 Q1170.41 634.16 1172.22 637.725 Q1174.05 641.267 1177.66 641.267 Q1181.29 641.267 1183.1 637.725 Q1184.93 634.16 1184.93 627.054 Q1184.93 619.924 1183.1 616.383 Q1181.29 612.818 1177.66 612.818 M1177.66 609.114 Q1183.47 609.114 1186.52 613.721 Q1189.6 618.304 1189.6 627.054 Q1189.6 635.781 1186.52 640.387 Q1183.47 644.971 1177.66 644.971 Q1171.85 644.971 1168.77 640.387 Q1165.71 635.781 1165.71 627.054 Q1165.71 618.304 1168.77 613.721 Q1171.85 609.114 1177.66 609.114 Z\" fill=\"#000000\" fill-rule=\"evenodd\" fill-opacity=\"1\" /><path clip-path=\"url(#clip710)\" d=\"M 0 0 M1194.67 638.42 L1199.56 638.42 L1199.56 644.299 L1194.67 644.299 L1194.67 638.42 Z\" fill=\"#000000\" fill-rule=\"evenodd\" fill-opacity=\"1\" /><path clip-path=\"url(#clip710)\" d=\"M 0 0 M1208.65 640.364 L1224.97 640.364 L1224.97 644.299 L1203.03 644.299 L1203.03 640.364 Q1205.69 637.609 1210.27 632.98 Q1214.88 628.327 1216.06 626.985 Q1218.31 624.461 1219.19 622.725 Q1220.09 620.966 1220.09 619.276 Q1220.09 616.522 1218.15 614.786 Q1216.22 613.049 1213.12 613.049 Q1210.92 613.049 1208.47 613.813 Q1206.04 614.577 1203.26 616.128 L1203.26 611.406 Q1206.08 610.272 1208.54 609.693 Q1210.99 609.114 1213.03 609.114 Q1218.4 609.114 1221.59 611.799 Q1224.79 614.485 1224.79 618.975 Q1224.79 621.105 1223.98 623.026 Q1223.19 624.924 1221.08 627.517 Q1220.51 628.188 1217.4 631.406 Q1214.3 634.6 1208.65 640.364 Z\" fill=\"#000000\" fill-rule=\"evenodd\" fill-opacity=\"1\" /><path clip-path=\"url(#clip710)\" d=\"M 0 0 M1230.09 609.739 L1248.45 609.739 L1248.45 613.674 L1234.37 613.674 L1234.37 622.147 Q1235.39 621.799 1236.41 621.637 Q1237.43 621.452 1238.45 621.452 Q1244.23 621.452 1247.61 624.623 Q1250.99 627.795 1250.99 633.211 Q1250.99 638.79 1247.52 641.892 Q1244.05 644.971 1237.73 644.971 Q1235.55 644.971 1233.28 644.6 Q1231.04 644.23 1228.63 643.489 L1228.63 638.79 Q1230.71 639.924 1232.94 640.48 Q1235.16 641.035 1237.64 641.035 Q1241.64 641.035 1243.98 638.929 Q1246.32 636.822 1246.32 633.211 Q1246.32 629.6 1243.98 627.494 Q1241.64 625.387 1237.64 625.387 Q1235.76 625.387 1233.89 625.804 Q1232.03 626.221 1230.09 627.1 L1230.09 609.739 Z\" fill=\"#000000\" fill-rule=\"evenodd\" fill-opacity=\"1\" /><path clip-path=\"url(#clip710)\" d=\"M 0 0 M1176.06 405.123 Q1172.45 405.123 1170.62 408.688 Q1168.82 412.23 1168.82 419.359 Q1168.82 426.466 1170.62 430.031 Q1172.45 433.572 1176.06 433.572 Q1179.7 433.572 1181.5 430.031 Q1183.33 426.466 1183.33 419.359 Q1183.33 412.23 1181.5 408.688 Q1179.7 405.123 1176.06 405.123 M1176.06 401.42 Q1181.87 401.42 1184.93 406.026 Q1188.01 410.609 1188.01 419.359 Q1188.01 428.086 1184.93 432.693 Q1181.87 437.276 1176.06 437.276 Q1170.25 437.276 1167.17 432.693 Q1164.12 428.086 1164.12 419.359 Q1164.12 410.609 1167.17 406.026 Q1170.25 401.42 1176.06 401.42 Z\" fill=\"#000000\" fill-rule=\"evenodd\" fill-opacity=\"1\" /><path clip-path=\"url(#clip710)\" d=\"M 0 0 M1193.08 430.725 L1197.96 430.725 L1197.96 436.605 L1193.08 436.605 L1193.08 430.725 Z\" fill=\"#000000\" fill-rule=\"evenodd\" fill-opacity=\"1\" /><path clip-path=\"url(#clip710)\" d=\"M 0 0 M1203.08 402.045 L1221.43 402.045 L1221.43 405.98 L1207.36 405.98 L1207.36 414.452 Q1208.38 414.105 1209.4 413.943 Q1210.41 413.758 1211.43 413.758 Q1217.22 413.758 1220.6 416.929 Q1223.98 420.1 1223.98 425.517 Q1223.98 431.095 1220.51 434.197 Q1217.03 437.276 1210.71 437.276 Q1208.54 437.276 1206.27 436.906 Q1204.02 436.535 1201.62 435.794 L1201.62 431.095 Q1203.7 432.23 1205.92 432.785 Q1208.15 433.341 1210.62 433.341 Q1214.63 433.341 1216.96 431.234 Q1219.3 429.128 1219.3 425.517 Q1219.3 421.906 1216.96 419.799 Q1214.63 417.693 1210.62 417.693 Q1208.75 417.693 1206.87 418.109 Q1205.02 418.526 1203.08 419.406 L1203.08 402.045 Z\" fill=\"#000000\" fill-rule=\"evenodd\" fill-opacity=\"1\" /><path clip-path=\"url(#clip710)\" d=\"M 0 0 M1239.05 405.123 Q1235.44 405.123 1233.61 408.688 Q1231.8 412.23 1231.8 419.359 Q1231.8 426.466 1233.61 430.031 Q1235.44 433.572 1239.05 433.572 Q1242.68 433.572 1244.49 430.031 Q1246.32 426.466 1246.32 419.359 Q1246.32 412.23 1244.49 408.688 Q1242.68 405.123 1239.05 405.123 M1239.05 401.42 Q1244.86 401.42 1247.91 406.026 Q1250.99 410.609 1250.99 419.359 Q1250.99 428.086 1247.91 432.693 Q1244.86 437.276 1239.05 437.276 Q1233.24 437.276 1230.16 432.693 Q1227.1 428.086 1227.1 419.359 Q1227.1 410.609 1230.16 406.026 Q1233.24 401.42 1239.05 401.42 Z\" fill=\"#000000\" fill-rule=\"evenodd\" fill-opacity=\"1\" /><path clip-path=\"url(#clip710)\" d=\"M 0 0 M1176.96 197.429 Q1173.35 197.429 1171.52 200.993 Q1169.72 204.535 1169.72 211.665 Q1169.72 218.771 1171.52 222.336 Q1173.35 225.878 1176.96 225.878 Q1180.6 225.878 1182.4 222.336 Q1184.23 218.771 1184.23 211.665 Q1184.23 204.535 1182.4 200.993 Q1180.6 197.429 1176.96 197.429 M1176.96 193.725 Q1182.77 193.725 1185.83 198.331 Q1188.91 202.915 1188.91 211.665 Q1188.91 220.391 1185.83 224.998 Q1182.77 229.581 1176.96 229.581 Q1171.15 229.581 1168.08 224.998 Q1165.02 220.391 1165.02 211.665 Q1165.02 202.915 1168.08 198.331 Q1171.15 193.725 1176.96 193.725 Z\" fill=\"#000000\" fill-rule=\"evenodd\" fill-opacity=\"1\" /><path clip-path=\"url(#clip710)\" d=\"M 0 0 M1193.98 223.03 L1198.86 223.03 L1198.86 228.91 L1193.98 228.91 L1193.98 223.03 Z\" fill=\"#000000\" fill-rule=\"evenodd\" fill-opacity=\"1\" /><path clip-path=\"url(#clip710)\" d=\"M 0 0 M1202.75 194.35 L1224.97 194.35 L1224.97 196.341 L1212.43 228.91 L1207.54 228.91 L1219.35 198.285 L1202.75 198.285 L1202.75 194.35 Z\" fill=\"#000000\" fill-rule=\"evenodd\" fill-opacity=\"1\" /><path clip-path=\"url(#clip710)\" d=\"M 0 0 M1230.09 194.35 L1248.45 194.35 L1248.45 198.285 L1234.37 198.285 L1234.37 206.757 Q1235.39 206.41 1236.41 206.248 Q1237.43 206.063 1238.45 206.063 Q1244.23 206.063 1247.61 209.234 Q1250.99 212.405 1250.99 217.822 Q1250.99 223.401 1247.52 226.503 Q1244.05 229.581 1237.73 229.581 Q1235.55 229.581 1233.28 229.211 Q1231.04 228.841 1228.63 228.1 L1228.63 223.401 Q1230.71 224.535 1232.94 225.091 Q1235.16 225.646 1237.64 225.646 Q1241.64 225.646 1243.98 223.54 Q1246.32 221.433 1246.32 217.822 Q1246.32 214.211 1243.98 212.104 Q1241.64 209.998 1237.64 209.998 Q1235.76 209.998 1233.89 210.415 Q1232.03 210.831 1230.09 211.711 L1230.09 194.35 Z\" fill=\"#000000\" fill-rule=\"evenodd\" fill-opacity=\"1\" /><path clip-path=\"url(#clip710)\" d=\"M 0 0 M1610.53 6.912 L1630.4 6.912 L1630.4 10.8472 L1615.21 10.8472 L1615.21 21.0323 L1628.91 21.0323 L1628.91 24.9675 L1615.21 24.9675 L1615.21 41.472 L1610.53 41.472 L1610.53 6.912 Z\" fill=\"#000000\" fill-rule=\"evenodd\" fill-opacity=\"1\" /><path clip-path=\"url(#clip710)\" d=\"M 0 0 M1631.83 31.2406 L1631.83 15.5462 L1636.09 15.5462 L1636.09 31.0785 Q1636.09 34.7591 1637.53 36.6109 Q1638.96 38.4396 1641.83 38.4396 Q1645.28 38.4396 1647.27 36.2405 Q1649.28 34.0415 1649.28 30.2452 L1649.28 15.5462 L1653.54 15.5462 L1653.54 41.472 L1649.28 41.472 L1649.28 37.4905 Q1647.73 39.8516 1645.67 41.009 Q1643.64 42.1433 1640.93 42.1433 Q1636.46 42.1433 1634.15 39.3655 Q1631.83 36.5878 1631.83 31.2406 M1642.55 14.9212 L1642.55 14.9212 Z\" fill=\"#000000\" fill-rule=\"evenodd\" fill-opacity=\"1\" /><path clip-path=\"url(#clip710)\" d=\"M 0 0 M1656.16 15.5462 L1676.39 15.5462 L1676.39 19.4351 L1660.37 38.0692 L1676.39 38.0692 L1676.39 41.472 L1655.58 41.472 L1655.58 37.5831 L1671.6 18.949 L1656.16 18.949 L1656.16 15.5462 Z\" fill=\"#000000\" fill-rule=\"evenodd\" fill-opacity=\"1\" /><path clip-path=\"url(#clip710)\" d=\"M 0 0 M1679.01 15.5462 L1699.24 15.5462 L1699.24 19.4351 L1683.22 38.0692 L1699.24 38.0692 L1699.24 41.472 L1678.43 41.472 L1678.43 37.5831 L1694.45 18.949 L1679.01 18.949 L1679.01 15.5462 Z\" fill=\"#000000\" fill-rule=\"evenodd\" fill-opacity=\"1\" /><path clip-path=\"url(#clip710)\" d=\"M 0 0 M1714.49 43.8794 Q1712.69 48.509 1710.97 49.921 Q1709.26 51.3331 1706.39 51.3331 L1702.99 51.3331 L1702.99 47.7683 L1705.49 47.7683 Q1707.25 47.7683 1708.22 46.9349 Q1709.19 46.1016 1710.37 42.9998 L1711.14 41.0553 L1700.65 15.5462 L1705.16 15.5462 L1713.27 35.8239 L1721.37 15.5462 L1725.88 15.5462 L1714.49 43.8794 Z\" fill=\"#000000\" fill-rule=\"evenodd\" fill-opacity=\"1\" /><path clip-path=\"url(#clip710)\" d=\"M 0 0 M1742.09 11.5185 L1735.74 28.7174 L1748.45 28.7174 L1742.09 11.5185 M1739.45 6.912 L1744.75 6.912 L1757.92 41.472 L1753.06 41.472 L1749.91 32.6063 L1734.33 32.6063 L1731.18 41.472 L1726.25 41.472 L1739.45 6.912 Z\" fill=\"#000000\" fill-rule=\"evenodd\" fill-opacity=\"1\" /><path clip-path=\"url(#clip710)\" d=\"M 0 0 M1778.96 25.2684 Q1780.46 25.7776 1781.88 27.4443 Q1783.31 29.111 1784.75 32.0276 L1789.49 41.472 L1784.47 41.472 L1780.05 32.6063 Q1778.33 29.1341 1776.71 27.9998 Q1775.12 26.8656 1772.34 26.8656 L1767.25 26.8656 L1767.25 41.472 L1762.57 41.472 L1762.57 6.912 L1773.13 6.912 Q1779.05 6.912 1781.97 9.38884 Q1784.89 11.8657 1784.89 16.8657 Q1784.89 20.1295 1783.36 22.2823 Q1781.85 24.4351 1778.96 25.2684 M1767.25 10.7546 L1767.25 23.023 L1773.13 23.023 Q1776.51 23.023 1778.22 21.4721 Q1779.96 19.898 1779.96 16.8657 Q1779.96 13.8333 1778.22 12.3055 Q1776.51 10.7546 1773.13 10.7546 L1767.25 10.7546 Z\" fill=\"#000000\" fill-rule=\"evenodd\" fill-opacity=\"1\" /><path clip-path=\"url(#clip710)\" d=\"M 0 0 M1785.9 6.912 L1815.14 6.912 L1815.14 10.8472 L1802.87 10.8472 L1802.87 41.472 L1798.17 41.472 L1798.17 10.8472 L1785.9 10.8472 L1785.9 6.912 Z\" fill=\"#000000\" fill-rule=\"evenodd\" fill-opacity=\"1\" /><path clip-path=\"url(#clip710)\" d=\"M 0 0 M1849.7 19.5277 Q1848.98 19.111 1848.13 18.9258 Q1847.29 18.7175 1846.27 18.7175 Q1842.66 18.7175 1840.72 21.0786 Q1838.8 23.4165 1838.8 27.8147 L1838.8 41.472 L1834.52 41.472 L1834.52 15.5462 L1838.8 15.5462 L1838.8 19.574 Q1840.14 17.2129 1842.29 16.0786 Q1844.45 14.9212 1847.52 14.9212 Q1847.96 14.9212 1848.5 14.9907 Q1849.03 15.037 1849.68 15.1527 L1849.7 19.5277 Z\" fill=\"#000000\" fill-rule=\"evenodd\" fill-opacity=\"1\" /><path clip-path=\"url(#clip710)\" d=\"M 0 0 M1874.89 25.8239 L1874.89 41.472 L1870.63 41.472 L1870.63 25.9628 Q1870.63 22.2823 1869.19 20.4536 Q1867.76 18.6249 1864.89 18.6249 Q1861.44 18.6249 1859.45 20.824 Q1857.45 23.023 1857.45 26.8193 L1857.45 41.472 L1853.17 41.472 L1853.17 5.45367 L1857.45 5.45367 L1857.45 19.574 Q1858.98 17.236 1861.04 16.0786 Q1863.13 14.9212 1865.83 14.9212 Q1870.3 14.9212 1872.59 17.699 Q1874.89 20.4536 1874.89 25.8239 Z\" fill=\"#000000\" fill-rule=\"evenodd\" fill-opacity=\"1\" /><path clip-path=\"url(#clip710)\" d=\"M 0 0 M1889.4 18.5323 Q1885.97 18.5323 1883.98 21.2175 Q1881.99 23.8795 1881.99 28.5323 Q1881.99 33.185 1883.96 35.8702 Q1885.95 38.5322 1889.4 38.5322 Q1892.8 38.5322 1894.79 35.847 Q1896.78 33.1619 1896.78 28.5323 Q1896.78 23.9258 1894.79 21.2406 Q1892.8 18.5323 1889.4 18.5323 M1889.4 14.9212 Q1894.95 14.9212 1898.13 18.5323 Q1901.3 22.1434 1901.3 28.5323 Q1901.3 34.898 1898.13 38.5322 Q1894.95 42.1433 1889.4 42.1433 Q1883.82 42.1433 1880.65 38.5322 Q1877.5 34.898 1877.5 28.5323 Q1877.5 22.1434 1880.65 18.5323 Q1883.82 14.9212 1889.4 14.9212 Z\" fill=\"#000000\" fill-rule=\"evenodd\" fill-opacity=\"1\" /><path clip-path=\"url(#clip710)\" d=\"M 0 0 M1921.39 19.9443 L1951.07 19.9443 L1951.07 23.8332 L1921.39 23.8332 L1921.39 19.9443 M1921.39 29.3887 L1951.07 29.3887 L1951.07 33.3239 L1921.39 33.3239 L1921.39 29.3887 Z\" fill=\"#000000\" fill-rule=\"evenodd\" fill-opacity=\"1\" /><path clip-path=\"url(#clip710)\" d=\"M 0 0 M1981.2 9.99069 Q1977.59 9.99069 1975.76 13.5555 Q1973.96 17.0971 1973.96 24.2267 Q1973.96 31.3332 1975.76 34.898 Q1977.59 38.4396 1981.2 38.4396 Q1984.84 38.4396 1986.64 34.898 Q1988.47 31.3332 1988.47 24.2267 Q1988.47 17.0971 1986.64 13.5555 Q1984.84 9.99069 1981.2 9.99069 M1981.2 6.287 Q1987.01 6.287 1990.07 10.8935 Q1993.15 15.4768 1993.15 24.2267 Q1993.15 32.9535 1990.07 37.56 Q1987.01 42.1433 1981.2 42.1433 Q1975.39 42.1433 1972.32 37.56 Q1969.26 32.9535 1969.26 24.2267 Q1969.26 15.4768 1972.32 10.8935 Q1975.39 6.287 1981.2 6.287 Z\" fill=\"#000000\" fill-rule=\"evenodd\" fill-opacity=\"1\" /><path clip-path=\"url(#clip710)\" d=\"M 0 0 M1998.22 35.5924 L2003.1 35.5924 L2003.1 41.472 L1998.22 41.472 L1998.22 35.5924 Z\" fill=\"#000000\" fill-rule=\"evenodd\" fill-opacity=\"1\" /><path clip-path=\"url(#clip710)\" d=\"M 0 0 M2006.99 6.912 L2029.21 6.912 L2029.21 8.90273 L2016.67 41.472 L2011.78 41.472 L2023.59 10.8472 L2006.99 10.8472 L2006.99 6.912 Z\" fill=\"#000000\" fill-rule=\"evenodd\" fill-opacity=\"1\" /><circle clip-path=\"url(#clip713)\" cx=\"2218.95\" cy=\"104.257\" r=\"14\" fill=\"#009af9\" fill-rule=\"evenodd\" fill-opacity=\"1\" stroke=\"#000000\" stroke-opacity=\"1\" stroke-width=\"3.2\"/>\n",
       "<circle clip-path=\"url(#clip713)\" cx=\"2277.53\" cy=\"998.704\" r=\"14\" fill=\"#009af9\" fill-rule=\"evenodd\" fill-opacity=\"1\" stroke=\"#000000\" stroke-opacity=\"1\" stroke-width=\"3.2\"/>\n",
       "<circle clip-path=\"url(#clip713)\" cx=\"2322.59\" cy=\"1308.92\" r=\"14\" fill=\"#009af9\" fill-rule=\"evenodd\" fill-opacity=\"1\" stroke=\"#000000\" stroke-opacity=\"1\" stroke-width=\"3.2\"/>\n",
       "<circle clip-path=\"url(#clip713)\" cx=\"2277.81\" cy=\"638.601\" r=\"14\" fill=\"#009af9\" fill-rule=\"evenodd\" fill-opacity=\"1\" stroke=\"#000000\" stroke-opacity=\"1\" stroke-width=\"3.2\"/>\n",
       "<circle clip-path=\"url(#clip713)\" cx=\"2277.36\" cy=\"402.316\" r=\"14\" fill=\"#009af9\" fill-rule=\"evenodd\" fill-opacity=\"1\" stroke=\"#000000\" stroke-opacity=\"1\" stroke-width=\"3.2\"/>\n",
       "<circle clip-path=\"url(#clip713)\" cx=\"2270.64\" cy=\"347.644\" r=\"14\" fill=\"#009af9\" fill-rule=\"evenodd\" fill-opacity=\"1\" stroke=\"#000000\" stroke-opacity=\"1\" stroke-width=\"3.2\"/>\n",
       "<circle clip-path=\"url(#clip713)\" cx=\"2286.54\" cy=\"569.582\" r=\"14\" fill=\"#009af9\" fill-rule=\"evenodd\" fill-opacity=\"1\" stroke=\"#000000\" stroke-opacity=\"1\" stroke-width=\"3.2\"/>\n",
       "<circle clip-path=\"url(#clip713)\" cx=\"2285.26\" cy=\"569.455\" r=\"14\" fill=\"#009af9\" fill-rule=\"evenodd\" fill-opacity=\"1\" stroke=\"#000000\" stroke-opacity=\"1\" stroke-width=\"3.2\"/>\n",
       "<circle clip-path=\"url(#clip713)\" cx=\"2265.41\" cy=\"950.239\" r=\"14\" fill=\"#009af9\" fill-rule=\"evenodd\" fill-opacity=\"1\" stroke=\"#000000\" stroke-opacity=\"1\" stroke-width=\"3.2\"/>\n",
       "<circle clip-path=\"url(#clip713)\" cx=\"2234.6\" cy=\"747.048\" r=\"14\" fill=\"#009af9\" fill-rule=\"evenodd\" fill-opacity=\"1\" stroke=\"#000000\" stroke-opacity=\"1\" stroke-width=\"3.2\"/>\n",
       "<circle clip-path=\"url(#clip713)\" cx=\"2282.66\" cy=\"155.063\" r=\"14\" fill=\"#009af9\" fill-rule=\"evenodd\" fill-opacity=\"1\" stroke=\"#000000\" stroke-opacity=\"1\" stroke-width=\"3.2\"/>\n",
       "<circle clip-path=\"url(#clip713)\" cx=\"2296.67\" cy=\"1036.33\" r=\"14\" fill=\"#009af9\" fill-rule=\"evenodd\" fill-opacity=\"1\" stroke=\"#000000\" stroke-opacity=\"1\" stroke-width=\"3.2\"/>\n",
       "<circle clip-path=\"url(#clip713)\" cx=\"2281.25\" cy=\"816.835\" r=\"14\" fill=\"#009af9\" fill-rule=\"evenodd\" fill-opacity=\"1\" stroke=\"#000000\" stroke-opacity=\"1\" stroke-width=\"3.2\"/>\n",
       "<circle clip-path=\"url(#clip713)\" cx=\"2250.69\" cy=\"487.382\" r=\"14\" fill=\"#009af9\" fill-rule=\"evenodd\" fill-opacity=\"1\" stroke=\"#000000\" stroke-opacity=\"1\" stroke-width=\"3.2\"/>\n",
       "<circle clip-path=\"url(#clip713)\" cx=\"2265.2\" cy=\"293.1\" r=\"14\" fill=\"#009af9\" fill-rule=\"evenodd\" fill-opacity=\"1\" stroke=\"#000000\" stroke-opacity=\"1\" stroke-width=\"3.2\"/>\n",
       "<circle clip-path=\"url(#clip713)\" cx=\"1731.12\" cy=\"644.501\" r=\"14\" fill=\"#e26f46\" fill-rule=\"evenodd\" fill-opacity=\"1\" stroke=\"#000000\" stroke-opacity=\"1\" stroke-width=\"3.2\"/>\n",
       "<circle clip-path=\"url(#clip713)\" cx=\"1818.42\" cy=\"1390.94\" r=\"14\" fill=\"#e26f46\" fill-rule=\"evenodd\" fill-opacity=\"1\" stroke=\"#000000\" stroke-opacity=\"1\" stroke-width=\"3.2\"/>\n",
       "<circle clip-path=\"url(#clip713)\" cx=\"1766.64\" cy=\"672.667\" r=\"14\" fill=\"#e26f46\" fill-rule=\"evenodd\" fill-opacity=\"1\" stroke=\"#000000\" stroke-opacity=\"1\" stroke-width=\"3.2\"/>\n",
       "<circle clip-path=\"url(#clip713)\" cx=\"1692.74\" cy=\"1466.95\" r=\"14\" fill=\"#e26f46\" fill-rule=\"evenodd\" fill-opacity=\"1\" stroke=\"#000000\" stroke-opacity=\"1\" stroke-width=\"3.2\"/>\n",
       "<circle clip-path=\"url(#clip713)\" cx=\"1838.27\" cy=\"1010.16\" r=\"14\" fill=\"#e26f46\" fill-rule=\"evenodd\" fill-opacity=\"1\" stroke=\"#000000\" stroke-opacity=\"1\" stroke-width=\"3.2\"/>\n",
       "<circle clip-path=\"url(#clip713)\" cx=\"1834.59\" cy=\"1252.78\" r=\"14\" fill=\"#e26f46\" fill-rule=\"evenodd\" fill-opacity=\"1\" stroke=\"#000000\" stroke-opacity=\"1\" stroke-width=\"3.2\"/>\n",
       "<circle clip-path=\"url(#clip713)\" cx=\"1788.85\" cy=\"1127.13\" r=\"14\" fill=\"#e26f46\" fill-rule=\"evenodd\" fill-opacity=\"1\" stroke=\"#000000\" stroke-opacity=\"1\" stroke-width=\"3.2\"/>\n",
       "<circle clip-path=\"url(#clip713)\" cx=\"1898.67\" cy=\"1418.37\" r=\"14\" fill=\"#e26f46\" fill-rule=\"evenodd\" fill-opacity=\"1\" stroke=\"#000000\" stroke-opacity=\"1\" stroke-width=\"3.2\"/>\n",
       "<circle clip-path=\"url(#clip713)\" cx=\"1916.95\" cy=\"1397.56\" r=\"14\" fill=\"#e26f46\" fill-rule=\"evenodd\" fill-opacity=\"1\" stroke=\"#000000\" stroke-opacity=\"1\" stroke-width=\"3.2\"/>\n",
       "<circle clip-path=\"url(#clip713)\" cx=\"1848.62\" cy=\"1289.89\" r=\"14\" fill=\"#e26f46\" fill-rule=\"evenodd\" fill-opacity=\"1\" stroke=\"#000000\" stroke-opacity=\"1\" stroke-width=\"3.2\"/>\n",
       "<circle clip-path=\"url(#clip713)\" cx=\"1746.3\" cy=\"1284.85\" r=\"14\" fill=\"#e26f46\" fill-rule=\"evenodd\" fill-opacity=\"1\" stroke=\"#000000\" stroke-opacity=\"1\" stroke-width=\"3.2\"/>\n",
       "<circle clip-path=\"url(#clip713)\" cx=\"1843.28\" cy=\"1123.01\" r=\"14\" fill=\"#e26f46\" fill-rule=\"evenodd\" fill-opacity=\"1\" stroke=\"#000000\" stroke-opacity=\"1\" stroke-width=\"3.2\"/>\n",
       "<circle clip-path=\"url(#clip713)\" cx=\"1934.32\" cy=\"1138.02\" r=\"14\" fill=\"#e26f46\" fill-rule=\"evenodd\" fill-opacity=\"1\" stroke=\"#000000\" stroke-opacity=\"1\" stroke-width=\"3.2\"/>\n",
       "<circle clip-path=\"url(#clip713)\" cx=\"1667.81\" cy=\"415.844\" r=\"14\" fill=\"#e26f46\" fill-rule=\"evenodd\" fill-opacity=\"1\" stroke=\"#000000\" stroke-opacity=\"1\" stroke-width=\"3.2\"/>\n",
       "<circle clip-path=\"url(#clip713)\" cx=\"1724.52\" cy=\"772.081\" r=\"14\" fill=\"#e26f46\" fill-rule=\"evenodd\" fill-opacity=\"1\" stroke=\"#000000\" stroke-opacity=\"1\" stroke-width=\"3.2\"/>\n",
       "<circle clip-path=\"url(#clip713)\" cx=\"1853.65\" cy=\"1168.9\" r=\"14\" fill=\"#e26f46\" fill-rule=\"evenodd\" fill-opacity=\"1\" stroke=\"#000000\" stroke-opacity=\"1\" stroke-width=\"3.2\"/>\n",
       "<circle clip-path=\"url(#clip713)\" cx=\"1685.78\" cy=\"1479.74\" r=\"14\" fill=\"#3da44d\" fill-rule=\"evenodd\" fill-opacity=\"1\" stroke=\"#000000\" stroke-opacity=\"1\" stroke-width=\"3.2\"/>\n",
       "<circle clip-path=\"url(#clip713)\" cx=\"1568.69\" cy=\"1009.89\" r=\"14\" fill=\"#3da44d\" fill-rule=\"evenodd\" fill-opacity=\"1\" stroke=\"#000000\" stroke-opacity=\"1\" stroke-width=\"3.2\"/>\n",
       "<circle clip-path=\"url(#clip713)\" cx=\"1460.65\" cy=\"525.047\" r=\"14\" fill=\"#3da44d\" fill-rule=\"evenodd\" fill-opacity=\"1\" stroke=\"#000000\" stroke-opacity=\"1\" stroke-width=\"3.2\"/>\n",
       "<circle clip-path=\"url(#clip713)\" cx=\"1598.84\" cy=\"494.7\" r=\"14\" fill=\"#3da44d\" fill-rule=\"evenodd\" fill-opacity=\"1\" stroke=\"#000000\" stroke-opacity=\"1\" stroke-width=\"3.2\"/>\n",
       "<circle clip-path=\"url(#clip713)\" cx=\"1507.17\" cy=\"844.552\" r=\"14\" fill=\"#3da44d\" fill-rule=\"evenodd\" fill-opacity=\"1\" stroke=\"#000000\" stroke-opacity=\"1\" stroke-width=\"3.2\"/>\n",
       "<circle clip-path=\"url(#clip713)\" cx=\"1425.21\" cy=\"264.995\" r=\"14\" fill=\"#3da44d\" fill-rule=\"evenodd\" fill-opacity=\"1\" stroke=\"#000000\" stroke-opacity=\"1\" stroke-width=\"3.2\"/>\n",
       "<circle clip-path=\"url(#clip713)\" cx=\"1601.98\" cy=\"738.446\" r=\"14\" fill=\"#3da44d\" fill-rule=\"evenodd\" fill-opacity=\"1\" stroke=\"#000000\" stroke-opacity=\"1\" stroke-width=\"3.2\"/>\n",
       "<circle clip-path=\"url(#clip713)\" cx=\"1377.01\" cy=\"380.138\" r=\"14\" fill=\"#3da44d\" fill-rule=\"evenodd\" fill-opacity=\"1\" stroke=\"#000000\" stroke-opacity=\"1\" stroke-width=\"3.2\"/>\n",
       "<circle clip-path=\"url(#clip713)\" cx=\"1594.81\" cy=\"800.876\" r=\"14\" fill=\"#3da44d\" fill-rule=\"evenodd\" fill-opacity=\"1\" stroke=\"#000000\" stroke-opacity=\"1\" stroke-width=\"3.2\"/>\n",
       "<circle clip-path=\"url(#clip713)\" cx=\"1539.08\" cy=\"1038.71\" r=\"14\" fill=\"#3da44d\" fill-rule=\"evenodd\" fill-opacity=\"1\" stroke=\"#000000\" stroke-opacity=\"1\" stroke-width=\"3.2\"/>\n",
       "<circle clip-path=\"url(#clip713)\" cx=\"1707.83\" cy=\"1337.82\" r=\"14\" fill=\"#3da44d\" fill-rule=\"evenodd\" fill-opacity=\"1\" stroke=\"#000000\" stroke-opacity=\"1\" stroke-width=\"3.2\"/>\n",
       "<circle clip-path=\"url(#clip713)\" cx=\"1317.16\" cy=\"624.306\" r=\"14\" fill=\"#3da44d\" fill-rule=\"evenodd\" fill-opacity=\"1\" stroke=\"#000000\" stroke-opacity=\"1\" stroke-width=\"3.2\"/>\n",
       "<circle clip-path=\"url(#clip713)\" cx=\"1601.51\" cy=\"736.002\" r=\"14\" fill=\"#3da44d\" fill-rule=\"evenodd\" fill-opacity=\"1\" stroke=\"#000000\" stroke-opacity=\"1\" stroke-width=\"3.2\"/>\n",
       "<circle clip-path=\"url(#clip713)\" cx=\"1698.87\" cy=\"983.537\" r=\"14\" fill=\"#3da44d\" fill-rule=\"evenodd\" fill-opacity=\"1\" stroke=\"#000000\" stroke-opacity=\"1\" stroke-width=\"3.2\"/>\n",
       "</svg>\n"
      ],
      "image/svg+xml": [
       "<?xml version=\"1.0\" encoding=\"utf-8\"?>\n",
       "<svg xmlns=\"http://www.w3.org/2000/svg\" xmlns:xlink=\"http://www.w3.org/1999/xlink\" width=\"600\" height=\"400\" viewBox=\"0 0 2400 1600\">\n",
       "<defs>\n",
       "  <clipPath id=\"clip680\">\n",
       "    <rect x=\"0\" y=\"0\" width=\"2400\" height=\"1600\"/>\n",
       "  </clipPath>\n",
       "</defs>\n",
       "<path clip-path=\"url(#clip680)\" d=\"\n",
       "M0 1600 L2400 1600 L2400 0 L0 0  Z\n",
       "  \" fill=\"#ffffff\" fill-rule=\"evenodd\" fill-opacity=\"1\"/>\n",
       "<defs>\n",
       "  <clipPath id=\"clip681\">\n",
       "    <rect x=\"480\" y=\"0\" width=\"1681\" height=\"1600\"/>\n",
       "  </clipPath>\n",
       "</defs>\n",
       "<path clip-path=\"url(#clip680)\" d=\"\n",
       "M86.9921 1521.01 L1152.76 1521.01 L1152.76 62.9921 L86.9921 62.9921  Z\n",
       "  \" fill=\"#ffffff\" fill-rule=\"evenodd\" fill-opacity=\"1\"/>\n",
       "<defs>\n",
       "  <clipPath id=\"clip682\">\n",
       "    <rect x=\"86\" y=\"62\" width=\"1067\" height=\"1459\"/>\n",
       "  </clipPath>\n",
       "</defs>\n",
       "<polyline clip-path=\"url(#clip682)\" style=\"stroke:#000000; stroke-width:2; stroke-opacity:0.1; fill:none\" points=\"\n",
       "  236.72,1521.01 236.72,62.9921 \n",
       "  \"/>\n",
       "<polyline clip-path=\"url(#clip682)\" style=\"stroke:#000000; stroke-width:2; stroke-opacity:0.1; fill:none\" points=\"\n",
       "  387.175,1521.01 387.175,62.9921 \n",
       "  \"/>\n",
       "<polyline clip-path=\"url(#clip682)\" style=\"stroke:#000000; stroke-width:2; stroke-opacity:0.1; fill:none\" points=\"\n",
       "  537.63,1521.01 537.63,62.9921 \n",
       "  \"/>\n",
       "<polyline clip-path=\"url(#clip682)\" style=\"stroke:#000000; stroke-width:2; stroke-opacity:0.1; fill:none\" points=\"\n",
       "  688.085,1521.01 688.085,62.9921 \n",
       "  \"/>\n",
       "<polyline clip-path=\"url(#clip682)\" style=\"stroke:#000000; stroke-width:2; stroke-opacity:0.1; fill:none\" points=\"\n",
       "  838.54,1521.01 838.54,62.9921 \n",
       "  \"/>\n",
       "<polyline clip-path=\"url(#clip682)\" style=\"stroke:#000000; stroke-width:2; stroke-opacity:0.1; fill:none\" points=\"\n",
       "  988.995,1521.01 988.995,62.9921 \n",
       "  \"/>\n",
       "<polyline clip-path=\"url(#clip682)\" style=\"stroke:#000000; stroke-width:2; stroke-opacity:0.1; fill:none\" points=\"\n",
       "  1139.45,1521.01 1139.45,62.9921 \n",
       "  \"/>\n",
       "<polyline clip-path=\"url(#clip680)\" style=\"stroke:#000000; stroke-width:4; stroke-opacity:1; fill:none\" points=\"\n",
       "  86.9921,1521.01 1152.76,1521.01 \n",
       "  \"/>\n",
       "<polyline clip-path=\"url(#clip680)\" style=\"stroke:#000000; stroke-width:4; stroke-opacity:1; fill:none\" points=\"\n",
       "  236.72,1521.01 236.72,1503.51 \n",
       "  \"/>\n",
       "<polyline clip-path=\"url(#clip680)\" style=\"stroke:#000000; stroke-width:4; stroke-opacity:1; fill:none\" points=\"\n",
       "  387.175,1521.01 387.175,1503.51 \n",
       "  \"/>\n",
       "<polyline clip-path=\"url(#clip680)\" style=\"stroke:#000000; stroke-width:4; stroke-opacity:1; fill:none\" points=\"\n",
       "  537.63,1521.01 537.63,1503.51 \n",
       "  \"/>\n",
       "<polyline clip-path=\"url(#clip680)\" style=\"stroke:#000000; stroke-width:4; stroke-opacity:1; fill:none\" points=\"\n",
       "  688.085,1521.01 688.085,1503.51 \n",
       "  \"/>\n",
       "<polyline clip-path=\"url(#clip680)\" style=\"stroke:#000000; stroke-width:4; stroke-opacity:1; fill:none\" points=\"\n",
       "  838.54,1521.01 838.54,1503.51 \n",
       "  \"/>\n",
       "<polyline clip-path=\"url(#clip680)\" style=\"stroke:#000000; stroke-width:4; stroke-opacity:1; fill:none\" points=\"\n",
       "  988.995,1521.01 988.995,1503.51 \n",
       "  \"/>\n",
       "<polyline clip-path=\"url(#clip680)\" style=\"stroke:#000000; stroke-width:4; stroke-opacity:1; fill:none\" points=\"\n",
       "  1139.45,1521.01 1139.45,1503.51 \n",
       "  \"/>\n",
       "<path clip-path=\"url(#clip680)\" d=\"M 0 0 M215.704 1558.69 L237.961 1558.69 L237.961 1561.64 L215.704 1561.64 L215.704 1558.69 Z\" fill=\"#000000\" fill-rule=\"evenodd\" fill-opacity=\"1\" /><path clip-path=\"url(#clip680)\" d=\"M 0 0 M252.388 1557.34 Q254.906 1557.87 256.312 1559.58 Q257.735 1561.28 257.735 1563.78 Q257.735 1567.61 255.097 1569.71 Q252.458 1571.82 247.597 1571.82 Q245.965 1571.82 244.229 1571.49 Q242.51 1571.17 240.67 1570.53 L240.67 1567.15 Q242.128 1568 243.864 1568.43 Q245.6 1568.86 247.492 1568.86 Q250.791 1568.86 252.51 1567.56 Q254.246 1566.26 254.246 1563.78 Q254.246 1561.49 252.631 1560.2 Q251.034 1558.9 248.169 1558.9 L245.149 1558.9 L245.149 1556.02 L248.308 1556.02 Q250.895 1556.02 252.267 1554.99 Q253.638 1553.95 253.638 1552.01 Q253.638 1550.01 252.215 1548.95 Q250.808 1547.87 248.169 1547.87 Q246.729 1547.87 245.079 1548.19 Q243.43 1548.5 241.451 1549.16 L241.451 1546.03 Q243.447 1545.48 245.183 1545.2 Q246.937 1544.92 248.482 1544.92 Q252.475 1544.92 254.801 1546.75 Q257.128 1548.55 257.128 1551.64 Q257.128 1553.79 255.895 1555.29 Q254.662 1556.76 252.388 1557.34 Z\" fill=\"#000000\" fill-rule=\"evenodd\" fill-opacity=\"1\" /><path clip-path=\"url(#clip680)\" d=\"M 0 0 M366.515 1558.69 L388.772 1558.69 L388.772 1561.64 L366.515 1561.64 L366.515 1558.69 Z\" fill=\"#000000\" fill-rule=\"evenodd\" fill-opacity=\"1\" /><path clip-path=\"url(#clip680)\" d=\"M 0 0 M395.595 1568.36 L407.835 1568.36 L407.835 1571.31 L391.376 1571.31 L391.376 1568.36 Q393.373 1566.29 396.81 1562.82 Q400.265 1559.33 401.151 1558.33 Q402.835 1556.43 403.494 1555.13 Q404.171 1553.81 404.171 1552.54 Q404.171 1550.48 402.713 1549.18 Q401.272 1547.87 398.946 1547.87 Q397.296 1547.87 395.456 1548.45 Q393.633 1549.02 391.55 1550.18 L391.55 1546.64 Q393.668 1545.79 395.508 1545.36 Q397.348 1544.92 398.876 1544.92 Q402.904 1544.92 405.3 1546.94 Q407.696 1548.95 407.696 1552.32 Q407.696 1553.92 407.088 1555.36 Q406.498 1556.78 404.918 1558.73 Q404.484 1559.23 402.157 1561.64 Q399.831 1564.04 395.595 1568.36 Z\" fill=\"#000000\" fill-rule=\"evenodd\" fill-opacity=\"1\" /><path clip-path=\"url(#clip680)\" d=\"M 0 0 M516.831 1558.69 L539.088 1558.69 L539.088 1561.64 L516.831 1561.64 L516.831 1558.69 Z\" fill=\"#000000\" fill-rule=\"evenodd\" fill-opacity=\"1\" /><path clip-path=\"url(#clip680)\" d=\"M 0 0 M543.498 1568.36 L549.227 1568.36 L549.227 1548.59 L542.994 1549.84 L542.994 1546.64 L549.192 1545.39 L552.699 1545.39 L552.699 1568.36 L558.428 1568.36 L558.428 1571.31 L543.498 1571.31 L543.498 1568.36 Z\" fill=\"#000000\" fill-rule=\"evenodd\" fill-opacity=\"1\" /><path clip-path=\"url(#clip680)\" d=\"M 0 0 M688.085 1547.7 Q685.377 1547.7 684.005 1550.37 Q682.651 1553.03 682.651 1558.38 Q682.651 1563.71 684.005 1566.38 Q685.377 1569.04 688.085 1569.04 Q690.811 1569.04 692.165 1566.38 Q693.536 1563.71 693.536 1558.38 Q693.536 1553.03 692.165 1550.37 Q690.811 1547.7 688.085 1547.7 M688.085 1544.92 Q692.443 1544.92 694.734 1548.38 Q697.043 1551.82 697.043 1558.38 Q697.043 1564.92 694.734 1568.38 Q692.443 1571.82 688.085 1571.82 Q683.727 1571.82 681.418 1568.38 Q679.127 1564.92 679.127 1558.38 Q679.127 1551.82 681.418 1548.38 Q683.727 1544.92 688.085 1544.92 Z\" fill=\"#000000\" fill-rule=\"evenodd\" fill-opacity=\"1\" /><path clip-path=\"url(#clip680)\" d=\"M 0 0 M831.326 1568.36 L837.056 1568.36 L837.056 1548.59 L830.823 1549.84 L830.823 1546.64 L837.021 1545.39 L840.528 1545.39 L840.528 1568.36 L846.257 1568.36 L846.257 1571.31 L831.326 1571.31 L831.326 1568.36 Z\" fill=\"#000000\" fill-rule=\"evenodd\" fill-opacity=\"1\" /><path clip-path=\"url(#clip680)\" d=\"M 0 0 M984.985 1568.36 L997.224 1568.36 L997.224 1571.31 L980.766 1571.31 L980.766 1568.36 Q982.762 1566.29 986.2 1562.82 Q989.655 1559.33 990.54 1558.33 Q992.224 1556.43 992.884 1555.13 Q993.561 1553.81 993.561 1552.54 Q993.561 1550.48 992.103 1549.18 Q990.662 1547.87 988.335 1547.87 Q986.686 1547.87 984.846 1548.45 Q983.023 1549.02 980.939 1550.18 L980.939 1546.64 Q983.057 1545.79 984.898 1545.36 Q986.738 1544.92 988.266 1544.92 Q992.294 1544.92 994.689 1546.94 Q997.085 1548.95 997.085 1552.32 Q997.085 1553.92 996.478 1555.36 Q995.887 1556.78 994.307 1558.73 Q993.873 1559.23 991.547 1561.64 Q989.221 1564.04 984.985 1568.36 Z\" fill=\"#000000\" fill-rule=\"evenodd\" fill-opacity=\"1\" /><path clip-path=\"url(#clip680)\" d=\"M 0 0 M1142.64 1557.34 Q1145.15 1557.87 1146.56 1559.58 Q1147.98 1561.28 1147.98 1563.78 Q1147.98 1567.61 1145.34 1569.71 Q1142.71 1571.82 1137.84 1571.82 Q1136.21 1571.82 1134.48 1571.49 Q1132.76 1571.17 1130.92 1570.53 L1130.92 1567.15 Q1132.38 1568 1134.11 1568.43 Q1135.85 1568.86 1137.74 1568.86 Q1141.04 1568.86 1142.76 1567.56 Q1144.49 1566.26 1144.49 1563.78 Q1144.49 1561.49 1142.88 1560.2 Q1141.28 1558.9 1138.42 1558.9 L1135.4 1558.9 L1135.4 1556.02 L1138.56 1556.02 Q1141.14 1556.02 1142.51 1554.99 Q1143.89 1553.95 1143.89 1552.01 Q1143.89 1550.01 1142.46 1548.95 Q1141.06 1547.87 1138.42 1547.87 Q1136.98 1547.87 1135.33 1548.19 Q1133.68 1548.5 1131.7 1549.16 L1131.7 1546.03 Q1133.69 1545.48 1135.43 1545.2 Q1137.18 1544.92 1138.73 1544.92 Q1142.72 1544.92 1145.05 1546.75 Q1147.38 1548.55 1147.38 1551.64 Q1147.38 1553.79 1146.14 1555.29 Q1144.91 1556.76 1142.64 1557.34 Z\" fill=\"#000000\" fill-rule=\"evenodd\" fill-opacity=\"1\" /><polyline clip-path=\"url(#clip682)\" style=\"stroke:#000000; stroke-width:2; stroke-opacity:0.1; fill:none\" points=\"\n",
       "  86.9921,1457.8 1152.76,1457.8 \n",
       "  \"/>\n",
       "<polyline clip-path=\"url(#clip682)\" style=\"stroke:#000000; stroke-width:2; stroke-opacity:0.1; fill:none\" points=\"\n",
       "  86.9921,1250.1 1152.76,1250.1 \n",
       "  \"/>\n",
       "<polyline clip-path=\"url(#clip682)\" style=\"stroke:#000000; stroke-width:2; stroke-opacity:0.1; fill:none\" points=\"\n",
       "  86.9921,1042.41 1152.76,1042.41 \n",
       "  \"/>\n",
       "<polyline clip-path=\"url(#clip682)\" style=\"stroke:#000000; stroke-width:2; stroke-opacity:0.1; fill:none\" points=\"\n",
       "  86.9921,834.714 1152.76,834.714 \n",
       "  \"/>\n",
       "<polyline clip-path=\"url(#clip682)\" style=\"stroke:#000000; stroke-width:2; stroke-opacity:0.1; fill:none\" points=\"\n",
       "  86.9921,627.019 1152.76,627.019 \n",
       "  \"/>\n",
       "<polyline clip-path=\"url(#clip682)\" style=\"stroke:#000000; stroke-width:2; stroke-opacity:0.1; fill:none\" points=\"\n",
       "  86.9921,419.325 1152.76,419.325 \n",
       "  \"/>\n",
       "<polyline clip-path=\"url(#clip682)\" style=\"stroke:#000000; stroke-width:2; stroke-opacity:0.1; fill:none\" points=\"\n",
       "  86.9921,211.63 1152.76,211.63 \n",
       "  \"/>\n",
       "<polyline clip-path=\"url(#clip680)\" style=\"stroke:#000000; stroke-width:4; stroke-opacity:1; fill:none\" points=\"\n",
       "  86.9921,1521.01 86.9921,62.9921 \n",
       "  \"/>\n",
       "<polyline clip-path=\"url(#clip680)\" style=\"stroke:#000000; stroke-width:4; stroke-opacity:1; fill:none\" points=\"\n",
       "  86.9921,1457.8 99.7813,1457.8 \n",
       "  \"/>\n",
       "<polyline clip-path=\"url(#clip680)\" style=\"stroke:#000000; stroke-width:4; stroke-opacity:1; fill:none\" points=\"\n",
       "  86.9921,1250.1 99.7813,1250.1 \n",
       "  \"/>\n",
       "<polyline clip-path=\"url(#clip680)\" style=\"stroke:#000000; stroke-width:4; stroke-opacity:1; fill:none\" points=\"\n",
       "  86.9921,1042.41 99.7813,1042.41 \n",
       "  \"/>\n",
       "<polyline clip-path=\"url(#clip680)\" style=\"stroke:#000000; stroke-width:4; stroke-opacity:1; fill:none\" points=\"\n",
       "  86.9921,834.714 99.7813,834.714 \n",
       "  \"/>\n",
       "<polyline clip-path=\"url(#clip680)\" style=\"stroke:#000000; stroke-width:4; stroke-opacity:1; fill:none\" points=\"\n",
       "  86.9921,627.019 99.7813,627.019 \n",
       "  \"/>\n",
       "<polyline clip-path=\"url(#clip680)\" style=\"stroke:#000000; stroke-width:4; stroke-opacity:1; fill:none\" points=\"\n",
       "  86.9921,419.325 99.7813,419.325 \n",
       "  \"/>\n",
       "<polyline clip-path=\"url(#clip680)\" style=\"stroke:#000000; stroke-width:4; stroke-opacity:1; fill:none\" points=\"\n",
       "  86.9921,211.63 99.7813,211.63 \n",
       "  \"/>\n",
       "<path clip-path=\"url(#clip680)\" d=\"M 0 0 M-67.7804 1458.25 L-38.1046 1458.25 L-38.1046 1462.18 L-67.7804 1462.18 L-67.7804 1458.25 Z\" fill=\"#000000\" fill-rule=\"evenodd\" fill-opacity=\"1\" /><path clip-path=\"url(#clip680)\" d=\"M 0 0 M-23.0353 1443.6 Q-26.6463 1443.6 -28.475 1447.16 Q-30.2806 1450.7 -30.2806 1457.83 Q-30.2806 1464.94 -28.475 1468.5 Q-26.6463 1472.05 -23.0353 1472.05 Q-19.401 1472.05 -17.5955 1468.5 Q-15.7668 1464.94 -15.7668 1457.83 Q-15.7668 1450.7 -17.5955 1447.16 Q-19.401 1443.6 -23.0353 1443.6 M-23.0353 1439.89 Q-17.2251 1439.89 -14.1696 1444.5 Q-11.0909 1449.08 -11.0909 1457.83 Q-11.0909 1466.56 -14.1696 1471.17 Q-17.2251 1475.75 -23.0353 1475.75 Q-28.8454 1475.75 -31.9241 1471.17 Q-34.9796 1466.56 -34.9796 1457.83 Q-34.9796 1449.08 -31.9241 1444.5 Q-28.8454 1439.89 -23.0353 1439.89 Z\" fill=\"#000000\" fill-rule=\"evenodd\" fill-opacity=\"1\" /><path clip-path=\"url(#clip680)\" d=\"M 0 0 M-6.02146 1469.2 L-1.13722 1469.2 L-1.13722 1475.08 L-6.02146 1475.08 L-6.02146 1469.2 Z\" fill=\"#000000\" fill-rule=\"evenodd\" fill-opacity=\"1\" /><path clip-path=\"url(#clip680)\" d=\"M 0 0 M2.75164 1440.52 L24.9737 1440.52 L24.9737 1442.51 L12.4275 1475.08 L7.54328 1475.08 L19.3488 1444.45 L2.75164 1444.45 L2.75164 1440.52 Z\" fill=\"#000000\" fill-rule=\"evenodd\" fill-opacity=\"1\" /><path clip-path=\"url(#clip680)\" d=\"M 0 0 M30.0895 1440.52 L48.4458 1440.52 L48.4458 1444.45 L34.3718 1444.45 L34.3718 1452.93 Q35.3904 1452.58 36.4089 1452.42 Q37.4274 1452.23 38.4459 1452.23 Q44.2329 1452.23 47.6125 1455.4 Q50.9921 1458.57 50.9921 1463.99 Q50.9921 1469.57 47.5199 1472.67 Q44.0477 1475.75 37.7283 1475.75 Q35.5524 1475.75 33.2839 1475.38 Q31.0385 1475.01 28.6311 1474.27 L28.6311 1469.57 Q30.7145 1470.7 32.9367 1471.26 Q35.1589 1471.81 37.6357 1471.81 Q41.6403 1471.81 43.9783 1469.71 Q46.3162 1467.6 46.3162 1463.99 Q46.3162 1460.38 43.9783 1458.27 Q41.6403 1456.17 37.6357 1456.17 Q35.7607 1456.17 33.8857 1456.58 Q32.0339 1457 30.0895 1457.88 L30.0895 1440.52 Z\" fill=\"#000000\" fill-rule=\"evenodd\" fill-opacity=\"1\" /><path clip-path=\"url(#clip680)\" d=\"M 0 0 M-68.6832 1250.55 L-39.0074 1250.55 L-39.0074 1254.49 L-68.6832 1254.49 L-68.6832 1250.55 Z\" fill=\"#000000\" fill-rule=\"evenodd\" fill-opacity=\"1\" /><path clip-path=\"url(#clip680)\" d=\"M 0 0 M-23.938 1235.9 Q-27.5491 1235.9 -29.3778 1239.47 Q-31.1834 1243.01 -31.1834 1250.14 Q-31.1834 1257.24 -29.3778 1260.81 Q-27.5491 1264.35 -23.938 1264.35 Q-20.3038 1264.35 -18.4982 1260.81 Q-16.6695 1257.24 -16.6695 1250.14 Q-16.6695 1243.01 -18.4982 1239.47 Q-20.3038 1235.9 -23.938 1235.9 M-23.938 1232.2 Q-18.1279 1232.2 -15.0723 1236.8 Q-11.9936 1241.39 -11.9936 1250.14 Q-11.9936 1258.86 -15.0723 1263.47 Q-18.1279 1268.05 -23.938 1268.05 Q-29.7482 1268.05 -32.8269 1263.47 Q-35.8824 1258.86 -35.8824 1250.14 Q-35.8824 1241.39 -32.8269 1236.8 Q-29.7482 1232.2 -23.938 1232.2 Z\" fill=\"#000000\" fill-rule=\"evenodd\" fill-opacity=\"1\" /><path clip-path=\"url(#clip680)\" d=\"M 0 0 M-6.92423 1261.5 L-2.04 1261.5 L-2.04 1267.38 L-6.92423 1267.38 L-6.92423 1261.5 Z\" fill=\"#000000\" fill-rule=\"evenodd\" fill-opacity=\"1\" /><path clip-path=\"url(#clip680)\" d=\"M 0 0 M3.07572 1232.82 L21.4321 1232.82 L21.4321 1236.76 L7.3581 1236.76 L7.3581 1245.23 Q8.37661 1244.88 9.39513 1244.72 Q10.4136 1244.54 11.4322 1244.54 Q17.2192 1244.54 20.5988 1247.71 Q23.9784 1250.88 23.9784 1256.3 Q23.9784 1261.87 20.5062 1264.98 Q17.034 1268.05 10.7146 1268.05 Q8.53865 1268.05 6.27014 1267.68 Q4.02479 1267.31 1.61739 1266.57 L1.61739 1261.87 Q3.70071 1263.01 5.92292 1263.56 Q8.14513 1264.12 10.622 1264.12 Q14.6266 1264.12 16.9645 1262.01 Q19.3025 1259.91 19.3025 1256.3 Q19.3025 1252.68 16.9645 1250.58 Q14.6266 1248.47 10.622 1248.47 Q8.74698 1248.47 6.87199 1248.89 Q5.02015 1249.3 3.07572 1250.18 L3.07572 1232.82 Z\" fill=\"#000000\" fill-rule=\"evenodd\" fill-opacity=\"1\" /><path clip-path=\"url(#clip680)\" d=\"M 0 0 M39.0477 1235.9 Q35.4367 1235.9 33.608 1239.47 Q31.8024 1243.01 31.8024 1250.14 Q31.8024 1257.24 33.608 1260.81 Q35.4367 1264.35 39.0477 1264.35 Q42.682 1264.35 44.4875 1260.81 Q46.3162 1257.24 46.3162 1250.14 Q46.3162 1243.01 44.4875 1239.47 Q42.682 1235.9 39.0477 1235.9 M39.0477 1232.2 Q44.8579 1232.2 47.9134 1236.8 Q50.9921 1241.39 50.9921 1250.14 Q50.9921 1258.86 47.9134 1263.47 Q44.8579 1268.05 39.0477 1268.05 Q33.2376 1268.05 30.1589 1263.47 Q27.1034 1258.86 27.1034 1250.14 Q27.1034 1241.39 30.1589 1236.8 Q33.2376 1232.2 39.0477 1232.2 Z\" fill=\"#000000\" fill-rule=\"evenodd\" fill-opacity=\"1\" /><path clip-path=\"url(#clip680)\" d=\"M 0 0 M-67.0859 1042.86 L-37.4102 1042.86 L-37.4102 1046.8 L-67.0859 1046.8 L-67.0859 1042.86 Z\" fill=\"#000000\" fill-rule=\"evenodd\" fill-opacity=\"1\" /><path clip-path=\"url(#clip680)\" d=\"M 0 0 M-22.3408 1028.21 Q-25.9519 1028.21 -27.7806 1031.77 Q-29.5861 1035.31 -29.5861 1042.44 Q-29.5861 1049.55 -27.7806 1053.11 Q-25.9519 1056.66 -22.3408 1056.66 Q-18.7066 1056.66 -16.901 1053.11 Q-15.0723 1049.55 -15.0723 1042.44 Q-15.0723 1035.31 -16.901 1031.77 Q-18.7066 1028.21 -22.3408 1028.21 M-22.3408 1024.5 Q-16.5307 1024.5 -13.4751 1029.11 Q-10.3964 1033.69 -10.3964 1042.44 Q-10.3964 1051.17 -13.4751 1055.78 Q-16.5307 1060.36 -22.3408 1060.36 Q-28.151 1060.36 -31.2297 1055.78 Q-34.2852 1051.17 -34.2852 1042.44 Q-34.2852 1033.69 -31.2297 1029.11 Q-28.151 1024.5 -22.3408 1024.5 Z\" fill=\"#000000\" fill-rule=\"evenodd\" fill-opacity=\"1\" /><path clip-path=\"url(#clip680)\" d=\"M 0 0 M-5.32702 1053.81 L-0.442784 1053.81 L-0.442784 1059.69 L-5.32702 1059.69 L-5.32702 1053.81 Z\" fill=\"#000000\" fill-rule=\"evenodd\" fill-opacity=\"1\" /><path clip-path=\"url(#clip680)\" d=\"M 0 0 M8.65439 1055.75 L24.9737 1055.75 L24.9737 1059.69 L3.02942 1059.69 L3.02942 1055.75 Q5.69144 1053 10.2748 1048.37 Q14.8812 1043.72 16.0618 1042.37 Q18.3071 1039.85 19.1867 1038.11 Q20.0895 1036.36 20.0895 1034.67 Q20.0895 1031.91 18.1451 1030.17 Q16.2238 1028.44 13.122 1028.44 Q10.9229 1028.44 8.46921 1029.2 Q6.03866 1029.97 3.2609 1031.52 L3.2609 1026.8 Q6.08496 1025.66 8.53865 1025.08 Q10.9923 1024.5 13.0294 1024.5 Q18.3997 1024.5 21.5941 1027.19 Q24.7886 1029.87 24.7886 1034.36 Q24.7886 1036.49 23.9784 1038.42 Q23.1913 1040.31 21.0849 1042.91 Q20.5062 1043.58 17.4043 1046.8 Q14.3025 1049.99 8.65439 1055.75 Z\" fill=\"#000000\" fill-rule=\"evenodd\" fill-opacity=\"1\" /><path clip-path=\"url(#clip680)\" d=\"M 0 0 M30.0895 1025.13 L48.4458 1025.13 L48.4458 1029.06 L34.3718 1029.06 L34.3718 1037.54 Q35.3904 1037.19 36.4089 1037.03 Q37.4274 1036.84 38.4459 1036.84 Q44.2329 1036.84 47.6125 1040.01 Q50.9921 1043.18 50.9921 1048.6 Q50.9921 1054.18 47.5199 1057.28 Q44.0477 1060.36 37.7283 1060.36 Q35.5524 1060.36 33.2839 1059.99 Q31.0385 1059.62 28.6311 1058.88 L28.6311 1054.18 Q30.7145 1055.31 32.9367 1055.87 Q35.1589 1056.42 37.6357 1056.42 Q41.6403 1056.42 43.9783 1054.32 Q46.3162 1052.21 46.3162 1048.6 Q46.3162 1044.99 43.9783 1042.88 Q41.6403 1040.78 37.6357 1040.78 Q35.7607 1040.78 33.8857 1041.19 Q32.0339 1041.61 30.0895 1042.49 L30.0895 1025.13 Z\" fill=\"#000000\" fill-rule=\"evenodd\" fill-opacity=\"1\" /><path clip-path=\"url(#clip680)\" d=\"M 0 0 M-24.9334 820.513 Q-28.5445 820.513 -30.3732 824.077 Q-32.1787 827.619 -32.1787 834.749 Q-32.1787 841.855 -30.3732 845.42 Q-28.5445 848.962 -24.9334 848.962 Q-21.2992 848.962 -19.4936 845.42 Q-17.6649 841.855 -17.6649 834.749 Q-17.6649 827.619 -19.4936 824.077 Q-21.2992 820.513 -24.9334 820.513 M-24.9334 816.809 Q-19.1232 816.809 -16.0677 821.415 Q-12.989 825.999 -12.989 834.749 Q-12.989 843.475 -16.0677 848.082 Q-19.1232 852.665 -24.9334 852.665 Q-30.7435 852.665 -33.8222 848.082 Q-36.8778 843.475 -36.8778 834.749 Q-36.8778 825.999 -33.8222 821.415 Q-30.7435 816.809 -24.9334 816.809 Z\" fill=\"#000000\" fill-rule=\"evenodd\" fill-opacity=\"1\" /><path clip-path=\"url(#clip680)\" d=\"M 0 0 M-7.9196 846.114 L-3.03536 846.114 L-3.03536 851.994 L-7.9196 851.994 L-7.9196 846.114 Z\" fill=\"#000000\" fill-rule=\"evenodd\" fill-opacity=\"1\" /><path clip-path=\"url(#clip680)\" d=\"M 0 0 M12.034 820.513 Q8.42291 820.513 6.59422 824.077 Q4.78867 827.619 4.78867 834.749 Q4.78867 841.855 6.59422 845.42 Q8.42291 848.962 12.034 848.962 Q15.6682 848.962 17.4738 845.42 Q19.3025 841.855 19.3025 834.749 Q19.3025 827.619 17.4738 824.077 Q15.6682 820.513 12.034 820.513 M12.034 816.809 Q17.8442 816.809 20.8997 821.415 Q23.9784 825.999 23.9784 834.749 Q23.9784 843.475 20.8997 848.082 Q17.8442 852.665 12.034 852.665 Q6.22385 852.665 3.14516 848.082 Q0.089621 843.475 0.089621 834.749 Q0.089621 825.999 3.14516 821.415 Q6.22385 816.809 12.034 816.809 Z\" fill=\"#000000\" fill-rule=\"evenodd\" fill-opacity=\"1\" /><path clip-path=\"url(#clip680)\" d=\"M 0 0 M39.0477 820.513 Q35.4367 820.513 33.608 824.077 Q31.8024 827.619 31.8024 834.749 Q31.8024 841.855 33.608 845.42 Q35.4367 848.962 39.0477 848.962 Q42.682 848.962 44.4875 845.42 Q46.3162 841.855 46.3162 834.749 Q46.3162 827.619 44.4875 824.077 Q42.682 820.513 39.0477 820.513 M39.0477 816.809 Q44.8579 816.809 47.9134 821.415 Q50.9921 825.999 50.9921 834.749 Q50.9921 843.475 47.9134 848.082 Q44.8579 852.665 39.0477 852.665 Q33.2376 852.665 30.1589 848.082 Q27.1034 843.475 27.1034 834.749 Q27.1034 825.999 30.1589 821.415 Q33.2376 816.809 39.0477 816.809 Z\" fill=\"#000000\" fill-rule=\"evenodd\" fill-opacity=\"1\" /><path clip-path=\"url(#clip680)\" d=\"M 0 0 M-22.3408 612.818 Q-25.9519 612.818 -27.7806 616.383 Q-29.5861 619.924 -29.5861 627.054 Q-29.5861 634.16 -27.7806 637.725 Q-25.9519 641.267 -22.3408 641.267 Q-18.7066 641.267 -16.901 637.725 Q-15.0723 634.16 -15.0723 627.054 Q-15.0723 619.924 -16.901 616.383 Q-18.7066 612.818 -22.3408 612.818 M-22.3408 609.114 Q-16.5307 609.114 -13.4751 613.721 Q-10.3964 618.304 -10.3964 627.054 Q-10.3964 635.781 -13.4751 640.387 Q-16.5307 644.971 -22.3408 644.971 Q-28.151 644.971 -31.2297 640.387 Q-34.2852 635.781 -34.2852 627.054 Q-34.2852 618.304 -31.2297 613.721 Q-28.151 609.114 -22.3408 609.114 Z\" fill=\"#000000\" fill-rule=\"evenodd\" fill-opacity=\"1\" /><path clip-path=\"url(#clip680)\" d=\"M 0 0 M-5.32702 638.42 L-0.442784 638.42 L-0.442784 644.299 L-5.32702 644.299 L-5.32702 638.42 Z\" fill=\"#000000\" fill-rule=\"evenodd\" fill-opacity=\"1\" /><path clip-path=\"url(#clip680)\" d=\"M 0 0 M8.65439 640.364 L24.9737 640.364 L24.9737 644.299 L3.02942 644.299 L3.02942 640.364 Q5.69144 637.609 10.2748 632.98 Q14.8812 628.327 16.0618 626.985 Q18.3071 624.461 19.1867 622.725 Q20.0895 620.966 20.0895 619.276 Q20.0895 616.522 18.1451 614.786 Q16.2238 613.049 13.122 613.049 Q10.9229 613.049 8.46921 613.813 Q6.03866 614.577 3.2609 616.128 L3.2609 611.406 Q6.08496 610.272 8.53865 609.693 Q10.9923 609.114 13.0294 609.114 Q18.3997 609.114 21.5941 611.799 Q24.7886 614.485 24.7886 618.975 Q24.7886 621.105 23.9784 623.026 Q23.1913 624.924 21.0849 627.517 Q20.5062 628.188 17.4043 631.406 Q14.3025 634.6 8.65439 640.364 Z\" fill=\"#000000\" fill-rule=\"evenodd\" fill-opacity=\"1\" /><path clip-path=\"url(#clip680)\" d=\"M 0 0 M30.0895 609.739 L48.4458 609.739 L48.4458 613.674 L34.3718 613.674 L34.3718 622.147 Q35.3904 621.799 36.4089 621.637 Q37.4274 621.452 38.4459 621.452 Q44.2329 621.452 47.6125 624.623 Q50.9921 627.795 50.9921 633.211 Q50.9921 638.79 47.5199 641.892 Q44.0477 644.971 37.7283 644.971 Q35.5524 644.971 33.2839 644.6 Q31.0385 644.23 28.6311 643.489 L28.6311 638.79 Q30.7145 639.924 32.9367 640.48 Q35.1589 641.035 37.6357 641.035 Q41.6403 641.035 43.9783 638.929 Q46.3162 636.822 46.3162 633.211 Q46.3162 629.6 43.9783 627.494 Q41.6403 625.387 37.6357 625.387 Q35.7607 625.387 33.8857 625.804 Q32.0339 626.221 30.0895 627.1 L30.0895 609.739 Z\" fill=\"#000000\" fill-rule=\"evenodd\" fill-opacity=\"1\" /><path clip-path=\"url(#clip680)\" d=\"M 0 0 M-23.938 405.123 Q-27.5491 405.123 -29.3778 408.688 Q-31.1834 412.23 -31.1834 419.359 Q-31.1834 426.466 -29.3778 430.031 Q-27.5491 433.572 -23.938 433.572 Q-20.3038 433.572 -18.4982 430.031 Q-16.6695 426.466 -16.6695 419.359 Q-16.6695 412.23 -18.4982 408.688 Q-20.3038 405.123 -23.938 405.123 M-23.938 401.42 Q-18.1279 401.42 -15.0723 406.026 Q-11.9936 410.609 -11.9936 419.359 Q-11.9936 428.086 -15.0723 432.693 Q-18.1279 437.276 -23.938 437.276 Q-29.7482 437.276 -32.8269 432.693 Q-35.8824 428.086 -35.8824 419.359 Q-35.8824 410.609 -32.8269 406.026 Q-29.7482 401.42 -23.938 401.42 Z\" fill=\"#000000\" fill-rule=\"evenodd\" fill-opacity=\"1\" /><path clip-path=\"url(#clip680)\" d=\"M 0 0 M-6.92423 430.725 L-2.04 430.725 L-2.04 436.605 L-6.92423 436.605 L-6.92423 430.725 Z\" fill=\"#000000\" fill-rule=\"evenodd\" fill-opacity=\"1\" /><path clip-path=\"url(#clip680)\" d=\"M 0 0 M3.07572 402.045 L21.4321 402.045 L21.4321 405.98 L7.3581 405.98 L7.3581 414.452 Q8.37661 414.105 9.39513 413.943 Q10.4136 413.758 11.4322 413.758 Q17.2192 413.758 20.5988 416.929 Q23.9784 420.1 23.9784 425.517 Q23.9784 431.095 20.5062 434.197 Q17.034 437.276 10.7146 437.276 Q8.53865 437.276 6.27014 436.906 Q4.02479 436.535 1.61739 435.794 L1.61739 431.095 Q3.70071 432.23 5.92292 432.785 Q8.14513 433.341 10.622 433.341 Q14.6266 433.341 16.9645 431.234 Q19.3025 429.128 19.3025 425.517 Q19.3025 421.906 16.9645 419.799 Q14.6266 417.693 10.622 417.693 Q8.74698 417.693 6.87199 418.109 Q5.02015 418.526 3.07572 419.406 L3.07572 402.045 Z\" fill=\"#000000\" fill-rule=\"evenodd\" fill-opacity=\"1\" /><path clip-path=\"url(#clip680)\" d=\"M 0 0 M39.0477 405.123 Q35.4367 405.123 33.608 408.688 Q31.8024 412.23 31.8024 419.359 Q31.8024 426.466 33.608 430.031 Q35.4367 433.572 39.0477 433.572 Q42.682 433.572 44.4875 430.031 Q46.3162 426.466 46.3162 419.359 Q46.3162 412.23 44.4875 408.688 Q42.682 405.123 39.0477 405.123 M39.0477 401.42 Q44.8579 401.42 47.9134 406.026 Q50.9921 410.609 50.9921 419.359 Q50.9921 428.086 47.9134 432.693 Q44.8579 437.276 39.0477 437.276 Q33.2376 437.276 30.1589 432.693 Q27.1034 428.086 27.1034 419.359 Q27.1034 410.609 30.1589 406.026 Q33.2376 401.42 39.0477 401.42 Z\" fill=\"#000000\" fill-rule=\"evenodd\" fill-opacity=\"1\" /><path clip-path=\"url(#clip680)\" d=\"M 0 0 M-23.0353 197.429 Q-26.6463 197.429 -28.475 200.993 Q-30.2806 204.535 -30.2806 211.665 Q-30.2806 218.771 -28.475 222.336 Q-26.6463 225.878 -23.0353 225.878 Q-19.401 225.878 -17.5955 222.336 Q-15.7668 218.771 -15.7668 211.665 Q-15.7668 204.535 -17.5955 200.993 Q-19.401 197.429 -23.0353 197.429 M-23.0353 193.725 Q-17.2251 193.725 -14.1696 198.331 Q-11.0909 202.915 -11.0909 211.665 Q-11.0909 220.391 -14.1696 224.998 Q-17.2251 229.581 -23.0353 229.581 Q-28.8454 229.581 -31.9241 224.998 Q-34.9796 220.391 -34.9796 211.665 Q-34.9796 202.915 -31.9241 198.331 Q-28.8454 193.725 -23.0353 193.725 Z\" fill=\"#000000\" fill-rule=\"evenodd\" fill-opacity=\"1\" /><path clip-path=\"url(#clip680)\" d=\"M 0 0 M-6.02146 223.03 L-1.13722 223.03 L-1.13722 228.91 L-6.02146 228.91 L-6.02146 223.03 Z\" fill=\"#000000\" fill-rule=\"evenodd\" fill-opacity=\"1\" /><path clip-path=\"url(#clip680)\" d=\"M 0 0 M2.75164 194.35 L24.9737 194.35 L24.9737 196.341 L12.4275 228.91 L7.54328 228.91 L19.3488 198.285 L2.75164 198.285 L2.75164 194.35 Z\" fill=\"#000000\" fill-rule=\"evenodd\" fill-opacity=\"1\" /><path clip-path=\"url(#clip680)\" d=\"M 0 0 M30.0895 194.35 L48.4458 194.35 L48.4458 198.285 L34.3718 198.285 L34.3718 206.757 Q35.3904 206.41 36.4089 206.248 Q37.4274 206.063 38.4459 206.063 Q44.2329 206.063 47.6125 209.234 Q50.9921 212.405 50.9921 217.822 Q50.9921 223.401 47.5199 226.503 Q44.0477 229.581 37.7283 229.581 Q35.5524 229.581 33.2839 229.211 Q31.0385 228.841 28.6311 228.1 L28.6311 223.401 Q30.7145 224.535 32.9367 225.091 Q35.1589 225.646 37.6357 225.646 Q41.6403 225.646 43.9783 223.54 Q46.3162 221.433 46.3162 217.822 Q46.3162 214.211 43.9783 212.104 Q41.6403 209.998 37.6357 209.998 Q35.7607 209.998 33.8857 210.415 Q32.0339 210.831 30.0895 211.711 L30.0895 194.35 Z\" fill=\"#000000\" fill-rule=\"evenodd\" fill-opacity=\"1\" /><path clip-path=\"url(#clip680)\" d=\"M 0 0 M410.581 6.912 L430.442 6.912 L430.442 10.8472 L415.257 10.8472 L415.257 21.0323 L428.961 21.0323 L428.961 24.9675 L415.257 24.9675 L415.257 41.472 L410.581 41.472 L410.581 6.912 Z\" fill=\"#000000\" fill-rule=\"evenodd\" fill-opacity=\"1\" /><path clip-path=\"url(#clip680)\" d=\"M 0 0 M431.877 31.2406 L431.877 15.5462 L436.137 15.5462 L436.137 31.0785 Q436.137 34.7591 437.572 36.6109 Q439.007 38.4396 441.877 38.4396 Q445.326 38.4396 447.317 36.2405 Q449.331 34.0415 449.331 30.2452 L449.331 15.5462 L453.59 15.5462 L453.59 41.472 L449.331 41.472 L449.331 37.4905 Q447.78 39.8516 445.72 41.009 Q443.683 42.1433 440.975 42.1433 Q436.507 42.1433 434.192 39.3655 Q431.877 36.5878 431.877 31.2406 M442.595 14.9212 L442.595 14.9212 Z\" fill=\"#000000\" fill-rule=\"evenodd\" fill-opacity=\"1\" /><path clip-path=\"url(#clip680)\" d=\"M 0 0 M456.206 15.5462 L476.437 15.5462 L476.437 19.4351 L460.419 38.0692 L476.437 38.0692 L476.437 41.472 L455.627 41.472 L455.627 37.5831 L471.646 18.949 L456.206 18.949 L456.206 15.5462 Z\" fill=\"#000000\" fill-rule=\"evenodd\" fill-opacity=\"1\" /><path clip-path=\"url(#clip680)\" d=\"M 0 0 M479.053 15.5462 L499.284 15.5462 L499.284 19.4351 L483.266 38.0692 L499.284 38.0692 L499.284 41.472 L478.474 41.472 L478.474 37.5831 L494.493 18.949 L479.053 18.949 L479.053 15.5462 Z\" fill=\"#000000\" fill-rule=\"evenodd\" fill-opacity=\"1\" /><path clip-path=\"url(#clip680)\" d=\"M 0 0 M514.539 43.8794 Q512.733 48.509 511.02 49.921 Q509.307 51.3331 506.437 51.3331 L503.034 51.3331 L503.034 47.7683 L505.534 47.7683 Q507.294 47.7683 508.266 46.9349 Q509.238 46.1016 510.419 42.9998 L511.182 41.0553 L500.696 15.5462 L505.21 15.5462 L513.312 35.8239 L521.414 15.5462 L525.928 15.5462 L514.539 43.8794 Z\" fill=\"#000000\" fill-rule=\"evenodd\" fill-opacity=\"1\" /><path clip-path=\"url(#clip680)\" d=\"M 0 0 M542.131 11.5185 L535.789 28.7174 L548.497 28.7174 L542.131 11.5185 M539.493 6.912 L544.793 6.912 L557.965 41.472 L553.104 41.472 L549.955 32.6063 L534.377 32.6063 L531.229 41.472 L526.298 41.472 L539.493 6.912 Z\" fill=\"#000000\" fill-rule=\"evenodd\" fill-opacity=\"1\" /><path clip-path=\"url(#clip680)\" d=\"M 0 0 M579.006 25.2684 Q580.511 25.7776 581.923 27.4443 Q583.358 29.111 584.793 32.0276 L589.539 41.472 L584.515 41.472 L580.094 32.6063 Q578.381 29.1341 576.761 27.9998 Q575.164 26.8656 572.386 26.8656 L567.293 26.8656 L567.293 41.472 L562.617 41.472 L562.617 6.912 L573.173 6.912 Q579.099 6.912 582.015 9.38884 Q584.932 11.8657 584.932 16.8657 Q584.932 20.1295 583.404 22.2823 Q581.9 24.4351 579.006 25.2684 M567.293 10.7546 L567.293 23.023 L573.173 23.023 Q576.552 23.023 578.265 21.4721 Q580.002 19.898 580.002 16.8657 Q580.002 13.8333 578.265 12.3055 Q576.552 10.7546 573.173 10.7546 L567.293 10.7546 Z\" fill=\"#000000\" fill-rule=\"evenodd\" fill-opacity=\"1\" /><path clip-path=\"url(#clip680)\" d=\"M 0 0 M585.951 6.912 L615.187 6.912 L615.187 10.8472 L602.918 10.8472 L602.918 41.472 L598.219 41.472 L598.219 10.8472 L585.951 10.8472 L585.951 6.912 Z\" fill=\"#000000\" fill-rule=\"evenodd\" fill-opacity=\"1\" /><path clip-path=\"url(#clip680)\" d=\"M 0 0 M649.747 19.5277 Q649.029 19.111 648.172 18.9258 Q647.339 18.7175 646.321 18.7175 Q642.71 18.7175 640.765 21.0786 Q638.844 23.4165 638.844 27.8147 L638.844 41.472 L634.561 41.472 L634.561 15.5462 L638.844 15.5462 L638.844 19.574 Q640.186 17.2129 642.339 16.0786 Q644.492 14.9212 647.571 14.9212 Q648.01 14.9212 648.543 14.9907 Q649.075 15.037 649.723 15.1527 L649.747 19.5277 Z\" fill=\"#000000\" fill-rule=\"evenodd\" fill-opacity=\"1\" /><path clip-path=\"url(#clip680)\" d=\"M 0 0 M674.932 25.8239 L674.932 41.472 L670.672 41.472 L670.672 25.9628 Q670.672 22.2823 669.237 20.4536 Q667.802 18.6249 664.932 18.6249 Q661.483 18.6249 659.492 20.824 Q657.501 23.023 657.501 26.8193 L657.501 41.472 L653.219 41.472 L653.219 5.45367 L657.501 5.45367 L657.501 19.574 Q659.029 17.236 661.089 16.0786 Q663.172 14.9212 665.881 14.9212 Q670.348 14.9212 672.64 17.699 Q674.932 20.4536 674.932 25.8239 Z\" fill=\"#000000\" fill-rule=\"evenodd\" fill-opacity=\"1\" /><path clip-path=\"url(#clip680)\" d=\"M 0 0 M689.445 18.5323 Q686.019 18.5323 684.029 21.2175 Q682.038 23.8795 682.038 28.5323 Q682.038 33.185 684.006 35.8702 Q685.996 38.5322 689.445 38.5322 Q692.848 38.5322 694.839 35.847 Q696.83 33.1619 696.83 28.5323 Q696.83 23.9258 694.839 21.2406 Q692.848 18.5323 689.445 18.5323 M689.445 14.9212 Q695.001 14.9212 698.172 18.5323 Q701.343 22.1434 701.343 28.5323 Q701.343 34.898 698.172 38.5322 Q695.001 42.1433 689.445 42.1433 Q683.867 42.1433 680.695 38.5322 Q677.547 34.898 677.547 28.5323 Q677.547 22.1434 680.695 18.5323 Q683.867 14.9212 689.445 14.9212 Z\" fill=\"#000000\" fill-rule=\"evenodd\" fill-opacity=\"1\" /><path clip-path=\"url(#clip680)\" d=\"M 0 0 M721.436 19.9443 L751.112 19.9443 L751.112 23.8332 L721.436 23.8332 L721.436 19.9443 M721.436 29.3887 L751.112 29.3887 L751.112 33.3239 L721.436 33.3239 L721.436 29.3887 Z\" fill=\"#000000\" fill-rule=\"evenodd\" fill-opacity=\"1\" /><path clip-path=\"url(#clip680)\" d=\"M 0 0 M781.25 9.99069 Q777.639 9.99069 775.811 13.5555 Q774.005 17.0971 774.005 24.2267 Q774.005 31.3332 775.811 34.898 Q777.639 38.4396 781.25 38.4396 Q784.885 38.4396 786.69 34.898 Q788.519 31.3332 788.519 24.2267 Q788.519 17.0971 786.69 13.5555 Q784.885 9.99069 781.25 9.99069 M781.25 6.287 Q787.061 6.287 790.116 10.8935 Q793.195 15.4768 793.195 24.2267 Q793.195 32.9535 790.116 37.56 Q787.061 42.1433 781.25 42.1433 Q775.44 42.1433 772.362 37.56 Q769.306 32.9535 769.306 24.2267 Q769.306 15.4768 772.362 10.8935 Q775.44 6.287 781.25 6.287 Z\" fill=\"#000000\" fill-rule=\"evenodd\" fill-opacity=\"1\" /><path clip-path=\"url(#clip680)\" d=\"M 0 0 M798.264 35.5924 L803.148 35.5924 L803.148 41.472 L798.264 41.472 L798.264 35.5924 Z\" fill=\"#000000\" fill-rule=\"evenodd\" fill-opacity=\"1\" /><path clip-path=\"url(#clip680)\" d=\"M 0 0 M808.264 6.912 L826.621 6.912 L826.621 10.8472 L812.547 10.8472 L812.547 19.3193 Q813.565 18.9721 814.584 18.8101 Q815.602 18.6249 816.621 18.6249 Q822.408 18.6249 825.787 21.7962 Q829.167 24.9675 829.167 30.3841 Q829.167 35.9628 825.695 39.0646 Q822.222 42.1433 815.903 42.1433 Q813.727 42.1433 811.459 41.7729 Q809.213 41.4026 806.806 40.6618 L806.806 35.9628 Q808.889 37.097 811.111 37.6526 Q813.334 38.2081 815.81 38.2081 Q819.815 38.2081 822.153 36.1017 Q824.491 33.9952 824.491 30.3841 Q824.491 26.773 822.153 24.6665 Q819.815 22.5601 815.81 22.5601 Q813.935 22.5601 812.06 22.9767 Q810.209 23.3934 808.264 24.273 L808.264 6.912 Z\" fill=\"#000000\" fill-rule=\"evenodd\" fill-opacity=\"1\" /><circle clip-path=\"url(#clip682)\" cx=\"1018.95\" cy=\"104.257\" r=\"14\" fill=\"#009af9\" fill-rule=\"evenodd\" fill-opacity=\"1\" stroke=\"#000000\" stroke-opacity=\"1\" stroke-width=\"3.2\"/>\n",
       "<circle clip-path=\"url(#clip682)\" cx=\"1077.53\" cy=\"998.704\" r=\"14\" fill=\"#009af9\" fill-rule=\"evenodd\" fill-opacity=\"1\" stroke=\"#000000\" stroke-opacity=\"1\" stroke-width=\"3.2\"/>\n",
       "<circle clip-path=\"url(#clip682)\" cx=\"1122.59\" cy=\"1308.92\" r=\"14\" fill=\"#009af9\" fill-rule=\"evenodd\" fill-opacity=\"1\" stroke=\"#000000\" stroke-opacity=\"1\" stroke-width=\"3.2\"/>\n",
       "<circle clip-path=\"url(#clip682)\" cx=\"1077.81\" cy=\"638.601\" r=\"14\" fill=\"#009af9\" fill-rule=\"evenodd\" fill-opacity=\"1\" stroke=\"#000000\" stroke-opacity=\"1\" stroke-width=\"3.2\"/>\n",
       "<circle clip-path=\"url(#clip682)\" cx=\"1077.36\" cy=\"402.316\" r=\"14\" fill=\"#009af9\" fill-rule=\"evenodd\" fill-opacity=\"1\" stroke=\"#000000\" stroke-opacity=\"1\" stroke-width=\"3.2\"/>\n",
       "<circle clip-path=\"url(#clip682)\" cx=\"1070.64\" cy=\"347.644\" r=\"14\" fill=\"#009af9\" fill-rule=\"evenodd\" fill-opacity=\"1\" stroke=\"#000000\" stroke-opacity=\"1\" stroke-width=\"3.2\"/>\n",
       "<circle clip-path=\"url(#clip682)\" cx=\"1086.54\" cy=\"569.582\" r=\"14\" fill=\"#009af9\" fill-rule=\"evenodd\" fill-opacity=\"1\" stroke=\"#000000\" stroke-opacity=\"1\" stroke-width=\"3.2\"/>\n",
       "<circle clip-path=\"url(#clip682)\" cx=\"1085.26\" cy=\"569.455\" r=\"14\" fill=\"#009af9\" fill-rule=\"evenodd\" fill-opacity=\"1\" stroke=\"#000000\" stroke-opacity=\"1\" stroke-width=\"3.2\"/>\n",
       "<circle clip-path=\"url(#clip682)\" cx=\"1065.41\" cy=\"950.239\" r=\"14\" fill=\"#009af9\" fill-rule=\"evenodd\" fill-opacity=\"1\" stroke=\"#000000\" stroke-opacity=\"1\" stroke-width=\"3.2\"/>\n",
       "<circle clip-path=\"url(#clip682)\" cx=\"1034.6\" cy=\"747.048\" r=\"14\" fill=\"#009af9\" fill-rule=\"evenodd\" fill-opacity=\"1\" stroke=\"#000000\" stroke-opacity=\"1\" stroke-width=\"3.2\"/>\n",
       "<circle clip-path=\"url(#clip682)\" cx=\"1082.66\" cy=\"155.063\" r=\"14\" fill=\"#009af9\" fill-rule=\"evenodd\" fill-opacity=\"1\" stroke=\"#000000\" stroke-opacity=\"1\" stroke-width=\"3.2\"/>\n",
       "<circle clip-path=\"url(#clip682)\" cx=\"1096.67\" cy=\"1036.33\" r=\"14\" fill=\"#009af9\" fill-rule=\"evenodd\" fill-opacity=\"1\" stroke=\"#000000\" stroke-opacity=\"1\" stroke-width=\"3.2\"/>\n",
       "<circle clip-path=\"url(#clip682)\" cx=\"1081.25\" cy=\"816.835\" r=\"14\" fill=\"#009af9\" fill-rule=\"evenodd\" fill-opacity=\"1\" stroke=\"#000000\" stroke-opacity=\"1\" stroke-width=\"3.2\"/>\n",
       "<circle clip-path=\"url(#clip682)\" cx=\"1050.69\" cy=\"487.382\" r=\"14\" fill=\"#009af9\" fill-rule=\"evenodd\" fill-opacity=\"1\" stroke=\"#000000\" stroke-opacity=\"1\" stroke-width=\"3.2\"/>\n",
       "<circle clip-path=\"url(#clip682)\" cx=\"1065.2\" cy=\"293.1\" r=\"14\" fill=\"#009af9\" fill-rule=\"evenodd\" fill-opacity=\"1\" stroke=\"#000000\" stroke-opacity=\"1\" stroke-width=\"3.2\"/>\n",
       "<circle clip-path=\"url(#clip682)\" cx=\"531.116\" cy=\"644.501\" r=\"14\" fill=\"#e26f46\" fill-rule=\"evenodd\" fill-opacity=\"1\" stroke=\"#000000\" stroke-opacity=\"1\" stroke-width=\"3.2\"/>\n",
       "<circle clip-path=\"url(#clip682)\" cx=\"618.42\" cy=\"1390.94\" r=\"14\" fill=\"#e26f46\" fill-rule=\"evenodd\" fill-opacity=\"1\" stroke=\"#000000\" stroke-opacity=\"1\" stroke-width=\"3.2\"/>\n",
       "<circle clip-path=\"url(#clip682)\" cx=\"492.745\" cy=\"1466.95\" r=\"14\" fill=\"#e26f46\" fill-rule=\"evenodd\" fill-opacity=\"1\" stroke=\"#000000\" stroke-opacity=\"1\" stroke-width=\"3.2\"/>\n",
       "<circle clip-path=\"url(#clip682)\" cx=\"638.265\" cy=\"1010.16\" r=\"14\" fill=\"#e26f46\" fill-rule=\"evenodd\" fill-opacity=\"1\" stroke=\"#000000\" stroke-opacity=\"1\" stroke-width=\"3.2\"/>\n",
       "<circle clip-path=\"url(#clip682)\" cx=\"634.593\" cy=\"1252.78\" r=\"14\" fill=\"#e26f46\" fill-rule=\"evenodd\" fill-opacity=\"1\" stroke=\"#000000\" stroke-opacity=\"1\" stroke-width=\"3.2\"/>\n",
       "<circle clip-path=\"url(#clip682)\" cx=\"588.846\" cy=\"1127.13\" r=\"14\" fill=\"#e26f46\" fill-rule=\"evenodd\" fill-opacity=\"1\" stroke=\"#000000\" stroke-opacity=\"1\" stroke-width=\"3.2\"/>\n",
       "<circle clip-path=\"url(#clip682)\" cx=\"698.668\" cy=\"1418.37\" r=\"14\" fill=\"#e26f46\" fill-rule=\"evenodd\" fill-opacity=\"1\" stroke=\"#000000\" stroke-opacity=\"1\" stroke-width=\"3.2\"/>\n",
       "<circle clip-path=\"url(#clip682)\" cx=\"716.955\" cy=\"1397.56\" r=\"14\" fill=\"#e26f46\" fill-rule=\"evenodd\" fill-opacity=\"1\" stroke=\"#000000\" stroke-opacity=\"1\" stroke-width=\"3.2\"/>\n",
       "<circle clip-path=\"url(#clip682)\" cx=\"648.615\" cy=\"1289.89\" r=\"14\" fill=\"#e26f46\" fill-rule=\"evenodd\" fill-opacity=\"1\" stroke=\"#000000\" stroke-opacity=\"1\" stroke-width=\"3.2\"/>\n",
       "<circle clip-path=\"url(#clip682)\" cx=\"546.302\" cy=\"1284.85\" r=\"14\" fill=\"#e26f46\" fill-rule=\"evenodd\" fill-opacity=\"1\" stroke=\"#000000\" stroke-opacity=\"1\" stroke-width=\"3.2\"/>\n",
       "<circle clip-path=\"url(#clip682)\" cx=\"643.278\" cy=\"1123.01\" r=\"14\" fill=\"#e26f46\" fill-rule=\"evenodd\" fill-opacity=\"1\" stroke=\"#000000\" stroke-opacity=\"1\" stroke-width=\"3.2\"/>\n",
       "<circle clip-path=\"url(#clip682)\" cx=\"734.325\" cy=\"1138.02\" r=\"14\" fill=\"#e26f46\" fill-rule=\"evenodd\" fill-opacity=\"1\" stroke=\"#000000\" stroke-opacity=\"1\" stroke-width=\"3.2\"/>\n",
       "<circle clip-path=\"url(#clip682)\" cx=\"524.52\" cy=\"772.081\" r=\"14\" fill=\"#e26f46\" fill-rule=\"evenodd\" fill-opacity=\"1\" stroke=\"#000000\" stroke-opacity=\"1\" stroke-width=\"3.2\"/>\n",
       "<circle clip-path=\"url(#clip682)\" cx=\"653.649\" cy=\"1168.9\" r=\"14\" fill=\"#e26f46\" fill-rule=\"evenodd\" fill-opacity=\"1\" stroke=\"#000000\" stroke-opacity=\"1\" stroke-width=\"3.2\"/>\n",
       "<circle clip-path=\"url(#clip682)\" cx=\"485.784\" cy=\"1479.74\" r=\"14\" fill=\"#3da44d\" fill-rule=\"evenodd\" fill-opacity=\"1\" stroke=\"#000000\" stroke-opacity=\"1\" stroke-width=\"3.2\"/>\n",
       "<circle clip-path=\"url(#clip682)\" cx=\"566.637\" cy=\"672.667\" r=\"14\" fill=\"#3da44d\" fill-rule=\"evenodd\" fill-opacity=\"1\" stroke=\"#000000\" stroke-opacity=\"1\" stroke-width=\"3.2\"/>\n",
       "<circle clip-path=\"url(#clip682)\" cx=\"368.691\" cy=\"1009.89\" r=\"14\" fill=\"#3da44d\" fill-rule=\"evenodd\" fill-opacity=\"1\" stroke=\"#000000\" stroke-opacity=\"1\" stroke-width=\"3.2\"/>\n",
       "<circle clip-path=\"url(#clip682)\" cx=\"260.648\" cy=\"525.047\" r=\"14\" fill=\"#3da44d\" fill-rule=\"evenodd\" fill-opacity=\"1\" stroke=\"#000000\" stroke-opacity=\"1\" stroke-width=\"3.2\"/>\n",
       "<circle clip-path=\"url(#clip682)\" cx=\"398.843\" cy=\"494.7\" r=\"14\" fill=\"#3da44d\" fill-rule=\"evenodd\" fill-opacity=\"1\" stroke=\"#000000\" stroke-opacity=\"1\" stroke-width=\"3.2\"/>\n",
       "<circle clip-path=\"url(#clip682)\" cx=\"307.174\" cy=\"844.552\" r=\"14\" fill=\"#3da44d\" fill-rule=\"evenodd\" fill-opacity=\"1\" stroke=\"#000000\" stroke-opacity=\"1\" stroke-width=\"3.2\"/>\n",
       "<circle clip-path=\"url(#clip682)\" cx=\"225.207\" cy=\"264.995\" r=\"14\" fill=\"#3da44d\" fill-rule=\"evenodd\" fill-opacity=\"1\" stroke=\"#000000\" stroke-opacity=\"1\" stroke-width=\"3.2\"/>\n",
       "<circle clip-path=\"url(#clip682)\" cx=\"401.975\" cy=\"738.446\" r=\"14\" fill=\"#3da44d\" fill-rule=\"evenodd\" fill-opacity=\"1\" stroke=\"#000000\" stroke-opacity=\"1\" stroke-width=\"3.2\"/>\n",
       "<circle clip-path=\"url(#clip682)\" cx=\"177.007\" cy=\"380.138\" r=\"14\" fill=\"#3da44d\" fill-rule=\"evenodd\" fill-opacity=\"1\" stroke=\"#000000\" stroke-opacity=\"1\" stroke-width=\"3.2\"/>\n",
       "<circle clip-path=\"url(#clip682)\" cx=\"394.811\" cy=\"800.876\" r=\"14\" fill=\"#3da44d\" fill-rule=\"evenodd\" fill-opacity=\"1\" stroke=\"#000000\" stroke-opacity=\"1\" stroke-width=\"3.2\"/>\n",
       "<circle clip-path=\"url(#clip682)\" cx=\"339.079\" cy=\"1038.71\" r=\"14\" fill=\"#3da44d\" fill-rule=\"evenodd\" fill-opacity=\"1\" stroke=\"#000000\" stroke-opacity=\"1\" stroke-width=\"3.2\"/>\n",
       "<circle clip-path=\"url(#clip682)\" cx=\"507.825\" cy=\"1337.82\" r=\"14\" fill=\"#3da44d\" fill-rule=\"evenodd\" fill-opacity=\"1\" stroke=\"#000000\" stroke-opacity=\"1\" stroke-width=\"3.2\"/>\n",
       "<circle clip-path=\"url(#clip682)\" cx=\"117.155\" cy=\"624.306\" r=\"14\" fill=\"#3da44d\" fill-rule=\"evenodd\" fill-opacity=\"1\" stroke=\"#000000\" stroke-opacity=\"1\" stroke-width=\"3.2\"/>\n",
       "<circle clip-path=\"url(#clip682)\" cx=\"467.81\" cy=\"415.844\" r=\"14\" fill=\"#3da44d\" fill-rule=\"evenodd\" fill-opacity=\"1\" stroke=\"#000000\" stroke-opacity=\"1\" stroke-width=\"3.2\"/>\n",
       "<circle clip-path=\"url(#clip682)\" cx=\"401.507\" cy=\"736.002\" r=\"14\" fill=\"#3da44d\" fill-rule=\"evenodd\" fill-opacity=\"1\" stroke=\"#000000\" stroke-opacity=\"1\" stroke-width=\"3.2\"/>\n",
       "<circle clip-path=\"url(#clip682)\" cx=\"498.869\" cy=\"983.537\" r=\"14\" fill=\"#3da44d\" fill-rule=\"evenodd\" fill-opacity=\"1\" stroke=\"#000000\" stroke-opacity=\"1\" stroke-width=\"3.2\"/>\n",
       "<path clip-path=\"url(#clip680)\" d=\"\n",
       "M1286.99 1521.01 L2352.76 1521.01 L2352.76 62.9921 L1286.99 62.9921  Z\n",
       "  \" fill=\"#ffffff\" fill-rule=\"evenodd\" fill-opacity=\"1\"/>\n",
       "<defs>\n",
       "  <clipPath id=\"clip683\">\n",
       "    <rect x=\"1286\" y=\"62\" width=\"1067\" height=\"1459\"/>\n",
       "  </clipPath>\n",
       "</defs>\n",
       "<polyline clip-path=\"url(#clip683)\" style=\"stroke:#000000; stroke-width:2; stroke-opacity:0.1; fill:none\" points=\"\n",
       "  1436.72,1521.01 1436.72,62.9921 \n",
       "  \"/>\n",
       "<polyline clip-path=\"url(#clip683)\" style=\"stroke:#000000; stroke-width:2; stroke-opacity:0.1; fill:none\" points=\"\n",
       "  1587.17,1521.01 1587.17,62.9921 \n",
       "  \"/>\n",
       "<polyline clip-path=\"url(#clip683)\" style=\"stroke:#000000; stroke-width:2; stroke-opacity:0.1; fill:none\" points=\"\n",
       "  1737.63,1521.01 1737.63,62.9921 \n",
       "  \"/>\n",
       "<polyline clip-path=\"url(#clip683)\" style=\"stroke:#000000; stroke-width:2; stroke-opacity:0.1; fill:none\" points=\"\n",
       "  1888.08,1521.01 1888.08,62.9921 \n",
       "  \"/>\n",
       "<polyline clip-path=\"url(#clip683)\" style=\"stroke:#000000; stroke-width:2; stroke-opacity:0.1; fill:none\" points=\"\n",
       "  2038.54,1521.01 2038.54,62.9921 \n",
       "  \"/>\n",
       "<polyline clip-path=\"url(#clip683)\" style=\"stroke:#000000; stroke-width:2; stroke-opacity:0.1; fill:none\" points=\"\n",
       "  2188.99,1521.01 2188.99,62.9921 \n",
       "  \"/>\n",
       "<polyline clip-path=\"url(#clip683)\" style=\"stroke:#000000; stroke-width:2; stroke-opacity:0.1; fill:none\" points=\"\n",
       "  2339.45,1521.01 2339.45,62.9921 \n",
       "  \"/>\n",
       "<polyline clip-path=\"url(#clip680)\" style=\"stroke:#000000; stroke-width:4; stroke-opacity:1; fill:none\" points=\"\n",
       "  1286.99,1521.01 2352.76,1521.01 \n",
       "  \"/>\n",
       "<polyline clip-path=\"url(#clip680)\" style=\"stroke:#000000; stroke-width:4; stroke-opacity:1; fill:none\" points=\"\n",
       "  1436.72,1521.01 1436.72,1503.51 \n",
       "  \"/>\n",
       "<polyline clip-path=\"url(#clip680)\" style=\"stroke:#000000; stroke-width:4; stroke-opacity:1; fill:none\" points=\"\n",
       "  1587.17,1521.01 1587.17,1503.51 \n",
       "  \"/>\n",
       "<polyline clip-path=\"url(#clip680)\" style=\"stroke:#000000; stroke-width:4; stroke-opacity:1; fill:none\" points=\"\n",
       "  1737.63,1521.01 1737.63,1503.51 \n",
       "  \"/>\n",
       "<polyline clip-path=\"url(#clip680)\" style=\"stroke:#000000; stroke-width:4; stroke-opacity:1; fill:none\" points=\"\n",
       "  1888.08,1521.01 1888.08,1503.51 \n",
       "  \"/>\n",
       "<polyline clip-path=\"url(#clip680)\" style=\"stroke:#000000; stroke-width:4; stroke-opacity:1; fill:none\" points=\"\n",
       "  2038.54,1521.01 2038.54,1503.51 \n",
       "  \"/>\n",
       "<polyline clip-path=\"url(#clip680)\" style=\"stroke:#000000; stroke-width:4; stroke-opacity:1; fill:none\" points=\"\n",
       "  2188.99,1521.01 2188.99,1503.51 \n",
       "  \"/>\n",
       "<polyline clip-path=\"url(#clip680)\" style=\"stroke:#000000; stroke-width:4; stroke-opacity:1; fill:none\" points=\"\n",
       "  2339.45,1521.01 2339.45,1503.51 \n",
       "  \"/>\n",
       "<path clip-path=\"url(#clip680)\" d=\"M 0 0 M1415.7 1558.69 L1437.96 1558.69 L1437.96 1561.64 L1415.7 1561.64 L1415.7 1558.69 Z\" fill=\"#000000\" fill-rule=\"evenodd\" fill-opacity=\"1\" /><path clip-path=\"url(#clip680)\" d=\"M 0 0 M1452.39 1557.34 Q1454.91 1557.87 1456.31 1559.58 Q1457.74 1561.28 1457.74 1563.78 Q1457.74 1567.61 1455.1 1569.71 Q1452.46 1571.82 1447.6 1571.82 Q1445.96 1571.82 1444.23 1571.49 Q1442.51 1571.17 1440.67 1570.53 L1440.67 1567.15 Q1442.13 1568 1443.86 1568.43 Q1445.6 1568.86 1447.49 1568.86 Q1450.79 1568.86 1452.51 1567.56 Q1454.25 1566.26 1454.25 1563.78 Q1454.25 1561.49 1452.63 1560.2 Q1451.03 1558.9 1448.17 1558.9 L1445.15 1558.9 L1445.15 1556.02 L1448.31 1556.02 Q1450.9 1556.02 1452.27 1554.99 Q1453.64 1553.95 1453.64 1552.01 Q1453.64 1550.01 1452.21 1548.95 Q1450.81 1547.87 1448.17 1547.87 Q1446.73 1547.87 1445.08 1548.19 Q1443.43 1548.5 1441.45 1549.16 L1441.45 1546.03 Q1443.45 1545.48 1445.18 1545.2 Q1446.94 1544.92 1448.48 1544.92 Q1452.48 1544.92 1454.8 1546.75 Q1457.13 1548.55 1457.13 1551.64 Q1457.13 1553.79 1455.9 1555.29 Q1454.66 1556.76 1452.39 1557.34 Z\" fill=\"#000000\" fill-rule=\"evenodd\" fill-opacity=\"1\" /><path clip-path=\"url(#clip680)\" d=\"M 0 0 M1566.52 1558.69 L1588.77 1558.69 L1588.77 1561.64 L1566.52 1561.64 L1566.52 1558.69 Z\" fill=\"#000000\" fill-rule=\"evenodd\" fill-opacity=\"1\" /><path clip-path=\"url(#clip680)\" d=\"M 0 0 M1595.59 1568.36 L1607.83 1568.36 L1607.83 1571.31 L1591.38 1571.31 L1591.38 1568.36 Q1593.37 1566.29 1596.81 1562.82 Q1600.27 1559.33 1601.15 1558.33 Q1602.83 1556.43 1603.49 1555.13 Q1604.17 1553.81 1604.17 1552.54 Q1604.17 1550.48 1602.71 1549.18 Q1601.27 1547.87 1598.95 1547.87 Q1597.3 1547.87 1595.46 1548.45 Q1593.63 1549.02 1591.55 1550.18 L1591.55 1546.64 Q1593.67 1545.79 1595.51 1545.36 Q1597.35 1544.92 1598.88 1544.92 Q1602.9 1544.92 1605.3 1546.94 Q1607.7 1548.95 1607.7 1552.32 Q1607.7 1553.92 1607.09 1555.36 Q1606.5 1556.78 1604.92 1558.73 Q1604.48 1559.23 1602.16 1561.64 Q1599.83 1564.04 1595.59 1568.36 Z\" fill=\"#000000\" fill-rule=\"evenodd\" fill-opacity=\"1\" /><path clip-path=\"url(#clip680)\" d=\"M 0 0 M1716.83 1558.69 L1739.09 1558.69 L1739.09 1561.64 L1716.83 1561.64 L1716.83 1558.69 Z\" fill=\"#000000\" fill-rule=\"evenodd\" fill-opacity=\"1\" /><path clip-path=\"url(#clip680)\" d=\"M 0 0 M1743.5 1568.36 L1749.23 1568.36 L1749.23 1548.59 L1742.99 1549.84 L1742.99 1546.64 L1749.19 1545.39 L1752.7 1545.39 L1752.7 1568.36 L1758.43 1568.36 L1758.43 1571.31 L1743.5 1571.31 L1743.5 1568.36 Z\" fill=\"#000000\" fill-rule=\"evenodd\" fill-opacity=\"1\" /><path clip-path=\"url(#clip680)\" d=\"M 0 0 M1888.08 1547.7 Q1885.38 1547.7 1884.01 1550.37 Q1882.65 1553.03 1882.65 1558.38 Q1882.65 1563.71 1884.01 1566.38 Q1885.38 1569.04 1888.08 1569.04 Q1890.81 1569.04 1892.16 1566.38 Q1893.54 1563.71 1893.54 1558.38 Q1893.54 1553.03 1892.16 1550.37 Q1890.81 1547.7 1888.08 1547.7 M1888.08 1544.92 Q1892.44 1544.92 1894.73 1548.38 Q1897.04 1551.82 1897.04 1558.38 Q1897.04 1564.92 1894.73 1568.38 Q1892.44 1571.82 1888.08 1571.82 Q1883.73 1571.82 1881.42 1568.38 Q1879.13 1564.92 1879.13 1558.38 Q1879.13 1551.82 1881.42 1548.38 Q1883.73 1544.92 1888.08 1544.92 Z\" fill=\"#000000\" fill-rule=\"evenodd\" fill-opacity=\"1\" /><path clip-path=\"url(#clip680)\" d=\"M 0 0 M2031.33 1568.36 L2037.06 1568.36 L2037.06 1548.59 L2030.82 1549.84 L2030.82 1546.64 L2037.02 1545.39 L2040.53 1545.39 L2040.53 1568.36 L2046.26 1568.36 L2046.26 1571.31 L2031.33 1571.31 L2031.33 1568.36 Z\" fill=\"#000000\" fill-rule=\"evenodd\" fill-opacity=\"1\" /><path clip-path=\"url(#clip680)\" d=\"M 0 0 M2184.98 1568.36 L2197.22 1568.36 L2197.22 1571.31 L2180.77 1571.31 L2180.77 1568.36 Q2182.76 1566.29 2186.2 1562.82 Q2189.65 1559.33 2190.54 1558.33 Q2192.22 1556.43 2192.88 1555.13 Q2193.56 1553.81 2193.56 1552.54 Q2193.56 1550.48 2192.1 1549.18 Q2190.66 1547.87 2188.34 1547.87 Q2186.69 1547.87 2184.85 1548.45 Q2183.02 1549.02 2180.94 1550.18 L2180.94 1546.64 Q2183.06 1545.79 2184.9 1545.36 Q2186.74 1544.92 2188.27 1544.92 Q2192.29 1544.92 2194.69 1546.94 Q2197.09 1548.95 2197.09 1552.32 Q2197.09 1553.92 2196.48 1555.36 Q2195.89 1556.78 2194.31 1558.73 Q2193.87 1559.23 2191.55 1561.64 Q2189.22 1564.04 2184.98 1568.36 Z\" fill=\"#000000\" fill-rule=\"evenodd\" fill-opacity=\"1\" /><path clip-path=\"url(#clip680)\" d=\"M 0 0 M2342.64 1557.34 Q2345.15 1557.87 2346.56 1559.58 Q2347.98 1561.28 2347.98 1563.78 Q2347.98 1567.61 2345.34 1569.71 Q2342.71 1571.82 2337.84 1571.82 Q2336.21 1571.82 2334.48 1571.49 Q2332.76 1571.17 2330.92 1570.53 L2330.92 1567.15 Q2332.38 1568 2334.11 1568.43 Q2335.85 1568.86 2337.74 1568.86 Q2341.04 1568.86 2342.76 1567.56 Q2344.49 1566.26 2344.49 1563.78 Q2344.49 1561.49 2342.88 1560.2 Q2341.28 1558.9 2338.42 1558.9 L2335.4 1558.9 L2335.4 1556.02 L2338.56 1556.02 Q2341.14 1556.02 2342.51 1554.99 Q2343.89 1553.95 2343.89 1552.01 Q2343.89 1550.01 2342.46 1548.95 Q2341.06 1547.87 2338.42 1547.87 Q2336.98 1547.87 2335.33 1548.19 Q2333.68 1548.5 2331.7 1549.16 L2331.7 1546.03 Q2333.69 1545.48 2335.43 1545.2 Q2337.18 1544.92 2338.73 1544.92 Q2342.72 1544.92 2345.05 1546.75 Q2347.38 1548.55 2347.38 1551.64 Q2347.38 1553.79 2346.14 1555.29 Q2344.91 1556.76 2342.64 1557.34 Z\" fill=\"#000000\" fill-rule=\"evenodd\" fill-opacity=\"1\" /><polyline clip-path=\"url(#clip683)\" style=\"stroke:#000000; stroke-width:2; stroke-opacity:0.1; fill:none\" points=\"\n",
       "  1286.99,1457.8 2352.76,1457.8 \n",
       "  \"/>\n",
       "<polyline clip-path=\"url(#clip683)\" style=\"stroke:#000000; stroke-width:2; stroke-opacity:0.1; fill:none\" points=\"\n",
       "  1286.99,1250.1 2352.76,1250.1 \n",
       "  \"/>\n",
       "<polyline clip-path=\"url(#clip683)\" style=\"stroke:#000000; stroke-width:2; stroke-opacity:0.1; fill:none\" points=\"\n",
       "  1286.99,1042.41 2352.76,1042.41 \n",
       "  \"/>\n",
       "<polyline clip-path=\"url(#clip683)\" style=\"stroke:#000000; stroke-width:2; stroke-opacity:0.1; fill:none\" points=\"\n",
       "  1286.99,834.714 2352.76,834.714 \n",
       "  \"/>\n",
       "<polyline clip-path=\"url(#clip683)\" style=\"stroke:#000000; stroke-width:2; stroke-opacity:0.1; fill:none\" points=\"\n",
       "  1286.99,627.019 2352.76,627.019 \n",
       "  \"/>\n",
       "<polyline clip-path=\"url(#clip683)\" style=\"stroke:#000000; stroke-width:2; stroke-opacity:0.1; fill:none\" points=\"\n",
       "  1286.99,419.325 2352.76,419.325 \n",
       "  \"/>\n",
       "<polyline clip-path=\"url(#clip683)\" style=\"stroke:#000000; stroke-width:2; stroke-opacity:0.1; fill:none\" points=\"\n",
       "  1286.99,211.63 2352.76,211.63 \n",
       "  \"/>\n",
       "<polyline clip-path=\"url(#clip680)\" style=\"stroke:#000000; stroke-width:4; stroke-opacity:1; fill:none\" points=\"\n",
       "  1286.99,1521.01 1286.99,62.9921 \n",
       "  \"/>\n",
       "<polyline clip-path=\"url(#clip680)\" style=\"stroke:#000000; stroke-width:4; stroke-opacity:1; fill:none\" points=\"\n",
       "  1286.99,1457.8 1299.78,1457.8 \n",
       "  \"/>\n",
       "<polyline clip-path=\"url(#clip680)\" style=\"stroke:#000000; stroke-width:4; stroke-opacity:1; fill:none\" points=\"\n",
       "  1286.99,1250.1 1299.78,1250.1 \n",
       "  \"/>\n",
       "<polyline clip-path=\"url(#clip680)\" style=\"stroke:#000000; stroke-width:4; stroke-opacity:1; fill:none\" points=\"\n",
       "  1286.99,1042.41 1299.78,1042.41 \n",
       "  \"/>\n",
       "<polyline clip-path=\"url(#clip680)\" style=\"stroke:#000000; stroke-width:4; stroke-opacity:1; fill:none\" points=\"\n",
       "  1286.99,834.714 1299.78,834.714 \n",
       "  \"/>\n",
       "<polyline clip-path=\"url(#clip680)\" style=\"stroke:#000000; stroke-width:4; stroke-opacity:1; fill:none\" points=\"\n",
       "  1286.99,627.019 1299.78,627.019 \n",
       "  \"/>\n",
       "<polyline clip-path=\"url(#clip680)\" style=\"stroke:#000000; stroke-width:4; stroke-opacity:1; fill:none\" points=\"\n",
       "  1286.99,419.325 1299.78,419.325 \n",
       "  \"/>\n",
       "<polyline clip-path=\"url(#clip680)\" style=\"stroke:#000000; stroke-width:4; stroke-opacity:1; fill:none\" points=\"\n",
       "  1286.99,211.63 1299.78,211.63 \n",
       "  \"/>\n",
       "<path clip-path=\"url(#clip680)\" d=\"M 0 0 M1132.22 1458.25 L1161.9 1458.25 L1161.9 1462.18 L1132.22 1462.18 L1132.22 1458.25 Z\" fill=\"#000000\" fill-rule=\"evenodd\" fill-opacity=\"1\" /><path clip-path=\"url(#clip680)\" d=\"M 0 0 M1176.96 1443.6 Q1173.35 1443.6 1171.52 1447.16 Q1169.72 1450.7 1169.72 1457.83 Q1169.72 1464.94 1171.52 1468.5 Q1173.35 1472.05 1176.96 1472.05 Q1180.6 1472.05 1182.4 1468.5 Q1184.23 1464.94 1184.23 1457.83 Q1184.23 1450.7 1182.4 1447.16 Q1180.6 1443.6 1176.96 1443.6 M1176.96 1439.89 Q1182.77 1439.89 1185.83 1444.5 Q1188.91 1449.08 1188.91 1457.83 Q1188.91 1466.56 1185.83 1471.17 Q1182.77 1475.75 1176.96 1475.75 Q1171.15 1475.75 1168.08 1471.17 Q1165.02 1466.56 1165.02 1457.83 Q1165.02 1449.08 1168.08 1444.5 Q1171.15 1439.89 1176.96 1439.89 Z\" fill=\"#000000\" fill-rule=\"evenodd\" fill-opacity=\"1\" /><path clip-path=\"url(#clip680)\" d=\"M 0 0 M1193.98 1469.2 L1198.86 1469.2 L1198.86 1475.08 L1193.98 1475.08 L1193.98 1469.2 Z\" fill=\"#000000\" fill-rule=\"evenodd\" fill-opacity=\"1\" /><path clip-path=\"url(#clip680)\" d=\"M 0 0 M1202.75 1440.52 L1224.97 1440.52 L1224.97 1442.51 L1212.43 1475.08 L1207.54 1475.08 L1219.35 1444.45 L1202.75 1444.45 L1202.75 1440.52 Z\" fill=\"#000000\" fill-rule=\"evenodd\" fill-opacity=\"1\" /><path clip-path=\"url(#clip680)\" d=\"M 0 0 M1230.09 1440.52 L1248.45 1440.52 L1248.45 1444.45 L1234.37 1444.45 L1234.37 1452.93 Q1235.39 1452.58 1236.41 1452.42 Q1237.43 1452.23 1238.45 1452.23 Q1244.23 1452.23 1247.61 1455.4 Q1250.99 1458.57 1250.99 1463.99 Q1250.99 1469.57 1247.52 1472.67 Q1244.05 1475.75 1237.73 1475.75 Q1235.55 1475.75 1233.28 1475.38 Q1231.04 1475.01 1228.63 1474.27 L1228.63 1469.57 Q1230.71 1470.7 1232.94 1471.26 Q1235.16 1471.81 1237.64 1471.81 Q1241.64 1471.81 1243.98 1469.71 Q1246.32 1467.6 1246.32 1463.99 Q1246.32 1460.38 1243.98 1458.27 Q1241.64 1456.17 1237.64 1456.17 Q1235.76 1456.17 1233.89 1456.58 Q1232.03 1457 1230.09 1457.88 L1230.09 1440.52 Z\" fill=\"#000000\" fill-rule=\"evenodd\" fill-opacity=\"1\" /><path clip-path=\"url(#clip680)\" d=\"M 0 0 M1131.32 1250.55 L1160.99 1250.55 L1160.99 1254.49 L1131.32 1254.49 L1131.32 1250.55 Z\" fill=\"#000000\" fill-rule=\"evenodd\" fill-opacity=\"1\" /><path clip-path=\"url(#clip680)\" d=\"M 0 0 M1176.06 1235.9 Q1172.45 1235.9 1170.62 1239.47 Q1168.82 1243.01 1168.82 1250.14 Q1168.82 1257.24 1170.62 1260.81 Q1172.45 1264.35 1176.06 1264.35 Q1179.7 1264.35 1181.5 1260.81 Q1183.33 1257.24 1183.33 1250.14 Q1183.33 1243.01 1181.5 1239.47 Q1179.7 1235.9 1176.06 1235.9 M1176.06 1232.2 Q1181.87 1232.2 1184.93 1236.8 Q1188.01 1241.39 1188.01 1250.14 Q1188.01 1258.86 1184.93 1263.47 Q1181.87 1268.05 1176.06 1268.05 Q1170.25 1268.05 1167.17 1263.47 Q1164.12 1258.86 1164.12 1250.14 Q1164.12 1241.39 1167.17 1236.8 Q1170.25 1232.2 1176.06 1232.2 Z\" fill=\"#000000\" fill-rule=\"evenodd\" fill-opacity=\"1\" /><path clip-path=\"url(#clip680)\" d=\"M 0 0 M1193.08 1261.5 L1197.96 1261.5 L1197.96 1267.38 L1193.08 1267.38 L1193.08 1261.5 Z\" fill=\"#000000\" fill-rule=\"evenodd\" fill-opacity=\"1\" /><path clip-path=\"url(#clip680)\" d=\"M 0 0 M1203.08 1232.82 L1221.43 1232.82 L1221.43 1236.76 L1207.36 1236.76 L1207.36 1245.23 Q1208.38 1244.88 1209.4 1244.72 Q1210.41 1244.54 1211.43 1244.54 Q1217.22 1244.54 1220.6 1247.71 Q1223.98 1250.88 1223.98 1256.3 Q1223.98 1261.87 1220.51 1264.98 Q1217.03 1268.05 1210.71 1268.05 Q1208.54 1268.05 1206.27 1267.68 Q1204.02 1267.31 1201.62 1266.57 L1201.62 1261.87 Q1203.7 1263.01 1205.92 1263.56 Q1208.15 1264.12 1210.62 1264.12 Q1214.63 1264.12 1216.96 1262.01 Q1219.3 1259.91 1219.3 1256.3 Q1219.3 1252.68 1216.96 1250.58 Q1214.63 1248.47 1210.62 1248.47 Q1208.75 1248.47 1206.87 1248.89 Q1205.02 1249.3 1203.08 1250.18 L1203.08 1232.82 Z\" fill=\"#000000\" fill-rule=\"evenodd\" fill-opacity=\"1\" /><path clip-path=\"url(#clip680)\" d=\"M 0 0 M1239.05 1235.9 Q1235.44 1235.9 1233.61 1239.47 Q1231.8 1243.01 1231.8 1250.14 Q1231.8 1257.24 1233.61 1260.81 Q1235.44 1264.35 1239.05 1264.35 Q1242.68 1264.35 1244.49 1260.81 Q1246.32 1257.24 1246.32 1250.14 Q1246.32 1243.01 1244.49 1239.47 Q1242.68 1235.9 1239.05 1235.9 M1239.05 1232.2 Q1244.86 1232.2 1247.91 1236.8 Q1250.99 1241.39 1250.99 1250.14 Q1250.99 1258.86 1247.91 1263.47 Q1244.86 1268.05 1239.05 1268.05 Q1233.24 1268.05 1230.16 1263.47 Q1227.1 1258.86 1227.1 1250.14 Q1227.1 1241.39 1230.16 1236.8 Q1233.24 1232.2 1239.05 1232.2 Z\" fill=\"#000000\" fill-rule=\"evenodd\" fill-opacity=\"1\" /><path clip-path=\"url(#clip680)\" d=\"M 0 0 M1132.91 1042.86 L1162.59 1042.86 L1162.59 1046.8 L1132.91 1046.8 L1132.91 1042.86 Z\" fill=\"#000000\" fill-rule=\"evenodd\" fill-opacity=\"1\" /><path clip-path=\"url(#clip680)\" d=\"M 0 0 M1177.66 1028.21 Q1174.05 1028.21 1172.22 1031.77 Q1170.41 1035.31 1170.41 1042.44 Q1170.41 1049.55 1172.22 1053.11 Q1174.05 1056.66 1177.66 1056.66 Q1181.29 1056.66 1183.1 1053.11 Q1184.93 1049.55 1184.93 1042.44 Q1184.93 1035.31 1183.1 1031.77 Q1181.29 1028.21 1177.66 1028.21 M1177.66 1024.5 Q1183.47 1024.5 1186.52 1029.11 Q1189.6 1033.69 1189.6 1042.44 Q1189.6 1051.17 1186.52 1055.78 Q1183.47 1060.36 1177.66 1060.36 Q1171.85 1060.36 1168.77 1055.78 Q1165.71 1051.17 1165.71 1042.44 Q1165.71 1033.69 1168.77 1029.11 Q1171.85 1024.5 1177.66 1024.5 Z\" fill=\"#000000\" fill-rule=\"evenodd\" fill-opacity=\"1\" /><path clip-path=\"url(#clip680)\" d=\"M 0 0 M1194.67 1053.81 L1199.56 1053.81 L1199.56 1059.69 L1194.67 1059.69 L1194.67 1053.81 Z\" fill=\"#000000\" fill-rule=\"evenodd\" fill-opacity=\"1\" /><path clip-path=\"url(#clip680)\" d=\"M 0 0 M1208.65 1055.75 L1224.97 1055.75 L1224.97 1059.69 L1203.03 1059.69 L1203.03 1055.75 Q1205.69 1053 1210.27 1048.37 Q1214.88 1043.72 1216.06 1042.37 Q1218.31 1039.85 1219.19 1038.11 Q1220.09 1036.36 1220.09 1034.67 Q1220.09 1031.91 1218.15 1030.17 Q1216.22 1028.44 1213.12 1028.44 Q1210.92 1028.44 1208.47 1029.2 Q1206.04 1029.97 1203.26 1031.52 L1203.26 1026.8 Q1206.08 1025.66 1208.54 1025.08 Q1210.99 1024.5 1213.03 1024.5 Q1218.4 1024.5 1221.59 1027.19 Q1224.79 1029.87 1224.79 1034.36 Q1224.79 1036.49 1223.98 1038.42 Q1223.19 1040.31 1221.08 1042.91 Q1220.51 1043.58 1217.4 1046.8 Q1214.3 1049.99 1208.65 1055.75 Z\" fill=\"#000000\" fill-rule=\"evenodd\" fill-opacity=\"1\" /><path clip-path=\"url(#clip680)\" d=\"M 0 0 M1230.09 1025.13 L1248.45 1025.13 L1248.45 1029.06 L1234.37 1029.06 L1234.37 1037.54 Q1235.39 1037.19 1236.41 1037.03 Q1237.43 1036.84 1238.45 1036.84 Q1244.23 1036.84 1247.61 1040.01 Q1250.99 1043.18 1250.99 1048.6 Q1250.99 1054.18 1247.52 1057.28 Q1244.05 1060.36 1237.73 1060.36 Q1235.55 1060.36 1233.28 1059.99 Q1231.04 1059.62 1228.63 1058.88 L1228.63 1054.18 Q1230.71 1055.31 1232.94 1055.87 Q1235.16 1056.42 1237.64 1056.42 Q1241.64 1056.42 1243.98 1054.32 Q1246.32 1052.21 1246.32 1048.6 Q1246.32 1044.99 1243.98 1042.88 Q1241.64 1040.78 1237.64 1040.78 Q1235.76 1040.78 1233.89 1041.19 Q1232.03 1041.61 1230.09 1042.49 L1230.09 1025.13 Z\" fill=\"#000000\" fill-rule=\"evenodd\" fill-opacity=\"1\" /><path clip-path=\"url(#clip680)\" d=\"M 0 0 M1175.07 820.513 Q1171.46 820.513 1169.63 824.077 Q1167.82 827.619 1167.82 834.749 Q1167.82 841.855 1169.63 845.42 Q1171.46 848.962 1175.07 848.962 Q1178.7 848.962 1180.51 845.42 Q1182.34 841.855 1182.34 834.749 Q1182.34 827.619 1180.51 824.077 Q1178.7 820.513 1175.07 820.513 M1175.07 816.809 Q1180.88 816.809 1183.93 821.415 Q1187.01 825.999 1187.01 834.749 Q1187.01 843.475 1183.93 848.082 Q1180.88 852.665 1175.07 852.665 Q1169.26 852.665 1166.18 848.082 Q1163.12 843.475 1163.12 834.749 Q1163.12 825.999 1166.18 821.415 Q1169.26 816.809 1175.07 816.809 Z\" fill=\"#000000\" fill-rule=\"evenodd\" fill-opacity=\"1\" /><path clip-path=\"url(#clip680)\" d=\"M 0 0 M1192.08 846.114 L1196.96 846.114 L1196.96 851.994 L1192.08 851.994 L1192.08 846.114 Z\" fill=\"#000000\" fill-rule=\"evenodd\" fill-opacity=\"1\" /><path clip-path=\"url(#clip680)\" d=\"M 0 0 M1212.03 820.513 Q1208.42 820.513 1206.59 824.077 Q1204.79 827.619 1204.79 834.749 Q1204.79 841.855 1206.59 845.42 Q1208.42 848.962 1212.03 848.962 Q1215.67 848.962 1217.47 845.42 Q1219.3 841.855 1219.3 834.749 Q1219.3 827.619 1217.47 824.077 Q1215.67 820.513 1212.03 820.513 M1212.03 816.809 Q1217.84 816.809 1220.9 821.415 Q1223.98 825.999 1223.98 834.749 Q1223.98 843.475 1220.9 848.082 Q1217.84 852.665 1212.03 852.665 Q1206.22 852.665 1203.15 848.082 Q1200.09 843.475 1200.09 834.749 Q1200.09 825.999 1203.15 821.415 Q1206.22 816.809 1212.03 816.809 Z\" fill=\"#000000\" fill-rule=\"evenodd\" fill-opacity=\"1\" /><path clip-path=\"url(#clip680)\" d=\"M 0 0 M1239.05 820.513 Q1235.44 820.513 1233.61 824.077 Q1231.8 827.619 1231.8 834.749 Q1231.8 841.855 1233.61 845.42 Q1235.44 848.962 1239.05 848.962 Q1242.68 848.962 1244.49 845.42 Q1246.32 841.855 1246.32 834.749 Q1246.32 827.619 1244.49 824.077 Q1242.68 820.513 1239.05 820.513 M1239.05 816.809 Q1244.86 816.809 1247.91 821.415 Q1250.99 825.999 1250.99 834.749 Q1250.99 843.475 1247.91 848.082 Q1244.86 852.665 1239.05 852.665 Q1233.24 852.665 1230.16 848.082 Q1227.1 843.475 1227.1 834.749 Q1227.1 825.999 1230.16 821.415 Q1233.24 816.809 1239.05 816.809 Z\" fill=\"#000000\" fill-rule=\"evenodd\" fill-opacity=\"1\" /><path clip-path=\"url(#clip680)\" d=\"M 0 0 M1177.66 612.818 Q1174.05 612.818 1172.22 616.383 Q1170.41 619.924 1170.41 627.054 Q1170.41 634.16 1172.22 637.725 Q1174.05 641.267 1177.66 641.267 Q1181.29 641.267 1183.1 637.725 Q1184.93 634.16 1184.93 627.054 Q1184.93 619.924 1183.1 616.383 Q1181.29 612.818 1177.66 612.818 M1177.66 609.114 Q1183.47 609.114 1186.52 613.721 Q1189.6 618.304 1189.6 627.054 Q1189.6 635.781 1186.52 640.387 Q1183.47 644.971 1177.66 644.971 Q1171.85 644.971 1168.77 640.387 Q1165.71 635.781 1165.71 627.054 Q1165.71 618.304 1168.77 613.721 Q1171.85 609.114 1177.66 609.114 Z\" fill=\"#000000\" fill-rule=\"evenodd\" fill-opacity=\"1\" /><path clip-path=\"url(#clip680)\" d=\"M 0 0 M1194.67 638.42 L1199.56 638.42 L1199.56 644.299 L1194.67 644.299 L1194.67 638.42 Z\" fill=\"#000000\" fill-rule=\"evenodd\" fill-opacity=\"1\" /><path clip-path=\"url(#clip680)\" d=\"M 0 0 M1208.65 640.364 L1224.97 640.364 L1224.97 644.299 L1203.03 644.299 L1203.03 640.364 Q1205.69 637.609 1210.27 632.98 Q1214.88 628.327 1216.06 626.985 Q1218.31 624.461 1219.19 622.725 Q1220.09 620.966 1220.09 619.276 Q1220.09 616.522 1218.15 614.786 Q1216.22 613.049 1213.12 613.049 Q1210.92 613.049 1208.47 613.813 Q1206.04 614.577 1203.26 616.128 L1203.26 611.406 Q1206.08 610.272 1208.54 609.693 Q1210.99 609.114 1213.03 609.114 Q1218.4 609.114 1221.59 611.799 Q1224.79 614.485 1224.79 618.975 Q1224.79 621.105 1223.98 623.026 Q1223.19 624.924 1221.08 627.517 Q1220.51 628.188 1217.4 631.406 Q1214.3 634.6 1208.65 640.364 Z\" fill=\"#000000\" fill-rule=\"evenodd\" fill-opacity=\"1\" /><path clip-path=\"url(#clip680)\" d=\"M 0 0 M1230.09 609.739 L1248.45 609.739 L1248.45 613.674 L1234.37 613.674 L1234.37 622.147 Q1235.39 621.799 1236.41 621.637 Q1237.43 621.452 1238.45 621.452 Q1244.23 621.452 1247.61 624.623 Q1250.99 627.795 1250.99 633.211 Q1250.99 638.79 1247.52 641.892 Q1244.05 644.971 1237.73 644.971 Q1235.55 644.971 1233.28 644.6 Q1231.04 644.23 1228.63 643.489 L1228.63 638.79 Q1230.71 639.924 1232.94 640.48 Q1235.16 641.035 1237.64 641.035 Q1241.64 641.035 1243.98 638.929 Q1246.32 636.822 1246.32 633.211 Q1246.32 629.6 1243.98 627.494 Q1241.64 625.387 1237.64 625.387 Q1235.76 625.387 1233.89 625.804 Q1232.03 626.221 1230.09 627.1 L1230.09 609.739 Z\" fill=\"#000000\" fill-rule=\"evenodd\" fill-opacity=\"1\" /><path clip-path=\"url(#clip680)\" d=\"M 0 0 M1176.06 405.123 Q1172.45 405.123 1170.62 408.688 Q1168.82 412.23 1168.82 419.359 Q1168.82 426.466 1170.62 430.031 Q1172.45 433.572 1176.06 433.572 Q1179.7 433.572 1181.5 430.031 Q1183.33 426.466 1183.33 419.359 Q1183.33 412.23 1181.5 408.688 Q1179.7 405.123 1176.06 405.123 M1176.06 401.42 Q1181.87 401.42 1184.93 406.026 Q1188.01 410.609 1188.01 419.359 Q1188.01 428.086 1184.93 432.693 Q1181.87 437.276 1176.06 437.276 Q1170.25 437.276 1167.17 432.693 Q1164.12 428.086 1164.12 419.359 Q1164.12 410.609 1167.17 406.026 Q1170.25 401.42 1176.06 401.42 Z\" fill=\"#000000\" fill-rule=\"evenodd\" fill-opacity=\"1\" /><path clip-path=\"url(#clip680)\" d=\"M 0 0 M1193.08 430.725 L1197.96 430.725 L1197.96 436.605 L1193.08 436.605 L1193.08 430.725 Z\" fill=\"#000000\" fill-rule=\"evenodd\" fill-opacity=\"1\" /><path clip-path=\"url(#clip680)\" d=\"M 0 0 M1203.08 402.045 L1221.43 402.045 L1221.43 405.98 L1207.36 405.98 L1207.36 414.452 Q1208.38 414.105 1209.4 413.943 Q1210.41 413.758 1211.43 413.758 Q1217.22 413.758 1220.6 416.929 Q1223.98 420.1 1223.98 425.517 Q1223.98 431.095 1220.51 434.197 Q1217.03 437.276 1210.71 437.276 Q1208.54 437.276 1206.27 436.906 Q1204.02 436.535 1201.62 435.794 L1201.62 431.095 Q1203.7 432.23 1205.92 432.785 Q1208.15 433.341 1210.62 433.341 Q1214.63 433.341 1216.96 431.234 Q1219.3 429.128 1219.3 425.517 Q1219.3 421.906 1216.96 419.799 Q1214.63 417.693 1210.62 417.693 Q1208.75 417.693 1206.87 418.109 Q1205.02 418.526 1203.08 419.406 L1203.08 402.045 Z\" fill=\"#000000\" fill-rule=\"evenodd\" fill-opacity=\"1\" /><path clip-path=\"url(#clip680)\" d=\"M 0 0 M1239.05 405.123 Q1235.44 405.123 1233.61 408.688 Q1231.8 412.23 1231.8 419.359 Q1231.8 426.466 1233.61 430.031 Q1235.44 433.572 1239.05 433.572 Q1242.68 433.572 1244.49 430.031 Q1246.32 426.466 1246.32 419.359 Q1246.32 412.23 1244.49 408.688 Q1242.68 405.123 1239.05 405.123 M1239.05 401.42 Q1244.86 401.42 1247.91 406.026 Q1250.99 410.609 1250.99 419.359 Q1250.99 428.086 1247.91 432.693 Q1244.86 437.276 1239.05 437.276 Q1233.24 437.276 1230.16 432.693 Q1227.1 428.086 1227.1 419.359 Q1227.1 410.609 1230.16 406.026 Q1233.24 401.42 1239.05 401.42 Z\" fill=\"#000000\" fill-rule=\"evenodd\" fill-opacity=\"1\" /><path clip-path=\"url(#clip680)\" d=\"M 0 0 M1176.96 197.429 Q1173.35 197.429 1171.52 200.993 Q1169.72 204.535 1169.72 211.665 Q1169.72 218.771 1171.52 222.336 Q1173.35 225.878 1176.96 225.878 Q1180.6 225.878 1182.4 222.336 Q1184.23 218.771 1184.23 211.665 Q1184.23 204.535 1182.4 200.993 Q1180.6 197.429 1176.96 197.429 M1176.96 193.725 Q1182.77 193.725 1185.83 198.331 Q1188.91 202.915 1188.91 211.665 Q1188.91 220.391 1185.83 224.998 Q1182.77 229.581 1176.96 229.581 Q1171.15 229.581 1168.08 224.998 Q1165.02 220.391 1165.02 211.665 Q1165.02 202.915 1168.08 198.331 Q1171.15 193.725 1176.96 193.725 Z\" fill=\"#000000\" fill-rule=\"evenodd\" fill-opacity=\"1\" /><path clip-path=\"url(#clip680)\" d=\"M 0 0 M1193.98 223.03 L1198.86 223.03 L1198.86 228.91 L1193.98 228.91 L1193.98 223.03 Z\" fill=\"#000000\" fill-rule=\"evenodd\" fill-opacity=\"1\" /><path clip-path=\"url(#clip680)\" d=\"M 0 0 M1202.75 194.35 L1224.97 194.35 L1224.97 196.341 L1212.43 228.91 L1207.54 228.91 L1219.35 198.285 L1202.75 198.285 L1202.75 194.35 Z\" fill=\"#000000\" fill-rule=\"evenodd\" fill-opacity=\"1\" /><path clip-path=\"url(#clip680)\" d=\"M 0 0 M1230.09 194.35 L1248.45 194.35 L1248.45 198.285 L1234.37 198.285 L1234.37 206.757 Q1235.39 206.41 1236.41 206.248 Q1237.43 206.063 1238.45 206.063 Q1244.23 206.063 1247.61 209.234 Q1250.99 212.405 1250.99 217.822 Q1250.99 223.401 1247.52 226.503 Q1244.05 229.581 1237.73 229.581 Q1235.55 229.581 1233.28 229.211 Q1231.04 228.841 1228.63 228.1 L1228.63 223.401 Q1230.71 224.535 1232.94 225.091 Q1235.16 225.646 1237.64 225.646 Q1241.64 225.646 1243.98 223.54 Q1246.32 221.433 1246.32 217.822 Q1246.32 214.211 1243.98 212.104 Q1241.64 209.998 1237.64 209.998 Q1235.76 209.998 1233.89 210.415 Q1232.03 210.831 1230.09 211.711 L1230.09 194.35 Z\" fill=\"#000000\" fill-rule=\"evenodd\" fill-opacity=\"1\" /><path clip-path=\"url(#clip680)\" d=\"M 0 0 M1610.53 6.912 L1630.4 6.912 L1630.4 10.8472 L1615.21 10.8472 L1615.21 21.0323 L1628.91 21.0323 L1628.91 24.9675 L1615.21 24.9675 L1615.21 41.472 L1610.53 41.472 L1610.53 6.912 Z\" fill=\"#000000\" fill-rule=\"evenodd\" fill-opacity=\"1\" /><path clip-path=\"url(#clip680)\" d=\"M 0 0 M1631.83 31.2406 L1631.83 15.5462 L1636.09 15.5462 L1636.09 31.0785 Q1636.09 34.7591 1637.53 36.6109 Q1638.96 38.4396 1641.83 38.4396 Q1645.28 38.4396 1647.27 36.2405 Q1649.28 34.0415 1649.28 30.2452 L1649.28 15.5462 L1653.54 15.5462 L1653.54 41.472 L1649.28 41.472 L1649.28 37.4905 Q1647.73 39.8516 1645.67 41.009 Q1643.64 42.1433 1640.93 42.1433 Q1636.46 42.1433 1634.15 39.3655 Q1631.83 36.5878 1631.83 31.2406 M1642.55 14.9212 L1642.55 14.9212 Z\" fill=\"#000000\" fill-rule=\"evenodd\" fill-opacity=\"1\" /><path clip-path=\"url(#clip680)\" d=\"M 0 0 M1656.16 15.5462 L1676.39 15.5462 L1676.39 19.4351 L1660.37 38.0692 L1676.39 38.0692 L1676.39 41.472 L1655.58 41.472 L1655.58 37.5831 L1671.6 18.949 L1656.16 18.949 L1656.16 15.5462 Z\" fill=\"#000000\" fill-rule=\"evenodd\" fill-opacity=\"1\" /><path clip-path=\"url(#clip680)\" d=\"M 0 0 M1679.01 15.5462 L1699.24 15.5462 L1699.24 19.4351 L1683.22 38.0692 L1699.24 38.0692 L1699.24 41.472 L1678.43 41.472 L1678.43 37.5831 L1694.45 18.949 L1679.01 18.949 L1679.01 15.5462 Z\" fill=\"#000000\" fill-rule=\"evenodd\" fill-opacity=\"1\" /><path clip-path=\"url(#clip680)\" d=\"M 0 0 M1714.49 43.8794 Q1712.69 48.509 1710.97 49.921 Q1709.26 51.3331 1706.39 51.3331 L1702.99 51.3331 L1702.99 47.7683 L1705.49 47.7683 Q1707.25 47.7683 1708.22 46.9349 Q1709.19 46.1016 1710.37 42.9998 L1711.14 41.0553 L1700.65 15.5462 L1705.16 15.5462 L1713.27 35.8239 L1721.37 15.5462 L1725.88 15.5462 L1714.49 43.8794 Z\" fill=\"#000000\" fill-rule=\"evenodd\" fill-opacity=\"1\" /><path clip-path=\"url(#clip680)\" d=\"M 0 0 M1742.09 11.5185 L1735.74 28.7174 L1748.45 28.7174 L1742.09 11.5185 M1739.45 6.912 L1744.75 6.912 L1757.92 41.472 L1753.06 41.472 L1749.91 32.6063 L1734.33 32.6063 L1731.18 41.472 L1726.25 41.472 L1739.45 6.912 Z\" fill=\"#000000\" fill-rule=\"evenodd\" fill-opacity=\"1\" /><path clip-path=\"url(#clip680)\" d=\"M 0 0 M1778.96 25.2684 Q1780.46 25.7776 1781.88 27.4443 Q1783.31 29.111 1784.75 32.0276 L1789.49 41.472 L1784.47 41.472 L1780.05 32.6063 Q1778.33 29.1341 1776.71 27.9998 Q1775.12 26.8656 1772.34 26.8656 L1767.25 26.8656 L1767.25 41.472 L1762.57 41.472 L1762.57 6.912 L1773.13 6.912 Q1779.05 6.912 1781.97 9.38884 Q1784.89 11.8657 1784.89 16.8657 Q1784.89 20.1295 1783.36 22.2823 Q1781.85 24.4351 1778.96 25.2684 M1767.25 10.7546 L1767.25 23.023 L1773.13 23.023 Q1776.51 23.023 1778.22 21.4721 Q1779.96 19.898 1779.96 16.8657 Q1779.96 13.8333 1778.22 12.3055 Q1776.51 10.7546 1773.13 10.7546 L1767.25 10.7546 Z\" fill=\"#000000\" fill-rule=\"evenodd\" fill-opacity=\"1\" /><path clip-path=\"url(#clip680)\" d=\"M 0 0 M1785.9 6.912 L1815.14 6.912 L1815.14 10.8472 L1802.87 10.8472 L1802.87 41.472 L1798.17 41.472 L1798.17 10.8472 L1785.9 10.8472 L1785.9 6.912 Z\" fill=\"#000000\" fill-rule=\"evenodd\" fill-opacity=\"1\" /><path clip-path=\"url(#clip680)\" d=\"M 0 0 M1849.7 19.5277 Q1848.98 19.111 1848.13 18.9258 Q1847.29 18.7175 1846.27 18.7175 Q1842.66 18.7175 1840.72 21.0786 Q1838.8 23.4165 1838.8 27.8147 L1838.8 41.472 L1834.52 41.472 L1834.52 15.5462 L1838.8 15.5462 L1838.8 19.574 Q1840.14 17.2129 1842.29 16.0786 Q1844.45 14.9212 1847.52 14.9212 Q1847.96 14.9212 1848.5 14.9907 Q1849.03 15.037 1849.68 15.1527 L1849.7 19.5277 Z\" fill=\"#000000\" fill-rule=\"evenodd\" fill-opacity=\"1\" /><path clip-path=\"url(#clip680)\" d=\"M 0 0 M1874.89 25.8239 L1874.89 41.472 L1870.63 41.472 L1870.63 25.9628 Q1870.63 22.2823 1869.19 20.4536 Q1867.76 18.6249 1864.89 18.6249 Q1861.44 18.6249 1859.45 20.824 Q1857.45 23.023 1857.45 26.8193 L1857.45 41.472 L1853.17 41.472 L1853.17 5.45367 L1857.45 5.45367 L1857.45 19.574 Q1858.98 17.236 1861.04 16.0786 Q1863.13 14.9212 1865.83 14.9212 Q1870.3 14.9212 1872.59 17.699 Q1874.89 20.4536 1874.89 25.8239 Z\" fill=\"#000000\" fill-rule=\"evenodd\" fill-opacity=\"1\" /><path clip-path=\"url(#clip680)\" d=\"M 0 0 M1889.4 18.5323 Q1885.97 18.5323 1883.98 21.2175 Q1881.99 23.8795 1881.99 28.5323 Q1881.99 33.185 1883.96 35.8702 Q1885.95 38.5322 1889.4 38.5322 Q1892.8 38.5322 1894.79 35.847 Q1896.78 33.1619 1896.78 28.5323 Q1896.78 23.9258 1894.79 21.2406 Q1892.8 18.5323 1889.4 18.5323 M1889.4 14.9212 Q1894.95 14.9212 1898.13 18.5323 Q1901.3 22.1434 1901.3 28.5323 Q1901.3 34.898 1898.13 38.5322 Q1894.95 42.1433 1889.4 42.1433 Q1883.82 42.1433 1880.65 38.5322 Q1877.5 34.898 1877.5 28.5323 Q1877.5 22.1434 1880.65 18.5323 Q1883.82 14.9212 1889.4 14.9212 Z\" fill=\"#000000\" fill-rule=\"evenodd\" fill-opacity=\"1\" /><path clip-path=\"url(#clip680)\" d=\"M 0 0 M1921.39 19.9443 L1951.07 19.9443 L1951.07 23.8332 L1921.39 23.8332 L1921.39 19.9443 M1921.39 29.3887 L1951.07 29.3887 L1951.07 33.3239 L1921.39 33.3239 L1921.39 29.3887 Z\" fill=\"#000000\" fill-rule=\"evenodd\" fill-opacity=\"1\" /><path clip-path=\"url(#clip680)\" d=\"M 0 0 M1981.2 9.99069 Q1977.59 9.99069 1975.76 13.5555 Q1973.96 17.0971 1973.96 24.2267 Q1973.96 31.3332 1975.76 34.898 Q1977.59 38.4396 1981.2 38.4396 Q1984.84 38.4396 1986.64 34.898 Q1988.47 31.3332 1988.47 24.2267 Q1988.47 17.0971 1986.64 13.5555 Q1984.84 9.99069 1981.2 9.99069 M1981.2 6.287 Q1987.01 6.287 1990.07 10.8935 Q1993.15 15.4768 1993.15 24.2267 Q1993.15 32.9535 1990.07 37.56 Q1987.01 42.1433 1981.2 42.1433 Q1975.39 42.1433 1972.32 37.56 Q1969.26 32.9535 1969.26 24.2267 Q1969.26 15.4768 1972.32 10.8935 Q1975.39 6.287 1981.2 6.287 Z\" fill=\"#000000\" fill-rule=\"evenodd\" fill-opacity=\"1\" /><path clip-path=\"url(#clip680)\" d=\"M 0 0 M1998.22 35.5924 L2003.1 35.5924 L2003.1 41.472 L1998.22 41.472 L1998.22 35.5924 Z\" fill=\"#000000\" fill-rule=\"evenodd\" fill-opacity=\"1\" /><path clip-path=\"url(#clip680)\" d=\"M 0 0 M2006.99 6.912 L2029.21 6.912 L2029.21 8.90273 L2016.67 41.472 L2011.78 41.472 L2023.59 10.8472 L2006.99 10.8472 L2006.99 6.912 Z\" fill=\"#000000\" fill-rule=\"evenodd\" fill-opacity=\"1\" /><circle clip-path=\"url(#clip683)\" cx=\"2218.95\" cy=\"104.257\" r=\"14\" fill=\"#009af9\" fill-rule=\"evenodd\" fill-opacity=\"1\" stroke=\"#000000\" stroke-opacity=\"1\" stroke-width=\"3.2\"/>\n",
       "<circle clip-path=\"url(#clip683)\" cx=\"2277.53\" cy=\"998.704\" r=\"14\" fill=\"#009af9\" fill-rule=\"evenodd\" fill-opacity=\"1\" stroke=\"#000000\" stroke-opacity=\"1\" stroke-width=\"3.2\"/>\n",
       "<circle clip-path=\"url(#clip683)\" cx=\"2322.59\" cy=\"1308.92\" r=\"14\" fill=\"#009af9\" fill-rule=\"evenodd\" fill-opacity=\"1\" stroke=\"#000000\" stroke-opacity=\"1\" stroke-width=\"3.2\"/>\n",
       "<circle clip-path=\"url(#clip683)\" cx=\"2277.81\" cy=\"638.601\" r=\"14\" fill=\"#009af9\" fill-rule=\"evenodd\" fill-opacity=\"1\" stroke=\"#000000\" stroke-opacity=\"1\" stroke-width=\"3.2\"/>\n",
       "<circle clip-path=\"url(#clip683)\" cx=\"2277.36\" cy=\"402.316\" r=\"14\" fill=\"#009af9\" fill-rule=\"evenodd\" fill-opacity=\"1\" stroke=\"#000000\" stroke-opacity=\"1\" stroke-width=\"3.2\"/>\n",
       "<circle clip-path=\"url(#clip683)\" cx=\"2270.64\" cy=\"347.644\" r=\"14\" fill=\"#009af9\" fill-rule=\"evenodd\" fill-opacity=\"1\" stroke=\"#000000\" stroke-opacity=\"1\" stroke-width=\"3.2\"/>\n",
       "<circle clip-path=\"url(#clip683)\" cx=\"2286.54\" cy=\"569.582\" r=\"14\" fill=\"#009af9\" fill-rule=\"evenodd\" fill-opacity=\"1\" stroke=\"#000000\" stroke-opacity=\"1\" stroke-width=\"3.2\"/>\n",
       "<circle clip-path=\"url(#clip683)\" cx=\"2285.26\" cy=\"569.455\" r=\"14\" fill=\"#009af9\" fill-rule=\"evenodd\" fill-opacity=\"1\" stroke=\"#000000\" stroke-opacity=\"1\" stroke-width=\"3.2\"/>\n",
       "<circle clip-path=\"url(#clip683)\" cx=\"2265.41\" cy=\"950.239\" r=\"14\" fill=\"#009af9\" fill-rule=\"evenodd\" fill-opacity=\"1\" stroke=\"#000000\" stroke-opacity=\"1\" stroke-width=\"3.2\"/>\n",
       "<circle clip-path=\"url(#clip683)\" cx=\"2234.6\" cy=\"747.048\" r=\"14\" fill=\"#009af9\" fill-rule=\"evenodd\" fill-opacity=\"1\" stroke=\"#000000\" stroke-opacity=\"1\" stroke-width=\"3.2\"/>\n",
       "<circle clip-path=\"url(#clip683)\" cx=\"2282.66\" cy=\"155.063\" r=\"14\" fill=\"#009af9\" fill-rule=\"evenodd\" fill-opacity=\"1\" stroke=\"#000000\" stroke-opacity=\"1\" stroke-width=\"3.2\"/>\n",
       "<circle clip-path=\"url(#clip683)\" cx=\"2296.67\" cy=\"1036.33\" r=\"14\" fill=\"#009af9\" fill-rule=\"evenodd\" fill-opacity=\"1\" stroke=\"#000000\" stroke-opacity=\"1\" stroke-width=\"3.2\"/>\n",
       "<circle clip-path=\"url(#clip683)\" cx=\"2281.25\" cy=\"816.835\" r=\"14\" fill=\"#009af9\" fill-rule=\"evenodd\" fill-opacity=\"1\" stroke=\"#000000\" stroke-opacity=\"1\" stroke-width=\"3.2\"/>\n",
       "<circle clip-path=\"url(#clip683)\" cx=\"2250.69\" cy=\"487.382\" r=\"14\" fill=\"#009af9\" fill-rule=\"evenodd\" fill-opacity=\"1\" stroke=\"#000000\" stroke-opacity=\"1\" stroke-width=\"3.2\"/>\n",
       "<circle clip-path=\"url(#clip683)\" cx=\"2265.2\" cy=\"293.1\" r=\"14\" fill=\"#009af9\" fill-rule=\"evenodd\" fill-opacity=\"1\" stroke=\"#000000\" stroke-opacity=\"1\" stroke-width=\"3.2\"/>\n",
       "<circle clip-path=\"url(#clip683)\" cx=\"1731.12\" cy=\"644.501\" r=\"14\" fill=\"#e26f46\" fill-rule=\"evenodd\" fill-opacity=\"1\" stroke=\"#000000\" stroke-opacity=\"1\" stroke-width=\"3.2\"/>\n",
       "<circle clip-path=\"url(#clip683)\" cx=\"1818.42\" cy=\"1390.94\" r=\"14\" fill=\"#e26f46\" fill-rule=\"evenodd\" fill-opacity=\"1\" stroke=\"#000000\" stroke-opacity=\"1\" stroke-width=\"3.2\"/>\n",
       "<circle clip-path=\"url(#clip683)\" cx=\"1766.64\" cy=\"672.667\" r=\"14\" fill=\"#e26f46\" fill-rule=\"evenodd\" fill-opacity=\"1\" stroke=\"#000000\" stroke-opacity=\"1\" stroke-width=\"3.2\"/>\n",
       "<circle clip-path=\"url(#clip683)\" cx=\"1692.74\" cy=\"1466.95\" r=\"14\" fill=\"#e26f46\" fill-rule=\"evenodd\" fill-opacity=\"1\" stroke=\"#000000\" stroke-opacity=\"1\" stroke-width=\"3.2\"/>\n",
       "<circle clip-path=\"url(#clip683)\" cx=\"1838.27\" cy=\"1010.16\" r=\"14\" fill=\"#e26f46\" fill-rule=\"evenodd\" fill-opacity=\"1\" stroke=\"#000000\" stroke-opacity=\"1\" stroke-width=\"3.2\"/>\n",
       "<circle clip-path=\"url(#clip683)\" cx=\"1834.59\" cy=\"1252.78\" r=\"14\" fill=\"#e26f46\" fill-rule=\"evenodd\" fill-opacity=\"1\" stroke=\"#000000\" stroke-opacity=\"1\" stroke-width=\"3.2\"/>\n",
       "<circle clip-path=\"url(#clip683)\" cx=\"1788.85\" cy=\"1127.13\" r=\"14\" fill=\"#e26f46\" fill-rule=\"evenodd\" fill-opacity=\"1\" stroke=\"#000000\" stroke-opacity=\"1\" stroke-width=\"3.2\"/>\n",
       "<circle clip-path=\"url(#clip683)\" cx=\"1898.67\" cy=\"1418.37\" r=\"14\" fill=\"#e26f46\" fill-rule=\"evenodd\" fill-opacity=\"1\" stroke=\"#000000\" stroke-opacity=\"1\" stroke-width=\"3.2\"/>\n",
       "<circle clip-path=\"url(#clip683)\" cx=\"1916.95\" cy=\"1397.56\" r=\"14\" fill=\"#e26f46\" fill-rule=\"evenodd\" fill-opacity=\"1\" stroke=\"#000000\" stroke-opacity=\"1\" stroke-width=\"3.2\"/>\n",
       "<circle clip-path=\"url(#clip683)\" cx=\"1848.62\" cy=\"1289.89\" r=\"14\" fill=\"#e26f46\" fill-rule=\"evenodd\" fill-opacity=\"1\" stroke=\"#000000\" stroke-opacity=\"1\" stroke-width=\"3.2\"/>\n",
       "<circle clip-path=\"url(#clip683)\" cx=\"1746.3\" cy=\"1284.85\" r=\"14\" fill=\"#e26f46\" fill-rule=\"evenodd\" fill-opacity=\"1\" stroke=\"#000000\" stroke-opacity=\"1\" stroke-width=\"3.2\"/>\n",
       "<circle clip-path=\"url(#clip683)\" cx=\"1843.28\" cy=\"1123.01\" r=\"14\" fill=\"#e26f46\" fill-rule=\"evenodd\" fill-opacity=\"1\" stroke=\"#000000\" stroke-opacity=\"1\" stroke-width=\"3.2\"/>\n",
       "<circle clip-path=\"url(#clip683)\" cx=\"1934.32\" cy=\"1138.02\" r=\"14\" fill=\"#e26f46\" fill-rule=\"evenodd\" fill-opacity=\"1\" stroke=\"#000000\" stroke-opacity=\"1\" stroke-width=\"3.2\"/>\n",
       "<circle clip-path=\"url(#clip683)\" cx=\"1667.81\" cy=\"415.844\" r=\"14\" fill=\"#e26f46\" fill-rule=\"evenodd\" fill-opacity=\"1\" stroke=\"#000000\" stroke-opacity=\"1\" stroke-width=\"3.2\"/>\n",
       "<circle clip-path=\"url(#clip683)\" cx=\"1724.52\" cy=\"772.081\" r=\"14\" fill=\"#e26f46\" fill-rule=\"evenodd\" fill-opacity=\"1\" stroke=\"#000000\" stroke-opacity=\"1\" stroke-width=\"3.2\"/>\n",
       "<circle clip-path=\"url(#clip683)\" cx=\"1853.65\" cy=\"1168.9\" r=\"14\" fill=\"#e26f46\" fill-rule=\"evenodd\" fill-opacity=\"1\" stroke=\"#000000\" stroke-opacity=\"1\" stroke-width=\"3.2\"/>\n",
       "<circle clip-path=\"url(#clip683)\" cx=\"1685.78\" cy=\"1479.74\" r=\"14\" fill=\"#3da44d\" fill-rule=\"evenodd\" fill-opacity=\"1\" stroke=\"#000000\" stroke-opacity=\"1\" stroke-width=\"3.2\"/>\n",
       "<circle clip-path=\"url(#clip683)\" cx=\"1568.69\" cy=\"1009.89\" r=\"14\" fill=\"#3da44d\" fill-rule=\"evenodd\" fill-opacity=\"1\" stroke=\"#000000\" stroke-opacity=\"1\" stroke-width=\"3.2\"/>\n",
       "<circle clip-path=\"url(#clip683)\" cx=\"1460.65\" cy=\"525.047\" r=\"14\" fill=\"#3da44d\" fill-rule=\"evenodd\" fill-opacity=\"1\" stroke=\"#000000\" stroke-opacity=\"1\" stroke-width=\"3.2\"/>\n",
       "<circle clip-path=\"url(#clip683)\" cx=\"1598.84\" cy=\"494.7\" r=\"14\" fill=\"#3da44d\" fill-rule=\"evenodd\" fill-opacity=\"1\" stroke=\"#000000\" stroke-opacity=\"1\" stroke-width=\"3.2\"/>\n",
       "<circle clip-path=\"url(#clip683)\" cx=\"1507.17\" cy=\"844.552\" r=\"14\" fill=\"#3da44d\" fill-rule=\"evenodd\" fill-opacity=\"1\" stroke=\"#000000\" stroke-opacity=\"1\" stroke-width=\"3.2\"/>\n",
       "<circle clip-path=\"url(#clip683)\" cx=\"1425.21\" cy=\"264.995\" r=\"14\" fill=\"#3da44d\" fill-rule=\"evenodd\" fill-opacity=\"1\" stroke=\"#000000\" stroke-opacity=\"1\" stroke-width=\"3.2\"/>\n",
       "<circle clip-path=\"url(#clip683)\" cx=\"1601.98\" cy=\"738.446\" r=\"14\" fill=\"#3da44d\" fill-rule=\"evenodd\" fill-opacity=\"1\" stroke=\"#000000\" stroke-opacity=\"1\" stroke-width=\"3.2\"/>\n",
       "<circle clip-path=\"url(#clip683)\" cx=\"1377.01\" cy=\"380.138\" r=\"14\" fill=\"#3da44d\" fill-rule=\"evenodd\" fill-opacity=\"1\" stroke=\"#000000\" stroke-opacity=\"1\" stroke-width=\"3.2\"/>\n",
       "<circle clip-path=\"url(#clip683)\" cx=\"1594.81\" cy=\"800.876\" r=\"14\" fill=\"#3da44d\" fill-rule=\"evenodd\" fill-opacity=\"1\" stroke=\"#000000\" stroke-opacity=\"1\" stroke-width=\"3.2\"/>\n",
       "<circle clip-path=\"url(#clip683)\" cx=\"1539.08\" cy=\"1038.71\" r=\"14\" fill=\"#3da44d\" fill-rule=\"evenodd\" fill-opacity=\"1\" stroke=\"#000000\" stroke-opacity=\"1\" stroke-width=\"3.2\"/>\n",
       "<circle clip-path=\"url(#clip683)\" cx=\"1707.83\" cy=\"1337.82\" r=\"14\" fill=\"#3da44d\" fill-rule=\"evenodd\" fill-opacity=\"1\" stroke=\"#000000\" stroke-opacity=\"1\" stroke-width=\"3.2\"/>\n",
       "<circle clip-path=\"url(#clip683)\" cx=\"1317.16\" cy=\"624.306\" r=\"14\" fill=\"#3da44d\" fill-rule=\"evenodd\" fill-opacity=\"1\" stroke=\"#000000\" stroke-opacity=\"1\" stroke-width=\"3.2\"/>\n",
       "<circle clip-path=\"url(#clip683)\" cx=\"1601.51\" cy=\"736.002\" r=\"14\" fill=\"#3da44d\" fill-rule=\"evenodd\" fill-opacity=\"1\" stroke=\"#000000\" stroke-opacity=\"1\" stroke-width=\"3.2\"/>\n",
       "<circle clip-path=\"url(#clip683)\" cx=\"1698.87\" cy=\"983.537\" r=\"14\" fill=\"#3da44d\" fill-rule=\"evenodd\" fill-opacity=\"1\" stroke=\"#000000\" stroke-opacity=\"1\" stroke-width=\"3.2\"/>\n",
       "</svg>\n"
      ]
     },
     "metadata": {},
     "execution_count": 19
    }
   ],
   "cell_type": "code",
   "source": [
    "p1 = scatter(X_test_pca[1,:], X_test_pca[2,:], group=y_hat_1, title=@sprintf \"FuzzyART rho = %.1f\" rho_1)\n",
    "p2 = scatter(X_test_pca[1,:], X_test_pca[2,:], group=y_hat_2, title=@sprintf \"FuzzyART rho = %.1f\" rho_2)\n",
    "plot(p1, p2, layout=(1, 2), legend = false, xtickfontsize=6, xguidefontsize=8, titlefont=font(8))"
   ],
   "metadata": {},
   "execution_count": 19
  },
  {
   "cell_type": "markdown",
   "source": [
    "---\n",
    "\n",
    "*This notebook was generated using [Literate.jl](https://github.com/fredrikekre/Literate.jl).*"
   ],
   "metadata": {}
  }
 ],
 "nbformat_minor": 3,
 "metadata": {
  "language_info": {
   "file_extension": ".jl",
   "mimetype": "application/julia",
   "name": "julia",
   "version": "1.4.2"
  },
  "kernelspec": {
   "name": "julia-1.4",
   "display_name": "Julia 1.4.2",
   "language": "julia"
  }
 },
 "nbformat": 4
}
