{
 "cells": [
  {
   "cell_type": "markdown",
   "source": [
    "## Overview"
   ],
   "metadata": {}
  },
  {
   "cell_type": "markdown",
   "source": [
    "The `AdaptiveResonance.jl` package has several ways of handling options for ART modules.\n",
    "These methods are meant to give maximum flexibility to the user for sharing and interpreting options, which themselves vary between each module."
   ],
   "metadata": {}
  },
  {
   "cell_type": "markdown",
   "source": [
    "!!! note\n",
    "    For more info on options in ART modules, see the guide in the docs on ART options."
   ],
   "metadata": {}
  },
  {
   "cell_type": "markdown",
   "source": [
    "## ART Options"
   ],
   "metadata": {}
  },
  {
   "cell_type": "markdown",
   "source": [
    "To get a feel for the ART options system, we will inspect different options and their instantiation methods."
   ],
   "metadata": {}
  },
  {
   "cell_type": "markdown",
   "source": [
    "### Inspection"
   ],
   "metadata": {}
  },
  {
   "cell_type": "markdown",
   "source": [
    "First, we load `AdaptiveResonance`:"
   ],
   "metadata": {}
  },
  {
   "outputs": [],
   "cell_type": "code",
   "source": [
    "using AdaptiveResonance"
   ],
   "metadata": {},
   "execution_count": 1
  },
  {
   "cell_type": "markdown",
   "source": [
    "Every ART module has a default constructor, which can be instantiated in the usual way:"
   ],
   "metadata": {}
  },
  {
   "outputs": [
    {
     "output_type": "execute_result",
     "data": {
      "text/plain": "FuzzyART"
     },
     "metadata": {},
     "execution_count": 2
    }
   ],
   "cell_type": "code",
   "source": [
    "# Create a FuzzyART module with default options\n",
    "my_fuzzyart = FuzzyART()\n",
    "typeof(my_fuzzyart)"
   ],
   "metadata": {},
   "execution_count": 2
  },
  {
   "cell_type": "markdown",
   "source": [
    "Within every ART module is a [Parameters.jl](https://github.com/mauro3/Parameters.jl) struct named `opts` containing the options for the module"
   ],
   "metadata": {}
  },
  {
   "outputs": [
    {
     "output_type": "execute_result",
     "data": {
      "text/plain": "opts_FuzzyART\n  rho: Float64 0.6\n  alpha: Float64 0.001\n  beta: Float64 1.0\n  gamma: Float64 3.0\n  gamma_ref: Float64 1.0\n  display: Bool true\n  max_epochs: Int64 1\n  gamma_normalization: Bool false\n"
     },
     "metadata": {},
     "execution_count": 3
    }
   ],
   "cell_type": "code",
   "source": [
    "# Check the FuzzyART options\n",
    "my_fuzzyart.opts"
   ],
   "metadata": {},
   "execution_count": 3
  },
  {
   "cell_type": "markdown",
   "source": [
    "Note that the options here have the type `opts_FuzzyART`.\n",
    "This nomenclature is used throughout the module to indicate an options type associated with an ART module.\n",
    "For example, the options for a DDVFA module are `opts_DDVFA`:"
   ],
   "metadata": {}
  },
  {
   "outputs": [
    {
     "output_type": "execute_result",
     "data": {
      "text/plain": "opts_DDVFA"
     },
     "metadata": {},
     "execution_count": 4
    }
   ],
   "cell_type": "code",
   "source": [
    "# Create a DDVFA module and check the type of the options\n",
    "my_ddvfa = DDVFA()\n",
    "typeof(my_ddvfa.opts)"
   ],
   "metadata": {},
   "execution_count": 4
  },
  {
   "cell_type": "markdown",
   "source": [
    "In fact, we can create an instance of these options with a default constructor:"
   ],
   "metadata": {}
  },
  {
   "outputs": [
    {
     "output_type": "execute_result",
     "data": {
      "text/plain": "opts_FuzzyART\n  rho: Float64 0.6\n  alpha: Float64 0.001\n  beta: Float64 1.0\n  gamma: Float64 3.0\n  gamma_ref: Float64 1.0\n  display: Bool true\n  max_epochs: Int64 1\n  gamma_normalization: Bool false\n"
     },
     "metadata": {},
     "execution_count": 5
    }
   ],
   "cell_type": "code",
   "source": [
    "# Create a separate options struct\n",
    "my_fuzzyart_opts = opts_FuzzyART()"
   ],
   "metadata": {},
   "execution_count": 5
  },
  {
   "cell_type": "markdown",
   "source": [
    "In addition to the default constructor, we can construct ART modules by instantiating these options and passing them to the module during construction:"
   ],
   "metadata": {}
  },
  {
   "outputs": [
    {
     "output_type": "execute_result",
     "data": {
      "text/plain": "FuzzyART(opts_FuzzyART\n  rho: Float64 0.6\n  alpha: Float64 0.001\n  beta: Float64 1.0\n  gamma: Float64 3.0\n  gamma_ref: Float64 1.0\n  display: Bool true\n  max_epochs: Int64 1\n  gamma_normalization: Bool false\n, DataConfig(false, Float64[], Float64[], 0, 0), 0.0, Int64[], Float64[], Float64[], Array{Float64}(undef,0,0), Int64[], 0, 0)"
     },
     "metadata": {},
     "execution_count": 6
    }
   ],
   "cell_type": "code",
   "source": [
    "# Instantiate an ART module by passing our options\n",
    "my_fuzzyart = FuzzyART(my_fuzzyart_opts)\n",
    "my_other_fuzzyart = FuzzyART(my_fuzzyart_opts)"
   ],
   "metadata": {},
   "execution_count": 6
  },
  {
   "cell_type": "markdown",
   "source": [
    "### Specifying Options"
   ],
   "metadata": {}
  },
  {
   "cell_type": "markdown",
   "source": [
    "Now to the good stuff: because of the behavior of the `Parameters.jl` type, each option has a default value that we can modify during instantiation with keyword arguments:"
   ],
   "metadata": {}
  },
  {
   "outputs": [
    {
     "output_type": "execute_result",
     "data": {
      "text/plain": "FuzzyART(opts_FuzzyART\n  rho: Float64 0.6\n  alpha: Float64 0.001\n  beta: Float64 1.0\n  gamma: Float64 3.0\n  gamma_ref: Float64 1.0\n  display: Bool true\n  max_epochs: Int64 1\n  gamma_normalization: Bool true\n, DataConfig(false, Float64[], Float64[], 0, 0), 0.0, Int64[], Float64[], Float64[], Array{Float64}(undef,0,0), Int64[], 0, 0)"
     },
     "metadata": {},
     "execution_count": 7
    }
   ],
   "cell_type": "code",
   "source": [
    "# Change some of the default FuzzyART options\n",
    "my_fuzzyart_opts = opts_FuzzyART(\n",
    "    rho=0.6,\n",
    "    gamma_normalization=true\n",
    ")\n",
    "my_fuzzyart = FuzzyART(my_fuzzyart_opts)"
   ],
   "metadata": {},
   "execution_count": 7
  },
  {
   "cell_type": "markdown",
   "source": [
    "As some syntactic sugar, we can pass these keyword arguments directly to the module during instantiation if we have no need to share option structs:"
   ],
   "metadata": {}
  },
  {
   "outputs": [
    {
     "output_type": "execute_result",
     "data": {
      "text/plain": "FuzzyART(opts_FuzzyART\n  rho: Float64 0.6\n  alpha: Float64 0.001\n  beta: Float64 1.0\n  gamma: Float64 3.0\n  gamma_ref: Float64 1.0\n  display: Bool true\n  max_epochs: Int64 1\n  gamma_normalization: Bool true\n, DataConfig(false, Float64[], Float64[], 0, 0), 0.0, Int64[], Float64[], Float64[], Array{Float64}(undef,0,0), Int64[], 0, 0)"
     },
     "metadata": {},
     "execution_count": 8
    }
   ],
   "cell_type": "code",
   "source": [
    "# Pass these keyword arguments to the module directly\n",
    "my_fuzzyart = FuzzyART(\n",
    "    rho=0.6,\n",
    "    gamma_normalization=true\n",
    ")"
   ],
   "metadata": {},
   "execution_count": 8
  },
  {
   "cell_type": "markdown",
   "source": [
    "Before training, we can also instantiate the model and alter the options afterward:"
   ],
   "metadata": {}
  },
  {
   "outputs": [
    {
     "output_type": "execute_result",
     "data": {
      "text/plain": "0.6"
     },
     "metadata": {},
     "execution_count": 9
    }
   ],
   "cell_type": "code",
   "source": [
    "my_fuzzyart = FuzzyART()\n",
    "my_fuzzyart.opts.rho=0.6"
   ],
   "metadata": {},
   "execution_count": 9
  },
  {
   "cell_type": "markdown",
   "source": [
    "!!! note\n",
    "    All ART modules are designed to use this options struct internally when the parameters are needed.\n",
    "    It is possible to change these parameters in the middle of training and evaluation, but some algorithmic instability may occur."
   ],
   "metadata": {}
  },
  {
   "cell_type": "markdown",
   "source": [
    "## Comparison"
   ],
   "metadata": {}
  },
  {
   "cell_type": "markdown",
   "source": [
    "To see the effect that changing these parameters has on the modules, we can train and test them side-by-side."
   ],
   "metadata": {}
  },
  {
   "cell_type": "markdown",
   "source": [
    "We begin with importing AdaptiveResonance for the ART modules and MLDatasets for some data utilities."
   ],
   "metadata": {}
  },
  {
   "outputs": [],
   "cell_type": "code",
   "source": [
    "using MLDatasets        # Iris dataset\n",
    "using MLDataUtils       # Shuffling and splitting\n",
    "using Printf            # Formatted number printing\n",
    "using MultivariateStats # Principal component analysis (PCA)\n",
    "using Plots             # Plotting"
   ],
   "metadata": {},
   "execution_count": 10
  },
  {
   "cell_type": "markdown",
   "source": [
    "We will download the Iris dataset for its small size and benchmark use for clustering algorithms."
   ],
   "metadata": {}
  },
  {
   "outputs": [
    {
     "output_type": "execute_result",
     "data": {
      "text/plain": "([5.1 4.9 … 6.2 5.9; 3.5 3.0 … 3.4 3.0; 1.4 1.4 … 5.4 5.1; 0.2 0.2 … 2.3 1.8], [\"Iris-setosa\", \"Iris-setosa\", \"Iris-setosa\", \"Iris-setosa\", \"Iris-setosa\", \"Iris-setosa\", \"Iris-setosa\", \"Iris-setosa\", \"Iris-setosa\", \"Iris-setosa\"  …  \"Iris-virginica\", \"Iris-virginica\", \"Iris-virginica\", \"Iris-virginica\", \"Iris-virginica\", \"Iris-virginica\", \"Iris-virginica\", \"Iris-virginica\", \"Iris-virginica\", \"Iris-virginica\"])"
     },
     "metadata": {},
     "execution_count": 11
    }
   ],
   "cell_type": "code",
   "source": [
    "Iris.download(i_accept_the_terms_of_use=true)\n",
    "features, labels = Iris.features(), Iris.labels()"
   ],
   "metadata": {},
   "execution_count": 11
  },
  {
   "cell_type": "markdown",
   "source": [
    "Because the MLDatasets package gives us Iris labels as strings, we will use the `MLDataUtils.convertlabel` method with the `MLLabelUtils.LabelEnc.Indices` type to get a list of integers representing each class:"
   ],
   "metadata": {}
  },
  {
   "outputs": [
    {
     "output_type": "execute_result",
     "data": {
      "text/plain": "3-element Array{Int64,1}:\n 1\n 2\n 3"
     },
     "metadata": {},
     "execution_count": 12
    }
   ],
   "cell_type": "code",
   "source": [
    "labels = convertlabel(LabelEnc.Indices{Int}, labels)\n",
    "unique(labels)"
   ],
   "metadata": {},
   "execution_count": 12
  },
  {
   "cell_type": "markdown",
   "source": [
    "Next, we will create a train/test split with the `MLDataUtils.stratifiedobs` utility:"
   ],
   "metadata": {}
  },
  {
   "outputs": [
    {
     "output_type": "execute_result",
     "data": {
      "text/plain": "(([6.6 4.8 … 6.3 6.1; 3.0 3.0 … 2.7 3.0; 4.4 1.4 … 4.9 4.9; 1.4 0.3 … 1.8 1.8], [2, 1, 1, 2, 2, 1, 3, 1, 3, 1  …  1, 2, 1, 2, 3, 3, 1, 2, 3, 3]), ([5.4 6.9 … 6.4 4.9; 3.7 3.1 … 3.1 2.4; 1.5 4.9 … 5.5 3.3; 0.2 1.5 … 1.8 1.0], [1, 2, 2, 2, 2, 1, 1, 1, 1, 3  …  2, 1, 3, 1, 3, 2, 2, 3, 3, 2]))"
     },
     "metadata": {},
     "execution_count": 13
    }
   ],
   "cell_type": "code",
   "source": [
    "(X_train, y_train), (X_test, y_test) = stratifiedobs((features, labels))"
   ],
   "metadata": {},
   "execution_count": 13
  },
  {
   "cell_type": "markdown",
   "source": [
    "Now we can create several FuzzyART modules with different options."
   ],
   "metadata": {}
  },
  {
   "outputs": [
    {
     "output_type": "execute_result",
     "data": {
      "text/plain": "FuzzyART(opts_FuzzyART\n  rho: Float64 0.7\n  alpha: Float64 0.001\n  beta: Float64 1.0\n  gamma: Float64 3.0\n  gamma_ref: Float64 1.0\n  display: Bool false\n  max_epochs: Int64 1\n  gamma_normalization: Bool false\n, DataConfig(false, Float64[], Float64[], 0, 0), 0.0, Int64[], Float64[], Float64[], Array{Float64}(undef,0,0), Int64[], 0, 0)"
     },
     "metadata": {},
     "execution_count": 14
    }
   ],
   "cell_type": "code",
   "source": [
    "# Create two FuzzyARTs with different vigilance values and suppressing logging messages\n",
    "rho_1 = 0.5\n",
    "rho_2 = 0.7\n",
    "my_fuzzyart_1 = FuzzyART(rho=rho_1, display=false)\n",
    "my_fuzzyart_2 = FuzzyART(rho=rho_2, display=false)"
   ],
   "metadata": {},
   "execution_count": 14
  },
  {
   "cell_type": "markdown",
   "source": [
    "Here, we will train these FuzzyART modules in simple supervised mode by passing the supervised labels as a keyword argument:"
   ],
   "metadata": {}
  },
  {
   "outputs": [],
   "cell_type": "code",
   "source": [
    "# Train in simple supervised mode by passing the labels as a keyword argument.\n",
    "y_hat_train_1 = train!(my_fuzzyart_1, X_train, y=y_train)\n",
    "y_hat_train_2 = train!(my_fuzzyart_2, X_train, y=y_train)"
   ],
   "metadata": {},
   "execution_count": 15
  },
  {
   "cell_type": "markdown",
   "source": [
    "We then classify the test data with both modules:"
   ],
   "metadata": {}
  },
  {
   "outputs": [
    {
     "name": "stdout",
     "output_type": "stream",
     "text": [
      "FuzzyART 1 labels: (45,) Array{Int64,1}\n",
      "FuzzyART 2 labels: (45,) Array{Int64,1}\n",
      "Testing performance rho=0.5: 0.9556\n",
      "Testing performance rho=0.7: 0.9778\n"
     ]
    }
   ],
   "cell_type": "code",
   "source": [
    "y_hat_1 = AdaptiveResonance.classify(my_fuzzyart_1, X_test, get_bmu=true)\n",
    "y_hat_2 = AdaptiveResonance.classify(my_fuzzyart_2, X_test, get_bmu=true)\n",
    "\n",
    "# Check the shape and type of the output labels\n",
    "println(\"FuzzyART 1 labels: \",  size(y_hat_1), \" \", typeof(y_hat_1))\n",
    "println(\"FuzzyART 2 labels: \",  size(y_hat_2), \" \", typeof(y_hat_2))\n",
    "\n",
    "# Calculate the performance on the test data\n",
    "perf_test_1 = performance(y_hat_1, y_test)\n",
    "perf_test_2 = performance(y_hat_2, y_test)\n",
    "\n",
    "# Format each performance number for comparison\n",
    "@printf \"Testing performance rho=%.1f: %.4f\\n\" rho_1 perf_test_1\n",
    "@printf \"Testing performance rho=%.1f: %.4f\\n\" rho_2 perf_test_2"
   ],
   "metadata": {},
   "execution_count": 16
  },
  {
   "cell_type": "markdown",
   "source": [
    "In addition to having different performances, we can see that there is a subsequent trade-off in the number of categories used:"
   ],
   "metadata": {}
  },
  {
   "outputs": [
    {
     "name": "stdout",
     "output_type": "stream",
     "text": [
      "Number of categories rho=0.5: 7\n",
      "Number of categories rho=0.7: 13\n"
     ]
    }
   ],
   "cell_type": "code",
   "source": [
    "# Print the number of categories for each vigilance parameter\n",
    "@printf \"Number of categories rho=%.1f: %i\\n\" rho_1 my_fuzzyart_1.n_categories\n",
    "@printf \"Number of categories rho=%.1f: %i\\n\" rho_2 my_fuzzyart_2.n_categories"
   ],
   "metadata": {},
   "execution_count": 17
  },
  {
   "cell_type": "markdown",
   "source": [
    "The variation between vigilance parameter, number of categories created during learning, and testing performance/generalization is a central theme in ART-based algorithms."
   ],
   "metadata": {}
  },
  {
   "cell_type": "markdown",
   "source": [
    "## Visualization"
   ],
   "metadata": {}
  },
  {
   "cell_type": "markdown",
   "source": [
    "Now, to visualize how the two models differ in how they partition the data, we can use principal component analysis (PCA) to compress to two plotting dimensions.\n",
    "PCA is a method to represent a dataset in a different number of dimensions while preserving the relative separation between datapoints.\n",
    "Though most datasets are not able to be effectively transformed down to two dimensions, this technique is useful to get a general sense of how well separated the classes are and how well your algorithm classifies them."
   ],
   "metadata": {}
  },
  {
   "outputs": [
    {
     "output_type": "execute_result",
     "data": {
      "text/plain": "2×45 Array{Float64,2}:\n 2.50653   -1.46406  -0.180967  …  -3.39688   -1.90486     0.751467\n 0.651935   0.50419  -0.825604      0.547168   0.0480475  -1.00111"
     },
     "metadata": {},
     "execution_count": 18
    }
   ],
   "cell_type": "code",
   "source": [
    "# Train a PCA model to visually separate the features in two dimensions.\n",
    "M = fit(PCA, features; maxoutdim=2)\n",
    "\n",
    "# Apply the PCA model to the testing set\n",
    "X_test_pca = transform(M, X_test)"
   ],
   "metadata": {},
   "execution_count": 18
  },
  {
   "cell_type": "markdown",
   "source": [
    "We can now plot the PCA'ed test set and label them according to the two FuzzyART's"
   ],
   "metadata": {}
  },
  {
   "outputs": [
    {
     "output_type": "execute_result",
     "data": {
      "text/plain": "Plot{Plots.GRBackend() n=6}",
      "image/png": "[encoded data removed]",
      "text/html": [
       "<?xml version=\"1.0\" encoding=\"utf-8\"?>\n",
       "<svg xmlns=\"http://www.w3.org/2000/svg\" xmlns:xlink=\"http://www.w3.org/1999/xlink\" width=\"600\" height=\"400\" viewBox=\"0 0 2400 1600\">\n",
       "<defs>\n",
       "  <clipPath id=\"clip220\">\n",
       "    <rect x=\"0\" y=\"0\" width=\"2400\" height=\"1600\"/>\n",
       "  </clipPath>\n",
       "</defs>\n",
       "<path clip-path=\"url(#clip220)\" d=\"\n",
       "M0 1600 L2400 1600 L2400 0 L0 0  Z\n",
       "  \" fill=\"#ffffff\" fill-rule=\"evenodd\" fill-opacity=\"1\"/>\n",
       "<defs>\n",
       "  <clipPath id=\"clip221\">\n",
       "    <rect x=\"480\" y=\"0\" width=\"1681\" height=\"1600\"/>\n",
       "  </clipPath>\n",
       "</defs>\n",
       "<path clip-path=\"url(#clip220)\" d=\"\n",
       "M86.9921 1521.01 L1152.76 1521.01 L1152.76 62.9921 L86.9921 62.9921  Z\n",
       "  \" fill=\"#ffffff\" fill-rule=\"evenodd\" fill-opacity=\"1\"/>\n",
       "<defs>\n",
       "  <clipPath id=\"clip222\">\n",
       "    <rect x=\"86\" y=\"62\" width=\"1067\" height=\"1459\"/>\n",
       "  </clipPath>\n",
       "</defs>\n",
       "<polyline clip-path=\"url(#clip222)\" style=\"stroke:#000000; stroke-width:2; stroke-opacity:0.1; fill:none\" points=\"\n",
       "  177.414,1521.01 177.414,62.9921 \n",
       "  \"/>\n",
       "<polyline clip-path=\"url(#clip222)\" style=\"stroke:#000000; stroke-width:2; stroke-opacity:0.1; fill:none\" points=\"\n",
       "  329.245,1521.01 329.245,62.9921 \n",
       "  \"/>\n",
       "<polyline clip-path=\"url(#clip222)\" style=\"stroke:#000000; stroke-width:2; stroke-opacity:0.1; fill:none\" points=\"\n",
       "  481.076,1521.01 481.076,62.9921 \n",
       "  \"/>\n",
       "<polyline clip-path=\"url(#clip222)\" style=\"stroke:#000000; stroke-width:2; stroke-opacity:0.1; fill:none\" points=\"\n",
       "  632.907,1521.01 632.907,62.9921 \n",
       "  \"/>\n",
       "<polyline clip-path=\"url(#clip222)\" style=\"stroke:#000000; stroke-width:2; stroke-opacity:0.1; fill:none\" points=\"\n",
       "  784.738,1521.01 784.738,62.9921 \n",
       "  \"/>\n",
       "<polyline clip-path=\"url(#clip222)\" style=\"stroke:#000000; stroke-width:2; stroke-opacity:0.1; fill:none\" points=\"\n",
       "  936.569,1521.01 936.569,62.9921 \n",
       "  \"/>\n",
       "<polyline clip-path=\"url(#clip222)\" style=\"stroke:#000000; stroke-width:2; stroke-opacity:0.1; fill:none\" points=\"\n",
       "  1088.4,1521.01 1088.4,62.9921 \n",
       "  \"/>\n",
       "<polyline clip-path=\"url(#clip220)\" style=\"stroke:#000000; stroke-width:4; stroke-opacity:1; fill:none\" points=\"\n",
       "  86.9921,1521.01 1152.76,1521.01 \n",
       "  \"/>\n",
       "<polyline clip-path=\"url(#clip220)\" style=\"stroke:#000000; stroke-width:4; stroke-opacity:1; fill:none\" points=\"\n",
       "  177.414,1521.01 177.414,1503.51 \n",
       "  \"/>\n",
       "<polyline clip-path=\"url(#clip220)\" style=\"stroke:#000000; stroke-width:4; stroke-opacity:1; fill:none\" points=\"\n",
       "  329.245,1521.01 329.245,1503.51 \n",
       "  \"/>\n",
       "<polyline clip-path=\"url(#clip220)\" style=\"stroke:#000000; stroke-width:4; stroke-opacity:1; fill:none\" points=\"\n",
       "  481.076,1521.01 481.076,1503.51 \n",
       "  \"/>\n",
       "<polyline clip-path=\"url(#clip220)\" style=\"stroke:#000000; stroke-width:4; stroke-opacity:1; fill:none\" points=\"\n",
       "  632.907,1521.01 632.907,1503.51 \n",
       "  \"/>\n",
       "<polyline clip-path=\"url(#clip220)\" style=\"stroke:#000000; stroke-width:4; stroke-opacity:1; fill:none\" points=\"\n",
       "  784.738,1521.01 784.738,1503.51 \n",
       "  \"/>\n",
       "<polyline clip-path=\"url(#clip220)\" style=\"stroke:#000000; stroke-width:4; stroke-opacity:1; fill:none\" points=\"\n",
       "  936.569,1521.01 936.569,1503.51 \n",
       "  \"/>\n",
       "<polyline clip-path=\"url(#clip220)\" style=\"stroke:#000000; stroke-width:4; stroke-opacity:1; fill:none\" points=\"\n",
       "  1088.4,1521.01 1088.4,1503.51 \n",
       "  \"/>\n",
       "<path clip-path=\"url(#clip220)\" d=\"M 0 0 M156.398 1558.69 L178.655 1558.69 L178.655 1561.64 L156.398 1561.64 L156.398 1558.69 Z\" fill=\"#000000\" fill-rule=\"evenodd\" fill-opacity=\"1\" /><path clip-path=\"url(#clip220)\" d=\"M 0 0 M193.082 1557.34 Q195.6 1557.87 197.006 1559.58 Q198.429 1561.28 198.429 1563.78 Q198.429 1567.61 195.791 1569.71 Q193.152 1571.82 188.291 1571.82 Q186.659 1571.82 184.923 1571.49 Q183.204 1571.17 181.364 1570.53 L181.364 1567.15 Q182.822 1568 184.558 1568.43 Q186.294 1568.86 188.186 1568.86 Q191.485 1568.86 193.204 1567.56 Q194.94 1566.26 194.94 1563.78 Q194.94 1561.49 193.325 1560.2 Q191.728 1558.9 188.864 1558.9 L185.843 1558.9 L185.843 1556.02 L189.002 1556.02 Q191.589 1556.02 192.961 1554.99 Q194.332 1553.95 194.332 1552.01 Q194.332 1550.01 192.909 1548.95 Q191.502 1547.87 188.864 1547.87 Q187.423 1547.87 185.773 1548.19 Q184.124 1548.5 182.145 1549.16 L182.145 1546.03 Q184.141 1545.48 185.877 1545.2 Q187.631 1544.92 189.176 1544.92 Q193.169 1544.92 195.495 1546.75 Q197.822 1548.55 197.822 1551.64 Q197.822 1553.79 196.589 1555.29 Q195.357 1556.76 193.082 1557.34 Z\" fill=\"#000000\" fill-rule=\"evenodd\" fill-opacity=\"1\" /><path clip-path=\"url(#clip220)\" d=\"M 0 0 M308.585 1558.69 L330.842 1558.69 L330.842 1561.64 L308.585 1561.64 L308.585 1558.69 Z\" fill=\"#000000\" fill-rule=\"evenodd\" fill-opacity=\"1\" /><path clip-path=\"url(#clip220)\" d=\"M 0 0 M337.665 1568.36 L349.905 1568.36 L349.905 1571.31 L333.446 1571.31 L333.446 1568.36 Q335.443 1566.29 338.88 1562.82 Q342.335 1559.33 343.221 1558.33 Q344.905 1556.43 345.564 1555.13 Q346.241 1553.81 346.241 1552.54 Q346.241 1550.48 344.783 1549.18 Q343.342 1547.87 341.016 1547.87 Q339.366 1547.87 337.526 1548.45 Q335.703 1549.02 333.62 1550.18 L333.62 1546.64 Q335.738 1545.79 337.578 1545.36 Q339.419 1544.92 340.946 1544.92 Q344.974 1544.92 347.37 1546.94 Q349.766 1548.95 349.766 1552.32 Q349.766 1553.92 349.158 1555.36 Q348.568 1556.78 346.988 1558.73 Q346.554 1559.23 344.228 1561.64 Q341.901 1564.04 337.665 1568.36 Z\" fill=\"#000000\" fill-rule=\"evenodd\" fill-opacity=\"1\" /><path clip-path=\"url(#clip220)\" d=\"M 0 0 M460.278 1558.69 L482.534 1558.69 L482.534 1561.64 L460.278 1561.64 L460.278 1558.69 Z\" fill=\"#000000\" fill-rule=\"evenodd\" fill-opacity=\"1\" /><path clip-path=\"url(#clip220)\" d=\"M 0 0 M486.944 1568.36 L492.673 1568.36 L492.673 1548.59 L486.441 1549.84 L486.441 1546.64 L492.639 1545.39 L496.145 1545.39 L496.145 1568.36 L501.875 1568.36 L501.875 1571.31 L486.944 1571.31 L486.944 1568.36 Z\" fill=\"#000000\" fill-rule=\"evenodd\" fill-opacity=\"1\" /><path clip-path=\"url(#clip220)\" d=\"M 0 0 M632.907 1547.7 Q630.199 1547.7 628.827 1550.37 Q627.473 1553.03 627.473 1558.38 Q627.473 1563.71 628.827 1566.38 Q630.199 1569.04 632.907 1569.04 Q635.633 1569.04 636.987 1566.38 Q638.359 1563.71 638.359 1558.38 Q638.359 1553.03 636.987 1550.37 Q635.633 1547.7 632.907 1547.7 M632.907 1544.92 Q637.265 1544.92 639.556 1548.38 Q641.865 1551.82 641.865 1558.38 Q641.865 1564.92 639.556 1568.38 Q637.265 1571.82 632.907 1571.82 Q628.55 1571.82 626.241 1568.38 Q623.949 1564.92 623.949 1558.38 Q623.949 1551.82 626.241 1548.38 Q628.55 1544.92 632.907 1544.92 Z\" fill=\"#000000\" fill-rule=\"evenodd\" fill-opacity=\"1\" /><path clip-path=\"url(#clip220)\" d=\"M 0 0 M777.525 1568.36 L783.254 1568.36 L783.254 1548.59 L777.021 1549.84 L777.021 1546.64 L783.219 1545.39 L786.726 1545.39 L786.726 1568.36 L792.455 1568.36 L792.455 1571.31 L777.525 1571.31 L777.525 1568.36 Z\" fill=\"#000000\" fill-rule=\"evenodd\" fill-opacity=\"1\" /><path clip-path=\"url(#clip220)\" d=\"M 0 0 M932.559 1568.36 L944.798 1568.36 L944.798 1571.31 L928.34 1571.31 L928.34 1568.36 Q930.337 1566.29 933.774 1562.82 Q937.229 1559.33 938.114 1558.33 Q939.798 1556.43 940.458 1555.13 Q941.135 1553.81 941.135 1552.54 Q941.135 1550.48 939.677 1549.18 Q938.236 1547.87 935.91 1547.87 Q934.26 1547.87 932.42 1548.45 Q930.597 1549.02 928.514 1550.18 L928.514 1546.64 Q930.632 1545.79 932.472 1545.36 Q934.312 1544.92 935.84 1544.92 Q939.868 1544.92 942.264 1546.94 Q944.66 1548.95 944.66 1552.32 Q944.66 1553.92 944.052 1555.36 Q943.462 1556.78 941.882 1558.73 Q941.448 1559.23 939.121 1561.64 Q936.795 1564.04 932.559 1568.36 Z\" fill=\"#000000\" fill-rule=\"evenodd\" fill-opacity=\"1\" /><path clip-path=\"url(#clip220)\" d=\"M 0 0 M1091.59 1557.34 Q1094.1 1557.87 1095.51 1559.58 Q1096.93 1561.28 1096.93 1563.78 Q1096.93 1567.61 1094.29 1569.71 Q1091.66 1571.82 1086.79 1571.82 Q1085.16 1571.82 1083.43 1571.49 Q1081.71 1571.17 1079.87 1570.53 L1079.87 1567.15 Q1081.33 1568 1083.06 1568.43 Q1084.8 1568.86 1086.69 1568.86 Q1089.99 1568.86 1091.71 1567.56 Q1093.44 1566.26 1093.44 1563.78 Q1093.44 1561.49 1091.83 1560.2 Q1090.23 1558.9 1087.37 1558.9 L1084.35 1558.9 L1084.35 1556.02 L1087.51 1556.02 Q1090.09 1556.02 1091.46 1554.99 Q1092.84 1553.95 1092.84 1552.01 Q1092.84 1550.01 1091.41 1548.95 Q1090.01 1547.87 1087.37 1547.87 Q1085.93 1547.87 1084.28 1548.19 Q1082.63 1548.5 1080.65 1549.16 L1080.65 1546.03 Q1082.65 1545.48 1084.38 1545.2 Q1086.13 1544.92 1087.68 1544.92 Q1091.67 1544.92 1094 1546.75 Q1096.33 1548.55 1096.33 1551.64 Q1096.33 1553.79 1095.09 1555.29 Q1093.86 1556.76 1091.59 1557.34 Z\" fill=\"#000000\" fill-rule=\"evenodd\" fill-opacity=\"1\" /><polyline clip-path=\"url(#clip222)\" style=\"stroke:#000000; stroke-width:2; stroke-opacity:0.1; fill:none\" points=\"\n",
       "  86.9921,1346.26 1152.76,1346.26 \n",
       "  \"/>\n",
       "<polyline clip-path=\"url(#clip222)\" style=\"stroke:#000000; stroke-width:2; stroke-opacity:0.1; fill:none\" points=\"\n",
       "  86.9921,997.454 1152.76,997.454 \n",
       "  \"/>\n",
       "<polyline clip-path=\"url(#clip222)\" style=\"stroke:#000000; stroke-width:2; stroke-opacity:0.1; fill:none\" points=\"\n",
       "  86.9921,648.653 1152.76,648.653 \n",
       "  \"/>\n",
       "<polyline clip-path=\"url(#clip222)\" style=\"stroke:#000000; stroke-width:2; stroke-opacity:0.1; fill:none\" points=\"\n",
       "  86.9921,299.851 1152.76,299.851 \n",
       "  \"/>\n",
       "<polyline clip-path=\"url(#clip220)\" style=\"stroke:#000000; stroke-width:4; stroke-opacity:1; fill:none\" points=\"\n",
       "  86.9921,1521.01 86.9921,62.9921 \n",
       "  \"/>\n",
       "<polyline clip-path=\"url(#clip220)\" style=\"stroke:#000000; stroke-width:4; stroke-opacity:1; fill:none\" points=\"\n",
       "  86.9921,1346.26 99.7813,1346.26 \n",
       "  \"/>\n",
       "<polyline clip-path=\"url(#clip220)\" style=\"stroke:#000000; stroke-width:4; stroke-opacity:1; fill:none\" points=\"\n",
       "  86.9921,997.454 99.7813,997.454 \n",
       "  \"/>\n",
       "<polyline clip-path=\"url(#clip220)\" style=\"stroke:#000000; stroke-width:4; stroke-opacity:1; fill:none\" points=\"\n",
       "  86.9921,648.653 99.7813,648.653 \n",
       "  \"/>\n",
       "<polyline clip-path=\"url(#clip220)\" style=\"stroke:#000000; stroke-width:4; stroke-opacity:1; fill:none\" points=\"\n",
       "  86.9921,299.851 99.7813,299.851 \n",
       "  \"/>\n",
       "<path clip-path=\"url(#clip220)\" d=\"M 0 0 M-41.4379 1346.71 L-11.7622 1346.71 L-11.7622 1350.64 L-41.4379 1350.64 L-41.4379 1346.71 Z\" fill=\"#000000\" fill-rule=\"evenodd\" fill-opacity=\"1\" /><path clip-path=\"url(#clip220)\" d=\"M 0 0 M-5.88257 1359.6 L1.75628 1359.6 L1.75628 1333.23 L-6.55386 1334.9 L-6.55386 1330.64 L1.70998 1328.98 L6.38588 1328.98 L6.38588 1359.6 L14.0247 1359.6 L14.0247 1363.54 L-5.88257 1363.54 L-5.88257 1359.6 Z\" fill=\"#000000\" fill-rule=\"evenodd\" fill-opacity=\"1\" /><path clip-path=\"url(#clip220)\" d=\"M 0 0 M19.0941 1357.66 L23.9784 1357.66 L23.9784 1363.54 L19.0941 1363.54 L19.0941 1357.66 Z\" fill=\"#000000\" fill-rule=\"evenodd\" fill-opacity=\"1\" /><path clip-path=\"url(#clip220)\" d=\"M 0 0 M39.0477 1332.05 Q35.4367 1332.05 33.608 1335.62 Q31.8024 1339.16 31.8024 1346.29 Q31.8024 1353.4 33.608 1356.96 Q35.4367 1360.5 39.0477 1360.5 Q42.682 1360.5 44.4875 1356.96 Q46.3162 1353.4 46.3162 1346.29 Q46.3162 1339.16 44.4875 1335.62 Q42.682 1332.05 39.0477 1332.05 M39.0477 1328.35 Q44.8579 1328.35 47.9134 1332.96 Q50.9921 1337.54 50.9921 1346.29 Q50.9921 1355.02 47.9134 1359.62 Q44.8579 1364.21 39.0477 1364.21 Q33.2376 1364.21 30.1589 1359.62 Q27.1034 1355.02 27.1034 1346.29 Q27.1034 1337.54 30.1589 1332.96 Q33.2376 1328.35 39.0477 1328.35 Z\" fill=\"#000000\" fill-rule=\"evenodd\" fill-opacity=\"1\" /><path clip-path=\"url(#clip220)\" d=\"M 0 0 M-41.6694 997.906 L-11.9936 997.906 L-11.9936 1001.84 L-41.6694 1001.84 L-41.6694 997.906 Z\" fill=\"#000000\" fill-rule=\"evenodd\" fill-opacity=\"1\" /><path clip-path=\"url(#clip220)\" d=\"M 0 0 M3.07572 983.253 Q-0.535376 983.253 -2.36407 986.818 Q-4.16962 990.359 -4.16962 997.489 Q-4.16962 1004.6 -2.36407 1008.16 Q-0.535376 1011.7 3.07572 1011.7 Q6.70996 1011.7 8.5155 1008.16 Q10.3442 1004.6 10.3442 997.489 Q10.3442 990.359 8.5155 986.818 Q6.70996 983.253 3.07572 983.253 M3.07572 979.549 Q8.88587 979.549 11.9414 984.156 Q15.0201 988.739 15.0201 997.489 Q15.0201 1006.22 11.9414 1010.82 Q8.88587 1015.41 3.07572 1015.41 Q-2.73444 1015.41 -5.81313 1010.82 Q-8.86866 1006.22 -8.86866 997.489 Q-8.86866 988.739 -5.81313 984.156 Q-2.73444 979.549 3.07572 979.549 Z\" fill=\"#000000\" fill-rule=\"evenodd\" fill-opacity=\"1\" /><path clip-path=\"url(#clip220)\" d=\"M 0 0 M20.0895 1008.85 L24.9737 1008.85 L24.9737 1014.73 L20.0895 1014.73 L20.0895 1008.85 Z\" fill=\"#000000\" fill-rule=\"evenodd\" fill-opacity=\"1\" /><path clip-path=\"url(#clip220)\" d=\"M 0 0 M30.0895 980.174 L48.4458 980.174 L48.4458 984.109 L34.3718 984.109 L34.3718 992.582 Q35.3904 992.234 36.4089 992.072 Q37.4274 991.887 38.4459 991.887 Q44.2329 991.887 47.6125 995.058 Q50.9921 998.23 50.9921 1003.65 Q50.9921 1009.22 47.5199 1012.33 Q44.0477 1015.41 37.7283 1015.41 Q35.5524 1015.41 33.2839 1015.04 Q31.0385 1014.66 28.6311 1013.92 L28.6311 1009.22 Q30.7145 1010.36 32.9367 1010.91 Q35.1589 1011.47 37.6357 1011.47 Q41.6403 1011.47 43.9783 1009.36 Q46.3162 1007.26 46.3162 1003.65 Q46.3162 1000.04 43.9783 997.929 Q41.6403 995.822 37.6357 995.822 Q35.7607 995.822 33.8857 996.239 Q32.0339 996.656 30.0895 997.535 L30.0895 980.174 Z\" fill=\"#000000\" fill-rule=\"evenodd\" fill-opacity=\"1\" /><path clip-path=\"url(#clip220)\" d=\"M 0 0 M2.08035 634.451 Q-1.53074 634.451 -3.35943 638.016 Q-5.16498 641.558 -5.16498 648.687 Q-5.16498 655.794 -3.35943 659.359 Q-1.53074 662.9 2.08035 662.9 Q5.71459 662.9 7.52014 659.359 Q9.34883 655.794 9.34883 648.687 Q9.34883 641.558 7.52014 638.016 Q5.71459 634.451 2.08035 634.451 M2.08035 630.748 Q7.89051 630.748 10.946 635.354 Q14.0247 639.937 14.0247 648.687 Q14.0247 657.414 10.946 662.021 Q7.89051 666.604 2.08035 666.604 Q-3.7298 666.604 -6.80849 662.021 Q-9.86403 657.414 -9.86403 648.687 Q-9.86403 639.937 -6.80849 635.354 Q-3.7298 630.748 2.08035 630.748 Z\" fill=\"#000000\" fill-rule=\"evenodd\" fill-opacity=\"1\" /><path clip-path=\"url(#clip220)\" d=\"M 0 0 M19.0941 660.053 L23.9784 660.053 L23.9784 665.933 L19.0941 665.933 L19.0941 660.053 Z\" fill=\"#000000\" fill-rule=\"evenodd\" fill-opacity=\"1\" /><path clip-path=\"url(#clip220)\" d=\"M 0 0 M39.0477 634.451 Q35.4367 634.451 33.608 638.016 Q31.8024 641.558 31.8024 648.687 Q31.8024 655.794 33.608 659.359 Q35.4367 662.9 39.0477 662.9 Q42.682 662.9 44.4875 659.359 Q46.3162 655.794 46.3162 648.687 Q46.3162 641.558 44.4875 638.016 Q42.682 634.451 39.0477 634.451 M39.0477 630.748 Q44.8579 630.748 47.9134 635.354 Q50.9921 639.937 50.9921 648.687 Q50.9921 657.414 47.9134 662.021 Q44.8579 666.604 39.0477 666.604 Q33.2376 666.604 30.1589 662.021 Q27.1034 657.414 27.1034 648.687 Q27.1034 639.937 30.1589 635.354 Q33.2376 630.748 39.0477 630.748 Z\" fill=\"#000000\" fill-rule=\"evenodd\" fill-opacity=\"1\" /><path clip-path=\"url(#clip220)\" d=\"M 0 0 M3.07572 285.65 Q-0.535376 285.65 -2.36407 289.215 Q-4.16962 292.756 -4.16962 299.886 Q-4.16962 306.992 -2.36407 310.557 Q-0.535376 314.099 3.07572 314.099 Q6.70996 314.099 8.5155 310.557 Q10.3442 306.992 10.3442 299.886 Q10.3442 292.756 8.5155 289.215 Q6.70996 285.65 3.07572 285.65 M3.07572 281.946 Q8.88587 281.946 11.9414 286.553 Q15.0201 291.136 15.0201 299.886 Q15.0201 308.613 11.9414 313.219 Q8.88587 317.802 3.07572 317.802 Q-2.73444 317.802 -5.81313 313.219 Q-8.86866 308.613 -8.86866 299.886 Q-8.86866 291.136 -5.81313 286.553 Q-2.73444 281.946 3.07572 281.946 Z\" fill=\"#000000\" fill-rule=\"evenodd\" fill-opacity=\"1\" /><path clip-path=\"url(#clip220)\" d=\"M 0 0 M20.0895 311.252 L24.9737 311.252 L24.9737 317.131 L20.0895 317.131 L20.0895 311.252 Z\" fill=\"#000000\" fill-rule=\"evenodd\" fill-opacity=\"1\" /><path clip-path=\"url(#clip220)\" d=\"M 0 0 M30.0895 282.571 L48.4458 282.571 L48.4458 286.506 L34.3718 286.506 L34.3718 294.978 Q35.3904 294.631 36.4089 294.469 Q37.4274 294.284 38.4459 294.284 Q44.2329 294.284 47.6125 297.455 Q50.9921 300.627 50.9921 306.043 Q50.9921 311.622 47.5199 314.724 Q44.0477 317.802 37.7283 317.802 Q35.5524 317.802 33.2839 317.432 Q31.0385 317.062 28.6311 316.321 L28.6311 311.622 Q30.7145 312.756 32.9367 313.312 Q35.1589 313.867 37.6357 313.867 Q41.6403 313.867 43.9783 311.761 Q46.3162 309.654 46.3162 306.043 Q46.3162 302.432 43.9783 300.326 Q41.6403 298.219 37.6357 298.219 Q35.7607 298.219 33.8857 298.636 Q32.0339 299.053 30.0895 299.932 L30.0895 282.571 Z\" fill=\"#000000\" fill-rule=\"evenodd\" fill-opacity=\"1\" /><path clip-path=\"url(#clip220)\" d=\"M 0 0 M410.581 6.912 L430.442 6.912 L430.442 10.8472 L415.257 10.8472 L415.257 21.0323 L428.961 21.0323 L428.961 24.9675 L415.257 24.9675 L415.257 41.472 L410.581 41.472 L410.581 6.912 Z\" fill=\"#000000\" fill-rule=\"evenodd\" fill-opacity=\"1\" /><path clip-path=\"url(#clip220)\" d=\"M 0 0 M431.877 31.2406 L431.877 15.5462 L436.137 15.5462 L436.137 31.0785 Q436.137 34.7591 437.572 36.6109 Q439.007 38.4396 441.877 38.4396 Q445.326 38.4396 447.317 36.2405 Q449.331 34.0415 449.331 30.2452 L449.331 15.5462 L453.59 15.5462 L453.59 41.472 L449.331 41.472 L449.331 37.4905 Q447.78 39.8516 445.72 41.009 Q443.683 42.1433 440.975 42.1433 Q436.507 42.1433 434.192 39.3655 Q431.877 36.5878 431.877 31.2406 M442.595 14.9212 L442.595 14.9212 Z\" fill=\"#000000\" fill-rule=\"evenodd\" fill-opacity=\"1\" /><path clip-path=\"url(#clip220)\" d=\"M 0 0 M456.206 15.5462 L476.437 15.5462 L476.437 19.4351 L460.419 38.0692 L476.437 38.0692 L476.437 41.472 L455.627 41.472 L455.627 37.5831 L471.646 18.949 L456.206 18.949 L456.206 15.5462 Z\" fill=\"#000000\" fill-rule=\"evenodd\" fill-opacity=\"1\" /><path clip-path=\"url(#clip220)\" d=\"M 0 0 M479.053 15.5462 L499.284 15.5462 L499.284 19.4351 L483.266 38.0692 L499.284 38.0692 L499.284 41.472 L478.474 41.472 L478.474 37.5831 L494.493 18.949 L479.053 18.949 L479.053 15.5462 Z\" fill=\"#000000\" fill-rule=\"evenodd\" fill-opacity=\"1\" /><path clip-path=\"url(#clip220)\" d=\"M 0 0 M514.539 43.8794 Q512.733 48.509 511.02 49.921 Q509.307 51.3331 506.437 51.3331 L503.034 51.3331 L503.034 47.7683 L505.534 47.7683 Q507.294 47.7683 508.266 46.9349 Q509.238 46.1016 510.419 42.9998 L511.182 41.0553 L500.696 15.5462 L505.21 15.5462 L513.312 35.8239 L521.414 15.5462 L525.928 15.5462 L514.539 43.8794 Z\" fill=\"#000000\" fill-rule=\"evenodd\" fill-opacity=\"1\" /><path clip-path=\"url(#clip220)\" d=\"M 0 0 M542.131 11.5185 L535.789 28.7174 L548.497 28.7174 L542.131 11.5185 M539.493 6.912 L544.793 6.912 L557.965 41.472 L553.104 41.472 L549.955 32.6063 L534.377 32.6063 L531.229 41.472 L526.298 41.472 L539.493 6.912 Z\" fill=\"#000000\" fill-rule=\"evenodd\" fill-opacity=\"1\" /><path clip-path=\"url(#clip220)\" d=\"M 0 0 M579.006 25.2684 Q580.511 25.7776 581.923 27.4443 Q583.358 29.111 584.793 32.0276 L589.539 41.472 L584.515 41.472 L580.094 32.6063 Q578.381 29.1341 576.761 27.9998 Q575.164 26.8656 572.386 26.8656 L567.293 26.8656 L567.293 41.472 L562.617 41.472 L562.617 6.912 L573.173 6.912 Q579.099 6.912 582.015 9.38884 Q584.932 11.8657 584.932 16.8657 Q584.932 20.1295 583.404 22.2823 Q581.9 24.4351 579.006 25.2684 M567.293 10.7546 L567.293 23.023 L573.173 23.023 Q576.552 23.023 578.265 21.4721 Q580.002 19.898 580.002 16.8657 Q580.002 13.8333 578.265 12.3055 Q576.552 10.7546 573.173 10.7546 L567.293 10.7546 Z\" fill=\"#000000\" fill-rule=\"evenodd\" fill-opacity=\"1\" /><path clip-path=\"url(#clip220)\" d=\"M 0 0 M585.951 6.912 L615.187 6.912 L615.187 10.8472 L602.918 10.8472 L602.918 41.472 L598.219 41.472 L598.219 10.8472 L585.951 10.8472 L585.951 6.912 Z\" fill=\"#000000\" fill-rule=\"evenodd\" fill-opacity=\"1\" /><path clip-path=\"url(#clip220)\" d=\"M 0 0 M649.747 19.5277 Q649.029 19.111 648.172 18.9258 Q647.339 18.7175 646.321 18.7175 Q642.71 18.7175 640.765 21.0786 Q638.844 23.4165 638.844 27.8147 L638.844 41.472 L634.561 41.472 L634.561 15.5462 L638.844 15.5462 L638.844 19.574 Q640.186 17.2129 642.339 16.0786 Q644.492 14.9212 647.571 14.9212 Q648.01 14.9212 648.543 14.9907 Q649.075 15.037 649.723 15.1527 L649.747 19.5277 Z\" fill=\"#000000\" fill-rule=\"evenodd\" fill-opacity=\"1\" /><path clip-path=\"url(#clip220)\" d=\"M 0 0 M674.932 25.8239 L674.932 41.472 L670.672 41.472 L670.672 25.9628 Q670.672 22.2823 669.237 20.4536 Q667.802 18.6249 664.932 18.6249 Q661.483 18.6249 659.492 20.824 Q657.501 23.023 657.501 26.8193 L657.501 41.472 L653.219 41.472 L653.219 5.45367 L657.501 5.45367 L657.501 19.574 Q659.029 17.236 661.089 16.0786 Q663.172 14.9212 665.881 14.9212 Q670.348 14.9212 672.64 17.699 Q674.932 20.4536 674.932 25.8239 Z\" fill=\"#000000\" fill-rule=\"evenodd\" fill-opacity=\"1\" /><path clip-path=\"url(#clip220)\" d=\"M 0 0 M689.445 18.5323 Q686.019 18.5323 684.029 21.2175 Q682.038 23.8795 682.038 28.5323 Q682.038 33.185 684.006 35.8702 Q685.996 38.5322 689.445 38.5322 Q692.848 38.5322 694.839 35.847 Q696.83 33.1619 696.83 28.5323 Q696.83 23.9258 694.839 21.2406 Q692.848 18.5323 689.445 18.5323 M689.445 14.9212 Q695.001 14.9212 698.172 18.5323 Q701.343 22.1434 701.343 28.5323 Q701.343 34.898 698.172 38.5322 Q695.001 42.1433 689.445 42.1433 Q683.867 42.1433 680.695 38.5322 Q677.547 34.898 677.547 28.5323 Q677.547 22.1434 680.695 18.5323 Q683.867 14.9212 689.445 14.9212 Z\" fill=\"#000000\" fill-rule=\"evenodd\" fill-opacity=\"1\" /><path clip-path=\"url(#clip220)\" d=\"M 0 0 M721.436 19.9443 L751.112 19.9443 L751.112 23.8332 L721.436 23.8332 L721.436 19.9443 M721.436 29.3887 L751.112 29.3887 L751.112 33.3239 L721.436 33.3239 L721.436 29.3887 Z\" fill=\"#000000\" fill-rule=\"evenodd\" fill-opacity=\"1\" /><path clip-path=\"url(#clip220)\" d=\"M 0 0 M781.25 9.99069 Q777.639 9.99069 775.811 13.5555 Q774.005 17.0971 774.005 24.2267 Q774.005 31.3332 775.811 34.898 Q777.639 38.4396 781.25 38.4396 Q784.885 38.4396 786.69 34.898 Q788.519 31.3332 788.519 24.2267 Q788.519 17.0971 786.69 13.5555 Q784.885 9.99069 781.25 9.99069 M781.25 6.287 Q787.061 6.287 790.116 10.8935 Q793.195 15.4768 793.195 24.2267 Q793.195 32.9535 790.116 37.56 Q787.061 42.1433 781.25 42.1433 Q775.44 42.1433 772.362 37.56 Q769.306 32.9535 769.306 24.2267 Q769.306 15.4768 772.362 10.8935 Q775.44 6.287 781.25 6.287 Z\" fill=\"#000000\" fill-rule=\"evenodd\" fill-opacity=\"1\" /><path clip-path=\"url(#clip220)\" d=\"M 0 0 M798.264 35.5924 L803.148 35.5924 L803.148 41.472 L798.264 41.472 L798.264 35.5924 Z\" fill=\"#000000\" fill-rule=\"evenodd\" fill-opacity=\"1\" /><path clip-path=\"url(#clip220)\" d=\"M 0 0 M808.264 6.912 L826.621 6.912 L826.621 10.8472 L812.547 10.8472 L812.547 19.3193 Q813.565 18.9721 814.584 18.8101 Q815.602 18.6249 816.621 18.6249 Q822.408 18.6249 825.787 21.7962 Q829.167 24.9675 829.167 30.3841 Q829.167 35.9628 825.695 39.0646 Q822.222 42.1433 815.903 42.1433 Q813.727 42.1433 811.459 41.7729 Q809.213 41.4026 806.806 40.6618 L806.806 35.9628 Q808.889 37.097 811.111 37.6526 Q813.334 38.2081 815.81 38.2081 Q819.815 38.2081 822.153 36.1017 Q824.491 33.9952 824.491 30.3841 Q824.491 26.773 822.153 24.6665 Q819.815 22.5601 815.81 22.5601 Q813.935 22.5601 812.06 22.9767 Q810.209 23.3934 808.264 24.273 L808.264 6.912 Z\" fill=\"#000000\" fill-rule=\"evenodd\" fill-opacity=\"1\" /><circle clip-path=\"url(#clip222)\" cx=\"1013.48\" cy=\"193.861\" r=\"14\" fill=\"#009af9\" fill-rule=\"evenodd\" fill-opacity=\"1\" stroke=\"#000000\" stroke-opacity=\"1\" stroke-width=\"3.2\"/>\n",
       "<circle clip-path=\"url(#clip222)\" cx=\"979.066\" cy=\"126.997\" r=\"14\" fill=\"#009af9\" fill-rule=\"evenodd\" fill-opacity=\"1\" stroke=\"#000000\" stroke-opacity=\"1\" stroke-width=\"3.2\"/>\n",
       "<circle clip-path=\"url(#clip222)\" cx=\"1071.67\" cy=\"744.465\" r=\"14\" fill=\"#009af9\" fill-rule=\"evenodd\" fill-opacity=\"1\" stroke=\"#000000\" stroke-opacity=\"1\" stroke-width=\"3.2\"/>\n",
       "<circle clip-path=\"url(#clip222)\" cx=\"1032.66\" cy=\"781.25\" r=\"14\" fill=\"#009af9\" fill-rule=\"evenodd\" fill-opacity=\"1\" stroke=\"#000000\" stroke-opacity=\"1\" stroke-width=\"3.2\"/>\n",
       "<circle clip-path=\"url(#clip222)\" cx=\"1031.5\" cy=\"225.347\" r=\"14\" fill=\"#009af9\" fill-rule=\"evenodd\" fill-opacity=\"1\" stroke=\"#000000\" stroke-opacity=\"1\" stroke-width=\"3.2\"/>\n",
       "<circle clip-path=\"url(#clip222)\" cx=\"1065.96\" cy=\"1299.42\" r=\"14\" fill=\"#009af9\" fill-rule=\"evenodd\" fill-opacity=\"1\" stroke=\"#000000\" stroke-opacity=\"1\" stroke-width=\"3.2\"/>\n",
       "<circle clip-path=\"url(#clip222)\" cx=\"1038.88\" cy=\"723.081\" r=\"14\" fill=\"#009af9\" fill-rule=\"evenodd\" fill-opacity=\"1\" stroke=\"#000000\" stroke-opacity=\"1\" stroke-width=\"3.2\"/>\n",
       "<circle clip-path=\"url(#clip222)\" cx=\"1122.59\" cy=\"999.742\" r=\"14\" fill=\"#009af9\" fill-rule=\"evenodd\" fill-opacity=\"1\" stroke=\"#000000\" stroke-opacity=\"1\" stroke-width=\"3.2\"/>\n",
       "<circle clip-path=\"url(#clip222)\" cx=\"1031.69\" cy=\"529.777\" r=\"14\" fill=\"#009af9\" fill-rule=\"evenodd\" fill-opacity=\"1\" stroke=\"#000000\" stroke-opacity=\"1\" stroke-width=\"3.2\"/>\n",
       "<circle clip-path=\"url(#clip222)\" cx=\"998.139\" cy=\"511.98\" r=\"14\" fill=\"#009af9\" fill-rule=\"evenodd\" fill-opacity=\"1\" stroke=\"#000000\" stroke-opacity=\"1\" stroke-width=\"3.2\"/>\n",
       "<circle clip-path=\"url(#clip222)\" cx=\"1053.5\" cy=\"459.561\" r=\"14\" fill=\"#009af9\" fill-rule=\"evenodd\" fill-opacity=\"1\" stroke=\"#000000\" stroke-opacity=\"1\" stroke-width=\"3.2\"/>\n",
       "<circle clip-path=\"url(#clip222)\" cx=\"1045.19\" cy=\"766.936\" r=\"14\" fill=\"#009af9\" fill-rule=\"evenodd\" fill-opacity=\"1\" stroke=\"#000000\" stroke-opacity=\"1\" stroke-width=\"3.2\"/>\n",
       "<circle clip-path=\"url(#clip222)\" cx=\"1043.45\" cy=\"568.421\" r=\"14\" fill=\"#009af9\" fill-rule=\"evenodd\" fill-opacity=\"1\" stroke=\"#000000\" stroke-opacity=\"1\" stroke-width=\"3.2\"/>\n",
       "<circle clip-path=\"url(#clip222)\" cx=\"982.594\" cy=\"575.04\" r=\"14\" fill=\"#009af9\" fill-rule=\"evenodd\" fill-opacity=\"1\" stroke=\"#000000\" stroke-opacity=\"1\" stroke-width=\"3.2\"/>\n",
       "<circle clip-path=\"url(#clip222)\" cx=\"1049.9\" cy=\"865.694\" r=\"14\" fill=\"#009af9\" fill-rule=\"evenodd\" fill-opacity=\"1\" stroke=\"#000000\" stroke-opacity=\"1\" stroke-width=\"3.2\"/>\n",
       "<circle clip-path=\"url(#clip222)\" cx=\"410.617\" cy=\"296.928\" r=\"14\" fill=\"#e26f46\" fill-rule=\"evenodd\" fill-opacity=\"1\" stroke=\"#000000\" stroke-opacity=\"1\" stroke-width=\"3.2\"/>\n",
       "<circle clip-path=\"url(#clip222)\" cx=\"605.431\" cy=\"1224.6\" r=\"14\" fill=\"#e26f46\" fill-rule=\"evenodd\" fill-opacity=\"1\" stroke=\"#000000\" stroke-opacity=\"1\" stroke-width=\"3.2\"/>\n",
       "<circle clip-path=\"url(#clip222)\" cx=\"509.551\" cy=\"761.896\" r=\"14\" fill=\"#e26f46\" fill-rule=\"evenodd\" fill-opacity=\"1\" stroke=\"#000000\" stroke-opacity=\"1\" stroke-width=\"3.2\"/>\n",
       "<circle clip-path=\"url(#clip222)\" cx=\"543.741\" cy=\"985.793\" r=\"14\" fill=\"#e26f46\" fill-rule=\"evenodd\" fill-opacity=\"1\" stroke=\"#000000\" stroke-opacity=\"1\" stroke-width=\"3.2\"/>\n",
       "<circle clip-path=\"url(#clip222)\" cx=\"554.049\" cy=\"1479.74\" r=\"14\" fill=\"#e26f46\" fill-rule=\"evenodd\" fill-opacity=\"1\" stroke=\"#000000\" stroke-opacity=\"1\" stroke-width=\"3.2\"/>\n",
       "<circle clip-path=\"url(#clip222)\" cx=\"582.632\" cy=\"795.973\" r=\"14\" fill=\"#e26f46\" fill-rule=\"evenodd\" fill-opacity=\"1\" stroke=\"#000000\" stroke-opacity=\"1\" stroke-width=\"3.2\"/>\n",
       "<circle clip-path=\"url(#clip222)\" cx=\"643.587\" cy=\"1138.75\" r=\"14\" fill=\"#e26f46\" fill-rule=\"evenodd\" fill-opacity=\"1\" stroke=\"#000000\" stroke-opacity=\"1\" stroke-width=\"3.2\"/>\n",
       "<circle clip-path=\"url(#clip222)\" cx=\"510.348\" cy=\"512.582\" r=\"14\" fill=\"#e26f46\" fill-rule=\"evenodd\" fill-opacity=\"1\" stroke=\"#000000\" stroke-opacity=\"1\" stroke-width=\"3.2\"/>\n",
       "<circle clip-path=\"url(#clip222)\" cx=\"413.799\" cy=\"748.969\" r=\"14\" fill=\"#e26f46\" fill-rule=\"evenodd\" fill-opacity=\"1\" stroke=\"#000000\" stroke-opacity=\"1\" stroke-width=\"3.2\"/>\n",
       "<circle clip-path=\"url(#clip222)\" cx=\"597.297\" cy=\"880.202\" r=\"14\" fill=\"#e26f46\" fill-rule=\"evenodd\" fill-opacity=\"1\" stroke=\"#000000\" stroke-opacity=\"1\" stroke-width=\"3.2\"/>\n",
       "<circle clip-path=\"url(#clip222)\" cx=\"483.499\" cy=\"735.407\" r=\"14\" fill=\"#e26f46\" fill-rule=\"evenodd\" fill-opacity=\"1\" stroke=\"#000000\" stroke-opacity=\"1\" stroke-width=\"3.2\"/>\n",
       "<circle clip-path=\"url(#clip222)\" cx=\"578.736\" cy=\"695.269\" r=\"14\" fill=\"#e26f46\" fill-rule=\"evenodd\" fill-opacity=\"1\" stroke=\"#000000\" stroke-opacity=\"1\" stroke-width=\"3.2\"/>\n",
       "<circle clip-path=\"url(#clip222)\" cx=\"535.479\" cy=\"635.349\" r=\"14\" fill=\"#e26f46\" fill-rule=\"evenodd\" fill-opacity=\"1\" stroke=\"#000000\" stroke-opacity=\"1\" stroke-width=\"3.2\"/>\n",
       "<circle clip-path=\"url(#clip222)\" cx=\"578.926\" cy=\"999.699\" r=\"14\" fill=\"#e26f46\" fill-rule=\"evenodd\" fill-opacity=\"1\" stroke=\"#000000\" stroke-opacity=\"1\" stroke-width=\"3.2\"/>\n",
       "<circle clip-path=\"url(#clip222)\" cx=\"509.489\" cy=\"907.239\" r=\"14\" fill=\"#e26f46\" fill-rule=\"evenodd\" fill-opacity=\"1\" stroke=\"#000000\" stroke-opacity=\"1\" stroke-width=\"3.2\"/>\n",
       "<circle clip-path=\"url(#clip222)\" cx=\"466.618\" cy=\"450.609\" r=\"14\" fill=\"#e26f46\" fill-rule=\"evenodd\" fill-opacity=\"1\" stroke=\"#000000\" stroke-opacity=\"1\" stroke-width=\"3.2\"/>\n",
       "<circle clip-path=\"url(#clip222)\" cx=\"747.003\" cy=\"1347.03\" r=\"14\" fill=\"#e26f46\" fill-rule=\"evenodd\" fill-opacity=\"1\" stroke=\"#000000\" stroke-opacity=\"1\" stroke-width=\"3.2\"/>\n",
       "<circle clip-path=\"url(#clip222)\" cx=\"189.844\" cy=\"104.257\" r=\"14\" fill=\"#3da44d\" fill-rule=\"evenodd\" fill-opacity=\"1\" stroke=\"#000000\" stroke-opacity=\"1\" stroke-width=\"3.2\"/>\n",
       "<circle clip-path=\"url(#clip222)\" cx=\"336.951\" cy=\"620.239\" r=\"14\" fill=\"#3da44d\" fill-rule=\"evenodd\" fill-opacity=\"1\" stroke=\"#000000\" stroke-opacity=\"1\" stroke-width=\"3.2\"/>\n",
       "<circle clip-path=\"url(#clip222)\" cx=\"312.9\" cy=\"389.505\" r=\"14\" fill=\"#3da44d\" fill-rule=\"evenodd\" fill-opacity=\"1\" stroke=\"#000000\" stroke-opacity=\"1\" stroke-width=\"3.2\"/>\n",
       "<circle clip-path=\"url(#clip222)\" cx=\"380.574\" cy=\"479.806\" r=\"14\" fill=\"#3da44d\" fill-rule=\"evenodd\" fill-opacity=\"1\" stroke=\"#000000\" stroke-opacity=\"1\" stroke-width=\"3.2\"/>\n",
       "<circle clip-path=\"url(#clip222)\" cx=\"359.256\" cy=\"799.443\" r=\"14\" fill=\"#3da44d\" fill-rule=\"evenodd\" fill-opacity=\"1\" stroke=\"#000000\" stroke-opacity=\"1\" stroke-width=\"3.2\"/>\n",
       "<circle clip-path=\"url(#clip222)\" cx=\"265.568\" cy=\"436.927\" r=\"14\" fill=\"#3da44d\" fill-rule=\"evenodd\" fill-opacity=\"1\" stroke=\"#000000\" stroke-opacity=\"1\" stroke-width=\"3.2\"/>\n",
       "<circle clip-path=\"url(#clip222)\" cx=\"365.07\" cy=\"593.877\" r=\"14\" fill=\"#3da44d\" fill-rule=\"evenodd\" fill-opacity=\"1\" stroke=\"#000000\" stroke-opacity=\"1\" stroke-width=\"3.2\"/>\n",
       "<circle clip-path=\"url(#clip222)\" cx=\"187.738\" cy=\"402.833\" r=\"14\" fill=\"#3da44d\" fill-rule=\"evenodd\" fill-opacity=\"1\" stroke=\"#000000\" stroke-opacity=\"1\" stroke-width=\"3.2\"/>\n",
       "<circle clip-path=\"url(#clip222)\" cx=\"270.401\" cy=\"325.998\" r=\"14\" fill=\"#3da44d\" fill-rule=\"evenodd\" fill-opacity=\"1\" stroke=\"#000000\" stroke-opacity=\"1\" stroke-width=\"3.2\"/>\n",
       "<circle clip-path=\"url(#clip222)\" cx=\"248.512\" cy=\"656.914\" r=\"14\" fill=\"#3da44d\" fill-rule=\"evenodd\" fill-opacity=\"1\" stroke=\"#000000\" stroke-opacity=\"1\" stroke-width=\"3.2\"/>\n",
       "<circle clip-path=\"url(#clip222)\" cx=\"307.232\" cy=\"551.751\" r=\"14\" fill=\"#3da44d\" fill-rule=\"evenodd\" fill-opacity=\"1\" stroke=\"#000000\" stroke-opacity=\"1\" stroke-width=\"3.2\"/>\n",
       "<circle clip-path=\"url(#clip222)\" cx=\"117.155\" cy=\"266.947\" r=\"14\" fill=\"#3da44d\" fill-rule=\"evenodd\" fill-opacity=\"1\" stroke=\"#000000\" stroke-opacity=\"1\" stroke-width=\"3.2\"/>\n",
       "<circle clip-path=\"url(#clip222)\" cx=\"343.69\" cy=\"615.135\" r=\"14\" fill=\"#3da44d\" fill-rule=\"evenodd\" fill-opacity=\"1\" stroke=\"#000000\" stroke-opacity=\"1\" stroke-width=\"3.2\"/>\n",
       "<path clip-path=\"url(#clip220)\" d=\"\n",
       "M1286.99 1521.01 L2352.76 1521.01 L2352.76 62.9921 L1286.99 62.9921  Z\n",
       "  \" fill=\"#ffffff\" fill-rule=\"evenodd\" fill-opacity=\"1\"/>\n",
       "<defs>\n",
       "  <clipPath id=\"clip223\">\n",
       "    <rect x=\"1286\" y=\"62\" width=\"1067\" height=\"1459\"/>\n",
       "  </clipPath>\n",
       "</defs>\n",
       "<polyline clip-path=\"url(#clip223)\" style=\"stroke:#000000; stroke-width:2; stroke-opacity:0.1; fill:none\" points=\"\n",
       "  1377.41,1521.01 1377.41,62.9921 \n",
       "  \"/>\n",
       "<polyline clip-path=\"url(#clip223)\" style=\"stroke:#000000; stroke-width:2; stroke-opacity:0.1; fill:none\" points=\"\n",
       "  1529.25,1521.01 1529.25,62.9921 \n",
       "  \"/>\n",
       "<polyline clip-path=\"url(#clip223)\" style=\"stroke:#000000; stroke-width:2; stroke-opacity:0.1; fill:none\" points=\"\n",
       "  1681.08,1521.01 1681.08,62.9921 \n",
       "  \"/>\n",
       "<polyline clip-path=\"url(#clip223)\" style=\"stroke:#000000; stroke-width:2; stroke-opacity:0.1; fill:none\" points=\"\n",
       "  1832.91,1521.01 1832.91,62.9921 \n",
       "  \"/>\n",
       "<polyline clip-path=\"url(#clip223)\" style=\"stroke:#000000; stroke-width:2; stroke-opacity:0.1; fill:none\" points=\"\n",
       "  1984.74,1521.01 1984.74,62.9921 \n",
       "  \"/>\n",
       "<polyline clip-path=\"url(#clip223)\" style=\"stroke:#000000; stroke-width:2; stroke-opacity:0.1; fill:none\" points=\"\n",
       "  2136.57,1521.01 2136.57,62.9921 \n",
       "  \"/>\n",
       "<polyline clip-path=\"url(#clip223)\" style=\"stroke:#000000; stroke-width:2; stroke-opacity:0.1; fill:none\" points=\"\n",
       "  2288.4,1521.01 2288.4,62.9921 \n",
       "  \"/>\n",
       "<polyline clip-path=\"url(#clip220)\" style=\"stroke:#000000; stroke-width:4; stroke-opacity:1; fill:none\" points=\"\n",
       "  1286.99,1521.01 2352.76,1521.01 \n",
       "  \"/>\n",
       "<polyline clip-path=\"url(#clip220)\" style=\"stroke:#000000; stroke-width:4; stroke-opacity:1; fill:none\" points=\"\n",
       "  1377.41,1521.01 1377.41,1503.51 \n",
       "  \"/>\n",
       "<polyline clip-path=\"url(#clip220)\" style=\"stroke:#000000; stroke-width:4; stroke-opacity:1; fill:none\" points=\"\n",
       "  1529.25,1521.01 1529.25,1503.51 \n",
       "  \"/>\n",
       "<polyline clip-path=\"url(#clip220)\" style=\"stroke:#000000; stroke-width:4; stroke-opacity:1; fill:none\" points=\"\n",
       "  1681.08,1521.01 1681.08,1503.51 \n",
       "  \"/>\n",
       "<polyline clip-path=\"url(#clip220)\" style=\"stroke:#000000; stroke-width:4; stroke-opacity:1; fill:none\" points=\"\n",
       "  1832.91,1521.01 1832.91,1503.51 \n",
       "  \"/>\n",
       "<polyline clip-path=\"url(#clip220)\" style=\"stroke:#000000; stroke-width:4; stroke-opacity:1; fill:none\" points=\"\n",
       "  1984.74,1521.01 1984.74,1503.51 \n",
       "  \"/>\n",
       "<polyline clip-path=\"url(#clip220)\" style=\"stroke:#000000; stroke-width:4; stroke-opacity:1; fill:none\" points=\"\n",
       "  2136.57,1521.01 2136.57,1503.51 \n",
       "  \"/>\n",
       "<polyline clip-path=\"url(#clip220)\" style=\"stroke:#000000; stroke-width:4; stroke-opacity:1; fill:none\" points=\"\n",
       "  2288.4,1521.01 2288.4,1503.51 \n",
       "  \"/>\n",
       "<path clip-path=\"url(#clip220)\" d=\"M 0 0 M1356.4 1558.69 L1378.66 1558.69 L1378.66 1561.64 L1356.4 1561.64 L1356.4 1558.69 Z\" fill=\"#000000\" fill-rule=\"evenodd\" fill-opacity=\"1\" /><path clip-path=\"url(#clip220)\" d=\"M 0 0 M1393.08 1557.34 Q1395.6 1557.87 1397.01 1559.58 Q1398.43 1561.28 1398.43 1563.78 Q1398.43 1567.61 1395.79 1569.71 Q1393.15 1571.82 1388.29 1571.82 Q1386.66 1571.82 1384.92 1571.49 Q1383.2 1571.17 1381.36 1570.53 L1381.36 1567.15 Q1382.82 1568 1384.56 1568.43 Q1386.29 1568.86 1388.19 1568.86 Q1391.49 1568.86 1393.2 1567.56 Q1394.94 1566.26 1394.94 1563.78 Q1394.94 1561.49 1393.33 1560.2 Q1391.73 1558.9 1388.86 1558.9 L1385.84 1558.9 L1385.84 1556.02 L1389 1556.02 Q1391.59 1556.02 1392.96 1554.99 Q1394.33 1553.95 1394.33 1552.01 Q1394.33 1550.01 1392.91 1548.95 Q1391.5 1547.87 1388.86 1547.87 Q1387.42 1547.87 1385.77 1548.19 Q1384.12 1548.5 1382.14 1549.16 L1382.14 1546.03 Q1384.14 1545.48 1385.88 1545.2 Q1387.63 1544.92 1389.18 1544.92 Q1393.17 1544.92 1395.5 1546.75 Q1397.82 1548.55 1397.82 1551.64 Q1397.82 1553.79 1396.59 1555.29 Q1395.36 1556.76 1393.08 1557.34 Z\" fill=\"#000000\" fill-rule=\"evenodd\" fill-opacity=\"1\" /><path clip-path=\"url(#clip220)\" d=\"M 0 0 M1508.59 1558.69 L1530.84 1558.69 L1530.84 1561.64 L1508.59 1561.64 L1508.59 1558.69 Z\" fill=\"#000000\" fill-rule=\"evenodd\" fill-opacity=\"1\" /><path clip-path=\"url(#clip220)\" d=\"M 0 0 M1537.67 1568.36 L1549.9 1568.36 L1549.9 1571.31 L1533.45 1571.31 L1533.45 1568.36 Q1535.44 1566.29 1538.88 1562.82 Q1542.34 1559.33 1543.22 1558.33 Q1544.9 1556.43 1545.56 1555.13 Q1546.24 1553.81 1546.24 1552.54 Q1546.24 1550.48 1544.78 1549.18 Q1543.34 1547.87 1541.02 1547.87 Q1539.37 1547.87 1537.53 1548.45 Q1535.7 1549.02 1533.62 1550.18 L1533.62 1546.64 Q1535.74 1545.79 1537.58 1545.36 Q1539.42 1544.92 1540.95 1544.92 Q1544.97 1544.92 1547.37 1546.94 Q1549.77 1548.95 1549.77 1552.32 Q1549.77 1553.92 1549.16 1555.36 Q1548.57 1556.78 1546.99 1558.73 Q1546.55 1559.23 1544.23 1561.64 Q1541.9 1564.04 1537.67 1568.36 Z\" fill=\"#000000\" fill-rule=\"evenodd\" fill-opacity=\"1\" /><path clip-path=\"url(#clip220)\" d=\"M 0 0 M1660.28 1558.69 L1682.53 1558.69 L1682.53 1561.64 L1660.28 1561.64 L1660.28 1558.69 Z\" fill=\"#000000\" fill-rule=\"evenodd\" fill-opacity=\"1\" /><path clip-path=\"url(#clip220)\" d=\"M 0 0 M1686.94 1568.36 L1692.67 1568.36 L1692.67 1548.59 L1686.44 1549.84 L1686.44 1546.64 L1692.64 1545.39 L1696.15 1545.39 L1696.15 1568.36 L1701.87 1568.36 L1701.87 1571.31 L1686.94 1571.31 L1686.94 1568.36 Z\" fill=\"#000000\" fill-rule=\"evenodd\" fill-opacity=\"1\" /><path clip-path=\"url(#clip220)\" d=\"M 0 0 M1832.91 1547.7 Q1830.2 1547.7 1828.83 1550.37 Q1827.47 1553.03 1827.47 1558.38 Q1827.47 1563.71 1828.83 1566.38 Q1830.2 1569.04 1832.91 1569.04 Q1835.63 1569.04 1836.99 1566.38 Q1838.36 1563.71 1838.36 1558.38 Q1838.36 1553.03 1836.99 1550.37 Q1835.63 1547.7 1832.91 1547.7 M1832.91 1544.92 Q1837.26 1544.92 1839.56 1548.38 Q1841.87 1551.82 1841.87 1558.38 Q1841.87 1564.92 1839.56 1568.38 Q1837.26 1571.82 1832.91 1571.82 Q1828.55 1571.82 1826.24 1568.38 Q1823.95 1564.92 1823.95 1558.38 Q1823.95 1551.82 1826.24 1548.38 Q1828.55 1544.92 1832.91 1544.92 Z\" fill=\"#000000\" fill-rule=\"evenodd\" fill-opacity=\"1\" /><path clip-path=\"url(#clip220)\" d=\"M 0 0 M1977.52 1568.36 L1983.25 1568.36 L1983.25 1548.59 L1977.02 1549.84 L1977.02 1546.64 L1983.22 1545.39 L1986.73 1545.39 L1986.73 1568.36 L1992.46 1568.36 L1992.46 1571.31 L1977.52 1571.31 L1977.52 1568.36 Z\" fill=\"#000000\" fill-rule=\"evenodd\" fill-opacity=\"1\" /><path clip-path=\"url(#clip220)\" d=\"M 0 0 M2132.56 1568.36 L2144.8 1568.36 L2144.8 1571.31 L2128.34 1571.31 L2128.34 1568.36 Q2130.34 1566.29 2133.77 1562.82 Q2137.23 1559.33 2138.11 1558.33 Q2139.8 1556.43 2140.46 1555.13 Q2141.14 1553.81 2141.14 1552.54 Q2141.14 1550.48 2139.68 1549.18 Q2138.24 1547.87 2135.91 1547.87 Q2134.26 1547.87 2132.42 1548.45 Q2130.6 1549.02 2128.51 1550.18 L2128.51 1546.64 Q2130.63 1545.79 2132.47 1545.36 Q2134.31 1544.92 2135.84 1544.92 Q2139.87 1544.92 2142.26 1546.94 Q2144.66 1548.95 2144.66 1552.32 Q2144.66 1553.92 2144.05 1555.36 Q2143.46 1556.78 2141.88 1558.73 Q2141.45 1559.23 2139.12 1561.64 Q2136.79 1564.04 2132.56 1568.36 Z\" fill=\"#000000\" fill-rule=\"evenodd\" fill-opacity=\"1\" /><path clip-path=\"url(#clip220)\" d=\"M 0 0 M2291.59 1557.34 Q2294.1 1557.87 2295.51 1559.58 Q2296.93 1561.28 2296.93 1563.78 Q2296.93 1567.61 2294.29 1569.71 Q2291.66 1571.82 2286.79 1571.82 Q2285.16 1571.82 2283.43 1571.49 Q2281.71 1571.17 2279.87 1570.53 L2279.87 1567.15 Q2281.33 1568 2283.06 1568.43 Q2284.8 1568.86 2286.69 1568.86 Q2289.99 1568.86 2291.71 1567.56 Q2293.44 1566.26 2293.44 1563.78 Q2293.44 1561.49 2291.83 1560.2 Q2290.23 1558.9 2287.37 1558.9 L2284.35 1558.9 L2284.35 1556.02 L2287.51 1556.02 Q2290.09 1556.02 2291.46 1554.99 Q2292.84 1553.95 2292.84 1552.01 Q2292.84 1550.01 2291.41 1548.95 Q2290.01 1547.87 2287.37 1547.87 Q2285.93 1547.87 2284.28 1548.19 Q2282.63 1548.5 2280.65 1549.16 L2280.65 1546.03 Q2282.65 1545.48 2284.38 1545.2 Q2286.13 1544.92 2287.68 1544.92 Q2291.67 1544.92 2294 1546.75 Q2296.33 1548.55 2296.33 1551.64 Q2296.33 1553.79 2295.09 1555.29 Q2293.86 1556.76 2291.59 1557.34 Z\" fill=\"#000000\" fill-rule=\"evenodd\" fill-opacity=\"1\" /><polyline clip-path=\"url(#clip223)\" style=\"stroke:#000000; stroke-width:2; stroke-opacity:0.1; fill:none\" points=\"\n",
       "  1286.99,1346.26 2352.76,1346.26 \n",
       "  \"/>\n",
       "<polyline clip-path=\"url(#clip223)\" style=\"stroke:#000000; stroke-width:2; stroke-opacity:0.1; fill:none\" points=\"\n",
       "  1286.99,997.454 2352.76,997.454 \n",
       "  \"/>\n",
       "<polyline clip-path=\"url(#clip223)\" style=\"stroke:#000000; stroke-width:2; stroke-opacity:0.1; fill:none\" points=\"\n",
       "  1286.99,648.653 2352.76,648.653 \n",
       "  \"/>\n",
       "<polyline clip-path=\"url(#clip223)\" style=\"stroke:#000000; stroke-width:2; stroke-opacity:0.1; fill:none\" points=\"\n",
       "  1286.99,299.851 2352.76,299.851 \n",
       "  \"/>\n",
       "<polyline clip-path=\"url(#clip220)\" style=\"stroke:#000000; stroke-width:4; stroke-opacity:1; fill:none\" points=\"\n",
       "  1286.99,1521.01 1286.99,62.9921 \n",
       "  \"/>\n",
       "<polyline clip-path=\"url(#clip220)\" style=\"stroke:#000000; stroke-width:4; stroke-opacity:1; fill:none\" points=\"\n",
       "  1286.99,1346.26 1299.78,1346.26 \n",
       "  \"/>\n",
       "<polyline clip-path=\"url(#clip220)\" style=\"stroke:#000000; stroke-width:4; stroke-opacity:1; fill:none\" points=\"\n",
       "  1286.99,997.454 1299.78,997.454 \n",
       "  \"/>\n",
       "<polyline clip-path=\"url(#clip220)\" style=\"stroke:#000000; stroke-width:4; stroke-opacity:1; fill:none\" points=\"\n",
       "  1286.99,648.653 1299.78,648.653 \n",
       "  \"/>\n",
       "<polyline clip-path=\"url(#clip220)\" style=\"stroke:#000000; stroke-width:4; stroke-opacity:1; fill:none\" points=\"\n",
       "  1286.99,299.851 1299.78,299.851 \n",
       "  \"/>\n",
       "<path clip-path=\"url(#clip220)\" d=\"M 0 0 M1158.56 1346.71 L1188.24 1346.71 L1188.24 1350.64 L1158.56 1350.64 L1158.56 1346.71 Z\" fill=\"#000000\" fill-rule=\"evenodd\" fill-opacity=\"1\" /><path clip-path=\"url(#clip220)\" d=\"M 0 0 M1194.12 1359.6 L1201.76 1359.6 L1201.76 1333.23 L1193.45 1334.9 L1193.45 1330.64 L1201.71 1328.98 L1206.39 1328.98 L1206.39 1359.6 L1214.02 1359.6 L1214.02 1363.54 L1194.12 1363.54 L1194.12 1359.6 Z\" fill=\"#000000\" fill-rule=\"evenodd\" fill-opacity=\"1\" /><path clip-path=\"url(#clip220)\" d=\"M 0 0 M1219.09 1357.66 L1223.98 1357.66 L1223.98 1363.54 L1219.09 1363.54 L1219.09 1357.66 Z\" fill=\"#000000\" fill-rule=\"evenodd\" fill-opacity=\"1\" /><path clip-path=\"url(#clip220)\" d=\"M 0 0 M1239.05 1332.05 Q1235.44 1332.05 1233.61 1335.62 Q1231.8 1339.16 1231.8 1346.29 Q1231.8 1353.4 1233.61 1356.96 Q1235.44 1360.5 1239.05 1360.5 Q1242.68 1360.5 1244.49 1356.96 Q1246.32 1353.4 1246.32 1346.29 Q1246.32 1339.16 1244.49 1335.62 Q1242.68 1332.05 1239.05 1332.05 M1239.05 1328.35 Q1244.86 1328.35 1247.91 1332.96 Q1250.99 1337.54 1250.99 1346.29 Q1250.99 1355.02 1247.91 1359.62 Q1244.86 1364.21 1239.05 1364.21 Q1233.24 1364.21 1230.16 1359.62 Q1227.1 1355.02 1227.1 1346.29 Q1227.1 1337.54 1230.16 1332.96 Q1233.24 1328.35 1239.05 1328.35 Z\" fill=\"#000000\" fill-rule=\"evenodd\" fill-opacity=\"1\" /><path clip-path=\"url(#clip220)\" d=\"M 0 0 M1158.33 997.906 L1188.01 997.906 L1188.01 1001.84 L1158.33 1001.84 L1158.33 997.906 Z\" fill=\"#000000\" fill-rule=\"evenodd\" fill-opacity=\"1\" /><path clip-path=\"url(#clip220)\" d=\"M 0 0 M1203.08 983.253 Q1199.46 983.253 1197.64 986.818 Q1195.83 990.359 1195.83 997.489 Q1195.83 1004.6 1197.64 1008.16 Q1199.46 1011.7 1203.08 1011.7 Q1206.71 1011.7 1208.52 1008.16 Q1210.34 1004.6 1210.34 997.489 Q1210.34 990.359 1208.52 986.818 Q1206.71 983.253 1203.08 983.253 M1203.08 979.549 Q1208.89 979.549 1211.94 984.156 Q1215.02 988.739 1215.02 997.489 Q1215.02 1006.22 1211.94 1010.82 Q1208.89 1015.41 1203.08 1015.41 Q1197.27 1015.41 1194.19 1010.82 Q1191.13 1006.22 1191.13 997.489 Q1191.13 988.739 1194.19 984.156 Q1197.27 979.549 1203.08 979.549 Z\" fill=\"#000000\" fill-rule=\"evenodd\" fill-opacity=\"1\" /><path clip-path=\"url(#clip220)\" d=\"M 0 0 M1220.09 1008.85 L1224.97 1008.85 L1224.97 1014.73 L1220.09 1014.73 L1220.09 1008.85 Z\" fill=\"#000000\" fill-rule=\"evenodd\" fill-opacity=\"1\" /><path clip-path=\"url(#clip220)\" d=\"M 0 0 M1230.09 980.174 L1248.45 980.174 L1248.45 984.109 L1234.37 984.109 L1234.37 992.582 Q1235.39 992.234 1236.41 992.072 Q1237.43 991.887 1238.45 991.887 Q1244.23 991.887 1247.61 995.058 Q1250.99 998.23 1250.99 1003.65 Q1250.99 1009.22 1247.52 1012.33 Q1244.05 1015.41 1237.73 1015.41 Q1235.55 1015.41 1233.28 1015.04 Q1231.04 1014.66 1228.63 1013.92 L1228.63 1009.22 Q1230.71 1010.36 1232.94 1010.91 Q1235.16 1011.47 1237.64 1011.47 Q1241.64 1011.47 1243.98 1009.36 Q1246.32 1007.26 1246.32 1003.65 Q1246.32 1000.04 1243.98 997.929 Q1241.64 995.822 1237.64 995.822 Q1235.76 995.822 1233.89 996.239 Q1232.03 996.656 1230.09 997.535 L1230.09 980.174 Z\" fill=\"#000000\" fill-rule=\"evenodd\" fill-opacity=\"1\" /><path clip-path=\"url(#clip220)\" d=\"M 0 0 M1202.08 634.451 Q1198.47 634.451 1196.64 638.016 Q1194.84 641.558 1194.84 648.687 Q1194.84 655.794 1196.64 659.359 Q1198.47 662.9 1202.08 662.9 Q1205.71 662.9 1207.52 659.359 Q1209.35 655.794 1209.35 648.687 Q1209.35 641.558 1207.52 638.016 Q1205.71 634.451 1202.08 634.451 M1202.08 630.748 Q1207.89 630.748 1210.95 635.354 Q1214.02 639.937 1214.02 648.687 Q1214.02 657.414 1210.95 662.021 Q1207.89 666.604 1202.08 666.604 Q1196.27 666.604 1193.19 662.021 Q1190.14 657.414 1190.14 648.687 Q1190.14 639.937 1193.19 635.354 Q1196.27 630.748 1202.08 630.748 Z\" fill=\"#000000\" fill-rule=\"evenodd\" fill-opacity=\"1\" /><path clip-path=\"url(#clip220)\" d=\"M 0 0 M1219.09 660.053 L1223.98 660.053 L1223.98 665.933 L1219.09 665.933 L1219.09 660.053 Z\" fill=\"#000000\" fill-rule=\"evenodd\" fill-opacity=\"1\" /><path clip-path=\"url(#clip220)\" d=\"M 0 0 M1239.05 634.451 Q1235.44 634.451 1233.61 638.016 Q1231.8 641.558 1231.8 648.687 Q1231.8 655.794 1233.61 659.359 Q1235.44 662.9 1239.05 662.9 Q1242.68 662.9 1244.49 659.359 Q1246.32 655.794 1246.32 648.687 Q1246.32 641.558 1244.49 638.016 Q1242.68 634.451 1239.05 634.451 M1239.05 630.748 Q1244.86 630.748 1247.91 635.354 Q1250.99 639.937 1250.99 648.687 Q1250.99 657.414 1247.91 662.021 Q1244.86 666.604 1239.05 666.604 Q1233.24 666.604 1230.16 662.021 Q1227.1 657.414 1227.1 648.687 Q1227.1 639.937 1230.16 635.354 Q1233.24 630.748 1239.05 630.748 Z\" fill=\"#000000\" fill-rule=\"evenodd\" fill-opacity=\"1\" /><path clip-path=\"url(#clip220)\" d=\"M 0 0 M1203.08 285.65 Q1199.46 285.65 1197.64 289.215 Q1195.83 292.756 1195.83 299.886 Q1195.83 306.992 1197.64 310.557 Q1199.46 314.099 1203.08 314.099 Q1206.71 314.099 1208.52 310.557 Q1210.34 306.992 1210.34 299.886 Q1210.34 292.756 1208.52 289.215 Q1206.71 285.65 1203.08 285.65 M1203.08 281.946 Q1208.89 281.946 1211.94 286.553 Q1215.02 291.136 1215.02 299.886 Q1215.02 308.613 1211.94 313.219 Q1208.89 317.802 1203.08 317.802 Q1197.27 317.802 1194.19 313.219 Q1191.13 308.613 1191.13 299.886 Q1191.13 291.136 1194.19 286.553 Q1197.27 281.946 1203.08 281.946 Z\" fill=\"#000000\" fill-rule=\"evenodd\" fill-opacity=\"1\" /><path clip-path=\"url(#clip220)\" d=\"M 0 0 M1220.09 311.252 L1224.97 311.252 L1224.97 317.131 L1220.09 317.131 L1220.09 311.252 Z\" fill=\"#000000\" fill-rule=\"evenodd\" fill-opacity=\"1\" /><path clip-path=\"url(#clip220)\" d=\"M 0 0 M1230.09 282.571 L1248.45 282.571 L1248.45 286.506 L1234.37 286.506 L1234.37 294.978 Q1235.39 294.631 1236.41 294.469 Q1237.43 294.284 1238.45 294.284 Q1244.23 294.284 1247.61 297.455 Q1250.99 300.627 1250.99 306.043 Q1250.99 311.622 1247.52 314.724 Q1244.05 317.802 1237.73 317.802 Q1235.55 317.802 1233.28 317.432 Q1231.04 317.062 1228.63 316.321 L1228.63 311.622 Q1230.71 312.756 1232.94 313.312 Q1235.16 313.867 1237.64 313.867 Q1241.64 313.867 1243.98 311.761 Q1246.32 309.654 1246.32 306.043 Q1246.32 302.432 1243.98 300.326 Q1241.64 298.219 1237.64 298.219 Q1235.76 298.219 1233.89 298.636 Q1232.03 299.053 1230.09 299.932 L1230.09 282.571 Z\" fill=\"#000000\" fill-rule=\"evenodd\" fill-opacity=\"1\" /><path clip-path=\"url(#clip220)\" d=\"M 0 0 M1610.53 6.912 L1630.4 6.912 L1630.4 10.8472 L1615.21 10.8472 L1615.21 21.0323 L1628.91 21.0323 L1628.91 24.9675 L1615.21 24.9675 L1615.21 41.472 L1610.53 41.472 L1610.53 6.912 Z\" fill=\"#000000\" fill-rule=\"evenodd\" fill-opacity=\"1\" /><path clip-path=\"url(#clip220)\" d=\"M 0 0 M1631.83 31.2406 L1631.83 15.5462 L1636.09 15.5462 L1636.09 31.0785 Q1636.09 34.7591 1637.53 36.6109 Q1638.96 38.4396 1641.83 38.4396 Q1645.28 38.4396 1647.27 36.2405 Q1649.28 34.0415 1649.28 30.2452 L1649.28 15.5462 L1653.54 15.5462 L1653.54 41.472 L1649.28 41.472 L1649.28 37.4905 Q1647.73 39.8516 1645.67 41.009 Q1643.64 42.1433 1640.93 42.1433 Q1636.46 42.1433 1634.15 39.3655 Q1631.83 36.5878 1631.83 31.2406 M1642.55 14.9212 L1642.55 14.9212 Z\" fill=\"#000000\" fill-rule=\"evenodd\" fill-opacity=\"1\" /><path clip-path=\"url(#clip220)\" d=\"M 0 0 M1656.16 15.5462 L1676.39 15.5462 L1676.39 19.4351 L1660.37 38.0692 L1676.39 38.0692 L1676.39 41.472 L1655.58 41.472 L1655.58 37.5831 L1671.6 18.949 L1656.16 18.949 L1656.16 15.5462 Z\" fill=\"#000000\" fill-rule=\"evenodd\" fill-opacity=\"1\" /><path clip-path=\"url(#clip220)\" d=\"M 0 0 M1679.01 15.5462 L1699.24 15.5462 L1699.24 19.4351 L1683.22 38.0692 L1699.24 38.0692 L1699.24 41.472 L1678.43 41.472 L1678.43 37.5831 L1694.45 18.949 L1679.01 18.949 L1679.01 15.5462 Z\" fill=\"#000000\" fill-rule=\"evenodd\" fill-opacity=\"1\" /><path clip-path=\"url(#clip220)\" d=\"M 0 0 M1714.49 43.8794 Q1712.69 48.509 1710.97 49.921 Q1709.26 51.3331 1706.39 51.3331 L1702.99 51.3331 L1702.99 47.7683 L1705.49 47.7683 Q1707.25 47.7683 1708.22 46.9349 Q1709.19 46.1016 1710.37 42.9998 L1711.14 41.0553 L1700.65 15.5462 L1705.16 15.5462 L1713.27 35.8239 L1721.37 15.5462 L1725.88 15.5462 L1714.49 43.8794 Z\" fill=\"#000000\" fill-rule=\"evenodd\" fill-opacity=\"1\" /><path clip-path=\"url(#clip220)\" d=\"M 0 0 M1742.09 11.5185 L1735.74 28.7174 L1748.45 28.7174 L1742.09 11.5185 M1739.45 6.912 L1744.75 6.912 L1757.92 41.472 L1753.06 41.472 L1749.91 32.6063 L1734.33 32.6063 L1731.18 41.472 L1726.25 41.472 L1739.45 6.912 Z\" fill=\"#000000\" fill-rule=\"evenodd\" fill-opacity=\"1\" /><path clip-path=\"url(#clip220)\" d=\"M 0 0 M1778.96 25.2684 Q1780.46 25.7776 1781.88 27.4443 Q1783.31 29.111 1784.75 32.0276 L1789.49 41.472 L1784.47 41.472 L1780.05 32.6063 Q1778.33 29.1341 1776.71 27.9998 Q1775.12 26.8656 1772.34 26.8656 L1767.25 26.8656 L1767.25 41.472 L1762.57 41.472 L1762.57 6.912 L1773.13 6.912 Q1779.05 6.912 1781.97 9.38884 Q1784.89 11.8657 1784.89 16.8657 Q1784.89 20.1295 1783.36 22.2823 Q1781.85 24.4351 1778.96 25.2684 M1767.25 10.7546 L1767.25 23.023 L1773.13 23.023 Q1776.51 23.023 1778.22 21.4721 Q1779.96 19.898 1779.96 16.8657 Q1779.96 13.8333 1778.22 12.3055 Q1776.51 10.7546 1773.13 10.7546 L1767.25 10.7546 Z\" fill=\"#000000\" fill-rule=\"evenodd\" fill-opacity=\"1\" /><path clip-path=\"url(#clip220)\" d=\"M 0 0 M1785.9 6.912 L1815.14 6.912 L1815.14 10.8472 L1802.87 10.8472 L1802.87 41.472 L1798.17 41.472 L1798.17 10.8472 L1785.9 10.8472 L1785.9 6.912 Z\" fill=\"#000000\" fill-rule=\"evenodd\" fill-opacity=\"1\" /><path clip-path=\"url(#clip220)\" d=\"M 0 0 M1849.7 19.5277 Q1848.98 19.111 1848.13 18.9258 Q1847.29 18.7175 1846.27 18.7175 Q1842.66 18.7175 1840.72 21.0786 Q1838.8 23.4165 1838.8 27.8147 L1838.8 41.472 L1834.52 41.472 L1834.52 15.5462 L1838.8 15.5462 L1838.8 19.574 Q1840.14 17.2129 1842.29 16.0786 Q1844.45 14.9212 1847.52 14.9212 Q1847.96 14.9212 1848.5 14.9907 Q1849.03 15.037 1849.68 15.1527 L1849.7 19.5277 Z\" fill=\"#000000\" fill-rule=\"evenodd\" fill-opacity=\"1\" /><path clip-path=\"url(#clip220)\" d=\"M 0 0 M1874.89 25.8239 L1874.89 41.472 L1870.63 41.472 L1870.63 25.9628 Q1870.63 22.2823 1869.19 20.4536 Q1867.76 18.6249 1864.89 18.6249 Q1861.44 18.6249 1859.45 20.824 Q1857.45 23.023 1857.45 26.8193 L1857.45 41.472 L1853.17 41.472 L1853.17 5.45367 L1857.45 5.45367 L1857.45 19.574 Q1858.98 17.236 1861.04 16.0786 Q1863.13 14.9212 1865.83 14.9212 Q1870.3 14.9212 1872.59 17.699 Q1874.89 20.4536 1874.89 25.8239 Z\" fill=\"#000000\" fill-rule=\"evenodd\" fill-opacity=\"1\" /><path clip-path=\"url(#clip220)\" d=\"M 0 0 M1889.4 18.5323 Q1885.97 18.5323 1883.98 21.2175 Q1881.99 23.8795 1881.99 28.5323 Q1881.99 33.185 1883.96 35.8702 Q1885.95 38.5322 1889.4 38.5322 Q1892.8 38.5322 1894.79 35.847 Q1896.78 33.1619 1896.78 28.5323 Q1896.78 23.9258 1894.79 21.2406 Q1892.8 18.5323 1889.4 18.5323 M1889.4 14.9212 Q1894.95 14.9212 1898.13 18.5323 Q1901.3 22.1434 1901.3 28.5323 Q1901.3 34.898 1898.13 38.5322 Q1894.95 42.1433 1889.4 42.1433 Q1883.82 42.1433 1880.65 38.5322 Q1877.5 34.898 1877.5 28.5323 Q1877.5 22.1434 1880.65 18.5323 Q1883.82 14.9212 1889.4 14.9212 Z\" fill=\"#000000\" fill-rule=\"evenodd\" fill-opacity=\"1\" /><path clip-path=\"url(#clip220)\" d=\"M 0 0 M1921.39 19.9443 L1951.07 19.9443 L1951.07 23.8332 L1921.39 23.8332 L1921.39 19.9443 M1921.39 29.3887 L1951.07 29.3887 L1951.07 33.3239 L1921.39 33.3239 L1921.39 29.3887 Z\" fill=\"#000000\" fill-rule=\"evenodd\" fill-opacity=\"1\" /><path clip-path=\"url(#clip220)\" d=\"M 0 0 M1981.2 9.99069 Q1977.59 9.99069 1975.76 13.5555 Q1973.96 17.0971 1973.96 24.2267 Q1973.96 31.3332 1975.76 34.898 Q1977.59 38.4396 1981.2 38.4396 Q1984.84 38.4396 1986.64 34.898 Q1988.47 31.3332 1988.47 24.2267 Q1988.47 17.0971 1986.64 13.5555 Q1984.84 9.99069 1981.2 9.99069 M1981.2 6.287 Q1987.01 6.287 1990.07 10.8935 Q1993.15 15.4768 1993.15 24.2267 Q1993.15 32.9535 1990.07 37.56 Q1987.01 42.1433 1981.2 42.1433 Q1975.39 42.1433 1972.32 37.56 Q1969.26 32.9535 1969.26 24.2267 Q1969.26 15.4768 1972.32 10.8935 Q1975.39 6.287 1981.2 6.287 Z\" fill=\"#000000\" fill-rule=\"evenodd\" fill-opacity=\"1\" /><path clip-path=\"url(#clip220)\" d=\"M 0 0 M1998.22 35.5924 L2003.1 35.5924 L2003.1 41.472 L1998.22 41.472 L1998.22 35.5924 Z\" fill=\"#000000\" fill-rule=\"evenodd\" fill-opacity=\"1\" /><path clip-path=\"url(#clip220)\" d=\"M 0 0 M2006.99 6.912 L2029.21 6.912 L2029.21 8.90273 L2016.67 41.472 L2011.78 41.472 L2023.59 10.8472 L2006.99 10.8472 L2006.99 6.912 Z\" fill=\"#000000\" fill-rule=\"evenodd\" fill-opacity=\"1\" /><circle clip-path=\"url(#clip223)\" cx=\"2213.48\" cy=\"193.861\" r=\"14\" fill=\"#009af9\" fill-rule=\"evenodd\" fill-opacity=\"1\" stroke=\"#000000\" stroke-opacity=\"1\" stroke-width=\"3.2\"/>\n",
       "<circle clip-path=\"url(#clip223)\" cx=\"2179.07\" cy=\"126.997\" r=\"14\" fill=\"#009af9\" fill-rule=\"evenodd\" fill-opacity=\"1\" stroke=\"#000000\" stroke-opacity=\"1\" stroke-width=\"3.2\"/>\n",
       "<circle clip-path=\"url(#clip223)\" cx=\"2271.67\" cy=\"744.465\" r=\"14\" fill=\"#009af9\" fill-rule=\"evenodd\" fill-opacity=\"1\" stroke=\"#000000\" stroke-opacity=\"1\" stroke-width=\"3.2\"/>\n",
       "<circle clip-path=\"url(#clip223)\" cx=\"2232.66\" cy=\"781.25\" r=\"14\" fill=\"#009af9\" fill-rule=\"evenodd\" fill-opacity=\"1\" stroke=\"#000000\" stroke-opacity=\"1\" stroke-width=\"3.2\"/>\n",
       "<circle clip-path=\"url(#clip223)\" cx=\"2231.5\" cy=\"225.347\" r=\"14\" fill=\"#009af9\" fill-rule=\"evenodd\" fill-opacity=\"1\" stroke=\"#000000\" stroke-opacity=\"1\" stroke-width=\"3.2\"/>\n",
       "<circle clip-path=\"url(#clip223)\" cx=\"2265.96\" cy=\"1299.42\" r=\"14\" fill=\"#009af9\" fill-rule=\"evenodd\" fill-opacity=\"1\" stroke=\"#000000\" stroke-opacity=\"1\" stroke-width=\"3.2\"/>\n",
       "<circle clip-path=\"url(#clip223)\" cx=\"2238.88\" cy=\"723.081\" r=\"14\" fill=\"#009af9\" fill-rule=\"evenodd\" fill-opacity=\"1\" stroke=\"#000000\" stroke-opacity=\"1\" stroke-width=\"3.2\"/>\n",
       "<circle clip-path=\"url(#clip223)\" cx=\"2322.59\" cy=\"999.742\" r=\"14\" fill=\"#009af9\" fill-rule=\"evenodd\" fill-opacity=\"1\" stroke=\"#000000\" stroke-opacity=\"1\" stroke-width=\"3.2\"/>\n",
       "<circle clip-path=\"url(#clip223)\" cx=\"2231.69\" cy=\"529.777\" r=\"14\" fill=\"#009af9\" fill-rule=\"evenodd\" fill-opacity=\"1\" stroke=\"#000000\" stroke-opacity=\"1\" stroke-width=\"3.2\"/>\n",
       "<circle clip-path=\"url(#clip223)\" cx=\"2198.14\" cy=\"511.98\" r=\"14\" fill=\"#009af9\" fill-rule=\"evenodd\" fill-opacity=\"1\" stroke=\"#000000\" stroke-opacity=\"1\" stroke-width=\"3.2\"/>\n",
       "<circle clip-path=\"url(#clip223)\" cx=\"2253.5\" cy=\"459.561\" r=\"14\" fill=\"#009af9\" fill-rule=\"evenodd\" fill-opacity=\"1\" stroke=\"#000000\" stroke-opacity=\"1\" stroke-width=\"3.2\"/>\n",
       "<circle clip-path=\"url(#clip223)\" cx=\"2245.19\" cy=\"766.936\" r=\"14\" fill=\"#009af9\" fill-rule=\"evenodd\" fill-opacity=\"1\" stroke=\"#000000\" stroke-opacity=\"1\" stroke-width=\"3.2\"/>\n",
       "<circle clip-path=\"url(#clip223)\" cx=\"2243.45\" cy=\"568.421\" r=\"14\" fill=\"#009af9\" fill-rule=\"evenodd\" fill-opacity=\"1\" stroke=\"#000000\" stroke-opacity=\"1\" stroke-width=\"3.2\"/>\n",
       "<circle clip-path=\"url(#clip223)\" cx=\"2182.59\" cy=\"575.04\" r=\"14\" fill=\"#009af9\" fill-rule=\"evenodd\" fill-opacity=\"1\" stroke=\"#000000\" stroke-opacity=\"1\" stroke-width=\"3.2\"/>\n",
       "<circle clip-path=\"url(#clip223)\" cx=\"2249.9\" cy=\"865.694\" r=\"14\" fill=\"#009af9\" fill-rule=\"evenodd\" fill-opacity=\"1\" stroke=\"#000000\" stroke-opacity=\"1\" stroke-width=\"3.2\"/>\n",
       "<circle clip-path=\"url(#clip223)\" cx=\"1610.62\" cy=\"296.928\" r=\"14\" fill=\"#e26f46\" fill-rule=\"evenodd\" fill-opacity=\"1\" stroke=\"#000000\" stroke-opacity=\"1\" stroke-width=\"3.2\"/>\n",
       "<circle clip-path=\"url(#clip223)\" cx=\"1805.43\" cy=\"1224.6\" r=\"14\" fill=\"#e26f46\" fill-rule=\"evenodd\" fill-opacity=\"1\" stroke=\"#000000\" stroke-opacity=\"1\" stroke-width=\"3.2\"/>\n",
       "<circle clip-path=\"url(#clip223)\" cx=\"1709.55\" cy=\"761.896\" r=\"14\" fill=\"#e26f46\" fill-rule=\"evenodd\" fill-opacity=\"1\" stroke=\"#000000\" stroke-opacity=\"1\" stroke-width=\"3.2\"/>\n",
       "<circle clip-path=\"url(#clip223)\" cx=\"1743.74\" cy=\"985.793\" r=\"14\" fill=\"#e26f46\" fill-rule=\"evenodd\" fill-opacity=\"1\" stroke=\"#000000\" stroke-opacity=\"1\" stroke-width=\"3.2\"/>\n",
       "<circle clip-path=\"url(#clip223)\" cx=\"1782.63\" cy=\"795.973\" r=\"14\" fill=\"#e26f46\" fill-rule=\"evenodd\" fill-opacity=\"1\" stroke=\"#000000\" stroke-opacity=\"1\" stroke-width=\"3.2\"/>\n",
       "<circle clip-path=\"url(#clip223)\" cx=\"1843.59\" cy=\"1138.75\" r=\"14\" fill=\"#e26f46\" fill-rule=\"evenodd\" fill-opacity=\"1\" stroke=\"#000000\" stroke-opacity=\"1\" stroke-width=\"3.2\"/>\n",
       "<circle clip-path=\"url(#clip223)\" cx=\"1710.35\" cy=\"512.582\" r=\"14\" fill=\"#e26f46\" fill-rule=\"evenodd\" fill-opacity=\"1\" stroke=\"#000000\" stroke-opacity=\"1\" stroke-width=\"3.2\"/>\n",
       "<circle clip-path=\"url(#clip223)\" cx=\"1797.3\" cy=\"880.202\" r=\"14\" fill=\"#e26f46\" fill-rule=\"evenodd\" fill-opacity=\"1\" stroke=\"#000000\" stroke-opacity=\"1\" stroke-width=\"3.2\"/>\n",
       "<circle clip-path=\"url(#clip223)\" cx=\"1683.5\" cy=\"735.407\" r=\"14\" fill=\"#e26f46\" fill-rule=\"evenodd\" fill-opacity=\"1\" stroke=\"#000000\" stroke-opacity=\"1\" stroke-width=\"3.2\"/>\n",
       "<circle clip-path=\"url(#clip223)\" cx=\"1778.74\" cy=\"695.269\" r=\"14\" fill=\"#e26f46\" fill-rule=\"evenodd\" fill-opacity=\"1\" stroke=\"#000000\" stroke-opacity=\"1\" stroke-width=\"3.2\"/>\n",
       "<circle clip-path=\"url(#clip223)\" cx=\"1735.48\" cy=\"635.349\" r=\"14\" fill=\"#e26f46\" fill-rule=\"evenodd\" fill-opacity=\"1\" stroke=\"#000000\" stroke-opacity=\"1\" stroke-width=\"3.2\"/>\n",
       "<circle clip-path=\"url(#clip223)\" cx=\"1778.93\" cy=\"999.699\" r=\"14\" fill=\"#e26f46\" fill-rule=\"evenodd\" fill-opacity=\"1\" stroke=\"#000000\" stroke-opacity=\"1\" stroke-width=\"3.2\"/>\n",
       "<circle clip-path=\"url(#clip223)\" cx=\"1709.49\" cy=\"907.239\" r=\"14\" fill=\"#e26f46\" fill-rule=\"evenodd\" fill-opacity=\"1\" stroke=\"#000000\" stroke-opacity=\"1\" stroke-width=\"3.2\"/>\n",
       "<circle clip-path=\"url(#clip223)\" cx=\"1947\" cy=\"1347.03\" r=\"14\" fill=\"#e26f46\" fill-rule=\"evenodd\" fill-opacity=\"1\" stroke=\"#000000\" stroke-opacity=\"1\" stroke-width=\"3.2\"/>\n",
       "<circle clip-path=\"url(#clip223)\" cx=\"1754.05\" cy=\"1479.74\" r=\"14\" fill=\"#3da44d\" fill-rule=\"evenodd\" fill-opacity=\"1\" stroke=\"#000000\" stroke-opacity=\"1\" stroke-width=\"3.2\"/>\n",
       "<circle clip-path=\"url(#clip223)\" cx=\"1389.84\" cy=\"104.257\" r=\"14\" fill=\"#3da44d\" fill-rule=\"evenodd\" fill-opacity=\"1\" stroke=\"#000000\" stroke-opacity=\"1\" stroke-width=\"3.2\"/>\n",
       "<circle clip-path=\"url(#clip223)\" cx=\"1536.95\" cy=\"620.239\" r=\"14\" fill=\"#3da44d\" fill-rule=\"evenodd\" fill-opacity=\"1\" stroke=\"#000000\" stroke-opacity=\"1\" stroke-width=\"3.2\"/>\n",
       "<circle clip-path=\"url(#clip223)\" cx=\"1512.9\" cy=\"389.505\" r=\"14\" fill=\"#3da44d\" fill-rule=\"evenodd\" fill-opacity=\"1\" stroke=\"#000000\" stroke-opacity=\"1\" stroke-width=\"3.2\"/>\n",
       "<circle clip-path=\"url(#clip223)\" cx=\"1580.57\" cy=\"479.806\" r=\"14\" fill=\"#3da44d\" fill-rule=\"evenodd\" fill-opacity=\"1\" stroke=\"#000000\" stroke-opacity=\"1\" stroke-width=\"3.2\"/>\n",
       "<circle clip-path=\"url(#clip223)\" cx=\"1559.26\" cy=\"799.443\" r=\"14\" fill=\"#3da44d\" fill-rule=\"evenodd\" fill-opacity=\"1\" stroke=\"#000000\" stroke-opacity=\"1\" stroke-width=\"3.2\"/>\n",
       "<circle clip-path=\"url(#clip223)\" cx=\"1465.57\" cy=\"436.927\" r=\"14\" fill=\"#3da44d\" fill-rule=\"evenodd\" fill-opacity=\"1\" stroke=\"#000000\" stroke-opacity=\"1\" stroke-width=\"3.2\"/>\n",
       "<circle clip-path=\"url(#clip223)\" cx=\"1613.8\" cy=\"748.969\" r=\"14\" fill=\"#3da44d\" fill-rule=\"evenodd\" fill-opacity=\"1\" stroke=\"#000000\" stroke-opacity=\"1\" stroke-width=\"3.2\"/>\n",
       "<circle clip-path=\"url(#clip223)\" cx=\"1565.07\" cy=\"593.877\" r=\"14\" fill=\"#3da44d\" fill-rule=\"evenodd\" fill-opacity=\"1\" stroke=\"#000000\" stroke-opacity=\"1\" stroke-width=\"3.2\"/>\n",
       "<circle clip-path=\"url(#clip223)\" cx=\"1387.74\" cy=\"402.833\" r=\"14\" fill=\"#3da44d\" fill-rule=\"evenodd\" fill-opacity=\"1\" stroke=\"#000000\" stroke-opacity=\"1\" stroke-width=\"3.2\"/>\n",
       "<circle clip-path=\"url(#clip223)\" cx=\"1470.4\" cy=\"325.998\" r=\"14\" fill=\"#3da44d\" fill-rule=\"evenodd\" fill-opacity=\"1\" stroke=\"#000000\" stroke-opacity=\"1\" stroke-width=\"3.2\"/>\n",
       "<circle clip-path=\"url(#clip223)\" cx=\"1448.51\" cy=\"656.914\" r=\"14\" fill=\"#3da44d\" fill-rule=\"evenodd\" fill-opacity=\"1\" stroke=\"#000000\" stroke-opacity=\"1\" stroke-width=\"3.2\"/>\n",
       "<circle clip-path=\"url(#clip223)\" cx=\"1507.23\" cy=\"551.751\" r=\"14\" fill=\"#3da44d\" fill-rule=\"evenodd\" fill-opacity=\"1\" stroke=\"#000000\" stroke-opacity=\"1\" stroke-width=\"3.2\"/>\n",
       "<circle clip-path=\"url(#clip223)\" cx=\"1666.62\" cy=\"450.609\" r=\"14\" fill=\"#3da44d\" fill-rule=\"evenodd\" fill-opacity=\"1\" stroke=\"#000000\" stroke-opacity=\"1\" stroke-width=\"3.2\"/>\n",
       "<circle clip-path=\"url(#clip223)\" cx=\"1317.16\" cy=\"266.947\" r=\"14\" fill=\"#3da44d\" fill-rule=\"evenodd\" fill-opacity=\"1\" stroke=\"#000000\" stroke-opacity=\"1\" stroke-width=\"3.2\"/>\n",
       "<circle clip-path=\"url(#clip223)\" cx=\"1543.69\" cy=\"615.135\" r=\"14\" fill=\"#3da44d\" fill-rule=\"evenodd\" fill-opacity=\"1\" stroke=\"#000000\" stroke-opacity=\"1\" stroke-width=\"3.2\"/>\n",
       "</svg>\n"
      ],
      "image/svg+xml": [
       "<?xml version=\"1.0\" encoding=\"utf-8\"?>\n",
       "<svg xmlns=\"http://www.w3.org/2000/svg\" xmlns:xlink=\"http://www.w3.org/1999/xlink\" width=\"600\" height=\"400\" viewBox=\"0 0 2400 1600\">\n",
       "<defs>\n",
       "  <clipPath id=\"clip190\">\n",
       "    <rect x=\"0\" y=\"0\" width=\"2400\" height=\"1600\"/>\n",
       "  </clipPath>\n",
       "</defs>\n",
       "<path clip-path=\"url(#clip190)\" d=\"\n",
       "M0 1600 L2400 1600 L2400 0 L0 0  Z\n",
       "  \" fill=\"#ffffff\" fill-rule=\"evenodd\" fill-opacity=\"1\"/>\n",
       "<defs>\n",
       "  <clipPath id=\"clip191\">\n",
       "    <rect x=\"480\" y=\"0\" width=\"1681\" height=\"1600\"/>\n",
       "  </clipPath>\n",
       "</defs>\n",
       "<path clip-path=\"url(#clip190)\" d=\"\n",
       "M86.9921 1521.01 L1152.76 1521.01 L1152.76 62.9921 L86.9921 62.9921  Z\n",
       "  \" fill=\"#ffffff\" fill-rule=\"evenodd\" fill-opacity=\"1\"/>\n",
       "<defs>\n",
       "  <clipPath id=\"clip192\">\n",
       "    <rect x=\"86\" y=\"62\" width=\"1067\" height=\"1459\"/>\n",
       "  </clipPath>\n",
       "</defs>\n",
       "<polyline clip-path=\"url(#clip192)\" style=\"stroke:#000000; stroke-width:2; stroke-opacity:0.1; fill:none\" points=\"\n",
       "  177.414,1521.01 177.414,62.9921 \n",
       "  \"/>\n",
       "<polyline clip-path=\"url(#clip192)\" style=\"stroke:#000000; stroke-width:2; stroke-opacity:0.1; fill:none\" points=\"\n",
       "  329.245,1521.01 329.245,62.9921 \n",
       "  \"/>\n",
       "<polyline clip-path=\"url(#clip192)\" style=\"stroke:#000000; stroke-width:2; stroke-opacity:0.1; fill:none\" points=\"\n",
       "  481.076,1521.01 481.076,62.9921 \n",
       "  \"/>\n",
       "<polyline clip-path=\"url(#clip192)\" style=\"stroke:#000000; stroke-width:2; stroke-opacity:0.1; fill:none\" points=\"\n",
       "  632.907,1521.01 632.907,62.9921 \n",
       "  \"/>\n",
       "<polyline clip-path=\"url(#clip192)\" style=\"stroke:#000000; stroke-width:2; stroke-opacity:0.1; fill:none\" points=\"\n",
       "  784.738,1521.01 784.738,62.9921 \n",
       "  \"/>\n",
       "<polyline clip-path=\"url(#clip192)\" style=\"stroke:#000000; stroke-width:2; stroke-opacity:0.1; fill:none\" points=\"\n",
       "  936.569,1521.01 936.569,62.9921 \n",
       "  \"/>\n",
       "<polyline clip-path=\"url(#clip192)\" style=\"stroke:#000000; stroke-width:2; stroke-opacity:0.1; fill:none\" points=\"\n",
       "  1088.4,1521.01 1088.4,62.9921 \n",
       "  \"/>\n",
       "<polyline clip-path=\"url(#clip190)\" style=\"stroke:#000000; stroke-width:4; stroke-opacity:1; fill:none\" points=\"\n",
       "  86.9921,1521.01 1152.76,1521.01 \n",
       "  \"/>\n",
       "<polyline clip-path=\"url(#clip190)\" style=\"stroke:#000000; stroke-width:4; stroke-opacity:1; fill:none\" points=\"\n",
       "  177.414,1521.01 177.414,1503.51 \n",
       "  \"/>\n",
       "<polyline clip-path=\"url(#clip190)\" style=\"stroke:#000000; stroke-width:4; stroke-opacity:1; fill:none\" points=\"\n",
       "  329.245,1521.01 329.245,1503.51 \n",
       "  \"/>\n",
       "<polyline clip-path=\"url(#clip190)\" style=\"stroke:#000000; stroke-width:4; stroke-opacity:1; fill:none\" points=\"\n",
       "  481.076,1521.01 481.076,1503.51 \n",
       "  \"/>\n",
       "<polyline clip-path=\"url(#clip190)\" style=\"stroke:#000000; stroke-width:4; stroke-opacity:1; fill:none\" points=\"\n",
       "  632.907,1521.01 632.907,1503.51 \n",
       "  \"/>\n",
       "<polyline clip-path=\"url(#clip190)\" style=\"stroke:#000000; stroke-width:4; stroke-opacity:1; fill:none\" points=\"\n",
       "  784.738,1521.01 784.738,1503.51 \n",
       "  \"/>\n",
       "<polyline clip-path=\"url(#clip190)\" style=\"stroke:#000000; stroke-width:4; stroke-opacity:1; fill:none\" points=\"\n",
       "  936.569,1521.01 936.569,1503.51 \n",
       "  \"/>\n",
       "<polyline clip-path=\"url(#clip190)\" style=\"stroke:#000000; stroke-width:4; stroke-opacity:1; fill:none\" points=\"\n",
       "  1088.4,1521.01 1088.4,1503.51 \n",
       "  \"/>\n",
       "<path clip-path=\"url(#clip190)\" d=\"M 0 0 M156.398 1558.69 L178.655 1558.69 L178.655 1561.64 L156.398 1561.64 L156.398 1558.69 Z\" fill=\"#000000\" fill-rule=\"evenodd\" fill-opacity=\"1\" /><path clip-path=\"url(#clip190)\" d=\"M 0 0 M193.082 1557.34 Q195.6 1557.87 197.006 1559.58 Q198.429 1561.28 198.429 1563.78 Q198.429 1567.61 195.791 1569.71 Q193.152 1571.82 188.291 1571.82 Q186.659 1571.82 184.923 1571.49 Q183.204 1571.17 181.364 1570.53 L181.364 1567.15 Q182.822 1568 184.558 1568.43 Q186.294 1568.86 188.186 1568.86 Q191.485 1568.86 193.204 1567.56 Q194.94 1566.26 194.94 1563.78 Q194.94 1561.49 193.325 1560.2 Q191.728 1558.9 188.864 1558.9 L185.843 1558.9 L185.843 1556.02 L189.002 1556.02 Q191.589 1556.02 192.961 1554.99 Q194.332 1553.95 194.332 1552.01 Q194.332 1550.01 192.909 1548.95 Q191.502 1547.87 188.864 1547.87 Q187.423 1547.87 185.773 1548.19 Q184.124 1548.5 182.145 1549.16 L182.145 1546.03 Q184.141 1545.48 185.877 1545.2 Q187.631 1544.92 189.176 1544.92 Q193.169 1544.92 195.495 1546.75 Q197.822 1548.55 197.822 1551.64 Q197.822 1553.79 196.589 1555.29 Q195.357 1556.76 193.082 1557.34 Z\" fill=\"#000000\" fill-rule=\"evenodd\" fill-opacity=\"1\" /><path clip-path=\"url(#clip190)\" d=\"M 0 0 M308.585 1558.69 L330.842 1558.69 L330.842 1561.64 L308.585 1561.64 L308.585 1558.69 Z\" fill=\"#000000\" fill-rule=\"evenodd\" fill-opacity=\"1\" /><path clip-path=\"url(#clip190)\" d=\"M 0 0 M337.665 1568.36 L349.905 1568.36 L349.905 1571.31 L333.446 1571.31 L333.446 1568.36 Q335.443 1566.29 338.88 1562.82 Q342.335 1559.33 343.221 1558.33 Q344.905 1556.43 345.564 1555.13 Q346.241 1553.81 346.241 1552.54 Q346.241 1550.48 344.783 1549.18 Q343.342 1547.87 341.016 1547.87 Q339.366 1547.87 337.526 1548.45 Q335.703 1549.02 333.62 1550.18 L333.62 1546.64 Q335.738 1545.79 337.578 1545.36 Q339.419 1544.92 340.946 1544.92 Q344.974 1544.92 347.37 1546.94 Q349.766 1548.95 349.766 1552.32 Q349.766 1553.92 349.158 1555.36 Q348.568 1556.78 346.988 1558.73 Q346.554 1559.23 344.228 1561.64 Q341.901 1564.04 337.665 1568.36 Z\" fill=\"#000000\" fill-rule=\"evenodd\" fill-opacity=\"1\" /><path clip-path=\"url(#clip190)\" d=\"M 0 0 M460.278 1558.69 L482.534 1558.69 L482.534 1561.64 L460.278 1561.64 L460.278 1558.69 Z\" fill=\"#000000\" fill-rule=\"evenodd\" fill-opacity=\"1\" /><path clip-path=\"url(#clip190)\" d=\"M 0 0 M486.944 1568.36 L492.673 1568.36 L492.673 1548.59 L486.441 1549.84 L486.441 1546.64 L492.639 1545.39 L496.145 1545.39 L496.145 1568.36 L501.875 1568.36 L501.875 1571.31 L486.944 1571.31 L486.944 1568.36 Z\" fill=\"#000000\" fill-rule=\"evenodd\" fill-opacity=\"1\" /><path clip-path=\"url(#clip190)\" d=\"M 0 0 M632.907 1547.7 Q630.199 1547.7 628.827 1550.37 Q627.473 1553.03 627.473 1558.38 Q627.473 1563.71 628.827 1566.38 Q630.199 1569.04 632.907 1569.04 Q635.633 1569.04 636.987 1566.38 Q638.359 1563.71 638.359 1558.38 Q638.359 1553.03 636.987 1550.37 Q635.633 1547.7 632.907 1547.7 M632.907 1544.92 Q637.265 1544.92 639.556 1548.38 Q641.865 1551.82 641.865 1558.38 Q641.865 1564.92 639.556 1568.38 Q637.265 1571.82 632.907 1571.82 Q628.55 1571.82 626.241 1568.38 Q623.949 1564.92 623.949 1558.38 Q623.949 1551.82 626.241 1548.38 Q628.55 1544.92 632.907 1544.92 Z\" fill=\"#000000\" fill-rule=\"evenodd\" fill-opacity=\"1\" /><path clip-path=\"url(#clip190)\" d=\"M 0 0 M777.525 1568.36 L783.254 1568.36 L783.254 1548.59 L777.021 1549.84 L777.021 1546.64 L783.219 1545.39 L786.726 1545.39 L786.726 1568.36 L792.455 1568.36 L792.455 1571.31 L777.525 1571.31 L777.525 1568.36 Z\" fill=\"#000000\" fill-rule=\"evenodd\" fill-opacity=\"1\" /><path clip-path=\"url(#clip190)\" d=\"M 0 0 M932.559 1568.36 L944.798 1568.36 L944.798 1571.31 L928.34 1571.31 L928.34 1568.36 Q930.337 1566.29 933.774 1562.82 Q937.229 1559.33 938.114 1558.33 Q939.798 1556.43 940.458 1555.13 Q941.135 1553.81 941.135 1552.54 Q941.135 1550.48 939.677 1549.18 Q938.236 1547.87 935.91 1547.87 Q934.26 1547.87 932.42 1548.45 Q930.597 1549.02 928.514 1550.18 L928.514 1546.64 Q930.632 1545.79 932.472 1545.36 Q934.312 1544.92 935.84 1544.92 Q939.868 1544.92 942.264 1546.94 Q944.66 1548.95 944.66 1552.32 Q944.66 1553.92 944.052 1555.36 Q943.462 1556.78 941.882 1558.73 Q941.448 1559.23 939.121 1561.64 Q936.795 1564.04 932.559 1568.36 Z\" fill=\"#000000\" fill-rule=\"evenodd\" fill-opacity=\"1\" /><path clip-path=\"url(#clip190)\" d=\"M 0 0 M1091.59 1557.34 Q1094.1 1557.87 1095.51 1559.58 Q1096.93 1561.28 1096.93 1563.78 Q1096.93 1567.61 1094.29 1569.71 Q1091.66 1571.82 1086.79 1571.82 Q1085.16 1571.82 1083.43 1571.49 Q1081.71 1571.17 1079.87 1570.53 L1079.87 1567.15 Q1081.33 1568 1083.06 1568.43 Q1084.8 1568.86 1086.69 1568.86 Q1089.99 1568.86 1091.71 1567.56 Q1093.44 1566.26 1093.44 1563.78 Q1093.44 1561.49 1091.83 1560.2 Q1090.23 1558.9 1087.37 1558.9 L1084.35 1558.9 L1084.35 1556.02 L1087.51 1556.02 Q1090.09 1556.02 1091.46 1554.99 Q1092.84 1553.95 1092.84 1552.01 Q1092.84 1550.01 1091.41 1548.95 Q1090.01 1547.87 1087.37 1547.87 Q1085.93 1547.87 1084.28 1548.19 Q1082.63 1548.5 1080.65 1549.16 L1080.65 1546.03 Q1082.65 1545.48 1084.38 1545.2 Q1086.13 1544.92 1087.68 1544.92 Q1091.67 1544.92 1094 1546.75 Q1096.33 1548.55 1096.33 1551.64 Q1096.33 1553.79 1095.09 1555.29 Q1093.86 1556.76 1091.59 1557.34 Z\" fill=\"#000000\" fill-rule=\"evenodd\" fill-opacity=\"1\" /><polyline clip-path=\"url(#clip192)\" style=\"stroke:#000000; stroke-width:2; stroke-opacity:0.1; fill:none\" points=\"\n",
       "  86.9921,1346.26 1152.76,1346.26 \n",
       "  \"/>\n",
       "<polyline clip-path=\"url(#clip192)\" style=\"stroke:#000000; stroke-width:2; stroke-opacity:0.1; fill:none\" points=\"\n",
       "  86.9921,997.454 1152.76,997.454 \n",
       "  \"/>\n",
       "<polyline clip-path=\"url(#clip192)\" style=\"stroke:#000000; stroke-width:2; stroke-opacity:0.1; fill:none\" points=\"\n",
       "  86.9921,648.653 1152.76,648.653 \n",
       "  \"/>\n",
       "<polyline clip-path=\"url(#clip192)\" style=\"stroke:#000000; stroke-width:2; stroke-opacity:0.1; fill:none\" points=\"\n",
       "  86.9921,299.851 1152.76,299.851 \n",
       "  \"/>\n",
       "<polyline clip-path=\"url(#clip190)\" style=\"stroke:#000000; stroke-width:4; stroke-opacity:1; fill:none\" points=\"\n",
       "  86.9921,1521.01 86.9921,62.9921 \n",
       "  \"/>\n",
       "<polyline clip-path=\"url(#clip190)\" style=\"stroke:#000000; stroke-width:4; stroke-opacity:1; fill:none\" points=\"\n",
       "  86.9921,1346.26 99.7813,1346.26 \n",
       "  \"/>\n",
       "<polyline clip-path=\"url(#clip190)\" style=\"stroke:#000000; stroke-width:4; stroke-opacity:1; fill:none\" points=\"\n",
       "  86.9921,997.454 99.7813,997.454 \n",
       "  \"/>\n",
       "<polyline clip-path=\"url(#clip190)\" style=\"stroke:#000000; stroke-width:4; stroke-opacity:1; fill:none\" points=\"\n",
       "  86.9921,648.653 99.7813,648.653 \n",
       "  \"/>\n",
       "<polyline clip-path=\"url(#clip190)\" style=\"stroke:#000000; stroke-width:4; stroke-opacity:1; fill:none\" points=\"\n",
       "  86.9921,299.851 99.7813,299.851 \n",
       "  \"/>\n",
       "<path clip-path=\"url(#clip190)\" d=\"M 0 0 M-41.4379 1346.71 L-11.7622 1346.71 L-11.7622 1350.64 L-41.4379 1350.64 L-41.4379 1346.71 Z\" fill=\"#000000\" fill-rule=\"evenodd\" fill-opacity=\"1\" /><path clip-path=\"url(#clip190)\" d=\"M 0 0 M-5.88257 1359.6 L1.75628 1359.6 L1.75628 1333.23 L-6.55386 1334.9 L-6.55386 1330.64 L1.70998 1328.98 L6.38588 1328.98 L6.38588 1359.6 L14.0247 1359.6 L14.0247 1363.54 L-5.88257 1363.54 L-5.88257 1359.6 Z\" fill=\"#000000\" fill-rule=\"evenodd\" fill-opacity=\"1\" /><path clip-path=\"url(#clip190)\" d=\"M 0 0 M19.0941 1357.66 L23.9784 1357.66 L23.9784 1363.54 L19.0941 1363.54 L19.0941 1357.66 Z\" fill=\"#000000\" fill-rule=\"evenodd\" fill-opacity=\"1\" /><path clip-path=\"url(#clip190)\" d=\"M 0 0 M39.0477 1332.05 Q35.4367 1332.05 33.608 1335.62 Q31.8024 1339.16 31.8024 1346.29 Q31.8024 1353.4 33.608 1356.96 Q35.4367 1360.5 39.0477 1360.5 Q42.682 1360.5 44.4875 1356.96 Q46.3162 1353.4 46.3162 1346.29 Q46.3162 1339.16 44.4875 1335.62 Q42.682 1332.05 39.0477 1332.05 M39.0477 1328.35 Q44.8579 1328.35 47.9134 1332.96 Q50.9921 1337.54 50.9921 1346.29 Q50.9921 1355.02 47.9134 1359.62 Q44.8579 1364.21 39.0477 1364.21 Q33.2376 1364.21 30.1589 1359.62 Q27.1034 1355.02 27.1034 1346.29 Q27.1034 1337.54 30.1589 1332.96 Q33.2376 1328.35 39.0477 1328.35 Z\" fill=\"#000000\" fill-rule=\"evenodd\" fill-opacity=\"1\" /><path clip-path=\"url(#clip190)\" d=\"M 0 0 M-41.6694 997.906 L-11.9936 997.906 L-11.9936 1001.84 L-41.6694 1001.84 L-41.6694 997.906 Z\" fill=\"#000000\" fill-rule=\"evenodd\" fill-opacity=\"1\" /><path clip-path=\"url(#clip190)\" d=\"M 0 0 M3.07572 983.253 Q-0.535376 983.253 -2.36407 986.818 Q-4.16962 990.359 -4.16962 997.489 Q-4.16962 1004.6 -2.36407 1008.16 Q-0.535376 1011.7 3.07572 1011.7 Q6.70996 1011.7 8.5155 1008.16 Q10.3442 1004.6 10.3442 997.489 Q10.3442 990.359 8.5155 986.818 Q6.70996 983.253 3.07572 983.253 M3.07572 979.549 Q8.88587 979.549 11.9414 984.156 Q15.0201 988.739 15.0201 997.489 Q15.0201 1006.22 11.9414 1010.82 Q8.88587 1015.41 3.07572 1015.41 Q-2.73444 1015.41 -5.81313 1010.82 Q-8.86866 1006.22 -8.86866 997.489 Q-8.86866 988.739 -5.81313 984.156 Q-2.73444 979.549 3.07572 979.549 Z\" fill=\"#000000\" fill-rule=\"evenodd\" fill-opacity=\"1\" /><path clip-path=\"url(#clip190)\" d=\"M 0 0 M20.0895 1008.85 L24.9737 1008.85 L24.9737 1014.73 L20.0895 1014.73 L20.0895 1008.85 Z\" fill=\"#000000\" fill-rule=\"evenodd\" fill-opacity=\"1\" /><path clip-path=\"url(#clip190)\" d=\"M 0 0 M30.0895 980.174 L48.4458 980.174 L48.4458 984.109 L34.3718 984.109 L34.3718 992.582 Q35.3904 992.234 36.4089 992.072 Q37.4274 991.887 38.4459 991.887 Q44.2329 991.887 47.6125 995.058 Q50.9921 998.23 50.9921 1003.65 Q50.9921 1009.22 47.5199 1012.33 Q44.0477 1015.41 37.7283 1015.41 Q35.5524 1015.41 33.2839 1015.04 Q31.0385 1014.66 28.6311 1013.92 L28.6311 1009.22 Q30.7145 1010.36 32.9367 1010.91 Q35.1589 1011.47 37.6357 1011.47 Q41.6403 1011.47 43.9783 1009.36 Q46.3162 1007.26 46.3162 1003.65 Q46.3162 1000.04 43.9783 997.929 Q41.6403 995.822 37.6357 995.822 Q35.7607 995.822 33.8857 996.239 Q32.0339 996.656 30.0895 997.535 L30.0895 980.174 Z\" fill=\"#000000\" fill-rule=\"evenodd\" fill-opacity=\"1\" /><path clip-path=\"url(#clip190)\" d=\"M 0 0 M2.08035 634.451 Q-1.53074 634.451 -3.35943 638.016 Q-5.16498 641.558 -5.16498 648.687 Q-5.16498 655.794 -3.35943 659.359 Q-1.53074 662.9 2.08035 662.9 Q5.71459 662.9 7.52014 659.359 Q9.34883 655.794 9.34883 648.687 Q9.34883 641.558 7.52014 638.016 Q5.71459 634.451 2.08035 634.451 M2.08035 630.748 Q7.89051 630.748 10.946 635.354 Q14.0247 639.937 14.0247 648.687 Q14.0247 657.414 10.946 662.021 Q7.89051 666.604 2.08035 666.604 Q-3.7298 666.604 -6.80849 662.021 Q-9.86403 657.414 -9.86403 648.687 Q-9.86403 639.937 -6.80849 635.354 Q-3.7298 630.748 2.08035 630.748 Z\" fill=\"#000000\" fill-rule=\"evenodd\" fill-opacity=\"1\" /><path clip-path=\"url(#clip190)\" d=\"M 0 0 M19.0941 660.053 L23.9784 660.053 L23.9784 665.933 L19.0941 665.933 L19.0941 660.053 Z\" fill=\"#000000\" fill-rule=\"evenodd\" fill-opacity=\"1\" /><path clip-path=\"url(#clip190)\" d=\"M 0 0 M39.0477 634.451 Q35.4367 634.451 33.608 638.016 Q31.8024 641.558 31.8024 648.687 Q31.8024 655.794 33.608 659.359 Q35.4367 662.9 39.0477 662.9 Q42.682 662.9 44.4875 659.359 Q46.3162 655.794 46.3162 648.687 Q46.3162 641.558 44.4875 638.016 Q42.682 634.451 39.0477 634.451 M39.0477 630.748 Q44.8579 630.748 47.9134 635.354 Q50.9921 639.937 50.9921 648.687 Q50.9921 657.414 47.9134 662.021 Q44.8579 666.604 39.0477 666.604 Q33.2376 666.604 30.1589 662.021 Q27.1034 657.414 27.1034 648.687 Q27.1034 639.937 30.1589 635.354 Q33.2376 630.748 39.0477 630.748 Z\" fill=\"#000000\" fill-rule=\"evenodd\" fill-opacity=\"1\" /><path clip-path=\"url(#clip190)\" d=\"M 0 0 M3.07572 285.65 Q-0.535376 285.65 -2.36407 289.215 Q-4.16962 292.756 -4.16962 299.886 Q-4.16962 306.992 -2.36407 310.557 Q-0.535376 314.099 3.07572 314.099 Q6.70996 314.099 8.5155 310.557 Q10.3442 306.992 10.3442 299.886 Q10.3442 292.756 8.5155 289.215 Q6.70996 285.65 3.07572 285.65 M3.07572 281.946 Q8.88587 281.946 11.9414 286.553 Q15.0201 291.136 15.0201 299.886 Q15.0201 308.613 11.9414 313.219 Q8.88587 317.802 3.07572 317.802 Q-2.73444 317.802 -5.81313 313.219 Q-8.86866 308.613 -8.86866 299.886 Q-8.86866 291.136 -5.81313 286.553 Q-2.73444 281.946 3.07572 281.946 Z\" fill=\"#000000\" fill-rule=\"evenodd\" fill-opacity=\"1\" /><path clip-path=\"url(#clip190)\" d=\"M 0 0 M20.0895 311.252 L24.9737 311.252 L24.9737 317.131 L20.0895 317.131 L20.0895 311.252 Z\" fill=\"#000000\" fill-rule=\"evenodd\" fill-opacity=\"1\" /><path clip-path=\"url(#clip190)\" d=\"M 0 0 M30.0895 282.571 L48.4458 282.571 L48.4458 286.506 L34.3718 286.506 L34.3718 294.978 Q35.3904 294.631 36.4089 294.469 Q37.4274 294.284 38.4459 294.284 Q44.2329 294.284 47.6125 297.455 Q50.9921 300.627 50.9921 306.043 Q50.9921 311.622 47.5199 314.724 Q44.0477 317.802 37.7283 317.802 Q35.5524 317.802 33.2839 317.432 Q31.0385 317.062 28.6311 316.321 L28.6311 311.622 Q30.7145 312.756 32.9367 313.312 Q35.1589 313.867 37.6357 313.867 Q41.6403 313.867 43.9783 311.761 Q46.3162 309.654 46.3162 306.043 Q46.3162 302.432 43.9783 300.326 Q41.6403 298.219 37.6357 298.219 Q35.7607 298.219 33.8857 298.636 Q32.0339 299.053 30.0895 299.932 L30.0895 282.571 Z\" fill=\"#000000\" fill-rule=\"evenodd\" fill-opacity=\"1\" /><path clip-path=\"url(#clip190)\" d=\"M 0 0 M410.581 6.912 L430.442 6.912 L430.442 10.8472 L415.257 10.8472 L415.257 21.0323 L428.961 21.0323 L428.961 24.9675 L415.257 24.9675 L415.257 41.472 L410.581 41.472 L410.581 6.912 Z\" fill=\"#000000\" fill-rule=\"evenodd\" fill-opacity=\"1\" /><path clip-path=\"url(#clip190)\" d=\"M 0 0 M431.877 31.2406 L431.877 15.5462 L436.137 15.5462 L436.137 31.0785 Q436.137 34.7591 437.572 36.6109 Q439.007 38.4396 441.877 38.4396 Q445.326 38.4396 447.317 36.2405 Q449.331 34.0415 449.331 30.2452 L449.331 15.5462 L453.59 15.5462 L453.59 41.472 L449.331 41.472 L449.331 37.4905 Q447.78 39.8516 445.72 41.009 Q443.683 42.1433 440.975 42.1433 Q436.507 42.1433 434.192 39.3655 Q431.877 36.5878 431.877 31.2406 M442.595 14.9212 L442.595 14.9212 Z\" fill=\"#000000\" fill-rule=\"evenodd\" fill-opacity=\"1\" /><path clip-path=\"url(#clip190)\" d=\"M 0 0 M456.206 15.5462 L476.437 15.5462 L476.437 19.4351 L460.419 38.0692 L476.437 38.0692 L476.437 41.472 L455.627 41.472 L455.627 37.5831 L471.646 18.949 L456.206 18.949 L456.206 15.5462 Z\" fill=\"#000000\" fill-rule=\"evenodd\" fill-opacity=\"1\" /><path clip-path=\"url(#clip190)\" d=\"M 0 0 M479.053 15.5462 L499.284 15.5462 L499.284 19.4351 L483.266 38.0692 L499.284 38.0692 L499.284 41.472 L478.474 41.472 L478.474 37.5831 L494.493 18.949 L479.053 18.949 L479.053 15.5462 Z\" fill=\"#000000\" fill-rule=\"evenodd\" fill-opacity=\"1\" /><path clip-path=\"url(#clip190)\" d=\"M 0 0 M514.539 43.8794 Q512.733 48.509 511.02 49.921 Q509.307 51.3331 506.437 51.3331 L503.034 51.3331 L503.034 47.7683 L505.534 47.7683 Q507.294 47.7683 508.266 46.9349 Q509.238 46.1016 510.419 42.9998 L511.182 41.0553 L500.696 15.5462 L505.21 15.5462 L513.312 35.8239 L521.414 15.5462 L525.928 15.5462 L514.539 43.8794 Z\" fill=\"#000000\" fill-rule=\"evenodd\" fill-opacity=\"1\" /><path clip-path=\"url(#clip190)\" d=\"M 0 0 M542.131 11.5185 L535.789 28.7174 L548.497 28.7174 L542.131 11.5185 M539.493 6.912 L544.793 6.912 L557.965 41.472 L553.104 41.472 L549.955 32.6063 L534.377 32.6063 L531.229 41.472 L526.298 41.472 L539.493 6.912 Z\" fill=\"#000000\" fill-rule=\"evenodd\" fill-opacity=\"1\" /><path clip-path=\"url(#clip190)\" d=\"M 0 0 M579.006 25.2684 Q580.511 25.7776 581.923 27.4443 Q583.358 29.111 584.793 32.0276 L589.539 41.472 L584.515 41.472 L580.094 32.6063 Q578.381 29.1341 576.761 27.9998 Q575.164 26.8656 572.386 26.8656 L567.293 26.8656 L567.293 41.472 L562.617 41.472 L562.617 6.912 L573.173 6.912 Q579.099 6.912 582.015 9.38884 Q584.932 11.8657 584.932 16.8657 Q584.932 20.1295 583.404 22.2823 Q581.9 24.4351 579.006 25.2684 M567.293 10.7546 L567.293 23.023 L573.173 23.023 Q576.552 23.023 578.265 21.4721 Q580.002 19.898 580.002 16.8657 Q580.002 13.8333 578.265 12.3055 Q576.552 10.7546 573.173 10.7546 L567.293 10.7546 Z\" fill=\"#000000\" fill-rule=\"evenodd\" fill-opacity=\"1\" /><path clip-path=\"url(#clip190)\" d=\"M 0 0 M585.951 6.912 L615.187 6.912 L615.187 10.8472 L602.918 10.8472 L602.918 41.472 L598.219 41.472 L598.219 10.8472 L585.951 10.8472 L585.951 6.912 Z\" fill=\"#000000\" fill-rule=\"evenodd\" fill-opacity=\"1\" /><path clip-path=\"url(#clip190)\" d=\"M 0 0 M649.747 19.5277 Q649.029 19.111 648.172 18.9258 Q647.339 18.7175 646.321 18.7175 Q642.71 18.7175 640.765 21.0786 Q638.844 23.4165 638.844 27.8147 L638.844 41.472 L634.561 41.472 L634.561 15.5462 L638.844 15.5462 L638.844 19.574 Q640.186 17.2129 642.339 16.0786 Q644.492 14.9212 647.571 14.9212 Q648.01 14.9212 648.543 14.9907 Q649.075 15.037 649.723 15.1527 L649.747 19.5277 Z\" fill=\"#000000\" fill-rule=\"evenodd\" fill-opacity=\"1\" /><path clip-path=\"url(#clip190)\" d=\"M 0 0 M674.932 25.8239 L674.932 41.472 L670.672 41.472 L670.672 25.9628 Q670.672 22.2823 669.237 20.4536 Q667.802 18.6249 664.932 18.6249 Q661.483 18.6249 659.492 20.824 Q657.501 23.023 657.501 26.8193 L657.501 41.472 L653.219 41.472 L653.219 5.45367 L657.501 5.45367 L657.501 19.574 Q659.029 17.236 661.089 16.0786 Q663.172 14.9212 665.881 14.9212 Q670.348 14.9212 672.64 17.699 Q674.932 20.4536 674.932 25.8239 Z\" fill=\"#000000\" fill-rule=\"evenodd\" fill-opacity=\"1\" /><path clip-path=\"url(#clip190)\" d=\"M 0 0 M689.445 18.5323 Q686.019 18.5323 684.029 21.2175 Q682.038 23.8795 682.038 28.5323 Q682.038 33.185 684.006 35.8702 Q685.996 38.5322 689.445 38.5322 Q692.848 38.5322 694.839 35.847 Q696.83 33.1619 696.83 28.5323 Q696.83 23.9258 694.839 21.2406 Q692.848 18.5323 689.445 18.5323 M689.445 14.9212 Q695.001 14.9212 698.172 18.5323 Q701.343 22.1434 701.343 28.5323 Q701.343 34.898 698.172 38.5322 Q695.001 42.1433 689.445 42.1433 Q683.867 42.1433 680.695 38.5322 Q677.547 34.898 677.547 28.5323 Q677.547 22.1434 680.695 18.5323 Q683.867 14.9212 689.445 14.9212 Z\" fill=\"#000000\" fill-rule=\"evenodd\" fill-opacity=\"1\" /><path clip-path=\"url(#clip190)\" d=\"M 0 0 M721.436 19.9443 L751.112 19.9443 L751.112 23.8332 L721.436 23.8332 L721.436 19.9443 M721.436 29.3887 L751.112 29.3887 L751.112 33.3239 L721.436 33.3239 L721.436 29.3887 Z\" fill=\"#000000\" fill-rule=\"evenodd\" fill-opacity=\"1\" /><path clip-path=\"url(#clip190)\" d=\"M 0 0 M781.25 9.99069 Q777.639 9.99069 775.811 13.5555 Q774.005 17.0971 774.005 24.2267 Q774.005 31.3332 775.811 34.898 Q777.639 38.4396 781.25 38.4396 Q784.885 38.4396 786.69 34.898 Q788.519 31.3332 788.519 24.2267 Q788.519 17.0971 786.69 13.5555 Q784.885 9.99069 781.25 9.99069 M781.25 6.287 Q787.061 6.287 790.116 10.8935 Q793.195 15.4768 793.195 24.2267 Q793.195 32.9535 790.116 37.56 Q787.061 42.1433 781.25 42.1433 Q775.44 42.1433 772.362 37.56 Q769.306 32.9535 769.306 24.2267 Q769.306 15.4768 772.362 10.8935 Q775.44 6.287 781.25 6.287 Z\" fill=\"#000000\" fill-rule=\"evenodd\" fill-opacity=\"1\" /><path clip-path=\"url(#clip190)\" d=\"M 0 0 M798.264 35.5924 L803.148 35.5924 L803.148 41.472 L798.264 41.472 L798.264 35.5924 Z\" fill=\"#000000\" fill-rule=\"evenodd\" fill-opacity=\"1\" /><path clip-path=\"url(#clip190)\" d=\"M 0 0 M808.264 6.912 L826.621 6.912 L826.621 10.8472 L812.547 10.8472 L812.547 19.3193 Q813.565 18.9721 814.584 18.8101 Q815.602 18.6249 816.621 18.6249 Q822.408 18.6249 825.787 21.7962 Q829.167 24.9675 829.167 30.3841 Q829.167 35.9628 825.695 39.0646 Q822.222 42.1433 815.903 42.1433 Q813.727 42.1433 811.459 41.7729 Q809.213 41.4026 806.806 40.6618 L806.806 35.9628 Q808.889 37.097 811.111 37.6526 Q813.334 38.2081 815.81 38.2081 Q819.815 38.2081 822.153 36.1017 Q824.491 33.9952 824.491 30.3841 Q824.491 26.773 822.153 24.6665 Q819.815 22.5601 815.81 22.5601 Q813.935 22.5601 812.06 22.9767 Q810.209 23.3934 808.264 24.273 L808.264 6.912 Z\" fill=\"#000000\" fill-rule=\"evenodd\" fill-opacity=\"1\" /><circle clip-path=\"url(#clip192)\" cx=\"1013.48\" cy=\"193.861\" r=\"14\" fill=\"#009af9\" fill-rule=\"evenodd\" fill-opacity=\"1\" stroke=\"#000000\" stroke-opacity=\"1\" stroke-width=\"3.2\"/>\n",
       "<circle clip-path=\"url(#clip192)\" cx=\"979.066\" cy=\"126.997\" r=\"14\" fill=\"#009af9\" fill-rule=\"evenodd\" fill-opacity=\"1\" stroke=\"#000000\" stroke-opacity=\"1\" stroke-width=\"3.2\"/>\n",
       "<circle clip-path=\"url(#clip192)\" cx=\"1071.67\" cy=\"744.465\" r=\"14\" fill=\"#009af9\" fill-rule=\"evenodd\" fill-opacity=\"1\" stroke=\"#000000\" stroke-opacity=\"1\" stroke-width=\"3.2\"/>\n",
       "<circle clip-path=\"url(#clip192)\" cx=\"1032.66\" cy=\"781.25\" r=\"14\" fill=\"#009af9\" fill-rule=\"evenodd\" fill-opacity=\"1\" stroke=\"#000000\" stroke-opacity=\"1\" stroke-width=\"3.2\"/>\n",
       "<circle clip-path=\"url(#clip192)\" cx=\"1031.5\" cy=\"225.347\" r=\"14\" fill=\"#009af9\" fill-rule=\"evenodd\" fill-opacity=\"1\" stroke=\"#000000\" stroke-opacity=\"1\" stroke-width=\"3.2\"/>\n",
       "<circle clip-path=\"url(#clip192)\" cx=\"1065.96\" cy=\"1299.42\" r=\"14\" fill=\"#009af9\" fill-rule=\"evenodd\" fill-opacity=\"1\" stroke=\"#000000\" stroke-opacity=\"1\" stroke-width=\"3.2\"/>\n",
       "<circle clip-path=\"url(#clip192)\" cx=\"1038.88\" cy=\"723.081\" r=\"14\" fill=\"#009af9\" fill-rule=\"evenodd\" fill-opacity=\"1\" stroke=\"#000000\" stroke-opacity=\"1\" stroke-width=\"3.2\"/>\n",
       "<circle clip-path=\"url(#clip192)\" cx=\"1122.59\" cy=\"999.742\" r=\"14\" fill=\"#009af9\" fill-rule=\"evenodd\" fill-opacity=\"1\" stroke=\"#000000\" stroke-opacity=\"1\" stroke-width=\"3.2\"/>\n",
       "<circle clip-path=\"url(#clip192)\" cx=\"1031.69\" cy=\"529.777\" r=\"14\" fill=\"#009af9\" fill-rule=\"evenodd\" fill-opacity=\"1\" stroke=\"#000000\" stroke-opacity=\"1\" stroke-width=\"3.2\"/>\n",
       "<circle clip-path=\"url(#clip192)\" cx=\"998.139\" cy=\"511.98\" r=\"14\" fill=\"#009af9\" fill-rule=\"evenodd\" fill-opacity=\"1\" stroke=\"#000000\" stroke-opacity=\"1\" stroke-width=\"3.2\"/>\n",
       "<circle clip-path=\"url(#clip192)\" cx=\"1053.5\" cy=\"459.561\" r=\"14\" fill=\"#009af9\" fill-rule=\"evenodd\" fill-opacity=\"1\" stroke=\"#000000\" stroke-opacity=\"1\" stroke-width=\"3.2\"/>\n",
       "<circle clip-path=\"url(#clip192)\" cx=\"1045.19\" cy=\"766.936\" r=\"14\" fill=\"#009af9\" fill-rule=\"evenodd\" fill-opacity=\"1\" stroke=\"#000000\" stroke-opacity=\"1\" stroke-width=\"3.2\"/>\n",
       "<circle clip-path=\"url(#clip192)\" cx=\"1043.45\" cy=\"568.421\" r=\"14\" fill=\"#009af9\" fill-rule=\"evenodd\" fill-opacity=\"1\" stroke=\"#000000\" stroke-opacity=\"1\" stroke-width=\"3.2\"/>\n",
       "<circle clip-path=\"url(#clip192)\" cx=\"982.594\" cy=\"575.04\" r=\"14\" fill=\"#009af9\" fill-rule=\"evenodd\" fill-opacity=\"1\" stroke=\"#000000\" stroke-opacity=\"1\" stroke-width=\"3.2\"/>\n",
       "<circle clip-path=\"url(#clip192)\" cx=\"1049.9\" cy=\"865.694\" r=\"14\" fill=\"#009af9\" fill-rule=\"evenodd\" fill-opacity=\"1\" stroke=\"#000000\" stroke-opacity=\"1\" stroke-width=\"3.2\"/>\n",
       "<circle clip-path=\"url(#clip192)\" cx=\"410.617\" cy=\"296.928\" r=\"14\" fill=\"#e26f46\" fill-rule=\"evenodd\" fill-opacity=\"1\" stroke=\"#000000\" stroke-opacity=\"1\" stroke-width=\"3.2\"/>\n",
       "<circle clip-path=\"url(#clip192)\" cx=\"605.431\" cy=\"1224.6\" r=\"14\" fill=\"#e26f46\" fill-rule=\"evenodd\" fill-opacity=\"1\" stroke=\"#000000\" stroke-opacity=\"1\" stroke-width=\"3.2\"/>\n",
       "<circle clip-path=\"url(#clip192)\" cx=\"509.551\" cy=\"761.896\" r=\"14\" fill=\"#e26f46\" fill-rule=\"evenodd\" fill-opacity=\"1\" stroke=\"#000000\" stroke-opacity=\"1\" stroke-width=\"3.2\"/>\n",
       "<circle clip-path=\"url(#clip192)\" cx=\"543.741\" cy=\"985.793\" r=\"14\" fill=\"#e26f46\" fill-rule=\"evenodd\" fill-opacity=\"1\" stroke=\"#000000\" stroke-opacity=\"1\" stroke-width=\"3.2\"/>\n",
       "<circle clip-path=\"url(#clip192)\" cx=\"554.049\" cy=\"1479.74\" r=\"14\" fill=\"#e26f46\" fill-rule=\"evenodd\" fill-opacity=\"1\" stroke=\"#000000\" stroke-opacity=\"1\" stroke-width=\"3.2\"/>\n",
       "<circle clip-path=\"url(#clip192)\" cx=\"582.632\" cy=\"795.973\" r=\"14\" fill=\"#e26f46\" fill-rule=\"evenodd\" fill-opacity=\"1\" stroke=\"#000000\" stroke-opacity=\"1\" stroke-width=\"3.2\"/>\n",
       "<circle clip-path=\"url(#clip192)\" cx=\"643.587\" cy=\"1138.75\" r=\"14\" fill=\"#e26f46\" fill-rule=\"evenodd\" fill-opacity=\"1\" stroke=\"#000000\" stroke-opacity=\"1\" stroke-width=\"3.2\"/>\n",
       "<circle clip-path=\"url(#clip192)\" cx=\"510.348\" cy=\"512.582\" r=\"14\" fill=\"#e26f46\" fill-rule=\"evenodd\" fill-opacity=\"1\" stroke=\"#000000\" stroke-opacity=\"1\" stroke-width=\"3.2\"/>\n",
       "<circle clip-path=\"url(#clip192)\" cx=\"413.799\" cy=\"748.969\" r=\"14\" fill=\"#e26f46\" fill-rule=\"evenodd\" fill-opacity=\"1\" stroke=\"#000000\" stroke-opacity=\"1\" stroke-width=\"3.2\"/>\n",
       "<circle clip-path=\"url(#clip192)\" cx=\"597.297\" cy=\"880.202\" r=\"14\" fill=\"#e26f46\" fill-rule=\"evenodd\" fill-opacity=\"1\" stroke=\"#000000\" stroke-opacity=\"1\" stroke-width=\"3.2\"/>\n",
       "<circle clip-path=\"url(#clip192)\" cx=\"483.499\" cy=\"735.407\" r=\"14\" fill=\"#e26f46\" fill-rule=\"evenodd\" fill-opacity=\"1\" stroke=\"#000000\" stroke-opacity=\"1\" stroke-width=\"3.2\"/>\n",
       "<circle clip-path=\"url(#clip192)\" cx=\"578.736\" cy=\"695.269\" r=\"14\" fill=\"#e26f46\" fill-rule=\"evenodd\" fill-opacity=\"1\" stroke=\"#000000\" stroke-opacity=\"1\" stroke-width=\"3.2\"/>\n",
       "<circle clip-path=\"url(#clip192)\" cx=\"535.479\" cy=\"635.349\" r=\"14\" fill=\"#e26f46\" fill-rule=\"evenodd\" fill-opacity=\"1\" stroke=\"#000000\" stroke-opacity=\"1\" stroke-width=\"3.2\"/>\n",
       "<circle clip-path=\"url(#clip192)\" cx=\"578.926\" cy=\"999.699\" r=\"14\" fill=\"#e26f46\" fill-rule=\"evenodd\" fill-opacity=\"1\" stroke=\"#000000\" stroke-opacity=\"1\" stroke-width=\"3.2\"/>\n",
       "<circle clip-path=\"url(#clip192)\" cx=\"509.489\" cy=\"907.239\" r=\"14\" fill=\"#e26f46\" fill-rule=\"evenodd\" fill-opacity=\"1\" stroke=\"#000000\" stroke-opacity=\"1\" stroke-width=\"3.2\"/>\n",
       "<circle clip-path=\"url(#clip192)\" cx=\"466.618\" cy=\"450.609\" r=\"14\" fill=\"#e26f46\" fill-rule=\"evenodd\" fill-opacity=\"1\" stroke=\"#000000\" stroke-opacity=\"1\" stroke-width=\"3.2\"/>\n",
       "<circle clip-path=\"url(#clip192)\" cx=\"747.003\" cy=\"1347.03\" r=\"14\" fill=\"#e26f46\" fill-rule=\"evenodd\" fill-opacity=\"1\" stroke=\"#000000\" stroke-opacity=\"1\" stroke-width=\"3.2\"/>\n",
       "<circle clip-path=\"url(#clip192)\" cx=\"189.844\" cy=\"104.257\" r=\"14\" fill=\"#3da44d\" fill-rule=\"evenodd\" fill-opacity=\"1\" stroke=\"#000000\" stroke-opacity=\"1\" stroke-width=\"3.2\"/>\n",
       "<circle clip-path=\"url(#clip192)\" cx=\"336.951\" cy=\"620.239\" r=\"14\" fill=\"#3da44d\" fill-rule=\"evenodd\" fill-opacity=\"1\" stroke=\"#000000\" stroke-opacity=\"1\" stroke-width=\"3.2\"/>\n",
       "<circle clip-path=\"url(#clip192)\" cx=\"312.9\" cy=\"389.505\" r=\"14\" fill=\"#3da44d\" fill-rule=\"evenodd\" fill-opacity=\"1\" stroke=\"#000000\" stroke-opacity=\"1\" stroke-width=\"3.2\"/>\n",
       "<circle clip-path=\"url(#clip192)\" cx=\"380.574\" cy=\"479.806\" r=\"14\" fill=\"#3da44d\" fill-rule=\"evenodd\" fill-opacity=\"1\" stroke=\"#000000\" stroke-opacity=\"1\" stroke-width=\"3.2\"/>\n",
       "<circle clip-path=\"url(#clip192)\" cx=\"359.256\" cy=\"799.443\" r=\"14\" fill=\"#3da44d\" fill-rule=\"evenodd\" fill-opacity=\"1\" stroke=\"#000000\" stroke-opacity=\"1\" stroke-width=\"3.2\"/>\n",
       "<circle clip-path=\"url(#clip192)\" cx=\"265.568\" cy=\"436.927\" r=\"14\" fill=\"#3da44d\" fill-rule=\"evenodd\" fill-opacity=\"1\" stroke=\"#000000\" stroke-opacity=\"1\" stroke-width=\"3.2\"/>\n",
       "<circle clip-path=\"url(#clip192)\" cx=\"365.07\" cy=\"593.877\" r=\"14\" fill=\"#3da44d\" fill-rule=\"evenodd\" fill-opacity=\"1\" stroke=\"#000000\" stroke-opacity=\"1\" stroke-width=\"3.2\"/>\n",
       "<circle clip-path=\"url(#clip192)\" cx=\"187.738\" cy=\"402.833\" r=\"14\" fill=\"#3da44d\" fill-rule=\"evenodd\" fill-opacity=\"1\" stroke=\"#000000\" stroke-opacity=\"1\" stroke-width=\"3.2\"/>\n",
       "<circle clip-path=\"url(#clip192)\" cx=\"270.401\" cy=\"325.998\" r=\"14\" fill=\"#3da44d\" fill-rule=\"evenodd\" fill-opacity=\"1\" stroke=\"#000000\" stroke-opacity=\"1\" stroke-width=\"3.2\"/>\n",
       "<circle clip-path=\"url(#clip192)\" cx=\"248.512\" cy=\"656.914\" r=\"14\" fill=\"#3da44d\" fill-rule=\"evenodd\" fill-opacity=\"1\" stroke=\"#000000\" stroke-opacity=\"1\" stroke-width=\"3.2\"/>\n",
       "<circle clip-path=\"url(#clip192)\" cx=\"307.232\" cy=\"551.751\" r=\"14\" fill=\"#3da44d\" fill-rule=\"evenodd\" fill-opacity=\"1\" stroke=\"#000000\" stroke-opacity=\"1\" stroke-width=\"3.2\"/>\n",
       "<circle clip-path=\"url(#clip192)\" cx=\"117.155\" cy=\"266.947\" r=\"14\" fill=\"#3da44d\" fill-rule=\"evenodd\" fill-opacity=\"1\" stroke=\"#000000\" stroke-opacity=\"1\" stroke-width=\"3.2\"/>\n",
       "<circle clip-path=\"url(#clip192)\" cx=\"343.69\" cy=\"615.135\" r=\"14\" fill=\"#3da44d\" fill-rule=\"evenodd\" fill-opacity=\"1\" stroke=\"#000000\" stroke-opacity=\"1\" stroke-width=\"3.2\"/>\n",
       "<path clip-path=\"url(#clip190)\" d=\"\n",
       "M1286.99 1521.01 L2352.76 1521.01 L2352.76 62.9921 L1286.99 62.9921  Z\n",
       "  \" fill=\"#ffffff\" fill-rule=\"evenodd\" fill-opacity=\"1\"/>\n",
       "<defs>\n",
       "  <clipPath id=\"clip193\">\n",
       "    <rect x=\"1286\" y=\"62\" width=\"1067\" height=\"1459\"/>\n",
       "  </clipPath>\n",
       "</defs>\n",
       "<polyline clip-path=\"url(#clip193)\" style=\"stroke:#000000; stroke-width:2; stroke-opacity:0.1; fill:none\" points=\"\n",
       "  1377.41,1521.01 1377.41,62.9921 \n",
       "  \"/>\n",
       "<polyline clip-path=\"url(#clip193)\" style=\"stroke:#000000; stroke-width:2; stroke-opacity:0.1; fill:none\" points=\"\n",
       "  1529.25,1521.01 1529.25,62.9921 \n",
       "  \"/>\n",
       "<polyline clip-path=\"url(#clip193)\" style=\"stroke:#000000; stroke-width:2; stroke-opacity:0.1; fill:none\" points=\"\n",
       "  1681.08,1521.01 1681.08,62.9921 \n",
       "  \"/>\n",
       "<polyline clip-path=\"url(#clip193)\" style=\"stroke:#000000; stroke-width:2; stroke-opacity:0.1; fill:none\" points=\"\n",
       "  1832.91,1521.01 1832.91,62.9921 \n",
       "  \"/>\n",
       "<polyline clip-path=\"url(#clip193)\" style=\"stroke:#000000; stroke-width:2; stroke-opacity:0.1; fill:none\" points=\"\n",
       "  1984.74,1521.01 1984.74,62.9921 \n",
       "  \"/>\n",
       "<polyline clip-path=\"url(#clip193)\" style=\"stroke:#000000; stroke-width:2; stroke-opacity:0.1; fill:none\" points=\"\n",
       "  2136.57,1521.01 2136.57,62.9921 \n",
       "  \"/>\n",
       "<polyline clip-path=\"url(#clip193)\" style=\"stroke:#000000; stroke-width:2; stroke-opacity:0.1; fill:none\" points=\"\n",
       "  2288.4,1521.01 2288.4,62.9921 \n",
       "  \"/>\n",
       "<polyline clip-path=\"url(#clip190)\" style=\"stroke:#000000; stroke-width:4; stroke-opacity:1; fill:none\" points=\"\n",
       "  1286.99,1521.01 2352.76,1521.01 \n",
       "  \"/>\n",
       "<polyline clip-path=\"url(#clip190)\" style=\"stroke:#000000; stroke-width:4; stroke-opacity:1; fill:none\" points=\"\n",
       "  1377.41,1521.01 1377.41,1503.51 \n",
       "  \"/>\n",
       "<polyline clip-path=\"url(#clip190)\" style=\"stroke:#000000; stroke-width:4; stroke-opacity:1; fill:none\" points=\"\n",
       "  1529.25,1521.01 1529.25,1503.51 \n",
       "  \"/>\n",
       "<polyline clip-path=\"url(#clip190)\" style=\"stroke:#000000; stroke-width:4; stroke-opacity:1; fill:none\" points=\"\n",
       "  1681.08,1521.01 1681.08,1503.51 \n",
       "  \"/>\n",
       "<polyline clip-path=\"url(#clip190)\" style=\"stroke:#000000; stroke-width:4; stroke-opacity:1; fill:none\" points=\"\n",
       "  1832.91,1521.01 1832.91,1503.51 \n",
       "  \"/>\n",
       "<polyline clip-path=\"url(#clip190)\" style=\"stroke:#000000; stroke-width:4; stroke-opacity:1; fill:none\" points=\"\n",
       "  1984.74,1521.01 1984.74,1503.51 \n",
       "  \"/>\n",
       "<polyline clip-path=\"url(#clip190)\" style=\"stroke:#000000; stroke-width:4; stroke-opacity:1; fill:none\" points=\"\n",
       "  2136.57,1521.01 2136.57,1503.51 \n",
       "  \"/>\n",
       "<polyline clip-path=\"url(#clip190)\" style=\"stroke:#000000; stroke-width:4; stroke-opacity:1; fill:none\" points=\"\n",
       "  2288.4,1521.01 2288.4,1503.51 \n",
       "  \"/>\n",
       "<path clip-path=\"url(#clip190)\" d=\"M 0 0 M1356.4 1558.69 L1378.66 1558.69 L1378.66 1561.64 L1356.4 1561.64 L1356.4 1558.69 Z\" fill=\"#000000\" fill-rule=\"evenodd\" fill-opacity=\"1\" /><path clip-path=\"url(#clip190)\" d=\"M 0 0 M1393.08 1557.34 Q1395.6 1557.87 1397.01 1559.58 Q1398.43 1561.28 1398.43 1563.78 Q1398.43 1567.61 1395.79 1569.71 Q1393.15 1571.82 1388.29 1571.82 Q1386.66 1571.82 1384.92 1571.49 Q1383.2 1571.17 1381.36 1570.53 L1381.36 1567.15 Q1382.82 1568 1384.56 1568.43 Q1386.29 1568.86 1388.19 1568.86 Q1391.49 1568.86 1393.2 1567.56 Q1394.94 1566.26 1394.94 1563.78 Q1394.94 1561.49 1393.33 1560.2 Q1391.73 1558.9 1388.86 1558.9 L1385.84 1558.9 L1385.84 1556.02 L1389 1556.02 Q1391.59 1556.02 1392.96 1554.99 Q1394.33 1553.95 1394.33 1552.01 Q1394.33 1550.01 1392.91 1548.95 Q1391.5 1547.87 1388.86 1547.87 Q1387.42 1547.87 1385.77 1548.19 Q1384.12 1548.5 1382.14 1549.16 L1382.14 1546.03 Q1384.14 1545.48 1385.88 1545.2 Q1387.63 1544.92 1389.18 1544.92 Q1393.17 1544.92 1395.5 1546.75 Q1397.82 1548.55 1397.82 1551.64 Q1397.82 1553.79 1396.59 1555.29 Q1395.36 1556.76 1393.08 1557.34 Z\" fill=\"#000000\" fill-rule=\"evenodd\" fill-opacity=\"1\" /><path clip-path=\"url(#clip190)\" d=\"M 0 0 M1508.59 1558.69 L1530.84 1558.69 L1530.84 1561.64 L1508.59 1561.64 L1508.59 1558.69 Z\" fill=\"#000000\" fill-rule=\"evenodd\" fill-opacity=\"1\" /><path clip-path=\"url(#clip190)\" d=\"M 0 0 M1537.67 1568.36 L1549.9 1568.36 L1549.9 1571.31 L1533.45 1571.31 L1533.45 1568.36 Q1535.44 1566.29 1538.88 1562.82 Q1542.34 1559.33 1543.22 1558.33 Q1544.9 1556.43 1545.56 1555.13 Q1546.24 1553.81 1546.24 1552.54 Q1546.24 1550.48 1544.78 1549.18 Q1543.34 1547.87 1541.02 1547.87 Q1539.37 1547.87 1537.53 1548.45 Q1535.7 1549.02 1533.62 1550.18 L1533.62 1546.64 Q1535.74 1545.79 1537.58 1545.36 Q1539.42 1544.92 1540.95 1544.92 Q1544.97 1544.92 1547.37 1546.94 Q1549.77 1548.95 1549.77 1552.32 Q1549.77 1553.92 1549.16 1555.36 Q1548.57 1556.78 1546.99 1558.73 Q1546.55 1559.23 1544.23 1561.64 Q1541.9 1564.04 1537.67 1568.36 Z\" fill=\"#000000\" fill-rule=\"evenodd\" fill-opacity=\"1\" /><path clip-path=\"url(#clip190)\" d=\"M 0 0 M1660.28 1558.69 L1682.53 1558.69 L1682.53 1561.64 L1660.28 1561.64 L1660.28 1558.69 Z\" fill=\"#000000\" fill-rule=\"evenodd\" fill-opacity=\"1\" /><path clip-path=\"url(#clip190)\" d=\"M 0 0 M1686.94 1568.36 L1692.67 1568.36 L1692.67 1548.59 L1686.44 1549.84 L1686.44 1546.64 L1692.64 1545.39 L1696.15 1545.39 L1696.15 1568.36 L1701.87 1568.36 L1701.87 1571.31 L1686.94 1571.31 L1686.94 1568.36 Z\" fill=\"#000000\" fill-rule=\"evenodd\" fill-opacity=\"1\" /><path clip-path=\"url(#clip190)\" d=\"M 0 0 M1832.91 1547.7 Q1830.2 1547.7 1828.83 1550.37 Q1827.47 1553.03 1827.47 1558.38 Q1827.47 1563.71 1828.83 1566.38 Q1830.2 1569.04 1832.91 1569.04 Q1835.63 1569.04 1836.99 1566.38 Q1838.36 1563.71 1838.36 1558.38 Q1838.36 1553.03 1836.99 1550.37 Q1835.63 1547.7 1832.91 1547.7 M1832.91 1544.92 Q1837.26 1544.92 1839.56 1548.38 Q1841.87 1551.82 1841.87 1558.38 Q1841.87 1564.92 1839.56 1568.38 Q1837.26 1571.82 1832.91 1571.82 Q1828.55 1571.82 1826.24 1568.38 Q1823.95 1564.92 1823.95 1558.38 Q1823.95 1551.82 1826.24 1548.38 Q1828.55 1544.92 1832.91 1544.92 Z\" fill=\"#000000\" fill-rule=\"evenodd\" fill-opacity=\"1\" /><path clip-path=\"url(#clip190)\" d=\"M 0 0 M1977.52 1568.36 L1983.25 1568.36 L1983.25 1548.59 L1977.02 1549.84 L1977.02 1546.64 L1983.22 1545.39 L1986.73 1545.39 L1986.73 1568.36 L1992.46 1568.36 L1992.46 1571.31 L1977.52 1571.31 L1977.52 1568.36 Z\" fill=\"#000000\" fill-rule=\"evenodd\" fill-opacity=\"1\" /><path clip-path=\"url(#clip190)\" d=\"M 0 0 M2132.56 1568.36 L2144.8 1568.36 L2144.8 1571.31 L2128.34 1571.31 L2128.34 1568.36 Q2130.34 1566.29 2133.77 1562.82 Q2137.23 1559.33 2138.11 1558.33 Q2139.8 1556.43 2140.46 1555.13 Q2141.14 1553.81 2141.14 1552.54 Q2141.14 1550.48 2139.68 1549.18 Q2138.24 1547.87 2135.91 1547.87 Q2134.26 1547.87 2132.42 1548.45 Q2130.6 1549.02 2128.51 1550.18 L2128.51 1546.64 Q2130.63 1545.79 2132.47 1545.36 Q2134.31 1544.92 2135.84 1544.92 Q2139.87 1544.92 2142.26 1546.94 Q2144.66 1548.95 2144.66 1552.32 Q2144.66 1553.92 2144.05 1555.36 Q2143.46 1556.78 2141.88 1558.73 Q2141.45 1559.23 2139.12 1561.64 Q2136.79 1564.04 2132.56 1568.36 Z\" fill=\"#000000\" fill-rule=\"evenodd\" fill-opacity=\"1\" /><path clip-path=\"url(#clip190)\" d=\"M 0 0 M2291.59 1557.34 Q2294.1 1557.87 2295.51 1559.58 Q2296.93 1561.28 2296.93 1563.78 Q2296.93 1567.61 2294.29 1569.71 Q2291.66 1571.82 2286.79 1571.82 Q2285.16 1571.82 2283.43 1571.49 Q2281.71 1571.17 2279.87 1570.53 L2279.87 1567.15 Q2281.33 1568 2283.06 1568.43 Q2284.8 1568.86 2286.69 1568.86 Q2289.99 1568.86 2291.71 1567.56 Q2293.44 1566.26 2293.44 1563.78 Q2293.44 1561.49 2291.83 1560.2 Q2290.23 1558.9 2287.37 1558.9 L2284.35 1558.9 L2284.35 1556.02 L2287.51 1556.02 Q2290.09 1556.02 2291.46 1554.99 Q2292.84 1553.95 2292.84 1552.01 Q2292.84 1550.01 2291.41 1548.95 Q2290.01 1547.87 2287.37 1547.87 Q2285.93 1547.87 2284.28 1548.19 Q2282.63 1548.5 2280.65 1549.16 L2280.65 1546.03 Q2282.65 1545.48 2284.38 1545.2 Q2286.13 1544.92 2287.68 1544.92 Q2291.67 1544.92 2294 1546.75 Q2296.33 1548.55 2296.33 1551.64 Q2296.33 1553.79 2295.09 1555.29 Q2293.86 1556.76 2291.59 1557.34 Z\" fill=\"#000000\" fill-rule=\"evenodd\" fill-opacity=\"1\" /><polyline clip-path=\"url(#clip193)\" style=\"stroke:#000000; stroke-width:2; stroke-opacity:0.1; fill:none\" points=\"\n",
       "  1286.99,1346.26 2352.76,1346.26 \n",
       "  \"/>\n",
       "<polyline clip-path=\"url(#clip193)\" style=\"stroke:#000000; stroke-width:2; stroke-opacity:0.1; fill:none\" points=\"\n",
       "  1286.99,997.454 2352.76,997.454 \n",
       "  \"/>\n",
       "<polyline clip-path=\"url(#clip193)\" style=\"stroke:#000000; stroke-width:2; stroke-opacity:0.1; fill:none\" points=\"\n",
       "  1286.99,648.653 2352.76,648.653 \n",
       "  \"/>\n",
       "<polyline clip-path=\"url(#clip193)\" style=\"stroke:#000000; stroke-width:2; stroke-opacity:0.1; fill:none\" points=\"\n",
       "  1286.99,299.851 2352.76,299.851 \n",
       "  \"/>\n",
       "<polyline clip-path=\"url(#clip190)\" style=\"stroke:#000000; stroke-width:4; stroke-opacity:1; fill:none\" points=\"\n",
       "  1286.99,1521.01 1286.99,62.9921 \n",
       "  \"/>\n",
       "<polyline clip-path=\"url(#clip190)\" style=\"stroke:#000000; stroke-width:4; stroke-opacity:1; fill:none\" points=\"\n",
       "  1286.99,1346.26 1299.78,1346.26 \n",
       "  \"/>\n",
       "<polyline clip-path=\"url(#clip190)\" style=\"stroke:#000000; stroke-width:4; stroke-opacity:1; fill:none\" points=\"\n",
       "  1286.99,997.454 1299.78,997.454 \n",
       "  \"/>\n",
       "<polyline clip-path=\"url(#clip190)\" style=\"stroke:#000000; stroke-width:4; stroke-opacity:1; fill:none\" points=\"\n",
       "  1286.99,648.653 1299.78,648.653 \n",
       "  \"/>\n",
       "<polyline clip-path=\"url(#clip190)\" style=\"stroke:#000000; stroke-width:4; stroke-opacity:1; fill:none\" points=\"\n",
       "  1286.99,299.851 1299.78,299.851 \n",
       "  \"/>\n",
       "<path clip-path=\"url(#clip190)\" d=\"M 0 0 M1158.56 1346.71 L1188.24 1346.71 L1188.24 1350.64 L1158.56 1350.64 L1158.56 1346.71 Z\" fill=\"#000000\" fill-rule=\"evenodd\" fill-opacity=\"1\" /><path clip-path=\"url(#clip190)\" d=\"M 0 0 M1194.12 1359.6 L1201.76 1359.6 L1201.76 1333.23 L1193.45 1334.9 L1193.45 1330.64 L1201.71 1328.98 L1206.39 1328.98 L1206.39 1359.6 L1214.02 1359.6 L1214.02 1363.54 L1194.12 1363.54 L1194.12 1359.6 Z\" fill=\"#000000\" fill-rule=\"evenodd\" fill-opacity=\"1\" /><path clip-path=\"url(#clip190)\" d=\"M 0 0 M1219.09 1357.66 L1223.98 1357.66 L1223.98 1363.54 L1219.09 1363.54 L1219.09 1357.66 Z\" fill=\"#000000\" fill-rule=\"evenodd\" fill-opacity=\"1\" /><path clip-path=\"url(#clip190)\" d=\"M 0 0 M1239.05 1332.05 Q1235.44 1332.05 1233.61 1335.62 Q1231.8 1339.16 1231.8 1346.29 Q1231.8 1353.4 1233.61 1356.96 Q1235.44 1360.5 1239.05 1360.5 Q1242.68 1360.5 1244.49 1356.96 Q1246.32 1353.4 1246.32 1346.29 Q1246.32 1339.16 1244.49 1335.62 Q1242.68 1332.05 1239.05 1332.05 M1239.05 1328.35 Q1244.86 1328.35 1247.91 1332.96 Q1250.99 1337.54 1250.99 1346.29 Q1250.99 1355.02 1247.91 1359.62 Q1244.86 1364.21 1239.05 1364.21 Q1233.24 1364.21 1230.16 1359.62 Q1227.1 1355.02 1227.1 1346.29 Q1227.1 1337.54 1230.16 1332.96 Q1233.24 1328.35 1239.05 1328.35 Z\" fill=\"#000000\" fill-rule=\"evenodd\" fill-opacity=\"1\" /><path clip-path=\"url(#clip190)\" d=\"M 0 0 M1158.33 997.906 L1188.01 997.906 L1188.01 1001.84 L1158.33 1001.84 L1158.33 997.906 Z\" fill=\"#000000\" fill-rule=\"evenodd\" fill-opacity=\"1\" /><path clip-path=\"url(#clip190)\" d=\"M 0 0 M1203.08 983.253 Q1199.46 983.253 1197.64 986.818 Q1195.83 990.359 1195.83 997.489 Q1195.83 1004.6 1197.64 1008.16 Q1199.46 1011.7 1203.08 1011.7 Q1206.71 1011.7 1208.52 1008.16 Q1210.34 1004.6 1210.34 997.489 Q1210.34 990.359 1208.52 986.818 Q1206.71 983.253 1203.08 983.253 M1203.08 979.549 Q1208.89 979.549 1211.94 984.156 Q1215.02 988.739 1215.02 997.489 Q1215.02 1006.22 1211.94 1010.82 Q1208.89 1015.41 1203.08 1015.41 Q1197.27 1015.41 1194.19 1010.82 Q1191.13 1006.22 1191.13 997.489 Q1191.13 988.739 1194.19 984.156 Q1197.27 979.549 1203.08 979.549 Z\" fill=\"#000000\" fill-rule=\"evenodd\" fill-opacity=\"1\" /><path clip-path=\"url(#clip190)\" d=\"M 0 0 M1220.09 1008.85 L1224.97 1008.85 L1224.97 1014.73 L1220.09 1014.73 L1220.09 1008.85 Z\" fill=\"#000000\" fill-rule=\"evenodd\" fill-opacity=\"1\" /><path clip-path=\"url(#clip190)\" d=\"M 0 0 M1230.09 980.174 L1248.45 980.174 L1248.45 984.109 L1234.37 984.109 L1234.37 992.582 Q1235.39 992.234 1236.41 992.072 Q1237.43 991.887 1238.45 991.887 Q1244.23 991.887 1247.61 995.058 Q1250.99 998.23 1250.99 1003.65 Q1250.99 1009.22 1247.52 1012.33 Q1244.05 1015.41 1237.73 1015.41 Q1235.55 1015.41 1233.28 1015.04 Q1231.04 1014.66 1228.63 1013.92 L1228.63 1009.22 Q1230.71 1010.36 1232.94 1010.91 Q1235.16 1011.47 1237.64 1011.47 Q1241.64 1011.47 1243.98 1009.36 Q1246.32 1007.26 1246.32 1003.65 Q1246.32 1000.04 1243.98 997.929 Q1241.64 995.822 1237.64 995.822 Q1235.76 995.822 1233.89 996.239 Q1232.03 996.656 1230.09 997.535 L1230.09 980.174 Z\" fill=\"#000000\" fill-rule=\"evenodd\" fill-opacity=\"1\" /><path clip-path=\"url(#clip190)\" d=\"M 0 0 M1202.08 634.451 Q1198.47 634.451 1196.64 638.016 Q1194.84 641.558 1194.84 648.687 Q1194.84 655.794 1196.64 659.359 Q1198.47 662.9 1202.08 662.9 Q1205.71 662.9 1207.52 659.359 Q1209.35 655.794 1209.35 648.687 Q1209.35 641.558 1207.52 638.016 Q1205.71 634.451 1202.08 634.451 M1202.08 630.748 Q1207.89 630.748 1210.95 635.354 Q1214.02 639.937 1214.02 648.687 Q1214.02 657.414 1210.95 662.021 Q1207.89 666.604 1202.08 666.604 Q1196.27 666.604 1193.19 662.021 Q1190.14 657.414 1190.14 648.687 Q1190.14 639.937 1193.19 635.354 Q1196.27 630.748 1202.08 630.748 Z\" fill=\"#000000\" fill-rule=\"evenodd\" fill-opacity=\"1\" /><path clip-path=\"url(#clip190)\" d=\"M 0 0 M1219.09 660.053 L1223.98 660.053 L1223.98 665.933 L1219.09 665.933 L1219.09 660.053 Z\" fill=\"#000000\" fill-rule=\"evenodd\" fill-opacity=\"1\" /><path clip-path=\"url(#clip190)\" d=\"M 0 0 M1239.05 634.451 Q1235.44 634.451 1233.61 638.016 Q1231.8 641.558 1231.8 648.687 Q1231.8 655.794 1233.61 659.359 Q1235.44 662.9 1239.05 662.9 Q1242.68 662.9 1244.49 659.359 Q1246.32 655.794 1246.32 648.687 Q1246.32 641.558 1244.49 638.016 Q1242.68 634.451 1239.05 634.451 M1239.05 630.748 Q1244.86 630.748 1247.91 635.354 Q1250.99 639.937 1250.99 648.687 Q1250.99 657.414 1247.91 662.021 Q1244.86 666.604 1239.05 666.604 Q1233.24 666.604 1230.16 662.021 Q1227.1 657.414 1227.1 648.687 Q1227.1 639.937 1230.16 635.354 Q1233.24 630.748 1239.05 630.748 Z\" fill=\"#000000\" fill-rule=\"evenodd\" fill-opacity=\"1\" /><path clip-path=\"url(#clip190)\" d=\"M 0 0 M1203.08 285.65 Q1199.46 285.65 1197.64 289.215 Q1195.83 292.756 1195.83 299.886 Q1195.83 306.992 1197.64 310.557 Q1199.46 314.099 1203.08 314.099 Q1206.71 314.099 1208.52 310.557 Q1210.34 306.992 1210.34 299.886 Q1210.34 292.756 1208.52 289.215 Q1206.71 285.65 1203.08 285.65 M1203.08 281.946 Q1208.89 281.946 1211.94 286.553 Q1215.02 291.136 1215.02 299.886 Q1215.02 308.613 1211.94 313.219 Q1208.89 317.802 1203.08 317.802 Q1197.27 317.802 1194.19 313.219 Q1191.13 308.613 1191.13 299.886 Q1191.13 291.136 1194.19 286.553 Q1197.27 281.946 1203.08 281.946 Z\" fill=\"#000000\" fill-rule=\"evenodd\" fill-opacity=\"1\" /><path clip-path=\"url(#clip190)\" d=\"M 0 0 M1220.09 311.252 L1224.97 311.252 L1224.97 317.131 L1220.09 317.131 L1220.09 311.252 Z\" fill=\"#000000\" fill-rule=\"evenodd\" fill-opacity=\"1\" /><path clip-path=\"url(#clip190)\" d=\"M 0 0 M1230.09 282.571 L1248.45 282.571 L1248.45 286.506 L1234.37 286.506 L1234.37 294.978 Q1235.39 294.631 1236.41 294.469 Q1237.43 294.284 1238.45 294.284 Q1244.23 294.284 1247.61 297.455 Q1250.99 300.627 1250.99 306.043 Q1250.99 311.622 1247.52 314.724 Q1244.05 317.802 1237.73 317.802 Q1235.55 317.802 1233.28 317.432 Q1231.04 317.062 1228.63 316.321 L1228.63 311.622 Q1230.71 312.756 1232.94 313.312 Q1235.16 313.867 1237.64 313.867 Q1241.64 313.867 1243.98 311.761 Q1246.32 309.654 1246.32 306.043 Q1246.32 302.432 1243.98 300.326 Q1241.64 298.219 1237.64 298.219 Q1235.76 298.219 1233.89 298.636 Q1232.03 299.053 1230.09 299.932 L1230.09 282.571 Z\" fill=\"#000000\" fill-rule=\"evenodd\" fill-opacity=\"1\" /><path clip-path=\"url(#clip190)\" d=\"M 0 0 M1610.53 6.912 L1630.4 6.912 L1630.4 10.8472 L1615.21 10.8472 L1615.21 21.0323 L1628.91 21.0323 L1628.91 24.9675 L1615.21 24.9675 L1615.21 41.472 L1610.53 41.472 L1610.53 6.912 Z\" fill=\"#000000\" fill-rule=\"evenodd\" fill-opacity=\"1\" /><path clip-path=\"url(#clip190)\" d=\"M 0 0 M1631.83 31.2406 L1631.83 15.5462 L1636.09 15.5462 L1636.09 31.0785 Q1636.09 34.7591 1637.53 36.6109 Q1638.96 38.4396 1641.83 38.4396 Q1645.28 38.4396 1647.27 36.2405 Q1649.28 34.0415 1649.28 30.2452 L1649.28 15.5462 L1653.54 15.5462 L1653.54 41.472 L1649.28 41.472 L1649.28 37.4905 Q1647.73 39.8516 1645.67 41.009 Q1643.64 42.1433 1640.93 42.1433 Q1636.46 42.1433 1634.15 39.3655 Q1631.83 36.5878 1631.83 31.2406 M1642.55 14.9212 L1642.55 14.9212 Z\" fill=\"#000000\" fill-rule=\"evenodd\" fill-opacity=\"1\" /><path clip-path=\"url(#clip190)\" d=\"M 0 0 M1656.16 15.5462 L1676.39 15.5462 L1676.39 19.4351 L1660.37 38.0692 L1676.39 38.0692 L1676.39 41.472 L1655.58 41.472 L1655.58 37.5831 L1671.6 18.949 L1656.16 18.949 L1656.16 15.5462 Z\" fill=\"#000000\" fill-rule=\"evenodd\" fill-opacity=\"1\" /><path clip-path=\"url(#clip190)\" d=\"M 0 0 M1679.01 15.5462 L1699.24 15.5462 L1699.24 19.4351 L1683.22 38.0692 L1699.24 38.0692 L1699.24 41.472 L1678.43 41.472 L1678.43 37.5831 L1694.45 18.949 L1679.01 18.949 L1679.01 15.5462 Z\" fill=\"#000000\" fill-rule=\"evenodd\" fill-opacity=\"1\" /><path clip-path=\"url(#clip190)\" d=\"M 0 0 M1714.49 43.8794 Q1712.69 48.509 1710.97 49.921 Q1709.26 51.3331 1706.39 51.3331 L1702.99 51.3331 L1702.99 47.7683 L1705.49 47.7683 Q1707.25 47.7683 1708.22 46.9349 Q1709.19 46.1016 1710.37 42.9998 L1711.14 41.0553 L1700.65 15.5462 L1705.16 15.5462 L1713.27 35.8239 L1721.37 15.5462 L1725.88 15.5462 L1714.49 43.8794 Z\" fill=\"#000000\" fill-rule=\"evenodd\" fill-opacity=\"1\" /><path clip-path=\"url(#clip190)\" d=\"M 0 0 M1742.09 11.5185 L1735.74 28.7174 L1748.45 28.7174 L1742.09 11.5185 M1739.45 6.912 L1744.75 6.912 L1757.92 41.472 L1753.06 41.472 L1749.91 32.6063 L1734.33 32.6063 L1731.18 41.472 L1726.25 41.472 L1739.45 6.912 Z\" fill=\"#000000\" fill-rule=\"evenodd\" fill-opacity=\"1\" /><path clip-path=\"url(#clip190)\" d=\"M 0 0 M1778.96 25.2684 Q1780.46 25.7776 1781.88 27.4443 Q1783.31 29.111 1784.75 32.0276 L1789.49 41.472 L1784.47 41.472 L1780.05 32.6063 Q1778.33 29.1341 1776.71 27.9998 Q1775.12 26.8656 1772.34 26.8656 L1767.25 26.8656 L1767.25 41.472 L1762.57 41.472 L1762.57 6.912 L1773.13 6.912 Q1779.05 6.912 1781.97 9.38884 Q1784.89 11.8657 1784.89 16.8657 Q1784.89 20.1295 1783.36 22.2823 Q1781.85 24.4351 1778.96 25.2684 M1767.25 10.7546 L1767.25 23.023 L1773.13 23.023 Q1776.51 23.023 1778.22 21.4721 Q1779.96 19.898 1779.96 16.8657 Q1779.96 13.8333 1778.22 12.3055 Q1776.51 10.7546 1773.13 10.7546 L1767.25 10.7546 Z\" fill=\"#000000\" fill-rule=\"evenodd\" fill-opacity=\"1\" /><path clip-path=\"url(#clip190)\" d=\"M 0 0 M1785.9 6.912 L1815.14 6.912 L1815.14 10.8472 L1802.87 10.8472 L1802.87 41.472 L1798.17 41.472 L1798.17 10.8472 L1785.9 10.8472 L1785.9 6.912 Z\" fill=\"#000000\" fill-rule=\"evenodd\" fill-opacity=\"1\" /><path clip-path=\"url(#clip190)\" d=\"M 0 0 M1849.7 19.5277 Q1848.98 19.111 1848.13 18.9258 Q1847.29 18.7175 1846.27 18.7175 Q1842.66 18.7175 1840.72 21.0786 Q1838.8 23.4165 1838.8 27.8147 L1838.8 41.472 L1834.52 41.472 L1834.52 15.5462 L1838.8 15.5462 L1838.8 19.574 Q1840.14 17.2129 1842.29 16.0786 Q1844.45 14.9212 1847.52 14.9212 Q1847.96 14.9212 1848.5 14.9907 Q1849.03 15.037 1849.68 15.1527 L1849.7 19.5277 Z\" fill=\"#000000\" fill-rule=\"evenodd\" fill-opacity=\"1\" /><path clip-path=\"url(#clip190)\" d=\"M 0 0 M1874.89 25.8239 L1874.89 41.472 L1870.63 41.472 L1870.63 25.9628 Q1870.63 22.2823 1869.19 20.4536 Q1867.76 18.6249 1864.89 18.6249 Q1861.44 18.6249 1859.45 20.824 Q1857.45 23.023 1857.45 26.8193 L1857.45 41.472 L1853.17 41.472 L1853.17 5.45367 L1857.45 5.45367 L1857.45 19.574 Q1858.98 17.236 1861.04 16.0786 Q1863.13 14.9212 1865.83 14.9212 Q1870.3 14.9212 1872.59 17.699 Q1874.89 20.4536 1874.89 25.8239 Z\" fill=\"#000000\" fill-rule=\"evenodd\" fill-opacity=\"1\" /><path clip-path=\"url(#clip190)\" d=\"M 0 0 M1889.4 18.5323 Q1885.97 18.5323 1883.98 21.2175 Q1881.99 23.8795 1881.99 28.5323 Q1881.99 33.185 1883.96 35.8702 Q1885.95 38.5322 1889.4 38.5322 Q1892.8 38.5322 1894.79 35.847 Q1896.78 33.1619 1896.78 28.5323 Q1896.78 23.9258 1894.79 21.2406 Q1892.8 18.5323 1889.4 18.5323 M1889.4 14.9212 Q1894.95 14.9212 1898.13 18.5323 Q1901.3 22.1434 1901.3 28.5323 Q1901.3 34.898 1898.13 38.5322 Q1894.95 42.1433 1889.4 42.1433 Q1883.82 42.1433 1880.65 38.5322 Q1877.5 34.898 1877.5 28.5323 Q1877.5 22.1434 1880.65 18.5323 Q1883.82 14.9212 1889.4 14.9212 Z\" fill=\"#000000\" fill-rule=\"evenodd\" fill-opacity=\"1\" /><path clip-path=\"url(#clip190)\" d=\"M 0 0 M1921.39 19.9443 L1951.07 19.9443 L1951.07 23.8332 L1921.39 23.8332 L1921.39 19.9443 M1921.39 29.3887 L1951.07 29.3887 L1951.07 33.3239 L1921.39 33.3239 L1921.39 29.3887 Z\" fill=\"#000000\" fill-rule=\"evenodd\" fill-opacity=\"1\" /><path clip-path=\"url(#clip190)\" d=\"M 0 0 M1981.2 9.99069 Q1977.59 9.99069 1975.76 13.5555 Q1973.96 17.0971 1973.96 24.2267 Q1973.96 31.3332 1975.76 34.898 Q1977.59 38.4396 1981.2 38.4396 Q1984.84 38.4396 1986.64 34.898 Q1988.47 31.3332 1988.47 24.2267 Q1988.47 17.0971 1986.64 13.5555 Q1984.84 9.99069 1981.2 9.99069 M1981.2 6.287 Q1987.01 6.287 1990.07 10.8935 Q1993.15 15.4768 1993.15 24.2267 Q1993.15 32.9535 1990.07 37.56 Q1987.01 42.1433 1981.2 42.1433 Q1975.39 42.1433 1972.32 37.56 Q1969.26 32.9535 1969.26 24.2267 Q1969.26 15.4768 1972.32 10.8935 Q1975.39 6.287 1981.2 6.287 Z\" fill=\"#000000\" fill-rule=\"evenodd\" fill-opacity=\"1\" /><path clip-path=\"url(#clip190)\" d=\"M 0 0 M1998.22 35.5924 L2003.1 35.5924 L2003.1 41.472 L1998.22 41.472 L1998.22 35.5924 Z\" fill=\"#000000\" fill-rule=\"evenodd\" fill-opacity=\"1\" /><path clip-path=\"url(#clip190)\" d=\"M 0 0 M2006.99 6.912 L2029.21 6.912 L2029.21 8.90273 L2016.67 41.472 L2011.78 41.472 L2023.59 10.8472 L2006.99 10.8472 L2006.99 6.912 Z\" fill=\"#000000\" fill-rule=\"evenodd\" fill-opacity=\"1\" /><circle clip-path=\"url(#clip193)\" cx=\"2213.48\" cy=\"193.861\" r=\"14\" fill=\"#009af9\" fill-rule=\"evenodd\" fill-opacity=\"1\" stroke=\"#000000\" stroke-opacity=\"1\" stroke-width=\"3.2\"/>\n",
       "<circle clip-path=\"url(#clip193)\" cx=\"2179.07\" cy=\"126.997\" r=\"14\" fill=\"#009af9\" fill-rule=\"evenodd\" fill-opacity=\"1\" stroke=\"#000000\" stroke-opacity=\"1\" stroke-width=\"3.2\"/>\n",
       "<circle clip-path=\"url(#clip193)\" cx=\"2271.67\" cy=\"744.465\" r=\"14\" fill=\"#009af9\" fill-rule=\"evenodd\" fill-opacity=\"1\" stroke=\"#000000\" stroke-opacity=\"1\" stroke-width=\"3.2\"/>\n",
       "<circle clip-path=\"url(#clip193)\" cx=\"2232.66\" cy=\"781.25\" r=\"14\" fill=\"#009af9\" fill-rule=\"evenodd\" fill-opacity=\"1\" stroke=\"#000000\" stroke-opacity=\"1\" stroke-width=\"3.2\"/>\n",
       "<circle clip-path=\"url(#clip193)\" cx=\"2231.5\" cy=\"225.347\" r=\"14\" fill=\"#009af9\" fill-rule=\"evenodd\" fill-opacity=\"1\" stroke=\"#000000\" stroke-opacity=\"1\" stroke-width=\"3.2\"/>\n",
       "<circle clip-path=\"url(#clip193)\" cx=\"2265.96\" cy=\"1299.42\" r=\"14\" fill=\"#009af9\" fill-rule=\"evenodd\" fill-opacity=\"1\" stroke=\"#000000\" stroke-opacity=\"1\" stroke-width=\"3.2\"/>\n",
       "<circle clip-path=\"url(#clip193)\" cx=\"2238.88\" cy=\"723.081\" r=\"14\" fill=\"#009af9\" fill-rule=\"evenodd\" fill-opacity=\"1\" stroke=\"#000000\" stroke-opacity=\"1\" stroke-width=\"3.2\"/>\n",
       "<circle clip-path=\"url(#clip193)\" cx=\"2322.59\" cy=\"999.742\" r=\"14\" fill=\"#009af9\" fill-rule=\"evenodd\" fill-opacity=\"1\" stroke=\"#000000\" stroke-opacity=\"1\" stroke-width=\"3.2\"/>\n",
       "<circle clip-path=\"url(#clip193)\" cx=\"2231.69\" cy=\"529.777\" r=\"14\" fill=\"#009af9\" fill-rule=\"evenodd\" fill-opacity=\"1\" stroke=\"#000000\" stroke-opacity=\"1\" stroke-width=\"3.2\"/>\n",
       "<circle clip-path=\"url(#clip193)\" cx=\"2198.14\" cy=\"511.98\" r=\"14\" fill=\"#009af9\" fill-rule=\"evenodd\" fill-opacity=\"1\" stroke=\"#000000\" stroke-opacity=\"1\" stroke-width=\"3.2\"/>\n",
       "<circle clip-path=\"url(#clip193)\" cx=\"2253.5\" cy=\"459.561\" r=\"14\" fill=\"#009af9\" fill-rule=\"evenodd\" fill-opacity=\"1\" stroke=\"#000000\" stroke-opacity=\"1\" stroke-width=\"3.2\"/>\n",
       "<circle clip-path=\"url(#clip193)\" cx=\"2245.19\" cy=\"766.936\" r=\"14\" fill=\"#009af9\" fill-rule=\"evenodd\" fill-opacity=\"1\" stroke=\"#000000\" stroke-opacity=\"1\" stroke-width=\"3.2\"/>\n",
       "<circle clip-path=\"url(#clip193)\" cx=\"2243.45\" cy=\"568.421\" r=\"14\" fill=\"#009af9\" fill-rule=\"evenodd\" fill-opacity=\"1\" stroke=\"#000000\" stroke-opacity=\"1\" stroke-width=\"3.2\"/>\n",
       "<circle clip-path=\"url(#clip193)\" cx=\"2182.59\" cy=\"575.04\" r=\"14\" fill=\"#009af9\" fill-rule=\"evenodd\" fill-opacity=\"1\" stroke=\"#000000\" stroke-opacity=\"1\" stroke-width=\"3.2\"/>\n",
       "<circle clip-path=\"url(#clip193)\" cx=\"2249.9\" cy=\"865.694\" r=\"14\" fill=\"#009af9\" fill-rule=\"evenodd\" fill-opacity=\"1\" stroke=\"#000000\" stroke-opacity=\"1\" stroke-width=\"3.2\"/>\n",
       "<circle clip-path=\"url(#clip193)\" cx=\"1610.62\" cy=\"296.928\" r=\"14\" fill=\"#e26f46\" fill-rule=\"evenodd\" fill-opacity=\"1\" stroke=\"#000000\" stroke-opacity=\"1\" stroke-width=\"3.2\"/>\n",
       "<circle clip-path=\"url(#clip193)\" cx=\"1805.43\" cy=\"1224.6\" r=\"14\" fill=\"#e26f46\" fill-rule=\"evenodd\" fill-opacity=\"1\" stroke=\"#000000\" stroke-opacity=\"1\" stroke-width=\"3.2\"/>\n",
       "<circle clip-path=\"url(#clip193)\" cx=\"1709.55\" cy=\"761.896\" r=\"14\" fill=\"#e26f46\" fill-rule=\"evenodd\" fill-opacity=\"1\" stroke=\"#000000\" stroke-opacity=\"1\" stroke-width=\"3.2\"/>\n",
       "<circle clip-path=\"url(#clip193)\" cx=\"1743.74\" cy=\"985.793\" r=\"14\" fill=\"#e26f46\" fill-rule=\"evenodd\" fill-opacity=\"1\" stroke=\"#000000\" stroke-opacity=\"1\" stroke-width=\"3.2\"/>\n",
       "<circle clip-path=\"url(#clip193)\" cx=\"1782.63\" cy=\"795.973\" r=\"14\" fill=\"#e26f46\" fill-rule=\"evenodd\" fill-opacity=\"1\" stroke=\"#000000\" stroke-opacity=\"1\" stroke-width=\"3.2\"/>\n",
       "<circle clip-path=\"url(#clip193)\" cx=\"1843.59\" cy=\"1138.75\" r=\"14\" fill=\"#e26f46\" fill-rule=\"evenodd\" fill-opacity=\"1\" stroke=\"#000000\" stroke-opacity=\"1\" stroke-width=\"3.2\"/>\n",
       "<circle clip-path=\"url(#clip193)\" cx=\"1710.35\" cy=\"512.582\" r=\"14\" fill=\"#e26f46\" fill-rule=\"evenodd\" fill-opacity=\"1\" stroke=\"#000000\" stroke-opacity=\"1\" stroke-width=\"3.2\"/>\n",
       "<circle clip-path=\"url(#clip193)\" cx=\"1797.3\" cy=\"880.202\" r=\"14\" fill=\"#e26f46\" fill-rule=\"evenodd\" fill-opacity=\"1\" stroke=\"#000000\" stroke-opacity=\"1\" stroke-width=\"3.2\"/>\n",
       "<circle clip-path=\"url(#clip193)\" cx=\"1683.5\" cy=\"735.407\" r=\"14\" fill=\"#e26f46\" fill-rule=\"evenodd\" fill-opacity=\"1\" stroke=\"#000000\" stroke-opacity=\"1\" stroke-width=\"3.2\"/>\n",
       "<circle clip-path=\"url(#clip193)\" cx=\"1778.74\" cy=\"695.269\" r=\"14\" fill=\"#e26f46\" fill-rule=\"evenodd\" fill-opacity=\"1\" stroke=\"#000000\" stroke-opacity=\"1\" stroke-width=\"3.2\"/>\n",
       "<circle clip-path=\"url(#clip193)\" cx=\"1735.48\" cy=\"635.349\" r=\"14\" fill=\"#e26f46\" fill-rule=\"evenodd\" fill-opacity=\"1\" stroke=\"#000000\" stroke-opacity=\"1\" stroke-width=\"3.2\"/>\n",
       "<circle clip-path=\"url(#clip193)\" cx=\"1778.93\" cy=\"999.699\" r=\"14\" fill=\"#e26f46\" fill-rule=\"evenodd\" fill-opacity=\"1\" stroke=\"#000000\" stroke-opacity=\"1\" stroke-width=\"3.2\"/>\n",
       "<circle clip-path=\"url(#clip193)\" cx=\"1709.49\" cy=\"907.239\" r=\"14\" fill=\"#e26f46\" fill-rule=\"evenodd\" fill-opacity=\"1\" stroke=\"#000000\" stroke-opacity=\"1\" stroke-width=\"3.2\"/>\n",
       "<circle clip-path=\"url(#clip193)\" cx=\"1947\" cy=\"1347.03\" r=\"14\" fill=\"#e26f46\" fill-rule=\"evenodd\" fill-opacity=\"1\" stroke=\"#000000\" stroke-opacity=\"1\" stroke-width=\"3.2\"/>\n",
       "<circle clip-path=\"url(#clip193)\" cx=\"1754.05\" cy=\"1479.74\" r=\"14\" fill=\"#3da44d\" fill-rule=\"evenodd\" fill-opacity=\"1\" stroke=\"#000000\" stroke-opacity=\"1\" stroke-width=\"3.2\"/>\n",
       "<circle clip-path=\"url(#clip193)\" cx=\"1389.84\" cy=\"104.257\" r=\"14\" fill=\"#3da44d\" fill-rule=\"evenodd\" fill-opacity=\"1\" stroke=\"#000000\" stroke-opacity=\"1\" stroke-width=\"3.2\"/>\n",
       "<circle clip-path=\"url(#clip193)\" cx=\"1536.95\" cy=\"620.239\" r=\"14\" fill=\"#3da44d\" fill-rule=\"evenodd\" fill-opacity=\"1\" stroke=\"#000000\" stroke-opacity=\"1\" stroke-width=\"3.2\"/>\n",
       "<circle clip-path=\"url(#clip193)\" cx=\"1512.9\" cy=\"389.505\" r=\"14\" fill=\"#3da44d\" fill-rule=\"evenodd\" fill-opacity=\"1\" stroke=\"#000000\" stroke-opacity=\"1\" stroke-width=\"3.2\"/>\n",
       "<circle clip-path=\"url(#clip193)\" cx=\"1580.57\" cy=\"479.806\" r=\"14\" fill=\"#3da44d\" fill-rule=\"evenodd\" fill-opacity=\"1\" stroke=\"#000000\" stroke-opacity=\"1\" stroke-width=\"3.2\"/>\n",
       "<circle clip-path=\"url(#clip193)\" cx=\"1559.26\" cy=\"799.443\" r=\"14\" fill=\"#3da44d\" fill-rule=\"evenodd\" fill-opacity=\"1\" stroke=\"#000000\" stroke-opacity=\"1\" stroke-width=\"3.2\"/>\n",
       "<circle clip-path=\"url(#clip193)\" cx=\"1465.57\" cy=\"436.927\" r=\"14\" fill=\"#3da44d\" fill-rule=\"evenodd\" fill-opacity=\"1\" stroke=\"#000000\" stroke-opacity=\"1\" stroke-width=\"3.2\"/>\n",
       "<circle clip-path=\"url(#clip193)\" cx=\"1613.8\" cy=\"748.969\" r=\"14\" fill=\"#3da44d\" fill-rule=\"evenodd\" fill-opacity=\"1\" stroke=\"#000000\" stroke-opacity=\"1\" stroke-width=\"3.2\"/>\n",
       "<circle clip-path=\"url(#clip193)\" cx=\"1565.07\" cy=\"593.877\" r=\"14\" fill=\"#3da44d\" fill-rule=\"evenodd\" fill-opacity=\"1\" stroke=\"#000000\" stroke-opacity=\"1\" stroke-width=\"3.2\"/>\n",
       "<circle clip-path=\"url(#clip193)\" cx=\"1387.74\" cy=\"402.833\" r=\"14\" fill=\"#3da44d\" fill-rule=\"evenodd\" fill-opacity=\"1\" stroke=\"#000000\" stroke-opacity=\"1\" stroke-width=\"3.2\"/>\n",
       "<circle clip-path=\"url(#clip193)\" cx=\"1470.4\" cy=\"325.998\" r=\"14\" fill=\"#3da44d\" fill-rule=\"evenodd\" fill-opacity=\"1\" stroke=\"#000000\" stroke-opacity=\"1\" stroke-width=\"3.2\"/>\n",
       "<circle clip-path=\"url(#clip193)\" cx=\"1448.51\" cy=\"656.914\" r=\"14\" fill=\"#3da44d\" fill-rule=\"evenodd\" fill-opacity=\"1\" stroke=\"#000000\" stroke-opacity=\"1\" stroke-width=\"3.2\"/>\n",
       "<circle clip-path=\"url(#clip193)\" cx=\"1507.23\" cy=\"551.751\" r=\"14\" fill=\"#3da44d\" fill-rule=\"evenodd\" fill-opacity=\"1\" stroke=\"#000000\" stroke-opacity=\"1\" stroke-width=\"3.2\"/>\n",
       "<circle clip-path=\"url(#clip193)\" cx=\"1666.62\" cy=\"450.609\" r=\"14\" fill=\"#3da44d\" fill-rule=\"evenodd\" fill-opacity=\"1\" stroke=\"#000000\" stroke-opacity=\"1\" stroke-width=\"3.2\"/>\n",
       "<circle clip-path=\"url(#clip193)\" cx=\"1317.16\" cy=\"266.947\" r=\"14\" fill=\"#3da44d\" fill-rule=\"evenodd\" fill-opacity=\"1\" stroke=\"#000000\" stroke-opacity=\"1\" stroke-width=\"3.2\"/>\n",
       "<circle clip-path=\"url(#clip193)\" cx=\"1543.69\" cy=\"615.135\" r=\"14\" fill=\"#3da44d\" fill-rule=\"evenodd\" fill-opacity=\"1\" stroke=\"#000000\" stroke-opacity=\"1\" stroke-width=\"3.2\"/>\n",
       "</svg>\n"
      ]
     },
     "metadata": {},
     "execution_count": 19
    }
   ],
   "cell_type": "code",
   "source": [
    "p1 = scatter(X_test_pca[1,:], X_test_pca[2,:], group=y_hat_1, title=@sprintf \"FuzzyART rho = %.1f\" rho_1)\n",
    "p2 = scatter(X_test_pca[1,:], X_test_pca[2,:], group=y_hat_2, title=@sprintf \"FuzzyART rho = %.1f\" rho_2)\n",
    "plot(p1, p2, layout=(1, 2), legend = false, xtickfontsize=6, xguidefontsize=8, titlefont=font(8))"
   ],
   "metadata": {},
   "execution_count": 19
  },
  {
   "cell_type": "markdown",
   "source": [
    "---\n",
    "\n",
    "*This notebook was generated using [Literate.jl](https://github.com/fredrikekre/Literate.jl).*"
   ],
   "metadata": {}
  }
 ],
 "nbformat_minor": 3,
 "metadata": {
  "language_info": {
   "file_extension": ".jl",
   "mimetype": "application/julia",
   "name": "julia",
   "version": "1.4.2"
  },
  "kernelspec": {
   "name": "julia-1.4",
   "display_name": "Julia 1.4.2",
   "language": "julia"
  }
 },
 "nbformat": 4
}
