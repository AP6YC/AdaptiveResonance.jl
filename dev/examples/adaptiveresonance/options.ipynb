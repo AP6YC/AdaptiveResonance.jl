{
 "cells": [
  {
   "cell_type": "markdown",
   "source": [
    "## Overview"
   ],
   "metadata": {}
  },
  {
   "cell_type": "markdown",
   "source": [
    "The `AdaptiveResonance.jl` package has several ways of handling options for ART modules.\n",
    "These methods are meant to give maximum flexibility to the user for sharing and interpreting options, which themselves vary between each module."
   ],
   "metadata": {}
  },
  {
   "cell_type": "markdown",
   "source": [
    "!!! note\n",
    "    For more info on options in ART modules, see the guide in the docs on ART options."
   ],
   "metadata": {}
  },
  {
   "cell_type": "markdown",
   "source": [
    "## ART Options"
   ],
   "metadata": {}
  },
  {
   "cell_type": "markdown",
   "source": [
    "To get a feel for the ART options system, we will inspect different options and their instantiation methods."
   ],
   "metadata": {}
  },
  {
   "cell_type": "markdown",
   "source": [
    "### Inspection"
   ],
   "metadata": {}
  },
  {
   "cell_type": "markdown",
   "source": [
    "First, we load `AdaptiveResonance`:"
   ],
   "metadata": {}
  },
  {
   "outputs": [],
   "cell_type": "code",
   "source": [
    "using AdaptiveResonance"
   ],
   "metadata": {},
   "execution_count": 1
  },
  {
   "cell_type": "markdown",
   "source": [
    "Every ART module has a default constructor, which can be instantiated in the usual way:"
   ],
   "metadata": {}
  },
  {
   "outputs": [
    {
     "output_type": "execute_result",
     "data": {
      "text/plain": "FuzzyART"
     },
     "metadata": {},
     "execution_count": 2
    }
   ],
   "cell_type": "code",
   "source": [
    "# Create a FuzzyART module with default options\n",
    "my_fuzzyart = FuzzyART()\n",
    "typeof(my_fuzzyart)"
   ],
   "metadata": {},
   "execution_count": 2
  },
  {
   "cell_type": "markdown",
   "source": [
    "Within every ART module is a [Parameters.jl](https://github.com/mauro3/Parameters.jl) struct named `opts` containing the options for the module"
   ],
   "metadata": {}
  },
  {
   "outputs": [
    {
     "output_type": "execute_result",
     "data": {
      "text/plain": "opts_FuzzyART\n  rho: Float64 0.6\n  alpha: Float64 0.001\n  beta: Float64 1.0\n  gamma: Float64 3.0\n  gamma_ref: Float64 1.0\n  display: Bool true\n  max_epochs: Int64 1\n  gamma_normalization: Bool false\n"
     },
     "metadata": {},
     "execution_count": 3
    }
   ],
   "cell_type": "code",
   "source": [
    "# Check the FuzzyART options\n",
    "my_fuzzyart.opts"
   ],
   "metadata": {},
   "execution_count": 3
  },
  {
   "cell_type": "markdown",
   "source": [
    "Note that the options here have the type `opts_FuzzyART`.\n",
    "This nomenclature is used throughout the module to indicate an options type associated with an ART module.\n",
    "For example, the options for a DDVFA module are `opts_DDVFA`:"
   ],
   "metadata": {}
  },
  {
   "outputs": [
    {
     "output_type": "execute_result",
     "data": {
      "text/plain": "opts_DDVFA"
     },
     "metadata": {},
     "execution_count": 4
    }
   ],
   "cell_type": "code",
   "source": [
    "# Create a DDVFA module and check the type of the options\n",
    "my_ddvfa = DDVFA()\n",
    "typeof(my_ddvfa.opts)"
   ],
   "metadata": {},
   "execution_count": 4
  },
  {
   "cell_type": "markdown",
   "source": [
    "In fact, we can create an instance of these options with a default constructor:"
   ],
   "metadata": {}
  },
  {
   "outputs": [
    {
     "output_type": "execute_result",
     "data": {
      "text/plain": "opts_FuzzyART\n  rho: Float64 0.6\n  alpha: Float64 0.001\n  beta: Float64 1.0\n  gamma: Float64 3.0\n  gamma_ref: Float64 1.0\n  display: Bool true\n  max_epochs: Int64 1\n  gamma_normalization: Bool false\n"
     },
     "metadata": {},
     "execution_count": 5
    }
   ],
   "cell_type": "code",
   "source": [
    "# Create a separate options struct\n",
    "my_fuzzyart_opts = opts_FuzzyART()"
   ],
   "metadata": {},
   "execution_count": 5
  },
  {
   "cell_type": "markdown",
   "source": [
    "In addition to the default constructor, we can construct ART modules by instantiating these options and passing them to the module during construction:"
   ],
   "metadata": {}
  },
  {
   "outputs": [
    {
     "output_type": "execute_result",
     "data": {
      "text/plain": "FuzzyART(opts_FuzzyART\n  rho: Float64 0.6\n  alpha: Float64 0.001\n  beta: Float64 1.0\n  gamma: Float64 3.0\n  gamma_ref: Float64 1.0\n  display: Bool true\n  max_epochs: Int64 1\n  gamma_normalization: Bool false\n, DataConfig(false, Float64[], Float64[], 0, 0), 0.0, Int64[], Float64[], Float64[], Array{Float64}(undef,0,0), Int64[], 0, 0)"
     },
     "metadata": {},
     "execution_count": 6
    }
   ],
   "cell_type": "code",
   "source": [
    "# Instantiate an ART module by passing our options\n",
    "my_fuzzyart = FuzzyART(my_fuzzyart_opts)\n",
    "my_other_fuzzyart = FuzzyART(my_fuzzyart_opts)"
   ],
   "metadata": {},
   "execution_count": 6
  },
  {
   "cell_type": "markdown",
   "source": [
    "### Specifying Options"
   ],
   "metadata": {}
  },
  {
   "cell_type": "markdown",
   "source": [
    "Now to the good stuff: because of the behavior of the `Parameters.jl` type, each option has a default value that we can modify during instantiation with keyword arguments:"
   ],
   "metadata": {}
  },
  {
   "outputs": [
    {
     "output_type": "execute_result",
     "data": {
      "text/plain": "FuzzyART(opts_FuzzyART\n  rho: Float64 0.6\n  alpha: Float64 0.001\n  beta: Float64 1.0\n  gamma: Float64 3.0\n  gamma_ref: Float64 1.0\n  display: Bool true\n  max_epochs: Int64 1\n  gamma_normalization: Bool true\n, DataConfig(false, Float64[], Float64[], 0, 0), 0.0, Int64[], Float64[], Float64[], Array{Float64}(undef,0,0), Int64[], 0, 0)"
     },
     "metadata": {},
     "execution_count": 7
    }
   ],
   "cell_type": "code",
   "source": [
    "# Change some of the default FuzzyART options\n",
    "my_fuzzyart_opts = opts_FuzzyART(\n",
    "    rho=0.6,\n",
    "    gamma_normalization=true\n",
    ")\n",
    "my_fuzzyart = FuzzyART(my_fuzzyart_opts)"
   ],
   "metadata": {},
   "execution_count": 7
  },
  {
   "cell_type": "markdown",
   "source": [
    "As some syntactic sugar, we can pass these keyword arguments directly to the module during instantiation if we have no need to share option structs:"
   ],
   "metadata": {}
  },
  {
   "outputs": [
    {
     "output_type": "execute_result",
     "data": {
      "text/plain": "FuzzyART(opts_FuzzyART\n  rho: Float64 0.6\n  alpha: Float64 0.001\n  beta: Float64 1.0\n  gamma: Float64 3.0\n  gamma_ref: Float64 1.0\n  display: Bool true\n  max_epochs: Int64 1\n  gamma_normalization: Bool true\n, DataConfig(false, Float64[], Float64[], 0, 0), 0.0, Int64[], Float64[], Float64[], Array{Float64}(undef,0,0), Int64[], 0, 0)"
     },
     "metadata": {},
     "execution_count": 8
    }
   ],
   "cell_type": "code",
   "source": [
    "# Pass these keyword arguments to the module directly\n",
    "my_fuzzyart = FuzzyART(\n",
    "    rho=0.6,\n",
    "    gamma_normalization=true\n",
    ")"
   ],
   "metadata": {},
   "execution_count": 8
  },
  {
   "cell_type": "markdown",
   "source": [
    "Before training, we can also instantiate the model and alter the options afterward:"
   ],
   "metadata": {}
  },
  {
   "outputs": [
    {
     "output_type": "execute_result",
     "data": {
      "text/plain": "0.6"
     },
     "metadata": {},
     "execution_count": 9
    }
   ],
   "cell_type": "code",
   "source": [
    "my_fuzzyart = FuzzyART()\n",
    "my_fuzzyart.opts.rho=0.6"
   ],
   "metadata": {},
   "execution_count": 9
  },
  {
   "cell_type": "markdown",
   "source": [
    "!!! note\n",
    "    All ART modules are designed to use this options struct internally when the parameters are needed.\n",
    "    It is possible to change these parameters in the middle of training and evaluation, but some algorithmic instability may occur."
   ],
   "metadata": {}
  },
  {
   "cell_type": "markdown",
   "source": [
    "## Comparison"
   ],
   "metadata": {}
  },
  {
   "cell_type": "markdown",
   "source": [
    "To see the effect that changing these parameters has on the modules, we can train and test them side-by-side."
   ],
   "metadata": {}
  },
  {
   "cell_type": "markdown",
   "source": [
    "We begin with importing AdaptiveResonance for the ART modules and MLDatasets for some data utilities."
   ],
   "metadata": {}
  },
  {
   "outputs": [],
   "cell_type": "code",
   "source": [
    "using MLDatasets        # Iris dataset\n",
    "using MLDataUtils       # Shuffling and splitting\n",
    "using Printf            # Formatted number printing\n",
    "using MultivariateStats # Principal component analysis (PCA)\n",
    "using Plots             # Plotting"
   ],
   "metadata": {},
   "execution_count": 10
  },
  {
   "cell_type": "markdown",
   "source": [
    "We will download the Iris dataset for its small size and benchmark use for clustering algorithms."
   ],
   "metadata": {}
  },
  {
   "outputs": [
    {
     "output_type": "execute_result",
     "data": {
      "text/plain": "([5.1 4.9 … 6.2 5.9; 3.5 3.0 … 3.4 3.0; 1.4 1.4 … 5.4 5.1; 0.2 0.2 … 2.3 1.8], [\"Iris-setosa\", \"Iris-setosa\", \"Iris-setosa\", \"Iris-setosa\", \"Iris-setosa\", \"Iris-setosa\", \"Iris-setosa\", \"Iris-setosa\", \"Iris-setosa\", \"Iris-setosa\"  …  \"Iris-virginica\", \"Iris-virginica\", \"Iris-virginica\", \"Iris-virginica\", \"Iris-virginica\", \"Iris-virginica\", \"Iris-virginica\", \"Iris-virginica\", \"Iris-virginica\", \"Iris-virginica\"])"
     },
     "metadata": {},
     "execution_count": 11
    }
   ],
   "cell_type": "code",
   "source": [
    "Iris.download(i_accept_the_terms_of_use=true)\n",
    "features, labels = Iris.features(), Iris.labels()"
   ],
   "metadata": {},
   "execution_count": 11
  },
  {
   "cell_type": "markdown",
   "source": [
    "Because the MLDatasets package gives us Iris labels as strings, we will use the `MLDataUtils.convertlabel` method with the `MLLabelUtils.LabelEnc.Indices` type to get a list of integers representing each class:"
   ],
   "metadata": {}
  },
  {
   "outputs": [
    {
     "output_type": "execute_result",
     "data": {
      "text/plain": "3-element Array{Int64,1}:\n 1\n 2\n 3"
     },
     "metadata": {},
     "execution_count": 12
    }
   ],
   "cell_type": "code",
   "source": [
    "labels = convertlabel(LabelEnc.Indices{Int}, labels)\n",
    "unique(labels)"
   ],
   "metadata": {},
   "execution_count": 12
  },
  {
   "cell_type": "markdown",
   "source": [
    "Next, we will create a train/test split with the `MLDataUtils.stratifiedobs` utility:"
   ],
   "metadata": {}
  },
  {
   "outputs": [
    {
     "output_type": "execute_result",
     "data": {
      "text/plain": "(([6.8 6.6 … 4.6 6.3; 2.8 2.9 … 3.4 2.8; 4.8 4.6 … 1.4 5.1; 1.4 1.3 … 0.3 1.5], [2, 2, 2, 1, 3, 3, 2, 2, 1, 2  …  1, 3, 1, 1, 3, 1, 1, 1, 1, 3]), ([5.9 6.4 … 6.3 6.5; 3.0 2.8 … 3.4 3.0; 4.2 5.6 … 5.6 5.5; 1.5 2.1 … 2.4 1.8], [2, 3, 1, 3, 2, 3, 2, 1, 3, 1  …  1, 3, 2, 1, 1, 2, 1, 2, 3, 3]))"
     },
     "metadata": {},
     "execution_count": 13
    }
   ],
   "cell_type": "code",
   "source": [
    "(X_train, y_train), (X_test, y_test) = stratifiedobs((features, labels))"
   ],
   "metadata": {},
   "execution_count": 13
  },
  {
   "cell_type": "markdown",
   "source": [
    "Now we can create several FuzzyART modules with different options."
   ],
   "metadata": {}
  },
  {
   "outputs": [
    {
     "output_type": "execute_result",
     "data": {
      "text/plain": "FuzzyART(opts_FuzzyART\n  rho: Float64 0.7\n  alpha: Float64 0.001\n  beta: Float64 1.0\n  gamma: Float64 3.0\n  gamma_ref: Float64 1.0\n  display: Bool false\n  max_epochs: Int64 1\n  gamma_normalization: Bool false\n, DataConfig(false, Float64[], Float64[], 0, 0), 0.0, Int64[], Float64[], Float64[], Array{Float64}(undef,0,0), Int64[], 0, 0)"
     },
     "metadata": {},
     "execution_count": 14
    }
   ],
   "cell_type": "code",
   "source": [
    "# Create two FuzzyARTs with different vigilance values and suppressing logging messages\n",
    "rho_1 = 0.5\n",
    "rho_2 = 0.7\n",
    "my_fuzzyart_1 = FuzzyART(rho=rho_1, display=false)\n",
    "my_fuzzyart_2 = FuzzyART(rho=rho_2, display=false)"
   ],
   "metadata": {},
   "execution_count": 14
  },
  {
   "cell_type": "markdown",
   "source": [
    "Here, we will train these FuzzyART modules in simple supervised mode by passing the supervised labels as a keyword argument:"
   ],
   "metadata": {}
  },
  {
   "outputs": [],
   "cell_type": "code",
   "source": [
    "# Train in simple supervised mode by passing the labels as a keyword argument.\n",
    "y_hat_train_1 = train!(my_fuzzyart_1, X_train, y=y_train)\n",
    "y_hat_train_2 = train!(my_fuzzyart_2, X_train, y=y_train)"
   ],
   "metadata": {},
   "execution_count": 15
  },
  {
   "cell_type": "markdown",
   "source": [
    "We then classify the test data with both modules:"
   ],
   "metadata": {}
  },
  {
   "outputs": [
    {
     "name": "stdout",
     "output_type": "stream",
     "text": [
      "FuzzyART 1 labels: (45,) Array{Int64,1}\n",
      "FuzzyART 2 labels: (45,) Array{Int64,1}\n",
      "Testing performance rho=0.5: 0.9333\n",
      "Testing performance rho=0.7: 0.9556\n"
     ]
    }
   ],
   "cell_type": "code",
   "source": [
    "y_hat_1 = AdaptiveResonance.classify(my_fuzzyart_1, X_test, get_bmu=true)\n",
    "y_hat_2 = AdaptiveResonance.classify(my_fuzzyart_2, X_test, get_bmu=true)\n",
    "\n",
    "# Check the shape and type of the output labels\n",
    "println(\"FuzzyART 1 labels: \",  size(y_hat_1), \" \", typeof(y_hat_1))\n",
    "println(\"FuzzyART 2 labels: \",  size(y_hat_2), \" \", typeof(y_hat_2))\n",
    "\n",
    "# Calculate the performance on the test data\n",
    "perf_test_1 = performance(y_hat_1, y_test)\n",
    "perf_test_2 = performance(y_hat_2, y_test)\n",
    "\n",
    "# Format each performance number for comparison\n",
    "@printf \"Testing performance rho=%.1f: %.4f\\n\" rho_1 perf_test_1\n",
    "@printf \"Testing performance rho=%.1f: %.4f\\n\" rho_2 perf_test_2"
   ],
   "metadata": {},
   "execution_count": 16
  },
  {
   "cell_type": "markdown",
   "source": [
    "In addition to having different performances, we can see that there is a subsequent trade-off in the number of categories used:"
   ],
   "metadata": {}
  },
  {
   "outputs": [
    {
     "name": "stdout",
     "output_type": "stream",
     "text": [
      "Number of categories rho=0.5: 8\n",
      "Number of categories rho=0.7: 16\n"
     ]
    }
   ],
   "cell_type": "code",
   "source": [
    "# Print the number of categories for each vigilance parameter\n",
    "@printf \"Number of categories rho=%.1f: %i\\n\" rho_1 my_fuzzyart_1.n_categories\n",
    "@printf \"Number of categories rho=%.1f: %i\\n\" rho_2 my_fuzzyart_2.n_categories"
   ],
   "metadata": {},
   "execution_count": 17
  },
  {
   "cell_type": "markdown",
   "source": [
    "The variation between vigilance parameter, number of categories created during learning, and testing performance/generalization is a central theme in ART-based algorithms."
   ],
   "metadata": {}
  },
  {
   "cell_type": "markdown",
   "source": [
    "## Visualization"
   ],
   "metadata": {}
  },
  {
   "cell_type": "markdown",
   "source": [
    "Now, to visualize how the two models differ in how they partition the data, we can use principal component analysis (PCA) to compress to two plotting dimensions.\n",
    "PCA is a method to represent a dataset in a different number of dimensions while preserving the relative separation between datapoints.\n",
    "Though most datasets are not able to be effectively transformed down to two dimensions, this technique is useful to get a general sense of how well separated the classes are and how well your algorithm classifies them."
   ],
   "metadata": {}
  },
  {
   "outputs": [
    {
     "name": "stdout",
     "output_type": "stream",
     "text": [
      "┌ Warning: `transform(f, x)` is deprecated, use `predict(f, x)` instead.\n",
      "│   caller = top-level scope at options.ipynb:5\n",
      "└ @ Core ~/work/AdaptiveResonance.jl/AdaptiveResonance.jl/docs/src/examples/adaptiveresonance/options.ipynb:5\n"
     ]
    },
    {
     "output_type": "execute_result",
     "data": {
      "text/plain": "2×45 Array{Float64,2}:\n -0.511098  -2.12285    2.67384   …  -0.245195  -2.14499   -1.94925\n -0.102284  -0.210855  -0.106692     -0.266728   0.138907   0.0407303"
     },
     "metadata": {},
     "execution_count": 18
    }
   ],
   "cell_type": "code",
   "source": [
    "# Train a PCA model to visually separate the features in two dimensions.\n",
    "M = fit(PCA, features; maxoutdim=2)\n",
    "\n",
    "# Apply the PCA model to the testing set\n",
    "X_test_pca = transform(M, X_test)"
   ],
   "metadata": {},
   "execution_count": 18
  },
  {
   "cell_type": "markdown",
   "source": [
    "We can now plot the PCA'ed test set and label them according to the two FuzzyART's"
   ],
   "metadata": {}
  },
  {
   "outputs": [
    {
     "output_type": "execute_result",
     "data": {
      "text/plain": "Plot{Plots.GRBackend() n=6}",
      "image/png": "[encoded data removed]",
      "text/html": [
       "<?xml version=\"1.0\" encoding=\"utf-8\"?>\n",
       "<svg xmlns=\"http://www.w3.org/2000/svg\" xmlns:xlink=\"http://www.w3.org/1999/xlink\" width=\"600\" height=\"400\" viewBox=\"0 0 2400 1600\">\n",
       "<defs>\n",
       "  <clipPath id=\"clip710\">\n",
       "    <rect x=\"0\" y=\"0\" width=\"2400\" height=\"1600\"/>\n",
       "  </clipPath>\n",
       "</defs>\n",
       "<path clip-path=\"url(#clip710)\" d=\"\n",
       "M0 1600 L2400 1600 L2400 0 L0 0  Z\n",
       "  \" fill=\"#ffffff\" fill-rule=\"evenodd\" fill-opacity=\"1\"/>\n",
       "<defs>\n",
       "  <clipPath id=\"clip711\">\n",
       "    <rect x=\"480\" y=\"0\" width=\"1681\" height=\"1600\"/>\n",
       "  </clipPath>\n",
       "</defs>\n",
       "<path clip-path=\"url(#clip710)\" d=\"\n",
       "M86.9921 1521.01 L1152.76 1521.01 L1152.76 62.9921 L86.9921 62.9921  Z\n",
       "  \" fill=\"#ffffff\" fill-rule=\"evenodd\" fill-opacity=\"1\"/>\n",
       "<defs>\n",
       "  <clipPath id=\"clip712\">\n",
       "    <rect x=\"86\" y=\"62\" width=\"1067\" height=\"1459\"/>\n",
       "  </clipPath>\n",
       "</defs>\n",
       "<polyline clip-path=\"url(#clip712)\" style=\"stroke:#000000; stroke-width:2; stroke-opacity:0.1; fill:none\" points=\"\n",
       "  195.724,1521.01 195.724,62.9921 \n",
       "  \"/>\n",
       "<polyline clip-path=\"url(#clip712)\" style=\"stroke:#000000; stroke-width:2; stroke-opacity:0.1; fill:none\" points=\"\n",
       "  353.092,1521.01 353.092,62.9921 \n",
       "  \"/>\n",
       "<polyline clip-path=\"url(#clip712)\" style=\"stroke:#000000; stroke-width:2; stroke-opacity:0.1; fill:none\" points=\"\n",
       "  510.46,1521.01 510.46,62.9921 \n",
       "  \"/>\n",
       "<polyline clip-path=\"url(#clip712)\" style=\"stroke:#000000; stroke-width:2; stroke-opacity:0.1; fill:none\" points=\"\n",
       "  667.828,1521.01 667.828,62.9921 \n",
       "  \"/>\n",
       "<polyline clip-path=\"url(#clip712)\" style=\"stroke:#000000; stroke-width:2; stroke-opacity:0.1; fill:none\" points=\"\n",
       "  825.196,1521.01 825.196,62.9921 \n",
       "  \"/>\n",
       "<polyline clip-path=\"url(#clip712)\" style=\"stroke:#000000; stroke-width:2; stroke-opacity:0.1; fill:none\" points=\"\n",
       "  982.564,1521.01 982.564,62.9921 \n",
       "  \"/>\n",
       "<polyline clip-path=\"url(#clip712)\" style=\"stroke:#000000; stroke-width:2; stroke-opacity:0.1; fill:none\" points=\"\n",
       "  1139.93,1521.01 1139.93,62.9921 \n",
       "  \"/>\n",
       "<polyline clip-path=\"url(#clip710)\" style=\"stroke:#000000; stroke-width:4; stroke-opacity:1; fill:none\" points=\"\n",
       "  86.9921,1521.01 1152.76,1521.01 \n",
       "  \"/>\n",
       "<polyline clip-path=\"url(#clip710)\" style=\"stroke:#000000; stroke-width:4; stroke-opacity:1; fill:none\" points=\"\n",
       "  195.724,1521.01 195.724,1503.51 \n",
       "  \"/>\n",
       "<polyline clip-path=\"url(#clip710)\" style=\"stroke:#000000; stroke-width:4; stroke-opacity:1; fill:none\" points=\"\n",
       "  353.092,1521.01 353.092,1503.51 \n",
       "  \"/>\n",
       "<polyline clip-path=\"url(#clip710)\" style=\"stroke:#000000; stroke-width:4; stroke-opacity:1; fill:none\" points=\"\n",
       "  510.46,1521.01 510.46,1503.51 \n",
       "  \"/>\n",
       "<polyline clip-path=\"url(#clip710)\" style=\"stroke:#000000; stroke-width:4; stroke-opacity:1; fill:none\" points=\"\n",
       "  667.828,1521.01 667.828,1503.51 \n",
       "  \"/>\n",
       "<polyline clip-path=\"url(#clip710)\" style=\"stroke:#000000; stroke-width:4; stroke-opacity:1; fill:none\" points=\"\n",
       "  825.196,1521.01 825.196,1503.51 \n",
       "  \"/>\n",
       "<polyline clip-path=\"url(#clip710)\" style=\"stroke:#000000; stroke-width:4; stroke-opacity:1; fill:none\" points=\"\n",
       "  982.564,1521.01 982.564,1503.51 \n",
       "  \"/>\n",
       "<polyline clip-path=\"url(#clip710)\" style=\"stroke:#000000; stroke-width:4; stroke-opacity:1; fill:none\" points=\"\n",
       "  1139.93,1521.01 1139.93,1503.51 \n",
       "  \"/>\n",
       "<path clip-path=\"url(#clip710)\" d=\"M 0 0 M174.708 1558.69 L196.965 1558.69 L196.965 1561.64 L174.708 1561.64 L174.708 1558.69 Z\" fill=\"#000000\" fill-rule=\"evenodd\" fill-opacity=\"1\" /><path clip-path=\"url(#clip710)\" d=\"M 0 0 M211.392 1557.34 Q213.909 1557.87 215.316 1559.58 Q216.739 1561.28 216.739 1563.78 Q216.739 1567.61 214.1 1569.71 Q211.461 1571.82 206.6 1571.82 Q204.968 1571.82 203.232 1571.49 Q201.514 1571.17 199.673 1570.53 L199.673 1567.15 Q201.132 1568 202.868 1568.43 Q204.604 1568.86 206.496 1568.86 Q209.795 1568.86 211.514 1567.56 Q213.25 1566.26 213.25 1563.78 Q213.25 1561.49 211.635 1560.2 Q210.038 1558.9 207.173 1558.9 L204.152 1558.9 L204.152 1556.02 L207.312 1556.02 Q209.899 1556.02 211.27 1554.99 Q212.642 1553.95 212.642 1552.01 Q212.642 1550.01 211.218 1548.95 Q209.812 1547.87 207.173 1547.87 Q205.732 1547.87 204.083 1548.19 Q202.434 1548.5 200.455 1549.16 L200.455 1546.03 Q202.451 1545.48 204.187 1545.2 Q205.941 1544.92 207.486 1544.92 Q211.479 1544.92 213.805 1546.75 Q216.132 1548.55 216.132 1551.64 Q216.132 1553.79 214.899 1555.29 Q213.666 1556.76 211.392 1557.34 Z\" fill=\"#000000\" fill-rule=\"evenodd\" fill-opacity=\"1\" /><path clip-path=\"url(#clip710)\" d=\"M 0 0 M332.432 1558.69 L354.689 1558.69 L354.689 1561.64 L332.432 1561.64 L332.432 1558.69 Z\" fill=\"#000000\" fill-rule=\"evenodd\" fill-opacity=\"1\" /><path clip-path=\"url(#clip710)\" d=\"M 0 0 M361.512 1568.36 L373.751 1568.36 L373.751 1571.31 L357.293 1571.31 L357.293 1568.36 Q359.29 1566.29 362.727 1562.82 Q366.182 1559.33 367.067 1558.33 Q368.751 1556.43 369.411 1555.13 Q370.088 1553.81 370.088 1552.54 Q370.088 1550.48 368.63 1549.18 Q367.189 1547.87 364.862 1547.87 Q363.213 1547.87 361.373 1548.45 Q359.55 1549.02 357.467 1550.18 L357.467 1546.64 Q359.585 1545.79 361.425 1545.36 Q363.265 1544.92 364.793 1544.92 Q368.821 1544.92 371.217 1546.94 Q373.612 1548.95 373.612 1552.32 Q373.612 1553.92 373.005 1555.36 Q372.414 1556.78 370.835 1558.73 Q370.401 1559.23 368.074 1561.64 Q365.748 1564.04 361.512 1568.36 Z\" fill=\"#000000\" fill-rule=\"evenodd\" fill-opacity=\"1\" /><path clip-path=\"url(#clip710)\" d=\"M 0 0 M489.661 1558.69 L511.918 1558.69 L511.918 1561.64 L489.661 1561.64 L489.661 1558.69 Z\" fill=\"#000000\" fill-rule=\"evenodd\" fill-opacity=\"1\" /><path clip-path=\"url(#clip710)\" d=\"M 0 0 M516.328 1568.36 L522.057 1568.36 L522.057 1548.59 L515.824 1549.84 L515.824 1546.64 L522.022 1545.39 L525.529 1545.39 L525.529 1568.36 L531.258 1568.36 L531.258 1571.31 L516.328 1571.31 L516.328 1568.36 Z\" fill=\"#000000\" fill-rule=\"evenodd\" fill-opacity=\"1\" /><path clip-path=\"url(#clip710)\" d=\"M 0 0 M667.828 1547.7 Q665.119 1547.7 663.748 1550.37 Q662.394 1553.03 662.394 1558.38 Q662.394 1563.71 663.748 1566.38 Q665.119 1569.04 667.828 1569.04 Q670.553 1569.04 671.907 1566.38 Q673.279 1563.71 673.279 1558.38 Q673.279 1553.03 671.907 1550.37 Q670.553 1547.7 667.828 1547.7 M667.828 1544.92 Q672.185 1544.92 674.477 1548.38 Q676.786 1551.82 676.786 1558.38 Q676.786 1564.92 674.477 1568.38 Q672.185 1571.82 667.828 1571.82 Q663.47 1571.82 661.161 1568.38 Q658.869 1564.92 658.869 1558.38 Q658.869 1551.82 661.161 1548.38 Q663.47 1544.92 667.828 1544.92 Z\" fill=\"#000000\" fill-rule=\"evenodd\" fill-opacity=\"1\" /><path clip-path=\"url(#clip710)\" d=\"M 0 0 M817.982 1568.36 L823.711 1568.36 L823.711 1548.59 L817.479 1549.84 L817.479 1546.64 L823.677 1545.39 L827.183 1545.39 L827.183 1568.36 L832.913 1568.36 L832.913 1571.31 L817.982 1571.31 L817.982 1568.36 Z\" fill=\"#000000\" fill-rule=\"evenodd\" fill-opacity=\"1\" /><path clip-path=\"url(#clip710)\" d=\"M 0 0 M978.553 1568.36 L990.793 1568.36 L990.793 1571.31 L974.335 1571.31 L974.335 1568.36 Q976.331 1566.29 979.769 1562.82 Q983.223 1559.33 984.109 1558.33 Q985.793 1556.43 986.453 1555.13 Q987.13 1553.81 987.13 1552.54 Q987.13 1550.48 985.671 1549.18 Q984.23 1547.87 981.904 1547.87 Q980.255 1547.87 978.414 1548.45 Q976.591 1549.02 974.508 1550.18 L974.508 1546.64 Q976.626 1545.79 978.466 1545.36 Q980.307 1544.92 981.834 1544.92 Q985.862 1544.92 988.258 1546.94 Q990.654 1548.95 990.654 1552.32 Q990.654 1553.92 990.046 1555.36 Q989.456 1556.78 987.876 1558.73 Q987.442 1559.23 985.116 1561.64 Q982.789 1564.04 978.553 1568.36 Z\" fill=\"#000000\" fill-rule=\"evenodd\" fill-opacity=\"1\" /><path clip-path=\"url(#clip710)\" d=\"M 0 0 M1143.12 1557.34 Q1145.63 1557.87 1147.04 1559.58 Q1148.46 1561.28 1148.46 1563.78 Q1148.46 1567.61 1145.83 1569.71 Q1143.19 1571.82 1138.33 1571.82 Q1136.69 1571.82 1134.96 1571.49 Q1133.24 1571.17 1131.4 1570.53 L1131.4 1567.15 Q1132.86 1568 1134.59 1568.43 Q1136.33 1568.86 1138.22 1568.86 Q1141.52 1568.86 1143.24 1567.56 Q1144.98 1566.26 1144.98 1563.78 Q1144.98 1561.49 1143.36 1560.2 Q1141.76 1558.9 1138.9 1558.9 L1135.88 1558.9 L1135.88 1556.02 L1139.04 1556.02 Q1141.62 1556.02 1143 1554.99 Q1144.37 1553.95 1144.37 1552.01 Q1144.37 1550.01 1142.94 1548.95 Q1141.54 1547.87 1138.9 1547.87 Q1137.46 1547.87 1135.81 1548.19 Q1134.16 1548.5 1132.18 1549.16 L1132.18 1546.03 Q1134.18 1545.48 1135.91 1545.2 Q1137.67 1544.92 1139.21 1544.92 Q1143.2 1544.92 1145.53 1546.75 Q1147.86 1548.55 1147.86 1551.64 Q1147.86 1553.79 1146.62 1555.29 Q1145.39 1556.76 1143.12 1557.34 Z\" fill=\"#000000\" fill-rule=\"evenodd\" fill-opacity=\"1\" /><polyline clip-path=\"url(#clip712)\" style=\"stroke:#000000; stroke-width:2; stroke-opacity:0.1; fill:none\" points=\"\n",
       "  86.9921,1332.24 1152.76,1332.24 \n",
       "  \"/>\n",
       "<polyline clip-path=\"url(#clip712)\" style=\"stroke:#000000; stroke-width:2; stroke-opacity:0.1; fill:none\" points=\"\n",
       "  86.9921,968.114 1152.76,968.114 \n",
       "  \"/>\n",
       "<polyline clip-path=\"url(#clip712)\" style=\"stroke:#000000; stroke-width:2; stroke-opacity:0.1; fill:none\" points=\"\n",
       "  86.9921,603.984 1152.76,603.984 \n",
       "  \"/>\n",
       "<polyline clip-path=\"url(#clip712)\" style=\"stroke:#000000; stroke-width:2; stroke-opacity:0.1; fill:none\" points=\"\n",
       "  86.9921,239.855 1152.76,239.855 \n",
       "  \"/>\n",
       "<polyline clip-path=\"url(#clip710)\" style=\"stroke:#000000; stroke-width:4; stroke-opacity:1; fill:none\" points=\"\n",
       "  86.9921,1521.01 86.9921,62.9921 \n",
       "  \"/>\n",
       "<polyline clip-path=\"url(#clip710)\" style=\"stroke:#000000; stroke-width:4; stroke-opacity:1; fill:none\" points=\"\n",
       "  86.9921,1332.24 99.7813,1332.24 \n",
       "  \"/>\n",
       "<polyline clip-path=\"url(#clip710)\" style=\"stroke:#000000; stroke-width:4; stroke-opacity:1; fill:none\" points=\"\n",
       "  86.9921,968.114 99.7813,968.114 \n",
       "  \"/>\n",
       "<polyline clip-path=\"url(#clip710)\" style=\"stroke:#000000; stroke-width:4; stroke-opacity:1; fill:none\" points=\"\n",
       "  86.9921,603.984 99.7813,603.984 \n",
       "  \"/>\n",
       "<polyline clip-path=\"url(#clip710)\" style=\"stroke:#000000; stroke-width:4; stroke-opacity:1; fill:none\" points=\"\n",
       "  86.9921,239.855 99.7813,239.855 \n",
       "  \"/>\n",
       "<path clip-path=\"url(#clip710)\" d=\"M 0 0 M-41.6694 1332.69 L-11.9936 1332.69 L-11.9936 1336.63 L-41.6694 1336.63 L-41.6694 1332.69 Z\" fill=\"#000000\" fill-rule=\"evenodd\" fill-opacity=\"1\" /><path clip-path=\"url(#clip710)\" d=\"M 0 0 M3.07572 1318.04 Q-0.535376 1318.04 -2.36407 1321.61 Q-4.16962 1325.15 -4.16962 1332.28 Q-4.16962 1339.38 -2.36407 1342.95 Q-0.535376 1346.49 3.07572 1346.49 Q6.70996 1346.49 8.5155 1342.95 Q10.3442 1339.38 10.3442 1332.28 Q10.3442 1325.15 8.5155 1321.61 Q6.70996 1318.04 3.07572 1318.04 M3.07572 1314.34 Q8.88587 1314.34 11.9414 1318.94 Q15.0201 1323.53 15.0201 1332.28 Q15.0201 1341 11.9414 1345.61 Q8.88587 1350.19 3.07572 1350.19 Q-2.73444 1350.19 -5.81313 1345.61 Q-8.86866 1341 -8.86866 1332.28 Q-8.86866 1323.53 -5.81313 1318.94 Q-2.73444 1314.34 3.07572 1314.34 Z\" fill=\"#000000\" fill-rule=\"evenodd\" fill-opacity=\"1\" /><path clip-path=\"url(#clip710)\" d=\"M 0 0 M20.0895 1343.64 L24.9737 1343.64 L24.9737 1349.52 L20.0895 1349.52 L20.0895 1343.64 Z\" fill=\"#000000\" fill-rule=\"evenodd\" fill-opacity=\"1\" /><path clip-path=\"url(#clip710)\" d=\"M 0 0 M30.0895 1314.96 L48.4458 1314.96 L48.4458 1318.9 L34.3718 1318.9 L34.3718 1327.37 Q35.3904 1327.02 36.4089 1326.86 Q37.4274 1326.68 38.4459 1326.68 Q44.2329 1326.68 47.6125 1329.85 Q50.9921 1333.02 50.9921 1338.44 Q50.9921 1344.01 47.5199 1347.12 Q44.0477 1350.19 37.7283 1350.19 Q35.5524 1350.19 33.2839 1349.82 Q31.0385 1349.45 28.6311 1348.71 L28.6311 1344.01 Q30.7145 1345.15 32.9367 1345.7 Q35.1589 1346.26 37.6357 1346.26 Q41.6403 1346.26 43.9783 1344.15 Q46.3162 1342.05 46.3162 1338.44 Q46.3162 1334.82 43.9783 1332.72 Q41.6403 1330.61 37.6357 1330.61 Q35.7607 1330.61 33.8857 1331.03 Q32.0339 1331.44 30.0895 1332.32 L30.0895 1314.96 Z\" fill=\"#000000\" fill-rule=\"evenodd\" fill-opacity=\"1\" /><path clip-path=\"url(#clip710)\" d=\"M 0 0 M2.08035 953.912 Q-1.53074 953.912 -3.35943 957.477 Q-5.16498 961.019 -5.16498 968.148 Q-5.16498 975.255 -3.35943 978.82 Q-1.53074 982.361 2.08035 982.361 Q5.71459 982.361 7.52014 978.82 Q9.34883 975.255 9.34883 968.148 Q9.34883 961.019 7.52014 957.477 Q5.71459 953.912 2.08035 953.912 M2.08035 950.209 Q7.89051 950.209 10.946 954.815 Q14.0247 959.399 14.0247 968.148 Q14.0247 976.875 10.946 981.482 Q7.89051 986.065 2.08035 986.065 Q-3.7298 986.065 -6.80849 981.482 Q-9.86403 976.875 -9.86403 968.148 Q-9.86403 959.399 -6.80849 954.815 Q-3.7298 950.209 2.08035 950.209 Z\" fill=\"#000000\" fill-rule=\"evenodd\" fill-opacity=\"1\" /><path clip-path=\"url(#clip710)\" d=\"M 0 0 M19.0941 979.514 L23.9784 979.514 L23.9784 985.394 L19.0941 985.394 L19.0941 979.514 Z\" fill=\"#000000\" fill-rule=\"evenodd\" fill-opacity=\"1\" /><path clip-path=\"url(#clip710)\" d=\"M 0 0 M39.0477 953.912 Q35.4367 953.912 33.608 957.477 Q31.8024 961.019 31.8024 968.148 Q31.8024 975.255 33.608 978.82 Q35.4367 982.361 39.0477 982.361 Q42.682 982.361 44.4875 978.82 Q46.3162 975.255 46.3162 968.148 Q46.3162 961.019 44.4875 957.477 Q42.682 953.912 39.0477 953.912 M39.0477 950.209 Q44.8579 950.209 47.9134 954.815 Q50.9921 959.399 50.9921 968.148 Q50.9921 976.875 47.9134 981.482 Q44.8579 986.065 39.0477 986.065 Q33.2376 986.065 30.1589 981.482 Q27.1034 976.875 27.1034 968.148 Q27.1034 959.399 30.1589 954.815 Q33.2376 950.209 39.0477 950.209 Z\" fill=\"#000000\" fill-rule=\"evenodd\" fill-opacity=\"1\" /><path clip-path=\"url(#clip710)\" d=\"M 0 0 M3.07572 589.783 Q-0.535376 589.783 -2.36407 593.348 Q-4.16962 596.889 -4.16962 604.019 Q-4.16962 611.125 -2.36407 614.69 Q-0.535376 618.232 3.07572 618.232 Q6.70996 618.232 8.5155 614.69 Q10.3442 611.125 10.3442 604.019 Q10.3442 596.889 8.5155 593.348 Q6.70996 589.783 3.07572 589.783 M3.07572 586.079 Q8.88587 586.079 11.9414 590.686 Q15.0201 595.269 15.0201 604.019 Q15.0201 612.746 11.9414 617.352 Q8.88587 621.936 3.07572 621.936 Q-2.73444 621.936 -5.81313 617.352 Q-8.86866 612.746 -8.86866 604.019 Q-8.86866 595.269 -5.81313 590.686 Q-2.73444 586.079 3.07572 586.079 Z\" fill=\"#000000\" fill-rule=\"evenodd\" fill-opacity=\"1\" /><path clip-path=\"url(#clip710)\" d=\"M 0 0 M20.0895 615.385 L24.9737 615.385 L24.9737 621.264 L20.0895 621.264 L20.0895 615.385 Z\" fill=\"#000000\" fill-rule=\"evenodd\" fill-opacity=\"1\" /><path clip-path=\"url(#clip710)\" d=\"M 0 0 M30.0895 586.704 L48.4458 586.704 L48.4458 590.639 L34.3718 590.639 L34.3718 599.112 Q35.3904 598.764 36.4089 598.602 Q37.4274 598.417 38.4459 598.417 Q44.2329 598.417 47.6125 601.588 Q50.9921 604.76 50.9921 610.176 Q50.9921 615.755 47.5199 618.857 Q44.0477 621.936 37.7283 621.936 Q35.5524 621.936 33.2839 621.565 Q31.0385 621.195 28.6311 620.454 L28.6311 615.755 Q30.7145 616.889 32.9367 617.445 Q35.1589 618 37.6357 618 Q41.6403 618 43.9783 615.894 Q46.3162 613.787 46.3162 610.176 Q46.3162 606.565 43.9783 604.459 Q41.6403 602.352 37.6357 602.352 Q35.7607 602.352 33.8857 602.769 Q32.0339 603.186 30.0895 604.065 L30.0895 586.704 Z\" fill=\"#000000\" fill-rule=\"evenodd\" fill-opacity=\"1\" /><path clip-path=\"url(#clip710)\" d=\"M 0 0 M-5.88257 253.2 L1.75628 253.2 L1.75628 226.834 L-6.55386 228.501 L-6.55386 224.241 L1.70998 222.575 L6.38588 222.575 L6.38588 253.2 L14.0247 253.2 L14.0247 257.135 L-5.88257 257.135 L-5.88257 253.2 Z\" fill=\"#000000\" fill-rule=\"evenodd\" fill-opacity=\"1\" /><path clip-path=\"url(#clip710)\" d=\"M 0 0 M19.0941 251.255 L23.9784 251.255 L23.9784 257.135 L19.0941 257.135 L19.0941 251.255 Z\" fill=\"#000000\" fill-rule=\"evenodd\" fill-opacity=\"1\" /><path clip-path=\"url(#clip710)\" d=\"M 0 0 M39.0477 225.654 Q35.4367 225.654 33.608 229.218 Q31.8024 232.76 31.8024 239.89 Q31.8024 246.996 33.608 250.561 Q35.4367 254.102 39.0477 254.102 Q42.682 254.102 44.4875 250.561 Q46.3162 246.996 46.3162 239.89 Q46.3162 232.76 44.4875 229.218 Q42.682 225.654 39.0477 225.654 M39.0477 221.95 Q44.8579 221.95 47.9134 226.556 Q50.9921 231.14 50.9921 239.89 Q50.9921 248.616 47.9134 253.223 Q44.8579 257.806 39.0477 257.806 Q33.2376 257.806 30.1589 253.223 Q27.1034 248.616 27.1034 239.89 Q27.1034 231.14 30.1589 226.556 Q33.2376 221.95 39.0477 221.95 Z\" fill=\"#000000\" fill-rule=\"evenodd\" fill-opacity=\"1\" /><path clip-path=\"url(#clip710)\" d=\"M 0 0 M410.581 6.912 L430.442 6.912 L430.442 10.8472 L415.257 10.8472 L415.257 21.0323 L428.961 21.0323 L428.961 24.9675 L415.257 24.9675 L415.257 41.472 L410.581 41.472 L410.581 6.912 Z\" fill=\"#000000\" fill-rule=\"evenodd\" fill-opacity=\"1\" /><path clip-path=\"url(#clip710)\" d=\"M 0 0 M431.877 31.2406 L431.877 15.5462 L436.137 15.5462 L436.137 31.0785 Q436.137 34.7591 437.572 36.6109 Q439.007 38.4396 441.877 38.4396 Q445.326 38.4396 447.317 36.2405 Q449.331 34.0415 449.331 30.2452 L449.331 15.5462 L453.59 15.5462 L453.59 41.472 L449.331 41.472 L449.331 37.4905 Q447.78 39.8516 445.72 41.009 Q443.683 42.1433 440.975 42.1433 Q436.507 42.1433 434.192 39.3655 Q431.877 36.5878 431.877 31.2406 M442.595 14.9212 L442.595 14.9212 Z\" fill=\"#000000\" fill-rule=\"evenodd\" fill-opacity=\"1\" /><path clip-path=\"url(#clip710)\" d=\"M 0 0 M456.206 15.5462 L476.437 15.5462 L476.437 19.4351 L460.419 38.0692 L476.437 38.0692 L476.437 41.472 L455.627 41.472 L455.627 37.5831 L471.646 18.949 L456.206 18.949 L456.206 15.5462 Z\" fill=\"#000000\" fill-rule=\"evenodd\" fill-opacity=\"1\" /><path clip-path=\"url(#clip710)\" d=\"M 0 0 M479.053 15.5462 L499.284 15.5462 L499.284 19.4351 L483.266 38.0692 L499.284 38.0692 L499.284 41.472 L478.474 41.472 L478.474 37.5831 L494.493 18.949 L479.053 18.949 L479.053 15.5462 Z\" fill=\"#000000\" fill-rule=\"evenodd\" fill-opacity=\"1\" /><path clip-path=\"url(#clip710)\" d=\"M 0 0 M514.539 43.8794 Q512.733 48.509 511.02 49.921 Q509.307 51.3331 506.437 51.3331 L503.034 51.3331 L503.034 47.7683 L505.534 47.7683 Q507.294 47.7683 508.266 46.9349 Q509.238 46.1016 510.419 42.9998 L511.182 41.0553 L500.696 15.5462 L505.21 15.5462 L513.312 35.8239 L521.414 15.5462 L525.928 15.5462 L514.539 43.8794 Z\" fill=\"#000000\" fill-rule=\"evenodd\" fill-opacity=\"1\" /><path clip-path=\"url(#clip710)\" d=\"M 0 0 M542.131 11.5185 L535.789 28.7174 L548.497 28.7174 L542.131 11.5185 M539.493 6.912 L544.793 6.912 L557.965 41.472 L553.104 41.472 L549.955 32.6063 L534.377 32.6063 L531.229 41.472 L526.298 41.472 L539.493 6.912 Z\" fill=\"#000000\" fill-rule=\"evenodd\" fill-opacity=\"1\" /><path clip-path=\"url(#clip710)\" d=\"M 0 0 M579.006 25.2684 Q580.511 25.7776 581.923 27.4443 Q583.358 29.111 584.793 32.0276 L589.539 41.472 L584.515 41.472 L580.094 32.6063 Q578.381 29.1341 576.761 27.9998 Q575.164 26.8656 572.386 26.8656 L567.293 26.8656 L567.293 41.472 L562.617 41.472 L562.617 6.912 L573.173 6.912 Q579.099 6.912 582.015 9.38884 Q584.932 11.8657 584.932 16.8657 Q584.932 20.1295 583.404 22.2823 Q581.9 24.4351 579.006 25.2684 M567.293 10.7546 L567.293 23.023 L573.173 23.023 Q576.552 23.023 578.265 21.4721 Q580.002 19.898 580.002 16.8657 Q580.002 13.8333 578.265 12.3055 Q576.552 10.7546 573.173 10.7546 L567.293 10.7546 Z\" fill=\"#000000\" fill-rule=\"evenodd\" fill-opacity=\"1\" /><path clip-path=\"url(#clip710)\" d=\"M 0 0 M585.951 6.912 L615.187 6.912 L615.187 10.8472 L602.918 10.8472 L602.918 41.472 L598.219 41.472 L598.219 10.8472 L585.951 10.8472 L585.951 6.912 Z\" fill=\"#000000\" fill-rule=\"evenodd\" fill-opacity=\"1\" /><path clip-path=\"url(#clip710)\" d=\"M 0 0 M649.747 19.5277 Q649.029 19.111 648.172 18.9258 Q647.339 18.7175 646.321 18.7175 Q642.71 18.7175 640.765 21.0786 Q638.844 23.4165 638.844 27.8147 L638.844 41.472 L634.561 41.472 L634.561 15.5462 L638.844 15.5462 L638.844 19.574 Q640.186 17.2129 642.339 16.0786 Q644.492 14.9212 647.571 14.9212 Q648.01 14.9212 648.543 14.9907 Q649.075 15.037 649.723 15.1527 L649.747 19.5277 Z\" fill=\"#000000\" fill-rule=\"evenodd\" fill-opacity=\"1\" /><path clip-path=\"url(#clip710)\" d=\"M 0 0 M674.932 25.8239 L674.932 41.472 L670.672 41.472 L670.672 25.9628 Q670.672 22.2823 669.237 20.4536 Q667.802 18.6249 664.932 18.6249 Q661.483 18.6249 659.492 20.824 Q657.501 23.023 657.501 26.8193 L657.501 41.472 L653.219 41.472 L653.219 5.45367 L657.501 5.45367 L657.501 19.574 Q659.029 17.236 661.089 16.0786 Q663.172 14.9212 665.881 14.9212 Q670.348 14.9212 672.64 17.699 Q674.932 20.4536 674.932 25.8239 Z\" fill=\"#000000\" fill-rule=\"evenodd\" fill-opacity=\"1\" /><path clip-path=\"url(#clip710)\" d=\"M 0 0 M689.445 18.5323 Q686.019 18.5323 684.029 21.2175 Q682.038 23.8795 682.038 28.5323 Q682.038 33.185 684.006 35.8702 Q685.996 38.5322 689.445 38.5322 Q692.848 38.5322 694.839 35.847 Q696.83 33.1619 696.83 28.5323 Q696.83 23.9258 694.839 21.2406 Q692.848 18.5323 689.445 18.5323 M689.445 14.9212 Q695.001 14.9212 698.172 18.5323 Q701.343 22.1434 701.343 28.5323 Q701.343 34.898 698.172 38.5322 Q695.001 42.1433 689.445 42.1433 Q683.867 42.1433 680.695 38.5322 Q677.547 34.898 677.547 28.5323 Q677.547 22.1434 680.695 18.5323 Q683.867 14.9212 689.445 14.9212 Z\" fill=\"#000000\" fill-rule=\"evenodd\" fill-opacity=\"1\" /><path clip-path=\"url(#clip710)\" d=\"M 0 0 M721.436 19.9443 L751.112 19.9443 L751.112 23.8332 L721.436 23.8332 L721.436 19.9443 M721.436 29.3887 L751.112 29.3887 L751.112 33.3239 L721.436 33.3239 L721.436 29.3887 Z\" fill=\"#000000\" fill-rule=\"evenodd\" fill-opacity=\"1\" /><path clip-path=\"url(#clip710)\" d=\"M 0 0 M781.25 9.99069 Q777.639 9.99069 775.811 13.5555 Q774.005 17.0971 774.005 24.2267 Q774.005 31.3332 775.811 34.898 Q777.639 38.4396 781.25 38.4396 Q784.885 38.4396 786.69 34.898 Q788.519 31.3332 788.519 24.2267 Q788.519 17.0971 786.69 13.5555 Q784.885 9.99069 781.25 9.99069 M781.25 6.287 Q787.061 6.287 790.116 10.8935 Q793.195 15.4768 793.195 24.2267 Q793.195 32.9535 790.116 37.56 Q787.061 42.1433 781.25 42.1433 Q775.44 42.1433 772.362 37.56 Q769.306 32.9535 769.306 24.2267 Q769.306 15.4768 772.362 10.8935 Q775.44 6.287 781.25 6.287 Z\" fill=\"#000000\" fill-rule=\"evenodd\" fill-opacity=\"1\" /><path clip-path=\"url(#clip710)\" d=\"M 0 0 M798.264 35.5924 L803.148 35.5924 L803.148 41.472 L798.264 41.472 L798.264 35.5924 Z\" fill=\"#000000\" fill-rule=\"evenodd\" fill-opacity=\"1\" /><path clip-path=\"url(#clip710)\" d=\"M 0 0 M808.264 6.912 L826.621 6.912 L826.621 10.8472 L812.547 10.8472 L812.547 19.3193 Q813.565 18.9721 814.584 18.8101 Q815.602 18.6249 816.621 18.6249 Q822.408 18.6249 825.787 21.7962 Q829.167 24.9675 829.167 30.3841 Q829.167 35.9628 825.695 39.0646 Q822.222 42.1433 815.903 42.1433 Q813.727 42.1433 811.459 41.7729 Q809.213 41.4026 806.806 40.6618 L806.806 35.9628 Q808.889 37.097 811.111 37.6526 Q813.334 38.2081 815.81 38.2081 Q819.815 38.2081 822.153 36.1017 Q824.491 33.9952 824.491 30.3841 Q824.491 26.773 822.153 24.6665 Q819.815 22.5601 815.81 22.5601 Q813.935 22.5601 812.06 22.9767 Q810.209 23.3934 808.264 24.273 L808.264 6.912 Z\" fill=\"#000000\" fill-rule=\"evenodd\" fill-opacity=\"1\" /><circle clip-path=\"url(#clip712)\" cx=\"1088.61\" cy=\"1045.81\" r=\"14\" fill=\"#009af9\" fill-rule=\"evenodd\" fill-opacity=\"1\" stroke=\"#000000\" stroke-opacity=\"1\" stroke-width=\"3.2\"/>\n",
       "<circle clip-path=\"url(#clip712)\" cx=\"1038.61\" cy=\"990.842\" r=\"14\" fill=\"#009af9\" fill-rule=\"evenodd\" fill-opacity=\"1\" stroke=\"#000000\" stroke-opacity=\"1\" stroke-width=\"3.2\"/>\n",
       "<circle clip-path=\"url(#clip712)\" cx=\"1083.84\" cy=\"104.257\" r=\"14\" fill=\"#009af9\" fill-rule=\"evenodd\" fill-opacity=\"1\" stroke=\"#000000\" stroke-opacity=\"1\" stroke-width=\"3.2\"/>\n",
       "<circle clip-path=\"url(#clip712)\" cx=\"1083.25\" cy=\"735.588\" r=\"14\" fill=\"#009af9\" fill-rule=\"evenodd\" fill-opacity=\"1\" stroke=\"#000000\" stroke-opacity=\"1\" stroke-width=\"3.2\"/>\n",
       "<circle clip-path=\"url(#clip712)\" cx=\"1082.15\" cy=\"1106.54\" r=\"14\" fill=\"#009af9\" fill-rule=\"evenodd\" fill-opacity=\"1\" stroke=\"#000000\" stroke-opacity=\"1\" stroke-width=\"3.2\"/>\n",
       "<circle clip-path=\"url(#clip712)\" cx=\"1114.8\" cy=\"1128.75\" r=\"14\" fill=\"#009af9\" fill-rule=\"evenodd\" fill-opacity=\"1\" stroke=\"#000000\" stroke-opacity=\"1\" stroke-width=\"3.2\"/>\n",
       "<circle clip-path=\"url(#clip712)\" cx=\"1093.34\" cy=\"884.356\" r=\"14\" fill=\"#009af9\" fill-rule=\"evenodd\" fill-opacity=\"1\" stroke=\"#000000\" stroke-opacity=\"1\" stroke-width=\"3.2\"/>\n",
       "<circle clip-path=\"url(#clip712)\" cx=\"1122.59\" cy=\"1068.14\" r=\"14\" fill=\"#009af9\" fill-rule=\"evenodd\" fill-opacity=\"1\" stroke=\"#000000\" stroke-opacity=\"1\" stroke-width=\"3.2\"/>\n",
       "<circle clip-path=\"url(#clip712)\" cx=\"1103.76\" cy=\"770.712\" r=\"14\" fill=\"#009af9\" fill-rule=\"evenodd\" fill-opacity=\"1\" stroke=\"#000000\" stroke-opacity=\"1\" stroke-width=\"3.2\"/>\n",
       "<circle clip-path=\"url(#clip712)\" cx=\"1075.17\" cy=\"1111.87\" r=\"14\" fill=\"#009af9\" fill-rule=\"evenodd\" fill-opacity=\"1\" stroke=\"#000000\" stroke-opacity=\"1\" stroke-width=\"3.2\"/>\n",
       "<circle clip-path=\"url(#clip712)\" cx=\"1088.61\" cy=\"1045.81\" r=\"14\" fill=\"#009af9\" fill-rule=\"evenodd\" fill-opacity=\"1\" stroke=\"#000000\" stroke-opacity=\"1\" stroke-width=\"3.2\"/>\n",
       "<circle clip-path=\"url(#clip712)\" cx=\"1067.16\" cy=\"596.434\" r=\"14\" fill=\"#009af9\" fill-rule=\"evenodd\" fill-opacity=\"1\" stroke=\"#000000\" stroke-opacity=\"1\" stroke-width=\"3.2\"/>\n",
       "<circle clip-path=\"url(#clip712)\" cx=\"1056.38\" cy=\"867.696\" r=\"14\" fill=\"#009af9\" fill-rule=\"evenodd\" fill-opacity=\"1\" stroke=\"#000000\" stroke-opacity=\"1\" stroke-width=\"3.2\"/>\n",
       "<circle clip-path=\"url(#clip712)\" cx=\"1062.49\" cy=\"1069.38\" r=\"14\" fill=\"#009af9\" fill-rule=\"evenodd\" fill-opacity=\"1\" stroke=\"#000000\" stroke-opacity=\"1\" stroke-width=\"3.2\"/>\n",
       "<circle clip-path=\"url(#clip712)\" cx=\"1046.38\" cy=\"825.435\" r=\"14\" fill=\"#009af9\" fill-rule=\"evenodd\" fill-opacity=\"1\" stroke=\"#000000\" stroke-opacity=\"1\" stroke-width=\"3.2\"/>\n",
       "<circle clip-path=\"url(#clip712)\" cx=\"587.397\" cy=\"1042.6\" r=\"14\" fill=\"#e26f46\" fill-rule=\"evenodd\" fill-opacity=\"1\" stroke=\"#000000\" stroke-opacity=\"1\" stroke-width=\"3.2\"/>\n",
       "<circle clip-path=\"url(#clip712)\" cx=\"575.409\" cy=\"1320.07\" r=\"14\" fill=\"#e26f46\" fill-rule=\"evenodd\" fill-opacity=\"1\" stroke=\"#000000\" stroke-opacity=\"1\" stroke-width=\"3.2\"/>\n",
       "<circle clip-path=\"url(#clip712)\" cx=\"512.971\" cy=\"1058.68\" r=\"14\" fill=\"#e26f46\" fill-rule=\"evenodd\" fill-opacity=\"1\" stroke=\"#000000\" stroke-opacity=\"1\" stroke-width=\"3.2\"/>\n",
       "<circle clip-path=\"url(#clip712)\" cx=\"594.961\" cy=\"1455.7\" r=\"14\" fill=\"#e26f46\" fill-rule=\"evenodd\" fill-opacity=\"1\" stroke=\"#000000\" stroke-opacity=\"1\" stroke-width=\"3.2\"/>\n",
       "<circle clip-path=\"url(#clip712)\" cx=\"496.747\" cy=\"913.21\" r=\"14\" fill=\"#e26f46\" fill-rule=\"evenodd\" fill-opacity=\"1\" stroke=\"#000000\" stroke-opacity=\"1\" stroke-width=\"3.2\"/>\n",
       "<circle clip-path=\"url(#clip712)\" cx=\"615.719\" cy=\"1121.91\" r=\"14\" fill=\"#e26f46\" fill-rule=\"evenodd\" fill-opacity=\"1\" stroke=\"#000000\" stroke-opacity=\"1\" stroke-width=\"3.2\"/>\n",
       "<circle clip-path=\"url(#clip712)\" cx=\"630.918\" cy=\"1209.84\" r=\"14\" fill=\"#e26f46\" fill-rule=\"evenodd\" fill-opacity=\"1\" stroke=\"#000000\" stroke-opacity=\"1\" stroke-width=\"3.2\"/>\n",
       "<circle clip-path=\"url(#clip712)\" cx=\"539.973\" cy=\"1086.33\" r=\"14\" fill=\"#e26f46\" fill-rule=\"evenodd\" fill-opacity=\"1\" stroke=\"#000000\" stroke-opacity=\"1\" stroke-width=\"3.2\"/>\n",
       "<circle clip-path=\"url(#clip712)\" cx=\"620.962\" cy=\"1220.83\" r=\"14\" fill=\"#e26f46\" fill-rule=\"evenodd\" fill-opacity=\"1\" stroke=\"#000000\" stroke-opacity=\"1\" stroke-width=\"3.2\"/>\n",
       "<circle clip-path=\"url(#clip712)\" cx=\"678.897\" cy=\"1479.74\" r=\"14\" fill=\"#e26f46\" fill-rule=\"evenodd\" fill-opacity=\"1\" stroke=\"#000000\" stroke-opacity=\"1\" stroke-width=\"3.2\"/>\n",
       "<circle clip-path=\"url(#clip712)\" cx=\"527.745\" cy=\"992.738\" r=\"14\" fill=\"#e26f46\" fill-rule=\"evenodd\" fill-opacity=\"1\" stroke=\"#000000\" stroke-opacity=\"1\" stroke-width=\"3.2\"/>\n",
       "<circle clip-path=\"url(#clip712)\" cx=\"629.242\" cy=\"1162.36\" r=\"14\" fill=\"#e26f46\" fill-rule=\"evenodd\" fill-opacity=\"1\" stroke=\"#000000\" stroke-opacity=\"1\" stroke-width=\"3.2\"/>\n",
       "<circle clip-path=\"url(#clip712)\" cx=\"333.758\" cy=\"1121.67\" r=\"14\" fill=\"#3da44d\" fill-rule=\"evenodd\" fill-opacity=\"1\" stroke=\"#000000\" stroke-opacity=\"1\" stroke-width=\"3.2\"/>\n",
       "<circle clip-path=\"url(#clip712)\" cx=\"469.918\" cy=\"1098.57\" r=\"14\" fill=\"#3da44d\" fill-rule=\"evenodd\" fill-opacity=\"1\" stroke=\"#000000\" stroke-opacity=\"1\" stroke-width=\"3.2\"/>\n",
       "<circle clip-path=\"url(#clip712)\" cx=\"256.437\" cy=\"561.478\" r=\"14\" fill=\"#3da44d\" fill-rule=\"evenodd\" fill-opacity=\"1\" stroke=\"#000000\" stroke-opacity=\"1\" stroke-width=\"3.2\"/>\n",
       "<circle clip-path=\"url(#clip712)\" cx=\"445.298\" cy=\"1386.81\" r=\"14\" fill=\"#3da44d\" fill-rule=\"evenodd\" fill-opacity=\"1\" stroke=\"#000000\" stroke-opacity=\"1\" stroke-width=\"3.2\"/>\n",
       "<circle clip-path=\"url(#clip712)\" cx=\"220.751\" cy=\"696.661\" r=\"14\" fill=\"#3da44d\" fill-rule=\"evenodd\" fill-opacity=\"1\" stroke=\"#000000\" stroke-opacity=\"1\" stroke-width=\"3.2\"/>\n",
       "<circle clip-path=\"url(#clip712)\" cx=\"406.292\" cy=\"791.847\" r=\"14\" fill=\"#3da44d\" fill-rule=\"evenodd\" fill-opacity=\"1\" stroke=\"#000000\" stroke-opacity=\"1\" stroke-width=\"3.2\"/>\n",
       "<circle clip-path=\"url(#clip712)\" cx=\"285.712\" cy=\"693.719\" r=\"14\" fill=\"#3da44d\" fill-rule=\"evenodd\" fill-opacity=\"1\" stroke=\"#000000\" stroke-opacity=\"1\" stroke-width=\"3.2\"/>\n",
       "<circle clip-path=\"url(#clip712)\" cx=\"422.743\" cy=\"773.383\" r=\"14\" fill=\"#3da44d\" fill-rule=\"evenodd\" fill-opacity=\"1\" stroke=\"#000000\" stroke-opacity=\"1\" stroke-width=\"3.2\"/>\n",
       "<circle clip-path=\"url(#clip712)\" cx=\"302.785\" cy=\"1146.94\" r=\"14\" fill=\"#3da44d\" fill-rule=\"evenodd\" fill-opacity=\"1\" stroke=\"#000000\" stroke-opacity=\"1\" stroke-width=\"3.2\"/>\n",
       "<circle clip-path=\"url(#clip712)\" cx=\"206.424\" cy=\"711.492\" r=\"14\" fill=\"#3da44d\" fill-rule=\"evenodd\" fill-opacity=\"1\" stroke=\"#000000\" stroke-opacity=\"1\" stroke-width=\"3.2\"/>\n",
       "<circle clip-path=\"url(#clip712)\" cx=\"117.155\" cy=\"635.464\" r=\"14\" fill=\"#3da44d\" fill-rule=\"evenodd\" fill-opacity=\"1\" stroke=\"#000000\" stroke-opacity=\"1\" stroke-width=\"3.2\"/>\n",
       "<circle clip-path=\"url(#clip712)\" cx=\"183.682\" cy=\"468.7\" r=\"14\" fill=\"#3da44d\" fill-rule=\"evenodd\" fill-opacity=\"1\" stroke=\"#000000\" stroke-opacity=\"1\" stroke-width=\"3.2\"/>\n",
       "<circle clip-path=\"url(#clip712)\" cx=\"437.431\" cy=\"600.933\" r=\"14\" fill=\"#3da44d\" fill-rule=\"evenodd\" fill-opacity=\"1\" stroke=\"#000000\" stroke-opacity=\"1\" stroke-width=\"3.2\"/>\n",
       "<circle clip-path=\"url(#clip712)\" cx=\"384.197\" cy=\"1125.53\" r=\"14\" fill=\"#3da44d\" fill-rule=\"evenodd\" fill-opacity=\"1\" stroke=\"#000000\" stroke-opacity=\"1\" stroke-width=\"3.2\"/>\n",
       "<circle clip-path=\"url(#clip712)\" cx=\"450.859\" cy=\"1274.86\" r=\"14\" fill=\"#3da44d\" fill-rule=\"evenodd\" fill-opacity=\"1\" stroke=\"#000000\" stroke-opacity=\"1\" stroke-width=\"3.2\"/>\n",
       "<circle clip-path=\"url(#clip712)\" cx=\"368.063\" cy=\"933.123\" r=\"14\" fill=\"#3da44d\" fill-rule=\"evenodd\" fill-opacity=\"1\" stroke=\"#000000\" stroke-opacity=\"1\" stroke-width=\"3.2\"/>\n",
       "<circle clip-path=\"url(#clip712)\" cx=\"330.275\" cy=\"866.954\" r=\"14\" fill=\"#3da44d\" fill-rule=\"evenodd\" fill-opacity=\"1\" stroke=\"#000000\" stroke-opacity=\"1\" stroke-width=\"3.2\"/>\n",
       "<circle clip-path=\"url(#clip712)\" cx=\"361.078\" cy=\"938.452\" r=\"14\" fill=\"#3da44d\" fill-rule=\"evenodd\" fill-opacity=\"1\" stroke=\"#000000\" stroke-opacity=\"1\" stroke-width=\"3.2\"/>\n",
       "<path clip-path=\"url(#clip710)\" d=\"\n",
       "M1286.99 1521.01 L2352.76 1521.01 L2352.76 62.9921 L1286.99 62.9921  Z\n",
       "  \" fill=\"#ffffff\" fill-rule=\"evenodd\" fill-opacity=\"1\"/>\n",
       "<defs>\n",
       "  <clipPath id=\"clip713\">\n",
       "    <rect x=\"1286\" y=\"62\" width=\"1067\" height=\"1459\"/>\n",
       "  </clipPath>\n",
       "</defs>\n",
       "<polyline clip-path=\"url(#clip713)\" style=\"stroke:#000000; stroke-width:2; stroke-opacity:0.1; fill:none\" points=\"\n",
       "  1395.72,1521.01 1395.72,62.9921 \n",
       "  \"/>\n",
       "<polyline clip-path=\"url(#clip713)\" style=\"stroke:#000000; stroke-width:2; stroke-opacity:0.1; fill:none\" points=\"\n",
       "  1553.09,1521.01 1553.09,62.9921 \n",
       "  \"/>\n",
       "<polyline clip-path=\"url(#clip713)\" style=\"stroke:#000000; stroke-width:2; stroke-opacity:0.1; fill:none\" points=\"\n",
       "  1710.46,1521.01 1710.46,62.9921 \n",
       "  \"/>\n",
       "<polyline clip-path=\"url(#clip713)\" style=\"stroke:#000000; stroke-width:2; stroke-opacity:0.1; fill:none\" points=\"\n",
       "  1867.83,1521.01 1867.83,62.9921 \n",
       "  \"/>\n",
       "<polyline clip-path=\"url(#clip713)\" style=\"stroke:#000000; stroke-width:2; stroke-opacity:0.1; fill:none\" points=\"\n",
       "  2025.2,1521.01 2025.2,62.9921 \n",
       "  \"/>\n",
       "<polyline clip-path=\"url(#clip713)\" style=\"stroke:#000000; stroke-width:2; stroke-opacity:0.1; fill:none\" points=\"\n",
       "  2182.56,1521.01 2182.56,62.9921 \n",
       "  \"/>\n",
       "<polyline clip-path=\"url(#clip713)\" style=\"stroke:#000000; stroke-width:2; stroke-opacity:0.1; fill:none\" points=\"\n",
       "  2339.93,1521.01 2339.93,62.9921 \n",
       "  \"/>\n",
       "<polyline clip-path=\"url(#clip710)\" style=\"stroke:#000000; stroke-width:4; stroke-opacity:1; fill:none\" points=\"\n",
       "  1286.99,1521.01 2352.76,1521.01 \n",
       "  \"/>\n",
       "<polyline clip-path=\"url(#clip710)\" style=\"stroke:#000000; stroke-width:4; stroke-opacity:1; fill:none\" points=\"\n",
       "  1395.72,1521.01 1395.72,1503.51 \n",
       "  \"/>\n",
       "<polyline clip-path=\"url(#clip710)\" style=\"stroke:#000000; stroke-width:4; stroke-opacity:1; fill:none\" points=\"\n",
       "  1553.09,1521.01 1553.09,1503.51 \n",
       "  \"/>\n",
       "<polyline clip-path=\"url(#clip710)\" style=\"stroke:#000000; stroke-width:4; stroke-opacity:1; fill:none\" points=\"\n",
       "  1710.46,1521.01 1710.46,1503.51 \n",
       "  \"/>\n",
       "<polyline clip-path=\"url(#clip710)\" style=\"stroke:#000000; stroke-width:4; stroke-opacity:1; fill:none\" points=\"\n",
       "  1867.83,1521.01 1867.83,1503.51 \n",
       "  \"/>\n",
       "<polyline clip-path=\"url(#clip710)\" style=\"stroke:#000000; stroke-width:4; stroke-opacity:1; fill:none\" points=\"\n",
       "  2025.2,1521.01 2025.2,1503.51 \n",
       "  \"/>\n",
       "<polyline clip-path=\"url(#clip710)\" style=\"stroke:#000000; stroke-width:4; stroke-opacity:1; fill:none\" points=\"\n",
       "  2182.56,1521.01 2182.56,1503.51 \n",
       "  \"/>\n",
       "<polyline clip-path=\"url(#clip710)\" style=\"stroke:#000000; stroke-width:4; stroke-opacity:1; fill:none\" points=\"\n",
       "  2339.93,1521.01 2339.93,1503.51 \n",
       "  \"/>\n",
       "<path clip-path=\"url(#clip710)\" d=\"M 0 0 M1374.71 1558.69 L1396.96 1558.69 L1396.96 1561.64 L1374.71 1561.64 L1374.71 1558.69 Z\" fill=\"#000000\" fill-rule=\"evenodd\" fill-opacity=\"1\" /><path clip-path=\"url(#clip710)\" d=\"M 0 0 M1411.39 1557.34 Q1413.91 1557.87 1415.32 1559.58 Q1416.74 1561.28 1416.74 1563.78 Q1416.74 1567.61 1414.1 1569.71 Q1411.46 1571.82 1406.6 1571.82 Q1404.97 1571.82 1403.23 1571.49 Q1401.51 1571.17 1399.67 1570.53 L1399.67 1567.15 Q1401.13 1568 1402.87 1568.43 Q1404.6 1568.86 1406.5 1568.86 Q1409.79 1568.86 1411.51 1567.56 Q1413.25 1566.26 1413.25 1563.78 Q1413.25 1561.49 1411.64 1560.2 Q1410.04 1558.9 1407.17 1558.9 L1404.15 1558.9 L1404.15 1556.02 L1407.31 1556.02 Q1409.9 1556.02 1411.27 1554.99 Q1412.64 1553.95 1412.64 1552.01 Q1412.64 1550.01 1411.22 1548.95 Q1409.81 1547.87 1407.17 1547.87 Q1405.73 1547.87 1404.08 1548.19 Q1402.43 1548.5 1400.45 1549.16 L1400.45 1546.03 Q1402.45 1545.48 1404.19 1545.2 Q1405.94 1544.92 1407.49 1544.92 Q1411.48 1544.92 1413.81 1546.75 Q1416.13 1548.55 1416.13 1551.64 Q1416.13 1553.79 1414.9 1555.29 Q1413.67 1556.76 1411.39 1557.34 Z\" fill=\"#000000\" fill-rule=\"evenodd\" fill-opacity=\"1\" /><path clip-path=\"url(#clip710)\" d=\"M 0 0 M1532.43 1558.69 L1554.69 1558.69 L1554.69 1561.64 L1532.43 1561.64 L1532.43 1558.69 Z\" fill=\"#000000\" fill-rule=\"evenodd\" fill-opacity=\"1\" /><path clip-path=\"url(#clip710)\" d=\"M 0 0 M1561.51 1568.36 L1573.75 1568.36 L1573.75 1571.31 L1557.29 1571.31 L1557.29 1568.36 Q1559.29 1566.29 1562.73 1562.82 Q1566.18 1559.33 1567.07 1558.33 Q1568.75 1556.43 1569.41 1555.13 Q1570.09 1553.81 1570.09 1552.54 Q1570.09 1550.48 1568.63 1549.18 Q1567.19 1547.87 1564.86 1547.87 Q1563.21 1547.87 1561.37 1548.45 Q1559.55 1549.02 1557.47 1550.18 L1557.47 1546.64 Q1559.58 1545.79 1561.42 1545.36 Q1563.27 1544.92 1564.79 1544.92 Q1568.82 1544.92 1571.22 1546.94 Q1573.61 1548.95 1573.61 1552.32 Q1573.61 1553.92 1573 1555.36 Q1572.41 1556.78 1570.83 1558.73 Q1570.4 1559.23 1568.07 1561.64 Q1565.75 1564.04 1561.51 1568.36 Z\" fill=\"#000000\" fill-rule=\"evenodd\" fill-opacity=\"1\" /><path clip-path=\"url(#clip710)\" d=\"M 0 0 M1689.66 1558.69 L1711.92 1558.69 L1711.92 1561.64 L1689.66 1561.64 L1689.66 1558.69 Z\" fill=\"#000000\" fill-rule=\"evenodd\" fill-opacity=\"1\" /><path clip-path=\"url(#clip710)\" d=\"M 0 0 M1716.33 1568.36 L1722.06 1568.36 L1722.06 1548.59 L1715.82 1549.84 L1715.82 1546.64 L1722.02 1545.39 L1725.53 1545.39 L1725.53 1568.36 L1731.26 1568.36 L1731.26 1571.31 L1716.33 1571.31 L1716.33 1568.36 Z\" fill=\"#000000\" fill-rule=\"evenodd\" fill-opacity=\"1\" /><path clip-path=\"url(#clip710)\" d=\"M 0 0 M1867.83 1547.7 Q1865.12 1547.7 1863.75 1550.37 Q1862.39 1553.03 1862.39 1558.38 Q1862.39 1563.71 1863.75 1566.38 Q1865.12 1569.04 1867.83 1569.04 Q1870.55 1569.04 1871.91 1566.38 Q1873.28 1563.71 1873.28 1558.38 Q1873.28 1553.03 1871.91 1550.37 Q1870.55 1547.7 1867.83 1547.7 M1867.83 1544.92 Q1872.19 1544.92 1874.48 1548.38 Q1876.79 1551.82 1876.79 1558.38 Q1876.79 1564.92 1874.48 1568.38 Q1872.19 1571.82 1867.83 1571.82 Q1863.47 1571.82 1861.16 1568.38 Q1858.87 1564.92 1858.87 1558.38 Q1858.87 1551.82 1861.16 1548.38 Q1863.47 1544.92 1867.83 1544.92 Z\" fill=\"#000000\" fill-rule=\"evenodd\" fill-opacity=\"1\" /><path clip-path=\"url(#clip710)\" d=\"M 0 0 M2017.98 1568.36 L2023.71 1568.36 L2023.71 1548.59 L2017.48 1549.84 L2017.48 1546.64 L2023.68 1545.39 L2027.18 1545.39 L2027.18 1568.36 L2032.91 1568.36 L2032.91 1571.31 L2017.98 1571.31 L2017.98 1568.36 Z\" fill=\"#000000\" fill-rule=\"evenodd\" fill-opacity=\"1\" /><path clip-path=\"url(#clip710)\" d=\"M 0 0 M2178.55 1568.36 L2190.79 1568.36 L2190.79 1571.31 L2174.33 1571.31 L2174.33 1568.36 Q2176.33 1566.29 2179.77 1562.82 Q2183.22 1559.33 2184.11 1558.33 Q2185.79 1556.43 2186.45 1555.13 Q2187.13 1553.81 2187.13 1552.54 Q2187.13 1550.48 2185.67 1549.18 Q2184.23 1547.87 2181.9 1547.87 Q2180.25 1547.87 2178.41 1548.45 Q2176.59 1549.02 2174.51 1550.18 L2174.51 1546.64 Q2176.63 1545.79 2178.47 1545.36 Q2180.31 1544.92 2181.83 1544.92 Q2185.86 1544.92 2188.26 1546.94 Q2190.65 1548.95 2190.65 1552.32 Q2190.65 1553.92 2190.05 1555.36 Q2189.46 1556.78 2187.88 1558.73 Q2187.44 1559.23 2185.12 1561.64 Q2182.79 1564.04 2178.55 1568.36 Z\" fill=\"#000000\" fill-rule=\"evenodd\" fill-opacity=\"1\" /><path clip-path=\"url(#clip710)\" d=\"M 0 0 M2343.12 1557.34 Q2345.63 1557.87 2347.04 1559.58 Q2348.46 1561.28 2348.46 1563.78 Q2348.46 1567.61 2345.83 1569.71 Q2343.19 1571.82 2338.33 1571.82 Q2336.69 1571.82 2334.96 1571.49 Q2333.24 1571.17 2331.4 1570.53 L2331.4 1567.15 Q2332.86 1568 2334.59 1568.43 Q2336.33 1568.86 2338.22 1568.86 Q2341.52 1568.86 2343.24 1567.56 Q2344.98 1566.26 2344.98 1563.78 Q2344.98 1561.49 2343.36 1560.2 Q2341.76 1558.9 2338.9 1558.9 L2335.88 1558.9 L2335.88 1556.02 L2339.04 1556.02 Q2341.62 1556.02 2343 1554.99 Q2344.37 1553.95 2344.37 1552.01 Q2344.37 1550.01 2342.94 1548.95 Q2341.54 1547.87 2338.9 1547.87 Q2337.46 1547.87 2335.81 1548.19 Q2334.16 1548.5 2332.18 1549.16 L2332.18 1546.03 Q2334.18 1545.48 2335.91 1545.2 Q2337.67 1544.92 2339.21 1544.92 Q2343.2 1544.92 2345.53 1546.75 Q2347.86 1548.55 2347.86 1551.64 Q2347.86 1553.79 2346.62 1555.29 Q2345.39 1556.76 2343.12 1557.34 Z\" fill=\"#000000\" fill-rule=\"evenodd\" fill-opacity=\"1\" /><polyline clip-path=\"url(#clip713)\" style=\"stroke:#000000; stroke-width:2; stroke-opacity:0.1; fill:none\" points=\"\n",
       "  1286.99,1332.24 2352.76,1332.24 \n",
       "  \"/>\n",
       "<polyline clip-path=\"url(#clip713)\" style=\"stroke:#000000; stroke-width:2; stroke-opacity:0.1; fill:none\" points=\"\n",
       "  1286.99,968.114 2352.76,968.114 \n",
       "  \"/>\n",
       "<polyline clip-path=\"url(#clip713)\" style=\"stroke:#000000; stroke-width:2; stroke-opacity:0.1; fill:none\" points=\"\n",
       "  1286.99,603.984 2352.76,603.984 \n",
       "  \"/>\n",
       "<polyline clip-path=\"url(#clip713)\" style=\"stroke:#000000; stroke-width:2; stroke-opacity:0.1; fill:none\" points=\"\n",
       "  1286.99,239.855 2352.76,239.855 \n",
       "  \"/>\n",
       "<polyline clip-path=\"url(#clip710)\" style=\"stroke:#000000; stroke-width:4; stroke-opacity:1; fill:none\" points=\"\n",
       "  1286.99,1521.01 1286.99,62.9921 \n",
       "  \"/>\n",
       "<polyline clip-path=\"url(#clip710)\" style=\"stroke:#000000; stroke-width:4; stroke-opacity:1; fill:none\" points=\"\n",
       "  1286.99,1332.24 1299.78,1332.24 \n",
       "  \"/>\n",
       "<polyline clip-path=\"url(#clip710)\" style=\"stroke:#000000; stroke-width:4; stroke-opacity:1; fill:none\" points=\"\n",
       "  1286.99,968.114 1299.78,968.114 \n",
       "  \"/>\n",
       "<polyline clip-path=\"url(#clip710)\" style=\"stroke:#000000; stroke-width:4; stroke-opacity:1; fill:none\" points=\"\n",
       "  1286.99,603.984 1299.78,603.984 \n",
       "  \"/>\n",
       "<polyline clip-path=\"url(#clip710)\" style=\"stroke:#000000; stroke-width:4; stroke-opacity:1; fill:none\" points=\"\n",
       "  1286.99,239.855 1299.78,239.855 \n",
       "  \"/>\n",
       "<path clip-path=\"url(#clip710)\" d=\"M 0 0 M1158.33 1332.69 L1188.01 1332.69 L1188.01 1336.63 L1158.33 1336.63 L1158.33 1332.69 Z\" fill=\"#000000\" fill-rule=\"evenodd\" fill-opacity=\"1\" /><path clip-path=\"url(#clip710)\" d=\"M 0 0 M1203.08 1318.04 Q1199.46 1318.04 1197.64 1321.61 Q1195.83 1325.15 1195.83 1332.28 Q1195.83 1339.38 1197.64 1342.95 Q1199.46 1346.49 1203.08 1346.49 Q1206.71 1346.49 1208.52 1342.95 Q1210.34 1339.38 1210.34 1332.28 Q1210.34 1325.15 1208.52 1321.61 Q1206.71 1318.04 1203.08 1318.04 M1203.08 1314.34 Q1208.89 1314.34 1211.94 1318.94 Q1215.02 1323.53 1215.02 1332.28 Q1215.02 1341 1211.94 1345.61 Q1208.89 1350.19 1203.08 1350.19 Q1197.27 1350.19 1194.19 1345.61 Q1191.13 1341 1191.13 1332.28 Q1191.13 1323.53 1194.19 1318.94 Q1197.27 1314.34 1203.08 1314.34 Z\" fill=\"#000000\" fill-rule=\"evenodd\" fill-opacity=\"1\" /><path clip-path=\"url(#clip710)\" d=\"M 0 0 M1220.09 1343.64 L1224.97 1343.64 L1224.97 1349.52 L1220.09 1349.52 L1220.09 1343.64 Z\" fill=\"#000000\" fill-rule=\"evenodd\" fill-opacity=\"1\" /><path clip-path=\"url(#clip710)\" d=\"M 0 0 M1230.09 1314.96 L1248.45 1314.96 L1248.45 1318.9 L1234.37 1318.9 L1234.37 1327.37 Q1235.39 1327.02 1236.41 1326.86 Q1237.43 1326.68 1238.45 1326.68 Q1244.23 1326.68 1247.61 1329.85 Q1250.99 1333.02 1250.99 1338.44 Q1250.99 1344.01 1247.52 1347.12 Q1244.05 1350.19 1237.73 1350.19 Q1235.55 1350.19 1233.28 1349.82 Q1231.04 1349.45 1228.63 1348.71 L1228.63 1344.01 Q1230.71 1345.15 1232.94 1345.7 Q1235.16 1346.26 1237.64 1346.26 Q1241.64 1346.26 1243.98 1344.15 Q1246.32 1342.05 1246.32 1338.44 Q1246.32 1334.82 1243.98 1332.72 Q1241.64 1330.61 1237.64 1330.61 Q1235.76 1330.61 1233.89 1331.03 Q1232.03 1331.44 1230.09 1332.32 L1230.09 1314.96 Z\" fill=\"#000000\" fill-rule=\"evenodd\" fill-opacity=\"1\" /><path clip-path=\"url(#clip710)\" d=\"M 0 0 M1202.08 953.912 Q1198.47 953.912 1196.64 957.477 Q1194.84 961.019 1194.84 968.148 Q1194.84 975.255 1196.64 978.82 Q1198.47 982.361 1202.08 982.361 Q1205.71 982.361 1207.52 978.82 Q1209.35 975.255 1209.35 968.148 Q1209.35 961.019 1207.52 957.477 Q1205.71 953.912 1202.08 953.912 M1202.08 950.209 Q1207.89 950.209 1210.95 954.815 Q1214.02 959.399 1214.02 968.148 Q1214.02 976.875 1210.95 981.482 Q1207.89 986.065 1202.08 986.065 Q1196.27 986.065 1193.19 981.482 Q1190.14 976.875 1190.14 968.148 Q1190.14 959.399 1193.19 954.815 Q1196.27 950.209 1202.08 950.209 Z\" fill=\"#000000\" fill-rule=\"evenodd\" fill-opacity=\"1\" /><path clip-path=\"url(#clip710)\" d=\"M 0 0 M1219.09 979.514 L1223.98 979.514 L1223.98 985.394 L1219.09 985.394 L1219.09 979.514 Z\" fill=\"#000000\" fill-rule=\"evenodd\" fill-opacity=\"1\" /><path clip-path=\"url(#clip710)\" d=\"M 0 0 M1239.05 953.912 Q1235.44 953.912 1233.61 957.477 Q1231.8 961.019 1231.8 968.148 Q1231.8 975.255 1233.61 978.82 Q1235.44 982.361 1239.05 982.361 Q1242.68 982.361 1244.49 978.82 Q1246.32 975.255 1246.32 968.148 Q1246.32 961.019 1244.49 957.477 Q1242.68 953.912 1239.05 953.912 M1239.05 950.209 Q1244.86 950.209 1247.91 954.815 Q1250.99 959.399 1250.99 968.148 Q1250.99 976.875 1247.91 981.482 Q1244.86 986.065 1239.05 986.065 Q1233.24 986.065 1230.16 981.482 Q1227.1 976.875 1227.1 968.148 Q1227.1 959.399 1230.16 954.815 Q1233.24 950.209 1239.05 950.209 Z\" fill=\"#000000\" fill-rule=\"evenodd\" fill-opacity=\"1\" /><path clip-path=\"url(#clip710)\" d=\"M 0 0 M1203.08 589.783 Q1199.46 589.783 1197.64 593.348 Q1195.83 596.889 1195.83 604.019 Q1195.83 611.125 1197.64 614.69 Q1199.46 618.232 1203.08 618.232 Q1206.71 618.232 1208.52 614.69 Q1210.34 611.125 1210.34 604.019 Q1210.34 596.889 1208.52 593.348 Q1206.71 589.783 1203.08 589.783 M1203.08 586.079 Q1208.89 586.079 1211.94 590.686 Q1215.02 595.269 1215.02 604.019 Q1215.02 612.746 1211.94 617.352 Q1208.89 621.936 1203.08 621.936 Q1197.27 621.936 1194.19 617.352 Q1191.13 612.746 1191.13 604.019 Q1191.13 595.269 1194.19 590.686 Q1197.27 586.079 1203.08 586.079 Z\" fill=\"#000000\" fill-rule=\"evenodd\" fill-opacity=\"1\" /><path clip-path=\"url(#clip710)\" d=\"M 0 0 M1220.09 615.385 L1224.97 615.385 L1224.97 621.264 L1220.09 621.264 L1220.09 615.385 Z\" fill=\"#000000\" fill-rule=\"evenodd\" fill-opacity=\"1\" /><path clip-path=\"url(#clip710)\" d=\"M 0 0 M1230.09 586.704 L1248.45 586.704 L1248.45 590.639 L1234.37 590.639 L1234.37 599.112 Q1235.39 598.764 1236.41 598.602 Q1237.43 598.417 1238.45 598.417 Q1244.23 598.417 1247.61 601.588 Q1250.99 604.76 1250.99 610.176 Q1250.99 615.755 1247.52 618.857 Q1244.05 621.936 1237.73 621.936 Q1235.55 621.936 1233.28 621.565 Q1231.04 621.195 1228.63 620.454 L1228.63 615.755 Q1230.71 616.889 1232.94 617.445 Q1235.16 618 1237.64 618 Q1241.64 618 1243.98 615.894 Q1246.32 613.787 1246.32 610.176 Q1246.32 606.565 1243.98 604.459 Q1241.64 602.352 1237.64 602.352 Q1235.76 602.352 1233.89 602.769 Q1232.03 603.186 1230.09 604.065 L1230.09 586.704 Z\" fill=\"#000000\" fill-rule=\"evenodd\" fill-opacity=\"1\" /><path clip-path=\"url(#clip710)\" d=\"M 0 0 M1194.12 253.2 L1201.76 253.2 L1201.76 226.834 L1193.45 228.501 L1193.45 224.241 L1201.71 222.575 L1206.39 222.575 L1206.39 253.2 L1214.02 253.2 L1214.02 257.135 L1194.12 257.135 L1194.12 253.2 Z\" fill=\"#000000\" fill-rule=\"evenodd\" fill-opacity=\"1\" /><path clip-path=\"url(#clip710)\" d=\"M 0 0 M1219.09 251.255 L1223.98 251.255 L1223.98 257.135 L1219.09 257.135 L1219.09 251.255 Z\" fill=\"#000000\" fill-rule=\"evenodd\" fill-opacity=\"1\" /><path clip-path=\"url(#clip710)\" d=\"M 0 0 M1239.05 225.654 Q1235.44 225.654 1233.61 229.218 Q1231.8 232.76 1231.8 239.89 Q1231.8 246.996 1233.61 250.561 Q1235.44 254.102 1239.05 254.102 Q1242.68 254.102 1244.49 250.561 Q1246.32 246.996 1246.32 239.89 Q1246.32 232.76 1244.49 229.218 Q1242.68 225.654 1239.05 225.654 M1239.05 221.95 Q1244.86 221.95 1247.91 226.556 Q1250.99 231.14 1250.99 239.89 Q1250.99 248.616 1247.91 253.223 Q1244.86 257.806 1239.05 257.806 Q1233.24 257.806 1230.16 253.223 Q1227.1 248.616 1227.1 239.89 Q1227.1 231.14 1230.16 226.556 Q1233.24 221.95 1239.05 221.95 Z\" fill=\"#000000\" fill-rule=\"evenodd\" fill-opacity=\"1\" /><path clip-path=\"url(#clip710)\" d=\"M 0 0 M1610.53 6.912 L1630.4 6.912 L1630.4 10.8472 L1615.21 10.8472 L1615.21 21.0323 L1628.91 21.0323 L1628.91 24.9675 L1615.21 24.9675 L1615.21 41.472 L1610.53 41.472 L1610.53 6.912 Z\" fill=\"#000000\" fill-rule=\"evenodd\" fill-opacity=\"1\" /><path clip-path=\"url(#clip710)\" d=\"M 0 0 M1631.83 31.2406 L1631.83 15.5462 L1636.09 15.5462 L1636.09 31.0785 Q1636.09 34.7591 1637.53 36.6109 Q1638.96 38.4396 1641.83 38.4396 Q1645.28 38.4396 1647.27 36.2405 Q1649.28 34.0415 1649.28 30.2452 L1649.28 15.5462 L1653.54 15.5462 L1653.54 41.472 L1649.28 41.472 L1649.28 37.4905 Q1647.73 39.8516 1645.67 41.009 Q1643.64 42.1433 1640.93 42.1433 Q1636.46 42.1433 1634.15 39.3655 Q1631.83 36.5878 1631.83 31.2406 M1642.55 14.9212 L1642.55 14.9212 Z\" fill=\"#000000\" fill-rule=\"evenodd\" fill-opacity=\"1\" /><path clip-path=\"url(#clip710)\" d=\"M 0 0 M1656.16 15.5462 L1676.39 15.5462 L1676.39 19.4351 L1660.37 38.0692 L1676.39 38.0692 L1676.39 41.472 L1655.58 41.472 L1655.58 37.5831 L1671.6 18.949 L1656.16 18.949 L1656.16 15.5462 Z\" fill=\"#000000\" fill-rule=\"evenodd\" fill-opacity=\"1\" /><path clip-path=\"url(#clip710)\" d=\"M 0 0 M1679.01 15.5462 L1699.24 15.5462 L1699.24 19.4351 L1683.22 38.0692 L1699.24 38.0692 L1699.24 41.472 L1678.43 41.472 L1678.43 37.5831 L1694.45 18.949 L1679.01 18.949 L1679.01 15.5462 Z\" fill=\"#000000\" fill-rule=\"evenodd\" fill-opacity=\"1\" /><path clip-path=\"url(#clip710)\" d=\"M 0 0 M1714.49 43.8794 Q1712.69 48.509 1710.97 49.921 Q1709.26 51.3331 1706.39 51.3331 L1702.99 51.3331 L1702.99 47.7683 L1705.49 47.7683 Q1707.25 47.7683 1708.22 46.9349 Q1709.19 46.1016 1710.37 42.9998 L1711.14 41.0553 L1700.65 15.5462 L1705.16 15.5462 L1713.27 35.8239 L1721.37 15.5462 L1725.88 15.5462 L1714.49 43.8794 Z\" fill=\"#000000\" fill-rule=\"evenodd\" fill-opacity=\"1\" /><path clip-path=\"url(#clip710)\" d=\"M 0 0 M1742.09 11.5185 L1735.74 28.7174 L1748.45 28.7174 L1742.09 11.5185 M1739.45 6.912 L1744.75 6.912 L1757.92 41.472 L1753.06 41.472 L1749.91 32.6063 L1734.33 32.6063 L1731.18 41.472 L1726.25 41.472 L1739.45 6.912 Z\" fill=\"#000000\" fill-rule=\"evenodd\" fill-opacity=\"1\" /><path clip-path=\"url(#clip710)\" d=\"M 0 0 M1778.96 25.2684 Q1780.46 25.7776 1781.88 27.4443 Q1783.31 29.111 1784.75 32.0276 L1789.49 41.472 L1784.47 41.472 L1780.05 32.6063 Q1778.33 29.1341 1776.71 27.9998 Q1775.12 26.8656 1772.34 26.8656 L1767.25 26.8656 L1767.25 41.472 L1762.57 41.472 L1762.57 6.912 L1773.13 6.912 Q1779.05 6.912 1781.97 9.38884 Q1784.89 11.8657 1784.89 16.8657 Q1784.89 20.1295 1783.36 22.2823 Q1781.85 24.4351 1778.96 25.2684 M1767.25 10.7546 L1767.25 23.023 L1773.13 23.023 Q1776.51 23.023 1778.22 21.4721 Q1779.96 19.898 1779.96 16.8657 Q1779.96 13.8333 1778.22 12.3055 Q1776.51 10.7546 1773.13 10.7546 L1767.25 10.7546 Z\" fill=\"#000000\" fill-rule=\"evenodd\" fill-opacity=\"1\" /><path clip-path=\"url(#clip710)\" d=\"M 0 0 M1785.9 6.912 L1815.14 6.912 L1815.14 10.8472 L1802.87 10.8472 L1802.87 41.472 L1798.17 41.472 L1798.17 10.8472 L1785.9 10.8472 L1785.9 6.912 Z\" fill=\"#000000\" fill-rule=\"evenodd\" fill-opacity=\"1\" /><path clip-path=\"url(#clip710)\" d=\"M 0 0 M1849.7 19.5277 Q1848.98 19.111 1848.13 18.9258 Q1847.29 18.7175 1846.27 18.7175 Q1842.66 18.7175 1840.72 21.0786 Q1838.8 23.4165 1838.8 27.8147 L1838.8 41.472 L1834.52 41.472 L1834.52 15.5462 L1838.8 15.5462 L1838.8 19.574 Q1840.14 17.2129 1842.29 16.0786 Q1844.45 14.9212 1847.52 14.9212 Q1847.96 14.9212 1848.5 14.9907 Q1849.03 15.037 1849.68 15.1527 L1849.7 19.5277 Z\" fill=\"#000000\" fill-rule=\"evenodd\" fill-opacity=\"1\" /><path clip-path=\"url(#clip710)\" d=\"M 0 0 M1874.89 25.8239 L1874.89 41.472 L1870.63 41.472 L1870.63 25.9628 Q1870.63 22.2823 1869.19 20.4536 Q1867.76 18.6249 1864.89 18.6249 Q1861.44 18.6249 1859.45 20.824 Q1857.45 23.023 1857.45 26.8193 L1857.45 41.472 L1853.17 41.472 L1853.17 5.45367 L1857.45 5.45367 L1857.45 19.574 Q1858.98 17.236 1861.04 16.0786 Q1863.13 14.9212 1865.83 14.9212 Q1870.3 14.9212 1872.59 17.699 Q1874.89 20.4536 1874.89 25.8239 Z\" fill=\"#000000\" fill-rule=\"evenodd\" fill-opacity=\"1\" /><path clip-path=\"url(#clip710)\" d=\"M 0 0 M1889.4 18.5323 Q1885.97 18.5323 1883.98 21.2175 Q1881.99 23.8795 1881.99 28.5323 Q1881.99 33.185 1883.96 35.8702 Q1885.95 38.5322 1889.4 38.5322 Q1892.8 38.5322 1894.79 35.847 Q1896.78 33.1619 1896.78 28.5323 Q1896.78 23.9258 1894.79 21.2406 Q1892.8 18.5323 1889.4 18.5323 M1889.4 14.9212 Q1894.95 14.9212 1898.13 18.5323 Q1901.3 22.1434 1901.3 28.5323 Q1901.3 34.898 1898.13 38.5322 Q1894.95 42.1433 1889.4 42.1433 Q1883.82 42.1433 1880.65 38.5322 Q1877.5 34.898 1877.5 28.5323 Q1877.5 22.1434 1880.65 18.5323 Q1883.82 14.9212 1889.4 14.9212 Z\" fill=\"#000000\" fill-rule=\"evenodd\" fill-opacity=\"1\" /><path clip-path=\"url(#clip710)\" d=\"M 0 0 M1921.39 19.9443 L1951.07 19.9443 L1951.07 23.8332 L1921.39 23.8332 L1921.39 19.9443 M1921.39 29.3887 L1951.07 29.3887 L1951.07 33.3239 L1921.39 33.3239 L1921.39 29.3887 Z\" fill=\"#000000\" fill-rule=\"evenodd\" fill-opacity=\"1\" /><path clip-path=\"url(#clip710)\" d=\"M 0 0 M1981.2 9.99069 Q1977.59 9.99069 1975.76 13.5555 Q1973.96 17.0971 1973.96 24.2267 Q1973.96 31.3332 1975.76 34.898 Q1977.59 38.4396 1981.2 38.4396 Q1984.84 38.4396 1986.64 34.898 Q1988.47 31.3332 1988.47 24.2267 Q1988.47 17.0971 1986.64 13.5555 Q1984.84 9.99069 1981.2 9.99069 M1981.2 6.287 Q1987.01 6.287 1990.07 10.8935 Q1993.15 15.4768 1993.15 24.2267 Q1993.15 32.9535 1990.07 37.56 Q1987.01 42.1433 1981.2 42.1433 Q1975.39 42.1433 1972.32 37.56 Q1969.26 32.9535 1969.26 24.2267 Q1969.26 15.4768 1972.32 10.8935 Q1975.39 6.287 1981.2 6.287 Z\" fill=\"#000000\" fill-rule=\"evenodd\" fill-opacity=\"1\" /><path clip-path=\"url(#clip710)\" d=\"M 0 0 M1998.22 35.5924 L2003.1 35.5924 L2003.1 41.472 L1998.22 41.472 L1998.22 35.5924 Z\" fill=\"#000000\" fill-rule=\"evenodd\" fill-opacity=\"1\" /><path clip-path=\"url(#clip710)\" d=\"M 0 0 M2006.99 6.912 L2029.21 6.912 L2029.21 8.90273 L2016.67 41.472 L2011.78 41.472 L2023.59 10.8472 L2006.99 10.8472 L2006.99 6.912 Z\" fill=\"#000000\" fill-rule=\"evenodd\" fill-opacity=\"1\" /><circle clip-path=\"url(#clip713)\" cx=\"2288.61\" cy=\"1045.81\" r=\"14\" fill=\"#009af9\" fill-rule=\"evenodd\" fill-opacity=\"1\" stroke=\"#000000\" stroke-opacity=\"1\" stroke-width=\"3.2\"/>\n",
       "<circle clip-path=\"url(#clip713)\" cx=\"2238.61\" cy=\"990.842\" r=\"14\" fill=\"#009af9\" fill-rule=\"evenodd\" fill-opacity=\"1\" stroke=\"#000000\" stroke-opacity=\"1\" stroke-width=\"3.2\"/>\n",
       "<circle clip-path=\"url(#clip713)\" cx=\"2283.84\" cy=\"104.257\" r=\"14\" fill=\"#009af9\" fill-rule=\"evenodd\" fill-opacity=\"1\" stroke=\"#000000\" stroke-opacity=\"1\" stroke-width=\"3.2\"/>\n",
       "<circle clip-path=\"url(#clip713)\" cx=\"2283.25\" cy=\"735.588\" r=\"14\" fill=\"#009af9\" fill-rule=\"evenodd\" fill-opacity=\"1\" stroke=\"#000000\" stroke-opacity=\"1\" stroke-width=\"3.2\"/>\n",
       "<circle clip-path=\"url(#clip713)\" cx=\"2282.15\" cy=\"1106.54\" r=\"14\" fill=\"#009af9\" fill-rule=\"evenodd\" fill-opacity=\"1\" stroke=\"#000000\" stroke-opacity=\"1\" stroke-width=\"3.2\"/>\n",
       "<circle clip-path=\"url(#clip713)\" cx=\"2314.8\" cy=\"1128.75\" r=\"14\" fill=\"#009af9\" fill-rule=\"evenodd\" fill-opacity=\"1\" stroke=\"#000000\" stroke-opacity=\"1\" stroke-width=\"3.2\"/>\n",
       "<circle clip-path=\"url(#clip713)\" cx=\"2293.34\" cy=\"884.356\" r=\"14\" fill=\"#009af9\" fill-rule=\"evenodd\" fill-opacity=\"1\" stroke=\"#000000\" stroke-opacity=\"1\" stroke-width=\"3.2\"/>\n",
       "<circle clip-path=\"url(#clip713)\" cx=\"2322.59\" cy=\"1068.14\" r=\"14\" fill=\"#009af9\" fill-rule=\"evenodd\" fill-opacity=\"1\" stroke=\"#000000\" stroke-opacity=\"1\" stroke-width=\"3.2\"/>\n",
       "<circle clip-path=\"url(#clip713)\" cx=\"2303.76\" cy=\"770.712\" r=\"14\" fill=\"#009af9\" fill-rule=\"evenodd\" fill-opacity=\"1\" stroke=\"#000000\" stroke-opacity=\"1\" stroke-width=\"3.2\"/>\n",
       "<circle clip-path=\"url(#clip713)\" cx=\"2275.17\" cy=\"1111.87\" r=\"14\" fill=\"#009af9\" fill-rule=\"evenodd\" fill-opacity=\"1\" stroke=\"#000000\" stroke-opacity=\"1\" stroke-width=\"3.2\"/>\n",
       "<circle clip-path=\"url(#clip713)\" cx=\"2288.61\" cy=\"1045.81\" r=\"14\" fill=\"#009af9\" fill-rule=\"evenodd\" fill-opacity=\"1\" stroke=\"#000000\" stroke-opacity=\"1\" stroke-width=\"3.2\"/>\n",
       "<circle clip-path=\"url(#clip713)\" cx=\"2267.16\" cy=\"596.434\" r=\"14\" fill=\"#009af9\" fill-rule=\"evenodd\" fill-opacity=\"1\" stroke=\"#000000\" stroke-opacity=\"1\" stroke-width=\"3.2\"/>\n",
       "<circle clip-path=\"url(#clip713)\" cx=\"2256.38\" cy=\"867.696\" r=\"14\" fill=\"#009af9\" fill-rule=\"evenodd\" fill-opacity=\"1\" stroke=\"#000000\" stroke-opacity=\"1\" stroke-width=\"3.2\"/>\n",
       "<circle clip-path=\"url(#clip713)\" cx=\"2262.49\" cy=\"1069.38\" r=\"14\" fill=\"#009af9\" fill-rule=\"evenodd\" fill-opacity=\"1\" stroke=\"#000000\" stroke-opacity=\"1\" stroke-width=\"3.2\"/>\n",
       "<circle clip-path=\"url(#clip713)\" cx=\"2246.38\" cy=\"825.435\" r=\"14\" fill=\"#009af9\" fill-rule=\"evenodd\" fill-opacity=\"1\" stroke=\"#000000\" stroke-opacity=\"1\" stroke-width=\"3.2\"/>\n",
       "<circle clip-path=\"url(#clip713)\" cx=\"1787.4\" cy=\"1042.6\" r=\"14\" fill=\"#e26f46\" fill-rule=\"evenodd\" fill-opacity=\"1\" stroke=\"#000000\" stroke-opacity=\"1\" stroke-width=\"3.2\"/>\n",
       "<circle clip-path=\"url(#clip713)\" cx=\"1775.41\" cy=\"1320.07\" r=\"14\" fill=\"#e26f46\" fill-rule=\"evenodd\" fill-opacity=\"1\" stroke=\"#000000\" stroke-opacity=\"1\" stroke-width=\"3.2\"/>\n",
       "<circle clip-path=\"url(#clip713)\" cx=\"1712.97\" cy=\"1058.68\" r=\"14\" fill=\"#e26f46\" fill-rule=\"evenodd\" fill-opacity=\"1\" stroke=\"#000000\" stroke-opacity=\"1\" stroke-width=\"3.2\"/>\n",
       "<circle clip-path=\"url(#clip713)\" cx=\"1794.96\" cy=\"1455.7\" r=\"14\" fill=\"#e26f46\" fill-rule=\"evenodd\" fill-opacity=\"1\" stroke=\"#000000\" stroke-opacity=\"1\" stroke-width=\"3.2\"/>\n",
       "<circle clip-path=\"url(#clip713)\" cx=\"1696.75\" cy=\"913.21\" r=\"14\" fill=\"#e26f46\" fill-rule=\"evenodd\" fill-opacity=\"1\" stroke=\"#000000\" stroke-opacity=\"1\" stroke-width=\"3.2\"/>\n",
       "<circle clip-path=\"url(#clip713)\" cx=\"1815.72\" cy=\"1121.91\" r=\"14\" fill=\"#e26f46\" fill-rule=\"evenodd\" fill-opacity=\"1\" stroke=\"#000000\" stroke-opacity=\"1\" stroke-width=\"3.2\"/>\n",
       "<circle clip-path=\"url(#clip713)\" cx=\"1830.92\" cy=\"1209.84\" r=\"14\" fill=\"#e26f46\" fill-rule=\"evenodd\" fill-opacity=\"1\" stroke=\"#000000\" stroke-opacity=\"1\" stroke-width=\"3.2\"/>\n",
       "<circle clip-path=\"url(#clip713)\" cx=\"1739.97\" cy=\"1086.33\" r=\"14\" fill=\"#e26f46\" fill-rule=\"evenodd\" fill-opacity=\"1\" stroke=\"#000000\" stroke-opacity=\"1\" stroke-width=\"3.2\"/>\n",
       "<circle clip-path=\"url(#clip713)\" cx=\"1637.43\" cy=\"600.933\" r=\"14\" fill=\"#e26f46\" fill-rule=\"evenodd\" fill-opacity=\"1\" stroke=\"#000000\" stroke-opacity=\"1\" stroke-width=\"3.2\"/>\n",
       "<circle clip-path=\"url(#clip713)\" cx=\"1820.96\" cy=\"1220.83\" r=\"14\" fill=\"#e26f46\" fill-rule=\"evenodd\" fill-opacity=\"1\" stroke=\"#000000\" stroke-opacity=\"1\" stroke-width=\"3.2\"/>\n",
       "<circle clip-path=\"url(#clip713)\" cx=\"1878.9\" cy=\"1479.74\" r=\"14\" fill=\"#e26f46\" fill-rule=\"evenodd\" fill-opacity=\"1\" stroke=\"#000000\" stroke-opacity=\"1\" stroke-width=\"3.2\"/>\n",
       "<circle clip-path=\"url(#clip713)\" cx=\"1727.74\" cy=\"992.738\" r=\"14\" fill=\"#e26f46\" fill-rule=\"evenodd\" fill-opacity=\"1\" stroke=\"#000000\" stroke-opacity=\"1\" stroke-width=\"3.2\"/>\n",
       "<circle clip-path=\"url(#clip713)\" cx=\"1829.24\" cy=\"1162.36\" r=\"14\" fill=\"#e26f46\" fill-rule=\"evenodd\" fill-opacity=\"1\" stroke=\"#000000\" stroke-opacity=\"1\" stroke-width=\"3.2\"/>\n",
       "<circle clip-path=\"url(#clip713)\" cx=\"1533.76\" cy=\"1121.67\" r=\"14\" fill=\"#3da44d\" fill-rule=\"evenodd\" fill-opacity=\"1\" stroke=\"#000000\" stroke-opacity=\"1\" stroke-width=\"3.2\"/>\n",
       "<circle clip-path=\"url(#clip713)\" cx=\"1669.92\" cy=\"1098.57\" r=\"14\" fill=\"#3da44d\" fill-rule=\"evenodd\" fill-opacity=\"1\" stroke=\"#000000\" stroke-opacity=\"1\" stroke-width=\"3.2\"/>\n",
       "<circle clip-path=\"url(#clip713)\" cx=\"1456.44\" cy=\"561.478\" r=\"14\" fill=\"#3da44d\" fill-rule=\"evenodd\" fill-opacity=\"1\" stroke=\"#000000\" stroke-opacity=\"1\" stroke-width=\"3.2\"/>\n",
       "<circle clip-path=\"url(#clip713)\" cx=\"1645.3\" cy=\"1386.81\" r=\"14\" fill=\"#3da44d\" fill-rule=\"evenodd\" fill-opacity=\"1\" stroke=\"#000000\" stroke-opacity=\"1\" stroke-width=\"3.2\"/>\n",
       "<circle clip-path=\"url(#clip713)\" cx=\"1420.75\" cy=\"696.661\" r=\"14\" fill=\"#3da44d\" fill-rule=\"evenodd\" fill-opacity=\"1\" stroke=\"#000000\" stroke-opacity=\"1\" stroke-width=\"3.2\"/>\n",
       "<circle clip-path=\"url(#clip713)\" cx=\"1606.29\" cy=\"791.847\" r=\"14\" fill=\"#3da44d\" fill-rule=\"evenodd\" fill-opacity=\"1\" stroke=\"#000000\" stroke-opacity=\"1\" stroke-width=\"3.2\"/>\n",
       "<circle clip-path=\"url(#clip713)\" cx=\"1485.71\" cy=\"693.719\" r=\"14\" fill=\"#3da44d\" fill-rule=\"evenodd\" fill-opacity=\"1\" stroke=\"#000000\" stroke-opacity=\"1\" stroke-width=\"3.2\"/>\n",
       "<circle clip-path=\"url(#clip713)\" cx=\"1622.74\" cy=\"773.383\" r=\"14\" fill=\"#3da44d\" fill-rule=\"evenodd\" fill-opacity=\"1\" stroke=\"#000000\" stroke-opacity=\"1\" stroke-width=\"3.2\"/>\n",
       "<circle clip-path=\"url(#clip713)\" cx=\"1502.79\" cy=\"1146.94\" r=\"14\" fill=\"#3da44d\" fill-rule=\"evenodd\" fill-opacity=\"1\" stroke=\"#000000\" stroke-opacity=\"1\" stroke-width=\"3.2\"/>\n",
       "<circle clip-path=\"url(#clip713)\" cx=\"1406.42\" cy=\"711.492\" r=\"14\" fill=\"#3da44d\" fill-rule=\"evenodd\" fill-opacity=\"1\" stroke=\"#000000\" stroke-opacity=\"1\" stroke-width=\"3.2\"/>\n",
       "<circle clip-path=\"url(#clip713)\" cx=\"1317.16\" cy=\"635.464\" r=\"14\" fill=\"#3da44d\" fill-rule=\"evenodd\" fill-opacity=\"1\" stroke=\"#000000\" stroke-opacity=\"1\" stroke-width=\"3.2\"/>\n",
       "<circle clip-path=\"url(#clip713)\" cx=\"1383.68\" cy=\"468.7\" r=\"14\" fill=\"#3da44d\" fill-rule=\"evenodd\" fill-opacity=\"1\" stroke=\"#000000\" stroke-opacity=\"1\" stroke-width=\"3.2\"/>\n",
       "<circle clip-path=\"url(#clip713)\" cx=\"1584.2\" cy=\"1125.53\" r=\"14\" fill=\"#3da44d\" fill-rule=\"evenodd\" fill-opacity=\"1\" stroke=\"#000000\" stroke-opacity=\"1\" stroke-width=\"3.2\"/>\n",
       "<circle clip-path=\"url(#clip713)\" cx=\"1650.86\" cy=\"1274.86\" r=\"14\" fill=\"#3da44d\" fill-rule=\"evenodd\" fill-opacity=\"1\" stroke=\"#000000\" stroke-opacity=\"1\" stroke-width=\"3.2\"/>\n",
       "<circle clip-path=\"url(#clip713)\" cx=\"1568.06\" cy=\"933.123\" r=\"14\" fill=\"#3da44d\" fill-rule=\"evenodd\" fill-opacity=\"1\" stroke=\"#000000\" stroke-opacity=\"1\" stroke-width=\"3.2\"/>\n",
       "<circle clip-path=\"url(#clip713)\" cx=\"1530.28\" cy=\"866.954\" r=\"14\" fill=\"#3da44d\" fill-rule=\"evenodd\" fill-opacity=\"1\" stroke=\"#000000\" stroke-opacity=\"1\" stroke-width=\"3.2\"/>\n",
       "<circle clip-path=\"url(#clip713)\" cx=\"1561.08\" cy=\"938.452\" r=\"14\" fill=\"#3da44d\" fill-rule=\"evenodd\" fill-opacity=\"1\" stroke=\"#000000\" stroke-opacity=\"1\" stroke-width=\"3.2\"/>\n",
       "</svg>\n"
      ],
      "image/svg+xml": [
       "<?xml version=\"1.0\" encoding=\"utf-8\"?>\n",
       "<svg xmlns=\"http://www.w3.org/2000/svg\" xmlns:xlink=\"http://www.w3.org/1999/xlink\" width=\"600\" height=\"400\" viewBox=\"0 0 2400 1600\">\n",
       "<defs>\n",
       "  <clipPath id=\"clip680\">\n",
       "    <rect x=\"0\" y=\"0\" width=\"2400\" height=\"1600\"/>\n",
       "  </clipPath>\n",
       "</defs>\n",
       "<path clip-path=\"url(#clip680)\" d=\"\n",
       "M0 1600 L2400 1600 L2400 0 L0 0  Z\n",
       "  \" fill=\"#ffffff\" fill-rule=\"evenodd\" fill-opacity=\"1\"/>\n",
       "<defs>\n",
       "  <clipPath id=\"clip681\">\n",
       "    <rect x=\"480\" y=\"0\" width=\"1681\" height=\"1600\"/>\n",
       "  </clipPath>\n",
       "</defs>\n",
       "<path clip-path=\"url(#clip680)\" d=\"\n",
       "M86.9921 1521.01 L1152.76 1521.01 L1152.76 62.9921 L86.9921 62.9921  Z\n",
       "  \" fill=\"#ffffff\" fill-rule=\"evenodd\" fill-opacity=\"1\"/>\n",
       "<defs>\n",
       "  <clipPath id=\"clip682\">\n",
       "    <rect x=\"86\" y=\"62\" width=\"1067\" height=\"1459\"/>\n",
       "  </clipPath>\n",
       "</defs>\n",
       "<polyline clip-path=\"url(#clip682)\" style=\"stroke:#000000; stroke-width:2; stroke-opacity:0.1; fill:none\" points=\"\n",
       "  195.724,1521.01 195.724,62.9921 \n",
       "  \"/>\n",
       "<polyline clip-path=\"url(#clip682)\" style=\"stroke:#000000; stroke-width:2; stroke-opacity:0.1; fill:none\" points=\"\n",
       "  353.092,1521.01 353.092,62.9921 \n",
       "  \"/>\n",
       "<polyline clip-path=\"url(#clip682)\" style=\"stroke:#000000; stroke-width:2; stroke-opacity:0.1; fill:none\" points=\"\n",
       "  510.46,1521.01 510.46,62.9921 \n",
       "  \"/>\n",
       "<polyline clip-path=\"url(#clip682)\" style=\"stroke:#000000; stroke-width:2; stroke-opacity:0.1; fill:none\" points=\"\n",
       "  667.828,1521.01 667.828,62.9921 \n",
       "  \"/>\n",
       "<polyline clip-path=\"url(#clip682)\" style=\"stroke:#000000; stroke-width:2; stroke-opacity:0.1; fill:none\" points=\"\n",
       "  825.196,1521.01 825.196,62.9921 \n",
       "  \"/>\n",
       "<polyline clip-path=\"url(#clip682)\" style=\"stroke:#000000; stroke-width:2; stroke-opacity:0.1; fill:none\" points=\"\n",
       "  982.564,1521.01 982.564,62.9921 \n",
       "  \"/>\n",
       "<polyline clip-path=\"url(#clip682)\" style=\"stroke:#000000; stroke-width:2; stroke-opacity:0.1; fill:none\" points=\"\n",
       "  1139.93,1521.01 1139.93,62.9921 \n",
       "  \"/>\n",
       "<polyline clip-path=\"url(#clip680)\" style=\"stroke:#000000; stroke-width:4; stroke-opacity:1; fill:none\" points=\"\n",
       "  86.9921,1521.01 1152.76,1521.01 \n",
       "  \"/>\n",
       "<polyline clip-path=\"url(#clip680)\" style=\"stroke:#000000; stroke-width:4; stroke-opacity:1; fill:none\" points=\"\n",
       "  195.724,1521.01 195.724,1503.51 \n",
       "  \"/>\n",
       "<polyline clip-path=\"url(#clip680)\" style=\"stroke:#000000; stroke-width:4; stroke-opacity:1; fill:none\" points=\"\n",
       "  353.092,1521.01 353.092,1503.51 \n",
       "  \"/>\n",
       "<polyline clip-path=\"url(#clip680)\" style=\"stroke:#000000; stroke-width:4; stroke-opacity:1; fill:none\" points=\"\n",
       "  510.46,1521.01 510.46,1503.51 \n",
       "  \"/>\n",
       "<polyline clip-path=\"url(#clip680)\" style=\"stroke:#000000; stroke-width:4; stroke-opacity:1; fill:none\" points=\"\n",
       "  667.828,1521.01 667.828,1503.51 \n",
       "  \"/>\n",
       "<polyline clip-path=\"url(#clip680)\" style=\"stroke:#000000; stroke-width:4; stroke-opacity:1; fill:none\" points=\"\n",
       "  825.196,1521.01 825.196,1503.51 \n",
       "  \"/>\n",
       "<polyline clip-path=\"url(#clip680)\" style=\"stroke:#000000; stroke-width:4; stroke-opacity:1; fill:none\" points=\"\n",
       "  982.564,1521.01 982.564,1503.51 \n",
       "  \"/>\n",
       "<polyline clip-path=\"url(#clip680)\" style=\"stroke:#000000; stroke-width:4; stroke-opacity:1; fill:none\" points=\"\n",
       "  1139.93,1521.01 1139.93,1503.51 \n",
       "  \"/>\n",
       "<path clip-path=\"url(#clip680)\" d=\"M 0 0 M174.708 1558.69 L196.965 1558.69 L196.965 1561.64 L174.708 1561.64 L174.708 1558.69 Z\" fill=\"#000000\" fill-rule=\"evenodd\" fill-opacity=\"1\" /><path clip-path=\"url(#clip680)\" d=\"M 0 0 M211.392 1557.34 Q213.909 1557.87 215.316 1559.58 Q216.739 1561.28 216.739 1563.78 Q216.739 1567.61 214.1 1569.71 Q211.461 1571.82 206.6 1571.82 Q204.968 1571.82 203.232 1571.49 Q201.514 1571.17 199.673 1570.53 L199.673 1567.15 Q201.132 1568 202.868 1568.43 Q204.604 1568.86 206.496 1568.86 Q209.795 1568.86 211.514 1567.56 Q213.25 1566.26 213.25 1563.78 Q213.25 1561.49 211.635 1560.2 Q210.038 1558.9 207.173 1558.9 L204.152 1558.9 L204.152 1556.02 L207.312 1556.02 Q209.899 1556.02 211.27 1554.99 Q212.642 1553.95 212.642 1552.01 Q212.642 1550.01 211.218 1548.95 Q209.812 1547.87 207.173 1547.87 Q205.732 1547.87 204.083 1548.19 Q202.434 1548.5 200.455 1549.16 L200.455 1546.03 Q202.451 1545.48 204.187 1545.2 Q205.941 1544.92 207.486 1544.92 Q211.479 1544.92 213.805 1546.75 Q216.132 1548.55 216.132 1551.64 Q216.132 1553.79 214.899 1555.29 Q213.666 1556.76 211.392 1557.34 Z\" fill=\"#000000\" fill-rule=\"evenodd\" fill-opacity=\"1\" /><path clip-path=\"url(#clip680)\" d=\"M 0 0 M332.432 1558.69 L354.689 1558.69 L354.689 1561.64 L332.432 1561.64 L332.432 1558.69 Z\" fill=\"#000000\" fill-rule=\"evenodd\" fill-opacity=\"1\" /><path clip-path=\"url(#clip680)\" d=\"M 0 0 M361.512 1568.36 L373.751 1568.36 L373.751 1571.31 L357.293 1571.31 L357.293 1568.36 Q359.29 1566.29 362.727 1562.82 Q366.182 1559.33 367.067 1558.33 Q368.751 1556.43 369.411 1555.13 Q370.088 1553.81 370.088 1552.54 Q370.088 1550.48 368.63 1549.18 Q367.189 1547.87 364.862 1547.87 Q363.213 1547.87 361.373 1548.45 Q359.55 1549.02 357.467 1550.18 L357.467 1546.64 Q359.585 1545.79 361.425 1545.36 Q363.265 1544.92 364.793 1544.92 Q368.821 1544.92 371.217 1546.94 Q373.612 1548.95 373.612 1552.32 Q373.612 1553.92 373.005 1555.36 Q372.414 1556.78 370.835 1558.73 Q370.401 1559.23 368.074 1561.64 Q365.748 1564.04 361.512 1568.36 Z\" fill=\"#000000\" fill-rule=\"evenodd\" fill-opacity=\"1\" /><path clip-path=\"url(#clip680)\" d=\"M 0 0 M489.661 1558.69 L511.918 1558.69 L511.918 1561.64 L489.661 1561.64 L489.661 1558.69 Z\" fill=\"#000000\" fill-rule=\"evenodd\" fill-opacity=\"1\" /><path clip-path=\"url(#clip680)\" d=\"M 0 0 M516.328 1568.36 L522.057 1568.36 L522.057 1548.59 L515.824 1549.84 L515.824 1546.64 L522.022 1545.39 L525.529 1545.39 L525.529 1568.36 L531.258 1568.36 L531.258 1571.31 L516.328 1571.31 L516.328 1568.36 Z\" fill=\"#000000\" fill-rule=\"evenodd\" fill-opacity=\"1\" /><path clip-path=\"url(#clip680)\" d=\"M 0 0 M667.828 1547.7 Q665.119 1547.7 663.748 1550.37 Q662.394 1553.03 662.394 1558.38 Q662.394 1563.71 663.748 1566.38 Q665.119 1569.04 667.828 1569.04 Q670.553 1569.04 671.907 1566.38 Q673.279 1563.71 673.279 1558.38 Q673.279 1553.03 671.907 1550.37 Q670.553 1547.7 667.828 1547.7 M667.828 1544.92 Q672.185 1544.92 674.477 1548.38 Q676.786 1551.82 676.786 1558.38 Q676.786 1564.92 674.477 1568.38 Q672.185 1571.82 667.828 1571.82 Q663.47 1571.82 661.161 1568.38 Q658.869 1564.92 658.869 1558.38 Q658.869 1551.82 661.161 1548.38 Q663.47 1544.92 667.828 1544.92 Z\" fill=\"#000000\" fill-rule=\"evenodd\" fill-opacity=\"1\" /><path clip-path=\"url(#clip680)\" d=\"M 0 0 M817.982 1568.36 L823.711 1568.36 L823.711 1548.59 L817.479 1549.84 L817.479 1546.64 L823.677 1545.39 L827.183 1545.39 L827.183 1568.36 L832.913 1568.36 L832.913 1571.31 L817.982 1571.31 L817.982 1568.36 Z\" fill=\"#000000\" fill-rule=\"evenodd\" fill-opacity=\"1\" /><path clip-path=\"url(#clip680)\" d=\"M 0 0 M978.553 1568.36 L990.793 1568.36 L990.793 1571.31 L974.335 1571.31 L974.335 1568.36 Q976.331 1566.29 979.769 1562.82 Q983.223 1559.33 984.109 1558.33 Q985.793 1556.43 986.453 1555.13 Q987.13 1553.81 987.13 1552.54 Q987.13 1550.48 985.671 1549.18 Q984.23 1547.87 981.904 1547.87 Q980.255 1547.87 978.414 1548.45 Q976.591 1549.02 974.508 1550.18 L974.508 1546.64 Q976.626 1545.79 978.466 1545.36 Q980.307 1544.92 981.834 1544.92 Q985.862 1544.92 988.258 1546.94 Q990.654 1548.95 990.654 1552.32 Q990.654 1553.92 990.046 1555.36 Q989.456 1556.78 987.876 1558.73 Q987.442 1559.23 985.116 1561.64 Q982.789 1564.04 978.553 1568.36 Z\" fill=\"#000000\" fill-rule=\"evenodd\" fill-opacity=\"1\" /><path clip-path=\"url(#clip680)\" d=\"M 0 0 M1143.12 1557.34 Q1145.63 1557.87 1147.04 1559.58 Q1148.46 1561.28 1148.46 1563.78 Q1148.46 1567.61 1145.83 1569.71 Q1143.19 1571.82 1138.33 1571.82 Q1136.69 1571.82 1134.96 1571.49 Q1133.24 1571.17 1131.4 1570.53 L1131.4 1567.15 Q1132.86 1568 1134.59 1568.43 Q1136.33 1568.86 1138.22 1568.86 Q1141.52 1568.86 1143.24 1567.56 Q1144.98 1566.26 1144.98 1563.78 Q1144.98 1561.49 1143.36 1560.2 Q1141.76 1558.9 1138.9 1558.9 L1135.88 1558.9 L1135.88 1556.02 L1139.04 1556.02 Q1141.62 1556.02 1143 1554.99 Q1144.37 1553.95 1144.37 1552.01 Q1144.37 1550.01 1142.94 1548.95 Q1141.54 1547.87 1138.9 1547.87 Q1137.46 1547.87 1135.81 1548.19 Q1134.16 1548.5 1132.18 1549.16 L1132.18 1546.03 Q1134.18 1545.48 1135.91 1545.2 Q1137.67 1544.92 1139.21 1544.92 Q1143.2 1544.92 1145.53 1546.75 Q1147.86 1548.55 1147.86 1551.64 Q1147.86 1553.79 1146.62 1555.29 Q1145.39 1556.76 1143.12 1557.34 Z\" fill=\"#000000\" fill-rule=\"evenodd\" fill-opacity=\"1\" /><polyline clip-path=\"url(#clip682)\" style=\"stroke:#000000; stroke-width:2; stroke-opacity:0.1; fill:none\" points=\"\n",
       "  86.9921,1332.24 1152.76,1332.24 \n",
       "  \"/>\n",
       "<polyline clip-path=\"url(#clip682)\" style=\"stroke:#000000; stroke-width:2; stroke-opacity:0.1; fill:none\" points=\"\n",
       "  86.9921,968.114 1152.76,968.114 \n",
       "  \"/>\n",
       "<polyline clip-path=\"url(#clip682)\" style=\"stroke:#000000; stroke-width:2; stroke-opacity:0.1; fill:none\" points=\"\n",
       "  86.9921,603.984 1152.76,603.984 \n",
       "  \"/>\n",
       "<polyline clip-path=\"url(#clip682)\" style=\"stroke:#000000; stroke-width:2; stroke-opacity:0.1; fill:none\" points=\"\n",
       "  86.9921,239.855 1152.76,239.855 \n",
       "  \"/>\n",
       "<polyline clip-path=\"url(#clip680)\" style=\"stroke:#000000; stroke-width:4; stroke-opacity:1; fill:none\" points=\"\n",
       "  86.9921,1521.01 86.9921,62.9921 \n",
       "  \"/>\n",
       "<polyline clip-path=\"url(#clip680)\" style=\"stroke:#000000; stroke-width:4; stroke-opacity:1; fill:none\" points=\"\n",
       "  86.9921,1332.24 99.7813,1332.24 \n",
       "  \"/>\n",
       "<polyline clip-path=\"url(#clip680)\" style=\"stroke:#000000; stroke-width:4; stroke-opacity:1; fill:none\" points=\"\n",
       "  86.9921,968.114 99.7813,968.114 \n",
       "  \"/>\n",
       "<polyline clip-path=\"url(#clip680)\" style=\"stroke:#000000; stroke-width:4; stroke-opacity:1; fill:none\" points=\"\n",
       "  86.9921,603.984 99.7813,603.984 \n",
       "  \"/>\n",
       "<polyline clip-path=\"url(#clip680)\" style=\"stroke:#000000; stroke-width:4; stroke-opacity:1; fill:none\" points=\"\n",
       "  86.9921,239.855 99.7813,239.855 \n",
       "  \"/>\n",
       "<path clip-path=\"url(#clip680)\" d=\"M 0 0 M-41.6694 1332.69 L-11.9936 1332.69 L-11.9936 1336.63 L-41.6694 1336.63 L-41.6694 1332.69 Z\" fill=\"#000000\" fill-rule=\"evenodd\" fill-opacity=\"1\" /><path clip-path=\"url(#clip680)\" d=\"M 0 0 M3.07572 1318.04 Q-0.535376 1318.04 -2.36407 1321.61 Q-4.16962 1325.15 -4.16962 1332.28 Q-4.16962 1339.38 -2.36407 1342.95 Q-0.535376 1346.49 3.07572 1346.49 Q6.70996 1346.49 8.5155 1342.95 Q10.3442 1339.38 10.3442 1332.28 Q10.3442 1325.15 8.5155 1321.61 Q6.70996 1318.04 3.07572 1318.04 M3.07572 1314.34 Q8.88587 1314.34 11.9414 1318.94 Q15.0201 1323.53 15.0201 1332.28 Q15.0201 1341 11.9414 1345.61 Q8.88587 1350.19 3.07572 1350.19 Q-2.73444 1350.19 -5.81313 1345.61 Q-8.86866 1341 -8.86866 1332.28 Q-8.86866 1323.53 -5.81313 1318.94 Q-2.73444 1314.34 3.07572 1314.34 Z\" fill=\"#000000\" fill-rule=\"evenodd\" fill-opacity=\"1\" /><path clip-path=\"url(#clip680)\" d=\"M 0 0 M20.0895 1343.64 L24.9737 1343.64 L24.9737 1349.52 L20.0895 1349.52 L20.0895 1343.64 Z\" fill=\"#000000\" fill-rule=\"evenodd\" fill-opacity=\"1\" /><path clip-path=\"url(#clip680)\" d=\"M 0 0 M30.0895 1314.96 L48.4458 1314.96 L48.4458 1318.9 L34.3718 1318.9 L34.3718 1327.37 Q35.3904 1327.02 36.4089 1326.86 Q37.4274 1326.68 38.4459 1326.68 Q44.2329 1326.68 47.6125 1329.85 Q50.9921 1333.02 50.9921 1338.44 Q50.9921 1344.01 47.5199 1347.12 Q44.0477 1350.19 37.7283 1350.19 Q35.5524 1350.19 33.2839 1349.82 Q31.0385 1349.45 28.6311 1348.71 L28.6311 1344.01 Q30.7145 1345.15 32.9367 1345.7 Q35.1589 1346.26 37.6357 1346.26 Q41.6403 1346.26 43.9783 1344.15 Q46.3162 1342.05 46.3162 1338.44 Q46.3162 1334.82 43.9783 1332.72 Q41.6403 1330.61 37.6357 1330.61 Q35.7607 1330.61 33.8857 1331.03 Q32.0339 1331.44 30.0895 1332.32 L30.0895 1314.96 Z\" fill=\"#000000\" fill-rule=\"evenodd\" fill-opacity=\"1\" /><path clip-path=\"url(#clip680)\" d=\"M 0 0 M2.08035 953.912 Q-1.53074 953.912 -3.35943 957.477 Q-5.16498 961.019 -5.16498 968.148 Q-5.16498 975.255 -3.35943 978.82 Q-1.53074 982.361 2.08035 982.361 Q5.71459 982.361 7.52014 978.82 Q9.34883 975.255 9.34883 968.148 Q9.34883 961.019 7.52014 957.477 Q5.71459 953.912 2.08035 953.912 M2.08035 950.209 Q7.89051 950.209 10.946 954.815 Q14.0247 959.399 14.0247 968.148 Q14.0247 976.875 10.946 981.482 Q7.89051 986.065 2.08035 986.065 Q-3.7298 986.065 -6.80849 981.482 Q-9.86403 976.875 -9.86403 968.148 Q-9.86403 959.399 -6.80849 954.815 Q-3.7298 950.209 2.08035 950.209 Z\" fill=\"#000000\" fill-rule=\"evenodd\" fill-opacity=\"1\" /><path clip-path=\"url(#clip680)\" d=\"M 0 0 M19.0941 979.514 L23.9784 979.514 L23.9784 985.394 L19.0941 985.394 L19.0941 979.514 Z\" fill=\"#000000\" fill-rule=\"evenodd\" fill-opacity=\"1\" /><path clip-path=\"url(#clip680)\" d=\"M 0 0 M39.0477 953.912 Q35.4367 953.912 33.608 957.477 Q31.8024 961.019 31.8024 968.148 Q31.8024 975.255 33.608 978.82 Q35.4367 982.361 39.0477 982.361 Q42.682 982.361 44.4875 978.82 Q46.3162 975.255 46.3162 968.148 Q46.3162 961.019 44.4875 957.477 Q42.682 953.912 39.0477 953.912 M39.0477 950.209 Q44.8579 950.209 47.9134 954.815 Q50.9921 959.399 50.9921 968.148 Q50.9921 976.875 47.9134 981.482 Q44.8579 986.065 39.0477 986.065 Q33.2376 986.065 30.1589 981.482 Q27.1034 976.875 27.1034 968.148 Q27.1034 959.399 30.1589 954.815 Q33.2376 950.209 39.0477 950.209 Z\" fill=\"#000000\" fill-rule=\"evenodd\" fill-opacity=\"1\" /><path clip-path=\"url(#clip680)\" d=\"M 0 0 M3.07572 589.783 Q-0.535376 589.783 -2.36407 593.348 Q-4.16962 596.889 -4.16962 604.019 Q-4.16962 611.125 -2.36407 614.69 Q-0.535376 618.232 3.07572 618.232 Q6.70996 618.232 8.5155 614.69 Q10.3442 611.125 10.3442 604.019 Q10.3442 596.889 8.5155 593.348 Q6.70996 589.783 3.07572 589.783 M3.07572 586.079 Q8.88587 586.079 11.9414 590.686 Q15.0201 595.269 15.0201 604.019 Q15.0201 612.746 11.9414 617.352 Q8.88587 621.936 3.07572 621.936 Q-2.73444 621.936 -5.81313 617.352 Q-8.86866 612.746 -8.86866 604.019 Q-8.86866 595.269 -5.81313 590.686 Q-2.73444 586.079 3.07572 586.079 Z\" fill=\"#000000\" fill-rule=\"evenodd\" fill-opacity=\"1\" /><path clip-path=\"url(#clip680)\" d=\"M 0 0 M20.0895 615.385 L24.9737 615.385 L24.9737 621.264 L20.0895 621.264 L20.0895 615.385 Z\" fill=\"#000000\" fill-rule=\"evenodd\" fill-opacity=\"1\" /><path clip-path=\"url(#clip680)\" d=\"M 0 0 M30.0895 586.704 L48.4458 586.704 L48.4458 590.639 L34.3718 590.639 L34.3718 599.112 Q35.3904 598.764 36.4089 598.602 Q37.4274 598.417 38.4459 598.417 Q44.2329 598.417 47.6125 601.588 Q50.9921 604.76 50.9921 610.176 Q50.9921 615.755 47.5199 618.857 Q44.0477 621.936 37.7283 621.936 Q35.5524 621.936 33.2839 621.565 Q31.0385 621.195 28.6311 620.454 L28.6311 615.755 Q30.7145 616.889 32.9367 617.445 Q35.1589 618 37.6357 618 Q41.6403 618 43.9783 615.894 Q46.3162 613.787 46.3162 610.176 Q46.3162 606.565 43.9783 604.459 Q41.6403 602.352 37.6357 602.352 Q35.7607 602.352 33.8857 602.769 Q32.0339 603.186 30.0895 604.065 L30.0895 586.704 Z\" fill=\"#000000\" fill-rule=\"evenodd\" fill-opacity=\"1\" /><path clip-path=\"url(#clip680)\" d=\"M 0 0 M-5.88257 253.2 L1.75628 253.2 L1.75628 226.834 L-6.55386 228.501 L-6.55386 224.241 L1.70998 222.575 L6.38588 222.575 L6.38588 253.2 L14.0247 253.2 L14.0247 257.135 L-5.88257 257.135 L-5.88257 253.2 Z\" fill=\"#000000\" fill-rule=\"evenodd\" fill-opacity=\"1\" /><path clip-path=\"url(#clip680)\" d=\"M 0 0 M19.0941 251.255 L23.9784 251.255 L23.9784 257.135 L19.0941 257.135 L19.0941 251.255 Z\" fill=\"#000000\" fill-rule=\"evenodd\" fill-opacity=\"1\" /><path clip-path=\"url(#clip680)\" d=\"M 0 0 M39.0477 225.654 Q35.4367 225.654 33.608 229.218 Q31.8024 232.76 31.8024 239.89 Q31.8024 246.996 33.608 250.561 Q35.4367 254.102 39.0477 254.102 Q42.682 254.102 44.4875 250.561 Q46.3162 246.996 46.3162 239.89 Q46.3162 232.76 44.4875 229.218 Q42.682 225.654 39.0477 225.654 M39.0477 221.95 Q44.8579 221.95 47.9134 226.556 Q50.9921 231.14 50.9921 239.89 Q50.9921 248.616 47.9134 253.223 Q44.8579 257.806 39.0477 257.806 Q33.2376 257.806 30.1589 253.223 Q27.1034 248.616 27.1034 239.89 Q27.1034 231.14 30.1589 226.556 Q33.2376 221.95 39.0477 221.95 Z\" fill=\"#000000\" fill-rule=\"evenodd\" fill-opacity=\"1\" /><path clip-path=\"url(#clip680)\" d=\"M 0 0 M410.581 6.912 L430.442 6.912 L430.442 10.8472 L415.257 10.8472 L415.257 21.0323 L428.961 21.0323 L428.961 24.9675 L415.257 24.9675 L415.257 41.472 L410.581 41.472 L410.581 6.912 Z\" fill=\"#000000\" fill-rule=\"evenodd\" fill-opacity=\"1\" /><path clip-path=\"url(#clip680)\" d=\"M 0 0 M431.877 31.2406 L431.877 15.5462 L436.137 15.5462 L436.137 31.0785 Q436.137 34.7591 437.572 36.6109 Q439.007 38.4396 441.877 38.4396 Q445.326 38.4396 447.317 36.2405 Q449.331 34.0415 449.331 30.2452 L449.331 15.5462 L453.59 15.5462 L453.59 41.472 L449.331 41.472 L449.331 37.4905 Q447.78 39.8516 445.72 41.009 Q443.683 42.1433 440.975 42.1433 Q436.507 42.1433 434.192 39.3655 Q431.877 36.5878 431.877 31.2406 M442.595 14.9212 L442.595 14.9212 Z\" fill=\"#000000\" fill-rule=\"evenodd\" fill-opacity=\"1\" /><path clip-path=\"url(#clip680)\" d=\"M 0 0 M456.206 15.5462 L476.437 15.5462 L476.437 19.4351 L460.419 38.0692 L476.437 38.0692 L476.437 41.472 L455.627 41.472 L455.627 37.5831 L471.646 18.949 L456.206 18.949 L456.206 15.5462 Z\" fill=\"#000000\" fill-rule=\"evenodd\" fill-opacity=\"1\" /><path clip-path=\"url(#clip680)\" d=\"M 0 0 M479.053 15.5462 L499.284 15.5462 L499.284 19.4351 L483.266 38.0692 L499.284 38.0692 L499.284 41.472 L478.474 41.472 L478.474 37.5831 L494.493 18.949 L479.053 18.949 L479.053 15.5462 Z\" fill=\"#000000\" fill-rule=\"evenodd\" fill-opacity=\"1\" /><path clip-path=\"url(#clip680)\" d=\"M 0 0 M514.539 43.8794 Q512.733 48.509 511.02 49.921 Q509.307 51.3331 506.437 51.3331 L503.034 51.3331 L503.034 47.7683 L505.534 47.7683 Q507.294 47.7683 508.266 46.9349 Q509.238 46.1016 510.419 42.9998 L511.182 41.0553 L500.696 15.5462 L505.21 15.5462 L513.312 35.8239 L521.414 15.5462 L525.928 15.5462 L514.539 43.8794 Z\" fill=\"#000000\" fill-rule=\"evenodd\" fill-opacity=\"1\" /><path clip-path=\"url(#clip680)\" d=\"M 0 0 M542.131 11.5185 L535.789 28.7174 L548.497 28.7174 L542.131 11.5185 M539.493 6.912 L544.793 6.912 L557.965 41.472 L553.104 41.472 L549.955 32.6063 L534.377 32.6063 L531.229 41.472 L526.298 41.472 L539.493 6.912 Z\" fill=\"#000000\" fill-rule=\"evenodd\" fill-opacity=\"1\" /><path clip-path=\"url(#clip680)\" d=\"M 0 0 M579.006 25.2684 Q580.511 25.7776 581.923 27.4443 Q583.358 29.111 584.793 32.0276 L589.539 41.472 L584.515 41.472 L580.094 32.6063 Q578.381 29.1341 576.761 27.9998 Q575.164 26.8656 572.386 26.8656 L567.293 26.8656 L567.293 41.472 L562.617 41.472 L562.617 6.912 L573.173 6.912 Q579.099 6.912 582.015 9.38884 Q584.932 11.8657 584.932 16.8657 Q584.932 20.1295 583.404 22.2823 Q581.9 24.4351 579.006 25.2684 M567.293 10.7546 L567.293 23.023 L573.173 23.023 Q576.552 23.023 578.265 21.4721 Q580.002 19.898 580.002 16.8657 Q580.002 13.8333 578.265 12.3055 Q576.552 10.7546 573.173 10.7546 L567.293 10.7546 Z\" fill=\"#000000\" fill-rule=\"evenodd\" fill-opacity=\"1\" /><path clip-path=\"url(#clip680)\" d=\"M 0 0 M585.951 6.912 L615.187 6.912 L615.187 10.8472 L602.918 10.8472 L602.918 41.472 L598.219 41.472 L598.219 10.8472 L585.951 10.8472 L585.951 6.912 Z\" fill=\"#000000\" fill-rule=\"evenodd\" fill-opacity=\"1\" /><path clip-path=\"url(#clip680)\" d=\"M 0 0 M649.747 19.5277 Q649.029 19.111 648.172 18.9258 Q647.339 18.7175 646.321 18.7175 Q642.71 18.7175 640.765 21.0786 Q638.844 23.4165 638.844 27.8147 L638.844 41.472 L634.561 41.472 L634.561 15.5462 L638.844 15.5462 L638.844 19.574 Q640.186 17.2129 642.339 16.0786 Q644.492 14.9212 647.571 14.9212 Q648.01 14.9212 648.543 14.9907 Q649.075 15.037 649.723 15.1527 L649.747 19.5277 Z\" fill=\"#000000\" fill-rule=\"evenodd\" fill-opacity=\"1\" /><path clip-path=\"url(#clip680)\" d=\"M 0 0 M674.932 25.8239 L674.932 41.472 L670.672 41.472 L670.672 25.9628 Q670.672 22.2823 669.237 20.4536 Q667.802 18.6249 664.932 18.6249 Q661.483 18.6249 659.492 20.824 Q657.501 23.023 657.501 26.8193 L657.501 41.472 L653.219 41.472 L653.219 5.45367 L657.501 5.45367 L657.501 19.574 Q659.029 17.236 661.089 16.0786 Q663.172 14.9212 665.881 14.9212 Q670.348 14.9212 672.64 17.699 Q674.932 20.4536 674.932 25.8239 Z\" fill=\"#000000\" fill-rule=\"evenodd\" fill-opacity=\"1\" /><path clip-path=\"url(#clip680)\" d=\"M 0 0 M689.445 18.5323 Q686.019 18.5323 684.029 21.2175 Q682.038 23.8795 682.038 28.5323 Q682.038 33.185 684.006 35.8702 Q685.996 38.5322 689.445 38.5322 Q692.848 38.5322 694.839 35.847 Q696.83 33.1619 696.83 28.5323 Q696.83 23.9258 694.839 21.2406 Q692.848 18.5323 689.445 18.5323 M689.445 14.9212 Q695.001 14.9212 698.172 18.5323 Q701.343 22.1434 701.343 28.5323 Q701.343 34.898 698.172 38.5322 Q695.001 42.1433 689.445 42.1433 Q683.867 42.1433 680.695 38.5322 Q677.547 34.898 677.547 28.5323 Q677.547 22.1434 680.695 18.5323 Q683.867 14.9212 689.445 14.9212 Z\" fill=\"#000000\" fill-rule=\"evenodd\" fill-opacity=\"1\" /><path clip-path=\"url(#clip680)\" d=\"M 0 0 M721.436 19.9443 L751.112 19.9443 L751.112 23.8332 L721.436 23.8332 L721.436 19.9443 M721.436 29.3887 L751.112 29.3887 L751.112 33.3239 L721.436 33.3239 L721.436 29.3887 Z\" fill=\"#000000\" fill-rule=\"evenodd\" fill-opacity=\"1\" /><path clip-path=\"url(#clip680)\" d=\"M 0 0 M781.25 9.99069 Q777.639 9.99069 775.811 13.5555 Q774.005 17.0971 774.005 24.2267 Q774.005 31.3332 775.811 34.898 Q777.639 38.4396 781.25 38.4396 Q784.885 38.4396 786.69 34.898 Q788.519 31.3332 788.519 24.2267 Q788.519 17.0971 786.69 13.5555 Q784.885 9.99069 781.25 9.99069 M781.25 6.287 Q787.061 6.287 790.116 10.8935 Q793.195 15.4768 793.195 24.2267 Q793.195 32.9535 790.116 37.56 Q787.061 42.1433 781.25 42.1433 Q775.44 42.1433 772.362 37.56 Q769.306 32.9535 769.306 24.2267 Q769.306 15.4768 772.362 10.8935 Q775.44 6.287 781.25 6.287 Z\" fill=\"#000000\" fill-rule=\"evenodd\" fill-opacity=\"1\" /><path clip-path=\"url(#clip680)\" d=\"M 0 0 M798.264 35.5924 L803.148 35.5924 L803.148 41.472 L798.264 41.472 L798.264 35.5924 Z\" fill=\"#000000\" fill-rule=\"evenodd\" fill-opacity=\"1\" /><path clip-path=\"url(#clip680)\" d=\"M 0 0 M808.264 6.912 L826.621 6.912 L826.621 10.8472 L812.547 10.8472 L812.547 19.3193 Q813.565 18.9721 814.584 18.8101 Q815.602 18.6249 816.621 18.6249 Q822.408 18.6249 825.787 21.7962 Q829.167 24.9675 829.167 30.3841 Q829.167 35.9628 825.695 39.0646 Q822.222 42.1433 815.903 42.1433 Q813.727 42.1433 811.459 41.7729 Q809.213 41.4026 806.806 40.6618 L806.806 35.9628 Q808.889 37.097 811.111 37.6526 Q813.334 38.2081 815.81 38.2081 Q819.815 38.2081 822.153 36.1017 Q824.491 33.9952 824.491 30.3841 Q824.491 26.773 822.153 24.6665 Q819.815 22.5601 815.81 22.5601 Q813.935 22.5601 812.06 22.9767 Q810.209 23.3934 808.264 24.273 L808.264 6.912 Z\" fill=\"#000000\" fill-rule=\"evenodd\" fill-opacity=\"1\" /><circle clip-path=\"url(#clip682)\" cx=\"1088.61\" cy=\"1045.81\" r=\"14\" fill=\"#009af9\" fill-rule=\"evenodd\" fill-opacity=\"1\" stroke=\"#000000\" stroke-opacity=\"1\" stroke-width=\"3.2\"/>\n",
       "<circle clip-path=\"url(#clip682)\" cx=\"1038.61\" cy=\"990.842\" r=\"14\" fill=\"#009af9\" fill-rule=\"evenodd\" fill-opacity=\"1\" stroke=\"#000000\" stroke-opacity=\"1\" stroke-width=\"3.2\"/>\n",
       "<circle clip-path=\"url(#clip682)\" cx=\"1083.84\" cy=\"104.257\" r=\"14\" fill=\"#009af9\" fill-rule=\"evenodd\" fill-opacity=\"1\" stroke=\"#000000\" stroke-opacity=\"1\" stroke-width=\"3.2\"/>\n",
       "<circle clip-path=\"url(#clip682)\" cx=\"1083.25\" cy=\"735.588\" r=\"14\" fill=\"#009af9\" fill-rule=\"evenodd\" fill-opacity=\"1\" stroke=\"#000000\" stroke-opacity=\"1\" stroke-width=\"3.2\"/>\n",
       "<circle clip-path=\"url(#clip682)\" cx=\"1082.15\" cy=\"1106.54\" r=\"14\" fill=\"#009af9\" fill-rule=\"evenodd\" fill-opacity=\"1\" stroke=\"#000000\" stroke-opacity=\"1\" stroke-width=\"3.2\"/>\n",
       "<circle clip-path=\"url(#clip682)\" cx=\"1114.8\" cy=\"1128.75\" r=\"14\" fill=\"#009af9\" fill-rule=\"evenodd\" fill-opacity=\"1\" stroke=\"#000000\" stroke-opacity=\"1\" stroke-width=\"3.2\"/>\n",
       "<circle clip-path=\"url(#clip682)\" cx=\"1093.34\" cy=\"884.356\" r=\"14\" fill=\"#009af9\" fill-rule=\"evenodd\" fill-opacity=\"1\" stroke=\"#000000\" stroke-opacity=\"1\" stroke-width=\"3.2\"/>\n",
       "<circle clip-path=\"url(#clip682)\" cx=\"1122.59\" cy=\"1068.14\" r=\"14\" fill=\"#009af9\" fill-rule=\"evenodd\" fill-opacity=\"1\" stroke=\"#000000\" stroke-opacity=\"1\" stroke-width=\"3.2\"/>\n",
       "<circle clip-path=\"url(#clip682)\" cx=\"1103.76\" cy=\"770.712\" r=\"14\" fill=\"#009af9\" fill-rule=\"evenodd\" fill-opacity=\"1\" stroke=\"#000000\" stroke-opacity=\"1\" stroke-width=\"3.2\"/>\n",
       "<circle clip-path=\"url(#clip682)\" cx=\"1075.17\" cy=\"1111.87\" r=\"14\" fill=\"#009af9\" fill-rule=\"evenodd\" fill-opacity=\"1\" stroke=\"#000000\" stroke-opacity=\"1\" stroke-width=\"3.2\"/>\n",
       "<circle clip-path=\"url(#clip682)\" cx=\"1088.61\" cy=\"1045.81\" r=\"14\" fill=\"#009af9\" fill-rule=\"evenodd\" fill-opacity=\"1\" stroke=\"#000000\" stroke-opacity=\"1\" stroke-width=\"3.2\"/>\n",
       "<circle clip-path=\"url(#clip682)\" cx=\"1067.16\" cy=\"596.434\" r=\"14\" fill=\"#009af9\" fill-rule=\"evenodd\" fill-opacity=\"1\" stroke=\"#000000\" stroke-opacity=\"1\" stroke-width=\"3.2\"/>\n",
       "<circle clip-path=\"url(#clip682)\" cx=\"1056.38\" cy=\"867.696\" r=\"14\" fill=\"#009af9\" fill-rule=\"evenodd\" fill-opacity=\"1\" stroke=\"#000000\" stroke-opacity=\"1\" stroke-width=\"3.2\"/>\n",
       "<circle clip-path=\"url(#clip682)\" cx=\"1062.49\" cy=\"1069.38\" r=\"14\" fill=\"#009af9\" fill-rule=\"evenodd\" fill-opacity=\"1\" stroke=\"#000000\" stroke-opacity=\"1\" stroke-width=\"3.2\"/>\n",
       "<circle clip-path=\"url(#clip682)\" cx=\"1046.38\" cy=\"825.435\" r=\"14\" fill=\"#009af9\" fill-rule=\"evenodd\" fill-opacity=\"1\" stroke=\"#000000\" stroke-opacity=\"1\" stroke-width=\"3.2\"/>\n",
       "<circle clip-path=\"url(#clip682)\" cx=\"587.397\" cy=\"1042.6\" r=\"14\" fill=\"#e26f46\" fill-rule=\"evenodd\" fill-opacity=\"1\" stroke=\"#000000\" stroke-opacity=\"1\" stroke-width=\"3.2\"/>\n",
       "<circle clip-path=\"url(#clip682)\" cx=\"575.409\" cy=\"1320.07\" r=\"14\" fill=\"#e26f46\" fill-rule=\"evenodd\" fill-opacity=\"1\" stroke=\"#000000\" stroke-opacity=\"1\" stroke-width=\"3.2\"/>\n",
       "<circle clip-path=\"url(#clip682)\" cx=\"512.971\" cy=\"1058.68\" r=\"14\" fill=\"#e26f46\" fill-rule=\"evenodd\" fill-opacity=\"1\" stroke=\"#000000\" stroke-opacity=\"1\" stroke-width=\"3.2\"/>\n",
       "<circle clip-path=\"url(#clip682)\" cx=\"594.961\" cy=\"1455.7\" r=\"14\" fill=\"#e26f46\" fill-rule=\"evenodd\" fill-opacity=\"1\" stroke=\"#000000\" stroke-opacity=\"1\" stroke-width=\"3.2\"/>\n",
       "<circle clip-path=\"url(#clip682)\" cx=\"496.747\" cy=\"913.21\" r=\"14\" fill=\"#e26f46\" fill-rule=\"evenodd\" fill-opacity=\"1\" stroke=\"#000000\" stroke-opacity=\"1\" stroke-width=\"3.2\"/>\n",
       "<circle clip-path=\"url(#clip682)\" cx=\"615.719\" cy=\"1121.91\" r=\"14\" fill=\"#e26f46\" fill-rule=\"evenodd\" fill-opacity=\"1\" stroke=\"#000000\" stroke-opacity=\"1\" stroke-width=\"3.2\"/>\n",
       "<circle clip-path=\"url(#clip682)\" cx=\"630.918\" cy=\"1209.84\" r=\"14\" fill=\"#e26f46\" fill-rule=\"evenodd\" fill-opacity=\"1\" stroke=\"#000000\" stroke-opacity=\"1\" stroke-width=\"3.2\"/>\n",
       "<circle clip-path=\"url(#clip682)\" cx=\"539.973\" cy=\"1086.33\" r=\"14\" fill=\"#e26f46\" fill-rule=\"evenodd\" fill-opacity=\"1\" stroke=\"#000000\" stroke-opacity=\"1\" stroke-width=\"3.2\"/>\n",
       "<circle clip-path=\"url(#clip682)\" cx=\"620.962\" cy=\"1220.83\" r=\"14\" fill=\"#e26f46\" fill-rule=\"evenodd\" fill-opacity=\"1\" stroke=\"#000000\" stroke-opacity=\"1\" stroke-width=\"3.2\"/>\n",
       "<circle clip-path=\"url(#clip682)\" cx=\"678.897\" cy=\"1479.74\" r=\"14\" fill=\"#e26f46\" fill-rule=\"evenodd\" fill-opacity=\"1\" stroke=\"#000000\" stroke-opacity=\"1\" stroke-width=\"3.2\"/>\n",
       "<circle clip-path=\"url(#clip682)\" cx=\"527.745\" cy=\"992.738\" r=\"14\" fill=\"#e26f46\" fill-rule=\"evenodd\" fill-opacity=\"1\" stroke=\"#000000\" stroke-opacity=\"1\" stroke-width=\"3.2\"/>\n",
       "<circle clip-path=\"url(#clip682)\" cx=\"629.242\" cy=\"1162.36\" r=\"14\" fill=\"#e26f46\" fill-rule=\"evenodd\" fill-opacity=\"1\" stroke=\"#000000\" stroke-opacity=\"1\" stroke-width=\"3.2\"/>\n",
       "<circle clip-path=\"url(#clip682)\" cx=\"333.758\" cy=\"1121.67\" r=\"14\" fill=\"#3da44d\" fill-rule=\"evenodd\" fill-opacity=\"1\" stroke=\"#000000\" stroke-opacity=\"1\" stroke-width=\"3.2\"/>\n",
       "<circle clip-path=\"url(#clip682)\" cx=\"469.918\" cy=\"1098.57\" r=\"14\" fill=\"#3da44d\" fill-rule=\"evenodd\" fill-opacity=\"1\" stroke=\"#000000\" stroke-opacity=\"1\" stroke-width=\"3.2\"/>\n",
       "<circle clip-path=\"url(#clip682)\" cx=\"256.437\" cy=\"561.478\" r=\"14\" fill=\"#3da44d\" fill-rule=\"evenodd\" fill-opacity=\"1\" stroke=\"#000000\" stroke-opacity=\"1\" stroke-width=\"3.2\"/>\n",
       "<circle clip-path=\"url(#clip682)\" cx=\"445.298\" cy=\"1386.81\" r=\"14\" fill=\"#3da44d\" fill-rule=\"evenodd\" fill-opacity=\"1\" stroke=\"#000000\" stroke-opacity=\"1\" stroke-width=\"3.2\"/>\n",
       "<circle clip-path=\"url(#clip682)\" cx=\"220.751\" cy=\"696.661\" r=\"14\" fill=\"#3da44d\" fill-rule=\"evenodd\" fill-opacity=\"1\" stroke=\"#000000\" stroke-opacity=\"1\" stroke-width=\"3.2\"/>\n",
       "<circle clip-path=\"url(#clip682)\" cx=\"406.292\" cy=\"791.847\" r=\"14\" fill=\"#3da44d\" fill-rule=\"evenodd\" fill-opacity=\"1\" stroke=\"#000000\" stroke-opacity=\"1\" stroke-width=\"3.2\"/>\n",
       "<circle clip-path=\"url(#clip682)\" cx=\"285.712\" cy=\"693.719\" r=\"14\" fill=\"#3da44d\" fill-rule=\"evenodd\" fill-opacity=\"1\" stroke=\"#000000\" stroke-opacity=\"1\" stroke-width=\"3.2\"/>\n",
       "<circle clip-path=\"url(#clip682)\" cx=\"422.743\" cy=\"773.383\" r=\"14\" fill=\"#3da44d\" fill-rule=\"evenodd\" fill-opacity=\"1\" stroke=\"#000000\" stroke-opacity=\"1\" stroke-width=\"3.2\"/>\n",
       "<circle clip-path=\"url(#clip682)\" cx=\"302.785\" cy=\"1146.94\" r=\"14\" fill=\"#3da44d\" fill-rule=\"evenodd\" fill-opacity=\"1\" stroke=\"#000000\" stroke-opacity=\"1\" stroke-width=\"3.2\"/>\n",
       "<circle clip-path=\"url(#clip682)\" cx=\"206.424\" cy=\"711.492\" r=\"14\" fill=\"#3da44d\" fill-rule=\"evenodd\" fill-opacity=\"1\" stroke=\"#000000\" stroke-opacity=\"1\" stroke-width=\"3.2\"/>\n",
       "<circle clip-path=\"url(#clip682)\" cx=\"117.155\" cy=\"635.464\" r=\"14\" fill=\"#3da44d\" fill-rule=\"evenodd\" fill-opacity=\"1\" stroke=\"#000000\" stroke-opacity=\"1\" stroke-width=\"3.2\"/>\n",
       "<circle clip-path=\"url(#clip682)\" cx=\"183.682\" cy=\"468.7\" r=\"14\" fill=\"#3da44d\" fill-rule=\"evenodd\" fill-opacity=\"1\" stroke=\"#000000\" stroke-opacity=\"1\" stroke-width=\"3.2\"/>\n",
       "<circle clip-path=\"url(#clip682)\" cx=\"437.431\" cy=\"600.933\" r=\"14\" fill=\"#3da44d\" fill-rule=\"evenodd\" fill-opacity=\"1\" stroke=\"#000000\" stroke-opacity=\"1\" stroke-width=\"3.2\"/>\n",
       "<circle clip-path=\"url(#clip682)\" cx=\"384.197\" cy=\"1125.53\" r=\"14\" fill=\"#3da44d\" fill-rule=\"evenodd\" fill-opacity=\"1\" stroke=\"#000000\" stroke-opacity=\"1\" stroke-width=\"3.2\"/>\n",
       "<circle clip-path=\"url(#clip682)\" cx=\"450.859\" cy=\"1274.86\" r=\"14\" fill=\"#3da44d\" fill-rule=\"evenodd\" fill-opacity=\"1\" stroke=\"#000000\" stroke-opacity=\"1\" stroke-width=\"3.2\"/>\n",
       "<circle clip-path=\"url(#clip682)\" cx=\"368.063\" cy=\"933.123\" r=\"14\" fill=\"#3da44d\" fill-rule=\"evenodd\" fill-opacity=\"1\" stroke=\"#000000\" stroke-opacity=\"1\" stroke-width=\"3.2\"/>\n",
       "<circle clip-path=\"url(#clip682)\" cx=\"330.275\" cy=\"866.954\" r=\"14\" fill=\"#3da44d\" fill-rule=\"evenodd\" fill-opacity=\"1\" stroke=\"#000000\" stroke-opacity=\"1\" stroke-width=\"3.2\"/>\n",
       "<circle clip-path=\"url(#clip682)\" cx=\"361.078\" cy=\"938.452\" r=\"14\" fill=\"#3da44d\" fill-rule=\"evenodd\" fill-opacity=\"1\" stroke=\"#000000\" stroke-opacity=\"1\" stroke-width=\"3.2\"/>\n",
       "<path clip-path=\"url(#clip680)\" d=\"\n",
       "M1286.99 1521.01 L2352.76 1521.01 L2352.76 62.9921 L1286.99 62.9921  Z\n",
       "  \" fill=\"#ffffff\" fill-rule=\"evenodd\" fill-opacity=\"1\"/>\n",
       "<defs>\n",
       "  <clipPath id=\"clip683\">\n",
       "    <rect x=\"1286\" y=\"62\" width=\"1067\" height=\"1459\"/>\n",
       "  </clipPath>\n",
       "</defs>\n",
       "<polyline clip-path=\"url(#clip683)\" style=\"stroke:#000000; stroke-width:2; stroke-opacity:0.1; fill:none\" points=\"\n",
       "  1395.72,1521.01 1395.72,62.9921 \n",
       "  \"/>\n",
       "<polyline clip-path=\"url(#clip683)\" style=\"stroke:#000000; stroke-width:2; stroke-opacity:0.1; fill:none\" points=\"\n",
       "  1553.09,1521.01 1553.09,62.9921 \n",
       "  \"/>\n",
       "<polyline clip-path=\"url(#clip683)\" style=\"stroke:#000000; stroke-width:2; stroke-opacity:0.1; fill:none\" points=\"\n",
       "  1710.46,1521.01 1710.46,62.9921 \n",
       "  \"/>\n",
       "<polyline clip-path=\"url(#clip683)\" style=\"stroke:#000000; stroke-width:2; stroke-opacity:0.1; fill:none\" points=\"\n",
       "  1867.83,1521.01 1867.83,62.9921 \n",
       "  \"/>\n",
       "<polyline clip-path=\"url(#clip683)\" style=\"stroke:#000000; stroke-width:2; stroke-opacity:0.1; fill:none\" points=\"\n",
       "  2025.2,1521.01 2025.2,62.9921 \n",
       "  \"/>\n",
       "<polyline clip-path=\"url(#clip683)\" style=\"stroke:#000000; stroke-width:2; stroke-opacity:0.1; fill:none\" points=\"\n",
       "  2182.56,1521.01 2182.56,62.9921 \n",
       "  \"/>\n",
       "<polyline clip-path=\"url(#clip683)\" style=\"stroke:#000000; stroke-width:2; stroke-opacity:0.1; fill:none\" points=\"\n",
       "  2339.93,1521.01 2339.93,62.9921 \n",
       "  \"/>\n",
       "<polyline clip-path=\"url(#clip680)\" style=\"stroke:#000000; stroke-width:4; stroke-opacity:1; fill:none\" points=\"\n",
       "  1286.99,1521.01 2352.76,1521.01 \n",
       "  \"/>\n",
       "<polyline clip-path=\"url(#clip680)\" style=\"stroke:#000000; stroke-width:4; stroke-opacity:1; fill:none\" points=\"\n",
       "  1395.72,1521.01 1395.72,1503.51 \n",
       "  \"/>\n",
       "<polyline clip-path=\"url(#clip680)\" style=\"stroke:#000000; stroke-width:4; stroke-opacity:1; fill:none\" points=\"\n",
       "  1553.09,1521.01 1553.09,1503.51 \n",
       "  \"/>\n",
       "<polyline clip-path=\"url(#clip680)\" style=\"stroke:#000000; stroke-width:4; stroke-opacity:1; fill:none\" points=\"\n",
       "  1710.46,1521.01 1710.46,1503.51 \n",
       "  \"/>\n",
       "<polyline clip-path=\"url(#clip680)\" style=\"stroke:#000000; stroke-width:4; stroke-opacity:1; fill:none\" points=\"\n",
       "  1867.83,1521.01 1867.83,1503.51 \n",
       "  \"/>\n",
       "<polyline clip-path=\"url(#clip680)\" style=\"stroke:#000000; stroke-width:4; stroke-opacity:1; fill:none\" points=\"\n",
       "  2025.2,1521.01 2025.2,1503.51 \n",
       "  \"/>\n",
       "<polyline clip-path=\"url(#clip680)\" style=\"stroke:#000000; stroke-width:4; stroke-opacity:1; fill:none\" points=\"\n",
       "  2182.56,1521.01 2182.56,1503.51 \n",
       "  \"/>\n",
       "<polyline clip-path=\"url(#clip680)\" style=\"stroke:#000000; stroke-width:4; stroke-opacity:1; fill:none\" points=\"\n",
       "  2339.93,1521.01 2339.93,1503.51 \n",
       "  \"/>\n",
       "<path clip-path=\"url(#clip680)\" d=\"M 0 0 M1374.71 1558.69 L1396.96 1558.69 L1396.96 1561.64 L1374.71 1561.64 L1374.71 1558.69 Z\" fill=\"#000000\" fill-rule=\"evenodd\" fill-opacity=\"1\" /><path clip-path=\"url(#clip680)\" d=\"M 0 0 M1411.39 1557.34 Q1413.91 1557.87 1415.32 1559.58 Q1416.74 1561.28 1416.74 1563.78 Q1416.74 1567.61 1414.1 1569.71 Q1411.46 1571.82 1406.6 1571.82 Q1404.97 1571.82 1403.23 1571.49 Q1401.51 1571.17 1399.67 1570.53 L1399.67 1567.15 Q1401.13 1568 1402.87 1568.43 Q1404.6 1568.86 1406.5 1568.86 Q1409.79 1568.86 1411.51 1567.56 Q1413.25 1566.26 1413.25 1563.78 Q1413.25 1561.49 1411.64 1560.2 Q1410.04 1558.9 1407.17 1558.9 L1404.15 1558.9 L1404.15 1556.02 L1407.31 1556.02 Q1409.9 1556.02 1411.27 1554.99 Q1412.64 1553.95 1412.64 1552.01 Q1412.64 1550.01 1411.22 1548.95 Q1409.81 1547.87 1407.17 1547.87 Q1405.73 1547.87 1404.08 1548.19 Q1402.43 1548.5 1400.45 1549.16 L1400.45 1546.03 Q1402.45 1545.48 1404.19 1545.2 Q1405.94 1544.92 1407.49 1544.92 Q1411.48 1544.92 1413.81 1546.75 Q1416.13 1548.55 1416.13 1551.64 Q1416.13 1553.79 1414.9 1555.29 Q1413.67 1556.76 1411.39 1557.34 Z\" fill=\"#000000\" fill-rule=\"evenodd\" fill-opacity=\"1\" /><path clip-path=\"url(#clip680)\" d=\"M 0 0 M1532.43 1558.69 L1554.69 1558.69 L1554.69 1561.64 L1532.43 1561.64 L1532.43 1558.69 Z\" fill=\"#000000\" fill-rule=\"evenodd\" fill-opacity=\"1\" /><path clip-path=\"url(#clip680)\" d=\"M 0 0 M1561.51 1568.36 L1573.75 1568.36 L1573.75 1571.31 L1557.29 1571.31 L1557.29 1568.36 Q1559.29 1566.29 1562.73 1562.82 Q1566.18 1559.33 1567.07 1558.33 Q1568.75 1556.43 1569.41 1555.13 Q1570.09 1553.81 1570.09 1552.54 Q1570.09 1550.48 1568.63 1549.18 Q1567.19 1547.87 1564.86 1547.87 Q1563.21 1547.87 1561.37 1548.45 Q1559.55 1549.02 1557.47 1550.18 L1557.47 1546.64 Q1559.58 1545.79 1561.42 1545.36 Q1563.27 1544.92 1564.79 1544.92 Q1568.82 1544.92 1571.22 1546.94 Q1573.61 1548.95 1573.61 1552.32 Q1573.61 1553.92 1573 1555.36 Q1572.41 1556.78 1570.83 1558.73 Q1570.4 1559.23 1568.07 1561.64 Q1565.75 1564.04 1561.51 1568.36 Z\" fill=\"#000000\" fill-rule=\"evenodd\" fill-opacity=\"1\" /><path clip-path=\"url(#clip680)\" d=\"M 0 0 M1689.66 1558.69 L1711.92 1558.69 L1711.92 1561.64 L1689.66 1561.64 L1689.66 1558.69 Z\" fill=\"#000000\" fill-rule=\"evenodd\" fill-opacity=\"1\" /><path clip-path=\"url(#clip680)\" d=\"M 0 0 M1716.33 1568.36 L1722.06 1568.36 L1722.06 1548.59 L1715.82 1549.84 L1715.82 1546.64 L1722.02 1545.39 L1725.53 1545.39 L1725.53 1568.36 L1731.26 1568.36 L1731.26 1571.31 L1716.33 1571.31 L1716.33 1568.36 Z\" fill=\"#000000\" fill-rule=\"evenodd\" fill-opacity=\"1\" /><path clip-path=\"url(#clip680)\" d=\"M 0 0 M1867.83 1547.7 Q1865.12 1547.7 1863.75 1550.37 Q1862.39 1553.03 1862.39 1558.38 Q1862.39 1563.71 1863.75 1566.38 Q1865.12 1569.04 1867.83 1569.04 Q1870.55 1569.04 1871.91 1566.38 Q1873.28 1563.71 1873.28 1558.38 Q1873.28 1553.03 1871.91 1550.37 Q1870.55 1547.7 1867.83 1547.7 M1867.83 1544.92 Q1872.19 1544.92 1874.48 1548.38 Q1876.79 1551.82 1876.79 1558.38 Q1876.79 1564.92 1874.48 1568.38 Q1872.19 1571.82 1867.83 1571.82 Q1863.47 1571.82 1861.16 1568.38 Q1858.87 1564.92 1858.87 1558.38 Q1858.87 1551.82 1861.16 1548.38 Q1863.47 1544.92 1867.83 1544.92 Z\" fill=\"#000000\" fill-rule=\"evenodd\" fill-opacity=\"1\" /><path clip-path=\"url(#clip680)\" d=\"M 0 0 M2017.98 1568.36 L2023.71 1568.36 L2023.71 1548.59 L2017.48 1549.84 L2017.48 1546.64 L2023.68 1545.39 L2027.18 1545.39 L2027.18 1568.36 L2032.91 1568.36 L2032.91 1571.31 L2017.98 1571.31 L2017.98 1568.36 Z\" fill=\"#000000\" fill-rule=\"evenodd\" fill-opacity=\"1\" /><path clip-path=\"url(#clip680)\" d=\"M 0 0 M2178.55 1568.36 L2190.79 1568.36 L2190.79 1571.31 L2174.33 1571.31 L2174.33 1568.36 Q2176.33 1566.29 2179.77 1562.82 Q2183.22 1559.33 2184.11 1558.33 Q2185.79 1556.43 2186.45 1555.13 Q2187.13 1553.81 2187.13 1552.54 Q2187.13 1550.48 2185.67 1549.18 Q2184.23 1547.87 2181.9 1547.87 Q2180.25 1547.87 2178.41 1548.45 Q2176.59 1549.02 2174.51 1550.18 L2174.51 1546.64 Q2176.63 1545.79 2178.47 1545.36 Q2180.31 1544.92 2181.83 1544.92 Q2185.86 1544.92 2188.26 1546.94 Q2190.65 1548.95 2190.65 1552.32 Q2190.65 1553.92 2190.05 1555.36 Q2189.46 1556.78 2187.88 1558.73 Q2187.44 1559.23 2185.12 1561.64 Q2182.79 1564.04 2178.55 1568.36 Z\" fill=\"#000000\" fill-rule=\"evenodd\" fill-opacity=\"1\" /><path clip-path=\"url(#clip680)\" d=\"M 0 0 M2343.12 1557.34 Q2345.63 1557.87 2347.04 1559.58 Q2348.46 1561.28 2348.46 1563.78 Q2348.46 1567.61 2345.83 1569.71 Q2343.19 1571.82 2338.33 1571.82 Q2336.69 1571.82 2334.96 1571.49 Q2333.24 1571.17 2331.4 1570.53 L2331.4 1567.15 Q2332.86 1568 2334.59 1568.43 Q2336.33 1568.86 2338.22 1568.86 Q2341.52 1568.86 2343.24 1567.56 Q2344.98 1566.26 2344.98 1563.78 Q2344.98 1561.49 2343.36 1560.2 Q2341.76 1558.9 2338.9 1558.9 L2335.88 1558.9 L2335.88 1556.02 L2339.04 1556.02 Q2341.62 1556.02 2343 1554.99 Q2344.37 1553.95 2344.37 1552.01 Q2344.37 1550.01 2342.94 1548.95 Q2341.54 1547.87 2338.9 1547.87 Q2337.46 1547.87 2335.81 1548.19 Q2334.16 1548.5 2332.18 1549.16 L2332.18 1546.03 Q2334.18 1545.48 2335.91 1545.2 Q2337.67 1544.92 2339.21 1544.92 Q2343.2 1544.92 2345.53 1546.75 Q2347.86 1548.55 2347.86 1551.64 Q2347.86 1553.79 2346.62 1555.29 Q2345.39 1556.76 2343.12 1557.34 Z\" fill=\"#000000\" fill-rule=\"evenodd\" fill-opacity=\"1\" /><polyline clip-path=\"url(#clip683)\" style=\"stroke:#000000; stroke-width:2; stroke-opacity:0.1; fill:none\" points=\"\n",
       "  1286.99,1332.24 2352.76,1332.24 \n",
       "  \"/>\n",
       "<polyline clip-path=\"url(#clip683)\" style=\"stroke:#000000; stroke-width:2; stroke-opacity:0.1; fill:none\" points=\"\n",
       "  1286.99,968.114 2352.76,968.114 \n",
       "  \"/>\n",
       "<polyline clip-path=\"url(#clip683)\" style=\"stroke:#000000; stroke-width:2; stroke-opacity:0.1; fill:none\" points=\"\n",
       "  1286.99,603.984 2352.76,603.984 \n",
       "  \"/>\n",
       "<polyline clip-path=\"url(#clip683)\" style=\"stroke:#000000; stroke-width:2; stroke-opacity:0.1; fill:none\" points=\"\n",
       "  1286.99,239.855 2352.76,239.855 \n",
       "  \"/>\n",
       "<polyline clip-path=\"url(#clip680)\" style=\"stroke:#000000; stroke-width:4; stroke-opacity:1; fill:none\" points=\"\n",
       "  1286.99,1521.01 1286.99,62.9921 \n",
       "  \"/>\n",
       "<polyline clip-path=\"url(#clip680)\" style=\"stroke:#000000; stroke-width:4; stroke-opacity:1; fill:none\" points=\"\n",
       "  1286.99,1332.24 1299.78,1332.24 \n",
       "  \"/>\n",
       "<polyline clip-path=\"url(#clip680)\" style=\"stroke:#000000; stroke-width:4; stroke-opacity:1; fill:none\" points=\"\n",
       "  1286.99,968.114 1299.78,968.114 \n",
       "  \"/>\n",
       "<polyline clip-path=\"url(#clip680)\" style=\"stroke:#000000; stroke-width:4; stroke-opacity:1; fill:none\" points=\"\n",
       "  1286.99,603.984 1299.78,603.984 \n",
       "  \"/>\n",
       "<polyline clip-path=\"url(#clip680)\" style=\"stroke:#000000; stroke-width:4; stroke-opacity:1; fill:none\" points=\"\n",
       "  1286.99,239.855 1299.78,239.855 \n",
       "  \"/>\n",
       "<path clip-path=\"url(#clip680)\" d=\"M 0 0 M1158.33 1332.69 L1188.01 1332.69 L1188.01 1336.63 L1158.33 1336.63 L1158.33 1332.69 Z\" fill=\"#000000\" fill-rule=\"evenodd\" fill-opacity=\"1\" /><path clip-path=\"url(#clip680)\" d=\"M 0 0 M1203.08 1318.04 Q1199.46 1318.04 1197.64 1321.61 Q1195.83 1325.15 1195.83 1332.28 Q1195.83 1339.38 1197.64 1342.95 Q1199.46 1346.49 1203.08 1346.49 Q1206.71 1346.49 1208.52 1342.95 Q1210.34 1339.38 1210.34 1332.28 Q1210.34 1325.15 1208.52 1321.61 Q1206.71 1318.04 1203.08 1318.04 M1203.08 1314.34 Q1208.89 1314.34 1211.94 1318.94 Q1215.02 1323.53 1215.02 1332.28 Q1215.02 1341 1211.94 1345.61 Q1208.89 1350.19 1203.08 1350.19 Q1197.27 1350.19 1194.19 1345.61 Q1191.13 1341 1191.13 1332.28 Q1191.13 1323.53 1194.19 1318.94 Q1197.27 1314.34 1203.08 1314.34 Z\" fill=\"#000000\" fill-rule=\"evenodd\" fill-opacity=\"1\" /><path clip-path=\"url(#clip680)\" d=\"M 0 0 M1220.09 1343.64 L1224.97 1343.64 L1224.97 1349.52 L1220.09 1349.52 L1220.09 1343.64 Z\" fill=\"#000000\" fill-rule=\"evenodd\" fill-opacity=\"1\" /><path clip-path=\"url(#clip680)\" d=\"M 0 0 M1230.09 1314.96 L1248.45 1314.96 L1248.45 1318.9 L1234.37 1318.9 L1234.37 1327.37 Q1235.39 1327.02 1236.41 1326.86 Q1237.43 1326.68 1238.45 1326.68 Q1244.23 1326.68 1247.61 1329.85 Q1250.99 1333.02 1250.99 1338.44 Q1250.99 1344.01 1247.52 1347.12 Q1244.05 1350.19 1237.73 1350.19 Q1235.55 1350.19 1233.28 1349.82 Q1231.04 1349.45 1228.63 1348.71 L1228.63 1344.01 Q1230.71 1345.15 1232.94 1345.7 Q1235.16 1346.26 1237.64 1346.26 Q1241.64 1346.26 1243.98 1344.15 Q1246.32 1342.05 1246.32 1338.44 Q1246.32 1334.82 1243.98 1332.72 Q1241.64 1330.61 1237.64 1330.61 Q1235.76 1330.61 1233.89 1331.03 Q1232.03 1331.44 1230.09 1332.32 L1230.09 1314.96 Z\" fill=\"#000000\" fill-rule=\"evenodd\" fill-opacity=\"1\" /><path clip-path=\"url(#clip680)\" d=\"M 0 0 M1202.08 953.912 Q1198.47 953.912 1196.64 957.477 Q1194.84 961.019 1194.84 968.148 Q1194.84 975.255 1196.64 978.82 Q1198.47 982.361 1202.08 982.361 Q1205.71 982.361 1207.52 978.82 Q1209.35 975.255 1209.35 968.148 Q1209.35 961.019 1207.52 957.477 Q1205.71 953.912 1202.08 953.912 M1202.08 950.209 Q1207.89 950.209 1210.95 954.815 Q1214.02 959.399 1214.02 968.148 Q1214.02 976.875 1210.95 981.482 Q1207.89 986.065 1202.08 986.065 Q1196.27 986.065 1193.19 981.482 Q1190.14 976.875 1190.14 968.148 Q1190.14 959.399 1193.19 954.815 Q1196.27 950.209 1202.08 950.209 Z\" fill=\"#000000\" fill-rule=\"evenodd\" fill-opacity=\"1\" /><path clip-path=\"url(#clip680)\" d=\"M 0 0 M1219.09 979.514 L1223.98 979.514 L1223.98 985.394 L1219.09 985.394 L1219.09 979.514 Z\" fill=\"#000000\" fill-rule=\"evenodd\" fill-opacity=\"1\" /><path clip-path=\"url(#clip680)\" d=\"M 0 0 M1239.05 953.912 Q1235.44 953.912 1233.61 957.477 Q1231.8 961.019 1231.8 968.148 Q1231.8 975.255 1233.61 978.82 Q1235.44 982.361 1239.05 982.361 Q1242.68 982.361 1244.49 978.82 Q1246.32 975.255 1246.32 968.148 Q1246.32 961.019 1244.49 957.477 Q1242.68 953.912 1239.05 953.912 M1239.05 950.209 Q1244.86 950.209 1247.91 954.815 Q1250.99 959.399 1250.99 968.148 Q1250.99 976.875 1247.91 981.482 Q1244.86 986.065 1239.05 986.065 Q1233.24 986.065 1230.16 981.482 Q1227.1 976.875 1227.1 968.148 Q1227.1 959.399 1230.16 954.815 Q1233.24 950.209 1239.05 950.209 Z\" fill=\"#000000\" fill-rule=\"evenodd\" fill-opacity=\"1\" /><path clip-path=\"url(#clip680)\" d=\"M 0 0 M1203.08 589.783 Q1199.46 589.783 1197.64 593.348 Q1195.83 596.889 1195.83 604.019 Q1195.83 611.125 1197.64 614.69 Q1199.46 618.232 1203.08 618.232 Q1206.71 618.232 1208.52 614.69 Q1210.34 611.125 1210.34 604.019 Q1210.34 596.889 1208.52 593.348 Q1206.71 589.783 1203.08 589.783 M1203.08 586.079 Q1208.89 586.079 1211.94 590.686 Q1215.02 595.269 1215.02 604.019 Q1215.02 612.746 1211.94 617.352 Q1208.89 621.936 1203.08 621.936 Q1197.27 621.936 1194.19 617.352 Q1191.13 612.746 1191.13 604.019 Q1191.13 595.269 1194.19 590.686 Q1197.27 586.079 1203.08 586.079 Z\" fill=\"#000000\" fill-rule=\"evenodd\" fill-opacity=\"1\" /><path clip-path=\"url(#clip680)\" d=\"M 0 0 M1220.09 615.385 L1224.97 615.385 L1224.97 621.264 L1220.09 621.264 L1220.09 615.385 Z\" fill=\"#000000\" fill-rule=\"evenodd\" fill-opacity=\"1\" /><path clip-path=\"url(#clip680)\" d=\"M 0 0 M1230.09 586.704 L1248.45 586.704 L1248.45 590.639 L1234.37 590.639 L1234.37 599.112 Q1235.39 598.764 1236.41 598.602 Q1237.43 598.417 1238.45 598.417 Q1244.23 598.417 1247.61 601.588 Q1250.99 604.76 1250.99 610.176 Q1250.99 615.755 1247.52 618.857 Q1244.05 621.936 1237.73 621.936 Q1235.55 621.936 1233.28 621.565 Q1231.04 621.195 1228.63 620.454 L1228.63 615.755 Q1230.71 616.889 1232.94 617.445 Q1235.16 618 1237.64 618 Q1241.64 618 1243.98 615.894 Q1246.32 613.787 1246.32 610.176 Q1246.32 606.565 1243.98 604.459 Q1241.64 602.352 1237.64 602.352 Q1235.76 602.352 1233.89 602.769 Q1232.03 603.186 1230.09 604.065 L1230.09 586.704 Z\" fill=\"#000000\" fill-rule=\"evenodd\" fill-opacity=\"1\" /><path clip-path=\"url(#clip680)\" d=\"M 0 0 M1194.12 253.2 L1201.76 253.2 L1201.76 226.834 L1193.45 228.501 L1193.45 224.241 L1201.71 222.575 L1206.39 222.575 L1206.39 253.2 L1214.02 253.2 L1214.02 257.135 L1194.12 257.135 L1194.12 253.2 Z\" fill=\"#000000\" fill-rule=\"evenodd\" fill-opacity=\"1\" /><path clip-path=\"url(#clip680)\" d=\"M 0 0 M1219.09 251.255 L1223.98 251.255 L1223.98 257.135 L1219.09 257.135 L1219.09 251.255 Z\" fill=\"#000000\" fill-rule=\"evenodd\" fill-opacity=\"1\" /><path clip-path=\"url(#clip680)\" d=\"M 0 0 M1239.05 225.654 Q1235.44 225.654 1233.61 229.218 Q1231.8 232.76 1231.8 239.89 Q1231.8 246.996 1233.61 250.561 Q1235.44 254.102 1239.05 254.102 Q1242.68 254.102 1244.49 250.561 Q1246.32 246.996 1246.32 239.89 Q1246.32 232.76 1244.49 229.218 Q1242.68 225.654 1239.05 225.654 M1239.05 221.95 Q1244.86 221.95 1247.91 226.556 Q1250.99 231.14 1250.99 239.89 Q1250.99 248.616 1247.91 253.223 Q1244.86 257.806 1239.05 257.806 Q1233.24 257.806 1230.16 253.223 Q1227.1 248.616 1227.1 239.89 Q1227.1 231.14 1230.16 226.556 Q1233.24 221.95 1239.05 221.95 Z\" fill=\"#000000\" fill-rule=\"evenodd\" fill-opacity=\"1\" /><path clip-path=\"url(#clip680)\" d=\"M 0 0 M1610.53 6.912 L1630.4 6.912 L1630.4 10.8472 L1615.21 10.8472 L1615.21 21.0323 L1628.91 21.0323 L1628.91 24.9675 L1615.21 24.9675 L1615.21 41.472 L1610.53 41.472 L1610.53 6.912 Z\" fill=\"#000000\" fill-rule=\"evenodd\" fill-opacity=\"1\" /><path clip-path=\"url(#clip680)\" d=\"M 0 0 M1631.83 31.2406 L1631.83 15.5462 L1636.09 15.5462 L1636.09 31.0785 Q1636.09 34.7591 1637.53 36.6109 Q1638.96 38.4396 1641.83 38.4396 Q1645.28 38.4396 1647.27 36.2405 Q1649.28 34.0415 1649.28 30.2452 L1649.28 15.5462 L1653.54 15.5462 L1653.54 41.472 L1649.28 41.472 L1649.28 37.4905 Q1647.73 39.8516 1645.67 41.009 Q1643.64 42.1433 1640.93 42.1433 Q1636.46 42.1433 1634.15 39.3655 Q1631.83 36.5878 1631.83 31.2406 M1642.55 14.9212 L1642.55 14.9212 Z\" fill=\"#000000\" fill-rule=\"evenodd\" fill-opacity=\"1\" /><path clip-path=\"url(#clip680)\" d=\"M 0 0 M1656.16 15.5462 L1676.39 15.5462 L1676.39 19.4351 L1660.37 38.0692 L1676.39 38.0692 L1676.39 41.472 L1655.58 41.472 L1655.58 37.5831 L1671.6 18.949 L1656.16 18.949 L1656.16 15.5462 Z\" fill=\"#000000\" fill-rule=\"evenodd\" fill-opacity=\"1\" /><path clip-path=\"url(#clip680)\" d=\"M 0 0 M1679.01 15.5462 L1699.24 15.5462 L1699.24 19.4351 L1683.22 38.0692 L1699.24 38.0692 L1699.24 41.472 L1678.43 41.472 L1678.43 37.5831 L1694.45 18.949 L1679.01 18.949 L1679.01 15.5462 Z\" fill=\"#000000\" fill-rule=\"evenodd\" fill-opacity=\"1\" /><path clip-path=\"url(#clip680)\" d=\"M 0 0 M1714.49 43.8794 Q1712.69 48.509 1710.97 49.921 Q1709.26 51.3331 1706.39 51.3331 L1702.99 51.3331 L1702.99 47.7683 L1705.49 47.7683 Q1707.25 47.7683 1708.22 46.9349 Q1709.19 46.1016 1710.37 42.9998 L1711.14 41.0553 L1700.65 15.5462 L1705.16 15.5462 L1713.27 35.8239 L1721.37 15.5462 L1725.88 15.5462 L1714.49 43.8794 Z\" fill=\"#000000\" fill-rule=\"evenodd\" fill-opacity=\"1\" /><path clip-path=\"url(#clip680)\" d=\"M 0 0 M1742.09 11.5185 L1735.74 28.7174 L1748.45 28.7174 L1742.09 11.5185 M1739.45 6.912 L1744.75 6.912 L1757.92 41.472 L1753.06 41.472 L1749.91 32.6063 L1734.33 32.6063 L1731.18 41.472 L1726.25 41.472 L1739.45 6.912 Z\" fill=\"#000000\" fill-rule=\"evenodd\" fill-opacity=\"1\" /><path clip-path=\"url(#clip680)\" d=\"M 0 0 M1778.96 25.2684 Q1780.46 25.7776 1781.88 27.4443 Q1783.31 29.111 1784.75 32.0276 L1789.49 41.472 L1784.47 41.472 L1780.05 32.6063 Q1778.33 29.1341 1776.71 27.9998 Q1775.12 26.8656 1772.34 26.8656 L1767.25 26.8656 L1767.25 41.472 L1762.57 41.472 L1762.57 6.912 L1773.13 6.912 Q1779.05 6.912 1781.97 9.38884 Q1784.89 11.8657 1784.89 16.8657 Q1784.89 20.1295 1783.36 22.2823 Q1781.85 24.4351 1778.96 25.2684 M1767.25 10.7546 L1767.25 23.023 L1773.13 23.023 Q1776.51 23.023 1778.22 21.4721 Q1779.96 19.898 1779.96 16.8657 Q1779.96 13.8333 1778.22 12.3055 Q1776.51 10.7546 1773.13 10.7546 L1767.25 10.7546 Z\" fill=\"#000000\" fill-rule=\"evenodd\" fill-opacity=\"1\" /><path clip-path=\"url(#clip680)\" d=\"M 0 0 M1785.9 6.912 L1815.14 6.912 L1815.14 10.8472 L1802.87 10.8472 L1802.87 41.472 L1798.17 41.472 L1798.17 10.8472 L1785.9 10.8472 L1785.9 6.912 Z\" fill=\"#000000\" fill-rule=\"evenodd\" fill-opacity=\"1\" /><path clip-path=\"url(#clip680)\" d=\"M 0 0 M1849.7 19.5277 Q1848.98 19.111 1848.13 18.9258 Q1847.29 18.7175 1846.27 18.7175 Q1842.66 18.7175 1840.72 21.0786 Q1838.8 23.4165 1838.8 27.8147 L1838.8 41.472 L1834.52 41.472 L1834.52 15.5462 L1838.8 15.5462 L1838.8 19.574 Q1840.14 17.2129 1842.29 16.0786 Q1844.45 14.9212 1847.52 14.9212 Q1847.96 14.9212 1848.5 14.9907 Q1849.03 15.037 1849.68 15.1527 L1849.7 19.5277 Z\" fill=\"#000000\" fill-rule=\"evenodd\" fill-opacity=\"1\" /><path clip-path=\"url(#clip680)\" d=\"M 0 0 M1874.89 25.8239 L1874.89 41.472 L1870.63 41.472 L1870.63 25.9628 Q1870.63 22.2823 1869.19 20.4536 Q1867.76 18.6249 1864.89 18.6249 Q1861.44 18.6249 1859.45 20.824 Q1857.45 23.023 1857.45 26.8193 L1857.45 41.472 L1853.17 41.472 L1853.17 5.45367 L1857.45 5.45367 L1857.45 19.574 Q1858.98 17.236 1861.04 16.0786 Q1863.13 14.9212 1865.83 14.9212 Q1870.3 14.9212 1872.59 17.699 Q1874.89 20.4536 1874.89 25.8239 Z\" fill=\"#000000\" fill-rule=\"evenodd\" fill-opacity=\"1\" /><path clip-path=\"url(#clip680)\" d=\"M 0 0 M1889.4 18.5323 Q1885.97 18.5323 1883.98 21.2175 Q1881.99 23.8795 1881.99 28.5323 Q1881.99 33.185 1883.96 35.8702 Q1885.95 38.5322 1889.4 38.5322 Q1892.8 38.5322 1894.79 35.847 Q1896.78 33.1619 1896.78 28.5323 Q1896.78 23.9258 1894.79 21.2406 Q1892.8 18.5323 1889.4 18.5323 M1889.4 14.9212 Q1894.95 14.9212 1898.13 18.5323 Q1901.3 22.1434 1901.3 28.5323 Q1901.3 34.898 1898.13 38.5322 Q1894.95 42.1433 1889.4 42.1433 Q1883.82 42.1433 1880.65 38.5322 Q1877.5 34.898 1877.5 28.5323 Q1877.5 22.1434 1880.65 18.5323 Q1883.82 14.9212 1889.4 14.9212 Z\" fill=\"#000000\" fill-rule=\"evenodd\" fill-opacity=\"1\" /><path clip-path=\"url(#clip680)\" d=\"M 0 0 M1921.39 19.9443 L1951.07 19.9443 L1951.07 23.8332 L1921.39 23.8332 L1921.39 19.9443 M1921.39 29.3887 L1951.07 29.3887 L1951.07 33.3239 L1921.39 33.3239 L1921.39 29.3887 Z\" fill=\"#000000\" fill-rule=\"evenodd\" fill-opacity=\"1\" /><path clip-path=\"url(#clip680)\" d=\"M 0 0 M1981.2 9.99069 Q1977.59 9.99069 1975.76 13.5555 Q1973.96 17.0971 1973.96 24.2267 Q1973.96 31.3332 1975.76 34.898 Q1977.59 38.4396 1981.2 38.4396 Q1984.84 38.4396 1986.64 34.898 Q1988.47 31.3332 1988.47 24.2267 Q1988.47 17.0971 1986.64 13.5555 Q1984.84 9.99069 1981.2 9.99069 M1981.2 6.287 Q1987.01 6.287 1990.07 10.8935 Q1993.15 15.4768 1993.15 24.2267 Q1993.15 32.9535 1990.07 37.56 Q1987.01 42.1433 1981.2 42.1433 Q1975.39 42.1433 1972.32 37.56 Q1969.26 32.9535 1969.26 24.2267 Q1969.26 15.4768 1972.32 10.8935 Q1975.39 6.287 1981.2 6.287 Z\" fill=\"#000000\" fill-rule=\"evenodd\" fill-opacity=\"1\" /><path clip-path=\"url(#clip680)\" d=\"M 0 0 M1998.22 35.5924 L2003.1 35.5924 L2003.1 41.472 L1998.22 41.472 L1998.22 35.5924 Z\" fill=\"#000000\" fill-rule=\"evenodd\" fill-opacity=\"1\" /><path clip-path=\"url(#clip680)\" d=\"M 0 0 M2006.99 6.912 L2029.21 6.912 L2029.21 8.90273 L2016.67 41.472 L2011.78 41.472 L2023.59 10.8472 L2006.99 10.8472 L2006.99 6.912 Z\" fill=\"#000000\" fill-rule=\"evenodd\" fill-opacity=\"1\" /><circle clip-path=\"url(#clip683)\" cx=\"2288.61\" cy=\"1045.81\" r=\"14\" fill=\"#009af9\" fill-rule=\"evenodd\" fill-opacity=\"1\" stroke=\"#000000\" stroke-opacity=\"1\" stroke-width=\"3.2\"/>\n",
       "<circle clip-path=\"url(#clip683)\" cx=\"2238.61\" cy=\"990.842\" r=\"14\" fill=\"#009af9\" fill-rule=\"evenodd\" fill-opacity=\"1\" stroke=\"#000000\" stroke-opacity=\"1\" stroke-width=\"3.2\"/>\n",
       "<circle clip-path=\"url(#clip683)\" cx=\"2283.84\" cy=\"104.257\" r=\"14\" fill=\"#009af9\" fill-rule=\"evenodd\" fill-opacity=\"1\" stroke=\"#000000\" stroke-opacity=\"1\" stroke-width=\"3.2\"/>\n",
       "<circle clip-path=\"url(#clip683)\" cx=\"2283.25\" cy=\"735.588\" r=\"14\" fill=\"#009af9\" fill-rule=\"evenodd\" fill-opacity=\"1\" stroke=\"#000000\" stroke-opacity=\"1\" stroke-width=\"3.2\"/>\n",
       "<circle clip-path=\"url(#clip683)\" cx=\"2282.15\" cy=\"1106.54\" r=\"14\" fill=\"#009af9\" fill-rule=\"evenodd\" fill-opacity=\"1\" stroke=\"#000000\" stroke-opacity=\"1\" stroke-width=\"3.2\"/>\n",
       "<circle clip-path=\"url(#clip683)\" cx=\"2314.8\" cy=\"1128.75\" r=\"14\" fill=\"#009af9\" fill-rule=\"evenodd\" fill-opacity=\"1\" stroke=\"#000000\" stroke-opacity=\"1\" stroke-width=\"3.2\"/>\n",
       "<circle clip-path=\"url(#clip683)\" cx=\"2293.34\" cy=\"884.356\" r=\"14\" fill=\"#009af9\" fill-rule=\"evenodd\" fill-opacity=\"1\" stroke=\"#000000\" stroke-opacity=\"1\" stroke-width=\"3.2\"/>\n",
       "<circle clip-path=\"url(#clip683)\" cx=\"2322.59\" cy=\"1068.14\" r=\"14\" fill=\"#009af9\" fill-rule=\"evenodd\" fill-opacity=\"1\" stroke=\"#000000\" stroke-opacity=\"1\" stroke-width=\"3.2\"/>\n",
       "<circle clip-path=\"url(#clip683)\" cx=\"2303.76\" cy=\"770.712\" r=\"14\" fill=\"#009af9\" fill-rule=\"evenodd\" fill-opacity=\"1\" stroke=\"#000000\" stroke-opacity=\"1\" stroke-width=\"3.2\"/>\n",
       "<circle clip-path=\"url(#clip683)\" cx=\"2275.17\" cy=\"1111.87\" r=\"14\" fill=\"#009af9\" fill-rule=\"evenodd\" fill-opacity=\"1\" stroke=\"#000000\" stroke-opacity=\"1\" stroke-width=\"3.2\"/>\n",
       "<circle clip-path=\"url(#clip683)\" cx=\"2288.61\" cy=\"1045.81\" r=\"14\" fill=\"#009af9\" fill-rule=\"evenodd\" fill-opacity=\"1\" stroke=\"#000000\" stroke-opacity=\"1\" stroke-width=\"3.2\"/>\n",
       "<circle clip-path=\"url(#clip683)\" cx=\"2267.16\" cy=\"596.434\" r=\"14\" fill=\"#009af9\" fill-rule=\"evenodd\" fill-opacity=\"1\" stroke=\"#000000\" stroke-opacity=\"1\" stroke-width=\"3.2\"/>\n",
       "<circle clip-path=\"url(#clip683)\" cx=\"2256.38\" cy=\"867.696\" r=\"14\" fill=\"#009af9\" fill-rule=\"evenodd\" fill-opacity=\"1\" stroke=\"#000000\" stroke-opacity=\"1\" stroke-width=\"3.2\"/>\n",
       "<circle clip-path=\"url(#clip683)\" cx=\"2262.49\" cy=\"1069.38\" r=\"14\" fill=\"#009af9\" fill-rule=\"evenodd\" fill-opacity=\"1\" stroke=\"#000000\" stroke-opacity=\"1\" stroke-width=\"3.2\"/>\n",
       "<circle clip-path=\"url(#clip683)\" cx=\"2246.38\" cy=\"825.435\" r=\"14\" fill=\"#009af9\" fill-rule=\"evenodd\" fill-opacity=\"1\" stroke=\"#000000\" stroke-opacity=\"1\" stroke-width=\"3.2\"/>\n",
       "<circle clip-path=\"url(#clip683)\" cx=\"1787.4\" cy=\"1042.6\" r=\"14\" fill=\"#e26f46\" fill-rule=\"evenodd\" fill-opacity=\"1\" stroke=\"#000000\" stroke-opacity=\"1\" stroke-width=\"3.2\"/>\n",
       "<circle clip-path=\"url(#clip683)\" cx=\"1775.41\" cy=\"1320.07\" r=\"14\" fill=\"#e26f46\" fill-rule=\"evenodd\" fill-opacity=\"1\" stroke=\"#000000\" stroke-opacity=\"1\" stroke-width=\"3.2\"/>\n",
       "<circle clip-path=\"url(#clip683)\" cx=\"1712.97\" cy=\"1058.68\" r=\"14\" fill=\"#e26f46\" fill-rule=\"evenodd\" fill-opacity=\"1\" stroke=\"#000000\" stroke-opacity=\"1\" stroke-width=\"3.2\"/>\n",
       "<circle clip-path=\"url(#clip683)\" cx=\"1794.96\" cy=\"1455.7\" r=\"14\" fill=\"#e26f46\" fill-rule=\"evenodd\" fill-opacity=\"1\" stroke=\"#000000\" stroke-opacity=\"1\" stroke-width=\"3.2\"/>\n",
       "<circle clip-path=\"url(#clip683)\" cx=\"1696.75\" cy=\"913.21\" r=\"14\" fill=\"#e26f46\" fill-rule=\"evenodd\" fill-opacity=\"1\" stroke=\"#000000\" stroke-opacity=\"1\" stroke-width=\"3.2\"/>\n",
       "<circle clip-path=\"url(#clip683)\" cx=\"1815.72\" cy=\"1121.91\" r=\"14\" fill=\"#e26f46\" fill-rule=\"evenodd\" fill-opacity=\"1\" stroke=\"#000000\" stroke-opacity=\"1\" stroke-width=\"3.2\"/>\n",
       "<circle clip-path=\"url(#clip683)\" cx=\"1830.92\" cy=\"1209.84\" r=\"14\" fill=\"#e26f46\" fill-rule=\"evenodd\" fill-opacity=\"1\" stroke=\"#000000\" stroke-opacity=\"1\" stroke-width=\"3.2\"/>\n",
       "<circle clip-path=\"url(#clip683)\" cx=\"1739.97\" cy=\"1086.33\" r=\"14\" fill=\"#e26f46\" fill-rule=\"evenodd\" fill-opacity=\"1\" stroke=\"#000000\" stroke-opacity=\"1\" stroke-width=\"3.2\"/>\n",
       "<circle clip-path=\"url(#clip683)\" cx=\"1637.43\" cy=\"600.933\" r=\"14\" fill=\"#e26f46\" fill-rule=\"evenodd\" fill-opacity=\"1\" stroke=\"#000000\" stroke-opacity=\"1\" stroke-width=\"3.2\"/>\n",
       "<circle clip-path=\"url(#clip683)\" cx=\"1820.96\" cy=\"1220.83\" r=\"14\" fill=\"#e26f46\" fill-rule=\"evenodd\" fill-opacity=\"1\" stroke=\"#000000\" stroke-opacity=\"1\" stroke-width=\"3.2\"/>\n",
       "<circle clip-path=\"url(#clip683)\" cx=\"1878.9\" cy=\"1479.74\" r=\"14\" fill=\"#e26f46\" fill-rule=\"evenodd\" fill-opacity=\"1\" stroke=\"#000000\" stroke-opacity=\"1\" stroke-width=\"3.2\"/>\n",
       "<circle clip-path=\"url(#clip683)\" cx=\"1727.74\" cy=\"992.738\" r=\"14\" fill=\"#e26f46\" fill-rule=\"evenodd\" fill-opacity=\"1\" stroke=\"#000000\" stroke-opacity=\"1\" stroke-width=\"3.2\"/>\n",
       "<circle clip-path=\"url(#clip683)\" cx=\"1829.24\" cy=\"1162.36\" r=\"14\" fill=\"#e26f46\" fill-rule=\"evenodd\" fill-opacity=\"1\" stroke=\"#000000\" stroke-opacity=\"1\" stroke-width=\"3.2\"/>\n",
       "<circle clip-path=\"url(#clip683)\" cx=\"1533.76\" cy=\"1121.67\" r=\"14\" fill=\"#3da44d\" fill-rule=\"evenodd\" fill-opacity=\"1\" stroke=\"#000000\" stroke-opacity=\"1\" stroke-width=\"3.2\"/>\n",
       "<circle clip-path=\"url(#clip683)\" cx=\"1669.92\" cy=\"1098.57\" r=\"14\" fill=\"#3da44d\" fill-rule=\"evenodd\" fill-opacity=\"1\" stroke=\"#000000\" stroke-opacity=\"1\" stroke-width=\"3.2\"/>\n",
       "<circle clip-path=\"url(#clip683)\" cx=\"1456.44\" cy=\"561.478\" r=\"14\" fill=\"#3da44d\" fill-rule=\"evenodd\" fill-opacity=\"1\" stroke=\"#000000\" stroke-opacity=\"1\" stroke-width=\"3.2\"/>\n",
       "<circle clip-path=\"url(#clip683)\" cx=\"1645.3\" cy=\"1386.81\" r=\"14\" fill=\"#3da44d\" fill-rule=\"evenodd\" fill-opacity=\"1\" stroke=\"#000000\" stroke-opacity=\"1\" stroke-width=\"3.2\"/>\n",
       "<circle clip-path=\"url(#clip683)\" cx=\"1420.75\" cy=\"696.661\" r=\"14\" fill=\"#3da44d\" fill-rule=\"evenodd\" fill-opacity=\"1\" stroke=\"#000000\" stroke-opacity=\"1\" stroke-width=\"3.2\"/>\n",
       "<circle clip-path=\"url(#clip683)\" cx=\"1606.29\" cy=\"791.847\" r=\"14\" fill=\"#3da44d\" fill-rule=\"evenodd\" fill-opacity=\"1\" stroke=\"#000000\" stroke-opacity=\"1\" stroke-width=\"3.2\"/>\n",
       "<circle clip-path=\"url(#clip683)\" cx=\"1485.71\" cy=\"693.719\" r=\"14\" fill=\"#3da44d\" fill-rule=\"evenodd\" fill-opacity=\"1\" stroke=\"#000000\" stroke-opacity=\"1\" stroke-width=\"3.2\"/>\n",
       "<circle clip-path=\"url(#clip683)\" cx=\"1622.74\" cy=\"773.383\" r=\"14\" fill=\"#3da44d\" fill-rule=\"evenodd\" fill-opacity=\"1\" stroke=\"#000000\" stroke-opacity=\"1\" stroke-width=\"3.2\"/>\n",
       "<circle clip-path=\"url(#clip683)\" cx=\"1502.79\" cy=\"1146.94\" r=\"14\" fill=\"#3da44d\" fill-rule=\"evenodd\" fill-opacity=\"1\" stroke=\"#000000\" stroke-opacity=\"1\" stroke-width=\"3.2\"/>\n",
       "<circle clip-path=\"url(#clip683)\" cx=\"1406.42\" cy=\"711.492\" r=\"14\" fill=\"#3da44d\" fill-rule=\"evenodd\" fill-opacity=\"1\" stroke=\"#000000\" stroke-opacity=\"1\" stroke-width=\"3.2\"/>\n",
       "<circle clip-path=\"url(#clip683)\" cx=\"1317.16\" cy=\"635.464\" r=\"14\" fill=\"#3da44d\" fill-rule=\"evenodd\" fill-opacity=\"1\" stroke=\"#000000\" stroke-opacity=\"1\" stroke-width=\"3.2\"/>\n",
       "<circle clip-path=\"url(#clip683)\" cx=\"1383.68\" cy=\"468.7\" r=\"14\" fill=\"#3da44d\" fill-rule=\"evenodd\" fill-opacity=\"1\" stroke=\"#000000\" stroke-opacity=\"1\" stroke-width=\"3.2\"/>\n",
       "<circle clip-path=\"url(#clip683)\" cx=\"1584.2\" cy=\"1125.53\" r=\"14\" fill=\"#3da44d\" fill-rule=\"evenodd\" fill-opacity=\"1\" stroke=\"#000000\" stroke-opacity=\"1\" stroke-width=\"3.2\"/>\n",
       "<circle clip-path=\"url(#clip683)\" cx=\"1650.86\" cy=\"1274.86\" r=\"14\" fill=\"#3da44d\" fill-rule=\"evenodd\" fill-opacity=\"1\" stroke=\"#000000\" stroke-opacity=\"1\" stroke-width=\"3.2\"/>\n",
       "<circle clip-path=\"url(#clip683)\" cx=\"1568.06\" cy=\"933.123\" r=\"14\" fill=\"#3da44d\" fill-rule=\"evenodd\" fill-opacity=\"1\" stroke=\"#000000\" stroke-opacity=\"1\" stroke-width=\"3.2\"/>\n",
       "<circle clip-path=\"url(#clip683)\" cx=\"1530.28\" cy=\"866.954\" r=\"14\" fill=\"#3da44d\" fill-rule=\"evenodd\" fill-opacity=\"1\" stroke=\"#000000\" stroke-opacity=\"1\" stroke-width=\"3.2\"/>\n",
       "<circle clip-path=\"url(#clip683)\" cx=\"1561.08\" cy=\"938.452\" r=\"14\" fill=\"#3da44d\" fill-rule=\"evenodd\" fill-opacity=\"1\" stroke=\"#000000\" stroke-opacity=\"1\" stroke-width=\"3.2\"/>\n",
       "</svg>\n"
      ]
     },
     "metadata": {},
     "execution_count": 19
    }
   ],
   "cell_type": "code",
   "source": [
    "p1 = scatter(X_test_pca[1,:], X_test_pca[2,:], group=y_hat_1, title=@sprintf \"FuzzyART rho = %.1f\" rho_1)\n",
    "p2 = scatter(X_test_pca[1,:], X_test_pca[2,:], group=y_hat_2, title=@sprintf \"FuzzyART rho = %.1f\" rho_2)\n",
    "plot(p1, p2, layout=(1, 2), legend = false, xtickfontsize=6, xguidefontsize=8, titlefont=font(8))"
   ],
   "metadata": {},
   "execution_count": 19
  },
  {
   "cell_type": "markdown",
   "source": [
    "---\n",
    "\n",
    "*This notebook was generated using [Literate.jl](https://github.com/fredrikekre/Literate.jl).*"
   ],
   "metadata": {}
  }
 ],
 "nbformat_minor": 3,
 "metadata": {
  "language_info": {
   "file_extension": ".jl",
   "mimetype": "application/julia",
   "name": "julia",
   "version": "1.4.2"
  },
  "kernelspec": {
   "name": "julia-1.4",
   "display_name": "Julia 1.4.2",
   "language": "julia"
  }
 },
 "nbformat": 4
}
