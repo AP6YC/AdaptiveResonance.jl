{
 "cells": [
  {
   "cell_type": "markdown",
   "source": [
    "## Overview"
   ],
   "metadata": {}
  },
  {
   "cell_type": "markdown",
   "source": [
    "The `AdaptiveResonance.jl` package has several ways of handling options for ART modules.\n",
    "These methods are meant to give maximum flexibility to the user for sharing and interpreting options, which themselves vary between each module."
   ],
   "metadata": {}
  },
  {
   "cell_type": "markdown",
   "source": [
    "!!! note\n",
    "    For more info on options in ART modules, see the guide in the docs on ART options."
   ],
   "metadata": {}
  },
  {
   "cell_type": "markdown",
   "source": [
    "## ART Options"
   ],
   "metadata": {}
  },
  {
   "cell_type": "markdown",
   "source": [
    "To get a feel for the ART options system, we will inspect different options and their instantiation methods."
   ],
   "metadata": {}
  },
  {
   "cell_type": "markdown",
   "source": [
    "### Inspection"
   ],
   "metadata": {}
  },
  {
   "cell_type": "markdown",
   "source": [
    "First, we load `AdaptiveResonance`:"
   ],
   "metadata": {}
  },
  {
   "outputs": [],
   "cell_type": "code",
   "source": [
    "using AdaptiveResonance"
   ],
   "metadata": {},
   "execution_count": 1
  },
  {
   "cell_type": "markdown",
   "source": [
    "Every ART module has a default constructor, which can be instantiated in the usual way:"
   ],
   "metadata": {}
  },
  {
   "outputs": [
    {
     "output_type": "execute_result",
     "data": {
      "text/plain": "FuzzyART"
     },
     "metadata": {},
     "execution_count": 2
    }
   ],
   "cell_type": "code",
   "source": [
    "# Create a FuzzyART module with default options\n",
    "my_fuzzyart = FuzzyART()\n",
    "typeof(my_fuzzyart)"
   ],
   "metadata": {},
   "execution_count": 2
  },
  {
   "cell_type": "markdown",
   "source": [
    "Within every ART module is a [Parameters.jl](https://github.com/mauro3/Parameters.jl) struct named `opts` containing the options for the module"
   ],
   "metadata": {}
  },
  {
   "outputs": [
    {
     "output_type": "execute_result",
     "data": {
      "text/plain": "opts_FuzzyART\n  rho: Float64 0.6\n  alpha: Float64 0.001\n  beta: Float64 1.0\n  gamma: Float64 3.0\n  gamma_ref: Float64 1.0\n  display: Bool true\n  max_epochs: Int64 1\n  gamma_normalization: Bool false\n"
     },
     "metadata": {},
     "execution_count": 3
    }
   ],
   "cell_type": "code",
   "source": [
    "# Check the FuzzyART options\n",
    "my_fuzzyart.opts"
   ],
   "metadata": {},
   "execution_count": 3
  },
  {
   "cell_type": "markdown",
   "source": [
    "Note that the options here have the type `opts_FuzzyART`.\n",
    "This nomenclature is used throughout the module to indicate an options type associated with an ART module.\n",
    "For example, the options for a DDVFA module are `opts_DDVFA`:"
   ],
   "metadata": {}
  },
  {
   "outputs": [
    {
     "output_type": "execute_result",
     "data": {
      "text/plain": "opts_DDVFA"
     },
     "metadata": {},
     "execution_count": 4
    }
   ],
   "cell_type": "code",
   "source": [
    "# Create a DDVFA module and check the type of the options\n",
    "my_ddvfa = DDVFA()\n",
    "typeof(my_ddvfa.opts)"
   ],
   "metadata": {},
   "execution_count": 4
  },
  {
   "cell_type": "markdown",
   "source": [
    "In fact, we can create an instance of these options with a default constructor:"
   ],
   "metadata": {}
  },
  {
   "outputs": [
    {
     "output_type": "execute_result",
     "data": {
      "text/plain": "opts_FuzzyART\n  rho: Float64 0.6\n  alpha: Float64 0.001\n  beta: Float64 1.0\n  gamma: Float64 3.0\n  gamma_ref: Float64 1.0\n  display: Bool true\n  max_epochs: Int64 1\n  gamma_normalization: Bool false\n"
     },
     "metadata": {},
     "execution_count": 5
    }
   ],
   "cell_type": "code",
   "source": [
    "# Create a separate options struct\n",
    "my_fuzzyart_opts = opts_FuzzyART()"
   ],
   "metadata": {},
   "execution_count": 5
  },
  {
   "cell_type": "markdown",
   "source": [
    "In addition to the default constructor, we can construct ART modules by instantiating these options and passing them to the module during construction:"
   ],
   "metadata": {}
  },
  {
   "outputs": [
    {
     "output_type": "execute_result",
     "data": {
      "text/plain": "FuzzyART(opts_FuzzyART\n  rho: Float64 0.6\n  alpha: Float64 0.001\n  beta: Float64 1.0\n  gamma: Float64 3.0\n  gamma_ref: Float64 1.0\n  display: Bool true\n  max_epochs: Int64 1\n  gamma_normalization: Bool false\n, DataConfig(false, Float64[], Float64[], 0, 0), 0.0, Int64[], Float64[], Float64[], Array{Float64}(undef,0,0), Int64[], 0, 0)"
     },
     "metadata": {},
     "execution_count": 6
    }
   ],
   "cell_type": "code",
   "source": [
    "# Instantiate an ART module by passing our options\n",
    "my_fuzzyart = FuzzyART(my_fuzzyart_opts)\n",
    "my_other_fuzzyart = FuzzyART(my_fuzzyart_opts)"
   ],
   "metadata": {},
   "execution_count": 6
  },
  {
   "cell_type": "markdown",
   "source": [
    "### Specifying Options"
   ],
   "metadata": {}
  },
  {
   "cell_type": "markdown",
   "source": [
    "Now to the good stuff: because of the behavior of the `Parameters.jl` type, each option has a default value that we can modify during instantiation with keyword arguments:"
   ],
   "metadata": {}
  },
  {
   "outputs": [
    {
     "output_type": "execute_result",
     "data": {
      "text/plain": "FuzzyART(opts_FuzzyART\n  rho: Float64 0.6\n  alpha: Float64 0.001\n  beta: Float64 1.0\n  gamma: Float64 3.0\n  gamma_ref: Float64 1.0\n  display: Bool true\n  max_epochs: Int64 1\n  gamma_normalization: Bool true\n, DataConfig(false, Float64[], Float64[], 0, 0), 0.0, Int64[], Float64[], Float64[], Array{Float64}(undef,0,0), Int64[], 0, 0)"
     },
     "metadata": {},
     "execution_count": 7
    }
   ],
   "cell_type": "code",
   "source": [
    "# Change some of the default FuzzyART options\n",
    "my_fuzzyart_opts = opts_FuzzyART(\n",
    "    rho=0.6,\n",
    "    gamma_normalization=true\n",
    ")\n",
    "my_fuzzyart = FuzzyART(my_fuzzyart_opts)"
   ],
   "metadata": {},
   "execution_count": 7
  },
  {
   "cell_type": "markdown",
   "source": [
    "As some syntactic sugar, we can pass these keyword arguments directly to the module during instantiation if we have no need to share option structs:"
   ],
   "metadata": {}
  },
  {
   "outputs": [
    {
     "output_type": "execute_result",
     "data": {
      "text/plain": "FuzzyART(opts_FuzzyART\n  rho: Float64 0.6\n  alpha: Float64 0.001\n  beta: Float64 1.0\n  gamma: Float64 3.0\n  gamma_ref: Float64 1.0\n  display: Bool true\n  max_epochs: Int64 1\n  gamma_normalization: Bool true\n, DataConfig(false, Float64[], Float64[], 0, 0), 0.0, Int64[], Float64[], Float64[], Array{Float64}(undef,0,0), Int64[], 0, 0)"
     },
     "metadata": {},
     "execution_count": 8
    }
   ],
   "cell_type": "code",
   "source": [
    "# Pass these keyword arguments to the module directly\n",
    "my_fuzzyart = FuzzyART(\n",
    "    rho=0.6,\n",
    "    gamma_normalization=true\n",
    ")"
   ],
   "metadata": {},
   "execution_count": 8
  },
  {
   "cell_type": "markdown",
   "source": [
    "Before training, we can also instantiate the model and alter the options afterward:"
   ],
   "metadata": {}
  },
  {
   "outputs": [
    {
     "output_type": "execute_result",
     "data": {
      "text/plain": "0.6"
     },
     "metadata": {},
     "execution_count": 9
    }
   ],
   "cell_type": "code",
   "source": [
    "my_fuzzyart = FuzzyART()\n",
    "my_fuzzyart.opts.rho=0.6"
   ],
   "metadata": {},
   "execution_count": 9
  },
  {
   "cell_type": "markdown",
   "source": [
    "!!! note\n",
    "    All ART modules are designed to use this options struct internally when the parameters are needed.\n",
    "    It is possible to change these parameters in the middle of training and evaluation, but some algorithmic instability may occur."
   ],
   "metadata": {}
  },
  {
   "cell_type": "markdown",
   "source": [
    "## Comparison"
   ],
   "metadata": {}
  },
  {
   "cell_type": "markdown",
   "source": [
    "To see the effect that changing these parameters has on the modules, we can train and test them side-by-side."
   ],
   "metadata": {}
  },
  {
   "cell_type": "markdown",
   "source": [
    "We begin with importing AdaptiveResonance for the ART modules and MLDatasets for some data utilities."
   ],
   "metadata": {}
  },
  {
   "outputs": [],
   "cell_type": "code",
   "source": [
    "using MLDatasets        # Iris dataset\n",
    "using MLDataUtils       # Shuffling and splitting\n",
    "using Printf            # Formatted number printing\n",
    "using MultivariateStats # Principal component analysis (PCA)\n",
    "using Plots             # Plotting"
   ],
   "metadata": {},
   "execution_count": 10
  },
  {
   "cell_type": "markdown",
   "source": [
    "We will download the Iris dataset for its small size and benchmark use for clustering algorithms."
   ],
   "metadata": {}
  },
  {
   "outputs": [
    {
     "output_type": "execute_result",
     "data": {
      "text/plain": "([5.1 4.9 … 6.2 5.9; 3.5 3.0 … 3.4 3.0; 1.4 1.4 … 5.4 5.1; 0.2 0.2 … 2.3 1.8], [\"Iris-setosa\", \"Iris-setosa\", \"Iris-setosa\", \"Iris-setosa\", \"Iris-setosa\", \"Iris-setosa\", \"Iris-setosa\", \"Iris-setosa\", \"Iris-setosa\", \"Iris-setosa\"  …  \"Iris-virginica\", \"Iris-virginica\", \"Iris-virginica\", \"Iris-virginica\", \"Iris-virginica\", \"Iris-virginica\", \"Iris-virginica\", \"Iris-virginica\", \"Iris-virginica\", \"Iris-virginica\"])"
     },
     "metadata": {},
     "execution_count": 11
    }
   ],
   "cell_type": "code",
   "source": [
    "Iris.download(i_accept_the_terms_of_use=true)\n",
    "features, labels = Iris.features(), Iris.labels()"
   ],
   "metadata": {},
   "execution_count": 11
  },
  {
   "cell_type": "markdown",
   "source": [
    "Because the MLDatasets package gives us Iris labels as strings, we will use the `MLDataUtils.convertlabel` method with the `MLLabelUtils.LabelEnc.Indices` type to get a list of integers representing each class:"
   ],
   "metadata": {}
  },
  {
   "outputs": [
    {
     "output_type": "execute_result",
     "data": {
      "text/plain": "3-element Array{Int64,1}:\n 1\n 2\n 3"
     },
     "metadata": {},
     "execution_count": 12
    }
   ],
   "cell_type": "code",
   "source": [
    "labels = convertlabel(LabelEnc.Indices{Int}, labels)\n",
    "unique(labels)"
   ],
   "metadata": {},
   "execution_count": 12
  },
  {
   "cell_type": "markdown",
   "source": [
    "Next, we will create a train/test split with the `MLDataUtils.stratifiedobs` utility:"
   ],
   "metadata": {}
  },
  {
   "outputs": [
    {
     "output_type": "execute_result",
     "data": {
      "text/plain": "(([5.7 6.3 … 4.6 5.1; 2.8 2.5 … 3.4 3.8; 4.5 5.0 … 1.4 1.6; 1.3 1.9 … 0.3 0.2], [2, 3, 3, 1, 1, 1, 3, 3, 3, 3  …  2, 2, 2, 3, 2, 2, 3, 3, 1, 1]), ([6.5 6.4 … 6.3 5.8; 3.0 3.2 … 3.4 2.8; 5.8 4.5 … 5.6 5.1; 2.2 1.5 … 2.4 2.4], [3, 2, 3, 2, 1, 3, 1, 3, 2, 2  …  1, 3, 2, 3, 1, 1, 3, 2, 3, 3]))"
     },
     "metadata": {},
     "execution_count": 13
    }
   ],
   "cell_type": "code",
   "source": [
    "(X_train, y_train), (X_test, y_test) = stratifiedobs((features, labels))"
   ],
   "metadata": {},
   "execution_count": 13
  },
  {
   "cell_type": "markdown",
   "source": [
    "Now we can create several FuzzyART modules with different options."
   ],
   "metadata": {}
  },
  {
   "outputs": [
    {
     "output_type": "execute_result",
     "data": {
      "text/plain": "FuzzyART(opts_FuzzyART\n  rho: Float64 0.7\n  alpha: Float64 0.001\n  beta: Float64 1.0\n  gamma: Float64 3.0\n  gamma_ref: Float64 1.0\n  display: Bool false\n  max_epochs: Int64 1\n  gamma_normalization: Bool false\n, DataConfig(false, Float64[], Float64[], 0, 0), 0.0, Int64[], Float64[], Float64[], Array{Float64}(undef,0,0), Int64[], 0, 0)"
     },
     "metadata": {},
     "execution_count": 14
    }
   ],
   "cell_type": "code",
   "source": [
    "# Create two FuzzyARTs with different vigilance values and suppressing logging messages\n",
    "rho_1 = 0.5\n",
    "rho_2 = 0.7\n",
    "my_fuzzyart_1 = FuzzyART(rho=rho_1, display=false)\n",
    "my_fuzzyart_2 = FuzzyART(rho=rho_2, display=false)"
   ],
   "metadata": {},
   "execution_count": 14
  },
  {
   "cell_type": "markdown",
   "source": [
    "Here, we will train these FuzzyART modules in simple supervised mode by passing the supervised labels as a keyword argument:"
   ],
   "metadata": {}
  },
  {
   "outputs": [],
   "cell_type": "code",
   "source": [
    "# Train in simple supervised mode by passing the labels as a keyword argument.\n",
    "y_hat_train_1 = train!(my_fuzzyart_1, X_train, y=y_train)\n",
    "y_hat_train_2 = train!(my_fuzzyart_2, X_train, y=y_train)"
   ],
   "metadata": {},
   "execution_count": 15
  },
  {
   "cell_type": "markdown",
   "source": [
    "We then classify the test data with both modules:"
   ],
   "metadata": {}
  },
  {
   "outputs": [
    {
     "name": "stdout",
     "output_type": "stream",
     "text": [
      "FuzzyART 1 labels: (45,) Array{Int64,1}\n",
      "FuzzyART 2 labels: (45,) Array{Int64,1}\n",
      "Testing performance rho=0.5: 0.9333\n",
      "Testing performance rho=0.7: 0.9111\n"
     ]
    }
   ],
   "cell_type": "code",
   "source": [
    "y_hat_1 = AdaptiveResonance.classify(my_fuzzyart_1, X_test, get_bmu=true)\n",
    "y_hat_2 = AdaptiveResonance.classify(my_fuzzyart_2, X_test, get_bmu=true)\n",
    "\n",
    "# Check the shape and type of the output labels\n",
    "println(\"FuzzyART 1 labels: \",  size(y_hat_1), \" \", typeof(y_hat_1))\n",
    "println(\"FuzzyART 2 labels: \",  size(y_hat_2), \" \", typeof(y_hat_2))\n",
    "\n",
    "# Calculate the performance on the test data\n",
    "perf_test_1 = performance(y_hat_1, y_test)\n",
    "perf_test_2 = performance(y_hat_2, y_test)\n",
    "\n",
    "# Format each performance number for comparison\n",
    "@printf \"Testing performance rho=%.1f: %.4f\\n\" rho_1 perf_test_1\n",
    "@printf \"Testing performance rho=%.1f: %.4f\\n\" rho_2 perf_test_2"
   ],
   "metadata": {},
   "execution_count": 16
  },
  {
   "cell_type": "markdown",
   "source": [
    "In addition to having different performances, we can see that there is a subsequent trade-off in the number of categories used:"
   ],
   "metadata": {}
  },
  {
   "outputs": [
    {
     "name": "stdout",
     "output_type": "stream",
     "text": [
      "Number of categories rho=0.5: 6\n",
      "Number of categories rho=0.7: 14\n"
     ]
    }
   ],
   "cell_type": "code",
   "source": [
    "# Print the number of categories for each vigilance parameter\n",
    "@printf \"Number of categories rho=%.1f: %i\\n\" rho_1 my_fuzzyart_1.n_categories\n",
    "@printf \"Number of categories rho=%.1f: %i\\n\" rho_2 my_fuzzyart_2.n_categories"
   ],
   "metadata": {},
   "execution_count": 17
  },
  {
   "cell_type": "markdown",
   "source": [
    "The variation between vigilance parameter, number of categories created during learning, and testing performance/generalization is a central theme in ART-based algorithms."
   ],
   "metadata": {}
  },
  {
   "cell_type": "markdown",
   "source": [
    "## Visualization"
   ],
   "metadata": {}
  },
  {
   "cell_type": "markdown",
   "source": [
    "Now, to visualize how the two models differ in how they partition the data, we can use principal component analysis (PCA) to compress to two plotting dimensions.\n",
    "PCA is a method to represent a dataset in a different number of dimensions while preserving the relative separation between datapoints.\n",
    "Though most datasets are not able to be effectively transformed down to two dimensions, this technique is useful to get a general sense of how well separated the classes are and how well your algorithm classifies them."
   ],
   "metadata": {}
  },
  {
   "outputs": [
    {
     "name": "stdout",
     "output_type": "stream",
     "text": [
      "┌ Warning: `transform(f, x)` is deprecated, use `predict(f, x)` instead.\n",
      "│   caller = top-level scope at options.ipynb:5\n",
      "└ @ Core ~/work/AdaptiveResonance.jl/AdaptiveResonance.jl/docs/src/examples/adaptiveresonance/options.ipynb:5\n"
     ]
    },
    {
     "output_type": "execute_result",
     "data": {
      "text/plain": "2×45 Array{Float64,2}:\n -2.34976    -0.932411  -1.16885   …  -0.262336  -2.14499   -1.58527\n -0.0418825   0.319198  -0.164502     -0.547893   0.138907  -0.539307"
     },
     "metadata": {},
     "execution_count": 18
    }
   ],
   "cell_type": "code",
   "source": [
    "# Train a PCA model to visually separate the features in two dimensions.\n",
    "M = fit(PCA, features; maxoutdim=2)\n",
    "\n",
    "# Apply the PCA model to the testing set\n",
    "X_test_pca = transform(M, X_test)"
   ],
   "metadata": {},
   "execution_count": 18
  },
  {
   "cell_type": "markdown",
   "source": [
    "We can now plot the PCA'ed test set and label them according to the two FuzzyART's"
   ],
   "metadata": {}
  },
  {
   "outputs": [
    {
     "output_type": "execute_result",
     "data": {
      "text/plain": "Plot{Plots.GRBackend() n=6}",
      "image/png": "[encoded data removed]",
      "text/html": [
       "<?xml version=\"1.0\" encoding=\"utf-8\"?>\n",
       "<svg xmlns=\"http://www.w3.org/2000/svg\" xmlns:xlink=\"http://www.w3.org/1999/xlink\" width=\"600\" height=\"400\" viewBox=\"0 0 2400 1600\">\n",
       "<defs>\n",
       "  <clipPath id=\"clip620\">\n",
       "    <rect x=\"0\" y=\"0\" width=\"2400\" height=\"1600\"/>\n",
       "  </clipPath>\n",
       "</defs>\n",
       "<path clip-path=\"url(#clip620)\" d=\"\n",
       "M0 1600 L2400 1600 L2400 0 L0 0  Z\n",
       "  \" fill=\"#ffffff\" fill-rule=\"evenodd\" fill-opacity=\"1\"/>\n",
       "<defs>\n",
       "  <clipPath id=\"clip621\">\n",
       "    <rect x=\"480\" y=\"0\" width=\"1681\" height=\"1600\"/>\n",
       "  </clipPath>\n",
       "</defs>\n",
       "<path clip-path=\"url(#clip620)\" d=\"\n",
       "M86.9921 1521.01 L1152.76 1521.01 L1152.76 62.9921 L86.9921 62.9921  Z\n",
       "  \" fill=\"#ffffff\" fill-rule=\"evenodd\" fill-opacity=\"1\"/>\n",
       "<defs>\n",
       "  <clipPath id=\"clip622\">\n",
       "    <rect x=\"86\" y=\"62\" width=\"1067\" height=\"1459\"/>\n",
       "  </clipPath>\n",
       "</defs>\n",
       "<polyline clip-path=\"url(#clip622)\" style=\"stroke:#000000; stroke-width:2; stroke-opacity:0.1; fill:none\" points=\"\n",
       "  106.035,1521.01 106.035,62.9921 \n",
       "  \"/>\n",
       "<polyline clip-path=\"url(#clip622)\" style=\"stroke:#000000; stroke-width:2; stroke-opacity:0.1; fill:none\" points=\"\n",
       "  269.578,1521.01 269.578,62.9921 \n",
       "  \"/>\n",
       "<polyline clip-path=\"url(#clip622)\" style=\"stroke:#000000; stroke-width:2; stroke-opacity:0.1; fill:none\" points=\"\n",
       "  433.12,1521.01 433.12,62.9921 \n",
       "  \"/>\n",
       "<polyline clip-path=\"url(#clip622)\" style=\"stroke:#000000; stroke-width:2; stroke-opacity:0.1; fill:none\" points=\"\n",
       "  596.663,1521.01 596.663,62.9921 \n",
       "  \"/>\n",
       "<polyline clip-path=\"url(#clip622)\" style=\"stroke:#000000; stroke-width:2; stroke-opacity:0.1; fill:none\" points=\"\n",
       "  760.206,1521.01 760.206,62.9921 \n",
       "  \"/>\n",
       "<polyline clip-path=\"url(#clip622)\" style=\"stroke:#000000; stroke-width:2; stroke-opacity:0.1; fill:none\" points=\"\n",
       "  923.748,1521.01 923.748,62.9921 \n",
       "  \"/>\n",
       "<polyline clip-path=\"url(#clip622)\" style=\"stroke:#000000; stroke-width:2; stroke-opacity:0.1; fill:none\" points=\"\n",
       "  1087.29,1521.01 1087.29,62.9921 \n",
       "  \"/>\n",
       "<polyline clip-path=\"url(#clip620)\" style=\"stroke:#000000; stroke-width:4; stroke-opacity:1; fill:none\" points=\"\n",
       "  86.9921,1521.01 1152.76,1521.01 \n",
       "  \"/>\n",
       "<polyline clip-path=\"url(#clip620)\" style=\"stroke:#000000; stroke-width:4; stroke-opacity:1; fill:none\" points=\"\n",
       "  106.035,1521.01 106.035,1503.51 \n",
       "  \"/>\n",
       "<polyline clip-path=\"url(#clip620)\" style=\"stroke:#000000; stroke-width:4; stroke-opacity:1; fill:none\" points=\"\n",
       "  269.578,1521.01 269.578,1503.51 \n",
       "  \"/>\n",
       "<polyline clip-path=\"url(#clip620)\" style=\"stroke:#000000; stroke-width:4; stroke-opacity:1; fill:none\" points=\"\n",
       "  433.12,1521.01 433.12,1503.51 \n",
       "  \"/>\n",
       "<polyline clip-path=\"url(#clip620)\" style=\"stroke:#000000; stroke-width:4; stroke-opacity:1; fill:none\" points=\"\n",
       "  596.663,1521.01 596.663,1503.51 \n",
       "  \"/>\n",
       "<polyline clip-path=\"url(#clip620)\" style=\"stroke:#000000; stroke-width:4; stroke-opacity:1; fill:none\" points=\"\n",
       "  760.206,1521.01 760.206,1503.51 \n",
       "  \"/>\n",
       "<polyline clip-path=\"url(#clip620)\" style=\"stroke:#000000; stroke-width:4; stroke-opacity:1; fill:none\" points=\"\n",
       "  923.748,1521.01 923.748,1503.51 \n",
       "  \"/>\n",
       "<polyline clip-path=\"url(#clip620)\" style=\"stroke:#000000; stroke-width:4; stroke-opacity:1; fill:none\" points=\"\n",
       "  1087.29,1521.01 1087.29,1503.51 \n",
       "  \"/>\n",
       "<path clip-path=\"url(#clip620)\" d=\"M 0 0 M85.0197 1558.69 L107.277 1558.69 L107.277 1561.64 L85.0197 1561.64 L85.0197 1558.69 Z\" fill=\"#000000\" fill-rule=\"evenodd\" fill-opacity=\"1\" /><path clip-path=\"url(#clip620)\" d=\"M 0 0 M121.704 1557.34 Q124.221 1557.87 125.627 1559.58 Q127.051 1561.28 127.051 1563.78 Q127.051 1567.61 124.412 1569.71 Q121.773 1571.82 116.912 1571.82 Q115.28 1571.82 113.544 1571.49 Q111.825 1571.17 109.985 1570.53 L109.985 1567.15 Q111.443 1568 113.179 1568.43 Q114.915 1568.86 116.808 1568.86 Q120.106 1568.86 121.825 1567.56 Q123.561 1566.26 123.561 1563.78 Q123.561 1561.49 121.947 1560.2 Q120.349 1558.9 117.485 1558.9 L114.464 1558.9 L114.464 1556.02 L117.624 1556.02 Q120.21 1556.02 121.582 1554.99 Q122.954 1553.95 122.954 1552.01 Q122.954 1550.01 121.53 1548.95 Q120.124 1547.87 117.485 1547.87 Q116.044 1547.87 114.395 1548.19 Q112.745 1548.5 110.766 1549.16 L110.766 1546.03 Q112.763 1545.48 114.499 1545.2 Q116.252 1544.92 117.797 1544.92 Q121.79 1544.92 124.117 1546.75 Q126.443 1548.55 126.443 1551.64 Q126.443 1553.79 125.21 1555.29 Q123.978 1556.76 121.704 1557.34 Z\" fill=\"#000000\" fill-rule=\"evenodd\" fill-opacity=\"1\" /><path clip-path=\"url(#clip620)\" d=\"M 0 0 M248.918 1558.69 L271.175 1558.69 L271.175 1561.64 L248.918 1561.64 L248.918 1558.69 Z\" fill=\"#000000\" fill-rule=\"evenodd\" fill-opacity=\"1\" /><path clip-path=\"url(#clip620)\" d=\"M 0 0 M277.998 1568.36 L290.237 1568.36 L290.237 1571.31 L273.779 1571.31 L273.779 1568.36 Q275.776 1566.29 279.213 1562.82 Q282.668 1559.33 283.553 1558.33 Q285.237 1556.43 285.897 1555.13 Q286.574 1553.81 286.574 1552.54 Q286.574 1550.48 285.116 1549.18 Q283.675 1547.87 281.349 1547.87 Q279.699 1547.87 277.859 1548.45 Q276.036 1549.02 273.953 1550.18 L273.953 1546.64 Q276.071 1545.79 277.911 1545.36 Q279.751 1544.92 281.279 1544.92 Q285.307 1544.92 287.703 1546.94 Q290.099 1548.95 290.099 1552.32 Q290.099 1553.92 289.491 1555.36 Q288.901 1556.78 287.321 1558.73 Q286.887 1559.23 284.56 1561.64 Q282.234 1564.04 277.998 1568.36 Z\" fill=\"#000000\" fill-rule=\"evenodd\" fill-opacity=\"1\" /><path clip-path=\"url(#clip620)\" d=\"M 0 0 M412.322 1558.69 L434.579 1558.69 L434.579 1561.64 L412.322 1561.64 L412.322 1558.69 Z\" fill=\"#000000\" fill-rule=\"evenodd\" fill-opacity=\"1\" /><path clip-path=\"url(#clip620)\" d=\"M 0 0 M438.988 1568.36 L444.718 1568.36 L444.718 1548.59 L438.485 1549.84 L438.485 1546.64 L444.683 1545.39 L448.19 1545.39 L448.19 1568.36 L453.919 1568.36 L453.919 1571.31 L438.988 1571.31 L438.988 1568.36 Z\" fill=\"#000000\" fill-rule=\"evenodd\" fill-opacity=\"1\" /><path clip-path=\"url(#clip620)\" d=\"M 0 0 M596.663 1547.7 Q593.955 1547.7 592.583 1550.37 Q591.229 1553.03 591.229 1558.38 Q591.229 1563.71 592.583 1566.38 Q593.955 1569.04 596.663 1569.04 Q599.389 1569.04 600.743 1566.38 Q602.114 1563.71 602.114 1558.38 Q602.114 1553.03 600.743 1550.37 Q599.389 1547.7 596.663 1547.7 M596.663 1544.92 Q601.021 1544.92 603.312 1548.38 Q605.621 1551.82 605.621 1558.38 Q605.621 1564.92 603.312 1568.38 Q601.021 1571.82 596.663 1571.82 Q592.305 1571.82 589.996 1568.38 Q587.705 1564.92 587.705 1558.38 Q587.705 1551.82 589.996 1548.38 Q592.305 1544.92 596.663 1544.92 Z\" fill=\"#000000\" fill-rule=\"evenodd\" fill-opacity=\"1\" /><path clip-path=\"url(#clip620)\" d=\"M 0 0 M752.992 1568.36 L758.721 1568.36 L758.721 1548.59 L752.489 1549.84 L752.489 1546.64 L758.687 1545.39 L762.193 1545.39 L762.193 1568.36 L767.923 1568.36 L767.923 1571.31 L752.992 1571.31 L752.992 1568.36 Z\" fill=\"#000000\" fill-rule=\"evenodd\" fill-opacity=\"1\" /><path clip-path=\"url(#clip620)\" d=\"M 0 0 M919.738 1568.36 L931.977 1568.36 L931.977 1571.31 L915.519 1571.31 L915.519 1568.36 Q917.516 1566.29 920.953 1562.82 Q924.408 1559.33 925.293 1558.33 Q926.977 1556.43 927.637 1555.13 Q928.314 1553.81 928.314 1552.54 Q928.314 1550.48 926.856 1549.18 Q925.415 1547.87 923.089 1547.87 Q921.439 1547.87 919.599 1548.45 Q917.776 1549.02 915.693 1550.18 L915.693 1546.64 Q917.811 1545.79 919.651 1545.36 Q921.491 1544.92 923.019 1544.92 Q927.047 1544.92 929.443 1546.94 Q931.838 1548.95 931.838 1552.32 Q931.838 1553.92 931.231 1555.36 Q930.641 1556.78 929.061 1558.73 Q928.627 1559.23 926.3 1561.64 Q923.974 1564.04 919.738 1568.36 Z\" fill=\"#000000\" fill-rule=\"evenodd\" fill-opacity=\"1\" /><path clip-path=\"url(#clip620)\" d=\"M 0 0 M1090.48 1557.34 Q1092.99 1557.87 1094.4 1559.58 Q1095.82 1561.28 1095.82 1563.78 Q1095.82 1567.61 1093.18 1569.71 Q1090.55 1571.82 1085.68 1571.82 Q1084.05 1571.82 1082.32 1571.49 Q1080.6 1571.17 1078.76 1570.53 L1078.76 1567.15 Q1080.22 1568 1081.95 1568.43 Q1083.69 1568.86 1085.58 1568.86 Q1088.88 1568.86 1090.6 1567.56 Q1092.33 1566.26 1092.33 1563.78 Q1092.33 1561.49 1090.72 1560.2 Q1089.12 1558.9 1086.26 1558.9 L1083.24 1558.9 L1083.24 1556.02 L1086.4 1556.02 Q1088.98 1556.02 1090.36 1554.99 Q1091.73 1553.95 1091.73 1552.01 Q1091.73 1550.01 1090.3 1548.95 Q1088.9 1547.87 1086.26 1547.87 Q1084.82 1547.87 1083.17 1548.19 Q1081.52 1548.5 1079.54 1549.16 L1079.54 1546.03 Q1081.54 1545.48 1083.27 1545.2 Q1085.03 1544.92 1086.57 1544.92 Q1090.56 1544.92 1092.89 1546.75 Q1095.22 1548.55 1095.22 1551.64 Q1095.22 1553.79 1093.98 1555.29 Q1092.75 1556.76 1090.48 1557.34 Z\" fill=\"#000000\" fill-rule=\"evenodd\" fill-opacity=\"1\" /><polyline clip-path=\"url(#clip622)\" style=\"stroke:#000000; stroke-width:2; stroke-opacity:0.1; fill:none\" points=\"\n",
       "  86.9921,1371 1152.76,1371 \n",
       "  \"/>\n",
       "<polyline clip-path=\"url(#clip622)\" style=\"stroke:#000000; stroke-width:2; stroke-opacity:0.1; fill:none\" points=\"\n",
       "  86.9921,1207.32 1152.76,1207.32 \n",
       "  \"/>\n",
       "<polyline clip-path=\"url(#clip622)\" style=\"stroke:#000000; stroke-width:2; stroke-opacity:0.1; fill:none\" points=\"\n",
       "  86.9921,1043.63 1152.76,1043.63 \n",
       "  \"/>\n",
       "<polyline clip-path=\"url(#clip622)\" style=\"stroke:#000000; stroke-width:2; stroke-opacity:0.1; fill:none\" points=\"\n",
       "  86.9921,879.947 1152.76,879.947 \n",
       "  \"/>\n",
       "<polyline clip-path=\"url(#clip622)\" style=\"stroke:#000000; stroke-width:2; stroke-opacity:0.1; fill:none\" points=\"\n",
       "  86.9921,716.262 1152.76,716.262 \n",
       "  \"/>\n",
       "<polyline clip-path=\"url(#clip622)\" style=\"stroke:#000000; stroke-width:2; stroke-opacity:0.1; fill:none\" points=\"\n",
       "  86.9921,552.576 1152.76,552.576 \n",
       "  \"/>\n",
       "<polyline clip-path=\"url(#clip622)\" style=\"stroke:#000000; stroke-width:2; stroke-opacity:0.1; fill:none\" points=\"\n",
       "  86.9921,388.891 1152.76,388.891 \n",
       "  \"/>\n",
       "<polyline clip-path=\"url(#clip622)\" style=\"stroke:#000000; stroke-width:2; stroke-opacity:0.1; fill:none\" points=\"\n",
       "  86.9921,225.206 1152.76,225.206 \n",
       "  \"/>\n",
       "<polyline clip-path=\"url(#clip620)\" style=\"stroke:#000000; stroke-width:4; stroke-opacity:1; fill:none\" points=\"\n",
       "  86.9921,1521.01 86.9921,62.9921 \n",
       "  \"/>\n",
       "<polyline clip-path=\"url(#clip620)\" style=\"stroke:#000000; stroke-width:4; stroke-opacity:1; fill:none\" points=\"\n",
       "  86.9921,1371 99.7813,1371 \n",
       "  \"/>\n",
       "<polyline clip-path=\"url(#clip620)\" style=\"stroke:#000000; stroke-width:4; stroke-opacity:1; fill:none\" points=\"\n",
       "  86.9921,1207.32 99.7813,1207.32 \n",
       "  \"/>\n",
       "<polyline clip-path=\"url(#clip620)\" style=\"stroke:#000000; stroke-width:4; stroke-opacity:1; fill:none\" points=\"\n",
       "  86.9921,1043.63 99.7813,1043.63 \n",
       "  \"/>\n",
       "<polyline clip-path=\"url(#clip620)\" style=\"stroke:#000000; stroke-width:4; stroke-opacity:1; fill:none\" points=\"\n",
       "  86.9921,879.947 99.7813,879.947 \n",
       "  \"/>\n",
       "<polyline clip-path=\"url(#clip620)\" style=\"stroke:#000000; stroke-width:4; stroke-opacity:1; fill:none\" points=\"\n",
       "  86.9921,716.262 99.7813,716.262 \n",
       "  \"/>\n",
       "<polyline clip-path=\"url(#clip620)\" style=\"stroke:#000000; stroke-width:4; stroke-opacity:1; fill:none\" points=\"\n",
       "  86.9921,552.576 99.7813,552.576 \n",
       "  \"/>\n",
       "<polyline clip-path=\"url(#clip620)\" style=\"stroke:#000000; stroke-width:4; stroke-opacity:1; fill:none\" points=\"\n",
       "  86.9921,388.891 99.7813,388.891 \n",
       "  \"/>\n",
       "<polyline clip-path=\"url(#clip620)\" style=\"stroke:#000000; stroke-width:4; stroke-opacity:1; fill:none\" points=\"\n",
       "  86.9921,225.206 99.7813,225.206 \n",
       "  \"/>\n",
       "<path clip-path=\"url(#clip620)\" d=\"M 0 0 M-42.5722 1371.45 L-12.8964 1371.45 L-12.8964 1375.39 L-42.5722 1375.39 L-42.5722 1371.45 Z\" fill=\"#000000\" fill-rule=\"evenodd\" fill-opacity=\"1\" /><path clip-path=\"url(#clip620)\" d=\"M 0 0 M2.17294 1356.8 Q-1.43815 1356.8 -3.26684 1360.37 Q-5.07239 1363.91 -5.07239 1371.04 Q-5.07239 1378.14 -3.26684 1381.71 Q-1.43815 1385.25 2.17294 1385.25 Q5.80718 1385.25 7.61273 1381.71 Q9.44142 1378.14 9.44142 1371.04 Q9.44142 1363.91 7.61273 1360.37 Q5.80718 1356.8 2.17294 1356.8 M2.17294 1353.1 Q7.9831 1353.1 11.0386 1357.7 Q14.1173 1362.29 14.1173 1371.04 Q14.1173 1379.76 11.0386 1384.37 Q7.9831 1388.95 2.17294 1388.95 Q-3.63721 1388.95 -6.7159 1384.37 Q-9.77144 1379.76 -9.77144 1371.04 Q-9.77144 1362.29 -6.7159 1357.7 Q-3.63721 1353.1 2.17294 1353.1 Z\" fill=\"#000000\" fill-rule=\"evenodd\" fill-opacity=\"1\" /><path clip-path=\"url(#clip620)\" d=\"M 0 0 M19.1867 1382.4 L24.071 1382.4 L24.071 1388.28 L19.1867 1388.28 L19.1867 1382.4 Z\" fill=\"#000000\" fill-rule=\"evenodd\" fill-opacity=\"1\" /><path clip-path=\"url(#clip620)\" d=\"M 0 0 M39.1403 1371.87 Q35.807 1371.87 33.8857 1373.65 Q31.9876 1375.44 31.9876 1378.56 Q31.9876 1381.69 33.8857 1383.47 Q35.807 1385.25 39.1403 1385.25 Q42.4737 1385.25 44.3949 1383.47 Q46.3162 1381.66 46.3162 1378.56 Q46.3162 1375.44 44.3949 1373.65 Q42.4968 1371.87 39.1403 1371.87 M34.4644 1369.88 Q31.4552 1369.14 29.7654 1367.08 Q28.0987 1365.02 28.0987 1362.06 Q28.0987 1357.91 31.0385 1355.51 Q34.0015 1353.1 39.1403 1353.1 Q44.3023 1353.1 47.2421 1355.51 Q50.1819 1357.91 50.1819 1362.06 Q50.1819 1365.02 48.4921 1367.08 Q46.8255 1369.14 43.8394 1369.88 Q47.219 1370.67 49.094 1372.96 Q50.9921 1375.25 50.9921 1378.56 Q50.9921 1383.58 47.9134 1386.27 Q44.8579 1388.95 39.1403 1388.95 Q33.4228 1388.95 30.3441 1386.27 Q27.2885 1383.58 27.2885 1378.56 Q27.2885 1375.25 29.1867 1372.96 Q31.0848 1370.67 34.4644 1369.88 M32.7515 1362.5 Q32.7515 1365.18 34.4181 1366.69 Q36.1079 1368.19 39.1403 1368.19 Q42.1496 1368.19 43.8394 1366.69 Q45.5523 1365.18 45.5523 1362.5 Q45.5523 1359.81 43.8394 1358.31 Q42.1496 1356.8 39.1403 1356.8 Q36.1079 1356.8 34.4181 1358.31 Q32.7515 1359.81 32.7515 1362.5 Z\" fill=\"#000000\" fill-rule=\"evenodd\" fill-opacity=\"1\" /><path clip-path=\"url(#clip620)\" d=\"M 0 0 M-42.8268 1207.77 L-13.151 1207.77 L-13.151 1211.7 L-42.8268 1211.7 L-42.8268 1207.77 Z\" fill=\"#000000\" fill-rule=\"evenodd\" fill-opacity=\"1\" /><path clip-path=\"url(#clip620)\" d=\"M 0 0 M1.91831 1193.12 Q-1.69278 1193.12 -3.52147 1196.68 Q-5.32702 1200.22 -5.32702 1207.35 Q-5.32702 1214.46 -3.52147 1218.02 Q-1.69278 1221.57 1.91831 1221.57 Q5.55255 1221.57 7.3581 1218.02 Q9.18679 1214.46 9.18679 1207.35 Q9.18679 1200.22 7.3581 1196.68 Q5.55255 1193.12 1.91831 1193.12 M1.91831 1189.41 Q7.72847 1189.41 10.784 1194.02 Q13.8627 1198.6 13.8627 1207.35 Q13.8627 1216.08 10.784 1220.69 Q7.72847 1225.27 1.91831 1225.27 Q-3.89184 1225.27 -6.97053 1220.69 Q-10.0261 1216.08 -10.0261 1207.35 Q-10.0261 1198.6 -6.97053 1194.02 Q-3.89184 1189.41 1.91831 1189.41 Z\" fill=\"#000000\" fill-rule=\"evenodd\" fill-opacity=\"1\" /><path clip-path=\"url(#clip620)\" d=\"M 0 0 M18.9321 1218.72 L23.8163 1218.72 L23.8163 1224.6 L18.9321 1224.6 L18.9321 1218.72 Z\" fill=\"#000000\" fill-rule=\"evenodd\" fill-opacity=\"1\" /><path clip-path=\"url(#clip620)\" d=\"M 0 0 M39.4644 1205.45 Q36.3163 1205.45 34.4644 1207.61 Q32.6357 1209.76 32.6357 1213.51 Q32.6357 1217.24 34.4644 1219.41 Q36.3163 1221.57 39.4644 1221.57 Q42.6125 1221.57 44.4412 1219.41 Q46.2931 1217.24 46.2931 1213.51 Q46.2931 1209.76 44.4412 1207.61 Q42.6125 1205.45 39.4644 1205.45 M48.7468 1190.8 L48.7468 1195.06 Q46.9875 1194.23 45.182 1193.79 Q43.3996 1193.35 41.6403 1193.35 Q37.0107 1193.35 34.557 1196.47 Q32.1265 1199.6 31.7793 1205.92 Q33.145 1203.9 35.2052 1202.84 Q37.2653 1201.75 39.7422 1201.75 Q44.9505 1201.75 47.9597 1204.92 Q50.9921 1208.07 50.9921 1213.51 Q50.9921 1218.83 47.844 1222.05 Q44.6959 1225.27 39.4644 1225.27 Q33.4691 1225.27 30.2978 1220.69 Q27.1265 1216.08 27.1265 1207.35 Q27.1265 1199.16 31.0154 1194.3 Q34.9042 1189.41 41.4551 1189.41 Q43.2144 1189.41 44.9968 1189.76 Q46.8023 1190.11 48.7468 1190.8 Z\" fill=\"#000000\" fill-rule=\"evenodd\" fill-opacity=\"1\" /><path clip-path=\"url(#clip620)\" d=\"M 0 0 M-43.1509 1044.08 L-13.4751 1044.08 L-13.4751 1048.02 L-43.1509 1048.02 L-43.1509 1044.08 Z\" fill=\"#000000\" fill-rule=\"evenodd\" fill-opacity=\"1\" /><path clip-path=\"url(#clip620)\" d=\"M 0 0 M1.59424 1029.43 Q-2.01685 1029.43 -3.84554 1033 Q-5.65109 1036.54 -5.65109 1043.67 Q-5.65109 1050.77 -3.84554 1054.34 Q-2.01685 1057.88 1.59424 1057.88 Q5.22848 1057.88 7.03403 1054.34 Q8.86272 1050.77 8.86272 1043.67 Q8.86272 1036.54 7.03403 1033 Q5.22848 1029.43 1.59424 1029.43 M1.59424 1025.73 Q7.4044 1025.73 10.4599 1030.33 Q13.5386 1034.92 13.5386 1043.67 Q13.5386 1052.39 10.4599 1057 Q7.4044 1061.58 1.59424 1061.58 Q-4.21591 1061.58 -7.2946 1057 Q-10.3501 1052.39 -10.3501 1043.67 Q-10.3501 1034.92 -7.2946 1030.33 Q-4.21591 1025.73 1.59424 1025.73 Z\" fill=\"#000000\" fill-rule=\"evenodd\" fill-opacity=\"1\" /><path clip-path=\"url(#clip620)\" d=\"M 0 0 M18.608 1055.03 L23.4923 1055.03 L23.4923 1060.91 L18.608 1060.91 L18.608 1055.03 Z\" fill=\"#000000\" fill-rule=\"evenodd\" fill-opacity=\"1\" /><path clip-path=\"url(#clip620)\" d=\"M 0 0 M41.4088 1030.43 L29.6034 1048.88 L41.4088 1048.88 L41.4088 1030.43 M40.182 1026.35 L46.0616 1026.35 L46.0616 1048.88 L50.9921 1048.88 L50.9921 1052.76 L46.0616 1052.76 L46.0616 1060.91 L41.4088 1060.91 L41.4088 1052.76 L25.8071 1052.76 L25.8071 1048.25 L40.182 1026.35 Z\" fill=\"#000000\" fill-rule=\"evenodd\" fill-opacity=\"1\" /><path clip-path=\"url(#clip620)\" d=\"M 0 0 M-41.0676 880.398 L-11.3918 880.398 L-11.3918 884.334 L-41.0676 884.334 L-41.0676 880.398 Z\" fill=\"#000000\" fill-rule=\"evenodd\" fill-opacity=\"1\" /><path clip-path=\"url(#clip620)\" d=\"M 0 0 M3.67756 865.746 Q0.0664729 865.746 -1.76222 869.31 Q-3.56777 872.852 -3.56777 879.982 Q-3.56777 887.088 -1.76222 890.653 Q0.0664729 894.195 3.67756 894.195 Q7.3118 894.195 9.11735 890.653 Q10.946 887.088 10.946 879.982 Q10.946 872.852 9.11735 869.31 Q7.3118 865.746 3.67756 865.746 M3.67756 862.042 Q9.48772 862.042 12.5433 866.648 Q15.6219 871.232 15.6219 879.982 Q15.6219 888.709 12.5433 893.315 Q9.48772 897.898 3.67756 897.898 Q-2.13259 897.898 -5.21128 893.315 Q-8.26682 888.709 -8.26682 879.982 Q-8.26682 871.232 -5.21128 866.648 Q-2.13259 862.042 3.67756 862.042 Z\" fill=\"#000000\" fill-rule=\"evenodd\" fill-opacity=\"1\" /><path clip-path=\"url(#clip620)\" d=\"M 0 0 M20.6914 891.347 L25.5756 891.347 L25.5756 897.227 L20.6914 897.227 L20.6914 891.347 Z\" fill=\"#000000\" fill-rule=\"evenodd\" fill-opacity=\"1\" /><path clip-path=\"url(#clip620)\" d=\"M 0 0 M34.6728 893.292 L50.9921 893.292 L50.9921 897.227 L29.0478 897.227 L29.0478 893.292 Q31.7098 890.537 36.2931 885.908 Q40.8996 881.255 42.0801 879.912 Q44.3255 877.389 45.2051 875.653 Q46.1079 873.894 46.1079 872.204 Q46.1079 869.449 44.1635 867.713 Q42.2422 865.977 39.1403 865.977 Q36.9413 865.977 34.4876 866.741 Q32.057 867.505 29.2793 869.056 L29.2793 864.334 Q32.1033 863.199 34.557 862.621 Q37.0107 862.042 39.0477 862.042 Q44.4181 862.042 47.6125 864.727 Q50.8069 867.412 50.8069 871.903 Q50.8069 874.033 49.9968 875.954 Q49.2097 877.852 47.1033 880.445 Q46.5246 881.116 43.4227 884.334 Q40.3209 887.528 34.6728 893.292 Z\" fill=\"#000000\" fill-rule=\"evenodd\" fill-opacity=\"1\" /><path clip-path=\"url(#clip620)\" d=\"M 0 0 M2.08035 702.06 Q-1.53074 702.06 -3.35943 705.625 Q-5.16498 709.167 -5.16498 716.296 Q-5.16498 723.403 -3.35943 726.968 Q-1.53074 730.509 2.08035 730.509 Q5.71459 730.509 7.52014 726.968 Q9.34883 723.403 9.34883 716.296 Q9.34883 709.167 7.52014 705.625 Q5.71459 702.06 2.08035 702.06 M2.08035 698.357 Q7.89051 698.357 10.946 702.963 Q14.0247 707.547 14.0247 716.296 Q14.0247 725.023 10.946 729.63 Q7.89051 734.213 2.08035 734.213 Q-3.7298 734.213 -6.80849 729.63 Q-9.86403 725.023 -9.86403 716.296 Q-9.86403 707.547 -6.80849 702.963 Q-3.7298 698.357 2.08035 698.357 Z\" fill=\"#000000\" fill-rule=\"evenodd\" fill-opacity=\"1\" /><path clip-path=\"url(#clip620)\" d=\"M 0 0 M19.0941 727.662 L23.9784 727.662 L23.9784 733.542 L19.0941 733.542 L19.0941 727.662 Z\" fill=\"#000000\" fill-rule=\"evenodd\" fill-opacity=\"1\" /><path clip-path=\"url(#clip620)\" d=\"M 0 0 M39.0477 702.06 Q35.4367 702.06 33.608 705.625 Q31.8024 709.167 31.8024 716.296 Q31.8024 723.403 33.608 726.968 Q35.4367 730.509 39.0477 730.509 Q42.682 730.509 44.4875 726.968 Q46.3162 723.403 46.3162 716.296 Q46.3162 709.167 44.4875 705.625 Q42.682 702.06 39.0477 702.06 M39.0477 698.357 Q44.8579 698.357 47.9134 702.963 Q50.9921 707.547 50.9921 716.296 Q50.9921 725.023 47.9134 729.63 Q44.8579 734.213 39.0477 734.213 Q33.2376 734.213 30.1589 729.63 Q27.1034 725.023 27.1034 716.296 Q27.1034 707.547 30.1589 702.963 Q33.2376 698.357 39.0477 698.357 Z\" fill=\"#000000\" fill-rule=\"evenodd\" fill-opacity=\"1\" /><path clip-path=\"url(#clip620)\" d=\"M 0 0 M3.67756 538.375 Q0.0664729 538.375 -1.76222 541.94 Q-3.56777 545.482 -3.56777 552.611 Q-3.56777 559.718 -1.76222 563.282 Q0.0664729 566.824 3.67756 566.824 Q7.3118 566.824 9.11735 563.282 Q10.946 559.718 10.946 552.611 Q10.946 545.482 9.11735 541.94 Q7.3118 538.375 3.67756 538.375 M3.67756 534.671 Q9.48772 534.671 12.5433 539.278 Q15.6219 543.861 15.6219 552.611 Q15.6219 561.338 12.5433 565.944 Q9.48772 570.528 3.67756 570.528 Q-2.13259 570.528 -5.21128 565.944 Q-8.26682 561.338 -8.26682 552.611 Q-8.26682 543.861 -5.21128 539.278 Q-2.13259 534.671 3.67756 534.671 Z\" fill=\"#000000\" fill-rule=\"evenodd\" fill-opacity=\"1\" /><path clip-path=\"url(#clip620)\" d=\"M 0 0 M20.6914 563.977 L25.5756 563.977 L25.5756 569.856 L20.6914 569.856 L20.6914 563.977 Z\" fill=\"#000000\" fill-rule=\"evenodd\" fill-opacity=\"1\" /><path clip-path=\"url(#clip620)\" d=\"M 0 0 M34.6728 565.921 L50.9921 565.921 L50.9921 569.856 L29.0478 569.856 L29.0478 565.921 Q31.7098 563.167 36.2931 558.537 Q40.8996 553.884 42.0801 552.542 Q44.3255 550.019 45.2051 548.283 Q46.1079 546.523 46.1079 544.833 Q46.1079 542.079 44.1635 540.343 Q42.2422 538.607 39.1403 538.607 Q36.9413 538.607 34.4876 539.371 Q32.057 540.134 29.2793 541.685 L29.2793 536.963 Q32.1033 535.829 34.557 535.25 Q37.0107 534.671 39.0477 534.671 Q44.4181 534.671 47.6125 537.357 Q50.8069 540.042 50.8069 544.533 Q50.8069 546.662 49.9968 548.583 Q49.2097 550.482 47.1033 553.074 Q46.5246 553.745 43.4227 556.963 Q40.3209 560.157 34.6728 565.921 Z\" fill=\"#000000\" fill-rule=\"evenodd\" fill-opacity=\"1\" /><path clip-path=\"url(#clip620)\" d=\"M 0 0 M1.59424 374.69 Q-2.01685 374.69 -3.84554 378.255 Q-5.65109 381.796 -5.65109 388.926 Q-5.65109 396.032 -3.84554 399.597 Q-2.01685 403.139 1.59424 403.139 Q5.22848 403.139 7.03403 399.597 Q8.86272 396.032 8.86272 388.926 Q8.86272 381.796 7.03403 378.255 Q5.22848 374.69 1.59424 374.69 M1.59424 370.986 Q7.4044 370.986 10.4599 375.593 Q13.5386 380.176 13.5386 388.926 Q13.5386 397.653 10.4599 402.259 Q7.4044 406.843 1.59424 406.843 Q-4.21591 406.843 -7.2946 402.259 Q-10.3501 397.653 -10.3501 388.926 Q-10.3501 380.176 -7.2946 375.593 Q-4.21591 370.986 1.59424 370.986 Z\" fill=\"#000000\" fill-rule=\"evenodd\" fill-opacity=\"1\" /><path clip-path=\"url(#clip620)\" d=\"M 0 0 M18.608 400.292 L23.4923 400.292 L23.4923 406.171 L18.608 406.171 L18.608 400.292 Z\" fill=\"#000000\" fill-rule=\"evenodd\" fill-opacity=\"1\" /><path clip-path=\"url(#clip620)\" d=\"M 0 0 M41.4088 375.685 L29.6034 394.134 L41.4088 394.134 L41.4088 375.685 M40.182 371.611 L46.0616 371.611 L46.0616 394.134 L50.9921 394.134 L50.9921 398.023 L46.0616 398.023 L46.0616 406.171 L41.4088 406.171 L41.4088 398.023 L25.8071 398.023 L25.8071 393.509 L40.182 371.611 Z\" fill=\"#000000\" fill-rule=\"evenodd\" fill-opacity=\"1\" /><path clip-path=\"url(#clip620)\" d=\"M 0 0 M1.91831 211.005 Q-1.69278 211.005 -3.52147 214.569 Q-5.32702 218.111 -5.32702 225.241 Q-5.32702 232.347 -3.52147 235.912 Q-1.69278 239.454 1.91831 239.454 Q5.55255 239.454 7.3581 235.912 Q9.18679 232.347 9.18679 225.241 Q9.18679 218.111 7.3581 214.569 Q5.55255 211.005 1.91831 211.005 M1.91831 207.301 Q7.72847 207.301 10.784 211.907 Q13.8627 216.491 13.8627 225.241 Q13.8627 233.968 10.784 238.574 Q7.72847 243.157 1.91831 243.157 Q-3.89184 243.157 -6.97053 238.574 Q-10.0261 233.968 -10.0261 225.241 Q-10.0261 216.491 -6.97053 211.907 Q-3.89184 207.301 1.91831 207.301 Z\" fill=\"#000000\" fill-rule=\"evenodd\" fill-opacity=\"1\" /><path clip-path=\"url(#clip620)\" d=\"M 0 0 M18.9321 236.606 L23.8163 236.606 L23.8163 242.486 L18.9321 242.486 L18.9321 236.606 Z\" fill=\"#000000\" fill-rule=\"evenodd\" fill-opacity=\"1\" /><path clip-path=\"url(#clip620)\" d=\"M 0 0 M39.4644 223.343 Q36.3163 223.343 34.4644 225.495 Q32.6357 227.648 32.6357 231.398 Q32.6357 235.125 34.4644 237.301 Q36.3163 239.454 39.4644 239.454 Q42.6125 239.454 44.4412 237.301 Q46.2931 235.125 46.2931 231.398 Q46.2931 227.648 44.4412 225.495 Q42.6125 223.343 39.4644 223.343 M48.7468 208.69 L48.7468 212.949 Q46.9875 212.116 45.182 211.676 Q43.3996 211.236 41.6403 211.236 Q37.0107 211.236 34.557 214.361 Q32.1265 217.486 31.7793 223.806 Q33.145 221.792 35.2052 220.727 Q37.2653 219.639 39.7422 219.639 Q44.9505 219.639 47.9597 222.81 Q50.9921 225.958 50.9921 231.398 Q50.9921 236.722 47.844 239.94 Q44.6959 243.157 39.4644 243.157 Q33.4691 243.157 30.2978 238.574 Q27.1265 233.968 27.1265 225.241 Q27.1265 217.046 31.0154 212.185 Q34.9042 207.301 41.4551 207.301 Q43.2144 207.301 44.9968 207.648 Q46.8023 207.995 48.7468 208.69 Z\" fill=\"#000000\" fill-rule=\"evenodd\" fill-opacity=\"1\" /><path clip-path=\"url(#clip620)\" d=\"M 0 0 M410.581 6.912 L430.442 6.912 L430.442 10.8472 L415.257 10.8472 L415.257 21.0323 L428.961 21.0323 L428.961 24.9675 L415.257 24.9675 L415.257 41.472 L410.581 41.472 L410.581 6.912 Z\" fill=\"#000000\" fill-rule=\"evenodd\" fill-opacity=\"1\" /><path clip-path=\"url(#clip620)\" d=\"M 0 0 M431.877 31.2406 L431.877 15.5462 L436.137 15.5462 L436.137 31.0785 Q436.137 34.7591 437.572 36.6109 Q439.007 38.4396 441.877 38.4396 Q445.326 38.4396 447.317 36.2405 Q449.331 34.0415 449.331 30.2452 L449.331 15.5462 L453.59 15.5462 L453.59 41.472 L449.331 41.472 L449.331 37.4905 Q447.78 39.8516 445.72 41.009 Q443.683 42.1433 440.975 42.1433 Q436.507 42.1433 434.192 39.3655 Q431.877 36.5878 431.877 31.2406 M442.595 14.9212 L442.595 14.9212 Z\" fill=\"#000000\" fill-rule=\"evenodd\" fill-opacity=\"1\" /><path clip-path=\"url(#clip620)\" d=\"M 0 0 M456.206 15.5462 L476.437 15.5462 L476.437 19.4351 L460.419 38.0692 L476.437 38.0692 L476.437 41.472 L455.627 41.472 L455.627 37.5831 L471.646 18.949 L456.206 18.949 L456.206 15.5462 Z\" fill=\"#000000\" fill-rule=\"evenodd\" fill-opacity=\"1\" /><path clip-path=\"url(#clip620)\" d=\"M 0 0 M479.053 15.5462 L499.284 15.5462 L499.284 19.4351 L483.266 38.0692 L499.284 38.0692 L499.284 41.472 L478.474 41.472 L478.474 37.5831 L494.493 18.949 L479.053 18.949 L479.053 15.5462 Z\" fill=\"#000000\" fill-rule=\"evenodd\" fill-opacity=\"1\" /><path clip-path=\"url(#clip620)\" d=\"M 0 0 M514.539 43.8794 Q512.733 48.509 511.02 49.921 Q509.307 51.3331 506.437 51.3331 L503.034 51.3331 L503.034 47.7683 L505.534 47.7683 Q507.294 47.7683 508.266 46.9349 Q509.238 46.1016 510.419 42.9998 L511.182 41.0553 L500.696 15.5462 L505.21 15.5462 L513.312 35.8239 L521.414 15.5462 L525.928 15.5462 L514.539 43.8794 Z\" fill=\"#000000\" fill-rule=\"evenodd\" fill-opacity=\"1\" /><path clip-path=\"url(#clip620)\" d=\"M 0 0 M542.131 11.5185 L535.789 28.7174 L548.497 28.7174 L542.131 11.5185 M539.493 6.912 L544.793 6.912 L557.965 41.472 L553.104 41.472 L549.955 32.6063 L534.377 32.6063 L531.229 41.472 L526.298 41.472 L539.493 6.912 Z\" fill=\"#000000\" fill-rule=\"evenodd\" fill-opacity=\"1\" /><path clip-path=\"url(#clip620)\" d=\"M 0 0 M579.006 25.2684 Q580.511 25.7776 581.923 27.4443 Q583.358 29.111 584.793 32.0276 L589.539 41.472 L584.515 41.472 L580.094 32.6063 Q578.381 29.1341 576.761 27.9998 Q575.164 26.8656 572.386 26.8656 L567.293 26.8656 L567.293 41.472 L562.617 41.472 L562.617 6.912 L573.173 6.912 Q579.099 6.912 582.015 9.38884 Q584.932 11.8657 584.932 16.8657 Q584.932 20.1295 583.404 22.2823 Q581.9 24.4351 579.006 25.2684 M567.293 10.7546 L567.293 23.023 L573.173 23.023 Q576.552 23.023 578.265 21.4721 Q580.002 19.898 580.002 16.8657 Q580.002 13.8333 578.265 12.3055 Q576.552 10.7546 573.173 10.7546 L567.293 10.7546 Z\" fill=\"#000000\" fill-rule=\"evenodd\" fill-opacity=\"1\" /><path clip-path=\"url(#clip620)\" d=\"M 0 0 M585.951 6.912 L615.187 6.912 L615.187 10.8472 L602.918 10.8472 L602.918 41.472 L598.219 41.472 L598.219 10.8472 L585.951 10.8472 L585.951 6.912 Z\" fill=\"#000000\" fill-rule=\"evenodd\" fill-opacity=\"1\" /><path clip-path=\"url(#clip620)\" d=\"M 0 0 M649.747 19.5277 Q649.029 19.111 648.172 18.9258 Q647.339 18.7175 646.321 18.7175 Q642.71 18.7175 640.765 21.0786 Q638.844 23.4165 638.844 27.8147 L638.844 41.472 L634.561 41.472 L634.561 15.5462 L638.844 15.5462 L638.844 19.574 Q640.186 17.2129 642.339 16.0786 Q644.492 14.9212 647.571 14.9212 Q648.01 14.9212 648.543 14.9907 Q649.075 15.037 649.723 15.1527 L649.747 19.5277 Z\" fill=\"#000000\" fill-rule=\"evenodd\" fill-opacity=\"1\" /><path clip-path=\"url(#clip620)\" d=\"M 0 0 M674.932 25.8239 L674.932 41.472 L670.672 41.472 L670.672 25.9628 Q670.672 22.2823 669.237 20.4536 Q667.802 18.6249 664.932 18.6249 Q661.483 18.6249 659.492 20.824 Q657.501 23.023 657.501 26.8193 L657.501 41.472 L653.219 41.472 L653.219 5.45367 L657.501 5.45367 L657.501 19.574 Q659.029 17.236 661.089 16.0786 Q663.172 14.9212 665.881 14.9212 Q670.348 14.9212 672.64 17.699 Q674.932 20.4536 674.932 25.8239 Z\" fill=\"#000000\" fill-rule=\"evenodd\" fill-opacity=\"1\" /><path clip-path=\"url(#clip620)\" d=\"M 0 0 M689.445 18.5323 Q686.019 18.5323 684.029 21.2175 Q682.038 23.8795 682.038 28.5323 Q682.038 33.185 684.006 35.8702 Q685.996 38.5322 689.445 38.5322 Q692.848 38.5322 694.839 35.847 Q696.83 33.1619 696.83 28.5323 Q696.83 23.9258 694.839 21.2406 Q692.848 18.5323 689.445 18.5323 M689.445 14.9212 Q695.001 14.9212 698.172 18.5323 Q701.343 22.1434 701.343 28.5323 Q701.343 34.898 698.172 38.5322 Q695.001 42.1433 689.445 42.1433 Q683.867 42.1433 680.695 38.5322 Q677.547 34.898 677.547 28.5323 Q677.547 22.1434 680.695 18.5323 Q683.867 14.9212 689.445 14.9212 Z\" fill=\"#000000\" fill-rule=\"evenodd\" fill-opacity=\"1\" /><path clip-path=\"url(#clip620)\" d=\"M 0 0 M721.436 19.9443 L751.112 19.9443 L751.112 23.8332 L721.436 23.8332 L721.436 19.9443 M721.436 29.3887 L751.112 29.3887 L751.112 33.3239 L721.436 33.3239 L721.436 29.3887 Z\" fill=\"#000000\" fill-rule=\"evenodd\" fill-opacity=\"1\" /><path clip-path=\"url(#clip620)\" d=\"M 0 0 M781.25 9.99069 Q777.639 9.99069 775.811 13.5555 Q774.005 17.0971 774.005 24.2267 Q774.005 31.3332 775.811 34.898 Q777.639 38.4396 781.25 38.4396 Q784.885 38.4396 786.69 34.898 Q788.519 31.3332 788.519 24.2267 Q788.519 17.0971 786.69 13.5555 Q784.885 9.99069 781.25 9.99069 M781.25 6.287 Q787.061 6.287 790.116 10.8935 Q793.195 15.4768 793.195 24.2267 Q793.195 32.9535 790.116 37.56 Q787.061 42.1433 781.25 42.1433 Q775.44 42.1433 772.362 37.56 Q769.306 32.9535 769.306 24.2267 Q769.306 15.4768 772.362 10.8935 Q775.44 6.287 781.25 6.287 Z\" fill=\"#000000\" fill-rule=\"evenodd\" fill-opacity=\"1\" /><path clip-path=\"url(#clip620)\" d=\"M 0 0 M798.264 35.5924 L803.148 35.5924 L803.148 41.472 L798.264 41.472 L798.264 35.5924 Z\" fill=\"#000000\" fill-rule=\"evenodd\" fill-opacity=\"1\" /><path clip-path=\"url(#clip620)\" d=\"M 0 0 M808.264 6.912 L826.621 6.912 L826.621 10.8472 L812.547 10.8472 L812.547 19.3193 Q813.565 18.9721 814.584 18.8101 Q815.602 18.6249 816.621 18.6249 Q822.408 18.6249 825.787 21.7962 Q829.167 24.9675 829.167 30.3841 Q829.167 35.9628 825.695 39.0646 Q822.222 42.1433 815.903 42.1433 Q813.727 42.1433 811.459 41.7729 Q809.213 41.4026 806.806 40.6618 L806.806 35.9628 Q808.889 37.097 811.111 37.6526 Q813.334 38.2081 815.81 38.2081 Q819.815 38.2081 822.153 36.1017 Q824.491 33.9952 824.491 30.3841 Q824.491 26.773 822.153 24.6665 Q819.815 22.5601 815.81 22.5601 Q813.935 22.5601 812.06 22.9767 Q810.209 23.3934 808.264 24.273 L808.264 6.912 Z\" fill=\"#000000\" fill-rule=\"evenodd\" fill-opacity=\"1\" /><circle clip-path=\"url(#clip622)\" cx=\"1006.81\" cy=\"830.069\" r=\"14\" fill=\"#009af9\" fill-rule=\"evenodd\" fill-opacity=\"1\" stroke=\"#000000\" stroke-opacity=\"1\" stroke-width=\"3.2\"/>\n",
       "<circle clip-path=\"url(#clip622)\" cx=\"1122.59\" cy=\"600.36\" r=\"14\" fill=\"#009af9\" fill-rule=\"evenodd\" fill-opacity=\"1\" stroke=\"#000000\" stroke-opacity=\"1\" stroke-width=\"3.2\"/>\n",
       "<circle clip-path=\"url(#clip622)\" cx=\"1069.27\" cy=\"828.669\" r=\"14\" fill=\"#009af9\" fill-rule=\"evenodd\" fill-opacity=\"1\" stroke=\"#000000\" stroke-opacity=\"1\" stroke-width=\"3.2\"/>\n",
       "<circle clip-path=\"url(#clip622)\" cx=\"973.323\" cy=\"629.899\" r=\"14\" fill=\"#009af9\" fill-rule=\"evenodd\" fill-opacity=\"1\" stroke=\"#000000\" stroke-opacity=\"1\" stroke-width=\"3.2\"/>\n",
       "<circle clip-path=\"url(#clip622)\" cx=\"969.523\" cy=\"104.257\" r=\"14\" fill=\"#009af9\" fill-rule=\"evenodd\" fill-opacity=\"1\" stroke=\"#000000\" stroke-opacity=\"1\" stroke-width=\"3.2\"/>\n",
       "<circle clip-path=\"url(#clip622)\" cx=\"1063.12\" cy=\"1479.74\" r=\"14\" fill=\"#009af9\" fill-rule=\"evenodd\" fill-opacity=\"1\" stroke=\"#000000\" stroke-opacity=\"1\" stroke-width=\"3.2\"/>\n",
       "<circle clip-path=\"url(#clip622)\" cx=\"1065.54\" cy=\"653.085\" r=\"14\" fill=\"#009af9\" fill-rule=\"evenodd\" fill-opacity=\"1\" stroke=\"#000000\" stroke-opacity=\"1\" stroke-width=\"3.2\"/>\n",
       "<circle clip-path=\"url(#clip622)\" cx=\"1040.75\" cy=\"855.032\" r=\"14\" fill=\"#009af9\" fill-rule=\"evenodd\" fill-opacity=\"1\" stroke=\"#000000\" stroke-opacity=\"1\" stroke-width=\"3.2\"/>\n",
       "<circle clip-path=\"url(#clip622)\" cx=\"1049.7\" cy=\"494.42\" r=\"14\" fill=\"#009af9\" fill-rule=\"evenodd\" fill-opacity=\"1\" stroke=\"#000000\" stroke-opacity=\"1\" stroke-width=\"3.2\"/>\n",
       "<circle clip-path=\"url(#clip622)\" cx=\"990.067\" cy=\"555.918\" r=\"14\" fill=\"#009af9\" fill-rule=\"evenodd\" fill-opacity=\"1\" stroke=\"#000000\" stroke-opacity=\"1\" stroke-width=\"3.2\"/>\n",
       "<circle clip-path=\"url(#clip622)\" cx=\"1028.39\" cy=\"454.946\" r=\"14\" fill=\"#009af9\" fill-rule=\"evenodd\" fill-opacity=\"1\" stroke=\"#000000\" stroke-opacity=\"1\" stroke-width=\"3.2\"/>\n",
       "<circle clip-path=\"url(#clip622)\" cx=\"1027.25\" cy=\"871.825\" r=\"14\" fill=\"#009af9\" fill-rule=\"evenodd\" fill-opacity=\"1\" stroke=\"#000000\" stroke-opacity=\"1\" stroke-width=\"3.2\"/>\n",
       "<circle clip-path=\"url(#clip622)\" cx=\"1006.59\" cy=\"182.701\" r=\"14\" fill=\"#009af9\" fill-rule=\"evenodd\" fill-opacity=\"1\" stroke=\"#000000\" stroke-opacity=\"1\" stroke-width=\"3.2\"/>\n",
       "<circle clip-path=\"url(#clip622)\" cx=\"1019.99\" cy=\"877.813\" r=\"14\" fill=\"#009af9\" fill-rule=\"evenodd\" fill-opacity=\"1\" stroke=\"#000000\" stroke-opacity=\"1\" stroke-width=\"3.2\"/>\n",
       "<circle clip-path=\"url(#clip622)\" cx=\"1029.78\" cy=\"455.072\" r=\"14\" fill=\"#009af9\" fill-rule=\"evenodd\" fill-opacity=\"1\" stroke=\"#000000\" stroke-opacity=\"1\" stroke-width=\"3.2\"/>\n",
       "<circle clip-path=\"url(#clip622)\" cx=\"444.174\" cy=\"455.022\" r=\"14\" fill=\"#e26f46\" fill-rule=\"evenodd\" fill-opacity=\"1\" stroke=\"#000000\" stroke-opacity=\"1\" stroke-width=\"3.2\"/>\n",
       "<circle clip-path=\"url(#clip622)\" cx=\"384.635\" cy=\"984.347\" r=\"14\" fill=\"#e26f46\" fill-rule=\"evenodd\" fill-opacity=\"1\" stroke=\"#000000\" stroke-opacity=\"1\" stroke-width=\"3.2\"/>\n",
       "<circle clip-path=\"url(#clip622)\" cx=\"608.167\" cy=\"1291.24\" r=\"14\" fill=\"#e26f46\" fill-rule=\"evenodd\" fill-opacity=\"1\" stroke=\"#000000\" stroke-opacity=\"1\" stroke-width=\"3.2\"/>\n",
       "<circle clip-path=\"url(#clip622)\" cx=\"357.227\" cy=\"303.62\" r=\"14\" fill=\"#e26f46\" fill-rule=\"evenodd\" fill-opacity=\"1\" stroke=\"#000000\" stroke-opacity=\"1\" stroke-width=\"3.2\"/>\n",
       "<circle clip-path=\"url(#clip622)\" cx=\"384.331\" cy=\"1339.1\" r=\"14\" fill=\"#e26f46\" fill-rule=\"evenodd\" fill-opacity=\"1\" stroke=\"#000000\" stroke-opacity=\"1\" stroke-width=\"3.2\"/>\n",
       "<circle clip-path=\"url(#clip622)\" cx=\"559.232\" cy=\"1045.48\" r=\"14\" fill=\"#e26f46\" fill-rule=\"evenodd\" fill-opacity=\"1\" stroke=\"#000000\" stroke-opacity=\"1\" stroke-width=\"3.2\"/>\n",
       "<circle clip-path=\"url(#clip622)\" cx=\"500.619\" cy=\"1111.79\" r=\"14\" fill=\"#e26f46\" fill-rule=\"evenodd\" fill-opacity=\"1\" stroke=\"#000000\" stroke-opacity=\"1\" stroke-width=\"3.2\"/>\n",
       "<circle clip-path=\"url(#clip622)\" cx=\"386.544\" cy=\"155.28\" r=\"14\" fill=\"#e26f46\" fill-rule=\"evenodd\" fill-opacity=\"1\" stroke=\"#000000\" stroke-opacity=\"1\" stroke-width=\"3.2\"/>\n",
       "<circle clip-path=\"url(#clip622)\" cx=\"451.084\" cy=\"743.935\" r=\"14\" fill=\"#e26f46\" fill-rule=\"evenodd\" fill-opacity=\"1\" stroke=\"#000000\" stroke-opacity=\"1\" stroke-width=\"3.2\"/>\n",
       "<circle clip-path=\"url(#clip622)\" cx=\"513.077\" cy=\"799.974\" r=\"14\" fill=\"#e26f46\" fill-rule=\"evenodd\" fill-opacity=\"1\" stroke=\"#000000\" stroke-opacity=\"1\" stroke-width=\"3.2\"/>\n",
       "<circle clip-path=\"url(#clip622)\" cx=\"446.122\" cy=\"865.535\" r=\"14\" fill=\"#e26f46\" fill-rule=\"evenodd\" fill-opacity=\"1\" stroke=\"#000000\" stroke-opacity=\"1\" stroke-width=\"3.2\"/>\n",
       "<circle clip-path=\"url(#clip622)\" cx=\"418.87\" cy=\"654.56\" r=\"14\" fill=\"#e26f46\" fill-rule=\"evenodd\" fill-opacity=\"1\" stroke=\"#000000\" stroke-opacity=\"1\" stroke-width=\"3.2\"/>\n",
       "<circle clip-path=\"url(#clip622)\" cx=\"479.892\" cy=\"593.187\" r=\"14\" fill=\"#e26f46\" fill-rule=\"evenodd\" fill-opacity=\"1\" stroke=\"#000000\" stroke-opacity=\"1\" stroke-width=\"3.2\"/>\n",
       "<circle clip-path=\"url(#clip622)\" cx=\"553.76\" cy=\"1164.67\" r=\"14\" fill=\"#e26f46\" fill-rule=\"evenodd\" fill-opacity=\"1\" stroke=\"#000000\" stroke-opacity=\"1\" stroke-width=\"3.2\"/>\n",
       "<circle clip-path=\"url(#clip622)\" cx=\"212.377\" cy=\"750.54\" r=\"14\" fill=\"#3da44d\" fill-rule=\"evenodd\" fill-opacity=\"1\" stroke=\"#000000\" stroke-opacity=\"1\" stroke-width=\"3.2\"/>\n",
       "<circle clip-path=\"url(#clip622)\" cx=\"405.506\" cy=\"850.895\" r=\"14\" fill=\"#3da44d\" fill-rule=\"evenodd\" fill-opacity=\"1\" stroke=\"#000000\" stroke-opacity=\"1\" stroke-width=\"3.2\"/>\n",
       "<circle clip-path=\"url(#clip622)\" cx=\"285.137\" cy=\"676.938\" r=\"14\" fill=\"#3da44d\" fill-rule=\"evenodd\" fill-opacity=\"1\" stroke=\"#000000\" stroke-opacity=\"1\" stroke-width=\"3.2\"/>\n",
       "<circle clip-path=\"url(#clip622)\" cx=\"305.616\" cy=\"1126.67\" r=\"14\" fill=\"#3da44d\" fill-rule=\"evenodd\" fill-opacity=\"1\" stroke=\"#000000\" stroke-opacity=\"1\" stroke-width=\"3.2\"/>\n",
       "<circle clip-path=\"url(#clip622)\" cx=\"371.181\" cy=\"1060.99\" r=\"14\" fill=\"#3da44d\" fill-rule=\"evenodd\" fill-opacity=\"1\" stroke=\"#000000\" stroke-opacity=\"1\" stroke-width=\"3.2\"/>\n",
       "<circle clip-path=\"url(#clip622)\" cx=\"400.723\" cy=\"1211.88\" r=\"14\" fill=\"#3da44d\" fill-rule=\"evenodd\" fill-opacity=\"1\" stroke=\"#000000\" stroke-opacity=\"1\" stroke-width=\"3.2\"/>\n",
       "<circle clip-path=\"url(#clip622)\" cx=\"224.464\" cy=\"443.409\" r=\"14\" fill=\"#3da44d\" fill-rule=\"evenodd\" fill-opacity=\"1\" stroke=\"#000000\" stroke-opacity=\"1\" stroke-width=\"3.2\"/>\n",
       "<circle clip-path=\"url(#clip622)\" cx=\"301.904\" cy=\"893.168\" r=\"14\" fill=\"#3da44d\" fill-rule=\"evenodd\" fill-opacity=\"1\" stroke=\"#000000\" stroke-opacity=\"1\" stroke-width=\"3.2\"/>\n",
       "<circle clip-path=\"url(#clip622)\" cx=\"242.531\" cy=\"540.071\" r=\"14\" fill=\"#3da44d\" fill-rule=\"evenodd\" fill-opacity=\"1\" stroke=\"#000000\" stroke-opacity=\"1\" stroke-width=\"3.2\"/>\n",
       "<circle clip-path=\"url(#clip622)\" cx=\"277.878\" cy=\"682.927\" r=\"14\" fill=\"#3da44d\" fill-rule=\"evenodd\" fill-opacity=\"1\" stroke=\"#000000\" stroke-opacity=\"1\" stroke-width=\"3.2\"/>\n",
       "<circle clip-path=\"url(#clip622)\" cx=\"414.11\" cy=\"785.185\" r=\"14\" fill=\"#3da44d\" fill-rule=\"evenodd\" fill-opacity=\"1\" stroke=\"#000000\" stroke-opacity=\"1\" stroke-width=\"3.2\"/>\n",
       "<circle clip-path=\"url(#clip622)\" cx=\"390.988\" cy=\"862.872\" r=\"14\" fill=\"#3da44d\" fill-rule=\"evenodd\" fill-opacity=\"1\" stroke=\"#000000\" stroke-opacity=\"1\" stroke-width=\"3.2\"/>\n",
       "<circle clip-path=\"url(#clip622)\" cx=\"217.298\" cy=\"917.225\" r=\"14\" fill=\"#3da44d\" fill-rule=\"evenodd\" fill-opacity=\"1\" stroke=\"#000000\" stroke-opacity=\"1\" stroke-width=\"3.2\"/>\n",
       "<circle clip-path=\"url(#clip622)\" cx=\"117.155\" cy=\"427.867\" r=\"14\" fill=\"#3da44d\" fill-rule=\"evenodd\" fill-opacity=\"1\" stroke=\"#000000\" stroke-opacity=\"1\" stroke-width=\"3.2\"/>\n",
       "<circle clip-path=\"url(#clip622)\" cx=\"245.866\" cy=\"602.577\" r=\"14\" fill=\"#3da44d\" fill-rule=\"evenodd\" fill-opacity=\"1\" stroke=\"#000000\" stroke-opacity=\"1\" stroke-width=\"3.2\"/>\n",
       "<circle clip-path=\"url(#clip622)\" cx=\"337.404\" cy=\"1157.64\" r=\"14\" fill=\"#3da44d\" fill-rule=\"evenodd\" fill-opacity=\"1\" stroke=\"#000000\" stroke-opacity=\"1\" stroke-width=\"3.2\"/>\n",
       "<path clip-path=\"url(#clip620)\" d=\"\n",
       "M1286.99 1521.01 L2352.76 1521.01 L2352.76 62.9921 L1286.99 62.9921  Z\n",
       "  \" fill=\"#ffffff\" fill-rule=\"evenodd\" fill-opacity=\"1\"/>\n",
       "<defs>\n",
       "  <clipPath id=\"clip623\">\n",
       "    <rect x=\"1286\" y=\"62\" width=\"1067\" height=\"1459\"/>\n",
       "  </clipPath>\n",
       "</defs>\n",
       "<polyline clip-path=\"url(#clip623)\" style=\"stroke:#000000; stroke-width:2; stroke-opacity:0.1; fill:none\" points=\"\n",
       "  1306.04,1521.01 1306.04,62.9921 \n",
       "  \"/>\n",
       "<polyline clip-path=\"url(#clip623)\" style=\"stroke:#000000; stroke-width:2; stroke-opacity:0.1; fill:none\" points=\"\n",
       "  1469.58,1521.01 1469.58,62.9921 \n",
       "  \"/>\n",
       "<polyline clip-path=\"url(#clip623)\" style=\"stroke:#000000; stroke-width:2; stroke-opacity:0.1; fill:none\" points=\"\n",
       "  1633.12,1521.01 1633.12,62.9921 \n",
       "  \"/>\n",
       "<polyline clip-path=\"url(#clip623)\" style=\"stroke:#000000; stroke-width:2; stroke-opacity:0.1; fill:none\" points=\"\n",
       "  1796.66,1521.01 1796.66,62.9921 \n",
       "  \"/>\n",
       "<polyline clip-path=\"url(#clip623)\" style=\"stroke:#000000; stroke-width:2; stroke-opacity:0.1; fill:none\" points=\"\n",
       "  1960.21,1521.01 1960.21,62.9921 \n",
       "  \"/>\n",
       "<polyline clip-path=\"url(#clip623)\" style=\"stroke:#000000; stroke-width:2; stroke-opacity:0.1; fill:none\" points=\"\n",
       "  2123.75,1521.01 2123.75,62.9921 \n",
       "  \"/>\n",
       "<polyline clip-path=\"url(#clip623)\" style=\"stroke:#000000; stroke-width:2; stroke-opacity:0.1; fill:none\" points=\"\n",
       "  2287.29,1521.01 2287.29,62.9921 \n",
       "  \"/>\n",
       "<polyline clip-path=\"url(#clip620)\" style=\"stroke:#000000; stroke-width:4; stroke-opacity:1; fill:none\" points=\"\n",
       "  1286.99,1521.01 2352.76,1521.01 \n",
       "  \"/>\n",
       "<polyline clip-path=\"url(#clip620)\" style=\"stroke:#000000; stroke-width:4; stroke-opacity:1; fill:none\" points=\"\n",
       "  1306.04,1521.01 1306.04,1503.51 \n",
       "  \"/>\n",
       "<polyline clip-path=\"url(#clip620)\" style=\"stroke:#000000; stroke-width:4; stroke-opacity:1; fill:none\" points=\"\n",
       "  1469.58,1521.01 1469.58,1503.51 \n",
       "  \"/>\n",
       "<polyline clip-path=\"url(#clip620)\" style=\"stroke:#000000; stroke-width:4; stroke-opacity:1; fill:none\" points=\"\n",
       "  1633.12,1521.01 1633.12,1503.51 \n",
       "  \"/>\n",
       "<polyline clip-path=\"url(#clip620)\" style=\"stroke:#000000; stroke-width:4; stroke-opacity:1; fill:none\" points=\"\n",
       "  1796.66,1521.01 1796.66,1503.51 \n",
       "  \"/>\n",
       "<polyline clip-path=\"url(#clip620)\" style=\"stroke:#000000; stroke-width:4; stroke-opacity:1; fill:none\" points=\"\n",
       "  1960.21,1521.01 1960.21,1503.51 \n",
       "  \"/>\n",
       "<polyline clip-path=\"url(#clip620)\" style=\"stroke:#000000; stroke-width:4; stroke-opacity:1; fill:none\" points=\"\n",
       "  2123.75,1521.01 2123.75,1503.51 \n",
       "  \"/>\n",
       "<polyline clip-path=\"url(#clip620)\" style=\"stroke:#000000; stroke-width:4; stroke-opacity:1; fill:none\" points=\"\n",
       "  2287.29,1521.01 2287.29,1503.51 \n",
       "  \"/>\n",
       "<path clip-path=\"url(#clip620)\" d=\"M 0 0 M1285.02 1558.69 L1307.28 1558.69 L1307.28 1561.64 L1285.02 1561.64 L1285.02 1558.69 Z\" fill=\"#000000\" fill-rule=\"evenodd\" fill-opacity=\"1\" /><path clip-path=\"url(#clip620)\" d=\"M 0 0 M1321.7 1557.34 Q1324.22 1557.87 1325.63 1559.58 Q1327.05 1561.28 1327.05 1563.78 Q1327.05 1567.61 1324.41 1569.71 Q1321.77 1571.82 1316.91 1571.82 Q1315.28 1571.82 1313.54 1571.49 Q1311.83 1571.17 1309.98 1570.53 L1309.98 1567.15 Q1311.44 1568 1313.18 1568.43 Q1314.92 1568.86 1316.81 1568.86 Q1320.11 1568.86 1321.83 1567.56 Q1323.56 1566.26 1323.56 1563.78 Q1323.56 1561.49 1321.95 1560.2 Q1320.35 1558.9 1317.48 1558.9 L1314.46 1558.9 L1314.46 1556.02 L1317.62 1556.02 Q1320.21 1556.02 1321.58 1554.99 Q1322.95 1553.95 1322.95 1552.01 Q1322.95 1550.01 1321.53 1548.95 Q1320.12 1547.87 1317.48 1547.87 Q1316.04 1547.87 1314.39 1548.19 Q1312.75 1548.5 1310.77 1549.16 L1310.77 1546.03 Q1312.76 1545.48 1314.5 1545.2 Q1316.25 1544.92 1317.8 1544.92 Q1321.79 1544.92 1324.12 1546.75 Q1326.44 1548.55 1326.44 1551.64 Q1326.44 1553.79 1325.21 1555.29 Q1323.98 1556.76 1321.7 1557.34 Z\" fill=\"#000000\" fill-rule=\"evenodd\" fill-opacity=\"1\" /><path clip-path=\"url(#clip620)\" d=\"M 0 0 M1448.92 1558.69 L1471.18 1558.69 L1471.18 1561.64 L1448.92 1561.64 L1448.92 1558.69 Z\" fill=\"#000000\" fill-rule=\"evenodd\" fill-opacity=\"1\" /><path clip-path=\"url(#clip620)\" d=\"M 0 0 M1478 1568.36 L1490.24 1568.36 L1490.24 1571.31 L1473.78 1571.31 L1473.78 1568.36 Q1475.78 1566.29 1479.21 1562.82 Q1482.67 1559.33 1483.55 1558.33 Q1485.24 1556.43 1485.9 1555.13 Q1486.57 1553.81 1486.57 1552.54 Q1486.57 1550.48 1485.12 1549.18 Q1483.67 1547.87 1481.35 1547.87 Q1479.7 1547.87 1477.86 1548.45 Q1476.04 1549.02 1473.95 1550.18 L1473.95 1546.64 Q1476.07 1545.79 1477.91 1545.36 Q1479.75 1544.92 1481.28 1544.92 Q1485.31 1544.92 1487.7 1546.94 Q1490.1 1548.95 1490.1 1552.32 Q1490.1 1553.92 1489.49 1555.36 Q1488.9 1556.78 1487.32 1558.73 Q1486.89 1559.23 1484.56 1561.64 Q1482.23 1564.04 1478 1568.36 Z\" fill=\"#000000\" fill-rule=\"evenodd\" fill-opacity=\"1\" /><path clip-path=\"url(#clip620)\" d=\"M 0 0 M1612.32 1558.69 L1634.58 1558.69 L1634.58 1561.64 L1612.32 1561.64 L1612.32 1558.69 Z\" fill=\"#000000\" fill-rule=\"evenodd\" fill-opacity=\"1\" /><path clip-path=\"url(#clip620)\" d=\"M 0 0 M1638.99 1568.36 L1644.72 1568.36 L1644.72 1548.59 L1638.48 1549.84 L1638.48 1546.64 L1644.68 1545.39 L1648.19 1545.39 L1648.19 1568.36 L1653.92 1568.36 L1653.92 1571.31 L1638.99 1571.31 L1638.99 1568.36 Z\" fill=\"#000000\" fill-rule=\"evenodd\" fill-opacity=\"1\" /><path clip-path=\"url(#clip620)\" d=\"M 0 0 M1796.66 1547.7 Q1793.95 1547.7 1792.58 1550.37 Q1791.23 1553.03 1791.23 1558.38 Q1791.23 1563.71 1792.58 1566.38 Q1793.95 1569.04 1796.66 1569.04 Q1799.39 1569.04 1800.74 1566.38 Q1802.11 1563.71 1802.11 1558.38 Q1802.11 1553.03 1800.74 1550.37 Q1799.39 1547.7 1796.66 1547.7 M1796.66 1544.92 Q1801.02 1544.92 1803.31 1548.38 Q1805.62 1551.82 1805.62 1558.38 Q1805.62 1564.92 1803.31 1568.38 Q1801.02 1571.82 1796.66 1571.82 Q1792.31 1571.82 1790 1568.38 Q1787.7 1564.92 1787.7 1558.38 Q1787.7 1551.82 1790 1548.38 Q1792.31 1544.92 1796.66 1544.92 Z\" fill=\"#000000\" fill-rule=\"evenodd\" fill-opacity=\"1\" /><path clip-path=\"url(#clip620)\" d=\"M 0 0 M1952.99 1568.36 L1958.72 1568.36 L1958.72 1548.59 L1952.49 1549.84 L1952.49 1546.64 L1958.69 1545.39 L1962.19 1545.39 L1962.19 1568.36 L1967.92 1568.36 L1967.92 1571.31 L1952.99 1571.31 L1952.99 1568.36 Z\" fill=\"#000000\" fill-rule=\"evenodd\" fill-opacity=\"1\" /><path clip-path=\"url(#clip620)\" d=\"M 0 0 M2119.74 1568.36 L2131.98 1568.36 L2131.98 1571.31 L2115.52 1571.31 L2115.52 1568.36 Q2117.52 1566.29 2120.95 1562.82 Q2124.41 1559.33 2125.29 1558.33 Q2126.98 1556.43 2127.64 1555.13 Q2128.31 1553.81 2128.31 1552.54 Q2128.31 1550.48 2126.86 1549.18 Q2125.41 1547.87 2123.09 1547.87 Q2121.44 1547.87 2119.6 1548.45 Q2117.78 1549.02 2115.69 1550.18 L2115.69 1546.64 Q2117.81 1545.79 2119.65 1545.36 Q2121.49 1544.92 2123.02 1544.92 Q2127.05 1544.92 2129.44 1546.94 Q2131.84 1548.95 2131.84 1552.32 Q2131.84 1553.92 2131.23 1555.36 Q2130.64 1556.78 2129.06 1558.73 Q2128.63 1559.23 2126.3 1561.64 Q2123.97 1564.04 2119.74 1568.36 Z\" fill=\"#000000\" fill-rule=\"evenodd\" fill-opacity=\"1\" /><path clip-path=\"url(#clip620)\" d=\"M 0 0 M2290.48 1557.34 Q2292.99 1557.87 2294.4 1559.58 Q2295.82 1561.28 2295.82 1563.78 Q2295.82 1567.61 2293.18 1569.71 Q2290.55 1571.82 2285.68 1571.82 Q2284.05 1571.82 2282.32 1571.49 Q2280.6 1571.17 2278.76 1570.53 L2278.76 1567.15 Q2280.22 1568 2281.95 1568.43 Q2283.69 1568.86 2285.58 1568.86 Q2288.88 1568.86 2290.6 1567.56 Q2292.33 1566.26 2292.33 1563.78 Q2292.33 1561.49 2290.72 1560.2 Q2289.12 1558.9 2286.26 1558.9 L2283.24 1558.9 L2283.24 1556.02 L2286.4 1556.02 Q2288.98 1556.02 2290.36 1554.99 Q2291.73 1553.95 2291.73 1552.01 Q2291.73 1550.01 2290.3 1548.95 Q2288.9 1547.87 2286.26 1547.87 Q2284.82 1547.87 2283.17 1548.19 Q2281.52 1548.5 2279.54 1549.16 L2279.54 1546.03 Q2281.54 1545.48 2283.27 1545.2 Q2285.03 1544.92 2286.57 1544.92 Q2290.56 1544.92 2292.89 1546.75 Q2295.22 1548.55 2295.22 1551.64 Q2295.22 1553.79 2293.98 1555.29 Q2292.75 1556.76 2290.48 1557.34 Z\" fill=\"#000000\" fill-rule=\"evenodd\" fill-opacity=\"1\" /><polyline clip-path=\"url(#clip623)\" style=\"stroke:#000000; stroke-width:2; stroke-opacity:0.1; fill:none\" points=\"\n",
       "  1286.99,1371 2352.76,1371 \n",
       "  \"/>\n",
       "<polyline clip-path=\"url(#clip623)\" style=\"stroke:#000000; stroke-width:2; stroke-opacity:0.1; fill:none\" points=\"\n",
       "  1286.99,1207.32 2352.76,1207.32 \n",
       "  \"/>\n",
       "<polyline clip-path=\"url(#clip623)\" style=\"stroke:#000000; stroke-width:2; stroke-opacity:0.1; fill:none\" points=\"\n",
       "  1286.99,1043.63 2352.76,1043.63 \n",
       "  \"/>\n",
       "<polyline clip-path=\"url(#clip623)\" style=\"stroke:#000000; stroke-width:2; stroke-opacity:0.1; fill:none\" points=\"\n",
       "  1286.99,879.947 2352.76,879.947 \n",
       "  \"/>\n",
       "<polyline clip-path=\"url(#clip623)\" style=\"stroke:#000000; stroke-width:2; stroke-opacity:0.1; fill:none\" points=\"\n",
       "  1286.99,716.262 2352.76,716.262 \n",
       "  \"/>\n",
       "<polyline clip-path=\"url(#clip623)\" style=\"stroke:#000000; stroke-width:2; stroke-opacity:0.1; fill:none\" points=\"\n",
       "  1286.99,552.576 2352.76,552.576 \n",
       "  \"/>\n",
       "<polyline clip-path=\"url(#clip623)\" style=\"stroke:#000000; stroke-width:2; stroke-opacity:0.1; fill:none\" points=\"\n",
       "  1286.99,388.891 2352.76,388.891 \n",
       "  \"/>\n",
       "<polyline clip-path=\"url(#clip623)\" style=\"stroke:#000000; stroke-width:2; stroke-opacity:0.1; fill:none\" points=\"\n",
       "  1286.99,225.206 2352.76,225.206 \n",
       "  \"/>\n",
       "<polyline clip-path=\"url(#clip620)\" style=\"stroke:#000000; stroke-width:4; stroke-opacity:1; fill:none\" points=\"\n",
       "  1286.99,1521.01 1286.99,62.9921 \n",
       "  \"/>\n",
       "<polyline clip-path=\"url(#clip620)\" style=\"stroke:#000000; stroke-width:4; stroke-opacity:1; fill:none\" points=\"\n",
       "  1286.99,1371 1299.78,1371 \n",
       "  \"/>\n",
       "<polyline clip-path=\"url(#clip620)\" style=\"stroke:#000000; stroke-width:4; stroke-opacity:1; fill:none\" points=\"\n",
       "  1286.99,1207.32 1299.78,1207.32 \n",
       "  \"/>\n",
       "<polyline clip-path=\"url(#clip620)\" style=\"stroke:#000000; stroke-width:4; stroke-opacity:1; fill:none\" points=\"\n",
       "  1286.99,1043.63 1299.78,1043.63 \n",
       "  \"/>\n",
       "<polyline clip-path=\"url(#clip620)\" style=\"stroke:#000000; stroke-width:4; stroke-opacity:1; fill:none\" points=\"\n",
       "  1286.99,879.947 1299.78,879.947 \n",
       "  \"/>\n",
       "<polyline clip-path=\"url(#clip620)\" style=\"stroke:#000000; stroke-width:4; stroke-opacity:1; fill:none\" points=\"\n",
       "  1286.99,716.262 1299.78,716.262 \n",
       "  \"/>\n",
       "<polyline clip-path=\"url(#clip620)\" style=\"stroke:#000000; stroke-width:4; stroke-opacity:1; fill:none\" points=\"\n",
       "  1286.99,552.576 1299.78,552.576 \n",
       "  \"/>\n",
       "<polyline clip-path=\"url(#clip620)\" style=\"stroke:#000000; stroke-width:4; stroke-opacity:1; fill:none\" points=\"\n",
       "  1286.99,388.891 1299.78,388.891 \n",
       "  \"/>\n",
       "<polyline clip-path=\"url(#clip620)\" style=\"stroke:#000000; stroke-width:4; stroke-opacity:1; fill:none\" points=\"\n",
       "  1286.99,225.206 1299.78,225.206 \n",
       "  \"/>\n",
       "<path clip-path=\"url(#clip620)\" d=\"M 0 0 M1157.43 1371.45 L1187.1 1371.45 L1187.1 1375.39 L1157.43 1375.39 L1157.43 1371.45 Z\" fill=\"#000000\" fill-rule=\"evenodd\" fill-opacity=\"1\" /><path clip-path=\"url(#clip620)\" d=\"M 0 0 M1202.17 1356.8 Q1198.56 1356.8 1196.73 1360.37 Q1194.93 1363.91 1194.93 1371.04 Q1194.93 1378.14 1196.73 1381.71 Q1198.56 1385.25 1202.17 1385.25 Q1205.81 1385.25 1207.61 1381.71 Q1209.44 1378.14 1209.44 1371.04 Q1209.44 1363.91 1207.61 1360.37 Q1205.81 1356.8 1202.17 1356.8 M1202.17 1353.1 Q1207.98 1353.1 1211.04 1357.7 Q1214.12 1362.29 1214.12 1371.04 Q1214.12 1379.76 1211.04 1384.37 Q1207.98 1388.95 1202.17 1388.95 Q1196.36 1388.95 1193.28 1384.37 Q1190.23 1379.76 1190.23 1371.04 Q1190.23 1362.29 1193.28 1357.7 Q1196.36 1353.1 1202.17 1353.1 Z\" fill=\"#000000\" fill-rule=\"evenodd\" fill-opacity=\"1\" /><path clip-path=\"url(#clip620)\" d=\"M 0 0 M1219.19 1382.4 L1224.07 1382.4 L1224.07 1388.28 L1219.19 1388.28 L1219.19 1382.4 Z\" fill=\"#000000\" fill-rule=\"evenodd\" fill-opacity=\"1\" /><path clip-path=\"url(#clip620)\" d=\"M 0 0 M1239.14 1371.87 Q1235.81 1371.87 1233.89 1373.65 Q1231.99 1375.44 1231.99 1378.56 Q1231.99 1381.69 1233.89 1383.47 Q1235.81 1385.25 1239.14 1385.25 Q1242.47 1385.25 1244.39 1383.47 Q1246.32 1381.66 1246.32 1378.56 Q1246.32 1375.44 1244.39 1373.65 Q1242.5 1371.87 1239.14 1371.87 M1234.46 1369.88 Q1231.46 1369.14 1229.77 1367.08 Q1228.1 1365.02 1228.1 1362.06 Q1228.1 1357.91 1231.04 1355.51 Q1234 1353.1 1239.14 1353.1 Q1244.3 1353.1 1247.24 1355.51 Q1250.18 1357.91 1250.18 1362.06 Q1250.18 1365.02 1248.49 1367.08 Q1246.83 1369.14 1243.84 1369.88 Q1247.22 1370.67 1249.09 1372.96 Q1250.99 1375.25 1250.99 1378.56 Q1250.99 1383.58 1247.91 1386.27 Q1244.86 1388.95 1239.14 1388.95 Q1233.42 1388.95 1230.34 1386.27 Q1227.29 1383.58 1227.29 1378.56 Q1227.29 1375.25 1229.19 1372.96 Q1231.08 1370.67 1234.46 1369.88 M1232.75 1362.5 Q1232.75 1365.18 1234.42 1366.69 Q1236.11 1368.19 1239.14 1368.19 Q1242.15 1368.19 1243.84 1366.69 Q1245.55 1365.18 1245.55 1362.5 Q1245.55 1359.81 1243.84 1358.31 Q1242.15 1356.8 1239.14 1356.8 Q1236.11 1356.8 1234.42 1358.31 Q1232.75 1359.81 1232.75 1362.5 Z\" fill=\"#000000\" fill-rule=\"evenodd\" fill-opacity=\"1\" /><path clip-path=\"url(#clip620)\" d=\"M 0 0 M1157.17 1207.77 L1186.85 1207.77 L1186.85 1211.7 L1157.17 1211.7 L1157.17 1207.77 Z\" fill=\"#000000\" fill-rule=\"evenodd\" fill-opacity=\"1\" /><path clip-path=\"url(#clip620)\" d=\"M 0 0 M1201.92 1193.12 Q1198.31 1193.12 1196.48 1196.68 Q1194.67 1200.22 1194.67 1207.35 Q1194.67 1214.46 1196.48 1218.02 Q1198.31 1221.57 1201.92 1221.57 Q1205.55 1221.57 1207.36 1218.02 Q1209.19 1214.46 1209.19 1207.35 Q1209.19 1200.22 1207.36 1196.68 Q1205.55 1193.12 1201.92 1193.12 M1201.92 1189.41 Q1207.73 1189.41 1210.78 1194.02 Q1213.86 1198.6 1213.86 1207.35 Q1213.86 1216.08 1210.78 1220.69 Q1207.73 1225.27 1201.92 1225.27 Q1196.11 1225.27 1193.03 1220.69 Q1189.97 1216.08 1189.97 1207.35 Q1189.97 1198.6 1193.03 1194.02 Q1196.11 1189.41 1201.92 1189.41 Z\" fill=\"#000000\" fill-rule=\"evenodd\" fill-opacity=\"1\" /><path clip-path=\"url(#clip620)\" d=\"M 0 0 M1218.93 1218.72 L1223.82 1218.72 L1223.82 1224.6 L1218.93 1224.6 L1218.93 1218.72 Z\" fill=\"#000000\" fill-rule=\"evenodd\" fill-opacity=\"1\" /><path clip-path=\"url(#clip620)\" d=\"M 0 0 M1239.46 1205.45 Q1236.32 1205.45 1234.46 1207.61 Q1232.64 1209.76 1232.64 1213.51 Q1232.64 1217.24 1234.46 1219.41 Q1236.32 1221.57 1239.46 1221.57 Q1242.61 1221.57 1244.44 1219.41 Q1246.29 1217.24 1246.29 1213.51 Q1246.29 1209.76 1244.44 1207.61 Q1242.61 1205.45 1239.46 1205.45 M1248.75 1190.8 L1248.75 1195.06 Q1246.99 1194.23 1245.18 1193.79 Q1243.4 1193.35 1241.64 1193.35 Q1237.01 1193.35 1234.56 1196.47 Q1232.13 1199.6 1231.78 1205.92 Q1233.14 1203.9 1235.21 1202.84 Q1237.27 1201.75 1239.74 1201.75 Q1244.95 1201.75 1247.96 1204.92 Q1250.99 1208.07 1250.99 1213.51 Q1250.99 1218.83 1247.84 1222.05 Q1244.7 1225.27 1239.46 1225.27 Q1233.47 1225.27 1230.3 1220.69 Q1227.13 1216.08 1227.13 1207.35 Q1227.13 1199.16 1231.02 1194.3 Q1234.9 1189.41 1241.46 1189.41 Q1243.21 1189.41 1245 1189.76 Q1246.8 1190.11 1248.75 1190.8 Z\" fill=\"#000000\" fill-rule=\"evenodd\" fill-opacity=\"1\" /><path clip-path=\"url(#clip620)\" d=\"M 0 0 M1156.85 1044.08 L1186.52 1044.08 L1186.52 1048.02 L1156.85 1048.02 L1156.85 1044.08 Z\" fill=\"#000000\" fill-rule=\"evenodd\" fill-opacity=\"1\" /><path clip-path=\"url(#clip620)\" d=\"M 0 0 M1201.59 1029.43 Q1197.98 1029.43 1196.15 1033 Q1194.35 1036.54 1194.35 1043.67 Q1194.35 1050.77 1196.15 1054.34 Q1197.98 1057.88 1201.59 1057.88 Q1205.23 1057.88 1207.03 1054.34 Q1208.86 1050.77 1208.86 1043.67 Q1208.86 1036.54 1207.03 1033 Q1205.23 1029.43 1201.59 1029.43 M1201.59 1025.73 Q1207.4 1025.73 1210.46 1030.33 Q1213.54 1034.92 1213.54 1043.67 Q1213.54 1052.39 1210.46 1057 Q1207.4 1061.58 1201.59 1061.58 Q1195.78 1061.58 1192.71 1057 Q1189.65 1052.39 1189.65 1043.67 Q1189.65 1034.92 1192.71 1030.33 Q1195.78 1025.73 1201.59 1025.73 Z\" fill=\"#000000\" fill-rule=\"evenodd\" fill-opacity=\"1\" /><path clip-path=\"url(#clip620)\" d=\"M 0 0 M1218.61 1055.03 L1223.49 1055.03 L1223.49 1060.91 L1218.61 1060.91 L1218.61 1055.03 Z\" fill=\"#000000\" fill-rule=\"evenodd\" fill-opacity=\"1\" /><path clip-path=\"url(#clip620)\" d=\"M 0 0 M1241.41 1030.43 L1229.6 1048.88 L1241.41 1048.88 L1241.41 1030.43 M1240.18 1026.35 L1246.06 1026.35 L1246.06 1048.88 L1250.99 1048.88 L1250.99 1052.76 L1246.06 1052.76 L1246.06 1060.91 L1241.41 1060.91 L1241.41 1052.76 L1225.81 1052.76 L1225.81 1048.25 L1240.18 1026.35 Z\" fill=\"#000000\" fill-rule=\"evenodd\" fill-opacity=\"1\" /><path clip-path=\"url(#clip620)\" d=\"M 0 0 M1158.93 880.398 L1188.61 880.398 L1188.61 884.334 L1158.93 884.334 L1158.93 880.398 Z\" fill=\"#000000\" fill-rule=\"evenodd\" fill-opacity=\"1\" /><path clip-path=\"url(#clip620)\" d=\"M 0 0 M1203.68 865.746 Q1200.07 865.746 1198.24 869.31 Q1196.43 872.852 1196.43 879.982 Q1196.43 887.088 1198.24 890.653 Q1200.07 894.195 1203.68 894.195 Q1207.31 894.195 1209.12 890.653 Q1210.95 887.088 1210.95 879.982 Q1210.95 872.852 1209.12 869.31 Q1207.31 865.746 1203.68 865.746 M1203.68 862.042 Q1209.49 862.042 1212.54 866.648 Q1215.62 871.232 1215.62 879.982 Q1215.62 888.709 1212.54 893.315 Q1209.49 897.898 1203.68 897.898 Q1197.87 897.898 1194.79 893.315 Q1191.73 888.709 1191.73 879.982 Q1191.73 871.232 1194.79 866.648 Q1197.87 862.042 1203.68 862.042 Z\" fill=\"#000000\" fill-rule=\"evenodd\" fill-opacity=\"1\" /><path clip-path=\"url(#clip620)\" d=\"M 0 0 M1220.69 891.347 L1225.58 891.347 L1225.58 897.227 L1220.69 897.227 L1220.69 891.347 Z\" fill=\"#000000\" fill-rule=\"evenodd\" fill-opacity=\"1\" /><path clip-path=\"url(#clip620)\" d=\"M 0 0 M1234.67 893.292 L1250.99 893.292 L1250.99 897.227 L1229.05 897.227 L1229.05 893.292 Q1231.71 890.537 1236.29 885.908 Q1240.9 881.255 1242.08 879.912 Q1244.33 877.389 1245.21 875.653 Q1246.11 873.894 1246.11 872.204 Q1246.11 869.449 1244.16 867.713 Q1242.24 865.977 1239.14 865.977 Q1236.94 865.977 1234.49 866.741 Q1232.06 867.505 1229.28 869.056 L1229.28 864.334 Q1232.1 863.199 1234.56 862.621 Q1237.01 862.042 1239.05 862.042 Q1244.42 862.042 1247.61 864.727 Q1250.81 867.412 1250.81 871.903 Q1250.81 874.033 1250 875.954 Q1249.21 877.852 1247.1 880.445 Q1246.52 881.116 1243.42 884.334 Q1240.32 887.528 1234.67 893.292 Z\" fill=\"#000000\" fill-rule=\"evenodd\" fill-opacity=\"1\" /><path clip-path=\"url(#clip620)\" d=\"M 0 0 M1202.08 702.06 Q1198.47 702.06 1196.64 705.625 Q1194.84 709.167 1194.84 716.296 Q1194.84 723.403 1196.64 726.968 Q1198.47 730.509 1202.08 730.509 Q1205.71 730.509 1207.52 726.968 Q1209.35 723.403 1209.35 716.296 Q1209.35 709.167 1207.52 705.625 Q1205.71 702.06 1202.08 702.06 M1202.08 698.357 Q1207.89 698.357 1210.95 702.963 Q1214.02 707.547 1214.02 716.296 Q1214.02 725.023 1210.95 729.63 Q1207.89 734.213 1202.08 734.213 Q1196.27 734.213 1193.19 729.63 Q1190.14 725.023 1190.14 716.296 Q1190.14 707.547 1193.19 702.963 Q1196.27 698.357 1202.08 698.357 Z\" fill=\"#000000\" fill-rule=\"evenodd\" fill-opacity=\"1\" /><path clip-path=\"url(#clip620)\" d=\"M 0 0 M1219.09 727.662 L1223.98 727.662 L1223.98 733.542 L1219.09 733.542 L1219.09 727.662 Z\" fill=\"#000000\" fill-rule=\"evenodd\" fill-opacity=\"1\" /><path clip-path=\"url(#clip620)\" d=\"M 0 0 M1239.05 702.06 Q1235.44 702.06 1233.61 705.625 Q1231.8 709.167 1231.8 716.296 Q1231.8 723.403 1233.61 726.968 Q1235.44 730.509 1239.05 730.509 Q1242.68 730.509 1244.49 726.968 Q1246.32 723.403 1246.32 716.296 Q1246.32 709.167 1244.49 705.625 Q1242.68 702.06 1239.05 702.06 M1239.05 698.357 Q1244.86 698.357 1247.91 702.963 Q1250.99 707.547 1250.99 716.296 Q1250.99 725.023 1247.91 729.63 Q1244.86 734.213 1239.05 734.213 Q1233.24 734.213 1230.16 729.63 Q1227.1 725.023 1227.1 716.296 Q1227.1 707.547 1230.16 702.963 Q1233.24 698.357 1239.05 698.357 Z\" fill=\"#000000\" fill-rule=\"evenodd\" fill-opacity=\"1\" /><path clip-path=\"url(#clip620)\" d=\"M 0 0 M1203.68 538.375 Q1200.07 538.375 1198.24 541.94 Q1196.43 545.482 1196.43 552.611 Q1196.43 559.718 1198.24 563.282 Q1200.07 566.824 1203.68 566.824 Q1207.31 566.824 1209.12 563.282 Q1210.95 559.718 1210.95 552.611 Q1210.95 545.482 1209.12 541.94 Q1207.31 538.375 1203.68 538.375 M1203.68 534.671 Q1209.49 534.671 1212.54 539.278 Q1215.62 543.861 1215.62 552.611 Q1215.62 561.338 1212.54 565.944 Q1209.49 570.528 1203.68 570.528 Q1197.87 570.528 1194.79 565.944 Q1191.73 561.338 1191.73 552.611 Q1191.73 543.861 1194.79 539.278 Q1197.87 534.671 1203.68 534.671 Z\" fill=\"#000000\" fill-rule=\"evenodd\" fill-opacity=\"1\" /><path clip-path=\"url(#clip620)\" d=\"M 0 0 M1220.69 563.977 L1225.58 563.977 L1225.58 569.856 L1220.69 569.856 L1220.69 563.977 Z\" fill=\"#000000\" fill-rule=\"evenodd\" fill-opacity=\"1\" /><path clip-path=\"url(#clip620)\" d=\"M 0 0 M1234.67 565.921 L1250.99 565.921 L1250.99 569.856 L1229.05 569.856 L1229.05 565.921 Q1231.71 563.167 1236.29 558.537 Q1240.9 553.884 1242.08 552.542 Q1244.33 550.019 1245.21 548.283 Q1246.11 546.523 1246.11 544.833 Q1246.11 542.079 1244.16 540.343 Q1242.24 538.607 1239.14 538.607 Q1236.94 538.607 1234.49 539.371 Q1232.06 540.134 1229.28 541.685 L1229.28 536.963 Q1232.1 535.829 1234.56 535.25 Q1237.01 534.671 1239.05 534.671 Q1244.42 534.671 1247.61 537.357 Q1250.81 540.042 1250.81 544.533 Q1250.81 546.662 1250 548.583 Q1249.21 550.482 1247.1 553.074 Q1246.52 553.745 1243.42 556.963 Q1240.32 560.157 1234.67 565.921 Z\" fill=\"#000000\" fill-rule=\"evenodd\" fill-opacity=\"1\" /><path clip-path=\"url(#clip620)\" d=\"M 0 0 M1201.59 374.69 Q1197.98 374.69 1196.15 378.255 Q1194.35 381.796 1194.35 388.926 Q1194.35 396.032 1196.15 399.597 Q1197.98 403.139 1201.59 403.139 Q1205.23 403.139 1207.03 399.597 Q1208.86 396.032 1208.86 388.926 Q1208.86 381.796 1207.03 378.255 Q1205.23 374.69 1201.59 374.69 M1201.59 370.986 Q1207.4 370.986 1210.46 375.593 Q1213.54 380.176 1213.54 388.926 Q1213.54 397.653 1210.46 402.259 Q1207.4 406.843 1201.59 406.843 Q1195.78 406.843 1192.71 402.259 Q1189.65 397.653 1189.65 388.926 Q1189.65 380.176 1192.71 375.593 Q1195.78 370.986 1201.59 370.986 Z\" fill=\"#000000\" fill-rule=\"evenodd\" fill-opacity=\"1\" /><path clip-path=\"url(#clip620)\" d=\"M 0 0 M1218.61 400.292 L1223.49 400.292 L1223.49 406.171 L1218.61 406.171 L1218.61 400.292 Z\" fill=\"#000000\" fill-rule=\"evenodd\" fill-opacity=\"1\" /><path clip-path=\"url(#clip620)\" d=\"M 0 0 M1241.41 375.685 L1229.6 394.134 L1241.41 394.134 L1241.41 375.685 M1240.18 371.611 L1246.06 371.611 L1246.06 394.134 L1250.99 394.134 L1250.99 398.023 L1246.06 398.023 L1246.06 406.171 L1241.41 406.171 L1241.41 398.023 L1225.81 398.023 L1225.81 393.509 L1240.18 371.611 Z\" fill=\"#000000\" fill-rule=\"evenodd\" fill-opacity=\"1\" /><path clip-path=\"url(#clip620)\" d=\"M 0 0 M1201.92 211.005 Q1198.31 211.005 1196.48 214.569 Q1194.67 218.111 1194.67 225.241 Q1194.67 232.347 1196.48 235.912 Q1198.31 239.454 1201.92 239.454 Q1205.55 239.454 1207.36 235.912 Q1209.19 232.347 1209.19 225.241 Q1209.19 218.111 1207.36 214.569 Q1205.55 211.005 1201.92 211.005 M1201.92 207.301 Q1207.73 207.301 1210.78 211.907 Q1213.86 216.491 1213.86 225.241 Q1213.86 233.968 1210.78 238.574 Q1207.73 243.157 1201.92 243.157 Q1196.11 243.157 1193.03 238.574 Q1189.97 233.968 1189.97 225.241 Q1189.97 216.491 1193.03 211.907 Q1196.11 207.301 1201.92 207.301 Z\" fill=\"#000000\" fill-rule=\"evenodd\" fill-opacity=\"1\" /><path clip-path=\"url(#clip620)\" d=\"M 0 0 M1218.93 236.606 L1223.82 236.606 L1223.82 242.486 L1218.93 242.486 L1218.93 236.606 Z\" fill=\"#000000\" fill-rule=\"evenodd\" fill-opacity=\"1\" /><path clip-path=\"url(#clip620)\" d=\"M 0 0 M1239.46 223.343 Q1236.32 223.343 1234.46 225.495 Q1232.64 227.648 1232.64 231.398 Q1232.64 235.125 1234.46 237.301 Q1236.32 239.454 1239.46 239.454 Q1242.61 239.454 1244.44 237.301 Q1246.29 235.125 1246.29 231.398 Q1246.29 227.648 1244.44 225.495 Q1242.61 223.343 1239.46 223.343 M1248.75 208.69 L1248.75 212.949 Q1246.99 212.116 1245.18 211.676 Q1243.4 211.236 1241.64 211.236 Q1237.01 211.236 1234.56 214.361 Q1232.13 217.486 1231.78 223.806 Q1233.14 221.792 1235.21 220.727 Q1237.27 219.639 1239.74 219.639 Q1244.95 219.639 1247.96 222.81 Q1250.99 225.958 1250.99 231.398 Q1250.99 236.722 1247.84 239.94 Q1244.7 243.157 1239.46 243.157 Q1233.47 243.157 1230.3 238.574 Q1227.13 233.968 1227.13 225.241 Q1227.13 217.046 1231.02 212.185 Q1234.9 207.301 1241.46 207.301 Q1243.21 207.301 1245 207.648 Q1246.8 207.995 1248.75 208.69 Z\" fill=\"#000000\" fill-rule=\"evenodd\" fill-opacity=\"1\" /><path clip-path=\"url(#clip620)\" d=\"M 0 0 M1610.53 6.912 L1630.4 6.912 L1630.4 10.8472 L1615.21 10.8472 L1615.21 21.0323 L1628.91 21.0323 L1628.91 24.9675 L1615.21 24.9675 L1615.21 41.472 L1610.53 41.472 L1610.53 6.912 Z\" fill=\"#000000\" fill-rule=\"evenodd\" fill-opacity=\"1\" /><path clip-path=\"url(#clip620)\" d=\"M 0 0 M1631.83 31.2406 L1631.83 15.5462 L1636.09 15.5462 L1636.09 31.0785 Q1636.09 34.7591 1637.53 36.6109 Q1638.96 38.4396 1641.83 38.4396 Q1645.28 38.4396 1647.27 36.2405 Q1649.28 34.0415 1649.28 30.2452 L1649.28 15.5462 L1653.54 15.5462 L1653.54 41.472 L1649.28 41.472 L1649.28 37.4905 Q1647.73 39.8516 1645.67 41.009 Q1643.64 42.1433 1640.93 42.1433 Q1636.46 42.1433 1634.15 39.3655 Q1631.83 36.5878 1631.83 31.2406 M1642.55 14.9212 L1642.55 14.9212 Z\" fill=\"#000000\" fill-rule=\"evenodd\" fill-opacity=\"1\" /><path clip-path=\"url(#clip620)\" d=\"M 0 0 M1656.16 15.5462 L1676.39 15.5462 L1676.39 19.4351 L1660.37 38.0692 L1676.39 38.0692 L1676.39 41.472 L1655.58 41.472 L1655.58 37.5831 L1671.6 18.949 L1656.16 18.949 L1656.16 15.5462 Z\" fill=\"#000000\" fill-rule=\"evenodd\" fill-opacity=\"1\" /><path clip-path=\"url(#clip620)\" d=\"M 0 0 M1679.01 15.5462 L1699.24 15.5462 L1699.24 19.4351 L1683.22 38.0692 L1699.24 38.0692 L1699.24 41.472 L1678.43 41.472 L1678.43 37.5831 L1694.45 18.949 L1679.01 18.949 L1679.01 15.5462 Z\" fill=\"#000000\" fill-rule=\"evenodd\" fill-opacity=\"1\" /><path clip-path=\"url(#clip620)\" d=\"M 0 0 M1714.49 43.8794 Q1712.69 48.509 1710.97 49.921 Q1709.26 51.3331 1706.39 51.3331 L1702.99 51.3331 L1702.99 47.7683 L1705.49 47.7683 Q1707.25 47.7683 1708.22 46.9349 Q1709.19 46.1016 1710.37 42.9998 L1711.14 41.0553 L1700.65 15.5462 L1705.16 15.5462 L1713.27 35.8239 L1721.37 15.5462 L1725.88 15.5462 L1714.49 43.8794 Z\" fill=\"#000000\" fill-rule=\"evenodd\" fill-opacity=\"1\" /><path clip-path=\"url(#clip620)\" d=\"M 0 0 M1742.09 11.5185 L1735.74 28.7174 L1748.45 28.7174 L1742.09 11.5185 M1739.45 6.912 L1744.75 6.912 L1757.92 41.472 L1753.06 41.472 L1749.91 32.6063 L1734.33 32.6063 L1731.18 41.472 L1726.25 41.472 L1739.45 6.912 Z\" fill=\"#000000\" fill-rule=\"evenodd\" fill-opacity=\"1\" /><path clip-path=\"url(#clip620)\" d=\"M 0 0 M1778.96 25.2684 Q1780.46 25.7776 1781.88 27.4443 Q1783.31 29.111 1784.75 32.0276 L1789.49 41.472 L1784.47 41.472 L1780.05 32.6063 Q1778.33 29.1341 1776.71 27.9998 Q1775.12 26.8656 1772.34 26.8656 L1767.25 26.8656 L1767.25 41.472 L1762.57 41.472 L1762.57 6.912 L1773.13 6.912 Q1779.05 6.912 1781.97 9.38884 Q1784.89 11.8657 1784.89 16.8657 Q1784.89 20.1295 1783.36 22.2823 Q1781.85 24.4351 1778.96 25.2684 M1767.25 10.7546 L1767.25 23.023 L1773.13 23.023 Q1776.51 23.023 1778.22 21.4721 Q1779.96 19.898 1779.96 16.8657 Q1779.96 13.8333 1778.22 12.3055 Q1776.51 10.7546 1773.13 10.7546 L1767.25 10.7546 Z\" fill=\"#000000\" fill-rule=\"evenodd\" fill-opacity=\"1\" /><path clip-path=\"url(#clip620)\" d=\"M 0 0 M1785.9 6.912 L1815.14 6.912 L1815.14 10.8472 L1802.87 10.8472 L1802.87 41.472 L1798.17 41.472 L1798.17 10.8472 L1785.9 10.8472 L1785.9 6.912 Z\" fill=\"#000000\" fill-rule=\"evenodd\" fill-opacity=\"1\" /><path clip-path=\"url(#clip620)\" d=\"M 0 0 M1849.7 19.5277 Q1848.98 19.111 1848.13 18.9258 Q1847.29 18.7175 1846.27 18.7175 Q1842.66 18.7175 1840.72 21.0786 Q1838.8 23.4165 1838.8 27.8147 L1838.8 41.472 L1834.52 41.472 L1834.52 15.5462 L1838.8 15.5462 L1838.8 19.574 Q1840.14 17.2129 1842.29 16.0786 Q1844.45 14.9212 1847.52 14.9212 Q1847.96 14.9212 1848.5 14.9907 Q1849.03 15.037 1849.68 15.1527 L1849.7 19.5277 Z\" fill=\"#000000\" fill-rule=\"evenodd\" fill-opacity=\"1\" /><path clip-path=\"url(#clip620)\" d=\"M 0 0 M1874.89 25.8239 L1874.89 41.472 L1870.63 41.472 L1870.63 25.9628 Q1870.63 22.2823 1869.19 20.4536 Q1867.76 18.6249 1864.89 18.6249 Q1861.44 18.6249 1859.45 20.824 Q1857.45 23.023 1857.45 26.8193 L1857.45 41.472 L1853.17 41.472 L1853.17 5.45367 L1857.45 5.45367 L1857.45 19.574 Q1858.98 17.236 1861.04 16.0786 Q1863.13 14.9212 1865.83 14.9212 Q1870.3 14.9212 1872.59 17.699 Q1874.89 20.4536 1874.89 25.8239 Z\" fill=\"#000000\" fill-rule=\"evenodd\" fill-opacity=\"1\" /><path clip-path=\"url(#clip620)\" d=\"M 0 0 M1889.4 18.5323 Q1885.97 18.5323 1883.98 21.2175 Q1881.99 23.8795 1881.99 28.5323 Q1881.99 33.185 1883.96 35.8702 Q1885.95 38.5322 1889.4 38.5322 Q1892.8 38.5322 1894.79 35.847 Q1896.78 33.1619 1896.78 28.5323 Q1896.78 23.9258 1894.79 21.2406 Q1892.8 18.5323 1889.4 18.5323 M1889.4 14.9212 Q1894.95 14.9212 1898.13 18.5323 Q1901.3 22.1434 1901.3 28.5323 Q1901.3 34.898 1898.13 38.5322 Q1894.95 42.1433 1889.4 42.1433 Q1883.82 42.1433 1880.65 38.5322 Q1877.5 34.898 1877.5 28.5323 Q1877.5 22.1434 1880.65 18.5323 Q1883.82 14.9212 1889.4 14.9212 Z\" fill=\"#000000\" fill-rule=\"evenodd\" fill-opacity=\"1\" /><path clip-path=\"url(#clip620)\" d=\"M 0 0 M1921.39 19.9443 L1951.07 19.9443 L1951.07 23.8332 L1921.39 23.8332 L1921.39 19.9443 M1921.39 29.3887 L1951.07 29.3887 L1951.07 33.3239 L1921.39 33.3239 L1921.39 29.3887 Z\" fill=\"#000000\" fill-rule=\"evenodd\" fill-opacity=\"1\" /><path clip-path=\"url(#clip620)\" d=\"M 0 0 M1981.2 9.99069 Q1977.59 9.99069 1975.76 13.5555 Q1973.96 17.0971 1973.96 24.2267 Q1973.96 31.3332 1975.76 34.898 Q1977.59 38.4396 1981.2 38.4396 Q1984.84 38.4396 1986.64 34.898 Q1988.47 31.3332 1988.47 24.2267 Q1988.47 17.0971 1986.64 13.5555 Q1984.84 9.99069 1981.2 9.99069 M1981.2 6.287 Q1987.01 6.287 1990.07 10.8935 Q1993.15 15.4768 1993.15 24.2267 Q1993.15 32.9535 1990.07 37.56 Q1987.01 42.1433 1981.2 42.1433 Q1975.39 42.1433 1972.32 37.56 Q1969.26 32.9535 1969.26 24.2267 Q1969.26 15.4768 1972.32 10.8935 Q1975.39 6.287 1981.2 6.287 Z\" fill=\"#000000\" fill-rule=\"evenodd\" fill-opacity=\"1\" /><path clip-path=\"url(#clip620)\" d=\"M 0 0 M1998.22 35.5924 L2003.1 35.5924 L2003.1 41.472 L1998.22 41.472 L1998.22 35.5924 Z\" fill=\"#000000\" fill-rule=\"evenodd\" fill-opacity=\"1\" /><path clip-path=\"url(#clip620)\" d=\"M 0 0 M2006.99 6.912 L2029.21 6.912 L2029.21 8.90273 L2016.67 41.472 L2011.78 41.472 L2023.59 10.8472 L2006.99 10.8472 L2006.99 6.912 Z\" fill=\"#000000\" fill-rule=\"evenodd\" fill-opacity=\"1\" /><circle clip-path=\"url(#clip623)\" cx=\"2206.81\" cy=\"830.069\" r=\"14\" fill=\"#009af9\" fill-rule=\"evenodd\" fill-opacity=\"1\" stroke=\"#000000\" stroke-opacity=\"1\" stroke-width=\"3.2\"/>\n",
       "<circle clip-path=\"url(#clip623)\" cx=\"2322.59\" cy=\"600.36\" r=\"14\" fill=\"#009af9\" fill-rule=\"evenodd\" fill-opacity=\"1\" stroke=\"#000000\" stroke-opacity=\"1\" stroke-width=\"3.2\"/>\n",
       "<circle clip-path=\"url(#clip623)\" cx=\"2269.27\" cy=\"828.669\" r=\"14\" fill=\"#009af9\" fill-rule=\"evenodd\" fill-opacity=\"1\" stroke=\"#000000\" stroke-opacity=\"1\" stroke-width=\"3.2\"/>\n",
       "<circle clip-path=\"url(#clip623)\" cx=\"2173.32\" cy=\"629.899\" r=\"14\" fill=\"#009af9\" fill-rule=\"evenodd\" fill-opacity=\"1\" stroke=\"#000000\" stroke-opacity=\"1\" stroke-width=\"3.2\"/>\n",
       "<circle clip-path=\"url(#clip623)\" cx=\"2169.52\" cy=\"104.257\" r=\"14\" fill=\"#009af9\" fill-rule=\"evenodd\" fill-opacity=\"1\" stroke=\"#000000\" stroke-opacity=\"1\" stroke-width=\"3.2\"/>\n",
       "<circle clip-path=\"url(#clip623)\" cx=\"2265.54\" cy=\"653.085\" r=\"14\" fill=\"#009af9\" fill-rule=\"evenodd\" fill-opacity=\"1\" stroke=\"#000000\" stroke-opacity=\"1\" stroke-width=\"3.2\"/>\n",
       "<circle clip-path=\"url(#clip623)\" cx=\"2240.75\" cy=\"855.032\" r=\"14\" fill=\"#009af9\" fill-rule=\"evenodd\" fill-opacity=\"1\" stroke=\"#000000\" stroke-opacity=\"1\" stroke-width=\"3.2\"/>\n",
       "<circle clip-path=\"url(#clip623)\" cx=\"2249.7\" cy=\"494.42\" r=\"14\" fill=\"#009af9\" fill-rule=\"evenodd\" fill-opacity=\"1\" stroke=\"#000000\" stroke-opacity=\"1\" stroke-width=\"3.2\"/>\n",
       "<circle clip-path=\"url(#clip623)\" cx=\"2190.07\" cy=\"555.918\" r=\"14\" fill=\"#009af9\" fill-rule=\"evenodd\" fill-opacity=\"1\" stroke=\"#000000\" stroke-opacity=\"1\" stroke-width=\"3.2\"/>\n",
       "<circle clip-path=\"url(#clip623)\" cx=\"2228.39\" cy=\"454.946\" r=\"14\" fill=\"#009af9\" fill-rule=\"evenodd\" fill-opacity=\"1\" stroke=\"#000000\" stroke-opacity=\"1\" stroke-width=\"3.2\"/>\n",
       "<circle clip-path=\"url(#clip623)\" cx=\"2227.25\" cy=\"871.825\" r=\"14\" fill=\"#009af9\" fill-rule=\"evenodd\" fill-opacity=\"1\" stroke=\"#000000\" stroke-opacity=\"1\" stroke-width=\"3.2\"/>\n",
       "<circle clip-path=\"url(#clip623)\" cx=\"2206.59\" cy=\"182.701\" r=\"14\" fill=\"#009af9\" fill-rule=\"evenodd\" fill-opacity=\"1\" stroke=\"#000000\" stroke-opacity=\"1\" stroke-width=\"3.2\"/>\n",
       "<circle clip-path=\"url(#clip623)\" cx=\"2219.99\" cy=\"877.813\" r=\"14\" fill=\"#009af9\" fill-rule=\"evenodd\" fill-opacity=\"1\" stroke=\"#000000\" stroke-opacity=\"1\" stroke-width=\"3.2\"/>\n",
       "<circle clip-path=\"url(#clip623)\" cx=\"2229.78\" cy=\"455.072\" r=\"14\" fill=\"#009af9\" fill-rule=\"evenodd\" fill-opacity=\"1\" stroke=\"#000000\" stroke-opacity=\"1\" stroke-width=\"3.2\"/>\n",
       "<circle clip-path=\"url(#clip623)\" cx=\"1644.17\" cy=\"455.022\" r=\"14\" fill=\"#e26f46\" fill-rule=\"evenodd\" fill-opacity=\"1\" stroke=\"#000000\" stroke-opacity=\"1\" stroke-width=\"3.2\"/>\n",
       "<circle clip-path=\"url(#clip623)\" cx=\"1584.64\" cy=\"984.347\" r=\"14\" fill=\"#e26f46\" fill-rule=\"evenodd\" fill-opacity=\"1\" stroke=\"#000000\" stroke-opacity=\"1\" stroke-width=\"3.2\"/>\n",
       "<circle clip-path=\"url(#clip623)\" cx=\"1505.62\" cy=\"1126.67\" r=\"14\" fill=\"#e26f46\" fill-rule=\"evenodd\" fill-opacity=\"1\" stroke=\"#000000\" stroke-opacity=\"1\" stroke-width=\"3.2\"/>\n",
       "<circle clip-path=\"url(#clip623)\" cx=\"1808.17\" cy=\"1291.24\" r=\"14\" fill=\"#e26f46\" fill-rule=\"evenodd\" fill-opacity=\"1\" stroke=\"#000000\" stroke-opacity=\"1\" stroke-width=\"3.2\"/>\n",
       "<circle clip-path=\"url(#clip623)\" cx=\"1571.18\" cy=\"1060.99\" r=\"14\" fill=\"#e26f46\" fill-rule=\"evenodd\" fill-opacity=\"1\" stroke=\"#000000\" stroke-opacity=\"1\" stroke-width=\"3.2\"/>\n",
       "<circle clip-path=\"url(#clip623)\" cx=\"1557.23\" cy=\"303.62\" r=\"14\" fill=\"#e26f46\" fill-rule=\"evenodd\" fill-opacity=\"1\" stroke=\"#000000\" stroke-opacity=\"1\" stroke-width=\"3.2\"/>\n",
       "<circle clip-path=\"url(#clip623)\" cx=\"1584.33\" cy=\"1339.1\" r=\"14\" fill=\"#e26f46\" fill-rule=\"evenodd\" fill-opacity=\"1\" stroke=\"#000000\" stroke-opacity=\"1\" stroke-width=\"3.2\"/>\n",
       "<circle clip-path=\"url(#clip623)\" cx=\"1759.23\" cy=\"1045.48\" r=\"14\" fill=\"#e26f46\" fill-rule=\"evenodd\" fill-opacity=\"1\" stroke=\"#000000\" stroke-opacity=\"1\" stroke-width=\"3.2\"/>\n",
       "<circle clip-path=\"url(#clip623)\" cx=\"1700.62\" cy=\"1111.79\" r=\"14\" fill=\"#e26f46\" fill-rule=\"evenodd\" fill-opacity=\"1\" stroke=\"#000000\" stroke-opacity=\"1\" stroke-width=\"3.2\"/>\n",
       "<circle clip-path=\"url(#clip623)\" cx=\"1586.54\" cy=\"155.28\" r=\"14\" fill=\"#e26f46\" fill-rule=\"evenodd\" fill-opacity=\"1\" stroke=\"#000000\" stroke-opacity=\"1\" stroke-width=\"3.2\"/>\n",
       "<circle clip-path=\"url(#clip623)\" cx=\"1651.08\" cy=\"743.935\" r=\"14\" fill=\"#e26f46\" fill-rule=\"evenodd\" fill-opacity=\"1\" stroke=\"#000000\" stroke-opacity=\"1\" stroke-width=\"3.2\"/>\n",
       "<circle clip-path=\"url(#clip623)\" cx=\"2263.12\" cy=\"1479.74\" r=\"14\" fill=\"#e26f46\" fill-rule=\"evenodd\" fill-opacity=\"1\" stroke=\"#000000\" stroke-opacity=\"1\" stroke-width=\"3.2\"/>\n",
       "<circle clip-path=\"url(#clip623)\" cx=\"1713.08\" cy=\"799.974\" r=\"14\" fill=\"#e26f46\" fill-rule=\"evenodd\" fill-opacity=\"1\" stroke=\"#000000\" stroke-opacity=\"1\" stroke-width=\"3.2\"/>\n",
       "<circle clip-path=\"url(#clip623)\" cx=\"1614.11\" cy=\"785.185\" r=\"14\" fill=\"#e26f46\" fill-rule=\"evenodd\" fill-opacity=\"1\" stroke=\"#000000\" stroke-opacity=\"1\" stroke-width=\"3.2\"/>\n",
       "<circle clip-path=\"url(#clip623)\" cx=\"1646.12\" cy=\"865.535\" r=\"14\" fill=\"#e26f46\" fill-rule=\"evenodd\" fill-opacity=\"1\" stroke=\"#000000\" stroke-opacity=\"1\" stroke-width=\"3.2\"/>\n",
       "<circle clip-path=\"url(#clip623)\" cx=\"1618.87\" cy=\"654.56\" r=\"14\" fill=\"#e26f46\" fill-rule=\"evenodd\" fill-opacity=\"1\" stroke=\"#000000\" stroke-opacity=\"1\" stroke-width=\"3.2\"/>\n",
       "<circle clip-path=\"url(#clip623)\" cx=\"1590.99\" cy=\"862.872\" r=\"14\" fill=\"#e26f46\" fill-rule=\"evenodd\" fill-opacity=\"1\" stroke=\"#000000\" stroke-opacity=\"1\" stroke-width=\"3.2\"/>\n",
       "<circle clip-path=\"url(#clip623)\" cx=\"1679.89\" cy=\"593.187\" r=\"14\" fill=\"#e26f46\" fill-rule=\"evenodd\" fill-opacity=\"1\" stroke=\"#000000\" stroke-opacity=\"1\" stroke-width=\"3.2\"/>\n",
       "<circle clip-path=\"url(#clip623)\" cx=\"1753.76\" cy=\"1164.67\" r=\"14\" fill=\"#e26f46\" fill-rule=\"evenodd\" fill-opacity=\"1\" stroke=\"#000000\" stroke-opacity=\"1\" stroke-width=\"3.2\"/>\n",
       "<circle clip-path=\"url(#clip623)\" cx=\"1412.38\" cy=\"750.54\" r=\"14\" fill=\"#3da44d\" fill-rule=\"evenodd\" fill-opacity=\"1\" stroke=\"#000000\" stroke-opacity=\"1\" stroke-width=\"3.2\"/>\n",
       "<circle clip-path=\"url(#clip623)\" cx=\"1605.51\" cy=\"850.895\" r=\"14\" fill=\"#3da44d\" fill-rule=\"evenodd\" fill-opacity=\"1\" stroke=\"#000000\" stroke-opacity=\"1\" stroke-width=\"3.2\"/>\n",
       "<circle clip-path=\"url(#clip623)\" cx=\"1485.14\" cy=\"676.938\" r=\"14\" fill=\"#3da44d\" fill-rule=\"evenodd\" fill-opacity=\"1\" stroke=\"#000000\" stroke-opacity=\"1\" stroke-width=\"3.2\"/>\n",
       "<circle clip-path=\"url(#clip623)\" cx=\"1600.72\" cy=\"1211.88\" r=\"14\" fill=\"#3da44d\" fill-rule=\"evenodd\" fill-opacity=\"1\" stroke=\"#000000\" stroke-opacity=\"1\" stroke-width=\"3.2\"/>\n",
       "<circle clip-path=\"url(#clip623)\" cx=\"1424.46\" cy=\"443.409\" r=\"14\" fill=\"#3da44d\" fill-rule=\"evenodd\" fill-opacity=\"1\" stroke=\"#000000\" stroke-opacity=\"1\" stroke-width=\"3.2\"/>\n",
       "<circle clip-path=\"url(#clip623)\" cx=\"1501.9\" cy=\"893.168\" r=\"14\" fill=\"#3da44d\" fill-rule=\"evenodd\" fill-opacity=\"1\" stroke=\"#000000\" stroke-opacity=\"1\" stroke-width=\"3.2\"/>\n",
       "<circle clip-path=\"url(#clip623)\" cx=\"1442.53\" cy=\"540.071\" r=\"14\" fill=\"#3da44d\" fill-rule=\"evenodd\" fill-opacity=\"1\" stroke=\"#000000\" stroke-opacity=\"1\" stroke-width=\"3.2\"/>\n",
       "<circle clip-path=\"url(#clip623)\" cx=\"1477.88\" cy=\"682.927\" r=\"14\" fill=\"#3da44d\" fill-rule=\"evenodd\" fill-opacity=\"1\" stroke=\"#000000\" stroke-opacity=\"1\" stroke-width=\"3.2\"/>\n",
       "<circle clip-path=\"url(#clip623)\" cx=\"1417.3\" cy=\"917.225\" r=\"14\" fill=\"#3da44d\" fill-rule=\"evenodd\" fill-opacity=\"1\" stroke=\"#000000\" stroke-opacity=\"1\" stroke-width=\"3.2\"/>\n",
       "<circle clip-path=\"url(#clip623)\" cx=\"1317.16\" cy=\"427.867\" r=\"14\" fill=\"#3da44d\" fill-rule=\"evenodd\" fill-opacity=\"1\" stroke=\"#000000\" stroke-opacity=\"1\" stroke-width=\"3.2\"/>\n",
       "<circle clip-path=\"url(#clip623)\" cx=\"1445.87\" cy=\"602.577\" r=\"14\" fill=\"#3da44d\" fill-rule=\"evenodd\" fill-opacity=\"1\" stroke=\"#000000\" stroke-opacity=\"1\" stroke-width=\"3.2\"/>\n",
       "<circle clip-path=\"url(#clip623)\" cx=\"1537.4\" cy=\"1157.64\" r=\"14\" fill=\"#3da44d\" fill-rule=\"evenodd\" fill-opacity=\"1\" stroke=\"#000000\" stroke-opacity=\"1\" stroke-width=\"3.2\"/>\n",
       "</svg>\n"
      ],
      "image/svg+xml": [
       "<?xml version=\"1.0\" encoding=\"utf-8\"?>\n",
       "<svg xmlns=\"http://www.w3.org/2000/svg\" xmlns:xlink=\"http://www.w3.org/1999/xlink\" width=\"600\" height=\"400\" viewBox=\"0 0 2400 1600\">\n",
       "<defs>\n",
       "  <clipPath id=\"clip590\">\n",
       "    <rect x=\"0\" y=\"0\" width=\"2400\" height=\"1600\"/>\n",
       "  </clipPath>\n",
       "</defs>\n",
       "<path clip-path=\"url(#clip590)\" d=\"\n",
       "M0 1600 L2400 1600 L2400 0 L0 0  Z\n",
       "  \" fill=\"#ffffff\" fill-rule=\"evenodd\" fill-opacity=\"1\"/>\n",
       "<defs>\n",
       "  <clipPath id=\"clip591\">\n",
       "    <rect x=\"480\" y=\"0\" width=\"1681\" height=\"1600\"/>\n",
       "  </clipPath>\n",
       "</defs>\n",
       "<path clip-path=\"url(#clip590)\" d=\"\n",
       "M86.9921 1521.01 L1152.76 1521.01 L1152.76 62.9921 L86.9921 62.9921  Z\n",
       "  \" fill=\"#ffffff\" fill-rule=\"evenodd\" fill-opacity=\"1\"/>\n",
       "<defs>\n",
       "  <clipPath id=\"clip592\">\n",
       "    <rect x=\"86\" y=\"62\" width=\"1067\" height=\"1459\"/>\n",
       "  </clipPath>\n",
       "</defs>\n",
       "<polyline clip-path=\"url(#clip592)\" style=\"stroke:#000000; stroke-width:2; stroke-opacity:0.1; fill:none\" points=\"\n",
       "  106.035,1521.01 106.035,62.9921 \n",
       "  \"/>\n",
       "<polyline clip-path=\"url(#clip592)\" style=\"stroke:#000000; stroke-width:2; stroke-opacity:0.1; fill:none\" points=\"\n",
       "  269.578,1521.01 269.578,62.9921 \n",
       "  \"/>\n",
       "<polyline clip-path=\"url(#clip592)\" style=\"stroke:#000000; stroke-width:2; stroke-opacity:0.1; fill:none\" points=\"\n",
       "  433.12,1521.01 433.12,62.9921 \n",
       "  \"/>\n",
       "<polyline clip-path=\"url(#clip592)\" style=\"stroke:#000000; stroke-width:2; stroke-opacity:0.1; fill:none\" points=\"\n",
       "  596.663,1521.01 596.663,62.9921 \n",
       "  \"/>\n",
       "<polyline clip-path=\"url(#clip592)\" style=\"stroke:#000000; stroke-width:2; stroke-opacity:0.1; fill:none\" points=\"\n",
       "  760.206,1521.01 760.206,62.9921 \n",
       "  \"/>\n",
       "<polyline clip-path=\"url(#clip592)\" style=\"stroke:#000000; stroke-width:2; stroke-opacity:0.1; fill:none\" points=\"\n",
       "  923.748,1521.01 923.748,62.9921 \n",
       "  \"/>\n",
       "<polyline clip-path=\"url(#clip592)\" style=\"stroke:#000000; stroke-width:2; stroke-opacity:0.1; fill:none\" points=\"\n",
       "  1087.29,1521.01 1087.29,62.9921 \n",
       "  \"/>\n",
       "<polyline clip-path=\"url(#clip590)\" style=\"stroke:#000000; stroke-width:4; stroke-opacity:1; fill:none\" points=\"\n",
       "  86.9921,1521.01 1152.76,1521.01 \n",
       "  \"/>\n",
       "<polyline clip-path=\"url(#clip590)\" style=\"stroke:#000000; stroke-width:4; stroke-opacity:1; fill:none\" points=\"\n",
       "  106.035,1521.01 106.035,1503.51 \n",
       "  \"/>\n",
       "<polyline clip-path=\"url(#clip590)\" style=\"stroke:#000000; stroke-width:4; stroke-opacity:1; fill:none\" points=\"\n",
       "  269.578,1521.01 269.578,1503.51 \n",
       "  \"/>\n",
       "<polyline clip-path=\"url(#clip590)\" style=\"stroke:#000000; stroke-width:4; stroke-opacity:1; fill:none\" points=\"\n",
       "  433.12,1521.01 433.12,1503.51 \n",
       "  \"/>\n",
       "<polyline clip-path=\"url(#clip590)\" style=\"stroke:#000000; stroke-width:4; stroke-opacity:1; fill:none\" points=\"\n",
       "  596.663,1521.01 596.663,1503.51 \n",
       "  \"/>\n",
       "<polyline clip-path=\"url(#clip590)\" style=\"stroke:#000000; stroke-width:4; stroke-opacity:1; fill:none\" points=\"\n",
       "  760.206,1521.01 760.206,1503.51 \n",
       "  \"/>\n",
       "<polyline clip-path=\"url(#clip590)\" style=\"stroke:#000000; stroke-width:4; stroke-opacity:1; fill:none\" points=\"\n",
       "  923.748,1521.01 923.748,1503.51 \n",
       "  \"/>\n",
       "<polyline clip-path=\"url(#clip590)\" style=\"stroke:#000000; stroke-width:4; stroke-opacity:1; fill:none\" points=\"\n",
       "  1087.29,1521.01 1087.29,1503.51 \n",
       "  \"/>\n",
       "<path clip-path=\"url(#clip590)\" d=\"M 0 0 M85.0197 1558.69 L107.277 1558.69 L107.277 1561.64 L85.0197 1561.64 L85.0197 1558.69 Z\" fill=\"#000000\" fill-rule=\"evenodd\" fill-opacity=\"1\" /><path clip-path=\"url(#clip590)\" d=\"M 0 0 M121.704 1557.34 Q124.221 1557.87 125.627 1559.58 Q127.051 1561.28 127.051 1563.78 Q127.051 1567.61 124.412 1569.71 Q121.773 1571.82 116.912 1571.82 Q115.28 1571.82 113.544 1571.49 Q111.825 1571.17 109.985 1570.53 L109.985 1567.15 Q111.443 1568 113.179 1568.43 Q114.915 1568.86 116.808 1568.86 Q120.106 1568.86 121.825 1567.56 Q123.561 1566.26 123.561 1563.78 Q123.561 1561.49 121.947 1560.2 Q120.349 1558.9 117.485 1558.9 L114.464 1558.9 L114.464 1556.02 L117.624 1556.02 Q120.21 1556.02 121.582 1554.99 Q122.954 1553.95 122.954 1552.01 Q122.954 1550.01 121.53 1548.95 Q120.124 1547.87 117.485 1547.87 Q116.044 1547.87 114.395 1548.19 Q112.745 1548.5 110.766 1549.16 L110.766 1546.03 Q112.763 1545.48 114.499 1545.2 Q116.252 1544.92 117.797 1544.92 Q121.79 1544.92 124.117 1546.75 Q126.443 1548.55 126.443 1551.64 Q126.443 1553.79 125.21 1555.29 Q123.978 1556.76 121.704 1557.34 Z\" fill=\"#000000\" fill-rule=\"evenodd\" fill-opacity=\"1\" /><path clip-path=\"url(#clip590)\" d=\"M 0 0 M248.918 1558.69 L271.175 1558.69 L271.175 1561.64 L248.918 1561.64 L248.918 1558.69 Z\" fill=\"#000000\" fill-rule=\"evenodd\" fill-opacity=\"1\" /><path clip-path=\"url(#clip590)\" d=\"M 0 0 M277.998 1568.36 L290.237 1568.36 L290.237 1571.31 L273.779 1571.31 L273.779 1568.36 Q275.776 1566.29 279.213 1562.82 Q282.668 1559.33 283.553 1558.33 Q285.237 1556.43 285.897 1555.13 Q286.574 1553.81 286.574 1552.54 Q286.574 1550.48 285.116 1549.18 Q283.675 1547.87 281.349 1547.87 Q279.699 1547.87 277.859 1548.45 Q276.036 1549.02 273.953 1550.18 L273.953 1546.64 Q276.071 1545.79 277.911 1545.36 Q279.751 1544.92 281.279 1544.92 Q285.307 1544.92 287.703 1546.94 Q290.099 1548.95 290.099 1552.32 Q290.099 1553.92 289.491 1555.36 Q288.901 1556.78 287.321 1558.73 Q286.887 1559.23 284.56 1561.64 Q282.234 1564.04 277.998 1568.36 Z\" fill=\"#000000\" fill-rule=\"evenodd\" fill-opacity=\"1\" /><path clip-path=\"url(#clip590)\" d=\"M 0 0 M412.322 1558.69 L434.579 1558.69 L434.579 1561.64 L412.322 1561.64 L412.322 1558.69 Z\" fill=\"#000000\" fill-rule=\"evenodd\" fill-opacity=\"1\" /><path clip-path=\"url(#clip590)\" d=\"M 0 0 M438.988 1568.36 L444.718 1568.36 L444.718 1548.59 L438.485 1549.84 L438.485 1546.64 L444.683 1545.39 L448.19 1545.39 L448.19 1568.36 L453.919 1568.36 L453.919 1571.31 L438.988 1571.31 L438.988 1568.36 Z\" fill=\"#000000\" fill-rule=\"evenodd\" fill-opacity=\"1\" /><path clip-path=\"url(#clip590)\" d=\"M 0 0 M596.663 1547.7 Q593.955 1547.7 592.583 1550.37 Q591.229 1553.03 591.229 1558.38 Q591.229 1563.71 592.583 1566.38 Q593.955 1569.04 596.663 1569.04 Q599.389 1569.04 600.743 1566.38 Q602.114 1563.71 602.114 1558.38 Q602.114 1553.03 600.743 1550.37 Q599.389 1547.7 596.663 1547.7 M596.663 1544.92 Q601.021 1544.92 603.312 1548.38 Q605.621 1551.82 605.621 1558.38 Q605.621 1564.92 603.312 1568.38 Q601.021 1571.82 596.663 1571.82 Q592.305 1571.82 589.996 1568.38 Q587.705 1564.92 587.705 1558.38 Q587.705 1551.82 589.996 1548.38 Q592.305 1544.92 596.663 1544.92 Z\" fill=\"#000000\" fill-rule=\"evenodd\" fill-opacity=\"1\" /><path clip-path=\"url(#clip590)\" d=\"M 0 0 M752.992 1568.36 L758.721 1568.36 L758.721 1548.59 L752.489 1549.84 L752.489 1546.64 L758.687 1545.39 L762.193 1545.39 L762.193 1568.36 L767.923 1568.36 L767.923 1571.31 L752.992 1571.31 L752.992 1568.36 Z\" fill=\"#000000\" fill-rule=\"evenodd\" fill-opacity=\"1\" /><path clip-path=\"url(#clip590)\" d=\"M 0 0 M919.738 1568.36 L931.977 1568.36 L931.977 1571.31 L915.519 1571.31 L915.519 1568.36 Q917.516 1566.29 920.953 1562.82 Q924.408 1559.33 925.293 1558.33 Q926.977 1556.43 927.637 1555.13 Q928.314 1553.81 928.314 1552.54 Q928.314 1550.48 926.856 1549.18 Q925.415 1547.87 923.089 1547.87 Q921.439 1547.87 919.599 1548.45 Q917.776 1549.02 915.693 1550.18 L915.693 1546.64 Q917.811 1545.79 919.651 1545.36 Q921.491 1544.92 923.019 1544.92 Q927.047 1544.92 929.443 1546.94 Q931.838 1548.95 931.838 1552.32 Q931.838 1553.92 931.231 1555.36 Q930.641 1556.78 929.061 1558.73 Q928.627 1559.23 926.3 1561.64 Q923.974 1564.04 919.738 1568.36 Z\" fill=\"#000000\" fill-rule=\"evenodd\" fill-opacity=\"1\" /><path clip-path=\"url(#clip590)\" d=\"M 0 0 M1090.48 1557.34 Q1092.99 1557.87 1094.4 1559.58 Q1095.82 1561.28 1095.82 1563.78 Q1095.82 1567.61 1093.18 1569.71 Q1090.55 1571.82 1085.68 1571.82 Q1084.05 1571.82 1082.32 1571.49 Q1080.6 1571.17 1078.76 1570.53 L1078.76 1567.15 Q1080.22 1568 1081.95 1568.43 Q1083.69 1568.86 1085.58 1568.86 Q1088.88 1568.86 1090.6 1567.56 Q1092.33 1566.26 1092.33 1563.78 Q1092.33 1561.49 1090.72 1560.2 Q1089.12 1558.9 1086.26 1558.9 L1083.24 1558.9 L1083.24 1556.02 L1086.4 1556.02 Q1088.98 1556.02 1090.36 1554.99 Q1091.73 1553.95 1091.73 1552.01 Q1091.73 1550.01 1090.3 1548.95 Q1088.9 1547.87 1086.26 1547.87 Q1084.82 1547.87 1083.17 1548.19 Q1081.52 1548.5 1079.54 1549.16 L1079.54 1546.03 Q1081.54 1545.48 1083.27 1545.2 Q1085.03 1544.92 1086.57 1544.92 Q1090.56 1544.92 1092.89 1546.75 Q1095.22 1548.55 1095.22 1551.64 Q1095.22 1553.79 1093.98 1555.29 Q1092.75 1556.76 1090.48 1557.34 Z\" fill=\"#000000\" fill-rule=\"evenodd\" fill-opacity=\"1\" /><polyline clip-path=\"url(#clip592)\" style=\"stroke:#000000; stroke-width:2; stroke-opacity:0.1; fill:none\" points=\"\n",
       "  86.9921,1371 1152.76,1371 \n",
       "  \"/>\n",
       "<polyline clip-path=\"url(#clip592)\" style=\"stroke:#000000; stroke-width:2; stroke-opacity:0.1; fill:none\" points=\"\n",
       "  86.9921,1207.32 1152.76,1207.32 \n",
       "  \"/>\n",
       "<polyline clip-path=\"url(#clip592)\" style=\"stroke:#000000; stroke-width:2; stroke-opacity:0.1; fill:none\" points=\"\n",
       "  86.9921,1043.63 1152.76,1043.63 \n",
       "  \"/>\n",
       "<polyline clip-path=\"url(#clip592)\" style=\"stroke:#000000; stroke-width:2; stroke-opacity:0.1; fill:none\" points=\"\n",
       "  86.9921,879.947 1152.76,879.947 \n",
       "  \"/>\n",
       "<polyline clip-path=\"url(#clip592)\" style=\"stroke:#000000; stroke-width:2; stroke-opacity:0.1; fill:none\" points=\"\n",
       "  86.9921,716.262 1152.76,716.262 \n",
       "  \"/>\n",
       "<polyline clip-path=\"url(#clip592)\" style=\"stroke:#000000; stroke-width:2; stroke-opacity:0.1; fill:none\" points=\"\n",
       "  86.9921,552.576 1152.76,552.576 \n",
       "  \"/>\n",
       "<polyline clip-path=\"url(#clip592)\" style=\"stroke:#000000; stroke-width:2; stroke-opacity:0.1; fill:none\" points=\"\n",
       "  86.9921,388.891 1152.76,388.891 \n",
       "  \"/>\n",
       "<polyline clip-path=\"url(#clip592)\" style=\"stroke:#000000; stroke-width:2; stroke-opacity:0.1; fill:none\" points=\"\n",
       "  86.9921,225.206 1152.76,225.206 \n",
       "  \"/>\n",
       "<polyline clip-path=\"url(#clip590)\" style=\"stroke:#000000; stroke-width:4; stroke-opacity:1; fill:none\" points=\"\n",
       "  86.9921,1521.01 86.9921,62.9921 \n",
       "  \"/>\n",
       "<polyline clip-path=\"url(#clip590)\" style=\"stroke:#000000; stroke-width:4; stroke-opacity:1; fill:none\" points=\"\n",
       "  86.9921,1371 99.7813,1371 \n",
       "  \"/>\n",
       "<polyline clip-path=\"url(#clip590)\" style=\"stroke:#000000; stroke-width:4; stroke-opacity:1; fill:none\" points=\"\n",
       "  86.9921,1207.32 99.7813,1207.32 \n",
       "  \"/>\n",
       "<polyline clip-path=\"url(#clip590)\" style=\"stroke:#000000; stroke-width:4; stroke-opacity:1; fill:none\" points=\"\n",
       "  86.9921,1043.63 99.7813,1043.63 \n",
       "  \"/>\n",
       "<polyline clip-path=\"url(#clip590)\" style=\"stroke:#000000; stroke-width:4; stroke-opacity:1; fill:none\" points=\"\n",
       "  86.9921,879.947 99.7813,879.947 \n",
       "  \"/>\n",
       "<polyline clip-path=\"url(#clip590)\" style=\"stroke:#000000; stroke-width:4; stroke-opacity:1; fill:none\" points=\"\n",
       "  86.9921,716.262 99.7813,716.262 \n",
       "  \"/>\n",
       "<polyline clip-path=\"url(#clip590)\" style=\"stroke:#000000; stroke-width:4; stroke-opacity:1; fill:none\" points=\"\n",
       "  86.9921,552.576 99.7813,552.576 \n",
       "  \"/>\n",
       "<polyline clip-path=\"url(#clip590)\" style=\"stroke:#000000; stroke-width:4; stroke-opacity:1; fill:none\" points=\"\n",
       "  86.9921,388.891 99.7813,388.891 \n",
       "  \"/>\n",
       "<polyline clip-path=\"url(#clip590)\" style=\"stroke:#000000; stroke-width:4; stroke-opacity:1; fill:none\" points=\"\n",
       "  86.9921,225.206 99.7813,225.206 \n",
       "  \"/>\n",
       "<path clip-path=\"url(#clip590)\" d=\"M 0 0 M-42.5722 1371.45 L-12.8964 1371.45 L-12.8964 1375.39 L-42.5722 1375.39 L-42.5722 1371.45 Z\" fill=\"#000000\" fill-rule=\"evenodd\" fill-opacity=\"1\" /><path clip-path=\"url(#clip590)\" d=\"M 0 0 M2.17294 1356.8 Q-1.43815 1356.8 -3.26684 1360.37 Q-5.07239 1363.91 -5.07239 1371.04 Q-5.07239 1378.14 -3.26684 1381.71 Q-1.43815 1385.25 2.17294 1385.25 Q5.80718 1385.25 7.61273 1381.71 Q9.44142 1378.14 9.44142 1371.04 Q9.44142 1363.91 7.61273 1360.37 Q5.80718 1356.8 2.17294 1356.8 M2.17294 1353.1 Q7.9831 1353.1 11.0386 1357.7 Q14.1173 1362.29 14.1173 1371.04 Q14.1173 1379.76 11.0386 1384.37 Q7.9831 1388.95 2.17294 1388.95 Q-3.63721 1388.95 -6.7159 1384.37 Q-9.77144 1379.76 -9.77144 1371.04 Q-9.77144 1362.29 -6.7159 1357.7 Q-3.63721 1353.1 2.17294 1353.1 Z\" fill=\"#000000\" fill-rule=\"evenodd\" fill-opacity=\"1\" /><path clip-path=\"url(#clip590)\" d=\"M 0 0 M19.1867 1382.4 L24.071 1382.4 L24.071 1388.28 L19.1867 1388.28 L19.1867 1382.4 Z\" fill=\"#000000\" fill-rule=\"evenodd\" fill-opacity=\"1\" /><path clip-path=\"url(#clip590)\" d=\"M 0 0 M39.1403 1371.87 Q35.807 1371.87 33.8857 1373.65 Q31.9876 1375.44 31.9876 1378.56 Q31.9876 1381.69 33.8857 1383.47 Q35.807 1385.25 39.1403 1385.25 Q42.4737 1385.25 44.3949 1383.47 Q46.3162 1381.66 46.3162 1378.56 Q46.3162 1375.44 44.3949 1373.65 Q42.4968 1371.87 39.1403 1371.87 M34.4644 1369.88 Q31.4552 1369.14 29.7654 1367.08 Q28.0987 1365.02 28.0987 1362.06 Q28.0987 1357.91 31.0385 1355.51 Q34.0015 1353.1 39.1403 1353.1 Q44.3023 1353.1 47.2421 1355.51 Q50.1819 1357.91 50.1819 1362.06 Q50.1819 1365.02 48.4921 1367.08 Q46.8255 1369.14 43.8394 1369.88 Q47.219 1370.67 49.094 1372.96 Q50.9921 1375.25 50.9921 1378.56 Q50.9921 1383.58 47.9134 1386.27 Q44.8579 1388.95 39.1403 1388.95 Q33.4228 1388.95 30.3441 1386.27 Q27.2885 1383.58 27.2885 1378.56 Q27.2885 1375.25 29.1867 1372.96 Q31.0848 1370.67 34.4644 1369.88 M32.7515 1362.5 Q32.7515 1365.18 34.4181 1366.69 Q36.1079 1368.19 39.1403 1368.19 Q42.1496 1368.19 43.8394 1366.69 Q45.5523 1365.18 45.5523 1362.5 Q45.5523 1359.81 43.8394 1358.31 Q42.1496 1356.8 39.1403 1356.8 Q36.1079 1356.8 34.4181 1358.31 Q32.7515 1359.81 32.7515 1362.5 Z\" fill=\"#000000\" fill-rule=\"evenodd\" fill-opacity=\"1\" /><path clip-path=\"url(#clip590)\" d=\"M 0 0 M-42.8268 1207.77 L-13.151 1207.77 L-13.151 1211.7 L-42.8268 1211.7 L-42.8268 1207.77 Z\" fill=\"#000000\" fill-rule=\"evenodd\" fill-opacity=\"1\" /><path clip-path=\"url(#clip590)\" d=\"M 0 0 M1.91831 1193.12 Q-1.69278 1193.12 -3.52147 1196.68 Q-5.32702 1200.22 -5.32702 1207.35 Q-5.32702 1214.46 -3.52147 1218.02 Q-1.69278 1221.57 1.91831 1221.57 Q5.55255 1221.57 7.3581 1218.02 Q9.18679 1214.46 9.18679 1207.35 Q9.18679 1200.22 7.3581 1196.68 Q5.55255 1193.12 1.91831 1193.12 M1.91831 1189.41 Q7.72847 1189.41 10.784 1194.02 Q13.8627 1198.6 13.8627 1207.35 Q13.8627 1216.08 10.784 1220.69 Q7.72847 1225.27 1.91831 1225.27 Q-3.89184 1225.27 -6.97053 1220.69 Q-10.0261 1216.08 -10.0261 1207.35 Q-10.0261 1198.6 -6.97053 1194.02 Q-3.89184 1189.41 1.91831 1189.41 Z\" fill=\"#000000\" fill-rule=\"evenodd\" fill-opacity=\"1\" /><path clip-path=\"url(#clip590)\" d=\"M 0 0 M18.9321 1218.72 L23.8163 1218.72 L23.8163 1224.6 L18.9321 1224.6 L18.9321 1218.72 Z\" fill=\"#000000\" fill-rule=\"evenodd\" fill-opacity=\"1\" /><path clip-path=\"url(#clip590)\" d=\"M 0 0 M39.4644 1205.45 Q36.3163 1205.45 34.4644 1207.61 Q32.6357 1209.76 32.6357 1213.51 Q32.6357 1217.24 34.4644 1219.41 Q36.3163 1221.57 39.4644 1221.57 Q42.6125 1221.57 44.4412 1219.41 Q46.2931 1217.24 46.2931 1213.51 Q46.2931 1209.76 44.4412 1207.61 Q42.6125 1205.45 39.4644 1205.45 M48.7468 1190.8 L48.7468 1195.06 Q46.9875 1194.23 45.182 1193.79 Q43.3996 1193.35 41.6403 1193.35 Q37.0107 1193.35 34.557 1196.47 Q32.1265 1199.6 31.7793 1205.92 Q33.145 1203.9 35.2052 1202.84 Q37.2653 1201.75 39.7422 1201.75 Q44.9505 1201.75 47.9597 1204.92 Q50.9921 1208.07 50.9921 1213.51 Q50.9921 1218.83 47.844 1222.05 Q44.6959 1225.27 39.4644 1225.27 Q33.4691 1225.27 30.2978 1220.69 Q27.1265 1216.08 27.1265 1207.35 Q27.1265 1199.16 31.0154 1194.3 Q34.9042 1189.41 41.4551 1189.41 Q43.2144 1189.41 44.9968 1189.76 Q46.8023 1190.11 48.7468 1190.8 Z\" fill=\"#000000\" fill-rule=\"evenodd\" fill-opacity=\"1\" /><path clip-path=\"url(#clip590)\" d=\"M 0 0 M-43.1509 1044.08 L-13.4751 1044.08 L-13.4751 1048.02 L-43.1509 1048.02 L-43.1509 1044.08 Z\" fill=\"#000000\" fill-rule=\"evenodd\" fill-opacity=\"1\" /><path clip-path=\"url(#clip590)\" d=\"M 0 0 M1.59424 1029.43 Q-2.01685 1029.43 -3.84554 1033 Q-5.65109 1036.54 -5.65109 1043.67 Q-5.65109 1050.77 -3.84554 1054.34 Q-2.01685 1057.88 1.59424 1057.88 Q5.22848 1057.88 7.03403 1054.34 Q8.86272 1050.77 8.86272 1043.67 Q8.86272 1036.54 7.03403 1033 Q5.22848 1029.43 1.59424 1029.43 M1.59424 1025.73 Q7.4044 1025.73 10.4599 1030.33 Q13.5386 1034.92 13.5386 1043.67 Q13.5386 1052.39 10.4599 1057 Q7.4044 1061.58 1.59424 1061.58 Q-4.21591 1061.58 -7.2946 1057 Q-10.3501 1052.39 -10.3501 1043.67 Q-10.3501 1034.92 -7.2946 1030.33 Q-4.21591 1025.73 1.59424 1025.73 Z\" fill=\"#000000\" fill-rule=\"evenodd\" fill-opacity=\"1\" /><path clip-path=\"url(#clip590)\" d=\"M 0 0 M18.608 1055.03 L23.4923 1055.03 L23.4923 1060.91 L18.608 1060.91 L18.608 1055.03 Z\" fill=\"#000000\" fill-rule=\"evenodd\" fill-opacity=\"1\" /><path clip-path=\"url(#clip590)\" d=\"M 0 0 M41.4088 1030.43 L29.6034 1048.88 L41.4088 1048.88 L41.4088 1030.43 M40.182 1026.35 L46.0616 1026.35 L46.0616 1048.88 L50.9921 1048.88 L50.9921 1052.76 L46.0616 1052.76 L46.0616 1060.91 L41.4088 1060.91 L41.4088 1052.76 L25.8071 1052.76 L25.8071 1048.25 L40.182 1026.35 Z\" fill=\"#000000\" fill-rule=\"evenodd\" fill-opacity=\"1\" /><path clip-path=\"url(#clip590)\" d=\"M 0 0 M-41.0676 880.398 L-11.3918 880.398 L-11.3918 884.334 L-41.0676 884.334 L-41.0676 880.398 Z\" fill=\"#000000\" fill-rule=\"evenodd\" fill-opacity=\"1\" /><path clip-path=\"url(#clip590)\" d=\"M 0 0 M3.67756 865.746 Q0.0664729 865.746 -1.76222 869.31 Q-3.56777 872.852 -3.56777 879.982 Q-3.56777 887.088 -1.76222 890.653 Q0.0664729 894.195 3.67756 894.195 Q7.3118 894.195 9.11735 890.653 Q10.946 887.088 10.946 879.982 Q10.946 872.852 9.11735 869.31 Q7.3118 865.746 3.67756 865.746 M3.67756 862.042 Q9.48772 862.042 12.5433 866.648 Q15.6219 871.232 15.6219 879.982 Q15.6219 888.709 12.5433 893.315 Q9.48772 897.898 3.67756 897.898 Q-2.13259 897.898 -5.21128 893.315 Q-8.26682 888.709 -8.26682 879.982 Q-8.26682 871.232 -5.21128 866.648 Q-2.13259 862.042 3.67756 862.042 Z\" fill=\"#000000\" fill-rule=\"evenodd\" fill-opacity=\"1\" /><path clip-path=\"url(#clip590)\" d=\"M 0 0 M20.6914 891.347 L25.5756 891.347 L25.5756 897.227 L20.6914 897.227 L20.6914 891.347 Z\" fill=\"#000000\" fill-rule=\"evenodd\" fill-opacity=\"1\" /><path clip-path=\"url(#clip590)\" d=\"M 0 0 M34.6728 893.292 L50.9921 893.292 L50.9921 897.227 L29.0478 897.227 L29.0478 893.292 Q31.7098 890.537 36.2931 885.908 Q40.8996 881.255 42.0801 879.912 Q44.3255 877.389 45.2051 875.653 Q46.1079 873.894 46.1079 872.204 Q46.1079 869.449 44.1635 867.713 Q42.2422 865.977 39.1403 865.977 Q36.9413 865.977 34.4876 866.741 Q32.057 867.505 29.2793 869.056 L29.2793 864.334 Q32.1033 863.199 34.557 862.621 Q37.0107 862.042 39.0477 862.042 Q44.4181 862.042 47.6125 864.727 Q50.8069 867.412 50.8069 871.903 Q50.8069 874.033 49.9968 875.954 Q49.2097 877.852 47.1033 880.445 Q46.5246 881.116 43.4227 884.334 Q40.3209 887.528 34.6728 893.292 Z\" fill=\"#000000\" fill-rule=\"evenodd\" fill-opacity=\"1\" /><path clip-path=\"url(#clip590)\" d=\"M 0 0 M2.08035 702.06 Q-1.53074 702.06 -3.35943 705.625 Q-5.16498 709.167 -5.16498 716.296 Q-5.16498 723.403 -3.35943 726.968 Q-1.53074 730.509 2.08035 730.509 Q5.71459 730.509 7.52014 726.968 Q9.34883 723.403 9.34883 716.296 Q9.34883 709.167 7.52014 705.625 Q5.71459 702.06 2.08035 702.06 M2.08035 698.357 Q7.89051 698.357 10.946 702.963 Q14.0247 707.547 14.0247 716.296 Q14.0247 725.023 10.946 729.63 Q7.89051 734.213 2.08035 734.213 Q-3.7298 734.213 -6.80849 729.63 Q-9.86403 725.023 -9.86403 716.296 Q-9.86403 707.547 -6.80849 702.963 Q-3.7298 698.357 2.08035 698.357 Z\" fill=\"#000000\" fill-rule=\"evenodd\" fill-opacity=\"1\" /><path clip-path=\"url(#clip590)\" d=\"M 0 0 M19.0941 727.662 L23.9784 727.662 L23.9784 733.542 L19.0941 733.542 L19.0941 727.662 Z\" fill=\"#000000\" fill-rule=\"evenodd\" fill-opacity=\"1\" /><path clip-path=\"url(#clip590)\" d=\"M 0 0 M39.0477 702.06 Q35.4367 702.06 33.608 705.625 Q31.8024 709.167 31.8024 716.296 Q31.8024 723.403 33.608 726.968 Q35.4367 730.509 39.0477 730.509 Q42.682 730.509 44.4875 726.968 Q46.3162 723.403 46.3162 716.296 Q46.3162 709.167 44.4875 705.625 Q42.682 702.06 39.0477 702.06 M39.0477 698.357 Q44.8579 698.357 47.9134 702.963 Q50.9921 707.547 50.9921 716.296 Q50.9921 725.023 47.9134 729.63 Q44.8579 734.213 39.0477 734.213 Q33.2376 734.213 30.1589 729.63 Q27.1034 725.023 27.1034 716.296 Q27.1034 707.547 30.1589 702.963 Q33.2376 698.357 39.0477 698.357 Z\" fill=\"#000000\" fill-rule=\"evenodd\" fill-opacity=\"1\" /><path clip-path=\"url(#clip590)\" d=\"M 0 0 M3.67756 538.375 Q0.0664729 538.375 -1.76222 541.94 Q-3.56777 545.482 -3.56777 552.611 Q-3.56777 559.718 -1.76222 563.282 Q0.0664729 566.824 3.67756 566.824 Q7.3118 566.824 9.11735 563.282 Q10.946 559.718 10.946 552.611 Q10.946 545.482 9.11735 541.94 Q7.3118 538.375 3.67756 538.375 M3.67756 534.671 Q9.48772 534.671 12.5433 539.278 Q15.6219 543.861 15.6219 552.611 Q15.6219 561.338 12.5433 565.944 Q9.48772 570.528 3.67756 570.528 Q-2.13259 570.528 -5.21128 565.944 Q-8.26682 561.338 -8.26682 552.611 Q-8.26682 543.861 -5.21128 539.278 Q-2.13259 534.671 3.67756 534.671 Z\" fill=\"#000000\" fill-rule=\"evenodd\" fill-opacity=\"1\" /><path clip-path=\"url(#clip590)\" d=\"M 0 0 M20.6914 563.977 L25.5756 563.977 L25.5756 569.856 L20.6914 569.856 L20.6914 563.977 Z\" fill=\"#000000\" fill-rule=\"evenodd\" fill-opacity=\"1\" /><path clip-path=\"url(#clip590)\" d=\"M 0 0 M34.6728 565.921 L50.9921 565.921 L50.9921 569.856 L29.0478 569.856 L29.0478 565.921 Q31.7098 563.167 36.2931 558.537 Q40.8996 553.884 42.0801 552.542 Q44.3255 550.019 45.2051 548.283 Q46.1079 546.523 46.1079 544.833 Q46.1079 542.079 44.1635 540.343 Q42.2422 538.607 39.1403 538.607 Q36.9413 538.607 34.4876 539.371 Q32.057 540.134 29.2793 541.685 L29.2793 536.963 Q32.1033 535.829 34.557 535.25 Q37.0107 534.671 39.0477 534.671 Q44.4181 534.671 47.6125 537.357 Q50.8069 540.042 50.8069 544.533 Q50.8069 546.662 49.9968 548.583 Q49.2097 550.482 47.1033 553.074 Q46.5246 553.745 43.4227 556.963 Q40.3209 560.157 34.6728 565.921 Z\" fill=\"#000000\" fill-rule=\"evenodd\" fill-opacity=\"1\" /><path clip-path=\"url(#clip590)\" d=\"M 0 0 M1.59424 374.69 Q-2.01685 374.69 -3.84554 378.255 Q-5.65109 381.796 -5.65109 388.926 Q-5.65109 396.032 -3.84554 399.597 Q-2.01685 403.139 1.59424 403.139 Q5.22848 403.139 7.03403 399.597 Q8.86272 396.032 8.86272 388.926 Q8.86272 381.796 7.03403 378.255 Q5.22848 374.69 1.59424 374.69 M1.59424 370.986 Q7.4044 370.986 10.4599 375.593 Q13.5386 380.176 13.5386 388.926 Q13.5386 397.653 10.4599 402.259 Q7.4044 406.843 1.59424 406.843 Q-4.21591 406.843 -7.2946 402.259 Q-10.3501 397.653 -10.3501 388.926 Q-10.3501 380.176 -7.2946 375.593 Q-4.21591 370.986 1.59424 370.986 Z\" fill=\"#000000\" fill-rule=\"evenodd\" fill-opacity=\"1\" /><path clip-path=\"url(#clip590)\" d=\"M 0 0 M18.608 400.292 L23.4923 400.292 L23.4923 406.171 L18.608 406.171 L18.608 400.292 Z\" fill=\"#000000\" fill-rule=\"evenodd\" fill-opacity=\"1\" /><path clip-path=\"url(#clip590)\" d=\"M 0 0 M41.4088 375.685 L29.6034 394.134 L41.4088 394.134 L41.4088 375.685 M40.182 371.611 L46.0616 371.611 L46.0616 394.134 L50.9921 394.134 L50.9921 398.023 L46.0616 398.023 L46.0616 406.171 L41.4088 406.171 L41.4088 398.023 L25.8071 398.023 L25.8071 393.509 L40.182 371.611 Z\" fill=\"#000000\" fill-rule=\"evenodd\" fill-opacity=\"1\" /><path clip-path=\"url(#clip590)\" d=\"M 0 0 M1.91831 211.005 Q-1.69278 211.005 -3.52147 214.569 Q-5.32702 218.111 -5.32702 225.241 Q-5.32702 232.347 -3.52147 235.912 Q-1.69278 239.454 1.91831 239.454 Q5.55255 239.454 7.3581 235.912 Q9.18679 232.347 9.18679 225.241 Q9.18679 218.111 7.3581 214.569 Q5.55255 211.005 1.91831 211.005 M1.91831 207.301 Q7.72847 207.301 10.784 211.907 Q13.8627 216.491 13.8627 225.241 Q13.8627 233.968 10.784 238.574 Q7.72847 243.157 1.91831 243.157 Q-3.89184 243.157 -6.97053 238.574 Q-10.0261 233.968 -10.0261 225.241 Q-10.0261 216.491 -6.97053 211.907 Q-3.89184 207.301 1.91831 207.301 Z\" fill=\"#000000\" fill-rule=\"evenodd\" fill-opacity=\"1\" /><path clip-path=\"url(#clip590)\" d=\"M 0 0 M18.9321 236.606 L23.8163 236.606 L23.8163 242.486 L18.9321 242.486 L18.9321 236.606 Z\" fill=\"#000000\" fill-rule=\"evenodd\" fill-opacity=\"1\" /><path clip-path=\"url(#clip590)\" d=\"M 0 0 M39.4644 223.343 Q36.3163 223.343 34.4644 225.495 Q32.6357 227.648 32.6357 231.398 Q32.6357 235.125 34.4644 237.301 Q36.3163 239.454 39.4644 239.454 Q42.6125 239.454 44.4412 237.301 Q46.2931 235.125 46.2931 231.398 Q46.2931 227.648 44.4412 225.495 Q42.6125 223.343 39.4644 223.343 M48.7468 208.69 L48.7468 212.949 Q46.9875 212.116 45.182 211.676 Q43.3996 211.236 41.6403 211.236 Q37.0107 211.236 34.557 214.361 Q32.1265 217.486 31.7793 223.806 Q33.145 221.792 35.2052 220.727 Q37.2653 219.639 39.7422 219.639 Q44.9505 219.639 47.9597 222.81 Q50.9921 225.958 50.9921 231.398 Q50.9921 236.722 47.844 239.94 Q44.6959 243.157 39.4644 243.157 Q33.4691 243.157 30.2978 238.574 Q27.1265 233.968 27.1265 225.241 Q27.1265 217.046 31.0154 212.185 Q34.9042 207.301 41.4551 207.301 Q43.2144 207.301 44.9968 207.648 Q46.8023 207.995 48.7468 208.69 Z\" fill=\"#000000\" fill-rule=\"evenodd\" fill-opacity=\"1\" /><path clip-path=\"url(#clip590)\" d=\"M 0 0 M410.581 6.912 L430.442 6.912 L430.442 10.8472 L415.257 10.8472 L415.257 21.0323 L428.961 21.0323 L428.961 24.9675 L415.257 24.9675 L415.257 41.472 L410.581 41.472 L410.581 6.912 Z\" fill=\"#000000\" fill-rule=\"evenodd\" fill-opacity=\"1\" /><path clip-path=\"url(#clip590)\" d=\"M 0 0 M431.877 31.2406 L431.877 15.5462 L436.137 15.5462 L436.137 31.0785 Q436.137 34.7591 437.572 36.6109 Q439.007 38.4396 441.877 38.4396 Q445.326 38.4396 447.317 36.2405 Q449.331 34.0415 449.331 30.2452 L449.331 15.5462 L453.59 15.5462 L453.59 41.472 L449.331 41.472 L449.331 37.4905 Q447.78 39.8516 445.72 41.009 Q443.683 42.1433 440.975 42.1433 Q436.507 42.1433 434.192 39.3655 Q431.877 36.5878 431.877 31.2406 M442.595 14.9212 L442.595 14.9212 Z\" fill=\"#000000\" fill-rule=\"evenodd\" fill-opacity=\"1\" /><path clip-path=\"url(#clip590)\" d=\"M 0 0 M456.206 15.5462 L476.437 15.5462 L476.437 19.4351 L460.419 38.0692 L476.437 38.0692 L476.437 41.472 L455.627 41.472 L455.627 37.5831 L471.646 18.949 L456.206 18.949 L456.206 15.5462 Z\" fill=\"#000000\" fill-rule=\"evenodd\" fill-opacity=\"1\" /><path clip-path=\"url(#clip590)\" d=\"M 0 0 M479.053 15.5462 L499.284 15.5462 L499.284 19.4351 L483.266 38.0692 L499.284 38.0692 L499.284 41.472 L478.474 41.472 L478.474 37.5831 L494.493 18.949 L479.053 18.949 L479.053 15.5462 Z\" fill=\"#000000\" fill-rule=\"evenodd\" fill-opacity=\"1\" /><path clip-path=\"url(#clip590)\" d=\"M 0 0 M514.539 43.8794 Q512.733 48.509 511.02 49.921 Q509.307 51.3331 506.437 51.3331 L503.034 51.3331 L503.034 47.7683 L505.534 47.7683 Q507.294 47.7683 508.266 46.9349 Q509.238 46.1016 510.419 42.9998 L511.182 41.0553 L500.696 15.5462 L505.21 15.5462 L513.312 35.8239 L521.414 15.5462 L525.928 15.5462 L514.539 43.8794 Z\" fill=\"#000000\" fill-rule=\"evenodd\" fill-opacity=\"1\" /><path clip-path=\"url(#clip590)\" d=\"M 0 0 M542.131 11.5185 L535.789 28.7174 L548.497 28.7174 L542.131 11.5185 M539.493 6.912 L544.793 6.912 L557.965 41.472 L553.104 41.472 L549.955 32.6063 L534.377 32.6063 L531.229 41.472 L526.298 41.472 L539.493 6.912 Z\" fill=\"#000000\" fill-rule=\"evenodd\" fill-opacity=\"1\" /><path clip-path=\"url(#clip590)\" d=\"M 0 0 M579.006 25.2684 Q580.511 25.7776 581.923 27.4443 Q583.358 29.111 584.793 32.0276 L589.539 41.472 L584.515 41.472 L580.094 32.6063 Q578.381 29.1341 576.761 27.9998 Q575.164 26.8656 572.386 26.8656 L567.293 26.8656 L567.293 41.472 L562.617 41.472 L562.617 6.912 L573.173 6.912 Q579.099 6.912 582.015 9.38884 Q584.932 11.8657 584.932 16.8657 Q584.932 20.1295 583.404 22.2823 Q581.9 24.4351 579.006 25.2684 M567.293 10.7546 L567.293 23.023 L573.173 23.023 Q576.552 23.023 578.265 21.4721 Q580.002 19.898 580.002 16.8657 Q580.002 13.8333 578.265 12.3055 Q576.552 10.7546 573.173 10.7546 L567.293 10.7546 Z\" fill=\"#000000\" fill-rule=\"evenodd\" fill-opacity=\"1\" /><path clip-path=\"url(#clip590)\" d=\"M 0 0 M585.951 6.912 L615.187 6.912 L615.187 10.8472 L602.918 10.8472 L602.918 41.472 L598.219 41.472 L598.219 10.8472 L585.951 10.8472 L585.951 6.912 Z\" fill=\"#000000\" fill-rule=\"evenodd\" fill-opacity=\"1\" /><path clip-path=\"url(#clip590)\" d=\"M 0 0 M649.747 19.5277 Q649.029 19.111 648.172 18.9258 Q647.339 18.7175 646.321 18.7175 Q642.71 18.7175 640.765 21.0786 Q638.844 23.4165 638.844 27.8147 L638.844 41.472 L634.561 41.472 L634.561 15.5462 L638.844 15.5462 L638.844 19.574 Q640.186 17.2129 642.339 16.0786 Q644.492 14.9212 647.571 14.9212 Q648.01 14.9212 648.543 14.9907 Q649.075 15.037 649.723 15.1527 L649.747 19.5277 Z\" fill=\"#000000\" fill-rule=\"evenodd\" fill-opacity=\"1\" /><path clip-path=\"url(#clip590)\" d=\"M 0 0 M674.932 25.8239 L674.932 41.472 L670.672 41.472 L670.672 25.9628 Q670.672 22.2823 669.237 20.4536 Q667.802 18.6249 664.932 18.6249 Q661.483 18.6249 659.492 20.824 Q657.501 23.023 657.501 26.8193 L657.501 41.472 L653.219 41.472 L653.219 5.45367 L657.501 5.45367 L657.501 19.574 Q659.029 17.236 661.089 16.0786 Q663.172 14.9212 665.881 14.9212 Q670.348 14.9212 672.64 17.699 Q674.932 20.4536 674.932 25.8239 Z\" fill=\"#000000\" fill-rule=\"evenodd\" fill-opacity=\"1\" /><path clip-path=\"url(#clip590)\" d=\"M 0 0 M689.445 18.5323 Q686.019 18.5323 684.029 21.2175 Q682.038 23.8795 682.038 28.5323 Q682.038 33.185 684.006 35.8702 Q685.996 38.5322 689.445 38.5322 Q692.848 38.5322 694.839 35.847 Q696.83 33.1619 696.83 28.5323 Q696.83 23.9258 694.839 21.2406 Q692.848 18.5323 689.445 18.5323 M689.445 14.9212 Q695.001 14.9212 698.172 18.5323 Q701.343 22.1434 701.343 28.5323 Q701.343 34.898 698.172 38.5322 Q695.001 42.1433 689.445 42.1433 Q683.867 42.1433 680.695 38.5322 Q677.547 34.898 677.547 28.5323 Q677.547 22.1434 680.695 18.5323 Q683.867 14.9212 689.445 14.9212 Z\" fill=\"#000000\" fill-rule=\"evenodd\" fill-opacity=\"1\" /><path clip-path=\"url(#clip590)\" d=\"M 0 0 M721.436 19.9443 L751.112 19.9443 L751.112 23.8332 L721.436 23.8332 L721.436 19.9443 M721.436 29.3887 L751.112 29.3887 L751.112 33.3239 L721.436 33.3239 L721.436 29.3887 Z\" fill=\"#000000\" fill-rule=\"evenodd\" fill-opacity=\"1\" /><path clip-path=\"url(#clip590)\" d=\"M 0 0 M781.25 9.99069 Q777.639 9.99069 775.811 13.5555 Q774.005 17.0971 774.005 24.2267 Q774.005 31.3332 775.811 34.898 Q777.639 38.4396 781.25 38.4396 Q784.885 38.4396 786.69 34.898 Q788.519 31.3332 788.519 24.2267 Q788.519 17.0971 786.69 13.5555 Q784.885 9.99069 781.25 9.99069 M781.25 6.287 Q787.061 6.287 790.116 10.8935 Q793.195 15.4768 793.195 24.2267 Q793.195 32.9535 790.116 37.56 Q787.061 42.1433 781.25 42.1433 Q775.44 42.1433 772.362 37.56 Q769.306 32.9535 769.306 24.2267 Q769.306 15.4768 772.362 10.8935 Q775.44 6.287 781.25 6.287 Z\" fill=\"#000000\" fill-rule=\"evenodd\" fill-opacity=\"1\" /><path clip-path=\"url(#clip590)\" d=\"M 0 0 M798.264 35.5924 L803.148 35.5924 L803.148 41.472 L798.264 41.472 L798.264 35.5924 Z\" fill=\"#000000\" fill-rule=\"evenodd\" fill-opacity=\"1\" /><path clip-path=\"url(#clip590)\" d=\"M 0 0 M808.264 6.912 L826.621 6.912 L826.621 10.8472 L812.547 10.8472 L812.547 19.3193 Q813.565 18.9721 814.584 18.8101 Q815.602 18.6249 816.621 18.6249 Q822.408 18.6249 825.787 21.7962 Q829.167 24.9675 829.167 30.3841 Q829.167 35.9628 825.695 39.0646 Q822.222 42.1433 815.903 42.1433 Q813.727 42.1433 811.459 41.7729 Q809.213 41.4026 806.806 40.6618 L806.806 35.9628 Q808.889 37.097 811.111 37.6526 Q813.334 38.2081 815.81 38.2081 Q819.815 38.2081 822.153 36.1017 Q824.491 33.9952 824.491 30.3841 Q824.491 26.773 822.153 24.6665 Q819.815 22.5601 815.81 22.5601 Q813.935 22.5601 812.06 22.9767 Q810.209 23.3934 808.264 24.273 L808.264 6.912 Z\" fill=\"#000000\" fill-rule=\"evenodd\" fill-opacity=\"1\" /><circle clip-path=\"url(#clip592)\" cx=\"1006.81\" cy=\"830.069\" r=\"14\" fill=\"#009af9\" fill-rule=\"evenodd\" fill-opacity=\"1\" stroke=\"#000000\" stroke-opacity=\"1\" stroke-width=\"3.2\"/>\n",
       "<circle clip-path=\"url(#clip592)\" cx=\"1122.59\" cy=\"600.36\" r=\"14\" fill=\"#009af9\" fill-rule=\"evenodd\" fill-opacity=\"1\" stroke=\"#000000\" stroke-opacity=\"1\" stroke-width=\"3.2\"/>\n",
       "<circle clip-path=\"url(#clip592)\" cx=\"1069.27\" cy=\"828.669\" r=\"14\" fill=\"#009af9\" fill-rule=\"evenodd\" fill-opacity=\"1\" stroke=\"#000000\" stroke-opacity=\"1\" stroke-width=\"3.2\"/>\n",
       "<circle clip-path=\"url(#clip592)\" cx=\"973.323\" cy=\"629.899\" r=\"14\" fill=\"#009af9\" fill-rule=\"evenodd\" fill-opacity=\"1\" stroke=\"#000000\" stroke-opacity=\"1\" stroke-width=\"3.2\"/>\n",
       "<circle clip-path=\"url(#clip592)\" cx=\"969.523\" cy=\"104.257\" r=\"14\" fill=\"#009af9\" fill-rule=\"evenodd\" fill-opacity=\"1\" stroke=\"#000000\" stroke-opacity=\"1\" stroke-width=\"3.2\"/>\n",
       "<circle clip-path=\"url(#clip592)\" cx=\"1063.12\" cy=\"1479.74\" r=\"14\" fill=\"#009af9\" fill-rule=\"evenodd\" fill-opacity=\"1\" stroke=\"#000000\" stroke-opacity=\"1\" stroke-width=\"3.2\"/>\n",
       "<circle clip-path=\"url(#clip592)\" cx=\"1065.54\" cy=\"653.085\" r=\"14\" fill=\"#009af9\" fill-rule=\"evenodd\" fill-opacity=\"1\" stroke=\"#000000\" stroke-opacity=\"1\" stroke-width=\"3.2\"/>\n",
       "<circle clip-path=\"url(#clip592)\" cx=\"1040.75\" cy=\"855.032\" r=\"14\" fill=\"#009af9\" fill-rule=\"evenodd\" fill-opacity=\"1\" stroke=\"#000000\" stroke-opacity=\"1\" stroke-width=\"3.2\"/>\n",
       "<circle clip-path=\"url(#clip592)\" cx=\"1049.7\" cy=\"494.42\" r=\"14\" fill=\"#009af9\" fill-rule=\"evenodd\" fill-opacity=\"1\" stroke=\"#000000\" stroke-opacity=\"1\" stroke-width=\"3.2\"/>\n",
       "<circle clip-path=\"url(#clip592)\" cx=\"990.067\" cy=\"555.918\" r=\"14\" fill=\"#009af9\" fill-rule=\"evenodd\" fill-opacity=\"1\" stroke=\"#000000\" stroke-opacity=\"1\" stroke-width=\"3.2\"/>\n",
       "<circle clip-path=\"url(#clip592)\" cx=\"1028.39\" cy=\"454.946\" r=\"14\" fill=\"#009af9\" fill-rule=\"evenodd\" fill-opacity=\"1\" stroke=\"#000000\" stroke-opacity=\"1\" stroke-width=\"3.2\"/>\n",
       "<circle clip-path=\"url(#clip592)\" cx=\"1027.25\" cy=\"871.825\" r=\"14\" fill=\"#009af9\" fill-rule=\"evenodd\" fill-opacity=\"1\" stroke=\"#000000\" stroke-opacity=\"1\" stroke-width=\"3.2\"/>\n",
       "<circle clip-path=\"url(#clip592)\" cx=\"1006.59\" cy=\"182.701\" r=\"14\" fill=\"#009af9\" fill-rule=\"evenodd\" fill-opacity=\"1\" stroke=\"#000000\" stroke-opacity=\"1\" stroke-width=\"3.2\"/>\n",
       "<circle clip-path=\"url(#clip592)\" cx=\"1019.99\" cy=\"877.813\" r=\"14\" fill=\"#009af9\" fill-rule=\"evenodd\" fill-opacity=\"1\" stroke=\"#000000\" stroke-opacity=\"1\" stroke-width=\"3.2\"/>\n",
       "<circle clip-path=\"url(#clip592)\" cx=\"1029.78\" cy=\"455.072\" r=\"14\" fill=\"#009af9\" fill-rule=\"evenodd\" fill-opacity=\"1\" stroke=\"#000000\" stroke-opacity=\"1\" stroke-width=\"3.2\"/>\n",
       "<circle clip-path=\"url(#clip592)\" cx=\"444.174\" cy=\"455.022\" r=\"14\" fill=\"#e26f46\" fill-rule=\"evenodd\" fill-opacity=\"1\" stroke=\"#000000\" stroke-opacity=\"1\" stroke-width=\"3.2\"/>\n",
       "<circle clip-path=\"url(#clip592)\" cx=\"384.635\" cy=\"984.347\" r=\"14\" fill=\"#e26f46\" fill-rule=\"evenodd\" fill-opacity=\"1\" stroke=\"#000000\" stroke-opacity=\"1\" stroke-width=\"3.2\"/>\n",
       "<circle clip-path=\"url(#clip592)\" cx=\"608.167\" cy=\"1291.24\" r=\"14\" fill=\"#e26f46\" fill-rule=\"evenodd\" fill-opacity=\"1\" stroke=\"#000000\" stroke-opacity=\"1\" stroke-width=\"3.2\"/>\n",
       "<circle clip-path=\"url(#clip592)\" cx=\"357.227\" cy=\"303.62\" r=\"14\" fill=\"#e26f46\" fill-rule=\"evenodd\" fill-opacity=\"1\" stroke=\"#000000\" stroke-opacity=\"1\" stroke-width=\"3.2\"/>\n",
       "<circle clip-path=\"url(#clip592)\" cx=\"384.331\" cy=\"1339.1\" r=\"14\" fill=\"#e26f46\" fill-rule=\"evenodd\" fill-opacity=\"1\" stroke=\"#000000\" stroke-opacity=\"1\" stroke-width=\"3.2\"/>\n",
       "<circle clip-path=\"url(#clip592)\" cx=\"559.232\" cy=\"1045.48\" r=\"14\" fill=\"#e26f46\" fill-rule=\"evenodd\" fill-opacity=\"1\" stroke=\"#000000\" stroke-opacity=\"1\" stroke-width=\"3.2\"/>\n",
       "<circle clip-path=\"url(#clip592)\" cx=\"500.619\" cy=\"1111.79\" r=\"14\" fill=\"#e26f46\" fill-rule=\"evenodd\" fill-opacity=\"1\" stroke=\"#000000\" stroke-opacity=\"1\" stroke-width=\"3.2\"/>\n",
       "<circle clip-path=\"url(#clip592)\" cx=\"386.544\" cy=\"155.28\" r=\"14\" fill=\"#e26f46\" fill-rule=\"evenodd\" fill-opacity=\"1\" stroke=\"#000000\" stroke-opacity=\"1\" stroke-width=\"3.2\"/>\n",
       "<circle clip-path=\"url(#clip592)\" cx=\"451.084\" cy=\"743.935\" r=\"14\" fill=\"#e26f46\" fill-rule=\"evenodd\" fill-opacity=\"1\" stroke=\"#000000\" stroke-opacity=\"1\" stroke-width=\"3.2\"/>\n",
       "<circle clip-path=\"url(#clip592)\" cx=\"513.077\" cy=\"799.974\" r=\"14\" fill=\"#e26f46\" fill-rule=\"evenodd\" fill-opacity=\"1\" stroke=\"#000000\" stroke-opacity=\"1\" stroke-width=\"3.2\"/>\n",
       "<circle clip-path=\"url(#clip592)\" cx=\"446.122\" cy=\"865.535\" r=\"14\" fill=\"#e26f46\" fill-rule=\"evenodd\" fill-opacity=\"1\" stroke=\"#000000\" stroke-opacity=\"1\" stroke-width=\"3.2\"/>\n",
       "<circle clip-path=\"url(#clip592)\" cx=\"418.87\" cy=\"654.56\" r=\"14\" fill=\"#e26f46\" fill-rule=\"evenodd\" fill-opacity=\"1\" stroke=\"#000000\" stroke-opacity=\"1\" stroke-width=\"3.2\"/>\n",
       "<circle clip-path=\"url(#clip592)\" cx=\"479.892\" cy=\"593.187\" r=\"14\" fill=\"#e26f46\" fill-rule=\"evenodd\" fill-opacity=\"1\" stroke=\"#000000\" stroke-opacity=\"1\" stroke-width=\"3.2\"/>\n",
       "<circle clip-path=\"url(#clip592)\" cx=\"553.76\" cy=\"1164.67\" r=\"14\" fill=\"#e26f46\" fill-rule=\"evenodd\" fill-opacity=\"1\" stroke=\"#000000\" stroke-opacity=\"1\" stroke-width=\"3.2\"/>\n",
       "<circle clip-path=\"url(#clip592)\" cx=\"212.377\" cy=\"750.54\" r=\"14\" fill=\"#3da44d\" fill-rule=\"evenodd\" fill-opacity=\"1\" stroke=\"#000000\" stroke-opacity=\"1\" stroke-width=\"3.2\"/>\n",
       "<circle clip-path=\"url(#clip592)\" cx=\"405.506\" cy=\"850.895\" r=\"14\" fill=\"#3da44d\" fill-rule=\"evenodd\" fill-opacity=\"1\" stroke=\"#000000\" stroke-opacity=\"1\" stroke-width=\"3.2\"/>\n",
       "<circle clip-path=\"url(#clip592)\" cx=\"285.137\" cy=\"676.938\" r=\"14\" fill=\"#3da44d\" fill-rule=\"evenodd\" fill-opacity=\"1\" stroke=\"#000000\" stroke-opacity=\"1\" stroke-width=\"3.2\"/>\n",
       "<circle clip-path=\"url(#clip592)\" cx=\"305.616\" cy=\"1126.67\" r=\"14\" fill=\"#3da44d\" fill-rule=\"evenodd\" fill-opacity=\"1\" stroke=\"#000000\" stroke-opacity=\"1\" stroke-width=\"3.2\"/>\n",
       "<circle clip-path=\"url(#clip592)\" cx=\"371.181\" cy=\"1060.99\" r=\"14\" fill=\"#3da44d\" fill-rule=\"evenodd\" fill-opacity=\"1\" stroke=\"#000000\" stroke-opacity=\"1\" stroke-width=\"3.2\"/>\n",
       "<circle clip-path=\"url(#clip592)\" cx=\"400.723\" cy=\"1211.88\" r=\"14\" fill=\"#3da44d\" fill-rule=\"evenodd\" fill-opacity=\"1\" stroke=\"#000000\" stroke-opacity=\"1\" stroke-width=\"3.2\"/>\n",
       "<circle clip-path=\"url(#clip592)\" cx=\"224.464\" cy=\"443.409\" r=\"14\" fill=\"#3da44d\" fill-rule=\"evenodd\" fill-opacity=\"1\" stroke=\"#000000\" stroke-opacity=\"1\" stroke-width=\"3.2\"/>\n",
       "<circle clip-path=\"url(#clip592)\" cx=\"301.904\" cy=\"893.168\" r=\"14\" fill=\"#3da44d\" fill-rule=\"evenodd\" fill-opacity=\"1\" stroke=\"#000000\" stroke-opacity=\"1\" stroke-width=\"3.2\"/>\n",
       "<circle clip-path=\"url(#clip592)\" cx=\"242.531\" cy=\"540.071\" r=\"14\" fill=\"#3da44d\" fill-rule=\"evenodd\" fill-opacity=\"1\" stroke=\"#000000\" stroke-opacity=\"1\" stroke-width=\"3.2\"/>\n",
       "<circle clip-path=\"url(#clip592)\" cx=\"277.878\" cy=\"682.927\" r=\"14\" fill=\"#3da44d\" fill-rule=\"evenodd\" fill-opacity=\"1\" stroke=\"#000000\" stroke-opacity=\"1\" stroke-width=\"3.2\"/>\n",
       "<circle clip-path=\"url(#clip592)\" cx=\"414.11\" cy=\"785.185\" r=\"14\" fill=\"#3da44d\" fill-rule=\"evenodd\" fill-opacity=\"1\" stroke=\"#000000\" stroke-opacity=\"1\" stroke-width=\"3.2\"/>\n",
       "<circle clip-path=\"url(#clip592)\" cx=\"390.988\" cy=\"862.872\" r=\"14\" fill=\"#3da44d\" fill-rule=\"evenodd\" fill-opacity=\"1\" stroke=\"#000000\" stroke-opacity=\"1\" stroke-width=\"3.2\"/>\n",
       "<circle clip-path=\"url(#clip592)\" cx=\"217.298\" cy=\"917.225\" r=\"14\" fill=\"#3da44d\" fill-rule=\"evenodd\" fill-opacity=\"1\" stroke=\"#000000\" stroke-opacity=\"1\" stroke-width=\"3.2\"/>\n",
       "<circle clip-path=\"url(#clip592)\" cx=\"117.155\" cy=\"427.867\" r=\"14\" fill=\"#3da44d\" fill-rule=\"evenodd\" fill-opacity=\"1\" stroke=\"#000000\" stroke-opacity=\"1\" stroke-width=\"3.2\"/>\n",
       "<circle clip-path=\"url(#clip592)\" cx=\"245.866\" cy=\"602.577\" r=\"14\" fill=\"#3da44d\" fill-rule=\"evenodd\" fill-opacity=\"1\" stroke=\"#000000\" stroke-opacity=\"1\" stroke-width=\"3.2\"/>\n",
       "<circle clip-path=\"url(#clip592)\" cx=\"337.404\" cy=\"1157.64\" r=\"14\" fill=\"#3da44d\" fill-rule=\"evenodd\" fill-opacity=\"1\" stroke=\"#000000\" stroke-opacity=\"1\" stroke-width=\"3.2\"/>\n",
       "<path clip-path=\"url(#clip590)\" d=\"\n",
       "M1286.99 1521.01 L2352.76 1521.01 L2352.76 62.9921 L1286.99 62.9921  Z\n",
       "  \" fill=\"#ffffff\" fill-rule=\"evenodd\" fill-opacity=\"1\"/>\n",
       "<defs>\n",
       "  <clipPath id=\"clip593\">\n",
       "    <rect x=\"1286\" y=\"62\" width=\"1067\" height=\"1459\"/>\n",
       "  </clipPath>\n",
       "</defs>\n",
       "<polyline clip-path=\"url(#clip593)\" style=\"stroke:#000000; stroke-width:2; stroke-opacity:0.1; fill:none\" points=\"\n",
       "  1306.04,1521.01 1306.04,62.9921 \n",
       "  \"/>\n",
       "<polyline clip-path=\"url(#clip593)\" style=\"stroke:#000000; stroke-width:2; stroke-opacity:0.1; fill:none\" points=\"\n",
       "  1469.58,1521.01 1469.58,62.9921 \n",
       "  \"/>\n",
       "<polyline clip-path=\"url(#clip593)\" style=\"stroke:#000000; stroke-width:2; stroke-opacity:0.1; fill:none\" points=\"\n",
       "  1633.12,1521.01 1633.12,62.9921 \n",
       "  \"/>\n",
       "<polyline clip-path=\"url(#clip593)\" style=\"stroke:#000000; stroke-width:2; stroke-opacity:0.1; fill:none\" points=\"\n",
       "  1796.66,1521.01 1796.66,62.9921 \n",
       "  \"/>\n",
       "<polyline clip-path=\"url(#clip593)\" style=\"stroke:#000000; stroke-width:2; stroke-opacity:0.1; fill:none\" points=\"\n",
       "  1960.21,1521.01 1960.21,62.9921 \n",
       "  \"/>\n",
       "<polyline clip-path=\"url(#clip593)\" style=\"stroke:#000000; stroke-width:2; stroke-opacity:0.1; fill:none\" points=\"\n",
       "  2123.75,1521.01 2123.75,62.9921 \n",
       "  \"/>\n",
       "<polyline clip-path=\"url(#clip593)\" style=\"stroke:#000000; stroke-width:2; stroke-opacity:0.1; fill:none\" points=\"\n",
       "  2287.29,1521.01 2287.29,62.9921 \n",
       "  \"/>\n",
       "<polyline clip-path=\"url(#clip590)\" style=\"stroke:#000000; stroke-width:4; stroke-opacity:1; fill:none\" points=\"\n",
       "  1286.99,1521.01 2352.76,1521.01 \n",
       "  \"/>\n",
       "<polyline clip-path=\"url(#clip590)\" style=\"stroke:#000000; stroke-width:4; stroke-opacity:1; fill:none\" points=\"\n",
       "  1306.04,1521.01 1306.04,1503.51 \n",
       "  \"/>\n",
       "<polyline clip-path=\"url(#clip590)\" style=\"stroke:#000000; stroke-width:4; stroke-opacity:1; fill:none\" points=\"\n",
       "  1469.58,1521.01 1469.58,1503.51 \n",
       "  \"/>\n",
       "<polyline clip-path=\"url(#clip590)\" style=\"stroke:#000000; stroke-width:4; stroke-opacity:1; fill:none\" points=\"\n",
       "  1633.12,1521.01 1633.12,1503.51 \n",
       "  \"/>\n",
       "<polyline clip-path=\"url(#clip590)\" style=\"stroke:#000000; stroke-width:4; stroke-opacity:1; fill:none\" points=\"\n",
       "  1796.66,1521.01 1796.66,1503.51 \n",
       "  \"/>\n",
       "<polyline clip-path=\"url(#clip590)\" style=\"stroke:#000000; stroke-width:4; stroke-opacity:1; fill:none\" points=\"\n",
       "  1960.21,1521.01 1960.21,1503.51 \n",
       "  \"/>\n",
       "<polyline clip-path=\"url(#clip590)\" style=\"stroke:#000000; stroke-width:4; stroke-opacity:1; fill:none\" points=\"\n",
       "  2123.75,1521.01 2123.75,1503.51 \n",
       "  \"/>\n",
       "<polyline clip-path=\"url(#clip590)\" style=\"stroke:#000000; stroke-width:4; stroke-opacity:1; fill:none\" points=\"\n",
       "  2287.29,1521.01 2287.29,1503.51 \n",
       "  \"/>\n",
       "<path clip-path=\"url(#clip590)\" d=\"M 0 0 M1285.02 1558.69 L1307.28 1558.69 L1307.28 1561.64 L1285.02 1561.64 L1285.02 1558.69 Z\" fill=\"#000000\" fill-rule=\"evenodd\" fill-opacity=\"1\" /><path clip-path=\"url(#clip590)\" d=\"M 0 0 M1321.7 1557.34 Q1324.22 1557.87 1325.63 1559.58 Q1327.05 1561.28 1327.05 1563.78 Q1327.05 1567.61 1324.41 1569.71 Q1321.77 1571.82 1316.91 1571.82 Q1315.28 1571.82 1313.54 1571.49 Q1311.83 1571.17 1309.98 1570.53 L1309.98 1567.15 Q1311.44 1568 1313.18 1568.43 Q1314.92 1568.86 1316.81 1568.86 Q1320.11 1568.86 1321.83 1567.56 Q1323.56 1566.26 1323.56 1563.78 Q1323.56 1561.49 1321.95 1560.2 Q1320.35 1558.9 1317.48 1558.9 L1314.46 1558.9 L1314.46 1556.02 L1317.62 1556.02 Q1320.21 1556.02 1321.58 1554.99 Q1322.95 1553.95 1322.95 1552.01 Q1322.95 1550.01 1321.53 1548.95 Q1320.12 1547.87 1317.48 1547.87 Q1316.04 1547.87 1314.39 1548.19 Q1312.75 1548.5 1310.77 1549.16 L1310.77 1546.03 Q1312.76 1545.48 1314.5 1545.2 Q1316.25 1544.92 1317.8 1544.92 Q1321.79 1544.92 1324.12 1546.75 Q1326.44 1548.55 1326.44 1551.64 Q1326.44 1553.79 1325.21 1555.29 Q1323.98 1556.76 1321.7 1557.34 Z\" fill=\"#000000\" fill-rule=\"evenodd\" fill-opacity=\"1\" /><path clip-path=\"url(#clip590)\" d=\"M 0 0 M1448.92 1558.69 L1471.18 1558.69 L1471.18 1561.64 L1448.92 1561.64 L1448.92 1558.69 Z\" fill=\"#000000\" fill-rule=\"evenodd\" fill-opacity=\"1\" /><path clip-path=\"url(#clip590)\" d=\"M 0 0 M1478 1568.36 L1490.24 1568.36 L1490.24 1571.31 L1473.78 1571.31 L1473.78 1568.36 Q1475.78 1566.29 1479.21 1562.82 Q1482.67 1559.33 1483.55 1558.33 Q1485.24 1556.43 1485.9 1555.13 Q1486.57 1553.81 1486.57 1552.54 Q1486.57 1550.48 1485.12 1549.18 Q1483.67 1547.87 1481.35 1547.87 Q1479.7 1547.87 1477.86 1548.45 Q1476.04 1549.02 1473.95 1550.18 L1473.95 1546.64 Q1476.07 1545.79 1477.91 1545.36 Q1479.75 1544.92 1481.28 1544.92 Q1485.31 1544.92 1487.7 1546.94 Q1490.1 1548.95 1490.1 1552.32 Q1490.1 1553.92 1489.49 1555.36 Q1488.9 1556.78 1487.32 1558.73 Q1486.89 1559.23 1484.56 1561.64 Q1482.23 1564.04 1478 1568.36 Z\" fill=\"#000000\" fill-rule=\"evenodd\" fill-opacity=\"1\" /><path clip-path=\"url(#clip590)\" d=\"M 0 0 M1612.32 1558.69 L1634.58 1558.69 L1634.58 1561.64 L1612.32 1561.64 L1612.32 1558.69 Z\" fill=\"#000000\" fill-rule=\"evenodd\" fill-opacity=\"1\" /><path clip-path=\"url(#clip590)\" d=\"M 0 0 M1638.99 1568.36 L1644.72 1568.36 L1644.72 1548.59 L1638.48 1549.84 L1638.48 1546.64 L1644.68 1545.39 L1648.19 1545.39 L1648.19 1568.36 L1653.92 1568.36 L1653.92 1571.31 L1638.99 1571.31 L1638.99 1568.36 Z\" fill=\"#000000\" fill-rule=\"evenodd\" fill-opacity=\"1\" /><path clip-path=\"url(#clip590)\" d=\"M 0 0 M1796.66 1547.7 Q1793.95 1547.7 1792.58 1550.37 Q1791.23 1553.03 1791.23 1558.38 Q1791.23 1563.71 1792.58 1566.38 Q1793.95 1569.04 1796.66 1569.04 Q1799.39 1569.04 1800.74 1566.38 Q1802.11 1563.71 1802.11 1558.38 Q1802.11 1553.03 1800.74 1550.37 Q1799.39 1547.7 1796.66 1547.7 M1796.66 1544.92 Q1801.02 1544.92 1803.31 1548.38 Q1805.62 1551.82 1805.62 1558.38 Q1805.62 1564.92 1803.31 1568.38 Q1801.02 1571.82 1796.66 1571.82 Q1792.31 1571.82 1790 1568.38 Q1787.7 1564.92 1787.7 1558.38 Q1787.7 1551.82 1790 1548.38 Q1792.31 1544.92 1796.66 1544.92 Z\" fill=\"#000000\" fill-rule=\"evenodd\" fill-opacity=\"1\" /><path clip-path=\"url(#clip590)\" d=\"M 0 0 M1952.99 1568.36 L1958.72 1568.36 L1958.72 1548.59 L1952.49 1549.84 L1952.49 1546.64 L1958.69 1545.39 L1962.19 1545.39 L1962.19 1568.36 L1967.92 1568.36 L1967.92 1571.31 L1952.99 1571.31 L1952.99 1568.36 Z\" fill=\"#000000\" fill-rule=\"evenodd\" fill-opacity=\"1\" /><path clip-path=\"url(#clip590)\" d=\"M 0 0 M2119.74 1568.36 L2131.98 1568.36 L2131.98 1571.31 L2115.52 1571.31 L2115.52 1568.36 Q2117.52 1566.29 2120.95 1562.82 Q2124.41 1559.33 2125.29 1558.33 Q2126.98 1556.43 2127.64 1555.13 Q2128.31 1553.81 2128.31 1552.54 Q2128.31 1550.48 2126.86 1549.18 Q2125.41 1547.87 2123.09 1547.87 Q2121.44 1547.87 2119.6 1548.45 Q2117.78 1549.02 2115.69 1550.18 L2115.69 1546.64 Q2117.81 1545.79 2119.65 1545.36 Q2121.49 1544.92 2123.02 1544.92 Q2127.05 1544.92 2129.44 1546.94 Q2131.84 1548.95 2131.84 1552.32 Q2131.84 1553.92 2131.23 1555.36 Q2130.64 1556.78 2129.06 1558.73 Q2128.63 1559.23 2126.3 1561.64 Q2123.97 1564.04 2119.74 1568.36 Z\" fill=\"#000000\" fill-rule=\"evenodd\" fill-opacity=\"1\" /><path clip-path=\"url(#clip590)\" d=\"M 0 0 M2290.48 1557.34 Q2292.99 1557.87 2294.4 1559.58 Q2295.82 1561.28 2295.82 1563.78 Q2295.82 1567.61 2293.18 1569.71 Q2290.55 1571.82 2285.68 1571.82 Q2284.05 1571.82 2282.32 1571.49 Q2280.6 1571.17 2278.76 1570.53 L2278.76 1567.15 Q2280.22 1568 2281.95 1568.43 Q2283.69 1568.86 2285.58 1568.86 Q2288.88 1568.86 2290.6 1567.56 Q2292.33 1566.26 2292.33 1563.78 Q2292.33 1561.49 2290.72 1560.2 Q2289.12 1558.9 2286.26 1558.9 L2283.24 1558.9 L2283.24 1556.02 L2286.4 1556.02 Q2288.98 1556.02 2290.36 1554.99 Q2291.73 1553.95 2291.73 1552.01 Q2291.73 1550.01 2290.3 1548.95 Q2288.9 1547.87 2286.26 1547.87 Q2284.82 1547.87 2283.17 1548.19 Q2281.52 1548.5 2279.54 1549.16 L2279.54 1546.03 Q2281.54 1545.48 2283.27 1545.2 Q2285.03 1544.92 2286.57 1544.92 Q2290.56 1544.92 2292.89 1546.75 Q2295.22 1548.55 2295.22 1551.64 Q2295.22 1553.79 2293.98 1555.29 Q2292.75 1556.76 2290.48 1557.34 Z\" fill=\"#000000\" fill-rule=\"evenodd\" fill-opacity=\"1\" /><polyline clip-path=\"url(#clip593)\" style=\"stroke:#000000; stroke-width:2; stroke-opacity:0.1; fill:none\" points=\"\n",
       "  1286.99,1371 2352.76,1371 \n",
       "  \"/>\n",
       "<polyline clip-path=\"url(#clip593)\" style=\"stroke:#000000; stroke-width:2; stroke-opacity:0.1; fill:none\" points=\"\n",
       "  1286.99,1207.32 2352.76,1207.32 \n",
       "  \"/>\n",
       "<polyline clip-path=\"url(#clip593)\" style=\"stroke:#000000; stroke-width:2; stroke-opacity:0.1; fill:none\" points=\"\n",
       "  1286.99,1043.63 2352.76,1043.63 \n",
       "  \"/>\n",
       "<polyline clip-path=\"url(#clip593)\" style=\"stroke:#000000; stroke-width:2; stroke-opacity:0.1; fill:none\" points=\"\n",
       "  1286.99,879.947 2352.76,879.947 \n",
       "  \"/>\n",
       "<polyline clip-path=\"url(#clip593)\" style=\"stroke:#000000; stroke-width:2; stroke-opacity:0.1; fill:none\" points=\"\n",
       "  1286.99,716.262 2352.76,716.262 \n",
       "  \"/>\n",
       "<polyline clip-path=\"url(#clip593)\" style=\"stroke:#000000; stroke-width:2; stroke-opacity:0.1; fill:none\" points=\"\n",
       "  1286.99,552.576 2352.76,552.576 \n",
       "  \"/>\n",
       "<polyline clip-path=\"url(#clip593)\" style=\"stroke:#000000; stroke-width:2; stroke-opacity:0.1; fill:none\" points=\"\n",
       "  1286.99,388.891 2352.76,388.891 \n",
       "  \"/>\n",
       "<polyline clip-path=\"url(#clip593)\" style=\"stroke:#000000; stroke-width:2; stroke-opacity:0.1; fill:none\" points=\"\n",
       "  1286.99,225.206 2352.76,225.206 \n",
       "  \"/>\n",
       "<polyline clip-path=\"url(#clip590)\" style=\"stroke:#000000; stroke-width:4; stroke-opacity:1; fill:none\" points=\"\n",
       "  1286.99,1521.01 1286.99,62.9921 \n",
       "  \"/>\n",
       "<polyline clip-path=\"url(#clip590)\" style=\"stroke:#000000; stroke-width:4; stroke-opacity:1; fill:none\" points=\"\n",
       "  1286.99,1371 1299.78,1371 \n",
       "  \"/>\n",
       "<polyline clip-path=\"url(#clip590)\" style=\"stroke:#000000; stroke-width:4; stroke-opacity:1; fill:none\" points=\"\n",
       "  1286.99,1207.32 1299.78,1207.32 \n",
       "  \"/>\n",
       "<polyline clip-path=\"url(#clip590)\" style=\"stroke:#000000; stroke-width:4; stroke-opacity:1; fill:none\" points=\"\n",
       "  1286.99,1043.63 1299.78,1043.63 \n",
       "  \"/>\n",
       "<polyline clip-path=\"url(#clip590)\" style=\"stroke:#000000; stroke-width:4; stroke-opacity:1; fill:none\" points=\"\n",
       "  1286.99,879.947 1299.78,879.947 \n",
       "  \"/>\n",
       "<polyline clip-path=\"url(#clip590)\" style=\"stroke:#000000; stroke-width:4; stroke-opacity:1; fill:none\" points=\"\n",
       "  1286.99,716.262 1299.78,716.262 \n",
       "  \"/>\n",
       "<polyline clip-path=\"url(#clip590)\" style=\"stroke:#000000; stroke-width:4; stroke-opacity:1; fill:none\" points=\"\n",
       "  1286.99,552.576 1299.78,552.576 \n",
       "  \"/>\n",
       "<polyline clip-path=\"url(#clip590)\" style=\"stroke:#000000; stroke-width:4; stroke-opacity:1; fill:none\" points=\"\n",
       "  1286.99,388.891 1299.78,388.891 \n",
       "  \"/>\n",
       "<polyline clip-path=\"url(#clip590)\" style=\"stroke:#000000; stroke-width:4; stroke-opacity:1; fill:none\" points=\"\n",
       "  1286.99,225.206 1299.78,225.206 \n",
       "  \"/>\n",
       "<path clip-path=\"url(#clip590)\" d=\"M 0 0 M1157.43 1371.45 L1187.1 1371.45 L1187.1 1375.39 L1157.43 1375.39 L1157.43 1371.45 Z\" fill=\"#000000\" fill-rule=\"evenodd\" fill-opacity=\"1\" /><path clip-path=\"url(#clip590)\" d=\"M 0 0 M1202.17 1356.8 Q1198.56 1356.8 1196.73 1360.37 Q1194.93 1363.91 1194.93 1371.04 Q1194.93 1378.14 1196.73 1381.71 Q1198.56 1385.25 1202.17 1385.25 Q1205.81 1385.25 1207.61 1381.71 Q1209.44 1378.14 1209.44 1371.04 Q1209.44 1363.91 1207.61 1360.37 Q1205.81 1356.8 1202.17 1356.8 M1202.17 1353.1 Q1207.98 1353.1 1211.04 1357.7 Q1214.12 1362.29 1214.12 1371.04 Q1214.12 1379.76 1211.04 1384.37 Q1207.98 1388.95 1202.17 1388.95 Q1196.36 1388.95 1193.28 1384.37 Q1190.23 1379.76 1190.23 1371.04 Q1190.23 1362.29 1193.28 1357.7 Q1196.36 1353.1 1202.17 1353.1 Z\" fill=\"#000000\" fill-rule=\"evenodd\" fill-opacity=\"1\" /><path clip-path=\"url(#clip590)\" d=\"M 0 0 M1219.19 1382.4 L1224.07 1382.4 L1224.07 1388.28 L1219.19 1388.28 L1219.19 1382.4 Z\" fill=\"#000000\" fill-rule=\"evenodd\" fill-opacity=\"1\" /><path clip-path=\"url(#clip590)\" d=\"M 0 0 M1239.14 1371.87 Q1235.81 1371.87 1233.89 1373.65 Q1231.99 1375.44 1231.99 1378.56 Q1231.99 1381.69 1233.89 1383.47 Q1235.81 1385.25 1239.14 1385.25 Q1242.47 1385.25 1244.39 1383.47 Q1246.32 1381.66 1246.32 1378.56 Q1246.32 1375.44 1244.39 1373.65 Q1242.5 1371.87 1239.14 1371.87 M1234.46 1369.88 Q1231.46 1369.14 1229.77 1367.08 Q1228.1 1365.02 1228.1 1362.06 Q1228.1 1357.91 1231.04 1355.51 Q1234 1353.1 1239.14 1353.1 Q1244.3 1353.1 1247.24 1355.51 Q1250.18 1357.91 1250.18 1362.06 Q1250.18 1365.02 1248.49 1367.08 Q1246.83 1369.14 1243.84 1369.88 Q1247.22 1370.67 1249.09 1372.96 Q1250.99 1375.25 1250.99 1378.56 Q1250.99 1383.58 1247.91 1386.27 Q1244.86 1388.95 1239.14 1388.95 Q1233.42 1388.95 1230.34 1386.27 Q1227.29 1383.58 1227.29 1378.56 Q1227.29 1375.25 1229.19 1372.96 Q1231.08 1370.67 1234.46 1369.88 M1232.75 1362.5 Q1232.75 1365.18 1234.42 1366.69 Q1236.11 1368.19 1239.14 1368.19 Q1242.15 1368.19 1243.84 1366.69 Q1245.55 1365.18 1245.55 1362.5 Q1245.55 1359.81 1243.84 1358.31 Q1242.15 1356.8 1239.14 1356.8 Q1236.11 1356.8 1234.42 1358.31 Q1232.75 1359.81 1232.75 1362.5 Z\" fill=\"#000000\" fill-rule=\"evenodd\" fill-opacity=\"1\" /><path clip-path=\"url(#clip590)\" d=\"M 0 0 M1157.17 1207.77 L1186.85 1207.77 L1186.85 1211.7 L1157.17 1211.7 L1157.17 1207.77 Z\" fill=\"#000000\" fill-rule=\"evenodd\" fill-opacity=\"1\" /><path clip-path=\"url(#clip590)\" d=\"M 0 0 M1201.92 1193.12 Q1198.31 1193.12 1196.48 1196.68 Q1194.67 1200.22 1194.67 1207.35 Q1194.67 1214.46 1196.48 1218.02 Q1198.31 1221.57 1201.92 1221.57 Q1205.55 1221.57 1207.36 1218.02 Q1209.19 1214.46 1209.19 1207.35 Q1209.19 1200.22 1207.36 1196.68 Q1205.55 1193.12 1201.92 1193.12 M1201.92 1189.41 Q1207.73 1189.41 1210.78 1194.02 Q1213.86 1198.6 1213.86 1207.35 Q1213.86 1216.08 1210.78 1220.69 Q1207.73 1225.27 1201.92 1225.27 Q1196.11 1225.27 1193.03 1220.69 Q1189.97 1216.08 1189.97 1207.35 Q1189.97 1198.6 1193.03 1194.02 Q1196.11 1189.41 1201.92 1189.41 Z\" fill=\"#000000\" fill-rule=\"evenodd\" fill-opacity=\"1\" /><path clip-path=\"url(#clip590)\" d=\"M 0 0 M1218.93 1218.72 L1223.82 1218.72 L1223.82 1224.6 L1218.93 1224.6 L1218.93 1218.72 Z\" fill=\"#000000\" fill-rule=\"evenodd\" fill-opacity=\"1\" /><path clip-path=\"url(#clip590)\" d=\"M 0 0 M1239.46 1205.45 Q1236.32 1205.45 1234.46 1207.61 Q1232.64 1209.76 1232.64 1213.51 Q1232.64 1217.24 1234.46 1219.41 Q1236.32 1221.57 1239.46 1221.57 Q1242.61 1221.57 1244.44 1219.41 Q1246.29 1217.24 1246.29 1213.51 Q1246.29 1209.76 1244.44 1207.61 Q1242.61 1205.45 1239.46 1205.45 M1248.75 1190.8 L1248.75 1195.06 Q1246.99 1194.23 1245.18 1193.79 Q1243.4 1193.35 1241.64 1193.35 Q1237.01 1193.35 1234.56 1196.47 Q1232.13 1199.6 1231.78 1205.92 Q1233.14 1203.9 1235.21 1202.84 Q1237.27 1201.75 1239.74 1201.75 Q1244.95 1201.75 1247.96 1204.92 Q1250.99 1208.07 1250.99 1213.51 Q1250.99 1218.83 1247.84 1222.05 Q1244.7 1225.27 1239.46 1225.27 Q1233.47 1225.27 1230.3 1220.69 Q1227.13 1216.08 1227.13 1207.35 Q1227.13 1199.16 1231.02 1194.3 Q1234.9 1189.41 1241.46 1189.41 Q1243.21 1189.41 1245 1189.76 Q1246.8 1190.11 1248.75 1190.8 Z\" fill=\"#000000\" fill-rule=\"evenodd\" fill-opacity=\"1\" /><path clip-path=\"url(#clip590)\" d=\"M 0 0 M1156.85 1044.08 L1186.52 1044.08 L1186.52 1048.02 L1156.85 1048.02 L1156.85 1044.08 Z\" fill=\"#000000\" fill-rule=\"evenodd\" fill-opacity=\"1\" /><path clip-path=\"url(#clip590)\" d=\"M 0 0 M1201.59 1029.43 Q1197.98 1029.43 1196.15 1033 Q1194.35 1036.54 1194.35 1043.67 Q1194.35 1050.77 1196.15 1054.34 Q1197.98 1057.88 1201.59 1057.88 Q1205.23 1057.88 1207.03 1054.34 Q1208.86 1050.77 1208.86 1043.67 Q1208.86 1036.54 1207.03 1033 Q1205.23 1029.43 1201.59 1029.43 M1201.59 1025.73 Q1207.4 1025.73 1210.46 1030.33 Q1213.54 1034.92 1213.54 1043.67 Q1213.54 1052.39 1210.46 1057 Q1207.4 1061.58 1201.59 1061.58 Q1195.78 1061.58 1192.71 1057 Q1189.65 1052.39 1189.65 1043.67 Q1189.65 1034.92 1192.71 1030.33 Q1195.78 1025.73 1201.59 1025.73 Z\" fill=\"#000000\" fill-rule=\"evenodd\" fill-opacity=\"1\" /><path clip-path=\"url(#clip590)\" d=\"M 0 0 M1218.61 1055.03 L1223.49 1055.03 L1223.49 1060.91 L1218.61 1060.91 L1218.61 1055.03 Z\" fill=\"#000000\" fill-rule=\"evenodd\" fill-opacity=\"1\" /><path clip-path=\"url(#clip590)\" d=\"M 0 0 M1241.41 1030.43 L1229.6 1048.88 L1241.41 1048.88 L1241.41 1030.43 M1240.18 1026.35 L1246.06 1026.35 L1246.06 1048.88 L1250.99 1048.88 L1250.99 1052.76 L1246.06 1052.76 L1246.06 1060.91 L1241.41 1060.91 L1241.41 1052.76 L1225.81 1052.76 L1225.81 1048.25 L1240.18 1026.35 Z\" fill=\"#000000\" fill-rule=\"evenodd\" fill-opacity=\"1\" /><path clip-path=\"url(#clip590)\" d=\"M 0 0 M1158.93 880.398 L1188.61 880.398 L1188.61 884.334 L1158.93 884.334 L1158.93 880.398 Z\" fill=\"#000000\" fill-rule=\"evenodd\" fill-opacity=\"1\" /><path clip-path=\"url(#clip590)\" d=\"M 0 0 M1203.68 865.746 Q1200.07 865.746 1198.24 869.31 Q1196.43 872.852 1196.43 879.982 Q1196.43 887.088 1198.24 890.653 Q1200.07 894.195 1203.68 894.195 Q1207.31 894.195 1209.12 890.653 Q1210.95 887.088 1210.95 879.982 Q1210.95 872.852 1209.12 869.31 Q1207.31 865.746 1203.68 865.746 M1203.68 862.042 Q1209.49 862.042 1212.54 866.648 Q1215.62 871.232 1215.62 879.982 Q1215.62 888.709 1212.54 893.315 Q1209.49 897.898 1203.68 897.898 Q1197.87 897.898 1194.79 893.315 Q1191.73 888.709 1191.73 879.982 Q1191.73 871.232 1194.79 866.648 Q1197.87 862.042 1203.68 862.042 Z\" fill=\"#000000\" fill-rule=\"evenodd\" fill-opacity=\"1\" /><path clip-path=\"url(#clip590)\" d=\"M 0 0 M1220.69 891.347 L1225.58 891.347 L1225.58 897.227 L1220.69 897.227 L1220.69 891.347 Z\" fill=\"#000000\" fill-rule=\"evenodd\" fill-opacity=\"1\" /><path clip-path=\"url(#clip590)\" d=\"M 0 0 M1234.67 893.292 L1250.99 893.292 L1250.99 897.227 L1229.05 897.227 L1229.05 893.292 Q1231.71 890.537 1236.29 885.908 Q1240.9 881.255 1242.08 879.912 Q1244.33 877.389 1245.21 875.653 Q1246.11 873.894 1246.11 872.204 Q1246.11 869.449 1244.16 867.713 Q1242.24 865.977 1239.14 865.977 Q1236.94 865.977 1234.49 866.741 Q1232.06 867.505 1229.28 869.056 L1229.28 864.334 Q1232.1 863.199 1234.56 862.621 Q1237.01 862.042 1239.05 862.042 Q1244.42 862.042 1247.61 864.727 Q1250.81 867.412 1250.81 871.903 Q1250.81 874.033 1250 875.954 Q1249.21 877.852 1247.1 880.445 Q1246.52 881.116 1243.42 884.334 Q1240.32 887.528 1234.67 893.292 Z\" fill=\"#000000\" fill-rule=\"evenodd\" fill-opacity=\"1\" /><path clip-path=\"url(#clip590)\" d=\"M 0 0 M1202.08 702.06 Q1198.47 702.06 1196.64 705.625 Q1194.84 709.167 1194.84 716.296 Q1194.84 723.403 1196.64 726.968 Q1198.47 730.509 1202.08 730.509 Q1205.71 730.509 1207.52 726.968 Q1209.35 723.403 1209.35 716.296 Q1209.35 709.167 1207.52 705.625 Q1205.71 702.06 1202.08 702.06 M1202.08 698.357 Q1207.89 698.357 1210.95 702.963 Q1214.02 707.547 1214.02 716.296 Q1214.02 725.023 1210.95 729.63 Q1207.89 734.213 1202.08 734.213 Q1196.27 734.213 1193.19 729.63 Q1190.14 725.023 1190.14 716.296 Q1190.14 707.547 1193.19 702.963 Q1196.27 698.357 1202.08 698.357 Z\" fill=\"#000000\" fill-rule=\"evenodd\" fill-opacity=\"1\" /><path clip-path=\"url(#clip590)\" d=\"M 0 0 M1219.09 727.662 L1223.98 727.662 L1223.98 733.542 L1219.09 733.542 L1219.09 727.662 Z\" fill=\"#000000\" fill-rule=\"evenodd\" fill-opacity=\"1\" /><path clip-path=\"url(#clip590)\" d=\"M 0 0 M1239.05 702.06 Q1235.44 702.06 1233.61 705.625 Q1231.8 709.167 1231.8 716.296 Q1231.8 723.403 1233.61 726.968 Q1235.44 730.509 1239.05 730.509 Q1242.68 730.509 1244.49 726.968 Q1246.32 723.403 1246.32 716.296 Q1246.32 709.167 1244.49 705.625 Q1242.68 702.06 1239.05 702.06 M1239.05 698.357 Q1244.86 698.357 1247.91 702.963 Q1250.99 707.547 1250.99 716.296 Q1250.99 725.023 1247.91 729.63 Q1244.86 734.213 1239.05 734.213 Q1233.24 734.213 1230.16 729.63 Q1227.1 725.023 1227.1 716.296 Q1227.1 707.547 1230.16 702.963 Q1233.24 698.357 1239.05 698.357 Z\" fill=\"#000000\" fill-rule=\"evenodd\" fill-opacity=\"1\" /><path clip-path=\"url(#clip590)\" d=\"M 0 0 M1203.68 538.375 Q1200.07 538.375 1198.24 541.94 Q1196.43 545.482 1196.43 552.611 Q1196.43 559.718 1198.24 563.282 Q1200.07 566.824 1203.68 566.824 Q1207.31 566.824 1209.12 563.282 Q1210.95 559.718 1210.95 552.611 Q1210.95 545.482 1209.12 541.94 Q1207.31 538.375 1203.68 538.375 M1203.68 534.671 Q1209.49 534.671 1212.54 539.278 Q1215.62 543.861 1215.62 552.611 Q1215.62 561.338 1212.54 565.944 Q1209.49 570.528 1203.68 570.528 Q1197.87 570.528 1194.79 565.944 Q1191.73 561.338 1191.73 552.611 Q1191.73 543.861 1194.79 539.278 Q1197.87 534.671 1203.68 534.671 Z\" fill=\"#000000\" fill-rule=\"evenodd\" fill-opacity=\"1\" /><path clip-path=\"url(#clip590)\" d=\"M 0 0 M1220.69 563.977 L1225.58 563.977 L1225.58 569.856 L1220.69 569.856 L1220.69 563.977 Z\" fill=\"#000000\" fill-rule=\"evenodd\" fill-opacity=\"1\" /><path clip-path=\"url(#clip590)\" d=\"M 0 0 M1234.67 565.921 L1250.99 565.921 L1250.99 569.856 L1229.05 569.856 L1229.05 565.921 Q1231.71 563.167 1236.29 558.537 Q1240.9 553.884 1242.08 552.542 Q1244.33 550.019 1245.21 548.283 Q1246.11 546.523 1246.11 544.833 Q1246.11 542.079 1244.16 540.343 Q1242.24 538.607 1239.14 538.607 Q1236.94 538.607 1234.49 539.371 Q1232.06 540.134 1229.28 541.685 L1229.28 536.963 Q1232.1 535.829 1234.56 535.25 Q1237.01 534.671 1239.05 534.671 Q1244.42 534.671 1247.61 537.357 Q1250.81 540.042 1250.81 544.533 Q1250.81 546.662 1250 548.583 Q1249.21 550.482 1247.1 553.074 Q1246.52 553.745 1243.42 556.963 Q1240.32 560.157 1234.67 565.921 Z\" fill=\"#000000\" fill-rule=\"evenodd\" fill-opacity=\"1\" /><path clip-path=\"url(#clip590)\" d=\"M 0 0 M1201.59 374.69 Q1197.98 374.69 1196.15 378.255 Q1194.35 381.796 1194.35 388.926 Q1194.35 396.032 1196.15 399.597 Q1197.98 403.139 1201.59 403.139 Q1205.23 403.139 1207.03 399.597 Q1208.86 396.032 1208.86 388.926 Q1208.86 381.796 1207.03 378.255 Q1205.23 374.69 1201.59 374.69 M1201.59 370.986 Q1207.4 370.986 1210.46 375.593 Q1213.54 380.176 1213.54 388.926 Q1213.54 397.653 1210.46 402.259 Q1207.4 406.843 1201.59 406.843 Q1195.78 406.843 1192.71 402.259 Q1189.65 397.653 1189.65 388.926 Q1189.65 380.176 1192.71 375.593 Q1195.78 370.986 1201.59 370.986 Z\" fill=\"#000000\" fill-rule=\"evenodd\" fill-opacity=\"1\" /><path clip-path=\"url(#clip590)\" d=\"M 0 0 M1218.61 400.292 L1223.49 400.292 L1223.49 406.171 L1218.61 406.171 L1218.61 400.292 Z\" fill=\"#000000\" fill-rule=\"evenodd\" fill-opacity=\"1\" /><path clip-path=\"url(#clip590)\" d=\"M 0 0 M1241.41 375.685 L1229.6 394.134 L1241.41 394.134 L1241.41 375.685 M1240.18 371.611 L1246.06 371.611 L1246.06 394.134 L1250.99 394.134 L1250.99 398.023 L1246.06 398.023 L1246.06 406.171 L1241.41 406.171 L1241.41 398.023 L1225.81 398.023 L1225.81 393.509 L1240.18 371.611 Z\" fill=\"#000000\" fill-rule=\"evenodd\" fill-opacity=\"1\" /><path clip-path=\"url(#clip590)\" d=\"M 0 0 M1201.92 211.005 Q1198.31 211.005 1196.48 214.569 Q1194.67 218.111 1194.67 225.241 Q1194.67 232.347 1196.48 235.912 Q1198.31 239.454 1201.92 239.454 Q1205.55 239.454 1207.36 235.912 Q1209.19 232.347 1209.19 225.241 Q1209.19 218.111 1207.36 214.569 Q1205.55 211.005 1201.92 211.005 M1201.92 207.301 Q1207.73 207.301 1210.78 211.907 Q1213.86 216.491 1213.86 225.241 Q1213.86 233.968 1210.78 238.574 Q1207.73 243.157 1201.92 243.157 Q1196.11 243.157 1193.03 238.574 Q1189.97 233.968 1189.97 225.241 Q1189.97 216.491 1193.03 211.907 Q1196.11 207.301 1201.92 207.301 Z\" fill=\"#000000\" fill-rule=\"evenodd\" fill-opacity=\"1\" /><path clip-path=\"url(#clip590)\" d=\"M 0 0 M1218.93 236.606 L1223.82 236.606 L1223.82 242.486 L1218.93 242.486 L1218.93 236.606 Z\" fill=\"#000000\" fill-rule=\"evenodd\" fill-opacity=\"1\" /><path clip-path=\"url(#clip590)\" d=\"M 0 0 M1239.46 223.343 Q1236.32 223.343 1234.46 225.495 Q1232.64 227.648 1232.64 231.398 Q1232.64 235.125 1234.46 237.301 Q1236.32 239.454 1239.46 239.454 Q1242.61 239.454 1244.44 237.301 Q1246.29 235.125 1246.29 231.398 Q1246.29 227.648 1244.44 225.495 Q1242.61 223.343 1239.46 223.343 M1248.75 208.69 L1248.75 212.949 Q1246.99 212.116 1245.18 211.676 Q1243.4 211.236 1241.64 211.236 Q1237.01 211.236 1234.56 214.361 Q1232.13 217.486 1231.78 223.806 Q1233.14 221.792 1235.21 220.727 Q1237.27 219.639 1239.74 219.639 Q1244.95 219.639 1247.96 222.81 Q1250.99 225.958 1250.99 231.398 Q1250.99 236.722 1247.84 239.94 Q1244.7 243.157 1239.46 243.157 Q1233.47 243.157 1230.3 238.574 Q1227.13 233.968 1227.13 225.241 Q1227.13 217.046 1231.02 212.185 Q1234.9 207.301 1241.46 207.301 Q1243.21 207.301 1245 207.648 Q1246.8 207.995 1248.75 208.69 Z\" fill=\"#000000\" fill-rule=\"evenodd\" fill-opacity=\"1\" /><path clip-path=\"url(#clip590)\" d=\"M 0 0 M1610.53 6.912 L1630.4 6.912 L1630.4 10.8472 L1615.21 10.8472 L1615.21 21.0323 L1628.91 21.0323 L1628.91 24.9675 L1615.21 24.9675 L1615.21 41.472 L1610.53 41.472 L1610.53 6.912 Z\" fill=\"#000000\" fill-rule=\"evenodd\" fill-opacity=\"1\" /><path clip-path=\"url(#clip590)\" d=\"M 0 0 M1631.83 31.2406 L1631.83 15.5462 L1636.09 15.5462 L1636.09 31.0785 Q1636.09 34.7591 1637.53 36.6109 Q1638.96 38.4396 1641.83 38.4396 Q1645.28 38.4396 1647.27 36.2405 Q1649.28 34.0415 1649.28 30.2452 L1649.28 15.5462 L1653.54 15.5462 L1653.54 41.472 L1649.28 41.472 L1649.28 37.4905 Q1647.73 39.8516 1645.67 41.009 Q1643.64 42.1433 1640.93 42.1433 Q1636.46 42.1433 1634.15 39.3655 Q1631.83 36.5878 1631.83 31.2406 M1642.55 14.9212 L1642.55 14.9212 Z\" fill=\"#000000\" fill-rule=\"evenodd\" fill-opacity=\"1\" /><path clip-path=\"url(#clip590)\" d=\"M 0 0 M1656.16 15.5462 L1676.39 15.5462 L1676.39 19.4351 L1660.37 38.0692 L1676.39 38.0692 L1676.39 41.472 L1655.58 41.472 L1655.58 37.5831 L1671.6 18.949 L1656.16 18.949 L1656.16 15.5462 Z\" fill=\"#000000\" fill-rule=\"evenodd\" fill-opacity=\"1\" /><path clip-path=\"url(#clip590)\" d=\"M 0 0 M1679.01 15.5462 L1699.24 15.5462 L1699.24 19.4351 L1683.22 38.0692 L1699.24 38.0692 L1699.24 41.472 L1678.43 41.472 L1678.43 37.5831 L1694.45 18.949 L1679.01 18.949 L1679.01 15.5462 Z\" fill=\"#000000\" fill-rule=\"evenodd\" fill-opacity=\"1\" /><path clip-path=\"url(#clip590)\" d=\"M 0 0 M1714.49 43.8794 Q1712.69 48.509 1710.97 49.921 Q1709.26 51.3331 1706.39 51.3331 L1702.99 51.3331 L1702.99 47.7683 L1705.49 47.7683 Q1707.25 47.7683 1708.22 46.9349 Q1709.19 46.1016 1710.37 42.9998 L1711.14 41.0553 L1700.65 15.5462 L1705.16 15.5462 L1713.27 35.8239 L1721.37 15.5462 L1725.88 15.5462 L1714.49 43.8794 Z\" fill=\"#000000\" fill-rule=\"evenodd\" fill-opacity=\"1\" /><path clip-path=\"url(#clip590)\" d=\"M 0 0 M1742.09 11.5185 L1735.74 28.7174 L1748.45 28.7174 L1742.09 11.5185 M1739.45 6.912 L1744.75 6.912 L1757.92 41.472 L1753.06 41.472 L1749.91 32.6063 L1734.33 32.6063 L1731.18 41.472 L1726.25 41.472 L1739.45 6.912 Z\" fill=\"#000000\" fill-rule=\"evenodd\" fill-opacity=\"1\" /><path clip-path=\"url(#clip590)\" d=\"M 0 0 M1778.96 25.2684 Q1780.46 25.7776 1781.88 27.4443 Q1783.31 29.111 1784.75 32.0276 L1789.49 41.472 L1784.47 41.472 L1780.05 32.6063 Q1778.33 29.1341 1776.71 27.9998 Q1775.12 26.8656 1772.34 26.8656 L1767.25 26.8656 L1767.25 41.472 L1762.57 41.472 L1762.57 6.912 L1773.13 6.912 Q1779.05 6.912 1781.97 9.38884 Q1784.89 11.8657 1784.89 16.8657 Q1784.89 20.1295 1783.36 22.2823 Q1781.85 24.4351 1778.96 25.2684 M1767.25 10.7546 L1767.25 23.023 L1773.13 23.023 Q1776.51 23.023 1778.22 21.4721 Q1779.96 19.898 1779.96 16.8657 Q1779.96 13.8333 1778.22 12.3055 Q1776.51 10.7546 1773.13 10.7546 L1767.25 10.7546 Z\" fill=\"#000000\" fill-rule=\"evenodd\" fill-opacity=\"1\" /><path clip-path=\"url(#clip590)\" d=\"M 0 0 M1785.9 6.912 L1815.14 6.912 L1815.14 10.8472 L1802.87 10.8472 L1802.87 41.472 L1798.17 41.472 L1798.17 10.8472 L1785.9 10.8472 L1785.9 6.912 Z\" fill=\"#000000\" fill-rule=\"evenodd\" fill-opacity=\"1\" /><path clip-path=\"url(#clip590)\" d=\"M 0 0 M1849.7 19.5277 Q1848.98 19.111 1848.13 18.9258 Q1847.29 18.7175 1846.27 18.7175 Q1842.66 18.7175 1840.72 21.0786 Q1838.8 23.4165 1838.8 27.8147 L1838.8 41.472 L1834.52 41.472 L1834.52 15.5462 L1838.8 15.5462 L1838.8 19.574 Q1840.14 17.2129 1842.29 16.0786 Q1844.45 14.9212 1847.52 14.9212 Q1847.96 14.9212 1848.5 14.9907 Q1849.03 15.037 1849.68 15.1527 L1849.7 19.5277 Z\" fill=\"#000000\" fill-rule=\"evenodd\" fill-opacity=\"1\" /><path clip-path=\"url(#clip590)\" d=\"M 0 0 M1874.89 25.8239 L1874.89 41.472 L1870.63 41.472 L1870.63 25.9628 Q1870.63 22.2823 1869.19 20.4536 Q1867.76 18.6249 1864.89 18.6249 Q1861.44 18.6249 1859.45 20.824 Q1857.45 23.023 1857.45 26.8193 L1857.45 41.472 L1853.17 41.472 L1853.17 5.45367 L1857.45 5.45367 L1857.45 19.574 Q1858.98 17.236 1861.04 16.0786 Q1863.13 14.9212 1865.83 14.9212 Q1870.3 14.9212 1872.59 17.699 Q1874.89 20.4536 1874.89 25.8239 Z\" fill=\"#000000\" fill-rule=\"evenodd\" fill-opacity=\"1\" /><path clip-path=\"url(#clip590)\" d=\"M 0 0 M1889.4 18.5323 Q1885.97 18.5323 1883.98 21.2175 Q1881.99 23.8795 1881.99 28.5323 Q1881.99 33.185 1883.96 35.8702 Q1885.95 38.5322 1889.4 38.5322 Q1892.8 38.5322 1894.79 35.847 Q1896.78 33.1619 1896.78 28.5323 Q1896.78 23.9258 1894.79 21.2406 Q1892.8 18.5323 1889.4 18.5323 M1889.4 14.9212 Q1894.95 14.9212 1898.13 18.5323 Q1901.3 22.1434 1901.3 28.5323 Q1901.3 34.898 1898.13 38.5322 Q1894.95 42.1433 1889.4 42.1433 Q1883.82 42.1433 1880.65 38.5322 Q1877.5 34.898 1877.5 28.5323 Q1877.5 22.1434 1880.65 18.5323 Q1883.82 14.9212 1889.4 14.9212 Z\" fill=\"#000000\" fill-rule=\"evenodd\" fill-opacity=\"1\" /><path clip-path=\"url(#clip590)\" d=\"M 0 0 M1921.39 19.9443 L1951.07 19.9443 L1951.07 23.8332 L1921.39 23.8332 L1921.39 19.9443 M1921.39 29.3887 L1951.07 29.3887 L1951.07 33.3239 L1921.39 33.3239 L1921.39 29.3887 Z\" fill=\"#000000\" fill-rule=\"evenodd\" fill-opacity=\"1\" /><path clip-path=\"url(#clip590)\" d=\"M 0 0 M1981.2 9.99069 Q1977.59 9.99069 1975.76 13.5555 Q1973.96 17.0971 1973.96 24.2267 Q1973.96 31.3332 1975.76 34.898 Q1977.59 38.4396 1981.2 38.4396 Q1984.84 38.4396 1986.64 34.898 Q1988.47 31.3332 1988.47 24.2267 Q1988.47 17.0971 1986.64 13.5555 Q1984.84 9.99069 1981.2 9.99069 M1981.2 6.287 Q1987.01 6.287 1990.07 10.8935 Q1993.15 15.4768 1993.15 24.2267 Q1993.15 32.9535 1990.07 37.56 Q1987.01 42.1433 1981.2 42.1433 Q1975.39 42.1433 1972.32 37.56 Q1969.26 32.9535 1969.26 24.2267 Q1969.26 15.4768 1972.32 10.8935 Q1975.39 6.287 1981.2 6.287 Z\" fill=\"#000000\" fill-rule=\"evenodd\" fill-opacity=\"1\" /><path clip-path=\"url(#clip590)\" d=\"M 0 0 M1998.22 35.5924 L2003.1 35.5924 L2003.1 41.472 L1998.22 41.472 L1998.22 35.5924 Z\" fill=\"#000000\" fill-rule=\"evenodd\" fill-opacity=\"1\" /><path clip-path=\"url(#clip590)\" d=\"M 0 0 M2006.99 6.912 L2029.21 6.912 L2029.21 8.90273 L2016.67 41.472 L2011.78 41.472 L2023.59 10.8472 L2006.99 10.8472 L2006.99 6.912 Z\" fill=\"#000000\" fill-rule=\"evenodd\" fill-opacity=\"1\" /><circle clip-path=\"url(#clip593)\" cx=\"2206.81\" cy=\"830.069\" r=\"14\" fill=\"#009af9\" fill-rule=\"evenodd\" fill-opacity=\"1\" stroke=\"#000000\" stroke-opacity=\"1\" stroke-width=\"3.2\"/>\n",
       "<circle clip-path=\"url(#clip593)\" cx=\"2322.59\" cy=\"600.36\" r=\"14\" fill=\"#009af9\" fill-rule=\"evenodd\" fill-opacity=\"1\" stroke=\"#000000\" stroke-opacity=\"1\" stroke-width=\"3.2\"/>\n",
       "<circle clip-path=\"url(#clip593)\" cx=\"2269.27\" cy=\"828.669\" r=\"14\" fill=\"#009af9\" fill-rule=\"evenodd\" fill-opacity=\"1\" stroke=\"#000000\" stroke-opacity=\"1\" stroke-width=\"3.2\"/>\n",
       "<circle clip-path=\"url(#clip593)\" cx=\"2173.32\" cy=\"629.899\" r=\"14\" fill=\"#009af9\" fill-rule=\"evenodd\" fill-opacity=\"1\" stroke=\"#000000\" stroke-opacity=\"1\" stroke-width=\"3.2\"/>\n",
       "<circle clip-path=\"url(#clip593)\" cx=\"2169.52\" cy=\"104.257\" r=\"14\" fill=\"#009af9\" fill-rule=\"evenodd\" fill-opacity=\"1\" stroke=\"#000000\" stroke-opacity=\"1\" stroke-width=\"3.2\"/>\n",
       "<circle clip-path=\"url(#clip593)\" cx=\"2265.54\" cy=\"653.085\" r=\"14\" fill=\"#009af9\" fill-rule=\"evenodd\" fill-opacity=\"1\" stroke=\"#000000\" stroke-opacity=\"1\" stroke-width=\"3.2\"/>\n",
       "<circle clip-path=\"url(#clip593)\" cx=\"2240.75\" cy=\"855.032\" r=\"14\" fill=\"#009af9\" fill-rule=\"evenodd\" fill-opacity=\"1\" stroke=\"#000000\" stroke-opacity=\"1\" stroke-width=\"3.2\"/>\n",
       "<circle clip-path=\"url(#clip593)\" cx=\"2249.7\" cy=\"494.42\" r=\"14\" fill=\"#009af9\" fill-rule=\"evenodd\" fill-opacity=\"1\" stroke=\"#000000\" stroke-opacity=\"1\" stroke-width=\"3.2\"/>\n",
       "<circle clip-path=\"url(#clip593)\" cx=\"2190.07\" cy=\"555.918\" r=\"14\" fill=\"#009af9\" fill-rule=\"evenodd\" fill-opacity=\"1\" stroke=\"#000000\" stroke-opacity=\"1\" stroke-width=\"3.2\"/>\n",
       "<circle clip-path=\"url(#clip593)\" cx=\"2228.39\" cy=\"454.946\" r=\"14\" fill=\"#009af9\" fill-rule=\"evenodd\" fill-opacity=\"1\" stroke=\"#000000\" stroke-opacity=\"1\" stroke-width=\"3.2\"/>\n",
       "<circle clip-path=\"url(#clip593)\" cx=\"2227.25\" cy=\"871.825\" r=\"14\" fill=\"#009af9\" fill-rule=\"evenodd\" fill-opacity=\"1\" stroke=\"#000000\" stroke-opacity=\"1\" stroke-width=\"3.2\"/>\n",
       "<circle clip-path=\"url(#clip593)\" cx=\"2206.59\" cy=\"182.701\" r=\"14\" fill=\"#009af9\" fill-rule=\"evenodd\" fill-opacity=\"1\" stroke=\"#000000\" stroke-opacity=\"1\" stroke-width=\"3.2\"/>\n",
       "<circle clip-path=\"url(#clip593)\" cx=\"2219.99\" cy=\"877.813\" r=\"14\" fill=\"#009af9\" fill-rule=\"evenodd\" fill-opacity=\"1\" stroke=\"#000000\" stroke-opacity=\"1\" stroke-width=\"3.2\"/>\n",
       "<circle clip-path=\"url(#clip593)\" cx=\"2229.78\" cy=\"455.072\" r=\"14\" fill=\"#009af9\" fill-rule=\"evenodd\" fill-opacity=\"1\" stroke=\"#000000\" stroke-opacity=\"1\" stroke-width=\"3.2\"/>\n",
       "<circle clip-path=\"url(#clip593)\" cx=\"1644.17\" cy=\"455.022\" r=\"14\" fill=\"#e26f46\" fill-rule=\"evenodd\" fill-opacity=\"1\" stroke=\"#000000\" stroke-opacity=\"1\" stroke-width=\"3.2\"/>\n",
       "<circle clip-path=\"url(#clip593)\" cx=\"1584.64\" cy=\"984.347\" r=\"14\" fill=\"#e26f46\" fill-rule=\"evenodd\" fill-opacity=\"1\" stroke=\"#000000\" stroke-opacity=\"1\" stroke-width=\"3.2\"/>\n",
       "<circle clip-path=\"url(#clip593)\" cx=\"1505.62\" cy=\"1126.67\" r=\"14\" fill=\"#e26f46\" fill-rule=\"evenodd\" fill-opacity=\"1\" stroke=\"#000000\" stroke-opacity=\"1\" stroke-width=\"3.2\"/>\n",
       "<circle clip-path=\"url(#clip593)\" cx=\"1808.17\" cy=\"1291.24\" r=\"14\" fill=\"#e26f46\" fill-rule=\"evenodd\" fill-opacity=\"1\" stroke=\"#000000\" stroke-opacity=\"1\" stroke-width=\"3.2\"/>\n",
       "<circle clip-path=\"url(#clip593)\" cx=\"1571.18\" cy=\"1060.99\" r=\"14\" fill=\"#e26f46\" fill-rule=\"evenodd\" fill-opacity=\"1\" stroke=\"#000000\" stroke-opacity=\"1\" stroke-width=\"3.2\"/>\n",
       "<circle clip-path=\"url(#clip593)\" cx=\"1557.23\" cy=\"303.62\" r=\"14\" fill=\"#e26f46\" fill-rule=\"evenodd\" fill-opacity=\"1\" stroke=\"#000000\" stroke-opacity=\"1\" stroke-width=\"3.2\"/>\n",
       "<circle clip-path=\"url(#clip593)\" cx=\"1584.33\" cy=\"1339.1\" r=\"14\" fill=\"#e26f46\" fill-rule=\"evenodd\" fill-opacity=\"1\" stroke=\"#000000\" stroke-opacity=\"1\" stroke-width=\"3.2\"/>\n",
       "<circle clip-path=\"url(#clip593)\" cx=\"1759.23\" cy=\"1045.48\" r=\"14\" fill=\"#e26f46\" fill-rule=\"evenodd\" fill-opacity=\"1\" stroke=\"#000000\" stroke-opacity=\"1\" stroke-width=\"3.2\"/>\n",
       "<circle clip-path=\"url(#clip593)\" cx=\"1700.62\" cy=\"1111.79\" r=\"14\" fill=\"#e26f46\" fill-rule=\"evenodd\" fill-opacity=\"1\" stroke=\"#000000\" stroke-opacity=\"1\" stroke-width=\"3.2\"/>\n",
       "<circle clip-path=\"url(#clip593)\" cx=\"1586.54\" cy=\"155.28\" r=\"14\" fill=\"#e26f46\" fill-rule=\"evenodd\" fill-opacity=\"1\" stroke=\"#000000\" stroke-opacity=\"1\" stroke-width=\"3.2\"/>\n",
       "<circle clip-path=\"url(#clip593)\" cx=\"1651.08\" cy=\"743.935\" r=\"14\" fill=\"#e26f46\" fill-rule=\"evenodd\" fill-opacity=\"1\" stroke=\"#000000\" stroke-opacity=\"1\" stroke-width=\"3.2\"/>\n",
       "<circle clip-path=\"url(#clip593)\" cx=\"2263.12\" cy=\"1479.74\" r=\"14\" fill=\"#e26f46\" fill-rule=\"evenodd\" fill-opacity=\"1\" stroke=\"#000000\" stroke-opacity=\"1\" stroke-width=\"3.2\"/>\n",
       "<circle clip-path=\"url(#clip593)\" cx=\"1713.08\" cy=\"799.974\" r=\"14\" fill=\"#e26f46\" fill-rule=\"evenodd\" fill-opacity=\"1\" stroke=\"#000000\" stroke-opacity=\"1\" stroke-width=\"3.2\"/>\n",
       "<circle clip-path=\"url(#clip593)\" cx=\"1614.11\" cy=\"785.185\" r=\"14\" fill=\"#e26f46\" fill-rule=\"evenodd\" fill-opacity=\"1\" stroke=\"#000000\" stroke-opacity=\"1\" stroke-width=\"3.2\"/>\n",
       "<circle clip-path=\"url(#clip593)\" cx=\"1646.12\" cy=\"865.535\" r=\"14\" fill=\"#e26f46\" fill-rule=\"evenodd\" fill-opacity=\"1\" stroke=\"#000000\" stroke-opacity=\"1\" stroke-width=\"3.2\"/>\n",
       "<circle clip-path=\"url(#clip593)\" cx=\"1618.87\" cy=\"654.56\" r=\"14\" fill=\"#e26f46\" fill-rule=\"evenodd\" fill-opacity=\"1\" stroke=\"#000000\" stroke-opacity=\"1\" stroke-width=\"3.2\"/>\n",
       "<circle clip-path=\"url(#clip593)\" cx=\"1590.99\" cy=\"862.872\" r=\"14\" fill=\"#e26f46\" fill-rule=\"evenodd\" fill-opacity=\"1\" stroke=\"#000000\" stroke-opacity=\"1\" stroke-width=\"3.2\"/>\n",
       "<circle clip-path=\"url(#clip593)\" cx=\"1679.89\" cy=\"593.187\" r=\"14\" fill=\"#e26f46\" fill-rule=\"evenodd\" fill-opacity=\"1\" stroke=\"#000000\" stroke-opacity=\"1\" stroke-width=\"3.2\"/>\n",
       "<circle clip-path=\"url(#clip593)\" cx=\"1753.76\" cy=\"1164.67\" r=\"14\" fill=\"#e26f46\" fill-rule=\"evenodd\" fill-opacity=\"1\" stroke=\"#000000\" stroke-opacity=\"1\" stroke-width=\"3.2\"/>\n",
       "<circle clip-path=\"url(#clip593)\" cx=\"1412.38\" cy=\"750.54\" r=\"14\" fill=\"#3da44d\" fill-rule=\"evenodd\" fill-opacity=\"1\" stroke=\"#000000\" stroke-opacity=\"1\" stroke-width=\"3.2\"/>\n",
       "<circle clip-path=\"url(#clip593)\" cx=\"1605.51\" cy=\"850.895\" r=\"14\" fill=\"#3da44d\" fill-rule=\"evenodd\" fill-opacity=\"1\" stroke=\"#000000\" stroke-opacity=\"1\" stroke-width=\"3.2\"/>\n",
       "<circle clip-path=\"url(#clip593)\" cx=\"1485.14\" cy=\"676.938\" r=\"14\" fill=\"#3da44d\" fill-rule=\"evenodd\" fill-opacity=\"1\" stroke=\"#000000\" stroke-opacity=\"1\" stroke-width=\"3.2\"/>\n",
       "<circle clip-path=\"url(#clip593)\" cx=\"1600.72\" cy=\"1211.88\" r=\"14\" fill=\"#3da44d\" fill-rule=\"evenodd\" fill-opacity=\"1\" stroke=\"#000000\" stroke-opacity=\"1\" stroke-width=\"3.2\"/>\n",
       "<circle clip-path=\"url(#clip593)\" cx=\"1424.46\" cy=\"443.409\" r=\"14\" fill=\"#3da44d\" fill-rule=\"evenodd\" fill-opacity=\"1\" stroke=\"#000000\" stroke-opacity=\"1\" stroke-width=\"3.2\"/>\n",
       "<circle clip-path=\"url(#clip593)\" cx=\"1501.9\" cy=\"893.168\" r=\"14\" fill=\"#3da44d\" fill-rule=\"evenodd\" fill-opacity=\"1\" stroke=\"#000000\" stroke-opacity=\"1\" stroke-width=\"3.2\"/>\n",
       "<circle clip-path=\"url(#clip593)\" cx=\"1442.53\" cy=\"540.071\" r=\"14\" fill=\"#3da44d\" fill-rule=\"evenodd\" fill-opacity=\"1\" stroke=\"#000000\" stroke-opacity=\"1\" stroke-width=\"3.2\"/>\n",
       "<circle clip-path=\"url(#clip593)\" cx=\"1477.88\" cy=\"682.927\" r=\"14\" fill=\"#3da44d\" fill-rule=\"evenodd\" fill-opacity=\"1\" stroke=\"#000000\" stroke-opacity=\"1\" stroke-width=\"3.2\"/>\n",
       "<circle clip-path=\"url(#clip593)\" cx=\"1417.3\" cy=\"917.225\" r=\"14\" fill=\"#3da44d\" fill-rule=\"evenodd\" fill-opacity=\"1\" stroke=\"#000000\" stroke-opacity=\"1\" stroke-width=\"3.2\"/>\n",
       "<circle clip-path=\"url(#clip593)\" cx=\"1317.16\" cy=\"427.867\" r=\"14\" fill=\"#3da44d\" fill-rule=\"evenodd\" fill-opacity=\"1\" stroke=\"#000000\" stroke-opacity=\"1\" stroke-width=\"3.2\"/>\n",
       "<circle clip-path=\"url(#clip593)\" cx=\"1445.87\" cy=\"602.577\" r=\"14\" fill=\"#3da44d\" fill-rule=\"evenodd\" fill-opacity=\"1\" stroke=\"#000000\" stroke-opacity=\"1\" stroke-width=\"3.2\"/>\n",
       "<circle clip-path=\"url(#clip593)\" cx=\"1537.4\" cy=\"1157.64\" r=\"14\" fill=\"#3da44d\" fill-rule=\"evenodd\" fill-opacity=\"1\" stroke=\"#000000\" stroke-opacity=\"1\" stroke-width=\"3.2\"/>\n",
       "</svg>\n"
      ]
     },
     "metadata": {},
     "execution_count": 19
    }
   ],
   "cell_type": "code",
   "source": [
    "p1 = scatter(X_test_pca[1,:], X_test_pca[2,:], group=y_hat_1, title=@sprintf \"FuzzyART rho = %.1f\" rho_1)\n",
    "p2 = scatter(X_test_pca[1,:], X_test_pca[2,:], group=y_hat_2, title=@sprintf \"FuzzyART rho = %.1f\" rho_2)\n",
    "plot(p1, p2, layout=(1, 2), legend = false, xtickfontsize=6, xguidefontsize=8, titlefont=font(8))"
   ],
   "metadata": {},
   "execution_count": 19
  },
  {
   "cell_type": "markdown",
   "source": [
    "---\n",
    "\n",
    "*This notebook was generated using [Literate.jl](https://github.com/fredrikekre/Literate.jl).*"
   ],
   "metadata": {}
  }
 ],
 "nbformat_minor": 3,
 "metadata": {
  "language_info": {
   "file_extension": ".jl",
   "mimetype": "application/julia",
   "name": "julia",
   "version": "1.4.2"
  },
  "kernelspec": {
   "name": "julia-1.4",
   "display_name": "Julia 1.4.2",
   "language": "julia"
  }
 },
 "nbformat": 4
}
