{
 "cells": [
  {
   "cell_type": "markdown",
   "source": [
    "## Overview"
   ],
   "metadata": {}
  },
  {
   "cell_type": "markdown",
   "source": [
    "In their derivations, ART modules have some special requirements when it comes to their input features.\n",
    "FuzzyART in particular, and subsequently its derivatives, has a requirement that the inputs be bounded and complement coded.\n",
    "This is due to some consequences such as weight decay that occur when using real-valued patterns rather than binary ones (and hence operations like fuzzy membership)."
   ],
   "metadata": {}
  },
  {
   "cell_type": "markdown",
   "source": [
    "Preprocessing of the features occurs as follows:\n",
    "1. The features are linearly normalized from 0 to 1 with respect to each feature with `linear_normalization`.\n",
    "   This is done according to some known bounds that each feature has.\n",
    "2. The features are then complement coded, meaning that the feature vector is appended to its 1-complement (i.e., x -> [x, 1-x]) with `complement_code`."
   ],
   "metadata": {}
  },
  {
   "cell_type": "markdown",
   "source": [
    "This preprocessing has the ultimate consequence that the input features must be bounded.\n",
    "This many not be a problem in some offline applications with a fixed dataset, but in others where the bounds are not known, techniques such as sigmoidal limiting are often used to place an artificial limit."
   ],
   "metadata": {}
  },
  {
   "cell_type": "markdown",
   "source": [
    "## DataConfig"
   ],
   "metadata": {}
  },
  {
   "cell_type": "markdown",
   "source": [
    "Regardless, this process requires some *a-priori* knowledge about the minimums and maximums that each feature can have, which is stored as a preprocessing configuration.\n",
    "This preprocessing configuration is saved in every ART module as a `DataConfig` object called `config`, which we can see is uninitialized at first:"
   ],
   "metadata": {}
  },
  {
   "outputs": [
    {
     "output_type": "execute_result",
     "data": {
      "text/plain": "DataConfig(false, Float64[], Float64[], 0, 0)"
     },
     "metadata": {},
     "execution_count": 1
    }
   ],
   "cell_type": "code",
   "source": [
    "# Load the library\n",
    "using AdaptiveResonance\n",
    "\n",
    "# Create a new ART module and inspect its uninitialized data config `config`\n",
    "art = FuzzyART()\n",
    "art.config"
   ],
   "metadata": {},
   "execution_count": 1
  },
  {
   "cell_type": "markdown",
   "source": [
    "We see that the type of `art.config` is `DataConfig`.\n",
    "We can see what the internal elements of this struct are with `fieldnames`:"
   ],
   "metadata": {}
  },
  {
   "outputs": [
    {
     "output_type": "execute_result",
     "data": {
      "text/plain": "(:setup, :mins, :maxs, :dim, :dim_comp)"
     },
     "metadata": {},
     "execution_count": 2
    }
   ],
   "cell_type": "code",
   "source": [
    "fieldnames(AdaptiveResonance.DataConfig)"
   ],
   "metadata": {},
   "execution_count": 2
  },
  {
   "cell_type": "markdown",
   "source": [
    "We see that the dataconfig has a boolean setup flag, minimum and maximum feature vectors, dimensionality of the data, and the complement coded dimensionality (twice the size of the original dimension)."
   ],
   "metadata": {}
  },
  {
   "cell_type": "markdown",
   "source": [
    "### Automatic Configuration"
   ],
   "metadata": {}
  },
  {
   "cell_type": "markdown",
   "source": [
    "In batch training mode, the minimums and maximums are detected automatically; the minimum and maximum values for every feature are saved and used for the preprocessing step at every subsequent iteration."
   ],
   "metadata": {}
  },
  {
   "outputs": [
    {
     "name": "stdout",
     "output_type": "stream",
     "text": [
      "[ Info: Training FuzzyART\n",
      "\r0.0%┣                                               ┫ 0/150 [00:00<00:-8, 0s/it]\n",
      "\u001b[1A\rEp: 1, ID: 1, Cat: 0 0.7%┣▏                    ┫ 1/150 [00:00<Inf:Inf, InfGs/it]\n",
      "\u001b[1A\rEp: 1, ID: 150, Cat: 6 100.0%┣█████████████████┫ 150/150 [00:00<00:00, 2.5kit/s]\n"
     ]
    },
    {
     "output_type": "execute_result",
     "data": {
      "text/plain": "DataConfig(true, [4.3, 2.0, 1.0, 0.1], [7.9, 4.4, 6.9, 2.5], 4, 8)"
     },
     "metadata": {},
     "execution_count": 3
    }
   ],
   "cell_type": "code",
   "source": [
    "# Load data\n",
    "using MLDatasets\n",
    "\n",
    "# We will download the Iris dataset for its small size and benchmark use for clustering algorithms.\n",
    "Iris.download(i_accept_the_terms_of_use=true)\n",
    "features, labels = Iris.features(), Iris.labels()\n",
    "\n",
    "# We will then train the FuzzyART module in unsupervised mode and see that the data config is now set\n",
    "y_hat_train = train!(art, features)\n",
    "art.config"
   ],
   "metadata": {},
   "execution_count": 3
  },
  {
   "cell_type": "markdown",
   "source": [
    "!!! note\n",
    "    This automatic detection of feature characteristics only occurs if the `config` is not already setup.\n",
    "    If it is setup beforehand, then that config is used instead."
   ],
   "metadata": {}
  },
  {
   "cell_type": "markdown",
   "source": [
    "### Manual Configuration"
   ],
   "metadata": {}
  },
  {
   "cell_type": "markdown",
   "source": [
    "As mentioned before, we may not always have the luxury of having a representative dataset in advance.\n",
    "Alternatively, we may know the bounds of the features but wish to run incrementally rather than in batch.\n",
    "In these cases, we can setup the config the various `DataConfig` constructors."
   ],
   "metadata": {}
  },
  {
   "cell_type": "markdown",
   "source": [
    "For example, if the features are all bounded from -1 to 1, we have to also specify the original dimension of the data in `DataConfig(min, max, dim)`:"
   ],
   "metadata": {}
  },
  {
   "outputs": [
    {
     "output_type": "execute_result",
     "data": {
      "text/plain": "DataConfig(true, [-1, -1, -1, -1, -1, -1, -1, -1, -1, -1, -1, -1, -1, -1, -1, -1, -1, -1, -1, -1], [1, 1, 1, 1, 1, 1, 1, 1, 1, 1, 1, 1, 1, 1, 1, 1, 1, 1, 1, 1], 20, 40)"
     },
     "metadata": {},
     "execution_count": 4
    }
   ],
   "cell_type": "code",
   "source": [
    "# Reinitialize the FuzzyART module\n",
    "art = FuzzyART()\n",
    "# Tell the module that we have 20 features all ranging from -1 to 1\n",
    "art.config = DataConfig(-1, 1, 20)"
   ],
   "metadata": {},
   "execution_count": 4
  },
  {
   "cell_type": "markdown",
   "source": [
    "If the features differ in their ranges, we can specify with `DataConfig(mins, maxs)`:"
   ],
   "metadata": {}
  },
  {
   "outputs": [
    {
     "output_type": "execute_result",
     "data": {
      "text/plain": "DataConfig(true, [-1.0, -2.0, -1.5], [3, 2, 1], 3, 6)"
     },
     "metadata": {},
     "execution_count": 5
    }
   ],
   "cell_type": "code",
   "source": [
    "# Assume some minimum and maximum values for each feature\n",
    "mins = [-1,-2,-1.5]\n",
    "maxs = [3, 2, 1]\n",
    "art.config = DataConfig(mins, maxs)"
   ],
   "metadata": {},
   "execution_count": 5
  },
  {
   "cell_type": "markdown",
   "source": [
    "Here, we don't need to specify the feature dimensionality because it is inferred from the length of the range values."
   ],
   "metadata": {}
  },
  {
   "cell_type": "markdown",
   "source": [
    "!!! note\n",
    "    After the first training run, the weights of the network are set to the size of the complement coded dimension.\n",
    "    If you wish to change the dimension of the features, you will need to create a new network."
   ],
   "metadata": {}
  },
  {
   "cell_type": "markdown",
   "source": [
    "---\n",
    "\n",
    "*This notebook was generated using [Literate.jl](https://github.com/fredrikekre/Literate.jl).*"
   ],
   "metadata": {}
  }
 ],
 "nbformat_minor": 3,
 "metadata": {
  "language_info": {
   "file_extension": ".jl",
   "mimetype": "application/julia",
   "name": "julia",
   "version": "1.4.2"
  },
  "kernelspec": {
   "name": "julia-1.4",
   "display_name": "Julia 1.4.2",
   "language": "julia"
  }
 },
 "nbformat": 4
}
