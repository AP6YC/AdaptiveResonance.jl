{
 "cells": [
  {
   "cell_type": "markdown",
   "source": [
    "## Overview"
   ],
   "metadata": {}
  },
  {
   "cell_type": "markdown",
   "source": [
    "The `AdaptiveResonance.jl` package has several ways of handling options for ART modules.\n",
    "These methods are meant to give maximum flexibility to the user for sharing and interpreting options, which themselves vary between each module."
   ],
   "metadata": {}
  },
  {
   "cell_type": "markdown",
   "source": [
    "!!! note\n",
    "    For more info on options in ART modules, see the guide in the docs on ART options."
   ],
   "metadata": {}
  },
  {
   "cell_type": "markdown",
   "source": [
    "## ART Options"
   ],
   "metadata": {}
  },
  {
   "cell_type": "markdown",
   "source": [
    "To get a feel for the ART options system, we will inspect different options and their instantiation methods."
   ],
   "metadata": {}
  },
  {
   "cell_type": "markdown",
   "source": [
    "### Inspection"
   ],
   "metadata": {}
  },
  {
   "cell_type": "markdown",
   "source": [
    "First, we load `AdaptiveResonance`:"
   ],
   "metadata": {}
  },
  {
   "outputs": [],
   "cell_type": "code",
   "source": [
    "using AdaptiveResonance"
   ],
   "metadata": {},
   "execution_count": 1
  },
  {
   "cell_type": "markdown",
   "source": [
    "Every ART module has a default constructor, which can be instantiated in the usual way:"
   ],
   "metadata": {}
  },
  {
   "outputs": [
    {
     "output_type": "execute_result",
     "data": {
      "text/plain": "FuzzyART"
     },
     "metadata": {},
     "execution_count": 2
    }
   ],
   "cell_type": "code",
   "source": [
    "# Create a FuzzyART module with default options\n",
    "my_fuzzyart = FuzzyART()\n",
    "typeof(my_fuzzyart)"
   ],
   "metadata": {},
   "execution_count": 2
  },
  {
   "cell_type": "markdown",
   "source": [
    "Within every ART module is a [Parameters.jl](https://github.com/mauro3/Parameters.jl) struct named `opts` containing the options for the module"
   ],
   "metadata": {}
  },
  {
   "outputs": [
    {
     "output_type": "execute_result",
     "data": {
      "text/plain": "opts_FuzzyART\n  rho: Float64 0.6\n  alpha: Float64 0.001\n  beta: Float64 1.0\n  gamma: Float64 3.0\n  gamma_ref: Float64 1.0\n  display: Bool true\n  max_epochs: Int64 1\n  gamma_normalization: Bool false\n"
     },
     "metadata": {},
     "execution_count": 3
    }
   ],
   "cell_type": "code",
   "source": [
    "# Check the FuzzyART options\n",
    "my_fuzzyart.opts"
   ],
   "metadata": {},
   "execution_count": 3
  },
  {
   "cell_type": "markdown",
   "source": [
    "Note that the options here have the type `opts_FuzzyART`.\n",
    "This nomenclature is used throughout the module to indicate an options type associated with an ART module.\n",
    "For example, the options for a DDVFA module are `opts_DDVFA`:"
   ],
   "metadata": {}
  },
  {
   "outputs": [
    {
     "output_type": "execute_result",
     "data": {
      "text/plain": "opts_DDVFA"
     },
     "metadata": {},
     "execution_count": 4
    }
   ],
   "cell_type": "code",
   "source": [
    "# Create a DDVFA module and check the type of the options\n",
    "my_ddvfa = DDVFA()\n",
    "typeof(my_ddvfa.opts)"
   ],
   "metadata": {},
   "execution_count": 4
  },
  {
   "cell_type": "markdown",
   "source": [
    "In fact, we can create an instance of these options with a default constructor:"
   ],
   "metadata": {}
  },
  {
   "outputs": [
    {
     "output_type": "execute_result",
     "data": {
      "text/plain": "opts_FuzzyART\n  rho: Float64 0.6\n  alpha: Float64 0.001\n  beta: Float64 1.0\n  gamma: Float64 3.0\n  gamma_ref: Float64 1.0\n  display: Bool true\n  max_epochs: Int64 1\n  gamma_normalization: Bool false\n"
     },
     "metadata": {},
     "execution_count": 5
    }
   ],
   "cell_type": "code",
   "source": [
    "# Create a separate options struct\n",
    "my_fuzzyart_opts = opts_FuzzyART()"
   ],
   "metadata": {},
   "execution_count": 5
  },
  {
   "cell_type": "markdown",
   "source": [
    "In addition to the default constructor, we can construct ART modules by instantiating these options and passing them to the module during construction:"
   ],
   "metadata": {}
  },
  {
   "outputs": [
    {
     "output_type": "execute_result",
     "data": {
      "text/plain": "FuzzyART(opts_FuzzyART\n  rho: Float64 0.6\n  alpha: Float64 0.001\n  beta: Float64 1.0\n  gamma: Float64 3.0\n  gamma_ref: Float64 1.0\n  display: Bool true\n  max_epochs: Int64 1\n  gamma_normalization: Bool false\n, DataConfig(false, Float64[], Float64[], 0, 0), 0.0, Int64[], Float64[], Float64[], Array{Float64}(undef,0,0), Int64[], 0, 0)"
     },
     "metadata": {},
     "execution_count": 6
    }
   ],
   "cell_type": "code",
   "source": [
    "# Instantiate an ART module by passing our options\n",
    "my_fuzzyart = FuzzyART(my_fuzzyart_opts)\n",
    "my_other_fuzzyart = FuzzyART(my_fuzzyart_opts)"
   ],
   "metadata": {},
   "execution_count": 6
  },
  {
   "cell_type": "markdown",
   "source": [
    "### Specifying Options"
   ],
   "metadata": {}
  },
  {
   "cell_type": "markdown",
   "source": [
    "Now to the good stuff: because of the behavior of the `Parameters.jl` type, each option has a default value that we can modify during instantiation with keyword arguments:"
   ],
   "metadata": {}
  },
  {
   "outputs": [
    {
     "output_type": "execute_result",
     "data": {
      "text/plain": "FuzzyART(opts_FuzzyART\n  rho: Float64 0.6\n  alpha: Float64 0.001\n  beta: Float64 1.0\n  gamma: Float64 3.0\n  gamma_ref: Float64 1.0\n  display: Bool true\n  max_epochs: Int64 1\n  gamma_normalization: Bool true\n, DataConfig(false, Float64[], Float64[], 0, 0), 0.0, Int64[], Float64[], Float64[], Array{Float64}(undef,0,0), Int64[], 0, 0)"
     },
     "metadata": {},
     "execution_count": 7
    }
   ],
   "cell_type": "code",
   "source": [
    "# Change some of the default FuzzyART options\n",
    "my_fuzzyart_opts = opts_FuzzyART(\n",
    "    rho=0.6,\n",
    "    gamma_normalization=true\n",
    ")\n",
    "my_fuzzyart = FuzzyART(my_fuzzyart_opts)"
   ],
   "metadata": {},
   "execution_count": 7
  },
  {
   "cell_type": "markdown",
   "source": [
    "As some syntactic sugar, we can pass these keyword arguments directly to the module during instantiation if we have no need to share option structs:"
   ],
   "metadata": {}
  },
  {
   "outputs": [
    {
     "output_type": "execute_result",
     "data": {
      "text/plain": "FuzzyART(opts_FuzzyART\n  rho: Float64 0.6\n  alpha: Float64 0.001\n  beta: Float64 1.0\n  gamma: Float64 3.0\n  gamma_ref: Float64 1.0\n  display: Bool true\n  max_epochs: Int64 1\n  gamma_normalization: Bool true\n, DataConfig(false, Float64[], Float64[], 0, 0), 0.0, Int64[], Float64[], Float64[], Array{Float64}(undef,0,0), Int64[], 0, 0)"
     },
     "metadata": {},
     "execution_count": 8
    }
   ],
   "cell_type": "code",
   "source": [
    "# Pass these keyword arguments to the module directly\n",
    "my_fuzzyart = FuzzyART(\n",
    "    rho=0.6,\n",
    "    gamma_normalization=true\n",
    ")"
   ],
   "metadata": {},
   "execution_count": 8
  },
  {
   "cell_type": "markdown",
   "source": [
    "Before training, we can also instantiate the model and alter the options afterward:"
   ],
   "metadata": {}
  },
  {
   "outputs": [
    {
     "output_type": "execute_result",
     "data": {
      "text/plain": "0.6"
     },
     "metadata": {},
     "execution_count": 9
    }
   ],
   "cell_type": "code",
   "source": [
    "my_fuzzyart = FuzzyART()\n",
    "my_fuzzyart.opts.rho=0.6"
   ],
   "metadata": {},
   "execution_count": 9
  },
  {
   "cell_type": "markdown",
   "source": [
    "!!! note\n",
    "    All ART modules are designed to use this options struct internally when the parameters are needed.\n",
    "    It is possible to change these parameters in the middle of training and evaluation, but some algorithmic instability may occur."
   ],
   "metadata": {}
  },
  {
   "cell_type": "markdown",
   "source": [
    "## Comparison"
   ],
   "metadata": {}
  },
  {
   "cell_type": "markdown",
   "source": [
    "To see the effect that changing these parameters has on the modules, we can train and test them side-by-side."
   ],
   "metadata": {}
  },
  {
   "cell_type": "markdown",
   "source": [
    "We begin with importing AdaptiveResonance for the ART modules and MLDatasets for some data utilities."
   ],
   "metadata": {}
  },
  {
   "outputs": [],
   "cell_type": "code",
   "source": [
    "using MLDatasets        # Iris dataset\n",
    "using MLDataUtils       # Shuffling and splitting\n",
    "using Printf            # Formatted number printing\n",
    "using MultivariateStats # Principal component analysis (PCA)\n",
    "using Plots             # Plotting"
   ],
   "metadata": {},
   "execution_count": 10
  },
  {
   "cell_type": "markdown",
   "source": [
    "We will download the Iris dataset for its small size and benchmark use for clustering algorithms."
   ],
   "metadata": {}
  },
  {
   "outputs": [
    {
     "output_type": "execute_result",
     "data": {
      "text/plain": "([5.1 4.9 … 6.2 5.9; 3.5 3.0 … 3.4 3.0; 1.4 1.4 … 5.4 5.1; 0.2 0.2 … 2.3 1.8], [\"Iris-setosa\", \"Iris-setosa\", \"Iris-setosa\", \"Iris-setosa\", \"Iris-setosa\", \"Iris-setosa\", \"Iris-setosa\", \"Iris-setosa\", \"Iris-setosa\", \"Iris-setosa\"  …  \"Iris-virginica\", \"Iris-virginica\", \"Iris-virginica\", \"Iris-virginica\", \"Iris-virginica\", \"Iris-virginica\", \"Iris-virginica\", \"Iris-virginica\", \"Iris-virginica\", \"Iris-virginica\"])"
     },
     "metadata": {},
     "execution_count": 11
    }
   ],
   "cell_type": "code",
   "source": [
    "Iris.download(i_accept_the_terms_of_use=true)\n",
    "features, labels = Iris.features(), Iris.labels()"
   ],
   "metadata": {},
   "execution_count": 11
  },
  {
   "cell_type": "markdown",
   "source": [
    "Because the MLDatasets package gives us Iris labels as strings, we will use the `MLDataUtils.convertlabel` method with the `MLLabelUtils.LabelEnc.Indices` type to get a list of integers representing each class:"
   ],
   "metadata": {}
  },
  {
   "outputs": [
    {
     "output_type": "execute_result",
     "data": {
      "text/plain": "3-element Array{Int64,1}:\n 1\n 2\n 3"
     },
     "metadata": {},
     "execution_count": 12
    }
   ],
   "cell_type": "code",
   "source": [
    "labels = convertlabel(LabelEnc.Indices{Int}, labels)\n",
    "unique(labels)"
   ],
   "metadata": {},
   "execution_count": 12
  },
  {
   "cell_type": "markdown",
   "source": [
    "Next, we will create a train/test split with the `MLDataUtils.stratifiedobs` utility:"
   ],
   "metadata": {}
  },
  {
   "outputs": [
    {
     "output_type": "execute_result",
     "data": {
      "text/plain": "(([5.1 6.9 … 5.6 4.9; 3.4 3.1 … 2.9 2.4; 1.5 5.4 … 3.6 3.3; 0.2 2.1 … 1.3 1.0], [1, 3, 2, 3, 2, 1, 2, 1, 1, 3  …  3, 1, 3, 2, 3, 3, 1, 1, 2, 2]), ([6.3 4.6 … 7.3 5.1; 2.3 3.2 … 2.9 3.8; 4.4 1.4 … 6.3 1.6; 1.3 0.2 … 1.8 0.2], [2, 1, 2, 3, 1, 1, 1, 1, 1, 2  …  3, 1, 3, 1, 1, 2, 2, 2, 3, 1]))"
     },
     "metadata": {},
     "execution_count": 13
    }
   ],
   "cell_type": "code",
   "source": [
    "(X_train, y_train), (X_test, y_test) = stratifiedobs((features, labels))"
   ],
   "metadata": {},
   "execution_count": 13
  },
  {
   "cell_type": "markdown",
   "source": [
    "Now we can create several FuzzyART modules with different options."
   ],
   "metadata": {}
  },
  {
   "outputs": [
    {
     "output_type": "execute_result",
     "data": {
      "text/plain": "FuzzyART(opts_FuzzyART\n  rho: Float64 0.7\n  alpha: Float64 0.001\n  beta: Float64 1.0\n  gamma: Float64 3.0\n  gamma_ref: Float64 1.0\n  display: Bool false\n  max_epochs: Int64 1\n  gamma_normalization: Bool false\n, DataConfig(false, Float64[], Float64[], 0, 0), 0.0, Int64[], Float64[], Float64[], Array{Float64}(undef,0,0), Int64[], 0, 0)"
     },
     "metadata": {},
     "execution_count": 14
    }
   ],
   "cell_type": "code",
   "source": [
    "# Create two FuzzyARTs with different vigilance values and suppressing logging messages\n",
    "rho_1 = 0.5\n",
    "rho_2 = 0.7\n",
    "my_fuzzyart_1 = FuzzyART(rho=rho_1, display=false)\n",
    "my_fuzzyart_2 = FuzzyART(rho=rho_2, display=false)"
   ],
   "metadata": {},
   "execution_count": 14
  },
  {
   "cell_type": "markdown",
   "source": [
    "Here, we will train these FuzzyART modules in simple supervised mode by passing the supervised labels as a keyword argument:"
   ],
   "metadata": {}
  },
  {
   "outputs": [],
   "cell_type": "code",
   "source": [
    "# Train in simple supervised mode by passing the labels as a keyword argument.\n",
    "y_hat_train_1 = train!(my_fuzzyart_1, X_train, y=y_train)\n",
    "y_hat_train_2 = train!(my_fuzzyart_2, X_train, y=y_train)"
   ],
   "metadata": {},
   "execution_count": 15
  },
  {
   "cell_type": "markdown",
   "source": [
    "We then classify the test data with both modules:"
   ],
   "metadata": {}
  },
  {
   "outputs": [
    {
     "name": "stdout",
     "output_type": "stream",
     "text": [
      "FuzzyART 1 labels: (45,) Array{Int64,1}\n",
      "FuzzyART 2 labels: (45,) Array{Int64,1}\n",
      "Testing performance rho=0.5: 0.9778\n",
      "Testing performance rho=0.7: 0.9111\n"
     ]
    }
   ],
   "cell_type": "code",
   "source": [
    "y_hat_1 = AdaptiveResonance.classify(my_fuzzyart_1, X_test, get_bmu=true)\n",
    "y_hat_2 = AdaptiveResonance.classify(my_fuzzyart_2, X_test, get_bmu=true)\n",
    "\n",
    "# Check the shape and type of the output labels\n",
    "println(\"FuzzyART 1 labels: \",  size(y_hat_1), \" \", typeof(y_hat_1))\n",
    "println(\"FuzzyART 2 labels: \",  size(y_hat_2), \" \", typeof(y_hat_2))\n",
    "\n",
    "# Calculate the performance on the test data\n",
    "perf_test_1 = performance(y_hat_1, y_test)\n",
    "perf_test_2 = performance(y_hat_2, y_test)\n",
    "\n",
    "# Format each performance number for comparison\n",
    "@printf \"Testing performance rho=%.1f: %.4f\\n\" rho_1 perf_test_1\n",
    "@printf \"Testing performance rho=%.1f: %.4f\\n\" rho_2 perf_test_2"
   ],
   "metadata": {},
   "execution_count": 16
  },
  {
   "cell_type": "markdown",
   "source": [
    "In addition to having different performances, we can see that there is a subsequent trade-off in the number of categories used:"
   ],
   "metadata": {}
  },
  {
   "outputs": [
    {
     "name": "stdout",
     "output_type": "stream",
     "text": [
      "Number of categories rho=0.5: 13\n",
      "Number of categories rho=0.7: 11\n"
     ]
    }
   ],
   "cell_type": "code",
   "source": [
    "# Print the number of categories for each vigilance parameter\n",
    "@printf \"Number of categories rho=%.1f: %i\\n\" rho_1 my_fuzzyart_1.n_categories\n",
    "@printf \"Number of categories rho=%.1f: %i\\n\" rho_2 my_fuzzyart_2.n_categories"
   ],
   "metadata": {},
   "execution_count": 17
  },
  {
   "cell_type": "markdown",
   "source": [
    "The variation between vigilance parameter, number of categories created during learning, and testing performance/generalization is a central theme in ART-based algorithms."
   ],
   "metadata": {}
  },
  {
   "cell_type": "markdown",
   "source": [
    "## Visualization"
   ],
   "metadata": {}
  },
  {
   "cell_type": "markdown",
   "source": [
    "Now, to visualize how the two models differ in how they partition the data, we can use principal component analysis (PCA) to compress to two plotting dimensions.\n",
    "PCA is a method to represent a dataset in a different number of dimensions while preserving the relative separation between datapoints.\n",
    "Though most datasets are not able to be effectively transformed down to two dimensions, this technique is useful to get a general sense of how well separated the classes are and how well your algorithm classifies them."
   ],
   "metadata": {}
  },
  {
   "outputs": [
    {
     "output_type": "execute_result",
     "data": {
      "text/plain": "2×45 Array{Float64,2}:\n -0.812868   2.84032   -0.297808  …  -0.0432464  -2.93201   2.53757\n -0.370679  -0.220576  -0.347017     -0.581489    0.352377  0.510368"
     },
     "metadata": {},
     "execution_count": 18
    }
   ],
   "cell_type": "code",
   "source": [
    "# Train a PCA model to visually separate the features in two dimensions.\n",
    "M = fit(PCA, features; maxoutdim=2)\n",
    "\n",
    "# Apply the PCA model to the testing set\n",
    "X_test_pca = transform(M, X_test)"
   ],
   "metadata": {},
   "execution_count": 18
  },
  {
   "cell_type": "markdown",
   "source": [
    "We can now plot the PCA'ed test set and label them according to the two FuzzyART's"
   ],
   "metadata": {}
  },
  {
   "outputs": [
    {
     "output_type": "execute_result",
     "data": {
      "text/plain": "Plot{Plots.GRBackend() n=6}",
      "image/png": "[encoded data removed]",
      "text/html": [
       "<?xml version=\"1.0\" encoding=\"utf-8\"?>\n",
       "<svg xmlns=\"http://www.w3.org/2000/svg\" xmlns:xlink=\"http://www.w3.org/1999/xlink\" width=\"600\" height=\"400\" viewBox=\"0 0 2400 1600\">\n",
       "<defs>\n",
       "  <clipPath id=\"clip130\">\n",
       "    <rect x=\"0\" y=\"0\" width=\"2400\" height=\"1600\"/>\n",
       "  </clipPath>\n",
       "</defs>\n",
       "<path clip-path=\"url(#clip130)\" d=\"\n",
       "M0 1600 L2400 1600 L2400 0 L0 0  Z\n",
       "  \" fill=\"#ffffff\" fill-rule=\"evenodd\" fill-opacity=\"1\"/>\n",
       "<defs>\n",
       "  <clipPath id=\"clip131\">\n",
       "    <rect x=\"480\" y=\"0\" width=\"1681\" height=\"1600\"/>\n",
       "  </clipPath>\n",
       "</defs>\n",
       "<path clip-path=\"url(#clip130)\" d=\"\n",
       "M86.9921 1521.01 L1152.76 1521.01 L1152.76 62.9921 L86.9921 62.9921  Z\n",
       "  \" fill=\"#ffffff\" fill-rule=\"evenodd\" fill-opacity=\"1\"/>\n",
       "<defs>\n",
       "  <clipPath id=\"clip132\">\n",
       "    <rect x=\"86\" y=\"62\" width=\"1067\" height=\"1459\"/>\n",
       "  </clipPath>\n",
       "</defs>\n",
       "<polyline clip-path=\"url(#clip132)\" style=\"stroke:#000000; stroke-width:2; stroke-opacity:0.1; fill:none\" points=\"\n",
       "  196.005,1521.01 196.005,62.9921 \n",
       "  \"/>\n",
       "<polyline clip-path=\"url(#clip132)\" style=\"stroke:#000000; stroke-width:2; stroke-opacity:0.1; fill:none\" points=\"\n",
       "  353.937,1521.01 353.937,62.9921 \n",
       "  \"/>\n",
       "<polyline clip-path=\"url(#clip132)\" style=\"stroke:#000000; stroke-width:2; stroke-opacity:0.1; fill:none\" points=\"\n",
       "  511.869,1521.01 511.869,62.9921 \n",
       "  \"/>\n",
       "<polyline clip-path=\"url(#clip132)\" style=\"stroke:#000000; stroke-width:2; stroke-opacity:0.1; fill:none\" points=\"\n",
       "  669.802,1521.01 669.802,62.9921 \n",
       "  \"/>\n",
       "<polyline clip-path=\"url(#clip132)\" style=\"stroke:#000000; stroke-width:2; stroke-opacity:0.1; fill:none\" points=\"\n",
       "  827.734,1521.01 827.734,62.9921 \n",
       "  \"/>\n",
       "<polyline clip-path=\"url(#clip132)\" style=\"stroke:#000000; stroke-width:2; stroke-opacity:0.1; fill:none\" points=\"\n",
       "  985.666,1521.01 985.666,62.9921 \n",
       "  \"/>\n",
       "<polyline clip-path=\"url(#clip132)\" style=\"stroke:#000000; stroke-width:2; stroke-opacity:0.1; fill:none\" points=\"\n",
       "  1143.6,1521.01 1143.6,62.9921 \n",
       "  \"/>\n",
       "<polyline clip-path=\"url(#clip130)\" style=\"stroke:#000000; stroke-width:4; stroke-opacity:1; fill:none\" points=\"\n",
       "  86.9921,1521.01 1152.76,1521.01 \n",
       "  \"/>\n",
       "<polyline clip-path=\"url(#clip130)\" style=\"stroke:#000000; stroke-width:4; stroke-opacity:1; fill:none\" points=\"\n",
       "  196.005,1521.01 196.005,1503.51 \n",
       "  \"/>\n",
       "<polyline clip-path=\"url(#clip130)\" style=\"stroke:#000000; stroke-width:4; stroke-opacity:1; fill:none\" points=\"\n",
       "  353.937,1521.01 353.937,1503.51 \n",
       "  \"/>\n",
       "<polyline clip-path=\"url(#clip130)\" style=\"stroke:#000000; stroke-width:4; stroke-opacity:1; fill:none\" points=\"\n",
       "  511.869,1521.01 511.869,1503.51 \n",
       "  \"/>\n",
       "<polyline clip-path=\"url(#clip130)\" style=\"stroke:#000000; stroke-width:4; stroke-opacity:1; fill:none\" points=\"\n",
       "  669.802,1521.01 669.802,1503.51 \n",
       "  \"/>\n",
       "<polyline clip-path=\"url(#clip130)\" style=\"stroke:#000000; stroke-width:4; stroke-opacity:1; fill:none\" points=\"\n",
       "  827.734,1521.01 827.734,1503.51 \n",
       "  \"/>\n",
       "<polyline clip-path=\"url(#clip130)\" style=\"stroke:#000000; stroke-width:4; stroke-opacity:1; fill:none\" points=\"\n",
       "  985.666,1521.01 985.666,1503.51 \n",
       "  \"/>\n",
       "<polyline clip-path=\"url(#clip130)\" style=\"stroke:#000000; stroke-width:4; stroke-opacity:1; fill:none\" points=\"\n",
       "  1143.6,1521.01 1143.6,1503.51 \n",
       "  \"/>\n",
       "<path clip-path=\"url(#clip130)\" d=\"M 0 0 M174.99 1558.69 L197.247 1558.69 L197.247 1561.64 L174.99 1561.64 L174.99 1558.69 Z\" fill=\"#000000\" fill-rule=\"evenodd\" fill-opacity=\"1\" /><path clip-path=\"url(#clip130)\" d=\"M 0 0 M211.674 1557.34 Q214.191 1557.87 215.597 1559.58 Q217.021 1561.28 217.021 1563.78 Q217.021 1567.61 214.382 1569.71 Q211.743 1571.82 206.882 1571.82 Q205.25 1571.82 203.514 1571.49 Q201.795 1571.17 199.955 1570.53 L199.955 1567.15 Q201.413 1568 203.149 1568.43 Q204.885 1568.86 206.778 1568.86 Q210.076 1568.86 211.795 1567.56 Q213.531 1566.26 213.531 1563.78 Q213.531 1561.49 211.917 1560.2 Q210.319 1558.9 207.455 1558.9 L204.434 1558.9 L204.434 1556.02 L207.594 1556.02 Q210.181 1556.02 211.552 1554.99 Q212.924 1553.95 212.924 1552.01 Q212.924 1550.01 211.5 1548.95 Q210.094 1547.87 207.455 1547.87 Q206.014 1547.87 204.365 1548.19 Q202.715 1548.5 200.736 1549.16 L200.736 1546.03 Q202.733 1545.48 204.469 1545.2 Q206.222 1544.92 207.767 1544.92 Q211.76 1544.92 214.087 1546.75 Q216.413 1548.55 216.413 1551.64 Q216.413 1553.79 215.181 1555.29 Q213.948 1556.76 211.674 1557.34 Z\" fill=\"#000000\" fill-rule=\"evenodd\" fill-opacity=\"1\" /><path clip-path=\"url(#clip130)\" d=\"M 0 0 M333.278 1558.69 L355.535 1558.69 L355.535 1561.64 L333.278 1561.64 L333.278 1558.69 Z\" fill=\"#000000\" fill-rule=\"evenodd\" fill-opacity=\"1\" /><path clip-path=\"url(#clip130)\" d=\"M 0 0 M362.357 1568.36 L374.597 1568.36 L374.597 1571.31 L358.139 1571.31 L358.139 1568.36 Q360.135 1566.29 363.573 1562.82 Q367.028 1559.33 367.913 1558.33 Q369.597 1556.43 370.257 1555.13 Q370.934 1553.81 370.934 1552.54 Q370.934 1550.48 369.475 1549.18 Q368.035 1547.87 365.708 1547.87 Q364.059 1547.87 362.219 1548.45 Q360.396 1549.02 358.312 1550.18 L358.312 1546.64 Q360.43 1545.79 362.271 1545.36 Q364.111 1544.92 365.639 1544.92 Q369.666 1544.92 372.062 1546.94 Q374.458 1548.95 374.458 1552.32 Q374.458 1553.92 373.85 1555.36 Q373.26 1556.78 371.68 1558.73 Q371.246 1559.23 368.92 1561.64 Q366.594 1564.04 362.357 1568.36 Z\" fill=\"#000000\" fill-rule=\"evenodd\" fill-opacity=\"1\" /><path clip-path=\"url(#clip130)\" d=\"M 0 0 M491.071 1558.69 L513.328 1558.69 L513.328 1561.64 L491.071 1561.64 L491.071 1558.69 Z\" fill=\"#000000\" fill-rule=\"evenodd\" fill-opacity=\"1\" /><path clip-path=\"url(#clip130)\" d=\"M 0 0 M517.737 1568.36 L523.467 1568.36 L523.467 1548.59 L517.234 1549.84 L517.234 1546.64 L523.432 1545.39 L526.939 1545.39 L526.939 1568.36 L532.668 1568.36 L532.668 1571.31 L517.737 1571.31 L517.737 1568.36 Z\" fill=\"#000000\" fill-rule=\"evenodd\" fill-opacity=\"1\" /><path clip-path=\"url(#clip130)\" d=\"M 0 0 M669.802 1547.7 Q667.093 1547.7 665.722 1550.37 Q664.368 1553.03 664.368 1558.38 Q664.368 1563.71 665.722 1566.38 Q667.093 1569.04 669.802 1569.04 Q672.527 1569.04 673.881 1566.38 Q675.253 1563.71 675.253 1558.38 Q675.253 1553.03 673.881 1550.37 Q672.527 1547.7 669.802 1547.7 M669.802 1544.92 Q674.159 1544.92 676.451 1548.38 Q678.76 1551.82 678.76 1558.38 Q678.76 1564.92 676.451 1568.38 Q674.159 1571.82 669.802 1571.82 Q665.444 1571.82 663.135 1568.38 Q660.843 1564.92 660.843 1558.38 Q660.843 1551.82 663.135 1548.38 Q665.444 1544.92 669.802 1544.92 Z\" fill=\"#000000\" fill-rule=\"evenodd\" fill-opacity=\"1\" /><path clip-path=\"url(#clip130)\" d=\"M 0 0 M820.52 1568.36 L826.249 1568.36 L826.249 1548.59 L820.017 1549.84 L820.017 1546.64 L826.215 1545.39 L829.721 1545.39 L829.721 1568.36 L835.451 1568.36 L835.451 1571.31 L820.52 1571.31 L820.52 1568.36 Z\" fill=\"#000000\" fill-rule=\"evenodd\" fill-opacity=\"1\" /><path clip-path=\"url(#clip130)\" d=\"M 0 0 M981.655 1568.36 L993.895 1568.36 L993.895 1571.31 L977.437 1571.31 L977.437 1568.36 Q979.433 1566.29 982.871 1562.82 Q986.325 1559.33 987.211 1558.33 Q988.895 1556.43 989.555 1555.13 Q990.232 1553.81 990.232 1552.54 Q990.232 1550.48 988.773 1549.18 Q987.332 1547.87 985.006 1547.87 Q983.357 1547.87 981.516 1548.45 Q979.693 1549.02 977.61 1550.18 L977.61 1546.64 Q979.728 1545.79 981.568 1545.36 Q983.409 1544.92 984.937 1544.92 Q988.964 1544.92 991.36 1546.94 Q993.756 1548.95 993.756 1552.32 Q993.756 1553.92 993.148 1555.36 Q992.558 1556.78 990.978 1558.73 Q990.544 1559.23 988.218 1561.64 Q985.891 1564.04 981.655 1568.36 Z\" fill=\"#000000\" fill-rule=\"evenodd\" fill-opacity=\"1\" /><path clip-path=\"url(#clip130)\" d=\"M 0 0 M1146.78 1557.34 Q1149.3 1557.87 1150.71 1559.58 Q1152.13 1561.28 1152.13 1563.78 Q1152.13 1567.61 1149.49 1569.71 Q1146.85 1571.82 1141.99 1571.82 Q1140.36 1571.82 1138.62 1571.49 Q1136.91 1571.17 1135.06 1570.53 L1135.06 1567.15 Q1136.52 1568 1138.26 1568.43 Q1140 1568.86 1141.89 1568.86 Q1145.19 1568.86 1146.91 1567.56 Q1148.64 1566.26 1148.64 1563.78 Q1148.64 1561.49 1147.03 1560.2 Q1145.43 1558.9 1142.56 1558.9 L1139.54 1558.9 L1139.54 1556.02 L1142.7 1556.02 Q1145.29 1556.02 1146.66 1554.99 Q1148.03 1553.95 1148.03 1552.01 Q1148.03 1550.01 1146.61 1548.95 Q1145.2 1547.87 1142.56 1547.87 Q1141.12 1547.87 1139.47 1548.19 Q1137.83 1548.5 1135.85 1549.16 L1135.85 1546.03 Q1137.84 1545.48 1139.58 1545.2 Q1141.33 1544.92 1142.88 1544.92 Q1146.87 1544.92 1149.2 1546.75 Q1151.52 1548.55 1151.52 1551.64 Q1151.52 1553.79 1150.29 1555.29 Q1149.06 1556.76 1146.78 1557.34 Z\" fill=\"#000000\" fill-rule=\"evenodd\" fill-opacity=\"1\" /><polyline clip-path=\"url(#clip132)\" style=\"stroke:#000000; stroke-width:2; stroke-opacity:0.1; fill:none\" points=\"\n",
       "  86.9921,1377.01 1152.76,1377.01 \n",
       "  \"/>\n",
       "<polyline clip-path=\"url(#clip132)\" style=\"stroke:#000000; stroke-width:2; stroke-opacity:0.1; fill:none\" points=\"\n",
       "  86.9921,1108.55 1152.76,1108.55 \n",
       "  \"/>\n",
       "<polyline clip-path=\"url(#clip132)\" style=\"stroke:#000000; stroke-width:2; stroke-opacity:0.1; fill:none\" points=\"\n",
       "  86.9921,840.099 1152.76,840.099 \n",
       "  \"/>\n",
       "<polyline clip-path=\"url(#clip132)\" style=\"stroke:#000000; stroke-width:2; stroke-opacity:0.1; fill:none\" points=\"\n",
       "  86.9921,571.646 1152.76,571.646 \n",
       "  \"/>\n",
       "<polyline clip-path=\"url(#clip132)\" style=\"stroke:#000000; stroke-width:2; stroke-opacity:0.1; fill:none\" points=\"\n",
       "  86.9921,303.193 1152.76,303.193 \n",
       "  \"/>\n",
       "<polyline clip-path=\"url(#clip130)\" style=\"stroke:#000000; stroke-width:4; stroke-opacity:1; fill:none\" points=\"\n",
       "  86.9921,1521.01 86.9921,62.9921 \n",
       "  \"/>\n",
       "<polyline clip-path=\"url(#clip130)\" style=\"stroke:#000000; stroke-width:4; stroke-opacity:1; fill:none\" points=\"\n",
       "  86.9921,1377.01 99.7813,1377.01 \n",
       "  \"/>\n",
       "<polyline clip-path=\"url(#clip130)\" style=\"stroke:#000000; stroke-width:4; stroke-opacity:1; fill:none\" points=\"\n",
       "  86.9921,1108.55 99.7813,1108.55 \n",
       "  \"/>\n",
       "<polyline clip-path=\"url(#clip130)\" style=\"stroke:#000000; stroke-width:4; stroke-opacity:1; fill:none\" points=\"\n",
       "  86.9921,840.099 99.7813,840.099 \n",
       "  \"/>\n",
       "<polyline clip-path=\"url(#clip130)\" style=\"stroke:#000000; stroke-width:4; stroke-opacity:1; fill:none\" points=\"\n",
       "  86.9921,571.646 99.7813,571.646 \n",
       "  \"/>\n",
       "<polyline clip-path=\"url(#clip130)\" style=\"stroke:#000000; stroke-width:4; stroke-opacity:1; fill:none\" points=\"\n",
       "  86.9921,303.193 99.7813,303.193 \n",
       "  \"/>\n",
       "<path clip-path=\"url(#clip130)\" d=\"M 0 0 M-41.4379 1377.46 L-11.7622 1377.46 L-11.7622 1381.39 L-41.4379 1381.39 L-41.4379 1377.46 Z\" fill=\"#000000\" fill-rule=\"evenodd\" fill-opacity=\"1\" /><path clip-path=\"url(#clip130)\" d=\"M 0 0 M-5.88257 1390.35 L1.75628 1390.35 L1.75628 1363.98 L-6.55386 1365.65 L-6.55386 1361.39 L1.70998 1359.73 L6.38588 1359.73 L6.38588 1390.35 L14.0247 1390.35 L14.0247 1394.29 L-5.88257 1394.29 L-5.88257 1390.35 Z\" fill=\"#000000\" fill-rule=\"evenodd\" fill-opacity=\"1\" /><path clip-path=\"url(#clip130)\" d=\"M 0 0 M19.0941 1388.41 L23.9784 1388.41 L23.9784 1394.29 L19.0941 1394.29 L19.0941 1388.41 Z\" fill=\"#000000\" fill-rule=\"evenodd\" fill-opacity=\"1\" /><path clip-path=\"url(#clip130)\" d=\"M 0 0 M39.0477 1362.8 Q35.4367 1362.8 33.608 1366.37 Q31.8024 1369.91 31.8024 1377.04 Q31.8024 1384.15 33.608 1387.71 Q35.4367 1391.25 39.0477 1391.25 Q42.682 1391.25 44.4875 1387.71 Q46.3162 1384.15 46.3162 1377.04 Q46.3162 1369.91 44.4875 1366.37 Q42.682 1362.8 39.0477 1362.8 M39.0477 1359.1 Q44.8579 1359.1 47.9134 1363.71 Q50.9921 1368.29 50.9921 1377.04 Q50.9921 1385.77 47.9134 1390.37 Q44.8579 1394.96 39.0477 1394.96 Q33.2376 1394.96 30.1589 1390.37 Q27.1034 1385.77 27.1034 1377.04 Q27.1034 1368.29 30.1589 1363.71 Q33.2376 1359.1 39.0477 1359.1 Z\" fill=\"#000000\" fill-rule=\"evenodd\" fill-opacity=\"1\" /><path clip-path=\"url(#clip130)\" d=\"M 0 0 M-41.6694 1109 L-11.9936 1109 L-11.9936 1112.94 L-41.6694 1112.94 L-41.6694 1109 Z\" fill=\"#000000\" fill-rule=\"evenodd\" fill-opacity=\"1\" /><path clip-path=\"url(#clip130)\" d=\"M 0 0 M3.07572 1094.35 Q-0.535376 1094.35 -2.36407 1097.92 Q-4.16962 1101.46 -4.16962 1108.59 Q-4.16962 1115.69 -2.36407 1119.26 Q-0.535376 1122.8 3.07572 1122.8 Q6.70996 1122.8 8.5155 1119.26 Q10.3442 1115.69 10.3442 1108.59 Q10.3442 1101.46 8.5155 1097.92 Q6.70996 1094.35 3.07572 1094.35 M3.07572 1090.65 Q8.88587 1090.65 11.9414 1095.25 Q15.0201 1099.84 15.0201 1108.59 Q15.0201 1117.31 11.9414 1121.92 Q8.88587 1126.5 3.07572 1126.5 Q-2.73444 1126.5 -5.81313 1121.92 Q-8.86866 1117.31 -8.86866 1108.59 Q-8.86866 1099.84 -5.81313 1095.25 Q-2.73444 1090.65 3.07572 1090.65 Z\" fill=\"#000000\" fill-rule=\"evenodd\" fill-opacity=\"1\" /><path clip-path=\"url(#clip130)\" d=\"M 0 0 M20.0895 1119.95 L24.9737 1119.95 L24.9737 1125.83 L20.0895 1125.83 L20.0895 1119.95 Z\" fill=\"#000000\" fill-rule=\"evenodd\" fill-opacity=\"1\" /><path clip-path=\"url(#clip130)\" d=\"M 0 0 M30.0895 1091.27 L48.4458 1091.27 L48.4458 1095.21 L34.3718 1095.21 L34.3718 1103.68 Q35.3904 1103.33 36.4089 1103.17 Q37.4274 1102.99 38.4459 1102.99 Q44.2329 1102.99 47.6125 1106.16 Q50.9921 1109.33 50.9921 1114.74 Q50.9921 1120.32 47.5199 1123.42 Q44.0477 1126.5 37.7283 1126.5 Q35.5524 1126.5 33.2839 1126.13 Q31.0385 1125.76 28.6311 1125.02 L28.6311 1120.32 Q30.7145 1121.46 32.9367 1122.01 Q35.1589 1122.57 37.6357 1122.57 Q41.6403 1122.57 43.9783 1120.46 Q46.3162 1118.36 46.3162 1114.74 Q46.3162 1111.13 43.9783 1109.03 Q41.6403 1106.92 37.6357 1106.92 Q35.7607 1106.92 33.8857 1107.34 Q32.0339 1107.75 30.0895 1108.63 L30.0895 1091.27 Z\" fill=\"#000000\" fill-rule=\"evenodd\" fill-opacity=\"1\" /><path clip-path=\"url(#clip130)\" d=\"M 0 0 M2.08035 825.898 Q-1.53074 825.898 -3.35943 829.463 Q-5.16498 833.004 -5.16498 840.134 Q-5.16498 847.241 -3.35943 850.805 Q-1.53074 854.347 2.08035 854.347 Q5.71459 854.347 7.52014 850.805 Q9.34883 847.241 9.34883 840.134 Q9.34883 833.004 7.52014 829.463 Q5.71459 825.898 2.08035 825.898 M2.08035 822.194 Q7.89051 822.194 10.946 826.801 Q14.0247 831.384 14.0247 840.134 Q14.0247 848.861 10.946 853.467 Q7.89051 858.051 2.08035 858.051 Q-3.7298 858.051 -6.80849 853.467 Q-9.86403 848.861 -9.86403 840.134 Q-9.86403 831.384 -6.80849 826.801 Q-3.7298 822.194 2.08035 822.194 Z\" fill=\"#000000\" fill-rule=\"evenodd\" fill-opacity=\"1\" /><path clip-path=\"url(#clip130)\" d=\"M 0 0 M19.0941 851.5 L23.9784 851.5 L23.9784 857.379 L19.0941 857.379 L19.0941 851.5 Z\" fill=\"#000000\" fill-rule=\"evenodd\" fill-opacity=\"1\" /><path clip-path=\"url(#clip130)\" d=\"M 0 0 M39.0477 825.898 Q35.4367 825.898 33.608 829.463 Q31.8024 833.004 31.8024 840.134 Q31.8024 847.241 33.608 850.805 Q35.4367 854.347 39.0477 854.347 Q42.682 854.347 44.4875 850.805 Q46.3162 847.241 46.3162 840.134 Q46.3162 833.004 44.4875 829.463 Q42.682 825.898 39.0477 825.898 M39.0477 822.194 Q44.8579 822.194 47.9134 826.801 Q50.9921 831.384 50.9921 840.134 Q50.9921 848.861 47.9134 853.467 Q44.8579 858.051 39.0477 858.051 Q33.2376 858.051 30.1589 853.467 Q27.1034 848.861 27.1034 840.134 Q27.1034 831.384 30.1589 826.801 Q33.2376 822.194 39.0477 822.194 Z\" fill=\"#000000\" fill-rule=\"evenodd\" fill-opacity=\"1\" /><path clip-path=\"url(#clip130)\" d=\"M 0 0 M3.07572 557.445 Q-0.535376 557.445 -2.36407 561.01 Q-4.16962 564.551 -4.16962 571.681 Q-4.16962 578.788 -2.36407 582.352 Q-0.535376 585.894 3.07572 585.894 Q6.70996 585.894 8.5155 582.352 Q10.3442 578.788 10.3442 571.681 Q10.3442 564.551 8.5155 561.01 Q6.70996 557.445 3.07572 557.445 M3.07572 553.741 Q8.88587 553.741 11.9414 558.348 Q15.0201 562.931 15.0201 571.681 Q15.0201 580.408 11.9414 585.014 Q8.88587 589.598 3.07572 589.598 Q-2.73444 589.598 -5.81313 585.014 Q-8.86866 580.408 -8.86866 571.681 Q-8.86866 562.931 -5.81313 558.348 Q-2.73444 553.741 3.07572 553.741 Z\" fill=\"#000000\" fill-rule=\"evenodd\" fill-opacity=\"1\" /><path clip-path=\"url(#clip130)\" d=\"M 0 0 M20.0895 583.047 L24.9737 583.047 L24.9737 588.926 L20.0895 588.926 L20.0895 583.047 Z\" fill=\"#000000\" fill-rule=\"evenodd\" fill-opacity=\"1\" /><path clip-path=\"url(#clip130)\" d=\"M 0 0 M30.0895 554.366 L48.4458 554.366 L48.4458 558.302 L34.3718 558.302 L34.3718 566.774 Q35.3904 566.426 36.4089 566.264 Q37.4274 566.079 38.4459 566.079 Q44.2329 566.079 47.6125 569.251 Q50.9921 572.422 50.9921 577.838 Q50.9921 583.417 47.5199 586.519 Q44.0477 589.598 37.7283 589.598 Q35.5524 589.598 33.2839 589.227 Q31.0385 588.857 28.6311 588.116 L28.6311 583.417 Q30.7145 584.551 32.9367 585.107 Q35.1589 585.662 37.6357 585.662 Q41.6403 585.662 43.9783 583.556 Q46.3162 581.45 46.3162 577.838 Q46.3162 574.227 43.9783 572.121 Q41.6403 570.014 37.6357 570.014 Q35.7607 570.014 33.8857 570.431 Q32.0339 570.848 30.0895 571.727 L30.0895 554.366 Z\" fill=\"#000000\" fill-rule=\"evenodd\" fill-opacity=\"1\" /><path clip-path=\"url(#clip130)\" d=\"M 0 0 M-5.88257 316.538 L1.75628 316.538 L1.75628 290.173 L-6.55386 291.839 L-6.55386 287.58 L1.70998 285.913 L6.38588 285.913 L6.38588 316.538 L14.0247 316.538 L14.0247 320.473 L-5.88257 320.473 L-5.88257 316.538 Z\" fill=\"#000000\" fill-rule=\"evenodd\" fill-opacity=\"1\" /><path clip-path=\"url(#clip130)\" d=\"M 0 0 M19.0941 314.594 L23.9784 314.594 L23.9784 320.473 L19.0941 320.473 L19.0941 314.594 Z\" fill=\"#000000\" fill-rule=\"evenodd\" fill-opacity=\"1\" /><path clip-path=\"url(#clip130)\" d=\"M 0 0 M39.0477 288.992 Q35.4367 288.992 33.608 292.557 Q31.8024 296.098 31.8024 303.228 Q31.8024 310.334 33.608 313.899 Q35.4367 317.441 39.0477 317.441 Q42.682 317.441 44.4875 313.899 Q46.3162 310.334 46.3162 303.228 Q46.3162 296.098 44.4875 292.557 Q42.682 288.992 39.0477 288.992 M39.0477 285.288 Q44.8579 285.288 47.9134 289.895 Q50.9921 294.478 50.9921 303.228 Q50.9921 311.955 47.9134 316.561 Q44.8579 321.145 39.0477 321.145 Q33.2376 321.145 30.1589 316.561 Q27.1034 311.955 27.1034 303.228 Q27.1034 294.478 30.1589 289.895 Q33.2376 285.288 39.0477 285.288 Z\" fill=\"#000000\" fill-rule=\"evenodd\" fill-opacity=\"1\" /><path clip-path=\"url(#clip130)\" d=\"M 0 0 M410.581 6.912 L430.442 6.912 L430.442 10.8472 L415.257 10.8472 L415.257 21.0323 L428.961 21.0323 L428.961 24.9675 L415.257 24.9675 L415.257 41.472 L410.581 41.472 L410.581 6.912 Z\" fill=\"#000000\" fill-rule=\"evenodd\" fill-opacity=\"1\" /><path clip-path=\"url(#clip130)\" d=\"M 0 0 M431.877 31.2406 L431.877 15.5462 L436.137 15.5462 L436.137 31.0785 Q436.137 34.7591 437.572 36.6109 Q439.007 38.4396 441.877 38.4396 Q445.326 38.4396 447.317 36.2405 Q449.331 34.0415 449.331 30.2452 L449.331 15.5462 L453.59 15.5462 L453.59 41.472 L449.331 41.472 L449.331 37.4905 Q447.78 39.8516 445.72 41.009 Q443.683 42.1433 440.975 42.1433 Q436.507 42.1433 434.192 39.3655 Q431.877 36.5878 431.877 31.2406 M442.595 14.9212 L442.595 14.9212 Z\" fill=\"#000000\" fill-rule=\"evenodd\" fill-opacity=\"1\" /><path clip-path=\"url(#clip130)\" d=\"M 0 0 M456.206 15.5462 L476.437 15.5462 L476.437 19.4351 L460.419 38.0692 L476.437 38.0692 L476.437 41.472 L455.627 41.472 L455.627 37.5831 L471.646 18.949 L456.206 18.949 L456.206 15.5462 Z\" fill=\"#000000\" fill-rule=\"evenodd\" fill-opacity=\"1\" /><path clip-path=\"url(#clip130)\" d=\"M 0 0 M479.053 15.5462 L499.284 15.5462 L499.284 19.4351 L483.266 38.0692 L499.284 38.0692 L499.284 41.472 L478.474 41.472 L478.474 37.5831 L494.493 18.949 L479.053 18.949 L479.053 15.5462 Z\" fill=\"#000000\" fill-rule=\"evenodd\" fill-opacity=\"1\" /><path clip-path=\"url(#clip130)\" d=\"M 0 0 M514.539 43.8794 Q512.733 48.509 511.02 49.921 Q509.307 51.3331 506.437 51.3331 L503.034 51.3331 L503.034 47.7683 L505.534 47.7683 Q507.294 47.7683 508.266 46.9349 Q509.238 46.1016 510.419 42.9998 L511.182 41.0553 L500.696 15.5462 L505.21 15.5462 L513.312 35.8239 L521.414 15.5462 L525.928 15.5462 L514.539 43.8794 Z\" fill=\"#000000\" fill-rule=\"evenodd\" fill-opacity=\"1\" /><path clip-path=\"url(#clip130)\" d=\"M 0 0 M542.131 11.5185 L535.789 28.7174 L548.497 28.7174 L542.131 11.5185 M539.493 6.912 L544.793 6.912 L557.965 41.472 L553.104 41.472 L549.955 32.6063 L534.377 32.6063 L531.229 41.472 L526.298 41.472 L539.493 6.912 Z\" fill=\"#000000\" fill-rule=\"evenodd\" fill-opacity=\"1\" /><path clip-path=\"url(#clip130)\" d=\"M 0 0 M579.006 25.2684 Q580.511 25.7776 581.923 27.4443 Q583.358 29.111 584.793 32.0276 L589.539 41.472 L584.515 41.472 L580.094 32.6063 Q578.381 29.1341 576.761 27.9998 Q575.164 26.8656 572.386 26.8656 L567.293 26.8656 L567.293 41.472 L562.617 41.472 L562.617 6.912 L573.173 6.912 Q579.099 6.912 582.015 9.38884 Q584.932 11.8657 584.932 16.8657 Q584.932 20.1295 583.404 22.2823 Q581.9 24.4351 579.006 25.2684 M567.293 10.7546 L567.293 23.023 L573.173 23.023 Q576.552 23.023 578.265 21.4721 Q580.002 19.898 580.002 16.8657 Q580.002 13.8333 578.265 12.3055 Q576.552 10.7546 573.173 10.7546 L567.293 10.7546 Z\" fill=\"#000000\" fill-rule=\"evenodd\" fill-opacity=\"1\" /><path clip-path=\"url(#clip130)\" d=\"M 0 0 M585.951 6.912 L615.187 6.912 L615.187 10.8472 L602.918 10.8472 L602.918 41.472 L598.219 41.472 L598.219 10.8472 L585.951 10.8472 L585.951 6.912 Z\" fill=\"#000000\" fill-rule=\"evenodd\" fill-opacity=\"1\" /><path clip-path=\"url(#clip130)\" d=\"M 0 0 M649.747 19.5277 Q649.029 19.111 648.172 18.9258 Q647.339 18.7175 646.321 18.7175 Q642.71 18.7175 640.765 21.0786 Q638.844 23.4165 638.844 27.8147 L638.844 41.472 L634.561 41.472 L634.561 15.5462 L638.844 15.5462 L638.844 19.574 Q640.186 17.2129 642.339 16.0786 Q644.492 14.9212 647.571 14.9212 Q648.01 14.9212 648.543 14.9907 Q649.075 15.037 649.723 15.1527 L649.747 19.5277 Z\" fill=\"#000000\" fill-rule=\"evenodd\" fill-opacity=\"1\" /><path clip-path=\"url(#clip130)\" d=\"M 0 0 M674.932 25.8239 L674.932 41.472 L670.672 41.472 L670.672 25.9628 Q670.672 22.2823 669.237 20.4536 Q667.802 18.6249 664.932 18.6249 Q661.483 18.6249 659.492 20.824 Q657.501 23.023 657.501 26.8193 L657.501 41.472 L653.219 41.472 L653.219 5.45367 L657.501 5.45367 L657.501 19.574 Q659.029 17.236 661.089 16.0786 Q663.172 14.9212 665.881 14.9212 Q670.348 14.9212 672.64 17.699 Q674.932 20.4536 674.932 25.8239 Z\" fill=\"#000000\" fill-rule=\"evenodd\" fill-opacity=\"1\" /><path clip-path=\"url(#clip130)\" d=\"M 0 0 M689.445 18.5323 Q686.019 18.5323 684.029 21.2175 Q682.038 23.8795 682.038 28.5323 Q682.038 33.185 684.006 35.8702 Q685.996 38.5322 689.445 38.5322 Q692.848 38.5322 694.839 35.847 Q696.83 33.1619 696.83 28.5323 Q696.83 23.9258 694.839 21.2406 Q692.848 18.5323 689.445 18.5323 M689.445 14.9212 Q695.001 14.9212 698.172 18.5323 Q701.343 22.1434 701.343 28.5323 Q701.343 34.898 698.172 38.5322 Q695.001 42.1433 689.445 42.1433 Q683.867 42.1433 680.695 38.5322 Q677.547 34.898 677.547 28.5323 Q677.547 22.1434 680.695 18.5323 Q683.867 14.9212 689.445 14.9212 Z\" fill=\"#000000\" fill-rule=\"evenodd\" fill-opacity=\"1\" /><path clip-path=\"url(#clip130)\" d=\"M 0 0 M721.436 19.9443 L751.112 19.9443 L751.112 23.8332 L721.436 23.8332 L721.436 19.9443 M721.436 29.3887 L751.112 29.3887 L751.112 33.3239 L721.436 33.3239 L721.436 29.3887 Z\" fill=\"#000000\" fill-rule=\"evenodd\" fill-opacity=\"1\" /><path clip-path=\"url(#clip130)\" d=\"M 0 0 M781.25 9.99069 Q777.639 9.99069 775.811 13.5555 Q774.005 17.0971 774.005 24.2267 Q774.005 31.3332 775.811 34.898 Q777.639 38.4396 781.25 38.4396 Q784.885 38.4396 786.69 34.898 Q788.519 31.3332 788.519 24.2267 Q788.519 17.0971 786.69 13.5555 Q784.885 9.99069 781.25 9.99069 M781.25 6.287 Q787.061 6.287 790.116 10.8935 Q793.195 15.4768 793.195 24.2267 Q793.195 32.9535 790.116 37.56 Q787.061 42.1433 781.25 42.1433 Q775.44 42.1433 772.362 37.56 Q769.306 32.9535 769.306 24.2267 Q769.306 15.4768 772.362 10.8935 Q775.44 6.287 781.25 6.287 Z\" fill=\"#000000\" fill-rule=\"evenodd\" fill-opacity=\"1\" /><path clip-path=\"url(#clip130)\" d=\"M 0 0 M798.264 35.5924 L803.148 35.5924 L803.148 41.472 L798.264 41.472 L798.264 35.5924 Z\" fill=\"#000000\" fill-rule=\"evenodd\" fill-opacity=\"1\" /><path clip-path=\"url(#clip130)\" d=\"M 0 0 M808.264 6.912 L826.621 6.912 L826.621 10.8472 L812.547 10.8472 L812.547 19.3193 Q813.565 18.9721 814.584 18.8101 Q815.602 18.6249 816.621 18.6249 Q822.408 18.6249 825.787 21.7962 Q829.167 24.9675 829.167 30.3841 Q829.167 35.9628 825.695 39.0646 Q822.222 42.1433 815.903 42.1433 Q813.727 42.1433 811.459 41.7729 Q809.213 41.4026 806.806 40.6618 L806.806 35.9628 Q808.889 37.097 811.111 37.6526 Q813.334 38.2081 815.81 38.2081 Q819.815 38.2081 822.153 36.1017 Q824.491 33.9952 824.491 30.3841 Q824.491 26.773 822.153 24.6665 Q819.815 22.5601 815.81 22.5601 Q813.935 22.5601 812.06 22.9767 Q810.209 23.3934 808.264 24.273 L808.264 6.912 Z\" fill=\"#000000\" fill-rule=\"evenodd\" fill-opacity=\"1\" /><circle clip-path=\"url(#clip132)\" cx=\"1118.38\" cy=\"958.528\" r=\"14\" fill=\"#009af9\" fill-rule=\"evenodd\" fill-opacity=\"1\" stroke=\"#000000\" stroke-opacity=\"1\" stroke-width=\"3.2\"/>\n",
       "<circle clip-path=\"url(#clip132)\" cx=\"1122.59\" cy=\"798.654\" r=\"14\" fill=\"#009af9\" fill-rule=\"evenodd\" fill-opacity=\"1\" stroke=\"#000000\" stroke-opacity=\"1\" stroke-width=\"3.2\"/>\n",
       "<circle clip-path=\"url(#clip132)\" cx=\"1078.43\" cy=\"560.654\" r=\"14\" fill=\"#009af9\" fill-rule=\"evenodd\" fill-opacity=\"1\" stroke=\"#000000\" stroke-opacity=\"1\" stroke-width=\"3.2\"/>\n",
       "<circle clip-path=\"url(#clip132)\" cx=\"1083.98\" cy=\"400.862\" r=\"14\" fill=\"#009af9\" fill-rule=\"evenodd\" fill-opacity=\"1\" stroke=\"#000000\" stroke-opacity=\"1\" stroke-width=\"3.2\"/>\n",
       "<circle clip-path=\"url(#clip132)\" cx=\"1084.41\" cy=\"514.305\" r=\"14\" fill=\"#009af9\" fill-rule=\"evenodd\" fill-opacity=\"1\" stroke=\"#000000\" stroke-opacity=\"1\" stroke-width=\"3.2\"/>\n",
       "<circle clip-path=\"url(#clip132)\" cx=\"1049.71\" cy=\"734.91\" r=\"14\" fill=\"#009af9\" fill-rule=\"evenodd\" fill-opacity=\"1\" stroke=\"#000000\" stroke-opacity=\"1\" stroke-width=\"3.2\"/>\n",
       "<circle clip-path=\"url(#clip132)\" cx=\"1065.88\" cy=\"914.76\" r=\"14\" fill=\"#009af9\" fill-rule=\"evenodd\" fill-opacity=\"1\" stroke=\"#000000\" stroke-opacity=\"1\" stroke-width=\"3.2\"/>\n",
       "<circle clip-path=\"url(#clip132)\" cx=\"1065.66\" cy=\"490.072\" r=\"14\" fill=\"#009af9\" fill-rule=\"evenodd\" fill-opacity=\"1\" stroke=\"#000000\" stroke-opacity=\"1\" stroke-width=\"3.2\"/>\n",
       "<circle clip-path=\"url(#clip132)\" cx=\"1088.06\" cy=\"668.753\" r=\"14\" fill=\"#009af9\" fill-rule=\"evenodd\" fill-opacity=\"1\" stroke=\"#000000\" stroke-opacity=\"1\" stroke-width=\"3.2\"/>\n",
       "<circle clip-path=\"url(#clip132)\" cx=\"1059.74\" cy=\"766.067\" r=\"14\" fill=\"#009af9\" fill-rule=\"evenodd\" fill-opacity=\"1\" stroke=\"#000000\" stroke-opacity=\"1\" stroke-width=\"3.2\"/>\n",
       "<circle clip-path=\"url(#clip132)\" cx=\"1092.09\" cy=\"897.383\" r=\"14\" fill=\"#009af9\" fill-rule=\"evenodd\" fill-opacity=\"1\" stroke=\"#000000\" stroke-opacity=\"1\" stroke-width=\"3.2\"/>\n",
       "<circle clip-path=\"url(#clip132)\" cx=\"1107.3\" cy=\"694.566\" r=\"14\" fill=\"#009af9\" fill-rule=\"evenodd\" fill-opacity=\"1\" stroke=\"#000000\" stroke-opacity=\"1\" stroke-width=\"3.2\"/>\n",
       "<circle clip-path=\"url(#clip132)\" cx=\"1029.87\" cy=\"438.61\" r=\"14\" fill=\"#009af9\" fill-rule=\"evenodd\" fill-opacity=\"1\" stroke=\"#000000\" stroke-opacity=\"1\" stroke-width=\"3.2\"/>\n",
       "<circle clip-path=\"url(#clip132)\" cx=\"1098.65\" cy=\"931.135\" r=\"14\" fill=\"#009af9\" fill-rule=\"evenodd\" fill-opacity=\"1\" stroke=\"#000000\" stroke-opacity=\"1\" stroke-width=\"3.2\"/>\n",
       "<circle clip-path=\"url(#clip132)\" cx=\"1070.57\" cy=\"566.08\" r=\"14\" fill=\"#009af9\" fill-rule=\"evenodd\" fill-opacity=\"1\" stroke=\"#000000\" stroke-opacity=\"1\" stroke-width=\"3.2\"/>\n",
       "<circle clip-path=\"url(#clip132)\" cx=\"541.424\" cy=\"1039.12\" r=\"14\" fill=\"#e26f46\" fill-rule=\"evenodd\" fill-opacity=\"1\" stroke=\"#000000\" stroke-opacity=\"1\" stroke-width=\"3.2\"/>\n",
       "<circle clip-path=\"url(#clip132)\" cx=\"622.768\" cy=\"1026.41\" r=\"14\" fill=\"#e26f46\" fill-rule=\"evenodd\" fill-opacity=\"1\" stroke=\"#000000\" stroke-opacity=\"1\" stroke-width=\"3.2\"/>\n",
       "<circle clip-path=\"url(#clip132)\" cx=\"641.221\" cy=\"1283.37\" r=\"14\" fill=\"#e26f46\" fill-rule=\"evenodd\" fill-opacity=\"1\" stroke=\"#000000\" stroke-opacity=\"1\" stroke-width=\"3.2\"/>\n",
       "<circle clip-path=\"url(#clip132)\" cx=\"465.048\" cy=\"1015.97\" r=\"14\" fill=\"#e26f46\" fill-rule=\"evenodd\" fill-opacity=\"1\" stroke=\"#000000\" stroke-opacity=\"1\" stroke-width=\"3.2\"/>\n",
       "<circle clip-path=\"url(#clip132)\" cx=\"557.037\" cy=\"759.36\" r=\"14\" fill=\"#e26f46\" fill-rule=\"evenodd\" fill-opacity=\"1\" stroke=\"#000000\" stroke-opacity=\"1\" stroke-width=\"3.2\"/>\n",
       "<circle clip-path=\"url(#clip132)\" cx=\"520.972\" cy=\"1131.01\" r=\"14\" fill=\"#e26f46\" fill-rule=\"evenodd\" fill-opacity=\"1\" stroke=\"#000000\" stroke-opacity=\"1\" stroke-width=\"3.2\"/>\n",
       "<circle clip-path=\"url(#clip132)\" cx=\"466.891\" cy=\"472.083\" r=\"14\" fill=\"#e26f46\" fill-rule=\"evenodd\" fill-opacity=\"1\" stroke=\"#000000\" stroke-opacity=\"1\" stroke-width=\"3.2\"/>\n",
       "<circle clip-path=\"url(#clip132)\" cx=\"505.031\" cy=\"717.171\" r=\"14\" fill=\"#e26f46\" fill-rule=\"evenodd\" fill-opacity=\"1\" stroke=\"#000000\" stroke-opacity=\"1\" stroke-width=\"3.2\"/>\n",
       "<circle clip-path=\"url(#clip132)\" cx=\"781.472\" cy=\"1381.53\" r=\"14\" fill=\"#e26f46\" fill-rule=\"evenodd\" fill-opacity=\"1\" stroke=\"#000000\" stroke-opacity=\"1\" stroke-width=\"3.2\"/>\n",
       "<circle clip-path=\"url(#clip132)\" cx=\"438.579\" cy=\"569.397\" r=\"14\" fill=\"#e26f46\" fill-rule=\"evenodd\" fill-opacity=\"1\" stroke=\"#000000\" stroke-opacity=\"1\" stroke-width=\"3.2\"/>\n",
       "<circle clip-path=\"url(#clip132)\" cx=\"565.631\" cy=\"1029.08\" r=\"14\" fill=\"#e26f46\" fill-rule=\"evenodd\" fill-opacity=\"1\" stroke=\"#000000\" stroke-opacity=\"1\" stroke-width=\"3.2\"/>\n",
       "<circle clip-path=\"url(#clip132)\" cx=\"529.217\" cy=\"858.253\" r=\"14\" fill=\"#e26f46\" fill-rule=\"evenodd\" fill-opacity=\"1\" stroke=\"#000000\" stroke-opacity=\"1\" stroke-width=\"3.2\"/>\n",
       "<circle clip-path=\"url(#clip132)\" cx=\"587.774\" cy=\"1479.74\" r=\"14\" fill=\"#e26f46\" fill-rule=\"evenodd\" fill-opacity=\"1\" stroke=\"#000000\" stroke-opacity=\"1\" stroke-width=\"3.2\"/>\n",
       "<circle clip-path=\"url(#clip132)\" cx=\"633.654\" cy=\"1056.07\" r=\"14\" fill=\"#e26f46\" fill-rule=\"evenodd\" fill-opacity=\"1\" stroke=\"#000000\" stroke-opacity=\"1\" stroke-width=\"3.2\"/>\n",
       "<circle clip-path=\"url(#clip132)\" cx=\"493.511\" cy=\"885.314\" r=\"14\" fill=\"#e26f46\" fill-rule=\"evenodd\" fill-opacity=\"1\" stroke=\"#000000\" stroke-opacity=\"1\" stroke-width=\"3.2\"/>\n",
       "<circle clip-path=\"url(#clip132)\" cx=\"662.972\" cy=\"1152.3\" r=\"14\" fill=\"#e26f46\" fill-rule=\"evenodd\" fill-opacity=\"1\" stroke=\"#000000\" stroke-opacity=\"1\" stroke-width=\"3.2\"/>\n",
       "<circle clip-path=\"url(#clip132)\" cx=\"221.123\" cy=\"639.972\" r=\"14\" fill=\"#3da44d\" fill-rule=\"evenodd\" fill-opacity=\"1\" stroke=\"#000000\" stroke-opacity=\"1\" stroke-width=\"3.2\"/>\n",
       "<circle clip-path=\"url(#clip132)\" cx=\"366.185\" cy=\"620.359\" r=\"14\" fill=\"#3da44d\" fill-rule=\"evenodd\" fill-opacity=\"1\" stroke=\"#000000\" stroke-opacity=\"1\" stroke-width=\"3.2\"/>\n",
       "<circle clip-path=\"url(#clip132)\" cx=\"419.437\" cy=\"1129.66\" r=\"14\" fill=\"#3da44d\" fill-rule=\"evenodd\" fill-opacity=\"1\" stroke=\"#000000\" stroke-opacity=\"1\" stroke-width=\"3.2\"/>\n",
       "<circle clip-path=\"url(#clip132)\" cx=\"450.644\" cy=\"949.645\" r=\"14\" fill=\"#3da44d\" fill-rule=\"evenodd\" fill-opacity=\"1\" stroke=\"#000000\" stroke-opacity=\"1\" stroke-width=\"3.2\"/>\n",
       "<circle clip-path=\"url(#clip132)\" cx=\"304.299\" cy=\"742.056\" r=\"14\" fill=\"#3da44d\" fill-rule=\"evenodd\" fill-opacity=\"1\" stroke=\"#000000\" stroke-opacity=\"1\" stroke-width=\"3.2\"/>\n",
       "<circle clip-path=\"url(#clip132)\" cx=\"264.971\" cy=\"691.927\" r=\"14\" fill=\"#3da44d\" fill-rule=\"evenodd\" fill-opacity=\"1\" stroke=\"#000000\" stroke-opacity=\"1\" stroke-width=\"3.2\"/>\n",
       "<circle clip-path=\"url(#clip132)\" cx=\"446.474\" cy=\"1148.78\" r=\"14\" fill=\"#3da44d\" fill-rule=\"evenodd\" fill-opacity=\"1\" stroke=\"#000000\" stroke-opacity=\"1\" stroke-width=\"3.2\"/>\n",
       "<circle clip-path=\"url(#clip132)\" cx=\"465.963\" cy=\"902.609\" r=\"14\" fill=\"#3da44d\" fill-rule=\"evenodd\" fill-opacity=\"1\" stroke=\"#000000\" stroke-opacity=\"1\" stroke-width=\"3.2\"/>\n",
       "<circle clip-path=\"url(#clip132)\" cx=\"361.953\" cy=\"818.231\" r=\"14\" fill=\"#3da44d\" fill-rule=\"evenodd\" fill-opacity=\"1\" stroke=\"#000000\" stroke-opacity=\"1\" stroke-width=\"3.2\"/>\n",
       "<circle clip-path=\"url(#clip132)\" cx=\"117.155\" cy=\"594.855\" r=\"14\" fill=\"#3da44d\" fill-rule=\"evenodd\" fill-opacity=\"1\" stroke=\"#000000\" stroke-opacity=\"1\" stroke-width=\"3.2\"/>\n",
       "<circle clip-path=\"url(#clip132)\" cx=\"159.311\" cy=\"104.257\" r=\"14\" fill=\"#3da44d\" fill-rule=\"evenodd\" fill-opacity=\"1\" stroke=\"#000000\" stroke-opacity=\"1\" stroke-width=\"3.2\"/>\n",
       "<circle clip-path=\"url(#clip132)\" cx=\"292.729\" cy=\"591.77\" r=\"14\" fill=\"#3da44d\" fill-rule=\"evenodd\" fill-opacity=\"1\" stroke=\"#000000\" stroke-opacity=\"1\" stroke-width=\"3.2\"/>\n",
       "<circle clip-path=\"url(#clip132)\" cx=\"385.154\" cy=\"956.154\" r=\"14\" fill=\"#3da44d\" fill-rule=\"evenodd\" fill-opacity=\"1\" stroke=\"#000000\" stroke-opacity=\"1\" stroke-width=\"3.2\"/>\n",
       "<circle clip-path=\"url(#clip132)\" cx=\"206.744\" cy=\"650.906\" r=\"14\" fill=\"#3da44d\" fill-rule=\"evenodd\" fill-opacity=\"1\" stroke=\"#000000\" stroke-opacity=\"1\" stroke-width=\"3.2\"/>\n",
       "<path clip-path=\"url(#clip130)\" d=\"\n",
       "M1286.99 1521.01 L2352.76 1521.01 L2352.76 62.9921 L1286.99 62.9921  Z\n",
       "  \" fill=\"#ffffff\" fill-rule=\"evenodd\" fill-opacity=\"1\"/>\n",
       "<defs>\n",
       "  <clipPath id=\"clip133\">\n",
       "    <rect x=\"1286\" y=\"62\" width=\"1067\" height=\"1459\"/>\n",
       "  </clipPath>\n",
       "</defs>\n",
       "<polyline clip-path=\"url(#clip133)\" style=\"stroke:#000000; stroke-width:2; stroke-opacity:0.1; fill:none\" points=\"\n",
       "  1396.01,1521.01 1396.01,62.9921 \n",
       "  \"/>\n",
       "<polyline clip-path=\"url(#clip133)\" style=\"stroke:#000000; stroke-width:2; stroke-opacity:0.1; fill:none\" points=\"\n",
       "  1553.94,1521.01 1553.94,62.9921 \n",
       "  \"/>\n",
       "<polyline clip-path=\"url(#clip133)\" style=\"stroke:#000000; stroke-width:2; stroke-opacity:0.1; fill:none\" points=\"\n",
       "  1711.87,1521.01 1711.87,62.9921 \n",
       "  \"/>\n",
       "<polyline clip-path=\"url(#clip133)\" style=\"stroke:#000000; stroke-width:2; stroke-opacity:0.1; fill:none\" points=\"\n",
       "  1869.8,1521.01 1869.8,62.9921 \n",
       "  \"/>\n",
       "<polyline clip-path=\"url(#clip133)\" style=\"stroke:#000000; stroke-width:2; stroke-opacity:0.1; fill:none\" points=\"\n",
       "  2027.73,1521.01 2027.73,62.9921 \n",
       "  \"/>\n",
       "<polyline clip-path=\"url(#clip133)\" style=\"stroke:#000000; stroke-width:2; stroke-opacity:0.1; fill:none\" points=\"\n",
       "  2185.67,1521.01 2185.67,62.9921 \n",
       "  \"/>\n",
       "<polyline clip-path=\"url(#clip133)\" style=\"stroke:#000000; stroke-width:2; stroke-opacity:0.1; fill:none\" points=\"\n",
       "  2343.6,1521.01 2343.6,62.9921 \n",
       "  \"/>\n",
       "<polyline clip-path=\"url(#clip130)\" style=\"stroke:#000000; stroke-width:4; stroke-opacity:1; fill:none\" points=\"\n",
       "  1286.99,1521.01 2352.76,1521.01 \n",
       "  \"/>\n",
       "<polyline clip-path=\"url(#clip130)\" style=\"stroke:#000000; stroke-width:4; stroke-opacity:1; fill:none\" points=\"\n",
       "  1396.01,1521.01 1396.01,1503.51 \n",
       "  \"/>\n",
       "<polyline clip-path=\"url(#clip130)\" style=\"stroke:#000000; stroke-width:4; stroke-opacity:1; fill:none\" points=\"\n",
       "  1553.94,1521.01 1553.94,1503.51 \n",
       "  \"/>\n",
       "<polyline clip-path=\"url(#clip130)\" style=\"stroke:#000000; stroke-width:4; stroke-opacity:1; fill:none\" points=\"\n",
       "  1711.87,1521.01 1711.87,1503.51 \n",
       "  \"/>\n",
       "<polyline clip-path=\"url(#clip130)\" style=\"stroke:#000000; stroke-width:4; stroke-opacity:1; fill:none\" points=\"\n",
       "  1869.8,1521.01 1869.8,1503.51 \n",
       "  \"/>\n",
       "<polyline clip-path=\"url(#clip130)\" style=\"stroke:#000000; stroke-width:4; stroke-opacity:1; fill:none\" points=\"\n",
       "  2027.73,1521.01 2027.73,1503.51 \n",
       "  \"/>\n",
       "<polyline clip-path=\"url(#clip130)\" style=\"stroke:#000000; stroke-width:4; stroke-opacity:1; fill:none\" points=\"\n",
       "  2185.67,1521.01 2185.67,1503.51 \n",
       "  \"/>\n",
       "<polyline clip-path=\"url(#clip130)\" style=\"stroke:#000000; stroke-width:4; stroke-opacity:1; fill:none\" points=\"\n",
       "  2343.6,1521.01 2343.6,1503.51 \n",
       "  \"/>\n",
       "<path clip-path=\"url(#clip130)\" d=\"M 0 0 M1374.99 1558.69 L1397.25 1558.69 L1397.25 1561.64 L1374.99 1561.64 L1374.99 1558.69 Z\" fill=\"#000000\" fill-rule=\"evenodd\" fill-opacity=\"1\" /><path clip-path=\"url(#clip130)\" d=\"M 0 0 M1411.67 1557.34 Q1414.19 1557.87 1415.6 1559.58 Q1417.02 1561.28 1417.02 1563.78 Q1417.02 1567.61 1414.38 1569.71 Q1411.74 1571.82 1406.88 1571.82 Q1405.25 1571.82 1403.51 1571.49 Q1401.8 1571.17 1399.95 1570.53 L1399.95 1567.15 Q1401.41 1568 1403.15 1568.43 Q1404.89 1568.86 1406.78 1568.86 Q1410.08 1568.86 1411.8 1567.56 Q1413.53 1566.26 1413.53 1563.78 Q1413.53 1561.49 1411.92 1560.2 Q1410.32 1558.9 1407.45 1558.9 L1404.43 1558.9 L1404.43 1556.02 L1407.59 1556.02 Q1410.18 1556.02 1411.55 1554.99 Q1412.92 1553.95 1412.92 1552.01 Q1412.92 1550.01 1411.5 1548.95 Q1410.09 1547.87 1407.45 1547.87 Q1406.01 1547.87 1404.36 1548.19 Q1402.72 1548.5 1400.74 1549.16 L1400.74 1546.03 Q1402.73 1545.48 1404.47 1545.2 Q1406.22 1544.92 1407.77 1544.92 Q1411.76 1544.92 1414.09 1546.75 Q1416.41 1548.55 1416.41 1551.64 Q1416.41 1553.79 1415.18 1555.29 Q1413.95 1556.76 1411.67 1557.34 Z\" fill=\"#000000\" fill-rule=\"evenodd\" fill-opacity=\"1\" /><path clip-path=\"url(#clip130)\" d=\"M 0 0 M1533.28 1558.69 L1555.53 1558.69 L1555.53 1561.64 L1533.28 1561.64 L1533.28 1558.69 Z\" fill=\"#000000\" fill-rule=\"evenodd\" fill-opacity=\"1\" /><path clip-path=\"url(#clip130)\" d=\"M 0 0 M1562.36 1568.36 L1574.6 1568.36 L1574.6 1571.31 L1558.14 1571.31 L1558.14 1568.36 Q1560.14 1566.29 1563.57 1562.82 Q1567.03 1559.33 1567.91 1558.33 Q1569.6 1556.43 1570.26 1555.13 Q1570.93 1553.81 1570.93 1552.54 Q1570.93 1550.48 1569.48 1549.18 Q1568.03 1547.87 1565.71 1547.87 Q1564.06 1547.87 1562.22 1548.45 Q1560.4 1549.02 1558.31 1550.18 L1558.31 1546.64 Q1560.43 1545.79 1562.27 1545.36 Q1564.11 1544.92 1565.64 1544.92 Q1569.67 1544.92 1572.06 1546.94 Q1574.46 1548.95 1574.46 1552.32 Q1574.46 1553.92 1573.85 1555.36 Q1573.26 1556.78 1571.68 1558.73 Q1571.25 1559.23 1568.92 1561.64 Q1566.59 1564.04 1562.36 1568.36 Z\" fill=\"#000000\" fill-rule=\"evenodd\" fill-opacity=\"1\" /><path clip-path=\"url(#clip130)\" d=\"M 0 0 M1691.07 1558.69 L1713.33 1558.69 L1713.33 1561.64 L1691.07 1561.64 L1691.07 1558.69 Z\" fill=\"#000000\" fill-rule=\"evenodd\" fill-opacity=\"1\" /><path clip-path=\"url(#clip130)\" d=\"M 0 0 M1717.74 1568.36 L1723.47 1568.36 L1723.47 1548.59 L1717.23 1549.84 L1717.23 1546.64 L1723.43 1545.39 L1726.94 1545.39 L1726.94 1568.36 L1732.67 1568.36 L1732.67 1571.31 L1717.74 1571.31 L1717.74 1568.36 Z\" fill=\"#000000\" fill-rule=\"evenodd\" fill-opacity=\"1\" /><path clip-path=\"url(#clip130)\" d=\"M 0 0 M1869.8 1547.7 Q1867.09 1547.7 1865.72 1550.37 Q1864.37 1553.03 1864.37 1558.38 Q1864.37 1563.71 1865.72 1566.38 Q1867.09 1569.04 1869.8 1569.04 Q1872.53 1569.04 1873.88 1566.38 Q1875.25 1563.71 1875.25 1558.38 Q1875.25 1553.03 1873.88 1550.37 Q1872.53 1547.7 1869.8 1547.7 M1869.8 1544.92 Q1874.16 1544.92 1876.45 1548.38 Q1878.76 1551.82 1878.76 1558.38 Q1878.76 1564.92 1876.45 1568.38 Q1874.16 1571.82 1869.8 1571.82 Q1865.44 1571.82 1863.13 1568.38 Q1860.84 1564.92 1860.84 1558.38 Q1860.84 1551.82 1863.13 1548.38 Q1865.44 1544.92 1869.8 1544.92 Z\" fill=\"#000000\" fill-rule=\"evenodd\" fill-opacity=\"1\" /><path clip-path=\"url(#clip130)\" d=\"M 0 0 M2020.52 1568.36 L2026.25 1568.36 L2026.25 1548.59 L2020.02 1549.84 L2020.02 1546.64 L2026.21 1545.39 L2029.72 1545.39 L2029.72 1568.36 L2035.45 1568.36 L2035.45 1571.31 L2020.52 1571.31 L2020.52 1568.36 Z\" fill=\"#000000\" fill-rule=\"evenodd\" fill-opacity=\"1\" /><path clip-path=\"url(#clip130)\" d=\"M 0 0 M2181.66 1568.36 L2193.89 1568.36 L2193.89 1571.31 L2177.44 1571.31 L2177.44 1568.36 Q2179.43 1566.29 2182.87 1562.82 Q2186.33 1559.33 2187.21 1558.33 Q2188.89 1556.43 2189.55 1555.13 Q2190.23 1553.81 2190.23 1552.54 Q2190.23 1550.48 2188.77 1549.18 Q2187.33 1547.87 2185.01 1547.87 Q2183.36 1547.87 2181.52 1548.45 Q2179.69 1549.02 2177.61 1550.18 L2177.61 1546.64 Q2179.73 1545.79 2181.57 1545.36 Q2183.41 1544.92 2184.94 1544.92 Q2188.96 1544.92 2191.36 1546.94 Q2193.76 1548.95 2193.76 1552.32 Q2193.76 1553.92 2193.15 1555.36 Q2192.56 1556.78 2190.98 1558.73 Q2190.54 1559.23 2188.22 1561.64 Q2185.89 1564.04 2181.66 1568.36 Z\" fill=\"#000000\" fill-rule=\"evenodd\" fill-opacity=\"1\" /><path clip-path=\"url(#clip130)\" d=\"M 0 0 M2346.78 1557.34 Q2349.3 1557.87 2350.71 1559.58 Q2352.13 1561.28 2352.13 1563.78 Q2352.13 1567.61 2349.49 1569.71 Q2346.85 1571.82 2341.99 1571.82 Q2340.36 1571.82 2338.62 1571.49 Q2336.91 1571.17 2335.06 1570.53 L2335.06 1567.15 Q2336.52 1568 2338.26 1568.43 Q2340 1568.86 2341.89 1568.86 Q2345.19 1568.86 2346.91 1567.56 Q2348.64 1566.26 2348.64 1563.78 Q2348.64 1561.49 2347.03 1560.2 Q2345.43 1558.9 2342.56 1558.9 L2339.54 1558.9 L2339.54 1556.02 L2342.7 1556.02 Q2345.29 1556.02 2346.66 1554.99 Q2348.03 1553.95 2348.03 1552.01 Q2348.03 1550.01 2346.61 1548.95 Q2345.2 1547.87 2342.56 1547.87 Q2341.12 1547.87 2339.47 1548.19 Q2337.83 1548.5 2335.85 1549.16 L2335.85 1546.03 Q2337.84 1545.48 2339.58 1545.2 Q2341.33 1544.92 2342.88 1544.92 Q2346.87 1544.92 2349.2 1546.75 Q2351.52 1548.55 2351.52 1551.64 Q2351.52 1553.79 2350.29 1555.29 Q2349.06 1556.76 2346.78 1557.34 Z\" fill=\"#000000\" fill-rule=\"evenodd\" fill-opacity=\"1\" /><polyline clip-path=\"url(#clip133)\" style=\"stroke:#000000; stroke-width:2; stroke-opacity:0.1; fill:none\" points=\"\n",
       "  1286.99,1377.01 2352.76,1377.01 \n",
       "  \"/>\n",
       "<polyline clip-path=\"url(#clip133)\" style=\"stroke:#000000; stroke-width:2; stroke-opacity:0.1; fill:none\" points=\"\n",
       "  1286.99,1108.55 2352.76,1108.55 \n",
       "  \"/>\n",
       "<polyline clip-path=\"url(#clip133)\" style=\"stroke:#000000; stroke-width:2; stroke-opacity:0.1; fill:none\" points=\"\n",
       "  1286.99,840.099 2352.76,840.099 \n",
       "  \"/>\n",
       "<polyline clip-path=\"url(#clip133)\" style=\"stroke:#000000; stroke-width:2; stroke-opacity:0.1; fill:none\" points=\"\n",
       "  1286.99,571.646 2352.76,571.646 \n",
       "  \"/>\n",
       "<polyline clip-path=\"url(#clip133)\" style=\"stroke:#000000; stroke-width:2; stroke-opacity:0.1; fill:none\" points=\"\n",
       "  1286.99,303.193 2352.76,303.193 \n",
       "  \"/>\n",
       "<polyline clip-path=\"url(#clip130)\" style=\"stroke:#000000; stroke-width:4; stroke-opacity:1; fill:none\" points=\"\n",
       "  1286.99,1521.01 1286.99,62.9921 \n",
       "  \"/>\n",
       "<polyline clip-path=\"url(#clip130)\" style=\"stroke:#000000; stroke-width:4; stroke-opacity:1; fill:none\" points=\"\n",
       "  1286.99,1377.01 1299.78,1377.01 \n",
       "  \"/>\n",
       "<polyline clip-path=\"url(#clip130)\" style=\"stroke:#000000; stroke-width:4; stroke-opacity:1; fill:none\" points=\"\n",
       "  1286.99,1108.55 1299.78,1108.55 \n",
       "  \"/>\n",
       "<polyline clip-path=\"url(#clip130)\" style=\"stroke:#000000; stroke-width:4; stroke-opacity:1; fill:none\" points=\"\n",
       "  1286.99,840.099 1299.78,840.099 \n",
       "  \"/>\n",
       "<polyline clip-path=\"url(#clip130)\" style=\"stroke:#000000; stroke-width:4; stroke-opacity:1; fill:none\" points=\"\n",
       "  1286.99,571.646 1299.78,571.646 \n",
       "  \"/>\n",
       "<polyline clip-path=\"url(#clip130)\" style=\"stroke:#000000; stroke-width:4; stroke-opacity:1; fill:none\" points=\"\n",
       "  1286.99,303.193 1299.78,303.193 \n",
       "  \"/>\n",
       "<path clip-path=\"url(#clip130)\" d=\"M 0 0 M1158.56 1377.46 L1188.24 1377.46 L1188.24 1381.39 L1158.56 1381.39 L1158.56 1377.46 Z\" fill=\"#000000\" fill-rule=\"evenodd\" fill-opacity=\"1\" /><path clip-path=\"url(#clip130)\" d=\"M 0 0 M1194.12 1390.35 L1201.76 1390.35 L1201.76 1363.98 L1193.45 1365.65 L1193.45 1361.39 L1201.71 1359.73 L1206.39 1359.73 L1206.39 1390.35 L1214.02 1390.35 L1214.02 1394.29 L1194.12 1394.29 L1194.12 1390.35 Z\" fill=\"#000000\" fill-rule=\"evenodd\" fill-opacity=\"1\" /><path clip-path=\"url(#clip130)\" d=\"M 0 0 M1219.09 1388.41 L1223.98 1388.41 L1223.98 1394.29 L1219.09 1394.29 L1219.09 1388.41 Z\" fill=\"#000000\" fill-rule=\"evenodd\" fill-opacity=\"1\" /><path clip-path=\"url(#clip130)\" d=\"M 0 0 M1239.05 1362.8 Q1235.44 1362.8 1233.61 1366.37 Q1231.8 1369.91 1231.8 1377.04 Q1231.8 1384.15 1233.61 1387.71 Q1235.44 1391.25 1239.05 1391.25 Q1242.68 1391.25 1244.49 1387.71 Q1246.32 1384.15 1246.32 1377.04 Q1246.32 1369.91 1244.49 1366.37 Q1242.68 1362.8 1239.05 1362.8 M1239.05 1359.1 Q1244.86 1359.1 1247.91 1363.71 Q1250.99 1368.29 1250.99 1377.04 Q1250.99 1385.77 1247.91 1390.37 Q1244.86 1394.96 1239.05 1394.96 Q1233.24 1394.96 1230.16 1390.37 Q1227.1 1385.77 1227.1 1377.04 Q1227.1 1368.29 1230.16 1363.71 Q1233.24 1359.1 1239.05 1359.1 Z\" fill=\"#000000\" fill-rule=\"evenodd\" fill-opacity=\"1\" /><path clip-path=\"url(#clip130)\" d=\"M 0 0 M1158.33 1109 L1188.01 1109 L1188.01 1112.94 L1158.33 1112.94 L1158.33 1109 Z\" fill=\"#000000\" fill-rule=\"evenodd\" fill-opacity=\"1\" /><path clip-path=\"url(#clip130)\" d=\"M 0 0 M1203.08 1094.35 Q1199.46 1094.35 1197.64 1097.92 Q1195.83 1101.46 1195.83 1108.59 Q1195.83 1115.69 1197.64 1119.26 Q1199.46 1122.8 1203.08 1122.8 Q1206.71 1122.8 1208.52 1119.26 Q1210.34 1115.69 1210.34 1108.59 Q1210.34 1101.46 1208.52 1097.92 Q1206.71 1094.35 1203.08 1094.35 M1203.08 1090.65 Q1208.89 1090.65 1211.94 1095.25 Q1215.02 1099.84 1215.02 1108.59 Q1215.02 1117.31 1211.94 1121.92 Q1208.89 1126.5 1203.08 1126.5 Q1197.27 1126.5 1194.19 1121.92 Q1191.13 1117.31 1191.13 1108.59 Q1191.13 1099.84 1194.19 1095.25 Q1197.27 1090.65 1203.08 1090.65 Z\" fill=\"#000000\" fill-rule=\"evenodd\" fill-opacity=\"1\" /><path clip-path=\"url(#clip130)\" d=\"M 0 0 M1220.09 1119.95 L1224.97 1119.95 L1224.97 1125.83 L1220.09 1125.83 L1220.09 1119.95 Z\" fill=\"#000000\" fill-rule=\"evenodd\" fill-opacity=\"1\" /><path clip-path=\"url(#clip130)\" d=\"M 0 0 M1230.09 1091.27 L1248.45 1091.27 L1248.45 1095.21 L1234.37 1095.21 L1234.37 1103.68 Q1235.39 1103.33 1236.41 1103.17 Q1237.43 1102.99 1238.45 1102.99 Q1244.23 1102.99 1247.61 1106.16 Q1250.99 1109.33 1250.99 1114.74 Q1250.99 1120.32 1247.52 1123.42 Q1244.05 1126.5 1237.73 1126.5 Q1235.55 1126.5 1233.28 1126.13 Q1231.04 1125.76 1228.63 1125.02 L1228.63 1120.32 Q1230.71 1121.46 1232.94 1122.01 Q1235.16 1122.57 1237.64 1122.57 Q1241.64 1122.57 1243.98 1120.46 Q1246.32 1118.36 1246.32 1114.74 Q1246.32 1111.13 1243.98 1109.03 Q1241.64 1106.92 1237.64 1106.92 Q1235.76 1106.92 1233.89 1107.34 Q1232.03 1107.75 1230.09 1108.63 L1230.09 1091.27 Z\" fill=\"#000000\" fill-rule=\"evenodd\" fill-opacity=\"1\" /><path clip-path=\"url(#clip130)\" d=\"M 0 0 M1202.08 825.898 Q1198.47 825.898 1196.64 829.463 Q1194.84 833.004 1194.84 840.134 Q1194.84 847.241 1196.64 850.805 Q1198.47 854.347 1202.08 854.347 Q1205.71 854.347 1207.52 850.805 Q1209.35 847.241 1209.35 840.134 Q1209.35 833.004 1207.52 829.463 Q1205.71 825.898 1202.08 825.898 M1202.08 822.194 Q1207.89 822.194 1210.95 826.801 Q1214.02 831.384 1214.02 840.134 Q1214.02 848.861 1210.95 853.467 Q1207.89 858.051 1202.08 858.051 Q1196.27 858.051 1193.19 853.467 Q1190.14 848.861 1190.14 840.134 Q1190.14 831.384 1193.19 826.801 Q1196.27 822.194 1202.08 822.194 Z\" fill=\"#000000\" fill-rule=\"evenodd\" fill-opacity=\"1\" /><path clip-path=\"url(#clip130)\" d=\"M 0 0 M1219.09 851.5 L1223.98 851.5 L1223.98 857.379 L1219.09 857.379 L1219.09 851.5 Z\" fill=\"#000000\" fill-rule=\"evenodd\" fill-opacity=\"1\" /><path clip-path=\"url(#clip130)\" d=\"M 0 0 M1239.05 825.898 Q1235.44 825.898 1233.61 829.463 Q1231.8 833.004 1231.8 840.134 Q1231.8 847.241 1233.61 850.805 Q1235.44 854.347 1239.05 854.347 Q1242.68 854.347 1244.49 850.805 Q1246.32 847.241 1246.32 840.134 Q1246.32 833.004 1244.49 829.463 Q1242.68 825.898 1239.05 825.898 M1239.05 822.194 Q1244.86 822.194 1247.91 826.801 Q1250.99 831.384 1250.99 840.134 Q1250.99 848.861 1247.91 853.467 Q1244.86 858.051 1239.05 858.051 Q1233.24 858.051 1230.16 853.467 Q1227.1 848.861 1227.1 840.134 Q1227.1 831.384 1230.16 826.801 Q1233.24 822.194 1239.05 822.194 Z\" fill=\"#000000\" fill-rule=\"evenodd\" fill-opacity=\"1\" /><path clip-path=\"url(#clip130)\" d=\"M 0 0 M1203.08 557.445 Q1199.46 557.445 1197.64 561.01 Q1195.83 564.551 1195.83 571.681 Q1195.83 578.788 1197.64 582.352 Q1199.46 585.894 1203.08 585.894 Q1206.71 585.894 1208.52 582.352 Q1210.34 578.788 1210.34 571.681 Q1210.34 564.551 1208.52 561.01 Q1206.71 557.445 1203.08 557.445 M1203.08 553.741 Q1208.89 553.741 1211.94 558.348 Q1215.02 562.931 1215.02 571.681 Q1215.02 580.408 1211.94 585.014 Q1208.89 589.598 1203.08 589.598 Q1197.27 589.598 1194.19 585.014 Q1191.13 580.408 1191.13 571.681 Q1191.13 562.931 1194.19 558.348 Q1197.27 553.741 1203.08 553.741 Z\" fill=\"#000000\" fill-rule=\"evenodd\" fill-opacity=\"1\" /><path clip-path=\"url(#clip130)\" d=\"M 0 0 M1220.09 583.047 L1224.97 583.047 L1224.97 588.926 L1220.09 588.926 L1220.09 583.047 Z\" fill=\"#000000\" fill-rule=\"evenodd\" fill-opacity=\"1\" /><path clip-path=\"url(#clip130)\" d=\"M 0 0 M1230.09 554.366 L1248.45 554.366 L1248.45 558.302 L1234.37 558.302 L1234.37 566.774 Q1235.39 566.426 1236.41 566.264 Q1237.43 566.079 1238.45 566.079 Q1244.23 566.079 1247.61 569.251 Q1250.99 572.422 1250.99 577.838 Q1250.99 583.417 1247.52 586.519 Q1244.05 589.598 1237.73 589.598 Q1235.55 589.598 1233.28 589.227 Q1231.04 588.857 1228.63 588.116 L1228.63 583.417 Q1230.71 584.551 1232.94 585.107 Q1235.16 585.662 1237.64 585.662 Q1241.64 585.662 1243.98 583.556 Q1246.32 581.45 1246.32 577.838 Q1246.32 574.227 1243.98 572.121 Q1241.64 570.014 1237.64 570.014 Q1235.76 570.014 1233.89 570.431 Q1232.03 570.848 1230.09 571.727 L1230.09 554.366 Z\" fill=\"#000000\" fill-rule=\"evenodd\" fill-opacity=\"1\" /><path clip-path=\"url(#clip130)\" d=\"M 0 0 M1194.12 316.538 L1201.76 316.538 L1201.76 290.173 L1193.45 291.839 L1193.45 287.58 L1201.71 285.913 L1206.39 285.913 L1206.39 316.538 L1214.02 316.538 L1214.02 320.473 L1194.12 320.473 L1194.12 316.538 Z\" fill=\"#000000\" fill-rule=\"evenodd\" fill-opacity=\"1\" /><path clip-path=\"url(#clip130)\" d=\"M 0 0 M1219.09 314.594 L1223.98 314.594 L1223.98 320.473 L1219.09 320.473 L1219.09 314.594 Z\" fill=\"#000000\" fill-rule=\"evenodd\" fill-opacity=\"1\" /><path clip-path=\"url(#clip130)\" d=\"M 0 0 M1239.05 288.992 Q1235.44 288.992 1233.61 292.557 Q1231.8 296.098 1231.8 303.228 Q1231.8 310.334 1233.61 313.899 Q1235.44 317.441 1239.05 317.441 Q1242.68 317.441 1244.49 313.899 Q1246.32 310.334 1246.32 303.228 Q1246.32 296.098 1244.49 292.557 Q1242.68 288.992 1239.05 288.992 M1239.05 285.288 Q1244.86 285.288 1247.91 289.895 Q1250.99 294.478 1250.99 303.228 Q1250.99 311.955 1247.91 316.561 Q1244.86 321.145 1239.05 321.145 Q1233.24 321.145 1230.16 316.561 Q1227.1 311.955 1227.1 303.228 Q1227.1 294.478 1230.16 289.895 Q1233.24 285.288 1239.05 285.288 Z\" fill=\"#000000\" fill-rule=\"evenodd\" fill-opacity=\"1\" /><path clip-path=\"url(#clip130)\" d=\"M 0 0 M1610.53 6.912 L1630.4 6.912 L1630.4 10.8472 L1615.21 10.8472 L1615.21 21.0323 L1628.91 21.0323 L1628.91 24.9675 L1615.21 24.9675 L1615.21 41.472 L1610.53 41.472 L1610.53 6.912 Z\" fill=\"#000000\" fill-rule=\"evenodd\" fill-opacity=\"1\" /><path clip-path=\"url(#clip130)\" d=\"M 0 0 M1631.83 31.2406 L1631.83 15.5462 L1636.09 15.5462 L1636.09 31.0785 Q1636.09 34.7591 1637.53 36.6109 Q1638.96 38.4396 1641.83 38.4396 Q1645.28 38.4396 1647.27 36.2405 Q1649.28 34.0415 1649.28 30.2452 L1649.28 15.5462 L1653.54 15.5462 L1653.54 41.472 L1649.28 41.472 L1649.28 37.4905 Q1647.73 39.8516 1645.67 41.009 Q1643.64 42.1433 1640.93 42.1433 Q1636.46 42.1433 1634.15 39.3655 Q1631.83 36.5878 1631.83 31.2406 M1642.55 14.9212 L1642.55 14.9212 Z\" fill=\"#000000\" fill-rule=\"evenodd\" fill-opacity=\"1\" /><path clip-path=\"url(#clip130)\" d=\"M 0 0 M1656.16 15.5462 L1676.39 15.5462 L1676.39 19.4351 L1660.37 38.0692 L1676.39 38.0692 L1676.39 41.472 L1655.58 41.472 L1655.58 37.5831 L1671.6 18.949 L1656.16 18.949 L1656.16 15.5462 Z\" fill=\"#000000\" fill-rule=\"evenodd\" fill-opacity=\"1\" /><path clip-path=\"url(#clip130)\" d=\"M 0 0 M1679.01 15.5462 L1699.24 15.5462 L1699.24 19.4351 L1683.22 38.0692 L1699.24 38.0692 L1699.24 41.472 L1678.43 41.472 L1678.43 37.5831 L1694.45 18.949 L1679.01 18.949 L1679.01 15.5462 Z\" fill=\"#000000\" fill-rule=\"evenodd\" fill-opacity=\"1\" /><path clip-path=\"url(#clip130)\" d=\"M 0 0 M1714.49 43.8794 Q1712.69 48.509 1710.97 49.921 Q1709.26 51.3331 1706.39 51.3331 L1702.99 51.3331 L1702.99 47.7683 L1705.49 47.7683 Q1707.25 47.7683 1708.22 46.9349 Q1709.19 46.1016 1710.37 42.9998 L1711.14 41.0553 L1700.65 15.5462 L1705.16 15.5462 L1713.27 35.8239 L1721.37 15.5462 L1725.88 15.5462 L1714.49 43.8794 Z\" fill=\"#000000\" fill-rule=\"evenodd\" fill-opacity=\"1\" /><path clip-path=\"url(#clip130)\" d=\"M 0 0 M1742.09 11.5185 L1735.74 28.7174 L1748.45 28.7174 L1742.09 11.5185 M1739.45 6.912 L1744.75 6.912 L1757.92 41.472 L1753.06 41.472 L1749.91 32.6063 L1734.33 32.6063 L1731.18 41.472 L1726.25 41.472 L1739.45 6.912 Z\" fill=\"#000000\" fill-rule=\"evenodd\" fill-opacity=\"1\" /><path clip-path=\"url(#clip130)\" d=\"M 0 0 M1778.96 25.2684 Q1780.46 25.7776 1781.88 27.4443 Q1783.31 29.111 1784.75 32.0276 L1789.49 41.472 L1784.47 41.472 L1780.05 32.6063 Q1778.33 29.1341 1776.71 27.9998 Q1775.12 26.8656 1772.34 26.8656 L1767.25 26.8656 L1767.25 41.472 L1762.57 41.472 L1762.57 6.912 L1773.13 6.912 Q1779.05 6.912 1781.97 9.38884 Q1784.89 11.8657 1784.89 16.8657 Q1784.89 20.1295 1783.36 22.2823 Q1781.85 24.4351 1778.96 25.2684 M1767.25 10.7546 L1767.25 23.023 L1773.13 23.023 Q1776.51 23.023 1778.22 21.4721 Q1779.96 19.898 1779.96 16.8657 Q1779.96 13.8333 1778.22 12.3055 Q1776.51 10.7546 1773.13 10.7546 L1767.25 10.7546 Z\" fill=\"#000000\" fill-rule=\"evenodd\" fill-opacity=\"1\" /><path clip-path=\"url(#clip130)\" d=\"M 0 0 M1785.9 6.912 L1815.14 6.912 L1815.14 10.8472 L1802.87 10.8472 L1802.87 41.472 L1798.17 41.472 L1798.17 10.8472 L1785.9 10.8472 L1785.9 6.912 Z\" fill=\"#000000\" fill-rule=\"evenodd\" fill-opacity=\"1\" /><path clip-path=\"url(#clip130)\" d=\"M 0 0 M1849.7 19.5277 Q1848.98 19.111 1848.13 18.9258 Q1847.29 18.7175 1846.27 18.7175 Q1842.66 18.7175 1840.72 21.0786 Q1838.8 23.4165 1838.8 27.8147 L1838.8 41.472 L1834.52 41.472 L1834.52 15.5462 L1838.8 15.5462 L1838.8 19.574 Q1840.14 17.2129 1842.29 16.0786 Q1844.45 14.9212 1847.52 14.9212 Q1847.96 14.9212 1848.5 14.9907 Q1849.03 15.037 1849.68 15.1527 L1849.7 19.5277 Z\" fill=\"#000000\" fill-rule=\"evenodd\" fill-opacity=\"1\" /><path clip-path=\"url(#clip130)\" d=\"M 0 0 M1874.89 25.8239 L1874.89 41.472 L1870.63 41.472 L1870.63 25.9628 Q1870.63 22.2823 1869.19 20.4536 Q1867.76 18.6249 1864.89 18.6249 Q1861.44 18.6249 1859.45 20.824 Q1857.45 23.023 1857.45 26.8193 L1857.45 41.472 L1853.17 41.472 L1853.17 5.45367 L1857.45 5.45367 L1857.45 19.574 Q1858.98 17.236 1861.04 16.0786 Q1863.13 14.9212 1865.83 14.9212 Q1870.3 14.9212 1872.59 17.699 Q1874.89 20.4536 1874.89 25.8239 Z\" fill=\"#000000\" fill-rule=\"evenodd\" fill-opacity=\"1\" /><path clip-path=\"url(#clip130)\" d=\"M 0 0 M1889.4 18.5323 Q1885.97 18.5323 1883.98 21.2175 Q1881.99 23.8795 1881.99 28.5323 Q1881.99 33.185 1883.96 35.8702 Q1885.95 38.5322 1889.4 38.5322 Q1892.8 38.5322 1894.79 35.847 Q1896.78 33.1619 1896.78 28.5323 Q1896.78 23.9258 1894.79 21.2406 Q1892.8 18.5323 1889.4 18.5323 M1889.4 14.9212 Q1894.95 14.9212 1898.13 18.5323 Q1901.3 22.1434 1901.3 28.5323 Q1901.3 34.898 1898.13 38.5322 Q1894.95 42.1433 1889.4 42.1433 Q1883.82 42.1433 1880.65 38.5322 Q1877.5 34.898 1877.5 28.5323 Q1877.5 22.1434 1880.65 18.5323 Q1883.82 14.9212 1889.4 14.9212 Z\" fill=\"#000000\" fill-rule=\"evenodd\" fill-opacity=\"1\" /><path clip-path=\"url(#clip130)\" d=\"M 0 0 M1921.39 19.9443 L1951.07 19.9443 L1951.07 23.8332 L1921.39 23.8332 L1921.39 19.9443 M1921.39 29.3887 L1951.07 29.3887 L1951.07 33.3239 L1921.39 33.3239 L1921.39 29.3887 Z\" fill=\"#000000\" fill-rule=\"evenodd\" fill-opacity=\"1\" /><path clip-path=\"url(#clip130)\" d=\"M 0 0 M1981.2 9.99069 Q1977.59 9.99069 1975.76 13.5555 Q1973.96 17.0971 1973.96 24.2267 Q1973.96 31.3332 1975.76 34.898 Q1977.59 38.4396 1981.2 38.4396 Q1984.84 38.4396 1986.64 34.898 Q1988.47 31.3332 1988.47 24.2267 Q1988.47 17.0971 1986.64 13.5555 Q1984.84 9.99069 1981.2 9.99069 M1981.2 6.287 Q1987.01 6.287 1990.07 10.8935 Q1993.15 15.4768 1993.15 24.2267 Q1993.15 32.9535 1990.07 37.56 Q1987.01 42.1433 1981.2 42.1433 Q1975.39 42.1433 1972.32 37.56 Q1969.26 32.9535 1969.26 24.2267 Q1969.26 15.4768 1972.32 10.8935 Q1975.39 6.287 1981.2 6.287 Z\" fill=\"#000000\" fill-rule=\"evenodd\" fill-opacity=\"1\" /><path clip-path=\"url(#clip130)\" d=\"M 0 0 M1998.22 35.5924 L2003.1 35.5924 L2003.1 41.472 L1998.22 41.472 L1998.22 35.5924 Z\" fill=\"#000000\" fill-rule=\"evenodd\" fill-opacity=\"1\" /><path clip-path=\"url(#clip130)\" d=\"M 0 0 M2006.99 6.912 L2029.21 6.912 L2029.21 8.90273 L2016.67 41.472 L2011.78 41.472 L2023.59 10.8472 L2006.99 10.8472 L2006.99 6.912 Z\" fill=\"#000000\" fill-rule=\"evenodd\" fill-opacity=\"1\" /><circle clip-path=\"url(#clip133)\" cx=\"2318.38\" cy=\"958.528\" r=\"14\" fill=\"#009af9\" fill-rule=\"evenodd\" fill-opacity=\"1\" stroke=\"#000000\" stroke-opacity=\"1\" stroke-width=\"3.2\"/>\n",
       "<circle clip-path=\"url(#clip133)\" cx=\"2322.59\" cy=\"798.654\" r=\"14\" fill=\"#009af9\" fill-rule=\"evenodd\" fill-opacity=\"1\" stroke=\"#000000\" stroke-opacity=\"1\" stroke-width=\"3.2\"/>\n",
       "<circle clip-path=\"url(#clip133)\" cx=\"2278.43\" cy=\"560.654\" r=\"14\" fill=\"#009af9\" fill-rule=\"evenodd\" fill-opacity=\"1\" stroke=\"#000000\" stroke-opacity=\"1\" stroke-width=\"3.2\"/>\n",
       "<circle clip-path=\"url(#clip133)\" cx=\"2283.98\" cy=\"400.862\" r=\"14\" fill=\"#009af9\" fill-rule=\"evenodd\" fill-opacity=\"1\" stroke=\"#000000\" stroke-opacity=\"1\" stroke-width=\"3.2\"/>\n",
       "<circle clip-path=\"url(#clip133)\" cx=\"2284.41\" cy=\"514.305\" r=\"14\" fill=\"#009af9\" fill-rule=\"evenodd\" fill-opacity=\"1\" stroke=\"#000000\" stroke-opacity=\"1\" stroke-width=\"3.2\"/>\n",
       "<circle clip-path=\"url(#clip133)\" cx=\"2249.71\" cy=\"734.91\" r=\"14\" fill=\"#009af9\" fill-rule=\"evenodd\" fill-opacity=\"1\" stroke=\"#000000\" stroke-opacity=\"1\" stroke-width=\"3.2\"/>\n",
       "<circle clip-path=\"url(#clip133)\" cx=\"2265.88\" cy=\"914.76\" r=\"14\" fill=\"#009af9\" fill-rule=\"evenodd\" fill-opacity=\"1\" stroke=\"#000000\" stroke-opacity=\"1\" stroke-width=\"3.2\"/>\n",
       "<circle clip-path=\"url(#clip133)\" cx=\"2265.66\" cy=\"490.072\" r=\"14\" fill=\"#009af9\" fill-rule=\"evenodd\" fill-opacity=\"1\" stroke=\"#000000\" stroke-opacity=\"1\" stroke-width=\"3.2\"/>\n",
       "<circle clip-path=\"url(#clip133)\" cx=\"2288.06\" cy=\"668.753\" r=\"14\" fill=\"#009af9\" fill-rule=\"evenodd\" fill-opacity=\"1\" stroke=\"#000000\" stroke-opacity=\"1\" stroke-width=\"3.2\"/>\n",
       "<circle clip-path=\"url(#clip133)\" cx=\"2259.74\" cy=\"766.067\" r=\"14\" fill=\"#009af9\" fill-rule=\"evenodd\" fill-opacity=\"1\" stroke=\"#000000\" stroke-opacity=\"1\" stroke-width=\"3.2\"/>\n",
       "<circle clip-path=\"url(#clip133)\" cx=\"2292.09\" cy=\"897.383\" r=\"14\" fill=\"#009af9\" fill-rule=\"evenodd\" fill-opacity=\"1\" stroke=\"#000000\" stroke-opacity=\"1\" stroke-width=\"3.2\"/>\n",
       "<circle clip-path=\"url(#clip133)\" cx=\"2307.3\" cy=\"694.566\" r=\"14\" fill=\"#009af9\" fill-rule=\"evenodd\" fill-opacity=\"1\" stroke=\"#000000\" stroke-opacity=\"1\" stroke-width=\"3.2\"/>\n",
       "<circle clip-path=\"url(#clip133)\" cx=\"2229.87\" cy=\"438.61\" r=\"14\" fill=\"#009af9\" fill-rule=\"evenodd\" fill-opacity=\"1\" stroke=\"#000000\" stroke-opacity=\"1\" stroke-width=\"3.2\"/>\n",
       "<circle clip-path=\"url(#clip133)\" cx=\"2298.65\" cy=\"931.135\" r=\"14\" fill=\"#009af9\" fill-rule=\"evenodd\" fill-opacity=\"1\" stroke=\"#000000\" stroke-opacity=\"1\" stroke-width=\"3.2\"/>\n",
       "<circle clip-path=\"url(#clip133)\" cx=\"2270.57\" cy=\"566.08\" r=\"14\" fill=\"#009af9\" fill-rule=\"evenodd\" fill-opacity=\"1\" stroke=\"#000000\" stroke-opacity=\"1\" stroke-width=\"3.2\"/>\n",
       "<circle clip-path=\"url(#clip133)\" cx=\"1822.77\" cy=\"1026.41\" r=\"14\" fill=\"#e26f46\" fill-rule=\"evenodd\" fill-opacity=\"1\" stroke=\"#000000\" stroke-opacity=\"1\" stroke-width=\"3.2\"/>\n",
       "<circle clip-path=\"url(#clip133)\" cx=\"1841.22\" cy=\"1283.37\" r=\"14\" fill=\"#e26f46\" fill-rule=\"evenodd\" fill-opacity=\"1\" stroke=\"#000000\" stroke-opacity=\"1\" stroke-width=\"3.2\"/>\n",
       "<circle clip-path=\"url(#clip133)\" cx=\"1757.04\" cy=\"759.36\" r=\"14\" fill=\"#e26f46\" fill-rule=\"evenodd\" fill-opacity=\"1\" stroke=\"#000000\" stroke-opacity=\"1\" stroke-width=\"3.2\"/>\n",
       "<circle clip-path=\"url(#clip133)\" cx=\"1666.89\" cy=\"472.083\" r=\"14\" fill=\"#e26f46\" fill-rule=\"evenodd\" fill-opacity=\"1\" stroke=\"#000000\" stroke-opacity=\"1\" stroke-width=\"3.2\"/>\n",
       "<circle clip-path=\"url(#clip133)\" cx=\"1705.03\" cy=\"717.171\" r=\"14\" fill=\"#e26f46\" fill-rule=\"evenodd\" fill-opacity=\"1\" stroke=\"#000000\" stroke-opacity=\"1\" stroke-width=\"3.2\"/>\n",
       "<circle clip-path=\"url(#clip133)\" cx=\"1981.47\" cy=\"1381.53\" r=\"14\" fill=\"#e26f46\" fill-rule=\"evenodd\" fill-opacity=\"1\" stroke=\"#000000\" stroke-opacity=\"1\" stroke-width=\"3.2\"/>\n",
       "<circle clip-path=\"url(#clip133)\" cx=\"1638.58\" cy=\"569.397\" r=\"14\" fill=\"#e26f46\" fill-rule=\"evenodd\" fill-opacity=\"1\" stroke=\"#000000\" stroke-opacity=\"1\" stroke-width=\"3.2\"/>\n",
       "<circle clip-path=\"url(#clip133)\" cx=\"1765.63\" cy=\"1029.08\" r=\"14\" fill=\"#e26f46\" fill-rule=\"evenodd\" fill-opacity=\"1\" stroke=\"#000000\" stroke-opacity=\"1\" stroke-width=\"3.2\"/>\n",
       "<circle clip-path=\"url(#clip133)\" cx=\"1729.22\" cy=\"858.253\" r=\"14\" fill=\"#e26f46\" fill-rule=\"evenodd\" fill-opacity=\"1\" stroke=\"#000000\" stroke-opacity=\"1\" stroke-width=\"3.2\"/>\n",
       "<circle clip-path=\"url(#clip133)\" cx=\"1833.65\" cy=\"1056.07\" r=\"14\" fill=\"#e26f46\" fill-rule=\"evenodd\" fill-opacity=\"1\" stroke=\"#000000\" stroke-opacity=\"1\" stroke-width=\"3.2\"/>\n",
       "<circle clip-path=\"url(#clip133)\" cx=\"1862.97\" cy=\"1152.3\" r=\"14\" fill=\"#e26f46\" fill-rule=\"evenodd\" fill-opacity=\"1\" stroke=\"#000000\" stroke-opacity=\"1\" stroke-width=\"3.2\"/>\n",
       "<circle clip-path=\"url(#clip133)\" cx=\"1741.42\" cy=\"1039.12\" r=\"14\" fill=\"#3da44d\" fill-rule=\"evenodd\" fill-opacity=\"1\" stroke=\"#000000\" stroke-opacity=\"1\" stroke-width=\"3.2\"/>\n",
       "<circle clip-path=\"url(#clip133)\" cx=\"1421.12\" cy=\"639.972\" r=\"14\" fill=\"#3da44d\" fill-rule=\"evenodd\" fill-opacity=\"1\" stroke=\"#000000\" stroke-opacity=\"1\" stroke-width=\"3.2\"/>\n",
       "<circle clip-path=\"url(#clip133)\" cx=\"1665.05\" cy=\"1015.97\" r=\"14\" fill=\"#3da44d\" fill-rule=\"evenodd\" fill-opacity=\"1\" stroke=\"#000000\" stroke-opacity=\"1\" stroke-width=\"3.2\"/>\n",
       "<circle clip-path=\"url(#clip133)\" cx=\"1566.18\" cy=\"620.359\" r=\"14\" fill=\"#3da44d\" fill-rule=\"evenodd\" fill-opacity=\"1\" stroke=\"#000000\" stroke-opacity=\"1\" stroke-width=\"3.2\"/>\n",
       "<circle clip-path=\"url(#clip133)\" cx=\"1619.44\" cy=\"1129.66\" r=\"14\" fill=\"#3da44d\" fill-rule=\"evenodd\" fill-opacity=\"1\" stroke=\"#000000\" stroke-opacity=\"1\" stroke-width=\"3.2\"/>\n",
       "<circle clip-path=\"url(#clip133)\" cx=\"1720.97\" cy=\"1131.01\" r=\"14\" fill=\"#3da44d\" fill-rule=\"evenodd\" fill-opacity=\"1\" stroke=\"#000000\" stroke-opacity=\"1\" stroke-width=\"3.2\"/>\n",
       "<circle clip-path=\"url(#clip133)\" cx=\"1650.64\" cy=\"949.645\" r=\"14\" fill=\"#3da44d\" fill-rule=\"evenodd\" fill-opacity=\"1\" stroke=\"#000000\" stroke-opacity=\"1\" stroke-width=\"3.2\"/>\n",
       "<circle clip-path=\"url(#clip133)\" cx=\"1504.3\" cy=\"742.056\" r=\"14\" fill=\"#3da44d\" fill-rule=\"evenodd\" fill-opacity=\"1\" stroke=\"#000000\" stroke-opacity=\"1\" stroke-width=\"3.2\"/>\n",
       "<circle clip-path=\"url(#clip133)\" cx=\"1464.97\" cy=\"691.927\" r=\"14\" fill=\"#3da44d\" fill-rule=\"evenodd\" fill-opacity=\"1\" stroke=\"#000000\" stroke-opacity=\"1\" stroke-width=\"3.2\"/>\n",
       "<circle clip-path=\"url(#clip133)\" cx=\"1646.47\" cy=\"1148.78\" r=\"14\" fill=\"#3da44d\" fill-rule=\"evenodd\" fill-opacity=\"1\" stroke=\"#000000\" stroke-opacity=\"1\" stroke-width=\"3.2\"/>\n",
       "<circle clip-path=\"url(#clip133)\" cx=\"1665.96\" cy=\"902.609\" r=\"14\" fill=\"#3da44d\" fill-rule=\"evenodd\" fill-opacity=\"1\" stroke=\"#000000\" stroke-opacity=\"1\" stroke-width=\"3.2\"/>\n",
       "<circle clip-path=\"url(#clip133)\" cx=\"1561.95\" cy=\"818.231\" r=\"14\" fill=\"#3da44d\" fill-rule=\"evenodd\" fill-opacity=\"1\" stroke=\"#000000\" stroke-opacity=\"1\" stroke-width=\"3.2\"/>\n",
       "<circle clip-path=\"url(#clip133)\" cx=\"1317.16\" cy=\"594.855\" r=\"14\" fill=\"#3da44d\" fill-rule=\"evenodd\" fill-opacity=\"1\" stroke=\"#000000\" stroke-opacity=\"1\" stroke-width=\"3.2\"/>\n",
       "<circle clip-path=\"url(#clip133)\" cx=\"1359.31\" cy=\"104.257\" r=\"14\" fill=\"#3da44d\" fill-rule=\"evenodd\" fill-opacity=\"1\" stroke=\"#000000\" stroke-opacity=\"1\" stroke-width=\"3.2\"/>\n",
       "<circle clip-path=\"url(#clip133)\" cx=\"1492.73\" cy=\"591.77\" r=\"14\" fill=\"#3da44d\" fill-rule=\"evenodd\" fill-opacity=\"1\" stroke=\"#000000\" stroke-opacity=\"1\" stroke-width=\"3.2\"/>\n",
       "<circle clip-path=\"url(#clip133)\" cx=\"1585.15\" cy=\"956.154\" r=\"14\" fill=\"#3da44d\" fill-rule=\"evenodd\" fill-opacity=\"1\" stroke=\"#000000\" stroke-opacity=\"1\" stroke-width=\"3.2\"/>\n",
       "<circle clip-path=\"url(#clip133)\" cx=\"1787.77\" cy=\"1479.74\" r=\"14\" fill=\"#3da44d\" fill-rule=\"evenodd\" fill-opacity=\"1\" stroke=\"#000000\" stroke-opacity=\"1\" stroke-width=\"3.2\"/>\n",
       "<circle clip-path=\"url(#clip133)\" cx=\"1693.51\" cy=\"885.314\" r=\"14\" fill=\"#3da44d\" fill-rule=\"evenodd\" fill-opacity=\"1\" stroke=\"#000000\" stroke-opacity=\"1\" stroke-width=\"3.2\"/>\n",
       "<circle clip-path=\"url(#clip133)\" cx=\"1406.74\" cy=\"650.906\" r=\"14\" fill=\"#3da44d\" fill-rule=\"evenodd\" fill-opacity=\"1\" stroke=\"#000000\" stroke-opacity=\"1\" stroke-width=\"3.2\"/>\n",
       "</svg>\n"
      ],
      "image/svg+xml": [
       "<?xml version=\"1.0\" encoding=\"utf-8\"?>\n",
       "<svg xmlns=\"http://www.w3.org/2000/svg\" xmlns:xlink=\"http://www.w3.org/1999/xlink\" width=\"600\" height=\"400\" viewBox=\"0 0 2400 1600\">\n",
       "<defs>\n",
       "  <clipPath id=\"clip100\">\n",
       "    <rect x=\"0\" y=\"0\" width=\"2400\" height=\"1600\"/>\n",
       "  </clipPath>\n",
       "</defs>\n",
       "<path clip-path=\"url(#clip100)\" d=\"\n",
       "M0 1600 L2400 1600 L2400 0 L0 0  Z\n",
       "  \" fill=\"#ffffff\" fill-rule=\"evenodd\" fill-opacity=\"1\"/>\n",
       "<defs>\n",
       "  <clipPath id=\"clip101\">\n",
       "    <rect x=\"480\" y=\"0\" width=\"1681\" height=\"1600\"/>\n",
       "  </clipPath>\n",
       "</defs>\n",
       "<path clip-path=\"url(#clip100)\" d=\"\n",
       "M86.9921 1521.01 L1152.76 1521.01 L1152.76 62.9921 L86.9921 62.9921  Z\n",
       "  \" fill=\"#ffffff\" fill-rule=\"evenodd\" fill-opacity=\"1\"/>\n",
       "<defs>\n",
       "  <clipPath id=\"clip102\">\n",
       "    <rect x=\"86\" y=\"62\" width=\"1067\" height=\"1459\"/>\n",
       "  </clipPath>\n",
       "</defs>\n",
       "<polyline clip-path=\"url(#clip102)\" style=\"stroke:#000000; stroke-width:2; stroke-opacity:0.1; fill:none\" points=\"\n",
       "  196.005,1521.01 196.005,62.9921 \n",
       "  \"/>\n",
       "<polyline clip-path=\"url(#clip102)\" style=\"stroke:#000000; stroke-width:2; stroke-opacity:0.1; fill:none\" points=\"\n",
       "  353.937,1521.01 353.937,62.9921 \n",
       "  \"/>\n",
       "<polyline clip-path=\"url(#clip102)\" style=\"stroke:#000000; stroke-width:2; stroke-opacity:0.1; fill:none\" points=\"\n",
       "  511.869,1521.01 511.869,62.9921 \n",
       "  \"/>\n",
       "<polyline clip-path=\"url(#clip102)\" style=\"stroke:#000000; stroke-width:2; stroke-opacity:0.1; fill:none\" points=\"\n",
       "  669.802,1521.01 669.802,62.9921 \n",
       "  \"/>\n",
       "<polyline clip-path=\"url(#clip102)\" style=\"stroke:#000000; stroke-width:2; stroke-opacity:0.1; fill:none\" points=\"\n",
       "  827.734,1521.01 827.734,62.9921 \n",
       "  \"/>\n",
       "<polyline clip-path=\"url(#clip102)\" style=\"stroke:#000000; stroke-width:2; stroke-opacity:0.1; fill:none\" points=\"\n",
       "  985.666,1521.01 985.666,62.9921 \n",
       "  \"/>\n",
       "<polyline clip-path=\"url(#clip102)\" style=\"stroke:#000000; stroke-width:2; stroke-opacity:0.1; fill:none\" points=\"\n",
       "  1143.6,1521.01 1143.6,62.9921 \n",
       "  \"/>\n",
       "<polyline clip-path=\"url(#clip100)\" style=\"stroke:#000000; stroke-width:4; stroke-opacity:1; fill:none\" points=\"\n",
       "  86.9921,1521.01 1152.76,1521.01 \n",
       "  \"/>\n",
       "<polyline clip-path=\"url(#clip100)\" style=\"stroke:#000000; stroke-width:4; stroke-opacity:1; fill:none\" points=\"\n",
       "  196.005,1521.01 196.005,1503.51 \n",
       "  \"/>\n",
       "<polyline clip-path=\"url(#clip100)\" style=\"stroke:#000000; stroke-width:4; stroke-opacity:1; fill:none\" points=\"\n",
       "  353.937,1521.01 353.937,1503.51 \n",
       "  \"/>\n",
       "<polyline clip-path=\"url(#clip100)\" style=\"stroke:#000000; stroke-width:4; stroke-opacity:1; fill:none\" points=\"\n",
       "  511.869,1521.01 511.869,1503.51 \n",
       "  \"/>\n",
       "<polyline clip-path=\"url(#clip100)\" style=\"stroke:#000000; stroke-width:4; stroke-opacity:1; fill:none\" points=\"\n",
       "  669.802,1521.01 669.802,1503.51 \n",
       "  \"/>\n",
       "<polyline clip-path=\"url(#clip100)\" style=\"stroke:#000000; stroke-width:4; stroke-opacity:1; fill:none\" points=\"\n",
       "  827.734,1521.01 827.734,1503.51 \n",
       "  \"/>\n",
       "<polyline clip-path=\"url(#clip100)\" style=\"stroke:#000000; stroke-width:4; stroke-opacity:1; fill:none\" points=\"\n",
       "  985.666,1521.01 985.666,1503.51 \n",
       "  \"/>\n",
       "<polyline clip-path=\"url(#clip100)\" style=\"stroke:#000000; stroke-width:4; stroke-opacity:1; fill:none\" points=\"\n",
       "  1143.6,1521.01 1143.6,1503.51 \n",
       "  \"/>\n",
       "<path clip-path=\"url(#clip100)\" d=\"M 0 0 M174.99 1558.69 L197.247 1558.69 L197.247 1561.64 L174.99 1561.64 L174.99 1558.69 Z\" fill=\"#000000\" fill-rule=\"evenodd\" fill-opacity=\"1\" /><path clip-path=\"url(#clip100)\" d=\"M 0 0 M211.674 1557.34 Q214.191 1557.87 215.597 1559.58 Q217.021 1561.28 217.021 1563.78 Q217.021 1567.61 214.382 1569.71 Q211.743 1571.82 206.882 1571.82 Q205.25 1571.82 203.514 1571.49 Q201.795 1571.17 199.955 1570.53 L199.955 1567.15 Q201.413 1568 203.149 1568.43 Q204.885 1568.86 206.778 1568.86 Q210.076 1568.86 211.795 1567.56 Q213.531 1566.26 213.531 1563.78 Q213.531 1561.49 211.917 1560.2 Q210.319 1558.9 207.455 1558.9 L204.434 1558.9 L204.434 1556.02 L207.594 1556.02 Q210.181 1556.02 211.552 1554.99 Q212.924 1553.95 212.924 1552.01 Q212.924 1550.01 211.5 1548.95 Q210.094 1547.87 207.455 1547.87 Q206.014 1547.87 204.365 1548.19 Q202.715 1548.5 200.736 1549.16 L200.736 1546.03 Q202.733 1545.48 204.469 1545.2 Q206.222 1544.92 207.767 1544.92 Q211.76 1544.92 214.087 1546.75 Q216.413 1548.55 216.413 1551.64 Q216.413 1553.79 215.181 1555.29 Q213.948 1556.76 211.674 1557.34 Z\" fill=\"#000000\" fill-rule=\"evenodd\" fill-opacity=\"1\" /><path clip-path=\"url(#clip100)\" d=\"M 0 0 M333.278 1558.69 L355.535 1558.69 L355.535 1561.64 L333.278 1561.64 L333.278 1558.69 Z\" fill=\"#000000\" fill-rule=\"evenodd\" fill-opacity=\"1\" /><path clip-path=\"url(#clip100)\" d=\"M 0 0 M362.357 1568.36 L374.597 1568.36 L374.597 1571.31 L358.139 1571.31 L358.139 1568.36 Q360.135 1566.29 363.573 1562.82 Q367.028 1559.33 367.913 1558.33 Q369.597 1556.43 370.257 1555.13 Q370.934 1553.81 370.934 1552.54 Q370.934 1550.48 369.475 1549.18 Q368.035 1547.87 365.708 1547.87 Q364.059 1547.87 362.219 1548.45 Q360.396 1549.02 358.312 1550.18 L358.312 1546.64 Q360.43 1545.79 362.271 1545.36 Q364.111 1544.92 365.639 1544.92 Q369.666 1544.92 372.062 1546.94 Q374.458 1548.95 374.458 1552.32 Q374.458 1553.92 373.85 1555.36 Q373.26 1556.78 371.68 1558.73 Q371.246 1559.23 368.92 1561.64 Q366.594 1564.04 362.357 1568.36 Z\" fill=\"#000000\" fill-rule=\"evenodd\" fill-opacity=\"1\" /><path clip-path=\"url(#clip100)\" d=\"M 0 0 M491.071 1558.69 L513.328 1558.69 L513.328 1561.64 L491.071 1561.64 L491.071 1558.69 Z\" fill=\"#000000\" fill-rule=\"evenodd\" fill-opacity=\"1\" /><path clip-path=\"url(#clip100)\" d=\"M 0 0 M517.737 1568.36 L523.467 1568.36 L523.467 1548.59 L517.234 1549.84 L517.234 1546.64 L523.432 1545.39 L526.939 1545.39 L526.939 1568.36 L532.668 1568.36 L532.668 1571.31 L517.737 1571.31 L517.737 1568.36 Z\" fill=\"#000000\" fill-rule=\"evenodd\" fill-opacity=\"1\" /><path clip-path=\"url(#clip100)\" d=\"M 0 0 M669.802 1547.7 Q667.093 1547.7 665.722 1550.37 Q664.368 1553.03 664.368 1558.38 Q664.368 1563.71 665.722 1566.38 Q667.093 1569.04 669.802 1569.04 Q672.527 1569.04 673.881 1566.38 Q675.253 1563.71 675.253 1558.38 Q675.253 1553.03 673.881 1550.37 Q672.527 1547.7 669.802 1547.7 M669.802 1544.92 Q674.159 1544.92 676.451 1548.38 Q678.76 1551.82 678.76 1558.38 Q678.76 1564.92 676.451 1568.38 Q674.159 1571.82 669.802 1571.82 Q665.444 1571.82 663.135 1568.38 Q660.843 1564.92 660.843 1558.38 Q660.843 1551.82 663.135 1548.38 Q665.444 1544.92 669.802 1544.92 Z\" fill=\"#000000\" fill-rule=\"evenodd\" fill-opacity=\"1\" /><path clip-path=\"url(#clip100)\" d=\"M 0 0 M820.52 1568.36 L826.249 1568.36 L826.249 1548.59 L820.017 1549.84 L820.017 1546.64 L826.215 1545.39 L829.721 1545.39 L829.721 1568.36 L835.451 1568.36 L835.451 1571.31 L820.52 1571.31 L820.52 1568.36 Z\" fill=\"#000000\" fill-rule=\"evenodd\" fill-opacity=\"1\" /><path clip-path=\"url(#clip100)\" d=\"M 0 0 M981.655 1568.36 L993.895 1568.36 L993.895 1571.31 L977.437 1571.31 L977.437 1568.36 Q979.433 1566.29 982.871 1562.82 Q986.325 1559.33 987.211 1558.33 Q988.895 1556.43 989.555 1555.13 Q990.232 1553.81 990.232 1552.54 Q990.232 1550.48 988.773 1549.18 Q987.332 1547.87 985.006 1547.87 Q983.357 1547.87 981.516 1548.45 Q979.693 1549.02 977.61 1550.18 L977.61 1546.64 Q979.728 1545.79 981.568 1545.36 Q983.409 1544.92 984.937 1544.92 Q988.964 1544.92 991.36 1546.94 Q993.756 1548.95 993.756 1552.32 Q993.756 1553.92 993.148 1555.36 Q992.558 1556.78 990.978 1558.73 Q990.544 1559.23 988.218 1561.64 Q985.891 1564.04 981.655 1568.36 Z\" fill=\"#000000\" fill-rule=\"evenodd\" fill-opacity=\"1\" /><path clip-path=\"url(#clip100)\" d=\"M 0 0 M1146.78 1557.34 Q1149.3 1557.87 1150.71 1559.58 Q1152.13 1561.28 1152.13 1563.78 Q1152.13 1567.61 1149.49 1569.71 Q1146.85 1571.82 1141.99 1571.82 Q1140.36 1571.82 1138.62 1571.49 Q1136.91 1571.17 1135.06 1570.53 L1135.06 1567.15 Q1136.52 1568 1138.26 1568.43 Q1140 1568.86 1141.89 1568.86 Q1145.19 1568.86 1146.91 1567.56 Q1148.64 1566.26 1148.64 1563.78 Q1148.64 1561.49 1147.03 1560.2 Q1145.43 1558.9 1142.56 1558.9 L1139.54 1558.9 L1139.54 1556.02 L1142.7 1556.02 Q1145.29 1556.02 1146.66 1554.99 Q1148.03 1553.95 1148.03 1552.01 Q1148.03 1550.01 1146.61 1548.95 Q1145.2 1547.87 1142.56 1547.87 Q1141.12 1547.87 1139.47 1548.19 Q1137.83 1548.5 1135.85 1549.16 L1135.85 1546.03 Q1137.84 1545.48 1139.58 1545.2 Q1141.33 1544.92 1142.88 1544.92 Q1146.87 1544.92 1149.2 1546.75 Q1151.52 1548.55 1151.52 1551.64 Q1151.52 1553.79 1150.29 1555.29 Q1149.06 1556.76 1146.78 1557.34 Z\" fill=\"#000000\" fill-rule=\"evenodd\" fill-opacity=\"1\" /><polyline clip-path=\"url(#clip102)\" style=\"stroke:#000000; stroke-width:2; stroke-opacity:0.1; fill:none\" points=\"\n",
       "  86.9921,1377.01 1152.76,1377.01 \n",
       "  \"/>\n",
       "<polyline clip-path=\"url(#clip102)\" style=\"stroke:#000000; stroke-width:2; stroke-opacity:0.1; fill:none\" points=\"\n",
       "  86.9921,1108.55 1152.76,1108.55 \n",
       "  \"/>\n",
       "<polyline clip-path=\"url(#clip102)\" style=\"stroke:#000000; stroke-width:2; stroke-opacity:0.1; fill:none\" points=\"\n",
       "  86.9921,840.099 1152.76,840.099 \n",
       "  \"/>\n",
       "<polyline clip-path=\"url(#clip102)\" style=\"stroke:#000000; stroke-width:2; stroke-opacity:0.1; fill:none\" points=\"\n",
       "  86.9921,571.646 1152.76,571.646 \n",
       "  \"/>\n",
       "<polyline clip-path=\"url(#clip102)\" style=\"stroke:#000000; stroke-width:2; stroke-opacity:0.1; fill:none\" points=\"\n",
       "  86.9921,303.193 1152.76,303.193 \n",
       "  \"/>\n",
       "<polyline clip-path=\"url(#clip100)\" style=\"stroke:#000000; stroke-width:4; stroke-opacity:1; fill:none\" points=\"\n",
       "  86.9921,1521.01 86.9921,62.9921 \n",
       "  \"/>\n",
       "<polyline clip-path=\"url(#clip100)\" style=\"stroke:#000000; stroke-width:4; stroke-opacity:1; fill:none\" points=\"\n",
       "  86.9921,1377.01 99.7813,1377.01 \n",
       "  \"/>\n",
       "<polyline clip-path=\"url(#clip100)\" style=\"stroke:#000000; stroke-width:4; stroke-opacity:1; fill:none\" points=\"\n",
       "  86.9921,1108.55 99.7813,1108.55 \n",
       "  \"/>\n",
       "<polyline clip-path=\"url(#clip100)\" style=\"stroke:#000000; stroke-width:4; stroke-opacity:1; fill:none\" points=\"\n",
       "  86.9921,840.099 99.7813,840.099 \n",
       "  \"/>\n",
       "<polyline clip-path=\"url(#clip100)\" style=\"stroke:#000000; stroke-width:4; stroke-opacity:1; fill:none\" points=\"\n",
       "  86.9921,571.646 99.7813,571.646 \n",
       "  \"/>\n",
       "<polyline clip-path=\"url(#clip100)\" style=\"stroke:#000000; stroke-width:4; stroke-opacity:1; fill:none\" points=\"\n",
       "  86.9921,303.193 99.7813,303.193 \n",
       "  \"/>\n",
       "<path clip-path=\"url(#clip100)\" d=\"M 0 0 M-41.4379 1377.46 L-11.7622 1377.46 L-11.7622 1381.39 L-41.4379 1381.39 L-41.4379 1377.46 Z\" fill=\"#000000\" fill-rule=\"evenodd\" fill-opacity=\"1\" /><path clip-path=\"url(#clip100)\" d=\"M 0 0 M-5.88257 1390.35 L1.75628 1390.35 L1.75628 1363.98 L-6.55386 1365.65 L-6.55386 1361.39 L1.70998 1359.73 L6.38588 1359.73 L6.38588 1390.35 L14.0247 1390.35 L14.0247 1394.29 L-5.88257 1394.29 L-5.88257 1390.35 Z\" fill=\"#000000\" fill-rule=\"evenodd\" fill-opacity=\"1\" /><path clip-path=\"url(#clip100)\" d=\"M 0 0 M19.0941 1388.41 L23.9784 1388.41 L23.9784 1394.29 L19.0941 1394.29 L19.0941 1388.41 Z\" fill=\"#000000\" fill-rule=\"evenodd\" fill-opacity=\"1\" /><path clip-path=\"url(#clip100)\" d=\"M 0 0 M39.0477 1362.8 Q35.4367 1362.8 33.608 1366.37 Q31.8024 1369.91 31.8024 1377.04 Q31.8024 1384.15 33.608 1387.71 Q35.4367 1391.25 39.0477 1391.25 Q42.682 1391.25 44.4875 1387.71 Q46.3162 1384.15 46.3162 1377.04 Q46.3162 1369.91 44.4875 1366.37 Q42.682 1362.8 39.0477 1362.8 M39.0477 1359.1 Q44.8579 1359.1 47.9134 1363.71 Q50.9921 1368.29 50.9921 1377.04 Q50.9921 1385.77 47.9134 1390.37 Q44.8579 1394.96 39.0477 1394.96 Q33.2376 1394.96 30.1589 1390.37 Q27.1034 1385.77 27.1034 1377.04 Q27.1034 1368.29 30.1589 1363.71 Q33.2376 1359.1 39.0477 1359.1 Z\" fill=\"#000000\" fill-rule=\"evenodd\" fill-opacity=\"1\" /><path clip-path=\"url(#clip100)\" d=\"M 0 0 M-41.6694 1109 L-11.9936 1109 L-11.9936 1112.94 L-41.6694 1112.94 L-41.6694 1109 Z\" fill=\"#000000\" fill-rule=\"evenodd\" fill-opacity=\"1\" /><path clip-path=\"url(#clip100)\" d=\"M 0 0 M3.07572 1094.35 Q-0.535376 1094.35 -2.36407 1097.92 Q-4.16962 1101.46 -4.16962 1108.59 Q-4.16962 1115.69 -2.36407 1119.26 Q-0.535376 1122.8 3.07572 1122.8 Q6.70996 1122.8 8.5155 1119.26 Q10.3442 1115.69 10.3442 1108.59 Q10.3442 1101.46 8.5155 1097.92 Q6.70996 1094.35 3.07572 1094.35 M3.07572 1090.65 Q8.88587 1090.65 11.9414 1095.25 Q15.0201 1099.84 15.0201 1108.59 Q15.0201 1117.31 11.9414 1121.92 Q8.88587 1126.5 3.07572 1126.5 Q-2.73444 1126.5 -5.81313 1121.92 Q-8.86866 1117.31 -8.86866 1108.59 Q-8.86866 1099.84 -5.81313 1095.25 Q-2.73444 1090.65 3.07572 1090.65 Z\" fill=\"#000000\" fill-rule=\"evenodd\" fill-opacity=\"1\" /><path clip-path=\"url(#clip100)\" d=\"M 0 0 M20.0895 1119.95 L24.9737 1119.95 L24.9737 1125.83 L20.0895 1125.83 L20.0895 1119.95 Z\" fill=\"#000000\" fill-rule=\"evenodd\" fill-opacity=\"1\" /><path clip-path=\"url(#clip100)\" d=\"M 0 0 M30.0895 1091.27 L48.4458 1091.27 L48.4458 1095.21 L34.3718 1095.21 L34.3718 1103.68 Q35.3904 1103.33 36.4089 1103.17 Q37.4274 1102.99 38.4459 1102.99 Q44.2329 1102.99 47.6125 1106.16 Q50.9921 1109.33 50.9921 1114.74 Q50.9921 1120.32 47.5199 1123.42 Q44.0477 1126.5 37.7283 1126.5 Q35.5524 1126.5 33.2839 1126.13 Q31.0385 1125.76 28.6311 1125.02 L28.6311 1120.32 Q30.7145 1121.46 32.9367 1122.01 Q35.1589 1122.57 37.6357 1122.57 Q41.6403 1122.57 43.9783 1120.46 Q46.3162 1118.36 46.3162 1114.74 Q46.3162 1111.13 43.9783 1109.03 Q41.6403 1106.92 37.6357 1106.92 Q35.7607 1106.92 33.8857 1107.34 Q32.0339 1107.75 30.0895 1108.63 L30.0895 1091.27 Z\" fill=\"#000000\" fill-rule=\"evenodd\" fill-opacity=\"1\" /><path clip-path=\"url(#clip100)\" d=\"M 0 0 M2.08035 825.898 Q-1.53074 825.898 -3.35943 829.463 Q-5.16498 833.004 -5.16498 840.134 Q-5.16498 847.241 -3.35943 850.805 Q-1.53074 854.347 2.08035 854.347 Q5.71459 854.347 7.52014 850.805 Q9.34883 847.241 9.34883 840.134 Q9.34883 833.004 7.52014 829.463 Q5.71459 825.898 2.08035 825.898 M2.08035 822.194 Q7.89051 822.194 10.946 826.801 Q14.0247 831.384 14.0247 840.134 Q14.0247 848.861 10.946 853.467 Q7.89051 858.051 2.08035 858.051 Q-3.7298 858.051 -6.80849 853.467 Q-9.86403 848.861 -9.86403 840.134 Q-9.86403 831.384 -6.80849 826.801 Q-3.7298 822.194 2.08035 822.194 Z\" fill=\"#000000\" fill-rule=\"evenodd\" fill-opacity=\"1\" /><path clip-path=\"url(#clip100)\" d=\"M 0 0 M19.0941 851.5 L23.9784 851.5 L23.9784 857.379 L19.0941 857.379 L19.0941 851.5 Z\" fill=\"#000000\" fill-rule=\"evenodd\" fill-opacity=\"1\" /><path clip-path=\"url(#clip100)\" d=\"M 0 0 M39.0477 825.898 Q35.4367 825.898 33.608 829.463 Q31.8024 833.004 31.8024 840.134 Q31.8024 847.241 33.608 850.805 Q35.4367 854.347 39.0477 854.347 Q42.682 854.347 44.4875 850.805 Q46.3162 847.241 46.3162 840.134 Q46.3162 833.004 44.4875 829.463 Q42.682 825.898 39.0477 825.898 M39.0477 822.194 Q44.8579 822.194 47.9134 826.801 Q50.9921 831.384 50.9921 840.134 Q50.9921 848.861 47.9134 853.467 Q44.8579 858.051 39.0477 858.051 Q33.2376 858.051 30.1589 853.467 Q27.1034 848.861 27.1034 840.134 Q27.1034 831.384 30.1589 826.801 Q33.2376 822.194 39.0477 822.194 Z\" fill=\"#000000\" fill-rule=\"evenodd\" fill-opacity=\"1\" /><path clip-path=\"url(#clip100)\" d=\"M 0 0 M3.07572 557.445 Q-0.535376 557.445 -2.36407 561.01 Q-4.16962 564.551 -4.16962 571.681 Q-4.16962 578.788 -2.36407 582.352 Q-0.535376 585.894 3.07572 585.894 Q6.70996 585.894 8.5155 582.352 Q10.3442 578.788 10.3442 571.681 Q10.3442 564.551 8.5155 561.01 Q6.70996 557.445 3.07572 557.445 M3.07572 553.741 Q8.88587 553.741 11.9414 558.348 Q15.0201 562.931 15.0201 571.681 Q15.0201 580.408 11.9414 585.014 Q8.88587 589.598 3.07572 589.598 Q-2.73444 589.598 -5.81313 585.014 Q-8.86866 580.408 -8.86866 571.681 Q-8.86866 562.931 -5.81313 558.348 Q-2.73444 553.741 3.07572 553.741 Z\" fill=\"#000000\" fill-rule=\"evenodd\" fill-opacity=\"1\" /><path clip-path=\"url(#clip100)\" d=\"M 0 0 M20.0895 583.047 L24.9737 583.047 L24.9737 588.926 L20.0895 588.926 L20.0895 583.047 Z\" fill=\"#000000\" fill-rule=\"evenodd\" fill-opacity=\"1\" /><path clip-path=\"url(#clip100)\" d=\"M 0 0 M30.0895 554.366 L48.4458 554.366 L48.4458 558.302 L34.3718 558.302 L34.3718 566.774 Q35.3904 566.426 36.4089 566.264 Q37.4274 566.079 38.4459 566.079 Q44.2329 566.079 47.6125 569.251 Q50.9921 572.422 50.9921 577.838 Q50.9921 583.417 47.5199 586.519 Q44.0477 589.598 37.7283 589.598 Q35.5524 589.598 33.2839 589.227 Q31.0385 588.857 28.6311 588.116 L28.6311 583.417 Q30.7145 584.551 32.9367 585.107 Q35.1589 585.662 37.6357 585.662 Q41.6403 585.662 43.9783 583.556 Q46.3162 581.45 46.3162 577.838 Q46.3162 574.227 43.9783 572.121 Q41.6403 570.014 37.6357 570.014 Q35.7607 570.014 33.8857 570.431 Q32.0339 570.848 30.0895 571.727 L30.0895 554.366 Z\" fill=\"#000000\" fill-rule=\"evenodd\" fill-opacity=\"1\" /><path clip-path=\"url(#clip100)\" d=\"M 0 0 M-5.88257 316.538 L1.75628 316.538 L1.75628 290.173 L-6.55386 291.839 L-6.55386 287.58 L1.70998 285.913 L6.38588 285.913 L6.38588 316.538 L14.0247 316.538 L14.0247 320.473 L-5.88257 320.473 L-5.88257 316.538 Z\" fill=\"#000000\" fill-rule=\"evenodd\" fill-opacity=\"1\" /><path clip-path=\"url(#clip100)\" d=\"M 0 0 M19.0941 314.594 L23.9784 314.594 L23.9784 320.473 L19.0941 320.473 L19.0941 314.594 Z\" fill=\"#000000\" fill-rule=\"evenodd\" fill-opacity=\"1\" /><path clip-path=\"url(#clip100)\" d=\"M 0 0 M39.0477 288.992 Q35.4367 288.992 33.608 292.557 Q31.8024 296.098 31.8024 303.228 Q31.8024 310.334 33.608 313.899 Q35.4367 317.441 39.0477 317.441 Q42.682 317.441 44.4875 313.899 Q46.3162 310.334 46.3162 303.228 Q46.3162 296.098 44.4875 292.557 Q42.682 288.992 39.0477 288.992 M39.0477 285.288 Q44.8579 285.288 47.9134 289.895 Q50.9921 294.478 50.9921 303.228 Q50.9921 311.955 47.9134 316.561 Q44.8579 321.145 39.0477 321.145 Q33.2376 321.145 30.1589 316.561 Q27.1034 311.955 27.1034 303.228 Q27.1034 294.478 30.1589 289.895 Q33.2376 285.288 39.0477 285.288 Z\" fill=\"#000000\" fill-rule=\"evenodd\" fill-opacity=\"1\" /><path clip-path=\"url(#clip100)\" d=\"M 0 0 M410.581 6.912 L430.442 6.912 L430.442 10.8472 L415.257 10.8472 L415.257 21.0323 L428.961 21.0323 L428.961 24.9675 L415.257 24.9675 L415.257 41.472 L410.581 41.472 L410.581 6.912 Z\" fill=\"#000000\" fill-rule=\"evenodd\" fill-opacity=\"1\" /><path clip-path=\"url(#clip100)\" d=\"M 0 0 M431.877 31.2406 L431.877 15.5462 L436.137 15.5462 L436.137 31.0785 Q436.137 34.7591 437.572 36.6109 Q439.007 38.4396 441.877 38.4396 Q445.326 38.4396 447.317 36.2405 Q449.331 34.0415 449.331 30.2452 L449.331 15.5462 L453.59 15.5462 L453.59 41.472 L449.331 41.472 L449.331 37.4905 Q447.78 39.8516 445.72 41.009 Q443.683 42.1433 440.975 42.1433 Q436.507 42.1433 434.192 39.3655 Q431.877 36.5878 431.877 31.2406 M442.595 14.9212 L442.595 14.9212 Z\" fill=\"#000000\" fill-rule=\"evenodd\" fill-opacity=\"1\" /><path clip-path=\"url(#clip100)\" d=\"M 0 0 M456.206 15.5462 L476.437 15.5462 L476.437 19.4351 L460.419 38.0692 L476.437 38.0692 L476.437 41.472 L455.627 41.472 L455.627 37.5831 L471.646 18.949 L456.206 18.949 L456.206 15.5462 Z\" fill=\"#000000\" fill-rule=\"evenodd\" fill-opacity=\"1\" /><path clip-path=\"url(#clip100)\" d=\"M 0 0 M479.053 15.5462 L499.284 15.5462 L499.284 19.4351 L483.266 38.0692 L499.284 38.0692 L499.284 41.472 L478.474 41.472 L478.474 37.5831 L494.493 18.949 L479.053 18.949 L479.053 15.5462 Z\" fill=\"#000000\" fill-rule=\"evenodd\" fill-opacity=\"1\" /><path clip-path=\"url(#clip100)\" d=\"M 0 0 M514.539 43.8794 Q512.733 48.509 511.02 49.921 Q509.307 51.3331 506.437 51.3331 L503.034 51.3331 L503.034 47.7683 L505.534 47.7683 Q507.294 47.7683 508.266 46.9349 Q509.238 46.1016 510.419 42.9998 L511.182 41.0553 L500.696 15.5462 L505.21 15.5462 L513.312 35.8239 L521.414 15.5462 L525.928 15.5462 L514.539 43.8794 Z\" fill=\"#000000\" fill-rule=\"evenodd\" fill-opacity=\"1\" /><path clip-path=\"url(#clip100)\" d=\"M 0 0 M542.131 11.5185 L535.789 28.7174 L548.497 28.7174 L542.131 11.5185 M539.493 6.912 L544.793 6.912 L557.965 41.472 L553.104 41.472 L549.955 32.6063 L534.377 32.6063 L531.229 41.472 L526.298 41.472 L539.493 6.912 Z\" fill=\"#000000\" fill-rule=\"evenodd\" fill-opacity=\"1\" /><path clip-path=\"url(#clip100)\" d=\"M 0 0 M579.006 25.2684 Q580.511 25.7776 581.923 27.4443 Q583.358 29.111 584.793 32.0276 L589.539 41.472 L584.515 41.472 L580.094 32.6063 Q578.381 29.1341 576.761 27.9998 Q575.164 26.8656 572.386 26.8656 L567.293 26.8656 L567.293 41.472 L562.617 41.472 L562.617 6.912 L573.173 6.912 Q579.099 6.912 582.015 9.38884 Q584.932 11.8657 584.932 16.8657 Q584.932 20.1295 583.404 22.2823 Q581.9 24.4351 579.006 25.2684 M567.293 10.7546 L567.293 23.023 L573.173 23.023 Q576.552 23.023 578.265 21.4721 Q580.002 19.898 580.002 16.8657 Q580.002 13.8333 578.265 12.3055 Q576.552 10.7546 573.173 10.7546 L567.293 10.7546 Z\" fill=\"#000000\" fill-rule=\"evenodd\" fill-opacity=\"1\" /><path clip-path=\"url(#clip100)\" d=\"M 0 0 M585.951 6.912 L615.187 6.912 L615.187 10.8472 L602.918 10.8472 L602.918 41.472 L598.219 41.472 L598.219 10.8472 L585.951 10.8472 L585.951 6.912 Z\" fill=\"#000000\" fill-rule=\"evenodd\" fill-opacity=\"1\" /><path clip-path=\"url(#clip100)\" d=\"M 0 0 M649.747 19.5277 Q649.029 19.111 648.172 18.9258 Q647.339 18.7175 646.321 18.7175 Q642.71 18.7175 640.765 21.0786 Q638.844 23.4165 638.844 27.8147 L638.844 41.472 L634.561 41.472 L634.561 15.5462 L638.844 15.5462 L638.844 19.574 Q640.186 17.2129 642.339 16.0786 Q644.492 14.9212 647.571 14.9212 Q648.01 14.9212 648.543 14.9907 Q649.075 15.037 649.723 15.1527 L649.747 19.5277 Z\" fill=\"#000000\" fill-rule=\"evenodd\" fill-opacity=\"1\" /><path clip-path=\"url(#clip100)\" d=\"M 0 0 M674.932 25.8239 L674.932 41.472 L670.672 41.472 L670.672 25.9628 Q670.672 22.2823 669.237 20.4536 Q667.802 18.6249 664.932 18.6249 Q661.483 18.6249 659.492 20.824 Q657.501 23.023 657.501 26.8193 L657.501 41.472 L653.219 41.472 L653.219 5.45367 L657.501 5.45367 L657.501 19.574 Q659.029 17.236 661.089 16.0786 Q663.172 14.9212 665.881 14.9212 Q670.348 14.9212 672.64 17.699 Q674.932 20.4536 674.932 25.8239 Z\" fill=\"#000000\" fill-rule=\"evenodd\" fill-opacity=\"1\" /><path clip-path=\"url(#clip100)\" d=\"M 0 0 M689.445 18.5323 Q686.019 18.5323 684.029 21.2175 Q682.038 23.8795 682.038 28.5323 Q682.038 33.185 684.006 35.8702 Q685.996 38.5322 689.445 38.5322 Q692.848 38.5322 694.839 35.847 Q696.83 33.1619 696.83 28.5323 Q696.83 23.9258 694.839 21.2406 Q692.848 18.5323 689.445 18.5323 M689.445 14.9212 Q695.001 14.9212 698.172 18.5323 Q701.343 22.1434 701.343 28.5323 Q701.343 34.898 698.172 38.5322 Q695.001 42.1433 689.445 42.1433 Q683.867 42.1433 680.695 38.5322 Q677.547 34.898 677.547 28.5323 Q677.547 22.1434 680.695 18.5323 Q683.867 14.9212 689.445 14.9212 Z\" fill=\"#000000\" fill-rule=\"evenodd\" fill-opacity=\"1\" /><path clip-path=\"url(#clip100)\" d=\"M 0 0 M721.436 19.9443 L751.112 19.9443 L751.112 23.8332 L721.436 23.8332 L721.436 19.9443 M721.436 29.3887 L751.112 29.3887 L751.112 33.3239 L721.436 33.3239 L721.436 29.3887 Z\" fill=\"#000000\" fill-rule=\"evenodd\" fill-opacity=\"1\" /><path clip-path=\"url(#clip100)\" d=\"M 0 0 M781.25 9.99069 Q777.639 9.99069 775.811 13.5555 Q774.005 17.0971 774.005 24.2267 Q774.005 31.3332 775.811 34.898 Q777.639 38.4396 781.25 38.4396 Q784.885 38.4396 786.69 34.898 Q788.519 31.3332 788.519 24.2267 Q788.519 17.0971 786.69 13.5555 Q784.885 9.99069 781.25 9.99069 M781.25 6.287 Q787.061 6.287 790.116 10.8935 Q793.195 15.4768 793.195 24.2267 Q793.195 32.9535 790.116 37.56 Q787.061 42.1433 781.25 42.1433 Q775.44 42.1433 772.362 37.56 Q769.306 32.9535 769.306 24.2267 Q769.306 15.4768 772.362 10.8935 Q775.44 6.287 781.25 6.287 Z\" fill=\"#000000\" fill-rule=\"evenodd\" fill-opacity=\"1\" /><path clip-path=\"url(#clip100)\" d=\"M 0 0 M798.264 35.5924 L803.148 35.5924 L803.148 41.472 L798.264 41.472 L798.264 35.5924 Z\" fill=\"#000000\" fill-rule=\"evenodd\" fill-opacity=\"1\" /><path clip-path=\"url(#clip100)\" d=\"M 0 0 M808.264 6.912 L826.621 6.912 L826.621 10.8472 L812.547 10.8472 L812.547 19.3193 Q813.565 18.9721 814.584 18.8101 Q815.602 18.6249 816.621 18.6249 Q822.408 18.6249 825.787 21.7962 Q829.167 24.9675 829.167 30.3841 Q829.167 35.9628 825.695 39.0646 Q822.222 42.1433 815.903 42.1433 Q813.727 42.1433 811.459 41.7729 Q809.213 41.4026 806.806 40.6618 L806.806 35.9628 Q808.889 37.097 811.111 37.6526 Q813.334 38.2081 815.81 38.2081 Q819.815 38.2081 822.153 36.1017 Q824.491 33.9952 824.491 30.3841 Q824.491 26.773 822.153 24.6665 Q819.815 22.5601 815.81 22.5601 Q813.935 22.5601 812.06 22.9767 Q810.209 23.3934 808.264 24.273 L808.264 6.912 Z\" fill=\"#000000\" fill-rule=\"evenodd\" fill-opacity=\"1\" /><circle clip-path=\"url(#clip102)\" cx=\"1118.38\" cy=\"958.528\" r=\"14\" fill=\"#009af9\" fill-rule=\"evenodd\" fill-opacity=\"1\" stroke=\"#000000\" stroke-opacity=\"1\" stroke-width=\"3.2\"/>\n",
       "<circle clip-path=\"url(#clip102)\" cx=\"1122.59\" cy=\"798.654\" r=\"14\" fill=\"#009af9\" fill-rule=\"evenodd\" fill-opacity=\"1\" stroke=\"#000000\" stroke-opacity=\"1\" stroke-width=\"3.2\"/>\n",
       "<circle clip-path=\"url(#clip102)\" cx=\"1078.43\" cy=\"560.654\" r=\"14\" fill=\"#009af9\" fill-rule=\"evenodd\" fill-opacity=\"1\" stroke=\"#000000\" stroke-opacity=\"1\" stroke-width=\"3.2\"/>\n",
       "<circle clip-path=\"url(#clip102)\" cx=\"1083.98\" cy=\"400.862\" r=\"14\" fill=\"#009af9\" fill-rule=\"evenodd\" fill-opacity=\"1\" stroke=\"#000000\" stroke-opacity=\"1\" stroke-width=\"3.2\"/>\n",
       "<circle clip-path=\"url(#clip102)\" cx=\"1084.41\" cy=\"514.305\" r=\"14\" fill=\"#009af9\" fill-rule=\"evenodd\" fill-opacity=\"1\" stroke=\"#000000\" stroke-opacity=\"1\" stroke-width=\"3.2\"/>\n",
       "<circle clip-path=\"url(#clip102)\" cx=\"1049.71\" cy=\"734.91\" r=\"14\" fill=\"#009af9\" fill-rule=\"evenodd\" fill-opacity=\"1\" stroke=\"#000000\" stroke-opacity=\"1\" stroke-width=\"3.2\"/>\n",
       "<circle clip-path=\"url(#clip102)\" cx=\"1065.88\" cy=\"914.76\" r=\"14\" fill=\"#009af9\" fill-rule=\"evenodd\" fill-opacity=\"1\" stroke=\"#000000\" stroke-opacity=\"1\" stroke-width=\"3.2\"/>\n",
       "<circle clip-path=\"url(#clip102)\" cx=\"1065.66\" cy=\"490.072\" r=\"14\" fill=\"#009af9\" fill-rule=\"evenodd\" fill-opacity=\"1\" stroke=\"#000000\" stroke-opacity=\"1\" stroke-width=\"3.2\"/>\n",
       "<circle clip-path=\"url(#clip102)\" cx=\"1088.06\" cy=\"668.753\" r=\"14\" fill=\"#009af9\" fill-rule=\"evenodd\" fill-opacity=\"1\" stroke=\"#000000\" stroke-opacity=\"1\" stroke-width=\"3.2\"/>\n",
       "<circle clip-path=\"url(#clip102)\" cx=\"1059.74\" cy=\"766.067\" r=\"14\" fill=\"#009af9\" fill-rule=\"evenodd\" fill-opacity=\"1\" stroke=\"#000000\" stroke-opacity=\"1\" stroke-width=\"3.2\"/>\n",
       "<circle clip-path=\"url(#clip102)\" cx=\"1092.09\" cy=\"897.383\" r=\"14\" fill=\"#009af9\" fill-rule=\"evenodd\" fill-opacity=\"1\" stroke=\"#000000\" stroke-opacity=\"1\" stroke-width=\"3.2\"/>\n",
       "<circle clip-path=\"url(#clip102)\" cx=\"1107.3\" cy=\"694.566\" r=\"14\" fill=\"#009af9\" fill-rule=\"evenodd\" fill-opacity=\"1\" stroke=\"#000000\" stroke-opacity=\"1\" stroke-width=\"3.2\"/>\n",
       "<circle clip-path=\"url(#clip102)\" cx=\"1029.87\" cy=\"438.61\" r=\"14\" fill=\"#009af9\" fill-rule=\"evenodd\" fill-opacity=\"1\" stroke=\"#000000\" stroke-opacity=\"1\" stroke-width=\"3.2\"/>\n",
       "<circle clip-path=\"url(#clip102)\" cx=\"1098.65\" cy=\"931.135\" r=\"14\" fill=\"#009af9\" fill-rule=\"evenodd\" fill-opacity=\"1\" stroke=\"#000000\" stroke-opacity=\"1\" stroke-width=\"3.2\"/>\n",
       "<circle clip-path=\"url(#clip102)\" cx=\"1070.57\" cy=\"566.08\" r=\"14\" fill=\"#009af9\" fill-rule=\"evenodd\" fill-opacity=\"1\" stroke=\"#000000\" stroke-opacity=\"1\" stroke-width=\"3.2\"/>\n",
       "<circle clip-path=\"url(#clip102)\" cx=\"541.424\" cy=\"1039.12\" r=\"14\" fill=\"#e26f46\" fill-rule=\"evenodd\" fill-opacity=\"1\" stroke=\"#000000\" stroke-opacity=\"1\" stroke-width=\"3.2\"/>\n",
       "<circle clip-path=\"url(#clip102)\" cx=\"622.768\" cy=\"1026.41\" r=\"14\" fill=\"#e26f46\" fill-rule=\"evenodd\" fill-opacity=\"1\" stroke=\"#000000\" stroke-opacity=\"1\" stroke-width=\"3.2\"/>\n",
       "<circle clip-path=\"url(#clip102)\" cx=\"641.221\" cy=\"1283.37\" r=\"14\" fill=\"#e26f46\" fill-rule=\"evenodd\" fill-opacity=\"1\" stroke=\"#000000\" stroke-opacity=\"1\" stroke-width=\"3.2\"/>\n",
       "<circle clip-path=\"url(#clip102)\" cx=\"465.048\" cy=\"1015.97\" r=\"14\" fill=\"#e26f46\" fill-rule=\"evenodd\" fill-opacity=\"1\" stroke=\"#000000\" stroke-opacity=\"1\" stroke-width=\"3.2\"/>\n",
       "<circle clip-path=\"url(#clip102)\" cx=\"557.037\" cy=\"759.36\" r=\"14\" fill=\"#e26f46\" fill-rule=\"evenodd\" fill-opacity=\"1\" stroke=\"#000000\" stroke-opacity=\"1\" stroke-width=\"3.2\"/>\n",
       "<circle clip-path=\"url(#clip102)\" cx=\"520.972\" cy=\"1131.01\" r=\"14\" fill=\"#e26f46\" fill-rule=\"evenodd\" fill-opacity=\"1\" stroke=\"#000000\" stroke-opacity=\"1\" stroke-width=\"3.2\"/>\n",
       "<circle clip-path=\"url(#clip102)\" cx=\"466.891\" cy=\"472.083\" r=\"14\" fill=\"#e26f46\" fill-rule=\"evenodd\" fill-opacity=\"1\" stroke=\"#000000\" stroke-opacity=\"1\" stroke-width=\"3.2\"/>\n",
       "<circle clip-path=\"url(#clip102)\" cx=\"505.031\" cy=\"717.171\" r=\"14\" fill=\"#e26f46\" fill-rule=\"evenodd\" fill-opacity=\"1\" stroke=\"#000000\" stroke-opacity=\"1\" stroke-width=\"3.2\"/>\n",
       "<circle clip-path=\"url(#clip102)\" cx=\"781.472\" cy=\"1381.53\" r=\"14\" fill=\"#e26f46\" fill-rule=\"evenodd\" fill-opacity=\"1\" stroke=\"#000000\" stroke-opacity=\"1\" stroke-width=\"3.2\"/>\n",
       "<circle clip-path=\"url(#clip102)\" cx=\"438.579\" cy=\"569.397\" r=\"14\" fill=\"#e26f46\" fill-rule=\"evenodd\" fill-opacity=\"1\" stroke=\"#000000\" stroke-opacity=\"1\" stroke-width=\"3.2\"/>\n",
       "<circle clip-path=\"url(#clip102)\" cx=\"565.631\" cy=\"1029.08\" r=\"14\" fill=\"#e26f46\" fill-rule=\"evenodd\" fill-opacity=\"1\" stroke=\"#000000\" stroke-opacity=\"1\" stroke-width=\"3.2\"/>\n",
       "<circle clip-path=\"url(#clip102)\" cx=\"529.217\" cy=\"858.253\" r=\"14\" fill=\"#e26f46\" fill-rule=\"evenodd\" fill-opacity=\"1\" stroke=\"#000000\" stroke-opacity=\"1\" stroke-width=\"3.2\"/>\n",
       "<circle clip-path=\"url(#clip102)\" cx=\"587.774\" cy=\"1479.74\" r=\"14\" fill=\"#e26f46\" fill-rule=\"evenodd\" fill-opacity=\"1\" stroke=\"#000000\" stroke-opacity=\"1\" stroke-width=\"3.2\"/>\n",
       "<circle clip-path=\"url(#clip102)\" cx=\"633.654\" cy=\"1056.07\" r=\"14\" fill=\"#e26f46\" fill-rule=\"evenodd\" fill-opacity=\"1\" stroke=\"#000000\" stroke-opacity=\"1\" stroke-width=\"3.2\"/>\n",
       "<circle clip-path=\"url(#clip102)\" cx=\"493.511\" cy=\"885.314\" r=\"14\" fill=\"#e26f46\" fill-rule=\"evenodd\" fill-opacity=\"1\" stroke=\"#000000\" stroke-opacity=\"1\" stroke-width=\"3.2\"/>\n",
       "<circle clip-path=\"url(#clip102)\" cx=\"662.972\" cy=\"1152.3\" r=\"14\" fill=\"#e26f46\" fill-rule=\"evenodd\" fill-opacity=\"1\" stroke=\"#000000\" stroke-opacity=\"1\" stroke-width=\"3.2\"/>\n",
       "<circle clip-path=\"url(#clip102)\" cx=\"221.123\" cy=\"639.972\" r=\"14\" fill=\"#3da44d\" fill-rule=\"evenodd\" fill-opacity=\"1\" stroke=\"#000000\" stroke-opacity=\"1\" stroke-width=\"3.2\"/>\n",
       "<circle clip-path=\"url(#clip102)\" cx=\"366.185\" cy=\"620.359\" r=\"14\" fill=\"#3da44d\" fill-rule=\"evenodd\" fill-opacity=\"1\" stroke=\"#000000\" stroke-opacity=\"1\" stroke-width=\"3.2\"/>\n",
       "<circle clip-path=\"url(#clip102)\" cx=\"419.437\" cy=\"1129.66\" r=\"14\" fill=\"#3da44d\" fill-rule=\"evenodd\" fill-opacity=\"1\" stroke=\"#000000\" stroke-opacity=\"1\" stroke-width=\"3.2\"/>\n",
       "<circle clip-path=\"url(#clip102)\" cx=\"450.644\" cy=\"949.645\" r=\"14\" fill=\"#3da44d\" fill-rule=\"evenodd\" fill-opacity=\"1\" stroke=\"#000000\" stroke-opacity=\"1\" stroke-width=\"3.2\"/>\n",
       "<circle clip-path=\"url(#clip102)\" cx=\"304.299\" cy=\"742.056\" r=\"14\" fill=\"#3da44d\" fill-rule=\"evenodd\" fill-opacity=\"1\" stroke=\"#000000\" stroke-opacity=\"1\" stroke-width=\"3.2\"/>\n",
       "<circle clip-path=\"url(#clip102)\" cx=\"264.971\" cy=\"691.927\" r=\"14\" fill=\"#3da44d\" fill-rule=\"evenodd\" fill-opacity=\"1\" stroke=\"#000000\" stroke-opacity=\"1\" stroke-width=\"3.2\"/>\n",
       "<circle clip-path=\"url(#clip102)\" cx=\"446.474\" cy=\"1148.78\" r=\"14\" fill=\"#3da44d\" fill-rule=\"evenodd\" fill-opacity=\"1\" stroke=\"#000000\" stroke-opacity=\"1\" stroke-width=\"3.2\"/>\n",
       "<circle clip-path=\"url(#clip102)\" cx=\"465.963\" cy=\"902.609\" r=\"14\" fill=\"#3da44d\" fill-rule=\"evenodd\" fill-opacity=\"1\" stroke=\"#000000\" stroke-opacity=\"1\" stroke-width=\"3.2\"/>\n",
       "<circle clip-path=\"url(#clip102)\" cx=\"361.953\" cy=\"818.231\" r=\"14\" fill=\"#3da44d\" fill-rule=\"evenodd\" fill-opacity=\"1\" stroke=\"#000000\" stroke-opacity=\"1\" stroke-width=\"3.2\"/>\n",
       "<circle clip-path=\"url(#clip102)\" cx=\"117.155\" cy=\"594.855\" r=\"14\" fill=\"#3da44d\" fill-rule=\"evenodd\" fill-opacity=\"1\" stroke=\"#000000\" stroke-opacity=\"1\" stroke-width=\"3.2\"/>\n",
       "<circle clip-path=\"url(#clip102)\" cx=\"159.311\" cy=\"104.257\" r=\"14\" fill=\"#3da44d\" fill-rule=\"evenodd\" fill-opacity=\"1\" stroke=\"#000000\" stroke-opacity=\"1\" stroke-width=\"3.2\"/>\n",
       "<circle clip-path=\"url(#clip102)\" cx=\"292.729\" cy=\"591.77\" r=\"14\" fill=\"#3da44d\" fill-rule=\"evenodd\" fill-opacity=\"1\" stroke=\"#000000\" stroke-opacity=\"1\" stroke-width=\"3.2\"/>\n",
       "<circle clip-path=\"url(#clip102)\" cx=\"385.154\" cy=\"956.154\" r=\"14\" fill=\"#3da44d\" fill-rule=\"evenodd\" fill-opacity=\"1\" stroke=\"#000000\" stroke-opacity=\"1\" stroke-width=\"3.2\"/>\n",
       "<circle clip-path=\"url(#clip102)\" cx=\"206.744\" cy=\"650.906\" r=\"14\" fill=\"#3da44d\" fill-rule=\"evenodd\" fill-opacity=\"1\" stroke=\"#000000\" stroke-opacity=\"1\" stroke-width=\"3.2\"/>\n",
       "<path clip-path=\"url(#clip100)\" d=\"\n",
       "M1286.99 1521.01 L2352.76 1521.01 L2352.76 62.9921 L1286.99 62.9921  Z\n",
       "  \" fill=\"#ffffff\" fill-rule=\"evenodd\" fill-opacity=\"1\"/>\n",
       "<defs>\n",
       "  <clipPath id=\"clip103\">\n",
       "    <rect x=\"1286\" y=\"62\" width=\"1067\" height=\"1459\"/>\n",
       "  </clipPath>\n",
       "</defs>\n",
       "<polyline clip-path=\"url(#clip103)\" style=\"stroke:#000000; stroke-width:2; stroke-opacity:0.1; fill:none\" points=\"\n",
       "  1396.01,1521.01 1396.01,62.9921 \n",
       "  \"/>\n",
       "<polyline clip-path=\"url(#clip103)\" style=\"stroke:#000000; stroke-width:2; stroke-opacity:0.1; fill:none\" points=\"\n",
       "  1553.94,1521.01 1553.94,62.9921 \n",
       "  \"/>\n",
       "<polyline clip-path=\"url(#clip103)\" style=\"stroke:#000000; stroke-width:2; stroke-opacity:0.1; fill:none\" points=\"\n",
       "  1711.87,1521.01 1711.87,62.9921 \n",
       "  \"/>\n",
       "<polyline clip-path=\"url(#clip103)\" style=\"stroke:#000000; stroke-width:2; stroke-opacity:0.1; fill:none\" points=\"\n",
       "  1869.8,1521.01 1869.8,62.9921 \n",
       "  \"/>\n",
       "<polyline clip-path=\"url(#clip103)\" style=\"stroke:#000000; stroke-width:2; stroke-opacity:0.1; fill:none\" points=\"\n",
       "  2027.73,1521.01 2027.73,62.9921 \n",
       "  \"/>\n",
       "<polyline clip-path=\"url(#clip103)\" style=\"stroke:#000000; stroke-width:2; stroke-opacity:0.1; fill:none\" points=\"\n",
       "  2185.67,1521.01 2185.67,62.9921 \n",
       "  \"/>\n",
       "<polyline clip-path=\"url(#clip103)\" style=\"stroke:#000000; stroke-width:2; stroke-opacity:0.1; fill:none\" points=\"\n",
       "  2343.6,1521.01 2343.6,62.9921 \n",
       "  \"/>\n",
       "<polyline clip-path=\"url(#clip100)\" style=\"stroke:#000000; stroke-width:4; stroke-opacity:1; fill:none\" points=\"\n",
       "  1286.99,1521.01 2352.76,1521.01 \n",
       "  \"/>\n",
       "<polyline clip-path=\"url(#clip100)\" style=\"stroke:#000000; stroke-width:4; stroke-opacity:1; fill:none\" points=\"\n",
       "  1396.01,1521.01 1396.01,1503.51 \n",
       "  \"/>\n",
       "<polyline clip-path=\"url(#clip100)\" style=\"stroke:#000000; stroke-width:4; stroke-opacity:1; fill:none\" points=\"\n",
       "  1553.94,1521.01 1553.94,1503.51 \n",
       "  \"/>\n",
       "<polyline clip-path=\"url(#clip100)\" style=\"stroke:#000000; stroke-width:4; stroke-opacity:1; fill:none\" points=\"\n",
       "  1711.87,1521.01 1711.87,1503.51 \n",
       "  \"/>\n",
       "<polyline clip-path=\"url(#clip100)\" style=\"stroke:#000000; stroke-width:4; stroke-opacity:1; fill:none\" points=\"\n",
       "  1869.8,1521.01 1869.8,1503.51 \n",
       "  \"/>\n",
       "<polyline clip-path=\"url(#clip100)\" style=\"stroke:#000000; stroke-width:4; stroke-opacity:1; fill:none\" points=\"\n",
       "  2027.73,1521.01 2027.73,1503.51 \n",
       "  \"/>\n",
       "<polyline clip-path=\"url(#clip100)\" style=\"stroke:#000000; stroke-width:4; stroke-opacity:1; fill:none\" points=\"\n",
       "  2185.67,1521.01 2185.67,1503.51 \n",
       "  \"/>\n",
       "<polyline clip-path=\"url(#clip100)\" style=\"stroke:#000000; stroke-width:4; stroke-opacity:1; fill:none\" points=\"\n",
       "  2343.6,1521.01 2343.6,1503.51 \n",
       "  \"/>\n",
       "<path clip-path=\"url(#clip100)\" d=\"M 0 0 M1374.99 1558.69 L1397.25 1558.69 L1397.25 1561.64 L1374.99 1561.64 L1374.99 1558.69 Z\" fill=\"#000000\" fill-rule=\"evenodd\" fill-opacity=\"1\" /><path clip-path=\"url(#clip100)\" d=\"M 0 0 M1411.67 1557.34 Q1414.19 1557.87 1415.6 1559.58 Q1417.02 1561.28 1417.02 1563.78 Q1417.02 1567.61 1414.38 1569.71 Q1411.74 1571.82 1406.88 1571.82 Q1405.25 1571.82 1403.51 1571.49 Q1401.8 1571.17 1399.95 1570.53 L1399.95 1567.15 Q1401.41 1568 1403.15 1568.43 Q1404.89 1568.86 1406.78 1568.86 Q1410.08 1568.86 1411.8 1567.56 Q1413.53 1566.26 1413.53 1563.78 Q1413.53 1561.49 1411.92 1560.2 Q1410.32 1558.9 1407.45 1558.9 L1404.43 1558.9 L1404.43 1556.02 L1407.59 1556.02 Q1410.18 1556.02 1411.55 1554.99 Q1412.92 1553.95 1412.92 1552.01 Q1412.92 1550.01 1411.5 1548.95 Q1410.09 1547.87 1407.45 1547.87 Q1406.01 1547.87 1404.36 1548.19 Q1402.72 1548.5 1400.74 1549.16 L1400.74 1546.03 Q1402.73 1545.48 1404.47 1545.2 Q1406.22 1544.92 1407.77 1544.92 Q1411.76 1544.92 1414.09 1546.75 Q1416.41 1548.55 1416.41 1551.64 Q1416.41 1553.79 1415.18 1555.29 Q1413.95 1556.76 1411.67 1557.34 Z\" fill=\"#000000\" fill-rule=\"evenodd\" fill-opacity=\"1\" /><path clip-path=\"url(#clip100)\" d=\"M 0 0 M1533.28 1558.69 L1555.53 1558.69 L1555.53 1561.64 L1533.28 1561.64 L1533.28 1558.69 Z\" fill=\"#000000\" fill-rule=\"evenodd\" fill-opacity=\"1\" /><path clip-path=\"url(#clip100)\" d=\"M 0 0 M1562.36 1568.36 L1574.6 1568.36 L1574.6 1571.31 L1558.14 1571.31 L1558.14 1568.36 Q1560.14 1566.29 1563.57 1562.82 Q1567.03 1559.33 1567.91 1558.33 Q1569.6 1556.43 1570.26 1555.13 Q1570.93 1553.81 1570.93 1552.54 Q1570.93 1550.48 1569.48 1549.18 Q1568.03 1547.87 1565.71 1547.87 Q1564.06 1547.87 1562.22 1548.45 Q1560.4 1549.02 1558.31 1550.18 L1558.31 1546.64 Q1560.43 1545.79 1562.27 1545.36 Q1564.11 1544.92 1565.64 1544.92 Q1569.67 1544.92 1572.06 1546.94 Q1574.46 1548.95 1574.46 1552.32 Q1574.46 1553.92 1573.85 1555.36 Q1573.26 1556.78 1571.68 1558.73 Q1571.25 1559.23 1568.92 1561.64 Q1566.59 1564.04 1562.36 1568.36 Z\" fill=\"#000000\" fill-rule=\"evenodd\" fill-opacity=\"1\" /><path clip-path=\"url(#clip100)\" d=\"M 0 0 M1691.07 1558.69 L1713.33 1558.69 L1713.33 1561.64 L1691.07 1561.64 L1691.07 1558.69 Z\" fill=\"#000000\" fill-rule=\"evenodd\" fill-opacity=\"1\" /><path clip-path=\"url(#clip100)\" d=\"M 0 0 M1717.74 1568.36 L1723.47 1568.36 L1723.47 1548.59 L1717.23 1549.84 L1717.23 1546.64 L1723.43 1545.39 L1726.94 1545.39 L1726.94 1568.36 L1732.67 1568.36 L1732.67 1571.31 L1717.74 1571.31 L1717.74 1568.36 Z\" fill=\"#000000\" fill-rule=\"evenodd\" fill-opacity=\"1\" /><path clip-path=\"url(#clip100)\" d=\"M 0 0 M1869.8 1547.7 Q1867.09 1547.7 1865.72 1550.37 Q1864.37 1553.03 1864.37 1558.38 Q1864.37 1563.71 1865.72 1566.38 Q1867.09 1569.04 1869.8 1569.04 Q1872.53 1569.04 1873.88 1566.38 Q1875.25 1563.71 1875.25 1558.38 Q1875.25 1553.03 1873.88 1550.37 Q1872.53 1547.7 1869.8 1547.7 M1869.8 1544.92 Q1874.16 1544.92 1876.45 1548.38 Q1878.76 1551.82 1878.76 1558.38 Q1878.76 1564.92 1876.45 1568.38 Q1874.16 1571.82 1869.8 1571.82 Q1865.44 1571.82 1863.13 1568.38 Q1860.84 1564.92 1860.84 1558.38 Q1860.84 1551.82 1863.13 1548.38 Q1865.44 1544.92 1869.8 1544.92 Z\" fill=\"#000000\" fill-rule=\"evenodd\" fill-opacity=\"1\" /><path clip-path=\"url(#clip100)\" d=\"M 0 0 M2020.52 1568.36 L2026.25 1568.36 L2026.25 1548.59 L2020.02 1549.84 L2020.02 1546.64 L2026.21 1545.39 L2029.72 1545.39 L2029.72 1568.36 L2035.45 1568.36 L2035.45 1571.31 L2020.52 1571.31 L2020.52 1568.36 Z\" fill=\"#000000\" fill-rule=\"evenodd\" fill-opacity=\"1\" /><path clip-path=\"url(#clip100)\" d=\"M 0 0 M2181.66 1568.36 L2193.89 1568.36 L2193.89 1571.31 L2177.44 1571.31 L2177.44 1568.36 Q2179.43 1566.29 2182.87 1562.82 Q2186.33 1559.33 2187.21 1558.33 Q2188.89 1556.43 2189.55 1555.13 Q2190.23 1553.81 2190.23 1552.54 Q2190.23 1550.48 2188.77 1549.18 Q2187.33 1547.87 2185.01 1547.87 Q2183.36 1547.87 2181.52 1548.45 Q2179.69 1549.02 2177.61 1550.18 L2177.61 1546.64 Q2179.73 1545.79 2181.57 1545.36 Q2183.41 1544.92 2184.94 1544.92 Q2188.96 1544.92 2191.36 1546.94 Q2193.76 1548.95 2193.76 1552.32 Q2193.76 1553.92 2193.15 1555.36 Q2192.56 1556.78 2190.98 1558.73 Q2190.54 1559.23 2188.22 1561.64 Q2185.89 1564.04 2181.66 1568.36 Z\" fill=\"#000000\" fill-rule=\"evenodd\" fill-opacity=\"1\" /><path clip-path=\"url(#clip100)\" d=\"M 0 0 M2346.78 1557.34 Q2349.3 1557.87 2350.71 1559.58 Q2352.13 1561.28 2352.13 1563.78 Q2352.13 1567.61 2349.49 1569.71 Q2346.85 1571.82 2341.99 1571.82 Q2340.36 1571.82 2338.62 1571.49 Q2336.91 1571.17 2335.06 1570.53 L2335.06 1567.15 Q2336.52 1568 2338.26 1568.43 Q2340 1568.86 2341.89 1568.86 Q2345.19 1568.86 2346.91 1567.56 Q2348.64 1566.26 2348.64 1563.78 Q2348.64 1561.49 2347.03 1560.2 Q2345.43 1558.9 2342.56 1558.9 L2339.54 1558.9 L2339.54 1556.02 L2342.7 1556.02 Q2345.29 1556.02 2346.66 1554.99 Q2348.03 1553.95 2348.03 1552.01 Q2348.03 1550.01 2346.61 1548.95 Q2345.2 1547.87 2342.56 1547.87 Q2341.12 1547.87 2339.47 1548.19 Q2337.83 1548.5 2335.85 1549.16 L2335.85 1546.03 Q2337.84 1545.48 2339.58 1545.2 Q2341.33 1544.92 2342.88 1544.92 Q2346.87 1544.92 2349.2 1546.75 Q2351.52 1548.55 2351.52 1551.64 Q2351.52 1553.79 2350.29 1555.29 Q2349.06 1556.76 2346.78 1557.34 Z\" fill=\"#000000\" fill-rule=\"evenodd\" fill-opacity=\"1\" /><polyline clip-path=\"url(#clip103)\" style=\"stroke:#000000; stroke-width:2; stroke-opacity:0.1; fill:none\" points=\"\n",
       "  1286.99,1377.01 2352.76,1377.01 \n",
       "  \"/>\n",
       "<polyline clip-path=\"url(#clip103)\" style=\"stroke:#000000; stroke-width:2; stroke-opacity:0.1; fill:none\" points=\"\n",
       "  1286.99,1108.55 2352.76,1108.55 \n",
       "  \"/>\n",
       "<polyline clip-path=\"url(#clip103)\" style=\"stroke:#000000; stroke-width:2; stroke-opacity:0.1; fill:none\" points=\"\n",
       "  1286.99,840.099 2352.76,840.099 \n",
       "  \"/>\n",
       "<polyline clip-path=\"url(#clip103)\" style=\"stroke:#000000; stroke-width:2; stroke-opacity:0.1; fill:none\" points=\"\n",
       "  1286.99,571.646 2352.76,571.646 \n",
       "  \"/>\n",
       "<polyline clip-path=\"url(#clip103)\" style=\"stroke:#000000; stroke-width:2; stroke-opacity:0.1; fill:none\" points=\"\n",
       "  1286.99,303.193 2352.76,303.193 \n",
       "  \"/>\n",
       "<polyline clip-path=\"url(#clip100)\" style=\"stroke:#000000; stroke-width:4; stroke-opacity:1; fill:none\" points=\"\n",
       "  1286.99,1521.01 1286.99,62.9921 \n",
       "  \"/>\n",
       "<polyline clip-path=\"url(#clip100)\" style=\"stroke:#000000; stroke-width:4; stroke-opacity:1; fill:none\" points=\"\n",
       "  1286.99,1377.01 1299.78,1377.01 \n",
       "  \"/>\n",
       "<polyline clip-path=\"url(#clip100)\" style=\"stroke:#000000; stroke-width:4; stroke-opacity:1; fill:none\" points=\"\n",
       "  1286.99,1108.55 1299.78,1108.55 \n",
       "  \"/>\n",
       "<polyline clip-path=\"url(#clip100)\" style=\"stroke:#000000; stroke-width:4; stroke-opacity:1; fill:none\" points=\"\n",
       "  1286.99,840.099 1299.78,840.099 \n",
       "  \"/>\n",
       "<polyline clip-path=\"url(#clip100)\" style=\"stroke:#000000; stroke-width:4; stroke-opacity:1; fill:none\" points=\"\n",
       "  1286.99,571.646 1299.78,571.646 \n",
       "  \"/>\n",
       "<polyline clip-path=\"url(#clip100)\" style=\"stroke:#000000; stroke-width:4; stroke-opacity:1; fill:none\" points=\"\n",
       "  1286.99,303.193 1299.78,303.193 \n",
       "  \"/>\n",
       "<path clip-path=\"url(#clip100)\" d=\"M 0 0 M1158.56 1377.46 L1188.24 1377.46 L1188.24 1381.39 L1158.56 1381.39 L1158.56 1377.46 Z\" fill=\"#000000\" fill-rule=\"evenodd\" fill-opacity=\"1\" /><path clip-path=\"url(#clip100)\" d=\"M 0 0 M1194.12 1390.35 L1201.76 1390.35 L1201.76 1363.98 L1193.45 1365.65 L1193.45 1361.39 L1201.71 1359.73 L1206.39 1359.73 L1206.39 1390.35 L1214.02 1390.35 L1214.02 1394.29 L1194.12 1394.29 L1194.12 1390.35 Z\" fill=\"#000000\" fill-rule=\"evenodd\" fill-opacity=\"1\" /><path clip-path=\"url(#clip100)\" d=\"M 0 0 M1219.09 1388.41 L1223.98 1388.41 L1223.98 1394.29 L1219.09 1394.29 L1219.09 1388.41 Z\" fill=\"#000000\" fill-rule=\"evenodd\" fill-opacity=\"1\" /><path clip-path=\"url(#clip100)\" d=\"M 0 0 M1239.05 1362.8 Q1235.44 1362.8 1233.61 1366.37 Q1231.8 1369.91 1231.8 1377.04 Q1231.8 1384.15 1233.61 1387.71 Q1235.44 1391.25 1239.05 1391.25 Q1242.68 1391.25 1244.49 1387.71 Q1246.32 1384.15 1246.32 1377.04 Q1246.32 1369.91 1244.49 1366.37 Q1242.68 1362.8 1239.05 1362.8 M1239.05 1359.1 Q1244.86 1359.1 1247.91 1363.71 Q1250.99 1368.29 1250.99 1377.04 Q1250.99 1385.77 1247.91 1390.37 Q1244.86 1394.96 1239.05 1394.96 Q1233.24 1394.96 1230.16 1390.37 Q1227.1 1385.77 1227.1 1377.04 Q1227.1 1368.29 1230.16 1363.71 Q1233.24 1359.1 1239.05 1359.1 Z\" fill=\"#000000\" fill-rule=\"evenodd\" fill-opacity=\"1\" /><path clip-path=\"url(#clip100)\" d=\"M 0 0 M1158.33 1109 L1188.01 1109 L1188.01 1112.94 L1158.33 1112.94 L1158.33 1109 Z\" fill=\"#000000\" fill-rule=\"evenodd\" fill-opacity=\"1\" /><path clip-path=\"url(#clip100)\" d=\"M 0 0 M1203.08 1094.35 Q1199.46 1094.35 1197.64 1097.92 Q1195.83 1101.46 1195.83 1108.59 Q1195.83 1115.69 1197.64 1119.26 Q1199.46 1122.8 1203.08 1122.8 Q1206.71 1122.8 1208.52 1119.26 Q1210.34 1115.69 1210.34 1108.59 Q1210.34 1101.46 1208.52 1097.92 Q1206.71 1094.35 1203.08 1094.35 M1203.08 1090.65 Q1208.89 1090.65 1211.94 1095.25 Q1215.02 1099.84 1215.02 1108.59 Q1215.02 1117.31 1211.94 1121.92 Q1208.89 1126.5 1203.08 1126.5 Q1197.27 1126.5 1194.19 1121.92 Q1191.13 1117.31 1191.13 1108.59 Q1191.13 1099.84 1194.19 1095.25 Q1197.27 1090.65 1203.08 1090.65 Z\" fill=\"#000000\" fill-rule=\"evenodd\" fill-opacity=\"1\" /><path clip-path=\"url(#clip100)\" d=\"M 0 0 M1220.09 1119.95 L1224.97 1119.95 L1224.97 1125.83 L1220.09 1125.83 L1220.09 1119.95 Z\" fill=\"#000000\" fill-rule=\"evenodd\" fill-opacity=\"1\" /><path clip-path=\"url(#clip100)\" d=\"M 0 0 M1230.09 1091.27 L1248.45 1091.27 L1248.45 1095.21 L1234.37 1095.21 L1234.37 1103.68 Q1235.39 1103.33 1236.41 1103.17 Q1237.43 1102.99 1238.45 1102.99 Q1244.23 1102.99 1247.61 1106.16 Q1250.99 1109.33 1250.99 1114.74 Q1250.99 1120.32 1247.52 1123.42 Q1244.05 1126.5 1237.73 1126.5 Q1235.55 1126.5 1233.28 1126.13 Q1231.04 1125.76 1228.63 1125.02 L1228.63 1120.32 Q1230.71 1121.46 1232.94 1122.01 Q1235.16 1122.57 1237.64 1122.57 Q1241.64 1122.57 1243.98 1120.46 Q1246.32 1118.36 1246.32 1114.74 Q1246.32 1111.13 1243.98 1109.03 Q1241.64 1106.92 1237.64 1106.92 Q1235.76 1106.92 1233.89 1107.34 Q1232.03 1107.75 1230.09 1108.63 L1230.09 1091.27 Z\" fill=\"#000000\" fill-rule=\"evenodd\" fill-opacity=\"1\" /><path clip-path=\"url(#clip100)\" d=\"M 0 0 M1202.08 825.898 Q1198.47 825.898 1196.64 829.463 Q1194.84 833.004 1194.84 840.134 Q1194.84 847.241 1196.64 850.805 Q1198.47 854.347 1202.08 854.347 Q1205.71 854.347 1207.52 850.805 Q1209.35 847.241 1209.35 840.134 Q1209.35 833.004 1207.52 829.463 Q1205.71 825.898 1202.08 825.898 M1202.08 822.194 Q1207.89 822.194 1210.95 826.801 Q1214.02 831.384 1214.02 840.134 Q1214.02 848.861 1210.95 853.467 Q1207.89 858.051 1202.08 858.051 Q1196.27 858.051 1193.19 853.467 Q1190.14 848.861 1190.14 840.134 Q1190.14 831.384 1193.19 826.801 Q1196.27 822.194 1202.08 822.194 Z\" fill=\"#000000\" fill-rule=\"evenodd\" fill-opacity=\"1\" /><path clip-path=\"url(#clip100)\" d=\"M 0 0 M1219.09 851.5 L1223.98 851.5 L1223.98 857.379 L1219.09 857.379 L1219.09 851.5 Z\" fill=\"#000000\" fill-rule=\"evenodd\" fill-opacity=\"1\" /><path clip-path=\"url(#clip100)\" d=\"M 0 0 M1239.05 825.898 Q1235.44 825.898 1233.61 829.463 Q1231.8 833.004 1231.8 840.134 Q1231.8 847.241 1233.61 850.805 Q1235.44 854.347 1239.05 854.347 Q1242.68 854.347 1244.49 850.805 Q1246.32 847.241 1246.32 840.134 Q1246.32 833.004 1244.49 829.463 Q1242.68 825.898 1239.05 825.898 M1239.05 822.194 Q1244.86 822.194 1247.91 826.801 Q1250.99 831.384 1250.99 840.134 Q1250.99 848.861 1247.91 853.467 Q1244.86 858.051 1239.05 858.051 Q1233.24 858.051 1230.16 853.467 Q1227.1 848.861 1227.1 840.134 Q1227.1 831.384 1230.16 826.801 Q1233.24 822.194 1239.05 822.194 Z\" fill=\"#000000\" fill-rule=\"evenodd\" fill-opacity=\"1\" /><path clip-path=\"url(#clip100)\" d=\"M 0 0 M1203.08 557.445 Q1199.46 557.445 1197.64 561.01 Q1195.83 564.551 1195.83 571.681 Q1195.83 578.788 1197.64 582.352 Q1199.46 585.894 1203.08 585.894 Q1206.71 585.894 1208.52 582.352 Q1210.34 578.788 1210.34 571.681 Q1210.34 564.551 1208.52 561.01 Q1206.71 557.445 1203.08 557.445 M1203.08 553.741 Q1208.89 553.741 1211.94 558.348 Q1215.02 562.931 1215.02 571.681 Q1215.02 580.408 1211.94 585.014 Q1208.89 589.598 1203.08 589.598 Q1197.27 589.598 1194.19 585.014 Q1191.13 580.408 1191.13 571.681 Q1191.13 562.931 1194.19 558.348 Q1197.27 553.741 1203.08 553.741 Z\" fill=\"#000000\" fill-rule=\"evenodd\" fill-opacity=\"1\" /><path clip-path=\"url(#clip100)\" d=\"M 0 0 M1220.09 583.047 L1224.97 583.047 L1224.97 588.926 L1220.09 588.926 L1220.09 583.047 Z\" fill=\"#000000\" fill-rule=\"evenodd\" fill-opacity=\"1\" /><path clip-path=\"url(#clip100)\" d=\"M 0 0 M1230.09 554.366 L1248.45 554.366 L1248.45 558.302 L1234.37 558.302 L1234.37 566.774 Q1235.39 566.426 1236.41 566.264 Q1237.43 566.079 1238.45 566.079 Q1244.23 566.079 1247.61 569.251 Q1250.99 572.422 1250.99 577.838 Q1250.99 583.417 1247.52 586.519 Q1244.05 589.598 1237.73 589.598 Q1235.55 589.598 1233.28 589.227 Q1231.04 588.857 1228.63 588.116 L1228.63 583.417 Q1230.71 584.551 1232.94 585.107 Q1235.16 585.662 1237.64 585.662 Q1241.64 585.662 1243.98 583.556 Q1246.32 581.45 1246.32 577.838 Q1246.32 574.227 1243.98 572.121 Q1241.64 570.014 1237.64 570.014 Q1235.76 570.014 1233.89 570.431 Q1232.03 570.848 1230.09 571.727 L1230.09 554.366 Z\" fill=\"#000000\" fill-rule=\"evenodd\" fill-opacity=\"1\" /><path clip-path=\"url(#clip100)\" d=\"M 0 0 M1194.12 316.538 L1201.76 316.538 L1201.76 290.173 L1193.45 291.839 L1193.45 287.58 L1201.71 285.913 L1206.39 285.913 L1206.39 316.538 L1214.02 316.538 L1214.02 320.473 L1194.12 320.473 L1194.12 316.538 Z\" fill=\"#000000\" fill-rule=\"evenodd\" fill-opacity=\"1\" /><path clip-path=\"url(#clip100)\" d=\"M 0 0 M1219.09 314.594 L1223.98 314.594 L1223.98 320.473 L1219.09 320.473 L1219.09 314.594 Z\" fill=\"#000000\" fill-rule=\"evenodd\" fill-opacity=\"1\" /><path clip-path=\"url(#clip100)\" d=\"M 0 0 M1239.05 288.992 Q1235.44 288.992 1233.61 292.557 Q1231.8 296.098 1231.8 303.228 Q1231.8 310.334 1233.61 313.899 Q1235.44 317.441 1239.05 317.441 Q1242.68 317.441 1244.49 313.899 Q1246.32 310.334 1246.32 303.228 Q1246.32 296.098 1244.49 292.557 Q1242.68 288.992 1239.05 288.992 M1239.05 285.288 Q1244.86 285.288 1247.91 289.895 Q1250.99 294.478 1250.99 303.228 Q1250.99 311.955 1247.91 316.561 Q1244.86 321.145 1239.05 321.145 Q1233.24 321.145 1230.16 316.561 Q1227.1 311.955 1227.1 303.228 Q1227.1 294.478 1230.16 289.895 Q1233.24 285.288 1239.05 285.288 Z\" fill=\"#000000\" fill-rule=\"evenodd\" fill-opacity=\"1\" /><path clip-path=\"url(#clip100)\" d=\"M 0 0 M1610.53 6.912 L1630.4 6.912 L1630.4 10.8472 L1615.21 10.8472 L1615.21 21.0323 L1628.91 21.0323 L1628.91 24.9675 L1615.21 24.9675 L1615.21 41.472 L1610.53 41.472 L1610.53 6.912 Z\" fill=\"#000000\" fill-rule=\"evenodd\" fill-opacity=\"1\" /><path clip-path=\"url(#clip100)\" d=\"M 0 0 M1631.83 31.2406 L1631.83 15.5462 L1636.09 15.5462 L1636.09 31.0785 Q1636.09 34.7591 1637.53 36.6109 Q1638.96 38.4396 1641.83 38.4396 Q1645.28 38.4396 1647.27 36.2405 Q1649.28 34.0415 1649.28 30.2452 L1649.28 15.5462 L1653.54 15.5462 L1653.54 41.472 L1649.28 41.472 L1649.28 37.4905 Q1647.73 39.8516 1645.67 41.009 Q1643.64 42.1433 1640.93 42.1433 Q1636.46 42.1433 1634.15 39.3655 Q1631.83 36.5878 1631.83 31.2406 M1642.55 14.9212 L1642.55 14.9212 Z\" fill=\"#000000\" fill-rule=\"evenodd\" fill-opacity=\"1\" /><path clip-path=\"url(#clip100)\" d=\"M 0 0 M1656.16 15.5462 L1676.39 15.5462 L1676.39 19.4351 L1660.37 38.0692 L1676.39 38.0692 L1676.39 41.472 L1655.58 41.472 L1655.58 37.5831 L1671.6 18.949 L1656.16 18.949 L1656.16 15.5462 Z\" fill=\"#000000\" fill-rule=\"evenodd\" fill-opacity=\"1\" /><path clip-path=\"url(#clip100)\" d=\"M 0 0 M1679.01 15.5462 L1699.24 15.5462 L1699.24 19.4351 L1683.22 38.0692 L1699.24 38.0692 L1699.24 41.472 L1678.43 41.472 L1678.43 37.5831 L1694.45 18.949 L1679.01 18.949 L1679.01 15.5462 Z\" fill=\"#000000\" fill-rule=\"evenodd\" fill-opacity=\"1\" /><path clip-path=\"url(#clip100)\" d=\"M 0 0 M1714.49 43.8794 Q1712.69 48.509 1710.97 49.921 Q1709.26 51.3331 1706.39 51.3331 L1702.99 51.3331 L1702.99 47.7683 L1705.49 47.7683 Q1707.25 47.7683 1708.22 46.9349 Q1709.19 46.1016 1710.37 42.9998 L1711.14 41.0553 L1700.65 15.5462 L1705.16 15.5462 L1713.27 35.8239 L1721.37 15.5462 L1725.88 15.5462 L1714.49 43.8794 Z\" fill=\"#000000\" fill-rule=\"evenodd\" fill-opacity=\"1\" /><path clip-path=\"url(#clip100)\" d=\"M 0 0 M1742.09 11.5185 L1735.74 28.7174 L1748.45 28.7174 L1742.09 11.5185 M1739.45 6.912 L1744.75 6.912 L1757.92 41.472 L1753.06 41.472 L1749.91 32.6063 L1734.33 32.6063 L1731.18 41.472 L1726.25 41.472 L1739.45 6.912 Z\" fill=\"#000000\" fill-rule=\"evenodd\" fill-opacity=\"1\" /><path clip-path=\"url(#clip100)\" d=\"M 0 0 M1778.96 25.2684 Q1780.46 25.7776 1781.88 27.4443 Q1783.31 29.111 1784.75 32.0276 L1789.49 41.472 L1784.47 41.472 L1780.05 32.6063 Q1778.33 29.1341 1776.71 27.9998 Q1775.12 26.8656 1772.34 26.8656 L1767.25 26.8656 L1767.25 41.472 L1762.57 41.472 L1762.57 6.912 L1773.13 6.912 Q1779.05 6.912 1781.97 9.38884 Q1784.89 11.8657 1784.89 16.8657 Q1784.89 20.1295 1783.36 22.2823 Q1781.85 24.4351 1778.96 25.2684 M1767.25 10.7546 L1767.25 23.023 L1773.13 23.023 Q1776.51 23.023 1778.22 21.4721 Q1779.96 19.898 1779.96 16.8657 Q1779.96 13.8333 1778.22 12.3055 Q1776.51 10.7546 1773.13 10.7546 L1767.25 10.7546 Z\" fill=\"#000000\" fill-rule=\"evenodd\" fill-opacity=\"1\" /><path clip-path=\"url(#clip100)\" d=\"M 0 0 M1785.9 6.912 L1815.14 6.912 L1815.14 10.8472 L1802.87 10.8472 L1802.87 41.472 L1798.17 41.472 L1798.17 10.8472 L1785.9 10.8472 L1785.9 6.912 Z\" fill=\"#000000\" fill-rule=\"evenodd\" fill-opacity=\"1\" /><path clip-path=\"url(#clip100)\" d=\"M 0 0 M1849.7 19.5277 Q1848.98 19.111 1848.13 18.9258 Q1847.29 18.7175 1846.27 18.7175 Q1842.66 18.7175 1840.72 21.0786 Q1838.8 23.4165 1838.8 27.8147 L1838.8 41.472 L1834.52 41.472 L1834.52 15.5462 L1838.8 15.5462 L1838.8 19.574 Q1840.14 17.2129 1842.29 16.0786 Q1844.45 14.9212 1847.52 14.9212 Q1847.96 14.9212 1848.5 14.9907 Q1849.03 15.037 1849.68 15.1527 L1849.7 19.5277 Z\" fill=\"#000000\" fill-rule=\"evenodd\" fill-opacity=\"1\" /><path clip-path=\"url(#clip100)\" d=\"M 0 0 M1874.89 25.8239 L1874.89 41.472 L1870.63 41.472 L1870.63 25.9628 Q1870.63 22.2823 1869.19 20.4536 Q1867.76 18.6249 1864.89 18.6249 Q1861.44 18.6249 1859.45 20.824 Q1857.45 23.023 1857.45 26.8193 L1857.45 41.472 L1853.17 41.472 L1853.17 5.45367 L1857.45 5.45367 L1857.45 19.574 Q1858.98 17.236 1861.04 16.0786 Q1863.13 14.9212 1865.83 14.9212 Q1870.3 14.9212 1872.59 17.699 Q1874.89 20.4536 1874.89 25.8239 Z\" fill=\"#000000\" fill-rule=\"evenodd\" fill-opacity=\"1\" /><path clip-path=\"url(#clip100)\" d=\"M 0 0 M1889.4 18.5323 Q1885.97 18.5323 1883.98 21.2175 Q1881.99 23.8795 1881.99 28.5323 Q1881.99 33.185 1883.96 35.8702 Q1885.95 38.5322 1889.4 38.5322 Q1892.8 38.5322 1894.79 35.847 Q1896.78 33.1619 1896.78 28.5323 Q1896.78 23.9258 1894.79 21.2406 Q1892.8 18.5323 1889.4 18.5323 M1889.4 14.9212 Q1894.95 14.9212 1898.13 18.5323 Q1901.3 22.1434 1901.3 28.5323 Q1901.3 34.898 1898.13 38.5322 Q1894.95 42.1433 1889.4 42.1433 Q1883.82 42.1433 1880.65 38.5322 Q1877.5 34.898 1877.5 28.5323 Q1877.5 22.1434 1880.65 18.5323 Q1883.82 14.9212 1889.4 14.9212 Z\" fill=\"#000000\" fill-rule=\"evenodd\" fill-opacity=\"1\" /><path clip-path=\"url(#clip100)\" d=\"M 0 0 M1921.39 19.9443 L1951.07 19.9443 L1951.07 23.8332 L1921.39 23.8332 L1921.39 19.9443 M1921.39 29.3887 L1951.07 29.3887 L1951.07 33.3239 L1921.39 33.3239 L1921.39 29.3887 Z\" fill=\"#000000\" fill-rule=\"evenodd\" fill-opacity=\"1\" /><path clip-path=\"url(#clip100)\" d=\"M 0 0 M1981.2 9.99069 Q1977.59 9.99069 1975.76 13.5555 Q1973.96 17.0971 1973.96 24.2267 Q1973.96 31.3332 1975.76 34.898 Q1977.59 38.4396 1981.2 38.4396 Q1984.84 38.4396 1986.64 34.898 Q1988.47 31.3332 1988.47 24.2267 Q1988.47 17.0971 1986.64 13.5555 Q1984.84 9.99069 1981.2 9.99069 M1981.2 6.287 Q1987.01 6.287 1990.07 10.8935 Q1993.15 15.4768 1993.15 24.2267 Q1993.15 32.9535 1990.07 37.56 Q1987.01 42.1433 1981.2 42.1433 Q1975.39 42.1433 1972.32 37.56 Q1969.26 32.9535 1969.26 24.2267 Q1969.26 15.4768 1972.32 10.8935 Q1975.39 6.287 1981.2 6.287 Z\" fill=\"#000000\" fill-rule=\"evenodd\" fill-opacity=\"1\" /><path clip-path=\"url(#clip100)\" d=\"M 0 0 M1998.22 35.5924 L2003.1 35.5924 L2003.1 41.472 L1998.22 41.472 L1998.22 35.5924 Z\" fill=\"#000000\" fill-rule=\"evenodd\" fill-opacity=\"1\" /><path clip-path=\"url(#clip100)\" d=\"M 0 0 M2006.99 6.912 L2029.21 6.912 L2029.21 8.90273 L2016.67 41.472 L2011.78 41.472 L2023.59 10.8472 L2006.99 10.8472 L2006.99 6.912 Z\" fill=\"#000000\" fill-rule=\"evenodd\" fill-opacity=\"1\" /><circle clip-path=\"url(#clip103)\" cx=\"2318.38\" cy=\"958.528\" r=\"14\" fill=\"#009af9\" fill-rule=\"evenodd\" fill-opacity=\"1\" stroke=\"#000000\" stroke-opacity=\"1\" stroke-width=\"3.2\"/>\n",
       "<circle clip-path=\"url(#clip103)\" cx=\"2322.59\" cy=\"798.654\" r=\"14\" fill=\"#009af9\" fill-rule=\"evenodd\" fill-opacity=\"1\" stroke=\"#000000\" stroke-opacity=\"1\" stroke-width=\"3.2\"/>\n",
       "<circle clip-path=\"url(#clip103)\" cx=\"2278.43\" cy=\"560.654\" r=\"14\" fill=\"#009af9\" fill-rule=\"evenodd\" fill-opacity=\"1\" stroke=\"#000000\" stroke-opacity=\"1\" stroke-width=\"3.2\"/>\n",
       "<circle clip-path=\"url(#clip103)\" cx=\"2283.98\" cy=\"400.862\" r=\"14\" fill=\"#009af9\" fill-rule=\"evenodd\" fill-opacity=\"1\" stroke=\"#000000\" stroke-opacity=\"1\" stroke-width=\"3.2\"/>\n",
       "<circle clip-path=\"url(#clip103)\" cx=\"2284.41\" cy=\"514.305\" r=\"14\" fill=\"#009af9\" fill-rule=\"evenodd\" fill-opacity=\"1\" stroke=\"#000000\" stroke-opacity=\"1\" stroke-width=\"3.2\"/>\n",
       "<circle clip-path=\"url(#clip103)\" cx=\"2249.71\" cy=\"734.91\" r=\"14\" fill=\"#009af9\" fill-rule=\"evenodd\" fill-opacity=\"1\" stroke=\"#000000\" stroke-opacity=\"1\" stroke-width=\"3.2\"/>\n",
       "<circle clip-path=\"url(#clip103)\" cx=\"2265.88\" cy=\"914.76\" r=\"14\" fill=\"#009af9\" fill-rule=\"evenodd\" fill-opacity=\"1\" stroke=\"#000000\" stroke-opacity=\"1\" stroke-width=\"3.2\"/>\n",
       "<circle clip-path=\"url(#clip103)\" cx=\"2265.66\" cy=\"490.072\" r=\"14\" fill=\"#009af9\" fill-rule=\"evenodd\" fill-opacity=\"1\" stroke=\"#000000\" stroke-opacity=\"1\" stroke-width=\"3.2\"/>\n",
       "<circle clip-path=\"url(#clip103)\" cx=\"2288.06\" cy=\"668.753\" r=\"14\" fill=\"#009af9\" fill-rule=\"evenodd\" fill-opacity=\"1\" stroke=\"#000000\" stroke-opacity=\"1\" stroke-width=\"3.2\"/>\n",
       "<circle clip-path=\"url(#clip103)\" cx=\"2259.74\" cy=\"766.067\" r=\"14\" fill=\"#009af9\" fill-rule=\"evenodd\" fill-opacity=\"1\" stroke=\"#000000\" stroke-opacity=\"1\" stroke-width=\"3.2\"/>\n",
       "<circle clip-path=\"url(#clip103)\" cx=\"2292.09\" cy=\"897.383\" r=\"14\" fill=\"#009af9\" fill-rule=\"evenodd\" fill-opacity=\"1\" stroke=\"#000000\" stroke-opacity=\"1\" stroke-width=\"3.2\"/>\n",
       "<circle clip-path=\"url(#clip103)\" cx=\"2307.3\" cy=\"694.566\" r=\"14\" fill=\"#009af9\" fill-rule=\"evenodd\" fill-opacity=\"1\" stroke=\"#000000\" stroke-opacity=\"1\" stroke-width=\"3.2\"/>\n",
       "<circle clip-path=\"url(#clip103)\" cx=\"2229.87\" cy=\"438.61\" r=\"14\" fill=\"#009af9\" fill-rule=\"evenodd\" fill-opacity=\"1\" stroke=\"#000000\" stroke-opacity=\"1\" stroke-width=\"3.2\"/>\n",
       "<circle clip-path=\"url(#clip103)\" cx=\"2298.65\" cy=\"931.135\" r=\"14\" fill=\"#009af9\" fill-rule=\"evenodd\" fill-opacity=\"1\" stroke=\"#000000\" stroke-opacity=\"1\" stroke-width=\"3.2\"/>\n",
       "<circle clip-path=\"url(#clip103)\" cx=\"2270.57\" cy=\"566.08\" r=\"14\" fill=\"#009af9\" fill-rule=\"evenodd\" fill-opacity=\"1\" stroke=\"#000000\" stroke-opacity=\"1\" stroke-width=\"3.2\"/>\n",
       "<circle clip-path=\"url(#clip103)\" cx=\"1822.77\" cy=\"1026.41\" r=\"14\" fill=\"#e26f46\" fill-rule=\"evenodd\" fill-opacity=\"1\" stroke=\"#000000\" stroke-opacity=\"1\" stroke-width=\"3.2\"/>\n",
       "<circle clip-path=\"url(#clip103)\" cx=\"1841.22\" cy=\"1283.37\" r=\"14\" fill=\"#e26f46\" fill-rule=\"evenodd\" fill-opacity=\"1\" stroke=\"#000000\" stroke-opacity=\"1\" stroke-width=\"3.2\"/>\n",
       "<circle clip-path=\"url(#clip103)\" cx=\"1757.04\" cy=\"759.36\" r=\"14\" fill=\"#e26f46\" fill-rule=\"evenodd\" fill-opacity=\"1\" stroke=\"#000000\" stroke-opacity=\"1\" stroke-width=\"3.2\"/>\n",
       "<circle clip-path=\"url(#clip103)\" cx=\"1666.89\" cy=\"472.083\" r=\"14\" fill=\"#e26f46\" fill-rule=\"evenodd\" fill-opacity=\"1\" stroke=\"#000000\" stroke-opacity=\"1\" stroke-width=\"3.2\"/>\n",
       "<circle clip-path=\"url(#clip103)\" cx=\"1705.03\" cy=\"717.171\" r=\"14\" fill=\"#e26f46\" fill-rule=\"evenodd\" fill-opacity=\"1\" stroke=\"#000000\" stroke-opacity=\"1\" stroke-width=\"3.2\"/>\n",
       "<circle clip-path=\"url(#clip103)\" cx=\"1981.47\" cy=\"1381.53\" r=\"14\" fill=\"#e26f46\" fill-rule=\"evenodd\" fill-opacity=\"1\" stroke=\"#000000\" stroke-opacity=\"1\" stroke-width=\"3.2\"/>\n",
       "<circle clip-path=\"url(#clip103)\" cx=\"1638.58\" cy=\"569.397\" r=\"14\" fill=\"#e26f46\" fill-rule=\"evenodd\" fill-opacity=\"1\" stroke=\"#000000\" stroke-opacity=\"1\" stroke-width=\"3.2\"/>\n",
       "<circle clip-path=\"url(#clip103)\" cx=\"1765.63\" cy=\"1029.08\" r=\"14\" fill=\"#e26f46\" fill-rule=\"evenodd\" fill-opacity=\"1\" stroke=\"#000000\" stroke-opacity=\"1\" stroke-width=\"3.2\"/>\n",
       "<circle clip-path=\"url(#clip103)\" cx=\"1729.22\" cy=\"858.253\" r=\"14\" fill=\"#e26f46\" fill-rule=\"evenodd\" fill-opacity=\"1\" stroke=\"#000000\" stroke-opacity=\"1\" stroke-width=\"3.2\"/>\n",
       "<circle clip-path=\"url(#clip103)\" cx=\"1833.65\" cy=\"1056.07\" r=\"14\" fill=\"#e26f46\" fill-rule=\"evenodd\" fill-opacity=\"1\" stroke=\"#000000\" stroke-opacity=\"1\" stroke-width=\"3.2\"/>\n",
       "<circle clip-path=\"url(#clip103)\" cx=\"1862.97\" cy=\"1152.3\" r=\"14\" fill=\"#e26f46\" fill-rule=\"evenodd\" fill-opacity=\"1\" stroke=\"#000000\" stroke-opacity=\"1\" stroke-width=\"3.2\"/>\n",
       "<circle clip-path=\"url(#clip103)\" cx=\"1741.42\" cy=\"1039.12\" r=\"14\" fill=\"#3da44d\" fill-rule=\"evenodd\" fill-opacity=\"1\" stroke=\"#000000\" stroke-opacity=\"1\" stroke-width=\"3.2\"/>\n",
       "<circle clip-path=\"url(#clip103)\" cx=\"1421.12\" cy=\"639.972\" r=\"14\" fill=\"#3da44d\" fill-rule=\"evenodd\" fill-opacity=\"1\" stroke=\"#000000\" stroke-opacity=\"1\" stroke-width=\"3.2\"/>\n",
       "<circle clip-path=\"url(#clip103)\" cx=\"1665.05\" cy=\"1015.97\" r=\"14\" fill=\"#3da44d\" fill-rule=\"evenodd\" fill-opacity=\"1\" stroke=\"#000000\" stroke-opacity=\"1\" stroke-width=\"3.2\"/>\n",
       "<circle clip-path=\"url(#clip103)\" cx=\"1566.18\" cy=\"620.359\" r=\"14\" fill=\"#3da44d\" fill-rule=\"evenodd\" fill-opacity=\"1\" stroke=\"#000000\" stroke-opacity=\"1\" stroke-width=\"3.2\"/>\n",
       "<circle clip-path=\"url(#clip103)\" cx=\"1619.44\" cy=\"1129.66\" r=\"14\" fill=\"#3da44d\" fill-rule=\"evenodd\" fill-opacity=\"1\" stroke=\"#000000\" stroke-opacity=\"1\" stroke-width=\"3.2\"/>\n",
       "<circle clip-path=\"url(#clip103)\" cx=\"1720.97\" cy=\"1131.01\" r=\"14\" fill=\"#3da44d\" fill-rule=\"evenodd\" fill-opacity=\"1\" stroke=\"#000000\" stroke-opacity=\"1\" stroke-width=\"3.2\"/>\n",
       "<circle clip-path=\"url(#clip103)\" cx=\"1650.64\" cy=\"949.645\" r=\"14\" fill=\"#3da44d\" fill-rule=\"evenodd\" fill-opacity=\"1\" stroke=\"#000000\" stroke-opacity=\"1\" stroke-width=\"3.2\"/>\n",
       "<circle clip-path=\"url(#clip103)\" cx=\"1504.3\" cy=\"742.056\" r=\"14\" fill=\"#3da44d\" fill-rule=\"evenodd\" fill-opacity=\"1\" stroke=\"#000000\" stroke-opacity=\"1\" stroke-width=\"3.2\"/>\n",
       "<circle clip-path=\"url(#clip103)\" cx=\"1464.97\" cy=\"691.927\" r=\"14\" fill=\"#3da44d\" fill-rule=\"evenodd\" fill-opacity=\"1\" stroke=\"#000000\" stroke-opacity=\"1\" stroke-width=\"3.2\"/>\n",
       "<circle clip-path=\"url(#clip103)\" cx=\"1646.47\" cy=\"1148.78\" r=\"14\" fill=\"#3da44d\" fill-rule=\"evenodd\" fill-opacity=\"1\" stroke=\"#000000\" stroke-opacity=\"1\" stroke-width=\"3.2\"/>\n",
       "<circle clip-path=\"url(#clip103)\" cx=\"1665.96\" cy=\"902.609\" r=\"14\" fill=\"#3da44d\" fill-rule=\"evenodd\" fill-opacity=\"1\" stroke=\"#000000\" stroke-opacity=\"1\" stroke-width=\"3.2\"/>\n",
       "<circle clip-path=\"url(#clip103)\" cx=\"1561.95\" cy=\"818.231\" r=\"14\" fill=\"#3da44d\" fill-rule=\"evenodd\" fill-opacity=\"1\" stroke=\"#000000\" stroke-opacity=\"1\" stroke-width=\"3.2\"/>\n",
       "<circle clip-path=\"url(#clip103)\" cx=\"1317.16\" cy=\"594.855\" r=\"14\" fill=\"#3da44d\" fill-rule=\"evenodd\" fill-opacity=\"1\" stroke=\"#000000\" stroke-opacity=\"1\" stroke-width=\"3.2\"/>\n",
       "<circle clip-path=\"url(#clip103)\" cx=\"1359.31\" cy=\"104.257\" r=\"14\" fill=\"#3da44d\" fill-rule=\"evenodd\" fill-opacity=\"1\" stroke=\"#000000\" stroke-opacity=\"1\" stroke-width=\"3.2\"/>\n",
       "<circle clip-path=\"url(#clip103)\" cx=\"1492.73\" cy=\"591.77\" r=\"14\" fill=\"#3da44d\" fill-rule=\"evenodd\" fill-opacity=\"1\" stroke=\"#000000\" stroke-opacity=\"1\" stroke-width=\"3.2\"/>\n",
       "<circle clip-path=\"url(#clip103)\" cx=\"1585.15\" cy=\"956.154\" r=\"14\" fill=\"#3da44d\" fill-rule=\"evenodd\" fill-opacity=\"1\" stroke=\"#000000\" stroke-opacity=\"1\" stroke-width=\"3.2\"/>\n",
       "<circle clip-path=\"url(#clip103)\" cx=\"1787.77\" cy=\"1479.74\" r=\"14\" fill=\"#3da44d\" fill-rule=\"evenodd\" fill-opacity=\"1\" stroke=\"#000000\" stroke-opacity=\"1\" stroke-width=\"3.2\"/>\n",
       "<circle clip-path=\"url(#clip103)\" cx=\"1693.51\" cy=\"885.314\" r=\"14\" fill=\"#3da44d\" fill-rule=\"evenodd\" fill-opacity=\"1\" stroke=\"#000000\" stroke-opacity=\"1\" stroke-width=\"3.2\"/>\n",
       "<circle clip-path=\"url(#clip103)\" cx=\"1406.74\" cy=\"650.906\" r=\"14\" fill=\"#3da44d\" fill-rule=\"evenodd\" fill-opacity=\"1\" stroke=\"#000000\" stroke-opacity=\"1\" stroke-width=\"3.2\"/>\n",
       "</svg>\n"
      ]
     },
     "metadata": {},
     "execution_count": 19
    }
   ],
   "cell_type": "code",
   "source": [
    "p1 = scatter(X_test_pca[1,:], X_test_pca[2,:], group=y_hat_1, title=@sprintf \"FuzzyART rho = %.1f\" rho_1)\n",
    "p2 = scatter(X_test_pca[1,:], X_test_pca[2,:], group=y_hat_2, title=@sprintf \"FuzzyART rho = %.1f\" rho_2)\n",
    "plot(p1, p2, layout=(1, 2), legend = false, xtickfontsize=6, xguidefontsize=8, titlefont=font(8))"
   ],
   "metadata": {},
   "execution_count": 19
  },
  {
   "cell_type": "markdown",
   "source": [
    "---\n",
    "\n",
    "*This notebook was generated using [Literate.jl](https://github.com/fredrikekre/Literate.jl).*"
   ],
   "metadata": {}
  }
 ],
 "nbformat_minor": 3,
 "metadata": {
  "language_info": {
   "file_extension": ".jl",
   "mimetype": "application/julia",
   "name": "julia",
   "version": "1.4.2"
  },
  "kernelspec": {
   "name": "julia-1.4",
   "display_name": "Julia 1.4.2",
   "language": "julia"
  }
 },
 "nbformat": 4
}
